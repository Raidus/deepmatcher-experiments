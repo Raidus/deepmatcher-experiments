{
 "cells": [
  {
   "cell_type": "code",
   "execution_count": 1,
   "metadata": {
    "ExecuteTime": {
     "end_time": "2020-04-27T16:38:59.276385Z",
     "start_time": "2020-04-27T16:38:59.256240Z"
    }
   },
   "outputs": [],
   "source": [
    "%load_ext autoreload\n",
    "%autoreload 2"
   ]
  },
  {
   "cell_type": "code",
   "execution_count": 2,
   "metadata": {
    "ExecuteTime": {
     "end_time": "2020-04-27T16:39:01.711368Z",
     "start_time": "2020-04-27T16:39:00.151300Z"
    }
   },
   "outputs": [],
   "source": [
    "import deepmatcher as dm\n",
    "import pandas as pd\n",
    "import numpy as np\n",
    "from utils.triangles_method import explainSamples\n",
    "from utils.deepmatcher_utils import wrapDm\n",
    "from collections import OrderedDict\n",
    "import matplotlib.pyplot as plt"
   ]
  },
  {
   "cell_type": "code",
   "execution_count": 3,
   "metadata": {
    "ExecuteTime": {
     "end_time": "2020-03-28T16:51:55.202518Z",
     "start_time": "2020-03-28T16:51:55.157727Z"
    }
   },
   "outputs": [],
   "source": [
    "def extendDatasets(DATA_DIR,newNegatives,newPositives):\n",
    "    newNegatives.drop(['ltable_id','rtable_id','alteredAttributes'],axis=1)\n",
    "    newPositives.drop(['ltable_id','rtable_id','alteredAttributes'],axis=1)\n",
    "    newNegatives['label'] = [0]*len(newNegatives)\n",
    "    newPositives['label'] = [1]*len(newPositives)\n",
    "    negatives = pd.read_csv (DATA_DIR+'negatives.csv')\n",
    "    positives = pd.read_csv(DATA_DIR+'positives.csv')\n",
    "    newNegatives = newNegatives[negatives.columns]\n",
    "    newPositives = newPositives[positives.columns]\n",
    "    extendedPos = pd.concat([positives,newPositives],ignore_index=True)\n",
    "    extendedNeg = pd.concat([negatives,newNegatives],ignore_index=True)\n",
    "    extendedPos['id'] = np.arange(len(extendedPos))\n",
    "    extendedNeg['id'] = np.arange(len(extendedNeg))\n",
    "    return extendedNeg,extendedPos"
   ]
  },
  {
   "cell_type": "code",
   "execution_count": 5,
   "metadata": {
    "ExecuteTime": {
     "end_time": "2020-04-27T16:39:33.757734Z",
     "start_time": "2020-04-27T16:39:33.720850Z"
    }
   },
   "outputs": [],
   "source": [
    "predict_fn = lambda data,model,ignore:wrapDm(data,model,ignore_columns=ignore,batch_size=1)"
   ]
  },
  {
   "cell_type": "markdown",
   "metadata": {},
   "source": [
    "# Calculate rankings"
   ]
  },
  {
   "cell_type": "markdown",
   "metadata": {},
   "source": [
    "## Itunes-Amazon"
   ]
  },
  {
   "cell_type": "code",
   "execution_count": 14,
   "metadata": {
    "ExecuteTime": {
     "end_time": "2020-04-27T17:02:34.527628Z",
     "start_time": "2020-04-27T17:02:33.577420Z"
    }
   },
   "outputs": [],
   "source": [
    "itunes_model = dm.MatchingModel(attr_summarizer='hybrid')\n",
    "itunes_model.load_state('models/itunes_amazon_hybrid.pth')\n",
    "itunes_model = itunes_model.to('cuda')"
   ]
  },
  {
   "cell_type": "code",
   "execution_count": 15,
   "metadata": {
    "ExecuteTime": {
     "end_time": "2020-04-27T17:02:40.717054Z",
     "start_time": "2020-04-27T17:02:40.481768Z"
    }
   },
   "outputs": [],
   "source": [
    "ITUNES_DIR = 'datasets/Structured/itunes-amazon/'\n",
    "test_df = pd.read_csv(ITUNES_DIR+'augmented_test.csv')\n",
    "tableA_itunes = pd.read_csv(ITUNES_DIR+'tableA.csv',dtype=str)\n",
    "tableB_itunes = pd.read_csv(ITUNES_DIR+'tableB.csv',dtype=str)"
   ]
  },
  {
   "cell_type": "code",
   "execution_count": 16,
   "metadata": {
    "ExecuteTime": {
     "end_time": "2020-04-27T17:09:05.440554Z",
     "start_time": "2020-04-27T17:03:12.575655Z"
    }
   },
   "outputs": [
    {
     "name": "stderr",
     "output_type": "stream",
     "text": [
      "100%|██████████| 63/63 [05:25<00:00,  5.17s/it]\n"
     ]
    }
   ],
   "source": [
    "neg_rankings_itunes,flipped_neg_itunes = explainSamples(test_df,[tableA_itunes,tableB_itunes],itunes_model,\n",
    "                                                        predict_fn,originalClass=0,maxLenAttributeSet=2)"
   ]
  },
  {
   "cell_type": "code",
   "execution_count": 23,
   "metadata": {
    "ExecuteTime": {
     "end_time": "2020-04-27T17:23:14.190466Z",
     "start_time": "2020-04-27T17:17:29.757921Z"
    }
   },
   "outputs": [
    {
     "name": "stderr",
     "output_type": "stream",
     "text": [
      "100%|██████████| 63/63 [05:18<00:00,  5.06s/it]\n"
     ]
    }
   ],
   "source": [
    "pos_rankings_itunes,flippedPos_itunes = explainSamples(test_df,[tableA_itunes,tableB_itunes],itunes_model,\n",
    "                                                                             predict_fn,1,2)"
   ]
  },
  {
   "cell_type": "code",
   "execution_count": 20,
   "metadata": {
    "ExecuteTime": {
     "end_time": "2020-04-27T17:16:06.813545Z",
     "start_time": "2020-04-27T17:16:06.760425Z"
    },
    "scrolled": true
   },
   "outputs": [
    {
     "data": {
      "text/plain": [
       "Song_Name                 0.190476\n",
       "Artist_Name               0.047619\n",
       "Album_Name                0.079365\n",
       "Genre                     0.047619\n",
       "Price                     0.142857\n",
       "CopyRight                 0.047619\n",
       "Time                      0.476190\n",
       "Released                  0.031746\n",
       "Song_Name/Artist_Name     0.222222\n",
       "Song_Name/Album_Name      0.317460\n",
       "Song_Name/Genre           0.190476\n",
       "Song_Name/Price           0.349206\n",
       "Song_Name/CopyRight       0.190476\n",
       "Song_Name/Time            0.746032\n",
       "Song_Name/Released        0.190476\n",
       "Artist_Name/Album_Name    0.095238\n",
       "Artist_Name/Genre         0.047619\n",
       "Artist_Name/Price         0.142857\n",
       "Artist_Name/CopyRight     0.047619\n",
       "Artist_Name/Time          0.523810\n",
       "Artist_Name/Released      0.047619\n",
       "Album_Name/Genre          0.095238\n",
       "Album_Name/Price          0.222222\n",
       "Album_Name/CopyRight      0.079365\n",
       "Album_Name/Time           0.571429\n",
       "Album_Name/Released       0.079365\n",
       "Genre/Price               0.142857\n",
       "Genre/CopyRight           0.047619\n",
       "Genre/Time                0.492063\n",
       "Genre/Released            0.047619\n",
       "Price/CopyRight           0.142857\n",
       "Price/Time                0.619048\n",
       "Price/Released            0.142857\n",
       "CopyRight/Time            0.492063\n",
       "CopyRight/Released        0.047619\n",
       "Time/Released             0.460317\n",
       "dtype: float64"
      ]
     },
     "execution_count": 20,
     "metadata": {},
     "output_type": "execute_result"
    }
   ],
   "source": [
    "neg_rankings_itunes"
   ]
  },
  {
   "cell_type": "code",
   "execution_count": 24,
   "metadata": {
    "ExecuteTime": {
     "end_time": "2020-04-27T17:24:41.030703Z",
     "start_time": "2020-04-27T17:24:40.996792Z"
    }
   },
   "outputs": [
    {
     "data": {
      "text/plain": [
       "Song_Name                 0.285714\n",
       "Artist_Name               0.047619\n",
       "Album_Name                0.126984\n",
       "Genre                     0.015873\n",
       "Price                     0.126984\n",
       "CopyRight                 0.031746\n",
       "Time                      0.492063\n",
       "Released                  0.031746\n",
       "Song_Name/Artist_Name     0.301587\n",
       "Song_Name/Album_Name      0.317460\n",
       "Song_Name/Genre           0.285714\n",
       "Song_Name/Price           0.380952\n",
       "Song_Name/CopyRight       0.285714\n",
       "Song_Name/Time            0.746032\n",
       "Song_Name/Released        0.269841\n",
       "Artist_Name/Album_Name    0.126984\n",
       "Artist_Name/Genre         0.031746\n",
       "Artist_Name/Price         0.126984\n",
       "Artist_Name/CopyRight     0.047619\n",
       "Artist_Name/Time          0.492063\n",
       "Artist_Name/Released      0.031746\n",
       "Album_Name/Genre          0.126984\n",
       "Album_Name/Price          0.206349\n",
       "Album_Name/CopyRight      0.111111\n",
       "Album_Name/Time           0.587302\n",
       "Album_Name/Released       0.111111\n",
       "Genre/Price               0.111111\n",
       "Genre/CopyRight           0.015873\n",
       "Genre/Time                0.460317\n",
       "Genre/Released            0.015873\n",
       "Price/CopyRight           0.111111\n",
       "Price/Time                0.666667\n",
       "Price/Released            0.111111\n",
       "CopyRight/Time            0.492063\n",
       "CopyRight/Released        0.015873\n",
       "Time/Released             0.492063\n",
       "dtype: float64"
      ]
     },
     "execution_count": 24,
     "metadata": {},
     "output_type": "execute_result"
    }
   ],
   "source": [
    "pos_rankings_itunes"
   ]
  },
  {
   "cell_type": "markdown",
   "metadata": {},
   "source": [
    "### Retrain model"
   ]
  },
  {
   "cell_type": "code",
   "execution_count": 81,
   "metadata": {
    "ExecuteTime": {
     "end_time": "2020-02-06T15:06:10.274061Z",
     "start_time": "2020-02-06T15:06:09.953341Z"
    }
   },
   "outputs": [],
   "source": [
    "augmented_train = prepareDataset(train_df,tableA_itunes,tableB_itunes,40)"
   ]
  },
  {
   "cell_type": "code",
   "execution_count": 82,
   "metadata": {
    "ExecuteTime": {
     "end_time": "2020-02-06T15:06:11.106125Z",
     "start_time": "2020-02-06T15:06:11.072734Z"
    }
   },
   "outputs": [
    {
     "data": {
      "text/plain": [
       "321"
      ]
     },
     "execution_count": 82,
     "metadata": {},
     "output_type": "execute_result"
    }
   ],
   "source": [
    "len(train_df)"
   ]
  },
  {
   "cell_type": "code",
   "execution_count": 83,
   "metadata": {
    "ExecuteTime": {
     "end_time": "2020-02-06T15:06:11.514520Z",
     "start_time": "2020-02-06T15:06:11.474508Z"
    }
   },
   "outputs": [
    {
     "data": {
      "text/plain": [
       "339"
      ]
     },
     "execution_count": 83,
     "metadata": {},
     "output_type": "execute_result"
    }
   ],
   "source": [
    "len(augmented_train)"
   ]
  },
  {
   "cell_type": "code",
   "execution_count": 86,
   "metadata": {
    "ExecuteTime": {
     "end_time": "2020-02-06T15:07:02.433965Z",
     "start_time": "2020-02-06T15:06:57.675555Z"
    }
   },
   "outputs": [],
   "source": [
    "train_predictions = wrapDm(augmented_train,itunes_model,ignore_columns=['ltable_id','rtable_id','id','label'])\n",
    "tp_group = augmented_train[(train_predictions[:,1]>=0.5)& augmented_train['label'] == 1]\n",
    "tn_group = augmented_train[(train_predictions[:,0] >=0.5)& augmented_train['label']==0]\n",
    "correctPredictions_train_itunes = pd.concat([tp_group,tn_group])"
   ]
  },
  {
   "cell_type": "code",
   "execution_count": 87,
   "metadata": {
    "ExecuteTime": {
     "end_time": "2020-02-06T15:11:00.735559Z",
     "start_time": "2020-02-06T15:07:22.058739Z"
    }
   },
   "outputs": [
    {
     "name": "stderr",
     "output_type": "stream",
     "text": [
      "100%|██████████| 86/86 [03:38<00:00,  2.54s/it]\n"
     ]
    }
   ],
   "source": [
    "pos_rankings_itunes,pos_triangles_itunes,flippedPredictions_pos = explainSamples(correctPredictions_train_itunes,\n",
    "                                                          [tableA_itunes,tableB_itunes],\n",
    "                                                          itunes_model,originalClass=1)"
   ]
  },
  {
   "cell_type": "code",
   "execution_count": 118,
   "metadata": {
    "ExecuteTime": {
     "end_time": "2020-02-06T16:07:18.555817Z",
     "start_time": "2020-02-06T16:07:18.012628Z"
    }
   },
   "outputs": [
    {
     "data": {
      "text/plain": [
       "<matplotlib.axes._subplots.AxesSubplot at 0x7faeb2879a58>"
      ]
     },
     "execution_count": 118,
     "metadata": {},
     "output_type": "execute_result"
    },
    {
     "data": {
      "image/png": "[encoded data removed]",
      "text/plain": [
       "<Figure size 432x288 with 1 Axes>"
      ]
     },
     "metadata": {
      "needs_background": "light"
     },
     "output_type": "display_data"
    }
   ],
   "source": [
    "aggregateRankings(pos_rankings_itunes)"
   ]
  },
  {
   "cell_type": "code",
   "execution_count": 205,
   "metadata": {
    "ExecuteTime": {
     "end_time": "2020-02-06T16:42:53.376712Z",
     "start_time": "2020-02-06T16:42:53.331579Z"
    }
   },
   "outputs": [],
   "source": [
    "newTrainingSamples = flippedPredictions_pos[(flippedPredictions_pos.alteredAttribute==('Genre','Price','Time'))|\n",
    "                      (flippedPredictions_pos.alteredAttribute==('Time',))|\n",
    "                       (flippedPredictions_pos.alteredAttribute==('Price','Time'))|\n",
    "                                            (flippedPredictions_pos.alteredAttribute==('Price',))].sample(n=100)"
   ]
  },
  {
   "cell_type": "code",
   "execution_count": 206,
   "metadata": {
    "ExecuteTime": {
     "end_time": "2020-02-06T16:42:53.951308Z",
     "start_time": "2020-02-06T16:42:53.914234Z"
    }
   },
   "outputs": [],
   "source": [
    "def adjustNewTraining(df):\n",
    "    newTrainingSamples = df.copy().drop_duplicates(subset=['ltable_id','rtable_id'])\n",
    "    newTrainingSamples['label'] = 1\n",
    "    oldCol = [col for col in list(newTrainingSamples) if col not in ['ltable_id','rtable_id','label']]\n",
    "    newCols = ['ltable_id','rtable_id','label'] + oldCol\n",
    "    newTrainingSamples = newTrainingSamples[newCols]\n",
    "    newTrainingSamples = newTrainingSamples.drop(['alteredAttribute'],axis=1)\n",
    "    return newTrainingSamples"
   ]
  },
  {
   "cell_type": "code",
   "execution_count": 207,
   "metadata": {
    "ExecuteTime": {
     "end_time": "2020-02-06T16:42:54.495319Z",
     "start_time": "2020-02-06T16:42:54.450963Z"
    }
   },
   "outputs": [],
   "source": [
    "newTrain_correct = adjustNewTraining(newTrainingSamples)\n",
    "newTrain_correct.to_csv('datasets/Structured/itunes-amazon/mojito_newtrain.csv',index=False)"
   ]
  },
  {
   "cell_type": "code",
   "execution_count": 208,
   "metadata": {
    "ExecuteTime": {
     "end_time": "2020-02-06T16:42:55.185414Z",
     "start_time": "2020-02-06T16:42:54.906377Z"
    }
   },
   "outputs": [],
   "source": [
    "train_df,valid_df,test_df = generate_train_valid_test(ITUNES_DIR,['train.csv','valid.csv','test.csv'],\n",
    "                                                     left_prefix='ltable_',right_prefix='rtable_',drop_lrid=False)"
   ]
  },
  {
   "cell_type": "code",
   "execution_count": 210,
   "metadata": {
    "ExecuteTime": {
     "end_time": "2020-02-06T16:44:17.611159Z",
     "start_time": "2020-02-06T16:44:17.563614Z"
    }
   },
   "outputs": [],
   "source": [
    "valid_df.to_csv(ITUNES_DIR+'valid_withid.csv',index=False)\n",
    "test_df.to_csv(ITUNES_DIR+'test_withid.csv',index=False)"
   ]
  },
  {
   "cell_type": "code",
   "execution_count": 209,
   "metadata": {
    "ExecuteTime": {
     "end_time": "2020-02-06T16:42:55.382320Z",
     "start_time": "2020-02-06T16:42:55.329894Z"
    }
   },
   "outputs": [
    {
     "data": {
      "text/plain": [
       "((343, 20), (321, 20))"
      ]
     },
     "execution_count": 209,
     "metadata": {},
     "output_type": "execute_result"
    }
   ],
   "source": [
    "improved_train = pd.concat([train_df,newTrain_correct])\n",
    "improved_train.to_csv(ITUNES_DIR+'improved_train.csv',index=False)\n",
    "improved_train.shape,train_df.shape"
   ]
  },
  {
   "cell_type": "code",
   "execution_count": 214,
   "metadata": {
    "ExecuteTime": {
     "end_time": "2020-02-06T16:49:36.098629Z",
     "start_time": "2020-02-06T16:49:33.503811Z"
    }
   },
   "outputs": [
    {
     "name": "stderr",
     "output_type": "stream",
     "text": [
      "\n",
      "Reading and processing data from \"datasets/Structured/itunes-amazon/improved_train.csv\"\n",
      "0% [############################# ] 100% | ETA: 00:00:00\n",
      "Reading and processing data from \"datasets/Structured/itunes-amazon/valid_withid.csv\"\n",
      "0% [############################# ] 100% | ETA: 00:00:00\n",
      "Reading and processing data from \"datasets/Structured/itunes-amazon/test_withid.csv\"\n",
      "0% [############################# ] 100% | ETA: 00:00:00\n",
      "Building vocabulary\n",
      "0% [#] 100% | ETA: 00:00:00\n",
      "Total time elapsed: 00:00:00\n",
      "\n",
      "Computing principal components\n",
      "0% [#] 100% | ETA: 00:00:00\n",
      "Total time elapsed: 00:00:00\n"
     ]
    }
   ],
   "source": [
    "train,validation,test = dm.data.process(ITUNES_DIR,train='improved_train.csv',validation='valid_withid.csv',\n",
    "                                       test='test_withid.csv',left_prefix='ltable_',right_prefix='rtable_',cache='impr.pth',\n",
    "                                       ignore_columns = ['ltable_id','rtable_id'])"
   ]
  },
  {
   "cell_type": "code",
   "execution_count": 215,
   "metadata": {
    "ExecuteTime": {
     "end_time": "2020-02-06T16:54:26.627526Z",
     "start_time": "2020-02-06T16:51:04.767246Z"
    }
   },
   "outputs": [
    {
     "name": "stdout",
     "output_type": "stream",
     "text": [
      "* Number of trainable parameters: 17757810\n",
      "===>  TRAIN Epoch 1\n"
     ]
    },
    {
     "name": "stderr",
     "output_type": "stream",
     "text": [
      "/home/nvidia/anaconda3/envs/torchenv/lib/python3.6/site-packages/torch/nn/functional.py:1932: UserWarning: reduction: 'mean' divides the total loss by both the batch size and the support size.'batchmean' divides only by the batch size, and aligns with the KL div math definition.'mean' will be changed to behave the same as 'batchmean' in the next major release.\n",
      "  warnings.warn(\"reduction: 'mean' divides the total loss by both the batch size and the support size.\"\n",
      "0% [██] 100% | ETA: 00:00:00\n",
      "Total time elapsed: 00:00:06\n"
     ]
    },
    {
     "name": "stdout",
     "output_type": "stream",
     "text": [
      "Finished Epoch 1 || Run Time:    5.3 | Load Time:    2.3 || F1:  46.55 | Prec:  31.27 | Rec:  91.00 || Ex/s:  44.85\n",
      "\n",
      "===>  EVAL Epoch 1\n",
      "Finished Epoch 1 || Run Time:    0.6 | Load Time:    0.6 || F1:  43.70 | Prec:  28.26 | Rec:  96.30 || Ex/s:  90.95\n",
      "\n",
      "* Best F1: tensor(43.6975, device='cuda:0')\n",
      "Saving best model...\n",
      "Done.\n",
      "---------------------\n",
      "\n",
      "===>  TRAIN Epoch 2\n"
     ]
    },
    {
     "name": "stderr",
     "output_type": "stream",
     "text": [
      "0% [██] 100% | ETA: 00:00:00\n",
      "Total time elapsed: 00:00:05\n"
     ]
    },
    {
     "name": "stdout",
     "output_type": "stream",
     "text": [
      "Finished Epoch 2 || Run Time:    4.6 | Load Time:    1.7 || F1:  52.57 | Prec:  36.06 | Rec:  97.00 || Ex/s:  54.79\n",
      "\n",
      "===>  EVAL Epoch 2\n",
      "Finished Epoch 2 || Run Time:    0.5 | Load Time:    0.5 || F1:  56.76 | Prec:  44.68 | Rec:  77.78 || Ex/s: 106.99\n",
      "\n",
      "* Best F1: tensor(56.7568, device='cuda:0')\n",
      "Saving best model...\n",
      "Done.\n",
      "---------------------\n",
      "\n",
      "===>  TRAIN Epoch 3\n"
     ]
    },
    {
     "name": "stderr",
     "output_type": "stream",
     "text": [
      "0% [██] 100% | ETA: 00:00:00\n",
      "Total time elapsed: 00:00:05\n"
     ]
    },
    {
     "name": "stdout",
     "output_type": "stream",
     "text": [
      "Finished Epoch 3 || Run Time:    4.6 | Load Time:    1.7 || F1:  68.20 | Prec:  55.28 | Rec:  89.00 || Ex/s:  54.37\n",
      "\n",
      "===>  EVAL Epoch 3\n",
      "Finished Epoch 3 || Run Time:    0.5 | Load Time:    0.5 || F1:  63.89 | Prec:  51.11 | Rec:  85.19 || Ex/s: 108.61\n",
      "\n",
      "* Best F1: tensor(63.8889, device='cuda:0')\n",
      "Saving best model...\n",
      "Done.\n",
      "---------------------\n",
      "\n",
      "===>  TRAIN Epoch 4\n"
     ]
    },
    {
     "name": "stderr",
     "output_type": "stream",
     "text": [
      "0% [██] 100% | ETA: 00:00:00\n",
      "Total time elapsed: 00:00:05\n"
     ]
    },
    {
     "name": "stdout",
     "output_type": "stream",
     "text": [
      "Finished Epoch 4 || Run Time:    4.6 | Load Time:    1.7 || F1:  77.73 | Prec:  65.31 | Rec:  96.00 || Ex/s:  54.56\n",
      "\n",
      "===>  EVAL Epoch 4\n",
      "Finished Epoch 4 || Run Time:    0.5 | Load Time:    0.5 || F1:  68.57 | Prec:  55.81 | Rec:  88.89 || Ex/s: 110.90\n",
      "\n",
      "* Best F1: tensor(68.5714, device='cuda:0')\n",
      "Saving best model...\n",
      "Done.\n",
      "---------------------\n",
      "\n",
      "===>  TRAIN Epoch 5\n"
     ]
    },
    {
     "name": "stderr",
     "output_type": "stream",
     "text": [
      "0% [██] 100% | ETA: 00:00:00\n",
      "Total time elapsed: 00:00:06\n"
     ]
    },
    {
     "name": "stdout",
     "output_type": "stream",
     "text": [
      "Finished Epoch 5 || Run Time:    5.4 | Load Time:    2.3 || F1:  81.17 | Prec:  69.78 | Rec:  97.00 || Ex/s:  44.69\n",
      "\n",
      "===>  EVAL Epoch 5\n",
      "Finished Epoch 5 || Run Time:    0.6 | Load Time:    0.6 || F1:  73.53 | Prec:  60.98 | Rec:  92.59 || Ex/s:  95.10\n",
      "\n",
      "* Best F1: tensor(73.5294, device='cuda:0')\n",
      "Saving best model...\n",
      "Done.\n",
      "---------------------\n",
      "\n",
      "===>  TRAIN Epoch 6\n"
     ]
    },
    {
     "name": "stderr",
     "output_type": "stream",
     "text": [
      "0% [██] 100% | ETA: 00:00:00\n",
      "Total time elapsed: 00:00:05\n"
     ]
    },
    {
     "name": "stdout",
     "output_type": "stream",
     "text": [
      "Finished Epoch 6 || Run Time:    4.9 | Load Time:    1.9 || F1:  89.69 | Prec:  81.30 | Rec: 100.00 || Ex/s:  50.88\n",
      "\n",
      "===>  EVAL Epoch 6\n",
      "Finished Epoch 6 || Run Time:    0.6 | Load Time:    0.6 || F1:  78.12 | Prec:  67.57 | Rec:  92.59 || Ex/s:  93.47\n",
      "\n",
      "* Best F1: tensor(78.1250, device='cuda:0')\n",
      "Saving best model...\n",
      "Done.\n",
      "---------------------\n",
      "\n",
      "===>  TRAIN Epoch 7\n"
     ]
    },
    {
     "name": "stderr",
     "output_type": "stream",
     "text": [
      "0% [██] 100% | ETA: 00:00:00\n",
      "Total time elapsed: 00:00:05\n"
     ]
    },
    {
     "name": "stdout",
     "output_type": "stream",
     "text": [
      "Finished Epoch 7 || Run Time:    5.1 | Load Time:    2.0 || F1:  93.90 | Prec:  88.50 | Rec: 100.00 || Ex/s:  48.49\n",
      "\n",
      "===>  EVAL Epoch 7\n",
      "Finished Epoch 7 || Run Time:    0.6 | Load Time:    0.6 || F1:  79.37 | Prec:  69.44 | Rec:  92.59 || Ex/s:  94.56\n",
      "\n",
      "* Best F1: tensor(79.3651, device='cuda:0')\n",
      "Saving best model...\n",
      "Done.\n",
      "---------------------\n",
      "\n",
      "===>  TRAIN Epoch 8\n"
     ]
    },
    {
     "name": "stderr",
     "output_type": "stream",
     "text": [
      "0% [██] 100% | ETA: 00:00:00\n",
      "Total time elapsed: 00:00:05\n"
     ]
    },
    {
     "name": "stdout",
     "output_type": "stream",
     "text": [
      "Finished Epoch 8 || Run Time:    4.5 | Load Time:    1.7 || F1:  97.09 | Prec:  94.34 | Rec: 100.00 || Ex/s:  55.92\n",
      "\n",
      "===>  EVAL Epoch 8\n",
      "Finished Epoch 8 || Run Time:    0.5 | Load Time:    0.5 || F1:  80.00 | Prec:  68.42 | Rec:  96.30 || Ex/s: 110.65\n",
      "\n",
      "* Best F1: tensor(80., device='cuda:0')\n",
      "Saving best model...\n",
      "Done.\n",
      "---------------------\n",
      "\n",
      "===>  TRAIN Epoch 9\n"
     ]
    },
    {
     "name": "stderr",
     "output_type": "stream",
     "text": [
      "0% [██] 100% | ETA: 00:00:00\n",
      "Total time elapsed: 00:00:05\n"
     ]
    },
    {
     "name": "stdout",
     "output_type": "stream",
     "text": [
      "Finished Epoch 9 || Run Time:    5.0 | Load Time:    1.9 || F1:  99.01 | Prec:  98.04 | Rec: 100.00 || Ex/s:  49.80\n",
      "\n",
      "===>  EVAL Epoch 9\n",
      "Finished Epoch 9 || Run Time:    0.6 | Load Time:    0.6 || F1:  74.29 | Prec:  60.47 | Rec:  96.30 || Ex/s:  93.53\n",
      "\n",
      "---------------------\n",
      "\n",
      "===>  TRAIN Epoch 10\n"
     ]
    },
    {
     "name": "stderr",
     "output_type": "stream",
     "text": [
      "0% [██] 100% | ETA: 00:00:00\n",
      "Total time elapsed: 00:00:05\n"
     ]
    },
    {
     "name": "stdout",
     "output_type": "stream",
     "text": [
      "Finished Epoch 10 || Run Time:    4.8 | Load Time:    1.8 || F1:  99.01 | Prec:  98.04 | Rec: 100.00 || Ex/s:  51.76\n",
      "\n",
      "===>  EVAL Epoch 10\n",
      "Finished Epoch 10 || Run Time:    0.6 | Load Time:    0.6 || F1:  81.25 | Prec:  70.27 | Rec:  96.30 || Ex/s:  94.48\n",
      "\n",
      "* Best F1: tensor(81.2500, device='cuda:0')\n",
      "Saving best model...\n",
      "Done.\n",
      "---------------------\n",
      "\n",
      "===>  TRAIN Epoch 11\n"
     ]
    },
    {
     "name": "stderr",
     "output_type": "stream",
     "text": [
      "0% [██] 100% | ETA: 00:00:00\n",
      "Total time elapsed: 00:00:06\n"
     ]
    },
    {
     "name": "stdout",
     "output_type": "stream",
     "text": [
      "Finished Epoch 11 || Run Time:    5.4 | Load Time:    2.3 || F1: 100.00 | Prec: 100.00 | Rec: 100.00 || Ex/s:  44.79\n",
      "\n",
      "===>  EVAL Epoch 11\n",
      "Finished Epoch 11 || Run Time:    0.6 | Load Time:    0.6 || F1:  78.79 | Prec:  66.67 | Rec:  96.30 || Ex/s:  94.29\n",
      "\n",
      "---------------------\n",
      "\n",
      "===>  TRAIN Epoch 12\n"
     ]
    },
    {
     "name": "stderr",
     "output_type": "stream",
     "text": [
      "0% [██] 100% | ETA: 00:00:00\n",
      "Total time elapsed: 00:00:06\n"
     ]
    },
    {
     "name": "stdout",
     "output_type": "stream",
     "text": [
      "Finished Epoch 12 || Run Time:    5.3 | Load Time:    2.2 || F1: 100.00 | Prec: 100.00 | Rec: 100.00 || Ex/s:  46.08\n",
      "\n",
      "===>  EVAL Epoch 12\n",
      "Finished Epoch 12 || Run Time:    0.6 | Load Time:    0.6 || F1:  81.25 | Prec:  70.27 | Rec:  96.30 || Ex/s:  93.22\n",
      "\n",
      "---------------------\n",
      "\n",
      "===>  TRAIN Epoch 13\n"
     ]
    },
    {
     "name": "stderr",
     "output_type": "stream",
     "text": [
      "0% [██] 100% | ETA: 00:00:00\n",
      "Total time elapsed: 00:00:05\n"
     ]
    },
    {
     "name": "stdout",
     "output_type": "stream",
     "text": [
      "Finished Epoch 13 || Run Time:    4.4 | Load Time:    1.6 || F1: 100.00 | Prec: 100.00 | Rec: 100.00 || Ex/s:  56.53\n",
      "\n",
      "===>  EVAL Epoch 13\n",
      "Finished Epoch 13 || Run Time:    0.5 | Load Time:    0.5 || F1:  80.00 | Prec:  68.42 | Rec:  96.30 || Ex/s: 111.11\n",
      "\n",
      "---------------------\n",
      "\n",
      "===>  TRAIN Epoch 14\n"
     ]
    },
    {
     "name": "stderr",
     "output_type": "stream",
     "text": [
      "0% [██] 100% | ETA: 00:00:00\n",
      "Total time elapsed: 00:00:06\n"
     ]
    },
    {
     "name": "stdout",
     "output_type": "stream",
     "text": [
      "Finished Epoch 14 || Run Time:    5.2 | Load Time:    2.0 || F1: 100.00 | Prec: 100.00 | Rec: 100.00 || Ex/s:  47.16\n",
      "\n",
      "===>  EVAL Epoch 14\n",
      "Finished Epoch 14 || Run Time:    0.6 | Load Time:    0.6 || F1:  80.00 | Prec:  68.42 | Rec:  96.30 || Ex/s:  93.58\n",
      "\n",
      "---------------------\n",
      "\n",
      "===>  TRAIN Epoch 15\n"
     ]
    },
    {
     "name": "stderr",
     "output_type": "stream",
     "text": [
      "0% [██] 100% | ETA: 00:00:00\n",
      "Total time elapsed: 00:00:06\n"
     ]
    },
    {
     "name": "stdout",
     "output_type": "stream",
     "text": [
      "Finished Epoch 15 || Run Time:    5.4 | Load Time:    2.2 || F1: 100.00 | Prec: 100.00 | Rec: 100.00 || Ex/s:  45.47\n",
      "\n",
      "===>  EVAL Epoch 15\n",
      "Finished Epoch 15 || Run Time:    0.6 | Load Time:    0.6 || F1:  80.00 | Prec:  68.42 | Rec:  96.30 || Ex/s:  93.86\n",
      "\n",
      "---------------------\n",
      "\n",
      "===>  TRAIN Epoch 16\n"
     ]
    },
    {
     "name": "stderr",
     "output_type": "stream",
     "text": [
      "0% [██] 100% | ETA: 00:00:00\n",
      "Total time elapsed: 00:00:05\n"
     ]
    },
    {
     "name": "stdout",
     "output_type": "stream",
     "text": [
      "Finished Epoch 16 || Run Time:    4.4 | Load Time:    1.6 || F1: 100.00 | Prec: 100.00 | Rec: 100.00 || Ex/s:  56.38\n",
      "\n",
      "===>  EVAL Epoch 16\n",
      "Finished Epoch 16 || Run Time:    0.5 | Load Time:    0.5 || F1:  80.00 | Prec:  68.42 | Rec:  96.30 || Ex/s: 110.91\n",
      "\n",
      "---------------------\n",
      "\n",
      "===>  TRAIN Epoch 17\n"
     ]
    },
    {
     "name": "stderr",
     "output_type": "stream",
     "text": [
      "0% [██] 100% | ETA: 00:00:00\n",
      "Total time elapsed: 00:00:05\n"
     ]
    },
    {
     "name": "stdout",
     "output_type": "stream",
     "text": [
      "Finished Epoch 17 || Run Time:    4.6 | Load Time:    1.6 || F1: 100.00 | Prec: 100.00 | Rec: 100.00 || Ex/s:  55.17\n",
      "\n",
      "===>  EVAL Epoch 17\n",
      "Finished Epoch 17 || Run Time:    0.5 | Load Time:    0.5 || F1:  80.00 | Prec:  68.42 | Rec:  96.30 || Ex/s: 109.19\n",
      "\n",
      "---------------------\n",
      "\n",
      "===>  TRAIN Epoch 18\n"
     ]
    },
    {
     "name": "stderr",
     "output_type": "stream",
     "text": [
      "0% [██] 100% | ETA: 00:00:00\n",
      "Total time elapsed: 00:00:05\n"
     ]
    },
    {
     "name": "stdout",
     "output_type": "stream",
     "text": [
      "Finished Epoch 18 || Run Time:    4.5 | Load Time:    1.6 || F1: 100.00 | Prec: 100.00 | Rec: 100.00 || Ex/s:  56.01\n",
      "\n",
      "===>  EVAL Epoch 18\n",
      "Finished Epoch 18 || Run Time:    0.5 | Load Time:    0.5 || F1:  80.00 | Prec:  68.42 | Rec:  96.30 || Ex/s: 111.12\n",
      "\n",
      "---------------------\n",
      "\n",
      "===>  TRAIN Epoch 19\n"
     ]
    },
    {
     "name": "stderr",
     "output_type": "stream",
     "text": [
      "0% [██] 100% | ETA: 00:00:00\n",
      "Total time elapsed: 00:00:06\n"
     ]
    },
    {
     "name": "stdout",
     "output_type": "stream",
     "text": [
      "Finished Epoch 19 || Run Time:    5.5 | Load Time:    2.2 || F1: 100.00 | Prec: 100.00 | Rec: 100.00 || Ex/s:  44.78\n",
      "\n",
      "===>  EVAL Epoch 19\n",
      "Finished Epoch 19 || Run Time:    0.6 | Load Time:    0.6 || F1:  80.00 | Prec:  68.42 | Rec:  96.30 || Ex/s:  94.84\n",
      "\n",
      "---------------------\n",
      "\n",
      "===>  TRAIN Epoch 20\n"
     ]
    },
    {
     "name": "stderr",
     "output_type": "stream",
     "text": [
      "0% [██] 100% | ETA: 00:00:00\n",
      "Total time elapsed: 00:00:05\n"
     ]
    },
    {
     "name": "stdout",
     "output_type": "stream",
     "text": [
      "Finished Epoch 20 || Run Time:    4.6 | Load Time:    1.6 || F1: 100.00 | Prec: 100.00 | Rec: 100.00 || Ex/s:  54.91\n",
      "\n",
      "===>  EVAL Epoch 20\n",
      "Finished Epoch 20 || Run Time:    0.5 | Load Time:    0.5 || F1:  80.00 | Prec:  68.42 | Rec:  96.30 || Ex/s: 111.31\n",
      "\n",
      "---------------------\n",
      "\n",
      "===>  TRAIN Epoch 21\n"
     ]
    },
    {
     "name": "stderr",
     "output_type": "stream",
     "text": [
      "0% [██] 100% | ETA: 00:00:00\n",
      "Total time elapsed: 00:00:05\n"
     ]
    },
    {
     "name": "stdout",
     "output_type": "stream",
     "text": [
      "Finished Epoch 21 || Run Time:    4.5 | Load Time:    1.6 || F1: 100.00 | Prec: 100.00 | Rec: 100.00 || Ex/s:  55.43\n",
      "\n",
      "===>  EVAL Epoch 21\n",
      "Finished Epoch 21 || Run Time:    0.6 | Load Time:    0.6 || F1:  80.00 | Prec:  68.42 | Rec:  96.30 || Ex/s:  94.04\n",
      "\n",
      "---------------------\n",
      "\n",
      "===>  TRAIN Epoch 22\n"
     ]
    },
    {
     "name": "stderr",
     "output_type": "stream",
     "text": [
      "0% [██] 100% | ETA: 00:00:00\n",
      "Total time elapsed: 00:00:05\n"
     ]
    },
    {
     "name": "stdout",
     "output_type": "stream",
     "text": [
      "Finished Epoch 22 || Run Time:    4.6 | Load Time:    1.7 || F1: 100.00 | Prec: 100.00 | Rec: 100.00 || Ex/s:  54.61\n",
      "\n",
      "===>  EVAL Epoch 22\n",
      "Finished Epoch 22 || Run Time:    0.5 | Load Time:    0.5 || F1:  80.00 | Prec:  68.42 | Rec:  96.30 || Ex/s: 111.05\n",
      "\n",
      "---------------------\n",
      "\n",
      "===>  TRAIN Epoch 23\n"
     ]
    },
    {
     "name": "stderr",
     "output_type": "stream",
     "text": [
      "0% [██] 100% | ETA: 00:00:00\n",
      "Total time elapsed: 00:00:05\n"
     ]
    },
    {
     "name": "stdout",
     "output_type": "stream",
     "text": [
      "Finished Epoch 23 || Run Time:    4.9 | Load Time:    1.9 || F1: 100.00 | Prec: 100.00 | Rec: 100.00 || Ex/s:  50.48\n",
      "\n",
      "===>  EVAL Epoch 23\n",
      "Finished Epoch 23 || Run Time:    0.6 | Load Time:    0.6 || F1:  80.00 | Prec:  68.42 | Rec:  96.30 || Ex/s:  93.55\n",
      "\n",
      "---------------------\n",
      "\n",
      "===>  TRAIN Epoch 24\n"
     ]
    },
    {
     "name": "stderr",
     "output_type": "stream",
     "text": [
      "0% [██] 100% | ETA: 00:00:00\n",
      "Total time elapsed: 00:00:05\n"
     ]
    },
    {
     "name": "stdout",
     "output_type": "stream",
     "text": [
      "Finished Epoch 24 || Run Time:    4.4 | Load Time:    1.6 || F1: 100.00 | Prec: 100.00 | Rec: 100.00 || Ex/s:  56.47\n",
      "\n",
      "===>  EVAL Epoch 24\n",
      "Finished Epoch 24 || Run Time:    0.5 | Load Time:    0.5 || F1:  80.00 | Prec:  68.42 | Rec:  96.30 || Ex/s: 110.99\n",
      "\n",
      "---------------------\n",
      "\n",
      "===>  TRAIN Epoch 25\n"
     ]
    },
    {
     "name": "stderr",
     "output_type": "stream",
     "text": [
      "0% [██] 100% | ETA: 00:00:00\n",
      "Total time elapsed: 00:00:05\n"
     ]
    },
    {
     "name": "stdout",
     "output_type": "stream",
     "text": [
      "Finished Epoch 25 || Run Time:    4.6 | Load Time:    1.6 || F1: 100.00 | Prec: 100.00 | Rec: 100.00 || Ex/s:  55.18\n",
      "\n",
      "===>  EVAL Epoch 25\n",
      "Finished Epoch 25 || Run Time:    0.5 | Load Time:    0.5 || F1:  80.00 | Prec:  68.42 | Rec:  96.30 || Ex/s: 109.22\n",
      "\n",
      "---------------------\n",
      "\n",
      "Loading best model...\n",
      "Training done.\n"
     ]
    },
    {
     "data": {
      "text/plain": [
       "tensor(81.2500, device='cuda:0')"
      ]
     },
     "execution_count": 215,
     "metadata": {},
     "output_type": "execute_result"
    }
   ],
   "source": [
    "impr_model = dm.MatchingModel(attr_summarizer='hybrid')\n",
    "impr_model.run_train(train,validation,epochs=25,pos_neg_ratio= 4,best_save_path='models/itunes_amazon_hybrid_impr.pth')"
   ]
  },
  {
   "cell_type": "code",
   "execution_count": 216,
   "metadata": {
    "ExecuteTime": {
     "end_time": "2020-02-06T16:56:34.993324Z",
     "start_time": "2020-02-06T16:56:33.700783Z"
    }
   },
   "outputs": [
    {
     "name": "stdout",
     "output_type": "stream",
     "text": [
      "===>  EVAL Epoch 10\n",
      "Finished Epoch 10 || Run Time:    0.6 | Load Time:    0.6 || F1:  85.19 | Prec:  85.19 | Rec:  85.19 || Ex/s:  90.10\n",
      "\n"
     ]
    },
    {
     "data": {
      "text/plain": [
       "tensor(85.1852, device='cuda:0')"
      ]
     },
     "execution_count": 216,
     "metadata": {},
     "output_type": "execute_result"
    }
   ],
   "source": [
    "impr_model.run_eval(test)"
   ]
  },
  {
   "cell_type": "markdown",
   "metadata": {},
   "source": [
    "### Evaluate ranking on new model"
   ]
  },
  {
   "cell_type": "code",
   "execution_count": 217,
   "metadata": {
    "ExecuteTime": {
     "end_time": "2020-02-06T16:58:33.918728Z",
     "start_time": "2020-02-06T16:58:33.627781Z"
    }
   },
   "outputs": [],
   "source": [
    "augmented_test = prepareDataset(test_df,tableA_itunes,tableB_itunes,30)"
   ]
  },
  {
   "cell_type": "code",
   "execution_count": 218,
   "metadata": {
    "ExecuteTime": {
     "end_time": "2020-02-06T16:59:26.195179Z",
     "start_time": "2020-02-06T16:59:23.787962Z"
    }
   },
   "outputs": [],
   "source": [
    "predictions = wrapDm(augmented_test,impr_model,ignore_columns=['ltable_id','rtable_id','id','label'])\n",
    "tp_group = augmented_test[(predictions[:,1]>=0.5)& augmented_test['label'] == 1]\n",
    "tn_group = augmented_test[(predictions[:,0] >=0.5)& augmented_test['label']==0]\n",
    "correctPredictions_itunes = pd.concat([tp_group,tn_group])"
   ]
  },
  {
   "cell_type": "code",
   "execution_count": 239,
   "metadata": {
    "ExecuteTime": {
     "end_time": "2020-02-06T17:24:15.298911Z",
     "start_time": "2020-02-06T17:22:27.583513Z"
    }
   },
   "outputs": [
    {
     "name": "stderr",
     "output_type": "stream",
     "text": [
      "100%|██████████| 48/48 [01:47<00:00,  2.24s/it]\n"
     ]
    }
   ],
   "source": [
    "pos_rankings_itunes,pos_triangles_itunes,flippedPredictions_pos = explainSamples(correctPredictions_itunes,\n",
    "                                                          [tableA_itunes,tableB_itunes],\n",
    "                                                          impr_model,originalClass=1)"
   ]
  },
  {
   "cell_type": "code",
   "execution_count": 240,
   "metadata": {
    "ExecuteTime": {
     "end_time": "2020-02-06T17:24:27.181865Z",
     "start_time": "2020-02-06T17:24:26.491663Z"
    }
   },
   "outputs": [
    {
     "data": {
      "text/plain": [
       "<matplotlib.axes._subplots.AxesSubplot at 0x7fae3c9a5b38>"
      ]
     },
     "execution_count": 240,
     "metadata": {},
     "output_type": "execute_result"
    },
    {
     "data": {
      "image/png": "[encoded data removed]",
      "text/plain": [
       "<Figure size 576x720 with 1 Axes>"
      ]
     },
     "metadata": {
      "needs_background": "light"
     },
     "output_type": "display_data"
    }
   ],
   "source": [
    "aggregateRankings(pos_rankings_itunes,positive=True)"
   ]
  },
  {
   "cell_type": "markdown",
   "metadata": {},
   "source": [
    "## Beer"
   ]
  },
  {
   "cell_type": "code",
   "execution_count": 53,
   "metadata": {
    "ExecuteTime": {
     "end_time": "2020-02-28T15:07:35.400015Z",
     "start_time": "2020-02-28T15:07:34.988646Z"
    }
   },
   "outputs": [],
   "source": [
    "beer_model = dm.MatchingModel(attr_summarizer='hybrid')\n",
    "beer_model.load_state('models/beer_hybrid.pth')\n",
    "beer_model = beer_model.to('cuda')"
   ]
  },
  {
   "cell_type": "code",
   "execution_count": 54,
   "metadata": {
    "ExecuteTime": {
     "end_time": "2020-02-28T15:07:35.692981Z",
     "start_time": "2020-02-28T15:07:35.632725Z"
    }
   },
   "outputs": [],
   "source": [
    "tableA_beer = pd.read_csv('datasets/Structured/Beer/tableA.csv')\n",
    "tableB_beer = pd.read_csv('datasets/Structured/Beer/tableB.csv')"
   ]
  },
  {
   "cell_type": "code",
   "execution_count": 55,
   "metadata": {
    "ExecuteTime": {
     "end_time": "2020-02-28T15:07:38.429317Z",
     "start_time": "2020-02-28T15:07:38.333652Z"
    }
   },
   "outputs": [],
   "source": [
    "BEER_DIR ='datasets/Structured/Beer/'\n",
    "train_df,validation_df,test_df = generate_train_valid_test(BEER_DIR,['train.csv','valid.csv','test.csv']\n",
    "                                                      ,left_prefix='ltable_',right_prefix='rtable_',\n",
    "                                                          drop_lrid=False)"
   ]
  },
  {
   "cell_type": "code",
   "execution_count": 8,
   "metadata": {
    "ExecuteTime": {
     "end_time": "2020-02-11T11:15:22.051303Z",
     "start_time": "2020-02-11T11:15:21.786078Z"
    }
   },
   "outputs": [
    {
     "data": {
      "text/plain": [
       "(105, 91)"
      ]
     },
     "execution_count": 8,
     "metadata": {},
     "output_type": "execute_result"
    }
   ],
   "source": [
    "augment_test = prepareDataset(test_df,tableA_beer,tableB_beer,20)\n",
    "len(augment_test),len(test_df)"
   ]
  },
  {
   "cell_type": "code",
   "execution_count": 56,
   "metadata": {
    "ExecuteTime": {
     "end_time": "2020-02-28T15:07:40.960406Z",
     "start_time": "2020-02-28T15:07:40.915342Z"
    }
   },
   "outputs": [],
   "source": [
    "augment_test = pd.read_csv(BEER_DIR+'augmented_test.csv')"
   ]
  },
  {
   "cell_type": "code",
   "execution_count": 57,
   "metadata": {
    "ExecuteTime": {
     "end_time": "2020-02-28T15:07:45.671764Z",
     "start_time": "2020-02-28T15:07:44.718025Z"
    }
   },
   "outputs": [],
   "source": [
    "predictions = wrapDm(augment_test,beer_model,ignore_columns=['ltable_id','rtable_id','id','label'])\n",
    "tp_group = augment_test[(predictions[:,1]>=0.5)& (augment_test['label'] == 1)]\n",
    "tn_group = augment_test[(predictions[:,0] >=0.5)& (augment_test['label']==0)]\n",
    "correctPredictions_beer = pd.concat([tp_group,tn_group])"
   ]
  },
  {
   "cell_type": "code",
   "execution_count": 59,
   "metadata": {
    "ExecuteTime": {
     "end_time": "2020-02-28T15:08:39.186471Z",
     "start_time": "2020-02-28T15:08:25.155557Z"
    }
   },
   "outputs": [
    {
     "name": "stderr",
     "output_type": "stream",
     "text": [
      "\n",
      "  0%|          | 0/38 [00:00<?, ?it/s]\u001b[A\n",
      "  3%|▎         | 1/38 [00:00<00:17,  2.08it/s]\u001b[A\n",
      "  5%|▌         | 2/38 [00:00<00:16,  2.20it/s]\u001b[A\n",
      "  8%|▊         | 3/38 [00:01<00:14,  2.36it/s]\u001b[A\n",
      " 11%|█         | 4/38 [00:01<00:13,  2.47it/s]\u001b[A\n",
      " 13%|█▎        | 5/38 [00:01<00:12,  2.56it/s]\u001b[A\n",
      " 16%|█▌        | 6/38 [00:02<00:12,  2.63it/s]\u001b[A\n",
      " 18%|█▊        | 7/38 [00:02<00:11,  2.68it/s]\u001b[A\n",
      " 21%|██        | 8/38 [00:03<00:11,  2.72it/s]\u001b[A\n",
      " 24%|██▎       | 9/38 [00:03<00:11,  2.60it/s]\u001b[A\n",
      " 26%|██▋       | 10/38 [00:03<00:10,  2.66it/s]\u001b[A\n",
      " 29%|██▉       | 11/38 [00:04<00:09,  2.72it/s]\u001b[A\n",
      " 32%|███▏      | 12/38 [00:04<00:09,  2.75it/s]\u001b[A\n",
      " 34%|███▍      | 13/38 [00:04<00:09,  2.78it/s]\u001b[A\n",
      " 37%|███▋      | 14/38 [00:05<00:08,  2.80it/s]\u001b[A\n",
      " 39%|███▉      | 15/38 [00:05<00:08,  2.81it/s]\u001b[A\n",
      " 42%|████▏     | 16/38 [00:05<00:07,  2.82it/s]\u001b[A\n",
      " 45%|████▍     | 17/38 [00:06<00:07,  2.82it/s]\u001b[A\n",
      " 47%|████▋     | 18/38 [00:06<00:07,  2.82it/s]\u001b[A\n",
      " 50%|█████     | 19/38 [00:06<00:06,  2.82it/s]\u001b[A\n",
      " 53%|█████▎    | 20/38 [00:07<00:06,  2.82it/s]\u001b[A\n",
      " 55%|█████▌    | 21/38 [00:07<00:06,  2.81it/s]\u001b[A\n",
      " 58%|█████▊    | 22/38 [00:08<00:05,  2.81it/s]\u001b[A\n",
      " 61%|██████    | 23/38 [00:08<00:05,  2.82it/s]\u001b[A\n",
      " 63%|██████▎   | 24/38 [00:08<00:04,  2.82it/s]\u001b[A\n",
      " 66%|██████▌   | 25/38 [00:09<00:04,  2.74it/s]\u001b[A\n",
      " 68%|██████▊   | 26/38 [00:09<00:04,  2.68it/s]\u001b[A\n",
      " 71%|███████   | 27/38 [00:09<00:04,  2.65it/s]\u001b[A\n",
      " 74%|███████▎  | 28/38 [00:10<00:03,  2.62it/s]\u001b[A\n",
      " 76%|███████▋  | 29/38 [00:10<00:03,  2.68it/s]\u001b[A\n",
      " 79%|███████▉  | 30/38 [00:11<00:02,  2.73it/s]\u001b[A\n",
      " 82%|████████▏ | 31/38 [00:11<00:02,  2.77it/s]\u001b[A\n",
      " 84%|████████▍ | 32/38 [00:11<00:02,  2.79it/s]\u001b[A\n",
      " 87%|████████▋ | 33/38 [00:12<00:01,  2.80it/s]\u001b[A\n",
      " 89%|████████▉ | 34/38 [00:12<00:01,  2.66it/s]\u001b[A\n",
      " 92%|█████████▏| 35/38 [00:12<00:01,  2.71it/s]\u001b[A\n",
      " 95%|█████████▍| 36/38 [00:13<00:00,  2.75it/s]\u001b[A\n",
      " 97%|█████████▋| 37/38 [00:13<00:00,  2.77it/s]\u001b[A\n",
      "100%|██████████| 38/38 [00:13<00:00,  2.74it/s]\u001b[A\n"
     ]
    }
   ],
   "source": [
    "rankings_beer_pos,_,pos_flipped_beer,notFlipped_pos_beer = explainSamples(\n",
    "    correctPredictions_beer,[tableA_beer,tableB_beer],\n",
    "    beer_model,originalClass=1,maxLenAttributeSet=1)"
   ]
  },
  {
   "cell_type": "code",
   "execution_count": 61,
   "metadata": {
    "ExecuteTime": {
     "end_time": "2020-02-28T15:08:49.343574Z",
     "start_time": "2020-02-28T15:08:49.095381Z"
    }
   },
   "outputs": [
    {
     "data": {
      "image/png": "[encoded data removed]",
      "text/plain": [
       "<Figure size 288x288 with 1 Axes>"
      ]
     },
     "metadata": {
      "needs_background": "light"
     },
     "output_type": "display_data"
    }
   ],
   "source": [
    "ax,plot = aggregateRankings(rankings_beer_pos,positive=True,maxLenAttributes=1)"
   ]
  },
  {
   "cell_type": "code",
   "execution_count": 62,
   "metadata": {
    "ExecuteTime": {
     "end_time": "2020-02-28T15:09:46.370174Z",
     "start_time": "2020-02-28T15:09:32.159864Z"
    }
   },
   "outputs": [
    {
     "name": "stderr",
     "output_type": "stream",
     "text": [
      "\n",
      "  0%|          | 0/38 [00:00<?, ?it/s]\u001b[A\n",
      "  3%|▎         | 1/38 [00:00<00:17,  2.06it/s]\u001b[A\n",
      "  5%|▌         | 2/38 [00:00<00:16,  2.20it/s]\u001b[A\n",
      "  8%|▊         | 3/38 [00:01<00:14,  2.36it/s]\u001b[A\n",
      " 11%|█         | 4/38 [00:01<00:13,  2.47it/s]\u001b[A\n",
      " 13%|█▎        | 5/38 [00:01<00:12,  2.57it/s]\u001b[A\n",
      " 16%|█▌        | 6/38 [00:02<00:12,  2.63it/s]\u001b[A\n",
      " 18%|█▊        | 7/38 [00:02<00:11,  2.68it/s]\u001b[A\n",
      " 21%|██        | 8/38 [00:03<00:11,  2.64it/s]\u001b[A\n",
      " 24%|██▎       | 9/38 [00:03<00:11,  2.61it/s]\u001b[A\n",
      " 26%|██▋       | 10/38 [00:03<00:10,  2.60it/s]\u001b[A\n",
      " 29%|██▉       | 11/38 [00:04<00:10,  2.59it/s]\u001b[A\n",
      " 32%|███▏      | 12/38 [00:04<00:10,  2.58it/s]\u001b[A\n",
      " 34%|███▍      | 13/38 [00:04<00:09,  2.66it/s]\u001b[A\n",
      " 37%|███▋      | 14/38 [00:05<00:08,  2.71it/s]\u001b[A\n",
      " 39%|███▉      | 15/38 [00:05<00:08,  2.75it/s]\u001b[A\n",
      " 42%|████▏     | 16/38 [00:06<00:07,  2.77it/s]\u001b[A\n",
      " 45%|████▍     | 17/38 [00:06<00:07,  2.80it/s]\u001b[A\n",
      " 47%|████▋     | 18/38 [00:06<00:07,  2.80it/s]\u001b[A\n",
      " 50%|█████     | 19/38 [00:07<00:06,  2.81it/s]\u001b[A\n",
      " 53%|█████▎    | 20/38 [00:07<00:06,  2.81it/s]\u001b[A\n",
      " 55%|█████▌    | 21/38 [00:07<00:06,  2.81it/s]\u001b[A\n",
      " 58%|█████▊    | 22/38 [00:08<00:05,  2.81it/s]\u001b[A\n",
      " 61%|██████    | 23/38 [00:08<00:05,  2.66it/s]\u001b[A\n",
      " 63%|██████▎   | 24/38 [00:08<00:05,  2.70it/s]\u001b[A\n",
      " 66%|██████▌   | 25/38 [00:09<00:04,  2.74it/s]\u001b[A\n",
      " 68%|██████▊   | 26/38 [00:09<00:04,  2.67it/s]\u001b[A\n",
      " 71%|███████   | 27/38 [00:10<00:04,  2.64it/s]\u001b[A\n",
      " 74%|███████▎  | 28/38 [00:10<00:03,  2.62it/s]\u001b[A\n",
      " 76%|███████▋  | 29/38 [00:10<00:03,  2.61it/s]\u001b[A\n",
      " 79%|███████▉  | 30/38 [00:11<00:03,  2.60it/s]\u001b[A\n",
      " 82%|████████▏ | 31/38 [00:11<00:02,  2.59it/s]\u001b[A\n",
      " 84%|████████▍ | 32/38 [00:11<00:02,  2.66it/s]\u001b[A\n",
      " 87%|████████▋ | 33/38 [00:12<00:01,  2.71it/s]\u001b[A\n",
      " 89%|████████▉ | 34/38 [00:12<00:01,  2.75it/s]\u001b[A\n",
      " 92%|█████████▏| 35/38 [00:13<00:01,  2.78it/s]\u001b[A\n",
      " 95%|█████████▍| 36/38 [00:13<00:00,  2.80it/s]\u001b[A\n",
      " 97%|█████████▋| 37/38 [00:13<00:00,  2.81it/s]\u001b[A\n",
      "100%|██████████| 38/38 [00:14<00:00,  2.70it/s]\u001b[A\n"
     ]
    }
   ],
   "source": [
    "rankings_beer_neg,neg_triangles_beer,negFlippedBeer,notFlipped_neg_beer = explainSamples(\n",
    "    correctPredictions_beer,[tableA_beer,tableB_beer],\n",
    "                                    beer_model,originalClass=0,maxLenAttributeSet=1)"
   ]
  },
  {
   "cell_type": "code",
   "execution_count": 64,
   "metadata": {
    "ExecuteTime": {
     "end_time": "2020-02-28T15:09:57.489893Z",
     "start_time": "2020-02-28T15:09:57.287673Z"
    }
   },
   "outputs": [
    {
     "data": {
      "image/png": "[encoded data removed]",
      "text/plain": [
       "<Figure size 144x144 with 1 Axes>"
      ]
     },
     "metadata": {
      "needs_background": "light"
     },
     "output_type": "display_data"
    }
   ],
   "source": [
    "ax,plot = aggregateRankings(rankings_beer_neg,positive=False,maxLenAttributes=1)"
   ]
  },
  {
   "cell_type": "code",
   "execution_count": 19,
   "metadata": {
    "ExecuteTime": {
     "end_time": "2020-02-11T11:19:03.730466Z",
     "start_time": "2020-02-11T11:19:03.671165Z"
    }
   },
   "outputs": [
    {
     "data": {
      "text/html": [
       "<div>\n",
       "<style scoped>\n",
       "    .dataframe tbody tr th:only-of-type {\n",
       "        vertical-align: middle;\n",
       "    }\n",
       "\n",
       "    .dataframe tbody tr th {\n",
       "        vertical-align: top;\n",
       "    }\n",
       "\n",
       "    .dataframe thead th {\n",
       "        text-align: right;\n",
       "    }\n",
       "</style>\n",
       "<table border=\"1\" class=\"dataframe\">\n",
       "  <thead>\n",
       "    <tr style=\"text-align: right;\">\n",
       "      <th></th>\n",
       "      <th>ltable_id</th>\n",
       "      <th>ltable_Beer_Name</th>\n",
       "      <th>ltable_Brew_Factory_Name</th>\n",
       "      <th>ltable_Style</th>\n",
       "      <th>ltable_ABV</th>\n",
       "      <th>rtable_id</th>\n",
       "      <th>rtable_Beer_Name</th>\n",
       "      <th>rtable_Brew_Factory_Name</th>\n",
       "      <th>rtable_Style</th>\n",
       "      <th>rtable_ABV</th>\n",
       "      <th>id</th>\n",
       "      <th>alteredAttribute</th>\n",
       "    </tr>\n",
       "  </thead>\n",
       "  <tbody>\n",
       "    <tr>\n",
       "      <th>0</th>\n",
       "      <td>1284</td>\n",
       "      <td>Bainbridge Island Arrow Point Amber</td>\n",
       "      <td>Bainbridge Island Brewing Company</td>\n",
       "      <td>Amber Ale</td>\n",
       "      <td>5.40 %</td>\n",
       "      <td>548</td>\n",
       "      <td>Arrow Point Amber</td>\n",
       "      <td>Third Base Sports Bar &amp; Brewery</td>\n",
       "      <td>Amber Ale</td>\n",
       "      <td>4.60 %</td>\n",
       "      <td>0</td>\n",
       "      <td>(Beer_Name,)</td>\n",
       "    </tr>\n",
       "    <tr>\n",
       "      <th>0</th>\n",
       "      <td>1284</td>\n",
       "      <td>Bainbridge Island Arrow Point Amber</td>\n",
       "      <td>Bainbridge Island Brewing Company</td>\n",
       "      <td>Amber Ale</td>\n",
       "      <td>5.40 %</td>\n",
       "      <td>548</td>\n",
       "      <td>Arrow Point Amber</td>\n",
       "      <td>Third Base Sports Bar &amp; Brewery</td>\n",
       "      <td>Amber Ale</td>\n",
       "      <td>4.60 %</td>\n",
       "      <td>0</td>\n",
       "      <td>(Beer_Name,)</td>\n",
       "    </tr>\n",
       "  </tbody>\n",
       "</table>\n",
       "</div>"
      ],
      "text/plain": [
       "   ltable_id                     ltable_Beer_Name  \\\n",
       "0       1284  Bainbridge Island Arrow Point Amber   \n",
       "0       1284  Bainbridge Island Arrow Point Amber   \n",
       "\n",
       "            ltable_Brew_Factory_Name ltable_Style ltable_ABV  rtable_id  \\\n",
       "0  Bainbridge Island Brewing Company    Amber Ale     5.40 %        548   \n",
       "0  Bainbridge Island Brewing Company    Amber Ale     5.40 %        548   \n",
       "\n",
       "    rtable_Beer_Name         rtable_Brew_Factory_Name rtable_Style rtable_ABV  \\\n",
       "0  Arrow Point Amber  Third Base Sports Bar & Brewery    Amber Ale     4.60 %   \n",
       "0  Arrow Point Amber  Third Base Sports Bar & Brewery    Amber Ale     4.60 %   \n",
       "\n",
       "   id alteredAttribute  \n",
       "0   0     (Beer_Name,)  \n",
       "0   0     (Beer_Name,)  "
      ]
     },
     "execution_count": 19,
     "metadata": {},
     "output_type": "execute_result"
    }
   ],
   "source": [
    "negFlippedBeer[negFlippedBeer.alteredAttribute==('Beer_Name',)]"
   ]
  },
  {
   "cell_type": "markdown",
   "metadata": {},
   "source": [
    "## Walmart-Amazon"
   ]
  },
  {
   "cell_type": "code",
   "execution_count": 5,
   "metadata": {
    "ExecuteTime": {
     "end_time": "2020-04-26T16:25:16.417089Z",
     "start_time": "2020-04-26T16:25:10.664244Z"
    }
   },
   "outputs": [],
   "source": [
    "walmart_model = dm.MatchingModel(attr_summarizer='hybrid')\n",
    "walmart_model.load_state('models/walmartamazon_hybrid.pth')\n",
    "walmart_model = walmart_model.to('cuda')"
   ]
  },
  {
   "cell_type": "code",
   "execution_count": 6,
   "metadata": {
    "ExecuteTime": {
     "end_time": "2020-04-26T16:25:18.594075Z",
     "start_time": "2020-04-26T16:25:18.555671Z"
    }
   },
   "outputs": [],
   "source": [
    "WALMART_DIR = 'datasets/Structured/Walmart-Amazon/'"
   ]
  },
  {
   "cell_type": "code",
   "execution_count": 7,
   "metadata": {
    "ExecuteTime": {
     "end_time": "2020-04-26T16:27:28.716251Z",
     "start_time": "2020-04-26T16:27:28.581029Z"
    }
   },
   "outputs": [],
   "source": [
    "walmart = pd.read_csv('datasets/Structured/Walmart-Amazon/tableA.csv',dtype=str)\n",
    "amazon = pd.read_csv('datasets/Structured/Walmart-Amazon/tableB.csv',dtype=str)\n",
    "test = pd.read_csv('datasets/Structured/Walmart-Amazon/merged_test.csv')"
   ]
  },
  {
   "cell_type": "code",
   "execution_count": 8,
   "metadata": {
    "ExecuteTime": {
     "end_time": "2020-04-26T16:28:51.223032Z",
     "start_time": "2020-04-26T16:28:51.177627Z"
    }
   },
   "outputs": [],
   "source": [
    "predict_fn = lambda df,model,ignore_columns:wrapDm(df,model,ignore_columns)"
   ]
  },
  {
   "cell_type": "code",
   "execution_count": 10,
   "metadata": {
    "ExecuteTime": {
     "end_time": "2020-04-26T16:34:41.732153Z",
     "start_time": "2020-04-26T16:31:33.741693Z"
    }
   },
   "outputs": [
    {
     "name": "stderr",
     "output_type": "stream",
     "text": [
      "100%|██████████| 134/134 [02:07<00:00,  1.05it/s]\n"
     ]
    }
   ],
   "source": [
    "pos_rankings_walmart,flippedPos_walmart = explainSamples(test,[walmart,amazon],walmart_model,predict_fn,\n",
    "                                                        1,maxLenAttributeSet=1)"
   ]
  },
  {
   "cell_type": "code",
   "execution_count": 11,
   "metadata": {
    "ExecuteTime": {
     "end_time": "2020-04-26T16:35:10.244220Z",
     "start_time": "2020-04-26T16:35:10.026359Z"
    }
   },
   "outputs": [
    {
     "data": {
      "text/plain": [
       "<matplotlib.axes._subplots.AxesSubplot at 0x7fbcbc44a850>"
      ]
     },
     "execution_count": 11,
     "metadata": {},
     "output_type": "execute_result"
    },
    {
     "data": {
      "image/png": "[encoded data removed]",
      "text/plain": [
       "<Figure size 432x288 with 1 Axes>"
      ]
     },
     "metadata": {
      "needs_background": "light"
     },
     "output_type": "display_data"
    }
   ],
   "source": [
    "pos_rankings_walmart.plot.barh(color='green')"
   ]
  },
  {
   "cell_type": "code",
   "execution_count": 9,
   "metadata": {
    "ExecuteTime": {
     "end_time": "2020-03-20T13:52:05.470571Z",
     "start_time": "2020-03-20T13:52:05.284309Z"
    }
   },
   "outputs": [
    {
     "data": {
      "image/png": "[encoded data removed]",
      "text/plain": [
       "<Figure size 360x360 with 1 Axes>"
      ]
     },
     "metadata": {
      "needs_background": "light"
     },
     "output_type": "display_data"
    }
   ],
   "source": [
    "plot,posrankings = aggregateRankings(pos_rankings_walmart,positive=True,maxLenAttributes=1,lenTriangles=134)"
   ]
  },
  {
   "cell_type": "code",
   "execution_count": 48,
   "metadata": {
    "ExecuteTime": {
     "end_time": "2020-02-28T15:01:14.656772Z",
     "start_time": "2020-02-28T15:01:14.533100Z"
    }
   },
   "outputs": [
    {
     "data": {
      "text/plain": [
       "(9280, 11869, 962, 3333)"
      ]
     },
     "execution_count": 48,
     "metadata": {},
     "output_type": "execute_result"
    }
   ],
   "source": [
    "newPositives = pd.concat([flippedNeg_walmart,notFlippedPos_walmart],ignore_index=True)\n",
    "newNegatives = pd.concat([flippedPos_walmart,notFlippedNeg_walmart],ignore_index=True)\n",
    "extendedNeg,extendedPos= extendDatasets(WALMART_DIR,newNegatives,newPositives)\n",
    "len(negatives),len(extendedNeg),len(positives),len(extendedPos)"
   ]
  },
  {
   "cell_type": "code",
   "execution_count": 49,
   "metadata": {
    "ExecuteTime": {
     "end_time": "2020-02-28T15:01:53.830057Z",
     "start_time": "2020-02-28T15:01:53.603045Z"
    }
   },
   "outputs": [],
   "source": [
    "extendedNeg.to_csv(WALMART_DIR+'extended_negatives.csv',index=False)\n",
    "extendedPos.to_csv(WALMART_DIR+'extended_positives.csv',index=False)"
   ]
  },
  {
   "cell_type": "markdown",
   "metadata": {},
   "source": [
    "### Mine patterns"
   ]
  },
  {
   "cell_type": "code",
   "execution_count": 44,
   "metadata": {
    "ExecuteTime": {
     "end_time": "2020-02-15T16:34:21.523606Z",
     "start_time": "2020-02-15T16:34:21.467361Z"
    }
   },
   "outputs": [
    {
     "data": {
      "text/plain": [
       "0.9366754617414248"
      ]
     },
     "execution_count": 44,
     "metadata": {},
     "output_type": "execute_result"
    }
   ],
   "source": [
    "modelnoIsEqual = 0\n",
    "df = flippedNeg_walmart[flippedNeg_walmart.alteredAttribute==('modelno',)]\n",
    "lmodelno = df.ltable_modelno.values\n",
    "rmodelno = df.rtable_modelno.values\n",
    "for l,r in zip(lmodelno,rmodelno):\n",
    "    if l==r :\n",
    "        modelnoIsEqual +=1\n",
    "modelnoIsEqual/len(lmodelno)"
   ]
  },
  {
   "cell_type": "markdown",
   "metadata": {},
   "source": [
    "## Amazon-Google"
   ]
  },
  {
   "cell_type": "code",
   "execution_count": 3,
   "metadata": {
    "ExecuteTime": {
     "end_time": "2020-04-27T16:39:04.702425Z",
     "start_time": "2020-04-27T16:39:04.663654Z"
    }
   },
   "outputs": [],
   "source": [
    "GOOGLE_DIR = 'datasets/Structured/Amazon-Google/'"
   ]
  },
  {
   "cell_type": "markdown",
   "metadata": {},
   "source": [
    "### RNN"
   ]
  },
  {
   "cell_type": "code",
   "execution_count": 9,
   "metadata": {
    "ExecuteTime": {
     "end_time": "2020-02-18T16:07:06.699532Z",
     "start_time": "2020-02-18T16:07:01.619313Z"
    }
   },
   "outputs": [],
   "source": [
    "google_rnn = dm.MatchingModel(attr_summarizer='rnn')\n",
    "google_rnn.load_state('models/amazongoogle_rnn.pth')\n",
    "google_rnn = google_rnn.to('cuda')"
   ]
  },
  {
   "cell_type": "code",
   "execution_count": 7,
   "metadata": {
    "ExecuteTime": {
     "end_time": "2020-02-16T17:30:21.762743Z",
     "start_time": "2020-02-16T17:30:05.565555Z"
    }
   },
   "outputs": [],
   "source": [
    "predictions = wrapDm(test_df,google_rnn,ignore_columns=['ltable_id','rtable_id','id','label'])\n",
    "tp_group = test_df[(predictions[:,1]>=0.5)& (test_df['label'] == 1)]\n",
    "tn_group = test_df[(predictions[:,0] >=0.5)& (test_df['label']==0)]"
   ]
  },
  {
   "cell_type": "code",
   "execution_count": 8,
   "metadata": {
    "ExecuteTime": {
     "end_time": "2020-02-16T17:30:21.798487Z",
     "start_time": "2020-02-16T17:30:21.764940Z"
    }
   },
   "outputs": [
    {
     "data": {
      "text/plain": [
       "(2099, 10)"
      ]
     },
     "execution_count": 8,
     "metadata": {},
     "output_type": "execute_result"
    }
   ],
   "source": [
    "correctPredictions_google = pd.concat([tp_group,tn_group])\n",
    "correctPredictions_google.shape"
   ]
  },
  {
   "cell_type": "code",
   "execution_count": 10,
   "metadata": {
    "ExecuteTime": {
     "end_time": "2020-02-16T17:32:52.179078Z",
     "start_time": "2020-02-16T17:31:31.781284Z"
    }
   },
   "outputs": [
    {
     "name": "stderr",
     "output_type": "stream",
     "text": [
      "100%|██████████| 426/426 [01:18<00:00,  5.41it/s]\n"
     ]
    }
   ],
   "source": [
    "negrankings_google,neg_triangles_google,flippedPredictions_neg_google,notFlipped_neg_google = explainSamples(correctPredictions_google,\n",
    "                                                          [tableA_google,tableB_google],google_rnn,originalClass=0,\n",
    "                                                                                       maxLenAttributeSet=2)"
   ]
  },
  {
   "cell_type": "code",
   "execution_count": 14,
   "metadata": {
    "ExecuteTime": {
     "end_time": "2020-02-16T17:33:32.445584Z",
     "start_time": "2020-02-16T17:33:32.124899Z"
    }
   },
   "outputs": [
    {
     "data": {
      "image/png": "[encoded data removed]",
      "text/plain": [
       "<Figure size 432x432 with 1 Axes>"
      ]
     },
     "metadata": {
      "needs_background": "light"
     },
     "output_type": "display_data"
    }
   ],
   "source": [
    "plot,negrank = aggregateRankings(negrankings_google,positive=False,maxLenAttributes=2)"
   ]
  },
  {
   "cell_type": "code",
   "execution_count": 15,
   "metadata": {
    "ExecuteTime": {
     "end_time": "2020-02-16T17:35:19.273365Z",
     "start_time": "2020-02-16T17:33:59.360289Z"
    }
   },
   "outputs": [
    {
     "name": "stderr",
     "output_type": "stream",
     "text": [
      "100%|██████████| 426/426 [01:18<00:00,  5.44it/s]\n"
     ]
    }
   ],
   "source": [
    "pos_rankings_google,pos_triangles_google,flipped_pos_google,notflipped_pos_google = explainSamples(correctPredictions_google,\n",
    "                                                          [tableA_google,tableB_google],google_rnn,originalClass=1,\n",
    "                                                                                                  maxLenAttributeSet=2)"
   ]
  },
  {
   "cell_type": "code",
   "execution_count": 17,
   "metadata": {
    "ExecuteTime": {
     "end_time": "2020-02-16T17:36:10.201381Z",
     "start_time": "2020-02-16T17:36:09.878614Z"
    }
   },
   "outputs": [
    {
     "data": {
      "image/png": "[encoded data removed]",
      "text/plain": [
       "<Figure size 432x432 with 1 Axes>"
      ]
     },
     "metadata": {
      "needs_background": "light"
     },
     "output_type": "display_data"
    }
   ],
   "source": [
    "plot,posrank = aggregateRankings(pos_rankings_google,positive=True,maxLenAttributes=2)"
   ]
  },
  {
   "cell_type": "markdown",
   "metadata": {},
   "source": [
    "### Mine patterns"
   ]
  },
  {
   "cell_type": "code",
   "execution_count": 42,
   "metadata": {
    "ExecuteTime": {
     "end_time": "2020-02-16T18:03:34.405990Z",
     "start_time": "2020-02-16T18:03:34.365102Z"
    }
   },
   "outputs": [
    {
     "data": {
      "text/plain": [
       "399.00     5\n",
       "29.99      4\n",
       "69.95      4\n",
       "299.99     4\n",
       "199.00     4\n",
       "          ..\n",
       "125.99     1\n",
       "23.53      1\n",
       "1025.99    1\n",
       "308.99     1\n",
       "39.92      1\n",
       "Name: rtable_price, Length: 84, dtype: int64"
      ]
     },
     "execution_count": 42,
     "metadata": {},
     "output_type": "execute_result"
    }
   ],
   "source": [
    "flippedOnPrice = flipped_pos_google[flipped_pos_google.alteredAttribute==('price',)]\n",
    "flippedOnPrice['rtable_price'].value_counts()"
   ]
  },
  {
   "cell_type": "code",
   "execution_count": 43,
   "metadata": {
    "ExecuteTime": {
     "end_time": "2020-02-16T18:04:02.302452Z",
     "start_time": "2020-02-16T18:04:02.261809Z"
    }
   },
   "outputs": [],
   "source": [
    "amazongoogle_train_pos = train_df[train_df.label==1]\n",
    "ltablePrices = amazongoogle_train_pos.ltable_price.values\n",
    "rtablePrices = amazongoogle_train_pos.rtable_price.values"
   ]
  },
  {
   "cell_type": "code",
   "execution_count": 50,
   "metadata": {
    "ExecuteTime": {
     "end_time": "2020-02-16T18:31:19.093014Z",
     "start_time": "2020-02-16T18:31:19.051997Z"
    }
   },
   "outputs": [
    {
     "data": {
      "text/plain": [
       "101"
      ]
     },
     "execution_count": 50,
     "metadata": {},
     "output_type": "execute_result"
    }
   ],
   "source": [
    "np.count_nonzero(train_df[train_df.label==0].ltable_price.values==399)"
   ]
  },
  {
   "cell_type": "code",
   "execution_count": 51,
   "metadata": {
    "ExecuteTime": {
     "end_time": "2020-02-16T18:31:32.805799Z",
     "start_time": "2020-02-16T18:31:32.769751Z"
    }
   },
   "outputs": [
    {
     "data": {
      "text/plain": [
       "0"
      ]
     },
     "execution_count": 51,
     "metadata": {},
     "output_type": "execute_result"
    }
   ],
   "source": [
    "np.count_nonzero(train_df[train_df.label==0].rtable_price.values==399)"
   ]
  },
  {
   "cell_type": "code",
   "execution_count": 49,
   "metadata": {
    "ExecuteTime": {
     "end_time": "2020-02-16T18:30:36.182353Z",
     "start_time": "2020-02-16T18:30:36.123913Z"
    }
   },
   "outputs": [
    {
     "data": {
      "text/plain": [
       "2"
      ]
     },
     "execution_count": 49,
     "metadata": {},
     "output_type": "execute_result"
    }
   ],
   "source": [
    "import numpy as np\n",
    "np.count_nonzero(ltablePrices == 399.00)"
   ]
  },
  {
   "cell_type": "code",
   "execution_count": 39,
   "metadata": {
    "ExecuteTime": {
     "end_time": "2020-02-16T18:02:07.514991Z",
     "start_time": "2020-02-16T18:02:07.473541Z"
    }
   },
   "outputs": [
    {
     "data": {
      "text/plain": [
       "99.95      14\n",
       "649.00     12\n",
       "219.99     11\n",
       "89.99      11\n",
       "199.00     10\n",
       "205.99      7\n",
       "19.99       7\n",
       "249.00      6\n",
       "239.99      5\n",
       "29.99       4\n",
       "499.99      4\n",
       "89.95       4\n",
       "998.95      3\n",
       "34.97       3\n",
       "1799.00     3\n",
       "17.97       2\n",
       "45.99       2\n",
       "699.00      2\n",
       "369.09      2\n",
       "1199.00     2\n",
       "699.99      1\n",
       "158.39      1\n",
       "299.95      1\n",
       "85.07       1\n",
       "119.99      1\n",
       "299.99      1\n",
       "499.00      1\n",
       "43.32       1\n",
       "18.97       1\n",
       "34.99       1\n",
       "399.00      1\n",
       "Name: ltable_price, dtype: int64"
      ]
     },
     "execution_count": 39,
     "metadata": {},
     "output_type": "execute_result"
    }
   ],
   "source": [
    "flippedOnPrice['ltable_price'].value_counts()"
   ]
  },
  {
   "cell_type": "markdown",
   "metadata": {},
   "source": [
    "#### Retrain model"
   ]
  },
  {
   "cell_type": "code",
   "execution_count": 25,
   "metadata": {
    "ExecuteTime": {
     "end_time": "2020-02-16T17:46:23.044000Z",
     "start_time": "2020-02-16T17:46:09.753029Z"
    }
   },
   "outputs": [],
   "source": [
    "train_predictions = wrapDm(train_df,google_rnn,ignore_columns=['ltable_id','rtable_id','id','label'])\n",
    "tp_group = train_df[(train_predictions[:,1]>=0.5)& train_df['label'] == 1]\n",
    "tn_group = train_df[(train_predictions[:,0] >=0.5)& train_df['label']==0]"
   ]
  },
  {
   "cell_type": "code",
   "execution_count": 26,
   "metadata": {
    "ExecuteTime": {
     "end_time": "2020-02-16T17:46:23.078633Z",
     "start_time": "2020-02-16T17:46:23.046209Z"
    }
   },
   "outputs": [],
   "source": [
    "correct_trainPred_google = pd.concat([tp_group,tn_group])\n",
    "correct_trainPred_google_sample = correct_trainPred_google.sample(frac=0.5)"
   ]
  },
  {
   "cell_type": "code",
   "execution_count": 27,
   "metadata": {
    "ExecuteTime": {
     "end_time": "2020-02-16T17:46:23.122325Z",
     "start_time": "2020-02-16T17:46:23.082063Z"
    }
   },
   "outputs": [
    {
     "ename": "TypeError",
     "evalue": "explainSamples() missing 1 required positional argument: 'maxLenAttributeSet'",
     "output_type": "error",
     "traceback": [
      "\u001b[0;31m---------------------------------------------------------------------------\u001b[0m",
      "\u001b[0;31mTypeError\u001b[0m                                 Traceback (most recent call last)",
      "\u001b[0;32m<ipython-input-27-2c62193b6857>\u001b[0m in \u001b[0;36m<module>\u001b[0;34m()\u001b[0m\n\u001b[1;32m      1\u001b[0m pos_rankings_train_google,pos_triangles_google,flippedPredictions_pos_google_train = explainSamples(correct_trainPred_google_sample,\n\u001b[0;32m----> 2\u001b[0;31m                                                           [tableA_google,tableB_google],google_rnn,originalClass=1)\n\u001b[0m",
      "\u001b[0;31mTypeError\u001b[0m: explainSamples() missing 1 required positional argument: 'maxLenAttributeSet'"
     ]
    }
   ],
   "source": [
    "pos_rankings_train_google,pos_triangles_google,flippedPredictions_pos_google_train = explainSamples(correct_trainPred_google_sample,\n",
    "                                                          [tableA_google,tableB_google],google_rnn,originalClass=1)"
   ]
  },
  {
   "cell_type": "code",
   "execution_count": 357,
   "metadata": {
    "ExecuteTime": {
     "end_time": "2020-02-06T19:04:51.826485Z",
     "start_time": "2020-02-06T19:04:51.791897Z"
    }
   },
   "outputs": [],
   "source": [
    "newTrainingSamples = flippedPredictions_pos_google_train[(flippedPredictions_pos_google_train.alteredAttribute==('price',))]"
   ]
  },
  {
   "cell_type": "code",
   "execution_count": 358,
   "metadata": {
    "ExecuteTime": {
     "end_time": "2020-02-06T19:04:52.517003Z",
     "start_time": "2020-02-06T19:04:52.467869Z"
    }
   },
   "outputs": [
    {
     "data": {
      "text/plain": [
       "(83, 10)"
      ]
     },
     "execution_count": 358,
     "metadata": {},
     "output_type": "execute_result"
    }
   ],
   "source": [
    "newTrain_correct = adjustNewTraining(newTrainingSamples)\n",
    "newTrain_correct.to_csv('datasets/Structured/Amazon-Google/mojito_newtrain.csv',index=False)\n",
    "newTrain_correct.shape"
   ]
  },
  {
   "cell_type": "code",
   "execution_count": 359,
   "metadata": {
    "ExecuteTime": {
     "end_time": "2020-02-06T19:04:54.924181Z",
     "start_time": "2020-02-06T19:04:54.811834Z"
    }
   },
   "outputs": [],
   "source": [
    "train_df,valid_df,test_df = generate_train_valid_test(GOOGLE_DIR,['train.csv','valid.csv','test.csv'],\n",
    "                                                     left_prefix='ltable_',right_prefix='rtable_',drop_lrid=False)"
   ]
  },
  {
   "cell_type": "code",
   "execution_count": 360,
   "metadata": {
    "ExecuteTime": {
     "end_time": "2020-02-06T19:04:56.024074Z",
     "start_time": "2020-02-06T19:04:55.829441Z"
    }
   },
   "outputs": [],
   "source": [
    "valid_df.to_csv(GOOGLE_DIR+'valid_withid.csv',index=False)\n",
    "test_df.to_csv(GOOGLE_DIR+'test_withid.csv',index=False)\n",
    "improved_train = pd.concat([train_df,newTrain_correct])\n",
    "improved_train.to_csv(GOOGLE_DIR+'improved_train_rnn.csv',index=False)"
   ]
  },
  {
   "cell_type": "code",
   "execution_count": 361,
   "metadata": {
    "ExecuteTime": {
     "end_time": "2020-02-06T19:05:14.003061Z",
     "start_time": "2020-02-06T19:05:04.922395Z"
    }
   },
   "outputs": [
    {
     "name": "stderr",
     "output_type": "stream",
     "text": [
      "WARNING:deepmatcher.data.dataset:Rebuilding data cache because: ['One or more data files have been modified.']\n",
      "\n",
      "Reading and processing data from \"datasets/Structured/Amazon-Google/improved_train_rnn.csv\"\n",
      "0% [############################# ] 100% | ETA: 00:00:00\n",
      "Reading and processing data from \"datasets/Structured/Amazon-Google/valid_withid.csv\"\n",
      "0% [############################# ] 100% | ETA: 00:00:00\n",
      "Reading and processing data from \"datasets/Structured/Amazon-Google/test_withid.csv\"\n",
      "0% [############################# ] 100% | ETA: 00:00:00\n",
      "Building vocabulary\n",
      "0% [#######] 100% | ETA: 00:00:00\n",
      "Total time elapsed: 00:00:00\n",
      "\n",
      "Computing principal components\n",
      "0% [#######] 100% | ETA: 00:00:00\n",
      "Total time elapsed: 00:00:02\n"
     ]
    }
   ],
   "source": [
    "train,validation,test = dm.data.process(GOOGLE_DIR,train='improved_train_rnn.csv',validation='valid_withid.csv',\n",
    "                                       test='test_withid.csv',cache='impr.pth',left_prefix='ltable_',\n",
    "                                       right_prefix='rtable_',ignore_columns=['ltable_id','rtable_id'])"
   ]
  },
  {
   "cell_type": "code",
   "execution_count": 362,
   "metadata": {
    "ExecuteTime": {
     "end_time": "2020-02-06T19:12:58.954768Z",
     "start_time": "2020-02-06T19:05:14.615786Z"
    }
   },
   "outputs": [
    {
     "name": "stdout",
     "output_type": "stream",
     "text": [
      "* Number of trainable parameters: 1762802\n",
      "===>  TRAIN Epoch 1\n"
     ]
    },
    {
     "name": "stderr",
     "output_type": "stream",
     "text": [
      "/home/nvidia/anaconda3/envs/torchenv/lib/python3.6/site-packages/torch/nn/functional.py:1932: UserWarning: reduction: 'mean' divides the total loss by both the batch size and the support size.'batchmean' divides only by the batch size, and aligns with the KL div math definition.'mean' will be changed to behave the same as 'batchmean' in the next major release.\n",
      "  warnings.warn(\"reduction: 'mean' divides the total loss by both the batch size and the support size.\"\n",
      "0% [██████████████████████████████] 100% | ETA: 00:00:00\n",
      "Total time elapsed: 00:00:14\n"
     ]
    },
    {
     "name": "stdout",
     "output_type": "stream",
     "text": [
      "Finished Epoch 1 || Run Time:    6.9 | Load Time:    7.5 || F1:  23.72 | Prec:  13.57 | Rec:  94.12 || Ex/s: 480.97\n",
      "\n",
      "===>  EVAL Epoch 1\n"
     ]
    },
    {
     "name": "stderr",
     "output_type": "stream",
     "text": [
      "0% [██████████████] 100% | ETA: 00:00:00\n",
      "Total time elapsed: 00:00:03\n"
     ]
    },
    {
     "name": "stdout",
     "output_type": "stream",
     "text": [
      "Finished Epoch 1 || Run Time:    0.9 | Load Time:    2.3 || F1:  32.50 | Prec:  20.37 | Rec:  80.34 || Ex/s: 721.08\n",
      "\n",
      "* Best F1: tensor(32.4978, device='cuda:0')\n",
      "Saving best model...\n",
      "Done.\n",
      "---------------------\n",
      "\n",
      "===>  TRAIN Epoch 2\n"
     ]
    },
    {
     "name": "stderr",
     "output_type": "stream",
     "text": [
      "0% [██████████████████████████████] 100% | ETA: 00:00:00\n",
      "Total time elapsed: 00:00:14\n"
     ]
    },
    {
     "name": "stdout",
     "output_type": "stream",
     "text": [
      "Finished Epoch 2 || Run Time:    6.9 | Load Time:    7.5 || F1:  35.91 | Prec:  22.06 | Rec:  96.55 || Ex/s: 482.33\n",
      "\n",
      "===>  EVAL Epoch 2\n"
     ]
    },
    {
     "name": "stderr",
     "output_type": "stream",
     "text": [
      "0% [██████████████] 100% | ETA: 00:00:00\n",
      "Total time elapsed: 00:00:03\n"
     ]
    },
    {
     "name": "stdout",
     "output_type": "stream",
     "text": [
      "Finished Epoch 2 || Run Time:    0.9 | Load Time:    2.3 || F1:  43.18 | Prec:  29.24 | Rec:  82.48 || Ex/s: 722.18\n",
      "\n",
      "* Best F1: tensor(43.1767, device='cuda:0')\n",
      "Saving best model...\n",
      "Done.\n",
      "---------------------\n",
      "\n",
      "===>  TRAIN Epoch 3\n"
     ]
    },
    {
     "name": "stderr",
     "output_type": "stream",
     "text": [
      "0% [██████████████████████████████] 100% | ETA: 00:00:00\n",
      "Total time elapsed: 00:00:14\n"
     ]
    },
    {
     "name": "stdout",
     "output_type": "stream",
     "text": [
      "Finished Epoch 3 || Run Time:    6.9 | Load Time:    7.5 || F1:  52.66 | Prec:  35.99 | Rec:  98.08 || Ex/s: 481.69\n",
      "\n",
      "===>  EVAL Epoch 3\n"
     ]
    },
    {
     "name": "stderr",
     "output_type": "stream",
     "text": [
      "0% [██████████████] 100% | ETA: 00:00:00\n",
      "Total time elapsed: 00:00:03\n"
     ]
    },
    {
     "name": "stdout",
     "output_type": "stream",
     "text": [
      "Finished Epoch 3 || Run Time:    0.9 | Load Time:    2.3 || F1:  53.53 | Prec:  40.35 | Rec:  79.49 || Ex/s: 717.49\n",
      "\n",
      "* Best F1: tensor(53.5252, device='cuda:0')\n",
      "Saving best model...\n",
      "Done.\n",
      "---------------------\n",
      "\n",
      "===>  TRAIN Epoch 4\n"
     ]
    },
    {
     "name": "stderr",
     "output_type": "stream",
     "text": [
      "0% [██████████████████████████████] 100% | ETA: 00:00:00\n",
      "Total time elapsed: 00:00:14\n"
     ]
    },
    {
     "name": "stdout",
     "output_type": "stream",
     "text": [
      "Finished Epoch 4 || Run Time:    6.9 | Load Time:    7.5 || F1:  67.10 | Prec:  50.82 | Rec:  98.72 || Ex/s: 481.66\n",
      "\n",
      "===>  EVAL Epoch 4\n"
     ]
    },
    {
     "name": "stderr",
     "output_type": "stream",
     "text": [
      "0% [██████████████] 100% | ETA: 00:00:00\n",
      "Total time elapsed: 00:00:03\n"
     ]
    },
    {
     "name": "stdout",
     "output_type": "stream",
     "text": [
      "Finished Epoch 4 || Run Time:    0.9 | Load Time:    2.3 || F1:  52.28 | Prec:  38.65 | Rec:  80.77 || Ex/s: 720.92\n",
      "\n",
      "---------------------\n",
      "\n",
      "===>  TRAIN Epoch 5\n"
     ]
    },
    {
     "name": "stderr",
     "output_type": "stream",
     "text": [
      "0% [██████████████████████████████] 100% | ETA: 00:00:00\n",
      "Total time elapsed: 00:00:14\n"
     ]
    },
    {
     "name": "stdout",
     "output_type": "stream",
     "text": [
      "Finished Epoch 5 || Run Time:    7.0 | Load Time:    7.5 || F1:  77.96 | Prec:  64.09 | Rec:  99.49 || Ex/s: 479.31\n",
      "\n",
      "===>  EVAL Epoch 5\n"
     ]
    },
    {
     "name": "stderr",
     "output_type": "stream",
     "text": [
      "0% [██████████████] 100% | ETA: 00:00:00\n",
      "Total time elapsed: 00:00:03\n"
     ]
    },
    {
     "name": "stdout",
     "output_type": "stream",
     "text": [
      "Finished Epoch 5 || Run Time:    0.9 | Load Time:    2.3 || F1:  56.42 | Prec:  43.35 | Rec:  80.77 || Ex/s: 721.76\n",
      "\n",
      "* Best F1: tensor(56.4179, device='cuda:0')\n",
      "Saving best model...\n",
      "Done.\n",
      "---------------------\n",
      "\n",
      "===>  TRAIN Epoch 6\n"
     ]
    },
    {
     "name": "stderr",
     "output_type": "stream",
     "text": [
      "0% [██████████████████████████████] 100% | ETA: 00:00:00\n",
      "Total time elapsed: 00:00:14\n"
     ]
    },
    {
     "name": "stdout",
     "output_type": "stream",
     "text": [
      "Finished Epoch 6 || Run Time:    6.9 | Load Time:    7.5 || F1:  85.76 | Prec:  75.22 | Rec:  99.74 || Ex/s: 481.84\n",
      "\n",
      "===>  EVAL Epoch 6\n"
     ]
    },
    {
     "name": "stderr",
     "output_type": "stream",
     "text": [
      "0% [██████████████] 100% | ETA: 00:00:00\n",
      "Total time elapsed: 00:00:03\n"
     ]
    },
    {
     "name": "stdout",
     "output_type": "stream",
     "text": [
      "Finished Epoch 6 || Run Time:    0.9 | Load Time:    2.3 || F1:  58.88 | Prec:  47.86 | Rec:  76.50 || Ex/s: 711.58\n",
      "\n",
      "* Best F1: tensor(58.8816, device='cuda:0')\n",
      "Saving best model...\n",
      "Done.\n",
      "---------------------\n",
      "\n",
      "===>  TRAIN Epoch 7\n"
     ]
    },
    {
     "name": "stderr",
     "output_type": "stream",
     "text": [
      "0% [██████████████████████████████] 100% | ETA: 00:00:00\n",
      "Total time elapsed: 00:00:14\n"
     ]
    },
    {
     "name": "stdout",
     "output_type": "stream",
     "text": [
      "Finished Epoch 7 || Run Time:    6.9 | Load Time:    7.5 || F1:  89.97 | Prec:  81.93 | Rec:  99.74 || Ex/s: 481.75\n",
      "\n",
      "===>  EVAL Epoch 7\n"
     ]
    },
    {
     "name": "stderr",
     "output_type": "stream",
     "text": [
      "0% [██████████████] 100% | ETA: 00:00:00\n",
      "Total time elapsed: 00:00:03\n"
     ]
    },
    {
     "name": "stdout",
     "output_type": "stream",
     "text": [
      "Finished Epoch 7 || Run Time:    0.9 | Load Time:    2.3 || F1:  59.41 | Prec:  55.35 | Rec:  64.10 || Ex/s: 719.16\n",
      "\n",
      "* Best F1: tensor(59.4059, device='cuda:0')\n",
      "Saving best model...\n",
      "Done.\n",
      "---------------------\n",
      "\n",
      "===>  TRAIN Epoch 8\n"
     ]
    },
    {
     "name": "stderr",
     "output_type": "stream",
     "text": [
      "0% [██████████████████████████████] 100% | ETA: 00:00:00\n",
      "Total time elapsed: 00:00:22\n"
     ]
    },
    {
     "name": "stdout",
     "output_type": "stream",
     "text": [
      "Finished Epoch 8 || Run Time:   11.8 | Load Time:   10.9 || F1:  92.00 | Prec:  85.19 | Rec: 100.00 || Ex/s: 306.60\n",
      "\n",
      "===>  EVAL Epoch 8\n"
     ]
    },
    {
     "name": "stderr",
     "output_type": "stream",
     "text": [
      "0% [██████████████] 100% | ETA: 00:00:00\n",
      "Total time elapsed: 00:00:03\n"
     ]
    },
    {
     "name": "stdout",
     "output_type": "stream",
     "text": [
      "Finished Epoch 8 || Run Time:    1.0 | Load Time:    2.4 || F1:  58.15 | Prec:  53.82 | Rec:  63.25 || Ex/s: 673.70\n",
      "\n",
      "---------------------\n",
      "\n",
      "===>  TRAIN Epoch 9\n"
     ]
    },
    {
     "name": "stderr",
     "output_type": "stream",
     "text": [
      "0% [██████████████████████████████] 100% | ETA: 00:00:00\n",
      "Total time elapsed: 00:00:22\n"
     ]
    },
    {
     "name": "stdout",
     "output_type": "stream",
     "text": [
      "Finished Epoch 9 || Run Time:   11.8 | Load Time:   10.7 || F1:  93.71 | Prec:  88.16 | Rec: 100.00 || Ex/s: 309.06\n",
      "\n",
      "===>  EVAL Epoch 9\n"
     ]
    },
    {
     "name": "stderr",
     "output_type": "stream",
     "text": [
      "0% [██████████████] 100% | ETA: 00:00:00\n",
      "Total time elapsed: 00:00:03\n"
     ]
    },
    {
     "name": "stdout",
     "output_type": "stream",
     "text": [
      "Finished Epoch 9 || Run Time:    0.9 | Load Time:    2.3 || F1:  59.29 | Prec:  55.15 | Rec:  64.10 || Ex/s: 725.90\n",
      "\n",
      "---------------------\n",
      "\n",
      "===>  TRAIN Epoch 10\n"
     ]
    },
    {
     "name": "stderr",
     "output_type": "stream",
     "text": [
      "0% [██████████████████████████████] 100% | ETA: 00:00:00\n",
      "Total time elapsed: 00:00:22\n"
     ]
    },
    {
     "name": "stdout",
     "output_type": "stream",
     "text": [
      "Finished Epoch 10 || Run Time:   12.2 | Load Time:   11.0 || F1:  94.56 | Prec:  89.68 | Rec: 100.00 || Ex/s: 299.83\n",
      "\n",
      "===>  EVAL Epoch 10\n"
     ]
    },
    {
     "name": "stderr",
     "output_type": "stream",
     "text": [
      "0% [██████████████] 100% | ETA: 00:00:00\n",
      "Total time elapsed: 00:00:03\n"
     ]
    },
    {
     "name": "stdout",
     "output_type": "stream",
     "text": [
      "Finished Epoch 10 || Run Time:    0.9 | Load Time:    2.3 || F1:  57.20 | Prec:  53.76 | Rec:  61.11 || Ex/s: 720.54\n",
      "\n",
      "---------------------\n",
      "\n",
      "===>  TRAIN Epoch 11\n"
     ]
    },
    {
     "name": "stderr",
     "output_type": "stream",
     "text": [
      "0% [██████████████████████████████] 100% | ETA: 00:00:00\n",
      "Total time elapsed: 00:00:22\n"
     ]
    },
    {
     "name": "stdout",
     "output_type": "stream",
     "text": [
      "Finished Epoch 11 || Run Time:   12.1 | Load Time:   10.9 || F1:  95.77 | Prec:  91.89 | Rec: 100.00 || Ex/s: 303.63\n",
      "\n",
      "===>  EVAL Epoch 11\n"
     ]
    },
    {
     "name": "stderr",
     "output_type": "stream",
     "text": [
      "0% [██████████████] 100% | ETA: 00:00:00\n",
      "Total time elapsed: 00:00:03\n"
     ]
    },
    {
     "name": "stdout",
     "output_type": "stream",
     "text": [
      "Finished Epoch 11 || Run Time:    1.0 | Load Time:    2.5 || F1:  57.95 | Prec:  54.75 | Rec:  61.54 || Ex/s: 670.45\n",
      "\n",
      "---------------------\n",
      "\n",
      "===>  TRAIN Epoch 12\n"
     ]
    },
    {
     "name": "stderr",
     "output_type": "stream",
     "text": [
      "0% [██████████████████████████████] 100% | ETA: 00:00:00\n",
      "Total time elapsed: 00:00:22\n"
     ]
    },
    {
     "name": "stdout",
     "output_type": "stream",
     "text": [
      "Finished Epoch 12 || Run Time:   12.2 | Load Time:   11.1 || F1:  96.42 | Prec:  93.10 | Rec: 100.00 || Ex/s: 298.88\n",
      "\n",
      "===>  EVAL Epoch 12\n"
     ]
    },
    {
     "name": "stderr",
     "output_type": "stream",
     "text": [
      "0% [██████████████] 100% | ETA: 00:00:00\n",
      "Total time elapsed: 00:00:03\n"
     ]
    },
    {
     "name": "stdout",
     "output_type": "stream",
     "text": [
      "Finished Epoch 12 || Run Time:    1.0 | Load Time:    2.5 || F1:  58.12 | Prec:  54.72 | Rec:  61.97 || Ex/s: 672.40\n",
      "\n",
      "---------------------\n",
      "\n",
      "===>  TRAIN Epoch 13\n"
     ]
    },
    {
     "name": "stderr",
     "output_type": "stream",
     "text": [
      "0% [██████████████████████████████] 100% | ETA: 00:00:00\n",
      "Total time elapsed: 00:00:21\n"
     ]
    },
    {
     "name": "stdout",
     "output_type": "stream",
     "text": [
      "Finished Epoch 13 || Run Time:   11.4 | Load Time:   10.1 || F1:  96.90 | Prec:  93.99 | Rec: 100.00 || Ex/s: 324.54\n",
      "\n",
      "===>  EVAL Epoch 13\n"
     ]
    },
    {
     "name": "stderr",
     "output_type": "stream",
     "text": [
      "0% [██████████████] 100% | ETA: 00:00:00\n",
      "Total time elapsed: 00:00:03\n"
     ]
    },
    {
     "name": "stdout",
     "output_type": "stream",
     "text": [
      "Finished Epoch 13 || Run Time:    0.9 | Load Time:    2.3 || F1:  58.40 | Prec:  54.89 | Rec:  62.39 || Ex/s: 718.20\n",
      "\n",
      "---------------------\n",
      "\n",
      "===>  TRAIN Epoch 14\n"
     ]
    },
    {
     "name": "stderr",
     "output_type": "stream",
     "text": [
      "0% [██████████████████████████████] 100% | ETA: 00:00:00\n",
      "Total time elapsed: 00:00:23\n"
     ]
    },
    {
     "name": "stdout",
     "output_type": "stream",
     "text": [
      "Finished Epoch 14 || Run Time:   12.3 | Load Time:   11.2 || F1:  97.02 | Prec:  94.22 | Rec: 100.00 || Ex/s: 295.72\n",
      "\n",
      "===>  EVAL Epoch 14\n"
     ]
    },
    {
     "name": "stderr",
     "output_type": "stream",
     "text": [
      "0% [██████████████] 100% | ETA: 00:00:00\n",
      "Total time elapsed: 00:00:03\n"
     ]
    },
    {
     "name": "stdout",
     "output_type": "stream",
     "text": [
      "Finished Epoch 14 || Run Time:    0.9 | Load Time:    2.3 || F1:  58.12 | Prec:  54.72 | Rec:  61.97 || Ex/s: 712.98\n",
      "\n",
      "---------------------\n",
      "\n",
      "===>  TRAIN Epoch 15\n"
     ]
    },
    {
     "name": "stderr",
     "output_type": "stream",
     "text": [
      "0% [██████████████████████████████] 100% | ETA: 00:00:00\n",
      "Total time elapsed: 00:00:22\n"
     ]
    },
    {
     "name": "stdout",
     "output_type": "stream",
     "text": [
      "Finished Epoch 15 || Run Time:   11.8 | Load Time:   10.7 || F1:  97.20 | Prec:  94.56 | Rec: 100.00 || Ex/s: 309.73\n",
      "\n",
      "===>  EVAL Epoch 15\n"
     ]
    },
    {
     "name": "stderr",
     "output_type": "stream",
     "text": [
      "0% [██████████████] 100% | ETA: 00:00:00\n",
      "Total time elapsed: 00:00:03\n"
     ]
    },
    {
     "name": "stdout",
     "output_type": "stream",
     "text": [
      "Finished Epoch 15 || Run Time:    1.0 | Load Time:    2.5 || F1:  57.83 | Prec:  54.55 | Rec:  61.54 || Ex/s: 666.46\n",
      "\n",
      "---------------------\n",
      "\n",
      "===>  TRAIN Epoch 16\n"
     ]
    },
    {
     "name": "stderr",
     "output_type": "stream",
     "text": [
      "0% [██████████████████████████████] 100% | ETA: 00:00:00\n",
      "Total time elapsed: 00:00:21\n"
     ]
    },
    {
     "name": "stdout",
     "output_type": "stream",
     "text": [
      "Finished Epoch 16 || Run Time:   11.6 | Load Time:   10.4 || F1:  97.32 | Prec:  94.79 | Rec: 100.00 || Ex/s: 316.60\n",
      "\n",
      "===>  EVAL Epoch 16\n"
     ]
    },
    {
     "name": "stderr",
     "output_type": "stream",
     "text": [
      "0% [██████████████] 100% | ETA: 00:00:00\n",
      "Total time elapsed: 00:00:03\n"
     ]
    },
    {
     "name": "stdout",
     "output_type": "stream",
     "text": [
      "Finished Epoch 16 || Run Time:    1.0 | Load Time:    2.5 || F1:  57.95 | Prec:  54.75 | Rec:  61.54 || Ex/s: 665.59\n",
      "\n",
      "---------------------\n",
      "\n",
      "===>  TRAIN Epoch 17\n"
     ]
    },
    {
     "name": "stderr",
     "output_type": "stream",
     "text": [
      "0% [██████████████████████████████] 100% | ETA: 00:00:00\n",
      "Total time elapsed: 00:00:23\n"
     ]
    },
    {
     "name": "stdout",
     "output_type": "stream",
     "text": [
      "Finished Epoch 17 || Run Time:   12.3 | Load Time:   11.4 || F1:  97.32 | Prec:  94.79 | Rec: 100.00 || Ex/s: 293.40\n",
      "\n",
      "===>  EVAL Epoch 17\n"
     ]
    },
    {
     "name": "stderr",
     "output_type": "stream",
     "text": [
      "0% [██████████████] 100% | ETA: 00:00:00\n",
      "Total time elapsed: 00:00:03\n"
     ]
    },
    {
     "name": "stdout",
     "output_type": "stream",
     "text": [
      "Finished Epoch 17 || Run Time:    1.0 | Load Time:    2.5 || F1:  57.72 | Prec:  54.34 | Rec:  61.54 || Ex/s: 666.64\n",
      "\n",
      "---------------------\n",
      "\n",
      "===>  TRAIN Epoch 18\n"
     ]
    },
    {
     "name": "stderr",
     "output_type": "stream",
     "text": [
      "0% [██████████████████████████████] 100% | ETA: 00:00:00\n",
      "Total time elapsed: 00:00:22\n"
     ]
    },
    {
     "name": "stdout",
     "output_type": "stream",
     "text": [
      "Finished Epoch 18 || Run Time:   12.1 | Load Time:   11.0 || F1:  97.32 | Prec:  94.79 | Rec: 100.00 || Ex/s: 301.90\n",
      "\n",
      "===>  EVAL Epoch 18\n"
     ]
    },
    {
     "name": "stderr",
     "output_type": "stream",
     "text": [
      "0% [██████████████] 100% | ETA: 00:00:00\n",
      "Total time elapsed: 00:00:03\n"
     ]
    },
    {
     "name": "stdout",
     "output_type": "stream",
     "text": [
      "Finished Epoch 18 || Run Time:    0.9 | Load Time:    2.4 || F1:  57.43 | Prec:  54.17 | Rec:  61.11 || Ex/s: 689.52\n",
      "\n",
      "---------------------\n",
      "\n",
      "===>  TRAIN Epoch 19\n"
     ]
    },
    {
     "name": "stderr",
     "output_type": "stream",
     "text": [
      "0% [██████████████████████████████] 100% | ETA: 00:00:00\n",
      "Total time elapsed: 00:00:23\n"
     ]
    },
    {
     "name": "stdout",
     "output_type": "stream",
     "text": [
      "Finished Epoch 19 || Run Time:   12.3 | Load Time:   11.2 || F1:  97.32 | Prec:  94.79 | Rec: 100.00 || Ex/s: 295.91\n",
      "\n",
      "===>  EVAL Epoch 19\n"
     ]
    },
    {
     "name": "stderr",
     "output_type": "stream",
     "text": [
      "0% [██████████████] 100% | ETA: 00:00:00\n",
      "Total time elapsed: 00:00:03\n"
     ]
    },
    {
     "name": "stdout",
     "output_type": "stream",
     "text": [
      "Finished Epoch 19 || Run Time:    1.0 | Load Time:    2.5 || F1:  57.72 | Prec:  54.34 | Rec:  61.54 || Ex/s: 672.12\n",
      "\n",
      "---------------------\n",
      "\n",
      "===>  TRAIN Epoch 20\n"
     ]
    },
    {
     "name": "stderr",
     "output_type": "stream",
     "text": [
      "0% [██████████████████████████████] 100% | ETA: 00:00:00\n",
      "Total time elapsed: 00:00:22\n"
     ]
    },
    {
     "name": "stdout",
     "output_type": "stream",
     "text": [
      "Finished Epoch 20 || Run Time:   11.8 | Load Time:   10.5 || F1:  97.38 | Prec:  94.90 | Rec: 100.00 || Ex/s: 312.06\n",
      "\n",
      "===>  EVAL Epoch 20\n"
     ]
    },
    {
     "name": "stderr",
     "output_type": "stream",
     "text": [
      "0% [██████████████] 100% | ETA: 00:00:00\n",
      "Total time elapsed: 00:00:03\n"
     ]
    },
    {
     "name": "stdout",
     "output_type": "stream",
     "text": [
      "Finished Epoch 20 || Run Time:    0.9 | Load Time:    2.3 || F1:  57.83 | Prec:  54.55 | Rec:  61.54 || Ex/s: 726.77\n",
      "\n",
      "---------------------\n",
      "\n",
      "Loading best model...\n",
      "Training done.\n"
     ]
    },
    {
     "data": {
      "text/plain": [
       "tensor(59.4059, device='cuda:0')"
      ]
     },
     "execution_count": 362,
     "metadata": {},
     "output_type": "execute_result"
    }
   ],
   "source": [
    "impr_rnn_google = dm.MatchingModel(attr_summarizer='rnn')\n",
    "impr_rnn_google.run_train(train,validation,epochs=20,best_save_path='models/amazongoogle_rnn_impr.pth',\n",
    "                         pos_neg_ratio=10)"
   ]
  },
  {
   "cell_type": "code",
   "execution_count": 363,
   "metadata": {
    "ExecuteTime": {
     "end_time": "2020-02-06T19:13:02.108206Z",
     "start_time": "2020-02-06T19:12:58.956743Z"
    }
   },
   "outputs": [
    {
     "name": "stdout",
     "output_type": "stream",
     "text": [
      "===>  EVAL Epoch 7\n"
     ]
    },
    {
     "name": "stderr",
     "output_type": "stream",
     "text": [
      "0% [██████████████] 100% | ETA: 00:00:00\n",
      "Total time elapsed: 00:00:03\n"
     ]
    },
    {
     "name": "stdout",
     "output_type": "stream",
     "text": [
      "Finished Epoch 7 || Run Time:    0.9 | Load Time:    2.2 || F1:  63.75 | Prec:  59.70 | Rec:  68.38 || Ex/s: 733.63\n",
      "\n"
     ]
    },
    {
     "data": {
      "text/plain": [
       "tensor(63.7450, device='cuda:0')"
      ]
     },
     "execution_count": 363,
     "metadata": {},
     "output_type": "execute_result"
    }
   ],
   "source": [
    "impr_rnn_google.run_eval(test)"
   ]
  },
  {
   "cell_type": "markdown",
   "metadata": {},
   "source": [
    "#### Evaluate new model"
   ]
  },
  {
   "cell_type": "code",
   "execution_count": 364,
   "metadata": {
    "ExecuteTime": {
     "end_time": "2020-02-06T19:13:06.962515Z",
     "start_time": "2020-02-06T19:13:02.110144Z"
    }
   },
   "outputs": [],
   "source": [
    "predictions = wrapDm(test_df,impr_rnn_google,ignore_columns=['ltable_id','rtable_id','id','label'])\n",
    "tp_group = test_df[(predictions[:,1]>=0.5)& test_df['label'] == 1]\n",
    "tn_group = test_df[(predictions[:,0] >=0.5)& test_df['label']==0]\n",
    "correctPredictions_google = pd.concat([tp_group,tn_group])"
   ]
  },
  {
   "cell_type": "code",
   "execution_count": 28,
   "metadata": {
    "ExecuteTime": {
     "end_time": "2020-02-16T17:46:40.382683Z",
     "start_time": "2020-02-16T17:46:40.340571Z"
    }
   },
   "outputs": [
    {
     "ename": "NameError",
     "evalue": "name 'impr_rnn_google' is not defined",
     "output_type": "error",
     "traceback": [
      "\u001b[0;31m---------------------------------------------------------------------------\u001b[0m",
      "\u001b[0;31mNameError\u001b[0m                                 Traceback (most recent call last)",
      "\u001b[0;32m<ipython-input-28-8964b6af269d>\u001b[0m in \u001b[0;36m<module>\u001b[0;34m()\u001b[0m\n\u001b[1;32m      1\u001b[0m pos_rankings_google,pos_triangles_google,flippedPredictions_pos_google = explainSamples(correctPredictions_google,\n\u001b[0;32m----> 2\u001b[0;31m                                                           \u001b[0;34m[\u001b[0m\u001b[0mtableA_google\u001b[0m\u001b[0;34m,\u001b[0m\u001b[0mtableB_google\u001b[0m\u001b[0;34m]\u001b[0m\u001b[0;34m,\u001b[0m\u001b[0mimpr_rnn_google\u001b[0m\u001b[0;34m,\u001b[0m\u001b[0moriginalClass\u001b[0m\u001b[0;34m=\u001b[0m\u001b[0;36m1\u001b[0m\u001b[0;34m,\u001b[0m\u001b[0;34m\u001b[0m\u001b[0;34m\u001b[0m\u001b[0m\n\u001b[0m\u001b[1;32m      3\u001b[0m                                                                                        maxLenAttributeSet=2)\n",
      "\u001b[0;31mNameError\u001b[0m: name 'impr_rnn_google' is not defined"
     ]
    }
   ],
   "source": [
    "pos_rankings_google,pos_triangles_google,flippedPredictions_pos_google = explainSamples(correctPredictions_google,\n",
    "                                                          [tableA_google,tableB_google],impr_rnn_google,originalClass=1,\n",
    "                                                                                       maxLenAttributeSet=2)"
   ]
  },
  {
   "cell_type": "code",
   "execution_count": 366,
   "metadata": {
    "ExecuteTime": {
     "end_time": "2020-02-06T19:14:26.737075Z",
     "start_time": "2020-02-06T19:14:26.552689Z"
    }
   },
   "outputs": [
    {
     "data": {
      "text/plain": [
       "<matplotlib.axes._subplots.AxesSubplot at 0x7face9a16ba8>"
      ]
     },
     "execution_count": 366,
     "metadata": {},
     "output_type": "execute_result"
    },
    {
     "data": {
      "image/png": "[encoded data removed]",
      "text/plain": [
       "<Figure size 432x432 with 1 Axes>"
      ]
     },
     "metadata": {
      "needs_background": "light"
     },
     "output_type": "display_data"
    }
   ],
   "source": [
    "aggregateRankings(pos_rankings_google,True)"
   ]
  },
  {
   "cell_type": "markdown",
   "metadata": {},
   "source": [
    "### Hybrid"
   ]
  },
  {
   "cell_type": "code",
   "execution_count": 4,
   "metadata": {
    "ExecuteTime": {
     "end_time": "2020-04-27T16:39:18.870027Z",
     "start_time": "2020-04-27T16:39:13.904383Z"
    }
   },
   "outputs": [],
   "source": [
    "google_hybrid = dm.MatchingModel(attr_summarizer='hybrid')\n",
    "google_hybrid.load_state('models/amazongoogle_hybrid.pth')\n",
    "google_hybrid = google_hybrid.to('cuda')"
   ]
  },
  {
   "cell_type": "code",
   "execution_count": 6,
   "metadata": {
    "ExecuteTime": {
     "end_time": "2020-04-27T16:41:08.885594Z",
     "start_time": "2020-04-27T16:41:08.635140Z"
    }
   },
   "outputs": [],
   "source": [
    "!cp ../entity-matching-transformer/amz_google_test.csv ./datasets/Structured/Amazon-Google/merged_test.csv"
   ]
  },
  {
   "cell_type": "code",
   "execution_count": 7,
   "metadata": {
    "ExecuteTime": {
     "end_time": "2020-04-27T16:41:16.765071Z",
     "start_time": "2020-04-27T16:41:16.680542Z"
    }
   },
   "outputs": [],
   "source": [
    "amazon = pd.read_csv('datasets/Structured/Amazon-Google/tableA.csv',dtype=str)\n",
    "google = pd.read_csv('datasets/Structured/Amazon-Google/tableB.csv',dtype=str)\n",
    "test_amz_google = pd.read_csv('datasets/Structured/Amazon-Google/merged_test.csv')"
   ]
  },
  {
   "cell_type": "code",
   "execution_count": 8,
   "metadata": {
    "ExecuteTime": {
     "end_time": "2020-04-27T16:48:29.719052Z",
     "start_time": "2020-04-27T16:42:03.914194Z"
    }
   },
   "outputs": [
    {
     "name": "stderr",
     "output_type": "stream",
     "text": [
      "100%|██████████| 532/532 [04:11<00:00,  2.12it/s]\n"
     ]
    }
   ],
   "source": [
    "neg_rankings_google_hybrid,flippedNeg_hybrid_google = explainSamples(test_amz_google,[amazon,google],\n",
    "                                                                     google_hybrid,predict_fn,originalClass=0,\n",
    "                                                                     maxLenAttributeSet=2)"
   ]
  },
  {
   "cell_type": "code",
   "execution_count": 9,
   "metadata": {
    "ExecuteTime": {
     "end_time": "2020-04-27T16:54:43.345442Z",
     "start_time": "2020-04-27T16:48:29.720880Z"
    }
   },
   "outputs": [
    {
     "name": "stderr",
     "output_type": "stream",
     "text": [
      "100%|██████████| 532/532 [04:09<00:00,  2.13it/s]\n"
     ]
    }
   ],
   "source": [
    "pos_rankings_google_hybrid,flipped_pos_hybrid_google = explainSamples(test_amz_google,[amazon,google],\n",
    "                                                                      google_hybrid,predict_fn,originalClass=1,\n",
    "                                                                      maxLenAttributeSet=2)"
   ]
  },
  {
   "cell_type": "code",
   "execution_count": 11,
   "metadata": {
    "ExecuteTime": {
     "end_time": "2020-04-27T16:58:19.496003Z",
     "start_time": "2020-04-27T16:58:19.282538Z"
    }
   },
   "outputs": [
    {
     "data": {
      "text/plain": [
       "<matplotlib.axes._subplots.AxesSubplot at 0x7fd7f4557730>"
      ]
     },
     "execution_count": 11,
     "metadata": {},
     "output_type": "execute_result"
    },
    {
     "data": {
      "image/png": "[encoded data removed]",
      "text/plain": [
       "<Figure size 432x288 with 1 Axes>"
      ]
     },
     "metadata": {
      "needs_background": "light"
     },
     "output_type": "display_data"
    }
   ],
   "source": [
    "neg_rankings_google_hybrid.plot.barh(color='red',grid=True,ylim=(0,1))"
   ]
  },
  {
   "cell_type": "code",
   "execution_count": 13,
   "metadata": {
    "ExecuteTime": {
     "end_time": "2020-04-27T16:58:50.610764Z",
     "start_time": "2020-04-27T16:58:50.410236Z"
    }
   },
   "outputs": [
    {
     "data": {
      "text/plain": [
       "<matplotlib.axes._subplots.AxesSubplot at 0x7fd7f43bb790>"
      ]
     },
     "execution_count": 13,
     "metadata": {},
     "output_type": "execute_result"
    },
    {
     "data": {
      "image/png": "[encoded data removed]",
      "text/plain": [
       "<Figure size 432x288 with 1 Axes>"
      ]
     },
     "metadata": {
      "needs_background": "light"
     },
     "output_type": "display_data"
    }
   ],
   "source": [
    "pos_rankings_google_hybrid.plot.barh(color='green',grid=True,ylim=(0,1))"
   ]
  },
  {
   "cell_type": "code",
   "execution_count": 50,
   "metadata": {
    "ExecuteTime": {
     "end_time": "2020-02-28T15:06:00.153415Z",
     "start_time": "2020-02-28T15:06:00.045013Z"
    }
   },
   "outputs": [],
   "source": [
    "extendedPos = pd.concat([flippedNeg_hybrid_google,notFlippedPos_hybrid_google],ignore_index=True)\n",
    "extendedNeg = pd.concat([flipped_pos_hybrid_google,notFlippedNeg_hybrid_google],ignore_index=True)\n",
    "newNegatives,newPositives = extendDatasets(GOOGLE_DIR,extendedNeg,extendedPos)"
   ]
  },
  {
   "cell_type": "code",
   "execution_count": 52,
   "metadata": {
    "ExecuteTime": {
     "end_time": "2020-02-28T15:06:52.569666Z",
     "start_time": "2020-02-28T15:06:52.382497Z"
    }
   },
   "outputs": [
    {
     "data": {
      "text/plain": [
       "(11926, 2444)"
      ]
     },
     "execution_count": 52,
     "metadata": {},
     "output_type": "execute_result"
    }
   ],
   "source": [
    "newNegatives.to_csv(GOOGLE_DIR+'extended_negatives.csv',index=False)\n",
    "newPositives.to_csv(GOOGLE_DIR+'extended_positives.csv',index=False)\n",
    "len(newNegatives),len(newPositives)"
   ]
  },
  {
   "cell_type": "markdown",
   "metadata": {},
   "source": [
    "### Mine patterns"
   ]
  },
  {
   "cell_type": "code",
   "execution_count": 39,
   "metadata": {
    "ExecuteTime": {
     "end_time": "2020-02-18T16:25:52.463319Z",
     "start_time": "2020-02-18T16:25:51.115027Z"
    }
   },
   "outputs": [
    {
     "data": {
      "image/png": "[encoded data removed]",
      "text/plain": [
       "<Figure size 2160x2160 with 1 Axes>"
      ]
     },
     "metadata": {
      "needs_background": "light"
     },
     "output_type": "display_data"
    }
   ],
   "source": [
    "plotMostFrequentTokens(flipped_pos_hybrid,('title',),30)"
   ]
  },
  {
   "cell_type": "code",
   "execution_count": 41,
   "metadata": {
    "ExecuteTime": {
     "end_time": "2020-02-18T16:27:25.147227Z",
     "start_time": "2020-02-18T16:27:23.805254Z"
    }
   },
   "outputs": [
    {
     "data": {
      "image/png": "[encoded data removed]",
      "text/plain": [
       "<Figure size 2160x2160 with 1 Axes>"
      ]
     },
     "metadata": {
      "needs_background": "light"
     },
     "output_type": "display_data"
    }
   ],
   "source": [
    "plotMostFrequentTokens(flippedNeg_hybrid_google,('title',),30)"
   ]
  },
  {
   "cell_type": "code",
   "execution_count": 45,
   "metadata": {
    "ExecuteTime": {
     "end_time": "2020-02-18T16:32:29.891903Z",
     "start_time": "2020-02-18T16:32:28.760021Z"
    }
   },
   "outputs": [],
   "source": [
    "test_pos = test_df[test_df.label==1]\n",
    "predictions = wrapDm(test_pos,google_hybrid,ignore_columns=['ltable_id','rtable_id','id','label'])"
   ]
  },
  {
   "cell_type": "code",
   "execution_count": 47,
   "metadata": {
    "ExecuteTime": {
     "end_time": "2020-02-18T16:32:57.668464Z",
     "start_time": "2020-02-18T16:32:57.642623Z"
    }
   },
   "outputs": [
    {
     "data": {
      "text/plain": [
       "(218, 234)"
      ]
     },
     "execution_count": 47,
     "metadata": {},
     "output_type": "execute_result"
    }
   ],
   "source": [
    "np.count_nonzero(np.argmax(predictions,axis=1)==1),len(test_pos)"
   ]
  },
  {
   "cell_type": "code",
   "execution_count": 51,
   "metadata": {
    "ExecuteTime": {
     "end_time": "2020-02-18T16:38:05.672562Z",
     "start_time": "2020-02-18T16:38:04.656796Z"
    }
   },
   "outputs": [
    {
     "data": {
      "text/plain": [
       "225"
      ]
     },
     "execution_count": 51,
     "metadata": {},
     "output_type": "execute_result"
    }
   ],
   "source": [
    "newtestpos = test_pos.copy()\n",
    "newtestpos['ltable_title'] = newtestpos['ltable_title'] +' adobe cs3 mac'\n",
    "newtestpos['rtable_title'] = newtestpos['rtable_title'] +' adobe cs3 mac'\n",
    "newpred = wrapDm(newtestpos,google_hybrid,ignore_columns=['ltable_id','rtable_id','id','label'])\n",
    "np.count_nonzero(np.argmax(newpred,axis=1)==1)"
   ]
  },
  {
   "cell_type": "code",
   "execution_count": 52,
   "metadata": {
    "ExecuteTime": {
     "end_time": "2020-02-18T16:38:38.277050Z",
     "start_time": "2020-02-18T16:38:37.222669Z"
    }
   },
   "outputs": [
    {
     "data": {
      "text/plain": [
       "219"
      ]
     },
     "execution_count": 52,
     "metadata": {},
     "output_type": "execute_result"
    }
   ],
   "source": [
    "newtestpos = test_pos.copy()\n",
    "newtestpos['ltable_title'] = newtestpos['ltable_title'] +' microsoft adobe'\n",
    "newtestpos['rtable_title'] = newtestpos['rtable_title'] +' microsoft ()'\n",
    "newpred = wrapDm(newtestpos,google_hybrid,ignore_columns=['ltable_id','rtable_id','id','label'])\n",
    "np.count_nonzero(np.argmax(newpred,axis=1)==1)"
   ]
  },
  {
   "cell_type": "markdown",
   "metadata": {},
   "source": [
    "## DBLP-ACM"
   ]
  },
  {
   "cell_type": "code",
   "execution_count": 3,
   "metadata": {
    "ExecuteTime": {
     "end_time": "2020-02-29T16:10:18.684178Z",
     "start_time": "2020-02-29T16:10:14.854994Z"
    }
   },
   "outputs": [],
   "source": [
    "dblp_hybrid = dm.MatchingModel(attr_summarizer='hybrid')\n",
    "dblp_hybrid.load_state('models/dblp_acm_hybrid2.pth')\n",
    "dblp_hybrid = dblp_hybrid.to('cuda')"
   ]
  },
  {
   "cell_type": "code",
   "execution_count": 4,
   "metadata": {
    "ExecuteTime": {
     "end_time": "2020-02-29T16:10:18.720815Z",
     "start_time": "2020-02-29T16:10:18.686394Z"
    }
   },
   "outputs": [],
   "source": [
    "DBLP_DIR = 'datasets/Structured/DBLP-ACM/'\n",
    "tableA_dblp = pd.read_csv(DBLP_DIR+'tableA.csv')\n",
    "tableB_dblp = pd.read_csv(DBLP_DIR+'tableB.csv')"
   ]
  },
  {
   "cell_type": "code",
   "execution_count": 5,
   "metadata": {
    "ExecuteTime": {
     "end_time": "2020-02-29T16:10:19.338804Z",
     "start_time": "2020-02-29T16:10:19.229669Z"
    }
   },
   "outputs": [],
   "source": [
    "train_df,validation_df,test_df = generate_train_valid_test(DBLP_DIR,['train.csv','valid.csv','test.csv']\n",
    "                                                          ,left_prefix='ltable_',right_prefix='rtable_',\n",
    "                                                          drop_lrid=False)"
   ]
  },
  {
   "cell_type": "code",
   "execution_count": 6,
   "metadata": {
    "ExecuteTime": {
     "end_time": "2020-02-29T16:10:44.220667Z",
     "start_time": "2020-02-29T16:10:19.769029Z"
    }
   },
   "outputs": [],
   "source": [
    "predictions = wrapDm(test_df,dblp_hybrid,ignore_columns=['ltable_id','rtable_id','id','label'])\n",
    "tp_group = test_df[(predictions[:,1]>=0.5)& (test_df['label'] == 1)]\n",
    "tn_group = test_df[(predictions[:,0] >=0.5)& (test_df['label']==0)]\n",
    "correctPredictions_dblp = pd.concat([tn_group,tp_group])"
   ]
  },
  {
   "cell_type": "code",
   "execution_count": 7,
   "metadata": {
    "ExecuteTime": {
     "end_time": "2020-02-29T16:16:12.963423Z",
     "start_time": "2020-02-29T16:10:44.223532Z"
    }
   },
   "outputs": [
    {
     "name": "stderr",
     "output_type": "stream",
     "text": [
      "100%|██████████| 725/725 [05:27<00:00,  2.22it/s]\n"
     ]
    }
   ],
   "source": [
    "neg_rankings_dblp,_,flippedPred_neg_dblp,notflipped_neg_dblp= explainSamples(correctPredictions_dblp,\n",
    "                                                          [tableA_dblp,tableB_dblp],dblp_hybrid,originalClass=0,\n",
    "                                                                                              maxLenAttributeSet=1)"
   ]
  },
  {
   "cell_type": "code",
   "execution_count": 8,
   "metadata": {
    "ExecuteTime": {
     "end_time": "2020-02-29T16:16:43.224659Z",
     "start_time": "2020-02-29T16:16:42.902891Z"
    }
   },
   "outputs": [
    {
     "data": {
      "image/png": "[encoded data removed]",
      "text/plain": [
       "<Figure size 288x288 with 1 Axes>"
      ]
     },
     "metadata": {
      "needs_background": "light"
     },
     "output_type": "display_data"
    }
   ],
   "source": [
    "plot,negRanking_dblp = aggregateRankings(neg_rankings_dblp,positive=False,maxLenAttributes=1)"
   ]
  },
  {
   "cell_type": "code",
   "execution_count": 9,
   "metadata": {
    "ExecuteTime": {
     "end_time": "2020-02-29T16:22:33.569518Z",
     "start_time": "2020-02-29T16:16:46.912417Z"
    }
   },
   "outputs": [
    {
     "name": "stderr",
     "output_type": "stream",
     "text": [
      "100%|██████████| 725/725 [05:44<00:00,  2.10it/s]\n"
     ]
    }
   ],
   "source": [
    "pos_rankings_dblp,_,flippedPred_pos_dblp,notflipped_pos_dblp = explainSamples(correctPredictions_dblp,\n",
    "                                                          [tableA_dblp,tableB_dblp],dblp_hybrid,originalClass=1,\n",
    "                                                                          maxLenAttributeSet=1)"
   ]
  },
  {
   "cell_type": "code",
   "execution_count": 10,
   "metadata": {
    "ExecuteTime": {
     "end_time": "2020-02-29T16:22:45.816810Z",
     "start_time": "2020-02-29T16:22:45.539362Z"
    }
   },
   "outputs": [
    {
     "data": {
      "image/png": "[encoded data removed]",
      "text/plain": [
       "<Figure size 288x288 with 1 Axes>"
      ]
     },
     "metadata": {
      "needs_background": "light"
     },
     "output_type": "display_data"
    }
   ],
   "source": [
    "plot,ranking = aggregateRankings(pos_rankings_dblp,positive=True,maxLenAttributes=1)"
   ]
  },
  {
   "cell_type": "code",
   "execution_count": 73,
   "metadata": {
    "ExecuteTime": {
     "end_time": "2020-02-28T15:25:53.345127Z",
     "start_time": "2020-02-28T15:25:53.174417Z"
    }
   },
   "outputs": [],
   "source": [
    "newPos = pd.concat([notflipped_pos_dblp,flippedPred_neg_dblp],ignore_index=True)\n",
    "newNeg = pd.concat([flippedPred_pos_dblp,notflipped_neg_dblp],ignore_index=True)\n",
    "extendedNeg,extendedPos = extendDatasets(DBLP_DIR,newNeg,newPos)"
   ]
  },
  {
   "cell_type": "code",
   "execution_count": 75,
   "metadata": {
    "ExecuteTime": {
     "end_time": "2020-02-28T15:27:07.297171Z",
     "start_time": "2020-02-28T15:27:06.969784Z"
    }
   },
   "outputs": [],
   "source": [
    "extendedPos.to_csv(DBLP_DIR+'extended_positives.csv',index=False)\n",
    "extendedNeg.to_csv(DBLP_DIR+'extended_negatives.csv',index=False)"
   ]
  },
  {
   "cell_type": "code",
   "execution_count": 76,
   "metadata": {
    "ExecuteTime": {
     "end_time": "2020-02-28T15:27:15.523819Z",
     "start_time": "2020-02-28T15:27:15.487039Z"
    }
   },
   "outputs": [
    {
     "data": {
      "text/plain": [
       "(14288, 3851)"
      ]
     },
     "execution_count": 76,
     "metadata": {},
     "output_type": "execute_result"
    }
   ],
   "source": [
    "len(extendedNeg),len(extendedPos)"
   ]
  },
  {
   "cell_type": "markdown",
   "metadata": {},
   "source": [
    "## DBLP-Scholar"
   ]
  },
  {
   "cell_type": "code",
   "execution_count": 3,
   "metadata": {
    "ExecuteTime": {
     "end_time": "2020-02-18T10:17:27.312762Z",
     "start_time": "2020-02-18T10:17:21.973807Z"
    }
   },
   "outputs": [],
   "source": [
    "scholar_hybrid = dm.MatchingModel(attr_summarizer='hybrid')\n",
    "scholar_hybrid.load_state('models/dblp_scholar_hybrid.pth')\n",
    "scholar_hybrid = scholar_hybrid.to('cuda')"
   ]
  },
  {
   "cell_type": "code",
   "execution_count": 4,
   "metadata": {
    "ExecuteTime": {
     "end_time": "2020-02-18T10:18:09.647379Z",
     "start_time": "2020-02-18T10:18:09.427162Z"
    }
   },
   "outputs": [],
   "source": [
    "DBLP_SCHOLAR_DIR = 'datasets/Structured/DBLP-GoogleScholar/'\n",
    "tableA_scholar = pd.read_csv(DBLP_SCHOLAR_DIR+'tableA.csv')\n",
    "tableB_scholar = pd.read_csv(DBLP_SCHOLAR_DIR+'tableB.csv')"
   ]
  },
  {
   "cell_type": "code",
   "execution_count": 5,
   "metadata": {
    "ExecuteTime": {
     "end_time": "2020-02-18T10:18:36.689132Z",
     "start_time": "2020-02-18T10:18:36.382461Z"
    }
   },
   "outputs": [],
   "source": [
    "train_df,validation_df,test_df = generate_train_valid_test(DBLP_SCHOLAR_DIR,['train.csv','valid.csv','test.csv']\n",
    "                                                          ,left_prefix='ltable_',right_prefix='rtable_',\n",
    "                                                          drop_lrid=False)"
   ]
  },
  {
   "cell_type": "code",
   "execution_count": 6,
   "metadata": {
    "ExecuteTime": {
     "end_time": "2020-02-18T10:19:51.536655Z",
     "start_time": "2020-02-18T10:19:10.775469Z"
    }
   },
   "outputs": [],
   "source": [
    "predictions = wrapDm(test_df,scholar_hybrid,ignore_columns=['ltable_id','rtable_id','id','label'])\n",
    "tp_group = test_df[(predictions[:,1]>=0.5)& (test_df['label'] == 1)]\n",
    "tn_group = test_df[(predictions[:,0] >=0.5)& (test_df['label']==0)]\n",
    "correctPredictions_scholar = pd.concat([tn_group,tp_group])"
   ]
  },
  {
   "cell_type": "code",
   "execution_count": 8,
   "metadata": {
    "ExecuteTime": {
     "end_time": "2020-02-18T11:33:29.056843Z",
     "start_time": "2020-02-18T10:54:51.349140Z"
    }
   },
   "outputs": [
    {
     "name": "stderr",
     "output_type": "stream",
     "text": [
      "\n",
      "  0%|          | 0/2495 [00:00<?, ?it/s]\u001b[A\n",
      "  0%|          | 1/2495 [00:00<39:54,  1.04it/s]\u001b[A\n",
      "  0%|          | 2/2495 [00:01<40:06,  1.04it/s]\u001b[A\n",
      "  0%|          | 3/2495 [00:02<39:55,  1.04it/s]\u001b[A\n",
      "  0%|          | 4/2495 [00:03<40:03,  1.04it/s]\u001b[A\n",
      "  0%|          | 5/2495 [00:04<39:53,  1.04it/s]\u001b[A\n",
      "  0%|          | 6/2495 [00:05<39:34,  1.05it/s]\u001b[A\n",
      "  0%|          | 7/2495 [00:06<39:03,  1.06it/s]\u001b[A\n",
      "  0%|          | 8/2495 [00:07<38:45,  1.07it/s]\u001b[A\n",
      "  0%|          | 9/2495 [00:08<38:19,  1.08it/s]\u001b[A\n",
      "  0%|          | 10/2495 [00:09<38:03,  1.09it/s]\u001b[A\n",
      "  0%|          | 11/2495 [00:10<38:02,  1.09it/s]\u001b[A\n",
      "  0%|          | 12/2495 [00:11<37:52,  1.09it/s]\u001b[A\n",
      "  1%|          | 13/2495 [00:12<37:47,  1.09it/s]\u001b[A\n",
      "  1%|          | 14/2495 [00:13<37:42,  1.10it/s]\u001b[A\n",
      "  1%|          | 15/2495 [00:13<37:44,  1.10it/s]\u001b[A\n",
      "  1%|          | 16/2495 [00:14<37:45,  1.09it/s]\u001b[A\n",
      "  1%|          | 17/2495 [00:15<37:46,  1.09it/s]\u001b[A\n",
      "  1%|          | 18/2495 [00:16<37:44,  1.09it/s]\u001b[A\n",
      "  1%|          | 19/2495 [00:17<37:49,  1.09it/s]\u001b[A\n",
      "  1%|          | 20/2495 [00:18<37:47,  1.09it/s]\u001b[A\n",
      "  1%|          | 21/2495 [00:19<37:45,  1.09it/s]\u001b[A\n",
      "  1%|          | 22/2495 [00:20<37:38,  1.09it/s]\u001b[A\n",
      "  1%|          | 23/2495 [00:21<37:41,  1.09it/s]\u001b[A\n",
      "  1%|          | 24/2495 [00:22<37:38,  1.09it/s]\u001b[A\n",
      "  1%|          | 25/2495 [00:23<37:34,  1.10it/s]\u001b[A\n",
      "  1%|          | 26/2495 [00:24<37:35,  1.09it/s]\u001b[A\n",
      "  1%|          | 27/2495 [00:24<37:37,  1.09it/s]\u001b[A\n",
      "  1%|          | 28/2495 [00:25<38:57,  1.06it/s]\u001b[A\n",
      "  1%|          | 29/2495 [00:26<38:28,  1.07it/s]\u001b[A\n",
      "  1%|          | 30/2495 [00:27<38:08,  1.08it/s]\u001b[A\n",
      "  1%|          | 31/2495 [00:28<37:51,  1.08it/s]\u001b[A\n",
      "  1%|▏         | 32/2495 [00:29<38:15,  1.07it/s]\u001b[A\n",
      "  1%|▏         | 33/2495 [00:30<38:40,  1.06it/s]\u001b[A\n",
      "  1%|▏         | 34/2495 [00:31<38:38,  1.06it/s]\u001b[A\n",
      "  1%|▏         | 35/2495 [00:32<38:38,  1.06it/s]\u001b[A\n",
      "  1%|▏         | 36/2495 [00:33<39:01,  1.05it/s]\u001b[A\n",
      "  1%|▏         | 37/2495 [00:34<38:48,  1.06it/s]\u001b[A\n",
      "  2%|▏         | 38/2495 [00:35<38:43,  1.06it/s]\u001b[A\n",
      "  2%|▏         | 39/2495 [00:36<38:41,  1.06it/s]\u001b[A\n",
      "  2%|▏         | 40/2495 [00:37<38:38,  1.06it/s]\u001b[A\n",
      "  2%|▏         | 41/2495 [00:38<38:06,  1.07it/s]\u001b[A\n",
      "  2%|▏         | 42/2495 [00:39<37:42,  1.08it/s]\u001b[A\n",
      "  2%|▏         | 43/2495 [00:39<37:32,  1.09it/s]\u001b[A\n",
      "  2%|▏         | 44/2495 [00:40<37:25,  1.09it/s]\u001b[A\n",
      "  2%|▏         | 45/2495 [00:41<37:13,  1.10it/s]\u001b[A\n",
      "  2%|▏         | 46/2495 [00:42<37:08,  1.10it/s]\u001b[A\n",
      "  2%|▏         | 47/2495 [00:43<37:02,  1.10it/s]\u001b[A\n",
      "  2%|▏         | 48/2495 [00:44<37:06,  1.10it/s]\u001b[A\n",
      "  2%|▏         | 49/2495 [00:45<37:13,  1.10it/s]\u001b[A\n",
      "  2%|▏         | 50/2495 [00:46<37:20,  1.09it/s]\u001b[A\n",
      "  2%|▏         | 51/2495 [00:47<37:22,  1.09it/s]\u001b[A\n",
      "  2%|▏         | 52/2495 [00:48<37:33,  1.08it/s]\u001b[A\n",
      "  2%|▏         | 53/2495 [00:49<40:14,  1.01it/s]\u001b[A\n",
      "  2%|▏         | 54/2495 [00:50<41:58,  1.03s/it]\u001b[A\n",
      "  2%|▏         | 55/2495 [00:51<40:39,  1.00it/s]\u001b[A\n",
      "  2%|▏         | 56/2495 [00:52<39:46,  1.02it/s]\u001b[A\n",
      "  2%|▏         | 57/2495 [00:53<39:01,  1.04it/s]\u001b[A\n",
      "  2%|▏         | 58/2495 [00:54<39:57,  1.02it/s]\u001b[A\n",
      "  2%|▏         | 59/2495 [00:55<39:04,  1.04it/s]\u001b[A\n",
      "  2%|▏         | 60/2495 [00:56<38:27,  1.06it/s]\u001b[A\n",
      "  2%|▏         | 61/2495 [00:56<37:52,  1.07it/s]\u001b[A\n",
      "  2%|▏         | 62/2495 [00:57<37:26,  1.08it/s]\u001b[A\n",
      "  3%|▎         | 63/2495 [00:58<37:14,  1.09it/s]\u001b[A\n",
      "  3%|▎         | 64/2495 [00:59<37:00,  1.10it/s]\u001b[A\n",
      "  3%|▎         | 65/2495 [01:00<37:13,  1.09it/s]\u001b[A\n",
      "  3%|▎         | 66/2495 [01:01<37:03,  1.09it/s]\u001b[A\n",
      "  3%|▎         | 67/2495 [01:02<37:00,  1.09it/s]\u001b[A\n",
      "  3%|▎         | 68/2495 [01:03<36:54,  1.10it/s]\u001b[A\n",
      "  3%|▎         | 69/2495 [01:04<36:48,  1.10it/s]\u001b[A\n",
      "  3%|▎         | 70/2495 [01:05<36:57,  1.09it/s]\u001b[A\n",
      "  3%|▎         | 71/2495 [01:06<36:45,  1.10it/s]\u001b[A\n",
      "  3%|▎         | 72/2495 [01:06<36:42,  1.10it/s]\u001b[A\n",
      "  3%|▎         | 73/2495 [01:07<36:39,  1.10it/s]\u001b[A\n",
      "  3%|▎         | 74/2495 [01:08<36:38,  1.10it/s]\u001b[A\n",
      "  3%|▎         | 75/2495 [01:09<36:35,  1.10it/s]\u001b[A\n",
      "  3%|▎         | 76/2495 [01:10<36:32,  1.10it/s]\u001b[A\n",
      "  3%|▎         | 77/2495 [01:11<36:29,  1.10it/s]\u001b[A\n",
      "  3%|▎         | 78/2495 [01:12<36:24,  1.11it/s]\u001b[A\n",
      "  3%|▎         | 79/2495 [01:13<36:22,  1.11it/s]\u001b[A\n",
      "  3%|▎         | 80/2495 [01:14<36:20,  1.11it/s]\u001b[A\n",
      "  3%|▎         | 81/2495 [01:15<36:20,  1.11it/s]\u001b[A\n",
      "  3%|▎         | 82/2495 [01:16<36:14,  1.11it/s]\u001b[A\n",
      "  3%|▎         | 83/2495 [01:16<36:18,  1.11it/s]\u001b[A\n",
      "  3%|▎         | 84/2495 [01:17<36:21,  1.11it/s]\u001b[A\n",
      "  3%|▎         | 85/2495 [01:18<36:56,  1.09it/s]\u001b[A\n",
      "  3%|▎         | 86/2495 [01:19<37:02,  1.08it/s]\u001b[A\n",
      "  3%|▎         | 87/2495 [01:20<36:52,  1.09it/s]\u001b[A\n",
      "  4%|▎         | 88/2495 [01:21<36:39,  1.09it/s]\u001b[A\n",
      "  4%|▎         | 89/2495 [01:22<36:44,  1.09it/s]\u001b[A\n",
      "  4%|▎         | 90/2495 [01:23<38:08,  1.05it/s]\u001b[A\n",
      "  4%|▎         | 91/2495 [01:24<37:36,  1.07it/s]\u001b[A\n",
      "  4%|▎         | 92/2495 [01:25<37:14,  1.08it/s]\u001b[A\n",
      "  4%|▎         | 93/2495 [01:26<36:53,  1.09it/s]\u001b[A\n",
      "  4%|▍         | 94/2495 [01:27<37:01,  1.08it/s]\u001b[A\n",
      "  4%|▍         | 95/2495 [01:28<36:50,  1.09it/s]\u001b[A\n",
      "  4%|▍         | 96/2495 [01:28<36:34,  1.09it/s]\u001b[A\n",
      "  4%|▍         | 97/2495 [01:29<36:25,  1.10it/s]\u001b[A\n",
      "  4%|▍         | 98/2495 [01:30<36:16,  1.10it/s]\u001b[A\n",
      "  4%|▍         | 99/2495 [01:31<36:10,  1.10it/s]\u001b[A\n",
      "  4%|▍         | 100/2495 [01:32<36:06,  1.11it/s]\u001b[A\n",
      "  4%|▍         | 101/2495 [01:33<36:02,  1.11it/s]\u001b[A\n",
      "  4%|▍         | 102/2495 [01:34<36:02,  1.11it/s]\u001b[A\n",
      "  4%|▍         | 103/2495 [01:35<36:03,  1.11it/s]\u001b[A\n",
      "  4%|▍         | 104/2495 [01:36<36:07,  1.10it/s]\u001b[A\n",
      "  4%|▍         | 105/2495 [01:37<36:04,  1.10it/s]\u001b[A\n",
      "  4%|▍         | 106/2495 [01:37<36:02,  1.10it/s]\u001b[A\n",
      "  4%|▍         | 107/2495 [01:38<36:02,  1.10it/s]\u001b[A\n",
      "  4%|▍         | 108/2495 [01:39<35:59,  1.11it/s]\u001b[A\n",
      "  4%|▍         | 109/2495 [01:40<36:05,  1.10it/s]\u001b[A\n",
      "  4%|▍         | 110/2495 [01:41<36:06,  1.10it/s]\u001b[A\n",
      "  4%|▍         | 111/2495 [01:42<36:02,  1.10it/s]\u001b[A\n",
      "  4%|▍         | 112/2495 [01:43<35:58,  1.10it/s]\u001b[A\n",
      "  5%|▍         | 113/2495 [01:44<35:58,  1.10it/s]\u001b[A\n",
      "  5%|▍         | 114/2495 [01:45<36:03,  1.10it/s]\u001b[A\n",
      "  5%|▍         | 115/2495 [01:46<36:09,  1.10it/s]\u001b[A\n",
      "  5%|▍         | 116/2495 [01:47<36:04,  1.10it/s]\u001b[A\n",
      "  5%|▍         | 117/2495 [01:47<36:05,  1.10it/s]\u001b[A\n",
      "  5%|▍         | 118/2495 [01:48<36:29,  1.09it/s]\u001b[A\n",
      "  5%|▍         | 119/2495 [01:49<36:27,  1.09it/s]\u001b[A\n",
      "  5%|▍         | 120/2495 [01:50<37:48,  1.05it/s]\u001b[A\n",
      "  5%|▍         | 121/2495 [01:51<37:16,  1.06it/s]\u001b[A\n",
      "  5%|▍         | 122/2495 [01:52<36:59,  1.07it/s]\u001b[A\n",
      "  5%|▍         | 123/2495 [01:53<36:39,  1.08it/s]\u001b[A\n",
      "  5%|▍         | 124/2495 [01:54<36:19,  1.09it/s]\u001b[A\n",
      "  5%|▌         | 125/2495 [01:55<36:15,  1.09it/s]\u001b[A\n",
      "  5%|▌         | 126/2495 [01:56<36:06,  1.09it/s]\u001b[A\n",
      "  5%|▌         | 127/2495 [01:57<35:58,  1.10it/s]\u001b[A\n",
      "  5%|▌         | 128/2495 [01:58<35:49,  1.10it/s]\u001b[A\n",
      "  5%|▌         | 129/2495 [01:59<35:42,  1.10it/s]\u001b[A\n",
      "  5%|▌         | 130/2495 [01:59<35:41,  1.10it/s]\u001b[A\n",
      "  5%|▌         | 131/2495 [02:00<35:41,  1.10it/s]\u001b[A\n",
      "  5%|▌         | 132/2495 [02:01<35:44,  1.10it/s]\u001b[A\n",
      "  5%|▌         | 133/2495 [02:02<35:45,  1.10it/s]\u001b[A\n",
      "  5%|▌         | 134/2495 [02:03<35:45,  1.10it/s]\u001b[A\n",
      "  5%|▌         | 135/2495 [02:04<35:42,  1.10it/s]\u001b[A\n",
      "  5%|▌         | 136/2495 [02:05<35:39,  1.10it/s]\u001b[A\n",
      "  5%|▌         | 137/2495 [02:06<35:35,  1.10it/s]\u001b[A\n",
      "  6%|▌         | 138/2495 [02:07<35:42,  1.10it/s]\u001b[A\n",
      "  6%|▌         | 139/2495 [02:08<35:43,  1.10it/s]\u001b[A\n",
      "  6%|▌         | 140/2495 [02:09<36:15,  1.08it/s]\u001b[A\n",
      "  6%|▌         | 141/2495 [02:10<36:29,  1.08it/s]\u001b[A\n",
      "  6%|▌         | 142/2495 [02:10<36:26,  1.08it/s]\u001b[A\n",
      "  6%|▌         | 143/2495 [02:11<36:08,  1.08it/s]\u001b[A\n",
      "  6%|▌         | 144/2495 [02:12<35:58,  1.09it/s]\u001b[A\n",
      "  6%|▌         | 145/2495 [02:13<35:42,  1.10it/s]\u001b[A\n",
      "  6%|▌         | 146/2495 [02:14<35:47,  1.09it/s]\u001b[A\n",
      "  6%|▌         | 147/2495 [02:15<35:40,  1.10it/s]\u001b[A\n",
      "  6%|▌         | 148/2495 [02:16<35:29,  1.10it/s]\u001b[A\n",
      "  6%|▌         | 149/2495 [02:17<35:17,  1.11it/s]\u001b[A\n",
      "  6%|▌         | 150/2495 [02:18<36:10,  1.08it/s]\u001b[A\n",
      "  6%|▌         | 151/2495 [02:19<36:01,  1.08it/s]\u001b[A\n",
      "  6%|▌         | 152/2495 [02:20<37:14,  1.05it/s]\u001b[A\n",
      "  6%|▌         | 153/2495 [02:21<36:40,  1.06it/s]\u001b[A\n",
      "  6%|▌         | 154/2495 [02:22<36:12,  1.08it/s]\u001b[A\n",
      "  6%|▌         | 155/2495 [02:22<35:55,  1.09it/s]\u001b[A\n",
      "  6%|▋         | 156/2495 [02:23<35:38,  1.09it/s]\u001b[A\n",
      "  6%|▋         | 157/2495 [02:24<35:25,  1.10it/s]\u001b[A\n",
      "  6%|▋         | 158/2495 [02:25<39:09,  1.01s/it]\u001b[A\n",
      "  6%|▋         | 159/2495 [02:27<40:17,  1.03s/it]\u001b[A\n",
      "  6%|▋         | 160/2495 [02:27<38:56,  1.00s/it]\u001b[A\n",
      "  6%|▋         | 161/2495 [02:28<38:07,  1.02it/s]\u001b[A\n",
      "  6%|▋         | 162/2495 [02:29<37:28,  1.04it/s]\u001b[A\n",
      "  7%|▋         | 163/2495 [02:30<36:35,  1.06it/s]\u001b[A\n",
      "  7%|▋         | 164/2495 [02:31<35:57,  1.08it/s]\u001b[A\n",
      "  7%|▋         | 165/2495 [02:32<35:54,  1.08it/s]\u001b[A\n",
      "  7%|▋         | 166/2495 [02:33<35:56,  1.08it/s]\u001b[A\n",
      "  7%|▋         | 167/2495 [02:34<35:43,  1.09it/s]\u001b[A\n",
      "  7%|▋         | 168/2495 [02:35<35:16,  1.10it/s]\u001b[A\n",
      "  7%|▋         | 169/2495 [02:36<34:55,  1.11it/s]\u001b[A\n",
      "  7%|▋         | 170/2495 [02:37<36:48,  1.05it/s]\u001b[A\n",
      "  7%|▋         | 171/2495 [02:38<37:05,  1.04it/s]\u001b[A\n",
      "  7%|▋         | 172/2495 [02:39<36:44,  1.05it/s]\u001b[A\n",
      "  7%|▋         | 173/2495 [02:39<35:52,  1.08it/s]\u001b[A\n",
      "  7%|▋         | 174/2495 [02:40<35:22,  1.09it/s]\u001b[A\n",
      "  7%|▋         | 175/2495 [02:41<34:55,  1.11it/s]\u001b[A\n",
      "  7%|▋         | 176/2495 [02:42<34:48,  1.11it/s]\u001b[A\n",
      "  7%|▋         | 177/2495 [02:43<34:32,  1.12it/s]\u001b[A\n",
      "  7%|▋         | 178/2495 [02:44<34:20,  1.12it/s]\u001b[A\n",
      "  7%|▋         | 179/2495 [02:45<34:17,  1.13it/s]\u001b[A\n",
      "  7%|▋         | 180/2495 [02:46<34:22,  1.12it/s]\u001b[A\n",
      "  7%|▋         | 181/2495 [02:47<34:26,  1.12it/s]\u001b[A\n",
      "  7%|▋         | 182/2495 [02:48<35:50,  1.08it/s]\u001b[A\n",
      "  7%|▋         | 183/2495 [02:48<35:10,  1.10it/s]\u001b[A\n",
      "  7%|▋         | 184/2495 [02:49<34:48,  1.11it/s]\u001b[A\n",
      "  7%|▋         | 185/2495 [02:50<34:28,  1.12it/s]\u001b[A\n",
      "  7%|▋         | 186/2495 [02:51<34:31,  1.11it/s]\u001b[A\n",
      "  7%|▋         | 187/2495 [02:52<34:25,  1.12it/s]\u001b[A\n",
      "  8%|▊         | 188/2495 [02:53<34:26,  1.12it/s]\u001b[A\n",
      "  8%|▊         | 189/2495 [02:54<34:20,  1.12it/s]\u001b[A\n",
      "  8%|▊         | 190/2495 [02:55<34:14,  1.12it/s]\u001b[A\n",
      "  8%|▊         | 191/2495 [02:56<34:09,  1.12it/s]\u001b[A\n",
      "  8%|▊         | 192/2495 [02:56<34:00,  1.13it/s]\u001b[A\n",
      "  8%|▊         | 193/2495 [02:57<34:02,  1.13it/s]\u001b[A\n",
      "  8%|▊         | 194/2495 [02:58<34:05,  1.13it/s]\u001b[A\n",
      "  8%|▊         | 195/2495 [02:59<34:01,  1.13it/s]\u001b[A\n",
      "  8%|▊         | 196/2495 [03:00<34:05,  1.12it/s]\u001b[A\n",
      "  8%|▊         | 197/2495 [03:01<34:12,  1.12it/s]\u001b[A\n",
      "  8%|▊         | 198/2495 [03:02<34:09,  1.12it/s]\u001b[A\n",
      "  8%|▊         | 199/2495 [03:03<34:08,  1.12it/s]\u001b[A\n",
      "  8%|▊         | 200/2495 [03:04<34:03,  1.12it/s]\u001b[A\n",
      "  8%|▊         | 201/2495 [03:04<34:03,  1.12it/s]\u001b[A\n",
      "  8%|▊         | 202/2495 [03:05<34:21,  1.11it/s]\u001b[A\n",
      "  8%|▊         | 203/2495 [03:06<34:14,  1.12it/s]\u001b[A\n",
      "  8%|▊         | 204/2495 [03:07<34:23,  1.11it/s]\u001b[A\n",
      "  8%|▊         | 205/2495 [03:08<34:21,  1.11it/s]\u001b[A\n",
      "  8%|▊         | 206/2495 [03:09<34:14,  1.11it/s]\u001b[A\n",
      "  8%|▊         | 207/2495 [03:10<34:06,  1.12it/s]\u001b[A\n",
      "  8%|▊         | 208/2495 [03:11<33:59,  1.12it/s]\u001b[A\n",
      "  8%|▊         | 209/2495 [03:12<33:59,  1.12it/s]\u001b[A\n",
      "  8%|▊         | 210/2495 [03:13<34:01,  1.12it/s]\u001b[A\n",
      "  8%|▊         | 211/2495 [03:13<33:54,  1.12it/s]\u001b[A\n",
      "  8%|▊         | 212/2495 [03:14<33:49,  1.12it/s]\u001b[A\n",
      "  9%|▊         | 213/2495 [03:15<33:53,  1.12it/s]\u001b[A\n",
      "  9%|▊         | 214/2495 [03:16<35:14,  1.08it/s]\u001b[A\n",
      "  9%|▊         | 215/2495 [03:17<34:43,  1.09it/s]\u001b[A\n",
      "  9%|▊         | 216/2495 [03:18<34:18,  1.11it/s]\u001b[A\n",
      "  9%|▊         | 217/2495 [03:19<34:09,  1.11it/s]\u001b[A\n",
      "  9%|▊         | 218/2495 [03:20<34:13,  1.11it/s]\u001b[A\n",
      "  9%|▉         | 219/2495 [03:21<33:57,  1.12it/s]\u001b[A\n",
      "  9%|▉         | 220/2495 [03:22<33:57,  1.12it/s]\u001b[A\n",
      "  9%|▉         | 221/2495 [03:22<33:52,  1.12it/s]\u001b[A\n",
      "  9%|▉         | 222/2495 [03:23<33:50,  1.12it/s]\u001b[A\n",
      "  9%|▉         | 223/2495 [03:24<33:48,  1.12it/s]\u001b[A\n",
      "  9%|▉         | 224/2495 [03:25<33:44,  1.12it/s]\u001b[A\n",
      "  9%|▉         | 225/2495 [03:26<33:43,  1.12it/s]\u001b[A\n",
      "  9%|▉         | 226/2495 [03:27<33:52,  1.12it/s]\u001b[A\n",
      "  9%|▉         | 227/2495 [03:28<33:48,  1.12it/s]\u001b[A\n",
      "  9%|▉         | 228/2495 [03:29<34:20,  1.10it/s]\u001b[A\n",
      "  9%|▉         | 229/2495 [03:30<34:27,  1.10it/s]\u001b[A\n",
      "  9%|▉         | 230/2495 [03:31<34:45,  1.09it/s]\u001b[A\n",
      "  9%|▉         | 231/2495 [03:32<34:24,  1.10it/s]\u001b[A\n",
      "  9%|▉         | 232/2495 [03:32<34:08,  1.10it/s]\u001b[A\n",
      "  9%|▉         | 233/2495 [03:33<33:58,  1.11it/s]\u001b[A\n",
      "  9%|▉         | 234/2495 [03:34<33:55,  1.11it/s]\u001b[A\n",
      "  9%|▉         | 235/2495 [03:35<33:50,  1.11it/s]\u001b[A\n",
      "  9%|▉         | 236/2495 [03:36<33:39,  1.12it/s]\u001b[A\n",
      "  9%|▉         | 237/2495 [03:37<33:25,  1.13it/s]\u001b[A\n",
      " 10%|▉         | 238/2495 [03:38<33:18,  1.13it/s]\u001b[A\n",
      " 10%|▉         | 239/2495 [03:39<33:17,  1.13it/s]\u001b[A\n",
      " 10%|▉         | 240/2495 [03:39<33:08,  1.13it/s]\u001b[A\n",
      " 10%|▉         | 241/2495 [03:40<33:09,  1.13it/s]\u001b[A\n",
      " 10%|▉         | 242/2495 [03:42<36:07,  1.04it/s]\u001b[A\n",
      " 10%|▉         | 243/2495 [03:43<38:12,  1.02s/it]\u001b[A\n",
      " 10%|▉         | 244/2495 [03:44<37:12,  1.01it/s]\u001b[A\n",
      " 10%|▉         | 245/2495 [03:45<37:41,  1.01s/it]\u001b[A\n",
      " 10%|▉         | 246/2495 [03:46<36:41,  1.02it/s]\u001b[A\n",
      " 10%|▉         | 247/2495 [03:46<35:57,  1.04it/s]\u001b[A\n",
      " 10%|▉         | 248/2495 [03:47<35:28,  1.06it/s]\u001b[A\n",
      " 10%|▉         | 249/2495 [03:48<35:05,  1.07it/s]\u001b[A\n",
      " 10%|█         | 250/2495 [03:49<34:52,  1.07it/s]\u001b[A\n",
      " 10%|█         | 251/2495 [03:50<34:44,  1.08it/s]\u001b[A\n",
      " 10%|█         | 252/2495 [03:51<34:34,  1.08it/s]\u001b[A\n",
      " 10%|█         | 253/2495 [03:52<34:28,  1.08it/s]\u001b[A\n",
      " 10%|█         | 254/2495 [03:53<34:24,  1.09it/s]\u001b[A\n",
      " 10%|█         | 255/2495 [03:54<34:30,  1.08it/s]\u001b[A\n",
      " 10%|█         | 256/2495 [03:55<34:42,  1.08it/s]\u001b[A\n",
      " 10%|█         | 257/2495 [03:56<34:54,  1.07it/s]\u001b[A\n",
      " 10%|█         | 258/2495 [03:57<35:08,  1.06it/s]\u001b[A\n",
      " 10%|█         | 259/2495 [03:58<34:51,  1.07it/s]\u001b[A\n",
      " 10%|█         | 260/2495 [03:58<34:36,  1.08it/s]\u001b[A\n",
      " 10%|█         | 261/2495 [03:59<34:23,  1.08it/s]\u001b[A\n",
      " 11%|█         | 262/2495 [04:00<34:31,  1.08it/s]\u001b[A\n",
      " 11%|█         | 263/2495 [04:01<34:28,  1.08it/s]\u001b[A\n",
      " 11%|█         | 264/2495 [04:02<37:50,  1.02s/it]\u001b[A\n",
      " 11%|█         | 265/2495 [04:04<39:04,  1.05s/it]\u001b[A\n",
      " 11%|█         | 266/2495 [04:05<37:47,  1.02s/it]\u001b[A\n",
      " 11%|█         | 267/2495 [04:05<36:49,  1.01it/s]\u001b[A\n",
      " 11%|█         | 268/2495 [04:06<35:53,  1.03it/s]\u001b[A\n",
      " 11%|█         | 269/2495 [04:07<35:11,  1.05it/s]\u001b[A\n",
      " 11%|█         | 270/2495 [04:08<34:43,  1.07it/s]\u001b[A\n",
      " 11%|█         | 271/2495 [04:09<34:31,  1.07it/s]\u001b[A\n",
      " 11%|█         | 272/2495 [04:10<34:11,  1.08it/s]\u001b[A\n",
      " 11%|█         | 273/2495 [04:11<33:57,  1.09it/s]\u001b[A\n",
      " 11%|█         | 274/2495 [04:12<33:45,  1.10it/s]\u001b[A\n",
      " 11%|█         | 275/2495 [04:13<33:43,  1.10it/s]\u001b[A\n",
      " 11%|█         | 276/2495 [04:14<37:45,  1.02s/it]\u001b[A\n",
      " 11%|█         | 277/2495 [04:15<38:51,  1.05s/it]\u001b[A\n",
      " 11%|█         | 278/2495 [04:16<37:35,  1.02s/it]\u001b[A\n",
      " 11%|█         | 279/2495 [04:17<36:52,  1.00it/s]\u001b[A\n",
      " 11%|█         | 280/2495 [04:18<36:23,  1.01it/s]\u001b[A\n",
      " 11%|█▏        | 281/2495 [04:19<35:52,  1.03it/s]\u001b[A\n",
      " 11%|█▏        | 282/2495 [04:20<35:30,  1.04it/s]\u001b[A\n",
      " 11%|█▏        | 283/2495 [04:21<35:20,  1.04it/s]\u001b[A\n",
      " 11%|█▏        | 284/2495 [04:22<35:00,  1.05it/s]\u001b[A\n",
      " 11%|█▏        | 285/2495 [04:23<34:28,  1.07it/s]\u001b[A\n",
      " 11%|█▏        | 286/2495 [04:24<34:12,  1.08it/s]\u001b[A\n",
      " 12%|█▏        | 287/2495 [04:24<34:02,  1.08it/s]\u001b[A\n",
      " 12%|█▏        | 288/2495 [04:25<33:48,  1.09it/s]\u001b[A\n",
      " 12%|█▏        | 289/2495 [04:26<33:34,  1.09it/s]\u001b[A\n",
      " 12%|█▏        | 290/2495 [04:27<33:32,  1.10it/s]\u001b[A\n",
      " 12%|█▏        | 291/2495 [04:28<33:27,  1.10it/s]\u001b[A\n",
      " 12%|█▏        | 292/2495 [04:29<34:48,  1.05it/s]\u001b[A\n",
      " 12%|█▏        | 293/2495 [04:30<35:28,  1.03it/s]\u001b[A\n",
      " 12%|█▏        | 294/2495 [04:31<36:22,  1.01it/s]\u001b[A\n",
      " 12%|█▏        | 295/2495 [04:32<36:48,  1.00s/it]\u001b[A\n",
      " 12%|█▏        | 296/2495 [04:33<37:15,  1.02s/it]\u001b[A\n",
      " 12%|█▏        | 297/2495 [04:34<37:30,  1.02s/it]\u001b[A\n",
      " 12%|█▏        | 298/2495 [04:35<37:34,  1.03s/it]\u001b[A\n",
      " 12%|█▏        | 299/2495 [04:36<37:37,  1.03s/it]\u001b[A\n",
      " 12%|█▏        | 300/2495 [04:37<37:46,  1.03s/it]\u001b[A\n",
      " 12%|█▏        | 301/2495 [04:38<37:45,  1.03s/it]\u001b[A\n",
      " 12%|█▏        | 302/2495 [04:40<37:46,  1.03s/it]\u001b[A\n",
      " 12%|█▏        | 303/2495 [04:41<37:49,  1.04s/it]\u001b[A\n"
     ]
    },
    {
     "name": "stderr",
     "output_type": "stream",
     "text": [
      " 12%|█▏        | 304/2495 [04:42<37:56,  1.04s/it]\u001b[A\n",
      " 12%|█▏        | 305/2495 [04:43<37:58,  1.04s/it]\u001b[A\n",
      " 12%|█▏        | 306/2495 [04:44<37:56,  1.04s/it]\u001b[A\n",
      " 12%|█▏        | 307/2495 [04:45<39:16,  1.08s/it]\u001b[A\n",
      " 12%|█▏        | 308/2495 [04:46<38:02,  1.04s/it]\u001b[A\n",
      " 12%|█▏        | 309/2495 [04:47<36:56,  1.01s/it]\u001b[A\n",
      " 12%|█▏        | 310/2495 [04:48<36:05,  1.01it/s]\u001b[A\n",
      " 12%|█▏        | 311/2495 [04:49<35:32,  1.02it/s]\u001b[A\n",
      " 13%|█▎        | 312/2495 [04:50<35:09,  1.03it/s]\u001b[A\n",
      " 13%|█▎        | 313/2495 [04:51<34:50,  1.04it/s]\u001b[A\n",
      " 13%|█▎        | 314/2495 [04:51<34:34,  1.05it/s]\u001b[A\n",
      " 13%|█▎        | 315/2495 [04:52<34:30,  1.05it/s]\u001b[A\n",
      " 13%|█▎        | 316/2495 [04:53<34:23,  1.06it/s]\u001b[A\n",
      " 13%|█▎        | 317/2495 [04:54<33:58,  1.07it/s]\u001b[A\n",
      " 13%|█▎        | 318/2495 [04:55<33:42,  1.08it/s]\u001b[A\n",
      " 13%|█▎        | 319/2495 [04:56<33:25,  1.08it/s]\u001b[A\n",
      " 13%|█▎        | 320/2495 [04:57<33:20,  1.09it/s]\u001b[A\n",
      " 13%|█▎        | 321/2495 [04:58<33:09,  1.09it/s]\u001b[A\n",
      " 13%|█▎        | 322/2495 [04:59<33:02,  1.10it/s]\u001b[A\n",
      " 13%|█▎        | 323/2495 [05:00<32:50,  1.10it/s]\u001b[A\n",
      " 13%|█▎        | 324/2495 [05:01<32:52,  1.10it/s]\u001b[A\n",
      " 13%|█▎        | 325/2495 [05:01<32:46,  1.10it/s]\u001b[A\n",
      " 13%|█▎        | 326/2495 [05:02<32:56,  1.10it/s]\u001b[A\n",
      " 13%|█▎        | 327/2495 [05:03<32:43,  1.10it/s]\u001b[A\n",
      " 13%|█▎        | 328/2495 [05:04<32:39,  1.11it/s]\u001b[A\n",
      " 13%|█▎        | 329/2495 [05:05<32:34,  1.11it/s]\u001b[A\n",
      " 13%|█▎        | 330/2495 [05:06<32:31,  1.11it/s]\u001b[A\n",
      " 13%|█▎        | 331/2495 [05:07<32:25,  1.11it/s]\u001b[A\n",
      " 13%|█▎        | 332/2495 [05:08<32:25,  1.11it/s]\u001b[A\n",
      " 13%|█▎        | 333/2495 [05:09<32:32,  1.11it/s]\u001b[A\n",
      " 13%|█▎        | 334/2495 [05:10<32:29,  1.11it/s]\u001b[A\n",
      " 13%|█▎        | 335/2495 [05:11<32:25,  1.11it/s]\u001b[A\n",
      " 13%|█▎        | 336/2495 [05:11<32:24,  1.11it/s]\u001b[A\n",
      " 14%|█▎        | 337/2495 [05:12<32:24,  1.11it/s]\u001b[A\n",
      " 14%|█▎        | 338/2495 [05:13<33:41,  1.07it/s]\u001b[A\n",
      " 14%|█▎        | 339/2495 [05:14<33:13,  1.08it/s]\u001b[A\n",
      " 14%|█▎        | 340/2495 [05:15<32:55,  1.09it/s]\u001b[A\n",
      " 14%|█▎        | 341/2495 [05:16<32:46,  1.10it/s]\u001b[A\n",
      " 14%|█▎        | 342/2495 [05:17<32:38,  1.10it/s]\u001b[A\n",
      " 14%|█▎        | 343/2495 [05:18<32:34,  1.10it/s]\u001b[A\n",
      " 14%|█▍        | 344/2495 [05:19<32:35,  1.10it/s]\u001b[A\n",
      " 14%|█▍        | 345/2495 [05:20<33:40,  1.06it/s]\u001b[A\n",
      " 14%|█▍        | 346/2495 [05:21<34:14,  1.05it/s]\u001b[A\n",
      " 14%|█▍        | 347/2495 [05:22<34:40,  1.03it/s]\u001b[A\n",
      " 14%|█▍        | 348/2495 [05:23<35:15,  1.01it/s]\u001b[A\n",
      " 14%|█▍        | 349/2495 [05:24<34:46,  1.03it/s]\u001b[A\n",
      " 14%|█▍        | 350/2495 [05:25<34:28,  1.04it/s]\u001b[A\n",
      " 14%|█▍        | 351/2495 [05:26<34:13,  1.04it/s]\u001b[A\n",
      " 14%|█▍        | 352/2495 [05:27<34:06,  1.05it/s]\u001b[A\n",
      " 14%|█▍        | 353/2495 [05:28<34:03,  1.05it/s]\u001b[A\n",
      " 14%|█▍        | 354/2495 [05:28<33:47,  1.06it/s]\u001b[A\n",
      " 14%|█▍        | 355/2495 [05:29<34:26,  1.04it/s]\u001b[A\n",
      " 14%|█▍        | 356/2495 [05:30<34:44,  1.03it/s]\u001b[A\n",
      " 14%|█▍        | 357/2495 [05:31<34:59,  1.02it/s]\u001b[A\n",
      " 14%|█▍        | 358/2495 [05:32<35:12,  1.01it/s]\u001b[A\n",
      " 14%|█▍        | 359/2495 [05:33<35:43,  1.00s/it]\u001b[A\n",
      " 14%|█▍        | 360/2495 [05:35<36:19,  1.02s/it]\u001b[A\n",
      " 14%|█▍        | 361/2495 [05:36<36:29,  1.03s/it]\u001b[A\n",
      " 15%|█▍        | 362/2495 [05:37<36:48,  1.04s/it]\u001b[A\n",
      " 15%|█▍        | 363/2495 [05:38<36:50,  1.04s/it]\u001b[A\n",
      " 15%|█▍        | 364/2495 [05:39<36:49,  1.04s/it]\u001b[A\n",
      " 15%|█▍        | 365/2495 [05:40<36:52,  1.04s/it]\u001b[A\n",
      " 15%|█▍        | 366/2495 [05:41<37:01,  1.04s/it]\u001b[A\n",
      " 15%|█▍        | 367/2495 [05:42<36:57,  1.04s/it]\u001b[A\n",
      " 15%|█▍        | 368/2495 [05:43<36:55,  1.04s/it]\u001b[A\n",
      " 15%|█▍        | 369/2495 [05:44<38:18,  1.08s/it]\u001b[A\n",
      " 15%|█▍        | 370/2495 [05:45<37:55,  1.07s/it]\u001b[A\n",
      " 15%|█▍        | 371/2495 [05:46<37:04,  1.05s/it]\u001b[A\n",
      " 15%|█▍        | 372/2495 [05:47<35:51,  1.01s/it]\u001b[A\n",
      " 15%|█▍        | 373/2495 [05:48<34:43,  1.02it/s]\u001b[A\n",
      " 15%|█▍        | 374/2495 [05:49<33:51,  1.04it/s]\u001b[A\n",
      " 15%|█▌        | 375/2495 [05:50<33:19,  1.06it/s]\u001b[A\n",
      " 15%|█▌        | 376/2495 [05:51<32:50,  1.08it/s]\u001b[A\n",
      " 15%|█▌        | 377/2495 [05:52<32:31,  1.09it/s]\u001b[A\n",
      " 15%|█▌        | 378/2495 [05:52<32:18,  1.09it/s]\u001b[A\n",
      " 15%|█▌        | 379/2495 [05:53<32:05,  1.10it/s]\u001b[A\n",
      " 15%|█▌        | 380/2495 [05:55<35:30,  1.01s/it]\u001b[A\n",
      " 15%|█▌        | 381/2495 [05:56<35:17,  1.00s/it]\u001b[A\n",
      " 15%|█▌        | 382/2495 [05:57<35:29,  1.01s/it]\u001b[A\n",
      " 15%|█▌        | 383/2495 [05:58<34:47,  1.01it/s]\u001b[A\n",
      " 15%|█▌        | 384/2495 [05:58<34:00,  1.03it/s]\u001b[A\n",
      " 15%|█▌        | 385/2495 [05:59<33:15,  1.06it/s]\u001b[A\n",
      " 15%|█▌        | 386/2495 [06:00<32:41,  1.08it/s]\u001b[A\n",
      " 16%|█▌        | 387/2495 [06:01<32:21,  1.09it/s]\u001b[A\n",
      " 16%|█▌        | 388/2495 [06:02<32:01,  1.10it/s]\u001b[A\n",
      " 16%|█▌        | 389/2495 [06:03<31:52,  1.10it/s]\u001b[A\n",
      " 16%|█▌        | 390/2495 [06:04<31:49,  1.10it/s]\u001b[A\n",
      " 16%|█▌        | 391/2495 [06:05<31:44,  1.10it/s]\u001b[A\n",
      " 16%|█▌        | 392/2495 [06:06<31:43,  1.11it/s]\u001b[A\n",
      " 16%|█▌        | 393/2495 [06:07<31:34,  1.11it/s]\u001b[A\n",
      " 16%|█▌        | 394/2495 [06:07<31:52,  1.10it/s]\u001b[A\n",
      " 16%|█▌        | 395/2495 [06:08<31:42,  1.10it/s]\u001b[A\n",
      " 16%|█▌        | 396/2495 [06:09<31:49,  1.10it/s]\u001b[A\n",
      " 16%|█▌        | 397/2495 [06:10<31:39,  1.10it/s]\u001b[A\n",
      " 16%|█▌        | 398/2495 [06:11<31:45,  1.10it/s]\u001b[A\n",
      " 16%|█▌        | 399/2495 [06:12<31:38,  1.10it/s]\u001b[A\n",
      " 16%|█▌        | 400/2495 [06:13<32:55,  1.06it/s]\u001b[A\n",
      " 16%|█▌        | 401/2495 [06:14<32:21,  1.08it/s]\u001b[A\n",
      " 16%|█▌        | 402/2495 [06:15<31:54,  1.09it/s]\u001b[A\n",
      " 16%|█▌        | 403/2495 [06:16<31:35,  1.10it/s]\u001b[A\n",
      " 16%|█▌        | 404/2495 [06:17<31:24,  1.11it/s]\u001b[A\n",
      " 16%|█▌        | 405/2495 [06:17<31:14,  1.12it/s]\u001b[A\n",
      " 16%|█▋        | 406/2495 [06:18<31:10,  1.12it/s]\u001b[A\n",
      " 16%|█▋        | 407/2495 [06:19<31:24,  1.11it/s]\u001b[A\n",
      " 16%|█▋        | 408/2495 [06:20<31:38,  1.10it/s]\u001b[A\n",
      " 16%|█▋        | 409/2495 [06:21<32:33,  1.07it/s]\u001b[A\n",
      " 16%|█▋        | 410/2495 [06:22<33:46,  1.03it/s]\u001b[A\n",
      " 16%|█▋        | 411/2495 [06:23<34:37,  1.00it/s]\u001b[A\n",
      " 17%|█▋        | 412/2495 [06:24<35:13,  1.01s/it]\u001b[A\n",
      " 17%|█▋        | 413/2495 [06:25<35:44,  1.03s/it]\u001b[A\n",
      " 17%|█▋        | 414/2495 [06:26<35:57,  1.04s/it]\u001b[A\n",
      " 17%|█▋        | 415/2495 [06:28<36:18,  1.05s/it]\u001b[A\n",
      " 17%|█▋        | 416/2495 [06:29<36:16,  1.05s/it]\u001b[A\n",
      " 17%|█▋        | 417/2495 [06:30<36:12,  1.05s/it]\u001b[A\n",
      " 17%|█▋        | 418/2495 [06:31<36:14,  1.05s/it]\u001b[A\n",
      " 17%|█▋        | 419/2495 [06:32<36:10,  1.05s/it]\u001b[A\n",
      " 17%|█▋        | 420/2495 [06:33<36:11,  1.05s/it]\u001b[A\n",
      " 17%|█▋        | 421/2495 [06:34<36:05,  1.04s/it]\u001b[A\n",
      " 17%|█▋        | 422/2495 [06:35<35:58,  1.04s/it]\u001b[A\n",
      " 17%|█▋        | 423/2495 [06:36<35:51,  1.04s/it]\u001b[A\n",
      " 17%|█▋        | 424/2495 [06:37<35:49,  1.04s/it]\u001b[A\n",
      " 17%|█▋        | 425/2495 [06:38<35:51,  1.04s/it]\u001b[A\n",
      " 17%|█▋        | 426/2495 [06:39<35:50,  1.04s/it]\u001b[A\n",
      " 17%|█▋        | 427/2495 [06:40<35:53,  1.04s/it]\u001b[A\n",
      " 17%|█▋        | 428/2495 [06:41<36:04,  1.05s/it]\u001b[A\n",
      " 17%|█▋        | 429/2495 [06:42<35:15,  1.02s/it]\u001b[A\n",
      " 17%|█▋        | 430/2495 [06:43<35:30,  1.03s/it]\u001b[A\n",
      " 17%|█▋        | 431/2495 [06:44<36:54,  1.07s/it]\u001b[A\n",
      " 17%|█▋        | 432/2495 [06:45<36:29,  1.06s/it]\u001b[A\n",
      " 17%|█▋        | 433/2495 [06:46<36:13,  1.05s/it]\u001b[A\n",
      " 17%|█▋        | 434/2495 [06:47<35:57,  1.05s/it]\u001b[A\n",
      " 17%|█▋        | 435/2495 [06:48<35:45,  1.04s/it]\u001b[A\n",
      " 17%|█▋        | 436/2495 [06:49<35:42,  1.04s/it]\u001b[A\n",
      " 18%|█▊        | 437/2495 [06:51<35:46,  1.04s/it]\u001b[A\n",
      " 18%|█▊        | 438/2495 [06:52<36:03,  1.05s/it]\u001b[A\n",
      " 18%|█▊        | 439/2495 [06:53<35:48,  1.04s/it]\u001b[A\n",
      " 18%|█▊        | 440/2495 [06:54<35:57,  1.05s/it]\u001b[A\n",
      " 18%|█▊        | 441/2495 [06:55<35:53,  1.05s/it]\u001b[A\n",
      " 18%|█▊        | 442/2495 [06:56<35:55,  1.05s/it]\u001b[A\n",
      " 18%|█▊        | 443/2495 [06:57<35:46,  1.05s/it]\u001b[A\n",
      " 18%|█▊        | 444/2495 [06:58<35:43,  1.05s/it]\u001b[A\n",
      " 18%|█▊        | 445/2495 [06:59<35:45,  1.05s/it]\u001b[A\n",
      " 18%|█▊        | 446/2495 [07:00<35:40,  1.04s/it]\u001b[A\n",
      " 18%|█▊        | 447/2495 [07:01<35:32,  1.04s/it]\u001b[A\n",
      " 18%|█▊        | 448/2495 [07:02<35:26,  1.04s/it]\u001b[A\n",
      " 18%|█▊        | 449/2495 [07:03<35:24,  1.04s/it]\u001b[A\n",
      " 18%|█▊        | 450/2495 [07:04<35:25,  1.04s/it]\u001b[A\n",
      " 18%|█▊        | 451/2495 [07:05<34:25,  1.01s/it]\u001b[A\n",
      " 18%|█▊        | 452/2495 [07:06<33:46,  1.01it/s]\u001b[A\n",
      " 18%|█▊        | 453/2495 [07:07<33:11,  1.03it/s]\u001b[A\n",
      " 18%|█▊        | 454/2495 [07:08<32:48,  1.04it/s]\u001b[A\n",
      " 18%|█▊        | 455/2495 [07:09<32:28,  1.05it/s]\u001b[A\n",
      " 18%|█▊        | 456/2495 [07:10<32:16,  1.05it/s]\u001b[A\n",
      " 18%|█▊        | 457/2495 [07:11<31:59,  1.06it/s]\u001b[A\n",
      " 18%|█▊        | 458/2495 [07:12<31:33,  1.08it/s]\u001b[A\n",
      " 18%|█▊        | 459/2495 [07:12<31:19,  1.08it/s]\u001b[A\n",
      " 18%|█▊        | 460/2495 [07:14<33:39,  1.01it/s]\u001b[A\n",
      " 18%|█▊        | 461/2495 [07:15<32:43,  1.04it/s]\u001b[A\n",
      " 19%|█▊        | 462/2495 [07:16<33:14,  1.02it/s]\u001b[A\n",
      " 19%|█▊        | 463/2495 [07:16<32:20,  1.05it/s]\u001b[A\n",
      " 19%|█▊        | 464/2495 [07:17<31:44,  1.07it/s]\u001b[A\n",
      " 19%|█▊        | 465/2495 [07:18<31:10,  1.09it/s]\u001b[A\n",
      " 19%|█▊        | 466/2495 [07:19<34:09,  1.01s/it]\u001b[A\n",
      " 19%|█▊        | 467/2495 [07:20<34:15,  1.01s/it]\u001b[A\n",
      " 19%|█▉        | 468/2495 [07:21<32:50,  1.03it/s]\u001b[A\n",
      " 19%|█▉        | 469/2495 [07:22<31:53,  1.06it/s]\u001b[A\n",
      " 19%|█▉        | 470/2495 [07:23<31:25,  1.07it/s]\u001b[A\n",
      " 19%|█▉        | 471/2495 [07:24<30:51,  1.09it/s]\u001b[A\n",
      " 19%|█▉        | 472/2495 [07:25<32:42,  1.03it/s]\u001b[A\n",
      " 19%|█▉        | 473/2495 [07:26<32:25,  1.04it/s]\u001b[A\n",
      " 19%|█▉        | 474/2495 [07:27<32:05,  1.05it/s]\u001b[A\n",
      " 19%|█▉        | 475/2495 [07:28<31:49,  1.06it/s]\u001b[A\n",
      " 19%|█▉        | 476/2495 [07:29<31:29,  1.07it/s]\u001b[A\n",
      " 19%|█▉        | 477/2495 [07:30<31:12,  1.08it/s]\u001b[A\n",
      " 19%|█▉        | 478/2495 [07:31<30:45,  1.09it/s]\u001b[A\n",
      " 19%|█▉        | 479/2495 [07:31<30:21,  1.11it/s]\u001b[A\n",
      " 19%|█▉        | 480/2495 [07:32<30:03,  1.12it/s]\u001b[A\n",
      " 19%|█▉        | 481/2495 [07:33<29:53,  1.12it/s]\u001b[A\n",
      " 19%|█▉        | 482/2495 [07:34<29:49,  1.12it/s]\u001b[A\n",
      " 19%|█▉        | 483/2495 [07:35<29:40,  1.13it/s]\u001b[A\n",
      " 19%|█▉        | 484/2495 [07:36<29:32,  1.13it/s]\u001b[A\n",
      " 19%|█▉        | 485/2495 [07:37<29:24,  1.14it/s]\u001b[A\n",
      " 19%|█▉        | 486/2495 [07:38<29:26,  1.14it/s]\u001b[A\n",
      " 20%|█▉        | 487/2495 [07:39<29:28,  1.14it/s]\u001b[A\n",
      " 20%|█▉        | 488/2495 [07:39<29:20,  1.14it/s]\u001b[A\n",
      " 20%|█▉        | 489/2495 [07:40<29:24,  1.14it/s]\u001b[A\n",
      " 20%|█▉        | 490/2495 [07:41<29:36,  1.13it/s]\u001b[A\n",
      " 20%|█▉        | 491/2495 [07:42<29:29,  1.13it/s]\u001b[A\n",
      " 20%|█▉        | 492/2495 [07:43<29:30,  1.13it/s]\u001b[A\n",
      " 20%|█▉        | 493/2495 [07:44<30:37,  1.09it/s]\u001b[A\n",
      " 20%|█▉        | 494/2495 [07:45<30:10,  1.11it/s]\u001b[A\n",
      " 20%|█▉        | 495/2495 [07:46<29:56,  1.11it/s]\u001b[A\n",
      " 20%|█▉        | 496/2495 [07:47<29:42,  1.12it/s]\u001b[A\n",
      " 20%|█▉        | 497/2495 [07:47<29:32,  1.13it/s]\u001b[A\n",
      " 20%|█▉        | 498/2495 [07:48<29:25,  1.13it/s]\u001b[A\n",
      " 20%|██        | 499/2495 [07:49<29:19,  1.13it/s]\u001b[A\n",
      " 20%|██        | 500/2495 [07:50<29:19,  1.13it/s]\u001b[A\n",
      " 20%|██        | 501/2495 [07:51<29:29,  1.13it/s]\u001b[A\n",
      " 20%|██        | 502/2495 [07:52<29:37,  1.12it/s]\u001b[A\n",
      " 20%|██        | 503/2495 [07:53<29:44,  1.12it/s]\u001b[A\n",
      " 20%|██        | 504/2495 [07:54<29:55,  1.11it/s]\u001b[A\n",
      " 20%|██        | 505/2495 [07:55<29:43,  1.12it/s]\u001b[A\n",
      " 20%|██        | 506/2495 [07:55<29:40,  1.12it/s]\u001b[A\n",
      " 20%|██        | 507/2495 [07:56<29:50,  1.11it/s]\u001b[A\n",
      " 20%|██        | 508/2495 [07:57<29:41,  1.12it/s]\u001b[A\n",
      " 20%|██        | 509/2495 [07:58<29:30,  1.12it/s]\u001b[A\n",
      " 20%|██        | 510/2495 [07:59<29:29,  1.12it/s]\u001b[A\n",
      " 20%|██        | 511/2495 [08:00<29:46,  1.11it/s]\u001b[A\n",
      " 21%|██        | 512/2495 [08:01<29:33,  1.12it/s]\u001b[A\n",
      " 21%|██        | 513/2495 [08:02<29:28,  1.12it/s]\u001b[A\n",
      " 21%|██        | 514/2495 [08:03<29:29,  1.12it/s]\u001b[A\n",
      " 21%|██        | 515/2495 [08:04<29:21,  1.12it/s]\u001b[A\n",
      " 21%|██        | 516/2495 [08:04<29:16,  1.13it/s]\u001b[A\n",
      " 21%|██        | 517/2495 [08:05<29:10,  1.13it/s]\u001b[A\n",
      " 21%|██        | 518/2495 [08:06<29:08,  1.13it/s]\u001b[A\n",
      " 21%|██        | 519/2495 [08:07<29:38,  1.11it/s]\u001b[A\n",
      " 21%|██        | 520/2495 [08:08<29:51,  1.10it/s]\u001b[A\n",
      " 21%|██        | 521/2495 [08:09<30:01,  1.10it/s]\u001b[A\n",
      " 21%|██        | 522/2495 [08:10<30:05,  1.09it/s]\u001b[A\n",
      " 21%|██        | 523/2495 [08:11<30:00,  1.10it/s]\u001b[A\n",
      " 21%|██        | 524/2495 [08:12<29:49,  1.10it/s]\u001b[A\n",
      " 21%|██        | 525/2495 [08:13<30:49,  1.07it/s]\u001b[A\n",
      " 21%|██        | 526/2495 [08:14<30:19,  1.08it/s]\u001b[A\n",
      " 21%|██        | 527/2495 [08:14<30:10,  1.09it/s]\u001b[A\n",
      " 21%|██        | 528/2495 [08:15<29:52,  1.10it/s]\u001b[A\n",
      " 21%|██        | 529/2495 [08:16<29:35,  1.11it/s]\u001b[A\n",
      " 21%|██        | 530/2495 [08:17<29:23,  1.11it/s]\u001b[A\n",
      " 21%|██▏       | 531/2495 [08:18<29:21,  1.12it/s]\u001b[A\n",
      " 21%|██▏       | 532/2495 [08:19<32:34,  1.00it/s]\u001b[A\n",
      " 21%|██▏       | 533/2495 [08:20<31:43,  1.03it/s]\u001b[A\n",
      " 21%|██▏       | 534/2495 [08:21<30:55,  1.06it/s]\u001b[A\n",
      " 21%|██▏       | 535/2495 [08:22<30:12,  1.08it/s]\u001b[A\n",
      " 21%|██▏       | 536/2495 [08:23<29:48,  1.10it/s]\u001b[A\n",
      " 22%|██▏       | 537/2495 [08:24<29:26,  1.11it/s]\u001b[A\n",
      " 22%|██▏       | 538/2495 [08:25<29:14,  1.12it/s]\u001b[A\n",
      " 22%|██▏       | 539/2495 [08:25<29:09,  1.12it/s]\u001b[A\n",
      " 22%|██▏       | 540/2495 [08:26<29:05,  1.12it/s]\u001b[A\n",
      " 22%|██▏       | 541/2495 [08:27<29:01,  1.12it/s]\u001b[A\n",
      " 22%|██▏       | 542/2495 [08:28<28:54,  1.13it/s]\u001b[A\n",
      " 22%|██▏       | 543/2495 [08:29<29:00,  1.12it/s]\u001b[A\n",
      " 22%|██▏       | 544/2495 [08:30<28:58,  1.12it/s]\u001b[A\n",
      " 22%|██▏       | 545/2495 [08:31<28:49,  1.13it/s]\u001b[A\n",
      " 22%|██▏       | 546/2495 [08:32<28:36,  1.14it/s]\u001b[A\n",
      " 22%|██▏       | 547/2495 [08:33<28:46,  1.13it/s]\u001b[A\n",
      " 22%|██▏       | 548/2495 [08:33<28:40,  1.13it/s]\u001b[A\n",
      " 22%|██▏       | 549/2495 [08:34<28:48,  1.13it/s]\u001b[A\n",
      " 22%|██▏       | 550/2495 [08:35<28:39,  1.13it/s]\u001b[A\n",
      " 22%|██▏       | 551/2495 [08:36<28:30,  1.14it/s]\u001b[A\n",
      " 22%|██▏       | 552/2495 [08:37<28:24,  1.14it/s]\u001b[A\n",
      " 22%|██▏       | 553/2495 [08:38<28:18,  1.14it/s]\u001b[A\n",
      " 22%|██▏       | 554/2495 [08:39<28:17,  1.14it/s]\u001b[A\n",
      " 22%|██▏       | 555/2495 [08:40<28:12,  1.15it/s]\u001b[A\n",
      " 22%|██▏       | 556/2495 [08:40<28:15,  1.14it/s]\u001b[A\n",
      " 22%|██▏       | 557/2495 [08:41<29:23,  1.10it/s]\u001b[A\n",
      " 22%|██▏       | 558/2495 [08:42<28:59,  1.11it/s]\u001b[A\n",
      " 22%|██▏       | 559/2495 [08:43<28:45,  1.12it/s]\u001b[A\n",
      " 22%|██▏       | 560/2495 [08:44<28:36,  1.13it/s]\u001b[A\n",
      " 22%|██▏       | 561/2495 [08:45<28:29,  1.13it/s]\u001b[A\n",
      " 23%|██▎       | 562/2495 [08:46<28:24,  1.13it/s]\u001b[A\n",
      " 23%|██▎       | 563/2495 [08:47<28:23,  1.13it/s]\u001b[A\n",
      " 23%|██▎       | 564/2495 [08:48<28:25,  1.13it/s]\u001b[A\n",
      " 23%|██▎       | 565/2495 [08:48<28:20,  1.14it/s]\u001b[A\n",
      " 23%|██▎       | 566/2495 [08:49<28:16,  1.14it/s]\u001b[A\n",
      " 23%|██▎       | 567/2495 [08:50<28:19,  1.13it/s]\u001b[A\n",
      " 23%|██▎       | 568/2495 [08:51<28:14,  1.14it/s]\u001b[A\n",
      " 23%|██▎       | 569/2495 [08:52<28:18,  1.13it/s]\u001b[A\n",
      " 23%|██▎       | 570/2495 [08:53<28:20,  1.13it/s]\u001b[A\n",
      " 23%|██▎       | 571/2495 [08:54<28:14,  1.14it/s]\u001b[A\n",
      " 23%|██▎       | 572/2495 [08:55<31:27,  1.02it/s]\u001b[A\n",
      " 23%|██▎       | 573/2495 [08:56<31:26,  1.02it/s]\u001b[A\n",
      " 23%|██▎       | 574/2495 [08:57<31:17,  1.02it/s]\u001b[A\n",
      " 23%|██▎       | 575/2495 [08:58<30:52,  1.04it/s]\u001b[A\n",
      " 23%|██▎       | 576/2495 [08:59<30:42,  1.04it/s]\u001b[A\n",
      " 23%|██▎       | 577/2495 [09:00<30:35,  1.05it/s]\u001b[A\n",
      " 23%|██▎       | 578/2495 [09:01<30:25,  1.05it/s]\u001b[A\n",
      " 23%|██▎       | 579/2495 [09:02<30:18,  1.05it/s]\u001b[A\n",
      " 23%|██▎       | 580/2495 [09:03<30:18,  1.05it/s]\u001b[A\n",
      " 23%|██▎       | 581/2495 [09:04<30:20,  1.05it/s]\u001b[A\n",
      " 23%|██▎       | 582/2495 [09:04<30:10,  1.06it/s]\u001b[A\n",
      " 23%|██▎       | 583/2495 [09:05<30:00,  1.06it/s]\u001b[A\n",
      " 23%|██▎       | 584/2495 [09:06<29:54,  1.06it/s]\u001b[A\n",
      " 23%|██▎       | 585/2495 [09:07<29:55,  1.06it/s]\u001b[A\n",
      " 23%|██▎       | 586/2495 [09:08<29:35,  1.08it/s]\u001b[A\n",
      " 24%|██▎       | 587/2495 [09:09<29:18,  1.09it/s]\u001b[A\n",
      " 24%|██▎       | 588/2495 [09:10<30:18,  1.05it/s]\u001b[A\n",
      " 24%|██▎       | 589/2495 [09:11<29:50,  1.06it/s]\u001b[A\n",
      " 24%|██▎       | 590/2495 [09:12<29:33,  1.07it/s]\u001b[A\n",
      " 24%|██▎       | 591/2495 [09:13<29:22,  1.08it/s]\u001b[A\n",
      " 24%|██▎       | 592/2495 [09:14<29:15,  1.08it/s]\u001b[A\n",
      " 24%|██▍       | 593/2495 [09:15<29:16,  1.08it/s]\u001b[A\n",
      " 24%|██▍       | 594/2495 [09:16<29:04,  1.09it/s]\u001b[A\n",
      " 24%|██▍       | 595/2495 [09:17<29:31,  1.07it/s]\u001b[A\n",
      " 24%|██▍       | 596/2495 [09:17<29:23,  1.08it/s]\u001b[A\n",
      " 24%|██▍       | 597/2495 [09:18<29:22,  1.08it/s]\u001b[A\n",
      " 24%|██▍       | 598/2495 [09:19<29:25,  1.07it/s]\u001b[A\n",
      " 24%|██▍       | 599/2495 [09:20<29:22,  1.08it/s]\u001b[A\n",
      " 24%|██▍       | 600/2495 [09:21<29:08,  1.08it/s]\u001b[A\n",
      " 24%|██▍       | 601/2495 [09:22<28:59,  1.09it/s]\u001b[A\n",
      " 24%|██▍       | 602/2495 [09:23<28:57,  1.09it/s]\u001b[A\n",
      " 24%|██▍       | 603/2495 [09:24<28:49,  1.09it/s]\u001b[A\n",
      " 24%|██▍       | 604/2495 [09:25<28:37,  1.10it/s]\u001b[A\n",
      " 24%|██▍       | 605/2495 [09:26<28:38,  1.10it/s]\u001b[A\n"
     ]
    },
    {
     "name": "stderr",
     "output_type": "stream",
     "text": [
      " 24%|██▍       | 606/2495 [09:27<28:39,  1.10it/s]\u001b[A\n",
      " 24%|██▍       | 607/2495 [09:28<28:45,  1.09it/s]\u001b[A\n",
      " 24%|██▍       | 608/2495 [09:28<28:56,  1.09it/s]\u001b[A\n",
      " 24%|██▍       | 609/2495 [09:29<28:44,  1.09it/s]\u001b[A\n",
      " 24%|██▍       | 610/2495 [09:30<28:57,  1.08it/s]\u001b[A\n",
      " 24%|██▍       | 611/2495 [09:31<28:50,  1.09it/s]\u001b[A\n",
      " 25%|██▍       | 612/2495 [09:32<28:42,  1.09it/s]\u001b[A\n",
      " 25%|██▍       | 613/2495 [09:33<30:39,  1.02it/s]\u001b[A\n",
      " 25%|██▍       | 614/2495 [09:34<30:09,  1.04it/s]\u001b[A\n",
      " 25%|██▍       | 615/2495 [09:35<29:44,  1.05it/s]\u001b[A\n",
      " 25%|██▍       | 616/2495 [09:36<29:22,  1.07it/s]\u001b[A\n",
      " 25%|██▍       | 617/2495 [09:37<28:50,  1.08it/s]\u001b[A\n",
      " 25%|██▍       | 618/2495 [09:38<28:36,  1.09it/s]\u001b[A\n",
      " 25%|██▍       | 619/2495 [09:39<28:24,  1.10it/s]\u001b[A\n",
      " 25%|██▍       | 620/2495 [09:40<29:23,  1.06it/s]\u001b[A\n",
      " 25%|██▍       | 621/2495 [09:41<28:50,  1.08it/s]\u001b[A\n",
      " 25%|██▍       | 622/2495 [09:41<28:33,  1.09it/s]\u001b[A\n",
      " 25%|██▍       | 623/2495 [09:42<28:20,  1.10it/s]\u001b[A\n",
      " 25%|██▌       | 624/2495 [09:43<28:20,  1.10it/s]\u001b[A\n",
      " 25%|██▌       | 625/2495 [09:44<28:26,  1.10it/s]\u001b[A\n",
      " 25%|██▌       | 626/2495 [09:45<28:14,  1.10it/s]\u001b[A\n",
      " 25%|██▌       | 627/2495 [09:46<28:08,  1.11it/s]\u001b[A\n",
      " 25%|██▌       | 628/2495 [09:47<27:57,  1.11it/s]\u001b[A\n",
      " 25%|██▌       | 629/2495 [09:48<27:52,  1.12it/s]\u001b[A\n",
      " 25%|██▌       | 630/2495 [09:49<27:48,  1.12it/s]\u001b[A\n",
      " 25%|██▌       | 631/2495 [09:50<27:47,  1.12it/s]\u001b[A\n",
      " 25%|██▌       | 632/2495 [09:50<27:45,  1.12it/s]\u001b[A\n",
      " 25%|██▌       | 633/2495 [09:51<27:41,  1.12it/s]\u001b[A\n",
      " 25%|██▌       | 634/2495 [09:52<27:38,  1.12it/s]\u001b[A\n",
      " 25%|██▌       | 635/2495 [09:53<27:37,  1.12it/s]\u001b[A\n",
      " 25%|██▌       | 636/2495 [09:54<27:34,  1.12it/s]\u001b[A\n",
      " 26%|██▌       | 637/2495 [09:55<27:35,  1.12it/s]\u001b[A\n",
      " 26%|██▌       | 638/2495 [09:56<27:30,  1.13it/s]\u001b[A\n",
      " 26%|██▌       | 639/2495 [09:57<27:39,  1.12it/s]\u001b[A\n",
      " 26%|██▌       | 640/2495 [09:58<27:37,  1.12it/s]\u001b[A\n",
      " 26%|██▌       | 641/2495 [09:58<27:36,  1.12it/s]\u001b[A\n",
      " 26%|██▌       | 642/2495 [09:59<27:38,  1.12it/s]\u001b[A\n",
      " 26%|██▌       | 643/2495 [10:00<27:39,  1.12it/s]\u001b[A\n",
      " 26%|██▌       | 644/2495 [10:01<27:35,  1.12it/s]\u001b[A\n",
      " 26%|██▌       | 645/2495 [10:02<27:34,  1.12it/s]\u001b[A\n",
      " 26%|██▌       | 646/2495 [10:03<27:37,  1.12it/s]\u001b[A\n",
      " 26%|██▌       | 647/2495 [10:04<27:36,  1.12it/s]\u001b[A\n",
      " 26%|██▌       | 648/2495 [10:05<27:39,  1.11it/s]\u001b[A\n",
      " 26%|██▌       | 649/2495 [10:06<27:27,  1.12it/s]\u001b[A\n",
      " 26%|██▌       | 650/2495 [10:07<27:30,  1.12it/s]\u001b[A\n",
      " 26%|██▌       | 651/2495 [10:07<27:28,  1.12it/s]\u001b[A\n",
      " 26%|██▌       | 652/2495 [10:08<28:33,  1.08it/s]\u001b[A\n",
      " 26%|██▌       | 653/2495 [10:09<28:06,  1.09it/s]\u001b[A\n",
      " 26%|██▌       | 654/2495 [10:10<27:47,  1.10it/s]\u001b[A\n",
      " 26%|██▋       | 655/2495 [10:11<27:28,  1.12it/s]\u001b[A\n",
      " 26%|██▋       | 656/2495 [10:12<27:18,  1.12it/s]\u001b[A\n",
      " 26%|██▋       | 657/2495 [10:13<27:08,  1.13it/s]\u001b[A\n",
      " 26%|██▋       | 658/2495 [10:14<27:04,  1.13it/s]\u001b[A\n",
      " 26%|██▋       | 659/2495 [10:15<27:03,  1.13it/s]\u001b[A\n",
      " 26%|██▋       | 660/2495 [10:15<27:03,  1.13it/s]\u001b[A\n",
      " 26%|██▋       | 661/2495 [10:16<26:57,  1.13it/s]\u001b[A\n",
      " 27%|██▋       | 662/2495 [10:17<26:54,  1.14it/s]\u001b[A\n",
      " 27%|██▋       | 663/2495 [10:18<26:58,  1.13it/s]\u001b[A\n",
      " 27%|██▋       | 664/2495 [10:19<26:57,  1.13it/s]\u001b[A\n",
      " 27%|██▋       | 665/2495 [10:20<26:58,  1.13it/s]\u001b[A\n",
      " 27%|██▋       | 666/2495 [10:21<26:51,  1.14it/s]\u001b[A\n",
      " 27%|██▋       | 667/2495 [10:22<26:47,  1.14it/s]\u001b[A\n",
      " 27%|██▋       | 668/2495 [10:23<26:51,  1.13it/s]\u001b[A\n",
      " 27%|██▋       | 669/2495 [10:23<26:48,  1.14it/s]\u001b[A\n",
      " 27%|██▋       | 670/2495 [10:24<26:46,  1.14it/s]\u001b[A\n",
      " 27%|██▋       | 671/2495 [10:25<26:45,  1.14it/s]\u001b[A\n",
      " 27%|██▋       | 672/2495 [10:26<26:47,  1.13it/s]\u001b[A\n",
      " 27%|██▋       | 673/2495 [10:27<26:46,  1.13it/s]\u001b[A\n",
      " 27%|██▋       | 674/2495 [10:28<26:43,  1.14it/s]\u001b[A\n",
      " 27%|██▋       | 675/2495 [10:29<26:46,  1.13it/s]\u001b[A\n",
      " 27%|██▋       | 676/2495 [10:30<26:46,  1.13it/s]\u001b[A\n",
      " 27%|██▋       | 677/2495 [10:30<26:59,  1.12it/s]\u001b[A\n",
      " 27%|██▋       | 678/2495 [10:31<26:51,  1.13it/s]\u001b[A\n",
      " 27%|██▋       | 679/2495 [10:32<26:42,  1.13it/s]\u001b[A\n",
      " 27%|██▋       | 680/2495 [10:33<26:52,  1.13it/s]\u001b[A\n",
      " 27%|██▋       | 681/2495 [10:34<26:43,  1.13it/s]\u001b[A\n",
      " 27%|██▋       | 682/2495 [10:35<26:53,  1.12it/s]\u001b[A\n",
      " 27%|██▋       | 683/2495 [10:36<28:08,  1.07it/s]\u001b[A\n",
      " 27%|██▋       | 684/2495 [10:37<27:50,  1.08it/s]\u001b[A\n",
      " 27%|██▋       | 685/2495 [10:38<27:34,  1.09it/s]\u001b[A\n",
      " 27%|██▋       | 686/2495 [10:39<27:21,  1.10it/s]\u001b[A\n",
      " 28%|██▊       | 687/2495 [10:40<27:11,  1.11it/s]\u001b[A\n",
      " 28%|██▊       | 688/2495 [10:40<27:14,  1.11it/s]\u001b[A\n",
      " 28%|██▊       | 689/2495 [10:41<27:10,  1.11it/s]\u001b[A\n",
      " 28%|██▊       | 690/2495 [10:42<27:07,  1.11it/s]\u001b[A\n",
      " 28%|██▊       | 691/2495 [10:43<27:02,  1.11it/s]\u001b[A\n",
      " 28%|██▊       | 692/2495 [10:44<27:08,  1.11it/s]\u001b[A\n",
      " 28%|██▊       | 693/2495 [10:45<27:08,  1.11it/s]\u001b[A\n",
      " 28%|██▊       | 694/2495 [10:46<27:05,  1.11it/s]\u001b[A\n",
      " 28%|██▊       | 695/2495 [10:47<27:04,  1.11it/s]\u001b[A\n",
      " 28%|██▊       | 696/2495 [10:48<27:03,  1.11it/s]\u001b[A\n",
      " 28%|██▊       | 697/2495 [10:49<27:00,  1.11it/s]\u001b[A\n",
      " 28%|██▊       | 698/2495 [10:49<26:59,  1.11it/s]\u001b[A\n",
      " 28%|██▊       | 699/2495 [10:50<26:55,  1.11it/s]\u001b[A\n",
      " 28%|██▊       | 700/2495 [10:51<26:46,  1.12it/s]\u001b[A\n",
      " 28%|██▊       | 701/2495 [10:52<26:50,  1.11it/s]\u001b[A\n",
      " 28%|██▊       | 702/2495 [10:53<26:49,  1.11it/s]\u001b[A\n",
      " 28%|██▊       | 703/2495 [10:54<26:42,  1.12it/s]\u001b[A\n",
      " 28%|██▊       | 704/2495 [10:55<26:43,  1.12it/s]\u001b[A\n",
      " 28%|██▊       | 705/2495 [10:56<26:40,  1.12it/s]\u001b[A\n",
      " 28%|██▊       | 706/2495 [10:57<26:33,  1.12it/s]\u001b[A\n",
      " 28%|██▊       | 707/2495 [10:57<26:25,  1.13it/s]\u001b[A\n",
      " 28%|██▊       | 708/2495 [10:58<26:22,  1.13it/s]\u001b[A\n",
      " 28%|██▊       | 709/2495 [10:59<26:23,  1.13it/s]\u001b[A\n",
      " 28%|██▊       | 710/2495 [11:00<26:20,  1.13it/s]\u001b[A\n",
      " 28%|██▊       | 711/2495 [11:01<26:12,  1.13it/s]\u001b[A\n",
      " 29%|██▊       | 712/2495 [11:02<26:14,  1.13it/s]\u001b[A\n",
      " 29%|██▊       | 713/2495 [11:03<26:22,  1.13it/s]\u001b[A\n",
      " 29%|██▊       | 714/2495 [11:04<26:35,  1.12it/s]\u001b[A\n",
      " 29%|██▊       | 715/2495 [11:05<27:39,  1.07it/s]\u001b[A\n",
      " 29%|██▊       | 716/2495 [11:06<27:23,  1.08it/s]\u001b[A\n",
      " 29%|██▊       | 717/2495 [11:06<26:56,  1.10it/s]\u001b[A\n",
      " 29%|██▉       | 718/2495 [11:07<26:48,  1.10it/s]\u001b[A\n",
      " 29%|██▉       | 719/2495 [11:08<26:36,  1.11it/s]\u001b[A\n",
      " 29%|██▉       | 720/2495 [11:09<26:23,  1.12it/s]\u001b[A\n",
      " 29%|██▉       | 721/2495 [11:10<26:14,  1.13it/s]\u001b[A\n",
      " 29%|██▉       | 722/2495 [11:11<26:14,  1.13it/s]\u001b[A\n",
      " 29%|██▉       | 723/2495 [11:12<26:30,  1.11it/s]\u001b[A\n",
      " 29%|██▉       | 724/2495 [11:13<26:41,  1.11it/s]\u001b[A\n",
      " 29%|██▉       | 725/2495 [11:14<26:45,  1.10it/s]\u001b[A\n",
      " 29%|██▉       | 726/2495 [11:15<26:50,  1.10it/s]\u001b[A\n",
      " 29%|██▉       | 727/2495 [11:15<26:49,  1.10it/s]\u001b[A\n",
      " 29%|██▉       | 728/2495 [11:16<26:44,  1.10it/s]\u001b[A\n",
      " 29%|██▉       | 729/2495 [11:17<26:27,  1.11it/s]\u001b[A\n",
      " 29%|██▉       | 730/2495 [11:18<26:19,  1.12it/s]\u001b[A\n",
      " 29%|██▉       | 731/2495 [11:19<26:11,  1.12it/s]\u001b[A\n",
      " 29%|██▉       | 732/2495 [11:20<26:05,  1.13it/s]\u001b[A\n",
      " 29%|██▉       | 733/2495 [11:21<25:57,  1.13it/s]\u001b[A\n",
      " 29%|██▉       | 734/2495 [11:22<25:59,  1.13it/s]\u001b[A\n",
      " 29%|██▉       | 735/2495 [11:23<25:51,  1.13it/s]\u001b[A\n",
      " 29%|██▉       | 736/2495 [11:23<25:50,  1.13it/s]\u001b[A\n",
      " 30%|██▉       | 737/2495 [11:24<25:51,  1.13it/s]\u001b[A\n",
      " 30%|██▉       | 738/2495 [11:25<25:54,  1.13it/s]\u001b[A\n",
      " 30%|██▉       | 739/2495 [11:26<25:56,  1.13it/s]\u001b[A\n",
      " 30%|██▉       | 740/2495 [11:27<25:54,  1.13it/s]\u001b[A\n",
      " 30%|██▉       | 741/2495 [11:28<25:50,  1.13it/s]\u001b[A\n",
      " 30%|██▉       | 742/2495 [11:29<25:50,  1.13it/s]\u001b[A\n",
      " 30%|██▉       | 743/2495 [11:30<27:19,  1.07it/s]\u001b[A\n",
      " 30%|██▉       | 744/2495 [11:31<28:43,  1.02it/s]\u001b[A\n",
      " 30%|██▉       | 745/2495 [11:32<29:38,  1.02s/it]\u001b[A\n",
      " 30%|██▉       | 746/2495 [11:33<30:12,  1.04s/it]\u001b[A\n",
      " 30%|██▉       | 747/2495 [11:34<30:27,  1.05s/it]\u001b[A\n",
      " 30%|██▉       | 748/2495 [11:35<31:40,  1.09s/it]\u001b[A\n",
      " 30%|███       | 749/2495 [11:36<31:20,  1.08s/it]\u001b[A\n",
      " 30%|███       | 750/2495 [11:37<31:06,  1.07s/it]\u001b[A\n",
      " 30%|███       | 751/2495 [11:38<30:50,  1.06s/it]\u001b[A\n",
      " 30%|███       | 752/2495 [11:40<30:46,  1.06s/it]\u001b[A\n",
      " 30%|███       | 753/2495 [11:41<30:34,  1.05s/it]\u001b[A\n",
      " 30%|███       | 754/2495 [11:42<30:31,  1.05s/it]\u001b[A\n",
      " 30%|███       | 755/2495 [11:43<30:25,  1.05s/it]\u001b[A\n",
      " 30%|███       | 756/2495 [11:44<30:24,  1.05s/it]\u001b[A\n",
      " 30%|███       | 757/2495 [11:45<30:24,  1.05s/it]\u001b[A\n",
      " 30%|███       | 758/2495 [11:46<30:29,  1.05s/it]\u001b[A\n",
      " 30%|███       | 759/2495 [11:47<30:53,  1.07s/it]\u001b[A\n",
      " 30%|███       | 760/2495 [11:48<31:00,  1.07s/it]\u001b[A\n",
      " 31%|███       | 761/2495 [11:49<31:03,  1.07s/it]\u001b[A\n",
      " 31%|███       | 762/2495 [11:50<31:04,  1.08s/it]\u001b[A\n",
      " 31%|███       | 763/2495 [11:51<31:00,  1.07s/it]\u001b[A\n",
      " 31%|███       | 764/2495 [11:52<30:53,  1.07s/it]\u001b[A\n",
      " 31%|███       | 765/2495 [11:53<30:57,  1.07s/it]\u001b[A\n",
      " 31%|███       | 766/2495 [11:54<31:01,  1.08s/it]\u001b[A\n",
      " 31%|███       | 767/2495 [11:56<30:59,  1.08s/it]\u001b[A\n",
      " 31%|███       | 768/2495 [11:57<30:49,  1.07s/it]\u001b[A\n",
      " 31%|███       | 769/2495 [11:58<30:37,  1.06s/it]\u001b[A\n",
      " 31%|███       | 770/2495 [11:59<30:38,  1.07s/it]\u001b[A\n",
      " 31%|███       | 771/2495 [12:00<30:41,  1.07s/it]\u001b[A\n",
      " 31%|███       | 772/2495 [12:01<30:38,  1.07s/it]\u001b[A\n",
      " 31%|███       | 773/2495 [12:02<30:38,  1.07s/it]\u001b[A\n",
      " 31%|███       | 774/2495 [12:03<30:22,  1.06s/it]\u001b[A\n",
      " 31%|███       | 775/2495 [12:04<30:14,  1.05s/it]\u001b[A\n",
      " 31%|███       | 776/2495 [12:05<30:12,  1.05s/it]\u001b[A\n",
      " 31%|███       | 777/2495 [12:06<30:21,  1.06s/it]\u001b[A\n",
      " 31%|███       | 778/2495 [12:07<30:22,  1.06s/it]\u001b[A\n",
      " 31%|███       | 779/2495 [12:08<30:21,  1.06s/it]\u001b[A\n",
      " 31%|███▏      | 780/2495 [12:09<30:11,  1.06s/it]\u001b[A\n",
      " 31%|███▏      | 781/2495 [12:10<31:13,  1.09s/it]\u001b[A\n",
      " 31%|███▏      | 782/2495 [12:12<30:48,  1.08s/it]\u001b[A\n",
      " 31%|███▏      | 783/2495 [12:13<30:34,  1.07s/it]\u001b[A\n",
      " 31%|███▏      | 784/2495 [12:14<30:22,  1.07s/it]\u001b[A\n",
      " 31%|███▏      | 785/2495 [12:15<30:19,  1.06s/it]\u001b[A\n",
      " 32%|███▏      | 786/2495 [12:16<30:11,  1.06s/it]\u001b[A\n",
      " 32%|███▏      | 787/2495 [12:17<30:14,  1.06s/it]\u001b[A\n",
      " 32%|███▏      | 788/2495 [12:18<31:20,  1.10s/it]\u001b[A\n",
      " 32%|███▏      | 789/2495 [12:19<31:59,  1.13s/it]\u001b[A\n",
      " 32%|███▏      | 790/2495 [12:20<31:20,  1.10s/it]\u001b[A\n",
      " 32%|███▏      | 791/2495 [12:21<30:50,  1.09s/it]\u001b[A\n",
      " 32%|███▏      | 792/2495 [12:22<30:36,  1.08s/it]\u001b[A\n",
      " 32%|███▏      | 793/2495 [12:23<30:40,  1.08s/it]\u001b[A\n",
      " 32%|███▏      | 794/2495 [12:24<30:21,  1.07s/it]\u001b[A\n",
      " 32%|███▏      | 795/2495 [12:26<29:58,  1.06s/it]\u001b[A\n",
      " 32%|███▏      | 796/2495 [12:27<29:58,  1.06s/it]\u001b[A\n",
      " 32%|███▏      | 797/2495 [12:28<29:51,  1.05s/it]\u001b[A\n",
      " 32%|███▏      | 798/2495 [12:29<29:46,  1.05s/it]\u001b[A\n",
      " 32%|███▏      | 799/2495 [12:30<28:44,  1.02s/it]\u001b[A\n",
      " 32%|███▏      | 800/2495 [12:31<28:11,  1.00it/s]\u001b[A\n",
      " 32%|███▏      | 801/2495 [12:31<27:38,  1.02it/s]\u001b[A\n",
      " 32%|███▏      | 802/2495 [12:32<27:11,  1.04it/s]\u001b[A\n",
      " 32%|███▏      | 803/2495 [12:33<26:57,  1.05it/s]\u001b[A\n",
      " 32%|███▏      | 804/2495 [12:34<26:45,  1.05it/s]\u001b[A\n",
      " 32%|███▏      | 805/2495 [12:35<26:30,  1.06it/s]\u001b[A\n",
      " 32%|███▏      | 806/2495 [12:36<27:14,  1.03it/s]\u001b[A\n",
      " 32%|███▏      | 807/2495 [12:37<27:49,  1.01it/s]\u001b[A\n",
      " 32%|███▏      | 808/2495 [12:38<28:11,  1.00s/it]\u001b[A\n",
      " 32%|███▏      | 809/2495 [12:39<28:34,  1.02s/it]\u001b[A\n",
      " 32%|███▏      | 810/2495 [12:40<28:44,  1.02s/it]\u001b[A\n",
      " 33%|███▎      | 811/2495 [12:41<28:49,  1.03s/it]\u001b[A\n",
      " 33%|███▎      | 812/2495 [12:42<28:51,  1.03s/it]\u001b[A\n",
      " 33%|███▎      | 813/2495 [12:44<29:04,  1.04s/it]\u001b[A\n",
      " 33%|███▎      | 814/2495 [12:45<30:08,  1.08s/it]\u001b[A\n",
      " 33%|███▎      | 815/2495 [12:46<29:44,  1.06s/it]\u001b[A\n",
      " 33%|███▎      | 816/2495 [12:47<31:08,  1.11s/it]\u001b[A\n",
      " 33%|███▎      | 817/2495 [12:48<30:38,  1.10s/it]\u001b[A\n",
      " 33%|███▎      | 818/2495 [12:49<30:04,  1.08s/it]\u001b[A\n",
      " 33%|███▎      | 819/2495 [12:50<29:40,  1.06s/it]\u001b[A\n",
      " 33%|███▎      | 820/2495 [12:51<29:13,  1.05s/it]\u001b[A\n",
      " 33%|███▎      | 821/2495 [12:52<29:00,  1.04s/it]\u001b[A\n",
      " 33%|███▎      | 822/2495 [12:53<28:52,  1.04s/it]\u001b[A\n",
      " 33%|███▎      | 823/2495 [12:54<28:55,  1.04s/it]\u001b[A\n",
      " 33%|███▎      | 824/2495 [12:55<29:03,  1.04s/it]\u001b[A\n",
      " 33%|███▎      | 825/2495 [12:56<29:03,  1.04s/it]\u001b[A\n",
      " 33%|███▎      | 826/2495 [12:57<28:59,  1.04s/it]\u001b[A\n",
      " 33%|███▎      | 827/2495 [12:58<28:58,  1.04s/it]\u001b[A\n",
      " 33%|███▎      | 828/2495 [12:59<28:49,  1.04s/it]\u001b[A\n",
      " 33%|███▎      | 829/2495 [13:00<28:54,  1.04s/it]\u001b[A\n",
      " 33%|███▎      | 830/2495 [13:01<28:48,  1.04s/it]\u001b[A\n",
      " 33%|███▎      | 831/2495 [13:02<28:45,  1.04s/it]\u001b[A\n",
      " 33%|███▎      | 832/2495 [13:04<28:39,  1.03s/it]\u001b[A\n",
      " 33%|███▎      | 833/2495 [13:05<28:36,  1.03s/it]\u001b[A\n",
      " 33%|███▎      | 834/2495 [13:06<28:26,  1.03s/it]\u001b[A\n",
      " 33%|███▎      | 835/2495 [13:07<28:09,  1.02s/it]\u001b[A\n",
      " 34%|███▎      | 836/2495 [13:08<27:58,  1.01s/it]\u001b[A\n",
      " 34%|███▎      | 837/2495 [13:09<28:09,  1.02s/it]\u001b[A\n",
      " 34%|███▎      | 838/2495 [13:10<28:14,  1.02s/it]\u001b[A\n",
      " 34%|███▎      | 839/2495 [13:11<28:23,  1.03s/it]\u001b[A\n",
      " 34%|███▎      | 840/2495 [13:12<28:33,  1.04s/it]\u001b[A\n",
      " 34%|███▎      | 841/2495 [13:13<28:39,  1.04s/it]\u001b[A\n",
      " 34%|███▎      | 842/2495 [13:14<28:37,  1.04s/it]\u001b[A\n",
      " 34%|███▍      | 843/2495 [13:15<28:33,  1.04s/it]\u001b[A\n",
      " 34%|███▍      | 844/2495 [13:16<28:35,  1.04s/it]\u001b[A\n",
      " 34%|███▍      | 845/2495 [13:17<28:31,  1.04s/it]\u001b[A\n",
      " 34%|███▍      | 846/2495 [13:18<28:27,  1.04s/it]\u001b[A\n",
      " 34%|███▍      | 847/2495 [13:19<29:38,  1.08s/it]\u001b[A\n",
      " 34%|███▍      | 848/2495 [13:20<29:15,  1.07s/it]\u001b[A\n",
      " 34%|███▍      | 849/2495 [13:21<28:57,  1.06s/it]\u001b[A\n",
      " 34%|███▍      | 850/2495 [13:22<28:53,  1.05s/it]\u001b[A\n",
      " 34%|███▍      | 851/2495 [13:23<28:44,  1.05s/it]\u001b[A\n",
      " 34%|███▍      | 852/2495 [13:24<28:41,  1.05s/it]\u001b[A\n",
      " 34%|███▍      | 853/2495 [13:25<28:33,  1.04s/it]\u001b[A\n",
      " 34%|███▍      | 854/2495 [13:26<28:27,  1.04s/it]\u001b[A\n",
      " 34%|███▍      | 855/2495 [13:27<28:22,  1.04s/it]\u001b[A\n",
      " 34%|███▍      | 856/2495 [13:28<28:33,  1.05s/it]\u001b[A\n",
      " 34%|███▍      | 857/2495 [13:30<28:35,  1.05s/it]\u001b[A\n",
      " 34%|███▍      | 858/2495 [13:31<28:46,  1.05s/it]\u001b[A\n",
      " 34%|███▍      | 859/2495 [13:32<28:32,  1.05s/it]\u001b[A\n",
      " 34%|███▍      | 860/2495 [13:33<27:50,  1.02s/it]\u001b[A\n",
      " 35%|███▍      | 861/2495 [13:34<27:00,  1.01it/s]\u001b[A\n",
      " 35%|███▍      | 862/2495 [13:34<26:20,  1.03it/s]\u001b[A\n",
      " 35%|███▍      | 863/2495 [13:35<25:36,  1.06it/s]\u001b[A\n",
      " 35%|███▍      | 864/2495 [13:36<25:03,  1.08it/s]\u001b[A\n",
      " 35%|███▍      | 865/2495 [13:37<24:43,  1.10it/s]\u001b[A\n",
      " 35%|███▍      | 866/2495 [13:38<24:29,  1.11it/s]\u001b[A\n",
      " 35%|███▍      | 867/2495 [13:39<24:19,  1.12it/s]\u001b[A\n",
      " 35%|███▍      | 868/2495 [13:40<24:10,  1.12it/s]\u001b[A\n",
      " 35%|███▍      | 869/2495 [13:41<24:05,  1.12it/s]\u001b[A\n",
      " 35%|███▍      | 870/2495 [13:42<25:18,  1.07it/s]\u001b[A\n",
      " 35%|███▍      | 871/2495 [13:43<25:06,  1.08it/s]\u001b[A\n",
      " 35%|███▍      | 872/2495 [13:43<24:59,  1.08it/s]\u001b[A\n",
      " 35%|███▍      | 873/2495 [13:44<24:52,  1.09it/s]\u001b[A\n",
      " 35%|███▌      | 874/2495 [13:45<24:46,  1.09it/s]\u001b[A\n",
      " 35%|███▌      | 875/2495 [13:46<24:24,  1.11it/s]\u001b[A\n",
      " 35%|███▌      | 876/2495 [13:47<24:07,  1.12it/s]\u001b[A\n",
      " 35%|███▌      | 877/2495 [13:48<23:55,  1.13it/s]\u001b[A\n",
      " 35%|███▌      | 878/2495 [13:49<23:52,  1.13it/s]\u001b[A\n",
      " 35%|███▌      | 879/2495 [13:50<23:47,  1.13it/s]\u001b[A\n",
      " 35%|███▌      | 880/2495 [13:51<24:58,  1.08it/s]\u001b[A\n",
      " 35%|███▌      | 881/2495 [13:52<24:46,  1.09it/s]\u001b[A\n",
      " 35%|███▌      | 882/2495 [13:52<24:26,  1.10it/s]\u001b[A\n",
      " 35%|███▌      | 883/2495 [13:53<24:14,  1.11it/s]\u001b[A\n",
      " 35%|███▌      | 884/2495 [13:54<24:01,  1.12it/s]\u001b[A\n",
      " 35%|███▌      | 885/2495 [13:55<23:57,  1.12it/s]\u001b[A\n",
      " 36%|███▌      | 886/2495 [13:56<23:55,  1.12it/s]\u001b[A\n",
      " 36%|███▌      | 887/2495 [13:57<23:47,  1.13it/s]\u001b[A\n",
      " 36%|███▌      | 888/2495 [13:58<23:49,  1.12it/s]\u001b[A\n",
      " 36%|███▌      | 889/2495 [13:59<23:47,  1.13it/s]\u001b[A\n",
      " 36%|███▌      | 890/2495 [14:00<25:49,  1.04it/s]\u001b[A\n",
      " 36%|███▌      | 891/2495 [14:01<26:10,  1.02it/s]\u001b[A\n",
      " 36%|███▌      | 892/2495 [14:02<28:21,  1.06s/it]\u001b[A\n",
      " 36%|███▌      | 893/2495 [14:03<30:29,  1.14s/it]\u001b[A\n",
      " 36%|███▌      | 894/2495 [14:05<30:49,  1.16s/it]\u001b[A\n",
      " 36%|███▌      | 895/2495 [14:06<28:50,  1.08s/it]\u001b[A\n",
      " 36%|███▌      | 896/2495 [14:06<27:27,  1.03s/it]\u001b[A\n",
      " 36%|███▌      | 897/2495 [14:07<26:33,  1.00it/s]\u001b[A\n",
      " 36%|███▌      | 898/2495 [14:08<25:52,  1.03it/s]\u001b[A\n",
      " 36%|███▌      | 899/2495 [14:09<25:22,  1.05it/s]\u001b[A\n",
      " 36%|███▌      | 900/2495 [14:10<25:03,  1.06it/s]\u001b[A\n",
      " 36%|███▌      | 901/2495 [14:11<24:54,  1.07it/s]\u001b[A\n",
      " 36%|███▌      | 902/2495 [14:12<24:50,  1.07it/s]\u001b[A\n",
      " 36%|███▌      | 903/2495 [14:13<24:37,  1.08it/s]\u001b[A\n",
      " 36%|███▌      | 904/2495 [14:14<24:31,  1.08it/s]\u001b[A\n",
      " 36%|███▋      | 905/2495 [14:15<24:27,  1.08it/s]\u001b[A\n",
      " 36%|███▋      | 906/2495 [14:16<24:27,  1.08it/s]\u001b[A\n",
      " 36%|███▋      | 907/2495 [14:17<24:22,  1.09it/s]\u001b[A\n"
     ]
    },
    {
     "name": "stderr",
     "output_type": "stream",
     "text": [
      " 36%|███▋      | 908/2495 [14:17<24:20,  1.09it/s]\u001b[A\n",
      " 36%|███▋      | 909/2495 [14:18<24:18,  1.09it/s]\u001b[A\n",
      " 36%|███▋      | 910/2495 [14:19<25:41,  1.03it/s]\u001b[A\n",
      " 37%|███▋      | 911/2495 [14:20<25:52,  1.02it/s]\u001b[A\n",
      " 37%|███▋      | 912/2495 [14:21<25:21,  1.04it/s]\u001b[A\n",
      " 37%|███▋      | 913/2495 [14:22<26:01,  1.01it/s]\u001b[A\n",
      " 37%|███▋      | 914/2495 [14:23<25:35,  1.03it/s]\u001b[A\n",
      " 37%|███▋      | 915/2495 [14:24<25:06,  1.05it/s]\u001b[A\n",
      " 37%|███▋      | 916/2495 [14:25<24:47,  1.06it/s]\u001b[A\n",
      " 37%|███▋      | 917/2495 [14:26<24:31,  1.07it/s]\u001b[A\n",
      " 37%|███▋      | 918/2495 [14:27<24:19,  1.08it/s]\u001b[A\n",
      " 37%|███▋      | 919/2495 [14:28<24:16,  1.08it/s]\u001b[A\n",
      " 37%|███▋      | 920/2495 [14:29<26:11,  1.00it/s]\u001b[A\n",
      " 37%|███▋      | 921/2495 [14:30<25:43,  1.02it/s]\u001b[A\n",
      " 37%|███▋      | 922/2495 [14:31<25:16,  1.04it/s]\u001b[A\n",
      " 37%|███▋      | 923/2495 [14:32<24:55,  1.05it/s]\u001b[A\n",
      " 37%|███▋      | 924/2495 [14:33<24:31,  1.07it/s]\u001b[A\n",
      " 37%|███▋      | 925/2495 [14:34<24:12,  1.08it/s]\u001b[A\n",
      " 37%|███▋      | 926/2495 [14:35<23:58,  1.09it/s]\u001b[A\n",
      " 37%|███▋      | 927/2495 [14:35<23:49,  1.10it/s]\u001b[A\n",
      " 37%|███▋      | 928/2495 [14:36<23:44,  1.10it/s]\u001b[A\n",
      " 37%|███▋      | 929/2495 [14:37<23:45,  1.10it/s]\u001b[A\n",
      " 37%|███▋      | 930/2495 [14:38<23:40,  1.10it/s]\u001b[A\n",
      " 37%|███▋      | 931/2495 [14:39<23:37,  1.10it/s]\u001b[A\n",
      " 37%|███▋      | 932/2495 [14:40<23:38,  1.10it/s]\u001b[A\n",
      " 37%|███▋      | 933/2495 [14:41<23:34,  1.10it/s]\u001b[A\n",
      " 37%|███▋      | 934/2495 [14:42<23:34,  1.10it/s]\u001b[A\n",
      " 37%|███▋      | 935/2495 [14:43<23:34,  1.10it/s]\u001b[A\n",
      " 38%|███▊      | 936/2495 [14:44<23:35,  1.10it/s]\u001b[A\n",
      " 38%|███▊      | 937/2495 [14:45<23:45,  1.09it/s]\u001b[A\n",
      " 38%|███▊      | 938/2495 [14:46<23:51,  1.09it/s]\u001b[A\n",
      " 38%|███▊      | 939/2495 [14:46<23:52,  1.09it/s]\u001b[A\n",
      " 38%|███▊      | 940/2495 [14:47<23:45,  1.09it/s]\u001b[A\n",
      " 38%|███▊      | 941/2495 [14:48<23:38,  1.10it/s]\u001b[A\n",
      " 38%|███▊      | 942/2495 [14:49<23:32,  1.10it/s]\u001b[A\n",
      " 38%|███▊      | 943/2495 [14:50<23:32,  1.10it/s]\u001b[A\n",
      " 38%|███▊      | 944/2495 [14:51<23:32,  1.10it/s]\u001b[A\n",
      " 38%|███▊      | 945/2495 [14:52<23:28,  1.10it/s]\u001b[A\n",
      " 38%|███▊      | 946/2495 [14:53<24:28,  1.06it/s]\u001b[A\n",
      " 38%|███▊      | 947/2495 [14:54<24:08,  1.07it/s]\u001b[A\n",
      " 38%|███▊      | 948/2495 [14:55<23:53,  1.08it/s]\u001b[A\n",
      " 38%|███▊      | 949/2495 [14:56<23:42,  1.09it/s]\u001b[A\n",
      " 38%|███▊      | 950/2495 [14:57<23:29,  1.10it/s]\u001b[A\n",
      " 38%|███▊      | 951/2495 [14:57<23:25,  1.10it/s]\u001b[A\n",
      " 38%|███▊      | 952/2495 [14:58<23:23,  1.10it/s]\u001b[A\n",
      " 38%|███▊      | 953/2495 [14:59<23:23,  1.10it/s]\u001b[A\n",
      " 38%|███▊      | 954/2495 [15:00<23:23,  1.10it/s]\u001b[A\n",
      " 38%|███▊      | 955/2495 [15:01<23:22,  1.10it/s]\u001b[A\n",
      " 38%|███▊      | 956/2495 [15:02<24:17,  1.06it/s]\u001b[A\n",
      " 38%|███▊      | 957/2495 [15:03<24:47,  1.03it/s]\u001b[A\n",
      " 38%|███▊      | 958/2495 [15:04<25:23,  1.01it/s]\u001b[A\n",
      " 38%|███▊      | 959/2495 [15:05<25:53,  1.01s/it]\u001b[A\n",
      " 38%|███▊      | 960/2495 [15:06<26:21,  1.03s/it]\u001b[A\n",
      " 39%|███▊      | 961/2495 [15:07<26:44,  1.05s/it]\u001b[A\n",
      " 39%|███▊      | 962/2495 [15:08<26:51,  1.05s/it]\u001b[A\n",
      " 39%|███▊      | 963/2495 [15:10<27:04,  1.06s/it]\u001b[A\n",
      " 39%|███▊      | 964/2495 [15:11<27:03,  1.06s/it]\u001b[A\n",
      " 39%|███▊      | 965/2495 [15:12<27:03,  1.06s/it]\u001b[A\n",
      " 39%|███▊      | 966/2495 [15:13<26:57,  1.06s/it]\u001b[A\n",
      " 39%|███▉      | 967/2495 [15:14<26:51,  1.05s/it]\u001b[A\n",
      " 39%|███▉      | 968/2495 [15:15<26:42,  1.05s/it]\u001b[A\n",
      " 39%|███▉      | 969/2495 [15:16<26:56,  1.06s/it]\u001b[A\n",
      " 39%|███▉      | 970/2495 [15:17<26:59,  1.06s/it]\u001b[A\n",
      " 39%|███▉      | 971/2495 [15:18<26:58,  1.06s/it]\u001b[A\n",
      " 39%|███▉      | 972/2495 [15:19<27:07,  1.07s/it]\u001b[A\n",
      " 39%|███▉      | 973/2495 [15:20<27:20,  1.08s/it]\u001b[A\n",
      " 39%|███▉      | 974/2495 [15:21<27:16,  1.08s/it]\u001b[A\n",
      " 39%|███▉      | 975/2495 [15:22<27:12,  1.07s/it]\u001b[A\n",
      " 39%|███▉      | 976/2495 [15:23<27:11,  1.07s/it]\u001b[A\n",
      " 39%|███▉      | 977/2495 [15:25<27:43,  1.10s/it]\u001b[A\n",
      " 39%|███▉      | 978/2495 [15:26<27:22,  1.08s/it]\u001b[A\n",
      " 39%|███▉      | 979/2495 [15:27<27:09,  1.08s/it]\u001b[A\n",
      " 39%|███▉      | 980/2495 [15:28<28:02,  1.11s/it]\u001b[A\n",
      " 39%|███▉      | 981/2495 [15:29<27:32,  1.09s/it]\u001b[A\n",
      " 39%|███▉      | 982/2495 [15:30<27:09,  1.08s/it]\u001b[A\n",
      " 39%|███▉      | 983/2495 [15:31<26:49,  1.06s/it]\u001b[A\n",
      " 39%|███▉      | 984/2495 [15:32<26:38,  1.06s/it]\u001b[A\n",
      " 39%|███▉      | 985/2495 [15:33<26:33,  1.06s/it]\u001b[A\n",
      " 40%|███▉      | 986/2495 [15:34<26:27,  1.05s/it]\u001b[A\n",
      " 40%|███▉      | 987/2495 [15:35<26:16,  1.05s/it]\u001b[A\n",
      " 40%|███▉      | 988/2495 [15:36<26:06,  1.04s/it]\u001b[A\n",
      " 40%|███▉      | 989/2495 [15:37<26:00,  1.04s/it]\u001b[A\n",
      " 40%|███▉      | 990/2495 [15:38<26:05,  1.04s/it]\u001b[A\n",
      " 40%|███▉      | 991/2495 [15:39<26:06,  1.04s/it]\u001b[A\n",
      " 40%|███▉      | 992/2495 [15:40<26:13,  1.05s/it]\u001b[A\n",
      " 40%|███▉      | 993/2495 [15:41<26:04,  1.04s/it]\u001b[A\n",
      " 40%|███▉      | 994/2495 [15:42<26:05,  1.04s/it]\u001b[A\n",
      " 40%|███▉      | 995/2495 [15:43<25:55,  1.04s/it]\u001b[A\n",
      " 40%|███▉      | 996/2495 [15:44<25:47,  1.03s/it]\u001b[A\n",
      " 40%|███▉      | 997/2495 [15:45<25:43,  1.03s/it]\u001b[A\n",
      " 40%|████      | 998/2495 [15:47<25:48,  1.03s/it]\u001b[A\n",
      " 40%|████      | 999/2495 [15:48<25:47,  1.03s/it]\u001b[A\n",
      " 40%|████      | 1000/2495 [15:49<25:39,  1.03s/it]\u001b[A\n",
      " 40%|████      | 1001/2495 [15:50<25:36,  1.03s/it]\u001b[A\n",
      " 40%|████      | 1002/2495 [15:51<25:39,  1.03s/it]\u001b[A\n",
      " 40%|████      | 1003/2495 [15:52<25:42,  1.03s/it]\u001b[A\n",
      " 40%|████      | 1004/2495 [15:53<25:41,  1.03s/it]\u001b[A\n",
      " 40%|████      | 1005/2495 [15:54<25:41,  1.03s/it]\u001b[A\n",
      " 40%|████      | 1006/2495 [15:55<25:44,  1.04s/it]\u001b[A\n",
      " 40%|████      | 1007/2495 [15:56<25:41,  1.04s/it]\u001b[A\n",
      " 40%|████      | 1008/2495 [15:57<25:36,  1.03s/it]\u001b[A\n",
      " 40%|████      | 1009/2495 [15:58<25:30,  1.03s/it]\u001b[A\n",
      " 40%|████      | 1010/2495 [15:59<24:46,  1.00s/it]\u001b[A\n",
      " 41%|████      | 1011/2495 [16:00<26:49,  1.08s/it]\u001b[A\n",
      " 41%|████      | 1012/2495 [16:01<26:42,  1.08s/it]\u001b[A\n",
      " 41%|████      | 1013/2495 [16:02<26:49,  1.09s/it]\u001b[A\n",
      " 41%|████      | 1014/2495 [16:03<25:31,  1.03s/it]\u001b[A\n",
      " 41%|████      | 1015/2495 [16:04<24:38,  1.00it/s]\u001b[A\n",
      " 41%|████      | 1016/2495 [16:05<23:49,  1.03it/s]\u001b[A\n",
      " 41%|████      | 1017/2495 [16:06<23:26,  1.05it/s]\u001b[A\n",
      " 41%|████      | 1018/2495 [16:07<23:08,  1.06it/s]\u001b[A\n",
      " 41%|████      | 1019/2495 [16:08<22:53,  1.07it/s]\u001b[A\n",
      " 41%|████      | 1020/2495 [16:09<23:27,  1.05it/s]\u001b[A\n",
      " 41%|████      | 1021/2495 [16:10<23:55,  1.03it/s]\u001b[A\n",
      " 41%|████      | 1022/2495 [16:11<23:30,  1.04it/s]\u001b[A\n",
      " 41%|████      | 1023/2495 [16:12<23:25,  1.05it/s]\u001b[A\n",
      " 41%|████      | 1024/2495 [16:13<23:23,  1.05it/s]\u001b[A\n",
      " 41%|████      | 1025/2495 [16:14<23:16,  1.05it/s]\u001b[A\n",
      " 41%|████      | 1026/2495 [16:14<23:03,  1.06it/s]\u001b[A\n",
      " 41%|████      | 1027/2495 [16:16<24:22,  1.00it/s]\u001b[A\n",
      " 41%|████      | 1028/2495 [16:17<26:31,  1.09s/it]\u001b[A\n",
      " 41%|████      | 1029/2495 [16:18<26:24,  1.08s/it]\u001b[A\n",
      " 41%|████▏     | 1030/2495 [16:19<25:36,  1.05s/it]\u001b[A\n",
      " 41%|████▏     | 1031/2495 [16:20<25:04,  1.03s/it]\u001b[A\n",
      " 41%|████▏     | 1032/2495 [16:21<24:30,  1.00s/it]\u001b[A\n",
      " 41%|████▏     | 1033/2495 [16:22<24:01,  1.01it/s]\u001b[A\n",
      " 41%|████▏     | 1034/2495 [16:23<23:57,  1.02it/s]\u001b[A\n",
      " 41%|████▏     | 1035/2495 [16:24<23:31,  1.03it/s]\u001b[A\n",
      " 42%|████▏     | 1036/2495 [16:25<23:14,  1.05it/s]\u001b[A\n",
      " 42%|████▏     | 1037/2495 [16:26<22:52,  1.06it/s]\u001b[A\n",
      " 42%|████▏     | 1038/2495 [16:26<22:38,  1.07it/s]\u001b[A\n",
      " 42%|████▏     | 1039/2495 [16:27<22:27,  1.08it/s]\u001b[A\n",
      " 42%|████▏     | 1040/2495 [16:28<22:17,  1.09it/s]\u001b[A\n",
      " 42%|████▏     | 1041/2495 [16:29<22:12,  1.09it/s]\u001b[A\n",
      " 42%|████▏     | 1042/2495 [16:30<22:12,  1.09it/s]\u001b[A\n",
      " 42%|████▏     | 1043/2495 [16:31<22:13,  1.09it/s]\u001b[A\n",
      " 42%|████▏     | 1044/2495 [16:32<22:06,  1.09it/s]\u001b[A\n",
      " 42%|████▏     | 1045/2495 [16:33<22:11,  1.09it/s]\u001b[A\n",
      " 42%|████▏     | 1046/2495 [16:34<23:06,  1.04it/s]\u001b[A\n",
      " 42%|████▏     | 1047/2495 [16:35<22:49,  1.06it/s]\u001b[A\n",
      " 42%|████▏     | 1048/2495 [16:36<22:42,  1.06it/s]\u001b[A\n",
      " 42%|████▏     | 1049/2495 [16:37<22:27,  1.07it/s]\u001b[A\n",
      " 42%|████▏     | 1050/2495 [16:38<22:17,  1.08it/s]\u001b[A\n",
      " 42%|████▏     | 1051/2495 [16:38<22:09,  1.09it/s]\u001b[A\n",
      " 42%|████▏     | 1052/2495 [16:39<22:01,  1.09it/s]\u001b[A\n",
      " 42%|████▏     | 1053/2495 [16:41<23:37,  1.02it/s]\u001b[A\n",
      " 42%|████▏     | 1054/2495 [16:41<23:27,  1.02it/s]\u001b[A\n",
      " 42%|████▏     | 1055/2495 [16:42<23:21,  1.03it/s]\u001b[A\n",
      " 42%|████▏     | 1056/2495 [16:43<23:10,  1.04it/s]\u001b[A\n",
      " 42%|████▏     | 1057/2495 [16:44<22:56,  1.04it/s]\u001b[A\n",
      " 42%|████▏     | 1058/2495 [16:45<22:44,  1.05it/s]\u001b[A\n",
      " 42%|████▏     | 1059/2495 [16:46<22:37,  1.06it/s]\u001b[A\n",
      " 42%|████▏     | 1060/2495 [16:47<22:23,  1.07it/s]\u001b[A\n",
      " 43%|████▎     | 1061/2495 [16:48<22:12,  1.08it/s]\u001b[A\n",
      " 43%|████▎     | 1062/2495 [16:49<22:01,  1.08it/s]\u001b[A\n",
      " 43%|████▎     | 1063/2495 [16:50<21:58,  1.09it/s]\u001b[A\n",
      " 43%|████▎     | 1064/2495 [16:51<21:54,  1.09it/s]\u001b[A\n",
      " 43%|████▎     | 1065/2495 [16:52<21:52,  1.09it/s]\u001b[A\n",
      " 43%|████▎     | 1066/2495 [16:53<21:51,  1.09it/s]\u001b[A\n",
      " 43%|████▎     | 1067/2495 [16:54<21:52,  1.09it/s]\u001b[A\n",
      " 43%|████▎     | 1068/2495 [16:54<22:01,  1.08it/s]\u001b[A\n",
      " 43%|████▎     | 1069/2495 [16:55<22:02,  1.08it/s]\u001b[A\n",
      " 43%|████▎     | 1070/2495 [16:56<21:52,  1.09it/s]\u001b[A\n",
      " 43%|████▎     | 1071/2495 [16:57<21:43,  1.09it/s]\u001b[A\n",
      " 43%|████▎     | 1072/2495 [16:58<21:39,  1.10it/s]\u001b[A\n",
      " 43%|████▎     | 1073/2495 [16:59<21:34,  1.10it/s]\u001b[A\n",
      " 43%|████▎     | 1074/2495 [17:00<21:28,  1.10it/s]\u001b[A\n",
      " 43%|████▎     | 1075/2495 [17:01<21:23,  1.11it/s]\u001b[A\n",
      " 43%|████▎     | 1076/2495 [17:02<21:22,  1.11it/s]\u001b[A\n",
      " 43%|████▎     | 1077/2495 [17:03<21:22,  1.11it/s]\u001b[A\n",
      " 43%|████▎     | 1078/2495 [17:04<21:20,  1.11it/s]\u001b[A\n",
      " 43%|████▎     | 1079/2495 [17:05<22:13,  1.06it/s]\u001b[A\n",
      " 43%|████▎     | 1080/2495 [17:05<21:55,  1.08it/s]\u001b[A\n",
      " 43%|████▎     | 1081/2495 [17:06<21:38,  1.09it/s]\u001b[A\n",
      " 43%|████▎     | 1082/2495 [17:07<21:26,  1.10it/s]\u001b[A\n",
      " 43%|████▎     | 1083/2495 [17:08<21:24,  1.10it/s]\u001b[A\n",
      " 43%|████▎     | 1084/2495 [17:09<21:19,  1.10it/s]\u001b[A\n",
      " 43%|████▎     | 1085/2495 [17:10<21:18,  1.10it/s]\u001b[A\n",
      " 44%|████▎     | 1086/2495 [17:11<21:19,  1.10it/s]\u001b[A\n",
      " 44%|████▎     | 1087/2495 [17:12<21:25,  1.09it/s]\u001b[A\n",
      " 44%|████▎     | 1088/2495 [17:13<21:22,  1.10it/s]\u001b[A\n",
      " 44%|████▎     | 1089/2495 [17:14<21:30,  1.09it/s]\u001b[A\n",
      " 44%|████▎     | 1090/2495 [17:15<21:25,  1.09it/s]\u001b[A\n",
      " 44%|████▎     | 1091/2495 [17:15<21:20,  1.10it/s]\u001b[A\n",
      " 44%|████▍     | 1092/2495 [17:16<21:14,  1.10it/s]\u001b[A\n",
      " 44%|████▍     | 1093/2495 [17:17<21:09,  1.10it/s]\u001b[A\n",
      " 44%|████▍     | 1094/2495 [17:18<21:02,  1.11it/s]\u001b[A\n",
      " 44%|████▍     | 1095/2495 [17:19<21:04,  1.11it/s]\u001b[A\n",
      " 44%|████▍     | 1096/2495 [17:20<21:05,  1.11it/s]\u001b[A\n",
      " 44%|████▍     | 1097/2495 [17:21<21:03,  1.11it/s]\u001b[A\n",
      " 44%|████▍     | 1098/2495 [17:22<20:58,  1.11it/s]\u001b[A\n",
      " 44%|████▍     | 1099/2495 [17:23<20:54,  1.11it/s]\u001b[A\n",
      " 44%|████▍     | 1100/2495 [17:24<20:51,  1.11it/s]\u001b[A\n",
      " 44%|████▍     | 1101/2495 [17:24<20:51,  1.11it/s]\u001b[A\n",
      " 44%|████▍     | 1102/2495 [17:25<20:49,  1.11it/s]\u001b[A\n",
      " 44%|████▍     | 1103/2495 [17:26<20:47,  1.12it/s]\u001b[A\n",
      " 44%|████▍     | 1104/2495 [17:27<20:44,  1.12it/s]\u001b[A\n",
      " 44%|████▍     | 1105/2495 [17:28<20:42,  1.12it/s]\u001b[A\n",
      " 44%|████▍     | 1106/2495 [17:29<20:49,  1.11it/s]\u001b[A\n",
      " 44%|████▍     | 1107/2495 [17:30<20:58,  1.10it/s]\u001b[A\n",
      " 44%|████▍     | 1108/2495 [17:31<21:00,  1.10it/s]\u001b[A\n",
      " 44%|████▍     | 1109/2495 [17:32<21:07,  1.09it/s]\u001b[A\n",
      " 44%|████▍     | 1110/2495 [17:33<21:05,  1.09it/s]\u001b[A\n",
      " 45%|████▍     | 1111/2495 [17:33<21:06,  1.09it/s]\u001b[A\n",
      " 45%|████▍     | 1112/2495 [17:35<21:59,  1.05it/s]\u001b[A\n",
      " 45%|████▍     | 1113/2495 [17:35<21:47,  1.06it/s]\u001b[A\n",
      " 45%|████▍     | 1114/2495 [17:36<21:30,  1.07it/s]\u001b[A\n",
      " 45%|████▍     | 1115/2495 [17:37<21:15,  1.08it/s]\u001b[A\n",
      " 45%|████▍     | 1116/2495 [17:38<21:05,  1.09it/s]\u001b[A\n",
      " 45%|████▍     | 1117/2495 [17:39<21:01,  1.09it/s]\u001b[A\n",
      " 45%|████▍     | 1118/2495 [17:40<20:57,  1.09it/s]\u001b[A\n",
      " 45%|████▍     | 1119/2495 [17:41<21:05,  1.09it/s]\u001b[A\n",
      " 45%|████▍     | 1120/2495 [17:42<20:58,  1.09it/s]\u001b[A\n",
      " 45%|████▍     | 1121/2495 [17:43<20:56,  1.09it/s]\u001b[A\n",
      " 45%|████▍     | 1122/2495 [17:44<20:54,  1.09it/s]\u001b[A\n",
      " 45%|████▌     | 1123/2495 [17:45<21:09,  1.08it/s]\u001b[A\n",
      " 45%|████▌     | 1124/2495 [17:46<21:24,  1.07it/s]\u001b[A\n",
      " 45%|████▌     | 1125/2495 [17:47<23:53,  1.05s/it]\u001b[A\n",
      " 45%|████▌     | 1126/2495 [17:48<24:32,  1.08s/it]\u001b[A\n",
      " 45%|████▌     | 1127/2495 [17:49<23:24,  1.03s/it]\u001b[A\n",
      " 45%|████▌     | 1128/2495 [17:50<22:36,  1.01it/s]\u001b[A\n",
      " 45%|████▌     | 1129/2495 [17:51<22:00,  1.03it/s]\u001b[A\n",
      " 45%|████▌     | 1130/2495 [17:52<21:36,  1.05it/s]\u001b[A\n",
      " 45%|████▌     | 1131/2495 [17:53<21:20,  1.06it/s]\u001b[A\n",
      " 45%|████▌     | 1132/2495 [17:53<21:08,  1.07it/s]\u001b[A\n",
      " 45%|████▌     | 1133/2495 [17:54<20:58,  1.08it/s]\u001b[A\n",
      " 45%|████▌     | 1134/2495 [17:55<20:52,  1.09it/s]\u001b[A\n",
      " 45%|████▌     | 1135/2495 [17:56<20:49,  1.09it/s]\u001b[A\n",
      " 46%|████▌     | 1136/2495 [17:57<20:47,  1.09it/s]\u001b[A\n",
      " 46%|████▌     | 1137/2495 [17:58<20:44,  1.09it/s]\u001b[A\n",
      " 46%|████▌     | 1138/2495 [17:59<20:45,  1.09it/s]\u001b[A\n",
      " 46%|████▌     | 1139/2495 [18:00<20:46,  1.09it/s]\u001b[A\n",
      " 46%|████▌     | 1140/2495 [18:01<20:43,  1.09it/s]\u001b[A\n",
      " 46%|████▌     | 1141/2495 [18:02<20:43,  1.09it/s]\u001b[A\n",
      " 46%|████▌     | 1142/2495 [18:03<20:46,  1.09it/s]\u001b[A\n",
      " 46%|████▌     | 1143/2495 [18:04<20:43,  1.09it/s]\u001b[A\n",
      " 46%|████▌     | 1144/2495 [18:05<20:49,  1.08it/s]\u001b[A\n",
      " 46%|████▌     | 1145/2495 [18:06<21:37,  1.04it/s]\u001b[A\n",
      " 46%|████▌     | 1146/2495 [18:06<21:20,  1.05it/s]\u001b[A\n",
      " 46%|████▌     | 1147/2495 [18:07<21:12,  1.06it/s]\u001b[A\n",
      " 46%|████▌     | 1148/2495 [18:08<20:55,  1.07it/s]\u001b[A\n",
      " 46%|████▌     | 1149/2495 [18:09<20:47,  1.08it/s]\u001b[A\n",
      " 46%|████▌     | 1150/2495 [18:10<20:39,  1.09it/s]\u001b[A\n",
      " 46%|████▌     | 1151/2495 [18:11<20:34,  1.09it/s]\u001b[A\n",
      " 46%|████▌     | 1152/2495 [18:12<20:29,  1.09it/s]\u001b[A\n",
      " 46%|████▌     | 1153/2495 [18:13<20:24,  1.10it/s]\u001b[A\n",
      " 46%|████▋     | 1154/2495 [18:14<20:22,  1.10it/s]\u001b[A\n",
      " 46%|████▋     | 1155/2495 [18:15<20:20,  1.10it/s]\u001b[A\n",
      " 46%|████▋     | 1156/2495 [18:16<20:18,  1.10it/s]\u001b[A\n",
      " 46%|████▋     | 1157/2495 [18:17<20:20,  1.10it/s]\u001b[A\n",
      " 46%|████▋     | 1158/2495 [18:17<20:25,  1.09it/s]\u001b[A\n",
      " 46%|████▋     | 1159/2495 [18:18<20:25,  1.09it/s]\u001b[A\n",
      " 46%|████▋     | 1160/2495 [18:19<20:20,  1.09it/s]\u001b[A\n",
      " 47%|████▋     | 1161/2495 [18:20<20:13,  1.10it/s]\u001b[A\n",
      " 47%|████▋     | 1162/2495 [18:21<20:11,  1.10it/s]\u001b[A\n",
      " 47%|████▋     | 1163/2495 [18:22<20:09,  1.10it/s]\u001b[A\n",
      " 47%|████▋     | 1164/2495 [18:23<20:05,  1.10it/s]\u001b[A\n",
      " 47%|████▋     | 1165/2495 [18:24<20:01,  1.11it/s]\u001b[A\n",
      " 47%|████▋     | 1166/2495 [18:25<20:00,  1.11it/s]\u001b[A\n",
      " 47%|████▋     | 1167/2495 [18:26<20:00,  1.11it/s]\u001b[A\n",
      " 47%|████▋     | 1168/2495 [18:26<20:03,  1.10it/s]\u001b[A\n",
      " 47%|████▋     | 1169/2495 [18:27<19:59,  1.11it/s]\u001b[A\n",
      " 47%|████▋     | 1170/2495 [18:28<19:57,  1.11it/s]\u001b[A\n",
      " 47%|████▋     | 1171/2495 [18:29<19:59,  1.10it/s]\u001b[A\n",
      " 47%|████▋     | 1172/2495 [18:30<20:01,  1.10it/s]\u001b[A\n",
      " 47%|████▋     | 1173/2495 [18:31<20:11,  1.09it/s]\u001b[A\n",
      " 47%|████▋     | 1174/2495 [18:32<20:08,  1.09it/s]\u001b[A\n",
      " 47%|████▋     | 1175/2495 [18:33<20:14,  1.09it/s]\u001b[A\n",
      " 47%|████▋     | 1176/2495 [18:34<20:09,  1.09it/s]\u001b[A\n",
      " 47%|████▋     | 1177/2495 [18:35<20:03,  1.10it/s]\u001b[A\n",
      " 47%|████▋     | 1178/2495 [18:36<20:56,  1.05it/s]\u001b[A\n",
      " 47%|████▋     | 1179/2495 [18:37<20:45,  1.06it/s]\u001b[A\n",
      " 47%|████▋     | 1180/2495 [18:38<20:35,  1.06it/s]\u001b[A\n",
      " 47%|████▋     | 1181/2495 [18:39<20:21,  1.08it/s]\u001b[A\n",
      " 47%|████▋     | 1182/2495 [18:39<20:10,  1.08it/s]\u001b[A\n",
      " 47%|████▋     | 1183/2495 [18:40<20:02,  1.09it/s]\u001b[A\n",
      " 47%|████▋     | 1184/2495 [18:41<19:55,  1.10it/s]\u001b[A\n",
      " 47%|████▋     | 1185/2495 [18:42<19:52,  1.10it/s]\u001b[A\n",
      " 48%|████▊     | 1186/2495 [18:43<19:47,  1.10it/s]\u001b[A\n",
      " 48%|████▊     | 1187/2495 [18:44<19:43,  1.10it/s]\u001b[A\n",
      " 48%|████▊     | 1188/2495 [18:45<19:42,  1.11it/s]\u001b[A\n",
      " 48%|████▊     | 1189/2495 [18:46<19:38,  1.11it/s]\u001b[A\n",
      " 48%|████▊     | 1190/2495 [18:47<19:33,  1.11it/s]\u001b[A\n",
      " 48%|████▊     | 1191/2495 [18:48<19:36,  1.11it/s]\u001b[A\n",
      " 48%|████▊     | 1192/2495 [18:48<19:39,  1.10it/s]\u001b[A\n",
      " 48%|████▊     | 1193/2495 [18:49<19:40,  1.10it/s]\u001b[A\n",
      " 48%|████▊     | 1194/2495 [18:50<21:10,  1.02it/s]\u001b[A\n",
      " 48%|████▊     | 1195/2495 [18:51<20:44,  1.04it/s]\u001b[A\n",
      " 48%|████▊     | 1196/2495 [18:52<20:22,  1.06it/s]\u001b[A\n",
      " 48%|████▊     | 1197/2495 [18:53<20:09,  1.07it/s]\u001b[A\n",
      " 48%|████▊     | 1198/2495 [18:54<19:58,  1.08it/s]\u001b[A\n",
      " 48%|████▊     | 1199/2495 [18:55<19:50,  1.09it/s]\u001b[A\n",
      " 48%|████▊     | 1200/2495 [18:56<19:45,  1.09it/s]\u001b[A\n",
      " 48%|████▊     | 1201/2495 [18:57<19:43,  1.09it/s]\u001b[A\n",
      " 48%|████▊     | 1202/2495 [18:58<19:44,  1.09it/s]\u001b[A\n",
      " 48%|████▊     | 1203/2495 [18:59<19:36,  1.10it/s]\u001b[A\n",
      " 48%|████▊     | 1204/2495 [19:00<19:43,  1.09it/s]\u001b[A\n",
      " 48%|████▊     | 1205/2495 [19:01<19:37,  1.10it/s]\u001b[A\n"
     ]
    },
    {
     "name": "stderr",
     "output_type": "stream",
     "text": [
      " 48%|████▊     | 1206/2495 [19:01<19:32,  1.10it/s]\u001b[A\n",
      " 48%|████▊     | 1207/2495 [19:02<19:30,  1.10it/s]\u001b[A\n",
      " 48%|████▊     | 1208/2495 [19:03<19:28,  1.10it/s]\u001b[A\n",
      " 48%|████▊     | 1209/2495 [19:04<19:23,  1.10it/s]\u001b[A\n",
      " 48%|████▊     | 1210/2495 [19:05<19:21,  1.11it/s]\u001b[A\n",
      " 49%|████▊     | 1211/2495 [19:06<20:11,  1.06it/s]\u001b[A\n",
      " 49%|████▊     | 1212/2495 [19:07<19:54,  1.07it/s]\u001b[A\n",
      " 49%|████▊     | 1213/2495 [19:08<19:38,  1.09it/s]\u001b[A\n",
      " 49%|████▊     | 1214/2495 [19:09<19:28,  1.10it/s]\u001b[A\n",
      " 49%|████▊     | 1215/2495 [19:10<19:22,  1.10it/s]\u001b[A\n",
      " 49%|████▊     | 1216/2495 [19:11<19:20,  1.10it/s]\u001b[A\n",
      " 49%|████▉     | 1217/2495 [19:11<19:18,  1.10it/s]\u001b[A\n",
      " 49%|████▉     | 1218/2495 [19:12<19:13,  1.11it/s]\u001b[A\n",
      " 49%|████▉     | 1219/2495 [19:13<19:13,  1.11it/s]\u001b[A\n",
      " 49%|████▉     | 1220/2495 [19:14<19:12,  1.11it/s]\u001b[A\n",
      " 49%|████▉     | 1221/2495 [19:15<19:12,  1.11it/s]\u001b[A\n",
      " 49%|████▉     | 1222/2495 [19:16<19:15,  1.10it/s]\u001b[A\n",
      " 49%|████▉     | 1223/2495 [19:17<19:13,  1.10it/s]\u001b[A\n",
      " 49%|████▉     | 1224/2495 [19:18<19:12,  1.10it/s]\u001b[A\n",
      " 49%|████▉     | 1225/2495 [19:19<19:13,  1.10it/s]\u001b[A\n",
      " 49%|████▉     | 1226/2495 [19:20<19:13,  1.10it/s]\u001b[A\n",
      " 49%|████▉     | 1227/2495 [19:21<19:06,  1.11it/s]\u001b[A\n",
      " 49%|████▉     | 1228/2495 [19:21<19:05,  1.11it/s]\u001b[A\n",
      " 49%|████▉     | 1229/2495 [19:22<19:02,  1.11it/s]\u001b[A\n",
      " 49%|████▉     | 1230/2495 [19:23<18:59,  1.11it/s]\u001b[A\n",
      " 49%|████▉     | 1231/2495 [19:24<19:04,  1.10it/s]\u001b[A\n",
      " 49%|████▉     | 1232/2495 [19:25<18:57,  1.11it/s]\u001b[A\n",
      " 49%|████▉     | 1233/2495 [19:26<19:06,  1.10it/s]\u001b[A\n",
      " 49%|████▉     | 1234/2495 [19:27<19:03,  1.10it/s]\u001b[A\n",
      " 49%|████▉     | 1235/2495 [19:28<18:57,  1.11it/s]\u001b[A\n",
      " 50%|████▉     | 1236/2495 [19:29<18:56,  1.11it/s]\u001b[A\n",
      " 50%|████▉     | 1237/2495 [19:30<18:59,  1.10it/s]\u001b[A\n",
      " 50%|████▉     | 1238/2495 [19:30<18:54,  1.11it/s]\u001b[A\n",
      " 50%|████▉     | 1239/2495 [19:31<18:52,  1.11it/s]\u001b[A\n",
      " 50%|████▉     | 1240/2495 [19:32<18:52,  1.11it/s]\u001b[A\n",
      " 50%|████▉     | 1241/2495 [19:33<18:50,  1.11it/s]\u001b[A\n",
      " 50%|████▉     | 1242/2495 [19:34<18:54,  1.10it/s]\u001b[A\n",
      " 50%|████▉     | 1243/2495 [19:35<18:53,  1.10it/s]\u001b[A\n",
      " 50%|████▉     | 1244/2495 [19:36<18:51,  1.11it/s]\u001b[A\n",
      " 50%|████▉     | 1245/2495 [19:37<18:52,  1.10it/s]\u001b[A\n",
      " 50%|████▉     | 1246/2495 [19:38<19:49,  1.05it/s]\u001b[A\n",
      " 50%|████▉     | 1247/2495 [19:39<19:35,  1.06it/s]\u001b[A\n",
      " 50%|█████     | 1248/2495 [19:40<19:22,  1.07it/s]\u001b[A\n",
      " 50%|█████     | 1249/2495 [19:41<19:12,  1.08it/s]\u001b[A\n",
      " 50%|█████     | 1250/2495 [19:41<19:06,  1.09it/s]\u001b[A\n",
      " 50%|█████     | 1251/2495 [19:42<18:57,  1.09it/s]\u001b[A\n",
      " 50%|█████     | 1252/2495 [19:43<18:57,  1.09it/s]\u001b[A\n",
      " 50%|█████     | 1253/2495 [19:44<18:59,  1.09it/s]\u001b[A\n",
      " 50%|█████     | 1254/2495 [19:45<18:57,  1.09it/s]\u001b[A\n",
      " 50%|█████     | 1255/2495 [19:46<18:54,  1.09it/s]\u001b[A\n",
      " 50%|█████     | 1256/2495 [19:47<18:52,  1.09it/s]\u001b[A\n",
      " 50%|█████     | 1257/2495 [19:48<18:46,  1.10it/s]\u001b[A\n",
      " 50%|█████     | 1258/2495 [19:49<18:44,  1.10it/s]\u001b[A\n",
      " 50%|█████     | 1259/2495 [19:50<18:42,  1.10it/s]\u001b[A\n",
      " 51%|█████     | 1260/2495 [19:51<18:38,  1.10it/s]\u001b[A\n",
      " 51%|█████     | 1261/2495 [19:52<18:44,  1.10it/s]\u001b[A\n",
      " 51%|█████     | 1262/2495 [19:52<18:40,  1.10it/s]\u001b[A\n",
      " 51%|█████     | 1263/2495 [19:53<18:37,  1.10it/s]\u001b[A\n",
      " 51%|█████     | 1264/2495 [19:54<18:45,  1.09it/s]\u001b[A\n",
      " 51%|█████     | 1265/2495 [19:55<18:46,  1.09it/s]\u001b[A\n",
      " 51%|█████     | 1266/2495 [19:56<18:48,  1.09it/s]\u001b[A\n",
      " 51%|█████     | 1267/2495 [19:57<18:39,  1.10it/s]\u001b[A\n",
      " 51%|█████     | 1268/2495 [19:58<18:34,  1.10it/s]\u001b[A\n",
      " 51%|█████     | 1269/2495 [19:59<18:45,  1.09it/s]\u001b[A\n",
      " 51%|█████     | 1270/2495 [20:00<18:50,  1.08it/s]\u001b[A\n",
      " 51%|█████     | 1271/2495 [20:01<18:49,  1.08it/s]\u001b[A\n",
      " 51%|█████     | 1272/2495 [20:02<18:45,  1.09it/s]\u001b[A\n",
      " 51%|█████     | 1273/2495 [20:03<18:39,  1.09it/s]\u001b[A\n",
      " 51%|█████     | 1274/2495 [20:03<18:36,  1.09it/s]\u001b[A\n",
      " 51%|█████     | 1275/2495 [20:04<18:31,  1.10it/s]\u001b[A\n",
      " 51%|█████     | 1276/2495 [20:05<18:26,  1.10it/s]\u001b[A\n",
      " 51%|█████     | 1277/2495 [20:06<18:22,  1.10it/s]\u001b[A\n",
      " 51%|█████     | 1278/2495 [20:07<19:37,  1.03it/s]\u001b[A\n",
      " 51%|█████▏    | 1279/2495 [20:08<19:56,  1.02it/s]\u001b[A\n",
      " 51%|█████▏    | 1280/2495 [20:09<19:18,  1.05it/s]\u001b[A\n",
      " 51%|█████▏    | 1281/2495 [20:10<18:53,  1.07it/s]\u001b[A\n",
      " 51%|█████▏    | 1282/2495 [20:11<18:36,  1.09it/s]\u001b[A\n",
      " 51%|█████▏    | 1283/2495 [20:12<18:28,  1.09it/s]\u001b[A\n",
      " 51%|█████▏    | 1284/2495 [20:13<18:16,  1.10it/s]\u001b[A\n",
      " 52%|█████▏    | 1285/2495 [20:14<18:07,  1.11it/s]\u001b[A\n",
      " 52%|█████▏    | 1286/2495 [20:14<18:02,  1.12it/s]\u001b[A\n",
      " 52%|█████▏    | 1287/2495 [20:15<18:00,  1.12it/s]\u001b[A\n",
      " 52%|█████▏    | 1288/2495 [20:16<18:02,  1.11it/s]\u001b[A\n",
      " 52%|█████▏    | 1289/2495 [20:17<17:59,  1.12it/s]\u001b[A\n",
      " 52%|█████▏    | 1290/2495 [20:18<18:05,  1.11it/s]\u001b[A\n",
      " 52%|█████▏    | 1291/2495 [20:19<18:03,  1.11it/s]\u001b[A\n",
      " 52%|█████▏    | 1292/2495 [20:20<18:01,  1.11it/s]\u001b[A\n",
      " 52%|█████▏    | 1293/2495 [20:21<17:58,  1.11it/s]\u001b[A\n",
      " 52%|█████▏    | 1294/2495 [20:22<18:00,  1.11it/s]\u001b[A\n",
      " 52%|█████▏    | 1295/2495 [20:23<17:55,  1.12it/s]\u001b[A\n",
      " 52%|█████▏    | 1296/2495 [20:23<17:53,  1.12it/s]\u001b[A\n",
      " 52%|█████▏    | 1297/2495 [20:24<17:49,  1.12it/s]\u001b[A\n",
      " 52%|█████▏    | 1298/2495 [20:25<17:45,  1.12it/s]\u001b[A\n",
      " 52%|█████▏    | 1299/2495 [20:26<17:42,  1.13it/s]\u001b[A\n",
      " 52%|█████▏    | 1300/2495 [20:27<17:40,  1.13it/s]\u001b[A\n",
      " 52%|█████▏    | 1301/2495 [20:28<17:39,  1.13it/s]\u001b[A\n",
      " 52%|█████▏    | 1302/2495 [20:29<17:39,  1.13it/s]\u001b[A\n",
      " 52%|█████▏    | 1303/2495 [20:30<17:41,  1.12it/s]\u001b[A\n",
      " 52%|█████▏    | 1304/2495 [20:31<17:41,  1.12it/s]\u001b[A\n",
      " 52%|█████▏    | 1305/2495 [20:32<18:53,  1.05it/s]\u001b[A\n",
      " 52%|█████▏    | 1306/2495 [20:33<18:29,  1.07it/s]\u001b[A\n",
      " 52%|█████▏    | 1307/2495 [20:33<18:15,  1.08it/s]\u001b[A\n",
      " 52%|█████▏    | 1308/2495 [20:34<18:05,  1.09it/s]\u001b[A\n",
      " 52%|█████▏    | 1309/2495 [20:35<17:56,  1.10it/s]\u001b[A\n",
      " 53%|█████▎    | 1310/2495 [20:36<17:57,  1.10it/s]\u001b[A\n",
      " 53%|█████▎    | 1311/2495 [20:37<17:54,  1.10it/s]\u001b[A\n",
      " 53%|█████▎    | 1312/2495 [20:38<18:43,  1.05it/s]\u001b[A\n",
      " 53%|█████▎    | 1313/2495 [20:39<18:22,  1.07it/s]\u001b[A\n",
      " 53%|█████▎    | 1314/2495 [20:40<18:05,  1.09it/s]\u001b[A\n",
      " 53%|█████▎    | 1315/2495 [20:41<17:53,  1.10it/s]\u001b[A\n",
      " 53%|█████▎    | 1316/2495 [20:42<17:48,  1.10it/s]\u001b[A\n",
      " 53%|█████▎    | 1317/2495 [20:43<17:40,  1.11it/s]\u001b[A\n",
      " 53%|█████▎    | 1318/2495 [20:43<17:33,  1.12it/s]\u001b[A\n",
      " 53%|█████▎    | 1319/2495 [20:44<17:27,  1.12it/s]\u001b[A\n",
      " 53%|█████▎    | 1320/2495 [20:45<17:24,  1.13it/s]\u001b[A\n",
      " 53%|█████▎    | 1321/2495 [20:46<17:22,  1.13it/s]\u001b[A\n",
      " 53%|█████▎    | 1322/2495 [20:47<17:19,  1.13it/s]\u001b[A\n",
      " 53%|█████▎    | 1323/2495 [20:48<17:16,  1.13it/s]\u001b[A\n",
      " 53%|█████▎    | 1324/2495 [20:49<17:13,  1.13it/s]\u001b[A\n",
      " 53%|█████▎    | 1325/2495 [20:50<17:13,  1.13it/s]\u001b[A\n",
      " 53%|█████▎    | 1326/2495 [20:50<17:11,  1.13it/s]\u001b[A\n",
      " 53%|█████▎    | 1327/2495 [20:51<17:10,  1.13it/s]\u001b[A\n",
      " 53%|█████▎    | 1328/2495 [20:52<17:10,  1.13it/s]\u001b[A\n",
      " 53%|█████▎    | 1329/2495 [20:53<17:12,  1.13it/s]\u001b[A\n",
      " 53%|█████▎    | 1330/2495 [20:54<17:09,  1.13it/s]\u001b[A\n",
      " 53%|█████▎    | 1331/2495 [20:55<17:10,  1.13it/s]\u001b[A\n",
      " 53%|█████▎    | 1332/2495 [20:56<17:09,  1.13it/s]\u001b[A\n",
      " 53%|█████▎    | 1333/2495 [20:57<17:11,  1.13it/s]\u001b[A\n",
      " 53%|█████▎    | 1334/2495 [20:58<17:09,  1.13it/s]\u001b[A\n",
      " 54%|█████▎    | 1335/2495 [20:58<17:08,  1.13it/s]\u001b[A\n",
      " 54%|█████▎    | 1336/2495 [20:59<17:06,  1.13it/s]\u001b[A\n",
      " 54%|█████▎    | 1337/2495 [21:00<17:15,  1.12it/s]\u001b[A\n",
      " 54%|█████▎    | 1338/2495 [21:01<17:09,  1.12it/s]\u001b[A\n",
      " 54%|█████▎    | 1339/2495 [21:02<17:17,  1.11it/s]\u001b[A\n",
      " 54%|█████▎    | 1340/2495 [21:03<17:17,  1.11it/s]\u001b[A\n",
      " 54%|█████▎    | 1341/2495 [21:04<17:12,  1.12it/s]\u001b[A\n",
      " 54%|█████▍    | 1342/2495 [21:05<17:12,  1.12it/s]\u001b[A\n",
      " 54%|█████▍    | 1343/2495 [21:06<17:10,  1.12it/s]\u001b[A\n",
      " 54%|█████▍    | 1344/2495 [21:07<17:10,  1.12it/s]\u001b[A\n",
      " 54%|█████▍    | 1345/2495 [21:07<17:10,  1.12it/s]\u001b[A\n",
      " 54%|█████▍    | 1346/2495 [21:08<18:02,  1.06it/s]\u001b[A\n",
      " 54%|█████▍    | 1347/2495 [21:09<17:41,  1.08it/s]\u001b[A\n",
      " 54%|█████▍    | 1348/2495 [21:10<17:28,  1.09it/s]\u001b[A\n",
      " 54%|█████▍    | 1349/2495 [21:11<17:19,  1.10it/s]\u001b[A\n",
      " 54%|█████▍    | 1350/2495 [21:12<17:11,  1.11it/s]\u001b[A\n",
      " 54%|█████▍    | 1351/2495 [21:13<17:07,  1.11it/s]\u001b[A\n",
      " 54%|█████▍    | 1352/2495 [21:14<17:02,  1.12it/s]\u001b[A\n",
      " 54%|█████▍    | 1353/2495 [21:15<17:07,  1.11it/s]\u001b[A\n",
      " 54%|█████▍    | 1354/2495 [21:16<17:05,  1.11it/s]\u001b[A\n",
      " 54%|█████▍    | 1355/2495 [21:16<17:00,  1.12it/s]\u001b[A\n",
      " 54%|█████▍    | 1356/2495 [21:17<16:56,  1.12it/s]\u001b[A\n",
      " 54%|█████▍    | 1357/2495 [21:18<16:53,  1.12it/s]\u001b[A\n",
      " 54%|█████▍    | 1358/2495 [21:19<16:54,  1.12it/s]\u001b[A\n",
      " 54%|█████▍    | 1359/2495 [21:20<16:50,  1.12it/s]\u001b[A\n",
      " 55%|█████▍    | 1360/2495 [21:21<16:47,  1.13it/s]\u001b[A\n",
      " 55%|█████▍    | 1361/2495 [21:22<16:54,  1.12it/s]\u001b[A\n",
      " 55%|█████▍    | 1362/2495 [21:23<16:52,  1.12it/s]\u001b[A\n",
      " 55%|█████▍    | 1363/2495 [21:24<16:49,  1.12it/s]\u001b[A\n",
      " 55%|█████▍    | 1364/2495 [21:24<16:47,  1.12it/s]\u001b[A\n",
      " 55%|█████▍    | 1365/2495 [21:25<16:48,  1.12it/s]\u001b[A\n",
      " 55%|█████▍    | 1366/2495 [21:26<16:44,  1.12it/s]\u001b[A\n",
      " 55%|█████▍    | 1367/2495 [21:27<16:42,  1.13it/s]\u001b[A\n",
      " 55%|█████▍    | 1368/2495 [21:28<16:39,  1.13it/s]\u001b[A\n",
      " 55%|█████▍    | 1369/2495 [21:29<16:43,  1.12it/s]\u001b[A\n",
      " 55%|█████▍    | 1370/2495 [21:30<16:44,  1.12it/s]\u001b[A\n",
      " 55%|█████▍    | 1371/2495 [21:31<16:41,  1.12it/s]\u001b[A\n",
      " 55%|█████▍    | 1372/2495 [21:32<16:43,  1.12it/s]\u001b[A\n",
      " 55%|█████▌    | 1373/2495 [21:33<16:43,  1.12it/s]\u001b[A\n",
      " 55%|█████▌    | 1374/2495 [21:33<16:41,  1.12it/s]\u001b[A\n",
      " 55%|█████▌    | 1375/2495 [21:34<16:42,  1.12it/s]\u001b[A\n",
      " 55%|█████▌    | 1376/2495 [21:35<16:44,  1.11it/s]\u001b[A\n",
      " 55%|█████▌    | 1377/2495 [21:36<16:46,  1.11it/s]\u001b[A\n",
      " 55%|█████▌    | 1378/2495 [21:37<16:41,  1.12it/s]\u001b[A\n",
      " 55%|█████▌    | 1379/2495 [21:38<16:36,  1.12it/s]\u001b[A\n",
      " 55%|█████▌    | 1380/2495 [21:39<17:18,  1.07it/s]\u001b[A\n",
      " 55%|█████▌    | 1381/2495 [21:40<17:03,  1.09it/s]\u001b[A\n",
      " 55%|█████▌    | 1382/2495 [21:41<16:52,  1.10it/s]\u001b[A\n",
      " 55%|█████▌    | 1383/2495 [21:42<16:41,  1.11it/s]\u001b[A\n",
      " 55%|█████▌    | 1384/2495 [21:42<16:32,  1.12it/s]\u001b[A\n",
      " 56%|█████▌    | 1385/2495 [21:43<16:27,  1.12it/s]\u001b[A\n",
      " 56%|█████▌    | 1386/2495 [21:44<16:28,  1.12it/s]\u001b[A\n",
      " 56%|█████▌    | 1387/2495 [21:45<16:29,  1.12it/s]\u001b[A\n",
      " 56%|█████▌    | 1388/2495 [21:46<16:28,  1.12it/s]\u001b[A\n",
      " 56%|█████▌    | 1389/2495 [21:47<16:33,  1.11it/s]\u001b[A\n",
      " 56%|█████▌    | 1390/2495 [21:48<16:35,  1.11it/s]\u001b[A\n",
      " 56%|█████▌    | 1391/2495 [21:49<16:30,  1.11it/s]\u001b[A\n",
      " 56%|█████▌    | 1392/2495 [21:50<16:26,  1.12it/s]\u001b[A\n",
      " 56%|█████▌    | 1393/2495 [21:51<16:26,  1.12it/s]\u001b[A\n",
      " 56%|█████▌    | 1394/2495 [21:51<16:28,  1.11it/s]\u001b[A\n",
      " 56%|█████▌    | 1395/2495 [21:52<16:26,  1.11it/s]\u001b[A\n",
      " 56%|█████▌    | 1396/2495 [21:53<16:27,  1.11it/s]\u001b[A\n",
      " 56%|█████▌    | 1397/2495 [21:54<16:24,  1.12it/s]\u001b[A\n",
      " 56%|█████▌    | 1398/2495 [21:55<16:25,  1.11it/s]\u001b[A\n",
      " 56%|█████▌    | 1399/2495 [21:56<16:25,  1.11it/s]\u001b[A\n",
      " 56%|█████▌    | 1400/2495 [21:57<16:23,  1.11it/s]\u001b[A\n",
      " 56%|█████▌    | 1401/2495 [21:58<16:20,  1.12it/s]\u001b[A\n",
      " 56%|█████▌    | 1402/2495 [21:59<16:23,  1.11it/s]\u001b[A\n",
      " 56%|█████▌    | 1403/2495 [21:59<16:19,  1.11it/s]\u001b[A\n",
      " 56%|█████▋    | 1404/2495 [22:00<16:17,  1.12it/s]\u001b[A\n",
      " 56%|█████▋    | 1405/2495 [22:01<16:12,  1.12it/s]\u001b[A\n",
      " 56%|█████▋    | 1406/2495 [22:02<16:12,  1.12it/s]\u001b[A\n",
      " 56%|█████▋    | 1407/2495 [22:03<16:06,  1.13it/s]\u001b[A\n",
      " 56%|█████▋    | 1408/2495 [22:04<16:05,  1.13it/s]\u001b[A\n",
      " 56%|█████▋    | 1409/2495 [22:05<16:04,  1.13it/s]\u001b[A\n",
      " 57%|█████▋    | 1410/2495 [22:06<16:02,  1.13it/s]\u001b[A\n",
      " 57%|█████▋    | 1411/2495 [22:07<16:02,  1.13it/s]\u001b[A\n",
      " 57%|█████▋    | 1412/2495 [22:07<15:59,  1.13it/s]\u001b[A\n",
      " 57%|█████▋    | 1413/2495 [22:08<15:58,  1.13it/s]\u001b[A\n",
      " 57%|█████▋    | 1414/2495 [22:09<16:03,  1.12it/s]\u001b[A\n",
      " 57%|█████▋    | 1415/2495 [22:10<16:49,  1.07it/s]\u001b[A\n",
      " 57%|█████▋    | 1416/2495 [22:11<16:33,  1.09it/s]\u001b[A\n",
      " 57%|█████▋    | 1417/2495 [22:12<16:20,  1.10it/s]\u001b[A\n",
      " 57%|█████▋    | 1418/2495 [22:13<16:12,  1.11it/s]\u001b[A\n",
      " 57%|█████▋    | 1419/2495 [22:14<16:06,  1.11it/s]\u001b[A\n",
      " 57%|█████▋    | 1420/2495 [22:15<16:04,  1.12it/s]\u001b[A\n",
      " 57%|█████▋    | 1421/2495 [22:16<15:57,  1.12it/s]\u001b[A\n",
      " 57%|█████▋    | 1422/2495 [22:17<15:56,  1.12it/s]\u001b[A\n",
      " 57%|█████▋    | 1423/2495 [22:17<15:53,  1.12it/s]\u001b[A\n",
      " 57%|█████▋    | 1424/2495 [22:18<15:52,  1.12it/s]\u001b[A\n",
      " 57%|█████▋    | 1425/2495 [22:19<15:52,  1.12it/s]\u001b[A\n",
      " 57%|█████▋    | 1426/2495 [22:20<15:53,  1.12it/s]\u001b[A\n",
      " 57%|█████▋    | 1427/2495 [22:21<15:54,  1.12it/s]\u001b[A\n",
      " 57%|█████▋    | 1428/2495 [22:22<15:51,  1.12it/s]\u001b[A\n",
      " 57%|█████▋    | 1429/2495 [22:23<15:50,  1.12it/s]\u001b[A\n",
      " 57%|█████▋    | 1430/2495 [22:24<15:56,  1.11it/s]\u001b[A\n",
      " 57%|█████▋    | 1431/2495 [22:25<15:53,  1.12it/s]\u001b[A\n",
      " 57%|█████▋    | 1432/2495 [22:25<15:52,  1.12it/s]\u001b[A\n",
      " 57%|█████▋    | 1433/2495 [22:26<15:51,  1.12it/s]\u001b[A\n",
      " 57%|█████▋    | 1434/2495 [22:27<15:49,  1.12it/s]\u001b[A\n",
      " 58%|█████▊    | 1435/2495 [22:28<15:47,  1.12it/s]\u001b[A\n",
      " 58%|█████▊    | 1436/2495 [22:29<15:48,  1.12it/s]\u001b[A\n",
      " 58%|█████▊    | 1437/2495 [22:30<15:46,  1.12it/s]\u001b[A\n",
      " 58%|█████▊    | 1438/2495 [22:31<15:43,  1.12it/s]\u001b[A\n",
      " 58%|█████▊    | 1439/2495 [22:32<15:44,  1.12it/s]\u001b[A\n",
      " 58%|█████▊    | 1440/2495 [22:33<15:47,  1.11it/s]\u001b[A\n",
      " 58%|█████▊    | 1441/2495 [22:33<15:43,  1.12it/s]\u001b[A\n",
      " 58%|█████▊    | 1442/2495 [22:34<15:48,  1.11it/s]\u001b[A\n",
      " 58%|█████▊    | 1443/2495 [22:35<15:49,  1.11it/s]\u001b[A\n",
      " 58%|█████▊    | 1444/2495 [22:36<15:48,  1.11it/s]\u001b[A\n",
      " 58%|█████▊    | 1445/2495 [22:37<15:42,  1.11it/s]\u001b[A\n",
      " 58%|█████▊    | 1446/2495 [22:38<15:39,  1.12it/s]\u001b[A\n",
      " 58%|█████▊    | 1447/2495 [22:39<15:41,  1.11it/s]\u001b[A\n",
      " 58%|█████▊    | 1448/2495 [22:40<15:40,  1.11it/s]\u001b[A\n",
      " 58%|█████▊    | 1449/2495 [22:41<16:21,  1.07it/s]\u001b[A\n",
      " 58%|█████▊    | 1450/2495 [22:42<16:05,  1.08it/s]\u001b[A\n",
      " 58%|█████▊    | 1451/2495 [22:43<15:53,  1.09it/s]\u001b[A\n",
      " 58%|█████▊    | 1452/2495 [22:44<15:46,  1.10it/s]\u001b[A\n",
      " 58%|█████▊    | 1453/2495 [22:44<15:41,  1.11it/s]\u001b[A\n",
      " 58%|█████▊    | 1454/2495 [22:45<15:37,  1.11it/s]\u001b[A\n",
      " 58%|█████▊    | 1455/2495 [22:46<15:33,  1.11it/s]\u001b[A\n",
      " 58%|█████▊    | 1456/2495 [22:47<15:31,  1.12it/s]\u001b[A\n",
      " 58%|█████▊    | 1457/2495 [22:48<15:30,  1.12it/s]\u001b[A\n",
      " 58%|█████▊    | 1458/2495 [22:49<15:28,  1.12it/s]\u001b[A\n",
      " 58%|█████▊    | 1459/2495 [22:50<15:24,  1.12it/s]\u001b[A\n",
      " 59%|█████▊    | 1460/2495 [22:51<15:24,  1.12it/s]\u001b[A\n",
      " 59%|█████▊    | 1461/2495 [22:52<15:24,  1.12it/s]\u001b[A\n",
      " 59%|█████▊    | 1462/2495 [22:52<15:20,  1.12it/s]\u001b[A\n",
      " 59%|█████▊    | 1463/2495 [22:53<15:22,  1.12it/s]\u001b[A\n",
      " 59%|█████▊    | 1464/2495 [22:54<15:22,  1.12it/s]\u001b[A\n",
      " 59%|█████▊    | 1465/2495 [22:55<15:23,  1.12it/s]\u001b[A\n",
      " 59%|█████▉    | 1466/2495 [22:56<15:22,  1.12it/s]\u001b[A\n",
      " 59%|█████▉    | 1467/2495 [22:57<15:20,  1.12it/s]\u001b[A\n",
      " 59%|█████▉    | 1468/2495 [22:58<15:22,  1.11it/s]\u001b[A\n",
      " 59%|█████▉    | 1469/2495 [22:59<15:19,  1.12it/s]\u001b[A\n",
      " 59%|█████▉    | 1470/2495 [23:00<15:22,  1.11it/s]\u001b[A\n",
      " 59%|█████▉    | 1471/2495 [23:01<15:18,  1.11it/s]\u001b[A\n",
      " 59%|█████▉    | 1472/2495 [23:01<15:18,  1.11it/s]\u001b[A\n",
      " 59%|█████▉    | 1473/2495 [23:02<15:23,  1.11it/s]\u001b[A\n",
      " 59%|█████▉    | 1474/2495 [23:03<15:18,  1.11it/s]\u001b[A\n",
      " 59%|█████▉    | 1475/2495 [23:04<15:15,  1.11it/s]\u001b[A\n",
      " 59%|█████▉    | 1476/2495 [23:05<15:14,  1.11it/s]\u001b[A\n",
      " 59%|█████▉    | 1477/2495 [23:06<15:15,  1.11it/s]\u001b[A\n",
      " 59%|█████▉    | 1478/2495 [23:07<15:12,  1.11it/s]\u001b[A\n",
      " 59%|█████▉    | 1479/2495 [23:08<15:12,  1.11it/s]\u001b[A\n",
      " 59%|█████▉    | 1480/2495 [23:09<15:11,  1.11it/s]\u001b[A\n",
      " 59%|█████▉    | 1481/2495 [23:09<15:09,  1.12it/s]\u001b[A\n",
      " 59%|█████▉    | 1482/2495 [23:10<15:07,  1.12it/s]\u001b[A\n",
      " 59%|█████▉    | 1483/2495 [23:11<15:08,  1.11it/s]\u001b[A\n",
      " 59%|█████▉    | 1484/2495 [23:12<15:11,  1.11it/s]\u001b[A\n",
      " 60%|█████▉    | 1485/2495 [23:13<15:53,  1.06it/s]\u001b[A\n",
      " 60%|█████▉    | 1486/2495 [23:14<15:37,  1.08it/s]\u001b[A\n",
      " 60%|█████▉    | 1487/2495 [23:15<15:25,  1.09it/s]\u001b[A\n",
      " 60%|█████▉    | 1488/2495 [23:16<15:17,  1.10it/s]\u001b[A\n",
      " 60%|█████▉    | 1489/2495 [23:17<15:11,  1.10it/s]\u001b[A\n",
      " 60%|█████▉    | 1490/2495 [23:18<15:07,  1.11it/s]\u001b[A\n",
      " 60%|█████▉    | 1491/2495 [23:19<15:17,  1.09it/s]\u001b[A\n",
      " 60%|█████▉    | 1492/2495 [23:20<15:15,  1.10it/s]\u001b[A\n",
      " 60%|█████▉    | 1493/2495 [23:20<15:08,  1.10it/s]\u001b[A\n",
      " 60%|█████▉    | 1494/2495 [23:21<15:03,  1.11it/s]\u001b[A\n",
      " 60%|█████▉    | 1495/2495 [23:22<15:00,  1.11it/s]\u001b[A\n",
      " 60%|█████▉    | 1496/2495 [23:23<14:55,  1.12it/s]\u001b[A\n",
      " 60%|██████    | 1497/2495 [23:24<15:02,  1.11it/s]\u001b[A\n",
      " 60%|██████    | 1498/2495 [23:25<14:57,  1.11it/s]\u001b[A\n",
      " 60%|██████    | 1499/2495 [23:26<14:52,  1.12it/s]\u001b[A\n",
      " 60%|██████    | 1500/2495 [23:27<16:51,  1.02s/it]\u001b[A\n",
      " 60%|██████    | 1501/2495 [23:28<17:34,  1.06s/it]\u001b[A\n"
     ]
    },
    {
     "name": "stderr",
     "output_type": "stream",
     "text": [
      " 60%|██████    | 1502/2495 [23:29<16:49,  1.02s/it]\u001b[A\n",
      " 60%|██████    | 1503/2495 [23:30<16:20,  1.01it/s]\u001b[A\n",
      " 60%|██████    | 1504/2495 [23:31<16:04,  1.03it/s]\u001b[A\n",
      " 60%|██████    | 1505/2495 [23:32<15:49,  1.04it/s]\u001b[A\n",
      " 60%|██████    | 1506/2495 [23:33<15:40,  1.05it/s]\u001b[A\n",
      " 60%|██████    | 1507/2495 [23:34<15:30,  1.06it/s]\u001b[A\n",
      " 60%|██████    | 1508/2495 [23:35<15:22,  1.07it/s]\u001b[A\n",
      " 60%|██████    | 1509/2495 [23:36<15:15,  1.08it/s]\u001b[A\n",
      " 61%|██████    | 1510/2495 [23:37<15:06,  1.09it/s]\u001b[A\n",
      " 61%|██████    | 1511/2495 [23:37<15:01,  1.09it/s]\u001b[A\n",
      " 61%|██████    | 1512/2495 [23:38<14:59,  1.09it/s]\u001b[A\n",
      " 61%|██████    | 1513/2495 [23:39<15:01,  1.09it/s]\u001b[A\n",
      " 61%|██████    | 1514/2495 [23:40<14:57,  1.09it/s]\u001b[A\n",
      " 61%|██████    | 1515/2495 [23:41<15:10,  1.08it/s]\u001b[A\n",
      " 61%|██████    | 1516/2495 [23:42<15:08,  1.08it/s]\u001b[A\n",
      " 61%|██████    | 1517/2495 [23:43<15:11,  1.07it/s]\u001b[A\n",
      " 61%|██████    | 1518/2495 [23:44<15:08,  1.07it/s]\u001b[A\n",
      " 61%|██████    | 1519/2495 [23:45<15:49,  1.03it/s]\u001b[A\n",
      " 61%|██████    | 1520/2495 [23:46<15:31,  1.05it/s]\u001b[A\n",
      " 61%|██████    | 1521/2495 [23:47<15:14,  1.07it/s]\u001b[A\n",
      " 61%|██████    | 1522/2495 [23:48<15:01,  1.08it/s]\u001b[A\n",
      " 61%|██████    | 1523/2495 [23:49<14:53,  1.09it/s]\u001b[A\n",
      " 61%|██████    | 1524/2495 [23:50<14:49,  1.09it/s]\u001b[A\n",
      " 61%|██████    | 1525/2495 [23:50<14:45,  1.10it/s]\u001b[A\n",
      " 61%|██████    | 1526/2495 [23:51<14:42,  1.10it/s]\u001b[A\n",
      " 61%|██████    | 1527/2495 [23:52<14:40,  1.10it/s]\u001b[A\n",
      " 61%|██████    | 1528/2495 [23:53<14:36,  1.10it/s]\u001b[A\n",
      " 61%|██████▏   | 1529/2495 [23:54<14:35,  1.10it/s]\u001b[A\n",
      " 61%|██████▏   | 1530/2495 [23:55<14:39,  1.10it/s]\u001b[A\n",
      " 61%|██████▏   | 1531/2495 [23:56<14:39,  1.10it/s]\u001b[A\n",
      " 61%|██████▏   | 1532/2495 [23:57<14:45,  1.09it/s]\u001b[A\n",
      " 61%|██████▏   | 1533/2495 [23:58<14:47,  1.08it/s]\u001b[A\n",
      " 61%|██████▏   | 1534/2495 [23:59<14:44,  1.09it/s]\u001b[A\n",
      " 62%|██████▏   | 1535/2495 [24:00<14:40,  1.09it/s]\u001b[A\n",
      " 62%|██████▏   | 1536/2495 [24:01<14:38,  1.09it/s]\u001b[A\n",
      " 62%|██████▏   | 1537/2495 [24:01<14:38,  1.09it/s]\u001b[A\n",
      " 62%|██████▏   | 1538/2495 [24:02<14:39,  1.09it/s]\u001b[A\n",
      " 62%|██████▏   | 1539/2495 [24:03<14:34,  1.09it/s]\u001b[A\n",
      " 62%|██████▏   | 1540/2495 [24:04<14:30,  1.10it/s]\u001b[A\n",
      " 62%|██████▏   | 1541/2495 [24:05<14:30,  1.10it/s]\u001b[A\n",
      " 62%|██████▏   | 1542/2495 [24:06<14:30,  1.09it/s]\u001b[A\n",
      " 62%|██████▏   | 1543/2495 [24:07<14:31,  1.09it/s]\u001b[A\n",
      " 62%|██████▏   | 1544/2495 [24:08<14:27,  1.10it/s]\u001b[A\n",
      " 62%|██████▏   | 1545/2495 [24:09<14:28,  1.09it/s]\u001b[A\n",
      " 62%|██████▏   | 1546/2495 [24:10<14:28,  1.09it/s]\u001b[A\n",
      " 62%|██████▏   | 1547/2495 [24:11<14:29,  1.09it/s]\u001b[A\n",
      " 62%|██████▏   | 1548/2495 [24:12<14:25,  1.09it/s]\u001b[A\n",
      " 62%|██████▏   | 1549/2495 [24:12<14:23,  1.10it/s]\u001b[A\n",
      " 62%|██████▏   | 1550/2495 [24:13<14:26,  1.09it/s]\u001b[A\n",
      " 62%|██████▏   | 1551/2495 [24:14<14:24,  1.09it/s]\u001b[A\n",
      " 62%|██████▏   | 1552/2495 [24:15<14:25,  1.09it/s]\u001b[A\n",
      " 62%|██████▏   | 1553/2495 [24:16<14:26,  1.09it/s]\u001b[A\n",
      " 62%|██████▏   | 1554/2495 [24:17<14:26,  1.09it/s]\u001b[A\n",
      " 62%|██████▏   | 1555/2495 [24:18<15:05,  1.04it/s]\u001b[A\n",
      " 62%|██████▏   | 1556/2495 [24:19<14:53,  1.05it/s]\u001b[A\n",
      " 62%|██████▏   | 1557/2495 [24:20<14:44,  1.06it/s]\u001b[A\n",
      " 62%|██████▏   | 1558/2495 [24:21<14:44,  1.06it/s]\u001b[A\n",
      " 62%|██████▏   | 1559/2495 [24:22<14:36,  1.07it/s]\u001b[A\n",
      " 63%|██████▎   | 1560/2495 [24:23<14:29,  1.08it/s]\u001b[A\n",
      " 63%|██████▎   | 1561/2495 [24:24<14:23,  1.08it/s]\u001b[A\n",
      " 63%|██████▎   | 1562/2495 [24:25<14:26,  1.08it/s]\u001b[A\n",
      " 63%|██████▎   | 1563/2495 [24:25<14:22,  1.08it/s]\u001b[A\n",
      " 63%|██████▎   | 1564/2495 [24:26<14:18,  1.08it/s]\u001b[A\n",
      " 63%|██████▎   | 1565/2495 [24:27<14:11,  1.09it/s]\u001b[A\n",
      " 63%|██████▎   | 1566/2495 [24:28<14:07,  1.10it/s]\u001b[A\n",
      " 63%|██████▎   | 1567/2495 [24:29<14:07,  1.10it/s]\u001b[A\n",
      " 63%|██████▎   | 1568/2495 [24:30<14:07,  1.09it/s]\u001b[A\n",
      " 63%|██████▎   | 1569/2495 [24:31<14:05,  1.09it/s]\u001b[A\n",
      " 63%|██████▎   | 1570/2495 [24:32<14:04,  1.10it/s]\u001b[A\n",
      " 63%|██████▎   | 1571/2495 [24:33<14:05,  1.09it/s]\u001b[A\n",
      " 63%|██████▎   | 1572/2495 [24:34<14:04,  1.09it/s]\u001b[A\n",
      " 63%|██████▎   | 1573/2495 [24:35<14:03,  1.09it/s]\u001b[A\n",
      " 63%|██████▎   | 1574/2495 [24:36<14:02,  1.09it/s]\u001b[A\n",
      " 63%|██████▎   | 1575/2495 [24:36<14:02,  1.09it/s]\u001b[A\n",
      " 63%|██████▎   | 1576/2495 [24:37<14:01,  1.09it/s]\u001b[A\n",
      " 63%|██████▎   | 1577/2495 [24:38<13:56,  1.10it/s]\u001b[A\n",
      " 63%|██████▎   | 1578/2495 [24:39<13:50,  1.10it/s]\u001b[A\n",
      " 63%|██████▎   | 1579/2495 [24:40<13:47,  1.11it/s]\u001b[A\n",
      " 63%|██████▎   | 1580/2495 [24:41<13:45,  1.11it/s]\u001b[A\n",
      " 63%|██████▎   | 1581/2495 [24:42<13:42,  1.11it/s]\u001b[A\n",
      " 63%|██████▎   | 1582/2495 [24:43<13:41,  1.11it/s]\u001b[A\n",
      " 63%|██████▎   | 1583/2495 [24:44<13:43,  1.11it/s]\u001b[A\n",
      " 63%|██████▎   | 1584/2495 [24:45<13:39,  1.11it/s]\u001b[A\n",
      " 64%|██████▎   | 1585/2495 [24:45<13:36,  1.11it/s]\u001b[A\n",
      " 64%|██████▎   | 1586/2495 [24:46<13:35,  1.12it/s]\u001b[A\n",
      " 64%|██████▎   | 1587/2495 [24:47<13:33,  1.12it/s]\u001b[A\n",
      " 64%|██████▎   | 1588/2495 [24:48<13:33,  1.11it/s]\u001b[A\n",
      " 64%|██████▎   | 1589/2495 [24:49<13:34,  1.11it/s]\u001b[A\n",
      " 64%|██████▎   | 1590/2495 [24:50<14:13,  1.06it/s]\u001b[A\n",
      " 64%|██████▍   | 1591/2495 [24:51<14:03,  1.07it/s]\u001b[A\n",
      " 64%|██████▍   | 1592/2495 [24:52<13:53,  1.08it/s]\u001b[A\n",
      " 64%|██████▍   | 1593/2495 [24:53<13:56,  1.08it/s]\u001b[A\n",
      " 64%|██████▍   | 1594/2495 [24:54<13:49,  1.09it/s]\u001b[A\n",
      " 64%|██████▍   | 1595/2495 [24:55<13:45,  1.09it/s]\u001b[A\n",
      " 64%|██████▍   | 1596/2495 [24:56<13:49,  1.08it/s]\u001b[A\n",
      " 64%|██████▍   | 1597/2495 [24:56<13:46,  1.09it/s]\u001b[A\n",
      " 64%|██████▍   | 1598/2495 [24:57<13:42,  1.09it/s]\u001b[A\n",
      " 64%|██████▍   | 1599/2495 [24:58<13:40,  1.09it/s]\u001b[A\n",
      " 64%|██████▍   | 1600/2495 [24:59<13:40,  1.09it/s]\u001b[A\n",
      " 64%|██████▍   | 1601/2495 [25:00<13:37,  1.09it/s]\u001b[A\n",
      " 64%|██████▍   | 1602/2495 [25:01<13:30,  1.10it/s]\u001b[A\n",
      " 64%|██████▍   | 1603/2495 [25:02<13:25,  1.11it/s]\u001b[A\n",
      " 64%|██████▍   | 1604/2495 [25:03<13:26,  1.10it/s]\u001b[A\n",
      " 64%|██████▍   | 1605/2495 [25:04<13:21,  1.11it/s]\u001b[A\n",
      " 64%|██████▍   | 1606/2495 [25:05<13:18,  1.11it/s]\u001b[A\n",
      " 64%|██████▍   | 1607/2495 [25:06<13:19,  1.11it/s]\u001b[A\n",
      " 64%|██████▍   | 1608/2495 [25:06<13:18,  1.11it/s]\u001b[A\n",
      " 64%|██████▍   | 1609/2495 [25:07<13:17,  1.11it/s]\u001b[A\n",
      " 65%|██████▍   | 1610/2495 [25:08<13:16,  1.11it/s]\u001b[A\n",
      " 65%|██████▍   | 1611/2495 [25:09<13:12,  1.11it/s]\u001b[A\n",
      " 65%|██████▍   | 1612/2495 [25:10<13:14,  1.11it/s]\u001b[A\n",
      " 65%|██████▍   | 1613/2495 [25:11<13:13,  1.11it/s]\u001b[A\n",
      " 65%|██████▍   | 1614/2495 [25:12<13:13,  1.11it/s]\u001b[A\n",
      " 65%|██████▍   | 1615/2495 [25:13<13:15,  1.11it/s]\u001b[A\n",
      " 65%|██████▍   | 1616/2495 [25:14<13:16,  1.10it/s]\u001b[A\n",
      " 65%|██████▍   | 1617/2495 [25:15<13:14,  1.11it/s]\u001b[A\n",
      " 65%|██████▍   | 1618/2495 [25:15<13:11,  1.11it/s]\u001b[A\n",
      " 65%|██████▍   | 1619/2495 [25:16<13:10,  1.11it/s]\u001b[A\n",
      " 65%|██████▍   | 1620/2495 [25:17<13:11,  1.11it/s]\u001b[A\n",
      " 65%|██████▍   | 1621/2495 [25:18<13:12,  1.10it/s]\u001b[A\n",
      " 65%|██████▌   | 1622/2495 [25:19<13:18,  1.09it/s]\u001b[A\n",
      " 65%|██████▌   | 1623/2495 [25:20<13:15,  1.10it/s]\u001b[A\n",
      " 65%|██████▌   | 1624/2495 [25:21<13:14,  1.10it/s]\u001b[A\n",
      " 65%|██████▌   | 1625/2495 [25:22<13:53,  1.04it/s]\u001b[A\n",
      " 65%|██████▌   | 1626/2495 [25:23<13:36,  1.06it/s]\u001b[A\n",
      " 65%|██████▌   | 1627/2495 [25:24<13:23,  1.08it/s]\u001b[A\n",
      " 65%|██████▌   | 1628/2495 [25:25<13:16,  1.09it/s]\u001b[A\n",
      " 65%|██████▌   | 1629/2495 [25:26<13:11,  1.09it/s]\u001b[A\n",
      " 65%|██████▌   | 1630/2495 [25:26<13:07,  1.10it/s]\u001b[A\n",
      " 65%|██████▌   | 1631/2495 [25:27<13:09,  1.09it/s]\u001b[A\n",
      " 65%|██████▌   | 1632/2495 [25:29<14:04,  1.02it/s]\u001b[A\n",
      " 65%|██████▌   | 1633/2495 [25:29<13:41,  1.05it/s]\u001b[A\n",
      " 65%|██████▌   | 1634/2495 [25:30<13:25,  1.07it/s]\u001b[A\n",
      " 66%|██████▌   | 1635/2495 [25:31<13:16,  1.08it/s]\u001b[A\n",
      " 66%|██████▌   | 1636/2495 [25:32<13:09,  1.09it/s]\u001b[A\n",
      " 66%|██████▌   | 1637/2495 [25:33<13:02,  1.10it/s]\u001b[A\n",
      " 66%|██████▌   | 1638/2495 [25:34<13:01,  1.10it/s]\u001b[A\n",
      " 66%|██████▌   | 1639/2495 [25:35<12:53,  1.11it/s]\u001b[A\n",
      " 66%|██████▌   | 1640/2495 [25:36<12:48,  1.11it/s]\u001b[A\n",
      " 66%|██████▌   | 1641/2495 [25:37<12:45,  1.12it/s]\u001b[A\n",
      " 66%|██████▌   | 1642/2495 [25:37<12:44,  1.12it/s]\u001b[A\n",
      " 66%|██████▌   | 1643/2495 [25:38<12:40,  1.12it/s]\u001b[A\n",
      " 66%|██████▌   | 1644/2495 [25:39<12:40,  1.12it/s]\u001b[A\n",
      " 66%|██████▌   | 1645/2495 [25:40<12:43,  1.11it/s]\u001b[A\n",
      " 66%|██████▌   | 1646/2495 [25:41<12:43,  1.11it/s]\u001b[A\n",
      " 66%|██████▌   | 1647/2495 [25:42<12:37,  1.12it/s]\u001b[A\n",
      " 66%|██████▌   | 1648/2495 [25:43<12:34,  1.12it/s]\u001b[A\n",
      " 66%|██████▌   | 1649/2495 [25:44<12:38,  1.12it/s]\u001b[A\n",
      " 66%|██████▌   | 1650/2495 [25:45<12:33,  1.12it/s]\u001b[A\n",
      " 66%|██████▌   | 1651/2495 [25:46<12:34,  1.12it/s]\u001b[A\n",
      " 66%|██████▌   | 1652/2495 [25:46<12:31,  1.12it/s]\u001b[A\n",
      " 66%|██████▋   | 1653/2495 [25:47<12:31,  1.12it/s]\u001b[A\n",
      " 66%|██████▋   | 1654/2495 [25:48<12:28,  1.12it/s]\u001b[A\n",
      " 66%|██████▋   | 1655/2495 [25:49<12:23,  1.13it/s]\u001b[A\n",
      " 66%|██████▋   | 1656/2495 [25:50<12:21,  1.13it/s]\u001b[A\n",
      " 66%|██████▋   | 1657/2495 [25:51<12:21,  1.13it/s]\u001b[A\n",
      " 66%|██████▋   | 1658/2495 [25:52<12:18,  1.13it/s]\u001b[A\n",
      " 66%|██████▋   | 1659/2495 [25:53<12:17,  1.13it/s]\u001b[A\n",
      " 67%|██████▋   | 1660/2495 [25:54<12:52,  1.08it/s]\u001b[A\n",
      " 67%|██████▋   | 1661/2495 [25:55<12:43,  1.09it/s]\u001b[A\n",
      " 67%|██████▋   | 1662/2495 [25:55<12:31,  1.11it/s]\u001b[A\n",
      " 67%|██████▋   | 1663/2495 [25:56<12:27,  1.11it/s]\u001b[A\n",
      " 67%|██████▋   | 1664/2495 [25:57<12:26,  1.11it/s]\u001b[A\n",
      " 67%|██████▋   | 1665/2495 [25:58<12:22,  1.12it/s]\u001b[A\n",
      " 67%|██████▋   | 1666/2495 [25:59<12:21,  1.12it/s]\u001b[A\n",
      " 67%|██████▋   | 1667/2495 [26:00<12:18,  1.12it/s]\u001b[A\n",
      " 67%|██████▋   | 1668/2495 [26:01<12:15,  1.12it/s]\u001b[A\n",
      " 67%|██████▋   | 1669/2495 [26:02<12:14,  1.12it/s]\u001b[A\n",
      " 67%|██████▋   | 1670/2495 [26:03<12:14,  1.12it/s]\u001b[A\n",
      " 67%|██████▋   | 1671/2495 [26:03<12:11,  1.13it/s]\u001b[A\n",
      " 67%|██████▋   | 1672/2495 [26:04<12:14,  1.12it/s]\u001b[A\n",
      " 67%|██████▋   | 1673/2495 [26:05<12:11,  1.12it/s]\u001b[A\n",
      " 67%|██████▋   | 1674/2495 [26:06<12:10,  1.12it/s]\u001b[A\n",
      " 67%|██████▋   | 1675/2495 [26:07<12:10,  1.12it/s]\u001b[A\n",
      " 67%|██████▋   | 1676/2495 [26:08<12:07,  1.13it/s]\u001b[A\n",
      " 67%|██████▋   | 1677/2495 [26:09<12:08,  1.12it/s]\u001b[A\n",
      " 67%|██████▋   | 1678/2495 [26:10<12:07,  1.12it/s]\u001b[A\n",
      " 67%|██████▋   | 1679/2495 [26:11<12:04,  1.13it/s]\u001b[A\n",
      " 67%|██████▋   | 1680/2495 [26:11<12:03,  1.13it/s]\u001b[A\n",
      " 67%|██████▋   | 1681/2495 [26:12<12:01,  1.13it/s]\u001b[A\n",
      " 67%|██████▋   | 1682/2495 [26:13<12:03,  1.12it/s]\u001b[A\n",
      " 67%|██████▋   | 1683/2495 [26:14<12:02,  1.12it/s]\u001b[A\n",
      " 67%|██████▋   | 1684/2495 [26:15<12:00,  1.13it/s]\u001b[A\n",
      " 68%|██████▊   | 1685/2495 [26:16<12:00,  1.12it/s]\u001b[A\n",
      " 68%|██████▊   | 1686/2495 [26:17<12:01,  1.12it/s]\u001b[A\n",
      " 68%|██████▊   | 1687/2495 [26:18<11:58,  1.12it/s]\u001b[A\n",
      " 68%|██████▊   | 1688/2495 [26:19<11:57,  1.12it/s]\u001b[A\n",
      " 68%|██████▊   | 1689/2495 [26:19<11:56,  1.12it/s]\u001b[A\n",
      " 68%|██████▊   | 1690/2495 [26:20<11:57,  1.12it/s]\u001b[A\n",
      " 68%|██████▊   | 1691/2495 [26:21<11:54,  1.13it/s]\u001b[A\n",
      " 68%|██████▊   | 1692/2495 [26:22<11:53,  1.13it/s]\u001b[A\n",
      " 68%|██████▊   | 1693/2495 [26:23<11:52,  1.13it/s]\u001b[A\n",
      " 68%|██████▊   | 1694/2495 [26:24<11:58,  1.12it/s]\u001b[A\n",
      " 68%|██████▊   | 1695/2495 [26:25<12:35,  1.06it/s]\u001b[A\n",
      " 68%|██████▊   | 1696/2495 [26:26<12:26,  1.07it/s]\u001b[A\n",
      " 68%|██████▊   | 1697/2495 [26:27<12:20,  1.08it/s]\u001b[A\n",
      " 68%|██████▊   | 1698/2495 [26:28<12:11,  1.09it/s]\u001b[A\n",
      " 68%|██████▊   | 1699/2495 [26:29<12:09,  1.09it/s]\u001b[A\n",
      " 68%|██████▊   | 1700/2495 [26:29<12:03,  1.10it/s]\u001b[A\n",
      " 68%|██████▊   | 1701/2495 [26:30<12:05,  1.09it/s]\u001b[A\n",
      " 68%|██████▊   | 1702/2495 [26:31<11:59,  1.10it/s]\u001b[A\n",
      " 68%|██████▊   | 1703/2495 [26:32<11:55,  1.11it/s]\u001b[A\n",
      " 68%|██████▊   | 1704/2495 [26:33<11:50,  1.11it/s]\u001b[A\n",
      " 68%|██████▊   | 1705/2495 [26:34<11:48,  1.12it/s]\u001b[A\n",
      " 68%|██████▊   | 1706/2495 [26:35<11:45,  1.12it/s]\u001b[A\n",
      " 68%|██████▊   | 1707/2495 [26:36<11:43,  1.12it/s]\u001b[A\n",
      " 68%|██████▊   | 1708/2495 [26:37<11:43,  1.12it/s]\u001b[A\n",
      " 68%|██████▊   | 1709/2495 [26:38<11:42,  1.12it/s]\u001b[A\n",
      " 69%|██████▊   | 1710/2495 [26:38<11:43,  1.12it/s]\u001b[A\n",
      " 69%|██████▊   | 1711/2495 [26:39<11:43,  1.11it/s]\u001b[A\n",
      " 69%|██████▊   | 1712/2495 [26:40<11:44,  1.11it/s]\u001b[A\n",
      " 69%|██████▊   | 1713/2495 [26:41<11:42,  1.11it/s]\u001b[A\n",
      " 69%|██████▊   | 1714/2495 [26:42<11:41,  1.11it/s]\u001b[A\n",
      " 69%|██████▊   | 1715/2495 [26:43<11:43,  1.11it/s]\u001b[A\n",
      " 69%|██████▉   | 1716/2495 [26:44<11:41,  1.11it/s]\u001b[A\n",
      " 69%|██████▉   | 1717/2495 [26:45<11:39,  1.11it/s]\u001b[A\n",
      " 69%|██████▉   | 1718/2495 [26:46<11:38,  1.11it/s]\u001b[A\n",
      " 69%|██████▉   | 1719/2495 [26:47<11:39,  1.11it/s]\u001b[A\n",
      " 69%|██████▉   | 1720/2495 [26:47<11:37,  1.11it/s]\u001b[A\n",
      " 69%|██████▉   | 1721/2495 [26:48<11:32,  1.12it/s]\u001b[A\n",
      " 69%|██████▉   | 1722/2495 [26:49<11:34,  1.11it/s]\u001b[A\n",
      " 69%|██████▉   | 1723/2495 [26:50<11:34,  1.11it/s]\u001b[A\n",
      " 69%|██████▉   | 1724/2495 [26:51<11:34,  1.11it/s]\u001b[A\n",
      " 69%|██████▉   | 1725/2495 [26:52<11:29,  1.12it/s]\u001b[A\n",
      " 69%|██████▉   | 1726/2495 [26:53<11:34,  1.11it/s]\u001b[A\n",
      " 69%|██████▉   | 1727/2495 [26:54<11:34,  1.11it/s]\u001b[A\n",
      " 69%|██████▉   | 1728/2495 [26:55<11:41,  1.09it/s]\u001b[A\n",
      " 69%|██████▉   | 1729/2495 [26:56<11:37,  1.10it/s]\u001b[A\n",
      " 69%|██████▉   | 1730/2495 [26:57<12:06,  1.05it/s]\u001b[A\n",
      " 69%|██████▉   | 1731/2495 [26:58<11:56,  1.07it/s]\u001b[A\n",
      " 69%|██████▉   | 1732/2495 [26:58<11:45,  1.08it/s]\u001b[A\n",
      " 69%|██████▉   | 1733/2495 [26:59<11:34,  1.10it/s]\u001b[A\n",
      " 69%|██████▉   | 1734/2495 [27:00<11:30,  1.10it/s]\u001b[A\n",
      " 70%|██████▉   | 1735/2495 [27:01<11:26,  1.11it/s]\u001b[A\n",
      " 70%|██████▉   | 1736/2495 [27:02<11:24,  1.11it/s]\u001b[A\n",
      " 70%|██████▉   | 1737/2495 [27:03<11:18,  1.12it/s]\u001b[A\n",
      " 70%|██████▉   | 1738/2495 [27:04<11:14,  1.12it/s]\u001b[A\n",
      " 70%|██████▉   | 1739/2495 [27:05<11:12,  1.12it/s]\u001b[A\n",
      " 70%|██████▉   | 1740/2495 [27:06<11:16,  1.12it/s]\u001b[A\n",
      " 70%|██████▉   | 1741/2495 [27:06<11:18,  1.11it/s]\u001b[A\n",
      " 70%|██████▉   | 1742/2495 [27:07<11:19,  1.11it/s]\u001b[A\n",
      " 70%|██████▉   | 1743/2495 [27:08<11:20,  1.11it/s]\u001b[A\n",
      " 70%|██████▉   | 1744/2495 [27:09<11:30,  1.09it/s]\u001b[A\n",
      " 70%|██████▉   | 1745/2495 [27:10<12:21,  1.01it/s]\u001b[A\n",
      " 70%|██████▉   | 1746/2495 [27:11<12:21,  1.01it/s]\u001b[A\n",
      " 70%|███████   | 1747/2495 [27:12<12:24,  1.00it/s]\u001b[A\n",
      " 70%|███████   | 1748/2495 [27:13<12:18,  1.01it/s]\u001b[A\n",
      " 70%|███████   | 1749/2495 [27:14<11:57,  1.04it/s]\u001b[A\n",
      " 70%|███████   | 1750/2495 [27:15<12:33,  1.01s/it]\u001b[A\n",
      " 70%|███████   | 1751/2495 [27:16<12:12,  1.02it/s]\u001b[A\n",
      " 70%|███████   | 1752/2495 [27:17<11:56,  1.04it/s]\u001b[A\n",
      " 70%|███████   | 1753/2495 [27:18<11:41,  1.06it/s]\u001b[A\n",
      " 70%|███████   | 1754/2495 [27:19<11:32,  1.07it/s]\u001b[A\n",
      " 70%|███████   | 1755/2495 [27:20<11:20,  1.09it/s]\u001b[A\n",
      " 70%|███████   | 1756/2495 [27:21<11:13,  1.10it/s]\u001b[A\n",
      " 70%|███████   | 1757/2495 [27:22<11:08,  1.10it/s]\u001b[A\n",
      " 70%|███████   | 1758/2495 [27:23<11:05,  1.11it/s]\u001b[A\n",
      " 71%|███████   | 1759/2495 [27:23<11:02,  1.11it/s]\u001b[A\n",
      " 71%|███████   | 1760/2495 [27:24<10:59,  1.12it/s]\u001b[A\n",
      " 71%|███████   | 1761/2495 [27:25<10:56,  1.12it/s]\u001b[A\n",
      " 71%|███████   | 1762/2495 [27:26<10:52,  1.12it/s]\u001b[A\n",
      " 71%|███████   | 1763/2495 [27:27<10:50,  1.13it/s]\u001b[A\n",
      " 71%|███████   | 1764/2495 [27:28<10:50,  1.12it/s]\u001b[A\n",
      " 71%|███████   | 1765/2495 [27:29<11:20,  1.07it/s]\u001b[A\n",
      " 71%|███████   | 1766/2495 [27:30<11:09,  1.09it/s]\u001b[A\n",
      " 71%|███████   | 1767/2495 [27:31<11:02,  1.10it/s]\u001b[A\n",
      " 71%|███████   | 1768/2495 [27:32<10:56,  1.11it/s]\u001b[A\n",
      " 71%|███████   | 1769/2495 [27:33<10:53,  1.11it/s]\u001b[A\n",
      " 71%|███████   | 1770/2495 [27:33<10:50,  1.11it/s]\u001b[A\n",
      " 71%|███████   | 1771/2495 [27:34<10:48,  1.12it/s]\u001b[A\n",
      " 71%|███████   | 1772/2495 [27:35<10:46,  1.12it/s]\u001b[A\n",
      " 71%|███████   | 1773/2495 [27:36<10:44,  1.12it/s]\u001b[A\n",
      " 71%|███████   | 1774/2495 [27:37<10:42,  1.12it/s]\u001b[A\n",
      " 71%|███████   | 1775/2495 [27:38<10:40,  1.12it/s]\u001b[A\n",
      " 71%|███████   | 1776/2495 [27:39<10:39,  1.12it/s]\u001b[A\n",
      " 71%|███████   | 1777/2495 [27:40<10:40,  1.12it/s]\u001b[A\n",
      " 71%|███████▏  | 1778/2495 [27:41<10:39,  1.12it/s]\u001b[A\n",
      " 71%|███████▏  | 1779/2495 [27:41<10:40,  1.12it/s]\u001b[A\n",
      " 71%|███████▏  | 1780/2495 [27:42<10:40,  1.12it/s]\u001b[A\n",
      " 71%|███████▏  | 1781/2495 [27:43<10:37,  1.12it/s]\u001b[A\n",
      " 71%|███████▏  | 1782/2495 [27:44<10:33,  1.13it/s]\u001b[A\n",
      " 71%|███████▏  | 1783/2495 [27:45<10:29,  1.13it/s]\u001b[A\n",
      " 72%|███████▏  | 1784/2495 [27:46<10:26,  1.13it/s]\u001b[A\n",
      " 72%|███████▏  | 1785/2495 [27:47<10:29,  1.13it/s]\u001b[A\n",
      " 72%|███████▏  | 1786/2495 [27:48<10:25,  1.13it/s]\u001b[A\n",
      " 72%|███████▏  | 1787/2495 [27:48<10:28,  1.13it/s]\u001b[A\n",
      " 72%|███████▏  | 1788/2495 [27:49<10:29,  1.12it/s]\u001b[A\n",
      " 72%|███████▏  | 1789/2495 [27:50<10:27,  1.12it/s]\u001b[A\n",
      " 72%|███████▏  | 1790/2495 [27:51<10:25,  1.13it/s]\u001b[A\n",
      " 72%|███████▏  | 1791/2495 [27:52<10:24,  1.13it/s]\u001b[A\n",
      " 72%|███████▏  | 1792/2495 [27:53<10:24,  1.13it/s]\u001b[A\n",
      " 72%|███████▏  | 1793/2495 [27:54<10:20,  1.13it/s]\u001b[A\n",
      " 72%|███████▏  | 1794/2495 [27:55<10:17,  1.14it/s]\u001b[A\n",
      " 72%|███████▏  | 1795/2495 [27:56<10:13,  1.14it/s]\u001b[A\n",
      " 72%|███████▏  | 1796/2495 [27:56<10:11,  1.14it/s]\u001b[A\n",
      " 72%|███████▏  | 1797/2495 [27:57<10:11,  1.14it/s]\u001b[A\n"
     ]
    },
    {
     "name": "stderr",
     "output_type": "stream",
     "text": [
      " 72%|███████▏  | 1798/2495 [27:58<10:11,  1.14it/s]\u001b[A\n",
      " 72%|███████▏  | 1799/2495 [27:59<10:07,  1.15it/s]\u001b[A\n",
      " 72%|███████▏  | 1800/2495 [28:00<10:35,  1.09it/s]\u001b[A\n",
      " 72%|███████▏  | 1801/2495 [28:01<10:30,  1.10it/s]\u001b[A\n",
      " 72%|███████▏  | 1802/2495 [28:02<10:24,  1.11it/s]\u001b[A\n",
      " 72%|███████▏  | 1803/2495 [28:03<10:19,  1.12it/s]\u001b[A\n",
      " 72%|███████▏  | 1804/2495 [28:04<10:17,  1.12it/s]\u001b[A\n",
      " 72%|███████▏  | 1805/2495 [28:05<10:16,  1.12it/s]\u001b[A\n",
      " 72%|███████▏  | 1806/2495 [28:05<10:14,  1.12it/s]\u001b[A\n",
      " 72%|███████▏  | 1807/2495 [28:06<10:12,  1.12it/s]\u001b[A\n",
      " 72%|███████▏  | 1808/2495 [28:07<10:13,  1.12it/s]\u001b[A\n",
      " 73%|███████▎  | 1809/2495 [28:08<10:09,  1.13it/s]\u001b[A\n",
      " 73%|███████▎  | 1810/2495 [28:09<10:07,  1.13it/s]\u001b[A\n",
      " 73%|███████▎  | 1811/2495 [28:10<10:05,  1.13it/s]\u001b[A\n",
      " 73%|███████▎  | 1812/2495 [28:11<10:03,  1.13it/s]\u001b[A\n",
      " 73%|███████▎  | 1813/2495 [28:12<10:06,  1.12it/s]\u001b[A\n",
      " 73%|███████▎  | 1814/2495 [28:13<11:15,  1.01it/s]\u001b[A\n",
      " 73%|███████▎  | 1815/2495 [28:14<11:27,  1.01s/it]\u001b[A\n",
      " 73%|███████▎  | 1816/2495 [28:15<11:05,  1.02it/s]\u001b[A\n",
      " 73%|███████▎  | 1817/2495 [28:16<10:53,  1.04it/s]\u001b[A\n",
      " 73%|███████▎  | 1818/2495 [28:17<10:40,  1.06it/s]\u001b[A\n",
      " 73%|███████▎  | 1819/2495 [28:18<10:28,  1.08it/s]\u001b[A\n",
      " 73%|███████▎  | 1820/2495 [28:18<10:22,  1.09it/s]\u001b[A\n",
      " 73%|███████▎  | 1821/2495 [28:19<10:21,  1.08it/s]\u001b[A\n",
      " 73%|███████▎  | 1822/2495 [28:20<10:18,  1.09it/s]\u001b[A\n",
      " 73%|███████▎  | 1823/2495 [28:21<10:14,  1.09it/s]\u001b[A\n",
      " 73%|███████▎  | 1824/2495 [28:22<10:09,  1.10it/s]\u001b[A\n",
      " 73%|███████▎  | 1825/2495 [28:23<10:09,  1.10it/s]\u001b[A\n",
      " 73%|███████▎  | 1826/2495 [28:24<10:08,  1.10it/s]\u001b[A\n",
      " 73%|███████▎  | 1827/2495 [28:25<10:06,  1.10it/s]\u001b[A\n",
      " 73%|███████▎  | 1828/2495 [28:26<10:02,  1.11it/s]\u001b[A\n",
      " 73%|███████▎  | 1829/2495 [28:27<10:04,  1.10it/s]\u001b[A\n",
      " 73%|███████▎  | 1830/2495 [28:28<10:05,  1.10it/s]\u001b[A\n",
      " 73%|███████▎  | 1831/2495 [28:28<10:04,  1.10it/s]\u001b[A\n",
      " 73%|███████▎  | 1832/2495 [28:29<10:02,  1.10it/s]\u001b[A\n",
      " 73%|███████▎  | 1833/2495 [28:30<10:02,  1.10it/s]\u001b[A\n",
      " 74%|███████▎  | 1834/2495 [28:31<10:01,  1.10it/s]\u001b[A\n",
      " 74%|███████▎  | 1835/2495 [28:32<10:29,  1.05it/s]\u001b[A\n",
      " 74%|███████▎  | 1836/2495 [28:33<10:16,  1.07it/s]\u001b[A\n",
      " 74%|███████▎  | 1837/2495 [28:34<10:11,  1.08it/s]\u001b[A\n",
      " 74%|███████▎  | 1838/2495 [28:35<10:07,  1.08it/s]\u001b[A\n",
      " 74%|███████▎  | 1839/2495 [28:36<10:02,  1.09it/s]\u001b[A\n",
      " 74%|███████▎  | 1840/2495 [28:37<10:00,  1.09it/s]\u001b[A\n",
      " 74%|███████▍  | 1841/2495 [28:38<09:58,  1.09it/s]\u001b[A\n",
      " 74%|███████▍  | 1842/2495 [28:39<09:55,  1.10it/s]\u001b[A\n",
      " 74%|███████▍  | 1843/2495 [28:39<09:55,  1.10it/s]\u001b[A\n",
      " 74%|███████▍  | 1844/2495 [28:40<09:52,  1.10it/s]\u001b[A\n",
      " 74%|███████▍  | 1845/2495 [28:41<09:51,  1.10it/s]\u001b[A\n",
      " 74%|███████▍  | 1846/2495 [28:42<09:52,  1.10it/s]\u001b[A\n",
      " 74%|███████▍  | 1847/2495 [28:43<09:54,  1.09it/s]\u001b[A\n",
      " 74%|███████▍  | 1848/2495 [28:44<09:53,  1.09it/s]\u001b[A\n",
      " 74%|███████▍  | 1849/2495 [28:45<09:52,  1.09it/s]\u001b[A\n",
      " 74%|███████▍  | 1850/2495 [28:46<09:52,  1.09it/s]\u001b[A\n",
      " 74%|███████▍  | 1851/2495 [28:47<09:51,  1.09it/s]\u001b[A\n",
      " 74%|███████▍  | 1852/2495 [28:48<09:56,  1.08it/s]\u001b[A\n",
      " 74%|███████▍  | 1853/2495 [28:49<09:52,  1.08it/s]\u001b[A\n",
      " 74%|███████▍  | 1854/2495 [28:50<09:49,  1.09it/s]\u001b[A\n",
      " 74%|███████▍  | 1855/2495 [28:50<09:47,  1.09it/s]\u001b[A\n",
      " 74%|███████▍  | 1856/2495 [28:51<09:50,  1.08it/s]\u001b[A\n",
      " 74%|███████▍  | 1857/2495 [28:52<09:46,  1.09it/s]\u001b[A\n",
      " 74%|███████▍  | 1858/2495 [28:53<09:44,  1.09it/s]\u001b[A\n",
      " 75%|███████▍  | 1859/2495 [28:54<09:41,  1.09it/s]\u001b[A\n",
      " 75%|███████▍  | 1860/2495 [28:55<09:39,  1.10it/s]\u001b[A\n",
      " 75%|███████▍  | 1861/2495 [28:56<09:38,  1.10it/s]\u001b[A\n",
      " 75%|███████▍  | 1862/2495 [28:57<09:38,  1.09it/s]\u001b[A\n",
      " 75%|███████▍  | 1863/2495 [28:58<09:39,  1.09it/s]\u001b[A\n",
      " 75%|███████▍  | 1864/2495 [28:59<09:37,  1.09it/s]\u001b[A\n",
      " 75%|███████▍  | 1865/2495 [29:00<09:38,  1.09it/s]\u001b[A\n",
      " 75%|███████▍  | 1866/2495 [29:01<09:37,  1.09it/s]\u001b[A\n",
      " 75%|███████▍  | 1867/2495 [29:01<09:37,  1.09it/s]\u001b[A\n",
      " 75%|███████▍  | 1868/2495 [29:02<09:34,  1.09it/s]\u001b[A\n",
      " 75%|███████▍  | 1869/2495 [29:03<09:33,  1.09it/s]\u001b[A\n",
      " 75%|███████▍  | 1870/2495 [29:04<09:59,  1.04it/s]\u001b[A\n",
      " 75%|███████▍  | 1871/2495 [29:05<09:58,  1.04it/s]\u001b[A\n",
      " 75%|███████▌  | 1872/2495 [29:06<09:57,  1.04it/s]\u001b[A\n",
      " 75%|███████▌  | 1873/2495 [29:07<09:55,  1.04it/s]\u001b[A\n",
      " 75%|███████▌  | 1874/2495 [29:08<09:53,  1.05it/s]\u001b[A\n",
      " 75%|███████▌  | 1875/2495 [29:09<09:50,  1.05it/s]\u001b[A\n",
      " 75%|███████▌  | 1876/2495 [29:10<09:43,  1.06it/s]\u001b[A\n",
      " 75%|███████▌  | 1877/2495 [29:11<09:35,  1.07it/s]\u001b[A\n",
      " 75%|███████▌  | 1878/2495 [29:12<09:40,  1.06it/s]\u001b[A\n",
      " 75%|███████▌  | 1879/2495 [29:13<09:41,  1.06it/s]\u001b[A\n",
      " 75%|███████▌  | 1880/2495 [29:14<09:42,  1.06it/s]\u001b[A\n",
      " 75%|███████▌  | 1881/2495 [29:15<09:57,  1.03it/s]\u001b[A\n",
      " 75%|███████▌  | 1882/2495 [29:16<09:52,  1.03it/s]\u001b[A\n",
      " 75%|███████▌  | 1883/2495 [29:17<09:49,  1.04it/s]\u001b[A\n",
      " 76%|███████▌  | 1884/2495 [29:18<09:46,  1.04it/s]\u001b[A\n",
      " 76%|███████▌  | 1885/2495 [29:19<09:47,  1.04it/s]\u001b[A\n",
      " 76%|███████▌  | 1886/2495 [29:20<09:42,  1.05it/s]\u001b[A\n",
      " 76%|███████▌  | 1887/2495 [29:21<09:39,  1.05it/s]\u001b[A\n",
      " 76%|███████▌  | 1888/2495 [29:22<09:44,  1.04it/s]\u001b[A\n",
      " 76%|███████▌  | 1889/2495 [29:23<09:39,  1.05it/s]\u001b[A\n",
      " 76%|███████▌  | 1890/2495 [29:23<09:33,  1.05it/s]\u001b[A\n",
      " 76%|███████▌  | 1891/2495 [29:24<09:31,  1.06it/s]\u001b[A\n",
      " 76%|███████▌  | 1892/2495 [29:25<09:30,  1.06it/s]\u001b[A\n",
      " 76%|███████▌  | 1893/2495 [29:26<09:28,  1.06it/s]\u001b[A\n",
      " 76%|███████▌  | 1894/2495 [29:27<09:25,  1.06it/s]\u001b[A\n",
      " 76%|███████▌  | 1895/2495 [29:28<09:23,  1.06it/s]\u001b[A\n",
      " 76%|███████▌  | 1896/2495 [29:29<09:23,  1.06it/s]\u001b[A\n",
      " 76%|███████▌  | 1897/2495 [29:30<09:14,  1.08it/s]\u001b[A\n",
      " 76%|███████▌  | 1898/2495 [29:31<09:07,  1.09it/s]\u001b[A\n",
      " 76%|███████▌  | 1899/2495 [29:32<10:02,  1.01s/it]\u001b[A\n",
      " 76%|███████▌  | 1900/2495 [29:33<09:51,  1.01it/s]\u001b[A\n",
      " 76%|███████▌  | 1901/2495 [29:34<09:32,  1.04it/s]\u001b[A\n",
      " 76%|███████▌  | 1902/2495 [29:35<09:22,  1.06it/s]\u001b[A\n",
      " 76%|███████▋  | 1903/2495 [29:36<09:11,  1.07it/s]\u001b[A\n",
      " 76%|███████▋  | 1904/2495 [29:37<09:06,  1.08it/s]\u001b[A\n",
      " 76%|███████▋  | 1905/2495 [29:38<09:04,  1.08it/s]\u001b[A\n",
      " 76%|███████▋  | 1906/2495 [29:39<09:29,  1.03it/s]\u001b[A\n",
      " 76%|███████▋  | 1907/2495 [29:40<09:19,  1.05it/s]\u001b[A\n",
      " 76%|███████▋  | 1908/2495 [29:40<09:08,  1.07it/s]\u001b[A\n",
      " 77%|███████▋  | 1909/2495 [29:41<09:00,  1.08it/s]\u001b[A\n",
      " 77%|███████▋  | 1910/2495 [29:42<08:55,  1.09it/s]\u001b[A\n",
      " 77%|███████▋  | 1911/2495 [29:43<08:53,  1.09it/s]\u001b[A\n",
      " 77%|███████▋  | 1912/2495 [29:44<09:29,  1.02it/s]\u001b[A\n",
      " 77%|███████▋  | 1913/2495 [29:45<09:15,  1.05it/s]\u001b[A\n",
      " 77%|███████▋  | 1914/2495 [29:46<09:04,  1.07it/s]\u001b[A\n",
      " 77%|███████▋  | 1915/2495 [29:47<08:57,  1.08it/s]\u001b[A\n",
      " 77%|███████▋  | 1916/2495 [29:48<08:55,  1.08it/s]\u001b[A\n",
      " 77%|███████▋  | 1917/2495 [29:49<08:51,  1.09it/s]\u001b[A\n",
      " 77%|███████▋  | 1918/2495 [29:50<08:50,  1.09it/s]\u001b[A\n",
      " 77%|███████▋  | 1919/2495 [29:51<08:45,  1.10it/s]\u001b[A\n",
      " 77%|███████▋  | 1920/2495 [29:52<08:40,  1.11it/s]\u001b[A\n",
      " 77%|███████▋  | 1921/2495 [29:52<08:36,  1.11it/s]\u001b[A\n",
      " 77%|███████▋  | 1922/2495 [29:53<08:32,  1.12it/s]\u001b[A\n",
      " 77%|███████▋  | 1923/2495 [29:54<08:30,  1.12it/s]\u001b[A\n",
      " 77%|███████▋  | 1924/2495 [29:55<08:27,  1.12it/s]\u001b[A\n",
      " 77%|███████▋  | 1925/2495 [29:56<08:26,  1.12it/s]\u001b[A\n",
      " 77%|███████▋  | 1926/2495 [29:57<08:27,  1.12it/s]\u001b[A\n",
      " 77%|███████▋  | 1927/2495 [29:58<08:25,  1.12it/s]\u001b[A\n",
      " 77%|███████▋  | 1928/2495 [29:59<08:23,  1.13it/s]\u001b[A\n",
      " 77%|███████▋  | 1929/2495 [30:00<08:24,  1.12it/s]\u001b[A\n",
      " 77%|███████▋  | 1930/2495 [30:01<08:58,  1.05it/s]\u001b[A\n",
      " 77%|███████▋  | 1931/2495 [30:02<08:49,  1.07it/s]\u001b[A\n",
      " 77%|███████▋  | 1932/2495 [30:02<08:37,  1.09it/s]\u001b[A\n",
      " 77%|███████▋  | 1933/2495 [30:03<08:38,  1.08it/s]\u001b[A\n",
      " 78%|███████▊  | 1934/2495 [30:04<08:34,  1.09it/s]\u001b[A\n",
      " 78%|███████▊  | 1935/2495 [30:05<08:32,  1.09it/s]\u001b[A\n",
      " 78%|███████▊  | 1936/2495 [30:06<08:31,  1.09it/s]\u001b[A\n",
      " 78%|███████▊  | 1937/2495 [30:07<08:26,  1.10it/s]\u001b[A\n",
      " 78%|███████▊  | 1938/2495 [30:08<08:21,  1.11it/s]\u001b[A\n",
      " 78%|███████▊  | 1939/2495 [30:09<08:20,  1.11it/s]\u001b[A\n",
      " 78%|███████▊  | 1940/2495 [30:10<08:18,  1.11it/s]\u001b[A\n",
      " 78%|███████▊  | 1941/2495 [30:11<08:18,  1.11it/s]\u001b[A\n",
      " 78%|███████▊  | 1942/2495 [30:12<08:40,  1.06it/s]\u001b[A\n",
      " 78%|███████▊  | 1943/2495 [30:12<08:31,  1.08it/s]\u001b[A\n",
      " 78%|███████▊  | 1944/2495 [30:13<08:25,  1.09it/s]\u001b[A\n",
      " 78%|███████▊  | 1945/2495 [30:14<08:19,  1.10it/s]\u001b[A\n",
      " 78%|███████▊  | 1946/2495 [30:15<08:14,  1.11it/s]\u001b[A\n",
      " 78%|███████▊  | 1947/2495 [30:16<08:10,  1.12it/s]\u001b[A\n",
      " 78%|███████▊  | 1948/2495 [30:17<08:09,  1.12it/s]\u001b[A\n",
      " 78%|███████▊  | 1949/2495 [30:18<08:19,  1.09it/s]\u001b[A\n",
      " 78%|███████▊  | 1950/2495 [30:19<08:13,  1.10it/s]\u001b[A\n",
      " 78%|███████▊  | 1951/2495 [30:20<08:10,  1.11it/s]\u001b[A\n",
      " 78%|███████▊  | 1952/2495 [30:21<08:07,  1.11it/s]\u001b[A\n",
      " 78%|███████▊  | 1953/2495 [30:21<08:05,  1.12it/s]\u001b[A\n",
      " 78%|███████▊  | 1954/2495 [30:22<08:04,  1.12it/s]\u001b[A\n",
      " 78%|███████▊  | 1955/2495 [30:23<08:02,  1.12it/s]\u001b[A\n",
      " 78%|███████▊  | 1956/2495 [30:24<08:00,  1.12it/s]\u001b[A\n",
      " 78%|███████▊  | 1957/2495 [30:25<08:02,  1.11it/s]\u001b[A\n",
      " 78%|███████▊  | 1958/2495 [30:26<08:01,  1.12it/s]\u001b[A\n",
      " 79%|███████▊  | 1959/2495 [30:27<07:58,  1.12it/s]\u001b[A\n",
      " 79%|███████▊  | 1960/2495 [30:28<07:56,  1.12it/s]\u001b[A\n",
      " 79%|███████▊  | 1961/2495 [30:29<07:56,  1.12it/s]\u001b[A\n",
      " 79%|███████▊  | 1962/2495 [30:29<07:59,  1.11it/s]\u001b[A\n",
      " 79%|███████▊  | 1963/2495 [30:30<07:58,  1.11it/s]\u001b[A\n",
      " 79%|███████▊  | 1964/2495 [30:31<07:56,  1.11it/s]\u001b[A\n",
      " 79%|███████▉  | 1965/2495 [30:32<07:54,  1.12it/s]\u001b[A\n",
      " 79%|███████▉  | 1966/2495 [30:33<07:54,  1.11it/s]\u001b[A\n",
      " 79%|███████▉  | 1967/2495 [30:34<07:53,  1.12it/s]\u001b[A\n",
      " 79%|███████▉  | 1968/2495 [30:35<07:51,  1.12it/s]\u001b[A\n",
      " 79%|███████▉  | 1969/2495 [30:36<07:51,  1.12it/s]\u001b[A\n",
      " 79%|███████▉  | 1970/2495 [30:37<07:51,  1.11it/s]\u001b[A\n",
      " 79%|███████▉  | 1971/2495 [30:38<07:51,  1.11it/s]\u001b[A\n",
      " 79%|███████▉  | 1972/2495 [30:38<07:49,  1.11it/s]\u001b[A\n",
      " 79%|███████▉  | 1973/2495 [30:39<07:44,  1.12it/s]\u001b[A\n",
      " 79%|███████▉  | 1974/2495 [30:40<07:43,  1.13it/s]\u001b[A\n",
      " 79%|███████▉  | 1975/2495 [30:41<07:40,  1.13it/s]\u001b[A\n",
      " 79%|███████▉  | 1976/2495 [30:42<07:39,  1.13it/s]\u001b[A\n",
      " 79%|███████▉  | 1977/2495 [30:43<08:00,  1.08it/s]\u001b[A\n",
      " 79%|███████▉  | 1978/2495 [30:44<07:53,  1.09it/s]\u001b[A\n",
      " 79%|███████▉  | 1979/2495 [30:45<07:48,  1.10it/s]\u001b[A\n",
      " 79%|███████▉  | 1980/2495 [30:46<07:43,  1.11it/s]\u001b[A\n",
      " 79%|███████▉  | 1981/2495 [30:47<07:40,  1.12it/s]\u001b[A\n",
      " 79%|███████▉  | 1982/2495 [30:47<07:38,  1.12it/s]\u001b[A\n",
      " 79%|███████▉  | 1983/2495 [30:48<07:37,  1.12it/s]\u001b[A\n",
      " 80%|███████▉  | 1984/2495 [30:49<07:35,  1.12it/s]\u001b[A\n",
      " 80%|███████▉  | 1985/2495 [30:50<07:33,  1.12it/s]\u001b[A\n",
      " 80%|███████▉  | 1986/2495 [30:51<07:33,  1.12it/s]\u001b[A\n",
      " 80%|███████▉  | 1987/2495 [30:52<07:32,  1.12it/s]\u001b[A\n",
      " 80%|███████▉  | 1988/2495 [30:53<07:30,  1.12it/s]\u001b[A\n",
      " 80%|███████▉  | 1989/2495 [30:54<07:30,  1.12it/s]\u001b[A\n",
      " 80%|███████▉  | 1990/2495 [30:55<07:27,  1.13it/s]\u001b[A\n",
      " 80%|███████▉  | 1991/2495 [30:55<07:26,  1.13it/s]\u001b[A\n",
      " 80%|███████▉  | 1992/2495 [30:56<07:25,  1.13it/s]\u001b[A\n",
      " 80%|███████▉  | 1993/2495 [30:57<07:22,  1.13it/s]\u001b[A\n",
      " 80%|███████▉  | 1994/2495 [30:58<07:25,  1.12it/s]\u001b[A\n",
      " 80%|███████▉  | 1995/2495 [30:59<07:24,  1.13it/s]\u001b[A\n",
      " 80%|████████  | 1996/2495 [31:00<07:22,  1.13it/s]\u001b[A\n",
      " 80%|████████  | 1997/2495 [31:01<07:23,  1.12it/s]\u001b[A\n",
      " 80%|████████  | 1998/2495 [31:02<07:21,  1.13it/s]\u001b[A\n",
      " 80%|████████  | 1999/2495 [31:03<07:20,  1.13it/s]\u001b[A\n",
      " 80%|████████  | 2000/2495 [31:03<07:18,  1.13it/s]\u001b[A\n",
      " 80%|████████  | 2001/2495 [31:04<07:17,  1.13it/s]\u001b[A\n",
      " 80%|████████  | 2002/2495 [31:05<07:16,  1.13it/s]\u001b[A\n",
      " 80%|████████  | 2003/2495 [31:06<07:15,  1.13it/s]\u001b[A\n",
      " 80%|████████  | 2004/2495 [31:07<07:14,  1.13it/s]\u001b[A\n",
      " 80%|████████  | 2005/2495 [31:08<07:13,  1.13it/s]\u001b[A\n",
      " 80%|████████  | 2006/2495 [31:09<07:10,  1.14it/s]\u001b[A\n",
      " 80%|████████  | 2007/2495 [31:10<07:08,  1.14it/s]\u001b[A\n",
      " 80%|████████  | 2008/2495 [31:10<07:07,  1.14it/s]\u001b[A\n",
      " 81%|████████  | 2009/2495 [31:11<07:04,  1.14it/s]\u001b[A\n",
      " 81%|████████  | 2010/2495 [31:12<07:04,  1.14it/s]\u001b[A\n",
      " 81%|████████  | 2011/2495 [31:13<07:05,  1.14it/s]\u001b[A\n",
      " 81%|████████  | 2012/2495 [31:14<07:06,  1.13it/s]\u001b[A\n",
      " 81%|████████  | 2013/2495 [31:15<07:27,  1.08it/s]\u001b[A\n",
      " 81%|████████  | 2014/2495 [31:16<07:21,  1.09it/s]\u001b[A\n",
      " 81%|████████  | 2015/2495 [31:17<07:17,  1.10it/s]\u001b[A\n",
      " 81%|████████  | 2016/2495 [31:18<07:12,  1.11it/s]\u001b[A\n",
      " 81%|████████  | 2017/2495 [31:19<07:08,  1.11it/s]\u001b[A\n",
      " 81%|████████  | 2018/2495 [31:19<07:05,  1.12it/s]\u001b[A\n",
      " 81%|████████  | 2019/2495 [31:20<07:03,  1.13it/s]\u001b[A\n",
      " 81%|████████  | 2020/2495 [31:21<07:02,  1.13it/s]\u001b[A\n",
      " 81%|████████  | 2021/2495 [31:22<07:01,  1.12it/s]\u001b[A\n",
      " 81%|████████  | 2022/2495 [31:23<07:01,  1.12it/s]\u001b[A\n",
      " 81%|████████  | 2023/2495 [31:24<07:00,  1.12it/s]\u001b[A\n",
      " 81%|████████  | 2024/2495 [31:25<07:00,  1.12it/s]\u001b[A\n",
      " 81%|████████  | 2025/2495 [31:26<06:59,  1.12it/s]\u001b[A\n",
      " 81%|████████  | 2026/2495 [31:27<06:57,  1.12it/s]\u001b[A\n",
      " 81%|████████  | 2027/2495 [31:27<06:56,  1.12it/s]\u001b[A\n",
      " 81%|████████▏ | 2028/2495 [31:28<06:55,  1.12it/s]\u001b[A\n",
      " 81%|████████▏ | 2029/2495 [31:29<06:53,  1.13it/s]\u001b[A\n",
      " 81%|████████▏ | 2030/2495 [31:30<06:50,  1.13it/s]\u001b[A\n",
      " 81%|████████▏ | 2031/2495 [31:31<06:52,  1.12it/s]\u001b[A\n",
      " 81%|████████▏ | 2032/2495 [31:32<06:51,  1.13it/s]\u001b[A\n",
      " 81%|████████▏ | 2033/2495 [31:33<06:50,  1.13it/s]\u001b[A\n",
      " 82%|████████▏ | 2034/2495 [31:34<06:47,  1.13it/s]\u001b[A\n",
      " 82%|████████▏ | 2035/2495 [31:35<06:51,  1.12it/s]\u001b[A\n",
      " 82%|████████▏ | 2036/2495 [31:35<06:50,  1.12it/s]\u001b[A\n",
      " 82%|████████▏ | 2037/2495 [31:36<06:48,  1.12it/s]\u001b[A\n",
      " 82%|████████▏ | 2038/2495 [31:37<06:46,  1.12it/s]\u001b[A\n",
      " 82%|████████▏ | 2039/2495 [31:38<06:46,  1.12it/s]\u001b[A\n",
      " 82%|████████▏ | 2040/2495 [31:39<06:53,  1.10it/s]\u001b[A\n",
      " 82%|████████▏ | 2041/2495 [31:40<06:48,  1.11it/s]\u001b[A\n",
      " 82%|████████▏ | 2042/2495 [31:41<06:46,  1.12it/s]\u001b[A\n",
      " 82%|████████▏ | 2043/2495 [31:42<06:42,  1.12it/s]\u001b[A\n",
      " 82%|████████▏ | 2044/2495 [31:43<06:41,  1.12it/s]\u001b[A\n",
      " 82%|████████▏ | 2045/2495 [31:44<06:40,  1.12it/s]\u001b[A\n",
      " 82%|████████▏ | 2046/2495 [31:44<06:39,  1.13it/s]\u001b[A\n",
      " 82%|████████▏ | 2047/2495 [31:45<06:38,  1.12it/s]\u001b[A\n",
      " 82%|████████▏ | 2048/2495 [31:46<06:41,  1.11it/s]\u001b[A\n",
      " 82%|████████▏ | 2049/2495 [31:47<06:58,  1.07it/s]\u001b[A\n",
      " 82%|████████▏ | 2050/2495 [31:48<06:50,  1.08it/s]\u001b[A\n",
      " 82%|████████▏ | 2051/2495 [31:49<06:45,  1.10it/s]\u001b[A\n",
      " 82%|████████▏ | 2052/2495 [31:50<06:39,  1.11it/s]\u001b[A\n",
      " 82%|████████▏ | 2053/2495 [31:51<07:02,  1.05it/s]\u001b[A\n",
      " 82%|████████▏ | 2054/2495 [31:52<07:19,  1.00it/s]\u001b[A\n",
      " 82%|████████▏ | 2055/2495 [31:53<07:07,  1.03it/s]\u001b[A\n",
      " 82%|████████▏ | 2056/2495 [31:54<06:56,  1.05it/s]\u001b[A\n",
      " 82%|████████▏ | 2057/2495 [31:55<06:50,  1.07it/s]\u001b[A\n",
      " 82%|████████▏ | 2058/2495 [31:56<06:41,  1.09it/s]\u001b[A\n",
      " 83%|████████▎ | 2059/2495 [31:57<06:38,  1.10it/s]\u001b[A\n",
      " 83%|████████▎ | 2060/2495 [31:57<06:32,  1.11it/s]\u001b[A\n",
      " 83%|████████▎ | 2061/2495 [31:58<06:31,  1.11it/s]\u001b[A\n",
      " 83%|████████▎ | 2062/2495 [31:59<06:28,  1.12it/s]\u001b[A\n",
      " 83%|████████▎ | 2063/2495 [32:00<06:24,  1.12it/s]\u001b[A\n",
      " 83%|████████▎ | 2064/2495 [32:01<06:21,  1.13it/s]\u001b[A\n",
      " 83%|████████▎ | 2065/2495 [32:02<06:22,  1.13it/s]\u001b[A\n",
      " 83%|████████▎ | 2066/2495 [32:03<06:20,  1.13it/s]\u001b[A\n",
      " 83%|████████▎ | 2067/2495 [32:04<06:20,  1.13it/s]\u001b[A\n",
      " 83%|████████▎ | 2068/2495 [32:05<06:19,  1.13it/s]\u001b[A\n",
      " 83%|████████▎ | 2069/2495 [32:05<06:19,  1.12it/s]\u001b[A\n",
      " 83%|████████▎ | 2070/2495 [32:06<06:20,  1.12it/s]\u001b[A\n",
      " 83%|████████▎ | 2071/2495 [32:07<06:17,  1.12it/s]\u001b[A\n",
      " 83%|████████▎ | 2072/2495 [32:08<06:28,  1.09it/s]\u001b[A\n",
      " 83%|████████▎ | 2073/2495 [32:09<06:27,  1.09it/s]\u001b[A\n",
      " 83%|████████▎ | 2074/2495 [32:10<06:23,  1.10it/s]\u001b[A\n",
      " 83%|████████▎ | 2075/2495 [32:11<06:18,  1.11it/s]\u001b[A\n",
      " 83%|████████▎ | 2076/2495 [32:12<06:15,  1.12it/s]\u001b[A\n",
      " 83%|████████▎ | 2077/2495 [32:13<06:12,  1.12it/s]\u001b[A\n",
      " 83%|████████▎ | 2078/2495 [32:14<06:11,  1.12it/s]\u001b[A\n",
      " 83%|████████▎ | 2079/2495 [32:14<06:10,  1.12it/s]\u001b[A\n",
      " 83%|████████▎ | 2080/2495 [32:15<06:08,  1.13it/s]\u001b[A\n",
      " 83%|████████▎ | 2081/2495 [32:16<06:08,  1.12it/s]\u001b[A\n",
      " 83%|████████▎ | 2082/2495 [32:17<06:06,  1.13it/s]\u001b[A\n",
      " 83%|████████▎ | 2083/2495 [32:18<06:05,  1.13it/s]\u001b[A\n",
      " 84%|████████▎ | 2084/2495 [32:19<06:03,  1.13it/s]\u001b[A\n",
      " 84%|████████▎ | 2085/2495 [32:20<06:03,  1.13it/s]\u001b[A\n",
      " 84%|████████▎ | 2086/2495 [32:21<06:22,  1.07it/s]\u001b[A\n",
      " 84%|████████▎ | 2087/2495 [32:22<06:15,  1.09it/s]\u001b[A\n",
      " 84%|████████▎ | 2088/2495 [32:23<06:14,  1.09it/s]\u001b[A\n",
      " 84%|████████▎ | 2089/2495 [32:23<06:09,  1.10it/s]\u001b[A\n",
      " 84%|████████▍ | 2090/2495 [32:24<06:07,  1.10it/s]\u001b[A\n",
      " 84%|████████▍ | 2091/2495 [32:25<06:03,  1.11it/s]\u001b[A\n",
      " 84%|████████▍ | 2092/2495 [32:26<06:00,  1.12it/s]\u001b[A\n",
      " 84%|████████▍ | 2093/2495 [32:27<05:58,  1.12it/s]\u001b[A\n"
     ]
    },
    {
     "name": "stderr",
     "output_type": "stream",
     "text": [
      " 84%|████████▍ | 2094/2495 [32:28<05:57,  1.12it/s]\u001b[A\n",
      " 84%|████████▍ | 2095/2495 [32:29<05:55,  1.12it/s]\u001b[A\n",
      " 84%|████████▍ | 2096/2495 [32:30<05:54,  1.12it/s]\u001b[A\n",
      " 84%|████████▍ | 2097/2495 [32:31<05:55,  1.12it/s]\u001b[A\n",
      " 84%|████████▍ | 2098/2495 [32:31<05:54,  1.12it/s]\u001b[A\n",
      " 84%|████████▍ | 2099/2495 [32:32<05:53,  1.12it/s]\u001b[A\n",
      " 84%|████████▍ | 2100/2495 [32:33<05:50,  1.13it/s]\u001b[A\n",
      " 84%|████████▍ | 2101/2495 [32:34<05:47,  1.13it/s]\u001b[A\n",
      " 84%|████████▍ | 2102/2495 [32:35<05:47,  1.13it/s]\u001b[A\n",
      " 84%|████████▍ | 2103/2495 [32:36<05:45,  1.13it/s]\u001b[A\n",
      " 84%|████████▍ | 2104/2495 [32:37<05:44,  1.14it/s]\u001b[A\n",
      " 84%|████████▍ | 2105/2495 [32:38<05:42,  1.14it/s]\u001b[A\n",
      " 84%|████████▍ | 2106/2495 [32:39<05:42,  1.13it/s]\u001b[A\n",
      " 84%|████████▍ | 2107/2495 [32:39<05:42,  1.13it/s]\u001b[A\n",
      " 84%|████████▍ | 2108/2495 [32:40<05:40,  1.14it/s]\u001b[A\n",
      " 85%|████████▍ | 2109/2495 [32:41<05:40,  1.13it/s]\u001b[A\n",
      " 85%|████████▍ | 2110/2495 [32:42<05:41,  1.13it/s]\u001b[A\n",
      " 85%|████████▍ | 2111/2495 [32:43<05:42,  1.12it/s]\u001b[A\n",
      " 85%|████████▍ | 2112/2495 [32:44<05:39,  1.13it/s]\u001b[A\n",
      " 85%|████████▍ | 2113/2495 [32:45<05:37,  1.13it/s]\u001b[A\n",
      " 85%|████████▍ | 2114/2495 [32:46<05:36,  1.13it/s]\u001b[A\n",
      " 85%|████████▍ | 2115/2495 [32:47<05:46,  1.10it/s]\u001b[A\n",
      " 85%|████████▍ | 2116/2495 [32:48<05:57,  1.06it/s]\u001b[A\n",
      " 85%|████████▍ | 2117/2495 [32:49<06:01,  1.05it/s]\u001b[A\n",
      " 85%|████████▍ | 2118/2495 [32:50<06:00,  1.05it/s]\u001b[A\n",
      " 85%|████████▍ | 2119/2495 [32:50<05:51,  1.07it/s]\u001b[A\n",
      " 85%|████████▍ | 2120/2495 [32:51<05:42,  1.09it/s]\u001b[A\n",
      " 85%|████████▌ | 2121/2495 [32:52<05:37,  1.11it/s]\u001b[A\n",
      " 85%|████████▌ | 2122/2495 [32:53<05:34,  1.11it/s]\u001b[A\n",
      " 85%|████████▌ | 2123/2495 [32:54<05:49,  1.06it/s]\u001b[A\n",
      " 85%|████████▌ | 2124/2495 [32:55<05:41,  1.09it/s]\u001b[A\n",
      " 85%|████████▌ | 2125/2495 [32:56<05:36,  1.10it/s]\u001b[A\n",
      " 85%|████████▌ | 2126/2495 [32:57<05:32,  1.11it/s]\u001b[A\n",
      " 85%|████████▌ | 2127/2495 [32:58<05:29,  1.12it/s]\u001b[A\n",
      " 85%|████████▌ | 2128/2495 [32:59<05:26,  1.12it/s]\u001b[A\n",
      " 85%|████████▌ | 2129/2495 [32:59<05:23,  1.13it/s]\u001b[A\n",
      " 85%|████████▌ | 2130/2495 [33:00<05:21,  1.14it/s]\u001b[A\n",
      " 85%|████████▌ | 2131/2495 [33:01<05:20,  1.14it/s]\u001b[A\n",
      " 85%|████████▌ | 2132/2495 [33:02<05:19,  1.13it/s]\u001b[A\n",
      " 85%|████████▌ | 2133/2495 [33:03<05:19,  1.13it/s]\u001b[A\n",
      " 86%|████████▌ | 2134/2495 [33:04<05:17,  1.14it/s]\u001b[A\n",
      " 86%|████████▌ | 2135/2495 [33:05<05:17,  1.13it/s]\u001b[A\n",
      " 86%|████████▌ | 2136/2495 [33:06<05:17,  1.13it/s]\u001b[A\n",
      " 86%|████████▌ | 2137/2495 [33:06<05:17,  1.13it/s]\u001b[A\n",
      " 86%|████████▌ | 2138/2495 [33:07<05:15,  1.13it/s]\u001b[A\n",
      " 86%|████████▌ | 2139/2495 [33:08<05:13,  1.13it/s]\u001b[A\n",
      " 86%|████████▌ | 2140/2495 [33:09<05:12,  1.14it/s]\u001b[A\n",
      " 86%|████████▌ | 2141/2495 [33:10<05:13,  1.13it/s]\u001b[A\n",
      " 86%|████████▌ | 2142/2495 [33:11<05:11,  1.13it/s]\u001b[A\n",
      " 86%|████████▌ | 2143/2495 [33:12<05:11,  1.13it/s]\u001b[A\n",
      " 86%|████████▌ | 2144/2495 [33:13<05:10,  1.13it/s]\u001b[A\n",
      " 86%|████████▌ | 2145/2495 [33:14<05:09,  1.13it/s]\u001b[A\n",
      " 86%|████████▌ | 2146/2495 [33:14<05:07,  1.13it/s]\u001b[A\n",
      " 86%|████████▌ | 2147/2495 [33:15<05:06,  1.14it/s]\u001b[A\n",
      " 86%|████████▌ | 2148/2495 [33:16<05:04,  1.14it/s]\u001b[A\n",
      " 86%|████████▌ | 2149/2495 [33:17<05:03,  1.14it/s]\u001b[A\n",
      " 86%|████████▌ | 2150/2495 [33:18<05:02,  1.14it/s]\u001b[A\n",
      " 86%|████████▌ | 2151/2495 [33:19<05:01,  1.14it/s]\u001b[A\n",
      " 86%|████████▋ | 2152/2495 [33:20<05:02,  1.14it/s]\u001b[A\n",
      " 86%|████████▋ | 2153/2495 [33:20<04:59,  1.14it/s]\u001b[A\n",
      " 86%|████████▋ | 2154/2495 [33:21<04:58,  1.14it/s]\u001b[A\n",
      " 86%|████████▋ | 2155/2495 [33:22<04:58,  1.14it/s]\u001b[A\n",
      " 86%|████████▋ | 2156/2495 [33:23<04:58,  1.14it/s]\u001b[A\n",
      " 86%|████████▋ | 2157/2495 [33:24<04:57,  1.14it/s]\u001b[A\n",
      " 86%|████████▋ | 2158/2495 [33:25<04:55,  1.14it/s]\u001b[A\n",
      " 87%|████████▋ | 2159/2495 [33:26<04:55,  1.14it/s]\u001b[A\n",
      " 87%|████████▋ | 2160/2495 [33:27<05:08,  1.09it/s]\u001b[A\n",
      " 87%|████████▋ | 2161/2495 [33:28<05:03,  1.10it/s]\u001b[A\n",
      " 87%|████████▋ | 2162/2495 [33:29<04:58,  1.12it/s]\u001b[A\n",
      " 87%|████████▋ | 2163/2495 [33:29<04:55,  1.12it/s]\u001b[A\n",
      " 87%|████████▋ | 2164/2495 [33:30<04:55,  1.12it/s]\u001b[A\n",
      " 87%|████████▋ | 2165/2495 [33:31<04:53,  1.12it/s]\u001b[A\n",
      " 87%|████████▋ | 2166/2495 [33:32<04:51,  1.13it/s]\u001b[A\n",
      " 87%|████████▋ | 2167/2495 [33:33<04:51,  1.13it/s]\u001b[A\n",
      " 87%|████████▋ | 2168/2495 [33:34<04:53,  1.11it/s]\u001b[A\n",
      " 87%|████████▋ | 2169/2495 [33:35<04:52,  1.12it/s]\u001b[A\n",
      " 87%|████████▋ | 2170/2495 [33:36<04:49,  1.12it/s]\u001b[A\n",
      " 87%|████████▋ | 2171/2495 [33:37<04:49,  1.12it/s]\u001b[A\n",
      " 87%|████████▋ | 2172/2495 [33:37<04:47,  1.12it/s]\u001b[A\n",
      " 87%|████████▋ | 2173/2495 [33:38<04:47,  1.12it/s]\u001b[A\n",
      " 87%|████████▋ | 2174/2495 [33:39<04:46,  1.12it/s]\u001b[A\n",
      " 87%|████████▋ | 2175/2495 [33:40<04:44,  1.12it/s]\u001b[A\n",
      " 87%|████████▋ | 2176/2495 [33:41<04:41,  1.13it/s]\u001b[A\n",
      " 87%|████████▋ | 2177/2495 [33:42<04:38,  1.14it/s]\u001b[A\n",
      " 87%|████████▋ | 2178/2495 [33:43<04:36,  1.15it/s]\u001b[A\n",
      " 87%|████████▋ | 2179/2495 [33:44<04:34,  1.15it/s]\u001b[A\n",
      " 87%|████████▋ | 2180/2495 [33:44<04:35,  1.14it/s]\u001b[A\n",
      " 87%|████████▋ | 2181/2495 [33:45<04:34,  1.14it/s]\u001b[A\n",
      " 87%|████████▋ | 2182/2495 [33:46<04:33,  1.14it/s]\u001b[A\n",
      " 87%|████████▋ | 2183/2495 [33:47<04:33,  1.14it/s]\u001b[A\n",
      " 88%|████████▊ | 2184/2495 [33:48<04:34,  1.13it/s]\u001b[A\n",
      " 88%|████████▊ | 2185/2495 [33:49<04:33,  1.13it/s]\u001b[A\n",
      " 88%|████████▊ | 2186/2495 [33:50<04:32,  1.13it/s]\u001b[A\n",
      " 88%|████████▊ | 2187/2495 [33:51<04:32,  1.13it/s]\u001b[A\n",
      " 88%|████████▊ | 2188/2495 [33:52<04:31,  1.13it/s]\u001b[A\n",
      " 88%|████████▊ | 2189/2495 [33:52<04:31,  1.13it/s]\u001b[A\n",
      " 88%|████████▊ | 2190/2495 [33:53<04:31,  1.13it/s]\u001b[A\n",
      " 88%|████████▊ | 2191/2495 [33:54<04:31,  1.12it/s]\u001b[A\n",
      " 88%|████████▊ | 2192/2495 [33:55<04:31,  1.12it/s]\u001b[A\n",
      " 88%|████████▊ | 2193/2495 [33:56<04:29,  1.12it/s]\u001b[A\n",
      " 88%|████████▊ | 2194/2495 [33:57<04:28,  1.12it/s]\u001b[A\n",
      " 88%|████████▊ | 2195/2495 [33:58<04:30,  1.11it/s]\u001b[A\n",
      " 88%|████████▊ | 2196/2495 [33:59<04:27,  1.12it/s]\u001b[A\n",
      " 88%|████████▊ | 2197/2495 [34:00<04:38,  1.07it/s]\u001b[A\n",
      " 88%|████████▊ | 2198/2495 [34:01<04:34,  1.08it/s]\u001b[A\n",
      " 88%|████████▊ | 2199/2495 [34:01<04:28,  1.10it/s]\u001b[A\n",
      " 88%|████████▊ | 2200/2495 [34:02<04:25,  1.11it/s]\u001b[A\n",
      " 88%|████████▊ | 2201/2495 [34:03<04:24,  1.11it/s]\u001b[A\n",
      " 88%|████████▊ | 2202/2495 [34:04<04:21,  1.12it/s]\u001b[A\n",
      " 88%|████████▊ | 2203/2495 [34:05<04:19,  1.13it/s]\u001b[A\n",
      " 88%|████████▊ | 2204/2495 [34:06<04:18,  1.13it/s]\u001b[A\n",
      " 88%|████████▊ | 2205/2495 [34:07<04:17,  1.13it/s]\u001b[A\n",
      " 88%|████████▊ | 2206/2495 [34:08<04:15,  1.13it/s]\u001b[A\n",
      " 88%|████████▊ | 2207/2495 [34:09<04:15,  1.13it/s]\u001b[A\n",
      " 88%|████████▊ | 2208/2495 [34:09<04:14,  1.13it/s]\u001b[A\n",
      " 89%|████████▊ | 2209/2495 [34:10<04:13,  1.13it/s]\u001b[A\n",
      " 89%|████████▊ | 2210/2495 [34:11<04:12,  1.13it/s]\u001b[A\n",
      " 89%|████████▊ | 2211/2495 [34:12<04:11,  1.13it/s]\u001b[A\n",
      " 89%|████████▊ | 2212/2495 [34:13<04:11,  1.13it/s]\u001b[A\n",
      " 89%|████████▊ | 2213/2495 [34:14<04:11,  1.12it/s]\u001b[A\n",
      " 89%|████████▊ | 2214/2495 [34:15<04:10,  1.12it/s]\u001b[A\n",
      " 89%|████████▉ | 2215/2495 [34:16<04:09,  1.12it/s]\u001b[A\n",
      " 89%|████████▉ | 2216/2495 [34:17<04:06,  1.13it/s]\u001b[A\n",
      " 89%|████████▉ | 2217/2495 [34:17<04:06,  1.13it/s]\u001b[A\n",
      " 89%|████████▉ | 2218/2495 [34:18<04:06,  1.13it/s]\u001b[A\n",
      " 89%|████████▉ | 2219/2495 [34:19<04:05,  1.13it/s]\u001b[A\n",
      " 89%|████████▉ | 2220/2495 [34:20<04:04,  1.13it/s]\u001b[A\n",
      " 89%|████████▉ | 2221/2495 [34:21<04:04,  1.12it/s]\u001b[A\n",
      " 89%|████████▉ | 2222/2495 [34:22<04:02,  1.13it/s]\u001b[A\n",
      " 89%|████████▉ | 2223/2495 [34:23<04:01,  1.13it/s]\u001b[A\n",
      " 89%|████████▉ | 2224/2495 [34:24<04:01,  1.12it/s]\u001b[A\n",
      " 89%|████████▉ | 2225/2495 [34:25<04:01,  1.12it/s]\u001b[A\n",
      " 89%|████████▉ | 2226/2495 [34:25<03:59,  1.12it/s]\u001b[A\n",
      " 89%|████████▉ | 2227/2495 [34:26<03:56,  1.13it/s]\u001b[A\n",
      " 89%|████████▉ | 2228/2495 [34:27<03:57,  1.13it/s]\u001b[A\n",
      " 89%|████████▉ | 2229/2495 [34:28<03:55,  1.13it/s]\u001b[A\n",
      " 89%|████████▉ | 2230/2495 [34:29<03:54,  1.13it/s]\u001b[A\n",
      " 89%|████████▉ | 2231/2495 [34:30<03:52,  1.14it/s]\u001b[A\n",
      " 89%|████████▉ | 2232/2495 [34:31<03:51,  1.14it/s]\u001b[A\n",
      " 89%|████████▉ | 2233/2495 [34:32<03:51,  1.13it/s]\u001b[A\n",
      " 90%|████████▉ | 2234/2495 [34:33<04:02,  1.08it/s]\u001b[A\n",
      " 90%|████████▉ | 2235/2495 [34:34<03:57,  1.09it/s]\u001b[A\n",
      " 90%|████████▉ | 2236/2495 [34:34<03:54,  1.10it/s]\u001b[A\n",
      " 90%|████████▉ | 2237/2495 [34:35<03:51,  1.11it/s]\u001b[A\n",
      " 90%|████████▉ | 2238/2495 [34:36<03:50,  1.12it/s]\u001b[A\n",
      " 90%|████████▉ | 2239/2495 [34:37<03:48,  1.12it/s]\u001b[A\n",
      " 90%|████████▉ | 2240/2495 [34:38<03:47,  1.12it/s]\u001b[A\n",
      " 90%|████████▉ | 2241/2495 [34:39<03:45,  1.13it/s]\u001b[A\n",
      " 90%|████████▉ | 2242/2495 [34:40<03:43,  1.13it/s]\u001b[A\n",
      " 90%|████████▉ | 2243/2495 [34:41<03:42,  1.13it/s]\u001b[A\n",
      " 90%|████████▉ | 2244/2495 [34:41<03:41,  1.13it/s]\u001b[A\n",
      " 90%|████████▉ | 2245/2495 [34:42<03:41,  1.13it/s]\u001b[A\n",
      " 90%|█████████ | 2246/2495 [34:43<03:40,  1.13it/s]\u001b[A\n",
      " 90%|█████████ | 2247/2495 [34:44<03:38,  1.13it/s]\u001b[A\n",
      " 90%|█████████ | 2248/2495 [34:45<03:37,  1.13it/s]\u001b[A\n",
      " 90%|█████████ | 2249/2495 [34:46<03:37,  1.13it/s]\u001b[A\n",
      " 90%|█████████ | 2250/2495 [34:47<03:36,  1.13it/s]\u001b[A\n",
      " 90%|█████████ | 2251/2495 [34:48<03:35,  1.13it/s]\u001b[A\n",
      " 90%|█████████ | 2252/2495 [34:49<03:33,  1.14it/s]\u001b[A\n",
      " 90%|█████████ | 2253/2495 [34:49<03:32,  1.14it/s]\u001b[A\n",
      " 90%|█████████ | 2254/2495 [34:50<03:32,  1.14it/s]\u001b[A\n",
      " 90%|█████████ | 2255/2495 [34:51<03:30,  1.14it/s]\u001b[A\n",
      " 90%|█████████ | 2256/2495 [34:52<03:30,  1.13it/s]\u001b[A\n",
      " 90%|█████████ | 2257/2495 [34:53<03:29,  1.13it/s]\u001b[A\n",
      " 91%|█████████ | 2258/2495 [34:54<03:30,  1.13it/s]\u001b[A\n",
      " 91%|█████████ | 2259/2495 [34:55<03:29,  1.13it/s]\u001b[A\n",
      " 91%|█████████ | 2260/2495 [34:56<03:28,  1.13it/s]\u001b[A\n",
      " 91%|█████████ | 2261/2495 [34:57<03:28,  1.12it/s]\u001b[A\n",
      " 91%|█████████ | 2262/2495 [34:57<03:27,  1.13it/s]\u001b[A\n",
      " 91%|█████████ | 2263/2495 [34:58<03:25,  1.13it/s]\u001b[A\n",
      " 91%|█████████ | 2264/2495 [34:59<03:25,  1.13it/s]\u001b[A\n",
      " 91%|█████████ | 2265/2495 [35:00<03:24,  1.13it/s]\u001b[A\n",
      " 91%|█████████ | 2266/2495 [35:01<03:23,  1.13it/s]\u001b[A\n",
      " 91%|█████████ | 2267/2495 [35:02<03:21,  1.13it/s]\u001b[A\n",
      " 91%|█████████ | 2268/2495 [35:03<03:20,  1.13it/s]\u001b[A\n",
      " 91%|█████████ | 2269/2495 [35:04<03:19,  1.13it/s]\u001b[A\n",
      " 91%|█████████ | 2270/2495 [35:05<03:19,  1.13it/s]\u001b[A\n",
      " 91%|█████████ | 2271/2495 [35:06<03:27,  1.08it/s]\u001b[A\n",
      " 91%|█████████ | 2272/2495 [35:06<03:24,  1.09it/s]\u001b[A\n",
      " 91%|█████████ | 2273/2495 [35:07<03:21,  1.10it/s]\u001b[A\n",
      " 91%|█████████ | 2274/2495 [35:08<03:18,  1.11it/s]\u001b[A\n",
      " 91%|█████████ | 2275/2495 [35:09<03:16,  1.12it/s]\u001b[A\n",
      " 91%|█████████ | 2276/2495 [35:10<03:15,  1.12it/s]\u001b[A\n",
      " 91%|█████████▏| 2277/2495 [35:11<03:13,  1.13it/s]\u001b[A\n",
      " 91%|█████████▏| 2278/2495 [35:12<03:13,  1.12it/s]\u001b[A\n",
      " 91%|█████████▏| 2279/2495 [35:13<03:12,  1.12it/s]\u001b[A\n",
      " 91%|█████████▏| 2280/2495 [35:13<03:10,  1.13it/s]\u001b[A\n",
      " 91%|█████████▏| 2281/2495 [35:14<03:10,  1.13it/s]\u001b[A\n",
      " 91%|█████████▏| 2282/2495 [35:15<03:08,  1.13it/s]\u001b[A\n",
      " 92%|█████████▏| 2283/2495 [35:16<03:08,  1.12it/s]\u001b[A\n",
      " 92%|█████████▏| 2284/2495 [35:17<03:07,  1.13it/s]\u001b[A\n",
      " 92%|█████████▏| 2285/2495 [35:18<03:05,  1.13it/s]\u001b[A\n",
      " 92%|█████████▏| 2286/2495 [35:19<03:04,  1.14it/s]\u001b[A\n",
      " 92%|█████████▏| 2287/2495 [35:20<03:04,  1.13it/s]\u001b[A\n",
      " 92%|█████████▏| 2288/2495 [35:21<03:02,  1.13it/s]\u001b[A\n",
      " 92%|█████████▏| 2289/2495 [35:21<03:02,  1.13it/s]\u001b[A\n",
      " 92%|█████████▏| 2290/2495 [35:22<03:00,  1.13it/s]\u001b[A\n",
      " 92%|█████████▏| 2291/2495 [35:23<03:00,  1.13it/s]\u001b[A\n",
      " 92%|█████████▏| 2292/2495 [35:24<02:58,  1.13it/s]\u001b[A\n",
      " 92%|█████████▏| 2293/2495 [35:25<02:57,  1.14it/s]\u001b[A\n",
      " 92%|█████████▏| 2294/2495 [35:26<02:56,  1.14it/s]\u001b[A\n",
      " 92%|█████████▏| 2295/2495 [35:27<02:55,  1.14it/s]\u001b[A\n",
      " 92%|█████████▏| 2296/2495 [35:28<02:54,  1.14it/s]\u001b[A\n",
      " 92%|█████████▏| 2297/2495 [35:28<02:53,  1.14it/s]\u001b[A\n",
      " 92%|█████████▏| 2298/2495 [35:29<02:52,  1.14it/s]\u001b[A\n",
      " 92%|█████████▏| 2299/2495 [35:30<02:52,  1.14it/s]\u001b[A\n",
      " 92%|█████████▏| 2300/2495 [35:31<02:51,  1.14it/s]\u001b[A\n",
      " 92%|█████████▏| 2301/2495 [35:32<02:50,  1.14it/s]\u001b[A\n",
      " 92%|█████████▏| 2302/2495 [35:33<02:49,  1.14it/s]\u001b[A\n",
      " 92%|█████████▏| 2303/2495 [35:34<02:49,  1.13it/s]\u001b[A\n",
      " 92%|█████████▏| 2304/2495 [35:35<02:47,  1.14it/s]\u001b[A\n",
      " 92%|█████████▏| 2305/2495 [35:36<02:46,  1.14it/s]\u001b[A\n",
      " 92%|█████████▏| 2306/2495 [35:36<02:45,  1.14it/s]\u001b[A\n",
      " 92%|█████████▏| 2307/2495 [35:37<02:45,  1.13it/s]\u001b[A\n",
      " 93%|█████████▎| 2308/2495 [35:38<02:53,  1.08it/s]\u001b[A\n",
      " 93%|█████████▎| 2309/2495 [35:39<02:50,  1.09it/s]\u001b[A\n",
      " 93%|█████████▎| 2310/2495 [35:40<02:47,  1.11it/s]\u001b[A\n",
      " 93%|█████████▎| 2311/2495 [35:41<02:45,  1.11it/s]\u001b[A\n",
      " 93%|█████████▎| 2312/2495 [35:42<02:43,  1.12it/s]\u001b[A\n",
      " 93%|█████████▎| 2313/2495 [35:43<02:42,  1.12it/s]\u001b[A\n",
      " 93%|█████████▎| 2314/2495 [35:44<02:40,  1.12it/s]\u001b[A\n",
      " 93%|█████████▎| 2315/2495 [35:45<02:39,  1.13it/s]\u001b[A\n",
      " 93%|█████████▎| 2316/2495 [35:45<02:38,  1.13it/s]\u001b[A\n",
      " 93%|█████████▎| 2317/2495 [35:46<02:36,  1.14it/s]\u001b[A\n",
      " 93%|█████████▎| 2318/2495 [35:47<02:36,  1.13it/s]\u001b[A\n",
      " 93%|█████████▎| 2319/2495 [35:48<02:35,  1.13it/s]\u001b[A\n",
      " 93%|█████████▎| 2320/2495 [35:49<02:35,  1.12it/s]\u001b[A\n",
      " 93%|█████████▎| 2321/2495 [35:50<02:33,  1.13it/s]\u001b[A\n",
      " 93%|█████████▎| 2322/2495 [35:51<02:32,  1.13it/s]\u001b[A\n",
      " 93%|█████████▎| 2323/2495 [35:52<02:31,  1.13it/s]\u001b[A\n",
      " 93%|█████████▎| 2324/2495 [35:52<02:31,  1.13it/s]\u001b[A\n",
      " 93%|█████████▎| 2325/2495 [35:53<02:30,  1.13it/s]\u001b[A\n",
      " 93%|█████████▎| 2326/2495 [35:54<02:29,  1.13it/s]\u001b[A\n",
      " 93%|█████████▎| 2327/2495 [35:55<02:28,  1.13it/s]\u001b[A\n",
      " 93%|█████████▎| 2328/2495 [35:56<02:27,  1.13it/s]\u001b[A\n",
      " 93%|█████████▎| 2329/2495 [35:57<02:26,  1.14it/s]\u001b[A\n",
      " 93%|█████████▎| 2330/2495 [35:58<02:25,  1.14it/s]\u001b[A\n",
      " 93%|█████████▎| 2331/2495 [35:59<02:24,  1.13it/s]\u001b[A\n",
      " 93%|█████████▎| 2332/2495 [36:00<02:24,  1.13it/s]\u001b[A\n",
      " 94%|█████████▎| 2333/2495 [36:00<02:22,  1.13it/s]\u001b[A\n",
      " 94%|█████████▎| 2334/2495 [36:01<02:21,  1.14it/s]\u001b[A\n",
      " 94%|█████████▎| 2335/2495 [36:02<02:21,  1.13it/s]\u001b[A\n",
      " 94%|█████████▎| 2336/2495 [36:03<02:20,  1.13it/s]\u001b[A\n",
      " 94%|█████████▎| 2337/2495 [36:04<02:19,  1.13it/s]\u001b[A\n",
      " 94%|█████████▎| 2338/2495 [36:05<02:18,  1.13it/s]\u001b[A\n",
      " 94%|█████████▎| 2339/2495 [36:06<02:17,  1.13it/s]\u001b[A\n",
      " 94%|█████████▍| 2340/2495 [36:07<02:17,  1.13it/s]\u001b[A\n",
      " 94%|█████████▍| 2341/2495 [36:07<02:16,  1.13it/s]\u001b[A\n",
      " 94%|█████████▍| 2342/2495 [36:08<02:15,  1.13it/s]\u001b[A\n",
      " 94%|█████████▍| 2343/2495 [36:09<02:13,  1.14it/s]\u001b[A\n",
      " 94%|█████████▍| 2344/2495 [36:10<02:12,  1.14it/s]\u001b[A\n",
      " 94%|█████████▍| 2345/2495 [36:11<02:19,  1.08it/s]\u001b[A\n",
      " 94%|█████████▍| 2346/2495 [36:12<02:16,  1.09it/s]\u001b[A\n",
      " 94%|█████████▍| 2347/2495 [36:13<02:13,  1.11it/s]\u001b[A\n",
      " 94%|█████████▍| 2348/2495 [36:14<02:11,  1.11it/s]\u001b[A\n",
      " 94%|█████████▍| 2349/2495 [36:15<02:10,  1.12it/s]\u001b[A\n",
      " 94%|█████████▍| 2350/2495 [36:16<02:09,  1.12it/s]\u001b[A\n",
      " 94%|█████████▍| 2351/2495 [36:16<02:08,  1.12it/s]\u001b[A\n",
      " 94%|█████████▍| 2352/2495 [36:17<02:07,  1.12it/s]\u001b[A\n",
      " 94%|█████████▍| 2353/2495 [36:18<02:07,  1.11it/s]\u001b[A\n",
      " 94%|█████████▍| 2354/2495 [36:19<02:06,  1.12it/s]\u001b[A\n",
      " 94%|█████████▍| 2355/2495 [36:20<02:05,  1.12it/s]\u001b[A\n",
      " 94%|█████████▍| 2356/2495 [36:21<02:03,  1.12it/s]\u001b[A\n",
      " 94%|█████████▍| 2357/2495 [36:22<02:02,  1.13it/s]\u001b[A\n",
      " 95%|█████████▍| 2358/2495 [36:23<02:01,  1.13it/s]\u001b[A\n",
      " 95%|█████████▍| 2359/2495 [36:24<02:00,  1.13it/s]\u001b[A\n",
      " 95%|█████████▍| 2360/2495 [36:24<01:59,  1.13it/s]\u001b[A\n",
      " 95%|█████████▍| 2361/2495 [36:25<01:59,  1.12it/s]\u001b[A\n",
      " 95%|█████████▍| 2362/2495 [36:26<01:58,  1.12it/s]\u001b[A\n",
      " 95%|█████████▍| 2363/2495 [36:27<01:56,  1.13it/s]\u001b[A\n",
      " 95%|█████████▍| 2364/2495 [36:28<01:56,  1.13it/s]\u001b[A\n",
      " 95%|█████████▍| 2365/2495 [36:29<01:55,  1.12it/s]\u001b[A\n",
      " 95%|█████████▍| 2366/2495 [36:30<01:54,  1.12it/s]\u001b[A\n",
      " 95%|█████████▍| 2367/2495 [36:31<01:53,  1.12it/s]\u001b[A\n",
      " 95%|█████████▍| 2368/2495 [36:32<01:53,  1.12it/s]\u001b[A\n",
      " 95%|█████████▍| 2369/2495 [36:33<01:53,  1.11it/s]\u001b[A\n",
      " 95%|█████████▍| 2370/2495 [36:33<01:52,  1.11it/s]\u001b[A\n",
      " 95%|█████████▌| 2371/2495 [36:34<01:51,  1.11it/s]\u001b[A\n",
      " 95%|█████████▌| 2372/2495 [36:35<01:49,  1.12it/s]\u001b[A\n",
      " 95%|█████████▌| 2373/2495 [36:36<01:48,  1.13it/s]\u001b[A\n",
      " 95%|█████████▌| 2374/2495 [36:37<01:47,  1.13it/s]\u001b[A\n",
      " 95%|█████████▌| 2375/2495 [36:38<01:45,  1.14it/s]\u001b[A\n",
      " 95%|█████████▌| 2376/2495 [36:39<01:44,  1.14it/s]\u001b[A\n",
      " 95%|█████████▌| 2377/2495 [36:40<01:43,  1.14it/s]\u001b[A\n",
      " 95%|█████████▌| 2378/2495 [36:40<01:42,  1.14it/s]\u001b[A\n",
      " 95%|█████████▌| 2379/2495 [36:41<01:41,  1.14it/s]\u001b[A\n",
      " 95%|█████████▌| 2380/2495 [36:42<01:40,  1.14it/s]\u001b[A\n",
      " 95%|█████████▌| 2381/2495 [36:43<01:41,  1.13it/s]\u001b[A\n",
      " 95%|█████████▌| 2382/2495 [36:44<01:45,  1.07it/s]\u001b[A\n",
      " 96%|█████████▌| 2383/2495 [36:45<01:42,  1.09it/s]\u001b[A\n",
      " 96%|█████████▌| 2384/2495 [36:46<01:40,  1.10it/s]\u001b[A\n",
      " 96%|█████████▌| 2385/2495 [36:47<01:38,  1.11it/s]\u001b[A\n",
      " 96%|█████████▌| 2386/2495 [36:48<01:37,  1.12it/s]\u001b[A\n",
      " 96%|█████████▌| 2387/2495 [36:49<01:35,  1.13it/s]\u001b[A\n",
      " 96%|█████████▌| 2388/2495 [36:49<01:34,  1.13it/s]\u001b[A\n",
      " 96%|█████████▌| 2389/2495 [36:50<01:33,  1.13it/s]\u001b[A\n"
     ]
    },
    {
     "name": "stderr",
     "output_type": "stream",
     "text": [
      " 96%|█████████▌| 2390/2495 [36:51<01:32,  1.13it/s]\u001b[A\n",
      " 96%|█████████▌| 2391/2495 [36:52<01:31,  1.13it/s]\u001b[A\n",
      " 96%|█████████▌| 2392/2495 [36:53<01:30,  1.13it/s]\u001b[A\n",
      " 96%|█████████▌| 2393/2495 [36:54<01:29,  1.13it/s]\u001b[A\n",
      " 96%|█████████▌| 2394/2495 [36:55<01:29,  1.13it/s]\u001b[A\n",
      " 96%|█████████▌| 2395/2495 [36:56<01:28,  1.13it/s]\u001b[A\n",
      " 96%|█████████▌| 2396/2495 [36:56<01:27,  1.14it/s]\u001b[A\n",
      " 96%|█████████▌| 2397/2495 [36:57<01:26,  1.14it/s]\u001b[A\n",
      " 96%|█████████▌| 2398/2495 [36:58<01:25,  1.14it/s]\u001b[A\n",
      " 96%|█████████▌| 2399/2495 [36:59<01:24,  1.14it/s]\u001b[A\n",
      " 96%|█████████▌| 2400/2495 [37:00<01:23,  1.14it/s]\u001b[A\n",
      " 96%|█████████▌| 2401/2495 [37:01<01:22,  1.14it/s]\u001b[A\n",
      " 96%|█████████▋| 2402/2495 [37:02<01:22,  1.13it/s]\u001b[A\n",
      " 96%|█████████▋| 2403/2495 [37:03<01:21,  1.13it/s]\u001b[A\n",
      " 96%|█████████▋| 2404/2495 [37:03<01:20,  1.14it/s]\u001b[A\n",
      " 96%|█████████▋| 2405/2495 [37:04<01:19,  1.13it/s]\u001b[A\n",
      " 96%|█████████▋| 2406/2495 [37:05<01:19,  1.12it/s]\u001b[A\n",
      " 96%|█████████▋| 2407/2495 [37:06<01:18,  1.12it/s]\u001b[A\n",
      " 97%|█████████▋| 2408/2495 [37:07<01:17,  1.12it/s]\u001b[A\n",
      " 97%|█████████▋| 2409/2495 [37:08<01:16,  1.13it/s]\u001b[A\n",
      " 97%|█████████▋| 2410/2495 [37:09<01:15,  1.12it/s]\u001b[A\n",
      " 97%|█████████▋| 2411/2495 [37:10<01:14,  1.12it/s]\u001b[A\n",
      " 97%|█████████▋| 2412/2495 [37:11<01:13,  1.12it/s]\u001b[A\n",
      " 97%|█████████▋| 2413/2495 [37:12<01:12,  1.13it/s]\u001b[A\n",
      " 97%|█████████▋| 2414/2495 [37:12<01:12,  1.12it/s]\u001b[A\n",
      " 97%|█████████▋| 2415/2495 [37:13<01:11,  1.12it/s]\u001b[A\n",
      " 97%|█████████▋| 2416/2495 [37:14<01:10,  1.12it/s]\u001b[A\n",
      " 97%|█████████▋| 2417/2495 [37:15<01:09,  1.12it/s]\u001b[A\n",
      " 97%|█████████▋| 2418/2495 [37:16<01:08,  1.12it/s]\u001b[A\n",
      " 97%|█████████▋| 2419/2495 [37:17<01:11,  1.07it/s]\u001b[A\n",
      " 97%|█████████▋| 2420/2495 [37:18<01:08,  1.09it/s]\u001b[A\n",
      " 97%|█████████▋| 2421/2495 [37:19<01:07,  1.10it/s]\u001b[A\n",
      " 97%|█████████▋| 2422/2495 [37:20<01:06,  1.11it/s]\u001b[A\n",
      " 97%|█████████▋| 2423/2495 [37:21<01:04,  1.11it/s]\u001b[A\n",
      " 97%|█████████▋| 2424/2495 [37:21<01:03,  1.12it/s]\u001b[A\n",
      " 97%|█████████▋| 2425/2495 [37:22<01:02,  1.13it/s]\u001b[A\n",
      " 97%|█████████▋| 2426/2495 [37:23<01:01,  1.13it/s]\u001b[A\n",
      " 97%|█████████▋| 2427/2495 [37:24<01:00,  1.13it/s]\u001b[A\n",
      " 97%|█████████▋| 2428/2495 [37:25<00:59,  1.13it/s]\u001b[A\n",
      " 97%|█████████▋| 2429/2495 [37:26<00:58,  1.13it/s]\u001b[A\n",
      " 97%|█████████▋| 2430/2495 [37:27<00:57,  1.14it/s]\u001b[A\n",
      " 97%|█████████▋| 2431/2495 [37:28<00:56,  1.14it/s]\u001b[A\n",
      " 97%|█████████▋| 2432/2495 [37:28<00:55,  1.13it/s]\u001b[A\n",
      " 98%|█████████▊| 2433/2495 [37:29<00:54,  1.13it/s]\u001b[A\n",
      " 98%|█████████▊| 2434/2495 [37:30<00:54,  1.13it/s]\u001b[A\n",
      " 98%|█████████▊| 2435/2495 [37:31<00:53,  1.12it/s]\u001b[A\n",
      " 98%|█████████▊| 2436/2495 [37:32<00:52,  1.12it/s]\u001b[A\n",
      " 98%|█████████▊| 2437/2495 [37:33<00:51,  1.12it/s]\u001b[A\n",
      " 98%|█████████▊| 2438/2495 [37:34<00:50,  1.12it/s]\u001b[A\n",
      " 98%|█████████▊| 2439/2495 [37:35<00:49,  1.12it/s]\u001b[A\n",
      " 98%|█████████▊| 2440/2495 [37:36<00:48,  1.12it/s]\u001b[A\n",
      " 98%|█████████▊| 2441/2495 [37:36<00:47,  1.13it/s]\u001b[A\n",
      " 98%|█████████▊| 2442/2495 [37:37<00:46,  1.13it/s]\u001b[A\n",
      " 98%|█████████▊| 2443/2495 [37:38<00:46,  1.13it/s]\u001b[A\n",
      " 98%|█████████▊| 2444/2495 [37:39<00:45,  1.12it/s]\u001b[A\n",
      " 98%|█████████▊| 2445/2495 [37:40<00:44,  1.13it/s]\u001b[A\n",
      " 98%|█████████▊| 2446/2495 [37:41<00:42,  1.14it/s]\u001b[A\n",
      " 98%|█████████▊| 2447/2495 [37:42<00:42,  1.13it/s]\u001b[A\n",
      " 98%|█████████▊| 2448/2495 [37:43<00:41,  1.13it/s]\u001b[A\n",
      " 98%|█████████▊| 2449/2495 [37:44<00:40,  1.13it/s]\u001b[A\n",
      " 98%|█████████▊| 2450/2495 [37:44<00:39,  1.13it/s]\u001b[A\n",
      " 98%|█████████▊| 2451/2495 [37:45<00:39,  1.13it/s]\u001b[A\n",
      " 98%|█████████▊| 2452/2495 [37:46<00:38,  1.13it/s]\u001b[A\n",
      " 98%|█████████▊| 2453/2495 [37:47<00:37,  1.12it/s]\u001b[A\n",
      " 98%|█████████▊| 2454/2495 [37:48<00:36,  1.12it/s]\u001b[A\n",
      " 98%|█████████▊| 2455/2495 [37:49<00:35,  1.12it/s]\u001b[A\n",
      " 98%|█████████▊| 2456/2495 [37:50<00:36,  1.07it/s]\u001b[A\n",
      " 98%|█████████▊| 2457/2495 [37:51<00:34,  1.09it/s]\u001b[A\n",
      " 99%|█████████▊| 2458/2495 [37:52<00:33,  1.10it/s]\u001b[A\n",
      " 99%|█████████▊| 2459/2495 [37:53<00:32,  1.09it/s]\u001b[A\n",
      " 99%|█████████▊| 2460/2495 [37:54<00:31,  1.11it/s]\u001b[A\n",
      " 99%|█████████▊| 2461/2495 [37:54<00:30,  1.12it/s]\u001b[A\n",
      " 99%|█████████▊| 2462/2495 [37:55<00:29,  1.12it/s]\u001b[A\n",
      " 99%|█████████▊| 2463/2495 [37:56<00:28,  1.13it/s]\u001b[A\n",
      " 99%|█████████▉| 2464/2495 [37:57<00:27,  1.12it/s]\u001b[A\n",
      " 99%|█████████▉| 2465/2495 [37:58<00:26,  1.12it/s]\u001b[A\n",
      " 99%|█████████▉| 2466/2495 [37:59<00:25,  1.13it/s]\u001b[A\n",
      " 99%|█████████▉| 2467/2495 [38:00<00:24,  1.13it/s]\u001b[A\n",
      " 99%|█████████▉| 2468/2495 [38:01<00:23,  1.13it/s]\u001b[A\n",
      " 99%|█████████▉| 2469/2495 [38:01<00:23,  1.13it/s]\u001b[A\n",
      " 99%|█████████▉| 2470/2495 [38:02<00:22,  1.13it/s]\u001b[A\n",
      " 99%|█████████▉| 2471/2495 [38:03<00:21,  1.13it/s]\u001b[A\n",
      " 99%|█████████▉| 2472/2495 [38:04<00:20,  1.14it/s]\u001b[A\n",
      " 99%|█████████▉| 2473/2495 [38:05<00:19,  1.14it/s]\u001b[A\n",
      " 99%|█████████▉| 2474/2495 [38:06<00:18,  1.14it/s]\u001b[A\n",
      " 99%|█████████▉| 2475/2495 [38:07<00:17,  1.15it/s]\u001b[A\n",
      " 99%|█████████▉| 2476/2495 [38:08<00:16,  1.14it/s]\u001b[A\n",
      " 99%|█████████▉| 2477/2495 [38:09<00:15,  1.13it/s]\u001b[A\n",
      " 99%|█████████▉| 2478/2495 [38:09<00:14,  1.13it/s]\u001b[A\n",
      " 99%|█████████▉| 2479/2495 [38:10<00:14,  1.11it/s]\u001b[A\n",
      " 99%|█████████▉| 2480/2495 [38:11<00:13,  1.11it/s]\u001b[A\n",
      " 99%|█████████▉| 2481/2495 [38:12<00:12,  1.11it/s]\u001b[A\n",
      " 99%|█████████▉| 2482/2495 [38:13<00:11,  1.12it/s]\u001b[A\n",
      "100%|█████████▉| 2483/2495 [38:14<00:10,  1.13it/s]\u001b[A\n",
      "100%|█████████▉| 2484/2495 [38:15<00:09,  1.13it/s]\u001b[A\n",
      "100%|█████████▉| 2485/2495 [38:16<00:08,  1.13it/s]\u001b[A\n",
      "100%|█████████▉| 2486/2495 [38:17<00:07,  1.13it/s]\u001b[A\n",
      "100%|█████████▉| 2487/2495 [38:17<00:07,  1.14it/s]\u001b[A\n",
      "100%|█████████▉| 2488/2495 [38:18<00:06,  1.13it/s]\u001b[A\n",
      "100%|█████████▉| 2489/2495 [38:19<00:05,  1.06it/s]\u001b[A\n",
      "100%|█████████▉| 2490/2495 [38:20<00:04,  1.07it/s]\u001b[A\n",
      "100%|█████████▉| 2491/2495 [38:21<00:03,  1.09it/s]\u001b[A\n",
      "100%|█████████▉| 2492/2495 [38:22<00:02,  1.09it/s]\u001b[A\n",
      "100%|█████████▉| 2493/2495 [38:23<00:01,  1.05it/s]\u001b[A\n",
      "100%|█████████▉| 2494/2495 [38:24<00:00,  1.07it/s]\u001b[A\n",
      "100%|██████████| 2495/2495 [38:25<00:00,  1.08it/s]\u001b[A\n"
     ]
    }
   ],
   "source": [
    "neg_rankings_scholar,neg_triangles_scholar,flippedPred_neg_scholar= explainSamples(correctPredictions_scholar,\n",
    "                                                          [tableA_scholar,tableB_scholar],\n",
    "                                                                                   scholar_hybrid,originalClass=0,\n",
    "                                                                                   maxLenAttributeSet=2)"
   ]
  },
  {
   "cell_type": "code",
   "execution_count": 11,
   "metadata": {
    "ExecuteTime": {
     "end_time": "2020-02-18T11:36:33.504758Z",
     "start_time": "2020-02-18T11:36:33.045260Z"
    }
   },
   "outputs": [
    {
     "data": {
      "image/png": "[encoded data removed]",
      "text/plain": [
       "<Figure size 720x720 with 1 Axes>"
      ]
     },
     "metadata": {
      "needs_background": "light"
     },
     "output_type": "display_data"
    }
   ],
   "source": [
    "plot,negRanking_scholar = aggregateRankings(neg_rankings_scholar,positive=False,maxLenAttributes=2)"
   ]
  },
  {
   "cell_type": "code",
   "execution_count": 12,
   "metadata": {
    "ExecuteTime": {
     "end_time": "2020-02-18T12:15:20.410517Z",
     "start_time": "2020-02-18T11:37:06.842981Z"
    }
   },
   "outputs": [
    {
     "name": "stderr",
     "output_type": "stream",
     "text": [
      "\n",
      "  0%|          | 0/2495 [00:00<?, ?it/s]\u001b[A\n",
      "  0%|          | 1/2495 [00:01<43:24,  1.04s/it]\u001b[A\n",
      "  0%|          | 2/2495 [00:01<42:08,  1.01s/it]\u001b[A\n",
      "  0%|          | 3/2495 [00:02<41:21,  1.00it/s]\u001b[A\n",
      "  0%|          | 4/2495 [00:03<40:29,  1.03it/s]\u001b[A\n",
      "  0%|          | 5/2495 [00:04<42:22,  1.02s/it]\u001b[A\n",
      "  0%|          | 6/2495 [00:05<41:01,  1.01it/s]\u001b[A\n",
      "  0%|          | 7/2495 [00:06<40:00,  1.04it/s]\u001b[A\n",
      "  0%|          | 8/2495 [00:07<39:22,  1.05it/s]\u001b[A\n",
      "  0%|          | 9/2495 [00:08<38:50,  1.07it/s]\u001b[A\n",
      "  0%|          | 10/2495 [00:09<38:47,  1.07it/s]\u001b[A\n",
      "  0%|          | 11/2495 [00:10<38:52,  1.07it/s]\u001b[A\n",
      "  0%|          | 12/2495 [00:11<38:33,  1.07it/s]\u001b[A\n",
      "  1%|          | 13/2495 [00:12<38:19,  1.08it/s]\u001b[A\n",
      "  1%|          | 14/2495 [00:13<38:07,  1.08it/s]\u001b[A\n",
      "  1%|          | 15/2495 [00:14<37:56,  1.09it/s]\u001b[A\n",
      "  1%|          | 16/2495 [00:15<37:53,  1.09it/s]\u001b[A\n",
      "  1%|          | 17/2495 [00:15<37:46,  1.09it/s]\u001b[A\n",
      "  1%|          | 18/2495 [00:16<37:44,  1.09it/s]\u001b[A\n",
      "  1%|          | 19/2495 [00:17<37:40,  1.10it/s]\u001b[A\n",
      "  1%|          | 20/2495 [00:18<37:36,  1.10it/s]\u001b[A\n",
      "  1%|          | 21/2495 [00:19<37:31,  1.10it/s]\u001b[A\n",
      "  1%|          | 22/2495 [00:20<37:26,  1.10it/s]\u001b[A\n",
      "  1%|          | 23/2495 [00:21<37:22,  1.10it/s]\u001b[A\n",
      "  1%|          | 24/2495 [00:22<37:27,  1.10it/s]\u001b[A\n",
      "  1%|          | 25/2495 [00:23<37:24,  1.10it/s]\u001b[A\n",
      "  1%|          | 26/2495 [00:24<37:28,  1.10it/s]\u001b[A\n",
      "  1%|          | 27/2495 [00:25<38:37,  1.06it/s]\u001b[A\n",
      "  1%|          | 28/2495 [00:26<38:06,  1.08it/s]\u001b[A\n",
      "  1%|          | 29/2495 [00:26<37:49,  1.09it/s]\u001b[A\n",
      "  1%|          | 30/2495 [00:28<41:08,  1.00s/it]\u001b[A\n",
      "  1%|          | 31/2495 [00:29<40:07,  1.02it/s]\u001b[A\n",
      "  1%|▏         | 32/2495 [00:29<39:07,  1.05it/s]\u001b[A\n",
      "  1%|▏         | 33/2495 [00:30<38:24,  1.07it/s]\u001b[A\n",
      "  1%|▏         | 34/2495 [00:31<37:56,  1.08it/s]\u001b[A\n",
      "  1%|▏         | 35/2495 [00:32<37:31,  1.09it/s]\u001b[A\n",
      "  1%|▏         | 36/2495 [00:33<37:12,  1.10it/s]\u001b[A\n",
      "  1%|▏         | 37/2495 [00:34<37:02,  1.11it/s]\u001b[A\n",
      "  2%|▏         | 38/2495 [00:35<36:57,  1.11it/s]\u001b[A\n",
      "  2%|▏         | 39/2495 [00:36<37:06,  1.10it/s]\u001b[A\n",
      "  2%|▏         | 40/2495 [00:37<36:54,  1.11it/s]\u001b[A\n",
      "  2%|▏         | 41/2495 [00:38<36:52,  1.11it/s]\u001b[A\n",
      "  2%|▏         | 42/2495 [00:38<36:46,  1.11it/s]\u001b[A\n",
      "  2%|▏         | 43/2495 [00:39<36:41,  1.11it/s]\u001b[A\n",
      "  2%|▏         | 44/2495 [00:40<36:39,  1.11it/s]\u001b[A\n",
      "  2%|▏         | 45/2495 [00:41<36:39,  1.11it/s]\u001b[A\n",
      "  2%|▏         | 46/2495 [00:42<36:35,  1.12it/s]\u001b[A\n",
      "  2%|▏         | 47/2495 [00:43<36:32,  1.12it/s]\u001b[A\n",
      "  2%|▏         | 48/2495 [00:44<36:30,  1.12it/s]\u001b[A\n",
      "  2%|▏         | 49/2495 [00:45<36:36,  1.11it/s]\u001b[A\n",
      "  2%|▏         | 50/2495 [00:46<36:44,  1.11it/s]\u001b[A\n",
      "  2%|▏         | 51/2495 [00:47<36:43,  1.11it/s]\u001b[A\n",
      "  2%|▏         | 52/2495 [00:47<36:57,  1.10it/s]\u001b[A\n",
      "  2%|▏         | 53/2495 [00:48<37:18,  1.09it/s]\u001b[A\n",
      "  2%|▏         | 54/2495 [00:49<38:19,  1.06it/s]\u001b[A\n",
      "  2%|▏         | 55/2495 [00:50<37:49,  1.08it/s]\u001b[A\n",
      "  2%|▏         | 56/2495 [00:51<37:28,  1.08it/s]\u001b[A\n",
      "  2%|▏         | 57/2495 [00:52<37:16,  1.09it/s]\u001b[A\n",
      "  2%|▏         | 58/2495 [00:53<37:07,  1.09it/s]\u001b[A\n",
      "  2%|▏         | 59/2495 [00:54<36:58,  1.10it/s]\u001b[A\n",
      "  2%|▏         | 60/2495 [00:55<37:04,  1.09it/s]\u001b[A\n",
      "  2%|▏         | 61/2495 [00:56<36:46,  1.10it/s]\u001b[A\n",
      "  2%|▏         | 62/2495 [00:57<36:38,  1.11it/s]\u001b[A\n",
      "  3%|▎         | 63/2495 [00:58<36:31,  1.11it/s]\u001b[A\n",
      "  3%|▎         | 64/2495 [00:58<36:36,  1.11it/s]\u001b[A\n",
      "  3%|▎         | 65/2495 [00:59<36:26,  1.11it/s]\u001b[A\n",
      "  3%|▎         | 66/2495 [01:00<36:22,  1.11it/s]\u001b[A\n",
      "  3%|▎         | 67/2495 [01:01<36:20,  1.11it/s]\u001b[A\n",
      "  3%|▎         | 68/2495 [01:02<36:15,  1.12it/s]\u001b[A\n",
      "  3%|▎         | 69/2495 [01:03<36:30,  1.11it/s]\u001b[A\n",
      "  3%|▎         | 70/2495 [01:04<36:24,  1.11it/s]\u001b[A\n",
      "  3%|▎         | 71/2495 [01:05<36:16,  1.11it/s]\u001b[A\n",
      "  3%|▎         | 72/2495 [01:06<36:11,  1.12it/s]\u001b[A\n",
      "  3%|▎         | 73/2495 [01:07<36:05,  1.12it/s]\u001b[A\n",
      "  3%|▎         | 74/2495 [01:07<36:16,  1.11it/s]\u001b[A\n",
      "  3%|▎         | 75/2495 [01:08<36:20,  1.11it/s]\u001b[A\n",
      "  3%|▎         | 76/2495 [01:09<36:16,  1.11it/s]\u001b[A\n",
      "  3%|▎         | 77/2495 [01:10<36:17,  1.11it/s]\u001b[A\n",
      "  3%|▎         | 78/2495 [01:11<36:30,  1.10it/s]\u001b[A\n",
      "  3%|▎         | 79/2495 [01:12<36:33,  1.10it/s]\u001b[A\n",
      "  3%|▎         | 80/2495 [01:13<36:35,  1.10it/s]\u001b[A\n",
      "  3%|▎         | 81/2495 [01:14<37:31,  1.07it/s]\u001b[A\n",
      "  3%|▎         | 82/2495 [01:15<37:03,  1.09it/s]\u001b[A\n",
      "  3%|▎         | 83/2495 [01:16<36:34,  1.10it/s]\u001b[A\n",
      "  3%|▎         | 84/2495 [01:17<38:48,  1.04it/s]\u001b[A\n",
      "  3%|▎         | 85/2495 [01:18<38:26,  1.05it/s]\u001b[A\n",
      "  3%|▎         | 86/2495 [01:19<37:35,  1.07it/s]\u001b[A\n",
      "  3%|▎         | 87/2495 [01:20<39:52,  1.01it/s]\u001b[A\n",
      "  4%|▎         | 88/2495 [01:21<38:49,  1.03it/s]\u001b[A\n",
      "  4%|▎         | 89/2495 [01:21<37:49,  1.06it/s]\u001b[A\n",
      "  4%|▎         | 90/2495 [01:22<37:04,  1.08it/s]\u001b[A\n",
      "  4%|▎         | 91/2495 [01:23<36:38,  1.09it/s]\u001b[A\n",
      "  4%|▎         | 92/2495 [01:24<36:16,  1.10it/s]\u001b[A\n",
      "  4%|▎         | 93/2495 [01:25<35:59,  1.11it/s]\u001b[A\n",
      "  4%|▍         | 94/2495 [01:26<35:44,  1.12it/s]\u001b[A\n",
      "  4%|▍         | 95/2495 [01:27<35:42,  1.12it/s]\u001b[A\n",
      "  4%|▍         | 96/2495 [01:28<35:30,  1.13it/s]\u001b[A\n",
      "  4%|▍         | 97/2495 [01:29<35:27,  1.13it/s]\u001b[A\n",
      "  4%|▍         | 98/2495 [01:29<35:15,  1.13it/s]\u001b[A\n",
      "  4%|▍         | 99/2495 [01:30<35:19,  1.13it/s]\u001b[A\n",
      "  4%|▍         | 100/2495 [01:31<35:20,  1.13it/s]\u001b[A\n",
      "  4%|▍         | 101/2495 [01:32<35:15,  1.13it/s]\u001b[A\n",
      "  4%|▍         | 102/2495 [01:33<35:22,  1.13it/s]\u001b[A\n",
      "  4%|▍         | 103/2495 [01:34<35:25,  1.13it/s]\u001b[A\n",
      "  4%|▍         | 104/2495 [01:35<35:21,  1.13it/s]\u001b[A\n",
      "  4%|▍         | 105/2495 [01:36<35:19,  1.13it/s]\u001b[A\n",
      "  4%|▍         | 106/2495 [01:37<35:17,  1.13it/s]\u001b[A\n",
      "  4%|▍         | 107/2495 [01:37<35:26,  1.12it/s]\u001b[A\n",
      "  4%|▍         | 108/2495 [01:38<36:40,  1.08it/s]\u001b[A\n",
      "  4%|▍         | 109/2495 [01:39<36:14,  1.10it/s]\u001b[A\n",
      "  4%|▍         | 110/2495 [01:40<35:55,  1.11it/s]\u001b[A\n",
      "  4%|▍         | 111/2495 [01:41<36:09,  1.10it/s]\u001b[A\n",
      "  4%|▍         | 112/2495 [01:42<36:09,  1.10it/s]\u001b[A\n",
      "  5%|▍         | 113/2495 [01:43<35:51,  1.11it/s]\u001b[A\n",
      "  5%|▍         | 114/2495 [01:44<35:36,  1.11it/s]\u001b[A\n",
      "  5%|▍         | 115/2495 [01:45<35:37,  1.11it/s]\u001b[A\n",
      "  5%|▍         | 116/2495 [01:46<35:29,  1.12it/s]\u001b[A\n",
      "  5%|▍         | 117/2495 [01:46<35:23,  1.12it/s]\u001b[A\n",
      "  5%|▍         | 118/2495 [01:47<35:19,  1.12it/s]\u001b[A\n",
      "  5%|▍         | 119/2495 [01:48<35:15,  1.12it/s]\u001b[A\n",
      "  5%|▍         | 120/2495 [01:49<35:15,  1.12it/s]\u001b[A\n",
      "  5%|▍         | 121/2495 [01:50<35:12,  1.12it/s]\u001b[A\n",
      "  5%|▍         | 122/2495 [01:51<35:11,  1.12it/s]\u001b[A\n",
      "  5%|▍         | 123/2495 [01:52<35:11,  1.12it/s]\u001b[A\n",
      "  5%|▍         | 124/2495 [01:53<35:09,  1.12it/s]\u001b[A\n",
      "  5%|▌         | 125/2495 [01:54<37:59,  1.04it/s]\u001b[A\n",
      "  5%|▌         | 126/2495 [01:55<37:02,  1.07it/s]\u001b[A\n",
      "  5%|▌         | 127/2495 [01:56<36:24,  1.08it/s]\u001b[A\n",
      "  5%|▌         | 128/2495 [01:56<35:59,  1.10it/s]\u001b[A\n",
      "  5%|▌         | 129/2495 [01:57<35:34,  1.11it/s]\u001b[A\n",
      "  5%|▌         | 130/2495 [01:58<35:18,  1.12it/s]\u001b[A\n",
      "  5%|▌         | 131/2495 [01:59<35:06,  1.12it/s]\u001b[A\n",
      "  5%|▌         | 132/2495 [02:00<35:05,  1.12it/s]\u001b[A\n",
      "  5%|▌         | 133/2495 [02:01<35:06,  1.12it/s]\u001b[A\n",
      "  5%|▌         | 134/2495 [02:02<35:01,  1.12it/s]\u001b[A\n",
      "  5%|▌         | 135/2495 [02:03<36:09,  1.09it/s]\u001b[A\n",
      "  5%|▌         | 136/2495 [02:04<35:48,  1.10it/s]\u001b[A\n",
      "  5%|▌         | 137/2495 [02:05<35:33,  1.11it/s]\u001b[A\n",
      "  6%|▌         | 138/2495 [02:05<35:38,  1.10it/s]\u001b[A\n",
      "  6%|▌         | 139/2495 [02:06<35:20,  1.11it/s]\u001b[A\n",
      "  6%|▌         | 140/2495 [02:07<35:10,  1.12it/s]\u001b[A\n",
      "  6%|▌         | 141/2495 [02:08<35:07,  1.12it/s]\u001b[A\n",
      "  6%|▌         | 142/2495 [02:09<35:00,  1.12it/s]\u001b[A\n",
      "  6%|▌         | 143/2495 [02:10<34:50,  1.12it/s]\u001b[A\n",
      "  6%|▌         | 144/2495 [02:11<34:47,  1.13it/s]\u001b[A\n",
      "  6%|▌         | 145/2495 [02:12<34:46,  1.13it/s]\u001b[A\n",
      "  6%|▌         | 146/2495 [02:13<34:37,  1.13it/s]\u001b[A\n",
      "  6%|▌         | 147/2495 [02:13<34:29,  1.13it/s]\u001b[A\n",
      "  6%|▌         | 148/2495 [02:14<34:25,  1.14it/s]\u001b[A\n",
      "  6%|▌         | 149/2495 [02:15<34:24,  1.14it/s]\u001b[A\n",
      "  6%|▌         | 150/2495 [02:16<34:28,  1.13it/s]\u001b[A\n",
      "  6%|▌         | 151/2495 [02:17<34:24,  1.14it/s]\u001b[A\n",
      "  6%|▌         | 152/2495 [02:18<34:28,  1.13it/s]\u001b[A\n",
      "  6%|▌         | 153/2495 [02:19<34:33,  1.13it/s]\u001b[A\n",
      "  6%|▌         | 154/2495 [02:20<34:33,  1.13it/s]\u001b[A\n",
      "  6%|▌         | 155/2495 [02:21<34:33,  1.13it/s]\u001b[A\n",
      "  6%|▋         | 156/2495 [02:21<34:55,  1.12it/s]\u001b[A\n",
      "  6%|▋         | 157/2495 [02:22<34:59,  1.11it/s]\u001b[A\n",
      "  6%|▋         | 158/2495 [02:23<34:49,  1.12it/s]\u001b[A\n",
      "  6%|▋         | 159/2495 [02:24<34:39,  1.12it/s]\u001b[A\n",
      "  6%|▋         | 160/2495 [02:25<34:31,  1.13it/s]\u001b[A\n",
      "  6%|▋         | 161/2495 [02:26<34:32,  1.13it/s]\u001b[A\n",
      "  6%|▋         | 162/2495 [02:27<35:45,  1.09it/s]\u001b[A\n",
      "  7%|▋         | 163/2495 [02:28<35:23,  1.10it/s]\u001b[A\n",
      "  7%|▋         | 164/2495 [02:29<35:04,  1.11it/s]\u001b[A\n",
      "  7%|▋         | 165/2495 [02:30<34:49,  1.11it/s]\u001b[A\n",
      "  7%|▋         | 166/2495 [02:30<34:44,  1.12it/s]\u001b[A\n",
      "  7%|▋         | 167/2495 [02:31<34:48,  1.11it/s]\u001b[A\n",
      "  7%|▋         | 168/2495 [02:32<34:33,  1.12it/s]\u001b[A\n",
      "  7%|▋         | 169/2495 [02:33<34:44,  1.12it/s]\u001b[A\n",
      "  7%|▋         | 170/2495 [02:34<34:35,  1.12it/s]\u001b[A\n",
      "  7%|▋         | 171/2495 [02:35<34:25,  1.13it/s]\u001b[A\n",
      "  7%|▋         | 172/2495 [02:36<34:16,  1.13it/s]\u001b[A\n",
      "  7%|▋         | 173/2495 [02:37<34:13,  1.13it/s]\u001b[A\n",
      "  7%|▋         | 174/2495 [02:38<34:13,  1.13it/s]\u001b[A\n",
      "  7%|▋         | 175/2495 [02:38<34:07,  1.13it/s]\u001b[A\n",
      "  7%|▋         | 176/2495 [02:39<34:05,  1.13it/s]\u001b[A\n",
      "  7%|▋         | 177/2495 [02:40<34:06,  1.13it/s]\u001b[A\n",
      "  7%|▋         | 178/2495 [02:41<34:05,  1.13it/s]\u001b[A\n",
      "  7%|▋         | 179/2495 [02:42<34:09,  1.13it/s]\u001b[A\n",
      "  7%|▋         | 180/2495 [02:43<34:08,  1.13it/s]\u001b[A\n",
      "  7%|▋         | 181/2495 [02:44<34:08,  1.13it/s]\u001b[A\n",
      "  7%|▋         | 182/2495 [02:45<34:11,  1.13it/s]\u001b[A\n",
      "  7%|▋         | 183/2495 [02:45<34:07,  1.13it/s]\u001b[A\n",
      "  7%|▋         | 184/2495 [02:46<34:04,  1.13it/s]\u001b[A\n",
      "  7%|▋         | 185/2495 [02:47<34:00,  1.13it/s]\u001b[A\n",
      "  7%|▋         | 186/2495 [02:48<34:04,  1.13it/s]\u001b[A\n",
      "  7%|▋         | 187/2495 [02:49<34:05,  1.13it/s]\u001b[A\n",
      "  8%|▊         | 188/2495 [02:50<34:03,  1.13it/s]\u001b[A\n",
      "  8%|▊         | 189/2495 [02:51<35:05,  1.10it/s]\u001b[A\n",
      "  8%|▊         | 190/2495 [02:52<34:48,  1.10it/s]\u001b[A\n",
      "  8%|▊         | 191/2495 [02:53<34:32,  1.11it/s]\u001b[A\n",
      "  8%|▊         | 192/2495 [02:54<34:21,  1.12it/s]\u001b[A\n",
      "  8%|▊         | 193/2495 [02:54<34:14,  1.12it/s]\u001b[A\n",
      "  8%|▊         | 194/2495 [02:55<34:13,  1.12it/s]\u001b[A\n",
      "  8%|▊         | 195/2495 [02:56<34:10,  1.12it/s]\u001b[A\n",
      "  8%|▊         | 196/2495 [02:57<34:08,  1.12it/s]\u001b[A\n",
      "  8%|▊         | 197/2495 [02:58<34:05,  1.12it/s]\u001b[A\n",
      "  8%|▊         | 198/2495 [02:59<34:07,  1.12it/s]\u001b[A\n",
      "  8%|▊         | 199/2495 [03:00<34:10,  1.12it/s]\u001b[A\n",
      "  8%|▊         | 200/2495 [03:01<34:09,  1.12it/s]\u001b[A\n",
      "  8%|▊         | 201/2495 [03:02<34:20,  1.11it/s]\u001b[A\n",
      "  8%|▊         | 202/2495 [03:02<34:15,  1.12it/s]\u001b[A\n",
      "  8%|▊         | 203/2495 [03:03<35:31,  1.08it/s]\u001b[A\n",
      "  8%|▊         | 204/2495 [03:04<35:10,  1.09it/s]\u001b[A\n",
      "  8%|▊         | 205/2495 [03:05<34:52,  1.09it/s]\u001b[A\n",
      "  8%|▊         | 206/2495 [03:06<34:37,  1.10it/s]\u001b[A\n",
      "  8%|▊         | 207/2495 [03:07<34:31,  1.10it/s]\u001b[A\n",
      "  8%|▊         | 208/2495 [03:08<34:21,  1.11it/s]\u001b[A\n",
      "  8%|▊         | 209/2495 [03:09<34:16,  1.11it/s]\u001b[A\n",
      "  8%|▊         | 210/2495 [03:10<34:13,  1.11it/s]\u001b[A\n",
      "  8%|▊         | 211/2495 [03:11<34:08,  1.12it/s]\u001b[A\n",
      "  8%|▊         | 212/2495 [03:12<33:59,  1.12it/s]\u001b[A\n",
      "  9%|▊         | 213/2495 [03:12<33:57,  1.12it/s]\u001b[A\n",
      "  9%|▊         | 214/2495 [03:13<33:54,  1.12it/s]\u001b[A\n",
      "  9%|▊         | 215/2495 [03:14<33:56,  1.12it/s]\u001b[A\n",
      "  9%|▊         | 216/2495 [03:15<35:05,  1.08it/s]\u001b[A\n",
      "  9%|▊         | 217/2495 [03:16<34:38,  1.10it/s]\u001b[A\n",
      "  9%|▊         | 218/2495 [03:17<34:22,  1.10it/s]\u001b[A\n",
      "  9%|▉         | 219/2495 [03:18<34:07,  1.11it/s]\u001b[A\n",
      "  9%|▉         | 220/2495 [03:19<34:00,  1.12it/s]\u001b[A\n",
      "  9%|▉         | 221/2495 [03:20<33:53,  1.12it/s]\u001b[A\n",
      "  9%|▉         | 222/2495 [03:21<33:51,  1.12it/s]\u001b[A\n",
      "  9%|▉         | 223/2495 [03:21<33:50,  1.12it/s]\u001b[A\n",
      "  9%|▉         | 224/2495 [03:22<33:47,  1.12it/s]\u001b[A\n",
      "  9%|▉         | 225/2495 [03:23<33:47,  1.12it/s]\u001b[A\n",
      "  9%|▉         | 226/2495 [03:24<33:47,  1.12it/s]\u001b[A\n",
      "  9%|▉         | 227/2495 [03:25<33:42,  1.12it/s]\u001b[A\n",
      "  9%|▉         | 228/2495 [03:26<33:44,  1.12it/s]\u001b[A\n",
      "  9%|▉         | 229/2495 [03:27<33:40,  1.12it/s]\u001b[A\n",
      "  9%|▉         | 230/2495 [03:28<33:35,  1.12it/s]\u001b[A\n",
      "  9%|▉         | 231/2495 [03:29<33:39,  1.12it/s]\u001b[A\n",
      "  9%|▉         | 232/2495 [03:29<33:39,  1.12it/s]\u001b[A\n",
      "  9%|▉         | 233/2495 [03:30<33:37,  1.12it/s]\u001b[A\n",
      "  9%|▉         | 234/2495 [03:31<33:41,  1.12it/s]\u001b[A\n",
      "  9%|▉         | 235/2495 [03:32<33:54,  1.11it/s]\u001b[A\n",
      "  9%|▉         | 236/2495 [03:33<33:51,  1.11it/s]\u001b[A\n",
      "  9%|▉         | 237/2495 [03:34<33:42,  1.12it/s]\u001b[A\n",
      " 10%|▉         | 238/2495 [03:35<33:30,  1.12it/s]\u001b[A\n",
      " 10%|▉         | 239/2495 [03:36<33:42,  1.12it/s]\u001b[A\n",
      " 10%|▉         | 240/2495 [03:37<33:34,  1.12it/s]\u001b[A\n",
      " 10%|▉         | 241/2495 [03:37<33:24,  1.12it/s]\u001b[A\n",
      " 10%|▉         | 242/2495 [03:38<33:20,  1.13it/s]\u001b[A\n",
      " 10%|▉         | 243/2495 [03:39<34:15,  1.10it/s]\u001b[A\n",
      " 10%|▉         | 244/2495 [03:40<33:59,  1.10it/s]\u001b[A\n",
      " 10%|▉         | 245/2495 [03:41<33:39,  1.11it/s]\u001b[A\n",
      " 10%|▉         | 246/2495 [03:42<33:27,  1.12it/s]\u001b[A\n",
      " 10%|▉         | 247/2495 [03:43<33:21,  1.12it/s]\u001b[A\n",
      " 10%|▉         | 248/2495 [03:44<36:57,  1.01it/s]\u001b[A\n",
      " 10%|▉         | 249/2495 [03:45<36:48,  1.02it/s]\u001b[A\n",
      " 10%|█         | 250/2495 [03:46<36:32,  1.02it/s]\u001b[A\n",
      " 10%|█         | 251/2495 [03:47<36:12,  1.03it/s]\u001b[A\n",
      " 10%|█         | 252/2495 [03:48<35:41,  1.05it/s]\u001b[A\n",
      " 10%|█         | 253/2495 [03:49<35:31,  1.05it/s]\u001b[A\n",
      " 10%|█         | 254/2495 [03:50<35:16,  1.06it/s]\u001b[A\n",
      " 10%|█         | 255/2495 [03:51<35:09,  1.06it/s]\u001b[A\n",
      " 10%|█         | 256/2495 [03:52<34:47,  1.07it/s]\u001b[A\n",
      " 10%|█         | 257/2495 [03:53<34:33,  1.08it/s]\u001b[A\n",
      " 10%|█         | 258/2495 [03:53<34:18,  1.09it/s]\u001b[A\n",
      " 10%|█         | 259/2495 [03:54<34:05,  1.09it/s]\u001b[A\n",
      " 10%|█         | 260/2495 [03:55<34:00,  1.10it/s]\u001b[A\n",
      " 10%|█         | 261/2495 [03:56<34:03,  1.09it/s]\u001b[A\n",
      " 11%|█         | 262/2495 [03:57<34:05,  1.09it/s]\u001b[A\n",
      " 11%|█         | 263/2495 [03:58<34:10,  1.09it/s]\u001b[A\n",
      " 11%|█         | 264/2495 [03:59<34:16,  1.08it/s]\u001b[A\n",
      " 11%|█         | 265/2495 [04:00<34:27,  1.08it/s]\u001b[A\n",
      " 11%|█         | 266/2495 [04:01<34:14,  1.08it/s]\u001b[A\n",
      " 11%|█         | 267/2495 [04:02<34:06,  1.09it/s]\u001b[A\n",
      " 11%|█         | 268/2495 [04:03<34:00,  1.09it/s]\u001b[A\n",
      " 11%|█         | 269/2495 [04:04<33:57,  1.09it/s]\u001b[A\n",
      " 11%|█         | 270/2495 [04:04<33:54,  1.09it/s]\u001b[A\n",
      " 11%|█         | 271/2495 [04:05<35:12,  1.05it/s]\u001b[A\n",
      " 11%|█         | 272/2495 [04:06<34:43,  1.07it/s]\u001b[A\n",
      " 11%|█         | 273/2495 [04:07<34:31,  1.07it/s]\u001b[A\n",
      " 11%|█         | 274/2495 [04:08<34:13,  1.08it/s]\u001b[A\n",
      " 11%|█         | 275/2495 [04:09<34:08,  1.08it/s]\u001b[A\n",
      " 11%|█         | 276/2495 [04:10<34:01,  1.09it/s]\u001b[A\n",
      " 11%|█         | 277/2495 [04:11<33:52,  1.09it/s]\u001b[A\n",
      " 11%|█         | 278/2495 [04:12<34:04,  1.08it/s]\u001b[A\n",
      " 11%|█         | 279/2495 [04:13<33:56,  1.09it/s]\u001b[A\n",
      " 11%|█         | 280/2495 [04:14<34:07,  1.08it/s]\u001b[A\n",
      " 11%|█▏        | 281/2495 [04:15<33:55,  1.09it/s]\u001b[A\n",
      " 11%|█▏        | 282/2495 [04:16<33:49,  1.09it/s]\u001b[A\n",
      " 11%|█▏        | 283/2495 [04:16<33:42,  1.09it/s]\u001b[A\n",
      " 11%|█▏        | 284/2495 [04:17<33:37,  1.10it/s]\u001b[A\n",
      " 11%|█▏        | 285/2495 [04:18<33:31,  1.10it/s]\u001b[A\n",
      " 11%|█▏        | 286/2495 [04:19<33:29,  1.10it/s]\u001b[A\n",
      " 12%|█▏        | 287/2495 [04:20<33:30,  1.10it/s]\u001b[A\n",
      " 12%|█▏        | 288/2495 [04:21<33:26,  1.10it/s]\u001b[A\n",
      " 12%|█▏        | 289/2495 [04:22<33:22,  1.10it/s]\u001b[A\n",
      " 12%|█▏        | 290/2495 [04:23<33:26,  1.10it/s]\u001b[A\n",
      " 12%|█▏        | 291/2495 [04:24<33:25,  1.10it/s]\u001b[A\n",
      " 12%|█▏        | 292/2495 [04:25<33:23,  1.10it/s]\u001b[A\n",
      " 12%|█▏        | 293/2495 [04:26<33:24,  1.10it/s]\u001b[A\n",
      " 12%|█▏        | 294/2495 [04:26<33:22,  1.10it/s]\u001b[A\n",
      " 12%|█▏        | 295/2495 [04:27<33:21,  1.10it/s]\u001b[A\n",
      " 12%|█▏        | 296/2495 [04:28<33:21,  1.10it/s]\u001b[A\n",
      " 12%|█▏        | 297/2495 [04:29<33:18,  1.10it/s]\u001b[A\n",
      " 12%|█▏        | 298/2495 [04:30<35:41,  1.03it/s]\u001b[A\n",
      " 12%|█▏        | 299/2495 [04:31<36:04,  1.01it/s]\u001b[A\n",
      " 12%|█▏        | 300/2495 [04:32<35:12,  1.04it/s]\u001b[A\n",
      " 12%|█▏        | 301/2495 [04:33<34:31,  1.06it/s]\u001b[A\n",
      " 12%|█▏        | 302/2495 [04:34<34:17,  1.07it/s]\u001b[A\n",
      " 12%|█▏        | 303/2495 [04:35<34:00,  1.07it/s]\u001b[A\n"
     ]
    },
    {
     "name": "stderr",
     "output_type": "stream",
     "text": [
      " 12%|█▏        | 304/2495 [04:36<34:00,  1.07it/s]\u001b[A\n",
      " 12%|█▏        | 305/2495 [04:37<33:42,  1.08it/s]\u001b[A\n",
      " 12%|█▏        | 306/2495 [04:38<33:40,  1.08it/s]\u001b[A\n",
      " 12%|█▏        | 307/2495 [04:39<33:27,  1.09it/s]\u001b[A\n",
      " 12%|█▏        | 308/2495 [04:40<33:13,  1.10it/s]\u001b[A\n",
      " 12%|█▏        | 309/2495 [04:40<33:08,  1.10it/s]\u001b[A\n",
      " 12%|█▏        | 310/2495 [04:41<33:03,  1.10it/s]\u001b[A\n",
      " 12%|█▏        | 311/2495 [04:42<33:04,  1.10it/s]\u001b[A\n",
      " 13%|█▎        | 312/2495 [04:43<33:01,  1.10it/s]\u001b[A\n",
      " 13%|█▎        | 313/2495 [04:44<32:56,  1.10it/s]\u001b[A\n",
      " 13%|█▎        | 314/2495 [04:45<32:52,  1.11it/s]\u001b[A\n",
      " 13%|█▎        | 315/2495 [04:46<32:57,  1.10it/s]\u001b[A\n",
      " 13%|█▎        | 316/2495 [04:47<33:00,  1.10it/s]\u001b[A\n",
      " 13%|█▎        | 317/2495 [04:48<32:59,  1.10it/s]\u001b[A\n",
      " 13%|█▎        | 318/2495 [04:49<33:03,  1.10it/s]\u001b[A\n",
      " 13%|█▎        | 319/2495 [04:50<33:07,  1.09it/s]\u001b[A\n",
      " 13%|█▎        | 320/2495 [04:50<33:10,  1.09it/s]\u001b[A\n",
      " 13%|█▎        | 321/2495 [04:51<32:57,  1.10it/s]\u001b[A\n",
      " 13%|█▎        | 322/2495 [04:52<32:48,  1.10it/s]\u001b[A\n",
      " 13%|█▎        | 323/2495 [04:53<32:45,  1.10it/s]\u001b[A\n",
      " 13%|█▎        | 324/2495 [04:54<32:40,  1.11it/s]\u001b[A\n",
      " 13%|█▎        | 325/2495 [04:55<32:39,  1.11it/s]\u001b[A\n",
      " 13%|█▎        | 326/2495 [04:56<33:46,  1.07it/s]\u001b[A\n",
      " 13%|█▎        | 327/2495 [04:57<33:23,  1.08it/s]\u001b[A\n",
      " 13%|█▎        | 328/2495 [04:58<33:07,  1.09it/s]\u001b[A\n",
      " 13%|█▎        | 329/2495 [04:59<32:53,  1.10it/s]\u001b[A\n",
      " 13%|█▎        | 330/2495 [05:00<32:47,  1.10it/s]\u001b[A\n",
      " 13%|█▎        | 331/2495 [05:00<32:40,  1.10it/s]\u001b[A\n",
      " 13%|█▎        | 332/2495 [05:01<32:36,  1.11it/s]\u001b[A\n",
      " 13%|█▎        | 333/2495 [05:02<32:34,  1.11it/s]\u001b[A\n",
      " 13%|█▎        | 334/2495 [05:03<32:34,  1.11it/s]\u001b[A\n",
      " 13%|█▎        | 335/2495 [05:04<32:43,  1.10it/s]\u001b[A\n",
      " 13%|█▎        | 336/2495 [05:05<32:43,  1.10it/s]\u001b[A\n",
      " 14%|█▎        | 337/2495 [05:06<32:49,  1.10it/s]\u001b[A\n",
      " 14%|█▎        | 338/2495 [05:07<32:38,  1.10it/s]\u001b[A\n",
      " 14%|█▎        | 339/2495 [05:08<32:47,  1.10it/s]\u001b[A\n",
      " 14%|█▎        | 340/2495 [05:09<32:39,  1.10it/s]\u001b[A\n",
      " 14%|█▎        | 341/2495 [05:10<32:48,  1.09it/s]\u001b[A\n",
      " 14%|█▎        | 342/2495 [05:10<32:39,  1.10it/s]\u001b[A\n",
      " 14%|█▎        | 343/2495 [05:11<32:36,  1.10it/s]\u001b[A\n",
      " 14%|█▍        | 344/2495 [05:12<32:43,  1.10it/s]\u001b[A\n",
      " 14%|█▍        | 345/2495 [05:13<32:44,  1.09it/s]\u001b[A\n",
      " 14%|█▍        | 346/2495 [05:14<32:39,  1.10it/s]\u001b[A\n",
      " 14%|█▍        | 347/2495 [05:15<32:38,  1.10it/s]\u001b[A\n",
      " 14%|█▍        | 348/2495 [05:16<32:33,  1.10it/s]\u001b[A\n",
      " 14%|█▍        | 349/2495 [05:17<32:27,  1.10it/s]\u001b[A\n",
      " 14%|█▍        | 350/2495 [05:18<32:26,  1.10it/s]\u001b[A\n",
      " 14%|█▍        | 351/2495 [05:19<32:26,  1.10it/s]\u001b[A\n",
      " 14%|█▍        | 352/2495 [05:20<32:28,  1.10it/s]\u001b[A\n",
      " 14%|█▍        | 353/2495 [05:20<32:31,  1.10it/s]\u001b[A\n",
      " 14%|█▍        | 354/2495 [05:22<36:10,  1.01s/it]\u001b[A\n",
      " 14%|█▍        | 355/2495 [05:23<34:59,  1.02it/s]\u001b[A\n",
      " 14%|█▍        | 356/2495 [05:24<34:07,  1.04it/s]\u001b[A\n",
      " 14%|█▍        | 357/2495 [05:24<33:30,  1.06it/s]\u001b[A\n",
      " 14%|█▍        | 358/2495 [05:25<33:04,  1.08it/s]\u001b[A\n",
      " 14%|█▍        | 359/2495 [05:26<32:47,  1.09it/s]\u001b[A\n",
      " 14%|█▍        | 360/2495 [05:27<32:43,  1.09it/s]\u001b[A\n",
      " 14%|█▍        | 361/2495 [05:28<32:36,  1.09it/s]\u001b[A\n",
      " 15%|█▍        | 362/2495 [05:29<32:32,  1.09it/s]\u001b[A\n",
      " 15%|█▍        | 363/2495 [05:30<32:28,  1.09it/s]\u001b[A\n",
      " 15%|█▍        | 364/2495 [05:31<32:22,  1.10it/s]\u001b[A\n",
      " 15%|█▍        | 365/2495 [05:32<32:19,  1.10it/s]\u001b[A\n",
      " 15%|█▍        | 366/2495 [05:33<32:22,  1.10it/s]\u001b[A\n",
      " 15%|█▍        | 367/2495 [05:34<32:20,  1.10it/s]\u001b[A\n",
      " 15%|█▍        | 368/2495 [05:34<32:21,  1.10it/s]\u001b[A\n",
      " 15%|█▍        | 369/2495 [05:35<32:23,  1.09it/s]\u001b[A\n",
      " 15%|█▍        | 370/2495 [05:36<32:18,  1.10it/s]\u001b[A\n",
      " 15%|█▍        | 371/2495 [05:37<32:12,  1.10it/s]\u001b[A\n",
      " 15%|█▍        | 372/2495 [05:38<32:24,  1.09it/s]\u001b[A\n",
      " 15%|█▍        | 373/2495 [05:39<32:19,  1.09it/s]\u001b[A\n",
      " 15%|█▍        | 374/2495 [05:40<32:13,  1.10it/s]\u001b[A\n",
      " 15%|█▌        | 375/2495 [05:41<32:07,  1.10it/s]\u001b[A\n",
      " 15%|█▌        | 376/2495 [05:42<32:16,  1.09it/s]\u001b[A\n",
      " 15%|█▌        | 377/2495 [05:43<32:14,  1.09it/s]\u001b[A\n",
      " 15%|█▌        | 378/2495 [05:44<32:06,  1.10it/s]\u001b[A\n",
      " 15%|█▌        | 379/2495 [05:44<31:59,  1.10it/s]\u001b[A\n",
      " 15%|█▌        | 380/2495 [05:45<31:53,  1.11it/s]\u001b[A\n",
      " 15%|█▌        | 381/2495 [05:46<31:50,  1.11it/s]\u001b[A\n",
      " 15%|█▌        | 382/2495 [05:47<32:43,  1.08it/s]\u001b[A\n",
      " 15%|█▌        | 383/2495 [05:48<32:20,  1.09it/s]\u001b[A\n",
      " 15%|█▌        | 384/2495 [05:49<32:00,  1.10it/s]\u001b[A\n",
      " 15%|█▌        | 385/2495 [05:50<31:48,  1.11it/s]\u001b[A\n",
      " 15%|█▌        | 386/2495 [05:51<31:40,  1.11it/s]\u001b[A\n",
      " 16%|█▌        | 387/2495 [05:52<31:31,  1.11it/s]\u001b[A\n",
      " 16%|█▌        | 388/2495 [05:53<31:24,  1.12it/s]\u001b[A\n",
      " 16%|█▌        | 389/2495 [05:53<31:20,  1.12it/s]\u001b[A\n",
      " 16%|█▌        | 390/2495 [05:54<31:19,  1.12it/s]\u001b[A\n",
      " 16%|█▌        | 391/2495 [05:55<31:19,  1.12it/s]\u001b[A\n",
      " 16%|█▌        | 392/2495 [05:56<31:18,  1.12it/s]\u001b[A\n",
      " 16%|█▌        | 393/2495 [05:57<31:17,  1.12it/s]\u001b[A\n",
      " 16%|█▌        | 394/2495 [05:58<31:19,  1.12it/s]\u001b[A\n",
      " 16%|█▌        | 395/2495 [05:59<31:15,  1.12it/s]\u001b[A\n",
      " 16%|█▌        | 396/2495 [06:00<31:13,  1.12it/s]\u001b[A\n",
      " 16%|█▌        | 397/2495 [06:01<31:10,  1.12it/s]\u001b[A\n",
      " 16%|█▌        | 398/2495 [06:02<31:13,  1.12it/s]\u001b[A\n",
      " 16%|█▌        | 399/2495 [06:02<31:09,  1.12it/s]\u001b[A\n",
      " 16%|█▌        | 400/2495 [06:03<31:09,  1.12it/s]\u001b[A\n",
      " 16%|█▌        | 401/2495 [06:04<31:04,  1.12it/s]\u001b[A\n",
      " 16%|█▌        | 402/2495 [06:05<31:02,  1.12it/s]\u001b[A\n",
      " 16%|█▌        | 403/2495 [06:06<31:01,  1.12it/s]\u001b[A\n",
      " 16%|█▌        | 404/2495 [06:07<31:01,  1.12it/s]\u001b[A\n",
      " 16%|█▌        | 405/2495 [06:08<31:02,  1.12it/s]\u001b[A\n",
      " 16%|█▋        | 406/2495 [06:09<31:01,  1.12it/s]\u001b[A\n",
      " 16%|█▋        | 407/2495 [06:10<33:32,  1.04it/s]\u001b[A\n",
      " 16%|█▋        | 408/2495 [06:11<33:33,  1.04it/s]\u001b[A\n",
      " 16%|█▋        | 409/2495 [06:12<34:05,  1.02it/s]\u001b[A\n",
      " 16%|█▋        | 410/2495 [06:13<33:39,  1.03it/s]\u001b[A\n",
      " 16%|█▋        | 411/2495 [06:14<33:07,  1.05it/s]\u001b[A\n",
      " 17%|█▋        | 412/2495 [06:15<32:42,  1.06it/s]\u001b[A\n",
      " 17%|█▋        | 413/2495 [06:15<32:35,  1.06it/s]\u001b[A\n",
      " 17%|█▋        | 414/2495 [06:16<32:23,  1.07it/s]\u001b[A\n",
      " 17%|█▋        | 415/2495 [06:17<32:14,  1.08it/s]\u001b[A\n",
      " 17%|█▋        | 416/2495 [06:18<32:03,  1.08it/s]\u001b[A\n",
      " 17%|█▋        | 417/2495 [06:19<31:55,  1.09it/s]\u001b[A\n",
      " 17%|█▋        | 418/2495 [06:20<31:50,  1.09it/s]\u001b[A\n",
      " 17%|█▋        | 419/2495 [06:21<31:50,  1.09it/s]\u001b[A\n",
      " 17%|█▋        | 420/2495 [06:22<31:50,  1.09it/s]\u001b[A\n",
      " 17%|█▋        | 421/2495 [06:23<31:36,  1.09it/s]\u001b[A\n",
      " 17%|█▋        | 422/2495 [06:24<31:30,  1.10it/s]\u001b[A\n",
      " 17%|█▋        | 423/2495 [06:25<31:27,  1.10it/s]\u001b[A\n",
      " 17%|█▋        | 424/2495 [06:26<31:21,  1.10it/s]\u001b[A\n",
      " 17%|█▋        | 425/2495 [06:26<31:24,  1.10it/s]\u001b[A\n",
      " 17%|█▋        | 426/2495 [06:27<31:27,  1.10it/s]\u001b[A\n",
      " 17%|█▋        | 427/2495 [06:28<31:31,  1.09it/s]\u001b[A\n",
      " 17%|█▋        | 428/2495 [06:29<31:31,  1.09it/s]\u001b[A\n",
      " 17%|█▋        | 429/2495 [06:30<31:31,  1.09it/s]\u001b[A\n",
      " 17%|█▋        | 430/2495 [06:31<31:27,  1.09it/s]\u001b[A\n",
      " 17%|█▋        | 431/2495 [06:32<31:15,  1.10it/s]\u001b[A\n",
      " 17%|█▋        | 432/2495 [06:33<31:12,  1.10it/s]\u001b[A\n",
      " 17%|█▋        | 433/2495 [06:34<31:09,  1.10it/s]\u001b[A\n",
      " 17%|█▋        | 434/2495 [06:35<31:05,  1.10it/s]\u001b[A\n",
      " 17%|█▋        | 435/2495 [06:36<31:02,  1.11it/s]\u001b[A\n",
      " 17%|█▋        | 436/2495 [06:36<31:06,  1.10it/s]\u001b[A\n",
      " 18%|█▊        | 437/2495 [06:37<32:16,  1.06it/s]\u001b[A\n",
      " 18%|█▊        | 438/2495 [06:38<31:54,  1.07it/s]\u001b[A\n",
      " 18%|█▊        | 439/2495 [06:39<31:44,  1.08it/s]\u001b[A\n",
      " 18%|█▊        | 440/2495 [06:40<31:33,  1.09it/s]\u001b[A\n",
      " 18%|█▊        | 441/2495 [06:41<31:23,  1.09it/s]\u001b[A\n",
      " 18%|█▊        | 442/2495 [06:42<31:16,  1.09it/s]\u001b[A\n",
      " 18%|█▊        | 443/2495 [06:43<31:23,  1.09it/s]\u001b[A\n",
      " 18%|█▊        | 444/2495 [06:44<31:39,  1.08it/s]\u001b[A\n",
      " 18%|█▊        | 445/2495 [06:45<31:33,  1.08it/s]\u001b[A\n",
      " 18%|█▊        | 446/2495 [06:46<31:43,  1.08it/s]\u001b[A\n",
      " 18%|█▊        | 447/2495 [06:47<31:37,  1.08it/s]\u001b[A\n",
      " 18%|█▊        | 448/2495 [06:48<31:38,  1.08it/s]\u001b[A\n",
      " 18%|█▊        | 449/2495 [06:48<31:27,  1.08it/s]\u001b[A\n",
      " 18%|█▊        | 450/2495 [06:49<31:12,  1.09it/s]\u001b[A\n",
      " 18%|█▊        | 451/2495 [06:50<31:02,  1.10it/s]\u001b[A\n",
      " 18%|█▊        | 452/2495 [06:51<31:01,  1.10it/s]\u001b[A\n",
      " 18%|█▊        | 453/2495 [06:52<30:52,  1.10it/s]\u001b[A\n",
      " 18%|█▊        | 454/2495 [06:53<30:48,  1.10it/s]\u001b[A\n",
      " 18%|█▊        | 455/2495 [06:54<30:44,  1.11it/s]\u001b[A\n",
      " 18%|█▊        | 456/2495 [06:55<30:46,  1.10it/s]\u001b[A\n",
      " 18%|█▊        | 457/2495 [06:56<30:37,  1.11it/s]\u001b[A\n",
      " 18%|█▊        | 458/2495 [06:57<30:33,  1.11it/s]\u001b[A\n",
      " 18%|█▊        | 459/2495 [06:58<30:30,  1.11it/s]\u001b[A\n",
      " 18%|█▊        | 460/2495 [06:58<30:30,  1.11it/s]\u001b[A\n",
      " 18%|█▊        | 461/2495 [06:59<30:30,  1.11it/s]\u001b[A\n",
      " 19%|█▊        | 462/2495 [07:00<30:29,  1.11it/s]\u001b[A\n",
      " 19%|█▊        | 463/2495 [07:01<30:25,  1.11it/s]\u001b[A\n",
      " 19%|█▊        | 464/2495 [07:02<30:32,  1.11it/s]\u001b[A\n",
      " 19%|█▊        | 465/2495 [07:03<31:01,  1.09it/s]\u001b[A\n",
      " 19%|█▊        | 466/2495 [07:04<32:23,  1.04it/s]\u001b[A\n",
      " 19%|█▊        | 467/2495 [07:05<31:47,  1.06it/s]\u001b[A\n",
      " 19%|█▉        | 468/2495 [07:06<31:17,  1.08it/s]\u001b[A\n",
      " 19%|█▉        | 469/2495 [07:07<30:56,  1.09it/s]\u001b[A\n",
      " 19%|█▉        | 470/2495 [07:08<30:40,  1.10it/s]\u001b[A\n",
      " 19%|█▉        | 471/2495 [07:08<30:30,  1.11it/s]\u001b[A\n",
      " 19%|█▉        | 472/2495 [07:09<31:22,  1.07it/s]\u001b[A\n",
      " 19%|█▉        | 473/2495 [07:10<31:11,  1.08it/s]\u001b[A\n",
      " 19%|█▉        | 474/2495 [07:11<31:03,  1.08it/s]\u001b[A\n",
      " 19%|█▉        | 475/2495 [07:12<30:53,  1.09it/s]\u001b[A\n",
      " 19%|█▉        | 476/2495 [07:13<30:46,  1.09it/s]\u001b[A\n",
      " 19%|█▉        | 477/2495 [07:14<30:45,  1.09it/s]\u001b[A\n",
      " 19%|█▉        | 478/2495 [07:15<30:44,  1.09it/s]\u001b[A\n",
      " 19%|█▉        | 479/2495 [07:16<30:39,  1.10it/s]\u001b[A\n",
      " 19%|█▉        | 480/2495 [07:17<30:49,  1.09it/s]\u001b[A\n",
      " 19%|█▉        | 481/2495 [07:18<30:37,  1.10it/s]\u001b[A\n",
      " 19%|█▉        | 482/2495 [07:19<30:16,  1.11it/s]\u001b[A\n",
      " 19%|█▉        | 483/2495 [07:19<30:11,  1.11it/s]\u001b[A\n",
      " 19%|█▉        | 484/2495 [07:20<29:52,  1.12it/s]\u001b[A\n",
      " 19%|█▉        | 485/2495 [07:21<29:39,  1.13it/s]\u001b[A\n",
      " 19%|█▉        | 486/2495 [07:22<29:30,  1.13it/s]\u001b[A\n",
      " 20%|█▉        | 487/2495 [07:23<29:27,  1.14it/s]\u001b[A\n",
      " 20%|█▉        | 488/2495 [07:24<29:19,  1.14it/s]\u001b[A\n",
      " 20%|█▉        | 489/2495 [07:25<29:18,  1.14it/s]\u001b[A\n",
      " 20%|█▉        | 490/2495 [07:26<29:17,  1.14it/s]\u001b[A\n",
      " 20%|█▉        | 491/2495 [07:26<29:08,  1.15it/s]\u001b[A\n",
      " 20%|█▉        | 492/2495 [07:27<29:05,  1.15it/s]\u001b[A\n",
      " 20%|█▉        | 493/2495 [07:28<29:03,  1.15it/s]\u001b[A\n",
      " 20%|█▉        | 494/2495 [07:29<29:01,  1.15it/s]\u001b[A\n",
      " 20%|█▉        | 495/2495 [07:30<33:00,  1.01it/s]\u001b[A\n",
      " 20%|█▉        | 496/2495 [07:31<31:54,  1.04it/s]\u001b[A\n",
      " 20%|█▉        | 497/2495 [07:32<31:07,  1.07it/s]\u001b[A\n",
      " 20%|█▉        | 498/2495 [07:33<30:32,  1.09it/s]\u001b[A\n",
      " 20%|██        | 499/2495 [07:34<30:07,  1.10it/s]\u001b[A\n",
      " 20%|██        | 500/2495 [07:35<29:52,  1.11it/s]\u001b[A\n",
      " 20%|██        | 501/2495 [07:36<29:56,  1.11it/s]\u001b[A\n",
      " 20%|██        | 502/2495 [07:37<29:59,  1.11it/s]\u001b[A\n",
      " 20%|██        | 503/2495 [07:37<30:00,  1.11it/s]\u001b[A\n",
      " 20%|██        | 504/2495 [07:38<30:07,  1.10it/s]\u001b[A\n",
      " 20%|██        | 505/2495 [07:39<29:54,  1.11it/s]\u001b[A\n",
      " 20%|██        | 506/2495 [07:40<29:52,  1.11it/s]\u001b[A\n",
      " 20%|██        | 507/2495 [07:41<29:45,  1.11it/s]\u001b[A\n",
      " 20%|██        | 508/2495 [07:42<29:36,  1.12it/s]\u001b[A\n",
      " 20%|██        | 509/2495 [07:43<29:30,  1.12it/s]\u001b[A\n",
      " 20%|██        | 510/2495 [07:44<29:32,  1.12it/s]\u001b[A\n",
      " 20%|██        | 511/2495 [07:45<29:32,  1.12it/s]\u001b[A\n",
      " 21%|██        | 512/2495 [07:45<29:29,  1.12it/s]\u001b[A\n",
      " 21%|██        | 513/2495 [07:46<29:31,  1.12it/s]\u001b[A\n",
      " 21%|██        | 514/2495 [07:47<29:37,  1.11it/s]\u001b[A\n",
      " 21%|██        | 515/2495 [07:48<29:26,  1.12it/s]\u001b[A\n",
      " 21%|██        | 516/2495 [07:49<29:25,  1.12it/s]\u001b[A\n",
      " 21%|██        | 517/2495 [07:50<29:33,  1.12it/s]\u001b[A\n",
      " 21%|██        | 518/2495 [07:51<29:32,  1.12it/s]\u001b[A\n",
      " 21%|██        | 519/2495 [07:52<29:29,  1.12it/s]\u001b[A\n",
      " 21%|██        | 520/2495 [07:53<29:28,  1.12it/s]\u001b[A\n",
      " 21%|██        | 521/2495 [07:54<29:25,  1.12it/s]\u001b[A\n",
      " 21%|██        | 522/2495 [07:54<29:22,  1.12it/s]\u001b[A\n",
      " 21%|██        | 523/2495 [07:55<29:19,  1.12it/s]\u001b[A\n",
      " 21%|██        | 524/2495 [07:56<30:19,  1.08it/s]\u001b[A\n",
      " 21%|██        | 525/2495 [07:57<29:57,  1.10it/s]\u001b[A\n",
      " 21%|██        | 526/2495 [07:58<29:47,  1.10it/s]\u001b[A\n",
      " 21%|██        | 527/2495 [07:59<29:35,  1.11it/s]\u001b[A\n",
      " 21%|██        | 528/2495 [08:00<29:26,  1.11it/s]\u001b[A\n",
      " 21%|██        | 529/2495 [08:01<29:15,  1.12it/s]\u001b[A\n",
      " 21%|██        | 530/2495 [08:02<29:12,  1.12it/s]\u001b[A\n",
      " 21%|██▏       | 531/2495 [08:03<29:14,  1.12it/s]\u001b[A\n",
      " 21%|██▏       | 532/2495 [08:03<29:13,  1.12it/s]\u001b[A\n",
      " 21%|██▏       | 533/2495 [08:04<29:11,  1.12it/s]\u001b[A\n",
      " 21%|██▏       | 534/2495 [08:05<29:16,  1.12it/s]\u001b[A\n",
      " 21%|██▏       | 535/2495 [08:06<29:14,  1.12it/s]\u001b[A\n",
      " 21%|██▏       | 536/2495 [08:07<29:09,  1.12it/s]\u001b[A\n",
      " 22%|██▏       | 537/2495 [08:08<29:04,  1.12it/s]\u001b[A\n",
      " 22%|██▏       | 538/2495 [08:09<29:08,  1.12it/s]\u001b[A\n",
      " 22%|██▏       | 539/2495 [08:10<29:09,  1.12it/s]\u001b[A\n",
      " 22%|██▏       | 540/2495 [08:11<29:06,  1.12it/s]\u001b[A\n",
      " 22%|██▏       | 541/2495 [08:11<29:05,  1.12it/s]\u001b[A\n",
      " 22%|██▏       | 542/2495 [08:12<29:02,  1.12it/s]\u001b[A\n",
      " 22%|██▏       | 543/2495 [08:13<29:03,  1.12it/s]\u001b[A\n",
      " 22%|██▏       | 544/2495 [08:14<29:03,  1.12it/s]\u001b[A\n",
      " 22%|██▏       | 545/2495 [08:15<28:57,  1.12it/s]\u001b[A\n",
      " 22%|██▏       | 546/2495 [08:16<28:50,  1.13it/s]\u001b[A\n",
      " 22%|██▏       | 547/2495 [08:17<28:52,  1.12it/s]\u001b[A\n",
      " 22%|██▏       | 548/2495 [08:18<28:48,  1.13it/s]\u001b[A\n",
      " 22%|██▏       | 549/2495 [08:19<28:47,  1.13it/s]\u001b[A\n",
      " 22%|██▏       | 550/2495 [08:19<28:43,  1.13it/s]\u001b[A\n",
      " 22%|██▏       | 551/2495 [08:20<28:42,  1.13it/s]\u001b[A\n",
      " 22%|██▏       | 552/2495 [08:21<28:51,  1.12it/s]\u001b[A\n",
      " 22%|██▏       | 553/2495 [08:22<29:46,  1.09it/s]\u001b[A\n",
      " 22%|██▏       | 554/2495 [08:23<29:23,  1.10it/s]\u001b[A\n",
      " 22%|██▏       | 555/2495 [08:24<29:07,  1.11it/s]\u001b[A\n",
      " 22%|██▏       | 556/2495 [08:25<29:10,  1.11it/s]\u001b[A\n",
      " 22%|██▏       | 557/2495 [08:26<28:55,  1.12it/s]\u001b[A\n",
      " 22%|██▏       | 558/2495 [08:27<28:43,  1.12it/s]\u001b[A\n",
      " 22%|██▏       | 559/2495 [08:28<28:41,  1.12it/s]\u001b[A\n",
      " 22%|██▏       | 560/2495 [08:28<28:41,  1.12it/s]\u001b[A\n",
      " 22%|██▏       | 561/2495 [08:29<28:35,  1.13it/s]\u001b[A\n",
      " 23%|██▎       | 562/2495 [08:30<28:34,  1.13it/s]\u001b[A\n",
      " 23%|██▎       | 563/2495 [08:31<28:35,  1.13it/s]\u001b[A\n",
      " 23%|██▎       | 564/2495 [08:32<28:41,  1.12it/s]\u001b[A\n",
      " 23%|██▎       | 565/2495 [08:33<28:38,  1.12it/s]\u001b[A\n",
      " 23%|██▎       | 566/2495 [08:34<28:33,  1.13it/s]\u001b[A\n",
      " 23%|██▎       | 567/2495 [08:35<28:32,  1.13it/s]\u001b[A\n",
      " 23%|██▎       | 568/2495 [08:36<28:30,  1.13it/s]\u001b[A\n",
      " 23%|██▎       | 569/2495 [08:36<28:33,  1.12it/s]\u001b[A\n",
      " 23%|██▎       | 570/2495 [08:37<28:32,  1.12it/s]\u001b[A\n",
      " 23%|██▎       | 571/2495 [08:38<28:29,  1.13it/s]\u001b[A\n",
      " 23%|██▎       | 572/2495 [08:39<28:35,  1.12it/s]\u001b[A\n",
      " 23%|██▎       | 573/2495 [08:40<28:33,  1.12it/s]\u001b[A\n",
      " 23%|██▎       | 574/2495 [08:41<28:34,  1.12it/s]\u001b[A\n",
      " 23%|██▎       | 575/2495 [08:42<28:35,  1.12it/s]\u001b[A\n",
      " 23%|██▎       | 576/2495 [08:43<28:34,  1.12it/s]\u001b[A\n",
      " 23%|██▎       | 577/2495 [08:44<28:36,  1.12it/s]\u001b[A\n",
      " 23%|██▎       | 578/2495 [08:44<28:35,  1.12it/s]\u001b[A\n",
      " 23%|██▎       | 579/2495 [08:45<28:32,  1.12it/s]\u001b[A\n",
      " 23%|██▎       | 580/2495 [08:46<28:32,  1.12it/s]\u001b[A\n",
      " 23%|██▎       | 581/2495 [08:47<28:28,  1.12it/s]\u001b[A\n",
      " 23%|██▎       | 582/2495 [08:48<29:29,  1.08it/s]\u001b[A\n",
      " 23%|██▎       | 583/2495 [08:49<29:09,  1.09it/s]\u001b[A\n",
      " 23%|██▎       | 584/2495 [08:50<28:58,  1.10it/s]\u001b[A\n",
      " 23%|██▎       | 585/2495 [08:51<28:47,  1.11it/s]\u001b[A\n",
      " 23%|██▎       | 586/2495 [08:52<28:38,  1.11it/s]\u001b[A\n",
      " 24%|██▎       | 587/2495 [08:53<28:33,  1.11it/s]\u001b[A\n",
      " 24%|██▎       | 588/2495 [08:54<28:27,  1.12it/s]\u001b[A\n",
      " 24%|██▎       | 589/2495 [08:54<28:35,  1.11it/s]\u001b[A\n",
      " 24%|██▎       | 590/2495 [08:55<28:30,  1.11it/s]\u001b[A\n",
      " 24%|██▎       | 591/2495 [08:56<28:23,  1.12it/s]\u001b[A\n",
      " 24%|██▎       | 592/2495 [08:57<28:37,  1.11it/s]\u001b[A\n",
      " 24%|██▍       | 593/2495 [08:58<28:36,  1.11it/s]\u001b[A\n",
      " 24%|██▍       | 594/2495 [08:59<28:26,  1.11it/s]\u001b[A\n",
      " 24%|██▍       | 595/2495 [09:00<28:21,  1.12it/s]\u001b[A\n",
      " 24%|██▍       | 596/2495 [09:01<28:20,  1.12it/s]\u001b[A\n",
      " 24%|██▍       | 597/2495 [09:02<28:19,  1.12it/s]\u001b[A\n",
      " 24%|██▍       | 598/2495 [09:02<28:17,  1.12it/s]\u001b[A\n",
      " 24%|██▍       | 599/2495 [09:03<28:57,  1.09it/s]\u001b[A\n",
      " 24%|██▍       | 600/2495 [09:04<28:50,  1.09it/s]\u001b[A\n",
      " 24%|██▍       | 601/2495 [09:05<28:40,  1.10it/s]\u001b[A\n",
      " 24%|██▍       | 602/2495 [09:06<28:32,  1.11it/s]\u001b[A\n",
      " 24%|██▍       | 603/2495 [09:07<28:22,  1.11it/s]\u001b[A\n",
      " 24%|██▍       | 604/2495 [09:08<28:16,  1.11it/s]\u001b[A\n",
      " 24%|██▍       | 605/2495 [09:09<28:14,  1.12it/s]\u001b[A\n"
     ]
    },
    {
     "name": "stderr",
     "output_type": "stream",
     "text": [
      " 24%|██▍       | 606/2495 [09:10<28:09,  1.12it/s]\u001b[A\n",
      " 24%|██▍       | 607/2495 [09:11<28:09,  1.12it/s]\u001b[A\n",
      " 24%|██▍       | 608/2495 [09:12<28:07,  1.12it/s]\u001b[A\n",
      " 24%|██▍       | 609/2495 [09:13<29:33,  1.06it/s]\u001b[A\n",
      " 24%|██▍       | 610/2495 [09:13<29:19,  1.07it/s]\u001b[A\n",
      " 24%|██▍       | 611/2495 [09:14<29:55,  1.05it/s]\u001b[A\n",
      " 25%|██▍       | 612/2495 [09:15<29:18,  1.07it/s]\u001b[A\n",
      " 25%|██▍       | 613/2495 [09:16<28:54,  1.08it/s]\u001b[A\n",
      " 25%|██▍       | 614/2495 [09:17<28:31,  1.10it/s]\u001b[A\n",
      " 25%|██▍       | 615/2495 [09:18<30:21,  1.03it/s]\u001b[A\n",
      " 25%|██▍       | 616/2495 [09:19<30:24,  1.03it/s]\u001b[A\n",
      " 25%|██▍       | 617/2495 [09:20<30:01,  1.04it/s]\u001b[A\n",
      " 25%|██▍       | 618/2495 [09:21<29:46,  1.05it/s]\u001b[A\n",
      " 25%|██▍       | 619/2495 [09:22<29:30,  1.06it/s]\u001b[A\n",
      " 25%|██▍       | 620/2495 [09:23<29:11,  1.07it/s]\u001b[A\n",
      " 25%|██▍       | 621/2495 [09:24<29:00,  1.08it/s]\u001b[A\n",
      " 25%|██▍       | 622/2495 [09:25<28:50,  1.08it/s]\u001b[A\n",
      " 25%|██▍       | 623/2495 [09:26<28:45,  1.08it/s]\u001b[A\n",
      " 25%|██▌       | 624/2495 [09:27<28:41,  1.09it/s]\u001b[A\n",
      " 25%|██▌       | 625/2495 [09:28<28:45,  1.08it/s]\u001b[A\n",
      " 25%|██▌       | 626/2495 [09:28<28:48,  1.08it/s]\u001b[A\n",
      " 25%|██▌       | 627/2495 [09:29<28:51,  1.08it/s]\u001b[A\n",
      " 25%|██▌       | 628/2495 [09:30<28:55,  1.08it/s]\u001b[A\n",
      " 25%|██▌       | 629/2495 [09:31<28:42,  1.08it/s]\u001b[A\n",
      " 25%|██▌       | 630/2495 [09:32<28:51,  1.08it/s]\u001b[A\n",
      " 25%|██▌       | 631/2495 [09:33<28:42,  1.08it/s]\u001b[A\n",
      " 25%|██▌       | 632/2495 [09:34<28:33,  1.09it/s]\u001b[A\n",
      " 25%|██▌       | 633/2495 [09:35<28:27,  1.09it/s]\u001b[A\n",
      " 25%|██▌       | 634/2495 [09:36<28:24,  1.09it/s]\u001b[A\n",
      " 25%|██▌       | 635/2495 [09:37<28:19,  1.09it/s]\u001b[A\n",
      " 25%|██▌       | 636/2495 [09:38<28:18,  1.09it/s]\u001b[A\n",
      " 26%|██▌       | 637/2495 [09:39<28:20,  1.09it/s]\u001b[A\n",
      " 26%|██▌       | 638/2495 [09:39<28:21,  1.09it/s]\u001b[A\n",
      " 26%|██▌       | 639/2495 [09:40<28:26,  1.09it/s]\u001b[A\n",
      " 26%|██▌       | 640/2495 [09:41<29:28,  1.05it/s]\u001b[A\n",
      " 26%|██▌       | 641/2495 [09:42<29:11,  1.06it/s]\u001b[A\n",
      " 26%|██▌       | 642/2495 [09:43<28:56,  1.07it/s]\u001b[A\n",
      " 26%|██▌       | 643/2495 [09:44<28:59,  1.06it/s]\u001b[A\n",
      " 26%|██▌       | 644/2495 [09:45<28:47,  1.07it/s]\u001b[A\n",
      " 26%|██▌       | 645/2495 [09:46<28:53,  1.07it/s]\u001b[A\n",
      " 26%|██▌       | 646/2495 [09:47<28:46,  1.07it/s]\u001b[A\n",
      " 26%|██▌       | 647/2495 [09:48<28:44,  1.07it/s]\u001b[A\n",
      " 26%|██▌       | 648/2495 [09:49<28:27,  1.08it/s]\u001b[A\n",
      " 26%|██▌       | 649/2495 [09:50<28:13,  1.09it/s]\u001b[A\n",
      " 26%|██▌       | 650/2495 [09:51<28:05,  1.09it/s]\u001b[A\n",
      " 26%|██▌       | 651/2495 [09:52<28:01,  1.10it/s]\u001b[A\n",
      " 26%|██▌       | 652/2495 [09:52<27:56,  1.10it/s]\u001b[A\n",
      " 26%|██▌       | 653/2495 [09:53<27:53,  1.10it/s]\u001b[A\n",
      " 26%|██▌       | 654/2495 [09:54<27:51,  1.10it/s]\u001b[A\n",
      " 26%|██▋       | 655/2495 [09:55<27:46,  1.10it/s]\u001b[A\n",
      " 26%|██▋       | 656/2495 [09:56<27:38,  1.11it/s]\u001b[A\n",
      " 26%|██▋       | 657/2495 [09:57<27:35,  1.11it/s]\u001b[A\n",
      " 26%|██▋       | 658/2495 [09:58<27:37,  1.11it/s]\u001b[A\n",
      " 26%|██▋       | 659/2495 [09:59<27:42,  1.10it/s]\u001b[A\n",
      " 26%|██▋       | 660/2495 [10:00<27:40,  1.11it/s]\u001b[A\n",
      " 26%|██▋       | 661/2495 [10:01<27:37,  1.11it/s]\u001b[A\n",
      " 27%|██▋       | 662/2495 [10:01<27:34,  1.11it/s]\u001b[A\n",
      " 27%|██▋       | 663/2495 [10:02<27:37,  1.11it/s]\u001b[A\n",
      " 27%|██▋       | 664/2495 [10:03<27:33,  1.11it/s]\u001b[A\n",
      " 27%|██▋       | 665/2495 [10:04<27:28,  1.11it/s]\u001b[A\n",
      " 27%|██▋       | 666/2495 [10:05<27:29,  1.11it/s]\u001b[A\n",
      " 27%|██▋       | 667/2495 [10:06<27:29,  1.11it/s]\u001b[A\n",
      " 27%|██▋       | 668/2495 [10:07<27:32,  1.11it/s]\u001b[A\n",
      " 27%|██▋       | 669/2495 [10:08<28:34,  1.07it/s]\u001b[A\n",
      " 27%|██▋       | 670/2495 [10:09<28:14,  1.08it/s]\u001b[A\n",
      " 27%|██▋       | 671/2495 [10:10<28:12,  1.08it/s]\u001b[A\n",
      " 27%|██▋       | 672/2495 [10:11<27:59,  1.09it/s]\u001b[A\n",
      " 27%|██▋       | 673/2495 [10:12<28:00,  1.08it/s]\u001b[A\n",
      " 27%|██▋       | 674/2495 [10:13<27:50,  1.09it/s]\u001b[A\n",
      " 27%|██▋       | 675/2495 [10:13<27:43,  1.09it/s]\u001b[A\n",
      " 27%|██▋       | 676/2495 [10:14<27:37,  1.10it/s]\u001b[A\n",
      " 27%|██▋       | 677/2495 [10:15<27:34,  1.10it/s]\u001b[A\n",
      " 27%|██▋       | 678/2495 [10:16<27:30,  1.10it/s]\u001b[A\n",
      " 27%|██▋       | 679/2495 [10:17<27:22,  1.11it/s]\u001b[A\n",
      " 27%|██▋       | 680/2495 [10:18<27:20,  1.11it/s]\u001b[A\n",
      " 27%|██▋       | 681/2495 [10:19<27:13,  1.11it/s]\u001b[A\n",
      " 27%|██▋       | 682/2495 [10:20<27:23,  1.10it/s]\u001b[A\n",
      " 27%|██▋       | 683/2495 [10:21<27:30,  1.10it/s]\u001b[A\n",
      " 27%|██▋       | 684/2495 [10:22<27:42,  1.09it/s]\u001b[A\n",
      " 27%|██▋       | 685/2495 [10:23<27:43,  1.09it/s]\u001b[A\n",
      " 27%|██▋       | 686/2495 [10:23<27:42,  1.09it/s]\u001b[A\n",
      " 28%|██▊       | 687/2495 [10:24<27:42,  1.09it/s]\u001b[A\n",
      " 28%|██▊       | 688/2495 [10:25<27:46,  1.08it/s]\u001b[A\n",
      " 28%|██▊       | 689/2495 [10:26<27:47,  1.08it/s]\u001b[A\n",
      " 28%|██▊       | 690/2495 [10:27<27:44,  1.08it/s]\u001b[A\n",
      " 28%|██▊       | 691/2495 [10:28<27:45,  1.08it/s]\u001b[A\n",
      " 28%|██▊       | 692/2495 [10:29<27:47,  1.08it/s]\u001b[A\n",
      " 28%|██▊       | 693/2495 [10:30<27:46,  1.08it/s]\u001b[A\n",
      " 28%|██▊       | 694/2495 [10:31<27:46,  1.08it/s]\u001b[A\n",
      " 28%|██▊       | 695/2495 [10:32<27:43,  1.08it/s]\u001b[A\n",
      " 28%|██▊       | 696/2495 [10:33<27:41,  1.08it/s]\u001b[A\n",
      " 28%|██▊       | 697/2495 [10:34<28:10,  1.06it/s]\u001b[A\n",
      " 28%|██▊       | 698/2495 [10:35<27:58,  1.07it/s]\u001b[A\n",
      " 28%|██▊       | 699/2495 [10:36<28:47,  1.04it/s]\u001b[A\n",
      " 28%|██▊       | 700/2495 [10:37<28:22,  1.05it/s]\u001b[A\n",
      " 28%|██▊       | 701/2495 [10:37<28:02,  1.07it/s]\u001b[A\n",
      " 28%|██▊       | 702/2495 [10:38<27:52,  1.07it/s]\u001b[A\n",
      " 28%|██▊       | 703/2495 [10:39<27:39,  1.08it/s]\u001b[A\n",
      " 28%|██▊       | 704/2495 [10:40<27:47,  1.07it/s]\u001b[A\n",
      " 28%|██▊       | 705/2495 [10:41<27:32,  1.08it/s]\u001b[A\n",
      " 28%|██▊       | 706/2495 [10:42<27:40,  1.08it/s]\u001b[A\n",
      " 28%|██▊       | 707/2495 [10:43<27:47,  1.07it/s]\u001b[A\n",
      " 28%|██▊       | 708/2495 [10:44<27:30,  1.08it/s]\u001b[A\n",
      " 28%|██▊       | 709/2495 [10:45<27:21,  1.09it/s]\u001b[A\n",
      " 28%|██▊       | 710/2495 [10:46<27:12,  1.09it/s]\u001b[A\n",
      " 28%|██▊       | 711/2495 [10:47<26:58,  1.10it/s]\u001b[A\n",
      " 29%|██▊       | 712/2495 [10:48<26:57,  1.10it/s]\u001b[A\n",
      " 29%|██▊       | 713/2495 [10:48<26:58,  1.10it/s]\u001b[A\n",
      " 29%|██▊       | 714/2495 [10:49<26:58,  1.10it/s]\u001b[A\n",
      " 29%|██▊       | 715/2495 [10:50<26:56,  1.10it/s]\u001b[A\n",
      " 29%|██▊       | 716/2495 [10:51<27:01,  1.10it/s]\u001b[A\n",
      " 29%|██▊       | 717/2495 [10:52<26:51,  1.10it/s]\u001b[A\n",
      " 29%|██▉       | 718/2495 [10:53<26:45,  1.11it/s]\u001b[A\n",
      " 29%|██▉       | 719/2495 [10:54<26:45,  1.11it/s]\u001b[A\n",
      " 29%|██▉       | 720/2495 [10:55<26:42,  1.11it/s]\u001b[A\n",
      " 29%|██▉       | 721/2495 [10:56<26:44,  1.11it/s]\u001b[A\n",
      " 29%|██▉       | 722/2495 [10:57<26:42,  1.11it/s]\u001b[A\n",
      " 29%|██▉       | 723/2495 [10:57<26:38,  1.11it/s]\u001b[A\n",
      " 29%|██▉       | 724/2495 [10:58<26:35,  1.11it/s]\u001b[A\n",
      " 29%|██▉       | 725/2495 [10:59<26:39,  1.11it/s]\u001b[A\n",
      " 29%|██▉       | 726/2495 [11:00<26:34,  1.11it/s]\u001b[A\n",
      " 29%|██▉       | 727/2495 [11:01<26:31,  1.11it/s]\u001b[A\n",
      " 29%|██▉       | 728/2495 [11:02<27:30,  1.07it/s]\u001b[A\n",
      " 29%|██▉       | 729/2495 [11:03<29:14,  1.01it/s]\u001b[A\n",
      " 29%|██▉       | 730/2495 [11:04<29:24,  1.00it/s]\u001b[A\n",
      " 29%|██▉       | 731/2495 [11:05<28:41,  1.02it/s]\u001b[A\n",
      " 29%|██▉       | 732/2495 [11:06<29:47,  1.01s/it]\u001b[A\n",
      " 29%|██▉       | 733/2495 [11:07<29:16,  1.00it/s]\u001b[A\n",
      " 29%|██▉       | 734/2495 [11:08<30:15,  1.03s/it]\u001b[A\n",
      " 29%|██▉       | 735/2495 [11:09<30:19,  1.03s/it]\u001b[A\n",
      " 29%|██▉       | 736/2495 [11:10<29:53,  1.02s/it]\u001b[A\n",
      " 30%|██▉       | 737/2495 [11:11<29:35,  1.01s/it]\u001b[A\n",
      " 30%|██▉       | 738/2495 [11:13<33:47,  1.15s/it]\u001b[A\n",
      " 30%|██▉       | 739/2495 [11:14<33:12,  1.13s/it]\u001b[A\n",
      " 30%|██▉       | 740/2495 [11:15<31:32,  1.08s/it]\u001b[A\n",
      " 30%|██▉       | 741/2495 [11:16<30:31,  1.04s/it]\u001b[A\n",
      " 30%|██▉       | 742/2495 [11:17<29:39,  1.02s/it]\u001b[A\n",
      " 30%|██▉       | 743/2495 [11:18<29:05,  1.00it/s]\u001b[A\n",
      " 30%|██▉       | 744/2495 [11:19<28:44,  1.02it/s]\u001b[A\n",
      " 30%|██▉       | 745/2495 [11:20<29:51,  1.02s/it]\u001b[A\n",
      " 30%|██▉       | 746/2495 [11:21<28:49,  1.01it/s]\u001b[A\n",
      " 30%|██▉       | 747/2495 [11:22<28:04,  1.04it/s]\u001b[A\n",
      " 30%|██▉       | 748/2495 [11:23<27:43,  1.05it/s]\u001b[A\n",
      " 30%|███       | 749/2495 [11:23<27:17,  1.07it/s]\u001b[A\n",
      " 30%|███       | 750/2495 [11:24<27:14,  1.07it/s]\u001b[A\n",
      " 30%|███       | 751/2495 [11:25<26:52,  1.08it/s]\u001b[A\n",
      " 30%|███       | 752/2495 [11:26<26:40,  1.09it/s]\u001b[A\n",
      " 30%|███       | 753/2495 [11:27<26:30,  1.10it/s]\u001b[A\n",
      " 30%|███       | 754/2495 [11:28<26:24,  1.10it/s]\u001b[A\n",
      " 30%|███       | 755/2495 [11:29<26:16,  1.10it/s]\u001b[A\n",
      " 30%|███       | 756/2495 [11:30<26:13,  1.11it/s]\u001b[A\n",
      " 30%|███       | 757/2495 [11:31<27:12,  1.06it/s]\u001b[A\n",
      " 30%|███       | 758/2495 [11:32<26:54,  1.08it/s]\u001b[A\n",
      " 30%|███       | 759/2495 [11:33<26:54,  1.08it/s]\u001b[A\n",
      " 30%|███       | 760/2495 [11:34<26:58,  1.07it/s]\u001b[A\n",
      " 31%|███       | 761/2495 [11:35<27:31,  1.05it/s]\u001b[A\n",
      " 31%|███       | 762/2495 [11:36<27:39,  1.04it/s]\u001b[A\n",
      " 31%|███       | 763/2495 [11:36<27:34,  1.05it/s]\u001b[A\n",
      " 31%|███       | 764/2495 [11:37<27:15,  1.06it/s]\u001b[A\n",
      " 31%|███       | 765/2495 [11:38<27:05,  1.06it/s]\u001b[A\n",
      " 31%|███       | 766/2495 [11:40<29:38,  1.03s/it]\u001b[A\n",
      " 31%|███       | 767/2495 [11:41<29:07,  1.01s/it]\u001b[A\n",
      " 31%|███       | 768/2495 [11:41<28:15,  1.02it/s]\u001b[A\n",
      " 31%|███       | 769/2495 [11:42<27:38,  1.04it/s]\u001b[A\n",
      " 31%|███       | 770/2495 [11:43<27:21,  1.05it/s]\u001b[A\n",
      " 31%|███       | 771/2495 [11:44<27:09,  1.06it/s]\u001b[A\n",
      " 31%|███       | 772/2495 [11:45<26:57,  1.07it/s]\u001b[A\n",
      " 31%|███       | 773/2495 [11:46<26:46,  1.07it/s]\u001b[A\n",
      " 31%|███       | 774/2495 [11:47<26:27,  1.08it/s]\u001b[A\n",
      " 31%|███       | 775/2495 [11:48<26:30,  1.08it/s]\u001b[A\n",
      " 31%|███       | 776/2495 [11:49<26:18,  1.09it/s]\u001b[A\n",
      " 31%|███       | 777/2495 [11:50<26:11,  1.09it/s]\u001b[A\n",
      " 31%|███       | 778/2495 [11:51<26:12,  1.09it/s]\u001b[A\n",
      " 31%|███       | 779/2495 [11:52<26:06,  1.10it/s]\u001b[A\n",
      " 31%|███▏      | 780/2495 [11:52<26:03,  1.10it/s]\u001b[A\n",
      " 31%|███▏      | 781/2495 [11:53<25:57,  1.10it/s]\u001b[A\n",
      " 31%|███▏      | 782/2495 [11:54<26:09,  1.09it/s]\u001b[A\n",
      " 31%|███▏      | 783/2495 [11:55<26:14,  1.09it/s]\u001b[A\n",
      " 31%|███▏      | 784/2495 [11:56<26:03,  1.09it/s]\u001b[A\n",
      " 31%|███▏      | 785/2495 [11:57<25:53,  1.10it/s]\u001b[A\n",
      " 32%|███▏      | 786/2495 [11:58<26:45,  1.06it/s]\u001b[A\n",
      " 32%|███▏      | 787/2495 [11:59<26:24,  1.08it/s]\u001b[A\n",
      " 32%|███▏      | 788/2495 [12:00<26:06,  1.09it/s]\u001b[A\n",
      " 32%|███▏      | 789/2495 [12:01<25:59,  1.09it/s]\u001b[A\n",
      " 32%|███▏      | 790/2495 [12:02<25:57,  1.09it/s]\u001b[A\n",
      " 32%|███▏      | 791/2495 [12:03<25:49,  1.10it/s]\u001b[A\n",
      " 32%|███▏      | 792/2495 [12:04<27:50,  1.02it/s]\u001b[A\n",
      " 32%|███▏      | 793/2495 [12:05<27:10,  1.04it/s]\u001b[A\n",
      " 32%|███▏      | 794/2495 [12:05<26:34,  1.07it/s]\u001b[A\n",
      " 32%|███▏      | 795/2495 [12:07<28:36,  1.01s/it]\u001b[A\n",
      " 32%|███▏      | 796/2495 [12:08<27:46,  1.02it/s]\u001b[A\n",
      " 32%|███▏      | 797/2495 [12:08<27:23,  1.03it/s]\u001b[A\n",
      " 32%|███▏      | 798/2495 [12:09<26:52,  1.05it/s]\u001b[A\n",
      " 32%|███▏      | 799/2495 [12:10<26:30,  1.07it/s]\u001b[A\n",
      " 32%|███▏      | 800/2495 [12:11<26:25,  1.07it/s]\u001b[A\n",
      " 32%|███▏      | 801/2495 [12:12<26:10,  1.08it/s]\u001b[A\n",
      " 32%|███▏      | 802/2495 [12:13<25:57,  1.09it/s]\u001b[A\n",
      " 32%|███▏      | 803/2495 [12:14<25:54,  1.09it/s]\u001b[A\n",
      " 32%|███▏      | 804/2495 [12:15<25:53,  1.09it/s]\u001b[A\n",
      " 32%|███▏      | 805/2495 [12:16<25:42,  1.10it/s]\u001b[A\n",
      " 32%|███▏      | 806/2495 [12:17<25:36,  1.10it/s]\u001b[A\n",
      " 32%|███▏      | 807/2495 [12:18<25:33,  1.10it/s]\u001b[A\n",
      " 32%|███▏      | 808/2495 [12:18<25:31,  1.10it/s]\u001b[A\n",
      " 32%|███▏      | 809/2495 [12:19<25:29,  1.10it/s]\u001b[A\n",
      " 32%|███▏      | 810/2495 [12:20<25:28,  1.10it/s]\u001b[A\n",
      " 33%|███▎      | 811/2495 [12:21<25:26,  1.10it/s]\u001b[A\n",
      " 33%|███▎      | 812/2495 [12:22<25:25,  1.10it/s]\u001b[A\n",
      " 33%|███▎      | 813/2495 [12:23<25:30,  1.10it/s]\u001b[A\n",
      " 33%|███▎      | 814/2495 [12:24<25:31,  1.10it/s]\u001b[A\n",
      " 33%|███▎      | 815/2495 [12:25<26:22,  1.06it/s]\u001b[A\n",
      " 33%|███▎      | 816/2495 [12:26<26:03,  1.07it/s]\u001b[A\n",
      " 33%|███▎      | 817/2495 [12:27<25:50,  1.08it/s]\u001b[A\n",
      " 33%|███▎      | 818/2495 [12:28<25:43,  1.09it/s]\u001b[A\n",
      " 33%|███▎      | 819/2495 [12:29<25:27,  1.10it/s]\u001b[A\n",
      " 33%|███▎      | 820/2495 [12:29<25:26,  1.10it/s]\u001b[A\n",
      " 33%|███▎      | 821/2495 [12:30<25:17,  1.10it/s]\u001b[A\n",
      " 33%|███▎      | 822/2495 [12:31<25:11,  1.11it/s]\u001b[A\n",
      " 33%|███▎      | 823/2495 [12:32<25:06,  1.11it/s]\u001b[A\n",
      " 33%|███▎      | 824/2495 [12:33<25:00,  1.11it/s]\u001b[A\n",
      " 33%|███▎      | 825/2495 [12:34<24:59,  1.11it/s]\u001b[A\n",
      " 33%|███▎      | 826/2495 [12:35<24:54,  1.12it/s]\u001b[A\n",
      " 33%|███▎      | 827/2495 [12:36<24:49,  1.12it/s]\u001b[A\n",
      " 33%|███▎      | 828/2495 [12:37<24:50,  1.12it/s]\u001b[A\n",
      " 33%|███▎      | 829/2495 [12:38<24:49,  1.12it/s]\u001b[A\n",
      " 33%|███▎      | 830/2495 [12:38<24:46,  1.12it/s]\u001b[A\n",
      " 33%|███▎      | 831/2495 [12:39<24:42,  1.12it/s]\u001b[A\n",
      " 33%|███▎      | 832/2495 [12:40<24:46,  1.12it/s]\u001b[A\n",
      " 33%|███▎      | 833/2495 [12:41<24:48,  1.12it/s]\u001b[A\n",
      " 33%|███▎      | 834/2495 [12:42<24:48,  1.12it/s]\u001b[A\n",
      " 33%|███▎      | 835/2495 [12:43<24:44,  1.12it/s]\u001b[A\n",
      " 34%|███▎      | 836/2495 [12:44<24:42,  1.12it/s]\u001b[A\n",
      " 34%|███▎      | 837/2495 [12:45<24:46,  1.12it/s]\u001b[A\n",
      " 34%|███▎      | 838/2495 [12:46<24:46,  1.11it/s]\u001b[A\n",
      " 34%|███▎      | 839/2495 [12:47<24:52,  1.11it/s]\u001b[A\n",
      " 34%|███▎      | 840/2495 [12:47<25:03,  1.10it/s]\u001b[A\n",
      " 34%|███▎      | 841/2495 [12:48<25:09,  1.10it/s]\u001b[A\n",
      " 34%|███▎      | 842/2495 [12:49<24:59,  1.10it/s]\u001b[A\n",
      " 34%|███▍      | 843/2495 [12:50<24:57,  1.10it/s]\u001b[A\n",
      " 34%|███▍      | 844/2495 [12:51<25:48,  1.07it/s]\u001b[A\n",
      " 34%|███▍      | 845/2495 [12:52<25:30,  1.08it/s]\u001b[A\n",
      " 34%|███▍      | 846/2495 [12:53<25:14,  1.09it/s]\u001b[A\n",
      " 34%|███▍      | 847/2495 [12:54<25:00,  1.10it/s]\u001b[A\n",
      " 34%|███▍      | 848/2495 [12:55<24:55,  1.10it/s]\u001b[A\n",
      " 34%|███▍      | 849/2495 [12:56<25:01,  1.10it/s]\u001b[A\n",
      " 34%|███▍      | 850/2495 [12:57<24:56,  1.10it/s]\u001b[A\n",
      " 34%|███▍      | 851/2495 [12:57<24:49,  1.10it/s]\u001b[A\n",
      " 34%|███▍      | 852/2495 [12:58<24:55,  1.10it/s]\u001b[A\n",
      " 34%|███▍      | 853/2495 [12:59<24:46,  1.10it/s]\u001b[A\n",
      " 34%|███▍      | 854/2495 [13:00<24:41,  1.11it/s]\u001b[A\n",
      " 34%|███▍      | 855/2495 [13:01<24:36,  1.11it/s]\u001b[A\n",
      " 34%|███▍      | 856/2495 [13:02<24:35,  1.11it/s]\u001b[A\n",
      " 34%|███▍      | 857/2495 [13:03<25:05,  1.09it/s]\u001b[A\n",
      " 34%|███▍      | 858/2495 [13:04<25:35,  1.07it/s]\u001b[A\n",
      " 34%|███▍      | 859/2495 [13:05<25:25,  1.07it/s]\u001b[A\n",
      " 34%|███▍      | 860/2495 [13:06<25:06,  1.09it/s]\u001b[A\n",
      " 35%|███▍      | 861/2495 [13:07<24:56,  1.09it/s]\u001b[A\n",
      " 35%|███▍      | 862/2495 [13:08<24:53,  1.09it/s]\u001b[A\n",
      " 35%|███▍      | 863/2495 [13:08<24:44,  1.10it/s]\u001b[A\n",
      " 35%|███▍      | 864/2495 [13:09<24:38,  1.10it/s]\u001b[A\n",
      " 35%|███▍      | 865/2495 [13:10<24:32,  1.11it/s]\u001b[A\n",
      " 35%|███▍      | 866/2495 [13:11<24:35,  1.10it/s]\u001b[A\n",
      " 35%|███▍      | 867/2495 [13:12<24:29,  1.11it/s]\u001b[A\n",
      " 35%|███▍      | 868/2495 [13:13<24:30,  1.11it/s]\u001b[A\n",
      " 35%|███▍      | 869/2495 [13:14<24:27,  1.11it/s]\u001b[A\n",
      " 35%|███▍      | 870/2495 [13:15<24:26,  1.11it/s]\u001b[A\n",
      " 35%|███▍      | 871/2495 [13:16<24:24,  1.11it/s]\u001b[A\n",
      " 35%|███▍      | 872/2495 [13:17<24:23,  1.11it/s]\u001b[A\n",
      " 35%|███▍      | 873/2495 [13:18<25:17,  1.07it/s]\u001b[A\n",
      " 35%|███▌      | 874/2495 [13:18<25:00,  1.08it/s]\u001b[A\n",
      " 35%|███▌      | 875/2495 [13:19<24:45,  1.09it/s]\u001b[A\n",
      " 35%|███▌      | 876/2495 [13:20<24:32,  1.10it/s]\u001b[A\n",
      " 35%|███▌      | 877/2495 [13:21<24:23,  1.11it/s]\u001b[A\n",
      " 35%|███▌      | 878/2495 [13:22<24:21,  1.11it/s]\u001b[A\n",
      " 35%|███▌      | 879/2495 [13:23<24:18,  1.11it/s]\u001b[A\n",
      " 35%|███▌      | 880/2495 [13:24<24:29,  1.10it/s]\u001b[A\n",
      " 35%|███▌      | 881/2495 [13:25<24:35,  1.09it/s]\u001b[A\n",
      " 35%|███▌      | 882/2495 [13:26<24:34,  1.09it/s]\u001b[A\n",
      " 35%|███▌      | 883/2495 [13:27<24:47,  1.08it/s]\u001b[A\n",
      " 35%|███▌      | 884/2495 [13:28<25:08,  1.07it/s]\u001b[A\n",
      " 35%|███▌      | 885/2495 [13:29<24:45,  1.08it/s]\u001b[A\n",
      " 36%|███▌      | 886/2495 [13:29<24:27,  1.10it/s]\u001b[A\n",
      " 36%|███▌      | 887/2495 [13:30<24:28,  1.10it/s]\u001b[A\n",
      " 36%|███▌      | 888/2495 [13:31<24:17,  1.10it/s]\u001b[A\n",
      " 36%|███▌      | 889/2495 [13:32<24:09,  1.11it/s]\u001b[A\n",
      " 36%|███▌      | 890/2495 [13:33<24:03,  1.11it/s]\u001b[A\n",
      " 36%|███▌      | 891/2495 [13:34<24:00,  1.11it/s]\u001b[A\n",
      " 36%|███▌      | 892/2495 [13:35<23:58,  1.11it/s]\u001b[A\n",
      " 36%|███▌      | 893/2495 [13:36<23:50,  1.12it/s]\u001b[A\n",
      " 36%|███▌      | 894/2495 [13:37<23:50,  1.12it/s]\u001b[A\n",
      " 36%|███▌      | 895/2495 [13:37<23:50,  1.12it/s]\u001b[A\n",
      " 36%|███▌      | 896/2495 [13:38<23:46,  1.12it/s]\u001b[A\n",
      " 36%|███▌      | 897/2495 [13:39<23:42,  1.12it/s]\u001b[A\n",
      " 36%|███▌      | 898/2495 [13:40<23:39,  1.12it/s]\u001b[A\n",
      " 36%|███▌      | 899/2495 [13:41<23:37,  1.13it/s]\u001b[A\n",
      " 36%|███▌      | 900/2495 [13:42<23:39,  1.12it/s]\u001b[A\n",
      " 36%|███▌      | 901/2495 [13:43<23:36,  1.13it/s]\u001b[A\n",
      " 36%|███▌      | 902/2495 [13:44<24:28,  1.08it/s]\u001b[A\n",
      " 36%|███▌      | 903/2495 [13:45<24:09,  1.10it/s]\u001b[A\n",
      " 36%|███▌      | 904/2495 [13:46<23:58,  1.11it/s]\u001b[A\n",
      " 36%|███▋      | 905/2495 [13:46<23:57,  1.11it/s]\u001b[A\n",
      " 36%|███▋      | 906/2495 [13:47<23:54,  1.11it/s]\u001b[A\n",
      " 36%|███▋      | 907/2495 [13:48<23:46,  1.11it/s]\u001b[A\n"
     ]
    },
    {
     "name": "stderr",
     "output_type": "stream",
     "text": [
      " 36%|███▋      | 908/2495 [13:49<23:49,  1.11it/s]\u001b[A\n",
      " 36%|███▋      | 909/2495 [13:50<23:58,  1.10it/s]\u001b[A\n",
      " 36%|███▋      | 910/2495 [13:51<23:53,  1.11it/s]\u001b[A\n",
      " 37%|███▋      | 911/2495 [13:52<23:45,  1.11it/s]\u001b[A\n",
      " 37%|███▋      | 912/2495 [13:53<23:44,  1.11it/s]\u001b[A\n",
      " 37%|███▋      | 913/2495 [13:54<23:40,  1.11it/s]\u001b[A\n",
      " 37%|███▋      | 914/2495 [13:55<23:37,  1.12it/s]\u001b[A\n",
      " 37%|███▋      | 915/2495 [13:55<23:33,  1.12it/s]\u001b[A\n",
      " 37%|███▋      | 916/2495 [13:56<23:35,  1.12it/s]\u001b[A\n",
      " 37%|███▋      | 917/2495 [13:57<23:33,  1.12it/s]\u001b[A\n",
      " 37%|███▋      | 918/2495 [13:58<23:27,  1.12it/s]\u001b[A\n",
      " 37%|███▋      | 919/2495 [13:59<23:26,  1.12it/s]\u001b[A\n",
      " 37%|███▋      | 920/2495 [14:00<23:30,  1.12it/s]\u001b[A\n",
      " 37%|███▋      | 921/2495 [14:01<23:16,  1.13it/s]\u001b[A\n",
      " 37%|███▋      | 922/2495 [14:02<23:07,  1.13it/s]\u001b[A\n",
      " 37%|███▋      | 923/2495 [14:03<23:04,  1.14it/s]\u001b[A\n",
      " 37%|███▋      | 924/2495 [14:03<23:03,  1.14it/s]\u001b[A\n",
      " 37%|███▋      | 925/2495 [14:04<22:59,  1.14it/s]\u001b[A\n",
      " 37%|███▋      | 926/2495 [14:05<22:55,  1.14it/s]\u001b[A\n",
      " 37%|███▋      | 927/2495 [14:06<22:53,  1.14it/s]\u001b[A\n",
      " 37%|███▋      | 928/2495 [14:07<22:56,  1.14it/s]\u001b[A\n",
      " 37%|███▋      | 929/2495 [14:08<23:03,  1.13it/s]\u001b[A\n",
      " 37%|███▋      | 930/2495 [14:09<22:59,  1.13it/s]\u001b[A\n",
      " 37%|███▋      | 931/2495 [14:10<23:53,  1.09it/s]\u001b[A\n",
      " 37%|███▋      | 932/2495 [14:11<23:50,  1.09it/s]\u001b[A\n",
      " 37%|███▋      | 933/2495 [14:11<23:32,  1.11it/s]\u001b[A\n",
      " 37%|███▋      | 934/2495 [14:12<23:20,  1.11it/s]\u001b[A\n",
      " 37%|███▋      | 935/2495 [14:13<23:11,  1.12it/s]\u001b[A\n",
      " 38%|███▊      | 936/2495 [14:14<23:16,  1.12it/s]\u001b[A\n",
      " 38%|███▊      | 937/2495 [14:15<23:12,  1.12it/s]\u001b[A\n",
      " 38%|███▊      | 938/2495 [14:16<23:05,  1.12it/s]\u001b[A\n",
      " 38%|███▊      | 939/2495 [14:17<22:59,  1.13it/s]\u001b[A\n",
      " 38%|███▊      | 940/2495 [14:18<22:56,  1.13it/s]\u001b[A\n",
      " 38%|███▊      | 941/2495 [14:19<22:54,  1.13it/s]\u001b[A\n",
      " 38%|███▊      | 942/2495 [14:19<22:50,  1.13it/s]\u001b[A\n",
      " 38%|███▊      | 943/2495 [14:20<22:47,  1.13it/s]\u001b[A\n",
      " 38%|███▊      | 944/2495 [14:21<22:45,  1.14it/s]\u001b[A\n",
      " 38%|███▊      | 945/2495 [14:22<22:45,  1.14it/s]\u001b[A\n",
      " 38%|███▊      | 946/2495 [14:23<22:43,  1.14it/s]\u001b[A\n",
      " 38%|███▊      | 947/2495 [14:24<22:41,  1.14it/s]\u001b[A\n",
      " 38%|███▊      | 948/2495 [14:25<22:40,  1.14it/s]\u001b[A\n",
      " 38%|███▊      | 949/2495 [14:26<22:43,  1.13it/s]\u001b[A\n",
      " 38%|███▊      | 950/2495 [14:26<22:38,  1.14it/s]\u001b[A\n",
      " 38%|███▊      | 951/2495 [14:27<22:36,  1.14it/s]\u001b[A\n",
      " 38%|███▊      | 952/2495 [14:28<22:38,  1.14it/s]\u001b[A\n",
      " 38%|███▊      | 953/2495 [14:29<22:41,  1.13it/s]\u001b[A\n",
      " 38%|███▊      | 954/2495 [14:30<23:03,  1.11it/s]\u001b[A\n",
      " 38%|███▊      | 955/2495 [14:31<23:12,  1.11it/s]\u001b[A\n",
      " 38%|███▊      | 956/2495 [14:32<23:04,  1.11it/s]\u001b[A\n",
      " 38%|███▊      | 957/2495 [14:33<22:55,  1.12it/s]\u001b[A\n",
      " 38%|███▊      | 958/2495 [14:34<22:50,  1.12it/s]\u001b[A\n",
      " 38%|███▊      | 959/2495 [14:35<22:49,  1.12it/s]\u001b[A\n",
      " 38%|███▊      | 960/2495 [14:36<23:39,  1.08it/s]\u001b[A\n",
      " 39%|███▊      | 961/2495 [14:36<23:47,  1.07it/s]\u001b[A\n",
      " 39%|███▊      | 962/2495 [14:37<23:26,  1.09it/s]\u001b[A\n",
      " 39%|███▊      | 963/2495 [14:38<23:12,  1.10it/s]\u001b[A\n",
      " 39%|███▊      | 964/2495 [14:39<23:02,  1.11it/s]\u001b[A\n",
      " 39%|███▊      | 965/2495 [14:40<22:55,  1.11it/s]\u001b[A\n",
      " 39%|███▊      | 966/2495 [14:41<22:52,  1.11it/s]\u001b[A\n",
      " 39%|███▉      | 967/2495 [14:42<22:48,  1.12it/s]\u001b[A\n",
      " 39%|███▉      | 968/2495 [14:43<22:42,  1.12it/s]\u001b[A\n",
      " 39%|███▉      | 969/2495 [14:44<22:41,  1.12it/s]\u001b[A\n",
      " 39%|███▉      | 970/2495 [14:44<22:38,  1.12it/s]\u001b[A\n",
      " 39%|███▉      | 971/2495 [14:45<22:36,  1.12it/s]\u001b[A\n",
      " 39%|███▉      | 972/2495 [14:46<22:34,  1.12it/s]\u001b[A\n",
      " 39%|███▉      | 973/2495 [14:47<22:34,  1.12it/s]\u001b[A\n",
      " 39%|███▉      | 974/2495 [14:48<22:36,  1.12it/s]\u001b[A\n",
      " 39%|███▉      | 975/2495 [14:49<22:35,  1.12it/s]\u001b[A\n",
      " 39%|███▉      | 976/2495 [14:50<22:32,  1.12it/s]\u001b[A\n",
      " 39%|███▉      | 977/2495 [14:51<22:34,  1.12it/s]\u001b[A\n",
      " 39%|███▉      | 978/2495 [14:52<22:34,  1.12it/s]\u001b[A\n",
      " 39%|███▉      | 979/2495 [14:53<22:34,  1.12it/s]\u001b[A\n",
      " 39%|███▉      | 980/2495 [14:53<22:31,  1.12it/s]\u001b[A\n",
      " 39%|███▉      | 981/2495 [14:54<22:32,  1.12it/s]\u001b[A\n",
      " 39%|███▉      | 982/2495 [14:55<22:33,  1.12it/s]\u001b[A\n",
      " 39%|███▉      | 983/2495 [14:56<22:27,  1.12it/s]\u001b[A\n",
      " 39%|███▉      | 984/2495 [14:57<22:23,  1.12it/s]\u001b[A\n",
      " 39%|███▉      | 985/2495 [14:58<22:21,  1.13it/s]\u001b[A\n",
      " 40%|███▉      | 986/2495 [14:59<22:21,  1.12it/s]\u001b[A\n",
      " 40%|███▉      | 987/2495 [15:00<22:14,  1.13it/s]\u001b[A\n",
      " 40%|███▉      | 988/2495 [15:01<22:10,  1.13it/s]\u001b[A\n",
      " 40%|███▉      | 989/2495 [15:01<22:15,  1.13it/s]\u001b[A\n",
      " 40%|███▉      | 990/2495 [15:02<22:12,  1.13it/s]\u001b[A\n",
      " 40%|███▉      | 991/2495 [15:03<23:33,  1.06it/s]\u001b[A\n",
      " 40%|███▉      | 992/2495 [15:04<23:17,  1.08it/s]\u001b[A\n",
      " 40%|███▉      | 993/2495 [15:05<22:52,  1.09it/s]\u001b[A\n",
      " 40%|███▉      | 994/2495 [15:06<22:35,  1.11it/s]\u001b[A\n",
      " 40%|███▉      | 995/2495 [15:07<22:25,  1.12it/s]\u001b[A\n",
      " 40%|███▉      | 996/2495 [15:08<22:14,  1.12it/s]\u001b[A\n",
      " 40%|███▉      | 997/2495 [15:09<22:07,  1.13it/s]\u001b[A\n",
      " 40%|████      | 998/2495 [15:10<22:04,  1.13it/s]\u001b[A\n",
      " 40%|████      | 999/2495 [15:10<22:02,  1.13it/s]\u001b[A\n",
      " 40%|████      | 1000/2495 [15:11<22:01,  1.13it/s]\u001b[A\n",
      " 40%|████      | 1001/2495 [15:12<21:59,  1.13it/s]\u001b[A\n",
      " 40%|████      | 1002/2495 [15:13<21:58,  1.13it/s]\u001b[A\n",
      " 40%|████      | 1003/2495 [15:14<22:00,  1.13it/s]\u001b[A\n",
      " 40%|████      | 1004/2495 [15:15<21:58,  1.13it/s]\u001b[A\n",
      " 40%|████      | 1005/2495 [15:16<21:55,  1.13it/s]\u001b[A\n",
      " 40%|████      | 1006/2495 [15:17<21:55,  1.13it/s]\u001b[A\n",
      " 40%|████      | 1007/2495 [15:17<21:57,  1.13it/s]\u001b[A\n",
      " 40%|████      | 1008/2495 [15:18<21:57,  1.13it/s]\u001b[A\n",
      " 40%|████      | 1009/2495 [15:19<21:53,  1.13it/s]\u001b[A\n",
      " 40%|████      | 1010/2495 [15:20<21:52,  1.13it/s]\u001b[A\n",
      " 41%|████      | 1011/2495 [15:21<21:54,  1.13it/s]\u001b[A\n",
      " 41%|████      | 1012/2495 [15:22<21:50,  1.13it/s]\u001b[A\n",
      " 41%|████      | 1013/2495 [15:23<21:49,  1.13it/s]\u001b[A\n",
      " 41%|████      | 1014/2495 [15:24<21:48,  1.13it/s]\u001b[A\n",
      " 41%|████      | 1015/2495 [15:25<21:46,  1.13it/s]\u001b[A\n",
      " 41%|████      | 1016/2495 [15:25<21:39,  1.14it/s]\u001b[A\n",
      " 41%|████      | 1017/2495 [15:26<21:52,  1.13it/s]\u001b[A\n",
      " 41%|████      | 1018/2495 [15:27<21:54,  1.12it/s]\u001b[A\n",
      " 41%|████      | 1019/2495 [15:28<21:55,  1.12it/s]\u001b[A\n",
      " 41%|████      | 1020/2495 [15:29<22:45,  1.08it/s]\u001b[A\n",
      " 41%|████      | 1021/2495 [15:30<22:42,  1.08it/s]\u001b[A\n",
      " 41%|████      | 1022/2495 [15:31<22:25,  1.09it/s]\u001b[A\n",
      " 41%|████      | 1023/2495 [15:32<22:17,  1.10it/s]\u001b[A\n",
      " 41%|████      | 1024/2495 [15:33<22:18,  1.10it/s]\u001b[A\n",
      " 41%|████      | 1025/2495 [15:34<22:13,  1.10it/s]\u001b[A\n",
      " 41%|████      | 1026/2495 [15:35<23:48,  1.03it/s]\u001b[A\n",
      " 41%|████      | 1027/2495 [15:36<23:18,  1.05it/s]\u001b[A\n",
      " 41%|████      | 1028/2495 [15:37<22:56,  1.07it/s]\u001b[A\n",
      " 41%|████      | 1029/2495 [15:37<22:40,  1.08it/s]\u001b[A\n",
      " 41%|████▏     | 1030/2495 [15:38<22:28,  1.09it/s]\u001b[A\n",
      " 41%|████▏     | 1031/2495 [15:39<22:19,  1.09it/s]\u001b[A\n",
      " 41%|████▏     | 1032/2495 [15:40<22:14,  1.10it/s]\u001b[A\n",
      " 41%|████▏     | 1033/2495 [15:41<22:08,  1.10it/s]\u001b[A\n",
      " 41%|████▏     | 1034/2495 [15:42<22:09,  1.10it/s]\u001b[A\n",
      " 41%|████▏     | 1035/2495 [15:43<22:07,  1.10it/s]\u001b[A\n",
      " 42%|████▏     | 1036/2495 [15:44<22:02,  1.10it/s]\u001b[A\n",
      " 42%|████▏     | 1037/2495 [15:45<21:55,  1.11it/s]\u001b[A\n",
      " 42%|████▏     | 1038/2495 [15:46<21:51,  1.11it/s]\u001b[A\n",
      " 42%|████▏     | 1039/2495 [15:46<21:45,  1.12it/s]\u001b[A\n",
      " 42%|████▏     | 1040/2495 [15:47<21:44,  1.12it/s]\u001b[A\n",
      " 42%|████▏     | 1041/2495 [15:48<21:39,  1.12it/s]\u001b[A\n",
      " 42%|████▏     | 1042/2495 [15:49<21:45,  1.11it/s]\u001b[A\n",
      " 42%|████▏     | 1043/2495 [15:50<21:42,  1.12it/s]\u001b[A\n",
      " 42%|████▏     | 1044/2495 [15:51<21:37,  1.12it/s]\u001b[A\n",
      " 42%|████▏     | 1045/2495 [15:52<21:34,  1.12it/s]\u001b[A\n",
      " 42%|████▏     | 1046/2495 [15:53<21:33,  1.12it/s]\u001b[A\n",
      " 42%|████▏     | 1047/2495 [15:54<21:36,  1.12it/s]\u001b[A\n",
      " 42%|████▏     | 1048/2495 [15:55<21:35,  1.12it/s]\u001b[A\n",
      " 42%|████▏     | 1049/2495 [15:56<22:26,  1.07it/s]\u001b[A\n",
      " 42%|████▏     | 1050/2495 [15:56<22:08,  1.09it/s]\u001b[A\n",
      " 42%|████▏     | 1051/2495 [15:57<21:53,  1.10it/s]\u001b[A\n",
      " 42%|████▏     | 1052/2495 [15:58<21:41,  1.11it/s]\u001b[A\n",
      " 42%|████▏     | 1053/2495 [15:59<21:39,  1.11it/s]\u001b[A\n",
      " 42%|████▏     | 1054/2495 [16:00<21:35,  1.11it/s]\u001b[A\n",
      " 42%|████▏     | 1055/2495 [16:01<21:30,  1.12it/s]\u001b[A\n",
      " 42%|████▏     | 1056/2495 [16:02<21:29,  1.12it/s]\u001b[A\n",
      " 42%|████▏     | 1057/2495 [16:03<21:28,  1.12it/s]\u001b[A\n",
      " 42%|████▏     | 1058/2495 [16:04<21:27,  1.12it/s]\u001b[A\n",
      " 42%|████▏     | 1059/2495 [16:04<21:25,  1.12it/s]\u001b[A\n",
      " 42%|████▏     | 1060/2495 [16:05<21:25,  1.12it/s]\u001b[A\n",
      " 43%|████▎     | 1061/2495 [16:06<21:24,  1.12it/s]\u001b[A\n",
      " 43%|████▎     | 1062/2495 [16:07<21:21,  1.12it/s]\u001b[A\n",
      " 43%|████▎     | 1063/2495 [16:08<21:19,  1.12it/s]\u001b[A\n",
      " 43%|████▎     | 1064/2495 [16:09<21:28,  1.11it/s]\u001b[A\n",
      " 43%|████▎     | 1065/2495 [16:10<21:39,  1.10it/s]\u001b[A\n",
      " 43%|████▎     | 1066/2495 [16:11<21:32,  1.11it/s]\u001b[A\n",
      " 43%|████▎     | 1067/2495 [16:12<21:27,  1.11it/s]\u001b[A\n",
      " 43%|████▎     | 1068/2495 [16:13<21:22,  1.11it/s]\u001b[A\n",
      " 43%|████▎     | 1069/2495 [16:13<21:22,  1.11it/s]\u001b[A\n",
      " 43%|████▎     | 1070/2495 [16:14<21:20,  1.11it/s]\u001b[A\n",
      " 43%|████▎     | 1071/2495 [16:15<21:11,  1.12it/s]\u001b[A\n",
      " 43%|████▎     | 1072/2495 [16:16<21:07,  1.12it/s]\u001b[A\n",
      " 43%|████▎     | 1073/2495 [16:17<21:07,  1.12it/s]\u001b[A\n",
      " 43%|████▎     | 1074/2495 [16:18<21:03,  1.12it/s]\u001b[A\n",
      " 43%|████▎     | 1075/2495 [16:19<20:59,  1.13it/s]\u001b[A\n",
      " 43%|████▎     | 1076/2495 [16:20<20:56,  1.13it/s]\u001b[A\n",
      " 43%|████▎     | 1077/2495 [16:21<20:59,  1.13it/s]\u001b[A\n",
      " 43%|████▎     | 1078/2495 [16:21<20:56,  1.13it/s]\u001b[A\n",
      " 43%|████▎     | 1079/2495 [16:22<21:45,  1.08it/s]\u001b[A\n",
      " 43%|████▎     | 1080/2495 [16:23<21:29,  1.10it/s]\u001b[A\n",
      " 43%|████▎     | 1081/2495 [16:24<21:14,  1.11it/s]\u001b[A\n",
      " 43%|████▎     | 1082/2495 [16:25<21:04,  1.12it/s]\u001b[A\n",
      " 43%|████▎     | 1083/2495 [16:26<21:00,  1.12it/s]\u001b[A\n",
      " 43%|████▎     | 1084/2495 [16:27<20:55,  1.12it/s]\u001b[A\n",
      " 43%|████▎     | 1085/2495 [16:28<20:53,  1.12it/s]\u001b[A\n",
      " 44%|████▎     | 1086/2495 [16:29<20:51,  1.13it/s]\u001b[A\n",
      " 44%|████▎     | 1087/2495 [16:30<20:53,  1.12it/s]\u001b[A\n",
      " 44%|████▎     | 1088/2495 [16:30<20:53,  1.12it/s]\u001b[A\n",
      " 44%|████▎     | 1089/2495 [16:31<20:55,  1.12it/s]\u001b[A\n",
      " 44%|████▎     | 1090/2495 [16:32<20:58,  1.12it/s]\u001b[A\n",
      " 44%|████▎     | 1091/2495 [16:33<21:05,  1.11it/s]\u001b[A\n",
      " 44%|████▍     | 1092/2495 [16:34<20:55,  1.12it/s]\u001b[A\n",
      " 44%|████▍     | 1093/2495 [16:35<20:49,  1.12it/s]\u001b[A\n",
      " 44%|████▍     | 1094/2495 [16:36<20:45,  1.13it/s]\u001b[A\n",
      " 44%|████▍     | 1095/2495 [16:37<20:40,  1.13it/s]\u001b[A\n",
      " 44%|████▍     | 1096/2495 [16:38<20:37,  1.13it/s]\u001b[A\n",
      " 44%|████▍     | 1097/2495 [16:38<20:35,  1.13it/s]\u001b[A\n",
      " 44%|████▍     | 1098/2495 [16:39<20:32,  1.13it/s]\u001b[A\n",
      " 44%|████▍     | 1099/2495 [16:40<20:31,  1.13it/s]\u001b[A\n",
      " 44%|████▍     | 1100/2495 [16:41<20:27,  1.14it/s]\u001b[A\n",
      " 44%|████▍     | 1101/2495 [16:42<20:24,  1.14it/s]\u001b[A\n",
      " 44%|████▍     | 1102/2495 [16:43<20:26,  1.14it/s]\u001b[A\n",
      " 44%|████▍     | 1103/2495 [16:44<20:27,  1.13it/s]\u001b[A\n",
      " 44%|████▍     | 1104/2495 [16:45<20:25,  1.14it/s]\u001b[A\n",
      " 44%|████▍     | 1105/2495 [16:45<20:20,  1.14it/s]\u001b[A\n",
      " 44%|████▍     | 1106/2495 [16:46<20:33,  1.13it/s]\u001b[A\n",
      " 44%|████▍     | 1107/2495 [16:47<20:40,  1.12it/s]\u001b[A\n",
      " 44%|████▍     | 1108/2495 [16:48<20:41,  1.12it/s]\u001b[A\n",
      " 44%|████▍     | 1109/2495 [16:49<21:31,  1.07it/s]\u001b[A\n",
      " 44%|████▍     | 1110/2495 [16:50<21:19,  1.08it/s]\u001b[A\n",
      " 45%|████▍     | 1111/2495 [16:51<21:11,  1.09it/s]\u001b[A\n",
      " 45%|████▍     | 1112/2495 [16:52<21:02,  1.10it/s]\u001b[A\n",
      " 45%|████▍     | 1113/2495 [16:53<20:51,  1.10it/s]\u001b[A\n",
      " 45%|████▍     | 1114/2495 [16:54<20:44,  1.11it/s]\u001b[A\n",
      " 45%|████▍     | 1115/2495 [16:55<20:48,  1.11it/s]\u001b[A\n",
      " 45%|████▍     | 1116/2495 [16:56<20:43,  1.11it/s]\u001b[A\n",
      " 45%|████▍     | 1117/2495 [16:56<20:49,  1.10it/s]\u001b[A\n",
      " 45%|████▍     | 1118/2495 [16:57<20:52,  1.10it/s]\u001b[A\n",
      " 45%|████▍     | 1119/2495 [16:58<20:46,  1.10it/s]\u001b[A\n",
      " 45%|████▍     | 1120/2495 [16:59<20:39,  1.11it/s]\u001b[A\n",
      " 45%|████▍     | 1121/2495 [17:00<20:34,  1.11it/s]\u001b[A\n",
      " 45%|████▍     | 1122/2495 [17:01<20:33,  1.11it/s]\u001b[A\n",
      " 45%|████▌     | 1123/2495 [17:02<20:33,  1.11it/s]\u001b[A\n",
      " 45%|████▌     | 1124/2495 [17:03<20:42,  1.10it/s]\u001b[A\n",
      " 45%|████▌     | 1125/2495 [17:04<21:10,  1.08it/s]\u001b[A\n",
      " 45%|████▌     | 1126/2495 [17:05<20:58,  1.09it/s]\u001b[A\n",
      " 45%|████▌     | 1127/2495 [17:06<20:51,  1.09it/s]\u001b[A\n",
      " 45%|████▌     | 1128/2495 [17:06<20:41,  1.10it/s]\u001b[A\n",
      " 45%|████▌     | 1129/2495 [17:07<20:33,  1.11it/s]\u001b[A\n",
      " 45%|████▌     | 1130/2495 [17:08<20:29,  1.11it/s]\u001b[A\n",
      " 45%|████▌     | 1131/2495 [17:09<20:26,  1.11it/s]\u001b[A\n",
      " 45%|████▌     | 1132/2495 [17:10<20:23,  1.11it/s]\u001b[A\n",
      " 45%|████▌     | 1133/2495 [17:11<20:23,  1.11it/s]\u001b[A\n",
      " 45%|████▌     | 1134/2495 [17:12<20:20,  1.12it/s]\u001b[A\n",
      " 45%|████▌     | 1135/2495 [17:13<20:21,  1.11it/s]\u001b[A\n",
      " 46%|████▌     | 1136/2495 [17:14<20:18,  1.11it/s]\u001b[A\n",
      " 46%|████▌     | 1137/2495 [17:14<20:19,  1.11it/s]\u001b[A\n",
      " 46%|████▌     | 1138/2495 [17:15<20:18,  1.11it/s]\u001b[A\n",
      " 46%|████▌     | 1139/2495 [17:16<20:23,  1.11it/s]\u001b[A\n",
      " 46%|████▌     | 1140/2495 [17:17<21:14,  1.06it/s]\u001b[A\n",
      " 46%|████▌     | 1141/2495 [17:18<20:58,  1.08it/s]\u001b[A\n",
      " 46%|████▌     | 1142/2495 [17:19<20:54,  1.08it/s]\u001b[A\n",
      " 46%|████▌     | 1143/2495 [17:20<20:39,  1.09it/s]\u001b[A\n",
      " 46%|████▌     | 1144/2495 [17:21<20:41,  1.09it/s]\u001b[A\n",
      " 46%|████▌     | 1145/2495 [17:22<20:28,  1.10it/s]\u001b[A\n",
      " 46%|████▌     | 1146/2495 [17:23<20:22,  1.10it/s]\u001b[A\n",
      " 46%|████▌     | 1147/2495 [17:24<20:17,  1.11it/s]\u001b[A\n",
      " 46%|████▌     | 1148/2495 [17:25<20:17,  1.11it/s]\u001b[A\n",
      " 46%|████▌     | 1149/2495 [17:25<20:13,  1.11it/s]\u001b[A\n",
      " 46%|████▌     | 1150/2495 [17:26<20:09,  1.11it/s]\u001b[A\n",
      " 46%|████▌     | 1151/2495 [17:27<20:07,  1.11it/s]\u001b[A\n",
      " 46%|████▌     | 1152/2495 [17:28<20:06,  1.11it/s]\u001b[A\n",
      " 46%|████▌     | 1153/2495 [17:29<20:02,  1.12it/s]\u001b[A\n",
      " 46%|████▋     | 1154/2495 [17:30<19:59,  1.12it/s]\u001b[A\n",
      " 46%|████▋     | 1155/2495 [17:31<20:00,  1.12it/s]\u001b[A\n",
      " 46%|████▋     | 1156/2495 [17:32<20:02,  1.11it/s]\u001b[A\n",
      " 46%|████▋     | 1157/2495 [17:33<20:04,  1.11it/s]\u001b[A\n",
      " 46%|████▋     | 1158/2495 [17:34<20:05,  1.11it/s]\u001b[A\n",
      " 46%|████▋     | 1159/2495 [17:34<20:03,  1.11it/s]\u001b[A\n",
      " 46%|████▋     | 1160/2495 [17:35<20:01,  1.11it/s]\u001b[A\n",
      " 47%|████▋     | 1161/2495 [17:36<19:56,  1.12it/s]\u001b[A\n",
      " 47%|████▋     | 1162/2495 [17:37<19:51,  1.12it/s]\u001b[A\n",
      " 47%|████▋     | 1163/2495 [17:38<19:48,  1.12it/s]\u001b[A\n",
      " 47%|████▋     | 1164/2495 [17:39<19:47,  1.12it/s]\u001b[A\n",
      " 47%|████▋     | 1165/2495 [17:40<19:46,  1.12it/s]\u001b[A\n",
      " 47%|████▋     | 1166/2495 [17:41<19:43,  1.12it/s]\u001b[A\n",
      " 47%|████▋     | 1167/2495 [17:42<19:41,  1.12it/s]\u001b[A\n",
      " 47%|████▋     | 1168/2495 [17:42<19:52,  1.11it/s]\u001b[A\n",
      " 47%|████▋     | 1169/2495 [17:43<19:47,  1.12it/s]\u001b[A\n",
      " 47%|████▋     | 1170/2495 [17:44<20:33,  1.07it/s]\u001b[A\n",
      " 47%|████▋     | 1171/2495 [17:45<20:27,  1.08it/s]\u001b[A\n",
      " 47%|████▋     | 1172/2495 [17:46<20:15,  1.09it/s]\u001b[A\n",
      " 47%|████▋     | 1173/2495 [17:47<20:05,  1.10it/s]\u001b[A\n",
      " 47%|████▋     | 1174/2495 [17:48<19:56,  1.10it/s]\u001b[A\n",
      " 47%|████▋     | 1175/2495 [17:49<19:49,  1.11it/s]\u001b[A\n",
      " 47%|████▋     | 1176/2495 [17:50<19:46,  1.11it/s]\u001b[A\n",
      " 47%|████▋     | 1177/2495 [17:51<19:44,  1.11it/s]\u001b[A\n",
      " 47%|████▋     | 1178/2495 [17:52<19:41,  1.11it/s]\u001b[A\n",
      " 47%|████▋     | 1179/2495 [17:52<19:39,  1.12it/s]\u001b[A\n",
      " 47%|████▋     | 1180/2495 [17:53<19:42,  1.11it/s]\u001b[A\n",
      " 47%|████▋     | 1181/2495 [17:54<19:41,  1.11it/s]\u001b[A\n",
      " 47%|████▋     | 1182/2495 [17:55<19:40,  1.11it/s]\u001b[A\n",
      " 47%|████▋     | 1183/2495 [17:56<19:31,  1.12it/s]\u001b[A\n",
      " 47%|████▋     | 1184/2495 [17:57<19:28,  1.12it/s]\u001b[A\n",
      " 47%|████▋     | 1185/2495 [17:58<19:27,  1.12it/s]\u001b[A\n",
      " 48%|████▊     | 1186/2495 [17:59<19:25,  1.12it/s]\u001b[A\n",
      " 48%|████▊     | 1187/2495 [18:00<19:19,  1.13it/s]\u001b[A\n",
      " 48%|████▊     | 1188/2495 [18:00<19:18,  1.13it/s]\u001b[A\n",
      " 48%|████▊     | 1189/2495 [18:01<19:18,  1.13it/s]\u001b[A\n",
      " 48%|████▊     | 1190/2495 [18:02<19:16,  1.13it/s]\u001b[A\n",
      " 48%|████▊     | 1191/2495 [18:03<19:29,  1.12it/s]\u001b[A\n",
      " 48%|████▊     | 1192/2495 [18:04<19:39,  1.11it/s]\u001b[A\n",
      " 48%|████▊     | 1193/2495 [18:05<19:43,  1.10it/s]\u001b[A\n",
      " 48%|████▊     | 1194/2495 [18:06<19:36,  1.11it/s]\u001b[A\n",
      " 48%|████▊     | 1195/2495 [18:07<19:28,  1.11it/s]\u001b[A\n",
      " 48%|████▊     | 1196/2495 [18:08<19:21,  1.12it/s]\u001b[A\n",
      " 48%|████▊     | 1197/2495 [18:09<19:19,  1.12it/s]\u001b[A\n",
      " 48%|████▊     | 1198/2495 [18:09<19:15,  1.12it/s]\u001b[A\n",
      " 48%|████▊     | 1199/2495 [18:10<19:11,  1.13it/s]\u001b[A\n",
      " 48%|████▊     | 1200/2495 [18:11<19:10,  1.13it/s]\u001b[A\n",
      " 48%|████▊     | 1201/2495 [18:12<19:18,  1.12it/s]\u001b[A\n",
      " 48%|████▊     | 1202/2495 [18:13<20:11,  1.07it/s]\u001b[A\n",
      " 48%|████▊     | 1203/2495 [18:14<19:50,  1.09it/s]\u001b[A\n",
      " 48%|████▊     | 1204/2495 [18:15<19:35,  1.10it/s]\u001b[A\n",
      " 48%|████▊     | 1205/2495 [18:16<19:23,  1.11it/s]\u001b[A\n"
     ]
    },
    {
     "name": "stderr",
     "output_type": "stream",
     "text": [
      " 48%|████▊     | 1206/2495 [18:17<19:17,  1.11it/s]\u001b[A\n",
      " 48%|████▊     | 1207/2495 [18:18<19:13,  1.12it/s]\u001b[A\n",
      " 48%|████▊     | 1208/2495 [18:18<19:06,  1.12it/s]\u001b[A\n",
      " 48%|████▊     | 1209/2495 [18:19<19:02,  1.13it/s]\u001b[A\n",
      " 48%|████▊     | 1210/2495 [18:20<18:59,  1.13it/s]\u001b[A\n",
      " 49%|████▊     | 1211/2495 [18:21<18:57,  1.13it/s]\u001b[A\n",
      " 49%|████▊     | 1212/2495 [18:22<18:56,  1.13it/s]\u001b[A\n",
      " 49%|████▊     | 1213/2495 [18:23<18:52,  1.13it/s]\u001b[A\n",
      " 49%|████▊     | 1214/2495 [18:24<18:53,  1.13it/s]\u001b[A\n",
      " 49%|████▊     | 1215/2495 [18:25<18:54,  1.13it/s]\u001b[A\n",
      " 49%|████▊     | 1216/2495 [18:26<18:53,  1.13it/s]\u001b[A\n",
      " 49%|████▉     | 1217/2495 [18:26<18:52,  1.13it/s]\u001b[A\n",
      " 49%|████▉     | 1218/2495 [18:27<18:51,  1.13it/s]\u001b[A\n",
      " 49%|████▉     | 1219/2495 [18:28<18:52,  1.13it/s]\u001b[A\n",
      " 49%|████▉     | 1220/2495 [18:29<18:52,  1.13it/s]\u001b[A\n",
      " 49%|████▉     | 1221/2495 [18:30<18:52,  1.13it/s]\u001b[A\n",
      " 49%|████▉     | 1222/2495 [18:31<18:54,  1.12it/s]\u001b[A\n",
      " 49%|████▉     | 1223/2495 [18:32<18:53,  1.12it/s]\u001b[A\n",
      " 49%|████▉     | 1224/2495 [18:33<18:50,  1.12it/s]\u001b[A\n",
      " 49%|████▉     | 1225/2495 [18:34<18:52,  1.12it/s]\u001b[A\n",
      " 49%|████▉     | 1226/2495 [18:34<18:50,  1.12it/s]\u001b[A\n",
      " 49%|████▉     | 1227/2495 [18:35<18:43,  1.13it/s]\u001b[A\n",
      " 49%|████▉     | 1228/2495 [18:36<18:49,  1.12it/s]\u001b[A\n",
      " 49%|████▉     | 1229/2495 [18:37<18:42,  1.13it/s]\u001b[A\n",
      " 49%|████▉     | 1230/2495 [18:38<18:40,  1.13it/s]\u001b[A\n",
      " 49%|████▉     | 1231/2495 [18:39<18:46,  1.12it/s]\u001b[A\n",
      " 49%|████▉     | 1232/2495 [18:40<19:26,  1.08it/s]\u001b[A\n",
      " 49%|████▉     | 1233/2495 [18:41<19:23,  1.08it/s]\u001b[A\n",
      " 49%|████▉     | 1234/2495 [18:42<19:10,  1.10it/s]\u001b[A\n",
      " 49%|████▉     | 1235/2495 [18:43<18:56,  1.11it/s]\u001b[A\n",
      " 50%|████▉     | 1236/2495 [18:43<18:49,  1.11it/s]\u001b[A\n",
      " 50%|████▉     | 1237/2495 [18:44<18:44,  1.12it/s]\u001b[A\n",
      " 50%|████▉     | 1238/2495 [18:45<18:39,  1.12it/s]\u001b[A\n",
      " 50%|████▉     | 1239/2495 [18:46<18:37,  1.12it/s]\u001b[A\n",
      " 50%|████▉     | 1240/2495 [18:47<18:36,  1.12it/s]\u001b[A\n",
      " 50%|████▉     | 1241/2495 [18:48<18:33,  1.13it/s]\u001b[A\n",
      " 50%|████▉     | 1242/2495 [18:49<18:32,  1.13it/s]\u001b[A\n",
      " 50%|████▉     | 1243/2495 [18:50<18:35,  1.12it/s]\u001b[A\n",
      " 50%|████▉     | 1244/2495 [18:51<18:31,  1.13it/s]\u001b[A\n",
      " 50%|████▉     | 1245/2495 [18:51<18:26,  1.13it/s]\u001b[A\n",
      " 50%|████▉     | 1246/2495 [18:52<18:31,  1.12it/s]\u001b[A\n",
      " 50%|████▉     | 1247/2495 [18:53<18:35,  1.12it/s]\u001b[A\n",
      " 50%|█████     | 1248/2495 [18:54<18:36,  1.12it/s]\u001b[A\n",
      " 50%|█████     | 1249/2495 [18:55<18:32,  1.12it/s]\u001b[A\n",
      " 50%|█████     | 1250/2495 [18:56<18:33,  1.12it/s]\u001b[A\n",
      " 50%|█████     | 1251/2495 [18:57<18:32,  1.12it/s]\u001b[A\n",
      " 50%|█████     | 1252/2495 [18:58<18:35,  1.11it/s]\u001b[A\n",
      " 50%|█████     | 1253/2495 [18:59<18:35,  1.11it/s]\u001b[A\n",
      " 50%|█████     | 1254/2495 [19:00<18:33,  1.11it/s]\u001b[A\n",
      " 50%|█████     | 1255/2495 [19:00<18:33,  1.11it/s]\u001b[A\n",
      " 50%|█████     | 1256/2495 [19:01<18:31,  1.12it/s]\u001b[A\n",
      " 50%|█████     | 1257/2495 [19:02<18:25,  1.12it/s]\u001b[A\n",
      " 50%|█████     | 1258/2495 [19:03<18:24,  1.12it/s]\u001b[A\n",
      " 50%|█████     | 1259/2495 [19:04<18:21,  1.12it/s]\u001b[A\n",
      " 51%|█████     | 1260/2495 [19:05<18:18,  1.12it/s]\u001b[A\n",
      " 51%|█████     | 1261/2495 [19:06<18:17,  1.12it/s]\u001b[A\n",
      " 51%|█████     | 1262/2495 [19:07<18:23,  1.12it/s]\u001b[A\n",
      " 51%|█████     | 1263/2495 [19:08<18:22,  1.12it/s]\u001b[A\n",
      " 51%|█████     | 1264/2495 [19:09<19:10,  1.07it/s]\u001b[A\n",
      " 51%|█████     | 1265/2495 [19:09<18:58,  1.08it/s]\u001b[A\n",
      " 51%|█████     | 1266/2495 [19:10<18:48,  1.09it/s]\u001b[A\n",
      " 51%|█████     | 1267/2495 [19:11<18:42,  1.09it/s]\u001b[A\n",
      " 51%|█████     | 1268/2495 [19:12<18:30,  1.11it/s]\u001b[A\n",
      " 51%|█████     | 1269/2495 [19:13<18:22,  1.11it/s]\u001b[A\n",
      " 51%|█████     | 1270/2495 [19:14<18:14,  1.12it/s]\u001b[A\n",
      " 51%|█████     | 1271/2495 [19:15<18:09,  1.12it/s]\u001b[A\n",
      " 51%|█████     | 1272/2495 [19:16<18:06,  1.13it/s]\u001b[A\n",
      " 51%|█████     | 1273/2495 [19:17<18:03,  1.13it/s]\u001b[A\n",
      " 51%|█████     | 1274/2495 [19:17<18:02,  1.13it/s]\u001b[A\n",
      " 51%|█████     | 1275/2495 [19:18<18:00,  1.13it/s]\u001b[A\n",
      " 51%|█████     | 1276/2495 [19:19<18:01,  1.13it/s]\u001b[A\n",
      " 51%|█████     | 1277/2495 [19:20<17:59,  1.13it/s]\u001b[A\n",
      " 51%|█████     | 1278/2495 [19:21<17:56,  1.13it/s]\u001b[A\n",
      " 51%|█████▏    | 1279/2495 [19:22<17:55,  1.13it/s]\u001b[A\n",
      " 51%|█████▏    | 1280/2495 [19:23<17:57,  1.13it/s]\u001b[A\n",
      " 51%|█████▏    | 1281/2495 [19:24<17:57,  1.13it/s]\u001b[A\n",
      " 51%|█████▏    | 1282/2495 [19:25<17:59,  1.12it/s]\u001b[A\n",
      " 51%|█████▏    | 1283/2495 [19:25<17:59,  1.12it/s]\u001b[A\n",
      " 51%|█████▏    | 1284/2495 [19:26<17:59,  1.12it/s]\u001b[A\n",
      " 52%|█████▏    | 1285/2495 [19:27<17:58,  1.12it/s]\u001b[A\n",
      " 52%|█████▏    | 1286/2495 [19:28<17:57,  1.12it/s]\u001b[A\n",
      " 52%|█████▏    | 1287/2495 [19:29<17:57,  1.12it/s]\u001b[A\n",
      " 52%|█████▏    | 1288/2495 [19:30<18:01,  1.12it/s]\u001b[A\n",
      " 52%|█████▏    | 1289/2495 [19:31<19:15,  1.04it/s]\u001b[A\n",
      " 52%|█████▏    | 1290/2495 [19:32<18:58,  1.06it/s]\u001b[A\n",
      " 52%|█████▏    | 1291/2495 [19:33<18:45,  1.07it/s]\u001b[A\n",
      " 52%|█████▏    | 1292/2495 [19:34<18:35,  1.08it/s]\u001b[A\n",
      " 52%|█████▏    | 1293/2495 [19:35<18:28,  1.08it/s]\u001b[A\n",
      " 52%|█████▏    | 1294/2495 [19:36<19:12,  1.04it/s]\u001b[A\n",
      " 52%|█████▏    | 1295/2495 [19:37<18:52,  1.06it/s]\u001b[A\n",
      " 52%|█████▏    | 1296/2495 [19:38<18:38,  1.07it/s]\u001b[A\n",
      " 52%|█████▏    | 1297/2495 [19:38<18:37,  1.07it/s]\u001b[A\n",
      " 52%|█████▏    | 1298/2495 [19:39<18:25,  1.08it/s]\u001b[A\n",
      " 52%|█████▏    | 1299/2495 [19:40<19:31,  1.02it/s]\u001b[A\n",
      " 52%|█████▏    | 1300/2495 [19:41<18:56,  1.05it/s]\u001b[A\n",
      " 52%|█████▏    | 1301/2495 [19:42<18:32,  1.07it/s]\u001b[A\n",
      " 52%|█████▏    | 1302/2495 [19:43<18:16,  1.09it/s]\u001b[A\n",
      " 52%|█████▏    | 1303/2495 [19:44<18:03,  1.10it/s]\u001b[A\n",
      " 52%|█████▏    | 1304/2495 [19:45<17:53,  1.11it/s]\u001b[A\n",
      " 52%|█████▏    | 1305/2495 [19:46<17:47,  1.11it/s]\u001b[A\n",
      " 52%|█████▏    | 1306/2495 [19:47<17:41,  1.12it/s]\u001b[A\n",
      " 52%|█████▏    | 1307/2495 [19:48<17:37,  1.12it/s]\u001b[A\n",
      " 52%|█████▏    | 1308/2495 [19:48<17:32,  1.13it/s]\u001b[A\n",
      " 52%|█████▏    | 1309/2495 [19:49<17:30,  1.13it/s]\u001b[A\n",
      " 53%|█████▎    | 1310/2495 [19:50<17:26,  1.13it/s]\u001b[A\n",
      " 53%|█████▎    | 1311/2495 [19:51<17:22,  1.14it/s]\u001b[A\n",
      " 53%|█████▎    | 1312/2495 [19:52<17:19,  1.14it/s]\u001b[A\n",
      " 53%|█████▎    | 1313/2495 [19:53<17:20,  1.14it/s]\u001b[A\n",
      " 53%|█████▎    | 1314/2495 [19:54<17:18,  1.14it/s]\u001b[A\n",
      " 53%|█████▎    | 1315/2495 [19:55<18:43,  1.05it/s]\u001b[A\n",
      " 53%|█████▎    | 1316/2495 [19:56<18:43,  1.05it/s]\u001b[A\n",
      " 53%|█████▎    | 1317/2495 [19:57<18:42,  1.05it/s]\u001b[A\n",
      " 53%|█████▎    | 1318/2495 [19:58<18:36,  1.05it/s]\u001b[A\n",
      " 53%|█████▎    | 1319/2495 [19:59<18:20,  1.07it/s]\u001b[A\n",
      " 53%|█████▎    | 1320/2495 [20:00<18:10,  1.08it/s]\u001b[A\n",
      " 53%|█████▎    | 1321/2495 [20:00<18:03,  1.08it/s]\u001b[A\n",
      " 53%|█████▎    | 1322/2495 [20:01<17:56,  1.09it/s]\u001b[A\n",
      " 53%|█████▎    | 1323/2495 [20:02<17:50,  1.09it/s]\u001b[A\n",
      " 53%|█████▎    | 1324/2495 [20:03<17:47,  1.10it/s]\u001b[A\n",
      " 53%|█████▎    | 1325/2495 [20:04<17:48,  1.09it/s]\u001b[A\n",
      " 53%|█████▎    | 1326/2495 [20:05<18:29,  1.05it/s]\u001b[A\n",
      " 53%|█████▎    | 1327/2495 [20:06<18:11,  1.07it/s]\u001b[A\n",
      " 53%|█████▎    | 1328/2495 [20:07<18:00,  1.08it/s]\u001b[A\n",
      " 53%|█████▎    | 1329/2495 [20:08<17:51,  1.09it/s]\u001b[A\n",
      " 53%|█████▎    | 1330/2495 [20:09<17:45,  1.09it/s]\u001b[A\n",
      " 53%|█████▎    | 1331/2495 [20:10<17:50,  1.09it/s]\u001b[A\n",
      " 53%|█████▎    | 1332/2495 [20:11<17:44,  1.09it/s]\u001b[A\n",
      " 53%|█████▎    | 1333/2495 [20:11<17:41,  1.09it/s]\u001b[A\n",
      " 53%|█████▎    | 1334/2495 [20:12<17:40,  1.09it/s]\u001b[A\n",
      " 54%|█████▎    | 1335/2495 [20:13<17:46,  1.09it/s]\u001b[A\n",
      " 54%|█████▎    | 1336/2495 [20:14<17:40,  1.09it/s]\u001b[A\n",
      " 54%|█████▎    | 1337/2495 [20:15<17:38,  1.09it/s]\u001b[A\n",
      " 54%|█████▎    | 1338/2495 [20:16<17:36,  1.10it/s]\u001b[A\n",
      " 54%|█████▎    | 1339/2495 [20:17<17:35,  1.10it/s]\u001b[A\n",
      " 54%|█████▎    | 1340/2495 [20:18<17:33,  1.10it/s]\u001b[A\n",
      " 54%|█████▎    | 1341/2495 [20:19<17:31,  1.10it/s]\u001b[A\n",
      " 54%|█████▍    | 1342/2495 [20:20<17:34,  1.09it/s]\u001b[A\n",
      " 54%|█████▍    | 1343/2495 [20:21<17:34,  1.09it/s]\u001b[A\n",
      " 54%|█████▍    | 1344/2495 [20:22<17:33,  1.09it/s]\u001b[A\n",
      " 54%|█████▍    | 1345/2495 [20:22<17:34,  1.09it/s]\u001b[A\n",
      " 54%|█████▍    | 1346/2495 [20:23<17:36,  1.09it/s]\u001b[A\n",
      " 54%|█████▍    | 1347/2495 [20:24<17:33,  1.09it/s]\u001b[A\n",
      " 54%|█████▍    | 1348/2495 [20:25<17:30,  1.09it/s]\u001b[A\n",
      " 54%|█████▍    | 1349/2495 [20:26<17:29,  1.09it/s]\u001b[A\n",
      " 54%|█████▍    | 1350/2495 [20:27<17:29,  1.09it/s]\u001b[A\n",
      " 54%|█████▍    | 1351/2495 [20:28<17:29,  1.09it/s]\u001b[A\n",
      " 54%|█████▍    | 1352/2495 [20:29<17:23,  1.09it/s]\u001b[A\n",
      " 54%|█████▍    | 1353/2495 [20:30<17:27,  1.09it/s]\u001b[A\n",
      " 54%|█████▍    | 1354/2495 [20:31<17:28,  1.09it/s]\u001b[A\n",
      " 54%|█████▍    | 1355/2495 [20:32<17:24,  1.09it/s]\u001b[A\n",
      " 54%|█████▍    | 1356/2495 [20:33<17:20,  1.10it/s]\u001b[A\n",
      " 54%|█████▍    | 1357/2495 [20:34<18:00,  1.05it/s]\u001b[A\n",
      " 54%|█████▍    | 1358/2495 [20:34<17:48,  1.06it/s]\u001b[A\n",
      " 54%|█████▍    | 1359/2495 [20:35<17:36,  1.08it/s]\u001b[A\n",
      " 55%|█████▍    | 1360/2495 [20:36<17:26,  1.08it/s]\u001b[A\n",
      " 55%|█████▍    | 1361/2495 [20:37<17:21,  1.09it/s]\u001b[A\n",
      " 55%|█████▍    | 1362/2495 [20:38<17:17,  1.09it/s]\u001b[A\n",
      " 55%|█████▍    | 1363/2495 [20:39<17:17,  1.09it/s]\u001b[A\n",
      " 55%|█████▍    | 1364/2495 [20:40<17:16,  1.09it/s]\u001b[A\n",
      " 55%|█████▍    | 1365/2495 [20:41<17:14,  1.09it/s]\u001b[A\n",
      " 55%|█████▍    | 1366/2495 [20:42<17:12,  1.09it/s]\u001b[A\n",
      " 55%|█████▍    | 1367/2495 [20:43<17:18,  1.09it/s]\u001b[A\n",
      " 55%|█████▍    | 1368/2495 [20:44<17:13,  1.09it/s]\u001b[A\n",
      " 55%|█████▍    | 1369/2495 [20:45<17:13,  1.09it/s]\u001b[A\n",
      " 55%|█████▍    | 1370/2495 [20:45<17:22,  1.08it/s]\u001b[A\n",
      " 55%|█████▍    | 1371/2495 [20:46<17:20,  1.08it/s]\u001b[A\n",
      " 55%|█████▍    | 1372/2495 [20:47<17:18,  1.08it/s]\u001b[A\n",
      " 55%|█████▌    | 1373/2495 [20:48<17:16,  1.08it/s]\u001b[A\n",
      " 55%|█████▌    | 1374/2495 [20:49<17:12,  1.09it/s]\u001b[A\n",
      " 55%|█████▌    | 1375/2495 [20:50<17:14,  1.08it/s]\u001b[A\n",
      " 55%|█████▌    | 1376/2495 [20:51<17:14,  1.08it/s]\u001b[A\n",
      " 55%|█████▌    | 1377/2495 [20:52<17:13,  1.08it/s]\u001b[A\n",
      " 55%|█████▌    | 1378/2495 [20:53<17:08,  1.09it/s]\u001b[A\n",
      " 55%|█████▌    | 1379/2495 [20:54<17:02,  1.09it/s]\u001b[A\n",
      " 55%|█████▌    | 1380/2495 [20:55<16:58,  1.09it/s]\u001b[A\n",
      " 55%|█████▌    | 1381/2495 [20:56<16:53,  1.10it/s]\u001b[A\n",
      " 55%|█████▌    | 1382/2495 [20:56<16:51,  1.10it/s]\u001b[A\n",
      " 55%|█████▌    | 1383/2495 [20:57<16:50,  1.10it/s]\u001b[A\n",
      " 55%|█████▌    | 1384/2495 [20:58<16:48,  1.10it/s]\u001b[A\n",
      " 56%|█████▌    | 1385/2495 [20:59<16:45,  1.10it/s]\u001b[A\n",
      " 56%|█████▌    | 1386/2495 [21:00<16:50,  1.10it/s]\u001b[A\n",
      " 56%|█████▌    | 1387/2495 [21:01<16:55,  1.09it/s]\u001b[A\n",
      " 56%|█████▌    | 1388/2495 [21:02<17:38,  1.05it/s]\u001b[A\n",
      " 56%|█████▌    | 1389/2495 [21:03<17:35,  1.05it/s]\u001b[A\n",
      " 56%|█████▌    | 1390/2495 [21:04<17:22,  1.06it/s]\u001b[A\n",
      " 56%|█████▌    | 1391/2495 [21:05<17:12,  1.07it/s]\u001b[A\n",
      " 56%|█████▌    | 1392/2495 [21:06<17:05,  1.08it/s]\u001b[A\n",
      " 56%|█████▌    | 1393/2495 [21:07<16:59,  1.08it/s]\u001b[A\n",
      " 56%|█████▌    | 1394/2495 [21:08<16:56,  1.08it/s]\u001b[A\n",
      " 56%|█████▌    | 1395/2495 [21:09<16:52,  1.09it/s]\u001b[A\n",
      " 56%|█████▌    | 1396/2495 [21:09<16:54,  1.08it/s]\u001b[A\n",
      " 56%|█████▌    | 1397/2495 [21:10<16:52,  1.08it/s]\u001b[A\n",
      " 56%|█████▌    | 1398/2495 [21:11<16:49,  1.09it/s]\u001b[A\n",
      " 56%|█████▌    | 1399/2495 [21:12<16:48,  1.09it/s]\u001b[A\n",
      " 56%|█████▌    | 1400/2495 [21:13<16:47,  1.09it/s]\u001b[A\n",
      " 56%|█████▌    | 1401/2495 [21:14<16:45,  1.09it/s]\u001b[A\n",
      " 56%|█████▌    | 1402/2495 [21:15<16:50,  1.08it/s]\u001b[A\n",
      " 56%|█████▌    | 1403/2495 [21:16<16:47,  1.08it/s]\u001b[A\n",
      " 56%|█████▋    | 1404/2495 [21:17<16:45,  1.08it/s]\u001b[A\n",
      " 56%|█████▋    | 1405/2495 [21:18<16:40,  1.09it/s]\u001b[A\n",
      " 56%|█████▋    | 1406/2495 [21:19<16:43,  1.08it/s]\u001b[A\n",
      " 56%|█████▋    | 1407/2495 [21:20<16:36,  1.09it/s]\u001b[A\n",
      " 56%|█████▋    | 1408/2495 [21:20<16:33,  1.09it/s]\u001b[A\n",
      " 56%|█████▋    | 1409/2495 [21:21<16:29,  1.10it/s]\u001b[A\n",
      " 57%|█████▋    | 1410/2495 [21:22<16:24,  1.10it/s]\u001b[A\n",
      " 57%|█████▋    | 1411/2495 [21:23<16:21,  1.10it/s]\u001b[A\n",
      " 57%|█████▋    | 1412/2495 [21:24<16:21,  1.10it/s]\u001b[A\n",
      " 57%|█████▋    | 1413/2495 [21:25<16:20,  1.10it/s]\u001b[A\n",
      " 57%|█████▋    | 1414/2495 [21:26<16:18,  1.10it/s]\u001b[A\n",
      " 57%|█████▋    | 1415/2495 [21:27<16:17,  1.10it/s]\u001b[A\n",
      " 57%|█████▋    | 1416/2495 [21:28<16:18,  1.10it/s]\u001b[A\n",
      " 57%|█████▋    | 1417/2495 [21:29<16:17,  1.10it/s]\u001b[A\n",
      " 57%|█████▋    | 1418/2495 [21:30<16:14,  1.11it/s]\u001b[A\n",
      " 57%|█████▋    | 1419/2495 [21:31<16:57,  1.06it/s]\u001b[A\n",
      " 57%|█████▋    | 1420/2495 [21:31<16:46,  1.07it/s]\u001b[A\n",
      " 57%|█████▋    | 1421/2495 [21:32<16:35,  1.08it/s]\u001b[A\n",
      " 57%|█████▋    | 1422/2495 [21:33<16:26,  1.09it/s]\u001b[A\n",
      " 57%|█████▋    | 1423/2495 [21:34<16:21,  1.09it/s]\u001b[A\n",
      " 57%|█████▋    | 1424/2495 [21:35<16:17,  1.10it/s]\u001b[A\n",
      " 57%|█████▋    | 1425/2495 [21:36<16:15,  1.10it/s]\u001b[A\n",
      " 57%|█████▋    | 1426/2495 [21:37<16:12,  1.10it/s]\u001b[A\n",
      " 57%|█████▋    | 1427/2495 [21:38<16:11,  1.10it/s]\u001b[A\n",
      " 57%|█████▋    | 1428/2495 [21:39<16:09,  1.10it/s]\u001b[A\n",
      " 57%|█████▋    | 1429/2495 [21:40<16:07,  1.10it/s]\u001b[A\n",
      " 57%|█████▋    | 1430/2495 [21:41<16:17,  1.09it/s]\u001b[A\n",
      " 57%|█████▋    | 1431/2495 [21:41<16:13,  1.09it/s]\u001b[A\n",
      " 57%|█████▋    | 1432/2495 [21:42<16:11,  1.09it/s]\u001b[A\n",
      " 57%|█████▋    | 1433/2495 [21:43<16:11,  1.09it/s]\u001b[A\n",
      " 57%|█████▋    | 1434/2495 [21:44<16:09,  1.09it/s]\u001b[A\n",
      " 58%|█████▊    | 1435/2495 [21:45<16:05,  1.10it/s]\u001b[A\n",
      " 58%|█████▊    | 1436/2495 [21:46<16:06,  1.10it/s]\u001b[A\n",
      " 58%|█████▊    | 1437/2495 [21:47<16:06,  1.09it/s]\u001b[A\n",
      " 58%|█████▊    | 1438/2495 [21:48<16:11,  1.09it/s]\u001b[A\n",
      " 58%|█████▊    | 1439/2495 [21:49<16:06,  1.09it/s]\u001b[A\n",
      " 58%|█████▊    | 1440/2495 [21:50<16:04,  1.09it/s]\u001b[A\n",
      " 58%|█████▊    | 1441/2495 [21:51<16:13,  1.08it/s]\u001b[A\n",
      " 58%|█████▊    | 1442/2495 [21:52<16:09,  1.09it/s]\u001b[A\n",
      " 58%|█████▊    | 1443/2495 [21:52<16:07,  1.09it/s]\u001b[A\n",
      " 58%|█████▊    | 1444/2495 [21:53<16:07,  1.09it/s]\u001b[A\n",
      " 58%|█████▊    | 1445/2495 [21:54<16:04,  1.09it/s]\u001b[A\n",
      " 58%|█████▊    | 1446/2495 [21:55<16:01,  1.09it/s]\u001b[A\n",
      " 58%|█████▊    | 1447/2495 [21:56<15:58,  1.09it/s]\u001b[A\n",
      " 58%|█████▊    | 1448/2495 [21:57<15:59,  1.09it/s]\u001b[A\n",
      " 58%|█████▊    | 1449/2495 [21:58<16:01,  1.09it/s]\u001b[A\n",
      " 58%|█████▊    | 1450/2495 [21:59<16:38,  1.05it/s]\u001b[A\n",
      " 58%|█████▊    | 1451/2495 [22:00<16:24,  1.06it/s]\u001b[A\n",
      " 58%|█████▊    | 1452/2495 [22:01<16:15,  1.07it/s]\u001b[A\n",
      " 58%|█████▊    | 1453/2495 [22:02<16:07,  1.08it/s]\u001b[A\n",
      " 58%|█████▊    | 1454/2495 [22:03<16:01,  1.08it/s]\u001b[A\n",
      " 58%|█████▊    | 1455/2495 [22:04<15:54,  1.09it/s]\u001b[A\n",
      " 58%|█████▊    | 1456/2495 [22:04<15:51,  1.09it/s]\u001b[A\n",
      " 58%|█████▊    | 1457/2495 [22:05<15:50,  1.09it/s]\u001b[A\n",
      " 58%|█████▊    | 1458/2495 [22:06<15:48,  1.09it/s]\u001b[A\n",
      " 58%|█████▊    | 1459/2495 [22:07<15:47,  1.09it/s]\u001b[A\n",
      " 59%|█████▊    | 1460/2495 [22:08<15:44,  1.10it/s]\u001b[A\n",
      " 59%|█████▊    | 1461/2495 [22:09<15:42,  1.10it/s]\u001b[A\n",
      " 59%|█████▊    | 1462/2495 [22:10<15:41,  1.10it/s]\u001b[A\n",
      " 59%|█████▊    | 1463/2495 [22:11<15:43,  1.09it/s]\u001b[A\n",
      " 59%|█████▊    | 1464/2495 [22:12<15:39,  1.10it/s]\u001b[A\n",
      " 59%|█████▊    | 1465/2495 [22:13<15:41,  1.09it/s]\u001b[A\n",
      " 59%|█████▉    | 1466/2495 [22:14<15:42,  1.09it/s]\u001b[A\n",
      " 59%|█████▉    | 1467/2495 [22:15<15:43,  1.09it/s]\u001b[A\n",
      " 59%|█████▉    | 1468/2495 [22:15<15:41,  1.09it/s]\u001b[A\n",
      " 59%|█████▉    | 1469/2495 [22:16<15:41,  1.09it/s]\u001b[A\n",
      " 59%|█████▉    | 1470/2495 [22:17<15:41,  1.09it/s]\u001b[A\n",
      " 59%|█████▉    | 1471/2495 [22:18<15:39,  1.09it/s]\u001b[A\n",
      " 59%|█████▉    | 1472/2495 [22:19<15:38,  1.09it/s]\u001b[A\n",
      " 59%|█████▉    | 1473/2495 [22:20<15:37,  1.09it/s]\u001b[A\n",
      " 59%|█████▉    | 1474/2495 [22:21<15:44,  1.08it/s]\u001b[A\n",
      " 59%|█████▉    | 1475/2495 [22:22<15:42,  1.08it/s]\u001b[A\n",
      " 59%|█████▉    | 1476/2495 [22:23<16:57,  1.00it/s]\u001b[A\n",
      " 59%|█████▉    | 1477/2495 [22:24<16:46,  1.01it/s]\u001b[A\n",
      " 59%|█████▉    | 1478/2495 [22:25<16:37,  1.02it/s]\u001b[A\n",
      " 59%|█████▉    | 1479/2495 [22:26<16:28,  1.03it/s]\u001b[A\n",
      " 59%|█████▉    | 1480/2495 [22:27<16:14,  1.04it/s]\u001b[A\n",
      " 59%|█████▉    | 1481/2495 [22:28<16:38,  1.02it/s]\u001b[A\n",
      " 59%|█████▉    | 1482/2495 [22:29<16:20,  1.03it/s]\u001b[A\n",
      " 59%|█████▉    | 1483/2495 [22:30<16:07,  1.05it/s]\u001b[A\n",
      " 59%|█████▉    | 1484/2495 [22:31<15:55,  1.06it/s]\u001b[A\n",
      " 60%|█████▉    | 1485/2495 [22:32<15:47,  1.07it/s]\u001b[A\n",
      " 60%|█████▉    | 1486/2495 [22:33<15:41,  1.07it/s]\u001b[A\n",
      " 60%|█████▉    | 1487/2495 [22:33<15:37,  1.08it/s]\u001b[A\n",
      " 60%|█████▉    | 1488/2495 [22:34<15:33,  1.08it/s]\u001b[A\n",
      " 60%|█████▉    | 1489/2495 [22:35<15:30,  1.08it/s]\u001b[A\n",
      " 60%|█████▉    | 1490/2495 [22:36<15:28,  1.08it/s]\u001b[A\n",
      " 60%|█████▉    | 1491/2495 [22:37<15:28,  1.08it/s]\u001b[A\n",
      " 60%|█████▉    | 1492/2495 [22:38<15:29,  1.08it/s]\u001b[A\n",
      " 60%|█████▉    | 1493/2495 [22:39<15:25,  1.08it/s]\u001b[A\n",
      " 60%|█████▉    | 1494/2495 [22:40<15:25,  1.08it/s]\u001b[A\n",
      " 60%|█████▉    | 1495/2495 [22:41<15:24,  1.08it/s]\u001b[A\n",
      " 60%|█████▉    | 1496/2495 [22:42<15:22,  1.08it/s]\u001b[A\n",
      " 60%|██████    | 1497/2495 [22:43<15:19,  1.08it/s]\u001b[A\n",
      " 60%|██████    | 1498/2495 [22:44<15:21,  1.08it/s]\u001b[A\n",
      " 60%|██████    | 1499/2495 [22:45<15:19,  1.08it/s]\u001b[A\n",
      " 60%|██████    | 1500/2495 [22:45<15:19,  1.08it/s]\u001b[A\n",
      " 60%|██████    | 1501/2495 [22:46<15:16,  1.09it/s]\u001b[A\n"
     ]
    },
    {
     "name": "stderr",
     "output_type": "stream",
     "text": [
      " 60%|██████    | 1502/2495 [22:47<15:16,  1.08it/s]\u001b[A\n",
      " 60%|██████    | 1503/2495 [22:48<15:19,  1.08it/s]\u001b[A\n",
      " 60%|██████    | 1504/2495 [22:49<15:17,  1.08it/s]\u001b[A\n",
      " 60%|██████    | 1505/2495 [22:50<15:13,  1.08it/s]\u001b[A\n",
      " 60%|██████    | 1506/2495 [22:51<15:09,  1.09it/s]\u001b[A\n",
      " 60%|██████    | 1507/2495 [22:52<15:08,  1.09it/s]\u001b[A\n",
      " 60%|██████    | 1508/2495 [22:53<15:15,  1.08it/s]\u001b[A\n",
      " 60%|██████    | 1509/2495 [22:54<15:11,  1.08it/s]\u001b[A\n",
      " 61%|██████    | 1510/2495 [22:55<15:08,  1.08it/s]\u001b[A\n",
      " 61%|██████    | 1511/2495 [22:56<15:10,  1.08it/s]\u001b[A\n",
      " 61%|██████    | 1512/2495 [22:57<15:49,  1.04it/s]\u001b[A\n",
      " 61%|██████    | 1513/2495 [22:58<15:35,  1.05it/s]\u001b[A\n",
      " 61%|██████    | 1514/2495 [22:59<15:22,  1.06it/s]\u001b[A\n",
      " 61%|██████    | 1515/2495 [22:59<15:17,  1.07it/s]\u001b[A\n",
      " 61%|██████    | 1516/2495 [23:00<15:15,  1.07it/s]\u001b[A\n",
      " 61%|██████    | 1517/2495 [23:01<15:13,  1.07it/s]\u001b[A\n",
      " 61%|██████    | 1518/2495 [23:02<15:12,  1.07it/s]\u001b[A\n",
      " 61%|██████    | 1519/2495 [23:03<15:13,  1.07it/s]\u001b[A\n",
      " 61%|██████    | 1520/2495 [23:04<15:13,  1.07it/s]\u001b[A\n",
      " 61%|██████    | 1521/2495 [23:05<16:00,  1.01it/s]\u001b[A\n",
      " 61%|██████    | 1522/2495 [23:06<15:39,  1.04it/s]\u001b[A\n",
      " 61%|██████    | 1523/2495 [23:07<15:23,  1.05it/s]\u001b[A\n",
      " 61%|██████    | 1524/2495 [23:08<15:12,  1.06it/s]\u001b[A\n",
      " 61%|██████    | 1525/2495 [23:09<15:02,  1.07it/s]\u001b[A\n",
      " 61%|██████    | 1526/2495 [23:10<14:55,  1.08it/s]\u001b[A\n",
      " 61%|██████    | 1527/2495 [23:11<14:55,  1.08it/s]\u001b[A\n",
      " 61%|██████    | 1528/2495 [23:12<14:48,  1.09it/s]\u001b[A\n",
      " 61%|██████▏   | 1529/2495 [23:13<14:52,  1.08it/s]\u001b[A\n",
      " 61%|██████▏   | 1530/2495 [23:13<14:42,  1.09it/s]\u001b[A\n",
      " 61%|██████▏   | 1531/2495 [23:14<14:44,  1.09it/s]\u001b[A\n",
      " 61%|██████▏   | 1532/2495 [23:15<14:45,  1.09it/s]\u001b[A\n",
      " 61%|██████▏   | 1533/2495 [23:16<14:46,  1.08it/s]\u001b[A\n",
      " 61%|██████▏   | 1534/2495 [23:17<14:38,  1.09it/s]\u001b[A\n",
      " 62%|██████▏   | 1535/2495 [23:18<14:37,  1.09it/s]\u001b[A\n",
      " 62%|██████▏   | 1536/2495 [23:19<14:39,  1.09it/s]\u001b[A\n",
      " 62%|██████▏   | 1537/2495 [23:20<14:40,  1.09it/s]\u001b[A\n",
      " 62%|██████▏   | 1538/2495 [23:21<14:39,  1.09it/s]\u001b[A\n",
      " 62%|██████▏   | 1539/2495 [23:22<14:37,  1.09it/s]\u001b[A\n",
      " 62%|██████▏   | 1540/2495 [23:23<14:43,  1.08it/s]\u001b[A\n",
      " 62%|██████▏   | 1541/2495 [23:24<14:43,  1.08it/s]\u001b[A\n",
      " 62%|██████▏   | 1542/2495 [23:25<14:43,  1.08it/s]\u001b[A\n",
      " 62%|██████▏   | 1543/2495 [23:26<15:14,  1.04it/s]\u001b[A\n",
      " 62%|██████▏   | 1544/2495 [23:26<15:02,  1.05it/s]\u001b[A\n",
      " 62%|██████▏   | 1545/2495 [23:27<14:52,  1.06it/s]\u001b[A\n",
      " 62%|██████▏   | 1546/2495 [23:28<14:43,  1.07it/s]\u001b[A\n",
      " 62%|██████▏   | 1547/2495 [23:29<14:37,  1.08it/s]\u001b[A\n",
      " 62%|██████▏   | 1548/2495 [23:30<14:32,  1.09it/s]\u001b[A\n",
      " 62%|██████▏   | 1549/2495 [23:31<14:28,  1.09it/s]\u001b[A\n",
      " 62%|██████▏   | 1550/2495 [23:32<14:27,  1.09it/s]\u001b[A\n",
      " 62%|██████▏   | 1551/2495 [23:33<14:25,  1.09it/s]\u001b[A\n",
      " 62%|██████▏   | 1552/2495 [23:34<14:26,  1.09it/s]\u001b[A\n",
      " 62%|██████▏   | 1553/2495 [23:35<14:25,  1.09it/s]\u001b[A\n",
      " 62%|██████▏   | 1554/2495 [23:36<14:24,  1.09it/s]\u001b[A\n",
      " 62%|██████▏   | 1555/2495 [23:37<14:22,  1.09it/s]\u001b[A\n",
      " 62%|██████▏   | 1556/2495 [23:38<14:26,  1.08it/s]\u001b[A\n",
      " 62%|██████▏   | 1557/2495 [23:38<14:29,  1.08it/s]\u001b[A\n",
      " 62%|██████▏   | 1558/2495 [23:39<14:25,  1.08it/s]\u001b[A\n",
      " 62%|██████▏   | 1559/2495 [23:40<14:25,  1.08it/s]\u001b[A\n",
      " 63%|██████▎   | 1560/2495 [23:41<14:20,  1.09it/s]\u001b[A\n",
      " 63%|██████▎   | 1561/2495 [23:42<14:19,  1.09it/s]\u001b[A\n",
      " 63%|██████▎   | 1562/2495 [23:43<14:15,  1.09it/s]\u001b[A\n",
      " 63%|██████▎   | 1563/2495 [23:44<14:12,  1.09it/s]\u001b[A\n",
      " 63%|██████▎   | 1564/2495 [23:45<14:09,  1.10it/s]\u001b[A\n",
      " 63%|██████▎   | 1565/2495 [23:46<14:08,  1.10it/s]\u001b[A\n",
      " 63%|██████▎   | 1566/2495 [23:47<14:07,  1.10it/s]\u001b[A\n",
      " 63%|██████▎   | 1567/2495 [23:48<14:05,  1.10it/s]\u001b[A\n",
      " 63%|██████▎   | 1568/2495 [23:48<14:05,  1.10it/s]\u001b[A\n",
      " 63%|██████▎   | 1569/2495 [23:49<14:05,  1.10it/s]\u001b[A\n",
      " 63%|██████▎   | 1570/2495 [23:50<14:05,  1.09it/s]\u001b[A\n",
      " 63%|██████▎   | 1571/2495 [23:51<14:05,  1.09it/s]\u001b[A\n",
      " 63%|██████▎   | 1572/2495 [23:52<14:07,  1.09it/s]\u001b[A\n",
      " 63%|██████▎   | 1573/2495 [23:53<14:10,  1.08it/s]\u001b[A\n",
      " 63%|██████▎   | 1574/2495 [23:54<14:43,  1.04it/s]\u001b[A\n",
      " 63%|██████▎   | 1575/2495 [23:55<14:29,  1.06it/s]\u001b[A\n",
      " 63%|██████▎   | 1576/2495 [23:56<14:19,  1.07it/s]\u001b[A\n",
      " 63%|██████▎   | 1577/2495 [23:57<14:09,  1.08it/s]\u001b[A\n",
      " 63%|██████▎   | 1578/2495 [23:58<14:03,  1.09it/s]\u001b[A\n",
      " 63%|██████▎   | 1579/2495 [23:59<13:56,  1.10it/s]\u001b[A\n",
      " 63%|██████▎   | 1580/2495 [24:00<13:49,  1.10it/s]\u001b[A\n",
      " 63%|██████▎   | 1581/2495 [24:00<13:46,  1.11it/s]\u001b[A\n",
      " 63%|██████▎   | 1582/2495 [24:01<13:47,  1.10it/s]\u001b[A\n",
      " 63%|██████▎   | 1583/2495 [24:02<13:43,  1.11it/s]\u001b[A\n",
      " 63%|██████▎   | 1584/2495 [24:03<13:45,  1.10it/s]\u001b[A\n",
      " 64%|██████▎   | 1585/2495 [24:04<13:41,  1.11it/s]\u001b[A\n",
      " 64%|██████▎   | 1586/2495 [24:05<13:47,  1.10it/s]\u001b[A\n",
      " 64%|██████▎   | 1587/2495 [24:06<13:42,  1.10it/s]\u001b[A\n",
      " 64%|██████▎   | 1588/2495 [24:07<13:39,  1.11it/s]\u001b[A\n",
      " 64%|██████▎   | 1589/2495 [24:08<13:36,  1.11it/s]\u001b[A\n",
      " 64%|██████▎   | 1590/2495 [24:09<13:35,  1.11it/s]\u001b[A\n",
      " 64%|██████▍   | 1591/2495 [24:09<13:35,  1.11it/s]\u001b[A\n",
      " 64%|██████▍   | 1592/2495 [24:10<13:33,  1.11it/s]\u001b[A\n",
      " 64%|██████▍   | 1593/2495 [24:11<13:34,  1.11it/s]\u001b[A\n",
      " 64%|██████▍   | 1594/2495 [24:12<13:34,  1.11it/s]\u001b[A\n",
      " 64%|██████▍   | 1595/2495 [24:13<13:34,  1.11it/s]\u001b[A\n",
      " 64%|██████▍   | 1596/2495 [24:14<13:34,  1.10it/s]\u001b[A\n",
      " 64%|██████▍   | 1597/2495 [24:15<13:35,  1.10it/s]\u001b[A\n",
      " 64%|██████▍   | 1598/2495 [24:16<13:36,  1.10it/s]\u001b[A\n",
      " 64%|██████▍   | 1599/2495 [24:17<13:48,  1.08it/s]\u001b[A\n",
      " 64%|██████▍   | 1600/2495 [24:18<13:46,  1.08it/s]\u001b[A\n",
      " 64%|██████▍   | 1601/2495 [24:19<13:44,  1.08it/s]\u001b[A\n",
      " 64%|██████▍   | 1602/2495 [24:20<13:39,  1.09it/s]\u001b[A\n",
      " 64%|██████▍   | 1603/2495 [24:20<13:39,  1.09it/s]\u001b[A\n",
      " 64%|██████▍   | 1604/2495 [24:21<13:35,  1.09it/s]\u001b[A\n",
      " 64%|██████▍   | 1605/2495 [24:22<14:09,  1.05it/s]\u001b[A\n",
      " 64%|██████▍   | 1606/2495 [24:23<13:54,  1.07it/s]\u001b[A\n",
      " 64%|██████▍   | 1607/2495 [24:24<13:45,  1.08it/s]\u001b[A\n",
      " 64%|██████▍   | 1608/2495 [24:25<13:35,  1.09it/s]\u001b[A\n",
      " 64%|██████▍   | 1609/2495 [24:26<13:27,  1.10it/s]\u001b[A\n",
      " 65%|██████▍   | 1610/2495 [24:27<13:22,  1.10it/s]\u001b[A\n",
      " 65%|██████▍   | 1611/2495 [24:28<13:19,  1.11it/s]\u001b[A\n",
      " 65%|██████▍   | 1612/2495 [24:29<13:18,  1.11it/s]\u001b[A\n",
      " 65%|██████▍   | 1613/2495 [24:30<13:16,  1.11it/s]\u001b[A\n",
      " 65%|██████▍   | 1614/2495 [24:31<13:18,  1.10it/s]\u001b[A\n",
      " 65%|██████▍   | 1615/2495 [24:31<13:18,  1.10it/s]\u001b[A\n",
      " 65%|██████▍   | 1616/2495 [24:32<13:17,  1.10it/s]\u001b[A\n",
      " 65%|██████▍   | 1617/2495 [24:33<13:20,  1.10it/s]\u001b[A\n",
      " 65%|██████▍   | 1618/2495 [24:34<13:22,  1.09it/s]\u001b[A\n",
      " 65%|██████▍   | 1619/2495 [24:35<13:25,  1.09it/s]\u001b[A\n",
      " 65%|██████▍   | 1620/2495 [24:36<13:21,  1.09it/s]\u001b[A\n",
      " 65%|██████▍   | 1621/2495 [24:37<13:17,  1.10it/s]\u001b[A\n",
      " 65%|██████▌   | 1622/2495 [24:38<13:13,  1.10it/s]\u001b[A\n",
      " 65%|██████▌   | 1623/2495 [24:39<13:20,  1.09it/s]\u001b[A\n",
      " 65%|██████▌   | 1624/2495 [24:40<13:51,  1.05it/s]\u001b[A\n",
      " 65%|██████▌   | 1625/2495 [24:41<13:55,  1.04it/s]\u001b[A\n",
      " 65%|██████▌   | 1626/2495 [24:42<13:38,  1.06it/s]\u001b[A\n",
      " 65%|██████▌   | 1627/2495 [24:43<14:27,  1.00it/s]\u001b[A\n",
      " 65%|██████▌   | 1628/2495 [24:44<14:11,  1.02it/s]\u001b[A\n",
      " 65%|██████▌   | 1629/2495 [24:45<14:00,  1.03it/s]\u001b[A\n",
      " 65%|██████▌   | 1630/2495 [24:46<13:54,  1.04it/s]\u001b[A\n",
      " 65%|██████▌   | 1631/2495 [24:47<13:51,  1.04it/s]\u001b[A\n",
      " 65%|██████▌   | 1632/2495 [24:48<13:38,  1.05it/s]\u001b[A\n",
      " 65%|██████▌   | 1633/2495 [24:48<13:27,  1.07it/s]\u001b[A\n",
      " 65%|██████▌   | 1634/2495 [24:49<13:27,  1.07it/s]\u001b[A\n",
      " 66%|██████▌   | 1635/2495 [24:50<13:26,  1.07it/s]\u001b[A\n",
      " 66%|██████▌   | 1636/2495 [24:51<13:27,  1.06it/s]\u001b[A\n",
      " 66%|██████▌   | 1637/2495 [24:52<13:54,  1.03it/s]\u001b[A\n",
      " 66%|██████▌   | 1638/2495 [24:53<13:40,  1.04it/s]\u001b[A\n",
      " 66%|██████▌   | 1639/2495 [24:54<13:26,  1.06it/s]\u001b[A\n",
      " 66%|██████▌   | 1640/2495 [24:55<13:15,  1.08it/s]\u001b[A\n",
      " 66%|██████▌   | 1641/2495 [24:56<13:06,  1.09it/s]\u001b[A\n",
      " 66%|██████▌   | 1642/2495 [24:57<13:01,  1.09it/s]\u001b[A\n",
      " 66%|██████▌   | 1643/2495 [24:58<12:58,  1.09it/s]\u001b[A\n",
      " 66%|██████▌   | 1644/2495 [24:59<12:57,  1.09it/s]\u001b[A\n",
      " 66%|██████▌   | 1645/2495 [25:00<12:59,  1.09it/s]\u001b[A\n",
      " 66%|██████▌   | 1646/2495 [25:01<12:56,  1.09it/s]\u001b[A\n",
      " 66%|██████▌   | 1647/2495 [25:01<12:51,  1.10it/s]\u001b[A\n",
      " 66%|██████▌   | 1648/2495 [25:02<12:48,  1.10it/s]\u001b[A\n",
      " 66%|██████▌   | 1649/2495 [25:03<12:59,  1.09it/s]\u001b[A\n",
      " 66%|██████▌   | 1650/2495 [25:04<12:54,  1.09it/s]\u001b[A\n",
      " 66%|██████▌   | 1651/2495 [25:05<12:48,  1.10it/s]\u001b[A\n",
      " 66%|██████▌   | 1652/2495 [25:06<12:47,  1.10it/s]\u001b[A\n",
      " 66%|██████▋   | 1653/2495 [25:07<12:45,  1.10it/s]\u001b[A\n",
      " 66%|██████▋   | 1654/2495 [25:08<12:41,  1.10it/s]\u001b[A\n",
      " 66%|██████▋   | 1655/2495 [25:09<12:39,  1.11it/s]\u001b[A\n",
      " 66%|██████▋   | 1656/2495 [25:10<12:39,  1.10it/s]\u001b[A\n",
      " 66%|██████▋   | 1657/2495 [25:10<12:36,  1.11it/s]\u001b[A\n",
      " 66%|██████▋   | 1658/2495 [25:11<12:53,  1.08it/s]\u001b[A\n",
      " 66%|██████▋   | 1659/2495 [25:12<13:00,  1.07it/s]\u001b[A\n",
      " 67%|██████▋   | 1660/2495 [25:13<12:59,  1.07it/s]\u001b[A\n",
      " 67%|██████▋   | 1661/2495 [25:14<12:56,  1.07it/s]\u001b[A\n",
      " 67%|██████▋   | 1662/2495 [25:15<12:44,  1.09it/s]\u001b[A\n",
      " 67%|██████▋   | 1663/2495 [25:16<12:39,  1.10it/s]\u001b[A\n",
      " 67%|██████▋   | 1664/2495 [25:17<12:40,  1.09it/s]\u001b[A\n",
      " 67%|██████▋   | 1665/2495 [25:18<12:42,  1.09it/s]\u001b[A\n",
      " 67%|██████▋   | 1666/2495 [25:19<12:38,  1.09it/s]\u001b[A\n",
      " 67%|██████▋   | 1667/2495 [25:20<12:35,  1.10it/s]\u001b[A\n",
      " 67%|██████▋   | 1668/2495 [25:21<12:33,  1.10it/s]\u001b[A\n",
      " 67%|██████▋   | 1669/2495 [25:22<13:03,  1.05it/s]\u001b[A\n",
      " 67%|██████▋   | 1670/2495 [25:23<12:51,  1.07it/s]\u001b[A\n",
      " 67%|██████▋   | 1671/2495 [25:23<12:41,  1.08it/s]\u001b[A\n",
      " 67%|██████▋   | 1672/2495 [25:24<12:32,  1.09it/s]\u001b[A\n",
      " 67%|██████▋   | 1673/2495 [25:25<12:26,  1.10it/s]\u001b[A\n",
      " 67%|██████▋   | 1674/2495 [25:26<12:22,  1.11it/s]\u001b[A\n",
      " 67%|██████▋   | 1675/2495 [25:27<12:21,  1.11it/s]\u001b[A\n",
      " 67%|██████▋   | 1676/2495 [25:28<12:19,  1.11it/s]\u001b[A\n",
      " 67%|██████▋   | 1677/2495 [25:29<12:20,  1.10it/s]\u001b[A\n",
      " 67%|██████▋   | 1678/2495 [25:30<12:19,  1.10it/s]\u001b[A\n",
      " 67%|██████▋   | 1679/2495 [25:31<12:17,  1.11it/s]\u001b[A\n",
      " 67%|██████▋   | 1680/2495 [25:32<12:17,  1.11it/s]\u001b[A\n",
      " 67%|██████▋   | 1681/2495 [25:32<12:18,  1.10it/s]\u001b[A\n",
      " 67%|██████▋   | 1682/2495 [25:33<12:18,  1.10it/s]\u001b[A\n",
      " 67%|██████▋   | 1683/2495 [25:34<12:16,  1.10it/s]\u001b[A\n",
      " 67%|██████▋   | 1684/2495 [25:35<12:14,  1.10it/s]\u001b[A\n",
      " 68%|██████▊   | 1685/2495 [25:36<12:14,  1.10it/s]\u001b[A\n",
      " 68%|██████▊   | 1686/2495 [25:37<12:13,  1.10it/s]\u001b[A\n",
      " 68%|██████▊   | 1687/2495 [25:38<12:12,  1.10it/s]\u001b[A\n",
      " 68%|██████▊   | 1688/2495 [25:39<12:10,  1.10it/s]\u001b[A\n",
      " 68%|██████▊   | 1689/2495 [25:40<12:11,  1.10it/s]\u001b[A\n",
      " 68%|██████▊   | 1690/2495 [25:41<12:10,  1.10it/s]\u001b[A\n",
      " 68%|██████▊   | 1691/2495 [25:42<12:07,  1.11it/s]\u001b[A\n",
      " 68%|██████▊   | 1692/2495 [25:42<12:06,  1.10it/s]\u001b[A\n",
      " 68%|██████▊   | 1693/2495 [25:43<12:05,  1.10it/s]\u001b[A\n",
      " 68%|██████▊   | 1694/2495 [25:44<12:09,  1.10it/s]\u001b[A\n",
      " 68%|██████▊   | 1695/2495 [25:45<12:12,  1.09it/s]\u001b[A\n",
      " 68%|██████▊   | 1696/2495 [25:46<12:20,  1.08it/s]\u001b[A\n",
      " 68%|██████▊   | 1697/2495 [25:47<12:20,  1.08it/s]\u001b[A\n",
      " 68%|██████▊   | 1698/2495 [25:48<12:16,  1.08it/s]\u001b[A\n",
      " 68%|██████▊   | 1699/2495 [25:49<12:18,  1.08it/s]\u001b[A\n",
      " 68%|██████▊   | 1700/2495 [25:50<12:42,  1.04it/s]\u001b[A\n",
      " 68%|██████▊   | 1701/2495 [25:51<12:28,  1.06it/s]\u001b[A\n",
      " 68%|██████▊   | 1702/2495 [25:52<12:19,  1.07it/s]\u001b[A\n",
      " 68%|██████▊   | 1703/2495 [25:53<12:11,  1.08it/s]\u001b[A\n",
      " 68%|██████▊   | 1704/2495 [25:54<12:05,  1.09it/s]\u001b[A\n",
      " 68%|██████▊   | 1705/2495 [25:55<12:01,  1.09it/s]\u001b[A\n",
      " 68%|██████▊   | 1706/2495 [25:55<12:00,  1.10it/s]\u001b[A\n",
      " 68%|██████▊   | 1707/2495 [25:56<11:59,  1.10it/s]\u001b[A\n",
      " 68%|██████▊   | 1708/2495 [25:57<11:57,  1.10it/s]\u001b[A\n",
      " 68%|██████▊   | 1709/2495 [25:58<11:56,  1.10it/s]\u001b[A\n",
      " 69%|██████▊   | 1710/2495 [25:59<11:57,  1.09it/s]\u001b[A\n",
      " 69%|██████▊   | 1711/2495 [26:00<11:57,  1.09it/s]\u001b[A\n",
      " 69%|██████▊   | 1712/2495 [26:01<11:56,  1.09it/s]\u001b[A\n",
      " 69%|██████▊   | 1713/2495 [26:02<11:56,  1.09it/s]\u001b[A\n",
      " 69%|██████▊   | 1714/2495 [26:03<11:54,  1.09it/s]\u001b[A\n",
      " 69%|██████▊   | 1715/2495 [26:04<11:55,  1.09it/s]\u001b[A\n",
      " 69%|██████▉   | 1716/2495 [26:05<11:55,  1.09it/s]\u001b[A\n",
      " 69%|██████▉   | 1717/2495 [26:06<11:54,  1.09it/s]\u001b[A\n",
      " 69%|██████▉   | 1718/2495 [26:06<11:53,  1.09it/s]\u001b[A\n",
      " 69%|██████▉   | 1719/2495 [26:07<11:52,  1.09it/s]\u001b[A\n",
      " 69%|██████▉   | 1720/2495 [26:08<11:50,  1.09it/s]\u001b[A\n",
      " 69%|██████▉   | 1721/2495 [26:09<11:48,  1.09it/s]\u001b[A\n",
      " 69%|██████▉   | 1722/2495 [26:10<11:47,  1.09it/s]\u001b[A\n",
      " 69%|██████▉   | 1723/2495 [26:11<11:47,  1.09it/s]\u001b[A\n",
      " 69%|██████▉   | 1724/2495 [26:12<11:46,  1.09it/s]\u001b[A\n",
      " 69%|██████▉   | 1725/2495 [26:13<11:44,  1.09it/s]\u001b[A\n",
      " 69%|██████▉   | 1726/2495 [26:14<11:43,  1.09it/s]\u001b[A\n",
      " 69%|██████▉   | 1727/2495 [26:15<11:41,  1.09it/s]\u001b[A\n",
      " 69%|██████▉   | 1728/2495 [26:16<11:41,  1.09it/s]\u001b[A\n",
      " 69%|██████▉   | 1729/2495 [26:16<11:40,  1.09it/s]\u001b[A\n",
      " 69%|██████▉   | 1730/2495 [26:17<11:42,  1.09it/s]\u001b[A\n",
      " 69%|██████▉   | 1731/2495 [26:18<11:42,  1.09it/s]\u001b[A\n",
      " 69%|██████▉   | 1732/2495 [26:19<12:17,  1.03it/s]\u001b[A\n",
      " 69%|██████▉   | 1733/2495 [26:20<12:02,  1.05it/s]\u001b[A\n",
      " 69%|██████▉   | 1734/2495 [26:21<11:58,  1.06it/s]\u001b[A\n",
      " 70%|██████▉   | 1735/2495 [26:22<11:50,  1.07it/s]\u001b[A\n",
      " 70%|██████▉   | 1736/2495 [26:23<11:42,  1.08it/s]\u001b[A\n",
      " 70%|██████▉   | 1737/2495 [26:24<11:35,  1.09it/s]\u001b[A\n",
      " 70%|██████▉   | 1738/2495 [26:25<11:31,  1.10it/s]\u001b[A\n",
      " 70%|██████▉   | 1739/2495 [26:26<11:28,  1.10it/s]\u001b[A\n",
      " 70%|██████▉   | 1740/2495 [26:27<11:30,  1.09it/s]\u001b[A\n",
      " 70%|██████▉   | 1741/2495 [26:28<11:30,  1.09it/s]\u001b[A\n",
      " 70%|██████▉   | 1742/2495 [26:29<11:31,  1.09it/s]\u001b[A\n",
      " 70%|██████▉   | 1743/2495 [26:29<11:32,  1.09it/s]\u001b[A\n",
      " 70%|██████▉   | 1744/2495 [26:30<11:33,  1.08it/s]\u001b[A\n",
      " 70%|██████▉   | 1745/2495 [26:31<11:32,  1.08it/s]\u001b[A\n",
      " 70%|██████▉   | 1746/2495 [26:32<11:32,  1.08it/s]\u001b[A\n",
      " 70%|███████   | 1747/2495 [26:33<11:31,  1.08it/s]\u001b[A\n",
      " 70%|███████   | 1748/2495 [26:34<11:31,  1.08it/s]\u001b[A\n",
      " 70%|███████   | 1749/2495 [26:35<11:30,  1.08it/s]\u001b[A\n",
      " 70%|███████   | 1750/2495 [26:36<11:31,  1.08it/s]\u001b[A\n",
      " 70%|███████   | 1751/2495 [26:37<11:28,  1.08it/s]\u001b[A\n",
      " 70%|███████   | 1752/2495 [26:38<11:24,  1.09it/s]\u001b[A\n",
      " 70%|███████   | 1753/2495 [26:39<11:20,  1.09it/s]\u001b[A\n",
      " 70%|███████   | 1754/2495 [26:40<11:17,  1.09it/s]\u001b[A\n",
      " 70%|███████   | 1755/2495 [26:41<11:18,  1.09it/s]\u001b[A\n",
      " 70%|███████   | 1756/2495 [26:41<11:18,  1.09it/s]\u001b[A\n",
      " 70%|███████   | 1757/2495 [26:42<11:16,  1.09it/s]\u001b[A\n",
      " 70%|███████   | 1758/2495 [26:43<11:16,  1.09it/s]\u001b[A\n",
      " 71%|███████   | 1759/2495 [26:44<11:16,  1.09it/s]\u001b[A\n",
      " 71%|███████   | 1760/2495 [26:45<11:14,  1.09it/s]\u001b[A\n",
      " 71%|███████   | 1761/2495 [26:46<11:12,  1.09it/s]\u001b[A\n",
      " 71%|███████   | 1762/2495 [26:47<11:09,  1.09it/s]\u001b[A\n",
      " 71%|███████   | 1763/2495 [26:48<11:11,  1.09it/s]\u001b[A\n",
      " 71%|███████   | 1764/2495 [26:49<11:44,  1.04it/s]\u001b[A\n",
      " 71%|███████   | 1765/2495 [26:50<11:32,  1.05it/s]\u001b[A\n",
      " 71%|███████   | 1766/2495 [26:51<11:29,  1.06it/s]\u001b[A\n",
      " 71%|███████   | 1767/2495 [26:52<11:22,  1.07it/s]\u001b[A\n",
      " 71%|███████   | 1768/2495 [26:53<11:16,  1.07it/s]\u001b[A\n",
      " 71%|███████   | 1769/2495 [26:54<11:12,  1.08it/s]\u001b[A\n",
      " 71%|███████   | 1770/2495 [26:54<11:07,  1.09it/s]\u001b[A\n",
      " 71%|███████   | 1771/2495 [26:55<11:07,  1.09it/s]\u001b[A\n",
      " 71%|███████   | 1772/2495 [26:56<11:06,  1.09it/s]\u001b[A\n",
      " 71%|███████   | 1773/2495 [26:57<11:04,  1.09it/s]\u001b[A\n",
      " 71%|███████   | 1774/2495 [26:58<11:01,  1.09it/s]\u001b[A\n",
      " 71%|███████   | 1775/2495 [26:59<11:00,  1.09it/s]\u001b[A\n",
      " 71%|███████   | 1776/2495 [27:00<11:00,  1.09it/s]\u001b[A\n",
      " 71%|███████   | 1777/2495 [27:01<11:02,  1.08it/s]\u001b[A\n",
      " 71%|███████▏  | 1778/2495 [27:02<11:00,  1.09it/s]\u001b[A\n",
      " 71%|███████▏  | 1779/2495 [27:03<11:01,  1.08it/s]\u001b[A\n",
      " 71%|███████▏  | 1780/2495 [27:04<11:07,  1.07it/s]\u001b[A\n",
      " 71%|███████▏  | 1781/2495 [27:05<11:03,  1.08it/s]\u001b[A\n",
      " 71%|███████▏  | 1782/2495 [27:06<11:12,  1.06it/s]\u001b[A\n",
      " 71%|███████▏  | 1783/2495 [27:07<11:15,  1.05it/s]\u001b[A\n",
      " 72%|███████▏  | 1784/2495 [27:07<11:05,  1.07it/s]\u001b[A\n",
      " 72%|███████▏  | 1785/2495 [27:08<10:57,  1.08it/s]\u001b[A\n",
      " 72%|███████▏  | 1786/2495 [27:09<10:49,  1.09it/s]\u001b[A\n",
      " 72%|███████▏  | 1787/2495 [27:10<10:46,  1.10it/s]\u001b[A\n",
      " 72%|███████▏  | 1788/2495 [27:11<10:49,  1.09it/s]\u001b[A\n",
      " 72%|███████▏  | 1789/2495 [27:12<10:44,  1.10it/s]\u001b[A\n",
      " 72%|███████▏  | 1790/2495 [27:13<10:40,  1.10it/s]\u001b[A\n",
      " 72%|███████▏  | 1791/2495 [27:14<10:42,  1.10it/s]\u001b[A\n",
      " 72%|███████▏  | 1792/2495 [27:15<10:42,  1.09it/s]\u001b[A\n",
      " 72%|███████▏  | 1793/2495 [27:16<10:39,  1.10it/s]\u001b[A\n",
      " 72%|███████▏  | 1794/2495 [27:17<10:35,  1.10it/s]\u001b[A\n",
      " 72%|███████▏  | 1795/2495 [27:17<10:32,  1.11it/s]\u001b[A\n",
      " 72%|███████▏  | 1796/2495 [27:18<10:31,  1.11it/s]\u001b[A\n",
      " 72%|███████▏  | 1797/2495 [27:19<10:59,  1.06it/s]\u001b[A\n"
     ]
    },
    {
     "name": "stderr",
     "output_type": "stream",
     "text": [
      " 72%|███████▏  | 1798/2495 [27:20<10:52,  1.07it/s]\u001b[A\n",
      " 72%|███████▏  | 1799/2495 [27:21<10:42,  1.08it/s]\u001b[A\n",
      " 72%|███████▏  | 1800/2495 [27:22<10:37,  1.09it/s]\u001b[A\n",
      " 72%|███████▏  | 1801/2495 [27:23<10:35,  1.09it/s]\u001b[A\n",
      " 72%|███████▏  | 1802/2495 [27:24<10:38,  1.09it/s]\u001b[A\n",
      " 72%|███████▏  | 1803/2495 [27:25<10:34,  1.09it/s]\u001b[A\n",
      " 72%|███████▏  | 1804/2495 [27:26<10:32,  1.09it/s]\u001b[A\n",
      " 72%|███████▏  | 1805/2495 [27:27<10:32,  1.09it/s]\u001b[A\n",
      " 72%|███████▏  | 1806/2495 [27:28<10:29,  1.09it/s]\u001b[A\n",
      " 72%|███████▏  | 1807/2495 [27:28<10:29,  1.09it/s]\u001b[A\n",
      " 72%|███████▏  | 1808/2495 [27:29<10:29,  1.09it/s]\u001b[A\n",
      " 73%|███████▎  | 1809/2495 [27:30<10:27,  1.09it/s]\u001b[A\n",
      " 73%|███████▎  | 1810/2495 [27:31<10:24,  1.10it/s]\u001b[A\n",
      " 73%|███████▎  | 1811/2495 [27:32<10:21,  1.10it/s]\u001b[A\n",
      " 73%|███████▎  | 1812/2495 [27:33<10:19,  1.10it/s]\u001b[A\n",
      " 73%|███████▎  | 1813/2495 [27:34<10:22,  1.10it/s]\u001b[A\n",
      " 73%|███████▎  | 1814/2495 [27:35<10:20,  1.10it/s]\u001b[A\n",
      " 73%|███████▎  | 1815/2495 [27:36<11:26,  1.01s/it]\u001b[A\n",
      " 73%|███████▎  | 1816/2495 [27:37<11:30,  1.02s/it]\u001b[A\n",
      " 73%|███████▎  | 1817/2495 [27:38<11:28,  1.02s/it]\u001b[A\n",
      " 73%|███████▎  | 1818/2495 [27:39<11:29,  1.02s/it]\u001b[A\n",
      " 73%|███████▎  | 1819/2495 [27:40<11:47,  1.05s/it]\u001b[A\n",
      " 73%|███████▎  | 1820/2495 [27:41<11:22,  1.01s/it]\u001b[A\n",
      " 73%|███████▎  | 1821/2495 [27:42<11:40,  1.04s/it]\u001b[A\n",
      " 73%|███████▎  | 1822/2495 [27:43<11:21,  1.01s/it]\u001b[A\n",
      " 73%|███████▎  | 1823/2495 [27:44<11:52,  1.06s/it]\u001b[A\n",
      " 73%|███████▎  | 1824/2495 [27:45<11:21,  1.02s/it]\u001b[A\n",
      " 73%|███████▎  | 1825/2495 [27:46<11:01,  1.01it/s]\u001b[A\n",
      " 73%|███████▎  | 1826/2495 [27:47<10:45,  1.04it/s]\u001b[A\n",
      " 73%|███████▎  | 1827/2495 [27:48<10:34,  1.05it/s]\u001b[A\n",
      " 73%|███████▎  | 1828/2495 [27:49<10:47,  1.03it/s]\u001b[A\n",
      " 73%|███████▎  | 1829/2495 [27:50<11:14,  1.01s/it]\u001b[A\n",
      " 73%|███████▎  | 1830/2495 [27:51<11:44,  1.06s/it]\u001b[A\n",
      " 73%|███████▎  | 1831/2495 [27:52<11:21,  1.03s/it]\u001b[A\n",
      " 73%|███████▎  | 1832/2495 [27:53<10:56,  1.01it/s]\u001b[A\n",
      " 73%|███████▎  | 1833/2495 [27:54<10:52,  1.02it/s]\u001b[A\n",
      " 74%|███████▎  | 1834/2495 [27:55<10:40,  1.03it/s]\u001b[A\n",
      " 74%|███████▎  | 1835/2495 [27:56<10:27,  1.05it/s]\u001b[A\n",
      " 74%|███████▎  | 1836/2495 [27:57<10:17,  1.07it/s]\u001b[A\n",
      " 74%|███████▎  | 1837/2495 [27:58<10:38,  1.03it/s]\u001b[A\n",
      " 74%|███████▎  | 1838/2495 [27:59<10:28,  1.05it/s]\u001b[A\n",
      " 74%|███████▎  | 1839/2495 [28:00<10:22,  1.05it/s]\u001b[A\n",
      " 74%|███████▎  | 1840/2495 [28:01<10:13,  1.07it/s]\u001b[A\n",
      " 74%|███████▍  | 1841/2495 [28:02<10:12,  1.07it/s]\u001b[A\n",
      " 74%|███████▍  | 1842/2495 [28:03<10:06,  1.08it/s]\u001b[A\n",
      " 74%|███████▍  | 1843/2495 [28:04<10:02,  1.08it/s]\u001b[A\n",
      " 74%|███████▍  | 1844/2495 [28:04<09:58,  1.09it/s]\u001b[A\n",
      " 74%|███████▍  | 1845/2495 [28:05<10:05,  1.07it/s]\u001b[A\n",
      " 74%|███████▍  | 1846/2495 [28:06<10:16,  1.05it/s]\u001b[A\n",
      " 74%|███████▍  | 1847/2495 [28:07<10:10,  1.06it/s]\u001b[A\n",
      " 74%|███████▍  | 1848/2495 [28:08<10:09,  1.06it/s]\u001b[A\n",
      " 74%|███████▍  | 1849/2495 [28:09<10:10,  1.06it/s]\u001b[A\n",
      " 74%|███████▍  | 1850/2495 [28:10<10:31,  1.02it/s]\u001b[A\n",
      " 74%|███████▍  | 1851/2495 [28:11<10:20,  1.04it/s]\u001b[A\n",
      " 74%|███████▍  | 1852/2495 [28:12<10:58,  1.02s/it]\u001b[A\n",
      " 74%|███████▍  | 1853/2495 [28:13<10:36,  1.01it/s]\u001b[A\n",
      " 74%|███████▍  | 1854/2495 [28:14<10:22,  1.03it/s]\u001b[A\n",
      " 74%|███████▍  | 1855/2495 [28:15<10:10,  1.05it/s]\u001b[A\n",
      " 74%|███████▍  | 1856/2495 [28:16<10:03,  1.06it/s]\u001b[A\n",
      " 74%|███████▍  | 1857/2495 [28:17<09:56,  1.07it/s]\u001b[A\n",
      " 74%|███████▍  | 1858/2495 [28:18<09:53,  1.07it/s]\u001b[A\n",
      " 75%|███████▍  | 1859/2495 [28:19<09:57,  1.06it/s]\u001b[A\n",
      " 75%|███████▍  | 1860/2495 [28:20<09:51,  1.07it/s]\u001b[A\n",
      " 75%|███████▍  | 1861/2495 [28:21<09:55,  1.06it/s]\u001b[A\n",
      " 75%|███████▍  | 1862/2495 [28:22<10:24,  1.01it/s]\u001b[A\n",
      " 75%|███████▍  | 1863/2495 [28:23<11:21,  1.08s/it]\u001b[A\n",
      " 75%|███████▍  | 1864/2495 [28:24<10:48,  1.03s/it]\u001b[A\n",
      " 75%|███████▍  | 1865/2495 [28:25<11:26,  1.09s/it]\u001b[A\n",
      " 75%|███████▍  | 1866/2495 [28:26<10:59,  1.05s/it]\u001b[A\n",
      " 75%|███████▍  | 1867/2495 [28:27<11:19,  1.08s/it]\u001b[A\n",
      " 75%|███████▍  | 1868/2495 [28:29<11:34,  1.11s/it]\u001b[A\n",
      " 75%|███████▍  | 1869/2495 [28:29<10:56,  1.05s/it]\u001b[A\n",
      " 75%|███████▍  | 1870/2495 [28:30<10:51,  1.04s/it]\u001b[A\n",
      " 75%|███████▍  | 1871/2495 [28:31<10:41,  1.03s/it]\u001b[A\n",
      " 75%|███████▌  | 1872/2495 [28:33<11:04,  1.07s/it]\u001b[A\n",
      " 75%|███████▌  | 1873/2495 [28:34<10:51,  1.05s/it]\u001b[A\n",
      " 75%|███████▌  | 1874/2495 [28:35<10:57,  1.06s/it]\u001b[A\n",
      " 75%|███████▌  | 1875/2495 [28:36<10:38,  1.03s/it]\u001b[A\n",
      " 75%|███████▌  | 1876/2495 [28:37<10:09,  1.02it/s]\u001b[A\n",
      " 75%|███████▌  | 1877/2495 [28:37<09:51,  1.04it/s]\u001b[A\n",
      " 75%|███████▌  | 1878/2495 [28:38<09:45,  1.05it/s]\u001b[A\n",
      " 75%|███████▌  | 1879/2495 [28:39<10:02,  1.02it/s]\u001b[A\n",
      " 75%|███████▌  | 1880/2495 [28:40<09:52,  1.04it/s]\u001b[A\n",
      " 75%|███████▌  | 1881/2495 [28:41<09:44,  1.05it/s]\u001b[A\n",
      " 75%|███████▌  | 1882/2495 [28:42<10:31,  1.03s/it]\u001b[A\n",
      " 75%|███████▌  | 1883/2495 [28:43<10:18,  1.01s/it]\u001b[A\n",
      " 76%|███████▌  | 1884/2495 [28:44<10:06,  1.01it/s]\u001b[A\n",
      " 76%|███████▌  | 1885/2495 [28:46<10:41,  1.05s/it]\u001b[A\n",
      " 76%|███████▌  | 1886/2495 [28:47<10:25,  1.03s/it]\u001b[A\n",
      " 76%|███████▌  | 1887/2495 [28:47<10:05,  1.00it/s]\u001b[A\n",
      " 76%|███████▌  | 1888/2495 [28:48<09:51,  1.03it/s]\u001b[A\n",
      " 76%|███████▌  | 1889/2495 [28:49<09:55,  1.02it/s]\u001b[A\n",
      " 76%|███████▌  | 1890/2495 [28:50<10:05,  1.00s/it]\u001b[A\n",
      " 76%|███████▌  | 1891/2495 [28:51<09:49,  1.02it/s]\u001b[A\n",
      " 76%|███████▌  | 1892/2495 [28:52<09:40,  1.04it/s]\u001b[A\n",
      " 76%|███████▌  | 1893/2495 [28:53<09:33,  1.05it/s]\u001b[A\n",
      " 76%|███████▌  | 1894/2495 [28:54<09:23,  1.07it/s]\u001b[A\n",
      " 76%|███████▌  | 1895/2495 [28:55<09:17,  1.08it/s]\u001b[A\n",
      " 76%|███████▌  | 1896/2495 [28:56<09:36,  1.04it/s]\u001b[A\n",
      " 76%|███████▌  | 1897/2495 [28:57<09:23,  1.06it/s]\u001b[A\n",
      " 76%|███████▌  | 1898/2495 [28:58<09:14,  1.08it/s]\u001b[A\n",
      " 76%|███████▌  | 1899/2495 [28:59<09:13,  1.08it/s]\u001b[A\n",
      " 76%|███████▌  | 1900/2495 [29:00<09:13,  1.08it/s]\u001b[A\n",
      " 76%|███████▌  | 1901/2495 [29:01<09:06,  1.09it/s]\u001b[A\n",
      " 76%|███████▌  | 1902/2495 [29:02<09:14,  1.07it/s]\u001b[A\n",
      " 76%|███████▋  | 1903/2495 [29:03<09:24,  1.05it/s]\u001b[A\n",
      " 76%|███████▋  | 1904/2495 [29:04<09:32,  1.03it/s]\u001b[A\n",
      " 76%|███████▋  | 1905/2495 [29:05<10:15,  1.04s/it]\u001b[A\n",
      " 76%|███████▋  | 1906/2495 [29:06<10:11,  1.04s/it]\u001b[A\n",
      " 76%|███████▋  | 1907/2495 [29:07<09:45,  1.00it/s]\u001b[A\n",
      " 76%|███████▋  | 1908/2495 [29:08<09:29,  1.03it/s]\u001b[A\n",
      " 77%|███████▋  | 1909/2495 [29:09<09:16,  1.05it/s]\u001b[A\n",
      " 77%|███████▋  | 1910/2495 [29:09<09:07,  1.07it/s]\u001b[A\n",
      " 77%|███████▋  | 1911/2495 [29:10<09:08,  1.06it/s]\u001b[A\n",
      " 77%|███████▋  | 1912/2495 [29:11<09:04,  1.07it/s]\u001b[A\n",
      " 77%|███████▋  | 1913/2495 [29:12<09:14,  1.05it/s]\u001b[A\n",
      " 77%|███████▋  | 1914/2495 [29:13<09:14,  1.05it/s]\u001b[A\n",
      " 77%|███████▋  | 1915/2495 [29:14<09:05,  1.06it/s]\u001b[A\n",
      " 77%|███████▋  | 1916/2495 [29:15<08:59,  1.07it/s]\u001b[A\n",
      " 77%|███████▋  | 1917/2495 [29:16<08:53,  1.08it/s]\u001b[A\n",
      " 77%|███████▋  | 1918/2495 [29:17<08:49,  1.09it/s]\u001b[A\n",
      " 77%|███████▋  | 1919/2495 [29:18<08:46,  1.09it/s]\u001b[A\n",
      " 77%|███████▋  | 1920/2495 [29:19<08:46,  1.09it/s]\u001b[A\n",
      " 77%|███████▋  | 1921/2495 [29:20<08:43,  1.10it/s]\u001b[A\n",
      " 77%|███████▋  | 1922/2495 [29:21<08:45,  1.09it/s]\u001b[A\n",
      " 77%|███████▋  | 1923/2495 [29:21<08:41,  1.10it/s]\u001b[A\n",
      " 77%|███████▋  | 1924/2495 [29:22<08:38,  1.10it/s]\u001b[A\n",
      " 77%|███████▋  | 1925/2495 [29:23<08:35,  1.11it/s]\u001b[A\n",
      " 77%|███████▋  | 1926/2495 [29:24<08:33,  1.11it/s]\u001b[A\n",
      " 77%|███████▋  | 1927/2495 [29:25<08:31,  1.11it/s]\u001b[A\n",
      " 77%|███████▋  | 1928/2495 [29:26<08:32,  1.11it/s]\u001b[A\n",
      " 77%|███████▋  | 1929/2495 [29:27<08:54,  1.06it/s]\u001b[A\n",
      " 77%|███████▋  | 1930/2495 [29:28<08:45,  1.08it/s]\u001b[A\n",
      " 77%|███████▋  | 1931/2495 [29:29<08:39,  1.09it/s]\u001b[A\n",
      " 77%|███████▋  | 1932/2495 [29:30<08:34,  1.09it/s]\u001b[A\n",
      " 77%|███████▋  | 1933/2495 [29:31<08:38,  1.08it/s]\u001b[A\n",
      " 78%|███████▊  | 1934/2495 [29:32<08:42,  1.07it/s]\u001b[A\n",
      " 78%|███████▊  | 1935/2495 [29:33<08:44,  1.07it/s]\u001b[A\n",
      " 78%|███████▊  | 1936/2495 [29:33<08:41,  1.07it/s]\u001b[A\n",
      " 78%|███████▊  | 1937/2495 [29:34<08:36,  1.08it/s]\u001b[A\n",
      " 78%|███████▊  | 1938/2495 [29:35<08:32,  1.09it/s]\u001b[A\n",
      " 78%|███████▊  | 1939/2495 [29:36<08:29,  1.09it/s]\u001b[A\n",
      " 78%|███████▊  | 1940/2495 [29:37<08:27,  1.09it/s]\u001b[A\n",
      " 78%|███████▊  | 1941/2495 [29:38<08:26,  1.09it/s]\u001b[A\n",
      " 78%|███████▊  | 1942/2495 [29:39<08:24,  1.10it/s]\u001b[A\n",
      " 78%|███████▊  | 1943/2495 [29:40<08:22,  1.10it/s]\u001b[A\n",
      " 78%|███████▊  | 1944/2495 [29:41<08:21,  1.10it/s]\u001b[A\n",
      " 78%|███████▊  | 1945/2495 [29:42<08:20,  1.10it/s]\u001b[A\n",
      " 78%|███████▊  | 1946/2495 [29:43<08:19,  1.10it/s]\u001b[A\n",
      " 78%|███████▊  | 1947/2495 [29:43<08:16,  1.10it/s]\u001b[A\n",
      " 78%|███████▊  | 1948/2495 [29:44<08:16,  1.10it/s]\u001b[A\n",
      " 78%|███████▊  | 1949/2495 [29:45<08:16,  1.10it/s]\u001b[A\n",
      " 78%|███████▊  | 1950/2495 [29:46<08:14,  1.10it/s]\u001b[A\n",
      " 78%|███████▊  | 1951/2495 [29:47<08:12,  1.10it/s]\u001b[A\n",
      " 78%|███████▊  | 1952/2495 [29:48<08:12,  1.10it/s]\u001b[A\n",
      " 78%|███████▊  | 1953/2495 [29:49<08:12,  1.10it/s]\u001b[A\n",
      " 78%|███████▊  | 1954/2495 [29:50<08:11,  1.10it/s]\u001b[A\n",
      " 78%|███████▊  | 1955/2495 [29:51<08:13,  1.09it/s]\u001b[A\n",
      " 78%|███████▊  | 1956/2495 [29:52<08:11,  1.10it/s]\u001b[A\n",
      " 78%|███████▊  | 1957/2495 [29:53<08:10,  1.10it/s]\u001b[A\n",
      " 78%|███████▊  | 1958/2495 [29:53<08:08,  1.10it/s]\u001b[A\n",
      " 79%|███████▊  | 1959/2495 [29:54<08:07,  1.10it/s]\u001b[A\n",
      " 79%|███████▊  | 1960/2495 [29:55<08:06,  1.10it/s]\u001b[A\n",
      " 79%|███████▊  | 1961/2495 [29:56<08:13,  1.08it/s]\u001b[A\n",
      " 79%|███████▊  | 1962/2495 [29:57<08:32,  1.04it/s]\u001b[A\n",
      " 79%|███████▊  | 1963/2495 [29:58<08:23,  1.06it/s]\u001b[A\n",
      " 79%|███████▊  | 1964/2495 [29:59<08:16,  1.07it/s]\u001b[A\n",
      " 79%|███████▉  | 1965/2495 [30:00<08:11,  1.08it/s]\u001b[A\n",
      " 79%|███████▉  | 1966/2495 [30:01<08:08,  1.08it/s]\u001b[A\n",
      " 79%|███████▉  | 1967/2495 [30:02<08:04,  1.09it/s]\u001b[A\n",
      " 79%|███████▉  | 1968/2495 [30:03<08:03,  1.09it/s]\u001b[A\n",
      " 79%|███████▉  | 1969/2495 [30:04<08:03,  1.09it/s]\u001b[A\n",
      " 79%|███████▉  | 1970/2495 [30:05<08:01,  1.09it/s]\u001b[A\n",
      " 79%|███████▉  | 1971/2495 [30:06<08:01,  1.09it/s]\u001b[A\n",
      " 79%|███████▉  | 1972/2495 [30:06<07:58,  1.09it/s]\u001b[A\n",
      " 79%|███████▉  | 1973/2495 [30:07<07:54,  1.10it/s]\u001b[A\n",
      " 79%|███████▉  | 1974/2495 [30:08<07:52,  1.10it/s]\u001b[A\n",
      " 79%|███████▉  | 1975/2495 [30:09<07:50,  1.11it/s]\u001b[A\n",
      " 79%|███████▉  | 1976/2495 [30:10<07:49,  1.11it/s]\u001b[A\n",
      " 79%|███████▉  | 1977/2495 [30:11<07:47,  1.11it/s]\u001b[A\n",
      " 79%|███████▉  | 1978/2495 [30:12<07:47,  1.11it/s]\u001b[A\n",
      " 79%|███████▉  | 1979/2495 [30:13<07:46,  1.11it/s]\u001b[A\n",
      " 79%|███████▉  | 1980/2495 [30:14<07:45,  1.11it/s]\u001b[A\n",
      " 79%|███████▉  | 1981/2495 [30:15<07:46,  1.10it/s]\u001b[A\n",
      " 79%|███████▉  | 1982/2495 [30:15<07:46,  1.10it/s]\u001b[A\n",
      " 79%|███████▉  | 1983/2495 [30:16<07:45,  1.10it/s]\u001b[A\n",
      " 80%|███████▉  | 1984/2495 [30:17<07:45,  1.10it/s]\u001b[A\n",
      " 80%|███████▉  | 1985/2495 [30:18<07:47,  1.09it/s]\u001b[A\n",
      " 80%|███████▉  | 1986/2495 [30:19<07:47,  1.09it/s]\u001b[A\n",
      " 80%|███████▉  | 1987/2495 [30:20<07:47,  1.09it/s]\u001b[A\n",
      " 80%|███████▉  | 1988/2495 [30:21<07:43,  1.09it/s]\u001b[A\n",
      " 80%|███████▉  | 1989/2495 [30:22<07:42,  1.10it/s]\u001b[A\n",
      " 80%|███████▉  | 1990/2495 [30:23<07:40,  1.10it/s]\u001b[A\n",
      " 80%|███████▉  | 1991/2495 [30:24<08:06,  1.04it/s]\u001b[A\n",
      " 80%|███████▉  | 1992/2495 [30:25<08:28,  1.01s/it]\u001b[A\n",
      " 80%|███████▉  | 1993/2495 [30:26<08:09,  1.03it/s]\u001b[A\n",
      " 80%|███████▉  | 1994/2495 [30:27<07:55,  1.05it/s]\u001b[A\n",
      " 80%|███████▉  | 1995/2495 [30:28<08:04,  1.03it/s]\u001b[A\n",
      " 80%|████████  | 1996/2495 [30:29<07:50,  1.06it/s]\u001b[A\n",
      " 80%|████████  | 1997/2495 [30:30<07:40,  1.08it/s]\u001b[A\n",
      " 80%|████████  | 1998/2495 [30:30<07:32,  1.10it/s]\u001b[A\n",
      " 80%|████████  | 1999/2495 [30:31<07:28,  1.11it/s]\u001b[A\n",
      " 80%|████████  | 2000/2495 [30:32<07:24,  1.11it/s]\u001b[A\n",
      " 80%|████████  | 2001/2495 [30:33<07:21,  1.12it/s]\u001b[A\n",
      " 80%|████████  | 2002/2495 [30:34<07:19,  1.12it/s]\u001b[A\n",
      " 80%|████████  | 2003/2495 [30:35<07:18,  1.12it/s]\u001b[A\n",
      " 80%|████████  | 2004/2495 [30:36<07:16,  1.12it/s]\u001b[A\n",
      " 80%|████████  | 2005/2495 [30:37<07:16,  1.12it/s]\u001b[A\n",
      " 80%|████████  | 2006/2495 [30:38<07:12,  1.13it/s]\u001b[A\n",
      " 80%|████████  | 2007/2495 [30:38<07:11,  1.13it/s]\u001b[A\n",
      " 80%|████████  | 2008/2495 [30:39<07:09,  1.13it/s]\u001b[A\n",
      " 81%|████████  | 2009/2495 [30:40<07:07,  1.14it/s]\u001b[A\n",
      " 81%|████████  | 2010/2495 [30:41<07:06,  1.14it/s]\u001b[A\n",
      " 81%|████████  | 2011/2495 [30:42<07:08,  1.13it/s]\u001b[A\n",
      " 81%|████████  | 2012/2495 [30:43<07:08,  1.13it/s]\u001b[A\n",
      " 81%|████████  | 2013/2495 [30:44<07:09,  1.12it/s]\u001b[A\n",
      " 81%|████████  | 2014/2495 [30:45<07:09,  1.12it/s]\u001b[A\n",
      " 81%|████████  | 2015/2495 [30:46<07:10,  1.12it/s]\u001b[A\n",
      " 81%|████████  | 2016/2495 [30:46<07:08,  1.12it/s]\u001b[A\n",
      " 81%|████████  | 2017/2495 [30:47<07:06,  1.12it/s]\u001b[A\n",
      " 81%|████████  | 2018/2495 [30:48<07:04,  1.12it/s]\u001b[A\n",
      " 81%|████████  | 2019/2495 [30:49<07:03,  1.12it/s]\u001b[A\n",
      " 81%|████████  | 2020/2495 [30:50<07:06,  1.11it/s]\u001b[A\n",
      " 81%|████████  | 2021/2495 [30:51<07:05,  1.11it/s]\u001b[A\n",
      " 81%|████████  | 2022/2495 [30:52<07:08,  1.11it/s]\u001b[A\n",
      " 81%|████████  | 2023/2495 [30:53<07:07,  1.10it/s]\u001b[A\n",
      " 81%|████████  | 2024/2495 [30:54<07:06,  1.10it/s]\u001b[A\n",
      " 81%|████████  | 2025/2495 [30:55<07:06,  1.10it/s]\u001b[A\n",
      " 81%|████████  | 2026/2495 [30:55<07:03,  1.11it/s]\u001b[A\n",
      " 81%|████████  | 2027/2495 [30:56<07:03,  1.11it/s]\u001b[A\n",
      " 81%|████████▏ | 2028/2495 [30:57<07:17,  1.07it/s]\u001b[A\n",
      " 81%|████████▏ | 2029/2495 [30:58<07:08,  1.09it/s]\u001b[A\n",
      " 81%|████████▏ | 2030/2495 [30:59<07:02,  1.10it/s]\u001b[A\n",
      " 81%|████████▏ | 2031/2495 [31:00<06:57,  1.11it/s]\u001b[A\n",
      " 81%|████████▏ | 2032/2495 [31:01<06:54,  1.12it/s]\u001b[A\n",
      " 81%|████████▏ | 2033/2495 [31:02<06:51,  1.12it/s]\u001b[A\n",
      " 82%|████████▏ | 2034/2495 [31:03<06:49,  1.13it/s]\u001b[A\n",
      " 82%|████████▏ | 2035/2495 [31:04<06:51,  1.12it/s]\u001b[A\n",
      " 82%|████████▏ | 2036/2495 [31:04<06:54,  1.11it/s]\u001b[A\n",
      " 82%|████████▏ | 2037/2495 [31:05<06:50,  1.12it/s]\u001b[A\n",
      " 82%|████████▏ | 2038/2495 [31:06<06:49,  1.12it/s]\u001b[A\n",
      " 82%|████████▏ | 2039/2495 [31:07<06:48,  1.12it/s]\u001b[A\n",
      " 82%|████████▏ | 2040/2495 [31:08<06:48,  1.11it/s]\u001b[A\n",
      " 82%|████████▏ | 2041/2495 [31:09<06:46,  1.12it/s]\u001b[A\n",
      " 82%|████████▏ | 2042/2495 [31:10<06:44,  1.12it/s]\u001b[A\n",
      " 82%|████████▏ | 2043/2495 [31:11<06:42,  1.12it/s]\u001b[A\n",
      " 82%|████████▏ | 2044/2495 [31:12<06:41,  1.12it/s]\u001b[A\n",
      " 82%|████████▏ | 2045/2495 [31:12<06:41,  1.12it/s]\u001b[A\n",
      " 82%|████████▏ | 2046/2495 [31:13<06:39,  1.12it/s]\u001b[A\n",
      " 82%|████████▏ | 2047/2495 [31:14<06:39,  1.12it/s]\u001b[A\n",
      " 82%|████████▏ | 2048/2495 [31:15<06:39,  1.12it/s]\u001b[A\n",
      " 82%|████████▏ | 2049/2495 [31:16<06:38,  1.12it/s]\u001b[A\n",
      " 82%|████████▏ | 2050/2495 [31:17<06:36,  1.12it/s]\u001b[A\n",
      " 82%|████████▏ | 2051/2495 [31:18<06:35,  1.12it/s]\u001b[A\n",
      " 82%|████████▏ | 2052/2495 [31:19<06:33,  1.13it/s]\u001b[A\n",
      " 82%|████████▏ | 2053/2495 [31:20<06:31,  1.13it/s]\u001b[A\n",
      " 82%|████████▏ | 2054/2495 [31:20<06:29,  1.13it/s]\u001b[A\n",
      " 82%|████████▏ | 2055/2495 [31:21<06:29,  1.13it/s]\u001b[A\n",
      " 82%|████████▏ | 2056/2495 [31:22<06:29,  1.13it/s]\u001b[A\n",
      " 82%|████████▏ | 2057/2495 [31:23<06:29,  1.13it/s]\u001b[A\n",
      " 82%|████████▏ | 2058/2495 [31:24<06:27,  1.13it/s]\u001b[A\n",
      " 83%|████████▎ | 2059/2495 [31:25<06:27,  1.13it/s]\u001b[A\n",
      " 83%|████████▎ | 2060/2495 [31:26<06:27,  1.12it/s]\u001b[A\n",
      " 83%|████████▎ | 2061/2495 [31:27<06:45,  1.07it/s]\u001b[A\n",
      " 83%|████████▎ | 2062/2495 [31:28<06:38,  1.09it/s]\u001b[A\n",
      " 83%|████████▎ | 2063/2495 [31:29<06:33,  1.10it/s]\u001b[A\n",
      " 83%|████████▎ | 2064/2495 [31:30<06:29,  1.11it/s]\u001b[A\n",
      " 83%|████████▎ | 2065/2495 [31:30<06:26,  1.11it/s]\u001b[A\n",
      " 83%|████████▎ | 2066/2495 [31:31<06:24,  1.12it/s]\u001b[A\n",
      " 83%|████████▎ | 2067/2495 [31:32<06:22,  1.12it/s]\u001b[A\n",
      " 83%|████████▎ | 2068/2495 [31:33<06:22,  1.12it/s]\u001b[A\n",
      " 83%|████████▎ | 2069/2495 [31:34<06:24,  1.11it/s]\u001b[A\n",
      " 83%|████████▎ | 2070/2495 [31:35<06:20,  1.12it/s]\u001b[A\n",
      " 83%|████████▎ | 2071/2495 [31:36<06:22,  1.11it/s]\u001b[A\n",
      " 83%|████████▎ | 2072/2495 [31:37<06:20,  1.11it/s]\u001b[A\n",
      " 83%|████████▎ | 2073/2495 [31:38<06:19,  1.11it/s]\u001b[A\n",
      " 83%|████████▎ | 2074/2495 [31:38<06:18,  1.11it/s]\u001b[A\n",
      " 83%|████████▎ | 2075/2495 [31:39<06:16,  1.12it/s]\u001b[A\n",
      " 83%|████████▎ | 2076/2495 [31:40<06:15,  1.12it/s]\u001b[A\n",
      " 83%|████████▎ | 2077/2495 [31:41<06:14,  1.12it/s]\u001b[A\n",
      " 83%|████████▎ | 2078/2495 [31:42<06:12,  1.12it/s]\u001b[A\n",
      " 83%|████████▎ | 2079/2495 [31:43<06:11,  1.12it/s]\u001b[A\n",
      " 83%|████████▎ | 2080/2495 [31:44<06:09,  1.12it/s]\u001b[A\n",
      " 83%|████████▎ | 2081/2495 [31:45<06:08,  1.12it/s]\u001b[A\n",
      " 83%|████████▎ | 2082/2495 [31:46<06:07,  1.12it/s]\u001b[A\n",
      " 83%|████████▎ | 2083/2495 [31:47<06:06,  1.12it/s]\u001b[A\n",
      " 84%|████████▎ | 2084/2495 [31:47<06:05,  1.12it/s]\u001b[A\n",
      " 84%|████████▎ | 2085/2495 [31:48<06:03,  1.13it/s]\u001b[A\n",
      " 84%|████████▎ | 2086/2495 [31:49<06:02,  1.13it/s]\u001b[A\n",
      " 84%|████████▎ | 2087/2495 [31:50<06:02,  1.13it/s]\u001b[A\n",
      " 84%|████████▎ | 2088/2495 [31:51<06:03,  1.12it/s]\u001b[A\n",
      " 84%|████████▎ | 2089/2495 [31:52<06:04,  1.11it/s]\u001b[A\n",
      " 84%|████████▍ | 2090/2495 [31:53<06:05,  1.11it/s]\u001b[A\n",
      " 84%|████████▍ | 2091/2495 [31:54<06:02,  1.11it/s]\u001b[A\n",
      " 84%|████████▍ | 2092/2495 [31:55<06:01,  1.11it/s]\u001b[A\n",
      " 84%|████████▍ | 2093/2495 [31:55<06:02,  1.11it/s]\u001b[A\n"
     ]
    },
    {
     "name": "stderr",
     "output_type": "stream",
     "text": [
      " 84%|████████▍ | 2094/2495 [31:57<06:17,  1.06it/s]\u001b[A\n",
      " 84%|████████▍ | 2095/2495 [31:57<06:11,  1.08it/s]\u001b[A\n",
      " 84%|████████▍ | 2096/2495 [31:58<06:07,  1.08it/s]\u001b[A\n",
      " 84%|████████▍ | 2097/2495 [31:59<06:08,  1.08it/s]\u001b[A\n",
      " 84%|████████▍ | 2098/2495 [32:00<06:04,  1.09it/s]\u001b[A\n",
      " 84%|████████▍ | 2099/2495 [32:01<06:06,  1.08it/s]\u001b[A\n",
      " 84%|████████▍ | 2100/2495 [32:02<06:00,  1.10it/s]\u001b[A\n",
      " 84%|████████▍ | 2101/2495 [32:03<05:56,  1.11it/s]\u001b[A\n",
      " 84%|████████▍ | 2102/2495 [32:04<05:54,  1.11it/s]\u001b[A\n",
      " 84%|████████▍ | 2103/2495 [32:05<05:52,  1.11it/s]\u001b[A\n",
      " 84%|████████▍ | 2104/2495 [32:06<05:49,  1.12it/s]\u001b[A\n",
      " 84%|████████▍ | 2105/2495 [32:06<05:47,  1.12it/s]\u001b[A\n",
      " 84%|████████▍ | 2106/2495 [32:07<05:46,  1.12it/s]\u001b[A\n",
      " 84%|████████▍ | 2107/2495 [32:08<05:44,  1.12it/s]\u001b[A\n",
      " 84%|████████▍ | 2108/2495 [32:09<05:43,  1.13it/s]\u001b[A\n",
      " 85%|████████▍ | 2109/2495 [32:10<05:41,  1.13it/s]\u001b[A\n",
      " 85%|████████▍ | 2110/2495 [32:11<05:43,  1.12it/s]\u001b[A\n",
      " 85%|████████▍ | 2111/2495 [32:12<05:42,  1.12it/s]\u001b[A\n",
      " 85%|████████▍ | 2112/2495 [32:13<05:40,  1.12it/s]\u001b[A\n",
      " 85%|████████▍ | 2113/2495 [32:14<05:38,  1.13it/s]\u001b[A\n",
      " 85%|████████▍ | 2114/2495 [32:14<05:38,  1.13it/s]\u001b[A\n",
      " 85%|████████▍ | 2115/2495 [32:15<05:37,  1.13it/s]\u001b[A\n",
      " 85%|████████▍ | 2116/2495 [32:16<05:36,  1.12it/s]\u001b[A\n",
      " 85%|████████▍ | 2117/2495 [32:17<05:37,  1.12it/s]\u001b[A\n",
      " 85%|████████▍ | 2118/2495 [32:18<05:36,  1.12it/s]\u001b[A\n",
      " 85%|████████▍ | 2119/2495 [32:19<05:34,  1.12it/s]\u001b[A\n",
      " 85%|████████▍ | 2120/2495 [32:20<05:32,  1.13it/s]\u001b[A\n",
      " 85%|████████▌ | 2121/2495 [32:21<05:30,  1.13it/s]\u001b[A\n",
      " 85%|████████▌ | 2122/2495 [32:22<05:30,  1.13it/s]\u001b[A\n",
      " 85%|████████▌ | 2123/2495 [32:22<05:29,  1.13it/s]\u001b[A\n",
      " 85%|████████▌ | 2124/2495 [32:23<05:29,  1.13it/s]\u001b[A\n",
      " 85%|████████▌ | 2125/2495 [32:24<05:28,  1.13it/s]\u001b[A\n",
      " 85%|████████▌ | 2126/2495 [32:25<05:29,  1.12it/s]\u001b[A\n",
      " 85%|████████▌ | 2127/2495 [32:26<05:46,  1.06it/s]\u001b[A\n",
      " 85%|████████▌ | 2128/2495 [32:27<05:39,  1.08it/s]\u001b[A\n",
      " 85%|████████▌ | 2129/2495 [32:28<05:34,  1.09it/s]\u001b[A\n",
      " 85%|████████▌ | 2130/2495 [32:29<05:30,  1.10it/s]\u001b[A\n",
      " 85%|████████▌ | 2131/2495 [32:30<05:30,  1.10it/s]\u001b[A\n",
      " 85%|████████▌ | 2132/2495 [32:31<05:27,  1.11it/s]\u001b[A\n",
      " 85%|████████▌ | 2133/2495 [32:31<05:25,  1.11it/s]\u001b[A\n",
      " 86%|████████▌ | 2134/2495 [32:32<05:22,  1.12it/s]\u001b[A\n",
      " 86%|████████▌ | 2135/2495 [32:33<05:21,  1.12it/s]\u001b[A\n",
      " 86%|████████▌ | 2136/2495 [32:34<05:20,  1.12it/s]\u001b[A\n",
      " 86%|████████▌ | 2137/2495 [32:35<05:18,  1.12it/s]\u001b[A\n",
      " 86%|████████▌ | 2138/2495 [32:36<05:16,  1.13it/s]\u001b[A\n",
      " 86%|████████▌ | 2139/2495 [32:37<05:15,  1.13it/s]\u001b[A\n",
      " 86%|████████▌ | 2140/2495 [32:38<05:14,  1.13it/s]\u001b[A\n",
      " 86%|████████▌ | 2141/2495 [32:39<05:13,  1.13it/s]\u001b[A\n",
      " 86%|████████▌ | 2142/2495 [32:39<05:13,  1.13it/s]\u001b[A\n",
      " 86%|████████▌ | 2143/2495 [32:40<05:12,  1.13it/s]\u001b[A\n",
      " 86%|████████▌ | 2144/2495 [32:41<05:12,  1.12it/s]\u001b[A\n",
      " 86%|████████▌ | 2145/2495 [32:42<05:11,  1.12it/s]\u001b[A\n",
      " 86%|████████▌ | 2146/2495 [32:43<05:09,  1.13it/s]\u001b[A\n",
      " 86%|████████▌ | 2147/2495 [32:44<05:08,  1.13it/s]\u001b[A\n",
      " 86%|████████▌ | 2148/2495 [32:45<05:07,  1.13it/s]\u001b[A\n",
      " 86%|████████▌ | 2149/2495 [32:46<05:05,  1.13it/s]\u001b[A\n",
      " 86%|████████▌ | 2150/2495 [32:47<05:04,  1.13it/s]\u001b[A\n",
      " 86%|████████▌ | 2151/2495 [32:47<05:03,  1.13it/s]\u001b[A\n",
      " 86%|████████▋ | 2152/2495 [32:48<05:03,  1.13it/s]\u001b[A\n",
      " 86%|████████▋ | 2153/2495 [32:49<05:01,  1.13it/s]\u001b[A\n",
      " 86%|████████▋ | 2154/2495 [32:50<05:00,  1.13it/s]\u001b[A\n",
      " 86%|████████▋ | 2155/2495 [32:51<05:01,  1.13it/s]\u001b[A\n",
      " 86%|████████▋ | 2156/2495 [32:52<05:00,  1.13it/s]\u001b[A\n",
      " 86%|████████▋ | 2157/2495 [32:53<05:02,  1.12it/s]\u001b[A\n",
      " 86%|████████▋ | 2158/2495 [32:54<05:00,  1.12it/s]\u001b[A\n",
      " 87%|████████▋ | 2159/2495 [32:55<05:02,  1.11it/s]\u001b[A\n",
      " 87%|████████▋ | 2160/2495 [32:56<05:13,  1.07it/s]\u001b[A\n",
      " 87%|████████▋ | 2161/2495 [32:56<05:06,  1.09it/s]\u001b[A\n",
      " 87%|████████▋ | 2162/2495 [32:57<05:01,  1.11it/s]\u001b[A\n",
      " 87%|████████▋ | 2163/2495 [32:58<04:57,  1.11it/s]\u001b[A\n",
      " 87%|████████▋ | 2164/2495 [32:59<04:55,  1.12it/s]\u001b[A\n",
      " 87%|████████▋ | 2165/2495 [33:00<04:54,  1.12it/s]\u001b[A\n",
      " 87%|████████▋ | 2166/2495 [33:01<04:53,  1.12it/s]\u001b[A\n",
      " 87%|████████▋ | 2167/2495 [33:02<04:52,  1.12it/s]\u001b[A\n",
      " 87%|████████▋ | 2168/2495 [33:03<04:52,  1.12it/s]\u001b[A\n",
      " 87%|████████▋ | 2169/2495 [33:04<04:54,  1.11it/s]\u001b[A\n",
      " 87%|████████▋ | 2170/2495 [33:05<04:55,  1.10it/s]\u001b[A\n",
      " 87%|████████▋ | 2171/2495 [33:05<04:53,  1.10it/s]\u001b[A\n",
      " 87%|████████▋ | 2172/2495 [33:06<04:51,  1.11it/s]\u001b[A\n",
      " 87%|████████▋ | 2173/2495 [33:07<04:50,  1.11it/s]\u001b[A\n",
      " 87%|████████▋ | 2174/2495 [33:08<04:48,  1.11it/s]\u001b[A\n",
      " 87%|████████▋ | 2175/2495 [33:09<04:47,  1.11it/s]\u001b[A\n",
      " 87%|████████▋ | 2176/2495 [33:10<04:43,  1.12it/s]\u001b[A\n",
      " 87%|████████▋ | 2177/2495 [33:11<04:41,  1.13it/s]\u001b[A\n",
      " 87%|████████▋ | 2178/2495 [33:12<04:39,  1.14it/s]\u001b[A\n",
      " 87%|████████▋ | 2179/2495 [33:13<04:37,  1.14it/s]\u001b[A\n",
      " 87%|████████▋ | 2180/2495 [33:13<04:37,  1.14it/s]\u001b[A\n",
      " 87%|████████▋ | 2181/2495 [33:14<04:37,  1.13it/s]\u001b[A\n",
      " 87%|████████▋ | 2182/2495 [33:15<04:36,  1.13it/s]\u001b[A\n",
      " 87%|████████▋ | 2183/2495 [33:16<04:36,  1.13it/s]\u001b[A\n",
      " 88%|████████▊ | 2184/2495 [33:17<04:36,  1.12it/s]\u001b[A\n",
      " 88%|████████▊ | 2185/2495 [33:18<04:36,  1.12it/s]\u001b[A\n",
      " 88%|████████▊ | 2186/2495 [33:19<04:35,  1.12it/s]\u001b[A\n",
      " 88%|████████▊ | 2187/2495 [33:20<04:35,  1.12it/s]\u001b[A\n",
      " 88%|████████▊ | 2188/2495 [33:21<04:33,  1.12it/s]\u001b[A\n",
      " 88%|████████▊ | 2189/2495 [33:21<04:34,  1.12it/s]\u001b[A\n",
      " 88%|████████▊ | 2190/2495 [33:22<04:36,  1.10it/s]\u001b[A\n",
      " 88%|████████▊ | 2191/2495 [33:23<04:35,  1.10it/s]\u001b[A\n",
      " 88%|████████▊ | 2192/2495 [33:24<04:35,  1.10it/s]\u001b[A\n",
      " 88%|████████▊ | 2193/2495 [33:25<04:45,  1.06it/s]\u001b[A\n",
      " 88%|████████▊ | 2194/2495 [33:26<04:40,  1.07it/s]\u001b[A\n",
      " 88%|████████▊ | 2195/2495 [33:27<04:37,  1.08it/s]\u001b[A\n",
      " 88%|████████▊ | 2196/2495 [33:28<04:31,  1.10it/s]\u001b[A\n",
      " 88%|████████▊ | 2197/2495 [33:29<04:31,  1.10it/s]\u001b[A\n",
      " 88%|████████▊ | 2198/2495 [33:30<04:27,  1.11it/s]\u001b[A\n",
      " 88%|████████▊ | 2199/2495 [33:31<04:25,  1.12it/s]\u001b[A\n",
      " 88%|████████▊ | 2200/2495 [33:31<04:23,  1.12it/s]\u001b[A\n",
      " 88%|████████▊ | 2201/2495 [33:32<04:24,  1.11it/s]\u001b[A\n",
      " 88%|████████▊ | 2202/2495 [33:33<04:21,  1.12it/s]\u001b[A\n",
      " 88%|████████▊ | 2203/2495 [33:34<04:20,  1.12it/s]\u001b[A\n",
      " 88%|████████▊ | 2204/2495 [33:35<04:20,  1.12it/s]\u001b[A\n",
      " 88%|████████▊ | 2205/2495 [33:36<04:19,  1.12it/s]\u001b[A\n",
      " 88%|████████▊ | 2206/2495 [33:37<04:18,  1.12it/s]\u001b[A\n",
      " 88%|████████▊ | 2207/2495 [33:38<04:17,  1.12it/s]\u001b[A\n",
      " 88%|████████▊ | 2208/2495 [33:39<04:17,  1.12it/s]\u001b[A\n",
      " 89%|████████▊ | 2209/2495 [33:40<04:16,  1.12it/s]\u001b[A\n",
      " 89%|████████▊ | 2210/2495 [33:40<04:15,  1.12it/s]\u001b[A\n",
      " 89%|████████▊ | 2211/2495 [33:41<04:14,  1.11it/s]\u001b[A\n",
      " 89%|████████▊ | 2212/2495 [33:42<04:14,  1.11it/s]\u001b[A\n",
      " 89%|████████▊ | 2213/2495 [33:43<04:14,  1.11it/s]\u001b[A\n",
      " 89%|████████▊ | 2214/2495 [33:44<04:13,  1.11it/s]\u001b[A\n",
      " 89%|████████▉ | 2215/2495 [33:45<04:11,  1.11it/s]\u001b[A\n",
      " 89%|████████▉ | 2216/2495 [33:46<04:09,  1.12it/s]\u001b[A\n",
      " 89%|████████▉ | 2217/2495 [33:47<04:08,  1.12it/s]\u001b[A\n",
      " 89%|████████▉ | 2218/2495 [33:48<04:09,  1.11it/s]\u001b[A\n",
      " 89%|████████▉ | 2219/2495 [33:49<04:10,  1.10it/s]\u001b[A\n",
      " 89%|████████▉ | 2220/2495 [33:49<04:08,  1.11it/s]\u001b[A\n",
      " 89%|████████▉ | 2221/2495 [33:50<04:20,  1.05it/s]\u001b[A\n",
      " 89%|████████▉ | 2222/2495 [33:52<04:30,  1.01it/s]\u001b[A\n",
      " 89%|████████▉ | 2223/2495 [33:52<04:22,  1.04it/s]\u001b[A\n",
      " 89%|████████▉ | 2224/2495 [33:53<04:17,  1.05it/s]\u001b[A\n",
      " 89%|████████▉ | 2225/2495 [33:54<04:15,  1.05it/s]\u001b[A\n",
      " 89%|████████▉ | 2226/2495 [33:55<04:24,  1.02it/s]\u001b[A\n",
      " 89%|████████▉ | 2227/2495 [33:56<04:16,  1.04it/s]\u001b[A\n",
      " 89%|████████▉ | 2228/2495 [33:57<04:12,  1.06it/s]\u001b[A\n",
      " 89%|████████▉ | 2229/2495 [33:58<04:08,  1.07it/s]\u001b[A\n",
      " 89%|████████▉ | 2230/2495 [33:59<04:07,  1.07it/s]\u001b[A\n",
      " 89%|████████▉ | 2231/2495 [34:00<04:05,  1.08it/s]\u001b[A\n",
      " 89%|████████▉ | 2232/2495 [34:01<04:03,  1.08it/s]\u001b[A\n",
      " 89%|████████▉ | 2233/2495 [34:02<04:01,  1.09it/s]\u001b[A\n",
      " 90%|████████▉ | 2234/2495 [34:03<03:59,  1.09it/s]\u001b[A\n",
      " 90%|████████▉ | 2235/2495 [34:04<03:57,  1.09it/s]\u001b[A\n",
      " 90%|████████▉ | 2236/2495 [34:05<03:56,  1.10it/s]\u001b[A\n",
      " 90%|████████▉ | 2237/2495 [34:05<03:56,  1.09it/s]\u001b[A\n",
      " 90%|████████▉ | 2238/2495 [34:06<03:55,  1.09it/s]\u001b[A\n",
      " 90%|████████▉ | 2239/2495 [34:07<03:54,  1.09it/s]\u001b[A\n",
      " 90%|████████▉ | 2240/2495 [34:08<03:54,  1.09it/s]\u001b[A\n",
      " 90%|████████▉ | 2241/2495 [34:09<03:52,  1.09it/s]\u001b[A\n",
      " 90%|████████▉ | 2242/2495 [34:10<03:51,  1.09it/s]\u001b[A\n",
      " 90%|████████▉ | 2243/2495 [34:11<03:52,  1.08it/s]\u001b[A\n",
      " 90%|████████▉ | 2244/2495 [34:12<03:50,  1.09it/s]\u001b[A\n",
      " 90%|████████▉ | 2245/2495 [34:13<03:51,  1.08it/s]\u001b[A\n",
      " 90%|█████████ | 2246/2495 [34:14<03:49,  1.09it/s]\u001b[A\n",
      " 90%|█████████ | 2247/2495 [34:15<03:47,  1.09it/s]\u001b[A\n",
      " 90%|█████████ | 2248/2495 [34:16<03:46,  1.09it/s]\u001b[A\n",
      " 90%|█████████ | 2249/2495 [34:16<03:45,  1.09it/s]\u001b[A\n",
      " 90%|█████████ | 2250/2495 [34:17<03:44,  1.09it/s]\u001b[A\n",
      " 90%|█████████ | 2251/2495 [34:18<03:42,  1.10it/s]\u001b[A\n",
      " 90%|█████████ | 2252/2495 [34:19<03:39,  1.10it/s]\u001b[A\n",
      " 90%|█████████ | 2253/2495 [34:20<03:39,  1.10it/s]\u001b[A\n",
      " 90%|█████████ | 2254/2495 [34:21<03:37,  1.11it/s]\u001b[A\n",
      " 90%|█████████ | 2255/2495 [34:22<03:36,  1.11it/s]\u001b[A\n",
      " 90%|█████████ | 2256/2495 [34:23<03:35,  1.11it/s]\u001b[A\n",
      " 90%|█████████ | 2257/2495 [34:24<03:35,  1.10it/s]\u001b[A\n",
      " 91%|█████████ | 2258/2495 [34:25<03:35,  1.10it/s]\u001b[A\n",
      " 91%|█████████ | 2259/2495 [34:26<03:45,  1.05it/s]\u001b[A\n",
      " 91%|█████████ | 2260/2495 [34:27<03:41,  1.06it/s]\u001b[A\n",
      " 91%|█████████ | 2261/2495 [34:28<03:38,  1.07it/s]\u001b[A\n",
      " 91%|█████████ | 2262/2495 [34:28<03:35,  1.08it/s]\u001b[A\n",
      " 91%|█████████ | 2263/2495 [34:29<03:34,  1.08it/s]\u001b[A\n",
      " 91%|█████████ | 2264/2495 [34:30<03:33,  1.08it/s]\u001b[A\n",
      " 91%|█████████ | 2265/2495 [34:31<03:31,  1.09it/s]\u001b[A\n",
      " 91%|█████████ | 2266/2495 [34:32<03:31,  1.08it/s]\u001b[A\n",
      " 91%|█████████ | 2267/2495 [34:33<03:29,  1.09it/s]\u001b[A\n",
      " 91%|█████████ | 2268/2495 [34:34<03:27,  1.09it/s]\u001b[A\n",
      " 91%|█████████ | 2269/2495 [34:35<03:25,  1.10it/s]\u001b[A\n",
      " 91%|█████████ | 2270/2495 [34:36<03:24,  1.10it/s]\u001b[A\n",
      " 91%|█████████ | 2271/2495 [34:37<03:23,  1.10it/s]\u001b[A\n",
      " 91%|█████████ | 2272/2495 [34:38<03:22,  1.10it/s]\u001b[A\n",
      " 91%|█████████ | 2273/2495 [34:38<03:21,  1.10it/s]\u001b[A\n",
      " 91%|█████████ | 2274/2495 [34:39<03:20,  1.10it/s]\u001b[A\n",
      " 91%|█████████ | 2275/2495 [34:40<03:19,  1.10it/s]\u001b[A\n",
      " 91%|█████████ | 2276/2495 [34:41<03:18,  1.10it/s]\u001b[A\n",
      " 91%|█████████▏| 2277/2495 [34:42<03:17,  1.10it/s]\u001b[A\n",
      " 91%|█████████▏| 2278/2495 [34:43<03:17,  1.10it/s]\u001b[A\n",
      " 91%|█████████▏| 2279/2495 [34:44<03:16,  1.10it/s]\u001b[A\n",
      " 91%|█████████▏| 2280/2495 [34:45<03:15,  1.10it/s]\u001b[A\n",
      " 91%|█████████▏| 2281/2495 [34:46<03:15,  1.10it/s]\u001b[A\n",
      " 91%|█████████▏| 2282/2495 [34:47<03:14,  1.09it/s]\u001b[A\n",
      " 92%|█████████▏| 2283/2495 [34:48<03:14,  1.09it/s]\u001b[A\n",
      " 92%|█████████▏| 2284/2495 [34:48<03:13,  1.09it/s]\u001b[A\n",
      " 92%|█████████▏| 2285/2495 [34:49<03:11,  1.10it/s]\u001b[A\n",
      " 92%|█████████▏| 2286/2495 [34:50<03:10,  1.10it/s]\u001b[A\n",
      " 92%|█████████▏| 2287/2495 [34:51<03:08,  1.10it/s]\u001b[A\n",
      " 92%|█████████▏| 2288/2495 [34:52<03:07,  1.10it/s]\u001b[A\n",
      " 92%|█████████▏| 2289/2495 [34:53<03:06,  1.11it/s]\u001b[A\n",
      " 92%|█████████▏| 2290/2495 [34:54<03:05,  1.11it/s]\u001b[A\n",
      " 92%|█████████▏| 2291/2495 [34:55<03:06,  1.09it/s]\u001b[A\n",
      " 92%|█████████▏| 2292/2495 [34:56<03:13,  1.05it/s]\u001b[A\n",
      " 92%|█████████▏| 2293/2495 [34:57<03:09,  1.07it/s]\u001b[A\n",
      " 92%|█████████▏| 2294/2495 [34:58<03:06,  1.08it/s]\u001b[A\n",
      " 92%|█████████▏| 2295/2495 [34:59<03:04,  1.09it/s]\u001b[A\n",
      " 92%|█████████▏| 2296/2495 [35:00<03:02,  1.09it/s]\u001b[A\n",
      " 92%|█████████▏| 2297/2495 [35:00<03:01,  1.09it/s]\u001b[A\n",
      " 92%|█████████▏| 2298/2495 [35:01<03:00,  1.09it/s]\u001b[A\n",
      " 92%|█████████▏| 2299/2495 [35:02<02:59,  1.09it/s]\u001b[A\n",
      " 92%|█████████▏| 2300/2495 [35:03<02:57,  1.10it/s]\u001b[A\n",
      " 92%|█████████▏| 2301/2495 [35:04<02:58,  1.09it/s]\u001b[A\n",
      " 92%|█████████▏| 2302/2495 [35:05<02:56,  1.10it/s]\u001b[A\n",
      " 92%|█████████▏| 2303/2495 [35:06<02:54,  1.10it/s]\u001b[A\n",
      " 92%|█████████▏| 2304/2495 [35:07<02:53,  1.10it/s]\u001b[A\n",
      " 92%|█████████▏| 2305/2495 [35:08<02:52,  1.10it/s]\u001b[A\n",
      " 92%|█████████▏| 2306/2495 [35:09<02:51,  1.10it/s]\u001b[A\n",
      " 92%|█████████▏| 2307/2495 [35:10<02:50,  1.10it/s]\u001b[A\n",
      " 93%|█████████▎| 2308/2495 [35:10<02:49,  1.10it/s]\u001b[A\n",
      " 93%|█████████▎| 2309/2495 [35:11<02:48,  1.10it/s]\u001b[A\n",
      " 93%|█████████▎| 2310/2495 [35:12<02:47,  1.10it/s]\u001b[A\n",
      " 93%|█████████▎| 2311/2495 [35:13<02:47,  1.10it/s]\u001b[A\n",
      " 93%|█████████▎| 2312/2495 [35:14<02:46,  1.10it/s]\u001b[A\n",
      " 93%|█████████▎| 2313/2495 [35:15<02:45,  1.10it/s]\u001b[A\n",
      " 93%|█████████▎| 2314/2495 [35:16<02:44,  1.10it/s]\u001b[A\n",
      " 93%|█████████▎| 2315/2495 [35:17<02:43,  1.10it/s]\u001b[A\n",
      " 93%|█████████▎| 2316/2495 [35:18<02:42,  1.10it/s]\u001b[A\n",
      " 93%|█████████▎| 2317/2495 [35:19<02:41,  1.10it/s]\u001b[A\n",
      " 93%|█████████▎| 2318/2495 [35:20<02:39,  1.11it/s]\u001b[A\n",
      " 93%|█████████▎| 2319/2495 [35:20<02:39,  1.11it/s]\u001b[A\n",
      " 93%|█████████▎| 2320/2495 [35:21<02:39,  1.10it/s]\u001b[A\n",
      " 93%|█████████▎| 2321/2495 [35:22<02:38,  1.10it/s]\u001b[A\n",
      " 93%|█████████▎| 2322/2495 [35:23<02:37,  1.10it/s]\u001b[A\n",
      " 93%|█████████▎| 2323/2495 [35:24<02:37,  1.09it/s]\u001b[A\n",
      " 93%|█████████▎| 2324/2495 [35:25<02:36,  1.09it/s]\u001b[A\n",
      " 93%|█████████▎| 2325/2495 [35:26<02:42,  1.04it/s]\u001b[A\n",
      " 93%|█████████▎| 2326/2495 [35:27<02:38,  1.06it/s]\u001b[A\n",
      " 93%|█████████▎| 2327/2495 [35:28<02:36,  1.08it/s]\u001b[A\n",
      " 93%|█████████▎| 2328/2495 [35:29<02:33,  1.09it/s]\u001b[A\n",
      " 93%|█████████▎| 2329/2495 [35:30<02:31,  1.10it/s]\u001b[A\n",
      " 93%|█████████▎| 2330/2495 [35:31<02:30,  1.10it/s]\u001b[A\n",
      " 93%|█████████▎| 2331/2495 [35:31<02:29,  1.10it/s]\u001b[A\n",
      " 93%|█████████▎| 2332/2495 [35:32<02:28,  1.10it/s]\u001b[A\n",
      " 94%|█████████▎| 2333/2495 [35:33<02:26,  1.10it/s]\u001b[A\n",
      " 94%|█████████▎| 2334/2495 [35:34<02:26,  1.10it/s]\u001b[A\n",
      " 94%|█████████▎| 2335/2495 [35:35<02:25,  1.10it/s]\u001b[A\n",
      " 94%|█████████▎| 2336/2495 [35:36<02:24,  1.10it/s]\u001b[A\n",
      " 94%|█████████▎| 2337/2495 [35:37<02:23,  1.10it/s]\u001b[A\n",
      " 94%|█████████▎| 2338/2495 [35:38<02:22,  1.10it/s]\u001b[A\n",
      " 94%|█████████▎| 2339/2495 [35:39<02:21,  1.10it/s]\u001b[A\n",
      " 94%|█████████▍| 2340/2495 [35:40<02:20,  1.10it/s]\u001b[A\n",
      " 94%|█████████▍| 2341/2495 [35:41<02:19,  1.10it/s]\u001b[A\n",
      " 94%|█████████▍| 2342/2495 [35:42<02:36,  1.03s/it]\u001b[A\n",
      " 94%|█████████▍| 2343/2495 [35:43<02:37,  1.03s/it]\u001b[A\n",
      " 94%|█████████▍| 2344/2495 [35:44<02:29,  1.01it/s]\u001b[A\n",
      " 94%|█████████▍| 2345/2495 [35:45<02:25,  1.03it/s]\u001b[A\n",
      " 94%|█████████▍| 2346/2495 [35:46<02:20,  1.06it/s]\u001b[A\n",
      " 94%|█████████▍| 2347/2495 [35:46<02:18,  1.07it/s]\u001b[A\n",
      " 94%|█████████▍| 2348/2495 [35:47<02:15,  1.09it/s]\u001b[A\n",
      " 94%|█████████▍| 2349/2495 [35:48<02:13,  1.10it/s]\u001b[A\n",
      " 94%|█████████▍| 2350/2495 [35:49<02:11,  1.11it/s]\u001b[A\n",
      " 94%|█████████▍| 2351/2495 [35:50<02:09,  1.11it/s]\u001b[A\n",
      " 94%|█████████▍| 2352/2495 [35:51<02:08,  1.11it/s]\u001b[A\n",
      " 94%|█████████▍| 2353/2495 [35:52<02:07,  1.11it/s]\u001b[A\n",
      " 94%|█████████▍| 2354/2495 [35:53<02:16,  1.04it/s]\u001b[A\n",
      " 94%|█████████▍| 2355/2495 [35:54<02:12,  1.05it/s]\u001b[A\n",
      " 94%|█████████▍| 2356/2495 [35:55<02:10,  1.07it/s]\u001b[A\n",
      " 94%|█████████▍| 2357/2495 [35:56<02:08,  1.08it/s]\u001b[A\n",
      " 95%|█████████▍| 2358/2495 [35:57<02:12,  1.04it/s]\u001b[A\n",
      " 95%|█████████▍| 2359/2495 [35:58<02:08,  1.06it/s]\u001b[A\n",
      " 95%|█████████▍| 2360/2495 [35:59<02:06,  1.07it/s]\u001b[A\n",
      " 95%|█████████▍| 2361/2495 [35:59<02:04,  1.08it/s]\u001b[A\n",
      " 95%|█████████▍| 2362/2495 [36:00<02:02,  1.08it/s]\u001b[A\n",
      " 95%|█████████▍| 2363/2495 [36:01<02:01,  1.09it/s]\u001b[A\n",
      " 95%|█████████▍| 2364/2495 [36:02<01:59,  1.09it/s]\u001b[A\n",
      " 95%|█████████▍| 2365/2495 [36:03<01:58,  1.09it/s]\u001b[A\n",
      " 95%|█████████▍| 2366/2495 [36:04<01:57,  1.09it/s]\u001b[A\n",
      " 95%|█████████▍| 2367/2495 [36:05<01:56,  1.10it/s]\u001b[A\n",
      " 95%|█████████▍| 2368/2495 [36:06<01:56,  1.09it/s]\u001b[A\n",
      " 95%|█████████▍| 2369/2495 [36:07<01:55,  1.09it/s]\u001b[A\n",
      " 95%|█████████▍| 2370/2495 [36:08<01:56,  1.08it/s]\u001b[A\n",
      " 95%|█████████▌| 2371/2495 [36:09<01:54,  1.08it/s]\u001b[A\n",
      " 95%|█████████▌| 2372/2495 [36:10<01:53,  1.08it/s]\u001b[A\n",
      " 95%|█████████▌| 2373/2495 [36:10<01:51,  1.09it/s]\u001b[A\n",
      " 95%|█████████▌| 2374/2495 [36:11<01:50,  1.09it/s]\u001b[A\n",
      " 95%|█████████▌| 2375/2495 [36:12<01:48,  1.10it/s]\u001b[A\n",
      " 95%|█████████▌| 2376/2495 [36:13<01:46,  1.11it/s]\u001b[A\n",
      " 95%|█████████▌| 2377/2495 [36:14<01:45,  1.12it/s]\u001b[A\n",
      " 95%|█████████▌| 2378/2495 [36:15<01:44,  1.12it/s]\u001b[A\n",
      " 95%|█████████▌| 2379/2495 [36:16<01:43,  1.12it/s]\u001b[A\n",
      " 95%|█████████▌| 2380/2495 [36:17<01:42,  1.12it/s]\u001b[A\n",
      " 95%|█████████▌| 2381/2495 [36:18<01:41,  1.12it/s]\u001b[A\n",
      " 95%|█████████▌| 2382/2495 [36:19<01:41,  1.12it/s]\u001b[A\n",
      " 96%|█████████▌| 2383/2495 [36:19<01:40,  1.11it/s]\u001b[A\n",
      " 96%|█████████▌| 2384/2495 [36:20<01:39,  1.11it/s]\u001b[A\n",
      " 96%|█████████▌| 2385/2495 [36:21<01:38,  1.11it/s]\u001b[A\n",
      " 96%|█████████▌| 2386/2495 [36:22<01:38,  1.11it/s]\u001b[A\n",
      " 96%|█████████▌| 2387/2495 [36:23<01:37,  1.11it/s]\u001b[A\n",
      " 96%|█████████▌| 2388/2495 [36:24<01:36,  1.11it/s]\u001b[A\n",
      " 96%|█████████▌| 2389/2495 [36:25<01:36,  1.10it/s]\u001b[A\n"
     ]
    },
    {
     "name": "stderr",
     "output_type": "stream",
     "text": [
      " 96%|█████████▌| 2390/2495 [36:26<01:35,  1.10it/s]\u001b[A\n",
      " 96%|█████████▌| 2391/2495 [36:27<01:38,  1.05it/s]\u001b[A\n",
      " 96%|█████████▌| 2392/2495 [36:28<01:36,  1.07it/s]\u001b[A\n",
      " 96%|█████████▌| 2393/2495 [36:29<01:34,  1.08it/s]\u001b[A\n",
      " 96%|█████████▌| 2394/2495 [36:29<01:32,  1.09it/s]\u001b[A\n",
      " 96%|█████████▌| 2395/2495 [36:30<01:31,  1.10it/s]\u001b[A\n",
      " 96%|█████████▌| 2396/2495 [36:31<01:29,  1.10it/s]\u001b[A\n",
      " 96%|█████████▌| 2397/2495 [36:32<01:28,  1.11it/s]\u001b[A\n",
      " 96%|█████████▌| 2398/2495 [36:33<01:28,  1.10it/s]\u001b[A\n",
      " 96%|█████████▌| 2399/2495 [36:34<01:26,  1.10it/s]\u001b[A\n",
      " 96%|█████████▌| 2400/2495 [36:35<01:26,  1.10it/s]\u001b[A\n",
      " 96%|█████████▌| 2401/2495 [36:36<01:24,  1.11it/s]\u001b[A\n",
      " 96%|█████████▋| 2402/2495 [36:37<01:24,  1.10it/s]\u001b[A\n",
      " 96%|█████████▋| 2403/2495 [36:38<01:23,  1.10it/s]\u001b[A\n",
      " 96%|█████████▋| 2404/2495 [36:39<01:22,  1.11it/s]\u001b[A\n",
      " 96%|█████████▋| 2405/2495 [36:39<01:21,  1.11it/s]\u001b[A\n",
      " 96%|█████████▋| 2406/2495 [36:40<01:20,  1.10it/s]\u001b[A\n",
      " 96%|█████████▋| 2407/2495 [36:41<01:19,  1.10it/s]\u001b[A\n",
      " 97%|█████████▋| 2408/2495 [36:42<01:19,  1.10it/s]\u001b[A\n",
      " 97%|█████████▋| 2409/2495 [36:43<01:17,  1.10it/s]\u001b[A\n",
      " 97%|█████████▋| 2410/2495 [36:44<01:17,  1.10it/s]\u001b[A\n",
      " 97%|█████████▋| 2411/2495 [36:45<01:16,  1.10it/s]\u001b[A\n",
      " 97%|█████████▋| 2412/2495 [36:46<01:15,  1.10it/s]\u001b[A\n",
      " 97%|█████████▋| 2413/2495 [36:47<01:14,  1.10it/s]\u001b[A\n",
      " 97%|█████████▋| 2414/2495 [36:48<01:13,  1.10it/s]\u001b[A\n",
      " 97%|█████████▋| 2415/2495 [36:49<01:12,  1.10it/s]\u001b[A\n",
      " 97%|█████████▋| 2416/2495 [36:49<01:11,  1.10it/s]\u001b[A\n",
      " 97%|█████████▋| 2417/2495 [36:50<01:10,  1.10it/s]\u001b[A\n",
      " 97%|█████████▋| 2418/2495 [36:51<01:09,  1.10it/s]\u001b[A\n",
      " 97%|█████████▋| 2419/2495 [36:52<01:09,  1.10it/s]\u001b[A\n",
      " 97%|█████████▋| 2420/2495 [36:53<01:07,  1.10it/s]\u001b[A\n",
      " 97%|█████████▋| 2421/2495 [36:54<01:06,  1.11it/s]\u001b[A\n",
      " 97%|█████████▋| 2422/2495 [36:55<01:05,  1.11it/s]\u001b[A\n",
      " 97%|█████████▋| 2423/2495 [36:56<01:05,  1.10it/s]\u001b[A\n",
      " 97%|█████████▋| 2424/2495 [36:57<01:07,  1.05it/s]\u001b[A\n",
      " 97%|█████████▋| 2425/2495 [36:58<01:05,  1.07it/s]\u001b[A\n",
      " 97%|█████████▋| 2426/2495 [36:59<01:03,  1.09it/s]\u001b[A\n",
      " 97%|█████████▋| 2427/2495 [36:59<01:02,  1.09it/s]\u001b[A\n",
      " 97%|█████████▋| 2428/2495 [37:00<01:01,  1.09it/s]\u001b[A\n",
      " 97%|█████████▋| 2429/2495 [37:01<01:00,  1.10it/s]\u001b[A\n",
      " 97%|█████████▋| 2430/2495 [37:02<00:58,  1.11it/s]\u001b[A\n",
      " 97%|█████████▋| 2431/2495 [37:03<01:01,  1.04it/s]\u001b[A\n",
      " 97%|█████████▋| 2432/2495 [37:04<01:02,  1.01it/s]\u001b[A\n",
      " 98%|█████████▊| 2433/2495 [37:05<00:59,  1.04it/s]\u001b[A\n",
      " 98%|█████████▊| 2434/2495 [37:06<00:58,  1.05it/s]\u001b[A\n",
      " 98%|█████████▊| 2435/2495 [37:07<00:55,  1.07it/s]\u001b[A\n",
      " 98%|█████████▊| 2436/2495 [37:08<00:54,  1.09it/s]\u001b[A\n",
      " 98%|█████████▊| 2437/2495 [37:09<00:52,  1.10it/s]\u001b[A\n",
      " 98%|█████████▊| 2438/2495 [37:10<00:51,  1.11it/s]\u001b[A\n",
      " 98%|█████████▊| 2439/2495 [37:11<00:50,  1.11it/s]\u001b[A\n",
      " 98%|█████████▊| 2440/2495 [37:12<00:49,  1.11it/s]\u001b[A\n",
      " 98%|█████████▊| 2441/2495 [37:12<00:48,  1.12it/s]\u001b[A\n",
      " 98%|█████████▊| 2442/2495 [37:13<00:47,  1.12it/s]\u001b[A\n",
      " 98%|█████████▊| 2443/2495 [37:14<00:46,  1.12it/s]\u001b[A\n",
      " 98%|█████████▊| 2444/2495 [37:15<00:45,  1.11it/s]\u001b[A\n",
      " 98%|█████████▊| 2445/2495 [37:16<00:44,  1.12it/s]\u001b[A\n",
      " 98%|█████████▊| 2446/2495 [37:17<00:43,  1.14it/s]\u001b[A\n",
      " 98%|█████████▊| 2447/2495 [37:18<00:42,  1.13it/s]\u001b[A\n",
      " 98%|█████████▊| 2448/2495 [37:19<00:41,  1.12it/s]\u001b[A\n",
      " 98%|█████████▊| 2449/2495 [37:20<00:40,  1.12it/s]\u001b[A\n",
      " 98%|█████████▊| 2450/2495 [37:20<00:39,  1.13it/s]\u001b[A\n",
      " 98%|█████████▊| 2451/2495 [37:21<00:39,  1.12it/s]\u001b[A\n",
      " 98%|█████████▊| 2452/2495 [37:22<00:38,  1.12it/s]\u001b[A\n",
      " 98%|█████████▊| 2453/2495 [37:23<00:37,  1.11it/s]\u001b[A\n",
      " 98%|█████████▊| 2454/2495 [37:24<00:36,  1.11it/s]\u001b[A\n",
      " 98%|█████████▊| 2455/2495 [37:25<00:35,  1.12it/s]\u001b[A\n",
      " 98%|█████████▊| 2456/2495 [37:26<00:34,  1.12it/s]\u001b[A\n",
      " 98%|█████████▊| 2457/2495 [37:27<00:33,  1.13it/s]\u001b[A\n",
      " 99%|█████████▊| 2458/2495 [37:28<00:34,  1.07it/s]\u001b[A\n",
      " 99%|█████████▊| 2459/2495 [37:29<00:33,  1.08it/s]\u001b[A\n",
      " 99%|█████████▊| 2460/2495 [37:29<00:31,  1.10it/s]\u001b[A\n",
      " 99%|█████████▊| 2461/2495 [37:30<00:30,  1.11it/s]\u001b[A\n",
      " 99%|█████████▊| 2462/2495 [37:31<00:29,  1.11it/s]\u001b[A\n",
      " 99%|█████████▊| 2463/2495 [37:32<00:28,  1.12it/s]\u001b[A\n",
      " 99%|█████████▉| 2464/2495 [37:33<00:27,  1.12it/s]\u001b[A\n",
      " 99%|█████████▉| 2465/2495 [37:34<00:26,  1.12it/s]\u001b[A\n",
      " 99%|█████████▉| 2466/2495 [37:35<00:25,  1.13it/s]\u001b[A\n",
      " 99%|█████████▉| 2467/2495 [37:36<00:24,  1.13it/s]\u001b[A\n",
      " 99%|█████████▉| 2468/2495 [37:37<00:23,  1.13it/s]\u001b[A\n",
      " 99%|█████████▉| 2469/2495 [37:37<00:23,  1.13it/s]\u001b[A\n",
      " 99%|█████████▉| 2470/2495 [37:38<00:22,  1.13it/s]\u001b[A\n",
      " 99%|█████████▉| 2471/2495 [37:39<00:21,  1.13it/s]\u001b[A\n",
      " 99%|█████████▉| 2472/2495 [37:40<00:20,  1.13it/s]\u001b[A\n",
      " 99%|█████████▉| 2473/2495 [37:41<00:19,  1.14it/s]\u001b[A\n",
      " 99%|█████████▉| 2474/2495 [37:42<00:18,  1.14it/s]\u001b[A\n",
      " 99%|█████████▉| 2475/2495 [37:43<00:17,  1.14it/s]\u001b[A\n",
      " 99%|█████████▉| 2476/2495 [37:44<00:16,  1.13it/s]\u001b[A\n",
      " 99%|█████████▉| 2477/2495 [37:44<00:15,  1.13it/s]\u001b[A\n",
      " 99%|█████████▉| 2478/2495 [37:45<00:15,  1.13it/s]\u001b[A\n",
      " 99%|█████████▉| 2479/2495 [37:46<00:14,  1.12it/s]\u001b[A\n",
      " 99%|█████████▉| 2480/2495 [37:47<00:13,  1.12it/s]\u001b[A\n",
      " 99%|█████████▉| 2481/2495 [37:48<00:12,  1.12it/s]\u001b[A\n",
      " 99%|█████████▉| 2482/2495 [37:49<00:11,  1.12it/s]\u001b[A\n",
      "100%|█████████▉| 2483/2495 [37:50<00:10,  1.13it/s]\u001b[A\n",
      "100%|█████████▉| 2484/2495 [37:51<00:09,  1.12it/s]\u001b[A\n",
      "100%|█████████▉| 2485/2495 [37:52<00:08,  1.13it/s]\u001b[A\n",
      "100%|█████████▉| 2486/2495 [37:53<00:07,  1.13it/s]\u001b[A\n",
      "100%|█████████▉| 2487/2495 [37:53<00:07,  1.13it/s]\u001b[A\n",
      "100%|█████████▉| 2488/2495 [37:54<00:06,  1.13it/s]\u001b[A\n",
      "100%|█████████▉| 2489/2495 [37:55<00:05,  1.12it/s]\u001b[A\n",
      "100%|█████████▉| 2490/2495 [37:56<00:04,  1.11it/s]\u001b[A\n",
      "100%|█████████▉| 2491/2495 [37:57<00:03,  1.11it/s]\u001b[A\n",
      "100%|█████████▉| 2492/2495 [37:58<00:02,  1.06it/s]\u001b[A\n",
      "100%|█████████▉| 2493/2495 [37:59<00:01,  1.08it/s]\u001b[A\n",
      "100%|█████████▉| 2494/2495 [38:00<00:00,  1.09it/s]\u001b[A\n",
      "100%|██████████| 2495/2495 [38:01<00:00,  1.09it/s]\u001b[A\n"
     ]
    }
   ],
   "source": [
    "pos_rankings_scholar,pos_triangles_scholar,flippedPred_pos_scholar= explainSamples(correctPredictions_scholar,\n",
    "                                                          [tableA_scholar,tableB_scholar],\n",
    "                                                                                   scholar_hybrid,originalClass=1,\n",
    "                                                                                   maxLenAttributeSet=2)"
   ]
  },
  {
   "cell_type": "code",
   "execution_count": 13,
   "metadata": {
    "ExecuteTime": {
     "end_time": "2020-02-18T12:15:25.001694Z",
     "start_time": "2020-02-18T12:15:24.558633Z"
    }
   },
   "outputs": [
    {
     "data": {
      "image/png": "[encoded data removed]",
      "text/plain": [
       "<Figure size 720x720 with 1 Axes>"
      ]
     },
     "metadata": {
      "needs_background": "light"
     },
     "output_type": "display_data"
    }
   ],
   "source": [
    "plot,posRanking_scholar = aggregateRankings(pos_rankings_scholar,positive=True,maxLenAttributes=2)"
   ]
  },
  {
   "cell_type": "code",
   "execution_count": 14,
   "metadata": {
    "ExecuteTime": {
     "end_time": "2020-02-18T12:16:50.568085Z",
     "start_time": "2020-02-18T12:16:50.154927Z"
    }
   },
   "outputs": [],
   "source": [
    "flippedPred_neg_scholar.to_csv('flippedpred_neg_scholar.csv',index=False)\n",
    "flippedPred_pos_scholar.to_csv('flippedpred_pos_scholar.csv',index=False)"
   ]
  },
  {
   "cell_type": "code",
   "execution_count": null,
   "metadata": {},
   "outputs": [],
   "source": []
  }
 ],
 "metadata": {
  "kernelspec": {
   "display_name": "Python 3",
   "language": "python",
   "name": "python3"
  },
  "language_info": {
   "codemirror_mode": {
    "name": "ipython",
    "version": 3
   },
   "file_extension": ".py",
   "mimetype": "text/x-python",
   "name": "python",
   "nbconvert_exporter": "python",
   "pygments_lexer": "ipython3",
   "version": "3.8.1"
  },
  "toc": {
   "base_numbering": 1,
   "nav_menu": {},
   "number_sections": true,
   "sideBar": true,
   "skip_h1_title": false,
   "title_cell": "Table of Contents",
   "title_sidebar": "Contents",
   "toc_cell": false,
   "toc_position": {
    "height": "calc(100% - 180px)",
    "left": "10px",
    "top": "150px",
    "width": "227px"
   },
   "toc_section_display": true,
   "toc_window_display": true
  }
 },
 "nbformat": 4,
 "nbformat_minor": 4
}

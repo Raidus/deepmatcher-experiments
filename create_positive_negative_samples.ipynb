{
 "cells": [
  {
   "cell_type": "code",
   "execution_count": 1,
   "metadata": {},
   "outputs": [],
   "source": [
    "from utilities_functions.dataset_parser import generate_pos_neg_datasets"
   ]
  },
  {
   "cell_type": "code",
   "execution_count": 3,
   "metadata": {},
   "outputs": [],
   "source": [
    "pos,neg = generate_pos_neg_datasets('Structured/Beer/','merged_train.csv','merged_valid.csv','merged_test.csv')"
   ]
  },
  {
   "cell_type": "code",
   "execution_count": 6,
   "metadata": {},
   "outputs": [
    {
     "data": {
      "text/html": [
       "<div>\n",
       "<style scoped>\n",
       "    .dataframe tbody tr th:only-of-type {\n",
       "        vertical-align: middle;\n",
       "    }\n",
       "\n",
       "    .dataframe tbody tr th {\n",
       "        vertical-align: top;\n",
       "    }\n",
       "\n",
       "    .dataframe thead th {\n",
       "        text-align: right;\n",
       "    }\n",
       "</style>\n",
       "<table border=\"1\" class=\"dataframe\">\n",
       "  <thead>\n",
       "    <tr style=\"text-align: right;\">\n",
       "      <th></th>\n",
       "      <th>label</th>\n",
       "      <th>ltable_Beer_Name</th>\n",
       "      <th>ltable_Brew_Factory_Name</th>\n",
       "      <th>ltable_Style</th>\n",
       "      <th>ltable_ABV</th>\n",
       "      <th>rtable_Beer_Name</th>\n",
       "      <th>rtable_Brew_Factory_Name</th>\n",
       "      <th>rtable_Style</th>\n",
       "      <th>rtable_ABV</th>\n",
       "      <th>id</th>\n",
       "    </tr>\n",
       "  </thead>\n",
       "  <tbody>\n",
       "    <tr>\n",
       "      <th>0</th>\n",
       "      <td>1</td>\n",
       "      <td>Sanibel Red Island Ale</td>\n",
       "      <td>Point Ybel Brewing Company</td>\n",
       "      <td>American Amber / Red Ale</td>\n",
       "      <td>5.60 %</td>\n",
       "      <td>Point Ybel Sanibel Red Island Ale</td>\n",
       "      <td>Point Ybel Brewing Company</td>\n",
       "      <td>Irish Ale</td>\n",
       "      <td>5.60 %</td>\n",
       "      <td>233</td>\n",
       "    </tr>\n",
       "    <tr>\n",
       "      <th>1</th>\n",
       "      <td>1</td>\n",
       "      <td>Poor Richard 's Ale</td>\n",
       "      <td>Dry Dock Brewing Co. .</td>\n",
       "      <td>American Amber / Red Ale</td>\n",
       "      <td>6.50 %</td>\n",
       "      <td>21st Amendment Poor Richards Ale</td>\n",
       "      <td>21st Amendment Brewery</td>\n",
       "      <td>Traditional Ale</td>\n",
       "      <td>7 %</td>\n",
       "      <td>175</td>\n",
       "    </tr>\n",
       "    <tr>\n",
       "      <th>2</th>\n",
       "      <td>1</td>\n",
       "      <td>Peak Organic The Maple Collaboration</td>\n",
       "      <td>Peak Organic Brewing Company</td>\n",
       "      <td>American Amber / Red Ale</td>\n",
       "      <td>7.00 %</td>\n",
       "      <td>Peak Organic The Maple Collaboration</td>\n",
       "      <td>Shipyard Brewing Company</td>\n",
       "      <td>Amber Ale</td>\n",
       "      <td>6.70 %</td>\n",
       "      <td>193</td>\n",
       "    </tr>\n",
       "    <tr>\n",
       "      <th>3</th>\n",
       "      <td>1</td>\n",
       "      <td>Royal Amber Ale</td>\n",
       "      <td>Hops Grillhouse &amp; Brewery</td>\n",
       "      <td>American Amber / Red Ale</td>\n",
       "      <td>4.50 %</td>\n",
       "      <td>Kalamazoo Royal Amber Ale</td>\n",
       "      <td>Bells Brewery</td>\n",
       "      <td>Amber Ale</td>\n",
       "      <td>-</td>\n",
       "      <td>136</td>\n",
       "    </tr>\n",
       "    <tr>\n",
       "      <th>4</th>\n",
       "      <td>1</td>\n",
       "      <td>The Gentle Mongoose</td>\n",
       "      <td>Holy City Brewing</td>\n",
       "      <td>American Amber / Red Ale</td>\n",
       "      <td>6.90 %</td>\n",
       "      <td>Holy City The Gentle Mongoose</td>\n",
       "      <td>Holy City Brewing</td>\n",
       "      <td>Amber Ale</td>\n",
       "      <td>6.90 %</td>\n",
       "      <td>214</td>\n",
       "    </tr>\n",
       "  </tbody>\n",
       "</table>\n",
       "</div>"
      ],
      "text/plain": [
       "   label                      ltable_Beer_Name      ltable_Brew_Factory_Name  \\\n",
       "0      1                Sanibel Red Island Ale    Point Ybel Brewing Company   \n",
       "1      1                   Poor Richard 's Ale        Dry Dock Brewing Co. .   \n",
       "2      1  Peak Organic The Maple Collaboration  Peak Organic Brewing Company   \n",
       "3      1                       Royal Amber Ale     Hops Grillhouse & Brewery   \n",
       "4      1                   The Gentle Mongoose             Holy City Brewing   \n",
       "\n",
       "               ltable_Style ltable_ABV                      rtable_Beer_Name  \\\n",
       "0  American Amber / Red Ale     5.60 %     Point Ybel Sanibel Red Island Ale   \n",
       "1  American Amber / Red Ale     6.50 %      21st Amendment Poor Richards Ale   \n",
       "2  American Amber / Red Ale     7.00 %  Peak Organic The Maple Collaboration   \n",
       "3  American Amber / Red Ale     4.50 %             Kalamazoo Royal Amber Ale   \n",
       "4  American Amber / Red Ale     6.90 %         Holy City The Gentle Mongoose   \n",
       "\n",
       "     rtable_Brew_Factory_Name     rtable_Style rtable_ABV   id  \n",
       "0  Point Ybel Brewing Company        Irish Ale     5.60 %  233  \n",
       "1      21st Amendment Brewery  Traditional Ale        7 %  175  \n",
       "2    Shipyard Brewing Company        Amber Ale     6.70 %  193  \n",
       "3               Bells Brewery        Amber Ale          -  136  \n",
       "4           Holy City Brewing        Amber Ale     6.90 %  214  "
      ]
     },
     "execution_count": 6,
     "metadata": {},
     "output_type": "execute_result"
    }
   ],
   "source": [
    "pos.head()"
   ]
  },
  {
   "cell_type": "code",
   "execution_count": 5,
   "metadata": {},
   "outputs": [],
   "source": [
    "pos.to_csv('Structured/Beer/positives.csv',index=False)"
   ]
  },
  {
   "cell_type": "code",
   "execution_count": 7,
   "metadata": {},
   "outputs": [],
   "source": [
    "neg.to_csv('Structured/Beer/negatives.csv',index=False)"
   ]
  },
  {
   "cell_type": "code",
   "execution_count": 14,
   "metadata": {},
   "outputs": [],
   "source": [
    "positives_df.to_csv('sample_data/itunes-amazon/exp3/positives_samples.csv',index=False)"
   ]
  },
  {
   "cell_type": "code",
   "execution_count": 15,
   "metadata": {},
   "outputs": [],
   "source": [
    "all_samples_df = train_df.append(validation_df,ignore_index=True)\n",
    "all_samples_df = all_samples_df.append(test_df,ignore_index=True)"
   ]
  },
  {
   "cell_type": "code",
   "execution_count": 16,
   "metadata": {},
   "outputs": [
    {
     "data": {
      "text/plain": [
       "(539, 18)"
      ]
     },
     "execution_count": 16,
     "metadata": {},
     "output_type": "execute_result"
    }
   ],
   "source": [
    "all_samples_df.shape"
   ]
  },
  {
   "cell_type": "code",
   "execution_count": 17,
   "metadata": {},
   "outputs": [],
   "source": [
    "all_samples_df.to_csv('sample_data/itunes-amazon/all_samples.csv',index=False)"
   ]
  }
 ],
 "metadata": {
  "kernelspec": {
   "display_name": "Python 3",
   "language": "python",
   "name": "python3"
  },
  "language_info": {
   "codemirror_mode": {
    "name": "ipython",
    "version": 3
   },
   "file_extension": ".py",
   "mimetype": "text/x-python",
   "name": "python",
   "nbconvert_exporter": "python",
   "pygments_lexer": "ipython3",
   "version": "3.6.8"
  }
 },
 "nbformat": 4,
 "nbformat_minor": 2
}

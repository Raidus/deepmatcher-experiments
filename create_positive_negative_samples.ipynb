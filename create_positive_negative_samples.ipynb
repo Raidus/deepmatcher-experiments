{
 "cells": [
  {
   "cell_type": "code",
   "execution_count": 1,
   "metadata": {},
   "outputs": [],
   "source": [
    "import pandas as pd"
   ]
  },
  {
   "cell_type": "code",
   "execution_count": 2,
   "metadata": {},
   "outputs": [],
   "source": [
    "train_df = pd.read_csv('sample_data/itunes-amazon/train.csv')\n",
    "validation_df = pd.read_csv('sample_data/itunes-amazon/validation.csv')\n",
    "test_df = pd.read_csv('sample_data/itunes-amazon/test.csv')"
   ]
  },
  {
   "cell_type": "code",
   "execution_count": 3,
   "metadata": {},
   "outputs": [
    {
     "data": {
      "text/html": [
       "<div>\n",
       "<style scoped>\n",
       "    .dataframe tbody tr th:only-of-type {\n",
       "        vertical-align: middle;\n",
       "    }\n",
       "\n",
       "    .dataframe tbody tr th {\n",
       "        vertical-align: top;\n",
       "    }\n",
       "\n",
       "    .dataframe thead th {\n",
       "        text-align: right;\n",
       "    }\n",
       "</style>\n",
       "<table border=\"1\" class=\"dataframe\">\n",
       "  <thead>\n",
       "    <tr style=\"text-align: right;\">\n",
       "      <th></th>\n",
       "      <th>id</th>\n",
       "      <th>label</th>\n",
       "      <th>left_Song_Name</th>\n",
       "      <th>left_Artist_Name</th>\n",
       "      <th>left_Album_Name</th>\n",
       "      <th>left_Genre</th>\n",
       "      <th>left_Price</th>\n",
       "      <th>left_CopyRight</th>\n",
       "      <th>left_Time</th>\n",
       "      <th>left_Released</th>\n",
       "      <th>right_Song_Name</th>\n",
       "      <th>right_Artist_Name</th>\n",
       "      <th>right_Album_Name</th>\n",
       "      <th>right_Genre</th>\n",
       "      <th>right_Price</th>\n",
       "      <th>right_CopyRight</th>\n",
       "      <th>right_Time</th>\n",
       "      <th>right_Released</th>\n",
       "    </tr>\n",
       "  </thead>\n",
       "  <tbody>\n",
       "    <tr>\n",
       "      <th>0</th>\n",
       "      <td>448</td>\n",
       "      <td>0</td>\n",
       "      <td>Baby When the Light ( David Guetta &amp; Fred Rist...</td>\n",
       "      <td>David Guetta</td>\n",
       "      <td>Pop Life ( Extended Version ) [ Bonus Version ]</td>\n",
       "      <td>Dance , Music , Rock , Pop , House , Electroni...</td>\n",
       "      <td>$ 1.29</td>\n",
       "      <td>‰ ãÑ 2007 Gum Records</td>\n",
       "      <td>6:17</td>\n",
       "      <td>18-Sep-07</td>\n",
       "      <td>Revolver ( Madonna Vs. David Guetta Feat . Lil...</td>\n",
       "      <td>David Guetta</td>\n",
       "      <td>One Love ( Deluxe Version )</td>\n",
       "      <td>Dance &amp; Electronic</td>\n",
       "      <td>$ 1.29</td>\n",
       "      <td>( C ) 2014 Swedish House Mafia Holdings Ltd ( ...</td>\n",
       "      <td>3:18</td>\n",
       "      <td>August 21 , 2009</td>\n",
       "    </tr>\n",
       "    <tr>\n",
       "      <th>1</th>\n",
       "      <td>287</td>\n",
       "      <td>1</td>\n",
       "      <td>Outversion</td>\n",
       "      <td>Mark Ronson</td>\n",
       "      <td>Version</td>\n",
       "      <td>Pop , Music , R&amp;B / Soul,Soul,Dance,Rock,Jazz,...</td>\n",
       "      <td>$ 0.99</td>\n",
       "      <td>2007 Mark Ronson under exclusive license to SO...</td>\n",
       "      <td>1:50</td>\n",
       "      <td>10-Jul-07</td>\n",
       "      <td>Outversion</td>\n",
       "      <td>Mark Ronson</td>\n",
       "      <td>Version [ Explicit ]</td>\n",
       "      <td>Pop</td>\n",
       "      <td>$ 0.99</td>\n",
       "      <td>( c ) 2011 J'adore Records</td>\n",
       "      <td>1:50</td>\n",
       "      <td>July 10 , 2007</td>\n",
       "    </tr>\n",
       "    <tr>\n",
       "      <th>2</th>\n",
       "      <td>534</td>\n",
       "      <td>0</td>\n",
       "      <td>Peer Pressure ( feat . Traci Nelson )</td>\n",
       "      <td>Snoop Dogg</td>\n",
       "      <td>Doggumentary</td>\n",
       "      <td>Hip-Hop/Rap , Music , Rock , Gangsta Rap , Wes...</td>\n",
       "      <td>$ 1.29</td>\n",
       "      <td>‰ ãÑ 2011 Capitol Records , LLC . All rights r...</td>\n",
       "      <td>4:07</td>\n",
       "      <td>29-Mar-11</td>\n",
       "      <td>Boom ( ( Feat . T-Pain ) [ Edited ] )</td>\n",
       "      <td>Snoop Dogg</td>\n",
       "      <td>Doggumentary [ Edited ]</td>\n",
       "      <td>Rap &amp; Hip-Hop , West Coast</td>\n",
       "      <td>$ 1.29</td>\n",
       "      <td>( C ) 2011 Capitol Records , LLC</td>\n",
       "      <td>3:50</td>\n",
       "      <td>March 29 , 2011</td>\n",
       "    </tr>\n",
       "    <tr>\n",
       "      <th>3</th>\n",
       "      <td>181</td>\n",
       "      <td>1</td>\n",
       "      <td>Stars Come Out ( Tim Mason Remix )</td>\n",
       "      <td>Zedd</td>\n",
       "      <td>Stars Come Out ( Remixes ) - EP</td>\n",
       "      <td>Dance , Music , Electronic , House</td>\n",
       "      <td>$ 1.29</td>\n",
       "      <td>2012 Dim Mak Inc.</td>\n",
       "      <td>5:49</td>\n",
       "      <td>20-May-14</td>\n",
       "      <td>Stars Come Out ( Dillon Francis Remix )</td>\n",
       "      <td>Zedd</td>\n",
       "      <td>Stars Come Out [ Dillon Francis Remix ]</td>\n",
       "      <td>Dance &amp; Electronic</td>\n",
       "      <td>$ 1.29</td>\n",
       "      <td>2012 Dim Mak Inc.</td>\n",
       "      <td>4:08</td>\n",
       "      <td>May 20 , 2014</td>\n",
       "    </tr>\n",
       "    <tr>\n",
       "      <th>4</th>\n",
       "      <td>485</td>\n",
       "      <td>0</td>\n",
       "      <td>Jump ( feat . Nelly Furtado )</td>\n",
       "      <td>Flo Rida</td>\n",
       "      <td>R.O.O.T.S. ( Deluxe Version )</td>\n",
       "      <td>Hip-Hop/Rap , Music</td>\n",
       "      <td>$ 1.29</td>\n",
       "      <td>‰ ãÑ 2009 Atlantic Recording Corporation for t...</td>\n",
       "      <td>3:28</td>\n",
       "      <td>30-Mar-09</td>\n",
       "      <td>Yayo [ Feat . Brisco , Billy Blue , Ball Greez...</td>\n",
       "      <td>Flo Rida</td>\n",
       "      <td>R.O.O.T.S. ( Route Of Overcoming The Struggle ...</td>\n",
       "      <td>Rap &amp; Hip-Hop</td>\n",
       "      <td>$ 1.29</td>\n",
       "      <td>( C ) 2012 Motown Records , a Division of UMG ...</td>\n",
       "      <td>7:53</td>\n",
       "      <td>March 30 , 2009</td>\n",
       "    </tr>\n",
       "  </tbody>\n",
       "</table>\n",
       "</div>"
      ],
      "text/plain": [
       "    id  label                                     left_Song_Name  \\\n",
       "0  448      0  Baby When the Light ( David Guetta & Fred Rist...   \n",
       "1  287      1                                         Outversion   \n",
       "2  534      0              Peer Pressure ( feat . Traci Nelson )   \n",
       "3  181      1                 Stars Come Out ( Tim Mason Remix )   \n",
       "4  485      0                      Jump ( feat . Nelly Furtado )   \n",
       "\n",
       "  left_Artist_Name                                  left_Album_Name  \\\n",
       "0     David Guetta  Pop Life ( Extended Version ) [ Bonus Version ]   \n",
       "1      Mark Ronson                                          Version   \n",
       "2       Snoop Dogg                                     Doggumentary   \n",
       "3             Zedd                  Stars Come Out ( Remixes ) - EP   \n",
       "4         Flo Rida                    R.O.O.T.S. ( Deluxe Version )   \n",
       "\n",
       "                                          left_Genre left_Price  \\\n",
       "0  Dance , Music , Rock , Pop , House , Electroni...     $ 1.29   \n",
       "1  Pop , Music , R&B / Soul,Soul,Dance,Rock,Jazz,...     $ 0.99   \n",
       "2  Hip-Hop/Rap , Music , Rock , Gangsta Rap , Wes...     $ 1.29   \n",
       "3                 Dance , Music , Electronic , House     $ 1.29   \n",
       "4                                Hip-Hop/Rap , Music     $ 1.29   \n",
       "\n",
       "                                      left_CopyRight left_Time left_Released  \\\n",
       "0                              ‰ ãÑ 2007 Gum Records      6:17     18-Sep-07   \n",
       "1  2007 Mark Ronson under exclusive license to SO...      1:50     10-Jul-07   \n",
       "2  ‰ ãÑ 2011 Capitol Records , LLC . All rights r...      4:07     29-Mar-11   \n",
       "3                                  2012 Dim Mak Inc.      5:49     20-May-14   \n",
       "4  ‰ ãÑ 2009 Atlantic Recording Corporation for t...      3:28     30-Mar-09   \n",
       "\n",
       "                                     right_Song_Name right_Artist_Name  \\\n",
       "0  Revolver ( Madonna Vs. David Guetta Feat . Lil...      David Guetta   \n",
       "1                                         Outversion       Mark Ronson   \n",
       "2              Boom ( ( Feat . T-Pain ) [ Edited ] )        Snoop Dogg   \n",
       "3            Stars Come Out ( Dillon Francis Remix )              Zedd   \n",
       "4  Yayo [ Feat . Brisco , Billy Blue , Ball Greez...          Flo Rida   \n",
       "\n",
       "                                    right_Album_Name  \\\n",
       "0                        One Love ( Deluxe Version )   \n",
       "1                               Version [ Explicit ]   \n",
       "2                            Doggumentary [ Edited ]   \n",
       "3            Stars Come Out [ Dillon Francis Remix ]   \n",
       "4  R.O.O.T.S. ( Route Of Overcoming The Struggle ...   \n",
       "\n",
       "                  right_Genre right_Price  \\\n",
       "0          Dance & Electronic      $ 1.29   \n",
       "1                         Pop      $ 0.99   \n",
       "2  Rap & Hip-Hop , West Coast      $ 1.29   \n",
       "3          Dance & Electronic      $ 1.29   \n",
       "4               Rap & Hip-Hop      $ 1.29   \n",
       "\n",
       "                                     right_CopyRight right_Time  \\\n",
       "0  ( C ) 2014 Swedish House Mafia Holdings Ltd ( ...       3:18   \n",
       "1                         ( c ) 2011 J'adore Records       1:50   \n",
       "2                   ( C ) 2011 Capitol Records , LLC       3:50   \n",
       "3                                  2012 Dim Mak Inc.       4:08   \n",
       "4  ( C ) 2012 Motown Records , a Division of UMG ...       7:53   \n",
       "\n",
       "     right_Released  \n",
       "0  August 21 , 2009  \n",
       "1    July 10 , 2007  \n",
       "2   March 29 , 2011  \n",
       "3     May 20 , 2014  \n",
       "4   March 30 , 2009  "
      ]
     },
     "execution_count": 3,
     "metadata": {},
     "output_type": "execute_result"
    }
   ],
   "source": [
    "train_df.head()"
   ]
  },
  {
   "cell_type": "code",
   "execution_count": 4,
   "metadata": {},
   "outputs": [
    {
     "data": {
      "text/html": [
       "<div>\n",
       "<style scoped>\n",
       "    .dataframe tbody tr th:only-of-type {\n",
       "        vertical-align: middle;\n",
       "    }\n",
       "\n",
       "    .dataframe tbody tr th {\n",
       "        vertical-align: top;\n",
       "    }\n",
       "\n",
       "    .dataframe thead th {\n",
       "        text-align: right;\n",
       "    }\n",
       "</style>\n",
       "<table border=\"1\" class=\"dataframe\">\n",
       "  <thead>\n",
       "    <tr style=\"text-align: right;\">\n",
       "      <th></th>\n",
       "      <th>id</th>\n",
       "      <th>label</th>\n",
       "      <th>left_Song_Name</th>\n",
       "      <th>left_Artist_Name</th>\n",
       "      <th>left_Album_Name</th>\n",
       "      <th>left_Genre</th>\n",
       "      <th>left_Price</th>\n",
       "      <th>left_CopyRight</th>\n",
       "      <th>left_Time</th>\n",
       "      <th>left_Released</th>\n",
       "      <th>right_Song_Name</th>\n",
       "      <th>right_Artist_Name</th>\n",
       "      <th>right_Album_Name</th>\n",
       "      <th>right_Genre</th>\n",
       "      <th>right_Price</th>\n",
       "      <th>right_CopyRight</th>\n",
       "      <th>right_Time</th>\n",
       "      <th>right_Released</th>\n",
       "    </tr>\n",
       "  </thead>\n",
       "  <tbody>\n",
       "    <tr>\n",
       "      <th>0</th>\n",
       "      <td>299</td>\n",
       "      <td>0</td>\n",
       "      <td>Blame ( feat . John Newman ) [ BURNS Remix ]</td>\n",
       "      <td>Calvin Harris</td>\n",
       "      <td>Blame ( Remixes ) [ feat . John Newman ] - EP</td>\n",
       "      <td>Dance , Music</td>\n",
       "      <td>$ 1.29</td>\n",
       "      <td>2014 Sony Music Entertainment UK Limited</td>\n",
       "      <td>4:17</td>\n",
       "      <td>10-Nov-14</td>\n",
       "      <td>Pray to God ( R3hab Remix )</td>\n",
       "      <td>Calvin Harris feat . HAIM</td>\n",
       "      <td>Pray to God ( Remixes )</td>\n",
       "      <td>Dance &amp; Electronic</td>\n",
       "      <td>$ 1.29</td>\n",
       "      <td>( C ) 2015 Third Pardee Records , LLC under ex...</td>\n",
       "      <td>4:31</td>\n",
       "      <td>September 25 , 2015</td>\n",
       "    </tr>\n",
       "    <tr>\n",
       "      <th>1</th>\n",
       "      <td>48</td>\n",
       "      <td>1</td>\n",
       "      <td>Afire Love</td>\n",
       "      <td>Ed Sheeran</td>\n",
       "      <td>x</td>\n",
       "      <td>Singer/Songwriter , Music , Pop , Rock , Conte...</td>\n",
       "      <td>$ 1.29</td>\n",
       "      <td>2014 Asylum Records UK , a Warner Music UK Com...</td>\n",
       "      <td>5:14</td>\n",
       "      <td>20-Jun-14</td>\n",
       "      <td>Afire Love</td>\n",
       "      <td>Ed Sheeran</td>\n",
       "      <td>x</td>\n",
       "      <td>Pop</td>\n",
       "      <td>$ 1.29</td>\n",
       "      <td>( C ) 2014 mau5trap Recordings Ltd</td>\n",
       "      <td>5:14</td>\n",
       "      <td>June 20 , 2014</td>\n",
       "    </tr>\n",
       "    <tr>\n",
       "      <th>2</th>\n",
       "      <td>34</td>\n",
       "      <td>0</td>\n",
       "      <td>Lifted ( feat . Emeli Sand ' © &amp; Professor Gre...</td>\n",
       "      <td>Naughty Boy</td>\n",
       "      <td>Hotel Cabana ( Deluxe Version )</td>\n",
       "      <td>Pop , Music , Rock , R&amp;B / Soul , Contemporary...</td>\n",
       "      <td>$ 1.29</td>\n",
       "      <td>2013 Naughty Boy Recordings Ltd under exclusiv...</td>\n",
       "      <td>4:15</td>\n",
       "      <td>6-May-14</td>\n",
       "      <td>Never Been The Same [ feat . Thabo ]</td>\n",
       "      <td>Naughty Boy</td>\n",
       "      <td>Hotel Cabana ( Deluxe Version ) [ Explicit ]</td>\n",
       "      <td>Pop</td>\n",
       "      <td>$ 1.29</td>\n",
       "      <td>( C ) 2014 Naughty Boy Recordings Ltd under ex...</td>\n",
       "      <td>3:29</td>\n",
       "      <td>May 6 , 2014</td>\n",
       "    </tr>\n",
       "    <tr>\n",
       "      <th>3</th>\n",
       "      <td>215</td>\n",
       "      <td>1</td>\n",
       "      <td>Jack Daniels and Jesus</td>\n",
       "      <td>Chase Rice</td>\n",
       "      <td>Ignite the Night</td>\n",
       "      <td>Country , Music , Urban Cowboy , Contemporary ...</td>\n",
       "      <td>$ 1.29</td>\n",
       "      <td>2014 Dack Janiels Records</td>\n",
       "      <td>3:55</td>\n",
       "      <td>19-Aug-14</td>\n",
       "      <td>Jack Daniels and Jesus</td>\n",
       "      <td>Chase Rice</td>\n",
       "      <td>Ignite the Night ( Party Edition ) [ Explicit ]</td>\n",
       "      <td>Country</td>\n",
       "      <td>$ 0.89</td>\n",
       "      <td>( C ) 2014 Dack Janiels Records , under exclus...</td>\n",
       "      <td>3:55</td>\n",
       "      <td>August 19 , 2014</td>\n",
       "    </tr>\n",
       "    <tr>\n",
       "      <th>4</th>\n",
       "      <td>376</td>\n",
       "      <td>0</td>\n",
       "      <td>Turn Around ( 5,4,3,2,1 ) [ AK Remix ]</td>\n",
       "      <td>Flo Rida</td>\n",
       "      <td>Turn Around ( 5,4,3,2,1 ) [ Remixes ]</td>\n",
       "      <td>Dance,Music,Hip-Hop / Rap , Dirty South , Rap ...</td>\n",
       "      <td>$ 1.29</td>\n",
       "      <td>2011 Atlantic Recording Corporation for the Un...</td>\n",
       "      <td>5:09</td>\n",
       "      <td>19-Apr-11</td>\n",
       "      <td>Good Feeling ( Jaywalker Remix )</td>\n",
       "      <td>Flo Rida</td>\n",
       "      <td>Good Feeling ( Remixes )</td>\n",
       "      <td>Dance &amp; Electronic</td>\n",
       "      <td>$ 1.29</td>\n",
       "      <td>( C ) 2009 MPL Tours Inc. under exclusive lice...</td>\n",
       "      <td>4:51</td>\n",
       "      <td>November 15 , 2011</td>\n",
       "    </tr>\n",
       "  </tbody>\n",
       "</table>\n",
       "</div>"
      ],
      "text/plain": [
       "    id  label                                     left_Song_Name  \\\n",
       "0  299      0       Blame ( feat . John Newman ) [ BURNS Remix ]   \n",
       "1   48      1                                         Afire Love   \n",
       "2   34      0  Lifted ( feat . Emeli Sand ' © & Professor Gre...   \n",
       "3  215      1                             Jack Daniels and Jesus   \n",
       "4  376      0             Turn Around ( 5,4,3,2,1 ) [ AK Remix ]   \n",
       "\n",
       "  left_Artist_Name                                left_Album_Name  \\\n",
       "0    Calvin Harris  Blame ( Remixes ) [ feat . John Newman ] - EP   \n",
       "1       Ed Sheeran                                              x   \n",
       "2      Naughty Boy                Hotel Cabana ( Deluxe Version )   \n",
       "3       Chase Rice                               Ignite the Night   \n",
       "4         Flo Rida          Turn Around ( 5,4,3,2,1 ) [ Remixes ]   \n",
       "\n",
       "                                          left_Genre left_Price  \\\n",
       "0                                      Dance , Music     $ 1.29   \n",
       "1  Singer/Songwriter , Music , Pop , Rock , Conte...     $ 1.29   \n",
       "2  Pop , Music , Rock , R&B / Soul , Contemporary...     $ 1.29   \n",
       "3  Country , Music , Urban Cowboy , Contemporary ...     $ 1.29   \n",
       "4  Dance,Music,Hip-Hop / Rap , Dirty South , Rap ...     $ 1.29   \n",
       "\n",
       "                                      left_CopyRight left_Time left_Released  \\\n",
       "0           2014 Sony Music Entertainment UK Limited      4:17     10-Nov-14   \n",
       "1  2014 Asylum Records UK , a Warner Music UK Com...      5:14     20-Jun-14   \n",
       "2  2013 Naughty Boy Recordings Ltd under exclusiv...      4:15      6-May-14   \n",
       "3                          2014 Dack Janiels Records      3:55     19-Aug-14   \n",
       "4  2011 Atlantic Recording Corporation for the Un...      5:09     19-Apr-11   \n",
       "\n",
       "                        right_Song_Name          right_Artist_Name  \\\n",
       "0           Pray to God ( R3hab Remix )  Calvin Harris feat . HAIM   \n",
       "1                            Afire Love                 Ed Sheeran   \n",
       "2  Never Been The Same [ feat . Thabo ]                Naughty Boy   \n",
       "3                Jack Daniels and Jesus                 Chase Rice   \n",
       "4      Good Feeling ( Jaywalker Remix )                   Flo Rida   \n",
       "\n",
       "                                  right_Album_Name         right_Genre  \\\n",
       "0                          Pray to God ( Remixes )  Dance & Electronic   \n",
       "1                                                x                 Pop   \n",
       "2     Hotel Cabana ( Deluxe Version ) [ Explicit ]                 Pop   \n",
       "3  Ignite the Night ( Party Edition ) [ Explicit ]             Country   \n",
       "4                         Good Feeling ( Remixes )  Dance & Electronic   \n",
       "\n",
       "  right_Price                                    right_CopyRight right_Time  \\\n",
       "0      $ 1.29  ( C ) 2015 Third Pardee Records , LLC under ex...       4:31   \n",
       "1      $ 1.29                 ( C ) 2014 mau5trap Recordings Ltd       5:14   \n",
       "2      $ 1.29  ( C ) 2014 Naughty Boy Recordings Ltd under ex...       3:29   \n",
       "3      $ 0.89  ( C ) 2014 Dack Janiels Records , under exclus...       3:55   \n",
       "4      $ 1.29  ( C ) 2009 MPL Tours Inc. under exclusive lice...       4:51   \n",
       "\n",
       "        right_Released  \n",
       "0  September 25 , 2015  \n",
       "1       June 20 , 2014  \n",
       "2         May 6 , 2014  \n",
       "3     August 19 , 2014  \n",
       "4   November 15 , 2011  "
      ]
     },
     "execution_count": 4,
     "metadata": {},
     "output_type": "execute_result"
    }
   ],
   "source": [
    "validation_df.head()"
   ]
  },
  {
   "cell_type": "code",
   "execution_count": 7,
   "metadata": {},
   "outputs": [],
   "source": [
    "train_negatives = train_df[train_df['label']==0]\n",
    "validation_negatives = validation_df[validation_df['label']==0]\n",
    "test_negatives = test_df[test_df['label']==0]"
   ]
  },
  {
   "cell_type": "code",
   "execution_count": 8,
   "metadata": {},
   "outputs": [],
   "source": [
    "train_positives = train_df[train_df['label']==1]\n",
    "validation_positives = validation_df[validation_df['label']==1]\n",
    "test_positives = test_df[test_df['label']==1]"
   ]
  },
  {
   "cell_type": "code",
   "execution_count": 9,
   "metadata": {},
   "outputs": [
    {
     "data": {
      "text/plain": [
       "((246, 18), (77, 18))"
      ]
     },
     "execution_count": 9,
     "metadata": {},
     "output_type": "execute_result"
    }
   ],
   "source": [
    "train_negatives.shape, train_positives.shape"
   ]
  },
  {
   "cell_type": "code",
   "execution_count": 11,
   "metadata": {},
   "outputs": [
    {
     "data": {
      "text/plain": [
       "((84, 18), (24, 18))"
      ]
     },
     "execution_count": 11,
     "metadata": {},
     "output_type": "execute_result"
    }
   ],
   "source": [
    "validation_negatives.shape,validation_positives.shape"
   ]
  },
  {
   "cell_type": "code",
   "execution_count": 12,
   "metadata": {},
   "outputs": [
    {
     "data": {
      "text/plain": [
       "((77, 18), (31, 18))"
      ]
     },
     "execution_count": 12,
     "metadata": {},
     "output_type": "execute_result"
    }
   ],
   "source": [
    "test_negatives.shape,test_positives.shape"
   ]
  },
  {
   "cell_type": "code",
   "execution_count": 15,
   "metadata": {},
   "outputs": [],
   "source": [
    "negatives_df = train_negatives.append(validation_negatives,ignore_index=True)\n",
    "negatives_df = negatives_df.append(test_negatives,ignore_index=True)"
   ]
  },
  {
   "cell_type": "code",
   "execution_count": 16,
   "metadata": {},
   "outputs": [],
   "source": [
    "positives_df = train_positives.append(validation_positives,ignore_index=True)\n",
    "positives_df = positives_df.append(test_positives,ignore_index=True)"
   ]
  },
  {
   "cell_type": "code",
   "execution_count": 17,
   "metadata": {},
   "outputs": [
    {
     "data": {
      "text/plain": [
       "(407, 18)"
      ]
     },
     "execution_count": 17,
     "metadata": {},
     "output_type": "execute_result"
    }
   ],
   "source": [
    "negatives_df.shape"
   ]
  },
  {
   "cell_type": "code",
   "execution_count": 11,
   "metadata": {},
   "outputs": [],
   "source": [
    "negatives_df.to_csv('sample_data/itunes-amazon/negative_samples.csv',index=False)"
   ]
  },
  {
   "cell_type": "code",
   "execution_count": 18,
   "metadata": {},
   "outputs": [],
   "source": [
    "positives_df.to_csv('sample_data/itunes-amazon/positives_samples.csv',index=False)"
   ]
  },
  {
   "cell_type": "code",
   "execution_count": 4,
   "metadata": {},
   "outputs": [],
   "source": [
    "all_samples_df = train_df.append(validation_df,ignore_index=True)\n",
    "all_samples_df = all_samples_df.append(test_df,ignore_index=True)"
   ]
  },
  {
   "cell_type": "code",
   "execution_count": 5,
   "metadata": {},
   "outputs": [
    {
     "data": {
      "text/plain": [
       "(539, 18)"
      ]
     },
     "execution_count": 5,
     "metadata": {},
     "output_type": "execute_result"
    }
   ],
   "source": [
    "all_samples_df.shape"
   ]
  },
  {
   "cell_type": "code",
   "execution_count": 6,
   "metadata": {},
   "outputs": [],
   "source": [
    "all_samples_df.to_csv('sample_data/itunes-amazon/all_samples.csv',index=False)"
   ]
  }
 ],
 "metadata": {
  "kernelspec": {
   "display_name": "Python 3",
   "language": "python",
   "name": "python3"
  },
  "language_info": {
   "codemirror_mode": {
    "name": "ipython",
    "version": 3
   },
   "file_extension": ".py",
   "mimetype": "text/x-python",
   "name": "python",
   "nbconvert_exporter": "python",
   "pygments_lexer": "ipython3",
   "version": "3.6.8"
  }
 },
 "nbformat": 4,
 "nbformat_minor": 2
}

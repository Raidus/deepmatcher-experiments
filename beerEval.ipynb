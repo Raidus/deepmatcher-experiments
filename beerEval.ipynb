{
 "cells": [
  {
   "cell_type": "code",
   "execution_count": 1,
   "metadata": {
    "ExecuteTime": {
     "end_time": "2020-02-14T16:59:19.961633Z",
     "start_time": "2020-02-14T16:59:19.942013Z"
    }
   },
   "outputs": [],
   "source": [
    "%load_ext autoreload\n",
    "%autoreload 2"
   ]
  },
  {
   "cell_type": "code",
   "execution_count": 24,
   "metadata": {
    "ExecuteTime": {
     "end_time": "2020-02-14T17:09:47.266391Z",
     "start_time": "2020-02-14T17:09:47.226554Z"
    }
   },
   "outputs": [],
   "source": [
    "from utils.attacker import attackDatasetEditDist,changeRandomCharacters\n",
    "import pandas as pd\n",
    "import deepmatcher as dm\n",
    "import numpy as np\n",
    "from utils.deepmatcher_utils import wrapDm,getF1PrecisionRecall,getMeanConfidenceAndVariance,getTruePositiveNegative\n",
    "from tqdm import tqdm\n",
    "from sklearn.utils import shuffle\n",
    "from collections import OrderedDict"
   ]
  },
  {
   "cell_type": "code",
   "execution_count": 3,
   "metadata": {
    "ExecuteTime": {
     "end_time": "2020-02-14T16:59:23.459767Z",
     "start_time": "2020-02-14T16:59:23.416430Z"
    }
   },
   "outputs": [],
   "source": [
    "##given a perturbation model and number of perturbation calculate avg f1,precision and recall \n",
    "def getAvgF1PrecisionRecall(testpath,model,nperturbation,editdist=1):\n",
    "    avgf1,avgrecall,avgprecision = 0,0,0\n",
    "    for i in tqdm(range(nperturbation)):\n",
    "        test_df = pd.read_csv(testpath)\n",
    "        original_labels = test_df.label.values\n",
    "        attacked_test = attackDatasetEditDist(test_df,['id','label'],editdist=editdist)\n",
    "        attack_preds = wrapDm(attacked_test,model)\n",
    "        f1,prec,recall = getF1PrecisionRecall(original_labels,attack_preds)\n",
    "        avgf1 += f1\n",
    "        avgprecision += prec\n",
    "        avgrecall += recall\n",
    "    return (avgf1/nperturbation,avgprecision/nperturbation,avgrecall/nperturbation)"
   ]
  },
  {
   "cell_type": "code",
   "execution_count": 4,
   "metadata": {
    "ExecuteTime": {
     "end_time": "2020-02-14T16:59:23.990583Z",
     "start_time": "2020-02-14T16:59:23.955758Z"
    }
   },
   "outputs": [],
   "source": [
    "def getAdversarialTrainingSet(train_df,dimension,editdist):\n",
    "    shuffled_train = shuffle(train_df)\n",
    "    samples_toalter = shuffled_train.iloc[:dimension].copy()\n",
    "    unaltered = shuffled_train.iloc[dimension:].copy()\n",
    "    attacked_train = attackDatasetEditDist(samples_toalter,['id','label'],editdist=1)\n",
    "    newTrain = pd.concat([attacked_train,unaltered])\n",
    "    return newTrain"
   ]
  },
  {
   "cell_type": "code",
   "execution_count": 25,
   "metadata": {
    "ExecuteTime": {
     "end_time": "2020-02-14T17:09:52.792900Z",
     "start_time": "2020-02-14T17:09:52.755188Z"
    }
   },
   "outputs": [],
   "source": [
    "def containTokens(attributes,tokensToFind):\n",
    "    matchingAttr = 0\n",
    "    for attr in attributes:\n",
    "        tokens = list(map(lambda s:s.lower(),attr.split()))\n",
    "        if set(tokensToFind).issubset(set(tokens)):\n",
    "            matchingAttr +=1\n",
    "    return matchingAttr"
   ]
  },
  {
   "cell_type": "code",
   "execution_count": 26,
   "metadata": {
    "ExecuteTime": {
     "end_time": "2020-02-14T17:09:53.138399Z",
     "start_time": "2020-02-14T17:09:53.098825Z"
    }
   },
   "outputs": [],
   "source": [
    "def countTokens(attributes):\n",
    "    allTokens = {}\n",
    "    for attr in attributes:\n",
    "        tokens = list(map(lambda s:s.lower(),attr.split()))\n",
    "        for tok in tokens:\n",
    "            if tok in allTokens:\n",
    "                allTokens[tok] += 1\n",
    "            else:\n",
    "                allTokens[tok] = 1\n",
    "    allOrderedTokens = OrderedDict(sorted(allTokens.items(), key=lambda t: t[1]))\n",
    "    return allOrderedTokens"
   ]
  },
  {
   "cell_type": "markdown",
   "metadata": {},
   "source": [
    "# Change edit distance"
   ]
  },
  {
   "cell_type": "code",
   "execution_count": 7,
   "metadata": {
    "ExecuteTime": {
     "end_time": "2020-02-14T17:00:01.814989Z",
     "start_time": "2020-02-14T17:00:01.770685Z"
    }
   },
   "outputs": [],
   "source": [
    "DATASET_DIR='datasets/Structured/Beer/'"
   ]
  },
  {
   "cell_type": "markdown",
   "metadata": {},
   "source": [
    "## Evaluate standard model"
   ]
  },
  {
   "cell_type": "code",
   "execution_count": 6,
   "metadata": {
    "ExecuteTime": {
     "end_time": "2020-02-12T13:39:34.167833Z",
     "start_time": "2020-02-12T13:39:28.453925Z"
    }
   },
   "outputs": [],
   "source": [
    "standard_model = dm.MatchingModel(attr_summarizer='hybrid')\n",
    "standard_model.load_state('models/beer_hybrid.pth')\n",
    "standard_model = standard_model.to('cuda')"
   ]
  },
  {
   "cell_type": "code",
   "execution_count": 7,
   "metadata": {
    "ExecuteTime": {
     "end_time": "2020-02-09T14:47:21.734208Z",
     "start_time": "2020-02-09T14:46:36.465067Z"
    }
   },
   "outputs": [
    {
     "name": "stderr",
     "output_type": "stream",
     "text": [
      "100%|██████████| 20/20 [00:45<00:00,  2.26s/it]\n"
     ]
    },
    {
     "data": {
      "text/plain": [
       "(0.6018780920046372, 0.5742302039727692, 0.6370370370370371)"
      ]
     },
     "execution_count": 7,
     "metadata": {},
     "output_type": "execute_result"
    }
   ],
   "source": [
    "avgf1,avgprecision,avgrecall = getAvgF1PrecisionRecall('datasets/Structured/itunes-amazon/merged_test.csv',\n",
    "                                                       itunesamazon_mod,20,editdist=1)\n",
    "avgf1,avgprecision,avgrecall"
   ]
  },
  {
   "cell_type": "code",
   "execution_count": 9,
   "metadata": {
    "ExecuteTime": {
     "end_time": "2020-02-07T16:25:37.530261Z",
     "start_time": "2020-02-07T16:25:07.098842Z"
    }
   },
   "outputs": [
    {
     "name": "stderr",
     "output_type": "stream",
     "text": [
      "100%|██████████| 20/20 [00:30<00:00,  1.52s/it]\n"
     ]
    },
    {
     "data": {
      "text/plain": [
       "(0.5566625559259786, 0.5380849305572994, 0.5814814814814815)"
      ]
     },
     "execution_count": 9,
     "metadata": {},
     "output_type": "execute_result"
    }
   ],
   "source": [
    "avgf1,avgprecision,avgrecall = getAvgF1PrecisionRecall('datasets/Structured/itunes-amazon/merged_test.csv',\n",
    "                                                       itunesamazon_mod,20,editdist=2)\n",
    "avgf1,avgprecision,avgrecall"
   ]
  },
  {
   "cell_type": "code",
   "execution_count": 8,
   "metadata": {
    "ExecuteTime": {
     "end_time": "2020-02-09T14:48:39.583230Z",
     "start_time": "2020-02-09T14:48:37.913244Z"
    }
   },
   "outputs": [
    {
     "data": {
      "text/plain": [
       "(0.8026398884457185, 0.014892625030903646)"
      ]
     },
     "execution_count": 8,
     "metadata": {},
     "output_type": "execute_result"
    }
   ],
   "source": [
    "test_df = pd.read_csv('datasets/Structured/itunes-amazon/merged_test.csv')\n",
    "getMeanConfidenceAndVariance(itunesamazon_mod,test_df)"
   ]
  },
  {
   "cell_type": "markdown",
   "metadata": {},
   "source": [
    "## Retrain model with 10% perturbed training data"
   ]
  },
  {
   "cell_type": "code",
   "execution_count": 9,
   "metadata": {
    "ExecuteTime": {
     "end_time": "2020-02-09T14:49:57.172927Z",
     "start_time": "2020-02-09T14:49:57.105512Z"
    }
   },
   "outputs": [],
   "source": [
    "train_df = pd.read_csv(DATASET_DIR+'merged_train.csv')\n",
    "adversarialTrain_10 = getAdversarialTrainingSet(train_df,int(len(train_df)/10),editdist=1)"
   ]
  },
  {
   "cell_type": "code",
   "execution_count": 10,
   "metadata": {
    "ExecuteTime": {
     "end_time": "2020-02-09T14:50:00.189059Z",
     "start_time": "2020-02-09T14:50:00.146492Z"
    }
   },
   "outputs": [],
   "source": [
    "adversarialTrain_10.to_csv('datasets/Structured/itunes-amazon/attacked_train10.csv',index=False)"
   ]
  },
  {
   "cell_type": "code",
   "execution_count": 11,
   "metadata": {
    "ExecuteTime": {
     "end_time": "2020-02-09T14:50:05.971047Z",
     "start_time": "2020-02-09T14:50:03.333386Z"
    }
   },
   "outputs": [
    {
     "name": "stderr",
     "output_type": "stream",
     "text": [
      "WARNING:deepmatcher.data.dataset:Rebuilding data cache because: ['Data file list has changed.', 'One or more data files have been modified.']\n",
      "\n",
      "Reading and processing data from \"datasets/Structured/itunes-amazon/attacked_train10.csv\"\n",
      "0% [############################# ] 100% | ETA: 00:00:00\n",
      "Reading and processing data from \"datasets/Structured/itunes-amazon/merged_valid.csv\"\n",
      "0% [############################# ] 100% | ETA: 00:00:00\n",
      "Reading and processing data from \"datasets/Structured/itunes-amazon/merged_test.csv\"\n",
      "0% [############################# ] 100% | ETA: 00:00:00\n",
      "Building vocabulary\n",
      "0% [#] 100% | ETA: 00:00:00\n",
      "Total time elapsed: 00:00:00\n",
      "\n",
      "Computing principal components\n",
      "0% [#] 100% | ETA: 00:00:00\n",
      "Total time elapsed: 00:00:00\n"
     ]
    }
   ],
   "source": [
    "train,validation,test = dm.data.process('datasets/Structured/itunes-amazon/',train='attacked_train10.csv',\n",
    "                                       validation='merged_valid.csv',test='merged_test.csv',\n",
    "                                       left_prefix='ltable_',right_prefix='rtable_',cache='editdist.pth')"
   ]
  },
  {
   "cell_type": "code",
   "execution_count": 12,
   "metadata": {
    "ExecuteTime": {
     "end_time": "2020-02-09T14:53:47.035491Z",
     "start_time": "2020-02-09T14:50:15.255025Z"
    }
   },
   "outputs": [
    {
     "name": "stdout",
     "output_type": "stream",
     "text": [
      "* Number of trainable parameters: 17757810\n",
      "===>  TRAIN Epoch 1\n"
     ]
    },
    {
     "name": "stderr",
     "output_type": "stream",
     "text": [
      "/home/nvidia/anaconda3/envs/torchenv/lib/python3.6/site-packages/torch/nn/functional.py:1932: UserWarning: reduction: 'mean' divides the total loss by both the batch size and the support size.'batchmean' divides only by the batch size, and aligns with the KL div math definition.'mean' will be changed to behave the same as 'batchmean' in the next major release.\n",
      "  warnings.warn(\"reduction: 'mean' divides the total loss by both the batch size and the support size.\"\n",
      "0% [██] 100% | ETA: 00:00:00\n",
      "Total time elapsed: 00:00:05\n"
     ]
    },
    {
     "name": "stdout",
     "output_type": "stream",
     "text": [
      "Finished Epoch 1 || Run Time:    4.8 | Load Time:    2.1 || F1:  36.87 | Prec:  23.57 | Rec:  84.62 || Ex/s:  47.03\n",
      "\n",
      "===>  EVAL Epoch 1\n",
      "Finished Epoch 1 || Run Time:    0.6 | Load Time:    0.7 || F1:  41.54 | Prec:  26.21 | Rec: 100.00 || Ex/s:  85.24\n",
      "\n",
      "* Best F1: tensor(41.5385, device='cuda:0')\n",
      "Saving best model...\n",
      "Done.\n",
      "---------------------\n",
      "\n",
      "===>  TRAIN Epoch 2\n"
     ]
    },
    {
     "name": "stderr",
     "output_type": "stream",
     "text": [
      "0% [██] 100% | ETA: 00:00:00\n",
      "Total time elapsed: 00:00:06\n"
     ]
    },
    {
     "name": "stdout",
     "output_type": "stream",
     "text": [
      "Finished Epoch 2 || Run Time:    4.8 | Load Time:    2.2 || F1:  41.62 | Prec:  26.37 | Rec:  98.72 || Ex/s:  45.71\n",
      "\n",
      "===>  EVAL Epoch 2\n",
      "Finished Epoch 2 || Run Time:    0.6 | Load Time:    0.7 || F1:  57.89 | Prec:  44.90 | Rec:  81.48 || Ex/s:  84.95\n",
      "\n",
      "* Best F1: tensor(57.8947, device='cuda:0')\n",
      "Saving best model...\n",
      "Done.\n",
      "---------------------\n",
      "\n",
      "===>  TRAIN Epoch 3\n"
     ]
    },
    {
     "name": "stderr",
     "output_type": "stream",
     "text": [
      "0% [██] 100% | ETA: 00:00:00\n",
      "Total time elapsed: 00:00:06\n"
     ]
    },
    {
     "name": "stdout",
     "output_type": "stream",
     "text": [
      "Finished Epoch 3 || Run Time:    4.9 | Load Time:    2.2 || F1:  61.67 | Prec:  46.98 | Rec:  89.74 || Ex/s:  45.33\n",
      "\n",
      "===>  EVAL Epoch 3\n",
      "Finished Epoch 3 || Run Time:    0.6 | Load Time:    0.7 || F1:  62.69 | Prec:  52.50 | Rec:  77.78 || Ex/s:  84.23\n",
      "\n",
      "* Best F1: tensor(62.6866, device='cuda:0')\n",
      "Saving best model...\n",
      "Done.\n",
      "---------------------\n",
      "\n",
      "===>  TRAIN Epoch 4\n"
     ]
    },
    {
     "name": "stderr",
     "output_type": "stream",
     "text": [
      "0% [██] 100% | ETA: 00:00:00\n",
      "Total time elapsed: 00:00:06\n"
     ]
    },
    {
     "name": "stdout",
     "output_type": "stream",
     "text": [
      "Finished Epoch 4 || Run Time:    4.9 | Load Time:    2.2 || F1:  66.05 | Prec:  51.82 | Rec:  91.03 || Ex/s:  45.64\n",
      "\n",
      "===>  EVAL Epoch 4\n",
      "Finished Epoch 4 || Run Time:    0.6 | Load Time:    0.7 || F1:  68.97 | Prec:  64.52 | Rec:  74.07 || Ex/s:  85.64\n",
      "\n",
      "* Best F1: tensor(68.9655, device='cuda:0')\n",
      "Saving best model...\n",
      "Done.\n",
      "---------------------\n",
      "\n",
      "===>  TRAIN Epoch 5\n"
     ]
    },
    {
     "name": "stderr",
     "output_type": "stream",
     "text": [
      "0% [██] 100% | ETA: 00:00:00\n",
      "Total time elapsed: 00:00:05\n"
     ]
    },
    {
     "name": "stdout",
     "output_type": "stream",
     "text": [
      "Finished Epoch 5 || Run Time:    4.9 | Load Time:    2.1 || F1:  72.00 | Prec:  59.02 | Rec:  92.31 || Ex/s:  46.45\n",
      "\n",
      "===>  EVAL Epoch 5\n",
      "Finished Epoch 5 || Run Time:    0.6 | Load Time:    0.7 || F1:  66.67 | Prec:  58.33 | Rec:  77.78 || Ex/s:  81.93\n",
      "\n",
      "---------------------\n",
      "\n",
      "===>  TRAIN Epoch 6\n"
     ]
    },
    {
     "name": "stderr",
     "output_type": "stream",
     "text": [
      "0% [██] 100% | ETA: 00:00:00\n",
      "Total time elapsed: 00:00:06\n"
     ]
    },
    {
     "name": "stdout",
     "output_type": "stream",
     "text": [
      "Finished Epoch 6 || Run Time:    4.9 | Load Time:    2.2 || F1:  78.12 | Prec:  65.79 | Rec:  96.15 || Ex/s:  44.91\n",
      "\n",
      "===>  EVAL Epoch 6\n",
      "Finished Epoch 6 || Run Time:    0.6 | Load Time:    0.7 || F1:  77.19 | Prec:  73.33 | Rec:  81.48 || Ex/s:  85.99\n",
      "\n",
      "* Best F1: tensor(77.1930, device='cuda:0')\n",
      "Saving best model...\n",
      "Done.\n",
      "---------------------\n",
      "\n",
      "===>  TRAIN Epoch 7\n"
     ]
    },
    {
     "name": "stderr",
     "output_type": "stream",
     "text": [
      "0% [██] 100% | ETA: 00:00:00\n",
      "Total time elapsed: 00:00:06\n"
     ]
    },
    {
     "name": "stdout",
     "output_type": "stream",
     "text": [
      "Finished Epoch 7 || Run Time:    5.0 | Load Time:    2.3 || F1:  85.39 | Prec:  76.00 | Rec:  97.44 || Ex/s:  44.29\n",
      "\n",
      "===>  EVAL Epoch 7\n",
      "Finished Epoch 7 || Run Time:    0.6 | Load Time:    0.7 || F1:  83.33 | Prec:  75.76 | Rec:  92.59 || Ex/s:  86.20\n",
      "\n",
      "* Best F1: tensor(83.3333, device='cuda:0')\n",
      "Saving best model...\n",
      "Done.\n",
      "---------------------\n",
      "\n",
      "===>  TRAIN Epoch 8\n"
     ]
    },
    {
     "name": "stderr",
     "output_type": "stream",
     "text": [
      "0% [██] 100% | ETA: 00:00:00\n",
      "Total time elapsed: 00:00:06\n"
     ]
    },
    {
     "name": "stdout",
     "output_type": "stream",
     "text": [
      "Finished Epoch 8 || Run Time:    4.9 | Load Time:    2.2 || F1:  93.41 | Prec:  87.64 | Rec: 100.00 || Ex/s:  45.50\n",
      "\n",
      "===>  EVAL Epoch 8\n",
      "Finished Epoch 8 || Run Time:    0.6 | Load Time:    0.7 || F1:  85.25 | Prec:  76.47 | Rec:  96.30 || Ex/s:  85.02\n",
      "\n",
      "* Best F1: tensor(85.2459, device='cuda:0')\n",
      "Saving best model...\n",
      "Done.\n",
      "---------------------\n",
      "\n",
      "===>  TRAIN Epoch 9\n"
     ]
    },
    {
     "name": "stderr",
     "output_type": "stream",
     "text": [
      "0% [██] 100% | ETA: 00:00:00\n",
      "Total time elapsed: 00:00:06\n"
     ]
    },
    {
     "name": "stdout",
     "output_type": "stream",
     "text": [
      "Finished Epoch 9 || Run Time:    4.8 | Load Time:    2.2 || F1:  97.50 | Prec:  95.12 | Rec: 100.00 || Ex/s:  45.76\n",
      "\n",
      "===>  EVAL Epoch 9\n",
      "Finished Epoch 9 || Run Time:    0.6 | Load Time:    0.7 || F1:  82.54 | Prec:  72.22 | Rec:  96.30 || Ex/s:  85.33\n",
      "\n",
      "---------------------\n",
      "\n",
      "===>  TRAIN Epoch 10\n"
     ]
    },
    {
     "name": "stderr",
     "output_type": "stream",
     "text": [
      "0% [██] 100% | ETA: 00:00:00\n",
      "Total time elapsed: 00:00:06\n"
     ]
    },
    {
     "name": "stdout",
     "output_type": "stream",
     "text": [
      "Finished Epoch 10 || Run Time:    4.9 | Load Time:    2.1 || F1:  97.50 | Prec:  95.12 | Rec: 100.00 || Ex/s:  45.78\n",
      "\n",
      "===>  EVAL Epoch 10\n",
      "Finished Epoch 10 || Run Time:    0.6 | Load Time:    0.7 || F1:  83.87 | Prec:  74.29 | Rec:  96.30 || Ex/s:  84.53\n",
      "\n",
      "---------------------\n",
      "\n",
      "===>  TRAIN Epoch 11\n"
     ]
    },
    {
     "name": "stderr",
     "output_type": "stream",
     "text": [
      "0% [██] 100% | ETA: 00:00:00\n",
      "Total time elapsed: 00:00:06\n"
     ]
    },
    {
     "name": "stdout",
     "output_type": "stream",
     "text": [
      "Finished Epoch 11 || Run Time:    4.8 | Load Time:    2.1 || F1:  98.73 | Prec:  97.50 | Rec: 100.00 || Ex/s:  46.00\n",
      "\n",
      "===>  EVAL Epoch 11\n",
      "Finished Epoch 11 || Run Time:    0.6 | Load Time:    0.7 || F1:  82.54 | Prec:  72.22 | Rec:  96.30 || Ex/s:  85.29\n",
      "\n",
      "---------------------\n",
      "\n",
      "===>  TRAIN Epoch 12\n"
     ]
    },
    {
     "name": "stderr",
     "output_type": "stream",
     "text": [
      "0% [██] 100% | ETA: 00:00:00\n",
      "Total time elapsed: 00:00:05\n"
     ]
    },
    {
     "name": "stdout",
     "output_type": "stream",
     "text": [
      "Finished Epoch 12 || Run Time:    4.9 | Load Time:    2.1 || F1:  98.73 | Prec:  97.50 | Rec: 100.00 || Ex/s:  46.26\n",
      "\n",
      "===>  EVAL Epoch 12\n",
      "Finished Epoch 12 || Run Time:    0.6 | Load Time:    0.7 || F1:  83.87 | Prec:  74.29 | Rec:  96.30 || Ex/s:  84.00\n",
      "\n",
      "---------------------\n",
      "\n",
      "===>  TRAIN Epoch 13\n"
     ]
    },
    {
     "name": "stderr",
     "output_type": "stream",
     "text": [
      "0% [██] 100% | ETA: 00:00:00\n",
      "Total time elapsed: 00:00:06\n"
     ]
    },
    {
     "name": "stdout",
     "output_type": "stream",
     "text": [
      "Finished Epoch 13 || Run Time:    4.9 | Load Time:    2.1 || F1:  99.36 | Prec:  98.73 | Rec: 100.00 || Ex/s:  45.78\n",
      "\n",
      "===>  EVAL Epoch 13\n",
      "Finished Epoch 13 || Run Time:    0.6 | Load Time:    0.7 || F1:  83.87 | Prec:  74.29 | Rec:  96.30 || Ex/s:  84.85\n",
      "\n",
      "---------------------\n",
      "\n",
      "===>  TRAIN Epoch 14\n"
     ]
    },
    {
     "name": "stderr",
     "output_type": "stream",
     "text": [
      "0% [██] 100% | ETA: 00:00:00\n",
      "Total time elapsed: 00:00:05\n"
     ]
    },
    {
     "name": "stdout",
     "output_type": "stream",
     "text": [
      "Finished Epoch 14 || Run Time:    4.4 | Load Time:    1.9 || F1:  99.36 | Prec:  98.73 | Rec: 100.00 || Ex/s:  50.71\n",
      "\n",
      "===>  EVAL Epoch 14\n",
      "Finished Epoch 14 || Run Time:    0.6 | Load Time:    0.6 || F1:  83.87 | Prec:  74.29 | Rec:  96.30 || Ex/s:  92.17\n",
      "\n",
      "---------------------\n",
      "\n",
      "===>  TRAIN Epoch 15\n"
     ]
    },
    {
     "name": "stderr",
     "output_type": "stream",
     "text": [
      "0% [██] 100% | ETA: 00:00:00\n",
      "Total time elapsed: 00:00:05\n"
     ]
    },
    {
     "name": "stdout",
     "output_type": "stream",
     "text": [
      "Finished Epoch 15 || Run Time:    4.8 | Load Time:    2.1 || F1: 100.00 | Prec: 100.00 | Rec: 100.00 || Ex/s:  46.74\n",
      "\n",
      "===>  EVAL Epoch 15\n",
      "Finished Epoch 15 || Run Time:    0.6 | Load Time:    0.7 || F1:  83.87 | Prec:  74.29 | Rec:  96.30 || Ex/s:  84.14\n",
      "\n",
      "---------------------\n",
      "\n",
      "===>  TRAIN Epoch 16\n"
     ]
    },
    {
     "name": "stderr",
     "output_type": "stream",
     "text": [
      "0% [██] 100% | ETA: 00:00:00\n",
      "Total time elapsed: 00:00:05\n"
     ]
    },
    {
     "name": "stdout",
     "output_type": "stream",
     "text": [
      "Finished Epoch 16 || Run Time:    4.8 | Load Time:    2.1 || F1: 100.00 | Prec: 100.00 | Rec: 100.00 || Ex/s:  46.89\n",
      "\n",
      "===>  EVAL Epoch 16\n",
      "Finished Epoch 16 || Run Time:    0.6 | Load Time:    0.7 || F1:  83.87 | Prec:  74.29 | Rec:  96.30 || Ex/s:  85.57\n",
      "\n",
      "---------------------\n",
      "\n",
      "===>  TRAIN Epoch 17\n"
     ]
    },
    {
     "name": "stderr",
     "output_type": "stream",
     "text": [
      "0% [██] 100% | ETA: 00:00:00\n",
      "Total time elapsed: 00:00:05\n"
     ]
    },
    {
     "name": "stdout",
     "output_type": "stream",
     "text": [
      "Finished Epoch 17 || Run Time:    4.7 | Load Time:    2.0 || F1: 100.00 | Prec: 100.00 | Rec: 100.00 || Ex/s:  47.53\n",
      "\n",
      "===>  EVAL Epoch 17\n",
      "Finished Epoch 17 || Run Time:    0.6 | Load Time:    0.7 || F1:  83.87 | Prec:  74.29 | Rec:  96.30 || Ex/s:  85.08\n",
      "\n",
      "---------------------\n",
      "\n",
      "===>  TRAIN Epoch 18\n"
     ]
    },
    {
     "name": "stderr",
     "output_type": "stream",
     "text": [
      "0% [██] 100% | ETA: 00:00:00\n",
      "Total time elapsed: 00:00:06\n"
     ]
    },
    {
     "name": "stdout",
     "output_type": "stream",
     "text": [
      "Finished Epoch 18 || Run Time:    4.9 | Load Time:    2.1 || F1: 100.00 | Prec: 100.00 | Rec: 100.00 || Ex/s:  45.83\n",
      "\n",
      "===>  EVAL Epoch 18\n",
      "Finished Epoch 18 || Run Time:    0.6 | Load Time:    0.7 || F1:  83.87 | Prec:  74.29 | Rec:  96.30 || Ex/s:  84.37\n",
      "\n",
      "---------------------\n",
      "\n",
      "===>  TRAIN Epoch 19\n"
     ]
    },
    {
     "name": "stderr",
     "output_type": "stream",
     "text": [
      "0% [██] 100% | ETA: 00:00:00\n",
      "Total time elapsed: 00:00:06\n"
     ]
    },
    {
     "name": "stdout",
     "output_type": "stream",
     "text": [
      "Finished Epoch 19 || Run Time:    4.8 | Load Time:    2.1 || F1: 100.00 | Prec: 100.00 | Rec: 100.00 || Ex/s:  45.98\n",
      "\n",
      "===>  EVAL Epoch 19\n",
      "Finished Epoch 19 || Run Time:    0.6 | Load Time:    0.7 || F1:  83.87 | Prec:  74.29 | Rec:  96.30 || Ex/s:  85.03\n",
      "\n",
      "---------------------\n",
      "\n",
      "===>  TRAIN Epoch 20\n"
     ]
    },
    {
     "name": "stderr",
     "output_type": "stream",
     "text": [
      "0% [██] 100% | ETA: 00:00:00\n",
      "Total time elapsed: 00:00:06\n"
     ]
    },
    {
     "name": "stdout",
     "output_type": "stream",
     "text": [
      "Finished Epoch 20 || Run Time:    4.8 | Load Time:    2.2 || F1: 100.00 | Prec: 100.00 | Rec: 100.00 || Ex/s:  45.91\n",
      "\n",
      "===>  EVAL Epoch 20\n",
      "Finished Epoch 20 || Run Time:    0.6 | Load Time:    0.7 || F1:  83.87 | Prec:  74.29 | Rec:  96.30 || Ex/s:  85.53\n",
      "\n",
      "---------------------\n",
      "\n",
      "===>  TRAIN Epoch 21\n"
     ]
    },
    {
     "name": "stderr",
     "output_type": "stream",
     "text": [
      "0% [██] 100% | ETA: 00:00:00\n",
      "Total time elapsed: 00:00:06\n"
     ]
    },
    {
     "name": "stdout",
     "output_type": "stream",
     "text": [
      "Finished Epoch 21 || Run Time:    4.9 | Load Time:    2.1 || F1: 100.00 | Prec: 100.00 | Rec: 100.00 || Ex/s:  45.63\n",
      "\n",
      "===>  EVAL Epoch 21\n",
      "Finished Epoch 21 || Run Time:    0.6 | Load Time:    0.7 || F1:  83.87 | Prec:  74.29 | Rec:  96.30 || Ex/s:  86.66\n",
      "\n",
      "---------------------\n",
      "\n",
      "===>  TRAIN Epoch 22\n"
     ]
    },
    {
     "name": "stderr",
     "output_type": "stream",
     "text": [
      "0% [██] 100% | ETA: 00:00:00\n",
      "Total time elapsed: 00:00:05\n"
     ]
    },
    {
     "name": "stdout",
     "output_type": "stream",
     "text": [
      "Finished Epoch 22 || Run Time:    4.8 | Load Time:    2.1 || F1: 100.00 | Prec: 100.00 | Rec: 100.00 || Ex/s:  47.09\n",
      "\n",
      "===>  EVAL Epoch 22\n",
      "Finished Epoch 22 || Run Time:    0.6 | Load Time:    0.7 || F1:  83.87 | Prec:  74.29 | Rec:  96.30 || Ex/s:  86.68\n",
      "\n",
      "---------------------\n",
      "\n",
      "===>  TRAIN Epoch 23\n"
     ]
    },
    {
     "name": "stderr",
     "output_type": "stream",
     "text": [
      "0% [██] 100% | ETA: 00:00:00\n",
      "Total time elapsed: 00:00:05\n"
     ]
    },
    {
     "name": "stdout",
     "output_type": "stream",
     "text": [
      "Finished Epoch 23 || Run Time:    4.9 | Load Time:    2.1 || F1: 100.00 | Prec: 100.00 | Rec: 100.00 || Ex/s:  46.04\n",
      "\n",
      "===>  EVAL Epoch 23\n",
      "Finished Epoch 23 || Run Time:    0.6 | Load Time:    0.7 || F1:  83.87 | Prec:  74.29 | Rec:  96.30 || Ex/s:  86.00\n",
      "\n",
      "---------------------\n",
      "\n",
      "===>  TRAIN Epoch 24\n"
     ]
    },
    {
     "name": "stderr",
     "output_type": "stream",
     "text": [
      "0% [██] 100% | ETA: 00:00:00\n",
      "Total time elapsed: 00:00:05\n"
     ]
    },
    {
     "name": "stdout",
     "output_type": "stream",
     "text": [
      "Finished Epoch 24 || Run Time:    4.6 | Load Time:    1.9 || F1: 100.00 | Prec: 100.00 | Rec: 100.00 || Ex/s:  49.80\n",
      "\n",
      "===>  EVAL Epoch 24\n",
      "Finished Epoch 24 || Run Time:    0.6 | Load Time:    0.7 || F1:  83.87 | Prec:  74.29 | Rec:  96.30 || Ex/s:  85.96\n",
      "\n",
      "---------------------\n",
      "\n",
      "===>  TRAIN Epoch 25\n"
     ]
    },
    {
     "name": "stderr",
     "output_type": "stream",
     "text": [
      "0% [██] 100% | ETA: 00:00:00\n",
      "Total time elapsed: 00:00:06\n"
     ]
    },
    {
     "name": "stdout",
     "output_type": "stream",
     "text": [
      "Finished Epoch 25 || Run Time:    4.9 | Load Time:    2.1 || F1: 100.00 | Prec: 100.00 | Rec: 100.00 || Ex/s:  45.95\n",
      "\n",
      "===>  EVAL Epoch 25\n",
      "Finished Epoch 25 || Run Time:    0.6 | Load Time:    0.7 || F1:  83.87 | Prec:  74.29 | Rec:  96.30 || Ex/s:  86.54\n",
      "\n",
      "---------------------\n",
      "\n",
      "Loading best model...\n",
      "Training done.\n"
     ]
    },
    {
     "data": {
      "text/plain": [
       "tensor(85.2459, device='cuda:0')"
      ]
     },
     "execution_count": 12,
     "metadata": {},
     "output_type": "execute_result"
    }
   ],
   "source": [
    "att_model = dm.MatchingModel(attr_summarizer='hybrid')\n",
    "att_model.run_train(train,validation,epochs=25,pos_neg_ratio=5,\n",
    "                    best_save_path='models/itunes_amazon_hybrid_att10.pth')"
   ]
  },
  {
   "cell_type": "code",
   "execution_count": 13,
   "metadata": {
    "ExecuteTime": {
     "end_time": "2020-02-09T14:54:13.396526Z",
     "start_time": "2020-02-09T14:54:11.980086Z"
    }
   },
   "outputs": [
    {
     "name": "stdout",
     "output_type": "stream",
     "text": [
      "===>  EVAL Epoch 8\n",
      "Finished Epoch 8 || Run Time:    0.7 | Load Time:    0.7 || F1:  85.25 | Prec:  76.47 | Rec:  96.30 || Ex/s:  81.09\n",
      "\n"
     ]
    },
    {
     "data": {
      "text/plain": [
       "tensor(85.2459, device='cuda:0')"
      ]
     },
     "execution_count": 13,
     "metadata": {},
     "output_type": "execute_result"
    }
   ],
   "source": [
    "att_model.run_eval(test)"
   ]
  },
  {
   "cell_type": "code",
   "execution_count": 14,
   "metadata": {
    "ExecuteTime": {
     "end_time": "2020-02-09T14:54:30.493503Z",
     "start_time": "2020-02-09T14:54:28.652091Z"
    }
   },
   "outputs": [
    {
     "data": {
      "text/plain": [
       "(0.7836888705235009, 0.016787313181924515)"
      ]
     },
     "execution_count": 14,
     "metadata": {},
     "output_type": "execute_result"
    }
   ],
   "source": [
    "getMeanConfidenceAndVariance(att_model,test_df)"
   ]
  },
  {
   "cell_type": "code",
   "execution_count": 15,
   "metadata": {
    "ExecuteTime": {
     "end_time": "2020-02-09T14:55:25.947493Z",
     "start_time": "2020-02-09T14:54:51.408210Z"
    }
   },
   "outputs": [
    {
     "name": "stderr",
     "output_type": "stream",
     "text": [
      "100%|██████████| 20/20 [00:34<00:00,  1.73s/it]\n"
     ]
    },
    {
     "data": {
      "text/plain": [
       "(0.6170878502848114, 0.4939288327705847, 0.825925925925926)"
      ]
     },
     "execution_count": 15,
     "metadata": {},
     "output_type": "execute_result"
    }
   ],
   "source": [
    "avgf1,avgprecision,avgrecall = getAvgF1PrecisionRecall('datasets/Structured/itunes-amazon/merged_test.csv',\n",
    "                                                       att_model,20,editdist=1)\n",
    "avgf1,avgprecision,avgrecall"
   ]
  },
  {
   "cell_type": "code",
   "execution_count": 16,
   "metadata": {
    "ExecuteTime": {
     "end_time": "2020-02-09T14:56:32.268135Z",
     "start_time": "2020-02-09T14:55:56.558767Z"
    }
   },
   "outputs": [
    {
     "name": "stderr",
     "output_type": "stream",
     "text": [
      "100%|██████████| 20/20 [00:35<00:00,  1.78s/it]\n"
     ]
    },
    {
     "data": {
      "text/plain": [
       "(0.5795080719900618, 0.4545109863934491, 0.8037037037037038)"
      ]
     },
     "execution_count": 16,
     "metadata": {},
     "output_type": "execute_result"
    }
   ],
   "source": [
    "avgf1,avgprecision,avgrecall = getAvgF1PrecisionRecall('datasets/Structured/itunes-amazon/merged_test.csv',\n",
    "                                                       att_model,20,editdist=2)\n",
    "avgf1,avgprecision,avgrecall"
   ]
  },
  {
   "cell_type": "markdown",
   "metadata": {
    "ExecuteTime": {
     "end_time": "2020-02-07T16:36:06.592738Z",
     "start_time": "2020-02-07T16:36:06.576719Z"
    }
   },
   "source": [
    "## Retrain model with 20% perturbed training samples"
   ]
  },
  {
   "cell_type": "code",
   "execution_count": 17,
   "metadata": {
    "ExecuteTime": {
     "end_time": "2020-02-09T14:56:50.761335Z",
     "start_time": "2020-02-09T14:56:50.689408Z"
    }
   },
   "outputs": [],
   "source": [
    "train_df = pd.read_csv(DATASET_DIR+'merged_train.csv')\n",
    "adversarialTrain_20 = getAdversarialTrainingSet(train_df,int(len(train_df)/5),editdist=1)"
   ]
  },
  {
   "cell_type": "code",
   "execution_count": 18,
   "metadata": {
    "ExecuteTime": {
     "end_time": "2020-02-09T14:56:51.833717Z",
     "start_time": "2020-02-09T14:56:51.792458Z"
    }
   },
   "outputs": [],
   "source": [
    "adversarialTrain_20.to_csv(DATASET_DIR+'adversarial_train20.csv',index=False)"
   ]
  },
  {
   "cell_type": "code",
   "execution_count": 19,
   "metadata": {
    "ExecuteTime": {
     "end_time": "2020-02-09T14:56:55.221848Z",
     "start_time": "2020-02-09T14:56:53.080254Z"
    }
   },
   "outputs": [
    {
     "name": "stderr",
     "output_type": "stream",
     "text": [
      "WARNING:deepmatcher.data.dataset:Rebuilding data cache because: ['Data file list has changed.', 'One or more data files have been modified.']\n",
      "\n",
      "Reading and processing data from \"datasets/Structured/itunes-amazon/adversarial_train20.csv\"\n",
      "0% [############################# ] 100% | ETA: 00:00:00\n",
      "Reading and processing data from \"datasets/Structured/itunes-amazon/merged_valid.csv\"\n",
      "0% [############################# ] 100% | ETA: 00:00:00\n",
      "Reading and processing data from \"datasets/Structured/itunes-amazon/merged_test.csv\"\n",
      "0% [############################# ] 100% | ETA: 00:00:00\n",
      "Building vocabulary\n",
      "0% [#] 100% | ETA: 00:00:00\n",
      "Total time elapsed: 00:00:00\n",
      "\n",
      "Computing principal components\n",
      "0% [#] 100% | ETA: 00:00:00\n",
      "Total time elapsed: 00:00:00\n"
     ]
    }
   ],
   "source": [
    "train,validation,test = dm.data.process('datasets/Structured/itunes-amazon/',train='adversarial_train20.csv',\n",
    "                                       validation='merged_valid.csv',test='merged_test.csv',\n",
    "                                       left_prefix='ltable_',right_prefix='rtable_',cache='editdist.pth')"
   ]
  },
  {
   "cell_type": "code",
   "execution_count": 20,
   "metadata": {
    "ExecuteTime": {
     "end_time": "2020-02-09T15:00:31.721923Z",
     "start_time": "2020-02-09T14:57:05.075283Z"
    }
   },
   "outputs": [
    {
     "name": "stdout",
     "output_type": "stream",
     "text": [
      "* Number of trainable parameters: 17757810\n",
      "===>  TRAIN Epoch 1\n"
     ]
    },
    {
     "name": "stderr",
     "output_type": "stream",
     "text": [
      "/home/nvidia/anaconda3/envs/torchenv/lib/python3.6/site-packages/torch/nn/functional.py:1932: UserWarning: reduction: 'mean' divides the total loss by both the batch size and the support size.'batchmean' divides only by the batch size, and aligns with the KL div math definition.'mean' will be changed to behave the same as 'batchmean' in the next major release.\n",
      "  warnings.warn(\"reduction: 'mean' divides the total loss by both the batch size and the support size.\"\n",
      "0% [██] 100% | ETA: 00:00:00\n",
      "Total time elapsed: 00:00:05\n"
     ]
    },
    {
     "name": "stdout",
     "output_type": "stream",
     "text": [
      "Finished Epoch 1 || Run Time:    4.7 | Load Time:    2.1 || F1:  39.20 | Prec:  24.38 | Rec: 100.00 || Ex/s:  47.06\n",
      "\n",
      "===>  EVAL Epoch 1\n",
      "Finished Epoch 1 || Run Time:    0.6 | Load Time:    0.7 || F1:  49.52 | Prec:  33.33 | Rec:  96.30 || Ex/s:  82.09\n",
      "\n",
      "* Best F1: tensor(49.5238, device='cuda:0')\n",
      "Saving best model...\n",
      "Done.\n",
      "---------------------\n",
      "\n",
      "===>  TRAIN Epoch 2\n"
     ]
    },
    {
     "name": "stderr",
     "output_type": "stream",
     "text": [
      "0% [██] 100% | ETA: 00:00:00\n",
      "Total time elapsed: 00:00:05\n"
     ]
    },
    {
     "name": "stdout",
     "output_type": "stream",
     "text": [
      "Finished Epoch 2 || Run Time:    4.6 | Load Time:    2.0 || F1:  50.17 | Prec:  33.94 | Rec:  96.15 || Ex/s:  48.66\n",
      "\n",
      "===>  EVAL Epoch 2\n",
      "Finished Epoch 2 || Run Time:    0.6 | Load Time:    0.6 || F1:  55.56 | Prec:  44.44 | Rec:  74.07 || Ex/s:  90.92\n",
      "\n",
      "* Best F1: tensor(55.5556, device='cuda:0')\n",
      "Saving best model...\n",
      "Done.\n",
      "---------------------\n",
      "\n",
      "===>  TRAIN Epoch 3\n"
     ]
    },
    {
     "name": "stderr",
     "output_type": "stream",
     "text": [
      "0% [██] 100% | ETA: 00:00:00\n",
      "Total time elapsed: 00:00:05\n"
     ]
    },
    {
     "name": "stdout",
     "output_type": "stream",
     "text": [
      "Finished Epoch 3 || Run Time:    4.5 | Load Time:    1.9 || F1:  62.16 | Prec:  47.92 | Rec:  88.46 || Ex/s:  49.80\n",
      "\n",
      "===>  EVAL Epoch 3\n",
      "Finished Epoch 3 || Run Time:    0.6 | Load Time:    0.6 || F1:  59.70 | Prec:  50.00 | Rec:  74.07 || Ex/s:  92.08\n",
      "\n",
      "* Best F1: tensor(59.7015, device='cuda:0')\n",
      "Saving best model...\n",
      "Done.\n",
      "---------------------\n",
      "\n",
      "===>  TRAIN Epoch 4\n"
     ]
    },
    {
     "name": "stderr",
     "output_type": "stream",
     "text": [
      "0% [██] 100% | ETA: 00:00:00\n",
      "Total time elapsed: 00:00:06\n"
     ]
    },
    {
     "name": "stdout",
     "output_type": "stream",
     "text": [
      "Finished Epoch 4 || Run Time:    5.0 | Load Time:    2.2 || F1:  70.59 | Prec:  57.14 | Rec:  92.31 || Ex/s:  44.36\n",
      "\n",
      "===>  EVAL Epoch 4\n",
      "Finished Epoch 4 || Run Time:    0.6 | Load Time:    0.7 || F1:  61.54 | Prec:  52.63 | Rec:  74.07 || Ex/s:  84.55\n",
      "\n",
      "* Best F1: tensor(61.5385, device='cuda:0')\n",
      "Saving best model...\n",
      "Done.\n",
      "---------------------\n",
      "\n",
      "===>  TRAIN Epoch 5\n"
     ]
    },
    {
     "name": "stderr",
     "output_type": "stream",
     "text": [
      "0% [██] 100% | ETA: 00:00:00\n",
      "Total time elapsed: 00:00:05\n"
     ]
    },
    {
     "name": "stdout",
     "output_type": "stream",
     "text": [
      "Finished Epoch 5 || Run Time:    4.7 | Load Time:    2.0 || F1:  73.00 | Prec:  59.84 | Rec:  93.59 || Ex/s:  48.31\n",
      "\n",
      "===>  EVAL Epoch 5\n",
      "Finished Epoch 5 || Run Time:    0.6 | Load Time:    0.7 || F1:  66.67 | Prec:  60.61 | Rec:  74.07 || Ex/s:  85.20\n",
      "\n",
      "* Best F1: tensor(66.6667, device='cuda:0')\n",
      "Saving best model...\n",
      "Done.\n",
      "---------------------\n",
      "\n",
      "===>  TRAIN Epoch 6\n"
     ]
    },
    {
     "name": "stderr",
     "output_type": "stream",
     "text": [
      "0% [██] 100% | ETA: 00:00:00\n",
      "Total time elapsed: 00:00:06\n"
     ]
    },
    {
     "name": "stdout",
     "output_type": "stream",
     "text": [
      "Finished Epoch 6 || Run Time:    4.9 | Load Time:    2.2 || F1:  75.26 | Prec:  62.93 | Rec:  93.59 || Ex/s:  44.95\n",
      "\n",
      "===>  EVAL Epoch 6\n",
      "Finished Epoch 6 || Run Time:    0.7 | Load Time:    0.7 || F1:  72.41 | Prec:  67.74 | Rec:  77.78 || Ex/s:  81.44\n",
      "\n",
      "* Best F1: tensor(72.4138, device='cuda:0')\n",
      "Saving best model...\n",
      "Done.\n",
      "---------------------\n",
      "\n",
      "===>  TRAIN Epoch 7\n"
     ]
    },
    {
     "name": "stderr",
     "output_type": "stream",
     "text": [
      "0% [██] 100% | ETA: 00:00:00\n",
      "Total time elapsed: 00:00:05\n"
     ]
    },
    {
     "name": "stdout",
     "output_type": "stream",
     "text": [
      "Finished Epoch 7 || Run Time:    4.6 | Load Time:    2.0 || F1:  81.72 | Prec:  70.37 | Rec:  97.44 || Ex/s:  48.69\n",
      "\n",
      "===>  EVAL Epoch 7\n",
      "Finished Epoch 7 || Run Time:    0.6 | Load Time:    0.7 || F1:  76.36 | Prec:  75.00 | Rec:  77.78 || Ex/s:  84.80\n",
      "\n",
      "* Best F1: tensor(76.3636, device='cuda:0')\n",
      "Saving best model...\n",
      "Done.\n",
      "---------------------\n",
      "\n",
      "===>  TRAIN Epoch 8\n"
     ]
    },
    {
     "name": "stderr",
     "output_type": "stream",
     "text": [
      "0% [██] 100% | ETA: 00:00:00\n",
      "Total time elapsed: 00:00:06\n"
     ]
    },
    {
     "name": "stdout",
     "output_type": "stream",
     "text": [
      "Finished Epoch 8 || Run Time:    4.7 | Load Time:    2.2 || F1:  88.51 | Prec:  80.21 | Rec:  98.72 || Ex/s:  46.44\n",
      "\n",
      "===>  EVAL Epoch 8\n",
      "Finished Epoch 8 || Run Time:    0.6 | Load Time:    0.6 || F1:  80.70 | Prec:  76.67 | Rec:  85.19 || Ex/s:  94.01\n",
      "\n",
      "* Best F1: tensor(80.7018, device='cuda:0')\n",
      "Saving best model...\n",
      "Done.\n",
      "---------------------\n",
      "\n",
      "===>  TRAIN Epoch 9\n"
     ]
    },
    {
     "name": "stderr",
     "output_type": "stream",
     "text": [
      "0% [██] 100% | ETA: 00:00:00\n",
      "Total time elapsed: 00:00:05\n"
     ]
    },
    {
     "name": "stdout",
     "output_type": "stream",
     "text": [
      "Finished Epoch 9 || Run Time:    4.4 | Load Time:    1.9 || F1:  94.55 | Prec:  89.66 | Rec: 100.00 || Ex/s:  50.78\n",
      "\n",
      "===>  EVAL Epoch 9\n",
      "Finished Epoch 9 || Run Time:    0.6 | Load Time:    0.6 || F1:  82.14 | Prec:  79.31 | Rec:  85.19 || Ex/s:  92.71\n",
      "\n",
      "* Best F1: tensor(82.1429, device='cuda:0')\n",
      "Saving best model...\n",
      "Done.\n",
      "---------------------\n",
      "\n",
      "===>  TRAIN Epoch 10\n"
     ]
    },
    {
     "name": "stderr",
     "output_type": "stream",
     "text": [
      "0% [██] 100% | ETA: 00:00:00\n",
      "Total time elapsed: 00:00:05\n"
     ]
    },
    {
     "name": "stdout",
     "output_type": "stream",
     "text": [
      "Finished Epoch 10 || Run Time:    4.4 | Load Time:    1.9 || F1:  96.30 | Prec:  92.86 | Rec: 100.00 || Ex/s:  50.46\n",
      "\n",
      "===>  EVAL Epoch 10\n",
      "Finished Epoch 10 || Run Time:    0.6 | Load Time:    0.6 || F1:  83.64 | Prec:  82.14 | Rec:  85.19 || Ex/s:  94.93\n",
      "\n",
      "* Best F1: tensor(83.6364, device='cuda:0')\n",
      "Saving best model...\n",
      "Done.\n",
      "---------------------\n",
      "\n",
      "===>  TRAIN Epoch 11\n"
     ]
    },
    {
     "name": "stderr",
     "output_type": "stream",
     "text": [
      "0% [██] 100% | ETA: 00:00:00\n",
      "Total time elapsed: 00:00:05\n"
     ]
    },
    {
     "name": "stdout",
     "output_type": "stream",
     "text": [
      "Finished Epoch 11 || Run Time:    4.5 | Load Time:    1.9 || F1:  98.11 | Prec:  96.30 | Rec: 100.00 || Ex/s:  50.30\n",
      "\n",
      "===>  EVAL Epoch 11\n",
      "Finished Epoch 11 || Run Time:    0.6 | Load Time:    0.6 || F1:  83.64 | Prec:  82.14 | Rec:  85.19 || Ex/s:  91.34\n",
      "\n",
      "---------------------\n",
      "\n",
      "===>  TRAIN Epoch 12\n"
     ]
    },
    {
     "name": "stderr",
     "output_type": "stream",
     "text": [
      "0% [██] 100% | ETA: 00:00:00\n",
      "Total time elapsed: 00:00:05\n"
     ]
    },
    {
     "name": "stdout",
     "output_type": "stream",
     "text": [
      "Finished Epoch 12 || Run Time:    4.5 | Load Time:    2.0 || F1:  97.50 | Prec:  95.12 | Rec: 100.00 || Ex/s:  49.36\n",
      "\n",
      "===>  EVAL Epoch 12\n",
      "Finished Epoch 12 || Run Time:    0.6 | Load Time:    0.7 || F1:  83.64 | Prec:  82.14 | Rec:  85.19 || Ex/s:  85.46\n",
      "\n",
      "---------------------\n",
      "\n",
      "===>  TRAIN Epoch 13\n"
     ]
    },
    {
     "name": "stderr",
     "output_type": "stream",
     "text": [
      "0% [██] 100% | ETA: 00:00:00\n",
      "Total time elapsed: 00:00:05\n"
     ]
    },
    {
     "name": "stdout",
     "output_type": "stream",
     "text": [
      "Finished Epoch 13 || Run Time:    4.5 | Load Time:    1.9 || F1:  98.11 | Prec:  96.30 | Rec: 100.00 || Ex/s:  50.27\n",
      "\n",
      "===>  EVAL Epoch 13\n",
      "Finished Epoch 13 || Run Time:    0.6 | Load Time:    0.6 || F1:  85.19 | Prec:  85.19 | Rec:  85.19 || Ex/s:  91.94\n",
      "\n",
      "* Best F1: tensor(85.1852, device='cuda:0')\n",
      "Saving best model...\n",
      "Done.\n",
      "---------------------\n",
      "\n",
      "===>  TRAIN Epoch 14\n"
     ]
    },
    {
     "name": "stderr",
     "output_type": "stream",
     "text": [
      "0% [██] 100% | ETA: 00:00:00\n",
      "Total time elapsed: 00:00:05\n"
     ]
    },
    {
     "name": "stdout",
     "output_type": "stream",
     "text": [
      "Finished Epoch 14 || Run Time:    4.4 | Load Time:    1.9 || F1:  98.73 | Prec:  97.50 | Rec: 100.00 || Ex/s:  50.61\n",
      "\n",
      "===>  EVAL Epoch 14\n",
      "Finished Epoch 14 || Run Time:    0.6 | Load Time:    0.6 || F1:  85.19 | Prec:  85.19 | Rec:  85.19 || Ex/s:  92.29\n",
      "\n",
      "---------------------\n",
      "\n",
      "===>  TRAIN Epoch 15\n"
     ]
    },
    {
     "name": "stderr",
     "output_type": "stream",
     "text": [
      "0% [██] 100% | ETA: 00:00:00\n",
      "Total time elapsed: 00:00:05\n"
     ]
    },
    {
     "name": "stdout",
     "output_type": "stream",
     "text": [
      "Finished Epoch 15 || Run Time:    4.6 | Load Time:    1.9 || F1:  99.36 | Prec:  98.73 | Rec: 100.00 || Ex/s:  49.07\n",
      "\n",
      "===>  EVAL Epoch 15\n",
      "Finished Epoch 15 || Run Time:    0.6 | Load Time:    0.7 || F1:  85.19 | Prec:  85.19 | Rec:  85.19 || Ex/s:  85.39\n",
      "\n",
      "---------------------\n",
      "\n",
      "===>  TRAIN Epoch 16\n"
     ]
    },
    {
     "name": "stderr",
     "output_type": "stream",
     "text": [
      "0% [██] 100% | ETA: 00:00:00\n",
      "Total time elapsed: 00:00:05\n"
     ]
    },
    {
     "name": "stdout",
     "output_type": "stream",
     "text": [
      "Finished Epoch 16 || Run Time:    4.5 | Load Time:    1.9 || F1:  99.36 | Prec:  98.73 | Rec: 100.00 || Ex/s:  49.85\n",
      "\n",
      "===>  EVAL Epoch 16\n",
      "Finished Epoch 16 || Run Time:    0.6 | Load Time:    0.6 || F1:  85.19 | Prec:  85.19 | Rec:  85.19 || Ex/s:  90.39\n",
      "\n",
      "---------------------\n",
      "\n",
      "===>  TRAIN Epoch 17\n"
     ]
    },
    {
     "name": "stderr",
     "output_type": "stream",
     "text": [
      "0% [██] 100% | ETA: 00:00:00\n",
      "Total time elapsed: 00:00:05\n"
     ]
    },
    {
     "name": "stdout",
     "output_type": "stream",
     "text": [
      "Finished Epoch 17 || Run Time:    4.7 | Load Time:    2.0 || F1:  99.36 | Prec:  98.73 | Rec: 100.00 || Ex/s:  48.25\n",
      "\n",
      "===>  EVAL Epoch 17\n",
      "Finished Epoch 17 || Run Time:    0.6 | Load Time:    0.7 || F1:  85.19 | Prec:  85.19 | Rec:  85.19 || Ex/s:  84.58\n",
      "\n",
      "---------------------\n",
      "\n",
      "===>  TRAIN Epoch 18\n"
     ]
    },
    {
     "name": "stderr",
     "output_type": "stream",
     "text": [
      "0% [██] 100% | ETA: 00:00:00\n",
      "Total time elapsed: 00:00:06\n"
     ]
    },
    {
     "name": "stdout",
     "output_type": "stream",
     "text": [
      "Finished Epoch 18 || Run Time:    4.9 | Load Time:    2.1 || F1:  99.36 | Prec:  98.73 | Rec: 100.00 || Ex/s:  45.93\n",
      "\n",
      "===>  EVAL Epoch 18\n",
      "Finished Epoch 18 || Run Time:    0.6 | Load Time:    0.7 || F1:  85.19 | Prec:  85.19 | Rec:  85.19 || Ex/s:  82.82\n",
      "\n",
      "---------------------\n",
      "\n",
      "===>  TRAIN Epoch 19\n"
     ]
    },
    {
     "name": "stderr",
     "output_type": "stream",
     "text": [
      "0% [██] 100% | ETA: 00:00:00\n",
      "Total time elapsed: 00:00:05\n"
     ]
    },
    {
     "name": "stdout",
     "output_type": "stream",
     "text": [
      "Finished Epoch 19 || Run Time:    4.6 | Load Time:    2.0 || F1:  99.36 | Prec:  98.73 | Rec: 100.00 || Ex/s:  48.71\n",
      "\n",
      "===>  EVAL Epoch 19\n",
      "Finished Epoch 19 || Run Time:    0.6 | Load Time:    0.6 || F1:  85.19 | Prec:  85.19 | Rec:  85.19 || Ex/s:  87.91\n",
      "\n",
      "---------------------\n",
      "\n",
      "===>  TRAIN Epoch 20\n"
     ]
    },
    {
     "name": "stderr",
     "output_type": "stream",
     "text": [
      "0% [██] 100% | ETA: 00:00:00\n",
      "Total time elapsed: 00:00:05\n"
     ]
    },
    {
     "name": "stdout",
     "output_type": "stream",
     "text": [
      "Finished Epoch 20 || Run Time:    4.7 | Load Time:    2.0 || F1:  99.36 | Prec:  98.73 | Rec: 100.00 || Ex/s:  47.68\n",
      "\n",
      "===>  EVAL Epoch 20\n",
      "Finished Epoch 20 || Run Time:    0.6 | Load Time:    0.7 || F1:  85.19 | Prec:  85.19 | Rec:  85.19 || Ex/s:  83.28\n",
      "\n",
      "---------------------\n",
      "\n",
      "===>  TRAIN Epoch 21\n"
     ]
    },
    {
     "name": "stderr",
     "output_type": "stream",
     "text": [
      "0% [██] 100% | ETA: 00:00:00\n",
      "Total time elapsed: 00:00:05\n"
     ]
    },
    {
     "name": "stdout",
     "output_type": "stream",
     "text": [
      "Finished Epoch 21 || Run Time:    4.7 | Load Time:    2.0 || F1:  99.36 | Prec:  98.73 | Rec: 100.00 || Ex/s:  48.09\n",
      "\n",
      "===>  EVAL Epoch 21\n",
      "Finished Epoch 21 || Run Time:    0.6 | Load Time:    0.6 || F1:  85.19 | Prec:  85.19 | Rec:  85.19 || Ex/s:  89.69\n",
      "\n",
      "---------------------\n",
      "\n",
      "===>  TRAIN Epoch 22\n"
     ]
    },
    {
     "name": "stderr",
     "output_type": "stream",
     "text": [
      "0% [██] 100% | ETA: 00:00:00\n",
      "Total time elapsed: 00:00:05\n"
     ]
    },
    {
     "name": "stdout",
     "output_type": "stream",
     "text": [
      "Finished Epoch 22 || Run Time:    4.7 | Load Time:    2.0 || F1:  99.36 | Prec:  98.73 | Rec: 100.00 || Ex/s:  48.03\n",
      "\n",
      "===>  EVAL Epoch 22\n",
      "Finished Epoch 22 || Run Time:    0.7 | Load Time:    0.7 || F1:  85.19 | Prec:  85.19 | Rec:  85.19 || Ex/s:  82.27\n",
      "\n",
      "---------------------\n",
      "\n",
      "===>  TRAIN Epoch 23\n"
     ]
    },
    {
     "name": "stderr",
     "output_type": "stream",
     "text": [
      "0% [██] 100% | ETA: 00:00:00\n",
      "Total time elapsed: 00:00:05\n"
     ]
    },
    {
     "name": "stdout",
     "output_type": "stream",
     "text": [
      "Finished Epoch 23 || Run Time:    4.7 | Load Time:    2.0 || F1:  99.36 | Prec:  98.73 | Rec: 100.00 || Ex/s:  47.41\n",
      "\n",
      "===>  EVAL Epoch 23\n",
      "Finished Epoch 23 || Run Time:    0.6 | Load Time:    0.7 || F1:  85.19 | Prec:  85.19 | Rec:  85.19 || Ex/s:  83.07\n",
      "\n",
      "---------------------\n",
      "\n",
      "===>  TRAIN Epoch 24\n"
     ]
    },
    {
     "name": "stderr",
     "output_type": "stream",
     "text": [
      "0% [██] 100% | ETA: 00:00:00\n",
      "Total time elapsed: 00:00:05\n"
     ]
    },
    {
     "name": "stdout",
     "output_type": "stream",
     "text": [
      "Finished Epoch 24 || Run Time:    4.7 | Load Time:    2.0 || F1:  99.36 | Prec:  98.73 | Rec: 100.00 || Ex/s:  47.70\n",
      "\n",
      "===>  EVAL Epoch 24\n",
      "Finished Epoch 24 || Run Time:    0.6 | Load Time:    0.7 || F1:  85.19 | Prec:  85.19 | Rec:  85.19 || Ex/s:  82.40\n",
      "\n",
      "---------------------\n",
      "\n",
      "===>  TRAIN Epoch 25\n"
     ]
    },
    {
     "name": "stderr",
     "output_type": "stream",
     "text": [
      "0% [██] 100% | ETA: 00:00:00\n",
      "Total time elapsed: 00:00:05\n"
     ]
    },
    {
     "name": "stdout",
     "output_type": "stream",
     "text": [
      "Finished Epoch 25 || Run Time:    4.7 | Load Time:    2.0 || F1:  99.36 | Prec:  98.73 | Rec: 100.00 || Ex/s:  47.95\n",
      "\n",
      "===>  EVAL Epoch 25\n",
      "Finished Epoch 25 || Run Time:    0.6 | Load Time:    0.7 || F1:  85.19 | Prec:  85.19 | Rec:  85.19 || Ex/s:  82.66\n",
      "\n",
      "---------------------\n",
      "\n",
      "Loading best model...\n",
      "Training done.\n"
     ]
    },
    {
     "data": {
      "text/plain": [
       "tensor(85.1852, device='cuda:0')"
      ]
     },
     "execution_count": 20,
     "metadata": {},
     "output_type": "execute_result"
    }
   ],
   "source": [
    "att_model2 = dm.MatchingModel(attr_summarizer='hybrid')\n",
    "att_model2.run_train(train,validation,epochs=25,pos_neg_ratio=5,\n",
    "                    best_save_path='models/itunes_amazon_hybrid_adversarial20.pth')"
   ]
  },
  {
   "cell_type": "code",
   "execution_count": 21,
   "metadata": {
    "ExecuteTime": {
     "end_time": "2020-02-09T15:00:52.243085Z",
     "start_time": "2020-02-09T15:00:50.813147Z"
    }
   },
   "outputs": [
    {
     "name": "stdout",
     "output_type": "stream",
     "text": [
      "===>  EVAL Epoch 13\n",
      "Finished Epoch 13 || Run Time:    0.7 | Load Time:    0.7 || F1:  84.00 | Prec:  91.30 | Rec:  77.78 || Ex/s:  80.33\n",
      "\n"
     ]
    },
    {
     "data": {
      "text/plain": [
       "tensor(84., device='cuda:0')"
      ]
     },
     "execution_count": 21,
     "metadata": {},
     "output_type": "execute_result"
    }
   ],
   "source": [
    "att_model2.run_eval(test)"
   ]
  },
  {
   "cell_type": "code",
   "execution_count": 22,
   "metadata": {
    "ExecuteTime": {
     "end_time": "2020-02-09T15:01:04.963263Z",
     "start_time": "2020-02-09T15:01:03.129732Z"
    }
   },
   "outputs": [
    {
     "data": {
      "text/plain": [
       "(0.7836888705235009, 0.016787313181924515)"
      ]
     },
     "execution_count": 22,
     "metadata": {},
     "output_type": "execute_result"
    }
   ],
   "source": [
    "getMeanConfidenceAndVariance(att_model,test_df)"
   ]
  },
  {
   "cell_type": "code",
   "execution_count": 24,
   "metadata": {
    "ExecuteTime": {
     "end_time": "2020-02-09T15:02:10.123073Z",
     "start_time": "2020-02-09T15:01:34.199975Z"
    }
   },
   "outputs": [
    {
     "name": "stderr",
     "output_type": "stream",
     "text": [
      "100%|██████████| 20/20 [00:35<00:00,  1.79s/it]\n"
     ]
    },
    {
     "data": {
      "text/plain": [
       "(0.6372940167985787, 0.5283647337019737, 0.8074074074074075)"
      ]
     },
     "execution_count": 24,
     "metadata": {},
     "output_type": "execute_result"
    }
   ],
   "source": [
    "avgf1,avgprecision,avgrecall = getAvgF1PrecisionRecall('datasets/Structured/itunes-amazon/merged_test.csv',\n",
    "                                                       att_model2,20,editdist=1)\n",
    "avgf1,avgprecision,avgrecall"
   ]
  },
  {
   "cell_type": "code",
   "execution_count": 36,
   "metadata": {
    "ExecuteTime": {
     "end_time": "2020-02-07T16:48:43.513088Z",
     "start_time": "2020-02-07T16:48:12.457438Z"
    }
   },
   "outputs": [
    {
     "name": "stderr",
     "output_type": "stream",
     "text": [
      "100%|██████████| 20/20 [00:31<00:00,  1.55s/it]\n"
     ]
    },
    {
     "data": {
      "text/plain": [
       "(0.5977356035542621, 0.4743214801476393, 0.8111111111111112)"
      ]
     },
     "execution_count": 36,
     "metadata": {},
     "output_type": "execute_result"
    }
   ],
   "source": [
    "avgf1,avgprecision,avgrecall = getAvgF1PrecisionRecall('datasets/Structured/itunes-amazon/merged_test.csv',\n",
    "                                                       att_model,20,editdist=2)\n",
    "avgf1,avgprecision,avgrecall"
   ]
  },
  {
   "cell_type": "markdown",
   "metadata": {},
   "source": [
    "## Retrain with 33% perturbed tra"
   ]
  },
  {
   "cell_type": "code",
   "execution_count": 26,
   "metadata": {
    "ExecuteTime": {
     "end_time": "2020-02-09T15:07:13.659162Z",
     "start_time": "2020-02-09T15:07:13.582754Z"
    }
   },
   "outputs": [],
   "source": [
    "train_df = pd.read_csv(DATASET_DIR+'merged_train.csv')\n",
    "adversarialTrain_30 = getAdversarialTrainingSet(train_df,int(len(train_df)/3),editdist=1)"
   ]
  },
  {
   "cell_type": "code",
   "execution_count": 28,
   "metadata": {
    "ExecuteTime": {
     "end_time": "2020-02-09T15:08:00.187643Z",
     "start_time": "2020-02-09T15:08:00.143363Z"
    }
   },
   "outputs": [],
   "source": [
    "adversarialTrain_30.to_csv(DATASET_DIR+'adversarial_train30.csv',index=False)"
   ]
  },
  {
   "cell_type": "code",
   "execution_count": 29,
   "metadata": {
    "ExecuteTime": {
     "end_time": "2020-02-09T15:08:13.675522Z",
     "start_time": "2020-02-09T15:08:11.399455Z"
    }
   },
   "outputs": [
    {
     "name": "stderr",
     "output_type": "stream",
     "text": [
      "WARNING:deepmatcher.data.dataset:Rebuilding data cache because: ['Data file list has changed.', 'One or more data files have been modified.']\n",
      "\n",
      "Reading and processing data from \"datasets/Structured/itunes-amazon/adversarial_train30.csv\"\n",
      "0% [############################# ] 100% | ETA: 00:00:00\n",
      "Reading and processing data from \"datasets/Structured/itunes-amazon/merged_valid.csv\"\n",
      "0% [############################# ] 100% | ETA: 00:00:00\n",
      "Reading and processing data from \"datasets/Structured/itunes-amazon/merged_test.csv\"\n",
      "0% [############################# ] 100% | ETA: 00:00:00\n",
      "Building vocabulary\n",
      "0% [#] 100% | ETA: 00:00:00\n",
      "Total time elapsed: 00:00:00\n",
      "\n",
      "Computing principal components\n",
      "0% [#] 100% | ETA: 00:00:00\n",
      "Total time elapsed: 00:00:00\n"
     ]
    }
   ],
   "source": [
    "train,validation,test = dm.data.process('datasets/Structured/itunes-amazon/',train='adversarial_train30.csv',\n",
    "                                       validation='merged_valid.csv',test='merged_test.csv',\n",
    "                                       left_prefix='ltable_',right_prefix='rtable_',cache='editdist.pth')"
   ]
  },
  {
   "cell_type": "code",
   "execution_count": 31,
   "metadata": {
    "ExecuteTime": {
     "end_time": "2020-02-09T15:15:28.789991Z",
     "start_time": "2020-02-09T15:08:51.216167Z"
    }
   },
   "outputs": [
    {
     "name": "stdout",
     "output_type": "stream",
     "text": [
      "* Number of trainable parameters: 17757810\n",
      "===>  TRAIN Epoch 1\n"
     ]
    },
    {
     "name": "stderr",
     "output_type": "stream",
     "text": [
      "/home/nvidia/anaconda3/envs/torchenv/lib/python3.6/site-packages/torch/nn/functional.py:1932: UserWarning: reduction: 'mean' divides the total loss by both the batch size and the support size.'batchmean' divides only by the batch size, and aligns with the KL div math definition.'mean' will be changed to behave the same as 'batchmean' in the next major release.\n",
      "  warnings.warn(\"reduction: 'mean' divides the total loss by both the batch size and the support size.\"\n",
      "0% [████] 100% | ETA: 00:00:00\n",
      "Total time elapsed: 00:00:10\n"
     ]
    },
    {
     "name": "stdout",
     "output_type": "stream",
     "text": [
      "Finished Epoch 1 || Run Time:    9.1 | Load Time:    2.1 || F1:  39.39 | Prec:  24.53 | Rec: 100.00 || Ex/s:  28.64\n",
      "\n",
      "===>  EVAL Epoch 1\n"
     ]
    },
    {
     "name": "stderr",
     "output_type": "stream",
     "text": [
      "0% [█] 100% | ETA: 00:00:00\n",
      "Total time elapsed: 00:00:01\n"
     ]
    },
    {
     "name": "stdout",
     "output_type": "stream",
     "text": [
      "Finished Epoch 1 || Run Time:    1.1 | Load Time:    0.6 || F1:  49.06 | Prec:  32.91 | Rec:  96.30 || Ex/s:  64.06\n",
      "\n",
      "* Best F1: tensor(49.0566, device='cuda:0')\n",
      "Saving best model...\n",
      "Done.\n",
      "---------------------\n",
      "\n",
      "===>  TRAIN Epoch 2\n"
     ]
    },
    {
     "name": "stderr",
     "output_type": "stream",
     "text": [
      "0% [████] 100% | ETA: 00:00:00\n",
      "Total time elapsed: 00:00:10\n"
     ]
    },
    {
     "name": "stdout",
     "output_type": "stream",
     "text": [
      "Finished Epoch 2 || Run Time:    9.1 | Load Time:    2.0 || F1:  57.83 | Prec:  42.11 | Rec:  92.31 || Ex/s:  28.78\n",
      "\n",
      "===>  EVAL Epoch 2\n"
     ]
    },
    {
     "name": "stderr",
     "output_type": "stream",
     "text": [
      "0% [█] 100% | ETA: 00:00:00\n",
      "Total time elapsed: 00:00:01\n"
     ]
    },
    {
     "name": "stdout",
     "output_type": "stream",
     "text": [
      "Finished Epoch 2 || Run Time:    1.1 | Load Time:    0.6 || F1:  55.42 | Prec:  41.07 | Rec:  85.19 || Ex/s:  63.25\n",
      "\n",
      "* Best F1: tensor(55.4217, device='cuda:0')\n",
      "Saving best model...\n",
      "Done.\n",
      "---------------------\n",
      "\n",
      "===>  TRAIN Epoch 3\n"
     ]
    },
    {
     "name": "stderr",
     "output_type": "stream",
     "text": [
      "0% [████] 100% | ETA: 00:00:00\n",
      "Total time elapsed: 00:00:10\n"
     ]
    },
    {
     "name": "stdout",
     "output_type": "stream",
     "text": [
      "Finished Epoch 3 || Run Time:    9.4 | Load Time:    2.2 || F1:  68.60 | Prec:  55.04 | Rec:  91.03 || Ex/s:  27.70\n",
      "\n",
      "===>  EVAL Epoch 3\n"
     ]
    },
    {
     "name": "stderr",
     "output_type": "stream",
     "text": [
      "0% [█] 100% | ETA: 00:00:00\n",
      "Total time elapsed: 00:00:01\n"
     ]
    },
    {
     "name": "stdout",
     "output_type": "stream",
     "text": [
      "Finished Epoch 3 || Run Time:    1.1 | Load Time:    0.6 || F1:  62.69 | Prec:  52.50 | Rec:  77.78 || Ex/s:  62.67\n",
      "\n",
      "* Best F1: tensor(62.6866, device='cuda:0')\n",
      "Saving best model...\n",
      "Done.\n",
      "---------------------\n",
      "\n",
      "===>  TRAIN Epoch 4\n"
     ]
    },
    {
     "name": "stderr",
     "output_type": "stream",
     "text": [
      "0% [████] 100% | ETA: 00:00:00\n",
      "Total time elapsed: 00:00:10\n"
     ]
    },
    {
     "name": "stdout",
     "output_type": "stream",
     "text": [
      "Finished Epoch 4 || Run Time:    9.6 | Load Time:    2.2 || F1:  75.90 | Prec:  63.25 | Rec:  94.87 || Ex/s:  27.26\n",
      "\n",
      "===>  EVAL Epoch 4\n"
     ]
    },
    {
     "name": "stderr",
     "output_type": "stream",
     "text": [
      "0% [█] 100% | ETA: 00:00:00\n",
      "Total time elapsed: 00:00:01\n"
     ]
    },
    {
     "name": "stdout",
     "output_type": "stream",
     "text": [
      "Finished Epoch 4 || Run Time:    1.1 | Load Time:    0.6 || F1:  64.86 | Prec:  51.06 | Rec:  88.89 || Ex/s:  63.36\n",
      "\n",
      "* Best F1: tensor(64.8649, device='cuda:0')\n",
      "Saving best model...\n",
      "Done.\n",
      "---------------------\n",
      "\n",
      "===>  TRAIN Epoch 5\n"
     ]
    },
    {
     "name": "stderr",
     "output_type": "stream",
     "text": [
      "0% [████] 100% | ETA: 00:00:00\n",
      "Total time elapsed: 00:00:10\n"
     ]
    },
    {
     "name": "stdout",
     "output_type": "stream",
     "text": [
      "Finished Epoch 5 || Run Time:    9.6 | Load Time:    2.2 || F1:  79.17 | Prec:  66.67 | Rec:  97.44 || Ex/s:  27.21\n",
      "\n",
      "===>  EVAL Epoch 5\n"
     ]
    },
    {
     "name": "stderr",
     "output_type": "stream",
     "text": [
      "0% [█] 100% | ETA: 00:00:00\n",
      "Total time elapsed: 00:00:01\n"
     ]
    },
    {
     "name": "stdout",
     "output_type": "stream",
     "text": [
      "Finished Epoch 5 || Run Time:    1.1 | Load Time:    0.6 || F1:  69.44 | Prec:  55.56 | Rec:  92.59 || Ex/s:  64.20\n",
      "\n",
      "* Best F1: tensor(69.4444, device='cuda:0')\n",
      "Saving best model...\n",
      "Done.\n",
      "---------------------\n",
      "\n",
      "===>  TRAIN Epoch 6\n"
     ]
    },
    {
     "name": "stderr",
     "output_type": "stream",
     "text": [
      "0% [████] 100% | ETA: 00:00:00\n",
      "Total time elapsed: 00:00:10\n"
     ]
    },
    {
     "name": "stdout",
     "output_type": "stream",
     "text": [
      "Finished Epoch 6 || Run Time:    9.6 | Load Time:    2.2 || F1:  86.19 | Prec:  75.73 | Rec: 100.00 || Ex/s:  27.27\n",
      "\n",
      "===>  EVAL Epoch 6\n"
     ]
    },
    {
     "name": "stderr",
     "output_type": "stream",
     "text": [
      "0% [█] 100% | ETA: 00:00:00\n",
      "Total time elapsed: 00:00:01\n"
     ]
    },
    {
     "name": "stdout",
     "output_type": "stream",
     "text": [
      "Finished Epoch 6 || Run Time:    1.1 | Load Time:    0.6 || F1:  67.65 | Prec:  56.10 | Rec:  85.19 || Ex/s:  63.21\n",
      "\n",
      "---------------------\n",
      "\n",
      "===>  TRAIN Epoch 7\n"
     ]
    },
    {
     "name": "stderr",
     "output_type": "stream",
     "text": [
      "0% [████] 100% | ETA: 00:00:00\n",
      "Total time elapsed: 00:00:10\n"
     ]
    },
    {
     "name": "stdout",
     "output_type": "stream",
     "text": [
      "Finished Epoch 7 || Run Time:    9.4 | Load Time:    2.1 || F1:  91.23 | Prec:  83.87 | Rec: 100.00 || Ex/s:  27.87\n",
      "\n",
      "===>  EVAL Epoch 7\n"
     ]
    },
    {
     "name": "stderr",
     "output_type": "stream",
     "text": [
      "0% [█] 100% | ETA: 00:00:00\n",
      "Total time elapsed: 00:00:01\n"
     ]
    },
    {
     "name": "stdout",
     "output_type": "stream",
     "text": [
      "Finished Epoch 7 || Run Time:    1.1 | Load Time:    0.6 || F1:  74.19 | Prec:  65.71 | Rec:  85.19 || Ex/s:  63.68\n",
      "\n",
      "* Best F1: tensor(74.1936, device='cuda:0')\n",
      "Saving best model...\n",
      "Done.\n",
      "---------------------\n",
      "\n",
      "===>  TRAIN Epoch 8\n"
     ]
    },
    {
     "name": "stderr",
     "output_type": "stream",
     "text": [
      "0% [████] 100% | ETA: 00:00:00\n",
      "Total time elapsed: 00:00:10\n"
     ]
    },
    {
     "name": "stdout",
     "output_type": "stream",
     "text": [
      "Finished Epoch 8 || Run Time:    9.6 | Load Time:    2.2 || F1:  96.89 | Prec:  93.98 | Rec: 100.00 || Ex/s:  27.27\n",
      "\n",
      "===>  EVAL Epoch 8\n"
     ]
    },
    {
     "name": "stderr",
     "output_type": "stream",
     "text": [
      "0% [█] 100% | ETA: 00:00:00\n",
      "Total time elapsed: 00:00:01\n"
     ]
    },
    {
     "name": "stdout",
     "output_type": "stream",
     "text": [
      "Finished Epoch 8 || Run Time:    1.1 | Load Time:    0.6 || F1:  76.19 | Prec:  66.67 | Rec:  88.89 || Ex/s:  63.66\n",
      "\n",
      "* Best F1: tensor(76.1905, device='cuda:0')\n",
      "Saving best model...\n",
      "Done.\n",
      "---------------------\n",
      "\n",
      "===>  TRAIN Epoch 9\n"
     ]
    },
    {
     "name": "stderr",
     "output_type": "stream",
     "text": [
      "0% [████] 100% | ETA: 00:00:00\n",
      "Total time elapsed: 00:00:10\n"
     ]
    },
    {
     "name": "stdout",
     "output_type": "stream",
     "text": [
      "Finished Epoch 9 || Run Time:    9.5 | Load Time:    2.2 || F1:  99.36 | Prec:  98.73 | Rec: 100.00 || Ex/s:  27.45\n",
      "\n",
      "===>  EVAL Epoch 9\n"
     ]
    },
    {
     "name": "stderr",
     "output_type": "stream",
     "text": [
      "0% [█] 100% | ETA: 00:00:00\n",
      "Total time elapsed: 00:00:01\n"
     ]
    },
    {
     "name": "stdout",
     "output_type": "stream",
     "text": [
      "Finished Epoch 9 || Run Time:    1.1 | Load Time:    0.6 || F1:  76.19 | Prec:  66.67 | Rec:  88.89 || Ex/s:  63.72\n",
      "\n",
      "---------------------\n",
      "\n",
      "===>  TRAIN Epoch 10\n"
     ]
    },
    {
     "name": "stderr",
     "output_type": "stream",
     "text": [
      "0% [████] 100% | ETA: 00:00:00\n",
      "Total time elapsed: 00:00:10\n"
     ]
    },
    {
     "name": "stdout",
     "output_type": "stream",
     "text": [
      "Finished Epoch 10 || Run Time:    9.5 | Load Time:    2.1 || F1:  99.36 | Prec:  98.73 | Rec: 100.00 || Ex/s:  27.47\n",
      "\n",
      "===>  EVAL Epoch 10\n"
     ]
    },
    {
     "name": "stderr",
     "output_type": "stream",
     "text": [
      "0% [█] 100% | ETA: 00:00:00\n",
      "Total time elapsed: 00:00:01\n"
     ]
    },
    {
     "name": "stdout",
     "output_type": "stream",
     "text": [
      "Finished Epoch 10 || Run Time:    1.1 | Load Time:    0.6 || F1:  77.42 | Prec:  68.57 | Rec:  88.89 || Ex/s:  65.36\n",
      "\n",
      "* Best F1: tensor(77.4194, device='cuda:0')\n",
      "Saving best model...\n",
      "Done.\n",
      "---------------------\n",
      "\n",
      "===>  TRAIN Epoch 11\n"
     ]
    },
    {
     "name": "stderr",
     "output_type": "stream",
     "text": [
      "0% [████] 100% | ETA: 00:00:00\n",
      "Total time elapsed: 00:00:10\n"
     ]
    },
    {
     "name": "stdout",
     "output_type": "stream",
     "text": [
      "Finished Epoch 11 || Run Time:    9.5 | Load Time:    2.2 || F1:  99.36 | Prec:  98.73 | Rec: 100.00 || Ex/s:  27.46\n",
      "\n",
      "===>  EVAL Epoch 11\n"
     ]
    },
    {
     "name": "stderr",
     "output_type": "stream",
     "text": [
      "0% [█] 100% | ETA: 00:00:00\n",
      "Total time elapsed: 00:00:01\n"
     ]
    },
    {
     "name": "stdout",
     "output_type": "stream",
     "text": [
      "Finished Epoch 11 || Run Time:    1.1 | Load Time:    0.6 || F1:  75.41 | Prec:  67.65 | Rec:  85.19 || Ex/s:  64.73\n",
      "\n",
      "---------------------\n",
      "\n",
      "===>  TRAIN Epoch 12\n"
     ]
    },
    {
     "name": "stderr",
     "output_type": "stream",
     "text": [
      "0% [████] 100% | ETA: 00:00:00\n",
      "Total time elapsed: 00:00:10\n"
     ]
    },
    {
     "name": "stdout",
     "output_type": "stream",
     "text": [
      "Finished Epoch 12 || Run Time:    9.5 | Load Time:    2.1 || F1: 100.00 | Prec: 100.00 | Rec: 100.00 || Ex/s:  27.57\n",
      "\n",
      "===>  EVAL Epoch 12\n"
     ]
    },
    {
     "name": "stderr",
     "output_type": "stream",
     "text": [
      "0% [█] 100% | ETA: 00:00:00\n",
      "Total time elapsed: 00:00:01\n"
     ]
    },
    {
     "name": "stdout",
     "output_type": "stream",
     "text": [
      "Finished Epoch 12 || Run Time:    1.1 | Load Time:    0.6 || F1:  76.19 | Prec:  66.67 | Rec:  88.89 || Ex/s:  65.50\n",
      "\n",
      "---------------------\n",
      "\n",
      "===>  TRAIN Epoch 13\n"
     ]
    },
    {
     "name": "stderr",
     "output_type": "stream",
     "text": [
      "0% [████] 100% | ETA: 00:00:00\n",
      "Total time elapsed: 00:00:10\n"
     ]
    },
    {
     "name": "stdout",
     "output_type": "stream",
     "text": [
      "Finished Epoch 13 || Run Time:    9.4 | Load Time:    2.1 || F1: 100.00 | Prec: 100.00 | Rec: 100.00 || Ex/s:  27.89\n",
      "\n",
      "===>  EVAL Epoch 13\n"
     ]
    },
    {
     "name": "stderr",
     "output_type": "stream",
     "text": [
      "0% [█] 100% | ETA: 00:00:00\n",
      "Total time elapsed: 00:00:01\n"
     ]
    },
    {
     "name": "stdout",
     "output_type": "stream",
     "text": [
      "Finished Epoch 13 || Run Time:    1.1 | Load Time:    0.6 || F1:  76.19 | Prec:  66.67 | Rec:  88.89 || Ex/s:  65.28\n",
      "\n",
      "---------------------\n",
      "\n",
      "===>  TRAIN Epoch 14\n"
     ]
    },
    {
     "name": "stderr",
     "output_type": "stream",
     "text": [
      "0% [████] 100% | ETA: 00:00:00\n",
      "Total time elapsed: 00:00:10\n"
     ]
    },
    {
     "name": "stdout",
     "output_type": "stream",
     "text": [
      "Finished Epoch 14 || Run Time:    9.4 | Load Time:    2.1 || F1: 100.00 | Prec: 100.00 | Rec: 100.00 || Ex/s:  27.78\n",
      "\n",
      "===>  EVAL Epoch 14\n"
     ]
    },
    {
     "name": "stderr",
     "output_type": "stream",
     "text": [
      "0% [█] 100% | ETA: 00:00:00\n",
      "Total time elapsed: 00:00:01\n"
     ]
    },
    {
     "name": "stdout",
     "output_type": "stream",
     "text": [
      "Finished Epoch 14 || Run Time:    1.1 | Load Time:    0.6 || F1:  76.19 | Prec:  66.67 | Rec:  88.89 || Ex/s:  65.63\n",
      "\n",
      "---------------------\n",
      "\n",
      "===>  TRAIN Epoch 15\n"
     ]
    },
    {
     "name": "stderr",
     "output_type": "stream",
     "text": [
      "0% [████] 100% | ETA: 00:00:00\n",
      "Total time elapsed: 00:00:10\n"
     ]
    },
    {
     "name": "stdout",
     "output_type": "stream",
     "text": [
      "Finished Epoch 15 || Run Time:    9.3 | Load Time:    2.1 || F1: 100.00 | Prec: 100.00 | Rec: 100.00 || Ex/s:  28.13\n",
      "\n",
      "===>  EVAL Epoch 15\n"
     ]
    },
    {
     "name": "stderr",
     "output_type": "stream",
     "text": [
      "0% [█] 100% | ETA: 00:00:00\n",
      "Total time elapsed: 00:00:01\n"
     ]
    },
    {
     "name": "stdout",
     "output_type": "stream",
     "text": [
      "Finished Epoch 15 || Run Time:    1.1 | Load Time:    0.6 || F1:  76.19 | Prec:  66.67 | Rec:  88.89 || Ex/s:  64.28\n",
      "\n",
      "---------------------\n",
      "\n",
      "===>  TRAIN Epoch 16\n"
     ]
    },
    {
     "name": "stderr",
     "output_type": "stream",
     "text": [
      "0% [████] 100% | ETA: 00:00:00\n",
      "Total time elapsed: 00:00:10\n"
     ]
    },
    {
     "name": "stdout",
     "output_type": "stream",
     "text": [
      "Finished Epoch 16 || Run Time:    9.5 | Load Time:    2.1 || F1: 100.00 | Prec: 100.00 | Rec: 100.00 || Ex/s:  27.88\n",
      "\n",
      "===>  EVAL Epoch 16\n"
     ]
    },
    {
     "name": "stderr",
     "output_type": "stream",
     "text": [
      "0% [█] 100% | ETA: 00:00:00\n",
      "Total time elapsed: 00:00:01\n"
     ]
    },
    {
     "name": "stdout",
     "output_type": "stream",
     "text": [
      "Finished Epoch 16 || Run Time:    1.1 | Load Time:    0.6 || F1:  76.19 | Prec:  66.67 | Rec:  88.89 || Ex/s:  65.75\n",
      "\n",
      "---------------------\n",
      "\n",
      "===>  TRAIN Epoch 17\n"
     ]
    },
    {
     "name": "stderr",
     "output_type": "stream",
     "text": [
      "0% [████] 100% | ETA: 00:00:00\n",
      "Total time elapsed: 00:00:10\n"
     ]
    },
    {
     "name": "stdout",
     "output_type": "stream",
     "text": [
      "Finished Epoch 17 || Run Time:    9.4 | Load Time:    2.1 || F1: 100.00 | Prec: 100.00 | Rec: 100.00 || Ex/s:  28.00\n",
      "\n",
      "===>  EVAL Epoch 17\n"
     ]
    },
    {
     "name": "stderr",
     "output_type": "stream",
     "text": [
      "0% [█] 100% | ETA: 00:00:00\n",
      "Total time elapsed: 00:00:01\n"
     ]
    },
    {
     "name": "stdout",
     "output_type": "stream",
     "text": [
      "Finished Epoch 17 || Run Time:    1.1 | Load Time:    0.6 || F1:  76.19 | Prec:  66.67 | Rec:  88.89 || Ex/s:  64.88\n",
      "\n",
      "---------------------\n",
      "\n",
      "===>  TRAIN Epoch 18\n"
     ]
    },
    {
     "name": "stderr",
     "output_type": "stream",
     "text": [
      "0% [████] 100% | ETA: 00:00:00\n",
      "Total time elapsed: 00:00:10\n"
     ]
    },
    {
     "name": "stdout",
     "output_type": "stream",
     "text": [
      "Finished Epoch 18 || Run Time:    9.5 | Load Time:    2.1 || F1: 100.00 | Prec: 100.00 | Rec: 100.00 || Ex/s:  27.51\n",
      "\n",
      "===>  EVAL Epoch 18\n"
     ]
    },
    {
     "name": "stderr",
     "output_type": "stream",
     "text": [
      "0% [█] 100% | ETA: 00:00:00\n",
      "Total time elapsed: 00:00:01\n"
     ]
    },
    {
     "name": "stdout",
     "output_type": "stream",
     "text": [
      "Finished Epoch 18 || Run Time:    1.1 | Load Time:    0.6 || F1:  76.19 | Prec:  66.67 | Rec:  88.89 || Ex/s:  64.65\n",
      "\n",
      "---------------------\n",
      "\n",
      "===>  TRAIN Epoch 19\n"
     ]
    },
    {
     "name": "stderr",
     "output_type": "stream",
     "text": [
      "0% [████] 100% | ETA: 00:00:00\n",
      "Total time elapsed: 00:00:10\n"
     ]
    },
    {
     "name": "stdout",
     "output_type": "stream",
     "text": [
      "Finished Epoch 19 || Run Time:    9.5 | Load Time:    2.1 || F1: 100.00 | Prec: 100.00 | Rec: 100.00 || Ex/s:  27.69\n",
      "\n",
      "===>  EVAL Epoch 19\n"
     ]
    },
    {
     "name": "stderr",
     "output_type": "stream",
     "text": [
      "0% [█] 100% | ETA: 00:00:00\n",
      "Total time elapsed: 00:00:01\n"
     ]
    },
    {
     "name": "stdout",
     "output_type": "stream",
     "text": [
      "Finished Epoch 19 || Run Time:    1.1 | Load Time:    0.6 || F1:  76.19 | Prec:  66.67 | Rec:  88.89 || Ex/s:  65.04\n",
      "\n",
      "---------------------\n",
      "\n",
      "===>  TRAIN Epoch 20\n"
     ]
    },
    {
     "name": "stderr",
     "output_type": "stream",
     "text": [
      "0% [████] 100% | ETA: 00:00:00\n",
      "Total time elapsed: 00:00:10\n"
     ]
    },
    {
     "name": "stdout",
     "output_type": "stream",
     "text": [
      "Finished Epoch 20 || Run Time:    9.4 | Load Time:    2.1 || F1: 100.00 | Prec: 100.00 | Rec: 100.00 || Ex/s:  28.02\n",
      "\n",
      "===>  EVAL Epoch 20\n"
     ]
    },
    {
     "name": "stderr",
     "output_type": "stream",
     "text": [
      "0% [█] 100% | ETA: 00:00:00\n",
      "Total time elapsed: 00:00:01\n"
     ]
    },
    {
     "name": "stdout",
     "output_type": "stream",
     "text": [
      "Finished Epoch 20 || Run Time:    1.1 | Load Time:    0.6 || F1:  76.19 | Prec:  66.67 | Rec:  88.89 || Ex/s:  64.21\n",
      "\n",
      "---------------------\n",
      "\n",
      "===>  TRAIN Epoch 21\n"
     ]
    },
    {
     "name": "stderr",
     "output_type": "stream",
     "text": [
      "0% [████] 100% | ETA: 00:00:00\n",
      "Total time elapsed: 00:00:10\n"
     ]
    },
    {
     "name": "stdout",
     "output_type": "stream",
     "text": [
      "Finished Epoch 21 || Run Time:    9.4 | Load Time:    2.1 || F1: 100.00 | Prec: 100.00 | Rec: 100.00 || Ex/s:  27.76\n",
      "\n",
      "===>  EVAL Epoch 21\n"
     ]
    },
    {
     "name": "stderr",
     "output_type": "stream",
     "text": [
      "0% [█] 100% | ETA: 00:00:00\n",
      "Total time elapsed: 00:00:01\n"
     ]
    },
    {
     "name": "stdout",
     "output_type": "stream",
     "text": [
      "Finished Epoch 21 || Run Time:    1.1 | Load Time:    0.6 || F1:  76.19 | Prec:  66.67 | Rec:  88.89 || Ex/s:  64.58\n",
      "\n",
      "---------------------\n",
      "\n",
      "===>  TRAIN Epoch 22\n"
     ]
    },
    {
     "name": "stderr",
     "output_type": "stream",
     "text": [
      "0% [████] 100% | ETA: 00:00:00\n",
      "Total time elapsed: 00:00:10\n"
     ]
    },
    {
     "name": "stdout",
     "output_type": "stream",
     "text": [
      "Finished Epoch 22 || Run Time:    9.4 | Load Time:    2.1 || F1: 100.00 | Prec: 100.00 | Rec: 100.00 || Ex/s:  28.02\n",
      "\n",
      "===>  EVAL Epoch 22\n"
     ]
    },
    {
     "name": "stderr",
     "output_type": "stream",
     "text": [
      "0% [█] 100% | ETA: 00:00:00\n",
      "Total time elapsed: 00:00:01\n"
     ]
    },
    {
     "name": "stdout",
     "output_type": "stream",
     "text": [
      "Finished Epoch 22 || Run Time:    1.1 | Load Time:    0.6 || F1:  76.19 | Prec:  66.67 | Rec:  88.89 || Ex/s:  65.15\n",
      "\n",
      "---------------------\n",
      "\n",
      "===>  TRAIN Epoch 23\n"
     ]
    },
    {
     "name": "stderr",
     "output_type": "stream",
     "text": [
      "0% [████] 100% | ETA: 00:00:00\n",
      "Total time elapsed: 00:00:10\n"
     ]
    },
    {
     "name": "stdout",
     "output_type": "stream",
     "text": [
      "Finished Epoch 23 || Run Time:    9.4 | Load Time:    2.1 || F1: 100.00 | Prec: 100.00 | Rec: 100.00 || Ex/s:  27.84\n",
      "\n",
      "===>  EVAL Epoch 23\n"
     ]
    },
    {
     "name": "stderr",
     "output_type": "stream",
     "text": [
      "0% [█] 100% | ETA: 00:00:00\n",
      "Total time elapsed: 00:00:01\n"
     ]
    },
    {
     "name": "stdout",
     "output_type": "stream",
     "text": [
      "Finished Epoch 23 || Run Time:    1.1 | Load Time:    0.6 || F1:  76.19 | Prec:  66.67 | Rec:  88.89 || Ex/s:  64.33\n",
      "\n",
      "---------------------\n",
      "\n",
      "===>  TRAIN Epoch 24\n"
     ]
    },
    {
     "name": "stderr",
     "output_type": "stream",
     "text": [
      "0% [████] 100% | ETA: 00:00:00\n",
      "Total time elapsed: 00:00:10\n"
     ]
    },
    {
     "name": "stdout",
     "output_type": "stream",
     "text": [
      "Finished Epoch 24 || Run Time:    9.5 | Load Time:    2.2 || F1: 100.00 | Prec: 100.00 | Rec: 100.00 || Ex/s:  27.54\n",
      "\n",
      "===>  EVAL Epoch 24\n"
     ]
    },
    {
     "name": "stderr",
     "output_type": "stream",
     "text": [
      "0% [█] 100% | ETA: 00:00:00\n",
      "Total time elapsed: 00:00:01\n"
     ]
    },
    {
     "name": "stdout",
     "output_type": "stream",
     "text": [
      "Finished Epoch 24 || Run Time:    1.0 | Load Time:    0.6 || F1:  76.19 | Prec:  66.67 | Rec:  88.89 || Ex/s:  66.60\n",
      "\n",
      "---------------------\n",
      "\n",
      "===>  TRAIN Epoch 25\n"
     ]
    },
    {
     "name": "stderr",
     "output_type": "stream",
     "text": [
      "0% [████] 100% | ETA: 00:00:00\n",
      "Total time elapsed: 00:00:09\n"
     ]
    },
    {
     "name": "stdout",
     "output_type": "stream",
     "text": [
      "Finished Epoch 25 || Run Time:    8.7 | Load Time:    1.9 || F1: 100.00 | Prec: 100.00 | Rec: 100.00 || Ex/s:  30.25\n",
      "\n",
      "===>  EVAL Epoch 25\n"
     ]
    },
    {
     "name": "stderr",
     "output_type": "stream",
     "text": [
      "0% [█] 100% | ETA: 00:00:00\n",
      "Total time elapsed: 00:00:01\n"
     ]
    },
    {
     "name": "stdout",
     "output_type": "stream",
     "text": [
      "Finished Epoch 25 || Run Time:    1.0 | Load Time:    0.6 || F1:  76.19 | Prec:  66.67 | Rec:  88.89 || Ex/s:  70.93\n",
      "\n",
      "---------------------\n",
      "\n",
      "===>  TRAIN Epoch 26\n"
     ]
    },
    {
     "name": "stderr",
     "output_type": "stream",
     "text": [
      "0% [████] 100% | ETA: 00:00:00\n",
      "Total time elapsed: 00:00:09\n"
     ]
    },
    {
     "name": "stdout",
     "output_type": "stream",
     "text": [
      "Finished Epoch 26 || Run Time:    8.5 | Load Time:    1.8 || F1: 100.00 | Prec: 100.00 | Rec: 100.00 || Ex/s:  30.88\n",
      "\n",
      "===>  EVAL Epoch 26\n"
     ]
    },
    {
     "name": "stderr",
     "output_type": "stream",
     "text": [
      "0% [█] 100% | ETA: 00:00:00\n",
      "Total time elapsed: 00:00:01\n"
     ]
    },
    {
     "name": "stdout",
     "output_type": "stream",
     "text": [
      "Finished Epoch 26 || Run Time:    1.0 | Load Time:    0.6 || F1:  76.19 | Prec:  66.67 | Rec:  88.89 || Ex/s:  67.09\n",
      "\n",
      "---------------------\n",
      "\n",
      "===>  TRAIN Epoch 27\n"
     ]
    },
    {
     "name": "stderr",
     "output_type": "stream",
     "text": [
      "0% [████] 100% | ETA: 00:00:00\n",
      "Total time elapsed: 00:00:09\n"
     ]
    },
    {
     "name": "stdout",
     "output_type": "stream",
     "text": [
      "Finished Epoch 27 || Run Time:    8.3 | Load Time:    1.7 || F1: 100.00 | Prec: 100.00 | Rec: 100.00 || Ex/s:  32.12\n",
      "\n",
      "===>  EVAL Epoch 27\n"
     ]
    },
    {
     "name": "stderr",
     "output_type": "stream",
     "text": [
      "0% [█] 100% | ETA: 00:00:00\n",
      "Total time elapsed: 00:00:01\n"
     ]
    },
    {
     "name": "stdout",
     "output_type": "stream",
     "text": [
      "Finished Epoch 27 || Run Time:    1.0 | Load Time:    0.5 || F1:  76.19 | Prec:  66.67 | Rec:  88.89 || Ex/s:  72.03\n",
      "\n",
      "---------------------\n",
      "\n",
      "===>  TRAIN Epoch 28\n"
     ]
    },
    {
     "name": "stderr",
     "output_type": "stream",
     "text": [
      "0% [████] 100% | ETA: 00:00:00\n",
      "Total time elapsed: 00:00:09\n"
     ]
    },
    {
     "name": "stdout",
     "output_type": "stream",
     "text": [
      "Finished Epoch 28 || Run Time:    8.5 | Load Time:    1.8 || F1: 100.00 | Prec: 100.00 | Rec: 100.00 || Ex/s:  31.08\n",
      "\n",
      "===>  EVAL Epoch 28\n"
     ]
    },
    {
     "name": "stderr",
     "output_type": "stream",
     "text": [
      "0% [█] 100% | ETA: 00:00:00\n",
      "Total time elapsed: 00:00:01\n"
     ]
    },
    {
     "name": "stdout",
     "output_type": "stream",
     "text": [
      "Finished Epoch 28 || Run Time:    1.1 | Load Time:    0.6 || F1:  76.19 | Prec:  66.67 | Rec:  88.89 || Ex/s:  64.97\n",
      "\n",
      "---------------------\n",
      "\n",
      "===>  TRAIN Epoch 29\n"
     ]
    },
    {
     "name": "stderr",
     "output_type": "stream",
     "text": [
      "0% [████] 100% | ETA: 00:00:00\n",
      "Total time elapsed: 00:00:09\n"
     ]
    },
    {
     "name": "stdout",
     "output_type": "stream",
     "text": [
      "Finished Epoch 29 || Run Time:    8.5 | Load Time:    1.8 || F1: 100.00 | Prec: 100.00 | Rec: 100.00 || Ex/s:  31.09\n",
      "\n",
      "===>  EVAL Epoch 29\n"
     ]
    },
    {
     "name": "stderr",
     "output_type": "stream",
     "text": [
      "0% [█] 100% | ETA: 00:00:00\n",
      "Total time elapsed: 00:00:01\n"
     ]
    },
    {
     "name": "stdout",
     "output_type": "stream",
     "text": [
      "Finished Epoch 29 || Run Time:    1.0 | Load Time:    0.6 || F1:  76.19 | Prec:  66.67 | Rec:  88.89 || Ex/s:  68.79\n",
      "\n",
      "---------------------\n",
      "\n",
      "===>  TRAIN Epoch 30\n"
     ]
    },
    {
     "name": "stderr",
     "output_type": "stream",
     "text": [
      "0% [████] 100% | ETA: 00:00:00\n",
      "Total time elapsed: 00:00:09\n"
     ]
    },
    {
     "name": "stdout",
     "output_type": "stream",
     "text": [
      "Finished Epoch 30 || Run Time:    8.8 | Load Time:    1.9 || F1: 100.00 | Prec: 100.00 | Rec: 100.00 || Ex/s:  29.89\n",
      "\n",
      "===>  EVAL Epoch 30\n"
     ]
    },
    {
     "name": "stderr",
     "output_type": "stream",
     "text": [
      "0% [█] 100% | ETA: 00:00:00\n",
      "Total time elapsed: 00:00:01\n"
     ]
    },
    {
     "name": "stdout",
     "output_type": "stream",
     "text": [
      "Finished Epoch 30 || Run Time:    1.1 | Load Time:    0.6 || F1:  76.19 | Prec:  66.67 | Rec:  88.89 || Ex/s:  65.61\n",
      "\n",
      "---------------------\n",
      "\n",
      "Loading best model...\n",
      "Training done.\n"
     ]
    },
    {
     "data": {
      "text/plain": [
       "tensor(77.4194, device='cuda:0')"
      ]
     },
     "execution_count": 31,
     "metadata": {},
     "output_type": "execute_result"
    }
   ],
   "source": [
    "att_model3 = dm.MatchingModel(attr_summarizer='hybrid')\n",
    "att_model3.run_train(train,validation,epochs=30,pos_neg_ratio=5,batch_size=16,\n",
    "                    best_save_path='models/itunes_amazon_hybrid_adversarial30.pth')"
   ]
  },
  {
   "cell_type": "code",
   "execution_count": 32,
   "metadata": {
    "ExecuteTime": {
     "end_time": "2020-02-09T15:15:39.132619Z",
     "start_time": "2020-02-09T15:15:37.771072Z"
    }
   },
   "outputs": [
    {
     "name": "stdout",
     "output_type": "stream",
     "text": [
      "===>  EVAL Epoch 10\n",
      "Finished Epoch 10 || Run Time:    0.6 | Load Time:    0.7 || F1:  81.97 | Prec:  73.53 | Rec:  92.59 || Ex/s:  84.46\n",
      "\n"
     ]
    },
    {
     "data": {
      "text/plain": [
       "tensor(81.9672, device='cuda:0')"
      ]
     },
     "execution_count": 32,
     "metadata": {},
     "output_type": "execute_result"
    }
   ],
   "source": [
    "att_model3.run_eval(test)"
   ]
  },
  {
   "cell_type": "code",
   "execution_count": null,
   "metadata": {
    "ExecuteTime": {
     "start_time": "2020-02-09T15:15:51.128Z"
    }
   },
   "outputs": [
    {
     "name": "stderr",
     "output_type": "stream",
     "text": [
      " 50%|█████     | 10/20 [00:17<00:17,  1.74s/it]"
     ]
    }
   ],
   "source": [
    "avgf1,avgprecision,avgrecall = getAvgF1PrecisionRecall('datasets/Structured/itunes-amazon/merged_test.csv',\n",
    "                                                       att_model3,20,editdist=1)\n",
    "avgf1,avgprecision,avgrecall"
   ]
  },
  {
   "cell_type": "markdown",
   "metadata": {},
   "source": [
    "# Evaluate rankings with triangles"
   ]
  },
  {
   "cell_type": "markdown",
   "metadata": {},
   "source": [
    "## StandardModel"
   ]
  },
  {
   "cell_type": "code",
   "execution_count": 13,
   "metadata": {
    "ExecuteTime": {
     "end_time": "2020-02-14T17:01:23.896008Z",
     "start_time": "2020-02-14T17:01:23.848162Z"
    }
   },
   "outputs": [],
   "source": [
    "from utils.dataset_parser import getFullDataset,generate_train_valid_test\n",
    "from utils.mojito2 import prepareDataset,aggregateRankings,explainSamples"
   ]
  },
  {
   "cell_type": "code",
   "execution_count": 42,
   "metadata": {
    "ExecuteTime": {
     "end_time": "2020-02-14T17:27:58.919091Z",
     "start_time": "2020-02-14T17:27:58.446919Z"
    }
   },
   "outputs": [],
   "source": [
    "standard_model = dm.MatchingModel(attr_summarizer='hybrid')\n",
    "standard_model.load_state('models/beer_hybrid.pth')\n",
    "standard_model = standard_model.to('cuda')"
   ]
  },
  {
   "cell_type": "code",
   "execution_count": 11,
   "metadata": {
    "ExecuteTime": {
     "end_time": "2020-02-14T17:01:06.796958Z",
     "start_time": "2020-02-14T17:01:06.738204Z"
    }
   },
   "outputs": [],
   "source": [
    "tableA = pd.read_csv(DATASET_DIR+'tableA.csv')\n",
    "tableB = pd.read_csv(DATASET_DIR+'tableB.csv')"
   ]
  },
  {
   "cell_type": "code",
   "execution_count": 9,
   "metadata": {
    "ExecuteTime": {
     "end_time": "2020-02-13T14:06:28.961034Z",
     "start_time": "2020-02-13T14:06:28.857254Z"
    }
   },
   "outputs": [],
   "source": [
    "train_df,validation_df,test_df = generate_train_valid_test(DATASET_DIR,['train.csv','valid.csv','test.csv']\n",
    "                                                      ,left_prefix='ltable_',right_prefix='rtable_',\n",
    "                                                          drop_lrid=False)"
   ]
  },
  {
   "cell_type": "code",
   "execution_count": 31,
   "metadata": {
    "ExecuteTime": {
     "end_time": "2020-02-13T14:22:10.044114Z",
     "start_time": "2020-02-13T14:22:09.545292Z"
    }
   },
   "outputs": [
    {
     "data": {
      "text/plain": [
       "(91, 169)"
      ]
     },
     "execution_count": 31,
     "metadata": {},
     "output_type": "execute_result"
    }
   ],
   "source": [
    "augmented_test = prepareDataset(test_df,tableA,tableB,80)\n",
    "len(test_df),len(augmented_test)"
   ]
  },
  {
   "cell_type": "code",
   "execution_count": 11,
   "metadata": {
    "ExecuteTime": {
     "end_time": "2020-02-13T14:06:51.927113Z",
     "start_time": "2020-02-13T14:06:51.886249Z"
    }
   },
   "outputs": [],
   "source": [
    "augmented_test.to_csv(DATASET_DIR+'augmented_test.csv',index=False)"
   ]
  },
  {
   "cell_type": "code",
   "execution_count": 16,
   "metadata": {
    "ExecuteTime": {
     "end_time": "2020-02-12T13:40:17.627867Z",
     "start_time": "2020-02-12T13:40:17.590636Z"
    }
   },
   "outputs": [],
   "source": [
    "augmented_test = pd.read_csv(DATASET_DIR+'augmented_test.csv')"
   ]
  },
  {
   "cell_type": "code",
   "execution_count": 32,
   "metadata": {
    "ExecuteTime": {
     "end_time": "2020-02-13T14:22:13.231632Z",
     "start_time": "2020-02-13T14:22:12.113228Z"
    }
   },
   "outputs": [],
   "source": [
    "predictions0 = wrapDm(augmented_test,standard_model,ignore_columns=['ltable_id','rtable_id','id','label'])\n",
    "tp_group = augmented_test[(predictions0[:,1]>=0.5)& (augmented_test['label'] == 1)]\n",
    "tn_group = augmented_test[(predictions0[:,0] >=0.5)& (augmented_test['label']==0)]\n",
    "correctPredictions0 = pd.concat([tp_group,tn_group])"
   ]
  },
  {
   "cell_type": "code",
   "execution_count": 33,
   "metadata": {
    "ExecuteTime": {
     "end_time": "2020-02-13T14:23:31.693303Z",
     "start_time": "2020-02-13T14:22:14.034971Z"
    }
   },
   "outputs": [
    {
     "name": "stderr",
     "output_type": "stream",
     "text": [
      "100%|██████████| 64/64 [01:17<00:00,  1.21s/it]\n"
     ]
    }
   ],
   "source": [
    "neg_rankings0,neg_triangles0,flippedPredictions_neg0,notFlippedNeg0 = explainSamples(\n",
    "    correctPredictions0,[tableA,tableB],standard_model,\n",
    "    originalClass=0,maxLenAttributeSet=4)"
   ]
  },
  {
   "cell_type": "code",
   "execution_count": 34,
   "metadata": {
    "ExecuteTime": {
     "end_time": "2020-02-13T14:24:09.081496Z",
     "start_time": "2020-02-13T14:24:08.922518Z"
    }
   },
   "outputs": [
    {
     "data": {
      "image/png": "[encoded data removed]",
      "text/plain": [
       "<Figure size 72x72 with 1 Axes>"
      ]
     },
     "metadata": {
      "needs_background": "light"
     },
     "output_type": "display_data"
    }
   ],
   "source": [
    "ax,negRank0 = aggregateRankings(neg_rankings0,positive=False,maxLenAttributes=1)"
   ]
  },
  {
   "cell_type": "code",
   "execution_count": 35,
   "metadata": {
    "ExecuteTime": {
     "end_time": "2020-02-13T14:25:28.961722Z",
     "start_time": "2020-02-13T14:24:12.323785Z"
    }
   },
   "outputs": [
    {
     "name": "stderr",
     "output_type": "stream",
     "text": [
      "100%|██████████| 64/64 [01:16<00:00,  1.19s/it]\n"
     ]
    }
   ],
   "source": [
    "pos_rankings0,pos_triangles0,flippedPredictions_pos0,notFlippedPos0 = explainSamples(\n",
    "    correctPredictions0,[tableA,tableB]\n",
    "    ,standard_model,originalClass=1,maxLenAttributeSet=4)"
   ]
  },
  {
   "cell_type": "code",
   "execution_count": 36,
   "metadata": {
    "ExecuteTime": {
     "end_time": "2020-02-13T14:25:30.858741Z",
     "start_time": "2020-02-13T14:25:30.573701Z"
    }
   },
   "outputs": [
    {
     "data": {
      "image/png": "[encoded data removed]",
      "text/plain": [
       "<Figure size 288x288 with 1 Axes>"
      ]
     },
     "metadata": {
      "needs_background": "light"
     },
     "output_type": "display_data"
    }
   ],
   "source": [
    "ax,posRank0 = aggregateRankings(pos_rankings0,positive=True,maxLenAttributes=1)"
   ]
  },
  {
   "cell_type": "markdown",
   "metadata": {},
   "source": [
    "### Mine patterns"
   ]
  },
  {
   "cell_type": "code",
   "execution_count": 69,
   "metadata": {
    "ExecuteTime": {
     "end_time": "2020-02-13T14:50:00.615233Z",
     "start_time": "2020-02-13T14:49:59.150983Z"
    }
   },
   "outputs": [
    {
     "data": {
      "image/png": "[encoded data removed]",
      "text/plain": [
       "<Figure size 1440x360 with 1 Axes>"
      ]
     },
     "metadata": {
      "needs_background": "light"
     },
     "output_type": "display_data"
    }
   ],
   "source": [
    "import matplotlib.pyplot as plt\n",
    "import numpy as np\n",
    "D = countTokens(df.rtable_Beer_Name.values)\n",
    "fig, ax = plt.subplots(figsize=(20,5))\n",
    "x = list(D.keys())\n",
    "y = list(D.values())\n",
    "ax.bar(x,y,align='center')\n",
    "plt.xticks(np.arange(len(x)),x, rotation='vertical')\n",
    "plt.show()"
   ]
  },
  {
   "cell_type": "markdown",
   "metadata": {},
   "source": [
    "## Prepare new Training data"
   ]
  },
  {
   "cell_type": "code",
   "execution_count": 130,
   "metadata": {
    "ExecuteTime": {
     "end_time": "2020-02-09T18:58:05.260289Z",
     "start_time": "2020-02-09T18:58:04.159080Z"
    }
   },
   "outputs": [
    {
     "data": {
      "text/plain": [
       "(321, 349)"
      ]
     },
     "execution_count": 130,
     "metadata": {},
     "output_type": "execute_result"
    }
   ],
   "source": [
    "augmented_train = prepareDataset(train_df,tableA_itunes,tableB_itunes,50)\n",
    "augmented_train.to_csv(ITUNES_DIR+'augmented_train.csv',index=False)\n",
    "len(train_df),len(augmented_train)"
   ]
  },
  {
   "cell_type": "code",
   "execution_count": 131,
   "metadata": {
    "ExecuteTime": {
     "end_time": "2020-02-09T18:58:09.163873Z",
     "start_time": "2020-02-09T18:58:05.356707Z"
    }
   },
   "outputs": [],
   "source": [
    "trainPreds = getTruePositiveNegative(itunesamazon_mod,augmented_train,ignore_columns=['id','ltable_id',\n",
    "                                                                                     'rtable_id','label'])"
   ]
  },
  {
   "cell_type": "code",
   "execution_count": 132,
   "metadata": {
    "ExecuteTime": {
     "end_time": "2020-02-09T19:03:54.605652Z",
     "start_time": "2020-02-09T18:58:09.165693Z"
    }
   },
   "outputs": [
    {
     "name": "stderr",
     "output_type": "stream",
     "text": [
      "\n",
      "  0%|          | 0/150 [00:00<?, ?it/s]\u001b[A\n",
      "  1%|          | 1/150 [00:02<05:18,  2.14s/it]\u001b[A\n",
      "  1%|▏         | 2/150 [00:04<05:19,  2.16s/it]\u001b[A\n",
      "  2%|▏         | 3/150 [00:06<05:31,  2.25s/it]\u001b[A\n",
      "  3%|▎         | 4/150 [00:09<05:38,  2.32s/it]\u001b[A\n",
      "  3%|▎         | 5/150 [00:11<05:32,  2.29s/it]\u001b[A\n",
      "  4%|▍         | 6/150 [00:13<05:26,  2.27s/it]\u001b[A\n",
      "  5%|▍         | 7/150 [00:16<05:24,  2.27s/it]\u001b[A\n",
      "  5%|▌         | 8/150 [00:18<05:18,  2.24s/it]\u001b[A\n",
      "  6%|▌         | 9/150 [00:20<05:19,  2.27s/it]\u001b[A\n",
      "  7%|▋         | 10/150 [00:22<05:19,  2.28s/it]\u001b[A\n",
      "  7%|▋         | 11/150 [00:25<05:16,  2.28s/it]\u001b[A\n",
      "  8%|▊         | 12/150 [00:27<05:17,  2.30s/it]\u001b[A\n",
      "  9%|▊         | 13/150 [00:29<05:22,  2.35s/it]\u001b[A\n",
      "  9%|▉         | 14/150 [00:32<05:22,  2.37s/it]\u001b[A\n",
      " 10%|█         | 15/150 [00:34<05:08,  2.28s/it]\u001b[A\n",
      " 11%|█         | 16/150 [00:36<05:06,  2.29s/it]\u001b[A\n",
      " 11%|█▏        | 17/150 [00:39<05:04,  2.29s/it]\u001b[A\n",
      " 12%|█▏        | 18/150 [00:41<05:00,  2.28s/it]\u001b[A\n",
      " 13%|█▎        | 19/150 [00:43<04:58,  2.28s/it]\u001b[A\n",
      " 13%|█▎        | 20/150 [00:45<04:58,  2.30s/it]\u001b[A\n",
      " 14%|█▍        | 21/150 [00:48<04:58,  2.32s/it]\u001b[A\n",
      " 15%|█▍        | 22/150 [00:50<04:47,  2.24s/it]\u001b[A\n",
      " 15%|█▌        | 23/150 [00:52<04:45,  2.25s/it]\u001b[A\n",
      " 16%|█▌        | 24/150 [00:54<04:40,  2.23s/it]\u001b[A\n",
      " 17%|█▋        | 25/150 [00:57<04:39,  2.24s/it]\u001b[A\n",
      " 17%|█▋        | 26/150 [00:59<04:33,  2.20s/it]\u001b[A\n",
      " 18%|█▊        | 27/150 [01:01<04:40,  2.28s/it]\u001b[A\n",
      " 19%|█▊        | 28/150 [01:03<04:36,  2.26s/it]\u001b[A\n",
      " 19%|█▉        | 29/150 [01:06<04:38,  2.30s/it]\u001b[A\n",
      " 20%|██        | 30/150 [01:08<04:30,  2.26s/it]\u001b[A\n",
      " 21%|██        | 31/150 [01:10<04:37,  2.33s/it]\u001b[A\n",
      " 21%|██▏       | 32/150 [01:13<04:32,  2.31s/it]\u001b[A\n",
      " 22%|██▏       | 33/150 [01:15<04:28,  2.29s/it]\u001b[A\n",
      " 23%|██▎       | 34/150 [01:17<04:24,  2.28s/it]\u001b[A\n",
      " 23%|██▎       | 35/150 [01:20<04:26,  2.32s/it]\u001b[A\n",
      " 24%|██▍       | 36/150 [01:22<04:20,  2.28s/it]\u001b[A\n",
      " 25%|██▍       | 37/150 [01:24<04:13,  2.24s/it]\u001b[A\n",
      " 25%|██▌       | 38/150 [01:26<04:17,  2.30s/it]\u001b[A\n",
      " 26%|██▌       | 39/150 [01:29<04:14,  2.30s/it]\u001b[A\n",
      " 27%|██▋       | 40/150 [01:31<04:10,  2.27s/it]\u001b[A\n",
      " 27%|██▋       | 41/150 [01:33<04:08,  2.28s/it]\u001b[A\n",
      " 28%|██▊       | 42/150 [01:35<04:04,  2.26s/it]\u001b[A\n",
      " 29%|██▊       | 43/150 [01:38<04:09,  2.33s/it]\u001b[A\n",
      " 29%|██▉       | 44/150 [01:40<04:11,  2.37s/it]\u001b[A\n",
      " 30%|███       | 45/150 [01:43<04:03,  2.32s/it]\u001b[A\n",
      " 31%|███       | 46/150 [01:45<04:09,  2.40s/it]\u001b[A\n",
      " 31%|███▏      | 47/150 [01:48<04:12,  2.45s/it]\u001b[A\n",
      " 32%|███▏      | 48/150 [01:50<04:00,  2.36s/it]\u001b[A\n",
      " 33%|███▎      | 49/150 [01:52<03:52,  2.30s/it]\u001b[A\n",
      " 33%|███▎      | 50/150 [01:54<03:45,  2.26s/it]\u001b[A\n",
      " 34%|███▍      | 51/150 [01:56<03:45,  2.27s/it]\u001b[A\n",
      " 35%|███▍      | 52/150 [01:59<03:40,  2.25s/it]\u001b[A\n",
      " 35%|███▌      | 53/150 [02:01<03:36,  2.23s/it]\u001b[A\n",
      " 36%|███▌      | 54/150 [02:03<03:35,  2.24s/it]\u001b[A\n",
      " 37%|███▋      | 55/150 [02:06<03:37,  2.29s/it]\u001b[A\n",
      " 37%|███▋      | 56/150 [02:08<03:29,  2.23s/it]\u001b[A\n",
      " 38%|███▊      | 57/150 [02:10<03:22,  2.17s/it]\u001b[A\n",
      " 39%|███▊      | 58/150 [02:12<03:18,  2.16s/it]\u001b[A\n",
      " 39%|███▉      | 59/150 [02:14<03:27,  2.28s/it]\u001b[A\n",
      " 40%|████      | 60/150 [02:17<03:25,  2.28s/it]\u001b[A\n",
      " 41%|████      | 61/150 [02:19<03:21,  2.26s/it]\u001b[A\n",
      " 41%|████▏     | 62/150 [02:21<03:20,  2.28s/it]\u001b[A\n",
      " 42%|████▏     | 63/150 [02:23<03:14,  2.24s/it]\u001b[A\n",
      " 43%|████▎     | 64/150 [02:26<03:17,  2.29s/it]\u001b[A\n",
      " 43%|████▎     | 65/150 [02:28<03:10,  2.24s/it]\u001b[A\n",
      " 44%|████▍     | 66/150 [02:30<03:08,  2.24s/it]\u001b[A\n",
      " 45%|████▍     | 67/150 [02:32<03:04,  2.22s/it]\u001b[A\n",
      " 45%|████▌     | 68/150 [02:35<03:14,  2.37s/it]\u001b[A\n",
      " 46%|████▌     | 69/150 [02:37<03:15,  2.41s/it]\u001b[A\n",
      " 47%|████▋     | 70/150 [02:40<03:12,  2.41s/it]\u001b[A\n",
      " 47%|████▋     | 71/150 [02:42<03:10,  2.41s/it]\u001b[A\n",
      " 48%|████▊     | 72/150 [02:45<03:06,  2.39s/it]\u001b[A\n",
      " 49%|████▊     | 73/150 [02:47<03:06,  2.42s/it]\u001b[A\n",
      " 49%|████▉     | 74/150 [02:50<03:06,  2.46s/it]\u001b[A\n",
      " 50%|█████     | 75/150 [02:52<03:03,  2.45s/it]\u001b[A\n",
      " 51%|█████     | 76/150 [02:54<02:54,  2.35s/it]\u001b[A\n",
      " 51%|█████▏    | 77/150 [02:56<02:46,  2.28s/it]\u001b[A\n",
      " 52%|█████▏    | 78/150 [02:59<02:49,  2.35s/it]\u001b[A\n",
      " 53%|█████▎    | 79/150 [03:01<02:51,  2.41s/it]\u001b[A\n",
      " 53%|█████▎    | 80/150 [03:04<02:49,  2.42s/it]\u001b[A\n",
      " 54%|█████▍    | 81/150 [03:06<02:42,  2.35s/it]\u001b[A\n",
      " 55%|█████▍    | 82/150 [03:08<02:35,  2.29s/it]\u001b[A\n",
      " 55%|█████▌    | 83/150 [03:10<02:30,  2.25s/it]\u001b[A\n",
      " 56%|█████▌    | 84/150 [03:13<02:29,  2.27s/it]\u001b[A\n",
      " 57%|█████▋    | 85/150 [03:15<02:30,  2.31s/it]\u001b[A\n",
      " 57%|█████▋    | 86/150 [03:17<02:27,  2.30s/it]\u001b[A\n",
      " 58%|█████▊    | 87/150 [03:20<02:23,  2.28s/it]\u001b[A\n",
      " 59%|█████▊    | 88/150 [03:22<02:25,  2.35s/it]\u001b[A\n",
      " 59%|█████▉    | 89/150 [03:25<02:24,  2.37s/it]\u001b[A\n",
      " 60%|██████    | 90/150 [03:27<02:18,  2.31s/it]\u001b[A\n",
      " 61%|██████    | 91/150 [03:29<02:15,  2.29s/it]\u001b[A\n",
      " 61%|██████▏   | 92/150 [03:31<02:10,  2.25s/it]\u001b[A\n",
      " 62%|██████▏   | 93/150 [03:33<02:07,  2.24s/it]\u001b[A\n",
      " 63%|██████▎   | 94/150 [03:36<02:05,  2.24s/it]\u001b[A\n",
      " 63%|██████▎   | 95/150 [03:38<02:08,  2.34s/it]\u001b[A\n",
      " 64%|██████▍   | 96/150 [03:41<02:09,  2.39s/it]\u001b[A\n",
      " 65%|██████▍   | 97/150 [03:43<02:01,  2.30s/it]\u001b[A\n",
      " 65%|██████▌   | 98/150 [03:45<01:57,  2.25s/it]\u001b[A\n",
      " 66%|██████▌   | 99/150 [03:47<01:54,  2.24s/it]\u001b[A\n",
      " 67%|██████▋   | 100/150 [03:49<01:52,  2.25s/it]\u001b[A\n",
      " 67%|██████▋   | 101/150 [03:52<01:50,  2.26s/it]\u001b[A\n",
      " 68%|██████▊   | 102/150 [03:54<01:49,  2.29s/it]\u001b[A\n",
      " 69%|██████▊   | 103/150 [03:56<01:46,  2.27s/it]\u001b[A\n",
      " 69%|██████▉   | 104/150 [03:59<01:45,  2.29s/it]\u001b[A\n",
      " 70%|███████   | 105/150 [04:01<01:43,  2.29s/it]\u001b[A\n",
      " 71%|███████   | 106/150 [04:03<01:43,  2.35s/it]\u001b[A\n",
      " 71%|███████▏  | 107/150 [04:06<01:40,  2.33s/it]\u001b[A\n",
      " 72%|███████▏  | 108/150 [04:08<01:35,  2.28s/it]\u001b[A\n",
      " 73%|███████▎  | 109/150 [04:10<01:32,  2.26s/it]\u001b[A\n",
      " 73%|███████▎  | 110/150 [04:12<01:32,  2.31s/it]\u001b[A\n",
      " 74%|███████▍  | 111/150 [04:15<01:29,  2.31s/it]\u001b[A\n",
      " 75%|███████▍  | 112/150 [04:17<01:26,  2.26s/it]\u001b[A\n",
      " 75%|███████▌  | 113/150 [04:19<01:24,  2.29s/it]\u001b[A\n",
      " 76%|███████▌  | 114/150 [04:22<01:22,  2.30s/it]\u001b[A\n",
      " 77%|███████▋  | 115/150 [04:24<01:19,  2.28s/it]\u001b[A\n",
      " 77%|███████▋  | 116/150 [04:26<01:18,  2.31s/it]\u001b[A\n",
      " 78%|███████▊  | 117/150 [04:28<01:14,  2.27s/it]\u001b[A\n",
      " 79%|███████▊  | 118/150 [04:31<01:14,  2.32s/it]\u001b[A\n",
      " 79%|███████▉  | 119/150 [04:33<01:12,  2.34s/it]\u001b[A\n",
      " 80%|████████  | 120/150 [04:35<01:08,  2.30s/it]\u001b[A\n",
      " 81%|████████  | 121/150 [04:38<01:09,  2.38s/it]\u001b[A\n",
      " 81%|████████▏ | 122/150 [04:41<01:09,  2.47s/it]\u001b[A\n",
      " 82%|████████▏ | 123/150 [04:43<01:05,  2.44s/it]\u001b[A\n",
      " 83%|████████▎ | 124/150 [04:45<01:00,  2.34s/it]\u001b[A\n",
      " 83%|████████▎ | 125/150 [04:47<00:57,  2.28s/it]\u001b[A\n",
      " 84%|████████▍ | 126/150 [04:50<00:54,  2.28s/it]\u001b[A\n",
      " 85%|████████▍ | 127/150 [04:52<00:52,  2.29s/it]\u001b[A\n",
      " 85%|████████▌ | 128/150 [04:54<00:48,  2.21s/it]\u001b[A\n",
      " 86%|████████▌ | 129/150 [04:56<00:46,  2.23s/it]\u001b[A\n",
      " 87%|████████▋ | 130/150 [04:58<00:45,  2.26s/it]\u001b[A\n",
      " 87%|████████▋ | 131/150 [05:01<00:42,  2.23s/it]\u001b[A\n",
      " 88%|████████▊ | 132/150 [05:03<00:39,  2.17s/it]\u001b[A\n",
      " 89%|████████▊ | 133/150 [05:05<00:36,  2.16s/it]\u001b[A\n",
      " 89%|████████▉ | 134/150 [05:07<00:35,  2.20s/it]\u001b[A\n",
      " 90%|█████████ | 135/150 [05:09<00:33,  2.21s/it]\u001b[A\n",
      " 91%|█████████ | 136/150 [05:11<00:30,  2.19s/it]\u001b[A\n",
      " 91%|█████████▏| 137/150 [05:14<00:28,  2.23s/it]\u001b[A\n",
      " 92%|█████████▏| 138/150 [05:16<00:26,  2.20s/it]\u001b[A\n",
      " 93%|█████████▎| 139/150 [05:18<00:24,  2.27s/it]\u001b[A\n",
      " 93%|█████████▎| 140/150 [05:20<00:22,  2.20s/it]\u001b[A\n",
      " 94%|█████████▍| 141/150 [05:23<00:19,  2.20s/it]\u001b[A\n",
      " 95%|█████████▍| 142/150 [05:25<00:17,  2.22s/it]\u001b[A\n",
      " 95%|█████████▌| 143/150 [05:28<00:16,  2.35s/it]\u001b[A\n",
      " 96%|█████████▌| 144/150 [05:30<00:14,  2.46s/it]\u001b[A\n",
      " 97%|█████████▋| 145/150 [05:32<00:11,  2.39s/it]\u001b[A\n",
      " 97%|█████████▋| 146/150 [05:35<00:09,  2.40s/it]\u001b[A\n",
      " 98%|█████████▊| 147/150 [05:37<00:07,  2.38s/it]\u001b[A\n",
      " 99%|█████████▊| 148/150 [05:40<00:04,  2.44s/it]\u001b[A\n",
      " 99%|█████████▉| 149/150 [05:42<00:02,  2.46s/it]\u001b[A\n",
      "100%|██████████| 150/150 [05:45<00:00,  2.30s/it]\u001b[A\n"
     ]
    }
   ],
   "source": [
    "neg_rankings_itunes,neg_triangles_itunes,flippedPredictions_neg = explainSamples(trainPreds,\n",
    "                                                          [tableA_itunes,tableB_itunes],\n",
    "                                                          itunesamazon_mod,originalClass=0)"
   ]
  },
  {
   "cell_type": "code",
   "execution_count": 133,
   "metadata": {
    "ExecuteTime": {
     "end_time": "2020-02-09T19:09:36.190754Z",
     "start_time": "2020-02-09T19:03:54.607602Z"
    }
   },
   "outputs": [
    {
     "name": "stderr",
     "output_type": "stream",
     "text": [
      "\n",
      "  0%|          | 0/150 [00:00<?, ?it/s]\u001b[A\n",
      "  1%|          | 1/150 [00:02<05:15,  2.12s/it]\u001b[A\n",
      "  1%|▏         | 2/150 [00:04<05:15,  2.13s/it]\u001b[A\n",
      "  2%|▏         | 3/150 [00:06<05:27,  2.23s/it]\u001b[A\n",
      "  3%|▎         | 4/150 [00:09<05:33,  2.28s/it]\u001b[A\n",
      "  3%|▎         | 5/150 [00:11<05:25,  2.24s/it]\u001b[A\n",
      "  4%|▍         | 6/150 [00:13<05:18,  2.21s/it]\u001b[A\n",
      "  5%|▍         | 7/150 [00:15<05:16,  2.21s/it]\u001b[A\n",
      "  5%|▌         | 8/150 [00:17<05:11,  2.19s/it]\u001b[A\n",
      "  6%|▌         | 9/150 [00:20<05:13,  2.23s/it]\u001b[A\n",
      "  7%|▋         | 10/150 [00:22<05:13,  2.24s/it]\u001b[A\n",
      "  7%|▋         | 11/150 [00:24<05:12,  2.24s/it]\u001b[A\n",
      "  8%|▊         | 12/150 [00:26<05:10,  2.25s/it]\u001b[A\n",
      "  9%|▊         | 13/150 [00:29<05:15,  2.30s/it]\u001b[A\n",
      "  9%|▉         | 14/150 [00:31<05:15,  2.32s/it]\u001b[A\n",
      " 10%|█         | 15/150 [00:33<05:01,  2.23s/it]\u001b[A\n",
      " 11%|█         | 16/150 [00:35<04:58,  2.23s/it]\u001b[A\n",
      " 11%|█▏        | 17/150 [00:38<04:53,  2.21s/it]\u001b[A\n",
      " 12%|█▏        | 18/150 [00:40<04:56,  2.24s/it]\u001b[A\n",
      " 13%|█▎        | 19/150 [00:42<04:54,  2.25s/it]\u001b[A\n",
      " 13%|█▎        | 20/150 [00:45<04:55,  2.27s/it]\u001b[A\n",
      " 14%|█▍        | 21/150 [00:47<04:57,  2.30s/it]\u001b[A\n",
      " 15%|█▍        | 22/150 [00:49<04:46,  2.24s/it]\u001b[A\n",
      " 15%|█▌        | 23/150 [00:51<04:45,  2.25s/it]\u001b[A\n",
      " 16%|█▌        | 24/150 [00:53<04:40,  2.23s/it]\u001b[A\n",
      " 17%|█▋        | 25/150 [00:56<04:39,  2.23s/it]\u001b[A\n",
      " 17%|█▋        | 26/150 [00:58<04:32,  2.20s/it]\u001b[A\n",
      " 18%|█▊        | 27/150 [01:00<04:36,  2.25s/it]\u001b[A\n",
      " 19%|█▊        | 28/150 [01:02<04:33,  2.24s/it]\u001b[A\n",
      " 19%|█▉        | 29/150 [01:05<04:38,  2.30s/it]\u001b[A\n",
      " 20%|██        | 30/150 [01:07<04:29,  2.25s/it]\u001b[A\n",
      " 21%|██        | 31/150 [01:09<04:35,  2.31s/it]\u001b[A\n",
      " 21%|██▏       | 32/150 [01:12<04:30,  2.29s/it]\u001b[A\n",
      " 22%|██▏       | 33/150 [01:14<04:23,  2.25s/it]\u001b[A\n",
      " 23%|██▎       | 34/150 [01:16<04:24,  2.28s/it]\u001b[A\n",
      " 23%|██▎       | 35/150 [01:19<04:27,  2.33s/it]\u001b[A\n",
      " 24%|██▍       | 36/150 [01:21<04:21,  2.29s/it]\u001b[A\n",
      " 25%|██▍       | 37/150 [01:23<04:14,  2.25s/it]\u001b[A\n",
      " 25%|██▌       | 38/150 [01:25<04:16,  2.29s/it]\u001b[A\n",
      " 26%|██▌       | 39/150 [01:28<04:14,  2.29s/it]\u001b[A\n",
      " 27%|██▋       | 40/150 [01:30<04:09,  2.27s/it]\u001b[A\n",
      " 27%|██▋       | 41/150 [01:32<04:06,  2.26s/it]\u001b[A\n",
      " 28%|██▊       | 42/150 [01:34<04:01,  2.23s/it]\u001b[A\n",
      " 29%|██▊       | 43/150 [01:37<04:05,  2.30s/it]\u001b[A\n",
      " 29%|██▉       | 44/150 [01:39<04:09,  2.35s/it]\u001b[A\n",
      " 30%|███       | 45/150 [01:41<04:01,  2.30s/it]\u001b[A\n",
      " 31%|███       | 46/150 [01:44<04:09,  2.40s/it]\u001b[A\n",
      " 31%|███▏      | 47/150 [01:47<04:11,  2.44s/it]\u001b[A\n",
      " 32%|███▏      | 48/150 [01:49<03:57,  2.33s/it]\u001b[A\n",
      " 33%|███▎      | 49/150 [01:51<03:48,  2.26s/it]\u001b[A\n",
      " 33%|███▎      | 50/150 [01:53<03:41,  2.22s/it]\u001b[A\n",
      " 34%|███▍      | 51/150 [01:55<03:40,  2.23s/it]\u001b[A\n",
      " 35%|███▍      | 52/150 [01:57<03:35,  2.20s/it]\u001b[A\n",
      " 35%|███▌      | 53/150 [01:59<03:28,  2.15s/it]\u001b[A\n",
      " 36%|███▌      | 54/150 [02:01<03:28,  2.17s/it]\u001b[A\n",
      " 37%|███▋      | 55/150 [02:04<03:33,  2.25s/it]\u001b[A\n",
      " 37%|███▋      | 56/150 [02:06<03:24,  2.17s/it]\u001b[A\n",
      " 38%|███▊      | 57/150 [02:08<03:17,  2.12s/it]\u001b[A\n",
      " 39%|███▊      | 58/150 [02:10<03:14,  2.12s/it]\u001b[A\n",
      " 39%|███▉      | 59/150 [02:13<03:24,  2.24s/it]\u001b[A\n",
      " 40%|████      | 60/150 [02:15<03:23,  2.26s/it]\u001b[A\n",
      " 41%|████      | 61/150 [02:17<03:16,  2.21s/it]\u001b[A\n",
      " 41%|████▏     | 62/150 [02:19<03:13,  2.20s/it]\u001b[A\n",
      " 42%|████▏     | 63/150 [02:21<03:08,  2.17s/it]\u001b[A\n",
      " 43%|████▎     | 64/150 [02:24<03:09,  2.21s/it]\u001b[A\n",
      " 43%|████▎     | 65/150 [02:26<03:03,  2.16s/it]\u001b[A\n",
      " 44%|████▍     | 66/150 [02:28<03:01,  2.16s/it]\u001b[A\n",
      " 45%|████▍     | 67/150 [02:30<02:58,  2.15s/it]\u001b[A\n",
      " 45%|████▌     | 68/150 [02:33<03:09,  2.31s/it]\u001b[A\n",
      " 46%|████▌     | 69/150 [02:35<03:09,  2.34s/it]\u001b[A\n",
      " 47%|████▋     | 70/150 [02:38<03:12,  2.41s/it]\u001b[A\n",
      " 47%|████▋     | 71/150 [02:40<03:10,  2.41s/it]\u001b[A\n",
      " 48%|████▊     | 72/150 [02:42<03:05,  2.38s/it]\u001b[A\n",
      " 49%|████▊     | 73/150 [02:45<03:05,  2.41s/it]\u001b[A\n",
      " 49%|████▉     | 74/150 [02:47<03:05,  2.44s/it]\u001b[A\n",
      " 50%|█████     | 75/150 [02:50<03:02,  2.43s/it]\u001b[A\n",
      " 51%|█████     | 76/150 [02:52<02:52,  2.34s/it]\u001b[A\n",
      " 51%|█████▏    | 77/150 [02:54<02:44,  2.26s/it]\u001b[A\n",
      " 52%|█████▏    | 78/150 [02:56<02:46,  2.32s/it]\u001b[A\n",
      " 53%|█████▎    | 79/150 [02:59<02:47,  2.36s/it]\u001b[A\n",
      " 53%|█████▎    | 80/150 [03:01<02:41,  2.31s/it]\u001b[A\n",
      " 54%|█████▍    | 81/150 [03:03<02:43,  2.36s/it]\u001b[A\n",
      " 55%|█████▍    | 82/150 [03:06<02:42,  2.38s/it]\u001b[A\n",
      " 55%|█████▌    | 83/150 [03:08<02:35,  2.32s/it]\u001b[A\n",
      " 56%|█████▌    | 84/150 [03:10<02:33,  2.33s/it]\u001b[A\n",
      " 57%|█████▋    | 85/150 [03:13<02:31,  2.32s/it]\u001b[A\n",
      " 57%|█████▋    | 86/150 [03:15<02:29,  2.33s/it]\u001b[A\n",
      " 58%|█████▊    | 87/150 [03:17<02:24,  2.29s/it]\u001b[A\n",
      " 59%|█████▊    | 88/150 [03:20<02:25,  2.34s/it]\u001b[A\n",
      " 59%|█████▉    | 89/150 [03:22<02:23,  2.36s/it]\u001b[A\n",
      " 60%|██████    | 90/150 [03:24<02:18,  2.30s/it]\u001b[A\n",
      " 61%|██████    | 91/150 [03:27<02:15,  2.29s/it]\u001b[A\n",
      " 61%|██████▏   | 92/150 [03:29<02:10,  2.25s/it]\u001b[A\n",
      " 62%|██████▏   | 93/150 [03:31<02:07,  2.24s/it]\u001b[A\n",
      " 63%|██████▎   | 94/150 [03:33<02:05,  2.25s/it]\u001b[A\n",
      " 63%|██████▎   | 95/150 [03:36<02:05,  2.28s/it]\u001b[A\n",
      " 64%|██████▍   | 96/150 [03:38<02:06,  2.34s/it]\u001b[A\n",
      " 65%|██████▍   | 97/150 [03:40<01:59,  2.26s/it]\u001b[A\n",
      " 65%|██████▌   | 98/150 [03:42<01:55,  2.22s/it]\u001b[A\n",
      " 66%|██████▌   | 99/150 [03:44<01:52,  2.21s/it]\u001b[A\n",
      " 67%|██████▋   | 100/150 [03:47<01:50,  2.22s/it]\u001b[A\n",
      " 67%|██████▋   | 101/150 [03:49<01:48,  2.21s/it]\u001b[A\n",
      " 68%|██████▊   | 102/150 [03:51<01:48,  2.26s/it]\u001b[A\n",
      " 69%|██████▊   | 103/150 [03:53<01:45,  2.24s/it]\u001b[A\n",
      " 69%|██████▉   | 104/150 [03:56<01:44,  2.27s/it]\u001b[A\n",
      " 70%|███████   | 105/150 [03:58<01:39,  2.22s/it]\u001b[A\n",
      " 71%|███████   | 106/150 [04:00<01:41,  2.30s/it]\u001b[A\n",
      " 71%|███████▏  | 107/150 [04:03<01:39,  2.32s/it]\u001b[A\n",
      " 72%|███████▏  | 108/150 [04:05<01:35,  2.28s/it]\u001b[A\n",
      " 73%|███████▎  | 109/150 [04:07<01:32,  2.26s/it]\u001b[A\n",
      " 73%|███████▎  | 110/150 [04:09<01:32,  2.31s/it]\u001b[A\n",
      " 74%|███████▍  | 111/150 [04:12<01:28,  2.27s/it]\u001b[A\n",
      " 75%|███████▍  | 112/150 [04:14<01:25,  2.26s/it]\u001b[A\n",
      " 75%|███████▌  | 113/150 [04:16<01:24,  2.27s/it]\u001b[A\n",
      " 76%|███████▌  | 114/150 [04:19<01:21,  2.28s/it]\u001b[A\n",
      " 77%|███████▋  | 115/150 [04:21<01:18,  2.26s/it]\u001b[A\n",
      " 77%|███████▋  | 116/150 [04:23<01:17,  2.28s/it]\u001b[A\n",
      " 78%|███████▊  | 117/150 [04:25<01:14,  2.24s/it]\u001b[A\n",
      " 79%|███████▊  | 118/150 [04:28<01:13,  2.30s/it]\u001b[A\n",
      " 79%|███████▉  | 119/150 [04:30<01:12,  2.33s/it]\u001b[A\n",
      " 80%|████████  | 120/150 [04:32<01:08,  2.29s/it]\u001b[A\n",
      " 81%|████████  | 121/150 [04:35<01:09,  2.38s/it]\u001b[A\n",
      " 81%|████████▏ | 122/150 [04:37<01:08,  2.46s/it]\u001b[A\n",
      " 82%|████████▏ | 123/150 [04:40<01:03,  2.35s/it]\u001b[A\n",
      " 83%|████████▎ | 124/150 [04:42<00:58,  2.26s/it]\u001b[A\n",
      " 83%|████████▎ | 125/150 [04:44<00:55,  2.22s/it]\u001b[A\n",
      " 84%|████████▍ | 126/150 [04:46<00:53,  2.24s/it]\u001b[A\n",
      " 85%|████████▍ | 127/150 [04:48<00:51,  2.26s/it]\u001b[A\n",
      " 85%|████████▌ | 128/150 [04:50<00:48,  2.20s/it]\u001b[A\n",
      " 86%|████████▌ | 129/150 [04:53<00:46,  2.22s/it]\u001b[A\n",
      " 87%|████████▋ | 130/150 [04:55<00:45,  2.26s/it]\u001b[A\n",
      " 87%|████████▋ | 131/150 [04:57<00:41,  2.19s/it]\u001b[A\n",
      " 88%|████████▊ | 132/150 [04:59<00:38,  2.16s/it]\u001b[A\n",
      " 89%|████████▊ | 133/150 [05:01<00:37,  2.19s/it]\u001b[A\n",
      " 89%|████████▉ | 134/150 [05:04<00:35,  2.22s/it]\u001b[A\n",
      " 90%|█████████ | 135/150 [05:06<00:33,  2.22s/it]\u001b[A\n",
      " 91%|█████████ | 136/150 [05:08<00:30,  2.19s/it]\u001b[A\n",
      " 91%|█████████▏| 137/150 [05:10<00:28,  2.20s/it]\u001b[A\n",
      " 92%|█████████▏| 138/150 [05:12<00:26,  2.21s/it]\u001b[A\n",
      " 93%|█████████▎| 139/150 [05:15<00:24,  2.21s/it]\u001b[A\n",
      " 93%|█████████▎| 140/150 [05:17<00:21,  2.17s/it]\u001b[A\n",
      " 94%|█████████▍| 141/150 [05:19<00:19,  2.18s/it]\u001b[A\n",
      " 95%|█████████▍| 142/150 [05:21<00:17,  2.20s/it]\u001b[A\n",
      " 95%|█████████▌| 143/150 [05:24<00:16,  2.36s/it]\u001b[A\n",
      " 96%|█████████▌| 144/150 [05:26<00:14,  2.39s/it]\u001b[A\n",
      " 97%|█████████▋| 145/150 [05:29<00:11,  2.34s/it]\u001b[A\n",
      " 97%|█████████▋| 146/150 [05:31<00:09,  2.36s/it]\u001b[A\n",
      " 98%|█████████▊| 147/150 [05:33<00:07,  2.34s/it]\u001b[A\n",
      " 99%|█████████▊| 148/150 [05:36<00:04,  2.41s/it]\u001b[A\n",
      " 99%|█████████▉| 149/150 [05:38<00:02,  2.44s/it]\u001b[A\n",
      "100%|██████████| 150/150 [05:41<00:00,  2.27s/it]\u001b[A\n"
     ]
    }
   ],
   "source": [
    "pos_rankings_itunes,pos_triangles_itunes,flippedPredictions_pos = explainSamples(trainPreds,\n",
    "                                                          [tableA_itunes,tableB_itunes],\n",
    "                                                          itunesamazon_mod,originalClass=1)"
   ]
  },
  {
   "cell_type": "markdown",
   "metadata": {},
   "source": [
    "## Retrain"
   ]
  },
  {
   "cell_type": "code",
   "execution_count": 74,
   "metadata": {
    "ExecuteTime": {
     "end_time": "2020-02-09T17:11:56.818441Z",
     "start_time": "2020-02-09T17:11:54.501094Z"
    }
   },
   "outputs": [
    {
     "name": "stderr",
     "output_type": "stream",
     "text": [
      "WARNING:deepmatcher.data.dataset:Rebuilding data cache because: ['One or more data files have been modified.', 'Data file list has changed.']\n",
      "\n",
      "Reading and processing data from \"datasets/Structured/itunes-amazon/improvedTrain1.csv\"\n",
      "0% [############################# ] 100% | ETA: 00:00:00\n",
      "Reading and processing data from \"datasets/Structured/itunes-amazon/valid_withid.csv\"\n",
      "0% [############################# ] 100% | ETA: 00:00:00\n",
      "Reading and processing data from \"datasets/Structured/itunes-amazon/test_withid.csv\"\n",
      "0% [############################# ] 100% | ETA: 00:00:00\n",
      "Building vocabulary\n",
      "0% [#] 100% | ETA: 00:00:00\n",
      "Total time elapsed: 00:00:00\n",
      "\n",
      "Computing principal components\n",
      "0% [#] 100% | ETA: 00:00:00\n",
      "Total time elapsed: 00:00:00\n"
     ]
    }
   ],
   "source": [
    "train,validation,test = dm.data.process(ITUNES_DIR,train='improvedTrain1.csv',validation='valid_withid.csv',\n",
    "                                       test='test_withid.csv',left_prefix='ltable_',right_prefix='rtable_',\n",
    "                                        cache='impr.pth',ignore_columns=['ltable_id','rtable_id'])"
   ]
  },
  {
   "cell_type": "code",
   "execution_count": 75,
   "metadata": {
    "ExecuteTime": {
     "end_time": "2020-02-09T17:18:26.304899Z",
     "start_time": "2020-02-09T17:12:00.034643Z"
    }
   },
   "outputs": [
    {
     "name": "stdout",
     "output_type": "stream",
     "text": [
      "* Number of trainable parameters: 17757810\n",
      "===>  TRAIN Epoch 1\n"
     ]
    },
    {
     "name": "stderr",
     "output_type": "stream",
     "text": [
      "/home/nvidia/anaconda3/envs/torchenv/lib/python3.6/site-packages/torch/nn/functional.py:1932: UserWarning: reduction: 'mean' divides the total loss by both the batch size and the support size.'batchmean' divides only by the batch size, and aligns with the KL div math definition.'mean' will be changed to behave the same as 'batchmean' in the next major release.\n",
      "  warnings.warn(\"reduction: 'mean' divides the total loss by both the batch size and the support size.\"\n",
      "0% [█████] 100% | ETA: 00:00:00\n",
      "Total time elapsed: 00:00:12\n"
     ]
    },
    {
     "name": "stdout",
     "output_type": "stream",
     "text": [
      "Finished Epoch 1 || Run Time:   11.0 | Load Time:    2.2 || F1:  44.71 | Prec:  29.97 | Rec:  87.96 || Ex/s:  30.40\n",
      "\n",
      "===>  EVAL Epoch 1\n"
     ]
    },
    {
     "name": "stderr",
     "output_type": "stream",
     "text": [
      "0% [█] 100% | ETA: 00:00:00\n",
      "Total time elapsed: 00:00:01\n"
     ]
    },
    {
     "name": "stdout",
     "output_type": "stream",
     "text": [
      "Finished Epoch 1 || Run Time:    1.0 | Load Time:    0.5 || F1:  54.74 | Prec:  38.24 | Rec:  96.30 || Ex/s:  73.57\n",
      "\n",
      "* Best F1: tensor(54.7368, device='cuda:0')\n",
      "Saving best model...\n",
      "Done.\n",
      "---------------------\n",
      "\n",
      "===>  TRAIN Epoch 2\n"
     ]
    },
    {
     "name": "stderr",
     "output_type": "stream",
     "text": [
      "0% [█████] 100% | ETA: 00:00:00\n",
      "Total time elapsed: 00:00:13\n"
     ]
    },
    {
     "name": "stdout",
     "output_type": "stream",
     "text": [
      "Finished Epoch 2 || Run Time:   11.7 | Load Time:    2.4 || F1:  54.79 | Prec:  38.91 | Rec:  92.59 || Ex/s:  28.56\n",
      "\n",
      "===>  EVAL Epoch 2\n"
     ]
    },
    {
     "name": "stderr",
     "output_type": "stream",
     "text": [
      "0% [█] 100% | ETA: 00:00:00\n",
      "Total time elapsed: 00:00:01\n"
     ]
    },
    {
     "name": "stdout",
     "output_type": "stream",
     "text": [
      "Finished Epoch 2 || Run Time:    1.0 | Load Time:    0.5 || F1:  65.00 | Prec:  49.06 | Rec:  96.30 || Ex/s:  72.26\n",
      "\n",
      "* Best F1: tensor(65., device='cuda:0')\n",
      "Saving best model...\n",
      "Done.\n",
      "---------------------\n",
      "\n",
      "===>  TRAIN Epoch 3\n"
     ]
    },
    {
     "name": "stderr",
     "output_type": "stream",
     "text": [
      "0% [█████] 100% | ETA: 00:00:00\n",
      "Total time elapsed: 00:00:12\n"
     ]
    },
    {
     "name": "stdout",
     "output_type": "stream",
     "text": [
      "Finished Epoch 3 || Run Time:   11.3 | Load Time:    2.3 || F1:  66.46 | Prec:  50.24 | Rec:  98.15 || Ex/s:  29.40\n",
      "\n",
      "===>  EVAL Epoch 3\n"
     ]
    },
    {
     "name": "stderr",
     "output_type": "stream",
     "text": [
      "0% [█] 100% | ETA: 00:00:00\n",
      "Total time elapsed: 00:00:01\n"
     ]
    },
    {
     "name": "stdout",
     "output_type": "stream",
     "text": [
      "Finished Epoch 3 || Run Time:    1.0 | Load Time:    0.5 || F1:  72.22 | Prec:  57.78 | Rec:  96.30 || Ex/s:  71.88\n",
      "\n",
      "* Best F1: tensor(72.2222, device='cuda:0')\n",
      "Saving best model...\n",
      "Done.\n",
      "---------------------\n",
      "\n",
      "===>  TRAIN Epoch 4\n"
     ]
    },
    {
     "name": "stderr",
     "output_type": "stream",
     "text": [
      "0% [█████] 100% | ETA: 00:00:00\n",
      "Total time elapsed: 00:00:13\n"
     ]
    },
    {
     "name": "stdout",
     "output_type": "stream",
     "text": [
      "Finished Epoch 4 || Run Time:   11.5 | Load Time:    2.4 || F1:  81.82 | Prec:  69.23 | Rec: 100.00 || Ex/s:  28.85\n",
      "\n",
      "===>  EVAL Epoch 4\n"
     ]
    },
    {
     "name": "stderr",
     "output_type": "stream",
     "text": [
      "0% [█] 100% | ETA: 00:00:00\n",
      "Total time elapsed: 00:00:01\n"
     ]
    },
    {
     "name": "stdout",
     "output_type": "stream",
     "text": [
      "Finished Epoch 4 || Run Time:    1.0 | Load Time:    0.5 || F1:  70.27 | Prec:  55.32 | Rec:  96.30 || Ex/s:  72.68\n",
      "\n",
      "---------------------\n",
      "\n",
      "===>  TRAIN Epoch 5\n"
     ]
    },
    {
     "name": "stderr",
     "output_type": "stream",
     "text": [
      "0% [█████] 100% | ETA: 00:00:00\n",
      "Total time elapsed: 00:00:12\n"
     ]
    },
    {
     "name": "stdout",
     "output_type": "stream",
     "text": [
      "Finished Epoch 5 || Run Time:   11.2 | Load Time:    2.3 || F1:  95.15 | Prec:  90.76 | Rec: 100.00 || Ex/s:  29.67\n",
      "\n",
      "===>  EVAL Epoch 5\n"
     ]
    },
    {
     "name": "stderr",
     "output_type": "stream",
     "text": [
      "0% [█] 100% | ETA: 00:00:00\n",
      "Total time elapsed: 00:00:01\n"
     ]
    },
    {
     "name": "stdout",
     "output_type": "stream",
     "text": [
      "Finished Epoch 5 || Run Time:    1.0 | Load Time:    0.5 || F1:  76.19 | Prec:  66.67 | Rec:  88.89 || Ex/s:  72.76\n",
      "\n",
      "* Best F1: tensor(76.1905, device='cuda:0')\n",
      "Saving best model...\n",
      "Done.\n",
      "---------------------\n",
      "\n",
      "===>  TRAIN Epoch 6\n"
     ]
    },
    {
     "name": "stderr",
     "output_type": "stream",
     "text": [
      "0% [█████] 100% | ETA: 00:00:00\n",
      "Total time elapsed: 00:00:12\n"
     ]
    },
    {
     "name": "stdout",
     "output_type": "stream",
     "text": [
      "Finished Epoch 6 || Run Time:   11.3 | Load Time:    2.3 || F1:  95.58 | Prec:  91.53 | Rec: 100.00 || Ex/s:  29.45\n",
      "\n",
      "===>  EVAL Epoch 6\n"
     ]
    },
    {
     "name": "stderr",
     "output_type": "stream",
     "text": [
      "0% [█] 100% | ETA: 00:00:00\n",
      "Total time elapsed: 00:00:01\n"
     ]
    },
    {
     "name": "stdout",
     "output_type": "stream",
     "text": [
      "Finished Epoch 6 || Run Time:    1.0 | Load Time:    0.5 || F1:  72.00 | Prec:  56.25 | Rec: 100.00 || Ex/s:  71.66\n",
      "\n",
      "---------------------\n",
      "\n",
      "===>  TRAIN Epoch 7\n"
     ]
    },
    {
     "name": "stderr",
     "output_type": "stream",
     "text": [
      "0% [█████] 100% | ETA: 00:00:00\n",
      "Total time elapsed: 00:00:12\n"
     ]
    },
    {
     "name": "stdout",
     "output_type": "stream",
     "text": [
      "Finished Epoch 7 || Run Time:   11.0 | Load Time:    2.2 || F1:  99.08 | Prec:  98.18 | Rec: 100.00 || Ex/s:  30.41\n",
      "\n",
      "===>  EVAL Epoch 7\n"
     ]
    },
    {
     "name": "stderr",
     "output_type": "stream",
     "text": [
      "0% [█] 100% | ETA: 00:00:00\n",
      "Total time elapsed: 00:00:01\n"
     ]
    },
    {
     "name": "stdout",
     "output_type": "stream",
     "text": [
      "Finished Epoch 7 || Run Time:    1.0 | Load Time:    0.5 || F1:  84.75 | Prec:  78.12 | Rec:  92.59 || Ex/s:  72.26\n",
      "\n",
      "* Best F1: tensor(84.7458, device='cuda:0')\n",
      "Saving best model...\n",
      "Done.\n",
      "---------------------\n",
      "\n",
      "===>  TRAIN Epoch 8\n"
     ]
    },
    {
     "name": "stderr",
     "output_type": "stream",
     "text": [
      "0% [█████] 100% | ETA: 00:00:00\n",
      "Total time elapsed: 00:00:13\n"
     ]
    },
    {
     "name": "stdout",
     "output_type": "stream",
     "text": [
      "Finished Epoch 8 || Run Time:   11.5 | Load Time:    2.4 || F1: 100.00 | Prec: 100.00 | Rec: 100.00 || Ex/s:  28.86\n",
      "\n",
      "===>  EVAL Epoch 8\n"
     ]
    },
    {
     "name": "stderr",
     "output_type": "stream",
     "text": [
      "0% [█] 100% | ETA: 00:00:00\n",
      "Total time elapsed: 00:00:01\n"
     ]
    },
    {
     "name": "stdout",
     "output_type": "stream",
     "text": [
      "Finished Epoch 8 || Run Time:    1.0 | Load Time:    0.5 || F1:  85.25 | Prec:  76.47 | Rec:  96.30 || Ex/s:  72.01\n",
      "\n",
      "* Best F1: tensor(85.2459, device='cuda:0')\n",
      "Saving best model...\n",
      "Done.\n",
      "---------------------\n",
      "\n",
      "===>  TRAIN Epoch 9\n"
     ]
    },
    {
     "name": "stderr",
     "output_type": "stream",
     "text": [
      "0% [█████] 100% | ETA: 00:00:00\n",
      "Total time elapsed: 00:00:12\n"
     ]
    },
    {
     "name": "stdout",
     "output_type": "stream",
     "text": [
      "Finished Epoch 9 || Run Time:   11.3 | Load Time:    2.3 || F1: 100.00 | Prec: 100.00 | Rec: 100.00 || Ex/s:  29.50\n",
      "\n",
      "===>  EVAL Epoch 9\n"
     ]
    },
    {
     "name": "stderr",
     "output_type": "stream",
     "text": [
      "0% [█] 100% | ETA: 00:00:00\n",
      "Total time elapsed: 00:00:01\n"
     ]
    },
    {
     "name": "stdout",
     "output_type": "stream",
     "text": [
      "Finished Epoch 9 || Run Time:    1.0 | Load Time:    0.5 || F1:  80.00 | Prec:  68.42 | Rec:  96.30 || Ex/s:  74.11\n",
      "\n",
      "---------------------\n",
      "\n",
      "===>  TRAIN Epoch 10\n"
     ]
    },
    {
     "name": "stderr",
     "output_type": "stream",
     "text": [
      "0% [█████] 100% | ETA: 00:00:00\n",
      "Total time elapsed: 00:00:12\n"
     ]
    },
    {
     "name": "stdout",
     "output_type": "stream",
     "text": [
      "Finished Epoch 10 || Run Time:   11.3 | Load Time:    2.3 || F1: 100.00 | Prec: 100.00 | Rec: 100.00 || Ex/s:  29.56\n",
      "\n",
      "===>  EVAL Epoch 10\n"
     ]
    },
    {
     "name": "stderr",
     "output_type": "stream",
     "text": [
      "0% [█] 100% | ETA: 00:00:00\n",
      "Total time elapsed: 00:00:01\n"
     ]
    },
    {
     "name": "stdout",
     "output_type": "stream",
     "text": [
      "Finished Epoch 10 || Run Time:    1.0 | Load Time:    0.5 || F1:  81.25 | Prec:  70.27 | Rec:  96.30 || Ex/s:  73.15\n",
      "\n",
      "---------------------\n",
      "\n",
      "===>  TRAIN Epoch 11\n"
     ]
    },
    {
     "name": "stderr",
     "output_type": "stream",
     "text": [
      "0% [█████] 100% | ETA: 00:00:00\n",
      "Total time elapsed: 00:00:12\n"
     ]
    },
    {
     "name": "stdout",
     "output_type": "stream",
     "text": [
      "Finished Epoch 11 || Run Time:   10.8 | Load Time:    2.1 || F1: 100.00 | Prec: 100.00 | Rec: 100.00 || Ex/s:  30.87\n",
      "\n",
      "===>  EVAL Epoch 11\n"
     ]
    },
    {
     "name": "stderr",
     "output_type": "stream",
     "text": [
      "0% [█] 100% | ETA: 00:00:00\n",
      "Total time elapsed: 00:00:01\n"
     ]
    },
    {
     "name": "stdout",
     "output_type": "stream",
     "text": [
      "Finished Epoch 11 || Run Time:    1.0 | Load Time:    0.5 || F1:  81.25 | Prec:  70.27 | Rec:  96.30 || Ex/s:  74.13\n",
      "\n",
      "---------------------\n",
      "\n",
      "===>  TRAIN Epoch 12\n"
     ]
    },
    {
     "name": "stderr",
     "output_type": "stream",
     "text": [
      "0% [█████] 100% | ETA: 00:00:00\n",
      "Total time elapsed: 00:00:12\n"
     ]
    },
    {
     "name": "stdout",
     "output_type": "stream",
     "text": [
      "Finished Epoch 12 || Run Time:   11.3 | Load Time:    2.3 || F1: 100.00 | Prec: 100.00 | Rec: 100.00 || Ex/s:  29.56\n",
      "\n",
      "===>  EVAL Epoch 12\n"
     ]
    },
    {
     "name": "stderr",
     "output_type": "stream",
     "text": [
      "0% [█] 100% | ETA: 00:00:00\n",
      "Total time elapsed: 00:00:01\n"
     ]
    },
    {
     "name": "stdout",
     "output_type": "stream",
     "text": [
      "Finished Epoch 12 || Run Time:    1.0 | Load Time:    0.5 || F1:  81.25 | Prec:  70.27 | Rec:  96.30 || Ex/s:  72.86\n",
      "\n",
      "---------------------\n",
      "\n",
      "===>  TRAIN Epoch 13\n"
     ]
    },
    {
     "name": "stderr",
     "output_type": "stream",
     "text": [
      "0% [█████] 100% | ETA: 00:00:00\n",
      "Total time elapsed: 00:00:12\n"
     ]
    },
    {
     "name": "stdout",
     "output_type": "stream",
     "text": [
      "Finished Epoch 13 || Run Time:   11.3 | Load Time:    2.3 || F1: 100.00 | Prec: 100.00 | Rec: 100.00 || Ex/s:  29.48\n",
      "\n",
      "===>  EVAL Epoch 13\n"
     ]
    },
    {
     "name": "stderr",
     "output_type": "stream",
     "text": [
      "0% [█] 100% | ETA: 00:00:00\n",
      "Total time elapsed: 00:00:01\n"
     ]
    },
    {
     "name": "stdout",
     "output_type": "stream",
     "text": [
      "Finished Epoch 13 || Run Time:    1.0 | Load Time:    0.5 || F1:  81.25 | Prec:  70.27 | Rec:  96.30 || Ex/s:  71.34\n",
      "\n",
      "---------------------\n",
      "\n",
      "===>  TRAIN Epoch 14\n"
     ]
    },
    {
     "name": "stderr",
     "output_type": "stream",
     "text": [
      "0% [█████] 100% | ETA: 00:00:00\n",
      "Total time elapsed: 00:00:13\n"
     ]
    },
    {
     "name": "stdout",
     "output_type": "stream",
     "text": [
      "Finished Epoch 14 || Run Time:   11.6 | Load Time:    2.4 || F1: 100.00 | Prec: 100.00 | Rec: 100.00 || Ex/s:  28.70\n",
      "\n",
      "===>  EVAL Epoch 14\n"
     ]
    },
    {
     "name": "stderr",
     "output_type": "stream",
     "text": [
      "0% [█] 100% | ETA: 00:00:00\n",
      "Total time elapsed: 00:00:01\n"
     ]
    },
    {
     "name": "stdout",
     "output_type": "stream",
     "text": [
      "Finished Epoch 14 || Run Time:    1.0 | Load Time:    0.5 || F1:  81.25 | Prec:  70.27 | Rec:  96.30 || Ex/s:  70.41\n",
      "\n",
      "---------------------\n",
      "\n",
      "===>  TRAIN Epoch 15\n"
     ]
    },
    {
     "name": "stderr",
     "output_type": "stream",
     "text": [
      "0% [█████] 100% | ETA: 00:00:00\n",
      "Total time elapsed: 00:00:13\n"
     ]
    },
    {
     "name": "stdout",
     "output_type": "stream",
     "text": [
      "Finished Epoch 15 || Run Time:   11.6 | Load Time:    2.4 || F1: 100.00 | Prec: 100.00 | Rec: 100.00 || Ex/s:  28.82\n",
      "\n",
      "===>  EVAL Epoch 15\n"
     ]
    },
    {
     "name": "stderr",
     "output_type": "stream",
     "text": [
      "0% [█] 100% | ETA: 00:00:00\n",
      "Total time elapsed: 00:00:01\n"
     ]
    },
    {
     "name": "stdout",
     "output_type": "stream",
     "text": [
      "Finished Epoch 15 || Run Time:    1.0 | Load Time:    0.5 || F1:  81.25 | Prec:  70.27 | Rec:  96.30 || Ex/s:  70.96\n",
      "\n",
      "---------------------\n",
      "\n",
      "===>  TRAIN Epoch 16\n"
     ]
    },
    {
     "name": "stderr",
     "output_type": "stream",
     "text": [
      "0% [█████] 100% | ETA: 00:00:00\n",
      "Total time elapsed: 00:00:13\n"
     ]
    },
    {
     "name": "stdout",
     "output_type": "stream",
     "text": [
      "Finished Epoch 16 || Run Time:   11.6 | Load Time:    2.3 || F1: 100.00 | Prec: 100.00 | Rec: 100.00 || Ex/s:  28.71\n",
      "\n",
      "===>  EVAL Epoch 16\n"
     ]
    },
    {
     "name": "stderr",
     "output_type": "stream",
     "text": [
      "0% [█] 100% | ETA: 00:00:00\n",
      "Total time elapsed: 00:00:01\n"
     ]
    },
    {
     "name": "stdout",
     "output_type": "stream",
     "text": [
      "Finished Epoch 16 || Run Time:    1.0 | Load Time:    0.5 || F1:  81.25 | Prec:  70.27 | Rec:  96.30 || Ex/s:  71.28\n",
      "\n",
      "---------------------\n",
      "\n",
      "===>  TRAIN Epoch 17\n"
     ]
    },
    {
     "name": "stderr",
     "output_type": "stream",
     "text": [
      "0% [█████] 100% | ETA: 00:00:00\n",
      "Total time elapsed: 00:00:13\n"
     ]
    },
    {
     "name": "stdout",
     "output_type": "stream",
     "text": [
      "Finished Epoch 17 || Run Time:   11.6 | Load Time:    2.4 || F1: 100.00 | Prec: 100.00 | Rec: 100.00 || Ex/s:  28.83\n",
      "\n",
      "===>  EVAL Epoch 17\n"
     ]
    },
    {
     "name": "stderr",
     "output_type": "stream",
     "text": [
      "0% [█] 100% | ETA: 00:00:00\n",
      "Total time elapsed: 00:00:01\n"
     ]
    },
    {
     "name": "stdout",
     "output_type": "stream",
     "text": [
      "Finished Epoch 17 || Run Time:    1.0 | Load Time:    0.5 || F1:  81.25 | Prec:  70.27 | Rec:  96.30 || Ex/s:  71.14\n",
      "\n",
      "---------------------\n",
      "\n",
      "===>  TRAIN Epoch 18\n"
     ]
    },
    {
     "name": "stderr",
     "output_type": "stream",
     "text": [
      "0% [█████] 100% | ETA: 00:00:00\n",
      "Total time elapsed: 00:00:13\n"
     ]
    },
    {
     "name": "stdout",
     "output_type": "stream",
     "text": [
      "Finished Epoch 18 || Run Time:   11.6 | Load Time:    2.4 || F1: 100.00 | Prec: 100.00 | Rec: 100.00 || Ex/s:  28.65\n",
      "\n",
      "===>  EVAL Epoch 18\n"
     ]
    },
    {
     "name": "stderr",
     "output_type": "stream",
     "text": [
      "0% [█] 100% | ETA: 00:00:00\n",
      "Total time elapsed: 00:00:01\n"
     ]
    },
    {
     "name": "stdout",
     "output_type": "stream",
     "text": [
      "Finished Epoch 18 || Run Time:    1.0 | Load Time:    0.5 || F1:  81.25 | Prec:  70.27 | Rec:  96.30 || Ex/s:  71.48\n",
      "\n",
      "---------------------\n",
      "\n",
      "===>  TRAIN Epoch 19\n"
     ]
    },
    {
     "name": "stderr",
     "output_type": "stream",
     "text": [
      "0% [█████] 100% | ETA: 00:00:00\n",
      "Total time elapsed: 00:00:13\n"
     ]
    },
    {
     "name": "stdout",
     "output_type": "stream",
     "text": [
      "Finished Epoch 19 || Run Time:   11.5 | Load Time:    2.3 || F1: 100.00 | Prec: 100.00 | Rec: 100.00 || Ex/s:  28.98\n",
      "\n",
      "===>  EVAL Epoch 19\n"
     ]
    },
    {
     "name": "stderr",
     "output_type": "stream",
     "text": [
      "0% [█] 100% | ETA: 00:00:00\n",
      "Total time elapsed: 00:00:01\n"
     ]
    },
    {
     "name": "stdout",
     "output_type": "stream",
     "text": [
      "Finished Epoch 19 || Run Time:    1.0 | Load Time:    0.5 || F1:  81.25 | Prec:  70.27 | Rec:  96.30 || Ex/s:  70.35\n",
      "\n",
      "---------------------\n",
      "\n",
      "===>  TRAIN Epoch 20\n"
     ]
    },
    {
     "name": "stderr",
     "output_type": "stream",
     "text": [
      "0% [█████] 100% | ETA: 00:00:00\n",
      "Total time elapsed: 00:00:12\n"
     ]
    },
    {
     "name": "stdout",
     "output_type": "stream",
     "text": [
      "Finished Epoch 20 || Run Time:   11.3 | Load Time:    2.3 || F1: 100.00 | Prec: 100.00 | Rec: 100.00 || Ex/s:  29.47\n",
      "\n",
      "===>  EVAL Epoch 20\n"
     ]
    },
    {
     "name": "stderr",
     "output_type": "stream",
     "text": [
      "0% [█] 100% | ETA: 00:00:00\n",
      "Total time elapsed: 00:00:01\n"
     ]
    },
    {
     "name": "stdout",
     "output_type": "stream",
     "text": [
      "Finished Epoch 20 || Run Time:    1.0 | Load Time:    0.5 || F1:  81.25 | Prec:  70.27 | Rec:  96.30 || Ex/s:  71.38\n",
      "\n",
      "---------------------\n",
      "\n",
      "===>  TRAIN Epoch 21\n"
     ]
    },
    {
     "name": "stderr",
     "output_type": "stream",
     "text": [
      "0% [█████] 100% | ETA: 00:00:00\n",
      "Total time elapsed: 00:00:12\n"
     ]
    },
    {
     "name": "stdout",
     "output_type": "stream",
     "text": [
      "Finished Epoch 21 || Run Time:   11.3 | Load Time:    2.3 || F1: 100.00 | Prec: 100.00 | Rec: 100.00 || Ex/s:  29.43\n",
      "\n",
      "===>  EVAL Epoch 21\n"
     ]
    },
    {
     "name": "stderr",
     "output_type": "stream",
     "text": [
      "0% [█] 100% | ETA: 00:00:00\n",
      "Total time elapsed: 00:00:01\n"
     ]
    },
    {
     "name": "stdout",
     "output_type": "stream",
     "text": [
      "Finished Epoch 21 || Run Time:    1.0 | Load Time:    0.5 || F1:  81.25 | Prec:  70.27 | Rec:  96.30 || Ex/s:  70.69\n",
      "\n",
      "---------------------\n",
      "\n",
      "===>  TRAIN Epoch 22\n"
     ]
    },
    {
     "name": "stderr",
     "output_type": "stream",
     "text": [
      "0% [█████] 100% | ETA: 00:00:00\n",
      "Total time elapsed: 00:00:13\n"
     ]
    },
    {
     "name": "stdout",
     "output_type": "stream",
     "text": [
      "Finished Epoch 22 || Run Time:   11.6 | Load Time:    2.4 || F1: 100.00 | Prec: 100.00 | Rec: 100.00 || Ex/s:  28.74\n",
      "\n",
      "===>  EVAL Epoch 22\n"
     ]
    },
    {
     "name": "stderr",
     "output_type": "stream",
     "text": [
      "0% [█] 100% | ETA: 00:00:00\n",
      "Total time elapsed: 00:00:01\n"
     ]
    },
    {
     "name": "stdout",
     "output_type": "stream",
     "text": [
      "Finished Epoch 22 || Run Time:    1.0 | Load Time:    0.5 || F1:  81.25 | Prec:  70.27 | Rec:  96.30 || Ex/s:  71.17\n",
      "\n",
      "---------------------\n",
      "\n",
      "===>  TRAIN Epoch 23\n"
     ]
    },
    {
     "name": "stderr",
     "output_type": "stream",
     "text": [
      "0% [█████] 100% | ETA: 00:00:00\n",
      "Total time elapsed: 00:00:13\n"
     ]
    },
    {
     "name": "stdout",
     "output_type": "stream",
     "text": [
      "Finished Epoch 23 || Run Time:   11.6 | Load Time:    2.3 || F1: 100.00 | Prec: 100.00 | Rec: 100.00 || Ex/s:  28.74\n",
      "\n",
      "===>  EVAL Epoch 23\n"
     ]
    },
    {
     "name": "stderr",
     "output_type": "stream",
     "text": [
      "0% [█] 100% | ETA: 00:00:00\n",
      "Total time elapsed: 00:00:01\n"
     ]
    },
    {
     "name": "stdout",
     "output_type": "stream",
     "text": [
      "Finished Epoch 23 || Run Time:    1.0 | Load Time:    0.5 || F1:  81.25 | Prec:  70.27 | Rec:  96.30 || Ex/s:  71.59\n",
      "\n",
      "---------------------\n",
      "\n",
      "===>  TRAIN Epoch 24\n"
     ]
    },
    {
     "name": "stderr",
     "output_type": "stream",
     "text": [
      "0% [█████] 100% | ETA: 00:00:00\n",
      "Total time elapsed: 00:00:13\n"
     ]
    },
    {
     "name": "stdout",
     "output_type": "stream",
     "text": [
      "Finished Epoch 24 || Run Time:   11.7 | Load Time:    2.4 || F1: 100.00 | Prec: 100.00 | Rec: 100.00 || Ex/s:  28.62\n",
      "\n",
      "===>  EVAL Epoch 24\n"
     ]
    },
    {
     "name": "stderr",
     "output_type": "stream",
     "text": [
      "0% [█] 100% | ETA: 00:00:00\n",
      "Total time elapsed: 00:00:01\n"
     ]
    },
    {
     "name": "stdout",
     "output_type": "stream",
     "text": [
      "Finished Epoch 24 || Run Time:    1.0 | Load Time:    0.5 || F1:  81.25 | Prec:  70.27 | Rec:  96.30 || Ex/s:  71.42\n",
      "\n",
      "---------------------\n",
      "\n",
      "===>  TRAIN Epoch 25\n"
     ]
    },
    {
     "name": "stderr",
     "output_type": "stream",
     "text": [
      "0% [█████] 100% | ETA: 00:00:00\n",
      "Total time elapsed: 00:00:12\n"
     ]
    },
    {
     "name": "stdout",
     "output_type": "stream",
     "text": [
      "Finished Epoch 25 || Run Time:   11.4 | Load Time:    2.3 || F1: 100.00 | Prec: 100.00 | Rec: 100.00 || Ex/s:  29.13\n",
      "\n",
      "===>  EVAL Epoch 25\n"
     ]
    },
    {
     "name": "stderr",
     "output_type": "stream",
     "text": [
      "0% [█] 100% | ETA: 00:00:00\n",
      "Total time elapsed: 00:00:01\n"
     ]
    },
    {
     "name": "stdout",
     "output_type": "stream",
     "text": [
      "Finished Epoch 25 || Run Time:    1.0 | Load Time:    0.5 || F1:  81.25 | Prec:  70.27 | Rec:  96.30 || Ex/s:  70.78\n",
      "\n",
      "---------------------\n",
      "\n",
      "Loading best model...\n",
      "Training done.\n"
     ]
    },
    {
     "data": {
      "text/plain": [
       "tensor(85.2459, device='cuda:0')"
      ]
     },
     "execution_count": 75,
     "metadata": {},
     "output_type": "execute_result"
    }
   ],
   "source": [
    "hybrid_model = dm.MatchingModel(attr_summarizer='hybrid')\n",
    "hybrid_model.run_train(train,validation,pos_neg_ratio=5,\n",
    "                      batch_size=16,epochs=25,best_save_path='itunesamazon_impr.pth')"
   ]
  },
  {
   "cell_type": "code",
   "execution_count": 76,
   "metadata": {
    "ExecuteTime": {
     "end_time": "2020-02-09T17:19:30.136901Z",
     "start_time": "2020-02-09T17:19:28.886499Z"
    }
   },
   "outputs": [
    {
     "name": "stdout",
     "output_type": "stream",
     "text": [
      "===>  EVAL Epoch 8\n",
      "Finished Epoch 8 || Run Time:    0.6 | Load Time:    0.6 || F1:  86.21 | Prec:  80.65 | Rec:  92.59 || Ex/s:  91.97\n",
      "\n"
     ]
    },
    {
     "data": {
      "text/plain": [
       "tensor(86.2069, device='cuda:0')"
      ]
     },
     "execution_count": 76,
     "metadata": {},
     "output_type": "execute_result"
    }
   ],
   "source": [
    "hybrid_model.run_eval(test)"
   ]
  },
  {
   "cell_type": "code",
   "execution_count": 77,
   "metadata": {
    "ExecuteTime": {
     "end_time": "2020-02-09T17:19:34.853185Z",
     "start_time": "2020-02-09T17:19:33.248785Z"
    }
   },
   "outputs": [
    {
     "data": {
      "text/plain": [
       "(0.7903955578804016, 0.011770060641655073)"
      ]
     },
     "execution_count": 77,
     "metadata": {},
     "output_type": "execute_result"
    }
   ],
   "source": [
    "standard_test = pd.read_csv(ITUNES_DIR+'merged_test.csv')\n",
    "getMeanConfidenceAndVariance(hybrid_model,standard_test)"
   ]
  },
  {
   "cell_type": "markdown",
   "metadata": {},
   "source": [
    "### Evaluate first retrain"
   ]
  },
  {
   "cell_type": "code",
   "execution_count": 6,
   "metadata": {
    "ExecuteTime": {
     "end_time": "2020-02-14T16:59:55.744792Z",
     "start_time": "2020-02-14T16:59:50.493217Z"
    }
   },
   "outputs": [],
   "source": [
    "retrained1 = dm.MatchingModel(attr_summarizer='hybrid')\n",
    "retrained1.load_state('models/beer_improved_hybrid.pth')\n",
    "retrained1 = retrained1.to('cuda')"
   ]
  },
  {
   "cell_type": "code",
   "execution_count": 8,
   "metadata": {
    "ExecuteTime": {
     "end_time": "2020-02-14T17:00:09.122931Z",
     "start_time": "2020-02-14T17:00:09.063672Z"
    }
   },
   "outputs": [],
   "source": [
    "augmented_test = pd.read_csv(DATASET_DIR+'augmented_test.csv')"
   ]
  },
  {
   "cell_type": "code",
   "execution_count": 19,
   "metadata": {
    "ExecuteTime": {
     "end_time": "2020-02-14T17:04:04.265716Z",
     "start_time": "2020-02-14T17:04:03.325579Z"
    }
   },
   "outputs": [],
   "source": [
    "predictions1 = wrapDm(augmented_test,retrained1,ignore_columns=['ltable_id','rtable_id','id','label'])\n",
    "tp_group = augmented_test[(predictions1[:,1]>=0.5)& (augmented_test['label'] == 1)]\n",
    "tn_group = augmented_test[(predictions1[:,0] >=0.5)& (augmented_test['label']==0)]\n",
    "correctPredictions1 = pd.concat([tp_group,tn_group])"
   ]
  },
  {
   "cell_type": "code",
   "execution_count": 14,
   "metadata": {
    "ExecuteTime": {
     "end_time": "2020-02-14T17:02:23.497732Z",
     "start_time": "2020-02-14T17:01:27.749507Z"
    }
   },
   "outputs": [
    {
     "name": "stderr",
     "output_type": "stream",
     "text": [
      "100%|██████████| 52/52 [00:55<00:00,  1.07s/it]\n"
     ]
    }
   ],
   "source": [
    "neg_rankings1,neg_triangles1,flipped_neg1,notFlipped_neg1 = explainSamples(\n",
    "    correctPredictions1,[tableA,tableB],\n",
    "    retrained1,originalClass=0,maxLenAttributeSet=4)"
   ]
  },
  {
   "cell_type": "code",
   "execution_count": 17,
   "metadata": {
    "ExecuteTime": {
     "end_time": "2020-02-14T17:02:39.522594Z",
     "start_time": "2020-02-14T17:02:39.244742Z"
    },
    "scrolled": true
   },
   "outputs": [
    {
     "data": {
      "image/png": "[encoded data removed]",
      "text/plain": [
       "<Figure size 288x288 with 1 Axes>"
      ]
     },
     "metadata": {
      "needs_background": "light"
     },
     "output_type": "display_data"
    }
   ],
   "source": [
    "ax,negRank1  = aggregateRankings(neg_rankings1,positive=False,maxLenAttributes=1)"
   ]
  },
  {
   "cell_type": "code",
   "execution_count": 20,
   "metadata": {
    "ExecuteTime": {
     "end_time": "2020-02-14T17:05:11.206545Z",
     "start_time": "2020-02-14T17:04:13.999146Z"
    }
   },
   "outputs": [
    {
     "name": "stderr",
     "output_type": "stream",
     "text": [
      "100%|██████████| 52/52 [00:56<00:00,  1.10s/it]\n"
     ]
    }
   ],
   "source": [
    "pos_rankings1,pos_triangles1,flipped_pos1,notFlipped_pos1 = explainSamples(\n",
    "    correctPredictions1,[tableA,tableB]\n",
    "    ,retrained1,originalClass=1,maxLenAttributeSet=4)"
   ]
  },
  {
   "cell_type": "code",
   "execution_count": 21,
   "metadata": {
    "ExecuteTime": {
     "end_time": "2020-02-14T17:05:24.350960Z",
     "start_time": "2020-02-14T17:05:24.056655Z"
    }
   },
   "outputs": [
    {
     "data": {
      "image/png": "[encoded data removed]",
      "text/plain": [
       "<Figure size 288x288 with 1 Axes>"
      ]
     },
     "metadata": {
      "needs_background": "light"
     },
     "output_type": "display_data"
    }
   ],
   "source": [
    "ax,posRank1 = aggregateRankings(pos_rankings1,positive=True,maxLenAttributes=1)"
   ]
  },
  {
   "cell_type": "markdown",
   "metadata": {},
   "source": [
    "### Analyze patterns"
   ]
  },
  {
   "cell_type": "code",
   "execution_count": 31,
   "metadata": {
    "ExecuteTime": {
     "end_time": "2020-02-14T17:12:27.243343Z",
     "start_time": "2020-02-14T17:12:26.071025Z"
    }
   },
   "outputs": [
    {
     "data": {
      "image/png": "[encoded data removed]",
      "text/plain": [
       "<Figure size 1440x360 with 1 Axes>"
      ]
     },
     "metadata": {
      "needs_background": "light"
     },
     "output_type": "display_data"
    }
   ],
   "source": [
    "import matplotlib.pyplot as plt\n",
    "import numpy as np\n",
    "df = flipped_pos1[flipped_pos1.alteredAttribute==('Beer_Name',)]\n",
    "D = countTokens(df.rtable_Beer_Name.values)\n",
    "fig, ax = plt.subplots(figsize=(20,5))\n",
    "x = list(D.keys())\n",
    "y = list(D.values())\n",
    "ax.bar(x,y,align='center')\n",
    "plt.xticks(np.arange(len(x)),x, rotation='vertical')\n",
    "plt.show()"
   ]
  },
  {
   "cell_type": "code",
   "execution_count": 35,
   "metadata": {
    "ExecuteTime": {
     "end_time": "2020-02-14T17:18:02.911805Z",
     "start_time": "2020-02-14T17:18:02.865327Z"
    }
   },
   "outputs": [
    {
     "data": {
      "text/plain": [
       "(25, 42)"
      ]
     },
     "execution_count": 35,
     "metadata": {},
     "output_type": "execute_result"
    }
   ],
   "source": [
    "neg = correctPredictions1[correctPredictions1.label==0]\n",
    "containTokens(neg.ltable_Beer_Name.values,['imperial','red','ale']),containTokens(neg.rtable_Beer_Name.values\n",
    "                                                                              ,['imperial','red','ale'])"
   ]
  },
  {
   "cell_type": "code",
   "execution_count": 36,
   "metadata": {
    "ExecuteTime": {
     "end_time": "2020-02-14T17:21:16.974197Z",
     "start_time": "2020-02-14T17:21:16.347540Z"
    }
   },
   "outputs": [
    {
     "data": {
      "image/png": "[encoded data removed]",
      "text/plain": [
       "<Figure size 1440x360 with 1 Axes>"
      ]
     },
     "metadata": {
      "needs_background": "light"
     },
     "output_type": "display_data"
    }
   ],
   "source": [
    "df = flipped_neg1[flipped_neg1.alteredAttribute==('Beer_Name',)]\n",
    "D = countTokens(df.rtable_Beer_Name.values)\n",
    "fig, ax = plt.subplots(figsize=(20,5))\n",
    "x = list(D.keys())\n",
    "y = list(D.values())\n",
    "ax.bar(x,y,align='center')\n",
    "plt.xticks(np.arange(len(x)),x, rotation='vertical')\n",
    "plt.show()"
   ]
  },
  {
   "cell_type": "code",
   "execution_count": 128,
   "metadata": {
    "ExecuteTime": {
     "end_time": "2020-02-14T18:02:56.331372Z",
     "start_time": "2020-02-14T18:02:56.271483Z"
    }
   },
   "outputs": [
    {
     "data": {
      "text/plain": [
       "[('ale', 1414),\n",
       " ('red', 1287),\n",
       " ('amber', 948),\n",
       " (\"'s\", 268),\n",
       " ('the', 146),\n",
       " ('imperial', 130),\n",
       " ('(', 90),\n",
       " (')', 90),\n",
       " ('barleywine', 88),\n",
       " ('barrel', 83)]"
      ]
     },
     "execution_count": 128,
     "metadata": {},
     "output_type": "execute_result"
    }
   ],
   "source": [
    "import collections\n",
    "allTokensTableA = countTokens(tableA.Beer_Name.values)\n",
    "collections.Counter(allTokensTableA).most_common(10)"
   ]
  },
  {
   "cell_type": "code",
   "execution_count": 129,
   "metadata": {
    "ExecuteTime": {
     "end_time": "2020-02-14T18:03:26.609025Z",
     "start_time": "2020-02-14T18:03:26.550692Z"
    }
   },
   "outputs": [
    {
     "data": {
      "text/plain": [
       "[('ale', 1178),\n",
       " ('red', 859),\n",
       " ('amber', 681),\n",
       " ('the', 126),\n",
       " ('imperial', 104),\n",
       " ('barrel', 95),\n",
       " ('big', 89),\n",
       " ('ipa', 84),\n",
       " ('&#40;', 76),\n",
       " ('&#41;', 76)]"
      ]
     },
     "execution_count": 129,
     "metadata": {},
     "output_type": "execute_result"
    }
   ],
   "source": [
    "allTokensTableB = countTokens(tableB.Beer_Name.values)\n",
    "collections.Counter(allTokensTableB).most_common(10)"
   ]
  },
  {
   "cell_type": "markdown",
   "metadata": {},
   "source": [
    "## Test bias"
   ]
  },
  {
   "cell_type": "code",
   "execution_count": 62,
   "metadata": {
    "ExecuteTime": {
     "end_time": "2020-02-14T17:33:40.946211Z",
     "start_time": "2020-02-14T17:33:40.896832Z"
    }
   },
   "outputs": [
    {
     "data": {
      "text/plain": [
       "14"
      ]
     },
     "execution_count": 62,
     "metadata": {},
     "output_type": "execute_result"
    }
   ],
   "source": [
    "test_df = pd.read_csv(DATASET_DIR+'merged_test.csv')\n",
    "positives = test_df[test_df.label==1].copy()\n",
    "len(positives)"
   ]
  },
  {
   "cell_type": "code",
   "execution_count": 63,
   "metadata": {
    "ExecuteTime": {
     "end_time": "2020-02-14T17:33:42.587989Z",
     "start_time": "2020-02-14T17:33:42.264476Z"
    }
   },
   "outputs": [],
   "source": [
    "standard_pred = wrapDm(positives,standard_model)"
   ]
  },
  {
   "cell_type": "code",
   "execution_count": 64,
   "metadata": {
    "ExecuteTime": {
     "end_time": "2020-02-14T17:33:42.993565Z",
     "start_time": "2020-02-14T17:33:42.959763Z"
    }
   },
   "outputs": [
    {
     "data": {
      "text/plain": [
       "array([1, 1, 1, 1, 1, 0, 1, 1, 1, 0, 1, 1, 1, 1])"
      ]
     },
     "execution_count": 64,
     "metadata": {},
     "output_type": "execute_result"
    }
   ],
   "source": [
    "np.argmax(standard_pred,axis=1)"
   ]
  },
  {
   "cell_type": "code",
   "execution_count": 65,
   "metadata": {
    "ExecuteTime": {
     "end_time": "2020-02-14T17:33:44.170995Z",
     "start_time": "2020-02-14T17:33:44.136548Z"
    }
   },
   "outputs": [],
   "source": [
    "positives['ltable_Beer_Name'] = positives['ltable_Beer_Name']+'imperial red ale'\n",
    "positives['rtable_Beer_Name'] = positives['rtable_Beer_Name']+'imperial red ale'"
   ]
  },
  {
   "cell_type": "code",
   "execution_count": 66,
   "metadata": {
    "ExecuteTime": {
     "end_time": "2020-02-14T17:33:45.070375Z",
     "start_time": "2020-02-14T17:33:44.743783Z"
    }
   },
   "outputs": [
    {
     "data": {
      "text/plain": [
       "(array([0]), array([14]))"
      ]
     },
     "execution_count": 66,
     "metadata": {},
     "output_type": "execute_result"
    }
   ],
   "source": [
    "bias_pred = wrapDm(positives,standard_model)\n",
    "unique,counts = np.unique(np.argmax(bias_pred,axis=1),return_counts=True)\n",
    "unique,counts"
   ]
  },
  {
   "cell_type": "code",
   "execution_count": 67,
   "metadata": {
    "ExecuteTime": {
     "end_time": "2020-02-14T17:33:46.760828Z",
     "start_time": "2020-02-14T17:33:46.416211Z"
    }
   },
   "outputs": [
    {
     "data": {
      "text/plain": [
       "(array([0, 1]), array([5, 9]))"
      ]
     },
     "execution_count": 67,
     "metadata": {},
     "output_type": "execute_result"
    }
   ],
   "source": [
    "improved_pred = wrapDm(positives,retrained1)\n",
    "unique,counts = np.unique(np.argmax(improved_pred,axis=1),return_counts=True)\n",
    "unique,counts"
   ]
  },
  {
   "cell_type": "code",
   "execution_count": 108,
   "metadata": {
    "ExecuteTime": {
     "end_time": "2020-02-14T17:49:49.174399Z",
     "start_time": "2020-02-14T17:49:49.132803Z"
    }
   },
   "outputs": [],
   "source": [
    "negatives = test_df[test_df.label==0].copy()"
   ]
  },
  {
   "cell_type": "code",
   "execution_count": 100,
   "metadata": {
    "ExecuteTime": {
     "end_time": "2020-02-14T17:46:58.423023Z",
     "start_time": "2020-02-14T17:46:58.390298Z"
    }
   },
   "outputs": [],
   "source": [
    "def dropTokens(attr,tokensToDrop=['imperial','red','ale']):\n",
    "    newAttr = [s.lower() for s in attr.split() if s.lower() not in tokensToDrop]\n",
    "    return \" \".join(newAttr)"
   ]
  },
  {
   "cell_type": "code",
   "execution_count": 114,
   "metadata": {
    "ExecuteTime": {
     "end_time": "2020-02-14T17:51:04.540493Z",
     "start_time": "2020-02-14T17:51:04.494600Z"
    }
   },
   "outputs": [],
   "source": [
    "negatives['ltable_Beer_Name'] = negatives['ltable_Beer_Name'].apply(dropTokens)\n",
    "negatives['rtable_Beer_Name'] = negatives['rtable_Beer_Name'].apply(dropTokens)"
   ]
  },
  {
   "cell_type": "code",
   "execution_count": 115,
   "metadata": {
    "ExecuteTime": {
     "end_time": "2020-02-14T17:51:05.759517Z",
     "start_time": "2020-02-14T17:51:05.141162Z"
    }
   },
   "outputs": [
    {
     "data": {
      "text/plain": [
       "(array([0, 1]), array([16, 61]))"
      ]
     },
     "execution_count": 115,
     "metadata": {},
     "output_type": "execute_result"
    }
   ],
   "source": [
    "negPred = wrapDm(negatives,standard_model)\n",
    "unique,counts = np.unique(np.argmax(negPred,axis=1),return_counts=True)\n",
    "unique,counts"
   ]
  },
  {
   "cell_type": "code",
   "execution_count": 116,
   "metadata": {
    "ExecuteTime": {
     "end_time": "2020-02-14T17:51:07.560105Z",
     "start_time": "2020-02-14T17:51:06.864848Z"
    }
   },
   "outputs": [
    {
     "data": {
      "text/plain": [
       "(array([0, 1]), array([19, 58]))"
      ]
     },
     "execution_count": 116,
     "metadata": {},
     "output_type": "execute_result"
    }
   ],
   "source": [
    "negPred_improved = wrapDm(negatives,retrained1)\n",
    "unique,counts = np.unique(np.argmax(negPred_improved,axis=1),return_counts=True)\n",
    "unique,counts"
   ]
  },
  {
   "cell_type": "code",
   "execution_count": null,
   "metadata": {},
   "outputs": [],
   "source": []
  }
 ],
 "metadata": {
  "kernelspec": {
   "display_name": "Python 3",
   "language": "python",
   "name": "python3"
  },
  "language_info": {
   "codemirror_mode": {
    "name": "ipython",
    "version": 3
   },
   "file_extension": ".py",
   "mimetype": "text/x-python",
   "name": "python",
   "nbconvert_exporter": "python",
   "pygments_lexer": "ipython3",
   "version": "3.6.10"
  },
  "toc": {
   "base_numbering": 1,
   "nav_menu": {},
   "number_sections": true,
   "sideBar": true,
   "skip_h1_title": false,
   "title_cell": "Table of Contents",
   "title_sidebar": "Contents",
   "toc_cell": false,
   "toc_position": {
    "height": "calc(100% - 180px)",
    "left": "10px",
    "top": "150px",
    "width": "383.984px"
   },
   "toc_section_display": true,
   "toc_window_display": true
  }
 },
 "nbformat": 4,
 "nbformat_minor": 4
}

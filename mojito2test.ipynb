{
 "cells": [
  {
   "cell_type": "code",
   "execution_count": 1,
   "metadata": {
    "ExecuteTime": {
     "end_time": "2020-02-05T15:05:21.563788Z",
     "start_time": "2020-02-05T15:05:21.547070Z"
    }
   },
   "outputs": [],
   "source": [
    "%load_ext autoreload\n",
    "%autoreload 2"
   ]
  },
  {
   "cell_type": "code",
   "execution_count": 2,
   "metadata": {
    "ExecuteTime": {
     "end_time": "2020-02-05T15:05:23.345922Z",
     "start_time": "2020-02-05T15:05:22.014786Z"
    }
   },
   "outputs": [],
   "source": [
    "import pandas as pd\n",
    "import deepmatcher as dmf\n",
    "from utils.mojito2 import createTriangle,getPositiveCandidates,getNegativeCandidates\n",
    "from utils.dataset_parser import getFullDataset\n",
    "from utils.sampleBuilder import buildNegativeFromSample"
   ]
  },
  {
   "cell_type": "code",
   "execution_count": 3,
   "metadata": {
    "ExecuteTime": {
     "end_time": "2020-02-05T15:05:23.557061Z",
     "start_time": "2020-02-05T15:05:23.349479Z"
    }
   },
   "outputs": [],
   "source": [
    "DATASET_DIR = 'datasets/Structured/itunes-amazon/'\n",
    "tableA = pd.read_csv(DATASET_DIR+'tableA.csv')\n",
    "tableB = pd.read_csv(DATASET_DIR+'tableB.csv')"
   ]
  },
  {
   "cell_type": "code",
   "execution_count": 6,
   "metadata": {
    "ExecuteTime": {
     "end_time": "2020-02-05T15:06:19.374014Z",
     "start_time": "2020-02-05T15:06:19.325993Z"
    }
   },
   "outputs": [],
   "source": [
    "from similarity.jaccard import Jaccard\n",
    "jaccard = Jaccard(3)\n",
    "newNeg = buildNegativeFromSample(23,10,tableA,tableB,[jaccard],0.5)"
   ]
  },
  {
   "cell_type": "code",
   "execution_count": 7,
   "metadata": {
    "ExecuteTime": {
     "end_time": "2020-02-05T15:06:24.963319Z",
     "start_time": "2020-02-05T15:06:24.921437Z"
    }
   },
   "outputs": [
    {
     "data": {
      "text/plain": [
       "[(23, 25504),\n",
       " (23, 41699),\n",
       " (23, 24580),\n",
       " (23, 42084),\n",
       " (23, 14243),\n",
       " (23, 11656),\n",
       " (23, 32522),\n",
       " (23, 29005),\n",
       " (23, 5624),\n",
       " (23, 30458)]"
      ]
     },
     "execution_count": 7,
     "metadata": {},
     "output_type": "execute_result"
    }
   ],
   "source": [
    "newNeg"
   ]
  },
  {
   "cell_type": "code",
   "execution_count": null,
   "metadata": {
    "ExecuteTime": {
     "end_time": "2020-02-02T16:01:43.136946Z",
     "start_time": "2020-02-02T16:01:42.874016Z"
    }
   },
   "outputs": [],
   "source": [
    "itunes_data = getFullDataset(DATASET_DIR,['train.csv','valid.csv','test.csv'],left_prefix='ltable_',\n",
    "                            right_prefix='rtable_')\n",
    "colForDrop = [col for col in list(itunes_data) if col not in ['id','ltable_id','rtable_id','label']]\n",
    "itunes_data = itunes_data.drop_duplicates(colForDrop)\n",
    "itunes_data.shape"
   ]
  },
  {
   "cell_type": "code",
   "execution_count": null,
   "metadata": {
    "ExecuteTime": {
     "end_time": "2020-02-02T16:20:39.170521Z",
     "start_time": "2020-02-02T16:20:38.601489Z"
    }
   },
   "outputs": [],
   "source": [
    "negativeTriangles = getNegativeCandidates(itunes_data,[tableA,tableB])\n",
    "len(negativeTriangles)"
   ]
  },
  {
   "cell_type": "code",
   "execution_count": null,
   "metadata": {
    "ExecuteTime": {
     "end_time": "2020-02-02T16:43:27.828736Z",
     "start_time": "2020-02-02T16:43:27.784287Z"
    }
   },
   "outputs": [],
   "source": [
    "negativeTriangles[]"
   ]
  },
  {
   "cell_type": "code",
   "execution_count": null,
   "metadata": {
    "ExecuteTime": {
     "end_time": "2020-02-02T16:43:39.908730Z",
     "start_time": "2020-02-02T16:43:39.847627Z"
    }
   },
   "outputs": [],
   "source": [
    "itunes_data[itunes_data.rtable_id ==28025]"
   ]
  },
  {
   "cell_type": "code",
   "execution_count": null,
   "metadata": {
    "ExecuteTime": {
     "end_time": "2020-02-02T16:43:52.155293Z",
     "start_time": "2020-02-02T16:43:52.088438Z"
    }
   },
   "outputs": [],
   "source": [
    "itunes_data[itunes_data.ltable_id==1263]"
   ]
  },
  {
   "cell_type": "code",
   "execution_count": null,
   "metadata": {
    "ExecuteTime": {
     "end_time": "2020-02-02T16:15:21.016198Z",
     "start_time": "2020-02-02T16:15:20.952285Z"
    }
   },
   "outputs": [],
   "source": [
    "itunes_data[itunes_data.rtable_id==9941]"
   ]
  },
  {
   "cell_type": "code",
   "execution_count": null,
   "metadata": {
    "ExecuteTime": {
     "end_time": "2020-02-02T15:51:19.008118Z",
     "start_time": "2020-02-02T15:51:18.974231Z"
    }
   },
   "outputs": [],
   "source": [
    "tableA.shape"
   ]
  },
  {
   "cell_type": "code",
   "execution_count": null,
   "metadata": {
    "ExecuteTime": {
     "end_time": "2020-02-02T15:52:27.949690Z",
     "start_time": "2020-02-02T15:52:27.900096Z"
    }
   },
   "outputs": [],
   "source": [
    "colForDup = [col for col in list(tableA) if col not in ['id']]\n",
    "tableA = tableA.drop_duplicates(colForDup)"
   ]
  },
  {
   "cell_type": "code",
   "execution_count": null,
   "metadata": {
    "ExecuteTime": {
     "end_time": "2020-02-02T15:52:34.090505Z",
     "start_time": "2020-02-02T15:52:34.059647Z"
    }
   },
   "outputs": [],
   "source": [
    "tableA.shape"
   ]
  },
  {
   "cell_type": "code",
   "execution_count": null,
   "metadata": {
    "ExecuteTime": {
     "end_time": "2020-02-02T15:52:43.593418Z",
     "start_time": "2020-02-02T15:52:43.564100Z"
    }
   },
   "outputs": [],
   "source": [
    "tableA.shape"
   ]
  },
  {
   "cell_type": "code",
   "execution_count": null,
   "metadata": {},
   "outputs": [],
   "source": []
  }
 ],
 "metadata": {
  "kernelspec": {
   "display_name": "Python 3",
   "language": "python",
   "name": "python3"
  },
  "language_info": {
   "codemirror_mode": {
    "name": "ipython",
    "version": 3
   },
   "file_extension": ".py",
   "mimetype": "text/x-python",
   "name": "python",
   "nbconvert_exporter": "python",
   "pygments_lexer": "ipython3",
   "version": "3.6.10"
  },
  "toc": {
   "base_numbering": 1,
   "nav_menu": {},
   "number_sections": true,
   "sideBar": true,
   "skip_h1_title": false,
   "title_cell": "Table of Contents",
   "title_sidebar": "Contents",
   "toc_cell": false,
   "toc_position": {},
   "toc_section_display": true,
   "toc_window_display": false
  }
 },
 "nbformat": 4,
 "nbformat_minor": 4
}

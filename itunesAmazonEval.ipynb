{
 "cells": [
  {
   "cell_type": "code",
   "execution_count": 1,
   "metadata": {
    "ExecuteTime": {
     "end_time": "2020-03-09T16:00:52.694493Z",
     "start_time": "2020-03-09T16:00:52.674217Z"
    }
   },
   "outputs": [],
   "source": [
    "%load_ext autoreload\n",
    "%autoreload 2"
   ]
  },
  {
   "cell_type": "code",
   "execution_count": 2,
   "metadata": {
    "ExecuteTime": {
     "end_time": "2020-03-09T16:00:54.587492Z",
     "start_time": "2020-03-09T16:00:53.001532Z"
    }
   },
   "outputs": [],
   "source": [
    "from utils.attacker import attackDatasetEditDist,changeRandomCharacters\n",
    "import pandas as pd\n",
    "import deepmatcher as dm\n",
    "import numpy as np\n",
    "from utils.deepmatcher_utils import wrapDm,getF1PrecisionRecall,getMeanConfidenceAndVariance,getTruePositiveNegative\n",
    "from tqdm import tqdm\n",
    "from sklearn.utils import shuffle"
   ]
  },
  {
   "cell_type": "code",
   "execution_count": 3,
   "metadata": {
    "ExecuteTime": {
     "end_time": "2020-03-09T16:00:54.618158Z",
     "start_time": "2020-03-09T16:00:54.590000Z"
    }
   },
   "outputs": [],
   "source": [
    "##given a perturbation model and number of perturbation calculate avg f1,precision and recall \n",
    "def getAvgF1PrecisionRecall(testpath,model,nperturbation,editdist=1):\n",
    "    avgf1,avgrecall,avgprecision = 0,0,0\n",
    "    for i in tqdm(range(nperturbation)):\n",
    "        test_df = pd.read_csv(testpath)\n",
    "        original_labels = test_df.label.values\n",
    "        attacked_test = attackDatasetEditDist(test_df,['id','label'],editdist=editdist)\n",
    "        attack_preds = wrapDm(attacked_test,model)\n",
    "        f1,prec,recall = getF1PrecisionRecall(original_labels,attack_preds)\n",
    "        avgf1 += f1\n",
    "        avgprecision += prec\n",
    "        avgrecall += recall\n",
    "    return (avgf1/nperturbation,avgprecision/nperturbation,avgrecall/nperturbation)"
   ]
  },
  {
   "cell_type": "code",
   "execution_count": 4,
   "metadata": {
    "ExecuteTime": {
     "end_time": "2020-03-09T16:00:54.656928Z",
     "start_time": "2020-03-09T16:00:54.621766Z"
    }
   },
   "outputs": [],
   "source": [
    "def getAdversarialTrainingSet(train_df,dimension,editdist):\n",
    "    shuffled_train = shuffle(train_df)\n",
    "    samples_toalter = shuffled_train.iloc[:dimension].copy()\n",
    "    unaltered = shuffled_train.iloc[dimension:].copy()\n",
    "    attacked_train = attackDatasetEditDist(samples_toalter,['id','label'],editdist=1)\n",
    "    newTrain = pd.concat([attacked_train,unaltered])\n",
    "    return newTrain"
   ]
  },
  {
   "cell_type": "markdown",
   "metadata": {},
   "source": [
    "# Change edit distance"
   ]
  },
  {
   "cell_type": "code",
   "execution_count": 5,
   "metadata": {
    "ExecuteTime": {
     "end_time": "2020-03-09T16:00:57.545833Z",
     "start_time": "2020-03-09T16:00:57.506199Z"
    }
   },
   "outputs": [],
   "source": [
    "DATASET_DIR='datasets/Structured/itunes-amazon/'"
   ]
  },
  {
   "cell_type": "markdown",
   "metadata": {},
   "source": [
    "## Evaluate standard model"
   ]
  },
  {
   "cell_type": "code",
   "execution_count": 6,
   "metadata": {
    "ExecuteTime": {
     "end_time": "2020-02-10T13:06:38.118455Z",
     "start_time": "2020-02-10T13:06:33.119092Z"
    }
   },
   "outputs": [],
   "source": [
    "itunesamazon_mod = dm.MatchingModel(attr_summarizer='hybrid')\n",
    "itunesamazon_mod.load_state('models/itunes_amazon_hybrid.pth')\n",
    "itunesamazon_mod = itunesamazon_mod.to('cuda')"
   ]
  },
  {
   "cell_type": "code",
   "execution_count": 7,
   "metadata": {
    "ExecuteTime": {
     "end_time": "2020-02-09T14:47:21.734208Z",
     "start_time": "2020-02-09T14:46:36.465067Z"
    }
   },
   "outputs": [
    {
     "name": "stderr",
     "output_type": "stream",
     "text": [
      "100%|██████████| 20/20 [00:45<00:00,  2.26s/it]\n"
     ]
    },
    {
     "data": {
      "text/plain": [
       "(0.6018780920046372, 0.5742302039727692, 0.6370370370370371)"
      ]
     },
     "execution_count": 7,
     "metadata": {},
     "output_type": "execute_result"
    }
   ],
   "source": [
    "avgf1,avgprecision,avgrecall = getAvgF1PrecisionRecall('datasets/Structured/itunes-amazon/merged_test.csv',\n",
    "                                                       itunesamazon_mod,20,editdist=1)\n",
    "avgf1,avgprecision,avgrecall"
   ]
  },
  {
   "cell_type": "code",
   "execution_count": 9,
   "metadata": {
    "ExecuteTime": {
     "end_time": "2020-02-07T16:25:37.530261Z",
     "start_time": "2020-02-07T16:25:07.098842Z"
    }
   },
   "outputs": [
    {
     "name": "stderr",
     "output_type": "stream",
     "text": [
      "100%|██████████| 20/20 [00:30<00:00,  1.52s/it]\n"
     ]
    },
    {
     "data": {
      "text/plain": [
       "(0.5566625559259786, 0.5380849305572994, 0.5814814814814815)"
      ]
     },
     "execution_count": 9,
     "metadata": {},
     "output_type": "execute_result"
    }
   ],
   "source": [
    "avgf1,avgprecision,avgrecall = getAvgF1PrecisionRecall('datasets/Structured/itunes-amazon/merged_test.csv',\n",
    "                                                       itunesamazon_mod,20,editdist=2)\n",
    "avgf1,avgprecision,avgrecall"
   ]
  },
  {
   "cell_type": "code",
   "execution_count": 8,
   "metadata": {
    "ExecuteTime": {
     "end_time": "2020-02-09T14:48:39.583230Z",
     "start_time": "2020-02-09T14:48:37.913244Z"
    }
   },
   "outputs": [
    {
     "data": {
      "text/plain": [
       "(0.8026398884457185, 0.014892625030903646)"
      ]
     },
     "execution_count": 8,
     "metadata": {},
     "output_type": "execute_result"
    }
   ],
   "source": [
    "test_df = pd.read_csv('datasets/Structured/itunes-amazon/merged_test.csv')\n",
    "getMeanConfidenceAndVariance(itunesamazon_mod,test_df)"
   ]
  },
  {
   "cell_type": "markdown",
   "metadata": {},
   "source": [
    "## Retrain model with 10% perturbed training data"
   ]
  },
  {
   "cell_type": "code",
   "execution_count": 9,
   "metadata": {
    "ExecuteTime": {
     "end_time": "2020-02-09T14:49:57.172927Z",
     "start_time": "2020-02-09T14:49:57.105512Z"
    }
   },
   "outputs": [],
   "source": [
    "train_df = pd.read_csv(DATASET_DIR+'merged_train.csv')\n",
    "adversarialTrain_10 = getAdversarialTrainingSet(train_df,int(len(train_df)/10),editdist=1)"
   ]
  },
  {
   "cell_type": "code",
   "execution_count": 10,
   "metadata": {
    "ExecuteTime": {
     "end_time": "2020-02-09T14:50:00.189059Z",
     "start_time": "2020-02-09T14:50:00.146492Z"
    }
   },
   "outputs": [],
   "source": [
    "adversarialTrain_10.to_csv('datasets/Structured/itunes-amazon/attacked_train10.csv',index=False)"
   ]
  },
  {
   "cell_type": "code",
   "execution_count": 11,
   "metadata": {
    "ExecuteTime": {
     "end_time": "2020-02-09T14:50:05.971047Z",
     "start_time": "2020-02-09T14:50:03.333386Z"
    }
   },
   "outputs": [
    {
     "name": "stderr",
     "output_type": "stream",
     "text": [
      "WARNING:deepmatcher.data.dataset:Rebuilding data cache because: ['Data file list has changed.', 'One or more data files have been modified.']\n",
      "\n",
      "Reading and processing data from \"datasets/Structured/itunes-amazon/attacked_train10.csv\"\n",
      "0% [############################# ] 100% | ETA: 00:00:00\n",
      "Reading and processing data from \"datasets/Structured/itunes-amazon/merged_valid.csv\"\n",
      "0% [############################# ] 100% | ETA: 00:00:00\n",
      "Reading and processing data from \"datasets/Structured/itunes-amazon/merged_test.csv\"\n",
      "0% [############################# ] 100% | ETA: 00:00:00\n",
      "Building vocabulary\n",
      "0% [#] 100% | ETA: 00:00:00\n",
      "Total time elapsed: 00:00:00\n",
      "\n",
      "Computing principal components\n",
      "0% [#] 100% | ETA: 00:00:00\n",
      "Total time elapsed: 00:00:00\n"
     ]
    }
   ],
   "source": [
    "train,validation,test = dm.data.process('datasets/Structured/itunes-amazon/',train='attacked_train10.csv',\n",
    "                                       validation='merged_valid.csv',test='merged_test.csv',\n",
    "                                       left_prefix='ltable_',right_prefix='rtable_',cache='editdist.pth')"
   ]
  },
  {
   "cell_type": "code",
   "execution_count": 12,
   "metadata": {
    "ExecuteTime": {
     "end_time": "2020-02-09T14:53:47.035491Z",
     "start_time": "2020-02-09T14:50:15.255025Z"
    }
   },
   "outputs": [
    {
     "name": "stdout",
     "output_type": "stream",
     "text": [
      "* Number of trainable parameters: 17757810\n",
      "===>  TRAIN Epoch 1\n"
     ]
    },
    {
     "name": "stderr",
     "output_type": "stream",
     "text": [
      "/home/nvidia/anaconda3/envs/torchenv/lib/python3.6/site-packages/torch/nn/functional.py:1932: UserWarning: reduction: 'mean' divides the total loss by both the batch size and the support size.'batchmean' divides only by the batch size, and aligns with the KL div math definition.'mean' will be changed to behave the same as 'batchmean' in the next major release.\n",
      "  warnings.warn(\"reduction: 'mean' divides the total loss by both the batch size and the support size.\"\n",
      "0% [██] 100% | ETA: 00:00:00\n",
      "Total time elapsed: 00:00:05\n"
     ]
    },
    {
     "name": "stdout",
     "output_type": "stream",
     "text": [
      "Finished Epoch 1 || Run Time:    4.8 | Load Time:    2.1 || F1:  36.87 | Prec:  23.57 | Rec:  84.62 || Ex/s:  47.03\n",
      "\n",
      "===>  EVAL Epoch 1\n",
      "Finished Epoch 1 || Run Time:    0.6 | Load Time:    0.7 || F1:  41.54 | Prec:  26.21 | Rec: 100.00 || Ex/s:  85.24\n",
      "\n",
      "* Best F1: tensor(41.5385, device='cuda:0')\n",
      "Saving best model...\n",
      "Done.\n",
      "---------------------\n",
      "\n",
      "===>  TRAIN Epoch 2\n"
     ]
    },
    {
     "name": "stderr",
     "output_type": "stream",
     "text": [
      "0% [██] 100% | ETA: 00:00:00\n",
      "Total time elapsed: 00:00:06\n"
     ]
    },
    {
     "name": "stdout",
     "output_type": "stream",
     "text": [
      "Finished Epoch 2 || Run Time:    4.8 | Load Time:    2.2 || F1:  41.62 | Prec:  26.37 | Rec:  98.72 || Ex/s:  45.71\n",
      "\n",
      "===>  EVAL Epoch 2\n",
      "Finished Epoch 2 || Run Time:    0.6 | Load Time:    0.7 || F1:  57.89 | Prec:  44.90 | Rec:  81.48 || Ex/s:  84.95\n",
      "\n",
      "* Best F1: tensor(57.8947, device='cuda:0')\n",
      "Saving best model...\n",
      "Done.\n",
      "---------------------\n",
      "\n",
      "===>  TRAIN Epoch 3\n"
     ]
    },
    {
     "name": "stderr",
     "output_type": "stream",
     "text": [
      "0% [██] 100% | ETA: 00:00:00\n",
      "Total time elapsed: 00:00:06\n"
     ]
    },
    {
     "name": "stdout",
     "output_type": "stream",
     "text": [
      "Finished Epoch 3 || Run Time:    4.9 | Load Time:    2.2 || F1:  61.67 | Prec:  46.98 | Rec:  89.74 || Ex/s:  45.33\n",
      "\n",
      "===>  EVAL Epoch 3\n",
      "Finished Epoch 3 || Run Time:    0.6 | Load Time:    0.7 || F1:  62.69 | Prec:  52.50 | Rec:  77.78 || Ex/s:  84.23\n",
      "\n",
      "* Best F1: tensor(62.6866, device='cuda:0')\n",
      "Saving best model...\n",
      "Done.\n",
      "---------------------\n",
      "\n",
      "===>  TRAIN Epoch 4\n"
     ]
    },
    {
     "name": "stderr",
     "output_type": "stream",
     "text": [
      "0% [██] 100% | ETA: 00:00:00\n",
      "Total time elapsed: 00:00:06\n"
     ]
    },
    {
     "name": "stdout",
     "output_type": "stream",
     "text": [
      "Finished Epoch 4 || Run Time:    4.9 | Load Time:    2.2 || F1:  66.05 | Prec:  51.82 | Rec:  91.03 || Ex/s:  45.64\n",
      "\n",
      "===>  EVAL Epoch 4\n",
      "Finished Epoch 4 || Run Time:    0.6 | Load Time:    0.7 || F1:  68.97 | Prec:  64.52 | Rec:  74.07 || Ex/s:  85.64\n",
      "\n",
      "* Best F1: tensor(68.9655, device='cuda:0')\n",
      "Saving best model...\n",
      "Done.\n",
      "---------------------\n",
      "\n",
      "===>  TRAIN Epoch 5\n"
     ]
    },
    {
     "name": "stderr",
     "output_type": "stream",
     "text": [
      "0% [██] 100% | ETA: 00:00:00\n",
      "Total time elapsed: 00:00:05\n"
     ]
    },
    {
     "name": "stdout",
     "output_type": "stream",
     "text": [
      "Finished Epoch 5 || Run Time:    4.9 | Load Time:    2.1 || F1:  72.00 | Prec:  59.02 | Rec:  92.31 || Ex/s:  46.45\n",
      "\n",
      "===>  EVAL Epoch 5\n",
      "Finished Epoch 5 || Run Time:    0.6 | Load Time:    0.7 || F1:  66.67 | Prec:  58.33 | Rec:  77.78 || Ex/s:  81.93\n",
      "\n",
      "---------------------\n",
      "\n",
      "===>  TRAIN Epoch 6\n"
     ]
    },
    {
     "name": "stderr",
     "output_type": "stream",
     "text": [
      "0% [██] 100% | ETA: 00:00:00\n",
      "Total time elapsed: 00:00:06\n"
     ]
    },
    {
     "name": "stdout",
     "output_type": "stream",
     "text": [
      "Finished Epoch 6 || Run Time:    4.9 | Load Time:    2.2 || F1:  78.12 | Prec:  65.79 | Rec:  96.15 || Ex/s:  44.91\n",
      "\n",
      "===>  EVAL Epoch 6\n",
      "Finished Epoch 6 || Run Time:    0.6 | Load Time:    0.7 || F1:  77.19 | Prec:  73.33 | Rec:  81.48 || Ex/s:  85.99\n",
      "\n",
      "* Best F1: tensor(77.1930, device='cuda:0')\n",
      "Saving best model...\n",
      "Done.\n",
      "---------------------\n",
      "\n",
      "===>  TRAIN Epoch 7\n"
     ]
    },
    {
     "name": "stderr",
     "output_type": "stream",
     "text": [
      "0% [██] 100% | ETA: 00:00:00\n",
      "Total time elapsed: 00:00:06\n"
     ]
    },
    {
     "name": "stdout",
     "output_type": "stream",
     "text": [
      "Finished Epoch 7 || Run Time:    5.0 | Load Time:    2.3 || F1:  85.39 | Prec:  76.00 | Rec:  97.44 || Ex/s:  44.29\n",
      "\n",
      "===>  EVAL Epoch 7\n",
      "Finished Epoch 7 || Run Time:    0.6 | Load Time:    0.7 || F1:  83.33 | Prec:  75.76 | Rec:  92.59 || Ex/s:  86.20\n",
      "\n",
      "* Best F1: tensor(83.3333, device='cuda:0')\n",
      "Saving best model...\n",
      "Done.\n",
      "---------------------\n",
      "\n",
      "===>  TRAIN Epoch 8\n"
     ]
    },
    {
     "name": "stderr",
     "output_type": "stream",
     "text": [
      "0% [██] 100% | ETA: 00:00:00\n",
      "Total time elapsed: 00:00:06\n"
     ]
    },
    {
     "name": "stdout",
     "output_type": "stream",
     "text": [
      "Finished Epoch 8 || Run Time:    4.9 | Load Time:    2.2 || F1:  93.41 | Prec:  87.64 | Rec: 100.00 || Ex/s:  45.50\n",
      "\n",
      "===>  EVAL Epoch 8\n",
      "Finished Epoch 8 || Run Time:    0.6 | Load Time:    0.7 || F1:  85.25 | Prec:  76.47 | Rec:  96.30 || Ex/s:  85.02\n",
      "\n",
      "* Best F1: tensor(85.2459, device='cuda:0')\n",
      "Saving best model...\n",
      "Done.\n",
      "---------------------\n",
      "\n",
      "===>  TRAIN Epoch 9\n"
     ]
    },
    {
     "name": "stderr",
     "output_type": "stream",
     "text": [
      "0% [██] 100% | ETA: 00:00:00\n",
      "Total time elapsed: 00:00:06\n"
     ]
    },
    {
     "name": "stdout",
     "output_type": "stream",
     "text": [
      "Finished Epoch 9 || Run Time:    4.8 | Load Time:    2.2 || F1:  97.50 | Prec:  95.12 | Rec: 100.00 || Ex/s:  45.76\n",
      "\n",
      "===>  EVAL Epoch 9\n",
      "Finished Epoch 9 || Run Time:    0.6 | Load Time:    0.7 || F1:  82.54 | Prec:  72.22 | Rec:  96.30 || Ex/s:  85.33\n",
      "\n",
      "---------------------\n",
      "\n",
      "===>  TRAIN Epoch 10\n"
     ]
    },
    {
     "name": "stderr",
     "output_type": "stream",
     "text": [
      "0% [██] 100% | ETA: 00:00:00\n",
      "Total time elapsed: 00:00:06\n"
     ]
    },
    {
     "name": "stdout",
     "output_type": "stream",
     "text": [
      "Finished Epoch 10 || Run Time:    4.9 | Load Time:    2.1 || F1:  97.50 | Prec:  95.12 | Rec: 100.00 || Ex/s:  45.78\n",
      "\n",
      "===>  EVAL Epoch 10\n",
      "Finished Epoch 10 || Run Time:    0.6 | Load Time:    0.7 || F1:  83.87 | Prec:  74.29 | Rec:  96.30 || Ex/s:  84.53\n",
      "\n",
      "---------------------\n",
      "\n",
      "===>  TRAIN Epoch 11\n"
     ]
    },
    {
     "name": "stderr",
     "output_type": "stream",
     "text": [
      "0% [██] 100% | ETA: 00:00:00\n",
      "Total time elapsed: 00:00:06\n"
     ]
    },
    {
     "name": "stdout",
     "output_type": "stream",
     "text": [
      "Finished Epoch 11 || Run Time:    4.8 | Load Time:    2.1 || F1:  98.73 | Prec:  97.50 | Rec: 100.00 || Ex/s:  46.00\n",
      "\n",
      "===>  EVAL Epoch 11\n",
      "Finished Epoch 11 || Run Time:    0.6 | Load Time:    0.7 || F1:  82.54 | Prec:  72.22 | Rec:  96.30 || Ex/s:  85.29\n",
      "\n",
      "---------------------\n",
      "\n",
      "===>  TRAIN Epoch 12\n"
     ]
    },
    {
     "name": "stderr",
     "output_type": "stream",
     "text": [
      "0% [██] 100% | ETA: 00:00:00\n",
      "Total time elapsed: 00:00:05\n"
     ]
    },
    {
     "name": "stdout",
     "output_type": "stream",
     "text": [
      "Finished Epoch 12 || Run Time:    4.9 | Load Time:    2.1 || F1:  98.73 | Prec:  97.50 | Rec: 100.00 || Ex/s:  46.26\n",
      "\n",
      "===>  EVAL Epoch 12\n",
      "Finished Epoch 12 || Run Time:    0.6 | Load Time:    0.7 || F1:  83.87 | Prec:  74.29 | Rec:  96.30 || Ex/s:  84.00\n",
      "\n",
      "---------------------\n",
      "\n",
      "===>  TRAIN Epoch 13\n"
     ]
    },
    {
     "name": "stderr",
     "output_type": "stream",
     "text": [
      "0% [██] 100% | ETA: 00:00:00\n",
      "Total time elapsed: 00:00:06\n"
     ]
    },
    {
     "name": "stdout",
     "output_type": "stream",
     "text": [
      "Finished Epoch 13 || Run Time:    4.9 | Load Time:    2.1 || F1:  99.36 | Prec:  98.73 | Rec: 100.00 || Ex/s:  45.78\n",
      "\n",
      "===>  EVAL Epoch 13\n",
      "Finished Epoch 13 || Run Time:    0.6 | Load Time:    0.7 || F1:  83.87 | Prec:  74.29 | Rec:  96.30 || Ex/s:  84.85\n",
      "\n",
      "---------------------\n",
      "\n",
      "===>  TRAIN Epoch 14\n"
     ]
    },
    {
     "name": "stderr",
     "output_type": "stream",
     "text": [
      "0% [██] 100% | ETA: 00:00:00\n",
      "Total time elapsed: 00:00:05\n"
     ]
    },
    {
     "name": "stdout",
     "output_type": "stream",
     "text": [
      "Finished Epoch 14 || Run Time:    4.4 | Load Time:    1.9 || F1:  99.36 | Prec:  98.73 | Rec: 100.00 || Ex/s:  50.71\n",
      "\n",
      "===>  EVAL Epoch 14\n",
      "Finished Epoch 14 || Run Time:    0.6 | Load Time:    0.6 || F1:  83.87 | Prec:  74.29 | Rec:  96.30 || Ex/s:  92.17\n",
      "\n",
      "---------------------\n",
      "\n",
      "===>  TRAIN Epoch 15\n"
     ]
    },
    {
     "name": "stderr",
     "output_type": "stream",
     "text": [
      "0% [██] 100% | ETA: 00:00:00\n",
      "Total time elapsed: 00:00:05\n"
     ]
    },
    {
     "name": "stdout",
     "output_type": "stream",
     "text": [
      "Finished Epoch 15 || Run Time:    4.8 | Load Time:    2.1 || F1: 100.00 | Prec: 100.00 | Rec: 100.00 || Ex/s:  46.74\n",
      "\n",
      "===>  EVAL Epoch 15\n",
      "Finished Epoch 15 || Run Time:    0.6 | Load Time:    0.7 || F1:  83.87 | Prec:  74.29 | Rec:  96.30 || Ex/s:  84.14\n",
      "\n",
      "---------------------\n",
      "\n",
      "===>  TRAIN Epoch 16\n"
     ]
    },
    {
     "name": "stderr",
     "output_type": "stream",
     "text": [
      "0% [██] 100% | ETA: 00:00:00\n",
      "Total time elapsed: 00:00:05\n"
     ]
    },
    {
     "name": "stdout",
     "output_type": "stream",
     "text": [
      "Finished Epoch 16 || Run Time:    4.8 | Load Time:    2.1 || F1: 100.00 | Prec: 100.00 | Rec: 100.00 || Ex/s:  46.89\n",
      "\n",
      "===>  EVAL Epoch 16\n",
      "Finished Epoch 16 || Run Time:    0.6 | Load Time:    0.7 || F1:  83.87 | Prec:  74.29 | Rec:  96.30 || Ex/s:  85.57\n",
      "\n",
      "---------------------\n",
      "\n",
      "===>  TRAIN Epoch 17\n"
     ]
    },
    {
     "name": "stderr",
     "output_type": "stream",
     "text": [
      "0% [██] 100% | ETA: 00:00:00\n",
      "Total time elapsed: 00:00:05\n"
     ]
    },
    {
     "name": "stdout",
     "output_type": "stream",
     "text": [
      "Finished Epoch 17 || Run Time:    4.7 | Load Time:    2.0 || F1: 100.00 | Prec: 100.00 | Rec: 100.00 || Ex/s:  47.53\n",
      "\n",
      "===>  EVAL Epoch 17\n",
      "Finished Epoch 17 || Run Time:    0.6 | Load Time:    0.7 || F1:  83.87 | Prec:  74.29 | Rec:  96.30 || Ex/s:  85.08\n",
      "\n",
      "---------------------\n",
      "\n",
      "===>  TRAIN Epoch 18\n"
     ]
    },
    {
     "name": "stderr",
     "output_type": "stream",
     "text": [
      "0% [██] 100% | ETA: 00:00:00\n",
      "Total time elapsed: 00:00:06\n"
     ]
    },
    {
     "name": "stdout",
     "output_type": "stream",
     "text": [
      "Finished Epoch 18 || Run Time:    4.9 | Load Time:    2.1 || F1: 100.00 | Prec: 100.00 | Rec: 100.00 || Ex/s:  45.83\n",
      "\n",
      "===>  EVAL Epoch 18\n",
      "Finished Epoch 18 || Run Time:    0.6 | Load Time:    0.7 || F1:  83.87 | Prec:  74.29 | Rec:  96.30 || Ex/s:  84.37\n",
      "\n",
      "---------------------\n",
      "\n",
      "===>  TRAIN Epoch 19\n"
     ]
    },
    {
     "name": "stderr",
     "output_type": "stream",
     "text": [
      "0% [██] 100% | ETA: 00:00:00\n",
      "Total time elapsed: 00:00:06\n"
     ]
    },
    {
     "name": "stdout",
     "output_type": "stream",
     "text": [
      "Finished Epoch 19 || Run Time:    4.8 | Load Time:    2.1 || F1: 100.00 | Prec: 100.00 | Rec: 100.00 || Ex/s:  45.98\n",
      "\n",
      "===>  EVAL Epoch 19\n",
      "Finished Epoch 19 || Run Time:    0.6 | Load Time:    0.7 || F1:  83.87 | Prec:  74.29 | Rec:  96.30 || Ex/s:  85.03\n",
      "\n",
      "---------------------\n",
      "\n",
      "===>  TRAIN Epoch 20\n"
     ]
    },
    {
     "name": "stderr",
     "output_type": "stream",
     "text": [
      "0% [██] 100% | ETA: 00:00:00\n",
      "Total time elapsed: 00:00:06\n"
     ]
    },
    {
     "name": "stdout",
     "output_type": "stream",
     "text": [
      "Finished Epoch 20 || Run Time:    4.8 | Load Time:    2.2 || F1: 100.00 | Prec: 100.00 | Rec: 100.00 || Ex/s:  45.91\n",
      "\n",
      "===>  EVAL Epoch 20\n",
      "Finished Epoch 20 || Run Time:    0.6 | Load Time:    0.7 || F1:  83.87 | Prec:  74.29 | Rec:  96.30 || Ex/s:  85.53\n",
      "\n",
      "---------------------\n",
      "\n",
      "===>  TRAIN Epoch 21\n"
     ]
    },
    {
     "name": "stderr",
     "output_type": "stream",
     "text": [
      "0% [██] 100% | ETA: 00:00:00\n",
      "Total time elapsed: 00:00:06\n"
     ]
    },
    {
     "name": "stdout",
     "output_type": "stream",
     "text": [
      "Finished Epoch 21 || Run Time:    4.9 | Load Time:    2.1 || F1: 100.00 | Prec: 100.00 | Rec: 100.00 || Ex/s:  45.63\n",
      "\n",
      "===>  EVAL Epoch 21\n",
      "Finished Epoch 21 || Run Time:    0.6 | Load Time:    0.7 || F1:  83.87 | Prec:  74.29 | Rec:  96.30 || Ex/s:  86.66\n",
      "\n",
      "---------------------\n",
      "\n",
      "===>  TRAIN Epoch 22\n"
     ]
    },
    {
     "name": "stderr",
     "output_type": "stream",
     "text": [
      "0% [██] 100% | ETA: 00:00:00\n",
      "Total time elapsed: 00:00:05\n"
     ]
    },
    {
     "name": "stdout",
     "output_type": "stream",
     "text": [
      "Finished Epoch 22 || Run Time:    4.8 | Load Time:    2.1 || F1: 100.00 | Prec: 100.00 | Rec: 100.00 || Ex/s:  47.09\n",
      "\n",
      "===>  EVAL Epoch 22\n",
      "Finished Epoch 22 || Run Time:    0.6 | Load Time:    0.7 || F1:  83.87 | Prec:  74.29 | Rec:  96.30 || Ex/s:  86.68\n",
      "\n",
      "---------------------\n",
      "\n",
      "===>  TRAIN Epoch 23\n"
     ]
    },
    {
     "name": "stderr",
     "output_type": "stream",
     "text": [
      "0% [██] 100% | ETA: 00:00:00\n",
      "Total time elapsed: 00:00:05\n"
     ]
    },
    {
     "name": "stdout",
     "output_type": "stream",
     "text": [
      "Finished Epoch 23 || Run Time:    4.9 | Load Time:    2.1 || F1: 100.00 | Prec: 100.00 | Rec: 100.00 || Ex/s:  46.04\n",
      "\n",
      "===>  EVAL Epoch 23\n",
      "Finished Epoch 23 || Run Time:    0.6 | Load Time:    0.7 || F1:  83.87 | Prec:  74.29 | Rec:  96.30 || Ex/s:  86.00\n",
      "\n",
      "---------------------\n",
      "\n",
      "===>  TRAIN Epoch 24\n"
     ]
    },
    {
     "name": "stderr",
     "output_type": "stream",
     "text": [
      "0% [██] 100% | ETA: 00:00:00\n",
      "Total time elapsed: 00:00:05\n"
     ]
    },
    {
     "name": "stdout",
     "output_type": "stream",
     "text": [
      "Finished Epoch 24 || Run Time:    4.6 | Load Time:    1.9 || F1: 100.00 | Prec: 100.00 | Rec: 100.00 || Ex/s:  49.80\n",
      "\n",
      "===>  EVAL Epoch 24\n",
      "Finished Epoch 24 || Run Time:    0.6 | Load Time:    0.7 || F1:  83.87 | Prec:  74.29 | Rec:  96.30 || Ex/s:  85.96\n",
      "\n",
      "---------------------\n",
      "\n",
      "===>  TRAIN Epoch 25\n"
     ]
    },
    {
     "name": "stderr",
     "output_type": "stream",
     "text": [
      "0% [██] 100% | ETA: 00:00:00\n",
      "Total time elapsed: 00:00:06\n"
     ]
    },
    {
     "name": "stdout",
     "output_type": "stream",
     "text": [
      "Finished Epoch 25 || Run Time:    4.9 | Load Time:    2.1 || F1: 100.00 | Prec: 100.00 | Rec: 100.00 || Ex/s:  45.95\n",
      "\n",
      "===>  EVAL Epoch 25\n",
      "Finished Epoch 25 || Run Time:    0.6 | Load Time:    0.7 || F1:  83.87 | Prec:  74.29 | Rec:  96.30 || Ex/s:  86.54\n",
      "\n",
      "---------------------\n",
      "\n",
      "Loading best model...\n",
      "Training done.\n"
     ]
    },
    {
     "data": {
      "text/plain": [
       "tensor(85.2459, device='cuda:0')"
      ]
     },
     "execution_count": 12,
     "metadata": {},
     "output_type": "execute_result"
    }
   ],
   "source": [
    "att_model = dm.MatchingModel(attr_summarizer='hybrid')\n",
    "att_model.run_train(train,validation,epochs=25,pos_neg_ratio=5,\n",
    "                    best_save_path='models/itunes_amazon_hybrid_att10.pth')"
   ]
  },
  {
   "cell_type": "code",
   "execution_count": 13,
   "metadata": {
    "ExecuteTime": {
     "end_time": "2020-02-09T14:54:13.396526Z",
     "start_time": "2020-02-09T14:54:11.980086Z"
    }
   },
   "outputs": [
    {
     "name": "stdout",
     "output_type": "stream",
     "text": [
      "===>  EVAL Epoch 8\n",
      "Finished Epoch 8 || Run Time:    0.7 | Load Time:    0.7 || F1:  85.25 | Prec:  76.47 | Rec:  96.30 || Ex/s:  81.09\n",
      "\n"
     ]
    },
    {
     "data": {
      "text/plain": [
       "tensor(85.2459, device='cuda:0')"
      ]
     },
     "execution_count": 13,
     "metadata": {},
     "output_type": "execute_result"
    }
   ],
   "source": [
    "att_model.run_eval(test)"
   ]
  },
  {
   "cell_type": "code",
   "execution_count": 14,
   "metadata": {
    "ExecuteTime": {
     "end_time": "2020-02-09T14:54:30.493503Z",
     "start_time": "2020-02-09T14:54:28.652091Z"
    }
   },
   "outputs": [
    {
     "data": {
      "text/plain": [
       "(0.7836888705235009, 0.016787313181924515)"
      ]
     },
     "execution_count": 14,
     "metadata": {},
     "output_type": "execute_result"
    }
   ],
   "source": [
    "getMeanConfidenceAndVariance(att_model,test_df)"
   ]
  },
  {
   "cell_type": "code",
   "execution_count": 15,
   "metadata": {
    "ExecuteTime": {
     "end_time": "2020-02-09T14:55:25.947493Z",
     "start_time": "2020-02-09T14:54:51.408210Z"
    }
   },
   "outputs": [
    {
     "name": "stderr",
     "output_type": "stream",
     "text": [
      "100%|██████████| 20/20 [00:34<00:00,  1.73s/it]\n"
     ]
    },
    {
     "data": {
      "text/plain": [
       "(0.6170878502848114, 0.4939288327705847, 0.825925925925926)"
      ]
     },
     "execution_count": 15,
     "metadata": {},
     "output_type": "execute_result"
    }
   ],
   "source": [
    "avgf1,avgprecision,avgrecall = getAvgF1PrecisionRecall('datasets/Structured/itunes-amazon/merged_test.csv',\n",
    "                                                       att_model,20,editdist=1)\n",
    "avgf1,avgprecision,avgrecall"
   ]
  },
  {
   "cell_type": "code",
   "execution_count": 16,
   "metadata": {
    "ExecuteTime": {
     "end_time": "2020-02-09T14:56:32.268135Z",
     "start_time": "2020-02-09T14:55:56.558767Z"
    }
   },
   "outputs": [
    {
     "name": "stderr",
     "output_type": "stream",
     "text": [
      "100%|██████████| 20/20 [00:35<00:00,  1.78s/it]\n"
     ]
    },
    {
     "data": {
      "text/plain": [
       "(0.5795080719900618, 0.4545109863934491, 0.8037037037037038)"
      ]
     },
     "execution_count": 16,
     "metadata": {},
     "output_type": "execute_result"
    }
   ],
   "source": [
    "avgf1,avgprecision,avgrecall = getAvgF1PrecisionRecall('datasets/Structured/itunes-amazon/merged_test.csv',\n",
    "                                                       att_model,20,editdist=2)\n",
    "avgf1,avgprecision,avgrecall"
   ]
  },
  {
   "cell_type": "markdown",
   "metadata": {
    "ExecuteTime": {
     "end_time": "2020-02-07T16:36:06.592738Z",
     "start_time": "2020-02-07T16:36:06.576719Z"
    }
   },
   "source": [
    "## Retrain model with 20% perturbed training samples"
   ]
  },
  {
   "cell_type": "code",
   "execution_count": 17,
   "metadata": {
    "ExecuteTime": {
     "end_time": "2020-02-09T14:56:50.761335Z",
     "start_time": "2020-02-09T14:56:50.689408Z"
    }
   },
   "outputs": [],
   "source": [
    "train_df = pd.read_csv(DATASET_DIR+'merged_train.csv')\n",
    "adversarialTrain_20 = getAdversarialTrainingSet(train_df,int(len(train_df)/5),editdist=1)"
   ]
  },
  {
   "cell_type": "code",
   "execution_count": 18,
   "metadata": {
    "ExecuteTime": {
     "end_time": "2020-02-09T14:56:51.833717Z",
     "start_time": "2020-02-09T14:56:51.792458Z"
    }
   },
   "outputs": [],
   "source": [
    "adversarialTrain_20.to_csv(DATASET_DIR+'adversarial_train20.csv',index=False)"
   ]
  },
  {
   "cell_type": "code",
   "execution_count": 19,
   "metadata": {
    "ExecuteTime": {
     "end_time": "2020-02-09T14:56:55.221848Z",
     "start_time": "2020-02-09T14:56:53.080254Z"
    }
   },
   "outputs": [
    {
     "name": "stderr",
     "output_type": "stream",
     "text": [
      "WARNING:deepmatcher.data.dataset:Rebuilding data cache because: ['Data file list has changed.', 'One or more data files have been modified.']\n",
      "\n",
      "Reading and processing data from \"datasets/Structured/itunes-amazon/adversarial_train20.csv\"\n",
      "0% [############################# ] 100% | ETA: 00:00:00\n",
      "Reading and processing data from \"datasets/Structured/itunes-amazon/merged_valid.csv\"\n",
      "0% [############################# ] 100% | ETA: 00:00:00\n",
      "Reading and processing data from \"datasets/Structured/itunes-amazon/merged_test.csv\"\n",
      "0% [############################# ] 100% | ETA: 00:00:00\n",
      "Building vocabulary\n",
      "0% [#] 100% | ETA: 00:00:00\n",
      "Total time elapsed: 00:00:00\n",
      "\n",
      "Computing principal components\n",
      "0% [#] 100% | ETA: 00:00:00\n",
      "Total time elapsed: 00:00:00\n"
     ]
    }
   ],
   "source": [
    "train,validation,test = dm.data.process('datasets/Structured/itunes-amazon/',train='adversarial_train20.csv',\n",
    "                                       validation='merged_valid.csv',test='merged_test.csv',\n",
    "                                       left_prefix='ltable_',right_prefix='rtable_',cache='editdist.pth')"
   ]
  },
  {
   "cell_type": "code",
   "execution_count": 20,
   "metadata": {
    "ExecuteTime": {
     "end_time": "2020-02-09T15:00:31.721923Z",
     "start_time": "2020-02-09T14:57:05.075283Z"
    }
   },
   "outputs": [
    {
     "name": "stdout",
     "output_type": "stream",
     "text": [
      "* Number of trainable parameters: 17757810\n",
      "===>  TRAIN Epoch 1\n"
     ]
    },
    {
     "name": "stderr",
     "output_type": "stream",
     "text": [
      "/home/nvidia/anaconda3/envs/torchenv/lib/python3.6/site-packages/torch/nn/functional.py:1932: UserWarning: reduction: 'mean' divides the total loss by both the batch size and the support size.'batchmean' divides only by the batch size, and aligns with the KL div math definition.'mean' will be changed to behave the same as 'batchmean' in the next major release.\n",
      "  warnings.warn(\"reduction: 'mean' divides the total loss by both the batch size and the support size.\"\n",
      "0% [██] 100% | ETA: 00:00:00\n",
      "Total time elapsed: 00:00:05\n"
     ]
    },
    {
     "name": "stdout",
     "output_type": "stream",
     "text": [
      "Finished Epoch 1 || Run Time:    4.7 | Load Time:    2.1 || F1:  39.20 | Prec:  24.38 | Rec: 100.00 || Ex/s:  47.06\n",
      "\n",
      "===>  EVAL Epoch 1\n",
      "Finished Epoch 1 || Run Time:    0.6 | Load Time:    0.7 || F1:  49.52 | Prec:  33.33 | Rec:  96.30 || Ex/s:  82.09\n",
      "\n",
      "* Best F1: tensor(49.5238, device='cuda:0')\n",
      "Saving best model...\n",
      "Done.\n",
      "---------------------\n",
      "\n",
      "===>  TRAIN Epoch 2\n"
     ]
    },
    {
     "name": "stderr",
     "output_type": "stream",
     "text": [
      "0% [██] 100% | ETA: 00:00:00\n",
      "Total time elapsed: 00:00:05\n"
     ]
    },
    {
     "name": "stdout",
     "output_type": "stream",
     "text": [
      "Finished Epoch 2 || Run Time:    4.6 | Load Time:    2.0 || F1:  50.17 | Prec:  33.94 | Rec:  96.15 || Ex/s:  48.66\n",
      "\n",
      "===>  EVAL Epoch 2\n",
      "Finished Epoch 2 || Run Time:    0.6 | Load Time:    0.6 || F1:  55.56 | Prec:  44.44 | Rec:  74.07 || Ex/s:  90.92\n",
      "\n",
      "* Best F1: tensor(55.5556, device='cuda:0')\n",
      "Saving best model...\n",
      "Done.\n",
      "---------------------\n",
      "\n",
      "===>  TRAIN Epoch 3\n"
     ]
    },
    {
     "name": "stderr",
     "output_type": "stream",
     "text": [
      "0% [██] 100% | ETA: 00:00:00\n",
      "Total time elapsed: 00:00:05\n"
     ]
    },
    {
     "name": "stdout",
     "output_type": "stream",
     "text": [
      "Finished Epoch 3 || Run Time:    4.5 | Load Time:    1.9 || F1:  62.16 | Prec:  47.92 | Rec:  88.46 || Ex/s:  49.80\n",
      "\n",
      "===>  EVAL Epoch 3\n",
      "Finished Epoch 3 || Run Time:    0.6 | Load Time:    0.6 || F1:  59.70 | Prec:  50.00 | Rec:  74.07 || Ex/s:  92.08\n",
      "\n",
      "* Best F1: tensor(59.7015, device='cuda:0')\n",
      "Saving best model...\n",
      "Done.\n",
      "---------------------\n",
      "\n",
      "===>  TRAIN Epoch 4\n"
     ]
    },
    {
     "name": "stderr",
     "output_type": "stream",
     "text": [
      "0% [██] 100% | ETA: 00:00:00\n",
      "Total time elapsed: 00:00:06\n"
     ]
    },
    {
     "name": "stdout",
     "output_type": "stream",
     "text": [
      "Finished Epoch 4 || Run Time:    5.0 | Load Time:    2.2 || F1:  70.59 | Prec:  57.14 | Rec:  92.31 || Ex/s:  44.36\n",
      "\n",
      "===>  EVAL Epoch 4\n",
      "Finished Epoch 4 || Run Time:    0.6 | Load Time:    0.7 || F1:  61.54 | Prec:  52.63 | Rec:  74.07 || Ex/s:  84.55\n",
      "\n",
      "* Best F1: tensor(61.5385, device='cuda:0')\n",
      "Saving best model...\n",
      "Done.\n",
      "---------------------\n",
      "\n",
      "===>  TRAIN Epoch 5\n"
     ]
    },
    {
     "name": "stderr",
     "output_type": "stream",
     "text": [
      "0% [██] 100% | ETA: 00:00:00\n",
      "Total time elapsed: 00:00:05\n"
     ]
    },
    {
     "name": "stdout",
     "output_type": "stream",
     "text": [
      "Finished Epoch 5 || Run Time:    4.7 | Load Time:    2.0 || F1:  73.00 | Prec:  59.84 | Rec:  93.59 || Ex/s:  48.31\n",
      "\n",
      "===>  EVAL Epoch 5\n",
      "Finished Epoch 5 || Run Time:    0.6 | Load Time:    0.7 || F1:  66.67 | Prec:  60.61 | Rec:  74.07 || Ex/s:  85.20\n",
      "\n",
      "* Best F1: tensor(66.6667, device='cuda:0')\n",
      "Saving best model...\n",
      "Done.\n",
      "---------------------\n",
      "\n",
      "===>  TRAIN Epoch 6\n"
     ]
    },
    {
     "name": "stderr",
     "output_type": "stream",
     "text": [
      "0% [██] 100% | ETA: 00:00:00\n",
      "Total time elapsed: 00:00:06\n"
     ]
    },
    {
     "name": "stdout",
     "output_type": "stream",
     "text": [
      "Finished Epoch 6 || Run Time:    4.9 | Load Time:    2.2 || F1:  75.26 | Prec:  62.93 | Rec:  93.59 || Ex/s:  44.95\n",
      "\n",
      "===>  EVAL Epoch 6\n",
      "Finished Epoch 6 || Run Time:    0.7 | Load Time:    0.7 || F1:  72.41 | Prec:  67.74 | Rec:  77.78 || Ex/s:  81.44\n",
      "\n",
      "* Best F1: tensor(72.4138, device='cuda:0')\n",
      "Saving best model...\n",
      "Done.\n",
      "---------------------\n",
      "\n",
      "===>  TRAIN Epoch 7\n"
     ]
    },
    {
     "name": "stderr",
     "output_type": "stream",
     "text": [
      "0% [██] 100% | ETA: 00:00:00\n",
      "Total time elapsed: 00:00:05\n"
     ]
    },
    {
     "name": "stdout",
     "output_type": "stream",
     "text": [
      "Finished Epoch 7 || Run Time:    4.6 | Load Time:    2.0 || F1:  81.72 | Prec:  70.37 | Rec:  97.44 || Ex/s:  48.69\n",
      "\n",
      "===>  EVAL Epoch 7\n",
      "Finished Epoch 7 || Run Time:    0.6 | Load Time:    0.7 || F1:  76.36 | Prec:  75.00 | Rec:  77.78 || Ex/s:  84.80\n",
      "\n",
      "* Best F1: tensor(76.3636, device='cuda:0')\n",
      "Saving best model...\n",
      "Done.\n",
      "---------------------\n",
      "\n",
      "===>  TRAIN Epoch 8\n"
     ]
    },
    {
     "name": "stderr",
     "output_type": "stream",
     "text": [
      "0% [██] 100% | ETA: 00:00:00\n",
      "Total time elapsed: 00:00:06\n"
     ]
    },
    {
     "name": "stdout",
     "output_type": "stream",
     "text": [
      "Finished Epoch 8 || Run Time:    4.7 | Load Time:    2.2 || F1:  88.51 | Prec:  80.21 | Rec:  98.72 || Ex/s:  46.44\n",
      "\n",
      "===>  EVAL Epoch 8\n",
      "Finished Epoch 8 || Run Time:    0.6 | Load Time:    0.6 || F1:  80.70 | Prec:  76.67 | Rec:  85.19 || Ex/s:  94.01\n",
      "\n",
      "* Best F1: tensor(80.7018, device='cuda:0')\n",
      "Saving best model...\n",
      "Done.\n",
      "---------------------\n",
      "\n",
      "===>  TRAIN Epoch 9\n"
     ]
    },
    {
     "name": "stderr",
     "output_type": "stream",
     "text": [
      "0% [██] 100% | ETA: 00:00:00\n",
      "Total time elapsed: 00:00:05\n"
     ]
    },
    {
     "name": "stdout",
     "output_type": "stream",
     "text": [
      "Finished Epoch 9 || Run Time:    4.4 | Load Time:    1.9 || F1:  94.55 | Prec:  89.66 | Rec: 100.00 || Ex/s:  50.78\n",
      "\n",
      "===>  EVAL Epoch 9\n",
      "Finished Epoch 9 || Run Time:    0.6 | Load Time:    0.6 || F1:  82.14 | Prec:  79.31 | Rec:  85.19 || Ex/s:  92.71\n",
      "\n",
      "* Best F1: tensor(82.1429, device='cuda:0')\n",
      "Saving best model...\n",
      "Done.\n",
      "---------------------\n",
      "\n",
      "===>  TRAIN Epoch 10\n"
     ]
    },
    {
     "name": "stderr",
     "output_type": "stream",
     "text": [
      "0% [██] 100% | ETA: 00:00:00\n",
      "Total time elapsed: 00:00:05\n"
     ]
    },
    {
     "name": "stdout",
     "output_type": "stream",
     "text": [
      "Finished Epoch 10 || Run Time:    4.4 | Load Time:    1.9 || F1:  96.30 | Prec:  92.86 | Rec: 100.00 || Ex/s:  50.46\n",
      "\n",
      "===>  EVAL Epoch 10\n",
      "Finished Epoch 10 || Run Time:    0.6 | Load Time:    0.6 || F1:  83.64 | Prec:  82.14 | Rec:  85.19 || Ex/s:  94.93\n",
      "\n",
      "* Best F1: tensor(83.6364, device='cuda:0')\n",
      "Saving best model...\n",
      "Done.\n",
      "---------------------\n",
      "\n",
      "===>  TRAIN Epoch 11\n"
     ]
    },
    {
     "name": "stderr",
     "output_type": "stream",
     "text": [
      "0% [██] 100% | ETA: 00:00:00\n",
      "Total time elapsed: 00:00:05\n"
     ]
    },
    {
     "name": "stdout",
     "output_type": "stream",
     "text": [
      "Finished Epoch 11 || Run Time:    4.5 | Load Time:    1.9 || F1:  98.11 | Prec:  96.30 | Rec: 100.00 || Ex/s:  50.30\n",
      "\n",
      "===>  EVAL Epoch 11\n",
      "Finished Epoch 11 || Run Time:    0.6 | Load Time:    0.6 || F1:  83.64 | Prec:  82.14 | Rec:  85.19 || Ex/s:  91.34\n",
      "\n",
      "---------------------\n",
      "\n",
      "===>  TRAIN Epoch 12\n"
     ]
    },
    {
     "name": "stderr",
     "output_type": "stream",
     "text": [
      "0% [██] 100% | ETA: 00:00:00\n",
      "Total time elapsed: 00:00:05\n"
     ]
    },
    {
     "name": "stdout",
     "output_type": "stream",
     "text": [
      "Finished Epoch 12 || Run Time:    4.5 | Load Time:    2.0 || F1:  97.50 | Prec:  95.12 | Rec: 100.00 || Ex/s:  49.36\n",
      "\n",
      "===>  EVAL Epoch 12\n",
      "Finished Epoch 12 || Run Time:    0.6 | Load Time:    0.7 || F1:  83.64 | Prec:  82.14 | Rec:  85.19 || Ex/s:  85.46\n",
      "\n",
      "---------------------\n",
      "\n",
      "===>  TRAIN Epoch 13\n"
     ]
    },
    {
     "name": "stderr",
     "output_type": "stream",
     "text": [
      "0% [██] 100% | ETA: 00:00:00\n",
      "Total time elapsed: 00:00:05\n"
     ]
    },
    {
     "name": "stdout",
     "output_type": "stream",
     "text": [
      "Finished Epoch 13 || Run Time:    4.5 | Load Time:    1.9 || F1:  98.11 | Prec:  96.30 | Rec: 100.00 || Ex/s:  50.27\n",
      "\n",
      "===>  EVAL Epoch 13\n",
      "Finished Epoch 13 || Run Time:    0.6 | Load Time:    0.6 || F1:  85.19 | Prec:  85.19 | Rec:  85.19 || Ex/s:  91.94\n",
      "\n",
      "* Best F1: tensor(85.1852, device='cuda:0')\n",
      "Saving best model...\n",
      "Done.\n",
      "---------------------\n",
      "\n",
      "===>  TRAIN Epoch 14\n"
     ]
    },
    {
     "name": "stderr",
     "output_type": "stream",
     "text": [
      "0% [██] 100% | ETA: 00:00:00\n",
      "Total time elapsed: 00:00:05\n"
     ]
    },
    {
     "name": "stdout",
     "output_type": "stream",
     "text": [
      "Finished Epoch 14 || Run Time:    4.4 | Load Time:    1.9 || F1:  98.73 | Prec:  97.50 | Rec: 100.00 || Ex/s:  50.61\n",
      "\n",
      "===>  EVAL Epoch 14\n",
      "Finished Epoch 14 || Run Time:    0.6 | Load Time:    0.6 || F1:  85.19 | Prec:  85.19 | Rec:  85.19 || Ex/s:  92.29\n",
      "\n",
      "---------------------\n",
      "\n",
      "===>  TRAIN Epoch 15\n"
     ]
    },
    {
     "name": "stderr",
     "output_type": "stream",
     "text": [
      "0% [██] 100% | ETA: 00:00:00\n",
      "Total time elapsed: 00:00:05\n"
     ]
    },
    {
     "name": "stdout",
     "output_type": "stream",
     "text": [
      "Finished Epoch 15 || Run Time:    4.6 | Load Time:    1.9 || F1:  99.36 | Prec:  98.73 | Rec: 100.00 || Ex/s:  49.07\n",
      "\n",
      "===>  EVAL Epoch 15\n",
      "Finished Epoch 15 || Run Time:    0.6 | Load Time:    0.7 || F1:  85.19 | Prec:  85.19 | Rec:  85.19 || Ex/s:  85.39\n",
      "\n",
      "---------------------\n",
      "\n",
      "===>  TRAIN Epoch 16\n"
     ]
    },
    {
     "name": "stderr",
     "output_type": "stream",
     "text": [
      "0% [██] 100% | ETA: 00:00:00\n",
      "Total time elapsed: 00:00:05\n"
     ]
    },
    {
     "name": "stdout",
     "output_type": "stream",
     "text": [
      "Finished Epoch 16 || Run Time:    4.5 | Load Time:    1.9 || F1:  99.36 | Prec:  98.73 | Rec: 100.00 || Ex/s:  49.85\n",
      "\n",
      "===>  EVAL Epoch 16\n",
      "Finished Epoch 16 || Run Time:    0.6 | Load Time:    0.6 || F1:  85.19 | Prec:  85.19 | Rec:  85.19 || Ex/s:  90.39\n",
      "\n",
      "---------------------\n",
      "\n",
      "===>  TRAIN Epoch 17\n"
     ]
    },
    {
     "name": "stderr",
     "output_type": "stream",
     "text": [
      "0% [██] 100% | ETA: 00:00:00\n",
      "Total time elapsed: 00:00:05\n"
     ]
    },
    {
     "name": "stdout",
     "output_type": "stream",
     "text": [
      "Finished Epoch 17 || Run Time:    4.7 | Load Time:    2.0 || F1:  99.36 | Prec:  98.73 | Rec: 100.00 || Ex/s:  48.25\n",
      "\n",
      "===>  EVAL Epoch 17\n",
      "Finished Epoch 17 || Run Time:    0.6 | Load Time:    0.7 || F1:  85.19 | Prec:  85.19 | Rec:  85.19 || Ex/s:  84.58\n",
      "\n",
      "---------------------\n",
      "\n",
      "===>  TRAIN Epoch 18\n"
     ]
    },
    {
     "name": "stderr",
     "output_type": "stream",
     "text": [
      "0% [██] 100% | ETA: 00:00:00\n",
      "Total time elapsed: 00:00:06\n"
     ]
    },
    {
     "name": "stdout",
     "output_type": "stream",
     "text": [
      "Finished Epoch 18 || Run Time:    4.9 | Load Time:    2.1 || F1:  99.36 | Prec:  98.73 | Rec: 100.00 || Ex/s:  45.93\n",
      "\n",
      "===>  EVAL Epoch 18\n",
      "Finished Epoch 18 || Run Time:    0.6 | Load Time:    0.7 || F1:  85.19 | Prec:  85.19 | Rec:  85.19 || Ex/s:  82.82\n",
      "\n",
      "---------------------\n",
      "\n",
      "===>  TRAIN Epoch 19\n"
     ]
    },
    {
     "name": "stderr",
     "output_type": "stream",
     "text": [
      "0% [██] 100% | ETA: 00:00:00\n",
      "Total time elapsed: 00:00:05\n"
     ]
    },
    {
     "name": "stdout",
     "output_type": "stream",
     "text": [
      "Finished Epoch 19 || Run Time:    4.6 | Load Time:    2.0 || F1:  99.36 | Prec:  98.73 | Rec: 100.00 || Ex/s:  48.71\n",
      "\n",
      "===>  EVAL Epoch 19\n",
      "Finished Epoch 19 || Run Time:    0.6 | Load Time:    0.6 || F1:  85.19 | Prec:  85.19 | Rec:  85.19 || Ex/s:  87.91\n",
      "\n",
      "---------------------\n",
      "\n",
      "===>  TRAIN Epoch 20\n"
     ]
    },
    {
     "name": "stderr",
     "output_type": "stream",
     "text": [
      "0% [██] 100% | ETA: 00:00:00\n",
      "Total time elapsed: 00:00:05\n"
     ]
    },
    {
     "name": "stdout",
     "output_type": "stream",
     "text": [
      "Finished Epoch 20 || Run Time:    4.7 | Load Time:    2.0 || F1:  99.36 | Prec:  98.73 | Rec: 100.00 || Ex/s:  47.68\n",
      "\n",
      "===>  EVAL Epoch 20\n",
      "Finished Epoch 20 || Run Time:    0.6 | Load Time:    0.7 || F1:  85.19 | Prec:  85.19 | Rec:  85.19 || Ex/s:  83.28\n",
      "\n",
      "---------------------\n",
      "\n",
      "===>  TRAIN Epoch 21\n"
     ]
    },
    {
     "name": "stderr",
     "output_type": "stream",
     "text": [
      "0% [██] 100% | ETA: 00:00:00\n",
      "Total time elapsed: 00:00:05\n"
     ]
    },
    {
     "name": "stdout",
     "output_type": "stream",
     "text": [
      "Finished Epoch 21 || Run Time:    4.7 | Load Time:    2.0 || F1:  99.36 | Prec:  98.73 | Rec: 100.00 || Ex/s:  48.09\n",
      "\n",
      "===>  EVAL Epoch 21\n",
      "Finished Epoch 21 || Run Time:    0.6 | Load Time:    0.6 || F1:  85.19 | Prec:  85.19 | Rec:  85.19 || Ex/s:  89.69\n",
      "\n",
      "---------------------\n",
      "\n",
      "===>  TRAIN Epoch 22\n"
     ]
    },
    {
     "name": "stderr",
     "output_type": "stream",
     "text": [
      "0% [██] 100% | ETA: 00:00:00\n",
      "Total time elapsed: 00:00:05\n"
     ]
    },
    {
     "name": "stdout",
     "output_type": "stream",
     "text": [
      "Finished Epoch 22 || Run Time:    4.7 | Load Time:    2.0 || F1:  99.36 | Prec:  98.73 | Rec: 100.00 || Ex/s:  48.03\n",
      "\n",
      "===>  EVAL Epoch 22\n",
      "Finished Epoch 22 || Run Time:    0.7 | Load Time:    0.7 || F1:  85.19 | Prec:  85.19 | Rec:  85.19 || Ex/s:  82.27\n",
      "\n",
      "---------------------\n",
      "\n",
      "===>  TRAIN Epoch 23\n"
     ]
    },
    {
     "name": "stderr",
     "output_type": "stream",
     "text": [
      "0% [██] 100% | ETA: 00:00:00\n",
      "Total time elapsed: 00:00:05\n"
     ]
    },
    {
     "name": "stdout",
     "output_type": "stream",
     "text": [
      "Finished Epoch 23 || Run Time:    4.7 | Load Time:    2.0 || F1:  99.36 | Prec:  98.73 | Rec: 100.00 || Ex/s:  47.41\n",
      "\n",
      "===>  EVAL Epoch 23\n",
      "Finished Epoch 23 || Run Time:    0.6 | Load Time:    0.7 || F1:  85.19 | Prec:  85.19 | Rec:  85.19 || Ex/s:  83.07\n",
      "\n",
      "---------------------\n",
      "\n",
      "===>  TRAIN Epoch 24\n"
     ]
    },
    {
     "name": "stderr",
     "output_type": "stream",
     "text": [
      "0% [██] 100% | ETA: 00:00:00\n",
      "Total time elapsed: 00:00:05\n"
     ]
    },
    {
     "name": "stdout",
     "output_type": "stream",
     "text": [
      "Finished Epoch 24 || Run Time:    4.7 | Load Time:    2.0 || F1:  99.36 | Prec:  98.73 | Rec: 100.00 || Ex/s:  47.70\n",
      "\n",
      "===>  EVAL Epoch 24\n",
      "Finished Epoch 24 || Run Time:    0.6 | Load Time:    0.7 || F1:  85.19 | Prec:  85.19 | Rec:  85.19 || Ex/s:  82.40\n",
      "\n",
      "---------------------\n",
      "\n",
      "===>  TRAIN Epoch 25\n"
     ]
    },
    {
     "name": "stderr",
     "output_type": "stream",
     "text": [
      "0% [██] 100% | ETA: 00:00:00\n",
      "Total time elapsed: 00:00:05\n"
     ]
    },
    {
     "name": "stdout",
     "output_type": "stream",
     "text": [
      "Finished Epoch 25 || Run Time:    4.7 | Load Time:    2.0 || F1:  99.36 | Prec:  98.73 | Rec: 100.00 || Ex/s:  47.95\n",
      "\n",
      "===>  EVAL Epoch 25\n",
      "Finished Epoch 25 || Run Time:    0.6 | Load Time:    0.7 || F1:  85.19 | Prec:  85.19 | Rec:  85.19 || Ex/s:  82.66\n",
      "\n",
      "---------------------\n",
      "\n",
      "Loading best model...\n",
      "Training done.\n"
     ]
    },
    {
     "data": {
      "text/plain": [
       "tensor(85.1852, device='cuda:0')"
      ]
     },
     "execution_count": 20,
     "metadata": {},
     "output_type": "execute_result"
    }
   ],
   "source": [
    "att_model2 = dm.MatchingModel(attr_summarizer='hybrid')\n",
    "att_model2.run_train(train,validation,epochs=25,pos_neg_ratio=5,\n",
    "                    best_save_path='models/itunes_amazon_hybrid_adversarial20.pth')"
   ]
  },
  {
   "cell_type": "code",
   "execution_count": 21,
   "metadata": {
    "ExecuteTime": {
     "end_time": "2020-02-09T15:00:52.243085Z",
     "start_time": "2020-02-09T15:00:50.813147Z"
    }
   },
   "outputs": [
    {
     "name": "stdout",
     "output_type": "stream",
     "text": [
      "===>  EVAL Epoch 13\n",
      "Finished Epoch 13 || Run Time:    0.7 | Load Time:    0.7 || F1:  84.00 | Prec:  91.30 | Rec:  77.78 || Ex/s:  80.33\n",
      "\n"
     ]
    },
    {
     "data": {
      "text/plain": [
       "tensor(84., device='cuda:0')"
      ]
     },
     "execution_count": 21,
     "metadata": {},
     "output_type": "execute_result"
    }
   ],
   "source": [
    "att_model2.run_eval(test)"
   ]
  },
  {
   "cell_type": "code",
   "execution_count": 22,
   "metadata": {
    "ExecuteTime": {
     "end_time": "2020-02-09T15:01:04.963263Z",
     "start_time": "2020-02-09T15:01:03.129732Z"
    }
   },
   "outputs": [
    {
     "data": {
      "text/plain": [
       "(0.7836888705235009, 0.016787313181924515)"
      ]
     },
     "execution_count": 22,
     "metadata": {},
     "output_type": "execute_result"
    }
   ],
   "source": [
    "getMeanConfidenceAndVariance(att_model,test_df)"
   ]
  },
  {
   "cell_type": "code",
   "execution_count": 24,
   "metadata": {
    "ExecuteTime": {
     "end_time": "2020-02-09T15:02:10.123073Z",
     "start_time": "2020-02-09T15:01:34.199975Z"
    }
   },
   "outputs": [
    {
     "name": "stderr",
     "output_type": "stream",
     "text": [
      "100%|██████████| 20/20 [00:35<00:00,  1.79s/it]\n"
     ]
    },
    {
     "data": {
      "text/plain": [
       "(0.6372940167985787, 0.5283647337019737, 0.8074074074074075)"
      ]
     },
     "execution_count": 24,
     "metadata": {},
     "output_type": "execute_result"
    }
   ],
   "source": [
    "avgf1,avgprecision,avgrecall = getAvgF1PrecisionRecall('datasets/Structured/itunes-amazon/merged_test.csv',\n",
    "                                                       att_model2,20,editdist=1)\n",
    "avgf1,avgprecision,avgrecall"
   ]
  },
  {
   "cell_type": "code",
   "execution_count": 36,
   "metadata": {
    "ExecuteTime": {
     "end_time": "2020-02-07T16:48:43.513088Z",
     "start_time": "2020-02-07T16:48:12.457438Z"
    }
   },
   "outputs": [
    {
     "name": "stderr",
     "output_type": "stream",
     "text": [
      "100%|██████████| 20/20 [00:31<00:00,  1.55s/it]\n"
     ]
    },
    {
     "data": {
      "text/plain": [
       "(0.5977356035542621, 0.4743214801476393, 0.8111111111111112)"
      ]
     },
     "execution_count": 36,
     "metadata": {},
     "output_type": "execute_result"
    }
   ],
   "source": [
    "avgf1,avgprecision,avgrecall = getAvgF1PrecisionRecall('datasets/Structured/itunes-amazon/merged_test.csv',\n",
    "                                                       att_model,20,editdist=2)\n",
    "avgf1,avgprecision,avgrecall"
   ]
  },
  {
   "cell_type": "markdown",
   "metadata": {},
   "source": [
    "## Retrain with 33% perturbed tra"
   ]
  },
  {
   "cell_type": "code",
   "execution_count": 26,
   "metadata": {
    "ExecuteTime": {
     "end_time": "2020-02-09T15:07:13.659162Z",
     "start_time": "2020-02-09T15:07:13.582754Z"
    }
   },
   "outputs": [],
   "source": [
    "train_df = pd.read_csv(DATASET_DIR+'merged_train.csv')\n",
    "adversarialTrain_30 = getAdversarialTrainingSet(train_df,int(len(train_df)/3),editdist=1)"
   ]
  },
  {
   "cell_type": "code",
   "execution_count": 28,
   "metadata": {
    "ExecuteTime": {
     "end_time": "2020-02-09T15:08:00.187643Z",
     "start_time": "2020-02-09T15:08:00.143363Z"
    }
   },
   "outputs": [],
   "source": [
    "adversarialTrain_30.to_csv(DATASET_DIR+'adversarial_train30.csv',index=False)"
   ]
  },
  {
   "cell_type": "code",
   "execution_count": 29,
   "metadata": {
    "ExecuteTime": {
     "end_time": "2020-02-09T15:08:13.675522Z",
     "start_time": "2020-02-09T15:08:11.399455Z"
    }
   },
   "outputs": [
    {
     "name": "stderr",
     "output_type": "stream",
     "text": [
      "WARNING:deepmatcher.data.dataset:Rebuilding data cache because: ['Data file list has changed.', 'One or more data files have been modified.']\n",
      "\n",
      "Reading and processing data from \"datasets/Structured/itunes-amazon/adversarial_train30.csv\"\n",
      "0% [############################# ] 100% | ETA: 00:00:00\n",
      "Reading and processing data from \"datasets/Structured/itunes-amazon/merged_valid.csv\"\n",
      "0% [############################# ] 100% | ETA: 00:00:00\n",
      "Reading and processing data from \"datasets/Structured/itunes-amazon/merged_test.csv\"\n",
      "0% [############################# ] 100% | ETA: 00:00:00\n",
      "Building vocabulary\n",
      "0% [#] 100% | ETA: 00:00:00\n",
      "Total time elapsed: 00:00:00\n",
      "\n",
      "Computing principal components\n",
      "0% [#] 100% | ETA: 00:00:00\n",
      "Total time elapsed: 00:00:00\n"
     ]
    }
   ],
   "source": [
    "train,validation,test = dm.data.process('datasets/Structured/itunes-amazon/',train='adversarial_train30.csv',\n",
    "                                       validation='merged_valid.csv',test='merged_test.csv',\n",
    "                                       left_prefix='ltable_',right_prefix='rtable_',cache='editdist.pth')"
   ]
  },
  {
   "cell_type": "code",
   "execution_count": 31,
   "metadata": {
    "ExecuteTime": {
     "end_time": "2020-02-09T15:15:28.789991Z",
     "start_time": "2020-02-09T15:08:51.216167Z"
    }
   },
   "outputs": [
    {
     "name": "stdout",
     "output_type": "stream",
     "text": [
      "* Number of trainable parameters: 17757810\n",
      "===>  TRAIN Epoch 1\n"
     ]
    },
    {
     "name": "stderr",
     "output_type": "stream",
     "text": [
      "/home/nvidia/anaconda3/envs/torchenv/lib/python3.6/site-packages/torch/nn/functional.py:1932: UserWarning: reduction: 'mean' divides the total loss by both the batch size and the support size.'batchmean' divides only by the batch size, and aligns with the KL div math definition.'mean' will be changed to behave the same as 'batchmean' in the next major release.\n",
      "  warnings.warn(\"reduction: 'mean' divides the total loss by both the batch size and the support size.\"\n",
      "0% [████] 100% | ETA: 00:00:00\n",
      "Total time elapsed: 00:00:10\n"
     ]
    },
    {
     "name": "stdout",
     "output_type": "stream",
     "text": [
      "Finished Epoch 1 || Run Time:    9.1 | Load Time:    2.1 || F1:  39.39 | Prec:  24.53 | Rec: 100.00 || Ex/s:  28.64\n",
      "\n",
      "===>  EVAL Epoch 1\n"
     ]
    },
    {
     "name": "stderr",
     "output_type": "stream",
     "text": [
      "0% [█] 100% | ETA: 00:00:00\n",
      "Total time elapsed: 00:00:01\n"
     ]
    },
    {
     "name": "stdout",
     "output_type": "stream",
     "text": [
      "Finished Epoch 1 || Run Time:    1.1 | Load Time:    0.6 || F1:  49.06 | Prec:  32.91 | Rec:  96.30 || Ex/s:  64.06\n",
      "\n",
      "* Best F1: tensor(49.0566, device='cuda:0')\n",
      "Saving best model...\n",
      "Done.\n",
      "---------------------\n",
      "\n",
      "===>  TRAIN Epoch 2\n"
     ]
    },
    {
     "name": "stderr",
     "output_type": "stream",
     "text": [
      "0% [████] 100% | ETA: 00:00:00\n",
      "Total time elapsed: 00:00:10\n"
     ]
    },
    {
     "name": "stdout",
     "output_type": "stream",
     "text": [
      "Finished Epoch 2 || Run Time:    9.1 | Load Time:    2.0 || F1:  57.83 | Prec:  42.11 | Rec:  92.31 || Ex/s:  28.78\n",
      "\n",
      "===>  EVAL Epoch 2\n"
     ]
    },
    {
     "name": "stderr",
     "output_type": "stream",
     "text": [
      "0% [█] 100% | ETA: 00:00:00\n",
      "Total time elapsed: 00:00:01\n"
     ]
    },
    {
     "name": "stdout",
     "output_type": "stream",
     "text": [
      "Finished Epoch 2 || Run Time:    1.1 | Load Time:    0.6 || F1:  55.42 | Prec:  41.07 | Rec:  85.19 || Ex/s:  63.25\n",
      "\n",
      "* Best F1: tensor(55.4217, device='cuda:0')\n",
      "Saving best model...\n",
      "Done.\n",
      "---------------------\n",
      "\n",
      "===>  TRAIN Epoch 3\n"
     ]
    },
    {
     "name": "stderr",
     "output_type": "stream",
     "text": [
      "0% [████] 100% | ETA: 00:00:00\n",
      "Total time elapsed: 00:00:10\n"
     ]
    },
    {
     "name": "stdout",
     "output_type": "stream",
     "text": [
      "Finished Epoch 3 || Run Time:    9.4 | Load Time:    2.2 || F1:  68.60 | Prec:  55.04 | Rec:  91.03 || Ex/s:  27.70\n",
      "\n",
      "===>  EVAL Epoch 3\n"
     ]
    },
    {
     "name": "stderr",
     "output_type": "stream",
     "text": [
      "0% [█] 100% | ETA: 00:00:00\n",
      "Total time elapsed: 00:00:01\n"
     ]
    },
    {
     "name": "stdout",
     "output_type": "stream",
     "text": [
      "Finished Epoch 3 || Run Time:    1.1 | Load Time:    0.6 || F1:  62.69 | Prec:  52.50 | Rec:  77.78 || Ex/s:  62.67\n",
      "\n",
      "* Best F1: tensor(62.6866, device='cuda:0')\n",
      "Saving best model...\n",
      "Done.\n",
      "---------------------\n",
      "\n",
      "===>  TRAIN Epoch 4\n"
     ]
    },
    {
     "name": "stderr",
     "output_type": "stream",
     "text": [
      "0% [████] 100% | ETA: 00:00:00\n",
      "Total time elapsed: 00:00:10\n"
     ]
    },
    {
     "name": "stdout",
     "output_type": "stream",
     "text": [
      "Finished Epoch 4 || Run Time:    9.6 | Load Time:    2.2 || F1:  75.90 | Prec:  63.25 | Rec:  94.87 || Ex/s:  27.26\n",
      "\n",
      "===>  EVAL Epoch 4\n"
     ]
    },
    {
     "name": "stderr",
     "output_type": "stream",
     "text": [
      "0% [█] 100% | ETA: 00:00:00\n",
      "Total time elapsed: 00:00:01\n"
     ]
    },
    {
     "name": "stdout",
     "output_type": "stream",
     "text": [
      "Finished Epoch 4 || Run Time:    1.1 | Load Time:    0.6 || F1:  64.86 | Prec:  51.06 | Rec:  88.89 || Ex/s:  63.36\n",
      "\n",
      "* Best F1: tensor(64.8649, device='cuda:0')\n",
      "Saving best model...\n",
      "Done.\n",
      "---------------------\n",
      "\n",
      "===>  TRAIN Epoch 5\n"
     ]
    },
    {
     "name": "stderr",
     "output_type": "stream",
     "text": [
      "0% [████] 100% | ETA: 00:00:00\n",
      "Total time elapsed: 00:00:10\n"
     ]
    },
    {
     "name": "stdout",
     "output_type": "stream",
     "text": [
      "Finished Epoch 5 || Run Time:    9.6 | Load Time:    2.2 || F1:  79.17 | Prec:  66.67 | Rec:  97.44 || Ex/s:  27.21\n",
      "\n",
      "===>  EVAL Epoch 5\n"
     ]
    },
    {
     "name": "stderr",
     "output_type": "stream",
     "text": [
      "0% [█] 100% | ETA: 00:00:00\n",
      "Total time elapsed: 00:00:01\n"
     ]
    },
    {
     "name": "stdout",
     "output_type": "stream",
     "text": [
      "Finished Epoch 5 || Run Time:    1.1 | Load Time:    0.6 || F1:  69.44 | Prec:  55.56 | Rec:  92.59 || Ex/s:  64.20\n",
      "\n",
      "* Best F1: tensor(69.4444, device='cuda:0')\n",
      "Saving best model...\n",
      "Done.\n",
      "---------------------\n",
      "\n",
      "===>  TRAIN Epoch 6\n"
     ]
    },
    {
     "name": "stderr",
     "output_type": "stream",
     "text": [
      "0% [████] 100% | ETA: 00:00:00\n",
      "Total time elapsed: 00:00:10\n"
     ]
    },
    {
     "name": "stdout",
     "output_type": "stream",
     "text": [
      "Finished Epoch 6 || Run Time:    9.6 | Load Time:    2.2 || F1:  86.19 | Prec:  75.73 | Rec: 100.00 || Ex/s:  27.27\n",
      "\n",
      "===>  EVAL Epoch 6\n"
     ]
    },
    {
     "name": "stderr",
     "output_type": "stream",
     "text": [
      "0% [█] 100% | ETA: 00:00:00\n",
      "Total time elapsed: 00:00:01\n"
     ]
    },
    {
     "name": "stdout",
     "output_type": "stream",
     "text": [
      "Finished Epoch 6 || Run Time:    1.1 | Load Time:    0.6 || F1:  67.65 | Prec:  56.10 | Rec:  85.19 || Ex/s:  63.21\n",
      "\n",
      "---------------------\n",
      "\n",
      "===>  TRAIN Epoch 7\n"
     ]
    },
    {
     "name": "stderr",
     "output_type": "stream",
     "text": [
      "0% [████] 100% | ETA: 00:00:00\n",
      "Total time elapsed: 00:00:10\n"
     ]
    },
    {
     "name": "stdout",
     "output_type": "stream",
     "text": [
      "Finished Epoch 7 || Run Time:    9.4 | Load Time:    2.1 || F1:  91.23 | Prec:  83.87 | Rec: 100.00 || Ex/s:  27.87\n",
      "\n",
      "===>  EVAL Epoch 7\n"
     ]
    },
    {
     "name": "stderr",
     "output_type": "stream",
     "text": [
      "0% [█] 100% | ETA: 00:00:00\n",
      "Total time elapsed: 00:00:01\n"
     ]
    },
    {
     "name": "stdout",
     "output_type": "stream",
     "text": [
      "Finished Epoch 7 || Run Time:    1.1 | Load Time:    0.6 || F1:  74.19 | Prec:  65.71 | Rec:  85.19 || Ex/s:  63.68\n",
      "\n",
      "* Best F1: tensor(74.1936, device='cuda:0')\n",
      "Saving best model...\n",
      "Done.\n",
      "---------------------\n",
      "\n",
      "===>  TRAIN Epoch 8\n"
     ]
    },
    {
     "name": "stderr",
     "output_type": "stream",
     "text": [
      "0% [████] 100% | ETA: 00:00:00\n",
      "Total time elapsed: 00:00:10\n"
     ]
    },
    {
     "name": "stdout",
     "output_type": "stream",
     "text": [
      "Finished Epoch 8 || Run Time:    9.6 | Load Time:    2.2 || F1:  96.89 | Prec:  93.98 | Rec: 100.00 || Ex/s:  27.27\n",
      "\n",
      "===>  EVAL Epoch 8\n"
     ]
    },
    {
     "name": "stderr",
     "output_type": "stream",
     "text": [
      "0% [█] 100% | ETA: 00:00:00\n",
      "Total time elapsed: 00:00:01\n"
     ]
    },
    {
     "name": "stdout",
     "output_type": "stream",
     "text": [
      "Finished Epoch 8 || Run Time:    1.1 | Load Time:    0.6 || F1:  76.19 | Prec:  66.67 | Rec:  88.89 || Ex/s:  63.66\n",
      "\n",
      "* Best F1: tensor(76.1905, device='cuda:0')\n",
      "Saving best model...\n",
      "Done.\n",
      "---------------------\n",
      "\n",
      "===>  TRAIN Epoch 9\n"
     ]
    },
    {
     "name": "stderr",
     "output_type": "stream",
     "text": [
      "0% [████] 100% | ETA: 00:00:00\n",
      "Total time elapsed: 00:00:10\n"
     ]
    },
    {
     "name": "stdout",
     "output_type": "stream",
     "text": [
      "Finished Epoch 9 || Run Time:    9.5 | Load Time:    2.2 || F1:  99.36 | Prec:  98.73 | Rec: 100.00 || Ex/s:  27.45\n",
      "\n",
      "===>  EVAL Epoch 9\n"
     ]
    },
    {
     "name": "stderr",
     "output_type": "stream",
     "text": [
      "0% [█] 100% | ETA: 00:00:00\n",
      "Total time elapsed: 00:00:01\n"
     ]
    },
    {
     "name": "stdout",
     "output_type": "stream",
     "text": [
      "Finished Epoch 9 || Run Time:    1.1 | Load Time:    0.6 || F1:  76.19 | Prec:  66.67 | Rec:  88.89 || Ex/s:  63.72\n",
      "\n",
      "---------------------\n",
      "\n",
      "===>  TRAIN Epoch 10\n"
     ]
    },
    {
     "name": "stderr",
     "output_type": "stream",
     "text": [
      "0% [████] 100% | ETA: 00:00:00\n",
      "Total time elapsed: 00:00:10\n"
     ]
    },
    {
     "name": "stdout",
     "output_type": "stream",
     "text": [
      "Finished Epoch 10 || Run Time:    9.5 | Load Time:    2.1 || F1:  99.36 | Prec:  98.73 | Rec: 100.00 || Ex/s:  27.47\n",
      "\n",
      "===>  EVAL Epoch 10\n"
     ]
    },
    {
     "name": "stderr",
     "output_type": "stream",
     "text": [
      "0% [█] 100% | ETA: 00:00:00\n",
      "Total time elapsed: 00:00:01\n"
     ]
    },
    {
     "name": "stdout",
     "output_type": "stream",
     "text": [
      "Finished Epoch 10 || Run Time:    1.1 | Load Time:    0.6 || F1:  77.42 | Prec:  68.57 | Rec:  88.89 || Ex/s:  65.36\n",
      "\n",
      "* Best F1: tensor(77.4194, device='cuda:0')\n",
      "Saving best model...\n",
      "Done.\n",
      "---------------------\n",
      "\n",
      "===>  TRAIN Epoch 11\n"
     ]
    },
    {
     "name": "stderr",
     "output_type": "stream",
     "text": [
      "0% [████] 100% | ETA: 00:00:00\n",
      "Total time elapsed: 00:00:10\n"
     ]
    },
    {
     "name": "stdout",
     "output_type": "stream",
     "text": [
      "Finished Epoch 11 || Run Time:    9.5 | Load Time:    2.2 || F1:  99.36 | Prec:  98.73 | Rec: 100.00 || Ex/s:  27.46\n",
      "\n",
      "===>  EVAL Epoch 11\n"
     ]
    },
    {
     "name": "stderr",
     "output_type": "stream",
     "text": [
      "0% [█] 100% | ETA: 00:00:00\n",
      "Total time elapsed: 00:00:01\n"
     ]
    },
    {
     "name": "stdout",
     "output_type": "stream",
     "text": [
      "Finished Epoch 11 || Run Time:    1.1 | Load Time:    0.6 || F1:  75.41 | Prec:  67.65 | Rec:  85.19 || Ex/s:  64.73\n",
      "\n",
      "---------------------\n",
      "\n",
      "===>  TRAIN Epoch 12\n"
     ]
    },
    {
     "name": "stderr",
     "output_type": "stream",
     "text": [
      "0% [████] 100% | ETA: 00:00:00\n",
      "Total time elapsed: 00:00:10\n"
     ]
    },
    {
     "name": "stdout",
     "output_type": "stream",
     "text": [
      "Finished Epoch 12 || Run Time:    9.5 | Load Time:    2.1 || F1: 100.00 | Prec: 100.00 | Rec: 100.00 || Ex/s:  27.57\n",
      "\n",
      "===>  EVAL Epoch 12\n"
     ]
    },
    {
     "name": "stderr",
     "output_type": "stream",
     "text": [
      "0% [█] 100% | ETA: 00:00:00\n",
      "Total time elapsed: 00:00:01\n"
     ]
    },
    {
     "name": "stdout",
     "output_type": "stream",
     "text": [
      "Finished Epoch 12 || Run Time:    1.1 | Load Time:    0.6 || F1:  76.19 | Prec:  66.67 | Rec:  88.89 || Ex/s:  65.50\n",
      "\n",
      "---------------------\n",
      "\n",
      "===>  TRAIN Epoch 13\n"
     ]
    },
    {
     "name": "stderr",
     "output_type": "stream",
     "text": [
      "0% [████] 100% | ETA: 00:00:00\n",
      "Total time elapsed: 00:00:10\n"
     ]
    },
    {
     "name": "stdout",
     "output_type": "stream",
     "text": [
      "Finished Epoch 13 || Run Time:    9.4 | Load Time:    2.1 || F1: 100.00 | Prec: 100.00 | Rec: 100.00 || Ex/s:  27.89\n",
      "\n",
      "===>  EVAL Epoch 13\n"
     ]
    },
    {
     "name": "stderr",
     "output_type": "stream",
     "text": [
      "0% [█] 100% | ETA: 00:00:00\n",
      "Total time elapsed: 00:00:01\n"
     ]
    },
    {
     "name": "stdout",
     "output_type": "stream",
     "text": [
      "Finished Epoch 13 || Run Time:    1.1 | Load Time:    0.6 || F1:  76.19 | Prec:  66.67 | Rec:  88.89 || Ex/s:  65.28\n",
      "\n",
      "---------------------\n",
      "\n",
      "===>  TRAIN Epoch 14\n"
     ]
    },
    {
     "name": "stderr",
     "output_type": "stream",
     "text": [
      "0% [████] 100% | ETA: 00:00:00\n",
      "Total time elapsed: 00:00:10\n"
     ]
    },
    {
     "name": "stdout",
     "output_type": "stream",
     "text": [
      "Finished Epoch 14 || Run Time:    9.4 | Load Time:    2.1 || F1: 100.00 | Prec: 100.00 | Rec: 100.00 || Ex/s:  27.78\n",
      "\n",
      "===>  EVAL Epoch 14\n"
     ]
    },
    {
     "name": "stderr",
     "output_type": "stream",
     "text": [
      "0% [█] 100% | ETA: 00:00:00\n",
      "Total time elapsed: 00:00:01\n"
     ]
    },
    {
     "name": "stdout",
     "output_type": "stream",
     "text": [
      "Finished Epoch 14 || Run Time:    1.1 | Load Time:    0.6 || F1:  76.19 | Prec:  66.67 | Rec:  88.89 || Ex/s:  65.63\n",
      "\n",
      "---------------------\n",
      "\n",
      "===>  TRAIN Epoch 15\n"
     ]
    },
    {
     "name": "stderr",
     "output_type": "stream",
     "text": [
      "0% [████] 100% | ETA: 00:00:00\n",
      "Total time elapsed: 00:00:10\n"
     ]
    },
    {
     "name": "stdout",
     "output_type": "stream",
     "text": [
      "Finished Epoch 15 || Run Time:    9.3 | Load Time:    2.1 || F1: 100.00 | Prec: 100.00 | Rec: 100.00 || Ex/s:  28.13\n",
      "\n",
      "===>  EVAL Epoch 15\n"
     ]
    },
    {
     "name": "stderr",
     "output_type": "stream",
     "text": [
      "0% [█] 100% | ETA: 00:00:00\n",
      "Total time elapsed: 00:00:01\n"
     ]
    },
    {
     "name": "stdout",
     "output_type": "stream",
     "text": [
      "Finished Epoch 15 || Run Time:    1.1 | Load Time:    0.6 || F1:  76.19 | Prec:  66.67 | Rec:  88.89 || Ex/s:  64.28\n",
      "\n",
      "---------------------\n",
      "\n",
      "===>  TRAIN Epoch 16\n"
     ]
    },
    {
     "name": "stderr",
     "output_type": "stream",
     "text": [
      "0% [████] 100% | ETA: 00:00:00\n",
      "Total time elapsed: 00:00:10\n"
     ]
    },
    {
     "name": "stdout",
     "output_type": "stream",
     "text": [
      "Finished Epoch 16 || Run Time:    9.5 | Load Time:    2.1 || F1: 100.00 | Prec: 100.00 | Rec: 100.00 || Ex/s:  27.88\n",
      "\n",
      "===>  EVAL Epoch 16\n"
     ]
    },
    {
     "name": "stderr",
     "output_type": "stream",
     "text": [
      "0% [█] 100% | ETA: 00:00:00\n",
      "Total time elapsed: 00:00:01\n"
     ]
    },
    {
     "name": "stdout",
     "output_type": "stream",
     "text": [
      "Finished Epoch 16 || Run Time:    1.1 | Load Time:    0.6 || F1:  76.19 | Prec:  66.67 | Rec:  88.89 || Ex/s:  65.75\n",
      "\n",
      "---------------------\n",
      "\n",
      "===>  TRAIN Epoch 17\n"
     ]
    },
    {
     "name": "stderr",
     "output_type": "stream",
     "text": [
      "0% [████] 100% | ETA: 00:00:00\n",
      "Total time elapsed: 00:00:10\n"
     ]
    },
    {
     "name": "stdout",
     "output_type": "stream",
     "text": [
      "Finished Epoch 17 || Run Time:    9.4 | Load Time:    2.1 || F1: 100.00 | Prec: 100.00 | Rec: 100.00 || Ex/s:  28.00\n",
      "\n",
      "===>  EVAL Epoch 17\n"
     ]
    },
    {
     "name": "stderr",
     "output_type": "stream",
     "text": [
      "0% [█] 100% | ETA: 00:00:00\n",
      "Total time elapsed: 00:00:01\n"
     ]
    },
    {
     "name": "stdout",
     "output_type": "stream",
     "text": [
      "Finished Epoch 17 || Run Time:    1.1 | Load Time:    0.6 || F1:  76.19 | Prec:  66.67 | Rec:  88.89 || Ex/s:  64.88\n",
      "\n",
      "---------------------\n",
      "\n",
      "===>  TRAIN Epoch 18\n"
     ]
    },
    {
     "name": "stderr",
     "output_type": "stream",
     "text": [
      "0% [████] 100% | ETA: 00:00:00\n",
      "Total time elapsed: 00:00:10\n"
     ]
    },
    {
     "name": "stdout",
     "output_type": "stream",
     "text": [
      "Finished Epoch 18 || Run Time:    9.5 | Load Time:    2.1 || F1: 100.00 | Prec: 100.00 | Rec: 100.00 || Ex/s:  27.51\n",
      "\n",
      "===>  EVAL Epoch 18\n"
     ]
    },
    {
     "name": "stderr",
     "output_type": "stream",
     "text": [
      "0% [█] 100% | ETA: 00:00:00\n",
      "Total time elapsed: 00:00:01\n"
     ]
    },
    {
     "name": "stdout",
     "output_type": "stream",
     "text": [
      "Finished Epoch 18 || Run Time:    1.1 | Load Time:    0.6 || F1:  76.19 | Prec:  66.67 | Rec:  88.89 || Ex/s:  64.65\n",
      "\n",
      "---------------------\n",
      "\n",
      "===>  TRAIN Epoch 19\n"
     ]
    },
    {
     "name": "stderr",
     "output_type": "stream",
     "text": [
      "0% [████] 100% | ETA: 00:00:00\n",
      "Total time elapsed: 00:00:10\n"
     ]
    },
    {
     "name": "stdout",
     "output_type": "stream",
     "text": [
      "Finished Epoch 19 || Run Time:    9.5 | Load Time:    2.1 || F1: 100.00 | Prec: 100.00 | Rec: 100.00 || Ex/s:  27.69\n",
      "\n",
      "===>  EVAL Epoch 19\n"
     ]
    },
    {
     "name": "stderr",
     "output_type": "stream",
     "text": [
      "0% [█] 100% | ETA: 00:00:00\n",
      "Total time elapsed: 00:00:01\n"
     ]
    },
    {
     "name": "stdout",
     "output_type": "stream",
     "text": [
      "Finished Epoch 19 || Run Time:    1.1 | Load Time:    0.6 || F1:  76.19 | Prec:  66.67 | Rec:  88.89 || Ex/s:  65.04\n",
      "\n",
      "---------------------\n",
      "\n",
      "===>  TRAIN Epoch 20\n"
     ]
    },
    {
     "name": "stderr",
     "output_type": "stream",
     "text": [
      "0% [████] 100% | ETA: 00:00:00\n",
      "Total time elapsed: 00:00:10\n"
     ]
    },
    {
     "name": "stdout",
     "output_type": "stream",
     "text": [
      "Finished Epoch 20 || Run Time:    9.4 | Load Time:    2.1 || F1: 100.00 | Prec: 100.00 | Rec: 100.00 || Ex/s:  28.02\n",
      "\n",
      "===>  EVAL Epoch 20\n"
     ]
    },
    {
     "name": "stderr",
     "output_type": "stream",
     "text": [
      "0% [█] 100% | ETA: 00:00:00\n",
      "Total time elapsed: 00:00:01\n"
     ]
    },
    {
     "name": "stdout",
     "output_type": "stream",
     "text": [
      "Finished Epoch 20 || Run Time:    1.1 | Load Time:    0.6 || F1:  76.19 | Prec:  66.67 | Rec:  88.89 || Ex/s:  64.21\n",
      "\n",
      "---------------------\n",
      "\n",
      "===>  TRAIN Epoch 21\n"
     ]
    },
    {
     "name": "stderr",
     "output_type": "stream",
     "text": [
      "0% [████] 100% | ETA: 00:00:00\n",
      "Total time elapsed: 00:00:10\n"
     ]
    },
    {
     "name": "stdout",
     "output_type": "stream",
     "text": [
      "Finished Epoch 21 || Run Time:    9.4 | Load Time:    2.1 || F1: 100.00 | Prec: 100.00 | Rec: 100.00 || Ex/s:  27.76\n",
      "\n",
      "===>  EVAL Epoch 21\n"
     ]
    },
    {
     "name": "stderr",
     "output_type": "stream",
     "text": [
      "0% [█] 100% | ETA: 00:00:00\n",
      "Total time elapsed: 00:00:01\n"
     ]
    },
    {
     "name": "stdout",
     "output_type": "stream",
     "text": [
      "Finished Epoch 21 || Run Time:    1.1 | Load Time:    0.6 || F1:  76.19 | Prec:  66.67 | Rec:  88.89 || Ex/s:  64.58\n",
      "\n",
      "---------------------\n",
      "\n",
      "===>  TRAIN Epoch 22\n"
     ]
    },
    {
     "name": "stderr",
     "output_type": "stream",
     "text": [
      "0% [████] 100% | ETA: 00:00:00\n",
      "Total time elapsed: 00:00:10\n"
     ]
    },
    {
     "name": "stdout",
     "output_type": "stream",
     "text": [
      "Finished Epoch 22 || Run Time:    9.4 | Load Time:    2.1 || F1: 100.00 | Prec: 100.00 | Rec: 100.00 || Ex/s:  28.02\n",
      "\n",
      "===>  EVAL Epoch 22\n"
     ]
    },
    {
     "name": "stderr",
     "output_type": "stream",
     "text": [
      "0% [█] 100% | ETA: 00:00:00\n",
      "Total time elapsed: 00:00:01\n"
     ]
    },
    {
     "name": "stdout",
     "output_type": "stream",
     "text": [
      "Finished Epoch 22 || Run Time:    1.1 | Load Time:    0.6 || F1:  76.19 | Prec:  66.67 | Rec:  88.89 || Ex/s:  65.15\n",
      "\n",
      "---------------------\n",
      "\n",
      "===>  TRAIN Epoch 23\n"
     ]
    },
    {
     "name": "stderr",
     "output_type": "stream",
     "text": [
      "0% [████] 100% | ETA: 00:00:00\n",
      "Total time elapsed: 00:00:10\n"
     ]
    },
    {
     "name": "stdout",
     "output_type": "stream",
     "text": [
      "Finished Epoch 23 || Run Time:    9.4 | Load Time:    2.1 || F1: 100.00 | Prec: 100.00 | Rec: 100.00 || Ex/s:  27.84\n",
      "\n",
      "===>  EVAL Epoch 23\n"
     ]
    },
    {
     "name": "stderr",
     "output_type": "stream",
     "text": [
      "0% [█] 100% | ETA: 00:00:00\n",
      "Total time elapsed: 00:00:01\n"
     ]
    },
    {
     "name": "stdout",
     "output_type": "stream",
     "text": [
      "Finished Epoch 23 || Run Time:    1.1 | Load Time:    0.6 || F1:  76.19 | Prec:  66.67 | Rec:  88.89 || Ex/s:  64.33\n",
      "\n",
      "---------------------\n",
      "\n",
      "===>  TRAIN Epoch 24\n"
     ]
    },
    {
     "name": "stderr",
     "output_type": "stream",
     "text": [
      "0% [████] 100% | ETA: 00:00:00\n",
      "Total time elapsed: 00:00:10\n"
     ]
    },
    {
     "name": "stdout",
     "output_type": "stream",
     "text": [
      "Finished Epoch 24 || Run Time:    9.5 | Load Time:    2.2 || F1: 100.00 | Prec: 100.00 | Rec: 100.00 || Ex/s:  27.54\n",
      "\n",
      "===>  EVAL Epoch 24\n"
     ]
    },
    {
     "name": "stderr",
     "output_type": "stream",
     "text": [
      "0% [█] 100% | ETA: 00:00:00\n",
      "Total time elapsed: 00:00:01\n"
     ]
    },
    {
     "name": "stdout",
     "output_type": "stream",
     "text": [
      "Finished Epoch 24 || Run Time:    1.0 | Load Time:    0.6 || F1:  76.19 | Prec:  66.67 | Rec:  88.89 || Ex/s:  66.60\n",
      "\n",
      "---------------------\n",
      "\n",
      "===>  TRAIN Epoch 25\n"
     ]
    },
    {
     "name": "stderr",
     "output_type": "stream",
     "text": [
      "0% [████] 100% | ETA: 00:00:00\n",
      "Total time elapsed: 00:00:09\n"
     ]
    },
    {
     "name": "stdout",
     "output_type": "stream",
     "text": [
      "Finished Epoch 25 || Run Time:    8.7 | Load Time:    1.9 || F1: 100.00 | Prec: 100.00 | Rec: 100.00 || Ex/s:  30.25\n",
      "\n",
      "===>  EVAL Epoch 25\n"
     ]
    },
    {
     "name": "stderr",
     "output_type": "stream",
     "text": [
      "0% [█] 100% | ETA: 00:00:00\n",
      "Total time elapsed: 00:00:01\n"
     ]
    },
    {
     "name": "stdout",
     "output_type": "stream",
     "text": [
      "Finished Epoch 25 || Run Time:    1.0 | Load Time:    0.6 || F1:  76.19 | Prec:  66.67 | Rec:  88.89 || Ex/s:  70.93\n",
      "\n",
      "---------------------\n",
      "\n",
      "===>  TRAIN Epoch 26\n"
     ]
    },
    {
     "name": "stderr",
     "output_type": "stream",
     "text": [
      "0% [████] 100% | ETA: 00:00:00\n",
      "Total time elapsed: 00:00:09\n"
     ]
    },
    {
     "name": "stdout",
     "output_type": "stream",
     "text": [
      "Finished Epoch 26 || Run Time:    8.5 | Load Time:    1.8 || F1: 100.00 | Prec: 100.00 | Rec: 100.00 || Ex/s:  30.88\n",
      "\n",
      "===>  EVAL Epoch 26\n"
     ]
    },
    {
     "name": "stderr",
     "output_type": "stream",
     "text": [
      "0% [█] 100% | ETA: 00:00:00\n",
      "Total time elapsed: 00:00:01\n"
     ]
    },
    {
     "name": "stdout",
     "output_type": "stream",
     "text": [
      "Finished Epoch 26 || Run Time:    1.0 | Load Time:    0.6 || F1:  76.19 | Prec:  66.67 | Rec:  88.89 || Ex/s:  67.09\n",
      "\n",
      "---------------------\n",
      "\n",
      "===>  TRAIN Epoch 27\n"
     ]
    },
    {
     "name": "stderr",
     "output_type": "stream",
     "text": [
      "0% [████] 100% | ETA: 00:00:00\n",
      "Total time elapsed: 00:00:09\n"
     ]
    },
    {
     "name": "stdout",
     "output_type": "stream",
     "text": [
      "Finished Epoch 27 || Run Time:    8.3 | Load Time:    1.7 || F1: 100.00 | Prec: 100.00 | Rec: 100.00 || Ex/s:  32.12\n",
      "\n",
      "===>  EVAL Epoch 27\n"
     ]
    },
    {
     "name": "stderr",
     "output_type": "stream",
     "text": [
      "0% [█] 100% | ETA: 00:00:00\n",
      "Total time elapsed: 00:00:01\n"
     ]
    },
    {
     "name": "stdout",
     "output_type": "stream",
     "text": [
      "Finished Epoch 27 || Run Time:    1.0 | Load Time:    0.5 || F1:  76.19 | Prec:  66.67 | Rec:  88.89 || Ex/s:  72.03\n",
      "\n",
      "---------------------\n",
      "\n",
      "===>  TRAIN Epoch 28\n"
     ]
    },
    {
     "name": "stderr",
     "output_type": "stream",
     "text": [
      "0% [████] 100% | ETA: 00:00:00\n",
      "Total time elapsed: 00:00:09\n"
     ]
    },
    {
     "name": "stdout",
     "output_type": "stream",
     "text": [
      "Finished Epoch 28 || Run Time:    8.5 | Load Time:    1.8 || F1: 100.00 | Prec: 100.00 | Rec: 100.00 || Ex/s:  31.08\n",
      "\n",
      "===>  EVAL Epoch 28\n"
     ]
    },
    {
     "name": "stderr",
     "output_type": "stream",
     "text": [
      "0% [█] 100% | ETA: 00:00:00\n",
      "Total time elapsed: 00:00:01\n"
     ]
    },
    {
     "name": "stdout",
     "output_type": "stream",
     "text": [
      "Finished Epoch 28 || Run Time:    1.1 | Load Time:    0.6 || F1:  76.19 | Prec:  66.67 | Rec:  88.89 || Ex/s:  64.97\n",
      "\n",
      "---------------------\n",
      "\n",
      "===>  TRAIN Epoch 29\n"
     ]
    },
    {
     "name": "stderr",
     "output_type": "stream",
     "text": [
      "0% [████] 100% | ETA: 00:00:00\n",
      "Total time elapsed: 00:00:09\n"
     ]
    },
    {
     "name": "stdout",
     "output_type": "stream",
     "text": [
      "Finished Epoch 29 || Run Time:    8.5 | Load Time:    1.8 || F1: 100.00 | Prec: 100.00 | Rec: 100.00 || Ex/s:  31.09\n",
      "\n",
      "===>  EVAL Epoch 29\n"
     ]
    },
    {
     "name": "stderr",
     "output_type": "stream",
     "text": [
      "0% [█] 100% | ETA: 00:00:00\n",
      "Total time elapsed: 00:00:01\n"
     ]
    },
    {
     "name": "stdout",
     "output_type": "stream",
     "text": [
      "Finished Epoch 29 || Run Time:    1.0 | Load Time:    0.6 || F1:  76.19 | Prec:  66.67 | Rec:  88.89 || Ex/s:  68.79\n",
      "\n",
      "---------------------\n",
      "\n",
      "===>  TRAIN Epoch 30\n"
     ]
    },
    {
     "name": "stderr",
     "output_type": "stream",
     "text": [
      "0% [████] 100% | ETA: 00:00:00\n",
      "Total time elapsed: 00:00:09\n"
     ]
    },
    {
     "name": "stdout",
     "output_type": "stream",
     "text": [
      "Finished Epoch 30 || Run Time:    8.8 | Load Time:    1.9 || F1: 100.00 | Prec: 100.00 | Rec: 100.00 || Ex/s:  29.89\n",
      "\n",
      "===>  EVAL Epoch 30\n"
     ]
    },
    {
     "name": "stderr",
     "output_type": "stream",
     "text": [
      "0% [█] 100% | ETA: 00:00:00\n",
      "Total time elapsed: 00:00:01\n"
     ]
    },
    {
     "name": "stdout",
     "output_type": "stream",
     "text": [
      "Finished Epoch 30 || Run Time:    1.1 | Load Time:    0.6 || F1:  76.19 | Prec:  66.67 | Rec:  88.89 || Ex/s:  65.61\n",
      "\n",
      "---------------------\n",
      "\n",
      "Loading best model...\n",
      "Training done.\n"
     ]
    },
    {
     "data": {
      "text/plain": [
       "tensor(77.4194, device='cuda:0')"
      ]
     },
     "execution_count": 31,
     "metadata": {},
     "output_type": "execute_result"
    }
   ],
   "source": [
    "att_model3 = dm.MatchingModel(attr_summarizer='hybrid')\n",
    "att_model3.run_train(train,validation,epochs=30,pos_neg_ratio=5,batch_size=16,\n",
    "                    best_save_path='models/itunes_amazon_hybrid_adversarial30.pth')"
   ]
  },
  {
   "cell_type": "code",
   "execution_count": 32,
   "metadata": {
    "ExecuteTime": {
     "end_time": "2020-02-09T15:15:39.132619Z",
     "start_time": "2020-02-09T15:15:37.771072Z"
    }
   },
   "outputs": [
    {
     "name": "stdout",
     "output_type": "stream",
     "text": [
      "===>  EVAL Epoch 10\n",
      "Finished Epoch 10 || Run Time:    0.6 | Load Time:    0.7 || F1:  81.97 | Prec:  73.53 | Rec:  92.59 || Ex/s:  84.46\n",
      "\n"
     ]
    },
    {
     "data": {
      "text/plain": [
       "tensor(81.9672, device='cuda:0')"
      ]
     },
     "execution_count": 32,
     "metadata": {},
     "output_type": "execute_result"
    }
   ],
   "source": [
    "att_model3.run_eval(test)"
   ]
  },
  {
   "cell_type": "code",
   "execution_count": null,
   "metadata": {
    "ExecuteTime": {
     "start_time": "2020-02-09T15:15:51.128Z"
    }
   },
   "outputs": [
    {
     "name": "stderr",
     "output_type": "stream",
     "text": [
      " 50%|█████     | 10/20 [00:17<00:17,  1.74s/it]"
     ]
    }
   ],
   "source": [
    "avgf1,avgprecision,avgrecall = getAvgF1PrecisionRecall('datasets/Structured/itunes-amazon/merged_test.csv',\n",
    "                                                       att_model3,20,editdist=1)\n",
    "avgf1,avgprecision,avgrecall"
   ]
  },
  {
   "cell_type": "markdown",
   "metadata": {},
   "source": [
    "# Evaluate rankings with triangles"
   ]
  },
  {
   "cell_type": "markdown",
   "metadata": {},
   "source": [
    "## StandardModel"
   ]
  },
  {
   "cell_type": "code",
   "execution_count": 6,
   "metadata": {
    "ExecuteTime": {
     "end_time": "2020-03-09T16:02:26.774456Z",
     "start_time": "2020-03-09T16:02:26.739268Z"
    }
   },
   "outputs": [],
   "source": [
    "from utils.dataset_parser import getFullDataset,generate_train_valid_test\n",
    "from utils.explainer import Explainer\n",
    "from utils.mojito2 import aggregateRankings"
   ]
  },
  {
   "cell_type": "code",
   "execution_count": 7,
   "metadata": {
    "ExecuteTime": {
     "end_time": "2020-03-09T16:03:16.203905Z",
     "start_time": "2020-03-09T16:03:11.288424Z"
    }
   },
   "outputs": [],
   "source": [
    "itunes_model = dm.MatchingModel(attr_summarizer='hybrid')\n",
    "itunes_model.load_state('models/itunes_amazon_hybrid.pth')\n",
    "itunes_model = itunes_model.to('cuda')"
   ]
  },
  {
   "cell_type": "code",
   "execution_count": 8,
   "metadata": {
    "ExecuteTime": {
     "end_time": "2020-03-09T16:03:20.537284Z",
     "start_time": "2020-03-09T16:03:20.502688Z"
    }
   },
   "outputs": [],
   "source": [
    "explainer_standard = Explainer(itunes_model,[])"
   ]
  },
  {
   "cell_type": "code",
   "execution_count": 9,
   "metadata": {
    "ExecuteTime": {
     "end_time": "2020-03-09T16:03:22.636040Z",
     "start_time": "2020-03-09T16:03:22.603509Z"
    }
   },
   "outputs": [],
   "source": [
    "ITUNES_DIR ='datasets/Structured/itunes-amazon/'"
   ]
  },
  {
   "cell_type": "code",
   "execution_count": 17,
   "metadata": {
    "ExecuteTime": {
     "end_time": "2020-03-09T16:11:08.779527Z",
     "start_time": "2020-03-09T16:10:03.777732Z"
    }
   },
   "outputs": [
    {
     "name": "stderr",
     "output_type": "stream",
     "text": [
      "\n",
      "\n",
      "  0%|          | 0/52 [00:00<?, ?it/s]\u001b[A\u001b[A\n",
      "\n",
      "  2%|▏         | 1/52 [00:01<01:00,  1.18s/it]\u001b[A\u001b[A\n",
      "\n",
      "  4%|▍         | 2/52 [00:02<00:58,  1.18s/it]\u001b[A\u001b[A\n",
      "\n",
      "  6%|▌         | 3/52 [00:03<00:57,  1.18s/it]\u001b[A\u001b[A\n",
      "\n",
      "  8%|▊         | 4/52 [00:04<00:56,  1.18s/it]\u001b[A\u001b[A\n",
      "\n",
      " 10%|▉         | 5/52 [00:05<00:55,  1.19s/it]\u001b[A\u001b[A\n",
      "\n",
      " 12%|█▏        | 6/52 [00:07<00:54,  1.19s/it]\u001b[A\u001b[A\n",
      "\n",
      " 13%|█▎        | 7/52 [00:08<00:53,  1.20s/it]\u001b[A\u001b[A\n",
      "\n",
      " 15%|█▌        | 8/52 [00:09<00:52,  1.19s/it]\u001b[A\u001b[A\n",
      "\n",
      " 17%|█▋        | 9/52 [00:10<00:51,  1.19s/it]\u001b[A\u001b[A\n",
      "\n",
      " 19%|█▉        | 10/52 [00:11<00:49,  1.19s/it]\u001b[A\u001b[A\n",
      "\n",
      " 21%|██        | 11/52 [00:13<00:49,  1.21s/it]\u001b[A\u001b[A\n",
      "\n",
      " 23%|██▎       | 12/52 [00:14<00:48,  1.21s/it]\u001b[A\u001b[A\n",
      "\n",
      " 25%|██▌       | 13/52 [00:15<00:46,  1.20s/it]\u001b[A\u001b[A\n",
      "\n",
      " 27%|██▋       | 14/52 [00:16<00:45,  1.19s/it]\u001b[A\u001b[A\n",
      "\n",
      " 29%|██▉       | 15/52 [00:17<00:44,  1.19s/it]\u001b[A\u001b[A\n",
      "\n",
      " 31%|███       | 16/52 [00:19<00:42,  1.19s/it]\u001b[A\u001b[A\n",
      "\n",
      " 33%|███▎      | 17/52 [00:20<00:42,  1.21s/it]\u001b[A\u001b[A\n",
      "\n",
      " 35%|███▍      | 18/52 [00:21<00:40,  1.20s/it]\u001b[A\u001b[A\n",
      "\n",
      " 37%|███▋      | 19/52 [00:22<00:39,  1.19s/it]\u001b[A\u001b[A\n",
      "\n",
      " 38%|███▊      | 20/52 [00:23<00:38,  1.19s/it]\u001b[A\u001b[A\n",
      "\n",
      " 40%|████      | 21/52 [00:25<00:36,  1.19s/it]\u001b[A\u001b[A\n",
      "\n",
      " 42%|████▏     | 22/52 [00:26<00:36,  1.20s/it]\u001b[A\u001b[A\n",
      "\n",
      " 44%|████▍     | 23/52 [00:27<00:34,  1.20s/it]\u001b[A\u001b[A\n",
      "\n",
      " 46%|████▌     | 24/52 [00:28<00:33,  1.20s/it]\u001b[A\u001b[A\n",
      "\n",
      " 48%|████▊     | 25/52 [00:29<00:32,  1.20s/it]\u001b[A\u001b[A\n",
      "\n",
      " 50%|█████     | 26/52 [00:31<00:31,  1.20s/it]\u001b[A\u001b[A\n",
      "\n",
      " 52%|█████▏    | 27/52 [00:32<00:30,  1.20s/it]\u001b[A\u001b[A\n",
      "\n",
      " 54%|█████▍    | 28/52 [00:33<00:29,  1.21s/it]\u001b[A\u001b[A\n",
      "\n",
      " 56%|█████▌    | 29/52 [00:34<00:27,  1.20s/it]\u001b[A\u001b[A\n",
      "\n",
      " 58%|█████▊    | 30/52 [00:35<00:26,  1.20s/it]\u001b[A\u001b[A\n",
      "\n",
      " 60%|█████▉    | 31/52 [00:37<00:25,  1.19s/it]\u001b[A\u001b[A\n",
      "\n",
      " 62%|██████▏   | 32/52 [00:38<00:23,  1.19s/it]\u001b[A\u001b[A\n",
      "\n",
      " 63%|██████▎   | 33/52 [00:39<00:22,  1.20s/it]\u001b[A\u001b[A\n",
      "\n",
      " 65%|██████▌   | 34/52 [00:40<00:21,  1.20s/it]\u001b[A\u001b[A\n",
      "\n",
      " 67%|██████▋   | 35/52 [00:41<00:20,  1.20s/it]\u001b[A\u001b[A\n",
      "\n",
      " 69%|██████▉   | 36/52 [00:43<00:19,  1.20s/it]\u001b[A\u001b[A\n",
      "\n",
      " 71%|███████   | 37/52 [00:44<00:18,  1.20s/it]\u001b[A\u001b[A\n",
      "\n",
      " 73%|███████▎  | 38/52 [00:45<00:16,  1.19s/it]\u001b[A\u001b[A\n",
      "\n",
      " 75%|███████▌  | 39/52 [00:46<00:15,  1.20s/it]\u001b[A\u001b[A\n",
      "\n",
      " 77%|███████▋  | 40/52 [00:47<00:14,  1.19s/it]\u001b[A\u001b[A\n",
      "\n",
      " 79%|███████▉  | 41/52 [00:49<00:13,  1.20s/it]\u001b[A\u001b[A\n",
      "\n",
      " 81%|████████  | 42/52 [00:50<00:11,  1.19s/it]\u001b[A\u001b[A\n",
      "\n",
      " 83%|████████▎ | 43/52 [00:51<00:10,  1.20s/it]\u001b[A\u001b[A\n",
      "\n",
      " 85%|████████▍ | 44/52 [00:52<00:09,  1.19s/it]\u001b[A\u001b[A\n",
      "\n",
      " 87%|████████▋ | 45/52 [00:53<00:08,  1.21s/it]\u001b[A\u001b[A\n",
      "\n",
      " 88%|████████▊ | 46/52 [00:55<00:07,  1.20s/it]\u001b[A\u001b[A\n",
      "\n",
      " 90%|█████████ | 47/52 [00:56<00:05,  1.20s/it]\u001b[A\u001b[A\n",
      "\n",
      " 92%|█████████▏| 48/52 [00:57<00:04,  1.20s/it]\u001b[A\u001b[A\n",
      "\n",
      " 94%|█████████▍| 49/52 [00:58<00:03,  1.19s/it]\u001b[A\u001b[A\n",
      "\n",
      " 96%|█████████▌| 50/52 [00:59<00:02,  1.20s/it]\u001b[A\u001b[A\n",
      "\n",
      " 98%|█████████▊| 51/52 [01:01<00:01,  1.19s/it]\u001b[A\u001b[A\n",
      "\n",
      "100%|██████████| 52/52 [01:02<00:00,  1.20s/it]\u001b[A\u001b[A\n"
     ]
    }
   ],
   "source": [
    "neg_rankings_itunes0,flipped_neg0 = explainer_standard.getRankingsBlackBox(ITUNES_DIR,'augmented_test.csv',\n",
    "                                                                           0,1,augment_test=True)"
   ]
  },
  {
   "cell_type": "code",
   "execution_count": 32,
   "metadata": {
    "ExecuteTime": {
     "end_time": "2020-03-09T16:20:37.383211Z",
     "start_time": "2020-03-09T16:20:36.997001Z"
    }
   },
   "outputs": [
    {
     "data": {
      "image/png": "[encoded data removed]",
      "text/plain": [
       "<Figure size 576x576 with 1 Axes>"
      ]
     },
     "metadata": {
      "needs_background": "light"
     },
     "output_type": "display_data"
    }
   ],
   "source": [
    "ax,negRank0 = aggregateRankings(neg_rankings_itunes0,positive=False,maxLenAttributes=1,lenTriangles=52)"
   ]
  },
  {
   "cell_type": "code",
   "execution_count": 27,
   "metadata": {
    "ExecuteTime": {
     "end_time": "2020-03-09T16:17:59.333172Z",
     "start_time": "2020-03-09T16:16:44.638743Z"
    }
   },
   "outputs": [
    {
     "name": "stderr",
     "output_type": "stream",
     "text": [
      "\n",
      "\n",
      "  0%|          | 0/52 [00:00<?, ?it/s]\u001b[A\u001b[A\n",
      "\n",
      "  2%|▏         | 1/52 [00:01<01:08,  1.35s/it]\u001b[A\u001b[A\n",
      "\n",
      "  4%|▍         | 2/52 [00:02<01:07,  1.35s/it]\u001b[A\u001b[A\n",
      "\n",
      "  6%|▌         | 3/52 [00:04<01:05,  1.34s/it]\u001b[A\u001b[A\n",
      "\n",
      "  8%|▊         | 4/52 [00:05<01:04,  1.34s/it]\u001b[A\u001b[A\n",
      "\n",
      " 10%|▉         | 5/52 [00:06<01:03,  1.34s/it]\u001b[A\u001b[A\n",
      "\n",
      " 12%|█▏        | 6/52 [00:08<01:02,  1.36s/it]\u001b[A\u001b[A\n",
      "\n",
      " 13%|█▎        | 7/52 [00:09<01:01,  1.36s/it]\u001b[A\u001b[A\n",
      "\n",
      " 15%|█▌        | 8/52 [00:10<00:59,  1.36s/it]\u001b[A\u001b[A\n",
      "\n",
      " 17%|█▋        | 9/52 [00:12<00:59,  1.39s/it]\u001b[A\u001b[A\n",
      "\n",
      " 19%|█▉        | 10/52 [00:13<00:58,  1.38s/it]\u001b[A\u001b[A\n",
      "\n",
      " 21%|██        | 11/52 [00:15<00:56,  1.38s/it]\u001b[A\u001b[A\n",
      "\n",
      " 23%|██▎       | 12/52 [00:16<00:55,  1.39s/it]\u001b[A\u001b[A\n",
      "\n",
      " 25%|██▌       | 13/52 [00:17<00:53,  1.38s/it]\u001b[A\u001b[A\n",
      "\n",
      " 27%|██▋       | 14/52 [00:19<00:52,  1.38s/it]\u001b[A\u001b[A\n",
      "\n",
      " 29%|██▉       | 15/52 [00:20<00:50,  1.37s/it]\u001b[A\u001b[A\n",
      "\n",
      " 31%|███       | 16/52 [00:21<00:49,  1.37s/it]\u001b[A\u001b[A\n",
      "\n",
      " 33%|███▎      | 17/52 [00:23<00:48,  1.39s/it]\u001b[A\u001b[A\n",
      "\n",
      " 35%|███▍      | 18/52 [00:24<00:47,  1.39s/it]\u001b[A\u001b[A\n",
      "\n",
      " 37%|███▋      | 19/52 [00:26<00:45,  1.39s/it]\u001b[A\u001b[A\n",
      "\n",
      " 38%|███▊      | 20/52 [00:27<00:44,  1.38s/it]\u001b[A\u001b[A\n",
      "\n",
      " 40%|████      | 21/52 [00:28<00:42,  1.38s/it]\u001b[A\u001b[A\n",
      "\n",
      " 42%|████▏     | 22/52 [00:30<00:41,  1.38s/it]\u001b[A\u001b[A\n",
      "\n",
      " 44%|████▍     | 23/52 [00:31<00:40,  1.40s/it]\u001b[A\u001b[A\n",
      "\n",
      " 46%|████▌     | 24/52 [00:33<00:38,  1.39s/it]\u001b[A\u001b[A\n",
      "\n",
      " 48%|████▊     | 25/52 [00:34<00:37,  1.39s/it]\u001b[A\u001b[A\n",
      "\n",
      " 50%|█████     | 26/52 [00:35<00:35,  1.38s/it]\u001b[A\u001b[A\n",
      "\n",
      " 52%|█████▏    | 27/52 [00:37<00:34,  1.37s/it]\u001b[A\u001b[A\n",
      "\n",
      " 54%|█████▍    | 28/52 [00:38<00:33,  1.38s/it]\u001b[A\u001b[A\n",
      "\n",
      " 56%|█████▌    | 29/52 [00:39<00:31,  1.38s/it]\u001b[A\u001b[A\n",
      "\n",
      " 58%|█████▊    | 30/52 [00:41<00:30,  1.37s/it]\u001b[A\u001b[A\n",
      "\n",
      " 60%|█████▉    | 31/52 [00:42<00:28,  1.37s/it]\u001b[A\u001b[A\n",
      "\n",
      " 62%|██████▏   | 32/52 [00:44<00:27,  1.37s/it]\u001b[A\u001b[A\n",
      "\n",
      " 63%|██████▎   | 33/52 [00:45<00:26,  1.37s/it]\u001b[A\u001b[A\n",
      "\n",
      " 65%|██████▌   | 34/52 [00:46<00:25,  1.39s/it]\u001b[A\u001b[A\n",
      "\n",
      " 67%|██████▋   | 35/52 [00:48<00:23,  1.40s/it]\u001b[A\u001b[A\n",
      "\n",
      " 69%|██████▉   | 36/52 [00:49<00:22,  1.39s/it]\u001b[A\u001b[A\n",
      "\n",
      " 71%|███████   | 37/52 [00:51<00:20,  1.39s/it]\u001b[A\u001b[A\n",
      "\n",
      " 73%|███████▎  | 38/52 [00:52<00:19,  1.37s/it]\u001b[A\u001b[A\n",
      "\n",
      " 75%|███████▌  | 39/52 [00:53<00:17,  1.36s/it]\u001b[A\u001b[A\n",
      "\n",
      " 77%|███████▋  | 40/52 [00:55<00:16,  1.38s/it]\u001b[A\u001b[A\n",
      "\n",
      " 79%|███████▉  | 41/52 [00:56<00:15,  1.37s/it]\u001b[A\u001b[A\n",
      "\n",
      " 81%|████████  | 42/52 [00:57<00:13,  1.37s/it]\u001b[A\u001b[A\n",
      "\n",
      " 83%|████████▎ | 43/52 [00:59<00:12,  1.36s/it]\u001b[A\u001b[A\n",
      "\n",
      " 85%|████████▍ | 44/52 [01:00<00:10,  1.37s/it]\u001b[A\u001b[A\n",
      "\n",
      " 87%|████████▋ | 45/52 [01:01<00:09,  1.37s/it]\u001b[A\u001b[A\n",
      "\n",
      " 88%|████████▊ | 46/52 [01:03<00:08,  1.38s/it]\u001b[A\u001b[A\n",
      "\n",
      " 90%|█████████ | 47/52 [01:04<00:06,  1.38s/it]\u001b[A\u001b[A\n",
      "\n",
      " 92%|█████████▏| 48/52 [01:06<00:05,  1.37s/it]\u001b[A\u001b[A\n",
      "\n",
      " 94%|█████████▍| 49/52 [01:07<00:04,  1.37s/it]\u001b[A\u001b[A\n",
      "\n",
      " 96%|█████████▌| 50/52 [01:08<00:02,  1.37s/it]\u001b[A\u001b[A\n",
      "\n",
      " 98%|█████████▊| 51/52 [01:10<00:01,  1.37s/it]\u001b[A\u001b[A\n",
      "\n",
      "100%|██████████| 52/52 [01:11<00:00,  1.38s/it]\u001b[A\u001b[A\n"
     ]
    }
   ],
   "source": [
    "pos_rankings_itunes0,flipped_pos0 = explainer_standard.getRankingsBlackBox(ITUNES_DIR,'augmented_test.csv',\n",
    "                                                                                          1,1,augment_test=True)"
   ]
  },
  {
   "cell_type": "code",
   "execution_count": 30,
   "metadata": {
    "ExecuteTime": {
     "end_time": "2020-03-09T16:20:24.735865Z",
     "start_time": "2020-03-09T16:20:24.458968Z"
    }
   },
   "outputs": [
    {
     "data": {
      "image/png": "[encoded data removed]",
      "text/plain": [
       "<Figure size 216x216 with 1 Axes>"
      ]
     },
     "metadata": {
      "needs_background": "light"
     },
     "output_type": "display_data"
    }
   ],
   "source": [
    "ax,posRank0 = aggregateRankings(pos_rankings_itunes0,positive=True,maxLenAttributes=1,lenTriangles=52)"
   ]
  },
  {
   "cell_type": "markdown",
   "metadata": {},
   "source": [
    "## Prepare new Training data"
   ]
  },
  {
   "cell_type": "code",
   "execution_count": 130,
   "metadata": {
    "ExecuteTime": {
     "end_time": "2020-02-09T18:58:05.260289Z",
     "start_time": "2020-02-09T18:58:04.159080Z"
    }
   },
   "outputs": [
    {
     "data": {
      "text/plain": [
       "(321, 349)"
      ]
     },
     "execution_count": 130,
     "metadata": {},
     "output_type": "execute_result"
    }
   ],
   "source": [
    "augmented_train = prepareDataset(train_df,tableA_itunes,tableB_itunes,50)\n",
    "augmented_train.to_csv(ITUNES_DIR+'augmented_train.csv',index=False)\n",
    "len(train_df),len(augmented_train)"
   ]
  },
  {
   "cell_type": "code",
   "execution_count": 131,
   "metadata": {
    "ExecuteTime": {
     "end_time": "2020-02-09T18:58:09.163873Z",
     "start_time": "2020-02-09T18:58:05.356707Z"
    }
   },
   "outputs": [],
   "source": [
    "trainPreds = getTruePositiveNegative(itunesamazon_mod,augmented_train,ignore_columns=['id','ltable_id',\n",
    "                                                                                     'rtable_id','label'])"
   ]
  },
  {
   "cell_type": "code",
   "execution_count": 132,
   "metadata": {
    "ExecuteTime": {
     "end_time": "2020-02-09T19:03:54.605652Z",
     "start_time": "2020-02-09T18:58:09.165693Z"
    }
   },
   "outputs": [
    {
     "name": "stderr",
     "output_type": "stream",
     "text": [
      "\n",
      "  0%|          | 0/150 [00:00<?, ?it/s]\u001b[A\n",
      "  1%|          | 1/150 [00:02<05:18,  2.14s/it]\u001b[A\n",
      "  1%|▏         | 2/150 [00:04<05:19,  2.16s/it]\u001b[A\n",
      "  2%|▏         | 3/150 [00:06<05:31,  2.25s/it]\u001b[A\n",
      "  3%|▎         | 4/150 [00:09<05:38,  2.32s/it]\u001b[A\n",
      "  3%|▎         | 5/150 [00:11<05:32,  2.29s/it]\u001b[A\n",
      "  4%|▍         | 6/150 [00:13<05:26,  2.27s/it]\u001b[A\n",
      "  5%|▍         | 7/150 [00:16<05:24,  2.27s/it]\u001b[A\n",
      "  5%|▌         | 8/150 [00:18<05:18,  2.24s/it]\u001b[A\n",
      "  6%|▌         | 9/150 [00:20<05:19,  2.27s/it]\u001b[A\n",
      "  7%|▋         | 10/150 [00:22<05:19,  2.28s/it]\u001b[A\n",
      "  7%|▋         | 11/150 [00:25<05:16,  2.28s/it]\u001b[A\n",
      "  8%|▊         | 12/150 [00:27<05:17,  2.30s/it]\u001b[A\n",
      "  9%|▊         | 13/150 [00:29<05:22,  2.35s/it]\u001b[A\n",
      "  9%|▉         | 14/150 [00:32<05:22,  2.37s/it]\u001b[A\n",
      " 10%|█         | 15/150 [00:34<05:08,  2.28s/it]\u001b[A\n",
      " 11%|█         | 16/150 [00:36<05:06,  2.29s/it]\u001b[A\n",
      " 11%|█▏        | 17/150 [00:39<05:04,  2.29s/it]\u001b[A\n",
      " 12%|█▏        | 18/150 [00:41<05:00,  2.28s/it]\u001b[A\n",
      " 13%|█▎        | 19/150 [00:43<04:58,  2.28s/it]\u001b[A\n",
      " 13%|█▎        | 20/150 [00:45<04:58,  2.30s/it]\u001b[A\n",
      " 14%|█▍        | 21/150 [00:48<04:58,  2.32s/it]\u001b[A\n",
      " 15%|█▍        | 22/150 [00:50<04:47,  2.24s/it]\u001b[A\n",
      " 15%|█▌        | 23/150 [00:52<04:45,  2.25s/it]\u001b[A\n",
      " 16%|█▌        | 24/150 [00:54<04:40,  2.23s/it]\u001b[A\n",
      " 17%|█▋        | 25/150 [00:57<04:39,  2.24s/it]\u001b[A\n",
      " 17%|█▋        | 26/150 [00:59<04:33,  2.20s/it]\u001b[A\n",
      " 18%|█▊        | 27/150 [01:01<04:40,  2.28s/it]\u001b[A\n",
      " 19%|█▊        | 28/150 [01:03<04:36,  2.26s/it]\u001b[A\n",
      " 19%|█▉        | 29/150 [01:06<04:38,  2.30s/it]\u001b[A\n",
      " 20%|██        | 30/150 [01:08<04:30,  2.26s/it]\u001b[A\n",
      " 21%|██        | 31/150 [01:10<04:37,  2.33s/it]\u001b[A\n",
      " 21%|██▏       | 32/150 [01:13<04:32,  2.31s/it]\u001b[A\n",
      " 22%|██▏       | 33/150 [01:15<04:28,  2.29s/it]\u001b[A\n",
      " 23%|██▎       | 34/150 [01:17<04:24,  2.28s/it]\u001b[A\n",
      " 23%|██▎       | 35/150 [01:20<04:26,  2.32s/it]\u001b[A\n",
      " 24%|██▍       | 36/150 [01:22<04:20,  2.28s/it]\u001b[A\n",
      " 25%|██▍       | 37/150 [01:24<04:13,  2.24s/it]\u001b[A\n",
      " 25%|██▌       | 38/150 [01:26<04:17,  2.30s/it]\u001b[A\n",
      " 26%|██▌       | 39/150 [01:29<04:14,  2.30s/it]\u001b[A\n",
      " 27%|██▋       | 40/150 [01:31<04:10,  2.27s/it]\u001b[A\n",
      " 27%|██▋       | 41/150 [01:33<04:08,  2.28s/it]\u001b[A\n",
      " 28%|██▊       | 42/150 [01:35<04:04,  2.26s/it]\u001b[A\n",
      " 29%|██▊       | 43/150 [01:38<04:09,  2.33s/it]\u001b[A\n",
      " 29%|██▉       | 44/150 [01:40<04:11,  2.37s/it]\u001b[A\n",
      " 30%|███       | 45/150 [01:43<04:03,  2.32s/it]\u001b[A\n",
      " 31%|███       | 46/150 [01:45<04:09,  2.40s/it]\u001b[A\n",
      " 31%|███▏      | 47/150 [01:48<04:12,  2.45s/it]\u001b[A\n",
      " 32%|███▏      | 48/150 [01:50<04:00,  2.36s/it]\u001b[A\n",
      " 33%|███▎      | 49/150 [01:52<03:52,  2.30s/it]\u001b[A\n",
      " 33%|███▎      | 50/150 [01:54<03:45,  2.26s/it]\u001b[A\n",
      " 34%|███▍      | 51/150 [01:56<03:45,  2.27s/it]\u001b[A\n",
      " 35%|███▍      | 52/150 [01:59<03:40,  2.25s/it]\u001b[A\n",
      " 35%|███▌      | 53/150 [02:01<03:36,  2.23s/it]\u001b[A\n",
      " 36%|███▌      | 54/150 [02:03<03:35,  2.24s/it]\u001b[A\n",
      " 37%|███▋      | 55/150 [02:06<03:37,  2.29s/it]\u001b[A\n",
      " 37%|███▋      | 56/150 [02:08<03:29,  2.23s/it]\u001b[A\n",
      " 38%|███▊      | 57/150 [02:10<03:22,  2.17s/it]\u001b[A\n",
      " 39%|███▊      | 58/150 [02:12<03:18,  2.16s/it]\u001b[A\n",
      " 39%|███▉      | 59/150 [02:14<03:27,  2.28s/it]\u001b[A\n",
      " 40%|████      | 60/150 [02:17<03:25,  2.28s/it]\u001b[A\n",
      " 41%|████      | 61/150 [02:19<03:21,  2.26s/it]\u001b[A\n",
      " 41%|████▏     | 62/150 [02:21<03:20,  2.28s/it]\u001b[A\n",
      " 42%|████▏     | 63/150 [02:23<03:14,  2.24s/it]\u001b[A\n",
      " 43%|████▎     | 64/150 [02:26<03:17,  2.29s/it]\u001b[A\n",
      " 43%|████▎     | 65/150 [02:28<03:10,  2.24s/it]\u001b[A\n",
      " 44%|████▍     | 66/150 [02:30<03:08,  2.24s/it]\u001b[A\n",
      " 45%|████▍     | 67/150 [02:32<03:04,  2.22s/it]\u001b[A\n",
      " 45%|████▌     | 68/150 [02:35<03:14,  2.37s/it]\u001b[A\n",
      " 46%|████▌     | 69/150 [02:37<03:15,  2.41s/it]\u001b[A\n",
      " 47%|████▋     | 70/150 [02:40<03:12,  2.41s/it]\u001b[A\n",
      " 47%|████▋     | 71/150 [02:42<03:10,  2.41s/it]\u001b[A\n",
      " 48%|████▊     | 72/150 [02:45<03:06,  2.39s/it]\u001b[A\n",
      " 49%|████▊     | 73/150 [02:47<03:06,  2.42s/it]\u001b[A\n",
      " 49%|████▉     | 74/150 [02:50<03:06,  2.46s/it]\u001b[A\n",
      " 50%|█████     | 75/150 [02:52<03:03,  2.45s/it]\u001b[A\n",
      " 51%|█████     | 76/150 [02:54<02:54,  2.35s/it]\u001b[A\n",
      " 51%|█████▏    | 77/150 [02:56<02:46,  2.28s/it]\u001b[A\n",
      " 52%|█████▏    | 78/150 [02:59<02:49,  2.35s/it]\u001b[A\n",
      " 53%|█████▎    | 79/150 [03:01<02:51,  2.41s/it]\u001b[A\n",
      " 53%|█████▎    | 80/150 [03:04<02:49,  2.42s/it]\u001b[A\n",
      " 54%|█████▍    | 81/150 [03:06<02:42,  2.35s/it]\u001b[A\n",
      " 55%|█████▍    | 82/150 [03:08<02:35,  2.29s/it]\u001b[A\n",
      " 55%|█████▌    | 83/150 [03:10<02:30,  2.25s/it]\u001b[A\n",
      " 56%|█████▌    | 84/150 [03:13<02:29,  2.27s/it]\u001b[A\n",
      " 57%|█████▋    | 85/150 [03:15<02:30,  2.31s/it]\u001b[A\n",
      " 57%|█████▋    | 86/150 [03:17<02:27,  2.30s/it]\u001b[A\n",
      " 58%|█████▊    | 87/150 [03:20<02:23,  2.28s/it]\u001b[A\n",
      " 59%|█████▊    | 88/150 [03:22<02:25,  2.35s/it]\u001b[A\n",
      " 59%|█████▉    | 89/150 [03:25<02:24,  2.37s/it]\u001b[A\n",
      " 60%|██████    | 90/150 [03:27<02:18,  2.31s/it]\u001b[A\n",
      " 61%|██████    | 91/150 [03:29<02:15,  2.29s/it]\u001b[A\n",
      " 61%|██████▏   | 92/150 [03:31<02:10,  2.25s/it]\u001b[A\n",
      " 62%|██████▏   | 93/150 [03:33<02:07,  2.24s/it]\u001b[A\n",
      " 63%|██████▎   | 94/150 [03:36<02:05,  2.24s/it]\u001b[A\n",
      " 63%|██████▎   | 95/150 [03:38<02:08,  2.34s/it]\u001b[A\n",
      " 64%|██████▍   | 96/150 [03:41<02:09,  2.39s/it]\u001b[A\n",
      " 65%|██████▍   | 97/150 [03:43<02:01,  2.30s/it]\u001b[A\n",
      " 65%|██████▌   | 98/150 [03:45<01:57,  2.25s/it]\u001b[A\n",
      " 66%|██████▌   | 99/150 [03:47<01:54,  2.24s/it]\u001b[A\n",
      " 67%|██████▋   | 100/150 [03:49<01:52,  2.25s/it]\u001b[A\n",
      " 67%|██████▋   | 101/150 [03:52<01:50,  2.26s/it]\u001b[A\n",
      " 68%|██████▊   | 102/150 [03:54<01:49,  2.29s/it]\u001b[A\n",
      " 69%|██████▊   | 103/150 [03:56<01:46,  2.27s/it]\u001b[A\n",
      " 69%|██████▉   | 104/150 [03:59<01:45,  2.29s/it]\u001b[A\n",
      " 70%|███████   | 105/150 [04:01<01:43,  2.29s/it]\u001b[A\n",
      " 71%|███████   | 106/150 [04:03<01:43,  2.35s/it]\u001b[A\n",
      " 71%|███████▏  | 107/150 [04:06<01:40,  2.33s/it]\u001b[A\n",
      " 72%|███████▏  | 108/150 [04:08<01:35,  2.28s/it]\u001b[A\n",
      " 73%|███████▎  | 109/150 [04:10<01:32,  2.26s/it]\u001b[A\n",
      " 73%|███████▎  | 110/150 [04:12<01:32,  2.31s/it]\u001b[A\n",
      " 74%|███████▍  | 111/150 [04:15<01:29,  2.31s/it]\u001b[A\n",
      " 75%|███████▍  | 112/150 [04:17<01:26,  2.26s/it]\u001b[A\n",
      " 75%|███████▌  | 113/150 [04:19<01:24,  2.29s/it]\u001b[A\n",
      " 76%|███████▌  | 114/150 [04:22<01:22,  2.30s/it]\u001b[A\n",
      " 77%|███████▋  | 115/150 [04:24<01:19,  2.28s/it]\u001b[A\n",
      " 77%|███████▋  | 116/150 [04:26<01:18,  2.31s/it]\u001b[A\n",
      " 78%|███████▊  | 117/150 [04:28<01:14,  2.27s/it]\u001b[A\n",
      " 79%|███████▊  | 118/150 [04:31<01:14,  2.32s/it]\u001b[A\n",
      " 79%|███████▉  | 119/150 [04:33<01:12,  2.34s/it]\u001b[A\n",
      " 80%|████████  | 120/150 [04:35<01:08,  2.30s/it]\u001b[A\n",
      " 81%|████████  | 121/150 [04:38<01:09,  2.38s/it]\u001b[A\n",
      " 81%|████████▏ | 122/150 [04:41<01:09,  2.47s/it]\u001b[A\n",
      " 82%|████████▏ | 123/150 [04:43<01:05,  2.44s/it]\u001b[A\n",
      " 83%|████████▎ | 124/150 [04:45<01:00,  2.34s/it]\u001b[A\n",
      " 83%|████████▎ | 125/150 [04:47<00:57,  2.28s/it]\u001b[A\n",
      " 84%|████████▍ | 126/150 [04:50<00:54,  2.28s/it]\u001b[A\n",
      " 85%|████████▍ | 127/150 [04:52<00:52,  2.29s/it]\u001b[A\n",
      " 85%|████████▌ | 128/150 [04:54<00:48,  2.21s/it]\u001b[A\n",
      " 86%|████████▌ | 129/150 [04:56<00:46,  2.23s/it]\u001b[A\n",
      " 87%|████████▋ | 130/150 [04:58<00:45,  2.26s/it]\u001b[A\n",
      " 87%|████████▋ | 131/150 [05:01<00:42,  2.23s/it]\u001b[A\n",
      " 88%|████████▊ | 132/150 [05:03<00:39,  2.17s/it]\u001b[A\n",
      " 89%|████████▊ | 133/150 [05:05<00:36,  2.16s/it]\u001b[A\n",
      " 89%|████████▉ | 134/150 [05:07<00:35,  2.20s/it]\u001b[A\n",
      " 90%|█████████ | 135/150 [05:09<00:33,  2.21s/it]\u001b[A\n",
      " 91%|█████████ | 136/150 [05:11<00:30,  2.19s/it]\u001b[A\n",
      " 91%|█████████▏| 137/150 [05:14<00:28,  2.23s/it]\u001b[A\n",
      " 92%|█████████▏| 138/150 [05:16<00:26,  2.20s/it]\u001b[A\n",
      " 93%|█████████▎| 139/150 [05:18<00:24,  2.27s/it]\u001b[A\n",
      " 93%|█████████▎| 140/150 [05:20<00:22,  2.20s/it]\u001b[A\n",
      " 94%|█████████▍| 141/150 [05:23<00:19,  2.20s/it]\u001b[A\n",
      " 95%|█████████▍| 142/150 [05:25<00:17,  2.22s/it]\u001b[A\n",
      " 95%|█████████▌| 143/150 [05:28<00:16,  2.35s/it]\u001b[A\n",
      " 96%|█████████▌| 144/150 [05:30<00:14,  2.46s/it]\u001b[A\n",
      " 97%|█████████▋| 145/150 [05:32<00:11,  2.39s/it]\u001b[A\n",
      " 97%|█████████▋| 146/150 [05:35<00:09,  2.40s/it]\u001b[A\n",
      " 98%|█████████▊| 147/150 [05:37<00:07,  2.38s/it]\u001b[A\n",
      " 99%|█████████▊| 148/150 [05:40<00:04,  2.44s/it]\u001b[A\n",
      " 99%|█████████▉| 149/150 [05:42<00:02,  2.46s/it]\u001b[A\n",
      "100%|██████████| 150/150 [05:45<00:00,  2.30s/it]\u001b[A\n"
     ]
    }
   ],
   "source": [
    "neg_rankings_itunes,neg_triangles_itunes,flippedPredictions_neg = explainSamples(trainPreds,\n",
    "                                                          [tableA_itunes,tableB_itunes],\n",
    "                                                          itunesamazon_mod,originalClass=0)"
   ]
  },
  {
   "cell_type": "code",
   "execution_count": 133,
   "metadata": {
    "ExecuteTime": {
     "end_time": "2020-02-09T19:09:36.190754Z",
     "start_time": "2020-02-09T19:03:54.607602Z"
    }
   },
   "outputs": [
    {
     "name": "stderr",
     "output_type": "stream",
     "text": [
      "\n",
      "  0%|          | 0/150 [00:00<?, ?it/s]\u001b[A\n",
      "  1%|          | 1/150 [00:02<05:15,  2.12s/it]\u001b[A\n",
      "  1%|▏         | 2/150 [00:04<05:15,  2.13s/it]\u001b[A\n",
      "  2%|▏         | 3/150 [00:06<05:27,  2.23s/it]\u001b[A\n",
      "  3%|▎         | 4/150 [00:09<05:33,  2.28s/it]\u001b[A\n",
      "  3%|▎         | 5/150 [00:11<05:25,  2.24s/it]\u001b[A\n",
      "  4%|▍         | 6/150 [00:13<05:18,  2.21s/it]\u001b[A\n",
      "  5%|▍         | 7/150 [00:15<05:16,  2.21s/it]\u001b[A\n",
      "  5%|▌         | 8/150 [00:17<05:11,  2.19s/it]\u001b[A\n",
      "  6%|▌         | 9/150 [00:20<05:13,  2.23s/it]\u001b[A\n",
      "  7%|▋         | 10/150 [00:22<05:13,  2.24s/it]\u001b[A\n",
      "  7%|▋         | 11/150 [00:24<05:12,  2.24s/it]\u001b[A\n",
      "  8%|▊         | 12/150 [00:26<05:10,  2.25s/it]\u001b[A\n",
      "  9%|▊         | 13/150 [00:29<05:15,  2.30s/it]\u001b[A\n",
      "  9%|▉         | 14/150 [00:31<05:15,  2.32s/it]\u001b[A\n",
      " 10%|█         | 15/150 [00:33<05:01,  2.23s/it]\u001b[A\n",
      " 11%|█         | 16/150 [00:35<04:58,  2.23s/it]\u001b[A\n",
      " 11%|█▏        | 17/150 [00:38<04:53,  2.21s/it]\u001b[A\n",
      " 12%|█▏        | 18/150 [00:40<04:56,  2.24s/it]\u001b[A\n",
      " 13%|█▎        | 19/150 [00:42<04:54,  2.25s/it]\u001b[A\n",
      " 13%|█▎        | 20/150 [00:45<04:55,  2.27s/it]\u001b[A\n",
      " 14%|█▍        | 21/150 [00:47<04:57,  2.30s/it]\u001b[A\n",
      " 15%|█▍        | 22/150 [00:49<04:46,  2.24s/it]\u001b[A\n",
      " 15%|█▌        | 23/150 [00:51<04:45,  2.25s/it]\u001b[A\n",
      " 16%|█▌        | 24/150 [00:53<04:40,  2.23s/it]\u001b[A\n",
      " 17%|█▋        | 25/150 [00:56<04:39,  2.23s/it]\u001b[A\n",
      " 17%|█▋        | 26/150 [00:58<04:32,  2.20s/it]\u001b[A\n",
      " 18%|█▊        | 27/150 [01:00<04:36,  2.25s/it]\u001b[A\n",
      " 19%|█▊        | 28/150 [01:02<04:33,  2.24s/it]\u001b[A\n",
      " 19%|█▉        | 29/150 [01:05<04:38,  2.30s/it]\u001b[A\n",
      " 20%|██        | 30/150 [01:07<04:29,  2.25s/it]\u001b[A\n",
      " 21%|██        | 31/150 [01:09<04:35,  2.31s/it]\u001b[A\n",
      " 21%|██▏       | 32/150 [01:12<04:30,  2.29s/it]\u001b[A\n",
      " 22%|██▏       | 33/150 [01:14<04:23,  2.25s/it]\u001b[A\n",
      " 23%|██▎       | 34/150 [01:16<04:24,  2.28s/it]\u001b[A\n",
      " 23%|██▎       | 35/150 [01:19<04:27,  2.33s/it]\u001b[A\n",
      " 24%|██▍       | 36/150 [01:21<04:21,  2.29s/it]\u001b[A\n",
      " 25%|██▍       | 37/150 [01:23<04:14,  2.25s/it]\u001b[A\n",
      " 25%|██▌       | 38/150 [01:25<04:16,  2.29s/it]\u001b[A\n",
      " 26%|██▌       | 39/150 [01:28<04:14,  2.29s/it]\u001b[A\n",
      " 27%|██▋       | 40/150 [01:30<04:09,  2.27s/it]\u001b[A\n",
      " 27%|██▋       | 41/150 [01:32<04:06,  2.26s/it]\u001b[A\n",
      " 28%|██▊       | 42/150 [01:34<04:01,  2.23s/it]\u001b[A\n",
      " 29%|██▊       | 43/150 [01:37<04:05,  2.30s/it]\u001b[A\n",
      " 29%|██▉       | 44/150 [01:39<04:09,  2.35s/it]\u001b[A\n",
      " 30%|███       | 45/150 [01:41<04:01,  2.30s/it]\u001b[A\n",
      " 31%|███       | 46/150 [01:44<04:09,  2.40s/it]\u001b[A\n",
      " 31%|███▏      | 47/150 [01:47<04:11,  2.44s/it]\u001b[A\n",
      " 32%|███▏      | 48/150 [01:49<03:57,  2.33s/it]\u001b[A\n",
      " 33%|███▎      | 49/150 [01:51<03:48,  2.26s/it]\u001b[A\n",
      " 33%|███▎      | 50/150 [01:53<03:41,  2.22s/it]\u001b[A\n",
      " 34%|███▍      | 51/150 [01:55<03:40,  2.23s/it]\u001b[A\n",
      " 35%|███▍      | 52/150 [01:57<03:35,  2.20s/it]\u001b[A\n",
      " 35%|███▌      | 53/150 [01:59<03:28,  2.15s/it]\u001b[A\n",
      " 36%|███▌      | 54/150 [02:01<03:28,  2.17s/it]\u001b[A\n",
      " 37%|███▋      | 55/150 [02:04<03:33,  2.25s/it]\u001b[A\n",
      " 37%|███▋      | 56/150 [02:06<03:24,  2.17s/it]\u001b[A\n",
      " 38%|███▊      | 57/150 [02:08<03:17,  2.12s/it]\u001b[A\n",
      " 39%|███▊      | 58/150 [02:10<03:14,  2.12s/it]\u001b[A\n",
      " 39%|███▉      | 59/150 [02:13<03:24,  2.24s/it]\u001b[A\n",
      " 40%|████      | 60/150 [02:15<03:23,  2.26s/it]\u001b[A\n",
      " 41%|████      | 61/150 [02:17<03:16,  2.21s/it]\u001b[A\n",
      " 41%|████▏     | 62/150 [02:19<03:13,  2.20s/it]\u001b[A\n",
      " 42%|████▏     | 63/150 [02:21<03:08,  2.17s/it]\u001b[A\n",
      " 43%|████▎     | 64/150 [02:24<03:09,  2.21s/it]\u001b[A\n",
      " 43%|████▎     | 65/150 [02:26<03:03,  2.16s/it]\u001b[A\n",
      " 44%|████▍     | 66/150 [02:28<03:01,  2.16s/it]\u001b[A\n",
      " 45%|████▍     | 67/150 [02:30<02:58,  2.15s/it]\u001b[A\n",
      " 45%|████▌     | 68/150 [02:33<03:09,  2.31s/it]\u001b[A\n",
      " 46%|████▌     | 69/150 [02:35<03:09,  2.34s/it]\u001b[A\n",
      " 47%|████▋     | 70/150 [02:38<03:12,  2.41s/it]\u001b[A\n",
      " 47%|████▋     | 71/150 [02:40<03:10,  2.41s/it]\u001b[A\n",
      " 48%|████▊     | 72/150 [02:42<03:05,  2.38s/it]\u001b[A\n",
      " 49%|████▊     | 73/150 [02:45<03:05,  2.41s/it]\u001b[A\n",
      " 49%|████▉     | 74/150 [02:47<03:05,  2.44s/it]\u001b[A\n",
      " 50%|█████     | 75/150 [02:50<03:02,  2.43s/it]\u001b[A\n",
      " 51%|█████     | 76/150 [02:52<02:52,  2.34s/it]\u001b[A\n",
      " 51%|█████▏    | 77/150 [02:54<02:44,  2.26s/it]\u001b[A\n",
      " 52%|█████▏    | 78/150 [02:56<02:46,  2.32s/it]\u001b[A\n",
      " 53%|█████▎    | 79/150 [02:59<02:47,  2.36s/it]\u001b[A\n",
      " 53%|█████▎    | 80/150 [03:01<02:41,  2.31s/it]\u001b[A\n",
      " 54%|█████▍    | 81/150 [03:03<02:43,  2.36s/it]\u001b[A\n",
      " 55%|█████▍    | 82/150 [03:06<02:42,  2.38s/it]\u001b[A\n",
      " 55%|█████▌    | 83/150 [03:08<02:35,  2.32s/it]\u001b[A\n",
      " 56%|█████▌    | 84/150 [03:10<02:33,  2.33s/it]\u001b[A\n",
      " 57%|█████▋    | 85/150 [03:13<02:31,  2.32s/it]\u001b[A\n",
      " 57%|█████▋    | 86/150 [03:15<02:29,  2.33s/it]\u001b[A\n",
      " 58%|█████▊    | 87/150 [03:17<02:24,  2.29s/it]\u001b[A\n",
      " 59%|█████▊    | 88/150 [03:20<02:25,  2.34s/it]\u001b[A\n",
      " 59%|█████▉    | 89/150 [03:22<02:23,  2.36s/it]\u001b[A\n",
      " 60%|██████    | 90/150 [03:24<02:18,  2.30s/it]\u001b[A\n",
      " 61%|██████    | 91/150 [03:27<02:15,  2.29s/it]\u001b[A\n",
      " 61%|██████▏   | 92/150 [03:29<02:10,  2.25s/it]\u001b[A\n",
      " 62%|██████▏   | 93/150 [03:31<02:07,  2.24s/it]\u001b[A\n",
      " 63%|██████▎   | 94/150 [03:33<02:05,  2.25s/it]\u001b[A\n",
      " 63%|██████▎   | 95/150 [03:36<02:05,  2.28s/it]\u001b[A\n",
      " 64%|██████▍   | 96/150 [03:38<02:06,  2.34s/it]\u001b[A\n",
      " 65%|██████▍   | 97/150 [03:40<01:59,  2.26s/it]\u001b[A\n",
      " 65%|██████▌   | 98/150 [03:42<01:55,  2.22s/it]\u001b[A\n",
      " 66%|██████▌   | 99/150 [03:44<01:52,  2.21s/it]\u001b[A\n",
      " 67%|██████▋   | 100/150 [03:47<01:50,  2.22s/it]\u001b[A\n",
      " 67%|██████▋   | 101/150 [03:49<01:48,  2.21s/it]\u001b[A\n",
      " 68%|██████▊   | 102/150 [03:51<01:48,  2.26s/it]\u001b[A\n",
      " 69%|██████▊   | 103/150 [03:53<01:45,  2.24s/it]\u001b[A\n",
      " 69%|██████▉   | 104/150 [03:56<01:44,  2.27s/it]\u001b[A\n",
      " 70%|███████   | 105/150 [03:58<01:39,  2.22s/it]\u001b[A\n",
      " 71%|███████   | 106/150 [04:00<01:41,  2.30s/it]\u001b[A\n",
      " 71%|███████▏  | 107/150 [04:03<01:39,  2.32s/it]\u001b[A\n",
      " 72%|███████▏  | 108/150 [04:05<01:35,  2.28s/it]\u001b[A\n",
      " 73%|███████▎  | 109/150 [04:07<01:32,  2.26s/it]\u001b[A\n",
      " 73%|███████▎  | 110/150 [04:09<01:32,  2.31s/it]\u001b[A\n",
      " 74%|███████▍  | 111/150 [04:12<01:28,  2.27s/it]\u001b[A\n",
      " 75%|███████▍  | 112/150 [04:14<01:25,  2.26s/it]\u001b[A\n",
      " 75%|███████▌  | 113/150 [04:16<01:24,  2.27s/it]\u001b[A\n",
      " 76%|███████▌  | 114/150 [04:19<01:21,  2.28s/it]\u001b[A\n",
      " 77%|███████▋  | 115/150 [04:21<01:18,  2.26s/it]\u001b[A\n",
      " 77%|███████▋  | 116/150 [04:23<01:17,  2.28s/it]\u001b[A\n",
      " 78%|███████▊  | 117/150 [04:25<01:14,  2.24s/it]\u001b[A\n",
      " 79%|███████▊  | 118/150 [04:28<01:13,  2.30s/it]\u001b[A\n",
      " 79%|███████▉  | 119/150 [04:30<01:12,  2.33s/it]\u001b[A\n",
      " 80%|████████  | 120/150 [04:32<01:08,  2.29s/it]\u001b[A\n",
      " 81%|████████  | 121/150 [04:35<01:09,  2.38s/it]\u001b[A\n",
      " 81%|████████▏ | 122/150 [04:37<01:08,  2.46s/it]\u001b[A\n",
      " 82%|████████▏ | 123/150 [04:40<01:03,  2.35s/it]\u001b[A\n",
      " 83%|████████▎ | 124/150 [04:42<00:58,  2.26s/it]\u001b[A\n",
      " 83%|████████▎ | 125/150 [04:44<00:55,  2.22s/it]\u001b[A\n",
      " 84%|████████▍ | 126/150 [04:46<00:53,  2.24s/it]\u001b[A\n",
      " 85%|████████▍ | 127/150 [04:48<00:51,  2.26s/it]\u001b[A\n",
      " 85%|████████▌ | 128/150 [04:50<00:48,  2.20s/it]\u001b[A\n",
      " 86%|████████▌ | 129/150 [04:53<00:46,  2.22s/it]\u001b[A\n",
      " 87%|████████▋ | 130/150 [04:55<00:45,  2.26s/it]\u001b[A\n",
      " 87%|████████▋ | 131/150 [04:57<00:41,  2.19s/it]\u001b[A\n",
      " 88%|████████▊ | 132/150 [04:59<00:38,  2.16s/it]\u001b[A\n",
      " 89%|████████▊ | 133/150 [05:01<00:37,  2.19s/it]\u001b[A\n",
      " 89%|████████▉ | 134/150 [05:04<00:35,  2.22s/it]\u001b[A\n",
      " 90%|█████████ | 135/150 [05:06<00:33,  2.22s/it]\u001b[A\n",
      " 91%|█████████ | 136/150 [05:08<00:30,  2.19s/it]\u001b[A\n",
      " 91%|█████████▏| 137/150 [05:10<00:28,  2.20s/it]\u001b[A\n",
      " 92%|█████████▏| 138/150 [05:12<00:26,  2.21s/it]\u001b[A\n",
      " 93%|█████████▎| 139/150 [05:15<00:24,  2.21s/it]\u001b[A\n",
      " 93%|█████████▎| 140/150 [05:17<00:21,  2.17s/it]\u001b[A\n",
      " 94%|█████████▍| 141/150 [05:19<00:19,  2.18s/it]\u001b[A\n",
      " 95%|█████████▍| 142/150 [05:21<00:17,  2.20s/it]\u001b[A\n",
      " 95%|█████████▌| 143/150 [05:24<00:16,  2.36s/it]\u001b[A\n",
      " 96%|█████████▌| 144/150 [05:26<00:14,  2.39s/it]\u001b[A\n",
      " 97%|█████████▋| 145/150 [05:29<00:11,  2.34s/it]\u001b[A\n",
      " 97%|█████████▋| 146/150 [05:31<00:09,  2.36s/it]\u001b[A\n",
      " 98%|█████████▊| 147/150 [05:33<00:07,  2.34s/it]\u001b[A\n",
      " 99%|█████████▊| 148/150 [05:36<00:04,  2.41s/it]\u001b[A\n",
      " 99%|█████████▉| 149/150 [05:38<00:02,  2.44s/it]\u001b[A\n",
      "100%|██████████| 150/150 [05:41<00:00,  2.27s/it]\u001b[A\n"
     ]
    }
   ],
   "source": [
    "pos_rankings_itunes,pos_triangles_itunes,flippedPredictions_pos = explainSamples(trainPreds,\n",
    "                                                          [tableA_itunes,tableB_itunes],\n",
    "                                                          itunesamazon_mod,originalClass=1)"
   ]
  },
  {
   "cell_type": "code",
   "execution_count": 22,
   "metadata": {
    "ExecuteTime": {
     "end_time": "2020-02-09T16:23:01.896465Z",
     "start_time": "2020-02-09T16:22:59.244496Z"
    }
   },
   "outputs": [
    {
     "data": {
      "text/plain": [
       "<matplotlib.axes._subplots.AxesSubplot at 0x7f95119b6940>"
      ]
     },
     "execution_count": 22,
     "metadata": {},
     "output_type": "execute_result"
    },
    {
     "data": {
      "image/png": "[encoded data removed]",
      "text/plain": [
       "<Figure size 3168x3168 with 1 Axes>"
      ]
     },
     "metadata": {
      "needs_background": "light"
     },
     "output_type": "display_data"
    }
   ],
   "source": [
    "aggregateRankings(neg_rankings_itunes,positive=False)"
   ]
  },
  {
   "cell_type": "code",
   "execution_count": 23,
   "metadata": {
    "ExecuteTime": {
     "end_time": "2020-02-09T16:23:31.645881Z",
     "start_time": "2020-02-09T16:23:28.349085Z"
    }
   },
   "outputs": [
    {
     "data": {
      "text/plain": [
       "<matplotlib.axes._subplots.AxesSubplot at 0x7f951bd9d1d0>"
      ]
     },
     "execution_count": 23,
     "metadata": {},
     "output_type": "execute_result"
    },
    {
     "data": {
      "image/png": "[encoded data removed]",
      "text/plain": [
       "<Figure size 3456x3456 with 1 Axes>"
      ]
     },
     "metadata": {
      "needs_background": "light"
     },
     "output_type": "display_data"
    }
   ],
   "source": [
    "aggregateRankings(pos_rankings_itunes,positive=True)"
   ]
  },
  {
   "cell_type": "code",
   "execution_count": 24,
   "metadata": {
    "ExecuteTime": {
     "end_time": "2020-02-09T16:28:16.981564Z",
     "start_time": "2020-02-09T16:28:16.912022Z"
    }
   },
   "outputs": [],
   "source": [
    "newTrain_Pos = flippedPredictions_pos[(flippedPredictions_pos.alteredAttribute==('Time',))|\n",
    "                                     (flippedPredictions_pos.alteredAttribute==('Price','Time'))|\n",
    "                                     (flippedPredictions_pos.alteredAttribute==('Genre','Price','Time'))].sample(n=30)"
   ]
  },
  {
   "cell_type": "code",
   "execution_count": 134,
   "metadata": {
    "ExecuteTime": {
     "end_time": "2020-02-09T19:10:39.107051Z",
     "start_time": "2020-02-09T19:10:39.053415Z"
    }
   },
   "outputs": [],
   "source": [
    "newTrain_Pos2 = flippedPredictions_pos[(flippedPredictions_pos.alteredAttribute==('Time',))|\n",
    "                                     (flippedPredictions_pos.alteredAttribute==('Price','Time'))|\n",
    "                                     (flippedPredictions_pos.alteredAttribute==('Genre','Price','Time'))].sample(n=40)"
   ]
  },
  {
   "cell_type": "code",
   "execution_count": 26,
   "metadata": {
    "ExecuteTime": {
     "end_time": "2020-02-09T16:31:25.729337Z",
     "start_time": "2020-02-09T16:31:25.665049Z"
    }
   },
   "outputs": [],
   "source": [
    "newTrain_neg = flippedPredictions_neg[(flippedPredictions_neg.alteredAttribute==('Time'))|\n",
    "                                     (flippedPredictions_neg.alteredAttribute==('Price','Time'))|\n",
    "                                     (flippedPredictions_neg.alteredAttribute==('CopyRight'))].sample(n=50)"
   ]
  },
  {
   "cell_type": "code",
   "execution_count": 135,
   "metadata": {
    "ExecuteTime": {
     "end_time": "2020-02-09T19:11:13.331613Z",
     "start_time": "2020-02-09T19:11:13.260387Z"
    }
   },
   "outputs": [],
   "source": [
    "newTrain_neg2 = flippedPredictions_neg[(flippedPredictions_neg.alteredAttribute==('Time'))|\n",
    "                                     (flippedPredictions_neg.alteredAttribute==('Price','Time'))|\n",
    "                                     (flippedPredictions_neg.alteredAttribute==('CopyRight'))|\n",
    "                                      (flippedPredictions_neg.alteredAttribute==('Released'))].sample(n=75)"
   ]
  },
  {
   "cell_type": "code",
   "execution_count": 31,
   "metadata": {
    "ExecuteTime": {
     "end_time": "2020-02-09T16:40:19.743589Z",
     "start_time": "2020-02-09T16:40:19.697011Z"
    }
   },
   "outputs": [],
   "source": [
    "newTrain_Pos['label'] = 1\n",
    "newTrain_neg['label'] = 0\n",
    "newTraining = pd.concat([newTrain_Pos,newTrain_neg])"
   ]
  },
  {
   "cell_type": "code",
   "execution_count": 137,
   "metadata": {
    "ExecuteTime": {
     "end_time": "2020-02-09T19:12:21.158005Z",
     "start_time": "2020-02-09T19:12:21.108077Z"
    }
   },
   "outputs": [],
   "source": [
    "newTrain_Pos2['label'] = 1\n",
    "newTrain_neg2['label'] = 0\n",
    "newTraining2 = pd.concat([newTrain_Pos2,newTrain_neg2])\n",
    "orderedCols = list(train_df)\n",
    "newTraining2 = newTraining2.drop(columns=['alteredAttribute'],axis=1)\n",
    "newTraining2 = newTraining2[orderedCols]\n",
    "improvedTrain2 = pd.concat([train_df,newTraining2])"
   ]
  },
  {
   "cell_type": "code",
   "execution_count": 32,
   "metadata": {
    "ExecuteTime": {
     "end_time": "2020-02-09T16:41:25.899363Z",
     "start_time": "2020-02-09T16:41:25.854037Z"
    }
   },
   "outputs": [],
   "source": [
    "orderedCols = list(train_df)\n",
    "newTraining = newTraining.drop(columns=['alteredAttribute'],axis=1)\n",
    "newTraining = newTraining[orderedCols]\n",
    "improvedTrain = pd.concat([train_df,newTraining])"
   ]
  },
  {
   "cell_type": "code",
   "execution_count": 67,
   "metadata": {
    "ExecuteTime": {
     "end_time": "2020-02-09T17:09:50.173798Z",
     "start_time": "2020-02-09T17:09:50.141688Z"
    }
   },
   "outputs": [],
   "source": [
    "import numpy as np \n",
    "improvedTrain['id'] = np.arange(len(improvedTrain)) "
   ]
  },
  {
   "cell_type": "code",
   "execution_count": 68,
   "metadata": {
    "ExecuteTime": {
     "end_time": "2020-02-09T17:09:53.236618Z",
     "start_time": "2020-02-09T17:09:53.189706Z"
    }
   },
   "outputs": [
    {
     "data": {
      "text/plain": [
       "(401, 321)"
      ]
     },
     "execution_count": 68,
     "metadata": {},
     "output_type": "execute_result"
    }
   ],
   "source": [
    "improvedTrain.to_csv(ITUNES_DIR+'improvedTrain1.csv',index=False)\n",
    "len(improvedTrain),len(train_df)"
   ]
  },
  {
   "cell_type": "code",
   "execution_count": 138,
   "metadata": {
    "ExecuteTime": {
     "end_time": "2020-02-09T19:12:55.796351Z",
     "start_time": "2020-02-09T19:12:55.748379Z"
    }
   },
   "outputs": [
    {
     "data": {
      "text/plain": [
       "436"
      ]
     },
     "execution_count": 138,
     "metadata": {},
     "output_type": "execute_result"
    }
   ],
   "source": [
    "improvedTrain2.to_csv(ITUNES_DIR+'improvedTrain2.csv',index=False)\n",
    "len(improvedTrain2)"
   ]
  },
  {
   "cell_type": "markdown",
   "metadata": {},
   "source": [
    "## Retrain"
   ]
  },
  {
   "cell_type": "code",
   "execution_count": 74,
   "metadata": {
    "ExecuteTime": {
     "end_time": "2020-02-09T17:11:56.818441Z",
     "start_time": "2020-02-09T17:11:54.501094Z"
    }
   },
   "outputs": [
    {
     "name": "stderr",
     "output_type": "stream",
     "text": [
      "WARNING:deepmatcher.data.dataset:Rebuilding data cache because: ['One or more data files have been modified.', 'Data file list has changed.']\n",
      "\n",
      "Reading and processing data from \"datasets/Structured/itunes-amazon/improvedTrain1.csv\"\n",
      "0% [############################# ] 100% | ETA: 00:00:00\n",
      "Reading and processing data from \"datasets/Structured/itunes-amazon/valid_withid.csv\"\n",
      "0% [############################# ] 100% | ETA: 00:00:00\n",
      "Reading and processing data from \"datasets/Structured/itunes-amazon/test_withid.csv\"\n",
      "0% [############################# ] 100% | ETA: 00:00:00\n",
      "Building vocabulary\n",
      "0% [#] 100% | ETA: 00:00:00\n",
      "Total time elapsed: 00:00:00\n",
      "\n",
      "Computing principal components\n",
      "0% [#] 100% | ETA: 00:00:00\n",
      "Total time elapsed: 00:00:00\n"
     ]
    }
   ],
   "source": [
    "train,validation,test = dm.data.process(ITUNES_DIR,train='improvedTrain1.csv',validation='valid_withid.csv',\n",
    "                                       test='test_withid.csv',left_prefix='ltable_',right_prefix='rtable_',\n",
    "                                        cache='impr.pth',ignore_columns=['ltable_id','rtable_id'])"
   ]
  },
  {
   "cell_type": "code",
   "execution_count": 75,
   "metadata": {
    "ExecuteTime": {
     "end_time": "2020-02-09T17:18:26.304899Z",
     "start_time": "2020-02-09T17:12:00.034643Z"
    }
   },
   "outputs": [
    {
     "name": "stdout",
     "output_type": "stream",
     "text": [
      "* Number of trainable parameters: 17757810\n",
      "===>  TRAIN Epoch 1\n"
     ]
    },
    {
     "name": "stderr",
     "output_type": "stream",
     "text": [
      "/home/nvidia/anaconda3/envs/torchenv/lib/python3.6/site-packages/torch/nn/functional.py:1932: UserWarning: reduction: 'mean' divides the total loss by both the batch size and the support size.'batchmean' divides only by the batch size, and aligns with the KL div math definition.'mean' will be changed to behave the same as 'batchmean' in the next major release.\n",
      "  warnings.warn(\"reduction: 'mean' divides the total loss by both the batch size and the support size.\"\n",
      "0% [█████] 100% | ETA: 00:00:00\n",
      "Total time elapsed: 00:00:12\n"
     ]
    },
    {
     "name": "stdout",
     "output_type": "stream",
     "text": [
      "Finished Epoch 1 || Run Time:   11.0 | Load Time:    2.2 || F1:  44.71 | Prec:  29.97 | Rec:  87.96 || Ex/s:  30.40\n",
      "\n",
      "===>  EVAL Epoch 1\n"
     ]
    },
    {
     "name": "stderr",
     "output_type": "stream",
     "text": [
      "0% [█] 100% | ETA: 00:00:00\n",
      "Total time elapsed: 00:00:01\n"
     ]
    },
    {
     "name": "stdout",
     "output_type": "stream",
     "text": [
      "Finished Epoch 1 || Run Time:    1.0 | Load Time:    0.5 || F1:  54.74 | Prec:  38.24 | Rec:  96.30 || Ex/s:  73.57\n",
      "\n",
      "* Best F1: tensor(54.7368, device='cuda:0')\n",
      "Saving best model...\n",
      "Done.\n",
      "---------------------\n",
      "\n",
      "===>  TRAIN Epoch 2\n"
     ]
    },
    {
     "name": "stderr",
     "output_type": "stream",
     "text": [
      "0% [█████] 100% | ETA: 00:00:00\n",
      "Total time elapsed: 00:00:13\n"
     ]
    },
    {
     "name": "stdout",
     "output_type": "stream",
     "text": [
      "Finished Epoch 2 || Run Time:   11.7 | Load Time:    2.4 || F1:  54.79 | Prec:  38.91 | Rec:  92.59 || Ex/s:  28.56\n",
      "\n",
      "===>  EVAL Epoch 2\n"
     ]
    },
    {
     "name": "stderr",
     "output_type": "stream",
     "text": [
      "0% [█] 100% | ETA: 00:00:00\n",
      "Total time elapsed: 00:00:01\n"
     ]
    },
    {
     "name": "stdout",
     "output_type": "stream",
     "text": [
      "Finished Epoch 2 || Run Time:    1.0 | Load Time:    0.5 || F1:  65.00 | Prec:  49.06 | Rec:  96.30 || Ex/s:  72.26\n",
      "\n",
      "* Best F1: tensor(65., device='cuda:0')\n",
      "Saving best model...\n",
      "Done.\n",
      "---------------------\n",
      "\n",
      "===>  TRAIN Epoch 3\n"
     ]
    },
    {
     "name": "stderr",
     "output_type": "stream",
     "text": [
      "0% [█████] 100% | ETA: 00:00:00\n",
      "Total time elapsed: 00:00:12\n"
     ]
    },
    {
     "name": "stdout",
     "output_type": "stream",
     "text": [
      "Finished Epoch 3 || Run Time:   11.3 | Load Time:    2.3 || F1:  66.46 | Prec:  50.24 | Rec:  98.15 || Ex/s:  29.40\n",
      "\n",
      "===>  EVAL Epoch 3\n"
     ]
    },
    {
     "name": "stderr",
     "output_type": "stream",
     "text": [
      "0% [█] 100% | ETA: 00:00:00\n",
      "Total time elapsed: 00:00:01\n"
     ]
    },
    {
     "name": "stdout",
     "output_type": "stream",
     "text": [
      "Finished Epoch 3 || Run Time:    1.0 | Load Time:    0.5 || F1:  72.22 | Prec:  57.78 | Rec:  96.30 || Ex/s:  71.88\n",
      "\n",
      "* Best F1: tensor(72.2222, device='cuda:0')\n",
      "Saving best model...\n",
      "Done.\n",
      "---------------------\n",
      "\n",
      "===>  TRAIN Epoch 4\n"
     ]
    },
    {
     "name": "stderr",
     "output_type": "stream",
     "text": [
      "0% [█████] 100% | ETA: 00:00:00\n",
      "Total time elapsed: 00:00:13\n"
     ]
    },
    {
     "name": "stdout",
     "output_type": "stream",
     "text": [
      "Finished Epoch 4 || Run Time:   11.5 | Load Time:    2.4 || F1:  81.82 | Prec:  69.23 | Rec: 100.00 || Ex/s:  28.85\n",
      "\n",
      "===>  EVAL Epoch 4\n"
     ]
    },
    {
     "name": "stderr",
     "output_type": "stream",
     "text": [
      "0% [█] 100% | ETA: 00:00:00\n",
      "Total time elapsed: 00:00:01\n"
     ]
    },
    {
     "name": "stdout",
     "output_type": "stream",
     "text": [
      "Finished Epoch 4 || Run Time:    1.0 | Load Time:    0.5 || F1:  70.27 | Prec:  55.32 | Rec:  96.30 || Ex/s:  72.68\n",
      "\n",
      "---------------------\n",
      "\n",
      "===>  TRAIN Epoch 5\n"
     ]
    },
    {
     "name": "stderr",
     "output_type": "stream",
     "text": [
      "0% [█████] 100% | ETA: 00:00:00\n",
      "Total time elapsed: 00:00:12\n"
     ]
    },
    {
     "name": "stdout",
     "output_type": "stream",
     "text": [
      "Finished Epoch 5 || Run Time:   11.2 | Load Time:    2.3 || F1:  95.15 | Prec:  90.76 | Rec: 100.00 || Ex/s:  29.67\n",
      "\n",
      "===>  EVAL Epoch 5\n"
     ]
    },
    {
     "name": "stderr",
     "output_type": "stream",
     "text": [
      "0% [█] 100% | ETA: 00:00:00\n",
      "Total time elapsed: 00:00:01\n"
     ]
    },
    {
     "name": "stdout",
     "output_type": "stream",
     "text": [
      "Finished Epoch 5 || Run Time:    1.0 | Load Time:    0.5 || F1:  76.19 | Prec:  66.67 | Rec:  88.89 || Ex/s:  72.76\n",
      "\n",
      "* Best F1: tensor(76.1905, device='cuda:0')\n",
      "Saving best model...\n",
      "Done.\n",
      "---------------------\n",
      "\n",
      "===>  TRAIN Epoch 6\n"
     ]
    },
    {
     "name": "stderr",
     "output_type": "stream",
     "text": [
      "0% [█████] 100% | ETA: 00:00:00\n",
      "Total time elapsed: 00:00:12\n"
     ]
    },
    {
     "name": "stdout",
     "output_type": "stream",
     "text": [
      "Finished Epoch 6 || Run Time:   11.3 | Load Time:    2.3 || F1:  95.58 | Prec:  91.53 | Rec: 100.00 || Ex/s:  29.45\n",
      "\n",
      "===>  EVAL Epoch 6\n"
     ]
    },
    {
     "name": "stderr",
     "output_type": "stream",
     "text": [
      "0% [█] 100% | ETA: 00:00:00\n",
      "Total time elapsed: 00:00:01\n"
     ]
    },
    {
     "name": "stdout",
     "output_type": "stream",
     "text": [
      "Finished Epoch 6 || Run Time:    1.0 | Load Time:    0.5 || F1:  72.00 | Prec:  56.25 | Rec: 100.00 || Ex/s:  71.66\n",
      "\n",
      "---------------------\n",
      "\n",
      "===>  TRAIN Epoch 7\n"
     ]
    },
    {
     "name": "stderr",
     "output_type": "stream",
     "text": [
      "0% [█████] 100% | ETA: 00:00:00\n",
      "Total time elapsed: 00:00:12\n"
     ]
    },
    {
     "name": "stdout",
     "output_type": "stream",
     "text": [
      "Finished Epoch 7 || Run Time:   11.0 | Load Time:    2.2 || F1:  99.08 | Prec:  98.18 | Rec: 100.00 || Ex/s:  30.41\n",
      "\n",
      "===>  EVAL Epoch 7\n"
     ]
    },
    {
     "name": "stderr",
     "output_type": "stream",
     "text": [
      "0% [█] 100% | ETA: 00:00:00\n",
      "Total time elapsed: 00:00:01\n"
     ]
    },
    {
     "name": "stdout",
     "output_type": "stream",
     "text": [
      "Finished Epoch 7 || Run Time:    1.0 | Load Time:    0.5 || F1:  84.75 | Prec:  78.12 | Rec:  92.59 || Ex/s:  72.26\n",
      "\n",
      "* Best F1: tensor(84.7458, device='cuda:0')\n",
      "Saving best model...\n",
      "Done.\n",
      "---------------------\n",
      "\n",
      "===>  TRAIN Epoch 8\n"
     ]
    },
    {
     "name": "stderr",
     "output_type": "stream",
     "text": [
      "0% [█████] 100% | ETA: 00:00:00\n",
      "Total time elapsed: 00:00:13\n"
     ]
    },
    {
     "name": "stdout",
     "output_type": "stream",
     "text": [
      "Finished Epoch 8 || Run Time:   11.5 | Load Time:    2.4 || F1: 100.00 | Prec: 100.00 | Rec: 100.00 || Ex/s:  28.86\n",
      "\n",
      "===>  EVAL Epoch 8\n"
     ]
    },
    {
     "name": "stderr",
     "output_type": "stream",
     "text": [
      "0% [█] 100% | ETA: 00:00:00\n",
      "Total time elapsed: 00:00:01\n"
     ]
    },
    {
     "name": "stdout",
     "output_type": "stream",
     "text": [
      "Finished Epoch 8 || Run Time:    1.0 | Load Time:    0.5 || F1:  85.25 | Prec:  76.47 | Rec:  96.30 || Ex/s:  72.01\n",
      "\n",
      "* Best F1: tensor(85.2459, device='cuda:0')\n",
      "Saving best model...\n",
      "Done.\n",
      "---------------------\n",
      "\n",
      "===>  TRAIN Epoch 9\n"
     ]
    },
    {
     "name": "stderr",
     "output_type": "stream",
     "text": [
      "0% [█████] 100% | ETA: 00:00:00\n",
      "Total time elapsed: 00:00:12\n"
     ]
    },
    {
     "name": "stdout",
     "output_type": "stream",
     "text": [
      "Finished Epoch 9 || Run Time:   11.3 | Load Time:    2.3 || F1: 100.00 | Prec: 100.00 | Rec: 100.00 || Ex/s:  29.50\n",
      "\n",
      "===>  EVAL Epoch 9\n"
     ]
    },
    {
     "name": "stderr",
     "output_type": "stream",
     "text": [
      "0% [█] 100% | ETA: 00:00:00\n",
      "Total time elapsed: 00:00:01\n"
     ]
    },
    {
     "name": "stdout",
     "output_type": "stream",
     "text": [
      "Finished Epoch 9 || Run Time:    1.0 | Load Time:    0.5 || F1:  80.00 | Prec:  68.42 | Rec:  96.30 || Ex/s:  74.11\n",
      "\n",
      "---------------------\n",
      "\n",
      "===>  TRAIN Epoch 10\n"
     ]
    },
    {
     "name": "stderr",
     "output_type": "stream",
     "text": [
      "0% [█████] 100% | ETA: 00:00:00\n",
      "Total time elapsed: 00:00:12\n"
     ]
    },
    {
     "name": "stdout",
     "output_type": "stream",
     "text": [
      "Finished Epoch 10 || Run Time:   11.3 | Load Time:    2.3 || F1: 100.00 | Prec: 100.00 | Rec: 100.00 || Ex/s:  29.56\n",
      "\n",
      "===>  EVAL Epoch 10\n"
     ]
    },
    {
     "name": "stderr",
     "output_type": "stream",
     "text": [
      "0% [█] 100% | ETA: 00:00:00\n",
      "Total time elapsed: 00:00:01\n"
     ]
    },
    {
     "name": "stdout",
     "output_type": "stream",
     "text": [
      "Finished Epoch 10 || Run Time:    1.0 | Load Time:    0.5 || F1:  81.25 | Prec:  70.27 | Rec:  96.30 || Ex/s:  73.15\n",
      "\n",
      "---------------------\n",
      "\n",
      "===>  TRAIN Epoch 11\n"
     ]
    },
    {
     "name": "stderr",
     "output_type": "stream",
     "text": [
      "0% [█████] 100% | ETA: 00:00:00\n",
      "Total time elapsed: 00:00:12\n"
     ]
    },
    {
     "name": "stdout",
     "output_type": "stream",
     "text": [
      "Finished Epoch 11 || Run Time:   10.8 | Load Time:    2.1 || F1: 100.00 | Prec: 100.00 | Rec: 100.00 || Ex/s:  30.87\n",
      "\n",
      "===>  EVAL Epoch 11\n"
     ]
    },
    {
     "name": "stderr",
     "output_type": "stream",
     "text": [
      "0% [█] 100% | ETA: 00:00:00\n",
      "Total time elapsed: 00:00:01\n"
     ]
    },
    {
     "name": "stdout",
     "output_type": "stream",
     "text": [
      "Finished Epoch 11 || Run Time:    1.0 | Load Time:    0.5 || F1:  81.25 | Prec:  70.27 | Rec:  96.30 || Ex/s:  74.13\n",
      "\n",
      "---------------------\n",
      "\n",
      "===>  TRAIN Epoch 12\n"
     ]
    },
    {
     "name": "stderr",
     "output_type": "stream",
     "text": [
      "0% [█████] 100% | ETA: 00:00:00\n",
      "Total time elapsed: 00:00:12\n"
     ]
    },
    {
     "name": "stdout",
     "output_type": "stream",
     "text": [
      "Finished Epoch 12 || Run Time:   11.3 | Load Time:    2.3 || F1: 100.00 | Prec: 100.00 | Rec: 100.00 || Ex/s:  29.56\n",
      "\n",
      "===>  EVAL Epoch 12\n"
     ]
    },
    {
     "name": "stderr",
     "output_type": "stream",
     "text": [
      "0% [█] 100% | ETA: 00:00:00\n",
      "Total time elapsed: 00:00:01\n"
     ]
    },
    {
     "name": "stdout",
     "output_type": "stream",
     "text": [
      "Finished Epoch 12 || Run Time:    1.0 | Load Time:    0.5 || F1:  81.25 | Prec:  70.27 | Rec:  96.30 || Ex/s:  72.86\n",
      "\n",
      "---------------------\n",
      "\n",
      "===>  TRAIN Epoch 13\n"
     ]
    },
    {
     "name": "stderr",
     "output_type": "stream",
     "text": [
      "0% [█████] 100% | ETA: 00:00:00\n",
      "Total time elapsed: 00:00:12\n"
     ]
    },
    {
     "name": "stdout",
     "output_type": "stream",
     "text": [
      "Finished Epoch 13 || Run Time:   11.3 | Load Time:    2.3 || F1: 100.00 | Prec: 100.00 | Rec: 100.00 || Ex/s:  29.48\n",
      "\n",
      "===>  EVAL Epoch 13\n"
     ]
    },
    {
     "name": "stderr",
     "output_type": "stream",
     "text": [
      "0% [█] 100% | ETA: 00:00:00\n",
      "Total time elapsed: 00:00:01\n"
     ]
    },
    {
     "name": "stdout",
     "output_type": "stream",
     "text": [
      "Finished Epoch 13 || Run Time:    1.0 | Load Time:    0.5 || F1:  81.25 | Prec:  70.27 | Rec:  96.30 || Ex/s:  71.34\n",
      "\n",
      "---------------------\n",
      "\n",
      "===>  TRAIN Epoch 14\n"
     ]
    },
    {
     "name": "stderr",
     "output_type": "stream",
     "text": [
      "0% [█████] 100% | ETA: 00:00:00\n",
      "Total time elapsed: 00:00:13\n"
     ]
    },
    {
     "name": "stdout",
     "output_type": "stream",
     "text": [
      "Finished Epoch 14 || Run Time:   11.6 | Load Time:    2.4 || F1: 100.00 | Prec: 100.00 | Rec: 100.00 || Ex/s:  28.70\n",
      "\n",
      "===>  EVAL Epoch 14\n"
     ]
    },
    {
     "name": "stderr",
     "output_type": "stream",
     "text": [
      "0% [█] 100% | ETA: 00:00:00\n",
      "Total time elapsed: 00:00:01\n"
     ]
    },
    {
     "name": "stdout",
     "output_type": "stream",
     "text": [
      "Finished Epoch 14 || Run Time:    1.0 | Load Time:    0.5 || F1:  81.25 | Prec:  70.27 | Rec:  96.30 || Ex/s:  70.41\n",
      "\n",
      "---------------------\n",
      "\n",
      "===>  TRAIN Epoch 15\n"
     ]
    },
    {
     "name": "stderr",
     "output_type": "stream",
     "text": [
      "0% [█████] 100% | ETA: 00:00:00\n",
      "Total time elapsed: 00:00:13\n"
     ]
    },
    {
     "name": "stdout",
     "output_type": "stream",
     "text": [
      "Finished Epoch 15 || Run Time:   11.6 | Load Time:    2.4 || F1: 100.00 | Prec: 100.00 | Rec: 100.00 || Ex/s:  28.82\n",
      "\n",
      "===>  EVAL Epoch 15\n"
     ]
    },
    {
     "name": "stderr",
     "output_type": "stream",
     "text": [
      "0% [█] 100% | ETA: 00:00:00\n",
      "Total time elapsed: 00:00:01\n"
     ]
    },
    {
     "name": "stdout",
     "output_type": "stream",
     "text": [
      "Finished Epoch 15 || Run Time:    1.0 | Load Time:    0.5 || F1:  81.25 | Prec:  70.27 | Rec:  96.30 || Ex/s:  70.96\n",
      "\n",
      "---------------------\n",
      "\n",
      "===>  TRAIN Epoch 16\n"
     ]
    },
    {
     "name": "stderr",
     "output_type": "stream",
     "text": [
      "0% [█████] 100% | ETA: 00:00:00\n",
      "Total time elapsed: 00:00:13\n"
     ]
    },
    {
     "name": "stdout",
     "output_type": "stream",
     "text": [
      "Finished Epoch 16 || Run Time:   11.6 | Load Time:    2.3 || F1: 100.00 | Prec: 100.00 | Rec: 100.00 || Ex/s:  28.71\n",
      "\n",
      "===>  EVAL Epoch 16\n"
     ]
    },
    {
     "name": "stderr",
     "output_type": "stream",
     "text": [
      "0% [█] 100% | ETA: 00:00:00\n",
      "Total time elapsed: 00:00:01\n"
     ]
    },
    {
     "name": "stdout",
     "output_type": "stream",
     "text": [
      "Finished Epoch 16 || Run Time:    1.0 | Load Time:    0.5 || F1:  81.25 | Prec:  70.27 | Rec:  96.30 || Ex/s:  71.28\n",
      "\n",
      "---------------------\n",
      "\n",
      "===>  TRAIN Epoch 17\n"
     ]
    },
    {
     "name": "stderr",
     "output_type": "stream",
     "text": [
      "0% [█████] 100% | ETA: 00:00:00\n",
      "Total time elapsed: 00:00:13\n"
     ]
    },
    {
     "name": "stdout",
     "output_type": "stream",
     "text": [
      "Finished Epoch 17 || Run Time:   11.6 | Load Time:    2.4 || F1: 100.00 | Prec: 100.00 | Rec: 100.00 || Ex/s:  28.83\n",
      "\n",
      "===>  EVAL Epoch 17\n"
     ]
    },
    {
     "name": "stderr",
     "output_type": "stream",
     "text": [
      "0% [█] 100% | ETA: 00:00:00\n",
      "Total time elapsed: 00:00:01\n"
     ]
    },
    {
     "name": "stdout",
     "output_type": "stream",
     "text": [
      "Finished Epoch 17 || Run Time:    1.0 | Load Time:    0.5 || F1:  81.25 | Prec:  70.27 | Rec:  96.30 || Ex/s:  71.14\n",
      "\n",
      "---------------------\n",
      "\n",
      "===>  TRAIN Epoch 18\n"
     ]
    },
    {
     "name": "stderr",
     "output_type": "stream",
     "text": [
      "0% [█████] 100% | ETA: 00:00:00\n",
      "Total time elapsed: 00:00:13\n"
     ]
    },
    {
     "name": "stdout",
     "output_type": "stream",
     "text": [
      "Finished Epoch 18 || Run Time:   11.6 | Load Time:    2.4 || F1: 100.00 | Prec: 100.00 | Rec: 100.00 || Ex/s:  28.65\n",
      "\n",
      "===>  EVAL Epoch 18\n"
     ]
    },
    {
     "name": "stderr",
     "output_type": "stream",
     "text": [
      "0% [█] 100% | ETA: 00:00:00\n",
      "Total time elapsed: 00:00:01\n"
     ]
    },
    {
     "name": "stdout",
     "output_type": "stream",
     "text": [
      "Finished Epoch 18 || Run Time:    1.0 | Load Time:    0.5 || F1:  81.25 | Prec:  70.27 | Rec:  96.30 || Ex/s:  71.48\n",
      "\n",
      "---------------------\n",
      "\n",
      "===>  TRAIN Epoch 19\n"
     ]
    },
    {
     "name": "stderr",
     "output_type": "stream",
     "text": [
      "0% [█████] 100% | ETA: 00:00:00\n",
      "Total time elapsed: 00:00:13\n"
     ]
    },
    {
     "name": "stdout",
     "output_type": "stream",
     "text": [
      "Finished Epoch 19 || Run Time:   11.5 | Load Time:    2.3 || F1: 100.00 | Prec: 100.00 | Rec: 100.00 || Ex/s:  28.98\n",
      "\n",
      "===>  EVAL Epoch 19\n"
     ]
    },
    {
     "name": "stderr",
     "output_type": "stream",
     "text": [
      "0% [█] 100% | ETA: 00:00:00\n",
      "Total time elapsed: 00:00:01\n"
     ]
    },
    {
     "name": "stdout",
     "output_type": "stream",
     "text": [
      "Finished Epoch 19 || Run Time:    1.0 | Load Time:    0.5 || F1:  81.25 | Prec:  70.27 | Rec:  96.30 || Ex/s:  70.35\n",
      "\n",
      "---------------------\n",
      "\n",
      "===>  TRAIN Epoch 20\n"
     ]
    },
    {
     "name": "stderr",
     "output_type": "stream",
     "text": [
      "0% [█████] 100% | ETA: 00:00:00\n",
      "Total time elapsed: 00:00:12\n"
     ]
    },
    {
     "name": "stdout",
     "output_type": "stream",
     "text": [
      "Finished Epoch 20 || Run Time:   11.3 | Load Time:    2.3 || F1: 100.00 | Prec: 100.00 | Rec: 100.00 || Ex/s:  29.47\n",
      "\n",
      "===>  EVAL Epoch 20\n"
     ]
    },
    {
     "name": "stderr",
     "output_type": "stream",
     "text": [
      "0% [█] 100% | ETA: 00:00:00\n",
      "Total time elapsed: 00:00:01\n"
     ]
    },
    {
     "name": "stdout",
     "output_type": "stream",
     "text": [
      "Finished Epoch 20 || Run Time:    1.0 | Load Time:    0.5 || F1:  81.25 | Prec:  70.27 | Rec:  96.30 || Ex/s:  71.38\n",
      "\n",
      "---------------------\n",
      "\n",
      "===>  TRAIN Epoch 21\n"
     ]
    },
    {
     "name": "stderr",
     "output_type": "stream",
     "text": [
      "0% [█████] 100% | ETA: 00:00:00\n",
      "Total time elapsed: 00:00:12\n"
     ]
    },
    {
     "name": "stdout",
     "output_type": "stream",
     "text": [
      "Finished Epoch 21 || Run Time:   11.3 | Load Time:    2.3 || F1: 100.00 | Prec: 100.00 | Rec: 100.00 || Ex/s:  29.43\n",
      "\n",
      "===>  EVAL Epoch 21\n"
     ]
    },
    {
     "name": "stderr",
     "output_type": "stream",
     "text": [
      "0% [█] 100% | ETA: 00:00:00\n",
      "Total time elapsed: 00:00:01\n"
     ]
    },
    {
     "name": "stdout",
     "output_type": "stream",
     "text": [
      "Finished Epoch 21 || Run Time:    1.0 | Load Time:    0.5 || F1:  81.25 | Prec:  70.27 | Rec:  96.30 || Ex/s:  70.69\n",
      "\n",
      "---------------------\n",
      "\n",
      "===>  TRAIN Epoch 22\n"
     ]
    },
    {
     "name": "stderr",
     "output_type": "stream",
     "text": [
      "0% [█████] 100% | ETA: 00:00:00\n",
      "Total time elapsed: 00:00:13\n"
     ]
    },
    {
     "name": "stdout",
     "output_type": "stream",
     "text": [
      "Finished Epoch 22 || Run Time:   11.6 | Load Time:    2.4 || F1: 100.00 | Prec: 100.00 | Rec: 100.00 || Ex/s:  28.74\n",
      "\n",
      "===>  EVAL Epoch 22\n"
     ]
    },
    {
     "name": "stderr",
     "output_type": "stream",
     "text": [
      "0% [█] 100% | ETA: 00:00:00\n",
      "Total time elapsed: 00:00:01\n"
     ]
    },
    {
     "name": "stdout",
     "output_type": "stream",
     "text": [
      "Finished Epoch 22 || Run Time:    1.0 | Load Time:    0.5 || F1:  81.25 | Prec:  70.27 | Rec:  96.30 || Ex/s:  71.17\n",
      "\n",
      "---------------------\n",
      "\n",
      "===>  TRAIN Epoch 23\n"
     ]
    },
    {
     "name": "stderr",
     "output_type": "stream",
     "text": [
      "0% [█████] 100% | ETA: 00:00:00\n",
      "Total time elapsed: 00:00:13\n"
     ]
    },
    {
     "name": "stdout",
     "output_type": "stream",
     "text": [
      "Finished Epoch 23 || Run Time:   11.6 | Load Time:    2.3 || F1: 100.00 | Prec: 100.00 | Rec: 100.00 || Ex/s:  28.74\n",
      "\n",
      "===>  EVAL Epoch 23\n"
     ]
    },
    {
     "name": "stderr",
     "output_type": "stream",
     "text": [
      "0% [█] 100% | ETA: 00:00:00\n",
      "Total time elapsed: 00:00:01\n"
     ]
    },
    {
     "name": "stdout",
     "output_type": "stream",
     "text": [
      "Finished Epoch 23 || Run Time:    1.0 | Load Time:    0.5 || F1:  81.25 | Prec:  70.27 | Rec:  96.30 || Ex/s:  71.59\n",
      "\n",
      "---------------------\n",
      "\n",
      "===>  TRAIN Epoch 24\n"
     ]
    },
    {
     "name": "stderr",
     "output_type": "stream",
     "text": [
      "0% [█████] 100% | ETA: 00:00:00\n",
      "Total time elapsed: 00:00:13\n"
     ]
    },
    {
     "name": "stdout",
     "output_type": "stream",
     "text": [
      "Finished Epoch 24 || Run Time:   11.7 | Load Time:    2.4 || F1: 100.00 | Prec: 100.00 | Rec: 100.00 || Ex/s:  28.62\n",
      "\n",
      "===>  EVAL Epoch 24\n"
     ]
    },
    {
     "name": "stderr",
     "output_type": "stream",
     "text": [
      "0% [█] 100% | ETA: 00:00:00\n",
      "Total time elapsed: 00:00:01\n"
     ]
    },
    {
     "name": "stdout",
     "output_type": "stream",
     "text": [
      "Finished Epoch 24 || Run Time:    1.0 | Load Time:    0.5 || F1:  81.25 | Prec:  70.27 | Rec:  96.30 || Ex/s:  71.42\n",
      "\n",
      "---------------------\n",
      "\n",
      "===>  TRAIN Epoch 25\n"
     ]
    },
    {
     "name": "stderr",
     "output_type": "stream",
     "text": [
      "0% [█████] 100% | ETA: 00:00:00\n",
      "Total time elapsed: 00:00:12\n"
     ]
    },
    {
     "name": "stdout",
     "output_type": "stream",
     "text": [
      "Finished Epoch 25 || Run Time:   11.4 | Load Time:    2.3 || F1: 100.00 | Prec: 100.00 | Rec: 100.00 || Ex/s:  29.13\n",
      "\n",
      "===>  EVAL Epoch 25\n"
     ]
    },
    {
     "name": "stderr",
     "output_type": "stream",
     "text": [
      "0% [█] 100% | ETA: 00:00:00\n",
      "Total time elapsed: 00:00:01\n"
     ]
    },
    {
     "name": "stdout",
     "output_type": "stream",
     "text": [
      "Finished Epoch 25 || Run Time:    1.0 | Load Time:    0.5 || F1:  81.25 | Prec:  70.27 | Rec:  96.30 || Ex/s:  70.78\n",
      "\n",
      "---------------------\n",
      "\n",
      "Loading best model...\n",
      "Training done.\n"
     ]
    },
    {
     "data": {
      "text/plain": [
       "tensor(85.2459, device='cuda:0')"
      ]
     },
     "execution_count": 75,
     "metadata": {},
     "output_type": "execute_result"
    }
   ],
   "source": [
    "hybrid_model = dm.MatchingModel(attr_summarizer='hybrid')\n",
    "hybrid_model.run_train(train,validation,pos_neg_ratio=5,\n",
    "                      batch_size=16,epochs=25,best_save_path='itunesamazon_impr.pth')"
   ]
  },
  {
   "cell_type": "code",
   "execution_count": 76,
   "metadata": {
    "ExecuteTime": {
     "end_time": "2020-02-09T17:19:30.136901Z",
     "start_time": "2020-02-09T17:19:28.886499Z"
    }
   },
   "outputs": [
    {
     "name": "stdout",
     "output_type": "stream",
     "text": [
      "===>  EVAL Epoch 8\n",
      "Finished Epoch 8 || Run Time:    0.6 | Load Time:    0.6 || F1:  86.21 | Prec:  80.65 | Rec:  92.59 || Ex/s:  91.97\n",
      "\n"
     ]
    },
    {
     "data": {
      "text/plain": [
       "tensor(86.2069, device='cuda:0')"
      ]
     },
     "execution_count": 76,
     "metadata": {},
     "output_type": "execute_result"
    }
   ],
   "source": [
    "hybrid_model.run_eval(test)"
   ]
  },
  {
   "cell_type": "code",
   "execution_count": 77,
   "metadata": {
    "ExecuteTime": {
     "end_time": "2020-02-09T17:19:34.853185Z",
     "start_time": "2020-02-09T17:19:33.248785Z"
    }
   },
   "outputs": [
    {
     "data": {
      "text/plain": [
       "(0.7903955578804016, 0.011770060641655073)"
      ]
     },
     "execution_count": 77,
     "metadata": {},
     "output_type": "execute_result"
    }
   ],
   "source": [
    "standard_test = pd.read_csv(ITUNES_DIR+'merged_test.csv')\n",
    "getMeanConfidenceAndVariance(hybrid_model,standard_test)"
   ]
  },
  {
   "cell_type": "markdown",
   "metadata": {},
   "source": [
    "### Evaluate first retrain"
   ]
  },
  {
   "cell_type": "code",
   "execution_count": 34,
   "metadata": {
    "ExecuteTime": {
     "end_time": "2020-03-09T16:21:12.471829Z",
     "start_time": "2020-03-09T16:21:11.707520Z"
    }
   },
   "outputs": [],
   "source": [
    "retrained1 = dm.MatchingModel(attr_summarizer='hybrid')\n",
    "retrained1.load_state('models/itunesamazon_impr1.pth')\n",
    "retrained1 = retrained1.to('cuda')"
   ]
  },
  {
   "cell_type": "code",
   "execution_count": 35,
   "metadata": {
    "ExecuteTime": {
     "end_time": "2020-03-09T16:21:18.209469Z",
     "start_time": "2020-03-09T16:21:18.172623Z"
    }
   },
   "outputs": [],
   "source": [
    "explainer_retrained1 = Explainer(retrained1,[])"
   ]
  },
  {
   "cell_type": "code",
   "execution_count": 36,
   "metadata": {
    "ExecuteTime": {
     "end_time": "2020-03-09T16:32:09.383733Z",
     "start_time": "2020-03-09T16:30:28.463528Z"
    }
   },
   "outputs": [
    {
     "name": "stderr",
     "output_type": "stream",
     "text": [
      "\n",
      "\n",
      "  0%|          | 0/78 [00:00<?, ?it/s]\u001b[A\u001b[A\n",
      "\n",
      "  1%|▏         | 1/78 [00:01<01:35,  1.24s/it]\u001b[A\u001b[A\n",
      "\n",
      "  3%|▎         | 2/78 [00:02<01:32,  1.22s/it]\u001b[A\u001b[A\n",
      "\n",
      "  4%|▍         | 3/78 [00:03<01:30,  1.20s/it]\u001b[A\u001b[A\n",
      "\n",
      "  5%|▌         | 4/78 [00:04<01:33,  1.26s/it]\u001b[A\u001b[A\n",
      "\n",
      "  6%|▋         | 5/78 [00:06<01:29,  1.23s/it]\u001b[A\u001b[A\n",
      "\n",
      "  8%|▊         | 6/78 [00:07<01:28,  1.23s/it]\u001b[A\u001b[A\n",
      "\n",
      "  9%|▉         | 7/78 [00:08<01:25,  1.21s/it]\u001b[A\u001b[A\n",
      "\n",
      " 10%|█         | 8/78 [00:09<01:23,  1.20s/it]\u001b[A\u001b[A\n",
      "\n",
      " 12%|█▏        | 9/78 [00:10<01:21,  1.18s/it]\u001b[A\u001b[A\n",
      "\n",
      " 13%|█▎        | 10/78 [00:11<01:19,  1.18s/it]\u001b[A\u001b[A\n",
      "\n",
      " 14%|█▍        | 11/78 [00:13<01:18,  1.18s/it]\u001b[A\u001b[A\n",
      "\n",
      " 15%|█▌        | 12/78 [00:14<01:18,  1.18s/it]\u001b[A\u001b[A\n",
      "\n",
      " 17%|█▋        | 13/78 [00:15<01:16,  1.17s/it]\u001b[A\u001b[A\n",
      "\n",
      " 18%|█▊        | 14/78 [00:16<01:14,  1.16s/it]\u001b[A\u001b[A\n",
      "\n",
      " 19%|█▉        | 15/78 [00:17<01:13,  1.16s/it]\u001b[A\u001b[A\n",
      "\n",
      " 21%|██        | 16/78 [00:18<01:11,  1.15s/it]\u001b[A\u001b[A\n",
      "\n",
      " 22%|██▏       | 17/78 [00:20<01:10,  1.15s/it]\u001b[A\u001b[A\n",
      "\n",
      " 23%|██▎       | 18/78 [00:21<01:11,  1.19s/it]\u001b[A\u001b[A\n",
      "\n",
      " 24%|██▍       | 19/78 [00:22<01:10,  1.19s/it]\u001b[A\u001b[A\n",
      "\n",
      " 26%|██▌       | 20/78 [00:23<01:09,  1.19s/it]\u001b[A\u001b[A\n",
      "\n",
      " 27%|██▋       | 21/78 [00:24<01:08,  1.20s/it]\u001b[A\u001b[A\n",
      "\n",
      " 28%|██▊       | 22/78 [00:26<01:07,  1.20s/it]\u001b[A\u001b[A\n",
      "\n",
      " 29%|██▉       | 23/78 [00:27<01:06,  1.21s/it]\u001b[A\u001b[A\n",
      "\n",
      " 31%|███       | 24/78 [00:28<01:05,  1.21s/it]\u001b[A\u001b[A\n",
      "\n",
      " 32%|███▏      | 25/78 [00:29<01:03,  1.20s/it]\u001b[A\u001b[A\n",
      "\n",
      " 33%|███▎      | 26/78 [00:30<01:01,  1.18s/it]\u001b[A\u001b[A\n",
      "\n",
      " 35%|███▍      | 27/78 [00:32<01:00,  1.19s/it]\u001b[A\u001b[A\n",
      "\n",
      " 36%|███▌      | 28/78 [00:33<01:05,  1.30s/it]\u001b[A\u001b[A\n",
      "\n",
      " 37%|███▋      | 29/78 [00:35<01:06,  1.36s/it]\u001b[A\u001b[A\n",
      "\n",
      " 38%|███▊      | 30/78 [00:36<01:02,  1.31s/it]\u001b[A\u001b[A\n",
      "\n",
      " 40%|███▉      | 31/78 [00:37<01:05,  1.39s/it]\u001b[A\u001b[A\n",
      "\n",
      " 41%|████      | 32/78 [00:39<01:04,  1.40s/it]\u001b[A\u001b[A\n",
      "\n",
      " 42%|████▏     | 33/78 [00:40<00:59,  1.33s/it]\u001b[A\u001b[A\n",
      "\n",
      " 44%|████▎     | 34/78 [00:41<00:56,  1.27s/it]\u001b[A\u001b[A\n",
      "\n",
      " 45%|████▍     | 35/78 [00:43<00:59,  1.39s/it]\u001b[A\u001b[A\n",
      "\n",
      " 46%|████▌     | 36/78 [00:44<01:00,  1.44s/it]\u001b[A\u001b[A\n",
      "\n",
      " 47%|████▋     | 37/78 [00:46<00:56,  1.37s/it]\u001b[A\u001b[A\n",
      "\n",
      " 49%|████▊     | 38/78 [00:47<00:55,  1.38s/it]\u001b[A\u001b[A\n",
      "\n",
      " 50%|█████     | 39/78 [00:48<00:53,  1.38s/it]\u001b[A\u001b[A\n",
      "\n",
      " 51%|█████▏    | 40/78 [00:50<00:49,  1.31s/it]\u001b[A\u001b[A\n",
      "\n",
      " 53%|█████▎    | 41/78 [00:51<00:48,  1.32s/it]\u001b[A\u001b[A\n",
      "\n",
      " 54%|█████▍    | 42/78 [00:53<00:50,  1.41s/it]\u001b[A\u001b[A\n",
      "\n",
      " 55%|█████▌    | 43/78 [00:54<00:49,  1.40s/it]\u001b[A\u001b[A\n",
      "\n",
      " 56%|█████▋    | 44/78 [00:55<00:45,  1.32s/it]\u001b[A\u001b[A\n",
      "\n",
      " 58%|█████▊    | 45/78 [00:57<00:46,  1.41s/it]\u001b[A\u001b[A\n",
      "\n",
      " 59%|█████▉    | 46/78 [00:58<00:47,  1.48s/it]\u001b[A\u001b[A\n",
      "\n",
      " 60%|██████    | 47/78 [01:00<00:43,  1.39s/it]\u001b[A\u001b[A\n",
      "\n",
      " 62%|██████▏   | 48/78 [01:01<00:40,  1.34s/it]\u001b[A\u001b[A\n",
      "\n",
      " 63%|██████▎   | 49/78 [01:02<00:38,  1.31s/it]\u001b[A\u001b[A\n",
      "\n",
      " 64%|██████▍   | 50/78 [01:03<00:36,  1.29s/it]\u001b[A\u001b[A\n",
      "\n",
      " 65%|██████▌   | 51/78 [01:04<00:34,  1.27s/it]\u001b[A\u001b[A\n",
      "\n",
      " 67%|██████▋   | 52/78 [01:06<00:33,  1.28s/it]\u001b[A\u001b[A\n",
      "\n",
      " 68%|██████▊   | 53/78 [01:07<00:31,  1.26s/it]\u001b[A\u001b[A\n",
      "\n",
      " 69%|██████▉   | 54/78 [01:08<00:30,  1.25s/it]\u001b[A\u001b[A\n",
      "\n",
      " 71%|███████   | 55/78 [01:09<00:28,  1.25s/it]\u001b[A\u001b[A\n",
      "\n",
      " 72%|███████▏  | 56/78 [01:11<00:28,  1.30s/it]\u001b[A\u001b[A\n",
      "\n",
      " 73%|███████▎  | 57/78 [01:12<00:26,  1.27s/it]\u001b[A\u001b[A\n",
      "\n",
      " 74%|███████▍  | 58/78 [01:13<00:25,  1.27s/it]\u001b[A\u001b[A\n",
      "\n",
      " 76%|███████▌  | 59/78 [01:15<00:23,  1.25s/it]\u001b[A\u001b[A\n",
      "\n",
      " 77%|███████▋  | 60/78 [01:16<00:22,  1.24s/it]\u001b[A\u001b[A\n",
      "\n",
      " 78%|███████▊  | 61/78 [01:17<00:20,  1.23s/it]\u001b[A\u001b[A\n",
      "\n",
      " 79%|███████▉  | 62/78 [01:18<00:19,  1.22s/it]\u001b[A\u001b[A\n",
      "\n",
      " 81%|████████  | 63/78 [01:19<00:18,  1.24s/it]\u001b[A\u001b[A\n",
      "\n",
      " 82%|████████▏ | 64/78 [01:21<00:17,  1.24s/it]\u001b[A\u001b[A\n",
      "\n",
      " 83%|████████▎ | 65/78 [01:22<00:15,  1.23s/it]\u001b[A\u001b[A\n",
      "\n",
      " 85%|████████▍ | 66/78 [01:23<00:14,  1.23s/it]\u001b[A\u001b[A\n",
      "\n",
      " 86%|████████▌ | 67/78 [01:24<00:13,  1.22s/it]\u001b[A\u001b[A\n",
      "\n",
      " 87%|████████▋ | 68/78 [01:25<00:12,  1.22s/it]\u001b[A\u001b[A\n",
      "\n",
      " 88%|████████▊ | 69/78 [01:27<00:11,  1.24s/it]\u001b[A\u001b[A\n",
      "\n",
      " 90%|████████▉ | 70/78 [01:28<00:09,  1.23s/it]\u001b[A\u001b[A\n",
      "\n",
      " 91%|█████████ | 71/78 [01:29<00:08,  1.22s/it]\u001b[A\u001b[A\n",
      "\n",
      " 92%|█████████▏| 72/78 [01:30<00:07,  1.22s/it]\u001b[A\u001b[A\n",
      "\n",
      " 94%|█████████▎| 73/78 [01:32<00:06,  1.22s/it]\u001b[A\u001b[A\n",
      "\n",
      " 95%|█████████▍| 74/78 [01:33<00:04,  1.21s/it]\u001b[A\u001b[A\n",
      "\n",
      " 96%|█████████▌| 75/78 [01:34<00:03,  1.23s/it]\u001b[A\u001b[A\n",
      "\n",
      " 97%|█████████▋| 76/78 [01:35<00:02,  1.22s/it]\u001b[A\u001b[A\n",
      "\n",
      " 99%|█████████▊| 77/78 [01:36<00:01,  1.21s/it]\u001b[A\u001b[A\n",
      "\n",
      "100%|██████████| 78/78 [01:38<00:00,  1.26s/it]\u001b[A\u001b[A\n"
     ]
    }
   ],
   "source": [
    "neg_rankings_itunes1,flipped_neg1 = explainer_retrained1.getRankingsBlackBox(DATASET_DIR,'augmented_test.csv',\n",
    "                                                                             0,1,augment_test=True)"
   ]
  },
  {
   "cell_type": "code",
   "execution_count": 37,
   "metadata": {
    "ExecuteTime": {
     "end_time": "2020-03-09T16:33:37.802856Z",
     "start_time": "2020-03-09T16:33:37.430469Z"
    },
    "scrolled": true
   },
   "outputs": [
    {
     "data": {
      "image/png": "[encoded data removed]",
      "text/plain": [
       "<Figure size 576x576 with 1 Axes>"
      ]
     },
     "metadata": {
      "needs_background": "light"
     },
     "output_type": "display_data"
    }
   ],
   "source": [
    "ax,negRank1  = aggregateRankings(neg_rankings_itunes1,positive=False,maxLenAttributes=1,lenTriangles=78)"
   ]
  },
  {
   "cell_type": "code",
   "execution_count": 38,
   "metadata": {
    "ExecuteTime": {
     "end_time": "2020-03-09T16:36:02.572399Z",
     "start_time": "2020-03-09T16:34:27.549112Z"
    }
   },
   "outputs": [
    {
     "name": "stderr",
     "output_type": "stream",
     "text": [
      "\n",
      "\n",
      "  0%|          | 0/78 [00:00<?, ?it/s]\u001b[A\u001b[A\n",
      "\n",
      "  1%|▏         | 1/78 [00:01<01:35,  1.24s/it]\u001b[A\u001b[A\n",
      "\n",
      "  3%|▎         | 2/78 [00:02<01:33,  1.23s/it]\u001b[A\u001b[A\n",
      "\n",
      "  4%|▍         | 3/78 [00:03<01:30,  1.21s/it]\u001b[A\u001b[A\n",
      "\n",
      "  5%|▌         | 4/78 [00:04<01:28,  1.19s/it]\u001b[A\u001b[A\n",
      "\n",
      "  6%|▋         | 5/78 [00:05<01:26,  1.18s/it]\u001b[A\u001b[A\n",
      "\n",
      "  8%|▊         | 6/78 [00:07<01:24,  1.18s/it]\u001b[A\u001b[A\n",
      "\n",
      "  9%|▉         | 7/78 [00:08<01:24,  1.19s/it]\u001b[A\u001b[A\n",
      "\n",
      " 10%|█         | 8/78 [00:09<01:23,  1.19s/it]\u001b[A\u001b[A\n",
      "\n",
      " 12%|█▏        | 9/78 [00:10<01:21,  1.18s/it]\u001b[A\u001b[A\n",
      "\n",
      " 13%|█▎        | 10/78 [00:11<01:19,  1.17s/it]\u001b[A\u001b[A\n",
      "\n",
      " 14%|█▍        | 11/78 [00:13<01:21,  1.22s/it]\u001b[A\u001b[A\n",
      "\n",
      " 15%|█▌        | 12/78 [00:14<01:22,  1.25s/it]\u001b[A\u001b[A\n",
      "\n",
      " 17%|█▋        | 13/78 [00:15<01:19,  1.22s/it]\u001b[A\u001b[A\n",
      "\n",
      " 18%|█▊        | 14/78 [00:16<01:15,  1.19s/it]\u001b[A\u001b[A\n",
      "\n",
      " 19%|█▉        | 15/78 [00:17<01:13,  1.17s/it]\u001b[A\u001b[A\n",
      "\n",
      " 21%|██        | 16/78 [00:18<01:11,  1.15s/it]\u001b[A\u001b[A\n",
      "\n",
      " 22%|██▏       | 17/78 [00:20<01:09,  1.14s/it]\u001b[A\u001b[A\n",
      "\n",
      " 23%|██▎       | 18/78 [00:21<01:09,  1.15s/it]\u001b[A\u001b[A\n",
      "\n",
      " 24%|██▍       | 19/78 [00:22<01:14,  1.26s/it]\u001b[A\u001b[A\n",
      "\n",
      " 26%|██▌       | 20/78 [00:23<01:12,  1.24s/it]\u001b[A\u001b[A\n",
      "\n",
      " 27%|██▋       | 21/78 [00:25<01:09,  1.23s/it]\u001b[A\u001b[A\n",
      "\n",
      " 28%|██▊       | 22/78 [00:26<01:08,  1.22s/it]\u001b[A\u001b[A\n",
      "\n",
      " 29%|██▉       | 23/78 [00:27<01:07,  1.22s/it]\u001b[A\u001b[A\n",
      "\n",
      " 31%|███       | 24/78 [00:28<01:05,  1.21s/it]\u001b[A\u001b[A\n",
      "\n",
      " 32%|███▏      | 25/78 [00:29<01:03,  1.20s/it]\u001b[A\u001b[A\n",
      "\n",
      " 33%|███▎      | 26/78 [00:31<01:01,  1.19s/it]\u001b[A\u001b[A\n",
      "\n",
      " 35%|███▍      | 27/78 [00:32<01:00,  1.18s/it]\u001b[A\u001b[A\n",
      "\n",
      " 36%|███▌      | 28/78 [00:33<00:59,  1.18s/it]\u001b[A\u001b[A\n",
      "\n",
      " 37%|███▋      | 29/78 [00:34<00:59,  1.21s/it]\u001b[A\u001b[A\n",
      "\n",
      " 38%|███▊      | 30/78 [00:35<00:57,  1.20s/it]\u001b[A\u001b[A\n",
      "\n",
      " 40%|███▉      | 31/78 [00:37<00:55,  1.19s/it]\u001b[A\u001b[A\n",
      "\n",
      " 41%|████      | 32/78 [00:38<00:54,  1.19s/it]\u001b[A\u001b[A\n",
      "\n",
      " 42%|████▏     | 33/78 [00:39<00:53,  1.18s/it]\u001b[A\u001b[A\n",
      "\n",
      " 44%|████▎     | 34/78 [00:40<00:51,  1.18s/it]\u001b[A\u001b[A\n",
      "\n",
      " 45%|████▍     | 35/78 [00:41<00:51,  1.19s/it]\u001b[A\u001b[A\n",
      "\n",
      " 46%|████▌     | 36/78 [00:42<00:49,  1.19s/it]\u001b[A\u001b[A\n",
      "\n",
      " 47%|████▋     | 37/78 [00:44<00:48,  1.19s/it]\u001b[A\u001b[A\n",
      "\n",
      " 49%|████▊     | 38/78 [00:45<00:47,  1.19s/it]\u001b[A\u001b[A\n",
      "\n",
      " 50%|█████     | 39/78 [00:46<00:46,  1.19s/it]\u001b[A\u001b[A\n",
      "\n",
      " 51%|█████▏    | 40/78 [00:47<00:45,  1.20s/it]\u001b[A\u001b[A\n",
      "\n",
      " 53%|█████▎    | 41/78 [00:48<00:44,  1.19s/it]\u001b[A\u001b[A\n",
      "\n",
      " 54%|█████▍    | 42/78 [00:50<00:42,  1.19s/it]\u001b[A\u001b[A\n",
      "\n",
      " 55%|█████▌    | 43/78 [00:51<00:41,  1.18s/it]\u001b[A\u001b[A\n",
      "\n",
      " 56%|█████▋    | 44/78 [00:52<00:39,  1.17s/it]\u001b[A\u001b[A\n",
      "\n",
      " 58%|█████▊    | 45/78 [00:53<00:38,  1.17s/it]\u001b[A\u001b[A\n",
      "\n",
      " 59%|█████▉    | 46/78 [00:54<00:37,  1.18s/it]\u001b[A\u001b[A\n",
      "\n",
      " 60%|██████    | 47/78 [00:55<00:36,  1.18s/it]\u001b[A\u001b[A\n",
      "\n",
      " 62%|██████▏   | 48/78 [00:57<00:35,  1.17s/it]\u001b[A\u001b[A\n",
      "\n",
      " 63%|██████▎   | 49/78 [00:58<00:33,  1.17s/it]\u001b[A\u001b[A\n",
      "\n",
      " 64%|██████▍   | 50/78 [00:59<00:32,  1.17s/it]\u001b[A\u001b[A\n",
      "\n",
      " 65%|██████▌   | 51/78 [01:00<00:31,  1.18s/it]\u001b[A\u001b[A\n",
      "\n",
      " 67%|██████▋   | 52/78 [01:01<00:31,  1.20s/it]\u001b[A\u001b[A\n",
      "\n",
      " 68%|██████▊   | 53/78 [01:03<00:29,  1.20s/it]\u001b[A\u001b[A\n",
      "\n",
      " 69%|██████▉   | 54/78 [01:04<00:28,  1.20s/it]\u001b[A\u001b[A\n",
      "\n",
      " 71%|███████   | 55/78 [01:05<00:27,  1.19s/it]\u001b[A\u001b[A\n",
      "\n",
      " 72%|███████▏  | 56/78 [01:06<00:26,  1.19s/it]\u001b[A\u001b[A\n",
      "\n",
      " 73%|███████▎  | 57/78 [01:07<00:24,  1.18s/it]\u001b[A\u001b[A\n",
      "\n",
      " 74%|███████▍  | 58/78 [01:09<00:23,  1.18s/it]\u001b[A\u001b[A\n",
      "\n",
      " 76%|███████▌  | 59/78 [01:10<00:22,  1.17s/it]\u001b[A\u001b[A\n",
      "\n",
      " 77%|███████▋  | 60/78 [01:11<00:20,  1.16s/it]\u001b[A\u001b[A\n",
      "\n",
      " 78%|███████▊  | 61/78 [01:12<00:19,  1.16s/it]\u001b[A\u001b[A\n",
      "\n",
      " 79%|███████▉  | 62/78 [01:13<00:18,  1.16s/it]\u001b[A\u001b[A\n",
      "\n",
      " 81%|████████  | 63/78 [01:14<00:17,  1.18s/it]\u001b[A\u001b[A\n",
      "\n",
      " 82%|████████▏ | 64/78 [01:15<00:16,  1.17s/it]\u001b[A\u001b[A\n",
      "\n",
      " 83%|████████▎ | 65/78 [01:17<00:15,  1.17s/it]\u001b[A\u001b[A\n",
      "\n",
      " 85%|████████▍ | 66/78 [01:18<00:14,  1.17s/it]\u001b[A\u001b[A\n",
      "\n",
      " 86%|████████▌ | 67/78 [01:19<00:12,  1.17s/it]\u001b[A\u001b[A\n",
      "\n",
      " 87%|████████▋ | 68/78 [01:20<00:11,  1.16s/it]\u001b[A\u001b[A\n",
      "\n",
      " 88%|████████▊ | 69/78 [01:21<00:10,  1.18s/it]\u001b[A\u001b[A\n",
      "\n",
      " 90%|████████▉ | 70/78 [01:22<00:09,  1.17s/it]\u001b[A\u001b[A\n",
      "\n",
      " 91%|█████████ | 71/78 [01:24<00:08,  1.17s/it]\u001b[A\u001b[A\n",
      "\n",
      " 92%|█████████▏| 72/78 [01:25<00:06,  1.17s/it]\u001b[A\u001b[A\n",
      "\n",
      " 94%|█████████▎| 73/78 [01:26<00:05,  1.16s/it]\u001b[A\u001b[A\n",
      "\n",
      " 95%|█████████▍| 74/78 [01:27<00:04,  1.16s/it]\u001b[A\u001b[A\n",
      "\n",
      " 96%|█████████▌| 75/78 [01:28<00:03,  1.17s/it]\u001b[A\u001b[A\n",
      "\n",
      " 97%|█████████▋| 76/78 [01:29<00:02,  1.17s/it]\u001b[A\u001b[A\n",
      "\n",
      " 99%|█████████▊| 77/78 [01:31<00:01,  1.16s/it]\u001b[A\u001b[A\n",
      "\n",
      "100%|██████████| 78/78 [01:32<00:00,  1.18s/it]\u001b[A\u001b[A\n"
     ]
    }
   ],
   "source": [
    "pos_rankings_itunes1,flipped_pos1 = explainer_retrained1.getRankingsBlackBox(DATASET_DIR,'augmented_test.csv',\n",
    "                                                                             1,1,augment_test=True)"
   ]
  },
  {
   "cell_type": "code",
   "execution_count": 39,
   "metadata": {
    "ExecuteTime": {
     "end_time": "2020-03-09T16:36:52.277730Z",
     "start_time": "2020-03-09T16:36:52.045184Z"
    }
   },
   "outputs": [
    {
     "data": {
      "image/png": "[encoded data removed]",
      "text/plain": [
       "<Figure size 216x216 with 1 Axes>"
      ]
     },
     "metadata": {
      "needs_background": "light"
     },
     "output_type": "display_data"
    }
   ],
   "source": [
    "ax,posRank1 = aggregateRankings(pos_rankings_itunes1,positive=True,maxLenAttributes=1,lenTriangles=78)"
   ]
  },
  {
   "cell_type": "markdown",
   "metadata": {},
   "source": [
    "## Prepare second retrain"
   ]
  },
  {
   "cell_type": "code",
   "execution_count": 139,
   "metadata": {
    "ExecuteTime": {
     "end_time": "2020-02-09T19:13:18.455956Z",
     "start_time": "2020-02-09T19:13:15.957426Z"
    }
   },
   "outputs": [
    {
     "name": "stderr",
     "output_type": "stream",
     "text": [
      "\n",
      "Reading and processing data from \"datasets/Structured/itunes-amazon/improvedTrain2.csv\"\n",
      "0% [############################# ] 100% | ETA: 00:00:00\n",
      "Reading and processing data from \"datasets/Structured/itunes-amazon/valid_withid.csv\"\n",
      "0% [############################# ] 100% | ETA: 00:00:00\n",
      "Reading and processing data from \"datasets/Structured/itunes-amazon/test_withid.csv\"\n",
      "0% [############################# ] 100% | ETA: 00:00:00\n",
      "Building vocabulary\n",
      "0% [#] 100% | ETA: 00:00:00\n",
      "Total time elapsed: 00:00:00\n",
      "\n",
      "Computing principal components\n",
      "0% [#] 100% | ETA: 00:00:00\n",
      "Total time elapsed: 00:00:00\n"
     ]
    }
   ],
   "source": [
    "train,validation,test = dm.data.process(ITUNES_DIR,train='improvedTrain2.csv',validation='valid_withid.csv',\n",
    "                                       test='test_withid.csv',left_prefix='ltable_',right_prefix='rtable_',\n",
    "                                        cache='impr2.pth',ignore_columns=['ltable_id','rtable_id'])"
   ]
  },
  {
   "cell_type": "code",
   "execution_count": 141,
   "metadata": {
    "ExecuteTime": {
     "end_time": "2020-02-09T19:20:44.169784Z",
     "start_time": "2020-02-09T19:13:49.589246Z"
    }
   },
   "outputs": [
    {
     "name": "stdout",
     "output_type": "stream",
     "text": [
      "* Number of trainable parameters: 17757810\n",
      "===>  TRAIN Epoch 1\n"
     ]
    },
    {
     "name": "stderr",
     "output_type": "stream",
     "text": [
      "/home/nvidia/anaconda3/envs/torchenv/lib/python3.6/site-packages/torch/nn/functional.py:1932: UserWarning: reduction: 'mean' divides the total loss by both the batch size and the support size.'batchmean' divides only by the batch size, and aligns with the KL div math definition.'mean' will be changed to behave the same as 'batchmean' in the next major release.\n",
      "  warnings.warn(\"reduction: 'mean' divides the total loss by both the batch size and the support size.\"\n",
      "0% [█████] 100% | ETA: 00:00:00\n",
      "Total time elapsed: 00:00:12\n"
     ]
    },
    {
     "name": "stdout",
     "output_type": "stream",
     "text": [
      "Finished Epoch 1 || Run Time:   12.1 | Load Time:    2.5 || F1:  45.08 | Prec:  30.38 | Rec:  87.29 || Ex/s:  29.77\n",
      "\n",
      "===>  EVAL Epoch 1\n"
     ]
    },
    {
     "name": "stderr",
     "output_type": "stream",
     "text": [
      "0% [█] 100% | ETA: 00:00:00\n",
      "Total time elapsed: 00:00:01\n"
     ]
    },
    {
     "name": "stdout",
     "output_type": "stream",
     "text": [
      "Finished Epoch 1 || Run Time:    1.1 | Load Time:    0.5 || F1:  50.00 | Prec:  33.77 | Rec:  96.30 || Ex/s:  69.38\n",
      "\n",
      "* Best F1: tensor(50.0000, device='cuda:0')\n",
      "Saving best model...\n",
      "Done.\n",
      "---------------------\n",
      "\n",
      "===>  TRAIN Epoch 2\n"
     ]
    },
    {
     "name": "stderr",
     "output_type": "stream",
     "text": [
      "0% [█████] 100% | ETA: 00:00:00\n",
      "Total time elapsed: 00:00:13\n"
     ]
    },
    {
     "name": "stdout",
     "output_type": "stream",
     "text": [
      "Finished Epoch 2 || Run Time:   12.4 | Load Time:    2.6 || F1:  60.56 | Prec:  45.04 | Rec:  92.37 || Ex/s:  29.06\n",
      "\n",
      "===>  EVAL Epoch 2\n"
     ]
    },
    {
     "name": "stderr",
     "output_type": "stream",
     "text": [
      "0% [█] 100% | ETA: 00:00:00\n",
      "Total time elapsed: 00:00:01\n"
     ]
    },
    {
     "name": "stdout",
     "output_type": "stream",
     "text": [
      "Finished Epoch 2 || Run Time:    1.0 | Load Time:    0.5 || F1:  55.10 | Prec:  38.03 | Rec: 100.00 || Ex/s:  71.33\n",
      "\n",
      "* Best F1: tensor(55.1020, device='cuda:0')\n",
      "Saving best model...\n",
      "Done.\n",
      "---------------------\n",
      "\n",
      "===>  TRAIN Epoch 3\n"
     ]
    },
    {
     "name": "stderr",
     "output_type": "stream",
     "text": [
      "0% [█████] 100% | ETA: 00:00:00\n",
      "Total time elapsed: 00:00:13\n"
     ]
    },
    {
     "name": "stdout",
     "output_type": "stream",
     "text": [
      "Finished Epoch 3 || Run Time:   12.5 | Load Time:    2.6 || F1:  76.32 | Prec:  62.37 | Rec:  98.31 || Ex/s:  28.72\n",
      "\n",
      "===>  EVAL Epoch 3\n"
     ]
    },
    {
     "name": "stderr",
     "output_type": "stream",
     "text": [
      "0% [█] 100% | ETA: 00:00:00\n",
      "Total time elapsed: 00:00:01\n"
     ]
    },
    {
     "name": "stdout",
     "output_type": "stream",
     "text": [
      "Finished Epoch 3 || Run Time:    1.0 | Load Time:    0.5 || F1:  71.88 | Prec:  62.16 | Rec:  85.19 || Ex/s:  70.13\n",
      "\n",
      "* Best F1: tensor(71.8750, device='cuda:0')\n",
      "Saving best model...\n",
      "Done.\n",
      "---------------------\n",
      "\n",
      "===>  TRAIN Epoch 4\n"
     ]
    },
    {
     "name": "stderr",
     "output_type": "stream",
     "text": [
      "0% [█████] 100% | ETA: 00:00:00\n",
      "Total time elapsed: 00:00:13\n"
     ]
    },
    {
     "name": "stdout",
     "output_type": "stream",
     "text": [
      "Finished Epoch 4 || Run Time:   12.4 | Load Time:    2.6 || F1:  92.19 | Prec:  85.51 | Rec: 100.00 || Ex/s:  29.03\n",
      "\n",
      "===>  EVAL Epoch 4\n"
     ]
    },
    {
     "name": "stderr",
     "output_type": "stream",
     "text": [
      "0% [█] 100% | ETA: 00:00:00\n",
      "Total time elapsed: 00:00:01\n"
     ]
    },
    {
     "name": "stdout",
     "output_type": "stream",
     "text": [
      "Finished Epoch 4 || Run Time:    1.0 | Load Time:    0.5 || F1:  79.31 | Prec:  74.19 | Rec:  85.19 || Ex/s:  70.66\n",
      "\n",
      "* Best F1: tensor(79.3103, device='cuda:0')\n",
      "Saving best model...\n",
      "Done.\n",
      "---------------------\n",
      "\n",
      "===>  TRAIN Epoch 5\n"
     ]
    },
    {
     "name": "stderr",
     "output_type": "stream",
     "text": [
      "0% [█████] 100% | ETA: 00:00:00\n",
      "Total time elapsed: 00:00:13\n"
     ]
    },
    {
     "name": "stdout",
     "output_type": "stream",
     "text": [
      "Finished Epoch 5 || Run Time:   12.5 | Load Time:    2.7 || F1:  99.16 | Prec:  98.33 | Rec: 100.00 || Ex/s:  28.72\n",
      "\n",
      "===>  EVAL Epoch 5\n"
     ]
    },
    {
     "name": "stderr",
     "output_type": "stream",
     "text": [
      "0% [█] 100% | ETA: 00:00:00\n",
      "Total time elapsed: 00:00:01\n"
     ]
    },
    {
     "name": "stdout",
     "output_type": "stream",
     "text": [
      "Finished Epoch 5 || Run Time:    1.0 | Load Time:    0.5 || F1:  77.14 | Prec:  62.79 | Rec: 100.00 || Ex/s:  72.08\n",
      "\n",
      "---------------------\n",
      "\n",
      "===>  TRAIN Epoch 6\n"
     ]
    },
    {
     "name": "stderr",
     "output_type": "stream",
     "text": [
      "0% [█████] 100% | ETA: 00:00:00\n",
      "Total time elapsed: 00:00:13\n"
     ]
    },
    {
     "name": "stdout",
     "output_type": "stream",
     "text": [
      "Finished Epoch 6 || Run Time:   12.4 | Load Time:    2.6 || F1:  97.93 | Prec:  95.93 | Rec: 100.00 || Ex/s:  29.10\n",
      "\n",
      "===>  EVAL Epoch 6\n"
     ]
    },
    {
     "name": "stderr",
     "output_type": "stream",
     "text": [
      "0% [█] 100% | ETA: 00:00:00\n",
      "Total time elapsed: 00:00:01\n"
     ]
    },
    {
     "name": "stdout",
     "output_type": "stream",
     "text": [
      "Finished Epoch 6 || Run Time:    1.0 | Load Time:    0.5 || F1:  80.00 | Prec:  68.42 | Rec:  96.30 || Ex/s:  71.16\n",
      "\n",
      "* Best F1: tensor(80., device='cuda:0')\n",
      "Saving best model...\n",
      "Done.\n",
      "---------------------\n",
      "\n",
      "===>  TRAIN Epoch 7\n"
     ]
    },
    {
     "name": "stderr",
     "output_type": "stream",
     "text": [
      "0% [█████] 100% | ETA: 00:00:00\n",
      "Total time elapsed: 00:00:12\n"
     ]
    },
    {
     "name": "stdout",
     "output_type": "stream",
     "text": [
      "Finished Epoch 7 || Run Time:   12.1 | Load Time:    2.5 || F1: 100.00 | Prec: 100.00 | Rec: 100.00 || Ex/s:  29.72\n",
      "\n",
      "===>  EVAL Epoch 7\n"
     ]
    },
    {
     "name": "stderr",
     "output_type": "stream",
     "text": [
      "0% [█] 100% | ETA: 00:00:00\n",
      "Total time elapsed: 00:00:01\n"
     ]
    },
    {
     "name": "stdout",
     "output_type": "stream",
     "text": [
      "Finished Epoch 7 || Run Time:    1.0 | Load Time:    0.5 || F1:  79.41 | Prec:  65.85 | Rec: 100.00 || Ex/s:  71.60\n",
      "\n",
      "---------------------\n",
      "\n",
      "===>  TRAIN Epoch 8\n"
     ]
    },
    {
     "name": "stderr",
     "output_type": "stream",
     "text": [
      "0% [█████] 100% | ETA: 00:00:00\n",
      "Total time elapsed: 00:00:13\n"
     ]
    },
    {
     "name": "stdout",
     "output_type": "stream",
     "text": [
      "Finished Epoch 8 || Run Time:   12.3 | Load Time:    2.5 || F1: 100.00 | Prec: 100.00 | Rec: 100.00 || Ex/s:  29.38\n",
      "\n",
      "===>  EVAL Epoch 8\n"
     ]
    },
    {
     "name": "stderr",
     "output_type": "stream",
     "text": [
      "0% [█] 100% | ETA: 00:00:00\n",
      "Total time elapsed: 00:00:01\n"
     ]
    },
    {
     "name": "stdout",
     "output_type": "stream",
     "text": [
      "Finished Epoch 8 || Run Time:    1.0 | Load Time:    0.5 || F1:  80.60 | Prec:  67.50 | Rec: 100.00 || Ex/s:  72.03\n",
      "\n",
      "* Best F1: tensor(80.5970, device='cuda:0')\n",
      "Saving best model...\n",
      "Done.\n",
      "---------------------\n",
      "\n",
      "===>  TRAIN Epoch 9\n"
     ]
    },
    {
     "name": "stderr",
     "output_type": "stream",
     "text": [
      "0% [█████] 100% | ETA: 00:00:00\n",
      "Total time elapsed: 00:00:12\n"
     ]
    },
    {
     "name": "stdout",
     "output_type": "stream",
     "text": [
      "Finished Epoch 9 || Run Time:   12.2 | Load Time:    2.6 || F1: 100.00 | Prec: 100.00 | Rec: 100.00 || Ex/s:  29.53\n",
      "\n",
      "===>  EVAL Epoch 9\n"
     ]
    },
    {
     "name": "stderr",
     "output_type": "stream",
     "text": [
      "0% [█] 100% | ETA: 00:00:00\n",
      "Total time elapsed: 00:00:01\n"
     ]
    },
    {
     "name": "stdout",
     "output_type": "stream",
     "text": [
      "Finished Epoch 9 || Run Time:    1.0 | Load Time:    0.5 || F1:  81.25 | Prec:  70.27 | Rec:  96.30 || Ex/s:  71.31\n",
      "\n",
      "* Best F1: tensor(81.2500, device='cuda:0')\n",
      "Saving best model...\n",
      "Done.\n",
      "---------------------\n",
      "\n",
      "===>  TRAIN Epoch 10\n"
     ]
    },
    {
     "name": "stderr",
     "output_type": "stream",
     "text": [
      "0% [█████] 100% | ETA: 00:00:00\n",
      "Total time elapsed: 00:00:13\n"
     ]
    },
    {
     "name": "stdout",
     "output_type": "stream",
     "text": [
      "Finished Epoch 10 || Run Time:   12.4 | Load Time:    2.6 || F1: 100.00 | Prec: 100.00 | Rec: 100.00 || Ex/s:  29.23\n",
      "\n",
      "===>  EVAL Epoch 10\n"
     ]
    },
    {
     "name": "stderr",
     "output_type": "stream",
     "text": [
      "0% [█] 100% | ETA: 00:00:00\n",
      "Total time elapsed: 00:00:01\n"
     ]
    },
    {
     "name": "stdout",
     "output_type": "stream",
     "text": [
      "Finished Epoch 10 || Run Time:    1.0 | Load Time:    0.5 || F1:  81.25 | Prec:  70.27 | Rec:  96.30 || Ex/s:  72.24\n",
      "\n",
      "---------------------\n",
      "\n",
      "===>  TRAIN Epoch 11\n"
     ]
    },
    {
     "name": "stderr",
     "output_type": "stream",
     "text": [
      "0% [█████] 100% | ETA: 00:00:00\n",
      "Total time elapsed: 00:00:12\n"
     ]
    },
    {
     "name": "stdout",
     "output_type": "stream",
     "text": [
      "Finished Epoch 11 || Run Time:   12.3 | Load Time:    2.5 || F1: 100.00 | Prec: 100.00 | Rec: 100.00 || Ex/s:  29.48\n",
      "\n",
      "===>  EVAL Epoch 11\n"
     ]
    },
    {
     "name": "stderr",
     "output_type": "stream",
     "text": [
      "0% [█] 100% | ETA: 00:00:00\n",
      "Total time elapsed: 00:00:01\n"
     ]
    },
    {
     "name": "stdout",
     "output_type": "stream",
     "text": [
      "Finished Epoch 11 || Run Time:    1.0 | Load Time:    0.5 || F1:  81.25 | Prec:  70.27 | Rec:  96.30 || Ex/s:  72.29\n",
      "\n",
      "---------------------\n",
      "\n",
      "===>  TRAIN Epoch 12\n"
     ]
    },
    {
     "name": "stderr",
     "output_type": "stream",
     "text": [
      "0% [█████] 100% | ETA: 00:00:00\n",
      "Total time elapsed: 00:00:12\n"
     ]
    },
    {
     "name": "stdout",
     "output_type": "stream",
     "text": [
      "Finished Epoch 12 || Run Time:   12.2 | Load Time:    2.5 || F1: 100.00 | Prec: 100.00 | Rec: 100.00 || Ex/s:  29.60\n",
      "\n",
      "===>  EVAL Epoch 12\n"
     ]
    },
    {
     "name": "stderr",
     "output_type": "stream",
     "text": [
      "0% [█] 100% | ETA: 00:00:00\n",
      "Total time elapsed: 00:00:01\n"
     ]
    },
    {
     "name": "stdout",
     "output_type": "stream",
     "text": [
      "Finished Epoch 12 || Run Time:    1.0 | Load Time:    0.5 || F1:  81.25 | Prec:  70.27 | Rec:  96.30 || Ex/s:  72.14\n",
      "\n",
      "---------------------\n",
      "\n",
      "===>  TRAIN Epoch 13\n"
     ]
    },
    {
     "name": "stderr",
     "output_type": "stream",
     "text": [
      "0% [█████] 100% | ETA: 00:00:00\n",
      "Total time elapsed: 00:00:13\n"
     ]
    },
    {
     "name": "stdout",
     "output_type": "stream",
     "text": [
      "Finished Epoch 13 || Run Time:   12.4 | Load Time:    2.6 || F1: 100.00 | Prec: 100.00 | Rec: 100.00 || Ex/s:  29.01\n",
      "\n",
      "===>  EVAL Epoch 13\n"
     ]
    },
    {
     "name": "stderr",
     "output_type": "stream",
     "text": [
      "0% [█] 100% | ETA: 00:00:00\n",
      "Total time elapsed: 00:00:01\n"
     ]
    },
    {
     "name": "stdout",
     "output_type": "stream",
     "text": [
      "Finished Epoch 13 || Run Time:    1.0 | Load Time:    0.5 || F1:  81.25 | Prec:  70.27 | Rec:  96.30 || Ex/s:  72.32\n",
      "\n",
      "---------------------\n",
      "\n",
      "===>  TRAIN Epoch 14\n"
     ]
    },
    {
     "name": "stderr",
     "output_type": "stream",
     "text": [
      "0% [█████] 100% | ETA: 00:00:00\n",
      "Total time elapsed: 00:00:12\n"
     ]
    },
    {
     "name": "stdout",
     "output_type": "stream",
     "text": [
      "Finished Epoch 14 || Run Time:   12.2 | Load Time:    2.5 || F1: 100.00 | Prec: 100.00 | Rec: 100.00 || Ex/s:  29.52\n",
      "\n",
      "===>  EVAL Epoch 14\n"
     ]
    },
    {
     "name": "stderr",
     "output_type": "stream",
     "text": [
      "0% [█] 100% | ETA: 00:00:00\n",
      "Total time elapsed: 00:00:01\n"
     ]
    },
    {
     "name": "stdout",
     "output_type": "stream",
     "text": [
      "Finished Epoch 14 || Run Time:    1.0 | Load Time:    0.5 || F1:  78.79 | Prec:  66.67 | Rec:  96.30 || Ex/s:  71.26\n",
      "\n",
      "---------------------\n",
      "\n",
      "===>  TRAIN Epoch 15\n"
     ]
    },
    {
     "name": "stderr",
     "output_type": "stream",
     "text": [
      "0% [█████] 100% | ETA: 00:00:00\n",
      "Total time elapsed: 00:00:13\n"
     ]
    },
    {
     "name": "stdout",
     "output_type": "stream",
     "text": [
      "Finished Epoch 15 || Run Time:   12.4 | Load Time:    2.6 || F1: 100.00 | Prec: 100.00 | Rec: 100.00 || Ex/s:  29.15\n",
      "\n",
      "===>  EVAL Epoch 15\n"
     ]
    },
    {
     "name": "stderr",
     "output_type": "stream",
     "text": [
      "0% [█] 100% | ETA: 00:00:00\n",
      "Total time elapsed: 00:00:01\n"
     ]
    },
    {
     "name": "stdout",
     "output_type": "stream",
     "text": [
      "Finished Epoch 15 || Run Time:    1.0 | Load Time:    0.5 || F1:  78.79 | Prec:  66.67 | Rec:  96.30 || Ex/s:  72.04\n",
      "\n",
      "---------------------\n",
      "\n",
      "===>  TRAIN Epoch 16\n"
     ]
    },
    {
     "name": "stderr",
     "output_type": "stream",
     "text": [
      "0% [█████] 100% | ETA: 00:00:00\n",
      "Total time elapsed: 00:00:12\n"
     ]
    },
    {
     "name": "stdout",
     "output_type": "stream",
     "text": [
      "Finished Epoch 16 || Run Time:   12.2 | Load Time:    2.5 || F1: 100.00 | Prec: 100.00 | Rec: 100.00 || Ex/s:  29.62\n",
      "\n",
      "===>  EVAL Epoch 16\n"
     ]
    },
    {
     "name": "stderr",
     "output_type": "stream",
     "text": [
      "0% [█] 100% | ETA: 00:00:00\n",
      "Total time elapsed: 00:00:01\n"
     ]
    },
    {
     "name": "stdout",
     "output_type": "stream",
     "text": [
      "Finished Epoch 16 || Run Time:    1.1 | Load Time:    0.5 || F1:  78.79 | Prec:  66.67 | Rec:  96.30 || Ex/s:  66.63\n",
      "\n",
      "---------------------\n",
      "\n",
      "===>  TRAIN Epoch 17\n"
     ]
    },
    {
     "name": "stderr",
     "output_type": "stream",
     "text": [
      "0% [█████] 100% | ETA: 00:00:00\n",
      "Total time elapsed: 00:00:12\n"
     ]
    },
    {
     "name": "stdout",
     "output_type": "stream",
     "text": [
      "Finished Epoch 17 || Run Time:   12.1 | Load Time:    2.5 || F1: 100.00 | Prec: 100.00 | Rec: 100.00 || Ex/s:  29.82\n",
      "\n",
      "===>  EVAL Epoch 17\n"
     ]
    },
    {
     "name": "stderr",
     "output_type": "stream",
     "text": [
      "0% [█] 100% | ETA: 00:00:00\n",
      "Total time elapsed: 00:00:01\n"
     ]
    },
    {
     "name": "stdout",
     "output_type": "stream",
     "text": [
      "Finished Epoch 17 || Run Time:    1.0 | Load Time:    0.5 || F1:  78.79 | Prec:  66.67 | Rec:  96.30 || Ex/s:  71.01\n",
      "\n",
      "---------------------\n",
      "\n",
      "===>  TRAIN Epoch 18\n"
     ]
    },
    {
     "name": "stderr",
     "output_type": "stream",
     "text": [
      "0% [█████] 100% | ETA: 00:00:00\n",
      "Total time elapsed: 00:00:12\n"
     ]
    },
    {
     "name": "stdout",
     "output_type": "stream",
     "text": [
      "Finished Epoch 18 || Run Time:   11.8 | Load Time:    2.3 || F1: 100.00 | Prec: 100.00 | Rec: 100.00 || Ex/s:  30.88\n",
      "\n",
      "===>  EVAL Epoch 18\n"
     ]
    },
    {
     "name": "stderr",
     "output_type": "stream",
     "text": [
      "0% [█] 100% | ETA: 00:00:00\n",
      "Total time elapsed: 00:00:01\n"
     ]
    },
    {
     "name": "stdout",
     "output_type": "stream",
     "text": [
      "Finished Epoch 18 || Run Time:    1.0 | Load Time:    0.5 || F1:  78.79 | Prec:  66.67 | Rec:  96.30 || Ex/s:  71.80\n",
      "\n",
      "---------------------\n",
      "\n",
      "===>  TRAIN Epoch 19\n"
     ]
    },
    {
     "name": "stderr",
     "output_type": "stream",
     "text": [
      "0% [█████] 100% | ETA: 00:00:00\n",
      "Total time elapsed: 00:00:13\n"
     ]
    },
    {
     "name": "stdout",
     "output_type": "stream",
     "text": [
      "Finished Epoch 19 || Run Time:   12.4 | Load Time:    2.5 || F1: 100.00 | Prec: 100.00 | Rec: 100.00 || Ex/s:  29.24\n",
      "\n",
      "===>  EVAL Epoch 19\n"
     ]
    },
    {
     "name": "stderr",
     "output_type": "stream",
     "text": [
      "0% [█] 100% | ETA: 00:00:00\n",
      "Total time elapsed: 00:00:01\n"
     ]
    },
    {
     "name": "stdout",
     "output_type": "stream",
     "text": [
      "Finished Epoch 19 || Run Time:    1.0 | Load Time:    0.5 || F1:  78.79 | Prec:  66.67 | Rec:  96.30 || Ex/s:  71.28\n",
      "\n",
      "---------------------\n",
      "\n",
      "===>  TRAIN Epoch 20\n"
     ]
    },
    {
     "name": "stderr",
     "output_type": "stream",
     "text": [
      "0% [█████] 100% | ETA: 00:00:00\n",
      "Total time elapsed: 00:00:13\n"
     ]
    },
    {
     "name": "stdout",
     "output_type": "stream",
     "text": [
      "Finished Epoch 20 || Run Time:   12.3 | Load Time:    2.5 || F1: 100.00 | Prec: 100.00 | Rec: 100.00 || Ex/s:  29.36\n",
      "\n",
      "===>  EVAL Epoch 20\n"
     ]
    },
    {
     "name": "stderr",
     "output_type": "stream",
     "text": [
      "0% [█] 100% | ETA: 00:00:00\n",
      "Total time elapsed: 00:00:01\n"
     ]
    },
    {
     "name": "stdout",
     "output_type": "stream",
     "text": [
      "Finished Epoch 20 || Run Time:    1.0 | Load Time:    0.5 || F1:  78.79 | Prec:  66.67 | Rec:  96.30 || Ex/s:  71.53\n",
      "\n",
      "---------------------\n",
      "\n",
      "===>  TRAIN Epoch 21\n"
     ]
    },
    {
     "name": "stderr",
     "output_type": "stream",
     "text": [
      "0% [█████] 100% | ETA: 00:00:00\n",
      "Total time elapsed: 00:00:13\n"
     ]
    },
    {
     "name": "stdout",
     "output_type": "stream",
     "text": [
      "Finished Epoch 21 || Run Time:   12.3 | Load Time:    2.5 || F1: 100.00 | Prec: 100.00 | Rec: 100.00 || Ex/s:  29.40\n",
      "\n",
      "===>  EVAL Epoch 21\n"
     ]
    },
    {
     "name": "stderr",
     "output_type": "stream",
     "text": [
      "0% [█] 100% | ETA: 00:00:00\n",
      "Total time elapsed: 00:00:01\n"
     ]
    },
    {
     "name": "stdout",
     "output_type": "stream",
     "text": [
      "Finished Epoch 21 || Run Time:    1.0 | Load Time:    0.5 || F1:  78.79 | Prec:  66.67 | Rec:  96.30 || Ex/s:  71.98\n",
      "\n",
      "---------------------\n",
      "\n",
      "===>  TRAIN Epoch 22\n"
     ]
    },
    {
     "name": "stderr",
     "output_type": "stream",
     "text": [
      "0% [█████] 100% | ETA: 00:00:00\n",
      "Total time elapsed: 00:00:12\n"
     ]
    },
    {
     "name": "stdout",
     "output_type": "stream",
     "text": [
      "Finished Epoch 22 || Run Time:   12.2 | Load Time:    2.5 || F1: 100.00 | Prec: 100.00 | Rec: 100.00 || Ex/s:  29.55\n",
      "\n",
      "===>  EVAL Epoch 22\n"
     ]
    },
    {
     "name": "stderr",
     "output_type": "stream",
     "text": [
      "0% [█] 100% | ETA: 00:00:00\n",
      "Total time elapsed: 00:00:01\n"
     ]
    },
    {
     "name": "stdout",
     "output_type": "stream",
     "text": [
      "Finished Epoch 22 || Run Time:    1.0 | Load Time:    0.5 || F1:  78.79 | Prec:  66.67 | Rec:  96.30 || Ex/s:  71.35\n",
      "\n",
      "---------------------\n",
      "\n",
      "===>  TRAIN Epoch 23\n"
     ]
    },
    {
     "name": "stderr",
     "output_type": "stream",
     "text": [
      "0% [█████] 100% | ETA: 00:00:00\n",
      "Total time elapsed: 00:00:12\n"
     ]
    },
    {
     "name": "stdout",
     "output_type": "stream",
     "text": [
      "Finished Epoch 23 || Run Time:   12.2 | Load Time:    2.5 || F1: 100.00 | Prec: 100.00 | Rec: 100.00 || Ex/s:  29.65\n",
      "\n",
      "===>  EVAL Epoch 23\n"
     ]
    },
    {
     "name": "stderr",
     "output_type": "stream",
     "text": [
      "0% [█] 100% | ETA: 00:00:00\n",
      "Total time elapsed: 00:00:01\n"
     ]
    },
    {
     "name": "stdout",
     "output_type": "stream",
     "text": [
      "Finished Epoch 23 || Run Time:    1.0 | Load Time:    0.5 || F1:  78.79 | Prec:  66.67 | Rec:  96.30 || Ex/s:  71.92\n",
      "\n",
      "---------------------\n",
      "\n",
      "===>  TRAIN Epoch 24\n"
     ]
    },
    {
     "name": "stderr",
     "output_type": "stream",
     "text": [
      "0% [█████] 100% | ETA: 00:00:00\n",
      "Total time elapsed: 00:00:13\n"
     ]
    },
    {
     "name": "stdout",
     "output_type": "stream",
     "text": [
      "Finished Epoch 24 || Run Time:   12.4 | Load Time:    2.6 || F1: 100.00 | Prec: 100.00 | Rec: 100.00 || Ex/s:  29.02\n",
      "\n",
      "===>  EVAL Epoch 24\n"
     ]
    },
    {
     "name": "stderr",
     "output_type": "stream",
     "text": [
      "0% [█] 100% | ETA: 00:00:00\n",
      "Total time elapsed: 00:00:01\n"
     ]
    },
    {
     "name": "stdout",
     "output_type": "stream",
     "text": [
      "Finished Epoch 24 || Run Time:    1.0 | Load Time:    0.5 || F1:  78.79 | Prec:  66.67 | Rec:  96.30 || Ex/s:  71.46\n",
      "\n",
      "---------------------\n",
      "\n",
      "===>  TRAIN Epoch 25\n"
     ]
    },
    {
     "name": "stderr",
     "output_type": "stream",
     "text": [
      "0% [█████] 100% | ETA: 00:00:00\n",
      "Total time elapsed: 00:00:12\n"
     ]
    },
    {
     "name": "stdout",
     "output_type": "stream",
     "text": [
      "Finished Epoch 25 || Run Time:   12.2 | Load Time:    2.5 || F1: 100.00 | Prec: 100.00 | Rec: 100.00 || Ex/s:  29.62\n",
      "\n",
      "===>  EVAL Epoch 25\n"
     ]
    },
    {
     "name": "stderr",
     "output_type": "stream",
     "text": [
      "0% [█] 100% | ETA: 00:00:00\n",
      "Total time elapsed: 00:00:01\n"
     ]
    },
    {
     "name": "stdout",
     "output_type": "stream",
     "text": [
      "Finished Epoch 25 || Run Time:    1.0 | Load Time:    0.5 || F1:  78.79 | Prec:  66.67 | Rec:  96.30 || Ex/s:  71.28\n",
      "\n",
      "---------------------\n",
      "\n",
      "Loading best model...\n",
      "Training done.\n"
     ]
    },
    {
     "data": {
      "text/plain": [
       "tensor(81.2500, device='cuda:0')"
      ]
     },
     "execution_count": 141,
     "metadata": {},
     "output_type": "execute_result"
    }
   ],
   "source": [
    "retrained2 = dm.MatchingModel(attr_summarizer='hybrid')\n",
    "retrained2.run_train(train,validation,pos_neg_ratio=4,\n",
    "                      batch_size=16,epochs=25,best_save_path='itunesamazon_impr2.pth')"
   ]
  },
  {
   "cell_type": "code",
   "execution_count": 142,
   "metadata": {
    "ExecuteTime": {
     "end_time": "2020-02-09T19:20:57.302414Z",
     "start_time": "2020-02-09T19:20:56.078119Z"
    }
   },
   "outputs": [
    {
     "name": "stdout",
     "output_type": "stream",
     "text": [
      "===>  EVAL Epoch 9\n",
      "Finished Epoch 9 || Run Time:    0.6 | Load Time:    0.6 || F1:  85.71 | Prec:  82.76 | Rec:  88.89 || Ex/s:  94.43\n",
      "\n"
     ]
    },
    {
     "data": {
      "text/plain": [
       "tensor(85.7143, device='cuda:0')"
      ]
     },
     "execution_count": 142,
     "metadata": {},
     "output_type": "execute_result"
    }
   ],
   "source": [
    "retrained2.run_eval(test)"
   ]
  },
  {
   "cell_type": "markdown",
   "metadata": {},
   "source": [
    "### Evaluate second retrain"
   ]
  },
  {
   "cell_type": "code",
   "execution_count": 41,
   "metadata": {
    "ExecuteTime": {
     "end_time": "2020-03-09T16:37:20.835869Z",
     "start_time": "2020-03-09T16:37:19.910810Z"
    }
   },
   "outputs": [],
   "source": [
    "retrained2 = dm.MatchingModel(attr_summarizer='hybrid')\n",
    "retrained2.load_state('models/itunesamazon_impr2.pth')\n",
    "retrained2 = retrained2.to('cuda')"
   ]
  },
  {
   "cell_type": "code",
   "execution_count": 42,
   "metadata": {
    "ExecuteTime": {
     "end_time": "2020-03-09T16:37:52.147007Z",
     "start_time": "2020-03-09T16:37:52.112783Z"
    }
   },
   "outputs": [],
   "source": [
    "explainer_retrained2 = Explainer(retrained2,[])"
   ]
  },
  {
   "cell_type": "code",
   "execution_count": 43,
   "metadata": {
    "ExecuteTime": {
     "end_time": "2020-03-09T16:40:39.948783Z",
     "start_time": "2020-03-09T16:39:03.530586Z"
    }
   },
   "outputs": [
    {
     "name": "stderr",
     "output_type": "stream",
     "text": [
      "\n",
      "\n",
      "  0%|          | 0/79 [00:00<?, ?it/s]\u001b[A\u001b[A\n",
      "\n",
      "  1%|▏         | 1/79 [00:01<01:28,  1.13s/it]\u001b[A\u001b[A\n",
      "\n",
      "  3%|▎         | 2/79 [00:02<01:26,  1.13s/it]\u001b[A\u001b[A\n",
      "\n",
      "  4%|▍         | 3/79 [00:03<01:25,  1.13s/it]\u001b[A\u001b[A\n",
      "\n",
      "  5%|▌         | 4/79 [00:04<01:25,  1.15s/it]\u001b[A\u001b[A\n",
      "\n",
      "  6%|▋         | 5/79 [00:05<01:24,  1.14s/it]\u001b[A\u001b[A\n",
      "\n",
      "  8%|▊         | 6/79 [00:06<01:23,  1.14s/it]\u001b[A\u001b[A\n",
      "\n",
      "  9%|▉         | 7/79 [00:07<01:22,  1.14s/it]\u001b[A\u001b[A\n",
      "\n",
      " 10%|█         | 8/79 [00:09<01:21,  1.15s/it]\u001b[A\u001b[A\n",
      "\n",
      " 11%|█▏        | 9/79 [00:10<01:20,  1.15s/it]\u001b[A\u001b[A\n",
      "\n",
      " 13%|█▎        | 10/79 [00:11<01:19,  1.16s/it]\u001b[A\u001b[A\n",
      "\n",
      " 14%|█▍        | 11/79 [00:12<01:18,  1.15s/it]\u001b[A\u001b[A\n",
      "\n",
      " 15%|█▌        | 12/79 [00:13<01:17,  1.16s/it]\u001b[A\u001b[A\n",
      "\n",
      " 16%|█▋        | 13/79 [00:14<01:16,  1.16s/it]\u001b[A\u001b[A\n",
      "\n",
      " 18%|█▊        | 14/79 [00:16<01:15,  1.16s/it]\u001b[A\u001b[A\n",
      "\n",
      " 19%|█▉        | 15/79 [00:17<01:14,  1.16s/it]\u001b[A\u001b[A\n",
      "\n",
      " 20%|██        | 16/79 [00:18<01:14,  1.18s/it]\u001b[A\u001b[A\n",
      "\n",
      " 22%|██▏       | 17/79 [00:19<01:12,  1.18s/it]\u001b[A\u001b[A\n",
      "\n",
      " 23%|██▎       | 18/79 [00:20<01:11,  1.17s/it]\u001b[A\u001b[A\n",
      "\n",
      " 24%|██▍       | 19/79 [00:22<01:10,  1.18s/it]\u001b[A\u001b[A\n",
      "\n",
      " 25%|██▌       | 20/79 [00:23<01:09,  1.17s/it]\u001b[A\u001b[A\n",
      "\n",
      " 27%|██▋       | 21/79 [00:24<01:08,  1.19s/it]\u001b[A\u001b[A\n",
      "\n",
      " 28%|██▊       | 22/79 [00:25<01:07,  1.18s/it]\u001b[A\u001b[A\n",
      "\n",
      " 29%|██▉       | 23/79 [00:26<01:05,  1.17s/it]\u001b[A\u001b[A\n",
      "\n",
      " 30%|███       | 24/79 [00:27<01:04,  1.17s/it]\u001b[A\u001b[A\n",
      "\n",
      " 32%|███▏      | 25/79 [00:29<01:03,  1.17s/it]\u001b[A\u001b[A\n",
      "\n",
      " 33%|███▎      | 26/79 [00:30<01:02,  1.17s/it]\u001b[A\u001b[A\n",
      "\n",
      " 34%|███▍      | 27/79 [00:31<01:02,  1.19s/it]\u001b[A\u001b[A\n",
      "\n",
      " 35%|███▌      | 28/79 [00:32<01:00,  1.18s/it]\u001b[A\u001b[A\n",
      "\n",
      " 37%|███▋      | 29/79 [00:33<00:59,  1.18s/it]\u001b[A\u001b[A\n",
      "\n",
      " 38%|███▊      | 30/79 [00:35<00:57,  1.18s/it]\u001b[A\u001b[A\n",
      "\n",
      " 39%|███▉      | 31/79 [00:36<00:56,  1.18s/it]\u001b[A\u001b[A\n",
      "\n",
      " 41%|████      | 32/79 [00:37<00:56,  1.20s/it]\u001b[A\u001b[A\n",
      "\n",
      " 42%|████▏     | 33/79 [00:38<00:54,  1.19s/it]\u001b[A\u001b[A\n",
      "\n",
      " 43%|████▎     | 34/79 [00:39<00:53,  1.19s/it]\u001b[A\u001b[A\n",
      "\n",
      " 44%|████▍     | 35/79 [00:40<00:52,  1.18s/it]\u001b[A\u001b[A\n",
      "\n",
      " 46%|████▌     | 36/79 [00:42<00:50,  1.18s/it]\u001b[A\u001b[A\n",
      "\n",
      " 47%|████▋     | 37/79 [00:43<00:49,  1.18s/it]\u001b[A\u001b[A\n",
      "\n",
      " 48%|████▊     | 38/79 [00:44<00:49,  1.20s/it]\u001b[A\u001b[A\n",
      "\n",
      " 49%|████▉     | 39/79 [00:45<00:47,  1.19s/it]\u001b[A\u001b[A\n",
      "\n",
      " 51%|█████     | 40/79 [00:46<00:46,  1.19s/it]\u001b[A\u001b[A\n",
      "\n",
      " 52%|█████▏    | 41/79 [00:48<00:44,  1.18s/it]\u001b[A\u001b[A\n",
      "\n",
      " 53%|█████▎    | 42/79 [00:49<00:43,  1.18s/it]\u001b[A\u001b[A\n",
      "\n",
      " 54%|█████▍    | 43/79 [00:50<00:42,  1.18s/it]\u001b[A\u001b[A\n",
      "\n",
      " 56%|█████▌    | 44/79 [00:51<00:41,  1.20s/it]\u001b[A\u001b[A\n",
      "\n",
      " 57%|█████▋    | 45/79 [00:52<00:40,  1.19s/it]\u001b[A\u001b[A\n",
      "\n",
      " 58%|█████▊    | 46/79 [00:54<00:38,  1.18s/it]\u001b[A\u001b[A\n",
      "\n",
      " 59%|█████▉    | 47/79 [00:55<00:37,  1.18s/it]\u001b[A\u001b[A\n",
      "\n",
      " 61%|██████    | 48/79 [00:56<00:36,  1.18s/it]\u001b[A\u001b[A\n",
      "\n",
      " 62%|██████▏   | 49/79 [00:57<00:38,  1.30s/it]\u001b[A\u001b[A\n",
      "\n",
      " 63%|██████▎   | 50/79 [00:59<00:37,  1.29s/it]\u001b[A\u001b[A\n",
      "\n",
      " 65%|██████▍   | 51/79 [01:00<00:35,  1.26s/it]\u001b[A\u001b[A\n",
      "\n",
      " 66%|██████▌   | 52/79 [01:01<00:33,  1.25s/it]\u001b[A\u001b[A\n",
      "\n",
      " 67%|██████▋   | 53/79 [01:02<00:31,  1.23s/it]\u001b[A\u001b[A\n",
      "\n",
      " 68%|██████▊   | 54/79 [01:03<00:30,  1.22s/it]\u001b[A\u001b[A\n",
      "\n",
      " 70%|██████▉   | 55/79 [01:05<00:29,  1.21s/it]\u001b[A\u001b[A\n",
      "\n",
      " 71%|███████   | 56/79 [01:06<00:28,  1.23s/it]\u001b[A\u001b[A\n",
      "\n",
      " 72%|███████▏  | 57/79 [01:07<00:26,  1.21s/it]\u001b[A\u001b[A\n",
      "\n",
      " 73%|███████▎  | 58/79 [01:08<00:25,  1.19s/it]\u001b[A\u001b[A\n",
      "\n",
      " 75%|███████▍  | 59/79 [01:09<00:23,  1.18s/it]\u001b[A\u001b[A\n",
      "\n",
      " 76%|███████▌  | 60/79 [01:11<00:22,  1.17s/it]\u001b[A\u001b[A\n",
      "\n",
      " 77%|███████▋  | 61/79 [01:12<00:21,  1.18s/it]\u001b[A\u001b[A\n",
      "\n",
      " 78%|███████▊  | 62/79 [01:13<00:20,  1.22s/it]\u001b[A\u001b[A\n",
      "\n",
      " 80%|███████▉  | 63/79 [01:14<00:19,  1.21s/it]\u001b[A\u001b[A\n",
      "\n",
      " 81%|████████  | 64/79 [01:15<00:18,  1.21s/it]\u001b[A\u001b[A\n",
      "\n",
      " 82%|████████▏ | 65/79 [01:17<00:16,  1.20s/it]\u001b[A\u001b[A\n",
      "\n",
      " 84%|████████▎ | 66/79 [01:18<00:15,  1.20s/it]\u001b[A\u001b[A\n",
      "\n",
      " 85%|████████▍ | 67/79 [01:19<00:14,  1.21s/it]\u001b[A\u001b[A\n",
      "\n",
      " 86%|████████▌ | 68/79 [01:20<00:13,  1.21s/it]\u001b[A\u001b[A\n",
      "\n",
      " 87%|████████▋ | 69/79 [01:21<00:11,  1.19s/it]\u001b[A\u001b[A\n",
      "\n",
      " 89%|████████▊ | 70/79 [01:23<00:10,  1.19s/it]\u001b[A\u001b[A\n",
      "\n",
      " 90%|████████▉ | 71/79 [01:24<00:09,  1.19s/it]\u001b[A\u001b[A\n",
      "\n",
      " 91%|█████████ | 72/79 [01:25<00:08,  1.18s/it]\u001b[A\u001b[A\n",
      "\n",
      " 92%|█████████▏| 73/79 [01:26<00:07,  1.19s/it]\u001b[A\u001b[A\n",
      "\n",
      " 94%|█████████▎| 74/79 [01:27<00:05,  1.18s/it]\u001b[A\u001b[A\n",
      "\n",
      " 95%|█████████▍| 75/79 [01:29<00:04,  1.18s/it]\u001b[A\u001b[A\n",
      "\n",
      " 96%|█████████▌| 76/79 [01:30<00:03,  1.17s/it]\u001b[A\u001b[A\n",
      "\n",
      " 97%|█████████▋| 77/79 [01:31<00:02,  1.16s/it]\u001b[A\u001b[A\n",
      "\n",
      " 99%|█████████▊| 78/79 [01:32<00:01,  1.17s/it]\u001b[A\u001b[A\n",
      "\n",
      "100%|██████████| 79/79 [01:33<00:00,  1.19s/it]\u001b[A\u001b[A\n"
     ]
    }
   ],
   "source": [
    "neg_rankings_itunes2,flippedPredictions_neg2 = explainer_retrained2.getRankingsBlackBox(DATASET_DIR,'augmented_test.csv',\n",
    "                                                                                       0,1,augment_test=True)"
   ]
  },
  {
   "cell_type": "code",
   "execution_count": 44,
   "metadata": {
    "ExecuteTime": {
     "end_time": "2020-03-09T16:43:28.953736Z",
     "start_time": "2020-03-09T16:41:53.329602Z"
    }
   },
   "outputs": [
    {
     "name": "stderr",
     "output_type": "stream",
     "text": [
      "\n",
      "\n",
      "  0%|          | 0/79 [00:00<?, ?it/s]\u001b[A\u001b[A\n",
      "\n",
      "  1%|▏         | 1/79 [00:01<01:29,  1.15s/it]\u001b[A\u001b[A\n",
      "\n",
      "  3%|▎         | 2/79 [00:02<01:28,  1.15s/it]\u001b[A\u001b[A\n",
      "\n",
      "  4%|▍         | 3/79 [00:03<01:27,  1.15s/it]\u001b[A\u001b[A\n",
      "\n",
      "  5%|▌         | 4/79 [00:04<01:27,  1.17s/it]\u001b[A\u001b[A\n",
      "\n",
      "  6%|▋         | 5/79 [00:05<01:26,  1.17s/it]\u001b[A\u001b[A\n",
      "\n",
      "  8%|▊         | 6/79 [00:06<01:24,  1.16s/it]\u001b[A\u001b[A\n",
      "\n",
      "  9%|▉         | 7/79 [00:08<01:23,  1.16s/it]\u001b[A\u001b[A\n",
      "\n",
      " 10%|█         | 8/79 [00:09<01:22,  1.16s/it]\u001b[A\u001b[A\n",
      "\n",
      " 11%|█▏        | 9/79 [00:10<01:21,  1.16s/it]\u001b[A\u001b[A\n",
      "\n",
      " 13%|█▎        | 10/79 [00:11<01:21,  1.18s/it]\u001b[A\u001b[A\n",
      "\n",
      " 14%|█▍        | 11/79 [00:12<01:19,  1.17s/it]\u001b[A\u001b[A\n",
      "\n",
      " 15%|█▌        | 12/79 [00:13<01:17,  1.16s/it]\u001b[A\u001b[A\n",
      "\n",
      " 16%|█▋        | 13/79 [00:15<01:16,  1.16s/it]\u001b[A\u001b[A\n",
      "\n",
      " 18%|█▊        | 14/79 [00:16<01:15,  1.16s/it]\u001b[A\u001b[A\n",
      "\n",
      " 19%|█▉        | 15/79 [00:17<01:14,  1.16s/it]\u001b[A\u001b[A\n",
      "\n",
      " 20%|██        | 16/79 [00:18<01:13,  1.17s/it]\u001b[A\u001b[A\n",
      "\n",
      " 22%|██▏       | 17/79 [00:19<01:12,  1.17s/it]\u001b[A\u001b[A\n",
      "\n",
      " 23%|██▎       | 18/79 [00:20<01:11,  1.18s/it]\u001b[A\u001b[A\n",
      "\n",
      " 24%|██▍       | 19/79 [00:22<01:10,  1.18s/it]\u001b[A\u001b[A\n",
      "\n",
      " 25%|██▌       | 20/79 [00:23<01:09,  1.18s/it]\u001b[A\u001b[A\n",
      "\n",
      " 27%|██▋       | 21/79 [00:24<01:08,  1.17s/it]\u001b[A\u001b[A\n",
      "\n",
      " 28%|██▊       | 22/79 [00:25<01:07,  1.19s/it]\u001b[A\u001b[A\n",
      "\n",
      " 29%|██▉       | 23/79 [00:26<01:06,  1.18s/it]\u001b[A\u001b[A\n",
      "\n",
      " 30%|███       | 24/79 [00:28<01:04,  1.18s/it]\u001b[A\u001b[A\n",
      "\n",
      " 32%|███▏      | 25/79 [00:29<01:03,  1.18s/it]\u001b[A\u001b[A\n",
      "\n",
      " 33%|███▎      | 26/79 [00:30<01:02,  1.17s/it]\u001b[A\u001b[A\n",
      "\n",
      " 34%|███▍      | 27/79 [00:31<01:02,  1.20s/it]\u001b[A\u001b[A\n",
      "\n",
      " 35%|███▌      | 28/79 [00:32<01:00,  1.18s/it]\u001b[A\u001b[A\n",
      "\n",
      " 37%|███▋      | 29/79 [00:33<00:58,  1.17s/it]\u001b[A\u001b[A\n",
      "\n",
      " 38%|███▊      | 30/79 [00:35<00:57,  1.16s/it]\u001b[A\u001b[A\n",
      "\n",
      " 39%|███▉      | 31/79 [00:36<00:55,  1.16s/it]\u001b[A\u001b[A\n",
      "\n",
      " 41%|████      | 32/79 [00:37<00:54,  1.16s/it]\u001b[A\u001b[A\n",
      "\n",
      " 42%|████▏     | 33/79 [00:38<00:54,  1.18s/it]\u001b[A\u001b[A\n",
      "\n",
      " 43%|████▎     | 34/79 [00:39<00:53,  1.18s/it]\u001b[A\u001b[A\n",
      "\n",
      " 44%|████▍     | 35/79 [00:41<00:51,  1.18s/it]\u001b[A\u001b[A\n",
      "\n",
      " 46%|████▌     | 36/79 [00:42<00:50,  1.18s/it]\u001b[A\u001b[A\n",
      "\n",
      " 47%|████▋     | 37/79 [00:43<00:49,  1.18s/it]\u001b[A\u001b[A\n",
      "\n",
      " 48%|████▊     | 38/79 [00:44<00:48,  1.18s/it]\u001b[A\u001b[A\n",
      "\n",
      " 49%|████▉     | 39/79 [00:45<00:47,  1.20s/it]\u001b[A\u001b[A\n",
      "\n",
      " 51%|█████     | 40/79 [00:46<00:46,  1.19s/it]\u001b[A\u001b[A\n",
      "\n",
      " 52%|█████▏    | 41/79 [00:48<00:45,  1.18s/it]\u001b[A\u001b[A\n",
      "\n",
      " 53%|█████▎    | 42/79 [00:49<00:43,  1.18s/it]\u001b[A\u001b[A\n",
      "\n",
      " 54%|█████▍    | 43/79 [00:50<00:42,  1.18s/it]\u001b[A\u001b[A\n",
      "\n",
      " 56%|█████▌    | 44/79 [00:51<00:41,  1.17s/it]\u001b[A\u001b[A\n",
      "\n",
      " 57%|█████▋    | 45/79 [00:52<00:40,  1.19s/it]\u001b[A\u001b[A\n",
      "\n",
      " 58%|█████▊    | 46/79 [00:54<00:38,  1.18s/it]\u001b[A\u001b[A\n",
      "\n",
      " 59%|█████▉    | 47/79 [00:55<00:37,  1.18s/it]\u001b[A\u001b[A\n",
      "\n",
      " 61%|██████    | 48/79 [00:56<00:36,  1.18s/it]\u001b[A\u001b[A\n",
      "\n",
      " 62%|██████▏   | 49/79 [00:57<00:35,  1.18s/it]\u001b[A\u001b[A\n",
      "\n",
      " 63%|██████▎   | 50/79 [00:58<00:34,  1.19s/it]\u001b[A\u001b[A\n",
      "\n",
      " 65%|██████▍   | 51/79 [00:59<00:33,  1.19s/it]\u001b[A\u001b[A\n",
      "\n",
      " 66%|██████▌   | 52/79 [01:01<00:32,  1.19s/it]\u001b[A\u001b[A\n",
      "\n",
      " 67%|██████▋   | 53/79 [01:02<00:30,  1.19s/it]\u001b[A\u001b[A\n",
      "\n",
      " 68%|██████▊   | 54/79 [01:03<00:29,  1.19s/it]\u001b[A\u001b[A\n",
      "\n",
      " 70%|██████▉   | 55/79 [01:04<00:28,  1.19s/it]\u001b[A\u001b[A\n",
      "\n",
      " 71%|███████   | 56/79 [01:05<00:27,  1.20s/it]\u001b[A\u001b[A\n",
      "\n",
      " 72%|███████▏  | 57/79 [01:07<00:26,  1.20s/it]\u001b[A\u001b[A\n",
      "\n",
      " 73%|███████▎  | 58/79 [01:08<00:24,  1.18s/it]\u001b[A\u001b[A\n",
      "\n",
      " 75%|███████▍  | 59/79 [01:09<00:23,  1.17s/it]\u001b[A\u001b[A\n",
      "\n",
      " 76%|███████▌  | 60/79 [01:10<00:22,  1.17s/it]\u001b[A\u001b[A\n",
      "\n",
      " 77%|███████▋  | 61/79 [01:11<00:21,  1.17s/it]\u001b[A\u001b[A\n",
      "\n",
      " 78%|███████▊  | 62/79 [01:12<00:20,  1.18s/it]\u001b[A\u001b[A\n",
      "\n",
      " 80%|███████▉  | 63/79 [01:14<00:18,  1.18s/it]\u001b[A\u001b[A\n",
      "\n",
      " 81%|████████  | 64/79 [01:15<00:17,  1.17s/it]\u001b[A\u001b[A\n",
      "\n",
      " 82%|████████▏ | 65/79 [01:16<00:16,  1.17s/it]\u001b[A\u001b[A\n",
      "\n",
      " 84%|████████▎ | 66/79 [01:17<00:15,  1.17s/it]\u001b[A\u001b[A\n",
      "\n",
      " 85%|████████▍ | 67/79 [01:18<00:14,  1.17s/it]\u001b[A\u001b[A\n",
      "\n",
      " 86%|████████▌ | 68/79 [01:20<00:13,  1.19s/it]\u001b[A\u001b[A\n",
      "\n",
      " 87%|████████▋ | 69/79 [01:21<00:11,  1.18s/it]\u001b[A\u001b[A\n",
      "\n",
      " 89%|████████▊ | 70/79 [01:22<00:10,  1.18s/it]\u001b[A\u001b[A\n",
      "\n",
      " 90%|████████▉ | 71/79 [01:23<00:09,  1.17s/it]\u001b[A\u001b[A\n",
      "\n",
      " 91%|█████████ | 72/79 [01:24<00:08,  1.17s/it]\u001b[A\u001b[A\n",
      "\n",
      " 92%|█████████▏| 73/79 [01:25<00:07,  1.18s/it]\u001b[A\u001b[A\n",
      "\n",
      " 94%|█████████▎| 74/79 [01:27<00:05,  1.18s/it]\u001b[A\u001b[A\n",
      "\n",
      " 95%|█████████▍| 75/79 [01:28<00:04,  1.17s/it]\u001b[A\u001b[A\n",
      "\n",
      " 96%|█████████▌| 76/79 [01:29<00:03,  1.16s/it]\u001b[A\u001b[A\n",
      "\n",
      " 97%|█████████▋| 77/79 [01:30<00:02,  1.16s/it]\u001b[A\u001b[A\n",
      "\n",
      " 99%|█████████▊| 78/79 [01:31<00:01,  1.16s/it]\u001b[A\u001b[A\n",
      "\n",
      "100%|██████████| 79/79 [01:32<00:00,  1.18s/it]\u001b[A\u001b[A\n"
     ]
    }
   ],
   "source": [
    "pos_rankings_itunes2,flipped_pos2 = explainer_retrained2.getRankingsBlackBox(DATASET_DIR,'augmented_test.csv',\n",
    "                                                                            1,1,augment_test=True)"
   ]
  },
  {
   "cell_type": "code",
   "execution_count": 45,
   "metadata": {
    "ExecuteTime": {
     "end_time": "2020-03-09T16:43:40.040629Z",
     "start_time": "2020-03-09T16:43:39.819451Z"
    }
   },
   "outputs": [
    {
     "data": {
      "image/png": "[encoded data removed]",
      "text/plain": [
       "<Figure size 216x216 with 1 Axes>"
      ]
     },
     "metadata": {
      "needs_background": "light"
     },
     "output_type": "display_data"
    }
   ],
   "source": [
    "ax,posRank2 = aggregateRankings(pos_rankings_itunes2,positive=True,maxLenAttributes=1,lenTriangles=79)"
   ]
  },
  {
   "cell_type": "code",
   "execution_count": 46,
   "metadata": {
    "ExecuteTime": {
     "end_time": "2020-03-09T16:43:48.739652Z",
     "start_time": "2020-03-09T16:43:48.417671Z"
    },
    "scrolled": true
   },
   "outputs": [
    {
     "data": {
      "image/png": "[encoded data removed]",
      "text/plain": [
       "<Figure size 432x432 with 1 Axes>"
      ]
     },
     "metadata": {
      "needs_background": "light"
     },
     "output_type": "display_data"
    }
   ],
   "source": [
    "ax,negRank2 = aggregateRankings(neg_rankings_itunes2,positive=False,maxLenAttributes=1,lenTriangles=79)"
   ]
  },
  {
   "cell_type": "code",
   "execution_count": 48,
   "metadata": {
    "ExecuteTime": {
     "end_time": "2020-03-09T16:44:15.535143Z",
     "start_time": "2020-03-09T16:44:15.500550Z"
    }
   },
   "outputs": [],
   "source": [
    "def fillRankings(rank_s,attributes):\n",
    "    s3 = {}\n",
    "    for att in attributes:\n",
    "        if (att,) not in rank_s.index:\n",
    "            s3[att] = 0\n",
    "        else:\n",
    "            s3[att] = rank_s[(att,)]\n",
    "    return pd.Series(s3)"
   ]
  },
  {
   "cell_type": "code",
   "execution_count": 49,
   "metadata": {
    "ExecuteTime": {
     "end_time": "2020-03-09T16:44:16.121633Z",
     "start_time": "2020-03-09T16:44:16.090675Z"
    }
   },
   "outputs": [],
   "source": [
    "attributes = attributes = ['Song_Name','Artist_Name','Album_Name','Genre','Price','CopyRight','Time','Released']"
   ]
  },
  {
   "cell_type": "code",
   "execution_count": 55,
   "metadata": {
    "ExecuteTime": {
     "end_time": "2020-03-09T16:45:11.303764Z",
     "start_time": "2020-03-09T16:45:10.909044Z"
    }
   },
   "outputs": [
    {
     "data": {
      "image/png": "[encoded data removed]",
      "text/plain": [
       "<Figure size 432x288 with 1 Axes>"
      ]
     },
     "metadata": {
      "needs_background": "light"
     },
     "output_type": "display_data"
    }
   ],
   "source": [
    "pr0 = fillRankings(pd.Series(posRank0),attributes)\n",
    "pr1 = fillRankings(pd.Series(posRank1),attributes)\n",
    "pr2 = fillRankings(pd.Series(posRank2),attributes)\n",
    "pos_df = pd.DataFrame({'standardModel': pr0.values,\n",
    "                   'Retrained1': pr1.values,'Retrained2':pr2.values}, index=attributes)\n",
    "pos_comparison = pos_df.plot.bar(rot=45)"
   ]
  },
  {
   "cell_type": "code",
   "execution_count": 56,
   "metadata": {
    "ExecuteTime": {
     "end_time": "2020-03-09T16:45:16.368484Z",
     "start_time": "2020-03-09T16:45:15.975860Z"
    }
   },
   "outputs": [
    {
     "data": {
      "image/png": "[encoded data removed]",
      "text/plain": [
       "<Figure size 432x288 with 1 Axes>"
      ]
     },
     "metadata": {
      "needs_background": "light"
     },
     "output_type": "display_data"
    }
   ],
   "source": [
    "nr0 = fillRankings(pd.Series(negRank0),attributes)\n",
    "nr1 = fillRankings(pd.Series(negRank1),attributes)\n",
    "nr2 = fillRankings(pd.Series(negRank2),attributes)\n",
    "neg_df = pd.DataFrame({'standardModel': nr0.values,\n",
    "                   'Retrained1': nr1.values,'Retrained2':nr2.values}, index=attributes)\n",
    "neg_comparison = neg_df.plot.bar(rot=45)"
   ]
  },
  {
   "cell_type": "code",
   "execution_count": 59,
   "metadata": {
    "ExecuteTime": {
     "end_time": "2020-03-09T16:47:11.315314Z",
     "start_time": "2020-03-09T16:47:11.051251Z"
    }
   },
   "outputs": [],
   "source": [
    "pos_fig = pos_comparison.get_figure()\n",
    "pos_fig.savefig(fname='pos_comparison.pdf',bbox_inches='tight')"
   ]
  },
  {
   "cell_type": "code",
   "execution_count": 60,
   "metadata": {
    "ExecuteTime": {
     "end_time": "2020-03-09T16:48:05.412299Z",
     "start_time": "2020-03-09T16:48:05.156447Z"
    }
   },
   "outputs": [],
   "source": [
    "neg_fig = neg_comparison.get_figure()\n",
    "neg_fig.savefig(fname='neg_comparison.pdf',bbox_inches='tight')"
   ]
  },
  {
   "cell_type": "code",
   "execution_count": 42,
   "metadata": {
    "ExecuteTime": {
     "end_time": "2020-02-11T09:57:51.311921Z",
     "start_time": "2020-02-11T09:57:46.775539Z"
    }
   },
   "outputs": [],
   "source": [
    "originalTest = pd.read_csv(ITUNES_DIR+'merged_test.csv')\n",
    "c0,cv0 = getMeanConfidenceAndVariance(itunes_model,originalTest)\n",
    "c1,cv1 = getMeanConfidenceAndVariance(retrained1,originalTest)\n",
    "c2,cv2 = getMeanConfidenceAndVariance(retrained2,originalTest)"
   ]
  },
  {
   "cell_type": "code",
   "execution_count": 43,
   "metadata": {
    "ExecuteTime": {
     "end_time": "2020-02-11T09:57:58.116076Z",
     "start_time": "2020-02-11T09:57:58.068371Z"
    }
   },
   "outputs": [
    {
     "data": {
      "text/plain": [
       "(0.8026398884457185, 0.7903955578804016, 0.8272332293451379)"
      ]
     },
     "execution_count": 43,
     "metadata": {},
     "output_type": "execute_result"
    }
   ],
   "source": [
    "c0,c1,c2"
   ]
  },
  {
   "cell_type": "code",
   "execution_count": 44,
   "metadata": {
    "ExecuteTime": {
     "end_time": "2020-02-11T09:58:09.036533Z",
     "start_time": "2020-02-11T09:58:08.998774Z"
    }
   },
   "outputs": [
    {
     "data": {
      "text/plain": [
       "(0.014892625030903646, 0.011770060641655073, 0.01111070486279176)"
      ]
     },
     "execution_count": 44,
     "metadata": {},
     "output_type": "execute_result"
    }
   ],
   "source": [
    "cv0,cv1,cv2"
   ]
  },
  {
   "cell_type": "markdown",
   "metadata": {},
   "source": [
    "## Analyze patterns in flipped predictions"
   ]
  },
  {
   "cell_type": "code",
   "execution_count": 58,
   "metadata": {
    "ExecuteTime": {
     "end_time": "2020-02-13T16:00:07.645701Z",
     "start_time": "2020-02-13T16:00:07.606889Z"
    }
   },
   "outputs": [],
   "source": [
    "flippedNegPredOnTime = flipped_neg0[flipped_neg0.alteredAttribute==('Time',)]\n",
    "ltime0 = flippedNegPredOnTime.ltable_Time.values\n",
    "rtime0 = flippedNegPredOnTime.rtable_Time.values"
   ]
  },
  {
   "cell_type": "code",
   "execution_count": 59,
   "metadata": {
    "ExecuteTime": {
     "end_time": "2020-02-13T16:00:08.246935Z",
     "start_time": "2020-02-13T16:00:08.212707Z"
    }
   },
   "outputs": [
    {
     "data": {
      "text/plain": [
       "0.9210526315789473"
      ]
     },
     "execution_count": 59,
     "metadata": {},
     "output_type": "execute_result"
    }
   ],
   "source": [
    "timeIsEqual = 0\n",
    "for l,r in zip(ltime0,rtime0):\n",
    "    if l==r :\n",
    "        timeIsEqual +=1\n",
    "timeIsEqual/len(ltime0)"
   ]
  },
  {
   "cell_type": "code",
   "execution_count": 78,
   "metadata": {
    "ExecuteTime": {
     "end_time": "2020-02-13T16:08:51.034149Z",
     "start_time": "2020-02-13T16:08:50.993476Z"
    }
   },
   "outputs": [],
   "source": [
    "flippedNegOnArtist2 = flippedPredictions_neg2[\n",
    "    flippedPredictions_neg2.alteredAttribute==('Artist_Name',)]\n",
    "lartist2 = flippedNegOnArtist2.ltable_Artist_Name.values\n",
    "rartist2 = flippedNegOnArtist2.rtable_Artist_Name.values"
   ]
  },
  {
   "cell_type": "code",
   "execution_count": 79,
   "metadata": {
    "ExecuteTime": {
     "end_time": "2020-02-13T16:08:51.988381Z",
     "start_time": "2020-02-13T16:08:51.954595Z"
    }
   },
   "outputs": [
    {
     "data": {
      "text/plain": [
       "array(['Jason Derulo', 'Mark Ronson', 'Mark Ronson', 'Kenny Chesney',\n",
       "       'Brett Eldredge', 'Brett Eldredge', 'Keith Urban', 'Keith Urban',\n",
       "       'Fifth Harmony', 'Fifth Harmony', 'Luke Bryan', 'Luke Bryan',\n",
       "       'One Direction'], dtype=object)"
      ]
     },
     "execution_count": 79,
     "metadata": {},
     "output_type": "execute_result"
    }
   ],
   "source": [
    "lartist2"
   ]
  },
  {
   "cell_type": "code",
   "execution_count": 80,
   "metadata": {
    "ExecuteTime": {
     "end_time": "2020-02-13T16:08:52.718176Z",
     "start_time": "2020-02-13T16:08:52.684341Z"
    }
   },
   "outputs": [
    {
     "data": {
      "text/plain": [
       "array(['Jason Derulo', 'Mark Ronson', 'Mark Ronson', 'Kenny Chesney',\n",
       "       'Brett Eldredge', 'Brett Eldredge', 'Keith Urban', 'Keith Urban',\n",
       "       'Fifth Harmony', 'Fifth Harmony', 'Luke Bryan', 'Luke Bryan',\n",
       "       'One Direction'], dtype=object)"
      ]
     },
     "execution_count": 80,
     "metadata": {},
     "output_type": "execute_result"
    }
   ],
   "source": [
    "rartist2"
   ]
  },
  {
   "cell_type": "code",
   "execution_count": 81,
   "metadata": {
    "ExecuteTime": {
     "end_time": "2020-02-13T16:09:04.028808Z",
     "start_time": "2020-02-13T16:09:03.993312Z"
    }
   },
   "outputs": [],
   "source": [
    "flippedNegOnArtist0 = flipped_neg0[\n",
    "    flipped_neg0.alteredAttribute==('Song_Name',)]\n",
    "lartist0 = flippedNegOnArtist0.ltable_Song_Name.values\n",
    "rartist0 = flippedNegOnArtist0.rtable_Song_Name.values"
   ]
  },
  {
   "cell_type": "code",
   "execution_count": 82,
   "metadata": {
    "ExecuteTime": {
     "end_time": "2020-02-13T16:09:04.377954Z",
     "start_time": "2020-02-13T16:09:04.344034Z"
    }
   },
   "outputs": [
    {
     "data": {
      "text/plain": [
       "array(['45', 'X2CU', 'Over My Dead Body [ Clean ]',\n",
       "       'Latch [ feat . Sam Smith ]', 'Cameras', 'Cameras [ Clean ]',\n",
       "       'Outversion', 'Yayo', 'You Gon na Fly', 'Billy', 'Billy',\n",
       "       'Whateva ( feat . Monty ) [ Explicit ]',\n",
       "       'Whateva ( feat . Monty ) [ Explicit ]', 'Better Than Words'],\n",
       "      dtype=object)"
      ]
     },
     "execution_count": 82,
     "metadata": {},
     "output_type": "execute_result"
    }
   ],
   "source": [
    "lartist0"
   ]
  },
  {
   "cell_type": "code",
   "execution_count": 83,
   "metadata": {
    "ExecuteTime": {
     "end_time": "2020-02-13T16:09:05.063026Z",
     "start_time": "2020-02-13T16:09:05.028588Z"
    }
   },
   "outputs": [
    {
     "data": {
      "text/plain": [
       "array(['45', 'X2CU', 'Over My Dead Body', 'Latch ( feat . Sam Smith )',\n",
       "       'Cameras [ Clean ]', 'Cameras', 'Outversion', 'Yayo',\n",
       "       'You Gon na Fly', 'Billy', 'Billy', 'Whateva ( feat . Monty )',\n",
       "       'Whateva ( feat . Monty )', 'Better Than Words'], dtype=object)"
      ]
     },
     "execution_count": 83,
     "metadata": {},
     "output_type": "execute_result"
    }
   ],
   "source": [
    "rartist0"
   ]
  },
  {
   "cell_type": "code",
   "execution_count": 59,
   "metadata": {
    "ExecuteTime": {
     "end_time": "2020-02-11T10:16:03.067756Z",
     "start_time": "2020-02-11T10:16:03.025450Z"
    }
   },
   "outputs": [],
   "source": [
    "flippedPosOnArtist2 = flippedPredictions_pos2[\n",
    "    flippedPredictions_pos2.alteredAttribute==('Artist_Name',)]\n",
    "plartist2 = flippedPosOnArtist2.ltable_Artist_Name.values\n",
    "prartist2 = flippedPosOnArtist2.rtable_Artist_Name.values"
   ]
  },
  {
   "cell_type": "code",
   "execution_count": 60,
   "metadata": {
    "ExecuteTime": {
     "end_time": "2020-02-11T10:16:30.665183Z",
     "start_time": "2020-02-11T10:16:30.629307Z"
    }
   },
   "outputs": [
    {
     "data": {
      "text/plain": [
       "array(['Jason Derulo', 'Drake', 'Flo Rida', 'Howard Shore',\n",
       "       'Fifth Harmony', 'Fifth Harmony', 'Keith Urban', 'P!nk',\n",
       "       'Fetty Wap', 'One Direction', 'Jason Derulo', 'Drake', 'Flo Rida',\n",
       "       'Howard Shore', 'Fifth Harmony', 'Fifth Harmony', 'Keith Urban',\n",
       "       'P!nk', 'Fetty Wap', 'One Direction'], dtype=object)"
      ]
     },
     "execution_count": 60,
     "metadata": {},
     "output_type": "execute_result"
    }
   ],
   "source": [
    "plartist2"
   ]
  },
  {
   "cell_type": "code",
   "execution_count": 61,
   "metadata": {
    "ExecuteTime": {
     "end_time": "2020-02-11T10:16:44.027739Z",
     "start_time": "2020-02-11T10:16:43.992559Z"
    }
   },
   "outputs": [
    {
     "data": {
      "text/plain": [
       "array(['Flo Rida', 'Florida Georgia Line', 'Jason Derulo', 'Wiz Khalifa',\n",
       "       'Wiz Khalifa', 'One Direction', 'Disclosure', 'Brett Eldredge',\n",
       "       'Kenny Chesney', 'Zedd', 'Flo Rida', 'Florida Georgia Line',\n",
       "       'Jason Derulo', 'Wiz Khalifa', 'Wiz Khalifa', 'One Direction',\n",
       "       'Disclosure', 'Brett Eldredge', 'Kenny Chesney', 'Zedd'],\n",
       "      dtype=object)"
      ]
     },
     "execution_count": 61,
     "metadata": {},
     "output_type": "execute_result"
    }
   ],
   "source": [
    "prartist2"
   ]
  },
  {
   "cell_type": "markdown",
   "metadata": {},
   "source": [
    "## Create benchmark test-set"
   ]
  },
  {
   "cell_type": "code",
   "execution_count": 93,
   "metadata": {
    "ExecuteTime": {
     "end_time": "2020-02-13T16:15:18.079078Z",
     "start_time": "2020-02-13T16:15:18.032647Z"
    }
   },
   "outputs": [],
   "source": [
    "flipped_neg0['label'] = 0\n",
    "flippedPredictions_pos0['label'] = 1\n",
    "##flipped_neg0 = flipped_neg0.drop(columns=['ltable_id','rtable_id'],axis=1)\n",
    "##flippedPredictions_pos0 = flippedPredictions_pos0.drop(columns=['ltable_id','rtable_id'],axis=1)\n",
    "benchmarkDataset = pd.concat([flipped_neg0,flippedPredictions_pos0])\n",
    "benchmarkDataset['id'] = np.arange(len(benchmarkDataset))\n",
    "benchmarkDataset.to_csv('itunes_amazon_retrain_test.csv',index=False)"
   ]
  },
  {
   "cell_type": "code",
   "execution_count": null,
   "metadata": {},
   "outputs": [],
   "source": []
  },
  {
   "cell_type": "code",
   "execution_count": 99,
   "metadata": {
    "ExecuteTime": {
     "end_time": "2020-02-13T16:29:42.088939Z",
     "start_time": "2020-02-13T16:29:42.049619Z"
    }
   },
   "outputs": [],
   "source": [
    "subset = benchmarkDataset.iloc[0:5]\n",
    "subset.at[0,'label'] = 1"
   ]
  },
  {
   "cell_type": "code",
   "execution_count": 101,
   "metadata": {
    "ExecuteTime": {
     "end_time": "2020-02-13T16:31:29.155136Z",
     "start_time": "2020-02-13T16:31:26.546436Z"
    }
   },
   "outputs": [
    {
     "name": "stdout",
     "output_type": "stream",
     "text": [
      "What is your name? vincenzo\n",
      "Hello, vincenzo!\n"
     ]
    }
   ],
   "source": [
    "n = input(\"What is your name? \")\n",
    "print(\"Hello,\", n+\"!\")"
   ]
  },
  {
   "cell_type": "code",
   "execution_count": 121,
   "metadata": {
    "ExecuteTime": {
     "end_time": "2020-02-13T16:52:18.587648Z",
     "start_time": "2020-02-13T16:52:18.553774Z"
    }
   },
   "outputs": [],
   "source": [
    "benchmarkDataset = benchmarkDataset.reset_index()"
   ]
  },
  {
   "cell_type": "code",
   "execution_count": 123,
   "metadata": {
    "ExecuteTime": {
     "end_time": "2020-02-13T17:00:06.336557Z",
     "start_time": "2020-02-13T16:56:50.452495Z"
    }
   },
   "outputs": [
    {
     "data": {
      "text/html": [
       "<div>\n",
       "<style scoped>\n",
       "    .dataframe tbody tr th:only-of-type {\n",
       "        vertical-align: middle;\n",
       "    }\n",
       "\n",
       "    .dataframe tbody tr th {\n",
       "        vertical-align: top;\n",
       "    }\n",
       "\n",
       "    .dataframe thead th {\n",
       "        text-align: right;\n",
       "    }\n",
       "</style>\n",
       "<table border=\"1\" class=\"dataframe\">\n",
       "  <thead>\n",
       "    <tr style=\"text-align: right;\">\n",
       "      <th></th>\n",
       "      <th>index</th>\n",
       "      <th>ltable_Song_Name</th>\n",
       "      <th>ltable_Artist_Name</th>\n",
       "      <th>ltable_Album_Name</th>\n",
       "      <th>ltable_Genre</th>\n",
       "      <th>ltable_Price</th>\n",
       "      <th>ltable_CopyRight</th>\n",
       "      <th>ltable_Time</th>\n",
       "      <th>ltable_Released</th>\n",
       "      <th>rtable_Song_Name</th>\n",
       "      <th>rtable_Artist_Name</th>\n",
       "      <th>rtable_Album_Name</th>\n",
       "      <th>rtable_Genre</th>\n",
       "      <th>rtable_Price</th>\n",
       "      <th>rtable_CopyRight</th>\n",
       "      <th>rtable_Time</th>\n",
       "      <th>rtable_Released</th>\n",
       "      <th>id</th>\n",
       "      <th>alteredAttribute</th>\n",
       "      <th>label</th>\n",
       "    </tr>\n",
       "  </thead>\n",
       "  <tbody>\n",
       "    <tr>\n",
       "      <th>70</th>\n",
       "      <td>10</td>\n",
       "      <td>I Know [ feat . Wiz Khalifa ] [ Explicit ]</td>\n",
       "      <td>Diddy - Dirty Money</td>\n",
       "      <td>Last Train To Paris [ Explicit ]</td>\n",
       "      <td>Rap &amp; Hip-Hop</td>\n",
       "      <td>$ 1.29</td>\n",
       "      <td>( C ) 2010 Bad Boy/Interscope Records</td>\n",
       "      <td>4:31</td>\n",
       "      <td>December 14 , 2010</td>\n",
       "      <td>I Know ( feat . Chris Brown , Wiz Khalifa &amp; Se...</td>\n",
       "      <td>Diddy - Dirty Money , Chris Brown , Wiz Khalif...</td>\n",
       "      <td>Last Train to Paris</td>\n",
       "      <td>Hip-Hop/Rap , Music , R&amp;B / Soul , Contemporar...</td>\n",
       "      <td>$ 1.29</td>\n",
       "      <td>‰ ãÑ 2010 Bad Boy/Interscope Records</td>\n",
       "      <td>2:57</td>\n",
       "      <td>14-Dec-10</td>\n",
       "      <td>70</td>\n",
       "      <td>(Time,)</td>\n",
       "      <td>1</td>\n",
       "    </tr>\n",
       "  </tbody>\n",
       "</table>\n",
       "</div>"
      ],
      "text/plain": [
       "    index                            ltable_Song_Name   ltable_Artist_Name  \\\n",
       "70     10  I Know [ feat . Wiz Khalifa ] [ Explicit ]  Diddy - Dirty Money   \n",
       "\n",
       "                   ltable_Album_Name   ltable_Genre ltable_Price  \\\n",
       "70  Last Train To Paris [ Explicit ]  Rap & Hip-Hop       $ 1.29   \n",
       "\n",
       "                         ltable_CopyRight ltable_Time     ltable_Released  \\\n",
       "70  ( C ) 2010 Bad Boy/Interscope Records        4:31  December 14 , 2010   \n",
       "\n",
       "                                     rtable_Song_Name  \\\n",
       "70  I Know ( feat . Chris Brown , Wiz Khalifa & Se...   \n",
       "\n",
       "                                   rtable_Artist_Name    rtable_Album_Name  \\\n",
       "70  Diddy - Dirty Money , Chris Brown , Wiz Khalif...  Last Train to Paris   \n",
       "\n",
       "                                         rtable_Genre rtable_Price  \\\n",
       "70  Hip-Hop/Rap , Music , R&B / Soul , Contemporar...       $ 1.29   \n",
       "\n",
       "                        rtable_CopyRight rtable_Time rtable_Released  id  \\\n",
       "70  ‰ ãÑ 2010 Bad Boy/Interscope Records        2:57       14-Dec-10  70   \n",
       "\n",
       "   alteredAttribute  label  \n",
       "70          (Time,)      1  "
      ]
     },
     "metadata": {},
     "output_type": "display_data"
    },
    {
     "name": "stdout",
     "output_type": "stream",
     "text": [
      "label ?1\n"
     ]
    },
    {
     "data": {
      "text/html": [
       "<div>\n",
       "<style scoped>\n",
       "    .dataframe tbody tr th:only-of-type {\n",
       "        vertical-align: middle;\n",
       "    }\n",
       "\n",
       "    .dataframe tbody tr th {\n",
       "        vertical-align: top;\n",
       "    }\n",
       "\n",
       "    .dataframe thead th {\n",
       "        text-align: right;\n",
       "    }\n",
       "</style>\n",
       "<table border=\"1\" class=\"dataframe\">\n",
       "  <thead>\n",
       "    <tr style=\"text-align: right;\">\n",
       "      <th></th>\n",
       "      <th>index</th>\n",
       "      <th>ltable_Song_Name</th>\n",
       "      <th>ltable_Artist_Name</th>\n",
       "      <th>ltable_Album_Name</th>\n",
       "      <th>ltable_Genre</th>\n",
       "      <th>ltable_Price</th>\n",
       "      <th>ltable_CopyRight</th>\n",
       "      <th>ltable_Time</th>\n",
       "      <th>ltable_Released</th>\n",
       "      <th>rtable_Song_Name</th>\n",
       "      <th>rtable_Artist_Name</th>\n",
       "      <th>rtable_Album_Name</th>\n",
       "      <th>rtable_Genre</th>\n",
       "      <th>rtable_Price</th>\n",
       "      <th>rtable_CopyRight</th>\n",
       "      <th>rtable_Time</th>\n",
       "      <th>rtable_Released</th>\n",
       "      <th>id</th>\n",
       "      <th>alteredAttribute</th>\n",
       "      <th>label</th>\n",
       "    </tr>\n",
       "  </thead>\n",
       "  <tbody>\n",
       "    <tr>\n",
       "      <th>71</th>\n",
       "      <td>11</td>\n",
       "      <td>I Know [ feat . Wiz Khalifa ] [ Explicit ]</td>\n",
       "      <td>Diddy - Dirty Money</td>\n",
       "      <td>Last Train To Paris [ Explicit ]</td>\n",
       "      <td>Rap &amp; Hip-Hop</td>\n",
       "      <td>$ 1.29</td>\n",
       "      <td>( C ) 2010 Bad Boy/Interscope Records</td>\n",
       "      <td>4:31</td>\n",
       "      <td>December 14 , 2010</td>\n",
       "      <td>I Know ( feat . Chris Brown , Wiz Khalifa &amp; Se...</td>\n",
       "      <td>Diddy - Dirty Money , Chris Brown , Wiz Khalif...</td>\n",
       "      <td>Last Train to Paris</td>\n",
       "      <td>Hip-Hop/Rap , Music , R&amp;B / Soul , Contemporar...</td>\n",
       "      <td>$ 1.29</td>\n",
       "      <td>‰ ãÑ 2010 Bad Boy/Interscope Records</td>\n",
       "      <td>5:06</td>\n",
       "      <td>14-Dec-10</td>\n",
       "      <td>71</td>\n",
       "      <td>(Time,)</td>\n",
       "      <td>1</td>\n",
       "    </tr>\n",
       "  </tbody>\n",
       "</table>\n",
       "</div>"
      ],
      "text/plain": [
       "    index                            ltable_Song_Name   ltable_Artist_Name  \\\n",
       "71     11  I Know [ feat . Wiz Khalifa ] [ Explicit ]  Diddy - Dirty Money   \n",
       "\n",
       "                   ltable_Album_Name   ltable_Genre ltable_Price  \\\n",
       "71  Last Train To Paris [ Explicit ]  Rap & Hip-Hop       $ 1.29   \n",
       "\n",
       "                         ltable_CopyRight ltable_Time     ltable_Released  \\\n",
       "71  ( C ) 2010 Bad Boy/Interscope Records        4:31  December 14 , 2010   \n",
       "\n",
       "                                     rtable_Song_Name  \\\n",
       "71  I Know ( feat . Chris Brown , Wiz Khalifa & Se...   \n",
       "\n",
       "                                   rtable_Artist_Name    rtable_Album_Name  \\\n",
       "71  Diddy - Dirty Money , Chris Brown , Wiz Khalif...  Last Train to Paris   \n",
       "\n",
       "                                         rtable_Genre rtable_Price  \\\n",
       "71  Hip-Hop/Rap , Music , R&B / Soul , Contemporar...       $ 1.29   \n",
       "\n",
       "                        rtable_CopyRight rtable_Time rtable_Released  id  \\\n",
       "71  ‰ ãÑ 2010 Bad Boy/Interscope Records        5:06       14-Dec-10  71   \n",
       "\n",
       "   alteredAttribute  label  \n",
       "71          (Time,)      1  "
      ]
     },
     "metadata": {},
     "output_type": "display_data"
    },
    {
     "name": "stdout",
     "output_type": "stream",
     "text": [
      "label ?1\n"
     ]
    },
    {
     "data": {
      "text/html": [
       "<div>\n",
       "<style scoped>\n",
       "    .dataframe tbody tr th:only-of-type {\n",
       "        vertical-align: middle;\n",
       "    }\n",
       "\n",
       "    .dataframe tbody tr th {\n",
       "        vertical-align: top;\n",
       "    }\n",
       "\n",
       "    .dataframe thead th {\n",
       "        text-align: right;\n",
       "    }\n",
       "</style>\n",
       "<table border=\"1\" class=\"dataframe\">\n",
       "  <thead>\n",
       "    <tr style=\"text-align: right;\">\n",
       "      <th></th>\n",
       "      <th>index</th>\n",
       "      <th>ltable_Song_Name</th>\n",
       "      <th>ltable_Artist_Name</th>\n",
       "      <th>ltable_Album_Name</th>\n",
       "      <th>ltable_Genre</th>\n",
       "      <th>ltable_Price</th>\n",
       "      <th>ltable_CopyRight</th>\n",
       "      <th>ltable_Time</th>\n",
       "      <th>ltable_Released</th>\n",
       "      <th>rtable_Song_Name</th>\n",
       "      <th>rtable_Artist_Name</th>\n",
       "      <th>rtable_Album_Name</th>\n",
       "      <th>rtable_Genre</th>\n",
       "      <th>rtable_Price</th>\n",
       "      <th>rtable_CopyRight</th>\n",
       "      <th>rtable_Time</th>\n",
       "      <th>rtable_Released</th>\n",
       "      <th>id</th>\n",
       "      <th>alteredAttribute</th>\n",
       "      <th>label</th>\n",
       "    </tr>\n",
       "  </thead>\n",
       "  <tbody>\n",
       "    <tr>\n",
       "      <th>72</th>\n",
       "      <td>12</td>\n",
       "      <td>My Armor Is Iron</td>\n",
       "      <td>Howard Shore</td>\n",
       "      <td>The Hobbit : The Desolation of Smaug ( Origina...</td>\n",
       "      <td>Soundtrack , Music , Soundtrack , Classical , ...</td>\n",
       "      <td>$ 1.29</td>\n",
       "      <td>‰ ãÑ 2013 WaterTower Music</td>\n",
       "      <td>5:16</td>\n",
       "      <td>10-Dec-13</td>\n",
       "      <td>My Armor Is Iron</td>\n",
       "      <td>Howard Shore</td>\n",
       "      <td>The Hobbit : The Desolation of Smaug ( Origina...</td>\n",
       "      <td>Soundtracks</td>\n",
       "      <td>$ 1.29</td>\n",
       "      <td>2013 WaterTower Music / Warner Bros. . Enterta...</td>\n",
       "      <td>2:48</td>\n",
       "      <td>December 10 , 2013</td>\n",
       "      <td>72</td>\n",
       "      <td>(Time,)</td>\n",
       "      <td>1</td>\n",
       "    </tr>\n",
       "  </tbody>\n",
       "</table>\n",
       "</div>"
      ],
      "text/plain": [
       "    index  ltable_Song_Name ltable_Artist_Name  \\\n",
       "72     12  My Armor Is Iron       Howard Shore   \n",
       "\n",
       "                                    ltable_Album_Name  \\\n",
       "72  The Hobbit : The Desolation of Smaug ( Origina...   \n",
       "\n",
       "                                         ltable_Genre ltable_Price  \\\n",
       "72  Soundtrack , Music , Soundtrack , Classical , ...       $ 1.29   \n",
       "\n",
       "              ltable_CopyRight ltable_Time ltable_Released  rtable_Song_Name  \\\n",
       "72  ‰ ãÑ 2013 WaterTower Music        5:16       10-Dec-13  My Armor Is Iron   \n",
       "\n",
       "   rtable_Artist_Name                                  rtable_Album_Name  \\\n",
       "72       Howard Shore  The Hobbit : The Desolation of Smaug ( Origina...   \n",
       "\n",
       "   rtable_Genre rtable_Price  \\\n",
       "72  Soundtracks       $ 1.29   \n",
       "\n",
       "                                     rtable_CopyRight rtable_Time  \\\n",
       "72  2013 WaterTower Music / Warner Bros. . Enterta...        2:48   \n",
       "\n",
       "       rtable_Released  id alteredAttribute  label  \n",
       "72  December 10 , 2013  72          (Time,)      1  "
      ]
     },
     "metadata": {},
     "output_type": "display_data"
    },
    {
     "name": "stdout",
     "output_type": "stream",
     "text": [
      "label ?1\n"
     ]
    },
    {
     "data": {
      "text/html": [
       "<div>\n",
       "<style scoped>\n",
       "    .dataframe tbody tr th:only-of-type {\n",
       "        vertical-align: middle;\n",
       "    }\n",
       "\n",
       "    .dataframe tbody tr th {\n",
       "        vertical-align: top;\n",
       "    }\n",
       "\n",
       "    .dataframe thead th {\n",
       "        text-align: right;\n",
       "    }\n",
       "</style>\n",
       "<table border=\"1\" class=\"dataframe\">\n",
       "  <thead>\n",
       "    <tr style=\"text-align: right;\">\n",
       "      <th></th>\n",
       "      <th>index</th>\n",
       "      <th>ltable_Song_Name</th>\n",
       "      <th>ltable_Artist_Name</th>\n",
       "      <th>ltable_Album_Name</th>\n",
       "      <th>ltable_Genre</th>\n",
       "      <th>ltable_Price</th>\n",
       "      <th>ltable_CopyRight</th>\n",
       "      <th>ltable_Time</th>\n",
       "      <th>ltable_Released</th>\n",
       "      <th>rtable_Song_Name</th>\n",
       "      <th>rtable_Artist_Name</th>\n",
       "      <th>rtable_Album_Name</th>\n",
       "      <th>rtable_Genre</th>\n",
       "      <th>rtable_Price</th>\n",
       "      <th>rtable_CopyRight</th>\n",
       "      <th>rtable_Time</th>\n",
       "      <th>rtable_Released</th>\n",
       "      <th>id</th>\n",
       "      <th>alteredAttribute</th>\n",
       "      <th>label</th>\n",
       "    </tr>\n",
       "  </thead>\n",
       "  <tbody>\n",
       "    <tr>\n",
       "      <th>73</th>\n",
       "      <td>13</td>\n",
       "      <td>My Armor Is Iron</td>\n",
       "      <td>Howard Shore</td>\n",
       "      <td>The Hobbit : The Desolation of Smaug ( Origina...</td>\n",
       "      <td>Soundtracks</td>\n",
       "      <td>$ 1.29</td>\n",
       "      <td>2013 WaterTower Music / Warner Bros. . Enterta...</td>\n",
       "      <td>5:16</td>\n",
       "      <td>December 10 , 2013</td>\n",
       "      <td>Street Money ( feat . Rick Ross ) [ Explicit ]</td>\n",
       "      <td>Howard Shore</td>\n",
       "      <td>The Hobbit : The Desolation of Smaug ( Origina...</td>\n",
       "      <td>Soundtrack , Music , Soundtrack , Classical , ...</td>\n",
       "      <td>$ 1.29</td>\n",
       "      <td>‰ ãÑ 2013 WaterTower Music</td>\n",
       "      <td>5:16</td>\n",
       "      <td>10-Dec-13</td>\n",
       "      <td>73</td>\n",
       "      <td>(Song_Name,)</td>\n",
       "      <td>0</td>\n",
       "    </tr>\n",
       "  </tbody>\n",
       "</table>\n",
       "</div>"
      ],
      "text/plain": [
       "    index  ltable_Song_Name ltable_Artist_Name  \\\n",
       "73     13  My Armor Is Iron       Howard Shore   \n",
       "\n",
       "                                    ltable_Album_Name ltable_Genre  \\\n",
       "73  The Hobbit : The Desolation of Smaug ( Origina...  Soundtracks   \n",
       "\n",
       "   ltable_Price                                   ltable_CopyRight  \\\n",
       "73       $ 1.29  2013 WaterTower Music / Warner Bros. . Enterta...   \n",
       "\n",
       "   ltable_Time     ltable_Released  \\\n",
       "73        5:16  December 10 , 2013   \n",
       "\n",
       "                                  rtable_Song_Name rtable_Artist_Name  \\\n",
       "73  Street Money ( feat . Rick Ross ) [ Explicit ]       Howard Shore   \n",
       "\n",
       "                                    rtable_Album_Name  \\\n",
       "73  The Hobbit : The Desolation of Smaug ( Origina...   \n",
       "\n",
       "                                         rtable_Genre rtable_Price  \\\n",
       "73  Soundtrack , Music , Soundtrack , Classical , ...       $ 1.29   \n",
       "\n",
       "              rtable_CopyRight rtable_Time rtable_Released  id  \\\n",
       "73  ‰ ãÑ 2013 WaterTower Music        5:16       10-Dec-13  73   \n",
       "\n",
       "   alteredAttribute  label  \n",
       "73     (Song_Name,)      0  "
      ]
     },
     "metadata": {},
     "output_type": "display_data"
    },
    {
     "name": "stdout",
     "output_type": "stream",
     "text": [
      "label ?0\n"
     ]
    },
    {
     "data": {
      "text/html": [
       "<div>\n",
       "<style scoped>\n",
       "    .dataframe tbody tr th:only-of-type {\n",
       "        vertical-align: middle;\n",
       "    }\n",
       "\n",
       "    .dataframe tbody tr th {\n",
       "        vertical-align: top;\n",
       "    }\n",
       "\n",
       "    .dataframe thead th {\n",
       "        text-align: right;\n",
       "    }\n",
       "</style>\n",
       "<table border=\"1\" class=\"dataframe\">\n",
       "  <thead>\n",
       "    <tr style=\"text-align: right;\">\n",
       "      <th></th>\n",
       "      <th>index</th>\n",
       "      <th>ltable_Song_Name</th>\n",
       "      <th>ltable_Artist_Name</th>\n",
       "      <th>ltable_Album_Name</th>\n",
       "      <th>ltable_Genre</th>\n",
       "      <th>ltable_Price</th>\n",
       "      <th>ltable_CopyRight</th>\n",
       "      <th>ltable_Time</th>\n",
       "      <th>ltable_Released</th>\n",
       "      <th>rtable_Song_Name</th>\n",
       "      <th>rtable_Artist_Name</th>\n",
       "      <th>rtable_Album_Name</th>\n",
       "      <th>rtable_Genre</th>\n",
       "      <th>rtable_Price</th>\n",
       "      <th>rtable_CopyRight</th>\n",
       "      <th>rtable_Time</th>\n",
       "      <th>rtable_Released</th>\n",
       "      <th>id</th>\n",
       "      <th>alteredAttribute</th>\n",
       "      <th>label</th>\n",
       "    </tr>\n",
       "  </thead>\n",
       "  <tbody>\n",
       "    <tr>\n",
       "      <th>74</th>\n",
       "      <td>14</td>\n",
       "      <td>My Armor Is Iron</td>\n",
       "      <td>Howard Shore</td>\n",
       "      <td>The Hobbit : The Desolation of Smaug ( Origina...</td>\n",
       "      <td>Soundtracks</td>\n",
       "      <td>$ 1.29</td>\n",
       "      <td>2013 WaterTower Music / Warner Bros. . Enterta...</td>\n",
       "      <td>5:16</td>\n",
       "      <td>December 10 , 2013</td>\n",
       "      <td>My Armor Is Iron</td>\n",
       "      <td>Howard Shore</td>\n",
       "      <td>The Hobbit : The Desolation of Smaug ( Origina...</td>\n",
       "      <td>Soundtrack , Music , Soundtrack , Classical , ...</td>\n",
       "      <td>$ 1.29</td>\n",
       "      <td>‰ ãÑ 2013 WaterTower Music</td>\n",
       "      <td>3:47</td>\n",
       "      <td>10-Dec-13</td>\n",
       "      <td>74</td>\n",
       "      <td>(Time,)</td>\n",
       "      <td>1</td>\n",
       "    </tr>\n",
       "  </tbody>\n",
       "</table>\n",
       "</div>"
      ],
      "text/plain": [
       "    index  ltable_Song_Name ltable_Artist_Name  \\\n",
       "74     14  My Armor Is Iron       Howard Shore   \n",
       "\n",
       "                                    ltable_Album_Name ltable_Genre  \\\n",
       "74  The Hobbit : The Desolation of Smaug ( Origina...  Soundtracks   \n",
       "\n",
       "   ltable_Price                                   ltable_CopyRight  \\\n",
       "74       $ 1.29  2013 WaterTower Music / Warner Bros. . Enterta...   \n",
       "\n",
       "   ltable_Time     ltable_Released  rtable_Song_Name rtable_Artist_Name  \\\n",
       "74        5:16  December 10 , 2013  My Armor Is Iron       Howard Shore   \n",
       "\n",
       "                                    rtable_Album_Name  \\\n",
       "74  The Hobbit : The Desolation of Smaug ( Origina...   \n",
       "\n",
       "                                         rtable_Genre rtable_Price  \\\n",
       "74  Soundtrack , Music , Soundtrack , Classical , ...       $ 1.29   \n",
       "\n",
       "              rtable_CopyRight rtable_Time rtable_Released  id  \\\n",
       "74  ‰ ãÑ 2013 WaterTower Music        3:47       10-Dec-13  74   \n",
       "\n",
       "   alteredAttribute  label  \n",
       "74          (Time,)      1  "
      ]
     },
     "metadata": {},
     "output_type": "display_data"
    },
    {
     "name": "stdout",
     "output_type": "stream",
     "text": [
      "label ?1\n"
     ]
    },
    {
     "data": {
      "text/html": [
       "<div>\n",
       "<style scoped>\n",
       "    .dataframe tbody tr th:only-of-type {\n",
       "        vertical-align: middle;\n",
       "    }\n",
       "\n",
       "    .dataframe tbody tr th {\n",
       "        vertical-align: top;\n",
       "    }\n",
       "\n",
       "    .dataframe thead th {\n",
       "        text-align: right;\n",
       "    }\n",
       "</style>\n",
       "<table border=\"1\" class=\"dataframe\">\n",
       "  <thead>\n",
       "    <tr style=\"text-align: right;\">\n",
       "      <th></th>\n",
       "      <th>index</th>\n",
       "      <th>ltable_Song_Name</th>\n",
       "      <th>ltable_Artist_Name</th>\n",
       "      <th>ltable_Album_Name</th>\n",
       "      <th>ltable_Genre</th>\n",
       "      <th>ltable_Price</th>\n",
       "      <th>ltable_CopyRight</th>\n",
       "      <th>ltable_Time</th>\n",
       "      <th>ltable_Released</th>\n",
       "      <th>rtable_Song_Name</th>\n",
       "      <th>rtable_Artist_Name</th>\n",
       "      <th>rtable_Album_Name</th>\n",
       "      <th>rtable_Genre</th>\n",
       "      <th>rtable_Price</th>\n",
       "      <th>rtable_CopyRight</th>\n",
       "      <th>rtable_Time</th>\n",
       "      <th>rtable_Released</th>\n",
       "      <th>id</th>\n",
       "      <th>alteredAttribute</th>\n",
       "      <th>label</th>\n",
       "    </tr>\n",
       "  </thead>\n",
       "  <tbody>\n",
       "    <tr>\n",
       "      <th>75</th>\n",
       "      <td>15</td>\n",
       "      <td>Going Away For A While</td>\n",
       "      <td>Brett Eldredge</td>\n",
       "      <td>Illinois</td>\n",
       "      <td>Country</td>\n",
       "      <td>$ 1.29</td>\n",
       "      <td>( c ) Phonotype</td>\n",
       "      <td>3:15</td>\n",
       "      <td>September 11 , 2015</td>\n",
       "      <td>All Me [ feat . 2 Chainz ] [ Explicit ]</td>\n",
       "      <td>Brett Eldredge</td>\n",
       "      <td>Illinois</td>\n",
       "      <td>Country , Music , Contemporary Country , Honky...</td>\n",
       "      <td>$ 1.29</td>\n",
       "      <td>2015 Atlantic Recording Corporation for the Un...</td>\n",
       "      <td>3:13</td>\n",
       "      <td>11-Sep-15</td>\n",
       "      <td>75</td>\n",
       "      <td>(Song_Name,)</td>\n",
       "      <td>0</td>\n",
       "    </tr>\n",
       "  </tbody>\n",
       "</table>\n",
       "</div>"
      ],
      "text/plain": [
       "    index        ltable_Song_Name ltable_Artist_Name ltable_Album_Name  \\\n",
       "75     15  Going Away For A While     Brett Eldredge          Illinois   \n",
       "\n",
       "   ltable_Genre ltable_Price ltable_CopyRight ltable_Time  \\\n",
       "75      Country       $ 1.29  ( c ) Phonotype        3:15   \n",
       "\n",
       "        ltable_Released                         rtable_Song_Name  \\\n",
       "75  September 11 , 2015  All Me [ feat . 2 Chainz ] [ Explicit ]   \n",
       "\n",
       "   rtable_Artist_Name rtable_Album_Name  \\\n",
       "75     Brett Eldredge          Illinois   \n",
       "\n",
       "                                         rtable_Genre rtable_Price  \\\n",
       "75  Country , Music , Contemporary Country , Honky...       $ 1.29   \n",
       "\n",
       "                                     rtable_CopyRight rtable_Time  \\\n",
       "75  2015 Atlantic Recording Corporation for the Un...        3:13   \n",
       "\n",
       "   rtable_Released  id alteredAttribute  label  \n",
       "75       11-Sep-15  75     (Song_Name,)      0  "
      ]
     },
     "metadata": {},
     "output_type": "display_data"
    },
    {
     "name": "stdout",
     "output_type": "stream",
     "text": [
      "label ?0\n"
     ]
    },
    {
     "data": {
      "text/html": [
       "<div>\n",
       "<style scoped>\n",
       "    .dataframe tbody tr th:only-of-type {\n",
       "        vertical-align: middle;\n",
       "    }\n",
       "\n",
       "    .dataframe tbody tr th {\n",
       "        vertical-align: top;\n",
       "    }\n",
       "\n",
       "    .dataframe thead th {\n",
       "        text-align: right;\n",
       "    }\n",
       "</style>\n",
       "<table border=\"1\" class=\"dataframe\">\n",
       "  <thead>\n",
       "    <tr style=\"text-align: right;\">\n",
       "      <th></th>\n",
       "      <th>index</th>\n",
       "      <th>ltable_Song_Name</th>\n",
       "      <th>ltable_Artist_Name</th>\n",
       "      <th>ltable_Album_Name</th>\n",
       "      <th>ltable_Genre</th>\n",
       "      <th>ltable_Price</th>\n",
       "      <th>ltable_CopyRight</th>\n",
       "      <th>ltable_Time</th>\n",
       "      <th>ltable_Released</th>\n",
       "      <th>rtable_Song_Name</th>\n",
       "      <th>rtable_Artist_Name</th>\n",
       "      <th>rtable_Album_Name</th>\n",
       "      <th>rtable_Genre</th>\n",
       "      <th>rtable_Price</th>\n",
       "      <th>rtable_CopyRight</th>\n",
       "      <th>rtable_Time</th>\n",
       "      <th>rtable_Released</th>\n",
       "      <th>id</th>\n",
       "      <th>alteredAttribute</th>\n",
       "      <th>label</th>\n",
       "    </tr>\n",
       "  </thead>\n",
       "  <tbody>\n",
       "    <tr>\n",
       "      <th>76</th>\n",
       "      <td>16</td>\n",
       "      <td>Going Away For A While</td>\n",
       "      <td>Brett Eldredge</td>\n",
       "      <td>Illinois</td>\n",
       "      <td>Country</td>\n",
       "      <td>$ 1.29</td>\n",
       "      <td>( c ) Phonotype</td>\n",
       "      <td>3:15</td>\n",
       "      <td>September 11 , 2015</td>\n",
       "      <td>Going Away For a While</td>\n",
       "      <td>Brett Eldredge</td>\n",
       "      <td>Illinois</td>\n",
       "      <td>Country , Music , Contemporary Country , Honky...</td>\n",
       "      <td>$ 1.29</td>\n",
       "      <td>2015 Atlantic Recording Corporation for the Un...</td>\n",
       "      <td>3:47</td>\n",
       "      <td>11-Sep-15</td>\n",
       "      <td>76</td>\n",
       "      <td>(Time,)</td>\n",
       "      <td>1</td>\n",
       "    </tr>\n",
       "  </tbody>\n",
       "</table>\n",
       "</div>"
      ],
      "text/plain": [
       "    index        ltable_Song_Name ltable_Artist_Name ltable_Album_Name  \\\n",
       "76     16  Going Away For A While     Brett Eldredge          Illinois   \n",
       "\n",
       "   ltable_Genre ltable_Price ltable_CopyRight ltable_Time  \\\n",
       "76      Country       $ 1.29  ( c ) Phonotype        3:15   \n",
       "\n",
       "        ltable_Released        rtable_Song_Name rtable_Artist_Name  \\\n",
       "76  September 11 , 2015  Going Away For a While     Brett Eldredge   \n",
       "\n",
       "   rtable_Album_Name                                       rtable_Genre  \\\n",
       "76          Illinois  Country , Music , Contemporary Country , Honky...   \n",
       "\n",
       "   rtable_Price                                   rtable_CopyRight  \\\n",
       "76       $ 1.29  2015 Atlantic Recording Corporation for the Un...   \n",
       "\n",
       "   rtable_Time rtable_Released  id alteredAttribute  label  \n",
       "76        3:47       11-Sep-15  76          (Time,)      1  "
      ]
     },
     "metadata": {},
     "output_type": "display_data"
    },
    {
     "name": "stdout",
     "output_type": "stream",
     "text": [
      "label ?1\n"
     ]
    },
    {
     "data": {
      "text/html": [
       "<div>\n",
       "<style scoped>\n",
       "    .dataframe tbody tr th:only-of-type {\n",
       "        vertical-align: middle;\n",
       "    }\n",
       "\n",
       "    .dataframe tbody tr th {\n",
       "        vertical-align: top;\n",
       "    }\n",
       "\n",
       "    .dataframe thead th {\n",
       "        text-align: right;\n",
       "    }\n",
       "</style>\n",
       "<table border=\"1\" class=\"dataframe\">\n",
       "  <thead>\n",
       "    <tr style=\"text-align: right;\">\n",
       "      <th></th>\n",
       "      <th>index</th>\n",
       "      <th>ltable_Song_Name</th>\n",
       "      <th>ltable_Artist_Name</th>\n",
       "      <th>ltable_Album_Name</th>\n",
       "      <th>ltable_Genre</th>\n",
       "      <th>ltable_Price</th>\n",
       "      <th>ltable_CopyRight</th>\n",
       "      <th>ltable_Time</th>\n",
       "      <th>ltable_Released</th>\n",
       "      <th>rtable_Song_Name</th>\n",
       "      <th>rtable_Artist_Name</th>\n",
       "      <th>rtable_Album_Name</th>\n",
       "      <th>rtable_Genre</th>\n",
       "      <th>rtable_Price</th>\n",
       "      <th>rtable_CopyRight</th>\n",
       "      <th>rtable_Time</th>\n",
       "      <th>rtable_Released</th>\n",
       "      <th>id</th>\n",
       "      <th>alteredAttribute</th>\n",
       "      <th>label</th>\n",
       "    </tr>\n",
       "  </thead>\n",
       "  <tbody>\n",
       "    <tr>\n",
       "      <th>77</th>\n",
       "      <td>17</td>\n",
       "      <td>Brave Honest Beautiful ( feat . Meghan Trainor )</td>\n",
       "      <td>Fifth Harmony</td>\n",
       "      <td>Reflection ( Deluxe )</td>\n",
       "      <td>Pop , Music , R&amp;B / Soul , Dance , Teen Pop , ...</td>\n",
       "      <td>$ 1.29</td>\n",
       "      <td>2014 , 2015 Simco Ltd. under exclusive license...</td>\n",
       "      <td>3:28</td>\n",
       "      <td>30-Jan-15</td>\n",
       "      <td>Brave Honest Beautiful</td>\n",
       "      <td>Fifth Harmony</td>\n",
       "      <td>Reflection ( Deluxe )</td>\n",
       "      <td>Pop</td>\n",
       "      <td>$ 1.29</td>\n",
       "      <td>( C ) 2012 Big Machine Records , LLC .</td>\n",
       "      <td>4:31</td>\n",
       "      <td>January 30 , 2015</td>\n",
       "      <td>77</td>\n",
       "      <td>(Time,)</td>\n",
       "      <td>1</td>\n",
       "    </tr>\n",
       "  </tbody>\n",
       "</table>\n",
       "</div>"
      ],
      "text/plain": [
       "    index                                  ltable_Song_Name  \\\n",
       "77     17  Brave Honest Beautiful ( feat . Meghan Trainor )   \n",
       "\n",
       "   ltable_Artist_Name      ltable_Album_Name  \\\n",
       "77      Fifth Harmony  Reflection ( Deluxe )   \n",
       "\n",
       "                                         ltable_Genre ltable_Price  \\\n",
       "77  Pop , Music , R&B / Soul , Dance , Teen Pop , ...       $ 1.29   \n",
       "\n",
       "                                     ltable_CopyRight ltable_Time  \\\n",
       "77  2014 , 2015 Simco Ltd. under exclusive license...        3:28   \n",
       "\n",
       "   ltable_Released        rtable_Song_Name rtable_Artist_Name  \\\n",
       "77       30-Jan-15  Brave Honest Beautiful      Fifth Harmony   \n",
       "\n",
       "        rtable_Album_Name rtable_Genre rtable_Price  \\\n",
       "77  Reflection ( Deluxe )          Pop       $ 1.29   \n",
       "\n",
       "                          rtable_CopyRight rtable_Time    rtable_Released  id  \\\n",
       "77  ( C ) 2012 Big Machine Records , LLC .        4:31  January 30 , 2015  77   \n",
       "\n",
       "   alteredAttribute  label  \n",
       "77          (Time,)      1  "
      ]
     },
     "metadata": {},
     "output_type": "display_data"
    },
    {
     "name": "stdout",
     "output_type": "stream",
     "text": [
      "label ?1\n"
     ]
    },
    {
     "data": {
      "text/html": [
       "<div>\n",
       "<style scoped>\n",
       "    .dataframe tbody tr th:only-of-type {\n",
       "        vertical-align: middle;\n",
       "    }\n",
       "\n",
       "    .dataframe tbody tr th {\n",
       "        vertical-align: top;\n",
       "    }\n",
       "\n",
       "    .dataframe thead th {\n",
       "        text-align: right;\n",
       "    }\n",
       "</style>\n",
       "<table border=\"1\" class=\"dataframe\">\n",
       "  <thead>\n",
       "    <tr style=\"text-align: right;\">\n",
       "      <th></th>\n",
       "      <th>index</th>\n",
       "      <th>ltable_Song_Name</th>\n",
       "      <th>ltable_Artist_Name</th>\n",
       "      <th>ltable_Album_Name</th>\n",
       "      <th>ltable_Genre</th>\n",
       "      <th>ltable_Price</th>\n",
       "      <th>ltable_CopyRight</th>\n",
       "      <th>ltable_Time</th>\n",
       "      <th>ltable_Released</th>\n",
       "      <th>rtable_Song_Name</th>\n",
       "      <th>rtable_Artist_Name</th>\n",
       "      <th>rtable_Album_Name</th>\n",
       "      <th>rtable_Genre</th>\n",
       "      <th>rtable_Price</th>\n",
       "      <th>rtable_CopyRight</th>\n",
       "      <th>rtable_Time</th>\n",
       "      <th>rtable_Released</th>\n",
       "      <th>id</th>\n",
       "      <th>alteredAttribute</th>\n",
       "      <th>label</th>\n",
       "    </tr>\n",
       "  </thead>\n",
       "  <tbody>\n",
       "    <tr>\n",
       "      <th>78</th>\n",
       "      <td>18</td>\n",
       "      <td>Brave Honest Beautiful</td>\n",
       "      <td>Fifth Harmony</td>\n",
       "      <td>Reflection ( Deluxe )</td>\n",
       "      <td>Pop</td>\n",
       "      <td>$ 1.29</td>\n",
       "      <td>( C ) 2012 Big Machine Records , LLC .</td>\n",
       "      <td>3:28</td>\n",
       "      <td>January 30 , 2015</td>\n",
       "      <td>You &amp; Me [ feat . Eliza Doolittle ]</td>\n",
       "      <td>Fifth Harmony</td>\n",
       "      <td>Reflection ( Deluxe )</td>\n",
       "      <td>Pop , Music , R&amp;B / Soul , Dance , Teen Pop , ...</td>\n",
       "      <td>$ 1.29</td>\n",
       "      <td>2014 , 2015 Simco Ltd. under exclusive license...</td>\n",
       "      <td>3:28</td>\n",
       "      <td>30-Jan-15</td>\n",
       "      <td>78</td>\n",
       "      <td>(Song_Name,)</td>\n",
       "      <td>0</td>\n",
       "    </tr>\n",
       "  </tbody>\n",
       "</table>\n",
       "</div>"
      ],
      "text/plain": [
       "    index        ltable_Song_Name ltable_Artist_Name      ltable_Album_Name  \\\n",
       "78     18  Brave Honest Beautiful      Fifth Harmony  Reflection ( Deluxe )   \n",
       "\n",
       "   ltable_Genre ltable_Price                        ltable_CopyRight  \\\n",
       "78          Pop       $ 1.29  ( C ) 2012 Big Machine Records , LLC .   \n",
       "\n",
       "   ltable_Time    ltable_Released                     rtable_Song_Name  \\\n",
       "78        3:28  January 30 , 2015  You & Me [ feat . Eliza Doolittle ]   \n",
       "\n",
       "   rtable_Artist_Name      rtable_Album_Name  \\\n",
       "78      Fifth Harmony  Reflection ( Deluxe )   \n",
       "\n",
       "                                         rtable_Genre rtable_Price  \\\n",
       "78  Pop , Music , R&B / Soul , Dance , Teen Pop , ...       $ 1.29   \n",
       "\n",
       "                                     rtable_CopyRight rtable_Time  \\\n",
       "78  2014 , 2015 Simco Ltd. under exclusive license...        3:28   \n",
       "\n",
       "   rtable_Released  id alteredAttribute  label  \n",
       "78       30-Jan-15  78     (Song_Name,)      0  "
      ]
     },
     "metadata": {},
     "output_type": "display_data"
    },
    {
     "name": "stdout",
     "output_type": "stream",
     "text": [
      "label ?0\n"
     ]
    },
    {
     "data": {
      "text/html": [
       "<div>\n",
       "<style scoped>\n",
       "    .dataframe tbody tr th:only-of-type {\n",
       "        vertical-align: middle;\n",
       "    }\n",
       "\n",
       "    .dataframe tbody tr th {\n",
       "        vertical-align: top;\n",
       "    }\n",
       "\n",
       "    .dataframe thead th {\n",
       "        text-align: right;\n",
       "    }\n",
       "</style>\n",
       "<table border=\"1\" class=\"dataframe\">\n",
       "  <thead>\n",
       "    <tr style=\"text-align: right;\">\n",
       "      <th></th>\n",
       "      <th>index</th>\n",
       "      <th>ltable_Song_Name</th>\n",
       "      <th>ltable_Artist_Name</th>\n",
       "      <th>ltable_Album_Name</th>\n",
       "      <th>ltable_Genre</th>\n",
       "      <th>ltable_Price</th>\n",
       "      <th>ltable_CopyRight</th>\n",
       "      <th>ltable_Time</th>\n",
       "      <th>ltable_Released</th>\n",
       "      <th>rtable_Song_Name</th>\n",
       "      <th>rtable_Artist_Name</th>\n",
       "      <th>rtable_Album_Name</th>\n",
       "      <th>rtable_Genre</th>\n",
       "      <th>rtable_Price</th>\n",
       "      <th>rtable_CopyRight</th>\n",
       "      <th>rtable_Time</th>\n",
       "      <th>rtable_Released</th>\n",
       "      <th>id</th>\n",
       "      <th>alteredAttribute</th>\n",
       "      <th>label</th>\n",
       "    </tr>\n",
       "  </thead>\n",
       "  <tbody>\n",
       "    <tr>\n",
       "      <th>79</th>\n",
       "      <td>19</td>\n",
       "      <td>Brave Honest Beautiful</td>\n",
       "      <td>Fifth Harmony</td>\n",
       "      <td>Reflection ( Deluxe )</td>\n",
       "      <td>Pop</td>\n",
       "      <td>$ 1.29</td>\n",
       "      <td>( C ) 2012 Big Machine Records , LLC .</td>\n",
       "      <td>3:28</td>\n",
       "      <td>January 30 , 2015</td>\n",
       "      <td>Brave Honest Beautiful ( feat . Meghan Trainor )</td>\n",
       "      <td>Fifth Harmony</td>\n",
       "      <td>Reflection ( Deluxe )</td>\n",
       "      <td>Pop , Music , R&amp;B / Soul , Dance , Teen Pop , ...</td>\n",
       "      <td>$ 1.29</td>\n",
       "      <td>2014 , 2015 Simco Ltd. under exclusive license...</td>\n",
       "      <td>4:27</td>\n",
       "      <td>30-Jan-15</td>\n",
       "      <td>79</td>\n",
       "      <td>(Time,)</td>\n",
       "      <td>1</td>\n",
       "    </tr>\n",
       "  </tbody>\n",
       "</table>\n",
       "</div>"
      ],
      "text/plain": [
       "    index        ltable_Song_Name ltable_Artist_Name      ltable_Album_Name  \\\n",
       "79     19  Brave Honest Beautiful      Fifth Harmony  Reflection ( Deluxe )   \n",
       "\n",
       "   ltable_Genre ltable_Price                        ltable_CopyRight  \\\n",
       "79          Pop       $ 1.29  ( C ) 2012 Big Machine Records , LLC .   \n",
       "\n",
       "   ltable_Time    ltable_Released  \\\n",
       "79        3:28  January 30 , 2015   \n",
       "\n",
       "                                    rtable_Song_Name rtable_Artist_Name  \\\n",
       "79  Brave Honest Beautiful ( feat . Meghan Trainor )      Fifth Harmony   \n",
       "\n",
       "        rtable_Album_Name                                       rtable_Genre  \\\n",
       "79  Reflection ( Deluxe )  Pop , Music , R&B / Soul , Dance , Teen Pop , ...   \n",
       "\n",
       "   rtable_Price                                   rtable_CopyRight  \\\n",
       "79       $ 1.29  2014 , 2015 Simco Ltd. under exclusive license...   \n",
       "\n",
       "   rtable_Time rtable_Released  id alteredAttribute  label  \n",
       "79        4:27       30-Jan-15  79          (Time,)      1  "
      ]
     },
     "metadata": {},
     "output_type": "display_data"
    },
    {
     "name": "stdout",
     "output_type": "stream",
     "text": [
      "label ?1\n"
     ]
    },
    {
     "data": {
      "text/html": [
       "<div>\n",
       "<style scoped>\n",
       "    .dataframe tbody tr th:only-of-type {\n",
       "        vertical-align: middle;\n",
       "    }\n",
       "\n",
       "    .dataframe tbody tr th {\n",
       "        vertical-align: top;\n",
       "    }\n",
       "\n",
       "    .dataframe thead th {\n",
       "        text-align: right;\n",
       "    }\n",
       "</style>\n",
       "<table border=\"1\" class=\"dataframe\">\n",
       "  <thead>\n",
       "    <tr style=\"text-align: right;\">\n",
       "      <th></th>\n",
       "      <th>index</th>\n",
       "      <th>ltable_Song_Name</th>\n",
       "      <th>ltable_Artist_Name</th>\n",
       "      <th>ltable_Album_Name</th>\n",
       "      <th>ltable_Genre</th>\n",
       "      <th>ltable_Price</th>\n",
       "      <th>ltable_CopyRight</th>\n",
       "      <th>ltable_Time</th>\n",
       "      <th>ltable_Released</th>\n",
       "      <th>rtable_Song_Name</th>\n",
       "      <th>rtable_Artist_Name</th>\n",
       "      <th>rtable_Album_Name</th>\n",
       "      <th>rtable_Genre</th>\n",
       "      <th>rtable_Price</th>\n",
       "      <th>rtable_CopyRight</th>\n",
       "      <th>rtable_Time</th>\n",
       "      <th>rtable_Released</th>\n",
       "      <th>id</th>\n",
       "      <th>alteredAttribute</th>\n",
       "      <th>label</th>\n",
       "    </tr>\n",
       "  </thead>\n",
       "  <tbody>\n",
       "    <tr>\n",
       "      <th>80</th>\n",
       "      <td>20</td>\n",
       "      <td>Brave Honest Beautiful</td>\n",
       "      <td>Fifth Harmony</td>\n",
       "      <td>Reflection ( Deluxe )</td>\n",
       "      <td>Pop</td>\n",
       "      <td>$ 1.29</td>\n",
       "      <td>( C ) 2012 Big Machine Records , LLC .</td>\n",
       "      <td>3:28</td>\n",
       "      <td>January 30 , 2015</td>\n",
       "      <td>Cameras [ Clean ]</td>\n",
       "      <td>Fifth Harmony</td>\n",
       "      <td>Reflection ( Deluxe )</td>\n",
       "      <td>Pop , Music , R&amp;B / Soul , Dance , Teen Pop , ...</td>\n",
       "      <td>$ 1.29</td>\n",
       "      <td>2014 , 2015 Simco Ltd. under exclusive license...</td>\n",
       "      <td>3:28</td>\n",
       "      <td>30-Jan-15</td>\n",
       "      <td>80</td>\n",
       "      <td>(Song_Name,)</td>\n",
       "      <td>0</td>\n",
       "    </tr>\n",
       "  </tbody>\n",
       "</table>\n",
       "</div>"
      ],
      "text/plain": [
       "    index        ltable_Song_Name ltable_Artist_Name      ltable_Album_Name  \\\n",
       "80     20  Brave Honest Beautiful      Fifth Harmony  Reflection ( Deluxe )   \n",
       "\n",
       "   ltable_Genre ltable_Price                        ltable_CopyRight  \\\n",
       "80          Pop       $ 1.29  ( C ) 2012 Big Machine Records , LLC .   \n",
       "\n",
       "   ltable_Time    ltable_Released   rtable_Song_Name rtable_Artist_Name  \\\n",
       "80        3:28  January 30 , 2015  Cameras [ Clean ]      Fifth Harmony   \n",
       "\n",
       "        rtable_Album_Name                                       rtable_Genre  \\\n",
       "80  Reflection ( Deluxe )  Pop , Music , R&B / Soul , Dance , Teen Pop , ...   \n",
       "\n",
       "   rtable_Price                                   rtable_CopyRight  \\\n",
       "80       $ 1.29  2014 , 2015 Simco Ltd. under exclusive license...   \n",
       "\n",
       "   rtable_Time rtable_Released  id alteredAttribute  label  \n",
       "80        3:28       30-Jan-15  80     (Song_Name,)      0  "
      ]
     },
     "metadata": {},
     "output_type": "display_data"
    },
    {
     "name": "stdout",
     "output_type": "stream",
     "text": [
      "label ?0\n"
     ]
    },
    {
     "data": {
      "text/html": [
       "<div>\n",
       "<style scoped>\n",
       "    .dataframe tbody tr th:only-of-type {\n",
       "        vertical-align: middle;\n",
       "    }\n",
       "\n",
       "    .dataframe tbody tr th {\n",
       "        vertical-align: top;\n",
       "    }\n",
       "\n",
       "    .dataframe thead th {\n",
       "        text-align: right;\n",
       "    }\n",
       "</style>\n",
       "<table border=\"1\" class=\"dataframe\">\n",
       "  <thead>\n",
       "    <tr style=\"text-align: right;\">\n",
       "      <th></th>\n",
       "      <th>index</th>\n",
       "      <th>ltable_Song_Name</th>\n",
       "      <th>ltable_Artist_Name</th>\n",
       "      <th>ltable_Album_Name</th>\n",
       "      <th>ltable_Genre</th>\n",
       "      <th>ltable_Price</th>\n",
       "      <th>ltable_CopyRight</th>\n",
       "      <th>ltable_Time</th>\n",
       "      <th>ltable_Released</th>\n",
       "      <th>rtable_Song_Name</th>\n",
       "      <th>rtable_Artist_Name</th>\n",
       "      <th>rtable_Album_Name</th>\n",
       "      <th>rtable_Genre</th>\n",
       "      <th>rtable_Price</th>\n",
       "      <th>rtable_CopyRight</th>\n",
       "      <th>rtable_Time</th>\n",
       "      <th>rtable_Released</th>\n",
       "      <th>id</th>\n",
       "      <th>alteredAttribute</th>\n",
       "      <th>label</th>\n",
       "    </tr>\n",
       "  </thead>\n",
       "  <tbody>\n",
       "    <tr>\n",
       "      <th>81</th>\n",
       "      <td>21</td>\n",
       "      <td>Brave Honest Beautiful</td>\n",
       "      <td>Fifth Harmony</td>\n",
       "      <td>Reflection ( Deluxe )</td>\n",
       "      <td>Pop</td>\n",
       "      <td>$ 1.29</td>\n",
       "      <td>( C ) 2012 Big Machine Records , LLC .</td>\n",
       "      <td>3:28</td>\n",
       "      <td>January 30 , 2015</td>\n",
       "      <td>Brave Honest Beautiful ( feat . Meghan Trainor )</td>\n",
       "      <td>Fifth Harmony</td>\n",
       "      <td>Reflection ( Deluxe )</td>\n",
       "      <td>Pop , Music , R&amp;B / Soul , Dance , Teen Pop , ...</td>\n",
       "      <td>$ 1.29</td>\n",
       "      <td>2014 , 2015 Simco Ltd. under exclusive license...</td>\n",
       "      <td>4:29</td>\n",
       "      <td>30-Jan-15</td>\n",
       "      <td>81</td>\n",
       "      <td>(Time,)</td>\n",
       "      <td>1</td>\n",
       "    </tr>\n",
       "  </tbody>\n",
       "</table>\n",
       "</div>"
      ],
      "text/plain": [
       "    index        ltable_Song_Name ltable_Artist_Name      ltable_Album_Name  \\\n",
       "81     21  Brave Honest Beautiful      Fifth Harmony  Reflection ( Deluxe )   \n",
       "\n",
       "   ltable_Genre ltable_Price                        ltable_CopyRight  \\\n",
       "81          Pop       $ 1.29  ( C ) 2012 Big Machine Records , LLC .   \n",
       "\n",
       "   ltable_Time    ltable_Released  \\\n",
       "81        3:28  January 30 , 2015   \n",
       "\n",
       "                                    rtable_Song_Name rtable_Artist_Name  \\\n",
       "81  Brave Honest Beautiful ( feat . Meghan Trainor )      Fifth Harmony   \n",
       "\n",
       "        rtable_Album_Name                                       rtable_Genre  \\\n",
       "81  Reflection ( Deluxe )  Pop , Music , R&B / Soul , Dance , Teen Pop , ...   \n",
       "\n",
       "   rtable_Price                                   rtable_CopyRight  \\\n",
       "81       $ 1.29  2014 , 2015 Simco Ltd. under exclusive license...   \n",
       "\n",
       "   rtable_Time rtable_Released  id alteredAttribute  label  \n",
       "81        4:29       30-Jan-15  81          (Time,)      1  "
      ]
     },
     "metadata": {},
     "output_type": "display_data"
    },
    {
     "name": "stdout",
     "output_type": "stream",
     "text": [
      "label ?1\n"
     ]
    },
    {
     "data": {
      "text/html": [
       "<div>\n",
       "<style scoped>\n",
       "    .dataframe tbody tr th:only-of-type {\n",
       "        vertical-align: middle;\n",
       "    }\n",
       "\n",
       "    .dataframe tbody tr th {\n",
       "        vertical-align: top;\n",
       "    }\n",
       "\n",
       "    .dataframe thead th {\n",
       "        text-align: right;\n",
       "    }\n",
       "</style>\n",
       "<table border=\"1\" class=\"dataframe\">\n",
       "  <thead>\n",
       "    <tr style=\"text-align: right;\">\n",
       "      <th></th>\n",
       "      <th>index</th>\n",
       "      <th>ltable_Song_Name</th>\n",
       "      <th>ltable_Artist_Name</th>\n",
       "      <th>ltable_Album_Name</th>\n",
       "      <th>ltable_Genre</th>\n",
       "      <th>ltable_Price</th>\n",
       "      <th>ltable_CopyRight</th>\n",
       "      <th>ltable_Time</th>\n",
       "      <th>ltable_Released</th>\n",
       "      <th>rtable_Song_Name</th>\n",
       "      <th>rtable_Artist_Name</th>\n",
       "      <th>rtable_Album_Name</th>\n",
       "      <th>rtable_Genre</th>\n",
       "      <th>rtable_Price</th>\n",
       "      <th>rtable_CopyRight</th>\n",
       "      <th>rtable_Time</th>\n",
       "      <th>rtable_Released</th>\n",
       "      <th>id</th>\n",
       "      <th>alteredAttribute</th>\n",
       "      <th>label</th>\n",
       "    </tr>\n",
       "  </thead>\n",
       "  <tbody>\n",
       "    <tr>\n",
       "      <th>82</th>\n",
       "      <td>22</td>\n",
       "      <td>You Gon na Fly</td>\n",
       "      <td>Keith Urban</td>\n",
       "      <td>Get Closer ( Deluxe Version )</td>\n",
       "      <td>Country</td>\n",
       "      <td>$ 1.29</td>\n",
       "      <td>( C ) 2011 Hit Red Records under exclusive lic...</td>\n",
       "      <td>3:36</td>\n",
       "      <td>February 22 , 2011</td>\n",
       "      <td>Still Pimpin ' ( Album Version ( Explicit ) ) ...</td>\n",
       "      <td>Keith Urban</td>\n",
       "      <td>Get Closer ( Deluxe Version )</td>\n",
       "      <td>Country , Music , Honky Tonk , Pop , Pop/Rock ...</td>\n",
       "      <td>$ 1.29</td>\n",
       "      <td>‰ ãÑ 2010 Hit Red Records under exclusive lice...</td>\n",
       "      <td>3:36</td>\n",
       "      <td>22-Feb-11</td>\n",
       "      <td>82</td>\n",
       "      <td>(Song_Name,)</td>\n",
       "      <td>0</td>\n",
       "    </tr>\n",
       "  </tbody>\n",
       "</table>\n",
       "</div>"
      ],
      "text/plain": [
       "    index ltable_Song_Name ltable_Artist_Name              ltable_Album_Name  \\\n",
       "82     22   You Gon na Fly        Keith Urban  Get Closer ( Deluxe Version )   \n",
       "\n",
       "   ltable_Genre ltable_Price  \\\n",
       "82      Country       $ 1.29   \n",
       "\n",
       "                                     ltable_CopyRight ltable_Time  \\\n",
       "82  ( C ) 2011 Hit Red Records under exclusive lic...        3:36   \n",
       "\n",
       "       ltable_Released                                   rtable_Song_Name  \\\n",
       "82  February 22 , 2011  Still Pimpin ' ( Album Version ( Explicit ) ) ...   \n",
       "\n",
       "   rtable_Artist_Name              rtable_Album_Name  \\\n",
       "82        Keith Urban  Get Closer ( Deluxe Version )   \n",
       "\n",
       "                                         rtable_Genre rtable_Price  \\\n",
       "82  Country , Music , Honky Tonk , Pop , Pop/Rock ...       $ 1.29   \n",
       "\n",
       "                                     rtable_CopyRight rtable_Time  \\\n",
       "82  ‰ ãÑ 2010 Hit Red Records under exclusive lice...        3:36   \n",
       "\n",
       "   rtable_Released  id alteredAttribute  label  \n",
       "82       22-Feb-11  82     (Song_Name,)      0  "
      ]
     },
     "metadata": {},
     "output_type": "display_data"
    },
    {
     "name": "stdout",
     "output_type": "stream",
     "text": [
      "label ?0\n"
     ]
    },
    {
     "data": {
      "text/html": [
       "<div>\n",
       "<style scoped>\n",
       "    .dataframe tbody tr th:only-of-type {\n",
       "        vertical-align: middle;\n",
       "    }\n",
       "\n",
       "    .dataframe tbody tr th {\n",
       "        vertical-align: top;\n",
       "    }\n",
       "\n",
       "    .dataframe thead th {\n",
       "        text-align: right;\n",
       "    }\n",
       "</style>\n",
       "<table border=\"1\" class=\"dataframe\">\n",
       "  <thead>\n",
       "    <tr style=\"text-align: right;\">\n",
       "      <th></th>\n",
       "      <th>index</th>\n",
       "      <th>ltable_Song_Name</th>\n",
       "      <th>ltable_Artist_Name</th>\n",
       "      <th>ltable_Album_Name</th>\n",
       "      <th>ltable_Genre</th>\n",
       "      <th>ltable_Price</th>\n",
       "      <th>ltable_CopyRight</th>\n",
       "      <th>ltable_Time</th>\n",
       "      <th>ltable_Released</th>\n",
       "      <th>rtable_Song_Name</th>\n",
       "      <th>rtable_Artist_Name</th>\n",
       "      <th>rtable_Album_Name</th>\n",
       "      <th>rtable_Genre</th>\n",
       "      <th>rtable_Price</th>\n",
       "      <th>rtable_CopyRight</th>\n",
       "      <th>rtable_Time</th>\n",
       "      <th>rtable_Released</th>\n",
       "      <th>id</th>\n",
       "      <th>alteredAttribute</th>\n",
       "      <th>label</th>\n",
       "    </tr>\n",
       "  </thead>\n",
       "  <tbody>\n",
       "    <tr>\n",
       "      <th>83</th>\n",
       "      <td>23</td>\n",
       "      <td>I Have Seen The Rain ( Featuring James T. Moor...</td>\n",
       "      <td>P!nk</td>\n",
       "      <td>I 'm Not Dead [ Explicit ]</td>\n",
       "      <td>Dance &amp; Electronic , Pop , R&amp;B</td>\n",
       "      <td>$ 0.99</td>\n",
       "      <td>( C ) 2009 Foo &amp; Blu , LLC under exclusive Lic...</td>\n",
       "      <td>3:29</td>\n",
       "      <td>April 4 , 2006</td>\n",
       "      <td>I Have Seen the Rain ( Featuring James T. Moore )</td>\n",
       "      <td>P!nk featuring James T. Moore</td>\n",
       "      <td>I 'm Not Dead</td>\n",
       "      <td>Pop , Music , Electronic , R&amp;B / Soul , Pop/Ro...</td>\n",
       "      <td>$ 0.99</td>\n",
       "      <td>2006 RCA/JIVE Label Group , a unit of Sony Mus...</td>\n",
       "      <td>3:47</td>\n",
       "      <td>4-Mar-06</td>\n",
       "      <td>83</td>\n",
       "      <td>(Time,)</td>\n",
       "      <td>0</td>\n",
       "    </tr>\n",
       "  </tbody>\n",
       "</table>\n",
       "</div>"
      ],
      "text/plain": [
       "    index                                   ltable_Song_Name  \\\n",
       "83     23  I Have Seen The Rain ( Featuring James T. Moor...   \n",
       "\n",
       "   ltable_Artist_Name           ltable_Album_Name  \\\n",
       "83               P!nk  I 'm Not Dead [ Explicit ]   \n",
       "\n",
       "                      ltable_Genre ltable_Price  \\\n",
       "83  Dance & Electronic , Pop , R&B       $ 0.99   \n",
       "\n",
       "                                     ltable_CopyRight ltable_Time  \\\n",
       "83  ( C ) 2009 Foo & Blu , LLC under exclusive Lic...        3:29   \n",
       "\n",
       "   ltable_Released                                   rtable_Song_Name  \\\n",
       "83  April 4 , 2006  I Have Seen the Rain ( Featuring James T. Moore )   \n",
       "\n",
       "               rtable_Artist_Name rtable_Album_Name  \\\n",
       "83  P!nk featuring James T. Moore     I 'm Not Dead   \n",
       "\n",
       "                                         rtable_Genre rtable_Price  \\\n",
       "83  Pop , Music , Electronic , R&B / Soul , Pop/Ro...       $ 0.99   \n",
       "\n",
       "                                     rtable_CopyRight rtable_Time  \\\n",
       "83  2006 RCA/JIVE Label Group , a unit of Sony Mus...        3:47   \n",
       "\n",
       "   rtable_Released  id alteredAttribute  label  \n",
       "83        4-Mar-06  83          (Time,)      0  "
      ]
     },
     "metadata": {},
     "output_type": "display_data"
    },
    {
     "name": "stdout",
     "output_type": "stream",
     "text": [
      "label ?1\n"
     ]
    },
    {
     "data": {
      "text/html": [
       "<div>\n",
       "<style scoped>\n",
       "    .dataframe tbody tr th:only-of-type {\n",
       "        vertical-align: middle;\n",
       "    }\n",
       "\n",
       "    .dataframe tbody tr th {\n",
       "        vertical-align: top;\n",
       "    }\n",
       "\n",
       "    .dataframe thead th {\n",
       "        text-align: right;\n",
       "    }\n",
       "</style>\n",
       "<table border=\"1\" class=\"dataframe\">\n",
       "  <thead>\n",
       "    <tr style=\"text-align: right;\">\n",
       "      <th></th>\n",
       "      <th>index</th>\n",
       "      <th>ltable_Song_Name</th>\n",
       "      <th>ltable_Artist_Name</th>\n",
       "      <th>ltable_Album_Name</th>\n",
       "      <th>ltable_Genre</th>\n",
       "      <th>ltable_Price</th>\n",
       "      <th>ltable_CopyRight</th>\n",
       "      <th>ltable_Time</th>\n",
       "      <th>ltable_Released</th>\n",
       "      <th>rtable_Song_Name</th>\n",
       "      <th>rtable_Artist_Name</th>\n",
       "      <th>rtable_Album_Name</th>\n",
       "      <th>rtable_Genre</th>\n",
       "      <th>rtable_Price</th>\n",
       "      <th>rtable_CopyRight</th>\n",
       "      <th>rtable_Time</th>\n",
       "      <th>rtable_Released</th>\n",
       "      <th>id</th>\n",
       "      <th>alteredAttribute</th>\n",
       "      <th>label</th>\n",
       "    </tr>\n",
       "  </thead>\n",
       "  <tbody>\n",
       "    <tr>\n",
       "      <th>84</th>\n",
       "      <td>24</td>\n",
       "      <td>Whateva ( feat . Monty )</td>\n",
       "      <td>Fetty Wap</td>\n",
       "      <td>Fetty Wap ( Deluxe )</td>\n",
       "      <td>Hip-Hop/Rap , Music , Rap</td>\n",
       "      <td>Album Only</td>\n",
       "      <td>2015 300 Entertainment/RGF Productions</td>\n",
       "      <td>5:11</td>\n",
       "      <td>NaN</td>\n",
       "      <td>Whateva ( feat . Monty ) [ Explicit ]</td>\n",
       "      <td>Fetty Wap</td>\n",
       "      <td>Fetty Wap ( Deluxe ) [ Explicit ]</td>\n",
       "      <td>Rap &amp; Hip-Hop</td>\n",
       "      <td>$ 1.29</td>\n",
       "      <td>( C ) 2000 Mute Records Ltd. , a BMG Company ,...</td>\n",
       "      <td>4:32</td>\n",
       "      <td>September 25 , 2015</td>\n",
       "      <td>84</td>\n",
       "      <td>(Time,)</td>\n",
       "      <td>0</td>\n",
       "    </tr>\n",
       "  </tbody>\n",
       "</table>\n",
       "</div>"
      ],
      "text/plain": [
       "    index          ltable_Song_Name ltable_Artist_Name     ltable_Album_Name  \\\n",
       "84     24  Whateva ( feat . Monty )          Fetty Wap  Fetty Wap ( Deluxe )   \n",
       "\n",
       "                 ltable_Genre ltable_Price  \\\n",
       "84  Hip-Hop/Rap , Music , Rap   Album Only   \n",
       "\n",
       "                          ltable_CopyRight ltable_Time ltable_Released  \\\n",
       "84  2015 300 Entertainment/RGF Productions        5:11             NaN   \n",
       "\n",
       "                         rtable_Song_Name rtable_Artist_Name  \\\n",
       "84  Whateva ( feat . Monty ) [ Explicit ]          Fetty Wap   \n",
       "\n",
       "                    rtable_Album_Name   rtable_Genre rtable_Price  \\\n",
       "84  Fetty Wap ( Deluxe ) [ Explicit ]  Rap & Hip-Hop       $ 1.29   \n",
       "\n",
       "                                     rtable_CopyRight rtable_Time  \\\n",
       "84  ( C ) 2000 Mute Records Ltd. , a BMG Company ,...        4:32   \n",
       "\n",
       "        rtable_Released  id alteredAttribute  label  \n",
       "84  September 25 , 2015  84          (Time,)      0  "
      ]
     },
     "metadata": {},
     "output_type": "display_data"
    },
    {
     "name": "stdout",
     "output_type": "stream",
     "text": [
      "label ?1\n"
     ]
    },
    {
     "data": {
      "text/html": [
       "<div>\n",
       "<style scoped>\n",
       "    .dataframe tbody tr th:only-of-type {\n",
       "        vertical-align: middle;\n",
       "    }\n",
       "\n",
       "    .dataframe tbody tr th {\n",
       "        vertical-align: top;\n",
       "    }\n",
       "\n",
       "    .dataframe thead th {\n",
       "        text-align: right;\n",
       "    }\n",
       "</style>\n",
       "<table border=\"1\" class=\"dataframe\">\n",
       "  <thead>\n",
       "    <tr style=\"text-align: right;\">\n",
       "      <th></th>\n",
       "      <th>index</th>\n",
       "      <th>ltable_Song_Name</th>\n",
       "      <th>ltable_Artist_Name</th>\n",
       "      <th>ltable_Album_Name</th>\n",
       "      <th>ltable_Genre</th>\n",
       "      <th>ltable_Price</th>\n",
       "      <th>ltable_CopyRight</th>\n",
       "      <th>ltable_Time</th>\n",
       "      <th>ltable_Released</th>\n",
       "      <th>rtable_Song_Name</th>\n",
       "      <th>rtable_Artist_Name</th>\n",
       "      <th>rtable_Album_Name</th>\n",
       "      <th>rtable_Genre</th>\n",
       "      <th>rtable_Price</th>\n",
       "      <th>rtable_CopyRight</th>\n",
       "      <th>rtable_Time</th>\n",
       "      <th>rtable_Released</th>\n",
       "      <th>id</th>\n",
       "      <th>alteredAttribute</th>\n",
       "      <th>label</th>\n",
       "    </tr>\n",
       "  </thead>\n",
       "  <tbody>\n",
       "    <tr>\n",
       "      <th>85</th>\n",
       "      <td>25</td>\n",
       "      <td>Whateva ( feat . Monty ) [ Explicit ]</td>\n",
       "      <td>Fetty Wap</td>\n",
       "      <td>Fetty Wap ( Deluxe ) [ Explicit ]</td>\n",
       "      <td>Rap &amp; Hip-Hop</td>\n",
       "      <td>$ 1.29</td>\n",
       "      <td>( C ) 2000 Mute Records Ltd. , a BMG Company ,...</td>\n",
       "      <td>5:11</td>\n",
       "      <td>September 25 , 2015</td>\n",
       "      <td>No Money no Love ( feat . Elliphant &amp; Ms. Dyna...</td>\n",
       "      <td>Fetty Wap</td>\n",
       "      <td>Fetty Wap ( Deluxe )</td>\n",
       "      <td>Hip-Hop/Rap , Music , Rap</td>\n",
       "      <td>Album Only</td>\n",
       "      <td>2015 300 Entertainment/RGF Productions</td>\n",
       "      <td>5:11</td>\n",
       "      <td>NaN</td>\n",
       "      <td>85</td>\n",
       "      <td>(Song_Name,)</td>\n",
       "      <td>0</td>\n",
       "    </tr>\n",
       "  </tbody>\n",
       "</table>\n",
       "</div>"
      ],
      "text/plain": [
       "    index                       ltable_Song_Name ltable_Artist_Name  \\\n",
       "85     25  Whateva ( feat . Monty ) [ Explicit ]          Fetty Wap   \n",
       "\n",
       "                    ltable_Album_Name   ltable_Genre ltable_Price  \\\n",
       "85  Fetty Wap ( Deluxe ) [ Explicit ]  Rap & Hip-Hop       $ 1.29   \n",
       "\n",
       "                                     ltable_CopyRight ltable_Time  \\\n",
       "85  ( C ) 2000 Mute Records Ltd. , a BMG Company ,...        5:11   \n",
       "\n",
       "        ltable_Released                                   rtable_Song_Name  \\\n",
       "85  September 25 , 2015  No Money no Love ( feat . Elliphant & Ms. Dyna...   \n",
       "\n",
       "   rtable_Artist_Name     rtable_Album_Name               rtable_Genre  \\\n",
       "85          Fetty Wap  Fetty Wap ( Deluxe )  Hip-Hop/Rap , Music , Rap   \n",
       "\n",
       "   rtable_Price                        rtable_CopyRight rtable_Time  \\\n",
       "85   Album Only  2015 300 Entertainment/RGF Productions        5:11   \n",
       "\n",
       "   rtable_Released  id alteredAttribute  label  \n",
       "85             NaN  85     (Song_Name,)      0  "
      ]
     },
     "metadata": {},
     "output_type": "display_data"
    },
    {
     "name": "stdout",
     "output_type": "stream",
     "text": [
      "label ?0\n"
     ]
    },
    {
     "data": {
      "text/html": [
       "<div>\n",
       "<style scoped>\n",
       "    .dataframe tbody tr th:only-of-type {\n",
       "        vertical-align: middle;\n",
       "    }\n",
       "\n",
       "    .dataframe tbody tr th {\n",
       "        vertical-align: top;\n",
       "    }\n",
       "\n",
       "    .dataframe thead th {\n",
       "        text-align: right;\n",
       "    }\n",
       "</style>\n",
       "<table border=\"1\" class=\"dataframe\">\n",
       "  <thead>\n",
       "    <tr style=\"text-align: right;\">\n",
       "      <th></th>\n",
       "      <th>index</th>\n",
       "      <th>ltable_Song_Name</th>\n",
       "      <th>ltable_Artist_Name</th>\n",
       "      <th>ltable_Album_Name</th>\n",
       "      <th>ltable_Genre</th>\n",
       "      <th>ltable_Price</th>\n",
       "      <th>ltable_CopyRight</th>\n",
       "      <th>ltable_Time</th>\n",
       "      <th>ltable_Released</th>\n",
       "      <th>rtable_Song_Name</th>\n",
       "      <th>rtable_Artist_Name</th>\n",
       "      <th>rtable_Album_Name</th>\n",
       "      <th>rtable_Genre</th>\n",
       "      <th>rtable_Price</th>\n",
       "      <th>rtable_CopyRight</th>\n",
       "      <th>rtable_Time</th>\n",
       "      <th>rtable_Released</th>\n",
       "      <th>id</th>\n",
       "      <th>alteredAttribute</th>\n",
       "      <th>label</th>\n",
       "    </tr>\n",
       "  </thead>\n",
       "  <tbody>\n",
       "    <tr>\n",
       "      <th>86</th>\n",
       "      <td>26</td>\n",
       "      <td>Whateva ( feat . Monty ) [ Explicit ]</td>\n",
       "      <td>Fetty Wap</td>\n",
       "      <td>Fetty Wap ( Deluxe ) [ Explicit ]</td>\n",
       "      <td>Rap &amp; Hip-Hop</td>\n",
       "      <td>$ 1.29</td>\n",
       "      <td>( C ) 2000 Mute Records Ltd. , a BMG Company ,...</td>\n",
       "      <td>5:11</td>\n",
       "      <td>September 25 , 2015</td>\n",
       "      <td>Whateva ( feat . Monty )</td>\n",
       "      <td>Fetty Wap</td>\n",
       "      <td>Fetty Wap ( Deluxe )</td>\n",
       "      <td>Hip-Hop/Rap , Music , Rap</td>\n",
       "      <td>Album Only</td>\n",
       "      <td>2015 300 Entertainment/RGF Productions</td>\n",
       "      <td>3:57</td>\n",
       "      <td>NaN</td>\n",
       "      <td>86</td>\n",
       "      <td>(Time,)</td>\n",
       "      <td>0</td>\n",
       "    </tr>\n",
       "  </tbody>\n",
       "</table>\n",
       "</div>"
      ],
      "text/plain": [
       "    index                       ltable_Song_Name ltable_Artist_Name  \\\n",
       "86     26  Whateva ( feat . Monty ) [ Explicit ]          Fetty Wap   \n",
       "\n",
       "                    ltable_Album_Name   ltable_Genre ltable_Price  \\\n",
       "86  Fetty Wap ( Deluxe ) [ Explicit ]  Rap & Hip-Hop       $ 1.29   \n",
       "\n",
       "                                     ltable_CopyRight ltable_Time  \\\n",
       "86  ( C ) 2000 Mute Records Ltd. , a BMG Company ,...        5:11   \n",
       "\n",
       "        ltable_Released          rtable_Song_Name rtable_Artist_Name  \\\n",
       "86  September 25 , 2015  Whateva ( feat . Monty )          Fetty Wap   \n",
       "\n",
       "       rtable_Album_Name               rtable_Genre rtable_Price  \\\n",
       "86  Fetty Wap ( Deluxe )  Hip-Hop/Rap , Music , Rap   Album Only   \n",
       "\n",
       "                          rtable_CopyRight rtable_Time rtable_Released  id  \\\n",
       "86  2015 300 Entertainment/RGF Productions        3:57             NaN  86   \n",
       "\n",
       "   alteredAttribute  label  \n",
       "86          (Time,)      0  "
      ]
     },
     "metadata": {},
     "output_type": "display_data"
    },
    {
     "name": "stdout",
     "output_type": "stream",
     "text": [
      "label ?1\n"
     ]
    },
    {
     "data": {
      "text/html": [
       "<div>\n",
       "<style scoped>\n",
       "    .dataframe tbody tr th:only-of-type {\n",
       "        vertical-align: middle;\n",
       "    }\n",
       "\n",
       "    .dataframe tbody tr th {\n",
       "        vertical-align: top;\n",
       "    }\n",
       "\n",
       "    .dataframe thead th {\n",
       "        text-align: right;\n",
       "    }\n",
       "</style>\n",
       "<table border=\"1\" class=\"dataframe\">\n",
       "  <thead>\n",
       "    <tr style=\"text-align: right;\">\n",
       "      <th></th>\n",
       "      <th>index</th>\n",
       "      <th>ltable_Song_Name</th>\n",
       "      <th>ltable_Artist_Name</th>\n",
       "      <th>ltable_Album_Name</th>\n",
       "      <th>ltable_Genre</th>\n",
       "      <th>ltable_Price</th>\n",
       "      <th>ltable_CopyRight</th>\n",
       "      <th>ltable_Time</th>\n",
       "      <th>ltable_Released</th>\n",
       "      <th>rtable_Song_Name</th>\n",
       "      <th>rtable_Artist_Name</th>\n",
       "      <th>rtable_Album_Name</th>\n",
       "      <th>rtable_Genre</th>\n",
       "      <th>rtable_Price</th>\n",
       "      <th>rtable_CopyRight</th>\n",
       "      <th>rtable_Time</th>\n",
       "      <th>rtable_Released</th>\n",
       "      <th>id</th>\n",
       "      <th>alteredAttribute</th>\n",
       "      <th>label</th>\n",
       "    </tr>\n",
       "  </thead>\n",
       "  <tbody>\n",
       "    <tr>\n",
       "      <th>87</th>\n",
       "      <td>27</td>\n",
       "      <td>Whateva ( feat . Monty ) [ Explicit ]</td>\n",
       "      <td>Fetty Wap</td>\n",
       "      <td>Fetty Wap ( Deluxe ) [ Explicit ]</td>\n",
       "      <td>Rap &amp; Hip-Hop</td>\n",
       "      <td>$ 1.29</td>\n",
       "      <td>( C ) 2000 Mute Records Ltd. , a BMG Company ,...</td>\n",
       "      <td>5:11</td>\n",
       "      <td>September 25 , 2015</td>\n",
       "      <td>Whateva ( feat . Monty )</td>\n",
       "      <td>Fetty Wap</td>\n",
       "      <td>Fetty Wap ( Deluxe )</td>\n",
       "      <td>Hip-Hop/Rap , Music , Rap</td>\n",
       "      <td>Album Only</td>\n",
       "      <td>2015 300 Entertainment/RGF Productions</td>\n",
       "      <td>0:24</td>\n",
       "      <td>NaN</td>\n",
       "      <td>87</td>\n",
       "      <td>(Time,)</td>\n",
       "      <td>0</td>\n",
       "    </tr>\n",
       "  </tbody>\n",
       "</table>\n",
       "</div>"
      ],
      "text/plain": [
       "    index                       ltable_Song_Name ltable_Artist_Name  \\\n",
       "87     27  Whateva ( feat . Monty ) [ Explicit ]          Fetty Wap   \n",
       "\n",
       "                    ltable_Album_Name   ltable_Genre ltable_Price  \\\n",
       "87  Fetty Wap ( Deluxe ) [ Explicit ]  Rap & Hip-Hop       $ 1.29   \n",
       "\n",
       "                                     ltable_CopyRight ltable_Time  \\\n",
       "87  ( C ) 2000 Mute Records Ltd. , a BMG Company ,...        5:11   \n",
       "\n",
       "        ltable_Released          rtable_Song_Name rtable_Artist_Name  \\\n",
       "87  September 25 , 2015  Whateva ( feat . Monty )          Fetty Wap   \n",
       "\n",
       "       rtable_Album_Name               rtable_Genre rtable_Price  \\\n",
       "87  Fetty Wap ( Deluxe )  Hip-Hop/Rap , Music , Rap   Album Only   \n",
       "\n",
       "                          rtable_CopyRight rtable_Time rtable_Released  id  \\\n",
       "87  2015 300 Entertainment/RGF Productions        0:24             NaN  87   \n",
       "\n",
       "   alteredAttribute  label  \n",
       "87          (Time,)      0  "
      ]
     },
     "metadata": {},
     "output_type": "display_data"
    },
    {
     "name": "stdout",
     "output_type": "stream",
     "text": [
      "label ?1\n"
     ]
    },
    {
     "data": {
      "text/html": [
       "<div>\n",
       "<style scoped>\n",
       "    .dataframe tbody tr th:only-of-type {\n",
       "        vertical-align: middle;\n",
       "    }\n",
       "\n",
       "    .dataframe tbody tr th {\n",
       "        vertical-align: top;\n",
       "    }\n",
       "\n",
       "    .dataframe thead th {\n",
       "        text-align: right;\n",
       "    }\n",
       "</style>\n",
       "<table border=\"1\" class=\"dataframe\">\n",
       "  <thead>\n",
       "    <tr style=\"text-align: right;\">\n",
       "      <th></th>\n",
       "      <th>index</th>\n",
       "      <th>ltable_Song_Name</th>\n",
       "      <th>ltable_Artist_Name</th>\n",
       "      <th>ltable_Album_Name</th>\n",
       "      <th>ltable_Genre</th>\n",
       "      <th>ltable_Price</th>\n",
       "      <th>ltable_CopyRight</th>\n",
       "      <th>ltable_Time</th>\n",
       "      <th>ltable_Released</th>\n",
       "      <th>rtable_Song_Name</th>\n",
       "      <th>rtable_Artist_Name</th>\n",
       "      <th>rtable_Album_Name</th>\n",
       "      <th>rtable_Genre</th>\n",
       "      <th>rtable_Price</th>\n",
       "      <th>rtable_CopyRight</th>\n",
       "      <th>rtable_Time</th>\n",
       "      <th>rtable_Released</th>\n",
       "      <th>id</th>\n",
       "      <th>alteredAttribute</th>\n",
       "      <th>label</th>\n",
       "    </tr>\n",
       "  </thead>\n",
       "  <tbody>\n",
       "    <tr>\n",
       "      <th>88</th>\n",
       "      <td>28</td>\n",
       "      <td>Whateva ( feat . Monty ) [ Explicit ]</td>\n",
       "      <td>Fetty Wap</td>\n",
       "      <td>Fetty Wap ( Deluxe ) [ Explicit ]</td>\n",
       "      <td>Rap &amp; Hip-Hop</td>\n",
       "      <td>$ 1.29</td>\n",
       "      <td>( C ) 2000 Mute Records Ltd. , a BMG Company ,...</td>\n",
       "      <td>5:11</td>\n",
       "      <td>September 25 , 2015</td>\n",
       "      <td>We Dem Boyz Remix ( feat . Rick Ross , ScHoolb...</td>\n",
       "      <td>Fetty Wap</td>\n",
       "      <td>Fetty Wap ( Deluxe )</td>\n",
       "      <td>Hip-Hop/Rap , Music , Rap</td>\n",
       "      <td>Album Only</td>\n",
       "      <td>2015 300 Entertainment/RGF Productions</td>\n",
       "      <td>5:11</td>\n",
       "      <td>NaN</td>\n",
       "      <td>88</td>\n",
       "      <td>(Song_Name,)</td>\n",
       "      <td>0</td>\n",
       "    </tr>\n",
       "  </tbody>\n",
       "</table>\n",
       "</div>"
      ],
      "text/plain": [
       "    index                       ltable_Song_Name ltable_Artist_Name  \\\n",
       "88     28  Whateva ( feat . Monty ) [ Explicit ]          Fetty Wap   \n",
       "\n",
       "                    ltable_Album_Name   ltable_Genre ltable_Price  \\\n",
       "88  Fetty Wap ( Deluxe ) [ Explicit ]  Rap & Hip-Hop       $ 1.29   \n",
       "\n",
       "                                     ltable_CopyRight ltable_Time  \\\n",
       "88  ( C ) 2000 Mute Records Ltd. , a BMG Company ,...        5:11   \n",
       "\n",
       "        ltable_Released                                   rtable_Song_Name  \\\n",
       "88  September 25 , 2015  We Dem Boyz Remix ( feat . Rick Ross , ScHoolb...   \n",
       "\n",
       "   rtable_Artist_Name     rtable_Album_Name               rtable_Genre  \\\n",
       "88          Fetty Wap  Fetty Wap ( Deluxe )  Hip-Hop/Rap , Music , Rap   \n",
       "\n",
       "   rtable_Price                        rtable_CopyRight rtable_Time  \\\n",
       "88   Album Only  2015 300 Entertainment/RGF Productions        5:11   \n",
       "\n",
       "   rtable_Released  id alteredAttribute  label  \n",
       "88             NaN  88     (Song_Name,)      0  "
      ]
     },
     "metadata": {},
     "output_type": "display_data"
    },
    {
     "name": "stdout",
     "output_type": "stream",
     "text": [
      "label ?0\n"
     ]
    },
    {
     "data": {
      "text/html": [
       "<div>\n",
       "<style scoped>\n",
       "    .dataframe tbody tr th:only-of-type {\n",
       "        vertical-align: middle;\n",
       "    }\n",
       "\n",
       "    .dataframe tbody tr th {\n",
       "        vertical-align: top;\n",
       "    }\n",
       "\n",
       "    .dataframe thead th {\n",
       "        text-align: right;\n",
       "    }\n",
       "</style>\n",
       "<table border=\"1\" class=\"dataframe\">\n",
       "  <thead>\n",
       "    <tr style=\"text-align: right;\">\n",
       "      <th></th>\n",
       "      <th>index</th>\n",
       "      <th>ltable_Song_Name</th>\n",
       "      <th>ltable_Artist_Name</th>\n",
       "      <th>ltable_Album_Name</th>\n",
       "      <th>ltable_Genre</th>\n",
       "      <th>ltable_Price</th>\n",
       "      <th>ltable_CopyRight</th>\n",
       "      <th>ltable_Time</th>\n",
       "      <th>ltable_Released</th>\n",
       "      <th>rtable_Song_Name</th>\n",
       "      <th>rtable_Artist_Name</th>\n",
       "      <th>rtable_Album_Name</th>\n",
       "      <th>rtable_Genre</th>\n",
       "      <th>rtable_Price</th>\n",
       "      <th>rtable_CopyRight</th>\n",
       "      <th>rtable_Time</th>\n",
       "      <th>rtable_Released</th>\n",
       "      <th>id</th>\n",
       "      <th>alteredAttribute</th>\n",
       "      <th>label</th>\n",
       "    </tr>\n",
       "  </thead>\n",
       "  <tbody>\n",
       "    <tr>\n",
       "      <th>89</th>\n",
       "      <td>29</td>\n",
       "      <td>Whateva ( feat . Monty ) [ Explicit ]</td>\n",
       "      <td>Fetty Wap</td>\n",
       "      <td>Fetty Wap ( Deluxe ) [ Explicit ]</td>\n",
       "      <td>Rap &amp; Hip-Hop</td>\n",
       "      <td>$ 1.29</td>\n",
       "      <td>( C ) 2000 Mute Records Ltd. , a BMG Company ,...</td>\n",
       "      <td>5:11</td>\n",
       "      <td>September 25 , 2015</td>\n",
       "      <td>Whateva ( feat . Monty )</td>\n",
       "      <td>Fetty Wap</td>\n",
       "      <td>Fetty Wap ( Deluxe )</td>\n",
       "      <td>Hip-Hop/Rap , Music , Rap</td>\n",
       "      <td>Album Only</td>\n",
       "      <td>2015 300 Entertainment/RGF Productions</td>\n",
       "      <td>5:19</td>\n",
       "      <td>NaN</td>\n",
       "      <td>89</td>\n",
       "      <td>(Time,)</td>\n",
       "      <td>0</td>\n",
       "    </tr>\n",
       "  </tbody>\n",
       "</table>\n",
       "</div>"
      ],
      "text/plain": [
       "    index                       ltable_Song_Name ltable_Artist_Name  \\\n",
       "89     29  Whateva ( feat . Monty ) [ Explicit ]          Fetty Wap   \n",
       "\n",
       "                    ltable_Album_Name   ltable_Genre ltable_Price  \\\n",
       "89  Fetty Wap ( Deluxe ) [ Explicit ]  Rap & Hip-Hop       $ 1.29   \n",
       "\n",
       "                                     ltable_CopyRight ltable_Time  \\\n",
       "89  ( C ) 2000 Mute Records Ltd. , a BMG Company ,...        5:11   \n",
       "\n",
       "        ltable_Released          rtable_Song_Name rtable_Artist_Name  \\\n",
       "89  September 25 , 2015  Whateva ( feat . Monty )          Fetty Wap   \n",
       "\n",
       "       rtable_Album_Name               rtable_Genre rtable_Price  \\\n",
       "89  Fetty Wap ( Deluxe )  Hip-Hop/Rap , Music , Rap   Album Only   \n",
       "\n",
       "                          rtable_CopyRight rtable_Time rtable_Released  id  \\\n",
       "89  2015 300 Entertainment/RGF Productions        5:19             NaN  89   \n",
       "\n",
       "   alteredAttribute  label  \n",
       "89          (Time,)      0  "
      ]
     },
     "metadata": {},
     "output_type": "display_data"
    },
    {
     "name": "stdout",
     "output_type": "stream",
     "text": [
      "label ?1\n"
     ]
    },
    {
     "data": {
      "text/html": [
       "<div>\n",
       "<style scoped>\n",
       "    .dataframe tbody tr th:only-of-type {\n",
       "        vertical-align: middle;\n",
       "    }\n",
       "\n",
       "    .dataframe tbody tr th {\n",
       "        vertical-align: top;\n",
       "    }\n",
       "\n",
       "    .dataframe thead th {\n",
       "        text-align: right;\n",
       "    }\n",
       "</style>\n",
       "<table border=\"1\" class=\"dataframe\">\n",
       "  <thead>\n",
       "    <tr style=\"text-align: right;\">\n",
       "      <th></th>\n",
       "      <th>index</th>\n",
       "      <th>ltable_Song_Name</th>\n",
       "      <th>ltable_Artist_Name</th>\n",
       "      <th>ltable_Album_Name</th>\n",
       "      <th>ltable_Genre</th>\n",
       "      <th>ltable_Price</th>\n",
       "      <th>ltable_CopyRight</th>\n",
       "      <th>ltable_Time</th>\n",
       "      <th>ltable_Released</th>\n",
       "      <th>rtable_Song_Name</th>\n",
       "      <th>rtable_Artist_Name</th>\n",
       "      <th>rtable_Album_Name</th>\n",
       "      <th>rtable_Genre</th>\n",
       "      <th>rtable_Price</th>\n",
       "      <th>rtable_CopyRight</th>\n",
       "      <th>rtable_Time</th>\n",
       "      <th>rtable_Released</th>\n",
       "      <th>id</th>\n",
       "      <th>alteredAttribute</th>\n",
       "      <th>label</th>\n",
       "    </tr>\n",
       "  </thead>\n",
       "  <tbody>\n",
       "    <tr>\n",
       "      <th>90</th>\n",
       "      <td>30</td>\n",
       "      <td>Through the Ghost</td>\n",
       "      <td>Shinedown</td>\n",
       "      <td>The Studio Album Collection</td>\n",
       "      <td>Rock</td>\n",
       "      <td>$ 1.29</td>\n",
       "      <td>2013 Atlantic Recording Corporation for the Un...</td>\n",
       "      <td>4:01</td>\n",
       "      <td>November 8 , 2013</td>\n",
       "      <td>Through the Ghost</td>\n",
       "      <td>Shinedown</td>\n",
       "      <td>The Studio Album Collection</td>\n",
       "      <td>Rock , Music</td>\n",
       "      <td>$ 1.29</td>\n",
       "      <td>2013 Atlantic Recording Corporation for the Un...</td>\n",
       "      <td>3:23</td>\n",
       "      <td>8-Nov-13</td>\n",
       "      <td>90</td>\n",
       "      <td>(Time,)</td>\n",
       "      <td>0</td>\n",
       "    </tr>\n",
       "  </tbody>\n",
       "</table>\n",
       "</div>"
      ],
      "text/plain": [
       "    index   ltable_Song_Name ltable_Artist_Name            ltable_Album_Name  \\\n",
       "90     30  Through the Ghost          Shinedown  The Studio Album Collection   \n",
       "\n",
       "   ltable_Genre ltable_Price  \\\n",
       "90         Rock       $ 1.29   \n",
       "\n",
       "                                     ltable_CopyRight ltable_Time  \\\n",
       "90  2013 Atlantic Recording Corporation for the Un...        4:01   \n",
       "\n",
       "      ltable_Released   rtable_Song_Name rtable_Artist_Name  \\\n",
       "90  November 8 , 2013  Through the Ghost          Shinedown   \n",
       "\n",
       "              rtable_Album_Name  rtable_Genre rtable_Price  \\\n",
       "90  The Studio Album Collection  Rock , Music       $ 1.29   \n",
       "\n",
       "                                     rtable_CopyRight rtable_Time  \\\n",
       "90  2013 Atlantic Recording Corporation for the Un...        3:23   \n",
       "\n",
       "   rtable_Released  id alteredAttribute  label  \n",
       "90        8-Nov-13  90          (Time,)      0  "
      ]
     },
     "metadata": {},
     "output_type": "display_data"
    },
    {
     "name": "stdout",
     "output_type": "stream",
     "text": [
      "label ?1\n"
     ]
    },
    {
     "data": {
      "text/html": [
       "<div>\n",
       "<style scoped>\n",
       "    .dataframe tbody tr th:only-of-type {\n",
       "        vertical-align: middle;\n",
       "    }\n",
       "\n",
       "    .dataframe tbody tr th {\n",
       "        vertical-align: top;\n",
       "    }\n",
       "\n",
       "    .dataframe thead th {\n",
       "        text-align: right;\n",
       "    }\n",
       "</style>\n",
       "<table border=\"1\" class=\"dataframe\">\n",
       "  <thead>\n",
       "    <tr style=\"text-align: right;\">\n",
       "      <th></th>\n",
       "      <th>index</th>\n",
       "      <th>ltable_Song_Name</th>\n",
       "      <th>ltable_Artist_Name</th>\n",
       "      <th>ltable_Album_Name</th>\n",
       "      <th>ltable_Genre</th>\n",
       "      <th>ltable_Price</th>\n",
       "      <th>ltable_CopyRight</th>\n",
       "      <th>ltable_Time</th>\n",
       "      <th>ltable_Released</th>\n",
       "      <th>rtable_Song_Name</th>\n",
       "      <th>rtable_Artist_Name</th>\n",
       "      <th>rtable_Album_Name</th>\n",
       "      <th>rtable_Genre</th>\n",
       "      <th>rtable_Price</th>\n",
       "      <th>rtable_CopyRight</th>\n",
       "      <th>rtable_Time</th>\n",
       "      <th>rtable_Released</th>\n",
       "      <th>id</th>\n",
       "      <th>alteredAttribute</th>\n",
       "      <th>label</th>\n",
       "    </tr>\n",
       "  </thead>\n",
       "  <tbody>\n",
       "    <tr>\n",
       "      <th>91</th>\n",
       "      <td>31</td>\n",
       "      <td>Through the Ghost</td>\n",
       "      <td>Shinedown</td>\n",
       "      <td>The Studio Album Collection</td>\n",
       "      <td>Rock</td>\n",
       "      <td>$ 1.29</td>\n",
       "      <td>2013 Atlantic Recording Corporation for the Un...</td>\n",
       "      <td>4:01</td>\n",
       "      <td>November 8 , 2013</td>\n",
       "      <td>Through the Ghost</td>\n",
       "      <td>Shinedown</td>\n",
       "      <td>The Studio Album Collection</td>\n",
       "      <td>Rock , Music</td>\n",
       "      <td>$ 1.29</td>\n",
       "      <td>2013 Atlantic Recording Corporation for the Un...</td>\n",
       "      <td>0:11</td>\n",
       "      <td>8-Nov-13</td>\n",
       "      <td>91</td>\n",
       "      <td>(Time,)</td>\n",
       "      <td>0</td>\n",
       "    </tr>\n",
       "  </tbody>\n",
       "</table>\n",
       "</div>"
      ],
      "text/plain": [
       "    index   ltable_Song_Name ltable_Artist_Name            ltable_Album_Name  \\\n",
       "91     31  Through the Ghost          Shinedown  The Studio Album Collection   \n",
       "\n",
       "   ltable_Genre ltable_Price  \\\n",
       "91         Rock       $ 1.29   \n",
       "\n",
       "                                     ltable_CopyRight ltable_Time  \\\n",
       "91  2013 Atlantic Recording Corporation for the Un...        4:01   \n",
       "\n",
       "      ltable_Released   rtable_Song_Name rtable_Artist_Name  \\\n",
       "91  November 8 , 2013  Through the Ghost          Shinedown   \n",
       "\n",
       "              rtable_Album_Name  rtable_Genre rtable_Price  \\\n",
       "91  The Studio Album Collection  Rock , Music       $ 1.29   \n",
       "\n",
       "                                     rtable_CopyRight rtable_Time  \\\n",
       "91  2013 Atlantic Recording Corporation for the Un...        0:11   \n",
       "\n",
       "   rtable_Released  id alteredAttribute  label  \n",
       "91        8-Nov-13  91          (Time,)      0  "
      ]
     },
     "metadata": {},
     "output_type": "display_data"
    },
    {
     "name": "stdout",
     "output_type": "stream",
     "text": [
      "label ?1\n"
     ]
    },
    {
     "data": {
      "text/html": [
       "<div>\n",
       "<style scoped>\n",
       "    .dataframe tbody tr th:only-of-type {\n",
       "        vertical-align: middle;\n",
       "    }\n",
       "\n",
       "    .dataframe tbody tr th {\n",
       "        vertical-align: top;\n",
       "    }\n",
       "\n",
       "    .dataframe thead th {\n",
       "        text-align: right;\n",
       "    }\n",
       "</style>\n",
       "<table border=\"1\" class=\"dataframe\">\n",
       "  <thead>\n",
       "    <tr style=\"text-align: right;\">\n",
       "      <th></th>\n",
       "      <th>index</th>\n",
       "      <th>ltable_Song_Name</th>\n",
       "      <th>ltable_Artist_Name</th>\n",
       "      <th>ltable_Album_Name</th>\n",
       "      <th>ltable_Genre</th>\n",
       "      <th>ltable_Price</th>\n",
       "      <th>ltable_CopyRight</th>\n",
       "      <th>ltable_Time</th>\n",
       "      <th>ltable_Released</th>\n",
       "      <th>rtable_Song_Name</th>\n",
       "      <th>rtable_Artist_Name</th>\n",
       "      <th>rtable_Album_Name</th>\n",
       "      <th>rtable_Genre</th>\n",
       "      <th>rtable_Price</th>\n",
       "      <th>rtable_CopyRight</th>\n",
       "      <th>rtable_Time</th>\n",
       "      <th>rtable_Released</th>\n",
       "      <th>id</th>\n",
       "      <th>alteredAttribute</th>\n",
       "      <th>label</th>\n",
       "    </tr>\n",
       "  </thead>\n",
       "  <tbody>\n",
       "    <tr>\n",
       "      <th>92</th>\n",
       "      <td>32</td>\n",
       "      <td>We Know</td>\n",
       "      <td>Fifth Harmony</td>\n",
       "      <td>Reflection</td>\n",
       "      <td>Pop , Music , R&amp;B / Soul , Teen Pop , Dance , ...</td>\n",
       "      <td>$ 1.29</td>\n",
       "      <td>2014 , 2015 Simco Ltd. under exclusive license...</td>\n",
       "      <td>2:57</td>\n",
       "      <td>30-Jan-15</td>\n",
       "      <td>We Know</td>\n",
       "      <td>Fifth Harmony</td>\n",
       "      <td>Reflection</td>\n",
       "      <td>Pop</td>\n",
       "      <td>$ 1.29</td>\n",
       "      <td>( C ) 2012 Big Machine Records , LLC .</td>\n",
       "      <td>4:31</td>\n",
       "      <td>January 30 , 2015</td>\n",
       "      <td>92</td>\n",
       "      <td>(Time,)</td>\n",
       "      <td>0</td>\n",
       "    </tr>\n",
       "  </tbody>\n",
       "</table>\n",
       "</div>"
      ],
      "text/plain": [
       "    index ltable_Song_Name ltable_Artist_Name ltable_Album_Name  \\\n",
       "92     32          We Know      Fifth Harmony        Reflection   \n",
       "\n",
       "                                         ltable_Genre ltable_Price  \\\n",
       "92  Pop , Music , R&B / Soul , Teen Pop , Dance , ...       $ 1.29   \n",
       "\n",
       "                                     ltable_CopyRight ltable_Time  \\\n",
       "92  2014 , 2015 Simco Ltd. under exclusive license...        2:57   \n",
       "\n",
       "   ltable_Released rtable_Song_Name rtable_Artist_Name rtable_Album_Name  \\\n",
       "92       30-Jan-15          We Know      Fifth Harmony        Reflection   \n",
       "\n",
       "   rtable_Genre rtable_Price                        rtable_CopyRight  \\\n",
       "92          Pop       $ 1.29  ( C ) 2012 Big Machine Records , LLC .   \n",
       "\n",
       "   rtable_Time    rtable_Released  id alteredAttribute  label  \n",
       "92        4:31  January 30 , 2015  92          (Time,)      0  "
      ]
     },
     "metadata": {},
     "output_type": "display_data"
    },
    {
     "name": "stdout",
     "output_type": "stream",
     "text": [
      "label ?1\n"
     ]
    },
    {
     "data": {
      "text/html": [
       "<div>\n",
       "<style scoped>\n",
       "    .dataframe tbody tr th:only-of-type {\n",
       "        vertical-align: middle;\n",
       "    }\n",
       "\n",
       "    .dataframe tbody tr th {\n",
       "        vertical-align: top;\n",
       "    }\n",
       "\n",
       "    .dataframe thead th {\n",
       "        text-align: right;\n",
       "    }\n",
       "</style>\n",
       "<table border=\"1\" class=\"dataframe\">\n",
       "  <thead>\n",
       "    <tr style=\"text-align: right;\">\n",
       "      <th></th>\n",
       "      <th>index</th>\n",
       "      <th>ltable_Song_Name</th>\n",
       "      <th>ltable_Artist_Name</th>\n",
       "      <th>ltable_Album_Name</th>\n",
       "      <th>ltable_Genre</th>\n",
       "      <th>ltable_Price</th>\n",
       "      <th>ltable_CopyRight</th>\n",
       "      <th>ltable_Time</th>\n",
       "      <th>ltable_Released</th>\n",
       "      <th>rtable_Song_Name</th>\n",
       "      <th>rtable_Artist_Name</th>\n",
       "      <th>rtable_Album_Name</th>\n",
       "      <th>rtable_Genre</th>\n",
       "      <th>rtable_Price</th>\n",
       "      <th>rtable_CopyRight</th>\n",
       "      <th>rtable_Time</th>\n",
       "      <th>rtable_Released</th>\n",
       "      <th>id</th>\n",
       "      <th>alteredAttribute</th>\n",
       "      <th>label</th>\n",
       "    </tr>\n",
       "  </thead>\n",
       "  <tbody>\n",
       "    <tr>\n",
       "      <th>93</th>\n",
       "      <td>33</td>\n",
       "      <td>We Know</td>\n",
       "      <td>Fifth Harmony</td>\n",
       "      <td>Reflection</td>\n",
       "      <td>Pop</td>\n",
       "      <td>$ 1.29</td>\n",
       "      <td>( C ) 2012 Big Machine Records , LLC .</td>\n",
       "      <td>2:57</td>\n",
       "      <td>January 30 , 2015</td>\n",
       "      <td>We Know</td>\n",
       "      <td>Fifth Harmony</td>\n",
       "      <td>Reflection</td>\n",
       "      <td>Pop , Music , R&amp;B / Soul , Teen Pop , Dance , ...</td>\n",
       "      <td>$ 1.29</td>\n",
       "      <td>2014 , 2015 Simco Ltd. under exclusive license...</td>\n",
       "      <td>4:01</td>\n",
       "      <td>30-Jan-15</td>\n",
       "      <td>93</td>\n",
       "      <td>(Time,)</td>\n",
       "      <td>0</td>\n",
       "    </tr>\n",
       "  </tbody>\n",
       "</table>\n",
       "</div>"
      ],
      "text/plain": [
       "    index ltable_Song_Name ltable_Artist_Name ltable_Album_Name ltable_Genre  \\\n",
       "93     33          We Know      Fifth Harmony        Reflection          Pop   \n",
       "\n",
       "   ltable_Price                        ltable_CopyRight ltable_Time  \\\n",
       "93       $ 1.29  ( C ) 2012 Big Machine Records , LLC .        2:57   \n",
       "\n",
       "      ltable_Released rtable_Song_Name rtable_Artist_Name rtable_Album_Name  \\\n",
       "93  January 30 , 2015          We Know      Fifth Harmony        Reflection   \n",
       "\n",
       "                                         rtable_Genre rtable_Price  \\\n",
       "93  Pop , Music , R&B / Soul , Teen Pop , Dance , ...       $ 1.29   \n",
       "\n",
       "                                     rtable_CopyRight rtable_Time  \\\n",
       "93  2014 , 2015 Simco Ltd. under exclusive license...        4:01   \n",
       "\n",
       "   rtable_Released  id alteredAttribute  label  \n",
       "93       30-Jan-15  93          (Time,)      0  "
      ]
     },
     "metadata": {},
     "output_type": "display_data"
    },
    {
     "name": "stdout",
     "output_type": "stream",
     "text": [
      "label ?1\n"
     ]
    },
    {
     "data": {
      "text/html": [
       "<div>\n",
       "<style scoped>\n",
       "    .dataframe tbody tr th:only-of-type {\n",
       "        vertical-align: middle;\n",
       "    }\n",
       "\n",
       "    .dataframe tbody tr th {\n",
       "        vertical-align: top;\n",
       "    }\n",
       "\n",
       "    .dataframe thead th {\n",
       "        text-align: right;\n",
       "    }\n",
       "</style>\n",
       "<table border=\"1\" class=\"dataframe\">\n",
       "  <thead>\n",
       "    <tr style=\"text-align: right;\">\n",
       "      <th></th>\n",
       "      <th>index</th>\n",
       "      <th>ltable_Song_Name</th>\n",
       "      <th>ltable_Artist_Name</th>\n",
       "      <th>ltable_Album_Name</th>\n",
       "      <th>ltable_Genre</th>\n",
       "      <th>ltable_Price</th>\n",
       "      <th>ltable_CopyRight</th>\n",
       "      <th>ltable_Time</th>\n",
       "      <th>ltable_Released</th>\n",
       "      <th>rtable_Song_Name</th>\n",
       "      <th>rtable_Artist_Name</th>\n",
       "      <th>rtable_Album_Name</th>\n",
       "      <th>rtable_Genre</th>\n",
       "      <th>rtable_Price</th>\n",
       "      <th>rtable_CopyRight</th>\n",
       "      <th>rtable_Time</th>\n",
       "      <th>rtable_Released</th>\n",
       "      <th>id</th>\n",
       "      <th>alteredAttribute</th>\n",
       "      <th>label</th>\n",
       "    </tr>\n",
       "  </thead>\n",
       "  <tbody>\n",
       "    <tr>\n",
       "      <th>94</th>\n",
       "      <td>34</td>\n",
       "      <td>Are You Leaving With Him</td>\n",
       "      <td>Luke Bryan</td>\n",
       "      <td>Spring Break ... Checkin ' Out</td>\n",
       "      <td>Country</td>\n",
       "      <td>$ 1.29</td>\n",
       "      <td>( C ) 2015 Capitol Records Nashville</td>\n",
       "      <td>3:24</td>\n",
       "      <td>March 10 , 2015</td>\n",
       "      <td>Are You Leaving With Him</td>\n",
       "      <td>Luke Bryan</td>\n",
       "      <td>Spring Break ... Checkin ' Out</td>\n",
       "      <td>Country , Music , Contemporary Country</td>\n",
       "      <td>$ 1.29</td>\n",
       "      <td>2015 Capitol Records Nashville</td>\n",
       "      <td>3:46</td>\n",
       "      <td>10-Mar-15</td>\n",
       "      <td>94</td>\n",
       "      <td>(Time,)</td>\n",
       "      <td>0</td>\n",
       "    </tr>\n",
       "  </tbody>\n",
       "</table>\n",
       "</div>"
      ],
      "text/plain": [
       "    index          ltable_Song_Name ltable_Artist_Name  \\\n",
       "94     34  Are You Leaving With Him         Luke Bryan   \n",
       "\n",
       "                 ltable_Album_Name ltable_Genre ltable_Price  \\\n",
       "94  Spring Break ... Checkin ' Out      Country       $ 1.29   \n",
       "\n",
       "                        ltable_CopyRight ltable_Time  ltable_Released  \\\n",
       "94  ( C ) 2015 Capitol Records Nashville        3:24  March 10 , 2015   \n",
       "\n",
       "            rtable_Song_Name rtable_Artist_Name  \\\n",
       "94  Are You Leaving With Him         Luke Bryan   \n",
       "\n",
       "                 rtable_Album_Name                            rtable_Genre  \\\n",
       "94  Spring Break ... Checkin ' Out  Country , Music , Contemporary Country   \n",
       "\n",
       "   rtable_Price                rtable_CopyRight rtable_Time rtable_Released  \\\n",
       "94       $ 1.29  2015 Capitol Records Nashville        3:46       10-Mar-15   \n",
       "\n",
       "    id alteredAttribute  label  \n",
       "94  94          (Time,)      0  "
      ]
     },
     "metadata": {},
     "output_type": "display_data"
    },
    {
     "name": "stdout",
     "output_type": "stream",
     "text": [
      "label ?1\n"
     ]
    }
   ],
   "source": [
    "for i in range(70,len(benchmarkDataset)):\n",
    "    display(benchmarkDataset.iloc[[i]])\n",
    "    label = input('label ?')\n",
    "    benchmarkDataset.at[i,'label'] = label"
   ]
  },
  {
   "cell_type": "code",
   "execution_count": 124,
   "metadata": {
    "ExecuteTime": {
     "end_time": "2020-02-13T17:00:39.353345Z",
     "start_time": "2020-02-13T17:00:39.321116Z"
    }
   },
   "outputs": [],
   "source": [
    "benchmarkDataset.to_csv('itunes_amazon_retrain_test.csv',index=False)"
   ]
  },
  {
   "cell_type": "markdown",
   "metadata": {},
   "source": [
    "## Test on benchmark dataset"
   ]
  },
  {
   "cell_type": "code",
   "execution_count": 128,
   "metadata": {
    "ExecuteTime": {
     "end_time": "2020-02-13T17:05:59.596757Z",
     "start_time": "2020-02-13T17:05:58.118672Z"
    }
   },
   "outputs": [
    {
     "data": {
      "text/plain": [
       "(0.11111111111111112, 0.08196721311475409, 0.1724137931034483)"
      ]
     },
     "execution_count": 128,
     "metadata": {},
     "output_type": "execute_result"
    }
   ],
   "source": [
    "getF1PrecisionRecall(benchmarkDataset.label.values,wrapDm(benchmarkDataset,itunes_model,\n",
    "                                                          ignore_columns=['alteredAttribute','label']))"
   ]
  },
  {
   "cell_type": "code",
   "execution_count": 129,
   "metadata": {
    "ExecuteTime": {
     "end_time": "2020-02-13T17:06:12.602032Z",
     "start_time": "2020-02-13T17:06:11.154872Z"
    }
   },
   "outputs": [
    {
     "data": {
      "text/plain": [
       "(0.5937499999999999, 0.5428571428571428, 0.6551724137931034)"
      ]
     },
     "execution_count": 129,
     "metadata": {},
     "output_type": "execute_result"
    }
   ],
   "source": [
    "getF1PrecisionRecall(benchmarkDataset.label.values,wrapDm(benchmarkDataset,retrained1,\n",
    "                                                          ignore_columns=['alteredAttribute','label']))"
   ]
  },
  {
   "cell_type": "code",
   "execution_count": 130,
   "metadata": {
    "ExecuteTime": {
     "end_time": "2020-02-13T17:06:19.288193Z",
     "start_time": "2020-02-13T17:06:17.885133Z"
    }
   },
   "outputs": [
    {
     "data": {
      "text/plain": [
       "(0.7142857142857143, 0.7407407407407407, 0.6896551724137931)"
      ]
     },
     "execution_count": 130,
     "metadata": {},
     "output_type": "execute_result"
    }
   ],
   "source": [
    "getF1PrecisionRecall(benchmarkDataset.label.values,wrapDm(benchmarkDataset,retrained2,\n",
    "                                                          ignore_columns=['alteredAttribute','label']))"
   ]
  },
  {
   "cell_type": "code",
   "execution_count": 136,
   "metadata": {
    "ExecuteTime": {
     "end_time": "2020-02-13T17:11:49.781956Z",
     "start_time": "2020-02-13T17:11:48.237109Z"
    }
   },
   "outputs": [
    {
     "data": {
      "text/plain": [
       "(0.7999999999999999, 0.7272727272727273, 0.8888888888888888)"
      ]
     },
     "execution_count": 136,
     "metadata": {},
     "output_type": "execute_result"
    }
   ],
   "source": [
    "test_df = pd.read_csv(ITUNES_DIR+'merged_test.csv')\n",
    "getF1PrecisionRecall(test_df.label.values,wrapDm(test_df,itunes_model,\n",
    "                                                          ignore_columns=['label','id']))"
   ]
  },
  {
   "cell_type": "code",
   "execution_count": 137,
   "metadata": {
    "ExecuteTime": {
     "end_time": "2020-02-13T17:12:04.670316Z",
     "start_time": "2020-02-13T17:12:03.137836Z"
    }
   },
   "outputs": [
    {
     "data": {
      "text/plain": [
       "(0.8620689655172414, 0.8064516129032258, 0.9259259259259259)"
      ]
     },
     "execution_count": 137,
     "metadata": {},
     "output_type": "execute_result"
    }
   ],
   "source": [
    "getF1PrecisionRecall(test_df.label.values,wrapDm(test_df,retrained1,\n",
    "                                                          ignore_columns=['label','id']))"
   ]
  },
  {
   "cell_type": "code",
   "execution_count": 138,
   "metadata": {
    "ExecuteTime": {
     "end_time": "2020-02-13T17:12:11.895165Z",
     "start_time": "2020-02-13T17:12:09.886495Z"
    }
   },
   "outputs": [
    {
     "data": {
      "text/plain": [
       "(0.8571428571428572, 0.8275862068965517, 0.8888888888888888)"
      ]
     },
     "execution_count": 138,
     "metadata": {},
     "output_type": "execute_result"
    }
   ],
   "source": [
    "getF1PrecisionRecall(test_df.label.values,wrapDm(test_df,retrained2,\n",
    "                                                          ignore_columns=['label','id']))"
   ]
  },
  {
   "cell_type": "code",
   "execution_count": 141,
   "metadata": {
    "ExecuteTime": {
     "end_time": "2020-02-13T17:12:51.473725Z",
     "start_time": "2020-02-13T17:12:49.628936Z"
    }
   },
   "outputs": [
    {
     "data": {
      "text/plain": [
       "(0.8026398884457185, 0.014892625030903646)"
      ]
     },
     "execution_count": 141,
     "metadata": {},
     "output_type": "execute_result"
    }
   ],
   "source": [
    "getMeanConfidenceAndVariance(itunes_model,test_df)"
   ]
  },
  {
   "cell_type": "code",
   "execution_count": 142,
   "metadata": {
    "ExecuteTime": {
     "end_time": "2020-02-13T17:13:02.210662Z",
     "start_time": "2020-02-13T17:13:00.600848Z"
    }
   },
   "outputs": [
    {
     "data": {
      "text/plain": [
       "(0.7903955578804016, 0.011770060641655073)"
      ]
     },
     "execution_count": 142,
     "metadata": {},
     "output_type": "execute_result"
    }
   ],
   "source": [
    "getMeanConfidenceAndVariance(retrained1,test_df)"
   ]
  },
  {
   "cell_type": "code",
   "execution_count": 143,
   "metadata": {
    "ExecuteTime": {
     "end_time": "2020-02-13T17:13:07.925233Z",
     "start_time": "2020-02-13T17:13:06.374970Z"
    }
   },
   "outputs": [
    {
     "data": {
      "text/plain": [
       "(0.7903955578804016, 0.011770060641655073)"
      ]
     },
     "execution_count": 143,
     "metadata": {},
     "output_type": "execute_result"
    }
   ],
   "source": [
    "getMeanConfidenceAndVariance(retrained1,test_df)"
   ]
  }
 ],
 "metadata": {
  "kernelspec": {
   "display_name": "Python 3",
   "language": "python",
   "name": "python3"
  },
  "language_info": {
   "codemirror_mode": {
    "name": "ipython",
    "version": 3
   },
   "file_extension": ".py",
   "mimetype": "text/x-python",
   "name": "python",
   "nbconvert_exporter": "python",
   "pygments_lexer": "ipython3",
   "version": "3.6.10"
  },
  "toc": {
   "base_numbering": 1,
   "nav_menu": {},
   "number_sections": true,
   "sideBar": true,
   "skip_h1_title": false,
   "title_cell": "Table of Contents",
   "title_sidebar": "Contents",
   "toc_cell": false,
   "toc_position": {
    "height": "calc(100% - 180px)",
    "left": "10px",
    "top": "150px",
    "width": "384px"
   },
   "toc_section_display": true,
   "toc_window_display": true
  }
 },
 "nbformat": 4,
 "nbformat_minor": 4
}

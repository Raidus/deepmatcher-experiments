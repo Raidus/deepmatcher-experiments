{
 "cells": [
  {
   "cell_type": "code",
   "execution_count": 3,
   "metadata": {},
   "outputs": [],
   "source": [
    "import deepmatcher as dm\n",
    "hybrid = dm.MatchingModel(attr_summarizer='hybrid')\n",
    "hybrid.load_state('models/hybrid_model.pth')"
   ]
  },
  {
   "cell_type": "code",
   "execution_count": 4,
   "metadata": {},
   "outputs": [],
   "source": [
    "import pandas as pd\n",
    "train_df = pd.read_csv('sample_data/itunes-amazon/train.csv')\n",
    "validation_df = pd.read_csv('sample_data/itunes-amazon/validation.csv')\n",
    "test_df = pd.read_csv('sample_data/itunes-amazon/test.csv')"
   ]
  },
  {
   "cell_type": "code",
   "execution_count": 5,
   "metadata": {
    "scrolled": true
   },
   "outputs": [],
   "source": [
    "columns = list(train_df)"
   ]
  },
  {
   "cell_type": "code",
   "execution_count": 6,
   "metadata": {},
   "outputs": [
    {
     "data": {
      "text/plain": [
       "['left_Song_Name',\n",
       " 'left_Artist_Name',\n",
       " 'left_Album_Name',\n",
       " 'left_Genre',\n",
       " 'left_Price',\n",
       " 'left_CopyRight',\n",
       " 'left_Time',\n",
       " 'left_Released',\n",
       " 'right_Song_Name',\n",
       " 'right_Artist_Name',\n",
       " 'right_Album_Name',\n",
       " 'right_Genre',\n",
       " 'right_Price',\n",
       " 'right_CopyRight',\n",
       " 'right_Time',\n",
       " 'right_Released']"
      ]
     },
     "execution_count": 6,
     "metadata": {},
     "output_type": "execute_result"
    }
   ],
   "source": [
    "selected_columns = columns[2:]\n",
    "selected_columns"
   ]
  },
  {
   "cell_type": "code",
   "execution_count": 10,
   "metadata": {},
   "outputs": [],
   "source": [
    "import random as rd\n",
    "def update_dictionary (dictionary,start_id,end_id,df,columns):\n",
    "    for idx,row in df.iterrows():\n",
    "        for col in columns:\n",
    "            current_word = row[col]\n",
    "            if not(isinstance(current_word,str)):\n",
    "                current_word = str(current_word)\n",
    "            for word in current_word.split(\" \"):\n",
    "                if word not in dictionary.keys():\n",
    "                    dictionary[word] = rd.randint(start_id,end_id)"
   ]
  },
  {
   "cell_type": "code",
   "execution_count": 11,
   "metadata": {},
   "outputs": [],
   "source": [
    "import random as rd\n",
    "def update_dictionary2 (dictionary,start_id,df,columns):\n",
    "    curr_id = start_id\n",
    "    for idx,row in df.iterrows():\n",
    "        for col in columns:\n",
    "            current_word = row[col]\n",
    "            if not(isinstance(current_word,str)):\n",
    "                current_word = str(current_word)\n",
    "            for word in current_word.split(\" \"):\n",
    "                if word not in dictionary.keys():\n",
    "                    dictionary[word] = curr_id\n",
    "                    curr_id += 1"
   ]
  },
  {
   "cell_type": "code",
   "execution_count": 12,
   "metadata": {},
   "outputs": [
    {
     "data": {
      "text/plain": [
       "(539, 18)"
      ]
     },
     "execution_count": 12,
     "metadata": {},
     "output_type": "execute_result"
    }
   ],
   "source": [
    "dataset_df = pd.concat([train_df,validation_df,test_df])\n",
    "dataset_df.shape"
   ]
  },
  {
   "cell_type": "code",
   "execution_count": 15,
   "metadata": {},
   "outputs": [],
   "source": [
    "wordDictionary = {}"
   ]
  },
  {
   "cell_type": "code",
   "execution_count": 14,
   "metadata": {},
   "outputs": [],
   "source": [
    "## run this cell if you prefer random encoding\n",
    "update_dictionary(wordDictionary,0,2200,dataset_df,selected_columns)                "
   ]
  },
  {
   "cell_type": "code",
   "execution_count": 17,
   "metadata": {},
   "outputs": [],
   "source": [
    "update_dictionary2(wordDictionary,0,dataset_df,selected_columns)"
   ]
  },
  {
   "cell_type": "code",
   "execution_count": 18,
   "metadata": {},
   "outputs": [],
   "source": [
    "def convert_attribute_to_idlist(att,dictionary=wordDictionary):\n",
    "    if not(isinstance(att,str)):\n",
    "        return att\n",
    "    new_attribute =\"\"\n",
    "    tokens = att.split(\" \")\n",
    "    for token in tokens:\n",
    "        tokenid = dictionary[token]\n",
    "        new_attribute = new_attribute + str(tokenid)+ \" \"\n",
    "    return new_attribute"
   ]
  },
  {
   "cell_type": "code",
   "execution_count": 25,
   "metadata": {},
   "outputs": [],
   "source": [
    "train_df_numericencoding = train_df.applymap(lambda c: convert_attribute_to_idlist(c))"
   ]
  },
  {
   "cell_type": "code",
   "execution_count": 26,
   "metadata": {},
   "outputs": [],
   "source": [
    "validation_df_numericencoding = validation_df.applymap(lambda c: convert_attribute_to_idlist(c))\n",
    "test_df_numericencoding = test_df.applymap(lambda c:convert_attribute_to_idlist(c))"
   ]
  },
  {
   "cell_type": "code",
   "execution_count": 27,
   "metadata": {},
   "outputs": [],
   "source": [
    "train_df_numericencoding.to_csv('sample_data/itunes-amazon/exp4/train_numericencoding.csv',index=False)\n",
    "validation_df_numericencoding.to_csv('sample_data/itunes-amazon/exp4/validation_numericencoding.csv',index=False)\n",
    "test_df_numericencoding.to_csv('sample_data/itunes-amazon/exp4/test_numericencoding.csv',index=False)"
   ]
  },
  {
   "cell_type": "code",
   "execution_count": 28,
   "metadata": {},
   "outputs": [],
   "source": [
    "train_pos = train_df_numericencoding[train_df_numericencoding['label']==1]\n",
    "val_pos = validation_df_numericencoding[validation_df_numericencoding['label']==1]\n",
    "test_pos = test_df_numericencoding[test_df_numericencoding['label']==1]"
   ]
  },
  {
   "cell_type": "code",
   "execution_count": 29,
   "metadata": {},
   "outputs": [],
   "source": [
    "train_neg = train_df_numericencoding[train_df_numericencoding['label']==0]\n",
    "val_neg = validation_df_numericencoding[validation_df_numericencoding['label']==0]\n",
    "test_neg = test_df_numericencoding[test_df_numericencoding['label']==0]"
   ]
  },
  {
   "cell_type": "code",
   "execution_count": 30,
   "metadata": {},
   "outputs": [],
   "source": [
    "all_pos = pd.concat([train_pos,val_pos,test_pos])\n",
    "all_neg = pd.concat([train_neg,val_neg,test_neg])"
   ]
  },
  {
   "cell_type": "code",
   "execution_count": 23,
   "metadata": {},
   "outputs": [
    {
     "data": {
      "text/html": [
       "<div>\n",
       "<style scoped>\n",
       "    .dataframe tbody tr th:only-of-type {\n",
       "        vertical-align: middle;\n",
       "    }\n",
       "\n",
       "    .dataframe tbody tr th {\n",
       "        vertical-align: top;\n",
       "    }\n",
       "\n",
       "    .dataframe thead th {\n",
       "        text-align: right;\n",
       "    }\n",
       "</style>\n",
       "<table border=\"1\" class=\"dataframe\">\n",
       "  <thead>\n",
       "    <tr style=\"text-align: right;\">\n",
       "      <th></th>\n",
       "      <th>id</th>\n",
       "      <th>label</th>\n",
       "      <th>left_Song_Name</th>\n",
       "      <th>left_Artist_Name</th>\n",
       "      <th>left_Album_Name</th>\n",
       "      <th>left_Genre</th>\n",
       "      <th>left_Price</th>\n",
       "      <th>left_CopyRight</th>\n",
       "      <th>left_Time</th>\n",
       "      <th>left_Released</th>\n",
       "      <th>right_Song_Name</th>\n",
       "      <th>right_Artist_Name</th>\n",
       "      <th>right_Album_Name</th>\n",
       "      <th>right_Genre</th>\n",
       "      <th>right_Price</th>\n",
       "      <th>right_CopyRight</th>\n",
       "      <th>right_Time</th>\n",
       "      <th>right_Released</th>\n",
       "    </tr>\n",
       "  </thead>\n",
       "  <tbody>\n",
       "    <tr>\n",
       "      <th>1</th>\n",
       "      <td>287</td>\n",
       "      <td>1</td>\n",
       "      <td>371</td>\n",
       "      <td>613 896</td>\n",
       "      <td>2074</td>\n",
       "      <td>2005 2136 432 2136 607 1433 333 1433 664 2136 ...</td>\n",
       "      <td>1413 1147</td>\n",
       "      <td>1867 613 896 1765 1271 274 1250 1619 736 1000 ...</td>\n",
       "      <td>122</td>\n",
       "      <td>430</td>\n",
       "      <td>371</td>\n",
       "      <td>613 896</td>\n",
       "      <td>2074 1660 1659 2111</td>\n",
       "      <td>2005</td>\n",
       "      <td>1413 1147</td>\n",
       "      <td>1623 1104 539 444 262 478</td>\n",
       "      <td>122</td>\n",
       "      <td>793 1437 2136 1867</td>\n",
       "    </tr>\n",
       "    <tr>\n",
       "      <th>3</th>\n",
       "      <td>181</td>\n",
       "      <td>1</td>\n",
       "      <td>495 926 292 1623 1212 2177 539 539</td>\n",
       "      <td>1277</td>\n",
       "      <td>495 926 292 1623 1682 539 1401 1583</td>\n",
       "      <td>2061 2136 432 2136 670 2136 901</td>\n",
       "      <td>1413 586</td>\n",
       "      <td>1472 668 392 702</td>\n",
       "      <td>250</td>\n",
       "      <td>1181</td>\n",
       "      <td>495 926 292 1623 0 1524 539 539</td>\n",
       "      <td>1277</td>\n",
       "      <td>495 926 292 1660 0 1524 539 2111</td>\n",
       "      <td>2061 798 670</td>\n",
       "      <td>1413 586</td>\n",
       "      <td>1472 668 392 702</td>\n",
       "      <td>1148</td>\n",
       "      <td>1798 331 2136 1006</td>\n",
       "    </tr>\n",
       "    <tr>\n",
       "      <th>7</th>\n",
       "      <td>493</td>\n",
       "      <td>1</td>\n",
       "      <td>777 1224 1250 1991 2125 1968</td>\n",
       "      <td>83 1144 1420</td>\n",
       "      <td>777 1224 1250 1991 2125 1968</td>\n",
       "      <td>1170 2136 432 2136 2094 1149 2136 491 492 2136...</td>\n",
       "      <td>1413 586</td>\n",
       "      <td>720 2117 1472 369 399 652 431 2136 860</td>\n",
       "      <td>2082</td>\n",
       "      <td>2076</td>\n",
       "      <td>777 1224 1893 1009 2125 1968</td>\n",
       "      <td>83 1144 1420</td>\n",
       "      <td>777 1224 1893 1009 2125 1968</td>\n",
       "      <td>1170</td>\n",
       "      <td>1413 586</td>\n",
       "      <td>1623 1453 539 1472 369 399 652 431 2136 860</td>\n",
       "      <td>1536</td>\n",
       "      <td>1647 1755 2136 1472</td>\n",
       "    </tr>\n",
       "    <tr>\n",
       "      <th>13</th>\n",
       "      <td>216</td>\n",
       "      <td>1</td>\n",
       "      <td>341 718 1674 1777</td>\n",
       "      <td>297 1500</td>\n",
       "      <td>581 1991 2111</td>\n",
       "      <td>1170 2136 432 2136 2094 1149 2136 2021 1170</td>\n",
       "      <td>1413 586</td>\n",
       "      <td>1006 1158 699 478</td>\n",
       "      <td>933</td>\n",
       "      <td>646</td>\n",
       "      <td>341 718 1674 1777</td>\n",
       "      <td>297 1500</td>\n",
       "      <td>581 1991 2111</td>\n",
       "      <td>1170</td>\n",
       "      <td>1413 586</td>\n",
       "      <td>1623 1453 539 1006 1158 699 478 2136 1765 1271...</td>\n",
       "      <td>933</td>\n",
       "      <td>1677 1793 2136 1006</td>\n",
       "    </tr>\n",
       "    <tr>\n",
       "      <th>15</th>\n",
       "      <td>53</td>\n",
       "      <td>1</td>\n",
       "      <td>1925 954 487 128 1968 1990 787 1404</td>\n",
       "      <td>780 626</td>\n",
       "      <td>128 663 1250 1991 1389 1401 1583</td>\n",
       "      <td>1170 2136 432</td>\n",
       "      <td>1413 586</td>\n",
       "      <td>1006 25 432 1774</td>\n",
       "      <td>1278</td>\n",
       "      <td>875</td>\n",
       "      <td>1925 954 487 128 1968 1990 787 1404</td>\n",
       "      <td>780 626</td>\n",
       "      <td>128 663 1250 1991 1389 1623 1583 539</td>\n",
       "      <td>1170</td>\n",
       "      <td>1413 586</td>\n",
       "      <td>1623 1453 539 1472 1835 1739 478 702</td>\n",
       "      <td>1278</td>\n",
       "      <td>1913 1996 2136 1006</td>\n",
       "    </tr>\n",
       "  </tbody>\n",
       "</table>\n",
       "</div>"
      ],
      "text/plain": [
       "     id  label                        left_Song_Name left_Artist_Name  \\\n",
       "1   287      1                                  371          613 896    \n",
       "3   181      1   495 926 292 1623 1212 2177 539 539             1277    \n",
       "7   493      1         777 1224 1250 1991 2125 1968     83 1144 1420    \n",
       "13  216      1                    341 718 1674 1777         297 1500    \n",
       "15   53      1  1925 954 487 128 1968 1990 787 1404          780 626    \n",
       "\n",
       "                         left_Album_Name  \\\n",
       "1                                  2074    \n",
       "3   495 926 292 1623 1682 539 1401 1583    \n",
       "7          777 1224 1250 1991 2125 1968    \n",
       "13                        581 1991 2111    \n",
       "15     128 663 1250 1991 1389 1401 1583    \n",
       "\n",
       "                                           left_Genre  left_Price  \\\n",
       "1   2005 2136 432 2136 607 1433 333 1433 664 2136 ...  1413 1147    \n",
       "3                    2061 2136 432 2136 670 2136 901    1413 586    \n",
       "7   1170 2136 432 2136 2094 1149 2136 491 492 2136...   1413 586    \n",
       "13       1170 2136 432 2136 2094 1149 2136 2021 1170    1413 586    \n",
       "15                                     1170 2136 432    1413 586    \n",
       "\n",
       "                                       left_CopyRight left_Time left_Released  \\\n",
       "1   1867 613 896 1765 1271 274 1250 1619 736 1000 ...      122           430    \n",
       "3                                   1472 668 392 702       250          1181    \n",
       "7             720 2117 1472 369 399 652 431 2136 860      2082          2076    \n",
       "13                                 1006 1158 699 478       933           646    \n",
       "15                                  1006 25 432 1774      1278           875    \n",
       "\n",
       "                         right_Song_Name right_Artist_Name  \\\n",
       "1                                   371           613 896    \n",
       "3       495 926 292 1623 0 1524 539 539              1277    \n",
       "7          777 1224 1893 1009 2125 1968      83 1144 1420    \n",
       "13                    341 718 1674 1777          297 1500    \n",
       "15  1925 954 487 128 1968 1990 787 1404           780 626    \n",
       "\n",
       "                         right_Album_Name    right_Genre right_Price  \\\n",
       "1                    2074 1660 1659 2111           2005   1413 1147    \n",
       "3       495 926 292 1660 0 1524 539 2111   2061 798 670    1413 586    \n",
       "7           777 1224 1893 1009 2125 1968           1170    1413 586    \n",
       "13                         581 1991 2111           1170    1413 586    \n",
       "15  128 663 1250 1991 1389 1623 1583 539           1170    1413 586    \n",
       "\n",
       "                                      right_CopyRight right_Time  \\\n",
       "1                          1623 1104 539 444 262 478        122    \n",
       "3                                   1472 668 392 702       1148    \n",
       "7        1623 1453 539 1472 369 399 652 431 2136 860       1536    \n",
       "13  1623 1453 539 1006 1158 699 478 2136 1765 1271...       933    \n",
       "15              1623 1453 539 1472 1835 1739 478 702       1278    \n",
       "\n",
       "          right_Released  \n",
       "1    793 1437 2136 1867   \n",
       "3    1798 331 2136 1006   \n",
       "7   1647 1755 2136 1472   \n",
       "13  1677 1793 2136 1006   \n",
       "15  1913 1996 2136 1006   "
      ]
     },
     "execution_count": 23,
     "metadata": {},
     "output_type": "execute_result"
    }
   ],
   "source": [
    "all_pos.head()"
   ]
  },
  {
   "cell_type": "code",
   "execution_count": 31,
   "metadata": {},
   "outputs": [],
   "source": [
    "all_pos.to_csv('sample_data/itunes-amazon/exp4/all_positives_numericencoding.csv',index=False)\n",
    "all_neg.to_csv('sample_data/itunes-amazon/exp4/all_negatives_numericencoding.csv',index=False)"
   ]
  },
  {
   "cell_type": "code",
   "execution_count": null,
   "metadata": {},
   "outputs": [],
   "source": []
  }
 ],
 "metadata": {
  "kernelspec": {
   "display_name": "Python 3",
   "language": "python",
   "name": "python3"
  },
  "language_info": {
   "codemirror_mode": {
    "name": "ipython",
    "version": 3
   },
   "file_extension": ".py",
   "mimetype": "text/x-python",
   "name": "python",
   "nbconvert_exporter": "python",
   "pygments_lexer": "ipython3",
   "version": "3.6.8"
  }
 },
 "nbformat": 4,
 "nbformat_minor": 2
}

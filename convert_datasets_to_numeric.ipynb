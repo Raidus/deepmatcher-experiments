{
 "cells": [
  {
   "cell_type": "code",
   "execution_count": 1,
   "metadata": {},
   "outputs": [],
   "source": [
    "import pandas as pd\n",
    "train_df = pd.read_csv('sample_data/itunes-amazon/train.csv')\n",
    "validation_df = pd.read_csv('sample_data/itunes-amazon/validation.csv')\n",
    "test_df = pd.read_csv('sample_data/itunes-amazon/test.csv')"
   ]
  },
  {
   "cell_type": "code",
   "execution_count": 2,
   "metadata": {
    "scrolled": true
   },
   "outputs": [
    {
     "data": {
      "text/plain": [
       "['id',\n",
       " 'label',\n",
       " 'left_Song_Name',\n",
       " 'left_Artist_Name',\n",
       " 'left_Album_Name',\n",
       " 'left_Genre',\n",
       " 'left_Price',\n",
       " 'left_CopyRight',\n",
       " 'left_Time',\n",
       " 'left_Released',\n",
       " 'right_Song_Name',\n",
       " 'right_Artist_Name',\n",
       " 'right_Album_Name',\n",
       " 'right_Genre',\n",
       " 'right_Price',\n",
       " 'right_CopyRight',\n",
       " 'right_Time',\n",
       " 'right_Released']"
      ]
     },
     "execution_count": 2,
     "metadata": {},
     "output_type": "execute_result"
    }
   ],
   "source": [
    "columns = list(train_df)\n",
    "columns"
   ]
  },
  {
   "cell_type": "code",
   "execution_count": 4,
   "metadata": {},
   "outputs": [
    {
     "data": {
      "text/plain": [
       "['left_Song_Name',\n",
       " 'left_Artist_Name',\n",
       " 'left_Album_Name',\n",
       " 'left_Genre',\n",
       " 'left_Price',\n",
       " 'left_CopyRight',\n",
       " 'left_Time',\n",
       " 'left_Released',\n",
       " 'right_Song_Name',\n",
       " 'right_Artist_Name',\n",
       " 'right_Album_Name',\n",
       " 'right_Genre',\n",
       " 'right_Price',\n",
       " 'right_CopyRight',\n",
       " 'right_Time',\n",
       " 'right_Released']"
      ]
     },
     "execution_count": 4,
     "metadata": {},
     "output_type": "execute_result"
    }
   ],
   "source": [
    "selected_columns = columns[2:]\n",
    "selected_columns"
   ]
  },
  {
   "cell_type": "code",
   "execution_count": 15,
   "metadata": {},
   "outputs": [],
   "source": [
    "def update_dictionary (dictionary,start_id,df,columns):\n",
    "    curr_id = start_id\n",
    "    for idx,row in df.iterrows():\n",
    "        for col in columns:\n",
    "            current_word = row[col]\n",
    "            if type(current_word) != 'str':\n",
    "                current_word = str(current_word)\n",
    "            for word in current_word.split(\" \"):\n",
    "                if word not in dictionary.keys():\n",
    "                    dictionary[word] = curr_id\n",
    "                    curr_id += 1"
   ]
  },
  {
   "cell_type": "code",
   "execution_count": 25,
   "metadata": {},
   "outputs": [
    {
     "data": {
      "text/plain": [
       "(539, 18)"
      ]
     },
     "execution_count": 25,
     "metadata": {},
     "output_type": "execute_result"
    }
   ],
   "source": [
    "dataset_df = pd.concat([train_df,validation_df,test_df])\n",
    "dataset_df.shape"
   ]
  },
  {
   "cell_type": "code",
   "execution_count": 26,
   "metadata": {},
   "outputs": [],
   "source": [
    "wordDictionary = {}\n",
    "start_id = 61 ##i valori da 0 a 60 sono riservati\n",
    "update_dictionary(wordDictionary,start_id,dataset_df,selected_columns)                "
   ]
  },
  {
   "cell_type": "code",
   "execution_count": 73,
   "metadata": {},
   "outputs": [],
   "source": [
    "def convert_attribute_to_idlist(att,dictionary=wordDictionary):\n",
    "    if not(isinstance(att,str)):\n",
    "        return att\n",
    "    new_attribute =\"\"\n",
    "    tokens = att.split(\" \")\n",
    "    for token in tokens:\n",
    "        tokenid = dictionary[token]\n",
    "        new_attribute = new_attribute + str(tokenid)+ \" \"\n",
    "    return new_attribute"
   ]
  },
  {
   "cell_type": "code",
   "execution_count": 74,
   "metadata": {},
   "outputs": [
    {
     "data": {
      "text/plain": [
       "33"
      ]
     },
     "execution_count": 74,
     "metadata": {},
     "output_type": "execute_result"
    }
   ],
   "source": [
    "convert_attribute_to_idlist(33)"
   ]
  },
  {
   "cell_type": "code",
   "execution_count": 79,
   "metadata": {},
   "outputs": [],
   "source": [
    "train_df_numericencoding = train_df.applymap(lambda c: convert_attribute_to_idlist(c))"
   ]
  },
  {
   "cell_type": "code",
   "execution_count": 81,
   "metadata": {},
   "outputs": [],
   "source": [
    "validation_df_numericencoding = validation_df.applymap(lambda c: convert_attribute_to_idlist(c))\n",
    "test_df_numericencoding = test_df.applymap(lambda c:convert_attribute_to_idlist(c))"
   ]
  },
  {
   "cell_type": "code",
   "execution_count": 83,
   "metadata": {},
   "outputs": [],
   "source": [
    "train_df_numericencoding.to_csv('sample_data/itunes-amazon/train_numericencoding.csv',index=False)\n",
    "validation_df_numericencoding.to_csv('sample_data/itunes-amazon/validation_numericencoding.csv',index=False)\n",
    "test_df_numericencoding.to_csv('sample_data/itunes-amazon/test_numericencoding.csv',index=False)"
   ]
  },
  {
   "cell_type": "code",
   "execution_count": null,
   "metadata": {},
   "outputs": [],
   "source": []
  }
 ],
 "metadata": {
  "kernelspec": {
   "display_name": "Python 3",
   "language": "python",
   "name": "python3"
  },
  "language_info": {
   "codemirror_mode": {
    "name": "ipython",
    "version": 3
   },
   "file_extension": ".py",
   "mimetype": "text/x-python",
   "name": "python",
   "nbconvert_exporter": "python",
   "pygments_lexer": "ipython3",
   "version": "3.6.8"
  }
 },
 "nbformat": 4,
 "nbformat_minor": 2
}

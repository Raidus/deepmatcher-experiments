{
 "cells": [
  {
   "cell_type": "code",
   "execution_count": 6,
   "metadata": {},
   "outputs": [],
   "source": [
    "import sys\n",
    "sys.path.append(\"../\")\n",
    "import deepmatcher as dm"
   ]
  },
  {
   "cell_type": "code",
   "execution_count": 2,
   "metadata": {},
   "outputs": [],
   "source": [
    "from utilities_functions.dataset_parser import generate_train_valid_test"
   ]
  },
  {
   "cell_type": "code",
   "execution_count": 11,
   "metadata": {},
   "outputs": [],
   "source": [
    "train,valid,test = generate_train_valid_test('../Structured/Beer','ltable_','rtable_')"
   ]
  },
  {
   "cell_type": "code",
   "execution_count": 13,
   "metadata": {},
   "outputs": [
    {
     "data": {
      "text/plain": [
       "(228, 10)"
      ]
     },
     "execution_count": 13,
     "metadata": {},
     "output_type": "execute_result"
    }
   ],
   "source": [
    "train[train['label']==0].shape"
   ]
  },
  {
   "cell_type": "code",
   "execution_count": 14,
   "metadata": {},
   "outputs": [
    {
     "data": {
      "text/plain": [
       "(40, 10)"
      ]
     },
     "execution_count": 14,
     "metadata": {},
     "output_type": "execute_result"
    }
   ],
   "source": [
    "train[train['label']==1].shape"
   ]
  },
  {
   "cell_type": "code",
   "execution_count": 16,
   "metadata": {},
   "outputs": [],
   "source": [
    "train.to_csv('../Structured/Beer/merged_train.csv',index=False)\n",
    "valid.to_csv('../Structured/Beer/merged_valid.csv',index=False)\n",
    "test.to_csv('../Structured/Beer/merged_test.csv',index=False)"
   ]
  },
  {
   "cell_type": "code",
   "execution_count": 17,
   "metadata": {},
   "outputs": [
    {
     "name": "stderr",
     "output_type": "stream",
     "text": [
      "WARNING:deepmatcher.data.dataset:Rebuilding data cache because: ['One or more data files have been modified.']\n"
     ]
    }
   ],
   "source": [
    "train,valid,test = dm.data.process('../Structured/Beer',train='merged_train.csv',validation='merged_valid.csv',\n",
    "                                  test='merged_test.csv',left_prefix='ltable_',right_prefix='rtable_')"
   ]
  },
  {
   "cell_type": "code",
   "execution_count": 19,
   "metadata": {},
   "outputs": [],
   "source": [
    "hybrid_model = dm.MatchingModel(attr_summarizer='hybrid')"
   ]
  },
  {
   "cell_type": "code",
   "execution_count": 20,
   "metadata": {},
   "outputs": [
    {
     "name": "stdout",
     "output_type": "stream",
     "text": [
      "* Number of trainable parameters: 9210006\n",
      "===>  TRAIN Epoch 1\n",
      "Finished Epoch 1 || Run Time:    2.1 | Load Time:    0.4 || F1:  28.91 | Prec:  17.13 | Rec:  92.50 || Ex/s: 104.79\n",
      "\n",
      "===>  EVAL Epoch 1\n",
      "Finished Epoch 1 || Run Time:    0.2 | Load Time:    0.1 || F1:  38.36 | Prec:  23.73 | Rec: 100.00 || Ex/s: 251.09\n",
      "\n",
      "* Best F1: 38.35616438356164\n",
      "Saving best model...\n",
      "Done.\n",
      "---------------------\n",
      "\n",
      "===>  TRAIN Epoch 2\n",
      "Finished Epoch 2 || Run Time:    1.8 | Load Time:    0.5 || F1:  48.72 | Prec:  32.76 | Rec:  95.00 || Ex/s: 117.09\n",
      "\n",
      "===>  EVAL Epoch 2\n",
      "Finished Epoch 2 || Run Time:    0.2 | Load Time:    0.1 || F1:  41.79 | Prec:  26.42 | Rec: 100.00 || Ex/s: 273.33\n",
      "\n",
      "* Best F1: 41.791044776119406\n",
      "Saving best model...\n",
      "Done.\n",
      "---------------------\n",
      "\n",
      "===>  TRAIN Epoch 3\n",
      "Finished Epoch 3 || Run Time:    1.9 | Load Time:    0.4 || F1:  57.58 | Prec:  41.30 | Rec:  95.00 || Ex/s: 115.49\n",
      "\n",
      "===>  EVAL Epoch 3\n",
      "Finished Epoch 3 || Run Time:    0.2 | Load Time:    0.1 || F1:  50.98 | Prec:  35.14 | Rec:  92.86 || Ex/s: 309.44\n",
      "\n",
      "* Best F1: 50.98039215686275\n",
      "Saving best model...\n",
      "Done.\n",
      "---------------------\n",
      "\n",
      "===>  TRAIN Epoch 4\n",
      "Finished Epoch 4 || Run Time:    2.0 | Load Time:    0.4 || F1:  70.91 | Prec:  55.71 | Rec:  97.50 || Ex/s: 111.79\n",
      "\n",
      "===>  EVAL Epoch 4\n",
      "Finished Epoch 4 || Run Time:    0.2 | Load Time:    0.1 || F1:  60.47 | Prec:  44.83 | Rec:  92.86 || Ex/s: 237.54\n",
      "\n",
      "* Best F1: 60.465116279069775\n",
      "Saving best model...\n",
      "Done.\n",
      "---------------------\n",
      "\n",
      "===>  TRAIN Epoch 5\n",
      "Finished Epoch 5 || Run Time:    1.6 | Load Time:    0.4 || F1:  80.81 | Prec:  67.80 | Rec: 100.00 || Ex/s: 130.97\n",
      "\n",
      "===>  EVAL Epoch 5\n",
      "Finished Epoch 5 || Run Time:    0.2 | Load Time:    0.1 || F1:  75.86 | Prec:  73.33 | Rec:  78.57 || Ex/s: 266.22\n",
      "\n",
      "* Best F1: 75.86206896551724\n",
      "Saving best model...\n",
      "Done.\n",
      "---------------------\n",
      "\n",
      "===>  TRAIN Epoch 6\n",
      "Finished Epoch 6 || Run Time:    1.8 | Load Time:    0.5 || F1:  80.81 | Prec:  67.80 | Rec: 100.00 || Ex/s: 116.72\n",
      "\n",
      "===>  EVAL Epoch 6\n",
      "Finished Epoch 6 || Run Time:    0.2 | Load Time:    0.1 || F1:  71.43 | Prec:  71.43 | Rec:  71.43 || Ex/s: 315.05\n",
      "\n",
      "---------------------\n",
      "\n",
      "===>  TRAIN Epoch 7\n",
      "Finished Epoch 7 || Run Time:    1.9 | Load Time:    0.4 || F1:  88.64 | Prec:  81.25 | Rec:  97.50 || Ex/s: 116.00\n",
      "\n",
      "===>  EVAL Epoch 7\n",
      "Finished Epoch 7 || Run Time:    0.2 | Load Time:    0.2 || F1:  63.64 | Prec:  46.67 | Rec: 100.00 || Ex/s: 248.97\n",
      "\n",
      "---------------------\n",
      "\n",
      "===>  TRAIN Epoch 8\n",
      "Finished Epoch 8 || Run Time:    1.3 | Load Time:    0.4 || F1:  94.12 | Prec:  88.89 | Rec: 100.00 || Ex/s: 162.06\n",
      "\n",
      "===>  EVAL Epoch 8\n",
      "Finished Epoch 8 || Run Time:    0.2 | Load Time:    0.1 || F1:  80.00 | Prec:  75.00 | Rec:  85.71 || Ex/s: 277.06\n",
      "\n",
      "* Best F1: 80.0\n",
      "Saving best model...\n",
      "Done.\n",
      "---------------------\n",
      "\n",
      "===>  TRAIN Epoch 9\n",
      "Finished Epoch 9 || Run Time:    1.8 | Load Time:    0.5 || F1:  95.24 | Prec:  90.91 | Rec: 100.00 || Ex/s: 119.75\n",
      "\n",
      "===>  EVAL Epoch 9\n",
      "Finished Epoch 9 || Run Time:    0.2 | Load Time:    0.1 || F1:  66.67 | Prec:  52.00 | Rec:  92.86 || Ex/s: 299.15\n",
      "\n",
      "---------------------\n",
      "\n",
      "===>  TRAIN Epoch 10\n",
      "Finished Epoch 10 || Run Time:    1.8 | Load Time:    0.5 || F1:  96.39 | Prec:  93.02 | Rec: 100.00 || Ex/s: 116.57\n",
      "\n",
      "===>  EVAL Epoch 10\n",
      "Finished Epoch 10 || Run Time:    0.2 | Load Time:    0.1 || F1:  80.00 | Prec:  75.00 | Rec:  85.71 || Ex/s: 259.84\n",
      "\n",
      "---------------------\n",
      "\n",
      "===>  TRAIN Epoch 11\n",
      "Finished Epoch 11 || Run Time:    1.8 | Load Time:    0.5 || F1:  98.77 | Prec:  97.56 | Rec: 100.00 || Ex/s: 116.23\n",
      "\n",
      "===>  EVAL Epoch 11\n",
      "Finished Epoch 11 || Run Time:    0.2 | Load Time:    0.1 || F1:  80.00 | Prec:  75.00 | Rec:  85.71 || Ex/s: 266.04\n",
      "\n",
      "---------------------\n",
      "\n",
      "===>  TRAIN Epoch 12\n",
      "Finished Epoch 12 || Run Time:    1.9 | Load Time:    0.4 || F1:  96.39 | Prec:  93.02 | Rec: 100.00 || Ex/s: 114.32\n",
      "\n",
      "===>  EVAL Epoch 12\n",
      "Finished Epoch 12 || Run Time:    0.2 | Load Time:    0.2 || F1:  80.00 | Prec:  75.00 | Rec:  85.71 || Ex/s: 234.70\n",
      "\n",
      "---------------------\n",
      "\n",
      "===>  TRAIN Epoch 13\n",
      "Finished Epoch 13 || Run Time:    1.8 | Load Time:    0.5 || F1:  98.77 | Prec:  97.56 | Rec: 100.00 || Ex/s: 116.60\n",
      "\n",
      "===>  EVAL Epoch 13\n",
      "Finished Epoch 13 || Run Time:    0.2 | Load Time:    0.1 || F1:  80.00 | Prec:  75.00 | Rec:  85.71 || Ex/s: 269.68\n",
      "\n",
      "---------------------\n",
      "\n",
      "===>  TRAIN Epoch 14\n",
      "Finished Epoch 14 || Run Time:    1.9 | Load Time:    0.5 || F1:  98.77 | Prec:  97.56 | Rec: 100.00 || Ex/s: 113.72\n",
      "\n",
      "===>  EVAL Epoch 14\n",
      "Finished Epoch 14 || Run Time:    0.2 | Load Time:    0.2 || F1:  80.00 | Prec:  75.00 | Rec:  85.71 || Ex/s: 237.08\n",
      "\n",
      "---------------------\n",
      "\n",
      "===>  TRAIN Epoch 15\n",
      "Finished Epoch 15 || Run Time:    1.8 | Load Time:    0.5 || F1:  98.77 | Prec:  97.56 | Rec: 100.00 || Ex/s: 120.45\n",
      "\n",
      "===>  EVAL Epoch 15\n",
      "Finished Epoch 15 || Run Time:    0.2 | Load Time:    0.1 || F1:  80.00 | Prec:  75.00 | Rec:  85.71 || Ex/s: 276.93\n",
      "\n",
      "---------------------\n",
      "\n",
      "===>  TRAIN Epoch 16\n",
      "Finished Epoch 16 || Run Time:    1.5 | Load Time:    0.4 || F1:  98.77 | Prec:  97.56 | Rec: 100.00 || Ex/s: 145.42\n",
      "\n",
      "===>  EVAL Epoch 16\n",
      "Finished Epoch 16 || Run Time:    0.2 | Load Time:    0.2 || F1:  80.00 | Prec:  75.00 | Rec:  85.71 || Ex/s: 234.81\n",
      "\n",
      "---------------------\n",
      "\n",
      "===>  TRAIN Epoch 17\n",
      "Finished Epoch 17 || Run Time:    1.6 | Load Time:    0.4 || F1:  98.77 | Prec:  97.56 | Rec: 100.00 || Ex/s: 136.00\n",
      "\n",
      "===>  EVAL Epoch 17\n",
      "Finished Epoch 17 || Run Time:    0.2 | Load Time:    0.1 || F1:  80.00 | Prec:  75.00 | Rec:  85.71 || Ex/s: 248.33\n",
      "\n",
      "---------------------\n",
      "\n",
      "===>  TRAIN Epoch 18\n",
      "Finished Epoch 18 || Run Time:    1.9 | Load Time:    0.4 || F1:  98.77 | Prec:  97.56 | Rec: 100.00 || Ex/s: 116.00\n",
      "\n",
      "===>  EVAL Epoch 18\n",
      "Finished Epoch 18 || Run Time:    0.2 | Load Time:    0.1 || F1:  80.00 | Prec:  75.00 | Rec:  85.71 || Ex/s: 270.17\n",
      "\n",
      "---------------------\n",
      "\n",
      "===>  TRAIN Epoch 19\n",
      "Finished Epoch 19 || Run Time:    1.9 | Load Time:    0.5 || F1:  98.77 | Prec:  97.56 | Rec: 100.00 || Ex/s: 113.12\n",
      "\n",
      "===>  EVAL Epoch 19\n",
      "Finished Epoch 19 || Run Time:    0.2 | Load Time:    0.1 || F1:  80.00 | Prec:  75.00 | Rec:  85.71 || Ex/s: 284.97\n",
      "\n",
      "---------------------\n",
      "\n",
      "===>  TRAIN Epoch 20\n",
      "Finished Epoch 20 || Run Time:    1.8 | Load Time:    0.4 || F1:  98.77 | Prec:  97.56 | Rec: 100.00 || Ex/s: 117.61\n",
      "\n",
      "===>  EVAL Epoch 20\n",
      "Finished Epoch 20 || Run Time:    0.2 | Load Time:    0.1 || F1:  80.00 | Prec:  75.00 | Rec:  85.71 || Ex/s: 268.34\n",
      "\n",
      "---------------------\n",
      "\n",
      "===>  TRAIN Epoch 21\n",
      "Finished Epoch 21 || Run Time:    1.9 | Load Time:    0.5 || F1:  98.77 | Prec:  97.56 | Rec: 100.00 || Ex/s: 114.68\n",
      "\n",
      "===>  EVAL Epoch 21\n",
      "Finished Epoch 21 || Run Time:    0.2 | Load Time:    0.1 || F1:  80.00 | Prec:  75.00 | Rec:  85.71 || Ex/s: 315.13\n",
      "\n",
      "---------------------\n",
      "\n",
      "===>  TRAIN Epoch 22\n",
      "Finished Epoch 22 || Run Time:    1.8 | Load Time:    0.4 || F1:  98.77 | Prec:  97.56 | Rec: 100.00 || Ex/s: 118.43\n",
      "\n",
      "===>  EVAL Epoch 22\n",
      "Finished Epoch 22 || Run Time:    0.2 | Load Time:    0.1 || F1:  80.00 | Prec:  75.00 | Rec:  85.71 || Ex/s: 276.97\n",
      "\n",
      "---------------------\n",
      "\n",
      "===>  TRAIN Epoch 23\n",
      "Finished Epoch 23 || Run Time:    1.7 | Load Time:    0.4 || F1:  98.77 | Prec:  97.56 | Rec: 100.00 || Ex/s: 125.64\n",
      "\n",
      "===>  EVAL Epoch 23\n",
      "Finished Epoch 23 || Run Time:    0.2 | Load Time:    0.1 || F1:  80.00 | Prec:  75.00 | Rec:  85.71 || Ex/s: 319.03\n",
      "\n",
      "---------------------\n",
      "\n",
      "===>  TRAIN Epoch 24\n",
      "Finished Epoch 24 || Run Time:    1.8 | Load Time:    0.4 || F1:  98.77 | Prec:  97.56 | Rec: 100.00 || Ex/s: 122.51\n",
      "\n",
      "===>  EVAL Epoch 24\n",
      "Finished Epoch 24 || Run Time:    0.2 | Load Time:    0.1 || F1:  80.00 | Prec:  75.00 | Rec:  85.71 || Ex/s: 290.61\n",
      "\n",
      "---------------------\n",
      "\n",
      "===>  TRAIN Epoch 25\n",
      "Finished Epoch 25 || Run Time:    1.7 | Load Time:    0.4 || F1:  98.77 | Prec:  97.56 | Rec: 100.00 || Ex/s: 126.64\n",
      "\n",
      "===>  EVAL Epoch 25\n",
      "Finished Epoch 25 || Run Time:    0.2 | Load Time:    0.1 || F1:  80.00 | Prec:  75.00 | Rec:  85.71 || Ex/s: 268.25\n",
      "\n",
      "---------------------\n",
      "\n",
      "===>  TRAIN Epoch 26\n",
      "Finished Epoch 26 || Run Time:    1.8 | Load Time:    0.4 || F1:  98.77 | Prec:  97.56 | Rec: 100.00 || Ex/s: 117.35\n",
      "\n",
      "===>  EVAL Epoch 26\n",
      "Finished Epoch 26 || Run Time:    0.2 | Load Time:    0.1 || F1:  80.00 | Prec:  75.00 | Rec:  85.71 || Ex/s: 245.15\n",
      "\n",
      "---------------------\n",
      "\n",
      "===>  TRAIN Epoch 27\n",
      "Finished Epoch 27 || Run Time:    1.7 | Load Time:    0.4 || F1:  98.77 | Prec:  97.56 | Rec: 100.00 || Ex/s: 123.96\n",
      "\n",
      "===>  EVAL Epoch 27\n"
     ]
    },
    {
     "name": "stdout",
     "output_type": "stream",
     "text": [
      "Finished Epoch 27 || Run Time:    0.2 | Load Time:    0.1 || F1:  80.00 | Prec:  75.00 | Rec:  85.71 || Ex/s: 264.76\n",
      "\n",
      "---------------------\n",
      "\n",
      "===>  TRAIN Epoch 28\n",
      "Finished Epoch 28 || Run Time:    1.9 | Load Time:    0.5 || F1:  98.77 | Prec:  97.56 | Rec: 100.00 || Ex/s: 114.24\n",
      "\n",
      "===>  EVAL Epoch 28\n",
      "Finished Epoch 28 || Run Time:    0.2 | Load Time:    0.1 || F1:  80.00 | Prec:  75.00 | Rec:  85.71 || Ex/s: 272.84\n",
      "\n",
      "---------------------\n",
      "\n",
      "===>  TRAIN Epoch 29\n",
      "Finished Epoch 29 || Run Time:    1.9 | Load Time:    0.5 || F1:  98.77 | Prec:  97.56 | Rec: 100.00 || Ex/s: 114.99\n",
      "\n",
      "===>  EVAL Epoch 29\n",
      "Finished Epoch 29 || Run Time:    0.2 | Load Time:    0.1 || F1:  80.00 | Prec:  75.00 | Rec:  85.71 || Ex/s: 242.39\n",
      "\n",
      "---------------------\n",
      "\n",
      "===>  TRAIN Epoch 30\n",
      "Finished Epoch 30 || Run Time:    1.9 | Load Time:    0.5 || F1:  98.77 | Prec:  97.56 | Rec: 100.00 || Ex/s: 112.75\n",
      "\n",
      "===>  EVAL Epoch 30\n",
      "Finished Epoch 30 || Run Time:    0.2 | Load Time:    0.1 || F1:  80.00 | Prec:  75.00 | Rec:  85.71 || Ex/s: 263.41\n",
      "\n",
      "---------------------\n",
      "\n",
      "Loading best model...\n",
      "Training done.\n"
     ]
    },
    {
     "data": {
      "text/plain": [
       "80.0"
      ]
     },
     "execution_count": 20,
     "metadata": {},
     "output_type": "execute_result"
    }
   ],
   "source": [
    "hybrid_model.run_train(train,valid,best_save_path='../models/beer_hybrid.pth',epochs=30,pos_neg_ratio=5)"
   ]
  },
  {
   "cell_type": "code",
   "execution_count": null,
   "metadata": {},
   "outputs": [],
   "source": []
  }
 ],
 "metadata": {
  "kernelspec": {
   "display_name": "Python 3",
   "language": "python",
   "name": "python3"
  },
  "language_info": {
   "codemirror_mode": {
    "name": "ipython",
    "version": 3
   },
   "file_extension": ".py",
   "mimetype": "text/x-python",
   "name": "python",
   "nbconvert_exporter": "python",
   "pygments_lexer": "ipython3",
   "version": "3.6.8"
  }
 },
 "nbformat": 4,
 "nbformat_minor": 2
}

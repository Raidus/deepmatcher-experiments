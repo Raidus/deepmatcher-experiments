{
 "cells": [
  {
   "cell_type": "code",
   "execution_count": 5,
   "metadata": {},
   "outputs": [],
   "source": [
    "import pandas as pd\n",
    "import deepmatcher as dm"
   ]
  },
  {
   "cell_type": "code",
   "execution_count": 3,
   "metadata": {},
   "outputs": [
    {
     "data": {
      "text/html": [
       "<div>\n",
       "<style scoped>\n",
       "    .dataframe tbody tr th:only-of-type {\n",
       "        vertical-align: middle;\n",
       "    }\n",
       "\n",
       "    .dataframe tbody tr th {\n",
       "        vertical-align: top;\n",
       "    }\n",
       "\n",
       "    .dataframe thead th {\n",
       "        text-align: right;\n",
       "    }\n",
       "</style>\n",
       "<table border=\"1\" class=\"dataframe\">\n",
       "  <thead>\n",
       "    <tr style=\"text-align: right;\">\n",
       "      <th></th>\n",
       "      <th>id</th>\n",
       "      <th>label</th>\n",
       "      <th>ltable_Song_Name</th>\n",
       "      <th>ltable_Artist_Name</th>\n",
       "      <th>ltable_Album_Name</th>\n",
       "      <th>ltable_Genre</th>\n",
       "      <th>ltable_Price</th>\n",
       "      <th>ltable_CopyRight</th>\n",
       "      <th>ltable_Time</th>\n",
       "      <th>ltable_Released</th>\n",
       "      <th>rtable_Song_Name</th>\n",
       "      <th>rtable_Artist_Name</th>\n",
       "      <th>rtable_Album_Name</th>\n",
       "      <th>rtable_Genre</th>\n",
       "      <th>rtable_Price</th>\n",
       "      <th>rtable_CopyRight</th>\n",
       "      <th>rtable_Time</th>\n",
       "      <th>rtable_Released</th>\n",
       "    </tr>\n",
       "  </thead>\n",
       "  <tbody>\n",
       "    <tr>\n",
       "      <th>0</th>\n",
       "      <td>448</td>\n",
       "      <td>0</td>\n",
       "      <td>Baby When the Light ( David Guetta &amp; Fred Rist...</td>\n",
       "      <td>David Guetta</td>\n",
       "      <td>Pop Life ( Extended Version ) [ Bonus Version ]</td>\n",
       "      <td>Dance , Music , Rock , Pop , House , Electroni...</td>\n",
       "      <td>$ 1.29</td>\n",
       "      <td>‰ ãÑ 2007 Gum Records</td>\n",
       "      <td>6:17</td>\n",
       "      <td>18-Sep-07</td>\n",
       "      <td>Revolver ( Madonna Vs. David Guetta Feat . Lil...</td>\n",
       "      <td>David Guetta</td>\n",
       "      <td>One Love ( Deluxe Version )</td>\n",
       "      <td>Dance &amp; Electronic</td>\n",
       "      <td>$ 1.29</td>\n",
       "      <td>( C ) 2014 Swedish House Mafia Holdings Ltd ( ...</td>\n",
       "      <td>3:18</td>\n",
       "      <td>August 21 , 2009</td>\n",
       "    </tr>\n",
       "    <tr>\n",
       "      <th>1</th>\n",
       "      <td>287</td>\n",
       "      <td>1</td>\n",
       "      <td>Outversion</td>\n",
       "      <td>Mark Ronson</td>\n",
       "      <td>Version</td>\n",
       "      <td>Pop , Music , R&amp;B / Soul,Soul,Dance,Rock,Jazz,...</td>\n",
       "      <td>$ 0.99</td>\n",
       "      <td>2007 Mark Ronson under exclusive license to SO...</td>\n",
       "      <td>1:50</td>\n",
       "      <td>10-Jul-07</td>\n",
       "      <td>Outversion</td>\n",
       "      <td>Mark Ronson</td>\n",
       "      <td>Version [ Explicit ]</td>\n",
       "      <td>Pop</td>\n",
       "      <td>$ 0.99</td>\n",
       "      <td>( c ) 2011 J'adore Records</td>\n",
       "      <td>1:50</td>\n",
       "      <td>July 10 , 2007</td>\n",
       "    </tr>\n",
       "    <tr>\n",
       "      <th>2</th>\n",
       "      <td>534</td>\n",
       "      <td>0</td>\n",
       "      <td>Peer Pressure ( feat . Traci Nelson )</td>\n",
       "      <td>Snoop Dogg</td>\n",
       "      <td>Doggumentary</td>\n",
       "      <td>Hip-Hop/Rap , Music , Rock , Gangsta Rap , Wes...</td>\n",
       "      <td>$ 1.29</td>\n",
       "      <td>‰ ãÑ 2011 Capitol Records , LLC . All rights r...</td>\n",
       "      <td>4:07</td>\n",
       "      <td>29-Mar-11</td>\n",
       "      <td>Boom ( ( Feat . T-Pain ) [ Edited ] )</td>\n",
       "      <td>Snoop Dogg</td>\n",
       "      <td>Doggumentary [ Edited ]</td>\n",
       "      <td>Rap &amp; Hip-Hop , West Coast</td>\n",
       "      <td>$ 1.29</td>\n",
       "      <td>( C ) 2011 Capitol Records , LLC</td>\n",
       "      <td>3:50</td>\n",
       "      <td>March 29 , 2011</td>\n",
       "    </tr>\n",
       "    <tr>\n",
       "      <th>3</th>\n",
       "      <td>181</td>\n",
       "      <td>1</td>\n",
       "      <td>Stars Come Out ( Tim Mason Remix )</td>\n",
       "      <td>Zedd</td>\n",
       "      <td>Stars Come Out ( Remixes ) - EP</td>\n",
       "      <td>Dance , Music , Electronic , House</td>\n",
       "      <td>$ 1.29</td>\n",
       "      <td>2012 Dim Mak Inc.</td>\n",
       "      <td>5:49</td>\n",
       "      <td>20-May-14</td>\n",
       "      <td>Stars Come Out ( Dillon Francis Remix )</td>\n",
       "      <td>Zedd</td>\n",
       "      <td>Stars Come Out [ Dillon Francis Remix ]</td>\n",
       "      <td>Dance &amp; Electronic</td>\n",
       "      <td>$ 1.29</td>\n",
       "      <td>2012 Dim Mak Inc.</td>\n",
       "      <td>4:08</td>\n",
       "      <td>May 20 , 2014</td>\n",
       "    </tr>\n",
       "    <tr>\n",
       "      <th>4</th>\n",
       "      <td>485</td>\n",
       "      <td>0</td>\n",
       "      <td>Jump ( feat . Nelly Furtado )</td>\n",
       "      <td>Flo Rida</td>\n",
       "      <td>R.O.O.T.S. ( Deluxe Version )</td>\n",
       "      <td>Hip-Hop/Rap , Music</td>\n",
       "      <td>$ 1.29</td>\n",
       "      <td>‰ ãÑ 2009 Atlantic Recording Corporation for t...</td>\n",
       "      <td>3:28</td>\n",
       "      <td>30-Mar-09</td>\n",
       "      <td>Yayo [ Feat . Brisco , Billy Blue , Ball Greez...</td>\n",
       "      <td>Flo Rida</td>\n",
       "      <td>R.O.O.T.S. ( Route Of Overcoming The Struggle ...</td>\n",
       "      <td>Rap &amp; Hip-Hop</td>\n",
       "      <td>$ 1.29</td>\n",
       "      <td>( C ) 2012 Motown Records , a Division of UMG ...</td>\n",
       "      <td>7:53</td>\n",
       "      <td>March 30 , 2009</td>\n",
       "    </tr>\n",
       "  </tbody>\n",
       "</table>\n",
       "</div>"
      ],
      "text/plain": [
       "    id  label                                   ltable_Song_Name  \\\n",
       "0  448      0  Baby When the Light ( David Guetta & Fred Rist...   \n",
       "1  287      1                                         Outversion   \n",
       "2  534      0              Peer Pressure ( feat . Traci Nelson )   \n",
       "3  181      1                 Stars Come Out ( Tim Mason Remix )   \n",
       "4  485      0                      Jump ( feat . Nelly Furtado )   \n",
       "\n",
       "  ltable_Artist_Name                                ltable_Album_Name  \\\n",
       "0       David Guetta  Pop Life ( Extended Version ) [ Bonus Version ]   \n",
       "1        Mark Ronson                                          Version   \n",
       "2         Snoop Dogg                                     Doggumentary   \n",
       "3               Zedd                  Stars Come Out ( Remixes ) - EP   \n",
       "4           Flo Rida                    R.O.O.T.S. ( Deluxe Version )   \n",
       "\n",
       "                                        ltable_Genre ltable_Price  \\\n",
       "0  Dance , Music , Rock , Pop , House , Electroni...       $ 1.29   \n",
       "1  Pop , Music , R&B / Soul,Soul,Dance,Rock,Jazz,...       $ 0.99   \n",
       "2  Hip-Hop/Rap , Music , Rock , Gangsta Rap , Wes...       $ 1.29   \n",
       "3                 Dance , Music , Electronic , House       $ 1.29   \n",
       "4                                Hip-Hop/Rap , Music       $ 1.29   \n",
       "\n",
       "                                    ltable_CopyRight ltable_Time  \\\n",
       "0                              ‰ ãÑ 2007 Gum Records        6:17   \n",
       "1  2007 Mark Ronson under exclusive license to SO...        1:50   \n",
       "2  ‰ ãÑ 2011 Capitol Records , LLC . All rights r...        4:07   \n",
       "3                                  2012 Dim Mak Inc.        5:49   \n",
       "4  ‰ ãÑ 2009 Atlantic Recording Corporation for t...        3:28   \n",
       "\n",
       "  ltable_Released                                   rtable_Song_Name  \\\n",
       "0       18-Sep-07  Revolver ( Madonna Vs. David Guetta Feat . Lil...   \n",
       "1       10-Jul-07                                         Outversion   \n",
       "2       29-Mar-11              Boom ( ( Feat . T-Pain ) [ Edited ] )   \n",
       "3       20-May-14            Stars Come Out ( Dillon Francis Remix )   \n",
       "4       30-Mar-09  Yayo [ Feat . Brisco , Billy Blue , Ball Greez...   \n",
       "\n",
       "  rtable_Artist_Name                                  rtable_Album_Name  \\\n",
       "0       David Guetta                        One Love ( Deluxe Version )   \n",
       "1        Mark Ronson                               Version [ Explicit ]   \n",
       "2         Snoop Dogg                            Doggumentary [ Edited ]   \n",
       "3               Zedd            Stars Come Out [ Dillon Francis Remix ]   \n",
       "4           Flo Rida  R.O.O.T.S. ( Route Of Overcoming The Struggle ...   \n",
       "\n",
       "                 rtable_Genre rtable_Price  \\\n",
       "0          Dance & Electronic       $ 1.29   \n",
       "1                         Pop       $ 0.99   \n",
       "2  Rap & Hip-Hop , West Coast       $ 1.29   \n",
       "3          Dance & Electronic       $ 1.29   \n",
       "4               Rap & Hip-Hop       $ 1.29   \n",
       "\n",
       "                                    rtable_CopyRight rtable_Time  \\\n",
       "0  ( C ) 2014 Swedish House Mafia Holdings Ltd ( ...        3:18   \n",
       "1                         ( c ) 2011 J'adore Records        1:50   \n",
       "2                   ( C ) 2011 Capitol Records , LLC        3:50   \n",
       "3                                  2012 Dim Mak Inc.        4:08   \n",
       "4  ( C ) 2012 Motown Records , a Division of UMG ...        7:53   \n",
       "\n",
       "    rtable_Released  \n",
       "0  August 21 , 2009  \n",
       "1    July 10 , 2007  \n",
       "2   March 29 , 2011  \n",
       "3     May 20 , 2014  \n",
       "4   March 30 , 2009  "
      ]
     },
     "execution_count": 3,
     "metadata": {},
     "output_type": "execute_result"
    }
   ],
   "source": [
    "train = pd.read_csv('sample_data/itunes-amazon/train.csv')\n",
    "train.head()"
   ]
  },
  {
   "cell_type": "code",
   "execution_count": 54,
   "metadata": {},
   "outputs": [],
   "source": [
    "test = pd.read_csv('sample_data/itunes-amazon/test.csv')\n",
    "test_pos = test[test['label']==1].copy()\n",
    "test_pos.to_csv('sample_data/itunes-amazon/test_positives.csv',index=False)"
   ]
  },
  {
   "cell_type": "code",
   "execution_count": 55,
   "metadata": {},
   "outputs": [],
   "source": [
    "test_pos['ltable_Artist_Name'] ='David Guetta'\n",
    "test_pos.to_csv('sample_data/itunes-amazon/test_pos_davidguetta.csv',index=False)"
   ]
  },
  {
   "cell_type": "code",
   "execution_count": 6,
   "metadata": {},
   "outputs": [],
   "source": [
    "train,valid,test = dm.data.process('sample_data/itunes-amazon/',train='train.csv',validation='validation.csv',\n",
    "                                  test='test.csv',left_prefix='ltable_',right_prefix='rtable_')"
   ]
  },
  {
   "cell_type": "code",
   "execution_count": 18,
   "metadata": {},
   "outputs": [],
   "source": [
    "raw_train = train.get_raw_table()"
   ]
  },
  {
   "cell_type": "code",
   "execution_count": 19,
   "metadata": {},
   "outputs": [],
   "source": [
    "train_pos = raw_train[raw_train['label']==1]\n",
    "train_neg = raw_train[raw_train['label']==0]"
   ]
  },
  {
   "cell_type": "code",
   "execution_count": 28,
   "metadata": {},
   "outputs": [],
   "source": [
    "def update_terms_distribution(word_map,column):\n",
    "    for _,val in column.iteritems():\n",
    "        if val in word_map:\n",
    "            word_map[val]+=1\n",
    "        else:\n",
    "            word_map[val] = 1"
   ]
  },
  {
   "cell_type": "code",
   "execution_count": 29,
   "metadata": {},
   "outputs": [],
   "source": [
    "word_map_songname ={}\n",
    "update_terms_distribution(word_map_songname,train.get_raw_table()['ltable_Song_Name'])"
   ]
  },
  {
   "cell_type": "code",
   "execution_count": 30,
   "metadata": {},
   "outputs": [],
   "source": [
    "word_map_artist_neg ={}\n",
    "update_terms_distribution(word_map_artist_neg,train_neg['ltable_Artist_Name'])"
   ]
  },
  {
   "cell_type": "code",
   "execution_count": null,
   "metadata": {},
   "outputs": [],
   "source": []
  },
  {
   "cell_type": "code",
   "execution_count": 31,
   "metadata": {},
   "outputs": [],
   "source": [
    "word_map_artist_pos = {}\n",
    "update_terms_distribution(word_map_artist_pos,train_pos['ltable_Song_Name'])"
   ]
  },
  {
   "cell_type": "code",
   "execution_count": 65,
   "metadata": {},
   "outputs": [],
   "source": [
    "word_map_artist_pos_right = {}\n",
    "update_terms_distribution(word_map_artist_pos_right,train_pos['rtable_Artist_Name'])"
   ]
  },
  {
   "cell_type": "code",
   "execution_count": 66,
   "metadata": {},
   "outputs": [
    {
     "data": {
      "text/plain": [
       "dict_keys(['mark ronson', 'zedd', 'florida georgia line', 'chase rice', 'chris janson', 'kenny chesney', 'twenty one pilots', 'wiz khalifa', 'ed sheeran', 'david guetta', 'nick jonas', 'ellie goulding', 'keith urban', 'x ambassadors', 'shinedown', 'brett eldredge', 'ryan adams', 'macklemore & ryan lewis', 'flo rida', 'drake', 'luke bryan', 'p ! nk', 'one direction', 'fall out boy', 'cole swindell', 'diddy - dirty money', 'eric church', 'jason derulo', 'lana del rey', 'disclosure', 'selena gomez', 'calvin harris', 'rachel platten', 'skrillex , diplo', 'nicky jam', 'fifth harmony', 'taylor swift', 'little big town', 'justin bieber'])"
      ]
     },
     "execution_count": 66,
     "metadata": {},
     "output_type": "execute_result"
    }
   ],
   "source": [
    "word_map_artist_pos_right.keys()"
   ]
  },
  {
   "cell_type": "code",
   "execution_count": 32,
   "metadata": {},
   "outputs": [],
   "source": [
    "not_common_artist = set(list(word_map_artist_neg.keys()))-set(list(word_map_artist_pos.keys()))"
   ]
  },
  {
   "cell_type": "code",
   "execution_count": 40,
   "metadata": {},
   "outputs": [
    {
     "data": {
      "text/plain": [
       "dict_values([63, 4, 8, 9, 1, 9, 2, 6, 4, 7, 1, 4, 13, 2, 5, 7, 26, 1, 2, 1, 10, 1, 1, 1, 4, 1, 5, 7, 5, 3, 2, 2, 1, 1, 2, 1, 4, 1, 2, 1, 2, 1, 2, 2, 1, 2, 1, 1, 1, 1, 1, 1])"
      ]
     },
     "execution_count": 40,
     "metadata": {},
     "output_type": "execute_result"
    }
   ],
   "source": [
    "word_map_artist_neg.values()"
   ]
  },
  {
   "cell_type": "code",
   "execution_count": 43,
   "metadata": {},
   "outputs": [
    {
     "data": {
      "text/plain": [
       "63"
      ]
     },
     "execution_count": 43,
     "metadata": {},
     "output_type": "execute_result"
    }
   ],
   "source": [
    "word_map_artist_neg['david guetta']"
   ]
  },
  {
   "cell_type": "code",
   "execution_count": 44,
   "metadata": {},
   "outputs": [
    {
     "ename": "KeyError",
     "evalue": "'david guetta'",
     "output_type": "error",
     "traceback": [
      "\u001b[0;31m---------------------------------------------------------------------------\u001b[0m",
      "\u001b[0;31mKeyError\u001b[0m                                  Traceback (most recent call last)",
      "\u001b[0;32m<ipython-input-44-0bdd2494e3b4>\u001b[0m in \u001b[0;36m<module>\u001b[0;34m()\u001b[0m\n\u001b[0;32m----> 1\u001b[0;31m \u001b[0mword_map_artist_pos\u001b[0m\u001b[0;34m[\u001b[0m\u001b[0;34m'david guetta'\u001b[0m\u001b[0;34m]\u001b[0m\u001b[0;34m\u001b[0m\u001b[0;34m\u001b[0m\u001b[0m\n\u001b[0m",
      "\u001b[0;31mKeyError\u001b[0m: 'david guetta'"
     ]
    }
   ],
   "source": [
    "word_map_artist_pos['david guetta']"
   ]
  },
  {
   "cell_type": "code",
   "execution_count": 58,
   "metadata": {},
   "outputs": [],
   "source": [
    "model = dm.MatchingModel(attr_summarizer='hybrid')\n",
    "model.load_state('models/hybrid2.pth')"
   ]
  },
  {
   "cell_type": "code",
   "execution_count": 59,
   "metadata": {},
   "outputs": [],
   "source": [
    "testset = dm.data.process_unlabeled('sample_data/itunes-amazon/test_pos_davidguetta.csv',\n",
    "                                    trained_model=model,ignore_columns=['id','label'])"
   ]
  },
  {
   "cell_type": "code",
   "execution_count": 61,
   "metadata": {},
   "outputs": [
    {
     "name": "stdout",
     "output_type": "stream",
     "text": [
      "===>  PREDICT Epoch 9\n",
      "Finished Epoch 9 || Run Time:    0.2 | Load Time:    0.2 || F1:   0.00 | Prec:   0.00 | Rec:   0.00 || Ex/s:   0.00\n",
      "\n"
     ]
    }
   ],
   "source": [
    "predictions = model.run_prediction(testset,output_attributes=True)"
   ]
  },
  {
   "cell_type": "code",
   "execution_count": 62,
   "metadata": {},
   "outputs": [
    {
     "data": {
      "text/html": [
       "<div>\n",
       "<style scoped>\n",
       "    .dataframe tbody tr th:only-of-type {\n",
       "        vertical-align: middle;\n",
       "    }\n",
       "\n",
       "    .dataframe tbody tr th {\n",
       "        vertical-align: top;\n",
       "    }\n",
       "\n",
       "    .dataframe thead th {\n",
       "        text-align: right;\n",
       "    }\n",
       "</style>\n",
       "<table border=\"1\" class=\"dataframe\">\n",
       "  <thead>\n",
       "    <tr style=\"text-align: right;\">\n",
       "      <th></th>\n",
       "      <th>match_score</th>\n",
       "      <th>label</th>\n",
       "      <th>ltable_Song_Name</th>\n",
       "      <th>ltable_Artist_Name</th>\n",
       "      <th>ltable_Album_Name</th>\n",
       "      <th>ltable_Genre</th>\n",
       "      <th>ltable_Price</th>\n",
       "      <th>ltable_CopyRight</th>\n",
       "      <th>ltable_Time</th>\n",
       "      <th>ltable_Released</th>\n",
       "      <th>rtable_Song_Name</th>\n",
       "      <th>rtable_Artist_Name</th>\n",
       "      <th>rtable_Album_Name</th>\n",
       "      <th>rtable_Genre</th>\n",
       "      <th>rtable_Price</th>\n",
       "      <th>rtable_CopyRight</th>\n",
       "      <th>rtable_Time</th>\n",
       "      <th>rtable_Released</th>\n",
       "    </tr>\n",
       "    <tr>\n",
       "      <th>id</th>\n",
       "      <th></th>\n",
       "      <th></th>\n",
       "      <th></th>\n",
       "      <th></th>\n",
       "      <th></th>\n",
       "      <th></th>\n",
       "      <th></th>\n",
       "      <th></th>\n",
       "      <th></th>\n",
       "      <th></th>\n",
       "      <th></th>\n",
       "      <th></th>\n",
       "      <th></th>\n",
       "      <th></th>\n",
       "      <th></th>\n",
       "      <th></th>\n",
       "      <th></th>\n",
       "      <th></th>\n",
       "    </tr>\n",
       "  </thead>\n",
       "  <tbody>\n",
       "    <tr>\n",
       "      <th>324</th>\n",
       "      <td>0.285581</td>\n",
       "      <td>1</td>\n",
       "      <td>We Dem Boyz</td>\n",
       "      <td>David Guetta</td>\n",
       "      <td>Blacc Hollywood ( Deluxe Version )</td>\n",
       "      <td>Hip-Hop/Rap , Music , Rap , Hardcore Rap , Eas...</td>\n",
       "      <td>$ 1.99</td>\n",
       "      <td>2014 Atlantic Recording Corporation for the Un...</td>\n",
       "      <td>3:56</td>\n",
       "      <td>19-Aug-14</td>\n",
       "      <td>We Dem Boyz [ Explicit ]</td>\n",
       "      <td>Wiz Khalifa</td>\n",
       "      <td>Blacc Hollywood [ Explicit ]</td>\n",
       "      <td>Rap &amp; Hip-Hop</td>\n",
       "      <td>$ 1.29</td>\n",
       "      <td>2014 Atlantic Recording Corporation for the Un...</td>\n",
       "      <td>3:45</td>\n",
       "      <td>August 19 , 2014</td>\n",
       "    </tr>\n",
       "    <tr>\n",
       "      <th>370</th>\n",
       "      <td>0.196875</td>\n",
       "      <td>1</td>\n",
       "      <td>Sweet Spot 2.0 ( feat . Jennifer Lopez )</td>\n",
       "      <td>David Guetta</td>\n",
       "      <td>Wild Ones</td>\n",
       "      <td>Hip-Hop/Rap , Music , Rap , Electronic , World...</td>\n",
       "      <td>$ 1.29</td>\n",
       "      <td>2012 Atlantic Recording Corporation for the Un...</td>\n",
       "      <td>3:11</td>\n",
       "      <td>22-Jun-12</td>\n",
       "      <td>Sweet Spot ( feat . Jennifer Lopez )</td>\n",
       "      <td>Flo Rida</td>\n",
       "      <td>Wild Ones</td>\n",
       "      <td>Dance &amp; Electronic , Rap &amp; Hip-Hop , House</td>\n",
       "      <td>$ 1.29</td>\n",
       "      <td>( C ) 2015 MCA Nashville , a Division of UMG R...</td>\n",
       "      <td>3:48</td>\n",
       "      <td>June 22 , 2012</td>\n",
       "    </tr>\n",
       "    <tr>\n",
       "      <th>373</th>\n",
       "      <td>0.210939</td>\n",
       "      <td>1</td>\n",
       "      <td>I Do n't Like It , I Love It ( feat . Robin Th...</td>\n",
       "      <td>David Guetta</td>\n",
       "      <td>I Do n't Like It , I Love It ( feat . Robin Th...</td>\n",
       "      <td>Dance , Music</td>\n",
       "      <td>$ 1.29</td>\n",
       "      <td>2015 Atlantic Recording Corporation for the Un...</td>\n",
       "      <td>3:19</td>\n",
       "      <td>10-Jul-15</td>\n",
       "      <td>I Do n't Like It , I Love It ( feat . Robin Th...</td>\n",
       "      <td>Flo Rida</td>\n",
       "      <td>I Do n't Like It , I Love It ( feat . Robin Th...</td>\n",
       "      <td>Dance &amp; Electronic</td>\n",
       "      <td>$ 1.29</td>\n",
       "      <td>2015 Atlantic Recording Corporation for the Un...</td>\n",
       "      <td>4:27</td>\n",
       "      <td>June 23 , 2015</td>\n",
       "    </tr>\n",
       "    <tr>\n",
       "      <th>186</th>\n",
       "      <td>0.190746</td>\n",
       "      <td>1</td>\n",
       "      <td>Illusion ( feat . Echosmith )</td>\n",
       "      <td>David Guetta</td>\n",
       "      <td>True Colors</td>\n",
       "      <td>Dance , Music , Electronic</td>\n",
       "      <td>$ 1.29</td>\n",
       "      <td>2015 Interscope Records</td>\n",
       "      <td>6:30</td>\n",
       "      <td>18-May-15</td>\n",
       "      <td>Illusion [ feat . Echosmith ]</td>\n",
       "      <td>Zedd</td>\n",
       "      <td>True Colors</td>\n",
       "      <td>Dance &amp; Electronic</td>\n",
       "      <td>$ 1.29</td>\n",
       "      <td>( C ) 2015 Interscope Records</td>\n",
       "      <td>6:25</td>\n",
       "      <td>May 18 , 2015</td>\n",
       "    </tr>\n",
       "    <tr>\n",
       "      <th>389</th>\n",
       "      <td>0.129969</td>\n",
       "      <td>1</td>\n",
       "      <td>One Mississippi ( Live from CMT `` Listen Up '' )</td>\n",
       "      <td>David Guetta</td>\n",
       "      <td>Bring You Back</td>\n",
       "      <td>Country , Music , Honky Tonk , Traditional Cou...</td>\n",
       "      <td>$ 1.29</td>\n",
       "      <td>2013 Atlantic Recording Corporation for the Un...</td>\n",
       "      <td>4:10</td>\n",
       "      <td>6-Aug-13</td>\n",
       "      <td>One Mississippi</td>\n",
       "      <td>Brett Eldredge</td>\n",
       "      <td>Bring You Back</td>\n",
       "      <td>Country</td>\n",
       "      <td>$ 1.29</td>\n",
       "      <td>2011 Toraay Records</td>\n",
       "      <td>3:45</td>\n",
       "      <td>August 6 , 2013</td>\n",
       "    </tr>\n",
       "  </tbody>\n",
       "</table>\n",
       "</div>"
      ],
      "text/plain": [
       "     match_score  label                                   ltable_Song_Name  \\\n",
       "id                                                                           \n",
       "324     0.285581      1                                        We Dem Boyz   \n",
       "370     0.196875      1           Sweet Spot 2.0 ( feat . Jennifer Lopez )   \n",
       "373     0.210939      1  I Do n't Like It , I Love It ( feat . Robin Th...   \n",
       "186     0.190746      1                      Illusion ( feat . Echosmith )   \n",
       "389     0.129969      1  One Mississippi ( Live from CMT `` Listen Up '' )   \n",
       "\n",
       "    ltable_Artist_Name                                  ltable_Album_Name  \\\n",
       "id                                                                          \n",
       "324       David Guetta                 Blacc Hollywood ( Deluxe Version )   \n",
       "370       David Guetta                                          Wild Ones   \n",
       "373       David Guetta  I Do n't Like It , I Love It ( feat . Robin Th...   \n",
       "186       David Guetta                                        True Colors   \n",
       "389       David Guetta                                     Bring You Back   \n",
       "\n",
       "                                          ltable_Genre ltable_Price  \\\n",
       "id                                                                    \n",
       "324  Hip-Hop/Rap , Music , Rap , Hardcore Rap , Eas...       $ 1.99   \n",
       "370  Hip-Hop/Rap , Music , Rap , Electronic , World...       $ 1.29   \n",
       "373                                      Dance , Music       $ 1.29   \n",
       "186                         Dance , Music , Electronic       $ 1.29   \n",
       "389  Country , Music , Honky Tonk , Traditional Cou...       $ 1.29   \n",
       "\n",
       "                                      ltable_CopyRight ltable_Time  \\\n",
       "id                                                                   \n",
       "324  2014 Atlantic Recording Corporation for the Un...        3:56   \n",
       "370  2012 Atlantic Recording Corporation for the Un...        3:11   \n",
       "373  2015 Atlantic Recording Corporation for the Un...        3:19   \n",
       "186                            2015 Interscope Records        6:30   \n",
       "389  2013 Atlantic Recording Corporation for the Un...        4:10   \n",
       "\n",
       "    ltable_Released                                   rtable_Song_Name  \\\n",
       "id                                                                       \n",
       "324       19-Aug-14                           We Dem Boyz [ Explicit ]   \n",
       "370       22-Jun-12               Sweet Spot ( feat . Jennifer Lopez )   \n",
       "373       10-Jul-15  I Do n't Like It , I Love It ( feat . Robin Th...   \n",
       "186       18-May-15                      Illusion [ feat . Echosmith ]   \n",
       "389        6-Aug-13                                    One Mississippi   \n",
       "\n",
       "    rtable_Artist_Name                                  rtable_Album_Name  \\\n",
       "id                                                                          \n",
       "324        Wiz Khalifa                       Blacc Hollywood [ Explicit ]   \n",
       "370           Flo Rida                                          Wild Ones   \n",
       "373           Flo Rida  I Do n't Like It , I Love It ( feat . Robin Th...   \n",
       "186               Zedd                                        True Colors   \n",
       "389     Brett Eldredge                                     Bring You Back   \n",
       "\n",
       "                                   rtable_Genre rtable_Price  \\\n",
       "id                                                             \n",
       "324                               Rap & Hip-Hop       $ 1.29   \n",
       "370  Dance & Electronic , Rap & Hip-Hop , House       $ 1.29   \n",
       "373                          Dance & Electronic       $ 1.29   \n",
       "186                          Dance & Electronic       $ 1.29   \n",
       "389                                     Country       $ 1.29   \n",
       "\n",
       "                                      rtable_CopyRight rtable_Time  \\\n",
       "id                                                                   \n",
       "324  2014 Atlantic Recording Corporation for the Un...        3:45   \n",
       "370  ( C ) 2015 MCA Nashville , a Division of UMG R...        3:48   \n",
       "373  2015 Atlantic Recording Corporation for the Un...        4:27   \n",
       "186                      ( C ) 2015 Interscope Records        6:25   \n",
       "389                                2011 Toraay Records        3:45   \n",
       "\n",
       "      rtable_Released  \n",
       "id                     \n",
       "324  August 19 , 2014  \n",
       "370    June 22 , 2012  \n",
       "373    June 23 , 2015  \n",
       "186     May 18 , 2015  \n",
       "389   August 6 , 2013  "
      ]
     },
     "execution_count": 62,
     "metadata": {},
     "output_type": "execute_result"
    }
   ],
   "source": [
    "predictions[predictions['match_score']<=0.5]"
   ]
  },
  {
   "cell_type": "code",
   "execution_count": null,
   "metadata": {},
   "outputs": [],
   "source": []
  }
 ],
 "metadata": {
  "kernelspec": {
   "display_name": "Python 3",
   "language": "python",
   "name": "python3"
  },
  "language_info": {
   "codemirror_mode": {
    "name": "ipython",
    "version": 3
   },
   "file_extension": ".py",
   "mimetype": "text/x-python",
   "name": "python",
   "nbconvert_exporter": "python",
   "pygments_lexer": "ipython3",
   "version": "3.6.8"
  }
 },
 "nbformat": 4,
 "nbformat_minor": 2
}

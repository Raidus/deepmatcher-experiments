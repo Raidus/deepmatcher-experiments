{
 "cells": [
  {
   "cell_type": "code",
   "execution_count": 1,
   "metadata": {},
   "outputs": [],
   "source": [
    "%load_ext autoreload\n",
    "%autoreload 2"
   ]
  },
  {
   "cell_type": "code",
   "execution_count": 4,
   "metadata": {},
   "outputs": [],
   "source": [
    "from utils.attacker import attackDataset\n",
    "import pandas as pd\n",
    "import deepmatcher as dm\n",
    "from sklearn.metrics import f1_score,precision_score,recall_score\n",
    "import shutil\n",
    "import os"
   ]
  },
  {
   "cell_type": "code",
   "execution_count": 8,
   "metadata": {},
   "outputs": [],
   "source": [
    "def getF1PrecisionRecall(testpath,model):\n",
    "    test = dm.data.process_unlabeled(testpath,model,\n",
    "                                ignore_columns = ['id','label'])\n",
    "    predictions = model.run_prediction(test,output_attributes =True)\n",
    "    true_label = predictions.label\n",
    "    predictions['predicted'] = predictions.match_score.apply(lambda m:round(m))\n",
    "    y_pred = predictions.predicted\n",
    "    return (f1_score(true_label,y_pred),precision_score(true_label,y_pred),\n",
    "            recall_score(true_label,y_pred))"
   ]
  },
  {
   "cell_type": "code",
   "execution_count": 14,
   "metadata": {},
   "outputs": [],
   "source": [
    "##given a perturbation model and number of perturbation calculate avg f1,precision and recall \n",
    "def getAvgF1PrecisionRecall(testpath,model,nperturbation):\n",
    "    avgf1,avgrecall,avgprecision = 0,0,0\n",
    "    for i in range(nperturbation):\n",
    "        test_df = pd.read_csv(testpath)\n",
    "        attacked_test = attackDataset(test_df,['id','label'])\n",
    "        if not(os.path.exists('temp')):\n",
    "            os.mkdir('temp')\n",
    "        attacked_test.to_csv('temp/attacked_test.csv',index=False)\n",
    "        f1,prec,recall = getF1PrecisionRecall('temp/attacked_test.csv',model)\n",
    "        avgf1 += f1\n",
    "        avgprecision += prec\n",
    "        avgrecall += recall\n",
    "    shutil.rmtree('temp')\n",
    "    return (avgf1/nperturbation,avgrecall/nperturbation,avgprecision/nperturbation)"
   ]
  },
  {
   "cell_type": "markdown",
   "metadata": {},
   "source": [
    "## iTunes-Amazon"
   ]
  },
  {
   "cell_type": "code",
   "execution_count": 13,
   "metadata": {},
   "outputs": [
    {
     "name": "stdout",
     "output_type": "stream",
     "text": [
      "===>  PREDICT Epoch 3\n",
      "Finished Epoch 3 || Run Time:    0.4 | Load Time:    0.3 || F1:   0.00 | Prec:   0.00 | Rec:   0.00 || Ex/s:   0.00\n",
      "\n",
      "===>  PREDICT Epoch 3\n",
      "Finished Epoch 3 || Run Time:    0.4 | Load Time:    0.3 || F1:   0.00 | Prec:   0.00 | Rec:   0.00 || Ex/s:   0.00\n",
      "\n",
      "===>  PREDICT Epoch 3\n",
      "Finished Epoch 3 || Run Time:    0.4 | Load Time:    0.3 || F1:   0.00 | Prec:   0.00 | Rec:   0.00 || Ex/s:   0.00\n",
      "\n",
      "===>  PREDICT Epoch 3\n",
      "Finished Epoch 3 || Run Time:    0.4 | Load Time:    0.3 || F1:   0.00 | Prec:   0.00 | Rec:   0.00 || Ex/s:   0.00\n",
      "\n",
      "===>  PREDICT Epoch 3\n",
      "Finished Epoch 3 || Run Time:    0.4 | Load Time:    0.3 || F1:   0.00 | Prec:   0.00 | Rec:   0.00 || Ex/s:   0.00\n",
      "\n",
      "===>  PREDICT Epoch 3\n",
      "Finished Epoch 3 || Run Time:    0.4 | Load Time:    0.3 || F1:   0.00 | Prec:   0.00 | Rec:   0.00 || Ex/s:   0.00\n",
      "\n",
      "===>  PREDICT Epoch 3\n",
      "Finished Epoch 3 || Run Time:    0.4 | Load Time:    0.3 || F1:   0.00 | Prec:   0.00 | Rec:   0.00 || Ex/s:   0.00\n",
      "\n",
      "===>  PREDICT Epoch 3\n",
      "Finished Epoch 3 || Run Time:    0.4 | Load Time:    0.3 || F1:   0.00 | Prec:   0.00 | Rec:   0.00 || Ex/s:   0.00\n",
      "\n",
      "===>  PREDICT Epoch 3\n",
      "Finished Epoch 3 || Run Time:    0.4 | Load Time:    0.3 || F1:   0.00 | Prec:   0.00 | Rec:   0.00 || Ex/s:   0.00\n",
      "\n",
      "===>  PREDICT Epoch 3\n",
      "Finished Epoch 3 || Run Time:    0.4 | Load Time:    0.3 || F1:   0.00 | Prec:   0.00 | Rec:   0.00 || Ex/s:   0.00\n",
      "\n"
     ]
    },
    {
     "data": {
      "text/plain": [
       "(0.5724938454323283, 0.548148148148148, 0.6055130225196508)"
      ]
     },
     "execution_count": 13,
     "metadata": {},
     "output_type": "execute_result"
    }
   ],
   "source": [
    "itunesamazon_mod = dm.MatchingModel(attr_summarizer='hybrid')\n",
    "itunesamazon_mod.load_state('models/itunes_amazon_hybrid.pth')\n",
    "getAvgF1PrecisionRecall('Structured/itunes-amazon/merged_test.csv',itunesamazon_mod,10)"
   ]
  },
  {
   "cell_type": "markdown",
   "metadata": {},
   "source": [
    "## Amazon-Google"
   ]
  },
  {
   "cell_type": "code",
   "execution_count": 17,
   "metadata": {},
   "outputs": [
    {
     "ename": "AttributeError",
     "evalue": "Can't get attribute '_rebuild_tensor_v2' on <module 'torch._utils' from '/home/nvidia/anaconda3/envs/testenv/lib/python3.6/site-packages/torch/_utils.py'>",
     "output_type": "error",
     "traceback": [
      "\u001b[0;31m---------------------------------------------------------------------------\u001b[0m",
      "\u001b[0;31mAttributeError\u001b[0m                            Traceback (most recent call last)",
      "\u001b[0;32m<ipython-input-17-06b20dd2d7a0>\u001b[0m in \u001b[0;36m<module>\u001b[0;34m\u001b[0m\n\u001b[1;32m      1\u001b[0m \u001b[0mamazongoogle_mod\u001b[0m \u001b[0;34m=\u001b[0m \u001b[0mdm\u001b[0m\u001b[0;34m.\u001b[0m\u001b[0mMatchingModel\u001b[0m\u001b[0;34m(\u001b[0m\u001b[0mattr_summarizer\u001b[0m\u001b[0;34m=\u001b[0m\u001b[0;34m'hybrid'\u001b[0m\u001b[0;34m)\u001b[0m\u001b[0;34m\u001b[0m\u001b[0;34m\u001b[0m\u001b[0m\n\u001b[0;32m----> 2\u001b[0;31m \u001b[0mamazongoogle_mod\u001b[0m\u001b[0;34m.\u001b[0m\u001b[0mload_state\u001b[0m\u001b[0;34m(\u001b[0m\u001b[0;34m'models/amazongoogle_hybrid.pth'\u001b[0m\u001b[0;34m)\u001b[0m\u001b[0;34m\u001b[0m\u001b[0;34m\u001b[0m\u001b[0m\n\u001b[0m\u001b[1;32m      3\u001b[0m avgf1,avgrecall,avgprec = getAvgF1PrecisionRecall('Structured/Amazon-Google/merged_test.csv'\n\u001b[1;32m      4\u001b[0m                                                   ,amazongoogle_mod,10)\n",
      "\u001b[0;32m~/anaconda3/envs/testenv/lib/python3.6/site-packages/deepmatcher/models/core.py\u001b[0m in \u001b[0;36mload_state\u001b[0;34m(self, path)\u001b[0m\n\u001b[1;32m    467\u001b[0m             \u001b[0mpath\u001b[0m \u001b[0;34m(\u001b[0m\u001b[0mstring\u001b[0m\u001b[0;34m)\u001b[0m\u001b[0;34m:\u001b[0m \u001b[0mThe\u001b[0m \u001b[0mpath\u001b[0m \u001b[0mto\u001b[0m \u001b[0mload\u001b[0m \u001b[0mthe\u001b[0m \u001b[0mmodel\u001b[0m \u001b[0mstate\u001b[0m \u001b[0;32mfrom\u001b[0m\u001b[0;34m.\u001b[0m\u001b[0;34m\u001b[0m\u001b[0;34m\u001b[0m\u001b[0m\n\u001b[1;32m    468\u001b[0m         \"\"\"\n\u001b[0;32m--> 469\u001b[0;31m         \u001b[0mstate\u001b[0m \u001b[0;34m=\u001b[0m \u001b[0mtorch\u001b[0m\u001b[0;34m.\u001b[0m\u001b[0mload\u001b[0m\u001b[0;34m(\u001b[0m\u001b[0mpath\u001b[0m\u001b[0;34m)\u001b[0m\u001b[0;34m\u001b[0m\u001b[0;34m\u001b[0m\u001b[0m\n\u001b[0m\u001b[1;32m    470\u001b[0m         \u001b[0;32mfor\u001b[0m \u001b[0mk\u001b[0m\u001b[0;34m,\u001b[0m \u001b[0mv\u001b[0m \u001b[0;32min\u001b[0m \u001b[0msix\u001b[0m\u001b[0;34m.\u001b[0m\u001b[0miteritems\u001b[0m\u001b[0;34m(\u001b[0m\u001b[0mstate\u001b[0m\u001b[0;34m)\u001b[0m\u001b[0;34m:\u001b[0m\u001b[0;34m\u001b[0m\u001b[0;34m\u001b[0m\u001b[0m\n\u001b[1;32m    471\u001b[0m             \u001b[0;32mif\u001b[0m \u001b[0mk\u001b[0m \u001b[0;34m!=\u001b[0m \u001b[0;34m'model'\u001b[0m\u001b[0;34m:\u001b[0m\u001b[0;34m\u001b[0m\u001b[0;34m\u001b[0m\u001b[0m\n",
      "\u001b[0;32m~/anaconda3/envs/testenv/lib/python3.6/site-packages/torch/serialization.py\u001b[0m in \u001b[0;36mload\u001b[0;34m(f, map_location, pickle_module)\u001b[0m\n\u001b[1;32m    265\u001b[0m         \u001b[0mf\u001b[0m \u001b[0;34m=\u001b[0m \u001b[0mopen\u001b[0m\u001b[0;34m(\u001b[0m\u001b[0mf\u001b[0m\u001b[0;34m,\u001b[0m \u001b[0;34m'rb'\u001b[0m\u001b[0;34m)\u001b[0m\u001b[0;34m\u001b[0m\u001b[0;34m\u001b[0m\u001b[0m\n\u001b[1;32m    266\u001b[0m     \u001b[0;32mtry\u001b[0m\u001b[0;34m:\u001b[0m\u001b[0;34m\u001b[0m\u001b[0;34m\u001b[0m\u001b[0m\n\u001b[0;32m--> 267\u001b[0;31m         \u001b[0;32mreturn\u001b[0m \u001b[0m_load\u001b[0m\u001b[0;34m(\u001b[0m\u001b[0mf\u001b[0m\u001b[0;34m,\u001b[0m \u001b[0mmap_location\u001b[0m\u001b[0;34m,\u001b[0m \u001b[0mpickle_module\u001b[0m\u001b[0;34m)\u001b[0m\u001b[0;34m\u001b[0m\u001b[0;34m\u001b[0m\u001b[0m\n\u001b[0m\u001b[1;32m    268\u001b[0m     \u001b[0;32mfinally\u001b[0m\u001b[0;34m:\u001b[0m\u001b[0;34m\u001b[0m\u001b[0;34m\u001b[0m\u001b[0m\n\u001b[1;32m    269\u001b[0m         \u001b[0;32mif\u001b[0m \u001b[0mnew_fd\u001b[0m\u001b[0;34m:\u001b[0m\u001b[0;34m\u001b[0m\u001b[0;34m\u001b[0m\u001b[0m\n",
      "\u001b[0;32m~/anaconda3/envs/testenv/lib/python3.6/site-packages/torch/serialization.py\u001b[0m in \u001b[0;36m_load\u001b[0;34m(f, map_location, pickle_module)\u001b[0m\n\u001b[1;32m    418\u001b[0m     \u001b[0munpickler\u001b[0m \u001b[0;34m=\u001b[0m \u001b[0mpickle_module\u001b[0m\u001b[0;34m.\u001b[0m\u001b[0mUnpickler\u001b[0m\u001b[0;34m(\u001b[0m\u001b[0mf\u001b[0m\u001b[0;34m)\u001b[0m\u001b[0;34m\u001b[0m\u001b[0;34m\u001b[0m\u001b[0m\n\u001b[1;32m    419\u001b[0m     \u001b[0munpickler\u001b[0m\u001b[0;34m.\u001b[0m\u001b[0mpersistent_load\u001b[0m \u001b[0;34m=\u001b[0m \u001b[0mpersistent_load\u001b[0m\u001b[0;34m\u001b[0m\u001b[0;34m\u001b[0m\u001b[0m\n\u001b[0;32m--> 420\u001b[0;31m     \u001b[0mresult\u001b[0m \u001b[0;34m=\u001b[0m \u001b[0munpickler\u001b[0m\u001b[0;34m.\u001b[0m\u001b[0mload\u001b[0m\u001b[0;34m(\u001b[0m\u001b[0;34m)\u001b[0m\u001b[0;34m\u001b[0m\u001b[0;34m\u001b[0m\u001b[0m\n\u001b[0m\u001b[1;32m    421\u001b[0m \u001b[0;34m\u001b[0m\u001b[0m\n\u001b[1;32m    422\u001b[0m     \u001b[0mdeserialized_storage_keys\u001b[0m \u001b[0;34m=\u001b[0m \u001b[0mpickle_module\u001b[0m\u001b[0;34m.\u001b[0m\u001b[0mload\u001b[0m\u001b[0;34m(\u001b[0m\u001b[0mf\u001b[0m\u001b[0;34m)\u001b[0m\u001b[0;34m\u001b[0m\u001b[0;34m\u001b[0m\u001b[0m\n",
      "\u001b[0;31mAttributeError\u001b[0m: Can't get attribute '_rebuild_tensor_v2' on <module 'torch._utils' from '/home/nvidia/anaconda3/envs/testenv/lib/python3.6/site-packages/torch/_utils.py'>"
     ]
    }
   ],
   "source": [
    "amazongoogle_mod = dm.MatchingModel(attr_summarizer='hybrid')\n",
    "amazongoogle_mod.load_state('models/amazongoogle_hybrid.pth')\n",
    "avgf1,avgrecall,avgprec = getAvgF1PrecisionRecall('Structured/Amazon-Google/merged_test.csv'\n",
    "                                                  ,amazongoogle_mod,10)"
   ]
  },
  {
   "cell_type": "code",
   "execution_count": 15,
   "metadata": {},
   "outputs": [
    {
     "data": {
      "text/plain": [
       "(0.4159682509908471, 0.3418803418803419, 0.5318064839425252)"
      ]
     },
     "execution_count": 15,
     "metadata": {},
     "output_type": "execute_result"
    }
   ],
   "source": [
    "avgf1,avgrecall,avgprec"
   ]
  },
  {
   "cell_type": "markdown",
   "metadata": {},
   "source": [
    "## Walmart-Amazon"
   ]
  },
  {
   "cell_type": "code",
   "execution_count": 17,
   "metadata": {},
   "outputs": [
    {
     "name": "stdout",
     "output_type": "stream",
     "text": [
      "===>  PREDICT Epoch 19\n",
      "Finished Epoch 19 || Run Time:    3.8 | Load Time:    2.5 || F1:   0.00 | Prec:   0.00 | Rec:   0.00 || Ex/s:   0.00\n",
      "\n",
      "(0.05479452054794521, 0.23076923076923078, 0.031088082901554404)\n",
      "===>  PREDICT Epoch 19\n",
      "Finished Epoch 19 || Run Time:    3.8 | Load Time:    2.5 || F1:   0.00 | Prec:   0.00 | Rec:   0.00 || Ex/s:   0.00\n",
      "\n",
      "(0.10045662100456622, 0.4230769230769231, 0.05699481865284974)\n",
      "===>  PREDICT Epoch 19\n",
      "Finished Epoch 19 || Run Time:    3.9 | Load Time:    2.5 || F1:   0.00 | Prec:   0.00 | Rec:   0.00 || Ex/s:   0.00\n",
      "\n",
      "(0.06572769953051642, 0.35, 0.03626943005181347)\n",
      "===>  PREDICT Epoch 19\n",
      "Finished Epoch 19 || Run Time:    3.8 | Load Time:    2.5 || F1:   0.00 | Prec:   0.00 | Rec:   0.00 || Ex/s:   0.00\n",
      "\n",
      "(0.05529953917050691, 0.25, 0.031088082901554404)\n",
      "===>  PREDICT Epoch 19\n",
      "Finished Epoch 19 || Run Time:    3.9 | Load Time:    2.5 || F1:   0.00 | Prec:   0.00 | Rec:   0.00 || Ex/s:   0.00\n",
      "\n",
      "(0.07407407407407408, 0.34782608695652173, 0.04145077720207254)\n",
      "===>  PREDICT Epoch 19\n",
      "Finished Epoch 19 || Run Time:    3.9 | Load Time:    2.5 || F1:   0.00 | Prec:   0.00 | Rec:   0.00 || Ex/s:   0.00\n",
      "\n",
      "(0.08108108108108109, 0.3103448275862069, 0.046632124352331605)\n",
      "===>  PREDICT Epoch 19\n",
      "Finished Epoch 19 || Run Time:    3.8 | Load Time:    2.5 || F1:   0.00 | Prec:   0.00 | Rec:   0.00 || Ex/s:   0.00\n",
      "\n",
      "(0.03738317757009346, 0.19047619047619047, 0.02072538860103627)\n",
      "===>  PREDICT Epoch 19\n",
      "Finished Epoch 19 || Run Time:    3.8 | Load Time:    2.5 || F1:   0.00 | Prec:   0.00 | Rec:   0.00 || Ex/s:   0.00\n",
      "\n",
      "(0.07373271889400922, 0.3333333333333333, 0.04145077720207254)\n",
      "===>  PREDICT Epoch 19\n",
      "Finished Epoch 19 || Run Time:    3.8 | Load Time:    2.5 || F1:   0.00 | Prec:   0.00 | Rec:   0.00 || Ex/s:   0.00\n",
      "\n",
      "(0.07373271889400922, 0.3333333333333333, 0.04145077720207254)\n",
      "===>  PREDICT Epoch 19\n",
      "Finished Epoch 19 || Run Time:    3.9 | Load Time:    2.5 || F1:   0.00 | Prec:   0.00 | Rec:   0.00 || Ex/s:   0.00\n",
      "\n",
      "(0.09216589861751151, 0.4166666666666667, 0.05181347150259067)\n"
     ]
    }
   ],
   "source": [
    "walmartamazon_mod = dm.MatchingModel(attr_summarizer='hybrid')\n",
    "walmartamazon_mod.load_state('models/walmartamazon_hybrid.pth')\n",
    "avgf1,avgrecall,avgprec = getAvgF1PrecisionRecall('Structured/Walmart-Amazon/merged_test.csv'\n",
    "                                                  ,walmartamazon_mod,10)"
   ]
  },
  {
   "cell_type": "code",
   "execution_count": 19,
   "metadata": {},
   "outputs": [
    {
     "data": {
      "text/plain": [
       "(0.07084480493843133, 0.31858265921984064, 0.03989637305699482)"
      ]
     },
     "execution_count": 19,
     "metadata": {},
     "output_type": "execute_result"
    }
   ],
   "source": [
    "avgf1,avgprec,avgrecall"
   ]
  },
  {
   "cell_type": "markdown",
   "metadata": {},
   "source": [
    "## DBLP-ACM"
   ]
  },
  {
   "cell_type": "code",
   "execution_count": 21,
   "metadata": {},
   "outputs": [],
   "source": [
    "%%capture\n",
    "dblpacm_mod = dm.MatchingModel(attr_summarizer='hybrid')\n",
    "dblpacm_mod.load_state('models/dblp_acm_hybrid.pth')\n",
    "avgf1,avgrecall,avgprec = getAvgF1PrecisionRecall('Structured/DBLP-ACM/merged_test.csv'\n",
    "                                                  ,dblpacm_mod,10)"
   ]
  },
  {
   "cell_type": "code",
   "execution_count": 22,
   "metadata": {},
   "outputs": [
    {
     "data": {
      "text/plain": [
       "(0.43167173099204514, 0.2799549549549549, 0.9439607971499386)"
      ]
     },
     "execution_count": 22,
     "metadata": {},
     "output_type": "execute_result"
    }
   ],
   "source": [
    "avgf1,avgrecall,avgprec"
   ]
  },
  {
   "cell_type": "markdown",
   "metadata": {},
   "source": [
    "## Beer"
   ]
  },
  {
   "cell_type": "code",
   "execution_count": 15,
   "metadata": {},
   "outputs": [],
   "source": [
    "%%capture\n",
    "beer_mod = dm.MatchingModel(attr_summarizer='hybrid')\n",
    "beer_mod.load_state('models/beer_hybrid.pth')\n",
    "avgf1,avgrecall,avgprec = getAvgF1PrecisionRecall('Structured/Beer/merged_test.csv'\n",
    "                                                  ,beer_mod,10)"
   ]
  },
  {
   "cell_type": "code",
   "execution_count": 16,
   "metadata": {},
   "outputs": [
    {
     "data": {
      "text/plain": [
       "(0.5702809055927718, 0.6714285714285715, 0.49867195161817596)"
      ]
     },
     "execution_count": 16,
     "metadata": {},
     "output_type": "execute_result"
    }
   ],
   "source": [
    "avgf1,avgrecall,avgprec"
   ]
  },
  {
   "cell_type": "code",
   "execution_count": null,
   "metadata": {},
   "outputs": [],
   "source": []
  }
 ],
 "metadata": {
  "kernelspec": {
   "display_name": "Python 3",
   "language": "python",
   "name": "python3"
  },
  "language_info": {
   "codemirror_mode": {
    "name": "ipython",
    "version": 3
   },
   "file_extension": ".py",
   "mimetype": "text/x-python",
   "name": "python",
   "nbconvert_exporter": "python",
   "pygments_lexer": "ipython3",
   "version": "3.6.9"
  },
  "toc": {
   "base_numbering": 1,
   "nav_menu": {},
   "number_sections": true,
   "sideBar": true,
   "skip_h1_title": false,
   "title_cell": "Table of Contents",
   "title_sidebar": "Contents",
   "toc_cell": false,
   "toc_position": {},
   "toc_section_display": true,
   "toc_window_display": true
  }
 },
 "nbformat": 4,
 "nbformat_minor": 2
}

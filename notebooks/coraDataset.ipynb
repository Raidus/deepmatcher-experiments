{
 "cells": [
  {
   "cell_type": "code",
   "execution_count": 1,
   "metadata": {
    "ExecuteTime": {
     "end_time": "2020-02-25T12:50:22.985685Z",
     "start_time": "2020-02-25T12:50:22.966447Z"
    }
   },
   "outputs": [],
   "source": [
    "%load_ext autoreload\n",
    "%autoreload 2\n",
    "import sys\n",
    "sys.path.append('..')"
   ]
  },
  {
   "cell_type": "code",
   "execution_count": 2,
   "metadata": {
    "ExecuteTime": {
     "end_time": "2020-02-25T12:50:24.732347Z",
     "start_time": "2020-02-25T12:50:23.252328Z"
    }
   },
   "outputs": [],
   "source": [
    "import deepmatcher as dm\n",
    "import pandas as pd\n",
    "from utils.intermediate_layer_extraction import return_layer_input\n",
    "from utils.dataset_parser import get_pos_neg_datasets,generate_train_valid_test\n",
    "from utils.ri_calculator import computeRi\n",
    "from utils.distance_measures import nearestNeighborOnAttributes,smallestDistanceOnAttributes"
   ]
  },
  {
   "cell_type": "code",
   "execution_count": 3,
   "metadata": {
    "ExecuteTime": {
     "end_time": "2020-02-25T12:50:24.826641Z",
     "start_time": "2020-02-25T12:50:24.734850Z"
    }
   },
   "outputs": [],
   "source": [
    "train_df,validation_df,test_df = generate_train_valid_test('../datasets/Cora',['cora.csv','cora.csv'],\n",
    "                                                          ['cora_train.csv','cora_validation.csv','cora_test.csv'],\n",
    "                                                          'left_','right_')"
   ]
  },
  {
   "cell_type": "code",
   "execution_count": 4,
   "metadata": {
    "ExecuteTime": {
     "end_time": "2020-02-25T12:50:25.579574Z",
     "start_time": "2020-02-25T12:50:25.312924Z"
    }
   },
   "outputs": [],
   "source": [
    "train_df.to_csv('../datasets/Cora/merged_train.csv',index=False)\n",
    "validation_df.to_csv('../datasets/Cora/merged_validation.csv',index=False)\n",
    "test_df.to_csv('../datasets/Cora/merged_test.csv',index=False)"
   ]
  },
  {
   "cell_type": "code",
   "execution_count": 5,
   "metadata": {
    "ExecuteTime": {
     "end_time": "2020-02-25T12:51:02.590878Z",
     "start_time": "2020-02-25T12:50:27.185173Z"
    }
   },
   "outputs": [
    {
     "name": "stderr",
     "output_type": "stream",
     "text": [
      "[nltk_data] Error loading perluniprops: <urlopen error [Errno -2] Name\n",
      "[nltk_data]     or service not known>\n",
      "[nltk_data] Error loading nonbreaking_prefixes: <urlopen error [Errno\n",
      "[nltk_data]     -2] Name or service not known>\n",
      "[nltk_data] Error loading punkt: <urlopen error [Errno -2] Name or\n",
      "[nltk_data]     service not known>\n",
      "WARNING:deepmatcher.data.dataset:Rebuilding data cache because: ['One or more data files have been modified.']\n",
      "\n",
      "Reading and processing data from \"../datasets/Cora/merged_train.csv\"\n",
      "0% [############################# ] 100% | ETA: 00:00:00\n",
      "Reading and processing data from \"../datasets/Cora/merged_validation.csv\"\n",
      "0% [############################# ] 100% | ETA: 00:00:00\n",
      "Reading and processing data from \"../datasets/Cora/merged_test.csv\"\n",
      "0% [############################# ] 100% | ETA: 00:00:00\n",
      "Building vocabulary\n",
      "0% [####] 100% | ETA: 00:00:00\n",
      "Total time elapsed: 00:00:00\n",
      "\n",
      "Computing principal components\n",
      "0% [####] 100% | ETA: 00:00:00\n",
      "Total time elapsed: 00:00:04\n"
     ]
    }
   ],
   "source": [
    "train,validation,test = dm.data.process('../datasets/Cora/',train='merged_train.csv',\n",
    "                                        validation='merged_validation.csv',test='merged_test.csv'\n",
    "                                       ,ignore_columns=['left_id','right_id','left_cluster_name',\n",
    "                                                       'right_cluster_name'])"
   ]
  },
  {
   "cell_type": "code",
   "execution_count": 6,
   "metadata": {
    "ExecuteTime": {
     "end_time": "2020-02-25T12:51:51.387298Z",
     "start_time": "2020-02-25T12:51:46.599524Z"
    }
   },
   "outputs": [],
   "source": [
    "model = dm.MatchingModel(attr_summarizer='hybrid')\n",
    "model.load_state('../models/cora_rnn.pth')\n",
    "model = model.to('cuda')"
   ]
  },
  {
   "cell_type": "code",
   "execution_count": 12,
   "metadata": {
    "ExecuteTime": {
     "end_time": "2020-02-25T13:13:18.711922Z",
     "start_time": "2020-02-25T13:13:18.651814Z"
    }
   },
   "outputs": [],
   "source": [
    "testpos_df,testneg_df = get_pos_neg_datasets([test_df])\n",
    "testpos_df = testpos_df.sample(frac=0.3)\n",
    "##testneg_df = testneg_df.sample(frac=0.3)\n",
    "testpos_df.to_csv('../datasets/Cora/test_positives_sample.csv',index=False)\n",
    "##testneg_df.to_csv('../datasets/Cora/test_negatives_sample.csv',index=False)"
   ]
  },
  {
   "cell_type": "code",
   "execution_count": 13,
   "metadata": {
    "ExecuteTime": {
     "end_time": "2020-02-25T13:13:27.348626Z",
     "start_time": "2020-02-25T13:13:24.220676Z"
    }
   },
   "outputs": [
    {
     "name": "stderr",
     "output_type": "stream",
     "text": [
      "\n",
      "Reading and processing data from \"../datasets/Cora/test_positives_sample.csv\"\n",
      "0% [############################# ] 100% | ETA: 00:00:00"
     ]
    }
   ],
   "source": [
    "testpos = return_layer_input(model,model.classifier,'../datasets/Cora','test_positives_sample',\n",
    "                            ignore_columns=['label','left_id','right_id','left_cluster_name',\n",
    "                                           'right_cluster_name'])"
   ]
  },
  {
   "cell_type": "code",
   "execution_count": 9,
   "metadata": {
    "ExecuteTime": {
     "end_time": "2020-02-25T12:52:46.464696Z",
     "start_time": "2020-02-25T12:52:40.521790Z"
    }
   },
   "outputs": [
    {
     "name": "stderr",
     "output_type": "stream",
     "text": [
      "\n",
      "Reading and processing data from \"../datasets/Cora/test_negatives_sample.csv\"\n",
      "0% [############################# ] 100% | ETA: 00:00:00"
     ]
    }
   ],
   "source": [
    "testneg = return_layer_input(model,model.classifier,'../datasets/Cora','test_negatives_sample',\n",
    "                            ignore_columns=['label','left_id','right_id','left_cluster_name',\n",
    "                                           'right_cluster_name'])"
   ]
  },
  {
   "cell_type": "code",
   "execution_count": 10,
   "metadata": {
    "ExecuteTime": {
     "end_time": "2020-02-25T13:05:16.759144Z",
     "start_time": "2020-02-25T12:52:48.890884Z"
    }
   },
   "outputs": [
    {
     "name": "stderr",
     "output_type": "stream",
     "text": [
      "100%|██████████| 713/713 [12:27<00:00,  1.05s/it]\n"
     ]
    }
   ],
   "source": [
    "cora_data = pd.read_csv('../datasets/Cora/cora.csv')\n",
    "attributes = [col for col in cora_data.columns if col not in ['id','cluster_name']]\n",
    "testneg_ri,testneg_ri_norms = computeRi(model.classifier,attributes,testneg,0)"
   ]
  },
  {
   "cell_type": "code",
   "execution_count": 14,
   "metadata": {
    "ExecuteTime": {
     "end_time": "2020-02-25T13:19:30.696460Z",
     "start_time": "2020-02-25T13:13:29.657603Z"
    }
   },
   "outputs": [
    {
     "name": "stderr",
     "output_type": "stream",
     "text": [
      "\n",
      "  0%|          | 0/338 [00:00<?, ?it/s]\u001b[A\n",
      "  0%|          | 1/338 [00:01<05:55,  1.06s/it]\u001b[A\n",
      "  1%|          | 2/338 [00:02<06:05,  1.09s/it]\u001b[A\n",
      "  1%|          | 3/338 [00:03<06:44,  1.21s/it]\u001b[A\n",
      "  1%|          | 4/338 [00:04<06:43,  1.21s/it]\u001b[A\n",
      "  1%|▏         | 5/338 [00:06<06:40,  1.20s/it]\u001b[A\n",
      "  2%|▏         | 6/338 [00:07<06:42,  1.21s/it]\u001b[A\n",
      "  2%|▏         | 7/338 [00:08<06:57,  1.26s/it]\u001b[A\n",
      "  2%|▏         | 8/338 [00:09<06:17,  1.14s/it]\u001b[A\n",
      "  3%|▎         | 9/338 [00:10<06:15,  1.14s/it]\u001b[A\n",
      "  3%|▎         | 10/338 [00:11<06:25,  1.17s/it]\u001b[A\n",
      "  3%|▎         | 11/338 [00:13<06:30,  1.19s/it]\u001b[A\n",
      "  4%|▎         | 12/338 [00:14<06:42,  1.24s/it]\u001b[A\n",
      "  4%|▍         | 13/338 [00:15<06:39,  1.23s/it]\u001b[A\n",
      "  4%|▍         | 14/338 [00:16<05:38,  1.04s/it]\u001b[A\n",
      "  4%|▍         | 15/338 [00:17<05:58,  1.11s/it]\u001b[A\n",
      "  5%|▍         | 16/338 [00:18<06:10,  1.15s/it]\u001b[A\n",
      "  5%|▌         | 17/338 [00:20<06:07,  1.14s/it]\u001b[A\n",
      "  5%|▌         | 18/338 [00:21<06:36,  1.24s/it]\u001b[A\n",
      "  6%|▌         | 19/338 [00:22<05:33,  1.05s/it]\u001b[A\n",
      "  6%|▌         | 20/338 [00:22<04:20,  1.22it/s]\u001b[A\n",
      "  6%|▌         | 21/338 [00:24<06:06,  1.16s/it]\u001b[A\n",
      "  7%|▋         | 22/338 [00:25<05:59,  1.14s/it]\u001b[A\n",
      "  7%|▋         | 23/338 [00:26<05:50,  1.11s/it]\u001b[A\n",
      "  7%|▋         | 24/338 [00:27<06:00,  1.15s/it]\u001b[A\n",
      "  7%|▋         | 25/338 [00:28<06:12,  1.19s/it]\u001b[A\n",
      "  8%|▊         | 26/338 [00:30<06:24,  1.23s/it]\u001b[A\n",
      "  8%|▊         | 27/338 [00:31<06:32,  1.26s/it]\u001b[A\n",
      "  8%|▊         | 28/338 [00:32<06:15,  1.21s/it]\u001b[A\n",
      "  9%|▊         | 29/338 [00:33<05:40,  1.10s/it]\u001b[A\n",
      "  9%|▉         | 30/338 [00:33<04:26,  1.15it/s]\u001b[A\n",
      "  9%|▉         | 31/338 [00:35<05:02,  1.02it/s]\u001b[A\n",
      "  9%|▉         | 32/338 [00:36<05:22,  1.05s/it]\u001b[A\n",
      " 10%|▉         | 33/338 [00:37<05:50,  1.15s/it]\u001b[A\n",
      " 10%|█         | 34/338 [00:39<06:07,  1.21s/it]\u001b[A\n",
      " 10%|█         | 35/338 [00:40<06:11,  1.23s/it]\u001b[A\n",
      " 11%|█         | 36/338 [00:41<06:21,  1.26s/it]\u001b[A\n",
      " 11%|█         | 37/338 [00:42<06:13,  1.24s/it]\u001b[A\n",
      " 12%|█▏        | 39/338 [00:44<05:20,  1.07s/it]\u001b[A\n",
      " 12%|█▏        | 40/338 [00:45<05:42,  1.15s/it]\u001b[A\n",
      " 12%|█▏        | 41/338 [00:46<05:58,  1.21s/it]\u001b[A\n",
      " 12%|█▏        | 42/338 [00:47<05:27,  1.11s/it]\u001b[A\n",
      " 13%|█▎        | 43/338 [00:48<05:32,  1.13s/it]\u001b[A\n",
      " 13%|█▎        | 44/338 [00:49<04:59,  1.02s/it]\u001b[A\n",
      " 13%|█▎        | 45/338 [00:51<05:27,  1.12s/it]\u001b[A\n",
      " 14%|█▎        | 46/338 [00:52<05:37,  1.16s/it]\u001b[A\n",
      " 14%|█▍        | 47/338 [00:53<05:46,  1.19s/it]\u001b[A\n",
      " 14%|█▍        | 48/338 [00:54<05:33,  1.15s/it]\u001b[A\n",
      " 14%|█▍        | 49/338 [00:55<05:32,  1.15s/it]\u001b[A\n",
      " 15%|█▍        | 50/338 [00:57<05:58,  1.25s/it]\u001b[A\n",
      " 15%|█▌        | 51/338 [00:58<05:56,  1.24s/it]\u001b[A\n",
      " 15%|█▌        | 52/338 [00:58<04:48,  1.01s/it]\u001b[A\n",
      " 16%|█▌        | 53/338 [01:00<05:12,  1.10s/it]\u001b[A\n",
      " 16%|█▌        | 54/338 [01:01<05:28,  1.16s/it]\u001b[A\n",
      " 16%|█▋        | 55/338 [01:02<04:41,  1.00it/s]\u001b[A\n",
      " 17%|█▋        | 56/338 [01:03<04:53,  1.04s/it]\u001b[A\n",
      " 17%|█▋        | 57/338 [01:04<04:39,  1.00it/s]\u001b[A\n",
      " 17%|█▋        | 58/338 [01:05<05:03,  1.09s/it]\u001b[A\n",
      " 17%|█▋        | 59/338 [01:06<05:25,  1.17s/it]\u001b[A\n",
      " 18%|█▊        | 60/338 [01:08<05:26,  1.17s/it]\u001b[A\n",
      " 18%|█▊        | 61/338 [01:09<05:38,  1.22s/it]\u001b[A\n",
      " 18%|█▊        | 62/338 [01:10<05:49,  1.27s/it]\u001b[A\n",
      " 19%|█▊        | 63/338 [01:12<05:50,  1.28s/it]\u001b[A\n",
      " 19%|█▉        | 64/338 [01:13<05:55,  1.30s/it]\u001b[A\n",
      " 19%|█▉        | 65/338 [01:14<05:53,  1.30s/it]\u001b[A\n",
      " 20%|█▉        | 66/338 [01:15<05:47,  1.28s/it]\u001b[A\n",
      " 20%|█▉        | 67/338 [01:17<05:57,  1.32s/it]\u001b[A\n",
      " 20%|██        | 68/338 [01:18<05:57,  1.32s/it]\u001b[A\n",
      " 20%|██        | 69/338 [01:20<05:55,  1.32s/it]\u001b[A\n",
      " 21%|██        | 70/338 [01:21<05:51,  1.31s/it]\u001b[A\n",
      " 21%|██        | 71/338 [01:22<05:53,  1.32s/it]\u001b[A\n",
      " 21%|██▏       | 72/338 [01:23<05:35,  1.26s/it]\u001b[A\n",
      " 22%|██▏       | 73/338 [01:24<04:50,  1.10s/it]\u001b[A\n",
      " 22%|██▏       | 74/338 [01:25<05:08,  1.17s/it]\u001b[A\n",
      " 22%|██▏       | 75/338 [01:27<05:18,  1.21s/it]\u001b[A\n",
      " 22%|██▏       | 76/338 [01:28<05:21,  1.23s/it]\u001b[A\n",
      " 23%|██▎       | 77/338 [01:29<05:30,  1.27s/it]\u001b[A\n",
      " 23%|██▎       | 78/338 [01:30<05:12,  1.20s/it]\u001b[A\n",
      " 23%|██▎       | 79/338 [01:31<04:54,  1.14s/it]\u001b[A\n",
      " 24%|██▎       | 80/338 [01:33<05:05,  1.18s/it]\u001b[A\n",
      " 24%|██▍       | 81/338 [01:33<04:09,  1.03it/s]\u001b[A\n",
      " 24%|██▍       | 82/338 [01:34<04:33,  1.07s/it]\u001b[A\n",
      " 25%|██▍       | 83/338 [01:35<04:07,  1.03it/s]\u001b[A\n",
      " 25%|██▍       | 84/338 [01:36<04:18,  1.02s/it]\u001b[A\n",
      " 25%|██▌       | 85/338 [01:37<04:22,  1.04s/it]\u001b[A\n",
      " 25%|██▌       | 86/338 [01:39<04:44,  1.13s/it]\u001b[A\n",
      " 26%|██▌       | 87/338 [01:40<04:24,  1.05s/it]\u001b[A\n",
      " 26%|██▌       | 88/338 [01:41<04:46,  1.15s/it]\u001b[A\n",
      " 26%|██▋       | 89/338 [01:42<04:14,  1.02s/it]\u001b[A\n",
      " 27%|██▋       | 90/338 [01:43<04:32,  1.10s/it]\u001b[A\n",
      " 27%|██▋       | 91/338 [01:44<04:47,  1.16s/it]\u001b[A\n",
      " 27%|██▋       | 92/338 [01:46<05:01,  1.23s/it]\u001b[A\n",
      " 28%|██▊       | 93/338 [01:47<05:12,  1.28s/it]\u001b[A\n",
      " 28%|██▊       | 94/338 [01:48<04:35,  1.13s/it]\u001b[A\n",
      " 28%|██▊       | 95/338 [01:49<04:30,  1.11s/it]\u001b[A\n",
      " 28%|██▊       | 96/338 [01:50<04:21,  1.08s/it]\u001b[A\n",
      " 29%|██▊       | 97/338 [01:51<04:29,  1.12s/it]\u001b[A\n",
      " 29%|██▉       | 98/338 [01:52<04:25,  1.11s/it]\u001b[A\n",
      " 29%|██▉       | 99/338 [01:53<04:28,  1.12s/it]\u001b[A\n",
      " 30%|██▉       | 100/338 [01:54<04:32,  1.14s/it]\u001b[A\n",
      " 30%|██▉       | 101/338 [01:55<04:08,  1.05s/it]\u001b[A\n",
      " 30%|███       | 102/338 [01:56<04:11,  1.07s/it]\u001b[A\n",
      " 30%|███       | 103/338 [01:57<03:23,  1.16it/s]\u001b[A\n",
      " 31%|███       | 104/338 [01:58<03:43,  1.05it/s]\u001b[A\n",
      " 31%|███       | 105/338 [01:59<03:56,  1.02s/it]\u001b[A\n",
      " 31%|███▏      | 106/338 [02:01<04:32,  1.17s/it]\u001b[A\n",
      " 32%|███▏      | 107/338 [02:02<04:40,  1.22s/it]\u001b[A\n",
      " 32%|███▏      | 108/338 [02:03<04:34,  1.19s/it]\u001b[A\n",
      " 32%|███▏      | 109/338 [02:04<03:57,  1.04s/it]\u001b[A\n",
      " 33%|███▎      | 110/338 [02:05<04:02,  1.06s/it]\u001b[A\n",
      " 33%|███▎      | 111/338 [02:06<04:02,  1.07s/it]\u001b[A\n",
      " 33%|███▎      | 112/338 [02:07<04:03,  1.08s/it]\u001b[A\n",
      " 33%|███▎      | 113/338 [02:08<04:03,  1.08s/it]\u001b[A\n",
      " 34%|███▎      | 114/338 [02:09<03:31,  1.06it/s]\u001b[A\n",
      " 34%|███▍      | 115/338 [02:10<03:42,  1.00it/s]\u001b[A\n",
      " 34%|███▍      | 116/338 [02:11<03:38,  1.01it/s]\u001b[A\n",
      " 35%|███▍      | 117/338 [02:12<03:47,  1.03s/it]\u001b[A\n",
      " 35%|███▍      | 118/338 [02:13<03:52,  1.06s/it]\u001b[A\n",
      " 35%|███▌      | 119/338 [02:14<03:49,  1.05s/it]\u001b[A\n",
      " 36%|███▌      | 120/338 [02:15<03:47,  1.04s/it]\u001b[A\n",
      " 36%|███▌      | 121/338 [02:16<03:51,  1.07s/it]\u001b[A\n",
      " 36%|███▌      | 122/338 [02:18<04:00,  1.11s/it]\u001b[A\n",
      " 36%|███▋      | 123/338 [02:19<03:54,  1.09s/it]\u001b[A\n",
      " 37%|███▋      | 124/338 [02:20<03:57,  1.11s/it]\u001b[A\n",
      " 37%|███▋      | 125/338 [02:21<03:46,  1.06s/it]\u001b[A\n",
      " 37%|███▋      | 126/338 [02:22<03:39,  1.03s/it]\u001b[A\n",
      " 38%|███▊      | 127/338 [02:23<03:38,  1.04s/it]\u001b[A\n",
      " 38%|███▊      | 128/338 [02:24<03:32,  1.01s/it]\u001b[A\n",
      " 38%|███▊      | 129/338 [02:25<03:27,  1.01it/s]\u001b[A\n",
      " 38%|███▊      | 130/338 [02:26<03:38,  1.05s/it]\u001b[A\n",
      " 39%|███▉      | 131/338 [02:27<03:38,  1.06s/it]\u001b[A\n",
      " 39%|███▉      | 132/338 [02:28<03:30,  1.02s/it]\u001b[A\n",
      " 39%|███▉      | 133/338 [02:29<03:35,  1.05s/it]\u001b[A\n",
      " 40%|███▉      | 134/338 [02:30<03:36,  1.06s/it]\u001b[A\n",
      " 40%|███▉      | 135/338 [02:31<03:12,  1.06it/s]\u001b[A\n",
      " 40%|████      | 136/338 [02:32<03:24,  1.01s/it]\u001b[A\n",
      " 41%|████      | 137/338 [02:33<03:33,  1.06s/it]\u001b[A\n",
      " 41%|████      | 138/338 [02:34<03:35,  1.08s/it]\u001b[A\n",
      " 41%|████      | 139/338 [02:35<03:45,  1.13s/it]\u001b[A\n",
      " 41%|████▏     | 140/338 [02:37<03:47,  1.15s/it]\u001b[A\n",
      " 42%|████▏     | 141/338 [02:38<03:46,  1.15s/it]\u001b[A\n",
      " 42%|████▏     | 142/338 [02:38<03:16,  1.00s/it]\u001b[A\n",
      " 42%|████▏     | 143/338 [02:40<03:23,  1.04s/it]\u001b[A\n",
      " 43%|████▎     | 144/338 [02:41<03:19,  1.03s/it]\u001b[A\n",
      " 43%|████▎     | 145/338 [02:43<04:12,  1.31s/it]\u001b[A\n",
      " 43%|████▎     | 146/338 [02:44<04:17,  1.34s/it]\u001b[A\n",
      " 43%|████▎     | 147/338 [02:45<03:34,  1.12s/it]\u001b[A\n",
      " 44%|████▍     | 148/338 [02:46<03:35,  1.14s/it]\u001b[A\n",
      " 44%|████▍     | 149/338 [02:47<03:36,  1.14s/it]\u001b[A\n",
      " 44%|████▍     | 150/338 [02:48<03:17,  1.05s/it]\u001b[A\n",
      " 45%|████▍     | 151/338 [02:48<03:01,  1.03it/s]\u001b[A\n",
      " 45%|████▍     | 152/338 [02:50<03:07,  1.01s/it]\u001b[A\n",
      " 45%|████▌     | 153/338 [02:50<02:56,  1.05it/s]\u001b[A\n",
      " 46%|████▌     | 154/338 [02:51<02:52,  1.06it/s]\u001b[A\n",
      " 46%|████▌     | 155/338 [02:53<03:07,  1.02s/it]\u001b[A\n",
      " 46%|████▌     | 156/338 [02:53<02:32,  1.19it/s]\u001b[A\n"
     ]
    },
    {
     "name": "stderr",
     "output_type": "stream",
     "text": [
      " 46%|████▋     | 157/338 [02:54<02:37,  1.15it/s]\u001b[A\n",
      " 47%|████▋     | 158/338 [02:55<02:50,  1.05it/s]\u001b[A\n",
      " 47%|████▋     | 159/338 [02:56<02:32,  1.17it/s]\u001b[A\n",
      " 47%|████▋     | 160/338 [02:57<02:55,  1.01it/s]\u001b[A\n",
      " 48%|████▊     | 161/338 [02:58<03:05,  1.05s/it]\u001b[A\n",
      " 48%|████▊     | 162/338 [02:59<03:14,  1.11s/it]\u001b[A\n",
      " 48%|████▊     | 163/338 [03:01<03:24,  1.17s/it]\u001b[A\n",
      " 49%|████▊     | 164/338 [03:02<03:29,  1.20s/it]\u001b[A\n",
      " 49%|████▉     | 165/338 [03:03<03:31,  1.23s/it]\u001b[A\n",
      " 49%|████▉     | 166/338 [03:04<03:30,  1.23s/it]\u001b[A\n",
      " 49%|████▉     | 167/338 [03:06<03:34,  1.25s/it]\u001b[A\n",
      " 50%|████▉     | 168/338 [03:07<03:19,  1.17s/it]\u001b[A\n",
      " 50%|█████     | 169/338 [03:08<03:11,  1.13s/it]\u001b[A\n",
      " 50%|█████     | 170/338 [03:09<03:14,  1.16s/it]\u001b[A\n",
      " 51%|█████     | 171/338 [03:10<03:02,  1.09s/it]\u001b[A\n",
      " 51%|█████     | 172/338 [03:11<03:02,  1.10s/it]\u001b[A\n",
      " 51%|█████     | 173/338 [03:12<03:06,  1.13s/it]\u001b[A\n",
      " 51%|█████▏    | 174/338 [03:14<03:12,  1.17s/it]\u001b[A\n",
      " 52%|█████▏    | 175/338 [03:15<03:05,  1.14s/it]\u001b[A\n",
      " 52%|█████▏    | 176/338 [03:16<02:59,  1.11s/it]\u001b[A\n",
      " 53%|█████▎    | 178/338 [03:17<02:34,  1.04it/s]\u001b[A\n",
      " 53%|█████▎    | 179/338 [03:18<02:46,  1.05s/it]\u001b[A\n",
      " 53%|█████▎    | 180/338 [03:19<02:37,  1.00it/s]\u001b[A\n",
      " 54%|█████▎    | 181/338 [03:20<02:44,  1.05s/it]\u001b[A\n",
      " 54%|█████▍    | 182/338 [03:21<02:53,  1.11s/it]\u001b[A\n",
      " 54%|█████▍    | 183/338 [03:23<02:53,  1.12s/it]\u001b[A\n",
      " 54%|█████▍    | 184/338 [03:24<02:59,  1.16s/it]\u001b[A\n",
      " 55%|█████▍    | 185/338 [03:25<03:02,  1.19s/it]\u001b[A\n",
      " 55%|█████▌    | 186/338 [03:26<02:46,  1.10s/it]\u001b[A\n",
      " 55%|█████▌    | 187/338 [03:27<02:40,  1.06s/it]\u001b[A\n",
      " 56%|█████▌    | 188/338 [03:28<02:47,  1.12s/it]\u001b[A\n",
      " 56%|█████▌    | 189/338 [03:30<02:55,  1.18s/it]\u001b[A\n",
      " 56%|█████▌    | 190/338 [03:31<02:53,  1.17s/it]\u001b[A\n",
      " 57%|█████▋    | 191/338 [03:32<02:58,  1.21s/it]\u001b[A\n",
      " 57%|█████▋    | 192/338 [03:33<02:45,  1.13s/it]\u001b[A\n",
      " 57%|█████▋    | 193/338 [03:34<02:43,  1.13s/it]\u001b[A\n",
      " 57%|█████▋    | 194/338 [03:35<02:47,  1.16s/it]\u001b[A\n",
      " 58%|█████▊    | 195/338 [03:37<02:47,  1.17s/it]\u001b[A\n",
      " 58%|█████▊    | 196/338 [03:38<02:51,  1.21s/it]\u001b[A\n",
      " 58%|█████▊    | 197/338 [03:39<02:54,  1.24s/it]\u001b[A\n",
      " 59%|█████▊    | 198/338 [03:40<02:58,  1.27s/it]\u001b[A\n",
      " 59%|█████▉    | 199/338 [03:42<02:56,  1.27s/it]\u001b[A\n",
      " 59%|█████▉    | 200/338 [03:43<02:55,  1.27s/it]\u001b[A\n",
      " 59%|█████▉    | 201/338 [03:44<02:44,  1.20s/it]\u001b[A\n",
      " 60%|█████▉    | 202/338 [03:45<02:42,  1.19s/it]\u001b[A\n",
      " 60%|██████    | 203/338 [03:46<02:09,  1.05it/s]\u001b[A\n",
      " 60%|██████    | 204/338 [03:46<01:53,  1.18it/s]\u001b[A\n",
      " 61%|██████    | 205/338 [03:47<02:05,  1.06it/s]\u001b[A\n",
      " 61%|██████    | 206/338 [03:49<02:12,  1.01s/it]\u001b[A\n",
      " 61%|██████    | 207/338 [03:50<02:13,  1.02s/it]\u001b[A\n",
      " 62%|██████▏   | 208/338 [03:51<02:23,  1.10s/it]\u001b[A\n",
      " 62%|██████▏   | 209/338 [03:52<02:08,  1.00it/s]\u001b[A\n",
      " 62%|██████▏   | 210/338 [03:53<02:19,  1.09s/it]\u001b[A\n",
      " 62%|██████▏   | 211/338 [03:54<02:18,  1.09s/it]\u001b[A\n",
      " 63%|██████▎   | 212/338 [03:55<02:16,  1.08s/it]\u001b[A\n",
      " 63%|██████▎   | 213/338 [03:56<02:16,  1.09s/it]\u001b[A\n",
      " 63%|██████▎   | 214/338 [03:57<02:19,  1.13s/it]\u001b[A\n",
      " 64%|██████▎   | 215/338 [03:59<02:18,  1.13s/it]\u001b[A\n",
      " 64%|██████▍   | 216/338 [04:00<02:18,  1.14s/it]\u001b[A\n",
      " 64%|██████▍   | 217/338 [04:00<01:58,  1.02it/s]\u001b[A\n",
      " 64%|██████▍   | 218/338 [04:02<02:04,  1.04s/it]\u001b[A\n",
      " 65%|██████▍   | 219/338 [04:03<02:09,  1.09s/it]\u001b[A\n",
      " 65%|██████▌   | 220/338 [04:03<01:51,  1.06it/s]\u001b[A\n",
      " 65%|██████▌   | 221/338 [04:05<01:59,  1.03s/it]\u001b[A\n",
      " 66%|██████▌   | 222/338 [04:05<01:53,  1.02it/s]\u001b[A\n",
      " 66%|██████▌   | 223/338 [04:07<02:00,  1.05s/it]\u001b[A\n",
      " 66%|██████▋   | 224/338 [04:08<02:00,  1.06s/it]\u001b[A\n",
      " 67%|██████▋   | 225/338 [04:09<01:53,  1.00s/it]\u001b[A\n",
      " 67%|██████▋   | 226/338 [04:10<01:59,  1.07s/it]\u001b[A\n",
      " 67%|██████▋   | 227/338 [04:11<01:59,  1.08s/it]\u001b[A\n",
      " 67%|██████▋   | 228/338 [04:12<02:03,  1.12s/it]\u001b[A\n",
      " 68%|██████▊   | 229/338 [04:13<01:56,  1.06s/it]\u001b[A\n",
      " 68%|██████▊   | 230/338 [04:14<01:46,  1.02it/s]\u001b[A\n",
      " 68%|██████▊   | 231/338 [04:15<01:45,  1.02it/s]\u001b[A\n",
      " 69%|██████▊   | 232/338 [04:15<01:27,  1.21it/s]\u001b[A\n",
      " 69%|██████▉   | 233/338 [04:16<01:36,  1.09it/s]\u001b[A\n",
      " 69%|██████▉   | 234/338 [04:18<01:42,  1.01it/s]\u001b[A\n",
      " 70%|██████▉   | 235/338 [04:19<01:46,  1.04s/it]\u001b[A\n",
      " 70%|██████▉   | 236/338 [04:20<01:46,  1.04s/it]\u001b[A\n",
      " 70%|███████   | 237/338 [04:21<01:47,  1.07s/it]\u001b[A\n",
      " 70%|███████   | 238/338 [04:22<01:43,  1.03s/it]\u001b[A\n",
      " 71%|███████   | 239/338 [04:23<01:51,  1.13s/it]\u001b[A\n",
      " 71%|███████   | 240/338 [04:24<01:45,  1.08s/it]\u001b[A\n",
      " 71%|███████▏  | 241/338 [04:25<01:51,  1.15s/it]\u001b[A\n",
      " 72%|███████▏  | 242/338 [04:27<01:51,  1.16s/it]\u001b[A\n",
      " 72%|███████▏  | 243/338 [04:27<01:38,  1.04s/it]\u001b[A\n",
      " 72%|███████▏  | 244/338 [04:29<01:44,  1.12s/it]\u001b[A\n",
      " 72%|███████▏  | 245/338 [04:30<01:48,  1.17s/it]\u001b[A\n",
      " 73%|███████▎  | 246/338 [04:31<01:48,  1.17s/it]\u001b[A\n",
      " 73%|███████▎  | 247/338 [04:32<01:50,  1.21s/it]\u001b[A\n",
      " 73%|███████▎  | 248/338 [04:33<01:32,  1.03s/it]\u001b[A\n",
      " 74%|███████▎  | 249/338 [04:34<01:16,  1.17it/s]\u001b[A\n",
      " 74%|███████▍  | 250/338 [04:35<01:25,  1.02it/s]\u001b[A\n",
      " 74%|███████▍  | 251/338 [04:36<01:29,  1.03s/it]\u001b[A\n",
      " 75%|███████▍  | 252/338 [04:36<01:10,  1.22it/s]\u001b[A\n",
      " 75%|███████▍  | 253/338 [04:38<01:21,  1.04it/s]\u001b[A\n",
      " 75%|███████▌  | 254/338 [04:39<01:28,  1.05s/it]\u001b[A\n",
      " 75%|███████▌  | 255/338 [04:40<01:18,  1.06it/s]\u001b[A\n",
      " 76%|███████▌  | 256/338 [04:41<01:23,  1.02s/it]\u001b[A\n",
      " 76%|███████▌  | 257/338 [04:42<01:23,  1.03s/it]\u001b[A\n",
      " 76%|███████▋  | 258/338 [04:43<01:20,  1.00s/it]\u001b[A\n",
      " 77%|███████▋  | 259/338 [04:44<01:25,  1.08s/it]\u001b[A\n",
      " 77%|███████▋  | 261/338 [04:45<01:09,  1.11it/s]\u001b[A\n",
      " 78%|███████▊  | 262/338 [04:46<01:14,  1.02it/s]\u001b[A\n",
      " 78%|███████▊  | 263/338 [04:47<01:18,  1.05s/it]\u001b[A\n",
      " 78%|███████▊  | 264/338 [04:48<01:19,  1.07s/it]\u001b[A\n",
      " 78%|███████▊  | 265/338 [04:49<01:13,  1.00s/it]\u001b[A\n",
      " 79%|███████▊  | 266/338 [04:50<01:04,  1.12it/s]\u001b[A\n",
      " 79%|███████▉  | 267/338 [04:51<01:12,  1.02s/it]\u001b[A\n",
      " 79%|███████▉  | 268/338 [04:52<01:10,  1.01s/it]\u001b[A\n",
      " 80%|███████▉  | 269/338 [04:54<01:14,  1.08s/it]\u001b[A\n",
      " 80%|███████▉  | 270/338 [04:55<01:16,  1.13s/it]\u001b[A\n",
      " 80%|████████  | 271/338 [04:56<01:18,  1.18s/it]\u001b[A\n",
      " 80%|████████  | 272/338 [04:57<01:20,  1.21s/it]\u001b[A\n",
      " 81%|████████  | 273/338 [04:59<01:18,  1.20s/it]\u001b[A\n",
      " 81%|████████  | 274/338 [05:00<01:14,  1.16s/it]\u001b[A\n",
      " 81%|████████▏ | 275/338 [05:01<01:11,  1.14s/it]\u001b[A\n",
      " 82%|████████▏ | 276/338 [05:02<01:05,  1.06s/it]\u001b[A\n",
      " 82%|████████▏ | 277/338 [05:03<01:05,  1.07s/it]\u001b[A\n",
      " 82%|████████▏ | 278/338 [05:04<01:04,  1.07s/it]\u001b[A\n",
      " 83%|████████▎ | 279/338 [05:05<01:04,  1.10s/it]\u001b[A\n",
      " 83%|████████▎ | 280/338 [05:05<00:54,  1.06it/s]\u001b[A\n",
      " 83%|████████▎ | 281/338 [05:07<00:56,  1.00it/s]\u001b[A\n",
      " 83%|████████▎ | 282/338 [05:08<00:57,  1.03s/it]\u001b[A\n",
      " 84%|████████▎ | 283/338 [05:09<00:58,  1.07s/it]\u001b[A\n",
      " 84%|████████▍ | 284/338 [05:10<00:54,  1.02s/it]\u001b[A\n",
      " 84%|████████▍ | 285/338 [05:11<00:56,  1.06s/it]\u001b[A\n",
      " 85%|████████▍ | 286/338 [05:12<00:56,  1.09s/it]\u001b[A\n",
      " 85%|████████▍ | 287/338 [05:13<00:54,  1.07s/it]\u001b[A\n",
      " 85%|████████▌ | 288/338 [05:14<00:53,  1.08s/it]\u001b[A\n",
      " 86%|████████▌ | 289/338 [05:15<00:49,  1.00s/it]\u001b[A\n",
      " 86%|████████▌ | 290/338 [05:16<00:48,  1.00s/it]\u001b[A\n",
      " 86%|████████▌ | 291/338 [05:17<00:48,  1.03s/it]\u001b[A\n",
      " 86%|████████▋ | 292/338 [05:18<00:39,  1.15it/s]\u001b[A\n",
      " 87%|████████▋ | 293/338 [05:19<00:43,  1.05it/s]\u001b[A\n",
      " 87%|████████▋ | 294/338 [05:20<00:44,  1.01s/it]\u001b[A\n",
      " 87%|████████▋ | 295/338 [05:21<00:45,  1.06s/it]\u001b[A\n",
      " 88%|████████▊ | 297/338 [05:21<00:31,  1.31it/s]\u001b[A\n",
      " 88%|████████▊ | 298/338 [05:22<00:33,  1.20it/s]\u001b[A\n",
      " 88%|████████▊ | 299/338 [05:23<00:35,  1.10it/s]\u001b[A\n",
      " 89%|████████▉ | 300/338 [05:24<00:33,  1.13it/s]\u001b[A\n",
      " 89%|████████▉ | 301/338 [05:25<00:34,  1.06it/s]\u001b[A\n",
      " 89%|████████▉ | 302/338 [05:26<00:34,  1.04it/s]\u001b[A\n",
      " 90%|████████▉ | 303/338 [05:27<00:35,  1.01s/it]\u001b[A\n",
      " 90%|████████▉ | 304/338 [05:28<00:35,  1.05s/it]\u001b[A\n",
      " 90%|█████████ | 305/338 [05:30<00:36,  1.09s/it]\u001b[A\n",
      " 91%|█████████ | 306/338 [05:30<00:31,  1.02it/s]\u001b[A\n",
      " 91%|█████████ | 307/338 [05:31<00:30,  1.00it/s]\u001b[A\n",
      " 91%|█████████ | 308/338 [05:33<00:31,  1.05s/it]\u001b[A\n",
      " 91%|█████████▏| 309/338 [05:34<00:30,  1.07s/it]\u001b[A\n",
      " 92%|█████████▏| 310/338 [05:34<00:27,  1.02it/s]\u001b[A\n",
      " 92%|█████████▏| 311/338 [05:35<00:24,  1.10it/s]\u001b[A\n",
      " 92%|█████████▏| 312/338 [05:36<00:25,  1.01it/s]\u001b[A\n",
      " 93%|█████████▎| 313/338 [05:37<00:25,  1.02s/it]\u001b[A\n"
     ]
    },
    {
     "name": "stderr",
     "output_type": "stream",
     "text": [
      " 93%|█████████▎| 314/338 [05:38<00:22,  1.05it/s]\u001b[A\n",
      " 93%|█████████▎| 315/338 [05:39<00:19,  1.16it/s]\u001b[A\n",
      " 93%|█████████▎| 316/338 [05:40<00:20,  1.08it/s]\u001b[A\n",
      " 94%|█████████▍| 317/338 [05:41<00:20,  1.01it/s]\u001b[A\n",
      " 94%|█████████▍| 318/338 [05:42<00:18,  1.08it/s]\u001b[A\n",
      " 94%|█████████▍| 319/338 [05:43<00:17,  1.07it/s]\u001b[A\n",
      " 95%|█████████▍| 321/338 [05:44<00:13,  1.22it/s]\u001b[A\n",
      " 95%|█████████▌| 322/338 [05:45<00:12,  1.30it/s]\u001b[A\n",
      " 96%|█████████▌| 323/338 [05:46<00:13,  1.12it/s]\u001b[A\n",
      " 96%|█████████▌| 324/338 [05:47<00:12,  1.09it/s]\u001b[A\n",
      " 96%|█████████▌| 325/338 [05:48<00:13,  1.02s/it]\u001b[A\n",
      " 96%|█████████▋| 326/338 [05:49<00:11,  1.04it/s]\u001b[A\n",
      " 97%|█████████▋| 327/338 [05:50<00:09,  1.15it/s]\u001b[A\n",
      " 97%|█████████▋| 328/338 [05:50<00:08,  1.20it/s]\u001b[A\n",
      " 97%|█████████▋| 329/338 [05:52<00:08,  1.05it/s]\u001b[A\n",
      " 98%|█████████▊| 330/338 [05:53<00:07,  1.00it/s]\u001b[A\n",
      " 98%|█████████▊| 331/338 [05:53<00:05,  1.18it/s]\u001b[A\n",
      " 98%|█████████▊| 332/338 [05:54<00:05,  1.11it/s]\u001b[A\n",
      " 99%|█████████▊| 333/338 [05:55<00:04,  1.03it/s]\u001b[A\n",
      " 99%|█████████▉| 334/338 [05:56<00:03,  1.14it/s]\u001b[A\n",
      " 99%|█████████▉| 335/338 [05:59<00:04,  1.41s/it]\u001b[A\n",
      " 99%|█████████▉| 336/338 [05:59<00:02,  1.12s/it]\u001b[A\n",
      "100%|█████████▉| 337/338 [06:00<00:00,  1.03it/s]\u001b[A\n",
      "100%|██████████| 338/338 [06:00<00:00,  1.07s/it]\u001b[A\n"
     ]
    }
   ],
   "source": [
    "testpos_ri,testpos_ri_norms = computeRi(model.classifier,attributes,testpos,1)"
   ]
  },
  {
   "cell_type": "code",
   "execution_count": 16,
   "metadata": {
    "ExecuteTime": {
     "end_time": "2020-02-25T13:20:41.692254Z",
     "start_time": "2020-02-25T13:20:41.393030Z"
    }
   },
   "outputs": [
    {
     "data": {
      "text/plain": [
       "<matplotlib.axes._subplots.AxesSubplot at 0x7fac3d2e0358>"
      ]
     },
     "execution_count": 16,
     "metadata": {},
     "output_type": "execute_result"
    },
    {
     "data": {
      "image/png": "[encoded data removed]",
      "text/plain": [
       "<Figure size 432x288 with 1 Axes>"
      ]
     },
     "metadata": {
      "needs_background": "light"
     },
     "output_type": "display_data"
    }
   ],
   "source": [
    "testneg_ri_norms.drop(['sample_id'],axis=1).sum().plot.bar()"
   ]
  },
  {
   "cell_type": "code",
   "execution_count": 17,
   "metadata": {
    "ExecuteTime": {
     "end_time": "2020-02-25T13:20:55.245997Z",
     "start_time": "2020-02-25T13:20:54.941578Z"
    }
   },
   "outputs": [
    {
     "data": {
      "text/plain": [
       "<matplotlib.axes._subplots.AxesSubplot at 0x7fac3d242320>"
      ]
     },
     "execution_count": 17,
     "metadata": {},
     "output_type": "execute_result"
    },
    {
     "data": {
      "image/png": "[encoded data removed]",
      "text/plain": [
       "<Figure size 432x288 with 1 Axes>"
      ]
     },
     "metadata": {
      "needs_background": "light"
     },
     "output_type": "display_data"
    }
   ],
   "source": [
    "testpos_ri_norms.drop(['sample_id'],axis=1).sum().plot.bar()"
   ]
  },
  {
   "cell_type": "code",
   "execution_count": 19,
   "metadata": {
    "ExecuteTime": {
     "end_time": "2020-02-25T13:21:38.438531Z",
     "start_time": "2020-02-25T13:21:37.638385Z"
    }
   },
   "outputs": [],
   "source": [
    "import torch\n",
    "torch.save(testpos_ri,'cora_testpos_ri.pth')\n",
    "torch.save(testneg_ri,'cora_testneg_ri.pth')"
   ]
  },
  {
   "cell_type": "code",
   "execution_count": 21,
   "metadata": {
    "ExecuteTime": {
     "end_time": "2020-02-25T13:22:44.194921Z",
     "start_time": "2020-02-25T13:22:44.122951Z"
    }
   },
   "outputs": [],
   "source": [
    "testpos_ri_norms.to_csv('cora_testpos_ri_norms.csv',index=False)\n",
    "testneg_ri_norms.to_csv('cora_testneg_ri_norms.csv',index=False)"
   ]
  },
  {
   "cell_type": "code",
   "execution_count": null,
   "metadata": {},
   "outputs": [],
   "source": []
  }
 ],
 "metadata": {
  "kernelspec": {
   "display_name": "Python 3",
   "language": "python",
   "name": "python3"
  },
  "language_info": {
   "codemirror_mode": {
    "name": "ipython",
    "version": 3
   },
   "file_extension": ".py",
   "mimetype": "text/x-python",
   "name": "python",
   "nbconvert_exporter": "python",
   "pygments_lexer": "ipython3",
   "version": "3.6.10"
  },
  "toc": {
   "base_numbering": 1,
   "nav_menu": {},
   "number_sections": true,
   "sideBar": true,
   "skip_h1_title": false,
   "title_cell": "Table of Contents",
   "title_sidebar": "Contents",
   "toc_cell": false,
   "toc_position": {},
   "toc_section_display": true,
   "toc_window_display": false
  }
 },
 "nbformat": 4,
 "nbformat_minor": 4
}

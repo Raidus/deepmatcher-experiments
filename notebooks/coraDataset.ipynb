{
 "cells": [
  {
   "cell_type": "code",
   "execution_count": 4,
   "metadata": {
    "ExecuteTime": {
     "end_time": "2020-05-28T15:22:23.199935Z",
     "start_time": "2020-05-28T15:22:23.158639Z"
    }
   },
   "outputs": [
    {
     "name": "stdout",
     "output_type": "stream",
     "text": [
      "The autoreload extension is already loaded. To reload it, use:\n",
      "  %reload_ext autoreload\n"
     ]
    }
   ],
   "source": [
    "%load_ext autoreload\n",
    "%autoreload 2\n",
    "import sys\n",
    "sys.path.append('..')"
   ]
  },
  {
   "cell_type": "code",
   "execution_count": 5,
   "metadata": {
    "ExecuteTime": {
     "end_time": "2020-05-28T15:22:23.530147Z",
     "start_time": "2020-05-28T15:22:23.495865Z"
    }
   },
   "outputs": [],
   "source": [
    "import deepmatcher as dm\n",
    "import pandas as pd\n",
    "from utils.intermediate_layer_extraction import return_layer_input\n",
    "from utils.dataset_parser import get_pos_neg_datasets,generate_train_valid_test\n",
    "from utils.ri_calculator import computeRi\n",
    "from utils.distance_measures import nearestNeighborOnAttributes,smallestDistanceOnAttributes"
   ]
  },
  {
   "cell_type": "code",
   "execution_count": 9,
   "metadata": {
    "ExecuteTime": {
     "end_time": "2020-05-18T12:53:22.791134Z",
     "start_time": "2020-05-18T12:53:22.575843Z"
    }
   },
   "outputs": [],
   "source": [
    "train_df,validation_df,test_df = generate_train_valid_test('../datasets/Cora','cora.csv','cora.csv',\n",
    "                                                          ['train.csv','validation.csv','test.csv'],\n",
    "                                                          'ltable_','rtable_')"
   ]
  },
  {
   "cell_type": "code",
   "execution_count": 10,
   "metadata": {
    "ExecuteTime": {
     "end_time": "2020-05-18T12:53:34.550080Z",
     "start_time": "2020-05-18T12:53:34.251489Z"
    }
   },
   "outputs": [],
   "source": [
    "train_df.to_csv('../datasets/Cora/cora_train.csv',index=False)\n",
    "validation_df.to_csv('../datasets/Cora/cora_validation.csv',index=False)\n",
    "test_df.to_csv('../datasets/Cora/cora_test.csv',index=False)"
   ]
  },
  {
   "cell_type": "code",
   "execution_count": 4,
   "metadata": {
    "ExecuteTime": {
     "end_time": "2020-05-28T15:09:01.382734Z",
     "start_time": "2020-05-28T15:07:48.754277Z"
    }
   },
   "outputs": [
    {
     "name": "stderr",
     "output_type": "stream",
     "text": [
      "WARNING:deepmatcher.data.dataset:Rebuilding data cache because: ['Data file list has changed.']\n",
      "\n",
      "Reading and processing data from \"../datasets/Cora/cora_train_deeper.csv\"\n",
      "0% [############################# ] 100% | ETA: 00:00:00\n",
      "Reading and processing data from \"../datasets/Cora/cora_validation_deeper.csv\"\n",
      "0% [############################# ] 100% | ETA: 00:00:00\n",
      "Reading and processing data from \"../datasets/Cora/cora_test_deeper.csv\"\n",
      "0% [############################# ] 100% | ETA: 00:00:00\n",
      "Building vocabulary\n",
      "0% [##########] 100% | ETA: 00:00:00\n",
      "Total time elapsed: 00:00:01\n",
      "\n",
      "Computing principal components\n",
      "0% [##########] 100% | ETA: 00:00:00\n",
      "Total time elapsed: 00:00:19\n"
     ]
    }
   ],
   "source": [
    "train,validation,test = dm.data.process('../datasets/Cora/',train='cora_train_deeper.csv',\n",
    "                                        validation='cora_validation_deeper.csv',\n",
    "                                        test='cora_test_deeper.csv',left_prefix='ltable_',\n",
    "                                        right_prefix='rtable_')"
   ]
  },
  {
   "cell_type": "code",
   "execution_count": 13,
   "metadata": {
    "ExecuteTime": {
     "end_time": "2020-05-18T14:27:26.549840Z",
     "start_time": "2020-05-18T12:55:08.819565Z"
    }
   },
   "outputs": [
    {
     "name": "stdout",
     "output_type": "stream",
     "text": [
      "* Number of trainable parameters: 35333818\n",
      "===>  TRAIN Epoch 1\n"
     ]
    },
    {
     "name": "stderr",
     "output_type": "stream",
     "text": [
      "/home/nvidia/anaconda3/envs/testenv/lib/python3.8/site-packages/torch/nn/functional.py:1958: UserWarning: reduction: 'mean' divides the total loss by both the batch size and the support size.'batchmean' divides only by the batch size, and aligns with the KL div math definition.'mean' will be changed to behave the same as 'batchmean' in the next major release.\n",
      "  warnings.warn(\"reduction: 'mean' divides the total loss by both the batch size and the support size.\"\n",
      "0% [██████████████████████████████] 100% | ETA: 00:00:00\n",
      "Total time elapsed: 00:03:40\n"
     ]
    },
    {
     "name": "stdout",
     "output_type": "stream",
     "text": [
      "Finished Epoch 1 || Run Time:  138.3 | Load Time:   86.2 || F1:  78.65 | Prec:  69.16 | Rec:  91.16 || Ex/s:  43.16\n",
      "\n",
      "===>  EVAL Epoch 1\n"
     ]
    },
    {
     "name": "stderr",
     "output_type": "stream",
     "text": [
      "0% [███████████████] 100% | ETA: 00:00:00\n",
      "Total time elapsed: 00:00:58\n"
     ]
    },
    {
     "name": "stdout",
     "output_type": "stream",
     "text": [
      "Finished Epoch 1 || Run Time:   23.2 | Load Time:   36.1 || F1:  84.39 | Prec:  74.46 | Rec:  97.38 || Ex/s:  81.73\n",
      "\n",
      "* Best F1: tensor(84.3940, device='cuda:0')\n",
      "Saving best model...\n",
      "Done.\n",
      "---------------------\n",
      "\n",
      "===>  TRAIN Epoch 2\n"
     ]
    },
    {
     "name": "stderr",
     "output_type": "stream",
     "text": [
      "0% [██████████████████████████████] 100% | ETA: 00:00:00\n",
      "Total time elapsed: 00:03:36\n"
     ]
    },
    {
     "name": "stdout",
     "output_type": "stream",
     "text": [
      "Finished Epoch 2 || Run Time:  135.9 | Load Time:   84.6 || F1:  85.78 | Prec:  76.16 | Rec:  98.18 || Ex/s:  43.93\n",
      "\n",
      "===>  EVAL Epoch 2\n"
     ]
    },
    {
     "name": "stderr",
     "output_type": "stream",
     "text": [
      "0% [███████████████] 100% | ETA: 00:00:00\n",
      "Total time elapsed: 00:00:58\n"
     ]
    },
    {
     "name": "stdout",
     "output_type": "stream",
     "text": [
      "Finished Epoch 2 || Run Time:   22.4 | Load Time:   36.2 || F1:  85.51 | Prec:  76.78 | Rec:  96.49 || Ex/s:  82.59\n",
      "\n",
      "* Best F1: tensor(85.5122, device='cuda:0')\n",
      "Saving best model...\n",
      "Done.\n",
      "---------------------\n",
      "\n",
      "===>  TRAIN Epoch 3\n"
     ]
    },
    {
     "name": "stderr",
     "output_type": "stream",
     "text": [
      "0% [██████████████████████████████] 100% | ETA: 00:00:00\n",
      "Total time elapsed: 00:03:30\n"
     ]
    },
    {
     "name": "stdout",
     "output_type": "stream",
     "text": [
      "Finished Epoch 3 || Run Time:  130.9 | Load Time:   83.1 || F1:  86.61 | Prec:  77.10 | Rec:  98.80 || Ex/s:  45.27\n",
      "\n",
      "===>  EVAL Epoch 3\n"
     ]
    },
    {
     "name": "stderr",
     "output_type": "stream",
     "text": [
      "0% [███████████████] 100% | ETA: 00:00:00\n",
      "Total time elapsed: 00:00:56\n"
     ]
    },
    {
     "name": "stdout",
     "output_type": "stream",
     "text": [
      "Finished Epoch 3 || Run Time:   21.6 | Load Time:   35.4 || F1:  86.84 | Prec:  77.99 | Rec:  97.96 || Ex/s:  84.95\n",
      "\n",
      "* Best F1: tensor(86.8384, device='cuda:0')\n",
      "Saving best model...\n",
      "Done.\n",
      "---------------------\n",
      "\n",
      "===>  TRAIN Epoch 4\n"
     ]
    },
    {
     "name": "stderr",
     "output_type": "stream",
     "text": [
      "0% [██████████████████████████████] 100% | ETA: 00:00:00\n",
      "Total time elapsed: 00:03:29\n"
     ]
    },
    {
     "name": "stdout",
     "output_type": "stream",
     "text": [
      "Finished Epoch 4 || Run Time:  130.3 | Load Time:   83.2 || F1:  87.27 | Prec:  78.00 | Rec:  99.05 || Ex/s:  45.38\n",
      "\n",
      "===>  EVAL Epoch 4\n"
     ]
    },
    {
     "name": "stderr",
     "output_type": "stream",
     "text": [
      "0% [███████████████] 100% | ETA: 00:00:00\n",
      "Total time elapsed: 00:00:57\n"
     ]
    },
    {
     "name": "stdout",
     "output_type": "stream",
     "text": [
      "Finished Epoch 4 || Run Time:   22.2 | Load Time:   35.6 || F1:  87.07 | Prec:  78.73 | Rec:  97.38 || Ex/s:  83.72\n",
      "\n",
      "* Best F1: tensor(87.0682, device='cuda:0')\n",
      "Saving best model...\n",
      "Done.\n",
      "---------------------\n",
      "\n",
      "===>  TRAIN Epoch 5\n"
     ]
    },
    {
     "name": "stderr",
     "output_type": "stream",
     "text": [
      "0% [██████████████████████████████] 100% | ETA: 00:00:00\n",
      "Total time elapsed: 00:03:36\n"
     ]
    },
    {
     "name": "stdout",
     "output_type": "stream",
     "text": [
      "Finished Epoch 5 || Run Time:  135.6 | Load Time:   84.5 || F1:  88.05 | Prec:  79.02 | Rec:  99.41 || Ex/s:  44.01\n",
      "\n",
      "===>  EVAL Epoch 5\n"
     ]
    },
    {
     "name": "stderr",
     "output_type": "stream",
     "text": [
      "0% [███████████████] 100% | ETA: 00:00:00\n",
      "Total time elapsed: 00:00:58\n"
     ]
    },
    {
     "name": "stdout",
     "output_type": "stream",
     "text": [
      "Finished Epoch 5 || Run Time:   22.6 | Load Time:   36.5 || F1:  87.32 | Prec:  79.11 | Rec:  97.45 || Ex/s:  81.99\n",
      "\n",
      "* Best F1: tensor(87.3247, device='cuda:0')\n",
      "Saving best model...\n",
      "Done.\n",
      "---------------------\n",
      "\n",
      "===>  TRAIN Epoch 6\n"
     ]
    },
    {
     "name": "stderr",
     "output_type": "stream",
     "text": [
      "0% [██████████████████████████████] 100% | ETA: 00:00:00\n",
      "Total time elapsed: 00:03:30\n"
     ]
    },
    {
     "name": "stdout",
     "output_type": "stream",
     "text": [
      "Finished Epoch 6 || Run Time:  130.6 | Load Time:   83.3 || F1:  88.59 | Prec:  79.87 | Rec:  99.45 || Ex/s:  45.30\n",
      "\n",
      "===>  EVAL Epoch 6\n"
     ]
    },
    {
     "name": "stderr",
     "output_type": "stream",
     "text": [
      "0% [███████████████] 100% | ETA: 00:00:00\n",
      "Total time elapsed: 00:00:56\n"
     ]
    },
    {
     "name": "stdout",
     "output_type": "stream",
     "text": [
      "Finished Epoch 6 || Run Time:   21.6 | Load Time:   35.4 || F1:  87.57 | Prec:  80.16 | Rec:  96.49 || Ex/s:  84.95\n",
      "\n",
      "* Best F1: tensor(87.5688, device='cuda:0')\n",
      "Saving best model...\n",
      "Done.\n",
      "---------------------\n",
      "\n",
      "===>  TRAIN Epoch 7\n"
     ]
    },
    {
     "name": "stderr",
     "output_type": "stream",
     "text": [
      "0% [██████████████████████████████] 100% | ETA: 00:00:00\n",
      "Total time elapsed: 00:03:33\n"
     ]
    },
    {
     "name": "stdout",
     "output_type": "stream",
     "text": [
      "Finished Epoch 7 || Run Time:  132.8 | Load Time:   83.9 || F1:  89.05 | Prec:  80.64 | Rec:  99.41 || Ex/s:  44.69\n",
      "\n",
      "===>  EVAL Epoch 7\n"
     ]
    },
    {
     "name": "stderr",
     "output_type": "stream",
     "text": [
      "0% [███████████████] 100% | ETA: 00:00:00\n",
      "Total time elapsed: 00:00:57\n"
     ]
    },
    {
     "name": "stdout",
     "output_type": "stream",
     "text": [
      "Finished Epoch 7 || Run Time:   22.4 | Load Time:   36.2 || F1:  87.23 | Prec:  80.09 | Rec:  95.79 || Ex/s:  82.69\n",
      "\n",
      "---------------------\n",
      "\n",
      "===>  TRAIN Epoch 8\n"
     ]
    },
    {
     "name": "stderr",
     "output_type": "stream",
     "text": [
      "0% [██████████████████████████████] 100% | ETA: 00:00:00\n",
      "Total time elapsed: 00:03:36\n"
     ]
    },
    {
     "name": "stdout",
     "output_type": "stream",
     "text": [
      "Finished Epoch 8 || Run Time:  135.5 | Load Time:   84.2 || F1:  89.53 | Prec:  81.42 | Rec:  99.45 || Ex/s:  44.09\n",
      "\n",
      "===>  EVAL Epoch 8\n"
     ]
    },
    {
     "name": "stderr",
     "output_type": "stream",
     "text": [
      "0% [███████████████] 100% | ETA: 00:00:00\n",
      "Total time elapsed: 00:00:57\n"
     ]
    },
    {
     "name": "stdout",
     "output_type": "stream",
     "text": [
      "Finished Epoch 8 || Run Time:   22.4 | Load Time:   36.2 || F1:  87.36 | Prec:  80.30 | Rec:  95.79 || Ex/s:  82.76\n",
      "\n",
      "---------------------\n",
      "\n",
      "===>  TRAIN Epoch 9\n"
     ]
    },
    {
     "name": "stderr",
     "output_type": "stream",
     "text": [
      "0% [██████████████████████████████] 100% | ETA: 00:00:00\n",
      "Total time elapsed: 00:03:36\n"
     ]
    },
    {
     "name": "stdout",
     "output_type": "stream",
     "text": [
      "Finished Epoch 9 || Run Time:  135.8 | Load Time:   84.2 || F1:  90.00 | Prec:  82.24 | Rec:  99.38 || Ex/s:  44.05\n",
      "\n",
      "===>  EVAL Epoch 9\n"
     ]
    },
    {
     "name": "stderr",
     "output_type": "stream",
     "text": [
      "0% [███████████████] 100% | ETA: 00:00:00\n",
      "Total time elapsed: 00:00:57\n"
     ]
    },
    {
     "name": "stdout",
     "output_type": "stream",
     "text": [
      "Finished Epoch 9 || Run Time:   22.4 | Load Time:   36.1 || F1:  87.21 | Prec:  80.36 | Rec:  95.34 || Ex/s:  82.86\n",
      "\n",
      "---------------------\n",
      "\n",
      "===>  TRAIN Epoch 10\n"
     ]
    },
    {
     "name": "stderr",
     "output_type": "stream",
     "text": [
      "0% [██████████████████████████████] 100% | ETA: 00:00:00\n",
      "Total time elapsed: 00:03:36\n"
     ]
    },
    {
     "name": "stdout",
     "output_type": "stream",
     "text": [
      "Finished Epoch 10 || Run Time:  135.5 | Load Time:   84.4 || F1:  90.48 | Prec:  83.06 | Rec:  99.35 || Ex/s:  44.04\n",
      "\n",
      "===>  EVAL Epoch 10\n"
     ]
    },
    {
     "name": "stderr",
     "output_type": "stream",
     "text": [
      "0% [███████████████] 100% | ETA: 00:00:00\n",
      "Total time elapsed: 00:00:58\n"
     ]
    },
    {
     "name": "stdout",
     "output_type": "stream",
     "text": [
      "Finished Epoch 10 || Run Time:   22.4 | Load Time:   36.2 || F1:  86.86 | Prec:  80.63 | Rec:  94.13 || Ex/s:  82.57\n",
      "\n",
      "---------------------\n",
      "\n",
      "===>  TRAIN Epoch 11\n"
     ]
    },
    {
     "name": "stderr",
     "output_type": "stream",
     "text": [
      "0% [██████████████████████████████] 100% | ETA: 00:00:00\n",
      "Total time elapsed: 00:03:36\n"
     ]
    },
    {
     "name": "stdout",
     "output_type": "stream",
     "text": [
      "Finished Epoch 11 || Run Time:  135.8 | Load Time:   84.3 || F1:  90.79 | Prec:  83.63 | Rec:  99.29 || Ex/s:  44.01\n",
      "\n",
      "===>  EVAL Epoch 11\n"
     ]
    },
    {
     "name": "stderr",
     "output_type": "stream",
     "text": [
      "0% [███████████████] 100% | ETA: 00:00:00\n",
      "Total time elapsed: 00:00:57\n"
     ]
    },
    {
     "name": "stdout",
     "output_type": "stream",
     "text": [
      "Finished Epoch 11 || Run Time:   22.4 | Load Time:   36.2 || F1:  86.30 | Prec:  80.86 | Rec:  92.53 || Ex/s:  82.63\n",
      "\n",
      "---------------------\n",
      "\n",
      "===>  TRAIN Epoch 12\n"
     ]
    },
    {
     "name": "stderr",
     "output_type": "stream",
     "text": [
      "0% [██████████████████████████████] 100% | ETA: 00:00:00\n",
      "Total time elapsed: 00:03:36\n"
     ]
    },
    {
     "name": "stdout",
     "output_type": "stream",
     "text": [
      "Finished Epoch 12 || Run Time:  135.9 | Load Time:   84.0 || F1:  91.13 | Prec:  84.07 | Rec:  99.48 || Ex/s:  44.06\n",
      "\n",
      "===>  EVAL Epoch 12\n"
     ]
    },
    {
     "name": "stderr",
     "output_type": "stream",
     "text": [
      "0% [███████████████] 100% | ETA: 00:00:00\n",
      "Total time elapsed: 00:00:58\n"
     ]
    },
    {
     "name": "stdout",
     "output_type": "stream",
     "text": [
      "Finished Epoch 12 || Run Time:   22.4 | Load Time:   36.3 || F1:  86.09 | Prec:  81.13 | Rec:  91.70 || Ex/s:  82.40\n",
      "\n",
      "---------------------\n",
      "\n",
      "===>  TRAIN Epoch 13\n"
     ]
    },
    {
     "name": "stderr",
     "output_type": "stream",
     "text": [
      "0% [██████████████████████████████] 100% | ETA: 00:00:00\n",
      "Total time elapsed: 00:03:36\n"
     ]
    },
    {
     "name": "stdout",
     "output_type": "stream",
     "text": [
      "Finished Epoch 13 || Run Time:  135.4 | Load Time:   84.5 || F1:  91.46 | Prec:  84.64 | Rec:  99.48 || Ex/s:  44.05\n",
      "\n",
      "===>  EVAL Epoch 13\n"
     ]
    },
    {
     "name": "stderr",
     "output_type": "stream",
     "text": [
      "0% [███████████████] 100% | ETA: 00:00:00\n",
      "Total time elapsed: 00:00:57\n"
     ]
    },
    {
     "name": "stdout",
     "output_type": "stream",
     "text": [
      "Finished Epoch 13 || Run Time:   22.4 | Load Time:   36.2 || F1:  85.35 | Prec:  81.13 | Rec:  90.04 || Ex/s:  82.67\n",
      "\n",
      "---------------------\n",
      "\n",
      "===>  TRAIN Epoch 14\n"
     ]
    },
    {
     "name": "stderr",
     "output_type": "stream",
     "text": [
      "0% [██████████████████████████████] 100% | ETA: 00:00:00\n",
      "Total time elapsed: 00:03:32\n"
     ]
    },
    {
     "name": "stdout",
     "output_type": "stream",
     "text": [
      "Finished Epoch 14 || Run Time:  131.9 | Load Time:   84.0 || F1:  91.76 | Prec:  85.14 | Rec:  99.51 || Ex/s:  44.88\n",
      "\n",
      "===>  EVAL Epoch 14\n"
     ]
    },
    {
     "name": "stderr",
     "output_type": "stream",
     "text": [
      "0% [███████████████] 100% | ETA: 00:00:00\n",
      "Total time elapsed: 00:00:57\n"
     ]
    },
    {
     "name": "stdout",
     "output_type": "stream",
     "text": [
      "Finished Epoch 14 || Run Time:   22.4 | Load Time:   35.9 || F1:  85.19 | Prec:  81.04 | Rec:  89.78 || Ex/s:  83.06\n",
      "\n",
      "---------------------\n",
      "\n",
      "===>  TRAIN Epoch 15\n"
     ]
    },
    {
     "name": "stderr",
     "output_type": "stream",
     "text": [
      "0% [██████████████████████████████] 100% | ETA: 00:00:00\n",
      "Total time elapsed: 00:03:32\n"
     ]
    },
    {
     "name": "stdout",
     "output_type": "stream",
     "text": [
      "Finished Epoch 15 || Run Time:  132.3 | Load Time:   83.9 || F1:  92.10 | Prec:  85.73 | Rec:  99.51 || Ex/s:  44.81\n",
      "\n",
      "===>  EVAL Epoch 15\n"
     ]
    },
    {
     "name": "stderr",
     "output_type": "stream",
     "text": [
      "0% [███████████████] 100% | ETA: 00:00:00\n",
      "Total time elapsed: 00:00:57\n"
     ]
    },
    {
     "name": "stdout",
     "output_type": "stream",
     "text": [
      "Finished Epoch 15 || Run Time:   22.4 | Load Time:   36.1 || F1:  85.52 | Prec:  81.06 | Rec:  90.49 || Ex/s:  82.90\n",
      "\n",
      "---------------------\n",
      "\n",
      "===>  TRAIN Epoch 16\n"
     ]
    },
    {
     "name": "stderr",
     "output_type": "stream",
     "text": [
      "0% [██████████████████████████████] 100% | ETA: 00:00:00\n",
      "Total time elapsed: 00:03:32\n"
     ]
    },
    {
     "name": "stdout",
     "output_type": "stream",
     "text": [
      "Finished Epoch 16 || Run Time:  131.7 | Load Time:   83.9 || F1:  92.35 | Prec:  86.08 | Rec:  99.60 || Ex/s:  44.92\n",
      "\n",
      "===>  EVAL Epoch 16\n"
     ]
    },
    {
     "name": "stderr",
     "output_type": "stream",
     "text": [
      "0% [███████████████] 100% | ETA: 00:00:00\n",
      "Total time elapsed: 00:00:58\n"
     ]
    },
    {
     "name": "stdout",
     "output_type": "stream",
     "text": [
      "Finished Epoch 16 || Run Time:   22.9 | Load Time:   36.2 || F1:  85.76 | Prec:  81.14 | Rec:  90.93 || Ex/s:  81.97\n",
      "\n",
      "---------------------\n",
      "\n",
      "===>  TRAIN Epoch 17\n"
     ]
    },
    {
     "name": "stderr",
     "output_type": "stream",
     "text": [
      "0% [██████████████████████████████] 100% | ETA: 00:00:00\n",
      "Total time elapsed: 00:03:32\n"
     ]
    },
    {
     "name": "stdout",
     "output_type": "stream",
     "text": [
      "Finished Epoch 17 || Run Time:  132.0 | Load Time:   83.9 || F1:  92.48 | Prec:  86.27 | Rec:  99.66 || Ex/s:  44.88\n",
      "\n",
      "===>  EVAL Epoch 17\n"
     ]
    },
    {
     "name": "stderr",
     "output_type": "stream",
     "text": [
      "0% [███████████████] 100% | ETA: 00:00:00\n",
      "Total time elapsed: 00:00:57\n"
     ]
    },
    {
     "name": "stdout",
     "output_type": "stream",
     "text": [
      "Finished Epoch 17 || Run Time:   22.4 | Load Time:   36.1 || F1:  85.71 | Prec:  81.05 | Rec:  90.93 || Ex/s:  82.74\n",
      "\n",
      "---------------------\n",
      "\n",
      "===>  TRAIN Epoch 18\n"
     ]
    },
    {
     "name": "stderr",
     "output_type": "stream",
     "text": [
      "0% [██████████████████████████████] 100% | ETA: 00:00:00\n",
      "Total time elapsed: 00:03:32\n"
     ]
    },
    {
     "name": "stdout",
     "output_type": "stream",
     "text": [
      "Finished Epoch 18 || Run Time:  132.3 | Load Time:   84.0 || F1:  92.58 | Prec:  86.41 | Rec:  99.69 || Ex/s:  44.78\n",
      "\n",
      "===>  EVAL Epoch 18\n"
     ]
    },
    {
     "name": "stderr",
     "output_type": "stream",
     "text": [
      "0% [███████████████] 100% | ETA: 00:00:00\n",
      "Total time elapsed: 00:00:58\n"
     ]
    },
    {
     "name": "stdout",
     "output_type": "stream",
     "text": [
      "Finished Epoch 18 || Run Time:   22.5 | Load Time:   36.3 || F1:  85.52 | Prec:  81.03 | Rec:  90.55 || Ex/s:  82.50\n",
      "\n",
      "---------------------\n",
      "\n",
      "===>  TRAIN Epoch 19\n"
     ]
    },
    {
     "name": "stderr",
     "output_type": "stream",
     "text": [
      "0% [██████████████████████████████] 100% | ETA: 00:00:00\n",
      "Total time elapsed: 00:03:32\n"
     ]
    },
    {
     "name": "stdout",
     "output_type": "stream",
     "text": [
      "Finished Epoch 19 || Run Time:  131.7 | Load Time:   84.0 || F1:  92.68 | Prec:  86.60 | Rec:  99.69 || Ex/s:  44.92\n",
      "\n",
      "===>  EVAL Epoch 19\n"
     ]
    },
    {
     "name": "stderr",
     "output_type": "stream",
     "text": [
      "0% [███████████████] 100% | ETA: 00:00:00\n",
      "Total time elapsed: 00:00:58\n"
     ]
    },
    {
     "name": "stdout",
     "output_type": "stream",
     "text": [
      "Finished Epoch 19 || Run Time:   22.9 | Load Time:   36.1 || F1:  85.29 | Prec:  80.92 | Rec:  90.17 || Ex/s:  82.11\n",
      "\n",
      "---------------------\n",
      "\n",
      "===>  TRAIN Epoch 20\n"
     ]
    },
    {
     "name": "stderr",
     "output_type": "stream",
     "text": [
      "0% [██████████████████████████████] 100% | ETA: 00:00:00\n",
      "Total time elapsed: 00:03:32\n"
     ]
    },
    {
     "name": "stdout",
     "output_type": "stream",
     "text": [
      "Finished Epoch 20 || Run Time:  132.0 | Load Time:   84.2 || F1:  92.79 | Prec:  86.76 | Rec:  99.72 || Ex/s:  44.82\n",
      "\n",
      "===>  EVAL Epoch 20\n"
     ]
    },
    {
     "name": "stderr",
     "output_type": "stream",
     "text": [
      "0% [███████████████] 100% | ETA: 00:00:00\n",
      "Total time elapsed: 00:00:58\n"
     ]
    },
    {
     "name": "stdout",
     "output_type": "stream",
     "text": [
      "Finished Epoch 20 || Run Time:   22.5 | Load Time:   36.2 || F1:  85.30 | Prec:  81.03 | Rec:  90.04 || Ex/s:  82.53\n",
      "\n",
      "---------------------\n",
      "\n",
      "Loading best model...\n",
      "Training done.\n"
     ]
    },
    {
     "data": {
      "text/plain": [
       "tensor(87.5688, device='cuda:0')"
      ]
     },
     "execution_count": 13,
     "metadata": {},
     "output_type": "execute_result"
    }
   ],
   "source": [
    "model = dm.MatchingModel(attr_summarizer='hybrid')\n",
    "model.run_train(train,validation,pos_neg_ratio=2,epochs=20,batch_size=64,best_save_path='../models/cora_hybrid.pth')"
   ]
  },
  {
   "cell_type": "code",
   "execution_count": 5,
   "metadata": {
    "ExecuteTime": {
     "end_time": "2020-05-28T15:10:24.121627Z",
     "start_time": "2020-05-28T15:10:19.994439Z"
    }
   },
   "outputs": [],
   "source": [
    "hybrid_deeper = dm.MatchingModel(attr_summarizer='hybrid')\n",
    "hybrid_deeper.load_state('../models/cora_hybrid.pth')"
   ]
  },
  {
   "cell_type": "code",
   "execution_count": 7,
   "metadata": {
    "ExecuteTime": {
     "end_time": "2020-05-28T15:11:42.059250Z",
     "start_time": "2020-05-28T15:10:28.436056Z"
    }
   },
   "outputs": [
    {
     "name": "stdout",
     "output_type": "stream",
     "text": [
      "===>  EVAL Epoch 6\n"
     ]
    },
    {
     "name": "stderr",
     "output_type": "stream",
     "text": [
      "0% [██████████████████████████████] 100% | ETA: 00:00:00\n",
      "Total time elapsed: 00:01:12\n"
     ]
    },
    {
     "name": "stdout",
     "output_type": "stream",
     "text": [
      "Finished Epoch 6 || Run Time:   42.3 | Load Time:   30.9 || F1:  86.09 | Prec:  78.08 | Rec:  95.93 || Ex/s:  66.19\n",
      "\n"
     ]
    },
    {
     "data": {
      "text/plain": [
       "tensor(86.0884, device='cuda:0')"
      ]
     },
     "execution_count": 7,
     "metadata": {},
     "output_type": "execute_result"
    }
   ],
   "source": [
    "hybrid_deeper.run_eval(test)"
   ]
  },
  {
   "cell_type": "code",
   "execution_count": 12,
   "metadata": {
    "ExecuteTime": {
     "end_time": "2020-02-25T13:13:18.711922Z",
     "start_time": "2020-02-25T13:13:18.651814Z"
    }
   },
   "outputs": [],
   "source": [
    "testpos_df,testneg_df = get_pos_neg_datasets([test_df])\n",
    "testpos_df = testpos_df.sample(frac=0.3)\n",
    "##testneg_df = testneg_df.sample(frac=0.3)\n",
    "testpos_df.to_csv('../datasets/Cora/test_positives_sample.csv',index=False)\n",
    "##testneg_df.to_csv('../datasets/Cora/test_negatives_sample.csv',index=False)"
   ]
  },
  {
   "cell_type": "code",
   "execution_count": 13,
   "metadata": {
    "ExecuteTime": {
     "end_time": "2020-02-25T13:13:27.348626Z",
     "start_time": "2020-02-25T13:13:24.220676Z"
    }
   },
   "outputs": [
    {
     "name": "stderr",
     "output_type": "stream",
     "text": [
      "\n",
      "Reading and processing data from \"../datasets/Cora/test_positives_sample.csv\"\n",
      "0% [############################# ] 100% | ETA: 00:00:00"
     ]
    }
   ],
   "source": [
    "testpos = return_layer_input(model,model.classifier,'../datasets/Cora','test_positives_sample',\n",
    "                            ignore_columns=['label','left_id','right_id','left_cluster_name',\n",
    "                                           'right_cluster_name'])"
   ]
  },
  {
   "cell_type": "code",
   "execution_count": 9,
   "metadata": {
    "ExecuteTime": {
     "end_time": "2020-02-25T12:52:46.464696Z",
     "start_time": "2020-02-25T12:52:40.521790Z"
    }
   },
   "outputs": [
    {
     "name": "stderr",
     "output_type": "stream",
     "text": [
      "\n",
      "Reading and processing data from \"../datasets/Cora/test_negatives_sample.csv\"\n",
      "0% [############################# ] 100% | ETA: 00:00:00"
     ]
    }
   ],
   "source": [
    "testneg = return_layer_input(model,model.classifier,'../datasets/Cora','test_negatives_sample',\n",
    "                            ignore_columns=['label','left_id','right_id','left_cluster_name',\n",
    "                                           'right_cluster_name'])"
   ]
  },
  {
   "cell_type": "code",
   "execution_count": 10,
   "metadata": {
    "ExecuteTime": {
     "end_time": "2020-02-25T13:05:16.759144Z",
     "start_time": "2020-02-25T12:52:48.890884Z"
    }
   },
   "outputs": [
    {
     "name": "stderr",
     "output_type": "stream",
     "text": [
      "100%|██████████| 713/713 [12:27<00:00,  1.05s/it]\n"
     ]
    }
   ],
   "source": [
    "cora_data = pd.read_csv('../datasets/Cora/cora.csv')\n",
    "attributes = [col for col in cora_data.columns if col not in ['id','cluster_name']]\n",
    "testneg_ri,testneg_ri_norms = computeRi(model.classifier,attributes,testneg,0)"
   ]
  },
  {
   "cell_type": "code",
   "execution_count": 14,
   "metadata": {
    "ExecuteTime": {
     "end_time": "2020-02-25T13:19:30.696460Z",
     "start_time": "2020-02-25T13:13:29.657603Z"
    }
   },
   "outputs": [
    {
     "name": "stderr",
     "output_type": "stream",
     "text": [
      "\n",
      "  0%|          | 0/338 [00:00<?, ?it/s]\u001b[A\n",
      "  0%|          | 1/338 [00:01<05:55,  1.06s/it]\u001b[A\n",
      "  1%|          | 2/338 [00:02<06:05,  1.09s/it]\u001b[A\n",
      "  1%|          | 3/338 [00:03<06:44,  1.21s/it]\u001b[A\n",
      "  1%|          | 4/338 [00:04<06:43,  1.21s/it]\u001b[A\n",
      "  1%|▏         | 5/338 [00:06<06:40,  1.20s/it]\u001b[A\n",
      "  2%|▏         | 6/338 [00:07<06:42,  1.21s/it]\u001b[A\n",
      "  2%|▏         | 7/338 [00:08<06:57,  1.26s/it]\u001b[A\n",
      "  2%|▏         | 8/338 [00:09<06:17,  1.14s/it]\u001b[A\n",
      "  3%|▎         | 9/338 [00:10<06:15,  1.14s/it]\u001b[A\n",
      "  3%|▎         | 10/338 [00:11<06:25,  1.17s/it]\u001b[A\n",
      "  3%|▎         | 11/338 [00:13<06:30,  1.19s/it]\u001b[A\n",
      "  4%|▎         | 12/338 [00:14<06:42,  1.24s/it]\u001b[A\n",
      "  4%|▍         | 13/338 [00:15<06:39,  1.23s/it]\u001b[A\n",
      "  4%|▍         | 14/338 [00:16<05:38,  1.04s/it]\u001b[A\n",
      "  4%|▍         | 15/338 [00:17<05:58,  1.11s/it]\u001b[A\n",
      "  5%|▍         | 16/338 [00:18<06:10,  1.15s/it]\u001b[A\n",
      "  5%|▌         | 17/338 [00:20<06:07,  1.14s/it]\u001b[A\n",
      "  5%|▌         | 18/338 [00:21<06:36,  1.24s/it]\u001b[A\n",
      "  6%|▌         | 19/338 [00:22<05:33,  1.05s/it]\u001b[A\n",
      "  6%|▌         | 20/338 [00:22<04:20,  1.22it/s]\u001b[A\n",
      "  6%|▌         | 21/338 [00:24<06:06,  1.16s/it]\u001b[A\n",
      "  7%|▋         | 22/338 [00:25<05:59,  1.14s/it]\u001b[A\n",
      "  7%|▋         | 23/338 [00:26<05:50,  1.11s/it]\u001b[A\n",
      "  7%|▋         | 24/338 [00:27<06:00,  1.15s/it]\u001b[A\n",
      "  7%|▋         | 25/338 [00:28<06:12,  1.19s/it]\u001b[A\n",
      "  8%|▊         | 26/338 [00:30<06:24,  1.23s/it]\u001b[A\n",
      "  8%|▊         | 27/338 [00:31<06:32,  1.26s/it]\u001b[A\n",
      "  8%|▊         | 28/338 [00:32<06:15,  1.21s/it]\u001b[A\n",
      "  9%|▊         | 29/338 [00:33<05:40,  1.10s/it]\u001b[A\n",
      "  9%|▉         | 30/338 [00:33<04:26,  1.15it/s]\u001b[A\n",
      "  9%|▉         | 31/338 [00:35<05:02,  1.02it/s]\u001b[A\n",
      "  9%|▉         | 32/338 [00:36<05:22,  1.05s/it]\u001b[A\n",
      " 10%|▉         | 33/338 [00:37<05:50,  1.15s/it]\u001b[A\n",
      " 10%|█         | 34/338 [00:39<06:07,  1.21s/it]\u001b[A\n",
      " 10%|█         | 35/338 [00:40<06:11,  1.23s/it]\u001b[A\n",
      " 11%|█         | 36/338 [00:41<06:21,  1.26s/it]\u001b[A\n",
      " 11%|█         | 37/338 [00:42<06:13,  1.24s/it]\u001b[A\n",
      " 12%|█▏        | 39/338 [00:44<05:20,  1.07s/it]\u001b[A\n",
      " 12%|█▏        | 40/338 [00:45<05:42,  1.15s/it]\u001b[A\n",
      " 12%|█▏        | 41/338 [00:46<05:58,  1.21s/it]\u001b[A\n",
      " 12%|█▏        | 42/338 [00:47<05:27,  1.11s/it]\u001b[A\n",
      " 13%|█▎        | 43/338 [00:48<05:32,  1.13s/it]\u001b[A\n",
      " 13%|█▎        | 44/338 [00:49<04:59,  1.02s/it]\u001b[A\n",
      " 13%|█▎        | 45/338 [00:51<05:27,  1.12s/it]\u001b[A\n",
      " 14%|█▎        | 46/338 [00:52<05:37,  1.16s/it]\u001b[A\n",
      " 14%|█▍        | 47/338 [00:53<05:46,  1.19s/it]\u001b[A\n",
      " 14%|█▍        | 48/338 [00:54<05:33,  1.15s/it]\u001b[A\n",
      " 14%|█▍        | 49/338 [00:55<05:32,  1.15s/it]\u001b[A\n",
      " 15%|█▍        | 50/338 [00:57<05:58,  1.25s/it]\u001b[A\n",
      " 15%|█▌        | 51/338 [00:58<05:56,  1.24s/it]\u001b[A\n",
      " 15%|█▌        | 52/338 [00:58<04:48,  1.01s/it]\u001b[A\n",
      " 16%|█▌        | 53/338 [01:00<05:12,  1.10s/it]\u001b[A\n",
      " 16%|█▌        | 54/338 [01:01<05:28,  1.16s/it]\u001b[A\n",
      " 16%|█▋        | 55/338 [01:02<04:41,  1.00it/s]\u001b[A\n",
      " 17%|█▋        | 56/338 [01:03<04:53,  1.04s/it]\u001b[A\n",
      " 17%|█▋        | 57/338 [01:04<04:39,  1.00it/s]\u001b[A\n",
      " 17%|█▋        | 58/338 [01:05<05:03,  1.09s/it]\u001b[A\n",
      " 17%|█▋        | 59/338 [01:06<05:25,  1.17s/it]\u001b[A\n",
      " 18%|█▊        | 60/338 [01:08<05:26,  1.17s/it]\u001b[A\n",
      " 18%|█▊        | 61/338 [01:09<05:38,  1.22s/it]\u001b[A\n",
      " 18%|█▊        | 62/338 [01:10<05:49,  1.27s/it]\u001b[A\n",
      " 19%|█▊        | 63/338 [01:12<05:50,  1.28s/it]\u001b[A\n",
      " 19%|█▉        | 64/338 [01:13<05:55,  1.30s/it]\u001b[A\n",
      " 19%|█▉        | 65/338 [01:14<05:53,  1.30s/it]\u001b[A\n",
      " 20%|█▉        | 66/338 [01:15<05:47,  1.28s/it]\u001b[A\n",
      " 20%|█▉        | 67/338 [01:17<05:57,  1.32s/it]\u001b[A\n",
      " 20%|██        | 68/338 [01:18<05:57,  1.32s/it]\u001b[A\n",
      " 20%|██        | 69/338 [01:20<05:55,  1.32s/it]\u001b[A\n",
      " 21%|██        | 70/338 [01:21<05:51,  1.31s/it]\u001b[A\n",
      " 21%|██        | 71/338 [01:22<05:53,  1.32s/it]\u001b[A\n",
      " 21%|██▏       | 72/338 [01:23<05:35,  1.26s/it]\u001b[A\n",
      " 22%|██▏       | 73/338 [01:24<04:50,  1.10s/it]\u001b[A\n",
      " 22%|██▏       | 74/338 [01:25<05:08,  1.17s/it]\u001b[A\n",
      " 22%|██▏       | 75/338 [01:27<05:18,  1.21s/it]\u001b[A\n",
      " 22%|██▏       | 76/338 [01:28<05:21,  1.23s/it]\u001b[A\n",
      " 23%|██▎       | 77/338 [01:29<05:30,  1.27s/it]\u001b[A\n",
      " 23%|██▎       | 78/338 [01:30<05:12,  1.20s/it]\u001b[A\n",
      " 23%|██▎       | 79/338 [01:31<04:54,  1.14s/it]\u001b[A\n",
      " 24%|██▎       | 80/338 [01:33<05:05,  1.18s/it]\u001b[A\n",
      " 24%|██▍       | 81/338 [01:33<04:09,  1.03it/s]\u001b[A\n",
      " 24%|██▍       | 82/338 [01:34<04:33,  1.07s/it]\u001b[A\n",
      " 25%|██▍       | 83/338 [01:35<04:07,  1.03it/s]\u001b[A\n",
      " 25%|██▍       | 84/338 [01:36<04:18,  1.02s/it]\u001b[A\n",
      " 25%|██▌       | 85/338 [01:37<04:22,  1.04s/it]\u001b[A\n",
      " 25%|██▌       | 86/338 [01:39<04:44,  1.13s/it]\u001b[A\n",
      " 26%|██▌       | 87/338 [01:40<04:24,  1.05s/it]\u001b[A\n",
      " 26%|██▌       | 88/338 [01:41<04:46,  1.15s/it]\u001b[A\n",
      " 26%|██▋       | 89/338 [01:42<04:14,  1.02s/it]\u001b[A\n",
      " 27%|██▋       | 90/338 [01:43<04:32,  1.10s/it]\u001b[A\n",
      " 27%|██▋       | 91/338 [01:44<04:47,  1.16s/it]\u001b[A\n",
      " 27%|██▋       | 92/338 [01:46<05:01,  1.23s/it]\u001b[A\n",
      " 28%|██▊       | 93/338 [01:47<05:12,  1.28s/it]\u001b[A\n",
      " 28%|██▊       | 94/338 [01:48<04:35,  1.13s/it]\u001b[A\n",
      " 28%|██▊       | 95/338 [01:49<04:30,  1.11s/it]\u001b[A\n",
      " 28%|██▊       | 96/338 [01:50<04:21,  1.08s/it]\u001b[A\n",
      " 29%|██▊       | 97/338 [01:51<04:29,  1.12s/it]\u001b[A\n",
      " 29%|██▉       | 98/338 [01:52<04:25,  1.11s/it]\u001b[A\n",
      " 29%|██▉       | 99/338 [01:53<04:28,  1.12s/it]\u001b[A\n",
      " 30%|██▉       | 100/338 [01:54<04:32,  1.14s/it]\u001b[A\n",
      " 30%|██▉       | 101/338 [01:55<04:08,  1.05s/it]\u001b[A\n",
      " 30%|███       | 102/338 [01:56<04:11,  1.07s/it]\u001b[A\n",
      " 30%|███       | 103/338 [01:57<03:23,  1.16it/s]\u001b[A\n",
      " 31%|███       | 104/338 [01:58<03:43,  1.05it/s]\u001b[A\n",
      " 31%|███       | 105/338 [01:59<03:56,  1.02s/it]\u001b[A\n",
      " 31%|███▏      | 106/338 [02:01<04:32,  1.17s/it]\u001b[A\n",
      " 32%|███▏      | 107/338 [02:02<04:40,  1.22s/it]\u001b[A\n",
      " 32%|███▏      | 108/338 [02:03<04:34,  1.19s/it]\u001b[A\n",
      " 32%|███▏      | 109/338 [02:04<03:57,  1.04s/it]\u001b[A\n",
      " 33%|███▎      | 110/338 [02:05<04:02,  1.06s/it]\u001b[A\n",
      " 33%|███▎      | 111/338 [02:06<04:02,  1.07s/it]\u001b[A\n",
      " 33%|███▎      | 112/338 [02:07<04:03,  1.08s/it]\u001b[A\n",
      " 33%|███▎      | 113/338 [02:08<04:03,  1.08s/it]\u001b[A\n",
      " 34%|███▎      | 114/338 [02:09<03:31,  1.06it/s]\u001b[A\n",
      " 34%|███▍      | 115/338 [02:10<03:42,  1.00it/s]\u001b[A\n",
      " 34%|███▍      | 116/338 [02:11<03:38,  1.01it/s]\u001b[A\n",
      " 35%|███▍      | 117/338 [02:12<03:47,  1.03s/it]\u001b[A\n",
      " 35%|███▍      | 118/338 [02:13<03:52,  1.06s/it]\u001b[A\n",
      " 35%|███▌      | 119/338 [02:14<03:49,  1.05s/it]\u001b[A\n",
      " 36%|███▌      | 120/338 [02:15<03:47,  1.04s/it]\u001b[A\n",
      " 36%|███▌      | 121/338 [02:16<03:51,  1.07s/it]\u001b[A\n",
      " 36%|███▌      | 122/338 [02:18<04:00,  1.11s/it]\u001b[A\n",
      " 36%|███▋      | 123/338 [02:19<03:54,  1.09s/it]\u001b[A\n",
      " 37%|███▋      | 124/338 [02:20<03:57,  1.11s/it]\u001b[A\n",
      " 37%|███▋      | 125/338 [02:21<03:46,  1.06s/it]\u001b[A\n",
      " 37%|███▋      | 126/338 [02:22<03:39,  1.03s/it]\u001b[A\n",
      " 38%|███▊      | 127/338 [02:23<03:38,  1.04s/it]\u001b[A\n",
      " 38%|███▊      | 128/338 [02:24<03:32,  1.01s/it]\u001b[A\n",
      " 38%|███▊      | 129/338 [02:25<03:27,  1.01it/s]\u001b[A\n",
      " 38%|███▊      | 130/338 [02:26<03:38,  1.05s/it]\u001b[A\n",
      " 39%|███▉      | 131/338 [02:27<03:38,  1.06s/it]\u001b[A\n",
      " 39%|███▉      | 132/338 [02:28<03:30,  1.02s/it]\u001b[A\n",
      " 39%|███▉      | 133/338 [02:29<03:35,  1.05s/it]\u001b[A\n",
      " 40%|███▉      | 134/338 [02:30<03:36,  1.06s/it]\u001b[A\n",
      " 40%|███▉      | 135/338 [02:31<03:12,  1.06it/s]\u001b[A\n",
      " 40%|████      | 136/338 [02:32<03:24,  1.01s/it]\u001b[A\n",
      " 41%|████      | 137/338 [02:33<03:33,  1.06s/it]\u001b[A\n",
      " 41%|████      | 138/338 [02:34<03:35,  1.08s/it]\u001b[A\n",
      " 41%|████      | 139/338 [02:35<03:45,  1.13s/it]\u001b[A\n",
      " 41%|████▏     | 140/338 [02:37<03:47,  1.15s/it]\u001b[A\n",
      " 42%|████▏     | 141/338 [02:38<03:46,  1.15s/it]\u001b[A\n",
      " 42%|████▏     | 142/338 [02:38<03:16,  1.00s/it]\u001b[A\n",
      " 42%|████▏     | 143/338 [02:40<03:23,  1.04s/it]\u001b[A\n",
      " 43%|████▎     | 144/338 [02:41<03:19,  1.03s/it]\u001b[A\n",
      " 43%|████▎     | 145/338 [02:43<04:12,  1.31s/it]\u001b[A\n",
      " 43%|████▎     | 146/338 [02:44<04:17,  1.34s/it]\u001b[A\n",
      " 43%|████▎     | 147/338 [02:45<03:34,  1.12s/it]\u001b[A\n",
      " 44%|████▍     | 148/338 [02:46<03:35,  1.14s/it]\u001b[A\n",
      " 44%|████▍     | 149/338 [02:47<03:36,  1.14s/it]\u001b[A\n",
      " 44%|████▍     | 150/338 [02:48<03:17,  1.05s/it]\u001b[A\n",
      " 45%|████▍     | 151/338 [02:48<03:01,  1.03it/s]\u001b[A\n",
      " 45%|████▍     | 152/338 [02:50<03:07,  1.01s/it]\u001b[A\n",
      " 45%|████▌     | 153/338 [02:50<02:56,  1.05it/s]\u001b[A\n",
      " 46%|████▌     | 154/338 [02:51<02:52,  1.06it/s]\u001b[A\n",
      " 46%|████▌     | 155/338 [02:53<03:07,  1.02s/it]\u001b[A\n",
      " 46%|████▌     | 156/338 [02:53<02:32,  1.19it/s]\u001b[A\n",
      " 46%|████▋     | 157/338 [02:54<02:37,  1.15it/s]\u001b[A\n",
      " 47%|████▋     | 158/338 [02:55<02:50,  1.05it/s]\u001b[A\n",
      " 47%|████▋     | 159/338 [02:56<02:32,  1.17it/s]\u001b[A\n",
      " 47%|████▋     | 160/338 [02:57<02:55,  1.01it/s]\u001b[A\n",
      " 48%|████▊     | 161/338 [02:58<03:05,  1.05s/it]\u001b[A\n",
      " 48%|████▊     | 162/338 [02:59<03:14,  1.11s/it]\u001b[A\n",
      " 48%|████▊     | 163/338 [03:01<03:24,  1.17s/it]\u001b[A\n",
      " 49%|████▊     | 164/338 [03:02<03:29,  1.20s/it]\u001b[A\n",
      " 49%|████▉     | 165/338 [03:03<03:31,  1.23s/it]\u001b[A\n",
      " 49%|████▉     | 166/338 [03:04<03:30,  1.23s/it]\u001b[A\n",
      " 49%|████▉     | 167/338 [03:06<03:34,  1.25s/it]\u001b[A\n",
      " 50%|████▉     | 168/338 [03:07<03:19,  1.17s/it]\u001b[A\n",
      " 50%|█████     | 169/338 [03:08<03:11,  1.13s/it]\u001b[A\n",
      " 50%|█████     | 170/338 [03:09<03:14,  1.16s/it]\u001b[A\n",
      " 51%|█████     | 171/338 [03:10<03:02,  1.09s/it]\u001b[A\n",
      " 51%|█████     | 172/338 [03:11<03:02,  1.10s/it]\u001b[A\n",
      " 51%|█████     | 173/338 [03:12<03:06,  1.13s/it]\u001b[A\n",
      " 51%|█████▏    | 174/338 [03:14<03:12,  1.17s/it]\u001b[A\n",
      " 52%|█████▏    | 175/338 [03:15<03:05,  1.14s/it]\u001b[A\n",
      " 52%|█████▏    | 176/338 [03:16<02:59,  1.11s/it]\u001b[A\n",
      " 53%|█████▎    | 178/338 [03:17<02:34,  1.04it/s]\u001b[A\n",
      " 53%|█████▎    | 179/338 [03:18<02:46,  1.05s/it]\u001b[A\n",
      " 53%|█████▎    | 180/338 [03:19<02:37,  1.00it/s]\u001b[A\n",
      " 54%|█████▎    | 181/338 [03:20<02:44,  1.05s/it]\u001b[A\n",
      " 54%|█████▍    | 182/338 [03:21<02:53,  1.11s/it]\u001b[A\n",
      " 54%|█████▍    | 183/338 [03:23<02:53,  1.12s/it]\u001b[A\n",
      " 54%|█████▍    | 184/338 [03:24<02:59,  1.16s/it]\u001b[A\n",
      " 55%|█████▍    | 185/338 [03:25<03:02,  1.19s/it]\u001b[A\n",
      " 55%|█████▌    | 186/338 [03:26<02:46,  1.10s/it]\u001b[A\n",
      " 55%|█████▌    | 187/338 [03:27<02:40,  1.06s/it]\u001b[A\n",
      " 56%|█████▌    | 188/338 [03:28<02:47,  1.12s/it]\u001b[A\n",
      " 56%|█████▌    | 189/338 [03:30<02:55,  1.18s/it]\u001b[A\n",
      " 56%|█████▌    | 190/338 [03:31<02:53,  1.17s/it]\u001b[A\n",
      " 57%|█████▋    | 191/338 [03:32<02:58,  1.21s/it]\u001b[A\n",
      " 57%|█████▋    | 192/338 [03:33<02:45,  1.13s/it]\u001b[A\n",
      " 57%|█████▋    | 193/338 [03:34<02:43,  1.13s/it]\u001b[A\n",
      " 57%|█████▋    | 194/338 [03:35<02:47,  1.16s/it]\u001b[A\n",
      " 58%|█████▊    | 195/338 [03:37<02:47,  1.17s/it]\u001b[A\n",
      " 58%|█████▊    | 196/338 [03:38<02:51,  1.21s/it]\u001b[A\n",
      " 58%|█████▊    | 197/338 [03:39<02:54,  1.24s/it]\u001b[A\n",
      " 59%|█████▊    | 198/338 [03:40<02:58,  1.27s/it]\u001b[A\n",
      " 59%|█████▉    | 199/338 [03:42<02:56,  1.27s/it]\u001b[A\n",
      " 59%|█████▉    | 200/338 [03:43<02:55,  1.27s/it]\u001b[A\n",
      " 59%|█████▉    | 201/338 [03:44<02:44,  1.20s/it]\u001b[A\n",
      " 60%|█████▉    | 202/338 [03:45<02:42,  1.19s/it]\u001b[A\n",
      " 60%|██████    | 203/338 [03:46<02:09,  1.05it/s]\u001b[A\n",
      " 60%|██████    | 204/338 [03:46<01:53,  1.18it/s]\u001b[A\n",
      " 61%|██████    | 205/338 [03:47<02:05,  1.06it/s]\u001b[A\n",
      " 61%|██████    | 206/338 [03:49<02:12,  1.01s/it]\u001b[A\n",
      " 61%|██████    | 207/338 [03:50<02:13,  1.02s/it]\u001b[A\n",
      " 62%|██████▏   | 208/338 [03:51<02:23,  1.10s/it]\u001b[A\n",
      " 62%|██████▏   | 209/338 [03:52<02:08,  1.00it/s]\u001b[A\n",
      " 62%|██████▏   | 210/338 [03:53<02:19,  1.09s/it]\u001b[A\n",
      " 62%|██████▏   | 211/338 [03:54<02:18,  1.09s/it]\u001b[A\n",
      " 63%|██████▎   | 212/338 [03:55<02:16,  1.08s/it]\u001b[A\n",
      " 63%|██████▎   | 213/338 [03:56<02:16,  1.09s/it]\u001b[A\n",
      " 63%|██████▎   | 214/338 [03:57<02:19,  1.13s/it]\u001b[A\n",
      " 64%|██████▎   | 215/338 [03:59<02:18,  1.13s/it]\u001b[A\n",
      " 64%|██████▍   | 216/338 [04:00<02:18,  1.14s/it]\u001b[A\n",
      " 64%|██████▍   | 217/338 [04:00<01:58,  1.02it/s]\u001b[A\n",
      " 64%|██████▍   | 218/338 [04:02<02:04,  1.04s/it]\u001b[A\n",
      " 65%|██████▍   | 219/338 [04:03<02:09,  1.09s/it]\u001b[A\n",
      " 65%|██████▌   | 220/338 [04:03<01:51,  1.06it/s]\u001b[A\n",
      " 65%|██████▌   | 221/338 [04:05<01:59,  1.03s/it]\u001b[A\n",
      " 66%|██████▌   | 222/338 [04:05<01:53,  1.02it/s]\u001b[A\n",
      " 66%|██████▌   | 223/338 [04:07<02:00,  1.05s/it]\u001b[A\n",
      " 66%|██████▋   | 224/338 [04:08<02:00,  1.06s/it]\u001b[A\n",
      " 67%|██████▋   | 225/338 [04:09<01:53,  1.00s/it]\u001b[A\n",
      " 67%|██████▋   | 226/338 [04:10<01:59,  1.07s/it]\u001b[A\n",
      " 67%|██████▋   | 227/338 [04:11<01:59,  1.08s/it]\u001b[A\n",
      " 67%|██████▋   | 228/338 [04:12<02:03,  1.12s/it]\u001b[A\n",
      " 68%|██████▊   | 229/338 [04:13<01:56,  1.06s/it]\u001b[A\n",
      " 68%|██████▊   | 230/338 [04:14<01:46,  1.02it/s]\u001b[A\n",
      " 68%|██████▊   | 231/338 [04:15<01:45,  1.02it/s]\u001b[A\n",
      " 69%|██████▊   | 232/338 [04:15<01:27,  1.21it/s]\u001b[A\n",
      " 69%|██████▉   | 233/338 [04:16<01:36,  1.09it/s]\u001b[A\n",
      " 69%|██████▉   | 234/338 [04:18<01:42,  1.01it/s]\u001b[A\n",
      " 70%|██████▉   | 235/338 [04:19<01:46,  1.04s/it]\u001b[A\n",
      " 70%|██████▉   | 236/338 [04:20<01:46,  1.04s/it]\u001b[A\n",
      " 70%|███████   | 237/338 [04:21<01:47,  1.07s/it]\u001b[A\n",
      " 70%|███████   | 238/338 [04:22<01:43,  1.03s/it]\u001b[A\n",
      " 71%|███████   | 239/338 [04:23<01:51,  1.13s/it]\u001b[A\n",
      " 71%|███████   | 240/338 [04:24<01:45,  1.08s/it]\u001b[A\n",
      " 71%|███████▏  | 241/338 [04:25<01:51,  1.15s/it]\u001b[A\n",
      " 72%|███████▏  | 242/338 [04:27<01:51,  1.16s/it]\u001b[A\n",
      " 72%|███████▏  | 243/338 [04:27<01:38,  1.04s/it]\u001b[A\n",
      " 72%|███████▏  | 244/338 [04:29<01:44,  1.12s/it]\u001b[A\n",
      " 72%|███████▏  | 245/338 [04:30<01:48,  1.17s/it]\u001b[A\n",
      " 73%|███████▎  | 246/338 [04:31<01:48,  1.17s/it]\u001b[A\n",
      " 73%|███████▎  | 247/338 [04:32<01:50,  1.21s/it]\u001b[A\n",
      " 73%|███████▎  | 248/338 [04:33<01:32,  1.03s/it]\u001b[A\n",
      " 74%|███████▎  | 249/338 [04:34<01:16,  1.17it/s]\u001b[A\n",
      " 74%|███████▍  | 250/338 [04:35<01:25,  1.02it/s]\u001b[A\n",
      " 74%|███████▍  | 251/338 [04:36<01:29,  1.03s/it]\u001b[A\n",
      " 75%|███████▍  | 252/338 [04:36<01:10,  1.22it/s]\u001b[A\n",
      " 75%|███████▍  | 253/338 [04:38<01:21,  1.04it/s]\u001b[A\n",
      " 75%|███████▌  | 254/338 [04:39<01:28,  1.05s/it]\u001b[A\n",
      " 75%|███████▌  | 255/338 [04:40<01:18,  1.06it/s]\u001b[A\n",
      " 76%|███████▌  | 256/338 [04:41<01:23,  1.02s/it]\u001b[A\n",
      " 76%|███████▌  | 257/338 [04:42<01:23,  1.03s/it]\u001b[A\n",
      " 76%|███████▋  | 258/338 [04:43<01:20,  1.00s/it]\u001b[A\n",
      " 77%|███████▋  | 259/338 [04:44<01:25,  1.08s/it]\u001b[A\n",
      " 77%|███████▋  | 261/338 [04:45<01:09,  1.11it/s]\u001b[A\n",
      " 78%|███████▊  | 262/338 [04:46<01:14,  1.02it/s]\u001b[A\n",
      " 78%|███████▊  | 263/338 [04:47<01:18,  1.05s/it]\u001b[A\n",
      " 78%|███████▊  | 264/338 [04:48<01:19,  1.07s/it]\u001b[A\n",
      " 78%|███████▊  | 265/338 [04:49<01:13,  1.00s/it]\u001b[A\n",
      " 79%|███████▊  | 266/338 [04:50<01:04,  1.12it/s]\u001b[A\n",
      " 79%|███████▉  | 267/338 [04:51<01:12,  1.02s/it]\u001b[A\n",
      " 79%|███████▉  | 268/338 [04:52<01:10,  1.01s/it]\u001b[A\n",
      " 80%|███████▉  | 269/338 [04:54<01:14,  1.08s/it]\u001b[A\n",
      " 80%|███████▉  | 270/338 [04:55<01:16,  1.13s/it]\u001b[A\n",
      " 80%|████████  | 271/338 [04:56<01:18,  1.18s/it]\u001b[A\n",
      " 80%|████████  | 272/338 [04:57<01:20,  1.21s/it]\u001b[A\n",
      " 81%|████████  | 273/338 [04:59<01:18,  1.20s/it]\u001b[A\n",
      " 81%|████████  | 274/338 [05:00<01:14,  1.16s/it]\u001b[A\n",
      " 81%|████████▏ | 275/338 [05:01<01:11,  1.14s/it]\u001b[A\n",
      " 82%|████████▏ | 276/338 [05:02<01:05,  1.06s/it]\u001b[A\n",
      " 82%|████████▏ | 277/338 [05:03<01:05,  1.07s/it]\u001b[A\n",
      " 82%|████████▏ | 278/338 [05:04<01:04,  1.07s/it]\u001b[A\n",
      " 83%|████████▎ | 279/338 [05:05<01:04,  1.10s/it]\u001b[A\n",
      " 83%|████████▎ | 280/338 [05:05<00:54,  1.06it/s]\u001b[A\n",
      " 83%|████████▎ | 281/338 [05:07<00:56,  1.00it/s]\u001b[A\n",
      " 83%|████████▎ | 282/338 [05:08<00:57,  1.03s/it]\u001b[A\n",
      " 84%|████████▎ | 283/338 [05:09<00:58,  1.07s/it]\u001b[A\n",
      " 84%|████████▍ | 284/338 [05:10<00:54,  1.02s/it]\u001b[A\n",
      " 84%|████████▍ | 285/338 [05:11<00:56,  1.06s/it]\u001b[A\n",
      " 85%|████████▍ | 286/338 [05:12<00:56,  1.09s/it]\u001b[A\n",
      " 85%|████████▍ | 287/338 [05:13<00:54,  1.07s/it]\u001b[A\n",
      " 85%|████████▌ | 288/338 [05:14<00:53,  1.08s/it]\u001b[A\n",
      " 86%|████████▌ | 289/338 [05:15<00:49,  1.00s/it]\u001b[A\n",
      " 86%|████████▌ | 290/338 [05:16<00:48,  1.00s/it]\u001b[A\n",
      " 86%|████████▌ | 291/338 [05:17<00:48,  1.03s/it]\u001b[A\n",
      " 86%|████████▋ | 292/338 [05:18<00:39,  1.15it/s]\u001b[A\n",
      " 87%|████████▋ | 293/338 [05:19<00:43,  1.05it/s]\u001b[A\n",
      " 87%|████████▋ | 294/338 [05:20<00:44,  1.01s/it]\u001b[A\n",
      " 87%|████████▋ | 295/338 [05:21<00:45,  1.06s/it]\u001b[A\n",
      " 88%|████████▊ | 297/338 [05:21<00:31,  1.31it/s]\u001b[A\n",
      " 88%|████████▊ | 298/338 [05:22<00:33,  1.20it/s]\u001b[A\n",
      " 88%|████████▊ | 299/338 [05:23<00:35,  1.10it/s]\u001b[A\n",
      " 89%|████████▉ | 300/338 [05:24<00:33,  1.13it/s]\u001b[A\n",
      " 89%|████████▉ | 301/338 [05:25<00:34,  1.06it/s]\u001b[A\n",
      " 89%|████████▉ | 302/338 [05:26<00:34,  1.04it/s]\u001b[A\n",
      " 90%|████████▉ | 303/338 [05:27<00:35,  1.01s/it]\u001b[A\n",
      " 90%|████████▉ | 304/338 [05:28<00:35,  1.05s/it]\u001b[A\n",
      " 90%|█████████ | 305/338 [05:30<00:36,  1.09s/it]\u001b[A\n",
      " 91%|█████████ | 306/338 [05:30<00:31,  1.02it/s]\u001b[A\n",
      " 91%|█████████ | 307/338 [05:31<00:30,  1.00it/s]\u001b[A\n",
      " 91%|█████████ | 308/338 [05:33<00:31,  1.05s/it]\u001b[A\n",
      " 91%|█████████▏| 309/338 [05:34<00:30,  1.07s/it]\u001b[A\n",
      " 92%|█████████▏| 310/338 [05:34<00:27,  1.02it/s]\u001b[A\n",
      " 92%|█████████▏| 311/338 [05:35<00:24,  1.10it/s]\u001b[A\n",
      " 92%|█████████▏| 312/338 [05:36<00:25,  1.01it/s]\u001b[A\n",
      " 93%|█████████▎| 313/338 [05:37<00:25,  1.02s/it]\u001b[A\n"
     ]
    },
    {
     "name": "stderr",
     "output_type": "stream",
     "text": [
      " 93%|█████████▎| 314/338 [05:38<00:22,  1.05it/s]\u001b[A\n",
      " 93%|█████████▎| 315/338 [05:39<00:19,  1.16it/s]\u001b[A\n",
      " 93%|█████████▎| 316/338 [05:40<00:20,  1.08it/s]\u001b[A\n",
      " 94%|█████████▍| 317/338 [05:41<00:20,  1.01it/s]\u001b[A\n",
      " 94%|█████████▍| 318/338 [05:42<00:18,  1.08it/s]\u001b[A\n",
      " 94%|█████████▍| 319/338 [05:43<00:17,  1.07it/s]\u001b[A\n",
      " 95%|█████████▍| 321/338 [05:44<00:13,  1.22it/s]\u001b[A\n",
      " 95%|█████████▌| 322/338 [05:45<00:12,  1.30it/s]\u001b[A\n",
      " 96%|█████████▌| 323/338 [05:46<00:13,  1.12it/s]\u001b[A\n",
      " 96%|█████████▌| 324/338 [05:47<00:12,  1.09it/s]\u001b[A\n",
      " 96%|█████████▌| 325/338 [05:48<00:13,  1.02s/it]\u001b[A\n",
      " 96%|█████████▋| 326/338 [05:49<00:11,  1.04it/s]\u001b[A\n",
      " 97%|█████████▋| 327/338 [05:50<00:09,  1.15it/s]\u001b[A\n",
      " 97%|█████████▋| 328/338 [05:50<00:08,  1.20it/s]\u001b[A\n",
      " 97%|█████████▋| 329/338 [05:52<00:08,  1.05it/s]\u001b[A\n",
      " 98%|█████████▊| 330/338 [05:53<00:07,  1.00it/s]\u001b[A\n",
      " 98%|█████████▊| 331/338 [05:53<00:05,  1.18it/s]\u001b[A\n",
      " 98%|█████████▊| 332/338 [05:54<00:05,  1.11it/s]\u001b[A\n",
      " 99%|█████████▊| 333/338 [05:55<00:04,  1.03it/s]\u001b[A\n",
      " 99%|█████████▉| 334/338 [05:56<00:03,  1.14it/s]\u001b[A\n",
      " 99%|█████████▉| 335/338 [05:59<00:04,  1.41s/it]\u001b[A\n",
      " 99%|█████████▉| 336/338 [05:59<00:02,  1.12s/it]\u001b[A\n",
      "100%|█████████▉| 337/338 [06:00<00:00,  1.03it/s]\u001b[A\n",
      "100%|██████████| 338/338 [06:00<00:00,  1.07s/it]\u001b[A\n"
     ]
    }
   ],
   "source": [
    "testpos_ri,testpos_ri_norms = computeRi(model.classifier,attributes,testpos,1)"
   ]
  },
  {
   "cell_type": "code",
   "execution_count": 16,
   "metadata": {
    "ExecuteTime": {
     "end_time": "2020-02-25T13:20:41.692254Z",
     "start_time": "2020-02-25T13:20:41.393030Z"
    }
   },
   "outputs": [
    {
     "data": {
      "text/plain": [
       "<matplotlib.axes._subplots.AxesSubplot at 0x7fac3d2e0358>"
      ]
     },
     "execution_count": 16,
     "metadata": {},
     "output_type": "execute_result"
    },
    {
     "data": {
      "image/png": "[encoded data removed]",
      "text/plain": [
       "<Figure size 432x288 with 1 Axes>"
      ]
     },
     "metadata": {
      "needs_background": "light"
     },
     "output_type": "display_data"
    }
   ],
   "source": [
    "testneg_ri_norms.drop(['sample_id'],axis=1).sum().plot.bar()"
   ]
  },
  {
   "cell_type": "code",
   "execution_count": 17,
   "metadata": {
    "ExecuteTime": {
     "end_time": "2020-02-25T13:20:55.245997Z",
     "start_time": "2020-02-25T13:20:54.941578Z"
    }
   },
   "outputs": [
    {
     "data": {
      "text/plain": [
       "<matplotlib.axes._subplots.AxesSubplot at 0x7fac3d242320>"
      ]
     },
     "execution_count": 17,
     "metadata": {},
     "output_type": "execute_result"
    },
    {
     "data": {
      "image/png": "[encoded data removed]",
      "text/plain": [
       "<Figure size 432x288 with 1 Axes>"
      ]
     },
     "metadata": {
      "needs_background": "light"
     },
     "output_type": "display_data"
    }
   ],
   "source": [
    "testpos_ri_norms.drop(['sample_id'],axis=1).sum().plot.bar()"
   ]
  },
  {
   "cell_type": "code",
   "execution_count": 19,
   "metadata": {
    "ExecuteTime": {
     "end_time": "2020-02-25T13:21:38.438531Z",
     "start_time": "2020-02-25T13:21:37.638385Z"
    }
   },
   "outputs": [],
   "source": [
    "import torch\n",
    "torch.save(testpos_ri,'cora_testpos_ri.pth')\n",
    "torch.save(testneg_ri,'cora_testneg_ri.pth')"
   ]
  },
  {
   "cell_type": "code",
   "execution_count": 21,
   "metadata": {
    "ExecuteTime": {
     "end_time": "2020-02-25T13:22:44.194921Z",
     "start_time": "2020-02-25T13:22:44.122951Z"
    }
   },
   "outputs": [],
   "source": [
    "testpos_ri_norms.to_csv('cora_testpos_ri_norms.csv',index=False)\n",
    "testneg_ri_norms.to_csv('cora_testneg_ri_norms.csv',index=False)"
   ]
  },
  {
   "cell_type": "markdown",
   "metadata": {},
   "source": [
    "## Test DeepER training set creation"
   ]
  },
  {
   "cell_type": "code",
   "execution_count": 1,
   "metadata": {
    "ExecuteTime": {
     "end_time": "2020-05-18T11:20:29.311669Z",
     "start_time": "2020-05-18T11:20:28.724287Z"
    }
   },
   "outputs": [],
   "source": [
    "import re,csv,os,math,random\n",
    "from collections import Counter\n",
    "from sklearn.feature_extraction.text import CountVectorizer\n",
    "from sklearn.metrics.pairwise import cosine_similarity"
   ]
  },
  {
   "cell_type": "code",
   "execution_count": 2,
   "metadata": {
    "ExecuteTime": {
     "end_time": "2020-05-18T11:20:29.464552Z",
     "start_time": "2020-05-18T11:20:29.429569Z"
    }
   },
   "outputs": [],
   "source": [
    "WORD = re.compile(r'\\w+')\n",
    "\n",
    "#calcola la cos similarity di due vettori\n",
    "def get_cosine(vec1, vec2):\n",
    "     intersection = set(vec1.keys()) & set(vec2.keys())\n",
    "     numerator = sum([vec1[x] * vec2[x] for x in intersection])\n",
    "\n",
    "     sum1 = sum([vec1[x]**2 for x in vec1.keys()])\n",
    "     sum2 = sum([vec2[x]**2 for x in vec2.keys()])\n",
    "     denominator = math.sqrt(sum1) * math.sqrt(sum2)\n",
    "\n",
    "     if not denominator:\n",
    "        return 0.0\n",
    "     else:\n",
    "        return float(numerator) / denominator\n",
    "\n",
    "def text_to_vector(text):\n",
    "     words = WORD.findall(text)\n",
    "     return Counter(words)\n",
    "\n",
    "\n",
    "##secondo metodo per il calcolo del cos-sim NON UTILIZZATO\n",
    "def cos_sim2Str(str1,str2):\n",
    "    documents=[str1,str2]\n",
    "    count_vectorizer = CountVectorizer(token_pattern=r\"(?u)\\b\\w+\\b\",stop_words=None)\n",
    "    sparse_matrix = count_vectorizer.fit_transform(documents)\n",
    "    # OPTIONAL: Convert Sparse Matrix to Pandas Dataframe if you want to see the word frequencies.\n",
    "    doc_term_matrix = sparse_matrix.todense()\n",
    "    df = pd.DataFrame(doc_term_matrix,columns=count_vectorizer.get_feature_names(),index=['str1', 'str2'])\n",
    "    #print(df)\n",
    "    cos_sim=cosine_similarity(df,df)\n",
    "    #print(cos_sim[0][-1])\n",
    "    return cos_sim[0][-1]\n",
    "\n",
    "\n",
    "def csv_2_dataset_aligned(dataset_dir,ground_truth,tableL,tableR,neg_pos_ratio=1):\n",
    "    \n",
    "    table1 = csv.reader(open(os.path.join(dataset_dir,tableL),encoding=\"utf8\"), delimiter=',')\n",
    "    table2 = csv.reader(open(os.path.join(dataset_dir,tableR),encoding=\"utf8\"), delimiter=',')\n",
    "    matches_file = csv.reader(open(os.path.join(dataset_dir,ground_truth),encoding=\"utf8\"), delimiter=',')\n",
    "    #convert to list for direct access and skip header\n",
    "    tableLlist = list(table1)[1:]\n",
    "    tableRlist = list(table2)[1:]\n",
    "    matches_list = list(matches_file)[1:]\n",
    "    ltable_ids = list(map(lambda row:row[0],tableLlist))\n",
    "    rtable_ids = list(map(lambda row:row[0],tableRlist))\n",
    "    result_list_match = []\n",
    "    result_list_NOmatch= []\n",
    "    cos_sim_list=[]\n",
    "    '''costruisce lista dei match parsando i file di input'''\n",
    "    for line in matches_list:\n",
    "        #line_in_file type: id_1, id_2\n",
    "        lrecord= next((record for record in tableLlist if record[0] == line[0]), None)\n",
    "        rrecord = next((record for record in tableRlist if record[0] == line[1]), None)\n",
    "        #indice 0 indica l'id, dunque viene escluso\n",
    "        stringa1= \" \".join(lrecord[1:])\n",
    "        stringa2 = \" \".join(rrecord[1:])\n",
    "        #calcola la cos similarita della tupla i-esima\n",
    "        cos_sim=get_cosine(text_to_vector(stringa1),text_to_vector(stringa2))\n",
    "        #cos_sim=cos_sim2Str(str(stringa1),str(stringa2))\n",
    "        cos_sim_list.append(cos_sim)\n",
    "        result_list_match.append((lrecord[1:],rrecord[1:],1,line[0]+\"#\"+line[1]))\n",
    "    min_cos_sim_match=min(cos_sim_list)\n",
    "    print(\"min cosine similarity of matches is {}\".format(min_cos_sim_match))\n",
    "    '''costruisce la lista dei NO_match calcolando un min cos similarity'''   \n",
    "    i=0\n",
    "    while i<len(result_list_match*neg_pos_ratio):\n",
    "        x,y = random.sample(ltable_ids,k=1)[0],random.sample(rtable_ids,k=1)[0]\n",
    "        lrecord= next((record for record in tableLlist if record[0] == x), None)\n",
    "        rrecord = next((record for record in tableRlist if record[0] == y), None)\n",
    "        #serve per calcolare la cos_sim tra i due elementi della tupla, è necessario concatenare tutta la riga\n",
    "        stringa1= \" \".join(lrecord[1:])\n",
    "        stringa2 = \" \".join(rrecord[1:])\n",
    "        cos_sim=get_cosine(text_to_vector(stringa1),text_to_vector(stringa2))\n",
    "        current_ids = [x,y]\n",
    "        #controlla che la tupla che sto aggiungendo abbia una cos_similarity maggiore del min di quelle in match\n",
    "        if cos_sim>min_cos_sim_match and current_ids not in matches_list:\n",
    "            result_list_NOmatch.append((lrecord[1:],rrecord[1:],0,x+\"#\"+y))\n",
    "            i += 1\n",
    "\n",
    "    result_list= result_list_match+result_list_NOmatch\n",
    "\n",
    "    return result_list"
   ]
  },
  {
   "cell_type": "code",
   "execution_count": 3,
   "metadata": {
    "ExecuteTime": {
     "end_time": "2020-05-18T11:20:47.882239Z",
     "start_time": "2020-05-18T11:20:47.626620Z"
    }
   },
   "outputs": [],
   "source": [
    "import pandas as pd\n",
    "DATA_DIR = '../datasets/Cora/'"
   ]
  },
  {
   "cell_type": "code",
   "execution_count": 14,
   "metadata": {
    "ExecuteTime": {
     "end_time": "2020-05-17T12:32:48.992513Z",
     "start_time": "2020-05-17T12:32:48.959133Z"
    }
   },
   "outputs": [],
   "source": [
    "allsamples = pd.concat([train,valid,test],ignore_index=True)\n",
    "allpos = allsamples[allsamples.label==1]\n",
    "allpos = allpos.drop(['label'],axis=1)"
   ]
  },
  {
   "cell_type": "code",
   "execution_count": 17,
   "metadata": {
    "ExecuteTime": {
     "end_time": "2020-05-17T12:33:51.852705Z",
     "start_time": "2020-05-17T12:33:51.810168Z"
    }
   },
   "outputs": [],
   "source": [
    "allpos.to_csv(DATA_DIR+'cora_ground_truth.csv',index=False)"
   ]
  },
  {
   "cell_type": "code",
   "execution_count": 6,
   "metadata": {
    "ExecuteTime": {
     "end_time": "2020-05-18T11:21:55.369461Z",
     "start_time": "2020-05-18T11:21:39.252030Z"
    }
   },
   "outputs": [
    {
     "name": "stdout",
     "output_type": "stream",
     "text": [
      "min cosine similarity of matches is 0.23652495839563303\n"
     ]
    }
   ],
   "source": [
    "dataset_cora_deeper = csv_2_dataset_aligned(DATA_DIR,'cora_ground_truth_10perc.csv','cora.csv','cora.csv',neg_pos_ratio=2)"
   ]
  },
  {
   "cell_type": "code",
   "execution_count": null,
   "metadata": {},
   "outputs": [],
   "source": [
    "allpairs = []\n",
    "for pair in da"
   ]
  },
  {
   "cell_type": "code",
   "execution_count": 61,
   "metadata": {
    "ExecuteTime": {
     "end_time": "2020-05-17T12:57:39.606537Z",
     "start_time": "2020-05-17T12:57:39.543953Z"
    }
   },
   "outputs": [],
   "source": [
    "negatives = list(filter(lambda t:t[2]==0,dataset_cora_deeper))\n",
    "positives = list(filter(lambda t:t[2]==1,dataset_cora_deeper))"
   ]
  },
  {
   "cell_type": "code",
   "execution_count": 62,
   "metadata": {
    "ExecuteTime": {
     "end_time": "2020-05-17T12:57:40.009899Z",
     "start_time": "2020-05-17T12:57:39.962997Z"
    }
   },
   "outputs": [
    {
     "name": "stdout",
     "output_type": "stream",
     "text": [
      "(17180, 544)\n"
     ]
    }
   ],
   "source": [
    "falsenegatives = 0\n",
    "for t in negatives:\n",
    "    if t[0][0]==t[1][0]:\n",
    "        falsenegatives+=1\n",
    "print((len(negatives),falsenegatives))"
   ]
  },
  {
   "cell_type": "code",
   "execution_count": 63,
   "metadata": {
    "ExecuteTime": {
     "end_time": "2020-05-17T13:02:41.421758Z",
     "start_time": "2020-05-17T13:01:28.214693Z"
    }
   },
   "outputs": [
    {
     "name": "stdout",
     "output_type": "stream",
     "text": [
      "min cosine similarity of matches is 0.20412414523193148\n"
     ]
    }
   ],
   "source": [
    "dataset_cora_deeper10 = csv_2_dataset_aligned(DATA_DIR,'cora_ground_truth.csv','cora.csv','cora.csv',neg_pos_ratio=10)"
   ]
  },
  {
   "cell_type": "code",
   "execution_count": 64,
   "metadata": {
    "ExecuteTime": {
     "end_time": "2020-05-17T13:02:41.474579Z",
     "start_time": "2020-05-17T13:02:41.424889Z"
    }
   },
   "outputs": [],
   "source": [
    "negatives = list(filter(lambda t:t[2]==0,dataset_cora_deeper10))\n",
    "positives = list(filter(lambda t:t[2]==1,dataset_cora_deeper10))"
   ]
  },
  {
   "cell_type": "markdown",
   "metadata": {},
   "source": [
    "## Explanations on deeper dataset"
   ]
  },
  {
   "cell_type": "code",
   "execution_count": 3,
   "metadata": {
    "ExecuteTime": {
     "end_time": "2020-05-28T15:21:53.516427Z",
     "start_time": "2020-05-28T15:21:52.161109Z"
    }
   },
   "outputs": [],
   "source": [
    "from utils.triangles_method import explainSamples\n",
    "from utils.deepmatcher_utils import wrapDm\n",
    "import numpy as np"
   ]
  },
  {
   "cell_type": "code",
   "execution_count": 5,
   "metadata": {
    "ExecuteTime": {
     "end_time": "2020-05-19T08:54:37.002758Z",
     "start_time": "2020-05-19T08:54:36.911216Z"
    }
   },
   "outputs": [],
   "source": [
    "test_df = pd.read_csv('../datasets/Cora/cora_test.csv')"
   ]
  },
  {
   "cell_type": "code",
   "execution_count": 6,
   "metadata": {
    "ExecuteTime": {
     "end_time": "2020-05-19T08:55:11.665522Z",
     "start_time": "2020-05-19T08:55:07.008689Z"
    }
   },
   "outputs": [],
   "source": [
    "hybrid = dm.MatchingModel(attr_summarizer='hybrid')\n",
    "hybrid.load_state('../models/cora_hybrid.pth')"
   ]
  },
  {
   "cell_type": "code",
   "execution_count": 9,
   "metadata": {
    "ExecuteTime": {
     "end_time": "2020-05-19T08:58:51.192749Z",
     "start_time": "2020-05-19T08:57:28.921394Z"
    }
   },
   "outputs": [
    {
     "data": {
      "text/plain": [
       "(4844, 4334)"
      ]
     },
     "execution_count": 9,
     "metadata": {},
     "output_type": "execute_result"
    }
   ],
   "source": [
    "prediction = wrapDm(test_df,hybrid,ignore_columns=['label'])\n",
    "correct_preds = test_df[np.argmax(prediction,axis=1)==test_df.label.values]\n",
    "len(test_df),len(correct_preds)"
   ]
  },
  {
   "cell_type": "code",
   "execution_count": 10,
   "metadata": {
    "ExecuteTime": {
     "end_time": "2020-05-19T08:59:29.345299Z",
     "start_time": "2020-05-19T08:59:29.275518Z"
    }
   },
   "outputs": [],
   "source": [
    "DATA_DIR='../datasets/Cora/'\n",
    "source1 = pd.read_csv(DATA_DIR+'cora.csv',dtype=str)\n",
    "source2 = pd.read_csv(DATA_DIR+'cora.csv',dtype=str)"
   ]
  },
  {
   "cell_type": "code",
   "execution_count": 11,
   "metadata": {
    "ExecuteTime": {
     "end_time": "2020-05-19T09:50:48.007218Z",
     "start_time": "2020-05-19T08:59:47.083702Z"
    }
   },
   "outputs": [
    {
     "name": "stderr",
     "output_type": "stream",
     "text": [
      "100%|██████████| 4189/4189 [50:45<00:00,  1.38it/s] \n"
     ]
    }
   ],
   "source": [
    "neg_ranking,flippedneg = explainSamples(correct_preds,[source1,source2],hybrid,wrapDm,\n",
    "                                       class_to_explain=0,maxLenAttributeSet=1)"
   ]
  },
  {
   "cell_type": "code",
   "execution_count": 16,
   "metadata": {
    "ExecuteTime": {
     "end_time": "2020-05-19T11:08:50.985463Z",
     "start_time": "2020-05-19T11:08:50.648454Z"
    }
   },
   "outputs": [
    {
     "data": {
      "image/png": "[encoded data removed]",
      "text/plain": [
       "<Figure size 432x288 with 1 Axes>"
      ]
     },
     "metadata": {
      "needs_background": "light"
     },
     "output_type": "display_data"
    }
   ],
   "source": [
    "neg_ranking.plot.barh(color='red',grid=True,xlim=(0,1)).get_figure().savefig('cora_neg_rank.png')"
   ]
  },
  {
   "cell_type": "code",
   "execution_count": 13,
   "metadata": {
    "ExecuteTime": {
     "end_time": "2020-05-19T10:52:50.280273Z",
     "start_time": "2020-05-19T10:02:18.788149Z"
    }
   },
   "outputs": [
    {
     "name": "stderr",
     "output_type": "stream",
     "text": [
      "100%|██████████| 4189/4189 [50:13<00:00,  1.39it/s]\n"
     ]
    }
   ],
   "source": [
    "pos_ranking,flippedpos = explainSamples(correct_preds,[source1,source2],hybrid,wrapDm,\n",
    "                                       class_to_explain=1,maxLenAttributeSet=1)"
   ]
  },
  {
   "cell_type": "code",
   "execution_count": 18,
   "metadata": {
    "ExecuteTime": {
     "end_time": "2020-05-19T11:09:06.620024Z",
     "start_time": "2020-05-19T11:09:06.241252Z"
    }
   },
   "outputs": [
    {
     "data": {
      "image/png": "[encoded data removed]",
      "text/plain": [
       "<Figure size 432x288 with 1 Axes>"
      ]
     },
     "metadata": {
      "needs_background": "light"
     },
     "output_type": "display_data"
    }
   ],
   "source": [
    "pos_ranking.plot.barh(color='green',grid=True,xlim=(0,1)).get_figure().savefig('cora_pos_rank.png')"
   ]
  },
  {
   "cell_type": "code",
   "execution_count": 19,
   "metadata": {
    "ExecuteTime": {
     "end_time": "2020-05-19T11:11:29.017805Z",
     "start_time": "2020-05-19T11:11:28.731476Z"
    }
   },
   "outputs": [],
   "source": [
    "flippedneg.to_csv('cora_hybrid_flippedneg.csv',index=False)\n",
    "flippedpos.to_csv('cora_hybrid_flippedpos.csv',index=False)"
   ]
  },
  {
   "cell_type": "markdown",
   "metadata": {},
   "source": [
    "## Create negatives using ground truth"
   ]
  },
  {
   "cell_type": "code",
   "execution_count": 31,
   "metadata": {
    "ExecuteTime": {
     "end_time": "2020-05-28T13:45:27.121242Z",
     "start_time": "2020-05-28T13:45:27.116598Z"
    }
   },
   "outputs": [],
   "source": [
    "import random as rd\n",
    "import pandas as pd\n",
    "from collections import defaultdict\n",
    "import numpy as np"
   ]
  },
  {
   "cell_type": "code",
   "execution_count": 6,
   "metadata": {
    "ExecuteTime": {
     "end_time": "2020-05-28T13:35:16.139380Z",
     "start_time": "2020-05-28T13:35:16.126058Z"
    }
   },
   "outputs": [],
   "source": [
    "class Graph: \n",
    "      \n",
    "    # init function to declare class variables \n",
    "    def __init__(self): \n",
    "        self.adj = defaultdict(list)\n",
    "  \n",
    "    def DFSUtil(self, temp, v, visited): \n",
    "  \n",
    "        # Mark the current vertex as visited \n",
    "        visited.add(v)\n",
    "  \n",
    "        # Store the vertex to list \n",
    "        temp.append(v) \n",
    "  \n",
    "        # Repeat for all vertices adjacent \n",
    "        # to this vertex v \n",
    "        for i in self.adj[v]: \n",
    "            if i not in visited: \n",
    "                # Update the list \n",
    "                temp = self.DFSUtil(temp, i, visited) \n",
    "        return temp \n",
    "  \n",
    "    # method to add an undirected edge \n",
    "    def addEdge(self, v, w): \n",
    "        self.adj[v].append(w) \n",
    "        self.adj[w].append(v) \n",
    "  \n",
    "    # Method to retrieve connected components \n",
    "    # in an undirected graph \n",
    "    def connectedComponents(self): \n",
    "        visited = set()\n",
    "        cc = []  \n",
    "        for v in self.adj.keys(): \n",
    "            if v not in visited: \n",
    "                temp = [] \n",
    "                cc.append(self.DFSUtil(temp, v, visited)) \n",
    "        return cc "
   ]
  },
  {
   "cell_type": "code",
   "execution_count": 9,
   "metadata": {
    "ExecuteTime": {
     "end_time": "2020-05-28T13:35:36.196711Z",
     "start_time": "2020-05-28T13:35:35.962270Z"
    }
   },
   "outputs": [],
   "source": [
    "ground_truth = pd.read_csv('../datasets/Cora/cora_ground_truth.csv')\n",
    "ground_truth_sample = pd.read_csv('../datasets/Cora/cora_ground_truth_10perc.csv')\n",
    "edges = list(zip(ground_truth.id1.values,ground_truth.id2.values))"
   ]
  },
  {
   "cell_type": "code",
   "execution_count": 10,
   "metadata": {
    "ExecuteTime": {
     "end_time": "2020-05-28T13:35:37.474286Z",
     "start_time": "2020-05-28T13:35:37.376730Z"
    }
   },
   "outputs": [],
   "source": [
    "graph_matching = Graph()\n",
    "for edge in edges:\n",
    "    graph_matching.addEdge(edge[0],edge[1])"
   ]
  },
  {
   "cell_type": "code",
   "execution_count": 11,
   "metadata": {
    "ExecuteTime": {
     "end_time": "2020-05-28T13:35:37.909828Z",
     "start_time": "2020-05-28T13:35:37.890238Z"
    }
   },
   "outputs": [
    {
     "data": {
      "text/plain": [
       "[2, 3, 4, 5, 6, 7, 8]"
      ]
     },
     "execution_count": 11,
     "metadata": {},
     "output_type": "execute_result"
    }
   ],
   "source": [
    "graph_matching.adj[1]"
   ]
  },
  {
   "cell_type": "code",
   "execution_count": 12,
   "metadata": {
    "ExecuteTime": {
     "end_time": "2020-05-28T13:35:40.351473Z",
     "start_time": "2020-05-28T13:35:40.338451Z"
    }
   },
   "outputs": [],
   "source": [
    "from tqdm import tqdm"
   ]
  },
  {
   "cell_type": "code",
   "execution_count": 27,
   "metadata": {
    "ExecuteTime": {
     "end_time": "2020-05-28T13:43:52.109976Z",
     "start_time": "2020-05-28T13:43:52.098641Z"
    }
   },
   "outputs": [],
   "source": [
    "def createNegatives(n,graph_matching):\n",
    "    rd.seed(0)\n",
    "    negative_pairs = []\n",
    "    nodes = list(graph_matching.adj.keys())\n",
    "    pbar = tqdm(total=n)\n",
    "    while(len(negative_pairs)<n):\n",
    "        r1 = rd.choice(nodes)\n",
    "        r2 = rd.choice(nodes)\n",
    "        while(r1==r2):\n",
    "            r2 = rd.choice(nodes)\n",
    "        r1_cluster = graph_matching.DFSUtil([],r1,set([]))\n",
    "        if r2 not in r1_cluster:\n",
    "            pbar.update(1)\n",
    "            negative_pairs.append((r1,r2,0))\n",
    "    negative_pairs_df = pd.DataFrame(data=negative_pairs,columns=['id1',\n",
    "                                                                     'id2','label'])\n",
    "    return negative_pairs_df"
   ]
  },
  {
   "cell_type": "code",
   "execution_count": 28,
   "metadata": {
    "ExecuteTime": {
     "end_time": "2020-05-28T13:43:59.196347Z",
     "start_time": "2020-05-28T13:43:52.727048Z"
    }
   },
   "outputs": [
    {
     "name": "stderr",
     "output_type": "stream",
     "text": [
      "\n",
      "\n",
      "\n",
      "  0%|          | 0/6458 [00:00<?, ?it/s]\u001b[A\u001b[A\u001b[A\n",
      "\n",
      "\n",
      "  1%|          | 57/6458 [00:00<00:11, 567.37it/s]\u001b[A\u001b[A\u001b[A\n",
      "\n",
      "\n",
      "  2%|▏         | 149/6458 [00:00<00:09, 637.95it/s]\u001b[A\u001b[A\u001b[A\n",
      "\n",
      "\n",
      "  3%|▎         | 223/6458 [00:00<00:09, 658.00it/s]\u001b[A\u001b[A\u001b[A\n",
      "\n",
      "\n",
      "  4%|▍         | 275/6458 [00:00<00:10, 602.17it/s]\u001b[A\u001b[A\u001b[A\n",
      "\n",
      "\n",
      "  5%|▌         | 350/6458 [00:00<00:09, 637.35it/s]\u001b[A\u001b[A\u001b[A\n",
      "\n",
      "\n",
      "  7%|▋         | 435/6458 [00:00<00:08, 687.44it/s]\u001b[A\u001b[A\u001b[A\n",
      "\n",
      "\n",
      "  8%|▊         | 521/6458 [00:00<00:08, 725.94it/s]\u001b[A\u001b[A\u001b[A\n",
      "\n",
      "\n",
      " 10%|▉         | 628/6458 [00:00<00:07, 796.58it/s]\u001b[A\u001b[A\u001b[A\n",
      "\n",
      "\n",
      " 12%|█▏        | 755/6458 [00:00<00:06, 889.71it/s]\u001b[A\u001b[A\u001b[A\n",
      "\n",
      "\n",
      " 13%|█▎        | 852/6458 [00:01<00:06, 903.11it/s]\u001b[A\u001b[A\u001b[A\n",
      "\n",
      "\n",
      " 15%|█▌        | 983/6458 [00:01<00:05, 992.65it/s]\u001b[A\u001b[A\u001b[A\n",
      "\n",
      "\n",
      " 17%|█▋        | 1087/6458 [00:01<00:05, 989.63it/s]\u001b[A\u001b[A\u001b[A\n",
      "\n",
      "\n",
      " 19%|█▉        | 1217/6458 [00:01<00:04, 1058.74it/s]\u001b[A\u001b[A\u001b[A\n",
      "\n",
      "\n",
      " 21%|██        | 1327/6458 [00:01<00:05, 1000.50it/s]\u001b[A\u001b[A\u001b[A\n",
      "\n",
      "\n",
      " 23%|██▎       | 1455/6458 [00:01<00:04, 1066.32it/s]\u001b[A\u001b[A\u001b[A\n",
      "\n",
      "\n",
      " 25%|██▍       | 1590/6458 [00:01<00:04, 1136.65it/s]\u001b[A\u001b[A\u001b[A\n",
      "\n",
      "\n",
      " 27%|██▋       | 1717/6458 [00:01<00:04, 1166.77it/s]\u001b[A\u001b[A\u001b[A\n",
      "\n",
      "\n",
      " 29%|██▊       | 1856/6458 [00:01<00:03, 1223.22it/s]\u001b[A\u001b[A\u001b[A\n",
      "\n",
      "\n",
      " 31%|███       | 1996/6458 [00:01<00:03, 1259.59it/s]\u001b[A\u001b[A\u001b[A\n",
      "\n",
      "\n",
      " 33%|███▎      | 2135/6458 [00:02<00:03, 1294.12it/s]\u001b[A\u001b[A\u001b[A\n",
      "\n",
      "\n",
      " 35%|███▌      | 2267/6458 [00:02<00:03, 1198.36it/s]\u001b[A\u001b[A\u001b[A\n",
      "\n",
      "\n",
      " 37%|███▋      | 2406/6458 [00:02<00:03, 1236.97it/s]\u001b[A\u001b[A\u001b[A\n",
      "\n",
      "\n",
      " 39%|███▉      | 2550/6458 [00:02<00:03, 1279.91it/s]\u001b[A\u001b[A\u001b[A\n",
      "\n",
      "\n",
      " 41%|████▏     | 2680/6458 [00:02<00:03, 1163.09it/s]\u001b[A\u001b[A\u001b[A\n",
      "\n",
      "\n",
      " 43%|████▎     | 2800/6458 [00:02<00:03, 1125.93it/s]\u001b[A\u001b[A\u001b[A\n",
      "\n",
      "\n",
      " 45%|████▌     | 2927/6458 [00:02<00:03, 1154.73it/s]\u001b[A\u001b[A\u001b[A\n",
      "\n",
      "\n",
      " 47%|████▋     | 3047/6458 [00:02<00:02, 1167.24it/s]\u001b[A\u001b[A\u001b[A\n",
      "\n",
      "\n",
      " 49%|████▉     | 3166/6458 [00:02<00:02, 1132.68it/s]\u001b[A\u001b[A\u001b[A\n",
      "\n",
      "\n",
      " 51%|█████     | 3294/6458 [00:03<00:02, 1160.61it/s]\u001b[A\u001b[A\u001b[A\n",
      "\n",
      "\n",
      " 53%|█████▎    | 3437/6458 [00:03<00:02, 1223.45it/s]\u001b[A\u001b[A\u001b[A\n",
      "\n",
      "\n",
      " 56%|█████▌    | 3598/6458 [00:03<00:02, 1316.76it/s]\u001b[A\u001b[A\u001b[A\n",
      "\n",
      "\n",
      " 58%|█████▊    | 3742/6458 [00:03<00:02, 1351.36it/s]\u001b[A\u001b[A\u001b[A\n",
      "\n",
      "\n",
      " 60%|██████    | 3880/6458 [00:03<00:02, 1255.46it/s]\u001b[A\u001b[A\u001b[A\n",
      "\n",
      "\n",
      " 62%|██████▏   | 4025/6458 [00:03<00:01, 1307.15it/s]\u001b[A\u001b[A\u001b[A\n",
      "\n",
      "\n",
      " 64%|██████▍   | 4159/6458 [00:03<00:01, 1268.80it/s]\u001b[A\u001b[A\u001b[A\n",
      "\n",
      "\n",
      " 66%|██████▋   | 4289/6458 [00:03<00:01, 1176.29it/s]\u001b[A\u001b[A\u001b[A\n",
      "\n",
      "\n",
      " 68%|██████▊   | 4410/6458 [00:03<00:01, 1173.87it/s]\u001b[A\u001b[A\u001b[A\n",
      "\n",
      "\n",
      " 71%|███████   | 4561/6458 [00:04<00:01, 1250.26it/s]\u001b[A\u001b[A\u001b[A\n",
      "\n",
      "\n",
      " 73%|███████▎  | 4689/6458 [00:04<00:01, 1162.82it/s]\u001b[A\u001b[A\u001b[A\n",
      "\n",
      "\n",
      " 74%|███████▍  | 4809/6458 [00:04<00:01, 1135.84it/s]\u001b[A\u001b[A\u001b[A\n",
      "\n",
      "\n",
      " 77%|███████▋  | 4947/6458 [00:04<00:01, 1199.32it/s]\u001b[A\u001b[A\u001b[A\n",
      "\n",
      "\n",
      " 79%|███████▊  | 5070/6458 [00:04<00:01, 1133.38it/s]\u001b[A\u001b[A\u001b[A\n",
      "\n",
      "\n",
      " 80%|████████  | 5186/6458 [00:04<00:01, 872.53it/s] \u001b[A\u001b[A\u001b[A\n",
      "\n",
      "\n",
      " 82%|████████▏ | 5286/6458 [00:04<00:01, 906.43it/s]\u001b[A\u001b[A\u001b[A\n",
      "\n",
      "\n",
      " 83%|████████▎ | 5385/6458 [00:04<00:01, 914.57it/s]\u001b[A\u001b[A\u001b[A\n",
      "\n",
      "\n",
      " 85%|████████▍ | 5483/6458 [00:05<00:01, 800.85it/s]\u001b[A\u001b[A\u001b[A\n",
      "\n",
      "\n",
      " 86%|████████▌ | 5570/6458 [00:05<00:01, 765.42it/s]\u001b[A\u001b[A\u001b[A\n",
      "\n",
      "\n",
      " 88%|████████▊ | 5652/6458 [00:05<00:01, 668.89it/s]\u001b[A\u001b[A\u001b[A\n",
      "\n",
      "\n",
      " 89%|████████▊ | 5725/6458 [00:05<00:01, 642.02it/s]\u001b[A\u001b[A\u001b[A\n",
      "\n",
      "\n",
      " 90%|████████▉ | 5794/6458 [00:05<00:01, 601.06it/s]\u001b[A\u001b[A\u001b[A\n",
      "\n",
      "\n",
      " 91%|█████████ | 5867/6458 [00:05<00:00, 633.43it/s]\u001b[A\u001b[A\u001b[A\n",
      "\n",
      "\n",
      " 92%|█████████▏| 5951/6458 [00:05<00:00, 678.55it/s]\u001b[A\u001b[A\u001b[A\n",
      "\n",
      "\n",
      " 93%|█████████▎| 6028/6458 [00:05<00:00, 693.91it/s]\u001b[A\u001b[A\u001b[A\n",
      "\n",
      "\n",
      " 95%|█████████▍| 6115/6458 [00:06<00:00, 737.40it/s]\u001b[A\u001b[A\u001b[A\n",
      "\n",
      "\n",
      " 96%|█████████▋| 6224/6458 [00:06<00:00, 814.53it/s]\u001b[A\u001b[A\u001b[A\n",
      "\n",
      "\n",
      " 98%|█████████▊| 6310/6458 [00:06<00:00, 782.23it/s]\u001b[A\u001b[A\u001b[A\n",
      "\n",
      "\n",
      " 99%|█████████▉| 6397/6458 [00:06<00:00, 800.62it/s]\u001b[A\u001b[A\u001b[A\n",
      "\n",
      "\n",
      "100%|██████████| 6458/6458 [00:20<00:00, 800.62it/s]\u001b[A\u001b[A\u001b[A"
     ]
    }
   ],
   "source": [
    "negatives = createNegatives(len(ground_truth_sample),graph_matching)"
   ]
  },
  {
   "cell_type": "code",
   "execution_count": 29,
   "metadata": {
    "ExecuteTime": {
     "end_time": "2020-05-28T13:44:56.461056Z",
     "start_time": "2020-05-28T13:44:56.448360Z"
    }
   },
   "outputs": [],
   "source": [
    "ground_truth_sample['label'] = [1]*len(ground_truth_sample)\n",
    "dataset_deepmatcher = pd.concat([negatives,ground_truth_sample],ignore_index=True)"
   ]
  },
  {
   "cell_type": "code",
   "execution_count": 32,
   "metadata": {
    "ExecuteTime": {
     "end_time": "2020-05-28T13:47:38.949684Z",
     "start_time": "2020-05-28T13:47:38.894605Z"
    }
   },
   "outputs": [],
   "source": [
    "df = dataset_deepmatcher.copy()\n",
    "train,validation,test = np.split(df.sample(frac=1), [int(.6*len(df)), int(.8*len(df))])\n",
    "train.to_csv('../datasets/Cora/train_deepmatch.csv',index=False)\n",
    "validation.to_csv('../datasets/Cora/validation_deepmatch.csv',index=False)\n",
    "test.to_csv('../datasets/Cora/test_deepmatch.csv',index=False)"
   ]
  },
  {
   "cell_type": "code",
   "execution_count": 39,
   "metadata": {
    "ExecuteTime": {
     "end_time": "2020-05-28T13:56:55.908644Z",
     "start_time": "2020-05-28T13:56:55.867780Z"
    }
   },
   "outputs": [
    {
     "data": {
      "text/html": [
       "<div>\n",
       "<style scoped>\n",
       "    .dataframe tbody tr th:only-of-type {\n",
       "        vertical-align: middle;\n",
       "    }\n",
       "\n",
       "    .dataframe tbody tr th {\n",
       "        vertical-align: top;\n",
       "    }\n",
       "\n",
       "    .dataframe thead th {\n",
       "        text-align: right;\n",
       "    }\n",
       "</style>\n",
       "<table border=\"1\" class=\"dataframe\">\n",
       "  <thead>\n",
       "    <tr style=\"text-align: right;\">\n",
       "      <th></th>\n",
       "      <th>id1</th>\n",
       "      <th>id2</th>\n",
       "      <th>label</th>\n",
       "    </tr>\n",
       "  </thead>\n",
       "  <tbody>\n",
       "    <tr>\n",
       "      <th>3498</th>\n",
       "      <td>1342</td>\n",
       "      <td>1312</td>\n",
       "      <td>0</td>\n",
       "    </tr>\n",
       "    <tr>\n",
       "      <th>3125</th>\n",
       "      <td>527</td>\n",
       "      <td>1679</td>\n",
       "      <td>0</td>\n",
       "    </tr>\n",
       "    <tr>\n",
       "      <th>1893</th>\n",
       "      <td>417</td>\n",
       "      <td>1244</td>\n",
       "      <td>0</td>\n",
       "    </tr>\n",
       "    <tr>\n",
       "      <th>5299</th>\n",
       "      <td>447</td>\n",
       "      <td>160</td>\n",
       "      <td>0</td>\n",
       "    </tr>\n",
       "    <tr>\n",
       "      <th>1807</th>\n",
       "      <td>1348</td>\n",
       "      <td>1188</td>\n",
       "      <td>0</td>\n",
       "    </tr>\n",
       "    <tr>\n",
       "      <th>4494</th>\n",
       "      <td>275</td>\n",
       "      <td>1221</td>\n",
       "      <td>0</td>\n",
       "    </tr>\n",
       "    <tr>\n",
       "      <th>4416</th>\n",
       "      <td>79</td>\n",
       "      <td>320</td>\n",
       "      <td>0</td>\n",
       "    </tr>\n",
       "    <tr>\n",
       "      <th>628</th>\n",
       "      <td>454</td>\n",
       "      <td>1844</td>\n",
       "      <td>0</td>\n",
       "    </tr>\n",
       "    <tr>\n",
       "      <th>473</th>\n",
       "      <td>441</td>\n",
       "      <td>973</td>\n",
       "      <td>0</td>\n",
       "    </tr>\n",
       "    <tr>\n",
       "      <th>1380</th>\n",
       "      <td>905</td>\n",
       "      <td>1594</td>\n",
       "      <td>0</td>\n",
       "    </tr>\n",
       "  </tbody>\n",
       "</table>\n",
       "</div>"
      ],
      "text/plain": [
       "       id1   id2  label\n",
       "3498  1342  1312      0\n",
       "3125   527  1679      0\n",
       "1893   417  1244      0\n",
       "5299   447   160      0\n",
       "1807  1348  1188      0\n",
       "4494   275  1221      0\n",
       "4416    79   320      0\n",
       "628    454  1844      0\n",
       "473    441   973      0\n",
       "1380   905  1594      0"
      ]
     },
     "execution_count": 39,
     "metadata": {},
     "output_type": "execute_result"
    }
   ],
   "source": [
    "negatives.sample(n=10)"
   ]
  },
  {
   "cell_type": "markdown",
   "metadata": {},
   "source": [
    "## Train deepmatcher"
   ]
  },
  {
   "cell_type": "code",
   "execution_count": 34,
   "metadata": {
    "ExecuteTime": {
     "end_time": "2020-05-28T13:54:52.114861Z",
     "start_time": "2020-05-28T13:54:50.944857Z"
    }
   },
   "outputs": [],
   "source": [
    "import deepmatcher as dm\n",
    "from utils.dataset_parser import generate_train_valid_test\n",
    "train_val,validation_val,test_val = generate_train_valid_test('../datasets/Cora/','cora.csv',\n",
    "                                                             'cora.csv',['train_deepmatch.csv',\n",
    "                                                                        'validation_deepmatch.csv',\n",
    "                                                                        'test_deepmatch.csv'],'ltable_',\n",
    "                                                             'rtable_')"
   ]
  },
  {
   "cell_type": "code",
   "execution_count": 40,
   "metadata": {
    "ExecuteTime": {
     "end_time": "2020-05-28T14:02:49.307642Z",
     "start_time": "2020-05-28T14:02:49.052052Z"
    }
   },
   "outputs": [],
   "source": [
    "data_dir ='../datasets/Cora/'\n",
    "train_val.to_csv(data_dir+'cora_train_deepmatch.csv',index=False)\n",
    "validation_val.to_csv(data_dir+'cora_valid_deepmatch.csv',index=False)\n",
    "test_val.to_csv(data_dir+'cora_test_deepmatch.csv',index=False)"
   ]
  },
  {
   "cell_type": "code",
   "execution_count": 41,
   "metadata": {
    "ExecuteTime": {
     "end_time": "2020-05-28T14:04:47.186050Z",
     "start_time": "2020-05-28T14:03:50.161632Z"
    }
   },
   "outputs": [
    {
     "name": "stderr",
     "output_type": "stream",
     "text": [
      "\n",
      "Reading and processing data from \"../datasets/Cora/cora_train_deepmatch.csv\"\n",
      "0% [############################# ] 100% | ETA: 00:00:00\n",
      "Reading and processing data from \"../datasets/Cora/cora_valid_deepmatch.csv\"\n",
      "0% [############################# ] 100% | ETA: 00:00:00\n",
      "Reading and processing data from \"../datasets/Cora/cora_test_deepmatch.csv\"\n",
      "0% [############################# ] 100% | ETA: 00:00:00\n",
      "Building vocabulary\n",
      "0% [########] 100% | ETA: 00:00:00\n",
      "Total time elapsed: 00:00:01\n",
      "\n",
      "Computing principal components\n",
      "0% [########] 100% | ETA: 00:00:00\n",
      "Total time elapsed: 00:00:16\n"
     ]
    }
   ],
   "source": [
    "train,valid,test = dm.data.process(data_dir,train='cora_train_deepmatch.csv',validation='cora_valid_deepmatch.csv',\n",
    "                                  test='cora_test_deepmatch.csv',left_prefix='ltable_',right_prefix='rtable_',\n",
    "                                  cache='deepmatcher.pth')"
   ]
  },
  {
   "cell_type": "code",
   "execution_count": 42,
   "metadata": {
    "ExecuteTime": {
     "end_time": "2020-05-28T15:00:50.200417Z",
     "start_time": "2020-05-28T14:07:08.523163Z"
    }
   },
   "outputs": [
    {
     "name": "stdout",
     "output_type": "stream",
     "text": [
      "* Number of trainable parameters: 35333818\n",
      "===>  TRAIN Epoch 1\n"
     ]
    },
    {
     "name": "stderr",
     "output_type": "stream",
     "text": [
      "/home/nvidia/anaconda3/envs/testenv/lib/python3.8/site-packages/torch/nn/functional.py:1958: UserWarning: reduction: 'mean' divides the total loss by both the batch size and the support size.'batchmean' divides only by the batch size, and aligns with the KL div math definition.'mean' will be changed to behave the same as 'batchmean' in the next major release.\n",
      "  warnings.warn(\"reduction: 'mean' divides the total loss by both the batch size and the support size.\"\n",
      "0% [████████████] 100% | ETA: 00:00:00\n",
      "Total time elapsed: 00:02:08\n"
     ]
    },
    {
     "name": "stdout",
     "output_type": "stream",
     "text": [
      "Finished Epoch 1 || Run Time:   55.5 | Load Time:   76.0 || F1:  87.87 | Prec:  90.55 | Rec:  85.34 || Ex/s:  58.92\n",
      "\n",
      "===>  EVAL Epoch 1\n"
     ]
    },
    {
     "name": "stderr",
     "output_type": "stream",
     "text": [
      "0% [████] 100% | ETA: 00:00:00\n",
      "Total time elapsed: 00:00:28\n"
     ]
    },
    {
     "name": "stdout",
     "output_type": "stream",
     "text": [
      "Finished Epoch 1 || Run Time:    6.5 | Load Time:   22.6 || F1:  99.19 | Prec:  99.07 | Rec:  99.30 || Ex/s:  88.89\n",
      "\n",
      "* Best F1: tensor(99.1895, device='cuda:0')\n",
      "Saving best model...\n",
      "Done.\n",
      "---------------------\n",
      "\n",
      "===>  TRAIN Epoch 2\n"
     ]
    },
    {
     "name": "stderr",
     "output_type": "stream",
     "text": [
      "0% [████████████] 100% | ETA: 00:00:00\n",
      "Total time elapsed: 00:02:08\n"
     ]
    },
    {
     "name": "stdout",
     "output_type": "stream",
     "text": [
      "Finished Epoch 2 || Run Time:   55.0 | Load Time:   76.3 || F1:  99.70 | Prec:  99.64 | Rec:  99.77 || Ex/s:  59.03\n",
      "\n",
      "===>  EVAL Epoch 2\n"
     ]
    },
    {
     "name": "stderr",
     "output_type": "stream",
     "text": [
      "0% [████] 100% | ETA: 00:00:00\n",
      "Total time elapsed: 00:00:28\n"
     ]
    },
    {
     "name": "stdout",
     "output_type": "stream",
     "text": [
      "Finished Epoch 2 || Run Time:    6.3 | Load Time:   22.6 || F1:  99.50 | Prec:  99.46 | Rec:  99.54 || Ex/s:  89.31\n",
      "\n",
      "* Best F1: tensor(99.4979, device='cuda:0')\n",
      "Saving best model...\n",
      "Done.\n",
      "---------------------\n",
      "\n",
      "===>  TRAIN Epoch 3\n"
     ]
    },
    {
     "name": "stderr",
     "output_type": "stream",
     "text": [
      "0% [████████████] 100% | ETA: 00:00:00\n",
      "Total time elapsed: 00:02:09\n"
     ]
    },
    {
     "name": "stdout",
     "output_type": "stream",
     "text": [
      "Finished Epoch 3 || Run Time:   55.8 | Load Time:   76.1 || F1:  99.91 | Prec:  99.84 | Rec:  99.97 || Ex/s:  58.74\n",
      "\n",
      "===>  EVAL Epoch 3\n"
     ]
    },
    {
     "name": "stderr",
     "output_type": "stream",
     "text": [
      "0% [████] 100% | ETA: 00:00:00\n",
      "Total time elapsed: 00:00:29\n"
     ]
    },
    {
     "name": "stdout",
     "output_type": "stream",
     "text": [
      "Finished Epoch 3 || Run Time:    6.6 | Load Time:   23.0 || F1:  99.58 | Prec:  99.46 | Rec:  99.69 || Ex/s:  87.37\n",
      "\n",
      "* Best F1: tensor(99.5754, device='cuda:0')\n",
      "Saving best model...\n",
      "Done.\n",
      "---------------------\n",
      "\n",
      "===>  TRAIN Epoch 4\n"
     ]
    },
    {
     "name": "stderr",
     "output_type": "stream",
     "text": [
      "0% [████████████] 100% | ETA: 00:00:00\n",
      "Total time elapsed: 00:02:08\n"
     ]
    },
    {
     "name": "stdout",
     "output_type": "stream",
     "text": [
      "Finished Epoch 4 || Run Time:   54.9 | Load Time:   75.8 || F1:  99.90 | Prec:  99.84 | Rec:  99.95 || Ex/s:  59.27\n",
      "\n",
      "===>  EVAL Epoch 4\n"
     ]
    },
    {
     "name": "stderr",
     "output_type": "stream",
     "text": [
      "0% [████] 100% | ETA: 00:00:00\n",
      "Total time elapsed: 00:00:28\n"
     ]
    },
    {
     "name": "stdout",
     "output_type": "stream",
     "text": [
      "Finished Epoch 4 || Run Time:    6.4 | Load Time:   22.6 || F1:  99.54 | Prec:  99.38 | Rec:  99.69 || Ex/s:  89.24\n",
      "\n",
      "---------------------\n",
      "\n",
      "===>  TRAIN Epoch 5\n"
     ]
    },
    {
     "name": "stderr",
     "output_type": "stream",
     "text": [
      "0% [████████████] 100% | ETA: 00:00:00\n",
      "Total time elapsed: 00:02:08\n"
     ]
    },
    {
     "name": "stdout",
     "output_type": "stream",
     "text": [
      "Finished Epoch 5 || Run Time:   55.1 | Load Time:   75.7 || F1:  99.97 | Prec:  99.95 | Rec: 100.00 || Ex/s:  59.27\n",
      "\n",
      "===>  EVAL Epoch 5\n"
     ]
    },
    {
     "name": "stderr",
     "output_type": "stream",
     "text": [
      "0% [████] 100% | ETA: 00:00:00\n",
      "Total time elapsed: 00:00:28\n"
     ]
    },
    {
     "name": "stdout",
     "output_type": "stream",
     "text": [
      "Finished Epoch 5 || Run Time:    6.8 | Load Time:   22.6 || F1:  99.50 | Prec:  99.31 | Rec:  99.69 || Ex/s:  87.82\n",
      "\n",
      "---------------------\n",
      "\n",
      "===>  TRAIN Epoch 6\n"
     ]
    },
    {
     "name": "stderr",
     "output_type": "stream",
     "text": [
      "0% [████████████] 100% | ETA: 00:00:00\n",
      "Total time elapsed: 00:02:08\n"
     ]
    },
    {
     "name": "stdout",
     "output_type": "stream",
     "text": [
      "Finished Epoch 6 || Run Time:   55.0 | Load Time:   76.0 || F1:  99.99 | Prec:  99.97 | Rec: 100.00 || Ex/s:  59.14\n",
      "\n",
      "===>  EVAL Epoch 6\n"
     ]
    },
    {
     "name": "stderr",
     "output_type": "stream",
     "text": [
      "0% [████] 100% | ETA: 00:00:00\n",
      "Total time elapsed: 00:00:29\n"
     ]
    },
    {
     "name": "stdout",
     "output_type": "stream",
     "text": [
      "Finished Epoch 6 || Run Time:    6.7 | Load Time:   23.2 || F1:  99.54 | Prec:  99.38 | Rec:  99.69 || Ex/s:  86.36\n",
      "\n",
      "---------------------\n",
      "\n",
      "===>  TRAIN Epoch 7\n"
     ]
    },
    {
     "name": "stderr",
     "output_type": "stream",
     "text": [
      "0% [████████████] 100% | ETA: 00:00:00\n",
      "Total time elapsed: 00:02:11\n"
     ]
    },
    {
     "name": "stdout",
     "output_type": "stream",
     "text": [
      "Finished Epoch 7 || Run Time:   56.2 | Load Time:   77.8 || F1: 100.00 | Prec: 100.00 | Rec: 100.00 || Ex/s:  57.81\n",
      "\n",
      "===>  EVAL Epoch 7\n"
     ]
    },
    {
     "name": "stderr",
     "output_type": "stream",
     "text": [
      "0% [████] 100% | ETA: 00:00:00\n",
      "Total time elapsed: 00:00:29\n"
     ]
    },
    {
     "name": "stdout",
     "output_type": "stream",
     "text": [
      "Finished Epoch 7 || Run Time:    6.7 | Load Time:   23.2 || F1:  99.69 | Prec:  99.69 | Rec:  99.69 || Ex/s:  86.51\n",
      "\n",
      "* Best F1: tensor(99.6909, device='cuda:0')\n",
      "Saving best model...\n",
      "Done.\n",
      "---------------------\n",
      "\n",
      "===>  TRAIN Epoch 8\n"
     ]
    },
    {
     "name": "stderr",
     "output_type": "stream",
     "text": [
      "0% [████████████] 100% | ETA: 00:00:00\n",
      "Total time elapsed: 00:02:10\n"
     ]
    },
    {
     "name": "stdout",
     "output_type": "stream",
     "text": [
      "Finished Epoch 8 || Run Time:   56.0 | Load Time:   77.4 || F1: 100.00 | Prec: 100.00 | Rec: 100.00 || Ex/s:  58.08\n",
      "\n",
      "===>  EVAL Epoch 8\n"
     ]
    },
    {
     "name": "stderr",
     "output_type": "stream",
     "text": [
      "0% [████] 100% | ETA: 00:00:00\n",
      "Total time elapsed: 00:00:29\n"
     ]
    },
    {
     "name": "stdout",
     "output_type": "stream",
     "text": [
      "Finished Epoch 8 || Run Time:    6.8 | Load Time:   22.7 || F1:  99.65 | Prec:  99.61 | Rec:  99.69 || Ex/s:  87.58\n",
      "\n",
      "---------------------\n",
      "\n",
      "===>  TRAIN Epoch 9\n"
     ]
    },
    {
     "name": "stderr",
     "output_type": "stream",
     "text": [
      "0% [████████████] 100% | ETA: 00:00:00\n",
      "Total time elapsed: 00:02:08\n"
     ]
    },
    {
     "name": "stdout",
     "output_type": "stream",
     "text": [
      "Finished Epoch 9 || Run Time:   55.0 | Load Time:   76.0 || F1: 100.00 | Prec: 100.00 | Rec: 100.00 || Ex/s:  59.19\n",
      "\n",
      "===>  EVAL Epoch 9\n"
     ]
    },
    {
     "name": "stderr",
     "output_type": "stream",
     "text": [
      "0% [████] 100% | ETA: 00:00:00\n",
      "Total time elapsed: 00:00:28\n"
     ]
    },
    {
     "name": "stdout",
     "output_type": "stream",
     "text": [
      "Finished Epoch 9 || Run Time:    6.4 | Load Time:   22.6 || F1:  99.61 | Prec:  99.54 | Rec:  99.69 || Ex/s:  89.09\n",
      "\n",
      "---------------------\n",
      "\n",
      "===>  TRAIN Epoch 10\n"
     ]
    },
    {
     "name": "stderr",
     "output_type": "stream",
     "text": [
      "0% [████████████] 100% | ETA: 00:00:00\n",
      "Total time elapsed: 00:02:08\n"
     ]
    },
    {
     "name": "stdout",
     "output_type": "stream",
     "text": [
      "Finished Epoch 10 || Run Time:   54.9 | Load Time:   75.9 || F1: 100.00 | Prec: 100.00 | Rec: 100.00 || Ex/s:  59.26\n",
      "\n",
      "===>  EVAL Epoch 10\n"
     ]
    },
    {
     "name": "stderr",
     "output_type": "stream",
     "text": [
      "0% [████] 100% | ETA: 00:00:00\n",
      "Total time elapsed: 00:00:28\n"
     ]
    },
    {
     "name": "stdout",
     "output_type": "stream",
     "text": [
      "Finished Epoch 10 || Run Time:    6.4 | Load Time:   22.6 || F1:  99.61 | Prec:  99.54 | Rec:  99.69 || Ex/s:  89.04\n",
      "\n",
      "---------------------\n",
      "\n",
      "===>  TRAIN Epoch 11\n"
     ]
    },
    {
     "name": "stderr",
     "output_type": "stream",
     "text": [
      "0% [████████████] 100% | ETA: 00:00:00\n",
      "Total time elapsed: 00:02:08\n"
     ]
    },
    {
     "name": "stdout",
     "output_type": "stream",
     "text": [
      "Finished Epoch 11 || Run Time:   55.1 | Load Time:   75.9 || F1: 100.00 | Prec: 100.00 | Rec: 100.00 || Ex/s:  59.15\n",
      "\n",
      "===>  EVAL Epoch 11\n"
     ]
    },
    {
     "name": "stderr",
     "output_type": "stream",
     "text": [
      "0% [████] 100% | ETA: 00:00:00\n",
      "Total time elapsed: 00:00:29\n"
     ]
    },
    {
     "name": "stdout",
     "output_type": "stream",
     "text": [
      "Finished Epoch 11 || Run Time:    6.9 | Load Time:   22.6 || F1:  99.61 | Prec:  99.54 | Rec:  99.69 || Ex/s:  87.58\n",
      "\n",
      "---------------------\n",
      "\n",
      "===>  TRAIN Epoch 12\n"
     ]
    },
    {
     "name": "stderr",
     "output_type": "stream",
     "text": [
      "0% [████████████] 100% | ETA: 00:00:00\n",
      "Total time elapsed: 00:02:08\n"
     ]
    },
    {
     "name": "stdout",
     "output_type": "stream",
     "text": [
      "Finished Epoch 12 || Run Time:   54.9 | Load Time:   76.2 || F1: 100.00 | Prec: 100.00 | Rec: 100.00 || Ex/s:  59.09\n",
      "\n",
      "===>  EVAL Epoch 12\n"
     ]
    },
    {
     "name": "stderr",
     "output_type": "stream",
     "text": [
      "0% [████] 100% | ETA: 00:00:00\n",
      "Total time elapsed: 00:00:28\n"
     ]
    },
    {
     "name": "stdout",
     "output_type": "stream",
     "text": [
      "Finished Epoch 12 || Run Time:    6.4 | Load Time:   22.6 || F1:  99.61 | Prec:  99.54 | Rec:  99.69 || Ex/s:  89.08\n",
      "\n",
      "---------------------\n",
      "\n",
      "===>  TRAIN Epoch 13\n"
     ]
    },
    {
     "name": "stderr",
     "output_type": "stream",
     "text": [
      "0% [████████████] 100% | ETA: 00:00:00\n",
      "Total time elapsed: 00:02:08\n"
     ]
    },
    {
     "name": "stdout",
     "output_type": "stream",
     "text": [
      "Finished Epoch 13 || Run Time:   55.0 | Load Time:   75.9 || F1: 100.00 | Prec: 100.00 | Rec: 100.00 || Ex/s:  59.19\n",
      "\n",
      "===>  EVAL Epoch 13\n"
     ]
    },
    {
     "name": "stderr",
     "output_type": "stream",
     "text": [
      "0% [████] 100% | ETA: 00:00:00\n",
      "Total time elapsed: 00:00:28\n"
     ]
    },
    {
     "name": "stdout",
     "output_type": "stream",
     "text": [
      "Finished Epoch 13 || Run Time:    6.4 | Load Time:   22.6 || F1:  99.61 | Prec:  99.54 | Rec:  99.69 || Ex/s:  89.12\n",
      "\n",
      "---------------------\n",
      "\n",
      "===>  TRAIN Epoch 14\n"
     ]
    },
    {
     "name": "stderr",
     "output_type": "stream",
     "text": [
      "0% [████████████] 100% | ETA: 00:00:00\n",
      "Total time elapsed: 00:02:08\n"
     ]
    },
    {
     "name": "stdout",
     "output_type": "stream",
     "text": [
      "Finished Epoch 14 || Run Time:   54.9 | Load Time:   76.0 || F1: 100.00 | Prec: 100.00 | Rec: 100.00 || Ex/s:  59.18\n",
      "\n",
      "===>  EVAL Epoch 14\n"
     ]
    },
    {
     "name": "stderr",
     "output_type": "stream",
     "text": [
      "0% [████] 100% | ETA: 00:00:00\n",
      "Total time elapsed: 00:00:29\n"
     ]
    },
    {
     "name": "stdout",
     "output_type": "stream",
     "text": [
      "Finished Epoch 14 || Run Time:    6.9 | Load Time:   22.6 || F1:  99.61 | Prec:  99.54 | Rec:  99.69 || Ex/s:  87.72\n",
      "\n",
      "---------------------\n",
      "\n",
      "===>  TRAIN Epoch 15\n"
     ]
    },
    {
     "name": "stderr",
     "output_type": "stream",
     "text": [
      "0% [████████████] 100% | ETA: 00:00:00\n",
      "Total time elapsed: 00:02:08\n"
     ]
    },
    {
     "name": "stdout",
     "output_type": "stream",
     "text": [
      "Finished Epoch 15 || Run Time:   54.9 | Load Time:   76.1 || F1: 100.00 | Prec: 100.00 | Rec: 100.00 || Ex/s:  59.15\n",
      "\n",
      "===>  EVAL Epoch 15\n"
     ]
    },
    {
     "name": "stderr",
     "output_type": "stream",
     "text": [
      "0% [████] 100% | ETA: 00:00:00\n",
      "Total time elapsed: 00:00:28\n"
     ]
    },
    {
     "name": "stdout",
     "output_type": "stream",
     "text": [
      "Finished Epoch 15 || Run Time:    6.4 | Load Time:   22.6 || F1:  99.61 | Prec:  99.54 | Rec:  99.69 || Ex/s:  89.14\n",
      "\n",
      "---------------------\n",
      "\n",
      "===>  TRAIN Epoch 16\n"
     ]
    },
    {
     "name": "stderr",
     "output_type": "stream",
     "text": [
      "0% [████████████] 100% | ETA: 00:00:00\n",
      "Total time elapsed: 00:02:08\n"
     ]
    },
    {
     "name": "stdout",
     "output_type": "stream",
     "text": [
      "Finished Epoch 16 || Run Time:   55.1 | Load Time:   76.0 || F1: 100.00 | Prec: 100.00 | Rec: 100.00 || Ex/s:  59.14\n",
      "\n",
      "===>  EVAL Epoch 16\n"
     ]
    },
    {
     "name": "stderr",
     "output_type": "stream",
     "text": [
      "0% [████] 100% | ETA: 00:00:00\n",
      "Total time elapsed: 00:00:28\n"
     ]
    },
    {
     "name": "stdout",
     "output_type": "stream",
     "text": [
      "Finished Epoch 16 || Run Time:    6.4 | Load Time:   22.6 || F1:  99.61 | Prec:  99.54 | Rec:  99.69 || Ex/s:  89.12\n",
      "\n",
      "---------------------\n",
      "\n",
      "===>  TRAIN Epoch 17\n"
     ]
    },
    {
     "name": "stderr",
     "output_type": "stream",
     "text": [
      "0% [████████████] 100% | ETA: 00:00:00\n",
      "Total time elapsed: 00:02:08\n"
     ]
    },
    {
     "name": "stdout",
     "output_type": "stream",
     "text": [
      "Finished Epoch 17 || Run Time:   55.5 | Load Time:   76.1 || F1: 100.00 | Prec: 100.00 | Rec: 100.00 || Ex/s:  58.91\n",
      "\n",
      "===>  EVAL Epoch 17\n"
     ]
    },
    {
     "name": "stderr",
     "output_type": "stream",
     "text": [
      "0% [████] 100% | ETA: 00:00:00\n",
      "Total time elapsed: 00:00:28\n"
     ]
    },
    {
     "name": "stdout",
     "output_type": "stream",
     "text": [
      "Finished Epoch 17 || Run Time:    6.4 | Load Time:   22.6 || F1:  99.61 | Prec:  99.54 | Rec:  99.69 || Ex/s:  89.15\n",
      "\n",
      "---------------------\n",
      "\n",
      "===>  TRAIN Epoch 18\n"
     ]
    },
    {
     "name": "stderr",
     "output_type": "stream",
     "text": [
      "0% [████████████] 100% | ETA: 00:00:00\n",
      "Total time elapsed: 00:02:08\n"
     ]
    },
    {
     "name": "stdout",
     "output_type": "stream",
     "text": [
      "Finished Epoch 18 || Run Time:   54.8 | Load Time:   76.0 || F1: 100.00 | Prec: 100.00 | Rec: 100.00 || Ex/s:  59.24\n",
      "\n",
      "===>  EVAL Epoch 18\n"
     ]
    },
    {
     "name": "stderr",
     "output_type": "stream",
     "text": [
      "0% [████] 100% | ETA: 00:00:00\n",
      "Total time elapsed: 00:00:28\n"
     ]
    },
    {
     "name": "stdout",
     "output_type": "stream",
     "text": [
      "Finished Epoch 18 || Run Time:    6.4 | Load Time:   22.6 || F1:  99.61 | Prec:  99.54 | Rec:  99.69 || Ex/s:  89.09\n",
      "\n",
      "---------------------\n",
      "\n",
      "===>  TRAIN Epoch 19\n"
     ]
    },
    {
     "name": "stderr",
     "output_type": "stream",
     "text": [
      "0% [████████████] 100% | ETA: 00:00:00\n",
      "Total time elapsed: 00:02:08\n"
     ]
    },
    {
     "name": "stdout",
     "output_type": "stream",
     "text": [
      "Finished Epoch 19 || Run Time:   54.9 | Load Time:   76.0 || F1: 100.00 | Prec: 100.00 | Rec: 100.00 || Ex/s:  59.20\n",
      "\n",
      "===>  EVAL Epoch 19\n"
     ]
    },
    {
     "name": "stderr",
     "output_type": "stream",
     "text": [
      "0% [████] 100% | ETA: 00:00:00\n",
      "Total time elapsed: 00:00:28\n"
     ]
    },
    {
     "name": "stdout",
     "output_type": "stream",
     "text": [
      "Finished Epoch 19 || Run Time:    6.4 | Load Time:   22.6 || F1:  99.61 | Prec:  99.54 | Rec:  99.69 || Ex/s:  89.09\n",
      "\n",
      "---------------------\n",
      "\n",
      "===>  TRAIN Epoch 20\n"
     ]
    },
    {
     "name": "stderr",
     "output_type": "stream",
     "text": [
      "0% [████████████] 100% | ETA: 00:00:00\n",
      "Total time elapsed: 00:02:08\n"
     ]
    },
    {
     "name": "stdout",
     "output_type": "stream",
     "text": [
      "Finished Epoch 20 || Run Time:   55.4 | Load Time:   75.9 || F1: 100.00 | Prec: 100.00 | Rec: 100.00 || Ex/s:  59.02\n",
      "\n",
      "===>  EVAL Epoch 20\n"
     ]
    },
    {
     "name": "stderr",
     "output_type": "stream",
     "text": [
      "0% [████] 100% | ETA: 00:00:00\n",
      "Total time elapsed: 00:00:28\n"
     ]
    },
    {
     "name": "stdout",
     "output_type": "stream",
     "text": [
      "Finished Epoch 20 || Run Time:    6.4 | Load Time:   22.6 || F1:  99.61 | Prec:  99.54 | Rec:  99.69 || Ex/s:  89.01\n",
      "\n",
      "---------------------\n",
      "\n",
      "Loading best model...\n",
      "Training done.\n"
     ]
    },
    {
     "data": {
      "text/plain": [
       "tensor(99.6909, device='cuda:0')"
      ]
     },
     "execution_count": 42,
     "metadata": {},
     "output_type": "execute_result"
    }
   ],
   "source": [
    "hybrid = dm.MatchingModel(attr_summarizer='hybrid')\n",
    "hybrid.run_train(train,valid,epochs=20,best_save_path='../models/cora_hybrid_deepmatch.pth',\n",
    "                batch_size=128)"
   ]
  },
  {
   "cell_type": "code",
   "execution_count": 43,
   "metadata": {
    "ExecuteTime": {
     "end_time": "2020-05-28T15:01:29.456171Z",
     "start_time": "2020-05-28T15:00:50.202310Z"
    }
   },
   "outputs": [
    {
     "name": "stdout",
     "output_type": "stream",
     "text": [
      "===>  EVAL Epoch 7\n"
     ]
    },
    {
     "name": "stderr",
     "output_type": "stream",
     "text": [
      "0% [████████████████] 100% | ETA: 00:00:00\n",
      "Total time elapsed: 00:00:38\n"
     ]
    },
    {
     "name": "stdout",
     "output_type": "stream",
     "text": [
      "Finished Epoch 7 || Run Time:   22.2 | Load Time:   17.0 || F1:  99.66 | Prec:  99.55 | Rec:  99.77 || Ex/s:  65.92\n",
      "\n"
     ]
    },
    {
     "data": {
      "text/plain": [
       "tensor(99.6605, device='cuda:0')"
      ]
     },
     "execution_count": 43,
     "metadata": {},
     "output_type": "execute_result"
    }
   ],
   "source": [
    "hybrid.run_eval(test)"
   ]
  },
  {
   "cell_type": "markdown",
   "metadata": {},
   "source": [
    "## Explanation on deepmatcher dataset"
   ]
  },
  {
   "cell_type": "code",
   "execution_count": 6,
   "metadata": {
    "ExecuteTime": {
     "end_time": "2020-05-28T15:23:28.287862Z",
     "start_time": "2020-05-28T15:23:23.679432Z"
    }
   },
   "outputs": [],
   "source": [
    "hybrid = dm.MatchingModel(attr_summarizer='hybrid')\n",
    "hybrid.load_state('../models/cora_hybrid_deepmatch.pth')"
   ]
  },
  {
   "cell_type": "code",
   "execution_count": 7,
   "metadata": {
    "ExecuteTime": {
     "end_time": "2020-05-28T15:23:50.909290Z",
     "start_time": "2020-05-28T15:23:50.841519Z"
    }
   },
   "outputs": [],
   "source": [
    "test_df = pd.read_csv('../datasets/Cora/cora_test_deepmatch.csv')"
   ]
  },
  {
   "cell_type": "code",
   "execution_count": 8,
   "metadata": {
    "ExecuteTime": {
     "end_time": "2020-05-28T15:24:45.366853Z",
     "start_time": "2020-05-28T15:23:51.434301Z"
    }
   },
   "outputs": [
    {
     "data": {
      "text/plain": [
       "(2584, 2575)"
      ]
     },
     "execution_count": 8,
     "metadata": {},
     "output_type": "execute_result"
    }
   ],
   "source": [
    "prediction = wrapDm(test_df,hybrid,ignore_columns=['label'])\n",
    "correct_preds = test_df[np.argmax(prediction,axis=1)==test_df.label.values]\n",
    "len(test_df),len(correct_preds)"
   ]
  },
  {
   "cell_type": "code",
   "execution_count": 9,
   "metadata": {
    "ExecuteTime": {
     "end_time": "2020-05-28T15:25:53.977891Z",
     "start_time": "2020-05-28T15:25:53.905247Z"
    }
   },
   "outputs": [],
   "source": [
    "DATA_DIR='../datasets/Cora/'\n",
    "source1 = pd.read_csv(DATA_DIR+'cora.csv',dtype=str)\n",
    "source2 = pd.read_csv(DATA_DIR+'cora.csv',dtype=str)"
   ]
  },
  {
   "cell_type": "code",
   "execution_count": 10,
   "metadata": {
    "ExecuteTime": {
     "end_time": "2020-05-28T15:46:20.006269Z",
     "start_time": "2020-05-28T15:26:06.161700Z"
    }
   },
   "outputs": [
    {
     "name": "stderr",
     "output_type": "stream",
     "text": [
      "100%|██████████| 1632/1632 [20:10<00:00,  1.35it/s]\n"
     ]
    }
   ],
   "source": [
    "neg_ranking,flippedneg = explainSamples(correct_preds,[source1,source2],hybrid,wrapDm,\n",
    "                                       class_to_explain=0,maxLenAttributeSet=1)"
   ]
  },
  {
   "cell_type": "code",
   "execution_count": 11,
   "metadata": {
    "ExecuteTime": {
     "end_time": "2020-05-28T16:11:41.760612Z",
     "start_time": "2020-05-28T15:52:23.436533Z"
    }
   },
   "outputs": [
    {
     "name": "stderr",
     "output_type": "stream",
     "text": [
      "100%|██████████| 1632/1632 [19:13<00:00,  1.41it/s]\n"
     ]
    }
   ],
   "source": [
    "pos_ranking,flippedpos = explainSamples(correct_preds,[source1,source2],hybrid,wrapDm,\n",
    "                                       class_to_explain=1,maxLenAttributeSet=1)"
   ]
  },
  {
   "cell_type": "code",
   "execution_count": 23,
   "metadata": {
    "ExecuteTime": {
     "end_time": "2020-05-28T16:17:15.462852Z",
     "start_time": "2020-05-28T16:17:15.027721Z"
    }
   },
   "outputs": [
    {
     "data": {
      "image/png": "[encoded data removed]",
      "text/plain": [
       "<Figure size 432x288 with 1 Axes>"
      ]
     },
     "metadata": {
      "needs_background": "light"
     },
     "output_type": "display_data"
    }
   ],
   "source": [
    "ax = neg_ranking.plot.barh(color='red',grid=True,xlim=(0,1))\n",
    "ax.set_xlabel('score')\n",
    "ax.get_figure().savefig('cora_deepmatch_negrank.png',bbox_inches='tight')"
   ]
  },
  {
   "cell_type": "code",
   "execution_count": 24,
   "metadata": {
    "ExecuteTime": {
     "end_time": "2020-05-28T16:17:20.049623Z",
     "start_time": "2020-05-28T16:17:19.618590Z"
    }
   },
   "outputs": [
    {
     "data": {
      "image/png": "[encoded data removed]",
      "text/plain": [
       "<Figure size 432x288 with 1 Axes>"
      ]
     },
     "metadata": {
      "needs_background": "light"
     },
     "output_type": "display_data"
    }
   ],
   "source": [
    "ax = pos_ranking.plot.barh(color='green',grid=True,xlim=(0,1))\n",
    "ax.set_xlabel('score')\n",
    "ax.get_figure().savefig('cora_deepmatch_posrank.png',bbox_inches='tight')"
   ]
  },
  {
   "cell_type": "code",
   "execution_count": 25,
   "metadata": {
    "ExecuteTime": {
     "end_time": "2020-05-28T16:18:21.899407Z",
     "start_time": "2020-05-28T16:18:21.819880Z"
    }
   },
   "outputs": [],
   "source": [
    "flippedneg.to_csv('cora_deepmatch_flippedneg.csv',index=False)\n",
    "flippedpos.to_csv('cora_deepmatch_flippedpos.csv',index=False)"
   ]
  },
  {
   "cell_type": "code",
   "execution_count": null,
   "metadata": {},
   "outputs": [],
   "source": []
  }
 ],
 "metadata": {
  "kernelspec": {
   "display_name": "Python 3",
   "language": "python",
   "name": "python3"
  },
  "language_info": {
   "codemirror_mode": {
    "name": "ipython",
    "version": 3
   },
   "file_extension": ".py",
   "mimetype": "text/x-python",
   "name": "python",
   "nbconvert_exporter": "python",
   "pygments_lexer": "ipython3",
   "version": "3.8.1"
  },
  "toc": {
   "base_numbering": 1,
   "nav_menu": {},
   "number_sections": true,
   "sideBar": true,
   "skip_h1_title": false,
   "title_cell": "Table of Contents",
   "title_sidebar": "Contents",
   "toc_cell": false,
   "toc_position": {},
   "toc_section_display": true,
   "toc_window_display": true
  }
 },
 "nbformat": 4,
 "nbformat_minor": 4
}

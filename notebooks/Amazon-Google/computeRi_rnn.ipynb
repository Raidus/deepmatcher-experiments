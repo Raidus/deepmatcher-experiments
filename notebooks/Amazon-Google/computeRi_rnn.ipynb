{
 "cells": [
  {
   "cell_type": "code",
   "execution_count": 1,
   "metadata": {},
   "outputs": [],
   "source": [
    "%load_ext autoreload\n",
    "%autoreload 2"
   ]
  },
  {
   "cell_type": "code",
   "execution_count": 2,
   "metadata": {},
   "outputs": [],
   "source": [
    "import sys\n",
    "sys.path.append(\"../..\")"
   ]
  },
  {
   "cell_type": "code",
   "execution_count": 3,
   "metadata": {},
   "outputs": [],
   "source": [
    "import deepmatcher as dm\n",
    "from utils.intermediate_layer_extraction import return_layer_input\n",
    "from utils.ri_calculator import computeRi\n",
    "from utils.explainer import Explainer\n",
    "import pandas as pd"
   ]
  },
  {
   "cell_type": "code",
   "execution_count": 4,
   "metadata": {},
   "outputs": [],
   "source": [
    "attributes =['title','manufacturer','price']"
   ]
  },
  {
   "cell_type": "markdown",
   "metadata": {},
   "source": [
    "### Dataset creation"
   ]
  },
  {
   "cell_type": "code",
   "execution_count": 5,
   "metadata": {},
   "outputs": [],
   "source": [
    "rnn_model = dm.MatchingModel(attr_summarizer='rnn')\n",
    "rnn_model.load_state('../../models/amazongoogle_rnn.pth')\n",
    "rnn_model = rnn_model.cuda()"
   ]
  },
  {
   "cell_type": "code",
   "execution_count": 6,
   "metadata": {},
   "outputs": [],
   "source": [
    "testneg_classifier,testneg_ids = return_layer_input('../../Structured/Amazon-Google/'\n",
    "                                                                         ,'test_negatives',128,rnn_model,\n",
    "                                                                        rnn_model.classifier)"
   ]
  },
  {
   "cell_type": "code",
   "execution_count": 7,
   "metadata": {},
   "outputs": [],
   "source": [
    "testpos_classifier,testpos_ids = return_layer_input('../../Structured/Amazon-Google/',\n",
    "                                                                  'test_positives',128,rnn_model,\n",
    "                                                                  rnn_model.classifier)"
   ]
  },
  {
   "cell_type": "code",
   "execution_count": 8,
   "metadata": {},
   "outputs": [],
   "source": [
    "neg_classifier,neg_ids = return_layer_input('../../Structured/Amazon-Google/'\n",
    "                                                                         ,'negatives',512,rnn_model,\n",
    "                                                                        rnn_model.classifier)"
   ]
  },
  {
   "cell_type": "code",
   "execution_count": 9,
   "metadata": {},
   "outputs": [],
   "source": [
    "pos_classifier,pos_ids = return_layer_input('../../Structured/Amazon-Google/','positives',\n",
    "                                                          512,rnn_model,rnn_model.classifier)"
   ]
  },
  {
   "cell_type": "code",
   "execution_count": 10,
   "metadata": {},
   "outputs": [],
   "source": [
    "classifier_len = len(pos_classifier[0][0])\n",
    "attribute_len = int(classifier_len/len(attributes))"
   ]
  },
  {
   "cell_type": "markdown",
   "metadata": {},
   "source": [
    "### Negatives analysis"
   ]
  },
  {
   "cell_type": "code",
   "execution_count": 11,
   "metadata": {},
   "outputs": [
    {
     "name": "stderr",
     "output_type": "stream",
     "text": [
      "100%|██████████| 128/128 [00:04<00:00, 27.68it/s]\n",
      "100%|██████████| 128/128 [00:04<00:00, 28.38it/s]\n",
      "100%|██████████| 128/128 [00:04<00:00, 30.54it/s]\n",
      "100%|██████████| 128/128 [00:04<00:00, 31.29it/s]\n",
      "100%|██████████| 128/128 [00:03<00:00, 32.01it/s]\n",
      "100%|██████████| 128/128 [00:04<00:00, 27.78it/s]\n",
      "100%|██████████| 128/128 [00:04<00:00, 30.59it/s]\n",
      "100%|██████████| 128/128 [00:04<00:00, 31.48it/s]\n",
      "100%|██████████| 128/128 [00:04<00:00, 26.92it/s]\n",
      "100%|██████████| 128/128 [00:03<00:00, 32.56it/s]\n",
      "100%|██████████| 128/128 [00:04<00:00, 29.92it/s]\n",
      "100%|██████████| 11/11 [00:00<00:00, 37.07it/s]\n",
      "100%|██████████| 128/128 [00:04<00:00, 30.61it/s]\n",
      "100%|██████████| 128/128 [00:04<00:00, 29.15it/s]\n",
      "100%|██████████| 128/128 [00:04<00:00, 31.01it/s]\n",
      "100%|██████████| 128/128 [00:04<00:00, 31.44it/s]\n",
      "100%|██████████| 128/128 [00:04<00:00, 30.38it/s]\n"
     ]
    }
   ],
   "source": [
    "negatives_ri,neg_ri_norms = computeRi(rnn_model.classifier,\n",
    "                                                    attributes,testneg_classifier,attribute_len,1)"
   ]
  },
  {
   "cell_type": "code",
   "execution_count": 13,
   "metadata": {},
   "outputs": [
    {
     "data": {
      "text/plain": [
       "<matplotlib.axes._subplots.AxesSubplot at 0x7f34019bca90>"
      ]
     },
     "execution_count": 13,
     "metadata": {},
     "output_type": "execute_result"
    },
    {
     "data": {
      "image/png": "[encoded data removed]",
      "text/plain": [
       "<Figure size 432x288 with 1 Axes>"
      ]
     },
     "metadata": {
      "needs_background": "light"
     },
     "output_type": "display_data"
    }
   ],
   "source": [
    "negatives_variation_df = pd.DataFrame(data= neg_ri_norms,columns=attributes)\n",
    "negatives_variation_df.sum().plot.bar()"
   ]
  },
  {
   "cell_type": "code",
   "execution_count": 14,
   "metadata": {},
   "outputs": [],
   "source": [
    "##save to file\n",
    "negatives_variation_df.to_csv('experiment_results/testnegRiRNN.csv',index=False)"
   ]
  },
  {
   "cell_type": "markdown",
   "metadata": {},
   "source": [
    "## Test positives analysis"
   ]
  },
  {
   "cell_type": "code",
   "execution_count": 15,
   "metadata": {},
   "outputs": [
    {
     "name": "stderr",
     "output_type": "stream",
     "text": [
      "100%|██████████| 128/128 [00:00<00:00, 131.26it/s]\n",
      "100%|██████████| 106/106 [00:00<00:00, 165.23it/s]\n"
     ]
    }
   ],
   "source": [
    "positives_ri,pos_ri_norms = computeRi(rnn_model.classifier,\n",
    "                                                    attributes,testpos_classifier,attribute_len,0)"
   ]
  },
  {
   "cell_type": "code",
   "execution_count": 16,
   "metadata": {},
   "outputs": [
    {
     "data": {
      "text/plain": [
       "<matplotlib.axes._subplots.AxesSubplot at 0x7f340193d438>"
      ]
     },
     "execution_count": 16,
     "metadata": {},
     "output_type": "execute_result"
    },
    {
     "data": {
      "image/png": "[encoded data removed]",
      "text/plain": [
       "<Figure size 432x288 with 1 Axes>"
      ]
     },
     "metadata": {
      "needs_background": "light"
     },
     "output_type": "display_data"
    }
   ],
   "source": [
    "positives_variation_df = pd.DataFrame(data= pos_ri_norms,columns=attributes)\n",
    "positives_variation_df.sum().plot.bar()"
   ]
  },
  {
   "cell_type": "code",
   "execution_count": 18,
   "metadata": {},
   "outputs": [],
   "source": [
    "##Save results to file\n",
    "positives_variation_df.to_csv('experiment_results/testposRiRNN.csv',index=False)"
   ]
  },
  {
   "cell_type": "markdown",
   "metadata": {},
   "source": [
    "## Compute nearest neighbours"
   ]
  },
  {
   "cell_type": "code",
   "execution_count": 19,
   "metadata": {},
   "outputs": [],
   "source": [
    "from utils.distance_measures import calculate_nearest_neighbors_onAttributes"
   ]
  },
  {
   "cell_type": "code",
   "execution_count": 20,
   "metadata": {},
   "outputs": [
    {
     "name": "stderr",
     "output_type": "stream",
     "text": [
      "100%|██████████| 128/128 [00:00<00:00, 165.98it/s]\n",
      "100%|██████████| 106/106 [00:00<00:00, 249.27it/s]\n"
     ]
    }
   ],
   "source": [
    "positives_nn = calculate_nearest_neighbors_onAttributes(testpos_classifier,testpos_ids,positives_ri,\n",
    "                                                       neg_classifier,neg_ids,attributes,attribute_len)"
   ]
  },
  {
   "cell_type": "code",
   "execution_count": 21,
   "metadata": {},
   "outputs": [
    {
     "name": "stderr",
     "output_type": "stream",
     "text": [
      "100%|██████████| 128/128 [00:00<00:00, 706.55it/s]\n",
      "100%|██████████| 128/128 [00:00<00:00, 753.00it/s]\n",
      "100%|██████████| 128/128 [00:00<00:00, 755.11it/s]\n",
      "100%|██████████| 128/128 [00:00<00:00, 756.98it/s]\n",
      "100%|██████████| 128/128 [00:00<00:00, 756.43it/s]\n",
      "100%|██████████| 128/128 [00:00<00:00, 753.07it/s]\n",
      "100%|██████████| 128/128 [00:00<00:00, 757.34it/s]\n",
      "100%|██████████| 128/128 [00:00<00:00, 755.41it/s]\n",
      "100%|██████████| 128/128 [00:00<00:00, 758.82it/s]\n",
      "100%|██████████| 128/128 [00:00<00:00, 756.74it/s]\n",
      "100%|██████████| 128/128 [00:00<00:00, 758.67it/s]\n",
      "100%|██████████| 11/11 [00:00<00:00, 734.48it/s]\n",
      "100%|██████████| 128/128 [00:00<00:00, 759.34it/s]\n",
      "100%|██████████| 128/128 [00:00<00:00, 758.34it/s]\n",
      "100%|██████████| 128/128 [00:00<00:00, 759.54it/s]\n",
      "100%|██████████| 128/128 [00:00<00:00, 755.75it/s]\n",
      "100%|██████████| 128/128 [00:00<00:00, 755.90it/s]\n"
     ]
    }
   ],
   "source": [
    "negatives_nn = calculate_nearest_neighbors_onAttributes(testneg_classifier,testneg_ids,\n",
    "                                                              negatives_ri,pos_classifier,\n",
    "                                                              pos_ids,attributes,attribute_len)"
   ]
  },
  {
   "cell_type": "code",
   "execution_count": 22,
   "metadata": {},
   "outputs": [],
   "source": [
    "positives_nn.to_csv('experiment_results/testposNN_RNN.csv',index=False)\n",
    "negatives_nn.to_csv('experiment_results/testnegNN_RNN.csv',index=False)"
   ]
  },
  {
   "cell_type": "code",
   "execution_count": null,
   "metadata": {},
   "outputs": [],
   "source": []
  }
 ],
 "metadata": {
  "kernelspec": {
   "display_name": "Python 3",
   "language": "python",
   "name": "python3"
  },
  "language_info": {
   "codemirror_mode": {
    "name": "ipython",
    "version": 3
   },
   "file_extension": ".py",
   "mimetype": "text/x-python",
   "name": "python",
   "nbconvert_exporter": "python",
   "pygments_lexer": "ipython3",
   "version": "3.6.9"
  }
 },
 "nbformat": 4,
 "nbformat_minor": 2
}

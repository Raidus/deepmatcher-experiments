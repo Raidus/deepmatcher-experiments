{
 "cells": [
  {
   "cell_type": "code",
   "execution_count": 1,
   "metadata": {},
   "outputs": [],
   "source": [
    "%load_ext autoreload\n",
    "%autoreload 2"
   ]
  },
  {
   "cell_type": "code",
   "execution_count": 2,
   "metadata": {},
   "outputs": [],
   "source": [
    "import sys\n",
    "sys.path.append(\"../..\")"
   ]
  },
  {
   "cell_type": "code",
   "execution_count": 3,
   "metadata": {},
   "outputs": [],
   "source": [
    "import deepmatcher as dm\n",
    "from utilities_functions.intermediate_layer_extraction import return_layer_input\n",
    "from utilities_functions.ri_calculator import computeRi\n",
    "from utilities_functions.explainer import generateExplanations\n",
    "import pandas as pd"
   ]
  },
  {
   "cell_type": "code",
   "execution_count": 4,
   "metadata": {},
   "outputs": [],
   "source": [
    "attributes =['title','manufacturer','price']"
   ]
  },
  {
   "cell_type": "markdown",
   "metadata": {},
   "source": [
    "### Dataset creation"
   ]
  },
  {
   "cell_type": "code",
   "execution_count": 5,
   "metadata": {},
   "outputs": [],
   "source": [
    "rnn_model = dm.MatchingModel(attr_summarizer='rnn')\n",
    "rnn_model.load_state('../../models/amazongoogle_rnn.pth')"
   ]
  },
  {
   "cell_type": "code",
   "execution_count": 6,
   "metadata": {},
   "outputs": [],
   "source": [
    "neg_classifier,neg_ids = return_layer_input('../../Structured/Amazon-Google/'\n",
    "                                                                         ,'negatives',512,rnn_model,\n",
    "                                                                        rnn_model.classifier,device=-1)"
   ]
  },
  {
   "cell_type": "code",
   "execution_count": 7,
   "metadata": {},
   "outputs": [],
   "source": [
    "testneg_classifier,testneg_ids = return_layer_input('../../Structured/Amazon-Google/'\n",
    "                                                                         ,'test_negatives',128,rnn_model,\n",
    "                                                                        rnn_model.classifier,device=-1)"
   ]
  },
  {
   "cell_type": "code",
   "execution_count": 8,
   "metadata": {},
   "outputs": [],
   "source": [
    "pos_classifier,pos_ids = return_layer_input('../../Structured/Amazon-Google/','positives',\n",
    "                                                          512,rnn_model,rnn_model.classifier,device=-1)"
   ]
  },
  {
   "cell_type": "code",
   "execution_count": 9,
   "metadata": {},
   "outputs": [],
   "source": [
    "testpos_classifier,testpos_ids = return_layer_input('../../Structured/Amazon-Google/',\n",
    "                                                                  'test_positives',128,rnn_model,\n",
    "                                                                  rnn_model.classifier,device=-1)"
   ]
  },
  {
   "cell_type": "code",
   "execution_count": 10,
   "metadata": {},
   "outputs": [],
   "source": [
    "rnn_model = rnn_model.cuda()"
   ]
  },
  {
   "cell_type": "code",
   "execution_count": 11,
   "metadata": {},
   "outputs": [],
   "source": [
    "classifier_len = len(pos_classifier[0][0])\n",
    "attribute_len = int(classifier_len/len(attributes))"
   ]
  },
  {
   "cell_type": "markdown",
   "metadata": {},
   "source": [
    "### Negatives analysis"
   ]
  },
  {
   "cell_type": "code",
   "execution_count": 21,
   "metadata": {},
   "outputs": [
    {
     "name": "stderr",
     "output_type": "stream",
     "text": [
      "100%|██████████| 128/128 [00:05<00:00, 25.54it/s]\n",
      "100%|██████████| 128/128 [00:04<00:00, 29.75it/s]\n",
      "100%|██████████| 11/11 [00:00<00:00, 29.99it/s]\n",
      "100%|██████████| 128/128 [00:04<00:00, 28.43it/s]\n",
      "100%|██████████| 128/128 [00:04<00:00, 27.14it/s]\n",
      "100%|██████████| 128/128 [00:04<00:00, 28.06it/s]\n",
      "100%|██████████| 128/128 [00:04<00:00, 26.00it/s]\n",
      "100%|██████████| 128/128 [00:04<00:00, 27.35it/s]\n",
      "100%|██████████| 128/128 [00:04<00:00, 26.80it/s]\n",
      "100%|██████████| 128/128 [00:04<00:00, 26.65it/s]\n",
      "100%|██████████| 128/128 [00:04<00:00, 26.58it/s]\n",
      "100%|██████████| 128/128 [00:04<00:00, 28.12it/s]\n",
      "100%|██████████| 128/128 [00:04<00:00, 26.36it/s]\n",
      "100%|██████████| 128/128 [00:04<00:00, 28.02it/s]\n",
      "100%|██████████| 128/128 [00:04<00:00, 27.79it/s]\n",
      "100%|██████████| 128/128 [00:04<00:00, 29.79it/s]\n",
      "100%|██████████| 128/128 [00:04<00:00, 26.16it/s]\n"
     ]
    }
   ],
   "source": [
    "negatives_ri,neg_ri_norms = computeRi(rnn_model.classifier,\n",
    "                                                    attributes,testneg_classifier,attribute_len,1)"
   ]
  },
  {
   "cell_type": "code",
   "execution_count": 22,
   "metadata": {},
   "outputs": [
    {
     "data": {
      "text/plain": [
       "<matplotlib.axes._subplots.AxesSubplot at 0x7f9f08040908>"
      ]
     },
     "execution_count": 22,
     "metadata": {},
     "output_type": "execute_result"
    },
    {
     "data": {
      "image/png": "[encoded data removed]",
      "text/plain": [
       "<Figure size 432x288 with 1 Axes>"
      ]
     },
     "metadata": {
      "needs_background": "light"
     },
     "output_type": "display_data"
    }
   ],
   "source": [
    "negatives_variation_df = pd.DataFrame(data= neg_ri_norms,columns=attributes)\n",
    "negatives_variation_df.sum().plot.bar()"
   ]
  },
  {
   "cell_type": "code",
   "execution_count": 23,
   "metadata": {},
   "outputs": [],
   "source": [
    "##save to file\n",
    "negatives_variation_df.to_csv('experiment_results/testneg_ri_rnn.csv',index=False)"
   ]
  },
  {
   "cell_type": "markdown",
   "metadata": {},
   "source": [
    "## Test positives analysis"
   ]
  },
  {
   "cell_type": "code",
   "execution_count": 26,
   "metadata": {},
   "outputs": [
    {
     "name": "stderr",
     "output_type": "stream",
     "text": [
      "100%|██████████| 128/128 [00:01<00:00, 90.22it/s]\n",
      "100%|██████████| 106/106 [00:01<00:00, 95.17it/s]\n"
     ]
    }
   ],
   "source": [
    "positives_ri,pos_ri_norms = computeRi(rnn_model.classifier,\n",
    "                                                    attributes,testpos_classifier,attribute_len,0)"
   ]
  },
  {
   "cell_type": "code",
   "execution_count": 27,
   "metadata": {},
   "outputs": [
    {
     "data": {
      "text/plain": [
       "<matplotlib.axes._subplots.AxesSubplot at 0x7f9f08048fd0>"
      ]
     },
     "execution_count": 27,
     "metadata": {},
     "output_type": "execute_result"
    },
    {
     "data": {
      "image/png": "[encoded data removed]",
      "text/plain": [
       "<Figure size 432x288 with 1 Axes>"
      ]
     },
     "metadata": {
      "needs_background": "light"
     },
     "output_type": "display_data"
    }
   ],
   "source": [
    "positives_variation_df = pd.DataFrame(data= pos_ri_norms,columns=attributes)\n",
    "positives_variation_df.sum().plot.bar()"
   ]
  },
  {
   "cell_type": "code",
   "execution_count": 28,
   "metadata": {},
   "outputs": [],
   "source": [
    "##Save results to file\n",
    "positives_variation_df.to_csv('experiment_results/testpositives_ri_rnn.csv',index=False)"
   ]
  },
  {
   "cell_type": "markdown",
   "metadata": {},
   "source": [
    "## Compute nearest neighbours"
   ]
  },
  {
   "cell_type": "code",
   "execution_count": 33,
   "metadata": {},
   "outputs": [],
   "source": [
    "from utilities_functions.distance_measures import calculate_nearest_neighbors_onAttributes"
   ]
  },
  {
   "cell_type": "code",
   "execution_count": 34,
   "metadata": {},
   "outputs": [
    {
     "name": "stderr",
     "output_type": "stream",
     "text": [
      "100%|██████████| 128/128 [00:00<00:00, 167.15it/s]\n",
      "100%|██████████| 106/106 [00:00<00:00, 202.14it/s]\n"
     ]
    }
   ],
   "source": [
    "positives_nn = calculate_nearest_neighbors_onAttributes(testpos_classifier,testpos_ids,positives_ri,\n",
    "                                                       neg_classifier,neg_ids,attributes,attribute_len)"
   ]
  },
  {
   "cell_type": "code",
   "execution_count": 37,
   "metadata": {},
   "outputs": [
    {
     "name": "stderr",
     "output_type": "stream",
     "text": [
      "100%|██████████| 128/128 [00:00<00:00, 496.51it/s]\n",
      "100%|██████████| 128/128 [00:00<00:00, 523.13it/s]\n",
      "100%|██████████| 11/11 [00:00<00:00, 514.17it/s]\n",
      "100%|██████████| 128/128 [00:00<00:00, 583.72it/s]\n",
      "100%|██████████| 128/128 [00:00<00:00, 638.83it/s]\n",
      "100%|██████████| 128/128 [00:00<00:00, 639.79it/s]\n",
      "100%|██████████| 128/128 [00:00<00:00, 639.47it/s]\n",
      "100%|██████████| 128/128 [00:00<00:00, 629.05it/s]\n",
      "100%|██████████| 128/128 [00:00<00:00, 641.45it/s]\n",
      "100%|██████████| 128/128 [00:00<00:00, 641.78it/s]\n",
      "100%|██████████| 128/128 [00:00<00:00, 632.15it/s]\n",
      "100%|██████████| 128/128 [00:00<00:00, 652.31it/s]\n",
      "100%|██████████| 128/128 [00:00<00:00, 689.08it/s]\n",
      "100%|██████████| 128/128 [00:00<00:00, 698.57it/s]\n",
      "100%|██████████| 128/128 [00:00<00:00, 716.35it/s]\n",
      "100%|██████████| 128/128 [00:00<00:00, 717.66it/s]\n",
      "100%|██████████| 128/128 [00:00<00:00, 701.93it/s]\n"
     ]
    }
   ],
   "source": [
    "negatives_nn = calculate_nearest_neighbors_onAttributes(testneg_classifier,testneg_ids,\n",
    "                                                              negatives_ri,pos_classifier,\n",
    "                                                              pos_ids,attributes,attribute_len)"
   ]
  },
  {
   "cell_type": "code",
   "execution_count": 38,
   "metadata": {},
   "outputs": [],
   "source": [
    "positives_nn.to_csv('experiment_results/testpos_nn_rnn.csv',index=False)\n",
    "negatives_nn.to_csv('experiment_results/testneg_nn_rnn.csv',index=False)"
   ]
  },
  {
   "cell_type": "code",
   "execution_count": null,
   "metadata": {},
   "outputs": [],
   "source": []
  }
 ],
 "metadata": {
  "kernelspec": {
   "display_name": "Python 3",
   "language": "python",
   "name": "python3"
  },
  "language_info": {
   "codemirror_mode": {
    "name": "ipython",
    "version": 3
   },
   "file_extension": ".py",
   "mimetype": "text/x-python",
   "name": "python",
   "nbconvert_exporter": "python",
   "pygments_lexer": "ipython3",
   "version": "3.6.9"
  }
 },
 "nbformat": 4,
 "nbformat_minor": 2
}

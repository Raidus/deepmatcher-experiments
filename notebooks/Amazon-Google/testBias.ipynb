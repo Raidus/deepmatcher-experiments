{
 "cells": [
  {
   "cell_type": "code",
   "execution_count": 1,
   "metadata": {
    "ExecuteTime": {
     "end_time": "2020-02-19T20:36:31.752542Z",
     "start_time": "2020-02-19T20:36:31.732486Z"
    }
   },
   "outputs": [],
   "source": [
    "%load_ext autoreload\n",
    "%autoreload 2\n",
    "import sys\n",
    "sys.path.append('../..')"
   ]
  },
  {
   "cell_type": "code",
   "execution_count": 14,
   "metadata": {
    "ExecuteTime": {
     "end_time": "2020-02-19T20:43:48.266387Z",
     "start_time": "2020-02-19T20:43:48.215547Z"
    }
   },
   "outputs": [],
   "source": [
    "from utils.deepmatcher_utils import wrapDm\n",
    "import deepmatcher as dm\n",
    "import pandas as pd\n",
    "import numpy as np"
   ]
  },
  {
   "cell_type": "code",
   "execution_count": 23,
   "metadata": {
    "ExecuteTime": {
     "end_time": "2020-02-19T20:46:27.621939Z",
     "start_time": "2020-02-19T20:46:27.540307Z"
    }
   },
   "outputs": [],
   "source": [
    "test = pd.read_csv('../../datasets/Structured/Amazon-Google/merged_test.csv')\n",
    "test_neg = test[test.label==0].copy()"
   ]
  },
  {
   "cell_type": "code",
   "execution_count": 24,
   "metadata": {
    "ExecuteTime": {
     "end_time": "2020-02-19T20:46:36.394754Z",
     "start_time": "2020-02-19T20:46:36.344354Z"
    }
   },
   "outputs": [
    {
     "data": {
      "text/html": [
       "<div>\n",
       "<style scoped>\n",
       "    .dataframe tbody tr th:only-of-type {\n",
       "        vertical-align: middle;\n",
       "    }\n",
       "\n",
       "    .dataframe tbody tr th {\n",
       "        vertical-align: top;\n",
       "    }\n",
       "\n",
       "    .dataframe thead th {\n",
       "        text-align: right;\n",
       "    }\n",
       "</style>\n",
       "<table border=\"1\" class=\"dataframe\">\n",
       "  <thead>\n",
       "    <tr style=\"text-align: right;\">\n",
       "      <th></th>\n",
       "      <th>label</th>\n",
       "      <th>ltable_title</th>\n",
       "      <th>ltable_manufacturer</th>\n",
       "      <th>ltable_price</th>\n",
       "      <th>rtable_title</th>\n",
       "      <th>rtable_manufacturer</th>\n",
       "      <th>rtable_price</th>\n",
       "      <th>id</th>\n",
       "    </tr>\n",
       "  </thead>\n",
       "  <tbody>\n",
       "    <tr>\n",
       "      <th>0</th>\n",
       "      <td>0</td>\n",
       "      <td>microsoft visual studio test agent 2005 cd 1 p...</td>\n",
       "      <td>microsoft software</td>\n",
       "      <td>5099.00</td>\n",
       "      <td>individual software professor teaches microsof...</td>\n",
       "      <td>NaN</td>\n",
       "      <td>29.99</td>\n",
       "      <td>9167</td>\n",
       "    </tr>\n",
       "    <tr>\n",
       "      <th>1</th>\n",
       "      <td>0</td>\n",
       "      <td>microsoft office excel 2007</td>\n",
       "      <td>microsoft</td>\n",
       "      <td>229.95</td>\n",
       "      <td>individual software professor teaches microsof...</td>\n",
       "      <td>NaN</td>\n",
       "      <td>29.99</td>\n",
       "      <td>9168</td>\n",
       "    </tr>\n",
       "    <tr>\n",
       "      <th>2</th>\n",
       "      <td>0</td>\n",
       "      <td>microsoft office small business 2007</td>\n",
       "      <td>microsoft software</td>\n",
       "      <td>735.33</td>\n",
       "      <td>individual software professor teaches microsof...</td>\n",
       "      <td>NaN</td>\n",
       "      <td>29.99</td>\n",
       "      <td>9169</td>\n",
       "    </tr>\n",
       "    <tr>\n",
       "      <th>3</th>\n",
       "      <td>0</td>\n",
       "      <td>microsoft visual studio test agent 2005 cd 1 p...</td>\n",
       "      <td>microsoft software</td>\n",
       "      <td>5099.00</td>\n",
       "      <td>122-00411 microsoft visual studio 2005 team ed...</td>\n",
       "      <td>NaN</td>\n",
       "      <td>2184.73</td>\n",
       "      <td>9170</td>\n",
       "    </tr>\n",
       "    <tr>\n",
       "      <th>4</th>\n",
       "      <td>0</td>\n",
       "      <td>microsoft visual studio professional w/msdn pr...</td>\n",
       "      <td>microsoft software</td>\n",
       "      <td>799.00</td>\n",
       "      <td>122-00411 microsoft visual studio 2005 team ed...</td>\n",
       "      <td>NaN</td>\n",
       "      <td>2184.73</td>\n",
       "      <td>9171</td>\n",
       "    </tr>\n",
       "    <tr>\n",
       "      <th>5</th>\n",
       "      <td>0</td>\n",
       "      <td>adobe dreamweaver cs3 [ mac ]</td>\n",
       "      <td>adobe</td>\n",
       "      <td>399.00</td>\n",
       "      <td>adobe cs3 web premium</td>\n",
       "      <td>NaN</td>\n",
       "      <td>1659.99</td>\n",
       "      <td>9172</td>\n",
       "    </tr>\n",
       "    <tr>\n",
       "      <th>6</th>\n",
       "      <td>0</td>\n",
       "      <td>adobe flash pro cs3 upgrade [ mac ]</td>\n",
       "      <td>adobe</td>\n",
       "      <td>199.00</td>\n",
       "      <td>adobe cs3 web premium</td>\n",
       "      <td>NaN</td>\n",
       "      <td>1659.99</td>\n",
       "      <td>9173</td>\n",
       "    </tr>\n",
       "    <tr>\n",
       "      <th>7</th>\n",
       "      <td>0</td>\n",
       "      <td>adobe creative suite cs3 web standard [ mac ]</td>\n",
       "      <td>adobe</td>\n",
       "      <td>999.00</td>\n",
       "      <td>adobe cs3 web premium</td>\n",
       "      <td>NaN</td>\n",
       "      <td>1659.99</td>\n",
       "      <td>9174</td>\n",
       "    </tr>\n",
       "    <tr>\n",
       "      <th>8</th>\n",
       "      <td>0</td>\n",
       "      <td>adobe creative suite cs3 production premium up...</td>\n",
       "      <td>adobe</td>\n",
       "      <td>799.00</td>\n",
       "      <td>adobe cs3 web premium</td>\n",
       "      <td>NaN</td>\n",
       "      <td>1659.99</td>\n",
       "      <td>9175</td>\n",
       "    </tr>\n",
       "    <tr>\n",
       "      <th>9</th>\n",
       "      <td>0</td>\n",
       "      <td>adobe creative suite cs3 design premium upsell</td>\n",
       "      <td>adobe</td>\n",
       "      <td>1599.00</td>\n",
       "      <td>adobe cs3 web premium</td>\n",
       "      <td>NaN</td>\n",
       "      <td>1659.99</td>\n",
       "      <td>9176</td>\n",
       "    </tr>\n",
       "  </tbody>\n",
       "</table>\n",
       "</div>"
      ],
      "text/plain": [
       "   label                                       ltable_title  \\\n",
       "0      0  microsoft visual studio test agent 2005 cd 1 p...   \n",
       "1      0                        microsoft office excel 2007   \n",
       "2      0               microsoft office small business 2007   \n",
       "3      0  microsoft visual studio test agent 2005 cd 1 p...   \n",
       "4      0  microsoft visual studio professional w/msdn pr...   \n",
       "5      0                      adobe dreamweaver cs3 [ mac ]   \n",
       "6      0                adobe flash pro cs3 upgrade [ mac ]   \n",
       "7      0      adobe creative suite cs3 web standard [ mac ]   \n",
       "8      0  adobe creative suite cs3 production premium up...   \n",
       "9      0     adobe creative suite cs3 design premium upsell   \n",
       "\n",
       "  ltable_manufacturer  ltable_price  \\\n",
       "0  microsoft software       5099.00   \n",
       "1           microsoft        229.95   \n",
       "2  microsoft software        735.33   \n",
       "3  microsoft software       5099.00   \n",
       "4  microsoft software        799.00   \n",
       "5               adobe        399.00   \n",
       "6               adobe        199.00   \n",
       "7               adobe        999.00   \n",
       "8               adobe        799.00   \n",
       "9               adobe       1599.00   \n",
       "\n",
       "                                        rtable_title rtable_manufacturer  \\\n",
       "0  individual software professor teaches microsof...                 NaN   \n",
       "1  individual software professor teaches microsof...                 NaN   \n",
       "2  individual software professor teaches microsof...                 NaN   \n",
       "3  122-00411 microsoft visual studio 2005 team ed...                 NaN   \n",
       "4  122-00411 microsoft visual studio 2005 team ed...                 NaN   \n",
       "5                              adobe cs3 web premium                 NaN   \n",
       "6                              adobe cs3 web premium                 NaN   \n",
       "7                              adobe cs3 web premium                 NaN   \n",
       "8                              adobe cs3 web premium                 NaN   \n",
       "9                              adobe cs3 web premium                 NaN   \n",
       "\n",
       "   rtable_price    id  \n",
       "0         29.99  9167  \n",
       "1         29.99  9168  \n",
       "2         29.99  9169  \n",
       "3       2184.73  9170  \n",
       "4       2184.73  9171  \n",
       "5       1659.99  9172  \n",
       "6       1659.99  9173  \n",
       "7       1659.99  9174  \n",
       "8       1659.99  9175  \n",
       "9       1659.99  9176  "
      ]
     },
     "execution_count": 24,
     "metadata": {},
     "output_type": "execute_result"
    }
   ],
   "source": [
    "test_neg.head(10)"
   ]
  },
  {
   "cell_type": "code",
   "execution_count": 13,
   "metadata": {
    "ExecuteTime": {
     "end_time": "2020-02-19T20:43:31.836049Z",
     "start_time": "2020-02-19T20:43:26.414810Z"
    }
   },
   "outputs": [],
   "source": [
    "model = dm.MatchingModel(attr_summarizer='hybrid')\n",
    "model.load_state('../../models/amazongoogle_hybrid.pth')\n",
    "model = model.to('cuda')"
   ]
  },
  {
   "cell_type": "code",
   "execution_count": 15,
   "metadata": {
    "ExecuteTime": {
     "end_time": "2020-02-19T20:44:55.800830Z",
     "start_time": "2020-02-19T20:44:37.519339Z"
    }
   },
   "outputs": [
    {
     "data": {
      "text/plain": [
       "1982"
      ]
     },
     "execution_count": 15,
     "metadata": {},
     "output_type": "execute_result"
    }
   ],
   "source": [
    "pred = wrapDm(test_neg,model)\n",
    "np.count_nonzero(np.argmax(pred,axis=1)==0)"
   ]
  },
  {
   "cell_type": "code",
   "execution_count": 9,
   "metadata": {
    "ExecuteTime": {
     "end_time": "2020-02-19T20:40:03.558713Z",
     "start_time": "2020-02-19T20:40:03.516589Z"
    }
   },
   "outputs": [],
   "source": [
    "def dropTokens(attr,tokensL):\n",
    "    attr_tokens = list(map(lambda t:t.lower(),attr.split()))\n",
    "    filtered_tokens = []\n",
    "    for tok in attr_tokens:\n",
    "        if tok not in tokensL:\n",
    "            filtered_tokens.append(tok)\n",
    "    return \" \".join(filtered_tokens)"
   ]
  },
  {
   "cell_type": "code",
   "execution_count": 20,
   "metadata": {
    "ExecuteTime": {
     "end_time": "2020-02-19T20:46:05.353982Z",
     "start_time": "2020-02-19T20:46:05.283990Z"
    }
   },
   "outputs": [],
   "source": [
    "test_neg['ltable_title'] = test_neg['ltable_title'].apply(lambda attr:dropTokens(attr,['adobe','microsoft']))\n",
    "test_neg['rtable_title'] = test_neg['rtable_title'].apply(lambda attr:dropTokens(attr,['adobe','microsoft']))"
   ]
  },
  {
   "cell_type": "code",
   "execution_count": 21,
   "metadata": {
    "ExecuteTime": {
     "end_time": "2020-02-19T20:46:13.648493Z",
     "start_time": "2020-02-19T20:46:05.893593Z"
    }
   },
   "outputs": [
    {
     "data": {
      "text/plain": [
       "1982"
      ]
     },
     "execution_count": 21,
     "metadata": {},
     "output_type": "execute_result"
    }
   ],
   "source": [
    "new_pred = wrapDm(test_neg,model)\n",
    "np.count_nonzero(np.argmax(pred,axis=1)==0)"
   ]
  },
  {
   "cell_type": "code",
   "execution_count": 22,
   "metadata": {
    "ExecuteTime": {
     "end_time": "2020-02-19T20:46:21.578707Z",
     "start_time": "2020-02-19T20:46:21.512434Z"
    }
   },
   "outputs": [
    {
     "data": {
      "text/html": [
       "<div>\n",
       "<style scoped>\n",
       "    .dataframe tbody tr th:only-of-type {\n",
       "        vertical-align: middle;\n",
       "    }\n",
       "\n",
       "    .dataframe tbody tr th {\n",
       "        vertical-align: top;\n",
       "    }\n",
       "\n",
       "    .dataframe thead th {\n",
       "        text-align: right;\n",
       "    }\n",
       "</style>\n",
       "<table border=\"1\" class=\"dataframe\">\n",
       "  <thead>\n",
       "    <tr style=\"text-align: right;\">\n",
       "      <th></th>\n",
       "      <th>label</th>\n",
       "      <th>ltable_title</th>\n",
       "      <th>ltable_manufacturer</th>\n",
       "      <th>ltable_price</th>\n",
       "      <th>rtable_title</th>\n",
       "      <th>rtable_manufacturer</th>\n",
       "      <th>rtable_price</th>\n",
       "      <th>id</th>\n",
       "    </tr>\n",
       "  </thead>\n",
       "  <tbody>\n",
       "    <tr>\n",
       "      <th>0</th>\n",
       "      <td>0</td>\n",
       "      <td>visual studio test agent 2005 cd 1 processor l...</td>\n",
       "      <td>microsoft software</td>\n",
       "      <td>5099.00</td>\n",
       "      <td>visual studio test agent 2005 cd 1 processor l...</td>\n",
       "      <td>NaN</td>\n",
       "      <td>29.99</td>\n",
       "      <td>9167</td>\n",
       "    </tr>\n",
       "    <tr>\n",
       "      <th>1</th>\n",
       "      <td>0</td>\n",
       "      <td>office excel 2007</td>\n",
       "      <td>microsoft</td>\n",
       "      <td>229.95</td>\n",
       "      <td>office excel 2007</td>\n",
       "      <td>NaN</td>\n",
       "      <td>29.99</td>\n",
       "      <td>9168</td>\n",
       "    </tr>\n",
       "    <tr>\n",
       "      <th>2</th>\n",
       "      <td>0</td>\n",
       "      <td>office small business 2007</td>\n",
       "      <td>microsoft software</td>\n",
       "      <td>735.33</td>\n",
       "      <td>office small business 2007</td>\n",
       "      <td>NaN</td>\n",
       "      <td>29.99</td>\n",
       "      <td>9169</td>\n",
       "    </tr>\n",
       "    <tr>\n",
       "      <th>3</th>\n",
       "      <td>0</td>\n",
       "      <td>visual studio test agent 2005 cd 1 processor l...</td>\n",
       "      <td>microsoft software</td>\n",
       "      <td>5099.00</td>\n",
       "      <td>visual studio test agent 2005 cd 1 processor l...</td>\n",
       "      <td>NaN</td>\n",
       "      <td>2184.73</td>\n",
       "      <td>9170</td>\n",
       "    </tr>\n",
       "    <tr>\n",
       "      <th>4</th>\n",
       "      <td>0</td>\n",
       "      <td>visual studio professional w/msdn professional...</td>\n",
       "      <td>microsoft software</td>\n",
       "      <td>799.00</td>\n",
       "      <td>visual studio professional w/msdn professional...</td>\n",
       "      <td>NaN</td>\n",
       "      <td>2184.73</td>\n",
       "      <td>9171</td>\n",
       "    </tr>\n",
       "    <tr>\n",
       "      <th>5</th>\n",
       "      <td>0</td>\n",
       "      <td>dreamweaver cs3 [ mac ]</td>\n",
       "      <td>adobe</td>\n",
       "      <td>399.00</td>\n",
       "      <td>dreamweaver cs3 [ mac ]</td>\n",
       "      <td>NaN</td>\n",
       "      <td>1659.99</td>\n",
       "      <td>9172</td>\n",
       "    </tr>\n",
       "    <tr>\n",
       "      <th>6</th>\n",
       "      <td>0</td>\n",
       "      <td>flash pro cs3 upgrade [ mac ]</td>\n",
       "      <td>adobe</td>\n",
       "      <td>199.00</td>\n",
       "      <td>flash pro cs3 upgrade [ mac ]</td>\n",
       "      <td>NaN</td>\n",
       "      <td>1659.99</td>\n",
       "      <td>9173</td>\n",
       "    </tr>\n",
       "    <tr>\n",
       "      <th>7</th>\n",
       "      <td>0</td>\n",
       "      <td>creative suite cs3 web standard [ mac ]</td>\n",
       "      <td>adobe</td>\n",
       "      <td>999.00</td>\n",
       "      <td>creative suite cs3 web standard [ mac ]</td>\n",
       "      <td>NaN</td>\n",
       "      <td>1659.99</td>\n",
       "      <td>9174</td>\n",
       "    </tr>\n",
       "    <tr>\n",
       "      <th>8</th>\n",
       "      <td>0</td>\n",
       "      <td>creative suite cs3 production premium upgrade</td>\n",
       "      <td>adobe</td>\n",
       "      <td>799.00</td>\n",
       "      <td>creative suite cs3 production premium upgrade</td>\n",
       "      <td>NaN</td>\n",
       "      <td>1659.99</td>\n",
       "      <td>9175</td>\n",
       "    </tr>\n",
       "    <tr>\n",
       "      <th>9</th>\n",
       "      <td>0</td>\n",
       "      <td>creative suite cs3 design premium upsell</td>\n",
       "      <td>adobe</td>\n",
       "      <td>1599.00</td>\n",
       "      <td>creative suite cs3 design premium upsell</td>\n",
       "      <td>NaN</td>\n",
       "      <td>1659.99</td>\n",
       "      <td>9176</td>\n",
       "    </tr>\n",
       "  </tbody>\n",
       "</table>\n",
       "</div>"
      ],
      "text/plain": [
       "   label                                       ltable_title  \\\n",
       "0      0  visual studio test agent 2005 cd 1 processor l...   \n",
       "1      0                                  office excel 2007   \n",
       "2      0                         office small business 2007   \n",
       "3      0  visual studio test agent 2005 cd 1 processor l...   \n",
       "4      0  visual studio professional w/msdn professional...   \n",
       "5      0                            dreamweaver cs3 [ mac ]   \n",
       "6      0                      flash pro cs3 upgrade [ mac ]   \n",
       "7      0            creative suite cs3 web standard [ mac ]   \n",
       "8      0      creative suite cs3 production premium upgrade   \n",
       "9      0           creative suite cs3 design premium upsell   \n",
       "\n",
       "  ltable_manufacturer  ltable_price  \\\n",
       "0  microsoft software       5099.00   \n",
       "1           microsoft        229.95   \n",
       "2  microsoft software        735.33   \n",
       "3  microsoft software       5099.00   \n",
       "4  microsoft software        799.00   \n",
       "5               adobe        399.00   \n",
       "6               adobe        199.00   \n",
       "7               adobe        999.00   \n",
       "8               adobe        799.00   \n",
       "9               adobe       1599.00   \n",
       "\n",
       "                                        rtable_title rtable_manufacturer  \\\n",
       "0  visual studio test agent 2005 cd 1 processor l...                 NaN   \n",
       "1                                  office excel 2007                 NaN   \n",
       "2                         office small business 2007                 NaN   \n",
       "3  visual studio test agent 2005 cd 1 processor l...                 NaN   \n",
       "4  visual studio professional w/msdn professional...                 NaN   \n",
       "5                            dreamweaver cs3 [ mac ]                 NaN   \n",
       "6                      flash pro cs3 upgrade [ mac ]                 NaN   \n",
       "7            creative suite cs3 web standard [ mac ]                 NaN   \n",
       "8      creative suite cs3 production premium upgrade                 NaN   \n",
       "9           creative suite cs3 design premium upsell                 NaN   \n",
       "\n",
       "   rtable_price    id  \n",
       "0         29.99  9167  \n",
       "1         29.99  9168  \n",
       "2         29.99  9169  \n",
       "3       2184.73  9170  \n",
       "4       2184.73  9171  \n",
       "5       1659.99  9172  \n",
       "6       1659.99  9173  \n",
       "7       1659.99  9174  \n",
       "8       1659.99  9175  \n",
       "9       1659.99  9176  "
      ]
     },
     "execution_count": 22,
     "metadata": {},
     "output_type": "execute_result"
    }
   ],
   "source": [
    "test_neg.head(10)"
   ]
  },
  {
   "cell_type": "code",
   "execution_count": null,
   "metadata": {},
   "outputs": [],
   "source": []
  }
 ],
 "metadata": {
  "kernelspec": {
   "display_name": "Python 3",
   "language": "python",
   "name": "python3"
  },
  "language_info": {
   "codemirror_mode": {
    "name": "ipython",
    "version": 3
   },
   "file_extension": ".py",
   "mimetype": "text/x-python",
   "name": "python",
   "nbconvert_exporter": "python",
   "pygments_lexer": "ipython3",
   "version": "3.6.10"
  },
  "toc": {
   "base_numbering": 1,
   "nav_menu": {},
   "number_sections": true,
   "sideBar": true,
   "skip_h1_title": false,
   "title_cell": "Table of Contents",
   "title_sidebar": "Contents",
   "toc_cell": false,
   "toc_position": {},
   "toc_section_display": true,
   "toc_window_display": false
  }
 },
 "nbformat": 4,
 "nbformat_minor": 4
}

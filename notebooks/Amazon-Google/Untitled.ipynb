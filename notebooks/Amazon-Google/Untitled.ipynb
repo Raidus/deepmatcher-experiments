{
 "cells": [
  {
   "cell_type": "markdown",
   "metadata": {},
   "source": [
    "## Scopo\n",
    "per evitare di mettere in memoria tutto il dataset con i positivi /negativi, mi basta creare un dataset con tutti i possibili valori"
   ]
  },
  {
   "cell_type": "code",
   "execution_count": 87,
   "metadata": {},
   "outputs": [],
   "source": [
    "import pandas as pd\n",
    "import numpy as np"
   ]
  },
  {
   "cell_type": "code",
   "execution_count": 104,
   "metadata": {},
   "outputs": [],
   "source": [
    "negatives = pd.read_csv('../../Structured/Amazon-Google/negatives.csv')\n",
    "positives = pd.read_csv('../../Structured/Amazon-Google/positives.csv')"
   ]
  },
  {
   "cell_type": "code",
   "execution_count": 105,
   "metadata": {},
   "outputs": [],
   "source": [
    "attributes =['title','manufacturer','price']"
   ]
  },
  {
   "cell_type": "code",
   "execution_count": 106,
   "metadata": {},
   "outputs": [],
   "source": [
    "df_l = []\n",
    "for att in attributes:\n",
    "    df = negatives.groupby(['ltable_'+att,'rtable_'+att]).size().reset_index(name='Time')\n",
    "    df_l.append(df)"
   ]
  },
  {
   "cell_type": "code",
   "execution_count": 107,
   "metadata": {},
   "outputs": [],
   "source": [
    "df_l_pos = []\n",
    "for att in attributes:\n",
    "    df = positives.groupby(['ltable_'+att,'rtable_'+att]).size().reset_index(name='Time')\n",
    "    df_l_pos.append(df)"
   ]
  },
  {
   "cell_type": "code",
   "execution_count": 108,
   "metadata": {},
   "outputs": [],
   "source": [
    "allValuesNeg_df = pd.concat(df_l,axis=1,sort=False)\n",
    "allValuesPos_df = pd.concat(df_l_pos,axis=1,sort=False)"
   ]
  },
  {
   "cell_type": "code",
   "execution_count": 109,
   "metadata": {},
   "outputs": [],
   "source": [
    "allValuesNeg = allValuesNeg_df.fillna(\"\")\n",
    "allValuesPos = allValuesPos_df.fillna(\"\")"
   ]
  },
  {
   "cell_type": "code",
   "execution_count": 110,
   "metadata": {},
   "outputs": [],
   "source": [
    "del allValuesNeg_df['Time']\n",
    "del allValuesPos_df['Time']"
   ]
  },
  {
   "cell_type": "code",
   "execution_count": 111,
   "metadata": {},
   "outputs": [],
   "source": [
    "allValuesNeg_df['label']=0\n",
    "allValuesNeg_df['id'] = np.arange(allValuesNeg_df.shape[0])"
   ]
  },
  {
   "cell_type": "code",
   "execution_count": 112,
   "metadata": {},
   "outputs": [],
   "source": [
    "allValuesPos_df['label']=1\n",
    "allValuesPos_df['id'] = np.arange(allValuesPos_df.shape[0])"
   ]
  },
  {
   "cell_type": "code",
   "execution_count": 121,
   "metadata": {},
   "outputs": [
    {
     "name": "stderr",
     "output_type": "stream",
     "text": [
      "/home/nvidia/anaconda3/envs/testenv/lib/python3.6/site-packages/ipykernel_launcher.py:2: DeprecationWarning: \n",
      ".ix is deprecated. Please use\n",
      ".loc for label based indexing or\n",
      ".iloc for positional indexing\n",
      "\n",
      "See the documentation here:\n",
      "http://pandas.pydata.org/pandas-docs/stable/indexing.html#ix-indexer-is-deprecated\n",
      "  \n",
      "/home/nvidia/anaconda3/envs/testenv/lib/python3.6/site-packages/ipykernel_launcher.py:3: DeprecationWarning: \n",
      ".ix is deprecated. Please use\n",
      ".loc for label based indexing or\n",
      ".iloc for positional indexing\n",
      "\n",
      "See the documentation here:\n",
      "http://pandas.pydata.org/pandas-docs/stable/indexing.html#ix-indexer-is-deprecated\n",
      "  This is separate from the ipykernel package so we can avoid doing imports until\n"
     ]
    }
   ],
   "source": [
    "columns = ['label','ltable_title','ltable_manufacturer','ltable_price','rtable_manufacturer','rtable_price','id']\n",
    "allValuesNeg_df = allValuesNeg_df.ix[:,columns]\n",
    "allValuesPos_df = allValuesPos_df.ix[:,columns]"
   ]
  },
  {
   "cell_type": "code",
   "execution_count": 124,
   "metadata": {},
   "outputs": [
    {
     "data": {
      "text/html": [
       "<div>\n",
       "<style scoped>\n",
       "    .dataframe tbody tr th:only-of-type {\n",
       "        vertical-align: middle;\n",
       "    }\n",
       "\n",
       "    .dataframe tbody tr th {\n",
       "        vertical-align: top;\n",
       "    }\n",
       "\n",
       "    .dataframe thead th {\n",
       "        text-align: right;\n",
       "    }\n",
       "</style>\n",
       "<table border=\"1\" class=\"dataframe\">\n",
       "  <thead>\n",
       "    <tr style=\"text-align: right;\">\n",
       "      <th></th>\n",
       "      <th>label</th>\n",
       "      <th>ltable_title</th>\n",
       "      <th>ltable_manufacturer</th>\n",
       "      <th>ltable_price</th>\n",
       "      <th>rtable_manufacturer</th>\n",
       "      <th>rtable_price</th>\n",
       "      <th>id</th>\n",
       "    </tr>\n",
       "  </thead>\n",
       "  <tbody>\n",
       "    <tr>\n",
       "      <th>0</th>\n",
       "      <td>0</td>\n",
       "      <td>1pk internet sec ste 2007 oem</td>\n",
       "      <td>abacus</td>\n",
       "      <td>4.99</td>\n",
       "      <td>abacus software</td>\n",
       "      <td>9.59</td>\n",
       "      <td>0</td>\n",
       "    </tr>\n",
       "    <tr>\n",
       "      <th>1</th>\n",
       "      <td>0</td>\n",
       "      <td>1pk internet sec ste 2007 oem</td>\n",
       "      <td>abacus</td>\n",
       "      <td>6.99</td>\n",
       "      <td>riverdeep-learning-company</td>\n",
       "      <td>7.93</td>\n",
       "      <td>1</td>\n",
       "    </tr>\n",
       "    <tr>\n",
       "      <th>2</th>\n",
       "      <td>0</td>\n",
       "      <td>1pk internet sec ste 2007 oem</td>\n",
       "      <td>adobe</td>\n",
       "      <td>6.99</td>\n",
       "      <td>adobe</td>\n",
       "      <td>8.79</td>\n",
       "      <td>2</td>\n",
       "    </tr>\n",
       "    <tr>\n",
       "      <th>3</th>\n",
       "      <td>0</td>\n",
       "      <td>1pk internet sec ste 2007 oem</td>\n",
       "      <td>adobe</td>\n",
       "      <td>6.99</td>\n",
       "      <td>adobe software</td>\n",
       "      <td>9.99</td>\n",
       "      <td>3</td>\n",
       "    </tr>\n",
       "    <tr>\n",
       "      <th>4</th>\n",
       "      <td>0</td>\n",
       "      <td>1pk internet sec ste 2007 oem</td>\n",
       "      <td>adobe</td>\n",
       "      <td>6.99</td>\n",
       "      <td>adobe systems inc</td>\n",
       "      <td>31.06</td>\n",
       "      <td>4</td>\n",
       "    </tr>\n",
       "  </tbody>\n",
       "</table>\n",
       "</div>"
      ],
      "text/plain": [
       "   label                   ltable_title ltable_manufacturer  ltable_price  \\\n",
       "0      0  1pk internet sec ste 2007 oem              abacus          4.99   \n",
       "1      0  1pk internet sec ste 2007 oem              abacus          6.99   \n",
       "2      0  1pk internet sec ste 2007 oem               adobe          6.99   \n",
       "3      0  1pk internet sec ste 2007 oem               adobe          6.99   \n",
       "4      0  1pk internet sec ste 2007 oem               adobe          6.99   \n",
       "\n",
       "          rtable_manufacturer  rtable_price  id  \n",
       "0             abacus software          9.59   0  \n",
       "1  riverdeep-learning-company          7.93   1  \n",
       "2                       adobe          8.79   2  \n",
       "3              adobe software          9.99   3  \n",
       "4           adobe systems inc         31.06   4  "
      ]
     },
     "execution_count": 124,
     "metadata": {},
     "output_type": "execute_result"
    }
   ],
   "source": [
    "allValuesNeg_df.head()"
   ]
  },
  {
   "cell_type": "code",
   "execution_count": 126,
   "metadata": {},
   "outputs": [],
   "source": [
    "allValuesNeg_df.to_csv('../../Structured/Amazon-Google/neg_values.csv',index=False)\n",
    "allValuesPos_df.to_csv('../../Structured/Amazon-Google/pos_values.csv',index=False)"
   ]
  },
  {
   "cell_type": "code",
   "execution_count": null,
   "metadata": {},
   "outputs": [],
   "source": []
  }
 ],
 "metadata": {
  "kernelspec": {
   "display_name": "Python 3",
   "language": "python",
   "name": "python3"
  },
  "language_info": {
   "codemirror_mode": {
    "name": "ipython",
    "version": 3
   },
   "file_extension": ".py",
   "mimetype": "text/x-python",
   "name": "python",
   "nbconvert_exporter": "python",
   "pygments_lexer": "ipython3",
   "version": "3.6.8"
  }
 },
 "nbformat": 4,
 "nbformat_minor": 2
}

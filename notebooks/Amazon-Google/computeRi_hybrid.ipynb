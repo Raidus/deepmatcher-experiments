{
 "cells": [
  {
   "cell_type": "code",
   "execution_count": 1,
   "metadata": {},
   "outputs": [],
   "source": [
    "%load_ext autoreload\n",
    "%autoreload 2"
   ]
  },
  {
   "cell_type": "code",
   "execution_count": 2,
   "metadata": {},
   "outputs": [],
   "source": [
    "import sys\n",
    "sys.path.append(\"../..\")"
   ]
  },
  {
   "cell_type": "code",
   "execution_count": 3,
   "metadata": {},
   "outputs": [],
   "source": [
    "import deepmatcher as dm\n",
    "from utilities_functions.intermediate_layer_extraction import return_layer_input\n",
    "from utilities_functions.ri_calculator import computeRi\n",
    "from utilities_functions.explainer import generateExplanations\n",
    "import pandas as pd"
   ]
  },
  {
   "cell_type": "code",
   "execution_count": 4,
   "metadata": {},
   "outputs": [],
   "source": [
    "attributes =['title','manufacturer','price']"
   ]
  },
  {
   "cell_type": "markdown",
   "metadata": {},
   "source": [
    "## Hybrid"
   ]
  },
  {
   "cell_type": "markdown",
   "metadata": {},
   "source": [
    "### Dataset creation"
   ]
  },
  {
   "cell_type": "code",
   "execution_count": 12,
   "metadata": {},
   "outputs": [],
   "source": [
    "hybrid_model = dm.MatchingModel(attr_summarizer='hybrid')\n",
    "hybrid_model.load_state('../../models/amazongoogle_hybrid.pth')"
   ]
  },
  {
   "cell_type": "code",
   "execution_count": 6,
   "metadata": {},
   "outputs": [],
   "source": [
    "neg_classifier_hybrid,neg_ids_hybrid = return_layer_input('../../Structured/Amazon-Google/'\n",
    "                                                                         ,'negatives',512,hybrid_model,\n",
    "                                                                        hybrid_model.classifier,device=-1)"
   ]
  },
  {
   "cell_type": "code",
   "execution_count": 13,
   "metadata": {},
   "outputs": [],
   "source": [
    "testneg_classifier_hybrid,testneg_ids_hybrid = return_layer_input('../../Structured/Amazon-Google/'\n",
    "                                                                         ,'test_negatives',128,hybrid_model,\n",
    "                                                                        hybrid_model.classifier,device=-1)"
   ]
  },
  {
   "cell_type": "code",
   "execution_count": 7,
   "metadata": {},
   "outputs": [],
   "source": [
    "pos_classifier_hybrid,pos_ids_hybrid = return_layer_input('../../Structured/Amazon-Google/','positives',\n",
    "                                                          512,hybrid_model,hybrid_model.classifier,device=-1)"
   ]
  },
  {
   "cell_type": "code",
   "execution_count": 14,
   "metadata": {},
   "outputs": [],
   "source": [
    "testpos_classifier_hybrid,testpos_ids_hybrid = return_layer_input('../../Structured/Amazon-Google/',\n",
    "                                                                  'test_positives',128,hybrid_model,\n",
    "                                                                  hybrid_model.classifier,device=-1)"
   ]
  },
  {
   "cell_type": "code",
   "execution_count": 15,
   "metadata": {},
   "outputs": [],
   "source": [
    "hybrid_model = hybrid_model.cuda()"
   ]
  },
  {
   "cell_type": "code",
   "execution_count": 9,
   "metadata": {},
   "outputs": [],
   "source": [
    "classifier_len_hybrid = len(pos_classifier_hybrid[0][0])\n",
    "attribute_len_hybrid = int(classifier_len_hybrid/len(attributes))"
   ]
  },
  {
   "cell_type": "markdown",
   "metadata": {},
   "source": [
    "### Negatives analysis"
   ]
  },
  {
   "cell_type": "code",
   "execution_count": 16,
   "metadata": {},
   "outputs": [
    {
     "name": "stderr",
     "output_type": "stream",
     "text": [
      "100%|██████████| 128/128 [00:06<00:00, 19.42it/s]\n",
      "100%|██████████| 128/128 [00:06<00:00, 20.52it/s]\n",
      "100%|██████████| 128/128 [00:06<00:00, 19.63it/s]\n",
      "100%|██████████| 128/128 [00:06<00:00, 18.58it/s]\n",
      "100%|██████████| 128/128 [00:06<00:00, 18.71it/s]\n",
      "100%|██████████| 128/128 [00:07<00:00, 17.56it/s]\n",
      "100%|██████████| 128/128 [00:06<00:00, 18.85it/s]\n",
      "100%|██████████| 128/128 [00:06<00:00, 19.22it/s]\n",
      "100%|██████████| 128/128 [00:06<00:00, 21.28it/s]\n",
      "100%|██████████| 128/128 [00:06<00:00, 20.14it/s]\n",
      "100%|██████████| 128/128 [00:06<00:00, 19.48it/s]\n",
      "100%|██████████| 128/128 [00:05<00:00, 21.47it/s]\n",
      "100%|██████████| 128/128 [00:06<00:00, 20.24it/s]\n",
      "100%|██████████| 128/128 [00:06<00:00, 18.59it/s]\n",
      "100%|██████████| 128/128 [00:07<00:00, 18.14it/s]\n",
      "100%|██████████| 11/11 [00:00<00:00, 19.30it/s]\n",
      "100%|██████████| 128/128 [00:06<00:00, 18.95it/s]\n"
     ]
    }
   ],
   "source": [
    "negatives_ri_hybrid,neg_ri_norms_hybrid = computeRi(hybrid_model.classifier,\n",
    "                                                    attributes,testneg_classifier_hybrid,attribute_len_hybrid,1)"
   ]
  },
  {
   "cell_type": "code",
   "execution_count": 18,
   "metadata": {},
   "outputs": [
    {
     "data": {
      "text/plain": [
       "<matplotlib.axes._subplots.AxesSubplot at 0x7f502078dcc0>"
      ]
     },
     "execution_count": 18,
     "metadata": {},
     "output_type": "execute_result"
    },
    {
     "data": {
      "image/png": "[encoded data removed]",
      "text/plain": [
       "<Figure size 432x288 with 1 Axes>"
      ]
     },
     "metadata": {
      "needs_background": "light"
     },
     "output_type": "display_data"
    }
   ],
   "source": [
    "negatives_variation_df = pd.DataFrame(data= neg_ri_norms_hybrid,columns=attributes)\n",
    "negatives_variation_df.sum().plot.bar()"
   ]
  },
  {
   "cell_type": "code",
   "execution_count": 19,
   "metadata": {},
   "outputs": [],
   "source": [
    "##save to file\n",
    "negatives_variation_df.to_csv('experiment_results/testneg_ri_hybrid.csv',index=False)"
   ]
  },
  {
   "cell_type": "markdown",
   "metadata": {},
   "source": [
    "## Test positives analysis"
   ]
  },
  {
   "cell_type": "code",
   "execution_count": 26,
   "metadata": {},
   "outputs": [
    {
     "name": "stderr",
     "output_type": "stream",
     "text": [
      "100%|██████████| 106/106 [00:02<00:00, 38.70it/s]\n",
      "100%|██████████| 128/128 [00:03<00:00, 33.81it/s]\n"
     ]
    }
   ],
   "source": [
    "positives_ri_hybrid,pos_ri_norms_hybrid = computeRi(hybrid_model.classifier,\n",
    "                                                    attributes,testpos_classifier_hybrid,attribute_len_hybrid,0)"
   ]
  },
  {
   "cell_type": "code",
   "execution_count": 27,
   "metadata": {},
   "outputs": [
    {
     "data": {
      "text/plain": [
       "<matplotlib.axes._subplots.AxesSubplot at 0x7f50e59ae470>"
      ]
     },
     "execution_count": 27,
     "metadata": {},
     "output_type": "execute_result"
    },
    {
     "data": {
      "image/png": "[encoded data removed]",
      "text/plain": [
       "<Figure size 432x288 with 1 Axes>"
      ]
     },
     "metadata": {
      "needs_background": "light"
     },
     "output_type": "display_data"
    }
   ],
   "source": [
    "positives_variation_df = pd.DataFrame(data= pos_ri_norms_hybrid,columns=attributes)\n",
    "positives_variation_df.sum().plot.bar()"
   ]
  },
  {
   "cell_type": "code",
   "execution_count": 28,
   "metadata": {},
   "outputs": [],
   "source": [
    "##Save results to file\n",
    "positives_variation_df.to_csv('experiment_results/testpositives_ri_hybrid.csv',index=False)"
   ]
  },
  {
   "cell_type": "markdown",
   "metadata": {},
   "source": [
    "## Compute nearest neighbours"
   ]
  },
  {
   "cell_type": "code",
   "execution_count": 30,
   "metadata": {},
   "outputs": [],
   "source": [
    "from utilities_functions.distance_measures import calculate_nearest_neighbors_onAttributes"
   ]
  },
  {
   "cell_type": "code",
   "execution_count": 31,
   "metadata": {},
   "outputs": [
    {
     "name": "stderr",
     "output_type": "stream",
     "text": [
      "100%|██████████| 106/106 [00:00<00:00, 182.46it/s]\n",
      "100%|██████████| 128/128 [00:00<00:00, 194.50it/s]\n"
     ]
    }
   ],
   "source": [
    "positives_nn_hybrid = calculate_nearest_neighbors_onAttributes(testpos_classifier_hybrid,testpos_ids_hybrid,\n",
    "                                                               positives_ri_hybrid,\n",
    "                                                       neg_classifier_hybrid,neg_ids_hybrid,\n",
    "                                                               attributes,attribute_len_hybrid)"
   ]
  },
  {
   "cell_type": "code",
   "execution_count": 34,
   "metadata": {},
   "outputs": [
    {
     "name": "stderr",
     "output_type": "stream",
     "text": [
      "100%|██████████| 128/128 [00:00<00:00, 486.56it/s]\n",
      "100%|██████████| 128/128 [00:00<00:00, 516.84it/s]\n",
      "100%|██████████| 128/128 [00:00<00:00, 579.87it/s]\n",
      "100%|██████████| 128/128 [00:00<00:00, 641.36it/s]\n",
      "100%|██████████| 128/128 [00:00<00:00, 632.92it/s]\n",
      "100%|██████████| 128/128 [00:00<00:00, 660.17it/s]\n",
      "100%|██████████| 128/128 [00:00<00:00, 694.61it/s]\n",
      "100%|██████████| 128/128 [00:00<00:00, 680.66it/s]\n",
      "100%|██████████| 128/128 [00:00<00:00, 691.42it/s]\n",
      "100%|██████████| 128/128 [00:00<00:00, 683.45it/s]\n",
      "100%|██████████| 128/128 [00:00<00:00, 667.57it/s]\n",
      "100%|██████████| 128/128 [00:00<00:00, 690.68it/s]\n",
      "100%|██████████| 128/128 [00:00<00:00, 693.14it/s]\n",
      "100%|██████████| 128/128 [00:00<00:00, 659.49it/s]\n",
      "100%|██████████| 128/128 [00:00<00:00, 632.56it/s]\n",
      "100%|██████████| 11/11 [00:00<00:00, 620.95it/s]\n",
      "100%|██████████| 128/128 [00:00<00:00, 631.99it/s]\n"
     ]
    }
   ],
   "source": [
    "negatives_nn_hybrid = calculate_nearest_neighbors_onAttributes(testneg_classifier_hybrid,testneg_ids_hybrid,\n",
    "                                                              negatives_ri_hybrid,pos_classifier_hybrid,\n",
    "                                                              pos_ids_hybrid,attributes,attribute_len_hybrid)"
   ]
  },
  {
   "cell_type": "code",
   "execution_count": 36,
   "metadata": {},
   "outputs": [
    {
     "ename": "NameError",
     "evalue": "name 'negatives_nn_' is not defined",
     "output_type": "error",
     "traceback": [
      "\u001b[0;31m---------------------------------------------------------------------------\u001b[0m",
      "\u001b[0;31mNameError\u001b[0m                                 Traceback (most recent call last)",
      "\u001b[0;32m<ipython-input-36-55f294835aa6>\u001b[0m in \u001b[0;36m<module>\u001b[0;34m\u001b[0m\n\u001b[1;32m      1\u001b[0m \u001b[0mpositives_nn_hybrid\u001b[0m\u001b[0;34m.\u001b[0m\u001b[0mto_csv\u001b[0m\u001b[0;34m(\u001b[0m\u001b[0;34m'experiment_results/testpos_nn_hybrid.csv'\u001b[0m\u001b[0;34m,\u001b[0m\u001b[0mindex\u001b[0m\u001b[0;34m=\u001b[0m\u001b[0;32mFalse\u001b[0m\u001b[0;34m)\u001b[0m\u001b[0;34m\u001b[0m\u001b[0;34m\u001b[0m\u001b[0m\n\u001b[0;32m----> 2\u001b[0;31m \u001b[0mnegatives_nn_\u001b[0m\u001b[0;34m\u001b[0m\u001b[0;34m\u001b[0m\u001b[0m\n\u001b[0m",
      "\u001b[0;31mNameError\u001b[0m: name 'negatives_nn_' is not defined"
     ]
    }
   ],
   "source": [
    "positives_nn_hybrid.to_csv('experiment_results/testpos_nn_hybrid.csv',index=False)\n",
    "negatives_nn_hybrid.to_csv('experiment_results/testneg_nn_hybrid.csv',i)"
   ]
  },
  {
   "cell_type": "code",
   "execution_count": null,
   "metadata": {},
   "outputs": [],
   "source": []
  }
 ],
 "metadata": {
  "kernelspec": {
   "display_name": "Python 3",
   "language": "python",
   "name": "python3"
  },
  "language_info": {
   "codemirror_mode": {
    "name": "ipython",
    "version": 3
   },
   "file_extension": ".py",
   "mimetype": "text/x-python",
   "name": "python",
   "nbconvert_exporter": "python",
   "pygments_lexer": "ipython3",
   "version": "3.6.9"
  }
 },
 "nbformat": 4,
 "nbformat_minor": 2
}

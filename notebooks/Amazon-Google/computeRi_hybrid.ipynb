{
 "cells": [
  {
   "cell_type": "code",
   "execution_count": 1,
   "metadata": {},
   "outputs": [],
   "source": [
    "%load_ext autoreload\n",
    "%autoreload 2"
   ]
  },
  {
   "cell_type": "code",
   "execution_count": 2,
   "metadata": {},
   "outputs": [],
   "source": [
    "import sys\n",
    "sys.path.append(\"../..\")"
   ]
  },
  {
   "cell_type": "code",
   "execution_count": 3,
   "metadata": {},
   "outputs": [],
   "source": [
    "import deepmatcher as dm\n",
    "from utils.intermediate_layer_extraction import return_layer_input\n",
    "from utils.ri_calculator import computeRi\n",
    "import pandas as pd\n",
    "import torch"
   ]
  },
  {
   "cell_type": "code",
   "execution_count": 4,
   "metadata": {},
   "outputs": [],
   "source": [
    "attributes =['title','manufacturer','price']"
   ]
  },
  {
   "cell_type": "markdown",
   "metadata": {},
   "source": [
    "## Hybrid"
   ]
  },
  {
   "cell_type": "markdown",
   "metadata": {},
   "source": [
    "### Dataset creation"
   ]
  },
  {
   "cell_type": "code",
   "execution_count": 5,
   "metadata": {},
   "outputs": [],
   "source": [
    "hybrid_model = dm.MatchingModel(attr_summarizer='hybrid')\n",
    "hybrid_model.load_state('../../models/amazongoogle_hybrid.pth')\n",
    "hybrid_model = hybrid_model.cuda()"
   ]
  },
  {
   "cell_type": "code",
   "execution_count": 6,
   "metadata": {},
   "outputs": [],
   "source": [
    "negatives = return_layer_input(hybrid_model,hybrid_model.classifier,'../../datasets/Structured/Amazon-Google/'\n",
    "                                                                         ,'negatives')"
   ]
  },
  {
   "cell_type": "code",
   "execution_count": 6,
   "metadata": {},
   "outputs": [],
   "source": [
    "testneg = return_layer_input(hybrid_model,hybrid_model.classifier,'../../datasets/Structured/Amazon-Google/'\n",
    "                                                                         ,'test_negatives')"
   ]
  },
  {
   "cell_type": "code",
   "execution_count": 10,
   "metadata": {},
   "outputs": [],
   "source": [
    "positives = return_layer_input(hybrid_model,hybrid_model.classifier,\n",
    "                               '../../datasets/Structured/Amazon-Google/','positives')"
   ]
  },
  {
   "cell_type": "code",
   "execution_count": 7,
   "metadata": {},
   "outputs": [],
   "source": [
    "testpos = return_layer_input(hybrid_model,hybrid_model.classifier,'../../datasets/Structured/Amazon-Google/',\n",
    "                                                                  'test_positives')"
   ]
  },
  {
   "cell_type": "code",
   "execution_count": 10,
   "metadata": {},
   "outputs": [],
   "source": [
    "classifier_len = len(list(positives.values())[0])\n",
    "attribute_len = int(classifier_len/len(attributes))"
   ]
  },
  {
   "cell_type": "markdown",
   "metadata": {},
   "source": [
    "### Negatives analysis"
   ]
  },
  {
   "cell_type": "code",
   "execution_count": 11,
   "metadata": {},
   "outputs": [
    {
     "name": "stderr",
     "output_type": "stream",
     "text": [
      "100%|██████████| 2059/2059 [01:32<00:00, 22.22it/s]\n"
     ]
    },
    {
     "ename": "NameError",
     "evalue": "name 'negatives_ri' is not defined",
     "output_type": "error",
     "traceback": [
      "\u001b[0;31m---------------------------------------------------------------------------\u001b[0m",
      "\u001b[0;31mNameError\u001b[0m                                 Traceback (most recent call last)",
      "\u001b[0;32m<ipython-input-11-9c6b3a5f663f>\u001b[0m in \u001b[0;36m<module>\u001b[0;34m\u001b[0m\n\u001b[1;32m      1\u001b[0m negatives_ri_hybrid,neg_ri_norms_df = computeRi(hybrid_model.classifier,\n\u001b[1;32m      2\u001b[0m                                                     attributes,testneg,0)\n\u001b[0;32m----> 3\u001b[0;31m \u001b[0mtorch\u001b[0m\u001b[0;34m.\u001b[0m\u001b[0msave\u001b[0m\u001b[0;34m(\u001b[0m\u001b[0mnegatives_ri\u001b[0m\u001b[0;34m,\u001b[0m\u001b[0;34m'experiment_results/testneg_ri_hybrid.pt'\u001b[0m\u001b[0;34m)\u001b[0m\u001b[0;34m\u001b[0m\u001b[0;34m\u001b[0m\u001b[0m\n\u001b[0m",
      "\u001b[0;31mNameError\u001b[0m: name 'negatives_ri' is not defined"
     ]
    }
   ],
   "source": [
    "negatives_ri_hybrid,neg_ri_norms_df = computeRi(hybrid_model.classifier,\n",
    "                                                    attributes,testneg,0)"
   ]
  },
  {
   "cell_type": "code",
   "execution_count": 12,
   "metadata": {},
   "outputs": [],
   "source": [
    "torch.save(negatives_ri_hybrid,'experiment_results/testneg_ri_hybrid.pt')"
   ]
  },
  {
   "cell_type": "code",
   "execution_count": 13,
   "metadata": {},
   "outputs": [
    {
     "data": {
      "text/plain": [
       "<matplotlib.axes._subplots.AxesSubplot at 0x7f6fb81a3160>"
      ]
     },
     "execution_count": 13,
     "metadata": {},
     "output_type": "execute_result"
    },
    {
     "data": {
      "image/png": "[encoded data removed]",
      "text/plain": [
       "<Figure size 432x288 with 1 Axes>"
      ]
     },
     "metadata": {
      "needs_background": "light"
     },
     "output_type": "display_data"
    }
   ],
   "source": [
    "neg_ri_norms_df.sum().plot.bar()"
   ]
  },
  {
   "cell_type": "code",
   "execution_count": 20,
   "metadata": {},
   "outputs": [],
   "source": [
    "def getRiNorms(ri,attributes):\n",
    "    ri = ri.values()\n",
    "    ri_norms = [[torch.norm(v).item() for v in ris] for ris in ri]\n",
    "    ri_norms_df = pd.DataFrame(data=ri_norms,columns=attributes)\n",
    "    return ri_norms_df"
   ]
  },
  {
   "cell_type": "code",
   "execution_count": 21,
   "metadata": {},
   "outputs": [],
   "source": [
    "##save to file\n",
    "neg_ri = torch.load('experiment_results/testneg_ri_hybrid.pt')\n",
    "negatives_variation_df = getRiNorms(neg_ri,attributes)\n",
    "negatives_variation_df.to_csv('experiment_results/testneg_ri_norms_hybrid.csv',index=False)"
   ]
  },
  {
   "cell_type": "markdown",
   "metadata": {},
   "source": [
    "## Test positives analysis"
   ]
  },
  {
   "cell_type": "code",
   "execution_count": 16,
   "metadata": {},
   "outputs": [
    {
     "name": "stderr",
     "output_type": "stream",
     "text": [
      "100%|██████████| 234/234 [00:12<00:00, 19.44it/s]\n"
     ]
    }
   ],
   "source": [
    "positives_ri_hybrid,pos_ri_norms_hybrid = computeRi(hybrid_model.classifier,\n",
    "                                                    attributes,testpos,1)\n",
    "torch.save(positives_ri_hybrid,'experiment_results/testpos_ri_hybrid.pt')"
   ]
  },
  {
   "cell_type": "code",
   "execution_count": 17,
   "metadata": {},
   "outputs": [
    {
     "data": {
      "text/plain": [
       "<matplotlib.axes._subplots.AxesSubplot at 0x7f6faaa4cf60>"
      ]
     },
     "execution_count": 17,
     "metadata": {},
     "output_type": "execute_result"
    },
    {
     "data": {
      "image/png": "[encoded data removed]",
      "text/plain": [
       "<Figure size 432x288 with 1 Axes>"
      ]
     },
     "metadata": {
      "needs_background": "light"
     },
     "output_type": "display_data"
    }
   ],
   "source": [
    "pos_ri_norms_hybrid.sum().plot.bar()"
   ]
  },
  {
   "cell_type": "code",
   "execution_count": 22,
   "metadata": {},
   "outputs": [],
   "source": [
    "##save to file\n",
    "pos_ri = torch.load('experiment_results/testpos_ri_hybrid.pt')\n",
    "pos_ri_norms = getRiNorms(pos_ri,attributes)\n",
    "pos_ri_norms.to_csv('experiment_results/testpos_ri_norms_hybrid.csv',index=False)"
   ]
  },
  {
   "cell_type": "code",
   "execution_count": 28,
   "metadata": {},
   "outputs": [],
   "source": [
    "##Save results to file\n",
    "positives_variation_df.to_csv('experiment_results/testpositives_ri_hybrid.csv',index=False)"
   ]
  },
  {
   "cell_type": "markdown",
   "metadata": {},
   "source": [
    "## Compute nearest neighbours"
   ]
  },
  {
   "cell_type": "code",
   "execution_count": 55,
   "metadata": {},
   "outputs": [],
   "source": [
    "from utils.distance_measures import nearestNeighborsOnAttribute"
   ]
  },
  {
   "cell_type": "code",
   "execution_count": 56,
   "metadata": {},
   "outputs": [
    {
     "ename": "NameError",
     "evalue": "name 'calculate_nearest_neighbors_onAttributes' is not defined",
     "output_type": "error",
     "traceback": [
      "\u001b[0;31m---------------------------------------------------------------------------\u001b[0m",
      "\u001b[0;31mNameError\u001b[0m                                 Traceback (most recent call last)",
      "\u001b[0;32m<ipython-input-56-d3b363e372da>\u001b[0m in \u001b[0;36m<module>\u001b[0;34m\u001b[0m\n\u001b[0;32m----> 1\u001b[0;31m positives_nn_hybrid = calculate_nearest_neighbors_onAttributes(testpos_classifier_hybrid,testpos_ids_hybrid,\n\u001b[0m\u001b[1;32m      2\u001b[0m                                                                \u001b[0mpositives_ri_hybrid\u001b[0m\u001b[0;34m,\u001b[0m\u001b[0;34m\u001b[0m\u001b[0;34m\u001b[0m\u001b[0m\n\u001b[1;32m      3\u001b[0m                                                        \u001b[0mneg_classifier_hybrid\u001b[0m\u001b[0;34m,\u001b[0m\u001b[0mneg_ids_hybrid\u001b[0m\u001b[0;34m,\u001b[0m\u001b[0;34m\u001b[0m\u001b[0;34m\u001b[0m\u001b[0m\n\u001b[1;32m      4\u001b[0m                                                                attributes,attribute_len_hybrid)\n",
      "\u001b[0;31mNameError\u001b[0m: name 'calculate_nearest_neighbors_onAttributes' is not defined"
     ]
    }
   ],
   "source": [
    "positives_nn_hybrid = nearestNeighbors(testpos_classifier_hybrid,testpos_ids_hybrid,\n",
    "                                                               positives_ri_hybrid,\n",
    "                                                       neg_classifier_hybrid,neg_ids_hybrid,\n",
    "                                                               attributes,attribute_len_hybrid)"
   ]
  },
  {
   "cell_type": "code",
   "execution_count": 34,
   "metadata": {},
   "outputs": [
    {
     "name": "stderr",
     "output_type": "stream",
     "text": [
      "100%|██████████| 128/128 [00:00<00:00, 486.56it/s]\n",
      "100%|██████████| 128/128 [00:00<00:00, 516.84it/s]\n",
      "100%|██████████| 128/128 [00:00<00:00, 579.87it/s]\n",
      "100%|██████████| 128/128 [00:00<00:00, 641.36it/s]\n",
      "100%|██████████| 128/128 [00:00<00:00, 632.92it/s]\n",
      "100%|██████████| 128/128 [00:00<00:00, 660.17it/s]\n",
      "100%|██████████| 128/128 [00:00<00:00, 694.61it/s]\n",
      "100%|██████████| 128/128 [00:00<00:00, 680.66it/s]\n",
      "100%|██████████| 128/128 [00:00<00:00, 691.42it/s]\n",
      "100%|██████████| 128/128 [00:00<00:00, 683.45it/s]\n",
      "100%|██████████| 128/128 [00:00<00:00, 667.57it/s]\n",
      "100%|██████████| 128/128 [00:00<00:00, 690.68it/s]\n",
      "100%|██████████| 128/128 [00:00<00:00, 693.14it/s]\n",
      "100%|██████████| 128/128 [00:00<00:00, 659.49it/s]\n",
      "100%|██████████| 128/128 [00:00<00:00, 632.56it/s]\n",
      "100%|██████████| 11/11 [00:00<00:00, 620.95it/s]\n",
      "100%|██████████| 128/128 [00:00<00:00, 631.99it/s]\n"
     ]
    }
   ],
   "source": [
    "negatives_nn_hybrid = calculate_nearest_neighbors_onAttributes(testneg_classifier_hybrid,testneg_ids_hybrid,\n",
    "                                                              negatives_ri_hybrid,pos_classifier_hybrid,\n",
    "                                                              pos_ids_hybrid,attributes,attribute_len_hybrid)"
   ]
  },
  {
   "cell_type": "code",
   "execution_count": 36,
   "metadata": {},
   "outputs": [
    {
     "ename": "NameError",
     "evalue": "name 'negatives_nn_' is not defined",
     "output_type": "error",
     "traceback": [
      "\u001b[0;31m---------------------------------------------------------------------------\u001b[0m",
      "\u001b[0;31mNameError\u001b[0m                                 Traceback (most recent call last)",
      "\u001b[0;32m<ipython-input-36-55f294835aa6>\u001b[0m in \u001b[0;36m<module>\u001b[0;34m\u001b[0m\n\u001b[1;32m      1\u001b[0m \u001b[0mpositives_nn_hybrid\u001b[0m\u001b[0;34m.\u001b[0m\u001b[0mto_csv\u001b[0m\u001b[0;34m(\u001b[0m\u001b[0;34m'experiment_results/testpos_nn_hybrid.csv'\u001b[0m\u001b[0;34m,\u001b[0m\u001b[0mindex\u001b[0m\u001b[0;34m=\u001b[0m\u001b[0;32mFalse\u001b[0m\u001b[0;34m)\u001b[0m\u001b[0;34m\u001b[0m\u001b[0;34m\u001b[0m\u001b[0m\n\u001b[0;32m----> 2\u001b[0;31m \u001b[0mnegatives_nn_\u001b[0m\u001b[0;34m\u001b[0m\u001b[0;34m\u001b[0m\u001b[0m\n\u001b[0m",
      "\u001b[0;31mNameError\u001b[0m: name 'negatives_nn_' is not defined"
     ]
    }
   ],
   "source": [
    "positives_nn_hybrid.to_csv('experiment_results/testpos_nn_hybrid.csv',index=False)\n",
    "negatives_nn_hybrid.to_csv('experiment_results/testneg_nn_hybrid.csv',i)"
   ]
  }
 ],
 "metadata": {
  "kernelspec": {
   "display_name": "Python 3",
   "language": "python",
   "name": "python3"
  },
  "language_info": {
   "codemirror_mode": {
    "name": "ipython",
    "version": 3
   },
   "file_extension": ".py",
   "mimetype": "text/x-python",
   "name": "python",
   "nbconvert_exporter": "python",
   "pygments_lexer": "ipython3",
   "version": "3.6.10"
  },
  "toc": {
   "base_numbering": 1,
   "nav_menu": {},
   "number_sections": true,
   "sideBar": true,
   "skip_h1_title": false,
   "title_cell": "Table of Contents",
   "title_sidebar": "Contents",
   "toc_cell": false,
   "toc_position": {},
   "toc_section_display": true,
   "toc_window_display": true
  }
 },
 "nbformat": 4,
 "nbformat_minor": 2
}

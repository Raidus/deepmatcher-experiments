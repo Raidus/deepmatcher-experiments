{
 "cells": [
  {
   "cell_type": "code",
   "execution_count": 1,
   "metadata": {
    "ExecuteTime": {
     "end_time": "2020-02-29T16:37:42.397724Z",
     "start_time": "2020-02-29T16:37:42.376532Z"
    }
   },
   "outputs": [],
   "source": [
    "%load_ext autoreload\n",
    "%autoreload 2"
   ]
  },
  {
   "cell_type": "code",
   "execution_count": 2,
   "metadata": {
    "ExecuteTime": {
     "end_time": "2020-02-29T16:37:42.681262Z",
     "start_time": "2020-02-29T16:37:42.668643Z"
    }
   },
   "outputs": [],
   "source": [
    "import sys\n",
    "sys.path.append(\"../..\")"
   ]
  },
  {
   "cell_type": "code",
   "execution_count": 14,
   "metadata": {
    "ExecuteTime": {
     "end_time": "2020-02-29T16:39:32.514694Z",
     "start_time": "2020-02-29T16:39:32.466787Z"
    }
   },
   "outputs": [],
   "source": [
    "import deepmatcher as dm\n",
    "from utils.intermediate_layer_extraction import return_layer_input\n",
    "from utils.ri_calculator import computeRi,aggregateRi\n",
    "import pandas as pd\n",
    "import torch"
   ]
  },
  {
   "cell_type": "code",
   "execution_count": 6,
   "metadata": {
    "ExecuteTime": {
     "end_time": "2020-02-29T16:38:12.565618Z",
     "start_time": "2020-02-29T16:38:12.535349Z"
    }
   },
   "outputs": [],
   "source": [
    "attributes =['title','manufacturer','price']"
   ]
  },
  {
   "cell_type": "markdown",
   "metadata": {},
   "source": [
    "## Hybrid"
   ]
  },
  {
   "cell_type": "markdown",
   "metadata": {},
   "source": [
    "### Dataset creation"
   ]
  },
  {
   "cell_type": "code",
   "execution_count": 7,
   "metadata": {
    "ExecuteTime": {
     "end_time": "2020-02-29T16:38:17.725215Z",
     "start_time": "2020-02-29T16:38:13.929335Z"
    }
   },
   "outputs": [],
   "source": [
    "hybrid_model = dm.MatchingModel(attr_summarizer='hybrid')\n",
    "hybrid_model.load_state('../../models/amazongoogle_hybrid.pth')\n",
    "hybrid_model = hybrid_model.cuda()"
   ]
  },
  {
   "cell_type": "code",
   "execution_count": 34,
   "metadata": {
    "ExecuteTime": {
     "end_time": "2020-02-27T10:29:03.979258Z",
     "start_time": "2020-02-27T10:28:30.691971Z"
    }
   },
   "outputs": [],
   "source": [
    "negatives = return_layer_input(hybrid_model,hybrid_model.classifier,'../../datasets/Structured/Amazon-Google/'\n",
    "                                                                         ,'negatives',0)"
   ]
  },
  {
   "cell_type": "code",
   "execution_count": 36,
   "metadata": {
    "ExecuteTime": {
     "end_time": "2020-02-27T10:29:14.788900Z",
     "start_time": "2020-02-27T10:29:10.735901Z"
    }
   },
   "outputs": [],
   "source": [
    "positives = return_layer_input(hybrid_model,hybrid_model.classifier,\n",
    "                               '../../datasets/Structured/Amazon-Google/','positives',1)"
   ]
  },
  {
   "cell_type": "code",
   "execution_count": 20,
   "metadata": {
    "ExecuteTime": {
     "end_time": "2020-02-29T16:41:26.117728Z",
     "start_time": "2020-02-29T16:41:18.996685Z"
    }
   },
   "outputs": [],
   "source": [
    "testneg = return_layer_input(hybrid_model,hybrid_model.classifier,'../../datasets/Structured/Amazon-Google/'\n",
    "                                                                         ,'test_negatives',0)"
   ]
  },
  {
   "cell_type": "code",
   "execution_count": 8,
   "metadata": {
    "ExecuteTime": {
     "end_time": "2020-02-29T16:38:28.180115Z",
     "start_time": "2020-02-29T16:38:17.727625Z"
    }
   },
   "outputs": [],
   "source": [
    "testpos = return_layer_input(hybrid_model,hybrid_model.classifier,'../../datasets/Structured/Amazon-Google/',\n",
    "                                                                  'test_positives',1)"
   ]
  },
  {
   "cell_type": "code",
   "execution_count": 9,
   "metadata": {
    "ExecuteTime": {
     "end_time": "2020-02-29T16:38:28.197845Z",
     "start_time": "2020-02-29T16:38:28.182124Z"
    }
   },
   "outputs": [],
   "source": [
    "classifier_len = len(list(testpos.values())[0])\n",
    "attribute_len = int(classifier_len/len(attributes))"
   ]
  },
  {
   "cell_type": "markdown",
   "metadata": {},
   "source": [
    "### Negatives analysis"
   ]
  },
  {
   "cell_type": "code",
   "execution_count": 21,
   "metadata": {
    "ExecuteTime": {
     "end_time": "2020-02-29T16:43:50.473792Z",
     "start_time": "2020-02-29T16:41:29.969215Z"
    }
   },
   "outputs": [
    {
     "name": "stderr",
     "output_type": "stream",
     "text": [
      "100%|██████████| 1982/1982 [02:20<00:00, 14.14it/s]\n"
     ]
    }
   ],
   "source": [
    "testneg_ri,testneg_ri_norms = computeRi(hybrid_model.classifier,\n",
    "                                                    attributes,testneg,0,aggregation_type='euclidean')"
   ]
  },
  {
   "cell_type": "code",
   "execution_count": 22,
   "metadata": {
    "ExecuteTime": {
     "end_time": "2020-02-29T16:44:01.493054Z",
     "start_time": "2020-02-29T16:44:01.047415Z"
    }
   },
   "outputs": [],
   "source": [
    "torch.save(testneg_ri,'experiment_results/testneg_ri_hybrid.pt')\n",
    "testneg_ri_norms.to_csv('experiment_results/testneg_ri_norms_hybrid.csv',index=False)"
   ]
  },
  {
   "cell_type": "code",
   "execution_count": 23,
   "metadata": {
    "ExecuteTime": {
     "end_time": "2020-02-29T16:44:02.509473Z",
     "start_time": "2020-02-29T16:44:02.254553Z"
    }
   },
   "outputs": [
    {
     "data": {
      "text/plain": [
       "<matplotlib.axes._subplots.AxesSubplot at 0x7f7948f1d6a0>"
      ]
     },
     "execution_count": 23,
     "metadata": {},
     "output_type": "execute_result"
    },
    {
     "data": {
      "image/png": "[encoded data removed]",
      "text/plain": [
       "<Figure size 432x288 with 1 Axes>"
      ]
     },
     "metadata": {
      "needs_background": "light"
     },
     "output_type": "display_data"
    }
   ],
   "source": [
    "testneg_ri_norms.drop(['sample_id'],axis=1).sum().plot.bar(color='red')"
   ]
  },
  {
   "cell_type": "code",
   "execution_count": 24,
   "metadata": {
    "ExecuteTime": {
     "end_time": "2020-02-29T16:44:46.078816Z",
     "start_time": "2020-02-29T16:44:44.124965Z"
    }
   },
   "outputs": [
    {
     "data": {
      "text/plain": [
       "<matplotlib.axes._subplots.AxesSubplot at 0x7f7948e225f8>"
      ]
     },
     "execution_count": 24,
     "metadata": {},
     "output_type": "execute_result"
    },
    {
     "data": {
      "image/png": "[encoded data removed]",
      "text/plain": [
       "<Figure size 432x288 with 1 Axes>"
      ]
     },
     "metadata": {
      "needs_background": "light"
     },
     "output_type": "display_data"
    }
   ],
   "source": [
    "aggregateRi(testneg_ri,testneg,attributes,attribute_len,aggregation_type='cosine').mean().plot.bar(color='red')"
   ]
  },
  {
   "cell_type": "markdown",
   "metadata": {},
   "source": [
    "## Test positives analysis"
   ]
  },
  {
   "cell_type": "code",
   "execution_count": 11,
   "metadata": {
    "ExecuteTime": {
     "end_time": "2020-02-29T16:39:14.259196Z",
     "start_time": "2020-02-29T16:39:00.937081Z"
    }
   },
   "outputs": [
    {
     "name": "stderr",
     "output_type": "stream",
     "text": [
      "100%|██████████| 163/163 [00:13<00:00, 12.34it/s]\n"
     ]
    }
   ],
   "source": [
    "testpos_ri,testpos_ri_norms = computeRi(hybrid_model.classifier,\n",
    "                                                    attributes,testpos,1,aggregation_type='euclidean')\n",
    "torch.save(testpos_ri,'experiment_results/testpos_ri_hybrid.pt')\n",
    "testpos_ri_norms.to_csv('experiment_results/testpos_ri_norms_hybrid.csv',index=False)"
   ]
  },
  {
   "cell_type": "code",
   "execution_count": 13,
   "metadata": {
    "ExecuteTime": {
     "end_time": "2020-02-29T16:39:19.271734Z",
     "start_time": "2020-02-29T16:39:19.018257Z"
    },
    "scrolled": true
   },
   "outputs": [
    {
     "data": {
      "text/plain": [
       "<matplotlib.axes._subplots.AxesSubplot at 0x7f7c2c52aeb8>"
      ]
     },
     "execution_count": 13,
     "metadata": {},
     "output_type": "execute_result"
    },
    {
     "data": {
      "image/png": "[encoded data removed]",
      "text/plain": [
       "<Figure size 432x288 with 1 Axes>"
      ]
     },
     "metadata": {
      "needs_background": "light"
     },
     "output_type": "display_data"
    }
   ],
   "source": [
    "testpos_ri_norms.drop(['sample_id'],axis=1).sum().plot.bar(color='green')"
   ]
  },
  {
   "cell_type": "code",
   "execution_count": 17,
   "metadata": {
    "ExecuteTime": {
     "end_time": "2020-02-29T16:40:38.731153Z",
     "start_time": "2020-02-29T16:40:38.292300Z"
    }
   },
   "outputs": [
    {
     "data": {
      "text/plain": [
       "<matplotlib.axes._subplots.AxesSubplot at 0x7f7c0c5afe10>"
      ]
     },
     "execution_count": 17,
     "metadata": {},
     "output_type": "execute_result"
    },
    {
     "data": {
      "image/png": "[encoded data removed]",
      "text/plain": [
       "<Figure size 432x288 with 1 Axes>"
      ]
     },
     "metadata": {
      "needs_background": "light"
     },
     "output_type": "display_data"
    }
   ],
   "source": [
    "aggregateRi(testpos_ri,testpos,attributes,attribute_len,aggregation_type='cosine').mean().plot.bar(color='green')"
   ]
  },
  {
   "cell_type": "markdown",
   "metadata": {},
   "source": [
    "## Compute nearest neighbours"
   ]
  },
  {
   "cell_type": "code",
   "execution_count": 19,
   "metadata": {
    "ExecuteTime": {
     "end_time": "2020-02-27T10:24:28.521027Z",
     "start_time": "2020-02-27T10:24:28.485557Z"
    }
   },
   "outputs": [],
   "source": [
    "from utils.distance_measures import nearestNeighborOnAttributes"
   ]
  },
  {
   "cell_type": "code",
   "execution_count": 20,
   "metadata": {
    "ExecuteTime": {
     "end_time": "2020-02-27T10:24:29.648115Z",
     "start_time": "2020-02-27T10:24:29.203926Z"
    }
   },
   "outputs": [],
   "source": [
    "testpos_ri = torch.load('experiment_results/testpos_ri_hybrid.pt')\n",
    "testneg_ri = torch.load('experiment_results/testneg_ri_hybrid.pt')"
   ]
  },
  {
   "cell_type": "code",
   "execution_count": 21,
   "metadata": {
    "ExecuteTime": {
     "end_time": "2020-02-27T10:24:32.075451Z",
     "start_time": "2020-02-27T10:24:31.096919Z"
    }
   },
   "outputs": [
    {
     "name": "stderr",
     "output_type": "stream",
     "text": [
      "100%|██████████| 163/163 [00:00<00:00, 190.63it/s]\n"
     ]
    }
   ],
   "source": [
    "positives_nn_hybrid = nearestNeighborOnAttributes(testpos,testpos_ri,negatives,attributes,attribute_len,\n",
    "                                                  min_similarity=-1)"
   ]
  },
  {
   "cell_type": "code",
   "execution_count": 22,
   "metadata": {
    "ExecuteTime": {
     "end_time": "2020-02-27T10:24:35.427597Z",
     "start_time": "2020-02-27T10:24:32.542390Z"
    }
   },
   "outputs": [
    {
     "name": "stderr",
     "output_type": "stream",
     "text": [
      "100%|██████████| 1982/1982 [00:02<00:00, 701.91it/s]\n"
     ]
    }
   ],
   "source": [
    "negatives_nn_hybrid = nearestNeighborOnAttributes(testneg,testneg_ri,\n",
    "                                                              positives,attributes,attribute_len,\n",
    "                                                  min_similarity=-1)"
   ]
  },
  {
   "cell_type": "code",
   "execution_count": 23,
   "metadata": {
    "ExecuteTime": {
     "end_time": "2020-02-27T10:24:35.835792Z",
     "start_time": "2020-02-27T10:24:35.796946Z"
    }
   },
   "outputs": [],
   "source": [
    "positives_nn_hybrid.to_csv('experiment_results/testpos_nn_hybrid.csv',index=False)\n",
    "negatives_nn_hybrid.to_csv('experiment_results/testneg_nn_hybrid.csv',index=False)"
   ]
  },
  {
   "cell_type": "markdown",
   "metadata": {},
   "source": [
    "## Correct rankings"
   ]
  },
  {
   "cell_type": "code",
   "execution_count": 47,
   "metadata": {
    "ExecuteTime": {
     "end_time": "2020-02-27T10:37:54.695094Z",
     "start_time": "2020-02-27T10:37:54.662455Z"
    }
   },
   "outputs": [],
   "source": [
    "from utils.distance_measures import smallestDistanceOnAttributes,correctRankings"
   ]
  },
  {
   "cell_type": "code",
   "execution_count": 60,
   "metadata": {
    "ExecuteTime": {
     "end_time": "2020-02-27T10:41:19.296898Z",
     "start_time": "2020-02-27T10:41:18.318126Z"
    }
   },
   "outputs": [
    {
     "name": "stderr",
     "output_type": "stream",
     "text": [
      "100%|██████████| 163/163 [00:00<00:00, 185.27it/s]\n"
     ]
    }
   ],
   "source": [
    "testpos_nn_distances = smallestDistanceOnAttributes(testpos,testpos_ri,negatives,attributes,\n",
    "                                                    attribute_len,distance_type='euclidean')"
   ]
  },
  {
   "cell_type": "code",
   "execution_count": 61,
   "metadata": {
    "ExecuteTime": {
     "end_time": "2020-02-27T10:41:36.664733Z",
     "start_time": "2020-02-27T10:41:34.315108Z"
    }
   },
   "outputs": [
    {
     "name": "stderr",
     "output_type": "stream",
     "text": [
      "100%|██████████| 1982/1982 [00:02<00:00, 860.32it/s]\n"
     ]
    }
   ],
   "source": [
    "testneg_nn_distances = smallestDistanceOnAttributes(testneg,testneg_ri,positives,\n",
    "                                                    attributes,attribute_len,distance_type='euclidean')"
   ]
  },
  {
   "cell_type": "code",
   "execution_count": 62,
   "metadata": {
    "ExecuteTime": {
     "end_time": "2020-02-27T10:41:37.994350Z",
     "start_time": "2020-02-27T10:41:37.956538Z"
    }
   },
   "outputs": [],
   "source": [
    "corrected_rankings_testpos = correctRankings(testpos_ri_norms,testpos_nn_distances)\n",
    "corrected_rankings_testneg = correctRankings(testneg_ri_norms,testneg_nn_distances)"
   ]
  },
  {
   "cell_type": "code",
   "execution_count": 63,
   "metadata": {
    "ExecuteTime": {
     "end_time": "2020-02-27T10:41:38.857089Z",
     "start_time": "2020-02-27T10:41:38.618979Z"
    }
   },
   "outputs": [
    {
     "data": {
      "text/plain": [
       "<matplotlib.axes._subplots.AxesSubplot at 0x7f61ffa81080>"
      ]
     },
     "execution_count": 63,
     "metadata": {},
     "output_type": "execute_result"
    },
    {
     "data": {
      "image/png": "[encoded data removed]",
      "text/plain": [
       "<Figure size 432x288 with 1 Axes>"
      ]
     },
     "metadata": {
      "needs_background": "light"
     },
     "output_type": "display_data"
    }
   ],
   "source": [
    "corrected_rankings_testpos.drop(['sample_id'],axis=1).sum().plot.bar(color='red')"
   ]
  },
  {
   "cell_type": "code",
   "execution_count": 64,
   "metadata": {
    "ExecuteTime": {
     "end_time": "2020-02-27T10:41:53.849951Z",
     "start_time": "2020-02-27T10:41:53.609235Z"
    }
   },
   "outputs": [
    {
     "data": {
      "text/plain": [
       "<matplotlib.axes._subplots.AxesSubplot at 0x7f61ffbd4550>"
      ]
     },
     "execution_count": 64,
     "metadata": {},
     "output_type": "execute_result"
    },
    {
     "data": {
      "image/png": "[encoded data removed]",
      "text/plain": [
       "<Figure size 432x288 with 1 Axes>"
      ]
     },
     "metadata": {
      "needs_background": "light"
     },
     "output_type": "display_data"
    }
   ],
   "source": [
    "corrected_rankings_testpos.drop(['sample_id'],axis=1).sum().plot.bar(color='green')"
   ]
  },
  {
   "cell_type": "code",
   "execution_count": null,
   "metadata": {},
   "outputs": [],
   "source": []
  }
 ],
 "metadata": {
  "kernelspec": {
   "display_name": "Python 3",
   "language": "python",
   "name": "python3"
  },
  "language_info": {
   "codemirror_mode": {
    "name": "ipython",
    "version": 3
   },
   "file_extension": ".py",
   "mimetype": "text/x-python",
   "name": "python",
   "nbconvert_exporter": "python",
   "pygments_lexer": "ipython3",
   "version": "3.6.10"
  },
  "toc": {
   "base_numbering": 1,
   "nav_menu": {},
   "number_sections": true,
   "sideBar": true,
   "skip_h1_title": false,
   "title_cell": "Table of Contents",
   "title_sidebar": "Contents",
   "toc_cell": false,
   "toc_position": {
    "height": "calc(100% - 180px)",
    "left": "10px",
    "top": "150px",
    "width": "384px"
   },
   "toc_section_display": true,
   "toc_window_display": true
  }
 },
 "nbformat": 4,
 "nbformat_minor": 2
}

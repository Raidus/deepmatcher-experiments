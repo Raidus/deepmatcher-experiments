{
 "cells": [
  {
   "cell_type": "code",
   "execution_count": 1,
   "metadata": {},
   "outputs": [],
   "source": [
    "%load_ext autoreload\n",
    "%autoreload 2"
   ]
  },
  {
   "cell_type": "code",
   "execution_count": 2,
   "metadata": {},
   "outputs": [],
   "source": [
    "import sys\n",
    "sys.path.append('../..')"
   ]
  },
  {
   "cell_type": "code",
   "execution_count": 5,
   "metadata": {},
   "outputs": [],
   "source": [
    "import pandas as pd\n",
    "import deepmatcher as dm\n",
    "from utils.explainer import Explainer\n",
    "from utils.patternDiscovery import mineRules"
   ]
  },
  {
   "cell_type": "code",
   "execution_count": 7,
   "metadata": {},
   "outputs": [
    {
     "data": {
      "text/html": [
       "<div>\n",
       "<style scoped>\n",
       "    .dataframe tbody tr th:only-of-type {\n",
       "        vertical-align: middle;\n",
       "    }\n",
       "\n",
       "    .dataframe tbody tr th {\n",
       "        vertical-align: top;\n",
       "    }\n",
       "\n",
       "    .dataframe thead th {\n",
       "        text-align: right;\n",
       "    }\n",
       "</style>\n",
       "<table border=\"1\" class=\"dataframe\">\n",
       "  <thead>\n",
       "    <tr style=\"text-align: right;\">\n",
       "      <th></th>\n",
       "      <th>antecedents</th>\n",
       "      <th>consequents</th>\n",
       "      <th>antecedent support</th>\n",
       "      <th>consequent support</th>\n",
       "      <th>support</th>\n",
       "      <th>confidence</th>\n",
       "      <th>lift</th>\n",
       "      <th>leverage</th>\n",
       "      <th>conviction</th>\n",
       "      <th>antecedents_isleft</th>\n",
       "      <th>consequents_isright</th>\n",
       "    </tr>\n",
       "  </thead>\n",
       "  <tbody>\n",
       "    <tr>\n",
       "      <th>5</th>\n",
       "      <td>(L_microsoft)</td>\n",
       "      <td>(R_microsoft)</td>\n",
       "      <td>0.289062</td>\n",
       "      <td>0.289062</td>\n",
       "      <td>0.289062</td>\n",
       "      <td>1.00</td>\n",
       "      <td>3.459459</td>\n",
       "      <td>0.205505</td>\n",
       "      <td>inf</td>\n",
       "      <td>True</td>\n",
       "      <td>True</td>\n",
       "    </tr>\n",
       "    <tr>\n",
       "      <th>77</th>\n",
       "      <td>(L_windows, L_microsoft)</td>\n",
       "      <td>(R_microsoft)</td>\n",
       "      <td>0.171875</td>\n",
       "      <td>0.289062</td>\n",
       "      <td>0.171875</td>\n",
       "      <td>1.00</td>\n",
       "      <td>3.459459</td>\n",
       "      <td>0.122192</td>\n",
       "      <td>inf</td>\n",
       "      <td>True</td>\n",
       "      <td>True</td>\n",
       "    </tr>\n",
       "    <tr>\n",
       "      <th>204</th>\n",
       "      <td>(L_office)</td>\n",
       "      <td>(R_microsoft)</td>\n",
       "      <td>0.156250</td>\n",
       "      <td>0.289062</td>\n",
       "      <td>0.148438</td>\n",
       "      <td>0.95</td>\n",
       "      <td>3.286486</td>\n",
       "      <td>0.103271</td>\n",
       "      <td>14.21875</td>\n",
       "      <td>True</td>\n",
       "      <td>True</td>\n",
       "    </tr>\n",
       "    <tr>\n",
       "      <th>206</th>\n",
       "      <td>(L_office, L_microsoft)</td>\n",
       "      <td>(R_microsoft)</td>\n",
       "      <td>0.148438</td>\n",
       "      <td>0.289062</td>\n",
       "      <td>0.148438</td>\n",
       "      <td>1.00</td>\n",
       "      <td>3.459459</td>\n",
       "      <td>0.105530</td>\n",
       "      <td>inf</td>\n",
       "      <td>True</td>\n",
       "      <td>True</td>\n",
       "    </tr>\n",
       "    <tr>\n",
       "      <th>213</th>\n",
       "      <td>(L_office, L_windows)</td>\n",
       "      <td>(R_microsoft)</td>\n",
       "      <td>0.101562</td>\n",
       "      <td>0.289062</td>\n",
       "      <td>0.101562</td>\n",
       "      <td>1.00</td>\n",
       "      <td>3.459459</td>\n",
       "      <td>0.072205</td>\n",
       "      <td>inf</td>\n",
       "      <td>True</td>\n",
       "      <td>True</td>\n",
       "    </tr>\n",
       "  </tbody>\n",
       "</table>\n",
       "</div>"
      ],
      "text/plain": [
       "                  antecedents  ... consequents_isright\n",
       "5               (L_microsoft)  ...                True\n",
       "77   (L_windows, L_microsoft)  ...                True\n",
       "204                (L_office)  ...                True\n",
       "206   (L_office, L_microsoft)  ...                True\n",
       "213     (L_office, L_windows)  ...                True\n",
       "\n",
       "[5 rows x 11 columns]"
      ]
     },
     "execution_count": 7,
     "metadata": {},
     "output_type": "execute_result"
    }
   ],
   "source": [
    "pos_nn = pd.read_csv('experiment_results/testposNN_RNN.csv')\n",
    "train_neg = pd.read_csv('../../Structured/Amazon-Google/train_negatives.csv')\n",
    "association_rules = mineRules(pos_nn,train_neg,'title',min_confidence=0.8,min_support=0.1)\n",
    "association_rules.head()"
   ]
  },
  {
   "cell_type": "code",
   "execution_count": 9,
   "metadata": {},
   "outputs": [
    {
     "data": {
      "text/html": [
       "<div>\n",
       "<style scoped>\n",
       "    .dataframe tbody tr th:only-of-type {\n",
       "        vertical-align: middle;\n",
       "    }\n",
       "\n",
       "    .dataframe tbody tr th {\n",
       "        vertical-align: top;\n",
       "    }\n",
       "\n",
       "    .dataframe thead th {\n",
       "        text-align: right;\n",
       "    }\n",
       "</style>\n",
       "<table border=\"1\" class=\"dataframe\">\n",
       "  <thead>\n",
       "    <tr style=\"text-align: right;\">\n",
       "      <th></th>\n",
       "      <th>antecedents</th>\n",
       "      <th>consequents</th>\n",
       "      <th>antecedent support</th>\n",
       "      <th>consequent support</th>\n",
       "      <th>support</th>\n",
       "      <th>confidence</th>\n",
       "      <th>lift</th>\n",
       "      <th>leverage</th>\n",
       "      <th>conviction</th>\n",
       "      <th>antecedents_isleft</th>\n",
       "      <th>consequents_isright</th>\n",
       "    </tr>\n",
       "  </thead>\n",
       "  <tbody>\n",
       "    <tr>\n",
       "      <th>1</th>\n",
       "      <td>(L_239.99)</td>\n",
       "      <td>(R_109.99)</td>\n",
       "      <td>0.080537</td>\n",
       "      <td>0.087248</td>\n",
       "      <td>0.067114</td>\n",
       "      <td>0.833333</td>\n",
       "      <td>9.551282</td>\n",
       "      <td>0.060087</td>\n",
       "      <td>5.47651</td>\n",
       "      <td>True</td>\n",
       "      <td>True</td>\n",
       "    </tr>\n",
       "  </tbody>\n",
       "</table>\n",
       "</div>"
      ],
      "text/plain": [
       "  antecedents consequents  ...  antecedents_isleft  consequents_isright\n",
       "1  (L_239.99)  (R_109.99)  ...                True                 True\n",
       "\n",
       "[1 rows x 11 columns]"
      ]
     },
     "execution_count": 9,
     "metadata": {},
     "output_type": "execute_result"
    }
   ],
   "source": [
    "association_rules_onprice = mineRules(pos_nn,train_neg,'price',min_confidence=0.8,min_support=0.05)\n",
    "association_rules_onprice.head()"
   ]
  },
  {
   "cell_type": "markdown",
   "metadata": {},
   "source": [
    "## Test patterns"
   ]
  },
  {
   "cell_type": "code",
   "execution_count": 10,
   "metadata": {},
   "outputs": [],
   "source": [
    "rnn_model = dm.MatchingModel(attr_summarizer='rnn')\n",
    "rnn_model.load_state('../../models/amazongoogle_rnn.pth')\n",
    "explainer = Explainer(rnn_model,5)"
   ]
  },
  {
   "cell_type": "code",
   "execution_count": null,
   "metadata": {},
   "outputs": [],
   "source": [
    "p1 =['microsoft windows','microsoft windows']\n",
    "explainer.testRobustness(testset_path='../../Structured/Amazon-Google/test_positives.csv',\n",
    "                         true_label=1,attribute='title',substitute_values=p1,\n",
    "                         strategy='concat')"
   ]
  },
  {
   "cell_type": "code",
   "execution_count": 12,
   "metadata": {},
   "outputs": [
    {
     "name": "stdout",
     "output_type": "stream",
     "text": [
      "===>  PREDICT Epoch 18\n",
      "Finished Epoch 18 || Run Time:    0.6 | Load Time:    1.0 || F1:   0.00 | Prec:   0.00 | Rec:   0.00 || Ex/s:   0.00\n",
      "\n",
      "===>  PREDICT Epoch 18\n",
      "Finished Epoch 18 || Run Time:    0.6 | Load Time:    1.1 || F1:   0.00 | Prec:   0.00 | Rec:   0.00 || Ex/s:   0.00\n",
      "\n"
     ]
    },
    {
     "data": {
      "text/plain": [
       "(990, 1009)"
      ]
     },
     "execution_count": 12,
     "metadata": {},
     "output_type": "execute_result"
    }
   ],
   "source": [
    "import numpy as np\n",
    "p2 = ['239.99','109.99']\n",
    "explainer.testRobustness(testset_path='../../Structured/Amazon-Google/positives.csv',\n",
    "                         true_label=1,attribute='price',substitute_values=p2,\n",
    "                         strategy='replace')"
   ]
  },
  {
   "cell_type": "markdown",
   "metadata": {},
   "source": [
    "## Inspect NN on critical attributes for negatives"
   ]
  },
  {
   "cell_type": "code",
   "execution_count": null,
   "metadata": {},
   "outputs": [],
   "source": [
    "negNN = pd.read_csv('experiment_results/testnegNN_RNN.csv')\n",
    "trainPos = pd.read_csv('../../Structured/Amazon-Google/train_positives.csv')\n",
    "transactions = preProcessNeighbors(negNN,trainPos,'price')"
   ]
  },
  {
   "cell_type": "code",
   "execution_count": null,
   "metadata": {},
   "outputs": [],
   "source": [
    "itemsets, rules = apriori(transactions, min_support=0.05,  min_confidence=0.8)\n",
    "rules_rhs = filter(lambda rule: len(rule.lhs) == 1 and len(rule.rhs)==1, rules)\n",
    "for rule in sorted(rules_rhs, key=lambda rule: rule.lift):\n",
    "  print(rule) # Prints the rule and its confidence, support, lift, ..."
   ]
  },
  {
   "cell_type": "code",
   "execution_count": null,
   "metadata": {},
   "outputs": [],
   "source": [
    "p1 = ['35.98','39.99']\n",
    "explainer.testRobustness(testset_path='../../Structured/Amazon-Google/test_negatives.csv',\n",
    "                         true_label=0,attribute='price',substitute_values=p1,\n",
    "                         strategy='replace')"
   ]
  },
  {
   "cell_type": "code",
   "execution_count": null,
   "metadata": {},
   "outputs": [],
   "source": [
    "p2 = ['22.99','19.99']\n",
    "explainer.testRobustness(testset_path='../../Structured/Amazon-Google/test_negatives.csv',\n",
    "                         true_label=0,attribute='price',substitute_values=p2,\n",
    "                         strategy='replace')"
   ]
  },
  {
   "cell_type": "code",
   "execution_count": null,
   "metadata": {},
   "outputs": [],
   "source": []
  }
 ],
 "metadata": {
  "kernelspec": {
   "display_name": "Python 3",
   "language": "python",
   "name": "python3"
  },
  "language_info": {
   "codemirror_mode": {
    "name": "ipython",
    "version": 3
   },
   "file_extension": ".py",
   "mimetype": "text/x-python",
   "name": "python",
   "nbconvert_exporter": "python",
   "pygments_lexer": "ipython3",
   "version": "3.6.9"
  }
 },
 "nbformat": 4,
 "nbformat_minor": 2
}

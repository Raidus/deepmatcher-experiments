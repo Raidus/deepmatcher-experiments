{
 "cells": [
  {
   "cell_type": "code",
   "execution_count": 1,
   "metadata": {
    "ExecuteTime": {
     "end_time": "2020-02-09T14:16:51.570569Z",
     "start_time": "2020-02-09T14:16:51.553017Z"
    }
   },
   "outputs": [],
   "source": [
    "%load_ext autoreload\n",
    "%autoreload 2"
   ]
  },
  {
   "cell_type": "code",
   "execution_count": 2,
   "metadata": {
    "ExecuteTime": {
     "end_time": "2020-02-09T14:16:52.156907Z",
     "start_time": "2020-02-09T14:16:52.146107Z"
    }
   },
   "outputs": [],
   "source": [
    "import sys\n",
    "sys.path.append('../..')"
   ]
  },
  {
   "cell_type": "code",
   "execution_count": 5,
   "metadata": {
    "ExecuteTime": {
     "end_time": "2020-02-09T14:18:50.853389Z",
     "start_time": "2020-02-09T14:18:50.807496Z"
    }
   },
   "outputs": [],
   "source": [
    "import pandas as pd\n",
    "import deepmatcher as dm\n",
    "from utils.explainer import Explainer\n",
    "from utils.patternDiscovery import mineRules"
   ]
  },
  {
   "cell_type": "code",
   "execution_count": 19,
   "metadata": {},
   "outputs": [
    {
     "data": {
      "text/html": [
       "<div>\n",
       "<style scoped>\n",
       "    .dataframe tbody tr th:only-of-type {\n",
       "        vertical-align: middle;\n",
       "    }\n",
       "\n",
       "    .dataframe tbody tr th {\n",
       "        vertical-align: top;\n",
       "    }\n",
       "\n",
       "    .dataframe thead th {\n",
       "        text-align: right;\n",
       "    }\n",
       "</style>\n",
       "<table border=\"1\" class=\"dataframe\">\n",
       "  <thead>\n",
       "    <tr style=\"text-align: right;\">\n",
       "      <th></th>\n",
       "      <th>antecedents</th>\n",
       "      <th>consequents</th>\n",
       "      <th>antecedent support</th>\n",
       "      <th>consequent support</th>\n",
       "      <th>support</th>\n",
       "      <th>confidence</th>\n",
       "      <th>lift</th>\n",
       "      <th>leverage</th>\n",
       "      <th>conviction</th>\n",
       "      <th>antecedents_isleft</th>\n",
       "      <th>consequents_isright</th>\n",
       "    </tr>\n",
       "  </thead>\n",
       "  <tbody>\n",
       "    <tr>\n",
       "      <th>3</th>\n",
       "      <td>(L_microsoft)</td>\n",
       "      <td>(R_microsoft)</td>\n",
       "      <td>0.243590</td>\n",
       "      <td>0.235043</td>\n",
       "      <td>0.235043</td>\n",
       "      <td>0.964912</td>\n",
       "      <td>4.105263</td>\n",
       "      <td>0.177789</td>\n",
       "      <td>21.801282</td>\n",
       "      <td>True</td>\n",
       "      <td>True</td>\n",
       "    </tr>\n",
       "    <tr>\n",
       "      <th>18</th>\n",
       "      <td>(L_adobe)</td>\n",
       "      <td>(R_adobe)</td>\n",
       "      <td>0.128205</td>\n",
       "      <td>0.175214</td>\n",
       "      <td>0.106838</td>\n",
       "      <td>0.833333</td>\n",
       "      <td>4.756098</td>\n",
       "      <td>0.084374</td>\n",
       "      <td>4.948718</td>\n",
       "      <td>True</td>\n",
       "      <td>True</td>\n",
       "    </tr>\n",
       "    <tr>\n",
       "      <th>23</th>\n",
       "      <td>(L_office)</td>\n",
       "      <td>(R_microsoft)</td>\n",
       "      <td>0.111111</td>\n",
       "      <td>0.235043</td>\n",
       "      <td>0.102564</td>\n",
       "      <td>0.923077</td>\n",
       "      <td>3.927273</td>\n",
       "      <td>0.076448</td>\n",
       "      <td>9.944444</td>\n",
       "      <td>True</td>\n",
       "      <td>True</td>\n",
       "    </tr>\n",
       "    <tr>\n",
       "      <th>25</th>\n",
       "      <td>(L_office, L_microsoft)</td>\n",
       "      <td>(R_microsoft)</td>\n",
       "      <td>0.106838</td>\n",
       "      <td>0.235043</td>\n",
       "      <td>0.102564</td>\n",
       "      <td>0.960000</td>\n",
       "      <td>4.084364</td>\n",
       "      <td>0.077453</td>\n",
       "      <td>19.123932</td>\n",
       "      <td>True</td>\n",
       "      <td>True</td>\n",
       "    </tr>\n",
       "  </tbody>\n",
       "</table>\n",
       "</div>"
      ],
      "text/plain": [
       "                antecedents    consequents  antecedent support  \\\n",
       "3             (L_microsoft)  (R_microsoft)            0.243590   \n",
       "18                (L_adobe)      (R_adobe)            0.128205   \n",
       "23               (L_office)  (R_microsoft)            0.111111   \n",
       "25  (L_office, L_microsoft)  (R_microsoft)            0.106838   \n",
       "\n",
       "    consequent support   support  confidence      lift  leverage  conviction  \\\n",
       "3             0.235043  0.235043    0.964912  4.105263  0.177789   21.801282   \n",
       "18            0.175214  0.106838    0.833333  4.756098  0.084374    4.948718   \n",
       "23            0.235043  0.102564    0.923077  3.927273  0.076448    9.944444   \n",
       "25            0.235043  0.102564    0.960000  4.084364  0.077453   19.123932   \n",
       "\n",
       "    antecedents_isleft  consequents_isright  \n",
       "3                 True                 True  \n",
       "18                True                 True  \n",
       "23                True                 True  \n",
       "25                True                 True  "
      ]
     },
     "execution_count": 19,
     "metadata": {},
     "output_type": "execute_result"
    }
   ],
   "source": [
    "pos_nn = pd.read_csv('experiment_results/testposNN_RNN.csv')\n",
    "negatives = pd.read_csv('../../Structured/Amazon-Google/negatives.csv')\n",
    "association_rules = mineRules(pos_nn,negatives,'title',min_confidence=0.8,min_support=0.1)\n",
    "association_rules.head()"
   ]
  },
  {
   "cell_type": "code",
   "execution_count": 10,
   "metadata": {},
   "outputs": [
    {
     "data": {
      "text/html": [
       "<div>\n",
       "<style scoped>\n",
       "    .dataframe tbody tr th:only-of-type {\n",
       "        vertical-align: middle;\n",
       "    }\n",
       "\n",
       "    .dataframe tbody tr th {\n",
       "        vertical-align: top;\n",
       "    }\n",
       "\n",
       "    .dataframe thead th {\n",
       "        text-align: right;\n",
       "    }\n",
       "</style>\n",
       "<table border=\"1\" class=\"dataframe\">\n",
       "  <thead>\n",
       "    <tr style=\"text-align: right;\">\n",
       "      <th></th>\n",
       "      <th>antecedents</th>\n",
       "      <th>consequents</th>\n",
       "      <th>antecedent support</th>\n",
       "      <th>consequent support</th>\n",
       "      <th>support</th>\n",
       "      <th>confidence</th>\n",
       "      <th>lift</th>\n",
       "      <th>leverage</th>\n",
       "      <th>conviction</th>\n",
       "      <th>antecedents_isleft</th>\n",
       "      <th>consequents_isright</th>\n",
       "    </tr>\n",
       "  </thead>\n",
       "  <tbody>\n",
       "  </tbody>\n",
       "</table>\n",
       "</div>"
      ],
      "text/plain": [
       "Empty DataFrame\n",
       "Columns: [antecedents, consequents, antecedent support, consequent support, support, confidence, lift, leverage, conviction, antecedents_isleft, consequents_isright]\n",
       "Index: []"
      ]
     },
     "execution_count": 10,
     "metadata": {},
     "output_type": "execute_result"
    }
   ],
   "source": [
    "association_rules_onprice = mineRules(pos_nn,negatives,'price',min_confidence=0.5,min_support=0.05)\n",
    "association_rules_onprice.head()"
   ]
  },
  {
   "cell_type": "code",
   "execution_count": 22,
   "metadata": {},
   "outputs": [
    {
     "data": {
      "text/plain": [
       "234"
      ]
     },
     "execution_count": 22,
     "metadata": {},
     "output_type": "execute_result"
    }
   ],
   "source": [
    "len(pos_nn)"
   ]
  },
  {
   "cell_type": "code",
   "execution_count": 33,
   "metadata": {},
   "outputs": [],
   "source": [
    "train = pd.read_csv('../../Structured/Amazon-Google/merged_train.csv')\n",
    "price_distribution = dict(train.groupby(by=['ltable_price','rtable_price']).size())"
   ]
  },
  {
   "cell_type": "markdown",
   "metadata": {},
   "source": [
    "## Test patterns"
   ]
  },
  {
   "cell_type": "code",
   "execution_count": 20,
   "metadata": {},
   "outputs": [],
   "source": [
    "rnn_model = dm.MatchingModel(attr_summarizer='rnn')\n",
    "rnn_model.load_state('../../models/amazongoogle_rnn.pth')\n",
    "explainer = Explainer(rnn_model,10)"
   ]
  },
  {
   "cell_type": "code",
   "execution_count": 21,
   "metadata": {},
   "outputs": [],
   "source": [
    "%%capture\n",
    "explanations = explainer.generateExplanations(pos_nn,negatives,'price',0.03,\n",
    "                                              '../../Structured/Amazon-Google/test_positives.csv',1)"
   ]
  },
  {
   "cell_type": "code",
   "execution_count": 22,
   "metadata": {},
   "outputs": [
    {
     "name": "stdout",
     "output_type": "stream",
     "text": [
      "('495.0', '49.99')\n",
      "141\n",
      "('29.99', '61.8')\n",
      "104\n",
      "('99.99', '85.07')\n",
      "109\n",
      "('nan', '21.41')\n",
      "151\n",
      "('499.99', '219.99')\n",
      "93\n",
      "('89.99', '621.99')\n",
      "171\n"
     ]
    }
   ],
   "source": [
    "for df,lval,rval in explanations:\n",
    "    print((lval,rval))\n",
    "    print(len(df))"
   ]
  },
  {
   "cell_type": "code",
   "execution_count": null,
   "metadata": {},
   "outputs": [],
   "source": [
    "p1 =['microsoft windows','microsoft windows']\n",
    "explainer.testRobustness(testset_path='../../Structured/Amazon-Google/test_positives.csv',\n",
    "                         true_label=1,attribute='title',substitute_values=p1,\n",
    "                         strategy='concat')"
   ]
  },
  {
   "cell_type": "code",
   "execution_count": 12,
   "metadata": {},
   "outputs": [
    {
     "name": "stdout",
     "output_type": "stream",
     "text": [
      "===>  PREDICT Epoch 18\n",
      "Finished Epoch 18 || Run Time:    0.6 | Load Time:    1.0 || F1:   0.00 | Prec:   0.00 | Rec:   0.00 || Ex/s:   0.00\n",
      "\n",
      "===>  PREDICT Epoch 18\n",
      "Finished Epoch 18 || Run Time:    0.6 | Load Time:    1.1 || F1:   0.00 | Prec:   0.00 | Rec:   0.00 || Ex/s:   0.00\n",
      "\n"
     ]
    },
    {
     "data": {
      "text/plain": [
       "(990, 1009)"
      ]
     },
     "execution_count": 12,
     "metadata": {},
     "output_type": "execute_result"
    }
   ],
   "source": [
    "import numpy as np\n",
    "p2 = ['239.99','109.99']\n",
    "explainer.testRobustness(testset_path='../../Structured/Amazon-Google/positives.csv',\n",
    "                         true_label=1,attribute='price',substitute_values=p2,\n",
    "                         strategy='replace')"
   ]
  },
  {
   "cell_type": "markdown",
   "metadata": {},
   "source": [
    "## Inspect NN on critical attributes for negatives"
   ]
  },
  {
   "cell_type": "code",
   "execution_count": 7,
   "metadata": {
    "ExecuteTime": {
     "end_time": "2020-02-09T14:20:23.866515Z",
     "start_time": "2020-02-09T14:20:23.799190Z"
    }
   },
   "outputs": [],
   "source": [
    "DATASET_DIR = '../../datasets/Structured/Amazon-Google/'\n",
    "pos_nn_hybrid = pd.read_csv('experiment_results/testpos_nn_hybrid.csv')\n",
    "negatives = pd.read_csv(DATASET_DIR+'negatives.csv')"
   ]
  },
  {
   "cell_type": "code",
   "execution_count": 23,
   "metadata": {
    "ExecuteTime": {
     "end_time": "2020-02-09T14:28:39.811167Z",
     "start_time": "2020-02-09T14:28:39.693004Z"
    }
   },
   "outputs": [
    {
     "data": {
      "text/html": [
       "<div>\n",
       "<style scoped>\n",
       "    .dataframe tbody tr th:only-of-type {\n",
       "        vertical-align: middle;\n",
       "    }\n",
       "\n",
       "    .dataframe tbody tr th {\n",
       "        vertical-align: top;\n",
       "    }\n",
       "\n",
       "    .dataframe thead th {\n",
       "        text-align: right;\n",
       "    }\n",
       "</style>\n",
       "<table border=\"1\" class=\"dataframe\">\n",
       "  <thead>\n",
       "    <tr style=\"text-align: right;\">\n",
       "      <th></th>\n",
       "      <th>antecedents</th>\n",
       "      <th>consequents</th>\n",
       "      <th>antecedent support</th>\n",
       "      <th>consequent support</th>\n",
       "      <th>support</th>\n",
       "      <th>confidence</th>\n",
       "      <th>lift</th>\n",
       "      <th>leverage</th>\n",
       "      <th>conviction</th>\n",
       "      <th>antecedents_isleft</th>\n",
       "      <th>consequents_isright</th>\n",
       "    </tr>\n",
       "  </thead>\n",
       "  <tbody>\n",
       "    <tr>\n",
       "      <th>1316</th>\n",
       "      <td>(L_adobe)</td>\n",
       "      <td>(R_adobe)</td>\n",
       "      <td>0.162393</td>\n",
       "      <td>0.153846</td>\n",
       "      <td>0.153846</td>\n",
       "      <td>0.947368</td>\n",
       "      <td>6.157895</td>\n",
       "      <td>0.128863</td>\n",
       "      <td>16.076923</td>\n",
       "      <td>True</td>\n",
       "      <td>True</td>\n",
       "    </tr>\n",
       "    <tr>\n",
       "      <th>1320</th>\n",
       "      <td>(L_adobe)</td>\n",
       "      <td>(R_cs3)</td>\n",
       "      <td>0.162393</td>\n",
       "      <td>0.145299</td>\n",
       "      <td>0.145299</td>\n",
       "      <td>0.894737</td>\n",
       "      <td>6.157895</td>\n",
       "      <td>0.121704</td>\n",
       "      <td>8.119658</td>\n",
       "      <td>True</td>\n",
       "      <td>True</td>\n",
       "    </tr>\n",
       "    <tr>\n",
       "      <th>1341</th>\n",
       "      <td>(L_cs3)</td>\n",
       "      <td>(R_cs3)</td>\n",
       "      <td>0.145299</td>\n",
       "      <td>0.145299</td>\n",
       "      <td>0.145299</td>\n",
       "      <td>1.000000</td>\n",
       "      <td>6.882353</td>\n",
       "      <td>0.124187</td>\n",
       "      <td>inf</td>\n",
       "      <td>True</td>\n",
       "      <td>True</td>\n",
       "    </tr>\n",
       "    <tr>\n",
       "      <th>1347</th>\n",
       "      <td>(L_adobe, L_cs3)</td>\n",
       "      <td>(R_cs3)</td>\n",
       "      <td>0.145299</td>\n",
       "      <td>0.145299</td>\n",
       "      <td>0.145299</td>\n",
       "      <td>1.000000</td>\n",
       "      <td>6.882353</td>\n",
       "      <td>0.124187</td>\n",
       "      <td>inf</td>\n",
       "      <td>True</td>\n",
       "      <td>True</td>\n",
       "    </tr>\n",
       "    <tr>\n",
       "      <th>1327</th>\n",
       "      <td>(L_adobe)</td>\n",
       "      <td>(R_cs3, R_adobe)</td>\n",
       "      <td>0.162393</td>\n",
       "      <td>0.136752</td>\n",
       "      <td>0.136752</td>\n",
       "      <td>0.842105</td>\n",
       "      <td>6.157895</td>\n",
       "      <td>0.114545</td>\n",
       "      <td>5.467236</td>\n",
       "      <td>True</td>\n",
       "      <td>True</td>\n",
       "    </tr>\n",
       "    <tr>\n",
       "      <th>1344</th>\n",
       "      <td>(L_cs3)</td>\n",
       "      <td>(R_adobe)</td>\n",
       "      <td>0.145299</td>\n",
       "      <td>0.153846</td>\n",
       "      <td>0.136752</td>\n",
       "      <td>0.941176</td>\n",
       "      <td>6.117647</td>\n",
       "      <td>0.114398</td>\n",
       "      <td>14.384615</td>\n",
       "      <td>True</td>\n",
       "      <td>True</td>\n",
       "    </tr>\n",
       "    <tr>\n",
       "      <th>1352</th>\n",
       "      <td>(L_adobe, L_cs3)</td>\n",
       "      <td>(R_adobe)</td>\n",
       "      <td>0.145299</td>\n",
       "      <td>0.153846</td>\n",
       "      <td>0.136752</td>\n",
       "      <td>0.941176</td>\n",
       "      <td>6.117647</td>\n",
       "      <td>0.114398</td>\n",
       "      <td>14.384615</td>\n",
       "      <td>True</td>\n",
       "      <td>True</td>\n",
       "    </tr>\n",
       "    <tr>\n",
       "      <th>1362</th>\n",
       "      <td>(L_cs3)</td>\n",
       "      <td>(R_cs3, R_adobe)</td>\n",
       "      <td>0.145299</td>\n",
       "      <td>0.136752</td>\n",
       "      <td>0.136752</td>\n",
       "      <td>0.941176</td>\n",
       "      <td>6.882353</td>\n",
       "      <td>0.116882</td>\n",
       "      <td>14.675214</td>\n",
       "      <td>True</td>\n",
       "      <td>True</td>\n",
       "    </tr>\n",
       "    <tr>\n",
       "      <th>1369</th>\n",
       "      <td>(L_adobe, L_cs3)</td>\n",
       "      <td>(R_cs3, R_adobe)</td>\n",
       "      <td>0.145299</td>\n",
       "      <td>0.136752</td>\n",
       "      <td>0.136752</td>\n",
       "      <td>0.941176</td>\n",
       "      <td>6.882353</td>\n",
       "      <td>0.116882</td>\n",
       "      <td>14.675214</td>\n",
       "      <td>True</td>\n",
       "      <td>True</td>\n",
       "    </tr>\n",
       "    <tr>\n",
       "      <th>340</th>\n",
       "      <td>(L_adobe, L_], L_[)</td>\n",
       "      <td>(R_cs3)</td>\n",
       "      <td>0.119658</td>\n",
       "      <td>0.145299</td>\n",
       "      <td>0.115385</td>\n",
       "      <td>0.964286</td>\n",
       "      <td>6.636555</td>\n",
       "      <td>0.097998</td>\n",
       "      <td>23.931624</td>\n",
       "      <td>True</td>\n",
       "      <td>True</td>\n",
       "    </tr>\n",
       "    <tr>\n",
       "      <th>312</th>\n",
       "      <td>(L_adobe, L_[)</td>\n",
       "      <td>(R_cs3)</td>\n",
       "      <td>0.119658</td>\n",
       "      <td>0.145299</td>\n",
       "      <td>0.115385</td>\n",
       "      <td>0.964286</td>\n",
       "      <td>6.636555</td>\n",
       "      <td>0.097998</td>\n",
       "      <td>23.931624</td>\n",
       "      <td>True</td>\n",
       "      <td>True</td>\n",
       "    </tr>\n",
       "    <tr>\n",
       "      <th>316</th>\n",
       "      <td>(L_[, L_])</td>\n",
       "      <td>(R_cs3)</td>\n",
       "      <td>0.132479</td>\n",
       "      <td>0.145299</td>\n",
       "      <td>0.115385</td>\n",
       "      <td>0.870968</td>\n",
       "      <td>5.994307</td>\n",
       "      <td>0.096136</td>\n",
       "      <td>6.623932</td>\n",
       "      <td>True</td>\n",
       "      <td>True</td>\n",
       "    </tr>\n",
       "    <tr>\n",
       "      <th>329</th>\n",
       "      <td>(L_[, L_], L_cs3)</td>\n",
       "      <td>(R_cs3)</td>\n",
       "      <td>0.115385</td>\n",
       "      <td>0.145299</td>\n",
       "      <td>0.115385</td>\n",
       "      <td>1.000000</td>\n",
       "      <td>6.882353</td>\n",
       "      <td>0.098619</td>\n",
       "      <td>inf</td>\n",
       "      <td>True</td>\n",
       "      <td>True</td>\n",
       "    </tr>\n",
       "    <tr>\n",
       "      <th>4</th>\n",
       "      <td>(L_])</td>\n",
       "      <td>(R_cs3)</td>\n",
       "      <td>0.132479</td>\n",
       "      <td>0.145299</td>\n",
       "      <td>0.115385</td>\n",
       "      <td>0.870968</td>\n",
       "      <td>5.994307</td>\n",
       "      <td>0.096136</td>\n",
       "      <td>6.623932</td>\n",
       "      <td>True</td>\n",
       "      <td>True</td>\n",
       "    </tr>\n",
       "    <tr>\n",
       "      <th>310</th>\n",
       "      <td>(L_[, L_cs3)</td>\n",
       "      <td>(R_cs3)</td>\n",
       "      <td>0.115385</td>\n",
       "      <td>0.145299</td>\n",
       "      <td>0.115385</td>\n",
       "      <td>1.000000</td>\n",
       "      <td>6.882353</td>\n",
       "      <td>0.098619</td>\n",
       "      <td>inf</td>\n",
       "      <td>True</td>\n",
       "      <td>True</td>\n",
       "    </tr>\n",
       "    <tr>\n",
       "      <th>373</th>\n",
       "      <td>(L_[, L_mac)</td>\n",
       "      <td>(R_cs3)</td>\n",
       "      <td>0.115385</td>\n",
       "      <td>0.145299</td>\n",
       "      <td>0.115385</td>\n",
       "      <td>1.000000</td>\n",
       "      <td>6.882353</td>\n",
       "      <td>0.098619</td>\n",
       "      <td>inf</td>\n",
       "      <td>True</td>\n",
       "      <td>True</td>\n",
       "    </tr>\n",
       "    <tr>\n",
       "      <th>391</th>\n",
       "      <td>(L_[, L_mac, L_cs3)</td>\n",
       "      <td>(R_cs3)</td>\n",
       "      <td>0.115385</td>\n",
       "      <td>0.145299</td>\n",
       "      <td>0.115385</td>\n",
       "      <td>1.000000</td>\n",
       "      <td>6.882353</td>\n",
       "      <td>0.098619</td>\n",
       "      <td>inf</td>\n",
       "      <td>True</td>\n",
       "      <td>True</td>\n",
       "    </tr>\n",
       "    <tr>\n",
       "      <th>401</th>\n",
       "      <td>(L_adobe, L_mac, L_[)</td>\n",
       "      <td>(R_cs3)</td>\n",
       "      <td>0.115385</td>\n",
       "      <td>0.145299</td>\n",
       "      <td>0.115385</td>\n",
       "      <td>1.000000</td>\n",
       "      <td>6.882353</td>\n",
       "      <td>0.098619</td>\n",
       "      <td>inf</td>\n",
       "      <td>True</td>\n",
       "      <td>True</td>\n",
       "    </tr>\n",
       "    <tr>\n",
       "      <th>411</th>\n",
       "      <td>(L_[, L_mac, L_])</td>\n",
       "      <td>(R_cs3)</td>\n",
       "      <td>0.115385</td>\n",
       "      <td>0.145299</td>\n",
       "      <td>0.115385</td>\n",
       "      <td>1.000000</td>\n",
       "      <td>6.882353</td>\n",
       "      <td>0.098619</td>\n",
       "      <td>inf</td>\n",
       "      <td>True</td>\n",
       "      <td>True</td>\n",
       "    </tr>\n",
       "    <tr>\n",
       "      <th>456</th>\n",
       "      <td>(L_adobe, L_mac, L_cs3, L_[)</td>\n",
       "      <td>(R_cs3)</td>\n",
       "      <td>0.115385</td>\n",
       "      <td>0.145299</td>\n",
       "      <td>0.115385</td>\n",
       "      <td>1.000000</td>\n",
       "      <td>6.882353</td>\n",
       "      <td>0.098619</td>\n",
       "      <td>inf</td>\n",
       "      <td>True</td>\n",
       "      <td>True</td>\n",
       "    </tr>\n",
       "  </tbody>\n",
       "</table>\n",
       "</div>"
      ],
      "text/plain": [
       "                       antecedents       consequents  antecedent support  \\\n",
       "1316                     (L_adobe)         (R_adobe)            0.162393   \n",
       "1320                     (L_adobe)           (R_cs3)            0.162393   \n",
       "1341                       (L_cs3)           (R_cs3)            0.145299   \n",
       "1347              (L_adobe, L_cs3)           (R_cs3)            0.145299   \n",
       "1327                     (L_adobe)  (R_cs3, R_adobe)            0.162393   \n",
       "1344                       (L_cs3)         (R_adobe)            0.145299   \n",
       "1352              (L_adobe, L_cs3)         (R_adobe)            0.145299   \n",
       "1362                       (L_cs3)  (R_cs3, R_adobe)            0.145299   \n",
       "1369              (L_adobe, L_cs3)  (R_cs3, R_adobe)            0.145299   \n",
       "340            (L_adobe, L_], L_[)           (R_cs3)            0.119658   \n",
       "312                 (L_adobe, L_[)           (R_cs3)            0.119658   \n",
       "316                     (L_[, L_])           (R_cs3)            0.132479   \n",
       "329              (L_[, L_], L_cs3)           (R_cs3)            0.115385   \n",
       "4                            (L_])           (R_cs3)            0.132479   \n",
       "310                   (L_[, L_cs3)           (R_cs3)            0.115385   \n",
       "373                   (L_[, L_mac)           (R_cs3)            0.115385   \n",
       "391            (L_[, L_mac, L_cs3)           (R_cs3)            0.115385   \n",
       "401          (L_adobe, L_mac, L_[)           (R_cs3)            0.115385   \n",
       "411              (L_[, L_mac, L_])           (R_cs3)            0.115385   \n",
       "456   (L_adobe, L_mac, L_cs3, L_[)           (R_cs3)            0.115385   \n",
       "\n",
       "      consequent support   support  confidence      lift  leverage  \\\n",
       "1316            0.153846  0.153846    0.947368  6.157895  0.128863   \n",
       "1320            0.145299  0.145299    0.894737  6.157895  0.121704   \n",
       "1341            0.145299  0.145299    1.000000  6.882353  0.124187   \n",
       "1347            0.145299  0.145299    1.000000  6.882353  0.124187   \n",
       "1327            0.136752  0.136752    0.842105  6.157895  0.114545   \n",
       "1344            0.153846  0.136752    0.941176  6.117647  0.114398   \n",
       "1352            0.153846  0.136752    0.941176  6.117647  0.114398   \n",
       "1362            0.136752  0.136752    0.941176  6.882353  0.116882   \n",
       "1369            0.136752  0.136752    0.941176  6.882353  0.116882   \n",
       "340             0.145299  0.115385    0.964286  6.636555  0.097998   \n",
       "312             0.145299  0.115385    0.964286  6.636555  0.097998   \n",
       "316             0.145299  0.115385    0.870968  5.994307  0.096136   \n",
       "329             0.145299  0.115385    1.000000  6.882353  0.098619   \n",
       "4               0.145299  0.115385    0.870968  5.994307  0.096136   \n",
       "310             0.145299  0.115385    1.000000  6.882353  0.098619   \n",
       "373             0.145299  0.115385    1.000000  6.882353  0.098619   \n",
       "391             0.145299  0.115385    1.000000  6.882353  0.098619   \n",
       "401             0.145299  0.115385    1.000000  6.882353  0.098619   \n",
       "411             0.145299  0.115385    1.000000  6.882353  0.098619   \n",
       "456             0.145299  0.115385    1.000000  6.882353  0.098619   \n",
       "\n",
       "      conviction  antecedents_isleft  consequents_isright  \n",
       "1316   16.076923                True                 True  \n",
       "1320    8.119658                True                 True  \n",
       "1341         inf                True                 True  \n",
       "1347         inf                True                 True  \n",
       "1327    5.467236                True                 True  \n",
       "1344   14.384615                True                 True  \n",
       "1352   14.384615                True                 True  \n",
       "1362   14.675214                True                 True  \n",
       "1369   14.675214                True                 True  \n",
       "340    23.931624                True                 True  \n",
       "312    23.931624                True                 True  \n",
       "316     6.623932                True                 True  \n",
       "329          inf                True                 True  \n",
       "4       6.623932                True                 True  \n",
       "310          inf                True                 True  \n",
       "373          inf                True                 True  \n",
       "391          inf                True                 True  \n",
       "401          inf                True                 True  \n",
       "411          inf                True                 True  \n",
       "456          inf                True                 True  "
      ]
     },
     "execution_count": 23,
     "metadata": {},
     "output_type": "execute_result"
    }
   ],
   "source": [
    "association_rules = mineRules(pos_nn_hybrid,negatives,'title',min_confidence=0.8,min_support=0.1)\n",
    "association_rules = association_rules.sort_values(by=['support'],ascending=False)\n",
    "association_rules.head(20)"
   ]
  },
  {
   "cell_type": "code",
   "execution_count": 20,
   "metadata": {
    "ExecuteTime": {
     "end_time": "2020-02-09T14:25:52.869747Z",
     "start_time": "2020-02-09T14:25:49.953128Z"
    }
   },
   "outputs": [],
   "source": [
    "hybrid_model = dm.MatchingModel(attr_summarizer='hybrid')\n",
    "hybrid_model.load_state('../../models/amazongoogle_hybrid.pth')"
   ]
  },
  {
   "cell_type": "code",
   "execution_count": 21,
   "metadata": {
    "ExecuteTime": {
     "end_time": "2020-02-09T14:26:27.524460Z",
     "start_time": "2020-02-09T14:26:27.490142Z"
    }
   },
   "outputs": [],
   "source": [
    "hybridExp = Explainer(hybrid_model,10)"
   ]
  },
  {
   "cell_type": "code",
   "execution_count": 22,
   "metadata": {
    "ExecuteTime": {
     "end_time": "2020-02-09T14:28:07.505557Z",
     "start_time": "2020-02-09T14:27:54.122707Z"
    }
   },
   "outputs": [
    {
     "name": "stderr",
     "output_type": "stream",
     "text": [
      "\n",
      "Reading and processing data from \"../../datasets/Structured/Amazon-Google/test_positives.csv\"\n",
      "0% [############################# ] 100% | ETA: 00:00:00"
     ]
    },
    {
     "name": "stdout",
     "output_type": "stream",
     "text": [
      "===>  PREDICT Epoch 2\n"
     ]
    },
    {
     "name": "stderr",
     "output_type": "stream",
     "text": [
      "0% [█] 100% | ETA: 00:00:00\n",
      "Total time elapsed: 00:00:00\n",
      "\n",
      "Reading and processing data from \"temp/new_test.csv\"\n"
     ]
    },
    {
     "name": "stdout",
     "output_type": "stream",
     "text": [
      "Finished Epoch 2 || Run Time:    0.5 | Load Time:    0.3 || F1:   0.00 | Prec:   0.00 | Rec:   0.00 || Ex/s:   0.00\n",
      "\n"
     ]
    },
    {
     "name": "stderr",
     "output_type": "stream",
     "text": [
      "0% [############################# ] 100% | ETA: 00:00:00"
     ]
    },
    {
     "name": "stdout",
     "output_type": "stream",
     "text": [
      "===>  PREDICT Epoch 2\n"
     ]
    },
    {
     "name": "stderr",
     "output_type": "stream",
     "text": [
      "0% [█] 100% | ETA: 00:00:00\n",
      "Total time elapsed: 00:00:00\n"
     ]
    },
    {
     "name": "stdout",
     "output_type": "stream",
     "text": [
      "Finished Epoch 2 || Run Time:    0.5 | Load Time:    0.3 || F1:   0.00 | Prec:   0.00 | Rec:   0.00 || Ex/s:   0.00\n",
      "\n"
     ]
    },
    {
     "data": {
      "text/plain": [
       "(218, 215)"
      ]
     },
     "execution_count": 22,
     "metadata": {},
     "output_type": "execute_result"
    }
   ],
   "source": [
    "hybridExp.testRobustness('../../datasets/Structured/Amazon-Google/test_positives.csv',1,'title',\n",
    "                        ['adobe mac cs3','adobe'],strategy='concat')"
   ]
  },
  {
   "cell_type": "code",
   "execution_count": null,
   "metadata": {},
   "outputs": [],
   "source": []
  }
 ],
 "metadata": {
  "kernelspec": {
   "display_name": "Python 3",
   "language": "python",
   "name": "python3"
  },
  "language_info": {
   "codemirror_mode": {
    "name": "ipython",
    "version": 3
   },
   "file_extension": ".py",
   "mimetype": "text/x-python",
   "name": "python",
   "nbconvert_exporter": "python",
   "pygments_lexer": "ipython3",
   "version": "3.6.10"
  },
  "toc": {
   "base_numbering": 1,
   "nav_menu": {},
   "number_sections": true,
   "sideBar": true,
   "skip_h1_title": false,
   "title_cell": "Table of Contents",
   "title_sidebar": "Contents",
   "toc_cell": false,
   "toc_position": {},
   "toc_section_display": true,
   "toc_window_display": false
  }
 },
 "nbformat": 4,
 "nbformat_minor": 2
}

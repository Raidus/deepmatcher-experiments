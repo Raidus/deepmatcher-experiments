{
 "cells": [
  {
   "cell_type": "code",
   "execution_count": 6,
   "metadata": {},
   "outputs": [
    {
     "name": "stdout",
     "output_type": "stream",
     "text": [
      "The autoreload extension is already loaded. To reload it, use:\n",
      "  %reload_ext autoreload\n"
     ]
    }
   ],
   "source": [
    "%load_ext autoreload\n",
    "%autoreload 2"
   ]
  },
  {
   "cell_type": "code",
   "execution_count": 7,
   "metadata": {},
   "outputs": [],
   "source": [
    "import sys\n",
    "sys.path.append('../..')"
   ]
  },
  {
   "cell_type": "code",
   "execution_count": 8,
   "metadata": {},
   "outputs": [],
   "source": [
    "import pandas as pd\n",
    "import deepmatcher as dm\n",
    "from utils.explainer import Explainer\n",
    "from utils.patternDiscovery import mineRules"
   ]
  },
  {
   "cell_type": "code",
   "execution_count": 19,
   "metadata": {},
   "outputs": [
    {
     "data": {
      "text/html": [
       "<div>\n",
       "<style scoped>\n",
       "    .dataframe tbody tr th:only-of-type {\n",
       "        vertical-align: middle;\n",
       "    }\n",
       "\n",
       "    .dataframe tbody tr th {\n",
       "        vertical-align: top;\n",
       "    }\n",
       "\n",
       "    .dataframe thead th {\n",
       "        text-align: right;\n",
       "    }\n",
       "</style>\n",
       "<table border=\"1\" class=\"dataframe\">\n",
       "  <thead>\n",
       "    <tr style=\"text-align: right;\">\n",
       "      <th></th>\n",
       "      <th>antecedents</th>\n",
       "      <th>consequents</th>\n",
       "      <th>antecedent support</th>\n",
       "      <th>consequent support</th>\n",
       "      <th>support</th>\n",
       "      <th>confidence</th>\n",
       "      <th>lift</th>\n",
       "      <th>leverage</th>\n",
       "      <th>conviction</th>\n",
       "      <th>antecedents_isleft</th>\n",
       "      <th>consequents_isright</th>\n",
       "    </tr>\n",
       "  </thead>\n",
       "  <tbody>\n",
       "    <tr>\n",
       "      <th>3</th>\n",
       "      <td>(L_microsoft)</td>\n",
       "      <td>(R_microsoft)</td>\n",
       "      <td>0.243590</td>\n",
       "      <td>0.235043</td>\n",
       "      <td>0.235043</td>\n",
       "      <td>0.964912</td>\n",
       "      <td>4.105263</td>\n",
       "      <td>0.177789</td>\n",
       "      <td>21.801282</td>\n",
       "      <td>True</td>\n",
       "      <td>True</td>\n",
       "    </tr>\n",
       "    <tr>\n",
       "      <th>18</th>\n",
       "      <td>(L_adobe)</td>\n",
       "      <td>(R_adobe)</td>\n",
       "      <td>0.128205</td>\n",
       "      <td>0.175214</td>\n",
       "      <td>0.106838</td>\n",
       "      <td>0.833333</td>\n",
       "      <td>4.756098</td>\n",
       "      <td>0.084374</td>\n",
       "      <td>4.948718</td>\n",
       "      <td>True</td>\n",
       "      <td>True</td>\n",
       "    </tr>\n",
       "    <tr>\n",
       "      <th>23</th>\n",
       "      <td>(L_office)</td>\n",
       "      <td>(R_microsoft)</td>\n",
       "      <td>0.111111</td>\n",
       "      <td>0.235043</td>\n",
       "      <td>0.102564</td>\n",
       "      <td>0.923077</td>\n",
       "      <td>3.927273</td>\n",
       "      <td>0.076448</td>\n",
       "      <td>9.944444</td>\n",
       "      <td>True</td>\n",
       "      <td>True</td>\n",
       "    </tr>\n",
       "    <tr>\n",
       "      <th>25</th>\n",
       "      <td>(L_office, L_microsoft)</td>\n",
       "      <td>(R_microsoft)</td>\n",
       "      <td>0.106838</td>\n",
       "      <td>0.235043</td>\n",
       "      <td>0.102564</td>\n",
       "      <td>0.960000</td>\n",
       "      <td>4.084364</td>\n",
       "      <td>0.077453</td>\n",
       "      <td>19.123932</td>\n",
       "      <td>True</td>\n",
       "      <td>True</td>\n",
       "    </tr>\n",
       "  </tbody>\n",
       "</table>\n",
       "</div>"
      ],
      "text/plain": [
       "                antecedents    consequents  antecedent support  \\\n",
       "3             (L_microsoft)  (R_microsoft)            0.243590   \n",
       "18                (L_adobe)      (R_adobe)            0.128205   \n",
       "23               (L_office)  (R_microsoft)            0.111111   \n",
       "25  (L_office, L_microsoft)  (R_microsoft)            0.106838   \n",
       "\n",
       "    consequent support   support  confidence      lift  leverage  conviction  \\\n",
       "3             0.235043  0.235043    0.964912  4.105263  0.177789   21.801282   \n",
       "18            0.175214  0.106838    0.833333  4.756098  0.084374    4.948718   \n",
       "23            0.235043  0.102564    0.923077  3.927273  0.076448    9.944444   \n",
       "25            0.235043  0.102564    0.960000  4.084364  0.077453   19.123932   \n",
       "\n",
       "    antecedents_isleft  consequents_isright  \n",
       "3                 True                 True  \n",
       "18                True                 True  \n",
       "23                True                 True  \n",
       "25                True                 True  "
      ]
     },
     "execution_count": 19,
     "metadata": {},
     "output_type": "execute_result"
    }
   ],
   "source": [
    "pos_nn = pd.read_csv('experiment_results/testposNN_RNN.csv')\n",
    "negatives = pd.read_csv('../../Structured/Amazon-Google/negatives.csv')\n",
    "association_rules = mineRules(pos_nn,negatives,'title',min_confidence=0.8,min_support=0.1)\n",
    "association_rules.head()"
   ]
  },
  {
   "cell_type": "code",
   "execution_count": 10,
   "metadata": {},
   "outputs": [
    {
     "data": {
      "text/html": [
       "<div>\n",
       "<style scoped>\n",
       "    .dataframe tbody tr th:only-of-type {\n",
       "        vertical-align: middle;\n",
       "    }\n",
       "\n",
       "    .dataframe tbody tr th {\n",
       "        vertical-align: top;\n",
       "    }\n",
       "\n",
       "    .dataframe thead th {\n",
       "        text-align: right;\n",
       "    }\n",
       "</style>\n",
       "<table border=\"1\" class=\"dataframe\">\n",
       "  <thead>\n",
       "    <tr style=\"text-align: right;\">\n",
       "      <th></th>\n",
       "      <th>antecedents</th>\n",
       "      <th>consequents</th>\n",
       "      <th>antecedent support</th>\n",
       "      <th>consequent support</th>\n",
       "      <th>support</th>\n",
       "      <th>confidence</th>\n",
       "      <th>lift</th>\n",
       "      <th>leverage</th>\n",
       "      <th>conviction</th>\n",
       "      <th>antecedents_isleft</th>\n",
       "      <th>consequents_isright</th>\n",
       "    </tr>\n",
       "  </thead>\n",
       "  <tbody>\n",
       "  </tbody>\n",
       "</table>\n",
       "</div>"
      ],
      "text/plain": [
       "Empty DataFrame\n",
       "Columns: [antecedents, consequents, antecedent support, consequent support, support, confidence, lift, leverage, conviction, antecedents_isleft, consequents_isright]\n",
       "Index: []"
      ]
     },
     "execution_count": 10,
     "metadata": {},
     "output_type": "execute_result"
    }
   ],
   "source": [
    "association_rules_onprice = mineRules(pos_nn,negatives,'price',min_confidence=0.5,min_support=0.05)\n",
    "association_rules_onprice.head()"
   ]
  },
  {
   "cell_type": "code",
   "execution_count": 22,
   "metadata": {},
   "outputs": [
    {
     "data": {
      "text/plain": [
       "234"
      ]
     },
     "execution_count": 22,
     "metadata": {},
     "output_type": "execute_result"
    }
   ],
   "source": [
    "len(pos_nn)"
   ]
  },
  {
   "cell_type": "code",
   "execution_count": 33,
   "metadata": {},
   "outputs": [],
   "source": [
    "train = pd.read_csv('../../Structured/Amazon-Google/merged_train.csv')\n",
    "price_distribution = dict(train.groupby(by=['ltable_price','rtable_price']).size())"
   ]
  },
  {
   "cell_type": "markdown",
   "metadata": {},
   "source": [
    "## Test patterns"
   ]
  },
  {
   "cell_type": "code",
   "execution_count": 20,
   "metadata": {},
   "outputs": [],
   "source": [
    "rnn_model = dm.MatchingModel(attr_summarizer='rnn')\n",
    "rnn_model.load_state('../../models/amazongoogle_rnn.pth')\n",
    "explainer = Explainer(rnn_model,10)"
   ]
  },
  {
   "cell_type": "code",
   "execution_count": 21,
   "metadata": {},
   "outputs": [],
   "source": [
    "%%capture\n",
    "explanations = explainer.generateExplanations(pos_nn,negatives,'price',0.03,\n",
    "                                              '../../Structured/Amazon-Google/test_positives.csv',1)"
   ]
  },
  {
   "cell_type": "code",
   "execution_count": 22,
   "metadata": {},
   "outputs": [
    {
     "name": "stdout",
     "output_type": "stream",
     "text": [
      "('495.0', '49.99')\n",
      "141\n",
      "('29.99', '61.8')\n",
      "104\n",
      "('99.99', '85.07')\n",
      "109\n",
      "('nan', '21.41')\n",
      "151\n",
      "('499.99', '219.99')\n",
      "93\n",
      "('89.99', '621.99')\n",
      "171\n"
     ]
    }
   ],
   "source": [
    "for df,lval,rval in explanations:\n",
    "    print((lval,rval))\n",
    "    print(len(df))"
   ]
  },
  {
   "cell_type": "code",
   "execution_count": null,
   "metadata": {},
   "outputs": [],
   "source": [
    "p1 =['microsoft windows','microsoft windows']\n",
    "explainer.testRobustness(testset_path='../../Structured/Amazon-Google/test_positives.csv',\n",
    "                         true_label=1,attribute='title',substitute_values=p1,\n",
    "                         strategy='concat')"
   ]
  },
  {
   "cell_type": "code",
   "execution_count": 12,
   "metadata": {},
   "outputs": [
    {
     "name": "stdout",
     "output_type": "stream",
     "text": [
      "===>  PREDICT Epoch 18\n",
      "Finished Epoch 18 || Run Time:    0.6 | Load Time:    1.0 || F1:   0.00 | Prec:   0.00 | Rec:   0.00 || Ex/s:   0.00\n",
      "\n",
      "===>  PREDICT Epoch 18\n",
      "Finished Epoch 18 || Run Time:    0.6 | Load Time:    1.1 || F1:   0.00 | Prec:   0.00 | Rec:   0.00 || Ex/s:   0.00\n",
      "\n"
     ]
    },
    {
     "data": {
      "text/plain": [
       "(990, 1009)"
      ]
     },
     "execution_count": 12,
     "metadata": {},
     "output_type": "execute_result"
    }
   ],
   "source": [
    "import numpy as np\n",
    "p2 = ['239.99','109.99']\n",
    "explainer.testRobustness(testset_path='../../Structured/Amazon-Google/positives.csv',\n",
    "                         true_label=1,attribute='price',substitute_values=p2,\n",
    "                         strategy='replace')"
   ]
  },
  {
   "cell_type": "markdown",
   "metadata": {},
   "source": [
    "## Inspect NN on critical attributes for negatives"
   ]
  },
  {
   "cell_type": "code",
   "execution_count": null,
   "metadata": {},
   "outputs": [],
   "source": [
    "negNN = pd.read_csv('experiment_results/testnegNN_RNN.csv')\n",
    "trainPos = pd.read_csv('../../Structured/Amazon-Google/train_positives.csv')\n",
    "transactions = preProcessNeighbors(negNN,trainPos,'price')"
   ]
  },
  {
   "cell_type": "code",
   "execution_count": null,
   "metadata": {},
   "outputs": [],
   "source": []
  }
 ],
 "metadata": {
  "kernelspec": {
   "display_name": "Python 3",
   "language": "python",
   "name": "python3"
  },
  "language_info": {
   "codemirror_mode": {
    "name": "ipython",
    "version": 3
   },
   "file_extension": ".py",
   "mimetype": "text/x-python",
   "name": "python",
   "nbconvert_exporter": "python",
   "pygments_lexer": "ipython3",
   "version": "3.6.9"
  }
 },
 "nbformat": 4,
 "nbformat_minor": 2
}

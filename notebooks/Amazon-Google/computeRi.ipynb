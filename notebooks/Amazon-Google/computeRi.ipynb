{
 "cells": [
  {
   "cell_type": "code",
   "execution_count": 1,
   "metadata": {},
   "outputs": [],
   "source": [
    "%load_ext autoreload\n",
    "%autoreload 2"
   ]
  },
  {
   "cell_type": "code",
   "execution_count": 2,
   "metadata": {},
   "outputs": [],
   "source": [
    "import sys\n",
    "sys.path.append(\"../..\")"
   ]
  },
  {
   "cell_type": "code",
   "execution_count": 11,
   "metadata": {},
   "outputs": [],
   "source": [
    "import deepmatcher as dm\n",
    "from utilities_functions.intermediate_layer_extraction import return_layer_input_output,return_layer_input\n",
    "from utilities_functions.ri_calculator import find_smallest_variation_to_change\n",
    "from utilities_functions.explainer import generateExplanations\n",
    "import torch\n",
    "import pandas as pd\n",
    "from tqdm import tqdm"
   ]
  },
  {
   "cell_type": "code",
   "execution_count": 4,
   "metadata": {},
   "outputs": [],
   "source": [
    "attributes =['title','manufacturer','price']"
   ]
  },
  {
   "cell_type": "code",
   "execution_count": 5,
   "metadata": {},
   "outputs": [],
   "source": [
    "model = dm.MatchingModel(attr_summarizer='hybrid')\n",
    "model.load_state('../../models/amazongoogle_hybrid.pth')"
   ]
  },
  {
   "cell_type": "code",
   "execution_count": 6,
   "metadata": {},
   "outputs": [],
   "source": [
    "testneg_classifier_inputs,testneg_ids = return_layer_input('../../Structured/Amazon-Google/'\n",
    "                                                                         ,'test_negatives',128,model,\n",
    "                                                                        model.classifier,device=-1)"
   ]
  },
  {
   "cell_type": "code",
   "execution_count": 7,
   "metadata": {},
   "outputs": [],
   "source": [
    "testpos_classifier_inputs,testpos_ids = return_layer_input('../../Structured/Amazon-Google/',\n",
    "                                                                       'test_positives',128,model,\n",
    "                                                                       model.classifier,device=-1)"
   ]
  },
  {
   "cell_type": "code",
   "execution_count": 11,
   "metadata": {},
   "outputs": [],
   "source": [
    "neg_classifier_inputs,neg_ids = return_layer_input('../../Structured/Amazon-Google/'\n",
    "                                                                         ,'negatives',128,model,\n",
    "                                                                        model.classifier,device=-1)"
   ]
  },
  {
   "cell_type": "code",
   "execution_count": 12,
   "metadata": {},
   "outputs": [],
   "source": [
    "pos_classifier_inputs,pos_ids = return_layer_input('../../Structured/Amazon-Google/','positives',128,model,\n",
    "                                                  model.classifier,device=-1)"
   ]
  },
  {
   "cell_type": "code",
   "execution_count": 8,
   "metadata": {},
   "outputs": [],
   "source": [
    "model = model.cuda()"
   ]
  },
  {
   "cell_type": "code",
   "execution_count": 9,
   "metadata": {},
   "outputs": [],
   "source": [
    "attribute_length = int((300*3)/len(attributes))\n",
    "classifier_length = int(attribute_length*len(attributes))"
   ]
  },
  {
   "cell_type": "markdown",
   "metadata": {},
   "source": [
    "## Test negatives analysis"
   ]
  },
  {
   "cell_type": "code",
   "execution_count": 12,
   "metadata": {},
   "outputs": [
    {
     "name": "stderr",
     "output_type": "stream",
     "text": [
      "100%|██████████| 128/128 [02:06<00:00,  1.01it/s]\n",
      "100%|██████████| 128/128 [02:04<00:00,  1.03it/s]\n",
      "100%|██████████| 128/128 [02:04<00:00,  1.03it/s]\n",
      "100%|██████████| 128/128 [01:53<00:00,  1.13it/s]\n",
      "100%|██████████| 128/128 [02:00<00:00,  1.06it/s]\n",
      "100%|██████████| 128/128 [01:59<00:00,  1.07it/s]\n",
      "100%|██████████| 11/11 [00:03<00:00,  3.04it/s]\n",
      "100%|██████████| 128/128 [02:09<00:00,  1.01s/it]\n",
      "100%|██████████| 128/128 [02:08<00:00,  1.01s/it]\n",
      "100%|██████████| 128/128 [01:59<00:00,  1.07it/s]\n",
      "100%|██████████| 128/128 [02:00<00:00,  1.06it/s]\n",
      "100%|██████████| 128/128 [01:59<00:00,  1.07it/s]\n",
      "100%|██████████| 128/128 [01:57<00:00,  1.09it/s]\n",
      "100%|██████████| 128/128 [02:07<00:00,  1.00it/s]\n",
      "100%|██████████| 128/128 [02:10<00:00,  1.02s/it]\n",
      "100%|██████████| 128/128 [02:03<00:00,  1.03it/s]\n",
      "100%|██████████| 128/128 [02:08<00:00,  1.00s/it]\n"
     ]
    }
   ],
   "source": [
    "current_sample = 0\n",
    "#each column of this matrix is related to a specific attribute\n",
    "negatives_ri = []\n",
    "for batch in testneg_classifier_inputs:\n",
    "    for sample_index in tqdm(range(len(batch))):\n",
    "        current_sample_ris = list(map(lambda att: find_smallest_variation_to_change(model.classifier,\n",
    "                                                                                    classifier_length=classifier_length,\n",
    "                                                                                    attribute_length=attribute_length,\n",
    "                                                                                    input_matrix=batch,\n",
    "                                                                                    vector_index=sample_index,\n",
    "                                                                                    attributes=[attributes.index(att)]\n",
    "                                                                                    ,class_to_reach=1,\n",
    "                                                                                   learning_rate=1),attributes))\n",
    "        negatives_ri.append(current_sample_ris)\n",
    "        current_sample+=1"
   ]
  },
  {
   "cell_type": "code",
   "execution_count": 13,
   "metadata": {},
   "outputs": [],
   "source": [
    "ri_norms_negative_samples = []\n",
    "for ri_list in negatives_ri:\n",
    "    ri_norms_negative_samples.append(list(map(lambda x:torch.norm(x).data[0],ri_list)))\n",
    "negatives_variation_df = pd.DataFrame(data= ri_norms_negative_samples,columns=attributes)"
   ]
  },
  {
   "cell_type": "code",
   "execution_count": 14,
   "metadata": {},
   "outputs": [],
   "source": [
    "##save to file\n",
    "negatives_variation_df.to_csv('experiment_results/testneg_ri_v2.csv',index=False)"
   ]
  },
  {
   "cell_type": "code",
   "execution_count": 16,
   "metadata": {},
   "outputs": [
    {
     "data": {
      "text/plain": [
       "<matplotlib.axes._subplots.AxesSubplot at 0x7f49d4504160>"
      ]
     },
     "execution_count": 16,
     "metadata": {},
     "output_type": "execute_result"
    },
    {
     "data": {
      "image/png": "[encoded data removed]",
      "text/plain": [
       "<Figure size 432x288 with 1 Axes>"
      ]
     },
     "metadata": {
      "needs_background": "light"
     },
     "output_type": "display_data"
    }
   ],
   "source": [
    "ri_sum_negatives = negatives_variation_df.sum(numeric_only=True)\n",
    "ri_sum_negatives.plot.bar()"
   ]
  },
  {
   "cell_type": "markdown",
   "metadata": {},
   "source": [
    "## Test positives analysis"
   ]
  },
  {
   "cell_type": "code",
   "execution_count": 18,
   "metadata": {},
   "outputs": [
    {
     "name": "stderr",
     "output_type": "stream",
     "text": [
      "100%|██████████| 106/106 [00:50<00:00,  2.11it/s]\n",
      " 54%|█████▍    | 69/128 [00:33<00:23,  2.52it/s]"
     ]
    },
    {
     "name": "stdout",
     "output_type": "stream",
     "text": [
      " Gradient is null\n",
      " Gradient is null\n",
      " Gradient is null\n"
     ]
    },
    {
     "name": "stderr",
     "output_type": "stream",
     "text": [
      "100%|██████████| 128/128 [00:57<00:00,  2.24it/s]\n"
     ]
    }
   ],
   "source": [
    "current_sample = 0\n",
    "#each column of this matrix is related to a specific attribute\n",
    "positives_ri = []\n",
    "for batch in testpos_classifier_inputs:\n",
    "    for sample_index in tqdm(range(len(batch))):\n",
    "        current_sample_ris = list(map(lambda att: find_smallest_variation_to_change(model.classifier,\n",
    "                                                                                    classifier_length=classifier_length,\n",
    "                                                                                    attribute_length=attribute_length,\n",
    "                                                                                    input_matrix=batch,\n",
    "                                                                                    vector_index=sample_index,\n",
    "                                                                                    attributes=[attributes.index(att)]\n",
    "                                                                                    ,class_to_reach=0\n",
    "                                                                                   ,learning_rate=1),attributes))\n",
    "        positives_ri.append(current_sample_ris)\n",
    "        current_sample+=1"
   ]
  },
  {
   "cell_type": "code",
   "execution_count": 20,
   "metadata": {},
   "outputs": [],
   "source": [
    "ri_norms_positives = []\n",
    "for ri_list in positives_ri:\n",
    "    ri_norms_positives.append(list(map(lambda x:torch.norm(x).data[0],ri_list)))\n",
    "positives_variation_df = pd.DataFrame(data= ri_norms_positives,columns=attributes)"
   ]
  },
  {
   "cell_type": "code",
   "execution_count": 21,
   "metadata": {},
   "outputs": [],
   "source": [
    "##Save results to file\n",
    "positives_variation_df.to_csv('experiment_results/testpositives_ri_v2.csv',index=False)"
   ]
  },
  {
   "cell_type": "code",
   "execution_count": 22,
   "metadata": {},
   "outputs": [
    {
     "data": {
      "text/plain": [
       "<matplotlib.axes._subplots.AxesSubplot at 0x7f4a4004e358>"
      ]
     },
     "execution_count": 22,
     "metadata": {},
     "output_type": "execute_result"
    },
    {
     "data": {
      "image/png": "[encoded data removed]",
      "text/plain": [
       "<Figure size 432x288 with 1 Axes>"
      ]
     },
     "metadata": {
      "needs_background": "light"
     },
     "output_type": "display_data"
    }
   ],
   "source": [
    "ri_sums = positives_variation_df.sum(numeric_only=True)\n",
    "ri_sums.plot.bar()"
   ]
  },
  {
   "cell_type": "markdown",
   "metadata": {},
   "source": [
    "## Compute nearest neighbours"
   ]
  },
  {
   "cell_type": "code",
   "execution_count": 56,
   "metadata": {},
   "outputs": [],
   "source": [
    "from utilities_functions.distance_measures import nearest_neighbour,nearest_neighbour_onAttribute"
   ]
  },
  {
   "cell_type": "code",
   "execution_count": null,
   "metadata": {},
   "outputs": [],
   "source": [
    "#lista di tuple: vettore più vicino considerando tutti gli elementi e closer solo secondo un attributo\n",
    "negatives_closer_vectors = []\n",
    "i = 0\n",
    "for batch in negatives:\n",
    "    for sample in batch:\n",
    "        current_sample_closer_vectors = list(map(lambda att: nearest_neighbour_onAttribute\n",
    "                                                 (sample+negatives_ri[i][attributes.index(att)]\n",
    "                                                                ,positives,attributes.index(att),\n",
    "                                                                attribute_length,'cosine'),attributes))\n",
    "        negatives_closer_vectors.append(current_sample_closer_vectors)\n",
    "        i += 1"
   ]
  },
  {
   "cell_type": "code",
   "execution_count": null,
   "metadata": {},
   "outputs": [],
   "source": [
    "# per ogni attributo trovo il più vicino\n",
    "positives_closer_vectors = []\n",
    "i = 0\n",
    "for batch in positives:\n",
    "    for sample in batch:\n",
    "        current_sample_closer_vectors = list(map(lambda att: nearest_neighbour_onAttribute\n",
    "                                                 (sample+positives_ri[i][attributes.index(att)]\n",
    "                                                                ,negatives,attributes.index(att),\n",
    "                                                                attribute_length,'cosine'),attributes))\n",
    "        positives_closer_vectors.append(current_sample_closer_vectors)\n",
    "        i += 1 "
   ]
  },
  {
   "cell_type": "code",
   "execution_count": null,
   "metadata": {},
   "outputs": [],
   "source": [
    "positives_closer_vectors_df = pd.DataFrame(data= positives_closer_vectors,columns =attributes)\n",
    "positives_closer_vectors_df = positives_closer_vectors_df.applymap(lambda c:neg_ids[c])\n",
    "negatives_closer_vectors_df = pd.DataFrame(data = negatives_closer_vectors, columns = attributes)\n",
    "negatives_closer_vectors_df = negatives_closer_vectors_df.applymap(lambda c:pos_ids[c])"
   ]
  },
  {
   "cell_type": "code",
   "execution_count": null,
   "metadata": {},
   "outputs": [],
   "source": [
    "positives_closer_vectors_df['SampleID'] = pos_ids\n",
    "negatives_closer_vectors_df['SampleID'] = neg_ids"
   ]
  },
  {
   "cell_type": "code",
   "execution_count": null,
   "metadata": {},
   "outputs": [],
   "source": [
    "positives_closer_vectors_df.to_csv('experiment_results/positives_nn.csv',index=False)\n",
    "negatives_closer_vectors_df.to_csv('experiment_results/negatives_nn.csv',index=False)"
   ]
  },
  {
   "cell_type": "code",
   "execution_count": null,
   "metadata": {},
   "outputs": [],
   "source": []
  }
 ],
 "metadata": {
  "kernelspec": {
   "display_name": "Python 3",
   "language": "python",
   "name": "python3"
  },
  "language_info": {
   "codemirror_mode": {
    "name": "ipython",
    "version": 3
   },
   "file_extension": ".py",
   "mimetype": "text/x-python",
   "name": "python",
   "nbconvert_exporter": "python",
   "pygments_lexer": "ipython3",
   "version": "3.6.9"
  }
 },
 "nbformat": 4,
 "nbformat_minor": 2
}

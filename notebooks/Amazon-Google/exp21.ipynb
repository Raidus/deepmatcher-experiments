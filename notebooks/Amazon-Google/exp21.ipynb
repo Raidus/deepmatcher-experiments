{
 "cells": [
  {
   "cell_type": "code",
   "execution_count": 19,
   "metadata": {},
   "outputs": [],
   "source": [
    "import sys\n",
    "sys.path.append('../..')"
   ]
  },
  {
   "cell_type": "code",
   "execution_count": 1,
   "metadata": {},
   "outputs": [],
   "source": [
    "import deepmatcher as dm\n",
    "import pandas as pd"
   ]
  },
  {
   "cell_type": "code",
   "execution_count": 2,
   "metadata": {},
   "outputs": [],
   "source": [
    "train_df = pd.read_csv('../../Structured/Amazon-Google/merged_train.csv')\n",
    "valid_df = pd.read_csv('../../Structured/Amazon-Google/merged_valid.csv')\n",
    "test_df = pd.read_csv('../../Structured/Amazon-Google/merged_test.csv')"
   ]
  },
  {
   "cell_type": "code",
   "execution_count": 5,
   "metadata": {},
   "outputs": [],
   "source": [
    "all_df = pd.concat([train_df,valid_df,test_df])\n",
    "all_df['ltable_price'] = \"price 1\"\n",
    "all_df['rtable_price'] = \"price 2\""
   ]
  },
  {
   "cell_type": "code",
   "execution_count": 8,
   "metadata": {},
   "outputs": [],
   "source": [
    "import numpy as np\n",
    "train, validate, test = np.split(all_df.sample(frac=1), [int(.6*len(all_df)), int(.8*len(all_df))])"
   ]
  },
  {
   "cell_type": "code",
   "execution_count": 12,
   "metadata": {},
   "outputs": [],
   "source": [
    "train.to_csv('temp/train_const.csv',index=False)\n",
    "validate.to_csv('temp/validation_const.csv',index=False)\n",
    "test.to_csv('temp/test_const.csv',index=False)"
   ]
  },
  {
   "cell_type": "code",
   "execution_count": 13,
   "metadata": {},
   "outputs": [],
   "source": [
    "train,validation,test = dm.data.process('temp',train='train_const.csv',validation='validation_const.csv',\n",
    "                                       test='test_const.csv',left_prefix='ltable_',right_prefix='rtable_')"
   ]
  },
  {
   "cell_type": "code",
   "execution_count": 14,
   "metadata": {},
   "outputs": [
    {
     "name": "stdout",
     "output_type": "stream",
     "text": [
      "* Number of trainable parameters: 1762802\n",
      "===>  TRAIN Epoch 1\n",
      "Finished Epoch 1 || Run Time:   12.3 | Load Time:    8.4 || F1:  23.26 | Prec:  13.28 | Rec:  93.44 || Ex/s: 332.22\n",
      "\n",
      "===>  EVAL Epoch 1\n",
      "Finished Epoch 1 || Run Time:    0.8 | Load Time:    1.9 || F1:  33.02 | Prec:  20.27 | Rec:  89.03 || Ex/s: 839.25\n",
      "\n",
      "* Best F1: 33.020344287949925\n",
      "Saving best model...\n",
      "Done.\n",
      "---------------------\n",
      "\n",
      "===>  TRAIN Epoch 2\n",
      "Finished Epoch 2 || Run Time:   12.5 | Load Time:    8.6 || F1:  36.54 | Prec:  22.54 | Rec:  96.36 || Ex/s: 325.90\n",
      "\n",
      "===>  EVAL Epoch 2\n",
      "Finished Epoch 2 || Run Time:    0.9 | Load Time:    2.0 || F1:  43.30 | Prec:  29.27 | Rec:  83.12 || Ex/s: 776.62\n",
      "\n",
      "* Best F1: 43.2967032967033\n",
      "Saving best model...\n",
      "Done.\n",
      "---------------------\n",
      "\n",
      "===>  TRAIN Epoch 3\n",
      "Finished Epoch 3 || Run Time:   12.1 | Load Time:    8.6 || F1:  56.15 | Prec:  39.42 | Rec:  97.52 || Ex/s: 331.53\n",
      "\n",
      "===>  EVAL Epoch 3\n",
      "Finished Epoch 3 || Run Time:    0.9 | Load Time:    2.0 || F1:  48.03 | Prec:  33.91 | Rec:  82.28 || Ex/s: 785.37\n",
      "\n",
      "* Best F1: 48.029556650246306\n",
      "Saving best model...\n",
      "Done.\n",
      "---------------------\n",
      "\n",
      "===>  TRAIN Epoch 4\n",
      "Finished Epoch 4 || Run Time:   12.4 | Load Time:    8.5 || F1:  71.93 | Prec:  56.73 | Rec:  98.25 || Ex/s: 329.42\n",
      "\n",
      "===>  EVAL Epoch 4\n",
      "Finished Epoch 4 || Run Time:    0.9 | Load Time:    2.0 || F1:  53.21 | Prec:  41.73 | Rec:  73.42 || Ex/s: 790.87\n",
      "\n",
      "* Best F1: 53.21100917431193\n",
      "Saving best model...\n",
      "Done.\n",
      "---------------------\n",
      "\n",
      "===>  TRAIN Epoch 5\n",
      "Finished Epoch 5 || Run Time:   12.5 | Load Time:    8.6 || F1:  79.30 | Prec:  66.21 | Rec:  98.83 || Ex/s: 326.36\n",
      "\n",
      "===>  EVAL Epoch 5\n",
      "Finished Epoch 5 || Run Time:    0.9 | Load Time:    2.0 || F1:  54.07 | Prec:  48.18 | Rec:  61.60 || Ex/s: 799.32\n",
      "\n",
      "* Best F1: 54.07407407407407\n",
      "Saving best model...\n",
      "Done.\n",
      "---------------------\n",
      "\n",
      "===>  TRAIN Epoch 6\n",
      "Finished Epoch 6 || Run Time:   12.4 | Load Time:    8.4 || F1:  83.90 | Prec:  72.73 | Rec:  99.13 || Ex/s: 330.93\n",
      "\n",
      "===>  EVAL Epoch 6\n",
      "Finished Epoch 6 || Run Time:    0.9 | Load Time:    2.0 || F1:  55.66 | Prec:  49.67 | Rec:  63.29 || Ex/s: 782.04\n",
      "\n",
      "* Best F1: 55.65862708719852\n",
      "Saving best model...\n",
      "Done.\n",
      "---------------------\n",
      "\n",
      "===>  TRAIN Epoch 7\n",
      "Finished Epoch 7 || Run Time:   12.4 | Load Time:    8.5 || F1:  87.81 | Prec:  78.73 | Rec:  99.27 || Ex/s: 329.07\n",
      "\n",
      "===>  EVAL Epoch 7\n",
      "Finished Epoch 7 || Run Time:    0.9 | Load Time:    2.0 || F1:  56.92 | Prec:  53.53 | Rec:  60.76 || Ex/s: 784.91\n",
      "\n",
      "* Best F1: 56.91699604743083\n",
      "Saving best model...\n",
      "Done.\n",
      "---------------------\n",
      "\n",
      "===>  TRAIN Epoch 8\n",
      "Finished Epoch 8 || Run Time:   12.4 | Load Time:    8.5 || F1:  91.07 | Prec:  83.91 | Rec:  99.56 || Ex/s: 328.48\n",
      "\n",
      "===>  EVAL Epoch 8\n",
      "Finished Epoch 8 || Run Time:    0.9 | Load Time:    2.0 || F1:  56.92 | Prec:  52.90 | Rec:  61.60 || Ex/s: 792.60\n",
      "\n",
      "* Best F1: 56.92007797270955\n",
      "Saving best model...\n",
      "Done.\n",
      "---------------------\n",
      "\n",
      "===>  TRAIN Epoch 9\n",
      "Finished Epoch 9 || Run Time:   12.6 | Load Time:    8.5 || F1:  92.55 | Prec:  86.46 | Rec:  99.56 || Ex/s: 325.73\n",
      "\n",
      "===>  EVAL Epoch 9\n",
      "Finished Epoch 9 || Run Time:    0.9 | Load Time:    2.0 || F1:  55.85 | Prec:  54.40 | Rec:  57.38 || Ex/s: 783.49\n",
      "\n",
      "---------------------\n",
      "\n",
      "===>  TRAIN Epoch 10\n",
      "Finished Epoch 10 || Run Time:   12.4 | Load Time:    8.5 || F1:  93.63 | Prec:  88.36 | Rec:  99.56 || Ex/s: 328.15\n",
      "\n",
      "===>  EVAL Epoch 10\n",
      "Finished Epoch 10 || Run Time:    0.9 | Load Time:    2.0 || F1:  55.13 | Prec:  55.84 | Rec:  54.43 || Ex/s: 783.22\n",
      "\n",
      "---------------------\n",
      "\n",
      "===>  TRAIN Epoch 11\n",
      "Finished Epoch 11 || Run Time:   12.3 | Load Time:    8.5 || F1:  94.73 | Prec:  90.34 | Rec:  99.56 || Ex/s: 329.31\n",
      "\n",
      "===>  EVAL Epoch 11\n",
      "Finished Epoch 11 || Run Time:    0.9 | Load Time:    2.0 || F1:  54.90 | Prec:  56.76 | Rec:  53.16 || Ex/s: 805.26\n",
      "\n",
      "---------------------\n",
      "\n",
      "===>  TRAIN Epoch 12\n",
      "Finished Epoch 12 || Run Time:   12.2 | Load Time:    8.4 || F1:  95.60 | Prec:  91.81 | Rec:  99.71 || Ex/s: 334.02\n",
      "\n",
      "===>  EVAL Epoch 12\n",
      "Finished Epoch 12 || Run Time:    0.9 | Load Time:    1.9 || F1:  54.70 | Prec:  56.82 | Rec:  52.74 || Ex/s: 823.82\n",
      "\n",
      "---------------------\n",
      "\n",
      "===>  TRAIN Epoch 13\n",
      "Finished Epoch 13 || Run Time:   12.0 | Load Time:    8.1 || F1:  95.73 | Prec:  92.06 | Rec:  99.71 || Ex/s: 341.59\n",
      "\n",
      "===>  EVAL Epoch 13\n",
      "Finished Epoch 13 || Run Time:    0.9 | Load Time:    1.9 || F1:  54.15 | Prec:  56.11 | Rec:  52.32 || Ex/s: 809.84\n",
      "\n",
      "---------------------\n",
      "\n",
      "===>  TRAIN Epoch 14\n",
      "Finished Epoch 14 || Run Time:   12.3 | Load Time:    8.5 || F1:  95.87 | Prec:  92.31 | Rec:  99.71 || Ex/s: 331.14\n",
      "\n",
      "===>  EVAL Epoch 14\n",
      "Finished Epoch 14 || Run Time:    0.9 | Load Time:    2.0 || F1:  54.15 | Prec:  56.11 | Rec:  52.32 || Ex/s: 781.28\n",
      "\n",
      "---------------------\n",
      "\n",
      "===>  TRAIN Epoch 15\n",
      "Finished Epoch 15 || Run Time:    9.4 | Load Time:    7.0 || F1:  96.21 | Prec:  92.82 | Rec:  99.85 || Ex/s: 419.19\n",
      "\n",
      "===>  EVAL Epoch 15\n",
      "Finished Epoch 15 || Run Time:    0.9 | Load Time:    1.9 || F1:  54.03 | Prec:  55.86 | Rec:  52.32 || Ex/s: 828.20\n",
      "\n",
      "---------------------\n",
      "\n",
      "===>  TRAIN Epoch 16\n",
      "Finished Epoch 16 || Run Time:    6.9 | Load Time:    5.7 || F1:  96.21 | Prec:  92.82 | Rec:  99.85 || Ex/s: 545.25\n",
      "\n",
      "===>  EVAL Epoch 16\n",
      "Finished Epoch 16 || Run Time:    0.9 | Load Time:    1.9 || F1:  53.91 | Prec:  55.61 | Rec:  52.32 || Ex/s: 828.02\n",
      "\n",
      "---------------------\n",
      "\n",
      "===>  TRAIN Epoch 17\n",
      "Finished Epoch 17 || Run Time:    6.9 | Load Time:    5.7 || F1:  96.21 | Prec:  92.82 | Rec:  99.85 || Ex/s: 543.37\n",
      "\n",
      "===>  EVAL Epoch 17\n",
      "Finished Epoch 17 || Run Time:    0.8 | Load Time:    1.9 || F1:  54.03 | Prec:  55.86 | Rec:  52.32 || Ex/s: 854.92\n",
      "\n",
      "---------------------\n",
      "\n",
      "===>  TRAIN Epoch 18\n",
      "Finished Epoch 18 || Run Time:    7.8 | Load Time:    6.1 || F1:  96.28 | Prec:  92.94 | Rec:  99.85 || Ex/s: 496.03\n",
      "\n",
      "===>  EVAL Epoch 18\n",
      "Finished Epoch 18 || Run Time:    0.9 | Load Time:    1.9 || F1:  53.80 | Prec:  55.36 | Rec:  52.32 || Ex/s: 808.71\n",
      "\n",
      "---------------------\n",
      "\n",
      "===>  TRAIN Epoch 19\n",
      "Finished Epoch 19 || Run Time:   11.8 | Load Time:    8.3 || F1:  96.28 | Prec:  92.94 | Rec:  99.85 || Ex/s: 342.55\n",
      "\n",
      "===>  EVAL Epoch 19\n",
      "Finished Epoch 19 || Run Time:    0.9 | Load Time:    2.0 || F1:  53.68 | Prec:  55.11 | Rec:  52.32 || Ex/s: 796.59\n",
      "\n",
      "---------------------\n",
      "\n",
      "===>  TRAIN Epoch 20\n",
      "Finished Epoch 20 || Run Time:   11.6 | Load Time:    8.3 || F1:  96.41 | Prec:  93.20 | Rec:  99.85 || Ex/s: 346.09\n",
      "\n",
      "===>  EVAL Epoch 20\n",
      "Finished Epoch 20 || Run Time:    0.9 | Load Time:    2.0 || F1:  53.68 | Prec:  55.11 | Rec:  52.32 || Ex/s: 801.30\n",
      "\n",
      "---------------------\n",
      "\n",
      "Loading best model...\n",
      "Training done.\n"
     ]
    },
    {
     "data": {
      "text/plain": [
       "56.92007797270955"
      ]
     },
     "execution_count": 14,
     "metadata": {},
     "output_type": "execute_result"
    }
   ],
   "source": [
    "rnn_model = dm.MatchingModel(attr_summarizer='rnn')\n",
    "rnn_model.run_train(train,validation,pos_neg_ratio=10,best_save_path='temp/amazongoogle_rnn_const.pth',\n",
    "                   epochs=20)"
   ]
  },
  {
   "cell_type": "code",
   "execution_count": 15,
   "metadata": {},
   "outputs": [
    {
     "name": "stdout",
     "output_type": "stream",
     "text": [
      "===>  EVAL Epoch 8\n",
      "Finished Epoch 8 || Run Time:    0.8 | Load Time:    1.9 || F1:  59.31 | Prec:  53.07 | Rec:  67.21 || Ex/s: 833.30\n",
      "\n"
     ]
    },
    {
     "data": {
      "text/plain": [
       "59.3128390596745"
      ]
     },
     "execution_count": 15,
     "metadata": {},
     "output_type": "execute_result"
    }
   ],
   "source": [
    "rnn_model.run_eval(test)"
   ]
  },
  {
   "cell_type": "code",
   "execution_count": 21,
   "metadata": {},
   "outputs": [],
   "source": [
    "from utils.intermediate_layer_extraction import return_layer_input\n",
    "from utils.ri_calculator import computeRi\n",
    "from utils.explainer import generateExplanations"
   ]
  },
  {
   "cell_type": "code",
   "execution_count": 16,
   "metadata": {},
   "outputs": [],
   "source": [
    "rnn_model = dm.MatchingModel(attr_summarizer='rnn')\n",
    "rnn_model.load_state('temp/amazongoogle_rnn_const.pth')"
   ]
  },
  {
   "cell_type": "code",
   "execution_count": 22,
   "metadata": {},
   "outputs": [],
   "source": [
    "testneg_classifier,testneg_ids = return_layer_input('../../Structured/Amazon-Google/'\n",
    "                                                                         ,'test_negatives',128,rnn_model,\n",
    "                                                                        rnn_model.classifier,device=-1)"
   ]
  },
  {
   "cell_type": "code",
   "execution_count": 23,
   "metadata": {},
   "outputs": [],
   "source": [
    "testpos_classifier,testpos_ids = return_layer_input('../../Structured/Amazon-Google/',\n",
    "                                                                  'test_positives',128,rnn_model,\n",
    "                                                                  rnn_model.classifier,device=-1)"
   ]
  },
  {
   "cell_type": "code",
   "execution_count": 24,
   "metadata": {},
   "outputs": [],
   "source": [
    "rnn_model = rnn_model.cuda()"
   ]
  },
  {
   "cell_type": "code",
   "execution_count": 27,
   "metadata": {},
   "outputs": [],
   "source": [
    "attributes = ['title','manufacturer','price']\n",
    "classifier_len = len(testpos_classifier[0][0])\n",
    "attribute_len = int(classifier_len/len(attributes))"
   ]
  },
  {
   "cell_type": "code",
   "execution_count": 28,
   "metadata": {},
   "outputs": [
    {
     "name": "stderr",
     "output_type": "stream",
     "text": [
      "100%|██████████| 128/128 [00:02<00:00, 43.94it/s]\n",
      "100%|██████████| 128/128 [00:02<00:00, 43.04it/s]\n",
      "100%|██████████| 128/128 [00:03<00:00, 40.59it/s]\n",
      "100%|██████████| 128/128 [00:02<00:00, 44.53it/s]\n",
      "100%|██████████| 128/128 [00:02<00:00, 45.49it/s]\n",
      "100%|██████████| 128/128 [00:02<00:00, 44.30it/s]\n",
      "100%|██████████| 128/128 [00:02<00:00, 42.95it/s]\n",
      "100%|██████████| 128/128 [00:02<00:00, 44.63it/s]\n",
      "100%|██████████| 11/11 [00:00<00:00, 52.61it/s]\n",
      "100%|██████████| 128/128 [00:02<00:00, 46.28it/s]\n",
      "100%|██████████| 128/128 [00:03<00:00, 41.51it/s]\n",
      "100%|██████████| 128/128 [00:02<00:00, 45.37it/s]\n",
      "100%|██████████| 128/128 [00:03<00:00, 38.84it/s]\n",
      "100%|██████████| 128/128 [00:02<00:00, 43.25it/s]\n",
      "100%|██████████| 128/128 [00:03<00:00, 39.80it/s]\n",
      "100%|██████████| 128/128 [00:03<00:00, 42.07it/s]\n",
      "100%|██████████| 128/128 [00:03<00:00, 41.30it/s]\n"
     ]
    }
   ],
   "source": [
    "negatives_ri,neg_ri_norms = computeRi(rnn_model.classifier,\n",
    "                                                    attributes,testneg_classifier,attribute_len,1)"
   ]
  },
  {
   "cell_type": "code",
   "execution_count": 30,
   "metadata": {},
   "outputs": [
    {
     "data": {
      "text/plain": [
       "<matplotlib.axes._subplots.AxesSubplot at 0x7fcde40600f0>"
      ]
     },
     "execution_count": 30,
     "metadata": {},
     "output_type": "execute_result"
    },
    {
     "data": {
      "image/png": "[encoded data removed]",
      "text/plain": [
       "<Figure size 432x288 with 1 Axes>"
      ]
     },
     "metadata": {
      "needs_background": "light"
     },
     "output_type": "display_data"
    }
   ],
   "source": [
    "negatives_variation_df = pd.DataFrame(data= neg_ri_norms,columns=attributes)\n",
    "negatives_variation_df.sum().plot.bar()"
   ]
  },
  {
   "cell_type": "code",
   "execution_count": null,
   "metadata": {},
   "outputs": [],
   "source": []
  }
 ],
 "metadata": {
  "kernelspec": {
   "display_name": "Python 3",
   "language": "python",
   "name": "python3"
  },
  "language_info": {
   "codemirror_mode": {
    "name": "ipython",
    "version": 3
   },
   "file_extension": ".py",
   "mimetype": "text/x-python",
   "name": "python",
   "nbconvert_exporter": "python",
   "pygments_lexer": "ipython3",
   "version": "3.6.9"
  }
 },
 "nbformat": 4,
 "nbformat_minor": 2
}

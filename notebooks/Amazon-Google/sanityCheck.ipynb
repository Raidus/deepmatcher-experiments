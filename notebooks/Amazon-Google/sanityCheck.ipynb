{
 "cells": [
  {
   "cell_type": "code",
   "execution_count": 1,
   "metadata": {},
   "outputs": [],
   "source": [
    "%load_ext autoreload\n",
    "%autoreload 2"
   ]
  },
  {
   "cell_type": "code",
   "execution_count": 2,
   "metadata": {},
   "outputs": [],
   "source": [
    "import sys\n",
    "sys.path.append('../..')"
   ]
  },
  {
   "cell_type": "code",
   "execution_count": 4,
   "metadata": {},
   "outputs": [],
   "source": [
    "from utils.intermediate_layer_extraction import return_layer_input\n",
    "from utils.ri_calculator import computeRi,computeRiNaif\n",
    "import deepmatcher as dm\n",
    "import pandas as pd"
   ]
  },
  {
   "cell_type": "code",
   "execution_count": 6,
   "metadata": {},
   "outputs": [],
   "source": [
    "hybrid_model = dm.MatchingModel(attr_summarizer='hybrid')\n",
    "hybrid_model.load_state('../../models/amazongoogle_hybrid.pth')"
   ]
  },
  {
   "cell_type": "code",
   "execution_count": 7,
   "metadata": {},
   "outputs": [],
   "source": [
    "negatives,neg_ids = return_layer_input('../../Structured/Amazon-Google/','test_negatives',128,\n",
    "                                      hybrid_model,hybrid_model.classifier,device=-1)"
   ]
  },
  {
   "cell_type": "code",
   "execution_count": 8,
   "metadata": {},
   "outputs": [],
   "source": [
    "positives,pos_ids = return_layer_input('../../Structured/Amazon-Google','test_positives',128,\n",
    "                                      hybrid_model,hybrid_model.classifier,device=-1)"
   ]
  },
  {
   "cell_type": "code",
   "execution_count": 9,
   "metadata": {},
   "outputs": [],
   "source": [
    "hybrid_model = hybrid_model.cuda()"
   ]
  },
  {
   "cell_type": "markdown",
   "metadata": {},
   "source": [
    "## Compare naif approach with gradient approach"
   ]
  },
  {
   "cell_type": "markdown",
   "metadata": {},
   "source": [
    "### Negatives"
   ]
  },
  {
   "cell_type": "code",
   "execution_count": 10,
   "metadata": {},
   "outputs": [],
   "source": [
    "def compareMethods(df1,df2,columns):\n",
    "    best1,best2 = (0,0)\n",
    "    for i in df1.index:\n",
    "        for col in columns:\n",
    "            lval = df1.at[i,col]\n",
    "            rval = df2.at[i,col]\n",
    "            if(lval == 0 and rval >0) or(rval <lval and rval >0):\n",
    "                best2+=1\n",
    "            elif(rval ==0 and lval >0)or(lval < rval and lval >0):\n",
    "                best1+=1\n",
    "    return (best1,best2)"
   ]
  },
  {
   "cell_type": "code",
   "execution_count": 11,
   "metadata": {},
   "outputs": [],
   "source": [
    "attributes = ['Beer_Name','Brew_Factory_Name','Style','ABV']\n",
    "attribute_len = int(len(negatives[0][0])/len(attributes))"
   ]
  },
  {
   "cell_type": "code",
   "execution_count": 12,
   "metadata": {},
   "outputs": [
    {
     "name": "stderr",
     "output_type": "stream",
     "text": [
      "100%|██████████| 128/128 [00:08<00:00, 15.24it/s]\n",
      "100%|██████████| 128/128 [00:08<00:00, 15.64it/s]\n",
      "100%|██████████| 128/128 [00:08<00:00, 14.95it/s]\n",
      "100%|██████████| 11/11 [00:00<00:00, 13.81it/s]\n",
      "100%|██████████| 128/128 [00:08<00:00, 14.47it/s]\n",
      "100%|██████████| 128/128 [00:08<00:00, 15.21it/s]\n",
      "100%|██████████| 128/128 [00:08<00:00, 14.73it/s]\n",
      "100%|██████████| 128/128 [00:08<00:00, 15.56it/s]\n",
      "100%|██████████| 128/128 [00:08<00:00, 15.96it/s]\n",
      "100%|██████████| 128/128 [00:07<00:00, 17.78it/s]\n",
      "100%|██████████| 128/128 [00:07<00:00, 16.63it/s]\n",
      "100%|██████████| 128/128 [00:07<00:00, 17.41it/s]\n",
      "100%|██████████| 128/128 [00:07<00:00, 17.21it/s]\n",
      "100%|██████████| 128/128 [00:08<00:00, 15.94it/s]\n",
      "100%|██████████| 128/128 [00:07<00:00, 17.92it/s]\n",
      "100%|██████████| 128/128 [00:07<00:00, 16.25it/s]\n",
      "100%|██████████| 128/128 [00:07<00:00, 16.60it/s]\n"
     ]
    }
   ],
   "source": [
    "neg_ri,neg_ri_norms = computeRi(hybrid_model.classifier,attributes,negatives,attribute_len,1)"
   ]
  },
  {
   "cell_type": "code",
   "execution_count": 13,
   "metadata": {},
   "outputs": [
    {
     "name": "stderr",
     "output_type": "stream",
     "text": [
      "100%|██████████| 128/128 [00:08<00:00, 14.88it/s]\n",
      "100%|██████████| 128/128 [00:08<00:00, 14.31it/s]\n",
      "100%|██████████| 128/128 [00:08<00:00, 15.21it/s]\n",
      "100%|██████████| 11/11 [00:00<00:00, 15.80it/s]\n",
      "100%|██████████| 128/128 [00:08<00:00, 15.08it/s]\n",
      "100%|██████████| 128/128 [00:08<00:00, 15.03it/s]\n",
      "100%|██████████| 128/128 [00:08<00:00, 15.86it/s]\n",
      "100%|██████████| 128/128 [00:08<00:00, 14.86it/s]\n",
      "100%|██████████| 128/128 [00:07<00:00, 16.15it/s]\n",
      "100%|██████████| 128/128 [00:08<00:00, 14.99it/s]\n",
      "100%|██████████| 128/128 [00:07<00:00, 16.08it/s]\n",
      "100%|██████████| 128/128 [00:08<00:00, 15.07it/s]\n",
      "100%|██████████| 128/128 [00:08<00:00, 15.15it/s]\n",
      "100%|██████████| 128/128 [00:07<00:00, 16.18it/s]\n",
      "100%|██████████| 128/128 [00:08<00:00, 14.92it/s]\n",
      "100%|██████████| 128/128 [00:07<00:00, 16.16it/s]\n",
      "100%|██████████| 128/128 [00:08<00:00, 15.70it/s]\n"
     ]
    }
   ],
   "source": [
    "neg_ri_naif,neg_ri_norms_naif = computeRiNaif(negatives,positives,1,hybrid_model.classifier,attributes,attribute_len)"
   ]
  },
  {
   "cell_type": "code",
   "execution_count": 14,
   "metadata": {},
   "outputs": [],
   "source": [
    "neg_variation_gradient = pd.DataFrame(data= neg_ri_norms,columns=attributes)\n",
    "neg_variation_naif = pd.DataFrame(data= neg_ri_norms_naif,columns=attributes)"
   ]
  },
  {
   "cell_type": "code",
   "execution_count": 15,
   "metadata": {},
   "outputs": [
    {
     "data": {
      "text/plain": [
       "(7421, 19)"
      ]
     },
     "execution_count": 15,
     "metadata": {},
     "output_type": "execute_result"
    }
   ],
   "source": [
    "compareMethods(neg_variation_gradient,neg_variation_naif,attributes)"
   ]
  },
  {
   "cell_type": "markdown",
   "metadata": {},
   "source": [
    "### Positives"
   ]
  },
  {
   "cell_type": "code",
   "execution_count": 16,
   "metadata": {},
   "outputs": [
    {
     "name": "stderr",
     "output_type": "stream",
     "text": [
      "100%|██████████| 128/128 [00:03<00:00, 34.62it/s]\n",
      "100%|██████████| 106/106 [00:03<00:00, 32.66it/s]\n"
     ]
    }
   ],
   "source": [
    "pos_ri,pos_ri_norms = computeRi(hybrid_model.classifier,attributes,positives,attribute_len,0)"
   ]
  },
  {
   "cell_type": "code",
   "execution_count": 17,
   "metadata": {},
   "outputs": [
    {
     "name": "stderr",
     "output_type": "stream",
     "text": [
      "100%|██████████| 128/128 [02:08<00:00,  1.00s/it]\n",
      "100%|██████████| 106/106 [01:46<00:00,  1.00s/it]\n"
     ]
    }
   ],
   "source": [
    "pos_ri_naif,pos_ri_norms_naif = computeRiNaif(positives,negatives,0,hybrid_model.classifier,attributes,attribute_len)"
   ]
  },
  {
   "cell_type": "code",
   "execution_count": 20,
   "metadata": {},
   "outputs": [],
   "source": [
    "pos_perturbations_gradient = pd.DataFrame(data= pos_ri_norms,columns=attributes)\n",
    "pos_perturbations_naif = pd.DataFrame(data= pos_ri_norms_naif,columns=attributes)"
   ]
  },
  {
   "cell_type": "code",
   "execution_count": 21,
   "metadata": {},
   "outputs": [
    {
     "data": {
      "text/plain": [
       "(448, 20)"
      ]
     },
     "execution_count": 21,
     "metadata": {},
     "output_type": "execute_result"
    }
   ],
   "source": [
    "compareMethods(pos_perturbations_gradient,pos_perturbations_naif,attributes)"
   ]
  },
  {
   "cell_type": "markdown",
   "metadata": {},
   "source": [
    "## Test FP-max"
   ]
  },
  {
   "cell_type": "code",
   "execution_count": 1,
   "metadata": {
    "ExecuteTime": {
     "end_time": "2020-05-21T18:39:22.614381Z",
     "start_time": "2020-05-21T18:39:22.521007Z"
    }
   },
   "outputs": [
    {
     "ename": "ImportError",
     "evalue": "cannot import name 'fptree' from 'fpgrowth' (/home/nvidia/workspace/dbgroup/vmartello/deepmatcher-experiments/notebooks/Amazon-Google/fpgrowth.py)",
     "output_type": "error",
     "traceback": [
      "\u001b[0;31m---------------------------------------------------------------------------\u001b[0m",
      "\u001b[0;31mImportError\u001b[0m                               Traceback (most recent call last)",
      "\u001b[0;32m<ipython-input-1-69989ff373e0>\u001b[0m in \u001b[0;36m<module>\u001b[0;34m\u001b[0m\n\u001b[0;32m----> 1\u001b[0;31m \u001b[0;32mfrom\u001b[0m \u001b[0mfpgrowth\u001b[0m \u001b[0;32mimport\u001b[0m \u001b[0mfptree\u001b[0m\u001b[0;34m\u001b[0m\u001b[0;34m\u001b[0m\u001b[0m\n\u001b[0m",
      "\u001b[0;31mImportError\u001b[0m: cannot import name 'fptree' from 'fpgrowth' (/home/nvidia/workspace/dbgroup/vmartello/deepmatcher-experiments/notebooks/Amazon-Google/fpgrowth.py)"
     ]
    }
   ],
   "source": [
    "from fpgrowth import fptree"
   ]
  },
  {
   "cell_type": "code",
   "execution_count": null,
   "metadata": {},
   "outputs": [],
   "source": []
  }
 ],
 "metadata": {
  "kernelspec": {
   "display_name": "Python 3",
   "language": "python",
   "name": "python3"
  },
  "language_info": {
   "codemirror_mode": {
    "name": "ipython",
    "version": 3
   },
   "file_extension": ".py",
   "mimetype": "text/x-python",
   "name": "python",
   "nbconvert_exporter": "python",
   "pygments_lexer": "ipython3",
   "version": "3.8.1"
  },
  "toc": {
   "base_numbering": 1,
   "nav_menu": {},
   "number_sections": true,
   "sideBar": true,
   "skip_h1_title": false,
   "title_cell": "Table of Contents",
   "title_sidebar": "Contents",
   "toc_cell": false,
   "toc_position": {},
   "toc_section_display": true,
   "toc_window_display": false
  }
 },
 "nbformat": 4,
 "nbformat_minor": 2
}

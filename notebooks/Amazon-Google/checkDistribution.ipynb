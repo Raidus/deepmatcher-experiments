{
 "cells": [
  {
   "cell_type": "code",
   "execution_count": 1,
   "metadata": {
    "ExecuteTime": {
     "end_time": "2020-02-08T16:18:45.100661Z",
     "start_time": "2020-02-08T16:18:44.564965Z"
    }
   },
   "outputs": [],
   "source": [
    "import pandas as pd"
   ]
  },
  {
   "cell_type": "code",
   "execution_count": 2,
   "metadata": {
    "ExecuteTime": {
     "end_time": "2020-02-08T16:18:45.126895Z",
     "start_time": "2020-02-08T16:18:45.104037Z"
    }
   },
   "outputs": [],
   "source": [
    "train_df = pd.read_csv('../../datasets/Structured/Amazon-Google/merged_train.csv')"
   ]
  },
  {
   "cell_type": "code",
   "execution_count": null,
   "metadata": {},
   "outputs": [],
   "source": [
    "89.99-35.99 and 39.95-20.99"
   ]
  },
  {
   "cell_type": "code",
   "execution_count": 6,
   "metadata": {
    "ExecuteTime": {
     "end_time": "2020-02-08T16:20:56.245178Z",
     "start_time": "2020-02-08T16:20:56.228309Z"
    }
   },
   "outputs": [],
   "source": [
    "negatives = train_df[train_df.label==0]\n",
    "lneg_distr = dict(negatives.ltable_price.value_counts())"
   ]
  },
  {
   "cell_type": "code",
   "execution_count": 7,
   "metadata": {
    "ExecuteTime": {
     "end_time": "2020-02-08T16:21:03.895310Z",
     "start_time": "2020-02-08T16:21:03.862882Z"
    }
   },
   "outputs": [],
   "source": [
    "rneg_distr = dict(negatives.rtable_price.value_counts())"
   ]
  },
  {
   "cell_type": "code",
   "execution_count": 11,
   "metadata": {
    "ExecuteTime": {
     "end_time": "2020-02-08T16:22:02.800854Z",
     "start_time": "2020-02-08T16:22:02.794784Z"
    }
   },
   "outputs": [
    {
     "data": {
      "text/plain": [
       "(65, 56)"
      ]
     },
     "execution_count": 11,
     "metadata": {},
     "output_type": "execute_result"
    }
   ],
   "source": [
    "lneg_distr[89.99],lneg_distr[39.95]"
   ]
  },
  {
   "cell_type": "code",
   "execution_count": 12,
   "metadata": {
    "ExecuteTime": {
     "end_time": "2020-02-08T16:22:20.523129Z",
     "start_time": "2020-02-08T16:22:20.516797Z"
    }
   },
   "outputs": [
    {
     "data": {
      "text/plain": [
       "(24, 14)"
      ]
     },
     "execution_count": 12,
     "metadata": {},
     "output_type": "execute_result"
    }
   ],
   "source": [
    "rneg_distr[35.99],rneg_distr[20.99]"
   ]
  },
  {
   "cell_type": "code",
   "execution_count": 13,
   "metadata": {
    "ExecuteTime": {
     "end_time": "2020-02-08T16:23:07.684318Z",
     "start_time": "2020-02-08T16:23:07.654751Z"
    }
   },
   "outputs": [],
   "source": [
    "positives = train_df[train_df.label==1]\n",
    "lpos_distr = dict(positives.ltable_price.value_counts())\n",
    "rpos_distr = dict(positives.rtable_price.value_counts())"
   ]
  },
  {
   "cell_type": "code",
   "execution_count": 15,
   "metadata": {
    "ExecuteTime": {
     "end_time": "2020-02-08T16:23:27.366476Z",
     "start_time": "2020-02-08T16:23:27.360167Z"
    }
   },
   "outputs": [
    {
     "data": {
      "text/plain": [
       "(3, 8)"
      ]
     },
     "execution_count": 15,
     "metadata": {},
     "output_type": "execute_result"
    }
   ],
   "source": [
    "lpos_distr[89.99],lpos_distr[39.95]"
   ]
  },
  {
   "cell_type": "code",
   "execution_count": 18,
   "metadata": {
    "ExecuteTime": {
     "end_time": "2020-02-08T16:25:30.953430Z",
     "start_time": "2020-02-08T16:25:30.941996Z"
    }
   },
   "outputs": [
    {
     "ename": "KeyError",
     "evalue": "20.99",
     "output_type": "error",
     "traceback": [
      "\u001b[0;31m---------------------------------------------------------------------------\u001b[0m",
      "\u001b[0;31mKeyError\u001b[0m                                  Traceback (most recent call last)",
      "\u001b[0;32m<ipython-input-18-ea1c95962e34>\u001b[0m in \u001b[0;36m<module>\u001b[0;34m()\u001b[0m\n\u001b[0;32m----> 1\u001b[0;31m \u001b[0mrpos_distr\u001b[0m\u001b[0;34m[\u001b[0m\u001b[0;36m20.99\u001b[0m\u001b[0;34m]\u001b[0m\u001b[0;34m\u001b[0m\u001b[0;34m\u001b[0m\u001b[0m\n\u001b[0m",
      "\u001b[0;31mKeyError\u001b[0m: 20.99"
     ]
    }
   ],
   "source": [
    "rpos_distr[20.99]"
   ]
  },
  {
   "cell_type": "code",
   "execution_count": 19,
   "metadata": {
    "ExecuteTime": {
     "end_time": "2020-02-08T16:25:39.771369Z",
     "start_time": "2020-02-08T16:25:39.760447Z"
    }
   },
   "outputs": [
    {
     "ename": "KeyError",
     "evalue": "35.99",
     "output_type": "error",
     "traceback": [
      "\u001b[0;31m---------------------------------------------------------------------------\u001b[0m",
      "\u001b[0;31mKeyError\u001b[0m                                  Traceback (most recent call last)",
      "\u001b[0;32m<ipython-input-19-7906ec4ba086>\u001b[0m in \u001b[0;36m<module>\u001b[0;34m()\u001b[0m\n\u001b[0;32m----> 1\u001b[0;31m \u001b[0mrpos_distr\u001b[0m\u001b[0;34m[\u001b[0m\u001b[0;36m35.99\u001b[0m\u001b[0;34m]\u001b[0m\u001b[0;34m\u001b[0m\u001b[0;34m\u001b[0m\u001b[0m\n\u001b[0m",
      "\u001b[0;31mKeyError\u001b[0m: 35.99"
     ]
    }
   ],
   "source": [
    "rpos_distr[35.99]"
   ]
  },
  {
   "cell_type": "code",
   "execution_count": null,
   "metadata": {},
   "outputs": [],
   "source": []
  }
 ],
 "metadata": {
  "kernelspec": {
   "display_name": "Python 3",
   "language": "python",
   "name": "python3"
  },
  "language_info": {
   "codemirror_mode": {
    "name": "ipython",
    "version": 3
   },
   "file_extension": ".py",
   "mimetype": "text/x-python",
   "name": "python",
   "nbconvert_exporter": "python",
   "pygments_lexer": "ipython3",
   "version": "3.6.10"
  },
  "toc": {
   "base_numbering": 1,
   "nav_menu": {},
   "number_sections": true,
   "sideBar": true,
   "skip_h1_title": false,
   "title_cell": "Table of Contents",
   "title_sidebar": "Contents",
   "toc_cell": false,
   "toc_position": {},
   "toc_section_display": true,
   "toc_window_display": false
  }
 },
 "nbformat": 4,
 "nbformat_minor": 4
}

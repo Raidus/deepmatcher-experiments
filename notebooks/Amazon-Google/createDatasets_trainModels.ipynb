{
 "cells": [
  {
   "cell_type": "code",
   "execution_count": 15,
   "metadata": {},
   "outputs": [],
   "source": [
    "import sys\n",
    "sys.path.append(\"../..\")"
   ]
  },
  {
   "cell_type": "code",
   "execution_count": 16,
   "metadata": {},
   "outputs": [],
   "source": [
    "import deepmatcher as dm\n",
    "from utilities_functions.dataset_parser import generate_train_valid_test"
   ]
  },
  {
   "cell_type": "code",
   "execution_count": 17,
   "metadata": {},
   "outputs": [],
   "source": [
    "train,valid,test = generate_train_valid_test('../../Structured/Amazon-Google','ltable_','rtable_')"
   ]
  },
  {
   "cell_type": "code",
   "execution_count": null,
   "metadata": {},
   "outputs": [],
   "source": [
    "train.to_csv('../../Structured/Amazon-Google/merged_train.csv',index=False)\n",
    "valid.to_csv('../../Structured/Amazon-Google/merged_valid.csv',index=False)\n",
    "test.to_csv('../../Structured/Amazon-Google/merged_test.csv',index=False)"
   ]
  },
  {
   "cell_type": "code",
   "execution_count": 18,
   "metadata": {},
   "outputs": [],
   "source": [
    "test_pos = test[test['label']==1]\n",
    "test_pos.to_csv('../../Structured/Amazon-Google/test_positives.csv',index=False)"
   ]
  },
  {
   "cell_type": "code",
   "execution_count": 19,
   "metadata": {},
   "outputs": [],
   "source": [
    "test_neg = test[test['label']==0]\n",
    "test_neg.to_csv('../../Structured/Amazon-Google/test_negatives.csv',index=False)"
   ]
  },
  {
   "cell_type": "code",
   "execution_count": 9,
   "metadata": {},
   "outputs": [
    {
     "data": {
      "text/plain": [
       "(6175, 699)"
      ]
     },
     "execution_count": 9,
     "metadata": {},
     "output_type": "execute_result"
    }
   ],
   "source": [
    "train[train['label']==0].shape[0],train[train['label']==1].shape[0]"
   ]
  },
  {
   "cell_type": "code",
   "execution_count": 12,
   "metadata": {},
   "outputs": [],
   "source": [
    "train,valid,test = dm.data.process('../../Structured/Amazon-Google',train='merged_train.csv',validation='merged_valid.csv',\n",
    "                                  test='merged_test.csv',left_prefix='ltable_',right_prefix='rtable_')"
   ]
  },
  {
   "cell_type": "code",
   "execution_count": 13,
   "metadata": {},
   "outputs": [
    {
     "name": "stdout",
     "output_type": "stream",
     "text": [
      "* Number of trainable parameters: 7133105\n",
      "===>  TRAIN Epoch 1\n",
      "Finished Epoch 1 || Run Time:   77.8 | Load Time:    8.5 || F1:  24.74 | Prec:  14.30 | Rec:  91.85 || Ex/s:  79.64\n",
      "\n",
      "===>  EVAL Epoch 1\n",
      "Finished Epoch 1 || Run Time:    5.0 | Load Time:    1.4 || F1:  27.15 | Prec:  15.79 | Rec:  97.01 || Ex/s: 353.21\n",
      "\n",
      "* Best F1: 27.15311004784689\n",
      "Saving best model...\n",
      "Done.\n",
      "---------------------\n",
      "\n",
      "===>  TRAIN Epoch 2\n",
      "Finished Epoch 2 || Run Time:   77.2 | Load Time:    8.4 || F1:  33.12 | Prec:  20.20 | Rec:  91.85 || Ex/s:  80.28\n",
      "\n",
      "===>  EVAL Epoch 2\n",
      "Finished Epoch 2 || Run Time:    5.0 | Load Time:    1.4 || F1:  40.60 | Prec:  26.06 | Rec:  91.88 || Ex/s: 354.03\n",
      "\n",
      "* Best F1: 40.60434372049103\n",
      "Saving best model...\n",
      "Done.\n",
      "---------------------\n",
      "\n",
      "===>  TRAIN Epoch 3\n",
      "Finished Epoch 3 || Run Time:   77.7 | Load Time:    8.4 || F1:  48.37 | Prec:  32.28 | Rec:  96.42 || Ex/s:  79.85\n",
      "\n",
      "===>  EVAL Epoch 3\n",
      "Finished Epoch 3 || Run Time:    5.0 | Load Time:    1.4 || F1:  44.62 | Prec:  29.09 | Rec:  95.73 || Ex/s: 355.59\n",
      "\n",
      "* Best F1: 44.6215139442231\n",
      "Saving best model...\n",
      "Done.\n",
      "---------------------\n",
      "\n",
      "===>  TRAIN Epoch 4\n",
      "Finished Epoch 4 || Run Time:   76.8 | Load Time:    8.4 || F1:  61.50 | Prec:  44.78 | Rec:  98.14 || Ex/s:  80.68\n",
      "\n",
      "===>  EVAL Epoch 4\n",
      "Finished Epoch 4 || Run Time:    5.0 | Load Time:    1.5 || F1:  56.45 | Prec:  41.18 | Rec:  89.74 || Ex/s: 354.68\n",
      "\n",
      "* Best F1: 56.451612903225815\n",
      "Saving best model...\n",
      "Done.\n",
      "---------------------\n",
      "\n",
      "===>  TRAIN Epoch 5\n",
      "Finished Epoch 5 || Run Time:   77.2 | Load Time:    8.4 || F1:  71.15 | Prec:  55.76 | Rec:  98.28 || Ex/s:  80.23\n",
      "\n",
      "===>  EVAL Epoch 5\n",
      "Finished Epoch 5 || Run Time:    5.0 | Load Time:    1.4 || F1:  61.85 | Prec:  48.88 | Rec:  84.19 || Ex/s: 355.68\n",
      "\n",
      "* Best F1: 61.85243328100471\n",
      "Saving best model...\n",
      "Done.\n",
      "---------------------\n",
      "\n",
      "===>  TRAIN Epoch 6\n",
      "Finished Epoch 6 || Run Time:   77.6 | Load Time:    8.4 || F1:  78.66 | Prec:  65.31 | Rec:  98.86 || Ex/s:  79.93\n",
      "\n",
      "===>  EVAL Epoch 6\n",
      "Finished Epoch 6 || Run Time:    5.0 | Load Time:    1.4 || F1:  65.41 | Prec:  54.57 | Rec:  81.62 || Ex/s: 355.63\n",
      "\n",
      "* Best F1: 65.41095890410959\n",
      "Saving best model...\n",
      "Done.\n",
      "---------------------\n",
      "\n",
      "===>  TRAIN Epoch 7\n",
      "Finished Epoch 7 || Run Time:   77.3 | Load Time:    8.4 || F1:  84.89 | Prec:  74.15 | Rec:  99.28 || Ex/s:  80.21\n",
      "\n",
      "===>  EVAL Epoch 7\n",
      "Finished Epoch 7 || Run Time:    5.0 | Load Time:    1.4 || F1:  67.55 | Prec:  60.47 | Rec:  76.50 || Ex/s: 355.76\n",
      "\n",
      "* Best F1: 67.54716981132076\n",
      "Saving best model...\n",
      "Done.\n",
      "---------------------\n",
      "\n",
      "===>  TRAIN Epoch 8\n",
      "Finished Epoch 8 || Run Time:   77.9 | Load Time:    8.4 || F1:  89.54 | Prec:  81.16 | Rec:  99.86 || Ex/s:  79.69\n",
      "\n",
      "===>  EVAL Epoch 8\n",
      "Finished Epoch 8 || Run Time:    5.0 | Load Time:    1.4 || F1:  67.86 | Prec:  63.67 | Rec:  72.65 || Ex/s: 355.66\n",
      "\n",
      "* Best F1: 67.86427145708582\n",
      "Saving best model...\n",
      "Done.\n",
      "---------------------\n",
      "\n",
      "===>  TRAIN Epoch 9\n",
      "Finished Epoch 9 || Run Time:   77.9 | Load Time:    8.4 || F1:  91.60 | Prec:  84.61 | Rec:  99.86 || Ex/s:  79.60\n",
      "\n",
      "===>  EVAL Epoch 9\n",
      "Finished Epoch 9 || Run Time:    5.0 | Load Time:    1.5 || F1:  66.95 | Prec:  65.98 | Rec:  67.95 || Ex/s: 354.77\n",
      "\n",
      "---------------------\n",
      "\n",
      "===>  TRAIN Epoch 10\n",
      "Finished Epoch 10 || Run Time:   78.0 | Load Time:    8.4 || F1:  92.70 | Prec:  86.49 | Rec:  99.86 || Ex/s:  79.56\n",
      "\n",
      "===>  EVAL Epoch 10\n",
      "Finished Epoch 10 || Run Time:    5.1 | Load Time:    1.5 || F1:  65.65 | Prec:  66.81 | Rec:  64.53 || Ex/s: 349.28\n",
      "\n",
      "---------------------\n",
      "\n",
      "===>  TRAIN Epoch 11\n",
      "Finished Epoch 11 || Run Time:   77.9 | Load Time:    8.4 || F1:  94.40 | Prec:  89.39 | Rec: 100.00 || Ex/s:  79.62\n",
      "\n",
      "===>  EVAL Epoch 11\n",
      "Finished Epoch 11 || Run Time:    5.0 | Load Time:    1.4 || F1:  65.94 | Prec:  67.41 | Rec:  64.53 || Ex/s: 355.98\n",
      "\n",
      "---------------------\n",
      "\n",
      "===>  TRAIN Epoch 12\n",
      "Finished Epoch 12 || Run Time:   77.6 | Load Time:    8.4 || F1:  94.97 | Prec:  90.43 | Rec: 100.00 || Ex/s:  79.91\n",
      "\n",
      "===>  EVAL Epoch 12\n",
      "Finished Epoch 12 || Run Time:    5.0 | Load Time:    1.4 || F1:  66.81 | Prec:  69.27 | Rec:  64.53 || Ex/s: 355.53\n",
      "\n",
      "---------------------\n",
      "\n",
      "===>  TRAIN Epoch 13\n",
      "Finished Epoch 13 || Run Time:   77.8 | Load Time:    8.4 || F1:  95.56 | Prec:  91.49 | Rec: 100.00 || Ex/s:  79.77\n",
      "\n",
      "===>  EVAL Epoch 13\n",
      "Finished Epoch 13 || Run Time:    5.0 | Load Time:    1.4 || F1:  65.32 | Prec:  68.54 | Rec:  62.39 || Ex/s: 357.54\n",
      "\n",
      "---------------------\n",
      "\n",
      "===>  TRAIN Epoch 14\n",
      "Finished Epoch 14 || Run Time:   75.0 | Load Time:    8.1 || F1:  95.95 | Prec:  92.22 | Rec: 100.00 || Ex/s:  82.74\n",
      "\n",
      "===>  EVAL Epoch 14\n",
      "Finished Epoch 14 || Run Time:    5.2 | Load Time:    1.5 || F1:  65.32 | Prec:  69.05 | Rec:  61.97 || Ex/s: 340.25\n",
      "\n",
      "---------------------\n",
      "\n",
      "===>  TRAIN Epoch 15\n",
      "Finished Epoch 15 || Run Time:   69.8 | Load Time:    8.1 || F1:  96.41 | Prec:  93.08 | Rec: 100.00 || Ex/s:  88.31\n",
      "\n",
      "===>  EVAL Epoch 15\n",
      "Finished Epoch 15 || Run Time:    5.0 | Load Time:    1.4 || F1:  66.07 | Prec:  69.16 | Rec:  63.25 || Ex/s: 355.36\n",
      "\n",
      "---------------------\n",
      "\n",
      "===>  TRAIN Epoch 16\n",
      "Finished Epoch 16 || Run Time:   69.1 | Load Time:    8.1 || F1:  96.68 | Prec:  93.57 | Rec: 100.00 || Ex/s:  89.05\n",
      "\n",
      "===>  EVAL Epoch 16\n",
      "Finished Epoch 16 || Run Time:    5.0 | Load Time:    1.4 || F1:  65.62 | Prec:  68.69 | Rec:  62.82 || Ex/s: 354.12\n",
      "\n",
      "---------------------\n",
      "\n",
      "===>  TRAIN Epoch 17\n",
      "Finished Epoch 17 || Run Time:   70.3 | Load Time:    8.2 || F1:  96.81 | Prec:  93.83 | Rec: 100.00 || Ex/s:  87.58\n",
      "\n",
      "===>  EVAL Epoch 17\n",
      "Finished Epoch 17 || Run Time:    5.1 | Load Time:    1.5 || F1:  65.78 | Prec:  68.04 | Rec:  63.68 || Ex/s: 346.35\n",
      "\n",
      "---------------------\n",
      "\n",
      "===>  TRAIN Epoch 18\n",
      "Finished Epoch 18 || Run Time:   68.7 | Load Time:    7.9 || F1:  97.08 | Prec:  94.33 | Rec: 100.00 || Ex/s:  89.74\n",
      "\n",
      "===>  EVAL Epoch 18\n",
      "Finished Epoch 18 || Run Time:    4.8 | Load Time:    1.4 || F1:  65.64 | Prec:  67.73 | Rec:  63.68 || Ex/s: 365.36\n",
      "\n",
      "---------------------\n",
      "\n",
      "===>  TRAIN Epoch 19\n",
      "Finished Epoch 19 || Run Time:   69.3 | Load Time:    8.0 || F1:  97.22 | Prec:  94.59 | Rec: 100.00 || Ex/s:  88.93\n",
      "\n",
      "===>  EVAL Epoch 19\n",
      "Finished Epoch 19 || Run Time:    4.9 | Load Time:    1.4 || F1:  66.08 | Prec:  67.71 | Rec:  64.53 || Ex/s: 362.01\n",
      "\n",
      "---------------------\n",
      "\n",
      "===>  TRAIN Epoch 20\n",
      "Finished Epoch 20 || Run Time:   69.1 | Load Time:    8.0 || F1:  97.35 | Prec:  94.84 | Rec: 100.00 || Ex/s:  89.09\n",
      "\n",
      "===>  EVAL Epoch 20\n",
      "Finished Epoch 20 || Run Time:    4.9 | Load Time:    1.4 || F1:  65.79 | Prec:  67.57 | Rec:  64.10 || Ex/s: 364.22\n",
      "\n",
      "---------------------\n",
      "\n",
      "Loading best model...\n",
      "Training done.\n"
     ]
    },
    {
     "data": {
      "text/plain": [
       "67.86427145708582"
      ]
     },
     "execution_count": 13,
     "metadata": {},
     "output_type": "execute_result"
    }
   ],
   "source": [
    "hybrid_model = dm.MatchingModel(attr_summarizer='hybrid')\n",
    "hybrid_model.run_train(train,valid,best_save_path='../../models/amazongoogle_hybrid.pth',epochs=20,pos_neg_ratio=10,batch_size=16)"
   ]
  },
  {
   "cell_type": "code",
   "execution_count": 14,
   "metadata": {},
   "outputs": [
    {
     "name": "stdout",
     "output_type": "stream",
     "text": [
      "===>  EVAL Epoch 8\n",
      "Finished Epoch 8 || Run Time:    2.8 | Load Time:    1.6 || F1:  68.90 | Prec:  63.87 | Rec:  74.79 || Ex/s: 524.27\n",
      "\n"
     ]
    },
    {
     "data": {
      "text/plain": [
       "68.89763779527559"
      ]
     },
     "execution_count": 14,
     "metadata": {},
     "output_type": "execute_result"
    }
   ],
   "source": [
    "hybrid_model.run_eval(test)"
   ]
  },
  {
   "cell_type": "code",
   "execution_count": null,
   "metadata": {},
   "outputs": [],
   "source": []
  }
 ],
 "metadata": {
  "kernelspec": {
   "display_name": "Python 3",
   "language": "python",
   "name": "python3"
  },
  "language_info": {
   "codemirror_mode": {
    "name": "ipython",
    "version": 3
   },
   "file_extension": ".py",
   "mimetype": "text/x-python",
   "name": "python",
   "nbconvert_exporter": "python",
   "pygments_lexer": "ipython3",
   "version": "3.6.8"
  }
 },
 "nbformat": 4,
 "nbformat_minor": 2
}

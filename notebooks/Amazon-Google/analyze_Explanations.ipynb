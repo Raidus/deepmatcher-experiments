{
 "cells": [
  {
   "cell_type": "code",
   "execution_count": 1,
   "metadata": {},
   "outputs": [],
   "source": [
    "%load_ext autoreload\n",
    "%autoreload 2"
   ]
  },
  {
   "cell_type": "code",
   "execution_count": 2,
   "metadata": {},
   "outputs": [],
   "source": [
    "import sys\n",
    "sys.path.append('../..')"
   ]
  },
  {
   "cell_type": "code",
   "execution_count": 3,
   "metadata": {},
   "outputs": [],
   "source": [
    "import deepmatcher as dm\n",
    "import pandas as pd\n",
    "from utils.explainer import generateExplanations"
   ]
  },
  {
   "cell_type": "code",
   "execution_count": 4,
   "metadata": {},
   "outputs": [],
   "source": [
    "attributes =['title','manufacturer','price']"
   ]
  },
  {
   "cell_type": "markdown",
   "metadata": {},
   "source": [
    "## Rnn model\n",
    "We choose rnn model because it had strange rankings"
   ]
  },
  {
   "cell_type": "code",
   "execution_count": 5,
   "metadata": {},
   "outputs": [],
   "source": [
    "rnn_model = dm.MatchingModel(attr_summarizer='rnn')\n",
    "rnn_model.load_state('../../models/amazongoogle_rnn.pth')"
   ]
  },
  {
   "cell_type": "code",
   "execution_count": 6,
   "metadata": {},
   "outputs": [],
   "source": [
    "testpos_nn_rnn = pd.read_csv('experiment_results/testpos_nn_rnn.csv')\n",
    "negatives = pd.read_csv('../../Structured/Amazon-Google/negatives.csv')"
   ]
  },
  {
   "cell_type": "code",
   "execution_count": 8,
   "metadata": {},
   "outputs": [
    {
     "name": "stderr",
     "output_type": "stream",
     "text": [
      "\n",
      "Reading and processing data from \"../../Structured/Amazon-Google/test_positives.csv\"\n",
      "0% [############################# ] 100% | ETA: 00:00:00"
     ]
    },
    {
     "name": "stdout",
     "output_type": "stream",
     "text": [
      "===>  PREDICT Epoch 20\n"
     ]
    },
    {
     "name": "stderr",
     "output_type": "stream",
     "text": [
      "0% [█] 100% | ETA: 00:00:00\n",
      "Total time elapsed: 00:00:00\n",
      "\n",
      "Reading and processing data from \"temp/altered_test0.csv\"\n"
     ]
    },
    {
     "name": "stdout",
     "output_type": "stream",
     "text": [
      "Finished Epoch 20 || Run Time:    0.4 | Load Time:    0.1 || F1:   0.00 | Prec:   0.00 | Rec:   0.00 || Ex/s:   0.00\n",
      "\n"
     ]
    },
    {
     "name": "stderr",
     "output_type": "stream",
     "text": [
      "0% [############################# ] 100% | ETA: 00:00:00"
     ]
    },
    {
     "name": "stdout",
     "output_type": "stream",
     "text": [
      "===>  PREDICT Epoch 20\n"
     ]
    },
    {
     "name": "stderr",
     "output_type": "stream",
     "text": [
      "0% [█] 100% | ETA: 00:00:00\n",
      "Total time elapsed: 00:00:00\n",
      "\n",
      "Reading and processing data from \"temp/altered_test1.csv\"\n"
     ]
    },
    {
     "name": "stdout",
     "output_type": "stream",
     "text": [
      "Finished Epoch 20 || Run Time:    0.1 | Load Time:    0.1 || F1:   0.00 | Prec:   0.00 | Rec:   0.00 || Ex/s:   0.00\n",
      "\n"
     ]
    },
    {
     "name": "stderr",
     "output_type": "stream",
     "text": [
      "0% [############################# ] 100% | ETA: 00:00:00"
     ]
    },
    {
     "name": "stdout",
     "output_type": "stream",
     "text": [
      "===>  PREDICT Epoch 20\n"
     ]
    },
    {
     "name": "stderr",
     "output_type": "stream",
     "text": [
      "0% [█] 100% | ETA: 00:00:00\n",
      "Total time elapsed: 00:00:00\n",
      "\n",
      "Reading and processing data from \"temp/altered_test2.csv\"\n"
     ]
    },
    {
     "name": "stdout",
     "output_type": "stream",
     "text": [
      "Finished Epoch 20 || Run Time:    0.1 | Load Time:    0.1 || F1:   0.00 | Prec:   0.00 | Rec:   0.00 || Ex/s:   0.00\n",
      "\n"
     ]
    },
    {
     "name": "stderr",
     "output_type": "stream",
     "text": [
      "0% [############################# ] 100% | ETA: 00:00:00"
     ]
    },
    {
     "name": "stdout",
     "output_type": "stream",
     "text": [
      "===>  PREDICT Epoch 20\n"
     ]
    },
    {
     "name": "stderr",
     "output_type": "stream",
     "text": [
      "0% [█] 100% | ETA: 00:00:00\n",
      "Total time elapsed: 00:00:00\n",
      "\n",
      "Reading and processing data from \"temp/altered_test3.csv\"\n"
     ]
    },
    {
     "name": "stdout",
     "output_type": "stream",
     "text": [
      "Finished Epoch 20 || Run Time:    0.1 | Load Time:    0.1 || F1:   0.00 | Prec:   0.00 | Rec:   0.00 || Ex/s:   0.00\n",
      "\n"
     ]
    },
    {
     "name": "stderr",
     "output_type": "stream",
     "text": [
      "0% [############################# ] 100% | ETA: 00:00:00"
     ]
    },
    {
     "name": "stdout",
     "output_type": "stream",
     "text": [
      "===>  PREDICT Epoch 20\n"
     ]
    },
    {
     "name": "stderr",
     "output_type": "stream",
     "text": [
      "0% [█] 100% | ETA: 00:00:00\n",
      "Total time elapsed: 00:00:00\n"
     ]
    },
    {
     "name": "stdout",
     "output_type": "stream",
     "text": [
      "Finished Epoch 20 || Run Time:    0.1 | Load Time:    0.1 || F1:   0.00 | Prec:   0.00 | Rec:   0.00 || Ex/s:   0.00\n",
      "\n"
     ]
    },
    {
     "name": "stderr",
     "output_type": "stream",
     "text": [
      "\n",
      "Reading and processing data from \"temp/altered_test4.csv\"\n",
      "0% [############################# ] 100% | ETA: 00:00:00"
     ]
    },
    {
     "name": "stdout",
     "output_type": "stream",
     "text": [
      "===>  PREDICT Epoch 20\n"
     ]
    },
    {
     "name": "stderr",
     "output_type": "stream",
     "text": [
      "0% [█] 100% | ETA: 00:00:00\n",
      "Total time elapsed: 00:00:00\n"
     ]
    },
    {
     "name": "stdout",
     "output_type": "stream",
     "text": [
      "Finished Epoch 20 || Run Time:    0.1 | Load Time:    0.1 || F1:   0.00 | Prec:   0.00 | Rec:   0.00 || Ex/s:   0.00\n",
      "\n"
     ]
    },
    {
     "name": "stderr",
     "output_type": "stream",
     "text": [
      "\n",
      "Reading and processing data from \"../../Structured/Amazon-Google/test_positives.csv\"\n",
      "0% [############################# ] 100% | ETA: 00:00:00"
     ]
    },
    {
     "name": "stdout",
     "output_type": "stream",
     "text": [
      "===>  PREDICT Epoch 20\n"
     ]
    },
    {
     "name": "stderr",
     "output_type": "stream",
     "text": [
      "0% [█] 100% | ETA: 00:00:00\n",
      "Total time elapsed: 00:00:00\n",
      "\n",
      "Reading and processing data from \"temp/altered_test0.csv\"\n"
     ]
    },
    {
     "name": "stdout",
     "output_type": "stream",
     "text": [
      "Finished Epoch 20 || Run Time:    0.1 | Load Time:    0.1 || F1:   0.00 | Prec:   0.00 | Rec:   0.00 || Ex/s:   0.00\n",
      "\n"
     ]
    },
    {
     "name": "stderr",
     "output_type": "stream",
     "text": [
      "0% [############################# ] 100% | ETA: 00:00:00"
     ]
    },
    {
     "name": "stdout",
     "output_type": "stream",
     "text": [
      "===>  PREDICT Epoch 20\n"
     ]
    },
    {
     "name": "stderr",
     "output_type": "stream",
     "text": [
      "0% [█] 100% | ETA: 00:00:00\n",
      "Total time elapsed: 00:00:00\n"
     ]
    },
    {
     "name": "stdout",
     "output_type": "stream",
     "text": [
      "Finished Epoch 20 || Run Time:    0.1 | Load Time:    0.1 || F1:   0.00 | Prec:   0.00 | Rec:   0.00 || Ex/s:   0.00\n",
      "\n"
     ]
    },
    {
     "name": "stderr",
     "output_type": "stream",
     "text": [
      "\n",
      "Reading and processing data from \"temp/altered_test1.csv\"\n",
      "0% [############################# ] 100% | ETA: 00:00:00"
     ]
    },
    {
     "name": "stdout",
     "output_type": "stream",
     "text": [
      "===>  PREDICT Epoch 20\n"
     ]
    },
    {
     "name": "stderr",
     "output_type": "stream",
     "text": [
      "0% [█] 100% | ETA: 00:00:00\n",
      "Total time elapsed: 00:00:00\n"
     ]
    },
    {
     "name": "stdout",
     "output_type": "stream",
     "text": [
      "Finished Epoch 20 || Run Time:    0.1 | Load Time:    0.1 || F1:   0.00 | Prec:   0.00 | Rec:   0.00 || Ex/s:   0.00\n",
      "\n"
     ]
    },
    {
     "name": "stderr",
     "output_type": "stream",
     "text": [
      "\n",
      "Reading and processing data from \"temp/altered_test2.csv\"\n",
      "0% [############################# ] 100% | ETA: 00:00:00"
     ]
    },
    {
     "name": "stdout",
     "output_type": "stream",
     "text": [
      "===>  PREDICT Epoch 20\n"
     ]
    },
    {
     "name": "stderr",
     "output_type": "stream",
     "text": [
      "0% [█] 100% | ETA: 00:00:00\n",
      "Total time elapsed: 00:00:00\n",
      "\n",
      "Reading and processing data from \"temp/altered_test3.csv\"\n"
     ]
    },
    {
     "name": "stdout",
     "output_type": "stream",
     "text": [
      "Finished Epoch 20 || Run Time:    0.1 | Load Time:    0.1 || F1:   0.00 | Prec:   0.00 | Rec:   0.00 || Ex/s:   0.00\n",
      "\n"
     ]
    },
    {
     "name": "stderr",
     "output_type": "stream",
     "text": [
      "0% [############################# ] 100% | ETA: 00:00:00"
     ]
    },
    {
     "name": "stdout",
     "output_type": "stream",
     "text": [
      "===>  PREDICT Epoch 20\n"
     ]
    },
    {
     "name": "stderr",
     "output_type": "stream",
     "text": [
      "0% [█] 100% | ETA: 00:00:00\n",
      "Total time elapsed: 00:00:00\n",
      "\n",
      "Reading and processing data from \"temp/altered_test4.csv\"\n"
     ]
    },
    {
     "name": "stdout",
     "output_type": "stream",
     "text": [
      "Finished Epoch 20 || Run Time:    0.1 | Load Time:    0.1 || F1:   0.00 | Prec:   0.00 | Rec:   0.00 || Ex/s:   0.00\n",
      "\n"
     ]
    },
    {
     "name": "stderr",
     "output_type": "stream",
     "text": [
      "0% [############################# ] 100% | ETA: 00:00:00"
     ]
    },
    {
     "name": "stdout",
     "output_type": "stream",
     "text": [
      "===>  PREDICT Epoch 20\n"
     ]
    },
    {
     "name": "stderr",
     "output_type": "stream",
     "text": [
      "0% [█] 100% | ETA: 00:00:00\n",
      "Total time elapsed: 00:00:00\n",
      "\n",
      "Reading and processing data from \"../../Structured/Amazon-Google/test_positives.csv\"\n"
     ]
    },
    {
     "name": "stdout",
     "output_type": "stream",
     "text": [
      "Finished Epoch 20 || Run Time:    0.1 | Load Time:    0.1 || F1:   0.00 | Prec:   0.00 | Rec:   0.00 || Ex/s:   0.00\n",
      "\n"
     ]
    },
    {
     "name": "stderr",
     "output_type": "stream",
     "text": [
      "0% [############################# ] 100% | ETA: 00:00:00"
     ]
    },
    {
     "name": "stdout",
     "output_type": "stream",
     "text": [
      "===>  PREDICT Epoch 20\n"
     ]
    },
    {
     "name": "stderr",
     "output_type": "stream",
     "text": [
      "0% [█] 100% | ETA: 00:00:00\n",
      "Total time elapsed: 00:00:00\n",
      "\n",
      "Reading and processing data from \"temp/altered_test0.csv\"\n"
     ]
    },
    {
     "name": "stdout",
     "output_type": "stream",
     "text": [
      "Finished Epoch 20 || Run Time:    0.1 | Load Time:    0.1 || F1:   0.00 | Prec:   0.00 | Rec:   0.00 || Ex/s:   0.00\n",
      "\n"
     ]
    },
    {
     "name": "stderr",
     "output_type": "stream",
     "text": [
      "0% [############################# ] 100% | ETA: 00:00:00"
     ]
    },
    {
     "name": "stdout",
     "output_type": "stream",
     "text": [
      "===>  PREDICT Epoch 20\n"
     ]
    },
    {
     "name": "stderr",
     "output_type": "stream",
     "text": [
      "0% [█] 100% | ETA: 00:00:00\n",
      "Total time elapsed: 00:00:00\n",
      "\n",
      "Reading and processing data from \"temp/altered_test1.csv\"\n"
     ]
    },
    {
     "name": "stdout",
     "output_type": "stream",
     "text": [
      "Finished Epoch 20 || Run Time:    0.1 | Load Time:    0.1 || F1:   0.00 | Prec:   0.00 | Rec:   0.00 || Ex/s:   0.00\n",
      "\n"
     ]
    },
    {
     "name": "stderr",
     "output_type": "stream",
     "text": [
      "0% [############################# ] 100% | ETA: 00:00:00"
     ]
    },
    {
     "name": "stdout",
     "output_type": "stream",
     "text": [
      "===>  PREDICT Epoch 20\n"
     ]
    },
    {
     "name": "stderr",
     "output_type": "stream",
     "text": [
      "0% [█] 100% | ETA: 00:00:00\n",
      "Total time elapsed: 00:00:00\n",
      "\n",
      "Reading and processing data from \"temp/altered_test2.csv\"\n"
     ]
    },
    {
     "name": "stdout",
     "output_type": "stream",
     "text": [
      "Finished Epoch 20 || Run Time:    0.1 | Load Time:    0.1 || F1:   0.00 | Prec:   0.00 | Rec:   0.00 || Ex/s:   0.00\n",
      "\n"
     ]
    },
    {
     "name": "stderr",
     "output_type": "stream",
     "text": [
      "0% [############################# ] 100% | ETA: 00:00:00"
     ]
    },
    {
     "name": "stdout",
     "output_type": "stream",
     "text": [
      "===>  PREDICT Epoch 20\n"
     ]
    },
    {
     "name": "stderr",
     "output_type": "stream",
     "text": [
      "0% [█] 100% | ETA: 00:00:00\n",
      "Total time elapsed: 00:00:00\n",
      "\n",
      "Reading and processing data from \"temp/altered_test3.csv\"\n"
     ]
    },
    {
     "name": "stdout",
     "output_type": "stream",
     "text": [
      "Finished Epoch 20 || Run Time:    0.1 | Load Time:    0.1 || F1:   0.00 | Prec:   0.00 | Rec:   0.00 || Ex/s:   0.00\n",
      "\n"
     ]
    },
    {
     "name": "stderr",
     "output_type": "stream",
     "text": [
      "0% [############################# ] 100% | ETA: 00:00:00"
     ]
    },
    {
     "name": "stdout",
     "output_type": "stream",
     "text": [
      "===>  PREDICT Epoch 20\n"
     ]
    },
    {
     "name": "stderr",
     "output_type": "stream",
     "text": [
      "0% [█] 100% | ETA: 00:00:00\n",
      "Total time elapsed: 00:00:00\n",
      "\n",
      "Reading and processing data from \"temp/altered_test4.csv\"\n"
     ]
    },
    {
     "name": "stdout",
     "output_type": "stream",
     "text": [
      "Finished Epoch 20 || Run Time:    0.1 | Load Time:    0.1 || F1:   0.00 | Prec:   0.00 | Rec:   0.00 || Ex/s:   0.00\n",
      "\n"
     ]
    },
    {
     "name": "stderr",
     "output_type": "stream",
     "text": [
      "0% [############################# ] 100% | ETA: 00:00:00"
     ]
    },
    {
     "name": "stdout",
     "output_type": "stream",
     "text": [
      "===>  PREDICT Epoch 20\n"
     ]
    },
    {
     "name": "stderr",
     "output_type": "stream",
     "text": [
      "0% [█] 100% | ETA: 00:00:00\n",
      "Total time elapsed: 00:00:00\n"
     ]
    },
    {
     "name": "stdout",
     "output_type": "stream",
     "text": [
      "Finished Epoch 20 || Run Time:    0.1 | Load Time:    0.1 || F1:   0.00 | Prec:   0.00 | Rec:   0.00 || Ex/s:   0.00\n",
      "\n"
     ]
    }
   ],
   "source": [
    "critical_pos_rnn = {}\n",
    "for att in attributes:\n",
    "    critical_values = generateExplanations(testpos_nn_rnn,negatives,att,rnn_model,\n",
    "                                           5,0.03,'../../Structured/Amazon-Google/test_positives.csv',1)\n",
    "    critical_pos_rnn[att] = critical_values"
   ]
  },
  {
   "cell_type": "code",
   "execution_count": 9,
   "metadata": {},
   "outputs": [],
   "source": [
    "testneg_nn_rnn = pd.read_csv('experiment_results/testneg_nn_rnn.csv')\n",
    "positives = pd.read_csv('../../Structured/Amazon-Google/positives.csv')"
   ]
  },
  {
   "cell_type": "code",
   "execution_count": 10,
   "metadata": {},
   "outputs": [
    {
     "name": "stderr",
     "output_type": "stream",
     "text": [
      "\n",
      "Reading and processing data from \"../../Structured/Amazon-Google/test_negatives.csv\"\n",
      "0% [############################# ] 100% | ETA: 00:00:00"
     ]
    },
    {
     "name": "stdout",
     "output_type": "stream",
     "text": [
      "===>  PREDICT Epoch 20\n"
     ]
    },
    {
     "name": "stderr",
     "output_type": "stream",
     "text": [
      "0% [█████████████] 100% | ETA: 00:00:00\n",
      "Total time elapsed: 00:00:01\n",
      "\n",
      "Reading and processing data from \"temp/altered_test0.csv\"\n"
     ]
    },
    {
     "name": "stdout",
     "output_type": "stream",
     "text": [
      "Finished Epoch 20 || Run Time:    0.7 | Load Time:    0.9 || F1:   0.00 | Prec:   0.00 | Rec:   0.00 || Ex/s:   0.00\n",
      "\n"
     ]
    },
    {
     "name": "stderr",
     "output_type": "stream",
     "text": [
      "0% [############################# ] 100% | ETA: 00:00:00"
     ]
    },
    {
     "name": "stdout",
     "output_type": "stream",
     "text": [
      "===>  PREDICT Epoch 20\n"
     ]
    },
    {
     "name": "stderr",
     "output_type": "stream",
     "text": [
      "0% [█████████████] 100% | ETA: 00:00:00\n",
      "Total time elapsed: 00:00:01\n",
      "\n",
      "Reading and processing data from \"temp/altered_test1.csv\"\n"
     ]
    },
    {
     "name": "stdout",
     "output_type": "stream",
     "text": [
      "Finished Epoch 20 || Run Time:    0.7 | Load Time:    0.8 || F1:   0.00 | Prec:   0.00 | Rec:   0.00 || Ex/s:   0.00\n",
      "\n"
     ]
    },
    {
     "name": "stderr",
     "output_type": "stream",
     "text": [
      "0% [############################# ] 100% | ETA: 00:00:00"
     ]
    },
    {
     "name": "stdout",
     "output_type": "stream",
     "text": [
      "===>  PREDICT Epoch 20\n"
     ]
    },
    {
     "name": "stderr",
     "output_type": "stream",
     "text": [
      "0% [█████████████] 100% | ETA: 00:00:00\n",
      "Total time elapsed: 00:00:01\n",
      "\n",
      "Reading and processing data from \"temp/altered_test2.csv\"\n"
     ]
    },
    {
     "name": "stdout",
     "output_type": "stream",
     "text": [
      "Finished Epoch 20 || Run Time:    0.6 | Load Time:    0.7 || F1:   0.00 | Prec:   0.00 | Rec:   0.00 || Ex/s:   0.00\n",
      "\n"
     ]
    },
    {
     "name": "stderr",
     "output_type": "stream",
     "text": [
      "0% [############################# ] 100% | ETA: 00:00:00"
     ]
    },
    {
     "name": "stdout",
     "output_type": "stream",
     "text": [
      "===>  PREDICT Epoch 20\n"
     ]
    },
    {
     "name": "stderr",
     "output_type": "stream",
     "text": [
      "0% [█████████████] 100% | ETA: 00:00:00\n",
      "Total time elapsed: 00:00:01\n",
      "\n",
      "Reading and processing data from \"temp/altered_test3.csv\"\n"
     ]
    },
    {
     "name": "stdout",
     "output_type": "stream",
     "text": [
      "Finished Epoch 20 || Run Time:    0.6 | Load Time:    0.7 || F1:   0.00 | Prec:   0.00 | Rec:   0.00 || Ex/s:   0.00\n",
      "\n"
     ]
    },
    {
     "name": "stderr",
     "output_type": "stream",
     "text": [
      "0% [############################# ] 100% | ETA: 00:00:00"
     ]
    },
    {
     "name": "stdout",
     "output_type": "stream",
     "text": [
      "===>  PREDICT Epoch 20\n"
     ]
    },
    {
     "name": "stderr",
     "output_type": "stream",
     "text": [
      "0% [█████████████] 100% | ETA: 00:00:00\n",
      "Total time elapsed: 00:00:01\n",
      "\n",
      "Reading and processing data from \"temp/altered_test4.csv\"\n"
     ]
    },
    {
     "name": "stdout",
     "output_type": "stream",
     "text": [
      "Finished Epoch 20 || Run Time:    0.6 | Load Time:    0.7 || F1:   0.00 | Prec:   0.00 | Rec:   0.00 || Ex/s:   0.00\n",
      "\n"
     ]
    },
    {
     "name": "stderr",
     "output_type": "stream",
     "text": [
      "0% [############################# ] 100% | ETA: 00:00:00"
     ]
    },
    {
     "name": "stdout",
     "output_type": "stream",
     "text": [
      "===>  PREDICT Epoch 20\n"
     ]
    },
    {
     "name": "stderr",
     "output_type": "stream",
     "text": [
      "0% [█████████████] 100% | ETA: 00:00:00\n",
      "Total time elapsed: 00:00:01\n",
      "\n",
      "Reading and processing data from \"../../Structured/Amazon-Google/test_negatives.csv\"\n"
     ]
    },
    {
     "name": "stdout",
     "output_type": "stream",
     "text": [
      "Finished Epoch 20 || Run Time:    0.6 | Load Time:    0.7 || F1:   0.00 | Prec:   0.00 | Rec:   0.00 || Ex/s:   0.00\n",
      "\n"
     ]
    },
    {
     "name": "stderr",
     "output_type": "stream",
     "text": [
      "0% [############################# ] 100% | ETA: 00:00:00"
     ]
    },
    {
     "name": "stdout",
     "output_type": "stream",
     "text": [
      "===>  PREDICT Epoch 20\n"
     ]
    },
    {
     "name": "stderr",
     "output_type": "stream",
     "text": [
      "0% [█████████████] 100% | ETA: 00:00:00\n",
      "Total time elapsed: 00:00:01\n",
      "\n",
      "Reading and processing data from \"temp/altered_test0.csv\"\n"
     ]
    },
    {
     "name": "stdout",
     "output_type": "stream",
     "text": [
      "Finished Epoch 20 || Run Time:    0.6 | Load Time:    0.9 || F1:   0.00 | Prec:   0.00 | Rec:   0.00 || Ex/s:   0.00\n",
      "\n"
     ]
    },
    {
     "name": "stderr",
     "output_type": "stream",
     "text": [
      "0% [############################# ] 100% | ETA: 00:00:00"
     ]
    },
    {
     "name": "stdout",
     "output_type": "stream",
     "text": [
      "===>  PREDICT Epoch 20\n"
     ]
    },
    {
     "name": "stderr",
     "output_type": "stream",
     "text": [
      "0% [█████████████] 100% | ETA: 00:00:00\n",
      "Total time elapsed: 00:00:01\n",
      "\n",
      "Reading and processing data from \"temp/altered_test1.csv\"\n"
     ]
    },
    {
     "name": "stdout",
     "output_type": "stream",
     "text": [
      "Finished Epoch 20 || Run Time:    0.6 | Load Time:    0.9 || F1:   0.00 | Prec:   0.00 | Rec:   0.00 || Ex/s:   0.00\n",
      "\n"
     ]
    },
    {
     "name": "stderr",
     "output_type": "stream",
     "text": [
      "0% [############################# ] 100% | ETA: 00:00:00"
     ]
    },
    {
     "name": "stdout",
     "output_type": "stream",
     "text": [
      "===>  PREDICT Epoch 20\n"
     ]
    },
    {
     "name": "stderr",
     "output_type": "stream",
     "text": [
      "0% [█████████████] 100% | ETA: 00:00:00\n",
      "Total time elapsed: 00:00:01\n",
      "\n",
      "Reading and processing data from \"temp/altered_test2.csv\"\n"
     ]
    },
    {
     "name": "stdout",
     "output_type": "stream",
     "text": [
      "Finished Epoch 20 || Run Time:    0.6 | Load Time:    0.9 || F1:   0.00 | Prec:   0.00 | Rec:   0.00 || Ex/s:   0.00\n",
      "\n"
     ]
    },
    {
     "name": "stderr",
     "output_type": "stream",
     "text": [
      "0% [############################# ] 100% | ETA: 00:00:00"
     ]
    },
    {
     "name": "stdout",
     "output_type": "stream",
     "text": [
      "===>  PREDICT Epoch 20\n"
     ]
    },
    {
     "name": "stderr",
     "output_type": "stream",
     "text": [
      "0% [█████████████] 100% | ETA: 00:00:00\n",
      "Total time elapsed: 00:00:01\n",
      "\n",
      "Reading and processing data from \"temp/altered_test3.csv\"\n"
     ]
    },
    {
     "name": "stdout",
     "output_type": "stream",
     "text": [
      "Finished Epoch 20 || Run Time:    0.6 | Load Time:    0.9 || F1:   0.00 | Prec:   0.00 | Rec:   0.00 || Ex/s:   0.00\n",
      "\n"
     ]
    },
    {
     "name": "stderr",
     "output_type": "stream",
     "text": [
      "0% [############################# ] 100% | ETA: 00:00:00"
     ]
    },
    {
     "name": "stdout",
     "output_type": "stream",
     "text": [
      "===>  PREDICT Epoch 20\n"
     ]
    },
    {
     "name": "stderr",
     "output_type": "stream",
     "text": [
      "0% [█████████████] 100% | ETA: 00:00:00\n",
      "Total time elapsed: 00:00:01\n",
      "\n",
      "Reading and processing data from \"temp/altered_test4.csv\"\n"
     ]
    },
    {
     "name": "stdout",
     "output_type": "stream",
     "text": [
      "Finished Epoch 20 || Run Time:    0.6 | Load Time:    0.9 || F1:   0.00 | Prec:   0.00 | Rec:   0.00 || Ex/s:   0.00\n",
      "\n"
     ]
    },
    {
     "name": "stderr",
     "output_type": "stream",
     "text": [
      "0% [############################# ] 100% | ETA: 00:00:00"
     ]
    },
    {
     "name": "stdout",
     "output_type": "stream",
     "text": [
      "===>  PREDICT Epoch 20\n"
     ]
    },
    {
     "name": "stderr",
     "output_type": "stream",
     "text": [
      "0% [█████████████] 100% | ETA: 00:00:00\n",
      "Total time elapsed: 00:00:01\n",
      "\n",
      "Reading and processing data from \"../../Structured/Amazon-Google/test_negatives.csv\"\n"
     ]
    },
    {
     "name": "stdout",
     "output_type": "stream",
     "text": [
      "Finished Epoch 20 || Run Time:    0.6 | Load Time:    0.9 || F1:   0.00 | Prec:   0.00 | Rec:   0.00 || Ex/s:   0.00\n",
      "\n"
     ]
    },
    {
     "name": "stderr",
     "output_type": "stream",
     "text": [
      "0% [############################# ] 100% | ETA: 00:00:00"
     ]
    },
    {
     "name": "stdout",
     "output_type": "stream",
     "text": [
      "===>  PREDICT Epoch 20\n"
     ]
    },
    {
     "name": "stderr",
     "output_type": "stream",
     "text": [
      "0% [█████████████] 100% | ETA: 00:00:00\n",
      "Total time elapsed: 00:00:01\n",
      "\n",
      "Reading and processing data from \"temp/altered_test0.csv\"\n"
     ]
    },
    {
     "name": "stdout",
     "output_type": "stream",
     "text": [
      "Finished Epoch 20 || Run Time:    0.6 | Load Time:    0.9 || F1:   0.00 | Prec:   0.00 | Rec:   0.00 || Ex/s:   0.00\n",
      "\n"
     ]
    },
    {
     "name": "stderr",
     "output_type": "stream",
     "text": [
      "0% [############################# ] 100% | ETA: 00:00:00"
     ]
    },
    {
     "name": "stdout",
     "output_type": "stream",
     "text": [
      "===>  PREDICT Epoch 20\n"
     ]
    },
    {
     "name": "stderr",
     "output_type": "stream",
     "text": [
      "0% [█████████████] 100% | ETA: 00:00:00\n",
      "Total time elapsed: 00:00:01\n",
      "\n",
      "Reading and processing data from \"temp/altered_test1.csv\"\n"
     ]
    },
    {
     "name": "stdout",
     "output_type": "stream",
     "text": [
      "Finished Epoch 20 || Run Time:    0.6 | Load Time:    0.9 || F1:   0.00 | Prec:   0.00 | Rec:   0.00 || Ex/s:   0.00\n",
      "\n"
     ]
    },
    {
     "name": "stderr",
     "output_type": "stream",
     "text": [
      "0% [############################# ] 100% | ETA: 00:00:00"
     ]
    },
    {
     "name": "stdout",
     "output_type": "stream",
     "text": [
      "===>  PREDICT Epoch 20\n"
     ]
    },
    {
     "name": "stderr",
     "output_type": "stream",
     "text": [
      "0% [█████████████] 100% | ETA: 00:00:00\n",
      "Total time elapsed: 00:00:01\n",
      "\n",
      "Reading and processing data from \"temp/altered_test2.csv\"\n"
     ]
    },
    {
     "name": "stdout",
     "output_type": "stream",
     "text": [
      "Finished Epoch 20 || Run Time:    0.6 | Load Time:    0.9 || F1:   0.00 | Prec:   0.00 | Rec:   0.00 || Ex/s:   0.00\n",
      "\n"
     ]
    },
    {
     "name": "stderr",
     "output_type": "stream",
     "text": [
      "0% [############################# ] 100% | ETA: 00:00:00"
     ]
    },
    {
     "name": "stdout",
     "output_type": "stream",
     "text": [
      "===>  PREDICT Epoch 20\n"
     ]
    },
    {
     "name": "stderr",
     "output_type": "stream",
     "text": [
      "0% [█████████████] 100% | ETA: 00:00:00\n",
      "Total time elapsed: 00:00:01\n",
      "\n",
      "Reading and processing data from \"temp/altered_test3.csv\"\n"
     ]
    },
    {
     "name": "stdout",
     "output_type": "stream",
     "text": [
      "Finished Epoch 20 || Run Time:    0.7 | Load Time:    0.9 || F1:   0.00 | Prec:   0.00 | Rec:   0.00 || Ex/s:   0.00\n",
      "\n"
     ]
    },
    {
     "name": "stderr",
     "output_type": "stream",
     "text": [
      "0% [############################# ] 100% | ETA: 00:00:00"
     ]
    },
    {
     "name": "stdout",
     "output_type": "stream",
     "text": [
      "===>  PREDICT Epoch 20\n"
     ]
    },
    {
     "name": "stderr",
     "output_type": "stream",
     "text": [
      "0% [█████████████] 100% | ETA: 00:00:00\n",
      "Total time elapsed: 00:00:01\n",
      "\n",
      "Reading and processing data from \"temp/altered_test4.csv\"\n"
     ]
    },
    {
     "name": "stdout",
     "output_type": "stream",
     "text": [
      "Finished Epoch 20 || Run Time:    0.7 | Load Time:    0.9 || F1:   0.00 | Prec:   0.00 | Rec:   0.00 || Ex/s:   0.00\n",
      "\n"
     ]
    },
    {
     "name": "stderr",
     "output_type": "stream",
     "text": [
      "0% [############################# ] 100% | ETA: 00:00:00"
     ]
    },
    {
     "name": "stdout",
     "output_type": "stream",
     "text": [
      "===>  PREDICT Epoch 20\n"
     ]
    },
    {
     "name": "stderr",
     "output_type": "stream",
     "text": [
      "0% [█████████████] 100% | ETA: 00:00:00\n",
      "Total time elapsed: 00:00:01\n"
     ]
    },
    {
     "name": "stdout",
     "output_type": "stream",
     "text": [
      "Finished Epoch 20 || Run Time:    0.7 | Load Time:    0.9 || F1:   0.00 | Prec:   0.00 | Rec:   0.00 || Ex/s:   0.00\n",
      "\n"
     ]
    }
   ],
   "source": [
    "critical_neg_rnn = {}\n",
    "for att in attributes:\n",
    "    critical_values = generateExplanations(testneg_nn_rnn,positives,att,rnn_model,\n",
    "                                           5,0.03,'../../Structured/Amazon-Google/test_negatives.csv',0)\n",
    "    critical_neg_rnn[att] = critical_values"
   ]
  },
  {
   "cell_type": "code",
   "execution_count": 15,
   "metadata": {},
   "outputs": [
    {
     "data": {
      "text/plain": [
       "4"
      ]
     },
     "execution_count": 15,
     "metadata": {},
     "output_type": "execute_result"
    }
   ],
   "source": [
    "len(critical_neg_rnn['price'])"
   ]
  },
  {
   "cell_type": "code",
   "execution_count": 12,
   "metadata": {},
   "outputs": [
    {
     "data": {
      "text/html": [
       "<div>\n",
       "<style scoped>\n",
       "    .dataframe tbody tr th:only-of-type {\n",
       "        vertical-align: middle;\n",
       "    }\n",
       "\n",
       "    .dataframe tbody tr th {\n",
       "        vertical-align: top;\n",
       "    }\n",
       "\n",
       "    .dataframe thead th {\n",
       "        text-align: right;\n",
       "    }\n",
       "</style>\n",
       "<table border=\"1\" class=\"dataframe\">\n",
       "  <thead>\n",
       "    <tr style=\"text-align: right;\">\n",
       "      <th></th>\n",
       "      <th>match_score</th>\n",
       "      <th>label</th>\n",
       "      <th>ltable_title</th>\n",
       "      <th>ltable_manufacturer</th>\n",
       "      <th>ltable_price</th>\n",
       "      <th>rtable_title</th>\n",
       "      <th>rtable_manufacturer</th>\n",
       "      <th>rtable_price</th>\n",
       "    </tr>\n",
       "    <tr>\n",
       "      <th>id</th>\n",
       "      <th></th>\n",
       "      <th></th>\n",
       "      <th></th>\n",
       "      <th></th>\n",
       "      <th></th>\n",
       "      <th></th>\n",
       "      <th></th>\n",
       "      <th></th>\n",
       "    </tr>\n",
       "  </thead>\n",
       "  <tbody>\n",
       "    <tr>\n",
       "      <th>11282</th>\n",
       "      <td>0.466431</td>\n",
       "      <td>1</td>\n",
       "      <td>instant immersion spanish 2.0</td>\n",
       "      <td>topics entertainment</td>\n",
       "      <td>239.99</td>\n",
       "      <td>instant immersion spanish 2.0 topics</td>\n",
       "      <td>NaN</td>\n",
       "      <td>109.99</td>\n",
       "    </tr>\n",
       "    <tr>\n",
       "      <th>9756</th>\n",
       "      <td>0.374673</td>\n",
       "      <td>1</td>\n",
       "      <td>instant immersion spanish deluxe 2.0</td>\n",
       "      <td>topics entertainment</td>\n",
       "      <td>239.99</td>\n",
       "      <td>instant immersion spanish deluxe 2.0 topics</td>\n",
       "      <td>NaN</td>\n",
       "      <td>109.99</td>\n",
       "    </tr>\n",
       "    <tr>\n",
       "      <th>11403</th>\n",
       "      <td>0.362077</td>\n",
       "      <td>1</td>\n",
       "      <td>instant immersion japanese ( audio book )</td>\n",
       "      <td>topics entertainment</td>\n",
       "      <td>239.99</td>\n",
       "      <td>instant immersion japanese ( audio book ) ( au...</td>\n",
       "      <td>NaN</td>\n",
       "      <td>109.99</td>\n",
       "    </tr>\n",
       "    <tr>\n",
       "      <th>10070</th>\n",
       "      <td>0.340863</td>\n",
       "      <td>1</td>\n",
       "      <td>microsoft outlook 2007</td>\n",
       "      <td>microsoft</td>\n",
       "      <td>239.99</td>\n",
       "      <td>microsoft office outlook 2007</td>\n",
       "      <td>NaN</td>\n",
       "      <td>109.99</td>\n",
       "    </tr>\n",
       "    <tr>\n",
       "      <th>9874</th>\n",
       "      <td>0.423653</td>\n",
       "      <td>1</td>\n",
       "      <td>microsoft onenote 2007</td>\n",
       "      <td>microsoft</td>\n",
       "      <td>239.99</td>\n",
       "      <td>microsoft onenote 2007 ( pc )</td>\n",
       "      <td>NaN</td>\n",
       "      <td>109.99</td>\n",
       "    </tr>\n",
       "    <tr>\n",
       "      <th>10480</th>\n",
       "      <td>0.347108</td>\n",
       "      <td>1</td>\n",
       "      <td>money home &amp; business 2007 win32 eng na mini b...</td>\n",
       "      <td>microsoft</td>\n",
       "      <td>239.99</td>\n",
       "      <td>microsoft money 2007 home and business ( pc )</td>\n",
       "      <td>NaN</td>\n",
       "      <td>109.99</td>\n",
       "    </tr>\n",
       "    <tr>\n",
       "      <th>10377</th>\n",
       "      <td>0.363278</td>\n",
       "      <td>1</td>\n",
       "      <td>microsoft office 2004 professional ( mac )</td>\n",
       "      <td>microsoft</td>\n",
       "      <td>239.99</td>\n",
       "      <td>microsoft microsoft office pro 2004 software s...</td>\n",
       "      <td>NaN</td>\n",
       "      <td>109.99</td>\n",
       "    </tr>\n",
       "    <tr>\n",
       "      <th>10997</th>\n",
       "      <td>0.399984</td>\n",
       "      <td>1</td>\n",
       "      <td>punch 5 in 1 home design</td>\n",
       "      <td>punch ! software</td>\n",
       "      <td>239.99</td>\n",
       "      <td>punch software 20100 punch ! 5 in 1 home design</td>\n",
       "      <td>punch software</td>\n",
       "      <td>109.99</td>\n",
       "    </tr>\n",
       "    <tr>\n",
       "      <th>9515</th>\n",
       "      <td>0.361993</td>\n",
       "      <td>1</td>\n",
       "      <td>mcafee internet security suite 2007 3 users</td>\n",
       "      <td>mcafee</td>\n",
       "      <td>239.99</td>\n",
       "      <td>mcafee internet security suite 2007 3-user ( pc )</td>\n",
       "      <td>NaN</td>\n",
       "      <td>109.99</td>\n",
       "    </tr>\n",
       "    <tr>\n",
       "      <th>10753</th>\n",
       "      <td>0.441890</td>\n",
       "      <td>1</td>\n",
       "      <td>passwords plus 1.0</td>\n",
       "      <td>dataviz</td>\n",
       "      <td>239.99</td>\n",
       "      <td>passwords plus v. 1.0 complete package</td>\n",
       "      <td>NaN</td>\n",
       "      <td>109.99</td>\n",
       "    </tr>\n",
       "    <tr>\n",
       "      <th>10736</th>\n",
       "      <td>0.352855</td>\n",
       "      <td>1</td>\n",
       "      <td>punch ! home design architectura series 18</td>\n",
       "      <td>punch ! software</td>\n",
       "      <td>239.99</td>\n",
       "      <td>punch software 41100 punch ! home design archi...</td>\n",
       "      <td>NaN</td>\n",
       "      <td>109.99</td>\n",
       "    </tr>\n",
       "    <tr>\n",
       "      <th>11497</th>\n",
       "      <td>0.367796</td>\n",
       "      <td>1</td>\n",
       "      <td>mac os x server v10 .4.7 10-client</td>\n",
       "      <td>apple</td>\n",
       "      <td>239.99</td>\n",
       "      <td>apple apple mac os x server 10 4 7 10 client</td>\n",
       "      <td>NaN</td>\n",
       "      <td>109.99</td>\n",
       "    </tr>\n",
       "    <tr>\n",
       "      <th>10999</th>\n",
       "      <td>0.369952</td>\n",
       "      <td>1</td>\n",
       "      <td>mac os x server v10 .4.7 unlimited client</td>\n",
       "      <td>apple</td>\n",
       "      <td>239.99</td>\n",
       "      <td>apple mac os x server tiger unlimited apple &amp; ...</td>\n",
       "      <td>NaN</td>\n",
       "      <td>109.99</td>\n",
       "    </tr>\n",
       "    <tr>\n",
       "      <th>10529</th>\n",
       "      <td>0.359407</td>\n",
       "      <td>1</td>\n",
       "      <td>3d home architect landscape design deluxe vers...</td>\n",
       "      <td>encore</td>\n",
       "      <td>239.99</td>\n",
       "      <td>encore inc 3d home architect landscape design ...</td>\n",
       "      <td>NaN</td>\n",
       "      <td>109.99</td>\n",
       "    </tr>\n",
       "    <tr>\n",
       "      <th>11372</th>\n",
       "      <td>0.346430</td>\n",
       "      <td>1</td>\n",
       "      <td>instant home design 3.0 [ lb ]</td>\n",
       "      <td>topics entertainment</td>\n",
       "      <td>239.99</td>\n",
       "      <td>instant home design 3.0</td>\n",
       "      <td>NaN</td>\n",
       "      <td>109.99</td>\n",
       "    </tr>\n",
       "    <tr>\n",
       "      <th>11569</th>\n",
       "      <td>0.390051</td>\n",
       "      <td>1</td>\n",
       "      <td>adobe after effects cs3</td>\n",
       "      <td>adobe</td>\n",
       "      <td>239.99</td>\n",
       "      <td>adobe after effects cs3 professional software ...</td>\n",
       "      <td>NaN</td>\n",
       "      <td>109.99</td>\n",
       "    </tr>\n",
       "    <tr>\n",
       "      <th>11382</th>\n",
       "      <td>0.368273</td>\n",
       "      <td>1</td>\n",
       "      <td>reader rabbit learning system 1st grade</td>\n",
       "      <td>encore software</td>\n",
       "      <td>239.99</td>\n",
       "      <td>reader rabbit 1st grade</td>\n",
       "      <td>NaN</td>\n",
       "      <td>109.99</td>\n",
       "    </tr>\n",
       "    <tr>\n",
       "      <th>10577</th>\n",
       "      <td>0.338962</td>\n",
       "      <td>1</td>\n",
       "      <td>instant immersion french 2.0</td>\n",
       "      <td>topics entertainment</td>\n",
       "      <td>239.99</td>\n",
       "      <td>topics entertainment 80542 instant immersion f...</td>\n",
       "      <td>NaN</td>\n",
       "      <td>109.99</td>\n",
       "    </tr>\n",
       "    <tr>\n",
       "      <th>10723</th>\n",
       "      <td>0.372130</td>\n",
       "      <td>1</td>\n",
       "      <td>iplaymusic beginner guitar lessons for the mac...</td>\n",
       "      <td>iplaymusic</td>\n",
       "      <td>239.99</td>\n",
       "      <td>iplaymusic beginner guitar lessons mac</td>\n",
       "      <td>NaN</td>\n",
       "      <td>109.99</td>\n",
       "    </tr>\n",
       "    <tr>\n",
       "      <th>10425</th>\n",
       "      <td>0.350943</td>\n",
       "      <td>1</td>\n",
       "      <td>mindjet mindmanager 7 mac single license</td>\n",
       "      <td>mindjet</td>\n",
       "      <td>239.99</td>\n",
       "      <td>mindjet inc. mm7m mindjet mindmanager 7 mac si...</td>\n",
       "      <td>NaN</td>\n",
       "      <td>109.99</td>\n",
       "    </tr>\n",
       "    <tr>\n",
       "      <th>9722</th>\n",
       "      <td>0.368915</td>\n",
       "      <td>1</td>\n",
       "      <td>timbuktu remote control softwre 1 license for ...</td>\n",
       "      <td>netopia</td>\n",
       "      <td>239.99</td>\n",
       "      <td>netopia timbuktu pro for mac single license</td>\n",
       "      <td>NaN</td>\n",
       "      <td>109.99</td>\n",
       "    </tr>\n",
       "    <tr>\n",
       "      <th>11287</th>\n",
       "      <td>0.342666</td>\n",
       "      <td>1</td>\n",
       "      <td>cosmi rom07524 print perfect business cards dvd</td>\n",
       "      <td>cosmi</td>\n",
       "      <td>239.99</td>\n",
       "      <td>print perfect business cards dvd ( pc ) cosmi</td>\n",
       "      <td>NaN</td>\n",
       "      <td>109.99</td>\n",
       "    </tr>\n",
       "    <tr>\n",
       "      <th>9969</th>\n",
       "      <td>0.479288</td>\n",
       "      <td>1</td>\n",
       "      <td>corel wordperfect office x3 professional edition</td>\n",
       "      <td>corel</td>\n",
       "      <td>239.99</td>\n",
       "      <td>corel corporation corel wordperfect office x3 ...</td>\n",
       "      <td>NaN</td>\n",
       "      <td>109.99</td>\n",
       "    </tr>\n",
       "    <tr>\n",
       "      <th>11032</th>\n",
       "      <td>0.365493</td>\n",
       "      <td>1</td>\n",
       "      <td>marine aquarium &amp; goldfish screen saver by enc...</td>\n",
       "      <td>encore software</td>\n",
       "      <td>239.99</td>\n",
       "      <td>encore software 10561 marine aquarium &amp; goldfi...</td>\n",
       "      <td>NaN</td>\n",
       "      <td>109.99</td>\n",
       "    </tr>\n",
       "    <tr>\n",
       "      <th>9696</th>\n",
       "      <td>0.342224</td>\n",
       "      <td>1</td>\n",
       "      <td>sims 2 pets expansion pack</td>\n",
       "      <td>aspyr media</td>\n",
       "      <td>239.99</td>\n",
       "      <td>sims 2 pets for mac</td>\n",
       "      <td>NaN</td>\n",
       "      <td>109.99</td>\n",
       "    </tr>\n",
       "    <tr>\n",
       "      <th>11652</th>\n",
       "      <td>0.411951</td>\n",
       "      <td>1</td>\n",
       "      <td>apple final cut studio 2 upgrade from final cu...</td>\n",
       "      <td>apple</td>\n",
       "      <td>239.99</td>\n",
       "      <td>apple final cut studio 2 upgrade from final cu...</td>\n",
       "      <td>NaN</td>\n",
       "      <td>109.99</td>\n",
       "    </tr>\n",
       "    <tr>\n",
       "      <th>9767</th>\n",
       "      <td>0.348532</td>\n",
       "      <td>1</td>\n",
       "      <td>sony sound forge audio studio 8</td>\n",
       "      <td>sony-pictures-digital-entertainment</td>\n",
       "      <td>239.99</td>\n",
       "      <td>sony media software sound forge audio studio 8...</td>\n",
       "      <td>sony-pictures-digital-entertainment</td>\n",
       "      <td>109.99</td>\n",
       "    </tr>\n",
       "    <tr>\n",
       "      <th>9991</th>\n",
       "      <td>0.470976</td>\n",
       "      <td>1</td>\n",
       "      <td>punch ! master landscape &amp; home design</td>\n",
       "      <td>punch ! software</td>\n",
       "      <td>239.99</td>\n",
       "      <td>punch software 25100 punch ! master landscape ...</td>\n",
       "      <td>punch software</td>\n",
       "      <td>109.99</td>\n",
       "    </tr>\n",
       "    <tr>\n",
       "      <th>9944</th>\n",
       "      <td>0.349225</td>\n",
       "      <td>1</td>\n",
       "      <td>make music allegro 2007 labpack 5 user</td>\n",
       "      <td>makemusic !</td>\n",
       "      <td>239.99</td>\n",
       "      <td>hal leonard allegro 2007 5-user labpack</td>\n",
       "      <td>NaN</td>\n",
       "      <td>109.99</td>\n",
       "    </tr>\n",
       "    <tr>\n",
       "      <th>10926</th>\n",
       "      <td>0.383532</td>\n",
       "      <td>1</td>\n",
       "      <td>national geographic presents : redshift planet...</td>\n",
       "      <td>topics entertainment</td>\n",
       "      <td>239.99</td>\n",
       "      <td>national geographic redshift planetarium</td>\n",
       "      <td>NaN</td>\n",
       "      <td>109.99</td>\n",
       "    </tr>\n",
       "    <tr>\n",
       "      <th>...</th>\n",
       "      <td>...</td>\n",
       "      <td>...</td>\n",
       "      <td>...</td>\n",
       "      <td>...</td>\n",
       "      <td>...</td>\n",
       "      <td>...</td>\n",
       "      <td>...</td>\n",
       "      <td>...</td>\n",
       "    </tr>\n",
       "    <tr>\n",
       "      <th>9486</th>\n",
       "      <td>0.348442</td>\n",
       "      <td>1</td>\n",
       "      <td>sony psp media manager</td>\n",
       "      <td>sony-computer-entertainment</td>\n",
       "      <td>239.99</td>\n",
       "      <td>sony media manager for psp ( 98598 )</td>\n",
       "      <td>sony-computer-entertainment</td>\n",
       "      <td>109.99</td>\n",
       "    </tr>\n",
       "    <tr>\n",
       "      <th>10311</th>\n",
       "      <td>0.361918</td>\n",
       "      <td>1</td>\n",
       "      <td>serious magic visual communicator 2.0 web</td>\n",
       "      <td>serious magic</td>\n",
       "      <td>239.99</td>\n",
       "      <td>serious magic visual communicator 2 web presen...</td>\n",
       "      <td>NaN</td>\n",
       "      <td>109.99</td>\n",
       "    </tr>\n",
       "    <tr>\n",
       "      <th>10323</th>\n",
       "      <td>0.495180</td>\n",
       "      <td>1</td>\n",
       "      <td>upg sgms 1000 incremental node</td>\n",
       "      <td>sonic-systems-inc .</td>\n",
       "      <td>239.99</td>\n",
       "      <td>sonicwall gms 1000n-incremental lic upg</td>\n",
       "      <td>sonic-systems-inc .</td>\n",
       "      <td>109.99</td>\n",
       "    </tr>\n",
       "    <tr>\n",
       "      <th>11407</th>\n",
       "      <td>0.382555</td>\n",
       "      <td>1</td>\n",
       "      <td>family tree maker version 16 collectors editio...</td>\n",
       "      <td>encore software</td>\n",
       "      <td>239.99</td>\n",
       "      <td>encore software 10861 family tree maker versio...</td>\n",
       "      <td>NaN</td>\n",
       "      <td>109.99</td>\n",
       "    </tr>\n",
       "    <tr>\n",
       "      <th>10388</th>\n",
       "      <td>0.353678</td>\n",
       "      <td>1</td>\n",
       "      <td>printmaster platinum v 17.0</td>\n",
       "      <td>encore software</td>\n",
       "      <td>239.99</td>\n",
       "      <td>print master platinum v17</td>\n",
       "      <td>NaN</td>\n",
       "      <td>109.99</td>\n",
       "    </tr>\n",
       "    <tr>\n",
       "      <th>9695</th>\n",
       "      <td>0.356766</td>\n",
       "      <td>1</td>\n",
       "      <td>elementary advantage 2008</td>\n",
       "      <td>encore</td>\n",
       "      <td>239.99</td>\n",
       "      <td>encore software 12360 elementary advantage 200...</td>\n",
       "      <td>NaN</td>\n",
       "      <td>109.99</td>\n",
       "    </tr>\n",
       "    <tr>\n",
       "      <th>11227</th>\n",
       "      <td>0.491529</td>\n",
       "      <td>1</td>\n",
       "      <td>cosmic blobs : lab rat edition ( win &amp; mac )</td>\n",
       "      <td>solidworks corporation</td>\n",
       "      <td>239.99</td>\n",
       "      <td>cosmic blobs : the lab rat edition by solidworks</td>\n",
       "      <td>NaN</td>\n",
       "      <td>109.99</td>\n",
       "    </tr>\n",
       "    <tr>\n",
       "      <th>10692</th>\n",
       "      <td>0.344007</td>\n",
       "      <td>1</td>\n",
       "      <td>noah 's ark activity center ( jewel case ages ...</td>\n",
       "      <td>victory multimedia</td>\n",
       "      <td>239.99</td>\n",
       "      <td>the beginners bible : noah 's ark activity cen...</td>\n",
       "      <td>NaN</td>\n",
       "      <td>109.99</td>\n",
       "    </tr>\n",
       "    <tr>\n",
       "      <th>10545</th>\n",
       "      <td>0.353776</td>\n",
       "      <td>1</td>\n",
       "      <td>crystal reports 11 professional full product f...</td>\n",
       "      <td>business objects</td>\n",
       "      <td>239.99</td>\n",
       "      <td>crystal reports xi professional edition comple...</td>\n",
       "      <td>NaN</td>\n",
       "      <td>109.99</td>\n",
       "    </tr>\n",
       "    <tr>\n",
       "      <th>9672</th>\n",
       "      <td>0.403129</td>\n",
       "      <td>1</td>\n",
       "      <td>ideasoft photo clip art 10 000</td>\n",
       "      <td>nova development</td>\n",
       "      <td>239.99</td>\n",
       "      <td>nova development corp ideasoft photo clip art ...</td>\n",
       "      <td>NaN</td>\n",
       "      <td>109.99</td>\n",
       "    </tr>\n",
       "    <tr>\n",
       "      <th>10693</th>\n",
       "      <td>0.353601</td>\n",
       "      <td>1</td>\n",
       "      <td>microsoft licenses exch . srvr extrn conn sa e...</td>\n",
       "      <td>microsoft licenses</td>\n",
       "      <td>239.99</td>\n",
       "      <td>microsoft 394-00416 opens exch svr exconn l/sa...</td>\n",
       "      <td>NaN</td>\n",
       "      <td>109.99</td>\n",
       "    </tr>\n",
       "    <tr>\n",
       "      <th>11117</th>\n",
       "      <td>0.347285</td>\n",
       "      <td>1</td>\n",
       "      <td>portfolio media kit be syst recovery 7.0 win s...</td>\n",
       "      <td>symantec</td>\n",
       "      <td>239.99</td>\n",
       "      <td>symantec 11859201 be sys recovery 7.0 win sbs ...</td>\n",
       "      <td>NaN</td>\n",
       "      <td>109.99</td>\n",
       "    </tr>\n",
       "    <tr>\n",
       "      <th>10067</th>\n",
       "      <td>0.393996</td>\n",
       "      <td>1</td>\n",
       "      <td>tournament poker 2005</td>\n",
       "      <td>eagle games</td>\n",
       "      <td>239.99</td>\n",
       "      <td>eagle games egl 150 tournament poker no limit ...</td>\n",
       "      <td>eagle games</td>\n",
       "      <td>109.99</td>\n",
       "    </tr>\n",
       "    <tr>\n",
       "      <th>10051</th>\n",
       "      <td>0.328831</td>\n",
       "      <td>1</td>\n",
       "      <td>scholastic brain play : pre-kindergarten 1st g...</td>\n",
       "      <td>topics entertainment</td>\n",
       "      <td>239.99</td>\n",
       "      <td>scholastic brain play preschool to 1st grade t...</td>\n",
       "      <td>NaN</td>\n",
       "      <td>109.99</td>\n",
       "    </tr>\n",
       "    <tr>\n",
       "      <th>10381</th>\n",
       "      <td>0.343969</td>\n",
       "      <td>1</td>\n",
       "      <td>reel deal casino quest</td>\n",
       "      <td>phantom efx</td>\n",
       "      <td>239.99</td>\n",
       "      <td>reel deal casino quest ( win 95 98 me 2000 xp )</td>\n",
       "      <td>NaN</td>\n",
       "      <td>109.99</td>\n",
       "    </tr>\n",
       "    <tr>\n",
       "      <th>9507</th>\n",
       "      <td>0.347976</td>\n",
       "      <td>1</td>\n",
       "      <td>trudy 's time and place house ages 3-6</td>\n",
       "      <td>ibm</td>\n",
       "      <td>239.99</td>\n",
       "      <td>trudys time &amp; place house</td>\n",
       "      <td>NaN</td>\n",
       "      <td>109.99</td>\n",
       "    </tr>\n",
       "    <tr>\n",
       "      <th>10674</th>\n",
       "      <td>0.481290</td>\n",
       "      <td>1</td>\n",
       "      <td>john deere : welcome to merriweather farm</td>\n",
       "      <td>global-software-publishing</td>\n",
       "      <td>239.99</td>\n",
       "      <td>john deere : welcome to merriweather farm by b...</td>\n",
       "      <td>global-software-publishing</td>\n",
       "      <td>109.99</td>\n",
       "    </tr>\n",
       "    <tr>\n",
       "      <th>9426</th>\n",
       "      <td>0.394041</td>\n",
       "      <td>1</td>\n",
       "      <td>starry night astronomy screensaver win/mac</td>\n",
       "      <td>imaginova</td>\n",
       "      <td>239.99</td>\n",
       "      <td>orion/imaginova starry night screensaver</td>\n",
       "      <td>NaN</td>\n",
       "      <td>109.99</td>\n",
       "    </tr>\n",
       "    <tr>\n",
       "      <th>11563</th>\n",
       "      <td>0.356448</td>\n",
       "      <td>1</td>\n",
       "      <td>crusader kings</td>\n",
       "      <td>atari</td>\n",
       "      <td>239.99</td>\n",
       "      <td>atari 26162 crusader kings mb</td>\n",
       "      <td>NaN</td>\n",
       "      <td>109.99</td>\n",
       "    </tr>\n",
       "    <tr>\n",
       "      <th>10332</th>\n",
       "      <td>0.363290</td>\n",
       "      <td>1</td>\n",
       "      <td>battlefield 1942 : deluxe edition</td>\n",
       "      <td>electronic arts</td>\n",
       "      <td>239.99</td>\n",
       "      <td>ea sports battlefield 1942 : deluxe edition ( ...</td>\n",
       "      <td>NaN</td>\n",
       "      <td>109.99</td>\n",
       "    </tr>\n",
       "    <tr>\n",
       "      <th>10206</th>\n",
       "      <td>0.346628</td>\n",
       "      <td>1</td>\n",
       "      <td>now up-to-date &amp; contact v5 .0 ( mac )</td>\n",
       "      <td>now software</td>\n",
       "      <td>239.99</td>\n",
       "      <td>now software now up-to-date and contact</td>\n",
       "      <td>NaN</td>\n",
       "      <td>109.99</td>\n",
       "    </tr>\n",
       "    <tr>\n",
       "      <th>10448</th>\n",
       "      <td>0.348617</td>\n",
       "      <td>1</td>\n",
       "      <td>now up-to-date &amp; contact v5 .0 ( mac )</td>\n",
       "      <td>now software</td>\n",
       "      <td>239.99</td>\n",
       "      <td>now software num50e1r up-to-date &amp; contact v. ...</td>\n",
       "      <td>NaN</td>\n",
       "      <td>109.99</td>\n",
       "    </tr>\n",
       "    <tr>\n",
       "      <th>10758</th>\n",
       "      <td>0.368710</td>\n",
       "      <td>1</td>\n",
       "      <td>brain food games : cranium collection 2006</td>\n",
       "      <td>encore</td>\n",
       "      <td>239.99</td>\n",
       "      <td>encore software 11250 brain food games : crani...</td>\n",
       "      <td>NaN</td>\n",
       "      <td>109.99</td>\n",
       "    </tr>\n",
       "    <tr>\n",
       "      <th>9422</th>\n",
       "      <td>0.346113</td>\n",
       "      <td>1</td>\n",
       "      <td>alsoft diskwarrior : mac univeral binary</td>\n",
       "      <td>alsoft</td>\n",
       "      <td>239.99</td>\n",
       "      <td>alsoft diskwarrior for intel</td>\n",
       "      <td>NaN</td>\n",
       "      <td>109.99</td>\n",
       "    </tr>\n",
       "    <tr>\n",
       "      <th>10861</th>\n",
       "      <td>0.344961</td>\n",
       "      <td>1</td>\n",
       "      <td>transfer my dvd</td>\n",
       "      <td>avanquest</td>\n",
       "      <td>239.99</td>\n",
       "      <td>transfer my dvd avanquest usa</td>\n",
       "      <td>NaN</td>\n",
       "      <td>109.99</td>\n",
       "    </tr>\n",
       "    <tr>\n",
       "      <th>10843</th>\n",
       "      <td>0.350887</td>\n",
       "      <td>1</td>\n",
       "      <td>pcanywhere 11.0 host only cd-rom xp 98 nt w2k me</td>\n",
       "      <td>symantec</td>\n",
       "      <td>239.99</td>\n",
       "      <td>symantec pcanywhere 11.0 windows</td>\n",
       "      <td>NaN</td>\n",
       "      <td>109.99</td>\n",
       "    </tr>\n",
       "    <tr>\n",
       "      <th>10781</th>\n",
       "      <td>0.357151</td>\n",
       "      <td>1</td>\n",
       "      <td>money premium 2007 win32 eng na mini box us on...</td>\n",
       "      <td>microsoft</td>\n",
       "      <td>239.99</td>\n",
       "      <td>money prem 2007 cd minibox</td>\n",
       "      <td>microsoft</td>\n",
       "      <td>109.99</td>\n",
       "    </tr>\n",
       "    <tr>\n",
       "      <th>9569</th>\n",
       "      <td>0.352981</td>\n",
       "      <td>1</td>\n",
       "      <td>spycatcher 2007for pc</td>\n",
       "      <td>avanquest</td>\n",
       "      <td>239.99</td>\n",
       "      <td>avanquest usa llc spycatcher 2007</td>\n",
       "      <td>NaN</td>\n",
       "      <td>109.99</td>\n",
       "    </tr>\n",
       "    <tr>\n",
       "      <th>11216</th>\n",
       "      <td>0.342720</td>\n",
       "      <td>1</td>\n",
       "      <td>backup exec 10d win adv disk v10 .1 lic only (...</td>\n",
       "      <td>symantec corporation .</td>\n",
       "      <td>239.99</td>\n",
       "      <td>backup exec 10d win adv disk v10 .1 e/f/g / s/...</td>\n",
       "      <td>NaN</td>\n",
       "      <td>109.99</td>\n",
       "    </tr>\n",
       "    <tr>\n",
       "      <th>9453</th>\n",
       "      <td>0.373880</td>\n",
       "      <td>1</td>\n",
       "      <td>school zone flash action addition/subtraction ...</td>\n",
       "      <td>school zone</td>\n",
       "      <td>239.99</td>\n",
       "      <td>school zone interactive flash action addition ...</td>\n",
       "      <td>NaN</td>\n",
       "      <td>109.99</td>\n",
       "    </tr>\n",
       "  </tbody>\n",
       "</table>\n",
       "<p>97 rows × 8 columns</p>\n",
       "</div>"
      ],
      "text/plain": [
       "       match_score  label                                       ltable_title  \\\n",
       "id                                                                             \n",
       "11282     0.466431      1                      instant immersion spanish 2.0   \n",
       "9756      0.374673      1               instant immersion spanish deluxe 2.0   \n",
       "11403     0.362077      1          instant immersion japanese ( audio book )   \n",
       "10070     0.340863      1                             microsoft outlook 2007   \n",
       "9874      0.423653      1                             microsoft onenote 2007   \n",
       "...            ...    ...                                                ...   \n",
       "10843     0.350887      1   pcanywhere 11.0 host only cd-rom xp 98 nt w2k me   \n",
       "10781     0.357151      1  money premium 2007 win32 eng na mini box us on...   \n",
       "9569      0.352981      1                              spycatcher 2007for pc   \n",
       "11216     0.342720      1  backup exec 10d win adv disk v10 .1 lic only (...   \n",
       "9453      0.373880      1  school zone flash action addition/subtraction ...   \n",
       "\n",
       "          ltable_manufacturer  ltable_price  \\\n",
       "id                                            \n",
       "11282    topics entertainment        239.99   \n",
       "9756     topics entertainment        239.99   \n",
       "11403    topics entertainment        239.99   \n",
       "10070               microsoft        239.99   \n",
       "9874                microsoft        239.99   \n",
       "...                       ...           ...   \n",
       "10843                symantec        239.99   \n",
       "10781               microsoft        239.99   \n",
       "9569                avanquest        239.99   \n",
       "11216  symantec corporation .        239.99   \n",
       "9453              school zone        239.99   \n",
       "\n",
       "                                            rtable_title rtable_manufacturer  \\\n",
       "id                                                                             \n",
       "11282               instant immersion spanish 2.0 topics                 NaN   \n",
       "9756         instant immersion spanish deluxe 2.0 topics                 NaN   \n",
       "11403  instant immersion japanese ( audio book ) ( au...                 NaN   \n",
       "10070                      microsoft office outlook 2007                 NaN   \n",
       "9874                       microsoft onenote 2007 ( pc )                 NaN   \n",
       "...                                                  ...                 ...   \n",
       "10843                   symantec pcanywhere 11.0 windows                 NaN   \n",
       "10781                         money prem 2007 cd minibox           microsoft   \n",
       "9569                   avanquest usa llc spycatcher 2007                 NaN   \n",
       "11216  backup exec 10d win adv disk v10 .1 e/f/g / s/...                 NaN   \n",
       "9453   school zone interactive flash action addition ...                 NaN   \n",
       "\n",
       "       rtable_price  \n",
       "id                   \n",
       "11282        109.99  \n",
       "9756         109.99  \n",
       "11403        109.99  \n",
       "10070        109.99  \n",
       "9874         109.99  \n",
       "...             ...  \n",
       "10843        109.99  \n",
       "10781        109.99  \n",
       "9569         109.99  \n",
       "11216        109.99  \n",
       "9453         109.99  \n",
       "\n",
       "[97 rows x 8 columns]"
      ]
     },
     "execution_count": 12,
     "metadata": {},
     "output_type": "execute_result"
    }
   ],
   "source": [
    "critical_pos_rnn['price'][0]"
   ]
  },
  {
   "cell_type": "code",
   "execution_count": 13,
   "metadata": {},
   "outputs": [
    {
     "data": {
      "text/html": [
       "<div>\n",
       "<style scoped>\n",
       "    .dataframe tbody tr th:only-of-type {\n",
       "        vertical-align: middle;\n",
       "    }\n",
       "\n",
       "    .dataframe tbody tr th {\n",
       "        vertical-align: top;\n",
       "    }\n",
       "\n",
       "    .dataframe thead th {\n",
       "        text-align: right;\n",
       "    }\n",
       "</style>\n",
       "<table border=\"1\" class=\"dataframe\">\n",
       "  <thead>\n",
       "    <tr style=\"text-align: right;\">\n",
       "      <th></th>\n",
       "      <th>match_score</th>\n",
       "      <th>label</th>\n",
       "      <th>ltable_title</th>\n",
       "      <th>ltable_manufacturer</th>\n",
       "      <th>ltable_price</th>\n",
       "      <th>rtable_title</th>\n",
       "      <th>rtable_manufacturer</th>\n",
       "      <th>rtable_price</th>\n",
       "    </tr>\n",
       "    <tr>\n",
       "      <th>id</th>\n",
       "      <th></th>\n",
       "      <th></th>\n",
       "      <th></th>\n",
       "      <th></th>\n",
       "      <th></th>\n",
       "      <th></th>\n",
       "      <th></th>\n",
       "      <th></th>\n",
       "    </tr>\n",
       "  </thead>\n",
       "  <tbody>\n",
       "    <tr>\n",
       "      <th>11282</th>\n",
       "      <td>0.448032</td>\n",
       "      <td>1</td>\n",
       "      <td>instant immersion spanish 2.0</td>\n",
       "      <td>topics entertainment</td>\n",
       "      <td>495.0</td>\n",
       "      <td>instant immersion spanish 2.0 topics</td>\n",
       "      <td>NaN</td>\n",
       "      <td>49.99</td>\n",
       "    </tr>\n",
       "    <tr>\n",
       "      <th>10375</th>\n",
       "      <td>0.497191</td>\n",
       "      <td>1</td>\n",
       "      <td>adobe flash pro cs3 upgrade [ mac ]</td>\n",
       "      <td>adobe</td>\n",
       "      <td>495.0</td>\n",
       "      <td>adobe cs3 flash professional upgrade</td>\n",
       "      <td>NaN</td>\n",
       "      <td>49.99</td>\n",
       "    </tr>\n",
       "    <tr>\n",
       "      <th>9756</th>\n",
       "      <td>0.368287</td>\n",
       "      <td>1</td>\n",
       "      <td>instant immersion spanish deluxe 2.0</td>\n",
       "      <td>topics entertainment</td>\n",
       "      <td>495.0</td>\n",
       "      <td>instant immersion spanish deluxe 2.0 topics</td>\n",
       "      <td>NaN</td>\n",
       "      <td>49.99</td>\n",
       "    </tr>\n",
       "    <tr>\n",
       "      <th>11403</th>\n",
       "      <td>0.367143</td>\n",
       "      <td>1</td>\n",
       "      <td>instant immersion japanese ( audio book )</td>\n",
       "      <td>topics entertainment</td>\n",
       "      <td>495.0</td>\n",
       "      <td>instant immersion japanese ( audio book ) ( au...</td>\n",
       "      <td>NaN</td>\n",
       "      <td>49.99</td>\n",
       "    </tr>\n",
       "    <tr>\n",
       "      <th>10070</th>\n",
       "      <td>0.336907</td>\n",
       "      <td>1</td>\n",
       "      <td>microsoft outlook 2007</td>\n",
       "      <td>microsoft</td>\n",
       "      <td>495.0</td>\n",
       "      <td>microsoft office outlook 2007</td>\n",
       "      <td>NaN</td>\n",
       "      <td>49.99</td>\n",
       "    </tr>\n",
       "    <tr>\n",
       "      <th>9874</th>\n",
       "      <td>0.364614</td>\n",
       "      <td>1</td>\n",
       "      <td>microsoft onenote 2007</td>\n",
       "      <td>microsoft</td>\n",
       "      <td>495.0</td>\n",
       "      <td>microsoft onenote 2007 ( pc )</td>\n",
       "      <td>NaN</td>\n",
       "      <td>49.99</td>\n",
       "    </tr>\n",
       "    <tr>\n",
       "      <th>10480</th>\n",
       "      <td>0.346310</td>\n",
       "      <td>1</td>\n",
       "      <td>money home &amp; business 2007 win32 eng na mini b...</td>\n",
       "      <td>microsoft</td>\n",
       "      <td>495.0</td>\n",
       "      <td>microsoft money 2007 home and business ( pc )</td>\n",
       "      <td>NaN</td>\n",
       "      <td>49.99</td>\n",
       "    </tr>\n",
       "    <tr>\n",
       "      <th>10377</th>\n",
       "      <td>0.323449</td>\n",
       "      <td>1</td>\n",
       "      <td>microsoft office 2004 professional ( mac )</td>\n",
       "      <td>microsoft</td>\n",
       "      <td>495.0</td>\n",
       "      <td>microsoft microsoft office pro 2004 software s...</td>\n",
       "      <td>NaN</td>\n",
       "      <td>49.99</td>\n",
       "    </tr>\n",
       "    <tr>\n",
       "      <th>10997</th>\n",
       "      <td>0.397347</td>\n",
       "      <td>1</td>\n",
       "      <td>punch 5 in 1 home design</td>\n",
       "      <td>punch ! software</td>\n",
       "      <td>495.0</td>\n",
       "      <td>punch software 20100 punch ! 5 in 1 home design</td>\n",
       "      <td>punch software</td>\n",
       "      <td>49.99</td>\n",
       "    </tr>\n",
       "    <tr>\n",
       "      <th>9515</th>\n",
       "      <td>0.346409</td>\n",
       "      <td>1</td>\n",
       "      <td>mcafee internet security suite 2007 3 users</td>\n",
       "      <td>mcafee</td>\n",
       "      <td>495.0</td>\n",
       "      <td>mcafee internet security suite 2007 3-user ( pc )</td>\n",
       "      <td>NaN</td>\n",
       "      <td>49.99</td>\n",
       "    </tr>\n",
       "    <tr>\n",
       "      <th>10753</th>\n",
       "      <td>0.430961</td>\n",
       "      <td>1</td>\n",
       "      <td>passwords plus 1.0</td>\n",
       "      <td>dataviz</td>\n",
       "      <td>495.0</td>\n",
       "      <td>passwords plus v. 1.0 complete package</td>\n",
       "      <td>NaN</td>\n",
       "      <td>49.99</td>\n",
       "    </tr>\n",
       "    <tr>\n",
       "      <th>10736</th>\n",
       "      <td>0.337955</td>\n",
       "      <td>1</td>\n",
       "      <td>punch ! home design architectura series 18</td>\n",
       "      <td>punch ! software</td>\n",
       "      <td>495.0</td>\n",
       "      <td>punch software 41100 punch ! home design archi...</td>\n",
       "      <td>NaN</td>\n",
       "      <td>49.99</td>\n",
       "    </tr>\n",
       "    <tr>\n",
       "      <th>11497</th>\n",
       "      <td>0.352622</td>\n",
       "      <td>1</td>\n",
       "      <td>mac os x server v10 .4.7 10-client</td>\n",
       "      <td>apple</td>\n",
       "      <td>495.0</td>\n",
       "      <td>apple apple mac os x server 10 4 7 10 client</td>\n",
       "      <td>NaN</td>\n",
       "      <td>49.99</td>\n",
       "    </tr>\n",
       "    <tr>\n",
       "      <th>10999</th>\n",
       "      <td>0.360080</td>\n",
       "      <td>1</td>\n",
       "      <td>mac os x server v10 .4.7 unlimited client</td>\n",
       "      <td>apple</td>\n",
       "      <td>495.0</td>\n",
       "      <td>apple mac os x server tiger unlimited apple &amp; ...</td>\n",
       "      <td>NaN</td>\n",
       "      <td>49.99</td>\n",
       "    </tr>\n",
       "    <tr>\n",
       "      <th>9459</th>\n",
       "      <td>0.453626</td>\n",
       "      <td>1</td>\n",
       "      <td>microsoft digital image suite plus [ lb ]</td>\n",
       "      <td>microsoft software</td>\n",
       "      <td>495.0</td>\n",
       "      <td>microsoft digital image suite plus full versio...</td>\n",
       "      <td>NaN</td>\n",
       "      <td>49.99</td>\n",
       "    </tr>\n",
       "    <tr>\n",
       "      <th>10529</th>\n",
       "      <td>0.345213</td>\n",
       "      <td>1</td>\n",
       "      <td>3d home architect landscape design deluxe vers...</td>\n",
       "      <td>encore</td>\n",
       "      <td>495.0</td>\n",
       "      <td>encore inc 3d home architect landscape design ...</td>\n",
       "      <td>NaN</td>\n",
       "      <td>49.99</td>\n",
       "    </tr>\n",
       "    <tr>\n",
       "      <th>11372</th>\n",
       "      <td>0.330428</td>\n",
       "      <td>1</td>\n",
       "      <td>instant home design 3.0 [ lb ]</td>\n",
       "      <td>topics entertainment</td>\n",
       "      <td>495.0</td>\n",
       "      <td>instant home design 3.0</td>\n",
       "      <td>NaN</td>\n",
       "      <td>49.99</td>\n",
       "    </tr>\n",
       "    <tr>\n",
       "      <th>11569</th>\n",
       "      <td>0.327758</td>\n",
       "      <td>1</td>\n",
       "      <td>adobe after effects cs3</td>\n",
       "      <td>adobe</td>\n",
       "      <td>495.0</td>\n",
       "      <td>adobe after effects cs3 professional software ...</td>\n",
       "      <td>NaN</td>\n",
       "      <td>49.99</td>\n",
       "    </tr>\n",
       "    <tr>\n",
       "      <th>11119</th>\n",
       "      <td>0.473577</td>\n",
       "      <td>1</td>\n",
       "      <td>microspot interiors</td>\n",
       "      <td>microspot ltd.</td>\n",
       "      <td>495.0</td>\n",
       "      <td>microspot interiors ( ints3 .6 sb )</td>\n",
       "      <td>NaN</td>\n",
       "      <td>49.99</td>\n",
       "    </tr>\n",
       "    <tr>\n",
       "      <th>11382</th>\n",
       "      <td>0.357230</td>\n",
       "      <td>1</td>\n",
       "      <td>reader rabbit learning system 1st grade</td>\n",
       "      <td>encore software</td>\n",
       "      <td>495.0</td>\n",
       "      <td>reader rabbit 1st grade</td>\n",
       "      <td>NaN</td>\n",
       "      <td>49.99</td>\n",
       "    </tr>\n",
       "    <tr>\n",
       "      <th>10577</th>\n",
       "      <td>0.328420</td>\n",
       "      <td>1</td>\n",
       "      <td>instant immersion french 2.0</td>\n",
       "      <td>topics entertainment</td>\n",
       "      <td>495.0</td>\n",
       "      <td>topics entertainment 80542 instant immersion f...</td>\n",
       "      <td>NaN</td>\n",
       "      <td>49.99</td>\n",
       "    </tr>\n",
       "    <tr>\n",
       "      <th>10723</th>\n",
       "      <td>0.349882</td>\n",
       "      <td>1</td>\n",
       "      <td>iplaymusic beginner guitar lessons for the mac...</td>\n",
       "      <td>iplaymusic</td>\n",
       "      <td>495.0</td>\n",
       "      <td>iplaymusic beginner guitar lessons mac</td>\n",
       "      <td>NaN</td>\n",
       "      <td>49.99</td>\n",
       "    </tr>\n",
       "    <tr>\n",
       "      <th>10425</th>\n",
       "      <td>0.335831</td>\n",
       "      <td>1</td>\n",
       "      <td>mindjet mindmanager 7 mac single license</td>\n",
       "      <td>mindjet</td>\n",
       "      <td>495.0</td>\n",
       "      <td>mindjet inc. mm7m mindjet mindmanager 7 mac si...</td>\n",
       "      <td>NaN</td>\n",
       "      <td>49.99</td>\n",
       "    </tr>\n",
       "    <tr>\n",
       "      <th>9722</th>\n",
       "      <td>0.342973</td>\n",
       "      <td>1</td>\n",
       "      <td>timbuktu remote control softwre 1 license for ...</td>\n",
       "      <td>netopia</td>\n",
       "      <td>495.0</td>\n",
       "      <td>netopia timbuktu pro for mac single license</td>\n",
       "      <td>NaN</td>\n",
       "      <td>49.99</td>\n",
       "    </tr>\n",
       "    <tr>\n",
       "      <th>11287</th>\n",
       "      <td>0.326546</td>\n",
       "      <td>1</td>\n",
       "      <td>cosmi rom07524 print perfect business cards dvd</td>\n",
       "      <td>cosmi</td>\n",
       "      <td>495.0</td>\n",
       "      <td>print perfect business cards dvd ( pc ) cosmi</td>\n",
       "      <td>NaN</td>\n",
       "      <td>49.99</td>\n",
       "    </tr>\n",
       "    <tr>\n",
       "      <th>9969</th>\n",
       "      <td>0.421986</td>\n",
       "      <td>1</td>\n",
       "      <td>corel wordperfect office x3 professional edition</td>\n",
       "      <td>corel</td>\n",
       "      <td>495.0</td>\n",
       "      <td>corel corporation corel wordperfect office x3 ...</td>\n",
       "      <td>NaN</td>\n",
       "      <td>49.99</td>\n",
       "    </tr>\n",
       "    <tr>\n",
       "      <th>11032</th>\n",
       "      <td>0.346889</td>\n",
       "      <td>1</td>\n",
       "      <td>marine aquarium &amp; goldfish screen saver by enc...</td>\n",
       "      <td>encore software</td>\n",
       "      <td>495.0</td>\n",
       "      <td>encore software 10561 marine aquarium &amp; goldfi...</td>\n",
       "      <td>NaN</td>\n",
       "      <td>49.99</td>\n",
       "    </tr>\n",
       "    <tr>\n",
       "      <th>9696</th>\n",
       "      <td>0.336369</td>\n",
       "      <td>1</td>\n",
       "      <td>sims 2 pets expansion pack</td>\n",
       "      <td>aspyr media</td>\n",
       "      <td>495.0</td>\n",
       "      <td>sims 2 pets for mac</td>\n",
       "      <td>NaN</td>\n",
       "      <td>49.99</td>\n",
       "    </tr>\n",
       "    <tr>\n",
       "      <th>9963</th>\n",
       "      <td>0.445328</td>\n",
       "      <td>1</td>\n",
       "      <td>genuine fractals genuine fractals print pro 1u</td>\n",
       "      <td>onone software</td>\n",
       "      <td>495.0</td>\n",
       "      <td>onone software genuine fractals print pro soft...</td>\n",
       "      <td>NaN</td>\n",
       "      <td>49.99</td>\n",
       "    </tr>\n",
       "    <tr>\n",
       "      <th>11652</th>\n",
       "      <td>0.389121</td>\n",
       "      <td>1</td>\n",
       "      <td>apple final cut studio 2 upgrade from final cu...</td>\n",
       "      <td>apple</td>\n",
       "      <td>495.0</td>\n",
       "      <td>apple final cut studio 2 upgrade from final cu...</td>\n",
       "      <td>NaN</td>\n",
       "      <td>49.99</td>\n",
       "    </tr>\n",
       "    <tr>\n",
       "      <th>...</th>\n",
       "      <td>...</td>\n",
       "      <td>...</td>\n",
       "      <td>...</td>\n",
       "      <td>...</td>\n",
       "      <td>...</td>\n",
       "      <td>...</td>\n",
       "      <td>...</td>\n",
       "      <td>...</td>\n",
       "    </tr>\n",
       "    <tr>\n",
       "      <th>9695</th>\n",
       "      <td>0.322029</td>\n",
       "      <td>1</td>\n",
       "      <td>elementary advantage 2008</td>\n",
       "      <td>encore</td>\n",
       "      <td>495.0</td>\n",
       "      <td>encore software 12360 elementary advantage 200...</td>\n",
       "      <td>NaN</td>\n",
       "      <td>49.99</td>\n",
       "    </tr>\n",
       "    <tr>\n",
       "      <th>11227</th>\n",
       "      <td>0.423858</td>\n",
       "      <td>1</td>\n",
       "      <td>cosmic blobs : lab rat edition ( win &amp; mac )</td>\n",
       "      <td>solidworks corporation</td>\n",
       "      <td>495.0</td>\n",
       "      <td>cosmic blobs : the lab rat edition by solidworks</td>\n",
       "      <td>NaN</td>\n",
       "      <td>49.99</td>\n",
       "    </tr>\n",
       "    <tr>\n",
       "      <th>10692</th>\n",
       "      <td>0.317704</td>\n",
       "      <td>1</td>\n",
       "      <td>noah 's ark activity center ( jewel case ages ...</td>\n",
       "      <td>victory multimedia</td>\n",
       "      <td>495.0</td>\n",
       "      <td>the beginners bible : noah 's ark activity cen...</td>\n",
       "      <td>NaN</td>\n",
       "      <td>49.99</td>\n",
       "    </tr>\n",
       "    <tr>\n",
       "      <th>10545</th>\n",
       "      <td>0.348887</td>\n",
       "      <td>1</td>\n",
       "      <td>crystal reports 11 professional full product f...</td>\n",
       "      <td>business objects</td>\n",
       "      <td>495.0</td>\n",
       "      <td>crystal reports xi professional edition comple...</td>\n",
       "      <td>NaN</td>\n",
       "      <td>49.99</td>\n",
       "    </tr>\n",
       "    <tr>\n",
       "      <th>9891</th>\n",
       "      <td>0.492385</td>\n",
       "      <td>1</td>\n",
       "      <td>panda software antivirus &amp; firewall 2008 windows</td>\n",
       "      <td>panda software</td>\n",
       "      <td>495.0</td>\n",
       "      <td>sos aggregation company panda antivirus + fire...</td>\n",
       "      <td>NaN</td>\n",
       "      <td>49.99</td>\n",
       "    </tr>\n",
       "    <tr>\n",
       "      <th>9672</th>\n",
       "      <td>0.353038</td>\n",
       "      <td>1</td>\n",
       "      <td>ideasoft photo clip art 10 000</td>\n",
       "      <td>nova development</td>\n",
       "      <td>495.0</td>\n",
       "      <td>nova development corp ideasoft photo clip art ...</td>\n",
       "      <td>NaN</td>\n",
       "      <td>49.99</td>\n",
       "    </tr>\n",
       "    <tr>\n",
       "      <th>11472</th>\n",
       "      <td>0.479565</td>\n",
       "      <td>1</td>\n",
       "      <td>wanted : a wild western adventure</td>\n",
       "      <td>dreamcatcher interactive</td>\n",
       "      <td>495.0</td>\n",
       "      <td>dreamcatcher interactive wanted wild willy west</td>\n",
       "      <td>NaN</td>\n",
       "      <td>49.99</td>\n",
       "    </tr>\n",
       "    <tr>\n",
       "      <th>10693</th>\n",
       "      <td>0.329010</td>\n",
       "      <td>1</td>\n",
       "      <td>microsoft licenses exch . srvr extrn conn sa e...</td>\n",
       "      <td>microsoft licenses</td>\n",
       "      <td>495.0</td>\n",
       "      <td>microsoft 394-00416 opens exch svr exconn l/sa...</td>\n",
       "      <td>NaN</td>\n",
       "      <td>49.99</td>\n",
       "    </tr>\n",
       "    <tr>\n",
       "      <th>11117</th>\n",
       "      <td>0.330790</td>\n",
       "      <td>1</td>\n",
       "      <td>portfolio media kit be syst recovery 7.0 win s...</td>\n",
       "      <td>symantec</td>\n",
       "      <td>495.0</td>\n",
       "      <td>symantec 11859201 be sys recovery 7.0 win sbs ...</td>\n",
       "      <td>NaN</td>\n",
       "      <td>49.99</td>\n",
       "    </tr>\n",
       "    <tr>\n",
       "      <th>10067</th>\n",
       "      <td>0.355349</td>\n",
       "      <td>1</td>\n",
       "      <td>tournament poker 2005</td>\n",
       "      <td>eagle games</td>\n",
       "      <td>495.0</td>\n",
       "      <td>eagle games egl 150 tournament poker no limit ...</td>\n",
       "      <td>eagle games</td>\n",
       "      <td>49.99</td>\n",
       "    </tr>\n",
       "    <tr>\n",
       "      <th>10051</th>\n",
       "      <td>0.311170</td>\n",
       "      <td>1</td>\n",
       "      <td>scholastic brain play : pre-kindergarten 1st g...</td>\n",
       "      <td>topics entertainment</td>\n",
       "      <td>495.0</td>\n",
       "      <td>scholastic brain play preschool to 1st grade t...</td>\n",
       "      <td>NaN</td>\n",
       "      <td>49.99</td>\n",
       "    </tr>\n",
       "    <tr>\n",
       "      <th>10381</th>\n",
       "      <td>0.323598</td>\n",
       "      <td>1</td>\n",
       "      <td>reel deal casino quest</td>\n",
       "      <td>phantom efx</td>\n",
       "      <td>495.0</td>\n",
       "      <td>reel deal casino quest ( win 95 98 me 2000 xp )</td>\n",
       "      <td>NaN</td>\n",
       "      <td>49.99</td>\n",
       "    </tr>\n",
       "    <tr>\n",
       "      <th>9507</th>\n",
       "      <td>0.342665</td>\n",
       "      <td>1</td>\n",
       "      <td>trudy 's time and place house ages 3-6</td>\n",
       "      <td>ibm</td>\n",
       "      <td>495.0</td>\n",
       "      <td>trudys time &amp; place house</td>\n",
       "      <td>NaN</td>\n",
       "      <td>49.99</td>\n",
       "    </tr>\n",
       "    <tr>\n",
       "      <th>10674</th>\n",
       "      <td>0.483922</td>\n",
       "      <td>1</td>\n",
       "      <td>john deere : welcome to merriweather farm</td>\n",
       "      <td>global-software-publishing</td>\n",
       "      <td>495.0</td>\n",
       "      <td>john deere : welcome to merriweather farm by b...</td>\n",
       "      <td>global-software-publishing</td>\n",
       "      <td>49.99</td>\n",
       "    </tr>\n",
       "    <tr>\n",
       "      <th>9426</th>\n",
       "      <td>0.378478</td>\n",
       "      <td>1</td>\n",
       "      <td>starry night astronomy screensaver win/mac</td>\n",
       "      <td>imaginova</td>\n",
       "      <td>495.0</td>\n",
       "      <td>orion/imaginova starry night screensaver</td>\n",
       "      <td>NaN</td>\n",
       "      <td>49.99</td>\n",
       "    </tr>\n",
       "    <tr>\n",
       "      <th>11563</th>\n",
       "      <td>0.336664</td>\n",
       "      <td>1</td>\n",
       "      <td>crusader kings</td>\n",
       "      <td>atari</td>\n",
       "      <td>495.0</td>\n",
       "      <td>atari 26162 crusader kings mb</td>\n",
       "      <td>NaN</td>\n",
       "      <td>49.99</td>\n",
       "    </tr>\n",
       "    <tr>\n",
       "      <th>10332</th>\n",
       "      <td>0.331199</td>\n",
       "      <td>1</td>\n",
       "      <td>battlefield 1942 : deluxe edition</td>\n",
       "      <td>electronic arts</td>\n",
       "      <td>495.0</td>\n",
       "      <td>ea sports battlefield 1942 : deluxe edition ( ...</td>\n",
       "      <td>NaN</td>\n",
       "      <td>49.99</td>\n",
       "    </tr>\n",
       "    <tr>\n",
       "      <th>10206</th>\n",
       "      <td>0.337542</td>\n",
       "      <td>1</td>\n",
       "      <td>now up-to-date &amp; contact v5 .0 ( mac )</td>\n",
       "      <td>now software</td>\n",
       "      <td>495.0</td>\n",
       "      <td>now software now up-to-date and contact</td>\n",
       "      <td>NaN</td>\n",
       "      <td>49.99</td>\n",
       "    </tr>\n",
       "    <tr>\n",
       "      <th>10448</th>\n",
       "      <td>0.338118</td>\n",
       "      <td>1</td>\n",
       "      <td>now up-to-date &amp; contact v5 .0 ( mac )</td>\n",
       "      <td>now software</td>\n",
       "      <td>495.0</td>\n",
       "      <td>now software num50e1r up-to-date &amp; contact v. ...</td>\n",
       "      <td>NaN</td>\n",
       "      <td>49.99</td>\n",
       "    </tr>\n",
       "    <tr>\n",
       "      <th>10758</th>\n",
       "      <td>0.330576</td>\n",
       "      <td>1</td>\n",
       "      <td>brain food games : cranium collection 2006</td>\n",
       "      <td>encore</td>\n",
       "      <td>495.0</td>\n",
       "      <td>encore software 11250 brain food games : crani...</td>\n",
       "      <td>NaN</td>\n",
       "      <td>49.99</td>\n",
       "    </tr>\n",
       "    <tr>\n",
       "      <th>9422</th>\n",
       "      <td>0.329362</td>\n",
       "      <td>1</td>\n",
       "      <td>alsoft diskwarrior : mac univeral binary</td>\n",
       "      <td>alsoft</td>\n",
       "      <td>495.0</td>\n",
       "      <td>alsoft diskwarrior for intel</td>\n",
       "      <td>NaN</td>\n",
       "      <td>49.99</td>\n",
       "    </tr>\n",
       "    <tr>\n",
       "      <th>9771</th>\n",
       "      <td>0.481486</td>\n",
       "      <td>1</td>\n",
       "      <td>world history ( win/mac ) ( jewel case )</td>\n",
       "      <td>fogware publishing</td>\n",
       "      <td>495.0</td>\n",
       "      <td>high school world history ( pc/mac ) fogware</td>\n",
       "      <td>NaN</td>\n",
       "      <td>49.99</td>\n",
       "    </tr>\n",
       "    <tr>\n",
       "      <th>10861</th>\n",
       "      <td>0.328787</td>\n",
       "      <td>1</td>\n",
       "      <td>transfer my dvd</td>\n",
       "      <td>avanquest</td>\n",
       "      <td>495.0</td>\n",
       "      <td>transfer my dvd avanquest usa</td>\n",
       "      <td>NaN</td>\n",
       "      <td>49.99</td>\n",
       "    </tr>\n",
       "    <tr>\n",
       "      <th>10843</th>\n",
       "      <td>0.341095</td>\n",
       "      <td>1</td>\n",
       "      <td>pcanywhere 11.0 host only cd-rom xp 98 nt w2k me</td>\n",
       "      <td>symantec</td>\n",
       "      <td>495.0</td>\n",
       "      <td>symantec pcanywhere 11.0 windows</td>\n",
       "      <td>NaN</td>\n",
       "      <td>49.99</td>\n",
       "    </tr>\n",
       "    <tr>\n",
       "      <th>10781</th>\n",
       "      <td>0.345237</td>\n",
       "      <td>1</td>\n",
       "      <td>money premium 2007 win32 eng na mini box us on...</td>\n",
       "      <td>microsoft</td>\n",
       "      <td>495.0</td>\n",
       "      <td>money prem 2007 cd minibox</td>\n",
       "      <td>microsoft</td>\n",
       "      <td>49.99</td>\n",
       "    </tr>\n",
       "    <tr>\n",
       "      <th>9569</th>\n",
       "      <td>0.334912</td>\n",
       "      <td>1</td>\n",
       "      <td>spycatcher 2007for pc</td>\n",
       "      <td>avanquest</td>\n",
       "      <td>495.0</td>\n",
       "      <td>avanquest usa llc spycatcher 2007</td>\n",
       "      <td>NaN</td>\n",
       "      <td>49.99</td>\n",
       "    </tr>\n",
       "    <tr>\n",
       "      <th>11216</th>\n",
       "      <td>0.327197</td>\n",
       "      <td>1</td>\n",
       "      <td>backup exec 10d win adv disk v10 .1 lic only (...</td>\n",
       "      <td>symantec corporation .</td>\n",
       "      <td>495.0</td>\n",
       "      <td>backup exec 10d win adv disk v10 .1 e/f/g / s/...</td>\n",
       "      <td>NaN</td>\n",
       "      <td>49.99</td>\n",
       "    </tr>\n",
       "    <tr>\n",
       "      <th>10209</th>\n",
       "      <td>0.490855</td>\n",
       "      <td>1</td>\n",
       "      <td>gods : lands of infinity special edition</td>\n",
       "      <td>strategy first</td>\n",
       "      <td>495.0</td>\n",
       "      <td>gods : lands of infinity spec</td>\n",
       "      <td>NaN</td>\n",
       "      <td>49.99</td>\n",
       "    </tr>\n",
       "    <tr>\n",
       "      <th>9453</th>\n",
       "      <td>0.350016</td>\n",
       "      <td>1</td>\n",
       "      <td>school zone flash action addition/subtraction ...</td>\n",
       "      <td>school zone</td>\n",
       "      <td>495.0</td>\n",
       "      <td>school zone interactive flash action addition ...</td>\n",
       "      <td>NaN</td>\n",
       "      <td>49.99</td>\n",
       "    </tr>\n",
       "    <tr>\n",
       "      <th>11404</th>\n",
       "      <td>0.418863</td>\n",
       "      <td>1</td>\n",
       "      <td>burning monkey mahjongg ( mac )</td>\n",
       "      <td>freeverse software</td>\n",
       "      <td>495.0</td>\n",
       "      <td>freeverse burning monkey mahjong 3d</td>\n",
       "      <td>NaN</td>\n",
       "      <td>49.99</td>\n",
       "    </tr>\n",
       "  </tbody>\n",
       "</table>\n",
       "<p>113 rows × 8 columns</p>\n",
       "</div>"
      ],
      "text/plain": [
       "       match_score  label                                       ltable_title  \\\n",
       "id                                                                             \n",
       "11282     0.448032      1                      instant immersion spanish 2.0   \n",
       "10375     0.497191      1                adobe flash pro cs3 upgrade [ mac ]   \n",
       "9756      0.368287      1               instant immersion spanish deluxe 2.0   \n",
       "11403     0.367143      1          instant immersion japanese ( audio book )   \n",
       "10070     0.336907      1                             microsoft outlook 2007   \n",
       "...            ...    ...                                                ...   \n",
       "9569      0.334912      1                              spycatcher 2007for pc   \n",
       "11216     0.327197      1  backup exec 10d win adv disk v10 .1 lic only (...   \n",
       "10209     0.490855      1           gods : lands of infinity special edition   \n",
       "9453      0.350016      1  school zone flash action addition/subtraction ...   \n",
       "11404     0.418863      1                    burning monkey mahjongg ( mac )   \n",
       "\n",
       "          ltable_manufacturer  ltable_price  \\\n",
       "id                                            \n",
       "11282    topics entertainment         495.0   \n",
       "10375                   adobe         495.0   \n",
       "9756     topics entertainment         495.0   \n",
       "11403    topics entertainment         495.0   \n",
       "10070               microsoft         495.0   \n",
       "...                       ...           ...   \n",
       "9569                avanquest         495.0   \n",
       "11216  symantec corporation .         495.0   \n",
       "10209          strategy first         495.0   \n",
       "9453              school zone         495.0   \n",
       "11404      freeverse software         495.0   \n",
       "\n",
       "                                            rtable_title rtable_manufacturer  \\\n",
       "id                                                                             \n",
       "11282               instant immersion spanish 2.0 topics                 NaN   \n",
       "10375               adobe cs3 flash professional upgrade                 NaN   \n",
       "9756         instant immersion spanish deluxe 2.0 topics                 NaN   \n",
       "11403  instant immersion japanese ( audio book ) ( au...                 NaN   \n",
       "10070                      microsoft office outlook 2007                 NaN   \n",
       "...                                                  ...                 ...   \n",
       "9569                   avanquest usa llc spycatcher 2007                 NaN   \n",
       "11216  backup exec 10d win adv disk v10 .1 e/f/g / s/...                 NaN   \n",
       "10209                      gods : lands of infinity spec                 NaN   \n",
       "9453   school zone interactive flash action addition ...                 NaN   \n",
       "11404                freeverse burning monkey mahjong 3d                 NaN   \n",
       "\n",
       "       rtable_price  \n",
       "id                   \n",
       "11282         49.99  \n",
       "10375         49.99  \n",
       "9756          49.99  \n",
       "11403         49.99  \n",
       "10070         49.99  \n",
       "...             ...  \n",
       "9569          49.99  \n",
       "11216         49.99  \n",
       "10209         49.99  \n",
       "9453          49.99  \n",
       "11404         49.99  \n",
       "\n",
       "[113 rows x 8 columns]"
      ]
     },
     "execution_count": 13,
     "metadata": {},
     "output_type": "execute_result"
    }
   ],
   "source": [
    "critical_pos_rnn['price'][1]"
   ]
  },
  {
   "cell_type": "markdown",
   "metadata": {},
   "source": [
    "## Build new samples"
   ]
  },
  {
   "cell_type": "code",
   "execution_count": 22,
   "metadata": {},
   "outputs": [],
   "source": [
    "from utils.newSamplesBuilder import buildNewSamplesForAttribute"
   ]
  },
  {
   "cell_type": "code",
   "execution_count": 31,
   "metadata": {},
   "outputs": [],
   "source": [
    "train_df = pd.read_csv('../../Structured/Amazon-Google/merged_train.csv')\n",
    "len_negatives = train_df[train_df.label==0].shape[0]\n",
    "len_positives = train_df[train_df.label==1].shape[0]\n",
    "newSamplesForPrice = buildNewSamplesForAttribute(critical_pos_rnn,critical_neg_rnn,'price',int(len_positives/20),\n",
    "                                                int(len_negatives/20))"
   ]
  },
  {
   "cell_type": "code",
   "execution_count": 33,
   "metadata": {},
   "outputs": [
    {
     "data": {
      "text/plain": [
       "((68, 7), (590, 7))"
      ]
     },
     "execution_count": 33,
     "metadata": {},
     "output_type": "execute_result"
    }
   ],
   "source": [
    "newSamplesForPrice[newSamplesForPrice.label==1].shape,newSamplesForPrice[newSamplesForPrice.label==0].shape"
   ]
  },
  {
   "cell_type": "code",
   "execution_count": 36,
   "metadata": {},
   "outputs": [],
   "source": [
    "import numpy as np\n",
    "newSamplesForPrice['id'] = np.arange(train_df.shape[0],train_df.shape[0]+newSamplesForPrice.shape[0])\n",
    "extended_train = pd.concat([train_df,newSamplesForPrice])\n",
    "extended_train.to_csv('temp/extended_train.csv',index=False)"
   ]
  },
  {
   "cell_type": "code",
   "execution_count": 38,
   "metadata": {},
   "outputs": [],
   "source": [
    "!cp ../../Structured/Amazon-Google/merged_valid.csv temp\n",
    "!cp ../../Structured/Amazon-Google/merged_test.csv temp"
   ]
  },
  {
   "cell_type": "markdown",
   "metadata": {},
   "source": [
    "## Train model with new samples"
   ]
  },
  {
   "cell_type": "code",
   "execution_count": 39,
   "metadata": {},
   "outputs": [
    {
     "name": "stderr",
     "output_type": "stream",
     "text": [
      "WARNING:deepmatcher.data.dataset:Rebuilding data cache because: ['Data file list has changed.', 'One or more data files have been modified.']\n",
      "\n",
      "Reading and processing data from \"temp/extended_train.csv\"\n",
      "0% [############################# ] 100% | ETA: 00:00:00\n",
      "Reading and processing data from \"temp/merged_valid.csv\"\n",
      "0% [############################# ] 100% | ETA: 00:00:00\n",
      "Reading and processing data from \"temp/merged_test.csv\"\n",
      "0% [############################# ] 100% | ETA: 00:00:00\n",
      "Building vocabulary\n",
      "0% [########] 100% | ETA: 00:00:00\n",
      "Total time elapsed: 00:00:00\n",
      "\n",
      "Computing principal components\n",
      "0% [########] 100% | ETA: 00:00:00\n",
      "Total time elapsed: 00:00:01\n"
     ]
    }
   ],
   "source": [
    "train,validation,test = dm.data.process('temp',train='extended_train.csv',validation='merged_valid.csv',\n",
    "                                       test='merged_test.csv',left_prefix='ltable_',right_prefix='rtable_')"
   ]
  },
  {
   "cell_type": "code",
   "execution_count": 40,
   "metadata": {},
   "outputs": [
    {
     "name": "stdout",
     "output_type": "stream",
     "text": [
      "* Number of trainable parameters: 1762802\n",
      "===>  TRAIN Epoch 1\n"
     ]
    },
    {
     "name": "stderr",
     "output_type": "stream",
     "text": [
      "0% [██████████████████████████████] 100% | ETA: 00:00:00\n",
      "Total time elapsed: 00:00:12\n"
     ]
    },
    {
     "name": "stdout",
     "output_type": "stream",
     "text": [
      "Finished Epoch 1 || Run Time:    8.0 | Load Time:    4.2 || F1:  28.38 | Prec:  16.97 | Rec:  86.57 || Ex/s: 616.52\n",
      "\n",
      "===>  EVAL Epoch 1\n"
     ]
    },
    {
     "name": "stderr",
     "output_type": "stream",
     "text": [
      "0% [██████████████] 100% | ETA: 00:00:00\n",
      "Total time elapsed: 00:00:01\n"
     ]
    },
    {
     "name": "stdout",
     "output_type": "stream",
     "text": [
      "Finished Epoch 1 || Run Time:    0.7 | Load Time:    1.0 || F1:  40.13 | Prec:  26.60 | Rec:  81.62 || Ex/s: 1356.46\n",
      "\n",
      "* Best F1: 40.12605042016807\n",
      "Saving best model...\n",
      "Done.\n",
      "---------------------\n",
      "\n",
      "===>  TRAIN Epoch 2\n"
     ]
    },
    {
     "name": "stderr",
     "output_type": "stream",
     "text": [
      "0% [██████████████████████████████] 100% | ETA: 00:00:00\n",
      "Total time elapsed: 00:00:11\n"
     ]
    },
    {
     "name": "stdout",
     "output_type": "stream",
     "text": [
      "Finished Epoch 2 || Run Time:    7.1 | Load Time:    4.2 || F1:  47.31 | Prec:  31.66 | Rec:  93.61 || Ex/s: 668.21\n",
      "\n",
      "===>  EVAL Epoch 2\n"
     ]
    },
    {
     "name": "stderr",
     "output_type": "stream",
     "text": [
      "0% [██████████████] 100% | ETA: 00:00:00\n",
      "Total time elapsed: 00:00:01\n"
     ]
    },
    {
     "name": "stdout",
     "output_type": "stream",
     "text": [
      "Finished Epoch 2 || Run Time:    0.7 | Load Time:    1.0 || F1:  51.30 | Prec:  38.82 | Rec:  75.64 || Ex/s: 1356.42\n",
      "\n",
      "* Best F1: 51.30434782608695\n",
      "Saving best model...\n",
      "Done.\n",
      "---------------------\n",
      "\n",
      "===>  TRAIN Epoch 3\n"
     ]
    },
    {
     "name": "stderr",
     "output_type": "stream",
     "text": [
      "0% [██████████████████████████████] 100% | ETA: 00:00:00\n",
      "Total time elapsed: 00:00:11\n"
     ]
    },
    {
     "name": "stdout",
     "output_type": "stream",
     "text": [
      "Finished Epoch 3 || Run Time:    7.8 | Load Time:    4.2 || F1:  62.82 | Prec:  46.91 | Rec:  95.05 || Ex/s: 628.03\n",
      "\n",
      "===>  EVAL Epoch 3\n"
     ]
    },
    {
     "name": "stderr",
     "output_type": "stream",
     "text": [
      "0% [██████████████] 100% | ETA: 00:00:00\n",
      "Total time elapsed: 00:00:01\n"
     ]
    },
    {
     "name": "stdout",
     "output_type": "stream",
     "text": [
      "Finished Epoch 3 || Run Time:    0.7 | Load Time:    1.1 || F1:  57.93 | Prec:  48.55 | Rec:  71.79 || Ex/s: 1277.24\n",
      "\n",
      "* Best F1: 57.93103448275862\n",
      "Saving best model...\n",
      "Done.\n",
      "---------------------\n",
      "\n",
      "===>  TRAIN Epoch 4\n"
     ]
    },
    {
     "name": "stderr",
     "output_type": "stream",
     "text": [
      "0% [██████████████████████████████] 100% | ETA: 00:00:00\n",
      "Total time elapsed: 00:00:12\n"
     ]
    },
    {
     "name": "stdout",
     "output_type": "stream",
     "text": [
      "Finished Epoch 4 || Run Time:    8.3 | Load Time:    4.3 || F1:  73.67 | Prec:  59.58 | Rec:  96.48 || Ex/s: 599.72\n",
      "\n",
      "===>  EVAL Epoch 4\n"
     ]
    },
    {
     "name": "stderr",
     "output_type": "stream",
     "text": [
      "0% [██████████████] 100% | ETA: 00:00:00\n",
      "Total time elapsed: 00:00:01\n"
     ]
    },
    {
     "name": "stdout",
     "output_type": "stream",
     "text": [
      "Finished Epoch 4 || Run Time:    0.7 | Load Time:    1.0 || F1:  61.34 | Prec:  54.28 | Rec:  70.51 || Ex/s: 1370.14\n",
      "\n",
      "* Best F1: 61.33828996282528\n",
      "Saving best model...\n",
      "Done.\n",
      "---------------------\n",
      "\n",
      "===>  TRAIN Epoch 5\n"
     ]
    },
    {
     "name": "stderr",
     "output_type": "stream",
     "text": [
      "0% [██████████████████████████████] 100% | ETA: 00:00:00\n",
      "Total time elapsed: 00:00:12\n"
     ]
    },
    {
     "name": "stdout",
     "output_type": "stream",
     "text": [
      "Finished Epoch 5 || Run Time:    7.9 | Load Time:    4.3 || F1:  82.53 | Prec:  71.32 | Rec:  97.91 || Ex/s: 618.16\n",
      "\n",
      "===>  EVAL Epoch 5\n"
     ]
    },
    {
     "name": "stderr",
     "output_type": "stream",
     "text": [
      "0% [██████████████] 100% | ETA: 00:00:00\n",
      "Total time elapsed: 00:00:01\n"
     ]
    },
    {
     "name": "stdout",
     "output_type": "stream",
     "text": [
      "Finished Epoch 5 || Run Time:    0.7 | Load Time:    1.0 || F1:  62.26 | Prec:  57.14 | Rec:  68.38 || Ex/s: 1355.55\n",
      "\n",
      "* Best F1: 62.2568093385214\n",
      "Saving best model...\n",
      "Done.\n",
      "---------------------\n",
      "\n",
      "===>  TRAIN Epoch 6\n"
     ]
    },
    {
     "name": "stderr",
     "output_type": "stream",
     "text": [
      "0% [██████████████████████████████] 100% | ETA: 00:00:00\n",
      "Total time elapsed: 00:00:12\n"
     ]
    },
    {
     "name": "stdout",
     "output_type": "stream",
     "text": [
      "Finished Epoch 6 || Run Time:    8.3 | Load Time:    4.3 || F1:  88.52 | Prec:  80.34 | Rec:  98.57 || Ex/s: 596.02\n",
      "\n",
      "===>  EVAL Epoch 6\n"
     ]
    },
    {
     "name": "stderr",
     "output_type": "stream",
     "text": [
      "0% [██████████████] 100% | ETA: 00:00:00\n",
      "Total time elapsed: 00:00:01\n"
     ]
    },
    {
     "name": "stdout",
     "output_type": "stream",
     "text": [
      "Finished Epoch 6 || Run Time:    0.7 | Load Time:    1.1 || F1:  61.93 | Prec:  57.51 | Rec:  67.09 || Ex/s: 1303.26\n",
      "\n",
      "---------------------\n",
      "\n",
      "===>  TRAIN Epoch 7\n"
     ]
    },
    {
     "name": "stderr",
     "output_type": "stream",
     "text": [
      "0% [██████████████████████████████] 100% | ETA: 00:00:00\n",
      "Total time elapsed: 00:00:12\n"
     ]
    },
    {
     "name": "stdout",
     "output_type": "stream",
     "text": [
      "Finished Epoch 7 || Run Time:    7.8 | Load Time:    4.3 || F1:  91.24 | Prec:  84.54 | Rec:  99.09 || Ex/s: 622.56\n",
      "\n",
      "===>  EVAL Epoch 7\n"
     ]
    },
    {
     "name": "stderr",
     "output_type": "stream",
     "text": [
      "0% [██████████████] 100% | ETA: 00:00:00\n",
      "Total time elapsed: 00:00:01\n"
     ]
    },
    {
     "name": "stdout",
     "output_type": "stream",
     "text": [
      "Finished Epoch 7 || Run Time:    0.7 | Load Time:    1.1 || F1:  61.35 | Prec:  58.82 | Rec:  64.10 || Ex/s: 1317.06\n",
      "\n",
      "---------------------\n",
      "\n",
      "===>  TRAIN Epoch 8\n"
     ]
    },
    {
     "name": "stderr",
     "output_type": "stream",
     "text": [
      "0% [██████████████████████████████] 100% | ETA: 00:00:00\n",
      "Total time elapsed: 00:00:12\n"
     ]
    },
    {
     "name": "stdout",
     "output_type": "stream",
     "text": [
      "Finished Epoch 8 || Run Time:    8.3 | Load Time:    4.2 || F1:  93.97 | Prec:  89.03 | Rec:  99.48 || Ex/s: 601.66\n",
      "\n",
      "===>  EVAL Epoch 8\n"
     ]
    },
    {
     "name": "stderr",
     "output_type": "stream",
     "text": [
      "0% [██████████████] 100% | ETA: 00:00:00\n",
      "Total time elapsed: 00:00:01\n"
     ]
    },
    {
     "name": "stdout",
     "output_type": "stream",
     "text": [
      "Finished Epoch 8 || Run Time:    0.7 | Load Time:    1.0 || F1:  61.03 | Prec:  58.96 | Rec:  63.25 || Ex/s: 1353.85\n",
      "\n",
      "---------------------\n",
      "\n",
      "===>  TRAIN Epoch 9\n"
     ]
    },
    {
     "name": "stderr",
     "output_type": "stream",
     "text": [
      "0% [██████████████████████████████] 100% | ETA: 00:00:00\n",
      "Total time elapsed: 00:00:11\n"
     ]
    },
    {
     "name": "stdout",
     "output_type": "stream",
     "text": [
      "Finished Epoch 9 || Run Time:    7.7 | Load Time:    4.3 || F1:  95.44 | Prec:  91.61 | Rec:  99.61 || Ex/s: 625.72\n",
      "\n",
      "===>  EVAL Epoch 9\n"
     ]
    },
    {
     "name": "stderr",
     "output_type": "stream",
     "text": [
      "0% [██████████████] 100% | ETA: 00:00:00\n",
      "Total time elapsed: 00:00:01\n"
     ]
    },
    {
     "name": "stdout",
     "output_type": "stream",
     "text": [
      "Finished Epoch 9 || Run Time:    0.6 | Load Time:    1.0 || F1:  62.63 | Prec:  59.39 | Rec:  66.24 || Ex/s: 1379.56\n",
      "\n",
      "* Best F1: 62.62626262626263\n",
      "Saving best model...\n",
      "Done.\n",
      "---------------------\n",
      "\n",
      "===>  TRAIN Epoch 10\n"
     ]
    },
    {
     "name": "stderr",
     "output_type": "stream",
     "text": [
      "0% [██████████████████████████████] 100% | ETA: 00:00:00\n",
      "Total time elapsed: 00:00:12\n"
     ]
    },
    {
     "name": "stdout",
     "output_type": "stream",
     "text": [
      "Finished Epoch 10 || Run Time:    8.2 | Load Time:    4.3 || F1:  96.34 | Prec:  93.28 | Rec:  99.61 || Ex/s: 603.68\n",
      "\n",
      "===>  EVAL Epoch 10\n"
     ]
    },
    {
     "name": "stderr",
     "output_type": "stream",
     "text": [
      "0% [██████████████] 100% | ETA: 00:00:00\n",
      "Total time elapsed: 00:00:01\n"
     ]
    },
    {
     "name": "stdout",
     "output_type": "stream",
     "text": [
      "Finished Epoch 10 || Run Time:    0.6 | Load Time:    1.0 || F1:  62.75 | Prec:  59.62 | Rec:  66.24 || Ex/s: 1379.93\n",
      "\n",
      "* Best F1: 62.75303643724696\n",
      "Saving best model...\n",
      "Done.\n",
      "---------------------\n",
      "\n",
      "===>  TRAIN Epoch 11\n"
     ]
    },
    {
     "name": "stderr",
     "output_type": "stream",
     "text": [
      "0% [██████████████████████████████] 100% | ETA: 00:00:00\n",
      "Total time elapsed: 00:00:11\n"
     ]
    },
    {
     "name": "stdout",
     "output_type": "stream",
     "text": [
      "Finished Epoch 11 || Run Time:    7.6 | Load Time:    4.2 || F1:  96.95 | Prec:  94.44 | Rec:  99.61 || Ex/s: 637.40\n",
      "\n",
      "===>  EVAL Epoch 11\n"
     ]
    },
    {
     "name": "stderr",
     "output_type": "stream",
     "text": [
      "0% [██████████████] 100% | ETA: 00:00:00\n",
      "Total time elapsed: 00:00:01\n"
     ]
    },
    {
     "name": "stdout",
     "output_type": "stream",
     "text": [
      "Finished Epoch 11 || Run Time:    0.6 | Load Time:    1.0 || F1:  63.16 | Prec:  60.00 | Rec:  66.67 || Ex/s: 1373.76\n",
      "\n",
      "* Best F1: 63.15789473684211\n",
      "Saving best model...\n",
      "Done.\n",
      "---------------------\n",
      "\n",
      "===>  TRAIN Epoch 12\n"
     ]
    },
    {
     "name": "stderr",
     "output_type": "stream",
     "text": [
      "0% [██████████████████████████████] 100% | ETA: 00:00:00\n",
      "Total time elapsed: 00:00:12\n"
     ]
    },
    {
     "name": "stdout",
     "output_type": "stream",
     "text": [
      "Finished Epoch 12 || Run Time:    8.0 | Load Time:    4.3 || F1:  97.45 | Prec:  95.38 | Rec:  99.61 || Ex/s: 615.07\n",
      "\n",
      "===>  EVAL Epoch 12\n"
     ]
    },
    {
     "name": "stderr",
     "output_type": "stream",
     "text": [
      "0% [██████████████] 100% | ETA: 00:00:00\n",
      "Total time elapsed: 00:00:01\n"
     ]
    },
    {
     "name": "stdout",
     "output_type": "stream",
     "text": [
      "Finished Epoch 12 || Run Time:    0.7 | Load Time:    1.0 || F1:  63.14 | Prec:  60.31 | Rec:  66.24 || Ex/s: 1355.02\n",
      "\n",
      "---------------------\n",
      "\n",
      "===>  TRAIN Epoch 13\n"
     ]
    },
    {
     "name": "stderr",
     "output_type": "stream",
     "text": [
      "0% [██████████████████████████████] 100% | ETA: 00:00:00\n",
      "Total time elapsed: 00:00:11\n"
     ]
    },
    {
     "name": "stdout",
     "output_type": "stream",
     "text": [
      "Finished Epoch 13 || Run Time:    7.6 | Load Time:    4.2 || F1:  97.70 | Prec:  95.74 | Rec:  99.74 || Ex/s: 636.93\n",
      "\n",
      "===>  EVAL Epoch 13\n"
     ]
    },
    {
     "name": "stderr",
     "output_type": "stream",
     "text": [
      "0% [██████████████] 100% | ETA: 00:00:00\n",
      "Total time elapsed: 00:00:01\n"
     ]
    },
    {
     "name": "stdout",
     "output_type": "stream",
     "text": [
      "Finished Epoch 13 || Run Time:    0.6 | Load Time:    1.0 || F1:  63.14 | Prec:  60.31 | Rec:  66.24 || Ex/s: 1380.88\n",
      "\n",
      "---------------------\n",
      "\n",
      "===>  TRAIN Epoch 14\n"
     ]
    },
    {
     "name": "stderr",
     "output_type": "stream",
     "text": [
      "0% [██████████████████████████████] 100% | ETA: 00:00:00\n",
      "Total time elapsed: 00:00:11\n"
     ]
    },
    {
     "name": "stdout",
     "output_type": "stream",
     "text": [
      "Finished Epoch 14 || Run Time:    7.5 | Load Time:    4.3 || F1:  97.70 | Prec:  95.74 | Rec:  99.74 || Ex/s: 637.65\n",
      "\n",
      "===>  EVAL Epoch 14\n"
     ]
    },
    {
     "name": "stderr",
     "output_type": "stream",
     "text": [
      "0% [██████████████] 100% | ETA: 00:00:00\n",
      "Total time elapsed: 00:00:01\n"
     ]
    },
    {
     "name": "stdout",
     "output_type": "stream",
     "text": [
      "Finished Epoch 14 || Run Time:    0.7 | Load Time:    1.1 || F1:  63.14 | Prec:  60.31 | Rec:  66.24 || Ex/s: 1326.36\n",
      "\n",
      "---------------------\n",
      "\n",
      "===>  TRAIN Epoch 15\n"
     ]
    },
    {
     "name": "stderr",
     "output_type": "stream",
     "text": [
      "0% [██████████████████████████████] 100% | ETA: 00:00:00\n",
      "Total time elapsed: 00:00:12\n"
     ]
    },
    {
     "name": "stdout",
     "output_type": "stream",
     "text": [
      "Finished Epoch 15 || Run Time:    8.3 | Load Time:    4.3 || F1:  97.83 | Prec:  95.98 | Rec:  99.74 || Ex/s: 600.37\n",
      "\n",
      "===>  EVAL Epoch 15\n"
     ]
    },
    {
     "name": "stderr",
     "output_type": "stream",
     "text": [
      "0% [██████████████] 100% | ETA: 00:00:00\n",
      "Total time elapsed: 00:00:01\n"
     ]
    },
    {
     "name": "stdout",
     "output_type": "stream",
     "text": [
      "Finished Epoch 15 || Run Time:    0.6 | Load Time:    1.0 || F1:  62.86 | Prec:  60.16 | Rec:  65.81 || Ex/s: 1374.83\n",
      "\n",
      "---------------------\n",
      "\n",
      "===>  TRAIN Epoch 16\n"
     ]
    },
    {
     "name": "stderr",
     "output_type": "stream",
     "text": [
      "0% [██████████████████████████████] 100% | ETA: 00:00:00\n",
      "Total time elapsed: 00:00:12\n"
     ]
    },
    {
     "name": "stdout",
     "output_type": "stream",
     "text": [
      "Finished Epoch 16 || Run Time:    7.9 | Load Time:    4.3 || F1:  97.89 | Prec:  96.11 | Rec:  99.74 || Ex/s: 619.48\n",
      "\n",
      "===>  EVAL Epoch 16\n"
     ]
    },
    {
     "name": "stderr",
     "output_type": "stream",
     "text": [
      "0% [██████████████] 100% | ETA: 00:00:00\n",
      "Total time elapsed: 00:00:01\n"
     ]
    },
    {
     "name": "stdout",
     "output_type": "stream",
     "text": [
      "Finished Epoch 16 || Run Time:    0.6 | Load Time:    1.0 || F1:  62.70 | Prec:  60.24 | Rec:  65.38 || Ex/s: 1377.06\n",
      "\n",
      "---------------------\n",
      "\n",
      "===>  TRAIN Epoch 17\n"
     ]
    },
    {
     "name": "stderr",
     "output_type": "stream",
     "text": [
      "0% [██████████████████████████████] 100% | ETA: 00:00:00\n",
      "Total time elapsed: 00:00:11\n"
     ]
    },
    {
     "name": "stdout",
     "output_type": "stream",
     "text": [
      "Finished Epoch 17 || Run Time:    7.5 | Load Time:    4.2 || F1:  98.08 | Prec:  96.47 | Rec:  99.74 || Ex/s: 645.12\n",
      "\n",
      "===>  EVAL Epoch 17\n"
     ]
    },
    {
     "name": "stderr",
     "output_type": "stream",
     "text": [
      "0% [██████████████] 100% | ETA: 00:00:00\n",
      "Total time elapsed: 00:00:01\n"
     ]
    },
    {
     "name": "stdout",
     "output_type": "stream",
     "text": [
      "Finished Epoch 17 || Run Time:    0.7 | Load Time:    1.0 || F1:  62.83 | Prec:  60.47 | Rec:  65.38 || Ex/s: 1346.60\n",
      "\n",
      "---------------------\n",
      "\n",
      "===>  TRAIN Epoch 18\n"
     ]
    },
    {
     "name": "stderr",
     "output_type": "stream",
     "text": [
      "0% [██████████████████████████████] 100% | ETA: 00:00:00\n",
      "Total time elapsed: 00:00:12\n"
     ]
    },
    {
     "name": "stdout",
     "output_type": "stream",
     "text": [
      "Finished Epoch 18 || Run Time:    7.9 | Load Time:    4.3 || F1:  98.08 | Prec:  96.47 | Rec:  99.74 || Ex/s: 621.04\n",
      "\n",
      "===>  EVAL Epoch 18\n"
     ]
    },
    {
     "name": "stderr",
     "output_type": "stream",
     "text": [
      "0% [██████████████] 100% | ETA: 00:00:00\n",
      "Total time elapsed: 00:00:01\n"
     ]
    },
    {
     "name": "stdout",
     "output_type": "stream",
     "text": [
      "Finished Epoch 18 || Run Time:    0.6 | Load Time:    1.0 || F1:  62.55 | Prec:  60.32 | Rec:  64.96 || Ex/s: 1374.01\n",
      "\n",
      "---------------------\n",
      "\n",
      "===>  TRAIN Epoch 19\n"
     ]
    },
    {
     "name": "stderr",
     "output_type": "stream",
     "text": [
      "0% [██████████████████████████████] 100% | ETA: 00:00:00\n",
      "Total time elapsed: 00:00:10\n"
     ]
    },
    {
     "name": "stdout",
     "output_type": "stream",
     "text": [
      "Finished Epoch 19 || Run Time:    6.8 | Load Time:    4.1 || F1:  98.08 | Prec:  96.47 | Rec:  99.74 || Ex/s: 689.45\n",
      "\n",
      "===>  EVAL Epoch 19\n"
     ]
    },
    {
     "name": "stderr",
     "output_type": "stream",
     "text": [
      "0% [██████████████] 100% | ETA: 00:00:00\n",
      "Total time elapsed: 00:00:01\n"
     ]
    },
    {
     "name": "stdout",
     "output_type": "stream",
     "text": [
      "Finished Epoch 19 || Run Time:    0.6 | Load Time:    1.0 || F1:  62.27 | Prec:  60.16 | Rec:  64.53 || Ex/s: 1376.22\n",
      "\n",
      "---------------------\n",
      "\n",
      "===>  TRAIN Epoch 20\n"
     ]
    },
    {
     "name": "stderr",
     "output_type": "stream",
     "text": [
      "0% [██████████████████████████████] 100% | ETA: 00:00:00\n",
      "Total time elapsed: 00:00:12\n"
     ]
    },
    {
     "name": "stdout",
     "output_type": "stream",
     "text": [
      "Finished Epoch 20 || Run Time:    8.1 | Load Time:    4.3 || F1:  98.08 | Prec:  96.47 | Rec:  99.74 || Ex/s: 608.17\n",
      "\n",
      "===>  EVAL Epoch 20\n"
     ]
    },
    {
     "name": "stderr",
     "output_type": "stream",
     "text": [
      "0% [██████████████] 100% | ETA: 00:00:00\n",
      "Total time elapsed: 00:00:01\n"
     ]
    },
    {
     "name": "stdout",
     "output_type": "stream",
     "text": [
      "Finished Epoch 20 || Run Time:    0.6 | Load Time:    1.0 || F1:  62.27 | Prec:  60.16 | Rec:  64.53 || Ex/s: 1388.06\n",
      "\n",
      "---------------------\n",
      "\n",
      "Loading best model...\n",
      "Training done.\n"
     ]
    },
    {
     "data": {
      "text/plain": [
       "63.15789473684211"
      ]
     },
     "execution_count": 40,
     "metadata": {},
     "output_type": "execute_result"
    }
   ],
   "source": [
    "model = dm.MatchingModel(attr_summarizer='rnn')\n",
    "model.run_train(train,validation,epochs=20,best_save_path='../../models/amazongoogle_rnn_extended.pth',pos_neg_ratio=8)"
   ]
  },
  {
   "cell_type": "code",
   "execution_count": 41,
   "metadata": {},
   "outputs": [
    {
     "name": "stdout",
     "output_type": "stream",
     "text": [
      "===>  EVAL Epoch 11\n"
     ]
    },
    {
     "name": "stderr",
     "output_type": "stream",
     "text": [
      "0% [██████████████] 100% | ETA: 00:00:00\n",
      "Total time elapsed: 00:00:01\n"
     ]
    },
    {
     "name": "stdout",
     "output_type": "stream",
     "text": [
      "Finished Epoch 11 || Run Time:    0.7 | Load Time:    1.1 || F1:  64.07 | Prec:  61.66 | Rec:  66.67 || Ex/s: 1345.28\n",
      "\n"
     ]
    },
    {
     "data": {
      "text/plain": [
       "64.06570841889118"
      ]
     },
     "execution_count": 41,
     "metadata": {},
     "output_type": "execute_result"
    }
   ],
   "source": [
    "model.run_eval(test)"
   ]
  },
  {
   "cell_type": "markdown",
   "metadata": {},
   "source": [
    "## New models evaluation"
   ]
  },
  {
   "cell_type": "code",
   "execution_count": 60,
   "metadata": {},
   "outputs": [],
   "source": [
    "model = dm.MatchingModel(attr_summarizer='rnn')\n",
    "model.load_state('../../models/amazongoogle_rnn_extended.pth')"
   ]
  },
  {
   "cell_type": "markdown",
   "metadata": {},
   "source": [
    "## Recompute Ri"
   ]
  },
  {
   "cell_type": "code",
   "execution_count": 61,
   "metadata": {},
   "outputs": [],
   "source": [
    "from utils.intermediate_layer_extraction import return_layer_input\n",
    "from utils.ri_calculator import computeRi"
   ]
  },
  {
   "cell_type": "code",
   "execution_count": 62,
   "metadata": {},
   "outputs": [],
   "source": [
    "testneg_classifier,testneg_ids = return_layer_input('../../Structured/Amazon-Google/'\n",
    "                                                                         ,'test_negatives',128,model,\n",
    "                                                                        model.classifier,device=-1)"
   ]
  },
  {
   "cell_type": "code",
   "execution_count": 63,
   "metadata": {},
   "outputs": [],
   "source": [
    "testpos_classifier,testpos_ids = return_layer_input('../../Structured/Amazon-Google/',\n",
    "                                                                  'test_positives',128,model,\n",
    "                                                                  model.classifier,device=-1)"
   ]
  },
  {
   "cell_type": "code",
   "execution_count": 64,
   "metadata": {},
   "outputs": [],
   "source": [
    "model = model.cuda()"
   ]
  },
  {
   "cell_type": "code",
   "execution_count": 65,
   "metadata": {},
   "outputs": [],
   "source": [
    "classifier_len = len(testpos_classifier[0][0])\n",
    "attribute_len = int(classifier_len/len(attributes))"
   ]
  },
  {
   "cell_type": "code",
   "execution_count": 66,
   "metadata": {},
   "outputs": [
    {
     "name": "stderr",
     "output_type": "stream",
     "text": [
      "100%|██████████| 106/106 [00:00<00:00, 122.58it/s]\n",
      "100%|██████████| 128/128 [00:00<00:00, 128.78it/s]\n"
     ]
    }
   ],
   "source": [
    "positives_ri,pos_ri_norms = computeRi(model.classifier,\n",
    "                                                    attributes,testpos_classifier,attribute_len,0)"
   ]
  },
  {
   "cell_type": "code",
   "execution_count": 67,
   "metadata": {},
   "outputs": [
    {
     "data": {
      "text/plain": [
       "<matplotlib.axes._subplots.AxesSubplot at 0x7f1f145e9d30>"
      ]
     },
     "execution_count": 67,
     "metadata": {},
     "output_type": "execute_result"
    },
    {
     "data": {
      "image/png": "[encoded data removed]",
      "text/plain": [
       "<Figure size 432x288 with 1 Axes>"
      ]
     },
     "metadata": {
      "needs_background": "light"
     },
     "output_type": "display_data"
    }
   ],
   "source": [
    "positives_variation_df = pd.DataFrame(data= pos_ri_norms,columns=attributes)\n",
    "positives_variation_df.sum().plot.bar()"
   ]
  },
  {
   "cell_type": "code",
   "execution_count": 68,
   "metadata": {},
   "outputs": [
    {
     "data": {
      "text/plain": [
       "title           0.180291\n",
       "manufacturer    0.312388\n",
       "price           0.183280\n",
       "dtype: float64"
      ]
     },
     "execution_count": 68,
     "metadata": {},
     "output_type": "execute_result"
    }
   ],
   "source": [
    "positives_variation_df.mean()"
   ]
  },
  {
   "cell_type": "code",
   "execution_count": 52,
   "metadata": {},
   "outputs": [
    {
     "name": "stderr",
     "output_type": "stream",
     "text": [
      "100%|██████████| 128/128 [00:06<00:00, 20.45it/s]\n",
      "100%|██████████| 11/11 [00:00<00:00, 29.74it/s]\n",
      "100%|██████████| 128/128 [00:05<00:00, 23.29it/s]\n",
      "100%|██████████| 128/128 [00:04<00:00, 25.16it/s]\n",
      "100%|██████████| 128/128 [00:05<00:00, 24.63it/s]\n",
      "100%|██████████| 128/128 [00:05<00:00, 24.34it/s]\n",
      "100%|██████████| 128/128 [00:04<00:00, 27.38it/s]\n",
      "100%|██████████| 128/128 [00:05<00:00, 23.76it/s]\n",
      "100%|██████████| 128/128 [00:05<00:00, 23.66it/s]\n",
      "100%|██████████| 128/128 [00:05<00:00, 24.20it/s]\n",
      "100%|██████████| 128/128 [00:04<00:00, 27.71it/s]\n",
      "100%|██████████| 128/128 [00:05<00:00, 24.75it/s]\n",
      "100%|██████████| 128/128 [00:04<00:00, 26.76it/s]\n",
      "100%|██████████| 128/128 [00:05<00:00, 26.04it/s]\n",
      "100%|██████████| 128/128 [00:05<00:00, 24.21it/s]\n",
      "100%|██████████| 128/128 [00:04<00:00, 28.13it/s]\n",
      "100%|██████████| 128/128 [00:04<00:00, 28.09it/s]\n"
     ]
    }
   ],
   "source": [
    "negatives_ri,neg_ri_norms = computeRi(model.classifier,\n",
    "                                                    attributes,testneg_classifier,attribute_len,1)"
   ]
  },
  {
   "cell_type": "code",
   "execution_count": 53,
   "metadata": {},
   "outputs": [
    {
     "data": {
      "text/plain": [
       "<matplotlib.axes._subplots.AxesSubplot at 0x7f2127a44320>"
      ]
     },
     "execution_count": 53,
     "metadata": {},
     "output_type": "execute_result"
    },
    {
     "data": {
      "image/png": "[encoded data removed]",
      "text/plain": [
       "<Figure size 432x288 with 1 Axes>"
      ]
     },
     "metadata": {
      "needs_background": "light"
     },
     "output_type": "display_data"
    }
   ],
   "source": [
    "negatives_variation_df = pd.DataFrame(data= neg_ri_norms,columns=attributes)\n",
    "negatives_variation_df.sum().plot.bar()"
   ]
  },
  {
   "cell_type": "markdown",
   "metadata": {},
   "source": [
    "## Build new positives (10% more)"
   ]
  },
  {
   "cell_type": "code",
   "execution_count": 88,
   "metadata": {},
   "outputs": [],
   "source": [
    "train_df = pd.read_csv('../../Structured/Amazon-Google/merged_train.csv')\n",
    "len_negatives = train_df[train_df.label==0].shape[0]\n",
    "len_positives = train_df[train_df.label==1].shape[0]\n",
    "newSamplesForPrice = buildNewSamplesForAttribute(critical_pos_rnn,critical_neg_rnn,'price',int(len_positives/10),\n",
    "                                                int(len_negatives/10))"
   ]
  },
  {
   "cell_type": "code",
   "execution_count": 89,
   "metadata": {},
   "outputs": [
    {
     "data": {
      "text/plain": [
       "(728, 7)"
      ]
     },
     "execution_count": 89,
     "metadata": {},
     "output_type": "execute_result"
    }
   ],
   "source": [
    "newSamplesForPrice.shape"
   ]
  },
  {
   "cell_type": "code",
   "execution_count": 90,
   "metadata": {},
   "outputs": [],
   "source": [
    "newSamplesForPrice['id'] = np.arange(train_df.shape[0],train_df.shape[0]+newSamplesForPrice.shape[0])\n",
    "extended_train = pd.concat([train_df,newSamplesForPrice])\n",
    "extended_train.to_csv('temp/extended_train.csv',index=False)"
   ]
  },
  {
   "cell_type": "code",
   "execution_count": 91,
   "metadata": {},
   "outputs": [],
   "source": [
    "extended_train.to_csv('temp/extended_train10perc.csv',index=False)"
   ]
  },
  {
   "cell_type": "code",
   "execution_count": 92,
   "metadata": {},
   "outputs": [
    {
     "name": "stderr",
     "output_type": "stream",
     "text": [
      "WARNING:deepmatcher.data.dataset:Rebuilding data cache because: ['One or more data files have been modified.']\n",
      "\n",
      "Reading and processing data from \"temp/extended_train10perc.csv\"\n",
      "0% [############################# ] 100% | ETA: 00:00:00\n",
      "Reading and processing data from \"temp/merged_valid.csv\"\n",
      "0% [############################# ] 100% | ETA: 00:00:00\n",
      "Reading and processing data from \"temp/merged_test.csv\"\n",
      "0% [############################# ] 100% | ETA: 00:00:00\n",
      "Building vocabulary\n",
      "0% [########] 100% | ETA: 00:00:00\n",
      "Total time elapsed: 00:00:00\n",
      "\n",
      "Computing principal components\n",
      "0% [########] 100% | ETA: 00:00:00\n",
      "Total time elapsed: 00:00:01\n"
     ]
    }
   ],
   "source": [
    "train,validation,test = dm.data.process('temp',train='extended_train10perc.csv',validation='merged_valid.csv',\n",
    "                                       test='merged_test.csv',left_prefix='ltable_',right_prefix='rtable_')"
   ]
  },
  {
   "cell_type": "code",
   "execution_count": 94,
   "metadata": {},
   "outputs": [
    {
     "name": "stdout",
     "output_type": "stream",
     "text": [
      "* Number of trainable parameters: 1762802\n",
      "===>  TRAIN Epoch 1\n"
     ]
    },
    {
     "name": "stderr",
     "output_type": "stream",
     "text": [
      "0% [██████████████████████████████] 100% | ETA: 00:00:00\n",
      "Total time elapsed: 00:00:12\n"
     ]
    },
    {
     "name": "stdout",
     "output_type": "stream",
     "text": [
      "Finished Epoch 1 || Run Time:    8.4 | Load Time:    4.3 || F1:  25.64 | Prec:  14.85 | Rec:  93.91 || Ex/s: 599.50\n",
      "\n",
      "===>  EVAL Epoch 1\n"
     ]
    },
    {
     "name": "stderr",
     "output_type": "stream",
     "text": [
      "0% [██████████████] 100% | ETA: 00:00:00\n",
      "Total time elapsed: 00:00:01\n"
     ]
    },
    {
     "name": "stdout",
     "output_type": "stream",
     "text": [
      "Finished Epoch 1 || Run Time:    0.7 | Load Time:    1.0 || F1:  23.07 | Prec:  13.06 | Rec:  99.15 || Ex/s: 1345.65\n",
      "\n",
      "* Best F1: 23.07309796121333\n",
      "Saving best model...\n",
      "Done.\n",
      "---------------------\n",
      "\n",
      "===>  TRAIN Epoch 2\n"
     ]
    },
    {
     "name": "stderr",
     "output_type": "stream",
     "text": [
      "0% [██████████████████████████████] 100% | ETA: 00:00:00\n",
      "Total time elapsed: 00:00:12\n"
     ]
    },
    {
     "name": "stdout",
     "output_type": "stream",
     "text": [
      "Finished Epoch 2 || Run Time:    8.3 | Load Time:    4.3 || F1:  39.68 | Prec:  24.99 | Rec:  96.30 || Ex/s: 603.61\n",
      "\n",
      "===>  EVAL Epoch 2\n"
     ]
    },
    {
     "name": "stderr",
     "output_type": "stream",
     "text": [
      "0% [██████████████] 100% | ETA: 00:00:00\n",
      "Total time elapsed: 00:00:01\n"
     ]
    },
    {
     "name": "stdout",
     "output_type": "stream",
     "text": [
      "Finished Epoch 2 || Run Time:    0.7 | Load Time:    1.0 || F1:  35.29 | Prec:  21.75 | Rec:  93.59 || Ex/s: 1351.36\n",
      "\n",
      "* Best F1: 35.294117647058826\n",
      "Saving best model...\n",
      "Done.\n",
      "---------------------\n",
      "\n",
      "===>  TRAIN Epoch 3\n"
     ]
    },
    {
     "name": "stderr",
     "output_type": "stream",
     "text": [
      "0% [██████████████████████████████] 100% | ETA: 00:00:00\n",
      "Total time elapsed: 00:00:12\n"
     ]
    },
    {
     "name": "stdout",
     "output_type": "stream",
     "text": [
      "Finished Epoch 3 || Run Time:    8.4 | Load Time:    4.3 || F1:  55.87 | Prec:  39.19 | Rec:  97.25 || Ex/s: 595.78\n",
      "\n",
      "===>  EVAL Epoch 3\n"
     ]
    },
    {
     "name": "stderr",
     "output_type": "stream",
     "text": [
      "0% [██████████████] 100% | ETA: 00:00:00\n",
      "Total time elapsed: 00:00:01\n"
     ]
    },
    {
     "name": "stdout",
     "output_type": "stream",
     "text": [
      "Finished Epoch 3 || Run Time:    0.7 | Load Time:    1.0 || F1:  47.81 | Prec:  33.06 | Rec:  86.32 || Ex/s: 1344.80\n",
      "\n",
      "* Best F1: 47.81065088757396\n",
      "Saving best model...\n",
      "Done.\n",
      "---------------------\n",
      "\n",
      "===>  TRAIN Epoch 4\n"
     ]
    },
    {
     "name": "stderr",
     "output_type": "stream",
     "text": [
      "0% [██████████████████████████████] 100% | ETA: 00:00:00\n",
      "Total time elapsed: 00:00:12\n"
     ]
    },
    {
     "name": "stdout",
     "output_type": "stream",
     "text": [
      "Finished Epoch 4 || Run Time:    8.1 | Load Time:    4.3 || F1:  69.87 | Prec:  54.22 | Rec:  98.21 || Ex/s: 615.22\n",
      "\n",
      "===>  EVAL Epoch 4\n"
     ]
    },
    {
     "name": "stderr",
     "output_type": "stream",
     "text": [
      "0% [██████████████] 100% | ETA: 00:00:00\n",
      "Total time elapsed: 00:00:01\n"
     ]
    },
    {
     "name": "stdout",
     "output_type": "stream",
     "text": [
      "Finished Epoch 4 || Run Time:    0.7 | Load Time:    1.0 || F1:  56.78 | Prec:  45.00 | Rec:  76.92 || Ex/s: 1340.58\n",
      "\n",
      "* Best F1: 56.782334384858046\n",
      "Saving best model...\n",
      "Done.\n",
      "---------------------\n",
      "\n",
      "===>  TRAIN Epoch 5\n"
     ]
    },
    {
     "name": "stderr",
     "output_type": "stream",
     "text": [
      "0% [██████████████████████████████] 100% | ETA: 00:00:00\n",
      "Total time elapsed: 00:00:12\n"
     ]
    },
    {
     "name": "stdout",
     "output_type": "stream",
     "text": [
      "Finished Epoch 5 || Run Time:    8.3 | Load Time:    4.3 || F1:  80.35 | Prec:  67.42 | Rec:  99.40 || Ex/s: 603.15\n",
      "\n",
      "===>  EVAL Epoch 5\n"
     ]
    },
    {
     "name": "stderr",
     "output_type": "stream",
     "text": [
      "0% [██████████████] 100% | ETA: 00:00:00\n",
      "Total time elapsed: 00:00:01\n"
     ]
    },
    {
     "name": "stdout",
     "output_type": "stream",
     "text": [
      "Finished Epoch 5 || Run Time:    0.7 | Load Time:    1.1 || F1:  57.65 | Prec:  49.39 | Rec:  69.23 || Ex/s: 1336.37\n",
      "\n",
      "* Best F1: 57.65124555160142\n",
      "Saving best model...\n",
      "Done.\n",
      "---------------------\n",
      "\n",
      "===>  TRAIN Epoch 6\n"
     ]
    },
    {
     "name": "stderr",
     "output_type": "stream",
     "text": [
      "0% [██████████████████████████████] 100% | ETA: 00:00:00\n",
      "Total time elapsed: 00:00:12\n"
     ]
    },
    {
     "name": "stdout",
     "output_type": "stream",
     "text": [
      "Finished Epoch 6 || Run Time:    8.4 | Load Time:    4.3 || F1:  87.12 | Prec:  77.54 | Rec:  99.40 || Ex/s: 597.21\n",
      "\n",
      "===>  EVAL Epoch 6\n"
     ]
    },
    {
     "name": "stderr",
     "output_type": "stream",
     "text": [
      "0% [██████████████] 100% | ETA: 00:00:00\n",
      "Total time elapsed: 00:00:01\n"
     ]
    },
    {
     "name": "stdout",
     "output_type": "stream",
     "text": [
      "Finished Epoch 6 || Run Time:    0.7 | Load Time:    1.1 || F1:  57.25 | Prec:  49.69 | Rec:  67.52 || Ex/s: 1303.79\n",
      "\n",
      "---------------------\n",
      "\n",
      "===>  TRAIN Epoch 7\n"
     ]
    },
    {
     "name": "stderr",
     "output_type": "stream",
     "text": [
      "0% [██████████████████████████████] 100% | ETA: 00:00:00\n",
      "Total time elapsed: 00:00:12\n"
     ]
    },
    {
     "name": "stdout",
     "output_type": "stream",
     "text": [
      "Finished Epoch 7 || Run Time:    8.2 | Load Time:    4.3 || F1:  91.79 | Prec:  85.17 | Rec:  99.52 || Ex/s: 608.03\n",
      "\n",
      "===>  EVAL Epoch 7\n"
     ]
    },
    {
     "name": "stderr",
     "output_type": "stream",
     "text": [
      "0% [██████████████] 100% | ETA: 00:00:00\n",
      "Total time elapsed: 00:00:01\n"
     ]
    },
    {
     "name": "stdout",
     "output_type": "stream",
     "text": [
      "Finished Epoch 7 || Run Time:    0.7 | Load Time:    1.0 || F1:  56.89 | Prec:  48.92 | Rec:  67.95 || Ex/s: 1338.70\n",
      "\n",
      "---------------------\n",
      "\n",
      "===>  TRAIN Epoch 8\n"
     ]
    },
    {
     "name": "stderr",
     "output_type": "stream",
     "text": [
      "0% [██████████████████████████████] 100% | ETA: 00:00:00\n",
      "Total time elapsed: 00:00:12\n"
     ]
    },
    {
     "name": "stdout",
     "output_type": "stream",
     "text": [
      "Finished Epoch 8 || Run Time:    8.1 | Load Time:    4.3 || F1:  94.12 | Prec:  89.28 | Rec:  99.52 || Ex/s: 610.47\n",
      "\n",
      "===>  EVAL Epoch 8\n"
     ]
    },
    {
     "name": "stderr",
     "output_type": "stream",
     "text": [
      "0% [██████████████] 100% | ETA: 00:00:00\n",
      "Total time elapsed: 00:00:01\n"
     ]
    },
    {
     "name": "stdout",
     "output_type": "stream",
     "text": [
      "Finished Epoch 8 || Run Time:    0.7 | Load Time:    1.0 || F1:  58.61 | Prec:  51.28 | Rec:  68.38 || Ex/s: 1357.22\n",
      "\n",
      "* Best F1: 58.60805860805861\n",
      "Saving best model...\n",
      "Done.\n",
      "---------------------\n",
      "\n",
      "===>  TRAIN Epoch 9\n"
     ]
    },
    {
     "name": "stderr",
     "output_type": "stream",
     "text": [
      "0% [██████████████████████████████] 100% | ETA: 00:00:00\n",
      "Total time elapsed: 00:00:12\n"
     ]
    },
    {
     "name": "stdout",
     "output_type": "stream",
     "text": [
      "Finished Epoch 9 || Run Time:    8.0 | Load Time:    4.4 || F1:  95.04 | Prec:  90.85 | Rec:  99.64 || Ex/s: 611.27\n",
      "\n",
      "===>  EVAL Epoch 9\n"
     ]
    },
    {
     "name": "stderr",
     "output_type": "stream",
     "text": [
      "0% [██████████████] 100% | ETA: 00:00:00\n",
      "Total time elapsed: 00:00:01\n"
     ]
    },
    {
     "name": "stdout",
     "output_type": "stream",
     "text": [
      "Finished Epoch 9 || Run Time:    0.7 | Load Time:    1.0 || F1:  59.26 | Prec:  52.29 | Rec:  68.38 || Ex/s: 1362.95\n",
      "\n",
      "* Best F1: 59.25925925925926\n",
      "Saving best model...\n",
      "Done.\n",
      "---------------------\n",
      "\n",
      "===>  TRAIN Epoch 10\n"
     ]
    },
    {
     "name": "stderr",
     "output_type": "stream",
     "text": [
      "0% [██████████████████████████████] 100% | ETA: 00:00:00\n",
      "Total time elapsed: 00:00:12\n"
     ]
    },
    {
     "name": "stdout",
     "output_type": "stream",
     "text": [
      "Finished Epoch 10 || Run Time:    8.3 | Load Time:    4.4 || F1:  95.97 | Prec:  92.56 | Rec:  99.64 || Ex/s: 599.30\n",
      "\n",
      "===>  EVAL Epoch 10\n"
     ]
    },
    {
     "name": "stderr",
     "output_type": "stream",
     "text": [
      "0% [██████████████] 100% | ETA: 00:00:00\n",
      "Total time elapsed: 00:00:01\n"
     ]
    },
    {
     "name": "stdout",
     "output_type": "stream",
     "text": [
      "Finished Epoch 10 || Run Time:    0.6 | Load Time:    1.0 || F1:  59.44 | Prec:  52.82 | Rec:  67.95 || Ex/s: 1366.46\n",
      "\n",
      "* Best F1: 59.43925233644859\n",
      "Saving best model...\n",
      "Done.\n",
      "---------------------\n",
      "\n",
      "===>  TRAIN Epoch 11\n"
     ]
    },
    {
     "name": "stderr",
     "output_type": "stream",
     "text": [
      "0% [██████████████████████████████] 100% | ETA: 00:00:00\n",
      "Total time elapsed: 00:00:12\n"
     ]
    },
    {
     "name": "stdout",
     "output_type": "stream",
     "text": [
      "Finished Epoch 11 || Run Time:    8.4 | Load Time:    4.4 || F1:  96.53 | Prec:  93.60 | Rec:  99.64 || Ex/s: 593.93\n",
      "\n",
      "===>  EVAL Epoch 11\n"
     ]
    },
    {
     "name": "stderr",
     "output_type": "stream",
     "text": [
      "0% [██████████████] 100% | ETA: 00:00:00\n",
      "Total time elapsed: 00:00:01\n"
     ]
    },
    {
     "name": "stdout",
     "output_type": "stream",
     "text": [
      "Finished Epoch 11 || Run Time:    0.6 | Load Time:    1.0 || F1:  59.47 | Prec:  53.40 | Rec:  67.09 || Ex/s: 1374.85\n",
      "\n",
      "* Best F1: 59.469696969696976\n",
      "Saving best model...\n",
      "Done.\n",
      "---------------------\n",
      "\n",
      "===>  TRAIN Epoch 12\n"
     ]
    },
    {
     "name": "stderr",
     "output_type": "stream",
     "text": [
      "0% [██████████████████████████████] 100% | ETA: 00:00:00\n",
      "Total time elapsed: 00:00:12\n"
     ]
    },
    {
     "name": "stdout",
     "output_type": "stream",
     "text": [
      "Finished Epoch 12 || Run Time:    8.3 | Load Time:    4.3 || F1:  97.03 | Prec:  94.56 | Rec:  99.64 || Ex/s: 600.91\n",
      "\n",
      "===>  EVAL Epoch 12\n"
     ]
    },
    {
     "name": "stderr",
     "output_type": "stream",
     "text": [
      "0% [██████████████] 100% | ETA: 00:00:00\n",
      "Total time elapsed: 00:00:01\n"
     ]
    },
    {
     "name": "stdout",
     "output_type": "stream",
     "text": [
      "Finished Epoch 12 || Run Time:    0.7 | Load Time:    1.0 || F1:  59.77 | Prec:  54.17 | Rec:  66.67 || Ex/s: 1341.49\n",
      "\n",
      "* Best F1: 59.770114942528735\n",
      "Saving best model...\n",
      "Done.\n",
      "---------------------\n",
      "\n",
      "===>  TRAIN Epoch 13\n"
     ]
    },
    {
     "name": "stderr",
     "output_type": "stream",
     "text": [
      "0% [██████████████████████████████] 100% | ETA: 00:00:00\n",
      "Total time elapsed: 00:00:12\n"
     ]
    },
    {
     "name": "stdout",
     "output_type": "stream",
     "text": [
      "Finished Epoch 13 || Run Time:    8.1 | Load Time:    4.4 || F1:  97.26 | Prec:  94.99 | Rec:  99.64 || Ex/s: 611.46\n",
      "\n",
      "===>  EVAL Epoch 13\n"
     ]
    },
    {
     "name": "stderr",
     "output_type": "stream",
     "text": [
      "0% [██████████████] 100% | ETA: 00:00:00\n",
      "Total time elapsed: 00:00:01\n"
     ]
    },
    {
     "name": "stdout",
     "output_type": "stream",
     "text": [
      "Finished Epoch 13 || Run Time:    0.7 | Load Time:    1.0 || F1:  59.96 | Prec:  54.77 | Rec:  66.24 || Ex/s: 1356.71\n",
      "\n",
      "* Best F1: 59.96131528046421\n",
      "Saving best model...\n",
      "Done.\n",
      "---------------------\n",
      "\n",
      "===>  TRAIN Epoch 14\n"
     ]
    },
    {
     "name": "stderr",
     "output_type": "stream",
     "text": [
      "0% [██████████████████████████████] 100% | ETA: 00:00:00\n",
      "Total time elapsed: 00:00:11\n"
     ]
    },
    {
     "name": "stdout",
     "output_type": "stream",
     "text": [
      "Finished Epoch 14 || Run Time:    7.4 | Load Time:    4.3 || F1:  97.55 | Prec:  95.43 | Rec:  99.76 || Ex/s: 652.37\n",
      "\n",
      "===>  EVAL Epoch 14\n"
     ]
    },
    {
     "name": "stderr",
     "output_type": "stream",
     "text": [
      "0% [██████████████] 100% | ETA: 00:00:00\n",
      "Total time elapsed: 00:00:01\n"
     ]
    },
    {
     "name": "stdout",
     "output_type": "stream",
     "text": [
      "Finished Epoch 14 || Run Time:    0.7 | Load Time:    1.0 || F1:  60.31 | Prec:  55.36 | Rec:  66.24 || Ex/s: 1362.14\n",
      "\n",
      "* Best F1: 60.31128404669261\n",
      "Saving best model...\n",
      "Done.\n",
      "---------------------\n",
      "\n",
      "===>  TRAIN Epoch 15\n"
     ]
    },
    {
     "name": "stderr",
     "output_type": "stream",
     "text": [
      "0% [██████████████████████████████] 100% | ETA: 00:00:00\n",
      "Total time elapsed: 00:00:12\n"
     ]
    },
    {
     "name": "stdout",
     "output_type": "stream",
     "text": [
      "Finished Epoch 15 || Run Time:    8.5 | Load Time:    4.4 || F1:  97.66 | Prec:  95.65 | Rec:  99.76 || Ex/s: 590.23\n",
      "\n",
      "===>  EVAL Epoch 15\n"
     ]
    },
    {
     "name": "stderr",
     "output_type": "stream",
     "text": [
      "0% [██████████████] 100% | ETA: 00:00:00\n",
      "Total time elapsed: 00:00:01\n"
     ]
    },
    {
     "name": "stdout",
     "output_type": "stream",
     "text": [
      "Finished Epoch 15 || Run Time:    0.7 | Load Time:    1.0 || F1:  59.96 | Prec:  55.68 | Rec:  64.96 || Ex/s: 1347.76\n",
      "\n",
      "---------------------\n",
      "\n",
      "===>  TRAIN Epoch 16\n"
     ]
    },
    {
     "name": "stderr",
     "output_type": "stream",
     "text": [
      "0% [██████████████████████████████] 100% | ETA: 00:00:00\n",
      "Total time elapsed: 00:00:12\n"
     ]
    },
    {
     "name": "stdout",
     "output_type": "stream",
     "text": [
      "Finished Epoch 16 || Run Time:    8.1 | Load Time:    4.3 || F1:  97.72 | Prec:  95.76 | Rec:  99.76 || Ex/s: 611.21\n",
      "\n",
      "===>  EVAL Epoch 16\n"
     ]
    },
    {
     "name": "stderr",
     "output_type": "stream",
     "text": [
      "0% [██████████████] 100% | ETA: 00:00:00\n",
      "Total time elapsed: 00:00:01\n"
     ]
    },
    {
     "name": "stdout",
     "output_type": "stream",
     "text": [
      "Finished Epoch 16 || Run Time:    0.7 | Load Time:    1.0 || F1:  59.80 | Prec:  55.72 | Rec:  64.53 || Ex/s: 1329.04\n",
      "\n",
      "---------------------\n",
      "\n",
      "===>  TRAIN Epoch 17\n"
     ]
    },
    {
     "name": "stderr",
     "output_type": "stream",
     "text": [
      "0% [██████████████████████████████] 100% | ETA: 00:00:00\n",
      "Total time elapsed: 00:00:11\n"
     ]
    },
    {
     "name": "stdout",
     "output_type": "stream",
     "text": [
      "Finished Epoch 17 || Run Time:    7.5 | Load Time:    4.4 || F1:  97.89 | Prec:  96.09 | Rec:  99.76 || Ex/s: 638.46\n",
      "\n",
      "===>  EVAL Epoch 17\n"
     ]
    },
    {
     "name": "stderr",
     "output_type": "stream",
     "text": [
      "0% [██████████████] 100% | ETA: 00:00:00\n",
      "Total time elapsed: 00:00:01\n"
     ]
    },
    {
     "name": "stdout",
     "output_type": "stream",
     "text": [
      "Finished Epoch 17 || Run Time:    0.7 | Load Time:    1.0 || F1:  59.76 | Prec:  55.97 | Rec:  64.10 || Ex/s: 1363.61\n",
      "\n",
      "---------------------\n",
      "\n",
      "===>  TRAIN Epoch 18\n"
     ]
    },
    {
     "name": "stderr",
     "output_type": "stream",
     "text": [
      "0% [██████████████████████████████] 100% | ETA: 00:00:00\n",
      "Total time elapsed: 00:00:12\n"
     ]
    },
    {
     "name": "stdout",
     "output_type": "stream",
     "text": [
      "Finished Epoch 18 || Run Time:    8.4 | Load Time:    4.4 || F1:  97.95 | Prec:  96.20 | Rec:  99.76 || Ex/s: 595.06\n",
      "\n",
      "===>  EVAL Epoch 18\n"
     ]
    },
    {
     "name": "stderr",
     "output_type": "stream",
     "text": [
      "0% [██████████████] 100% | ETA: 00:00:00\n",
      "Total time elapsed: 00:00:01\n"
     ]
    },
    {
     "name": "stdout",
     "output_type": "stream",
     "text": [
      "Finished Epoch 18 || Run Time:    0.7 | Load Time:    1.0 || F1:  59.60 | Prec:  56.02 | Rec:  63.68 || Ex/s: 1354.49\n",
      "\n",
      "---------------------\n",
      "\n",
      "===>  TRAIN Epoch 19\n"
     ]
    },
    {
     "name": "stderr",
     "output_type": "stream",
     "text": [
      "0% [██████████████████████████████] 100% | ETA: 00:00:00\n",
      "Total time elapsed: 00:00:12\n"
     ]
    },
    {
     "name": "stdout",
     "output_type": "stream",
     "text": [
      "Finished Epoch 19 || Run Time:    8.0 | Load Time:    4.3 || F1:  98.00 | Prec:  96.31 | Rec:  99.76 || Ex/s: 614.34\n",
      "\n",
      "===>  EVAL Epoch 19\n"
     ]
    },
    {
     "name": "stderr",
     "output_type": "stream",
     "text": [
      "0% [██████████████] 100% | ETA: 00:00:00\n",
      "Total time elapsed: 00:00:01\n"
     ]
    },
    {
     "name": "stdout",
     "output_type": "stream",
     "text": [
      "Finished Epoch 19 || Run Time:    0.7 | Load Time:    1.0 || F1:  59.44 | Prec:  56.06 | Rec:  63.25 || Ex/s: 1345.06\n",
      "\n",
      "---------------------\n",
      "\n",
      "===>  TRAIN Epoch 20\n"
     ]
    },
    {
     "name": "stderr",
     "output_type": "stream",
     "text": [
      "0% [██████████████████████████████] 100% | ETA: 00:00:00\n",
      "Total time elapsed: 00:00:12\n"
     ]
    },
    {
     "name": "stdout",
     "output_type": "stream",
     "text": [
      "Finished Epoch 20 || Run Time:    8.0 | Load Time:    4.4 || F1:  98.06 | Prec:  96.31 | Rec:  99.88 || Ex/s: 613.60\n",
      "\n",
      "===>  EVAL Epoch 20\n"
     ]
    },
    {
     "name": "stderr",
     "output_type": "stream",
     "text": [
      "0% [██████████████] 100% | ETA: 00:00:00\n",
      "Total time elapsed: 00:00:01\n"
     ]
    },
    {
     "name": "stdout",
     "output_type": "stream",
     "text": [
      "Finished Epoch 20 || Run Time:    0.6 | Load Time:    1.0 || F1:  59.68 | Prec:  56.49 | Rec:  63.25 || Ex/s: 1366.22\n",
      "\n",
      "---------------------\n",
      "\n",
      "Loading best model...\n",
      "Training done.\n"
     ]
    },
    {
     "data": {
      "text/plain": [
       "60.31128404669261"
      ]
     },
     "execution_count": 94,
     "metadata": {},
     "output_type": "execute_result"
    }
   ],
   "source": [
    "model = dm.MatchingModel(attr_summarizer='rnn')\n",
    "model.run_train(train,validation,epochs=20,best_save_path='../../models/amazongoogle_rnn_extended10perc.pth',\n",
    "                pos_neg_ratio=10)"
   ]
  },
  {
   "cell_type": "code",
   "execution_count": 95,
   "metadata": {},
   "outputs": [],
   "source": [
    "model = dm.MatchingModel(attr_summarizer='rnn')\n",
    "model.load_state('../../models/amazongoogle_rnn_extended10perc.pth')"
   ]
  },
  {
   "cell_type": "code",
   "execution_count": 96,
   "metadata": {},
   "outputs": [],
   "source": [
    "testpos_classifier,testpos_ids = return_layer_input('../../Structured/Amazon-Google/',\n",
    "                                                                  'test_positives',128,model,\n",
    "                                                                  model.classifier,device=-1)\n",
    "testneg_classifier,testneg_ids = return_layer_input('../../Structured/Amazon-Google/'\n",
    "                                                                         ,'test_negatives',128,model,\n",
    "                                                                        model.classifier,device=-1)"
   ]
  },
  {
   "cell_type": "code",
   "execution_count": 97,
   "metadata": {},
   "outputs": [],
   "source": [
    "model = model.cuda()"
   ]
  },
  {
   "cell_type": "code",
   "execution_count": 98,
   "metadata": {},
   "outputs": [
    {
     "name": "stderr",
     "output_type": "stream",
     "text": [
      "100%|██████████| 106/106 [00:00<00:00, 120.49it/s]\n",
      "100%|██████████| 128/128 [00:01<00:00, 101.67it/s]\n"
     ]
    }
   ],
   "source": [
    "positives_ri,pos_ri_norms = computeRi(model.classifier,\n",
    "                                                    attributes,testpos_classifier,attribute_len,0)"
   ]
  },
  {
   "cell_type": "code",
   "execution_count": 99,
   "metadata": {},
   "outputs": [
    {
     "data": {
      "text/plain": [
       "<matplotlib.axes._subplots.AxesSubplot at 0x7f1f0d25a748>"
      ]
     },
     "execution_count": 99,
     "metadata": {},
     "output_type": "execute_result"
    },
    {
     "data": {
      "image/png": "[encoded data removed]",
      "text/plain": [
       "<Figure size 432x288 with 1 Axes>"
      ]
     },
     "metadata": {
      "needs_background": "light"
     },
     "output_type": "display_data"
    }
   ],
   "source": [
    "positives_variation_df = pd.DataFrame(data= pos_ri_norms,columns=attributes)\n",
    "positives_variation_df.sum().plot.bar()"
   ]
  },
  {
   "cell_type": "code",
   "execution_count": null,
   "metadata": {},
   "outputs": [],
   "source": []
  }
 ],
 "metadata": {
  "kernelspec": {
   "display_name": "Python 3",
   "language": "python",
   "name": "python3"
  },
  "language_info": {
   "codemirror_mode": {
    "name": "ipython",
    "version": 3
   },
   "file_extension": ".py",
   "mimetype": "text/x-python",
   "name": "python",
   "nbconvert_exporter": "python",
   "pygments_lexer": "ipython3",
   "version": "3.6.9"
  }
 },
 "nbformat": 4,
 "nbformat_minor": 2
}

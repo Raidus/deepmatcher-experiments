{
 "cells": [
  {
   "cell_type": "code",
   "execution_count": 1,
   "metadata": {},
   "outputs": [],
   "source": [
    "%load_ext autoreload\n",
    "%autoreload 2"
   ]
  },
  {
   "cell_type": "code",
   "execution_count": 2,
   "metadata": {},
   "outputs": [],
   "source": [
    "import sys\n",
    "sys.path.append('../..')"
   ]
  },
  {
   "cell_type": "code",
   "execution_count": 4,
   "metadata": {},
   "outputs": [],
   "source": [
    "import deepmatcher as dm\n",
    "import pandas as pd\n",
    "from utilities_functions.explainer import generateExplanations"
   ]
  },
  {
   "cell_type": "code",
   "execution_count": 5,
   "metadata": {},
   "outputs": [],
   "source": [
    "attributes_selected =['manufacturer','price']"
   ]
  },
  {
   "cell_type": "markdown",
   "metadata": {},
   "source": [
    "## Rnn model"
   ]
  },
  {
   "cell_type": "code",
   "execution_count": 9,
   "metadata": {},
   "outputs": [],
   "source": [
    "rnn_model = dm.MatchingModel(attr_summarizer='rnn')\n",
    "rnn_model.load_state('../../models/amazongoogle_rnn.pth')"
   ]
  },
  {
   "cell_type": "code",
   "execution_count": 10,
   "metadata": {},
   "outputs": [],
   "source": [
    "testpos_nn_rnn = pd.read_csv('experiment_results/testpos_nn_rnn.csv')\n",
    "negatives = pd.read_csv('../../Structured/Amazon-Google/negatives.csv')"
   ]
  },
  {
   "cell_type": "code",
   "execution_count": 11,
   "metadata": {},
   "outputs": [
    {
     "name": "stdout",
     "output_type": "stream",
     "text": [
      "===>  PREDICT Epoch 18\n",
      "Finished Epoch 18 || Run Time:    0.7 | Load Time:    0.9 || F1:   0.00 | Prec:   0.00 | Rec:   0.00 || Ex/s:   0.00\n",
      "\n",
      "===>  PREDICT Epoch 18\n",
      "Finished Epoch 18 || Run Time:    0.5 | Load Time:    0.9 || F1:   0.00 | Prec:   0.00 | Rec:   0.00 || Ex/s:   0.00\n",
      "\n",
      "===>  PREDICT Epoch 18\n",
      "Finished Epoch 18 || Run Time:    0.5 | Load Time:    0.9 || F1:   0.00 | Prec:   0.00 | Rec:   0.00 || Ex/s:   0.00\n",
      "\n",
      "===>  PREDICT Epoch 18\n",
      "Finished Epoch 18 || Run Time:    0.4 | Load Time:    0.8 || F1:   0.00 | Prec:   0.00 | Rec:   0.00 || Ex/s:   0.00\n",
      "\n",
      "===>  PREDICT Epoch 18\n",
      "Finished Epoch 18 || Run Time:    0.4 | Load Time:    0.8 || F1:   0.00 | Prec:   0.00 | Rec:   0.00 || Ex/s:   0.00\n",
      "\n",
      "===>  PREDICT Epoch 18\n",
      "Finished Epoch 18 || Run Time:    0.4 | Load Time:    0.8 || F1:   0.00 | Prec:   0.00 | Rec:   0.00 || Ex/s:   0.00\n",
      "\n",
      "===>  PREDICT Epoch 18\n",
      "Finished Epoch 18 || Run Time:    0.4 | Load Time:    0.9 || F1:   0.00 | Prec:   0.00 | Rec:   0.00 || Ex/s:   0.00\n",
      "\n",
      "===>  PREDICT Epoch 18\n",
      "Finished Epoch 18 || Run Time:    0.5 | Load Time:    0.9 || F1:   0.00 | Prec:   0.00 | Rec:   0.00 || Ex/s:   0.00\n",
      "\n",
      "===>  PREDICT Epoch 18\n",
      "Finished Epoch 18 || Run Time:    0.4 | Load Time:    0.9 || F1:   0.00 | Prec:   0.00 | Rec:   0.00 || Ex/s:   0.00\n",
      "\n",
      "===>  PREDICT Epoch 18\n",
      "Finished Epoch 18 || Run Time:    0.4 | Load Time:    0.9 || F1:   0.00 | Prec:   0.00 | Rec:   0.00 || Ex/s:   0.00\n",
      "\n",
      "===>  PREDICT Epoch 18\n",
      "Finished Epoch 18 || Run Time:    0.4 | Load Time:    0.9 || F1:   0.00 | Prec:   0.00 | Rec:   0.00 || Ex/s:   0.00\n",
      "\n",
      "===>  PREDICT Epoch 18\n",
      "Finished Epoch 18 || Run Time:    0.4 | Load Time:    0.9 || F1:   0.00 | Prec:   0.00 | Rec:   0.00 || Ex/s:   0.00\n",
      "\n"
     ]
    }
   ],
   "source": [
    "critical_values_foratt = {}\n",
    "for att in attributes_selected:\n",
    "    critical_values = generateExplanations(testpos_nn_rnn,5,0.1,negatives,\n",
    "                                           att,rnn_model,'../../Structured/Amazon-Google/positives.csv',1)\n",
    "    critical_values_foratt[att] = critical_values"
   ]
  },
  {
   "cell_type": "code",
   "execution_count": 13,
   "metadata": {},
   "outputs": [],
   "source": [
    "testneg_nn_rnn = pd.read_csv('experiment_results/testneg_nn_rnn.csv')\n",
    "positives = pd.read_csv('../../Structured/Amazon-Google/positives.csv')"
   ]
  },
  {
   "cell_type": "code",
   "execution_count": 15,
   "metadata": {},
   "outputs": [
    {
     "name": "stdout",
     "output_type": "stream",
     "text": [
      "===>  PREDICT Epoch 18\n",
      "Finished Epoch 18 || Run Time:    3.6 | Load Time:    6.5 || F1:   0.00 | Prec:   0.00 | Rec:   0.00 || Ex/s:   0.00\n",
      "\n",
      "===>  PREDICT Epoch 18\n",
      "Finished Epoch 18 || Run Time:    3.7 | Load Time:    6.6 || F1:   0.00 | Prec:   0.00 | Rec:   0.00 || Ex/s:   0.00\n",
      "\n",
      "===>  PREDICT Epoch 18\n",
      "Finished Epoch 18 || Run Time:    3.8 | Load Time:    6.9 || F1:   0.00 | Prec:   0.00 | Rec:   0.00 || Ex/s:   0.00\n",
      "\n",
      "===>  PREDICT Epoch 18\n",
      "Finished Epoch 18 || Run Time:    3.8 | Load Time:    6.8 || F1:   0.00 | Prec:   0.00 | Rec:   0.00 || Ex/s:   0.00\n",
      "\n",
      "===>  PREDICT Epoch 18\n",
      "Finished Epoch 18 || Run Time:    3.8 | Load Time:    6.5 || F1:   0.00 | Prec:   0.00 | Rec:   0.00 || Ex/s:   0.00\n",
      "\n",
      "===>  PREDICT Epoch 18\n",
      "Finished Epoch 18 || Run Time:    3.7 | Load Time:    6.4 || F1:   0.00 | Prec:   0.00 | Rec:   0.00 || Ex/s:   0.00\n",
      "\n",
      "===>  PREDICT Epoch 18\n",
      "Finished Epoch 18 || Run Time:    3.6 | Load Time:    6.5 || F1:   0.00 | Prec:   0.00 | Rec:   0.00 || Ex/s:   0.00\n",
      "\n",
      "===>  PREDICT Epoch 18\n",
      "Finished Epoch 18 || Run Time:    3.7 | Load Time:    6.5 || F1:   0.00 | Prec:   0.00 | Rec:   0.00 || Ex/s:   0.00\n",
      "\n",
      "===>  PREDICT Epoch 18\n",
      "Finished Epoch 18 || Run Time:    3.6 | Load Time:    6.5 || F1:   0.00 | Prec:   0.00 | Rec:   0.00 || Ex/s:   0.00\n",
      "\n",
      "===>  PREDICT Epoch 18\n",
      "Finished Epoch 18 || Run Time:    3.7 | Load Time:    6.5 || F1:   0.00 | Prec:   0.00 | Rec:   0.00 || Ex/s:   0.00\n",
      "\n",
      "===>  PREDICT Epoch 18\n",
      "Finished Epoch 18 || Run Time:    3.7 | Load Time:    6.6 || F1:   0.00 | Prec:   0.00 | Rec:   0.00 || Ex/s:   0.00\n",
      "\n",
      "===>  PREDICT Epoch 18\n",
      "Finished Epoch 18 || Run Time:    3.7 | Load Time:    6.5 || F1:   0.00 | Prec:   0.00 | Rec:   0.00 || Ex/s:   0.00\n",
      "\n"
     ]
    }
   ],
   "source": [
    "critical_values_neg_foratt = {}\n",
    "for att in attributes_selected:\n",
    "    critical_values = generateExplanations(testneg_nn_rnn,5,0.1,positives,\n",
    "                                           att,rnn_model,'../../Structured/Amazon-Google/negatives.csv',0)\n",
    "    critical_values_neg_foratt[att] = critical_values"
   ]
  },
  {
   "cell_type": "markdown",
   "metadata": {},
   "source": [
    "## Hybrid model"
   ]
  },
  {
   "cell_type": "code",
   "execution_count": 21,
   "metadata": {},
   "outputs": [],
   "source": [
    "hybrid_model = dm.MatchingModel(attr_summarizer='hybrid')\n",
    "hybrid_model.load_state('../../models/amazongoogle_hybrid.pth')"
   ]
  },
  {
   "cell_type": "code",
   "execution_count": 26,
   "metadata": {},
   "outputs": [
    {
     "name": "stdout",
     "output_type": "stream",
     "text": [
      "===>  PREDICT Epoch 9\n",
      "Finished Epoch 9 || Run Time:    1.4 | Load Time:    0.9 || F1:   0.00 | Prec:   0.00 | Rec:   0.00 || Ex/s:   0.00\n",
      "\n",
      "===>  PREDICT Epoch 9\n",
      "Finished Epoch 9 || Run Time:    1.4 | Load Time:    0.8 || F1:   0.00 | Prec:   0.00 | Rec:   0.00 || Ex/s:   0.00\n",
      "\n",
      "===>  PREDICT Epoch 9\n",
      "Finished Epoch 9 || Run Time:    1.4 | Load Time:    0.8 || F1:   0.00 | Prec:   0.00 | Rec:   0.00 || Ex/s:   0.00\n",
      "\n",
      "===>  PREDICT Epoch 9\n",
      "Finished Epoch 9 || Run Time:    1.4 | Load Time:    0.8 || F1:   0.00 | Prec:   0.00 | Rec:   0.00 || Ex/s:   0.00\n",
      "\n",
      "===>  PREDICT Epoch 9\n",
      "Finished Epoch 9 || Run Time:    1.4 | Load Time:    0.8 || F1:   0.00 | Prec:   0.00 | Rec:   0.00 || Ex/s:   0.00\n",
      "\n",
      "===>  PREDICT Epoch 9\n",
      "Finished Epoch 9 || Run Time:    1.5 | Load Time:    0.8 || F1:   0.00 | Prec:   0.00 | Rec:   0.00 || Ex/s:   0.00\n",
      "\n",
      "===>  PREDICT Epoch 9\n",
      "Finished Epoch 9 || Run Time:    1.5 | Load Time:    0.9 || F1:   0.00 | Prec:   0.00 | Rec:   0.00 || Ex/s:   0.00\n",
      "\n",
      "===>  PREDICT Epoch 9\n",
      "Finished Epoch 9 || Run Time:    1.4 | Load Time:    0.8 || F1:   0.00 | Prec:   0.00 | Rec:   0.00 || Ex/s:   0.00\n",
      "\n",
      "===>  PREDICT Epoch 9\n",
      "Finished Epoch 9 || Run Time:    1.4 | Load Time:    0.8 || F1:   0.00 | Prec:   0.00 | Rec:   0.00 || Ex/s:   0.00\n",
      "\n",
      "===>  PREDICT Epoch 9\n",
      "Finished Epoch 9 || Run Time:    1.4 | Load Time:    0.9 || F1:   0.00 | Prec:   0.00 | Rec:   0.00 || Ex/s:   0.00\n",
      "\n",
      "===>  PREDICT Epoch 9\n",
      "Finished Epoch 9 || Run Time:    1.6 | Load Time:    1.0 || F1:   0.00 | Prec:   0.00 | Rec:   0.00 || Ex/s:   0.00\n",
      "\n",
      "===>  PREDICT Epoch 9\n",
      "Finished Epoch 9 || Run Time:    1.5 | Load Time:    0.9 || F1:   0.00 | Prec:   0.00 | Rec:   0.00 || Ex/s:   0.00\n",
      "\n"
     ]
    }
   ],
   "source": [
    "testpos_nn_hybrid = pd.read_csv('experiment_results/testpos_nn_hybrid.csv')\n",
    "\n",
    "critical_pos_foratt = {}\n",
    "for att in attributes_selected:\n",
    "    critical_values = generateExplanations(testpos_nn_hybrid,5,0.1,negatives,\n",
    "                                           att,hybrid_model,'../../Structured/Amazon-Google/positives.csv',1)\n",
    "    critical_pos_foratt[att] = critical_values"
   ]
  },
  {
   "cell_type": "code",
   "execution_count": 27,
   "metadata": {},
   "outputs": [
    {
     "data": {
      "text/plain": [
       "{'manufacturer': [], 'price': []}"
      ]
     },
     "execution_count": 27,
     "metadata": {},
     "output_type": "execute_result"
    }
   ],
   "source": [
    "critical_pos_foratt"
   ]
  },
  {
   "cell_type": "code",
   "execution_count": 24,
   "metadata": {},
   "outputs": [
    {
     "name": "stdout",
     "output_type": "stream",
     "text": [
      "===>  PREDICT Epoch 9\n",
      "Finished Epoch 9 || Run Time:   12.4 | Load Time:    6.7 || F1:   0.00 | Prec:   0.00 | Rec:   0.00 || Ex/s:   0.00\n",
      "\n",
      "===>  PREDICT Epoch 9\n",
      "Finished Epoch 9 || Run Time:   12.4 | Load Time:    6.5 || F1:   0.00 | Prec:   0.00 | Rec:   0.00 || Ex/s:   0.00\n",
      "\n",
      "===>  PREDICT Epoch 9\n",
      "Finished Epoch 9 || Run Time:   12.9 | Load Time:    7.0 || F1:   0.00 | Prec:   0.00 | Rec:   0.00 || Ex/s:   0.00\n",
      "\n",
      "===>  PREDICT Epoch 9\n",
      "Finished Epoch 9 || Run Time:   12.4 | Load Time:    6.5 || F1:   0.00 | Prec:   0.00 | Rec:   0.00 || Ex/s:   0.00\n",
      "\n",
      "===>  PREDICT Epoch 9\n",
      "Finished Epoch 9 || Run Time:   11.9 | Load Time:    6.2 || F1:   0.00 | Prec:   0.00 | Rec:   0.00 || Ex/s:   0.00\n",
      "\n",
      "===>  PREDICT Epoch 9\n",
      "Finished Epoch 9 || Run Time:   12.6 | Load Time:    6.6 || F1:   0.00 | Prec:   0.00 | Rec:   0.00 || Ex/s:   0.00\n",
      "\n",
      "===>  PREDICT Epoch 9\n",
      "Finished Epoch 9 || Run Time:   12.5 | Load Time:    6.7 || F1:   0.00 | Prec:   0.00 | Rec:   0.00 || Ex/s:   0.00\n",
      "\n",
      "===>  PREDICT Epoch 9\n",
      "Finished Epoch 9 || Run Time:   12.1 | Load Time:    6.5 || F1:   0.00 | Prec:   0.00 | Rec:   0.00 || Ex/s:   0.00\n",
      "\n",
      "===>  PREDICT Epoch 9\n",
      "Finished Epoch 9 || Run Time:   12.8 | Load Time:    6.8 || F1:   0.00 | Prec:   0.00 | Rec:   0.00 || Ex/s:   0.00\n",
      "\n",
      "===>  PREDICT Epoch 9\n",
      "Finished Epoch 9 || Run Time:   12.6 | Load Time:    6.7 || F1:   0.00 | Prec:   0.00 | Rec:   0.00 || Ex/s:   0.00\n",
      "\n",
      "===>  PREDICT Epoch 9\n",
      "Finished Epoch 9 || Run Time:   12.2 | Load Time:    6.5 || F1:   0.00 | Prec:   0.00 | Rec:   0.00 || Ex/s:   0.00\n",
      "\n",
      "===>  PREDICT Epoch 9\n",
      "Finished Epoch 9 || Run Time:   12.3 | Load Time:    6.6 || F1:   0.00 | Prec:   0.00 | Rec:   0.00 || Ex/s:   0.00\n",
      "\n"
     ]
    }
   ],
   "source": [
    "testneg_nn_hybrid = pd.read_csv('experiment_results/testneg_nn_hybrid.csv')\n",
    "\n",
    "critical_neg_foratt = {}\n",
    "for att in attributes_selected:\n",
    "    critical_values = generateExplanations(testneg_nn_hybrid,5,0.1,positives,\n",
    "                                           att,hybrid_model,'../../Structured/Amazon-Google/negatives.csv',0)\n",
    "    critical_neg_foratt[att] = critical_values"
   ]
  },
  {
   "cell_type": "code",
   "execution_count": 25,
   "metadata": {},
   "outputs": [
    {
     "data": {
      "text/plain": [
       "{'manufacturer': [], 'price': []}"
      ]
     },
     "execution_count": 25,
     "metadata": {},
     "output_type": "execute_result"
    }
   ],
   "source": [
    "critical_neg_foratt"
   ]
  }
 ],
 "metadata": {
  "kernelspec": {
   "display_name": "Python 3",
   "language": "python",
   "name": "python3"
  },
  "language_info": {
   "codemirror_mode": {
    "name": "ipython",
    "version": 3
   },
   "file_extension": ".py",
   "mimetype": "text/x-python",
   "name": "python",
   "nbconvert_exporter": "python",
   "pygments_lexer": "ipython3",
   "version": "3.6.9"
  }
 },
 "nbformat": 4,
 "nbformat_minor": 2
}

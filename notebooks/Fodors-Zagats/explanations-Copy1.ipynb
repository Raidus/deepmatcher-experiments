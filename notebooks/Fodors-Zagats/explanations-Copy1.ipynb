{
 "cells": [
  {
   "cell_type": "code",
   "execution_count": 1,
   "metadata": {
    "ExecuteTime": {
     "end_time": "2020-05-23T15:55:26.693384Z",
     "start_time": "2020-05-23T15:55:26.672742Z"
    }
   },
   "outputs": [],
   "source": [
    "%load_ext autoreload\n",
    "%autoreload 2"
   ]
  },
  {
   "cell_type": "code",
   "execution_count": 2,
   "metadata": {
    "ExecuteTime": {
     "end_time": "2020-05-23T15:55:27.039586Z",
     "start_time": "2020-05-23T15:55:27.027027Z"
    }
   },
   "outputs": [],
   "source": [
    "import sys\n",
    "sys.path.append('../..')"
   ]
  },
  {
   "cell_type": "code",
   "execution_count": 3,
   "metadata": {
    "ExecuteTime": {
     "end_time": "2020-05-23T15:55:28.678373Z",
     "start_time": "2020-05-23T15:55:27.385192Z"
    }
   },
   "outputs": [],
   "source": [
    "import deepmatcher as dm\n",
    "import pandas as pd\n",
    "from utils.deepmatcher_utils import wrapDm\n",
    "import numpy as np"
   ]
  },
  {
   "cell_type": "code",
   "execution_count": 4,
   "metadata": {
    "ExecuteTime": {
     "end_time": "2020-05-23T15:55:28.712695Z",
     "start_time": "2020-05-23T15:55:28.681371Z"
    }
   },
   "outputs": [],
   "source": [
    "pd.set_option('display.max_colwidth',None)"
   ]
  },
  {
   "cell_type": "markdown",
   "metadata": {},
   "source": [
    "## Black-box explanation"
   ]
  },
  {
   "cell_type": "code",
   "execution_count": 5,
   "metadata": {
    "ExecuteTime": {
     "end_time": "2020-05-23T15:55:28.814768Z",
     "start_time": "2020-05-23T15:55:28.785171Z"
    }
   },
   "outputs": [],
   "source": [
    "from utils.triangles_method import explainSamples"
   ]
  },
  {
   "cell_type": "code",
   "execution_count": 11,
   "metadata": {
    "ExecuteTime": {
     "end_time": "2020-05-23T15:56:33.997563Z",
     "start_time": "2020-05-23T15:56:33.945040Z"
    }
   },
   "outputs": [],
   "source": [
    "DATA_DIR ='../../datasets/Structured/Fodors-Zagats/'\n",
    "allSamples = pd.read_csv(DATA_DIR+'complete-dataset.csv')"
   ]
  },
  {
   "cell_type": "code",
   "execution_count": 7,
   "metadata": {
    "ExecuteTime": {
     "end_time": "2020-05-23T15:55:36.031398Z",
     "start_time": "2020-05-23T15:55:32.305138Z"
    }
   },
   "outputs": [],
   "source": [
    "hybrid = dm.MatchingModel(attr_summarizer='hybrid')\n",
    "hybrid.load_state('../../models/fod_zag_hybrid.pth')\n",
    "hybrid = hybrid.to('cuda')"
   ]
  },
  {
   "cell_type": "code",
   "execution_count": 8,
   "metadata": {
    "ExecuteTime": {
     "end_time": "2020-05-13T13:07:20.042596Z",
     "start_time": "2020-05-13T13:07:19.825711Z"
    }
   },
   "outputs": [],
   "source": [
    "rnn = dm.MatchingModel(attr_summarizer='rnn')\n",
    "rnn.load_state('../../models/fod_zag_rnn.pth')\n",
    "rnn = rnn.to('cuda')"
   ]
  },
  {
   "cell_type": "code",
   "execution_count": 12,
   "metadata": {
    "ExecuteTime": {
     "end_time": "2020-05-23T15:56:36.729674Z",
     "start_time": "2020-05-23T15:56:36.687735Z"
    }
   },
   "outputs": [
    {
     "ename": "NameError",
     "evalue": "name 'rnn' is not defined",
     "output_type": "error",
     "traceback": [
      "\u001b[0;31m---------------------------------------------------------------------------\u001b[0m",
      "\u001b[0;31mNameError\u001b[0m                                 Traceback (most recent call last)",
      "\u001b[0;32m<ipython-input-12-106e0153d6e0>\u001b[0m in \u001b[0;36m<module>\u001b[0;34m\u001b[0m\n\u001b[0;32m----> 1\u001b[0;31m \u001b[0mprediction\u001b[0m \u001b[0;34m=\u001b[0m \u001b[0mwrapDm\u001b[0m\u001b[0;34m(\u001b[0m\u001b[0mallSamples\u001b[0m\u001b[0;34m,\u001b[0m\u001b[0mrnn\u001b[0m\u001b[0;34m,\u001b[0m\u001b[0mignore_columns\u001b[0m\u001b[0;34m=\u001b[0m\u001b[0;34m[\u001b[0m\u001b[0;34m'label'\u001b[0m\u001b[0;34m]\u001b[0m\u001b[0;34m)\u001b[0m\u001b[0;34m\u001b[0m\u001b[0;34m\u001b[0m\u001b[0m\n\u001b[0m\u001b[1;32m      2\u001b[0m \u001b[0mcorrect_preds\u001b[0m \u001b[0;34m=\u001b[0m \u001b[0mallSamples\u001b[0m\u001b[0;34m[\u001b[0m\u001b[0mnp\u001b[0m\u001b[0;34m.\u001b[0m\u001b[0margmax\u001b[0m\u001b[0;34m(\u001b[0m\u001b[0mprediction\u001b[0m\u001b[0;34m,\u001b[0m\u001b[0maxis\u001b[0m\u001b[0;34m=\u001b[0m\u001b[0;36m1\u001b[0m\u001b[0;34m)\u001b[0m\u001b[0;34m==\u001b[0m\u001b[0mallSamples\u001b[0m\u001b[0;34m.\u001b[0m\u001b[0mlabel\u001b[0m\u001b[0;34m.\u001b[0m\u001b[0mvalues\u001b[0m\u001b[0;34m]\u001b[0m\u001b[0;34m\u001b[0m\u001b[0;34m\u001b[0m\u001b[0m\n\u001b[1;32m      3\u001b[0m \u001b[0mlen\u001b[0m\u001b[0;34m(\u001b[0m\u001b[0mallSamples\u001b[0m\u001b[0;34m)\u001b[0m\u001b[0;34m,\u001b[0m\u001b[0mlen\u001b[0m\u001b[0;34m(\u001b[0m\u001b[0mcorrect_preds\u001b[0m\u001b[0;34m)\u001b[0m\u001b[0;34m\u001b[0m\u001b[0;34m\u001b[0m\u001b[0m\n",
      "\u001b[0;31mNameError\u001b[0m: name 'rnn' is not defined"
     ]
    }
   ],
   "source": [
    "prediction = wrapDm(allSamples,rnn,ignore_columns=['label'])\n",
    "correct_preds = allSamples[np.argmax(prediction,axis=1)==allSamples.label.values]\n",
    "len(allSamples),len(correct_preds)"
   ]
  },
  {
   "cell_type": "code",
   "execution_count": 13,
   "metadata": {
    "ExecuteTime": {
     "end_time": "2020-05-23T15:56:47.115006Z",
     "start_time": "2020-05-23T15:56:40.852504Z"
    }
   },
   "outputs": [
    {
     "data": {
      "text/plain": [
       "(946, 943)"
      ]
     },
     "execution_count": 13,
     "metadata": {},
     "output_type": "execute_result"
    }
   ],
   "source": [
    "prediction4hybrid = wrapDm(allSamples,hybrid,ignore_columns=['label'])\n",
    "correct_preds4hybrid = allSamples[np.argmax(prediction4hybrid,axis=1)==allSamples.label.values]\n",
    "len(allSamples),len(correct_preds4hybrid)"
   ]
  },
  {
   "cell_type": "code",
   "execution_count": 9,
   "metadata": {
    "ExecuteTime": {
     "end_time": "2020-05-23T15:55:52.678543Z",
     "start_time": "2020-05-23T15:55:52.637181Z"
    }
   },
   "outputs": [],
   "source": [
    "fodors = pd.read_csv(DATA_DIR+'tableA.csv',dtype=str)\n",
    "zagats = pd.read_csv(DATA_DIR+'tableB.csv',dtype=str)"
   ]
  },
  {
   "cell_type": "code",
   "execution_count": 16,
   "metadata": {
    "ExecuteTime": {
     "end_time": "2020-05-13T10:25:53.147081Z",
     "start_time": "2020-05-13T10:24:27.301858Z"
    }
   },
   "outputs": [
    {
     "name": "stderr",
     "output_type": "stream",
     "text": [
      "100%|██████████| 600/600 [01:24<00:00,  7.10it/s]\n"
     ]
    }
   ],
   "source": [
    "neg_ranking,flippedneg = explainSamples(correct_preds,[fodors,zagats],rnn,wrapDm,\n",
    "                                       class_to_explain=0,maxLenAttributeSet=1)"
   ]
  },
  {
   "cell_type": "code",
   "execution_count": 18,
   "metadata": {
    "ExecuteTime": {
     "end_time": "2020-05-13T10:30:22.593214Z",
     "start_time": "2020-05-13T10:29:01.680163Z"
    }
   },
   "outputs": [
    {
     "name": "stderr",
     "output_type": "stream",
     "text": [
      "100%|██████████| 600/600 [01:19<00:00,  7.51it/s]\n"
     ]
    }
   ],
   "source": [
    "pos_ranking,flippedpos = explainSamples(correct_preds,[fodors,zagats],rnn,wrapDm,\n",
    "                                       class_to_explain=1,maxLenAttributeSet=1)"
   ]
  },
  {
   "cell_type": "code",
   "execution_count": 14,
   "metadata": {
    "ExecuteTime": {
     "end_time": "2020-05-23T15:59:56.024289Z",
     "start_time": "2020-05-23T15:56:50.080287Z"
    }
   },
   "outputs": [
    {
     "name": "stderr",
     "output_type": "stream",
     "text": [
      "100%|██████████| 592/592 [03:05<00:00,  3.19it/s]\n"
     ]
    }
   ],
   "source": [
    "neg_ranking4hybrid,flippedneg4hybrid = explainSamples(correct_preds4hybrid,[fodors,zagats],hybrid,wrapDm,\n",
    "                                       class_to_explain=0,maxLenAttributeSet=1)"
   ]
  },
  {
   "cell_type": "code",
   "execution_count": null,
   "metadata": {
    "ExecuteTime": {
     "start_time": "2020-05-23T16:00:20.392Z"
    }
   },
   "outputs": [
    {
     "name": "stderr",
     "output_type": "stream",
     "text": [
      " 96%|█████████▌| 567/592 [03:04<00:09,  2.56it/s]"
     ]
    }
   ],
   "source": [
    "pos_ranking4hybrid,flippedpos4hybrid = explainSamples(correct_preds4hybrid,[fodors,zagats],hybrid,wrapDm,\n",
    "                                       class_to_explain=1,maxLenAttributeSet=1)"
   ]
  },
  {
   "cell_type": "code",
   "execution_count": 22,
   "metadata": {
    "ExecuteTime": {
     "end_time": "2020-05-11T13:19:52.056285Z",
     "start_time": "2020-05-11T13:19:51.960344Z"
    }
   },
   "outputs": [],
   "source": [
    "flippedneg.to_csv('rnn_flippedneg.csv',index=False)"
   ]
  },
  {
   "cell_type": "code",
   "execution_count": 14,
   "metadata": {
    "ExecuteTime": {
     "end_time": "2020-05-11T15:02:17.621154Z",
     "start_time": "2020-05-11T15:02:17.544801Z"
    }
   },
   "outputs": [],
   "source": [
    "flippedpos.to_csv('rnn_flippedpos.csv',index=False)"
   ]
  },
  {
   "cell_type": "code",
   "execution_count": 21,
   "metadata": {
    "ExecuteTime": {
     "end_time": "2020-05-13T10:35:26.047639Z",
     "start_time": "2020-05-13T10:35:25.538076Z"
    }
   },
   "outputs": [
    {
     "data": {
      "image/png": "[encoded data removed]",
      "text/plain": [
       "<Figure size 432x288 with 1 Axes>"
      ]
     },
     "metadata": {
      "needs_background": "light"
     },
     "output_type": "display_data"
    }
   ],
   "source": [
    "pos_ranking.plot.barh(color='green',grid=True).get_figure().savefig('rnn_pos_ranking.png')"
   ]
  },
  {
   "cell_type": "code",
   "execution_count": null,
   "metadata": {
    "ExecuteTime": {
     "start_time": "2020-05-23T16:00:24.452Z"
    }
   },
   "outputs": [],
   "source": [
    "pos_ranking4hybrid.plot.barh(color='green',grid=True).get_figure().savefig('hybrid_pos_ranking.png')"
   ]
  },
  {
   "cell_type": "code",
   "execution_count": null,
   "metadata": {
    "ExecuteTime": {
     "start_time": "2020-05-23T16:00:24.779Z"
    }
   },
   "outputs": [],
   "source": [
    "neg_ranking4hybrid.plot.barh(color='red',grid=True).get_figure().savefig('hybrid_neg_ranking.png')"
   ]
  },
  {
   "cell_type": "code",
   "execution_count": 26,
   "metadata": {
    "ExecuteTime": {
     "end_time": "2020-05-13T10:42:48.980052Z",
     "start_time": "2020-05-13T10:42:48.706308Z"
    }
   },
   "outputs": [
    {
     "data": {
      "image/png": "[encoded data removed]",
      "text/plain": [
       "<Figure size 432x288 with 1 Axes>"
      ]
     },
     "metadata": {
      "needs_background": "light"
     },
     "output_type": "display_data"
    }
   ],
   "source": [
    "neg_ranking.plot.barh(color='red',grid=True).get_figure().savefig('rnn_neg_ranking.png')"
   ]
  },
  {
   "cell_type": "code",
   "execution_count": 27,
   "metadata": {
    "ExecuteTime": {
     "end_time": "2020-05-13T10:45:17.368468Z",
     "start_time": "2020-05-13T10:45:17.310024Z"
    }
   },
   "outputs": [],
   "source": [
    "flippedneg.to_csv('rnn_flippedneg.csv',index=False)\n",
    "flippedpos.to_csv('rnn_flippedpos.csv',index=False)\n",
    "flippedneg4hybrid.to_csv('hybrid_flippedneg.csv',index=False)\n",
    "flippedpos4hybrid.to_csv('hybrid_flippedpos.csv',index=False)"
   ]
  },
  {
   "cell_type": "markdown",
   "metadata": {},
   "source": [
    "## Patterns extraction"
   ]
  },
  {
   "cell_type": "code",
   "execution_count": 15,
   "metadata": {
    "ExecuteTime": {
     "end_time": "2020-05-13T13:09:19.663947Z",
     "start_time": "2020-05-13T13:09:19.629731Z"
    }
   },
   "outputs": [],
   "source": [
    "import ast,re\n",
    "from utils.patternDiscovery import getMaxFrequentPatterns"
   ]
  },
  {
   "cell_type": "code",
   "execution_count": 22,
   "metadata": {
    "ExecuteTime": {
     "end_time": "2020-05-13T13:12:03.294579Z",
     "start_time": "2020-05-13T13:12:03.246499Z"
    }
   },
   "outputs": [],
   "source": [
    "flippedneg = pd.read_csv('hybrid_flippedneg.csv')\n",
    "flippedpos = pd.read_csv('hybrid_flippedpos.csv')"
   ]
  },
  {
   "cell_type": "code",
   "execution_count": 27,
   "metadata": {
    "ExecuteTime": {
     "end_time": "2020-05-13T13:12:37.965500Z",
     "start_time": "2020-05-13T13:12:37.899695Z"
    }
   },
   "outputs": [],
   "source": [
    "flippedneg['alteredAttributes'] = flippedneg['alteredAttributes'].apply(lambda t:ast.literal_eval(t))\n",
    "flippedpos['alteredAttributes'] = flippedpos['alteredAttributes'].apply(lambda t:ast.literal_eval(t))"
   ]
  },
  {
   "cell_type": "code",
   "execution_count": 30,
   "metadata": {
    "ExecuteTime": {
     "end_time": "2020-05-13T13:13:20.655658Z",
     "start_time": "2020-05-13T13:13:20.610735Z"
    }
   },
   "outputs": [],
   "source": [
    "flippedpos['ltable_name'] = flippedpos['ltable_name'].apply(lambda v:re.sub('[^\\sa-zA-Z0-9-_*.]', '', v))\n",
    "flippedpos['rtable_name'] = flippedpos['rtable_name'].apply(lambda v:re.sub('[^\\sa-zA-Z0-9-_*.]', '', v))"
   ]
  },
  {
   "cell_type": "code",
   "execution_count": 33,
   "metadata": {
    "ExecuteTime": {
     "end_time": "2020-05-13T13:13:45.789410Z",
     "start_time": "2020-05-13T13:13:45.543960Z"
    }
   },
   "outputs": [
    {
     "name": "stdout",
     "output_type": "stream",
     "text": [
      "[['L_cafe', 'L_ritz-carlton', 'L_buckhead', 'R_toulouse'], ['L_cafe', 'L_ritz-carlton', 'L_buckhead', 'R_tomtom'], ['L_cafe', 'L_ritz-carlton', 'L_buckhead', 'R_palisades'], ['L_ritz-carlton', 'L_cafe', 'L_buckhead', 'R_toulouse']]\n"
     ]
    }
   ],
   "source": [
    "neg_pattern_on_name = getMaxFrequentPatterns(flippedpos[flippedpos.alteredAttributes==('name',)],\n",
    "                                             ['ltable_name','rtable_name'],min_support=0.1)"
   ]
  },
  {
   "cell_type": "code",
   "execution_count": 34,
   "metadata": {
    "ExecuteTime": {
     "end_time": "2020-05-13T13:13:52.250201Z",
     "start_time": "2020-05-13T13:13:52.215910Z"
    }
   },
   "outputs": [
    {
     "data": {
      "text/html": [
       "<div>\n",
       "<style scoped>\n",
       "    .dataframe tbody tr th:only-of-type {\n",
       "        vertical-align: middle;\n",
       "    }\n",
       "\n",
       "    .dataframe tbody tr th {\n",
       "        vertical-align: top;\n",
       "    }\n",
       "\n",
       "    .dataframe thead th {\n",
       "        text-align: right;\n",
       "    }\n",
       "</style>\n",
       "<table border=\"1\" class=\"dataframe\">\n",
       "  <thead>\n",
       "    <tr style=\"text-align: right;\">\n",
       "      <th></th>\n",
       "      <th>support</th>\n",
       "      <th>itemsets</th>\n",
       "    </tr>\n",
       "  </thead>\n",
       "  <tbody>\n",
       "    <tr>\n",
       "      <th>0</th>\n",
       "      <td>0.109524</td>\n",
       "      <td>(L_cafe)</td>\n",
       "    </tr>\n",
       "    <tr>\n",
       "      <th>1</th>\n",
       "      <td>0.130952</td>\n",
       "      <td>(L_s)</td>\n",
       "    </tr>\n",
       "    <tr>\n",
       "      <th>2</th>\n",
       "      <td>0.219048</td>\n",
       "      <td>(R_s)</td>\n",
       "    </tr>\n",
       "  </tbody>\n",
       "</table>\n",
       "</div>"
      ],
      "text/plain": [
       "    support  itemsets\n",
       "0  0.109524  (L_cafe)\n",
       "1  0.130952     (L_s)\n",
       "2  0.219048     (R_s)"
      ]
     },
     "execution_count": 34,
     "metadata": {},
     "output_type": "execute_result"
    }
   ],
   "source": [
    "neg_pattern_on_name.head(10)"
   ]
  },
  {
   "cell_type": "code",
   "execution_count": 29,
   "metadata": {
    "ExecuteTime": {
     "end_time": "2020-05-13T13:12:47.308859Z",
     "start_time": "2020-05-13T13:12:47.092590Z"
    }
   },
   "outputs": [
    {
     "data": {
      "text/html": [
       "<div>\n",
       "<style scoped>\n",
       "    .dataframe tbody tr th:only-of-type {\n",
       "        vertical-align: middle;\n",
       "    }\n",
       "\n",
       "    .dataframe tbody tr th {\n",
       "        vertical-align: top;\n",
       "    }\n",
       "\n",
       "    .dataframe thead th {\n",
       "        text-align: right;\n",
       "    }\n",
       "</style>\n",
       "<table border=\"1\" class=\"dataframe\">\n",
       "  <thead>\n",
       "    <tr style=\"text-align: right;\">\n",
       "      <th></th>\n",
       "      <th>support</th>\n",
       "      <th>itemsets</th>\n",
       "    </tr>\n",
       "  </thead>\n",
       "  <tbody>\n",
       "    <tr>\n",
       "      <th>0</th>\n",
       "      <td>0.700581</td>\n",
       "      <td>(R_`, L_`, R_', L_')</td>\n",
       "    </tr>\n",
       "  </tbody>\n",
       "</table>\n",
       "</div>"
      ],
      "text/plain": [
       "    support              itemsets\n",
       "0  0.700581  (R_`, L_`, R_', L_')"
      ]
     },
     "execution_count": 29,
     "metadata": {},
     "output_type": "execute_result"
    }
   ],
   "source": [
    "pos_pattern_on_title = getMaxFrequentPatterns(flippedneg[flippedneg.alteredAttributes==('name',)],\n",
    "                                             ['ltable_name','rtable_name'],min_support=0.2)\n",
    "pos_pattern_on_title.head(10)"
   ]
  },
  {
   "cell_type": "markdown",
   "metadata": {},
   "source": [
    "## Test pattern influence"
   ]
  },
  {
   "cell_type": "code",
   "execution_count": 11,
   "metadata": {
    "ExecuteTime": {
     "end_time": "2020-05-12T19:25:53.161615Z",
     "start_time": "2020-05-12T19:25:53.103903Z"
    }
   },
   "outputs": [
    {
     "data": {
      "text/plain": [
       "193"
      ]
     },
     "execution_count": 11,
     "metadata": {},
     "output_type": "execute_result"
    }
   ],
   "source": [
    "test_df = pd.read_csv(DATA_DIR+'merged_test.csv')\n",
    "positives = test_df[test_df.label==1].copy()\n",
    "len(positives)"
   ]
  },
  {
   "cell_type": "code",
   "execution_count": 12,
   "metadata": {
    "ExecuteTime": {
     "end_time": "2020-05-12T19:26:05.542476Z",
     "start_time": "2020-05-12T19:25:53.618737Z"
    }
   },
   "outputs": [
    {
     "data": {
      "text/plain": [
       "63"
      ]
     },
     "execution_count": 12,
     "metadata": {},
     "output_type": "execute_result"
    }
   ],
   "source": [
    "predictions = wrapDm(positives,rnn,['label'])\n",
    "np.count_nonzero(np.argmax(predictions,axis=1)==0)"
   ]
  },
  {
   "cell_type": "code",
   "execution_count": 82,
   "metadata": {
    "ExecuteTime": {
     "end_time": "2020-05-12T19:54:38.664785Z",
     "start_time": "2020-05-12T19:54:38.627287Z"
    }
   },
   "outputs": [],
   "source": [
    "positives = test_df[test_df.label==1].copy()\n",
    "positives['ltable_title'] =  positives['ltable_title']+ \" -\"\n",
    "positives['rtable_title'] =  positives['rtable_title']+ \" \" "
   ]
  },
  {
   "cell_type": "code",
   "execution_count": 83,
   "metadata": {
    "ExecuteTime": {
     "end_time": "2020-05-12T19:54:40.147256Z",
     "start_time": "2020-05-12T19:54:39.060630Z"
    }
   },
   "outputs": [
    {
     "data": {
      "text/plain": [
       "67"
      ]
     },
     "execution_count": 83,
     "metadata": {},
     "output_type": "execute_result"
    }
   ],
   "source": [
    "predictions = wrapDm(positives,rnn,['label'])\n",
    "np.count_nonzero(np.argmax(predictions,axis=1)==0)"
   ]
  },
  {
   "cell_type": "code",
   "execution_count": null,
   "metadata": {},
   "outputs": [],
   "source": [
    "s = \"rear projection screen x format\""
   ]
  }
 ],
 "metadata": {
  "kernelspec": {
   "display_name": "Python 3",
   "language": "python",
   "name": "python3"
  },
  "language_info": {
   "codemirror_mode": {
    "name": "ipython",
    "version": 3
   },
   "file_extension": ".py",
   "mimetype": "text/x-python",
   "name": "python",
   "nbconvert_exporter": "python",
   "pygments_lexer": "ipython3",
   "version": "3.8.1"
  },
  "toc": {
   "base_numbering": 1,
   "nav_menu": {},
   "number_sections": true,
   "sideBar": true,
   "skip_h1_title": false,
   "title_cell": "Table of Contents",
   "title_sidebar": "Contents",
   "toc_cell": false,
   "toc_position": {
    "height": "calc(100% - 180px)",
    "left": "10px",
    "top": "150px",
    "width": "384px"
   },
   "toc_section_display": true,
   "toc_window_display": true
  }
 },
 "nbformat": 4,
 "nbformat_minor": 2
}

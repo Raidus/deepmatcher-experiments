{
 "cells": [
  {
   "cell_type": "code",
   "execution_count": 1,
   "metadata": {},
   "outputs": [],
   "source": [
    "%load_ext autoreload\n",
    "%autoreload 2"
   ]
  },
  {
   "cell_type": "code",
   "execution_count": 2,
   "metadata": {},
   "outputs": [],
   "source": [
    "import sys\n",
    "sys.path.append('..')"
   ]
  },
  {
   "cell_type": "code",
   "execution_count": 3,
   "metadata": {},
   "outputs": [],
   "source": [
    "import pandas as pd\n",
    "from utils.SampleBuilder import SampleBuilder\n",
    "from similarity.jaccard import Jaccard\n",
    "from utils.explainer import Explainer\n",
    "import deepmatcher as dm\n",
    "from utils.intermediate_layer_extraction import return_layer_input\n",
    "from utils.ri_calculator import computeRi"
   ]
  },
  {
   "cell_type": "markdown",
   "metadata": {},
   "source": [
    "## Try to change time"
   ]
  },
  {
   "cell_type": "code",
   "execution_count": 4,
   "metadata": {},
   "outputs": [],
   "source": [
    "import random as rd\n",
    "def generateRandomTime(maxMin = 9):\n",
    "    minutes = str(rd.randint(1,maxMin))\n",
    "    seconds = rd.randint(0,60)\n",
    "    if seconds <=9:\n",
    "        seconds = str(0)+str(seconds)\n",
    "    else:\n",
    "        seconds = str(seconds)\n",
    "    return minutes+\":\"+seconds"
   ]
  },
  {
   "cell_type": "code",
   "execution_count": 8,
   "metadata": {},
   "outputs": [],
   "source": [
    "def addOffset(time,offset):\n",
    "    tokens = time.split(':')\n",
    "    minutes = tokens[0]\n",
    "    seconds = int(tokens[1])+offset\n",
    "    return minutes+\":\"+str(seconds)"
   ]
  },
  {
   "cell_type": "code",
   "execution_count": 10,
   "metadata": {},
   "outputs": [],
   "source": [
    "train_df = pd.read_csv('../Structured/itunes-amazon/merged_train.csv')\n",
    "train_index = train_df.index\n",
    "for idx in train_index:\n",
    "    ltime = train_df.at[idx,'ltable_Time']\n",
    "    rtime = train_df.at[idx,'rtable_Time']\n",
    "    if ltime == rtime:\n",
    "        train_df.at[idx,'ltable_Time'] = addOffset(ltime,15)"
   ]
  },
  {
   "cell_type": "code",
   "execution_count": 11,
   "metadata": {},
   "outputs": [],
   "source": [
    "train_df.to_csv('../Structured/itunes-amazon/train_difftime.csv',index=False)"
   ]
  },
  {
   "cell_type": "code",
   "execution_count": 12,
   "metadata": {},
   "outputs": [
    {
     "name": "stderr",
     "output_type": "stream",
     "text": [
      "WARNING:deepmatcher.data.dataset:Rebuilding data cache because: ['Data file list has changed.', 'One or more data files have been modified.']\n"
     ]
    }
   ],
   "source": [
    "train,validation,test = dm.data.process('../Structured/itunes-amazon/'\n",
    "                                        ,train='train_difftime.csv',validation='merged_valid.csv',\n",
    "                                       test='merged_test.csv',left_prefix='ltable_',right_prefix='rtable_')"
   ]
  },
  {
   "cell_type": "code",
   "execution_count": 13,
   "metadata": {},
   "outputs": [
    {
     "name": "stdout",
     "output_type": "stream",
     "text": [
      "* Number of trainable parameters: 17757810\n",
      "===>  TRAIN Epoch 1\n",
      "Finished Epoch 1 || Run Time:    4.1 | Load Time:    1.0 || F1:  41.31 | Prec:  27.75 | Rec:  80.77 || Ex/s:  62.81\n",
      "\n",
      "===>  EVAL Epoch 1\n",
      "Finished Epoch 1 || Run Time:    0.4 | Load Time:    0.3 || F1:  42.62 | Prec:  27.37 | Rec:  96.30 || Ex/s: 159.60\n",
      "\n",
      "* Best F1: 42.622950819672134\n",
      "Saving best model...\n",
      "Done.\n",
      "---------------------\n",
      "\n",
      "===>  TRAIN Epoch 2\n",
      "Finished Epoch 2 || Run Time:    3.7 | Load Time:    1.0 || F1:  57.03 | Prec:  41.01 | Rec:  93.59 || Ex/s:  68.95\n",
      "\n",
      "===>  EVAL Epoch 2\n",
      "Finished Epoch 2 || Run Time:    0.4 | Load Time:    0.3 || F1:  60.00 | Prec:  54.55 | Rec:  66.67 || Ex/s: 161.21\n",
      "\n",
      "* Best F1: 60.0\n",
      "Saving best model...\n",
      "Done.\n",
      "---------------------\n",
      "\n",
      "===>  TRAIN Epoch 3\n",
      "Finished Epoch 3 || Run Time:    4.6 | Load Time:    1.3 || F1:  69.35 | Prec:  57.02 | Rec:  88.46 || Ex/s:  55.10\n",
      "\n",
      "===>  EVAL Epoch 3\n",
      "Finished Epoch 3 || Run Time:    0.5 | Load Time:    0.4 || F1:  64.41 | Prec:  59.38 | Rec:  70.37 || Ex/s: 125.04\n",
      "\n",
      "* Best F1: 64.40677966101694\n",
      "Saving best model...\n",
      "Done.\n",
      "---------------------\n",
      "\n",
      "===>  TRAIN Epoch 4\n",
      "Finished Epoch 4 || Run Time:    4.5 | Load Time:    1.3 || F1:  70.05 | Prec:  57.98 | Rec:  88.46 || Ex/s:  55.29\n",
      "\n",
      "===>  EVAL Epoch 4\n",
      "Finished Epoch 4 || Run Time:    0.5 | Load Time:    0.4 || F1:  60.61 | Prec:  51.28 | Rec:  74.07 || Ex/s: 125.11\n",
      "\n",
      "---------------------\n",
      "\n",
      "===>  TRAIN Epoch 5\n",
      "Finished Epoch 5 || Run Time:    4.3 | Load Time:    1.2 || F1:  73.30 | Prec:  61.95 | Rec:  89.74 || Ex/s:  58.69\n",
      "\n",
      "===>  EVAL Epoch 5\n",
      "Finished Epoch 5 || Run Time:    0.5 | Load Time:    0.4 || F1:  60.61 | Prec:  51.28 | Rec:  74.07 || Ex/s: 124.46\n",
      "\n",
      "---------------------\n",
      "\n",
      "===>  TRAIN Epoch 6\n",
      "Finished Epoch 6 || Run Time:    4.3 | Load Time:    1.2 || F1:  75.94 | Prec:  65.14 | Rec:  91.03 || Ex/s:  58.56\n",
      "\n",
      "===>  EVAL Epoch 6\n",
      "Finished Epoch 6 || Run Time:    0.5 | Load Time:    0.4 || F1:  66.67 | Prec:  58.33 | Rec:  77.78 || Ex/s: 124.39\n",
      "\n",
      "* Best F1: 66.66666666666666\n",
      "Saving best model...\n",
      "Done.\n",
      "---------------------\n",
      "\n",
      "===>  TRAIN Epoch 7\n",
      "Finished Epoch 7 || Run Time:    4.7 | Load Time:    1.3 || F1:  78.31 | Prec:  66.67 | Rec:  94.87 || Ex/s:  53.66\n",
      "\n",
      "===>  EVAL Epoch 7\n",
      "Finished Epoch 7 || Run Time:    0.5 | Load Time:    0.4 || F1:  67.80 | Prec:  62.50 | Rec:  74.07 || Ex/s: 124.63\n",
      "\n",
      "* Best F1: 67.79661016949153\n",
      "Saving best model...\n",
      "Done.\n",
      "---------------------\n",
      "\n",
      "===>  TRAIN Epoch 8\n",
      "Finished Epoch 8 || Run Time:    4.5 | Load Time:    1.3 || F1:  83.62 | Prec:  74.75 | Rec:  94.87 || Ex/s:  55.31\n",
      "\n",
      "===>  EVAL Epoch 8\n",
      "Finished Epoch 8 || Run Time:    0.5 | Load Time:    0.4 || F1:  68.97 | Prec:  64.52 | Rec:  74.07 || Ex/s: 124.15\n",
      "\n",
      "* Best F1: 68.96551724137932\n",
      "Saving best model...\n",
      "Done.\n",
      "---------------------\n",
      "\n",
      "===>  TRAIN Epoch 9\n",
      "Finished Epoch 9 || Run Time:    4.5 | Load Time:    1.3 || F1:  85.71 | Prec:  77.32 | Rec:  96.15 || Ex/s:  55.94\n",
      "\n",
      "===>  EVAL Epoch 9\n",
      "Finished Epoch 9 || Run Time:    0.5 | Load Time:    0.4 || F1:  68.97 | Prec:  64.52 | Rec:  74.07 || Ex/s: 124.02\n",
      "\n",
      "---------------------\n",
      "\n",
      "===>  TRAIN Epoch 10\n",
      "Finished Epoch 10 || Run Time:    4.3 | Load Time:    1.1 || F1:  90.06 | Prec:  82.80 | Rec:  98.72 || Ex/s:  58.77\n",
      "\n",
      "===>  EVAL Epoch 10\n",
      "Finished Epoch 10 || Run Time:    0.5 | Load Time:    0.4 || F1:  72.41 | Prec:  67.74 | Rec:  77.78 || Ex/s: 124.45\n",
      "\n",
      "* Best F1: 72.41379310344827\n",
      "Saving best model...\n",
      "Done.\n",
      "---------------------\n",
      "\n",
      "===>  TRAIN Epoch 11\n",
      "Finished Epoch 11 || Run Time:    4.5 | Load Time:    1.3 || F1:  92.77 | Prec:  87.50 | Rec:  98.72 || Ex/s:  55.20\n",
      "\n",
      "===>  EVAL Epoch 11\n",
      "Finished Epoch 11 || Run Time:    0.5 | Load Time:    0.4 || F1:  73.68 | Prec:  70.00 | Rec:  77.78 || Ex/s: 124.58\n",
      "\n",
      "* Best F1: 73.6842105263158\n",
      "Saving best model...\n",
      "Done.\n",
      "---------------------\n",
      "\n",
      "===>  TRAIN Epoch 12\n",
      "Finished Epoch 12 || Run Time:    4.5 | Load Time:    1.3 || F1:  95.12 | Prec:  90.70 | Rec: 100.00 || Ex/s:  55.09\n",
      "\n",
      "===>  EVAL Epoch 12\n",
      "Finished Epoch 12 || Run Time:    0.5 | Load Time:    0.4 || F1:  72.41 | Prec:  67.74 | Rec:  77.78 || Ex/s: 124.96\n",
      "\n",
      "---------------------\n",
      "\n",
      "===>  TRAIN Epoch 13\n",
      "Finished Epoch 13 || Run Time:    4.0 | Load Time:    1.0 || F1:  96.30 | Prec:  92.86 | Rec: 100.00 || Ex/s:  65.33\n",
      "\n",
      "===>  EVAL Epoch 13\n",
      "Finished Epoch 13 || Run Time:    0.4 | Load Time:    0.3 || F1:  72.41 | Prec:  67.74 | Rec:  77.78 || Ex/s: 155.36\n",
      "\n",
      "---------------------\n",
      "\n",
      "===>  TRAIN Epoch 14\n",
      "Finished Epoch 14 || Run Time:    4.5 | Load Time:    1.2 || F1:  96.30 | Prec:  92.86 | Rec: 100.00 || Ex/s:  55.65\n",
      "\n",
      "===>  EVAL Epoch 14\n",
      "Finished Epoch 14 || Run Time:    0.5 | Load Time:    0.4 || F1:  72.41 | Prec:  67.74 | Rec:  77.78 || Ex/s: 124.50\n",
      "\n",
      "---------------------\n",
      "\n",
      "===>  TRAIN Epoch 15\n",
      "Finished Epoch 15 || Run Time:    3.8 | Load Time:    1.0 || F1:  96.89 | Prec:  93.98 | Rec: 100.00 || Ex/s:  67.12\n",
      "\n",
      "===>  EVAL Epoch 15\n",
      "Finished Epoch 15 || Run Time:    0.4 | Load Time:    0.3 || F1:  72.41 | Prec:  67.74 | Rec:  77.78 || Ex/s: 156.37\n",
      "\n",
      "---------------------\n",
      "\n",
      "===>  TRAIN Epoch 16\n",
      "Finished Epoch 16 || Run Time:    4.4 | Load Time:    1.2 || F1:  98.73 | Prec:  97.50 | Rec: 100.00 || Ex/s:  57.22\n",
      "\n",
      "===>  EVAL Epoch 16\n",
      "Finished Epoch 16 || Run Time:    0.5 | Load Time:    0.4 || F1:  72.41 | Prec:  67.74 | Rec:  77.78 || Ex/s: 125.71\n",
      "\n",
      "---------------------\n",
      "\n",
      "===>  TRAIN Epoch 17\n",
      "Finished Epoch 17 || Run Time:    4.4 | Load Time:    1.2 || F1:  99.36 | Prec:  98.73 | Rec: 100.00 || Ex/s:  58.04\n",
      "\n",
      "===>  EVAL Epoch 17\n",
      "Finished Epoch 17 || Run Time:    0.5 | Load Time:    0.4 || F1:  72.41 | Prec:  67.74 | Rec:  77.78 || Ex/s: 125.87\n",
      "\n",
      "---------------------\n",
      "\n",
      "===>  TRAIN Epoch 18\n",
      "Finished Epoch 18 || Run Time:    4.3 | Load Time:    1.2 || F1:  99.36 | Prec:  98.73 | Rec: 100.00 || Ex/s:  58.92\n",
      "\n",
      "===>  EVAL Epoch 18\n",
      "Finished Epoch 18 || Run Time:    0.5 | Load Time:    0.4 || F1:  72.41 | Prec:  67.74 | Rec:  77.78 || Ex/s: 125.44\n",
      "\n",
      "---------------------\n",
      "\n",
      "===>  TRAIN Epoch 19\n",
      "Finished Epoch 19 || Run Time:    4.6 | Load Time:    1.2 || F1:  99.36 | Prec:  98.73 | Rec: 100.00 || Ex/s:  54.83\n",
      "\n",
      "===>  EVAL Epoch 19\n",
      "Finished Epoch 19 || Run Time:    0.5 | Load Time:    0.4 || F1:  72.41 | Prec:  67.74 | Rec:  77.78 || Ex/s: 124.62\n",
      "\n",
      "---------------------\n",
      "\n",
      "===>  TRAIN Epoch 20\n",
      "Finished Epoch 20 || Run Time:    4.1 | Load Time:    1.1 || F1:  99.36 | Prec:  98.73 | Rec: 100.00 || Ex/s:  61.23\n",
      "\n",
      "===>  EVAL Epoch 20\n",
      "Finished Epoch 20 || Run Time:    0.5 | Load Time:    0.4 || F1:  72.41 | Prec:  67.74 | Rec:  77.78 || Ex/s: 125.45\n",
      "\n",
      "---------------------\n",
      "\n",
      "Loading best model...\n",
      "Training done.\n"
     ]
    },
    {
     "data": {
      "text/plain": [
       "73.6842105263158"
      ]
     },
     "execution_count": 13,
     "metadata": {},
     "output_type": "execute_result"
    }
   ],
   "source": [
    "hybrid_model = dm.MatchingModel(attr_summarizer='hybrid')\n",
    "hybrid_model.run_train(train,validation,epochs=20,best_save_path='../models/itunes_amazon_difftime.pth',\n",
    "                      pos_neg_ratio=4)"
   ]
  },
  {
   "cell_type": "code",
   "execution_count": 14,
   "metadata": {},
   "outputs": [
    {
     "name": "stdout",
     "output_type": "stream",
     "text": [
      "===>  EVAL Epoch 11\n",
      "Finished Epoch 11 || Run Time:    0.5 | Load Time:    0.4 || F1:  81.97 | Prec:  73.53 | Rec:  92.59 || Ex/s: 124.84\n",
      "\n"
     ]
    },
    {
     "data": {
      "text/plain": [
       "81.96721311475412"
      ]
     },
     "execution_count": 14,
     "metadata": {},
     "output_type": "execute_result"
    }
   ],
   "source": [
    "hybrid_model.run_eval(test)"
   ]
  },
  {
   "cell_type": "markdown",
   "metadata": {},
   "source": [
    "## Recompute Ri"
   ]
  },
  {
   "cell_type": "code",
   "execution_count": 16,
   "metadata": {},
   "outputs": [],
   "source": [
    "hybrid_model = dm.MatchingModel(attr_summarizer='hybrid')\n",
    "hybrid_model.load_state('../models/itunes_amazon_difftime.pth')\n",
    "hybrid_model = hybrid_model.cuda()"
   ]
  },
  {
   "cell_type": "code",
   "execution_count": 18,
   "metadata": {},
   "outputs": [
    {
     "name": "stderr",
     "output_type": "stream",
     "text": [
      "WARNING:deepmatcher.data.dataset:Rebuilding data cache because: ['Data file list has changed.']\n"
     ]
    }
   ],
   "source": [
    "negatives = return_layer_input('../Structured/itunes-amazon','negatives',128,hybrid_model,\n",
    "                                                                        hybrid_model.classifier)\n",
    "positives = return_layer_input('../Structured/itunes-amazon/',\n",
    "                                                                       'positives',128,hybrid_model,\n",
    "                                                                       hybrid_model.classifier)"
   ]
  },
  {
   "cell_type": "code",
   "execution_count": 20,
   "metadata": {},
   "outputs": [
    {
     "name": "stderr",
     "output_type": "stream",
     "text": [
      "100%|██████████| 407/407 [00:37<00:00, 10.82it/s]\n"
     ]
    }
   ],
   "source": [
    "attributes = ['Song_Name','Artist_Name','Album_Name','Genre','Price','CopyRight','Time','Released']\n",
    "classifier_len_hybrid = len(list(negatives.values())[0])\n",
    "attribute_len_hybrid = int(classifier_len_hybrid/len(attributes))\n",
    "negatives_ri,neg_ri_norms= computeRi(hybrid_model.classifier,\n",
    "                                                    attributes,negatives,attribute_len_hybrid,1)"
   ]
  },
  {
   "cell_type": "code",
   "execution_count": 22,
   "metadata": {},
   "outputs": [
    {
     "data": {
      "text/plain": [
       "<matplotlib.axes._subplots.AxesSubplot at 0x7f1ea813aeb8>"
      ]
     },
     "execution_count": 22,
     "metadata": {},
     "output_type": "execute_result"
    },
    {
     "data": {
      "image/png": "[encoded data removed]",
      "text/plain": [
       "<Figure size 432x288 with 1 Axes>"
      ]
     },
     "metadata": {
      "needs_background": "light"
     },
     "output_type": "display_data"
    }
   ],
   "source": [
    "neg_variation_df = pd.DataFrame(data= neg_ri_norms,columns=attributes)\n",
    "neg_variation_df.mean().plot.bar()"
   ]
  },
  {
   "cell_type": "markdown",
   "metadata": {},
   "source": [
    "## Constant time"
   ]
  },
  {
   "cell_type": "code",
   "execution_count": 6,
   "metadata": {},
   "outputs": [],
   "source": [
    "train_df = pd.read_csv('../Structured/itunes-amazon/merged_train.csv')\n",
    "train_df['ltable_Time'] = \"constant\"\n",
    "train_df['rtable_Time'] = \"constant\"\n",
    "train_df.to_csv('train_constantTime.csv',index=False)"
   ]
  },
  {
   "cell_type": "code",
   "execution_count": 7,
   "metadata": {},
   "outputs": [],
   "source": [
    "!cp ../Structured/itunes-amazon/merged_valid.csv ./\n",
    "!cp ../Structured/itunes-amazon/merged_test.csv ./"
   ]
  },
  {
   "cell_type": "code",
   "execution_count": 8,
   "metadata": {},
   "outputs": [
    {
     "name": "stderr",
     "output_type": "stream",
     "text": [
      "WARNING:deepmatcher.data.dataset:Rebuilding data cache because: ['One or more data files have been modified.', 'Data file list has changed.']\n"
     ]
    }
   ],
   "source": [
    "train,validation,test = dm.data.process('./',train='train_constantTime.csv',validation='merged_valid.csv',\n",
    "                                       test='merged_test.csv',left_prefix='ltable_',right_prefix='rtable_')"
   ]
  },
  {
   "cell_type": "code",
   "execution_count": 9,
   "metadata": {},
   "outputs": [
    {
     "name": "stdout",
     "output_type": "stream",
     "text": [
      "* Number of trainable parameters: 17757810\n",
      "===>  TRAIN Epoch 1\n",
      "Finished Epoch 1 || Run Time:    4.7 | Load Time:    1.2 || F1:  46.98 | Prec:  32.51 | Rec:  84.62 || Ex/s:  54.18\n",
      "\n",
      "===>  EVAL Epoch 1\n",
      "Finished Epoch 1 || Run Time:    0.5 | Load Time:    0.4 || F1:  53.93 | Prec:  38.71 | Rec:  88.89 || Ex/s: 121.12\n",
      "\n",
      "* Best F1: 53.93258426966292\n",
      "Saving best model...\n",
      "Done.\n",
      "---------------------\n",
      "\n",
      "===>  TRAIN Epoch 2\n",
      "Finished Epoch 2 || Run Time:    4.5 | Load Time:    1.2 || F1:  61.40 | Prec:  46.67 | Rec:  89.74 || Ex/s:  55.52\n",
      "\n",
      "===>  EVAL Epoch 2\n",
      "Finished Epoch 2 || Run Time:    0.5 | Load Time:    0.4 || F1:  55.88 | Prec:  46.34 | Rec:  70.37 || Ex/s: 115.38\n",
      "\n",
      "* Best F1: 55.88235294117647\n",
      "Saving best model...\n",
      "Done.\n",
      "---------------------\n",
      "\n",
      "===>  TRAIN Epoch 3\n",
      "Finished Epoch 3 || Run Time:    4.6 | Load Time:    1.3 || F1:  66.35 | Prec:  52.63 | Rec:  89.74 || Ex/s:  54.82\n",
      "\n",
      "===>  EVAL Epoch 3\n",
      "Finished Epoch 3 || Run Time:    0.5 | Load Time:    0.4 || F1:  67.92 | Prec:  69.23 | Rec:  66.67 || Ex/s: 124.37\n",
      "\n",
      "* Best F1: 67.92452830188678\n",
      "Saving best model...\n",
      "Done.\n",
      "---------------------\n",
      "\n",
      "===>  TRAIN Epoch 4\n",
      "Finished Epoch 4 || Run Time:    4.4 | Load Time:    1.3 || F1:  67.00 | Prec:  54.40 | Rec:  87.18 || Ex/s:  56.16\n",
      "\n",
      "===>  EVAL Epoch 4\n",
      "Finished Epoch 4 || Run Time:    0.6 | Load Time:    0.4 || F1:  61.54 | Prec:  52.63 | Rec:  74.07 || Ex/s: 109.49\n",
      "\n",
      "---------------------\n",
      "\n",
      "===>  TRAIN Epoch 5\n",
      "Finished Epoch 5 || Run Time:    4.6 | Load Time:    1.3 || F1:  78.69 | Prec:  68.57 | Rec:  92.31 || Ex/s:  54.81\n",
      "\n",
      "===>  EVAL Epoch 5\n",
      "Finished Epoch 5 || Run Time:    0.5 | Load Time:    0.4 || F1:  71.19 | Prec:  65.62 | Rec:  77.78 || Ex/s: 118.16\n",
      "\n",
      "* Best F1: 71.18644067796609\n",
      "Saving best model...\n",
      "Done.\n",
      "---------------------\n",
      "\n",
      "===>  TRAIN Epoch 6\n",
      "Finished Epoch 6 || Run Time:    4.6 | Load Time:    1.3 || F1:  79.78 | Prec:  69.52 | Rec:  93.59 || Ex/s:  54.60\n",
      "\n",
      "===>  EVAL Epoch 6\n",
      "Finished Epoch 6 || Run Time:    0.5 | Load Time:    0.4 || F1:  73.68 | Prec:  70.00 | Rec:  77.78 || Ex/s: 125.48\n",
      "\n",
      "* Best F1: 73.6842105263158\n",
      "Saving best model...\n",
      "Done.\n",
      "---------------------\n",
      "\n",
      "===>  TRAIN Epoch 7\n",
      "Finished Epoch 7 || Run Time:    4.5 | Load Time:    1.2 || F1:  84.09 | Prec:  75.51 | Rec:  94.87 || Ex/s:  56.19\n",
      "\n",
      "===>  EVAL Epoch 7\n",
      "Finished Epoch 7 || Run Time:    0.7 | Load Time:    0.4 || F1:  74.58 | Prec:  68.75 | Rec:  81.48 || Ex/s:  99.64\n",
      "\n",
      "* Best F1: 74.57627118644069\n",
      "Saving best model...\n",
      "Done.\n",
      "---------------------\n",
      "\n",
      "===>  TRAIN Epoch 8\n",
      "Finished Epoch 8 || Run Time:    4.5 | Load Time:    1.3 || F1:  87.86 | Prec:  80.00 | Rec:  97.44 || Ex/s:  55.76\n",
      "\n",
      "===>  EVAL Epoch 8\n",
      "Finished Epoch 8 || Run Time:    0.5 | Load Time:    0.4 || F1:  74.58 | Prec:  68.75 | Rec:  81.48 || Ex/s: 115.86\n",
      "\n",
      "---------------------\n",
      "\n",
      "===>  TRAIN Epoch 9\n",
      "Finished Epoch 9 || Run Time:    4.1 | Load Time:    1.1 || F1:  89.02 | Prec:  81.05 | Rec:  98.72 || Ex/s:  61.27\n",
      "\n",
      "===>  EVAL Epoch 9\n",
      "Finished Epoch 9 || Run Time:    0.5 | Load Time:    0.4 || F1:  73.68 | Prec:  70.00 | Rec:  77.78 || Ex/s: 126.45\n",
      "\n",
      "---------------------\n",
      "\n",
      "===>  TRAIN Epoch 10\n",
      "Finished Epoch 10 || Run Time:    4.8 | Load Time:    1.3 || F1:  90.59 | Prec:  83.70 | Rec:  98.72 || Ex/s:  52.74\n",
      "\n",
      "===>  EVAL Epoch 10\n",
      "Finished Epoch 10 || Run Time:    0.6 | Load Time:    0.4 || F1:  72.41 | Prec:  67.74 | Rec:  77.78 || Ex/s: 101.67\n",
      "\n",
      "---------------------\n",
      "\n",
      "===>  TRAIN Epoch 11\n",
      "Finished Epoch 11 || Run Time:    4.6 | Load Time:    1.3 || F1:  92.22 | Prec:  86.52 | Rec:  98.72 || Ex/s:  54.87\n",
      "\n",
      "===>  EVAL Epoch 11\n",
      "Finished Epoch 11 || Run Time:    0.6 | Load Time:    0.4 || F1:  74.58 | Prec:  68.75 | Rec:  81.48 || Ex/s: 106.74\n",
      "\n",
      "---------------------\n",
      "\n",
      "===>  TRAIN Epoch 12\n",
      "Finished Epoch 12 || Run Time:    4.4 | Load Time:    1.2 || F1:  93.98 | Prec:  88.64 | Rec: 100.00 || Ex/s:  57.09\n",
      "\n",
      "===>  EVAL Epoch 12\n",
      "Finished Epoch 12 || Run Time:    0.6 | Load Time:    0.5 || F1:  74.58 | Prec:  68.75 | Rec:  81.48 || Ex/s:  99.76\n",
      "\n",
      "---------------------\n",
      "\n",
      "===>  TRAIN Epoch 13\n",
      "Finished Epoch 13 || Run Time:    4.5 | Load Time:    1.3 || F1:  95.12 | Prec:  90.70 | Rec: 100.00 || Ex/s:  55.44\n",
      "\n",
      "===>  EVAL Epoch 13\n",
      "Finished Epoch 13 || Run Time:    0.5 | Load Time:    0.4 || F1:  75.86 | Prec:  70.97 | Rec:  81.48 || Ex/s: 124.66\n",
      "\n",
      "* Best F1: 75.86206896551724\n",
      "Saving best model...\n",
      "Done.\n",
      "---------------------\n",
      "\n",
      "===>  TRAIN Epoch 14\n",
      "Finished Epoch 14 || Run Time:    4.6 | Load Time:    1.3 || F1:  95.12 | Prec:  90.70 | Rec: 100.00 || Ex/s:  54.57\n",
      "\n",
      "===>  EVAL Epoch 14\n",
      "Finished Epoch 14 || Run Time:    0.5 | Load Time:    0.4 || F1:  75.86 | Prec:  70.97 | Rec:  81.48 || Ex/s: 126.35\n",
      "\n",
      "---------------------\n",
      "\n",
      "===>  TRAIN Epoch 15\n",
      "Finished Epoch 15 || Run Time:    4.3 | Load Time:    1.1 || F1:  95.12 | Prec:  90.70 | Rec: 100.00 || Ex/s:  58.66\n",
      "\n",
      "===>  EVAL Epoch 15\n",
      "Finished Epoch 15 || Run Time:    0.5 | Load Time:    0.4 || F1:  75.86 | Prec:  70.97 | Rec:  81.48 || Ex/s: 128.48\n",
      "\n",
      "---------------------\n",
      "\n",
      "===>  TRAIN Epoch 16\n",
      "Finished Epoch 16 || Run Time:    4.4 | Load Time:    1.3 || F1:  95.71 | Prec:  91.76 | Rec: 100.00 || Ex/s:  56.78\n",
      "\n",
      "===>  EVAL Epoch 16\n",
      "Finished Epoch 16 || Run Time:    0.6 | Load Time:    0.4 || F1:  75.86 | Prec:  70.97 | Rec:  81.48 || Ex/s: 102.33\n",
      "\n",
      "---------------------\n",
      "\n",
      "===>  TRAIN Epoch 17\n",
      "Finished Epoch 17 || Run Time:    4.5 | Load Time:    1.3 || F1:  96.89 | Prec:  93.98 | Rec: 100.00 || Ex/s:  55.69\n",
      "\n",
      "===>  EVAL Epoch 17\n",
      "Finished Epoch 17 || Run Time:    0.6 | Load Time:    0.4 || F1:  75.86 | Prec:  70.97 | Rec:  81.48 || Ex/s: 104.62\n",
      "\n",
      "---------------------\n",
      "\n",
      "===>  TRAIN Epoch 18\n",
      "Finished Epoch 18 || Run Time:    4.3 | Load Time:    1.3 || F1:  98.11 | Prec:  96.30 | Rec: 100.00 || Ex/s:  57.51\n",
      "\n",
      "===>  EVAL Epoch 18\n",
      "Finished Epoch 18 || Run Time:    0.5 | Load Time:    0.4 || F1:  75.86 | Prec:  70.97 | Rec:  81.48 || Ex/s: 123.53\n",
      "\n",
      "---------------------\n",
      "\n",
      "===>  TRAIN Epoch 19\n",
      "Finished Epoch 19 || Run Time:    4.3 | Load Time:    1.2 || F1:  98.11 | Prec:  96.30 | Rec: 100.00 || Ex/s:  58.10\n",
      "\n",
      "===>  EVAL Epoch 19\n",
      "Finished Epoch 19 || Run Time:    0.5 | Load Time:    0.4 || F1:  77.19 | Prec:  73.33 | Rec:  81.48 || Ex/s: 115.96\n",
      "\n",
      "* Best F1: 77.19298245614034\n",
      "Saving best model...\n",
      "Done.\n",
      "---------------------\n",
      "\n",
      "===>  TRAIN Epoch 20\n",
      "Finished Epoch 20 || Run Time:    4.6 | Load Time:    1.3 || F1:  98.11 | Prec:  96.30 | Rec: 100.00 || Ex/s:  54.80\n",
      "\n",
      "===>  EVAL Epoch 20\n",
      "Finished Epoch 20 || Run Time:    0.5 | Load Time:    0.4 || F1:  77.19 | Prec:  73.33 | Rec:  81.48 || Ex/s: 115.89\n",
      "\n",
      "---------------------\n",
      "\n",
      "Loading best model...\n",
      "Training done.\n"
     ]
    },
    {
     "data": {
      "text/plain": [
       "77.19298245614034"
      ]
     },
     "execution_count": 9,
     "metadata": {},
     "output_type": "execute_result"
    }
   ],
   "source": [
    "hybrid_model = dm.MatchingModel(attr_summarizer='hybrid')\n",
    "hybrid_model.run_train(train,validation,epochs=20,best_save_path='../models/itunes_amazon_hybridConstTime.pth',\n",
    "                      pos_neg_ratio=4)"
   ]
  },
  {
   "cell_type": "code",
   "execution_count": 10,
   "metadata": {},
   "outputs": [
    {
     "name": "stdout",
     "output_type": "stream",
     "text": [
      "===>  EVAL Epoch 19\n",
      "Finished Epoch 19 || Run Time:    0.5 | Load Time:    0.4 || F1:  83.33 | Prec:  75.76 | Rec:  92.59 || Ex/s: 124.06\n",
      "\n"
     ]
    },
    {
     "data": {
      "text/plain": [
       "83.33333333333331"
      ]
     },
     "execution_count": 10,
     "metadata": {},
     "output_type": "execute_result"
    }
   ],
   "source": [
    "hybrid_model.run_eval(test)"
   ]
  },
  {
   "cell_type": "code",
   "execution_count": 12,
   "metadata": {},
   "outputs": [],
   "source": [
    "hybrid_model = dm.MatchingModel(attr_summarizer='hybrid')\n",
    "hybrid_model.load_state('../models/itunes_amazon_hybridConstTime.pth')\n",
    "hybrid_model = hybrid_model.cuda()"
   ]
  },
  {
   "cell_type": "code",
   "execution_count": 13,
   "metadata": {},
   "outputs": [
    {
     "name": "stderr",
     "output_type": "stream",
     "text": [
      "WARNING:deepmatcher.data.dataset:Rebuilding data cache because: ['Data file list has changed.']\n",
      "WARNING:deepmatcher.data.dataset:Rebuilding data cache because: ['Data file list has changed.']\n"
     ]
    }
   ],
   "source": [
    "negatives,neg_ids = return_layer_input('../Structured/itunes-amazon','negatives',128,hybrid_model,\n",
    "                                                                        hybrid_model.classifier)\n",
    "positives,pos_ids = return_layer_input('../Structured/itunes-amazon/',\n",
    "                                                                       'positives',128,hybrid_model,\n",
    "                                                                       hybrid_model.classifier)"
   ]
  },
  {
   "cell_type": "code",
   "execution_count": 14,
   "metadata": {},
   "outputs": [
    {
     "name": "stderr",
     "output_type": "stream",
     "text": [
      "100%|██████████| 128/128 [00:14<00:00,  8.57it/s]\n",
      "100%|██████████| 23/23 [00:03<00:00,  6.75it/s]\n",
      "100%|██████████| 128/128 [00:12<00:00,  9.97it/s]\n",
      "100%|██████████| 128/128 [00:14<00:00,  8.72it/s]\n"
     ]
    }
   ],
   "source": [
    "attributes = ['Song_Name','Artist_Name','Album_Name','Genre','Price','CopyRight','Time','Released']\n",
    "classifier_len_hybrid = len(negatives[0][0])\n",
    "attribute_len_hybrid = int(classifier_len_hybrid/len(attributes))\n",
    "negatives_ri,neg_ri_norms= computeRi(hybrid_model.classifier,\n",
    "                                                    attributes,negatives,attribute_len_hybrid,1)"
   ]
  },
  {
   "cell_type": "code",
   "execution_count": 16,
   "metadata": {},
   "outputs": [
    {
     "data": {
      "text/plain": [
       "<matplotlib.axes._subplots.AxesSubplot at 0x7fa5542531d0>"
      ]
     },
     "execution_count": 16,
     "metadata": {},
     "output_type": "execute_result"
    },
    {
     "data": {
      "image/png": "[encoded data removed]",
      "text/plain": [
       "<Figure size 432x288 with 1 Axes>"
      ]
     },
     "metadata": {
      "needs_background": "light"
     },
     "output_type": "display_data"
    }
   ],
   "source": [
    "neg_variation_df = pd.DataFrame(data= neg_ri_norms,columns=attributes)\n",
    "neg_variation_df.mean().plot.bar()"
   ]
  },
  {
   "cell_type": "code",
   "execution_count": 29,
   "metadata": {},
   "outputs": [],
   "source": [
    "model1 = dm.MatchingModel(attr_summarizer='hybrid')\n",
    "model1.load_state('../models/itunes_amazon_hybrid.pth')\n",
    "explainer = Explainer(model1,5)"
   ]
  },
  {
   "cell_type": "code",
   "execution_count": 31,
   "metadata": {},
   "outputs": [],
   "source": [
    "!mkdir temp"
   ]
  },
  {
   "cell_type": "code",
   "execution_count": 32,
   "metadata": {},
   "outputs": [
    {
     "name": "stdout",
     "output_type": "stream",
     "text": [
      "===>  PREDICT Epoch 3\n",
      "Finished Epoch 3 || Run Time:    0.3 | Load Time:    0.2 || F1:   0.00 | Prec:   0.00 | Rec:   0.00 || Ex/s:   0.00\n",
      "\n",
      "===>  PREDICT Epoch 3\n",
      "Finished Epoch 3 || Run Time:    0.3 | Load Time:    0.2 || F1:   0.00 | Prec:   0.00 | Rec:   0.00 || Ex/s:   0.00\n",
      "\n"
     ]
    },
    {
     "data": {
      "text/plain": [
       "(77, 0)"
      ]
     },
     "execution_count": 32,
     "metadata": {},
     "output_type": "execute_result"
    }
   ],
   "source": [
    "test_negatives = pd.read_csv('../Structured/itunes-amazon/test_negatives.csv')\n",
    "leftTimes = test_negatives.ltable_Time\n",
    "explainer.testRobustness('../Structured/itunes-amazon/test_negatives.csv',0,'Time',[leftTimes,leftTimes],\n",
    "                        strategy='replace')"
   ]
  },
  {
   "cell_type": "code",
   "execution_count": 33,
   "metadata": {},
   "outputs": [],
   "source": [
    "model2 = dm.MatchingModel(attr_summarizer='hybrid')\n",
    "model2.load_state('../models/itunes_amazon_hybridRdtimes.pth')\n",
    "explainer = Explainer(model2,5)"
   ]
  },
  {
   "cell_type": "code",
   "execution_count": 34,
   "metadata": {},
   "outputs": [
    {
     "name": "stdout",
     "output_type": "stream",
     "text": [
      "===>  PREDICT Epoch 11\n",
      "Finished Epoch 11 || Run Time:    0.3 | Load Time:    0.3 || F1:   0.00 | Prec:   0.00 | Rec:   0.00 || Ex/s:   0.00\n",
      "\n",
      "===>  PREDICT Epoch 11\n",
      "Finished Epoch 11 || Run Time:    0.3 | Load Time:    0.2 || F1:   0.00 | Prec:   0.00 | Rec:   0.00 || Ex/s:   0.00\n",
      "\n"
     ]
    },
    {
     "data": {
      "text/plain": [
       "(75, 62)"
      ]
     },
     "execution_count": 34,
     "metadata": {},
     "output_type": "execute_result"
    }
   ],
   "source": [
    "explainer.testRobustness('../Structured/itunes-amazon/test_negatives.csv',0,'Time',[leftTimes,leftTimes],\n",
    "                        strategy='replace')"
   ]
  },
  {
   "cell_type": "markdown",
   "metadata": {},
   "source": [
    "## Positive analysis"
   ]
  },
  {
   "cell_type": "code",
   "execution_count": 37,
   "metadata": {},
   "outputs": [
    {
     "name": "stderr",
     "output_type": "stream",
     "text": [
      "100%|██████████| 128/128 [00:23<00:00,  5.54it/s]\n",
      "100%|██████████| 4/4 [00:00<00:00,  4.67it/s]\n"
     ]
    }
   ],
   "source": [
    "hybrid_model = model2.cuda()\n",
    "negatives_ri,neg_ri_norms= computeRi(hybrid_model.classifier,\n",
    "                                                    attributes,positives,attribute_len_hybrid,0)"
   ]
  },
  {
   "cell_type": "code",
   "execution_count": null,
   "metadata": {},
   "outputs": [],
   "source": []
  }
 ],
 "metadata": {
  "kernelspec": {
   "display_name": "Python 3",
   "language": "python",
   "name": "python3"
  },
  "language_info": {
   "codemirror_mode": {
    "name": "ipython",
    "version": 3
   },
   "file_extension": ".py",
   "mimetype": "text/x-python",
   "name": "python",
   "nbconvert_exporter": "python",
   "pygments_lexer": "ipython3",
   "version": "3.6.9"
  }
 },
 "nbformat": 4,
 "nbformat_minor": 2
}

{
 "cells": [
  {
   "cell_type": "code",
   "execution_count": 1,
   "metadata": {},
   "outputs": [],
   "source": [
    "%load_ext autoreload\n",
    "%autoreload 2"
   ]
  },
  {
   "cell_type": "code",
   "execution_count": 2,
   "metadata": {},
   "outputs": [],
   "source": [
    "%matplotlib inline\n",
    "%config InlineBackend.figure_format = 'retina'"
   ]
  },
  {
   "cell_type": "code",
   "execution_count": 3,
   "metadata": {},
   "outputs": [],
   "source": [
    "import deepmatcher as dm\n",
    "import pandas as pd\n",
    "import pickle\n",
    "from tqdm import tqdm\n",
    "import numpy as np"
   ]
  },
  {
   "cell_type": "code",
   "execution_count": 4,
   "metadata": {},
   "outputs": [],
   "source": [
    "from utils.attacker import getDictionary\n",
    "from utils.glove_utils import loadGloveModel,getTopClosest\n",
    "from utils.attacker import attackDataset"
   ]
  },
  {
   "cell_type": "code",
   "execution_count": 5,
   "metadata": {},
   "outputs": [],
   "source": [
    "import nltk\n",
    "from nltk.corpus import stopwords"
   ]
  },
  {
   "cell_type": "markdown",
   "metadata": {},
   "source": [
    "## Load Glove dictionary with counter-fitted vectors and stopwords"
   ]
  },
  {
   "cell_type": "code",
   "execution_count": 10,
   "metadata": {},
   "outputs": [],
   "source": [
    "stop_words = set(stopwords.words('english'))"
   ]
  },
  {
   "cell_type": "code",
   "execution_count": 11,
   "metadata": {},
   "outputs": [
    {
     "name": "stdout",
     "output_type": "stream",
     "text": [
      "Loading Glove Model\n",
      "Done. 65713  words loaded!\n"
     ]
    }
   ],
   "source": [
    "gloveModel2 = loadGloveModel('counter-fitted-vectors.txt')\n",
    "embeddings2 = list(gloveModel2.values())\n",
    "embedding_mat2 = np.array(embeddings2)"
   ]
  },
  {
   "cell_type": "markdown",
   "metadata": {},
   "source": [
    "## Attack single attribute"
   ]
  },
  {
   "cell_type": "code",
   "execution_count": 7,
   "metadata": {},
   "outputs": [],
   "source": [
    "train_df = pd.read_csv('datasets/Structured/itunes-amazon/merged_train.csv')\n",
    "validation_df = pd.read_csv('datasets/Structured/itunes-amazon/merged_valid.csv')\n",
    "test_df = pd.read_csv('datasets/Structured/itunes-amazon/merged_test.csv')"
   ]
  },
  {
   "cell_type": "code",
   "execution_count": 8,
   "metadata": {},
   "outputs": [
    {
     "data": {
      "text/plain": [
       "1828"
      ]
     },
     "execution_count": 8,
     "metadata": {},
     "output_type": "execute_result"
    }
   ],
   "source": [
    "wordDict = getDictionary([train_df,validation_df,test_df])\n",
    "len(wordDict)"
   ]
  },
  {
   "cell_type": "code",
   "execution_count": 9,
   "metadata": {},
   "outputs": [
    {
     "name": "stderr",
     "output_type": "stream",
     "text": [
      "100%|██████████| 1828/1828 [01:43<00:00, 17.65it/s]\n"
     ]
    }
   ],
   "source": [
    "closest_words_map,notfound = getTopClosest(wordDict,gloveModel2,embedding_matrix=embedding_mat2\n",
    "                                           ,maxDistance=0.4)"
   ]
  },
  {
   "cell_type": "code",
   "execution_count": 10,
   "metadata": {},
   "outputs": [
    {
     "data": {
      "text/plain": [
       "407"
      ]
     },
     "execution_count": 10,
     "metadata": {},
     "output_type": "execute_result"
    }
   ],
   "source": [
    "len(notfound)"
   ]
  },
  {
   "cell_type": "code",
   "execution_count": 11,
   "metadata": {},
   "outputs": [],
   "source": [
    "with open('closest_words_itam.pickle', 'wb') as handle:\n",
    "    pickle.dump(closest_words_map, handle, protocol=pickle.HIGHEST_PROTOCOL)"
   ]
  },
  {
   "cell_type": "code",
   "execution_count": 18,
   "metadata": {},
   "outputs": [],
   "source": [
    "with open('notfound_words_itam.data','wb') as handle:\n",
    "    pickle.dump(notfound,handle)"
   ]
  },
  {
   "cell_type": "code",
   "execution_count": null,
   "metadata": {},
   "outputs": [],
   "source": [
    "with open('closest_words.pickle', 'rb') as handle:\n",
    "    closest_words_map = pickle.load(handle)"
   ]
  },
  {
   "cell_type": "code",
   "execution_count": null,
   "metadata": {},
   "outputs": [],
   "source": [
    "with open('notfound_words.data', 'rb') as handle:\n",
    "    notfound = pickle.load(handle)"
   ]
  },
  {
   "cell_type": "markdown",
   "metadata": {},
   "source": [
    "### Itunes-Amazon"
   ]
  },
  {
   "cell_type": "code",
   "execution_count": 12,
   "metadata": {},
   "outputs": [],
   "source": [
    "attributes = [col for col in list(test_df) if col not in ['id','label']]\n",
    "itunesamazon_model = dm.MatchingModel(attr_summarizer='hybrid')\n",
    "itunesamazon_model.load_state('models/itunes_amazon_hybrid.pth')\n",
    "itunesamazon_model = itunesamazon_model.cuda()"
   ]
  },
  {
   "cell_type": "code",
   "execution_count": 13,
   "metadata": {},
   "outputs": [],
   "source": [
    "test_positives = test_df[test_df.label==1]\n",
    "test_negatives = test_df[test_df.label==0]"
   ]
  },
  {
   "cell_type": "code",
   "execution_count": 14,
   "metadata": {},
   "outputs": [
    {
     "name": "stderr",
     "output_type": "stream",
     "text": [
      "100%|██████████| 27/27 [00:05<00:00,  4.90it/s]\n",
      "\n",
      "Reading and processing data from \"temp/test.csv\"\n",
      "0% [########################### ] 100% | ETA: 00:00:00"
     ]
    },
    {
     "name": "stdout",
     "output_type": "stream",
     "text": [
      "===>  PREDICT Epoch 6\n"
     ]
    },
    {
     "name": "stderr",
     "output_type": "stream",
     "text": [
      "\n",
      "Reading and processing data from \"temp/test.csv\"\n"
     ]
    },
    {
     "name": "stdout",
     "output_type": "stream",
     "text": [
      "Finished Epoch 6 || Run Time:    0.2 | Load Time:    0.2 || F1:   0.00 | Prec:   0.00 | Rec:   0.00 || Ex/s:   0.00\n",
      "\n"
     ]
    },
    {
     "name": "stderr",
     "output_type": "stream",
     "text": [
      "0% [############################# ] 100% | ETA: 00:00:00"
     ]
    },
    {
     "name": "stdout",
     "output_type": "stream",
     "text": [
      "===>  PREDICT Epoch 6\n"
     ]
    },
    {
     "name": "stderr",
     "output_type": "stream",
     "text": [
      "0% [██████████████████████████████] 100% | ETA: 00:00:00\n",
      "Total time elapsed: 00:00:37\n",
      " 11%|█         | 3/27 [00:00<00:00, 25.59it/s]"
     ]
    },
    {
     "name": "stdout",
     "output_type": "stream",
     "text": [
      "Finished Epoch 6 || Run Time:   23.6 | Load Time:   14.2 || F1:   0.00 | Prec:   0.00 | Rec:   0.00 || Ex/s:   0.00\n",
      "\n"
     ]
    },
    {
     "name": "stderr",
     "output_type": "stream",
     "text": [
      "100%|██████████| 27/27 [00:01<00:00, 23.20it/s]\n"
     ]
    }
   ],
   "source": [
    "attack_stats_forpos = attackDataset(test_positives,itunesamazon_model,attributes,closest_words_map,notfound,stop_words)"
   ]
  },
  {
   "cell_type": "code",
   "execution_count": 15,
   "metadata": {},
   "outputs": [
    {
     "name": "stderr",
     "output_type": "stream",
     "text": [
      "100%|██████████| 109/109 [00:23<00:00,  4.62it/s]\n",
      "\n",
      "Reading and processing data from \"temp/test.csv\"\n",
      "0% [############################# ] 100% | ETA: 00:00:00"
     ]
    },
    {
     "name": "stdout",
     "output_type": "stream",
     "text": [
      "===>  PREDICT Epoch 6\n",
      "Finished Epoch 6 || Run Time:    0.9 | Load Time:    0.8 || F1:   0.00 | Prec:   0.00 | Rec:   0.00 || Ex/s:   0.00\n",
      "\n"
     ]
    },
    {
     "name": "stderr",
     "output_type": "stream",
     "text": [
      "\n",
      "Reading and processing data from \"temp/test.csv\"\n",
      "0% [##############################] 100% | ETA: 00:00:00"
     ]
    },
    {
     "name": "stdout",
     "output_type": "stream",
     "text": [
      "===>  PREDICT Epoch 6\n"
     ]
    },
    {
     "name": "stderr",
     "output_type": "stream",
     "text": [
      "0% [██████████████████████████████] 100% | ETA: 00:00:00\n",
      "Total time elapsed: 00:03:48\n"
     ]
    },
    {
     "name": "stdout",
     "output_type": "stream",
     "text": [
      "Finished Epoch 6 || Run Time:  140.7 | Load Time:   88.1 || F1:   0.00 | Prec:   0.00 | Rec:   0.00 || Ex/s:   0.00\n",
      "\n"
     ]
    },
    {
     "name": "stderr",
     "output_type": "stream",
     "text": [
      "100%|██████████| 109/109 [00:08<00:00, 13.28it/s]\n"
     ]
    }
   ],
   "source": [
    "attack_stats_forneg = attackDataset(test_df,itunesamazon_model,attributes,closest_words_map,notfound,stop_words)"
   ]
  },
  {
   "cell_type": "code",
   "execution_count": 19,
   "metadata": {},
   "outputs": [
    {
     "data": {
      "text/html": [
       "<div>\n",
       "<style scoped>\n",
       "    .dataframe tbody tr th:only-of-type {\n",
       "        vertical-align: middle;\n",
       "    }\n",
       "\n",
       "    .dataframe tbody tr th {\n",
       "        vertical-align: top;\n",
       "    }\n",
       "\n",
       "    .dataframe thead th {\n",
       "        text-align: right;\n",
       "    }\n",
       "</style>\n",
       "<table border=\"1\" class=\"dataframe\">\n",
       "  <thead>\n",
       "    <tr style=\"text-align: right;\">\n",
       "      <th></th>\n",
       "      <th>ltable_Song_Name</th>\n",
       "      <th>ltable_Artist_Name</th>\n",
       "      <th>ltable_Album_Name</th>\n",
       "      <th>ltable_Genre</th>\n",
       "      <th>ltable_Price</th>\n",
       "      <th>ltable_CopyRight</th>\n",
       "      <th>ltable_Time</th>\n",
       "      <th>ltable_Released</th>\n",
       "      <th>rtable_Song_Name</th>\n",
       "      <th>rtable_Artist_Name</th>\n",
       "      <th>rtable_Album_Name</th>\n",
       "      <th>rtable_Genre</th>\n",
       "      <th>rtable_Price</th>\n",
       "      <th>rtable_CopyRight</th>\n",
       "      <th>rtable_Time</th>\n",
       "      <th>rtable_Released</th>\n",
       "    </tr>\n",
       "  </thead>\n",
       "  <tbody>\n",
       "    <tr>\n",
       "      <th>count</th>\n",
       "      <td>27</td>\n",
       "      <td>27</td>\n",
       "      <td>27</td>\n",
       "      <td>27</td>\n",
       "      <td>27</td>\n",
       "      <td>27</td>\n",
       "      <td>27</td>\n",
       "      <td>27</td>\n",
       "      <td>27</td>\n",
       "      <td>27</td>\n",
       "      <td>27</td>\n",
       "      <td>27</td>\n",
       "      <td>27</td>\n",
       "      <td>27</td>\n",
       "      <td>27</td>\n",
       "      <td>27</td>\n",
       "    </tr>\n",
       "    <tr>\n",
       "      <th>unique</th>\n",
       "      <td>2</td>\n",
       "      <td>2</td>\n",
       "      <td>1</td>\n",
       "      <td>1</td>\n",
       "      <td>2</td>\n",
       "      <td>1</td>\n",
       "      <td>2</td>\n",
       "      <td>1</td>\n",
       "      <td>2</td>\n",
       "      <td>2</td>\n",
       "      <td>1</td>\n",
       "      <td>1</td>\n",
       "      <td>2</td>\n",
       "      <td>1</td>\n",
       "      <td>2</td>\n",
       "      <td>1</td>\n",
       "    </tr>\n",
       "    <tr>\n",
       "      <th>top</th>\n",
       "      <td>False</td>\n",
       "      <td>False</td>\n",
       "      <td>False</td>\n",
       "      <td>False</td>\n",
       "      <td>False</td>\n",
       "      <td>False</td>\n",
       "      <td>False</td>\n",
       "      <td>False</td>\n",
       "      <td>False</td>\n",
       "      <td>False</td>\n",
       "      <td>False</td>\n",
       "      <td>False</td>\n",
       "      <td>False</td>\n",
       "      <td>False</td>\n",
       "      <td>False</td>\n",
       "      <td>False</td>\n",
       "    </tr>\n",
       "    <tr>\n",
       "      <th>freq</th>\n",
       "      <td>26</td>\n",
       "      <td>26</td>\n",
       "      <td>27</td>\n",
       "      <td>27</td>\n",
       "      <td>25</td>\n",
       "      <td>27</td>\n",
       "      <td>14</td>\n",
       "      <td>27</td>\n",
       "      <td>26</td>\n",
       "      <td>26</td>\n",
       "      <td>27</td>\n",
       "      <td>27</td>\n",
       "      <td>25</td>\n",
       "      <td>27</td>\n",
       "      <td>14</td>\n",
       "      <td>27</td>\n",
       "    </tr>\n",
       "  </tbody>\n",
       "</table>\n",
       "</div>"
      ],
      "text/plain": [
       "       ltable_Song_Name ltable_Artist_Name ltable_Album_Name ltable_Genre  \\\n",
       "count                27                 27                27           27   \n",
       "unique                2                  2                 1            1   \n",
       "top               False              False             False        False   \n",
       "freq                 26                 26                27           27   \n",
       "\n",
       "       ltable_Price ltable_CopyRight ltable_Time ltable_Released  \\\n",
       "count            27               27          27              27   \n",
       "unique            2                1           2               1   \n",
       "top           False            False       False           False   \n",
       "freq             25               27          14              27   \n",
       "\n",
       "       rtable_Song_Name rtable_Artist_Name rtable_Album_Name rtable_Genre  \\\n",
       "count                27                 27                27           27   \n",
       "unique                2                  2                 1            1   \n",
       "top               False              False             False        False   \n",
       "freq                 26                 26                27           27   \n",
       "\n",
       "       rtable_Price rtable_CopyRight rtable_Time rtable_Released  \n",
       "count            27               27          27              27  \n",
       "unique            2                1           2               1  \n",
       "top           False            False       False           False  \n",
       "freq             25               27          14              27  "
      ]
     },
     "execution_count": 19,
     "metadata": {},
     "output_type": "execute_result"
    }
   ],
   "source": [
    "attack_stats_forpos.describe()"
   ]
  },
  {
   "cell_type": "code",
   "execution_count": null,
   "metadata": {},
   "outputs": [],
   "source": [
    "attack_stats_forneg.describe()"
   ]
  },
  {
   "cell_type": "markdown",
   "metadata": {},
   "source": [
    "### Beer Advo"
   ]
  },
  {
   "cell_type": "code",
   "execution_count": 22,
   "metadata": {},
   "outputs": [],
   "source": [
    "train_df = pd.read_csv('datasets/Structured/Beer/merged_train.csv')\n",
    "validation_df = pd.read_csv('datasets/Structured/Beer/merged_valid.csv')\n",
    "test_df = pd.read_csv('datasets/Structured/Beer/merged_test.csv')"
   ]
  },
  {
   "cell_type": "code",
   "execution_count": 23,
   "metadata": {},
   "outputs": [
    {
     "data": {
      "text/plain": [
       "1211"
      ]
     },
     "execution_count": 23,
     "metadata": {},
     "output_type": "execute_result"
    }
   ],
   "source": [
    "wordDict = getDictionary([train_df,validation_df,test_df])\n",
    "len(wordDict)"
   ]
  },
  {
   "cell_type": "code",
   "execution_count": 24,
   "metadata": {},
   "outputs": [
    {
     "name": "stderr",
     "output_type": "stream",
     "text": [
      "100%|██████████| 1211/1211 [01:08<00:00, 17.77it/s]\n"
     ]
    }
   ],
   "source": [
    "closest_words_map,notfound = getTopClosest(wordDict,gloveModel2,embedding_matrix=embedding_mat2\n",
    "                                           ,maxDistance=0.25)"
   ]
  },
  {
   "cell_type": "code",
   "execution_count": 25,
   "metadata": {},
   "outputs": [],
   "source": [
    "with open('closest_words_beer.pickle', 'wb') as handle:\n",
    "    pickle.dump(closest_words_map, handle, protocol=pickle.HIGHEST_PROTOCOL)"
   ]
  },
  {
   "cell_type": "code",
   "execution_count": 26,
   "metadata": {},
   "outputs": [],
   "source": [
    "with open('notfound_words_beer.data','wb') as handle:\n",
    "    pickle.dump(notfound,handle)"
   ]
  },
  {
   "cell_type": "code",
   "execution_count": 27,
   "metadata": {},
   "outputs": [],
   "source": [
    "beer_model = dm.MatchingModel(attr_summarizer='hybrid')\n",
    "beer_model.load_state('models/beer_hybrid.pth')\n",
    "beer_model = beer_model.cuda()"
   ]
  },
  {
   "cell_type": "code",
   "execution_count": 28,
   "metadata": {},
   "outputs": [],
   "source": [
    "attributes = [col for col in list(test_df) if col not in ['id','label']]\n",
    "test_positives = test_df[test_df.label==1]\n",
    "test_negatives = test_df[test_df.label==0]"
   ]
  },
  {
   "cell_type": "code",
   "execution_count": 29,
   "metadata": {},
   "outputs": [
    {
     "name": "stderr",
     "output_type": "stream",
     "text": [
      "100%|██████████| 14/14 [00:01<00:00, 13.56it/s]\n",
      "\n",
      "Reading and processing data from \"temp/test.csv\"\n",
      "0% [#############  ] 100% | ETA: 00:00:00"
     ]
    },
    {
     "name": "stdout",
     "output_type": "stream",
     "text": [
      "===>  PREDICT Epoch 6\n"
     ]
    },
    {
     "name": "stderr",
     "output_type": "stream",
     "text": [
      "\n",
      "Reading and processing data from \"temp/test.csv\"\n"
     ]
    },
    {
     "name": "stdout",
     "output_type": "stream",
     "text": [
      "Finished Epoch 6 || Run Time:    0.1 | Load Time:    0.0 || F1:   0.00 | Prec:   0.00 | Rec:   0.00 || Ex/s:   0.00\n",
      "\n"
     ]
    },
    {
     "name": "stderr",
     "output_type": "stream",
     "text": [
      "0% [############################# ] 100% | ETA: 00:00:00"
     ]
    },
    {
     "name": "stdout",
     "output_type": "stream",
     "text": [
      "===>  PREDICT Epoch 6\n"
     ]
    },
    {
     "name": "stderr",
     "output_type": "stream",
     "text": [
      "0% [█████] 100% | ETA: 00:00:00\n",
      "Total time elapsed: 00:00:03\n",
      " 21%|██▏       | 3/14 [00:00<00:00, 23.98it/s]"
     ]
    },
    {
     "name": "stdout",
     "output_type": "stream",
     "text": [
      "Finished Epoch 6 || Run Time:    3.0 | Load Time:    1.5 || F1:   0.00 | Prec:   0.00 | Rec:   0.00 || Ex/s:   0.00\n",
      "\n"
     ]
    },
    {
     "name": "stderr",
     "output_type": "stream",
     "text": [
      "100%|██████████| 14/14 [00:00<00:00, 31.08it/s]\n"
     ]
    }
   ],
   "source": [
    "attack_stats_forpos = attackDataset(test_positives,beer_model,attributes,closest_words_map,notfound,stop_words)"
   ]
  },
  {
   "cell_type": "code",
   "execution_count": 30,
   "metadata": {},
   "outputs": [
    {
     "name": "stderr",
     "output_type": "stream",
     "text": [
      "100%|██████████| 77/77 [00:06<00:00, 11.93it/s]\n",
      "\n",
      "Reading and processing data from \"temp/test.csv\"\n",
      "0% [############################# ] 100% | ETA: 00:00:00"
     ]
    },
    {
     "name": "stdout",
     "output_type": "stream",
     "text": [
      "===>  PREDICT Epoch 6\n"
     ]
    },
    {
     "name": "stderr",
     "output_type": "stream",
     "text": [
      "\n",
      "Reading and processing data from \"temp/test.csv\"\n"
     ]
    },
    {
     "name": "stdout",
     "output_type": "stream",
     "text": [
      "Finished Epoch 6 || Run Time:    0.3 | Load Time:    0.2 || F1:   0.00 | Prec:   0.00 | Rec:   0.00 || Ex/s:   0.00\n",
      "\n"
     ]
    },
    {
     "name": "stderr",
     "output_type": "stream",
     "text": [
      "0% [############################# ] 100% | ETA: 00:00:00"
     ]
    },
    {
     "name": "stdout",
     "output_type": "stream",
     "text": [
      "===>  PREDICT Epoch 6\n"
     ]
    },
    {
     "name": "stderr",
     "output_type": "stream",
     "text": [
      "0% [██████████████████████████████] 100% | ETA: 00:00:00\n",
      "Total time elapsed: 00:00:30\n",
      "  0%|          | 0/77 [00:00<?, ?it/s]"
     ]
    },
    {
     "name": "stdout",
     "output_type": "stream",
     "text": [
      "Finished Epoch 6 || Run Time:   19.9 | Load Time:   10.5 || F1:   0.00 | Prec:   0.00 | Rec:   0.00 || Ex/s:   0.00\n",
      "\n"
     ]
    },
    {
     "name": "stderr",
     "output_type": "stream",
     "text": [
      "100%|██████████| 77/77 [00:02<00:00, 31.70it/s]\n"
     ]
    }
   ],
   "source": [
    "attack_stats_forneg = attackDataset(test_negatives,beer_model,attributes,closest_words_map,notfound,stop_words)"
   ]
  },
  {
   "cell_type": "code",
   "execution_count": 31,
   "metadata": {},
   "outputs": [
    {
     "data": {
      "text/html": [
       "<div>\n",
       "<style scoped>\n",
       "    .dataframe tbody tr th:only-of-type {\n",
       "        vertical-align: middle;\n",
       "    }\n",
       "\n",
       "    .dataframe tbody tr th {\n",
       "        vertical-align: top;\n",
       "    }\n",
       "\n",
       "    .dataframe thead th {\n",
       "        text-align: right;\n",
       "    }\n",
       "</style>\n",
       "<table border=\"1\" class=\"dataframe\">\n",
       "  <thead>\n",
       "    <tr style=\"text-align: right;\">\n",
       "      <th></th>\n",
       "      <th>ltable_Beer_Name</th>\n",
       "      <th>ltable_Brew_Factory_Name</th>\n",
       "      <th>ltable_Style</th>\n",
       "      <th>ltable_ABV</th>\n",
       "      <th>rtable_Beer_Name</th>\n",
       "      <th>rtable_Brew_Factory_Name</th>\n",
       "      <th>rtable_Style</th>\n",
       "      <th>rtable_ABV</th>\n",
       "    </tr>\n",
       "  </thead>\n",
       "  <tbody>\n",
       "    <tr>\n",
       "      <th>count</th>\n",
       "      <td>77</td>\n",
       "      <td>77</td>\n",
       "      <td>77</td>\n",
       "      <td>77</td>\n",
       "      <td>77</td>\n",
       "      <td>77</td>\n",
       "      <td>77</td>\n",
       "      <td>77</td>\n",
       "    </tr>\n",
       "    <tr>\n",
       "      <th>unique</th>\n",
       "      <td>2</td>\n",
       "      <td>2</td>\n",
       "      <td>2</td>\n",
       "      <td>2</td>\n",
       "      <td>2</td>\n",
       "      <td>2</td>\n",
       "      <td>2</td>\n",
       "      <td>2</td>\n",
       "    </tr>\n",
       "    <tr>\n",
       "      <th>top</th>\n",
       "      <td>False</td>\n",
       "      <td>False</td>\n",
       "      <td>False</td>\n",
       "      <td>False</td>\n",
       "      <td>False</td>\n",
       "      <td>False</td>\n",
       "      <td>False</td>\n",
       "      <td>False</td>\n",
       "    </tr>\n",
       "    <tr>\n",
       "      <th>freq</th>\n",
       "      <td>72</td>\n",
       "      <td>71</td>\n",
       "      <td>73</td>\n",
       "      <td>73</td>\n",
       "      <td>72</td>\n",
       "      <td>72</td>\n",
       "      <td>73</td>\n",
       "      <td>73</td>\n",
       "    </tr>\n",
       "  </tbody>\n",
       "</table>\n",
       "</div>"
      ],
      "text/plain": [
       "       ltable_Beer_Name ltable_Brew_Factory_Name ltable_Style ltable_ABV  \\\n",
       "count                77                       77           77         77   \n",
       "unique                2                        2            2          2   \n",
       "top               False                    False        False      False   \n",
       "freq                 72                       71           73         73   \n",
       "\n",
       "       rtable_Beer_Name rtable_Brew_Factory_Name rtable_Style rtable_ABV  \n",
       "count                77                       77           77         77  \n",
       "unique                2                        2            2          2  \n",
       "top               False                    False        False      False  \n",
       "freq                 72                       72           73         73  "
      ]
     },
     "execution_count": 31,
     "metadata": {},
     "output_type": "execute_result"
    }
   ],
   "source": [
    "attack_stats_forneg.describe()"
   ]
  },
  {
   "cell_type": "code",
   "execution_count": 32,
   "metadata": {},
   "outputs": [
    {
     "data": {
      "text/html": [
       "<div>\n",
       "<style scoped>\n",
       "    .dataframe tbody tr th:only-of-type {\n",
       "        vertical-align: middle;\n",
       "    }\n",
       "\n",
       "    .dataframe tbody tr th {\n",
       "        vertical-align: top;\n",
       "    }\n",
       "\n",
       "    .dataframe thead th {\n",
       "        text-align: right;\n",
       "    }\n",
       "</style>\n",
       "<table border=\"1\" class=\"dataframe\">\n",
       "  <thead>\n",
       "    <tr style=\"text-align: right;\">\n",
       "      <th></th>\n",
       "      <th>ltable_Beer_Name</th>\n",
       "      <th>ltable_Brew_Factory_Name</th>\n",
       "      <th>ltable_Style</th>\n",
       "      <th>ltable_ABV</th>\n",
       "      <th>rtable_Beer_Name</th>\n",
       "      <th>rtable_Brew_Factory_Name</th>\n",
       "      <th>rtable_Style</th>\n",
       "      <th>rtable_ABV</th>\n",
       "    </tr>\n",
       "  </thead>\n",
       "  <tbody>\n",
       "    <tr>\n",
       "      <th>count</th>\n",
       "      <td>14</td>\n",
       "      <td>14</td>\n",
       "      <td>14</td>\n",
       "      <td>14</td>\n",
       "      <td>14</td>\n",
       "      <td>14</td>\n",
       "      <td>14</td>\n",
       "      <td>14</td>\n",
       "    </tr>\n",
       "    <tr>\n",
       "      <th>unique</th>\n",
       "      <td>2</td>\n",
       "      <td>2</td>\n",
       "      <td>2</td>\n",
       "      <td>2</td>\n",
       "      <td>2</td>\n",
       "      <td>2</td>\n",
       "      <td>2</td>\n",
       "      <td>2</td>\n",
       "    </tr>\n",
       "    <tr>\n",
       "      <th>top</th>\n",
       "      <td>True</td>\n",
       "      <td>False</td>\n",
       "      <td>False</td>\n",
       "      <td>False</td>\n",
       "      <td>True</td>\n",
       "      <td>True</td>\n",
       "      <td>False</td>\n",
       "      <td>False</td>\n",
       "    </tr>\n",
       "    <tr>\n",
       "      <th>freq</th>\n",
       "      <td>7</td>\n",
       "      <td>8</td>\n",
       "      <td>8</td>\n",
       "      <td>9</td>\n",
       "      <td>8</td>\n",
       "      <td>8</td>\n",
       "      <td>9</td>\n",
       "      <td>9</td>\n",
       "    </tr>\n",
       "  </tbody>\n",
       "</table>\n",
       "</div>"
      ],
      "text/plain": [
       "       ltable_Beer_Name ltable_Brew_Factory_Name ltable_Style ltable_ABV  \\\n",
       "count                14                       14           14         14   \n",
       "unique                2                        2            2          2   \n",
       "top                True                    False        False      False   \n",
       "freq                  7                        8            8          9   \n",
       "\n",
       "       rtable_Beer_Name rtable_Brew_Factory_Name rtable_Style rtable_ABV  \n",
       "count                14                       14           14         14  \n",
       "unique                2                        2            2          2  \n",
       "top                True                     True        False      False  \n",
       "freq                  8                        8            9          9  "
      ]
     },
     "execution_count": 32,
     "metadata": {},
     "output_type": "execute_result"
    }
   ],
   "source": [
    "attack_stats_forpos.describe()"
   ]
  },
  {
   "cell_type": "markdown",
   "metadata": {},
   "source": [
    "### Walmart-Amazon"
   ]
  },
  {
   "cell_type": "code",
   "execution_count": 33,
   "metadata": {},
   "outputs": [],
   "source": [
    "train_df = pd.read_csv('datasets/Structured/Walmart-Amazon/merged_train.csv')\n",
    "validation_df = pd.read_csv('datasets/Structured/Walmart-Amazon/merged_valid.csv')\n",
    "test_df = pd.read_csv('datasets/Structured/Walmart-Amazon/merged_test.csv')"
   ]
  },
  {
   "cell_type": "code",
   "execution_count": 34,
   "metadata": {},
   "outputs": [
    {
     "data": {
      "text/plain": [
       "11465"
      ]
     },
     "execution_count": 34,
     "metadata": {},
     "output_type": "execute_result"
    }
   ],
   "source": [
    "wordDict = getDictionary([train_df,validation_df,test_df])\n",
    "len(wordDict)"
   ]
  },
  {
   "cell_type": "code",
   "execution_count": 36,
   "metadata": {},
   "outputs": [
    {
     "name": "stderr",
     "output_type": "stream",
     "text": [
      "100%|██████████| 11465/11465 [03:21<00:00, 56.88it/s] \n"
     ]
    }
   ],
   "source": [
    "closest_words_map,notfound = getTopClosest(wordDict,gloveModel2,embedding_matrix=embedding_mat2\n",
    "                                           ,maxDistance=0.4)"
   ]
  },
  {
   "cell_type": "code",
   "execution_count": 37,
   "metadata": {},
   "outputs": [],
   "source": [
    "with open('closest_words_walam.pickle', 'wb') as handle:\n",
    "    pickle.dump(closest_words_map, handle, protocol=pickle.HIGHEST_PROTOCOL)"
   ]
  },
  {
   "cell_type": "code",
   "execution_count": 38,
   "metadata": {},
   "outputs": [],
   "source": [
    "with open('notfound_walam.data', 'wb') as handle:\n",
    "    pickle.dump(notfound, handle)"
   ]
  },
  {
   "cell_type": "code",
   "execution_count": 39,
   "metadata": {},
   "outputs": [],
   "source": [
    "walmartamazon_model = dm.MatchingModel(attr_summarizer='hybrid')\n",
    "walmartamazon_model.load_state('models/walmartamazon_hybrid.pth')\n",
    "walmartamazon_model.cuda()\n",
    "attributes = [col for col in list(test_df) if col not in ['id','label']]"
   ]
  },
  {
   "cell_type": "code",
   "execution_count": 40,
   "metadata": {},
   "outputs": [],
   "source": [
    "test_negatives = test_df[test_df.label==0]\n",
    "test_positives = test_df[test_df.label==1]"
   ]
  },
  {
   "cell_type": "code",
   "execution_count": 41,
   "metadata": {},
   "outputs": [
    {
     "name": "stderr",
     "output_type": "stream",
     "text": [
      "100%|██████████| 1856/1856 [04:09<00:00,  7.45it/s]\n",
      "\n",
      "Reading and processing data from \"temp/test.csv\"\n",
      "0% [############################# ] 100% | ETA: 00:00:00"
     ]
    },
    {
     "name": "stdout",
     "output_type": "stream",
     "text": [
      "===>  PREDICT Epoch 13\n"
     ]
    },
    {
     "name": "stderr",
     "output_type": "stream",
     "text": [
      "0% [███████████] 100% | ETA: 00:00:00\n",
      "Total time elapsed: 00:00:11\n"
     ]
    },
    {
     "name": "stdout",
     "output_type": "stream",
     "text": [
      "Finished Epoch 13 || Run Time:    7.8 | Load Time:    4.6 || F1:   0.00 | Prec:   0.00 | Rec:   0.00 || Ex/s:   0.00\n",
      "\n"
     ]
    },
    {
     "name": "stderr",
     "output_type": "stream",
     "text": [
      "\n",
      "Reading and processing data from \"temp/test.csv\"\n",
      "0% [##############################] 100% | ETA: 00:00:00"
     ]
    },
    {
     "name": "stdout",
     "output_type": "stream",
     "text": [
      "===>  PREDICT Epoch 13\n"
     ]
    },
    {
     "name": "stderr",
     "output_type": "stream",
     "text": [
      "0% [██████████████████████████████] 100% | ETA: 00:00:00\n",
      "Total time elapsed: 00:18:50\n"
     ]
    },
    {
     "name": "stdout",
     "output_type": "stream",
     "text": [
      "Finished Epoch 13 || Run Time:  766.9 | Load Time:  364.3 || F1:   0.00 | Prec:   0.00 | Rec:   0.00 || Ex/s:   0.00\n",
      "\n"
     ]
    },
    {
     "name": "stderr",
     "output_type": "stream",
     "text": [
      "100%|██████████| 1856/1856 [01:13<00:00, 25.31it/s]\n"
     ]
    }
   ],
   "source": [
    "attack_stats_forneg = attackDataset(test_negatives,walmartamazon_model,attributes,closest_words_map,notfound,stop_words)"
   ]
  },
  {
   "cell_type": "code",
   "execution_count": 42,
   "metadata": {},
   "outputs": [
    {
     "name": "stderr",
     "output_type": "stream",
     "text": [
      "100%|██████████| 193/193 [00:23<00:00,  8.05it/s]\n",
      "\n",
      "Reading and processing data from \"temp/test.csv\"\n",
      "0% [############################# ] 100% | ETA: 00:00:00"
     ]
    },
    {
     "name": "stdout",
     "output_type": "stream",
     "text": [
      "===>  PREDICT Epoch 13\n"
     ]
    },
    {
     "name": "stderr",
     "output_type": "stream",
     "text": [
      "0% [█] 100% | ETA: 00:00:00\n",
      "Total time elapsed: 00:00:01\n"
     ]
    },
    {
     "name": "stdout",
     "output_type": "stream",
     "text": [
      "Finished Epoch 13 || Run Time:    0.9 | Load Time:    0.5 || F1:   0.00 | Prec:   0.00 | Rec:   0.00 || Ex/s:   0.00\n",
      "\n"
     ]
    },
    {
     "name": "stderr",
     "output_type": "stream",
     "text": [
      "\n",
      "Reading and processing data from \"temp/test.csv\"\n",
      "0% [############################# ] 100% | ETA: 00:00:00"
     ]
    },
    {
     "name": "stdout",
     "output_type": "stream",
     "text": [
      "===>  PREDICT Epoch 13\n"
     ]
    },
    {
     "name": "stderr",
     "output_type": "stream",
     "text": [
      "0% [██████████████████████████████] 100% | ETA: 00:00:00\n",
      "Total time elapsed: 00:01:43\n",
      "  0%|          | 0/193 [00:00<?, ?it/s]"
     ]
    },
    {
     "name": "stdout",
     "output_type": "stream",
     "text": [
      "Finished Epoch 13 || Run Time:   71.1 | Load Time:   33.4 || F1:   0.00 | Prec:   0.00 | Rec:   0.00 || Ex/s:   0.00\n",
      "\n"
     ]
    },
    {
     "name": "stderr",
     "output_type": "stream",
     "text": [
      "100%|██████████| 193/193 [00:06<00:00, 28.25it/s]\n"
     ]
    }
   ],
   "source": [
    "attack_stats_forpos = attackDataset(test_positives,walmartamazon_model,attributes,closest_words_map,notfound,stop_words)"
   ]
  },
  {
   "cell_type": "code",
   "execution_count": 43,
   "metadata": {},
   "outputs": [
    {
     "data": {
      "text/html": [
       "<div>\n",
       "<style scoped>\n",
       "    .dataframe tbody tr th:only-of-type {\n",
       "        vertical-align: middle;\n",
       "    }\n",
       "\n",
       "    .dataframe tbody tr th {\n",
       "        vertical-align: top;\n",
       "    }\n",
       "\n",
       "    .dataframe thead th {\n",
       "        text-align: right;\n",
       "    }\n",
       "</style>\n",
       "<table border=\"1\" class=\"dataframe\">\n",
       "  <thead>\n",
       "    <tr style=\"text-align: right;\">\n",
       "      <th></th>\n",
       "      <th>ltable_title</th>\n",
       "      <th>ltable_category</th>\n",
       "      <th>ltable_brand</th>\n",
       "      <th>ltable_modelno</th>\n",
       "      <th>ltable_price</th>\n",
       "      <th>rtable_title</th>\n",
       "      <th>rtable_category</th>\n",
       "      <th>rtable_brand</th>\n",
       "      <th>rtable_modelno</th>\n",
       "      <th>rtable_price</th>\n",
       "    </tr>\n",
       "  </thead>\n",
       "  <tbody>\n",
       "    <tr>\n",
       "      <th>count</th>\n",
       "      <td>1856</td>\n",
       "      <td>1856</td>\n",
       "      <td>1856</td>\n",
       "      <td>1856</td>\n",
       "      <td>1856</td>\n",
       "      <td>1856</td>\n",
       "      <td>1856</td>\n",
       "      <td>1856</td>\n",
       "      <td>1856</td>\n",
       "      <td>1856</td>\n",
       "    </tr>\n",
       "    <tr>\n",
       "      <th>unique</th>\n",
       "      <td>2</td>\n",
       "      <td>2</td>\n",
       "      <td>2</td>\n",
       "      <td>2</td>\n",
       "      <td>2</td>\n",
       "      <td>2</td>\n",
       "      <td>2</td>\n",
       "      <td>2</td>\n",
       "      <td>2</td>\n",
       "      <td>2</td>\n",
       "    </tr>\n",
       "    <tr>\n",
       "      <th>top</th>\n",
       "      <td>False</td>\n",
       "      <td>False</td>\n",
       "      <td>False</td>\n",
       "      <td>False</td>\n",
       "      <td>False</td>\n",
       "      <td>False</td>\n",
       "      <td>False</td>\n",
       "      <td>False</td>\n",
       "      <td>False</td>\n",
       "      <td>False</td>\n",
       "    </tr>\n",
       "    <tr>\n",
       "      <th>freq</th>\n",
       "      <td>1737</td>\n",
       "      <td>1843</td>\n",
       "      <td>1828</td>\n",
       "      <td>1808</td>\n",
       "      <td>1817</td>\n",
       "      <td>1746</td>\n",
       "      <td>1844</td>\n",
       "      <td>1830</td>\n",
       "      <td>1781</td>\n",
       "      <td>1804</td>\n",
       "    </tr>\n",
       "  </tbody>\n",
       "</table>\n",
       "</div>"
      ],
      "text/plain": [
       "       ltable_title ltable_category ltable_brand ltable_modelno ltable_price  \\\n",
       "count          1856            1856         1856           1856         1856   \n",
       "unique            2               2            2              2            2   \n",
       "top           False           False        False          False        False   \n",
       "freq           1737            1843         1828           1808         1817   \n",
       "\n",
       "       rtable_title rtable_category rtable_brand rtable_modelno rtable_price  \n",
       "count          1856            1856         1856           1856         1856  \n",
       "unique            2               2            2              2            2  \n",
       "top           False           False        False          False        False  \n",
       "freq           1746            1844         1830           1781         1804  "
      ]
     },
     "execution_count": 43,
     "metadata": {},
     "output_type": "execute_result"
    }
   ],
   "source": [
    "attack_stats_forneg.describe()"
   ]
  },
  {
   "cell_type": "code",
   "execution_count": 44,
   "metadata": {},
   "outputs": [
    {
     "data": {
      "text/html": [
       "<div>\n",
       "<style scoped>\n",
       "    .dataframe tbody tr th:only-of-type {\n",
       "        vertical-align: middle;\n",
       "    }\n",
       "\n",
       "    .dataframe tbody tr th {\n",
       "        vertical-align: top;\n",
       "    }\n",
       "\n",
       "    .dataframe thead th {\n",
       "        text-align: right;\n",
       "    }\n",
       "</style>\n",
       "<table border=\"1\" class=\"dataframe\">\n",
       "  <thead>\n",
       "    <tr style=\"text-align: right;\">\n",
       "      <th></th>\n",
       "      <th>ltable_title</th>\n",
       "      <th>ltable_category</th>\n",
       "      <th>ltable_brand</th>\n",
       "      <th>ltable_modelno</th>\n",
       "      <th>ltable_price</th>\n",
       "      <th>rtable_title</th>\n",
       "      <th>rtable_category</th>\n",
       "      <th>rtable_brand</th>\n",
       "      <th>rtable_modelno</th>\n",
       "      <th>rtable_price</th>\n",
       "    </tr>\n",
       "  </thead>\n",
       "  <tbody>\n",
       "    <tr>\n",
       "      <th>count</th>\n",
       "      <td>193</td>\n",
       "      <td>193</td>\n",
       "      <td>193</td>\n",
       "      <td>193</td>\n",
       "      <td>193</td>\n",
       "      <td>193</td>\n",
       "      <td>193</td>\n",
       "      <td>193</td>\n",
       "      <td>193</td>\n",
       "      <td>193</td>\n",
       "    </tr>\n",
       "    <tr>\n",
       "      <th>unique</th>\n",
       "      <td>2</td>\n",
       "      <td>1</td>\n",
       "      <td>2</td>\n",
       "      <td>2</td>\n",
       "      <td>2</td>\n",
       "      <td>2</td>\n",
       "      <td>2</td>\n",
       "      <td>2</td>\n",
       "      <td>2</td>\n",
       "      <td>2</td>\n",
       "    </tr>\n",
       "    <tr>\n",
       "      <th>top</th>\n",
       "      <td>False</td>\n",
       "      <td>False</td>\n",
       "      <td>False</td>\n",
       "      <td>False</td>\n",
       "      <td>False</td>\n",
       "      <td>False</td>\n",
       "      <td>False</td>\n",
       "      <td>False</td>\n",
       "      <td>False</td>\n",
       "      <td>False</td>\n",
       "    </tr>\n",
       "    <tr>\n",
       "      <th>freq</th>\n",
       "      <td>162</td>\n",
       "      <td>193</td>\n",
       "      <td>184</td>\n",
       "      <td>119</td>\n",
       "      <td>182</td>\n",
       "      <td>161</td>\n",
       "      <td>192</td>\n",
       "      <td>186</td>\n",
       "      <td>97</td>\n",
       "      <td>179</td>\n",
       "    </tr>\n",
       "  </tbody>\n",
       "</table>\n",
       "</div>"
      ],
      "text/plain": [
       "       ltable_title ltable_category ltable_brand ltable_modelno ltable_price  \\\n",
       "count           193             193          193            193          193   \n",
       "unique            2               1            2              2            2   \n",
       "top           False           False        False          False        False   \n",
       "freq            162             193          184            119          182   \n",
       "\n",
       "       rtable_title rtable_category rtable_brand rtable_modelno rtable_price  \n",
       "count           193             193          193            193          193  \n",
       "unique            2               2            2              2            2  \n",
       "top           False           False        False          False        False  \n",
       "freq            161             192          186             97          179  "
      ]
     },
     "execution_count": 44,
     "metadata": {},
     "output_type": "execute_result"
    }
   ],
   "source": [
    "attack_stats_forpos.describe()"
   ]
  },
  {
   "cell_type": "markdown",
   "metadata": {},
   "source": [
    "### Amazon Google"
   ]
  },
  {
   "cell_type": "code",
   "execution_count": 6,
   "metadata": {},
   "outputs": [],
   "source": [
    "train_df = pd.read_csv('datasets/Structured/Amazon-Google/merged_train.csv')\n",
    "validation_df = pd.read_csv('datasets/Structured/Amazon-Google/merged_valid.csv')\n",
    "test_df = pd.read_csv('datasets/Structured/Amazon-Google/merged_test.csv')"
   ]
  },
  {
   "cell_type": "code",
   "execution_count": 7,
   "metadata": {},
   "outputs": [],
   "source": [
    "test_pos = test_df[test_df.label==1]\n",
    "test_neg = test_df[test_df.label==0]"
   ]
  },
  {
   "cell_type": "code",
   "execution_count": 8,
   "metadata": {},
   "outputs": [
    {
     "data": {
      "text/plain": [
       "4007"
      ]
     },
     "execution_count": 8,
     "metadata": {},
     "output_type": "execute_result"
    }
   ],
   "source": [
    "wordDict = getDictionary([train_df,validation_df,test_df])\n",
    "len(wordDict)"
   ]
  },
  {
   "cell_type": "code",
   "execution_count": 12,
   "metadata": {},
   "outputs": [
    {
     "name": "stderr",
     "output_type": "stream",
     "text": [
      "100%|██████████| 4007/4007 [01:17<00:00, 51.65it/s]\n"
     ]
    }
   ],
   "source": [
    "closest_words_map,notfound = getTopClosest(wordDict,gloveModel2,embedding_matrix=embedding_mat2\n",
    "                                           ,maxDistance=0.4)"
   ]
  },
  {
   "cell_type": "code",
   "execution_count": 13,
   "metadata": {},
   "outputs": [],
   "source": [
    "with open('closest_words_google.pickle', 'wb') as handle:\n",
    "    pickle.dump(closest_words_map, handle, protocol=pickle.HIGHEST_PROTOCOL)"
   ]
  },
  {
   "cell_type": "code",
   "execution_count": 10,
   "metadata": {},
   "outputs": [],
   "source": [
    "amazongoogle_model = dm.MatchingModel(attr_summarizer='hybrid')\n",
    "amazongoogle_model.load_state('models/amazongoogle_hybrid.pth')\n",
    "amazongoogle_model.cuda()\n",
    "attributes = [col for col in list(test_df) if col not in ['id','label']]"
   ]
  },
  {
   "cell_type": "code",
   "execution_count": 13,
   "metadata": {},
   "outputs": [
    {
     "name": "stderr",
     "output_type": "stream",
     "text": [
      "100%|██████████| 2059/2059 [01:25<00:00, 24.14it/s]\n",
      "\n",
      "Reading and processing data from \"temp/test.csv\"\n",
      "0% [############################# ] 100% | ETA: 00:00:00"
     ]
    },
    {
     "name": "stdout",
     "output_type": "stream",
     "text": [
      "===>  PREDICT Epoch 2\n"
     ]
    },
    {
     "name": "stderr",
     "output_type": "stream",
     "text": [
      "0% [█████████████] 100% | ETA: 00:00:00\n",
      "Total time elapsed: 00:00:06\n"
     ]
    },
    {
     "name": "stdout",
     "output_type": "stream",
     "text": [
      "Finished Epoch 2 || Run Time:    3.8 | Load Time:    2.3 || F1:   0.00 | Prec:   0.00 | Rec:   0.00 || Ex/s:   0.00\n",
      "\n"
     ]
    },
    {
     "name": "stderr",
     "output_type": "stream",
     "text": [
      "\n",
      "Reading and processing data from \"temp/test.csv\"\n",
      "0% [##############################] 100% | ETA: 00:00:00"
     ]
    },
    {
     "name": "stdout",
     "output_type": "stream",
     "text": [
      "===>  PREDICT Epoch 2\n"
     ]
    },
    {
     "name": "stderr",
     "output_type": "stream",
     "text": [
      "0% [██████████████████████████████] 100% | ETA: 00:00:00\n",
      "Total time elapsed: 00:05:07\n"
     ]
    },
    {
     "name": "stdout",
     "output_type": "stream",
     "text": [
      "Finished Epoch 2 || Run Time:  207.5 | Load Time:  100.2 || F1:   0.00 | Prec:   0.00 | Rec:   0.00 || Ex/s:   0.00\n",
      "\n"
     ]
    },
    {
     "name": "stderr",
     "output_type": "stream",
     "text": [
      "100%|██████████| 2059/2059 [00:29<00:00, 69.76it/s]\n"
     ]
    }
   ],
   "source": [
    "attack_stats_forneg = attackDataset(test_neg,amazongoogle_model,attributes,closest_words_map,\n",
    "                                    notfound,stop_words)"
   ]
  },
  {
   "cell_type": "code",
   "execution_count": 15,
   "metadata": {},
   "outputs": [
    {
     "name": "stderr",
     "output_type": "stream",
     "text": [
      "100%|██████████| 234/234 [00:11<00:00, 20.93it/s]\n",
      "\n",
      "Reading and processing data from \"temp/test.csv\"\n",
      "0% [############################# ] 100% | ETA: 00:00:00"
     ]
    },
    {
     "name": "stdout",
     "output_type": "stream",
     "text": [
      "===>  PREDICT Epoch 2\n"
     ]
    },
    {
     "name": "stderr",
     "output_type": "stream",
     "text": [
      "\n",
      "Reading and processing data from \"temp/test.csv\"\n"
     ]
    },
    {
     "name": "stdout",
     "output_type": "stream",
     "text": [
      "Finished Epoch 2 || Run Time:    0.1 | Load Time:    0.4 || F1:   0.00 | Prec:   0.00 | Rec:   0.00 || Ex/s:   0.00\n",
      "\n"
     ]
    },
    {
     "name": "stderr",
     "output_type": "stream",
     "text": [
      "0% [############################# ] 100% | ETA: 00:00:00"
     ]
    },
    {
     "name": "stdout",
     "output_type": "stream",
     "text": [
      "===>  PREDICT Epoch 2\n"
     ]
    },
    {
     "name": "stderr",
     "output_type": "stream",
     "text": [
      "0% [█████] 100% | ETA: 00:00:00\n",
      "Total time elapsed: 00:00:16\n",
      "  3%|▎         | 7/234 [00:00<00:03, 68.58it/s]"
     ]
    },
    {
     "name": "stdout",
     "output_type": "stream",
     "text": [
      "Finished Epoch 2 || Run Time:    2.8 | Load Time:   14.6 || F1:   0.00 | Prec:   0.00 | Rec:   0.00 || Ex/s:   0.00\n",
      "\n"
     ]
    },
    {
     "name": "stderr",
     "output_type": "stream",
     "text": [
      "100%|██████████| 234/234 [00:03<00:00, 69.08it/s]\n"
     ]
    }
   ],
   "source": [
    "attack_stats_forpos = attackDataset(test_pos,amazongoogle_model,attributes,closest_words_map,\n",
    "                                    notfound,stop_words)"
   ]
  },
  {
   "cell_type": "code",
   "execution_count": 16,
   "metadata": {},
   "outputs": [
    {
     "data": {
      "text/html": [
       "<div>\n",
       "<style scoped>\n",
       "    .dataframe tbody tr th:only-of-type {\n",
       "        vertical-align: middle;\n",
       "    }\n",
       "\n",
       "    .dataframe tbody tr th {\n",
       "        vertical-align: top;\n",
       "    }\n",
       "\n",
       "    .dataframe thead th {\n",
       "        text-align: right;\n",
       "    }\n",
       "</style>\n",
       "<table border=\"1\" class=\"dataframe\">\n",
       "  <thead>\n",
       "    <tr style=\"text-align: right;\">\n",
       "      <th></th>\n",
       "      <th>ltable_title</th>\n",
       "      <th>ltable_manufacturer</th>\n",
       "      <th>ltable_price</th>\n",
       "      <th>rtable_title</th>\n",
       "      <th>rtable_manufacturer</th>\n",
       "      <th>rtable_price</th>\n",
       "    </tr>\n",
       "  </thead>\n",
       "  <tbody>\n",
       "    <tr>\n",
       "      <th>count</th>\n",
       "      <td>2059</td>\n",
       "      <td>2059</td>\n",
       "      <td>2059</td>\n",
       "      <td>2059</td>\n",
       "      <td>2059</td>\n",
       "      <td>2059</td>\n",
       "    </tr>\n",
       "    <tr>\n",
       "      <th>unique</th>\n",
       "      <td>2</td>\n",
       "      <td>2</td>\n",
       "      <td>2</td>\n",
       "      <td>2</td>\n",
       "      <td>2</td>\n",
       "      <td>2</td>\n",
       "    </tr>\n",
       "    <tr>\n",
       "      <th>top</th>\n",
       "      <td>False</td>\n",
       "      <td>False</td>\n",
       "      <td>False</td>\n",
       "      <td>False</td>\n",
       "      <td>False</td>\n",
       "      <td>False</td>\n",
       "    </tr>\n",
       "    <tr>\n",
       "      <th>freq</th>\n",
       "      <td>1610</td>\n",
       "      <td>2010</td>\n",
       "      <td>1997</td>\n",
       "      <td>1612</td>\n",
       "      <td>1988</td>\n",
       "      <td>2000</td>\n",
       "    </tr>\n",
       "  </tbody>\n",
       "</table>\n",
       "</div>"
      ],
      "text/plain": [
       "       ltable_title ltable_manufacturer ltable_price rtable_title  \\\n",
       "count          2059                2059         2059         2059   \n",
       "unique            2                   2            2            2   \n",
       "top           False               False        False        False   \n",
       "freq           1610                2010         1997         1612   \n",
       "\n",
       "       rtable_manufacturer rtable_price  \n",
       "count                 2059         2059  \n",
       "unique                   2            2  \n",
       "top                  False        False  \n",
       "freq                  1988         2000  "
      ]
     },
     "execution_count": 16,
     "metadata": {},
     "output_type": "execute_result"
    }
   ],
   "source": [
    "attack_stats_forneg.describe()"
   ]
  },
  {
   "cell_type": "code",
   "execution_count": 17,
   "metadata": {},
   "outputs": [
    {
     "data": {
      "text/html": [
       "<div>\n",
       "<style scoped>\n",
       "    .dataframe tbody tr th:only-of-type {\n",
       "        vertical-align: middle;\n",
       "    }\n",
       "\n",
       "    .dataframe tbody tr th {\n",
       "        vertical-align: top;\n",
       "    }\n",
       "\n",
       "    .dataframe thead th {\n",
       "        text-align: right;\n",
       "    }\n",
       "</style>\n",
       "<table border=\"1\" class=\"dataframe\">\n",
       "  <thead>\n",
       "    <tr style=\"text-align: right;\">\n",
       "      <th></th>\n",
       "      <th>ltable_title</th>\n",
       "      <th>ltable_manufacturer</th>\n",
       "      <th>ltable_price</th>\n",
       "      <th>rtable_title</th>\n",
       "      <th>rtable_manufacturer</th>\n",
       "      <th>rtable_price</th>\n",
       "    </tr>\n",
       "  </thead>\n",
       "  <tbody>\n",
       "    <tr>\n",
       "      <th>count</th>\n",
       "      <td>234</td>\n",
       "      <td>234</td>\n",
       "      <td>234</td>\n",
       "      <td>234</td>\n",
       "      <td>234</td>\n",
       "      <td>234</td>\n",
       "    </tr>\n",
       "    <tr>\n",
       "      <th>unique</th>\n",
       "      <td>2</td>\n",
       "      <td>2</td>\n",
       "      <td>2</td>\n",
       "      <td>2</td>\n",
       "      <td>2</td>\n",
       "      <td>2</td>\n",
       "    </tr>\n",
       "    <tr>\n",
       "      <th>top</th>\n",
       "      <td>False</td>\n",
       "      <td>False</td>\n",
       "      <td>False</td>\n",
       "      <td>False</td>\n",
       "      <td>False</td>\n",
       "      <td>False</td>\n",
       "    </tr>\n",
       "    <tr>\n",
       "      <th>freq</th>\n",
       "      <td>146</td>\n",
       "      <td>230</td>\n",
       "      <td>232</td>\n",
       "      <td>160</td>\n",
       "      <td>229</td>\n",
       "      <td>232</td>\n",
       "    </tr>\n",
       "  </tbody>\n",
       "</table>\n",
       "</div>"
      ],
      "text/plain": [
       "       ltable_title ltable_manufacturer ltable_price rtable_title  \\\n",
       "count           234                 234          234          234   \n",
       "unique            2                   2            2            2   \n",
       "top           False               False        False        False   \n",
       "freq            146                 230          232          160   \n",
       "\n",
       "       rtable_manufacturer rtable_price  \n",
       "count                  234          234  \n",
       "unique                   2            2  \n",
       "top                  False        False  \n",
       "freq                   229          232  "
      ]
     },
     "execution_count": 17,
     "metadata": {},
     "output_type": "execute_result"
    }
   ],
   "source": [
    "attack_stats_forpos.describe()"
   ]
  },
  {
   "cell_type": "markdown",
   "metadata": {},
   "source": [
    "### DBLP-ACM"
   ]
  },
  {
   "cell_type": "code",
   "execution_count": 6,
   "metadata": {},
   "outputs": [],
   "source": [
    "train_df = pd.read_csv('datasets/Structured/DBLP-ACM/merged_train.csv')\n",
    "validation_df = pd.read_csv('datasets/Structured/DBLP-ACM/merged_validation.csv')\n",
    "test_df = pd.read_csv('datasets/Structured/DBLP-ACM/merged_test.csv')"
   ]
  },
  {
   "cell_type": "code",
   "execution_count": 7,
   "metadata": {},
   "outputs": [],
   "source": [
    "test_neg = test_df[test_df.label==0]\n",
    "test_pos = test_df[test_df.label==1]"
   ]
  },
  {
   "cell_type": "code",
   "execution_count": 8,
   "metadata": {},
   "outputs": [
    {
     "data": {
      "text/plain": [
       "7849"
      ]
     },
     "execution_count": 8,
     "metadata": {},
     "output_type": "execute_result"
    }
   ],
   "source": [
    "wordDict = getDictionary([train_df,validation_df,test_df])\n",
    "len(wordDict)"
   ]
  },
  {
   "cell_type": "code",
   "execution_count": 10,
   "metadata": {},
   "outputs": [
    {
     "name": "stderr",
     "output_type": "stream",
     "text": [
      "100%|██████████| 7849/7849 [03:04<00:00, 42.43it/s]\n"
     ]
    }
   ],
   "source": [
    "closest_words_map,notfound = getTopClosest(wordDict,gloveModel2,embedding_matrix=embedding_mat2\n",
    "                                           ,maxDistance=0.25)"
   ]
  },
  {
   "cell_type": "code",
   "execution_count": 11,
   "metadata": {},
   "outputs": [],
   "source": [
    "with open('closest_words_map_dbacm.pickle', 'wb') as handle:\n",
    "    pickle.dump(closest_words_map, handle, protocol=pickle.HIGHEST_PROTOCOL)"
   ]
  },
  {
   "cell_type": "code",
   "execution_count": 12,
   "metadata": {},
   "outputs": [],
   "source": [
    "with open('notfound_dbacm.data', 'wb') as handle:\n",
    "    pickle.dump(notfound, handle)"
   ]
  },
  {
   "cell_type": "code",
   "execution_count": 9,
   "metadata": {},
   "outputs": [],
   "source": [
    "with open('closest_words_map_dbacm.pickle', 'rb') as handle:\n",
    "    closest_words_map = pickle.load(handle)"
   ]
  },
  {
   "cell_type": "code",
   "execution_count": 10,
   "metadata": {},
   "outputs": [],
   "source": [
    "with open('notfound_dbacm.data', 'rb') as handle:\n",
    "    notfound = pickle.load(handle)"
   ]
  },
  {
   "cell_type": "code",
   "execution_count": 11,
   "metadata": {},
   "outputs": [],
   "source": [
    "dblpacm_model = dm.MatchingModel(attr_summarizer='hybrid')\n",
    "dblpacm_model.load_state('models/dblp_acm_hybrid2.pth')\n",
    "dblacm_model = dblpacm_model.cuda()\n",
    "attributes = [col for col in list(test_df) if col not in ['id','label']]"
   ]
  },
  {
   "cell_type": "code",
   "execution_count": 12,
   "metadata": {},
   "outputs": [
    {
     "name": "stderr",
     "output_type": "stream",
     "text": [
      "100%|██████████| 2029/2029 [01:39<00:00, 20.38it/s]\n",
      "\n",
      "Reading and processing data from \"temp/test.csv\"\n",
      "0% [############################# ] 100% | ETA: 00:00:00"
     ]
    },
    {
     "name": "stdout",
     "output_type": "stream",
     "text": [
      "===>  PREDICT Epoch 7\n"
     ]
    },
    {
     "name": "stderr",
     "output_type": "stream",
     "text": [
      "0% [████████████] 100% | ETA: 00:00:00\n",
      "Total time elapsed: 00:00:08\n"
     ]
    },
    {
     "name": "stdout",
     "output_type": "stream",
     "text": [
      "Finished Epoch 7 || Run Time:    4.5 | Load Time:    5.0 || F1:   0.00 | Prec:   0.00 | Rec:   0.00 || Ex/s:   0.00\n",
      "\n"
     ]
    },
    {
     "name": "stderr",
     "output_type": "stream",
     "text": [
      "\n",
      "Reading and processing data from \"temp/test.csv\"\n",
      "0% [##############################] 100% | ETA: 00:00:00"
     ]
    },
    {
     "name": "stdout",
     "output_type": "stream",
     "text": [
      "===>  PREDICT Epoch 7\n"
     ]
    },
    {
     "name": "stderr",
     "output_type": "stream",
     "text": [
      "0% [██████████████████████████████] 100% | ETA: 00:00:00\n",
      "Total time elapsed: 00:09:34\n"
     ]
    },
    {
     "name": "stdout",
     "output_type": "stream",
     "text": [
      "Finished Epoch 7 || Run Time:  340.0 | Load Time:  234.6 || F1:   0.00 | Prec:   0.00 | Rec:   0.00 || Ex/s:   0.00\n",
      "\n"
     ]
    },
    {
     "name": "stderr",
     "output_type": "stream",
     "text": [
      "100%|██████████| 2029/2029 [00:31<00:00, 64.21it/s]\n"
     ]
    }
   ],
   "source": [
    "attack_stats_forneg = attackDataset(test_neg,dblpacm_model,attributes,closest_words_map,notfound,stop_words)"
   ]
  },
  {
   "cell_type": "code",
   "execution_count": null,
   "metadata": {},
   "outputs": [
    {
     "name": "stderr",
     "output_type": "stream",
     "text": [
      "100%|██████████| 444/444 [00:22<00:00, 19.42it/s]\n",
      "\n",
      "Reading and processing data from \"temp/test.csv\"\n",
      "0% [############################# ] 100% | ETA: 00:00:00"
     ]
    },
    {
     "name": "stdout",
     "output_type": "stream",
     "text": [
      "===>  PREDICT Epoch 7\n"
     ]
    },
    {
     "name": "stderr",
     "output_type": "stream",
     "text": [
      "0% [██] 100% | ETA: 00:00:00\n",
      "Total time elapsed: 00:00:01\n"
     ]
    },
    {
     "name": "stdout",
     "output_type": "stream",
     "text": [
      "Finished Epoch 7 || Run Time:    1.0 | Load Time:    1.3 || F1:   0.00 | Prec:   0.00 | Rec:   0.00 || Ex/s:   0.00\n",
      "\n"
     ]
    },
    {
     "name": "stderr",
     "output_type": "stream",
     "text": [
      "\n",
      "Reading and processing data from \"temp/test.csv\"\n",
      "0% [##############################] 100% | ETA: 00:00:00"
     ]
    },
    {
     "name": "stdout",
     "output_type": "stream",
     "text": [
      "===>  PREDICT Epoch 7\n"
     ]
    },
    {
     "name": "stderr",
     "output_type": "stream",
     "text": [
      "0% [█████████████████             ] 100% | ETA: 00:00:59"
     ]
    }
   ],
   "source": [
    "attack_stats_forpos = attackDataset(test_pos,dblpacm_model,attributes,closest_words_map,notfound,stop_words)"
   ]
  },
  {
   "cell_type": "code",
   "execution_count": 15,
   "metadata": {
    "scrolled": true
   },
   "outputs": [
    {
     "data": {
      "text/html": [
       "<div>\n",
       "<style scoped>\n",
       "    .dataframe tbody tr th:only-of-type {\n",
       "        vertical-align: middle;\n",
       "    }\n",
       "\n",
       "    .dataframe tbody tr th {\n",
       "        vertical-align: top;\n",
       "    }\n",
       "\n",
       "    .dataframe thead th {\n",
       "        text-align: right;\n",
       "    }\n",
       "</style>\n",
       "<table border=\"1\" class=\"dataframe\">\n",
       "  <thead>\n",
       "    <tr style=\"text-align: right;\">\n",
       "      <th></th>\n",
       "      <th>ltable_title</th>\n",
       "      <th>ltable_authors</th>\n",
       "      <th>ltable_venue</th>\n",
       "      <th>ltable_year</th>\n",
       "      <th>rtable_title</th>\n",
       "      <th>rtable_authors</th>\n",
       "      <th>rtable_venue</th>\n",
       "      <th>rtable_year</th>\n",
       "    </tr>\n",
       "  </thead>\n",
       "  <tbody>\n",
       "    <tr>\n",
       "      <th>count</th>\n",
       "      <td>2029</td>\n",
       "      <td>2029</td>\n",
       "      <td>2029</td>\n",
       "      <td>2029</td>\n",
       "      <td>2029</td>\n",
       "      <td>2029</td>\n",
       "      <td>2029</td>\n",
       "      <td>2029</td>\n",
       "    </tr>\n",
       "    <tr>\n",
       "      <th>unique</th>\n",
       "      <td>2</td>\n",
       "      <td>2</td>\n",
       "      <td>2</td>\n",
       "      <td>2</td>\n",
       "      <td>2</td>\n",
       "      <td>2</td>\n",
       "      <td>2</td>\n",
       "      <td>2</td>\n",
       "    </tr>\n",
       "    <tr>\n",
       "      <th>top</th>\n",
       "      <td>False</td>\n",
       "      <td>False</td>\n",
       "      <td>False</td>\n",
       "      <td>False</td>\n",
       "      <td>False</td>\n",
       "      <td>False</td>\n",
       "      <td>False</td>\n",
       "      <td>False</td>\n",
       "    </tr>\n",
       "    <tr>\n",
       "      <th>freq</th>\n",
       "      <td>2016</td>\n",
       "      <td>2024</td>\n",
       "      <td>2027</td>\n",
       "      <td>2010</td>\n",
       "      <td>2017</td>\n",
       "      <td>2024</td>\n",
       "      <td>2026</td>\n",
       "      <td>2010</td>\n",
       "    </tr>\n",
       "  </tbody>\n",
       "</table>\n",
       "</div>"
      ],
      "text/plain": [
       "       ltable_title ltable_authors ltable_venue ltable_year rtable_title  \\\n",
       "count          2029           2029         2029        2029         2029   \n",
       "unique            2              2            2           2            2   \n",
       "top           False          False        False       False        False   \n",
       "freq           2016           2024         2027        2010         2017   \n",
       "\n",
       "       rtable_authors rtable_venue rtable_year  \n",
       "count            2029         2029        2029  \n",
       "unique              2            2           2  \n",
       "top             False        False       False  \n",
       "freq             2024         2026        2010  "
      ]
     },
     "execution_count": 15,
     "metadata": {},
     "output_type": "execute_result"
    }
   ],
   "source": [
    "attack_stats_forneg.describe()"
   ]
  },
  {
   "cell_type": "code",
   "execution_count": 16,
   "metadata": {},
   "outputs": [
    {
     "data": {
      "text/html": [
       "<div>\n",
       "<style scoped>\n",
       "    .dataframe tbody tr th:only-of-type {\n",
       "        vertical-align: middle;\n",
       "    }\n",
       "\n",
       "    .dataframe tbody tr th {\n",
       "        vertical-align: top;\n",
       "    }\n",
       "\n",
       "    .dataframe thead th {\n",
       "        text-align: right;\n",
       "    }\n",
       "</style>\n",
       "<table border=\"1\" class=\"dataframe\">\n",
       "  <thead>\n",
       "    <tr style=\"text-align: right;\">\n",
       "      <th></th>\n",
       "      <th>ltable_title</th>\n",
       "      <th>ltable_authors</th>\n",
       "      <th>ltable_venue</th>\n",
       "      <th>ltable_year</th>\n",
       "      <th>rtable_title</th>\n",
       "      <th>rtable_authors</th>\n",
       "      <th>rtable_venue</th>\n",
       "      <th>rtable_year</th>\n",
       "    </tr>\n",
       "  </thead>\n",
       "  <tbody>\n",
       "    <tr>\n",
       "      <th>count</th>\n",
       "      <td>444</td>\n",
       "      <td>444</td>\n",
       "      <td>444</td>\n",
       "      <td>444</td>\n",
       "      <td>444</td>\n",
       "      <td>444</td>\n",
       "      <td>444</td>\n",
       "      <td>444</td>\n",
       "    </tr>\n",
       "    <tr>\n",
       "      <th>unique</th>\n",
       "      <td>2</td>\n",
       "      <td>2</td>\n",
       "      <td>2</td>\n",
       "      <td>2</td>\n",
       "      <td>2</td>\n",
       "      <td>2</td>\n",
       "      <td>2</td>\n",
       "      <td>2</td>\n",
       "    </tr>\n",
       "    <tr>\n",
       "      <th>top</th>\n",
       "      <td>False</td>\n",
       "      <td>False</td>\n",
       "      <td>False</td>\n",
       "      <td>True</td>\n",
       "      <td>False</td>\n",
       "      <td>False</td>\n",
       "      <td>False</td>\n",
       "      <td>True</td>\n",
       "    </tr>\n",
       "    <tr>\n",
       "      <th>freq</th>\n",
       "      <td>408</td>\n",
       "      <td>440</td>\n",
       "      <td>426</td>\n",
       "      <td>269</td>\n",
       "      <td>408</td>\n",
       "      <td>440</td>\n",
       "      <td>439</td>\n",
       "      <td>267</td>\n",
       "    </tr>\n",
       "  </tbody>\n",
       "</table>\n",
       "</div>"
      ],
      "text/plain": [
       "       ltable_title ltable_authors ltable_venue ltable_year rtable_title  \\\n",
       "count           444            444          444         444          444   \n",
       "unique            2              2            2           2            2   \n",
       "top           False          False        False        True        False   \n",
       "freq            408            440          426         269          408   \n",
       "\n",
       "       rtable_authors rtable_venue rtable_year  \n",
       "count             444          444         444  \n",
       "unique              2            2           2  \n",
       "top             False        False        True  \n",
       "freq              440          439         267  "
      ]
     },
     "execution_count": 16,
     "metadata": {},
     "output_type": "execute_result"
    }
   ],
   "source": [
    "attack_stats_forpos.describe()"
   ]
  },
  {
   "cell_type": "code",
   "execution_count": null,
   "metadata": {},
   "outputs": [],
   "source": [
    "attack_stats"
   ]
  },
  {
   "cell_type": "markdown",
   "metadata": {},
   "source": [
    "## Visualize attribute weight"
   ]
  },
  {
   "cell_type": "code",
   "execution_count": 7,
   "metadata": {},
   "outputs": [
    {
     "data": {
      "text/plain": [
       "<matplotlib.axes._subplots.AxesSubplot at 0x7fdbafcb98d0>"
      ]
     },
     "execution_count": 7,
     "metadata": {},
     "output_type": "execute_result"
    },
    {
     "data": {
      "image/png": "[encoded data removed]",
      "text/plain": [
       "<Figure size 432x288 with 1 Axes>"
      ]
     },
     "metadata": {
      "image/png": {
       "height": 340,
       "width": 369
      },
      "needs_background": "light"
     },
     "output_type": "display_data"
    }
   ],
   "source": [
    "testneg_itunes = pd.read_csv('attacksResults/testneg_itunesamazon.csv')\n",
    "testneg_itunes.sum().plot.bar()"
   ]
  },
  {
   "cell_type": "code",
   "execution_count": 9,
   "metadata": {},
   "outputs": [
    {
     "data": {
      "text/plain": [
       "<matplotlib.axes._subplots.AxesSubplot at 0x7fdbb008a5c0>"
      ]
     },
     "execution_count": 9,
     "metadata": {},
     "output_type": "execute_result"
    },
    {
     "data": {
      "image/png": "[encoded data removed]",
      "text/plain": [
       "<Figure size 432x288 with 1 Axes>"
      ]
     },
     "metadata": {
      "image/png": {
       "height": 340,
       "width": 369
      },
      "needs_background": "light"
     },
     "output_type": "display_data"
    }
   ],
   "source": [
    "testpos_itunes = pd.read_csv('attacksResults/testpos_itunesamazon.csv')\n",
    "testpos_itunes.sum().plot.bar()"
   ]
  },
  {
   "cell_type": "code",
   "execution_count": 10,
   "metadata": {},
   "outputs": [
    {
     "data": {
      "text/plain": [
       "<matplotlib.axes._subplots.AxesSubplot at 0x7fdbb0872c88>"
      ]
     },
     "execution_count": 10,
     "metadata": {},
     "output_type": "execute_result"
    },
    {
     "data": {
      "image/png": "[encoded data removed]",
      "text/plain": [
       "<Figure size 432x288 with 1 Axes>"
      ]
     },
     "metadata": {
      "image/png": {
       "height": 317,
       "width": 375
      },
      "needs_background": "light"
     },
     "output_type": "display_data"
    }
   ],
   "source": [
    "testneg_walmart = pd.read_csv('attacksResults/testneg_walmart.csv')\n",
    "testneg_walmart.sum().plot.bar()"
   ]
  },
  {
   "cell_type": "code",
   "execution_count": 14,
   "metadata": {},
   "outputs": [
    {
     "data": {
      "text/plain": [
       "<matplotlib.axes._subplots.AxesSubplot at 0x7fdbb0070c88>"
      ]
     },
     "execution_count": 14,
     "metadata": {},
     "output_type": "execute_result"
    },
    {
     "data": {
      "image/png": "[encoded data removed]",
      "text/plain": [
       "<Figure size 432x288 with 1 Axes>"
      ]
     },
     "metadata": {
      "image/png": {
       "height": 319,
       "width": 375
      },
      "needs_background": "light"
     },
     "output_type": "display_data"
    }
   ],
   "source": [
    "testpos_walmart = pd.read_csv('attacksResults/testpos_walmart.csv')\n",
    "testpos_walmart.sum().plot.bar()"
   ]
  },
  {
   "cell_type": "code",
   "execution_count": 15,
   "metadata": {},
   "outputs": [
    {
     "data": {
      "text/plain": [
       "<matplotlib.axes._subplots.AxesSubplot at 0x7fdbafcc6668>"
      ]
     },
     "execution_count": 15,
     "metadata": {},
     "output_type": "execute_result"
    },
    {
     "data": {
      "image/png": "[encoded data removed]",
      "text/plain": [
       "<Figure size 432x288 with 1 Axes>"
      ]
     },
     "metadata": {
      "image/png": {
       "height": 376,
       "width": 362
      },
      "needs_background": "light"
     },
     "output_type": "display_data"
    }
   ],
   "source": [
    "testneg_beer = pd.read_csv('attacksResults/testneg_beer.csv')\n",
    "testneg_beer.sum().plot.bar()"
   ]
  },
  {
   "cell_type": "code",
   "execution_count": 16,
   "metadata": {},
   "outputs": [
    {
     "data": {
      "text/plain": [
       "<matplotlib.axes._subplots.AxesSubplot at 0x7fdbacab84a8>"
      ]
     },
     "execution_count": 16,
     "metadata": {},
     "output_type": "execute_result"
    },
    {
     "data": {
      "image/png": "[encoded data removed]",
      "text/plain": [
       "<Figure size 432x288 with 1 Axes>"
      ]
     },
     "metadata": {
      "image/png": {
       "height": 376,
       "width": 362
      },
      "needs_background": "light"
     },
     "output_type": "display_data"
    }
   ],
   "source": [
    "testpos_beer = pd.read_csv('attacksResults/testpos_beer.csv')\n",
    "testpos_beer.sum().plot.bar()"
   ]
  },
  {
   "cell_type": "code",
   "execution_count": 17,
   "metadata": {},
   "outputs": [
    {
     "data": {
      "text/plain": [
       "<matplotlib.axes._subplots.AxesSubplot at 0x7fdbacf3c390>"
      ]
     },
     "execution_count": 17,
     "metadata": {},
     "output_type": "execute_result"
    },
    {
     "data": {
      "image/png": "[encoded data removed]",
      "text/plain": [
       "<Figure size 432x288 with 1 Axes>"
      ]
     },
     "metadata": {
      "image/png": {
       "height": 342,
       "width": 369
      },
      "needs_background": "light"
     },
     "output_type": "display_data"
    }
   ],
   "source": [
    "testpos_google = pd.read_csv('attacksResults/testpos_google.csv')\n",
    "testpos_google.sum().plot.bar()"
   ]
  },
  {
   "cell_type": "code",
   "execution_count": 18,
   "metadata": {},
   "outputs": [
    {
     "data": {
      "text/plain": [
       "<matplotlib.axes._subplots.AxesSubplot at 0x7fdbacd7c400>"
      ]
     },
     "execution_count": 18,
     "metadata": {},
     "output_type": "execute_result"
    },
    {
     "data": {
      "image/png": "[encoded data removed]",
      "text/plain": [
       "<Figure size 432x288 with 1 Axes>"
      ]
     },
     "metadata": {
      "image/png": {
       "height": 342,
       "width": 375
      },
      "needs_background": "light"
     },
     "output_type": "display_data"
    }
   ],
   "source": [
    "testneg_google = pd.read_csv('attacksResults/testneg_google.csv')\n",
    "testneg_google.sum().plot.bar()"
   ]
  },
  {
   "cell_type": "code",
   "execution_count": 20,
   "metadata": {},
   "outputs": [
    {
     "data": {
      "text/plain": [
       "<matplotlib.axes._subplots.AxesSubplot at 0x7fdbacd4dfd0>"
      ]
     },
     "execution_count": 20,
     "metadata": {},
     "output_type": "execute_result"
    },
    {
     "data": {
      "image/png": "[encoded data removed]",
      "text/plain": [
       "<Figure size 432x288 with 1 Axes>"
      ]
     },
     "metadata": {
      "image/png": {
       "height": 311,
       "width": 378
      },
      "needs_background": "light"
     },
     "output_type": "display_data"
    }
   ],
   "source": [
    "testneg_dblp = pd.read_csv('attacksResults/dblacm_testneg.csv')\n",
    "testneg_dblp.sum().plot.bar()"
   ]
  },
  {
   "cell_type": "code",
   "execution_count": 21,
   "metadata": {},
   "outputs": [
    {
     "data": {
      "text/plain": [
       "<matplotlib.axes._subplots.AxesSubplot at 0x7fdbacf94828>"
      ]
     },
     "execution_count": 21,
     "metadata": {},
     "output_type": "execute_result"
    },
    {
     "data": {
      "image/png": "[encoded data removed]",
      "text/plain": [
       "<Figure size 432x288 with 1 Axes>"
      ]
     },
     "metadata": {
      "image/png": {
       "height": 311,
       "width": 375
      },
      "needs_background": "light"
     },
     "output_type": "display_data"
    }
   ],
   "source": [
    "testpos_dblp = pd.read_csv('attacksResults/dblacm_testpos.csv')\n",
    "testpos_dblp.sum().plot.bar()"
   ]
  },
  {
   "cell_type": "markdown",
   "metadata": {},
   "source": [
    "## Change word with fasttext"
   ]
  },
  {
   "cell_type": "code",
   "execution_count": 35,
   "metadata": {},
   "outputs": [],
   "source": [
    "from sklearn.metrics import f1_score,precision_score,recall_score"
   ]
  },
  {
   "cell_type": "code",
   "execution_count": 30,
   "metadata": {},
   "outputs": [],
   "source": [
    "from utils.attacker import _wrapDm"
   ]
  },
  {
   "cell_type": "code",
   "execution_count": 1,
   "metadata": {},
   "outputs": [],
   "source": [
    "from gensim.test.utils import datapath\n",
    "from gensim.models.fasttext import load_facebook_vectors\n",
    "ftpath = datapath('/home/nvidia/.vector_cache/wiki.en.bin')\n",
    "ftmodel = load_facebook_vectors(ftpath)"
   ]
  },
  {
   "cell_type": "code",
   "execution_count": 19,
   "metadata": {},
   "outputs": [],
   "source": [
    "def getMostSimilarWord(word,ftmodel):\n",
    "    most_similar = ftmodel.similar_by_word(word,topn=1)\n",
    "    return most_similar[0][0]"
   ]
  },
  {
   "cell_type": "code",
   "execution_count": 26,
   "metadata": {},
   "outputs": [],
   "source": [
    "def replaceWordsWithMostSimilar(attr,ftmodel):\n",
    "    words = attr.split()\n",
    "    newWords = []\n",
    "    for word in words:\n",
    "        newWords.append(getMostSimilarWord(word.lower(),ftmodel))\n",
    "    return \" \".join(newWords)"
   ]
  },
  {
   "cell_type": "code",
   "execution_count": 28,
   "metadata": {},
   "outputs": [
    {
     "data": {
      "text/plain": [
       "'luigi coletti'"
      ]
     },
     "execution_count": 28,
     "metadata": {},
     "output_type": "execute_result"
    }
   ],
   "source": [
    "replaceWordsWithMostSimilar('mario rossi',ftmodel)"
   ]
  },
  {
   "cell_type": "code",
   "execution_count": 31,
   "metadata": {},
   "outputs": [],
   "source": [
    "test_df = pd.read_csv('datasets/Structured/itunes-amazon/merged_test.csv')\n",
    "attacked_test = test_df.copy()\n",
    "attacked_test['ltable_Price'] = attacked_test['ltable_Price'].apply(lambda attr:\n",
    "                                                                    replaceWordsWithMostSimilar(str(attr),ftmodel))"
   ]
  },
  {
   "cell_type": "code",
   "execution_count": 32,
   "metadata": {},
   "outputs": [
    {
     "data": {
      "text/html": [
       "<div>\n",
       "<style scoped>\n",
       "    .dataframe tbody tr th:only-of-type {\n",
       "        vertical-align: middle;\n",
       "    }\n",
       "\n",
       "    .dataframe tbody tr th {\n",
       "        vertical-align: top;\n",
       "    }\n",
       "\n",
       "    .dataframe thead th {\n",
       "        text-align: right;\n",
       "    }\n",
       "</style>\n",
       "<table border=\"1\" class=\"dataframe\">\n",
       "  <thead>\n",
       "    <tr style=\"text-align: right;\">\n",
       "      <th></th>\n",
       "      <th>label</th>\n",
       "      <th>ltable_Song_Name</th>\n",
       "      <th>ltable_Artist_Name</th>\n",
       "      <th>ltable_Album_Name</th>\n",
       "      <th>ltable_Genre</th>\n",
       "      <th>ltable_Price</th>\n",
       "      <th>ltable_CopyRight</th>\n",
       "      <th>ltable_Time</th>\n",
       "      <th>ltable_Released</th>\n",
       "      <th>rtable_Song_Name</th>\n",
       "      <th>rtable_Artist_Name</th>\n",
       "      <th>rtable_Album_Name</th>\n",
       "      <th>rtable_Genre</th>\n",
       "      <th>rtable_Price</th>\n",
       "      <th>rtable_CopyRight</th>\n",
       "      <th>rtable_Time</th>\n",
       "      <th>rtable_Released</th>\n",
       "      <th>id</th>\n",
       "    </tr>\n",
       "  </thead>\n",
       "  <tbody>\n",
       "    <tr>\n",
       "      <th>0</th>\n",
       "      <td>0</td>\n",
       "      <td>Elevator ( feat . Timbaland )</td>\n",
       "      <td>Flo Rida</td>\n",
       "      <td>Mail On Sunday ( Deluxe Version )</td>\n",
       "      <td>Hip-Hop/Rap , Music , Dirty South</td>\n",
       "      <td>us$ lureen</td>\n",
       "      <td>2008 Atlantic Recording Corporation for the Un...</td>\n",
       "      <td>3:55</td>\n",
       "      <td>17-Mar-08</td>\n",
       "      <td>Money Right ( feat . Rick Ross &amp; Brisco ) [ Ex...</td>\n",
       "      <td>Flo Rida</td>\n",
       "      <td>Mail On Sunday [ Explicit ]</td>\n",
       "      <td>Rap &amp; Hip-Hop</td>\n",
       "      <td>$ 1.29</td>\n",
       "      <td>2013 Warner Bros. . Records Inc.</td>\n",
       "      <td>3:17</td>\n",
       "      <td>March 17 , 2008</td>\n",
       "      <td>731</td>\n",
       "    </tr>\n",
       "    <tr>\n",
       "      <th>1</th>\n",
       "      <td>0</td>\n",
       "      <td>The Woodland Realm ( Extended Version )</td>\n",
       "      <td>Howard Shore</td>\n",
       "      <td>The Hobbit : The Desolation of Smaug ( Origina...</td>\n",
       "      <td>Soundtrack , Music , Soundtrack , Classical , ...</td>\n",
       "      <td>us$ asia,the</td>\n",
       "      <td>‰ ãÑ 2013 WaterTower Music</td>\n",
       "      <td>5:14</td>\n",
       "      <td>10-Dec-13</td>\n",
       "      <td>The High Fells ( Extended Version )</td>\n",
       "      <td>Howard Shore</td>\n",
       "      <td>The Hobbit : The Desolation of Smaug ( Origina...</td>\n",
       "      <td>Soundtracks</td>\n",
       "      <td>$ 1.29</td>\n",
       "      <td>2013 WaterTower Music / Warner Bros. . Enterta...</td>\n",
       "      <td>3:38</td>\n",
       "      <td>December 10 , 2013</td>\n",
       "      <td>672</td>\n",
       "    </tr>\n",
       "    <tr>\n",
       "      <th>2</th>\n",
       "      <td>1</td>\n",
       "      <td>Extra Extra Credit</td>\n",
       "      <td>Wiz Khalifa</td>\n",
       "      <td>Flight School</td>\n",
       "      <td>Hip-Hop/Rap , Music</td>\n",
       "      <td>us$ polynesian+mythology&amp;hl</td>\n",
       "      <td>2009 Rostrum Records</td>\n",
       "      <td>4:03</td>\n",
       "      <td>17-Apr-09</td>\n",
       "      <td>Extra Extra Credit [ Explicit ]</td>\n",
       "      <td>Wiz Khalifa</td>\n",
       "      <td>Flight School [ Explicit ]</td>\n",
       "      <td>Rap &amp; Hip-Hop</td>\n",
       "      <td>$ 0.99</td>\n",
       "      <td>2013 Mad Decent</td>\n",
       "      <td>4:03</td>\n",
       "      <td>April 17 , 2009</td>\n",
       "      <td>669</td>\n",
       "    </tr>\n",
       "    <tr>\n",
       "      <th>3</th>\n",
       "      <td>0</td>\n",
       "      <td>Toyfriend ( feat . Wynter Gordon ) [ Continuou...</td>\n",
       "      <td>David Guetta</td>\n",
       "      <td>One Love ( Deluxe Version )</td>\n",
       "      <td>Dance , Music</td>\n",
       "      <td>us$ asia,the</td>\n",
       "      <td>2010 Gum Prod licence exclusive Parlophone Mus...</td>\n",
       "      <td>2:51</td>\n",
       "      <td>21-Aug-09</td>\n",
       "      <td>Sound Of Letting Go ( Feat . Chris Willis )</td>\n",
       "      <td>David Guetta</td>\n",
       "      <td>One Love ( Deluxe Version )</td>\n",
       "      <td>Dance &amp; Electronic</td>\n",
       "      <td>$ 1.29</td>\n",
       "      <td>( C ) 2014 Swedish House Mafia Holdings Ltd ( ...</td>\n",
       "      <td>3:47</td>\n",
       "      <td>August 21 , 2009</td>\n",
       "      <td>734</td>\n",
       "    </tr>\n",
       "    <tr>\n",
       "      <th>4</th>\n",
       "      <td>0</td>\n",
       "      <td>Dangerous ( feat . Sam Martin ) [ Robin Schulz...</td>\n",
       "      <td>David Guetta</td>\n",
       "      <td>Listen ( Deluxe Version )</td>\n",
       "      <td>Dance , Music , Rock , House , Electronic , Fr...</td>\n",
       "      <td>us$ asia,the</td>\n",
       "      <td>2014 What A Music Ltd. under exclusive license...</td>\n",
       "      <td>3:20</td>\n",
       "      <td>24-Nov-14</td>\n",
       "      <td>Missing You ( Feat . Novel ; Continuous Mix Ve...</td>\n",
       "      <td>David Guetta</td>\n",
       "      <td>One Love ( Deluxe Version )</td>\n",
       "      <td>Dance &amp; Electronic</td>\n",
       "      <td>$ 1.29</td>\n",
       "      <td>( C ) 2014 Swedish House Mafia Holdings Ltd ( ...</td>\n",
       "      <td>4:59</td>\n",
       "      <td>August 21 , 2009</td>\n",
       "      <td>699</td>\n",
       "    </tr>\n",
       "  </tbody>\n",
       "</table>\n",
       "</div>"
      ],
      "text/plain": [
       "   label                                   ltable_Song_Name  \\\n",
       "0      0                      Elevator ( feat . Timbaland )   \n",
       "1      0            The Woodland Realm ( Extended Version )   \n",
       "2      1                                 Extra Extra Credit   \n",
       "3      0  Toyfriend ( feat . Wynter Gordon ) [ Continuou...   \n",
       "4      0  Dangerous ( feat . Sam Martin ) [ Robin Schulz...   \n",
       "\n",
       "  ltable_Artist_Name                                  ltable_Album_Name  \\\n",
       "0           Flo Rida                  Mail On Sunday ( Deluxe Version )   \n",
       "1       Howard Shore  The Hobbit : The Desolation of Smaug ( Origina...   \n",
       "2        Wiz Khalifa                                      Flight School   \n",
       "3       David Guetta                        One Love ( Deluxe Version )   \n",
       "4       David Guetta                          Listen ( Deluxe Version )   \n",
       "\n",
       "                                        ltable_Genre  \\\n",
       "0                  Hip-Hop/Rap , Music , Dirty South   \n",
       "1  Soundtrack , Music , Soundtrack , Classical , ...   \n",
       "2                                Hip-Hop/Rap , Music   \n",
       "3                                      Dance , Music   \n",
       "4  Dance , Music , Rock , House , Electronic , Fr...   \n",
       "\n",
       "                  ltable_Price  \\\n",
       "0                   us$ lureen   \n",
       "1                 us$ asia,the   \n",
       "2  us$ polynesian+mythology&hl   \n",
       "3                 us$ asia,the   \n",
       "4                 us$ asia,the   \n",
       "\n",
       "                                    ltable_CopyRight ltable_Time  \\\n",
       "0  2008 Atlantic Recording Corporation for the Un...        3:55   \n",
       "1                         ‰ ãÑ 2013 WaterTower Music        5:14   \n",
       "2                               2009 Rostrum Records        4:03   \n",
       "3  2010 Gum Prod licence exclusive Parlophone Mus...        2:51   \n",
       "4  2014 What A Music Ltd. under exclusive license...        3:20   \n",
       "\n",
       "  ltable_Released                                   rtable_Song_Name  \\\n",
       "0       17-Mar-08  Money Right ( feat . Rick Ross & Brisco ) [ Ex...   \n",
       "1       10-Dec-13                The High Fells ( Extended Version )   \n",
       "2       17-Apr-09                    Extra Extra Credit [ Explicit ]   \n",
       "3       21-Aug-09        Sound Of Letting Go ( Feat . Chris Willis )   \n",
       "4       24-Nov-14  Missing You ( Feat . Novel ; Continuous Mix Ve...   \n",
       "\n",
       "  rtable_Artist_Name                                  rtable_Album_Name  \\\n",
       "0           Flo Rida                        Mail On Sunday [ Explicit ]   \n",
       "1       Howard Shore  The Hobbit : The Desolation of Smaug ( Origina...   \n",
       "2        Wiz Khalifa                         Flight School [ Explicit ]   \n",
       "3       David Guetta                        One Love ( Deluxe Version )   \n",
       "4       David Guetta                        One Love ( Deluxe Version )   \n",
       "\n",
       "         rtable_Genre rtable_Price  \\\n",
       "0       Rap & Hip-Hop       $ 1.29   \n",
       "1         Soundtracks       $ 1.29   \n",
       "2       Rap & Hip-Hop       $ 0.99   \n",
       "3  Dance & Electronic       $ 1.29   \n",
       "4  Dance & Electronic       $ 1.29   \n",
       "\n",
       "                                    rtable_CopyRight rtable_Time  \\\n",
       "0                   2013 Warner Bros. . Records Inc.        3:17   \n",
       "1  2013 WaterTower Music / Warner Bros. . Enterta...        3:38   \n",
       "2                                    2013 Mad Decent        4:03   \n",
       "3  ( C ) 2014 Swedish House Mafia Holdings Ltd ( ...        3:47   \n",
       "4  ( C ) 2014 Swedish House Mafia Holdings Ltd ( ...        4:59   \n",
       "\n",
       "      rtable_Released   id  \n",
       "0     March 17 , 2008  731  \n",
       "1  December 10 , 2013  672  \n",
       "2     April 17 , 2009  669  \n",
       "3    August 21 , 2009  734  \n",
       "4    August 21 , 2009  699  "
      ]
     },
     "execution_count": 32,
     "metadata": {},
     "output_type": "execute_result"
    }
   ],
   "source": [
    "attacked_test.head()"
   ]
  },
  {
   "cell_type": "code",
   "execution_count": 33,
   "metadata": {},
   "outputs": [],
   "source": [
    "itunesamazon_model = dm.MatchingModel(attr_summarizer='hybrid')\n",
    "itunesamazon_model.load_state('models/itunes_amazon_hybrid.pth')"
   ]
  },
  {
   "cell_type": "code",
   "execution_count": 43,
   "metadata": {},
   "outputs": [],
   "source": [
    "def attackAttribute(dataset,attribute,model,ftmodel):\n",
    "    attacked_test = dataset.copy()\n",
    "    attacked_test[attribute] = attacked_test[attribute].apply(lambda attr:\n",
    "                                                                    replaceWordsWithMostSimilar(str(attr),ftmodel))\n",
    "    originalPreds = _wrapDm(dataset,model)\n",
    "    attackPreds = _wrapDm(attacked_test,model)\n",
    "    originalLabels = list(map(lambda m:round(m),originalPreds['match_score']))\n",
    "    attackLabels = list(map(lambda m:round(m),originalPreds['match_score']))\n",
    "    trueLabels = dataset['label']\n",
    "    return (f1_score(trueLabels,originalLabels),f1_score(trueLabels,attackLabels))"
   ]
  },
  {
   "cell_type": "code",
   "execution_count": 45,
   "metadata": {},
   "outputs": [
    {
     "name": "stderr",
     "output_type": "stream",
     "text": [
      "\n",
      "Reading and processing data from \"temp/test.csv\"\n",
      "0% [############################# ] 100% | ETA: 00:00:00"
     ]
    },
    {
     "name": "stdout",
     "output_type": "stream",
     "text": [
      "===>  PREDICT Epoch 6\n"
     ]
    },
    {
     "name": "stderr",
     "output_type": "stream",
     "text": [
      "\n",
      "Reading and processing data from \"temp/test.csv\"\n"
     ]
    },
    {
     "name": "stdout",
     "output_type": "stream",
     "text": [
      "Finished Epoch 6 || Run Time:    0.6 | Load Time:    0.5 || F1:   0.00 | Prec:   0.00 | Rec:   0.00 || Ex/s:   0.00\n",
      "\n"
     ]
    },
    {
     "name": "stderr",
     "output_type": "stream",
     "text": [
      "0% [############################# ] 100% | ETA: 00:00:00"
     ]
    },
    {
     "name": "stdout",
     "output_type": "stream",
     "text": [
      "===>  PREDICT Epoch 6\n",
      "Finished Epoch 6 || Run Time:    0.6 | Load Time:    0.5 || F1:   0.00 | Prec:   0.00 | Rec:   0.00 || Ex/s:   0.00\n",
      "\n"
     ]
    },
    {
     "data": {
      "text/plain": [
       "(0.7999999999999999, 0.7999999999999999)"
      ]
     },
     "execution_count": 45,
     "metadata": {},
     "output_type": "execute_result"
    }
   ],
   "source": [
    "attackAttribute(test_df,'ltable_Price',itunesamazon_model,ftmodel)"
   ]
  },
  {
   "cell_type": "code",
   "execution_count": null,
   "metadata": {},
   "outputs": [],
   "source": []
  }
 ],
 "metadata": {
  "kernelspec": {
   "display_name": "Python 3",
   "language": "python",
   "name": "python3"
  },
  "language_info": {
   "codemirror_mode": {
    "name": "ipython",
    "version": 3
   },
   "file_extension": ".py",
   "mimetype": "text/x-python",
   "name": "python",
   "nbconvert_exporter": "python",
   "pygments_lexer": "ipython3",
   "version": "3.6.10"
  },
  "toc": {
   "base_numbering": 1,
   "nav_menu": {},
   "number_sections": true,
   "sideBar": true,
   "skip_h1_title": false,
   "title_cell": "Table of Contents",
   "title_sidebar": "Contents",
   "toc_cell": false,
   "toc_position": {
    "height": "calc(100% - 180px)",
    "left": "10px",
    "top": "150px",
    "width": "201.266px"
   },
   "toc_section_display": true,
   "toc_window_display": true
  }
 },
 "nbformat": 4,
 "nbformat_minor": 2
}

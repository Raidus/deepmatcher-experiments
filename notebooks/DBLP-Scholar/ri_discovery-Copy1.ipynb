{
 "cells": [
  {
   "cell_type": "code",
   "execution_count": 1,
   "metadata": {
    "ExecuteTime": {
     "end_time": "2020-02-09T12:48:07.390711Z",
     "start_time": "2020-02-09T12:48:07.373673Z"
    }
   },
   "outputs": [],
   "source": [
    "%load_ext autoreload\n",
    "%autoreload 2"
   ]
  },
  {
   "cell_type": "code",
   "execution_count": 2,
   "metadata": {
    "ExecuteTime": {
     "end_time": "2020-02-09T12:48:07.753985Z",
     "start_time": "2020-02-09T12:48:07.742468Z"
    }
   },
   "outputs": [],
   "source": [
    "import sys\n",
    "sys.path.append('../..')"
   ]
  },
  {
   "cell_type": "code",
   "execution_count": 3,
   "metadata": {
    "ExecuteTime": {
     "end_time": "2020-02-09T12:48:09.525385Z",
     "start_time": "2020-02-09T12:48:08.131596Z"
    }
   },
   "outputs": [],
   "source": [
    "import deepmatcher as dm\n",
    "from utils.intermediate_layer_extraction import returnLayerInputUnlabeled,return_layer_input\n",
    "from utils.ri_calculator import computeRi\n",
    "import pandas as pd\n",
    "import torch"
   ]
  },
  {
   "cell_type": "markdown",
   "metadata": {},
   "source": [
    "## Dataset creation with hybrid model"
   ]
  },
  {
   "cell_type": "code",
   "execution_count": 4,
   "metadata": {
    "ExecuteTime": {
     "end_time": "2020-02-09T12:51:58.203605Z",
     "start_time": "2020-02-09T12:51:58.052619Z"
    }
   },
   "outputs": [],
   "source": [
    "import pandas as pd\n",
    "DATASET_DIR = '../../datasets/Structured/DBLP-GoogleScholar/'\n",
    "test_df = pd.read_csv(DATASET_DIR+'merged_test.csv')\n",
    "test_df[test_df.label==1].to_csv(DATASET_DIR+'test_positives.csv',index=False)\n",
    "test_df[test_df.label==0].to_csv(DATASET_DIR+'test_negatives.csv',index=False)"
   ]
  },
  {
   "cell_type": "code",
   "execution_count": 11,
   "metadata": {
    "ExecuteTime": {
     "end_time": "2020-02-09T12:54:34.484646Z",
     "start_time": "2020-02-09T12:54:34.451804Z"
    }
   },
   "outputs": [],
   "source": [
    "attributes = ['title','authors','venue','year']"
   ]
  },
  {
   "cell_type": "code",
   "execution_count": 6,
   "metadata": {
    "ExecuteTime": {
     "end_time": "2020-02-09T12:52:30.962479Z",
     "start_time": "2020-02-09T12:52:27.469048Z"
    }
   },
   "outputs": [],
   "source": [
    "hybrid_model = dm.MatchingModel(attr_summarizer='hybrid')\n",
    "hybrid_model.load_state('../../models/dblp_scholar_hybrid.pth')\n",
    "hybrid_model = hybrid_model.cuda()"
   ]
  },
  {
   "cell_type": "code",
   "execution_count": 9,
   "metadata": {
    "ExecuteTime": {
     "end_time": "2020-02-09T12:54:27.374706Z",
     "start_time": "2020-02-09T12:54:10.513948Z"
    }
   },
   "outputs": [
    {
     "name": "stderr",
     "output_type": "stream",
     "text": [
      "\n",
      "Reading and processing data from \"../../datasets/Structured/DBLP-GoogleScholar/test_negatives.csv\"\n",
      "0% [############################# ] 100% | ETA: 00:00:00"
     ]
    }
   ],
   "source": [
    "testneg = return_layer_input(hybrid_model,hybrid_model.classifier,\n",
    "                             DATASET_DIR,'test_negatives')"
   ]
  },
  {
   "cell_type": "code",
   "execution_count": 7,
   "metadata": {
    "ExecuteTime": {
     "end_time": "2020-02-09T12:53:51.403129Z",
     "start_time": "2020-02-09T12:53:35.182438Z"
    }
   },
   "outputs": [
    {
     "name": "stderr",
     "output_type": "stream",
     "text": [
      "\n",
      "Reading and processing data from \"../../datasets/Structured/DBLP-GoogleScholar/test_positives.csv\"\n",
      "0% [############################# ] 100% | ETA: 00:00:00"
     ]
    }
   ],
   "source": [
    "testpos = return_layer_input(hybrid_model,hybrid_model.classifier,\n",
    "                             DATASET_DIR,'test_positives')"
   ]
  },
  {
   "cell_type": "code",
   "execution_count": 19,
   "metadata": {
    "ExecuteTime": {
     "end_time": "2020-02-09T10:35:34.895639Z",
     "start_time": "2020-02-09T10:35:26.183534Z"
    }
   },
   "outputs": [
    {
     "name": "stderr",
     "output_type": "stream",
     "text": [
      "\n",
      "Reading and processing data from \"../../datasets/Structured/DBLP-ACM/positives.csv\"\n",
      "0% [############################# ] 100% | ETA: 00:00:00"
     ]
    }
   ],
   "source": [
    "positives = returnLayerInputUnlabeled(hybrid_model,hybrid_model.classifier,\n",
    "                               '../../datasets/Structured/DBLP-ACM/','positives')"
   ]
  },
  {
   "cell_type": "code",
   "execution_count": 20,
   "metadata": {
    "ExecuteTime": {
     "end_time": "2020-02-09T10:36:13.773713Z",
     "start_time": "2020-02-09T10:35:34.897813Z"
    }
   },
   "outputs": [
    {
     "name": "stderr",
     "output_type": "stream",
     "text": [
      "\n",
      "Reading and processing data from \"../../datasets/Structured/DBLP-ACM/negatives.csv\"\n",
      "0% [############################# ] 100% | ETA: 00:00:00"
     ]
    }
   ],
   "source": [
    "negatives = returnLayerInputUnlabeled(hybrid_model,hybrid_model.classifier,\n",
    "                               '../../datasets/Structured/DBLP-ACM/','negatives')"
   ]
  },
  {
   "cell_type": "code",
   "execution_count": 12,
   "metadata": {
    "ExecuteTime": {
     "end_time": "2020-02-09T12:54:37.273783Z",
     "start_time": "2020-02-09T12:54:37.240083Z"
    }
   },
   "outputs": [],
   "source": [
    "## Basta scegliere un campione a caso\n",
    "classifier_len = len(list(testneg.values())[0])\n",
    "attribute_len = int(classifier_len/len(attributes))"
   ]
  },
  {
   "cell_type": "markdown",
   "metadata": {},
   "source": [
    "## Ri discovery"
   ]
  },
  {
   "cell_type": "markdown",
   "metadata": {},
   "source": [
    "### Negatives"
   ]
  },
  {
   "cell_type": "code",
   "execution_count": 13,
   "metadata": {
    "ExecuteTime": {
     "end_time": "2020-02-09T13:19:56.631155Z",
     "start_time": "2020-02-09T12:54:57.805877Z"
    }
   },
   "outputs": [
    {
     "name": "stderr",
     "output_type": "stream",
     "text": [
      "100%|██████████| 4672/4672 [24:56<00:00,  3.12it/s]\n"
     ]
    }
   ],
   "source": [
    "neg_ri,neg_ri_norms = computeRi(hybrid_model.classifier,attributes,testneg,0)\n",
    "torch.save(neg_ri,'experiment_results/testneg_ri_hybrid.pt')"
   ]
  },
  {
   "cell_type": "code",
   "execution_count": 15,
   "metadata": {
    "ExecuteTime": {
     "end_time": "2020-02-09T13:25:12.848092Z",
     "start_time": "2020-02-09T13:25:12.606679Z"
    }
   },
   "outputs": [
    {
     "data": {
      "text/plain": [
       "<matplotlib.axes._subplots.AxesSubplot at 0x7f43f6149198>"
      ]
     },
     "execution_count": 15,
     "metadata": {},
     "output_type": "execute_result"
    },
    {
     "data": {
      "image/png": "[encoded data removed]",
      "text/plain": [
       "<Figure size 432x288 with 1 Axes>"
      ]
     },
     "metadata": {
      "needs_background": "light"
     },
     "output_type": "display_data"
    }
   ],
   "source": [
    "neg_ri_norms.sum(numeric_only=True).plot.bar()"
   ]
  },
  {
   "cell_type": "code",
   "execution_count": 22,
   "metadata": {
    "ExecuteTime": {
     "end_time": "2020-02-08T17:02:14.332492Z",
     "start_time": "2020-02-08T17:02:14.264880Z"
    }
   },
   "outputs": [],
   "source": [
    "neg_ri_norms.to_csv('experiment_results/testneg_ri_norms.csv',index=False)"
   ]
  },
  {
   "cell_type": "markdown",
   "metadata": {},
   "source": [
    "### Positives"
   ]
  },
  {
   "cell_type": "code",
   "execution_count": 16,
   "metadata": {
    "ExecuteTime": {
     "end_time": "2020-02-09T13:29:05.475601Z",
     "start_time": "2020-02-09T13:25:16.317259Z"
    }
   },
   "outputs": [
    {
     "name": "stderr",
     "output_type": "stream",
     "text": [
      "100%|██████████| 1070/1070 [03:48<00:00,  4.68it/s]\n"
     ]
    }
   ],
   "source": [
    "testpos_ri,testpos_ri_norms = computeRi(hybrid_model.classifier,attributes,testpos,1)\n",
    "torch.save(testpos_ri,'experiment_results/testpos_ri_hybrid.pt')"
   ]
  },
  {
   "cell_type": "code",
   "execution_count": 17,
   "metadata": {
    "ExecuteTime": {
     "end_time": "2020-02-09T13:29:31.391027Z",
     "start_time": "2020-02-09T13:29:31.139819Z"
    }
   },
   "outputs": [
    {
     "data": {
      "text/plain": [
       "<matplotlib.axes._subplots.AxesSubplot at 0x7f43c3927748>"
      ]
     },
     "execution_count": 17,
     "metadata": {},
     "output_type": "execute_result"
    },
    {
     "data": {
      "image/png": "[encoded data removed]",
      "text/plain": [
       "<Figure size 432x288 with 1 Axes>"
      ]
     },
     "metadata": {
      "needs_background": "light"
     },
     "output_type": "display_data"
    }
   ],
   "source": [
    "testpos_ri_norms.sum().plot.bar()"
   ]
  },
  {
   "cell_type": "code",
   "execution_count": 18,
   "metadata": {
    "ExecuteTime": {
     "end_time": "2020-02-09T13:29:40.933581Z",
     "start_time": "2020-02-09T13:29:40.882975Z"
    }
   },
   "outputs": [],
   "source": [
    "testpos_ri_norms.to_csv('experiment_results/testpos_ri_norms.csv',index=False)"
   ]
  },
  {
   "cell_type": "markdown",
   "metadata": {},
   "source": [
    "## Nearest neighbors discovery"
   ]
  },
  {
   "cell_type": "code",
   "execution_count": 16,
   "metadata": {
    "ExecuteTime": {
     "end_time": "2020-02-09T10:35:18.381076Z",
     "start_time": "2020-02-09T10:35:18.346695Z"
    }
   },
   "outputs": [],
   "source": [
    "from utils.distance_measures import nearestNeighborsOnAttribute"
   ]
  },
  {
   "cell_type": "code",
   "execution_count": 41,
   "metadata": {
    "ExecuteTime": {
     "end_time": "2020-02-09T11:26:31.048293Z",
     "start_time": "2020-02-09T11:26:30.268389Z"
    }
   },
   "outputs": [],
   "source": [
    "neg_ri = torch.load('experiment_results/testneg_ri_hybrid.pt')\n",
    "pos_ri = torch.load('experiment_results/testpos_ri_hybrid.pt')"
   ]
  },
  {
   "cell_type": "code",
   "execution_count": 49,
   "metadata": {
    "ExecuteTime": {
     "end_time": "2020-02-09T11:34:05.298064Z",
     "start_time": "2020-02-09T11:33:58.577944Z"
    }
   },
   "outputs": [
    {
     "name": "stderr",
     "output_type": "stream",
     "text": [
      "\n",
      "  0%|          | 0/2029 [00:00<?, ?it/s]\u001b[A\n",
      "  1%|▏         | 26/2029 [00:00<00:07, 257.74it/s]\u001b[A\n",
      "  3%|▎         | 53/2029 [00:00<00:07, 260.96it/s]\u001b[A\n",
      "  4%|▍         | 80/2029 [00:00<00:07, 262.43it/s]\u001b[A\n",
      "  5%|▌         | 107/2029 [00:00<00:07, 262.61it/s]\u001b[A\n",
      "  7%|▋         | 134/2029 [00:00<00:07, 264.15it/s]\u001b[A\n",
      "  8%|▊         | 161/2029 [00:00<00:07, 265.43it/s]\u001b[A\n",
      " 10%|▉         | 193/2029 [00:00<00:06, 279.46it/s]\u001b[A\n",
      " 11%|█         | 224/2029 [00:00<00:06, 285.74it/s]\u001b[A\n",
      " 13%|█▎        | 256/2029 [00:00<00:06, 292.94it/s]\u001b[A\n",
      " 14%|█▍        | 287/2029 [00:01<00:05, 297.03it/s]\u001b[A\n",
      " 16%|█▌        | 319/2029 [00:01<00:05, 301.94it/s]\u001b[A\n",
      " 17%|█▋        | 350/2029 [00:01<00:05, 303.02it/s]\u001b[A\n",
      " 19%|█▉        | 382/2029 [00:01<00:05, 306.44it/s]\u001b[A\n",
      " 20%|██        | 413/2029 [00:01<00:05, 305.65it/s]\u001b[A\n",
      " 22%|██▏       | 445/2029 [00:01<00:05, 309.56it/s]\u001b[A\n",
      " 23%|██▎       | 476/2029 [00:01<00:05, 298.62it/s]\u001b[A\n",
      " 25%|██▌       | 508/2029 [00:01<00:05, 302.91it/s]\u001b[A\n",
      " 27%|██▋       | 540/2029 [00:01<00:04, 307.15it/s]\u001b[A\n",
      " 28%|██▊       | 572/2029 [00:01<00:04, 309.74it/s]\u001b[A\n",
      " 30%|██▉       | 604/2029 [00:02<00:04, 311.70it/s]\u001b[A\n",
      " 31%|███▏      | 636/2029 [00:02<00:04, 313.17it/s]\u001b[A\n",
      " 33%|███▎      | 668/2029 [00:02<00:04, 301.25it/s]\u001b[A\n",
      " 34%|███▍      | 700/2029 [00:02<00:04, 305.86it/s]\u001b[A\n",
      " 36%|███▌      | 733/2029 [00:02<00:04, 310.85it/s]\u001b[A\n",
      " 38%|███▊      | 765/2029 [00:02<00:04, 313.11it/s]\u001b[A\n",
      " 39%|███▉      | 798/2029 [00:02<00:03, 315.35it/s]\u001b[A\n",
      " 41%|████      | 830/2029 [00:02<00:03, 315.33it/s]\u001b[A\n",
      " 42%|████▏     | 862/2029 [00:02<00:03, 304.61it/s]\u001b[A\n",
      " 44%|████▍     | 894/2029 [00:02<00:03, 308.04it/s]\u001b[A\n",
      " 46%|████▌     | 926/2029 [00:03<00:03, 308.82it/s]\u001b[A\n",
      " 47%|████▋     | 959/2029 [00:03<00:03, 312.76it/s]\u001b[A\n",
      " 49%|████▉     | 991/2029 [00:03<00:03, 313.28it/s]\u001b[A\n",
      " 50%|█████     | 1024/2029 [00:03<00:03, 315.36it/s]\u001b[A\n",
      " 52%|█████▏    | 1056/2029 [00:03<00:03, 301.65it/s]\u001b[A\n",
      " 54%|█████▎    | 1088/2029 [00:03<00:03, 306.81it/s]\u001b[A\n",
      " 55%|█████▌    | 1120/2029 [00:03<00:02, 309.22it/s]\u001b[A\n",
      " 57%|█████▋    | 1152/2029 [00:03<00:02, 310.37it/s]\u001b[A\n",
      " 58%|█████▊    | 1184/2029 [00:03<00:02, 312.23it/s]\u001b[A\n",
      " 60%|█████▉    | 1216/2029 [00:04<00:02, 313.39it/s]\u001b[A\n",
      " 62%|██████▏   | 1248/2029 [00:04<00:02, 309.00it/s]\u001b[A\n",
      " 63%|██████▎   | 1280/2029 [00:04<00:02, 309.90it/s]\u001b[A\n",
      " 65%|██████▍   | 1312/2029 [00:04<00:02, 310.80it/s]\u001b[A\n",
      " 66%|██████▌   | 1344/2029 [00:04<00:02, 312.58it/s]\u001b[A\n",
      " 68%|██████▊   | 1376/2029 [00:04<00:02, 314.20it/s]\u001b[A\n",
      " 69%|██████▉   | 1408/2029 [00:04<00:01, 312.44it/s]\u001b[A\n",
      " 71%|███████   | 1440/2029 [00:04<00:01, 313.16it/s]\u001b[A\n",
      " 73%|███████▎  | 1472/2029 [00:04<00:01, 312.46it/s]\u001b[A\n",
      " 74%|███████▍  | 1504/2029 [00:04<00:01, 313.17it/s]\u001b[A\n",
      " 76%|███████▌  | 1536/2029 [00:05<00:01, 312.80it/s]\u001b[A\n",
      " 77%|███████▋  | 1569/2029 [00:05<00:01, 316.66it/s]\u001b[A\n",
      " 79%|███████▉  | 1601/2029 [00:05<00:01, 314.95it/s]\u001b[A\n",
      " 80%|████████  | 1633/2029 [00:05<00:01, 314.57it/s]\u001b[A\n",
      " 82%|████████▏ | 1665/2029 [00:05<00:01, 311.51it/s]\u001b[A\n",
      " 84%|████████▎ | 1697/2029 [00:05<00:01, 311.46it/s]\u001b[A\n",
      " 85%|████████▌ | 1729/2029 [00:05<00:00, 311.15it/s]\u001b[A\n",
      " 87%|████████▋ | 1761/2029 [00:05<00:00, 311.58it/s]\u001b[A\n",
      " 88%|████████▊ | 1793/2029 [00:05<00:00, 309.65it/s]\u001b[A\n",
      " 90%|████████▉ | 1824/2029 [00:05<00:00, 309.17it/s]\u001b[A\n",
      " 91%|█████████▏| 1855/2029 [00:06<00:00, 308.68it/s]\u001b[A\n",
      " 93%|█████████▎| 1886/2029 [00:06<00:00, 309.03it/s]\u001b[A\n",
      " 94%|█████████▍| 1917/2029 [00:06<00:00, 307.52it/s]\u001b[A\n",
      " 96%|█████████▌| 1949/2029 [00:06<00:00, 309.04it/s]\u001b[A\n",
      " 98%|█████████▊| 1981/2029 [00:06<00:00, 309.85it/s]\u001b[A\n",
      "100%|██████████| 2029/2029 [00:06<00:00, 306.23it/s]\u001b[A\n"
     ]
    }
   ],
   "source": [
    "negatives_closer_vectors_df = nearestNeighborsOnAttribute(testneg,neg_ri,positives,attributes,attribute_len,\n",
    "                                                         min_similarity=0)"
   ]
  },
  {
   "cell_type": "code",
   "execution_count": 22,
   "metadata": {
    "ExecuteTime": {
     "end_time": "2020-02-08T17:16:28.745008Z",
     "start_time": "2020-02-08T17:16:28.666464Z"
    }
   },
   "outputs": [],
   "source": [
    "negatives_closer_vectors_df.to_csv('experiment_results/testnegNNHybrid_filtered.csv',index=False)"
   ]
  },
  {
   "cell_type": "code",
   "execution_count": 29,
   "metadata": {
    "ExecuteTime": {
     "end_time": "2020-02-08T17:20:29.456973Z",
     "start_time": "2020-02-08T17:20:26.555322Z"
    }
   },
   "outputs": [
    {
     "name": "stderr",
     "output_type": "stream",
     "text": [
      "100%|██████████| 444/444 [00:02<00:00, 162.42it/s]\n"
     ]
    }
   ],
   "source": [
    "positives_closer_vectors_df = nearestNeighborsOnAttribute(testpos,pos_ri,negatives,\n",
    "                                                                      attributes,attribute_len,\n",
    "                                                                       min_similarity=0)"
   ]
  },
  {
   "cell_type": "code",
   "execution_count": 30,
   "metadata": {
    "ExecuteTime": {
     "end_time": "2020-02-08T17:20:37.530140Z",
     "start_time": "2020-02-08T17:20:37.482381Z"
    }
   },
   "outputs": [],
   "source": [
    "positives_closer_vectors_df.to_csv('experiment_results/testposNNHybrid_filtered.csv',index=False)"
   ]
  },
  {
   "cell_type": "markdown",
   "metadata": {},
   "source": [
    "## Test"
   ]
  },
  {
   "cell_type": "code",
   "execution_count": 24,
   "metadata": {},
   "outputs": [],
   "source": [
    "import torch.nn.functional as F"
   ]
  },
  {
   "cell_type": "code",
   "execution_count": 36,
   "metadata": {},
   "outputs": [],
   "source": [
    "from utils.ri_calculator import findPerturbationToFlipPredict"
   ]
  },
  {
   "cell_type": "code",
   "execution_count": 31,
   "metadata": {
    "ExecuteTime": {
     "end_time": "2020-02-08T17:21:02.566253Z",
     "start_time": "2020-02-08T17:21:02.059119Z"
    }
   },
   "outputs": [],
   "source": [
    "hybrid_model = dm.MatchingModel(attr_summarizer='hybrid')\n",
    "hybrid_model.load_state('../../models/dblp_acm_hybrid.pth')\n",
    "##hybrid_model = hybrid_model.cuda()"
   ]
  },
  {
   "cell_type": "code",
   "execution_count": 32,
   "metadata": {
    "ExecuteTime": {
     "end_time": "2020-02-08T17:21:16.763485Z",
     "start_time": "2020-02-08T17:21:14.469070Z"
    }
   },
   "outputs": [
    {
     "name": "stderr",
     "output_type": "stream",
     "text": [
      "\n",
      "Reading and processing data from \"../../datasets/Structured/DBLP-ACM/test_positives.csv\"\n",
      "0% [############################# ] 100% | ETA: 00:00:00"
     ]
    }
   ],
   "source": [
    "testpos = returnLayerInputUnlabeled(hybrid_model,\n",
    "                             '../../datasets/Structured/DBLP-ACM/','test_positives')"
   ]
  },
  {
   "cell_type": "code",
   "execution_count": 33,
   "metadata": {
    "ExecuteTime": {
     "end_time": "2020-02-08T17:23:29.819527Z",
     "start_time": "2020-02-08T17:21:27.116374Z"
    }
   },
   "outputs": [
    {
     "name": "stderr",
     "output_type": "stream",
     "text": [
      "100%|██████████| 444/444 [02:01<00:00,  3.65it/s]\n"
     ]
    }
   ],
   "source": [
    "pos_ri,pos_ri_norms = computeRi(hybrid_model.classifier,attributes,testpos,1)"
   ]
  },
  {
   "cell_type": "code",
   "execution_count": 35,
   "metadata": {
    "ExecuteTime": {
     "end_time": "2020-02-08T17:25:53.897252Z",
     "start_time": "2020-02-08T17:25:53.639940Z"
    }
   },
   "outputs": [
    {
     "data": {
      "text/plain": [
       "<matplotlib.axes._subplots.AxesSubplot at 0x7fc63b4e89e8>"
      ]
     },
     "execution_count": 35,
     "metadata": {},
     "output_type": "execute_result"
    },
    {
     "data": {
      "image/png": "[encoded data removed]",
      "text/plain": [
       "<Figure size 432x288 with 1 Axes>"
      ]
     },
     "metadata": {
      "needs_background": "light"
     },
     "output_type": "display_data"
    }
   ],
   "source": [
    "pos_ri_norms.sum().plot.bar()"
   ]
  },
  {
   "cell_type": "code",
   "execution_count": 44,
   "metadata": {
    "ExecuteTime": {
     "end_time": "2020-02-08T17:30:54.409437Z",
     "start_time": "2020-02-08T17:30:54.329853Z"
    }
   },
   "outputs": [],
   "source": [
    "train_df = pd.read_csv('../../datasets/Structured/DBLP-ACM/merged_train.csv')"
   ]
  },
  {
   "cell_type": "code",
   "execution_count": 53,
   "metadata": {
    "ExecuteTime": {
     "end_time": "2020-02-08T17:40:40.695981Z",
     "start_time": "2020-02-08T17:40:38.122423Z"
    }
   },
   "outputs": [
    {
     "name": "stderr",
     "output_type": "stream",
     "text": [
      "\n",
      "Reading and processing data from \"../../datasets/Structured/DBLP-ACM/merged_test.csv\"\n",
      "0% [############################# ] 100% | ETA: 00:00:00"
     ]
    }
   ],
   "source": [
    "DATASET_DIR ='../../datasets/Structured/DBLP-ACM/'\n",
    "testpos_dm = dm.data.process_unlabeled(DATASET_DIR+'merged_test.csv',hybrid_model,\n",
    "                                      ignore_columns=['label','id'])"
   ]
  },
  {
   "cell_type": "code",
   "execution_count": 54,
   "metadata": {
    "ExecuteTime": {
     "end_time": "2020-02-08T17:41:00.574122Z",
     "start_time": "2020-02-08T17:40:44.545684Z"
    }
   },
   "outputs": [
    {
     "name": "stdout",
     "output_type": "stream",
     "text": [
      "===>  PREDICT Epoch 8\n"
     ]
    },
    {
     "name": "stderr",
     "output_type": "stream",
     "text": [
      "0% [███████████████] 100% | ETA: 00:00:00\n",
      "Total time elapsed: 00:00:15\n"
     ]
    },
    {
     "name": "stdout",
     "output_type": "stream",
     "text": [
      "Finished Epoch 8 || Run Time:    7.2 | Load Time:    8.5 || F1:   0.00 | Prec:   0.00 | Rec:   0.00 || Ex/s:   0.00\n",
      "\n"
     ]
    }
   ],
   "source": [
    "true_pred = hybrid_model.run_prediction(testpos_dm)"
   ]
  },
  {
   "cell_type": "code",
   "execution_count": 55,
   "metadata": {
    "ExecuteTime": {
     "end_time": "2020-02-08T17:41:08.409706Z",
     "start_time": "2020-02-08T17:41:01.504936Z"
    }
   },
   "outputs": [
    {
     "name": "stderr",
     "output_type": "stream",
     "text": [
      "WARNING:deepmatcher.data.dataset:Rebuilding data cache because: ['Data file list has changed.', 'One or more data files have been modified.']\n",
      "\n",
      "Reading and processing data from \"../../datasets/Structured/DBLP-ACM/merged_test.csv\"\n",
      "0% [############################# ] 100% | ETA: 00:00:00\n",
      "Building vocabulary\n",
      "0% [###] 100% | ETA: 00:00:00\n",
      "Total time elapsed: 00:00:00\n",
      "\n",
      "Computing principal components\n",
      "0% [###] 100% | ETA: 00:00:00\n",
      "Total time elapsed: 00:00:03\n"
     ]
    }
   ],
   "source": [
    "testpos_fake = dm.data.process(DATASET_DIR,train='merged_test.csv',left_prefix='ltable_',\n",
    "                               right_prefix='rtable_')"
   ]
  },
  {
   "cell_type": "code",
   "execution_count": 56,
   "metadata": {
    "ExecuteTime": {
     "end_time": "2020-02-08T17:41:27.487212Z",
     "start_time": "2020-02-08T17:41:11.785639Z"
    }
   },
   "outputs": [
    {
     "name": "stdout",
     "output_type": "stream",
     "text": [
      "===>  PREDICT Epoch 8\n"
     ]
    },
    {
     "name": "stderr",
     "output_type": "stream",
     "text": [
      "0% [███████████████] 100% | ETA: 00:00:00\n",
      "Total time elapsed: 00:00:14\n"
     ]
    },
    {
     "name": "stdout",
     "output_type": "stream",
     "text": [
      "Finished Epoch 8 || Run Time:    7.2 | Load Time:    8.3 || F1:  98.22 | Prec:  96.93 | Rec:  99.55 || Ex/s: 159.50\n",
      "\n"
     ]
    }
   ],
   "source": [
    "fake_pred =hybrid_model.run_prediction(testpos_fake)"
   ]
  },
  {
   "cell_type": "code",
   "execution_count": 59,
   "metadata": {
    "ExecuteTime": {
     "end_time": "2020-02-08T17:41:47.957680Z",
     "start_time": "2020-02-08T17:41:47.917448Z"
    }
   },
   "outputs": [],
   "source": [
    "for p1,p2 in zip(true_pred.match_score.values,fake_pred.match_score.values):\n",
    "    if p1!=p2:\n",
    "        print((p1,p2))"
   ]
  },
  {
   "cell_type": "code",
   "execution_count": 68,
   "metadata": {
    "ExecuteTime": {
     "end_time": "2020-02-08T17:49:40.216869Z",
     "start_time": "2020-02-08T17:49:38.494615Z"
    }
   },
   "outputs": [
    {
     "name": "stderr",
     "output_type": "stream",
     "text": [
      "\n",
      "Reading and processing data from \"../../datasets/Structured/DBLP-ACM/test_positives.csv\"\n",
      "0% [############################# ] 100% | ETA: 00:00:00"
     ]
    }
   ],
   "source": [
    "testpos2 = returnLayerInputUnlabeled(hybrid_model,hybrid_model.classifier,\n",
    "                               '../../datasets/Structured/DBLP-ACM/','test_positives')"
   ]
  },
  {
   "cell_type": "code",
   "execution_count": 69,
   "metadata": {
    "ExecuteTime": {
     "end_time": "2020-02-08T17:51:32.237971Z",
     "start_time": "2020-02-08T17:49:41.084749Z"
    }
   },
   "outputs": [
    {
     "name": "stderr",
     "output_type": "stream",
     "text": [
      "100%|██████████| 444/444 [01:50<00:00,  4.02it/s]\n"
     ]
    }
   ],
   "source": [
    "pos_ri2,pos_ri_norms2 = computeRi(hybrid_model.classifier,attributes,testpos2,1)"
   ]
  },
  {
   "cell_type": "code",
   "execution_count": 70,
   "metadata": {
    "ExecuteTime": {
     "end_time": "2020-02-08T17:51:36.348541Z",
     "start_time": "2020-02-08T17:51:36.074706Z"
    }
   },
   "outputs": [
    {
     "data": {
      "text/plain": [
       "<matplotlib.axes._subplots.AxesSubplot at 0x7fc3db6916a0>"
      ]
     },
     "execution_count": 70,
     "metadata": {},
     "output_type": "execute_result"
    },
    {
     "data": {
      "image/png": "[encoded data removed]",
      "text/plain": [
       "<Figure size 432x288 with 1 Axes>"
      ]
     },
     "metadata": {
      "needs_background": "light"
     },
     "output_type": "display_data"
    }
   ],
   "source": [
    "pos_ri_norms2.sum().plot.bar()"
   ]
  },
  {
   "cell_type": "code",
   "execution_count": 75,
   "metadata": {
    "ExecuteTime": {
     "end_time": "2020-02-08T17:52:40.597080Z",
     "start_time": "2020-02-08T17:52:40.041708Z"
    }
   },
   "outputs": [],
   "source": [
    "hybrid_model2 = dm.MatchingModel(attr_summarizer='hybrid')\n",
    "hybrid_model2.load_state('../../models/dblp_acm_hybrid2.pth')\n",
    "hybrid_model2 = hybrid_model2.cuda()"
   ]
  },
  {
   "cell_type": "code",
   "execution_count": 76,
   "metadata": {
    "ExecuteTime": {
     "end_time": "2020-02-08T17:52:43.924625Z",
     "start_time": "2020-02-08T17:52:42.167659Z"
    }
   },
   "outputs": [
    {
     "name": "stderr",
     "output_type": "stream",
     "text": [
      "\n",
      "Reading and processing data from \"../../datasets/Structured/DBLP-ACM/test_positives.csv\"\n",
      "0% [############################# ] 100% | ETA: 00:00:00"
     ]
    }
   ],
   "source": [
    "testpos2i = returnLayerInputUnlabeled(hybrid_model2,hybrid_model2.classifier,\n",
    "                               '../../datasets/Structured/DBLP-ACM/','test_positives')"
   ]
  },
  {
   "cell_type": "code",
   "execution_count": 77,
   "metadata": {
    "ExecuteTime": {
     "end_time": "2020-02-08T17:54:35.358882Z",
     "start_time": "2020-02-08T17:53:02.128220Z"
    }
   },
   "outputs": [
    {
     "name": "stderr",
     "output_type": "stream",
     "text": [
      "100%|██████████| 444/444 [01:33<00:00,  4.77it/s]\n"
     ]
    }
   ],
   "source": [
    "pos_ri2i,pos_ri_norms2i = computeRi(hybrid_model2.classifier,attributes,testpos2i,1)"
   ]
  },
  {
   "cell_type": "code",
   "execution_count": 78,
   "metadata": {
    "ExecuteTime": {
     "end_time": "2020-02-08T17:54:55.833268Z",
     "start_time": "2020-02-08T17:54:55.590679Z"
    }
   },
   "outputs": [
    {
     "data": {
      "text/plain": [
       "<matplotlib.axes._subplots.AxesSubplot at 0x7fc3a370bda0>"
      ]
     },
     "execution_count": 78,
     "metadata": {},
     "output_type": "execute_result"
    },
    {
     "data": {
      "image/png": "[encoded data removed]",
      "text/plain": [
       "<Figure size 432x288 with 1 Axes>"
      ]
     },
     "metadata": {
      "needs_background": "light"
     },
     "output_type": "display_data"
    }
   ],
   "source": [
    "pos_ri_norms2i.sum().plot.bar()"
   ]
  },
  {
   "cell_type": "code",
   "execution_count": 84,
   "metadata": {
    "ExecuteTime": {
     "end_time": "2020-02-08T18:00:07.348365Z",
     "start_time": "2020-02-08T18:00:03.722630Z"
    }
   },
   "outputs": [
    {
     "name": "stderr",
     "output_type": "stream",
     "text": [
      "\n",
      "Reading and processing data from \"../../datasets/Structured/DBLP-ACM/test_positives.csv\"\n",
      "0% [############################# ] 100% | ETA: 00:00:00\n",
      "Building vocabulary\n",
      "0% [#] 100% | ETA: 00:00:00\n",
      "Total time elapsed: 00:00:00\n",
      "\n",
      "Computing principal components\n",
      "0% [#] 100% | ETA: 00:00:00\n",
      "Total time elapsed: 00:00:00\n"
     ]
    }
   ],
   "source": [
    "testpos2 = return_layer_input(hybrid_model2,hybrid_model2.classifier,\n",
    "                               '../../datasets/Structured/DBLP-ACM/','test_positives')"
   ]
  },
  {
   "cell_type": "code",
   "execution_count": 80,
   "metadata": {
    "ExecuteTime": {
     "end_time": "2020-02-08T17:56:14.839435Z",
     "start_time": "2020-02-08T17:55:38.702304Z"
    }
   },
   "outputs": [
    {
     "name": "stderr",
     "output_type": "stream",
     "text": [
      "100%|██████████| 444/444 [00:34<00:00, 12.70it/s]\n"
     ]
    }
   ],
   "source": [
    "pos_ri2,pos_ri_norms2 = computeRi(hybrid_model2.classifier,attributes,testpos2,1)"
   ]
  },
  {
   "cell_type": "code",
   "execution_count": 81,
   "metadata": {
    "ExecuteTime": {
     "end_time": "2020-02-08T17:56:21.121858Z",
     "start_time": "2020-02-08T17:56:20.875669Z"
    }
   },
   "outputs": [
    {
     "data": {
      "text/plain": [
       "<matplotlib.axes._subplots.AxesSubplot at 0x7fc3ba574390>"
      ]
     },
     "execution_count": 81,
     "metadata": {},
     "output_type": "execute_result"
    },
    {
     "data": {
      "image/png": "[encoded data removed]",
      "text/plain": [
       "<Figure size 432x288 with 1 Axes>"
      ]
     },
     "metadata": {
      "needs_background": "light"
     },
     "output_type": "display_data"
    }
   ],
   "source": [
    "pos_ri_norms2.sum().plot.bar()"
   ]
  },
  {
   "cell_type": "code",
   "execution_count": 85,
   "metadata": {
    "ExecuteTime": {
     "end_time": "2020-02-08T18:00:13.034527Z",
     "start_time": "2020-02-08T18:00:12.862076Z"
    }
   },
   "outputs": [
    {
     "name": "stdout",
     "output_type": "stream",
     "text": [
      "6.013233184814453\n",
      "8.419266700744629\n",
      "9.470592498779297\n",
      "8.061202049255371\n",
      "4.736684322357178\n",
      "6.25020694732666\n",
      "4.709441661834717\n",
      "6.483670234680176\n",
      "9.034685134887695\n",
      "5.926397323608398\n",
      "4.675487995147705\n",
      "13.26247787475586\n",
      "5.47933292388916\n",
      "9.156543731689453\n",
      "9.064640998840332\n",
      "6.102056980133057\n",
      "7.952148914337158\n",
      "4.849846839904785\n",
      "9.036534309387207\n",
      "8.94332218170166\n",
      "8.74321460723877\n",
      "9.277305603027344\n",
      "4.465804576873779\n",
      "6.67368221282959\n",
      "4.870484828948975\n",
      "8.166108131408691\n",
      "6.78516960144043\n",
      "7.0671796798706055\n",
      "6.238358497619629\n",
      "5.6928229331970215\n",
      "6.983000755310059\n",
      "6.9819207191467285\n",
      "8.705131530761719\n",
      "8.294671058654785\n",
      "6.280832767486572\n",
      "7.795933723449707\n",
      "4.404969692230225\n",
      "8.770273208618164\n",
      "4.785650730133057\n",
      "15.0551176071167\n",
      "5.213739395141602\n",
      "7.840186595916748\n",
      "5.192795276641846\n",
      "5.6423444747924805\n",
      "6.667527675628662\n",
      "6.302277088165283\n",
      "7.956787109375\n",
      "8.065790176391602\n",
      "8.967409133911133\n",
      "5.121453762054443\n",
      "7.614959239959717\n",
      "5.855052471160889\n",
      "9.125483512878418\n",
      "8.416068077087402\n",
      "6.292396545410156\n",
      "5.88225793838501\n",
      "4.186978340148926\n",
      "13.430248260498047\n",
      "13.22423267364502\n",
      "4.580448150634766\n",
      "9.094472885131836\n",
      "13.471307754516602\n",
      "8.390231132507324\n",
      "4.470592021942139\n",
      "9.061674118041992\n",
      "5.56946325302124\n",
      "4.848747253417969\n",
      "7.849327564239502\n",
      "9.148122787475586\n",
      "6.0188374519348145\n",
      "7.889267444610596\n",
      "4.803872585296631\n",
      "9.705995559692383\n",
      "4.905425071716309\n",
      "8.728275299072266\n",
      "4.862865447998047\n",
      "5.702555179595947\n",
      "7.957746982574463\n",
      "6.284008026123047\n",
      "6.527720928192139\n",
      "5.811869144439697\n",
      "5.685476303100586\n",
      "6.7123212814331055\n",
      "5.223445415496826\n",
      "6.559591770172119\n",
      "4.248939514160156\n",
      "10.667381286621094\n",
      "5.641427516937256\n",
      "7.903916358947754\n",
      "6.2710862159729\n",
      "5.759785175323486\n",
      "5.158056259155273\n",
      "13.159626007080078\n",
      "8.565017700195312\n",
      "6.3441948890686035\n",
      "8.281455039978027\n",
      "9.9729642868042\n",
      "6.710939407348633\n",
      "13.066503524780273\n",
      "9.01261043548584\n",
      "9.83250617980957\n",
      "8.01137924194336\n",
      "5.577078819274902\n",
      "5.49845552444458\n",
      "6.3395867347717285\n",
      "8.471179962158203\n",
      "5.718040943145752\n",
      "6.513322353363037\n",
      "9.744180679321289\n",
      "7.452120780944824\n",
      "8.62611198425293\n",
      "5.071933269500732\n",
      "4.255023002624512\n",
      "5.078485012054443\n",
      "5.675239562988281\n",
      "4.6071672439575195\n",
      "4.9113969802856445\n",
      "8.255472183227539\n",
      "4.2411723136901855\n",
      "9.113759994506836\n",
      "8.974702835083008\n",
      "8.266003608703613\n",
      "6.5719990730285645\n",
      "8.862499237060547\n",
      "8.467144966125488\n",
      "3.9683873653411865\n",
      "5.957590103149414\n",
      "4.911564826965332\n",
      "5.507717132568359\n",
      "7.8318047523498535\n",
      "5.861283779144287\n",
      "9.667143821716309\n",
      "13.390149116516113\n",
      "6.425410270690918\n",
      "5.193011283874512\n",
      "7.529749393463135\n",
      "4.523250579833984\n",
      "7.953155517578125\n",
      "5.879561424255371\n",
      "8.832947731018066\n",
      "8.815568923950195\n",
      "8.162582397460938\n",
      "7.576437473297119\n",
      "6.206762313842773\n",
      "8.637289047241211\n",
      "8.122480392456055\n",
      "12.925105094909668\n",
      "7.624844074249268\n",
      "9.251431465148926\n",
      "5.47816801071167\n",
      "5.743300437927246\n",
      "6.529716968536377\n",
      "6.014802932739258\n",
      "6.606723785400391\n",
      "8.586444854736328\n",
      "8.855908393859863\n",
      "9.087578773498535\n",
      "6.6605730056762695\n",
      "8.81483268737793\n",
      "5.737813472747803\n",
      "8.544392585754395\n",
      "7.724804878234863\n",
      "5.765257358551025\n",
      "8.883830070495605\n",
      "3.8900017738342285\n",
      "5.526534557342529\n",
      "3.776710033416748\n",
      "7.099726676940918\n",
      "5.32443904876709\n",
      "5.506693363189697\n",
      "5.857166290283203\n",
      "12.95461368560791\n",
      "7.015754699707031\n",
      "5.963961601257324\n",
      "8.568017959594727\n",
      "4.429392337799072\n",
      "7.7712554931640625\n",
      "8.510148048400879\n",
      "6.521518707275391\n",
      "8.71507453918457\n",
      "5.6339545249938965\n",
      "4.7979512214660645\n",
      "8.645157814025879\n",
      "5.072045803070068\n",
      "9.132800102233887\n",
      "13.056299209594727\n",
      "8.36103343963623\n",
      "5.900318145751953\n",
      "8.92623519897461\n",
      "8.222118377685547\n",
      "5.756776809692383\n",
      "8.82541561126709\n",
      "4.457793712615967\n",
      "9.004705429077148\n",
      "5.730396747589111\n",
      "13.087024688720703\n",
      "8.633146286010742\n",
      "7.955811500549316\n",
      "8.395546913146973\n",
      "7.004753112792969\n",
      "13.496042251586914\n",
      "5.3359174728393555\n",
      "7.743276596069336\n",
      "8.94013500213623\n",
      "8.212350845336914\n",
      "6.4767537117004395\n",
      "8.21595287322998\n",
      "9.171571731567383\n",
      "6.198273658752441\n",
      "9.381836891174316\n",
      "6.5268120765686035\n",
      "7.0074782371521\n",
      "5.738162994384766\n",
      "5.416672706604004\n",
      "5.257356643676758\n",
      "6.376371383666992\n",
      "8.165730476379395\n",
      "8.28600025177002\n",
      "8.95081615447998\n",
      "5.593194007873535\n",
      "8.848478317260742\n",
      "12.918107986450195\n",
      "7.9538350105285645\n",
      "9.177181243896484\n",
      "5.985650062561035\n",
      "4.448451995849609\n",
      "4.414763927459717\n",
      "5.795342445373535\n",
      "8.870641708374023\n",
      "13.716540336608887\n",
      "5.710718631744385\n",
      "6.389252185821533\n",
      "13.536175727844238\n",
      "7.012784004211426\n",
      "5.381767272949219\n",
      "8.693219184875488\n",
      "6.310829162597656\n",
      "5.2393083572387695\n",
      "6.57982873916626\n",
      "5.311680316925049\n",
      "8.495292663574219\n",
      "8.771223068237305\n",
      "4.968472957611084\n",
      "7.016920566558838\n",
      "6.521360397338867\n",
      "4.7670698165893555\n",
      "8.851251602172852\n",
      "8.395655632019043\n",
      "5.499198913574219\n",
      "5.60701322555542\n",
      "8.023125648498535\n",
      "8.519046783447266\n",
      "5.962301731109619\n",
      "4.790587902069092\n",
      "8.567559242248535\n",
      "3.9674012660980225\n",
      "4.31404447555542\n",
      "8.353779792785645\n",
      "9.217900276184082\n",
      "9.328041076660156\n",
      "5.456575393676758\n",
      "8.348846435546875\n",
      "10.031440734863281\n",
      "7.969422817230225\n",
      "8.133404731750488\n",
      "4.84697151184082\n",
      "5.71191930770874\n",
      "13.170501708984375\n",
      "9.126588821411133\n",
      "9.083700180053711\n",
      "8.630777359008789\n",
      "4.027346134185791\n",
      "5.74554967880249\n",
      "7.960948467254639\n",
      "6.04304838180542\n",
      "5.868735313415527\n",
      "5.525210380554199\n",
      "6.666893005371094\n",
      "9.176331520080566\n",
      "5.162924766540527\n",
      "8.377680778503418\n",
      "13.266317367553711\n",
      "14.175628662109375\n",
      "3.558582305908203\n",
      "6.661835670471191\n",
      "8.579940795898438\n",
      "5.319143772125244\n",
      "5.0936102867126465\n",
      "7.3330769538879395\n",
      "7.2209882736206055\n",
      "4.004449367523193\n",
      "8.476455688476562\n",
      "5.624093055725098\n",
      "3.3438172340393066\n",
      "8.598799705505371\n",
      "8.61077880859375\n",
      "6.01824426651001\n",
      "5.638559818267822\n",
      "12.871447563171387\n",
      "6.562836170196533\n",
      "4.756613731384277\n",
      "5.074132442474365\n",
      "10.959548950195312\n",
      "5.6608052253723145\n",
      "6.275976657867432\n",
      "7.604660987854004\n",
      "13.171634674072266\n",
      "4.389017105102539\n",
      "6.056313991546631\n",
      "7.7747368812561035\n",
      "13.677325248718262\n",
      "6.191256523132324\n",
      "6.7946553230285645\n",
      "13.15269947052002\n",
      "5.851165771484375\n",
      "8.411320686340332\n",
      "5.51550817489624\n",
      "9.381979942321777\n",
      "5.306086540222168\n",
      "4.771907806396484\n",
      "5.309803009033203\n",
      "8.293153762817383\n",
      "4.1976447105407715\n",
      "5.463648796081543\n",
      "5.635024070739746\n",
      "13.438759803771973\n",
      "8.206449508666992\n",
      "6.762010097503662\n",
      "4.613600254058838\n",
      "14.390605926513672\n",
      "3.494875431060791\n",
      "8.80311107635498\n",
      "6.525319576263428\n",
      "9.6052827835083\n",
      "8.407939910888672\n",
      "5.710541248321533\n",
      "8.59366226196289\n",
      "13.856687545776367\n",
      "8.047294616699219\n",
      "7.480342388153076\n",
      "8.073177337646484\n",
      "8.514029502868652\n",
      "6.58819055557251\n",
      "5.3877458572387695\n",
      "5.453840255737305\n",
      "8.182755470275879\n",
      "8.2619047164917\n",
      "8.573267936706543\n",
      "8.580382347106934\n",
      "5.4174065589904785\n",
      "4.250316619873047\n",
      "9.773120880126953\n",
      "5.358119487762451\n",
      "12.938241958618164\n",
      "6.323601722717285\n",
      "9.56466293334961\n",
      "9.008913040161133\n",
      "7.905193328857422\n",
      "8.151845932006836\n",
      "8.669692993164062\n",
      "8.443203926086426\n",
      "7.2598443031311035\n",
      "8.410816192626953\n",
      "5.768614292144775\n",
      "13.51458740234375\n",
      "7.518017768859863\n",
      "9.895841598510742\n",
      "7.785207748413086\n",
      "3.657527208328247\n",
      "7.832606315612793\n",
      "7.633121490478516\n",
      "5.691175937652588\n",
      "7.657407283782959\n",
      "6.9798784255981445\n",
      "9.464583396911621\n",
      "5.088668346405029\n",
      "5.662312030792236\n",
      "8.116728782653809\n",
      "8.474735260009766\n",
      "4.9026923179626465\n",
      "8.006935119628906\n",
      "9.117775917053223\n",
      "6.643537521362305\n",
      "9.232525825500488\n",
      "5.520956993103027\n",
      "5.851446151733398\n",
      "10.346942901611328\n",
      "13.108809471130371\n",
      "8.30040168762207\n",
      "8.921436309814453\n",
      "5.070224285125732\n",
      "9.494754791259766\n",
      "8.42166519165039\n",
      "6.600086212158203\n",
      "4.5485148429870605\n",
      "6.80357027053833\n",
      "9.409553527832031\n",
      "5.27591609954834\n",
      "9.309895515441895\n",
      "7.778502464294434\n",
      "13.196920394897461\n",
      "4.789998531341553\n",
      "13.593891143798828\n",
      "7.767474174499512\n",
      "9.689571380615234\n",
      "8.60688591003418\n",
      "8.513696670532227\n",
      "6.645761489868164\n",
      "5.308995246887207\n",
      "8.509730339050293\n",
      "5.625315189361572\n",
      "13.254363059997559\n",
      "6.046549320220947\n",
      "9.69504451751709\n",
      "11.196065902709961\n",
      "6.610450744628906\n",
      "5.179441452026367\n",
      "5.310608386993408\n",
      "6.18939733505249\n",
      "5.977410316467285\n",
      "8.50031566619873\n",
      "11.199004173278809\n",
      "5.883951187133789\n",
      "4.63616418838501\n",
      "6.118312835693359\n",
      "8.6407470703125\n",
      "5.935573577880859\n",
      "7.258277416229248\n",
      "3.814069986343384\n",
      "7.9139227867126465\n",
      "4.421854019165039\n",
      "5.31045389175415\n",
      "6.47630500793457\n",
      "5.6575541496276855\n",
      "4.001068115234375\n",
      "6.262556552886963\n",
      "7.772757530212402\n",
      "9.182541847229004\n",
      "8.81808853149414\n",
      "4.445623397827148\n",
      "8.64376449584961\n",
      "8.152087211608887\n",
      "13.324321746826172\n",
      "8.08307933807373\n"
     ]
    }
   ],
   "source": [
    "for key in testpos2i.keys():\n",
    "    print(torch.norm(testpos2i[key]-testpos2[key]).item())"
   ]
  },
  {
   "cell_type": "code",
   "execution_count": 86,
   "metadata": {
    "ExecuteTime": {
     "end_time": "2020-02-08T18:00:22.349337Z",
     "start_time": "2020-02-08T18:00:22.315484Z"
    }
   },
   "outputs": [
    {
     "data": {
      "text/plain": [
       "True"
      ]
     },
     "execution_count": 86,
     "metadata": {},
     "output_type": "execute_result"
    }
   ],
   "source": [
    "testpos2i.keys()==testpos2.keys()"
   ]
  },
  {
   "cell_type": "code",
   "execution_count": null,
   "metadata": {},
   "outputs": [],
   "source": []
  }
 ],
 "metadata": {
  "kernelspec": {
   "display_name": "Python 3",
   "language": "python",
   "name": "python3"
  },
  "language_info": {
   "codemirror_mode": {
    "name": "ipython",
    "version": 3
   },
   "file_extension": ".py",
   "mimetype": "text/x-python",
   "name": "python",
   "nbconvert_exporter": "python",
   "pygments_lexer": "ipython3",
   "version": "3.6.10"
  },
  "toc": {
   "base_numbering": 1,
   "nav_menu": {},
   "number_sections": true,
   "sideBar": true,
   "skip_h1_title": false,
   "title_cell": "Table of Contents",
   "title_sidebar": "Contents",
   "toc_cell": false,
   "toc_position": {
    "height": "calc(100% - 180px)",
    "left": "10px",
    "top": "150px",
    "width": "225.4px"
   },
   "toc_section_display": true,
   "toc_window_display": true
  }
 },
 "nbformat": 4,
 "nbformat_minor": 2
}

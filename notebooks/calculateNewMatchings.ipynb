{
 "cells": [
  {
   "cell_type": "code",
   "execution_count": 1,
   "metadata": {
    "ExecuteTime": {
     "end_time": "2020-05-08T14:02:52.372967Z",
     "start_time": "2020-05-08T14:02:52.354010Z"
    }
   },
   "outputs": [],
   "source": [
    "%load_ext autoreload\n",
    "%autoreload 2"
   ]
  },
  {
   "cell_type": "code",
   "execution_count": 2,
   "metadata": {
    "ExecuteTime": {
     "end_time": "2020-05-08T14:02:53.086926Z",
     "start_time": "2020-05-08T14:02:53.075007Z"
    }
   },
   "outputs": [],
   "source": [
    "import sys\n",
    "sys.path.append('..')"
   ]
  },
  {
   "cell_type": "code",
   "execution_count": 3,
   "metadata": {
    "ExecuteTime": {
     "end_time": "2020-05-08T14:02:55.635965Z",
     "start_time": "2020-05-08T14:02:54.188285Z"
    }
   },
   "outputs": [],
   "source": [
    "import deepmatcher as dm\n",
    "import pandas as pd\n",
    "import math,re\n",
    "from collections import Counter"
   ]
  },
  {
   "cell_type": "code",
   "execution_count": 4,
   "metadata": {
    "ExecuteTime": {
     "end_time": "2020-05-08T14:02:55.660702Z",
     "start_time": "2020-05-08T14:02:55.637993Z"
    }
   },
   "outputs": [],
   "source": [
    "WORD = re.compile(r'\\w+')\n",
    "\n",
    "#calcola la cos similarity di due vettori\n",
    "def get_cosine(text1,text2):\n",
    "    vec1 = text_to_vector(text1)\n",
    "    vec2 = text_to_vector(text2)\n",
    "    intersection = set(vec1.keys()) & set(vec2.keys())\n",
    "    numerator = sum([vec1[x] * vec2[x] for x in intersection])\n",
    "\n",
    "    sum1 = sum([vec1[x]**2 for x in vec1.keys()])\n",
    "    sum2 = sum([vec2[x]**2 for x in vec2.keys()])\n",
    "    denominator = math.sqrt(sum1) * math.sqrt(sum2)\n",
    "\n",
    "    if not denominator:\n",
    "        return 0.0\n",
    "    else:\n",
    "        return float(numerator) / denominator\n",
    "\n",
    "def text_to_vector(text):\n",
    "     words = WORD.findall(text)\n",
    "     return Counter(words)"
   ]
  },
  {
   "cell_type": "code",
   "execution_count": 5,
   "metadata": {
    "ExecuteTime": {
     "end_time": "2020-05-08T14:13:15.515797Z",
     "start_time": "2020-05-08T14:13:15.479619Z"
    }
   },
   "outputs": [],
   "source": [
    "def findPossibleMatching(record,source,min_similarity):\n",
    "    record2text = \" \".join([val for k,val in record.to_dict().items() if k not in ['id']])\n",
    "    source_without_id = source.copy()\n",
    "    source_without_id = source_without_id.drop(['id'],axis=1)\n",
    "    source_ids = source.id.values\n",
    "    #for a faster iteration\n",
    "    source_without_id = source_without_id.values\n",
    "    possibleMatchings = []\n",
    "    for idx,row in enumerate(source_without_id):\n",
    "        currentRecord = \" \".join(row)\n",
    "        currentSimilarity = get_cosine(record2text,currentRecord)\n",
    "        if currentSimilarity>=min_similarity:\n",
    "            possibleMatchings.append((record['id'],source_ids[idx]))\n",
    "    return pd.DataFrame(possibleMatchings,columns=['ltable_id','rtable_id'])"
   ]
  },
  {
   "cell_type": "code",
   "execution_count": 9,
   "metadata": {
    "ExecuteTime": {
     "end_time": "2020-05-08T14:16:17.600446Z",
     "start_time": "2020-05-08T14:16:17.566987Z"
    }
   },
   "outputs": [],
   "source": [
    "def buildDatasetForLocalExplanations(r1,r2,lsource,rsource,min_similarity):\n",
    "    candidates4r1 = findPossibleMatching(r1,rsource,min_similarity)\n",
    "    candidates4r2 = findPossibleMatching(r2,lsource,min_similarity)\n",
    "    r1r2 = pd.DataFrame(data=[[r1.id,r2.id]],columns=['ltable_id','rtable_id'])\n",
    "    return pd.concat([candidates4r1,candidates4r2,r1r2],ignore_index=True)"
   ]
  },
  {
   "cell_type": "code",
   "execution_count": 8,
   "metadata": {
    "ExecuteTime": {
     "end_time": "2020-05-08T14:15:33.384716Z",
     "start_time": "2020-05-08T14:15:33.349595Z"
    }
   },
   "outputs": [
    {
     "data": {
      "text/html": [
       "<div>\n",
       "<style scoped>\n",
       "    .dataframe tbody tr th:only-of-type {\n",
       "        vertical-align: middle;\n",
       "    }\n",
       "\n",
       "    .dataframe tbody tr th {\n",
       "        vertical-align: top;\n",
       "    }\n",
       "\n",
       "    .dataframe thead th {\n",
       "        text-align: right;\n",
       "    }\n",
       "</style>\n",
       "<table border=\"1\" class=\"dataframe\">\n",
       "  <thead>\n",
       "    <tr style=\"text-align: right;\">\n",
       "      <th></th>\n",
       "      <th>ltable_id</th>\n",
       "      <th>rtable_id</th>\n",
       "    </tr>\n",
       "  </thead>\n",
       "  <tbody>\n",
       "    <tr>\n",
       "      <th>0</th>\n",
       "      <td>10</td>\n",
       "      <td>20</td>\n",
       "    </tr>\n",
       "  </tbody>\n",
       "</table>\n",
       "</div>"
      ],
      "text/plain": [
       "   ltable_id  rtable_id\n",
       "0         10         20"
      ]
     },
     "execution_count": 8,
     "metadata": {},
     "output_type": "execute_result"
    }
   ],
   "source": [
    "pd.DataFrame(data=[[10,20]],columns=['ltable_id','rtable_id'])"
   ]
  },
  {
   "cell_type": "code",
   "execution_count": 6,
   "metadata": {
    "ExecuteTime": {
     "end_time": "2020-05-08T11:01:36.957781Z",
     "start_time": "2020-05-08T11:01:36.693113Z"
    }
   },
   "outputs": [],
   "source": [
    "itunes = pd.read_csv('../datasets/Structured/itunes-amazon/tableA.csv',dtype=str).fillna(\"\")\n",
    "amazon = pd.read_csv('../datasets/Structured/itunes-amazon/tableB.csv',dtype=str).fillna(\"\")\n",
    "r1 = itunes.iloc[0]"
   ]
  },
  {
   "cell_type": "code",
   "execution_count": 7,
   "metadata": {
    "ExecuteTime": {
     "end_time": "2020-05-08T11:01:40.005022Z",
     "start_time": "2020-05-08T11:01:37.624576Z"
    }
   },
   "outputs": [
    {
     "data": {
      "text/html": [
       "<div>\n",
       "<style scoped>\n",
       "    .dataframe tbody tr th:only-of-type {\n",
       "        vertical-align: middle;\n",
       "    }\n",
       "\n",
       "    .dataframe tbody tr th {\n",
       "        vertical-align: top;\n",
       "    }\n",
       "\n",
       "    .dataframe thead th {\n",
       "        text-align: right;\n",
       "    }\n",
       "</style>\n",
       "<table border=\"1\" class=\"dataframe\">\n",
       "  <thead>\n",
       "    <tr style=\"text-align: right;\">\n",
       "      <th></th>\n",
       "      <th>ltable_id</th>\n",
       "      <th>rtable_id</th>\n",
       "    </tr>\n",
       "  </thead>\n",
       "  <tbody>\n",
       "    <tr>\n",
       "      <th>0</th>\n",
       "      <td>0</td>\n",
       "      <td>53944</td>\n",
       "    </tr>\n",
       "    <tr>\n",
       "      <th>1</th>\n",
       "      <td>0</td>\n",
       "      <td>53945</td>\n",
       "    </tr>\n",
       "    <tr>\n",
       "      <th>2</th>\n",
       "      <td>0</td>\n",
       "      <td>53946</td>\n",
       "    </tr>\n",
       "    <tr>\n",
       "      <th>3</th>\n",
       "      <td>0</td>\n",
       "      <td>53947</td>\n",
       "    </tr>\n",
       "  </tbody>\n",
       "</table>\n",
       "</div>"
      ],
      "text/plain": [
       "  ltable_id rtable_id\n",
       "0         0     53944\n",
       "1         0     53945\n",
       "2         0     53946\n",
       "3         0     53947"
      ]
     },
     "execution_count": 7,
     "metadata": {},
     "output_type": "execute_result"
    }
   ],
   "source": [
    "findPossibleMatching(r1,amazon,0.5)"
   ]
  },
  {
   "cell_type": "code",
   "execution_count": 10,
   "metadata": {
    "ExecuteTime": {
     "end_time": "2020-05-06T16:48:53.588639Z",
     "start_time": "2020-05-06T16:48:53.580890Z"
    }
   },
   "outputs": [
    {
     "data": {
      "text/plain": [
       "id                                                             0\n",
       "Song_Name                                          Runaway Train\n",
       "Artist_Name                                                  Cam\n",
       "Album_Name                           Welcome to Cam Country - EP\n",
       "Genre          Country , Music , Contemporary Country , Honky...\n",
       "Price                                                     $ 0.99\n",
       "CopyRight                          2015 Sony Music Entertainment\n",
       "Time                                                        3:01\n",
       "Released                                               31-Mar-15\n",
       "Name: 0, dtype: object"
      ]
     },
     "execution_count": 10,
     "metadata": {},
     "output_type": "execute_result"
    }
   ],
   "source": [
    "r1"
   ]
  },
  {
   "cell_type": "code",
   "execution_count": 11,
   "metadata": {
    "ExecuteTime": {
     "end_time": "2020-05-06T16:48:54.674332Z",
     "start_time": "2020-05-06T16:48:54.666477Z"
    }
   },
   "outputs": [
    {
     "data": {
      "text/plain": [
       "id                                          53947\n",
       "Song_Name                           Runaway Train\n",
       "Artist_Name                                   Cam\n",
       "Album_Name            Welcome to Cam Country - EP\n",
       "Genre                                     Country\n",
       "Price                                      $ 0.99\n",
       "CopyRight      ( C ) 2009 Cash Money Records Inc.\n",
       "Time                                         3:01\n",
       "Released                          March 31 , 2015\n",
       "Name: 53947, dtype: object"
      ]
     },
     "execution_count": 11,
     "metadata": {},
     "output_type": "execute_result"
    }
   ],
   "source": [
    "amazon.iloc[53947]"
   ]
  },
  {
   "cell_type": "code",
   "execution_count": 12,
   "metadata": {
    "ExecuteTime": {
     "end_time": "2020-05-06T16:48:58.488958Z",
     "start_time": "2020-05-06T16:48:57.880610Z"
    }
   },
   "outputs": [
    {
     "data": {
      "text/html": [
       "<div>\n",
       "<style scoped>\n",
       "    .dataframe tbody tr th:only-of-type {\n",
       "        vertical-align: middle;\n",
       "    }\n",
       "\n",
       "    .dataframe tbody tr th {\n",
       "        vertical-align: top;\n",
       "    }\n",
       "\n",
       "    .dataframe thead th {\n",
       "        text-align: right;\n",
       "    }\n",
       "</style>\n",
       "<table border=\"1\" class=\"dataframe\">\n",
       "  <thead>\n",
       "    <tr style=\"text-align: right;\">\n",
       "      <th></th>\n",
       "      <th>ltable_id</th>\n",
       "      <th>rtable_id</th>\n",
       "    </tr>\n",
       "  </thead>\n",
       "  <tbody>\n",
       "    <tr>\n",
       "      <th>0</th>\n",
       "      <td>300</td>\n",
       "      <td>119</td>\n",
       "    </tr>\n",
       "    <tr>\n",
       "      <th>1</th>\n",
       "      <td>300</td>\n",
       "      <td>300</td>\n",
       "    </tr>\n",
       "    <tr>\n",
       "      <th>2</th>\n",
       "      <td>300</td>\n",
       "      <td>324</td>\n",
       "    </tr>\n",
       "  </tbody>\n",
       "</table>\n",
       "</div>"
      ],
      "text/plain": [
       "  ltable_id rtable_id\n",
       "0       300       119\n",
       "1       300       300\n",
       "2       300       324"
      ]
     },
     "execution_count": 12,
     "metadata": {},
     "output_type": "execute_result"
    }
   ],
   "source": [
    "r2 = itunes.iloc[300]\n",
    "findPossibleMatching(r2,itunes,0.5)"
   ]
  },
  {
   "cell_type": "code",
   "execution_count": 13,
   "metadata": {
    "ExecuteTime": {
     "end_time": "2020-05-06T16:49:33.611469Z",
     "start_time": "2020-05-06T16:49:33.603923Z"
    }
   },
   "outputs": [
    {
     "data": {
      "text/plain": [
       "id                                                           300\n",
       "Song_Name                                                  Tiger\n",
       "Artist_Name                                       Emeli Sand ' ©\n",
       "Album_Name                                 Our Version of Events\n",
       "Genre          Pop , Music , Rock , Singer/Songwriter , Conte...\n",
       "Price                                                     $ 1.29\n",
       "CopyRight      2012 The copyright in this sound recording is ...\n",
       "Time                                                        2:58\n",
       "Released                                                5-Jun-12\n",
       "Name: 300, dtype: object"
      ]
     },
     "execution_count": 13,
     "metadata": {},
     "output_type": "execute_result"
    }
   ],
   "source": [
    "r2"
   ]
  },
  {
   "cell_type": "code",
   "execution_count": 18,
   "metadata": {
    "ExecuteTime": {
     "end_time": "2020-05-06T16:56:44.880350Z",
     "start_time": "2020-05-06T16:56:44.266411Z"
    }
   },
   "outputs": [],
   "source": [
    "r3 = itunes.iloc[200]\n",
    "unlabeled = findPossibleMatching(r2,itunes,0.4)\n",
    "unlabeled.to_csv('../datasets/Structured/itunes-amazon/itunes_amazon_unlabeled1.csv',index=False)"
   ]
  },
  {
   "cell_type": "markdown",
   "metadata": {},
   "source": [
    "## Generate new unlabeled data\n",
    "we generate new unlabeled data starting from 50 randomly chosen records"
   ]
  },
  {
   "cell_type": "code",
   "execution_count": 10,
   "metadata": {
    "ExecuteTime": {
     "end_time": "2020-05-08T14:22:11.515358Z",
     "start_time": "2020-05-08T14:22:11.482214Z"
    }
   },
   "outputs": [],
   "source": [
    "from utils.deepmatcher_utils import wrapDm\n",
    "from utils.dataset_parser import generate_unlabeled"
   ]
  },
  {
   "cell_type": "code",
   "execution_count": 11,
   "metadata": {
    "ExecuteTime": {
     "end_time": "2020-05-08T14:22:13.132749Z",
     "start_time": "2020-05-08T14:22:13.104782Z"
    }
   },
   "outputs": [],
   "source": [
    "import random as rd\n",
    "from tqdm import tqdm"
   ]
  },
  {
   "cell_type": "code",
   "execution_count": 16,
   "metadata": {
    "ExecuteTime": {
     "end_time": "2020-05-08T11:03:43.244685Z",
     "start_time": "2020-05-08T11:03:38.502657Z"
    }
   },
   "outputs": [],
   "source": [
    "itunes_amz_hybrid = dm.MatchingModel(attr_summarizer='hybrid')\n",
    "itunes_amz_hybrid.load_state('../models/itunes_amazon_hybrid.pth')"
   ]
  },
  {
   "cell_type": "code",
   "execution_count": 20,
   "metadata": {
    "ExecuteTime": {
     "end_time": "2020-05-08T11:07:29.973673Z",
     "start_time": "2020-05-08T11:07:29.939655Z"
    }
   },
   "outputs": [],
   "source": [
    "def getUnlabeled_ids(len_unlabeled,sources,min_similarity=0.5):\n",
    "    unlabeled_ids = []\n",
    "    rd.seed(0)\n",
    "    for i in tqdm(range(len_unlabeled)):\n",
    "        current_id = rd.choice(sources[0].id.values)\n",
    "        current_record = sources[0][sources[0].id==current_id].iloc[0]\n",
    "        unlabeled_ids.append(findPossibleMatching(current_record,sources[1],0.5))\n",
    "    return pd.concat(unlabeled_ids,ignore_index=True)"
   ]
  },
  {
   "cell_type": "code",
   "execution_count": 10,
   "metadata": {
    "ExecuteTime": {
     "end_time": "2020-05-08T11:02:49.643668Z",
     "start_time": "2020-05-08T11:01:59.929411Z"
    }
   },
   "outputs": [
    {
     "name": "stderr",
     "output_type": "stream",
     "text": [
      "100%|██████████| 20/20 [00:49<00:00,  2.47s/it]\n"
     ]
    }
   ],
   "source": [
    "itunes = pd.read_csv('../datasets/Structured/itunes-amazon/tableA.csv',dtype=str).fillna(\"\")\n",
    "amazon = pd.read_csv('../datasets/Structured/itunes-amazon/tableB.csv',dtype=str).fillna(\"\")\n",
    "unlabeled_ids = getUnlabeled_ids(20,[itunes,amazon])"
   ]
  },
  {
   "cell_type": "code",
   "execution_count": 11,
   "metadata": {
    "ExecuteTime": {
     "end_time": "2020-05-08T11:02:50.476776Z",
     "start_time": "2020-05-08T11:02:50.430897Z"
    }
   },
   "outputs": [],
   "source": [
    "unlabeled_ids.to_csv('../datasets/Structured/itunes-amazon/unlabeled_ids.csv',index=False)"
   ]
  },
  {
   "cell_type": "code",
   "execution_count": 17,
   "metadata": {
    "ExecuteTime": {
     "end_time": "2020-05-08T11:04:05.011590Z",
     "start_time": "2020-05-08T11:03:43.778354Z"
    }
   },
   "outputs": [],
   "source": [
    "unlabeled_df = generate_unlabeled('../datasets/Structured/itunes-amazon/','unlabeled_ids.csv')\n",
    "predictions = wrapDm(unlabeled_df,itunes_amz_hybrid,[],outputAttributes=True)"
   ]
  },
  {
   "cell_type": "code",
   "execution_count": 18,
   "metadata": {
    "ExecuteTime": {
     "end_time": "2020-05-08T11:04:39.376883Z",
     "start_time": "2020-05-08T11:04:39.308904Z"
    }
   },
   "outputs": [
    {
     "data": {
      "text/html": [
       "<div>\n",
       "<style scoped>\n",
       "    .dataframe tbody tr th:only-of-type {\n",
       "        vertical-align: middle;\n",
       "    }\n",
       "\n",
       "    .dataframe tbody tr th {\n",
       "        vertical-align: top;\n",
       "    }\n",
       "\n",
       "    .dataframe thead th {\n",
       "        text-align: right;\n",
       "    }\n",
       "</style>\n",
       "<table border=\"1\" class=\"dataframe\">\n",
       "  <thead>\n",
       "    <tr style=\"text-align: right;\">\n",
       "      <th></th>\n",
       "      <th>match_score</th>\n",
       "      <th>ltable_Song_Name</th>\n",
       "      <th>ltable_Artist_Name</th>\n",
       "      <th>ltable_Album_Name</th>\n",
       "      <th>ltable_Genre</th>\n",
       "      <th>ltable_Price</th>\n",
       "      <th>ltable_CopyRight</th>\n",
       "      <th>ltable_Time</th>\n",
       "      <th>ltable_Released</th>\n",
       "      <th>rtable_Song_Name</th>\n",
       "      <th>rtable_Artist_Name</th>\n",
       "      <th>rtable_Album_Name</th>\n",
       "      <th>rtable_Genre</th>\n",
       "      <th>rtable_Price</th>\n",
       "      <th>rtable_CopyRight</th>\n",
       "      <th>rtable_Time</th>\n",
       "      <th>rtable_Released</th>\n",
       "    </tr>\n",
       "    <tr>\n",
       "      <th>id</th>\n",
       "      <th></th>\n",
       "      <th></th>\n",
       "      <th></th>\n",
       "      <th></th>\n",
       "      <th></th>\n",
       "      <th></th>\n",
       "      <th></th>\n",
       "      <th></th>\n",
       "      <th></th>\n",
       "      <th></th>\n",
       "      <th></th>\n",
       "      <th></th>\n",
       "      <th></th>\n",
       "      <th></th>\n",
       "      <th></th>\n",
       "      <th></th>\n",
       "      <th></th>\n",
       "    </tr>\n",
       "  </thead>\n",
       "  <tbody>\n",
       "    <tr>\n",
       "      <th>1</th>\n",
       "      <td>0.947451</td>\n",
       "      <td>We Made You</td>\n",
       "      <td>Eminem</td>\n",
       "      <td>Relapse : Refill</td>\n",
       "      <td>Hip-Hop/Rap , Music , Rap , Hardcore Rap</td>\n",
       "      <td>$ 1.29</td>\n",
       "      <td>‰ ãÑ 2009 Aftermath Records</td>\n",
       "      <td>4:29</td>\n",
       "      <td>21-Dec-09</td>\n",
       "      <td>We Made You ( Album Version )</td>\n",
       "      <td>Eminem</td>\n",
       "      <td>Relapse ( Explicit Version ) [ Explicit ]</td>\n",
       "      <td>Gangsta &amp; Hardcore , Rap &amp; Hip-Hop</td>\n",
       "      <td>$ 1.29</td>\n",
       "      <td>( C ) 2009 Aftermath Records</td>\n",
       "      <td>4:29</td>\n",
       "      <td>May 19 , 2009</td>\n",
       "    </tr>\n",
       "    <tr>\n",
       "      <th>11</th>\n",
       "      <td>0.988292</td>\n",
       "      <td>We Made You</td>\n",
       "      <td>Eminem</td>\n",
       "      <td>Relapse : Refill</td>\n",
       "      <td>Hip-Hop/Rap , Music , Rap , Hardcore Rap</td>\n",
       "      <td>$ 1.29</td>\n",
       "      <td>‰ ãÑ 2009 Aftermath Records</td>\n",
       "      <td>4:29</td>\n",
       "      <td>21-Dec-09</td>\n",
       "      <td>We Made You</td>\n",
       "      <td>Eminem</td>\n",
       "      <td>Relapse : Refill [ Explicit ]</td>\n",
       "      <td>Rap &amp; Hip-Hop</td>\n",
       "      <td>$ 1.29</td>\n",
       "      <td>( C ) 2009 Aftermath Records</td>\n",
       "      <td>4:29</td>\n",
       "      <td>December 21 , 2009</td>\n",
       "    </tr>\n",
       "    <tr>\n",
       "      <th>16</th>\n",
       "      <td>0.582520</td>\n",
       "      <td>We Made You</td>\n",
       "      <td>Eminem</td>\n",
       "      <td>Relapse : Refill</td>\n",
       "      <td>Hip-Hop/Rap , Music , Rap , Hardcore Rap</td>\n",
       "      <td>$ 1.29</td>\n",
       "      <td>‰ ãÑ 2009 Aftermath Records</td>\n",
       "      <td>4:29</td>\n",
       "      <td>21-Dec-09</td>\n",
       "      <td>Old Time 's Sake [ feat . Dr. Dre ] [ Explicit ]</td>\n",
       "      <td>Eminem</td>\n",
       "      <td>Relapse : Refill [ Explicit ]</td>\n",
       "      <td>Rap &amp; Hip-Hop</td>\n",
       "      <td>$ 1.29</td>\n",
       "      <td>( C ) 2009 Aftermath Records</td>\n",
       "      <td>4:38</td>\n",
       "      <td>December 21 , 2009</td>\n",
       "    </tr>\n",
       "    <tr>\n",
       "      <th>30</th>\n",
       "      <td>0.766056</td>\n",
       "      <td>Stay Wide Awake</td>\n",
       "      <td>Eminem</td>\n",
       "      <td>Relapse : Refill</td>\n",
       "      <td>Hip-Hop/Rap , Music , Rap , Hardcore Rap</td>\n",
       "      <td>$ 1.29</td>\n",
       "      <td>‰ ãÑ 2009 Aftermath Records</td>\n",
       "      <td>5:19</td>\n",
       "      <td>21-Dec-09</td>\n",
       "      <td>Then</td>\n",
       "      <td>Eminem</td>\n",
       "      <td>Relaxing Modern Country</td>\n",
       "      <td>Rap &amp; Hip-Hop</td>\n",
       "      <td>$ 1.29</td>\n",
       "      <td>( C ) 2009 Aftermath Records</td>\n",
       "      <td>5:21</td>\n",
       "      <td>NaN</td>\n",
       "    </tr>\n",
       "    <tr>\n",
       "      <th>31</th>\n",
       "      <td>0.629128</td>\n",
       "      <td>We Made You</td>\n",
       "      <td>Eminem</td>\n",
       "      <td>Relapse : Refill</td>\n",
       "      <td>Hip-Hop/Rap , Music , Rap , Hardcore Rap</td>\n",
       "      <td>$ 1.29</td>\n",
       "      <td>‰ ãÑ 2009 Aftermath Records</td>\n",
       "      <td>4:29</td>\n",
       "      <td>21-Dec-09</td>\n",
       "      <td>Then</td>\n",
       "      <td>Eminem</td>\n",
       "      <td>Relaxing Modern Country</td>\n",
       "      <td>Rap &amp; Hip-Hop</td>\n",
       "      <td>$ 1.29</td>\n",
       "      <td>( C ) 2009 Aftermath Records</td>\n",
       "      <td>5:21</td>\n",
       "      <td>NaN</td>\n",
       "    </tr>\n",
       "    <tr>\n",
       "      <th>...</th>\n",
       "      <td>...</td>\n",
       "      <td>...</td>\n",
       "      <td>...</td>\n",
       "      <td>...</td>\n",
       "      <td>...</td>\n",
       "      <td>...</td>\n",
       "      <td>...</td>\n",
       "      <td>...</td>\n",
       "      <td>...</td>\n",
       "      <td>...</td>\n",
       "      <td>...</td>\n",
       "      <td>...</td>\n",
       "      <td>...</td>\n",
       "      <td>...</td>\n",
       "      <td>...</td>\n",
       "      <td>...</td>\n",
       "      <td>...</td>\n",
       "    </tr>\n",
       "    <tr>\n",
       "      <th>1297</th>\n",
       "      <td>0.756217</td>\n",
       "      <td>Once In a Lifetime ( Live In Gwinnett , GA )</td>\n",
       "      <td>Keith Urban</td>\n",
       "      <td>Get Closer ( Deluxe Version )</td>\n",
       "      <td>Country , Music , Honky Tonk , Pop , Pop/Rock ...</td>\n",
       "      <td>$ 1.29</td>\n",
       "      <td>‰ ãÑ 2010 Hit Red Records under exclusive lice...</td>\n",
       "      <td>7:10</td>\n",
       "      <td>22-Feb-11</td>\n",
       "      <td>Once In A Lifetime ( Live in Gwinnett , GA )</td>\n",
       "      <td>Keith Urban</td>\n",
       "      <td>Get Closer ( Deluxe Version )</td>\n",
       "      <td>Country</td>\n",
       "      <td>$ 1.29</td>\n",
       "      <td>( C ) 2011 Hit Red Records under exclusive lic...</td>\n",
       "      <td>7:10</td>\n",
       "      <td>February 22 , 2011</td>\n",
       "    </tr>\n",
       "    <tr>\n",
       "      <th>1303</th>\n",
       "      <td>0.996493</td>\n",
       "      <td>Seven Days</td>\n",
       "      <td>Kenny Chesney</td>\n",
       "      <td>Hemingway 's Whiskey</td>\n",
       "      <td>Country , Music , Honky Tonk , Contemporary Co...</td>\n",
       "      <td>$ 1.29</td>\n",
       "      <td>‰ ãÑ 2010 Sony Music Entertainment</td>\n",
       "      <td>4:19</td>\n",
       "      <td>28-Sep-10</td>\n",
       "      <td>Seven Days</td>\n",
       "      <td>Kenny Chesney</td>\n",
       "      <td>Hemingway 's Whiskey</td>\n",
       "      <td>Country</td>\n",
       "      <td>$ 1.29</td>\n",
       "      <td>( C ) 2012 Hollywood Records , Inc.</td>\n",
       "      <td>4:19</td>\n",
       "      <td>September 28 , 2010</td>\n",
       "    </tr>\n",
       "    <tr>\n",
       "      <th>1304</th>\n",
       "      <td>0.862508</td>\n",
       "      <td>Seven Days</td>\n",
       "      <td>Kenny Chesney</td>\n",
       "      <td>Hemingway 's Whiskey</td>\n",
       "      <td>Country , Music , Honky Tonk , Contemporary Co...</td>\n",
       "      <td>$ 1.29</td>\n",
       "      <td>‰ ãÑ 2010 Sony Music Entertainment</td>\n",
       "      <td>4:19</td>\n",
       "      <td>28-Sep-10</td>\n",
       "      <td>Hemingway 's Whiskey</td>\n",
       "      <td>Kenny Chesney</td>\n",
       "      <td>Hemingway 's Whiskey</td>\n",
       "      <td>Country</td>\n",
       "      <td>$ 1.29</td>\n",
       "      <td>( C ) 2012 Hollywood Records , Inc.</td>\n",
       "      <td>3:29</td>\n",
       "      <td>September 28 , 2010</td>\n",
       "    </tr>\n",
       "    <tr>\n",
       "      <th>1305</th>\n",
       "      <td>0.996493</td>\n",
       "      <td>Seven Days</td>\n",
       "      <td>Kenny Chesney</td>\n",
       "      <td>Hemingway 's Whiskey</td>\n",
       "      <td>Country , Music , Honky Tonk , Contemporary Co...</td>\n",
       "      <td>$ 1.29</td>\n",
       "      <td>‰ ãÑ 2010 Sony Music Entertainment</td>\n",
       "      <td>4:19</td>\n",
       "      <td>28-Sep-10</td>\n",
       "      <td>Seven Days</td>\n",
       "      <td>Kenny Chesney</td>\n",
       "      <td>Hemingway 's Whiskey</td>\n",
       "      <td>Country</td>\n",
       "      <td>$ 1.29</td>\n",
       "      <td>( C ) 2012 Hollywood Records , Inc.</td>\n",
       "      <td>4:19</td>\n",
       "      <td>September 28 , 2010</td>\n",
       "    </tr>\n",
       "    <tr>\n",
       "      <th>1306</th>\n",
       "      <td>0.862508</td>\n",
       "      <td>Seven Days</td>\n",
       "      <td>Kenny Chesney</td>\n",
       "      <td>Hemingway 's Whiskey</td>\n",
       "      <td>Country , Music , Honky Tonk , Contemporary Co...</td>\n",
       "      <td>$ 1.29</td>\n",
       "      <td>‰ ãÑ 2010 Sony Music Entertainment</td>\n",
       "      <td>4:19</td>\n",
       "      <td>28-Sep-10</td>\n",
       "      <td>Hemingway 's Whiskey</td>\n",
       "      <td>Kenny Chesney</td>\n",
       "      <td>Hemingway 's Whiskey</td>\n",
       "      <td>Country</td>\n",
       "      <td>$ 1.29</td>\n",
       "      <td>( C ) 2012 Hollywood Records , Inc.</td>\n",
       "      <td>3:29</td>\n",
       "      <td>September 28 , 2010</td>\n",
       "    </tr>\n",
       "  </tbody>\n",
       "</table>\n",
       "<p>440 rows × 17 columns</p>\n",
       "</div>"
      ],
      "text/plain": [
       "      match_score                              ltable_Song_Name  \\\n",
       "id                                                                \n",
       "1        0.947451                                   We Made You   \n",
       "11       0.988292                                   We Made You   \n",
       "16       0.582520                                   We Made You   \n",
       "30       0.766056                               Stay Wide Awake   \n",
       "31       0.629128                                   We Made You   \n",
       "...           ...                                           ...   \n",
       "1297     0.756217  Once In a Lifetime ( Live In Gwinnett , GA )   \n",
       "1303     0.996493                                    Seven Days   \n",
       "1304     0.862508                                    Seven Days   \n",
       "1305     0.996493                                    Seven Days   \n",
       "1306     0.862508                                    Seven Days   \n",
       "\n",
       "     ltable_Artist_Name              ltable_Album_Name  \\\n",
       "id                                                       \n",
       "1                Eminem               Relapse : Refill   \n",
       "11               Eminem               Relapse : Refill   \n",
       "16               Eminem               Relapse : Refill   \n",
       "30               Eminem               Relapse : Refill   \n",
       "31               Eminem               Relapse : Refill   \n",
       "...                 ...                            ...   \n",
       "1297        Keith Urban  Get Closer ( Deluxe Version )   \n",
       "1303      Kenny Chesney           Hemingway 's Whiskey   \n",
       "1304      Kenny Chesney           Hemingway 's Whiskey   \n",
       "1305      Kenny Chesney           Hemingway 's Whiskey   \n",
       "1306      Kenny Chesney           Hemingway 's Whiskey   \n",
       "\n",
       "                                           ltable_Genre ltable_Price  \\\n",
       "id                                                                     \n",
       "1              Hip-Hop/Rap , Music , Rap , Hardcore Rap       $ 1.29   \n",
       "11             Hip-Hop/Rap , Music , Rap , Hardcore Rap       $ 1.29   \n",
       "16             Hip-Hop/Rap , Music , Rap , Hardcore Rap       $ 1.29   \n",
       "30             Hip-Hop/Rap , Music , Rap , Hardcore Rap       $ 1.29   \n",
       "31             Hip-Hop/Rap , Music , Rap , Hardcore Rap       $ 1.29   \n",
       "...                                                 ...          ...   \n",
       "1297  Country , Music , Honky Tonk , Pop , Pop/Rock ...       $ 1.29   \n",
       "1303  Country , Music , Honky Tonk , Contemporary Co...       $ 1.29   \n",
       "1304  Country , Music , Honky Tonk , Contemporary Co...       $ 1.29   \n",
       "1305  Country , Music , Honky Tonk , Contemporary Co...       $ 1.29   \n",
       "1306  Country , Music , Honky Tonk , Contemporary Co...       $ 1.29   \n",
       "\n",
       "                                       ltable_CopyRight ltable_Time  \\\n",
       "id                                                                    \n",
       "1                           ‰ ãÑ 2009 Aftermath Records        4:29   \n",
       "11                          ‰ ãÑ 2009 Aftermath Records        4:29   \n",
       "16                          ‰ ãÑ 2009 Aftermath Records        4:29   \n",
       "30                          ‰ ãÑ 2009 Aftermath Records        5:19   \n",
       "31                          ‰ ãÑ 2009 Aftermath Records        4:29   \n",
       "...                                                 ...         ...   \n",
       "1297  ‰ ãÑ 2010 Hit Red Records under exclusive lice...        7:10   \n",
       "1303                 ‰ ãÑ 2010 Sony Music Entertainment        4:19   \n",
       "1304                 ‰ ãÑ 2010 Sony Music Entertainment        4:19   \n",
       "1305                 ‰ ãÑ 2010 Sony Music Entertainment        4:19   \n",
       "1306                 ‰ ãÑ 2010 Sony Music Entertainment        4:19   \n",
       "\n",
       "     ltable_Released                                  rtable_Song_Name  \\\n",
       "id                                                                       \n",
       "1          21-Dec-09                     We Made You ( Album Version )   \n",
       "11         21-Dec-09                                       We Made You   \n",
       "16         21-Dec-09  Old Time 's Sake [ feat . Dr. Dre ] [ Explicit ]   \n",
       "30         21-Dec-09                                              Then   \n",
       "31         21-Dec-09                                              Then   \n",
       "...              ...                                               ...   \n",
       "1297       22-Feb-11      Once In A Lifetime ( Live in Gwinnett , GA )   \n",
       "1303       28-Sep-10                                        Seven Days   \n",
       "1304       28-Sep-10                              Hemingway 's Whiskey   \n",
       "1305       28-Sep-10                                        Seven Days   \n",
       "1306       28-Sep-10                              Hemingway 's Whiskey   \n",
       "\n",
       "     rtable_Artist_Name                          rtable_Album_Name  \\\n",
       "id                                                                   \n",
       "1                Eminem  Relapse ( Explicit Version ) [ Explicit ]   \n",
       "11               Eminem              Relapse : Refill [ Explicit ]   \n",
       "16               Eminem              Relapse : Refill [ Explicit ]   \n",
       "30               Eminem                    Relaxing Modern Country   \n",
       "31               Eminem                    Relaxing Modern Country   \n",
       "...                 ...                                        ...   \n",
       "1297        Keith Urban              Get Closer ( Deluxe Version )   \n",
       "1303      Kenny Chesney                       Hemingway 's Whiskey   \n",
       "1304      Kenny Chesney                       Hemingway 's Whiskey   \n",
       "1305      Kenny Chesney                       Hemingway 's Whiskey   \n",
       "1306      Kenny Chesney                       Hemingway 's Whiskey   \n",
       "\n",
       "                            rtable_Genre rtable_Price  \\\n",
       "id                                                      \n",
       "1     Gangsta & Hardcore , Rap & Hip-Hop       $ 1.29   \n",
       "11                         Rap & Hip-Hop       $ 1.29   \n",
       "16                         Rap & Hip-Hop       $ 1.29   \n",
       "30                         Rap & Hip-Hop       $ 1.29   \n",
       "31                         Rap & Hip-Hop       $ 1.29   \n",
       "...                                  ...          ...   \n",
       "1297                             Country       $ 1.29   \n",
       "1303                             Country       $ 1.29   \n",
       "1304                             Country       $ 1.29   \n",
       "1305                             Country       $ 1.29   \n",
       "1306                             Country       $ 1.29   \n",
       "\n",
       "                                       rtable_CopyRight rtable_Time  \\\n",
       "id                                                                    \n",
       "1                          ( C ) 2009 Aftermath Records        4:29   \n",
       "11                         ( C ) 2009 Aftermath Records        4:29   \n",
       "16                         ( C ) 2009 Aftermath Records        4:38   \n",
       "30                         ( C ) 2009 Aftermath Records        5:21   \n",
       "31                         ( C ) 2009 Aftermath Records        5:21   \n",
       "...                                                 ...         ...   \n",
       "1297  ( C ) 2011 Hit Red Records under exclusive lic...        7:10   \n",
       "1303                ( C ) 2012 Hollywood Records , Inc.        4:19   \n",
       "1304                ( C ) 2012 Hollywood Records , Inc.        3:29   \n",
       "1305                ( C ) 2012 Hollywood Records , Inc.        4:19   \n",
       "1306                ( C ) 2012 Hollywood Records , Inc.        3:29   \n",
       "\n",
       "          rtable_Released  \n",
       "id                         \n",
       "1           May 19 , 2009  \n",
       "11     December 21 , 2009  \n",
       "16     December 21 , 2009  \n",
       "30                    NaN  \n",
       "31                    NaN  \n",
       "...                   ...  \n",
       "1297   February 22 , 2011  \n",
       "1303  September 28 , 2010  \n",
       "1304  September 28 , 2010  \n",
       "1305  September 28 , 2010  \n",
       "1306  September 28 , 2010  \n",
       "\n",
       "[440 rows x 17 columns]"
      ]
     },
     "execution_count": 18,
     "metadata": {},
     "output_type": "execute_result"
    }
   ],
   "source": [
    "predictions[predictions.match_score>0.5]"
   ]
  },
  {
   "cell_type": "code",
   "execution_count": 12,
   "metadata": {
    "ExecuteTime": {
     "end_time": "2020-05-08T14:22:47.759340Z",
     "start_time": "2020-05-08T14:22:47.698890Z"
    }
   },
   "outputs": [],
   "source": [
    "amazon = pd.read_csv('../datasets/Structured/Amazon-Google/tableA.csv',dtype=str).fillna(\"\")\n",
    "google = pd.read_csv('../datasets/Structured/Amazon-Google/tableB.csv',dtype=str).fillna(\"\")"
   ]
  },
  {
   "cell_type": "code",
   "execution_count": 79,
   "metadata": {
    "ExecuteTime": {
     "end_time": "2020-05-08T14:58:19.969565Z",
     "start_time": "2020-05-08T14:58:19.937065Z"
    }
   },
   "outputs": [],
   "source": [
    "rd.seed(0)"
   ]
  },
  {
   "cell_type": "code",
   "execution_count": 97,
   "metadata": {
    "ExecuteTime": {
     "end_time": "2020-05-08T14:59:12.327335Z",
     "start_time": "2020-05-08T14:59:12.295601Z"
    }
   },
   "outputs": [],
   "source": [
    "r1 = amazon.iloc[rd.randint(0,len(amazon)-1)]\n",
    "r2 = google.iloc[rd.randint(0,len(google)-1)]"
   ]
  },
  {
   "cell_type": "code",
   "execution_count": 98,
   "metadata": {
    "ExecuteTime": {
     "end_time": "2020-05-08T14:59:12.867844Z",
     "start_time": "2020-05-08T14:59:12.834532Z"
    }
   },
   "outputs": [
    {
     "data": {
      "text/plain": [
       "id                                   1112\n",
       "title           railroad tycoon 3 ( mac )\n",
       "manufacturer                      macsoft\n",
       "price                               19.99\n",
       "Name: 1112, dtype: object"
      ]
     },
     "execution_count": 98,
     "metadata": {},
     "output_type": "execute_result"
    }
   ],
   "source": [
    "r1"
   ]
  },
  {
   "cell_type": "code",
   "execution_count": 99,
   "metadata": {
    "ExecuteTime": {
     "end_time": "2020-05-08T14:59:14.245525Z",
     "start_time": "2020-05-08T14:59:14.215070Z"
    }
   },
   "outputs": [],
   "source": [
    "pd.set_option('display.max_colwidth',None)"
   ]
  },
  {
   "cell_type": "code",
   "execution_count": 100,
   "metadata": {
    "ExecuteTime": {
     "end_time": "2020-05-08T14:59:14.899464Z",
     "start_time": "2020-05-08T14:59:14.867152Z"
    }
   },
   "outputs": [
    {
     "data": {
      "text/plain": [
       "id                                                                                       1834\n",
       "title           eesk1017 emc insignia eroom smb edition v. 7.3 complete package 10 users cd -\n",
       "manufacturer                                                                                 \n",
       "price                                                                                  950.92\n",
       "Name: 1834, dtype: object"
      ]
     },
     "execution_count": 100,
     "metadata": {},
     "output_type": "execute_result"
    }
   ],
   "source": [
    "r2"
   ]
  },
  {
   "cell_type": "code",
   "execution_count": 101,
   "metadata": {
    "ExecuteTime": {
     "end_time": "2020-05-08T14:59:17.143713Z",
     "start_time": "2020-05-08T14:59:16.947582Z"
    }
   },
   "outputs": [
    {
     "data": {
      "text/plain": [
       "49"
      ]
     },
     "execution_count": 101,
     "metadata": {},
     "output_type": "execute_result"
    }
   ],
   "source": [
    "unlabeled_ids = buildDatasetForLocalExplanations(r1,r2,amazon,google,0.3)\n",
    "len(unlabeled_ids)"
   ]
  },
  {
   "cell_type": "code",
   "execution_count": 102,
   "metadata": {
    "ExecuteTime": {
     "end_time": "2020-05-08T14:59:18.217239Z",
     "start_time": "2020-05-08T14:59:18.131728Z"
    }
   },
   "outputs": [
    {
     "data": {
      "text/html": [
       "<div>\n",
       "<style scoped>\n",
       "    .dataframe tbody tr th:only-of-type {\n",
       "        vertical-align: middle;\n",
       "    }\n",
       "\n",
       "    .dataframe tbody tr th {\n",
       "        vertical-align: top;\n",
       "    }\n",
       "\n",
       "    .dataframe thead th {\n",
       "        text-align: right;\n",
       "    }\n",
       "</style>\n",
       "<table border=\"1\" class=\"dataframe\">\n",
       "  <thead>\n",
       "    <tr style=\"text-align: right;\">\n",
       "      <th></th>\n",
       "      <th>ltable_title</th>\n",
       "      <th>ltable_manufacturer</th>\n",
       "      <th>ltable_price</th>\n",
       "      <th>rtable_title</th>\n",
       "      <th>rtable_manufacturer</th>\n",
       "      <th>rtable_price</th>\n",
       "      <th>id</th>\n",
       "    </tr>\n",
       "  </thead>\n",
       "  <tbody>\n",
       "    <tr>\n",
       "      <th>0</th>\n",
       "      <td>railroad tycoon 3 ( mac )</td>\n",
       "      <td>macsoft</td>\n",
       "      <td>19.99</td>\n",
       "      <td>super collapse ! 3</td>\n",
       "      <td>NaN</td>\n",
       "      <td>22.99</td>\n",
       "      <td>1112#297</td>\n",
       "    </tr>\n",
       "    <tr>\n",
       "      <th>1</th>\n",
       "      <td>railroad tycoon 3 ( mac )</td>\n",
       "      <td>macsoft</td>\n",
       "      <td>19.99</td>\n",
       "      <td>brighter minds diner dash</td>\n",
       "      <td>NaN</td>\n",
       "      <td>19.99</td>\n",
       "      <td>1112#350</td>\n",
       "    </tr>\n",
       "    <tr>\n",
       "      <th>2</th>\n",
       "      <td>railroad tycoon 3 ( mac )</td>\n",
       "      <td>macsoft</td>\n",
       "      <td>19.99</td>\n",
       "      <td>rollercoaster tycoon 3 soaked</td>\n",
       "      <td>NaN</td>\n",
       "      <td>23.99</td>\n",
       "      <td>1112#351</td>\n",
       "    </tr>\n",
       "    <tr>\n",
       "      <th>3</th>\n",
       "      <td>railroad tycoon 3 ( mac )</td>\n",
       "      <td>macsoft</td>\n",
       "      <td>19.99</td>\n",
       "      <td>myob firstedge</td>\n",
       "      <td>NaN</td>\n",
       "      <td>99.99</td>\n",
       "      <td>1112#438</td>\n",
       "    </tr>\n",
       "    <tr>\n",
       "      <th>4</th>\n",
       "      <td>railroad tycoon 3 ( mac )</td>\n",
       "      <td>macsoft</td>\n",
       "      <td>19.99</td>\n",
       "      <td>apple . mac 4.0 1yr new or renewal internet service</td>\n",
       "      <td>NaN</td>\n",
       "      <td>99.99</td>\n",
       "      <td>1112#895</td>\n",
       "    </tr>\n",
       "  </tbody>\n",
       "</table>\n",
       "</div>"
      ],
      "text/plain": [
       "                ltable_title ltable_manufacturer ltable_price  \\\n",
       "0  railroad tycoon 3 ( mac )             macsoft        19.99   \n",
       "1  railroad tycoon 3 ( mac )             macsoft        19.99   \n",
       "2  railroad tycoon 3 ( mac )             macsoft        19.99   \n",
       "3  railroad tycoon 3 ( mac )             macsoft        19.99   \n",
       "4  railroad tycoon 3 ( mac )             macsoft        19.99   \n",
       "\n",
       "                                          rtable_title rtable_manufacturer  \\\n",
       "0                                   super collapse ! 3                 NaN   \n",
       "1                            brighter minds diner dash                 NaN   \n",
       "2                        rollercoaster tycoon 3 soaked                 NaN   \n",
       "3                                       myob firstedge                 NaN   \n",
       "4  apple . mac 4.0 1yr new or renewal internet service                 NaN   \n",
       "\n",
       "  rtable_price        id  \n",
       "0        22.99  1112#297  \n",
       "1        19.99  1112#350  \n",
       "2        23.99  1112#351  \n",
       "3        99.99  1112#438  \n",
       "4        99.99  1112#895  "
      ]
     },
     "execution_count": 102,
     "metadata": {},
     "output_type": "execute_result"
    }
   ],
   "source": [
    "unlabeled_ids.to_csv('../datasets/Structured/Amazon-Google/unlabeled_ids.csv',index=False)\n",
    "unlabeled_df = generate_unlabeled('../datasets/Structured/Amazon-Google/','unlabeled_ids.csv')\n",
    "unlabeled_df.head()"
   ]
  },
  {
   "cell_type": "code",
   "execution_count": 103,
   "metadata": {
    "ExecuteTime": {
     "end_time": "2020-05-08T14:59:21.246652Z",
     "start_time": "2020-05-08T14:59:20.931424Z"
    }
   },
   "outputs": [],
   "source": [
    "amz_google_hybrid = dm.MatchingModel(attr_summarizer='hybrid')\n",
    "amz_google_hybrid.load_state('../models/amazongoogle_hybrid.pth')"
   ]
  },
  {
   "cell_type": "code",
   "execution_count": 104,
   "metadata": {
    "ExecuteTime": {
     "end_time": "2020-05-08T14:59:22.229859Z",
     "start_time": "2020-05-08T14:59:21.776982Z"
    }
   },
   "outputs": [],
   "source": [
    "predictions_amz_google = wrapDm(unlabeled_df,amz_google_hybrid,[],outputAttributes=True)"
   ]
  },
  {
   "cell_type": "code",
   "execution_count": 105,
   "metadata": {
    "ExecuteTime": {
     "end_time": "2020-05-08T14:59:22.868638Z",
     "start_time": "2020-05-08T14:59:22.827951Z"
    }
   },
   "outputs": [],
   "source": [
    "predictions_amz_google[predictions_amz_google.match_score>0.5]\n",
    "predictions_amz_google['label'] = list(map(lambda match_score:int(round(match_score)),\n",
    "                                        predictions_amz_google.match_score.values))\n",
    "predictions_amz_google = predictions_amz_google.drop(['match_score'],axis=1)\n",
    "predictions_amz_google['id'] = predictions_amz_google.index"
   ]
  },
  {
   "cell_type": "code",
   "execution_count": 106,
   "metadata": {
    "ExecuteTime": {
     "end_time": "2020-05-08T14:59:23.766975Z",
     "start_time": "2020-05-08T14:59:23.736751Z"
    }
   },
   "outputs": [],
   "source": [
    "from utils.triangles_method import explainSamples"
   ]
  },
  {
   "cell_type": "code",
   "execution_count": 107,
   "metadata": {
    "ExecuteTime": {
     "end_time": "2020-05-08T14:59:25.771812Z",
     "start_time": "2020-05-08T14:59:25.739169Z"
    }
   },
   "outputs": [],
   "source": [
    "predict_fn = lambda data,model,ignore:wrapDm(data,model,ignore)"
   ]
  },
  {
   "cell_type": "code",
   "execution_count": 108,
   "metadata": {
    "ExecuteTime": {
     "end_time": "2020-05-08T15:00:20.535926Z",
     "start_time": "2020-05-08T14:59:26.714694Z"
    }
   },
   "outputs": [
    {
     "name": "stderr",
     "output_type": "stream",
     "text": [
      "100%|██████████| 258/258 [00:53<00:00,  4.86it/s]\n"
     ]
    }
   ],
   "source": [
    "local_exp = explainSamples(predictions_amz_google,[amazon,google],amz_google_hybrid,predict_fn,\n",
    "                          originalClass=0,maxLenAttributeSet=2)"
   ]
  },
  {
   "cell_type": "code",
   "execution_count": 109,
   "metadata": {
    "ExecuteTime": {
     "end_time": "2020-05-08T15:00:36.106309Z",
     "start_time": "2020-05-08T15:00:35.451032Z"
    }
   },
   "outputs": [
    {
     "data": {
      "text/plain": [
       "<matplotlib.axes._subplots.AxesSubplot at 0x7f28d44d3040>"
      ]
     },
     "execution_count": 109,
     "metadata": {},
     "output_type": "execute_result"
    },
    {
     "data": {
      "image/png": "[encoded data removed]",
      "text/plain": [
       "<Figure size 432x288 with 1 Axes>"
      ]
     },
     "metadata": {
      "needs_background": "light"
     },
     "output_type": "display_data"
    }
   ],
   "source": [
    "local_exp[0].plot.barh(color='red')"
   ]
  },
  {
   "cell_type": "code",
   "execution_count": null,
   "metadata": {},
   "outputs": [],
   "source": []
  }
 ],
 "metadata": {
  "kernelspec": {
   "display_name": "Python 3",
   "language": "python",
   "name": "python3"
  },
  "language_info": {
   "codemirror_mode": {
    "name": "ipython",
    "version": 3
   },
   "file_extension": ".py",
   "mimetype": "text/x-python",
   "name": "python",
   "nbconvert_exporter": "python",
   "pygments_lexer": "ipython3",
   "version": "3.8.1"
  },
  "toc": {
   "base_numbering": 1,
   "nav_menu": {},
   "number_sections": true,
   "sideBar": true,
   "skip_h1_title": false,
   "title_cell": "Table of Contents",
   "title_sidebar": "Contents",
   "toc_cell": false,
   "toc_position": {},
   "toc_section_display": true,
   "toc_window_display": false
  }
 },
 "nbformat": 4,
 "nbformat_minor": 2
}

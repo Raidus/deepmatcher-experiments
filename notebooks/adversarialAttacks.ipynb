{
 "cells": [
  {
   "cell_type": "markdown",
   "metadata": {},
   "source": [
    "# Change random character in each attribute"
   ]
  },
  {
   "cell_type": "markdown",
   "metadata": {},
   "source": [
    "## Attacking function for all attributes"
   ]
  },
  {
   "cell_type": "code",
   "execution_count": 12,
   "metadata": {},
   "outputs": [
    {
     "name": "stdout",
     "output_type": "stream",
     "text": [
      "The autoreload extension is already loaded. To reload it, use:\n",
      "  %reload_ext autoreload\n"
     ]
    }
   ],
   "source": [
    "%load_ext autoreload\n",
    "%autoreload 2"
   ]
  },
  {
   "cell_type": "code",
   "execution_count": 13,
   "metadata": {},
   "outputs": [],
   "source": [
    "import sys\n",
    "sys.path.append('../')"
   ]
  },
  {
   "cell_type": "code",
   "execution_count": 14,
   "metadata": {},
   "outputs": [],
   "source": [
    "import random as rd\n",
    "import string\n",
    "import pandas as pd\n",
    "import deepmatcher as dm\n",
    "import numpy as np"
   ]
  },
  {
   "cell_type": "code",
   "execution_count": 4,
   "metadata": {},
   "outputs": [],
   "source": [
    "def changeRandomCharacter(att,permittedPositions):\n",
    "    random_char = rd.choice(string.ascii_letters+string.digits+string.punctuation)\n",
    "    new_char_idx = rd.choice(permittedPositions)\n",
    "    res = att[:new_char_idx]+random_char+att[new_char_idx+1:]\n",
    "    return res"
   ]
  },
  {
   "cell_type": "code",
   "execution_count": 5,
   "metadata": {},
   "outputs": [],
   "source": [
    "def attackDataset(dataset,ignore_columns):\n",
    "    for col in list(dataset):\n",
    "        if col not in ignore_columns:\n",
    "            dataset[col] = dataset[col].apply(lambda s: changeRandomCharacter(str(s),\n",
    "                                                                             np.arange(len(str(s)))))"
   ]
  },
  {
   "cell_type": "code",
   "execution_count": 10,
   "metadata": {},
   "outputs": [
    {
     "data": {
      "text/html": [
       "<div>\n",
       "<style scoped>\n",
       "    .dataframe tbody tr th:only-of-type {\n",
       "        vertical-align: middle;\n",
       "    }\n",
       "\n",
       "    .dataframe tbody tr th {\n",
       "        vertical-align: top;\n",
       "    }\n",
       "\n",
       "    .dataframe thead th {\n",
       "        text-align: right;\n",
       "    }\n",
       "</style>\n",
       "<table border=\"1\" class=\"dataframe\">\n",
       "  <thead>\n",
       "    <tr style=\"text-align: right;\">\n",
       "      <th></th>\n",
       "      <th>label</th>\n",
       "      <th>ltable_Song_Name</th>\n",
       "      <th>ltable_Artist_Name</th>\n",
       "      <th>ltable_Album_Name</th>\n",
       "      <th>ltable_Genre</th>\n",
       "      <th>ltable_Price</th>\n",
       "      <th>ltable_CopyRight</th>\n",
       "      <th>ltable_Time</th>\n",
       "      <th>ltable_Released</th>\n",
       "      <th>rtable_Song_Name</th>\n",
       "      <th>rtable_Artist_Name</th>\n",
       "      <th>rtable_Album_Name</th>\n",
       "      <th>rtable_Genre</th>\n",
       "      <th>rtable_Price</th>\n",
       "      <th>rtable_CopyRight</th>\n",
       "      <th>rtable_Time</th>\n",
       "      <th>rtable_Released</th>\n",
       "      <th>id</th>\n",
       "    </tr>\n",
       "  </thead>\n",
       "  <tbody>\n",
       "    <tr>\n",
       "      <th>0</th>\n",
       "      <td>0</td>\n",
       "      <td>Elevator ( feat . Timbaland )</td>\n",
       "      <td>Flo Rida</td>\n",
       "      <td>Mail On Sunday ( Deluxe Version )</td>\n",
       "      <td>Hip-Hop/Rap , Music , Dirty South</td>\n",
       "      <td>$ 1.99</td>\n",
       "      <td>2008 Atlantic Recording Corporation for the Un...</td>\n",
       "      <td>3:55</td>\n",
       "      <td>17-Mar-08</td>\n",
       "      <td>Money Right ( feat . Rick Ross &amp; Brisco ) [ Ex...</td>\n",
       "      <td>Flo Rida</td>\n",
       "      <td>Mail On Sunday [ Explicit ]</td>\n",
       "      <td>Rap &amp; Hip-Hop</td>\n",
       "      <td>$ 1.29</td>\n",
       "      <td>2013 Warner Bros. . Records Inc.</td>\n",
       "      <td>3:17</td>\n",
       "      <td>March 17 , 2008</td>\n",
       "      <td>731</td>\n",
       "    </tr>\n",
       "    <tr>\n",
       "      <th>1</th>\n",
       "      <td>0</td>\n",
       "      <td>The Woodland Realm ( Extended Version )</td>\n",
       "      <td>Howard Shore</td>\n",
       "      <td>The Hobbit : The Desolation of Smaug ( Origina...</td>\n",
       "      <td>Soundtrack , Music , Soundtrack , Classical , ...</td>\n",
       "      <td>$ 1.29</td>\n",
       "      <td>‰ ãÑ 2013 WaterTower Music</td>\n",
       "      <td>5:14</td>\n",
       "      <td>10-Dec-13</td>\n",
       "      <td>The High Fells ( Extended Version )</td>\n",
       "      <td>Howard Shore</td>\n",
       "      <td>The Hobbit : The Desolation of Smaug ( Origina...</td>\n",
       "      <td>Soundtracks</td>\n",
       "      <td>$ 1.29</td>\n",
       "      <td>2013 WaterTower Music / Warner Bros. . Enterta...</td>\n",
       "      <td>3:38</td>\n",
       "      <td>December 10 , 2013</td>\n",
       "      <td>672</td>\n",
       "    </tr>\n",
       "    <tr>\n",
       "      <th>2</th>\n",
       "      <td>1</td>\n",
       "      <td>Extra Extra Credit</td>\n",
       "      <td>Wiz Khalifa</td>\n",
       "      <td>Flight School</td>\n",
       "      <td>Hip-Hop/Rap , Music</td>\n",
       "      <td>$ 0.99</td>\n",
       "      <td>2009 Rostrum Records</td>\n",
       "      <td>4:03</td>\n",
       "      <td>17-Apr-09</td>\n",
       "      <td>Extra Extra Credit [ Explicit ]</td>\n",
       "      <td>Wiz Khalifa</td>\n",
       "      <td>Flight School [ Explicit ]</td>\n",
       "      <td>Rap &amp; Hip-Hop</td>\n",
       "      <td>$ 0.99</td>\n",
       "      <td>2013 Mad Decent</td>\n",
       "      <td>4:03</td>\n",
       "      <td>April 17 , 2009</td>\n",
       "      <td>669</td>\n",
       "    </tr>\n",
       "    <tr>\n",
       "      <th>3</th>\n",
       "      <td>0</td>\n",
       "      <td>Toyfriend ( feat . Wynter Gordon ) [ Continuou...</td>\n",
       "      <td>David Guetta</td>\n",
       "      <td>One Love ( Deluxe Version )</td>\n",
       "      <td>Dance , Music</td>\n",
       "      <td>$ 1.29</td>\n",
       "      <td>2010 Gum Prod licence exclusive Parlophone Mus...</td>\n",
       "      <td>2:51</td>\n",
       "      <td>21-Aug-09</td>\n",
       "      <td>Sound Of Letting Go ( Feat . Chris Willis )</td>\n",
       "      <td>David Guetta</td>\n",
       "      <td>One Love ( Deluxe Version )</td>\n",
       "      <td>Dance &amp; Electronic</td>\n",
       "      <td>$ 1.29</td>\n",
       "      <td>( C ) 2014 Swedish House Mafia Holdings Ltd ( ...</td>\n",
       "      <td>3:47</td>\n",
       "      <td>August 21 , 2009</td>\n",
       "      <td>734</td>\n",
       "    </tr>\n",
       "    <tr>\n",
       "      <th>4</th>\n",
       "      <td>0</td>\n",
       "      <td>Dangerous ( feat . Sam Martin ) [ Robin Schulz...</td>\n",
       "      <td>David Guetta</td>\n",
       "      <td>Listen ( Deluxe Version )</td>\n",
       "      <td>Dance , Music , Rock , House , Electronic , Fr...</td>\n",
       "      <td>$ 1.29</td>\n",
       "      <td>2014 What A Music Ltd. under exclusive license...</td>\n",
       "      <td>3:20</td>\n",
       "      <td>24-Nov-14</td>\n",
       "      <td>Missing You ( Feat . Novel ; Continuous Mix Ve...</td>\n",
       "      <td>David Guetta</td>\n",
       "      <td>One Love ( Deluxe Version )</td>\n",
       "      <td>Dance &amp; Electronic</td>\n",
       "      <td>$ 1.29</td>\n",
       "      <td>( C ) 2014 Swedish House Mafia Holdings Ltd ( ...</td>\n",
       "      <td>4:59</td>\n",
       "      <td>August 21 , 2009</td>\n",
       "      <td>699</td>\n",
       "    </tr>\n",
       "  </tbody>\n",
       "</table>\n",
       "</div>"
      ],
      "text/plain": [
       "   label                                   ltable_Song_Name  \\\n",
       "0      0                      Elevator ( feat . Timbaland )   \n",
       "1      0            The Woodland Realm ( Extended Version )   \n",
       "2      1                                 Extra Extra Credit   \n",
       "3      0  Toyfriend ( feat . Wynter Gordon ) [ Continuou...   \n",
       "4      0  Dangerous ( feat . Sam Martin ) [ Robin Schulz...   \n",
       "\n",
       "  ltable_Artist_Name                                  ltable_Album_Name  \\\n",
       "0           Flo Rida                  Mail On Sunday ( Deluxe Version )   \n",
       "1       Howard Shore  The Hobbit : The Desolation of Smaug ( Origina...   \n",
       "2        Wiz Khalifa                                      Flight School   \n",
       "3       David Guetta                        One Love ( Deluxe Version )   \n",
       "4       David Guetta                          Listen ( Deluxe Version )   \n",
       "\n",
       "                                        ltable_Genre ltable_Price  \\\n",
       "0                  Hip-Hop/Rap , Music , Dirty South       $ 1.99   \n",
       "1  Soundtrack , Music , Soundtrack , Classical , ...       $ 1.29   \n",
       "2                                Hip-Hop/Rap , Music       $ 0.99   \n",
       "3                                      Dance , Music       $ 1.29   \n",
       "4  Dance , Music , Rock , House , Electronic , Fr...       $ 1.29   \n",
       "\n",
       "                                    ltable_CopyRight ltable_Time  \\\n",
       "0  2008 Atlantic Recording Corporation for the Un...        3:55   \n",
       "1                         ‰ ãÑ 2013 WaterTower Music        5:14   \n",
       "2                               2009 Rostrum Records        4:03   \n",
       "3  2010 Gum Prod licence exclusive Parlophone Mus...        2:51   \n",
       "4  2014 What A Music Ltd. under exclusive license...        3:20   \n",
       "\n",
       "  ltable_Released                                   rtable_Song_Name  \\\n",
       "0       17-Mar-08  Money Right ( feat . Rick Ross & Brisco ) [ Ex...   \n",
       "1       10-Dec-13                The High Fells ( Extended Version )   \n",
       "2       17-Apr-09                    Extra Extra Credit [ Explicit ]   \n",
       "3       21-Aug-09        Sound Of Letting Go ( Feat . Chris Willis )   \n",
       "4       24-Nov-14  Missing You ( Feat . Novel ; Continuous Mix Ve...   \n",
       "\n",
       "  rtable_Artist_Name                                  rtable_Album_Name  \\\n",
       "0           Flo Rida                        Mail On Sunday [ Explicit ]   \n",
       "1       Howard Shore  The Hobbit : The Desolation of Smaug ( Origina...   \n",
       "2        Wiz Khalifa                         Flight School [ Explicit ]   \n",
       "3       David Guetta                        One Love ( Deluxe Version )   \n",
       "4       David Guetta                        One Love ( Deluxe Version )   \n",
       "\n",
       "         rtable_Genre rtable_Price  \\\n",
       "0       Rap & Hip-Hop       $ 1.29   \n",
       "1         Soundtracks       $ 1.29   \n",
       "2       Rap & Hip-Hop       $ 0.99   \n",
       "3  Dance & Electronic       $ 1.29   \n",
       "4  Dance & Electronic       $ 1.29   \n",
       "\n",
       "                                    rtable_CopyRight rtable_Time  \\\n",
       "0                   2013 Warner Bros. . Records Inc.        3:17   \n",
       "1  2013 WaterTower Music / Warner Bros. . Enterta...        3:38   \n",
       "2                                    2013 Mad Decent        4:03   \n",
       "3  ( C ) 2014 Swedish House Mafia Holdings Ltd ( ...        3:47   \n",
       "4  ( C ) 2014 Swedish House Mafia Holdings Ltd ( ...        4:59   \n",
       "\n",
       "      rtable_Released   id  \n",
       "0     March 17 , 2008  731  \n",
       "1  December 10 , 2013  672  \n",
       "2     April 17 , 2009  669  \n",
       "3    August 21 , 2009  734  \n",
       "4    August 21 , 2009  699  "
      ]
     },
     "execution_count": 10,
     "metadata": {},
     "output_type": "execute_result"
    }
   ],
   "source": [
    "test_df = pd.read_csv('../Structured/itunes-amazon/merged_test.csv')\n",
    "test_df.head()"
   ]
  },
  {
   "cell_type": "code",
   "execution_count": null,
   "metadata": {},
   "outputs": [],
   "source": [
    "attackDataset(test_df,['label','id'])"
   ]
  },
  {
   "cell_type": "code",
   "execution_count": null,
   "metadata": {},
   "outputs": [],
   "source": [
    "test_df.head()"
   ]
  },
  {
   "cell_type": "code",
   "execution_count": null,
   "metadata": {},
   "outputs": [],
   "source": [
    "test_df.to_csv('../Structured/itunes-amazon/attacked_test.csv',index=False)"
   ]
  },
  {
   "cell_type": "markdown",
   "metadata": {},
   "source": [
    "### ITunes-Amazon"
   ]
  },
  {
   "cell_type": "code",
   "execution_count": null,
   "metadata": {},
   "outputs": [],
   "source": [
    "train,test = dm.data.process('../Structured/itunes-amazon',train='merged_train.csv',\n",
    "                       test='merged_test.csv',left_prefix='ltable_',\n",
    "                      right_prefix='rtable_')"
   ]
  },
  {
   "cell_type": "code",
   "execution_count": null,
   "metadata": {},
   "outputs": [],
   "source": [
    "model = dm.MatchingModel(attr_summarizer='hybrid')\n",
    "model.load_state('../models/itunes_amazon_hybrid.pth')"
   ]
  },
  {
   "cell_type": "code",
   "execution_count": null,
   "metadata": {},
   "outputs": [],
   "source": [
    "model.run_eval(test)"
   ]
  },
  {
   "cell_type": "code",
   "execution_count": 4,
   "metadata": {},
   "outputs": [
    {
     "name": "stderr",
     "output_type": "stream",
     "text": [
      "WARNING:deepmatcher.data.dataset:Rebuilding data cache because: ['One or more data files have been modified.', 'Data file list has changed.']\n"
     ]
    }
   ],
   "source": [
    "train,validation,attacked_test = dm.data.process('../Structured/itunes-amazon/',train='merged_train.csv',\n",
    "                                                validation='merged_valid.csv',test='attacked_test.csv',\n",
    "                                                left_prefix='ltable_',right_prefix='rtable_')"
   ]
  },
  {
   "cell_type": "code",
   "execution_count": 5,
   "metadata": {},
   "outputs": [
    {
     "name": "stdout",
     "output_type": "stream",
     "text": [
      "* Number of trainable parameters: 17757810\n",
      "===>  TRAIN Epoch 1\n",
      "Finished Epoch 1 || Run Time:    4.3 | Load Time:    1.2 || F1:  37.06 | Prec:  23.53 | Rec:  87.18 || Ex/s:  57.62\n",
      "\n",
      "===>  EVAL Epoch 1\n",
      "Finished Epoch 1 || Run Time:    0.5 | Load Time:    0.4 || F1:  39.71 | Prec:  24.77 | Rec: 100.00 || Ex/s: 120.95\n",
      "\n",
      "* Best F1: 39.705882352941174\n",
      "Saving best model...\n",
      "Done.\n",
      "---------------------\n",
      "\n",
      "===>  TRAIN Epoch 2\n",
      "Finished Epoch 2 || Run Time:    5.0 | Load Time:    1.3 || F1:  53.05 | Prec:  36.82 | Rec:  94.87 || Ex/s:  50.62\n",
      "\n",
      "===>  EVAL Epoch 2\n",
      "Finished Epoch 2 || Run Time:    0.5 | Load Time:    0.4 || F1:  53.76 | Prec:  37.88 | Rec:  92.59 || Ex/s: 122.62\n",
      "\n",
      "* Best F1: 53.76344086021504\n",
      "Saving best model...\n",
      "Done.\n",
      "---------------------\n",
      "\n",
      "===>  TRAIN Epoch 3\n",
      "Finished Epoch 3 || Run Time:    4.9 | Load Time:    1.4 || F1:  66.67 | Prec:  53.49 | Rec:  88.46 || Ex/s:  51.35\n",
      "\n",
      "===>  EVAL Epoch 3\n",
      "Finished Epoch 3 || Run Time:    0.5 | Load Time:    0.4 || F1:  55.81 | Prec:  40.68 | Rec:  88.89 || Ex/s: 122.08\n",
      "\n",
      "* Best F1: 55.813953488372086\n",
      "Saving best model...\n",
      "Done.\n",
      "---------------------\n",
      "\n",
      "===>  TRAIN Epoch 4\n",
      "Finished Epoch 4 || Run Time:    4.8 | Load Time:    1.3 || F1:  65.45 | Prec:  50.70 | Rec:  92.31 || Ex/s:  52.44\n",
      "\n",
      "===>  EVAL Epoch 4\n",
      "Finished Epoch 4 || Run Time:    0.5 | Load Time:    0.4 || F1:  65.57 | Prec:  58.82 | Rec:  74.07 || Ex/s: 120.89\n",
      "\n",
      "* Best F1: 65.57377049180327\n",
      "Saving best model...\n",
      "Done.\n",
      "---------------------\n",
      "\n",
      "===>  TRAIN Epoch 5\n",
      "Finished Epoch 5 || Run Time:    5.0 | Load Time:    1.3 || F1:  79.37 | Prec:  67.57 | Rec:  96.15 || Ex/s:  51.04\n",
      "\n",
      "===>  EVAL Epoch 5\n",
      "Finished Epoch 5 || Run Time:    0.5 | Load Time:    0.4 || F1:  74.63 | Prec:  62.50 | Rec:  92.59 || Ex/s: 122.30\n",
      "\n",
      "* Best F1: 74.62686567164178\n",
      "Saving best model...\n",
      "Done.\n",
      "---------------------\n",
      "\n",
      "===>  TRAIN Epoch 6\n",
      "Finished Epoch 6 || Run Time:    4.8 | Load Time:    1.3 || F1:  85.39 | Prec:  76.00 | Rec:  97.44 || Ex/s:  52.56\n",
      "\n",
      "===>  EVAL Epoch 6\n",
      "Finished Epoch 6 || Run Time:    0.5 | Load Time:    0.4 || F1:  80.00 | Prec:  68.42 | Rec:  96.30 || Ex/s: 122.25\n",
      "\n",
      "* Best F1: 79.99999999999999\n",
      "Saving best model...\n",
      "Done.\n",
      "---------------------\n",
      "\n",
      "===>  TRAIN Epoch 7\n",
      "Finished Epoch 7 || Run Time:    4.7 | Load Time:    1.3 || F1:  95.00 | Prec:  92.68 | Rec:  97.44 || Ex/s:  53.23\n",
      "\n",
      "===>  EVAL Epoch 7\n",
      "Finished Epoch 7 || Run Time:    0.5 | Load Time:    0.4 || F1:  81.25 | Prec:  70.27 | Rec:  96.30 || Ex/s: 122.12\n",
      "\n",
      "* Best F1: 81.25\n",
      "Saving best model...\n",
      "Done.\n",
      "---------------------\n",
      "\n",
      "===>  TRAIN Epoch 8\n",
      "Finished Epoch 8 || Run Time:    4.8 | Load Time:    1.3 || F1:  96.89 | Prec:  93.98 | Rec: 100.00 || Ex/s:  52.32\n",
      "\n",
      "===>  EVAL Epoch 8\n",
      "Finished Epoch 8 || Run Time:    0.5 | Load Time:    0.4 || F1:  78.79 | Prec:  66.67 | Rec:  96.30 || Ex/s: 120.10\n",
      "\n",
      "---------------------\n",
      "\n",
      "===>  TRAIN Epoch 9\n",
      "Finished Epoch 9 || Run Time:    4.1 | Load Time:    1.0 || F1:  98.11 | Prec:  96.30 | Rec: 100.00 || Ex/s:  63.13\n",
      "\n",
      "===>  EVAL Epoch 9\n",
      "Finished Epoch 9 || Run Time:    0.5 | Load Time:    0.4 || F1:  81.25 | Prec:  70.27 | Rec:  96.30 || Ex/s: 123.71\n",
      "\n",
      "---------------------\n",
      "\n",
      "===>  TRAIN Epoch 10\n",
      "Finished Epoch 10 || Run Time:    4.3 | Load Time:    1.1 || F1:  98.11 | Prec:  96.30 | Rec: 100.00 || Ex/s:  58.96\n",
      "\n",
      "===>  EVAL Epoch 10\n",
      "Finished Epoch 10 || Run Time:    0.5 | Load Time:    0.4 || F1:  80.00 | Prec:  68.42 | Rec:  96.30 || Ex/s: 123.33\n",
      "\n",
      "---------------------\n",
      "\n",
      "===>  TRAIN Epoch 11\n",
      "Finished Epoch 11 || Run Time:    4.6 | Load Time:    1.2 || F1:  98.73 | Prec:  97.50 | Rec: 100.00 || Ex/s:  54.74\n",
      "\n",
      "===>  EVAL Epoch 11\n",
      "Finished Epoch 11 || Run Time:    0.5 | Load Time:    0.4 || F1:  80.00 | Prec:  68.42 | Rec:  96.30 || Ex/s: 122.52\n",
      "\n",
      "---------------------\n",
      "\n",
      "===>  TRAIN Epoch 12\n",
      "Finished Epoch 12 || Run Time:    4.8 | Load Time:    1.3 || F1:  98.73 | Prec:  97.50 | Rec: 100.00 || Ex/s:  52.52\n",
      "\n",
      "===>  EVAL Epoch 12\n",
      "Finished Epoch 12 || Run Time:    0.5 | Load Time:    0.4 || F1:  80.00 | Prec:  68.42 | Rec:  96.30 || Ex/s: 122.40\n",
      "\n",
      "---------------------\n",
      "\n",
      "===>  TRAIN Epoch 13\n",
      "Finished Epoch 13 || Run Time:    4.0 | Load Time:    1.0 || F1:  99.36 | Prec:  98.73 | Rec: 100.00 || Ex/s:  64.01\n",
      "\n",
      "===>  EVAL Epoch 13\n",
      "Finished Epoch 13 || Run Time:    0.4 | Load Time:    0.3 || F1:  80.00 | Prec:  68.42 | Rec:  96.30 || Ex/s: 154.90\n",
      "\n",
      "---------------------\n",
      "\n",
      "===>  TRAIN Epoch 14\n",
      "Finished Epoch 14 || Run Time:    4.6 | Load Time:    1.3 || F1:  99.36 | Prec:  98.73 | Rec: 100.00 || Ex/s:  54.42\n",
      "\n",
      "===>  EVAL Epoch 14\n",
      "Finished Epoch 14 || Run Time:    0.5 | Load Time:    0.4 || F1:  80.00 | Prec:  68.42 | Rec:  96.30 || Ex/s: 114.67\n",
      "\n",
      "---------------------\n",
      "\n",
      "===>  TRAIN Epoch 15\n",
      "Finished Epoch 15 || Run Time:    4.8 | Load Time:    1.3 || F1:  99.36 | Prec:  98.73 | Rec: 100.00 || Ex/s:  52.41\n",
      "\n",
      "===>  EVAL Epoch 15\n",
      "Finished Epoch 15 || Run Time:    0.5 | Load Time:    0.4 || F1:  80.00 | Prec:  68.42 | Rec:  96.30 || Ex/s: 121.91\n",
      "\n",
      "---------------------\n",
      "\n",
      "===>  TRAIN Epoch 16\n",
      "Finished Epoch 16 || Run Time:    4.9 | Load Time:    1.3 || F1:  99.36 | Prec:  98.73 | Rec: 100.00 || Ex/s:  52.27\n",
      "\n",
      "===>  EVAL Epoch 16\n",
      "Finished Epoch 16 || Run Time:    0.5 | Load Time:    0.4 || F1:  80.00 | Prec:  68.42 | Rec:  96.30 || Ex/s: 122.09\n",
      "\n",
      "---------------------\n",
      "\n",
      "===>  TRAIN Epoch 17\n",
      "Finished Epoch 17 || Run Time:    3.9 | Load Time:    1.0 || F1:  99.36 | Prec:  98.73 | Rec: 100.00 || Ex/s:  65.63\n",
      "\n",
      "===>  EVAL Epoch 17\n",
      "Finished Epoch 17 || Run Time:    0.5 | Load Time:    0.4 || F1:  80.00 | Prec:  68.42 | Rec:  96.30 || Ex/s: 128.75\n",
      "\n",
      "---------------------\n",
      "\n",
      "===>  TRAIN Epoch 18\n",
      "Finished Epoch 18 || Run Time:    4.1 | Load Time:    1.0 || F1:  99.36 | Prec:  98.73 | Rec: 100.00 || Ex/s:  62.18\n",
      "\n",
      "===>  EVAL Epoch 18\n",
      "Finished Epoch 18 || Run Time:    0.5 | Load Time:    0.4 || F1:  80.00 | Prec:  68.42 | Rec:  96.30 || Ex/s: 125.35\n",
      "\n",
      "---------------------\n",
      "\n",
      "===>  TRAIN Epoch 19\n",
      "Finished Epoch 19 || Run Time:    4.5 | Load Time:    1.1 || F1:  99.36 | Prec:  98.73 | Rec: 100.00 || Ex/s:  56.86\n",
      "\n",
      "===>  EVAL Epoch 19\n",
      "Finished Epoch 19 || Run Time:    0.5 | Load Time:    0.4 || F1:  80.00 | Prec:  68.42 | Rec:  96.30 || Ex/s: 122.50\n",
      "\n",
      "---------------------\n",
      "\n",
      "===>  TRAIN Epoch 20\n",
      "Finished Epoch 20 || Run Time:    4.1 | Load Time:    1.0 || F1:  99.36 | Prec:  98.73 | Rec: 100.00 || Ex/s:  62.09\n",
      "\n",
      "===>  EVAL Epoch 20\n",
      "Finished Epoch 20 || Run Time:    0.5 | Load Time:    0.4 || F1:  80.00 | Prec:  68.42 | Rec:  96.30 || Ex/s: 121.95\n",
      "\n",
      "---------------------\n",
      "\n",
      "Loading best model...\n",
      "Training done.\n"
     ]
    },
    {
     "data": {
      "text/plain": [
       "81.25"
      ]
     },
     "execution_count": 5,
     "metadata": {},
     "output_type": "execute_result"
    }
   ],
   "source": [
    "model2 = dm.MatchingModel(attr_summarizer='hybrid')\n",
    "model2.run_train(train,validation,pos_neg_ratio=5,best_save_path='../models/itunes_amazon_forattack.pth',\n",
    "              epochs=20)"
   ]
  },
  {
   "cell_type": "code",
   "execution_count": 6,
   "metadata": {},
   "outputs": [
    {
     "name": "stdout",
     "output_type": "stream",
     "text": [
      "===>  EVAL Epoch 7\n",
      "Finished Epoch 7 || Run Time:    0.6 | Load Time:    0.5 || F1:  55.07 | Prec:  45.24 | Rec:  70.37 || Ex/s:  99.35\n",
      "\n"
     ]
    },
    {
     "data": {
      "text/plain": [
       "55.07246376811594"
      ]
     },
     "execution_count": 6,
     "metadata": {},
     "output_type": "execute_result"
    }
   ],
   "source": [
    "model2.run_eval(attacked_test)"
   ]
  },
  {
   "cell_type": "markdown",
   "metadata": {},
   "source": [
    "### Beer"
   ]
  },
  {
   "cell_type": "code",
   "execution_count": 14,
   "metadata": {},
   "outputs": [
    {
     "data": {
      "text/html": [
       "<div>\n",
       "<style scoped>\n",
       "    .dataframe tbody tr th:only-of-type {\n",
       "        vertical-align: middle;\n",
       "    }\n",
       "\n",
       "    .dataframe tbody tr th {\n",
       "        vertical-align: top;\n",
       "    }\n",
       "\n",
       "    .dataframe thead th {\n",
       "        text-align: right;\n",
       "    }\n",
       "</style>\n",
       "<table border=\"1\" class=\"dataframe\">\n",
       "  <thead>\n",
       "    <tr style=\"text-align: right;\">\n",
       "      <th></th>\n",
       "      <th>label</th>\n",
       "      <th>ltable_Beer_Name</th>\n",
       "      <th>ltable_Brew_Factory_Name</th>\n",
       "      <th>ltable_Style</th>\n",
       "      <th>ltable_ABV</th>\n",
       "      <th>rtable_Beer_Name</th>\n",
       "      <th>rtable_Brew_Factory_Name</th>\n",
       "      <th>rtable_Style</th>\n",
       "      <th>rtable_ABV</th>\n",
       "      <th>id</th>\n",
       "    </tr>\n",
       "  </thead>\n",
       "  <tbody>\n",
       "    <tr>\n",
       "      <th>0</th>\n",
       "      <td>0</td>\n",
       "      <td>Bulleit Bourbon Barrel Aged G'Knight</td>\n",
       "      <td>Oskar Blues Grill &amp; Brew</td>\n",
       "      <td>American Amber / Red Ale</td>\n",
       "      <td>8.70 %</td>\n",
       "      <td>Figure Eight Bourbon Barrel Aged Jumbo Love</td>\n",
       "      <td>Figure Eight Brewing</td>\n",
       "      <td>Barley Wine</td>\n",
       "      <td>-</td>\n",
       "      <td>642</td>\n",
       "    </tr>\n",
       "    <tr>\n",
       "      <th>1</th>\n",
       "      <td>0</td>\n",
       "      <td>Double Dragon Imperial Red Ale</td>\n",
       "      <td>Phillips Brewing Company</td>\n",
       "      <td>American Amber / Red Ale</td>\n",
       "      <td>8.20 %</td>\n",
       "      <td>Scuttlebutt Mateo Loco Imperial Red Ale</td>\n",
       "      <td>Scuttlebutt Brewing Co. .</td>\n",
       "      <td>American Strong Ale</td>\n",
       "      <td>7.10 %</td>\n",
       "      <td>560</td>\n",
       "    </tr>\n",
       "    <tr>\n",
       "      <th>2</th>\n",
       "      <td>0</td>\n",
       "      <td>Batch 200 _ `` Olympus Mons Imperial Red Ale</td>\n",
       "      <td>Due South Brewing Co. .</td>\n",
       "      <td>American Amber / Red Ale</td>\n",
       "      <td>9.20 %</td>\n",
       "      <td>Scuttlebutt Mateo Loco Imperial Red Ale</td>\n",
       "      <td>Scuttlebutt Brewing Co. .</td>\n",
       "      <td>American Strong Ale</td>\n",
       "      <td>7.10 %</td>\n",
       "      <td>562</td>\n",
       "    </tr>\n",
       "    <tr>\n",
       "      <th>3</th>\n",
       "      <td>1</td>\n",
       "      <td>Honey Basil Amber</td>\n",
       "      <td>Rude Hippo Brewing Company</td>\n",
       "      <td>American Amber / Red Ale</td>\n",
       "      <td>7.40 %</td>\n",
       "      <td>Rude Hippo Honey Basil Amber</td>\n",
       "      <td>18th Street Brewery</td>\n",
       "      <td>Amber Ale</td>\n",
       "      <td>7.40 %</td>\n",
       "      <td>598</td>\n",
       "    </tr>\n",
       "    <tr>\n",
       "      <th>4</th>\n",
       "      <td>0</td>\n",
       "      <td>Clifford 's Big Red Ale</td>\n",
       "      <td>Funky Buddha Brewery</td>\n",
       "      <td>American Amber / Red Ale</td>\n",
       "      <td>9.70 %</td>\n",
       "      <td>Big Island Red Giant Ale</td>\n",
       "      <td>Big Island Brewhaus</td>\n",
       "      <td>American Strong Ale</td>\n",
       "      <td>6.50 %</td>\n",
       "      <td>593</td>\n",
       "    </tr>\n",
       "  </tbody>\n",
       "</table>\n",
       "</div>"
      ],
      "text/plain": [
       "   label                              ltable_Beer_Name  \\\n",
       "0      0          Bulleit Bourbon Barrel Aged G'Knight   \n",
       "1      0                Double Dragon Imperial Red Ale   \n",
       "2      0  Batch 200 _ `` Olympus Mons Imperial Red Ale   \n",
       "3      1                             Honey Basil Amber   \n",
       "4      0                       Clifford 's Big Red Ale   \n",
       "\n",
       "     ltable_Brew_Factory_Name              ltable_Style ltable_ABV  \\\n",
       "0    Oskar Blues Grill & Brew  American Amber / Red Ale     8.70 %   \n",
       "1    Phillips Brewing Company  American Amber / Red Ale     8.20 %   \n",
       "2     Due South Brewing Co. .  American Amber / Red Ale     9.20 %   \n",
       "3  Rude Hippo Brewing Company  American Amber / Red Ale     7.40 %   \n",
       "4        Funky Buddha Brewery  American Amber / Red Ale     9.70 %   \n",
       "\n",
       "                              rtable_Beer_Name   rtable_Brew_Factory_Name  \\\n",
       "0  Figure Eight Bourbon Barrel Aged Jumbo Love       Figure Eight Brewing   \n",
       "1      Scuttlebutt Mateo Loco Imperial Red Ale  Scuttlebutt Brewing Co. .   \n",
       "2      Scuttlebutt Mateo Loco Imperial Red Ale  Scuttlebutt Brewing Co. .   \n",
       "3                 Rude Hippo Honey Basil Amber        18th Street Brewery   \n",
       "4                     Big Island Red Giant Ale        Big Island Brewhaus   \n",
       "\n",
       "          rtable_Style rtable_ABV   id  \n",
       "0          Barley Wine          -  642  \n",
       "1  American Strong Ale     7.10 %  560  \n",
       "2  American Strong Ale     7.10 %  562  \n",
       "3            Amber Ale     7.40 %  598  \n",
       "4  American Strong Ale     6.50 %  593  "
      ]
     },
     "execution_count": 14,
     "metadata": {},
     "output_type": "execute_result"
    }
   ],
   "source": [
    "test_df = pd.read_csv('../Structured/Beer/merged_test.csv')\n",
    "test_df.head()"
   ]
  },
  {
   "cell_type": "code",
   "execution_count": 15,
   "metadata": {},
   "outputs": [
    {
     "data": {
      "text/html": [
       "<div>\n",
       "<style scoped>\n",
       "    .dataframe tbody tr th:only-of-type {\n",
       "        vertical-align: middle;\n",
       "    }\n",
       "\n",
       "    .dataframe tbody tr th {\n",
       "        vertical-align: top;\n",
       "    }\n",
       "\n",
       "    .dataframe thead th {\n",
       "        text-align: right;\n",
       "    }\n",
       "</style>\n",
       "<table border=\"1\" class=\"dataframe\">\n",
       "  <thead>\n",
       "    <tr style=\"text-align: right;\">\n",
       "      <th></th>\n",
       "      <th>label</th>\n",
       "      <th>ltable_Beer_Name</th>\n",
       "      <th>ltable_Brew_Factory_Name</th>\n",
       "      <th>ltable_Style</th>\n",
       "      <th>ltable_ABV</th>\n",
       "      <th>rtable_Beer_Name</th>\n",
       "      <th>rtable_Brew_Factory_Name</th>\n",
       "      <th>rtable_Style</th>\n",
       "      <th>rtable_ABV</th>\n",
       "      <th>id</th>\n",
       "    </tr>\n",
       "  </thead>\n",
       "  <tbody>\n",
       "    <tr>\n",
       "      <th>0</th>\n",
       "      <td>0</td>\n",
       "      <td>Bu%leit Bourbon Barrel Aged G'Knight</td>\n",
       "      <td>Oskar BlXes Grill &amp; Brew</td>\n",
       "      <td>Ameri!an Amber / Red Ale</td>\n",
       "      <td>8.70?%</td>\n",
       "      <td>Figure Eight Bourbon B/rrel Aged Jumbo Love</td>\n",
       "      <td>Figure Eight grewing</td>\n",
       "      <td>Barl+y Wine</td>\n",
       "      <td>z</td>\n",
       "      <td>642</td>\n",
       "    </tr>\n",
       "    <tr>\n",
       "      <th>1</th>\n",
       "      <td>0</td>\n",
       "      <td>Double Dragon Imp4rial Red Ale</td>\n",
       "      <td>Phillips BrFwing Company</td>\n",
       "      <td>American Amb!r / Red Ale</td>\n",
       "      <td>Y.20 %</td>\n",
       "      <td>Scuttlebutt M0teo Loco Imperial Red Ale</td>\n",
       "      <td>Scuttlebutt Brewing Co&gt; .</td>\n",
       "      <td>American S/rong Ale</td>\n",
       "      <td>7.10 w</td>\n",
       "      <td>560</td>\n",
       "    </tr>\n",
       "    <tr>\n",
       "      <th>2</th>\n",
       "      <td>0</td>\n",
       "      <td>Batch 200 _ `` Olympus Mons Imperial Re' Ale</td>\n",
       "      <td>Due South Brewing Cf. .</td>\n",
       "      <td>American Amber / 5ed Ale</td>\n",
       "      <td>9.2j %</td>\n",
       "      <td>Scuttlebutt Mateo_Loco Imperial Red Ale</td>\n",
       "      <td>Scuttlebutt Brewing Co. *</td>\n",
       "      <td>AmeriMan Strong Ale</td>\n",
       "      <td>7.10 j</td>\n",
       "      <td>562</td>\n",
       "    </tr>\n",
       "    <tr>\n",
       "      <th>3</th>\n",
       "      <td>1</td>\n",
       "      <td>Honey Ba-il Amber</td>\n",
       "      <td>Rude HippC Brewing Company</td>\n",
       "      <td>AmericanCAmber / Red Ale</td>\n",
       "      <td>7.40 #</td>\n",
       "      <td>RudeEHippo Honey Basil Amber</td>\n",
       "      <td>18th&lt;Street Brewery</td>\n",
       "      <td>Ambzr Ale</td>\n",
       "      <td>7.4+ %</td>\n",
       "      <td>598</td>\n",
       "    </tr>\n",
       "    <tr>\n",
       "      <th>4</th>\n",
       "      <td>0</td>\n",
       "      <td>Cliffkrd 's Big Red Ale</td>\n",
       "      <td>Funky Buddh1 Brewery</td>\n",
       "      <td>Am&lt;rican Amber / Red Ale</td>\n",
       "      <td>9.77 %</td>\n",
       "      <td>Big Island Red GiaQt Ale</td>\n",
       "      <td>Big Island Bjewhaus</td>\n",
       "      <td>American St?ong Ale</td>\n",
       "      <td>6H50 %</td>\n",
       "      <td>593</td>\n",
       "    </tr>\n",
       "  </tbody>\n",
       "</table>\n",
       "</div>"
      ],
      "text/plain": [
       "   label                              ltable_Beer_Name  \\\n",
       "0      0          Bu%leit Bourbon Barrel Aged G'Knight   \n",
       "1      0                Double Dragon Imp4rial Red Ale   \n",
       "2      0  Batch 200 _ `` Olympus Mons Imperial Re' Ale   \n",
       "3      1                             Honey Ba-il Amber   \n",
       "4      0                       Cliffkrd 's Big Red Ale   \n",
       "\n",
       "     ltable_Brew_Factory_Name              ltable_Style ltable_ABV  \\\n",
       "0    Oskar BlXes Grill & Brew  Ameri!an Amber / Red Ale     8.70?%   \n",
       "1    Phillips BrFwing Company  American Amb!r / Red Ale     Y.20 %   \n",
       "2     Due South Brewing Cf. .  American Amber / 5ed Ale     9.2j %   \n",
       "3  Rude HippC Brewing Company  AmericanCAmber / Red Ale     7.40 #   \n",
       "4        Funky Buddh1 Brewery  Am<rican Amber / Red Ale     9.77 %   \n",
       "\n",
       "                              rtable_Beer_Name   rtable_Brew_Factory_Name  \\\n",
       "0  Figure Eight Bourbon B/rrel Aged Jumbo Love       Figure Eight grewing   \n",
       "1      Scuttlebutt M0teo Loco Imperial Red Ale  Scuttlebutt Brewing Co> .   \n",
       "2      Scuttlebutt Mateo_Loco Imperial Red Ale  Scuttlebutt Brewing Co. *   \n",
       "3                 RudeEHippo Honey Basil Amber        18th<Street Brewery   \n",
       "4                     Big Island Red GiaQt Ale        Big Island Bjewhaus   \n",
       "\n",
       "          rtable_Style rtable_ABV   id  \n",
       "0          Barl+y Wine          z  642  \n",
       "1  American S/rong Ale     7.10 w  560  \n",
       "2  AmeriMan Strong Ale     7.10 j  562  \n",
       "3            Ambzr Ale     7.4+ %  598  \n",
       "4  American St?ong Ale     6H50 %  593  "
      ]
     },
     "execution_count": 15,
     "metadata": {},
     "output_type": "execute_result"
    }
   ],
   "source": [
    "attackDataset(test_df,['id','label'])\n",
    "test_df.head()"
   ]
  },
  {
   "cell_type": "code",
   "execution_count": 16,
   "metadata": {},
   "outputs": [],
   "source": [
    "test_df.to_csv('../Structured/Beer/attacked_test.csv',index=False)"
   ]
  },
  {
   "cell_type": "code",
   "execution_count": 18,
   "metadata": {},
   "outputs": [],
   "source": [
    "train,validation,attacked_test = dm.data.process('../Structured/Beer/',train='merged_train.csv',\n",
    "                                                validation='merged_valid.csv',test='attacked_test.csv',\n",
    "                                                left_prefix='ltable_',right_prefix='rtable_',cache='attack.pth')"
   ]
  },
  {
   "cell_type": "code",
   "execution_count": 20,
   "metadata": {},
   "outputs": [
    {
     "name": "stdout",
     "output_type": "stream",
     "text": [
      "* Number of trainable parameters: 9210006\n",
      "===>  TRAIN Epoch 1\n",
      "Finished Epoch 1 || Run Time:    2.1 | Load Time:    0.5 || F1:  27.67 | Prec:  18.49 | Rec:  55.00 || Ex/s: 103.25\n",
      "\n",
      "===>  EVAL Epoch 1\n",
      "Finished Epoch 1 || Run Time:    0.2 | Load Time:    0.1 || F1:  26.67 | Prec:  15.38 | Rec: 100.00 || Ex/s: 254.67\n",
      "\n",
      "* Best F1: 26.666666666666668\n",
      "Saving best model...\n",
      "Done.\n",
      "---------------------\n",
      "\n",
      "===>  TRAIN Epoch 2\n",
      "Finished Epoch 2 || Run Time:    2.1 | Load Time:    0.5 || F1:  34.17 | Prec:  21.38 | Rec:  85.00 || Ex/s: 103.79\n",
      "\n",
      "===>  EVAL Epoch 2\n",
      "Finished Epoch 2 || Run Time:    0.2 | Load Time:    0.1 || F1:  47.83 | Prec:  34.38 | Rec:  78.57 || Ex/s: 255.05\n",
      "\n",
      "* Best F1: 47.826086956521735\n",
      "Saving best model...\n",
      "Done.\n",
      "---------------------\n",
      "\n",
      "===>  TRAIN Epoch 3\n",
      "Finished Epoch 3 || Run Time:    2.1 | Load Time:    0.5 || F1:  65.00 | Prec:  48.75 | Rec:  97.50 || Ex/s: 104.59\n",
      "\n",
      "===>  EVAL Epoch 3\n",
      "Finished Epoch 3 || Run Time:    0.2 | Load Time:    0.1 || F1:  40.00 | Prec:  25.00 | Rec: 100.00 || Ex/s: 251.77\n",
      "\n",
      "---------------------\n",
      "\n",
      "===>  TRAIN Epoch 4\n",
      "Finished Epoch 4 || Run Time:    2.1 | Load Time:    0.5 || F1:  57.36 | Prec:  41.57 | Rec:  92.50 || Ex/s: 105.50\n",
      "\n",
      "===>  EVAL Epoch 4\n",
      "Finished Epoch 4 || Run Time:    0.2 | Load Time:    0.1 || F1:  41.79 | Prec:  26.42 | Rec: 100.00 || Ex/s: 254.11\n",
      "\n",
      "---------------------\n",
      "\n",
      "===>  TRAIN Epoch 5\n",
      "Finished Epoch 5 || Run Time:    2.1 | Load Time:    0.5 || F1:  63.41 | Prec:  46.99 | Rec:  97.50 || Ex/s: 104.83\n",
      "\n",
      "===>  EVAL Epoch 5\n",
      "Finished Epoch 5 || Run Time:    0.2 | Load Time:    0.1 || F1:  59.09 | Prec:  43.33 | Rec:  92.86 || Ex/s: 248.96\n",
      "\n",
      "* Best F1: 59.09090909090909\n",
      "Saving best model...\n",
      "Done.\n",
      "---------------------\n",
      "\n",
      "===>  TRAIN Epoch 6\n",
      "Finished Epoch 6 || Run Time:    2.0 | Load Time:    0.5 || F1:  72.73 | Prec:  57.14 | Rec: 100.00 || Ex/s: 107.38\n",
      "\n",
      "===>  EVAL Epoch 6\n",
      "Finished Epoch 6 || Run Time:    0.2 | Load Time:    0.1 || F1:  50.00 | Prec:  34.21 | Rec:  92.86 || Ex/s: 250.40\n",
      "\n",
      "---------------------\n",
      "\n",
      "===>  TRAIN Epoch 7\n",
      "Finished Epoch 7 || Run Time:    2.1 | Load Time:    0.5 || F1:  84.21 | Prec:  72.73 | Rec: 100.00 || Ex/s: 104.40\n",
      "\n",
      "===>  EVAL Epoch 7\n",
      "Finished Epoch 7 || Run Time:    0.2 | Load Time:    0.1 || F1:  57.78 | Prec:  41.94 | Rec:  92.86 || Ex/s: 253.02\n",
      "\n",
      "---------------------\n",
      "\n",
      "===>  TRAIN Epoch 8\n",
      "Finished Epoch 8 || Run Time:    2.0 | Load Time:    0.5 || F1:  86.02 | Prec:  75.47 | Rec: 100.00 || Ex/s: 106.94\n",
      "\n",
      "===>  EVAL Epoch 8\n",
      "Finished Epoch 8 || Run Time:    0.2 | Load Time:    0.1 || F1:  57.78 | Prec:  41.94 | Rec:  92.86 || Ex/s: 254.63\n",
      "\n",
      "---------------------\n",
      "\n",
      "===>  TRAIN Epoch 9\n",
      "Finished Epoch 9 || Run Time:    2.1 | Load Time:    0.5 || F1:  91.95 | Prec:  85.11 | Rec: 100.00 || Ex/s: 104.75\n",
      "\n",
      "===>  EVAL Epoch 9\n",
      "Finished Epoch 9 || Run Time:    0.2 | Load Time:    0.1 || F1:  65.00 | Prec:  50.00 | Rec:  92.86 || Ex/s: 254.11\n",
      "\n",
      "* Best F1: 65.0\n",
      "Saving best model...\n",
      "Done.\n",
      "---------------------\n",
      "\n",
      "===>  TRAIN Epoch 10\n",
      "Finished Epoch 10 || Run Time:    2.0 | Load Time:    0.5 || F1:  91.95 | Prec:  85.11 | Rec: 100.00 || Ex/s: 107.09\n",
      "\n",
      "===>  EVAL Epoch 10\n",
      "Finished Epoch 10 || Run Time:    0.2 | Load Time:    0.1 || F1:  66.67 | Prec:  52.00 | Rec:  92.86 || Ex/s: 248.67\n",
      "\n",
      "* Best F1: 66.66666666666666\n",
      "Saving best model...\n",
      "Done.\n",
      "---------------------\n",
      "\n",
      "===>  TRAIN Epoch 11\n",
      "Finished Epoch 11 || Run Time:    2.1 | Load Time:    0.5 || F1:  93.02 | Prec:  86.96 | Rec: 100.00 || Ex/s: 103.30\n",
      "\n",
      "===>  EVAL Epoch 11\n",
      "Finished Epoch 11 || Run Time:    0.2 | Load Time:    0.1 || F1:  70.27 | Prec:  56.52 | Rec:  92.86 || Ex/s: 254.95\n",
      "\n",
      "* Best F1: 70.27027027027026\n",
      "Saving best model...\n",
      "Done.\n",
      "---------------------\n",
      "\n",
      "===>  TRAIN Epoch 12\n",
      "Finished Epoch 12 || Run Time:    2.1 | Load Time:    0.5 || F1:  95.24 | Prec:  90.91 | Rec: 100.00 || Ex/s: 104.67\n",
      "\n",
      "===>  EVAL Epoch 12\n",
      "Finished Epoch 12 || Run Time:    0.2 | Load Time:    0.1 || F1:  70.27 | Prec:  56.52 | Rec:  92.86 || Ex/s: 253.58\n",
      "\n",
      "---------------------\n",
      "\n",
      "===>  TRAIN Epoch 13\n",
      "Finished Epoch 13 || Run Time:    2.1 | Load Time:    0.5 || F1:  95.24 | Prec:  90.91 | Rec: 100.00 || Ex/s: 105.48\n",
      "\n",
      "===>  EVAL Epoch 13\n",
      "Finished Epoch 13 || Run Time:    0.2 | Load Time:    0.1 || F1:  70.27 | Prec:  56.52 | Rec:  92.86 || Ex/s: 254.26\n",
      "\n",
      "---------------------\n",
      "\n",
      "===>  TRAIN Epoch 14\n",
      "Finished Epoch 14 || Run Time:    2.0 | Load Time:    0.5 || F1:  96.39 | Prec:  93.02 | Rec: 100.00 || Ex/s: 107.28\n",
      "\n",
      "===>  EVAL Epoch 14\n",
      "Finished Epoch 14 || Run Time:    0.2 | Load Time:    0.1 || F1:  70.27 | Prec:  56.52 | Rec:  92.86 || Ex/s: 253.97\n",
      "\n",
      "---------------------\n",
      "\n",
      "===>  TRAIN Epoch 15\n",
      "Finished Epoch 15 || Run Time:    2.1 | Load Time:    0.5 || F1:  97.56 | Prec:  95.24 | Rec: 100.00 || Ex/s: 103.66\n",
      "\n",
      "===>  EVAL Epoch 15\n",
      "Finished Epoch 15 || Run Time:    0.2 | Load Time:    0.1 || F1:  70.27 | Prec:  56.52 | Rec:  92.86 || Ex/s: 252.68\n",
      "\n",
      "---------------------\n",
      "\n",
      "===>  TRAIN Epoch 16\n",
      "Finished Epoch 16 || Run Time:    2.1 | Load Time:    0.5 || F1:  98.77 | Prec:  97.56 | Rec: 100.00 || Ex/s: 104.15\n",
      "\n",
      "===>  EVAL Epoch 16\n",
      "Finished Epoch 16 || Run Time:    0.2 | Load Time:    0.1 || F1:  70.27 | Prec:  56.52 | Rec:  92.86 || Ex/s: 254.67\n",
      "\n",
      "---------------------\n",
      "\n",
      "===>  TRAIN Epoch 17\n",
      "Finished Epoch 17 || Run Time:    2.0 | Load Time:    0.5 || F1:  98.77 | Prec:  97.56 | Rec: 100.00 || Ex/s: 106.67\n",
      "\n",
      "===>  EVAL Epoch 17\n",
      "Finished Epoch 17 || Run Time:    0.2 | Load Time:    0.1 || F1:  70.27 | Prec:  56.52 | Rec:  92.86 || Ex/s: 249.68\n",
      "\n",
      "---------------------\n",
      "\n",
      "===>  TRAIN Epoch 18\n",
      "Finished Epoch 18 || Run Time:    2.3 | Load Time:    0.5 || F1:  98.77 | Prec:  97.56 | Rec: 100.00 || Ex/s:  98.50\n",
      "\n",
      "===>  EVAL Epoch 18\n",
      "Finished Epoch 18 || Run Time:    0.2 | Load Time:    0.1 || F1:  70.27 | Prec:  56.52 | Rec:  92.86 || Ex/s: 254.09\n",
      "\n",
      "---------------------\n",
      "\n",
      "===>  TRAIN Epoch 19\n",
      "Finished Epoch 19 || Run Time:    2.1 | Load Time:    0.5 || F1:  98.77 | Prec:  97.56 | Rec: 100.00 || Ex/s: 104.36\n",
      "\n",
      "===>  EVAL Epoch 19\n",
      "Finished Epoch 19 || Run Time:    0.2 | Load Time:    0.1 || F1:  70.27 | Prec:  56.52 | Rec:  92.86 || Ex/s: 252.34\n",
      "\n",
      "---------------------\n",
      "\n",
      "===>  TRAIN Epoch 20\n",
      "Finished Epoch 20 || Run Time:    2.1 | Load Time:    0.5 || F1:  98.77 | Prec:  97.56 | Rec: 100.00 || Ex/s: 104.04\n",
      "\n",
      "===>  EVAL Epoch 20\n",
      "Finished Epoch 20 || Run Time:    0.2 | Load Time:    0.1 || F1:  70.27 | Prec:  56.52 | Rec:  92.86 || Ex/s: 253.75\n",
      "\n",
      "---------------------\n",
      "\n",
      "Loading best model...\n",
      "Training done.\n"
     ]
    },
    {
     "data": {
      "text/plain": [
       "70.27027027027026"
      ]
     },
     "execution_count": 20,
     "metadata": {},
     "output_type": "execute_result"
    }
   ],
   "source": [
    "model2 = dm.MatchingModel(attr_summarizer='hybrid')\n",
    "model2.run_train(train,validation,pos_neg_ratio=5,best_save_path='../models/beer_hybrid_forattack.pth',\n",
    "              epochs=20)"
   ]
  },
  {
   "cell_type": "code",
   "execution_count": 21,
   "metadata": {},
   "outputs": [
    {
     "name": "stdout",
     "output_type": "stream",
     "text": [
      "===>  EVAL Epoch 11\n",
      "Finished Epoch 11 || Run Time:    0.2 | Load Time:    0.2 || F1:  52.00 | Prec:  36.11 | Rec:  92.86 || Ex/s: 239.85\n",
      "\n"
     ]
    },
    {
     "data": {
      "text/plain": [
       "52.00000000000001"
      ]
     },
     "execution_count": 21,
     "metadata": {},
     "output_type": "execute_result"
    }
   ],
   "source": [
    "model2.run_eval(attacked_test)"
   ]
  },
  {
   "cell_type": "markdown",
   "metadata": {},
   "source": [
    "### DBLP-ACM"
   ]
  },
  {
   "cell_type": "code",
   "execution_count": 40,
   "metadata": {},
   "outputs": [],
   "source": [
    "test_df = pd.read_csv('../Structured/DBLP-ACM/merged_test.csv')\n",
    "attackDataset(test_df,['id','label'])\n",
    "test_df.to_csv('../Structured/DBLP-ACM/attacked_test.csv',index=False)"
   ]
  },
  {
   "cell_type": "code",
   "execution_count": 11,
   "metadata": {},
   "outputs": [
    {
     "name": "stderr",
     "output_type": "stream",
     "text": [
      "WARNING:deepmatcher.data.dataset:Rebuilding data cache because: ['One or more data files have been modified.', 'Data file list has changed.']\n",
      "\n",
      "Reading and processing data from \"../Structured/DBLP-ACM/merged_train.csv\"\n",
      "0% [############################# ] 100% | ETA: 00:00:00\n",
      "Reading and processing data from \"../Structured/DBLP-ACM/merged_validation.csv\"\n",
      "0% [############################# ] 100% | ETA: 00:00:00\n",
      "Reading and processing data from \"../Structured/DBLP-ACM/attacked_test.csv\"\n",
      "0% [############################# ] 100% | ETA: 00:00:00\n",
      "Building vocabulary\n",
      "0% [########] 100% | ETA: 00:00:00\n",
      "Total time elapsed: 00:00:00\n",
      "\n",
      "Computing principal components\n",
      "0% [########] 100% | ETA: 00:00:00\n",
      "Total time elapsed: 00:00:03\n"
     ]
    }
   ],
   "source": [
    "train,validation,test = dm.data.process('../Structured/DBLP-ACM',train='merged_train.csv',\n",
    "                                        validation='merged_validation.csv',\n",
    "                       test='attacked_test.csv',left_prefix='ltable_',\n",
    "                      right_prefix='rtable_',cache='attack.pth')"
   ]
  },
  {
   "cell_type": "code",
   "execution_count": 12,
   "metadata": {},
   "outputs": [
    {
     "name": "stdout",
     "output_type": "stream",
     "text": [
      "* Number of trainable parameters: 9210006\n",
      "===>  TRAIN Epoch 1\n"
     ]
    },
    {
     "name": "stderr",
     "output_type": "stream",
     "text": [
      "0% [██████████████████████████████] 100% | ETA: 00:00:00\n",
      "Total time elapsed: 00:00:46\n"
     ]
    },
    {
     "name": "stdout",
     "output_type": "stream",
     "text": [
      "Finished Epoch 1 || Run Time:   38.7 | Load Time:    8.5 || F1:  77.43 | Prec:  63.78 | Rec:  98.50 || Ex/s: 156.91\n",
      "\n",
      "===>  EVAL Epoch 1\n"
     ]
    },
    {
     "name": "stderr",
     "output_type": "stream",
     "text": [
      "0% [███████████████] 100% | ETA: 00:00:00\n",
      "Total time elapsed: 00:00:06\n"
     ]
    },
    {
     "name": "stdout",
     "output_type": "stream",
     "text": [
      "Finished Epoch 1 || Run Time:    4.0 | Load Time:    2.7 || F1:  95.59 | Prec:  91.55 | Rec: 100.00 || Ex/s: 369.88\n",
      "\n",
      "* Best F1: 95.58665231431647\n",
      "Saving best model...\n",
      "Done.\n",
      "---------------------\n",
      "\n",
      "===>  TRAIN Epoch 2\n"
     ]
    },
    {
     "name": "stderr",
     "output_type": "stream",
     "text": [
      "0% [██████████████████████████████] 100% | ETA: 00:00:00\n",
      "Total time elapsed: 00:00:46\n"
     ]
    },
    {
     "name": "stdout",
     "output_type": "stream",
     "text": [
      "Finished Epoch 2 || Run Time:   38.3 | Load Time:    8.5 || F1:  97.15 | Prec:  94.72 | Rec:  99.70 || Ex/s: 158.52\n",
      "\n",
      "===>  EVAL Epoch 2\n"
     ]
    },
    {
     "name": "stderr",
     "output_type": "stream",
     "text": [
      "0% [███████████████] 100% | ETA: 00:00:00\n",
      "Total time elapsed: 00:00:06\n"
     ]
    },
    {
     "name": "stdout",
     "output_type": "stream",
     "text": [
      "Finished Epoch 2 || Run Time:    4.0 | Load Time:    2.7 || F1:  97.91 | Prec:  95.90 | Rec: 100.00 || Ex/s: 370.43\n",
      "\n",
      "* Best F1: 97.90518191841234\n",
      "Saving best model...\n",
      "Done.\n",
      "---------------------\n",
      "\n",
      "===>  TRAIN Epoch 3\n"
     ]
    },
    {
     "name": "stderr",
     "output_type": "stream",
     "text": [
      "0% [██████████████████████████████] 100% | ETA: 00:00:00\n",
      "Total time elapsed: 00:00:46\n"
     ]
    },
    {
     "name": "stdout",
     "output_type": "stream",
     "text": [
      "Finished Epoch 3 || Run Time:   38.7 | Load Time:    8.5 || F1:  98.30 | Prec:  96.73 | Rec:  99.92 || Ex/s: 157.33\n",
      "\n",
      "===>  EVAL Epoch 3\n"
     ]
    },
    {
     "name": "stderr",
     "output_type": "stream",
     "text": [
      "0% [███████████████] 100% | ETA: 00:00:00\n",
      "Total time elapsed: 00:00:06\n"
     ]
    },
    {
     "name": "stdout",
     "output_type": "stream",
     "text": [
      "Finished Epoch 3 || Run Time:    4.1 | Load Time:    2.7 || F1:  98.67 | Prec:  97.37 | Rec: 100.00 || Ex/s: 367.45\n",
      "\n",
      "* Best F1: 98.66666666666669\n",
      "Saving best model...\n",
      "Done.\n",
      "---------------------\n",
      "\n",
      "===>  TRAIN Epoch 4\n"
     ]
    },
    {
     "name": "stderr",
     "output_type": "stream",
     "text": [
      "0% [██████████████████████████████] 100% | ETA: 00:00:00\n",
      "Total time elapsed: 00:00:46\n"
     ]
    },
    {
     "name": "stdout",
     "output_type": "stream",
     "text": [
      "Finished Epoch 4 || Run Time:   38.6 | Load Time:    8.5 || F1:  98.70 | Prec:  97.51 | Rec:  99.92 || Ex/s: 157.49\n",
      "\n",
      "===>  EVAL Epoch 4\n"
     ]
    },
    {
     "name": "stderr",
     "output_type": "stream",
     "text": [
      "0% [███████████████] 100% | ETA: 00:00:00\n",
      "Total time elapsed: 00:00:06\n"
     ]
    },
    {
     "name": "stdout",
     "output_type": "stream",
     "text": [
      "Finished Epoch 4 || Run Time:    4.0 | Load Time:    2.7 || F1:  98.76 | Prec:  98.65 | Rec:  98.87 || Ex/s: 369.14\n",
      "\n",
      "* Best F1: 98.76265466816649\n",
      "Saving best model...\n",
      "Done.\n",
      "---------------------\n",
      "\n",
      "===>  TRAIN Epoch 5\n"
     ]
    },
    {
     "name": "stderr",
     "output_type": "stream",
     "text": [
      "0% [██████████████████████████████] 100% | ETA: 00:00:00\n",
      "Total time elapsed: 00:00:46\n"
     ]
    },
    {
     "name": "stdout",
     "output_type": "stream",
     "text": [
      "Finished Epoch 5 || Run Time:   38.5 | Load Time:    8.5 || F1:  99.03 | Prec:  98.09 | Rec: 100.00 || Ex/s: 157.85\n",
      "\n",
      "===>  EVAL Epoch 5\n"
     ]
    },
    {
     "name": "stderr",
     "output_type": "stream",
     "text": [
      "0% [███████████████] 100% | ETA: 00:00:00\n",
      "Total time elapsed: 00:00:06\n"
     ]
    },
    {
     "name": "stdout",
     "output_type": "stream",
     "text": [
      "Finished Epoch 5 || Run Time:    4.0 | Load Time:    2.7 || F1:  98.65 | Prec:  98.87 | Rec:  98.42 || Ex/s: 369.16\n",
      "\n",
      "---------------------\n",
      "\n",
      "===>  TRAIN Epoch 6\n"
     ]
    },
    {
     "name": "stderr",
     "output_type": "stream",
     "text": [
      "0% [██████████████████████████████] 100% | ETA: 00:00:00\n",
      "Total time elapsed: 00:00:47\n"
     ]
    },
    {
     "name": "stdout",
     "output_type": "stream",
     "text": [
      "Finished Epoch 6 || Run Time:   39.2 | Load Time:    8.6 || F1:  99.22 | Prec:  98.45 | Rec: 100.00 || Ex/s: 155.40\n",
      "\n",
      "===>  EVAL Epoch 6\n"
     ]
    },
    {
     "name": "stderr",
     "output_type": "stream",
     "text": [
      "0% [███████████████] 100% | ETA: 00:00:00\n",
      "Total time elapsed: 00:00:06\n"
     ]
    },
    {
     "name": "stdout",
     "output_type": "stream",
     "text": [
      "Finished Epoch 6 || Run Time:    4.1 | Load Time:    2.7 || F1:  98.77 | Prec:  97.79 | Rec:  99.77 || Ex/s: 366.52\n",
      "\n",
      "* Best F1: 98.7736900780379\n",
      "Saving best model...\n",
      "Done.\n",
      "---------------------\n",
      "\n",
      "===>  TRAIN Epoch 7\n"
     ]
    },
    {
     "name": "stderr",
     "output_type": "stream",
     "text": [
      "0% [██████████████████████████████] 100% | ETA: 00:00:00\n",
      "Total time elapsed: 00:00:48\n"
     ]
    },
    {
     "name": "stdout",
     "output_type": "stream",
     "text": [
      "Finished Epoch 7 || Run Time:   39.9 | Load Time:    8.8 || F1:  99.37 | Prec:  98.74 | Rec: 100.00 || Ex/s: 152.17\n",
      "\n",
      "===>  EVAL Epoch 7\n"
     ]
    },
    {
     "name": "stderr",
     "output_type": "stream",
     "text": [
      "0% [███████████████] 100% | ETA: 00:00:00\n",
      "Total time elapsed: 00:00:07\n"
     ]
    },
    {
     "name": "stdout",
     "output_type": "stream",
     "text": [
      "Finished Epoch 7 || Run Time:    4.5 | Load Time:    2.8 || F1:  98.34 | Prec:  96.94 | Rec:  99.77 || Ex/s: 338.06\n",
      "\n",
      "---------------------\n",
      "\n",
      "===>  TRAIN Epoch 8\n"
     ]
    },
    {
     "name": "stderr",
     "output_type": "stream",
     "text": [
      "0% [██████████████████████████████] 100% | ETA: 00:00:00\n",
      "Total time elapsed: 00:00:47\n"
     ]
    },
    {
     "name": "stdout",
     "output_type": "stream",
     "text": [
      "Finished Epoch 8 || Run Time:   39.0 | Load Time:    8.6 || F1:  99.40 | Prec:  98.81 | Rec: 100.00 || Ex/s: 155.81\n",
      "\n",
      "===>  EVAL Epoch 8\n"
     ]
    },
    {
     "name": "stderr",
     "output_type": "stream",
     "text": [
      "0% [███████████████] 100% | ETA: 00:00:00\n",
      "Total time elapsed: 00:00:06\n"
     ]
    },
    {
     "name": "stdout",
     "output_type": "stream",
     "text": [
      "Finished Epoch 8 || Run Time:    4.1 | Load Time:    2.7 || F1:  98.55 | Prec:  97.36 | Rec:  99.77 || Ex/s: 368.21\n",
      "\n",
      "---------------------\n",
      "\n",
      "===>  TRAIN Epoch 9\n"
     ]
    },
    {
     "name": "stderr",
     "output_type": "stream",
     "text": [
      "0% [██████████████████████████████] 100% | ETA: 00:00:00\n",
      "Total time elapsed: 00:00:46\n"
     ]
    },
    {
     "name": "stdout",
     "output_type": "stream",
     "text": [
      "Finished Epoch 9 || Run Time:   38.6 | Load Time:    8.5 || F1:  99.40 | Prec:  98.81 | Rec: 100.00 || Ex/s: 157.68\n",
      "\n",
      "===>  EVAL Epoch 9\n"
     ]
    },
    {
     "name": "stderr",
     "output_type": "stream",
     "text": [
      "0% [███████████████] 100% | ETA: 00:00:00\n",
      "Total time elapsed: 00:00:06\n"
     ]
    },
    {
     "name": "stdout",
     "output_type": "stream",
     "text": [
      "Finished Epoch 9 || Run Time:    4.2 | Load Time:    2.7 || F1:  98.55 | Prec:  97.36 | Rec:  99.77 || Ex/s: 355.80\n",
      "\n",
      "---------------------\n",
      "\n",
      "===>  TRAIN Epoch 10\n"
     ]
    },
    {
     "name": "stderr",
     "output_type": "stream",
     "text": [
      "0% [██████████████████████████████] 100% | ETA: 00:00:00\n",
      "Total time elapsed: 00:00:49\n"
     ]
    },
    {
     "name": "stdout",
     "output_type": "stream",
     "text": [
      "Finished Epoch 10 || Run Time:   40.7 | Load Time:    9.0 || F1:  99.40 | Prec:  98.81 | Rec: 100.00 || Ex/s: 149.18\n",
      "\n",
      "===>  EVAL Epoch 10\n"
     ]
    },
    {
     "name": "stderr",
     "output_type": "stream",
     "text": [
      "0% [███████████████] 100% | ETA: 00:00:00\n",
      "Total time elapsed: 00:00:06\n"
     ]
    },
    {
     "name": "stdout",
     "output_type": "stream",
     "text": [
      "Finished Epoch 10 || Run Time:    4.2 | Load Time:    2.7 || F1:  98.55 | Prec:  97.36 | Rec:  99.77 || Ex/s: 360.75\n",
      "\n",
      "---------------------\n",
      "\n",
      "Loading best model...\n",
      "Training done.\n"
     ]
    },
    {
     "data": {
      "text/plain": [
       "98.7736900780379"
      ]
     },
     "execution_count": 12,
     "metadata": {},
     "output_type": "execute_result"
    }
   ],
   "source": [
    "model2 = dm.MatchingModel(attr_summarizer='hybrid')\n",
    "model2.run_train(train,validation,pos_neg_ratio=6,best_save_path='../models/dblpacm_hybrid_forattack.pth',\n",
    "              epochs=10)"
   ]
  },
  {
   "cell_type": "code",
   "execution_count": 13,
   "metadata": {},
   "outputs": [
    {
     "name": "stdout",
     "output_type": "stream",
     "text": [
      "===>  EVAL Epoch 6\n"
     ]
    },
    {
     "name": "stderr",
     "output_type": "stream",
     "text": [
      "0% [███████████████] 100% | ETA: 00:00:00\n",
      "Total time elapsed: 00:00:06\n"
     ]
    },
    {
     "name": "stdout",
     "output_type": "stream",
     "text": [
      "Finished Epoch 6 || Run Time:    4.3 | Load Time:    2.9 || F1:  32.77 | Prec:  94.62 | Rec:  19.82 || Ex/s: 345.25\n",
      "\n"
     ]
    },
    {
     "data": {
      "text/plain": [
       "32.774674115456236"
      ]
     },
     "execution_count": 13,
     "metadata": {},
     "output_type": "execute_result"
    }
   ],
   "source": [
    "model2.run_eval(test)"
   ]
  },
  {
   "cell_type": "markdown",
   "metadata": {},
   "source": [
    "### Walmart-Amazon"
   ]
  },
  {
   "cell_type": "code",
   "execution_count": 12,
   "metadata": {},
   "outputs": [],
   "source": [
    "test_df = pd.read_csv('../Structured/Walmart-Amazon/merged_test.csv')\n",
    "attackDataset(test_df,['id','label'])"
   ]
  },
  {
   "cell_type": "code",
   "execution_count": 13,
   "metadata": {},
   "outputs": [],
   "source": [
    "test_df.to_csv('../Structured/Walmart-Amazon/attacked_test.csv',index=False)"
   ]
  },
  {
   "cell_type": "code",
   "execution_count": 18,
   "metadata": {},
   "outputs": [
    {
     "name": "stderr",
     "output_type": "stream",
     "text": [
      "\n",
      "Reading and processing data from \"../Structured/Walmart-Amazon/merged_train.csv\"\n",
      "0% [############################# ] 100% | ETA: 00:00:00\n",
      "Reading and processing data from \"../Structured/Walmart-Amazon/merged_valid.csv\"\n",
      "0% [############################# ] 100% | ETA: 00:00:00\n",
      "Reading and processing data from \"../Structured/Walmart-Amazon/attacked_test.csv\"\n",
      "0% [############################# ] 100% | ETA: 00:00:00\n",
      "Building vocabulary\n",
      "0% [######] 100% | ETA: 00:00:00\n",
      "Total time elapsed: 00:00:00\n",
      "\n",
      "Computing principal components\n",
      "0% [######] 100% | ETA: 00:00:00\n",
      "Total time elapsed: 00:00:01\n"
     ]
    }
   ],
   "source": [
    "train,validation,attackec_test = dm.data.process('../Structured/Walmart-Amazon/',train='merged_train.csv',\n",
    "                                        validation='merged_valid.csv',test='attacked_test.csv'\n",
    "                                                 ,left_prefix='ltable_',right_prefix='rtable_',cache='attack.pth')"
   ]
  },
  {
   "cell_type": "code",
   "execution_count": 19,
   "metadata": {},
   "outputs": [
    {
     "name": "stdout",
     "output_type": "stream",
     "text": [
      "* Number of trainable parameters: 11286907\n",
      "===>  TRAIN Epoch 1\n"
     ]
    },
    {
     "name": "stderr",
     "output_type": "stream",
     "text": [
      "0% [██████████████████████████████] 100% | ETA: 00:00:00\n",
      "Total time elapsed: 00:00:33\n"
     ]
    },
    {
     "name": "stdout",
     "output_type": "stream",
     "text": [
      "Finished Epoch 1 || Run Time:   29.5 | Load Time:    4.9 || F1:  20.69 | Prec:  11.62 | Rec:  94.27 || Ex/s: 179.08\n",
      "\n",
      "===>  EVAL Epoch 1\n"
     ]
    },
    {
     "name": "stderr",
     "output_type": "stream",
     "text": [
      "0% [█████████████] 100% | ETA: 00:00:00\n",
      "Total time elapsed: 00:00:05\n"
     ]
    },
    {
     "name": "stdout",
     "output_type": "stream",
     "text": [
      "Finished Epoch 1 || Run Time:    3.5 | Load Time:    1.5 || F1:  24.78 | Prec:  14.27 | Rec:  93.78 || Ex/s: 409.37\n",
      "\n",
      "* Best F1: 24.777549623545514\n",
      "Saving best model...\n",
      "Done.\n",
      "---------------------\n",
      "\n",
      "===>  TRAIN Epoch 2\n"
     ]
    },
    {
     "name": "stderr",
     "output_type": "stream",
     "text": [
      "0% [██████████████████████████████] 100% | ETA: 00:00:00\n",
      "Total time elapsed: 00:00:32\n"
     ]
    },
    {
     "name": "stdout",
     "output_type": "stream",
     "text": [
      "Finished Epoch 2 || Run Time:   28.5 | Load Time:    4.8 || F1:  28.48 | Prec:  16.84 | Rec:  92.19 || Ex/s: 184.50\n",
      "\n",
      "===>  EVAL Epoch 2\n"
     ]
    },
    {
     "name": "stderr",
     "output_type": "stream",
     "text": [
      "0% [█████████████] 100% | ETA: 00:00:00\n",
      "Total time elapsed: 00:00:04\n"
     ]
    },
    {
     "name": "stdout",
     "output_type": "stream",
     "text": [
      "Finished Epoch 2 || Run Time:    3.5 | Load Time:    1.5 || F1:  29.01 | Prec:  17.21 | Rec:  92.23 || Ex/s: 414.44\n",
      "\n",
      "* Best F1: 29.013854930725344\n",
      "Saving best model...\n",
      "Done.\n",
      "---------------------\n",
      "\n",
      "===>  TRAIN Epoch 3\n"
     ]
    },
    {
     "name": "stderr",
     "output_type": "stream",
     "text": [
      "0% [██████████████████████████████] 100% | ETA: 00:00:00\n",
      "Total time elapsed: 00:00:32\n"
     ]
    },
    {
     "name": "stdout",
     "output_type": "stream",
     "text": [
      "Finished Epoch 3 || Run Time:   28.5 | Load Time:    4.8 || F1:  40.64 | Prec:  25.91 | Rec:  94.27 || Ex/s: 184.73\n",
      "\n",
      "===>  EVAL Epoch 3\n"
     ]
    },
    {
     "name": "stderr",
     "output_type": "stream",
     "text": [
      "0% [█████████████] 100% | ETA: 00:00:00\n",
      "Total time elapsed: 00:00:04\n"
     ]
    },
    {
     "name": "stdout",
     "output_type": "stream",
     "text": [
      "Finished Epoch 3 || Run Time:    3.4 | Load Time:    1.5 || F1:  38.34 | Prec:  24.85 | Rec:  83.94 || Ex/s: 415.56\n",
      "\n",
      "* Best F1: 38.34319526627219\n",
      "Saving best model...\n",
      "Done.\n",
      "---------------------\n",
      "\n",
      "===>  TRAIN Epoch 4\n"
     ]
    },
    {
     "name": "stderr",
     "output_type": "stream",
     "text": [
      "0% [██████████████████████████████] 100% | ETA: 00:00:00\n",
      "Total time elapsed: 00:00:32\n"
     ]
    },
    {
     "name": "stdout",
     "output_type": "stream",
     "text": [
      "Finished Epoch 4 || Run Time:   28.5 | Load Time:    4.8 || F1:  54.18 | Prec:  37.64 | Rec:  96.70 || Ex/s: 184.42\n",
      "\n",
      "===>  EVAL Epoch 4\n"
     ]
    },
    {
     "name": "stderr",
     "output_type": "stream",
     "text": [
      "0% [█████████████] 100% | ETA: 00:00:00\n",
      "Total time elapsed: 00:00:04\n"
     ]
    },
    {
     "name": "stdout",
     "output_type": "stream",
     "text": [
      "Finished Epoch 4 || Run Time:    3.5 | Load Time:    1.5 || F1:  47.59 | Prec:  34.50 | Rec:  76.68 || Ex/s: 410.16\n",
      "\n",
      "* Best F1: 47.58842443729904\n",
      "Saving best model...\n",
      "Done.\n",
      "---------------------\n",
      "\n",
      "===>  TRAIN Epoch 5\n"
     ]
    },
    {
     "name": "stderr",
     "output_type": "stream",
     "text": [
      "0% [██████████████████████████████] 100% | ETA: 00:00:00\n",
      "Total time elapsed: 00:00:33\n"
     ]
    },
    {
     "name": "stdout",
     "output_type": "stream",
     "text": [
      "Finished Epoch 5 || Run Time:   28.8 | Load Time:    4.8 || F1:  69.84 | Prec:  54.22 | Rec:  98.09 || Ex/s: 182.85\n",
      "\n",
      "===>  EVAL Epoch 5\n"
     ]
    },
    {
     "name": "stderr",
     "output_type": "stream",
     "text": [
      "0% [█████████████] 100% | ETA: 00:00:00\n",
      "Total time elapsed: 00:00:04\n"
     ]
    },
    {
     "name": "stdout",
     "output_type": "stream",
     "text": [
      "Finished Epoch 5 || Run Time:    3.4 | Load Time:    1.5 || F1:  48.23 | Prec:  34.28 | Rec:  81.35 || Ex/s: 414.74\n",
      "\n",
      "* Best F1: 48.23348694316436\n",
      "Saving best model...\n",
      "Done.\n",
      "---------------------\n",
      "\n",
      "===>  TRAIN Epoch 6\n"
     ]
    },
    {
     "name": "stderr",
     "output_type": "stream",
     "text": [
      "0% [██████████████████████████████] 100% | ETA: 00:00:00\n",
      "Total time elapsed: 00:00:32\n"
     ]
    },
    {
     "name": "stdout",
     "output_type": "stream",
     "text": [
      "Finished Epoch 6 || Run Time:   28.3 | Load Time:    4.8 || F1:  79.55 | Prec:  66.36 | Rec:  99.31 || Ex/s: 185.72\n",
      "\n",
      "===>  EVAL Epoch 6\n"
     ]
    },
    {
     "name": "stderr",
     "output_type": "stream",
     "text": [
      "0% [█████████████] 100% | ETA: 00:00:00\n",
      "Total time elapsed: 00:00:04\n"
     ]
    },
    {
     "name": "stdout",
     "output_type": "stream",
     "text": [
      "Finished Epoch 6 || Run Time:    3.4 | Load Time:    1.5 || F1:  54.06 | Prec:  41.02 | Rec:  79.27 || Ex/s: 414.33\n",
      "\n",
      "* Best F1: 54.063604240282686\n",
      "Saving best model...\n",
      "Done.\n",
      "---------------------\n",
      "\n",
      "===>  TRAIN Epoch 7\n"
     ]
    },
    {
     "name": "stderr",
     "output_type": "stream",
     "text": [
      "0% [██████████████████████████████] 100% | ETA: 00:00:00\n",
      "Total time elapsed: 00:00:32\n"
     ]
    },
    {
     "name": "stdout",
     "output_type": "stream",
     "text": [
      "Finished Epoch 7 || Run Time:   28.6 | Load Time:    4.8 || F1:  86.32 | Prec:  76.13 | Rec:  99.65 || Ex/s: 184.17\n",
      "\n",
      "===>  EVAL Epoch 7\n"
     ]
    },
    {
     "name": "stderr",
     "output_type": "stream",
     "text": [
      "0% [█████████████] 100% | ETA: 00:00:00\n",
      "Total time elapsed: 00:00:04\n"
     ]
    },
    {
     "name": "stdout",
     "output_type": "stream",
     "text": [
      "Finished Epoch 7 || Run Time:    3.5 | Load Time:    1.5 || F1:  59.32 | Prec:  50.18 | Rec:  72.54 || Ex/s: 412.43\n",
      "\n",
      "* Best F1: 59.32203389830509\n",
      "Saving best model...\n",
      "Done.\n",
      "---------------------\n",
      "\n",
      "===>  TRAIN Epoch 8\n"
     ]
    },
    {
     "name": "stderr",
     "output_type": "stream",
     "text": [
      "0% [██████████████████████████████] 100% | ETA: 00:00:00\n",
      "Total time elapsed: 00:00:32\n"
     ]
    },
    {
     "name": "stdout",
     "output_type": "stream",
     "text": [
      "Finished Epoch 8 || Run Time:   28.6 | Load Time:    4.8 || F1:  92.06 | Prec:  85.54 | Rec:  99.65 || Ex/s: 184.09\n",
      "\n",
      "===>  EVAL Epoch 8\n"
     ]
    },
    {
     "name": "stderr",
     "output_type": "stream",
     "text": [
      "0% [█████████████] 100% | ETA: 00:00:00\n",
      "Total time elapsed: 00:00:04\n"
     ]
    },
    {
     "name": "stdout",
     "output_type": "stream",
     "text": [
      "Finished Epoch 8 || Run Time:    3.4 | Load Time:    1.5 || F1:  64.50 | Prec:  58.40 | Rec:  72.02 || Ex/s: 415.45\n",
      "\n",
      "* Best F1: 64.50116009280744\n",
      "Saving best model...\n",
      "Done.\n",
      "---------------------\n",
      "\n",
      "===>  TRAIN Epoch 9\n"
     ]
    },
    {
     "name": "stderr",
     "output_type": "stream",
     "text": [
      "0% [██████████████████████████████] 100% | ETA: 00:00:00\n",
      "Total time elapsed: 00:00:32\n"
     ]
    },
    {
     "name": "stdout",
     "output_type": "stream",
     "text": [
      "Finished Epoch 9 || Run Time:   28.2 | Load Time:    4.8 || F1:  95.44 | Prec:  91.28 | Rec: 100.00 || Ex/s: 186.07\n",
      "\n",
      "===>  EVAL Epoch 9\n"
     ]
    },
    {
     "name": "stderr",
     "output_type": "stream",
     "text": [
      "0% [█████████████] 100% | ETA: 00:00:00\n",
      "Total time elapsed: 00:00:04\n"
     ]
    },
    {
     "name": "stdout",
     "output_type": "stream",
     "text": [
      "Finished Epoch 9 || Run Time:    3.4 | Load Time:    1.5 || F1:  65.84 | Prec:  63.46 | Rec:  68.39 || Ex/s: 415.55\n",
      "\n",
      "* Best F1: 65.83541147132169\n",
      "Saving best model...\n",
      "Done.\n",
      "---------------------\n",
      "\n",
      "===>  TRAIN Epoch 10\n"
     ]
    },
    {
     "name": "stderr",
     "output_type": "stream",
     "text": [
      "0% [██████████████████████████████] 100% | ETA: 00:00:00\n",
      "Total time elapsed: 00:00:32\n"
     ]
    },
    {
     "name": "stdout",
     "output_type": "stream",
     "text": [
      "Finished Epoch 10 || Run Time:   28.3 | Load Time:    4.8 || F1:  97.46 | Prec:  95.05 | Rec: 100.00 || Ex/s: 185.45\n",
      "\n",
      "===>  EVAL Epoch 10\n"
     ]
    },
    {
     "name": "stderr",
     "output_type": "stream",
     "text": [
      "0% [█████████████] 100% | ETA: 00:00:00\n",
      "Total time elapsed: 00:00:04\n"
     ]
    },
    {
     "name": "stdout",
     "output_type": "stream",
     "text": [
      "Finished Epoch 10 || Run Time:    3.5 | Load Time:    1.5 || F1:  64.50 | Prec:  62.32 | Rec:  66.84 || Ex/s: 409.95\n",
      "\n",
      "---------------------\n",
      "\n",
      "===>  TRAIN Epoch 11\n"
     ]
    },
    {
     "name": "stderr",
     "output_type": "stream",
     "text": [
      "0% [██████████████████████████████] 100% | ETA: 00:00:00\n",
      "Total time elapsed: 00:00:32\n"
     ]
    },
    {
     "name": "stdout",
     "output_type": "stream",
     "text": [
      "Finished Epoch 11 || Run Time:   28.3 | Load Time:    4.8 || F1:  98.21 | Prec:  96.48 | Rec: 100.00 || Ex/s: 185.92\n",
      "\n",
      "===>  EVAL Epoch 11\n"
     ]
    },
    {
     "name": "stderr",
     "output_type": "stream",
     "text": [
      "0% [█████████████] 100% | ETA: 00:00:00\n",
      "Total time elapsed: 00:00:04\n"
     ]
    },
    {
     "name": "stdout",
     "output_type": "stream",
     "text": [
      "Finished Epoch 11 || Run Time:    3.5 | Load Time:    1.5 || F1:  64.66 | Prec:  62.62 | Rec:  66.84 || Ex/s: 414.19\n",
      "\n",
      "---------------------\n",
      "\n",
      "===>  TRAIN Epoch 12\n"
     ]
    },
    {
     "name": "stderr",
     "output_type": "stream",
     "text": [
      "0% [██████████████████████████████] 100% | ETA: 00:00:00\n",
      "Total time elapsed: 00:00:32\n"
     ]
    },
    {
     "name": "stdout",
     "output_type": "stream",
     "text": [
      "Finished Epoch 12 || Run Time:   28.4 | Load Time:    4.8 || F1:  98.80 | Prec:  97.63 | Rec: 100.00 || Ex/s: 184.94\n",
      "\n",
      "===>  EVAL Epoch 12\n"
     ]
    },
    {
     "name": "stderr",
     "output_type": "stream",
     "text": [
      "0% [█████████████] 100% | ETA: 00:00:00\n",
      "Total time elapsed: 00:00:04\n"
     ]
    },
    {
     "name": "stdout",
     "output_type": "stream",
     "text": [
      "Finished Epoch 12 || Run Time:    3.5 | Load Time:    1.5 || F1:  64.68 | Prec:  62.20 | Rec:  67.36 || Ex/s: 410.04\n",
      "\n",
      "---------------------\n",
      "\n",
      "===>  TRAIN Epoch 13\n"
     ]
    },
    {
     "name": "stderr",
     "output_type": "stream",
     "text": [
      "0% [██████████████████████████████] 100% | ETA: 00:00:00\n",
      "Total time elapsed: 00:00:32\n"
     ]
    },
    {
     "name": "stdout",
     "output_type": "stream",
     "text": [
      "Finished Epoch 13 || Run Time:   28.5 | Load Time:    4.8 || F1:  98.71 | Prec:  97.46 | Rec: 100.00 || Ex/s: 184.38\n",
      "\n",
      "===>  EVAL Epoch 13\n"
     ]
    },
    {
     "name": "stderr",
     "output_type": "stream",
     "text": [
      "0% [█████████████] 100% | ETA: 00:00:00\n",
      "Total time elapsed: 00:00:04\n"
     ]
    },
    {
     "name": "stdout",
     "output_type": "stream",
     "text": [
      "Finished Epoch 13 || Run Time:    3.5 | Load Time:    1.5 || F1:  64.04 | Prec:  61.03 | Rec:  67.36 || Ex/s: 414.12\n",
      "\n",
      "---------------------\n",
      "\n",
      "===>  TRAIN Epoch 14\n"
     ]
    },
    {
     "name": "stderr",
     "output_type": "stream",
     "text": [
      "0% [██████████████████████████████] 100% | ETA: 00:00:00\n",
      "Total time elapsed: 00:00:34\n"
     ]
    },
    {
     "name": "stdout",
     "output_type": "stream",
     "text": [
      "Finished Epoch 14 || Run Time:   29.7 | Load Time:    4.9 || F1:  98.80 | Prec:  97.63 | Rec: 100.00 || Ex/s: 177.62\n",
      "\n",
      "===>  EVAL Epoch 14\n"
     ]
    },
    {
     "name": "stderr",
     "output_type": "stream",
     "text": [
      "0% [█████████████] 100% | ETA: 00:00:00\n",
      "Total time elapsed: 00:00:05\n"
     ]
    },
    {
     "name": "stdout",
     "output_type": "stream",
     "text": [
      "Finished Epoch 14 || Run Time:    4.0 | Load Time:    1.6 || F1:  63.77 | Prec:  59.73 | Rec:  68.39 || Ex/s: 362.47\n",
      "\n",
      "---------------------\n",
      "\n",
      "===>  TRAIN Epoch 15\n"
     ]
    },
    {
     "name": "stderr",
     "output_type": "stream",
     "text": [
      "0% [██████████████████████████████] 100% | ETA: 00:00:00\n",
      "Total time elapsed: 00:00:34\n"
     ]
    },
    {
     "name": "stdout",
     "output_type": "stream",
     "text": [
      "Finished Epoch 15 || Run Time:   30.0 | Load Time:    5.0 || F1:  98.88 | Prec:  97.79 | Rec: 100.00 || Ex/s: 175.40\n",
      "\n",
      "===>  EVAL Epoch 15\n"
     ]
    },
    {
     "name": "stderr",
     "output_type": "stream",
     "text": [
      "0% [█████████████] 100% | ETA: 00:00:00\n",
      "Total time elapsed: 00:00:05\n"
     ]
    },
    {
     "name": "stdout",
     "output_type": "stream",
     "text": [
      "Finished Epoch 15 || Run Time:    3.7 | Load Time:    1.6 || F1:  63.48 | Prec:  58.85 | Rec:  68.91 || Ex/s: 383.30\n",
      "\n",
      "---------------------\n",
      "\n",
      "===>  TRAIN Epoch 16\n"
     ]
    },
    {
     "name": "stderr",
     "output_type": "stream",
     "text": [
      "0% [██████████████████████████████] 100% | ETA: 00:00:00\n",
      "Total time elapsed: 00:00:34\n"
     ]
    },
    {
     "name": "stdout",
     "output_type": "stream",
     "text": [
      "Finished Epoch 16 || Run Time:   30.2 | Load Time:    5.0 || F1:  98.88 | Prec:  97.79 | Rec: 100.00 || Ex/s: 174.64\n",
      "\n",
      "===>  EVAL Epoch 16\n"
     ]
    },
    {
     "name": "stderr",
     "output_type": "stream",
     "text": [
      "0% [█████████████] 100% | ETA: 00:00:00\n",
      "Total time elapsed: 00:00:05\n"
     ]
    },
    {
     "name": "stdout",
     "output_type": "stream",
     "text": [
      "Finished Epoch 16 || Run Time:    3.6 | Load Time:    1.5 || F1:  62.91 | Prec:  57.51 | Rec:  69.43 || Ex/s: 401.55\n",
      "\n",
      "---------------------\n",
      "\n",
      "===>  TRAIN Epoch 17\n"
     ]
    },
    {
     "name": "stderr",
     "output_type": "stream",
     "text": [
      "0% [██████████████████████████████] 100% | ETA: 00:00:00\n",
      "Total time elapsed: 00:00:33\n"
     ]
    },
    {
     "name": "stdout",
     "output_type": "stream",
     "text": [
      "Finished Epoch 17 || Run Time:   29.0 | Load Time:    4.8 || F1:  98.97 | Prec:  97.96 | Rec: 100.00 || Ex/s: 181.60\n",
      "\n",
      "===>  EVAL Epoch 17\n"
     ]
    },
    {
     "name": "stderr",
     "output_type": "stream",
     "text": [
      "0% [█████████████] 100% | ETA: 00:00:00\n",
      "Total time elapsed: 00:00:05\n"
     ]
    },
    {
     "name": "stdout",
     "output_type": "stream",
     "text": [
      "Finished Epoch 17 || Run Time:    3.5 | Load Time:    1.5 || F1:  63.08 | Prec:  57.45 | Rec:  69.95 || Ex/s: 405.87\n",
      "\n",
      "---------------------\n",
      "\n",
      "===>  TRAIN Epoch 18\n"
     ]
    },
    {
     "name": "stderr",
     "output_type": "stream",
     "text": [
      "0% [██████████████████████████████] 100% | ETA: 00:00:00\n",
      "Total time elapsed: 00:00:33\n"
     ]
    },
    {
     "name": "stdout",
     "output_type": "stream",
     "text": [
      "Finished Epoch 18 || Run Time:   29.0 | Load Time:    4.8 || F1:  98.97 | Prec:  97.96 | Rec: 100.00 || Ex/s: 181.59\n",
      "\n",
      "===>  EVAL Epoch 18\n"
     ]
    },
    {
     "name": "stderr",
     "output_type": "stream",
     "text": [
      "0% [█████████████] 100% | ETA: 00:00:00\n",
      "Total time elapsed: 00:00:05\n"
     ]
    },
    {
     "name": "stdout",
     "output_type": "stream",
     "text": [
      "Finished Epoch 18 || Run Time:    3.6 | Load Time:    1.5 || F1:  62.94 | Prec:  57.20 | Rec:  69.95 || Ex/s: 403.77\n",
      "\n",
      "---------------------\n",
      "\n",
      "===>  TRAIN Epoch 19\n"
     ]
    },
    {
     "name": "stderr",
     "output_type": "stream",
     "text": [
      "0% [██████████████████████████████] 100% | ETA: 00:00:00\n",
      "Total time elapsed: 00:00:32\n"
     ]
    },
    {
     "name": "stdout",
     "output_type": "stream",
     "text": [
      "Finished Epoch 19 || Run Time:   28.6 | Load Time:    4.8 || F1:  99.05 | Prec:  98.13 | Rec: 100.00 || Ex/s: 184.12\n",
      "\n",
      "===>  EVAL Epoch 19\n"
     ]
    },
    {
     "name": "stderr",
     "output_type": "stream",
     "text": [
      "0% [█████████████] 100% | ETA: 00:00:00\n",
      "Total time elapsed: 00:00:04\n"
     ]
    },
    {
     "name": "stdout",
     "output_type": "stream",
     "text": [
      "Finished Epoch 19 || Run Time:    3.5 | Load Time:    1.5 || F1:  62.94 | Prec:  57.20 | Rec:  69.95 || Ex/s: 413.39\n",
      "\n",
      "---------------------\n",
      "\n",
      "===>  TRAIN Epoch 20\n"
     ]
    },
    {
     "name": "stderr",
     "output_type": "stream",
     "text": [
      "0% [██████████████████████████████] 100% | ETA: 00:00:00\n",
      "Total time elapsed: 00:00:33\n"
     ]
    },
    {
     "name": "stdout",
     "output_type": "stream",
     "text": [
      "Finished Epoch 20 || Run Time:   29.4 | Load Time:    4.9 || F1:  99.14 | Prec:  98.29 | Rec: 100.00 || Ex/s: 179.35\n",
      "\n",
      "===>  EVAL Epoch 20\n"
     ]
    },
    {
     "name": "stderr",
     "output_type": "stream",
     "text": [
      "0% [█████████████] 100% | ETA: 00:00:00\n",
      "Total time elapsed: 00:00:04\n"
     ]
    },
    {
     "name": "stdout",
     "output_type": "stream",
     "text": [
      "Finished Epoch 20 || Run Time:    3.5 | Load Time:    1.5 || F1:  62.50 | Prec:  56.49 | Rec:  69.95 || Ex/s: 411.40\n",
      "\n",
      "---------------------\n",
      "\n",
      "Loading best model...\n",
      "Training done.\n"
     ]
    },
    {
     "data": {
      "text/plain": [
       "65.83541147132169"
      ]
     },
     "execution_count": 19,
     "metadata": {},
     "output_type": "execute_result"
    }
   ],
   "source": [
    "model2 = dm.MatchingModel(attr_summarizer='hybrid')\n",
    "model2.run_train(train,validation,pos_neg_ratio=10,best_save_path='../models/walmartamazon_hybrid_forattack.pth',\n",
    "              epochs=20)"
   ]
  },
  {
   "cell_type": "code",
   "execution_count": 21,
   "metadata": {},
   "outputs": [
    {
     "name": "stdout",
     "output_type": "stream",
     "text": [
      "===>  EVAL Epoch 9\n"
     ]
    },
    {
     "name": "stderr",
     "output_type": "stream",
     "text": [
      "0% [█████████████] 100% | ETA: 00:00:00\n",
      "Total time elapsed: 00:00:05\n"
     ]
    },
    {
     "name": "stdout",
     "output_type": "stream",
     "text": [
      "Finished Epoch 9 || Run Time:    3.7 | Load Time:    1.8 || F1:   9.57 | Prec:  29.73 | Rec:   5.70 || Ex/s: 371.92\n",
      "\n"
     ]
    },
    {
     "data": {
      "text/plain": [
       "9.565217391304346"
      ]
     },
     "execution_count": 21,
     "metadata": {},
     "output_type": "execute_result"
    }
   ],
   "source": [
    "model2.run_eval(attackec_test)"
   ]
  },
  {
   "cell_type": "markdown",
   "metadata": {},
   "source": [
    "### Amazon Google"
   ]
  },
  {
   "cell_type": "code",
   "execution_count": 33,
   "metadata": {},
   "outputs": [],
   "source": [
    "test_df = pd.read_csv('../Structured/Amazon-Google/merged_test.csv')\n",
    "attackDataset(test_df,['id','label'])\n",
    "test_df.to_csv('../Structured/Amazon-Google/attacked_test.csv',index=False)"
   ]
  },
  {
   "cell_type": "code",
   "execution_count": 9,
   "metadata": {},
   "outputs": [
    {
     "name": "stderr",
     "output_type": "stream",
     "text": [
      "\n",
      "Reading and processing data from \"../Structured/Amazon-Google/merged_train.csv\"\n",
      "0% [############################# ] 100% | ETA: 00:00:00\n",
      "Reading and processing data from \"../Structured/Amazon-Google/merged_valid.csv\"\n",
      "0% [############################# ] 100% | ETA: 00:00:00\n",
      "Reading and processing data from \"../Structured/Amazon-Google/attacked_test.csv\"\n",
      "0% [############################# ] 100% | ETA: 00:00:00\n",
      "Building vocabulary\n",
      "0% [#######] 100% | ETA: 00:00:00\n",
      "Total time elapsed: 00:00:00\n",
      "\n",
      "Computing principal components\n",
      "0% [#######] 100% | ETA: 00:00:00\n",
      "Total time elapsed: 00:00:01\n"
     ]
    }
   ],
   "source": [
    "train,validation,attacked_test = dm.data.process('../Structured/Amazon-Google/',train='merged_train.csv',\n",
    "                                        validation='merged_valid.csv',test='attacked_test.csv'\n",
    "                                                 ,left_prefix='ltable_',right_prefix='rtable_',cache='attack.pth')"
   ]
  },
  {
   "cell_type": "code",
   "execution_count": 11,
   "metadata": {},
   "outputs": [
    {
     "name": "stdout",
     "output_type": "stream",
     "text": [
      "* Number of trainable parameters: 7133105\n",
      "===>  TRAIN Epoch 1\n"
     ]
    },
    {
     "name": "stderr",
     "output_type": "stream",
     "text": [
      "0% [██████████████████████████████] 100% | ETA: 00:00:00\n",
      "Total time elapsed: 00:00:24\n"
     ]
    },
    {
     "name": "stdout",
     "output_type": "stream",
     "text": [
      "Finished Epoch 1 || Run Time:   20.6 | Load Time:    3.5 || F1:  23.84 | Prec:  13.67 | Rec:  92.99 || Ex/s: 285.11\n",
      "\n",
      "===>  EVAL Epoch 1\n"
     ]
    },
    {
     "name": "stderr",
     "output_type": "stream",
     "text": [
      "0% [██████████████] 100% | ETA: 00:00:00\n",
      "Total time elapsed: 00:00:03\n"
     ]
    },
    {
     "name": "stdout",
     "output_type": "stream",
     "text": [
      "Finished Epoch 1 || Run Time:    2.6 | Load Time:    1.1 || F1:  29.59 | Prec:  17.62 | Rec:  92.31 || Ex/s: 609.97\n",
      "\n",
      "* Best F1: 29.589041095890412\n",
      "Saving best model...\n",
      "Done.\n",
      "---------------------\n",
      "\n",
      "===>  TRAIN Epoch 2\n"
     ]
    },
    {
     "name": "stderr",
     "output_type": "stream",
     "text": [
      "0% [██████████████████████████████] 100% | ETA: 00:00:00\n",
      "Total time elapsed: 00:00:24\n"
     ]
    },
    {
     "name": "stdout",
     "output_type": "stream",
     "text": [
      "Finished Epoch 2 || Run Time:   20.9 | Load Time:    3.5 || F1:  40.29 | Prec:  25.47 | Rec:  96.28 || Ex/s: 281.93\n",
      "\n",
      "===>  EVAL Epoch 2\n"
     ]
    },
    {
     "name": "stderr",
     "output_type": "stream",
     "text": [
      "0% [██████████████] 100% | ETA: 00:00:00\n",
      "Total time elapsed: 00:00:03\n"
     ]
    },
    {
     "name": "stdout",
     "output_type": "stream",
     "text": [
      "Finished Epoch 2 || Run Time:    2.4 | Load Time:    1.1 || F1:  46.65 | Prec:  30.89 | Rec:  95.30 || Ex/s: 669.29\n",
      "\n",
      "* Best F1: 46.65271966527196\n",
      "Saving best model...\n",
      "Done.\n",
      "---------------------\n",
      "\n",
      "===>  TRAIN Epoch 3\n"
     ]
    },
    {
     "name": "stderr",
     "output_type": "stream",
     "text": [
      "0% [██████████████████████████████] 100% | ETA: 00:00:00\n",
      "Total time elapsed: 00:00:23\n"
     ]
    },
    {
     "name": "stdout",
     "output_type": "stream",
     "text": [
      "Finished Epoch 3 || Run Time:   20.5 | Load Time:    3.5 || F1:  54.35 | Prec:  37.62 | Rec:  97.85 || Ex/s: 286.98\n",
      "\n",
      "===>  EVAL Epoch 3\n"
     ]
    },
    {
     "name": "stderr",
     "output_type": "stream",
     "text": [
      "0% [██████████████] 100% | ETA: 00:00:00\n",
      "Total time elapsed: 00:00:03\n"
     ]
    },
    {
     "name": "stdout",
     "output_type": "stream",
     "text": [
      "Finished Epoch 3 || Run Time:    2.8 | Load Time:    1.2 || F1:  51.45 | Prec:  35.29 | Rec:  94.87 || Ex/s: 582.57\n",
      "\n",
      "* Best F1: 51.448435689455394\n",
      "Saving best model...\n",
      "Done.\n",
      "---------------------\n",
      "\n",
      "===>  TRAIN Epoch 4\n"
     ]
    },
    {
     "name": "stderr",
     "output_type": "stream",
     "text": [
      "0% [██████████████████████████████] 100% | ETA: 00:00:00\n",
      "Total time elapsed: 00:00:25\n"
     ]
    },
    {
     "name": "stdout",
     "output_type": "stream",
     "text": [
      "Finished Epoch 4 || Run Time:   21.9 | Load Time:    3.7 || F1:  65.78 | Prec:  49.12 | Rec:  99.57 || Ex/s: 268.60\n",
      "\n",
      "===>  EVAL Epoch 4\n"
     ]
    },
    {
     "name": "stderr",
     "output_type": "stream",
     "text": [
      "0% [██████████████] 100% | ETA: 00:00:00\n",
      "Total time elapsed: 00:00:03\n"
     ]
    },
    {
     "name": "stdout",
     "output_type": "stream",
     "text": [
      "Finished Epoch 4 || Run Time:    2.7 | Load Time:    1.2 || F1:  64.97 | Prec:  51.78 | Rec:  87.18 || Ex/s: 597.97\n",
      "\n",
      "* Best F1: 64.96815286624204\n",
      "Saving best model...\n",
      "Done.\n",
      "---------------------\n",
      "\n",
      "===>  TRAIN Epoch 5\n"
     ]
    },
    {
     "name": "stderr",
     "output_type": "stream",
     "text": [
      "0% [██████████████████████████████] 100% | ETA: 00:00:00\n",
      "Total time elapsed: 00:00:24\n"
     ]
    },
    {
     "name": "stdout",
     "output_type": "stream",
     "text": [
      "Finished Epoch 5 || Run Time:   21.1 | Load Time:    3.6 || F1:  72.74 | Prec:  57.34 | Rec:  99.43 || Ex/s: 278.23\n",
      "\n",
      "===>  EVAL Epoch 5\n"
     ]
    },
    {
     "name": "stderr",
     "output_type": "stream",
     "text": [
      "0% [██████████████] 100% | ETA: 00:00:00\n",
      "Total time elapsed: 00:00:03\n"
     ]
    },
    {
     "name": "stdout",
     "output_type": "stream",
     "text": [
      "Finished Epoch 5 || Run Time:    2.8 | Load Time:    1.2 || F1:  67.69 | Prec:  56.21 | Rec:  85.04 || Ex/s: 566.65\n",
      "\n",
      "* Best F1: 67.68707482993197\n",
      "Saving best model...\n",
      "Done.\n",
      "---------------------\n",
      "\n",
      "===>  TRAIN Epoch 6\n"
     ]
    },
    {
     "name": "stderr",
     "output_type": "stream",
     "text": [
      "0% [██████████████████████████████] 100% | ETA: 00:00:00\n",
      "Total time elapsed: 00:00:25\n"
     ]
    },
    {
     "name": "stdout",
     "output_type": "stream",
     "text": [
      "Finished Epoch 6 || Run Time:   21.5 | Load Time:    3.6 || F1:  77.85 | Prec:  63.91 | Rec:  99.57 || Ex/s: 273.33\n",
      "\n",
      "===>  EVAL Epoch 6\n"
     ]
    },
    {
     "name": "stderr",
     "output_type": "stream",
     "text": [
      "0% [██████████████] 100% | ETA: 00:00:00\n",
      "Total time elapsed: 00:00:03\n"
     ]
    },
    {
     "name": "stdout",
     "output_type": "stream",
     "text": [
      "Finished Epoch 6 || Run Time:    2.5 | Load Time:    1.1 || F1:  65.62 | Prec:  51.72 | Rec:  89.74 || Ex/s: 623.79\n",
      "\n",
      "---------------------\n",
      "\n",
      "===>  TRAIN Epoch 7\n"
     ]
    },
    {
     "name": "stderr",
     "output_type": "stream",
     "text": [
      "0% [██████████████████████████████] 100% | ETA: 00:00:00\n",
      "Total time elapsed: 00:00:27\n"
     ]
    },
    {
     "name": "stdout",
     "output_type": "stream",
     "text": [
      "Finished Epoch 7 || Run Time:   23.5 | Load Time:    3.9 || F1:  83.14 | Prec:  71.22 | Rec:  99.86 || Ex/s: 250.75\n",
      "\n",
      "===>  EVAL Epoch 7\n"
     ]
    },
    {
     "name": "stderr",
     "output_type": "stream",
     "text": [
      "0% [██████████████] 100% | ETA: 00:00:00\n",
      "Total time elapsed: 00:00:03\n"
     ]
    },
    {
     "name": "stdout",
     "output_type": "stream",
     "text": [
      "Finished Epoch 7 || Run Time:    2.6 | Load Time:    1.1 || F1:  70.34 | Prec:  63.36 | Rec:  79.06 || Ex/s: 608.12\n",
      "\n",
      "* Best F1: 70.34220532319391\n",
      "Saving best model...\n",
      "Done.\n",
      "---------------------\n",
      "\n",
      "===>  TRAIN Epoch 8\n"
     ]
    },
    {
     "name": "stderr",
     "output_type": "stream",
     "text": [
      "0% [██████████████████████████████] 100% | ETA: 00:00:00\n",
      "Total time elapsed: 00:00:25\n"
     ]
    },
    {
     "name": "stdout",
     "output_type": "stream",
     "text": [
      "Finished Epoch 8 || Run Time:   21.8 | Load Time:    3.7 || F1:  85.75 | Prec:  75.13 | Rec:  99.86 || Ex/s: 269.30\n",
      "\n",
      "===>  EVAL Epoch 8\n"
     ]
    },
    {
     "name": "stderr",
     "output_type": "stream",
     "text": [
      "0% [██████████████] 100% | ETA: 00:00:00\n",
      "Total time elapsed: 00:00:03\n"
     ]
    },
    {
     "name": "stdout",
     "output_type": "stream",
     "text": [
      "Finished Epoch 8 || Run Time:    2.6 | Load Time:    1.1 || F1:  72.36 | Prec:  63.93 | Rec:  83.33 || Ex/s: 605.64\n",
      "\n",
      "* Best F1: 72.35621521335807\n",
      "Saving best model...\n",
      "Done.\n",
      "---------------------\n",
      "\n",
      "===>  TRAIN Epoch 9\n"
     ]
    },
    {
     "name": "stderr",
     "output_type": "stream",
     "text": [
      "0% [██████████████████████████████] 100% | ETA: 00:00:00\n",
      "Total time elapsed: 00:00:25\n"
     ]
    },
    {
     "name": "stdout",
     "output_type": "stream",
     "text": [
      "Finished Epoch 9 || Run Time:   22.0 | Load Time:    3.8 || F1:  89.03 | Prec:  80.32 | Rec:  99.86 || Ex/s: 267.20\n",
      "\n",
      "===>  EVAL Epoch 9\n"
     ]
    },
    {
     "name": "stderr",
     "output_type": "stream",
     "text": [
      "0% [██████████████] 100% | ETA: 00:00:00\n",
      "Total time elapsed: 00:00:03\n"
     ]
    },
    {
     "name": "stdout",
     "output_type": "stream",
     "text": [
      "Finished Epoch 9 || Run Time:    2.6 | Load Time:    1.2 || F1:  72.42 | Prec:  64.55 | Rec:  82.48 || Ex/s: 612.08\n",
      "\n",
      "* Best F1: 72.4202626641651\n",
      "Saving best model...\n",
      "Done.\n",
      "---------------------\n",
      "\n",
      "===>  TRAIN Epoch 10\n"
     ]
    },
    {
     "name": "stderr",
     "output_type": "stream",
     "text": [
      "0% [██████████████████████████████] 100% | ETA: 00:00:00\n",
      "Total time elapsed: 00:00:25\n"
     ]
    },
    {
     "name": "stdout",
     "output_type": "stream",
     "text": [
      "Finished Epoch 10 || Run Time:   21.8 | Load Time:    3.7 || F1:  91.72 | Prec:  84.81 | Rec:  99.86 || Ex/s: 269.21\n",
      "\n",
      "===>  EVAL Epoch 10\n"
     ]
    },
    {
     "name": "stderr",
     "output_type": "stream",
     "text": [
      "0% [██████████████] 100% | ETA: 00:00:00\n",
      "Total time elapsed: 00:00:03\n"
     ]
    },
    {
     "name": "stdout",
     "output_type": "stream",
     "text": [
      "Finished Epoch 10 || Run Time:    2.7 | Load Time:    1.2 || F1:  72.28 | Prec:  64.33 | Rec:  82.48 || Ex/s: 593.63\n",
      "\n",
      "---------------------\n",
      "\n",
      "===>  TRAIN Epoch 11\n"
     ]
    },
    {
     "name": "stderr",
     "output_type": "stream",
     "text": [
      "0% [██████████████████████████████] 100% | ETA: 00:00:00\n",
      "Total time elapsed: 00:00:24\n"
     ]
    },
    {
     "name": "stdout",
     "output_type": "stream",
     "text": [
      "Finished Epoch 11 || Run Time:   21.3 | Load Time:    3.6 || F1:  92.82 | Prec:  86.71 | Rec:  99.86 || Ex/s: 275.86\n",
      "\n",
      "===>  EVAL Epoch 11\n"
     ]
    },
    {
     "name": "stderr",
     "output_type": "stream",
     "text": [
      "0% [██████████████] 100% | ETA: 00:00:00\n",
      "Total time elapsed: 00:00:03\n"
     ]
    },
    {
     "name": "stdout",
     "output_type": "stream",
     "text": [
      "Finished Epoch 11 || Run Time:    2.4 | Load Time:    1.1 || F1:  70.12 | Prec:  65.67 | Rec:  75.21 || Ex/s: 670.30\n",
      "\n",
      "---------------------\n",
      "\n",
      "===>  TRAIN Epoch 12\n"
     ]
    },
    {
     "name": "stderr",
     "output_type": "stream",
     "text": [
      "0% [██████████████████████████████] 100% | ETA: 00:00:00\n",
      "Total time elapsed: 00:00:23\n"
     ]
    },
    {
     "name": "stdout",
     "output_type": "stream",
     "text": [
      "Finished Epoch 12 || Run Time:   19.8 | Load Time:    3.4 || F1:  94.07 | Prec:  88.92 | Rec:  99.86 || Ex/s: 296.48\n",
      "\n",
      "===>  EVAL Epoch 12\n"
     ]
    },
    {
     "name": "stderr",
     "output_type": "stream",
     "text": [
      "0% [██████████████] 100% | ETA: 00:00:00\n",
      "Total time elapsed: 00:00:03\n"
     ]
    },
    {
     "name": "stdout",
     "output_type": "stream",
     "text": [
      "Finished Epoch 12 || Run Time:    2.3 | Load Time:    1.1 || F1:  69.86 | Prec:  65.54 | Rec:  74.79 || Ex/s: 682.29\n",
      "\n",
      "---------------------\n",
      "\n",
      "===>  TRAIN Epoch 13\n"
     ]
    },
    {
     "name": "stderr",
     "output_type": "stream",
     "text": [
      "0% [██████████████████████████████] 100% | ETA: 00:00:00\n",
      "Total time elapsed: 00:00:23\n"
     ]
    },
    {
     "name": "stdout",
     "output_type": "stream",
     "text": [
      "Finished Epoch 13 || Run Time:   20.1 | Load Time:    3.4 || F1:  94.52 | Prec:  89.72 | Rec:  99.86 || Ex/s: 293.18\n",
      "\n",
      "===>  EVAL Epoch 13\n"
     ]
    },
    {
     "name": "stderr",
     "output_type": "stream",
     "text": [
      "0% [██████████████] 100% | ETA: 00:00:00\n",
      "Total time elapsed: 00:00:03\n"
     ]
    },
    {
     "name": "stdout",
     "output_type": "stream",
     "text": [
      "Finished Epoch 13 || Run Time:    2.3 | Load Time:    1.1 || F1:  67.63 | Prec:  65.73 | Rec:  69.66 || Ex/s: 684.92\n",
      "\n",
      "---------------------\n",
      "\n",
      "===>  TRAIN Epoch 14\n"
     ]
    },
    {
     "name": "stderr",
     "output_type": "stream",
     "text": [
      "0% [██████████████████████████████] 100% | ETA: 00:00:00\n",
      "Total time elapsed: 00:00:23\n"
     ]
    },
    {
     "name": "stdout",
     "output_type": "stream",
     "text": [
      "Finished Epoch 14 || Run Time:   20.0 | Load Time:    3.4 || F1:  94.97 | Prec:  90.43 | Rec: 100.00 || Ex/s: 293.64\n",
      "\n",
      "===>  EVAL Epoch 14\n"
     ]
    },
    {
     "name": "stderr",
     "output_type": "stream",
     "text": [
      "0% [██████████████] 100% | ETA: 00:00:00\n",
      "Total time elapsed: 00:00:03\n"
     ]
    },
    {
     "name": "stdout",
     "output_type": "stream",
     "text": [
      "Finished Epoch 14 || Run Time:    2.3 | Load Time:    1.1 || F1:  67.91 | Prec:  65.86 | Rec:  70.09 || Ex/s: 687.83\n",
      "\n",
      "---------------------\n",
      "\n",
      "===>  TRAIN Epoch 15\n"
     ]
    },
    {
     "name": "stderr",
     "output_type": "stream",
     "text": [
      "0% [██████████████████████████████] 100% | ETA: 00:00:00\n",
      "Total time elapsed: 00:00:22\n"
     ]
    },
    {
     "name": "stdout",
     "output_type": "stream",
     "text": [
      "Finished Epoch 15 || Run Time:   19.3 | Load Time:    3.4 || F1:  95.36 | Prec:  91.13 | Rec: 100.00 || Ex/s: 303.31\n",
      "\n",
      "===>  EVAL Epoch 15\n"
     ]
    },
    {
     "name": "stderr",
     "output_type": "stream",
     "text": [
      "0% [██████████████] 100% | ETA: 00:00:00\n",
      "Total time elapsed: 00:00:03\n"
     ]
    },
    {
     "name": "stdout",
     "output_type": "stream",
     "text": [
      "Finished Epoch 15 || Run Time:    2.3 | Load Time:    1.1 || F1:  68.07 | Prec:  66.94 | Rec:  69.23 || Ex/s: 686.90\n",
      "\n",
      "---------------------\n",
      "\n",
      "===>  TRAIN Epoch 16\n"
     ]
    },
    {
     "name": "stderr",
     "output_type": "stream",
     "text": [
      "0% [██████████████████████████████] 100% | ETA: 00:00:00\n",
      "Total time elapsed: 00:00:23\n"
     ]
    },
    {
     "name": "stdout",
     "output_type": "stream",
     "text": [
      "Finished Epoch 16 || Run Time:   19.8 | Load Time:    3.4 || F1:  95.49 | Prec:  91.37 | Rec: 100.00 || Ex/s: 297.27\n",
      "\n",
      "===>  EVAL Epoch 16\n"
     ]
    },
    {
     "name": "stderr",
     "output_type": "stream",
     "text": [
      "0% [██████████████] 100% | ETA: 00:00:00\n",
      "Total time elapsed: 00:00:03\n"
     ]
    },
    {
     "name": "stdout",
     "output_type": "stream",
     "text": [
      "Finished Epoch 16 || Run Time:    2.3 | Load Time:    1.1 || F1:  68.37 | Prec:  67.93 | Rec:  68.80 || Ex/s: 676.49\n",
      "\n",
      "---------------------\n",
      "\n",
      "===>  TRAIN Epoch 17\n"
     ]
    },
    {
     "name": "stderr",
     "output_type": "stream",
     "text": [
      "0% [██████████████████████████████] 100% | ETA: 00:00:00\n",
      "Total time elapsed: 00:00:23\n"
     ]
    },
    {
     "name": "stdout",
     "output_type": "stream",
     "text": [
      "Finished Epoch 17 || Run Time:   20.4 | Load Time:    3.4 || F1:  95.29 | Prec:  91.12 | Rec:  99.86 || Ex/s: 288.62\n",
      "\n",
      "===>  EVAL Epoch 17\n"
     ]
    },
    {
     "name": "stderr",
     "output_type": "stream",
     "text": [
      "0% [██████████████] 100% | ETA: 00:00:00\n",
      "Total time elapsed: 00:00:03\n"
     ]
    },
    {
     "name": "stdout",
     "output_type": "stream",
     "text": [
      "Finished Epoch 17 || Run Time:    2.5 | Load Time:    1.1 || F1:  68.89 | Prec:  67.35 | Rec:  70.51 || Ex/s: 622.28\n",
      "\n",
      "---------------------\n",
      "\n",
      "===>  TRAIN Epoch 18\n"
     ]
    },
    {
     "name": "stderr",
     "output_type": "stream",
     "text": [
      "0% [██████████████████████████████] 100% | ETA: 00:00:00\n",
      "Total time elapsed: 00:00:25\n"
     ]
    },
    {
     "name": "stdout",
     "output_type": "stream",
     "text": [
      "Finished Epoch 18 || Run Time:   22.1 | Load Time:    3.8 || F1:  95.36 | Prec:  91.13 | Rec: 100.00 || Ex/s: 265.09\n",
      "\n",
      "===>  EVAL Epoch 18\n"
     ]
    },
    {
     "name": "stderr",
     "output_type": "stream",
     "text": [
      "0% [██████████████] 100% | ETA: 00:00:00\n",
      "Total time elapsed: 00:00:03\n"
     ]
    },
    {
     "name": "stdout",
     "output_type": "stream",
     "text": [
      "Finished Epoch 18 || Run Time:    2.3 | Load Time:    1.1 || F1:  67.93 | Prec:  67.08 | Rec:  68.80 || Ex/s: 674.74\n",
      "\n",
      "---------------------\n",
      "\n",
      "===>  TRAIN Epoch 19\n"
     ]
    },
    {
     "name": "stderr",
     "output_type": "stream",
     "text": [
      "0% [██████████████████████████████] 100% | ETA: 00:00:00\n",
      "Total time elapsed: 00:00:24\n"
     ]
    },
    {
     "name": "stdout",
     "output_type": "stream",
     "text": [
      "Finished Epoch 19 || Run Time:   20.6 | Load Time:    3.5 || F1:  95.75 | Prec:  91.85 | Rec: 100.00 || Ex/s: 284.82\n",
      "\n",
      "===>  EVAL Epoch 19\n"
     ]
    },
    {
     "name": "stderr",
     "output_type": "stream",
     "text": [
      "0% [██████████████] 100% | ETA: 00:00:00\n",
      "Total time elapsed: 00:00:03\n"
     ]
    },
    {
     "name": "stdout",
     "output_type": "stream",
     "text": [
      "Finished Epoch 19 || Run Time:    2.5 | Load Time:    1.1 || F1:  67.93 | Prec:  67.08 | Rec:  68.80 || Ex/s: 631.74\n",
      "\n",
      "---------------------\n",
      "\n",
      "===>  TRAIN Epoch 20\n"
     ]
    },
    {
     "name": "stderr",
     "output_type": "stream",
     "text": [
      "0% [██████████████████████████████] 100% | ETA: 00:00:00\n",
      "Total time elapsed: 00:00:24\n"
     ]
    },
    {
     "name": "stdout",
     "output_type": "stream",
     "text": [
      "Finished Epoch 20 || Run Time:   21.1 | Load Time:    3.6 || F1:  95.82 | Prec:  91.97 | Rec: 100.00 || Ex/s: 278.42\n",
      "\n",
      "===>  EVAL Epoch 20\n"
     ]
    },
    {
     "name": "stderr",
     "output_type": "stream",
     "text": [
      "0% [██████████████] 100% | ETA: 00:00:00\n",
      "Total time elapsed: 00:00:03\n"
     ]
    },
    {
     "name": "stdout",
     "output_type": "stream",
     "text": [
      "Finished Epoch 20 || Run Time:    2.5 | Load Time:    1.1 || F1:  68.07 | Prec:  66.94 | Rec:  69.23 || Ex/s: 642.05\n",
      "\n",
      "---------------------\n",
      "\n",
      "Loading best model...\n",
      "Training done.\n"
     ]
    },
    {
     "data": {
      "text/plain": [
       "72.4202626641651"
      ]
     },
     "execution_count": 11,
     "metadata": {},
     "output_type": "execute_result"
    }
   ],
   "source": [
    "model = dm.MatchingModel(attr_summarizer='hybrid')\n",
    "model.run_train(train,validation,pos_neg_ratio=10,best_save_path='../models/amazongoogle_hybrid_forattack.pth',\n",
    "              epochs=20)"
   ]
  },
  {
   "cell_type": "code",
   "execution_count": 12,
   "metadata": {},
   "outputs": [
    {
     "name": "stdout",
     "output_type": "stream",
     "text": [
      "===>  EVAL Epoch 9\n"
     ]
    },
    {
     "name": "stderr",
     "output_type": "stream",
     "text": [
      "0% [█████████████] 100% | ETA: 00:00:00\n",
      "Total time elapsed: 00:00:03\n"
     ]
    },
    {
     "name": "stdout",
     "output_type": "stream",
     "text": [
      "Finished Epoch 9 || Run Time:    2.3 | Load Time:    1.3 || F1:   0.00 | Prec:   0.00 | Rec:   0.00 || Ex/s: 559.08\n",
      "\n"
     ]
    },
    {
     "data": {
      "text/plain": [
       "0.0"
      ]
     },
     "execution_count": 12,
     "metadata": {},
     "output_type": "execute_result"
    }
   ],
   "source": [
    "model.run_eval(attacked_test)"
   ]
  },
  {
   "cell_type": "markdown",
   "metadata": {},
   "source": [
    "## Attack single random attribute\n",
    "by changing one character on the left and on the right attribute"
   ]
  },
  {
   "cell_type": "code",
   "execution_count": 7,
   "metadata": {},
   "outputs": [],
   "source": [
    "from utils.dataset_parser import getAttributes"
   ]
  },
  {
   "cell_type": "code",
   "execution_count": 8,
   "metadata": {},
   "outputs": [],
   "source": [
    "## given two string calculate the indexes of commons characters\n",
    "def getIntersectionIndexes(s1,s2):\n",
    "    commonChars = set(s1).intersection(set(s2))\n",
    "    commonCharsIndexes = [[],[]]\n",
    "    commonCharsIndexes[0] = list(map(lambda c:s1.find(c),commonChars))\n",
    "    commonCharsIndexes[1] = list(map(lambda c:s2.find(c),commonChars))\n",
    "    if len(commonChars)==0:\n",
    "        commonCharsIndexes[0] = np.arange(len(s1))\n",
    "        commonCharsIndexes[1] = np.arange(len(s2))\n",
    "    return commonCharsIndexes"
   ]
  },
  {
   "cell_type": "code",
   "execution_count": 9,
   "metadata": {},
   "outputs": [],
   "source": [
    "def attackRandomAttribute(dataset,ignore_columns,leftPrefix='ltable_',rightPrefix='rtable_'):\n",
    "    attributes = getAttributes(dataset,notAttributes=ignore_columns)\n",
    "    dataset_index = dataset.index\n",
    "    changedAttributes = []\n",
    "    for idx in dataset_index:\n",
    "        selectAttr = rd.choice(attributes)\n",
    "        changedAttributes.append(selectAttr)\n",
    "        lval = str(dataset.loc[idx][leftPrefix+selectAttr])\n",
    "        rval = str(dataset.loc[idx][rightPrefix+selectAttr])\n",
    "        permittedPositions = getIntersectionIndexes(lval,rval)\n",
    "        dataset.at[idx,leftPrefix+selectAttr] = changeRandomCharacter(lval,permittedPositions[0])\n",
    "        dataset.at[idx,rightPrefix+selectAttr] = changeRandomCharacter(rval,permittedPositions[1])\n",
    "    dataset['attackedAttribute'] = changedAttributes"
   ]
  },
  {
   "cell_type": "markdown",
   "metadata": {},
   "source": [
    "### Itunes-Amazon"
   ]
  },
  {
   "cell_type": "code",
   "execution_count": 12,
   "metadata": {},
   "outputs": [],
   "source": [
    "test_df = pd.read_csv('../Structured/itunes-amazon/merged_test.csv')\n",
    "attackRandomAttribute(test_df,ignore_columns=['id','label'])\n",
    "test_df.to_csv('../Structured/itunes-amazon/attacked_test_singleattr.csv',index=False)"
   ]
  },
  {
   "cell_type": "code",
   "execution_count": 13,
   "metadata": {},
   "outputs": [
    {
     "name": "stderr",
     "output_type": "stream",
     "text": [
      "\n",
      "Reading and processing data from \"../Structured/itunes-amazon/merged_train.csv\"\n",
      "0% [############################# ] 100% | ETA: 00:00:00\n",
      "Reading and processing data from \"../Structured/itunes-amazon/merged_valid.csv\"\n",
      "0% [############################# ] 100% | ETA: 00:00:00\n",
      "Reading and processing data from \"../Structured/itunes-amazon/attacked_test_singleattr.csv\"\n",
      "0% [############################# ] 100% | ETA: 00:00:00\n",
      "Building vocabulary\n",
      "0% [#] 100% | ETA: 00:00:00\n",
      "Total time elapsed: 00:00:00\n",
      "\n",
      "Computing principal components\n",
      "0% [#] 100% | ETA: 00:00:00\n",
      "Total time elapsed: 00:00:00\n"
     ]
    }
   ],
   "source": [
    "train,validation,attacked_test = dm.data.process('../Structured/itunes-amazon',train='merged_train.csv',\n",
    "                       validation='merged_valid.csv',test='attacked_test_singleattr.csv',left_prefix='ltable_',\n",
    "                      right_prefix='rtable_',cache='attack_single.pth')"
   ]
  },
  {
   "cell_type": "code",
   "execution_count": 14,
   "metadata": {},
   "outputs": [
    {
     "name": "stdout",
     "output_type": "stream",
     "text": [
      "* Number of trainable parameters: 17757810\n",
      "===>  TRAIN Epoch 1\n"
     ]
    },
    {
     "name": "stderr",
     "output_type": "stream",
     "text": [
      "0% [██] 100% | ETA: 00:00:00\n",
      "Total time elapsed: 00:00:04\n"
     ]
    },
    {
     "name": "stdout",
     "output_type": "stream",
     "text": [
      "Finished Epoch 1 || Run Time:    4.5 | Load Time:    0.7 || F1:  37.80 | Prec:  23.76 | Rec:  92.31 || Ex/s:  61.76\n",
      "\n",
      "===>  EVAL Epoch 1\n",
      "Finished Epoch 1 || Run Time:    0.4 | Load Time:    0.2 || F1:  40.91 | Prec:  25.71 | Rec: 100.00 || Ex/s: 185.76\n",
      "\n",
      "* Best F1: 40.90909090909091\n",
      "Saving best model...\n",
      "Done.\n",
      "---------------------\n",
      "\n",
      "===>  TRAIN Epoch 2\n"
     ]
    },
    {
     "name": "stderr",
     "output_type": "stream",
     "text": [
      "0% [██] 100% | ETA: 00:00:00\n",
      "Total time elapsed: 00:00:03\n"
     ]
    },
    {
     "name": "stdout",
     "output_type": "stream",
     "text": [
      "Finished Epoch 2 || Run Time:    3.3 | Load Time:    0.6 || F1:  39.39 | Prec:  24.53 | Rec: 100.00 || Ex/s:  81.45\n",
      "\n",
      "===>  EVAL Epoch 2\n",
      "Finished Epoch 2 || Run Time:    0.4 | Load Time:    0.2 || F1:  42.28 | Prec:  27.08 | Rec:  96.30 || Ex/s: 183.84\n",
      "\n",
      "* Best F1: 42.27642276422764\n",
      "Saving best model...\n",
      "Done.\n",
      "---------------------\n",
      "\n",
      "===>  TRAIN Epoch 3\n"
     ]
    },
    {
     "name": "stderr",
     "output_type": "stream",
     "text": [
      "0% [██] 100% | ETA: 00:00:00\n",
      "Total time elapsed: 00:00:03\n"
     ]
    },
    {
     "name": "stdout",
     "output_type": "stream",
     "text": [
      "Finished Epoch 3 || Run Time:    3.2 | Load Time:    0.6 || F1:  52.04 | Prec:  36.65 | Rec:  89.74 || Ex/s:  82.76\n",
      "\n",
      "===>  EVAL Epoch 3\n",
      "Finished Epoch 3 || Run Time:    0.4 | Load Time:    0.2 || F1:  54.79 | Prec:  43.48 | Rec:  74.07 || Ex/s: 182.34\n",
      "\n",
      "* Best F1: 54.794520547945204\n",
      "Saving best model...\n",
      "Done.\n",
      "---------------------\n",
      "\n",
      "===>  TRAIN Epoch 4\n"
     ]
    },
    {
     "name": "stderr",
     "output_type": "stream",
     "text": [
      "0% [██] 100% | ETA: 00:00:00\n",
      "Total time elapsed: 00:00:03\n"
     ]
    },
    {
     "name": "stdout",
     "output_type": "stream",
     "text": [
      "Finished Epoch 4 || Run Time:    3.5 | Load Time:    0.7 || F1:  54.76 | Prec:  39.66 | Rec:  88.46 || Ex/s:  76.29\n",
      "\n",
      "===>  EVAL Epoch 4\n",
      "Finished Epoch 4 || Run Time:    0.4 | Load Time:    0.2 || F1:  61.29 | Prec:  54.29 | Rec:  70.37 || Ex/s: 182.11\n",
      "\n",
      "* Best F1: 61.29032258064516\n",
      "Saving best model...\n",
      "Done.\n",
      "---------------------\n",
      "\n",
      "===>  TRAIN Epoch 5\n"
     ]
    },
    {
     "name": "stderr",
     "output_type": "stream",
     "text": [
      "0% [██] 100% | ETA: 00:00:00\n",
      "Total time elapsed: 00:00:03\n"
     ]
    },
    {
     "name": "stdout",
     "output_type": "stream",
     "text": [
      "Finished Epoch 5 || Run Time:    3.3 | Load Time:    0.6 || F1:  66.98 | Prec:  52.99 | Rec:  91.03 || Ex/s:  81.70\n",
      "\n",
      "===>  EVAL Epoch 5\n",
      "Finished Epoch 5 || Run Time:    0.4 | Load Time:    0.2 || F1:  57.89 | Prec:  44.90 | Rec:  81.48 || Ex/s: 184.90\n",
      "\n",
      "---------------------\n",
      "\n",
      "===>  TRAIN Epoch 6\n"
     ]
    },
    {
     "name": "stderr",
     "output_type": "stream",
     "text": [
      "0% [██] 100% | ETA: 00:00:00\n",
      "Total time elapsed: 00:00:03\n"
     ]
    },
    {
     "name": "stdout",
     "output_type": "stream",
     "text": [
      "Finished Epoch 6 || Run Time:    3.2 | Load Time:    0.6 || F1:  70.87 | Prec:  57.03 | Rec:  93.59 || Ex/s:  82.65\n",
      "\n",
      "===>  EVAL Epoch 6\n",
      "Finished Epoch 6 || Run Time:    0.4 | Load Time:    0.2 || F1:  63.49 | Prec:  55.56 | Rec:  74.07 || Ex/s: 183.80\n",
      "\n",
      "* Best F1: 63.4920634920635\n",
      "Saving best model...\n",
      "Done.\n",
      "---------------------\n",
      "\n",
      "===>  TRAIN Epoch 7\n"
     ]
    },
    {
     "name": "stderr",
     "output_type": "stream",
     "text": [
      "0% [██] 100% | ETA: 00:00:00\n",
      "Total time elapsed: 00:00:03\n"
     ]
    },
    {
     "name": "stdout",
     "output_type": "stream",
     "text": [
      "Finished Epoch 7 || Run Time:    3.2 | Load Time:    0.6 || F1:  73.37 | Prec:  60.33 | Rec:  93.59 || Ex/s:  83.73\n",
      "\n",
      "===>  EVAL Epoch 7\n",
      "Finished Epoch 7 || Run Time:    0.4 | Load Time:    0.2 || F1:  68.66 | Prec:  57.50 | Rec:  85.19 || Ex/s: 182.78\n",
      "\n",
      "* Best F1: 68.65671641791046\n",
      "Saving best model...\n",
      "Done.\n",
      "---------------------\n",
      "\n",
      "===>  TRAIN Epoch 8\n"
     ]
    },
    {
     "name": "stderr",
     "output_type": "stream",
     "text": [
      "0% [██] 100% | ETA: 00:00:00\n",
      "Total time elapsed: 00:00:03\n"
     ]
    },
    {
     "name": "stdout",
     "output_type": "stream",
     "text": [
      "Finished Epoch 8 || Run Time:    3.2 | Load Time:    0.6 || F1:  75.76 | Prec:  62.50 | Rec:  96.15 || Ex/s:  82.70\n",
      "\n",
      "===>  EVAL Epoch 8\n",
      "Finished Epoch 8 || Run Time:    0.4 | Load Time:    0.2 || F1:  73.85 | Prec:  63.16 | Rec:  88.89 || Ex/s: 186.15\n",
      "\n",
      "* Best F1: 73.84615384615384\n",
      "Saving best model...\n",
      "Done.\n",
      "---------------------\n",
      "\n",
      "===>  TRAIN Epoch 9\n"
     ]
    },
    {
     "name": "stderr",
     "output_type": "stream",
     "text": [
      "0% [██] 100% | ETA: 00:00:00\n",
      "Total time elapsed: 00:00:03\n"
     ]
    },
    {
     "name": "stdout",
     "output_type": "stream",
     "text": [
      "Finished Epoch 9 || Run Time:    3.2 | Load Time:    0.6 || F1:  78.00 | Prec:  63.93 | Rec: 100.00 || Ex/s:  83.66\n",
      "\n",
      "===>  EVAL Epoch 9\n",
      "Finished Epoch 9 || Run Time:    0.4 | Load Time:    0.2 || F1:  74.63 | Prec:  62.50 | Rec:  92.59 || Ex/s: 183.65\n",
      "\n",
      "* Best F1: 74.62686567164178\n",
      "Saving best model...\n",
      "Done.\n",
      "---------------------\n",
      "\n",
      "===>  TRAIN Epoch 10\n"
     ]
    },
    {
     "name": "stderr",
     "output_type": "stream",
     "text": [
      "0% [██] 100% | ETA: 00:00:00\n",
      "Total time elapsed: 00:00:03\n"
     ]
    },
    {
     "name": "stdout",
     "output_type": "stream",
     "text": [
      "Finished Epoch 10 || Run Time:    3.3 | Load Time:    0.7 || F1:  82.11 | Prec:  69.64 | Rec: 100.00 || Ex/s:  82.28\n",
      "\n",
      "===>  EVAL Epoch 10\n",
      "Finished Epoch 10 || Run Time:    0.4 | Load Time:    0.2 || F1:  76.92 | Prec:  65.79 | Rec:  92.59 || Ex/s: 185.73\n",
      "\n",
      "* Best F1: 76.9230769230769\n",
      "Saving best model...\n",
      "Done.\n",
      "---------------------\n",
      "\n",
      "===>  TRAIN Epoch 11\n"
     ]
    },
    {
     "name": "stderr",
     "output_type": "stream",
     "text": [
      "0% [██] 100% | ETA: 00:00:00\n",
      "Total time elapsed: 00:00:03\n"
     ]
    },
    {
     "name": "stdout",
     "output_type": "stream",
     "text": [
      "Finished Epoch 11 || Run Time:    3.3 | Load Time:    0.6 || F1:  84.32 | Prec:  72.90 | Rec: 100.00 || Ex/s:  82.19\n",
      "\n",
      "===>  EVAL Epoch 11\n",
      "Finished Epoch 11 || Run Time:    0.4 | Load Time:    0.2 || F1:  76.92 | Prec:  65.79 | Rec:  92.59 || Ex/s: 185.85\n",
      "\n",
      "---------------------\n",
      "\n",
      "===>  TRAIN Epoch 12\n"
     ]
    },
    {
     "name": "stderr",
     "output_type": "stream",
     "text": [
      "0% [██] 100% | ETA: 00:00:00\n",
      "Total time elapsed: 00:00:03\n"
     ]
    },
    {
     "name": "stdout",
     "output_type": "stream",
     "text": [
      "Finished Epoch 12 || Run Time:    3.2 | Load Time:    0.6 || F1:  87.15 | Prec:  77.23 | Rec: 100.00 || Ex/s:  82.56\n",
      "\n",
      "===>  EVAL Epoch 12\n",
      "Finished Epoch 12 || Run Time:    0.4 | Load Time:    0.2 || F1:  78.12 | Prec:  67.57 | Rec:  92.59 || Ex/s: 185.32\n",
      "\n",
      "* Best F1: 78.125\n",
      "Saving best model...\n",
      "Done.\n",
      "---------------------\n",
      "\n",
      "===>  TRAIN Epoch 13\n"
     ]
    },
    {
     "name": "stderr",
     "output_type": "stream",
     "text": [
      "0% [██] 100% | ETA: 00:00:00\n",
      "Total time elapsed: 00:00:03\n"
     ]
    },
    {
     "name": "stdout",
     "output_type": "stream",
     "text": [
      "Finished Epoch 13 || Run Time:    3.3 | Load Time:    0.6 || F1:  90.17 | Prec:  82.11 | Rec: 100.00 || Ex/s:  82.34\n",
      "\n",
      "===>  EVAL Epoch 13\n",
      "Finished Epoch 13 || Run Time:    0.4 | Load Time:    0.2 || F1:  81.25 | Prec:  70.27 | Rec:  96.30 || Ex/s: 185.36\n",
      "\n",
      "* Best F1: 81.25\n",
      "Saving best model...\n",
      "Done.\n",
      "---------------------\n",
      "\n",
      "===>  TRAIN Epoch 14\n"
     ]
    },
    {
     "name": "stderr",
     "output_type": "stream",
     "text": [
      "0% [██] 100% | ETA: 00:00:00\n",
      "Total time elapsed: 00:00:03\n"
     ]
    },
    {
     "name": "stdout",
     "output_type": "stream",
     "text": [
      "Finished Epoch 14 || Run Time:    3.2 | Load Time:    0.6 || F1:  91.76 | Prec:  84.78 | Rec: 100.00 || Ex/s:  82.64\n",
      "\n",
      "===>  EVAL Epoch 14\n",
      "Finished Epoch 14 || Run Time:    0.4 | Load Time:    0.2 || F1:  81.25 | Prec:  70.27 | Rec:  96.30 || Ex/s: 186.38\n",
      "\n",
      "---------------------\n",
      "\n",
      "===>  TRAIN Epoch 15\n"
     ]
    },
    {
     "name": "stderr",
     "output_type": "stream",
     "text": [
      "0% [██] 100% | ETA: 00:00:00\n",
      "Total time elapsed: 00:00:03\n"
     ]
    },
    {
     "name": "stdout",
     "output_type": "stream",
     "text": [
      "Finished Epoch 15 || Run Time:    3.3 | Load Time:    0.6 || F1:  92.31 | Prec:  85.71 | Rec: 100.00 || Ex/s:  82.27\n",
      "\n",
      "===>  EVAL Epoch 15\n",
      "Finished Epoch 15 || Run Time:    0.4 | Load Time:    0.2 || F1:  80.00 | Prec:  68.42 | Rec:  96.30 || Ex/s: 184.05\n",
      "\n",
      "---------------------\n",
      "\n",
      "===>  TRAIN Epoch 16\n"
     ]
    },
    {
     "name": "stderr",
     "output_type": "stream",
     "text": [
      "0% [██] 100% | ETA: 00:00:00\n",
      "Total time elapsed: 00:00:03\n"
     ]
    },
    {
     "name": "stdout",
     "output_type": "stream",
     "text": [
      "Finished Epoch 16 || Run Time:    3.2 | Load Time:    0.6 || F1:  92.86 | Prec:  86.67 | Rec: 100.00 || Ex/s:  83.05\n",
      "\n",
      "===>  EVAL Epoch 16\n",
      "Finished Epoch 16 || Run Time:    0.4 | Load Time:    0.2 || F1:  80.00 | Prec:  68.42 | Rec:  96.30 || Ex/s: 184.28\n",
      "\n",
      "---------------------\n",
      "\n",
      "===>  TRAIN Epoch 17\n"
     ]
    },
    {
     "name": "stderr",
     "output_type": "stream",
     "text": [
      "0% [██] 100% | ETA: 00:00:00\n",
      "Total time elapsed: 00:00:03\n"
     ]
    },
    {
     "name": "stdout",
     "output_type": "stream",
     "text": [
      "Finished Epoch 17 || Run Time:    3.2 | Load Time:    0.6 || F1:  92.86 | Prec:  86.67 | Rec: 100.00 || Ex/s:  83.63\n",
      "\n",
      "===>  EVAL Epoch 17\n",
      "Finished Epoch 17 || Run Time:    0.4 | Load Time:    0.2 || F1:  80.00 | Prec:  68.42 | Rec:  96.30 || Ex/s: 186.09\n",
      "\n",
      "---------------------\n",
      "\n",
      "===>  TRAIN Epoch 18\n"
     ]
    },
    {
     "name": "stderr",
     "output_type": "stream",
     "text": [
      "0% [██] 100% | ETA: 00:00:00\n",
      "Total time elapsed: 00:00:03\n"
     ]
    },
    {
     "name": "stdout",
     "output_type": "stream",
     "text": [
      "Finished Epoch 18 || Run Time:    3.3 | Load Time:    0.6 || F1:  93.41 | Prec:  87.64 | Rec: 100.00 || Ex/s:  82.27\n",
      "\n",
      "===>  EVAL Epoch 18\n",
      "Finished Epoch 18 || Run Time:    0.4 | Load Time:    0.2 || F1:  80.00 | Prec:  68.42 | Rec:  96.30 || Ex/s: 185.59\n",
      "\n",
      "---------------------\n",
      "\n",
      "===>  TRAIN Epoch 19\n"
     ]
    },
    {
     "name": "stderr",
     "output_type": "stream",
     "text": [
      "0% [██] 100% | ETA: 00:00:00\n",
      "Total time elapsed: 00:00:03\n"
     ]
    },
    {
     "name": "stdout",
     "output_type": "stream",
     "text": [
      "Finished Epoch 19 || Run Time:    3.2 | Load Time:    0.6 || F1:  93.98 | Prec:  88.64 | Rec: 100.00 || Ex/s:  82.83\n",
      "\n",
      "===>  EVAL Epoch 19\n",
      "Finished Epoch 19 || Run Time:    0.4 | Load Time:    0.2 || F1:  80.00 | Prec:  68.42 | Rec:  96.30 || Ex/s: 185.89\n",
      "\n",
      "---------------------\n",
      "\n",
      "===>  TRAIN Epoch 20\n"
     ]
    },
    {
     "name": "stderr",
     "output_type": "stream",
     "text": [
      "0% [██] 100% | ETA: 00:00:00\n",
      "Total time elapsed: 00:00:03\n"
     ]
    },
    {
     "name": "stdout",
     "output_type": "stream",
     "text": [
      "Finished Epoch 20 || Run Time:    3.2 | Load Time:    0.6 || F1:  93.98 | Prec:  88.64 | Rec: 100.00 || Ex/s:  82.78\n",
      "\n",
      "===>  EVAL Epoch 20\n",
      "Finished Epoch 20 || Run Time:    0.4 | Load Time:    0.2 || F1:  80.00 | Prec:  68.42 | Rec:  96.30 || Ex/s: 185.49\n",
      "\n",
      "---------------------\n",
      "\n",
      "Loading best model...\n",
      "Training done.\n"
     ]
    },
    {
     "data": {
      "text/plain": [
       "81.25"
      ]
     },
     "execution_count": 14,
     "metadata": {},
     "output_type": "execute_result"
    }
   ],
   "source": [
    "model = dm.MatchingModel(attr_summarizer='hybrid')\n",
    "model.run_train(train,validation,pos_neg_ratio=5,best_save_path='../models/itunes_amazon_singleattack.pth',\n",
    "              epochs=20)\n"
   ]
  },
  {
   "cell_type": "code",
   "execution_count": 15,
   "metadata": {},
   "outputs": [
    {
     "name": "stdout",
     "output_type": "stream",
     "text": [
      "===>  EVAL Epoch 13\n",
      "Finished Epoch 13 || Run Time:    0.4 | Load Time:    0.2 || F1:  76.47 | Prec:  63.41 | Rec:  96.30 || Ex/s: 172.43\n",
      "\n"
     ]
    },
    {
     "data": {
      "text/plain": [
       "76.47058823529412"
      ]
     },
     "execution_count": 15,
     "metadata": {},
     "output_type": "execute_result"
    }
   ],
   "source": [
    "model.run_eval(attacked_test)"
   ]
  },
  {
   "cell_type": "markdown",
   "metadata": {},
   "source": [
    "### Beer"
   ]
  },
  {
   "cell_type": "code",
   "execution_count": 16,
   "metadata": {},
   "outputs": [],
   "source": [
    "test_df = pd.read_csv('../Structured/Beer/merged_test.csv')\n",
    "attackRandomAttribute(test_df,ignore_columns=['id','label'])\n",
    "test_df.to_csv('../Structured/Beer/attacked_test_singleattr.csv',index=False)"
   ]
  },
  {
   "cell_type": "code",
   "execution_count": 17,
   "metadata": {},
   "outputs": [
    {
     "name": "stderr",
     "output_type": "stream",
     "text": [
      "\n",
      "Reading and processing data from \"../Structured/Beer/merged_train.csv\"\n",
      "0% [############################# ] 100% | ETA: 00:00:00\n",
      "Reading and processing data from \"../Structured/Beer/merged_valid.csv\"\n",
      "0% [############################# ] 100% | ETA: 00:00:00\n",
      "Reading and processing data from \"../Structured/Beer/attacked_test_singleattr.csv\"\n",
      "0% [############################# ] 100% | ETA: 00:00:00\n",
      "Building vocabulary\n",
      "0% [#] 100% | ETA: 00:00:00\n",
      "Total time elapsed: 00:00:00\n",
      "\n",
      "Computing principal components\n",
      "0% [#] 100% | ETA: 00:00:00\n",
      "Total time elapsed: 00:00:00\n"
     ]
    }
   ],
   "source": [
    "train,validation,attacked_test = dm.data.process('../Structured/Beer',train='merged_train.csv',\n",
    "                       validation='merged_valid.csv',test='attacked_test_singleattr.csv',left_prefix='ltable_',\n",
    "                      right_prefix='rtable_',cache='attack_single.pth')"
   ]
  },
  {
   "cell_type": "code",
   "execution_count": 18,
   "metadata": {},
   "outputs": [
    {
     "name": "stdout",
     "output_type": "stream",
     "text": [
      "* Number of trainable parameters: 9210006\n",
      "===>  TRAIN Epoch 1\n"
     ]
    },
    {
     "name": "stderr",
     "output_type": "stream",
     "text": [
      "0% [█] 100% | ETA: 00:00:00\n",
      "Total time elapsed: 00:00:00\n"
     ]
    },
    {
     "name": "stdout",
     "output_type": "stream",
     "text": [
      "Finished Epoch 1 || Run Time:    1.2 | Load Time:    0.2 || F1:  24.21 | Prec:  15.33 | Rec:  57.50 || Ex/s: 196.49\n",
      "\n",
      "===>  EVAL Epoch 1\n",
      "Finished Epoch 1 || Run Time:    0.1 | Load Time:    0.1 || F1:   0.00 | Prec:   0.00 | Rec:   0.00 || Ex/s: 455.41\n",
      "\n",
      "* Best F1: 0.0\n",
      "Saving best model...\n",
      "Done.\n",
      "---------------------\n",
      "\n",
      "===>  TRAIN Epoch 2\n"
     ]
    },
    {
     "name": "stderr",
     "output_type": "stream",
     "text": [
      "0% [█] 100% | ETA: 00:00:00\n",
      "Total time elapsed: 00:00:00\n"
     ]
    },
    {
     "name": "stdout",
     "output_type": "stream",
     "text": [
      "Finished Epoch 2 || Run Time:    1.2 | Load Time:    0.2 || F1:  52.83 | Prec:  42.42 | Rec:  70.00 || Ex/s: 192.73\n",
      "\n",
      "===>  EVAL Epoch 2\n",
      "Finished Epoch 2 || Run Time:    0.1 | Load Time:    0.1 || F1:  40.00 | Prec:  25.00 | Rec: 100.00 || Ex/s: 444.68\n",
      "\n",
      "* Best F1: 40.0\n",
      "Saving best model...\n",
      "Done.\n",
      "---------------------\n",
      "\n",
      "===>  TRAIN Epoch 3\n"
     ]
    },
    {
     "name": "stderr",
     "output_type": "stream",
     "text": [
      "0% [█] 100% | ETA: 00:00:00\n",
      "Total time elapsed: 00:00:00\n"
     ]
    },
    {
     "name": "stdout",
     "output_type": "stream",
     "text": [
      "Finished Epoch 3 || Run Time:    1.3 | Load Time:    0.2 || F1:  50.31 | Prec:  33.61 | Rec: 100.00 || Ex/s: 181.92\n",
      "\n",
      "===>  EVAL Epoch 3\n",
      "Finished Epoch 3 || Run Time:    0.1 | Load Time:    0.1 || F1:  44.07 | Prec:  28.89 | Rec:  92.86 || Ex/s: 447.92\n",
      "\n",
      "* Best F1: 44.067796610169495\n",
      "Saving best model...\n",
      "Done.\n",
      "---------------------\n",
      "\n",
      "===>  TRAIN Epoch 4\n"
     ]
    },
    {
     "name": "stderr",
     "output_type": "stream",
     "text": [
      "0% [█] 100% | ETA: 00:00:00\n",
      "Total time elapsed: 00:00:00\n"
     ]
    },
    {
     "name": "stdout",
     "output_type": "stream",
     "text": [
      "Finished Epoch 4 || Run Time:    1.2 | Load Time:    0.2 || F1:  56.93 | Prec:  40.21 | Rec:  97.50 || Ex/s: 187.53\n",
      "\n",
      "===>  EVAL Epoch 4\n",
      "Finished Epoch 4 || Run Time:    0.1 | Load Time:    0.1 || F1:  47.27 | Prec:  31.71 | Rec:  92.86 || Ex/s: 452.45\n",
      "\n",
      "* Best F1: 47.27272727272727\n",
      "Saving best model...\n",
      "Done.\n",
      "---------------------\n",
      "\n",
      "===>  TRAIN Epoch 5\n"
     ]
    },
    {
     "name": "stderr",
     "output_type": "stream",
     "text": [
      "0% [█] 100% | ETA: 00:00:00\n",
      "Total time elapsed: 00:00:00\n"
     ]
    },
    {
     "name": "stdout",
     "output_type": "stream",
     "text": [
      "Finished Epoch 5 || Run Time:    1.1 | Load Time:    0.2 || F1:  70.91 | Prec:  55.71 | Rec:  97.50 || Ex/s: 200.61\n",
      "\n",
      "===>  EVAL Epoch 5\n",
      "Finished Epoch 5 || Run Time:    0.1 | Load Time:    0.1 || F1:  54.17 | Prec:  38.24 | Rec:  92.86 || Ex/s: 446.20\n",
      "\n",
      "* Best F1: 54.16666666666667\n",
      "Saving best model...\n",
      "Done.\n",
      "---------------------\n",
      "\n",
      "===>  TRAIN Epoch 6\n"
     ]
    },
    {
     "name": "stderr",
     "output_type": "stream",
     "text": [
      "0% [█] 100% | ETA: 00:00:00\n",
      "Total time elapsed: 00:00:00\n"
     ]
    },
    {
     "name": "stdout",
     "output_type": "stream",
     "text": [
      "Finished Epoch 6 || Run Time:    1.1 | Load Time:    0.2 || F1:  80.81 | Prec:  67.80 | Rec: 100.00 || Ex/s: 200.71\n",
      "\n",
      "===>  EVAL Epoch 6\n",
      "Finished Epoch 6 || Run Time:    0.1 | Load Time:    0.1 || F1:  80.00 | Prec:  75.00 | Rec:  85.71 || Ex/s: 447.28\n",
      "\n",
      "* Best F1: 80.0\n",
      "Saving best model...\n",
      "Done.\n",
      "---------------------\n",
      "\n",
      "===>  TRAIN Epoch 7\n"
     ]
    },
    {
     "name": "stderr",
     "output_type": "stream",
     "text": [
      "0% [█] 100% | ETA: 00:00:00\n",
      "Total time elapsed: 00:00:00\n"
     ]
    },
    {
     "name": "stdout",
     "output_type": "stream",
     "text": [
      "Finished Epoch 7 || Run Time:    1.1 | Load Time:    0.2 || F1:  84.21 | Prec:  72.73 | Rec: 100.00 || Ex/s: 201.21\n",
      "\n",
      "===>  EVAL Epoch 7\n",
      "Finished Epoch 7 || Run Time:    0.1 | Load Time:    0.1 || F1:  75.00 | Prec:  66.67 | Rec:  85.71 || Ex/s: 441.04\n",
      "\n",
      "---------------------\n",
      "\n",
      "===>  TRAIN Epoch 8\n"
     ]
    },
    {
     "name": "stderr",
     "output_type": "stream",
     "text": [
      "0% [█] 100% | ETA: 00:00:00\n",
      "Total time elapsed: 00:00:00\n"
     ]
    },
    {
     "name": "stdout",
     "output_type": "stream",
     "text": [
      "Finished Epoch 8 || Run Time:    1.1 | Load Time:    0.2 || F1:  94.12 | Prec:  88.89 | Rec: 100.00 || Ex/s: 205.36\n",
      "\n",
      "===>  EVAL Epoch 8\n",
      "Finished Epoch 8 || Run Time:    0.1 | Load Time:    0.1 || F1:  63.16 | Prec:  50.00 | Rec:  85.71 || Ex/s: 443.00\n",
      "\n",
      "---------------------\n",
      "\n",
      "===>  TRAIN Epoch 9\n"
     ]
    },
    {
     "name": "stderr",
     "output_type": "stream",
     "text": [
      "0% [█] 100% | ETA: 00:00:00\n",
      "Total time elapsed: 00:00:00\n"
     ]
    },
    {
     "name": "stdout",
     "output_type": "stream",
     "text": [
      "Finished Epoch 9 || Run Time:    1.1 | Load Time:    0.2 || F1:  91.95 | Prec:  85.11 | Rec: 100.00 || Ex/s: 205.37\n",
      "\n",
      "===>  EVAL Epoch 9\n",
      "Finished Epoch 9 || Run Time:    0.1 | Load Time:    0.1 || F1:  70.59 | Prec:  60.00 | Rec:  85.71 || Ex/s: 458.61\n",
      "\n",
      "---------------------\n",
      "\n",
      "===>  TRAIN Epoch 10\n"
     ]
    },
    {
     "name": "stderr",
     "output_type": "stream",
     "text": [
      "0% [█] 100% | ETA: 00:00:00\n",
      "Total time elapsed: 00:00:00\n"
     ]
    },
    {
     "name": "stdout",
     "output_type": "stream",
     "text": [
      "Finished Epoch 10 || Run Time:    1.1 | Load Time:    0.2 || F1:  95.24 | Prec:  90.91 | Rec: 100.00 || Ex/s: 198.15\n",
      "\n",
      "===>  EVAL Epoch 10\n",
      "Finished Epoch 10 || Run Time:    0.1 | Load Time:    0.1 || F1:  68.57 | Prec:  57.14 | Rec:  85.71 || Ex/s: 441.21\n",
      "\n",
      "---------------------\n",
      "\n",
      "===>  TRAIN Epoch 11\n"
     ]
    },
    {
     "name": "stderr",
     "output_type": "stream",
     "text": [
      "0% [█] 100% | ETA: 00:00:00\n",
      "Total time elapsed: 00:00:00\n"
     ]
    },
    {
     "name": "stdout",
     "output_type": "stream",
     "text": [
      "Finished Epoch 11 || Run Time:    1.1 | Load Time:    0.2 || F1:  96.39 | Prec:  93.02 | Rec: 100.00 || Ex/s: 202.31\n",
      "\n",
      "===>  EVAL Epoch 11\n",
      "Finished Epoch 11 || Run Time:    0.1 | Load Time:    0.1 || F1:  68.57 | Prec:  57.14 | Rec:  85.71 || Ex/s: 430.55\n",
      "\n",
      "---------------------\n",
      "\n",
      "===>  TRAIN Epoch 12\n"
     ]
    },
    {
     "name": "stderr",
     "output_type": "stream",
     "text": [
      "0% [█] 100% | ETA: 00:00:00\n",
      "Total time elapsed: 00:00:00\n"
     ]
    },
    {
     "name": "stdout",
     "output_type": "stream",
     "text": [
      "Finished Epoch 12 || Run Time:    1.3 | Load Time:    0.2 || F1:  98.77 | Prec:  97.56 | Rec: 100.00 || Ex/s: 181.18\n",
      "\n",
      "===>  EVAL Epoch 12\n",
      "Finished Epoch 12 || Run Time:    0.1 | Load Time:    0.1 || F1:  68.57 | Prec:  57.14 | Rec:  85.71 || Ex/s: 404.92\n",
      "\n",
      "---------------------\n",
      "\n",
      "===>  TRAIN Epoch 13\n"
     ]
    },
    {
     "name": "stderr",
     "output_type": "stream",
     "text": [
      "0% [█] 100% | ETA: 00:00:00\n",
      "Total time elapsed: 00:00:00\n"
     ]
    },
    {
     "name": "stdout",
     "output_type": "stream",
     "text": [
      "Finished Epoch 13 || Run Time:    1.2 | Load Time:    0.2 || F1:  97.56 | Prec:  95.24 | Rec: 100.00 || Ex/s: 186.02\n",
      "\n",
      "===>  EVAL Epoch 13\n",
      "Finished Epoch 13 || Run Time:    0.1 | Load Time:    0.1 || F1:  68.57 | Prec:  57.14 | Rec:  85.71 || Ex/s: 422.70\n",
      "\n",
      "---------------------\n",
      "\n",
      "===>  TRAIN Epoch 14\n"
     ]
    },
    {
     "name": "stderr",
     "output_type": "stream",
     "text": [
      "0% [█] 100% | ETA: 00:00:00\n",
      "Total time elapsed: 00:00:00\n"
     ]
    },
    {
     "name": "stdout",
     "output_type": "stream",
     "text": [
      "Finished Epoch 14 || Run Time:    1.2 | Load Time:    0.2 || F1:  98.77 | Prec:  97.56 | Rec: 100.00 || Ex/s: 195.12\n",
      "\n",
      "===>  EVAL Epoch 14\n",
      "Finished Epoch 14 || Run Time:    0.1 | Load Time:    0.1 || F1:  68.57 | Prec:  57.14 | Rec:  85.71 || Ex/s: 444.72\n",
      "\n",
      "---------------------\n",
      "\n",
      "===>  TRAIN Epoch 15\n"
     ]
    },
    {
     "name": "stderr",
     "output_type": "stream",
     "text": [
      "0% [█] 100% | ETA: 00:00:00\n",
      "Total time elapsed: 00:00:00\n"
     ]
    },
    {
     "name": "stdout",
     "output_type": "stream",
     "text": [
      "Finished Epoch 15 || Run Time:    1.2 | Load Time:    0.2 || F1:  98.77 | Prec:  97.56 | Rec: 100.00 || Ex/s: 182.26\n",
      "\n",
      "===>  EVAL Epoch 15\n",
      "Finished Epoch 15 || Run Time:    0.2 | Load Time:    0.1 || F1:  68.57 | Prec:  57.14 | Rec:  85.71 || Ex/s: 360.63\n",
      "\n",
      "---------------------\n",
      "\n",
      "===>  TRAIN Epoch 16\n"
     ]
    },
    {
     "name": "stderr",
     "output_type": "stream",
     "text": [
      "0% [█] 100% | ETA: 00:00:00\n",
      "Total time elapsed: 00:00:00\n"
     ]
    },
    {
     "name": "stdout",
     "output_type": "stream",
     "text": [
      "Finished Epoch 16 || Run Time:    1.3 | Load Time:    0.2 || F1:  98.77 | Prec:  97.56 | Rec: 100.00 || Ex/s: 172.19\n",
      "\n",
      "===>  EVAL Epoch 16\n",
      "Finished Epoch 16 || Run Time:    0.1 | Load Time:    0.1 || F1:  68.57 | Prec:  57.14 | Rec:  85.71 || Ex/s: 435.89\n",
      "\n",
      "---------------------\n",
      "\n",
      "===>  TRAIN Epoch 17\n"
     ]
    },
    {
     "name": "stderr",
     "output_type": "stream",
     "text": [
      "0% [█] 100% | ETA: 00:00:00\n",
      "Total time elapsed: 00:00:00\n"
     ]
    },
    {
     "name": "stdout",
     "output_type": "stream",
     "text": [
      "Finished Epoch 17 || Run Time:    1.3 | Load Time:    0.2 || F1:  98.77 | Prec:  97.56 | Rec: 100.00 || Ex/s: 178.88\n",
      "\n",
      "===>  EVAL Epoch 17\n",
      "Finished Epoch 17 || Run Time:    0.2 | Load Time:    0.1 || F1:  68.57 | Prec:  57.14 | Rec:  85.71 || Ex/s: 380.72\n",
      "\n",
      "---------------------\n",
      "\n",
      "===>  TRAIN Epoch 18\n"
     ]
    },
    {
     "name": "stderr",
     "output_type": "stream",
     "text": [
      "0% [█] 100% | ETA: 00:00:00\n",
      "Total time elapsed: 00:00:00\n"
     ]
    },
    {
     "name": "stdout",
     "output_type": "stream",
     "text": [
      "Finished Epoch 18 || Run Time:    1.2 | Load Time:    0.2 || F1:  98.77 | Prec:  97.56 | Rec: 100.00 || Ex/s: 182.14\n",
      "\n",
      "===>  EVAL Epoch 18\n",
      "Finished Epoch 18 || Run Time:    0.1 | Load Time:    0.1 || F1:  68.57 | Prec:  57.14 | Rec:  85.71 || Ex/s: 413.92\n",
      "\n",
      "---------------------\n",
      "\n",
      "===>  TRAIN Epoch 19\n"
     ]
    },
    {
     "name": "stderr",
     "output_type": "stream",
     "text": [
      "0% [█] 100% | ETA: 00:00:00\n",
      "Total time elapsed: 00:00:00\n"
     ]
    },
    {
     "name": "stdout",
     "output_type": "stream",
     "text": [
      "Finished Epoch 19 || Run Time:    1.3 | Load Time:    0.2 || F1:  98.77 | Prec:  97.56 | Rec: 100.00 || Ex/s: 175.90\n",
      "\n",
      "===>  EVAL Epoch 19\n",
      "Finished Epoch 19 || Run Time:    0.1 | Load Time:    0.1 || F1:  68.57 | Prec:  57.14 | Rec:  85.71 || Ex/s: 405.04\n",
      "\n",
      "---------------------\n",
      "\n",
      "===>  TRAIN Epoch 20\n"
     ]
    },
    {
     "name": "stderr",
     "output_type": "stream",
     "text": [
      "0% [█] 100% | ETA: 00:00:00\n",
      "Total time elapsed: 00:00:00\n"
     ]
    },
    {
     "name": "stdout",
     "output_type": "stream",
     "text": [
      "Finished Epoch 20 || Run Time:    1.2 | Load Time:    0.2 || F1:  98.77 | Prec:  97.56 | Rec: 100.00 || Ex/s: 184.34\n",
      "\n",
      "===>  EVAL Epoch 20\n",
      "Finished Epoch 20 || Run Time:    0.2 | Load Time:    0.1 || F1:  68.57 | Prec:  57.14 | Rec:  85.71 || Ex/s: 393.39\n",
      "\n",
      "---------------------\n",
      "\n",
      "Loading best model...\n",
      "Training done.\n"
     ]
    },
    {
     "data": {
      "text/plain": [
       "80.0"
      ]
     },
     "execution_count": 18,
     "metadata": {},
     "output_type": "execute_result"
    }
   ],
   "source": [
    "model = dm.MatchingModel(attr_summarizer='hybrid')\n",
    "model.run_train(train,validation,pos_neg_ratio=5,best_save_path='../models/itunes_amazon_singleattack.pth',\n",
    "              epochs=20)"
   ]
  },
  {
   "cell_type": "code",
   "execution_count": 19,
   "metadata": {},
   "outputs": [
    {
     "name": "stdout",
     "output_type": "stream",
     "text": [
      "===>  EVAL Epoch 6\n",
      "Finished Epoch 6 || Run Time:    0.1 | Load Time:    0.1 || F1:  66.67 | Prec:  54.55 | Rec:  85.71 || Ex/s: 414.49\n",
      "\n"
     ]
    },
    {
     "data": {
      "text/plain": [
       "66.66666666666666"
      ]
     },
     "execution_count": 19,
     "metadata": {},
     "output_type": "execute_result"
    }
   ],
   "source": [
    "model.run_eval(attacked_test)"
   ]
  },
  {
   "cell_type": "markdown",
   "metadata": {},
   "source": [
    "### DBLP-ACM"
   ]
  },
  {
   "cell_type": "code",
   "execution_count": 30,
   "metadata": {},
   "outputs": [],
   "source": [
    "test_df = pd.read_csv('../Structured/DBLP-ACM/merged_test.csv')\n",
    "test_df['ltable_year'] = test_df['ltable_year'].astype(str)\n",
    "test_df['rtable_year'] = test_df['rtable_year'].astype(str)\n",
    "attackRandomAttribute(test_df,ignore_columns=['id','label'])\n",
    "test_df.to_csv('../Structured/DBLP-ACM/attacked_test_singleattr.csv',index=False)"
   ]
  },
  {
   "cell_type": "code",
   "execution_count": 35,
   "metadata": {},
   "outputs": [
    {
     "name": "stderr",
     "output_type": "stream",
     "text": [
      "\n",
      "Reading and processing data from \"../Structured/DBLP-ACM/merged_train.csv\"\n",
      "0% [############################# ] 100% | ETA: 00:00:00\n",
      "Reading and processing data from \"../Structured/DBLP-ACM/merged_validation.csv\"\n",
      "0% [############################# ] 100% | ETA: 00:00:00\n",
      "Reading and processing data from \"../Structured/DBLP-ACM/attacked_test_singleattr.csv\"\n",
      "0% [############################# ] 100% | ETA: 00:00:00\n",
      "Building vocabulary\n",
      "0% [########] 100% | ETA: 00:00:00\n",
      "Total time elapsed: 00:00:01\n",
      "\n",
      "Computing principal components\n",
      "0% [########] 100% | ETA: 00:00:00\n",
      "Total time elapsed: 00:00:03\n"
     ]
    }
   ],
   "source": [
    "train,validation,attacked_test = dm.data.process('../Structured/DBLP-ACM',train='merged_train.csv',\n",
    "                       validation='merged_validation.csv',test='attacked_test_singleattr.csv',left_prefix='ltable_',\n",
    "                      right_prefix='rtable_',cache='attack_single.pth')"
   ]
  },
  {
   "cell_type": "code",
   "execution_count": 36,
   "metadata": {},
   "outputs": [
    {
     "name": "stdout",
     "output_type": "stream",
     "text": [
      "* Number of trainable parameters: 9210006\n",
      "===>  TRAIN Epoch 1\n"
     ]
    },
    {
     "name": "stderr",
     "output_type": "stream",
     "text": [
      "0% [██████████████████████████████] 100% | ETA: 00:00:00\n",
      "Total time elapsed: 00:00:46\n"
     ]
    },
    {
     "name": "stdout",
     "output_type": "stream",
     "text": [
      "Finished Epoch 1 || Run Time:   38.5 | Load Time:    8.6 || F1:  69.98 | Prec:  54.05 | Rec:  99.25 || Ex/s: 157.45\n",
      "\n",
      "===>  EVAL Epoch 1\n"
     ]
    },
    {
     "name": "stderr",
     "output_type": "stream",
     "text": [
      "0% [███████████████] 100% | ETA: 00:00:00\n",
      "Total time elapsed: 00:00:06\n"
     ]
    },
    {
     "name": "stdout",
     "output_type": "stream",
     "text": [
      "Finished Epoch 1 || Run Time:    4.0 | Load Time:    2.7 || F1:  94.86 | Prec:  90.41 | Rec:  99.77 || Ex/s: 368.65\n",
      "\n",
      "* Best F1: 94.86081370449678\n",
      "Saving best model...\n",
      "Done.\n",
      "---------------------\n",
      "\n",
      "===>  TRAIN Epoch 2\n"
     ]
    },
    {
     "name": "stderr",
     "output_type": "stream",
     "text": [
      "0% [██████████████████████████████] 100% | ETA: 00:00:00\n",
      "Total time elapsed: 00:00:46\n"
     ]
    },
    {
     "name": "stdout",
     "output_type": "stream",
     "text": [
      "Finished Epoch 2 || Run Time:   38.2 | Load Time:    8.6 || F1:  96.51 | Prec:  93.46 | Rec:  99.77 || Ex/s: 158.40\n",
      "\n",
      "===>  EVAL Epoch 2\n"
     ]
    },
    {
     "name": "stderr",
     "output_type": "stream",
     "text": [
      "0% [███████████████] 100% | ETA: 00:00:00\n",
      "Total time elapsed: 00:00:06\n"
     ]
    },
    {
     "name": "stdout",
     "output_type": "stream",
     "text": [
      "Finished Epoch 2 || Run Time:    4.0 | Load Time:    2.7 || F1:  94.77 | Prec:  90.06 | Rec: 100.00 || Ex/s: 368.29\n",
      "\n",
      "---------------------\n",
      "\n",
      "===>  TRAIN Epoch 3\n"
     ]
    },
    {
     "name": "stderr",
     "output_type": "stream",
     "text": [
      "0% [██████████████████████████████] 100% | ETA: 00:00:00\n",
      "Total time elapsed: 00:00:46\n"
     ]
    },
    {
     "name": "stdout",
     "output_type": "stream",
     "text": [
      "Finished Epoch 3 || Run Time:   38.7 | Load Time:    8.6 || F1:  97.29 | Prec:  94.86 | Rec:  99.85 || Ex/s: 156.77\n",
      "\n",
      "===>  EVAL Epoch 3\n"
     ]
    },
    {
     "name": "stderr",
     "output_type": "stream",
     "text": [
      "0% [███████████████] 100% | ETA: 00:00:00\n",
      "Total time elapsed: 00:00:06\n"
     ]
    },
    {
     "name": "stdout",
     "output_type": "stream",
     "text": [
      "Finished Epoch 3 || Run Time:    4.1 | Load Time:    2.7 || F1:  96.30 | Prec:  93.07 | Rec:  99.77 || Ex/s: 359.90\n",
      "\n",
      "* Best F1: 96.30434782608694\n",
      "Saving best model...\n",
      "Done.\n",
      "---------------------\n",
      "\n",
      "===>  TRAIN Epoch 4\n"
     ]
    },
    {
     "name": "stderr",
     "output_type": "stream",
     "text": [
      "0% [██████████████████████████████] 100% | ETA: 00:00:00\n",
      "Total time elapsed: 00:00:48\n"
     ]
    },
    {
     "name": "stdout",
     "output_type": "stream",
     "text": [
      "Finished Epoch 4 || Run Time:   39.6 | Load Time:    8.9 || F1:  98.16 | Prec:  96.45 | Rec:  99.92 || Ex/s: 152.67\n",
      "\n",
      "===>  EVAL Epoch 4\n"
     ]
    },
    {
     "name": "stderr",
     "output_type": "stream",
     "text": [
      "0% [███████████████] 100% | ETA: 00:00:00\n",
      "Total time elapsed: 00:00:06\n"
     ]
    },
    {
     "name": "stdout",
     "output_type": "stream",
     "text": [
      "Finished Epoch 4 || Run Time:    4.1 | Load Time:    2.7 || F1:  97.68 | Prec:  95.68 | Rec:  99.77 || Ex/s: 364.35\n",
      "\n",
      "* Best F1: 97.68467475192944\n",
      "Saving best model...\n",
      "Done.\n",
      "---------------------\n",
      "\n",
      "===>  TRAIN Epoch 5\n"
     ]
    },
    {
     "name": "stderr",
     "output_type": "stream",
     "text": [
      "0% [██████████████████████████████] 100% | ETA: 00:00:00\n",
      "Total time elapsed: 00:00:51\n"
     ]
    },
    {
     "name": "stdout",
     "output_type": "stream",
     "text": [
      "Finished Epoch 5 || Run Time:   42.3 | Load Time:    9.7 || F1:  98.74 | Prec:  97.58 | Rec:  99.92 || Ex/s: 142.76\n",
      "\n",
      "===>  EVAL Epoch 5\n"
     ]
    },
    {
     "name": "stderr",
     "output_type": "stream",
     "text": [
      "0% [███████████████] 100% | ETA: 00:00:00\n",
      "Total time elapsed: 00:00:07\n"
     ]
    },
    {
     "name": "stdout",
     "output_type": "stream",
     "text": [
      "Finished Epoch 5 || Run Time:    4.7 | Load Time:    3.0 || F1:  98.34 | Prec:  96.94 | Rec:  99.77 || Ex/s: 323.46\n",
      "\n",
      "* Best F1: 98.33518312985572\n",
      "Saving best model...\n",
      "Done.\n",
      "---------------------\n",
      "\n",
      "===>  TRAIN Epoch 6\n"
     ]
    },
    {
     "name": "stderr",
     "output_type": "stream",
     "text": [
      "0% [██████████████████████████████] 100% | ETA: 00:00:00\n",
      "Total time elapsed: 00:00:51\n"
     ]
    },
    {
     "name": "stdout",
     "output_type": "stream",
     "text": [
      "Finished Epoch 6 || Run Time:   42.4 | Load Time:    9.5 || F1:  99.11 | Prec:  98.23 | Rec: 100.00 || Ex/s: 142.81\n",
      "\n",
      "===>  EVAL Epoch 6\n"
     ]
    },
    {
     "name": "stderr",
     "output_type": "stream",
     "text": [
      "0% [███████████████] 100% | ETA: 00:00:00\n",
      "Total time elapsed: 00:00:07\n"
     ]
    },
    {
     "name": "stdout",
     "output_type": "stream",
     "text": [
      "Finished Epoch 6 || Run Time:    4.4 | Load Time:    2.9 || F1:  98.34 | Prec:  96.94 | Rec:  99.77 || Ex/s: 338.68\n",
      "\n",
      "---------------------\n",
      "\n",
      "===>  TRAIN Epoch 7\n"
     ]
    },
    {
     "name": "stderr",
     "output_type": "stream",
     "text": [
      "0% [██████████████████████████████] 100% | ETA: 00:00:00\n",
      "Total time elapsed: 00:00:51\n"
     ]
    },
    {
     "name": "stdout",
     "output_type": "stream",
     "text": [
      "Finished Epoch 7 || Run Time:   42.6 | Load Time:    9.4 || F1:  99.22 | Prec:  98.45 | Rec: 100.00 || Ex/s: 142.66\n",
      "\n",
      "===>  EVAL Epoch 7\n"
     ]
    },
    {
     "name": "stderr",
     "output_type": "stream",
     "text": [
      "0% [███████████████] 100% | ETA: 00:00:00\n",
      "Total time elapsed: 00:00:07\n"
     ]
    },
    {
     "name": "stdout",
     "output_type": "stream",
     "text": [
      "Finished Epoch 7 || Run Time:    4.5 | Load Time:    2.9 || F1:  98.34 | Prec:  96.94 | Rec:  99.77 || Ex/s: 335.67\n",
      "\n",
      "---------------------\n",
      "\n",
      "===>  TRAIN Epoch 8\n"
     ]
    },
    {
     "name": "stderr",
     "output_type": "stream",
     "text": [
      "0% [██████████████████████████████] 100% | ETA: 00:00:00\n",
      "Total time elapsed: 00:00:49\n"
     ]
    },
    {
     "name": "stdout",
     "output_type": "stream",
     "text": [
      "Finished Epoch 8 || Run Time:   40.5 | Load Time:    9.1 || F1:  99.37 | Prec:  98.74 | Rec: 100.00 || Ex/s: 149.78\n",
      "\n",
      "===>  EVAL Epoch 8\n"
     ]
    },
    {
     "name": "stderr",
     "output_type": "stream",
     "text": [
      "0% [███████████████] 100% | ETA: 00:00:00\n",
      "Total time elapsed: 00:00:06\n"
     ]
    },
    {
     "name": "stdout",
     "output_type": "stream",
     "text": [
      "Finished Epoch 8 || Run Time:    4.1 | Load Time:    2.7 || F1:  98.34 | Prec:  96.94 | Rec:  99.77 || Ex/s: 360.72\n",
      "\n",
      "---------------------\n",
      "\n",
      "===>  TRAIN Epoch 9\n"
     ]
    },
    {
     "name": "stderr",
     "output_type": "stream",
     "text": [
      "0% [██████████████████████████████] 100% | ETA: 00:00:00\n",
      "Total time elapsed: 00:00:47\n"
     ]
    },
    {
     "name": "stdout",
     "output_type": "stream",
     "text": [
      "Finished Epoch 9 || Run Time:   39.2 | Load Time:    8.8 || F1:  99.37 | Prec:  98.74 | Rec: 100.00 || Ex/s: 154.64\n",
      "\n",
      "===>  EVAL Epoch 9\n"
     ]
    },
    {
     "name": "stderr",
     "output_type": "stream",
     "text": [
      "0% [███████████████] 100% | ETA: 00:00:00\n",
      "Total time elapsed: 00:00:07\n"
     ]
    },
    {
     "name": "stdout",
     "output_type": "stream",
     "text": [
      "Finished Epoch 9 || Run Time:    4.7 | Load Time:    3.0 || F1:  98.34 | Prec:  96.94 | Rec:  99.77 || Ex/s: 321.02\n",
      "\n",
      "---------------------\n",
      "\n",
      "===>  TRAIN Epoch 10\n"
     ]
    },
    {
     "name": "stderr",
     "output_type": "stream",
     "text": [
      "0% [██████████████████████████████] 100% | ETA: 00:00:00\n",
      "Total time elapsed: 00:00:50\n"
     ]
    },
    {
     "name": "stdout",
     "output_type": "stream",
     "text": [
      "Finished Epoch 10 || Run Time:   41.4 | Load Time:    9.3 || F1:  99.40 | Prec:  98.81 | Rec: 100.00 || Ex/s: 146.46\n",
      "\n",
      "===>  EVAL Epoch 10\n"
     ]
    },
    {
     "name": "stderr",
     "output_type": "stream",
     "text": [
      "0% [███████████████] 100% | ETA: 00:00:00\n",
      "Total time elapsed: 00:00:07\n"
     ]
    },
    {
     "name": "stdout",
     "output_type": "stream",
     "text": [
      "Finished Epoch 10 || Run Time:    4.5 | Load Time:    2.9 || F1:  98.23 | Prec:  96.72 | Rec:  99.77 || Ex/s: 337.41\n",
      "\n",
      "---------------------\n",
      "\n",
      "Loading best model...\n",
      "Training done.\n"
     ]
    },
    {
     "data": {
      "text/plain": [
       "98.33518312985572"
      ]
     },
     "execution_count": 36,
     "metadata": {},
     "output_type": "execute_result"
    }
   ],
   "source": [
    "model = dm.MatchingModel(attr_summarizer='hybrid')\n",
    "model.run_train(train,validation,pos_neg_ratio=10,best_save_path='../models/dblpacm_hybrid_singleattack.pth',\n",
    "              epochs=10)"
   ]
  },
  {
   "cell_type": "code",
   "execution_count": 37,
   "metadata": {},
   "outputs": [
    {
     "name": "stdout",
     "output_type": "stream",
     "text": [
      "===>  EVAL Epoch 5\n"
     ]
    },
    {
     "name": "stderr",
     "output_type": "stream",
     "text": [
      "0% [███████████████] 100% | ETA: 00:00:00\n",
      "Total time elapsed: 00:00:06\n"
     ]
    },
    {
     "name": "stdout",
     "output_type": "stream",
     "text": [
      "Finished Epoch 5 || Run Time:    4.1 | Load Time:    2.8 || F1:  94.35 | Prec:  96.69 | Rec:  92.12 || Ex/s: 359.33\n",
      "\n"
     ]
    },
    {
     "data": {
      "text/plain": [
       "94.34832756632065"
      ]
     },
     "execution_count": 37,
     "metadata": {},
     "output_type": "execute_result"
    }
   ],
   "source": [
    "model.run_eval(attacked_test)"
   ]
  },
  {
   "cell_type": "markdown",
   "metadata": {},
   "source": [
    "### Amazon-Google"
   ]
  },
  {
   "cell_type": "code",
   "execution_count": 11,
   "metadata": {},
   "outputs": [],
   "source": [
    "test_df = pd.read_csv('../Structured/Amazon-Google/merged_test.csv')\n",
    "test_df.ltable_price = test_df.ltable_price.astype(str)\n",
    "test_df.rtable_price = test_df.rtable_price.astype(str)\n",
    "attackRandomAttribute(test_df,ignore_columns=['id','label'])\n",
    "test_df.to_csv('../Structured/Amazon-Google/attacked_test_singleattr.csv',index=False)"
   ]
  },
  {
   "cell_type": "code",
   "execution_count": 14,
   "metadata": {},
   "outputs": [
    {
     "name": "stderr",
     "output_type": "stream",
     "text": [
      "\n",
      "Reading and processing data from \"../Structured/Amazon-Google/merged_train.csv\"\n",
      "0% [############################# ] 100% | ETA: 00:00:00\n",
      "Reading and processing data from \"../Structured/Amazon-Google/merged_valid.csv\"\n",
      "0% [############################# ] 100% | ETA: 00:00:00\n",
      "Reading and processing data from \"../Structured/Amazon-Google/attacked_test_singleattr.csv\"\n",
      "0% [############################# ] 100% | ETA: 00:00:00\n",
      "Building vocabulary\n",
      "0% [#######] 100% | ETA: 00:00:00\n",
      "Total time elapsed: 00:00:00\n",
      "\n",
      "Computing principal components\n",
      "0% [#######] 100% | ETA: 00:00:00\n",
      "Total time elapsed: 00:00:01\n"
     ]
    }
   ],
   "source": [
    "train,validation,attacked_test = dm.data.process('../Structured/Amazon-Google',train='merged_train.csv',\n",
    "                       validation='merged_valid.csv',test='attacked_test_singleattr.csv',left_prefix='ltable_',\n",
    "                      right_prefix='rtable_',cache='attack_single.pth')"
   ]
  },
  {
   "cell_type": "code",
   "execution_count": 15,
   "metadata": {},
   "outputs": [
    {
     "name": "stdout",
     "output_type": "stream",
     "text": [
      "* Number of trainable parameters: 7133105\n",
      "===>  TRAIN Epoch 1\n"
     ]
    },
    {
     "name": "stderr",
     "output_type": "stream",
     "text": [
      "0% [██████████████████████████████] 100% | ETA: 00:00:00\n",
      "Total time elapsed: 00:00:24\n"
     ]
    },
    {
     "name": "stdout",
     "output_type": "stream",
     "text": [
      "Finished Epoch 1 || Run Time:   21.2 | Load Time:    3.5 || F1:  23.94 | Prec:  13.75 | Rec:  92.42 || Ex/s: 279.06\n",
      "\n",
      "===>  EVAL Epoch 1\n"
     ]
    },
    {
     "name": "stderr",
     "output_type": "stream",
     "text": [
      "0% [██████████████] 100% | ETA: 00:00:00\n",
      "Total time elapsed: 00:00:03\n"
     ]
    },
    {
     "name": "stdout",
     "output_type": "stream",
     "text": [
      "Finished Epoch 1 || Run Time:    2.3 | Load Time:    1.1 || F1:  21.52 | Prec:  12.06 | Rec: 100.00 || Ex/s: 682.02\n",
      "\n",
      "* Best F1: 21.51724137931034\n",
      "Saving best model...\n",
      "Done.\n",
      "---------------------\n",
      "\n",
      "===>  TRAIN Epoch 2\n"
     ]
    },
    {
     "name": "stderr",
     "output_type": "stream",
     "text": [
      "0% [██████████████████████████████] 100% | ETA: 00:00:00\n",
      "Total time elapsed: 00:00:23\n"
     ]
    },
    {
     "name": "stdout",
     "output_type": "stream",
     "text": [
      "Finished Epoch 2 || Run Time:   20.0 | Load Time:    3.4 || F1:  39.62 | Prec:  25.00 | Rec:  95.42 || Ex/s: 293.59\n",
      "\n",
      "===>  EVAL Epoch 2\n"
     ]
    },
    {
     "name": "stderr",
     "output_type": "stream",
     "text": [
      "0% [██████████████] 100% | ETA: 00:00:00\n",
      "Total time elapsed: 00:00:03\n"
     ]
    },
    {
     "name": "stdout",
     "output_type": "stream",
     "text": [
      "Finished Epoch 2 || Run Time:    2.3 | Load Time:    1.0 || F1:  43.63 | Prec:  28.18 | Rec:  96.58 || Ex/s: 683.70\n",
      "\n",
      "* Best F1: 43.62934362934363\n",
      "Saving best model...\n",
      "Done.\n",
      "---------------------\n",
      "\n",
      "===>  TRAIN Epoch 3\n"
     ]
    },
    {
     "name": "stderr",
     "output_type": "stream",
     "text": [
      "0% [██████████████████████████████] 100% | ETA: 00:00:00\n",
      "Total time elapsed: 00:00:23\n"
     ]
    },
    {
     "name": "stdout",
     "output_type": "stream",
     "text": [
      "Finished Epoch 3 || Run Time:   19.8 | Load Time:    3.4 || F1:  57.23 | Prec:  40.51 | Rec:  97.42 || Ex/s: 297.10\n",
      "\n",
      "===>  EVAL Epoch 3\n"
     ]
    },
    {
     "name": "stderr",
     "output_type": "stream",
     "text": [
      "0% [██████████████] 100% | ETA: 00:00:00\n",
      "Total time elapsed: 00:00:03\n"
     ]
    },
    {
     "name": "stdout",
     "output_type": "stream",
     "text": [
      "Finished Epoch 3 || Run Time:    2.3 | Load Time:    1.1 || F1:  63.37 | Prec:  49.64 | Rec:  87.61 || Ex/s: 680.06\n",
      "\n",
      "* Best F1: 63.3693972179289\n",
      "Saving best model...\n",
      "Done.\n",
      "---------------------\n",
      "\n",
      "===>  TRAIN Epoch 4\n"
     ]
    },
    {
     "name": "stderr",
     "output_type": "stream",
     "text": [
      "0% [██████████████████████████████] 100% | ETA: 00:00:00\n",
      "Total time elapsed: 00:00:23\n"
     ]
    },
    {
     "name": "stdout",
     "output_type": "stream",
     "text": [
      "Finished Epoch 4 || Run Time:   20.0 | Load Time:    3.4 || F1:  68.90 | Prec:  53.00 | Rec:  98.43 || Ex/s: 294.40\n",
      "\n",
      "===>  EVAL Epoch 4\n"
     ]
    },
    {
     "name": "stderr",
     "output_type": "stream",
     "text": [
      "0% [██████████████] 100% | ETA: 00:00:00\n",
      "Total time elapsed: 00:00:03\n"
     ]
    },
    {
     "name": "stdout",
     "output_type": "stream",
     "text": [
      "Finished Epoch 4 || Run Time:    2.3 | Load Time:    1.1 || F1:  51.58 | Prec:  35.54 | Rec:  94.02 || Ex/s: 681.44\n",
      "\n",
      "---------------------\n",
      "\n",
      "===>  TRAIN Epoch 5\n"
     ]
    },
    {
     "name": "stderr",
     "output_type": "stream",
     "text": [
      "0% [██████████████████████████████] 100% | ETA: 00:00:00\n",
      "Total time elapsed: 00:00:23\n"
     ]
    },
    {
     "name": "stdout",
     "output_type": "stream",
     "text": [
      "Finished Epoch 5 || Run Time:   20.0 | Load Time:    3.4 || F1:  76.61 | Prec:  62.53 | Rec:  98.86 || Ex/s: 294.31\n",
      "\n",
      "===>  EVAL Epoch 5\n"
     ]
    },
    {
     "name": "stderr",
     "output_type": "stream",
     "text": [
      "0% [██████████████] 100% | ETA: 00:00:00\n",
      "Total time elapsed: 00:00:03\n"
     ]
    },
    {
     "name": "stdout",
     "output_type": "stream",
     "text": [
      "Finished Epoch 5 || Run Time:    2.3 | Load Time:    1.0 || F1:  53.01 | Prec:  36.91 | Rec:  94.02 || Ex/s: 685.48\n",
      "\n",
      "---------------------\n",
      "\n",
      "===>  TRAIN Epoch 6\n"
     ]
    },
    {
     "name": "stderr",
     "output_type": "stream",
     "text": [
      "0% [██████████████████████████████] 100% | ETA: 00:00:00\n",
      "Total time elapsed: 00:00:23\n"
     ]
    },
    {
     "name": "stdout",
     "output_type": "stream",
     "text": [
      "Finished Epoch 6 || Run Time:   20.1 | Load Time:    3.4 || F1:  79.63 | Prec:  66.48 | Rec:  99.28 || Ex/s: 292.89\n",
      "\n",
      "===>  EVAL Epoch 6\n"
     ]
    },
    {
     "name": "stderr",
     "output_type": "stream",
     "text": [
      "0% [██████████████] 100% | ETA: 00:00:00\n",
      "Total time elapsed: 00:00:03\n"
     ]
    },
    {
     "name": "stdout",
     "output_type": "stream",
     "text": [
      "Finished Epoch 6 || Run Time:    2.7 | Load Time:    1.1 || F1:  63.47 | Prec:  48.85 | Rec:  90.60 || Ex/s: 599.46\n",
      "\n",
      "* Best F1: 63.47305389221557\n",
      "Saving best model...\n",
      "Done.\n",
      "---------------------\n",
      "\n",
      "===>  TRAIN Epoch 7\n"
     ]
    },
    {
     "name": "stderr",
     "output_type": "stream",
     "text": [
      "0% [██████████████████████████████] 100% | ETA: 00:00:00\n",
      "Total time elapsed: 00:00:24\n"
     ]
    },
    {
     "name": "stdout",
     "output_type": "stream",
     "text": [
      "Finished Epoch 7 || Run Time:   21.2 | Load Time:    3.6 || F1:  84.31 | Prec:  73.11 | Rec:  99.57 || Ex/s: 277.08\n",
      "\n",
      "===>  EVAL Epoch 7\n"
     ]
    },
    {
     "name": "stderr",
     "output_type": "stream",
     "text": [
      "0% [██████████████] 100% | ETA: 00:00:00\n",
      "Total time elapsed: 00:00:03\n"
     ]
    },
    {
     "name": "stdout",
     "output_type": "stream",
     "text": [
      "Finished Epoch 7 || Run Time:    2.5 | Load Time:    1.1 || F1:  70.32 | Prec:  59.94 | Rec:  85.04 || Ex/s: 632.72\n",
      "\n",
      "* Best F1: 70.31802120141343\n",
      "Saving best model...\n",
      "Done.\n",
      "---------------------\n",
      "\n",
      "===>  TRAIN Epoch 8\n"
     ]
    },
    {
     "name": "stderr",
     "output_type": "stream",
     "text": [
      "0% [██████████████████████████████] 100% | ETA: 00:00:00\n",
      "Total time elapsed: 00:00:24\n"
     ]
    },
    {
     "name": "stdout",
     "output_type": "stream",
     "text": [
      "Finished Epoch 8 || Run Time:   20.9 | Load Time:    3.5 || F1:  88.23 | Prec:  79.11 | Rec:  99.71 || Ex/s: 282.03\n",
      "\n",
      "===>  EVAL Epoch 8\n"
     ]
    },
    {
     "name": "stderr",
     "output_type": "stream",
     "text": [
      "0% [██████████████] 100% | ETA: 00:00:00\n",
      "Total time elapsed: 00:00:03\n"
     ]
    },
    {
     "name": "stdout",
     "output_type": "stream",
     "text": [
      "Finished Epoch 8 || Run Time:    2.5 | Load Time:    1.1 || F1:  70.07 | Prec:  61.15 | Rec:  82.05 || Ex/s: 626.91\n",
      "\n",
      "---------------------\n",
      "\n",
      "===>  TRAIN Epoch 9\n"
     ]
    },
    {
     "name": "stderr",
     "output_type": "stream",
     "text": [
      "0% [██████████████████████████████] 100% | ETA: 00:00:00\n",
      "Total time elapsed: 00:00:24\n"
     ]
    },
    {
     "name": "stdout",
     "output_type": "stream",
     "text": [
      "Finished Epoch 9 || Run Time:   20.8 | Load Time:    3.6 || F1:  90.53 | Prec:  82.80 | Rec:  99.86 || Ex/s: 281.81\n",
      "\n",
      "===>  EVAL Epoch 9\n"
     ]
    },
    {
     "name": "stderr",
     "output_type": "stream",
     "text": [
      "0% [██████████████] 100% | ETA: 00:00:00\n",
      "Total time elapsed: 00:00:03\n"
     ]
    },
    {
     "name": "stdout",
     "output_type": "stream",
     "text": [
      "Finished Epoch 9 || Run Time:    2.4 | Load Time:    1.1 || F1:  69.50 | Prec:  61.24 | Rec:  80.34 || Ex/s: 668.49\n",
      "\n",
      "---------------------\n",
      "\n",
      "===>  TRAIN Epoch 10\n"
     ]
    },
    {
     "name": "stderr",
     "output_type": "stream",
     "text": [
      "0% [██████████████████████████████] 100% | ETA: 00:00:00\n",
      "Total time elapsed: 00:00:24\n"
     ]
    },
    {
     "name": "stdout",
     "output_type": "stream",
     "text": [
      "Finished Epoch 10 || Run Time:   20.7 | Load Time:    3.5 || F1:  92.27 | Prec:  85.75 | Rec:  99.86 || Ex/s: 283.99\n",
      "\n",
      "===>  EVAL Epoch 10\n"
     ]
    },
    {
     "name": "stderr",
     "output_type": "stream",
     "text": [
      "0% [██████████████] 100% | ETA: 00:00:00\n",
      "Total time elapsed: 00:00:03\n"
     ]
    },
    {
     "name": "stdout",
     "output_type": "stream",
     "text": [
      "Finished Epoch 10 || Run Time:    2.3 | Load Time:    1.0 || F1:  69.35 | Prec:  62.85 | Rec:  77.35 || Ex/s: 689.04\n",
      "\n",
      "---------------------\n",
      "\n",
      "===>  TRAIN Epoch 11\n"
     ]
    },
    {
     "name": "stderr",
     "output_type": "stream",
     "text": [
      "0% [██████████████████████████████] 100% | ETA: 00:00:00\n",
      "Total time elapsed: 00:00:24\n"
     ]
    },
    {
     "name": "stdout",
     "output_type": "stream",
     "text": [
      "Finished Epoch 11 || Run Time:   20.9 | Load Time:    3.6 || F1:  93.63 | Prec:  88.13 | Rec:  99.86 || Ex/s: 280.20\n",
      "\n",
      "===>  EVAL Epoch 11\n"
     ]
    },
    {
     "name": "stderr",
     "output_type": "stream",
     "text": [
      "0% [██████████████] 100% | ETA: 00:00:00\n",
      "Total time elapsed: 00:00:03\n"
     ]
    },
    {
     "name": "stdout",
     "output_type": "stream",
     "text": [
      "Finished Epoch 11 || Run Time:    2.3 | Load Time:    1.0 || F1:  70.45 | Prec:  64.98 | Rec:  76.92 || Ex/s: 693.63\n",
      "\n",
      "* Best F1: 70.45009784735811\n",
      "Saving best model...\n",
      "Done.\n",
      "---------------------\n",
      "\n",
      "===>  TRAIN Epoch 12\n"
     ]
    },
    {
     "name": "stderr",
     "output_type": "stream",
     "text": [
      "0% [██████████████████████████████] 100% | ETA: 00:00:00\n",
      "Total time elapsed: 00:00:23\n"
     ]
    },
    {
     "name": "stdout",
     "output_type": "stream",
     "text": [
      "Finished Epoch 12 || Run Time:   20.1 | Load Time:    3.3 || F1:  94.07 | Prec:  88.92 | Rec:  99.86 || Ex/s: 293.21\n",
      "\n",
      "===>  EVAL Epoch 12\n"
     ]
    },
    {
     "name": "stderr",
     "output_type": "stream",
     "text": [
      "0% [██████████████] 100% | ETA: 00:00:00\n",
      "Total time elapsed: 00:00:03\n"
     ]
    },
    {
     "name": "stdout",
     "output_type": "stream",
     "text": [
      "Finished Epoch 12 || Run Time:    2.3 | Load Time:    1.0 || F1:  69.58 | Prec:  65.06 | Rec:  74.79 || Ex/s: 695.08\n",
      "\n",
      "---------------------\n",
      "\n",
      "===>  TRAIN Epoch 13\n"
     ]
    },
    {
     "name": "stderr",
     "output_type": "stream",
     "text": [
      "0% [██████████████████████████████] 100% | ETA: 00:00:00\n",
      "Total time elapsed: 00:00:23\n"
     ]
    },
    {
     "name": "stdout",
     "output_type": "stream",
     "text": [
      "Finished Epoch 13 || Run Time:   19.9 | Load Time:    3.3 || F1:  94.97 | Prec:  90.53 | Rec:  99.86 || Ex/s: 296.08\n",
      "\n",
      "===>  EVAL Epoch 13\n"
     ]
    },
    {
     "name": "stderr",
     "output_type": "stream",
     "text": [
      "0% [██████████████] 100% | ETA: 00:00:00\n",
      "Total time elapsed: 00:00:03\n"
     ]
    },
    {
     "name": "stdout",
     "output_type": "stream",
     "text": [
      "Finished Epoch 13 || Run Time:    2.3 | Load Time:    1.0 || F1:  68.69 | Prec:  65.13 | Rec:  72.65 || Ex/s: 698.54\n",
      "\n",
      "---------------------\n",
      "\n",
      "===>  TRAIN Epoch 14\n"
     ]
    },
    {
     "name": "stderr",
     "output_type": "stream",
     "text": [
      "0% [██████████████████████████████] 100% | ETA: 00:00:00\n",
      "Total time elapsed: 00:00:24\n"
     ]
    },
    {
     "name": "stdout",
     "output_type": "stream",
     "text": [
      "Finished Epoch 14 || Run Time:   20.8 | Load Time:    3.5 || F1:  95.42 | Prec:  91.36 | Rec:  99.86 || Ex/s: 283.12\n",
      "\n",
      "===>  EVAL Epoch 14\n"
     ]
    },
    {
     "name": "stderr",
     "output_type": "stream",
     "text": [
      "0% [██████████████] 100% | ETA: 00:00:00\n",
      "Total time elapsed: 00:00:03\n"
     ]
    },
    {
     "name": "stdout",
     "output_type": "stream",
     "text": [
      "Finished Epoch 14 || Run Time:    2.5 | Load Time:    1.1 || F1:  69.37 | Prec:  66.02 | Rec:  73.08 || Ex/s: 642.11\n",
      "\n",
      "---------------------\n",
      "\n",
      "===>  TRAIN Epoch 15\n"
     ]
    },
    {
     "name": "stderr",
     "output_type": "stream",
     "text": [
      "0% [██████████████████████████████] 100% | ETA: 00:00:00\n",
      "Total time elapsed: 00:00:25\n"
     ]
    },
    {
     "name": "stdout",
     "output_type": "stream",
     "text": [
      "Finished Epoch 15 || Run Time:   21.4 | Load Time:    3.6 || F1:  95.55 | Prec:  91.60 | Rec:  99.86 || Ex/s: 274.21\n",
      "\n",
      "===>  EVAL Epoch 15\n"
     ]
    },
    {
     "name": "stderr",
     "output_type": "stream",
     "text": [
      "0% [██████████████] 100% | ETA: 00:00:00\n",
      "Total time elapsed: 00:00:03\n"
     ]
    },
    {
     "name": "stdout",
     "output_type": "stream",
     "text": [
      "Finished Epoch 15 || Run Time:    2.4 | Load Time:    1.1 || F1:  68.71 | Prec:  65.88 | Rec:  71.79 || Ex/s: 651.11\n",
      "\n",
      "---------------------\n",
      "\n",
      "===>  TRAIN Epoch 16\n"
     ]
    },
    {
     "name": "stderr",
     "output_type": "stream",
     "text": [
      "0% [██████████████████████████████] 100% | ETA: 00:00:00\n",
      "Total time elapsed: 00:00:23\n"
     ]
    },
    {
     "name": "stdout",
     "output_type": "stream",
     "text": [
      "Finished Epoch 16 || Run Time:   20.2 | Load Time:    3.4 || F1:  95.42 | Prec:  91.36 | Rec:  99.86 || Ex/s: 291.41\n",
      "\n",
      "===>  EVAL Epoch 16\n"
     ]
    },
    {
     "name": "stderr",
     "output_type": "stream",
     "text": [
      "0% [██████████████] 100% | ETA: 00:00:00\n",
      "Total time elapsed: 00:00:03\n"
     ]
    },
    {
     "name": "stdout",
     "output_type": "stream",
     "text": [
      "Finished Epoch 16 || Run Time:    2.3 | Load Time:    1.0 || F1:  68.72 | Prec:  66.27 | Rec:  71.37 || Ex/s: 694.01\n",
      "\n",
      "---------------------\n",
      "\n",
      "===>  TRAIN Epoch 17\n"
     ]
    },
    {
     "name": "stderr",
     "output_type": "stream",
     "text": [
      "0% [██████████████████████████████] 100% | ETA: 00:00:00\n",
      "Total time elapsed: 00:00:22\n"
     ]
    },
    {
     "name": "stdout",
     "output_type": "stream",
     "text": [
      "Finished Epoch 17 || Run Time:   19.6 | Load Time:    3.3 || F1:  95.82 | Prec:  91.97 | Rec: 100.00 || Ex/s: 299.50\n",
      "\n",
      "===>  EVAL Epoch 17\n"
     ]
    },
    {
     "name": "stderr",
     "output_type": "stream",
     "text": [
      "0% [██████████████] 100% | ETA: 00:00:00\n",
      "Total time elapsed: 00:00:03\n"
     ]
    },
    {
     "name": "stdout",
     "output_type": "stream",
     "text": [
      "Finished Epoch 17 || Run Time:    2.3 | Load Time:    1.0 || F1:  68.18 | Prec:  66.00 | Rec:  70.51 || Ex/s: 687.76\n",
      "\n",
      "---------------------\n",
      "\n",
      "===>  TRAIN Epoch 18\n"
     ]
    },
    {
     "name": "stderr",
     "output_type": "stream",
     "text": [
      "0% [██████████████████████████████] 100% | ETA: 00:00:00\n",
      "Total time elapsed: 00:00:22\n"
     ]
    },
    {
     "name": "stdout",
     "output_type": "stream",
     "text": [
      "Finished Epoch 18 || Run Time:   19.4 | Load Time:    3.3 || F1:  95.95 | Prec:  92.22 | Rec: 100.00 || Ex/s: 302.58\n",
      "\n",
      "===>  EVAL Epoch 18\n"
     ]
    },
    {
     "name": "stderr",
     "output_type": "stream",
     "text": [
      "0% [██████████████] 100% | ETA: 00:00:00\n",
      "Total time elapsed: 00:00:03\n"
     ]
    },
    {
     "name": "stdout",
     "output_type": "stream",
     "text": [
      "Finished Epoch 18 || Run Time:    2.3 | Load Time:    1.0 || F1:  68.20 | Prec:  66.80 | Rec:  69.66 || Ex/s: 686.28\n",
      "\n",
      "---------------------\n",
      "\n",
      "===>  TRAIN Epoch 19\n"
     ]
    },
    {
     "name": "stderr",
     "output_type": "stream",
     "text": [
      "0% [██████████████████████████████] 100% | ETA: 00:00:00\n",
      "Total time elapsed: 00:00:22\n"
     ]
    },
    {
     "name": "stdout",
     "output_type": "stream",
     "text": [
      "Finished Epoch 19 || Run Time:   19.6 | Load Time:    3.3 || F1:  96.08 | Prec:  92.46 | Rec: 100.00 || Ex/s: 300.42\n",
      "\n",
      "===>  EVAL Epoch 19\n"
     ]
    },
    {
     "name": "stderr",
     "output_type": "stream",
     "text": [
      "0% [██████████████] 100% | ETA: 00:00:00\n",
      "Total time elapsed: 00:00:03\n"
     ]
    },
    {
     "name": "stdout",
     "output_type": "stream",
     "text": [
      "Finished Epoch 19 || Run Time:    2.3 | Load Time:    1.0 || F1:  68.07 | Prec:  66.94 | Rec:  69.23 || Ex/s: 695.22\n",
      "\n",
      "---------------------\n",
      "\n",
      "===>  TRAIN Epoch 20\n"
     ]
    },
    {
     "name": "stderr",
     "output_type": "stream",
     "text": [
      "0% [██████████████████████████████] 100% | ETA: 00:00:00\n",
      "Total time elapsed: 00:00:23\n"
     ]
    },
    {
     "name": "stdout",
     "output_type": "stream",
     "text": [
      "Finished Epoch 20 || Run Time:   19.8 | Load Time:    3.3 || F1:  96.28 | Prec:  92.83 | Rec: 100.00 || Ex/s: 297.59\n",
      "\n",
      "===>  EVAL Epoch 20\n"
     ]
    },
    {
     "name": "stderr",
     "output_type": "stream",
     "text": [
      "0% [██████████████] 100% | ETA: 00:00:00\n",
      "Total time elapsed: 00:00:03\n"
     ]
    },
    {
     "name": "stdout",
     "output_type": "stream",
     "text": [
      "Finished Epoch 20 || Run Time:    2.3 | Load Time:    1.0 || F1:  68.21 | Prec:  67.22 | Rec:  69.23 || Ex/s: 697.49\n",
      "\n",
      "---------------------\n",
      "\n",
      "Loading best model...\n",
      "Training done.\n"
     ]
    },
    {
     "data": {
      "text/plain": [
       "70.45009784735811"
      ]
     },
     "execution_count": 15,
     "metadata": {},
     "output_type": "execute_result"
    }
   ],
   "source": [
    "model = dm.MatchingModel(attr_summarizer='hybrid')\n",
    "model.run_train(train,validation,pos_neg_ratio=10,best_save_path='../models/amazongoogle_hybrid_singleattack.pth',\n",
    "              epochs=20)"
   ]
  },
  {
   "cell_type": "code",
   "execution_count": 16,
   "metadata": {},
   "outputs": [
    {
     "name": "stdout",
     "output_type": "stream",
     "text": [
      "===>  EVAL Epoch 11\n"
     ]
    },
    {
     "name": "stderr",
     "output_type": "stream",
     "text": [
      "0% [██████████████] 100% | ETA: 00:00:00\n",
      "Total time elapsed: 00:00:03\n"
     ]
    },
    {
     "name": "stdout",
     "output_type": "stream",
     "text": [
      "Finished Epoch 11 || Run Time:    2.3 | Load Time:    1.2 || F1:  60.71 | Prec:  63.55 | Rec:  58.12 || Ex/s: 646.74\n",
      "\n"
     ]
    },
    {
     "data": {
      "text/plain": [
       "60.714285714285715"
      ]
     },
     "execution_count": 16,
     "metadata": {},
     "output_type": "execute_result"
    }
   ],
   "source": [
    "model.run_eval(attacked_test)"
   ]
  },
  {
   "cell_type": "markdown",
   "metadata": {},
   "source": [
    "### Walmart-Amazon"
   ]
  },
  {
   "cell_type": "code",
   "execution_count": 17,
   "metadata": {},
   "outputs": [],
   "source": [
    "test_df = pd.read_csv('../Structured/Walmart-Amazon/merged_test.csv')\n",
    "test_df.ltable_price = test_df.ltable_price.astype(str)\n",
    "test_df.rtable_price = test_df.rtable_price.astype(str)\n",
    "attackRandomAttribute(test_df,ignore_columns=['id','label'])\n",
    "test_df.to_csv('../Structured/Walmart-Amazon/attacked_test_singleattr.csv',index=False)"
   ]
  },
  {
   "cell_type": "code",
   "execution_count": 18,
   "metadata": {},
   "outputs": [
    {
     "name": "stderr",
     "output_type": "stream",
     "text": [
      "\n",
      "Reading and processing data from \"../Structured/Walmart-Amazon/merged_train.csv\"\n",
      "0% [############################# ] 100% | ETA: 00:00:00\n",
      "Reading and processing data from \"../Structured/Walmart-Amazon/merged_valid.csv\"\n",
      "0% [############################# ] 100% | ETA: 00:00:00\n",
      "Reading and processing data from \"../Structured/Walmart-Amazon/attacked_test_singleattr.csv\"\n",
      "0% [############################# ] 100% | ETA: 00:00:00\n",
      "Building vocabulary\n",
      "0% [######] 100% | ETA: 00:00:00\n",
      "Total time elapsed: 00:00:00\n",
      "\n",
      "Computing principal components\n",
      "0% [######] 100% | ETA: 00:00:00\n",
      "Total time elapsed: 00:00:01\n"
     ]
    }
   ],
   "source": [
    "train,validation,attacked_test = dm.data.process('../Structured/Walmart-Amazon',train='merged_train.csv',\n",
    "                       validation='merged_valid.csv',test='attacked_test_singleattr.csv',left_prefix='ltable_',\n",
    "                      right_prefix='rtable_',cache='attack_single.pth')"
   ]
  },
  {
   "cell_type": "code",
   "execution_count": 19,
   "metadata": {},
   "outputs": [
    {
     "name": "stdout",
     "output_type": "stream",
     "text": [
      "* Number of trainable parameters: 11286907\n",
      "===>  TRAIN Epoch 1\n"
     ]
    },
    {
     "name": "stderr",
     "output_type": "stream",
     "text": [
      "0% [██████████████████████████████] 100% | ETA: 00:00:00\n",
      "Total time elapsed: 00:00:33\n"
     ]
    },
    {
     "name": "stdout",
     "output_type": "stream",
     "text": [
      "Finished Epoch 1 || Run Time:   28.7 | Load Time:    4.8 || F1:  22.18 | Prec:  12.60 | Rec:  92.19 || Ex/s: 183.66\n",
      "\n",
      "===>  EVAL Epoch 1\n"
     ]
    },
    {
     "name": "stderr",
     "output_type": "stream",
     "text": [
      "0% [█████████████] 100% | ETA: 00:00:00\n",
      "Total time elapsed: 00:00:04\n"
     ]
    },
    {
     "name": "stdout",
     "output_type": "stream",
     "text": [
      "Finished Epoch 1 || Run Time:    3.4 | Load Time:    1.5 || F1:  28.18 | Prec:  16.65 | Rec:  91.71 || Ex/s: 412.70\n",
      "\n",
      "* Best F1: 28.18471337579618\n",
      "Saving best model...\n",
      "Done.\n",
      "---------------------\n",
      "\n",
      "===>  TRAIN Epoch 2\n"
     ]
    },
    {
     "name": "stderr",
     "output_type": "stream",
     "text": [
      "0% [██████████████████████████████] 100% | ETA: 00:00:00\n",
      "Total time elapsed: 00:00:32\n"
     ]
    },
    {
     "name": "stdout",
     "output_type": "stream",
     "text": [
      "Finished Epoch 2 || Run Time:   28.4 | Load Time:    4.8 || F1:  33.68 | Prec:  20.61 | Rec:  92.19 || Ex/s: 184.87\n",
      "\n",
      "===>  EVAL Epoch 2\n"
     ]
    },
    {
     "name": "stderr",
     "output_type": "stream",
     "text": [
      "0% [█████████████] 100% | ETA: 00:00:00\n",
      "Total time elapsed: 00:00:04\n"
     ]
    },
    {
     "name": "stdout",
     "output_type": "stream",
     "text": [
      "Finished Epoch 2 || Run Time:    3.5 | Load Time:    1.5 || F1:  33.06 | Prec:  20.02 | Rec:  94.82 || Ex/s: 411.21\n",
      "\n",
      "* Best F1: 33.06233062330623\n",
      "Saving best model...\n",
      "Done.\n",
      "---------------------\n",
      "\n",
      "===>  TRAIN Epoch 3\n"
     ]
    },
    {
     "name": "stderr",
     "output_type": "stream",
     "text": [
      "0% [██████████████████████████████] 100% | ETA: 00:00:00\n",
      "Total time elapsed: 00:00:33\n"
     ]
    },
    {
     "name": "stdout",
     "output_type": "stream",
     "text": [
      "Finished Epoch 3 || Run Time:   28.6 | Load Time:    4.8 || F1:  42.57 | Prec:  27.49 | Rec:  94.27 || Ex/s: 183.74\n",
      "\n",
      "===>  EVAL Epoch 3\n"
     ]
    },
    {
     "name": "stderr",
     "output_type": "stream",
     "text": [
      "0% [█████████████] 100% | ETA: 00:00:00\n",
      "Total time elapsed: 00:00:04\n"
     ]
    },
    {
     "name": "stdout",
     "output_type": "stream",
     "text": [
      "Finished Epoch 3 || Run Time:    3.4 | Load Time:    1.5 || F1:  40.58 | Prec:  26.41 | Rec:  87.56 || Ex/s: 414.78\n",
      "\n",
      "* Best F1: 40.57623049219688\n",
      "Saving best model...\n",
      "Done.\n",
      "---------------------\n",
      "\n",
      "===>  TRAIN Epoch 4\n"
     ]
    },
    {
     "name": "stderr",
     "output_type": "stream",
     "text": [
      "0% [██████████████████████████████] 100% | ETA: 00:00:00\n",
      "Total time elapsed: 00:00:32\n"
     ]
    },
    {
     "name": "stdout",
     "output_type": "stream",
     "text": [
      "Finished Epoch 4 || Run Time:   28.6 | Load Time:    4.8 || F1:  55.64 | Prec:  38.97 | Rec:  97.22 || Ex/s: 183.89\n",
      "\n",
      "===>  EVAL Epoch 4\n"
     ]
    },
    {
     "name": "stderr",
     "output_type": "stream",
     "text": [
      "0% [█████████████] 100% | ETA: 00:00:00\n",
      "Total time elapsed: 00:00:04\n"
     ]
    },
    {
     "name": "stdout",
     "output_type": "stream",
     "text": [
      "Finished Epoch 4 || Run Time:    3.4 | Load Time:    1.5 || F1:  43.40 | Prec:  29.02 | Rec:  86.01 || Ex/s: 416.31\n",
      "\n",
      "* Best F1: 43.39869281045752\n",
      "Saving best model...\n",
      "Done.\n",
      "---------------------\n",
      "\n",
      "===>  TRAIN Epoch 5\n"
     ]
    },
    {
     "name": "stderr",
     "output_type": "stream",
     "text": [
      "0% [██████████████████████████████] 100% | ETA: 00:00:00\n",
      "Total time elapsed: 00:00:33\n"
     ]
    },
    {
     "name": "stdout",
     "output_type": "stream",
     "text": [
      "Finished Epoch 5 || Run Time:   28.7 | Load Time:    4.8 || F1:  67.30 | Prec:  51.03 | Rec:  98.78 || Ex/s: 183.67\n",
      "\n",
      "===>  EVAL Epoch 5\n"
     ]
    },
    {
     "name": "stderr",
     "output_type": "stream",
     "text": [
      "0% [█████████████] 100% | ETA: 00:00:00\n",
      "Total time elapsed: 00:00:04\n"
     ]
    },
    {
     "name": "stdout",
     "output_type": "stream",
     "text": [
      "Finished Epoch 5 || Run Time:    3.4 | Load Time:    1.5 || F1:  56.65 | Prec:  44.74 | Rec:  77.20 || Ex/s: 416.84\n",
      "\n",
      "* Best F1: 56.65399239543727\n",
      "Saving best model...\n",
      "Done.\n",
      "---------------------\n",
      "\n",
      "===>  TRAIN Epoch 6\n"
     ]
    },
    {
     "name": "stderr",
     "output_type": "stream",
     "text": [
      "0% [██████████████████████████████] 100% | ETA: 00:00:00\n",
      "Total time elapsed: 00:00:32\n"
     ]
    },
    {
     "name": "stdout",
     "output_type": "stream",
     "text": [
      "Finished Epoch 6 || Run Time:   28.6 | Load Time:    4.8 || F1:  78.93 | Prec:  65.41 | Rec:  99.48 || Ex/s: 184.17\n",
      "\n",
      "===>  EVAL Epoch 6\n"
     ]
    },
    {
     "name": "stderr",
     "output_type": "stream",
     "text": [
      "0% [█████████████] 100% | ETA: 00:00:00\n",
      "Total time elapsed: 00:00:04\n"
     ]
    },
    {
     "name": "stdout",
     "output_type": "stream",
     "text": [
      "Finished Epoch 6 || Run Time:    3.5 | Load Time:    1.5 || F1:  60.68 | Prec:  51.64 | Rec:  73.58 || Ex/s: 410.73\n",
      "\n",
      "* Best F1: 60.68376068376069\n",
      "Saving best model...\n",
      "Done.\n",
      "---------------------\n",
      "\n",
      "===>  TRAIN Epoch 7\n"
     ]
    },
    {
     "name": "stderr",
     "output_type": "stream",
     "text": [
      "0% [██████████████████████████████] 100% | ETA: 00:00:00\n",
      "Total time elapsed: 00:00:32\n"
     ]
    },
    {
     "name": "stdout",
     "output_type": "stream",
     "text": [
      "Finished Epoch 7 || Run Time:   28.6 | Load Time:    4.8 || F1:  85.67 | Prec:  75.13 | Rec:  99.65 || Ex/s: 184.31\n",
      "\n",
      "===>  EVAL Epoch 7\n"
     ]
    },
    {
     "name": "stderr",
     "output_type": "stream",
     "text": [
      "0% [█████████████] 100% | ETA: 00:00:00\n",
      "Total time elapsed: 00:00:04\n"
     ]
    },
    {
     "name": "stdout",
     "output_type": "stream",
     "text": [
      "Finished Epoch 7 || Run Time:    3.4 | Load Time:    1.5 || F1:  64.13 | Prec:  56.52 | Rec:  74.09 || Ex/s: 413.70\n",
      "\n",
      "* Best F1: 64.12556053811659\n",
      "Saving best model...\n",
      "Done.\n",
      "---------------------\n",
      "\n",
      "===>  TRAIN Epoch 8\n"
     ]
    },
    {
     "name": "stderr",
     "output_type": "stream",
     "text": [
      "0% [██████████████████████████████] 100% | ETA: 00:00:00\n",
      "Total time elapsed: 00:00:32\n"
     ]
    },
    {
     "name": "stdout",
     "output_type": "stream",
     "text": [
      "Finished Epoch 8 || Run Time:   28.5 | Load Time:    4.8 || F1:  91.50 | Prec:  84.33 | Rec: 100.00 || Ex/s: 184.46\n",
      "\n",
      "===>  EVAL Epoch 8\n"
     ]
    },
    {
     "name": "stderr",
     "output_type": "stream",
     "text": [
      "0% [█████████████] 100% | ETA: 00:00:00\n",
      "Total time elapsed: 00:00:05\n"
     ]
    },
    {
     "name": "stdout",
     "output_type": "stream",
     "text": [
      "Finished Epoch 8 || Run Time:    3.5 | Load Time:    1.5 || F1:  62.34 | Prec:  53.53 | Rec:  74.61 || Ex/s: 409.24\n",
      "\n",
      "---------------------\n",
      "\n",
      "===>  TRAIN Epoch 9\n"
     ]
    },
    {
     "name": "stderr",
     "output_type": "stream",
     "text": [
      "0% [██████████████████████████████] 100% | ETA: 00:00:00\n",
      "Total time elapsed: 00:00:33\n"
     ]
    },
    {
     "name": "stdout",
     "output_type": "stream",
     "text": [
      "Finished Epoch 9 || Run Time:   28.8 | Load Time:    4.8 || F1:  95.04 | Prec:  90.69 | Rec:  99.83 || Ex/s: 183.08\n",
      "\n",
      "===>  EVAL Epoch 9\n"
     ]
    },
    {
     "name": "stderr",
     "output_type": "stream",
     "text": [
      "0% [█████████████] 100% | ETA: 00:00:00\n",
      "Total time elapsed: 00:00:04\n"
     ]
    },
    {
     "name": "stdout",
     "output_type": "stream",
     "text": [
      "Finished Epoch 9 || Run Time:    3.4 | Load Time:    1.5 || F1:  62.61 | Prec:  55.38 | Rec:  72.02 || Ex/s: 416.65\n",
      "\n",
      "---------------------\n",
      "\n",
      "===>  TRAIN Epoch 10\n"
     ]
    },
    {
     "name": "stderr",
     "output_type": "stream",
     "text": [
      "0% [██████████████████████████████] 100% | ETA: 00:00:00\n",
      "Total time elapsed: 00:00:33\n"
     ]
    },
    {
     "name": "stdout",
     "output_type": "stream",
     "text": [
      "Finished Epoch 10 || Run Time:   28.7 | Load Time:    4.8 || F1:  96.73 | Prec:  93.66 | Rec: 100.00 || Ex/s: 183.37\n",
      "\n",
      "===>  EVAL Epoch 10\n"
     ]
    },
    {
     "name": "stderr",
     "output_type": "stream",
     "text": [
      "0% [█████████████] 100% | ETA: 00:00:00\n",
      "Total time elapsed: 00:00:04\n"
     ]
    },
    {
     "name": "stdout",
     "output_type": "stream",
     "text": [
      "Finished Epoch 10 || Run Time:    3.4 | Load Time:    1.5 || F1:  64.80 | Prec:  58.90 | Rec:  72.02 || Ex/s: 416.15\n",
      "\n",
      "* Best F1: 64.8018648018648\n",
      "Saving best model...\n",
      "Done.\n",
      "---------------------\n",
      "\n",
      "===>  TRAIN Epoch 11\n"
     ]
    },
    {
     "name": "stderr",
     "output_type": "stream",
     "text": [
      "0% [██████████████████████████████] 100% | ETA: 00:00:00\n",
      "Total time elapsed: 00:00:32\n"
     ]
    },
    {
     "name": "stdout",
     "output_type": "stream",
     "text": [
      "Finished Epoch 11 || Run Time:   28.6 | Load Time:    4.8 || F1:  97.79 | Prec:  95.68 | Rec: 100.00 || Ex/s: 184.23\n",
      "\n",
      "===>  EVAL Epoch 11\n"
     ]
    },
    {
     "name": "stderr",
     "output_type": "stream",
     "text": [
      "0% [█████████████] 100% | ETA: 00:00:00\n",
      "Total time elapsed: 00:00:04\n"
     ]
    },
    {
     "name": "stdout",
     "output_type": "stream",
     "text": [
      "Finished Epoch 11 || Run Time:    3.5 | Load Time:    1.5 || F1:  64.44 | Prec:  59.73 | Rec:  69.95 || Ex/s: 410.41\n",
      "\n",
      "---------------------\n",
      "\n",
      "===>  TRAIN Epoch 12\n"
     ]
    },
    {
     "name": "stderr",
     "output_type": "stream",
     "text": [
      "0% [██████████████████████████████] 100% | ETA: 00:00:00\n",
      "Total time elapsed: 00:00:32\n"
     ]
    },
    {
     "name": "stdout",
     "output_type": "stream",
     "text": [
      "Finished Epoch 12 || Run Time:   28.3 | Load Time:    4.8 || F1:  98.04 | Prec:  96.16 | Rec: 100.00 || Ex/s: 185.53\n",
      "\n",
      "===>  EVAL Epoch 12\n"
     ]
    },
    {
     "name": "stderr",
     "output_type": "stream",
     "text": [
      "0% [█████████████] 100% | ETA: 00:00:00\n",
      "Total time elapsed: 00:00:04\n"
     ]
    },
    {
     "name": "stdout",
     "output_type": "stream",
     "text": [
      "Finished Epoch 12 || Run Time:    3.4 | Load Time:    1.5 || F1:  64.55 | Prec:  61.11 | Rec:  68.39 || Ex/s: 415.06\n",
      "\n",
      "---------------------\n",
      "\n",
      "===>  TRAIN Epoch 13\n"
     ]
    },
    {
     "name": "stderr",
     "output_type": "stream",
     "text": [
      "0% [██████████████████████████████] 100% | ETA: 00:00:00\n",
      "Total time elapsed: 00:00:33\n"
     ]
    },
    {
     "name": "stdout",
     "output_type": "stream",
     "text": [
      "Finished Epoch 13 || Run Time:   28.6 | Load Time:    4.8 || F1:  98.29 | Prec:  96.64 | Rec: 100.00 || Ex/s: 183.79\n",
      "\n",
      "===>  EVAL Epoch 13\n"
     ]
    },
    {
     "name": "stderr",
     "output_type": "stream",
     "text": [
      "0% [█████████████] 100% | ETA: 00:00:00\n",
      "Total time elapsed: 00:00:04\n"
     ]
    },
    {
     "name": "stdout",
     "output_type": "stream",
     "text": [
      "Finished Epoch 13 || Run Time:    3.4 | Load Time:    1.5 || F1:  64.50 | Prec:  62.32 | Rec:  66.84 || Ex/s: 413.81\n",
      "\n",
      "---------------------\n",
      "\n",
      "===>  TRAIN Epoch 14\n"
     ]
    },
    {
     "name": "stderr",
     "output_type": "stream",
     "text": [
      "0% [██████████████████████████████] 100% | ETA: 00:00:00\n",
      "Total time elapsed: 00:00:32\n"
     ]
    },
    {
     "name": "stdout",
     "output_type": "stream",
     "text": [
      "Finished Epoch 14 || Run Time:   28.6 | Load Time:    4.8 || F1:  98.71 | Prec:  97.46 | Rec: 100.00 || Ex/s: 184.08\n",
      "\n",
      "===>  EVAL Epoch 14\n"
     ]
    },
    {
     "name": "stderr",
     "output_type": "stream",
     "text": [
      "0% [█████████████] 100% | ETA: 00:00:00\n",
      "Total time elapsed: 00:00:04\n"
     ]
    },
    {
     "name": "stdout",
     "output_type": "stream",
     "text": [
      "Finished Epoch 14 || Run Time:    3.4 | Load Time:    1.5 || F1:  65.32 | Prec:  63.86 | Rec:  66.84 || Ex/s: 415.26\n",
      "\n",
      "* Best F1: 65.31645569620252\n",
      "Saving best model...\n",
      "Done.\n",
      "---------------------\n",
      "\n",
      "===>  TRAIN Epoch 15\n"
     ]
    },
    {
     "name": "stderr",
     "output_type": "stream",
     "text": [
      "0% [██████████████████████████████] 100% | ETA: 00:00:00\n",
      "Total time elapsed: 00:00:32\n"
     ]
    },
    {
     "name": "stdout",
     "output_type": "stream",
     "text": [
      "Finished Epoch 15 || Run Time:   28.3 | Load Time:    4.8 || F1:  98.97 | Prec:  97.96 | Rec: 100.00 || Ex/s: 185.98\n",
      "\n",
      "===>  EVAL Epoch 15\n"
     ]
    },
    {
     "name": "stderr",
     "output_type": "stream",
     "text": [
      "0% [█████████████] 100% | ETA: 00:00:00\n",
      "Total time elapsed: 00:00:04\n"
     ]
    },
    {
     "name": "stdout",
     "output_type": "stream",
     "text": [
      "Finished Epoch 15 || Run Time:    3.4 | Load Time:    1.5 || F1:  65.14 | Prec:  64.00 | Rec:  66.32 || Ex/s: 413.68\n",
      "\n",
      "---------------------\n",
      "\n",
      "===>  TRAIN Epoch 16\n"
     ]
    },
    {
     "name": "stderr",
     "output_type": "stream",
     "text": [
      "0% [██████████████████████████████] 100% | ETA: 00:00:00\n",
      "Total time elapsed: 00:00:33\n"
     ]
    },
    {
     "name": "stdout",
     "output_type": "stream",
     "text": [
      "Finished Epoch 16 || Run Time:   28.7 | Load Time:    4.8 || F1:  99.05 | Prec:  98.13 | Rec: 100.00 || Ex/s: 183.39\n",
      "\n",
      "===>  EVAL Epoch 16\n"
     ]
    },
    {
     "name": "stderr",
     "output_type": "stream",
     "text": [
      "0% [█████████████] 100% | ETA: 00:00:00\n",
      "Total time elapsed: 00:00:04\n"
     ]
    },
    {
     "name": "stdout",
     "output_type": "stream",
     "text": [
      "Finished Epoch 16 || Run Time:    3.5 | Load Time:    1.5 || F1:  65.32 | Prec:  63.86 | Rec:  66.84 || Ex/s: 412.55\n",
      "\n",
      "---------------------\n",
      "\n",
      "===>  TRAIN Epoch 17\n"
     ]
    },
    {
     "name": "stderr",
     "output_type": "stream",
     "text": [
      "0% [██████████████████████████████] 100% | ETA: 00:00:00\n",
      "Total time elapsed: 00:00:32\n"
     ]
    },
    {
     "name": "stdout",
     "output_type": "stream",
     "text": [
      "Finished Epoch 17 || Run Time:   28.4 | Load Time:    4.8 || F1:  99.05 | Prec:  98.13 | Rec: 100.00 || Ex/s: 185.26\n",
      "\n",
      "===>  EVAL Epoch 17\n"
     ]
    },
    {
     "name": "stderr",
     "output_type": "stream",
     "text": [
      "0% [█████████████] 100% | ETA: 00:00:00\n",
      "Total time elapsed: 00:00:04\n"
     ]
    },
    {
     "name": "stdout",
     "output_type": "stream",
     "text": [
      "Finished Epoch 17 || Run Time:    3.4 | Load Time:    1.5 || F1:  65.32 | Prec:  63.86 | Rec:  66.84 || Ex/s: 414.52\n",
      "\n",
      "---------------------\n",
      "\n",
      "===>  TRAIN Epoch 18\n"
     ]
    },
    {
     "name": "stderr",
     "output_type": "stream",
     "text": [
      "0% [██████████████████████████████] 100% | ETA: 00:00:00\n",
      "Total time elapsed: 00:00:32\n"
     ]
    },
    {
     "name": "stdout",
     "output_type": "stream",
     "text": [
      "Finished Epoch 18 || Run Time:   27.9 | Load Time:    4.8 || F1:  99.14 | Prec:  98.29 | Rec: 100.00 || Ex/s: 188.15\n",
      "\n",
      "===>  EVAL Epoch 18\n"
     ]
    },
    {
     "name": "stderr",
     "output_type": "stream",
     "text": [
      "0% [█████████████] 100% | ETA: 00:00:00\n",
      "Total time elapsed: 00:00:04\n"
     ]
    },
    {
     "name": "stdout",
     "output_type": "stream",
     "text": [
      "Finished Epoch 18 || Run Time:    3.4 | Load Time:    1.5 || F1:  65.32 | Prec:  63.86 | Rec:  66.84 || Ex/s: 414.03\n",
      "\n",
      "---------------------\n",
      "\n",
      "===>  TRAIN Epoch 19\n"
     ]
    },
    {
     "name": "stderr",
     "output_type": "stream",
     "text": [
      "0% [██████████████████████████████] 100% | ETA: 00:00:00\n",
      "Total time elapsed: 00:00:32\n"
     ]
    },
    {
     "name": "stdout",
     "output_type": "stream",
     "text": [
      "Finished Epoch 19 || Run Time:   28.6 | Load Time:    4.8 || F1:  99.14 | Prec:  98.29 | Rec: 100.00 || Ex/s: 184.19\n",
      "\n",
      "===>  EVAL Epoch 19\n"
     ]
    },
    {
     "name": "stderr",
     "output_type": "stream",
     "text": [
      "0% [█████████████] 100% | ETA: 00:00:00\n",
      "Total time elapsed: 00:00:05\n"
     ]
    },
    {
     "name": "stdout",
     "output_type": "stream",
     "text": [
      "Finished Epoch 19 || Run Time:    3.5 | Load Time:    1.5 || F1:  65.66 | Prec:  64.04 | Rec:  67.36 || Ex/s: 409.27\n",
      "\n",
      "* Best F1: 65.65656565656566\n",
      "Saving best model...\n",
      "Done.\n",
      "---------------------\n",
      "\n",
      "===>  TRAIN Epoch 20\n"
     ]
    },
    {
     "name": "stderr",
     "output_type": "stream",
     "text": [
      "0% [██████████████████████████████] 100% | ETA: 00:00:00\n",
      "Total time elapsed: 00:00:33\n"
     ]
    },
    {
     "name": "stdout",
     "output_type": "stream",
     "text": [
      "Finished Epoch 20 || Run Time:   28.7 | Load Time:    4.8 || F1:  99.14 | Prec:  98.29 | Rec: 100.00 || Ex/s: 183.52\n",
      "\n",
      "===>  EVAL Epoch 20\n"
     ]
    },
    {
     "name": "stderr",
     "output_type": "stream",
     "text": [
      "0% [█████████████] 100% | ETA: 00:00:00\n",
      "Total time elapsed: 00:00:04\n"
     ]
    },
    {
     "name": "stdout",
     "output_type": "stream",
     "text": [
      "Finished Epoch 20 || Run Time:    3.5 | Load Time:    1.5 || F1:  65.66 | Prec:  64.04 | Rec:  67.36 || Ex/s: 411.50\n",
      "\n",
      "---------------------\n",
      "\n",
      "Loading best model...\n",
      "Training done.\n"
     ]
    },
    {
     "data": {
      "text/plain": [
       "65.65656565656566"
      ]
     },
     "execution_count": 19,
     "metadata": {},
     "output_type": "execute_result"
    }
   ],
   "source": [
    "model = dm.MatchingModel(attr_summarizer='hybrid')\n",
    "model.run_train(train,validation,pos_neg_ratio=10,best_save_path='../models/walmartamazon_hybrid_singleattack.pth',\n",
    "              epochs=20)"
   ]
  },
  {
   "cell_type": "code",
   "execution_count": 20,
   "metadata": {},
   "outputs": [
    {
     "name": "stdout",
     "output_type": "stream",
     "text": [
      "===>  EVAL Epoch 19\n"
     ]
    },
    {
     "name": "stderr",
     "output_type": "stream",
     "text": [
      "0% [█████████████] 100% | ETA: 00:00:00\n",
      "Total time elapsed: 00:00:05\n"
     ]
    },
    {
     "name": "stdout",
     "output_type": "stream",
     "text": [
      "Finished Epoch 19 || Run Time:    3.6 | Load Time:    1.7 || F1:  57.62 | Prec:  61.90 | Rec:  53.89 || Ex/s: 393.17\n",
      "\n"
     ]
    },
    {
     "data": {
      "text/plain": [
       "57.61772853185595"
      ]
     },
     "execution_count": 20,
     "metadata": {},
     "output_type": "execute_result"
    }
   ],
   "source": [
    "model.run_eval(attacked_test)"
   ]
  },
  {
   "cell_type": "markdown",
   "metadata": {},
   "source": [
    "## Original results"
   ]
  },
  {
   "cell_type": "code",
   "execution_count": 4,
   "metadata": {},
   "outputs": [],
   "source": [
    "itunes_amazon = dm.MatchingModel(attr_summarizer='hybrid')\n",
    "itunes_amazon.load_state('../models/itunes_amazon_hybrid.pth')"
   ]
  },
  {
   "cell_type": "code",
   "execution_count": 8,
   "metadata": {},
   "outputs": [],
   "source": [
    "train,test = dm.data.process('../Structured/itunes-amazon/',train='merged_train.csv',\n",
    "                       test='merged_test.csv',left_prefix='ltable_',\n",
    "                      right_prefix='rtable_')"
   ]
  },
  {
   "cell_type": "code",
   "execution_count": 9,
   "metadata": {},
   "outputs": [
    {
     "name": "stdout",
     "output_type": "stream",
     "text": [
      "===>  EVAL Epoch 3\n",
      "Finished Epoch 3 || Run Time:    0.7 | Load Time:    0.4 || F1:  81.48 | Prec:  81.48 | Rec:  81.48 || Ex/s: 108.32\n",
      "\n"
     ]
    },
    {
     "data": {
      "text/plain": [
       "81.48148148148148"
      ]
     },
     "execution_count": 9,
     "metadata": {},
     "output_type": "execute_result"
    }
   ],
   "source": [
    "itunes_amazon.run_eval(test)"
   ]
  },
  {
   "cell_type": "code",
   "execution_count": 4,
   "metadata": {},
   "outputs": [],
   "source": [
    "beer = dm.MatchingModel(attr_summarizer='hybrid')\n",
    "beer.load_state('../models/beer_hybrid.pth')"
   ]
  },
  {
   "cell_type": "code",
   "execution_count": 9,
   "metadata": {},
   "outputs": [],
   "source": [
    "train,validation,test = dm.data.process('../Structured/Beer/',train='merged_train.csv',validation='merged_valid.csv',\n",
    "                       test='merged_test.csv',left_prefix='ltable_',\n",
    "                      right_prefix='rtable_')"
   ]
  },
  {
   "cell_type": "code",
   "execution_count": 10,
   "metadata": {},
   "outputs": [
    {
     "name": "stdout",
     "output_type": "stream",
     "text": [
      "===>  EVAL Epoch 7\n",
      "Finished Epoch 7 || Run Time:    0.2 | Load Time:    0.1 || F1:  75.00 | Prec:  66.67 | Rec:  85.71 || Ex/s: 263.50\n",
      "\n"
     ]
    },
    {
     "data": {
      "text/plain": [
       "75.0"
      ]
     },
     "execution_count": 10,
     "metadata": {},
     "output_type": "execute_result"
    }
   ],
   "source": [
    "beer.run_eval(test)"
   ]
  },
  {
   "cell_type": "code",
   "execution_count": 11,
   "metadata": {},
   "outputs": [],
   "source": [
    "dblpacm = dm.MatchingModel(attr_summarizer='hybrid')\n",
    "dblpacm.load_state('../models/dblp_acm_hybrid.pth')"
   ]
  },
  {
   "cell_type": "code",
   "execution_count": 12,
   "metadata": {},
   "outputs": [
    {
     "name": "stderr",
     "output_type": "stream",
     "text": [
      "WARNING:deepmatcher.data.dataset:Rebuilding data cache because: ['One or more data files have been modified.', 'Data file list has changed.']\n"
     ]
    }
   ],
   "source": [
    "train,test = dm.data.process('../Structured/DBLP-ACM/',train='merged_train.csv',\n",
    "                       test='merged_test.csv',left_prefix='ltable_',\n",
    "                      right_prefix='rtable_')"
   ]
  },
  {
   "cell_type": "code",
   "execution_count": 13,
   "metadata": {},
   "outputs": [
    {
     "name": "stdout",
     "output_type": "stream",
     "text": [
      "===>  EVAL Epoch 7\n",
      "Finished Epoch 7 || Run Time:    3.9 | Load Time:    3.9 || F1:  97.24 | Prec:  95.44 | Rec:  99.10 || Ex/s: 317.42\n",
      "\n"
     ]
    },
    {
     "data": {
      "text/plain": [
       "97.23756906077348"
      ]
     },
     "execution_count": 13,
     "metadata": {},
     "output_type": "execute_result"
    }
   ],
   "source": [
    "dblpacm.run_eval(test)"
   ]
  },
  {
   "cell_type": "code",
   "execution_count": 19,
   "metadata": {},
   "outputs": [],
   "source": [
    "walmartamazon = dm.MatchingModel(attr_summarizer='hybrid')\n",
    "walmartamazon.load_state('../models/walmartamazon_hybrid.pth')"
   ]
  },
  {
   "cell_type": "code",
   "execution_count": 15,
   "metadata": {},
   "outputs": [
    {
     "name": "stderr",
     "output_type": "stream",
     "text": [
      "WARNING:deepmatcher.data.dataset:Rebuilding data cache because: ['One or more data files have been modified.', 'Data file list has changed.']\n"
     ]
    }
   ],
   "source": [
    "train,test = dm.data.process('../Structured/Walmart-Amazon/',train='merged_train.csv',\n",
    "                       test='merged_test.csv',left_prefix='ltable_',\n",
    "                      right_prefix='rtable_')"
   ]
  },
  {
   "cell_type": "code",
   "execution_count": 20,
   "metadata": {},
   "outputs": [
    {
     "name": "stdout",
     "output_type": "stream",
     "text": [
      "===>  EVAL Epoch 19\n",
      "Finished Epoch 19 || Run Time:    4.5 | Load Time:    2.5 || F1:  60.25 | Prec:  58.91 | Rec:  61.66 || Ex/s: 293.85\n",
      "\n"
     ]
    },
    {
     "data": {
      "text/plain": [
       "60.25316455696202"
      ]
     },
     "execution_count": 20,
     "metadata": {},
     "output_type": "execute_result"
    }
   ],
   "source": [
    "walmartamazon.run_eval(test)"
   ]
  },
  {
   "cell_type": "code",
   "execution_count": 21,
   "metadata": {},
   "outputs": [],
   "source": [
    "amazongoogle = dm.MatchingModel(attr_summarizer='hybrid')\n",
    "amazongoogle.load_state('../models/amazongoogle_hybrid.pth')"
   ]
  },
  {
   "cell_type": "code",
   "execution_count": 22,
   "metadata": {},
   "outputs": [
    {
     "name": "stderr",
     "output_type": "stream",
     "text": [
      "WARNING:deepmatcher.data.dataset:Rebuilding data cache because: ['One or more data files have been modified.', 'Data file list has changed.']\n"
     ]
    }
   ],
   "source": [
    "train,test = dm.data.process('../Structured/Amazon-Google/',train='merged_train.csv',\n",
    "                       test='merged_test.csv',left_prefix='ltable_',\n",
    "                      right_prefix='rtable_')"
   ]
  },
  {
   "cell_type": "code",
   "execution_count": 23,
   "metadata": {},
   "outputs": [
    {
     "name": "stdout",
     "output_type": "stream",
     "text": [
      "===>  EVAL Epoch 9\n",
      "Finished Epoch 9 || Run Time:    3.1 | Load Time:    1.8 || F1:  51.34 | Prec:  46.53 | Rec:  57.26 || Ex/s: 474.38\n",
      "\n"
     ]
    },
    {
     "data": {
      "text/plain": [
       "51.34099616858238"
      ]
     },
     "execution_count": 23,
     "metadata": {},
     "output_type": "execute_result"
    }
   ],
   "source": [
    "amazongoogle.run_eval(test)"
   ]
  },
  {
   "cell_type": "markdown",
   "metadata": {},
   "source": [
    "## Retrain models"
   ]
  },
  {
   "cell_type": "markdown",
   "metadata": {},
   "source": [
    "### iTunes-Amazon"
   ]
  },
  {
   "cell_type": "code",
   "execution_count": 15,
   "metadata": {},
   "outputs": [],
   "source": [
    "train_df = pd.read_csv('../Structured/itunes-amazon/merged_train.csv')\n",
    "attackDataset(train_df,['id','label'])\n",
    "train_df.to_csv('../Structured/itunes-amazon/attacked_train.csv',index=False)"
   ]
  },
  {
   "cell_type": "code",
   "execution_count": 21,
   "metadata": {},
   "outputs": [],
   "source": [
    "valid_df = pd.read_csv('../Structured/itunes-amazon/merged_valid.csv')\n",
    "attackDataset(valid_df,['id','label'])\n",
    "valid_df.to_csv('../Structured/itunes-amazon/attacked_valid.csv',index=False)"
   ]
  },
  {
   "cell_type": "code",
   "execution_count": 22,
   "metadata": {},
   "outputs": [
    {
     "name": "stderr",
     "output_type": "stream",
     "text": [
      "WARNING:deepmatcher.data.dataset:Rebuilding data cache because: ['Data file list has changed.', 'One or more data files have been modified.']\n"
     ]
    }
   ],
   "source": [
    "train,validation,test = dm.data.process('../Structured/itunes-amazon/',train='attacked_train.csv',\n",
    "                                       validation='attacked_valid.csv',test='attacked_test.csv',\n",
    "                                       left_prefix='ltable_',right_prefix='rtable_')"
   ]
  },
  {
   "cell_type": "code",
   "execution_count": 25,
   "metadata": {},
   "outputs": [
    {
     "name": "stdout",
     "output_type": "stream",
     "text": [
      "* Number of trainable parameters: 17757810\n",
      "===>  TRAIN Epoch 1\n",
      "Finished Epoch 1 || Run Time:    7.5 | Load Time:    1.3 || F1:  42.34 | Prec:  27.05 | Rec:  97.44 || Ex/s:  36.41\n",
      "\n",
      "===>  EVAL Epoch 1\n",
      "Finished Epoch 1 || Run Time:    0.9 | Load Time:    0.4 || F1:  60.76 | Prec:  46.15 | Rec:  88.89 || Ex/s:  87.08\n",
      "\n",
      "* Best F1: 60.75949367088607\n",
      "Saving best model...\n",
      "Done.\n",
      "---------------------\n",
      "\n",
      "===>  TRAIN Epoch 2\n",
      "Finished Epoch 2 || Run Time:    7.8 | Load Time:    1.4 || F1:  56.57 | Prec:  41.04 | Rec:  91.03 || Ex/s:  34.88\n",
      "\n",
      "===>  EVAL Epoch 2\n",
      "Finished Epoch 2 || Run Time:    0.8 | Load Time:    0.4 || F1:  65.38 | Prec:  68.00 | Rec:  62.96 || Ex/s:  86.43\n",
      "\n",
      "* Best F1: 65.38461538461539\n",
      "Saving best model...\n",
      "Done.\n",
      "---------------------\n",
      "\n",
      "===>  TRAIN Epoch 3\n",
      "Finished Epoch 3 || Run Time:    8.0 | Load Time:    1.4 || F1:  60.00 | Prec:  43.60 | Rec:  96.15 || Ex/s:  34.47\n",
      "\n",
      "===>  EVAL Epoch 3\n",
      "Finished Epoch 3 || Run Time:    0.8 | Load Time:    0.4 || F1:  65.62 | Prec:  56.76 | Rec:  77.78 || Ex/s:  88.05\n",
      "\n",
      "* Best F1: 65.62499999999999\n",
      "Saving best model...\n",
      "Done.\n",
      "---------------------\n",
      "\n",
      "===>  TRAIN Epoch 4\n",
      "Finished Epoch 4 || Run Time:    7.7 | Load Time:    1.3 || F1:  64.55 | Prec:  50.00 | Rec:  91.03 || Ex/s:  35.63\n",
      "\n",
      "===>  EVAL Epoch 4\n",
      "Finished Epoch 4 || Run Time:    0.8 | Load Time:    0.4 || F1:  60.24 | Prec:  44.64 | Rec:  92.59 || Ex/s:  88.06\n",
      "\n",
      "---------------------\n",
      "\n",
      "===>  TRAIN Epoch 5\n",
      "Finished Epoch 5 || Run Time:    7.7 | Load Time:    1.3 || F1:  75.26 | Prec:  62.93 | Rec:  93.59 || Ex/s:  35.38\n",
      "\n",
      "===>  EVAL Epoch 5\n",
      "Finished Epoch 5 || Run Time:    0.8 | Load Time:    0.4 || F1:  58.43 | Prec:  41.94 | Rec:  96.30 || Ex/s:  89.18\n",
      "\n",
      "---------------------\n",
      "\n",
      "===>  TRAIN Epoch 6\n",
      "Finished Epoch 6 || Run Time:    7.8 | Load Time:    1.3 || F1:  75.73 | Prec:  60.94 | Rec: 100.00 || Ex/s:  35.08\n",
      "\n",
      "===>  EVAL Epoch 6\n",
      "Finished Epoch 6 || Run Time:    0.8 | Load Time:    0.4 || F1:  68.57 | Prec:  55.81 | Rec:  88.89 || Ex/s:  89.34\n",
      "\n",
      "* Best F1: 68.57142857142857\n",
      "Saving best model...\n",
      "Done.\n",
      "---------------------\n",
      "\n",
      "===>  TRAIN Epoch 7\n",
      "Finished Epoch 7 || Run Time:    7.8 | Load Time:    1.4 || F1:  83.42 | Prec:  71.56 | Rec: 100.00 || Ex/s:  35.02\n",
      "\n",
      "===>  EVAL Epoch 7\n",
      "Finished Epoch 7 || Run Time:    0.9 | Load Time:    0.4 || F1:  66.67 | Prec:  56.41 | Rec:  81.48 || Ex/s:  85.47\n",
      "\n",
      "---------------------\n",
      "\n",
      "===>  TRAIN Epoch 8\n",
      "Finished Epoch 8 || Run Time:    7.8 | Load Time:    1.3 || F1:  90.17 | Prec:  82.11 | Rec: 100.00 || Ex/s:  35.11\n",
      "\n",
      "===>  EVAL Epoch 8\n",
      "Finished Epoch 8 || Run Time:    0.9 | Load Time:    0.4 || F1:  70.77 | Prec:  60.53 | Rec:  85.19 || Ex/s:  87.07\n",
      "\n",
      "* Best F1: 70.76923076923079\n",
      "Saving best model...\n",
      "Done.\n",
      "---------------------\n",
      "\n",
      "===>  TRAIN Epoch 9\n",
      "Finished Epoch 9 || Run Time:    7.8 | Load Time:    1.3 || F1:  91.76 | Prec:  84.78 | Rec: 100.00 || Ex/s:  35.07\n",
      "\n",
      "===>  EVAL Epoch 9\n",
      "Finished Epoch 9 || Run Time:    0.9 | Load Time:    0.4 || F1:  68.85 | Prec:  61.76 | Rec:  77.78 || Ex/s:  86.87\n",
      "\n",
      "---------------------\n",
      "\n",
      "===>  TRAIN Epoch 10\n",
      "Finished Epoch 10 || Run Time:    7.8 | Load Time:    1.3 || F1:  96.89 | Prec:  93.98 | Rec: 100.00 || Ex/s:  35.08\n",
      "\n",
      "===>  EVAL Epoch 10\n",
      "Finished Epoch 10 || Run Time:    0.9 | Load Time:    0.4 || F1:  68.85 | Prec:  61.76 | Rec:  77.78 || Ex/s:  86.59\n",
      "\n",
      "---------------------\n",
      "\n",
      "===>  TRAIN Epoch 11\n",
      "Finished Epoch 11 || Run Time:    7.9 | Load Time:    1.3 || F1:  99.36 | Prec:  98.73 | Rec: 100.00 || Ex/s:  34.78\n",
      "\n",
      "===>  EVAL Epoch 11\n",
      "Finished Epoch 11 || Run Time:    0.8 | Load Time:    0.4 || F1:  70.00 | Prec:  63.64 | Rec:  77.78 || Ex/s:  87.36\n",
      "\n",
      "---------------------\n",
      "\n",
      "===>  TRAIN Epoch 12\n",
      "Finished Epoch 12 || Run Time:    7.7 | Load Time:    1.3 || F1:  99.36 | Prec:  98.73 | Rec: 100.00 || Ex/s:  35.45\n",
      "\n",
      "===>  EVAL Epoch 12\n",
      "Finished Epoch 12 || Run Time:    0.8 | Load Time:    0.4 || F1:  70.00 | Prec:  63.64 | Rec:  77.78 || Ex/s:  87.98\n",
      "\n",
      "---------------------\n",
      "\n",
      "===>  TRAIN Epoch 13\n",
      "Finished Epoch 13 || Run Time:    7.8 | Load Time:    1.3 || F1:  99.36 | Prec:  98.73 | Rec: 100.00 || Ex/s:  35.27\n",
      "\n",
      "===>  EVAL Epoch 13\n",
      "Finished Epoch 13 || Run Time:    0.8 | Load Time:    0.4 || F1:  71.19 | Prec:  65.62 | Rec:  77.78 || Ex/s:  86.75\n",
      "\n",
      "* Best F1: 71.18644067796609\n",
      "Saving best model...\n",
      "Done.\n",
      "---------------------\n",
      "\n",
      "===>  TRAIN Epoch 14\n",
      "Finished Epoch 14 || Run Time:    7.8 | Load Time:    1.3 || F1: 100.00 | Prec: 100.00 | Rec: 100.00 || Ex/s:  35.06\n",
      "\n",
      "===>  EVAL Epoch 14\n",
      "Finished Epoch 14 || Run Time:    0.8 | Load Time:    0.4 || F1:  68.97 | Prec:  64.52 | Rec:  74.07 || Ex/s:  88.00\n",
      "\n",
      "---------------------\n",
      "\n",
      "===>  TRAIN Epoch 15\n",
      "Finished Epoch 15 || Run Time:    7.7 | Load Time:    1.3 || F1: 100.00 | Prec: 100.00 | Rec: 100.00 || Ex/s:  35.39\n",
      "\n",
      "===>  EVAL Epoch 15\n",
      "Finished Epoch 15 || Run Time:    0.8 | Load Time:    0.4 || F1:  68.97 | Prec:  64.52 | Rec:  74.07 || Ex/s:  87.87\n",
      "\n",
      "---------------------\n",
      "\n",
      "===>  TRAIN Epoch 16\n",
      "Finished Epoch 16 || Run Time:    8.0 | Load Time:    1.3 || F1: 100.00 | Prec: 100.00 | Rec: 100.00 || Ex/s:  34.54\n",
      "\n",
      "===>  EVAL Epoch 16\n",
      "Finished Epoch 16 || Run Time:    0.9 | Load Time:    0.4 || F1:  68.97 | Prec:  64.52 | Rec:  74.07 || Ex/s:  86.95\n",
      "\n",
      "---------------------\n",
      "\n",
      "===>  TRAIN Epoch 17\n",
      "Finished Epoch 17 || Run Time:    7.8 | Load Time:    1.3 || F1: 100.00 | Prec: 100.00 | Rec: 100.00 || Ex/s:  35.03\n",
      "\n",
      "===>  EVAL Epoch 17\n",
      "Finished Epoch 17 || Run Time:    0.8 | Load Time:    0.4 || F1:  68.97 | Prec:  64.52 | Rec:  74.07 || Ex/s:  87.90\n",
      "\n",
      "---------------------\n",
      "\n",
      "===>  TRAIN Epoch 18\n",
      "Finished Epoch 18 || Run Time:    7.7 | Load Time:    1.3 || F1: 100.00 | Prec: 100.00 | Rec: 100.00 || Ex/s:  35.50\n",
      "\n",
      "===>  EVAL Epoch 18\n",
      "Finished Epoch 18 || Run Time:    0.9 | Load Time:    0.4 || F1:  68.97 | Prec:  64.52 | Rec:  74.07 || Ex/s:  86.94\n",
      "\n",
      "---------------------\n",
      "\n",
      "===>  TRAIN Epoch 19\n",
      "Finished Epoch 19 || Run Time:    7.8 | Load Time:    1.3 || F1: 100.00 | Prec: 100.00 | Rec: 100.00 || Ex/s:  35.08\n",
      "\n",
      "===>  EVAL Epoch 19\n",
      "Finished Epoch 19 || Run Time:    0.8 | Load Time:    0.4 || F1:  68.97 | Prec:  64.52 | Rec:  74.07 || Ex/s:  87.54\n",
      "\n",
      "---------------------\n",
      "\n",
      "===>  TRAIN Epoch 20\n",
      "Finished Epoch 20 || Run Time:    7.7 | Load Time:    1.3 || F1: 100.00 | Prec: 100.00 | Rec: 100.00 || Ex/s:  35.53\n",
      "\n",
      "===>  EVAL Epoch 20\n",
      "Finished Epoch 20 || Run Time:    0.9 | Load Time:    0.4 || F1:  68.97 | Prec:  64.52 | Rec:  74.07 || Ex/s:  87.04\n",
      "\n",
      "---------------------\n",
      "\n",
      "Loading best model...\n",
      "Training done.\n"
     ]
    },
    {
     "data": {
      "text/plain": [
       "71.18644067796609"
      ]
     },
     "execution_count": 25,
     "metadata": {},
     "output_type": "execute_result"
    }
   ],
   "source": [
    "model = dm.MatchingModel(attr_summarizer='hybrid')\n",
    "model.run_train(train,validation,pos_neg_ratio=5,batch_size=16,epochs=20,\n",
    "                best_save_path='../models/itunesamazon_hybrid_attacked.pth')"
   ]
  },
  {
   "cell_type": "code",
   "execution_count": 26,
   "metadata": {},
   "outputs": [
    {
     "name": "stdout",
     "output_type": "stream",
     "text": [
      "===>  EVAL Epoch 13\n",
      "Finished Epoch 13 || Run Time:    0.6 | Load Time:    0.5 || F1:  69.70 | Prec:  58.97 | Rec:  85.19 || Ex/s:  97.59\n",
      "\n"
     ]
    },
    {
     "data": {
      "text/plain": [
       "69.6969696969697"
      ]
     },
     "execution_count": 26,
     "metadata": {},
     "output_type": "execute_result"
    }
   ],
   "source": [
    "model.run_eval(test)"
   ]
  },
  {
   "cell_type": "markdown",
   "metadata": {},
   "source": [
    "### Beer"
   ]
  },
  {
   "cell_type": "code",
   "execution_count": 27,
   "metadata": {},
   "outputs": [],
   "source": [
    "train_df = pd.read_csv('../Structured/Beer/merged_train.csv')\n",
    "attackDataset(train_df,['id','label'])\n",
    "train_df.to_csv('../Structured/Beer/attacked_train.csv',index=False)\n",
    "valid_df = pd.read_csv('../Structured/Beer/merged_valid.csv')\n",
    "attackDataset(valid_df,['id','label'])\n",
    "valid_df.to_csv('../Structured/Beer/attacked_valid.csv',index=False)"
   ]
  },
  {
   "cell_type": "code",
   "execution_count": 28,
   "metadata": {},
   "outputs": [
    {
     "name": "stderr",
     "output_type": "stream",
     "text": [
      "WARNING:deepmatcher.data.dataset:Rebuilding data cache because: ['Data file list has changed.', 'One or more data files have been modified.']\n"
     ]
    }
   ],
   "source": [
    "train,validation,test = dm.data.process('../Structured/Beer/',train='attacked_train.csv',\n",
    "                                       validation='attacked_valid.csv',test='attacked_test.csv',\n",
    "                                       left_prefix='ltable_',right_prefix='rtable_')"
   ]
  },
  {
   "cell_type": "code",
   "execution_count": 29,
   "metadata": {},
   "outputs": [
    {
     "name": "stdout",
     "output_type": "stream",
     "text": [
      "* Number of trainable parameters: 9210006\n",
      "===>  TRAIN Epoch 1\n",
      "Finished Epoch 1 || Run Time:    2.1 | Load Time:    0.3 || F1:  34.62 | Prec:  28.12 | Rec:  45.00 || Ex/s: 108.28\n",
      "\n",
      "===>  EVAL Epoch 1\n",
      "Finished Epoch 1 || Run Time:    0.3 | Load Time:    0.1 || F1:  75.00 | Prec:  90.00 | Rec:  64.29 || Ex/s: 215.80\n",
      "\n",
      "* Best F1: 75.00000000000001\n",
      "Saving best model...\n",
      "Done.\n",
      "---------------------\n",
      "\n",
      "===>  TRAIN Epoch 2\n",
      "Finished Epoch 2 || Run Time:    2.2 | Load Time:    0.3 || F1:  67.29 | Prec:  53.73 | Rec:  90.00 || Ex/s: 104.93\n",
      "\n",
      "===>  EVAL Epoch 2\n",
      "Finished Epoch 2 || Run Time:    0.3 | Load Time:    0.1 || F1:  74.07 | Prec:  76.92 | Rec:  71.43 || Ex/s: 211.91\n",
      "\n",
      "---------------------\n",
      "\n",
      "===>  TRAIN Epoch 3\n",
      "Finished Epoch 3 || Run Time:    2.2 | Load Time:    0.4 || F1:  80.00 | Prec:  69.09 | Rec:  95.00 || Ex/s: 103.07\n",
      "\n",
      "===>  EVAL Epoch 3\n",
      "Finished Epoch 3 || Run Time:    0.3 | Load Time:    0.1 || F1:  75.86 | Prec:  73.33 | Rec:  78.57 || Ex/s: 206.41\n",
      "\n",
      "* Best F1: 75.86206896551724\n",
      "Saving best model...\n",
      "Done.\n",
      "---------------------\n",
      "\n",
      "===>  TRAIN Epoch 4\n",
      "Finished Epoch 4 || Run Time:    2.3 | Load Time:    0.4 || F1:  86.02 | Prec:  75.47 | Rec: 100.00 || Ex/s: 100.42\n",
      "\n",
      "===>  EVAL Epoch 4\n",
      "Finished Epoch 4 || Run Time:    0.3 | Load Time:    0.1 || F1:  66.67 | Prec:  57.89 | Rec:  78.57 || Ex/s: 200.43\n",
      "\n",
      "---------------------\n",
      "\n",
      "===>  TRAIN Epoch 5\n",
      "Finished Epoch 5 || Run Time:    2.2 | Load Time:    0.3 || F1:  94.12 | Prec:  88.89 | Rec: 100.00 || Ex/s: 104.01\n",
      "\n",
      "===>  EVAL Epoch 5\n",
      "Finished Epoch 5 || Run Time:    0.3 | Load Time:    0.1 || F1:  75.86 | Prec:  73.33 | Rec:  78.57 || Ex/s: 207.09\n",
      "\n",
      "---------------------\n",
      "\n",
      "===>  TRAIN Epoch 6\n",
      "Finished Epoch 6 || Run Time:    2.3 | Load Time:    0.4 || F1: 100.00 | Prec: 100.00 | Rec: 100.00 || Ex/s: 102.53\n",
      "\n",
      "===>  EVAL Epoch 6\n",
      "Finished Epoch 6 || Run Time:    0.3 | Load Time:    0.1 || F1:  70.97 | Prec:  64.71 | Rec:  78.57 || Ex/s: 213.86\n",
      "\n",
      "---------------------\n",
      "\n",
      "===>  TRAIN Epoch 7\n",
      "Finished Epoch 7 || Run Time:    2.2 | Load Time:    0.3 || F1:  98.77 | Prec:  97.56 | Rec: 100.00 || Ex/s: 105.69\n",
      "\n",
      "===>  EVAL Epoch 7\n",
      "Finished Epoch 7 || Run Time:    0.3 | Load Time:    0.1 || F1:  55.81 | Prec:  41.38 | Rec:  85.71 || Ex/s: 212.27\n",
      "\n",
      "---------------------\n",
      "\n",
      "===>  TRAIN Epoch 8\n",
      "Finished Epoch 8 || Run Time:    2.2 | Load Time:    0.3 || F1:  98.77 | Prec:  97.56 | Rec: 100.00 || Ex/s: 106.27\n",
      "\n",
      "===>  EVAL Epoch 8\n",
      "Finished Epoch 8 || Run Time:    0.3 | Load Time:    0.1 || F1:  68.75 | Prec:  61.11 | Rec:  78.57 || Ex/s: 211.44\n",
      "\n",
      "---------------------\n",
      "\n",
      "===>  TRAIN Epoch 9\n",
      "Finished Epoch 9 || Run Time:    2.2 | Load Time:    0.3 || F1:  98.77 | Prec:  97.56 | Rec: 100.00 || Ex/s: 107.47\n",
      "\n",
      "===>  EVAL Epoch 9\n",
      "Finished Epoch 9 || Run Time:    0.3 | Load Time:    0.1 || F1:  78.57 | Prec:  78.57 | Rec:  78.57 || Ex/s: 215.30\n",
      "\n",
      "* Best F1: 78.57142857142857\n",
      "Saving best model...\n",
      "Done.\n",
      "---------------------\n",
      "\n",
      "===>  TRAIN Epoch 10\n",
      "Finished Epoch 10 || Run Time:    2.2 | Load Time:    0.3 || F1: 100.00 | Prec: 100.00 | Rec: 100.00 || Ex/s: 106.44\n",
      "\n",
      "===>  EVAL Epoch 10\n",
      "Finished Epoch 10 || Run Time:    0.3 | Load Time:    0.1 || F1:  78.57 | Prec:  78.57 | Rec:  78.57 || Ex/s: 215.10\n",
      "\n",
      "---------------------\n",
      "\n",
      "===>  TRAIN Epoch 11\n",
      "Finished Epoch 11 || Run Time:    2.2 | Load Time:    0.3 || F1: 100.00 | Prec: 100.00 | Rec: 100.00 || Ex/s: 107.40\n",
      "\n",
      "===>  EVAL Epoch 11\n",
      "Finished Epoch 11 || Run Time:    0.3 | Load Time:    0.1 || F1:  73.33 | Prec:  68.75 | Rec:  78.57 || Ex/s: 215.36\n",
      "\n",
      "---------------------\n",
      "\n",
      "===>  TRAIN Epoch 12\n",
      "Finished Epoch 12 || Run Time:    2.2 | Load Time:    0.3 || F1: 100.00 | Prec: 100.00 | Rec: 100.00 || Ex/s: 107.19\n",
      "\n",
      "===>  EVAL Epoch 12\n",
      "Finished Epoch 12 || Run Time:    0.3 | Load Time:    0.1 || F1:  75.86 | Prec:  73.33 | Rec:  78.57 || Ex/s: 210.09\n",
      "\n",
      "---------------------\n",
      "\n",
      "===>  TRAIN Epoch 13\n",
      "Finished Epoch 13 || Run Time:    2.3 | Load Time:    0.3 || F1: 100.00 | Prec: 100.00 | Rec: 100.00 || Ex/s: 101.23\n",
      "\n",
      "===>  EVAL Epoch 13\n",
      "Finished Epoch 13 || Run Time:    0.3 | Load Time:    0.1 || F1:  75.86 | Prec:  73.33 | Rec:  78.57 || Ex/s: 214.56\n",
      "\n",
      "---------------------\n",
      "\n",
      "===>  TRAIN Epoch 14\n",
      "Finished Epoch 14 || Run Time:    2.2 | Load Time:    0.3 || F1: 100.00 | Prec: 100.00 | Rec: 100.00 || Ex/s: 105.90\n",
      "\n",
      "===>  EVAL Epoch 14\n",
      "Finished Epoch 14 || Run Time:    0.3 | Load Time:    0.1 || F1:  75.86 | Prec:  73.33 | Rec:  78.57 || Ex/s: 210.35\n",
      "\n",
      "---------------------\n",
      "\n",
      "===>  TRAIN Epoch 15\n",
      "Finished Epoch 15 || Run Time:    2.3 | Load Time:    0.3 || F1: 100.00 | Prec: 100.00 | Rec: 100.00 || Ex/s: 102.44\n",
      "\n",
      "===>  EVAL Epoch 15\n",
      "Finished Epoch 15 || Run Time:    0.3 | Load Time:    0.1 || F1:  73.33 | Prec:  68.75 | Rec:  78.57 || Ex/s: 212.57\n",
      "\n",
      "---------------------\n",
      "\n",
      "===>  TRAIN Epoch 16\n",
      "Finished Epoch 16 || Run Time:    2.2 | Load Time:    0.3 || F1: 100.00 | Prec: 100.00 | Rec: 100.00 || Ex/s: 107.89\n",
      "\n",
      "===>  EVAL Epoch 16\n",
      "Finished Epoch 16 || Run Time:    0.3 | Load Time:    0.1 || F1:  73.33 | Prec:  68.75 | Rec:  78.57 || Ex/s: 215.94\n",
      "\n",
      "---------------------\n",
      "\n",
      "===>  TRAIN Epoch 17\n",
      "Finished Epoch 17 || Run Time:    2.1 | Load Time:    0.3 || F1: 100.00 | Prec: 100.00 | Rec: 100.00 || Ex/s: 107.98\n",
      "\n",
      "===>  EVAL Epoch 17\n",
      "Finished Epoch 17 || Run Time:    0.3 | Load Time:    0.1 || F1:  73.33 | Prec:  68.75 | Rec:  78.57 || Ex/s: 216.64\n",
      "\n",
      "---------------------\n",
      "\n",
      "===>  TRAIN Epoch 18\n",
      "Finished Epoch 18 || Run Time:    2.2 | Load Time:    0.3 || F1: 100.00 | Prec: 100.00 | Rec: 100.00 || Ex/s: 107.82\n",
      "\n",
      "===>  EVAL Epoch 18\n",
      "Finished Epoch 18 || Run Time:    0.3 | Load Time:    0.1 || F1:  73.33 | Prec:  68.75 | Rec:  78.57 || Ex/s: 216.97\n",
      "\n",
      "---------------------\n",
      "\n",
      "===>  TRAIN Epoch 19\n",
      "Finished Epoch 19 || Run Time:    2.2 | Load Time:    0.3 || F1: 100.00 | Prec: 100.00 | Rec: 100.00 || Ex/s: 107.62\n",
      "\n",
      "===>  EVAL Epoch 19\n",
      "Finished Epoch 19 || Run Time:    0.3 | Load Time:    0.1 || F1:  73.33 | Prec:  68.75 | Rec:  78.57 || Ex/s: 215.37\n",
      "\n",
      "---------------------\n",
      "\n",
      "===>  TRAIN Epoch 20\n",
      "Finished Epoch 20 || Run Time:    2.2 | Load Time:    0.3 || F1: 100.00 | Prec: 100.00 | Rec: 100.00 || Ex/s: 106.96\n",
      "\n",
      "===>  EVAL Epoch 20\n",
      "Finished Epoch 20 || Run Time:    0.3 | Load Time:    0.1 || F1:  73.33 | Prec:  68.75 | Rec:  78.57 || Ex/s: 216.13\n",
      "\n",
      "---------------------\n",
      "\n",
      "Loading best model...\n",
      "Training done.\n"
     ]
    },
    {
     "data": {
      "text/plain": [
       "78.57142857142857"
      ]
     },
     "execution_count": 29,
     "metadata": {},
     "output_type": "execute_result"
    }
   ],
   "source": [
    "model = dm.MatchingModel(attr_summarizer='hybrid')\n",
    "model.run_train(train,validation,pos_neg_ratio=4,batch_size=16,epochs=20,\n",
    "                best_save_path='../models/beer_hybrid_attacked.pth')"
   ]
  },
  {
   "cell_type": "code",
   "execution_count": 30,
   "metadata": {},
   "outputs": [
    {
     "name": "stdout",
     "output_type": "stream",
     "text": [
      "===>  EVAL Epoch 9\n",
      "Finished Epoch 9 || Run Time:    0.2 | Load Time:    0.1 || F1:  66.67 | Prec:  62.50 | Rec:  71.43 || Ex/s: 250.31\n",
      "\n"
     ]
    },
    {
     "data": {
      "text/plain": [
       "66.66666666666667"
      ]
     },
     "execution_count": 30,
     "metadata": {},
     "output_type": "execute_result"
    }
   ],
   "source": [
    "model.run_eval(test)"
   ]
  },
  {
   "cell_type": "markdown",
   "metadata": {},
   "source": [
    "### Amazon-Google"
   ]
  },
  {
   "cell_type": "code",
   "execution_count": 31,
   "metadata": {},
   "outputs": [],
   "source": [
    "train_df = pd.read_csv('../Structured/Amazon-Google/merged_train.csv')\n",
    "attackDataset(train_df,['id','label'])\n",
    "train_df.to_csv('../Structured/Amazon-Google/attacked_train.csv',index=False)\n",
    "valid_df = pd.read_csv('../Structured/Amazon-Google/merged_valid.csv')\n",
    "attackDataset(valid_df,['id','label'])\n",
    "valid_df.to_csv('../Structured/Amazon-Google/attacked_valid.csv',index=False)"
   ]
  },
  {
   "cell_type": "code",
   "execution_count": 34,
   "metadata": {},
   "outputs": [
    {
     "name": "stderr",
     "output_type": "stream",
     "text": [
      "WARNING:deepmatcher.data.dataset:Rebuilding data cache because: ['Data file list has changed.', 'One or more data files have been modified.']\n"
     ]
    }
   ],
   "source": [
    "train,validation,test = dm.data.process('../Structured/Amazon-Google/',train='attacked_train.csv',\n",
    "                                       validation='attacked_valid.csv',test='attacked_test.csv',\n",
    "                                       left_prefix='ltable_',right_prefix='rtable_')"
   ]
  },
  {
   "cell_type": "code",
   "execution_count": 35,
   "metadata": {},
   "outputs": [
    {
     "name": "stdout",
     "output_type": "stream",
     "text": [
      "* Number of trainable parameters: 7133105\n",
      "===>  TRAIN Epoch 1\n",
      "Finished Epoch 1 || Run Time:   34.6 | Load Time:    8.9 || F1:  21.23 | Prec:  11.97 | Rec:  93.71 || Ex/s: 158.00\n",
      "\n",
      "===>  EVAL Epoch 1\n",
      "Finished Epoch 1 || Run Time:    3.1 | Load Time:    2.1 || F1:  22.98 | Prec:  13.10 | Rec:  93.59 || Ex/s: 446.84\n",
      "\n",
      "* Best F1: 22.980062959076598\n",
      "Saving best model...\n",
      "Done.\n",
      "---------------------\n",
      "\n",
      "===>  TRAIN Epoch 2\n",
      "Finished Epoch 2 || Run Time:   35.6 | Load Time:    9.0 || F1:  29.34 | Prec:  17.46 | Rec:  91.85 || Ex/s: 154.17\n",
      "\n",
      "===>  EVAL Epoch 2\n",
      "Finished Epoch 2 || Run Time:    3.1 | Load Time:    2.1 || F1:  25.24 | Prec:  14.56 | Rec:  94.87 || Ex/s: 439.01\n",
      "\n",
      "* Best F1: 25.241614553723704\n",
      "Saving best model...\n",
      "Done.\n",
      "---------------------\n",
      "\n",
      "===>  TRAIN Epoch 3\n",
      "Finished Epoch 3 || Run Time:   35.3 | Load Time:    9.0 || F1:  39.62 | Prec:  25.01 | Rec:  95.28 || Ex/s: 155.25\n",
      "\n",
      "===>  EVAL Epoch 3\n",
      "Finished Epoch 3 || Run Time:    3.1 | Load Time:    2.1 || F1:  34.76 | Prec:  22.08 | Rec:  81.62 || Ex/s: 448.80\n",
      "\n",
      "* Best F1: 34.75887170154686\n",
      "Saving best model...\n",
      "Done.\n",
      "---------------------\n",
      "\n",
      "===>  TRAIN Epoch 4\n",
      "Finished Epoch 4 || Run Time:   35.3 | Load Time:    9.0 || F1:  56.65 | Prec:  39.81 | Rec:  98.14 || Ex/s: 155.18\n",
      "\n",
      "===>  EVAL Epoch 4\n",
      "Finished Epoch 4 || Run Time:    3.0 | Load Time:    2.0 || F1:  41.96 | Prec:  32.70 | Rec:  58.55 || Ex/s: 455.99\n",
      "\n",
      "* Best F1: 41.96018376722817\n",
      "Saving best model...\n",
      "Done.\n",
      "---------------------\n",
      "\n",
      "===>  TRAIN Epoch 5\n",
      "Finished Epoch 5 || Run Time:   35.2 | Load Time:    8.9 || F1:  73.49 | Prec:  58.59 | Rec:  98.57 || Ex/s: 155.55\n",
      "\n",
      "===>  EVAL Epoch 5\n",
      "Finished Epoch 5 || Run Time:    3.0 | Load Time:    2.1 || F1:  40.07 | Prec:  33.62 | Rec:  49.57 || Ex/s: 450.41\n",
      "\n",
      "---------------------\n",
      "\n",
      "===>  TRAIN Epoch 6\n",
      "Finished Epoch 6 || Run Time:   34.9 | Load Time:    9.0 || F1:  82.84 | Prec:  70.99 | Rec:  99.43 || Ex/s: 156.75\n",
      "\n",
      "===>  EVAL Epoch 6\n",
      "Finished Epoch 6 || Run Time:    3.0 | Load Time:    2.0 || F1:  40.89 | Prec:  32.65 | Rec:  54.70 || Ex/s: 458.76\n",
      "\n",
      "---------------------\n",
      "\n",
      "===>  TRAIN Epoch 7\n",
      "Finished Epoch 7 || Run Time:   35.0 | Load Time:    9.0 || F1:  89.26 | Prec:  80.69 | Rec:  99.86 || Ex/s: 156.54\n",
      "\n",
      "===>  EVAL Epoch 7\n",
      "Finished Epoch 7 || Run Time:    3.0 | Load Time:    2.0 || F1:  39.34 | Prec:  30.32 | Rec:  55.98 || Ex/s: 458.93\n",
      "\n",
      "---------------------\n",
      "\n",
      "===>  TRAIN Epoch 8\n",
      "Finished Epoch 8 || Run Time:   35.0 | Load Time:    8.9 || F1:  95.36 | Prec:  91.24 | Rec:  99.86 || Ex/s: 156.54\n",
      "\n",
      "===>  EVAL Epoch 8\n",
      "Finished Epoch 8 || Run Time:    3.0 | Load Time:    2.1 || F1:  43.31 | Prec:  36.83 | Rec:  52.56 || Ex/s: 447.87\n",
      "\n",
      "* Best F1: 43.30985915492957\n",
      "Saving best model...\n",
      "Done.\n",
      "---------------------\n",
      "\n",
      "===>  TRAIN Epoch 9\n",
      "Finished Epoch 9 || Run Time:   35.2 | Load Time:    9.0 || F1:  97.49 | Prec:  95.10 | Rec: 100.00 || Ex/s: 155.63\n",
      "\n",
      "===>  EVAL Epoch 9\n",
      "Finished Epoch 9 || Run Time:    3.1 | Load Time:    2.1 || F1:  40.17 | Prec:  40.17 | Rec:  40.17 || Ex/s: 444.39\n",
      "\n",
      "---------------------\n",
      "\n",
      "===>  TRAIN Epoch 10\n",
      "Finished Epoch 10 || Run Time:   35.0 | Load Time:    8.9 || F1:  98.80 | Prec:  97.63 | Rec: 100.00 || Ex/s: 156.64\n",
      "\n",
      "===>  EVAL Epoch 10\n",
      "Finished Epoch 10 || Run Time:    3.0 | Load Time:    2.1 || F1:  39.91 | Prec:  42.51 | Rec:  37.61 || Ex/s: 456.36\n",
      "\n",
      "---------------------\n",
      "\n",
      "===>  TRAIN Epoch 11\n",
      "Finished Epoch 11 || Run Time:   34.7 | Load Time:    8.9 || F1:  99.71 | Prec:  99.43 | Rec: 100.00 || Ex/s: 157.73\n",
      "\n",
      "===>  EVAL Epoch 11\n",
      "Finished Epoch 11 || Run Time:    2.9 | Load Time:    2.0 || F1:  39.91 | Prec:  41.47 | Rec:  38.46 || Ex/s: 461.87\n",
      "\n",
      "---------------------\n",
      "\n",
      "===>  TRAIN Epoch 12\n",
      "Finished Epoch 12 || Run Time:   35.2 | Load Time:    8.9 || F1: 100.00 | Prec: 100.00 | Rec: 100.00 || Ex/s: 155.83\n",
      "\n",
      "===>  EVAL Epoch 12\n",
      "Finished Epoch 12 || Run Time:    2.9 | Load Time:    2.0 || F1:  39.57 | Prec:  39.83 | Rec:  39.32 || Ex/s: 461.98\n",
      "\n",
      "---------------------\n",
      "\n",
      "===>  TRAIN Epoch 13\n",
      "Finished Epoch 13 || Run Time:   34.9 | Load Time:    9.0 || F1: 100.00 | Prec: 100.00 | Rec: 100.00 || Ex/s: 156.73\n",
      "\n",
      "===>  EVAL Epoch 13\n",
      "Finished Epoch 13 || Run Time:    3.0 | Load Time:    2.1 || F1:  40.34 | Prec:  40.08 | Rec:  40.60 || Ex/s: 448.33\n",
      "\n",
      "---------------------\n",
      "\n",
      "===>  TRAIN Epoch 14\n",
      "Finished Epoch 14 || Run Time:   31.1 | Load Time:    8.9 || F1: 100.00 | Prec: 100.00 | Rec: 100.00 || Ex/s: 171.59\n",
      "\n",
      "===>  EVAL Epoch 14\n",
      "Finished Epoch 14 || Run Time:    3.0 | Load Time:    2.0 || F1:  40.00 | Prec:  39.42 | Rec:  40.60 || Ex/s: 462.49\n",
      "\n",
      "---------------------\n",
      "\n",
      "===>  TRAIN Epoch 15\n",
      "Finished Epoch 15 || Run Time:   28.4 | Load Time:    8.9 || F1: 100.00 | Prec: 100.00 | Rec: 100.00 || Ex/s: 184.48\n",
      "\n",
      "===>  EVAL Epoch 15\n",
      "Finished Epoch 15 || Run Time:    3.0 | Load Time:    2.0 || F1:  40.50 | Prec:  39.59 | Rec:  41.45 || Ex/s: 455.24\n",
      "\n",
      "---------------------\n",
      "\n",
      "===>  TRAIN Epoch 16\n",
      "Finished Epoch 16 || Run Time:   28.8 | Load Time:    8.9 || F1: 100.00 | Prec: 100.00 | Rec: 100.00 || Ex/s: 182.31\n",
      "\n",
      "===>  EVAL Epoch 16\n",
      "Finished Epoch 16 || Run Time:    3.0 | Load Time:    2.0 || F1:  40.42 | Prec:  39.43 | Rec:  41.45 || Ex/s: 454.60\n",
      "\n",
      "---------------------\n",
      "\n",
      "===>  TRAIN Epoch 17\n",
      "Finished Epoch 17 || Run Time:   32.2 | Load Time:    9.0 || F1: 100.00 | Prec: 100.00 | Rec: 100.00 || Ex/s: 166.81\n",
      "\n",
      "===>  EVAL Epoch 17\n",
      "Finished Epoch 17 || Run Time:    3.0 | Load Time:    2.0 || F1:  40.33 | Prec:  39.27 | Rec:  41.45 || Ex/s: 455.98\n",
      "\n",
      "---------------------\n",
      "\n",
      "===>  TRAIN Epoch 18\n",
      "Finished Epoch 18 || Run Time:   35.3 | Load Time:    9.0 || F1: 100.00 | Prec: 100.00 | Rec: 100.00 || Ex/s: 155.14\n",
      "\n",
      "===>  EVAL Epoch 18\n",
      "Finished Epoch 18 || Run Time:    3.0 | Load Time:    2.0 || F1:  40.41 | Prec:  39.04 | Rec:  41.88 || Ex/s: 456.99\n",
      "\n",
      "---------------------\n",
      "\n",
      "===>  TRAIN Epoch 19\n",
      "Finished Epoch 19 || Run Time:   35.6 | Load Time:    9.0 || F1: 100.00 | Prec: 100.00 | Rec: 100.00 || Ex/s: 154.15\n",
      "\n",
      "===>  EVAL Epoch 19\n",
      "Finished Epoch 19 || Run Time:    3.0 | Load Time:    2.0 || F1:  40.66 | Prec:  39.13 | Rec:  42.31 || Ex/s: 455.06\n",
      "\n",
      "---------------------\n",
      "\n",
      "===>  TRAIN Epoch 20\n",
      "Finished Epoch 20 || Run Time:   34.7 | Load Time:    8.9 || F1: 100.00 | Prec: 100.00 | Rec: 100.00 || Ex/s: 157.65\n",
      "\n",
      "===>  EVAL Epoch 20\n",
      "Finished Epoch 20 || Run Time:    3.0 | Load Time:    2.0 || F1:  40.57 | Prec:  38.98 | Rec:  42.31 || Ex/s: 454.89\n",
      "\n",
      "---------------------\n",
      "\n",
      "Loading best model...\n",
      "Training done.\n"
     ]
    },
    {
     "data": {
      "text/plain": [
       "43.30985915492957"
      ]
     },
     "execution_count": 35,
     "metadata": {},
     "output_type": "execute_result"
    }
   ],
   "source": [
    "model = dm.MatchingModel(attr_summarizer='hybrid')\n",
    "model.run_train(train,validation,pos_neg_ratio=10,epochs=20,\n",
    "                best_save_path='../models/amazongoogle_hybrid_attacked.pth')"
   ]
  },
  {
   "cell_type": "code",
   "execution_count": 36,
   "metadata": {},
   "outputs": [
    {
     "name": "stdout",
     "output_type": "stream",
     "text": [
      "===>  EVAL Epoch 8\n",
      "Finished Epoch 8 || Run Time:    3.0 | Load Time:    2.1 || F1:  41.92 | Prec:  35.87 | Rec:  50.43 || Ex/s: 452.30\n",
      "\n"
     ]
    },
    {
     "data": {
      "text/plain": [
       "41.91829484902309"
      ]
     },
     "execution_count": 36,
     "metadata": {},
     "output_type": "execute_result"
    }
   ],
   "source": [
    "model.run_eval(test)"
   ]
  },
  {
   "cell_type": "markdown",
   "metadata": {},
   "source": [
    "### DBLP-ACM"
   ]
  },
  {
   "cell_type": "code",
   "execution_count": 38,
   "metadata": {},
   "outputs": [],
   "source": [
    "train_df = pd.read_csv('../Structured/DBLP-ACM/merged_train.csv')\n",
    "attackDataset(train_df,['id','label'])\n",
    "train_df.to_csv('../Structured/DBLP-ACM/attacked_train.csv',index=False)\n",
    "valid_df = pd.read_csv('../Structured/DBLP-ACM/merged_validation.csv')\n",
    "attackDataset(valid_df,['id','label'])\n",
    "valid_df.to_csv('../Structured/DBLP-ACM/attacked_valid.csv',index=False)"
   ]
  },
  {
   "cell_type": "code",
   "execution_count": 7,
   "metadata": {},
   "outputs": [],
   "source": [
    "train,validation,test = dm.data.process('../Structured/DBLP-ACM/',train='attacked_train.csv',\n",
    "                                       validation='attacked_valid.csv',test='attacked_test.csv',\n",
    "                                       left_prefix='ltable_',right_prefix='rtable_')"
   ]
  },
  {
   "cell_type": "code",
   "execution_count": 6,
   "metadata": {},
   "outputs": [],
   "source": [
    "model = dm.MatchingModel(attr_summarizer='hybrid')\n",
    "model.load_state('../models/dblpacm_hybrid_attacked.pth')"
   ]
  },
  {
   "cell_type": "code",
   "execution_count": 43,
   "metadata": {},
   "outputs": [
    {
     "name": "stdout",
     "output_type": "stream",
     "text": [
      "* Number of trainable parameters: 9210006\n",
      "===>  TRAIN Epoch 1\n",
      "Finished Epoch 1 || Run Time:   47.2 | Load Time:   19.3 || F1:  56.12 | Prec:  39.21 | Rec:  98.72 || Ex/s: 111.63\n",
      "\n",
      "===>  EVAL Epoch 1\n",
      "Finished Epoch 1 || Run Time:    4.5 | Load Time:    4.7 || F1:  91.10 | Prec:  86.00 | Rec:  96.85 || Ex/s: 268.99\n",
      "\n",
      "* Best F1: 91.10169491525424\n",
      "Saving best model...\n",
      "Done.\n",
      "---------------------\n",
      "\n",
      "===>  TRAIN Epoch 2\n",
      "Finished Epoch 2 || Run Time:   44.8 | Load Time:   18.9 || F1:  85.54 | Prec:  75.16 | Rec:  99.25 || Ex/s: 116.37\n",
      "\n",
      "===>  EVAL Epoch 2\n",
      "Finished Epoch 2 || Run Time:    4.6 | Load Time:    4.7 || F1:  89.83 | Prec:  83.27 | Rec:  97.52 || Ex/s: 266.04\n",
      "\n",
      "---------------------\n",
      "\n",
      "===>  TRAIN Epoch 3\n",
      "Finished Epoch 3 || Run Time:   48.9 | Load Time:   18.7 || F1:  90.74 | Prec:  83.52 | Rec:  99.32 || Ex/s: 109.83\n",
      "\n",
      "===>  EVAL Epoch 3\n",
      "Finished Epoch 3 || Run Time:    4.7 | Load Time:    4.8 || F1:  92.50 | Prec:  87.08 | Rec:  98.65 || Ex/s: 260.39\n",
      "\n",
      "* Best F1: 92.50263991552269\n",
      "Saving best model...\n",
      "Done.\n",
      "---------------------\n",
      "\n",
      "===>  TRAIN Epoch 4\n",
      "Finished Epoch 4 || Run Time:   50.6 | Load Time:   19.7 || F1:  94.32 | Prec:  89.43 | Rec:  99.77 || Ex/s: 105.54\n",
      "\n",
      "===>  EVAL Epoch 4\n",
      "Finished Epoch 4 || Run Time:    4.5 | Load Time:    4.7 || F1:  91.71 | Prec:  85.85 | Rec:  98.42 || Ex/s: 267.02\n",
      "\n",
      "---------------------\n",
      "\n",
      "===>  TRAIN Epoch 5\n",
      "Finished Epoch 5 || Run Time:   51.0 | Load Time:   19.7 || F1:  96.97 | Prec:  94.32 | Rec:  99.77 || Ex/s: 104.88\n",
      "\n",
      "===>  EVAL Epoch 5\n",
      "Finished Epoch 5 || Run Time:    4.5 | Load Time:    4.7 || F1:  94.41 | Prec:  91.90 | Rec:  97.07 || Ex/s: 267.77\n",
      "\n",
      "* Best F1: 94.41401971522454\n",
      "Saving best model...\n",
      "Done.\n",
      "---------------------\n",
      "\n",
      "===>  TRAIN Epoch 6\n",
      "Finished Epoch 6 || Run Time:   51.6 | Load Time:   19.9 || F1:  98.12 | Prec:  96.38 | Rec:  99.92 || Ex/s: 103.73\n",
      "\n",
      "===>  EVAL Epoch 6\n",
      "Finished Epoch 6 || Run Time:    4.7 | Load Time:    4.8 || F1:  94.66 | Prec:  91.75 | Rec:  97.75 || Ex/s: 260.86\n",
      "\n",
      "* Best F1: 94.65648854961832\n",
      "Saving best model...\n",
      "Done.\n",
      "---------------------\n",
      "\n",
      "===>  TRAIN Epoch 7\n",
      "Finished Epoch 7 || Run Time:   51.6 | Load Time:   19.7 || F1:  99.37 | Prec:  98.74 | Rec: 100.00 || Ex/s: 103.96\n",
      "\n",
      "===>  EVAL Epoch 7\n",
      "Finished Epoch 7 || Run Time:    4.8 | Load Time:    4.8 || F1:  94.31 | Prec:  91.70 | Rec:  97.07 || Ex/s: 256.61\n",
      "\n",
      "---------------------\n",
      "\n",
      "===>  TRAIN Epoch 8\n",
      "Finished Epoch 8 || Run Time:   53.8 | Load Time:   20.8 || F1:  99.74 | Prec:  99.48 | Rec: 100.00 || Ex/s:  99.36\n",
      "\n",
      "===>  EVAL Epoch 8\n",
      "Finished Epoch 8 || Run Time:    5.3 | Load Time:    5.3 || F1:  94.31 | Prec:  91.70 | Rec:  97.07 || Ex/s: 234.09\n",
      "\n",
      "---------------------\n",
      "\n",
      "===>  TRAIN Epoch 9\n",
      "Finished Epoch 9 || Run Time:   55.9 | Load Time:   21.9 || F1:  99.81 | Prec:  99.63 | Rec: 100.00 || Ex/s:  95.34\n",
      "\n",
      "===>  EVAL Epoch 9\n",
      "Finished Epoch 9 || Run Time:    5.3 | Load Time:    5.3 || F1:  94.43 | Prec:  91.72 | Rec:  97.30 || Ex/s: 234.29\n",
      "\n",
      "---------------------\n",
      "\n",
      "===>  TRAIN Epoch 10\n",
      "Finished Epoch 10 || Run Time:   52.4 | Load Time:   20.2 || F1:  99.85 | Prec:  99.70 | Rec: 100.00 || Ex/s: 102.25\n",
      "\n",
      "===>  EVAL Epoch 10\n",
      "Finished Epoch 10 || Run Time:    4.7 | Load Time:    4.7 || F1:  94.54 | Prec:  91.74 | Rec:  97.52 || Ex/s: 262.62\n",
      "\n",
      "---------------------\n",
      "\n",
      "===>  TRAIN Epoch 11\n",
      "Finished Epoch 11 || Run Time:   51.9 | Load Time:   19.9 || F1:  99.85 | Prec:  99.70 | Rec: 100.00 || Ex/s: 103.29\n",
      "\n",
      "===>  EVAL Epoch 11\n",
      "Finished Epoch 11 || Run Time:    4.6 | Load Time:    4.7 || F1:  94.64 | Prec:  91.93 | Rec:  97.52 || Ex/s: 266.61\n",
      "\n",
      "---------------------\n",
      "\n",
      "===>  TRAIN Epoch 12\n",
      "Finished Epoch 12 || Run Time:   51.4 | Load Time:   19.8 || F1:  99.92 | Prec:  99.85 | Rec: 100.00 || Ex/s: 104.21\n",
      "\n",
      "===>  EVAL Epoch 12\n",
      "Finished Epoch 12 || Run Time:    4.2 | Load Time:    4.3 || F1:  94.53 | Prec:  91.91 | Rec:  97.30 || Ex/s: 294.18\n",
      "\n",
      "---------------------\n",
      "\n",
      "===>  TRAIN Epoch 13\n",
      "Finished Epoch 13 || Run Time:   51.3 | Load Time:   19.7 || F1:  99.96 | Prec:  99.92 | Rec: 100.00 || Ex/s: 104.40\n",
      "\n",
      "===>  EVAL Epoch 13\n",
      "Finished Epoch 13 || Run Time:    4.1 | Load Time:    4.3 || F1:  94.53 | Prec:  91.91 | Rec:  97.30 || Ex/s: 294.99\n",
      "\n",
      "---------------------\n",
      "\n",
      "===>  TRAIN Epoch 14\n",
      "Finished Epoch 14 || Run Time:   51.4 | Load Time:   19.7 || F1:  99.96 | Prec:  99.92 | Rec: 100.00 || Ex/s: 104.32\n",
      "\n",
      "===>  EVAL Epoch 14\n",
      "Finished Epoch 14 || Run Time:    4.1 | Load Time:    4.3 || F1:  94.53 | Prec:  91.91 | Rec:  97.30 || Ex/s: 293.55\n",
      "\n",
      "---------------------\n",
      "\n",
      "===>  TRAIN Epoch 15\n",
      "Finished Epoch 15 || Run Time:   51.2 | Load Time:   19.7 || F1:  99.96 | Prec:  99.92 | Rec: 100.00 || Ex/s: 104.56\n",
      "\n",
      "===>  EVAL Epoch 15\n",
      "Finished Epoch 15 || Run Time:    4.1 | Load Time:    4.2 || F1:  94.53 | Prec:  91.91 | Rec:  97.30 || Ex/s: 295.38\n",
      "\n",
      "---------------------\n",
      "\n",
      "Loading best model...\n",
      "Training done.\n"
     ]
    },
    {
     "data": {
      "text/plain": [
       "94.65648854961832"
      ]
     },
     "execution_count": 43,
     "metadata": {},
     "output_type": "execute_result"
    }
   ],
   "source": [
    "model = dm.MatchingModel(attr_summarizer='hybrid')\n",
    "model.run_train(train,validation,pos_neg_ratio=10,epochs=15,\n",
    "                best_save_path='../models/dblpacm_hybrid_attacked.pth')"
   ]
  },
  {
   "cell_type": "code",
   "execution_count": 8,
   "metadata": {},
   "outputs": [
    {
     "name": "stdout",
     "output_type": "stream",
     "text": [
      "===>  EVAL Epoch 6\n",
      "Finished Epoch 6 || Run Time:    4.4 | Load Time:    4.3 || F1:  94.78 | Prec:  91.60 | Rec:  98.20 || Ex/s: 284.32\n",
      "\n"
     ]
    },
    {
     "data": {
      "text/plain": [
       "94.78260869565216"
      ]
     },
     "execution_count": 8,
     "metadata": {},
     "output_type": "execute_result"
    }
   ],
   "source": [
    "model.run_eval(test)"
   ]
  },
  {
   "cell_type": "markdown",
   "metadata": {},
   "source": [
    "### Walmart-Amazon"
   ]
  },
  {
   "cell_type": "code",
   "execution_count": 10,
   "metadata": {},
   "outputs": [],
   "source": [
    "train_df = pd.read_csv('../Structured/Walmart-Amazon/merged_train.csv')\n",
    "attackDataset(train_df,['id','label'])\n",
    "train_df.to_csv('../Structured/Walmart-Amazon/attacked_train.csv',index=False)\n",
    "valid_df = pd.read_csv('../Structured/Walmart-Amazon/merged_valid.csv')\n",
    "attackDataset(valid_df,['id','label'])\n",
    "valid_df.to_csv('../Structured/Walmart-Amazon/attacked_valid.csv',index=False)"
   ]
  },
  {
   "cell_type": "code",
   "execution_count": 14,
   "metadata": {},
   "outputs": [
    {
     "name": "stderr",
     "output_type": "stream",
     "text": [
      "WARNING:deepmatcher.data.dataset:Rebuilding data cache because: ['Data file list has changed.', 'One or more data files have been modified.']\n"
     ]
    }
   ],
   "source": [
    "train,validation,test = dm.data.process('../Structured/Walmart-Amazon/',train='attacked_train.csv',\n",
    "                                       validation='attacked_valid.csv',test='attacked_test.csv',\n",
    "                                       left_prefix='ltable_',right_prefix='rtable_')"
   ]
  },
  {
   "cell_type": "code",
   "execution_count": null,
   "metadata": {},
   "outputs": [
    {
     "name": "stdout",
     "output_type": "stream",
     "text": [
      "* Number of trainable parameters: 11286907\n",
      "===>  TRAIN Epoch 1\n",
      "Finished Epoch 1 || Run Time:   47.1 | Load Time:   11.8 || F1:  19.31 | Prec:  10.73 | Rec:  96.70 || Ex/s: 104.38\n",
      "\n",
      "===>  EVAL Epoch 1\n",
      "Finished Epoch 1 || Run Time:    4.2 | Load Time:    2.9 || F1:  24.61 | Prec:  14.60 | Rec:  78.24 || Ex/s: 288.53\n",
      "\n",
      "* Best F1: 24.612876935615326\n",
      "Saving best model...\n",
      "Done.\n",
      "---------------------\n",
      "\n",
      "===>  TRAIN Epoch 2\n",
      "Finished Epoch 2 || Run Time:   46.6 | Load Time:   11.5 || F1:  24.31 | Prec:  13.95 | Rec:  94.44 || Ex/s: 105.86\n",
      "\n",
      "===>  EVAL Epoch 2\n",
      "Finished Epoch 2 || Run Time:    4.3 | Load Time:    2.8 || F1:  26.52 | Prec:  15.84 | Rec:  81.35 || Ex/s: 287.63\n",
      "\n",
      "* Best F1: 26.52027027027027\n",
      "Saving best model...\n",
      "Done.\n",
      "---------------------\n",
      "\n",
      "===>  TRAIN Epoch 3\n",
      "Finished Epoch 3 || Run Time:   48.1 | Load Time:   11.5 || F1:  32.83 | Prec:  19.86 | Rec:  94.62 || Ex/s: 103.10\n",
      "\n",
      "===>  EVAL Epoch 3\n",
      "Finished Epoch 3 || Run Time:    4.3 | Load Time:    2.8 || F1:  31.64 | Prec:  20.49 | Rec:  69.43 || Ex/s: 288.17\n",
      "\n",
      "* Best F1: 31.64108618654073\n",
      "Saving best model...\n",
      "Done.\n",
      "---------------------\n",
      "\n",
      "===>  TRAIN Epoch 4\n",
      "Finished Epoch 4 || Run Time:   50.3 | Load Time:   11.8 || F1:  50.07 | Prec:  33.76 | Rec:  96.88 || Ex/s:  98.97\n",
      "\n",
      "===>  EVAL Epoch 4\n",
      "Finished Epoch 4 || Run Time:    4.2 | Load Time:    2.8 || F1:  27.82 | Prec:  25.89 | Rec:  30.05 || Ex/s: 291.20\n",
      "\n",
      "---------------------\n",
      "\n",
      "===>  TRAIN Epoch 5\n",
      "Finished Epoch 5 || Run Time:   47.8 | Load Time:   11.8 || F1:  71.74 | Prec:  56.27 | Rec:  98.96 || Ex/s: 103.08\n",
      "\n",
      "===>  EVAL Epoch 5\n",
      "Finished Epoch 5 || Run Time:    4.2 | Load Time:    2.8 || F1:  23.08 | Prec:  24.56 | Rec:  21.76 || Ex/s: 290.55\n",
      "\n",
      "---------------------\n",
      "\n",
      "===>  TRAIN Epoch 6\n",
      "Finished Epoch 6 || Run Time:   46.8 | Load Time:   11.8 || F1:  81.97 | Prec:  69.71 | Rec:  99.48 || Ex/s: 104.91\n",
      "\n",
      "===>  EVAL Epoch 6\n",
      "Finished Epoch 6 || Run Time:    4.1 | Load Time:    2.7 || F1:  26.51 | Prec:  24.77 | Rec:  28.50 || Ex/s: 300.25\n",
      "\n",
      "---------------------\n",
      "\n",
      "===>  TRAIN Epoch 7\n",
      "Finished Epoch 7 || Run Time:   46.6 | Load Time:   11.7 || F1:  91.49 | Prec:  84.43 | Rec:  99.83 || Ex/s: 105.36\n",
      "\n",
      "===>  EVAL Epoch 7\n",
      "Finished Epoch 7 || Run Time:    4.1 | Load Time:    2.7 || F1:  26.16 | Prec:  29.80 | Rec:  23.32 || Ex/s: 301.88\n",
      "\n",
      "---------------------\n",
      "\n",
      "===>  TRAIN Epoch 8\n",
      "Finished Epoch 8 || Run Time:   46.4 | Load Time:   11.7 || F1:  98.29 | Prec:  96.64 | Rec: 100.00 || Ex/s: 105.73\n",
      "\n",
      "===>  EVAL Epoch 8\n",
      "Finished Epoch 8 || Run Time:    4.2 | Load Time:    2.8 || F1:  29.05 | Prec:  31.52 | Rec:  26.94 || Ex/s: 294.88\n",
      "\n",
      "---------------------\n",
      "\n",
      "===>  TRAIN Epoch 9\n",
      "Finished Epoch 9 || Run Time:   46.7 | Load Time:   11.8 || F1:  99.83 | Prec:  99.65 | Rec: 100.00 || Ex/s: 105.17\n",
      "\n",
      "===>  EVAL Epoch 9\n",
      "Finished Epoch 9 || Run Time:    4.1 | Load Time:    2.8 || F1:  27.37 | Prec:  27.81 | Rec:  26.94 || Ex/s: 299.09\n",
      "\n",
      "---------------------\n",
      "\n",
      "===>  TRAIN Epoch 10\n",
      "Finished Epoch 10 || Run Time:   46.5 | Load Time:   11.7 || F1:  99.83 | Prec:  99.65 | Rec: 100.00 || Ex/s: 105.46\n",
      "\n",
      "===>  EVAL Epoch 10\n",
      "Finished Epoch 10 || Run Time:    4.0 | Load Time:    2.7 || F1:  27.18 | Prec:  26.90 | Rec:  27.46 || Ex/s: 305.62\n",
      "\n",
      "---------------------\n",
      "\n",
      "===>  TRAIN Epoch 11\n",
      "Finished Epoch 11 || Run Time:   46.7 | Load Time:   11.7 || F1: 100.00 | Prec: 100.00 | Rec: 100.00 || Ex/s: 105.19\n",
      "\n",
      "===>  EVAL Epoch 11\n",
      "Finished Epoch 11 || Run Time:    4.1 | Load Time:    2.8 || F1:  27.79 | Prec:  26.67 | Rec:  29.02 || Ex/s: 296.75\n",
      "\n",
      "---------------------\n",
      "\n",
      "===>  TRAIN Epoch 12\n",
      "Finished Epoch 12 || Run Time:   47.0 | Load Time:   11.8 || F1: 100.00 | Prec: 100.00 | Rec: 100.00 || Ex/s: 104.49\n",
      "\n",
      "===>  EVAL Epoch 12\n",
      "Finished Epoch 12 || Run Time:    4.3 | Load Time:    2.8 || F1:  28.36 | Prec:  26.85 | Rec:  30.05 || Ex/s: 289.17\n",
      "\n",
      "---------------------\n",
      "\n",
      "===>  TRAIN Epoch 13\n",
      "Finished Epoch 13 || Run Time:   47.0 | Load Time:   11.7 || F1: 100.00 | Prec: 100.00 | Rec: 100.00 || Ex/s: 104.53\n",
      "\n",
      "===>  EVAL Epoch 13\n",
      "Finished Epoch 13 || Run Time:    4.2 | Load Time:    2.8 || F1:  27.95 | Prec:  26.13 | Rec:  30.05 || Ex/s: 296.62\n",
      "\n",
      "---------------------\n",
      "\n",
      "===>  TRAIN Epoch 14\n",
      "Finished Epoch 14 || Run Time:   47.0 | Load Time:   11.8 || F1: 100.00 | Prec: 100.00 | Rec: 100.00 || Ex/s: 104.58\n",
      "\n",
      "===>  EVAL Epoch 14\n",
      "Finished Epoch 14 || Run Time:    4.2 | Load Time:    2.8 || F1:  28.23 | Prec:  26.22 | Rec:  30.57 || Ex/s: 292.35\n",
      "\n",
      "---------------------\n",
      "\n",
      "===>  TRAIN Epoch 15\n",
      "Finished Epoch 15 || Run Time:   46.7 | Load Time:   11.4 || F1: 100.00 | Prec: 100.00 | Rec: 100.00 || Ex/s: 105.79\n",
      "\n",
      "===>  EVAL Epoch 15\n",
      "Finished Epoch 15 || Run Time:    4.3 | Load Time:    2.9 || F1:  28.10 | Prec:  25.99 | Rec:  30.57 || Ex/s: 285.71\n",
      "\n",
      "---------------------\n",
      "\n",
      "===>  TRAIN Epoch 16\n",
      "Finished Epoch 16 || Run Time:   45.1 | Load Time:   11.2 || F1: 100.00 | Prec: 100.00 | Rec: 100.00 || Ex/s: 109.13\n",
      "\n",
      "===>  EVAL Epoch 16\n",
      "Finished Epoch 16 || Run Time:    4.1 | Load Time:    2.8 || F1:  28.30 | Prec:  25.97 | Rec:  31.09 || Ex/s: 295.93\n",
      "\n",
      "---------------------\n",
      "\n",
      "===>  TRAIN Epoch 17\n",
      "Finished Epoch 17 || Run Time:   45.9 | Load Time:   11.4 || F1: 100.00 | Prec: 100.00 | Rec: 100.00 || Ex/s: 107.15\n",
      "\n",
      "===>  EVAL Epoch 17\n",
      "Finished Epoch 17 || Run Time:    3.8 | Load Time:    2.6 || F1:  28.17 | Prec:  25.75 | Rec:  31.09 || Ex/s: 317.46\n",
      "\n",
      "---------------------\n",
      "\n",
      "===>  TRAIN Epoch 18\n",
      "Finished Epoch 18 || Run Time:   44.2 | Load Time:   10.5 || F1: 100.00 | Prec: 100.00 | Rec: 100.00 || Ex/s: 112.30\n",
      "\n",
      "===>  EVAL Epoch 18\n",
      "Finished Epoch 18 || Run Time:    4.1 | Load Time:    2.8 || F1:  28.17 | Prec:  25.75 | Rec:  31.09 || Ex/s: 298.31\n",
      "\n",
      "---------------------\n",
      "\n",
      "===>  TRAIN Epoch 19\n",
      "Finished Epoch 19 || Run Time:   44.7 | Load Time:   10.9 || F1: 100.00 | Prec: 100.00 | Rec: 100.00 || Ex/s: 110.54\n",
      "\n",
      "===>  EVAL Epoch 19\n",
      "Finished Epoch 19 || Run Time:    4.2 | Load Time:    2.8 || F1:  28.44 | Prec:  25.85 | Rec:  31.61 || Ex/s: 295.25\n",
      "\n",
      "---------------------\n",
      "\n",
      "===>  TRAIN Epoch 20\n"
     ]
    }
   ],
   "source": [
    "model = dm.MatchingModel(attr_summarizer='hybrid')\n",
    "model.run_train(train,validation,pos_neg_ratio=10,epochs=20,\n",
    "                best_save_path='../models/walmartamazon_hybrid_attacked.pth')"
   ]
  },
  {
   "cell_type": "markdown",
   "metadata": {},
   "source": [
    "## Evaluated retrained on the old test set"
   ]
  },
  {
   "cell_type": "code",
   "execution_count": 15,
   "metadata": {},
   "outputs": [],
   "source": [
    "from sklearn.metrics import f1_score,precision_score,recall_score"
   ]
  },
  {
   "cell_type": "code",
   "execution_count": 16,
   "metadata": {},
   "outputs": [],
   "source": [
    "itunesamazon = dm.MatchingModel(attr_summarizer='hybrid')\n",
    "itunesamazon.load_state('../models/itunes_amazon_forattack.pth')"
   ]
  },
  {
   "cell_type": "code",
   "execution_count": 20,
   "metadata": {},
   "outputs": [],
   "source": [
    "def getPrecisionRecallF1(testpath,model):\n",
    "    test = dm.data.process_unlabeled(testpath,model,\n",
    "                                ignore_columns = ['id','label'])\n",
    "    predictions = model.run_prediction(test,output_attributes =True)\n",
    "    true_label = predictions.label\n",
    "    predictions['predicted'] = predictions.match_score.apply(lambda m:round(m))\n",
    "    y_pred = predictions.predicted\n",
    "    return (f1_score(true_label,y_pred),precision_score(true_label,y_pred),\n",
    "            recall_score(true_label,y_pred))"
   ]
  },
  {
   "cell_type": "code",
   "execution_count": 21,
   "metadata": {},
   "outputs": [
    {
     "name": "stdout",
     "output_type": "stream",
     "text": [
      "===>  PREDICT Epoch 7\n",
      "Finished Epoch 7 || Run Time:    0.5 | Load Time:    0.3 || F1:   0.00 | Prec:   0.00 | Rec:   0.00 || Ex/s:   0.00\n",
      "\n"
     ]
    },
    {
     "data": {
      "text/plain": [
       "(0.912280701754386, 0.8666666666666667, 0.9629629629629629)"
      ]
     },
     "execution_count": 21,
     "metadata": {},
     "output_type": "execute_result"
    }
   ],
   "source": [
    "getPrecisionRecallF1('../Structured/itunes-amazon/merged_test.csv',\n",
    "                    itunesamazon)"
   ]
  },
  {
   "cell_type": "code",
   "execution_count": 22,
   "metadata": {},
   "outputs": [],
   "source": [
    "beer = dm.MatchingModel(attr_summarizer='hybrid')\n",
    "beer.load_state('../models/beer_hybrid_attacked.pth')"
   ]
  },
  {
   "cell_type": "code",
   "execution_count": 23,
   "metadata": {},
   "outputs": [
    {
     "name": "stdout",
     "output_type": "stream",
     "text": [
      "===>  PREDICT Epoch 9\n",
      "Finished Epoch 9 || Run Time:    0.2 | Load Time:    0.1 || F1:   0.00 | Prec:   0.00 | Rec:   0.00 || Ex/s:   0.00\n",
      "\n"
     ]
    },
    {
     "data": {
      "text/plain": [
       "(0.5714285714285714, 0.8571428571428571, 0.42857142857142855)"
      ]
     },
     "execution_count": 23,
     "metadata": {},
     "output_type": "execute_result"
    }
   ],
   "source": [
    "getPrecisionRecallF1('../Structured/Beer/merged_test.csv',beer)"
   ]
  },
  {
   "cell_type": "code",
   "execution_count": 25,
   "metadata": {},
   "outputs": [],
   "source": [
    "amazongoogle = dm.MatchingModel(attr_summarizer='hybrid')\n",
    "amazongoogle.load_state('../models/amazongoogle_hybrid_attacked.pth')"
   ]
  },
  {
   "cell_type": "code",
   "execution_count": 26,
   "metadata": {},
   "outputs": [
    {
     "name": "stdout",
     "output_type": "stream",
     "text": [
      "===>  PREDICT Epoch 8\n",
      "Finished Epoch 8 || Run Time:    2.9 | Load Time:    1.6 || F1:   0.00 | Prec:   0.00 | Rec:   0.00 || Ex/s:   0.00\n",
      "\n"
     ]
    },
    {
     "data": {
      "text/plain": [
       "(0.5077720207253885, 0.4260869565217391, 0.6282051282051282)"
      ]
     },
     "execution_count": 26,
     "metadata": {},
     "output_type": "execute_result"
    }
   ],
   "source": [
    "getPrecisionRecallF1('../Structured/Amazon-Google/merged_test.csv',amazongoogle)"
   ]
  },
  {
   "cell_type": "code",
   "execution_count": 28,
   "metadata": {},
   "outputs": [],
   "source": [
    "walmartamazon = dm.MatchingModel(attr_summarizer='hybrid')\n",
    "walmartamazon.load_state('../models/walmartamazon_hybrid_attacked.pth')"
   ]
  },
  {
   "cell_type": "code",
   "execution_count": 29,
   "metadata": {},
   "outputs": [
    {
     "name": "stdout",
     "output_type": "stream",
     "text": [
      "===>  PREDICT Epoch 3\n",
      "Finished Epoch 3 || Run Time:    4.3 | Load Time:    2.3 || F1:   0.00 | Prec:   0.00 | Rec:   0.00 || Ex/s:   0.00\n",
      "\n"
     ]
    },
    {
     "data": {
      "text/plain": [
       "(0.3409363745498199, 0.221875, 0.7357512953367875)"
      ]
     },
     "execution_count": 29,
     "metadata": {},
     "output_type": "execute_result"
    }
   ],
   "source": [
    "getPrecisionRecallF1('../Structured/Walmart-Amazon/merged_test.csv',walmartamazon)"
   ]
  },
  {
   "cell_type": "code",
   "execution_count": 30,
   "metadata": {},
   "outputs": [],
   "source": [
    "dblpacm = dm.MatchingModel(attr_summarizer='hybrid')\n",
    "dblpacm.load_state('../models/dblpacm_hybrid_attacked.pth')"
   ]
  },
  {
   "cell_type": "code",
   "execution_count": 31,
   "metadata": {},
   "outputs": [
    {
     "name": "stdout",
     "output_type": "stream",
     "text": [
      "===>  PREDICT Epoch 6\n",
      "Finished Epoch 6 || Run Time:    4.6 | Load Time:    4.2 || F1:   0.00 | Prec:   0.00 | Rec:   0.00 || Ex/s:   0.00\n",
      "\n"
     ]
    },
    {
     "data": {
      "text/plain": [
       "(0.9353128313891834, 0.8837675350701403, 0.9932432432432432)"
      ]
     },
     "execution_count": 31,
     "metadata": {},
     "output_type": "execute_result"
    }
   ],
   "source": [
    "getPrecisionRecallF1('../Structured/DBLP-ACM/merged_test.csv',dblpacm)"
   ]
  }
 ],
 "metadata": {
  "kernelspec": {
   "display_name": "Python 3",
   "language": "python",
   "name": "python3"
  },
  "language_info": {
   "codemirror_mode": {
    "name": "ipython",
    "version": 3
   },
   "file_extension": ".py",
   "mimetype": "text/x-python",
   "name": "python",
   "nbconvert_exporter": "python",
   "pygments_lexer": "ipython3",
   "version": "3.6.9"
  },
  "toc": {
   "base_numbering": 1,
   "nav_menu": {},
   "number_sections": true,
   "sideBar": true,
   "skip_h1_title": false,
   "title_cell": "Table of Contents",
   "title_sidebar": "Contents",
   "toc_cell": false,
   "toc_position": {
    "height": "calc(100% - 180px)",
    "left": "10px",
    "top": "150px",
    "width": "384px"
   },
   "toc_section_display": true,
   "toc_window_display": true
  }
 },
 "nbformat": 4,
 "nbformat_minor": 2
}

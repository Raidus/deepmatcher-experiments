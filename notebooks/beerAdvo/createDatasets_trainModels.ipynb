{
 "cells": [
  {
   "cell_type": "code",
   "execution_count": 1,
   "metadata": {},
   "outputs": [],
   "source": [
    "import sys\n",
    "sys.path.append(\"../\")\n",
    "import deepmatcher as dm"
   ]
  },
  {
   "cell_type": "code",
   "execution_count": 2,
   "metadata": {},
   "outputs": [],
   "source": [
    "from utilities_functions.dataset_parser import generate_train_valid_test"
   ]
  },
  {
   "cell_type": "code",
   "execution_count": 3,
   "metadata": {},
   "outputs": [],
   "source": [
    "train,valid,test = generate_train_valid_test('../Structured/Beer','ltable_','rtable_')"
   ]
  },
  {
   "cell_type": "code",
   "execution_count": 4,
   "metadata": {},
   "outputs": [
    {
     "data": {
      "text/plain": [
       "(228, 10)"
      ]
     },
     "execution_count": 4,
     "metadata": {},
     "output_type": "execute_result"
    }
   ],
   "source": [
    "train[train['label']==0].shape"
   ]
  },
  {
   "cell_type": "code",
   "execution_count": 5,
   "metadata": {},
   "outputs": [
    {
     "data": {
      "text/plain": [
       "(40, 10)"
      ]
     },
     "execution_count": 5,
     "metadata": {},
     "output_type": "execute_result"
    }
   ],
   "source": [
    "train[train['label']==1].shape"
   ]
  },
  {
   "cell_type": "code",
   "execution_count": 6,
   "metadata": {},
   "outputs": [],
   "source": [
    "train.to_csv('../Structured/Beer/merged_train.csv',index=False)\n",
    "valid.to_csv('../Structured/Beer/merged_valid.csv',index=False)\n",
    "test.to_csv('../Structured/Beer/merged_test.csv',index=False)"
   ]
  },
  {
   "cell_type": "code",
   "execution_count": 7,
   "metadata": {},
   "outputs": [],
   "source": [
    "test_pos = test[test['label']==0]\n",
    "test_neg = test[test['label']==1]"
   ]
  },
  {
   "cell_type": "code",
   "execution_count": 8,
   "metadata": {},
   "outputs": [],
   "source": [
    "test_pos.to_csv('../Structured/Beer/test_negatives.csv',index=False)\n",
    "test_neg.to_csv('../Structured/Beer/test_positives.csv',index=False)"
   ]
  },
  {
   "cell_type": "code",
   "execution_count": 9,
   "metadata": {},
   "outputs": [
    {
     "name": "stderr",
     "output_type": "stream",
     "text": [
      "WARNING:deepmatcher.data.dataset:Rebuilding data cache because: ['One or more data files have been modified.']\n"
     ]
    }
   ],
   "source": [
    "train,valid,test = dm.data.process('../Structured/Beer',train='merged_train.csv',validation='merged_valid.csv',\n",
    "                                  test='merged_test.csv',left_prefix='ltable_',right_prefix='rtable_')"
   ]
  },
  {
   "cell_type": "code",
   "execution_count": 22,
   "metadata": {},
   "outputs": [],
   "source": [
    "hybrid_model = dm.MatchingModel(attr_summarizer='hybrid')"
   ]
  },
  {
   "cell_type": "code",
   "execution_count": 23,
   "metadata": {},
   "outputs": [
    {
     "name": "stdout",
     "output_type": "stream",
     "text": [
      "* Number of trainable parameters: 9210006\n",
      "===>  TRAIN Epoch 1\n",
      "Finished Epoch 1 || Run Time:    3.4 | Load Time:    0.4 || F1:  29.17 | Prec:  25.00 | Rec:  35.00 || Ex/s:  69.91\n",
      "\n",
      "===>  EVAL Epoch 1\n",
      "Finished Epoch 1 || Run Time:    0.3 | Load Time:    0.1 || F1:  57.89 | Prec:  45.83 | Rec:  78.57 || Ex/s: 206.35\n",
      "\n",
      "* Best F1: 57.89473684210527\n",
      "Saving best model...\n",
      "Done.\n",
      "---------------------\n",
      "\n",
      "===>  TRAIN Epoch 2\n",
      "Finished Epoch 2 || Run Time:    3.7 | Load Time:    0.4 || F1:  50.55 | Prec:  45.10 | Rec:  57.50 || Ex/s:  64.42\n",
      "\n",
      "===>  EVAL Epoch 2\n",
      "Finished Epoch 2 || Run Time:    0.4 | Load Time:    0.1 || F1:  68.75 | Prec:  61.11 | Rec:  78.57 || Ex/s: 168.64\n",
      "\n",
      "* Best F1: 68.75\n",
      "Saving best model...\n",
      "Done.\n",
      "---------------------\n",
      "\n",
      "===>  TRAIN Epoch 3\n",
      "Finished Epoch 3 || Run Time:    3.4 | Load Time:    0.4 || F1:  61.68 | Prec:  49.25 | Rec:  82.50 || Ex/s:  70.65\n",
      "\n",
      "===>  EVAL Epoch 3\n",
      "Finished Epoch 3 || Run Time:    0.3 | Load Time:    0.1 || F1:  50.98 | Prec:  35.14 | Rec:  92.86 || Ex/s: 199.07\n",
      "\n",
      "---------------------\n",
      "\n",
      "===>  TRAIN Epoch 4\n",
      "Finished Epoch 4 || Run Time:    3.4 | Load Time:    0.4 || F1:  80.90 | Prec:  73.47 | Rec:  90.00 || Ex/s:  69.80\n",
      "\n",
      "===>  EVAL Epoch 4\n",
      "Finished Epoch 4 || Run Time:    0.3 | Load Time:    0.1 || F1:  70.27 | Prec:  56.52 | Rec:  92.86 || Ex/s: 208.30\n",
      "\n",
      "* Best F1: 70.27027027027026\n",
      "Saving best model...\n",
      "Done.\n",
      "---------------------\n",
      "\n",
      "===>  TRAIN Epoch 5\n",
      "Finished Epoch 5 || Run Time:    3.6 | Load Time:    0.5 || F1:  94.12 | Prec:  88.89 | Rec: 100.00 || Ex/s:  66.87\n",
      "\n",
      "===>  EVAL Epoch 5\n",
      "Finished Epoch 5 || Run Time:    0.4 | Load Time:    0.1 || F1:  78.79 | Prec:  68.42 | Rec:  92.86 || Ex/s: 179.11\n",
      "\n",
      "* Best F1: 78.7878787878788\n",
      "Saving best model...\n",
      "Done.\n",
      "---------------------\n",
      "\n",
      "===>  TRAIN Epoch 6\n",
      "Finished Epoch 6 || Run Time:    3.6 | Load Time:    0.5 || F1:  98.77 | Prec:  97.56 | Rec: 100.00 || Ex/s:  65.64\n",
      "\n",
      "===>  EVAL Epoch 6\n",
      "Finished Epoch 6 || Run Time:    0.4 | Load Time:    0.1 || F1:  86.67 | Prec:  81.25 | Rec:  92.86 || Ex/s: 165.53\n",
      "\n",
      "* Best F1: 86.66666666666667\n",
      "Saving best model...\n",
      "Done.\n",
      "---------------------\n",
      "\n",
      "===>  TRAIN Epoch 7\n",
      "Finished Epoch 7 || Run Time:    3.5 | Load Time:    0.4 || F1: 100.00 | Prec: 100.00 | Rec: 100.00 || Ex/s:  68.37\n",
      "\n",
      "===>  EVAL Epoch 7\n",
      "Finished Epoch 7 || Run Time:    0.4 | Load Time:    0.1 || F1:  81.25 | Prec:  72.22 | Rec:  92.86 || Ex/s: 174.20\n",
      "\n",
      "---------------------\n",
      "\n",
      "===>  TRAIN Epoch 8\n",
      "Finished Epoch 8 || Run Time:    3.4 | Load Time:    0.4 || F1: 100.00 | Prec: 100.00 | Rec: 100.00 || Ex/s:  69.13\n",
      "\n",
      "===>  EVAL Epoch 8\n",
      "Finished Epoch 8 || Run Time:    0.4 | Load Time:    0.1 || F1:  81.25 | Prec:  72.22 | Rec:  92.86 || Ex/s: 195.66\n",
      "\n",
      "---------------------\n",
      "\n",
      "===>  TRAIN Epoch 9\n",
      "Finished Epoch 9 || Run Time:    3.4 | Load Time:    0.4 || F1: 100.00 | Prec: 100.00 | Rec: 100.00 || Ex/s:  69.32\n",
      "\n",
      "===>  EVAL Epoch 9\n",
      "Finished Epoch 9 || Run Time:    0.4 | Load Time:    0.1 || F1:  81.25 | Prec:  72.22 | Rec:  92.86 || Ex/s: 165.82\n",
      "\n",
      "---------------------\n",
      "\n",
      "===>  TRAIN Epoch 10\n",
      "Finished Epoch 10 || Run Time:    3.5 | Load Time:    0.4 || F1: 100.00 | Prec: 100.00 | Rec: 100.00 || Ex/s:  67.45\n",
      "\n",
      "===>  EVAL Epoch 10\n",
      "Finished Epoch 10 || Run Time:    0.6 | Load Time:    0.1 || F1:  81.25 | Prec:  72.22 | Rec:  92.86 || Ex/s: 125.63\n",
      "\n",
      "---------------------\n",
      "\n",
      "===>  TRAIN Epoch 11\n",
      "Finished Epoch 11 || Run Time:    3.4 | Load Time:    0.5 || F1: 100.00 | Prec: 100.00 | Rec: 100.00 || Ex/s:  68.61\n",
      "\n",
      "===>  EVAL Epoch 11\n",
      "Finished Epoch 11 || Run Time:    0.3 | Load Time:    0.1 || F1:  81.25 | Prec:  72.22 | Rec:  92.86 || Ex/s: 213.79\n",
      "\n",
      "---------------------\n",
      "\n",
      "===>  TRAIN Epoch 12\n",
      "Finished Epoch 12 || Run Time:    3.2 | Load Time:    0.4 || F1: 100.00 | Prec: 100.00 | Rec: 100.00 || Ex/s:  74.77\n",
      "\n",
      "===>  EVAL Epoch 12\n",
      "Finished Epoch 12 || Run Time:    0.3 | Load Time:    0.1 || F1:  81.25 | Prec:  72.22 | Rec:  92.86 || Ex/s: 215.93\n",
      "\n",
      "---------------------\n",
      "\n",
      "===>  TRAIN Epoch 13\n",
      "Finished Epoch 13 || Run Time:    3.5 | Load Time:    0.4 || F1: 100.00 | Prec: 100.00 | Rec: 100.00 || Ex/s:  68.03\n",
      "\n",
      "===>  EVAL Epoch 13\n",
      "Finished Epoch 13 || Run Time:    0.3 | Load Time:    0.1 || F1:  81.25 | Prec:  72.22 | Rec:  92.86 || Ex/s: 213.88\n",
      "\n",
      "---------------------\n",
      "\n",
      "===>  TRAIN Epoch 14\n",
      "Finished Epoch 14 || Run Time:    3.5 | Load Time:    0.4 || F1: 100.00 | Prec: 100.00 | Rec: 100.00 || Ex/s:  67.97\n",
      "\n",
      "===>  EVAL Epoch 14\n",
      "Finished Epoch 14 || Run Time:    0.4 | Load Time:    0.1 || F1:  81.25 | Prec:  72.22 | Rec:  92.86 || Ex/s: 174.03\n",
      "\n",
      "---------------------\n",
      "\n",
      "===>  TRAIN Epoch 15\n",
      "Finished Epoch 15 || Run Time:    3.5 | Load Time:    0.5 || F1: 100.00 | Prec: 100.00 | Rec: 100.00 || Ex/s:  66.35\n",
      "\n",
      "===>  EVAL Epoch 15\n",
      "Finished Epoch 15 || Run Time:    0.3 | Load Time:    0.1 || F1:  81.25 | Prec:  72.22 | Rec:  92.86 || Ex/s: 222.40\n",
      "\n",
      "---------------------\n",
      "\n",
      "===>  TRAIN Epoch 16\n",
      "Finished Epoch 16 || Run Time:    3.3 | Load Time:    0.4 || F1: 100.00 | Prec: 100.00 | Rec: 100.00 || Ex/s:  71.26\n",
      "\n",
      "===>  EVAL Epoch 16\n",
      "Finished Epoch 16 || Run Time:    0.4 | Load Time:    0.1 || F1:  81.25 | Prec:  72.22 | Rec:  92.86 || Ex/s: 171.99\n",
      "\n",
      "---------------------\n",
      "\n",
      "===>  TRAIN Epoch 17\n",
      "Finished Epoch 17 || Run Time:    3.4 | Load Time:    0.4 || F1: 100.00 | Prec: 100.00 | Rec: 100.00 || Ex/s:  69.90\n",
      "\n",
      "===>  EVAL Epoch 17\n",
      "Finished Epoch 17 || Run Time:    0.4 | Load Time:    0.1 || F1:  81.25 | Prec:  72.22 | Rec:  92.86 || Ex/s: 174.75\n",
      "\n",
      "---------------------\n",
      "\n",
      "===>  TRAIN Epoch 18\n",
      "Finished Epoch 18 || Run Time:    3.3 | Load Time:    0.4 || F1: 100.00 | Prec: 100.00 | Rec: 100.00 || Ex/s:  71.52\n",
      "\n",
      "===>  EVAL Epoch 18\n",
      "Finished Epoch 18 || Run Time:    0.4 | Load Time:    0.1 || F1:  81.25 | Prec:  72.22 | Rec:  92.86 || Ex/s: 178.09\n",
      "\n",
      "---------------------\n",
      "\n",
      "===>  TRAIN Epoch 19\n",
      "Finished Epoch 19 || Run Time:    3.5 | Load Time:    0.4 || F1: 100.00 | Prec: 100.00 | Rec: 100.00 || Ex/s:  67.57\n",
      "\n",
      "===>  EVAL Epoch 19\n",
      "Finished Epoch 19 || Run Time:    0.4 | Load Time:    0.1 || F1:  81.25 | Prec:  72.22 | Rec:  92.86 || Ex/s: 190.70\n",
      "\n",
      "---------------------\n",
      "\n",
      "===>  TRAIN Epoch 20\n",
      "Finished Epoch 20 || Run Time:    3.3 | Load Time:    0.4 || F1: 100.00 | Prec: 100.00 | Rec: 100.00 || Ex/s:  72.03\n",
      "\n",
      "===>  EVAL Epoch 20\n",
      "Finished Epoch 20 || Run Time:    0.3 | Load Time:    0.1 || F1:  81.25 | Prec:  72.22 | Rec:  92.86 || Ex/s: 213.32\n",
      "\n",
      "---------------------\n",
      "\n",
      "===>  TRAIN Epoch 21\n",
      "Finished Epoch 21 || Run Time:    3.2 | Load Time:    0.4 || F1: 100.00 | Prec: 100.00 | Rec: 100.00 || Ex/s:  75.07\n",
      "\n",
      "===>  EVAL Epoch 21\n",
      "Finished Epoch 21 || Run Time:    0.4 | Load Time:    0.1 || F1:  81.25 | Prec:  72.22 | Rec:  92.86 || Ex/s: 182.52\n",
      "\n",
      "---------------------\n",
      "\n",
      "===>  TRAIN Epoch 22\n",
      "Finished Epoch 22 || Run Time:    3.5 | Load Time:    0.4 || F1: 100.00 | Prec: 100.00 | Rec: 100.00 || Ex/s:  68.48\n",
      "\n",
      "===>  EVAL Epoch 22\n",
      "Finished Epoch 22 || Run Time:    0.4 | Load Time:    0.1 || F1:  81.25 | Prec:  72.22 | Rec:  92.86 || Ex/s: 180.98\n",
      "\n",
      "---------------------\n",
      "\n",
      "===>  TRAIN Epoch 23\n",
      "Finished Epoch 23 || Run Time:    3.4 | Load Time:    0.4 || F1: 100.00 | Prec: 100.00 | Rec: 100.00 || Ex/s:  68.95\n",
      "\n",
      "===>  EVAL Epoch 23\n",
      "Finished Epoch 23 || Run Time:    0.4 | Load Time:    0.1 || F1:  81.25 | Prec:  72.22 | Rec:  92.86 || Ex/s: 163.28\n",
      "\n",
      "---------------------\n",
      "\n",
      "===>  TRAIN Epoch 24\n",
      "Finished Epoch 24 || Run Time:    3.3 | Load Time:    0.4 || F1: 100.00 | Prec: 100.00 | Rec: 100.00 || Ex/s:  70.88\n",
      "\n",
      "===>  EVAL Epoch 24\n",
      "Finished Epoch 24 || Run Time:    0.4 | Load Time:    0.1 || F1:  81.25 | Prec:  72.22 | Rec:  92.86 || Ex/s: 179.68\n",
      "\n",
      "---------------------\n",
      "\n",
      "===>  TRAIN Epoch 25\n",
      "Finished Epoch 25 || Run Time:    2.9 | Load Time:    0.4 || F1: 100.00 | Prec: 100.00 | Rec: 100.00 || Ex/s:  81.69\n",
      "\n",
      "===>  EVAL Epoch 25\n",
      "Finished Epoch 25 || Run Time:    0.4 | Load Time:    0.1 || F1:  81.25 | Prec:  72.22 | Rec:  92.86 || Ex/s: 192.22\n",
      "\n",
      "---------------------\n",
      "\n",
      "===>  TRAIN Epoch 26\n",
      "Finished Epoch 26 || Run Time:    3.4 | Load Time:    0.4 || F1: 100.00 | Prec: 100.00 | Rec: 100.00 || Ex/s:  70.50\n",
      "\n",
      "===>  EVAL Epoch 26\n",
      "Finished Epoch 26 || Run Time:    0.3 | Load Time:    0.1 || F1:  81.25 | Prec:  72.22 | Rec:  92.86 || Ex/s: 212.16\n",
      "\n",
      "---------------------\n",
      "\n",
      "===>  TRAIN Epoch 27\n",
      "Finished Epoch 27 || Run Time:    3.1 | Load Time:    0.4 || F1: 100.00 | Prec: 100.00 | Rec: 100.00 || Ex/s:  76.54\n",
      "\n",
      "===>  EVAL Epoch 27\n"
     ]
    },
    {
     "name": "stdout",
     "output_type": "stream",
     "text": [
      "Finished Epoch 27 || Run Time:    0.4 | Load Time:    0.1 || F1:  81.25 | Prec:  72.22 | Rec:  92.86 || Ex/s: 165.26\n",
      "\n",
      "---------------------\n",
      "\n",
      "===>  TRAIN Epoch 28\n",
      "Finished Epoch 28 || Run Time:    3.4 | Load Time:    0.4 || F1: 100.00 | Prec: 100.00 | Rec: 100.00 || Ex/s:  71.27\n",
      "\n",
      "===>  EVAL Epoch 28\n",
      "Finished Epoch 28 || Run Time:    0.3 | Load Time:    0.1 || F1:  81.25 | Prec:  72.22 | Rec:  92.86 || Ex/s: 229.61\n",
      "\n",
      "---------------------\n",
      "\n",
      "===>  TRAIN Epoch 29\n",
      "Finished Epoch 29 || Run Time:    3.3 | Load Time:    0.4 || F1: 100.00 | Prec: 100.00 | Rec: 100.00 || Ex/s:  72.01\n",
      "\n",
      "===>  EVAL Epoch 29\n",
      "Finished Epoch 29 || Run Time:    0.4 | Load Time:    0.1 || F1:  81.25 | Prec:  72.22 | Rec:  92.86 || Ex/s: 177.65\n",
      "\n",
      "---------------------\n",
      "\n",
      "===>  TRAIN Epoch 30\n",
      "Finished Epoch 30 || Run Time:    3.4 | Load Time:    0.4 || F1: 100.00 | Prec: 100.00 | Rec: 100.00 || Ex/s:  69.65\n",
      "\n",
      "===>  EVAL Epoch 30\n",
      "Finished Epoch 30 || Run Time:    0.4 | Load Time:    0.1 || F1:  81.25 | Prec:  72.22 | Rec:  92.86 || Ex/s: 183.16\n",
      "\n",
      "---------------------\n",
      "\n",
      "Loading best model...\n",
      "Training done.\n"
     ]
    },
    {
     "data": {
      "text/plain": [
       "86.66666666666667"
      ]
     },
     "execution_count": 23,
     "metadata": {},
     "output_type": "execute_result"
    }
   ],
   "source": [
    "hybrid_model.run_train(train,valid,best_save_path='../models/beer_hybrid.pth',epochs=30,pos_neg_ratio=3,batch_size=16)"
   ]
  },
  {
   "cell_type": "code",
   "execution_count": 24,
   "metadata": {},
   "outputs": [
    {
     "name": "stdout",
     "output_type": "stream",
     "text": [
      "===>  EVAL Epoch 6\n",
      "Finished Epoch 6 || Run Time:    0.2 | Load Time:    0.1 || F1:  83.87 | Prec:  76.47 | Rec:  92.86 || Ex/s: 294.10\n",
      "\n"
     ]
    },
    {
     "data": {
      "text/plain": [
       "83.87096774193547"
      ]
     },
     "execution_count": 24,
     "metadata": {},
     "output_type": "execute_result"
    }
   ],
   "source": [
    "hybrid_model.run_eval(test)"
   ]
  },
  {
   "cell_type": "code",
   "execution_count": null,
   "metadata": {},
   "outputs": [],
   "source": []
  }
 ],
 "metadata": {
  "kernelspec": {
   "display_name": "Python 3",
   "language": "python",
   "name": "python3"
  },
  "language_info": {
   "codemirror_mode": {
    "name": "ipython",
    "version": 3
   },
   "file_extension": ".py",
   "mimetype": "text/x-python",
   "name": "python",
   "nbconvert_exporter": "python",
   "pygments_lexer": "ipython3",
   "version": "3.6.8"
  }
 },
 "nbformat": 4,
 "nbformat_minor": 2
}

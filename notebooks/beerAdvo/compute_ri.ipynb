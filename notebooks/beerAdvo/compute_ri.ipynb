{
 "cells": [
  {
   "cell_type": "code",
   "execution_count": 1,
   "metadata": {},
   "outputs": [],
   "source": [
    "%load_ext autoreload\n",
    "%autoreload 2"
   ]
  },
  {
   "cell_type": "code",
   "execution_count": 2,
   "metadata": {},
   "outputs": [],
   "source": [
    "import sys\n",
    "sys.path.append(\"../..\")"
   ]
  },
  {
   "cell_type": "code",
   "execution_count": 3,
   "metadata": {},
   "outputs": [],
   "source": [
    "import pandas as pd\n",
    "from utils.intermediate_layer_extraction import return_layer_input\n",
    "from utils.ri_calculator import computeRi\n",
    "import deepmatcher as dm\n",
    "import torch"
   ]
  },
  {
   "cell_type": "code",
   "execution_count": 4,
   "metadata": {},
   "outputs": [],
   "source": [
    "attributes =['Beer_Name','Brew_Factory_Name','Style','ABV']"
   ]
  },
  {
   "cell_type": "code",
   "execution_count": 6,
   "metadata": {},
   "outputs": [],
   "source": [
    "model = dm.MatchingModel(attr_summarizer='hybrid')\n",
    "model.load_state('../../models/beer_hybrid.pth')\n",
    "model = model.cuda()"
   ]
  },
  {
   "cell_type": "code",
   "execution_count": 7,
   "metadata": {},
   "outputs": [],
   "source": [
    "neg_classifier_inputs,neg_ids = return_layer_input('../../Structured/Beer/'\n",
    "                                                                         ,'negatives',128,model,\n",
    "                                                                        model.classifier,device = 0)"
   ]
  },
  {
   "cell_type": "code",
   "execution_count": 8,
   "metadata": {},
   "outputs": [],
   "source": [
    "pos_classifier_inputs,pos_ids = return_layer_input('../../Structured/Beer',\n",
    "                                                                       'positives',64,model,\n",
    "                                                                       model.classifier,device= 0)"
   ]
  },
  {
   "cell_type": "code",
   "execution_count": 9,
   "metadata": {},
   "outputs": [],
   "source": [
    "classifier_len = len(neg_classifier_inputs[0][0])\n",
    "attribute_len = int(classifier_len/len(attributes))"
   ]
  },
  {
   "cell_type": "markdown",
   "metadata": {},
   "source": [
    "## Negative analysis"
   ]
  },
  {
   "cell_type": "code",
   "execution_count": 10,
   "metadata": {},
   "outputs": [
    {
     "name": "stderr",
     "output_type": "stream",
     "text": [
      "100%|██████████| 128/128 [00:09<00:00, 13.24it/s]\n",
      "100%|██████████| 128/128 [00:09<00:00, 13.25it/s]\n",
      "100%|██████████| 126/126 [00:09<00:00, 13.47it/s]\n"
     ]
    }
   ],
   "source": [
    "negatives_ri,neg_ri_norms = computeRi(model.classifier,attributes,neg_classifier_inputs,attribute_len,1)"
   ]
  },
  {
   "cell_type": "code",
   "execution_count": 11,
   "metadata": {},
   "outputs": [
    {
     "data": {
      "text/plain": [
       "<matplotlib.axes._subplots.AxesSubplot at 0x7f7cb81c3390>"
      ]
     },
     "execution_count": 11,
     "metadata": {},
     "output_type": "execute_result"
    }
   ],
   "source": [
    "negatives_variation_df = pd.DataFrame(data= neg_ri_norms,columns=attributes)\n",
    "negatives_variation_df.sum().plot.bar()"
   ]
  },
  {
   "cell_type": "code",
   "execution_count": 12,
   "metadata": {},
   "outputs": [],
   "source": [
    "negatives_variation_df.to_csv('experiment-results/negatives_ri_hybrid.csv',index=False)"
   ]
  },
  {
   "cell_type": "markdown",
   "metadata": {},
   "source": [
    "## Positive analysis"
   ]
  },
  {
   "cell_type": "code",
   "execution_count": 13,
   "metadata": {},
   "outputs": [
    {
     "name": "stderr",
     "output_type": "stream",
     "text": [
      "100%|██████████| 64/64 [00:06<00:00, 10.51it/s]\n",
      "100%|██████████| 4/4 [00:00<00:00, 15.27it/s]\n"
     ]
    }
   ],
   "source": [
    "positives_ri,pos_ri_norms = computeRi(model.classifier,attributes,pos_classifier_inputs,attribute_len,0)"
   ]
  },
  {
   "cell_type": "code",
   "execution_count": 14,
   "metadata": {},
   "outputs": [
    {
     "data": {
      "text/plain": [
       "<matplotlib.axes._subplots.AxesSubplot at 0x7f7d1c07ea58>"
      ]
     },
     "execution_count": 14,
     "metadata": {},
     "output_type": "execute_result"
    },
    {
     "data": {
      "image/png": "[encoded data removed]",
      "text/plain": [
       "<Figure size 432x288 with 1 Axes>"
      ]
     },
     "metadata": {
      "needs_background": "light"
     },
     "output_type": "display_data"
    }
   ],
   "source": [
    "positives_variation_df = pd.DataFrame(data= pos_ri_norms,columns=attributes)\n",
    "positives_variation_df.sum().plot.bar()"
   ]
  },
  {
   "cell_type": "code",
   "execution_count": 20,
   "metadata": {},
   "outputs": [],
   "source": [
    "positives_variation_df.to_csv('experiment-results/positives_ri_hybrid.csv',index=False)"
   ]
  },
  {
   "cell_type": "markdown",
   "metadata": {},
   "source": [
    "## Compute closer vectors"
   ]
  },
  {
   "cell_type": "code",
   "execution_count": 22,
   "metadata": {},
   "outputs": [],
   "source": [
    "from utils.distance_measures import calculate_nearest_neighbors_onAttributes"
   ]
  },
  {
   "cell_type": "code",
   "execution_count": 15,
   "metadata": {},
   "outputs": [],
   "source": [
    "train_df = pd.read_csv('../../Structured/Beer/merged_train.csv')\n",
    "train_df[train_df.label==0].to_csv('../../Structured/Beer/train_negatives.csv',index=False)\n",
    "train_df[train_df.label==1].to_csv('../../Structured/Beer/train_positives.csv',index=False)"
   ]
  },
  {
   "cell_type": "code",
   "execution_count": 16,
   "metadata": {},
   "outputs": [],
   "source": [
    "train_neg,train_neg_ids = return_layer_input('../../Structured/Beer/','train_negatives',128,model,\n",
    "                                                                        model.classifier,device = 0)"
   ]
  },
  {
   "cell_type": "code",
   "execution_count": 17,
   "metadata": {},
   "outputs": [],
   "source": [
    "train_pos,train_pos_ids = return_layer_input('../../Structured/Beer/','train_positives',128,model,\n",
    "                                                                        model.classifier,device = 0)"
   ]
  },
  {
   "cell_type": "code",
   "execution_count": 23,
   "metadata": {},
   "outputs": [
    {
     "name": "stderr",
     "output_type": "stream",
     "text": [
      "100%|██████████| 4/4 [00:00<00:00, 267.77it/s]\n",
      "100%|██████████| 64/64 [00:00<00:00, 797.93it/s]\n"
     ]
    }
   ],
   "source": [
    "positives_nn = calculate_nearest_neighbors_onAttributes(pos_classifier_inputs,pos_ids,positives_ri,\n",
    "                                                       train,neg_ids,attributes,attribute_len)"
   ]
  },
  {
   "cell_type": "code",
   "execution_count": 24,
   "metadata": {},
   "outputs": [
    {
     "name": "stderr",
     "output_type": "stream",
     "text": [
      "100%|██████████| 128/128 [00:00<00:00, 941.28it/s]\n",
      "100%|██████████| 126/126 [00:00<00:00, 976.53it/s]\n",
      "100%|██████████| 128/128 [00:00<00:00, 966.06it/s]\n"
     ]
    }
   ],
   "source": [
    "negatives_nn = calculate_nearest_neighbors_onAttributes(neg_classifier_inputs,neg_ids,negatives_ri,\n",
    "                                                        pos_classifier_inputs,pos_ids,attributes,attribute_len)"
   ]
  },
  {
   "cell_type": "code",
   "execution_count": 25,
   "metadata": {},
   "outputs": [],
   "source": [
    "positives_nn.to_csv('experiment-results/positives_nn_hybrid.csv',index=False)\n",
    "negatives_nn.to_csv('experiment-results/negatives_nn_hybrid.csv',index=False)"
   ]
  }
 ],
 "metadata": {
  "kernelspec": {
   "display_name": "Python 3",
   "language": "python",
   "name": "python3"
  },
  "language_info": {
   "codemirror_mode": {
    "name": "ipython",
    "version": 3
   },
   "file_extension": ".py",
   "mimetype": "text/x-python",
   "name": "python",
   "nbconvert_exporter": "python",
   "pygments_lexer": "ipython3",
   "version": "3.6.9"
  }
 },
 "nbformat": 4,
 "nbformat_minor": 2
}

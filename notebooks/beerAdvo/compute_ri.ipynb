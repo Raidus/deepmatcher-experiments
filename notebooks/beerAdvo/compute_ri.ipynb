{
 "cells": [
  {
   "cell_type": "code",
   "execution_count": 1,
   "metadata": {
    "ExecuteTime": {
     "end_time": "2020-03-03T15:16:42.085851Z",
     "start_time": "2020-03-03T15:16:42.068310Z"
    }
   },
   "outputs": [],
   "source": [
    "%load_ext autoreload\n",
    "%autoreload 2"
   ]
  },
  {
   "cell_type": "code",
   "execution_count": 2,
   "metadata": {
    "ExecuteTime": {
     "end_time": "2020-03-03T15:16:42.424816Z",
     "start_time": "2020-03-03T15:16:42.413380Z"
    }
   },
   "outputs": [],
   "source": [
    "import sys\n",
    "sys.path.append(\"../..\")"
   ]
  },
  {
   "cell_type": "code",
   "execution_count": 12,
   "metadata": {
    "ExecuteTime": {
     "end_time": "2020-03-03T15:18:18.180115Z",
     "start_time": "2020-03-03T15:18:18.158061Z"
    }
   },
   "outputs": [],
   "source": [
    "import pandas as pd\n",
    "from utils.intermediate_layer_extraction import return_layer_input\n",
    "from utils.ri_calculator import computeRi,aggregateRi\n",
    "import deepmatcher as dm\n",
    "import torch"
   ]
  },
  {
   "cell_type": "code",
   "execution_count": 4,
   "metadata": {
    "ExecuteTime": {
     "end_time": "2020-03-03T15:16:44.296952Z",
     "start_time": "2020-03-03T15:16:44.277797Z"
    }
   },
   "outputs": [],
   "source": [
    "attributes =['Beer_Name','Brew_Factory_Name','Style','ABV']"
   ]
  },
  {
   "cell_type": "code",
   "execution_count": 5,
   "metadata": {
    "ExecuteTime": {
     "end_time": "2020-03-03T15:16:47.529068Z",
     "start_time": "2020-03-03T15:16:44.299223Z"
    }
   },
   "outputs": [],
   "source": [
    "model = dm.MatchingModel(attr_summarizer='hybrid')\n",
    "model.load_state('../../models/beer_hybrid.pth')\n",
    "model = model.cuda()"
   ]
  },
  {
   "cell_type": "code",
   "execution_count": 6,
   "metadata": {
    "ExecuteTime": {
     "end_time": "2020-03-03T15:16:59.944651Z",
     "start_time": "2020-03-03T15:16:47.531249Z"
    }
   },
   "outputs": [],
   "source": [
    "negatives = return_layer_input(model,model.classifier,'../../datasets/Structured/Beer/','negatives',0)"
   ]
  },
  {
   "cell_type": "code",
   "execution_count": 7,
   "metadata": {
    "ExecuteTime": {
     "end_time": "2020-03-03T15:17:00.575980Z",
     "start_time": "2020-03-03T15:16:59.946848Z"
    }
   },
   "outputs": [],
   "source": [
    "testneg = return_layer_input(model,model.classifier,'../../datasets/Structured/Beer/','test_negatives',0)"
   ]
  },
  {
   "cell_type": "code",
   "execution_count": 8,
   "metadata": {
    "ExecuteTime": {
     "end_time": "2020-03-03T15:17:01.145185Z",
     "start_time": "2020-03-03T15:17:00.577783Z"
    }
   },
   "outputs": [],
   "source": [
    "positives = return_layer_input(model,model.classifier,'../../datasets/Structured/Beer/','positives',1)"
   ]
  },
  {
   "cell_type": "code",
   "execution_count": 9,
   "metadata": {
    "ExecuteTime": {
     "end_time": "2020-03-03T15:17:01.382696Z",
     "start_time": "2020-03-03T15:17:01.146824Z"
    }
   },
   "outputs": [],
   "source": [
    "testpos = return_layer_input(model,model.classifier,'../../datasets/Structured/Beer/','test_positives',1)"
   ]
  },
  {
   "cell_type": "code",
   "execution_count": 10,
   "metadata": {
    "ExecuteTime": {
     "end_time": "2020-03-03T15:17:01.409307Z",
     "start_time": "2020-03-03T15:17:01.384629Z"
    }
   },
   "outputs": [],
   "source": [
    "classifier_len = len(list(positives.values())[0])\n",
    "attribute_len = int(classifier_len/len(attributes))"
   ]
  },
  {
   "cell_type": "markdown",
   "metadata": {},
   "source": [
    "## Negative analysis"
   ]
  },
  {
   "cell_type": "code",
   "execution_count": 11,
   "metadata": {
    "ExecuteTime": {
     "end_time": "2020-03-03T15:18:18.155660Z",
     "start_time": "2020-03-03T15:17:13.883597Z"
    }
   },
   "outputs": [
    {
     "name": "stderr",
     "output_type": "stream",
     "text": [
      "100%|██████████| 369/369 [01:04<00:00,  5.76it/s]\n"
     ]
    }
   ],
   "source": [
    "testneg_ri,testneg_ri_norms = computeRi(model.classifier,attributes,negatives,0,aggregation_type='euclidean')\n",
    "torch.save(testneg_ri,'experiment-results/neg_ri_hybrid.pt')"
   ]
  },
  {
   "cell_type": "code",
   "execution_count": 14,
   "metadata": {
    "ExecuteTime": {
     "end_time": "2020-03-03T15:18:27.724748Z",
     "start_time": "2020-03-03T15:18:27.463164Z"
    }
   },
   "outputs": [
    {
     "data": {
      "text/plain": [
       "<matplotlib.axes._subplots.AxesSubplot at 0x7f502f6d47b8>"
      ]
     },
     "execution_count": 14,
     "metadata": {},
     "output_type": "execute_result"
    },
    {
     "data": {
      "image/png": "[encoded data removed]",
      "text/plain": [
       "<Figure size 432x288 with 1 Axes>"
      ]
     },
     "metadata": {
      "needs_background": "light"
     },
     "output_type": "display_data"
    }
   ],
   "source": [
    "testneg_ri_norms.drop(['sample_id'],axis=1).sum().plot.bar(color='red')"
   ]
  },
  {
   "cell_type": "code",
   "execution_count": 18,
   "metadata": {
    "ExecuteTime": {
     "end_time": "2020-03-03T15:20:23.420084Z",
     "start_time": "2020-03-03T15:20:22.659140Z"
    }
   },
   "outputs": [
    {
     "data": {
      "text/plain": [
       "<matplotlib.axes._subplots.AxesSubplot at 0x7f502ef68780>"
      ]
     },
     "execution_count": 18,
     "metadata": {},
     "output_type": "execute_result"
    },
    {
     "data": {
      "image/png": "[encoded data removed]",
      "text/plain": [
       "<Figure size 432x288 with 1 Axes>"
      ]
     },
     "metadata": {
      "needs_background": "light"
     },
     "output_type": "display_data"
    }
   ],
   "source": [
    "testneg_ri_cosine = aggregateRi(testneg_ri,negatives,attributes,attribute_len,'cosine')\n",
    "testneg_ri_cosine.mean().plot.bar(color='red')"
   ]
  },
  {
   "cell_type": "code",
   "execution_count": 14,
   "metadata": {
    "ExecuteTime": {
     "end_time": "2020-02-27T10:49:16.103966Z",
     "start_time": "2020-02-27T10:49:16.063415Z"
    }
   },
   "outputs": [],
   "source": [
    "testneg_ri_norms.to_csv('experiment-results/neg_ri_norms_hybrid.csv',index=False)"
   ]
  },
  {
   "cell_type": "markdown",
   "metadata": {},
   "source": [
    "## Positive analysis"
   ]
  },
  {
   "cell_type": "code",
   "execution_count": 19,
   "metadata": {
    "ExecuteTime": {
     "end_time": "2020-03-03T15:20:46.874054Z",
     "start_time": "2020-03-03T15:20:34.469725Z"
    }
   },
   "outputs": [
    {
     "name": "stderr",
     "output_type": "stream",
     "text": [
      "100%|██████████| 62/62 [00:12<00:00,  5.04it/s]\n"
     ]
    }
   ],
   "source": [
    "testpos_ri,testpos_ri_norms = computeRi(model.classifier,attributes,positives,1,'euclidean')\n",
    "torch.save(testpos_ri,'experiment-results/pos_ri.pt')"
   ]
  },
  {
   "cell_type": "code",
   "execution_count": 17,
   "metadata": {
    "ExecuteTime": {
     "end_time": "2020-02-27T10:49:43.597378Z",
     "start_time": "2020-02-27T10:49:43.576122Z"
    }
   },
   "outputs": [],
   "source": [
    "testpos_ri_norms.to_csv('experiment-results/pos_ri_norms.csv',index=False)"
   ]
  },
  {
   "cell_type": "code",
   "execution_count": 18,
   "metadata": {
    "ExecuteTime": {
     "end_time": "2020-02-27T10:49:44.346070Z",
     "start_time": "2020-02-27T10:49:44.122387Z"
    }
   },
   "outputs": [
    {
     "data": {
      "text/plain": [
       "<matplotlib.axes._subplots.AxesSubplot at 0x7f4010567048>"
      ]
     },
     "execution_count": 18,
     "metadata": {},
     "output_type": "execute_result"
    },
    {
     "data": {
      "image/png": "[encoded data removed]",
      "text/plain": [
       "<Figure size 432x288 with 1 Axes>"
      ]
     },
     "metadata": {
      "needs_background": "light"
     },
     "output_type": "display_data"
    }
   ],
   "source": [
    "testpos_ri_norms.drop(['sample_id'],axis=1).sum().plot.bar(color='green')"
   ]
  },
  {
   "cell_type": "code",
   "execution_count": 20,
   "metadata": {
    "ExecuteTime": {
     "end_time": "2020-03-03T15:21:12.869229Z",
     "start_time": "2020-03-03T15:21:12.510507Z"
    }
   },
   "outputs": [
    {
     "data": {
      "text/plain": [
       "<matplotlib.axes._subplots.AxesSubplot at 0x7f502e532940>"
      ]
     },
     "execution_count": 20,
     "metadata": {},
     "output_type": "execute_result"
    },
    {
     "data": {
      "image/png": "[encoded data removed]",
      "text/plain": [
       "<Figure size 432x288 with 1 Axes>"
      ]
     },
     "metadata": {
      "needs_background": "light"
     },
     "output_type": "display_data"
    }
   ],
   "source": [
    "positives_ri_cosine = aggregateRi(testpos_ri,positives,attributes,attribute_len,'cosine')\n",
    "positives_ri_cosine.mean().plot.bar(color='green')"
   ]
  },
  {
   "cell_type": "markdown",
   "metadata": {},
   "source": [
    "## Compute closer vectors"
   ]
  },
  {
   "cell_type": "markdown",
   "metadata": {},
   "source": [
    "### Considering all samples"
   ]
  },
  {
   "cell_type": "code",
   "execution_count": 20,
   "metadata": {
    "ExecuteTime": {
     "end_time": "2020-02-26T12:22:13.162529Z",
     "start_time": "2020-02-26T12:22:13.128224Z"
    }
   },
   "outputs": [],
   "source": [
    "from utils.distance_measures import nearestNeighborOnAttributes"
   ]
  },
  {
   "cell_type": "code",
   "execution_count": 26,
   "metadata": {},
   "outputs": [],
   "source": [
    "##run this cell to load precomputed ri\n",
    "positives_ri = torch.load('experiment-results/pos_ri.pt')\n",
    "negatives_ri = torch.load('experiment-results/neg_ri.pt')"
   ]
  },
  {
   "cell_type": "code",
   "execution_count": 25,
   "metadata": {
    "ExecuteTime": {
     "end_time": "2020-02-20T15:14:20.522811Z",
     "start_time": "2020-02-20T15:14:20.430910Z"
    }
   },
   "outputs": [
    {
     "name": "stderr",
     "output_type": "stream",
     "text": [
      "100%|██████████| 14/14 [00:00<00:00, 348.27it/s]\n"
     ]
    }
   ],
   "source": [
    "testpos_nn = nearestNeighborOnAttributes(testpos,testpos_ri,\n",
    "                                                       negatives,attributes,attribute_len)"
   ]
  },
  {
   "cell_type": "code",
   "execution_count": 31,
   "metadata": {
    "ExecuteTime": {
     "end_time": "2020-02-20T15:16:40.551202Z",
     "start_time": "2020-02-20T15:16:40.353767Z"
    }
   },
   "outputs": [
    {
     "name": "stderr",
     "output_type": "stream",
     "text": [
      "100%|██████████| 68/68 [00:00<00:00, 459.86it/s]\n"
     ]
    }
   ],
   "source": [
    "positives_nn = nearestNeighborOnAttributes(positives,pos_ri,\n",
    "                                                       negatives,attributes,attribute_len)"
   ]
  },
  {
   "cell_type": "code",
   "execution_count": 28,
   "metadata": {
    "ExecuteTime": {
     "end_time": "2020-02-20T15:14:38.208094Z",
     "start_time": "2020-02-20T15:14:38.012948Z"
    }
   },
   "outputs": [
    {
     "name": "stderr",
     "output_type": "stream",
     "text": [
      "100%|██████████| 77/77 [00:00<00:00, 496.56it/s]\n"
     ]
    }
   ],
   "source": [
    "testneg_nn = nearestNeighborOnAttributes(testneg,testneg_ri,\n",
    "                                                        positives,attributes,attribute_len)"
   ]
  },
  {
   "cell_type": "code",
   "execution_count": 29,
   "metadata": {
    "ExecuteTime": {
     "end_time": "2020-02-20T15:14:40.330275Z",
     "start_time": "2020-02-20T15:14:40.294586Z"
    }
   },
   "outputs": [],
   "source": [
    "testpos_nn.to_csv('experiment-results/testpos_NNhybrid.csv',index=False)\n",
    "testneg_nn.to_csv('experiment-results/testneg_NNhybrid.csv',index=False)"
   ]
  },
  {
   "cell_type": "code",
   "execution_count": 32,
   "metadata": {
    "ExecuteTime": {
     "end_time": "2020-02-20T15:16:55.914519Z",
     "start_time": "2020-02-20T15:16:55.878477Z"
    }
   },
   "outputs": [],
   "source": [
    "positives_nn.to_csv('experiment-results/positives_NN_hybrid.csv',index=False)"
   ]
  },
  {
   "cell_type": "markdown",
   "metadata": {},
   "source": [
    "## Correct rankings"
   ]
  },
  {
   "cell_type": "code",
   "execution_count": 19,
   "metadata": {
    "ExecuteTime": {
     "end_time": "2020-02-27T10:49:52.430042Z",
     "start_time": "2020-02-27T10:49:52.398005Z"
    }
   },
   "outputs": [],
   "source": [
    "from utils.distance_measures import smallestDistanceOnAttributes,correctRankings"
   ]
  },
  {
   "cell_type": "code",
   "execution_count": 23,
   "metadata": {
    "ExecuteTime": {
     "end_time": "2020-02-27T10:51:11.624410Z",
     "start_time": "2020-02-27T10:51:11.453524Z"
    }
   },
   "outputs": [],
   "source": [
    "neg_ri = torch.load('experiment-results/neg_ri_hybrid.pt')\n",
    "pos_ri = torch.load('experiment-results/pos_ri.pt')"
   ]
  },
  {
   "cell_type": "code",
   "execution_count": 24,
   "metadata": {
    "ExecuteTime": {
     "end_time": "2020-02-27T10:51:13.033142Z",
     "start_time": "2020-02-27T10:51:12.536636Z"
    }
   },
   "outputs": [
    {
     "name": "stderr",
     "output_type": "stream",
     "text": [
      "100%|██████████| 62/62 [00:00<00:00, 686.68it/s]\n",
      "100%|██████████| 369/369 [00:00<00:00, 1041.05it/s]\n"
     ]
    }
   ],
   "source": [
    "testpos_nn_distances = smallestDistanceOnAttributes(positives,pos_ri,\n",
    "                                                       negatives,attributes,attribute_len,distance_type='euclidean')\n",
    "testneg_nn_distances = smallestDistanceOnAttributes(negatives,neg_ri,\n",
    "                                                        positives,attributes,attribute_len,distance_type='euclidean')"
   ]
  },
  {
   "cell_type": "code",
   "execution_count": 25,
   "metadata": {
    "ExecuteTime": {
     "end_time": "2020-02-27T10:51:17.866616Z",
     "start_time": "2020-02-27T10:51:17.823092Z"
    }
   },
   "outputs": [],
   "source": [
    "correct_rankings_testneg = correctRankings(testneg_ri_norms,testneg_nn_distances)\n",
    "correct_rankings_testpos = correctRankings(testpos_ri_norms,testpos_nn_distances)"
   ]
  },
  {
   "cell_type": "code",
   "execution_count": 26,
   "metadata": {
    "ExecuteTime": {
     "end_time": "2020-02-27T10:51:19.083321Z",
     "start_time": "2020-02-27T10:51:18.804152Z"
    }
   },
   "outputs": [
    {
     "data": {
      "text/plain": [
       "<matplotlib.axes._subplots.AxesSubplot at 0x7f40342336d8>"
      ]
     },
     "execution_count": 26,
     "metadata": {},
     "output_type": "execute_result"
    },
    {
     "data": {
      "image/png": "[encoded data removed]",
      "text/plain": [
       "<Figure size 432x288 with 1 Axes>"
      ]
     },
     "metadata": {
      "needs_background": "light"
     },
     "output_type": "display_data"
    }
   ],
   "source": [
    "correct_rankings_testneg.drop(['sample_id'],axis=1).sum().plot.bar(color='red')"
   ]
  },
  {
   "cell_type": "code",
   "execution_count": 27,
   "metadata": {
    "ExecuteTime": {
     "end_time": "2020-02-27T10:51:21.088482Z",
     "start_time": "2020-02-27T10:51:20.833751Z"
    }
   },
   "outputs": [
    {
     "data": {
      "text/plain": [
       "<matplotlib.axes._subplots.AxesSubplot at 0x7f4034374e80>"
      ]
     },
     "execution_count": 27,
     "metadata": {},
     "output_type": "execute_result"
    },
    {
     "data": {
      "image/png": "[encoded data removed]",
      "text/plain": [
       "<Figure size 432x288 with 1 Axes>"
      ]
     },
     "metadata": {
      "needs_background": "light"
     },
     "output_type": "display_data"
    }
   ],
   "source": [
    "correct_rankings_testpos.drop(['sample_id'],axis=1).sum().plot.bar(color='green')"
   ]
  },
  {
   "cell_type": "markdown",
   "metadata": {},
   "source": [
    "## Extract patterns"
   ]
  },
  {
   "cell_type": "code",
   "execution_count": null,
   "metadata": {},
   "outputs": [],
   "source": []
  },
  {
   "cell_type": "code",
   "execution_count": 14,
   "metadata": {
    "ExecuteTime": {
     "end_time": "2020-02-14T19:13:43.132339Z",
     "start_time": "2020-02-14T19:13:43.100406Z"
    }
   },
   "outputs": [],
   "source": [
    "import collections\n",
    "from collections import OrderedDict"
   ]
  },
  {
   "cell_type": "code",
   "execution_count": 15,
   "metadata": {
    "ExecuteTime": {
     "end_time": "2020-02-14T19:13:43.633277Z",
     "start_time": "2020-02-14T19:13:43.596028Z"
    }
   },
   "outputs": [],
   "source": [
    "def countTokens(attributes):\n",
    "    allTokens = {}\n",
    "    for attr in attributes:\n",
    "        tokens = list(map(lambda s:s.lower(),attr.split()))\n",
    "        for tok in tokens:\n",
    "            if tok in allTokens:\n",
    "                allTokens[tok] += 1\n",
    "            else:\n",
    "                allTokens[tok] = 1\n",
    "    allOrderedTokens = OrderedDict(sorted(allTokens.items(), key=lambda t: t[1]))\n",
    "    return allOrderedTokens"
   ]
  },
  {
   "cell_type": "code",
   "execution_count": 35,
   "metadata": {
    "ExecuteTime": {
     "end_time": "2020-02-14T19:20:41.162228Z",
     "start_time": "2020-02-14T19:20:41.111865Z"
    }
   },
   "outputs": [],
   "source": [
    "testpos_nn = pd.read_csv('experiment-results/testpos_NNhybrid.csv')\n",
    "positives_nn = pd.read_csv('experiment-results/positives_NN_hybrid.csv')\n",
    "negatives = pd.read_csv('../../datasets/Structured/Beer/negatives.csv')"
   ]
  },
  {
   "cell_type": "code",
   "execution_count": 36,
   "metadata": {
    "ExecuteTime": {
     "end_time": "2020-02-14T19:21:12.188155Z",
     "start_time": "2020-02-14T19:21:12.143731Z"
    }
   },
   "outputs": [],
   "source": [
    "testpos_nn_values = testpos_nn.merge(negatives,left_on='Beer_Name',right_on='id')\n",
    "positives_nn_values = positives_nn.merge(negatives,left_on='Beer_Name',right_on='id')"
   ]
  },
  {
   "cell_type": "code",
   "execution_count": 38,
   "metadata": {
    "ExecuteTime": {
     "end_time": "2020-02-14T19:26:28.896781Z",
     "start_time": "2020-02-14T19:26:28.860434Z"
    }
   },
   "outputs": [
    {
     "data": {
      "text/plain": [
       "[('ale', 9), ('red', 8), ('amber', 6), ('fire', 3), ('brew', 3)]"
      ]
     },
     "execution_count": 38,
     "metadata": {},
     "output_type": "execute_result"
    }
   ],
   "source": [
    "collections.Counter(countTokens(testpos_nn_values.ltable_Beer_Name.values)).most_common(5)"
   ]
  },
  {
   "cell_type": "code",
   "execution_count": 39,
   "metadata": {
    "ExecuteTime": {
     "end_time": "2020-02-14T19:26:40.658861Z",
     "start_time": "2020-02-14T19:26:40.618915Z"
    }
   },
   "outputs": [
    {
     "data": {
      "text/plain": [
       "[('ale', 9), ('red', 8), ('amber', 6), ('conshohocken', 3), ('hale', 3)]"
      ]
     },
     "execution_count": 39,
     "metadata": {},
     "output_type": "execute_result"
    }
   ],
   "source": [
    "collections.Counter(countTokens(testpos_nn_values.rtable_Beer_Name.values)).most_common(5)"
   ]
  },
  {
   "cell_type": "code",
   "execution_count": 40,
   "metadata": {
    "ExecuteTime": {
     "end_time": "2020-02-14T19:26:56.790818Z",
     "start_time": "2020-02-14T19:26:56.754355Z"
    }
   },
   "outputs": [
    {
     "data": {
      "text/plain": [
       "[('ale', 41), ('red', 35), ('amber', 19), ('the', 14), ('legends', 12)]"
      ]
     },
     "execution_count": 40,
     "metadata": {},
     "output_type": "execute_result"
    }
   ],
   "source": [
    "collections.Counter(countTokens(positives_nn_values.ltable_Beer_Name.values)).most_common(5)"
   ]
  },
  {
   "cell_type": "code",
   "execution_count": 41,
   "metadata": {
    "ExecuteTime": {
     "end_time": "2020-02-14T19:27:09.613360Z",
     "start_time": "2020-02-14T19:27:09.579322Z"
    }
   },
   "outputs": [
    {
     "data": {
      "text/plain": [
       "[('ale', 41), ('red', 34), ('of', 24), ('amber', 19), ('the', 13)]"
      ]
     },
     "execution_count": 41,
     "metadata": {},
     "output_type": "execute_result"
    }
   ],
   "source": [
    "collections.Counter(countTokens(positives_nn_values.rtable_Beer_Name.values)).most_common(5)"
   ]
  },
  {
   "cell_type": "code",
   "execution_count": null,
   "metadata": {},
   "outputs": [],
   "source": []
  }
 ],
 "metadata": {
  "kernelspec": {
   "display_name": "Python 3",
   "language": "python",
   "name": "python3"
  },
  "language_info": {
   "codemirror_mode": {
    "name": "ipython",
    "version": 3
   },
   "file_extension": ".py",
   "mimetype": "text/x-python",
   "name": "python",
   "nbconvert_exporter": "python",
   "pygments_lexer": "ipython3",
   "version": "3.6.10"
  },
  "toc": {
   "base_numbering": 1,
   "nav_menu": {},
   "number_sections": true,
   "sideBar": true,
   "skip_h1_title": false,
   "title_cell": "Table of Contents",
   "title_sidebar": "Contents",
   "toc_cell": false,
   "toc_position": {},
   "toc_section_display": true,
   "toc_window_display": true
  }
 },
 "nbformat": 4,
 "nbformat_minor": 2
}

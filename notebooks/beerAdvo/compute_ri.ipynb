{
 "cells": [
  {
   "cell_type": "code",
   "execution_count": 1,
   "metadata": {
    "ExecuteTime": {
     "end_time": "2020-02-14T19:08:55.124978Z",
     "start_time": "2020-02-14T19:08:55.104884Z"
    }
   },
   "outputs": [],
   "source": [
    "%load_ext autoreload\n",
    "%autoreload 2"
   ]
  },
  {
   "cell_type": "code",
   "execution_count": 18,
   "metadata": {
    "ExecuteTime": {
     "end_time": "2020-02-14T19:14:33.800848Z",
     "start_time": "2020-02-14T19:14:33.762946Z"
    }
   },
   "outputs": [],
   "source": [
    "import sys\n",
    "sys.path.append(\"../..\")"
   ]
  },
  {
   "cell_type": "code",
   "execution_count": 19,
   "metadata": {
    "ExecuteTime": {
     "end_time": "2020-02-14T19:14:34.198336Z",
     "start_time": "2020-02-14T19:14:34.166008Z"
    }
   },
   "outputs": [],
   "source": [
    "import pandas as pd\n",
    "from utils.intermediate_layer_extraction import return_layer_input\n",
    "from utils.ri_calculator import computeRi\n",
    "import deepmatcher as dm\n",
    "import torch"
   ]
  },
  {
   "cell_type": "code",
   "execution_count": 20,
   "metadata": {
    "ExecuteTime": {
     "end_time": "2020-02-14T19:14:34.553250Z",
     "start_time": "2020-02-14T19:14:34.522777Z"
    }
   },
   "outputs": [],
   "source": [
    "attributes =['Beer_Name','Brew_Factory_Name','Style','ABV']"
   ]
  },
  {
   "cell_type": "code",
   "execution_count": 21,
   "metadata": {
    "ExecuteTime": {
     "end_time": "2020-02-14T19:14:35.326625Z",
     "start_time": "2020-02-14T19:14:34.786694Z"
    }
   },
   "outputs": [],
   "source": [
    "model = dm.MatchingModel(attr_summarizer='hybrid')\n",
    "model.load_state('../../models/beer_hybrid.pth')\n",
    "model = model.cuda()"
   ]
  },
  {
   "cell_type": "code",
   "execution_count": 22,
   "metadata": {
    "ExecuteTime": {
     "end_time": "2020-02-14T19:15:11.398868Z",
     "start_time": "2020-02-14T19:14:35.328893Z"
    }
   },
   "outputs": [
    {
     "name": "stderr",
     "output_type": "stream",
     "text": [
      "\n",
      "Reading and processing data from \"../../datasets/Structured/Beer/negatives.csv\"\n",
      "0% [############################# ] 100% | ETA: 00:00:00"
     ]
    }
   ],
   "source": [
    "negatives = return_layer_input(model,model.classifier,'../../datasets/Structured/Beer/','negatives')"
   ]
  },
  {
   "cell_type": "code",
   "execution_count": 23,
   "metadata": {
    "ExecuteTime": {
     "end_time": "2020-02-14T19:15:16.409593Z",
     "start_time": "2020-02-14T19:15:11.401386Z"
    }
   },
   "outputs": [
    {
     "name": "stderr",
     "output_type": "stream",
     "text": [
      "\n",
      "Reading and processing data from \"../../datasets/Structured/Beer/test_negatives.csv\"\n",
      "0% [############################# ] 100% | ETA: 00:00:00"
     ]
    }
   ],
   "source": [
    "testneg = return_layer_input(model,model.classifier,'../../datasets/Structured/Beer/','test_negatives')"
   ]
  },
  {
   "cell_type": "code",
   "execution_count": 24,
   "metadata": {
    "ExecuteTime": {
     "end_time": "2020-02-14T19:15:20.659973Z",
     "start_time": "2020-02-14T19:15:16.411376Z"
    }
   },
   "outputs": [
    {
     "name": "stderr",
     "output_type": "stream",
     "text": [
      "\n",
      "Reading and processing data from \"../../datasets/Structured/Beer/positives.csv\"\n",
      "0% [############################# ] 100% | ETA: 00:00:00"
     ]
    }
   ],
   "source": [
    "positives = return_layer_input(model,model.classifier,'../../datasets/Structured/Beer/','positives')"
   ]
  },
  {
   "cell_type": "code",
   "execution_count": 25,
   "metadata": {
    "ExecuteTime": {
     "end_time": "2020-02-14T19:15:21.554018Z",
     "start_time": "2020-02-14T19:15:20.662138Z"
    }
   },
   "outputs": [
    {
     "name": "stderr",
     "output_type": "stream",
     "text": [
      "\n",
      "Reading and processing data from \"../../datasets/Structured/Beer/test_positives.csv\"\n",
      "0% [#############  ] 100% | ETA: 00:00:00"
     ]
    }
   ],
   "source": [
    "testpos = return_layer_input(model,model.classifier,'../../datasets/Structured/Beer/','test_positives')"
   ]
  },
  {
   "cell_type": "code",
   "execution_count": 26,
   "metadata": {
    "ExecuteTime": {
     "end_time": "2020-02-14T19:15:21.568718Z",
     "start_time": "2020-02-14T19:15:21.555788Z"
    }
   },
   "outputs": [],
   "source": [
    "classifier_len = len(list(positives.values())[0])\n",
    "attribute_len = int(classifier_len/len(attributes))"
   ]
  },
  {
   "cell_type": "markdown",
   "metadata": {},
   "source": [
    "## Negative analysis"
   ]
  },
  {
   "cell_type": "code",
   "execution_count": 28,
   "metadata": {
    "ExecuteTime": {
     "end_time": "2020-02-14T18:52:21.222536Z",
     "start_time": "2020-02-14T18:52:08.503933Z"
    }
   },
   "outputs": [
    {
     "name": "stderr",
     "output_type": "stream",
     "text": [
      "100%|██████████| 77/77 [00:12<00:00,  6.09it/s]\n"
     ]
    }
   ],
   "source": [
    "testneg_ri,testneg_ri_norms = computeRi(model.classifier,attributes,testneg,0)\n",
    "torch.save(testneg_ri,'experiment-results/testneg_ri_hybrid.pt')"
   ]
  },
  {
   "cell_type": "code",
   "execution_count": 16,
   "metadata": {
    "ExecuteTime": {
     "end_time": "2020-02-14T18:49:16.811568Z",
     "start_time": "2020-02-14T18:49:16.496141Z"
    }
   },
   "outputs": [
    {
     "data": {
      "text/plain": [
       "<matplotlib.axes._subplots.AxesSubplot at 0x7f30e8097630>"
      ]
     },
     "execution_count": 16,
     "metadata": {},
     "output_type": "execute_result"
    },
    {
     "data": {
      "image/png": "[encoded data removed]",
      "text/plain": [
       "<Figure size 432x288 with 1 Axes>"
      ]
     },
     "metadata": {
      "needs_background": "light"
     },
     "output_type": "display_data"
    }
   ],
   "source": [
    "neg_ri_norms.sum().plot.bar(color='red')"
   ]
  },
  {
   "cell_type": "code",
   "execution_count": 17,
   "metadata": {
    "ExecuteTime": {
     "end_time": "2020-02-14T18:49:36.511703Z",
     "start_time": "2020-02-14T18:49:36.472809Z"
    }
   },
   "outputs": [],
   "source": [
    "neg_ri_norms.to_csv('experiment-results/testneg_ri_norms_hybrid.csv',index=False)"
   ]
  },
  {
   "cell_type": "markdown",
   "metadata": {},
   "source": [
    "## Positive analysis"
   ]
  },
  {
   "cell_type": "code",
   "execution_count": 23,
   "metadata": {
    "ExecuteTime": {
     "end_time": "2020-02-14T18:50:47.943446Z",
     "start_time": "2020-02-14T18:50:46.464932Z"
    }
   },
   "outputs": [
    {
     "name": "stderr",
     "output_type": "stream",
     "text": [
      "100%|██████████| 14/14 [00:01<00:00,  9.74it/s]\n"
     ]
    }
   ],
   "source": [
    "testpos_ri,testpos_ri_norms = computeRi(model.classifier,attributes,testpos,1)\n",
    "torch.save(testpos_ri,'experiment-results/testpos_ri.pt')"
   ]
  },
  {
   "cell_type": "code",
   "execution_count": 20,
   "metadata": {
    "ExecuteTime": {
     "end_time": "2020-02-14T18:49:54.789829Z",
     "start_time": "2020-02-14T18:49:54.527919Z"
    }
   },
   "outputs": [
    {
     "data": {
      "text/plain": [
       "<matplotlib.axes._subplots.AxesSubplot at 0x7f30c4470e80>"
      ]
     },
     "execution_count": 20,
     "metadata": {},
     "output_type": "execute_result"
    },
    {
     "data": {
      "image/png": "[encoded data removed]",
      "text/plain": [
       "<Figure size 432x288 with 1 Axes>"
      ]
     },
     "metadata": {
      "needs_background": "light"
     },
     "output_type": "display_data"
    }
   ],
   "source": [
    "positives_variation_df = pd.DataFrame(data= pos_ri_norms,columns=attributes)\n",
    "positives_variation_df.sum().plot.bar(color='green')"
   ]
  },
  {
   "cell_type": "code",
   "execution_count": 22,
   "metadata": {
    "ExecuteTime": {
     "end_time": "2020-02-14T18:50:26.436742Z",
     "start_time": "2020-02-14T18:50:26.399518Z"
    }
   },
   "outputs": [],
   "source": [
    "pos_ri_norms.to_csv('experiment-results/testpos_ri_norms.csv',index=False)"
   ]
  },
  {
   "cell_type": "code",
   "execution_count": 27,
   "metadata": {
    "ExecuteTime": {
     "end_time": "2020-02-14T19:17:42.892802Z",
     "start_time": "2020-02-14T19:17:38.077032Z"
    }
   },
   "outputs": [
    {
     "name": "stderr",
     "output_type": "stream",
     "text": [
      "100%|██████████| 68/68 [00:04<00:00, 14.32it/s]\n"
     ]
    }
   ],
   "source": [
    "pos_ri,pos_ri_norms = computeRi(model.classifier,attributes,positives,1)\n",
    "torch.save(pos_ri,'experiment-results/pos_ri.pt')"
   ]
  },
  {
   "cell_type": "markdown",
   "metadata": {},
   "source": [
    "## Compute closer vectors"
   ]
  },
  {
   "cell_type": "markdown",
   "metadata": {},
   "source": [
    "### Considering all samples"
   ]
  },
  {
   "cell_type": "code",
   "execution_count": 29,
   "metadata": {
    "ExecuteTime": {
     "end_time": "2020-02-14T19:18:50.494797Z",
     "start_time": "2020-02-14T19:18:50.462521Z"
    }
   },
   "outputs": [],
   "source": [
    "from utils.distance_measures import nearestNeighborsOnAttribute"
   ]
  },
  {
   "cell_type": "code",
   "execution_count": 26,
   "metadata": {},
   "outputs": [],
   "source": [
    "##run this cell to load precomputed ri\n",
    "positives_ri = torch.load('experiment-results/pos_ri.pt')\n",
    "negatives_ri = torch.load('experiment-results/neg_ri.pt')"
   ]
  },
  {
   "cell_type": "code",
   "execution_count": 26,
   "metadata": {
    "ExecuteTime": {
     "end_time": "2020-02-14T18:51:39.417967Z",
     "start_time": "2020-02-14T18:51:39.328341Z"
    }
   },
   "outputs": [
    {
     "name": "stderr",
     "output_type": "stream",
     "text": [
      "100%|██████████| 14/14 [00:00<00:00, 363.79it/s]\n"
     ]
    }
   ],
   "source": [
    "testpos_nn = nearestNeighborsOnAttribute(testpos,testpos_ri,\n",
    "                                                       negatives,attributes,attribute_len)"
   ]
  },
  {
   "cell_type": "code",
   "execution_count": 30,
   "metadata": {
    "ExecuteTime": {
     "end_time": "2020-02-14T19:18:52.627997Z",
     "start_time": "2020-02-14T19:18:52.418410Z"
    }
   },
   "outputs": [
    {
     "name": "stderr",
     "output_type": "stream",
     "text": [
      "100%|██████████| 68/68 [00:00<00:00, 420.56it/s]\n"
     ]
    }
   ],
   "source": [
    "positives_nn = nearestNeighborsOnAttribute(positives,pos_ri,\n",
    "                                                       negatives,attributes,attribute_len)"
   ]
  },
  {
   "cell_type": "code",
   "execution_count": 29,
   "metadata": {
    "ExecuteTime": {
     "end_time": "2020-02-14T18:52:26.087888Z",
     "start_time": "2020-02-14T18:52:25.870134Z"
    }
   },
   "outputs": [
    {
     "name": "stderr",
     "output_type": "stream",
     "text": [
      "100%|██████████| 77/77 [00:00<00:00, 497.15it/s]\n"
     ]
    }
   ],
   "source": [
    "testneg_nn = nearestNeighborsOnAttribute(testneg,testneg_ri,\n",
    "                                                        positives,attributes,attribute_len)"
   ]
  },
  {
   "cell_type": "code",
   "execution_count": 30,
   "metadata": {
    "ExecuteTime": {
     "end_time": "2020-02-14T18:52:39.655351Z",
     "start_time": "2020-02-14T18:52:39.616931Z"
    }
   },
   "outputs": [],
   "source": [
    "testpos_nn.to_csv('experiment-results/testpos_NNhybrid.csv',index=False)\n",
    "testneg_nn.to_csv('experiment-results/testneg_NNhybrid.csv',index=False)"
   ]
  },
  {
   "cell_type": "code",
   "execution_count": 31,
   "metadata": {
    "ExecuteTime": {
     "end_time": "2020-02-14T19:19:17.792678Z",
     "start_time": "2020-02-14T19:19:17.755082Z"
    }
   },
   "outputs": [],
   "source": [
    "positives_nn.to_csv('experiment-results/positives_NN_hybrid.csv',index=False)"
   ]
  },
  {
   "cell_type": "code",
   "execution_count": null,
   "metadata": {},
   "outputs": [],
   "source": []
  },
  {
   "cell_type": "markdown",
   "metadata": {},
   "source": [
    "## Extract patterns"
   ]
  },
  {
   "cell_type": "code",
   "execution_count": 14,
   "metadata": {
    "ExecuteTime": {
     "end_time": "2020-02-14T19:13:43.132339Z",
     "start_time": "2020-02-14T19:13:43.100406Z"
    }
   },
   "outputs": [],
   "source": [
    "import collections\n",
    "from collections import OrderedDict"
   ]
  },
  {
   "cell_type": "code",
   "execution_count": 15,
   "metadata": {
    "ExecuteTime": {
     "end_time": "2020-02-14T19:13:43.633277Z",
     "start_time": "2020-02-14T19:13:43.596028Z"
    }
   },
   "outputs": [],
   "source": [
    "def countTokens(attributes):\n",
    "    allTokens = {}\n",
    "    for attr in attributes:\n",
    "        tokens = list(map(lambda s:s.lower(),attr.split()))\n",
    "        for tok in tokens:\n",
    "            if tok in allTokens:\n",
    "                allTokens[tok] += 1\n",
    "            else:\n",
    "                allTokens[tok] = 1\n",
    "    allOrderedTokens = OrderedDict(sorted(allTokens.items(), key=lambda t: t[1]))\n",
    "    return allOrderedTokens"
   ]
  },
  {
   "cell_type": "code",
   "execution_count": 35,
   "metadata": {
    "ExecuteTime": {
     "end_time": "2020-02-14T19:20:41.162228Z",
     "start_time": "2020-02-14T19:20:41.111865Z"
    }
   },
   "outputs": [],
   "source": [
    "testpos_nn = pd.read_csv('experiment-results/testpos_NNhybrid.csv')\n",
    "positives_nn = pd.read_csv('experiment-results/positives_NN_hybrid.csv')\n",
    "negatives = pd.read_csv('../../datasets/Structured/Beer/negatives.csv')"
   ]
  },
  {
   "cell_type": "code",
   "execution_count": 36,
   "metadata": {
    "ExecuteTime": {
     "end_time": "2020-02-14T19:21:12.188155Z",
     "start_time": "2020-02-14T19:21:12.143731Z"
    }
   },
   "outputs": [],
   "source": [
    "testpos_nn_values = testpos_nn.merge(negatives,left_on='Beer_Name',right_on='id')\n",
    "positives_nn_values = positives_nn.merge(negatives,left_on='Beer_Name',right_on='id')"
   ]
  },
  {
   "cell_type": "code",
   "execution_count": 38,
   "metadata": {
    "ExecuteTime": {
     "end_time": "2020-02-14T19:26:28.896781Z",
     "start_time": "2020-02-14T19:26:28.860434Z"
    }
   },
   "outputs": [
    {
     "data": {
      "text/plain": [
       "[('ale', 9), ('red', 8), ('amber', 6), ('fire', 3), ('brew', 3)]"
      ]
     },
     "execution_count": 38,
     "metadata": {},
     "output_type": "execute_result"
    }
   ],
   "source": [
    "collections.Counter(countTokens(testpos_nn_values.ltable_Beer_Name.values)).most_common(5)"
   ]
  },
  {
   "cell_type": "code",
   "execution_count": 39,
   "metadata": {
    "ExecuteTime": {
     "end_time": "2020-02-14T19:26:40.658861Z",
     "start_time": "2020-02-14T19:26:40.618915Z"
    }
   },
   "outputs": [
    {
     "data": {
      "text/plain": [
       "[('ale', 9), ('red', 8), ('amber', 6), ('conshohocken', 3), ('hale', 3)]"
      ]
     },
     "execution_count": 39,
     "metadata": {},
     "output_type": "execute_result"
    }
   ],
   "source": [
    "collections.Counter(countTokens(testpos_nn_values.rtable_Beer_Name.values)).most_common(5)"
   ]
  },
  {
   "cell_type": "code",
   "execution_count": 40,
   "metadata": {
    "ExecuteTime": {
     "end_time": "2020-02-14T19:26:56.790818Z",
     "start_time": "2020-02-14T19:26:56.754355Z"
    }
   },
   "outputs": [
    {
     "data": {
      "text/plain": [
       "[('ale', 41), ('red', 35), ('amber', 19), ('the', 14), ('legends', 12)]"
      ]
     },
     "execution_count": 40,
     "metadata": {},
     "output_type": "execute_result"
    }
   ],
   "source": [
    "collections.Counter(countTokens(positives_nn_values.ltable_Beer_Name.values)).most_common(5)"
   ]
  },
  {
   "cell_type": "code",
   "execution_count": 41,
   "metadata": {
    "ExecuteTime": {
     "end_time": "2020-02-14T19:27:09.613360Z",
     "start_time": "2020-02-14T19:27:09.579322Z"
    }
   },
   "outputs": [
    {
     "data": {
      "text/plain": [
       "[('ale', 41), ('red', 34), ('of', 24), ('amber', 19), ('the', 13)]"
      ]
     },
     "execution_count": 41,
     "metadata": {},
     "output_type": "execute_result"
    }
   ],
   "source": [
    "collections.Counter(countTokens(positives_nn_values.rtable_Beer_Name.values)).most_common(5)"
   ]
  },
  {
   "cell_type": "code",
   "execution_count": null,
   "metadata": {},
   "outputs": [],
   "source": []
  }
 ],
 "metadata": {
  "kernelspec": {
   "display_name": "Python 3",
   "language": "python",
   "name": "python3"
  },
  "language_info": {
   "codemirror_mode": {
    "name": "ipython",
    "version": 3
   },
   "file_extension": ".py",
   "mimetype": "text/x-python",
   "name": "python",
   "nbconvert_exporter": "python",
   "pygments_lexer": "ipython3",
   "version": "3.6.10"
  },
  "toc": {
   "base_numbering": 1,
   "nav_menu": {},
   "number_sections": true,
   "sideBar": true,
   "skip_h1_title": false,
   "title_cell": "Table of Contents",
   "title_sidebar": "Contents",
   "toc_cell": false,
   "toc_position": {},
   "toc_section_display": true,
   "toc_window_display": true
  }
 },
 "nbformat": 4,
 "nbformat_minor": 2
}

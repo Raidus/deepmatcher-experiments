{
 "cells": [
  {
   "cell_type": "code",
   "execution_count": 3,
   "metadata": {},
   "outputs": [],
   "source": [
    "import sys\n",
    "sys.path.append('../..')"
   ]
  },
  {
   "cell_type": "code",
   "execution_count": 4,
   "metadata": {},
   "outputs": [],
   "source": [
    "import pandas as pd"
   ]
  },
  {
   "cell_type": "code",
   "execution_count": 6,
   "metadata": {},
   "outputs": [],
   "source": [
    "def appendPrefix(attribute,prefix):\n",
    "    return list(map(lambda s:prefix+s,attribute.split()))"
   ]
  },
  {
   "cell_type": "code",
   "execution_count": 7,
   "metadata": {},
   "outputs": [],
   "source": [
    "def preProcessNeighbors(nn,opposite_label_data,attribute):\n",
    "    nn_values = pd.merge(nn,opposite_label_data,left_on=attribute,right_on='id')\n",
    "    left_values, right_values  = nn_values['ltable_'+attribute],nn_values['rtable_'+attribute]\n",
    "    left_values_prefixed = list(map(lambda att:tuple(appendPrefix(att,'L_')),left_values))\n",
    "    right_values_prefixed = list(map(lambda att:tuple(appendPrefix(att,'R_')),right_values))\n",
    "    return left_values_prefixed,right_values_prefixed"
   ]
  },
  {
   "cell_type": "code",
   "execution_count": 15,
   "metadata": {},
   "outputs": [],
   "source": [
    "pos_nn = pd.read_csv('experiment-results/positives_nn_onlytrain_hybrid.csv')\n",
    "train_neg = pd.read_csv('../../Structured/Beer/train_negatives.csv')\n",
    "lval,rval = preProcessNeighbors(pos_nn,train_neg,'Beer_Name')\n",
    "transactions = list(map(lambda l,r:l+r,lval,rval))"
   ]
  },
  {
   "cell_type": "code",
   "execution_count": 23,
   "metadata": {},
   "outputs": [
    {
     "name": "stdout",
     "output_type": "stream",
     "text": [
      "{L_Red, R_Red} -> {L_Ale, R_Ale} (conf: 0.919, supp: 0.500, lift: 1.041, conv: 1.451)\n",
      "{L_Amber, R_Amber} -> {L_Ale, R_Ale} (conf: 1.000, supp: 0.397, lift: 1.133, conv: 117647058.824)\n",
      "{L_Red, R_Imperial} -> {L_Ale, R_Ale} (conf: 1.000, supp: 0.338, lift: 1.133, conv: 117647058.824)\n",
      "{R_Imperial, R_Red} -> {L_Ale, R_Ale} (conf: 1.000, supp: 0.338, lift: 1.133, conv: 117647058.824)\n",
      "{L_Imperial, L_Red} -> {L_Ale, R_Ale} (conf: 1.000, supp: 0.324, lift: 1.133, conv: 117647058.824)\n",
      "{L_Imperial, R_Imperial} -> {L_Ale, R_Ale} (conf: 1.000, supp: 0.324, lift: 1.133, conv: 117647058.824)\n",
      "{L_Imperial, R_Red} -> {L_Ale, R_Ale} (conf: 1.000, supp: 0.324, lift: 1.133, conv: 117647058.824)\n",
      "{L_Ale, L_Imperial} -> {L_Red, R_Red} (conf: 1.000, supp: 0.324, lift: 1.838, conv: 455882352.941)\n",
      "{L_Ale, R_Imperial} -> {L_Red, R_Red} (conf: 1.000, supp: 0.338, lift: 1.838, conv: 455882352.941)\n",
      "{L_Imperial, R_Ale} -> {L_Red, R_Red} (conf: 1.000, supp: 0.324, lift: 1.838, conv: 455882352.941)\n",
      "{L_Imperial, R_Imperial} -> {L_Red, R_Red} (conf: 1.000, supp: 0.324, lift: 1.838, conv: 455882352.941)\n",
      "{R_Ale, R_Imperial} -> {L_Red, R_Red} (conf: 1.000, supp: 0.338, lift: 1.838, conv: 455882352.941)\n",
      "{R_Ale, R_Red} -> {L_Ale, L_Red} (conf: 0.971, supp: 0.500, lift: 1.887, conv: 16.985)\n",
      "{L_Red, R_Ale} -> {L_Ale, R_Red} (conf: 0.971, supp: 0.500, lift: 1.887, conv: 16.985)\n",
      "{L_Ale, R_Red} -> {L_Red, R_Ale} (conf: 0.971, supp: 0.500, lift: 1.887, conv: 16.985)\n",
      "{L_Ale, L_Red} -> {R_Ale, R_Red} (conf: 0.971, supp: 0.500, lift: 1.887, conv: 16.985)\n",
      "{L_Imperial, R_Ale} -> {L_Ale, L_Red} (conf: 1.000, supp: 0.324, lift: 1.943, conv: 485294117.647)\n",
      "{L_Ale, L_Imperial} -> {L_Red, R_Ale} (conf: 1.000, supp: 0.324, lift: 1.943, conv: 485294117.647)\n",
      "{L_Imperial, R_Imperial} -> {L_Ale, L_Red} (conf: 1.000, supp: 0.324, lift: 1.943, conv: 485294117.647)\n",
      "{L_Imperial, R_Red} -> {L_Ale, L_Red} (conf: 1.000, supp: 0.324, lift: 1.943, conv: 485294117.647)\n",
      "{L_Imperial, L_Red} -> {L_Ale, R_Red} (conf: 1.000, supp: 0.324, lift: 1.943, conv: 485294117.647)\n",
      "{L_Imperial, R_Ale} -> {L_Ale, R_Red} (conf: 1.000, supp: 0.324, lift: 1.943, conv: 485294117.647)\n",
      "{L_Ale, L_Imperial} -> {R_Ale, R_Red} (conf: 1.000, supp: 0.324, lift: 1.943, conv: 485294117.647)\n",
      "{L_Imperial, R_Imperial} -> {L_Ale, R_Red} (conf: 1.000, supp: 0.324, lift: 1.943, conv: 485294117.647)\n",
      "{R_Ale, R_Imperial} -> {L_Ale, L_Red} (conf: 1.000, supp: 0.338, lift: 1.943, conv: 485294117.647)\n",
      "{L_Ale, R_Imperial} -> {L_Red, R_Ale} (conf: 1.000, supp: 0.338, lift: 1.943, conv: 485294117.647)\n",
      "{R_Imperial, R_Red} -> {L_Ale, L_Red} (conf: 1.000, supp: 0.338, lift: 1.943, conv: 485294117.647)\n",
      "{L_Red, R_Imperial} -> {L_Ale, R_Red} (conf: 1.000, supp: 0.338, lift: 1.943, conv: 485294117.647)\n",
      "{R_Ale, R_Imperial} -> {L_Ale, R_Red} (conf: 1.000, supp: 0.338, lift: 1.943, conv: 485294117.647)\n",
      "{L_Ale, R_Imperial} -> {R_Ale, R_Red} (conf: 1.000, supp: 0.338, lift: 1.943, conv: 485294117.647)\n",
      "{L_Imperial, R_Imperial} -> {L_Red, R_Ale} (conf: 1.000, supp: 0.324, lift: 1.943, conv: 485294117.647)\n",
      "{L_Imperial, R_Red} -> {L_Red, R_Ale} (conf: 1.000, supp: 0.324, lift: 1.943, conv: 485294117.647)\n",
      "{L_Imperial, L_Red} -> {R_Ale, R_Red} (conf: 1.000, supp: 0.324, lift: 1.943, conv: 485294117.647)\n",
      "{L_Imperial, R_Imperial} -> {R_Ale, R_Red} (conf: 1.000, supp: 0.324, lift: 1.943, conv: 485294117.647)\n",
      "{R_Imperial, R_Red} -> {L_Red, R_Ale} (conf: 1.000, supp: 0.338, lift: 1.943, conv: 485294117.647)\n",
      "{L_Red, R_Imperial} -> {R_Ale, R_Red} (conf: 1.000, supp: 0.338, lift: 1.943, conv: 485294117.647)\n",
      "{R_Ale, R_Amber} -> {L_Ale, L_Amber} (conf: 1.000, supp: 0.397, lift: 2.429, conv: 588235294.118)\n",
      "{L_Amber, R_Ale} -> {L_Ale, R_Amber} (conf: 0.964, supp: 0.397, lift: 2.429, conv: 16.882)\n",
      "{L_Ale, R_Amber} -> {L_Amber, R_Ale} (conf: 1.000, supp: 0.397, lift: 2.429, conv: 588235294.118)\n",
      "{L_Ale, L_Amber} -> {R_Ale, R_Amber} (conf: 0.964, supp: 0.397, lift: 2.429, conv: 16.882)\n",
      "{L_Red, R_Imperial} -> {L_Ale, L_Imperial} (conf: 0.957, supp: 0.324, lift: 2.957, conv: 15.559)\n",
      "{L_Imperial, L_Red} -> {L_Ale, R_Imperial} (conf: 1.000, supp: 0.324, lift: 2.957, conv: 661764705.882)\n",
      "{L_Ale, R_Imperial} -> {L_Imperial, L_Red} (conf: 0.957, supp: 0.324, lift: 2.957, conv: 15.559)\n",
      "{L_Ale, L_Imperial} -> {L_Red, R_Imperial} (conf: 1.000, supp: 0.324, lift: 2.957, conv: 661764705.882)\n",
      "{R_Ale, R_Imperial} -> {L_Ale, L_Imperial} (conf: 0.957, supp: 0.324, lift: 2.957, conv: 15.559)\n",
      "{L_Imperial, R_Ale} -> {L_Ale, R_Imperial} (conf: 1.000, supp: 0.324, lift: 2.957, conv: 661764705.882)\n",
      "{L_Ale, R_Imperial} -> {L_Imperial, R_Ale} (conf: 0.957, supp: 0.324, lift: 2.957, conv: 15.559)\n",
      "{L_Ale, L_Imperial} -> {R_Ale, R_Imperial} (conf: 1.000, supp: 0.324, lift: 2.957, conv: 661764705.882)\n",
      "{R_Imperial, R_Red} -> {L_Ale, L_Imperial} (conf: 0.957, supp: 0.324, lift: 2.957, conv: 15.559)\n",
      "{L_Imperial, R_Red} -> {L_Ale, R_Imperial} (conf: 1.000, supp: 0.324, lift: 2.957, conv: 661764705.882)\n",
      "{L_Ale, R_Imperial} -> {L_Imperial, R_Red} (conf: 0.957, supp: 0.324, lift: 2.957, conv: 15.559)\n",
      "{L_Ale, L_Imperial} -> {R_Imperial, R_Red} (conf: 1.000, supp: 0.324, lift: 2.957, conv: 661764705.882)\n",
      "{R_Ale, R_Imperial} -> {L_Imperial, L_Red} (conf: 0.957, supp: 0.324, lift: 2.957, conv: 15.559)\n",
      "{L_Red, R_Imperial} -> {L_Imperial, R_Ale} (conf: 0.957, supp: 0.324, lift: 2.957, conv: 15.559)\n",
      "{L_Imperial, R_Ale} -> {L_Red, R_Imperial} (conf: 1.000, supp: 0.324, lift: 2.957, conv: 661764705.882)\n",
      "{L_Imperial, L_Red} -> {R_Ale, R_Imperial} (conf: 1.000, supp: 0.324, lift: 2.957, conv: 661764705.882)\n",
      "{R_Imperial, R_Red} -> {L_Imperial, L_Red} (conf: 0.957, supp: 0.324, lift: 2.957, conv: 15.559)\n",
      "{L_Red, R_Imperial} -> {L_Imperial, R_Red} (conf: 0.957, supp: 0.324, lift: 2.957, conv: 15.559)\n",
      "{L_Imperial, R_Red} -> {L_Red, R_Imperial} (conf: 1.000, supp: 0.324, lift: 2.957, conv: 661764705.882)\n",
      "{L_Imperial, L_Red} -> {R_Imperial, R_Red} (conf: 1.000, supp: 0.324, lift: 2.957, conv: 661764705.882)\n",
      "{R_Imperial, R_Red} -> {L_Imperial, R_Ale} (conf: 0.957, supp: 0.324, lift: 2.957, conv: 15.559)\n",
      "{R_Ale, R_Imperial} -> {L_Imperial, R_Red} (conf: 0.957, supp: 0.324, lift: 2.957, conv: 15.559)\n",
      "{L_Imperial, R_Red} -> {R_Ale, R_Imperial} (conf: 1.000, supp: 0.324, lift: 2.957, conv: 661764705.882)\n",
      "{L_Imperial, R_Ale} -> {R_Imperial, R_Red} (conf: 1.000, supp: 0.324, lift: 2.957, conv: 661764705.882)\n"
     ]
    }
   ],
   "source": [
    "from efficient_apriori import apriori\n",
    "itemsets, rules = apriori(transactions, min_support=0.2,  min_confidence=0.8)\n",
    "\n",
    "# Print out every rule with 2 items on the left hand side,\n",
    "# 1 item on the right hand side, sorted by lift\n",
    "rules_rhs = filter(lambda rule: len(rule.lhs) == 2 and len(rule.rhs)==2, rules)\n",
    "for rule in sorted(rules_rhs, key=lambda rule: rule.lift):\n",
    "  print(rule) # Prints the rule and its confidence, support, lift, ..."
   ]
  }
 ],
 "metadata": {
  "kernelspec": {
   "display_name": "Python 3",
   "language": "python",
   "name": "python3"
  },
  "language_info": {
   "codemirror_mode": {
    "name": "ipython",
    "version": 3
   },
   "file_extension": ".py",
   "mimetype": "text/x-python",
   "name": "python",
   "nbconvert_exporter": "python",
   "pygments_lexer": "ipython3",
   "version": "3.6.9"
  }
 },
 "nbformat": 4,
 "nbformat_minor": 2
}

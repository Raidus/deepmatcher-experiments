{
 "cells": [
  {
   "cell_type": "code",
   "execution_count": 32,
   "metadata": {
    "ExecuteTime": {
     "end_time": "2020-02-27T13:39:27.889407Z",
     "start_time": "2020-02-27T13:39:27.834486Z"
    }
   },
   "outputs": [],
   "source": [
    "%load_ext autoreload\n",
    "%autoreload 2"
   ]
  },
  {
   "cell_type": "code",
   "execution_count": 3,
   "metadata": {
    "ExecuteTime": {
     "end_time": "2020-02-27T13:15:21.544815Z",
     "start_time": "2020-02-27T13:15:21.539687Z"
    }
   },
   "outputs": [],
   "source": [
    "import sys\n",
    "sys.path.append('../..')"
   ]
  },
  {
   "cell_type": "code",
   "execution_count": 66,
   "metadata": {
    "ExecuteTime": {
     "end_time": "2020-02-27T14:11:16.735838Z",
     "start_time": "2020-02-27T14:11:16.702196Z"
    }
   },
   "outputs": [],
   "source": [
    "import deepmatcher as dm\n",
    "import pandas as pd\n",
    "from utils.dataset_parser import generate_unlabeled,dropTokensInColumns\n",
    "import itertools\n",
    "from utils.deepmatcher_utils import wrapDm"
   ]
  },
  {
   "cell_type": "code",
   "execution_count": 4,
   "metadata": {
    "ExecuteTime": {
     "end_time": "2020-02-27T13:16:49.491206Z",
     "start_time": "2020-02-27T13:16:49.443405Z"
    }
   },
   "outputs": [],
   "source": [
    "DATA_DIR = '../../datasets/Structured/Beer/'\n",
    "tableA = pd.read_csv(DATA_DIR+'tableA.csv')\n",
    "tableB = pd.read_csv(DATA_DIR+'tableB.csv')"
   ]
  },
  {
   "cell_type": "code",
   "execution_count": 20,
   "metadata": {
    "ExecuteTime": {
     "end_time": "2020-02-27T13:32:00.291265Z",
     "start_time": "2020-02-27T13:32:00.285333Z"
    }
   },
   "outputs": [],
   "source": [
    "def containTokens(attribute,tokens):\n",
    "    attr_tokens = set(map(lambda t:t.lower(),attribute.split()))\n",
    "    return set(tokens).issubset(attr_tokens)"
   ]
  },
  {
   "cell_type": "code",
   "execution_count": 26,
   "metadata": {
    "ExecuteTime": {
     "end_time": "2020-02-27T13:34:53.951260Z",
     "start_time": "2020-02-27T13:34:53.945247Z"
    }
   },
   "outputs": [],
   "source": [
    "def filterTable(table,attribute,tokens):\n",
    "    filter_row = list(map(lambda attr:containTokens(attr,tokens),table[attribute].values))\n",
    "    return table[filter_row].copy()"
   ]
  },
  {
   "cell_type": "code",
   "execution_count": null,
   "metadata": {},
   "outputs": [],
   "source": []
  },
  {
   "cell_type": "code",
   "execution_count": 30,
   "metadata": {
    "ExecuteTime": {
     "end_time": "2020-02-27T13:35:57.284324Z",
     "start_time": "2020-02-27T13:35:57.239147Z"
    }
   },
   "outputs": [
    {
     "data": {
      "text/plain": [
       "(58, 47)"
      ]
     },
     "execution_count": 30,
     "metadata": {},
     "output_type": "execute_result"
    }
   ],
   "source": [
    "filteredTableA = filterTable(tableA,'Beer_Name',['imperial','red','ale'])\n",
    "filteredTableB = filterTable(tableB,'Beer_Name',['imperial','red','ale'])\n",
    "len(filteredTableA),len(filteredTableB)"
   ]
  },
  {
   "cell_type": "code",
   "execution_count": 48,
   "metadata": {
    "ExecuteTime": {
     "end_time": "2020-02-27T13:50:27.468205Z",
     "start_time": "2020-02-27T13:50:27.382736Z"
    }
   },
   "outputs": [],
   "source": [
    "unlabeled_ids = list(itertools.product(filteredTableA.id.values,filteredTableB.id.values))\n",
    "unlabeled_df = pd.DataFrame(unlabeled_ids,columns=['ltable_id','rtable_id'])\n",
    "unlabeled_df.to_csv(DATA_DIR+'unlabeled_ids.csv',index=False)"
   ]
  },
  {
   "cell_type": "code",
   "execution_count": 49,
   "metadata": {
    "ExecuteTime": {
     "end_time": "2020-02-27T13:50:29.252519Z",
     "start_time": "2020-02-27T13:50:29.166161Z"
    }
   },
   "outputs": [],
   "source": [
    "unlabeled_values = generate_unlabeled(DATA_DIR,'unlabeled_ids.csv')"
   ]
  },
  {
   "cell_type": "code",
   "execution_count": 50,
   "metadata": {
    "ExecuteTime": {
     "end_time": "2020-02-27T13:50:31.620317Z",
     "start_time": "2020-02-27T13:50:31.535240Z"
    }
   },
   "outputs": [],
   "source": [
    "unlabeled_values.to_csv(DATA_DIR+'unlabeled.csv',index=False)"
   ]
  },
  {
   "cell_type": "code",
   "execution_count": 67,
   "metadata": {
    "ExecuteTime": {
     "end_time": "2020-02-27T14:12:13.520130Z",
     "start_time": "2020-02-27T14:12:13.434554Z"
    }
   },
   "outputs": [],
   "source": [
    "unlabeled_without_pattern = dropTokensInColumns(unlabeled_values,['ltable_Beer_Name','rtable_Beer_Name'],\n",
    "                                               ['imperial','red','ale'])"
   ]
  },
  {
   "cell_type": "code",
   "execution_count": 69,
   "metadata": {
    "ExecuteTime": {
     "end_time": "2020-02-27T14:12:36.852106Z",
     "start_time": "2020-02-27T14:12:36.387095Z"
    }
   },
   "outputs": [],
   "source": [
    "model_hybrid = dm.MatchingModel(attr_summarizer='hybrid')\n",
    "model_hybrid.load_state('../../models/beer_hybrid.pth')\n",
    "model_hybrid = model_hybrid.to('cuda')"
   ]
  },
  {
   "cell_type": "code",
   "execution_count": 75,
   "metadata": {
    "ExecuteTime": {
     "end_time": "2020-02-27T14:17:45.236947Z",
     "start_time": "2020-02-27T14:17:45.048659Z"
    }
   },
   "outputs": [],
   "source": [
    "model_rnn = dm.MatchingModel(attr_summarizer='rnn')\n",
    "model_rnn.load_state('../../models/beer_rnn.pth')\n",
    "model_rnn = model_hybrid.to('cuda')"
   ]
  },
  {
   "cell_type": "code",
   "execution_count": 79,
   "metadata": {
    "ExecuteTime": {
     "end_time": "2020-02-27T14:19:01.000743Z",
     "start_time": "2020-02-27T14:18:49.423511Z"
    }
   },
   "outputs": [],
   "source": [
    "prediction_rnn = wrapDm(unlabeled_values,model_rnn,outputAttributes=True)"
   ]
  },
  {
   "cell_type": "code",
   "execution_count": 80,
   "metadata": {
    "ExecuteTime": {
     "end_time": "2020-02-27T14:19:01.026074Z",
     "start_time": "2020-02-27T14:19:01.002889Z"
    },
    "scrolled": true
   },
   "outputs": [
    {
     "data": {
      "text/html": [
       "<div>\n",
       "<style scoped>\n",
       "    .dataframe tbody tr th:only-of-type {\n",
       "        vertical-align: middle;\n",
       "    }\n",
       "\n",
       "    .dataframe tbody tr th {\n",
       "        vertical-align: top;\n",
       "    }\n",
       "\n",
       "    .dataframe thead th {\n",
       "        text-align: right;\n",
       "    }\n",
       "</style>\n",
       "<table border=\"1\" class=\"dataframe\">\n",
       "  <thead>\n",
       "    <tr style=\"text-align: right;\">\n",
       "      <th></th>\n",
       "      <th>match_score</th>\n",
       "      <th>ltable_Beer_Name</th>\n",
       "      <th>ltable_Brew_Factory_Name</th>\n",
       "      <th>ltable_Style</th>\n",
       "      <th>ltable_ABV</th>\n",
       "      <th>rtable_Beer_Name</th>\n",
       "      <th>rtable_Brew_Factory_Name</th>\n",
       "      <th>rtable_Style</th>\n",
       "      <th>rtable_ABV</th>\n",
       "    </tr>\n",
       "    <tr>\n",
       "      <th>id</th>\n",
       "      <th></th>\n",
       "      <th></th>\n",
       "      <th></th>\n",
       "      <th></th>\n",
       "      <th></th>\n",
       "      <th></th>\n",
       "      <th></th>\n",
       "      <th></th>\n",
       "      <th></th>\n",
       "    </tr>\n",
       "  </thead>\n",
       "  <tbody>\n",
       "  </tbody>\n",
       "</table>\n",
       "</div>"
      ],
      "text/plain": [
       "Empty DataFrame\n",
       "Columns: [match_score, ltable_Beer_Name, ltable_Brew_Factory_Name, ltable_Style, ltable_ABV, rtable_Beer_Name, rtable_Brew_Factory_Name, rtable_Style, rtable_ABV]\n",
       "Index: []"
      ]
     },
     "execution_count": 80,
     "metadata": {},
     "output_type": "execute_result"
    }
   ],
   "source": [
    "prediction_rnn[(prediction_rnn.match_score>0.5)]"
   ]
  },
  {
   "cell_type": "code",
   "execution_count": null,
   "metadata": {},
   "outputs": [],
   "source": []
  }
 ],
 "metadata": {
  "kernelspec": {
   "display_name": "Python 3",
   "language": "python",
   "name": "python3"
  },
  "language_info": {
   "codemirror_mode": {
    "name": "ipython",
    "version": 3
   },
   "file_extension": ".py",
   "mimetype": "text/x-python",
   "name": "python",
   "nbconvert_exporter": "python",
   "pygments_lexer": "ipython3",
   "version": "3.6.10"
  },
  "toc": {
   "base_numbering": 1,
   "nav_menu": {},
   "number_sections": true,
   "sideBar": true,
   "skip_h1_title": false,
   "title_cell": "Table of Contents",
   "title_sidebar": "Contents",
   "toc_cell": false,
   "toc_position": {},
   "toc_section_display": true,
   "toc_window_display": false
  }
 },
 "nbformat": 4,
 "nbformat_minor": 4
}

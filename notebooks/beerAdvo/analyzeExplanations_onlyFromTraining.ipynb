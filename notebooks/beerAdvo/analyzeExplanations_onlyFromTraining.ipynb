{
 "cells": [
  {
   "cell_type": "code",
   "execution_count": 1,
   "metadata": {},
   "outputs": [],
   "source": [
    "%load_ext autoreload\n",
    "%autoreload 2"
   ]
  },
  {
   "cell_type": "code",
   "execution_count": 2,
   "metadata": {},
   "outputs": [],
   "source": [
    "import sys\n",
    "sys.path.append('../..')"
   ]
  },
  {
   "cell_type": "code",
   "execution_count": 10,
   "metadata": {},
   "outputs": [],
   "source": [
    "!mkdir temp"
   ]
  },
  {
   "cell_type": "code",
   "execution_count": 3,
   "metadata": {},
   "outputs": [],
   "source": [
    "from utils.explainer import generateExplanations\n",
    "import pandas as pd\n",
    "import deepmatcher as dm"
   ]
  },
  {
   "cell_type": "code",
   "execution_count": 4,
   "metadata": {},
   "outputs": [],
   "source": [
    "selected_attributes =['Beer_Name','Brew_Factory_Name']"
   ]
  },
  {
   "cell_type": "code",
   "execution_count": 5,
   "metadata": {},
   "outputs": [],
   "source": [
    "pos_nn_hybrid = pd.read_csv('experiment-results/positives_nn_onlytrain_hybrid.csv')\n",
    "negatives = pd.read_csv('../../Structured/Beer/negatives.csv')"
   ]
  },
  {
   "cell_type": "code",
   "execution_count": 6,
   "metadata": {},
   "outputs": [],
   "source": [
    "hybrid_model = dm.MatchingModel(attr_summarizer='hybrid')\n",
    "hybrid_model.load_state('../../models/beer_hybrid.pth')"
   ]
  },
  {
   "cell_type": "code",
   "execution_count": 11,
   "metadata": {},
   "outputs": [],
   "source": [
    "%%capture\n",
    "criticalValues_pos_hybrid = {}\n",
    "for att in selected_attributes:\n",
    "    critical_values = generateExplanations(pos_nn_hybrid,negatives,att,hybrid_model,10,0.03,\n",
    "                                          '../../Structured/Beer/positives.csv',1)\n",
    "    criticalValues_pos_hybrid[att] = critical_values"
   ]
  },
  {
   "cell_type": "code",
   "execution_count": 13,
   "metadata": {},
   "outputs": [
    {
     "name": "stdout",
     "output_type": "stream",
     "text": [
      "('Photobomb Imperial Red Ale', 'Fulton The Libertine Imperial Red Ale - Heaven Hill Rye Whiskey Barrel Aged')\n",
      "('Rhino Chaser Imperial Red Ale', 'Lagunitas Imperial Red Ale')\n",
      "('Pioneer American Red Ale', 'Fat Bottom Ruby Red American Ale')\n",
      "('Red Hopper ( Imperial Red Ale )', 'Worthy Eruption Imperial Red Ale')\n",
      "('Jurassic Duck Amber Ale ( dry Hopped With Mosaic )', 'Nighthawk 16-Hour Dry Hopped Amber')\n",
      "('Broadhead Bourbon Barrel Aged Red', 'MadTree Bourbon Barrel Aged Happy Amber')\n",
      "('Deranger Imperial Red Ale', '406 Imperial Red Ale')\n",
      "('Ruby River Ruby Red Ale', 'Pine Creek River Valley Red Ale')\n",
      "('Sequoia American Amber Ale', 'Aarhus Cains Triple A American Amber Ale')\n",
      "('Ro Shampo Imperial Red Ale', 'Ballast Point Tongue Buckler Imperial Red Ale - Bourbon Barrel Aged')\n"
     ]
    }
   ],
   "source": [
    "for df,lval,rval in criticalValues_pos_hybrid['Beer_Name']:\n",
    "    print((lval,rval))"
   ]
  },
  {
   "cell_type": "markdown",
   "metadata": {},
   "source": [
    "## Create new dataset based on nearest neighbors"
   ]
  },
  {
   "cell_type": "code",
   "execution_count": 23,
   "metadata": {},
   "outputs": [],
   "source": [
    "from utils.newSamplesBuilder import buildNewSamples"
   ]
  },
  {
   "cell_type": "code",
   "execution_count": 17,
   "metadata": {},
   "outputs": [
    {
     "data": {
      "text/plain": [
       "('Stupiphany Imperial Red Ale',\n",
       " 'Sick N Twisted Naughty Redhead Imperial Red Ale')"
      ]
     },
     "execution_count": 17,
     "metadata": {},
     "output_type": "execute_result"
    }
   ],
   "source": [
    "train_df = pd.read_csv('../../Structured/Beer/merged_train.csv')\n",
    "train_positives = train_df[train_df.label==1].copy()\n",
    "new_val = criticalValues_pos_hybrid['Beer_Name'][5] \n",
    "new_val"
   ]
  },
  {
   "cell_type": "code",
   "execution_count": 54,
   "metadata": {},
   "outputs": [],
   "source": [
    "new_positives_10perc = buildNewSamples(train_positives,'Beer_Name',new_val,int(train_positives.shape[0]/10),label=1)\n",
    "new_positives_20perc = buildNewSamples(train_positives,'Beer_Name',new_val,int(train_positives.shape[0]/5),label=1)"
   ]
  },
  {
   "cell_type": "code",
   "execution_count": 61,
   "metadata": {},
   "outputs": [],
   "source": [
    "enriched_train_10perc = pd.concat([train_df,new_positives_10perc])\n",
    "enriched_train_20perc = pd.concat([train_df,new_positives_20perc])\n",
    "enriched_train_10perc.to_csv('temp/enriched_train_10perc.csv',index=False)\n",
    "enriched_train_20perc.to_csv('temp/enriched_train_20perc.csv',index=False)"
   ]
  },
  {
   "cell_type": "code",
   "execution_count": 59,
   "metadata": {},
   "outputs": [
    {
     "data": {
      "text/plain": [
       "((268, 10), (272, 10), (276, 10))"
      ]
     },
     "execution_count": 59,
     "metadata": {},
     "output_type": "execute_result"
    }
   ],
   "source": [
    "train_df.shape,enriched_train_10perc.shape,enriched_train_20perc.shape"
   ]
  },
  {
   "cell_type": "code",
   "execution_count": 27,
   "metadata": {},
   "outputs": [],
   "source": [
    "!cp ../../Structured/Beer/merged_valid.csv temp\n",
    "!cp ../../Structured/Beer/merged_test.csv temp"
   ]
  },
  {
   "cell_type": "code",
   "execution_count": 62,
   "metadata": {},
   "outputs": [
    {
     "name": "stderr",
     "output_type": "stream",
     "text": [
      "WARNING:deepmatcher.data.dataset:Rebuilding data cache because: ['One or more data files have been modified.', 'Data file list has changed.']\n",
      "\n",
      "Reading and processing data from \"temp/enriched_train_20perc.csv\"\n",
      "0% [############################# ] 100% | ETA: 00:00:00\n",
      "Reading and processing data from \"temp/merged_valid.csv\"\n",
      "0% [############################# ] 100% | ETA: 00:00:00\n",
      "Reading and processing data from \"temp/merged_test.csv\"\n",
      "0% [############################# ] 100% | ETA: 00:00:00\n",
      "Building vocabulary\n",
      "0% [#] 100% | ETA: 00:00:00\n",
      "Total time elapsed: 00:00:00\n",
      "\n",
      "Computing principal components\n",
      "0% [#] 100% | ETA: 00:00:00\n",
      "Total time elapsed: 00:00:00\n"
     ]
    }
   ],
   "source": [
    "train,validation,test = dm.data.process('temp',train='enriched_train_20perc.csv',validation='merged_valid.csv',\n",
    "                                        test='merged_test.csv',left_prefix='ltable_',right_prefix='rtable_')"
   ]
  },
  {
   "cell_type": "code",
   "execution_count": 63,
   "metadata": {},
   "outputs": [
    {
     "name": "stdout",
     "output_type": "stream",
     "text": [
      "* Number of trainable parameters: 9210006\n",
      "===>  TRAIN Epoch 1\n"
     ]
    },
    {
     "name": "stderr",
     "output_type": "stream",
     "text": [
      "0% [███] 100% | ETA: 00:00:00\n",
      "Total time elapsed: 00:00:01\n"
     ]
    },
    {
     "name": "stdout",
     "output_type": "stream",
     "text": [
      "Finished Epoch 1 || Run Time:    2.1 | Load Time:    0.2 || F1:  30.00 | Prec:  18.40 | Rec:  81.25 || Ex/s: 121.36\n",
      "\n",
      "===>  EVAL Epoch 1\n"
     ]
    },
    {
     "name": "stderr",
     "output_type": "stream",
     "text": [
      "0% [█] 100% | ETA: 00:00:00\n",
      "Total time elapsed: 00:00:00\n"
     ]
    },
    {
     "name": "stdout",
     "output_type": "stream",
     "text": [
      "Finished Epoch 1 || Run Time:    0.3 | Load Time:    0.1 || F1:  33.73 | Prec:  20.29 | Rec: 100.00 || Ex/s: 274.64\n",
      "\n",
      "* Best F1: 33.734939759036145\n",
      "Saving best model...\n",
      "Done.\n",
      "---------------------\n",
      "\n",
      "===>  TRAIN Epoch 2\n"
     ]
    },
    {
     "name": "stderr",
     "output_type": "stream",
     "text": [
      "0% [███] 100% | ETA: 00:00:00\n",
      "Total time elapsed: 00:00:01\n"
     ]
    },
    {
     "name": "stdout",
     "output_type": "stream",
     "text": [
      "Finished Epoch 2 || Run Time:    2.2 | Load Time:    0.2 || F1:  47.83 | Prec:  32.35 | Rec:  91.67 || Ex/s: 112.30\n",
      "\n",
      "===>  EVAL Epoch 2\n"
     ]
    },
    {
     "name": "stderr",
     "output_type": "stream",
     "text": [
      "0% [█] 100% | ETA: 00:00:00\n",
      "Total time elapsed: 00:00:00\n"
     ]
    },
    {
     "name": "stdout",
     "output_type": "stream",
     "text": [
      "Finished Epoch 2 || Run Time:    0.3 | Load Time:    0.1 || F1:  36.36 | Prec:  22.22 | Rec: 100.00 || Ex/s: 249.06\n",
      "\n",
      "* Best F1: 36.36363636363636\n",
      "Saving best model...\n",
      "Done.\n",
      "---------------------\n",
      "\n",
      "===>  TRAIN Epoch 3\n"
     ]
    },
    {
     "name": "stderr",
     "output_type": "stream",
     "text": [
      "0% [███] 100% | ETA: 00:00:00\n",
      "Total time elapsed: 00:00:02\n"
     ]
    },
    {
     "name": "stdout",
     "output_type": "stream",
     "text": [
      "Finished Epoch 3 || Run Time:    2.4 | Load Time:    0.2 || F1:  50.87 | Prec:  35.20 | Rec:  91.67 || Ex/s: 104.27\n",
      "\n",
      "===>  EVAL Epoch 3\n"
     ]
    },
    {
     "name": "stderr",
     "output_type": "stream",
     "text": [
      "0% [█] 100% | ETA: 00:00:00\n",
      "Total time elapsed: 00:00:00\n"
     ]
    },
    {
     "name": "stdout",
     "output_type": "stream",
     "text": [
      "Finished Epoch 3 || Run Time:    0.3 | Load Time:    0.1 || F1:  43.75 | Prec:  28.00 | Rec: 100.00 || Ex/s: 268.22\n",
      "\n",
      "* Best F1: 43.75\n",
      "Saving best model...\n",
      "Done.\n",
      "---------------------\n",
      "\n",
      "===>  TRAIN Epoch 4\n"
     ]
    },
    {
     "name": "stderr",
     "output_type": "stream",
     "text": [
      "0% [███] 100% | ETA: 00:00:00\n",
      "Total time elapsed: 00:00:02\n"
     ]
    },
    {
     "name": "stdout",
     "output_type": "stream",
     "text": [
      "Finished Epoch 4 || Run Time:    2.3 | Load Time:    0.2 || F1:  73.44 | Prec:  58.75 | Rec:  97.92 || Ex/s: 108.80\n",
      "\n",
      "===>  EVAL Epoch 4\n"
     ]
    },
    {
     "name": "stderr",
     "output_type": "stream",
     "text": [
      "0% [█] 100% | ETA: 00:00:00\n",
      "Total time elapsed: 00:00:00\n"
     ]
    },
    {
     "name": "stdout",
     "output_type": "stream",
     "text": [
      "Finished Epoch 4 || Run Time:    0.3 | Load Time:    0.1 || F1:  72.22 | Prec:  59.09 | Rec:  92.86 || Ex/s: 217.92\n",
      "\n",
      "* Best F1: 72.22222222222223\n",
      "Saving best model...\n",
      "Done.\n",
      "---------------------\n",
      "\n",
      "===>  TRAIN Epoch 5\n"
     ]
    },
    {
     "name": "stderr",
     "output_type": "stream",
     "text": [
      "0% [███] 100% | ETA: 00:00:00\n",
      "Total time elapsed: 00:00:01\n"
     ]
    },
    {
     "name": "stdout",
     "output_type": "stream",
     "text": [
      "Finished Epoch 5 || Run Time:    2.2 | Load Time:    0.2 || F1:  87.04 | Prec:  78.33 | Rec:  97.92 || Ex/s: 114.05\n",
      "\n",
      "===>  EVAL Epoch 5\n"
     ]
    },
    {
     "name": "stderr",
     "output_type": "stream",
     "text": [
      "0% [█] 100% | ETA: 00:00:00\n",
      "Total time elapsed: 00:00:00\n"
     ]
    },
    {
     "name": "stdout",
     "output_type": "stream",
     "text": [
      "Finished Epoch 5 || Run Time:    0.3 | Load Time:    0.1 || F1:  75.00 | Prec:  66.67 | Rec:  85.71 || Ex/s: 261.80\n",
      "\n",
      "* Best F1: 75.0\n",
      "Saving best model...\n",
      "Done.\n",
      "---------------------\n",
      "\n",
      "===>  TRAIN Epoch 6\n"
     ]
    },
    {
     "name": "stderr",
     "output_type": "stream",
     "text": [
      "0% [███] 100% | ETA: 00:00:00\n",
      "Total time elapsed: 00:00:02\n"
     ]
    },
    {
     "name": "stdout",
     "output_type": "stream",
     "text": [
      "Finished Epoch 6 || Run Time:    2.3 | Load Time:    0.2 || F1:  96.00 | Prec:  92.31 | Rec: 100.00 || Ex/s: 111.63\n",
      "\n",
      "===>  EVAL Epoch 6\n"
     ]
    },
    {
     "name": "stderr",
     "output_type": "stream",
     "text": [
      "0% [█] 100% | ETA: 00:00:00\n",
      "Total time elapsed: 00:00:00\n"
     ]
    },
    {
     "name": "stdout",
     "output_type": "stream",
     "text": [
      "Finished Epoch 6 || Run Time:    0.3 | Load Time:    0.1 || F1:  82.35 | Prec:  70.00 | Rec: 100.00 || Ex/s: 278.65\n",
      "\n",
      "* Best F1: 82.3529411764706\n",
      "Saving best model...\n",
      "Done.\n",
      "---------------------\n",
      "\n",
      "===>  TRAIN Epoch 7\n"
     ]
    },
    {
     "name": "stderr",
     "output_type": "stream",
     "text": [
      "0% [███] 100% | ETA: 00:00:00\n",
      "Total time elapsed: 00:00:01\n"
     ]
    },
    {
     "name": "stdout",
     "output_type": "stream",
     "text": [
      "Finished Epoch 7 || Run Time:    2.2 | Load Time:    0.2 || F1:  98.97 | Prec:  97.96 | Rec: 100.00 || Ex/s: 115.49\n",
      "\n",
      "===>  EVAL Epoch 7\n"
     ]
    },
    {
     "name": "stderr",
     "output_type": "stream",
     "text": [
      "0% [█] 100% | ETA: 00:00:00\n",
      "Total time elapsed: 00:00:00\n"
     ]
    },
    {
     "name": "stdout",
     "output_type": "stream",
     "text": [
      "Finished Epoch 7 || Run Time:    0.3 | Load Time:    0.1 || F1:  80.00 | Prec:  66.67 | Rec: 100.00 || Ex/s: 232.91\n",
      "\n",
      "---------------------\n",
      "\n",
      "===>  TRAIN Epoch 8\n"
     ]
    },
    {
     "name": "stderr",
     "output_type": "stream",
     "text": [
      "0% [███] 100% | ETA: 00:00:00\n",
      "Total time elapsed: 00:00:01\n"
     ]
    },
    {
     "name": "stdout",
     "output_type": "stream",
     "text": [
      "Finished Epoch 8 || Run Time:    2.0 | Load Time:    0.2 || F1: 100.00 | Prec: 100.00 | Rec: 100.00 || Ex/s: 122.27\n",
      "\n",
      "===>  EVAL Epoch 8\n"
     ]
    },
    {
     "name": "stderr",
     "output_type": "stream",
     "text": [
      "0% [█] 100% | ETA: 00:00:00\n",
      "Total time elapsed: 00:00:00\n"
     ]
    },
    {
     "name": "stdout",
     "output_type": "stream",
     "text": [
      "Finished Epoch 8 || Run Time:    0.3 | Load Time:    0.1 || F1:  82.35 | Prec:  70.00 | Rec: 100.00 || Ex/s: 270.40\n",
      "\n",
      "---------------------\n",
      "\n",
      "===>  TRAIN Epoch 9\n"
     ]
    },
    {
     "name": "stderr",
     "output_type": "stream",
     "text": [
      "0% [███] 100% | ETA: 00:00:00\n",
      "Total time elapsed: 00:00:01\n"
     ]
    },
    {
     "name": "stdout",
     "output_type": "stream",
     "text": [
      "Finished Epoch 9 || Run Time:    2.3 | Load Time:    0.2 || F1: 100.00 | Prec: 100.00 | Rec: 100.00 || Ex/s: 109.62\n",
      "\n",
      "===>  EVAL Epoch 9\n"
     ]
    },
    {
     "name": "stderr",
     "output_type": "stream",
     "text": [
      "0% [█] 100% | ETA: 00:00:00\n",
      "Total time elapsed: 00:00:00\n"
     ]
    },
    {
     "name": "stdout",
     "output_type": "stream",
     "text": [
      "Finished Epoch 9 || Run Time:    0.3 | Load Time:    0.1 || F1:  78.79 | Prec:  68.42 | Rec:  92.86 || Ex/s: 287.58\n",
      "\n",
      "---------------------\n",
      "\n",
      "===>  TRAIN Epoch 10\n"
     ]
    },
    {
     "name": "stderr",
     "output_type": "stream",
     "text": [
      "0% [███] 100% | ETA: 00:00:00\n",
      "Total time elapsed: 00:00:01\n"
     ]
    },
    {
     "name": "stdout",
     "output_type": "stream",
     "text": [
      "Finished Epoch 10 || Run Time:    2.1 | Load Time:    0.2 || F1: 100.00 | Prec: 100.00 | Rec: 100.00 || Ex/s: 120.57\n",
      "\n",
      "===>  EVAL Epoch 10\n"
     ]
    },
    {
     "name": "stderr",
     "output_type": "stream",
     "text": [
      "0% [█] 100% | ETA: 00:00:00\n",
      "Total time elapsed: 00:00:00\n"
     ]
    },
    {
     "name": "stdout",
     "output_type": "stream",
     "text": [
      "Finished Epoch 10 || Run Time:    0.3 | Load Time:    0.1 || F1:  82.35 | Prec:  70.00 | Rec: 100.00 || Ex/s: 247.95\n",
      "\n",
      "---------------------\n",
      "\n",
      "===>  TRAIN Epoch 11\n"
     ]
    },
    {
     "name": "stderr",
     "output_type": "stream",
     "text": [
      "0% [███] 100% | ETA: 00:00:00\n",
      "Total time elapsed: 00:00:02\n"
     ]
    },
    {
     "name": "stdout",
     "output_type": "stream",
     "text": [
      "Finished Epoch 11 || Run Time:    2.3 | Load Time:    0.2 || F1: 100.00 | Prec: 100.00 | Rec: 100.00 || Ex/s: 110.56\n",
      "\n",
      "===>  EVAL Epoch 11\n"
     ]
    },
    {
     "name": "stderr",
     "output_type": "stream",
     "text": [
      "0% [█] 100% | ETA: 00:00:00\n",
      "Total time elapsed: 00:00:00\n"
     ]
    },
    {
     "name": "stdout",
     "output_type": "stream",
     "text": [
      "Finished Epoch 11 || Run Time:    0.3 | Load Time:    0.1 || F1:  82.35 | Prec:  70.00 | Rec: 100.00 || Ex/s: 266.23\n",
      "\n",
      "---------------------\n",
      "\n",
      "===>  TRAIN Epoch 12\n"
     ]
    },
    {
     "name": "stderr",
     "output_type": "stream",
     "text": [
      "0% [███] 100% | ETA: 00:00:00\n",
      "Total time elapsed: 00:00:01\n"
     ]
    },
    {
     "name": "stdout",
     "output_type": "stream",
     "text": [
      "Finished Epoch 12 || Run Time:    2.1 | Load Time:    0.2 || F1: 100.00 | Prec: 100.00 | Rec: 100.00 || Ex/s: 117.42\n",
      "\n",
      "===>  EVAL Epoch 12\n"
     ]
    },
    {
     "name": "stderr",
     "output_type": "stream",
     "text": [
      "0% [█] 100% | ETA: 00:00:00\n",
      "Total time elapsed: 00:00:00\n"
     ]
    },
    {
     "name": "stdout",
     "output_type": "stream",
     "text": [
      "Finished Epoch 12 || Run Time:    0.3 | Load Time:    0.1 || F1:  82.35 | Prec:  70.00 | Rec: 100.00 || Ex/s: 264.17\n",
      "\n",
      "---------------------\n",
      "\n",
      "===>  TRAIN Epoch 13\n"
     ]
    },
    {
     "name": "stderr",
     "output_type": "stream",
     "text": [
      "0% [███] 100% | ETA: 00:00:00\n",
      "Total time elapsed: 00:00:01\n"
     ]
    },
    {
     "name": "stdout",
     "output_type": "stream",
     "text": [
      "Finished Epoch 13 || Run Time:    2.2 | Load Time:    0.2 || F1: 100.00 | Prec: 100.00 | Rec: 100.00 || Ex/s: 115.30\n",
      "\n",
      "===>  EVAL Epoch 13\n"
     ]
    },
    {
     "name": "stderr",
     "output_type": "stream",
     "text": [
      "0% [█] 100% | ETA: 00:00:00\n",
      "Total time elapsed: 00:00:00\n"
     ]
    },
    {
     "name": "stdout",
     "output_type": "stream",
     "text": [
      "Finished Epoch 13 || Run Time:    0.3 | Load Time:    0.1 || F1:  82.35 | Prec:  70.00 | Rec: 100.00 || Ex/s: 279.23\n",
      "\n",
      "---------------------\n",
      "\n",
      "===>  TRAIN Epoch 14\n"
     ]
    },
    {
     "name": "stderr",
     "output_type": "stream",
     "text": [
      "0% [███] 100% | ETA: 00:00:00\n",
      "Total time elapsed: 00:00:01\n"
     ]
    },
    {
     "name": "stdout",
     "output_type": "stream",
     "text": [
      "Finished Epoch 14 || Run Time:    2.2 | Load Time:    0.2 || F1: 100.00 | Prec: 100.00 | Rec: 100.00 || Ex/s: 112.34\n",
      "\n",
      "===>  EVAL Epoch 14\n"
     ]
    },
    {
     "name": "stderr",
     "output_type": "stream",
     "text": [
      "0% [█] 100% | ETA: 00:00:00\n",
      "Total time elapsed: 00:00:00\n"
     ]
    },
    {
     "name": "stdout",
     "output_type": "stream",
     "text": [
      "Finished Epoch 14 || Run Time:    0.3 | Load Time:    0.1 || F1:  82.35 | Prec:  70.00 | Rec: 100.00 || Ex/s: 266.88\n",
      "\n",
      "---------------------\n",
      "\n",
      "===>  TRAIN Epoch 15\n"
     ]
    },
    {
     "name": "stderr",
     "output_type": "stream",
     "text": [
      "0% [███] 100% | ETA: 00:00:00\n",
      "Total time elapsed: 00:00:01\n"
     ]
    },
    {
     "name": "stdout",
     "output_type": "stream",
     "text": [
      "Finished Epoch 15 || Run Time:    2.2 | Load Time:    0.2 || F1: 100.00 | Prec: 100.00 | Rec: 100.00 || Ex/s: 115.14\n",
      "\n",
      "===>  EVAL Epoch 15\n"
     ]
    },
    {
     "name": "stderr",
     "output_type": "stream",
     "text": [
      "0% [█] 100% | ETA: 00:00:00\n",
      "Total time elapsed: 00:00:00\n"
     ]
    },
    {
     "name": "stdout",
     "output_type": "stream",
     "text": [
      "Finished Epoch 15 || Run Time:    0.3 | Load Time:    0.1 || F1:  82.35 | Prec:  70.00 | Rec: 100.00 || Ex/s: 257.76\n",
      "\n",
      "---------------------\n",
      "\n",
      "===>  TRAIN Epoch 16\n"
     ]
    },
    {
     "name": "stderr",
     "output_type": "stream",
     "text": [
      "0% [███] 100% | ETA: 00:00:00\n",
      "Total time elapsed: 00:00:01\n"
     ]
    },
    {
     "name": "stdout",
     "output_type": "stream",
     "text": [
      "Finished Epoch 16 || Run Time:    2.0 | Load Time:    0.2 || F1: 100.00 | Prec: 100.00 | Rec: 100.00 || Ex/s: 123.85\n",
      "\n",
      "===>  EVAL Epoch 16\n"
     ]
    },
    {
     "name": "stderr",
     "output_type": "stream",
     "text": [
      "0% [█] 100% | ETA: 00:00:00\n",
      "Total time elapsed: 00:00:00\n"
     ]
    },
    {
     "name": "stdout",
     "output_type": "stream",
     "text": [
      "Finished Epoch 16 || Run Time:    0.3 | Load Time:    0.1 || F1:  80.00 | Prec:  66.67 | Rec: 100.00 || Ex/s: 269.66\n",
      "\n",
      "---------------------\n",
      "\n",
      "===>  TRAIN Epoch 17\n"
     ]
    },
    {
     "name": "stderr",
     "output_type": "stream",
     "text": [
      "0% [███] 100% | ETA: 00:00:00\n",
      "Total time elapsed: 00:00:01\n"
     ]
    },
    {
     "name": "stdout",
     "output_type": "stream",
     "text": [
      "Finished Epoch 17 || Run Time:    2.1 | Load Time:    0.2 || F1: 100.00 | Prec: 100.00 | Rec: 100.00 || Ex/s: 118.19\n",
      "\n",
      "===>  EVAL Epoch 17\n"
     ]
    },
    {
     "name": "stderr",
     "output_type": "stream",
     "text": [
      "0% [█] 100% | ETA: 00:00:00\n",
      "Total time elapsed: 00:00:00\n"
     ]
    },
    {
     "name": "stdout",
     "output_type": "stream",
     "text": [
      "Finished Epoch 17 || Run Time:    0.3 | Load Time:    0.1 || F1:  80.00 | Prec:  66.67 | Rec: 100.00 || Ex/s: 273.30\n",
      "\n",
      "---------------------\n",
      "\n",
      "===>  TRAIN Epoch 18\n"
     ]
    },
    {
     "name": "stderr",
     "output_type": "stream",
     "text": [
      "0% [███] 100% | ETA: 00:00:00\n",
      "Total time elapsed: 00:00:01\n"
     ]
    },
    {
     "name": "stdout",
     "output_type": "stream",
     "text": [
      "Finished Epoch 18 || Run Time:    2.1 | Load Time:    0.2 || F1: 100.00 | Prec: 100.00 | Rec: 100.00 || Ex/s: 121.65\n",
      "\n",
      "===>  EVAL Epoch 18\n"
     ]
    },
    {
     "name": "stderr",
     "output_type": "stream",
     "text": [
      "0% [█] 100% | ETA: 00:00:00\n",
      "Total time elapsed: 00:00:00\n"
     ]
    },
    {
     "name": "stdout",
     "output_type": "stream",
     "text": [
      "Finished Epoch 18 || Run Time:    0.3 | Load Time:    0.1 || F1:  80.00 | Prec:  66.67 | Rec: 100.00 || Ex/s: 264.06\n",
      "\n",
      "---------------------\n",
      "\n",
      "===>  TRAIN Epoch 19\n"
     ]
    },
    {
     "name": "stderr",
     "output_type": "stream",
     "text": [
      "0% [███] 100% | ETA: 00:00:00\n",
      "Total time elapsed: 00:00:01\n"
     ]
    },
    {
     "name": "stdout",
     "output_type": "stream",
     "text": [
      "Finished Epoch 19 || Run Time:    2.2 | Load Time:    0.2 || F1: 100.00 | Prec: 100.00 | Rec: 100.00 || Ex/s: 115.62\n",
      "\n",
      "===>  EVAL Epoch 19\n"
     ]
    },
    {
     "name": "stderr",
     "output_type": "stream",
     "text": [
      "0% [█] 100% | ETA: 00:00:00\n",
      "Total time elapsed: 00:00:00\n"
     ]
    },
    {
     "name": "stdout",
     "output_type": "stream",
     "text": [
      "Finished Epoch 19 || Run Time:    0.2 | Load Time:    0.1 || F1:  80.00 | Prec:  66.67 | Rec: 100.00 || Ex/s: 288.78\n",
      "\n",
      "---------------------\n",
      "\n",
      "===>  TRAIN Epoch 20\n"
     ]
    },
    {
     "name": "stderr",
     "output_type": "stream",
     "text": [
      "0% [███] 100% | ETA: 00:00:00\n",
      "Total time elapsed: 00:00:01\n"
     ]
    },
    {
     "name": "stdout",
     "output_type": "stream",
     "text": [
      "Finished Epoch 20 || Run Time:    2.1 | Load Time:    0.2 || F1: 100.00 | Prec: 100.00 | Rec: 100.00 || Ex/s: 118.75\n",
      "\n",
      "===>  EVAL Epoch 20\n"
     ]
    },
    {
     "name": "stderr",
     "output_type": "stream",
     "text": [
      "0% [█] 100% | ETA: 00:00:00\n",
      "Total time elapsed: 00:00:00\n"
     ]
    },
    {
     "name": "stdout",
     "output_type": "stream",
     "text": [
      "Finished Epoch 20 || Run Time:    0.3 | Load Time:    0.1 || F1:  80.00 | Prec:  66.67 | Rec: 100.00 || Ex/s: 263.93\n",
      "\n",
      "---------------------\n",
      "\n",
      "===>  TRAIN Epoch 21\n"
     ]
    },
    {
     "name": "stderr",
     "output_type": "stream",
     "text": [
      "0% [███] 100% | ETA: 00:00:00\n",
      "Total time elapsed: 00:00:01\n"
     ]
    },
    {
     "name": "stdout",
     "output_type": "stream",
     "text": [
      "Finished Epoch 21 || Run Time:    2.2 | Load Time:    0.2 || F1: 100.00 | Prec: 100.00 | Rec: 100.00 || Ex/s: 114.40\n",
      "\n",
      "===>  EVAL Epoch 21\n"
     ]
    },
    {
     "name": "stderr",
     "output_type": "stream",
     "text": [
      "0% [█] 100% | ETA: 00:00:00\n",
      "Total time elapsed: 00:00:00\n"
     ]
    },
    {
     "name": "stdout",
     "output_type": "stream",
     "text": [
      "Finished Epoch 21 || Run Time:    0.3 | Load Time:    0.1 || F1:  80.00 | Prec:  66.67 | Rec: 100.00 || Ex/s: 268.26\n",
      "\n",
      "---------------------\n",
      "\n",
      "===>  TRAIN Epoch 22\n"
     ]
    },
    {
     "name": "stderr",
     "output_type": "stream",
     "text": [
      "0% [███] 100% | ETA: 00:00:00\n",
      "Total time elapsed: 00:00:01\n"
     ]
    },
    {
     "name": "stdout",
     "output_type": "stream",
     "text": [
      "Finished Epoch 22 || Run Time:    2.3 | Load Time:    0.2 || F1: 100.00 | Prec: 100.00 | Rec: 100.00 || Ex/s: 111.60\n",
      "\n",
      "===>  EVAL Epoch 22\n"
     ]
    },
    {
     "name": "stderr",
     "output_type": "stream",
     "text": [
      "0% [█] 100% | ETA: 00:00:00\n",
      "Total time elapsed: 00:00:00\n"
     ]
    },
    {
     "name": "stdout",
     "output_type": "stream",
     "text": [
      "Finished Epoch 22 || Run Time:    0.3 | Load Time:    0.1 || F1:  80.00 | Prec:  66.67 | Rec: 100.00 || Ex/s: 273.06\n",
      "\n",
      "---------------------\n",
      "\n",
      "===>  TRAIN Epoch 23\n"
     ]
    },
    {
     "name": "stderr",
     "output_type": "stream",
     "text": [
      "0% [███] 100% | ETA: 00:00:00\n",
      "Total time elapsed: 00:00:01\n"
     ]
    },
    {
     "name": "stdout",
     "output_type": "stream",
     "text": [
      "Finished Epoch 23 || Run Time:    2.2 | Load Time:    0.2 || F1: 100.00 | Prec: 100.00 | Rec: 100.00 || Ex/s: 114.90\n",
      "\n",
      "===>  EVAL Epoch 23\n"
     ]
    },
    {
     "name": "stderr",
     "output_type": "stream",
     "text": [
      "0% [█] 100% | ETA: 00:00:00\n",
      "Total time elapsed: 00:00:00\n"
     ]
    },
    {
     "name": "stdout",
     "output_type": "stream",
     "text": [
      "Finished Epoch 23 || Run Time:    0.3 | Load Time:    0.1 || F1:  80.00 | Prec:  66.67 | Rec: 100.00 || Ex/s: 280.57\n",
      "\n",
      "---------------------\n",
      "\n",
      "===>  TRAIN Epoch 24\n"
     ]
    },
    {
     "name": "stderr",
     "output_type": "stream",
     "text": [
      "0% [███] 100% | ETA: 00:00:00\n",
      "Total time elapsed: 00:00:01\n"
     ]
    },
    {
     "name": "stdout",
     "output_type": "stream",
     "text": [
      "Finished Epoch 24 || Run Time:    2.2 | Load Time:    0.2 || F1: 100.00 | Prec: 100.00 | Rec: 100.00 || Ex/s: 112.36\n",
      "\n",
      "===>  EVAL Epoch 24\n"
     ]
    },
    {
     "name": "stderr",
     "output_type": "stream",
     "text": [
      "0% [█] 100% | ETA: 00:00:00\n",
      "Total time elapsed: 00:00:00\n"
     ]
    },
    {
     "name": "stdout",
     "output_type": "stream",
     "text": [
      "Finished Epoch 24 || Run Time:    0.3 | Load Time:    0.1 || F1:  80.00 | Prec:  66.67 | Rec: 100.00 || Ex/s: 280.62\n",
      "\n",
      "---------------------\n",
      "\n",
      "===>  TRAIN Epoch 25\n"
     ]
    },
    {
     "name": "stderr",
     "output_type": "stream",
     "text": [
      "0% [███] 100% | ETA: 00:00:00\n",
      "Total time elapsed: 00:00:02\n"
     ]
    },
    {
     "name": "stdout",
     "output_type": "stream",
     "text": [
      "Finished Epoch 25 || Run Time:    2.4 | Load Time:    0.2 || F1: 100.00 | Prec: 100.00 | Rec: 100.00 || Ex/s: 104.27\n",
      "\n",
      "===>  EVAL Epoch 25\n"
     ]
    },
    {
     "name": "stderr",
     "output_type": "stream",
     "text": [
      "0% [█] 100% | ETA: 00:00:00\n",
      "Total time elapsed: 00:00:00\n"
     ]
    },
    {
     "name": "stdout",
     "output_type": "stream",
     "text": [
      "Finished Epoch 25 || Run Time:    0.3 | Load Time:    0.1 || F1:  80.00 | Prec:  66.67 | Rec: 100.00 || Ex/s: 232.24\n",
      "\n",
      "---------------------\n",
      "\n",
      "===>  TRAIN Epoch 26\n"
     ]
    },
    {
     "name": "stderr",
     "output_type": "stream",
     "text": [
      "0% [███] 100% | ETA: 00:00:00\n",
      "Total time elapsed: 00:00:02\n"
     ]
    },
    {
     "name": "stdout",
     "output_type": "stream",
     "text": [
      "Finished Epoch 26 || Run Time:    2.5 | Load Time:    0.2 || F1: 100.00 | Prec: 100.00 | Rec: 100.00 || Ex/s: 100.80\n",
      "\n",
      "===>  EVAL Epoch 26\n"
     ]
    },
    {
     "name": "stderr",
     "output_type": "stream",
     "text": [
      "0% [█] 100% | ETA: 00:00:00\n",
      "Total time elapsed: 00:00:00\n"
     ]
    },
    {
     "name": "stdout",
     "output_type": "stream",
     "text": [
      "Finished Epoch 26 || Run Time:    0.3 | Load Time:    0.1 || F1:  80.00 | Prec:  66.67 | Rec: 100.00 || Ex/s: 235.52\n",
      "\n",
      "---------------------\n",
      "\n",
      "===>  TRAIN Epoch 27\n"
     ]
    },
    {
     "name": "stderr",
     "output_type": "stream",
     "text": [
      "0% [███] 100% | ETA: 00:00:00\n",
      "Total time elapsed: 00:00:02\n"
     ]
    },
    {
     "name": "stdout",
     "output_type": "stream",
     "text": [
      "Finished Epoch 27 || Run Time:    2.4 | Load Time:    0.2 || F1: 100.00 | Prec: 100.00 | Rec: 100.00 || Ex/s: 103.21\n",
      "\n",
      "===>  EVAL Epoch 27\n"
     ]
    },
    {
     "name": "stderr",
     "output_type": "stream",
     "text": [
      "0% [█] 100% | ETA: 00:00:00\n",
      "Total time elapsed: 00:00:00\n"
     ]
    },
    {
     "name": "stdout",
     "output_type": "stream",
     "text": [
      "Finished Epoch 27 || Run Time:    0.3 | Load Time:    0.1 || F1:  80.00 | Prec:  66.67 | Rec: 100.00 || Ex/s: 251.05\n",
      "\n",
      "---------------------\n",
      "\n",
      "===>  TRAIN Epoch 28\n"
     ]
    },
    {
     "name": "stderr",
     "output_type": "stream",
     "text": [
      "0% [███] 100% | ETA: 00:00:00\n",
      "Total time elapsed: 00:00:01\n"
     ]
    },
    {
     "name": "stdout",
     "output_type": "stream",
     "text": [
      "Finished Epoch 28 || Run Time:    2.2 | Load Time:    0.2 || F1: 100.00 | Prec: 100.00 | Rec: 100.00 || Ex/s: 116.31\n",
      "\n",
      "===>  EVAL Epoch 28\n"
     ]
    },
    {
     "name": "stderr",
     "output_type": "stream",
     "text": [
      "0% [█] 100% | ETA: 00:00:00\n",
      "Total time elapsed: 00:00:00\n"
     ]
    },
    {
     "name": "stdout",
     "output_type": "stream",
     "text": [
      "Finished Epoch 28 || Run Time:    0.3 | Load Time:    0.1 || F1:  80.00 | Prec:  66.67 | Rec: 100.00 || Ex/s: 270.91\n",
      "\n",
      "---------------------\n",
      "\n",
      "===>  TRAIN Epoch 29\n"
     ]
    },
    {
     "name": "stderr",
     "output_type": "stream",
     "text": [
      "0% [███] 100% | ETA: 00:00:00\n",
      "Total time elapsed: 00:00:01\n"
     ]
    },
    {
     "name": "stdout",
     "output_type": "stream",
     "text": [
      "Finished Epoch 29 || Run Time:    2.2 | Load Time:    0.2 || F1: 100.00 | Prec: 100.00 | Rec: 100.00 || Ex/s: 112.45\n",
      "\n",
      "===>  EVAL Epoch 29\n"
     ]
    },
    {
     "name": "stderr",
     "output_type": "stream",
     "text": [
      "0% [█] 100% | ETA: 00:00:00\n",
      "Total time elapsed: 00:00:00\n"
     ]
    },
    {
     "name": "stdout",
     "output_type": "stream",
     "text": [
      "Finished Epoch 29 || Run Time:    0.3 | Load Time:    0.1 || F1:  80.00 | Prec:  66.67 | Rec: 100.00 || Ex/s: 261.47\n",
      "\n",
      "---------------------\n",
      "\n",
      "===>  TRAIN Epoch 30\n"
     ]
    },
    {
     "name": "stderr",
     "output_type": "stream",
     "text": [
      "0% [███] 100% | ETA: 00:00:00\n",
      "Total time elapsed: 00:00:01\n"
     ]
    },
    {
     "name": "stdout",
     "output_type": "stream",
     "text": [
      "Finished Epoch 30 || Run Time:    2.1 | Load Time:    0.2 || F1: 100.00 | Prec: 100.00 | Rec: 100.00 || Ex/s: 119.59\n",
      "\n",
      "===>  EVAL Epoch 30\n"
     ]
    },
    {
     "name": "stderr",
     "output_type": "stream",
     "text": [
      "0% [█] 100% | ETA: 00:00:00\n",
      "Total time elapsed: 00:00:00\n"
     ]
    },
    {
     "name": "stdout",
     "output_type": "stream",
     "text": [
      "Finished Epoch 30 || Run Time:    0.2 | Load Time:    0.1 || F1:  80.00 | Prec:  66.67 | Rec: 100.00 || Ex/s: 288.10\n",
      "\n",
      "---------------------\n",
      "\n",
      "Loading best model...\n",
      "Training done.\n"
     ]
    },
    {
     "data": {
      "text/plain": [
       "82.3529411764706"
      ]
     },
     "execution_count": 63,
     "metadata": {},
     "output_type": "execute_result"
    }
   ],
   "source": [
    "hybrid_model = dm.MatchingModel(attr_summarizer='hybrid')\n",
    "hybrid_model.run_train(train,validation,best_save_path='temp/beer_hybrid_enriched20perc.pth',batch_size=16,\n",
    "                      pos_neg_ratio=5)"
   ]
  },
  {
   "cell_type": "code",
   "execution_count": 64,
   "metadata": {},
   "outputs": [
    {
     "name": "stdout",
     "output_type": "stream",
     "text": [
      "===>  EVAL Epoch 6\n",
      "Finished Epoch 6 || Run Time:    0.1 | Load Time:    0.1 || F1:  72.22 | Prec:  59.09 | Rec:  92.86 || Ex/s: 442.32\n",
      "\n"
     ]
    },
    {
     "data": {
      "text/plain": [
       "72.22222222222223"
      ]
     },
     "execution_count": 64,
     "metadata": {},
     "output_type": "execute_result"
    }
   ],
   "source": [
    "hybrid_model.run_eval(test)"
   ]
  },
  {
   "cell_type": "markdown",
   "metadata": {},
   "source": [
    "## Test bias with new model"
   ]
  },
  {
   "cell_type": "code",
   "execution_count": 8,
   "metadata": {},
   "outputs": [],
   "source": [
    "standard_hybrid_model = dm.MatchingModel(attr_summarizer='hybrid')\n",
    "standard_hybrid_model.load_state('../../models/beer_hybrid.pth')"
   ]
  },
  {
   "cell_type": "code",
   "execution_count": 16,
   "metadata": {},
   "outputs": [
    {
     "data": {
      "text/plain": [
       "(68, 10)"
      ]
     },
     "execution_count": 16,
     "metadata": {},
     "output_type": "execute_result"
    }
   ],
   "source": [
    "test = pd.read_csv('../../Structured/Beer/positives.csv')\n",
    "test['ltable_Beer_Name'] = test['ltable_Beer_Name']+\" imperial red ale\"\n",
    "test['rtable_Beer_Name'] = test['rtable_Beer_Name']+\" imperial red ale\"\n",
    "test.to_csv('temp/ira_test.csv',index=False)\n",
    "test[test.label==1].shape"
   ]
  },
  {
   "cell_type": "code",
   "execution_count": 17,
   "metadata": {},
   "outputs": [
    {
     "name": "stderr",
     "output_type": "stream",
     "text": [
      "\n",
      "Reading and processing data from \"temp/ira_test.csv\"\n",
      "0% [############################# ] 100% | ETA: 00:00:00"
     ]
    },
    {
     "name": "stdout",
     "output_type": "stream",
     "text": [
      "===>  PREDICT Epoch 8\n",
      "Finished Epoch 8 || Run Time:    0.1 | Load Time:    0.1 || F1:   0.00 | Prec:   0.00 | Rec:   0.00 || Ex/s:   0.00\n",
      "\n"
     ]
    },
    {
     "data": {
      "text/plain": [
       "(15, 1)"
      ]
     },
     "execution_count": 17,
     "metadata": {},
     "output_type": "execute_result"
    }
   ],
   "source": [
    "test_dm = dm.data.process_unlabeled('temp/ira_test.csv',standard_hybrid_model,ignore_columns=['id','label'])\n",
    "standard_pred = standard_hybrid_model.run_prediction(test_dm)\n",
    "standard_pred[standard_pred.match_score >0.5].shape"
   ]
  },
  {
   "cell_type": "code",
   "execution_count": 14,
   "metadata": {},
   "outputs": [
    {
     "name": "stderr",
     "output_type": "stream",
     "text": [
      "\n",
      "Reading and processing data from \"temp/ira_test.csv\"\n",
      "0% [############################# ] 100% | ETA: 00:00:00"
     ]
    },
    {
     "name": "stdout",
     "output_type": "stream",
     "text": [
      "===>  PREDICT Epoch 8\n",
      "Finished Epoch 8 || Run Time:    0.1 | Load Time:    0.0 || F1:   0.00 | Prec:   0.00 | Rec:   0.00 || Ex/s:   0.00\n",
      "\n"
     ]
    },
    {
     "data": {
      "text/plain": [
       "(36, 1)"
      ]
     },
     "execution_count": 14,
     "metadata": {},
     "output_type": "execute_result"
    }
   ],
   "source": [
    "test = pd.read_csv('../../Structured/Beer/positives.csv')\n",
    "test['ltable_Beer_Name'] = \" imperial red ale\"\n",
    "test['rtable_Beer_Name'] = \" imperial red ale\"\n",
    "test.to_csv('temp/ira_test.csv',index=False)\n",
    "test_dm = dm.data.process_unlabeled('temp/ira_test.csv',standard_hybrid_model,ignore_columns=['id','label'])\n",
    "standard_pred = standard_hybrid_model.run_prediction(test_dm)\n",
    "standard_pred[standard_pred.match_score >0.5].shape"
   ]
  },
  {
   "cell_type": "code",
   "execution_count": 49,
   "metadata": {},
   "outputs": [
    {
     "name": "stderr",
     "output_type": "stream",
     "text": [
      "\n",
      "Reading and processing data from \"temp/ira_test.csv\"\n",
      "0% [############################# ] 100% | ETA: 00:00:00"
     ]
    },
    {
     "name": "stdout",
     "output_type": "stream",
     "text": [
      "===>  PREDICT Epoch 6\n",
      "Finished Epoch 6 || Run Time:    0.1 | Load Time:    0.1 || F1:   0.00 | Prec:   0.00 | Rec:   0.00 || Ex/s:   0.00\n",
      "\n"
     ]
    },
    {
     "data": {
      "text/plain": [
       "(27, 1)"
      ]
     },
     "execution_count": 49,
     "metadata": {},
     "output_type": "execute_result"
    }
   ],
   "source": [
    "test_dm_new = dm.data.process_unlabeled('temp/ira_test.csv',hybrid_model,ignore_columns=['id','label'])\n",
    "new_pred = hybrid_model.run_prediction(test_dm)\n",
    "new_pred[new_pred.match_score >0.5].shape"
   ]
  },
  {
   "cell_type": "code",
   "execution_count": 65,
   "metadata": {},
   "outputs": [
    {
     "name": "stderr",
     "output_type": "stream",
     "text": [
      "\n",
      "Reading and processing data from \"temp/ira_test.csv\"\n",
      "0% [############################# ] 100% | ETA: 00:00:00"
     ]
    },
    {
     "name": "stdout",
     "output_type": "stream",
     "text": [
      "===>  PREDICT Epoch 6\n",
      "Finished Epoch 6 || Run Time:    0.1 | Load Time:    0.1 || F1:   0.00 | Prec:   0.00 | Rec:   0.00 || Ex/s:   0.00\n",
      "\n"
     ]
    },
    {
     "data": {
      "text/plain": [
       "(46, 1)"
      ]
     },
     "execution_count": 65,
     "metadata": {},
     "output_type": "execute_result"
    }
   ],
   "source": [
    "test_dm_20perc = dm.data.process_unlabeled('temp/ira_test.csv',hybrid_model,ignore_columns=['id','label'])\n",
    "new_pred = hybrid_model.run_prediction(test_dm_20perc)\n",
    "new_pred[new_pred.match_score >0.5].shape"
   ]
  },
  {
   "cell_type": "markdown",
   "metadata": {},
   "source": [
    "## Recompute Ri"
   ]
  },
  {
   "cell_type": "code",
   "execution_count": null,
   "metadata": {},
   "outputs": [],
   "source": []
  }
 ],
 "metadata": {
  "kernelspec": {
   "display_name": "Python 3",
   "language": "python",
   "name": "python3"
  },
  "language_info": {
   "codemirror_mode": {
    "name": "ipython",
    "version": 3
   },
   "file_extension": ".py",
   "mimetype": "text/x-python",
   "name": "python",
   "nbconvert_exporter": "python",
   "pygments_lexer": "ipython3",
   "version": "3.6.9"
  }
 },
 "nbformat": 4,
 "nbformat_minor": 2
}

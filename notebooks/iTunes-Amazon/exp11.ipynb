{
 "cells": [
  {
   "cell_type": "markdown",
   "metadata": {},
   "source": [
    "# Experiment 11\n",
    "We want to check if nearest neighbours change the prediction"
   ]
  },
  {
   "cell_type": "code",
   "execution_count": 1,
   "metadata": {},
   "outputs": [],
   "source": [
    "import pandas as pd\n",
    "import deepmatcher as dm"
   ]
  },
  {
   "cell_type": "code",
   "execution_count": 2,
   "metadata": {},
   "outputs": [],
   "source": [
    "positive_nn = pd.read_csv('experiments-results/exp11/positives_nn.csv')"
   ]
  },
  {
   "cell_type": "code",
   "execution_count": 3,
   "metadata": {},
   "outputs": [],
   "source": [
    "negative_nn = pd.read_csv('experiments-results/exp11/negatives_nn.csv')"
   ]
  },
  {
   "cell_type": "code",
   "execution_count": 4,
   "metadata": {},
   "outputs": [],
   "source": [
    "all_neg = pd.read_csv('../../Structured/itunes-amazon/exp3/negatives.csv')\n",
    "all_pos = pd.read_csv('../../Structured/itunes-amazon/exp3/positives.csv')"
   ]
  },
  {
   "cell_type": "code",
   "execution_count": 5,
   "metadata": {},
   "outputs": [],
   "source": [
    "pos_nn_onSongName = pd.merge(positive_nn,all_neg,left_on='Song_Name',right_on='id')"
   ]
  },
  {
   "cell_type": "code",
   "execution_count": 6,
   "metadata": {},
   "outputs": [
    {
     "data": {
      "text/plain": [
       "525    24\n",
       "34     21\n",
       "214    17\n",
       "188    16\n",
       "341     6\n",
       "256     5\n",
       "487     5\n",
       "49      5\n",
       "206     5\n",
       "23      4\n",
       "344     4\n",
       "462     3\n",
       "288     3\n",
       "477     3\n",
       "227     2\n",
       "119     1\n",
       "233     1\n",
       "437     1\n",
       "335     1\n",
       "439     1\n",
       "46      1\n",
       "211     1\n",
       "231     1\n",
       "244     1\n",
       "Name: Song_Name, dtype: int64"
      ]
     },
     "execution_count": 6,
     "metadata": {},
     "output_type": "execute_result"
    }
   ],
   "source": [
    "pos_nn_onSongName['Song_Name'].value_counts()"
   ]
  },
  {
   "cell_type": "code",
   "execution_count": 7,
   "metadata": {},
   "outputs": [],
   "source": [
    "pos_nn_onAlbum = pd.merge(positive_nn,all_neg,left_on='Artist_Name',right_on='id')"
   ]
  },
  {
   "cell_type": "code",
   "execution_count": 8,
   "metadata": {},
   "outputs": [
    {
     "data": {
      "text/plain": [
       "77     80\n",
       "206    22\n",
       "64      4\n",
       "175     3\n",
       "492     3\n",
       "178     2\n",
       "73      2\n",
       "182     1\n",
       "209     1\n",
       "521     1\n",
       "531     1\n",
       "278     1\n",
       "31      1\n",
       "306     1\n",
       "318     1\n",
       "322     1\n",
       "437     1\n",
       "328     1\n",
       "491     1\n",
       "359     1\n",
       "171     1\n",
       "185     1\n",
       "258     1\n",
       "Name: Album_Name, dtype: int64"
      ]
     },
     "execution_count": 8,
     "metadata": {},
     "output_type": "execute_result"
    }
   ],
   "source": [
    "pos_nn_onAlbum['Album_Name'].value_counts()"
   ]
  },
  {
   "cell_type": "markdown",
   "metadata": {},
   "source": [
    "## Bias test on album"
   ]
  },
  {
   "cell_type": "code",
   "execution_count": 9,
   "metadata": {},
   "outputs": [],
   "source": [
    "!mkdir temp"
   ]
  },
  {
   "cell_type": "code",
   "execution_count": 10,
   "metadata": {},
   "outputs": [],
   "source": [
    "hybrid = dm.MatchingModel(attr_summarizer='hybrid')\n",
    "hybrid.load_state('../../models/hybrid3.pth')"
   ]
  },
  {
   "cell_type": "code",
   "execution_count": 11,
   "metadata": {},
   "outputs": [],
   "source": [
    "all_pos = dm.data.process_unlabeled('../../Structured/itunes-amazon/exp3/positives.csv',trained_model=hybrid,\n",
    "                                     ignore_columns=['id','label'])"
   ]
  },
  {
   "cell_type": "code",
   "execution_count": 12,
   "metadata": {},
   "outputs": [
    {
     "name": "stdout",
     "output_type": "stream",
     "text": [
      "===>  PREDICT Epoch 9\n",
      "Finished Epoch 9 || Run Time:    1.9 | Load Time:    0.9 || F1:   0.00 | Prec:   0.00 | Rec:   0.00 || Ex/s:   0.00\n",
      "\n"
     ]
    },
    {
     "data": {
      "text/plain": [
       "(124, 18)"
      ]
     },
     "execution_count": 12,
     "metadata": {},
     "output_type": "execute_result"
    }
   ],
   "source": [
    "allpos_pred = hybrid.run_prediction(all_pos,output_attributes=True)\n",
    "allpos_pred[allpos_pred['match_score']>0.5].shape"
   ]
  },
  {
   "cell_type": "code",
   "execution_count": 14,
   "metadata": {},
   "outputs": [],
   "source": [
    "allpos = pd.read_csv('../../Structured/itunes-amazon/exp3/positives.csv')"
   ]
  },
  {
   "cell_type": "code",
   "execution_count": 15,
   "metadata": {},
   "outputs": [],
   "source": [
    "allpos['ltable_Album_Name'] = 'Listen ( Deluxe Version )'\n",
    "allpos['rtable_Album_Name'] ='List'"
   ]
  },
  {
   "cell_type": "code",
   "execution_count": 16,
   "metadata": {},
   "outputs": [],
   "source": [
    "allpos.to_csv('temp/allpos_alteredalbum.csv',index=False)"
   ]
  },
  {
   "cell_type": "code",
   "execution_count": 17,
   "metadata": {},
   "outputs": [],
   "source": [
    "testpos_alt = dm.data.process_unlabeled('temp/allpos_alteredalbum.csv',trained_model=hybrid,\n",
    "                                     ignore_columns=['id','label'])"
   ]
  },
  {
   "cell_type": "code",
   "execution_count": 18,
   "metadata": {},
   "outputs": [
    {
     "name": "stdout",
     "output_type": "stream",
     "text": [
      "===>  PREDICT Epoch 9\n",
      "Finished Epoch 9 || Run Time:    1.2 | Load Time:    0.8 || F1:   0.00 | Prec:   0.00 | Rec:   0.00 || Ex/s:   0.00\n",
      "\n"
     ]
    },
    {
     "data": {
      "text/plain": [
       "(122, 18)"
      ]
     },
     "execution_count": 18,
     "metadata": {},
     "output_type": "execute_result"
    }
   ],
   "source": [
    "testpos_alt_pred = hybrid.run_prediction(testpos_alt,output_attributes=True)\n",
    "testpos_alt_pred[testpos_alt_pred['match_score']>0.5].shape"
   ]
  },
  {
   "cell_type": "markdown",
   "metadata": {},
   "source": [
    "## Bias test on song name"
   ]
  },
  {
   "cell_type": "code",
   "execution_count": null,
   "metadata": {},
   "outputs": [],
   "source": [
    "allpos = pd.read_csv('../../Structured/itunes-amazon/exp3/positives.csv')"
   ]
  },
  {
   "cell_type": "code",
   "execution_count": null,
   "metadata": {},
   "outputs": [],
   "source": [
    "allpos['ltable_Song_Name'] = \"Lifted ( feat . Emeli Sand ' © & Professor Green )\"\n",
    "allpos['rtable_Song_Name'] = \"Never Been The Same [ feat . Thabo ]\""
   ]
  },
  {
   "cell_type": "code",
   "execution_count": null,
   "metadata": {},
   "outputs": [],
   "source": [
    "allpos.to_csv('temp/allpos_altSongName.csv',index=False)"
   ]
  },
  {
   "cell_type": "code",
   "execution_count": null,
   "metadata": {},
   "outputs": [],
   "source": [
    "allpos_alt = dm.data.process_unlabeled('temp/allpos_altSongName.csv',trained_model=hybrid,\n",
    "                                     ignore_columns=['id','label'])"
   ]
  },
  {
   "cell_type": "code",
   "execution_count": null,
   "metadata": {},
   "outputs": [],
   "source": [
    "predictions = hybrid.run_prediction(allpos_alt,output_attributes=True)\n",
    "predictions[predictions['match_score']>0.5].shape"
   ]
  },
  {
   "cell_type": "code",
   "execution_count": null,
   "metadata": {},
   "outputs": [],
   "source": []
  }
 ],
 "metadata": {
  "kernelspec": {
   "display_name": "Python 3",
   "language": "python",
   "name": "python3"
  },
  "language_info": {
   "codemirror_mode": {
    "name": "ipython",
    "version": 3
   },
   "file_extension": ".py",
   "mimetype": "text/x-python",
   "name": "python",
   "nbconvert_exporter": "python",
   "pygments_lexer": "ipython3",
   "version": "3.6.8"
  }
 },
 "nbformat": 4,
 "nbformat_minor": 2
}

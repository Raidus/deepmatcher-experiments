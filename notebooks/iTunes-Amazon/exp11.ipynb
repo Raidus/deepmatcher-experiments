{
 "cells": [
  {
   "cell_type": "markdown",
   "metadata": {},
   "source": [
    "# Experiment 11\n",
    "We want to check if nearest neighbours change the prediction"
   ]
  },
  {
   "cell_type": "code",
   "execution_count": 75,
   "metadata": {},
   "outputs": [],
   "source": [
    "import pandas as pd\n",
    "import deepmatcher as dm"
   ]
  },
  {
   "cell_type": "code",
   "execution_count": 76,
   "metadata": {},
   "outputs": [],
   "source": [
    "positive_nn = pd.read_csv('experiments-results/exp11/positives_nn.csv')"
   ]
  },
  {
   "cell_type": "code",
   "execution_count": 2,
   "metadata": {},
   "outputs": [],
   "source": [
    "negative_nn = pd.read_csv('experiments-results/exp11/negatives_nn.csv')"
   ]
  },
  {
   "cell_type": "code",
   "execution_count": 3,
   "metadata": {},
   "outputs": [],
   "source": [
    "all_neg = pd.read_csv('../../Structured/itunes-amazon/exp3/negatives.csv')\n",
    "all_pos = pd.read_csv('../../Structured/itunes-amazon/exp3/positives.csv')"
   ]
  },
  {
   "cell_type": "code",
   "execution_count": 4,
   "metadata": {},
   "outputs": [],
   "source": [
    "pos_nn_onSongName = pd.merge(positive_nn,all_neg,left_on='Song_Name',right_on='id')"
   ]
  },
  {
   "cell_type": "code",
   "execution_count": 9,
   "metadata": {},
   "outputs": [
    {
     "data": {
      "text/plain": [
       "525    24\n",
       "34     21\n",
       "214    17\n",
       "188    16\n",
       "341     6\n",
       "256     5\n",
       "487     5\n",
       "49      5\n",
       "206     5\n",
       "23      4\n",
       "344     4\n",
       "462     3\n",
       "288     3\n",
       "477     3\n",
       "227     2\n",
       "119     1\n",
       "233     1\n",
       "437     1\n",
       "335     1\n",
       "439     1\n",
       "46      1\n",
       "211     1\n",
       "231     1\n",
       "244     1\n",
       "Name: Song_Name, dtype: int64"
      ]
     },
     "execution_count": 9,
     "metadata": {},
     "output_type": "execute_result"
    }
   ],
   "source": [
    "pos_nn_onSongName['Song_Name'].value_counts()"
   ]
  },
  {
   "cell_type": "code",
   "execution_count": 10,
   "metadata": {},
   "outputs": [],
   "source": [
    "pos_nn_onAlbum = pd.merge(positive_nn,all_neg,left_on='Artist_Name',right_on='id')"
   ]
  },
  {
   "cell_type": "code",
   "execution_count": 11,
   "metadata": {},
   "outputs": [
    {
     "data": {
      "text/plain": [
       "77     80\n",
       "206    22\n",
       "64      4\n",
       "175     3\n",
       "492     3\n",
       "178     2\n",
       "73      2\n",
       "182     1\n",
       "209     1\n",
       "521     1\n",
       "531     1\n",
       "278     1\n",
       "31      1\n",
       "306     1\n",
       "318     1\n",
       "322     1\n",
       "437     1\n",
       "328     1\n",
       "491     1\n",
       "359     1\n",
       "171     1\n",
       "185     1\n",
       "258     1\n",
       "Name: Album_Name, dtype: int64"
      ]
     },
     "execution_count": 11,
     "metadata": {},
     "output_type": "execute_result"
    }
   ],
   "source": [
    "pos_nn_onAlbum['Album_Name'].value_counts()"
   ]
  },
  {
   "cell_type": "markdown",
   "metadata": {},
   "source": [
    "## Bias test on album"
   ]
  },
  {
   "cell_type": "code",
   "execution_count": 29,
   "metadata": {},
   "outputs": [],
   "source": [
    "!mkdir temp"
   ]
  },
  {
   "cell_type": "code",
   "execution_count": 65,
   "metadata": {},
   "outputs": [],
   "source": [
    "hybrid = dm.MatchingModel(attr_summarizer='hybrid')\n",
    "hybrid.load_state('../../models/hybrid3.pth')"
   ]
  },
  {
   "cell_type": "code",
   "execution_count": 68,
   "metadata": {},
   "outputs": [],
   "source": [
    "all_pos = dm.data.process_unlabeled('../../Structured/itunes-amazon/exp3/positives.csv',trained_model=hybrid,\n",
    "                                     ignore_columns=['id','label'])"
   ]
  },
  {
   "cell_type": "code",
   "execution_count": 70,
   "metadata": {},
   "outputs": [
    {
     "name": "stdout",
     "output_type": "stream",
     "text": [
      "===>  PREDICT Epoch 9\n",
      "Finished Epoch 9 || Run Time:    0.7 | Load Time:    0.5 || F1:   0.00 | Prec:   0.00 | Rec:   0.00 || Ex/s:   0.00\n",
      "\n"
     ]
    },
    {
     "data": {
      "text/plain": [
       "(124, 18)"
      ]
     },
     "execution_count": 70,
     "metadata": {},
     "output_type": "execute_result"
    }
   ],
   "source": [
    "allpos_pred = hybrid.run_prediction(all_pos,output_attributes=True)\n",
    "allpos_pred[allpos_pred['match_score']>0.5].shape"
   ]
  },
  {
   "cell_type": "code",
   "execution_count": null,
   "metadata": {},
   "outputs": [],
   "source": []
  },
  {
   "cell_type": "code",
   "execution_count": null,
   "metadata": {},
   "outputs": [],
   "source": [
    "allpos['ltable_Album_Name'] = 'Leave a Whisper ( Deluxe Version )'\n",
    "allpos['rtable_Album_Name'] ='Leave A Whisper'"
   ]
  },
  {
   "cell_type": "code",
   "execution_count": 71,
   "metadata": {},
   "outputs": [],
   "source": [
    "allpos.to_csv('temp/allpos_alteredalbum.csv',index=False)"
   ]
  },
  {
   "cell_type": "code",
   "execution_count": 72,
   "metadata": {},
   "outputs": [],
   "source": [
    "testpos_alt = dm.data.process_unlabeled('temp/allpos_alteredalbum.csv',trained_model=hybrid,\n",
    "                                     ignore_columns=['id','label'])"
   ]
  },
  {
   "cell_type": "code",
   "execution_count": 73,
   "metadata": {},
   "outputs": [
    {
     "name": "stdout",
     "output_type": "stream",
     "text": [
      "===>  PREDICT Epoch 9\n",
      "Finished Epoch 9 || Run Time:    0.6 | Load Time:    0.4 || F1:   0.00 | Prec:   0.00 | Rec:   0.00 || Ex/s:   0.00\n",
      "\n"
     ]
    },
    {
     "data": {
      "text/plain": [
       "(122, 18)"
      ]
     },
     "execution_count": 73,
     "metadata": {},
     "output_type": "execute_result"
    }
   ],
   "source": [
    "testpos_alt_pred = hybrid.run_prediction(testpos_alt,output_attributes=True)\n",
    "testpos_alt_pred[testpos_alt_pred['match_score']>0.5].shape"
   ]
  },
  {
   "cell_type": "code",
   "execution_count": 74,
   "metadata": {},
   "outputs": [
    {
     "data": {
      "text/html": [
       "<div>\n",
       "<style scoped>\n",
       "    .dataframe tbody tr th:only-of-type {\n",
       "        vertical-align: middle;\n",
       "    }\n",
       "\n",
       "    .dataframe tbody tr th {\n",
       "        vertical-align: top;\n",
       "    }\n",
       "\n",
       "    .dataframe thead th {\n",
       "        text-align: right;\n",
       "    }\n",
       "</style>\n",
       "<table border=\"1\" class=\"dataframe\">\n",
       "  <thead>\n",
       "    <tr style=\"text-align: right;\">\n",
       "      <th></th>\n",
       "      <th>match_score</th>\n",
       "      <th>label</th>\n",
       "      <th>ltable_Song_Name</th>\n",
       "      <th>ltable_Artist_Name</th>\n",
       "      <th>ltable_Album_Name</th>\n",
       "      <th>ltable_Genre</th>\n",
       "      <th>ltable_Price</th>\n",
       "      <th>ltable_CopyRight</th>\n",
       "      <th>ltable_Time</th>\n",
       "      <th>ltable_Released</th>\n",
       "      <th>rtable_Song_Name</th>\n",
       "      <th>rtable_Artist_Name</th>\n",
       "      <th>rtable_Album_Name</th>\n",
       "      <th>rtable_Genre</th>\n",
       "      <th>rtable_Price</th>\n",
       "      <th>rtable_CopyRight</th>\n",
       "      <th>rtable_Time</th>\n",
       "      <th>rtable_Released</th>\n",
       "    </tr>\n",
       "    <tr>\n",
       "      <th>id</th>\n",
       "      <th></th>\n",
       "      <th></th>\n",
       "      <th></th>\n",
       "      <th></th>\n",
       "      <th></th>\n",
       "      <th></th>\n",
       "      <th></th>\n",
       "      <th></th>\n",
       "      <th></th>\n",
       "      <th></th>\n",
       "      <th></th>\n",
       "      <th></th>\n",
       "      <th></th>\n",
       "      <th></th>\n",
       "      <th></th>\n",
       "      <th></th>\n",
       "      <th></th>\n",
       "      <th></th>\n",
       "    </tr>\n",
       "  </thead>\n",
       "  <tbody>\n",
       "    <tr>\n",
       "      <th>287</th>\n",
       "      <td>0.995886</td>\n",
       "      <td>1</td>\n",
       "      <td>Outversion</td>\n",
       "      <td>Mark Ronson</td>\n",
       "      <td>Leave a Whisper ( Deluxe Version )</td>\n",
       "      <td>Pop , Music , R&amp;B / Soul,Soul,Dance,Rock,Jazz,...</td>\n",
       "      <td>$ 0.99</td>\n",
       "      <td>2007 Mark Ronson under exclusive license to SO...</td>\n",
       "      <td>1:50</td>\n",
       "      <td>10-Jul-07</td>\n",
       "      <td>Outversion</td>\n",
       "      <td>Mark Ronson</td>\n",
       "      <td>Leave A Whisper</td>\n",
       "      <td>Pop</td>\n",
       "      <td>$ 0.99</td>\n",
       "      <td>( c ) 2011 J'adore Records</td>\n",
       "      <td>1:50</td>\n",
       "      <td>July 10 , 2007</td>\n",
       "    </tr>\n",
       "    <tr>\n",
       "      <th>181</th>\n",
       "      <td>0.939949</td>\n",
       "      <td>1</td>\n",
       "      <td>Stars Come Out ( Tim Mason Remix )</td>\n",
       "      <td>Zedd</td>\n",
       "      <td>Leave a Whisper ( Deluxe Version )</td>\n",
       "      <td>Dance , Music , Electronic , House</td>\n",
       "      <td>$ 1.29</td>\n",
       "      <td>2012 Dim Mak Inc.</td>\n",
       "      <td>5:49</td>\n",
       "      <td>20-May-14</td>\n",
       "      <td>Stars Come Out ( Dillon Francis Remix )</td>\n",
       "      <td>Zedd</td>\n",
       "      <td>Leave A Whisper</td>\n",
       "      <td>Dance &amp; Electronic</td>\n",
       "      <td>$ 1.29</td>\n",
       "      <td>2012 Dim Mak Inc.</td>\n",
       "      <td>4:08</td>\n",
       "      <td>May 20 , 2014</td>\n",
       "    </tr>\n",
       "    <tr>\n",
       "      <th>493</th>\n",
       "      <td>0.924446</td>\n",
       "      <td>1</td>\n",
       "      <td>Here 's to the Good Times</td>\n",
       "      <td>Florida Georgia Line</td>\n",
       "      <td>Leave a Whisper ( Deluxe Version )</td>\n",
       "      <td>Country , Music , Urban Cowboy , Honky Tonk , ...</td>\n",
       "      <td>$ 1.29</td>\n",
       "      <td>‰ ãÑ 2012 Big Machine Label Group , LLC</td>\n",
       "      <td>4:11</td>\n",
       "      <td>4-Dec-12</td>\n",
       "      <td>Here 's To The Good Times</td>\n",
       "      <td>Florida Georgia Line</td>\n",
       "      <td>Leave A Whisper</td>\n",
       "      <td>Country</td>\n",
       "      <td>$ 1.29</td>\n",
       "      <td>( C ) 2012 Big Machine Label Group , LLC</td>\n",
       "      <td>4:10</td>\n",
       "      <td>December 4 , 2012</td>\n",
       "    </tr>\n",
       "    <tr>\n",
       "      <th>216</th>\n",
       "      <td>0.991433</td>\n",
       "      <td>1</td>\n",
       "      <td>Jack Daniels and Jesus</td>\n",
       "      <td>Chase Rice</td>\n",
       "      <td>Leave a Whisper ( Deluxe Version )</td>\n",
       "      <td>Country , Music , Urban Cowboy , Contemporary ...</td>\n",
       "      <td>$ 1.29</td>\n",
       "      <td>2014 Dack Janiels Records</td>\n",
       "      <td>3:55</td>\n",
       "      <td>19-Aug-14</td>\n",
       "      <td>Jack Daniels and Jesus</td>\n",
       "      <td>Chase Rice</td>\n",
       "      <td>Leave A Whisper</td>\n",
       "      <td>Country</td>\n",
       "      <td>$ 1.29</td>\n",
       "      <td>( C ) 2014 Dack Janiels Records , under exclus...</td>\n",
       "      <td>3:55</td>\n",
       "      <td>August 19 , 2014</td>\n",
       "    </tr>\n",
       "    <tr>\n",
       "      <th>53</th>\n",
       "      <td>0.964378</td>\n",
       "      <td>1</td>\n",
       "      <td>I Ai n't Livin ' Long Like This</td>\n",
       "      <td>Chris Janson</td>\n",
       "      <td>Leave a Whisper ( Deluxe Version )</td>\n",
       "      <td>Country , Music</td>\n",
       "      <td>$ 1.29</td>\n",
       "      <td>2014 Sony Music Entertainment</td>\n",
       "      <td>4:13</td>\n",
       "      <td>24-Feb-14</td>\n",
       "      <td>I Ai n't Livin ' Long Like This</td>\n",
       "      <td>Chris Janson</td>\n",
       "      <td>Leave A Whisper</td>\n",
       "      <td>Country</td>\n",
       "      <td>$ 1.29</td>\n",
       "      <td>( C ) 2012 Cash Money Records Inc.</td>\n",
       "      <td>4:13</td>\n",
       "      <td>February 24 , 2014</td>\n",
       "    </tr>\n",
       "  </tbody>\n",
       "</table>\n",
       "</div>"
      ],
      "text/plain": [
       "     match_score  label                    ltable_Song_Name  \\\n",
       "id                                                            \n",
       "287     0.995886      1                          Outversion   \n",
       "181     0.939949      1  Stars Come Out ( Tim Mason Remix )   \n",
       "493     0.924446      1           Here 's to the Good Times   \n",
       "216     0.991433      1              Jack Daniels and Jesus   \n",
       "53      0.964378      1     I Ai n't Livin ' Long Like This   \n",
       "\n",
       "       ltable_Artist_Name                   ltable_Album_Name  \\\n",
       "id                                                              \n",
       "287           Mark Ronson  Leave a Whisper ( Deluxe Version )   \n",
       "181                  Zedd  Leave a Whisper ( Deluxe Version )   \n",
       "493  Florida Georgia Line  Leave a Whisper ( Deluxe Version )   \n",
       "216            Chase Rice  Leave a Whisper ( Deluxe Version )   \n",
       "53           Chris Janson  Leave a Whisper ( Deluxe Version )   \n",
       "\n",
       "                                          ltable_Genre ltable_Price  \\\n",
       "id                                                                    \n",
       "287  Pop , Music , R&B / Soul,Soul,Dance,Rock,Jazz,...       $ 0.99   \n",
       "181                 Dance , Music , Electronic , House       $ 1.29   \n",
       "493  Country , Music , Urban Cowboy , Honky Tonk , ...       $ 1.29   \n",
       "216  Country , Music , Urban Cowboy , Contemporary ...       $ 1.29   \n",
       "53                                     Country , Music       $ 1.29   \n",
       "\n",
       "                                      ltable_CopyRight ltable_Time  \\\n",
       "id                                                                   \n",
       "287  2007 Mark Ronson under exclusive license to SO...        1:50   \n",
       "181                                  2012 Dim Mak Inc.        5:49   \n",
       "493            ‰ ãÑ 2012 Big Machine Label Group , LLC        4:11   \n",
       "216                          2014 Dack Janiels Records        3:55   \n",
       "53                       2014 Sony Music Entertainment        4:13   \n",
       "\n",
       "    ltable_Released                         rtable_Song_Name  \\\n",
       "id                                                             \n",
       "287       10-Jul-07                               Outversion   \n",
       "181       20-May-14  Stars Come Out ( Dillon Francis Remix )   \n",
       "493        4-Dec-12                Here 's To The Good Times   \n",
       "216       19-Aug-14                   Jack Daniels and Jesus   \n",
       "53        24-Feb-14          I Ai n't Livin ' Long Like This   \n",
       "\n",
       "       rtable_Artist_Name rtable_Album_Name        rtable_Genre rtable_Price  \\\n",
       "id                                                                             \n",
       "287           Mark Ronson   Leave A Whisper                 Pop       $ 0.99   \n",
       "181                  Zedd   Leave A Whisper  Dance & Electronic       $ 1.29   \n",
       "493  Florida Georgia Line   Leave A Whisper             Country       $ 1.29   \n",
       "216            Chase Rice   Leave A Whisper             Country       $ 1.29   \n",
       "53           Chris Janson   Leave A Whisper             Country       $ 1.29   \n",
       "\n",
       "                                      rtable_CopyRight rtable_Time  \\\n",
       "id                                                                   \n",
       "287                         ( c ) 2011 J'adore Records        1:50   \n",
       "181                                  2012 Dim Mak Inc.        4:08   \n",
       "493           ( C ) 2012 Big Machine Label Group , LLC        4:10   \n",
       "216  ( C ) 2014 Dack Janiels Records , under exclus...        3:55   \n",
       "53                  ( C ) 2012 Cash Money Records Inc.        4:13   \n",
       "\n",
       "        rtable_Released  \n",
       "id                       \n",
       "287      July 10 , 2007  \n",
       "181       May 20 , 2014  \n",
       "493   December 4 , 2012  \n",
       "216    August 19 , 2014  \n",
       "53   February 24 , 2014  "
      ]
     },
     "execution_count": 74,
     "metadata": {},
     "output_type": "execute_result"
    }
   ],
   "source": [
    "testpos_alt_pred.head()"
   ]
  },
  {
   "cell_type": "markdown",
   "metadata": {},
   "source": [
    "## Bias test on song name"
   ]
  },
  {
   "cell_type": "code",
   "execution_count": 101,
   "metadata": {},
   "outputs": [],
   "source": [
    "allpos = pd.read_csv('../../Structured/itunes-amazon/exp3/positives.csv')"
   ]
  },
  {
   "cell_type": "code",
   "execution_count": 102,
   "metadata": {},
   "outputs": [],
   "source": [
    "allpos['ltable_Song_Name'] = \"Lifted ( feat . Emeli Sand ' © & Professor Green )\"\n",
    "allpos['rtable_Song_Name'] = \"Never Been The Same [ feat . Thabo ]\""
   ]
  },
  {
   "cell_type": "code",
   "execution_count": 103,
   "metadata": {},
   "outputs": [],
   "source": [
    "allpos.to_csv('temp/allpos_altSongName.csv',index=False)"
   ]
  },
  {
   "cell_type": "code",
   "execution_count": 104,
   "metadata": {},
   "outputs": [],
   "source": [
    "allpos_alt = dm.data.process_unlabeled('temp/allpos_altSongName.csv',trained_model=hybrid,\n",
    "                                     ignore_columns=['id','label'])"
   ]
  },
  {
   "cell_type": "code",
   "execution_count": 105,
   "metadata": {},
   "outputs": [
    {
     "name": "stdout",
     "output_type": "stream",
     "text": [
      "===>  PREDICT Epoch 9\n",
      "Finished Epoch 9 || Run Time:    0.6 | Load Time:    0.4 || F1:   0.00 | Prec:   0.00 | Rec:   0.00 || Ex/s:   0.00\n",
      "\n"
     ]
    },
    {
     "data": {
      "text/plain": [
       "(74, 18)"
      ]
     },
     "execution_count": 105,
     "metadata": {},
     "output_type": "execute_result"
    }
   ],
   "source": [
    "predictions = hybrid.run_prediction(allpos_alt,output_attributes=True)\n",
    "predictions[predictions['match_score']>0.5].shape"
   ]
  },
  {
   "cell_type": "code",
   "execution_count": null,
   "metadata": {},
   "outputs": [],
   "source": []
  }
 ],
 "metadata": {
  "kernelspec": {
   "display_name": "Python 3",
   "language": "python",
   "name": "python3"
  },
  "language_info": {
   "codemirror_mode": {
    "name": "ipython",
    "version": 3
   },
   "file_extension": ".py",
   "mimetype": "text/x-python",
   "name": "python",
   "nbconvert_exporter": "python",
   "pygments_lexer": "ipython3",
   "version": "3.6.8"
  }
 },
 "nbformat": 4,
 "nbformat_minor": 2
}

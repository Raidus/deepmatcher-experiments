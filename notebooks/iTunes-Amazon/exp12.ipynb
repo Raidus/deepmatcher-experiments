{
 "cells": [
  {
   "cell_type": "markdown",
   "metadata": {},
   "source": [
    "# Experiment 12\n",
    "We want to evaluate Ri computation with fixed couples of attributes "
   ]
  },
  {
   "cell_type": "markdown",
   "metadata": {},
   "source": [
    "## Create altered dataset"
   ]
  },
  {
   "cell_type": "code",
   "execution_count": 1,
   "metadata": {},
   "outputs": [],
   "source": [
    "import sys\n",
    "sys.path.append('../..')"
   ]
  },
  {
   "cell_type": "code",
   "execution_count": 2,
   "metadata": {},
   "outputs": [],
   "source": [
    "import deepmatcher as dm\n",
    "import pandas as pd\n",
    "import random\n",
    "from utilities_functions.intermediate_layer_extraction import return_layer_input_output\n",
    "from utilities_functions.ri_calculator import find_smallest_variation_to_change"
   ]
  },
  {
   "cell_type": "code",
   "execution_count": 3,
   "metadata": {},
   "outputs": [],
   "source": [
    "train_df = pd.read_csv('../../Structured/itunes-amazon/train.csv')\n",
    "validation_df = pd.read_csv('../../Structured/itunes-amazon/validation.csv')"
   ]
  },
  {
   "cell_type": "code",
   "execution_count": 4,
   "metadata": {},
   "outputs": [],
   "source": [
    "def alter_dataset(dataset,columns,values,perturbation_nr):\n",
    "    row_tochange_indexes = random.sample(list(range(0,dataset.shape[0])),perturbation_nr)\n",
    "    for index in row_tochange_indexes:\n",
    "        for val,col in zip(values,columns):\n",
    "                    dataset.at[index,col] = val\n",
    "    print (row_tochange_indexes)\n",
    "    return "
   ]
  },
  {
   "cell_type": "code",
   "execution_count": 5,
   "metadata": {},
   "outputs": [
    {
     "name": "stdout",
     "output_type": "stream",
     "text": [
      "[41, 148, 114, 24, 27, 154, 25, 112, 177, 149, 240, 109, 165, 118, 191, 52, 203, 8, 99, 10, 173, 122, 124, 224, 46, 123, 184, 128, 111, 223, 199, 11, 19, 80, 88, 212, 113, 164, 159, 17, 120, 194, 108, 104, 68, 244, 13, 44, 40, 144, 181, 135, 81, 7, 170, 211, 107, 16, 87, 145, 200, 6, 228, 163, 182, 67, 2, 94, 197, 245, 198, 207, 125, 225, 121, 34, 63, 60, 188, 47, 226, 157, 230, 234, 14, 38, 213, 241, 119, 31, 161, 204, 151, 134, 171, 136, 61, 156, 229, 91]\n"
     ]
    }
   ],
   "source": [
    "columns = ['ltable_CopyRight','rtable_CopyRight','ltable_Genre','rtable_Genre']\n",
    "neg_values = [\"Bomb Record LLC \",\"Italian record company\",\" Tech And Sound \",\n",
    "         \"Fresh or Clean\"]\n",
    "train_neg = train_df[train_df['label']==0].copy().reset_index(drop=True)\n",
    "alter_dataset(train_neg,columns,neg_values,100)"
   ]
  },
  {
   "cell_type": "code",
   "execution_count": 6,
   "metadata": {},
   "outputs": [
    {
     "name": "stdout",
     "output_type": "stream",
     "text": [
      "[53, 15, 76, 0, 16, 34, 49, 71, 33, 51, 59, 38, 69, 50, 17, 10, 23, 72, 5, 11, 46, 2, 27, 39, 8, 60, 29, 1, 7, 48, 32, 66, 30, 36, 31, 43, 40, 20, 35, 65]\n"
     ]
    }
   ],
   "source": [
    "pos_values = [\"2010 Musical Home record\",\"2015 Avantgarde music\",\n",
    "         \"Same Genre\",\"Same Genre\"]\n",
    "train_pos = train_df[train_df['label']==1].copy().reset_index(drop=True)\n",
    "indexes = alter_dataset(train_pos,columns,pos_values,40)"
   ]
  },
  {
   "cell_type": "code",
   "execution_count": 8,
   "metadata": {},
   "outputs": [
    {
     "name": "stdout",
     "output_type": "stream",
     "text": [
      "[60, 54, 79, 36, 14, 48, 5, 76, 28, 55, 42, 32, 77, 2, 22, 11, 50, 71, 72, 53, 34, 65, 40, 37, 1, 56, 74, 67, 13, 83, 68, 16, 52, 4, 82, 33, 49, 38, 9, 75]\n",
      "[18, 5, 13, 10, 19, 14, 23, 16, 9, 12, 3, 6, 22, 21, 0]\n"
     ]
    }
   ],
   "source": [
    "valid_neg = validation_df[validation_df['label']==0].copy().reset_index(drop=True)\n",
    "valid_pos = validation_df[validation_df['label']==1].copy().reset_index(drop=True)\n",
    "alter_dataset(valid_neg,columns,neg_values,40)\n",
    "alter_dataset(valid_pos,columns,pos_values,15)"
   ]
  },
  {
   "cell_type": "code",
   "execution_count": 9,
   "metadata": {},
   "outputs": [],
   "source": [
    "valid = [valid_neg,valid_pos]\n",
    "validation = pd.concat(valid)\n",
    "train = [train_neg,train_pos]\n",
    "training = pd.concat(train)"
   ]
  },
  {
   "cell_type": "code",
   "execution_count": 10,
   "metadata": {},
   "outputs": [
    {
     "name": "stdout",
     "output_type": "stream",
     "text": [
      "mkdir: cannot create directory ‘temp’: File exists\n",
      "mv: cannot stat '../../Structured/itunes-amazon/test.csv': No such file or directory\n"
     ]
    }
   ],
   "source": [
    "! mkdir temp\n",
    "! mv ../../Structured/itunes-amazon/test.csv temp"
   ]
  },
  {
   "cell_type": "code",
   "execution_count": 12,
   "metadata": {},
   "outputs": [],
   "source": [
    "training.to_csv('temp/train_fixedcouples_genrecopyright.csv',index=False)"
   ]
  },
  {
   "cell_type": "code",
   "execution_count": 13,
   "metadata": {},
   "outputs": [],
   "source": [
    "validation.to_csv('temp/validation_fixedcouples_genrecopyright.csv',index=False)"
   ]
  },
  {
   "cell_type": "markdown",
   "metadata": {},
   "source": [
    "## Train model with new dataset"
   ]
  },
  {
   "cell_type": "code",
   "execution_count": 14,
   "metadata": {},
   "outputs": [
    {
     "name": "stderr",
     "output_type": "stream",
     "text": [
      "WARNING:deepmatcher.data.dataset:Rebuilding data cache because: ['One or more data files have been modified.']\n"
     ]
    }
   ],
   "source": [
    "train,validation,test = dm.data.process('temp',train='train_fixedcouples_genrecopyright.csv',\n",
    "                                        validation='validation_fixedcouples_genrecopyright.csv',\n",
    "                                       test='test.csv',left_prefix='ltable_',right_prefix='rtable_',cache='exp12.pth')"
   ]
  },
  {
   "cell_type": "code",
   "execution_count": 15,
   "metadata": {},
   "outputs": [
    {
     "name": "stdout",
     "output_type": "stream",
     "text": [
      "* Number of trainable parameters: 17757810\n",
      "===>  TRAIN Epoch 1\n",
      "Finished Epoch 1 || Run Time:    8.3 | Load Time:    1.3 || F1:  47.48 | Prec:  32.84 | Rec:  85.71 || Ex/s:  33.75\n",
      "\n",
      "===>  EVAL Epoch 1\n",
      "Finished Epoch 1 || Run Time:    0.8 | Load Time:    0.4 || F1:  83.02 | Prec:  75.86 | Rec:  91.67 || Ex/s:  89.43\n",
      "\n",
      "* Best F1: 83.01886792452831\n",
      "Saving best model...\n",
      "Done.\n",
      "---------------------\n",
      "\n",
      "===>  TRAIN Epoch 2\n",
      "Finished Epoch 2 || Run Time:    7.9 | Load Time:    1.2 || F1:  81.40 | Prec:  73.68 | Rec:  90.91 || Ex/s:  35.61\n",
      "\n",
      "===>  EVAL Epoch 2\n",
      "Finished Epoch 2 || Run Time:    0.8 | Load Time:    0.4 || F1:  86.27 | Prec:  81.48 | Rec:  91.67 || Ex/s:  89.79\n",
      "\n",
      "* Best F1: 86.27450980392157\n",
      "Saving best model...\n",
      "Done.\n",
      "---------------------\n",
      "\n",
      "===>  TRAIN Epoch 3\n",
      "Finished Epoch 3 || Run Time:    7.9 | Load Time:    1.2 || F1:  88.62 | Prec:  82.22 | Rec:  96.10 || Ex/s:  35.32\n",
      "\n",
      "===>  EVAL Epoch 3\n",
      "Finished Epoch 3 || Run Time:    0.8 | Load Time:    0.4 || F1:  89.80 | Prec:  88.00 | Rec:  91.67 || Ex/s:  92.00\n",
      "\n",
      "* Best F1: 89.79591836734693\n",
      "Saving best model...\n",
      "Done.\n",
      "---------------------\n",
      "\n",
      "===>  TRAIN Epoch 4\n",
      "Finished Epoch 4 || Run Time:    8.1 | Load Time:    1.2 || F1:  93.17 | Prec:  89.29 | Rec:  97.40 || Ex/s:  34.54\n",
      "\n",
      "===>  EVAL Epoch 4\n",
      "Finished Epoch 4 || Run Time:    0.9 | Load Time:    0.4 || F1:  93.62 | Prec:  95.65 | Rec:  91.67 || Ex/s:  88.09\n",
      "\n",
      "* Best F1: 93.61702127659575\n",
      "Saving best model...\n",
      "Done.\n",
      "---------------------\n",
      "\n",
      "===>  TRAIN Epoch 5\n",
      "Finished Epoch 5 || Run Time:    8.0 | Load Time:    1.2 || F1: 100.00 | Prec: 100.00 | Rec: 100.00 || Ex/s:  34.84\n",
      "\n",
      "===>  EVAL Epoch 5\n",
      "Finished Epoch 5 || Run Time:    0.8 | Load Time:    0.3 || F1:  86.79 | Prec:  79.31 | Rec:  95.83 || Ex/s:  90.74\n",
      "\n",
      "---------------------\n",
      "\n",
      "===>  TRAIN Epoch 6\n",
      "Finished Epoch 6 || Run Time:    7.9 | Load Time:    1.2 || F1: 100.00 | Prec: 100.00 | Rec: 100.00 || Ex/s:  35.47\n",
      "\n",
      "===>  EVAL Epoch 6\n",
      "Finished Epoch 6 || Run Time:    0.8 | Load Time:    0.3 || F1:  82.14 | Prec:  71.88 | Rec:  95.83 || Ex/s:  97.66\n",
      "\n",
      "---------------------\n",
      "\n",
      "===>  TRAIN Epoch 7\n",
      "Finished Epoch 7 || Run Time:    7.7 | Load Time:    1.2 || F1: 100.00 | Prec: 100.00 | Rec: 100.00 || Ex/s:  36.12\n",
      "\n",
      "===>  EVAL Epoch 7\n",
      "Finished Epoch 7 || Run Time:    0.8 | Load Time:    0.3 || F1:  83.64 | Prec:  74.19 | Rec:  95.83 || Ex/s:  94.66\n",
      "\n",
      "---------------------\n",
      "\n",
      "===>  TRAIN Epoch 8\n",
      "Finished Epoch 8 || Run Time:    7.8 | Load Time:    1.2 || F1: 100.00 | Prec: 100.00 | Rec: 100.00 || Ex/s:  35.94\n",
      "\n",
      "===>  EVAL Epoch 8\n",
      "Finished Epoch 8 || Run Time:    0.8 | Load Time:    0.3 || F1:  85.19 | Prec:  76.67 | Rec:  95.83 || Ex/s:  94.57\n",
      "\n",
      "---------------------\n",
      "\n",
      "===>  TRAIN Epoch 9\n",
      "Finished Epoch 9 || Run Time:    7.9 | Load Time:    1.2 || F1: 100.00 | Prec: 100.00 | Rec: 100.00 || Ex/s:  35.66\n",
      "\n",
      "===>  EVAL Epoch 9\n",
      "Finished Epoch 9 || Run Time:    0.8 | Load Time:    0.3 || F1:  86.79 | Prec:  79.31 | Rec:  95.83 || Ex/s:  94.40\n",
      "\n",
      "---------------------\n",
      "\n",
      "===>  TRAIN Epoch 10\n",
      "Finished Epoch 10 || Run Time:    8.0 | Load Time:    1.2 || F1: 100.00 | Prec: 100.00 | Rec: 100.00 || Ex/s:  34.95\n",
      "\n",
      "===>  EVAL Epoch 10\n",
      "Finished Epoch 10 || Run Time:    0.8 | Load Time:    0.4 || F1:  85.19 | Prec:  76.67 | Rec:  95.83 || Ex/s:  93.65\n",
      "\n",
      "---------------------\n",
      "\n",
      "===>  TRAIN Epoch 11\n",
      "Finished Epoch 11 || Run Time:    7.6 | Load Time:    1.2 || F1: 100.00 | Prec: 100.00 | Rec: 100.00 || Ex/s:  36.48\n",
      "\n",
      "===>  EVAL Epoch 11\n",
      "Finished Epoch 11 || Run Time:    0.8 | Load Time:    0.3 || F1:  85.19 | Prec:  76.67 | Rec:  95.83 || Ex/s:  91.24\n",
      "\n",
      "---------------------\n",
      "\n",
      "===>  TRAIN Epoch 12\n",
      "Finished Epoch 12 || Run Time:    7.8 | Load Time:    1.2 || F1: 100.00 | Prec: 100.00 | Rec: 100.00 || Ex/s:  35.88\n",
      "\n",
      "===>  EVAL Epoch 12\n",
      "Finished Epoch 12 || Run Time:    0.8 | Load Time:    0.3 || F1:  85.19 | Prec:  76.67 | Rec:  95.83 || Ex/s:  93.26\n",
      "\n",
      "---------------------\n",
      "\n",
      "===>  TRAIN Epoch 13\n",
      "Finished Epoch 13 || Run Time:    7.8 | Load Time:    1.2 || F1: 100.00 | Prec: 100.00 | Rec: 100.00 || Ex/s:  35.63\n",
      "\n",
      "===>  EVAL Epoch 13\n",
      "Finished Epoch 13 || Run Time:    0.8 | Load Time:    0.3 || F1:  85.19 | Prec:  76.67 | Rec:  95.83 || Ex/s:  93.76\n",
      "\n",
      "---------------------\n",
      "\n",
      "===>  TRAIN Epoch 14\n",
      "Finished Epoch 14 || Run Time:    7.8 | Load Time:    1.2 || F1: 100.00 | Prec: 100.00 | Rec: 100.00 || Ex/s:  35.68\n",
      "\n",
      "===>  EVAL Epoch 14\n",
      "Finished Epoch 14 || Run Time:    0.8 | Load Time:    0.3 || F1:  85.19 | Prec:  76.67 | Rec:  95.83 || Ex/s:  93.23\n",
      "\n",
      "---------------------\n",
      "\n",
      "===>  TRAIN Epoch 15\n",
      "Finished Epoch 15 || Run Time:    7.8 | Load Time:    1.2 || F1: 100.00 | Prec: 100.00 | Rec: 100.00 || Ex/s:  35.77\n",
      "\n",
      "===>  EVAL Epoch 15\n",
      "Finished Epoch 15 || Run Time:    0.8 | Load Time:    0.3 || F1:  85.19 | Prec:  76.67 | Rec:  95.83 || Ex/s:  91.86\n",
      "\n",
      "---------------------\n",
      "\n",
      "===>  TRAIN Epoch 16\n",
      "Finished Epoch 16 || Run Time:    8.0 | Load Time:    1.2 || F1: 100.00 | Prec: 100.00 | Rec: 100.00 || Ex/s:  34.86\n",
      "\n",
      "===>  EVAL Epoch 16\n",
      "Finished Epoch 16 || Run Time:    0.8 | Load Time:    0.3 || F1:  85.19 | Prec:  76.67 | Rec:  95.83 || Ex/s:  93.81\n",
      "\n",
      "---------------------\n",
      "\n",
      "===>  TRAIN Epoch 17\n",
      "Finished Epoch 17 || Run Time:    7.9 | Load Time:    1.2 || F1: 100.00 | Prec: 100.00 | Rec: 100.00 || Ex/s:  35.63\n",
      "\n",
      "===>  EVAL Epoch 17\n",
      "Finished Epoch 17 || Run Time:    0.8 | Load Time:    0.3 || F1:  85.19 | Prec:  76.67 | Rec:  95.83 || Ex/s:  92.38\n",
      "\n",
      "---------------------\n",
      "\n",
      "===>  TRAIN Epoch 18\n",
      "Finished Epoch 18 || Run Time:    8.1 | Load Time:    1.3 || F1: 100.00 | Prec: 100.00 | Rec: 100.00 || Ex/s:  34.71\n",
      "\n",
      "===>  EVAL Epoch 18\n",
      "Finished Epoch 18 || Run Time:    0.8 | Load Time:    0.3 || F1:  85.19 | Prec:  76.67 | Rec:  95.83 || Ex/s:  91.40\n",
      "\n",
      "---------------------\n",
      "\n",
      "===>  TRAIN Epoch 19\n",
      "Finished Epoch 19 || Run Time:    7.9 | Load Time:    1.2 || F1: 100.00 | Prec: 100.00 | Rec: 100.00 || Ex/s:  35.37\n",
      "\n",
      "===>  EVAL Epoch 19\n",
      "Finished Epoch 19 || Run Time:    0.8 | Load Time:    0.3 || F1:  85.19 | Prec:  76.67 | Rec:  95.83 || Ex/s:  93.61\n",
      "\n",
      "---------------------\n",
      "\n",
      "===>  TRAIN Epoch 20\n",
      "Finished Epoch 20 || Run Time:    7.9 | Load Time:    1.2 || F1: 100.00 | Prec: 100.00 | Rec: 100.00 || Ex/s:  35.30\n",
      "\n",
      "===>  EVAL Epoch 20\n",
      "Finished Epoch 20 || Run Time:    0.9 | Load Time:    0.4 || F1:  85.19 | Prec:  76.67 | Rec:  95.83 || Ex/s:  89.63\n",
      "\n",
      "---------------------\n",
      "\n",
      "Loading best model...\n",
      "Training done.\n"
     ]
    },
    {
     "data": {
      "text/plain": [
       "93.61702127659575"
      ]
     },
     "execution_count": 15,
     "metadata": {},
     "output_type": "execute_result"
    }
   ],
   "source": [
    "hybrid_model = dm.MatchingModel(attr_summarizer='hybrid')\n",
    "hybrid_model.run_train(train,validation,best_save_path='../../models/hybrid_fixedcouples.pth',pos_neg_ratio=4,epochs=20,batch_size=16)\n",
    "#hybrid_model.load_state('../../models/hybrid_fixedcouples.pth')\n",
    "#hybrid_model.cuda()"
   ]
  },
  {
   "cell_type": "code",
   "execution_count": 16,
   "metadata": {},
   "outputs": [
    {
     "name": "stdout",
     "output_type": "stream",
     "text": [
      "===>  EVAL Epoch 4\n",
      "Finished Epoch 4 || Run Time:    0.5 | Load Time:    0.4 || F1:  77.19 | Prec:  84.62 | Rec:  70.97 || Ex/s: 129.14\n",
      "\n"
     ]
    },
    {
     "data": {
      "text/plain": [
       "77.19298245614034"
      ]
     },
     "execution_count": 16,
     "metadata": {},
     "output_type": "execute_result"
    }
   ],
   "source": [
    "hybrid_model.run_eval(test)"
   ]
  },
  {
   "cell_type": "markdown",
   "metadata": {},
   "source": [
    "## Compute Ri"
   ]
  },
  {
   "cell_type": "code",
   "execution_count": 37,
   "metadata": {},
   "outputs": [
    {
     "data": {
      "text/plain": [
       "bomb record llc                                                                                                                                                                                                                                                           100\n",
       "2010 musical home record                                                                                                                                                                                                                                                   40\n",
       "2010 gum prod licence exclusive parlophone music france                                                                                                                                                                                                                    18\n",
       "2012 atlantic recording corporation for the united states and wea international inc. for the world outside of the united states                                                                                                                                            15\n",
       "2014 what a music ltd. under exclusive license to parlophone/warner music france , under exclusive license to atlantic recording corporation for the united states . all rights reserved .                                                                                 11\n",
       "2011 what a music ltd , licence exclusive parlophone music france                                                                                                                                                                                                           6\n",
       "2012 paxam records                                                                                                                                                                                                                                                          6\n",
       "2015 300 entertainment/rgf productions                                                                                                                                                                                                                                      5\n",
       "2015 kidinakorner/interscope records                                                                                                                                                                                                                                        5\n",
       "‰ ãñ 2012 macklemore , llc .                                                                                                                                                                                                                                                4\n",
       "2015 interscope records                                                                                                                                                                                                                                                     4\n",
       "‰ ãñ 2011 cash money records inc .                                                                                                                                                                                                                                          4\n",
       "‰ ãñ 2007 gum records                                                                                                                                                                                                                                                       4\n",
       "2014 atlantic recording corporation for the united states and wea international inc. for the world outside of the united states . a warner music group company                                                                                                              4\n",
       "‰ ãñ 2014 universal island records , a division of universal music operations limited                                                                                                                                                                                       3\n",
       "2012 ultra records , inc .                                                                                                                                                                                                                                                  3\n",
       "‰ ãñ 2011 capitol records , llc . all rights reserved . unauthorized reproduction is a violation of applicable laws . manufactured by capitol records , llc , 1750 north vine street , hollywood , ca 90028 .                                                               3\n",
       "2014 what a music ltd. under exclusive license to parlophone/warner music france , under exclusive license to atlantic recording corporation for the united states . all rights reserved                                                                                    3\n",
       "2011 atlantic recording corporation for the united states and wea international inc. for the world outside of the united states .                                                                                                                                           2\n",
       "2015 atlantic recording corporation for the us and wea international for the world outside the united states . a warner music group company                                                                                                                                 2\n",
       "2011 polydor ltd. ( uk )                                                                                                                                                                                                                                                    2\n",
       "2015 owsla / mad decent / atlantic recording corporation for the united states and wea international inc. for the world outside of the united states . a warner music group company                                                                                         2\n",
       "2007 mark ronson under exclusive license to sony bmg music entertainment ( uk ) limited                                                                                                                                                                                     2\n",
       "2011 atlantic recording corporation for the united states and wea international inc. for the world outside of the united states                                                                                                                                             2\n",
       "‰ ãñ 2010 cash money records inc .                                                                                                                                                                                                                                          2\n",
       "2014 warner music uk limited                                                                                                                                                                                                                                                2\n",
       "‰ ãñ 2013 secretly canadian / mad decent                                                                                                                                                                                                                                    2\n",
       "‰ ãñ 2013 simco limited under exclusive license to sony music entertainment uk limited                                                                                                                                                                                      2\n",
       "2009 rostrum records                                                                                                                                                                                                                                                        2\n",
       "2011 interscope records                                                                                                                                                                                                                                                     2\n",
       "                                                                                                                                                                                                                                                                         ... \n",
       "2014 , 2015 simco ltd. under exclusive license to epic records , a division of sony music entertainment                                                                                                                                                                     1\n",
       "2014 sony music entertainment                                                                                                                                                                                                                                               1\n",
       "2014 little big town , llc under exclusive license to capitol records nashville                                                                                                                                                                                             1\n",
       "2010 young money entertainment/cash money records/universal motown                                                                                                                                                                                                          1\n",
       "‰ ãñ 2010 polydor ltd. ( uk )                                                                                                                                                                                                                                               1\n",
       "2014 simco limited under exclusive license to sony music entertainment uk limited                                                                                                                                                                                           1\n",
       "2011 19 recordings , inc .                                                                                                                                                                                                                                                  1\n",
       "2015 sony music entertainment us latin llc                                                                                                                                                                                                                                  1\n",
       "2014 dack janiels records                                                                                                                                                                                                                                                   1\n",
       "2007 the island def jam music group                                                                                                                                                                                                                                         1\n",
       "2004 bmg music                                                                                                                                                                                                                                                              1\n",
       "2002 bmg                                                                                                                                                                                                                                                                    1\n",
       "2011 macklemore , llc                                                                                                                                                                                                                                                       1\n",
       "1999 capitol records nashville                                                                                                                                                                                                                                              1\n",
       "2008 atlantic recording corporation for the united states and wea international inc. for the world outside of the united states                                                                                                                                             1\n",
       "2015 paxamericana recording company under exclusive license to blue note records                                                                                                                                                                                            1\n",
       "‰ ãñ 2013 emi records nashville . all rights reserved . unauthorized reproduction is a violation of applicable laws . manufactured by capitol records nashville , 401 commerce street , suite 1100 , nashville , tn 37219                                                   1\n",
       "2015 sony music entertainment uk limited                                                                                                                                                                                                                                    1\n",
       "‰ ãñ 2014 big machine records , llc                                                                                                                                                                                                                                         1\n",
       "‰ ãñ 2014 big machine label group , llc                                                                                                                                                                                                                                     1\n",
       "2014 island records , a division of umg recordings , inc .                                                                                                                                                                                                                  1\n",
       "2013 interscope records                                                                                                                                                                                                                                                     1\n",
       "‰ ãñ 2010 hit red records under exclusive license to capitol records nashville . all rights reserved . unauthorized reproduction is a violation of applicable laws . manufactured by capitol records nashville , 3322 west end avenue , 11th floor , nashville , tn 37      1\n",
       "‰ ãñ 2007 mca nashville , a division of umg recordings , inc .                                                                                                                                                                                                              1\n",
       "2011 bugeyed records                                                                                                                                                                                                                                                        1\n",
       "2012 warner music uk limited                                                                                                                                                                                                                                                1\n",
       "‰ ãñ 2010 bad boy/interscope records                                                                                                                                                                                                                                        1\n",
       "‰ ãñ 2009 atlantic recording corporation for the united states and wea international inc. for the world outside of the united states                                                                                                                                        1\n",
       "‰ ãñ 2013 big machine label group , llc                                                                                                                                                                                                                                     1\n",
       "2000 bmg entertainment                                                                                                                                                                                                                                                      1\n",
       "Name: ltable_CopyRight, Length: 85, dtype: int64"
      ]
     },
     "execution_count": 37,
     "metadata": {},
     "output_type": "execute_result"
    }
   ],
   "source": [
    "train.get_raw_table()['ltable_CopyRight'].value_counts()"
   ]
  },
  {
   "cell_type": "code",
   "execution_count": 17,
   "metadata": {},
   "outputs": [],
   "source": [
    "attributes = ['Song_Name','Artist_Name','Album_Name','Genre','Price','CopyRight','Time','Released']\n",
    "low_ranking_attributes =['Artist_Name','Album_Name','Genre','CopyRight','Released']\n",
    "all_couples_lowranking = []\n",
    "for att in low_ranking_attributes:\n",
    "    all_couples_lowranking.append([[att,attr] for attr in attributes if attr!=att])"
   ]
  },
  {
   "cell_type": "code",
   "execution_count": 29,
   "metadata": {},
   "outputs": [],
   "source": [
    "neg_classifier_inputs,neg_classifier_outputs,neg_ids = return_layer_input_output('../../Structured/itunes-amazon/'\n",
    "                                                                         ,'test_negatives',32,hybrid_model,\n",
    "                                                                        hybrid_model.classifier)"
   ]
  },
  {
   "cell_type": "code",
   "execution_count": 30,
   "metadata": {},
   "outputs": [],
   "source": [
    "pos_classifier_inputs,pos_classifier_outputs,pos_ids = return_layer_input_output('../../Structured/itunes-amazon',\n",
    "                                                                       'test_positives',32,hybrid_model,\n",
    "                                                                       hybrid_model.classifier)"
   ]
  },
  {
   "cell_type": "code",
   "execution_count": 31,
   "metadata": {},
   "outputs": [],
   "source": [
    "negative_classifier_inputs = list(map(lambda x: x[0],neg_classifier_inputs))\n",
    "positive_classifier_inputs = list(map(lambda x: x[0],pos_classifier_inputs))"
   ]
  },
  {
   "cell_type": "code",
   "execution_count": 32,
   "metadata": {},
   "outputs": [],
   "source": [
    "attribute_sets = all_couples_lowranking[2]\n",
    "column_names = []\n",
    "for att_set in attribute_sets:\n",
    "    column_names.append(att_set[0][0:3]+'-'+att_set[1][0:3])"
   ]
  },
  {
   "cell_type": "code",
   "execution_count": 33,
   "metadata": {},
   "outputs": [
    {
     "name": "stdout",
     "output_type": "stream",
     "text": [
      "Processing sample 0\n",
      "Processing sample 1\n",
      "Processing sample 2\n",
      "Processing sample 3\n",
      "Processing sample 4\n",
      "Processing sample 5\n",
      "Processing sample 6\n",
      "Processing sample 7\n",
      "Processing sample 8\n",
      "Processing sample 9\n",
      "Processing sample 10\n",
      "Processing sample 11\n",
      "Processing sample 12\n",
      "Processing sample 13\n",
      "Processing sample 14\n",
      "Processing sample 15\n",
      "Processing sample 16\n",
      "Processing sample 17\n",
      "Processing sample 18\n",
      "Processing sample 19\n",
      "Processing sample 20\n",
      "Processing sample 21\n",
      "Processing sample 22\n",
      "Processing sample 23\n",
      "Processing sample 24\n",
      "Processing sample 25\n",
      "Processing sample 26\n",
      "Processing sample 27\n",
      "Processing sample 28\n",
      "Processing sample 29\n",
      "Processing sample 30\n",
      "Processing sample 31\n",
      "Processing sample 32\n",
      "Processing sample 33\n",
      "Processing sample 34\n",
      "Processing sample 35\n",
      "Processing sample 36\n",
      "Processing sample 37\n",
      "Processing sample 38\n",
      "Processing sample 39\n",
      "Processing sample 40\n",
      "Processing sample 41\n",
      "Processing sample 42\n",
      "Processing sample 43\n",
      "Processing sample 44\n",
      "Processing sample 45\n",
      "Processing sample 46\n",
      "Processing sample 47\n",
      "Processing sample 48\n",
      "Processing sample 49\n",
      "Processing sample 50\n",
      "Processing sample 51\n",
      "Processing sample 52\n",
      "Processing sample 53\n",
      "Processing sample 54\n",
      "Processing sample 55\n",
      "Processing sample 56\n",
      "Processing sample 57\n",
      "Processing sample 58\n",
      "Processing sample 59\n",
      "Processing sample 60\n",
      "Processing sample 61\n",
      "Processing sample 62\n",
      "Processing sample 63\n",
      "Processing sample 64\n",
      "Processing sample 65\n",
      "Processing sample 66\n",
      "Processing sample 67\n",
      "Processing sample 68\n",
      "Processing sample 69\n",
      "Processing sample 70\n",
      "Processing sample 71\n",
      "Processing sample 72\n",
      "Processing sample 73\n",
      "Processing sample 74\n",
      "Processing sample 75\n",
      "Processing sample 76\n"
     ]
    }
   ],
   "source": [
    "attribute_lenght= len(attributes)\n",
    "\n",
    "current_sample = 0\n",
    "#each column of this matrix is related to a specific attribute\n",
    "negatives_ri_matrix = []\n",
    "for batch in negative_classifier_inputs:\n",
    "    for sample_index in range(len(batch)):\n",
    "        print('Processing sample {}'.format(current_sample))\n",
    "        current_sample_ris = current_sample_ris = list(map(lambda att_set: find_smallest_variation_to_change(hybrid_model.classifier,\n",
    "                                                                                    classifier_length=1200,\n",
    "                                                                                    attribute_length=150,\n",
    "                                                                                    input_matrix=batch,\n",
    "                                                                                    vector_index=sample_index,\n",
    "                                                                                    attributes=[attributes.index(attr)\n",
    "                                                                                               for attr in att_set]\n",
    "                                                                                    ,class_to_reach=1),attribute_sets))\n",
    "        negatives_ri_matrix.append(current_sample_ris)\n",
    "        current_sample+=1"
   ]
  },
  {
   "cell_type": "code",
   "execution_count": 34,
   "metadata": {},
   "outputs": [
    {
     "data": {
      "text/plain": [
       "<matplotlib.axes._subplots.AxesSubplot at 0x7f5c705331d0>"
      ]
     },
     "execution_count": 34,
     "metadata": {},
     "output_type": "execute_result"
    },
    {
     "data": {
      "image/png": "[encoded data removed]",
      "text/plain": [
       "<Figure size 432x288 with 1 Axes>"
      ]
     },
     "metadata": {
      "needs_background": "light"
     },
     "output_type": "display_data"
    }
   ],
   "source": [
    "import torch\n",
    "ri_norms_negative_samples = []\n",
    "for ri_list in negatives_ri_matrix:\n",
    "    ri_norms_negative_samples.append(list(map(lambda x:torch.norm(x).data[0],ri_list)))\n",
    "neg_variation_df = pd.DataFrame(data = ri_norms_negative_samples,columns = column_names)\n",
    "sum_ri = neg_variation_df.sum()\n",
    "plt = sum_ri.plot\n",
    "plt.bar()"
   ]
  },
  {
   "cell_type": "code",
   "execution_count": 38,
   "metadata": {},
   "outputs": [
    {
     "name": "stdout",
     "output_type": "stream",
     "text": [
      "Processing sample 0\n",
      "Processing sample 1\n",
      "Processing sample 2\n",
      "Processing sample 3\n",
      "Processing sample 4\n",
      "Processing sample 5\n",
      "Processing sample 6\n",
      "Processing sample 7\n",
      "Processing sample 8\n",
      "Processing sample 9\n",
      "Processing sample 10\n",
      "Processing sample 11\n",
      "Processing sample 12\n",
      "Processing sample 13\n",
      "Processing sample 14\n",
      "Processing sample 15\n",
      "Processing sample 16\n",
      "Processing sample 17\n",
      "Processing sample 18\n",
      "Processing sample 19\n",
      "Processing sample 20\n",
      "Processing sample 21\n",
      "Processing sample 22\n",
      "Processing sample 23\n",
      "Processing sample 24\n",
      "Processing sample 25\n",
      "Processing sample 26\n",
      "Processing sample 27\n",
      "Processing sample 28\n",
      "Processing sample 29\n",
      "Processing sample 30\n"
     ]
    }
   ],
   "source": [
    "attribute_lenght= len(attributes)\n",
    "\n",
    "current_sample = 0\n",
    "#each column of this matrix is related to a specific attribute\n",
    "positives_ri_matrix = []\n",
    "for batch in positive_classifier_inputs:\n",
    "    for sample_index in range(len(batch)):\n",
    "        print('Processing sample {}'.format(current_sample))\n",
    "        current_sample_ris = current_sample_ris = list(map(lambda att_set: find_smallest_variation_to_change(hybrid_model.classifier,\n",
    "                                                                                    classifier_length=1200,\n",
    "                                                                                    attribute_length=150,\n",
    "                                                                                    input_matrix=batch,\n",
    "                                                                                    vector_index=sample_index,\n",
    "                                                                                    attributes=[attributes.index(attr)\n",
    "                                                                                               for attr in att_set]\n",
    "                                                                                    ,class_to_reach=0),attribute_sets))\n",
    "        positives_ri_matrix.append(current_sample_ris)\n",
    "        current_sample+=1"
   ]
  },
  {
   "cell_type": "code",
   "execution_count": 39,
   "metadata": {},
   "outputs": [
    {
     "data": {
      "text/plain": [
       "<matplotlib.axes._subplots.AxesSubplot at 0x7f5c7057f470>"
      ]
     },
     "execution_count": 39,
     "metadata": {},
     "output_type": "execute_result"
    },
    {
     "data": {
      "image/png": "[encoded data removed]",
      "text/plain": [
       "<Figure size 432x288 with 1 Axes>"
      ]
     },
     "metadata": {
      "needs_background": "light"
     },
     "output_type": "display_data"
    }
   ],
   "source": [
    "ri_norms_positive_samples = []\n",
    "for ri_list in positives_ri_matrix:\n",
    "    ri_norms_positive_samples.append(list(map(lambda x:torch.norm(x).data[0],ri_list)))\n",
    "variation_pos_df = pd.DataFrame(data =ri_norms_positive_samples,columns = column_names)\n",
    "ri_sum_pos = variation_pos_df.sum()\n",
    "ri_sum_pos.plot.bar()"
   ]
  },
  {
   "cell_type": "code",
   "execution_count": 40,
   "metadata": {},
   "outputs": [],
   "source": [
    "! rm -r temp"
   ]
  },
  {
   "cell_type": "code",
   "execution_count": 41,
   "metadata": {},
   "outputs": [
    {
     "data": {
      "text/html": [
       "<div>\n",
       "<style scoped>\n",
       "    .dataframe tbody tr th:only-of-type {\n",
       "        vertical-align: middle;\n",
       "    }\n",
       "\n",
       "    .dataframe tbody tr th {\n",
       "        vertical-align: top;\n",
       "    }\n",
       "\n",
       "    .dataframe thead th {\n",
       "        text-align: right;\n",
       "    }\n",
       "</style>\n",
       "<table border=\"1\" class=\"dataframe\">\n",
       "  <thead>\n",
       "    <tr style=\"text-align: right;\">\n",
       "      <th></th>\n",
       "      <th>Gen-Son</th>\n",
       "      <th>Gen-Art</th>\n",
       "      <th>Gen-Alb</th>\n",
       "      <th>Gen-Pri</th>\n",
       "      <th>Gen-Cop</th>\n",
       "      <th>Gen-Tim</th>\n",
       "      <th>Gen-Rel</th>\n",
       "    </tr>\n",
       "  </thead>\n",
       "  <tbody>\n",
       "    <tr>\n",
       "      <th>0</th>\n",
       "      <td>2.400168</td>\n",
       "      <td>3.271580</td>\n",
       "      <td>2.831830</td>\n",
       "      <td>2.292891</td>\n",
       "      <td>3.141664</td>\n",
       "      <td>1.739190</td>\n",
       "      <td>3.580072</td>\n",
       "    </tr>\n",
       "    <tr>\n",
       "      <th>1</th>\n",
       "      <td>3.743701</td>\n",
       "      <td>4.987300</td>\n",
       "      <td>4.367309</td>\n",
       "      <td>3.683948</td>\n",
       "      <td>4.715356</td>\n",
       "      <td>1.911734</td>\n",
       "      <td>5.328947</td>\n",
       "    </tr>\n",
       "    <tr>\n",
       "      <th>2</th>\n",
       "      <td>3.877554</td>\n",
       "      <td>5.257379</td>\n",
       "      <td>4.511127</td>\n",
       "      <td>3.632184</td>\n",
       "      <td>5.149188</td>\n",
       "      <td>2.776563</td>\n",
       "      <td>5.678788</td>\n",
       "    </tr>\n",
       "    <tr>\n",
       "      <th>3</th>\n",
       "      <td>6.821429</td>\n",
       "      <td>9.472612</td>\n",
       "      <td>7.955276</td>\n",
       "      <td>6.443750</td>\n",
       "      <td>9.441951</td>\n",
       "      <td>4.030622</td>\n",
       "      <td>10.085423</td>\n",
       "    </tr>\n",
       "    <tr>\n",
       "      <th>4</th>\n",
       "      <td>7.139969</td>\n",
       "      <td>10.196482</td>\n",
       "      <td>8.417581</td>\n",
       "      <td>6.537127</td>\n",
       "      <td>10.758584</td>\n",
       "      <td>4.926408</td>\n",
       "      <td>11.112793</td>\n",
       "    </tr>\n",
       "  </tbody>\n",
       "</table>\n",
       "</div>"
      ],
      "text/plain": [
       "    Gen-Son    Gen-Art   Gen-Alb   Gen-Pri    Gen-Cop   Gen-Tim    Gen-Rel\n",
       "0  2.400168   3.271580  2.831830  2.292891   3.141664  1.739190   3.580072\n",
       "1  3.743701   4.987300  4.367309  3.683948   4.715356  1.911734   5.328947\n",
       "2  3.877554   5.257379  4.511127  3.632184   5.149188  2.776563   5.678788\n",
       "3  6.821429   9.472612  7.955276  6.443750   9.441951  4.030622  10.085423\n",
       "4  7.139969  10.196482  8.417581  6.537127  10.758584  4.926408  11.112793"
      ]
     },
     "execution_count": 41,
     "metadata": {},
     "output_type": "execute_result"
    }
   ],
   "source": [
    "variation_pos_df.head()"
   ]
  },
  {
   "cell_type": "code",
   "execution_count": 42,
   "metadata": {},
   "outputs": [],
   "source": [
    "from scipy.stats import kstest"
   ]
  },
  {
   "cell_type": "code",
   "execution_count": 49,
   "metadata": {},
   "outputs": [
    {
     "name": "stdout",
     "output_type": "stream",
     "text": [
      "3.4000537664659563\n",
      "4.634881623329655\n",
      "4.014316831865618\n",
      "3.23825285127086\n",
      "4.565991144026479\n",
      "2.4156884031911052\n",
      "4.990320594080033\n"
     ]
    }
   ],
   "source": [
    "for col in list(variation_pos_df):\n",
    "    print(variation_pos_df[col].mean())"
   ]
  },
  {
   "cell_type": "code",
   "execution_count": 51,
   "metadata": {},
   "outputs": [
    {
     "ename": "TypeError",
     "evalue": "_parse_args() missing 1 required positional argument: 's'",
     "output_type": "error",
     "traceback": [
      "\u001b[0;31m---------------------------------------------------------------------------\u001b[0m",
      "\u001b[0;31mTypeError\u001b[0m                                 Traceback (most recent call last)",
      "\u001b[0;32m<ipython-input-51-676a64e218fa>\u001b[0m in \u001b[0;36m<module>\u001b[0;34m()\u001b[0m\n\u001b[0;32m----> 1\u001b[0;31m \u001b[0mkstest\u001b[0m\u001b[0;34m(\u001b[0m\u001b[0mvariation_pos_df\u001b[0m\u001b[0;34m[\u001b[0m\u001b[0;34m'Gen-Cop'\u001b[0m\u001b[0;34m]\u001b[0m\u001b[0;34m,\u001b[0m\u001b[0;34m'lognorm'\u001b[0m\u001b[0;34m)\u001b[0m\u001b[0;34m\u001b[0m\u001b[0;34m\u001b[0m\u001b[0m\n\u001b[0m",
      "\u001b[0;32m/home/nvidia/anaconda3/envs/testenv/lib/python3.6/site-packages/scipy/stats/stats.py\u001b[0m in \u001b[0;36mkstest\u001b[0;34m(rvs, cdf, args, N, alternative, mode)\u001b[0m\n\u001b[1;32m   4400\u001b[0m         \u001b[0mvals\u001b[0m \u001b[0;34m=\u001b[0m \u001b[0mnp\u001b[0m\u001b[0;34m.\u001b[0m\u001b[0msort\u001b[0m\u001b[0;34m(\u001b[0m\u001b[0mrvs\u001b[0m\u001b[0;34m)\u001b[0m\u001b[0;34m\u001b[0m\u001b[0;34m\u001b[0m\u001b[0m\n\u001b[1;32m   4401\u001b[0m         \u001b[0mN\u001b[0m \u001b[0;34m=\u001b[0m \u001b[0mlen\u001b[0m\u001b[0;34m(\u001b[0m\u001b[0mvals\u001b[0m\u001b[0;34m)\u001b[0m\u001b[0;34m\u001b[0m\u001b[0;34m\u001b[0m\u001b[0m\n\u001b[0;32m-> 4402\u001b[0;31m     \u001b[0mcdfvals\u001b[0m \u001b[0;34m=\u001b[0m \u001b[0mcdf\u001b[0m\u001b[0;34m(\u001b[0m\u001b[0mvals\u001b[0m\u001b[0;34m,\u001b[0m \u001b[0;34m*\u001b[0m\u001b[0margs\u001b[0m\u001b[0;34m)\u001b[0m\u001b[0;34m\u001b[0m\u001b[0;34m\u001b[0m\u001b[0m\n\u001b[0m\u001b[1;32m   4403\u001b[0m \u001b[0;34m\u001b[0m\u001b[0m\n\u001b[1;32m   4404\u001b[0m     \u001b[0;31m# to not break compatibility with existing code\u001b[0m\u001b[0;34m\u001b[0m\u001b[0;34m\u001b[0m\u001b[0;34m\u001b[0m\u001b[0m\n",
      "\u001b[0;32m/home/nvidia/anaconda3/envs/testenv/lib/python3.6/site-packages/scipy/stats/_distn_infrastructure.py\u001b[0m in \u001b[0;36mcdf\u001b[0;34m(self, x, *args, **kwds)\u001b[0m\n\u001b[1;32m   1739\u001b[0m \u001b[0;34m\u001b[0m\u001b[0m\n\u001b[1;32m   1740\u001b[0m         \"\"\"\n\u001b[0;32m-> 1741\u001b[0;31m         \u001b[0margs\u001b[0m\u001b[0;34m,\u001b[0m \u001b[0mloc\u001b[0m\u001b[0;34m,\u001b[0m \u001b[0mscale\u001b[0m \u001b[0;34m=\u001b[0m \u001b[0mself\u001b[0m\u001b[0;34m.\u001b[0m\u001b[0m_parse_args\u001b[0m\u001b[0;34m(\u001b[0m\u001b[0;34m*\u001b[0m\u001b[0margs\u001b[0m\u001b[0;34m,\u001b[0m \u001b[0;34m**\u001b[0m\u001b[0mkwds\u001b[0m\u001b[0;34m)\u001b[0m\u001b[0;34m\u001b[0m\u001b[0;34m\u001b[0m\u001b[0m\n\u001b[0m\u001b[1;32m   1742\u001b[0m         \u001b[0mx\u001b[0m\u001b[0;34m,\u001b[0m \u001b[0mloc\u001b[0m\u001b[0;34m,\u001b[0m \u001b[0mscale\u001b[0m \u001b[0;34m=\u001b[0m \u001b[0mmap\u001b[0m\u001b[0;34m(\u001b[0m\u001b[0masarray\u001b[0m\u001b[0;34m,\u001b[0m \u001b[0;34m(\u001b[0m\u001b[0mx\u001b[0m\u001b[0;34m,\u001b[0m \u001b[0mloc\u001b[0m\u001b[0;34m,\u001b[0m \u001b[0mscale\u001b[0m\u001b[0;34m)\u001b[0m\u001b[0;34m)\u001b[0m\u001b[0;34m\u001b[0m\u001b[0;34m\u001b[0m\u001b[0m\n\u001b[1;32m   1743\u001b[0m         \u001b[0margs\u001b[0m \u001b[0;34m=\u001b[0m \u001b[0mtuple\u001b[0m\u001b[0;34m(\u001b[0m\u001b[0mmap\u001b[0m\u001b[0;34m(\u001b[0m\u001b[0masarray\u001b[0m\u001b[0;34m,\u001b[0m \u001b[0margs\u001b[0m\u001b[0;34m)\u001b[0m\u001b[0;34m)\u001b[0m\u001b[0;34m\u001b[0m\u001b[0;34m\u001b[0m\u001b[0m\n",
      "\u001b[0;31mTypeError\u001b[0m: _parse_args() missing 1 required positional argument: 's'"
     ]
    }
   ],
   "source": [
    "kstest(variation_pos_df['Gen-Cop'],'lognorm')"
   ]
  },
  {
   "cell_type": "code",
   "execution_count": 60,
   "metadata": {},
   "outputs": [
    {
     "data": {
      "image/png": "[encoded data removed]",
      "text/plain": [
       "<Figure size 432x288 with 1 Axes>"
      ]
     },
     "metadata": {
      "needs_background": "light"
     },
     "output_type": "display_data"
    }
   ],
   "source": [
    "import matplotlib.pyplot as plt\n",
    "x = variation_pos_df['Gen-Tim']\n",
    "fig = plt.figure()\n",
    "plt.hist(x, bins=10)\n",
    "plt.xlabel(\"Distance\")\n",
    "plt.ylabel('Frequencies')\n",
    "#plt.show()\n",
    "fig.savefig('distance_values_negatives_standardencoding.png')"
   ]
  },
  {
   "cell_type": "code",
   "execution_count": 58,
   "metadata": {},
   "outputs": [
    {
     "data": {
      "text/html": [
       "<div>\n",
       "<style scoped>\n",
       "    .dataframe tbody tr th:only-of-type {\n",
       "        vertical-align: middle;\n",
       "    }\n",
       "\n",
       "    .dataframe tbody tr th {\n",
       "        vertical-align: top;\n",
       "    }\n",
       "\n",
       "    .dataframe thead th {\n",
       "        text-align: right;\n",
       "    }\n",
       "</style>\n",
       "<table border=\"1\" class=\"dataframe\">\n",
       "  <thead>\n",
       "    <tr style=\"text-align: right;\">\n",
       "      <th></th>\n",
       "      <th>Gen-Son</th>\n",
       "      <th>Gen-Art</th>\n",
       "      <th>Gen-Alb</th>\n",
       "      <th>Gen-Pri</th>\n",
       "      <th>Gen-Cop</th>\n",
       "      <th>Gen-Tim</th>\n",
       "      <th>Gen-Rel</th>\n",
       "    </tr>\n",
       "  </thead>\n",
       "  <tbody>\n",
       "    <tr>\n",
       "      <th>0</th>\n",
       "      <td>2.400168</td>\n",
       "      <td>3.271580</td>\n",
       "      <td>2.831830</td>\n",
       "      <td>2.292891</td>\n",
       "      <td>3.141664</td>\n",
       "      <td>1.739190</td>\n",
       "      <td>3.580072</td>\n",
       "    </tr>\n",
       "    <tr>\n",
       "      <th>1</th>\n",
       "      <td>3.743701</td>\n",
       "      <td>4.987300</td>\n",
       "      <td>4.367309</td>\n",
       "      <td>3.683948</td>\n",
       "      <td>4.715356</td>\n",
       "      <td>1.911734</td>\n",
       "      <td>5.328947</td>\n",
       "    </tr>\n",
       "    <tr>\n",
       "      <th>2</th>\n",
       "      <td>3.877554</td>\n",
       "      <td>5.257379</td>\n",
       "      <td>4.511127</td>\n",
       "      <td>3.632184</td>\n",
       "      <td>5.149188</td>\n",
       "      <td>2.776563</td>\n",
       "      <td>5.678788</td>\n",
       "    </tr>\n",
       "    <tr>\n",
       "      <th>3</th>\n",
       "      <td>6.821429</td>\n",
       "      <td>9.472612</td>\n",
       "      <td>7.955276</td>\n",
       "      <td>6.443750</td>\n",
       "      <td>9.441951</td>\n",
       "      <td>4.030622</td>\n",
       "      <td>10.085423</td>\n",
       "    </tr>\n",
       "    <tr>\n",
       "      <th>4</th>\n",
       "      <td>7.139969</td>\n",
       "      <td>10.196482</td>\n",
       "      <td>8.417581</td>\n",
       "      <td>6.537127</td>\n",
       "      <td>10.758584</td>\n",
       "      <td>4.926408</td>\n",
       "      <td>11.112793</td>\n",
       "    </tr>\n",
       "    <tr>\n",
       "      <th>5</th>\n",
       "      <td>3.628982</td>\n",
       "      <td>5.023585</td>\n",
       "      <td>4.316590</td>\n",
       "      <td>3.409490</td>\n",
       "      <td>4.951978</td>\n",
       "      <td>2.530789</td>\n",
       "      <td>5.579182</td>\n",
       "    </tr>\n",
       "    <tr>\n",
       "      <th>6</th>\n",
       "      <td>3.900857</td>\n",
       "      <td>5.159257</td>\n",
       "      <td>4.488623</td>\n",
       "      <td>3.688363</td>\n",
       "      <td>4.902045</td>\n",
       "      <td>2.834462</td>\n",
       "      <td>5.512400</td>\n",
       "    </tr>\n",
       "    <tr>\n",
       "      <th>7</th>\n",
       "      <td>0.000000</td>\n",
       "      <td>0.000000</td>\n",
       "      <td>0.000000</td>\n",
       "      <td>0.000000</td>\n",
       "      <td>0.000000</td>\n",
       "      <td>0.000000</td>\n",
       "      <td>0.000000</td>\n",
       "    </tr>\n",
       "    <tr>\n",
       "      <th>8</th>\n",
       "      <td>0.000000</td>\n",
       "      <td>0.000000</td>\n",
       "      <td>0.000000</td>\n",
       "      <td>0.000000</td>\n",
       "      <td>0.000000</td>\n",
       "      <td>0.000000</td>\n",
       "      <td>0.000000</td>\n",
       "    </tr>\n",
       "    <tr>\n",
       "      <th>9</th>\n",
       "      <td>1.447506</td>\n",
       "      <td>1.827793</td>\n",
       "      <td>1.628657</td>\n",
       "      <td>1.438763</td>\n",
       "      <td>1.694015</td>\n",
       "      <td>1.164686</td>\n",
       "      <td>1.908162</td>\n",
       "    </tr>\n",
       "  </tbody>\n",
       "</table>\n",
       "</div>"
      ],
      "text/plain": [
       "    Gen-Son    Gen-Art   Gen-Alb   Gen-Pri    Gen-Cop   Gen-Tim    Gen-Rel\n",
       "0  2.400168   3.271580  2.831830  2.292891   3.141664  1.739190   3.580072\n",
       "1  3.743701   4.987300  4.367309  3.683948   4.715356  1.911734   5.328947\n",
       "2  3.877554   5.257379  4.511127  3.632184   5.149188  2.776563   5.678788\n",
       "3  6.821429   9.472612  7.955276  6.443750   9.441951  4.030622  10.085423\n",
       "4  7.139969  10.196482  8.417581  6.537127  10.758584  4.926408  11.112793\n",
       "5  3.628982   5.023585  4.316590  3.409490   4.951978  2.530789   5.579182\n",
       "6  3.900857   5.159257  4.488623  3.688363   4.902045  2.834462   5.512400\n",
       "7  0.000000   0.000000  0.000000  0.000000   0.000000  0.000000   0.000000\n",
       "8  0.000000   0.000000  0.000000  0.000000   0.000000  0.000000   0.000000\n",
       "9  1.447506   1.827793  1.628657  1.438763   1.694015  1.164686   1.908162"
      ]
     },
     "execution_count": 58,
     "metadata": {},
     "output_type": "execute_result"
    }
   ],
   "source": [
    "variation_pos_df.head(10)"
   ]
  },
  {
   "cell_type": "code",
   "execution_count": null,
   "metadata": {},
   "outputs": [],
   "source": []
  }
 ],
 "metadata": {
  "kernelspec": {
   "display_name": "Python 3",
   "language": "python",
   "name": "python3"
  },
  "language_info": {
   "codemirror_mode": {
    "name": "ipython",
    "version": 3
   },
   "file_extension": ".py",
   "mimetype": "text/x-python",
   "name": "python",
   "nbconvert_exporter": "python",
   "pygments_lexer": "ipython3",
   "version": "3.6.8"
  }
 },
 "nbformat": 4,
 "nbformat_minor": 2
}

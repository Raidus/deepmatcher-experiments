{
 "cells": [
  {
   "cell_type": "code",
   "execution_count": 1,
   "metadata": {},
   "outputs": [],
   "source": [
    "%load_ext autoreload\n",
    "%autoreload 2"
   ]
  },
  {
   "cell_type": "code",
   "execution_count": 2,
   "metadata": {},
   "outputs": [],
   "source": [
    "import sys\n",
    "sys.path.append('../..')"
   ]
  },
  {
   "cell_type": "code",
   "execution_count": 3,
   "metadata": {},
   "outputs": [],
   "source": [
    "import deepmatcher as dm\n",
    "from utils.intermediate_layer_extraction import return_layer_input\n",
    "from utils.ri_calculator import computeRi\n",
    "from utils.distance_measures import calculate_nearest_neighbors_onAttributes\n",
    "import pandas as pd"
   ]
  },
  {
   "cell_type": "code",
   "execution_count": 4,
   "metadata": {},
   "outputs": [],
   "source": [
    "attributes = ['Song_Name','Artist_Name','Album_Name','Genre','Price','CopyRight','Time','Released']"
   ]
  },
  {
   "cell_type": "markdown",
   "metadata": {},
   "source": [
    "## Hybrid"
   ]
  },
  {
   "cell_type": "markdown",
   "metadata": {},
   "source": [
    "### Datasets creation for hybrid"
   ]
  },
  {
   "cell_type": "code",
   "execution_count": 19,
   "metadata": {},
   "outputs": [],
   "source": [
    "hybrid_model = dm.MatchingModel(attr_summarizer='hybrid')\n",
    "hybrid_model.load_state('../../models/itunes_amazon_hybrid2.pth')"
   ]
  },
  {
   "cell_type": "code",
   "execution_count": 20,
   "metadata": {},
   "outputs": [],
   "source": [
    "neg_classifier_hybrid,neg_ids = return_layer_input('../../Structured/itunes-amazon'\n",
    "                                                                         ,'negatives',128,hybrid_model,\n",
    "                                                                        hybrid_model.classifier,device=-1)"
   ]
  },
  {
   "cell_type": "code",
   "execution_count": 21,
   "metadata": {},
   "outputs": [],
   "source": [
    "pos_classifier_hybrid,pos_ids = return_layer_input('../../Structured/itunes-amazon/',\n",
    "                                                                       'positives',128,hybrid_model,\n",
    "                                                                       hybrid_model.classifier,device=-1)"
   ]
  },
  {
   "cell_type": "code",
   "execution_count": 22,
   "metadata": {},
   "outputs": [],
   "source": [
    "hybrid_model = hybrid_model.cuda()"
   ]
  },
  {
   "cell_type": "markdown",
   "metadata": {},
   "source": [
    "### Negative sample analysis"
   ]
  },
  {
   "cell_type": "code",
   "execution_count": 23,
   "metadata": {},
   "outputs": [],
   "source": [
    "classifier_len_hybrid = len(neg_classifier_hybrid[0][0])\n",
    "attribute_len_hybrid = int(classifier_len_hybrid/len(attributes))"
   ]
  },
  {
   "cell_type": "code",
   "execution_count": 24,
   "metadata": {},
   "outputs": [
    {
     "name": "stderr",
     "output_type": "stream",
     "text": [
      "100%|██████████| 128/128 [00:20<00:00,  6.11it/s]\n",
      "100%|██████████| 128/128 [00:19<00:00,  7.62it/s]\n",
      "100%|██████████| 128/128 [00:17<00:00,  6.07it/s]\n",
      "100%|██████████| 23/23 [00:02<00:00,  6.15it/s]\n"
     ]
    }
   ],
   "source": [
    "negatives_ri_hybrid,neg_ri_norms_hybrid = computeRi(hybrid_model.classifier,\n",
    "                                                    attributes,neg_classifier_hybrid,attribute_len_hybrid,1)"
   ]
  },
  {
   "cell_type": "code",
   "execution_count": 25,
   "metadata": {},
   "outputs": [
    {
     "data": {
      "text/plain": [
       "<matplotlib.axes._subplots.AxesSubplot at 0x7f5bc005e908>"
      ]
     },
     "execution_count": 25,
     "metadata": {},
     "output_type": "execute_result"
    },
    {
     "data": {
      "image/png": "[encoded data removed]",
      "text/plain": [
       "<Figure size 432x288 with 1 Axes>"
      ]
     },
     "metadata": {
      "needs_background": "light"
     },
     "output_type": "display_data"
    }
   ],
   "source": [
    "neg_variation_df = pd.DataFrame(data= neg_ri_norms_hybrid,columns=attributes)\n",
    "neg_variation_df.sum().plot.bar()"
   ]
  },
  {
   "cell_type": "code",
   "execution_count": 12,
   "metadata": {},
   "outputs": [],
   "source": [
    "neg_variation_df.to_csv('experiments/results/negatives_ri_hybrid.csv',index=False)"
   ]
  },
  {
   "cell_type": "markdown",
   "metadata": {},
   "source": [
    "## Positive samples analisys"
   ]
  },
  {
   "cell_type": "code",
   "execution_count": 26,
   "metadata": {},
   "outputs": [
    {
     "name": "stderr",
     "output_type": "stream",
     "text": [
      "100%|██████████| 128/128 [00:26<00:00,  4.43it/s]\n",
      "100%|██████████| 4/4 [00:00<00:00,  5.42it/s]\n"
     ]
    }
   ],
   "source": [
    "pos_ri_hybrid,pos_ri_norms_hybrid = computeRi(hybrid_model.classifier,attributes,\n",
    "                                              pos_classifier_hybrid,attribute_len_hybrid,0)"
   ]
  },
  {
   "cell_type": "code",
   "execution_count": 27,
   "metadata": {},
   "outputs": [
    {
     "data": {
      "text/plain": [
       "<matplotlib.axes._subplots.AxesSubplot at 0x7f5b92def630>"
      ]
     },
     "execution_count": 27,
     "metadata": {},
     "output_type": "execute_result"
    },
    {
     "data": {
      "image/png": "[encoded data removed]",
      "text/plain": [
       "<Figure size 432x288 with 1 Axes>"
      ]
     },
     "metadata": {
      "needs_background": "light"
     },
     "output_type": "display_data"
    }
   ],
   "source": [
    "pos_variation_df = pd.DataFrame(data= pos_ri_norms_hybrid,columns=attributes)\n",
    "pos_variation_df.sum().plot.bar()"
   ]
  },
  {
   "cell_type": "code",
   "execution_count": null,
   "metadata": {},
   "outputs": [],
   "source": [
    "pos_variation_df.to_csv('experiments/results/positives_ri_hybrid.csv',index=False)"
   ]
  },
  {
   "cell_type": "markdown",
   "metadata": {},
   "source": [
    "## Nearest neighbors hybrid"
   ]
  },
  {
   "cell_type": "code",
   "execution_count": 28,
   "metadata": {},
   "outputs": [
    {
     "name": "stderr",
     "output_type": "stream",
     "text": [
      "100%|██████████| 128/128 [00:00<00:00, 395.58it/s]\n",
      "100%|██████████| 4/4 [00:00<00:00, 324.24it/s]\n"
     ]
    }
   ],
   "source": [
    "positives_nn_hybrid = calculate_nearest_neighbors_onAttributes(pos_classifier_hybrid,pos_ids,pos_ri_hybrid,\n",
    "                                                       neg_classifier_hybrid,neg_ids,attributes,\n",
    "                                                               attribute_len_hybrid)"
   ]
  },
  {
   "cell_type": "code",
   "execution_count": 29,
   "metadata": {},
   "outputs": [
    {
     "name": "stderr",
     "output_type": "stream",
     "text": [
      "100%|██████████| 128/128 [00:00<00:00, 470.49it/s]\n",
      "100%|██████████| 128/128 [00:00<00:00, 455.48it/s]\n",
      "100%|██████████| 128/128 [00:00<00:00, 435.26it/s]\n",
      "100%|██████████| 23/23 [00:00<00:00, 375.84it/s]\n"
     ]
    }
   ],
   "source": [
    "negatives_nn_hybrid = calculate_nearest_neighbors_onAttributes(neg_classifier_hybrid,neg_ids,negatives_ri_hybrid,\n",
    "                                                        pos_classifier_hybrid,pos_ids,\n",
    "                                                        attributes,attribute_len_hybrid)"
   ]
  },
  {
   "cell_type": "code",
   "execution_count": 30,
   "metadata": {},
   "outputs": [
    {
     "data": {
      "text/plain": [
       "492    116\n",
       "48      15\n",
       "311      1\n",
       "Name: Price, dtype: int64"
      ]
     },
     "execution_count": 30,
     "metadata": {},
     "output_type": "execute_result"
    }
   ],
   "source": [
    "positives_nn_hybrid['Price'].value_counts()"
   ]
  },
  {
   "cell_type": "code",
   "execution_count": 31,
   "metadata": {},
   "outputs": [],
   "source": [
    "positives_nn_hybrid.to_csv('experiments/results/positives_nn_hybrid_withoutfilter.csv',index=False)\n",
    "negatives_nn_hybrid.to_csv('experiments/results/negatives_nn_hybrid_withoutfilter.csv',index=False)"
   ]
  },
  {
   "cell_type": "markdown",
   "metadata": {},
   "source": [
    "## Rnn model Evaluation"
   ]
  },
  {
   "cell_type": "code",
   "execution_count": 32,
   "metadata": {},
   "outputs": [],
   "source": [
    "rnn_model = dm.MatchingModel(attr_summarizer='rnn')\n",
    "rnn_model.load_state('../../models/itunes_amazon_rnn.pth')"
   ]
  },
  {
   "cell_type": "markdown",
   "metadata": {},
   "source": [
    "### Dataset creation"
   ]
  },
  {
   "cell_type": "code",
   "execution_count": 33,
   "metadata": {},
   "outputs": [],
   "source": [
    "neg_classifier_inputs_rnn,neg_ids_rnn = return_layer_input('../../Structured/itunes-amazon'\n",
    "                                                                         ,'negatives',128,rnn_model,\n",
    "                                                                        rnn_model.classifier,device=-1)"
   ]
  },
  {
   "cell_type": "code",
   "execution_count": 34,
   "metadata": {},
   "outputs": [],
   "source": [
    "pos_classifier_inputs_rnn,pos_ids_rnn = return_layer_input('../../Structured/itunes-amazon/',\n",
    "                                                                       'positives',128,rnn_model,\n",
    "                                                                       rnn_model.classifier,device=-1)"
   ]
  },
  {
   "cell_type": "code",
   "execution_count": 35,
   "metadata": {},
   "outputs": [],
   "source": [
    "rnn_model = rnn_model.cuda()"
   ]
  },
  {
   "cell_type": "markdown",
   "metadata": {},
   "source": [
    "### Negative analysis"
   ]
  },
  {
   "cell_type": "code",
   "execution_count": 36,
   "metadata": {},
   "outputs": [],
   "source": [
    "classifier_length = len(neg_classifier_inputs_rnn[0][0])\n",
    "attribute_len = int(classifier_length/len(attributes))"
   ]
  },
  {
   "cell_type": "code",
   "execution_count": 37,
   "metadata": {},
   "outputs": [
    {
     "name": "stderr",
     "output_type": "stream",
     "text": [
      "100%|██████████| 128/128 [00:09<00:00, 14.15it/s]\n",
      "100%|██████████| 128/128 [00:08<00:00, 14.74it/s]\n",
      "100%|██████████| 128/128 [00:08<00:00, 15.84it/s]\n",
      "100%|██████████| 23/23 [00:01<00:00, 16.69it/s]\n"
     ]
    }
   ],
   "source": [
    "negatives_ri_rnn,neg_ri_norms_rnn = computeRi(rnn_model.classifier,\n",
    "                                                    attributes,neg_classifier_inputs_rnn,attribute_len,1)"
   ]
  },
  {
   "cell_type": "code",
   "execution_count": 38,
   "metadata": {},
   "outputs": [
    {
     "data": {
      "text/plain": [
       "<matplotlib.axes._subplots.AxesSubplot at 0x7f5b71a59160>"
      ]
     },
     "execution_count": 38,
     "metadata": {},
     "output_type": "execute_result"
    },
    {
     "data": {
      "image/png": "[encoded data removed]",
      "text/plain": [
       "<Figure size 432x288 with 1 Axes>"
      ]
     },
     "metadata": {
      "needs_background": "light"
     },
     "output_type": "display_data"
    }
   ],
   "source": [
    "neg_variation_df = pd.DataFrame(data= neg_ri_norms_rnn,columns=attributes)\n",
    "neg_variation_df.sum().plot.bar()"
   ]
  },
  {
   "cell_type": "code",
   "execution_count": null,
   "metadata": {},
   "outputs": [],
   "source": [
    "neg_variation_df.to_csv('experiments/results/negatives_ri_rnn.csv',index=False)"
   ]
  },
  {
   "cell_type": "markdown",
   "metadata": {},
   "source": [
    "### Positives analysis"
   ]
  },
  {
   "cell_type": "code",
   "execution_count": 39,
   "metadata": {},
   "outputs": [
    {
     "name": "stderr",
     "output_type": "stream",
     "text": [
      "100%|██████████| 128/128 [00:17<00:00,  7.46it/s]\n",
      "100%|██████████| 4/4 [00:00<00:00,  9.15it/s]\n"
     ]
    }
   ],
   "source": [
    "pos_ri_rnn,pos_ri_norms_rnn = computeRi(rnn_model.classifier,\n",
    "                                                    attributes,pos_classifier_inputs_rnn,attribute_len,0)"
   ]
  },
  {
   "cell_type": "code",
   "execution_count": 40,
   "metadata": {},
   "outputs": [
    {
     "data": {
      "text/plain": [
       "<matplotlib.axes._subplots.AxesSubplot at 0x7f5b71aba4a8>"
      ]
     },
     "execution_count": 40,
     "metadata": {},
     "output_type": "execute_result"
    },
    {
     "data": {
      "image/png": "[encoded data removed]",
      "text/plain": [
       "<Figure size 432x288 with 1 Axes>"
      ]
     },
     "metadata": {
      "needs_background": "light"
     },
     "output_type": "display_data"
    }
   ],
   "source": [
    "pos_variation_df = pd.DataFrame(data= pos_ri_norms_rnn,columns=attributes)\n",
    "pos_variation_df.sum().plot.bar()"
   ]
  },
  {
   "cell_type": "code",
   "execution_count": null,
   "metadata": {},
   "outputs": [],
   "source": [
    "pos_variation_df.to_csv('experiments/results/positives_ri_rnn.csv',index=False)"
   ]
  },
  {
   "cell_type": "markdown",
   "metadata": {},
   "source": [
    "## Finding closer vectors"
   ]
  },
  {
   "cell_type": "code",
   "execution_count": 41,
   "metadata": {},
   "outputs": [],
   "source": [
    "from utils.distance_measures import calculate_nearest_neighbors_onAttributes"
   ]
  },
  {
   "cell_type": "code",
   "execution_count": 42,
   "metadata": {},
   "outputs": [
    {
     "name": "stderr",
     "output_type": "stream",
     "text": [
      "100%|██████████| 128/128 [00:00<00:00, 398.09it/s]\n",
      "100%|██████████| 4/4 [00:00<00:00, 310.84it/s]\n"
     ]
    }
   ],
   "source": [
    "positives_nn = calculate_nearest_neighbors_onAttributes(pos_classifier_inputs_rnn,pos_ids_rnn,pos_ri_rnn,\n",
    "                                                       neg_classifier_inputs_rnn,neg_ids_rnn,attributes,attribute_len)"
   ]
  },
  {
   "cell_type": "code",
   "execution_count": 43,
   "metadata": {},
   "outputs": [
    {
     "name": "stderr",
     "output_type": "stream",
     "text": [
      "100%|██████████| 128/128 [00:00<00:00, 461.53it/s]\n",
      "100%|██████████| 128/128 [00:00<00:00, 461.16it/s]\n",
      "100%|██████████| 128/128 [00:00<00:00, 432.69it/s]\n",
      "100%|██████████| 23/23 [00:00<00:00, 405.71it/s]\n"
     ]
    }
   ],
   "source": [
    "negatives_nn = calculate_nearest_neighbors_onAttributes(neg_classifier_inputs_rnn,neg_ids_rnn,negatives_ri_rnn,\n",
    "                                                        pos_classifier_inputs_rnn,pos_ids_rnn,\n",
    "                                                        attributes,attribute_len)"
   ]
  },
  {
   "cell_type": "code",
   "execution_count": 44,
   "metadata": {},
   "outputs": [],
   "source": [
    "positives_nn.to_csv('experiments/results/positives_nn_rnn_withoutfilter.csv',index=False)\n",
    "negatives_nn.to_csv('experiments/results/negatives_nn_rnn_withoutfilter.csv',index=False)"
   ]
  },
  {
   "cell_type": "markdown",
   "metadata": {},
   "source": [
    "## Test bias on Rnn model"
   ]
  },
  {
   "cell_type": "code",
   "execution_count": null,
   "metadata": {},
   "outputs": [],
   "source": [
    "## per ora solo per positivi\n",
    "def testBiasPositives(model,testset_path,attribute,true_label,new_tokens):\n",
    "    standard_test = dm.data.process_unlabeled(testset_path,model,ignore_columns=['id','label'])\n",
    "    standard_pred = model.run_prediction(standard_test)\n",
    "    if true_label == 1:\n",
    "        true_positives = standard_pred[standard_pred.match_score>0.5].shape[0]\n",
    "    else:\n",
    "        true_positives = standard_pred[standard_pred.match_score<=0.5].shape[0]\n",
    "    test_dm = pd.read_csv(testset_path)\n",
    "    test_dm['ltable_'+attribute] = new_tokens[0]\n",
    "    test_dm['rtable_'+attribute] = new_tokens[1]\n",
    "    test_dm.to_csv('temp/new_test.csv',index=False)\n",
    "    new_test = dm.data.process_unlabeled('temp/new_test.csv',model,ignore_columns=['id','label'])\n",
    "    new_pred = model.run_prediction(new_test)\n",
    "    if true_label ==1:\n",
    "        new_true_pos = new_pred[new_pred.match_score >0.5].shape[0]\n",
    "    else:\n",
    "        new_true_pos = new_pred[new_pred.match_score <= 0.5].shape[0]\n",
    "    return true_positives,new_true_pos"
   ]
  },
  {
   "cell_type": "code",
   "execution_count": null,
   "metadata": {},
   "outputs": [],
   "source": [
    "hybrid_model = dm.MatchingModel(attr_summarizer='hybrid')\n",
    "hybrid_model.load_state('../../models/itunesamazon_hybrid.pth')"
   ]
  },
  {
   "cell_type": "code",
   "execution_count": null,
   "metadata": {},
   "outputs": [],
   "source": [
    "testBiasPositives(hybrid_model,'../../Structured/itunes-amazon/test_positives.csv','Price',1,('sorrita','mammita'))"
   ]
  },
  {
   "cell_type": "code",
   "execution_count": null,
   "metadata": {},
   "outputs": [],
   "source": []
  }
 ],
 "metadata": {
  "kernelspec": {
   "display_name": "Python 3",
   "language": "python",
   "name": "python3"
  },
  "language_info": {
   "codemirror_mode": {
    "name": "ipython",
    "version": 3
   },
   "file_extension": ".py",
   "mimetype": "text/x-python",
   "name": "python",
   "nbconvert_exporter": "python",
   "pygments_lexer": "ipython3",
   "version": "3.6.9"
  }
 },
 "nbformat": 4,
 "nbformat_minor": 2
}

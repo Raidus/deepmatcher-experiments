{
 "cells": [
  {
   "cell_type": "code",
   "execution_count": 1,
   "metadata": {},
   "outputs": [],
   "source": [
    "import sys\n",
    "sys.path.append('../..')"
   ]
  },
  {
   "cell_type": "code",
   "execution_count": 2,
   "metadata": {},
   "outputs": [],
   "source": [
    "import pandas as pd"
   ]
  },
  {
   "cell_type": "code",
   "execution_count": 3,
   "metadata": {},
   "outputs": [],
   "source": [
    "def appendPrefix(attribute,prefix):\n",
    "    return list(map(lambda s:prefix+s,attribute.split()))"
   ]
  },
  {
   "cell_type": "code",
   "execution_count": 4,
   "metadata": {},
   "outputs": [],
   "source": [
    "def preProcessNeighbors(nn,opposite_label_data,attribute):\n",
    "    nn_values = pd.merge(nn,opposite_label_data,left_on=attribute,right_on='id')\n",
    "    left_values, right_values  = nn_values['ltable_'+attribute],nn_values['rtable_'+attribute]\n",
    "    left_values_prefixed = list(map(lambda att:tuple(appendPrefix(att,'L_')),left_values))\n",
    "    right_values_prefixed = list(map(lambda att:tuple(appendPrefix(att,'R_')),right_values))\n",
    "    return left_values_prefixed,right_values_prefixed"
   ]
  },
  {
   "cell_type": "code",
   "execution_count": 13,
   "metadata": {},
   "outputs": [],
   "source": [
    "pos_nn = pd.read_csv('experiments/results/negatives_nn_hybrid_withoutfilter.csv')\n",
    "train_neg = pd.read_csv('../../Structured/itunes-amazon/train_positives.csv')\n",
    "lval,rval = preProcessNeighbors(pos_nn,train_neg,'Time')\n",
    "transactions = list(map(lambda l,r:l+r,lval,rval))"
   ]
  },
  {
   "cell_type": "code",
   "execution_count": 16,
   "metadata": {},
   "outputs": [
    {
     "name": "stdout",
     "output_type": "stream",
     "text": [
      "{R_3:20} -> {L_3:35} (conf: 1.000, supp: 0.378, lift: 2.643, conv: 621621621.622)\n",
      "{L_3:35} -> {R_3:20} (conf: 1.000, supp: 0.378, lift: 2.643, conv: 621621621.622)\n",
      "{R_2:59} -> {L_2:59} (conf: 1.000, supp: 0.182, lift: 5.500, conv: 818181818.182)\n",
      "{L_2:59} -> {R_2:59} (conf: 1.000, supp: 0.182, lift: 5.500, conv: 818181818.182)\n",
      "{R_3:44} -> {L_3:41} (conf: 1.000, supp: 0.069, lift: 14.536, conv: 931203931.204)\n",
      "{L_3:41} -> {R_3:44} (conf: 1.000, supp: 0.069, lift: 14.536, conv: 931203931.204)\n",
      "{R_3:15} -> {L_3:13} (conf: 1.000, supp: 0.054, lift: 15.074, conv: 933660933.661)\n",
      "{L_3:13} -> {R_3:15} (conf: 0.815, supp: 0.054, lift: 15.074, conv: 5.108)\n",
      "{R_4:49} -> {L_5:20} (conf: 1.000, supp: 0.054, lift: 18.500, conv: 945945945.946)\n",
      "{L_5:20} -> {R_4:49} (conf: 1.000, supp: 0.054, lift: 18.500, conv: 945945945.946)\n"
     ]
    }
   ],
   "source": [
    "from efficient_apriori import apriori\n",
    "itemsets, rules = apriori(transactions, min_support=0.05,min_confidence=0.8)\n",
    "\n",
    "# Print out every rule with 2 items on the left hand side,\n",
    "# 1 item on the right hand side, sorted by lift\n",
    "rules_rhs = filter(lambda rule: len(rule.lhs) == 1 and len(rule.rhs)==1, rules)\n",
    "for rule in sorted(rules_rhs, key=lambda rule: rule.lift):\n",
    "  print(rule) # Prints the rule and its confidence, support, lift, ..."
   ]
  },
  {
   "cell_type": "code",
   "execution_count": null,
   "metadata": {},
   "outputs": [],
   "source": []
  }
 ],
 "metadata": {
  "kernelspec": {
   "display_name": "Python 3",
   "language": "python",
   "name": "python3"
  },
  "language_info": {
   "codemirror_mode": {
    "name": "ipython",
    "version": 3
   },
   "file_extension": ".py",
   "mimetype": "text/x-python",
   "name": "python",
   "nbconvert_exporter": "python",
   "pygments_lexer": "ipython3",
   "version": "3.6.9"
  }
 },
 "nbformat": 4,
 "nbformat_minor": 2
}

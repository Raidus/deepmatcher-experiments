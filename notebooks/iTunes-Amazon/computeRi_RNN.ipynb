{
 "cells": [
  {
   "cell_type": "code",
   "execution_count": 1,
   "metadata": {
    "ExecuteTime": {
     "end_time": "2020-03-03T16:43:42.271388Z",
     "start_time": "2020-03-03T16:43:42.253312Z"
    }
   },
   "outputs": [],
   "source": [
    "%load_ext autoreload\n",
    "%autoreload 2"
   ]
  },
  {
   "cell_type": "code",
   "execution_count": 2,
   "metadata": {
    "ExecuteTime": {
     "end_time": "2020-03-03T16:43:42.688444Z",
     "start_time": "2020-03-03T16:43:42.676859Z"
    }
   },
   "outputs": [],
   "source": [
    "import sys\n",
    "sys.path.append('../..')"
   ]
  },
  {
   "cell_type": "code",
   "execution_count": 3,
   "metadata": {
    "ExecuteTime": {
     "end_time": "2020-03-03T16:43:44.737271Z",
     "start_time": "2020-03-03T16:43:43.233672Z"
    }
   },
   "outputs": [],
   "source": [
    "import deepmatcher as dm\n",
    "from utils.intermediate_layer_extraction import return_layer_input\n",
    "from utils.explainer import Explainer\n",
    "from utils.distance_measures import nearestNeighborOnAttributes\n",
    "import pandas as pd"
   ]
  },
  {
   "cell_type": "code",
   "execution_count": 4,
   "metadata": {
    "ExecuteTime": {
     "end_time": "2020-03-03T16:43:44.761453Z",
     "start_time": "2020-03-03T16:43:44.739978Z"
    }
   },
   "outputs": [],
   "source": [
    "attributes = ['Song_Name','Artist_Name','Album_Name','Genre','Price','CopyRight','Time','Released']"
   ]
  },
  {
   "cell_type": "markdown",
   "metadata": {},
   "source": [
    "## Hybrid"
   ]
  },
  {
   "cell_type": "markdown",
   "metadata": {},
   "source": [
    "### Datasets creation for hybrid"
   ]
  },
  {
   "cell_type": "code",
   "execution_count": 5,
   "metadata": {
    "ExecuteTime": {
     "end_time": "2020-03-03T16:43:48.424384Z",
     "start_time": "2020-03-03T16:43:44.840637Z"
    }
   },
   "outputs": [],
   "source": [
    "model = dm.MatchingModel(attr_summarizer='rnn')\n",
    "model.load_state('../../models/itunes_amazon_rnn.pth')\n",
    "model = model.to('cuda')"
   ]
  },
  {
   "cell_type": "code",
   "execution_count": 6,
   "metadata": {
    "ExecuteTime": {
     "end_time": "2020-03-03T16:43:52.297412Z",
     "start_time": "2020-03-03T16:43:52.260634Z"
    }
   },
   "outputs": [],
   "source": [
    "explainer = Explainer(model,attributes)"
   ]
  },
  {
   "cell_type": "code",
   "execution_count": 6,
   "metadata": {},
   "outputs": [
    {
     "name": "stderr",
     "output_type": "stream",
     "text": [
      "WARNING:deepmatcher.data.dataset:Rebuilding data cache because: ['Data file list has changed.']\n"
     ]
    }
   ],
   "source": [
    "neg_classifier_hybrid,neg_ids = return_layer_input('../../Structured/itunes-amazon'\n",
    "                                                                         ,'negatives',128,hybrid_model,\n",
    "                                                                        hybrid_model.classifier,device=-1)"
   ]
  },
  {
   "cell_type": "code",
   "execution_count": 7,
   "metadata": {},
   "outputs": [
    {
     "name": "stderr",
     "output_type": "stream",
     "text": [
      "WARNING:deepmatcher.data.dataset:Rebuilding data cache because: ['Data file list has changed.']\n"
     ]
    }
   ],
   "source": [
    "pos_classifier_hybrid,pos_ids = return_layer_input('../../Structured/itunes-amazon/',\n",
    "                                                                       'positives',128,hybrid_model,\n",
    "                                                                       hybrid_model.classifier,device=-1)"
   ]
  },
  {
   "cell_type": "code",
   "execution_count": 9,
   "metadata": {},
   "outputs": [],
   "source": [
    "hybrid_model = hybrid_model.cuda()"
   ]
  },
  {
   "cell_type": "markdown",
   "metadata": {},
   "source": [
    "### Negative sample analysis"
   ]
  },
  {
   "cell_type": "code",
   "execution_count": 10,
   "metadata": {},
   "outputs": [],
   "source": [
    "classifier_len_hybrid = len(neg_classifier_hybrid[0][0])\n",
    "attribute_len_hybrid = int(classifier_len_hybrid/len(attributes))"
   ]
  },
  {
   "cell_type": "code",
   "execution_count": 7,
   "metadata": {
    "ExecuteTime": {
     "end_time": "2020-03-03T16:44:24.278235Z",
     "start_time": "2020-03-03T16:43:55.924025Z"
    }
   },
   "outputs": [
    {
     "name": "stdout",
     "output_type": "stream",
     "text": [
      "Computing vectors in the classifier space\n"
     ]
    },
    {
     "name": "stderr",
     "output_type": "stream",
     "text": [
      "  3%|▎         | 2/76 [00:00<00:04, 18.25it/s]"
     ]
    },
    {
     "name": "stdout",
     "output_type": "stream",
     "text": [
      "**************\n"
     ]
    },
    {
     "name": "stderr",
     "output_type": "stream",
     "text": [
      "100%|██████████| 76/76 [00:17<00:00,  4.33it/s]\n"
     ]
    }
   ],
   "source": [
    "DATASET_DIR = '../../datasets/Structured/itunes-amazon/'\n",
    "testneg_ri,testneg_ri_agg,testneg = explainer.getRankingsWhiteBox(DATASET_DIR,'test_negatives',0,'cosine')"
   ]
  },
  {
   "cell_type": "code",
   "execution_count": 12,
   "metadata": {
    "ExecuteTime": {
     "end_time": "2020-03-03T16:45:00.844604Z",
     "start_time": "2020-03-03T16:45:00.570722Z"
    }
   },
   "outputs": [
    {
     "data": {
      "text/plain": [
       "<matplotlib.axes._subplots.AxesSubplot at 0x7f9af8317390>"
      ]
     },
     "execution_count": 12,
     "metadata": {},
     "output_type": "execute_result"
    },
    {
     "data": {
      "image/png": "[encoded data removed]",
      "text/plain": [
       "<Figure size 432x288 with 1 Axes>"
      ]
     },
     "metadata": {
      "needs_background": "light"
     },
     "output_type": "display_data"
    }
   ],
   "source": [
    "testneg_ri_agg.drop(['sample_id'],axis=1).mean().plot.bar(color='red')"
   ]
  },
  {
   "cell_type": "code",
   "execution_count": 14,
   "metadata": {
    "ExecuteTime": {
     "end_time": "2020-03-03T16:48:00.251090Z",
     "start_time": "2020-03-03T16:48:00.169201Z"
    }
   },
   "outputs": [],
   "source": [
    "from utils.ri_calculator import aggregateRi\n",
    "attribute_len = int(len(list(testneg.values())[0])/len(attributes))\n",
    "testneg_ri_euclidean = aggregateRi(testneg_ri,testneg,attributes,attribute_len,'euclidean')"
   ]
  },
  {
   "cell_type": "code",
   "execution_count": 16,
   "metadata": {
    "ExecuteTime": {
     "end_time": "2020-03-03T16:48:28.548632Z",
     "start_time": "2020-03-03T16:48:28.281597Z"
    }
   },
   "outputs": [
    {
     "data": {
      "text/plain": [
       "<matplotlib.axes._subplots.AxesSubplot at 0x7f9af827dd30>"
      ]
     },
     "execution_count": 16,
     "metadata": {},
     "output_type": "execute_result"
    },
    {
     "data": {
      "image/png": "[encoded data removed]",
      "text/plain": [
       "<Figure size 432x288 with 1 Axes>"
      ]
     },
     "metadata": {
      "needs_background": "light"
     },
     "output_type": "display_data"
    }
   ],
   "source": [
    "testneg_ri_euclidean.sum().plot.bar(color='red')"
   ]
  },
  {
   "cell_type": "code",
   "execution_count": 14,
   "metadata": {},
   "outputs": [],
   "source": [
    "neg_variation_df.to_csv('experiments/results/negatives_ri_hybrid.csv',index=False)"
   ]
  },
  {
   "cell_type": "markdown",
   "metadata": {},
   "source": [
    "## Positive samples analisys"
   ]
  },
  {
   "cell_type": "code",
   "execution_count": 17,
   "metadata": {
    "ExecuteTime": {
     "end_time": "2020-03-03T16:49:55.202464Z",
     "start_time": "2020-03-03T16:49:47.317368Z"
    }
   },
   "outputs": [
    {
     "name": "stdout",
     "output_type": "stream",
     "text": [
      "Computing vectors in the classifier space\n"
     ]
    },
    {
     "name": "stderr",
     "output_type": "stream",
     "text": [
      "\r",
      "  0%|          | 0/23 [00:00<?, ?it/s]"
     ]
    },
    {
     "name": "stdout",
     "output_type": "stream",
     "text": [
      "**************\n"
     ]
    },
    {
     "name": "stderr",
     "output_type": "stream",
     "text": [
      "100%|██████████| 23/23 [00:07<00:00,  3.12it/s]\n"
     ]
    }
   ],
   "source": [
    "testpos_ri,testpos_ri_agg,testpos = explainer.getRankingsWhiteBox(DATASET_DIR,'test_positives',\n",
    "                                                                 1,'cosine')"
   ]
  },
  {
   "cell_type": "code",
   "execution_count": 19,
   "metadata": {
    "ExecuteTime": {
     "end_time": "2020-03-03T16:50:20.974154Z",
     "start_time": "2020-03-03T16:50:20.684400Z"
    }
   },
   "outputs": [
    {
     "data": {
      "text/plain": [
       "<matplotlib.axes._subplots.AxesSubplot at 0x7f9b8c1cca20>"
      ]
     },
     "execution_count": 19,
     "metadata": {},
     "output_type": "execute_result"
    },
    {
     "data": {
      "image/png": "[encoded data removed]",
      "text/plain": [
       "<Figure size 432x288 with 1 Axes>"
      ]
     },
     "metadata": {
      "needs_background": "light"
     },
     "output_type": "display_data"
    }
   ],
   "source": [
    "testpos_ri_agg.drop(['sample_id'],axis=1).mean().plot.bar(color='green')"
   ]
  },
  {
   "cell_type": "code",
   "execution_count": 17,
   "metadata": {},
   "outputs": [],
   "source": [
    "pos_variation_df.to_csv('experiments/results/positives_ri_hybrid.csv',index=False)"
   ]
  },
  {
   "cell_type": "markdown",
   "metadata": {},
   "source": [
    "## Nearest neighbors hybrid"
   ]
  },
  {
   "cell_type": "code",
   "execution_count": 18,
   "metadata": {},
   "outputs": [
    {
     "name": "stderr",
     "output_type": "stream",
     "text": [
      "100%|██████████| 4/4 [00:00<00:00, 151.39it/s]\n",
      "100%|██████████| 128/128 [00:00<00:00, 230.84it/s]\n"
     ]
    }
   ],
   "source": [
    "positives_nn_hybrid = calculate_nearest_neighbors_onAttributes(pos_classifier_hybrid,pos_ids,pos_ri_hybrid,\n",
    "                                                       neg_classifier_hybrid,neg_ids,attributes,\n",
    "                                                               attribute_len_hybrid)"
   ]
  },
  {
   "cell_type": "code",
   "execution_count": 19,
   "metadata": {},
   "outputs": [
    {
     "name": "stderr",
     "output_type": "stream",
     "text": [
      "100%|██████████| 128/128 [00:00<00:00, 255.27it/s]\n",
      "100%|██████████| 128/128 [00:00<00:00, 323.59it/s]\n",
      "100%|██████████| 128/128 [00:00<00:00, 350.05it/s]\n",
      "100%|██████████| 23/23 [00:00<00:00, 348.52it/s]\n"
     ]
    }
   ],
   "source": [
    "negatives_nn_hybrid = calculate_nearest_neighbors_onAttributes(neg_classifier_hybrid,neg_ids,negatives_ri_hybrid,\n",
    "                                                        pos_classifier_hybrid,pos_ids,\n",
    "                                                        attributes,attribute_len_hybrid)"
   ]
  },
  {
   "cell_type": "code",
   "execution_count": 21,
   "metadata": {},
   "outputs": [
    {
     "data": {
      "text/plain": [
       "69     27\n",
       "93     26\n",
       "735    22\n",
       "511     8\n",
       "506     8\n",
       "515     4\n",
       "463     2\n",
       "687     2\n",
       "692     2\n",
       "60      2\n",
       "39      2\n",
       "117     2\n",
       "108     1\n",
       "54      1\n",
       "317     1\n",
       "289     1\n",
       "286     1\n",
       "70      1\n",
       "71      1\n",
       "518     1\n",
       "517     1\n",
       "636     1\n",
       "114     1\n",
       "630     1\n",
       "664     1\n",
       "163     1\n",
       "425     1\n",
       "699     1\n",
       "208     1\n",
       "211     1\n",
       "730     1\n",
       "736     1\n",
       "738     1\n",
       "227     1\n",
       "240     1\n",
       "244     1\n",
       "513     1\n",
       "Name: Time, dtype: int64"
      ]
     },
     "execution_count": 21,
     "metadata": {},
     "output_type": "execute_result"
    }
   ],
   "source": [
    "negatives_nn_hybrid['Time']"
   ]
  },
  {
   "cell_type": "code",
   "execution_count": 31,
   "metadata": {},
   "outputs": [],
   "source": [
    "positives_nn_hybrid.to_csv('experiments/results/positives_nn_hybrid_withoutfilter.csv',index=False)\n",
    "negatives_nn_hybrid.to_csv('experiments/results/negatives_nn_hybrid_withoutfilter.csv',index=False)"
   ]
  },
  {
   "cell_type": "markdown",
   "metadata": {},
   "source": [
    "## Rnn model Evaluation"
   ]
  },
  {
   "cell_type": "code",
   "execution_count": 32,
   "metadata": {},
   "outputs": [],
   "source": [
    "rnn_model = dm.MatchingModel(attr_summarizer='rnn')\n",
    "rnn_model.load_state('../../models/itunes_amazon_rnn.pth')"
   ]
  },
  {
   "cell_type": "markdown",
   "metadata": {},
   "source": [
    "### Dataset creation"
   ]
  },
  {
   "cell_type": "code",
   "execution_count": 33,
   "metadata": {},
   "outputs": [],
   "source": [
    "neg_classifier_inputs_rnn,neg_ids_rnn = return_layer_input('../../Structured/itunes-amazon'\n",
    "                                                                         ,'negatives',128,rnn_model,\n",
    "                                                                        rnn_model.classifier,device=-1)"
   ]
  },
  {
   "cell_type": "code",
   "execution_count": 34,
   "metadata": {},
   "outputs": [],
   "source": [
    "pos_classifier_inputs_rnn,pos_ids_rnn = return_layer_input('../../Structured/itunes-amazon/',\n",
    "                                                                       'positives',128,rnn_model,\n",
    "                                                                       rnn_model.classifier,device=-1)"
   ]
  },
  {
   "cell_type": "code",
   "execution_count": 35,
   "metadata": {},
   "outputs": [],
   "source": [
    "rnn_model = rnn_model.cuda()"
   ]
  },
  {
   "cell_type": "markdown",
   "metadata": {},
   "source": [
    "### Negative analysis"
   ]
  },
  {
   "cell_type": "code",
   "execution_count": 36,
   "metadata": {},
   "outputs": [],
   "source": [
    "classifier_length = len(neg_classifier_inputs_rnn[0][0])\n",
    "attribute_len = int(classifier_length/len(attributes))"
   ]
  },
  {
   "cell_type": "code",
   "execution_count": 37,
   "metadata": {},
   "outputs": [
    {
     "name": "stderr",
     "output_type": "stream",
     "text": [
      "100%|██████████| 128/128 [00:09<00:00, 14.15it/s]\n",
      "100%|██████████| 128/128 [00:08<00:00, 14.74it/s]\n",
      "100%|██████████| 128/128 [00:08<00:00, 15.84it/s]\n",
      "100%|██████████| 23/23 [00:01<00:00, 16.69it/s]\n"
     ]
    }
   ],
   "source": [
    "negatives_ri_rnn,neg_ri_norms_rnn = computeRi(rnn_model.classifier,\n",
    "                                                    attributes,neg_classifier_inputs_rnn,attribute_len,1)"
   ]
  },
  {
   "cell_type": "code",
   "execution_count": 38,
   "metadata": {},
   "outputs": [
    {
     "data": {
      "text/plain": [
       "<matplotlib.axes._subplots.AxesSubplot at 0x7f5b71a59160>"
      ]
     },
     "execution_count": 38,
     "metadata": {},
     "output_type": "execute_result"
    },
    {
     "data": {
      "image/png": "[encoded data removed]",
      "text/plain": [
       "<Figure size 432x288 with 1 Axes>"
      ]
     },
     "metadata": {
      "needs_background": "light"
     },
     "output_type": "display_data"
    }
   ],
   "source": [
    "neg_variation_df = pd.DataFrame(data= neg_ri_norms_rnn,columns=attributes)\n",
    "neg_variation_df.sum().plot.bar()"
   ]
  },
  {
   "cell_type": "code",
   "execution_count": null,
   "metadata": {},
   "outputs": [],
   "source": [
    "neg_variation_df.to_csv('experiments/results/negatives_ri_rnn.csv',index=False)"
   ]
  },
  {
   "cell_type": "markdown",
   "metadata": {},
   "source": [
    "### Positives analysis"
   ]
  },
  {
   "cell_type": "code",
   "execution_count": 39,
   "metadata": {},
   "outputs": [
    {
     "name": "stderr",
     "output_type": "stream",
     "text": [
      "100%|██████████| 128/128 [00:17<00:00,  7.46it/s]\n",
      "100%|██████████| 4/4 [00:00<00:00,  9.15it/s]\n"
     ]
    }
   ],
   "source": [
    "pos_ri_rnn,pos_ri_norms_rnn = computeRi(rnn_model.classifier,\n",
    "                                                    attributes,pos_classifier_inputs_rnn,attribute_len,0)"
   ]
  },
  {
   "cell_type": "code",
   "execution_count": 40,
   "metadata": {},
   "outputs": [
    {
     "data": {
      "text/plain": [
       "<matplotlib.axes._subplots.AxesSubplot at 0x7f5b71aba4a8>"
      ]
     },
     "execution_count": 40,
     "metadata": {},
     "output_type": "execute_result"
    },
    {
     "data": {
      "image/png": "[encoded data removed]",
      "text/plain": [
       "<Figure size 432x288 with 1 Axes>"
      ]
     },
     "metadata": {
      "needs_background": "light"
     },
     "output_type": "display_data"
    }
   ],
   "source": [
    "pos_variation_df = pd.DataFrame(data= pos_ri_norms_rnn,columns=attributes)\n",
    "pos_variation_df.sum().plot.bar()"
   ]
  },
  {
   "cell_type": "code",
   "execution_count": null,
   "metadata": {},
   "outputs": [],
   "source": [
    "pos_variation_df.to_csv('experiments/results/positives_ri_rnn.csv',index=False)"
   ]
  },
  {
   "cell_type": "markdown",
   "metadata": {},
   "source": [
    "## Finding closer vectors"
   ]
  },
  {
   "cell_type": "code",
   "execution_count": 41,
   "metadata": {},
   "outputs": [],
   "source": [
    "from utils.distance_measures import calculate_nearest_neighbors_onAttributes"
   ]
  },
  {
   "cell_type": "code",
   "execution_count": 42,
   "metadata": {},
   "outputs": [
    {
     "name": "stderr",
     "output_type": "stream",
     "text": [
      "100%|██████████| 128/128 [00:00<00:00, 398.09it/s]\n",
      "100%|██████████| 4/4 [00:00<00:00, 310.84it/s]\n"
     ]
    }
   ],
   "source": [
    "positives_nn = calculate_nearest_neighbors_onAttributes(pos_classifier_inputs_rnn,pos_ids_rnn,pos_ri_rnn,\n",
    "                                                       neg_classifier_inputs_rnn,neg_ids_rnn,attributes,attribute_len)"
   ]
  },
  {
   "cell_type": "code",
   "execution_count": 43,
   "metadata": {},
   "outputs": [
    {
     "name": "stderr",
     "output_type": "stream",
     "text": [
      "100%|██████████| 128/128 [00:00<00:00, 461.53it/s]\n",
      "100%|██████████| 128/128 [00:00<00:00, 461.16it/s]\n",
      "100%|██████████| 128/128 [00:00<00:00, 432.69it/s]\n",
      "100%|██████████| 23/23 [00:00<00:00, 405.71it/s]\n"
     ]
    }
   ],
   "source": [
    "negatives_nn = calculate_nearest_neighbors_onAttributes(neg_classifier_inputs_rnn,neg_ids_rnn,negatives_ri_rnn,\n",
    "                                                        pos_classifier_inputs_rnn,pos_ids_rnn,\n",
    "                                                        attributes,attribute_len)"
   ]
  },
  {
   "cell_type": "code",
   "execution_count": 44,
   "metadata": {},
   "outputs": [],
   "source": [
    "positives_nn.to_csv('experiments/results/positives_nn_rnn_withoutfilter.csv',index=False)\n",
    "negatives_nn.to_csv('experiments/results/negatives_nn_rnn_withoutfilter.csv',index=False)"
   ]
  },
  {
   "cell_type": "markdown",
   "metadata": {},
   "source": [
    "## Test bias on Rnn model"
   ]
  },
  {
   "cell_type": "code",
   "execution_count": null,
   "metadata": {},
   "outputs": [],
   "source": [
    "## per ora solo per positivi\n",
    "def testBiasPositives(model,testset_path,attribute,true_label,new_tokens):\n",
    "    standard_test = dm.data.process_unlabeled(testset_path,model,ignore_columns=['id','label'])\n",
    "    standard_pred = model.run_prediction(standard_test)\n",
    "    if true_label == 1:\n",
    "        true_positives = standard_pred[standard_pred.match_score>0.5].shape[0]\n",
    "    else:\n",
    "        true_positives = standard_pred[standard_pred.match_score<=0.5].shape[0]\n",
    "    test_dm = pd.read_csv(testset_path)\n",
    "    test_dm['ltable_'+attribute] = new_tokens[0]\n",
    "    test_dm['rtable_'+attribute] = new_tokens[1]\n",
    "    test_dm.to_csv('temp/new_test.csv',index=False)\n",
    "    new_test = dm.data.process_unlabeled('temp/new_test.csv',model,ignore_columns=['id','label'])\n",
    "    new_pred = model.run_prediction(new_test)\n",
    "    if true_label ==1:\n",
    "        new_true_pos = new_pred[new_pred.match_score >0.5].shape[0]\n",
    "    else:\n",
    "        new_true_pos = new_pred[new_pred.match_score <= 0.5].shape[0]\n",
    "    return true_positives,new_true_pos"
   ]
  },
  {
   "cell_type": "code",
   "execution_count": null,
   "metadata": {},
   "outputs": [],
   "source": [
    "hybrid_model = dm.MatchingModel(attr_summarizer='hybrid')\n",
    "hybrid_model.load_state('../../models/itunesamazon_hybrid.pth')"
   ]
  },
  {
   "cell_type": "code",
   "execution_count": null,
   "metadata": {},
   "outputs": [],
   "source": [
    "testBiasPositives(hybrid_model,'../../Structured/itunes-amazon/test_positives.csv','Price',1,('sorrita','mammita'))"
   ]
  },
  {
   "cell_type": "code",
   "execution_count": null,
   "metadata": {},
   "outputs": [],
   "source": []
  }
 ],
 "metadata": {
  "kernelspec": {
   "display_name": "Python 3",
   "language": "python",
   "name": "python3"
  },
  "language_info": {
   "codemirror_mode": {
    "name": "ipython",
    "version": 3
   },
   "file_extension": ".py",
   "mimetype": "text/x-python",
   "name": "python",
   "nbconvert_exporter": "python",
   "pygments_lexer": "ipython3",
   "version": "3.6.10"
  },
  "toc": {
   "base_numbering": 1,
   "nav_menu": {},
   "number_sections": true,
   "sideBar": true,
   "skip_h1_title": false,
   "title_cell": "Table of Contents",
   "title_sidebar": "Contents",
   "toc_cell": false,
   "toc_position": {},
   "toc_section_display": true,
   "toc_window_display": false
  }
 },
 "nbformat": 4,
 "nbformat_minor": 2
}

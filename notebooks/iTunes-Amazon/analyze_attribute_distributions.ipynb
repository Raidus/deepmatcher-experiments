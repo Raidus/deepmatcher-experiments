{
 "cells": [
  {
   "cell_type": "code",
   "execution_count": 1,
   "metadata": {},
   "outputs": [],
   "source": [
    "import pandas as pd\n",
    "import deepmatcher as dm\n",
    "from collections import OrderedDict"
   ]
  },
  {
   "cell_type": "code",
   "execution_count": 2,
   "metadata": {},
   "outputs": [],
   "source": [
    "train,valid,test = dm.data.process('../../Structured/itunes-amazon/',train='train.csv',validation='validation.csv',\n",
    "                                  test='test.csv',left_prefix='ltable_',right_prefix='rtable_')"
   ]
  },
  {
   "cell_type": "code",
   "execution_count": 3,
   "metadata": {},
   "outputs": [],
   "source": [
    "raw_train = train.get_raw_table()"
   ]
  },
  {
   "cell_type": "code",
   "execution_count": 4,
   "metadata": {},
   "outputs": [],
   "source": [
    "train_pos = raw_train[raw_train['label']==1]\n",
    "train_neg = raw_train[raw_train['label']==0]"
   ]
  },
  {
   "cell_type": "code",
   "execution_count": 5,
   "metadata": {},
   "outputs": [],
   "source": [
    "def get_terms_distribution(word_map,column):\n",
    "    \n",
    "    for _,val in column.iteritems():\n",
    "        if val in word_map:\n",
    "            word_map[val]+=1\n",
    "        else:\n",
    "            word_map[val] = 1\n",
    "    word_map = OrderedDict(sorted(word_map.items(),key = lambda t: t[1],reverse=True))\n",
    "    return word_map"
   ]
  },
  {
   "cell_type": "code",
   "execution_count": 6,
   "metadata": {},
   "outputs": [],
   "source": [
    "attributes = ['Song_Name','Artist_Name','Album_Name','Genre','Price','CopyRight','Time','Released']"
   ]
  },
  {
   "cell_type": "code",
   "execution_count": 7,
   "metadata": {},
   "outputs": [
    {
     "data": {
      "text/plain": [
       "246"
      ]
     },
     "execution_count": 7,
     "metadata": {},
     "output_type": "execute_result"
    }
   ],
   "source": [
    "negatives_length = train_neg.shape[0]\n",
    "negatives_length"
   ]
  },
  {
   "cell_type": "code",
   "execution_count": 8,
   "metadata": {},
   "outputs": [
    {
     "data": {
      "text/plain": [
       "77"
      ]
     },
     "execution_count": 8,
     "metadata": {},
     "output_type": "execute_result"
    }
   ],
   "source": [
    "positives_length = train_pos.shape[0]\n",
    "positives_length"
   ]
  },
  {
   "cell_type": "code",
   "execution_count": 27,
   "metadata": {},
   "outputs": [
    {
     "name": "stdout",
     "output_type": "stream",
     "text": [
      "******Song_Name******\n",
      "\n",
      "\n",
      "if i am a stranger ( live in amsterdam ) 10 OCCURRENCES\n",
      "dangerous ( feat . sam martin ) [ robin schulz remix ] [ radio edit ] 20 OCCURRENCES\n",
      "remember you ( feat . the weeknd ) 18 OCCURRENCES\n",
      "toyfriend ( feat . wynter gordon ) [ continuous mix version ] 27 OCCURRENCES\n",
      "\n",
      "\n",
      "******Artist_Name******\n",
      "\n",
      "\n",
      "major lazer 14 OCCURRENCES\n",
      "fetty wap 18 OCCURRENCES\n",
      "\n",
      "\n",
      "******Album_Name******\n",
      "\n",
      "\n",
      "o.n.i.f.c . ( deluxe version ) 18 OCCURRENCES\n",
      "o.n.i.f.c . [ explicit ] 13 OCCURRENCES\n",
      "listen ( deluxe version ) 18 OCCURRENCES\n",
      "live after deaf ( live ) [ complete collection ] 10 OCCURRENCES\n",
      "one love ( deluxe version ) 44 OCCURRENCES\n",
      "\n",
      "\n",
      "******Genre******\n",
      "\n",
      "\n",
      "hip-hop/rap , music , east coast rap , hardcore rap , rap 10 OCCURRENCES\n",
      "dance , music , rock , house , electronic , french pop 18 OCCURRENCES\n",
      "dance , music 44 OCCURRENCES\n",
      "\n",
      "\n",
      "******Price******\n",
      "\n",
      "\n",
      "album only 20 OCCURRENCES\n",
      "\n",
      "\n",
      "******CopyRight******\n",
      "\n",
      "\n",
      "2012 paxam records 17 OCCURRENCES\n",
      "2014 what a music ltd. under exclusive license to parlophone/warner music france , under exclusive license to atlantic recording corporation for the united states . all rights reserved . 18 OCCURRENCES\n",
      "2010 gum prod licence exclusive parlophone music france 28 OCCURRENCES\n",
      "( c ) 2014 swedish house mafia holdings ltd ( bvi ) under exclusive license to virgin records ltd 17 OCCURRENCES\n",
      "2015 300 entertainment/rgf productions 9 OCCURRENCES\n",
      "\n",
      "\n",
      "******Time******\n",
      "\n",
      "\n",
      "3:34 11 OCCURRENCES\n",
      "2:51 27 OCCURRENCES\n",
      "5:20 20 OCCURRENCES\n",
      "5:10 10 OCCURRENCES\n",
      "\n",
      "\n",
      "******Released******\n",
      "\n",
      "\n",
      " 13 OCCURRENCES\n",
      "21-aug-09 27 OCCURRENCES\n",
      "august 21 , 2009 17 OCCURRENCES\n",
      "2-jul-12 10 OCCURRENCES\n",
      "september 25 , 2015 13 OCCURRENCES\n",
      "\n",
      "\n"
     ]
    }
   ],
   "source": [
    "word_distributions = []\n",
    "for att in attributes:\n",
    "    print(\"******\"+att+\"******\")\n",
    "    print(\"\\n\")\n",
    "    word_map_neg = get_terms_distribution({},train_neg['ltable_'+att].append(train_neg['rtable_'+att]))\n",
    "    word_map_pos = get_terms_distribution({},train_pos['ltable_'+att].append(train_pos['rtable_'+att]))\n",
    "    not_common_values = set(list(word_map_neg.keys()))-set(list(word_map_pos.keys()))\n",
    "    neg_most_frequent = list(word_map_neg.keys())[0:10]\n",
    "    for val in not_common_values:\n",
    "        if val in neg_most_frequent:\n",
    "            occurrences = word_map_neg[val]\n",
    "            s = \" {} OCCURRENCES\".format(occurrences)\n",
    "            if occurrences>= negatives_length/30:\n",
    "                print (val +s)\n",
    "                \n",
    "    print(\"\\n\")"
   ]
  },
  {
   "cell_type": "code",
   "execution_count": 21,
   "metadata": {},
   "outputs": [],
   "source": [
    "word_map_albumname_neg = get_terms_distribution({},(train_neg['ltable_Album_Name'].append(train_neg['rtable_Album_Name'])))"
   ]
  },
  {
   "cell_type": "code",
   "execution_count": 16,
   "metadata": {},
   "outputs": [],
   "source": [
    "word_map_albumname_pos = get_terms_distribution({},(train_pos['ltable_Album_Name'].append(train_pos['rtable_Album_Name'])))"
   ]
  },
  {
   "cell_type": "code",
   "execution_count": 29,
   "metadata": {},
   "outputs": [],
   "source": [
    "word_map_albumname_neg = get_terms_distribution({},(train_neg['ltable_Artist_Name'].append(train_neg['rtable_Artist_Name'])))"
   ]
  },
  {
   "cell_type": "code",
   "execution_count": 33,
   "metadata": {},
   "outputs": [],
   "source": [
    "word_map_albumname_pos = get_terms_distribution({},(train_pos['ltable_Artist_Name'].append(train_pos['rtable_Artist_Name'])))"
   ]
  },
  {
   "cell_type": "code",
   "execution_count": 32,
   "metadata": {},
   "outputs": [
    {
     "data": {
      "text/plain": [
       "52"
      ]
     },
     "execution_count": 32,
     "metadata": {},
     "output_type": "execute_result"
    }
   ],
   "source": [
    "word_map_albumname_neg['wiz khalifa']"
   ]
  },
  {
   "cell_type": "code",
   "execution_count": 35,
   "metadata": {},
   "outputs": [
    {
     "data": {
      "text/plain": [
       "2"
      ]
     },
     "execution_count": 35,
     "metadata": {},
     "output_type": "execute_result"
    }
   ],
   "source": [
    "word_map_albumname_pos['calvin harris']"
   ]
  },
  {
   "cell_type": "code",
   "execution_count": 32,
   "metadata": {},
   "outputs": [],
   "source": [
    "not_common_album = set(list(word_map_albumname_neg.keys()))-set(list(word_map_albumname_pos.keys()))"
   ]
  },
  {
   "cell_type": "code",
   "execution_count": 34,
   "metadata": {},
   "outputs": [
    {
     "data": {
      "text/plain": [
       "{'$ 0.69', 'album only'}"
      ]
     },
     "execution_count": 34,
     "metadata": {},
     "output_type": "execute_result"
    }
   ],
   "source": [
    "not_common_album"
   ]
  },
  {
   "cell_type": "code",
   "execution_count": 65,
   "metadata": {},
   "outputs": [
    {
     "data": {
      "text/plain": [
       "['fetty wap ( deluxe )',\n",
       " 'listen',\n",
       " 'blacc hollywood ( deluxe ) [ explicit ]',\n",
       " 'vhs',\n",
       " 'live after deaf ( live ) [ complete collection ]',\n",
       " 'o.n.i.f.c . [ explicit ]',\n",
       " 'listen ( deluxe version )',\n",
       " 'o.n.i.f.c . ( deluxe version )',\n",
       " 'listen ( deluxe )',\n",
       " 'one love ( deluxe version )']"
      ]
     },
     "execution_count": 65,
     "metadata": {},
     "output_type": "execute_result"
    }
   ],
   "source": [
    "list(word_map_albumname_neg.keys())[-10:]"
   ]
  },
  {
   "cell_type": "code",
   "execution_count": 67,
   "metadata": {},
   "outputs": [
    {
     "data": {
      "text/plain": [
       "23"
      ]
     },
     "execution_count": 67,
     "metadata": {},
     "output_type": "execute_result"
    }
   ],
   "source": [
    "word_map_albumname_neg['listen ( deluxe )']"
   ]
  },
  {
   "cell_type": "markdown",
   "metadata": {},
   "source": [
    "## Find values present only in positives"
   ]
  },
  {
   "cell_type": "code",
   "execution_count": 17,
   "metadata": {},
   "outputs": [
    {
     "name": "stdout",
     "output_type": "stream",
     "text": [
      "******Song_Name******\n",
      "\n",
      "\n",
      "through the ghost 4 OCCURRENCES\n",
      "going away for a while 4 OCCURRENCES\n",
      "nothing would be better 4 OCCURRENCES\n",
      "cowboy boots 4 OCCURRENCES\n",
      "\n",
      "\n",
      "******Artist_Name******\n",
      "\n",
      "\n",
      "nick jonas 6 OCCURRENCES\n",
      "luke bryan 6 OCCURRENCES\n",
      "keith urban 6 OCCURRENCES\n",
      "\n",
      "\n",
      "******Album_Name******\n",
      "\n",
      "\n",
      "illinois 4 OCCURRENCES\n",
      "anything goes 4 OCCURRENCES\n",
      "\n",
      "\n",
      "******Genre******\n",
      "\n",
      "\n",
      "country , music , contemporary country 4 OCCURRENCES\n",
      "\n",
      "\n",
      "******Price******\n",
      "\n",
      "\n",
      "\n",
      "\n",
      "******CopyRight******\n",
      "\n",
      "\n",
      "\n",
      "\n",
      "******Time******\n",
      "\n",
      "\n",
      "2:48 4 OCCURRENCES\n",
      "\n",
      "\n",
      "******Released******\n",
      "\n",
      "\n",
      "\n",
      "\n"
     ]
    }
   ],
   "source": [
    "word_distributions = []\n",
    "for att in attributes:\n",
    "    print(\"******\"+att+\"******\")\n",
    "    print(\"\\n\")\n",
    "    word_map_neg = get_terms_distribution({},train_neg['ltable_'+att].append(train_neg['rtable_'+att]))\n",
    "    word_map_pos = get_terms_distribution({},train_pos['ltable_'+att].append(train_pos['rtable_'+att]))\n",
    "    not_common_values = set(list(word_map_pos.keys()))-set(list(word_map_neg.keys()))\n",
    "    pos_most_frequent = list(word_map_pos.keys())[0:10]\n",
    "    for val in not_common_values:\n",
    "        if val in pos_most_frequent:\n",
    "            occurrences = word_map_pos[val]\n",
    "            s = \" {} OCCURRENCES\".format(occurrences)\n",
    "            if occurrences>= positives_length/20:\n",
    "                print (val+s)\n",
    "                \n",
    "    print(\"\\n\")"
   ]
  },
  {
   "cell_type": "markdown",
   "metadata": {},
   "source": [
    "## Check copyright"
   ]
  },
  {
   "cell_type": "code",
   "execution_count": 69,
   "metadata": {},
   "outputs": [],
   "source": [
    "distribution_copyright_neg = get_terms_distribution({},train_neg['ltable_CopyRight'].append(train_neg['rtable_CopyRight']))"
   ]
  },
  {
   "cell_type": "code",
   "execution_count": 70,
   "metadata": {},
   "outputs": [],
   "source": [
    "distribution_copyright_pos = get_terms_distribution({},train_pos['ltable_CopyRight'].append(train_pos['rtable_CopyRight']))"
   ]
  },
  {
   "cell_type": "code",
   "execution_count": 71,
   "metadata": {},
   "outputs": [],
   "source": [
    "not_common_copyright = set(list(distribution_copyright_neg.keys()))-set(list(distribution_copyright_pos.keys()))"
   ]
  },
  {
   "cell_type": "code",
   "execution_count": 72,
   "metadata": {},
   "outputs": [
    {
     "data": {
      "text/plain": [
       "{'( c ) 1981 mca records inc .',\n",
       " '( c ) 2000 mute records ltd. , a bmg company , under exclusive license to ingrooves',\n",
       " '( c ) 2003 universal records , a division of umg recordings , inc .',\n",
       " '( c ) 2004 geffen records',\n",
       " '( c ) 2005 mca nashville',\n",
       " '( c ) 2005 mca nashville , a division of umg recordings , inc .',\n",
       " '( c ) 2005 rebel records llc',\n",
       " '( c ) 2006 dtp records , llc',\n",
       " '( c ) 2006 geffen records',\n",
       " '( c ) 2006 vanguard',\n",
       " '( c ) 2008 big machine records , llc all rights reserved under license to umgd',\n",
       " '( c ) 2008 goldenlane records',\n",
       " '( c ) 2008 interscope',\n",
       " '( c ) 2009 downtown music , llc .',\n",
       " '( c ) 2009 downtown music , llc . downtown records is a trademark of downtown music , llc .',\n",
       " '( c ) 2009 mpl tours inc. under exclusive license to starcon llc d/b/a hear musictm',\n",
       " '( c ) 2010 interscope',\n",
       " '( c ) 2010 young money entertainment/cash money records',\n",
       " '( c ) 2011 19 recordings , inc .',\n",
       " '( c ) 2011 capitol records , llc',\n",
       " '( c ) 2011 copyright top billin',\n",
       " '( c ) 2011 interscope records',\n",
       " '( c ) 2011 the island def jam music group',\n",
       " '( c ) 2012 interscope records',\n",
       " '( c ) 2012 the weeknd xo , inc .',\n",
       " '( c ) 2013 big machine label group , llc',\n",
       " '( c ) 2013 digitop ltd',\n",
       " '( c ) 2013 interscope records',\n",
       " '( c ) 2014 acoda',\n",
       " '( c ) 2014 big machine label group , llc',\n",
       " '( c ) 2014 big machine records , llc .',\n",
       " '( c ) 2014 downtown records',\n",
       " '( c ) 2014 island records , a division of umg recordings , inc .',\n",
       " '( c ) 2014 la industria inc',\n",
       " '( c ) 2014 lazy hooks , llc under exclusive license to capitol records , llc',\n",
       " '( c ) 2014 lichtdicht records under exclusive license in the us to republic records , inc. , a divison of umg recordings',\n",
       " '( c ) 2014 naughty boy recordings ltd under exclusive licence to virgin records ltd',\n",
       " '( c ) 2014 swedish house mafia holdings ltd ( bvi ) under exclusive license to virgin records ltd',\n",
       " '( c ) 2014 universal island records , a division of universal music operations limited',\n",
       " '( c ) 2014 wolf tone limited',\n",
       " '( c ) 2015 interscope records',\n",
       " '( c ) 2015 island records , a division of universal music operations limited',\n",
       " '( c ) 2015 mca nashville , a division of umg recordings , inc .',\n",
       " '( c ) 2015 paxamericana recording company under exclusive licenese to blue note records',\n",
       " '( c ) 2015 third pardee records , llc under exclusive license to interscope records in the united states',\n",
       " '2000 bmg entertainment',\n",
       " '2005 secretly canadian',\n",
       " '2007 mark ronson under exclusive license to sony bmg music entertainment ( uk ) limited',\n",
       " '2007 sony bmg music entertainment',\n",
       " '2008 atlantic recording corporation for the united states and wea international inc. for the world outside of the united states',\n",
       " '2008 big love',\n",
       " '2008 big machine records , llc all rights reserved under license to umgd',\n",
       " '2009 atlantic recording corporation for the united states and wea international for the world outside of the united states',\n",
       " '2009 atlantic recording corporation for the united states and wea international inc. for the world outside of the united states .',\n",
       " '2010 atlantic recording corporation for the united states and wea international inc. for the world outside of the united states .',\n",
       " '2010 big beat records , inc. for the united states and wea international for the world outside the united states .',\n",
       " '2010 gum prod licence exclusive parlophone music france',\n",
       " '2010 robbins entertainment llc',\n",
       " '2010 young money entertainment/cash money records/universal motown',\n",
       " '2011 19 recordings , inc .',\n",
       " '2011 atlantic recording corporation for the united states and wea international inc. for the world outside of the united states .',\n",
       " '2011 big beat records , inc. for the united states and wea international for the world outside the united states .',\n",
       " '2011 bugeyed records',\n",
       " '2011 downtown records unders exclusive license to interscope records in the u.s.a .',\n",
       " '2011 emi music north america / sony music entertainment / umg recordings , inc .',\n",
       " '2011 interscope records',\n",
       " '2011 macklemore , llc',\n",
       " '2011 mad decent',\n",
       " '2011 polydor ltd. ( uk )',\n",
       " '2011 rory bourke music co. ( bmi )',\n",
       " '2011 this compilation p2011 warner bros. . records inc .',\n",
       " '2011 ultra records , inc .',\n",
       " '2012 blue drum records',\n",
       " '2012 coastal entertainment',\n",
       " '2012 owsla and big beat records for the united states and wea international for the world outside the united states .',\n",
       " '2012 paxam records',\n",
       " '2012 rca records , a division of sony music entertainment',\n",
       " '2012 the island def jam music group',\n",
       " '2012 ultra records , inc .',\n",
       " '2012 warner music uk limited',\n",
       " '2012 what a music ltd , licence exclusive parlophone music france',\n",
       " '2013 atlantic recording corporation for the united states and wea international inc. for the world outside of the united states',\n",
       " '2013 howard hersh',\n",
       " '2013 interscope records',\n",
       " '2013 naughty boy recordings ltd under exclusive licence to virgin records ltd',\n",
       " '2013 secretly canadian / mad decent',\n",
       " '2013 sony music entertainment uk limited',\n",
       " '2013 warner bros. . records inc .',\n",
       " '2013 watertower music / warner bros. . entertainment / metro - goldwyn mayer pictures inc .',\n",
       " '2013 what a music ltd , licence exclusive parlophone music france',\n",
       " '2014 , 2015 wedgewood productions , inc. & dj snake music llc , under exclusive license to columbia records , a division of sony music entertainment',\n",
       " '2014 dack janiels records , under exclusive license to sony music entertainment .',\n",
       " '2014 island records , a division of umg recordings , inc .',\n",
       " '2014 naughty boy recordings ltd under exclusive licence to virgin records ltd',\n",
       " '2014 owsla/big beat records , inc. for the united states and wea international inc. for the world outside of the united states .',\n",
       " '2014 simco limited under exclusive license to sony music entertainment uk limited',\n",
       " '2014 warner bros. . records inc .',\n",
       " '2014 what a music ltd. under exclusive license to parlophone/warner music france , under exclusive license to atlantic recording corporation for the united states . all rights reserved .',\n",
       " '2015 300 entertainment/rgf productions',\n",
       " '2015 bill maki',\n",
       " '2015 cmg records',\n",
       " '2015 interscope records',\n",
       " '2015 island records , a division of universal music operations limited',\n",
       " '2015 mad decent',\n",
       " '2015 michelle kelly',\n",
       " '2015 owsla / mad decent / atlantic recording corporation for the united states and wea international inc. for the world outside of the united states . a warner music group company',\n",
       " '2015 perpetual motions ent . / f pac records/frogg life',\n",
       " '2015 real sounds',\n",
       " '2015 rgk',\n",
       " '2015 sony music entertainment uk limited',\n",
       " '2015 sony music entertainment us latin llc',\n",
       " '2015 what a music ltd. under exclusive license to parlophone/warner music france , under exclusive license to atlantic recording corporation for the united states',\n",
       " '2015 zia moz , david guetta , onika maraj , giorgio tuinfort , nick van de wall , ester dean , bebe rexha , sean douglas',\n",
       " 'sam hunt & david kilgour / bandit king records',\n",
       " '‰ ãñ 2007 gum records',\n",
       " '‰ ãñ 2007 mca nashville , a division of umg recordings , inc .',\n",
       " '‰ ãñ 2009 downtown music , llc .',\n",
       " '‰ ãñ 2010 cash money records inc .',\n",
       " '‰ ãñ 2010 geffen records',\n",
       " '‰ ãñ 2010 the island def jam music group',\n",
       " '‰ ãñ 2011 capitol records , llc . all rights reserved . unauthorized reproduction is a violation of applicable laws . manufactured by capitol records , llc , 1750 north vine street , hollywood , ca 90028 .',\n",
       " '‰ ãñ 2013 big machine label group , llc',\n",
       " '‰ ãñ 2013 secretly canadian / mad decent',\n",
       " '‰ ãñ 2013 watertower music',\n",
       " '‰ ãñ 2014 big machine records , llc',\n",
       " '‰ ãñ 2014 downtown records',\n",
       " '‰ ãñ 2014 umg recordings , inc. and sony music entertainment'}"
      ]
     },
     "execution_count": 72,
     "metadata": {},
     "output_type": "execute_result"
    }
   ],
   "source": [
    "not_common_copyright"
   ]
  },
  {
   "cell_type": "code",
   "execution_count": 73,
   "metadata": {},
   "outputs": [
    {
     "data": {
      "text/plain": [
       "['2015 300 entertainment/rgf productions',\n",
       " '( c ) 2015 kidinakorner/interscope records',\n",
       " '( c ) 2000 mute records ltd. , a bmg company , under exclusive license to ingrooves',\n",
       " '2014 atlantic recording corporation for the united states and wea international inc. for the world outside of the united states . a warner music group company',\n",
       " '2012 paxam records',\n",
       " '( c ) 2014 swedish house mafia holdings ltd ( bvi ) under exclusive license to virgin records ltd',\n",
       " '2014 what a music ltd. under exclusive license to parlophone/warner music france , under exclusive license to atlantic recording corporation for the united states . all rights reserved .',\n",
       " '2015 if moving your mine',\n",
       " '2010 gum prod licence exclusive parlophone music france',\n",
       " '2012 atlantic recording corporation for the united states and wea international inc. for the world outside of the united states']"
      ]
     },
     "execution_count": 73,
     "metadata": {},
     "output_type": "execute_result"
    }
   ],
   "source": [
    "list(distribution_copyright_neg.keys())[-10:]"
   ]
  },
  {
   "cell_type": "code",
   "execution_count": 76,
   "metadata": {},
   "outputs": [
    {
     "data": {
      "text/plain": [
       "OrderedDict([('2007 mark ronson under exclusive license to sony bmg music entertainment ( uk ) limited except track 9 ( p ) 2006 rapster records / bbe records',\n",
       "              1),\n",
       "             ('‰ ãñ 2012 big machine label group , llc', 1),\n",
       "             ('2014 dack janiels records', 1),\n",
       "             ('2014 sony music entertainment', 1),\n",
       "             ('2004 sony music entertainment', 1),\n",
       "             ('2004 bmg music', 1),\n",
       "             ('2014 asylum records uk , a warner music uk company', 1),\n",
       "             ('‰ ãñ 2010 polydor ltd. ( uk )', 1),\n",
       "             ('2011 what a music ltd , licence exclusive parlophone music france',\n",
       "              1),\n",
       "             ('1997 capitol nashville', 1),\n",
       "             ('‰ ãñ 2010 hit red records under exclusive license to capitol records nashville . all rights reserved . unauthorized reproduction is a violation of applicable laws . manufactured by capitol records nashville , 3322 west end avenue , 11th floor , nashville , tn 37',\n",
       "              1),\n",
       "             ('2015 paxamericana recording company under exclusive license to blue note records',\n",
       "              1),\n",
       "             ('2012 2012 macklemore , llc .', 1),\n",
       "             ('‰ ãñ 2010 atlantic recording corporation for the united states and wea international inc. for the world outside of the united states .',\n",
       "              1),\n",
       "             ('‰ ãñ 2012 macklemore , llc .', 1),\n",
       "             ('2015 cash money records inc .', 1),\n",
       "             ('2006 , 2007 capitol records nashville . all rights reserved . unauthorized reproduction is a violation of applicable laws . manufactured by capitol records nashville , 3322 west end avenue , 11th floor , nashville , tn 37203',\n",
       "              1),\n",
       "             ('‰ ãñ 2009 capitol records nashville . all rights reserved . unauthorized reproduction is a violation of applicable laws . manufactured by capitol records nashville , 3322 west end avenue , 11th floor , nashville , tn 37203',\n",
       "              1),\n",
       "             ('2003 elektra entertainment for the united states and wea international inc. for the world outside of the united states .',\n",
       "              1),\n",
       "             ('1999 , 2000 laface records llc', 1),\n",
       "             ('‰ ãñ 2013 cash money records inc .', 1),\n",
       "             ('‰ ãñ 2011 cash money records inc .', 1),\n",
       "             ('‰ ãñ 2013 simco limited under exclusive license to sony music entertainment uk limited',\n",
       "              1),\n",
       "             ('‰ ãñ 2013 polydor ltd. ( uk )', 1),\n",
       "             ('2007 the island def jam music group', 1),\n",
       "             ('2014 warner music nashville llc and wea international inc. for the world outside the u.s .',\n",
       "              1),\n",
       "             ('2012 macklemore , llc .', 1),\n",
       "             ('‰ ãñ 2010 bad boy/interscope records', 1),\n",
       "             ('‰ ãñ 2013 emi records nashville . all rights reserved . unauthorized reproduction is a violation of applicable laws . manufactured by capitol records nashville , 401 commerce street , suite 1100 , nashville , tn 37219',\n",
       "              1),\n",
       "             ('2015 warner bros. . records inc .', 1),\n",
       "             ('2014 warner music uk limited', 1),\n",
       "             ('‰ ãñ 2012 lana del rey under exclusive licence to polydor ltd. ( uk ) . under exclusive licence to interscope records in the usa',\n",
       "              1),\n",
       "             ('2011 warner bros. . records inc .', 1),\n",
       "             ('‰ ãñ 2014 universal island records , a division of universal music operations limited',\n",
       "              1),\n",
       "             ('2003 arista records , inc .', 1),\n",
       "             ('2013 hollywood records , inc .', 1),\n",
       "             ('2012 atlantic recording corporation for the united states and wea international inc. for the world outside of the united states',\n",
       "              1),\n",
       "             ('2007 sony bmg music entertainment ( uk ) limited', 1),\n",
       "             ('2011 great unknown , llc', 1),\n",
       "             ('2015 atlantic recording corporation for the us and wea international for the world outside the united states . a warner music group company',\n",
       "              1),\n",
       "             ('2014 la industria inc. . licencia a codiscos s.a.s .', 1),\n",
       "             ('2014 , 2015 simco ltd. under exclusive license to epic records , a division of sony music entertainment',\n",
       "              1),\n",
       "             ('‰ ãñ 2009 atlantic recording corporation for the united states and wea international inc. for the world outside of the united states',\n",
       "              1),\n",
       "             ('2015 capitol records nashville', 1),\n",
       "             ('1999 capitol records nashville', 1),\n",
       "             ('‰ ãñ 2011 atlantic recording corporation for the united states and wea international inc. for the world outside of the united states',\n",
       "              1),\n",
       "             ('‰ ãñ 2008 big machine records , llc', 1),\n",
       "             ('2006 rca/jive label group , a unit of sony music entertainment',\n",
       "              1),\n",
       "             ('2011 emi records nashville . all rights reserved . unauthorized reproduction is a violation of applicable laws . manufactured by capitol records nashville , 3322 west end avenue , 11th floor , nashville , tn 37203',\n",
       "              1),\n",
       "             ('2014 little big town , llc under exclusive license to capitol records nashville',\n",
       "              1),\n",
       "             ('2002 bmg', 1),\n",
       "             ('‰ ãñ 2012 the island def jam music group', 1),\n",
       "             (\"( c ) 2011 j'adore records\", 1),\n",
       "             ('( c ) 2012 big machine label group , llc', 1),\n",
       "             ('( c ) 2014 dack janiels records , under exclusive license to sony music entertainment .',\n",
       "              1),\n",
       "             ('2012 pinecastle records', 1),\n",
       "             ('( p ) moda black', 1),\n",
       "             ('( c ) 2014 mau5trap recordings ltd', 1),\n",
       "             ('( p ) 2008 blue chair records , llc and bmg music', 1),\n",
       "             ('( c ) 2011 polydor ltd. ( uk )', 1),\n",
       "             ('2009 andy henningsen', 1),\n",
       "             ('( c ) 1997 capitol nashville', 1),\n",
       "             ('( c ) 2011 hit red records under exclusive license to capitol records nashville',\n",
       "              1),\n",
       "             ('( c ) 2015 paxamericana recording company under exclusive license to blue note records',\n",
       "              1),\n",
       "             ('2010 atlantic recording corporation for the united states and wea international inc. for the world outside of the united states',\n",
       "              1),\n",
       "             ('( c ) 2015 cash money records inc .', 1),\n",
       "             ('( c ) 2007 capitol records nashville . all rights reserved . unauthorized reproduction is a violation of applicable laws . manufactured by capitol records nashville , 3322 west end avenue , 11th floor , nash',\n",
       "              1),\n",
       "             ('( c ) 2009 capitol records nashville', 1),\n",
       "             ('( c ) 2015 karaoke freaks', 1),\n",
       "             ('( p ) 2008 blue chair records , llc', 1),\n",
       "             ('( c ) 2008 concord music group , inc .', 1),\n",
       "             ('( c ) 2013 cash money records inc .', 1),\n",
       "             ('( c ) 2014 disney enterprises , inc .', 1),\n",
       "             ('( c ) 2013 polydor ltd. ( uk )', 1),\n",
       "             ('( c ) 2007 the island def jam music group', 1),\n",
       "             ('( c ) 2011 umg recordings , inc .', 1),\n",
       "             ('( c ) 2010 bad boy/interscope records', 1),\n",
       "             ('( c ) 2013 emi records nashville', 1),\n",
       "             ('2011 because music', 1),\n",
       "             ('dub police records', 1),\n",
       "             ('( c ) 2012 lana del rey under exclusive licence to polydor ltd. ( uk ) . under exclusive licence to interscope records in the usa',\n",
       "              1),\n",
       "             ('( c ) 2013 hit red records under exclusive license to capitol records nashville',\n",
       "              1),\n",
       "             ('( c ) 2013 universal island records , a division of universal music operations limited',\n",
       "              1),\n",
       "             ('cwm records', 1),\n",
       "             ('( c ) 2013 hollywood records , inc .', 1),\n",
       "             ('krankbrother', 1),\n",
       "             ('2002 defected records ltd', 1),\n",
       "             ('2014 great unknown , llc', 1),\n",
       "             ('2012 knight skreams', 1),\n",
       "             ('( c ) 2014 codiscos s.a.s .', 1),\n",
       "             ('( c ) 2012 big machine records , llc .', 1),\n",
       "             ('( c ) 2012 motown records , a division of umg recordings , inc .',\n",
       "              1),\n",
       "             ('( c ) 2015 capitol records nashville', 1),\n",
       "             ('( c ) 1999 capitol records nashville', 1),\n",
       "             ('( c ) 2008 big machine records , llc', 1),\n",
       "             ('( c ) 2009 foo & blu , llc under exclusive license to interscope records',\n",
       "              1),\n",
       "             ('( c ) 2011 emi records nashville', 1),\n",
       "             ('( c ) 2014 little big town llc under exclusive license to capitol records nashville',\n",
       "              1),\n",
       "             ('underground avenue', 1),\n",
       "             ('( c ) 2012 the island def jam music group', 1),\n",
       "             ('2012 dim mak inc .', 2),\n",
       "             ('2015 fueled by ramen llc for the united states and wea international inc. for the world outside of the united states . a warner music group company',\n",
       "              2),\n",
       "             ('2014 atlantic recording corporation for the united states and wea international inc. for the world outside of the united states . a warner music group company',\n",
       "              2),\n",
       "             ('2014 what a music ltd. under exclusive license to parlophone/warner music france , under exclusive license to atlantic recording corporation for the united states . all rights reserved',\n",
       "              2),\n",
       "             ('2008 blue chair records , llc', 2),\n",
       "             ('2013 atlantic recording corporation for the united states and wea international inc. for the world outside of the united states . a warner music group company',\n",
       "              2),\n",
       "             ('‰ ãñ 2014 big machine label group , llc', 2),\n",
       "             ('2015 atlantic recording corporation for the united states and wea international inc. for the world outside of the united states . a warner music group company',\n",
       "              2),\n",
       "             ('2011 florida georgia line', 2),\n",
       "             ('2009 rostrum records', 2),\n",
       "             ('2013 greco-roman ltd', 2),\n",
       "             ('( c ) 2012 cash money records inc .', 2),\n",
       "             ('2015 if moving your mine', 2),\n",
       "             ('( c ) 2014 republic records , a division of umg recordings , inc. ( republic nashville )',\n",
       "              2),\n",
       "             ('( c ) phonotype', 2),\n",
       "             ('2013 mad decent', 2),\n",
       "             ('2014 island records , a division of umg recordings , inc. / safehouse records , llc',\n",
       "              3),\n",
       "             ('( c ) 2014 island records/safehouse records llc , a division of umg recordings , inc .',\n",
       "              3),\n",
       "             ('2014 selena garcia & steven gomez', 3),\n",
       "             ('2015 kidinakorner/interscope records', 4),\n",
       "             ('( c ) 2015 kidinakorner/interscope records', 4),\n",
       "             ('2011 atlantic recording corporation for the united states and wea international inc. for the world outside of the united states',\n",
       "              5)])"
      ]
     },
     "execution_count": 76,
     "metadata": {},
     "output_type": "execute_result"
    }
   ],
   "source": [
    "distribution_copyright_pos"
   ]
  },
  {
   "cell_type": "markdown",
   "metadata": {},
   "source": [
    "## Artist Name"
   ]
  },
  {
   "cell_type": "code",
   "execution_count": 79,
   "metadata": {},
   "outputs": [],
   "source": [
    "distribution_artistname_neg = get_terms_distribution({},train_neg['ltable_Artist_Name'].append(train_neg['rtable_Artist_Name']))"
   ]
  },
  {
   "cell_type": "code",
   "execution_count": 80,
   "metadata": {},
   "outputs": [],
   "source": [
    "distribution_artistname_pos = get_terms_distribution({},train_pos['ltable_Artist_Name'].append(train_pos['rtable_Artist_Name']))"
   ]
  },
  {
   "cell_type": "code",
   "execution_count": 81,
   "metadata": {},
   "outputs": [],
   "source": [
    "not_common_artists = set(list(distribution_artistname_neg.keys()))-set(list(distribution_artistname_pos.keys()))"
   ]
  },
  {
   "cell_type": "code",
   "execution_count": 85,
   "metadata": {},
   "outputs": [
    {
     "data": {
      "text/plain": [
       "{'boy face',\n",
       " 'calvin harris & disciples',\n",
       " 'calvin harris feat . kelis',\n",
       " 'chocquibtown feat . nicky jam',\n",
       " 'clean bandit',\n",
       " 'cold war kids',\n",
       " 'daniel merriweather & mark ronson',\n",
       " 'david banner',\n",
       " 'david guetta & rihanna',\n",
       " 'dillon francis & diplo',\n",
       " 'dillon francis & dj snake',\n",
       " 'fetty wap',\n",
       " 'george strait',\n",
       " 'howard shore',\n",
       " 'james newton howard',\n",
       " 'kaskade',\n",
       " 'kaskade & skrillex',\n",
       " 'kelly clarkson & reba mcentire',\n",
       " 'kenny rogers',\n",
       " 'lady gaga',\n",
       " 'lauren alaina',\n",
       " 'lil wayne',\n",
       " \"lil wayne & lil ' twist\",\n",
       " 'lil wayne & t streets',\n",
       " 'major lazer',\n",
       " 'mark ronson feat . daniel merriweather',\n",
       " 'mark ronson feat . keyone starr',\n",
       " 'naughty boy',\n",
       " 'nelly furtado',\n",
       " 'nelly furtado & keith urban',\n",
       " 'nicky jam & enrique iglesias',\n",
       " 'reba mcentire',\n",
       " 'reba mcentire & rascal flatts',\n",
       " 'skrillex',\n",
       " 'skrillex & damian `` jr. . gong `` marley',\n",
       " 'skrillex & damian jr gong `` marley ``',\n",
       " 'skrillex & kill the noise',\n",
       " 'snoop dogg',\n",
       " 'snoop dogg & gorillaz',\n",
       " 'snoop dogg & latoiya williams',\n",
       " 'walk the moon',\n",
       " 'willy joy , flosstradamus , dillon francis , bird peterson , cousin cole , flinch',\n",
       " 'zia moz feat . david guetta , bebe rexha , nicki minaj and afrojack'}"
      ]
     },
     "execution_count": 85,
     "metadata": {},
     "output_type": "execute_result"
    }
   ],
   "source": [
    "not_common_artists"
   ]
  },
  {
   "cell_type": "code",
   "execution_count": 86,
   "metadata": {},
   "outputs": [
    {
     "data": {
      "text/plain": [
       "['major lazer',\n",
       " 'zedd',\n",
       " 'disclosure',\n",
       " 'flo rida',\n",
       " 'x ambassadors',\n",
       " 'fetty wap',\n",
       " 'ryan adams',\n",
       " 'shinedown',\n",
       " 'wiz khalifa',\n",
       " 'david guetta']"
      ]
     },
     "execution_count": 86,
     "metadata": {},
     "output_type": "execute_result"
    }
   ],
   "source": [
    "list(distribution_artistname_neg.keys())[-10:]"
   ]
  },
  {
   "cell_type": "code",
   "execution_count": 88,
   "metadata": {},
   "outputs": [
    {
     "data": {
      "text/plain": [
       "52"
      ]
     },
     "execution_count": 88,
     "metadata": {},
     "output_type": "execute_result"
    }
   ],
   "source": [
    "distribution_artistname_neg['wiz khalifa']"
   ]
  },
  {
   "cell_type": "code",
   "execution_count": 89,
   "metadata": {},
   "outputs": [
    {
     "data": {
      "text/plain": [
       "['mark ronson',\n",
       " 'ed sheeran',\n",
       " 'ellie goulding',\n",
       " 'shinedown',\n",
       " 'brett eldredge',\n",
       " 'flo rida',\n",
       " 'eric church',\n",
       " 'jason derulo',\n",
       " 'disclosure',\n",
       " 'p ! nk',\n",
       " 'david guetta',\n",
       " 'nick jonas',\n",
       " 'keith urban',\n",
       " 'macklemore & ryan lewis',\n",
       " 'drake',\n",
       " 'luke bryan',\n",
       " 'florida georgia line',\n",
       " 'kenny chesney',\n",
       " 'x ambassadors',\n",
       " 'wiz khalifa']"
      ]
     },
     "execution_count": 89,
     "metadata": {},
     "output_type": "execute_result"
    }
   ],
   "source": [
    "list(distribution_artistname_pos.keys())[-20:]"
   ]
  },
  {
   "cell_type": "code",
   "execution_count": null,
   "metadata": {},
   "outputs": [],
   "source": []
  }
 ],
 "metadata": {
  "kernelspec": {
   "display_name": "Python 3",
   "language": "python",
   "name": "python3"
  },
  "language_info": {
   "codemirror_mode": {
    "name": "ipython",
    "version": 3
   },
   "file_extension": ".py",
   "mimetype": "text/x-python",
   "name": "python",
   "nbconvert_exporter": "python",
   "pygments_lexer": "ipython3",
   "version": "3.6.8"
  }
 },
 "nbformat": 4,
 "nbformat_minor": 2
}

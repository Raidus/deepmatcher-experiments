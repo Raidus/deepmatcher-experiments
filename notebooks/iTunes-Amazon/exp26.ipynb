{
 "cells": [
  {
   "cell_type": "markdown",
   "metadata": {},
   "source": [
    "# Evaluate rankings with new samples added"
   ]
  },
  {
   "cell_type": "code",
   "execution_count": 1,
   "metadata": {},
   "outputs": [],
   "source": [
    "%load_ext autoreload\n",
    "%autoreload 2"
   ]
  },
  {
   "cell_type": "code",
   "execution_count": 2,
   "metadata": {},
   "outputs": [],
   "source": [
    "import sys\n",
    "sys.path.append('../..')"
   ]
  },
  {
   "cell_type": "code",
   "execution_count": 3,
   "metadata": {},
   "outputs": [],
   "source": [
    "from utils.dataset_parser import generate_train_valid_test,generate_pos_neg_datasets"
   ]
  },
  {
   "cell_type": "code",
   "execution_count": 6,
   "metadata": {},
   "outputs": [],
   "source": [
    "train_df,validation_df,test_df = generate_train_valid_test('exp26/','extended_train10perc.csv','valid.csv','test.csv',\n",
    "                                                 left_prefix='ltable_',right_prefix='rtable_')"
   ]
  },
  {
   "cell_type": "code",
   "execution_count": 7,
   "metadata": {},
   "outputs": [],
   "source": [
    "train_df.to_csv('exp26/merged_train.csv',index=False)\n",
    "validation_df.to_csv('exp26/merged_validation.csv',index=False)\n",
    "test_df.to_csv('exp26/merged_test.csv',index=False)"
   ]
  },
  {
   "cell_type": "code",
   "execution_count": 8,
   "metadata": {},
   "outputs": [],
   "source": [
    "positives_df,negatives_df = generate_pos_neg_datasets('exp26','merged_train.csv','merged_validation.csv',\n",
    "                                                     'merged_test.csv')"
   ]
  },
  {
   "cell_type": "code",
   "execution_count": 16,
   "metadata": {},
   "outputs": [],
   "source": [
    "positives_df.to_csv('exp26/positives.csv',index=False)\n",
    "negatives_df.to_csv('exp26/negatives.csv',index=False)"
   ]
  },
  {
   "cell_type": "markdown",
   "metadata": {},
   "source": [
    "## Train models"
   ]
  },
  {
   "cell_type": "code",
   "execution_count": 10,
   "metadata": {},
   "outputs": [],
   "source": [
    "import deepmatcher as dm"
   ]
  },
  {
   "cell_type": "code",
   "execution_count": 11,
   "metadata": {},
   "outputs": [
    {
     "name": "stderr",
     "output_type": "stream",
     "text": [
      "WARNING:deepmatcher.data.dataset:Rebuilding data cache because: ['One or more data files have been modified.']\n"
     ]
    }
   ],
   "source": [
    "train,validation,test = dm.data.process('exp26',train='merged_train.csv',validation='merged_validation.csv',\n",
    "                                       test='merged_test.csv',left_prefix='ltable_',right_prefix='rtable_')"
   ]
  },
  {
   "cell_type": "code",
   "execution_count": 12,
   "metadata": {},
   "outputs": [
    {
     "name": "stdout",
     "output_type": "stream",
     "text": [
      "* Number of trainable parameters: 17757810\n",
      "===>  TRAIN Epoch 1\n",
      "Finished Epoch 1 || Run Time:    4.6 | Load Time:    1.3 || F1:  37.47 | Prec:  23.12 | Rec:  98.72 || Ex/s:  59.87\n",
      "\n",
      "===>  EVAL Epoch 1\n",
      "Finished Epoch 1 || Run Time:    0.5 | Load Time:    0.4 || F1:  54.12 | Prec:  39.66 | Rec:  85.19 || Ex/s: 125.81\n",
      "\n",
      "* Best F1: 54.11764705882353\n",
      "Saving best model...\n",
      "Done.\n",
      "---------------------\n",
      "\n",
      "===>  TRAIN Epoch 2\n",
      "Finished Epoch 2 || Run Time:    4.2 | Load Time:    1.3 || F1:  52.01 | Prec:  36.41 | Rec:  91.03 || Ex/s:  64.18\n",
      "\n",
      "===>  EVAL Epoch 2\n",
      "Finished Epoch 2 || Run Time:    0.5 | Load Time:    0.4 || F1:  61.02 | Prec:  56.25 | Rec:  66.67 || Ex/s: 125.54\n",
      "\n",
      "* Best F1: 61.01694915254238\n",
      "Saving best model...\n",
      "Done.\n",
      "---------------------\n",
      "\n",
      "===>  TRAIN Epoch 3\n",
      "Finished Epoch 3 || Run Time:    4.0 | Load Time:    1.3 || F1:  62.28 | Prec:  47.33 | Rec:  91.03 || Ex/s:  66.49\n",
      "\n",
      "===>  EVAL Epoch 3\n",
      "Finished Epoch 3 || Run Time:    0.4 | Load Time:    0.3 || F1:  74.07 | Prec:  74.07 | Rec:  74.07 || Ex/s: 150.15\n",
      "\n",
      "* Best F1: 74.07407407407408\n",
      "Saving best model...\n",
      "Done.\n",
      "---------------------\n",
      "\n",
      "===>  TRAIN Epoch 4\n",
      "Finished Epoch 4 || Run Time:    4.4 | Load Time:    1.4 || F1:  74.00 | Prec:  60.66 | Rec:  94.87 || Ex/s:  60.35\n",
      "\n",
      "===>  EVAL Epoch 4\n",
      "Finished Epoch 4 || Run Time:    0.5 | Load Time:    0.4 || F1:  68.57 | Prec:  55.81 | Rec:  88.89 || Ex/s: 123.17\n",
      "\n",
      "---------------------\n",
      "\n",
      "===>  TRAIN Epoch 5\n",
      "Finished Epoch 5 || Run Time:    4.1 | Load Time:    1.3 || F1:  81.52 | Prec:  70.75 | Rec:  96.15 || Ex/s:  65.69\n",
      "\n",
      "===>  EVAL Epoch 5\n",
      "Finished Epoch 5 || Run Time:    0.4 | Load Time:    0.3 || F1:  75.36 | Prec:  61.90 | Rec:  96.30 || Ex/s: 150.89\n",
      "\n",
      "* Best F1: 75.3623188405797\n",
      "Saving best model...\n",
      "Done.\n",
      "---------------------\n",
      "\n",
      "===>  TRAIN Epoch 6\n",
      "Finished Epoch 6 || Run Time:    4.2 | Load Time:    1.3 || F1:  87.15 | Prec:  77.23 | Rec: 100.00 || Ex/s:  63.99\n",
      "\n",
      "===>  EVAL Epoch 6\n",
      "Finished Epoch 6 || Run Time:    0.5 | Load Time:    0.4 || F1:  86.67 | Prec:  78.79 | Rec:  96.30 || Ex/s: 124.15\n",
      "\n",
      "* Best F1: 86.66666666666666\n",
      "Saving best model...\n",
      "Done.\n",
      "---------------------\n",
      "\n",
      "===>  TRAIN Epoch 7\n",
      "Finished Epoch 7 || Run Time:    4.4 | Load Time:    1.4 || F1:  93.98 | Prec:  88.64 | Rec: 100.00 || Ex/s:  60.90\n",
      "\n",
      "===>  EVAL Epoch 7\n",
      "Finished Epoch 7 || Run Time:    0.5 | Load Time:    0.4 || F1:  81.25 | Prec:  70.27 | Rec:  96.30 || Ex/s: 124.91\n",
      "\n",
      "---------------------\n",
      "\n",
      "===>  TRAIN Epoch 8\n",
      "Finished Epoch 8 || Run Time:    4.4 | Load Time:    1.3 || F1:  98.73 | Prec:  97.50 | Rec: 100.00 || Ex/s:  61.27\n",
      "\n",
      "===>  EVAL Epoch 8\n",
      "Finished Epoch 8 || Run Time:    0.5 | Load Time:    0.4 || F1:  82.54 | Prec:  72.22 | Rec:  96.30 || Ex/s: 125.18\n",
      "\n",
      "---------------------\n",
      "\n",
      "===>  TRAIN Epoch 9\n",
      "Finished Epoch 9 || Run Time:    4.3 | Load Time:    1.3 || F1:  98.73 | Prec:  97.50 | Rec: 100.00 || Ex/s:  62.27\n",
      "\n",
      "===>  EVAL Epoch 9\n",
      "Finished Epoch 9 || Run Time:    0.4 | Load Time:    0.3 || F1:  82.54 | Prec:  72.22 | Rec:  96.30 || Ex/s: 149.11\n",
      "\n",
      "---------------------\n",
      "\n",
      "===>  TRAIN Epoch 10\n",
      "Finished Epoch 10 || Run Time:    4.2 | Load Time:    1.3 || F1:  99.36 | Prec:  98.73 | Rec: 100.00 || Ex/s:  63.71\n",
      "\n",
      "===>  EVAL Epoch 10\n",
      "Finished Epoch 10 || Run Time:    0.5 | Load Time:    0.4 || F1:  83.87 | Prec:  74.29 | Rec:  96.30 || Ex/s: 125.06\n",
      "\n",
      "---------------------\n",
      "\n",
      "===>  TRAIN Epoch 11\n",
      "Finished Epoch 11 || Run Time:    3.6 | Load Time:    1.1 || F1:  99.36 | Prec:  98.73 | Rec: 100.00 || Ex/s:  74.13\n",
      "\n",
      "===>  EVAL Epoch 11\n",
      "Finished Epoch 11 || Run Time:    0.5 | Load Time:    0.4 || F1:  83.87 | Prec:  74.29 | Rec:  96.30 || Ex/s: 126.16\n",
      "\n",
      "---------------------\n",
      "\n",
      "===>  TRAIN Epoch 12\n",
      "Finished Epoch 12 || Run Time:    4.3 | Load Time:    1.3 || F1:  99.36 | Prec:  98.73 | Rec: 100.00 || Ex/s:  61.99\n",
      "\n",
      "===>  EVAL Epoch 12\n",
      "Finished Epoch 12 || Run Time:    0.5 | Load Time:    0.4 || F1:  86.67 | Prec:  78.79 | Rec:  96.30 || Ex/s: 121.87\n",
      "\n",
      "---------------------\n",
      "\n",
      "===>  TRAIN Epoch 13\n",
      "Finished Epoch 13 || Run Time:    3.7 | Load Time:    1.2 || F1: 100.00 | Prec: 100.00 | Rec: 100.00 || Ex/s:  70.69\n",
      "\n",
      "===>  EVAL Epoch 13\n",
      "Finished Epoch 13 || Run Time:    0.4 | Load Time:    0.3 || F1:  88.14 | Prec:  81.25 | Rec:  96.30 || Ex/s: 157.62\n",
      "\n",
      "* Best F1: 88.13559322033898\n",
      "Saving best model...\n",
      "Done.\n",
      "---------------------\n",
      "\n",
      "===>  TRAIN Epoch 14\n",
      "Finished Epoch 14 || Run Time:    4.1 | Load Time:    1.3 || F1: 100.00 | Prec: 100.00 | Rec: 100.00 || Ex/s:  65.23\n",
      "\n",
      "===>  EVAL Epoch 14\n",
      "Finished Epoch 14 || Run Time:    0.5 | Load Time:    0.4 || F1:  88.14 | Prec:  81.25 | Rec:  96.30 || Ex/s: 125.78\n",
      "\n",
      "---------------------\n",
      "\n",
      "===>  TRAIN Epoch 15\n",
      "Finished Epoch 15 || Run Time:    3.7 | Load Time:    1.2 || F1: 100.00 | Prec: 100.00 | Rec: 100.00 || Ex/s:  71.53\n",
      "\n",
      "===>  EVAL Epoch 15\n",
      "Finished Epoch 15 || Run Time:    0.5 | Load Time:    0.4 || F1:  88.14 | Prec:  81.25 | Rec:  96.30 || Ex/s: 124.52\n",
      "\n",
      "---------------------\n",
      "\n",
      "===>  TRAIN Epoch 16\n",
      "Finished Epoch 16 || Run Time:    4.3 | Load Time:    1.3 || F1: 100.00 | Prec: 100.00 | Rec: 100.00 || Ex/s:  61.81\n",
      "\n",
      "===>  EVAL Epoch 16\n",
      "Finished Epoch 16 || Run Time:    0.5 | Load Time:    0.4 || F1:  88.14 | Prec:  81.25 | Rec:  96.30 || Ex/s: 123.69\n",
      "\n",
      "---------------------\n",
      "\n",
      "===>  TRAIN Epoch 17\n",
      "Finished Epoch 17 || Run Time:    4.3 | Load Time:    1.3 || F1: 100.00 | Prec: 100.00 | Rec: 100.00 || Ex/s:  62.52\n",
      "\n",
      "===>  EVAL Epoch 17\n",
      "Finished Epoch 17 || Run Time:    0.5 | Load Time:    0.4 || F1:  88.14 | Prec:  81.25 | Rec:  96.30 || Ex/s: 123.24\n",
      "\n",
      "---------------------\n",
      "\n",
      "===>  TRAIN Epoch 18\n",
      "Finished Epoch 18 || Run Time:    3.6 | Load Time:    1.2 || F1: 100.00 | Prec: 100.00 | Rec: 100.00 || Ex/s:  73.61\n",
      "\n",
      "===>  EVAL Epoch 18\n",
      "Finished Epoch 18 || Run Time:    0.4 | Load Time:    0.3 || F1:  88.14 | Prec:  81.25 | Rec:  96.30 || Ex/s: 150.86\n",
      "\n",
      "---------------------\n",
      "\n",
      "===>  TRAIN Epoch 19\n",
      "Finished Epoch 19 || Run Time:    3.8 | Load Time:    1.3 || F1: 100.00 | Prec: 100.00 | Rec: 100.00 || Ex/s:  68.01\n",
      "\n",
      "===>  EVAL Epoch 19\n",
      "Finished Epoch 19 || Run Time:    0.5 | Load Time:    0.4 || F1:  88.14 | Prec:  81.25 | Rec:  96.30 || Ex/s: 125.99\n",
      "\n",
      "---------------------\n",
      "\n",
      "===>  TRAIN Epoch 20\n",
      "Finished Epoch 20 || Run Time:    4.2 | Load Time:    1.4 || F1: 100.00 | Prec: 100.00 | Rec: 100.00 || Ex/s:  63.43\n",
      "\n",
      "===>  EVAL Epoch 20\n",
      "Finished Epoch 20 || Run Time:    0.5 | Load Time:    0.4 || F1:  88.14 | Prec:  81.25 | Rec:  96.30 || Ex/s: 122.54\n",
      "\n",
      "---------------------\n",
      "\n",
      "Loading best model...\n",
      "Training done.\n"
     ]
    },
    {
     "data": {
      "text/plain": [
       "88.13559322033898"
      ]
     },
     "execution_count": 12,
     "metadata": {},
     "output_type": "execute_result"
    }
   ],
   "source": [
    "model = dm.MatchingModel(attr_summarizer='hybrid')\n",
    "model.run_train(train,validation,epochs=20,best_save_path='exp26/itunes_amazon_extendend.pth',pos_neg_ratio=5)"
   ]
  },
  {
   "cell_type": "code",
   "execution_count": 13,
   "metadata": {},
   "outputs": [
    {
     "name": "stdout",
     "output_type": "stream",
     "text": [
      "===>  EVAL Epoch 13\n",
      "Finished Epoch 13 || Run Time:    0.5 | Load Time:    0.4 || F1:  84.75 | Prec:  78.12 | Rec:  92.59 || Ex/s: 127.73\n",
      "\n"
     ]
    },
    {
     "data": {
      "text/plain": [
       "84.7457627118644"
      ]
     },
     "execution_count": 13,
     "metadata": {},
     "output_type": "execute_result"
    }
   ],
   "source": [
    "model.run_eval(test)"
   ]
  },
  {
   "cell_type": "markdown",
   "metadata": {},
   "source": [
    "## Evaluate rankings"
   ]
  },
  {
   "cell_type": "code",
   "execution_count": 14,
   "metadata": {},
   "outputs": [],
   "source": [
    "from utils.intermediate_layer_extraction import return_layer_input\n",
    "from utils.ri_calculator import computeRi"
   ]
  },
  {
   "cell_type": "code",
   "execution_count": 17,
   "metadata": {},
   "outputs": [
    {
     "name": "stderr",
     "output_type": "stream",
     "text": [
      "WARNING:deepmatcher.data.dataset:Rebuilding data cache because: ['One or more data files have been modified.']\n",
      "WARNING:deepmatcher.data.dataset:Rebuilding data cache because: ['One or more data files have been modified.']\n"
     ]
    }
   ],
   "source": [
    "negatives = return_layer_input(model,model.classifier,'exp26','negatives')\n",
    "positives = return_layer_input(model,model.classifier,'exp26','positives')"
   ]
  },
  {
   "cell_type": "code",
   "execution_count": 18,
   "metadata": {},
   "outputs": [],
   "source": [
    "attributes = ['Song_Name','Artist_Name','Album_Name','Genre','Price','CopyRight','Time','Released']"
   ]
  },
  {
   "cell_type": "code",
   "execution_count": 19,
   "metadata": {},
   "outputs": [
    {
     "name": "stderr",
     "output_type": "stream",
     "text": [
      "100%|██████████| 437/437 [00:33<00:00, 13.20it/s]\n"
     ]
    }
   ],
   "source": [
    "neg_ri,neg_rinorms_df = computeRi(model.classifier,attributes,negatives,1)"
   ]
  },
  {
   "cell_type": "code",
   "execution_count": 21,
   "metadata": {},
   "outputs": [
    {
     "data": {
      "text/plain": [
       "<matplotlib.axes._subplots.AxesSubplot at 0x7fbfa41e0438>"
      ]
     },
     "execution_count": 21,
     "metadata": {},
     "output_type": "execute_result"
    },
    {
     "data": {
      "image/png": "[encoded data removed]",
      "text/plain": [
       "<Figure size 432x288 with 1 Axes>"
      ]
     },
     "metadata": {
      "needs_background": "light"
     },
     "output_type": "display_data"
    }
   ],
   "source": [
    "rankings = neg_rinorms_df.sum()\n",
    "maxrank = max(rankings)\n",
    "(rankings/maxrank).plot.bar()"
   ]
  },
  {
   "cell_type": "code",
   "execution_count": 22,
   "metadata": {},
   "outputs": [
    {
     "name": "stderr",
     "output_type": "stream",
     "text": [
      "100%|██████████| 132/132 [00:23<00:00,  5.55it/s]\n"
     ]
    }
   ],
   "source": [
    "pos_ri,pos_rinorms_df = computeRi(model.classifier,attributes,positives,0)"
   ]
  },
  {
   "cell_type": "code",
   "execution_count": 24,
   "metadata": {},
   "outputs": [
    {
     "data": {
      "text/plain": [
       "<matplotlib.axes._subplots.AxesSubplot at 0x7fbfa46f8a20>"
      ]
     },
     "execution_count": 24,
     "metadata": {},
     "output_type": "execute_result"
    },
    {
     "data": {
      "image/png": "[encoded data removed]",
      "text/plain": [
       "<Figure size 432x288 with 1 Axes>"
      ]
     },
     "metadata": {
      "needs_background": "light"
     },
     "output_type": "display_data"
    }
   ],
   "source": [
    "pos_rankings = pos_rinorms_df.sum()\n",
    "maxrank_pos = max(pos_rankings)\n",
    "(pos_rankings/maxrank_pos).plot.bar()"
   ]
  },
  {
   "cell_type": "code",
   "execution_count": null,
   "metadata": {},
   "outputs": [],
   "source": []
  }
 ],
 "metadata": {
  "kernelspec": {
   "display_name": "Python 3",
   "language": "python",
   "name": "python3"
  },
  "language_info": {
   "codemirror_mode": {
    "name": "ipython",
    "version": 3
   },
   "file_extension": ".py",
   "mimetype": "text/x-python",
   "name": "python",
   "nbconvert_exporter": "python",
   "pygments_lexer": "ipython3",
   "version": "3.6.9"
  }
 },
 "nbformat": 4,
 "nbformat_minor": 2
}

{
 "cells": [
  {
   "cell_type": "code",
   "execution_count": 1,
   "metadata": {},
   "outputs": [],
   "source": [
    "%load_ext autoreload\n",
    "%autoreload 2"
   ]
  },
  {
   "cell_type": "code",
   "execution_count": 2,
   "metadata": {},
   "outputs": [],
   "source": [
    "import sys\n",
    "sys.path.append('../..')"
   ]
  },
  {
   "cell_type": "code",
   "execution_count": 3,
   "metadata": {},
   "outputs": [],
   "source": [
    "import pandas as pd\n",
    "import deepmatcher as dm\n",
    "from utils.explainer import generateExplanations\n",
    "from utils.explainer import testRobustness\n",
    "from utils.intermediate_layer_extraction import return_layer_input\n",
    "from utils.ri_calculator import computeRi\n",
    "from utils.distance_measures import calculate_nearest_neighbors_onAttributes"
   ]
  },
  {
   "cell_type": "code",
   "execution_count": 4,
   "metadata": {},
   "outputs": [],
   "source": [
    "hybrid_model = dm.MatchingModel(attr_summarizer='hybrid')\n",
    "hybrid_model.load_state('../../models/itunes_amazon_hybrid.pth')"
   ]
  },
  {
   "cell_type": "code",
   "execution_count": 5,
   "metadata": {},
   "outputs": [],
   "source": [
    "positives_nn = pd.read_csv('experiments/results/positives_nn_hybrid_withoutfilter.csv')\n",
    "negatives = pd.read_csv('../../Structured/itunes-amazon/negatives.csv')"
   ]
  },
  {
   "cell_type": "code",
   "execution_count": 6,
   "metadata": {},
   "outputs": [],
   "source": [
    "selected_attributes = ['Price','Song_Name','Time']"
   ]
  },
  {
   "cell_type": "code",
   "execution_count": 7,
   "metadata": {},
   "outputs": [],
   "source": [
    "%%capture\n",
    "critical_forPositives = {}\n",
    "for att in selected_attributes:\n",
    "    critical_values = generateExplanations(positives_nn,negatives,att,hybrid_model,10,0.03,\n",
    "                                         '../../Structured/itunes-amazon/positives.csv',1)\n",
    "    critical_forPositives[att] = critical_values"
   ]
  },
  {
   "cell_type": "code",
   "execution_count": 8,
   "metadata": {},
   "outputs": [],
   "source": [
    "negatives_nn = pd.read_csv('experiments/results/negatives_nn_hybrid_withoutfilter.csv')\n",
    "positives = pd.read_csv('../../Structured/itunes-amazon/positives.csv')"
   ]
  },
  {
   "cell_type": "code",
   "execution_count": 18,
   "metadata": {},
   "outputs": [],
   "source": [
    "%%capture\n",
    "critical_forNegatives = {}\n",
    "for att in selected_attributes:\n",
    "    critical_values = generateExplanations(negatives_nn,positives,att,hybrid_model,20,0.03,\n",
    "                                         '../../Structured/itunes-amazon/negatives.csv',0)\n",
    "    critical_forNegatives[att] = critical_values"
   ]
  },
  {
   "cell_type": "code",
   "execution_count": 20,
   "metadata": {},
   "outputs": [
    {
     "name": "stdout",
     "output_type": "stream",
     "text": [
      "('$ 0.99', '$ 0.99')\n",
      "('$ 1.29', '$ 1.29')\n"
     ]
    }
   ],
   "source": [
    "for df,lval,rval in critical_forNegatives['Price']:\n",
    "    print((lval,rval))"
   ]
  },
  {
   "cell_type": "markdown",
   "metadata": {},
   "source": [
    "## Build new samples based on critical values"
   ]
  },
  {
   "cell_type": "markdown",
   "metadata": {},
   "source": [
    "### Try first with 5% of each critical"
   ]
  },
  {
   "cell_type": "code",
   "execution_count": 10,
   "metadata": {},
   "outputs": [],
   "source": [
    "from utils.newSamplesBuilder import buildNewSamplesForAttribute"
   ]
  },
  {
   "cell_type": "code",
   "execution_count": 15,
   "metadata": {},
   "outputs": [],
   "source": [
    "train_df = pd.read_csv('../../Structured/itunes-amazon/merged_train.csv')\n",
    "positives_len = train_df[train_df.label==1].shape[0]\n",
    "negatives_len = train_df[train_df.label==0].shape[0]\n",
    "len_validation = pd.read_csv('../../Structured/itunes-amazon/merged_valid.csv').shape[0]\n",
    "len_test = pd.read_csv('../../Structured/itunes-amazon/merged_test.csv').shape[0]"
   ]
  },
  {
   "cell_type": "code",
   "execution_count": 17,
   "metadata": {},
   "outputs": [],
   "source": [
    "newSamplesOnTime = buildNewSamplesForAttribute(critical_forPositives,critical_forNegatives,'Time',\n",
    "                                              int(positives_len/20),int(negatives_len/20),\n",
    "                                              train_df.shape[0]+len_validation+len_test)"
   ]
  },
  {
   "cell_type": "code",
   "execution_count": 19,
   "metadata": {},
   "outputs": [],
   "source": [
    "newTrain = pd.concat([train_df,newSamplesOnTime])"
   ]
  },
  {
   "cell_type": "code",
   "execution_count": 20,
   "metadata": {},
   "outputs": [
    {
     "data": {
      "text/plain": [
       "((27, 18), (48, 18))"
      ]
     },
     "execution_count": 20,
     "metadata": {},
     "output_type": "execute_result"
    }
   ],
   "source": [
    "newSamplesOnTime[newSamplesOnTime.label==1].shape,newSamplesOnTime[newSamplesOnTime.label==0].shape"
   ]
  },
  {
   "cell_type": "code",
   "execution_count": 21,
   "metadata": {},
   "outputs": [],
   "source": [
    "newTrain.to_csv('temp/extended_train.csv',index=False)"
   ]
  },
  {
   "cell_type": "markdown",
   "metadata": {},
   "source": [
    "## Train new model"
   ]
  },
  {
   "cell_type": "code",
   "execution_count": 22,
   "metadata": {},
   "outputs": [],
   "source": [
    "!cp ../../Structured/itunes-amazon/merged_valid.csv temp\n",
    "!cp ../../Structured/itunes-amazon/merged_test.csv temp"
   ]
  },
  {
   "cell_type": "code",
   "execution_count": 23,
   "metadata": {},
   "outputs": [
    {
     "name": "stderr",
     "output_type": "stream",
     "text": [
      "WARNING:deepmatcher.data.dataset:Rebuilding data cache because: ['One or more data files have been modified.']\n"
     ]
    }
   ],
   "source": [
    "train,validation,test = dm.data.process('temp',train='extended_train.csv',validation='merged_valid.csv',\n",
    "                                       test='merged_test.csv',left_prefix='ltable_',right_prefix='rtable_')"
   ]
  },
  {
   "cell_type": "code",
   "execution_count": 24,
   "metadata": {},
   "outputs": [
    {
     "data": {
      "text/plain": [
       "0    291\n",
       "1    105\n",
       "Name: label, dtype: int64"
      ]
     },
     "execution_count": 24,
     "metadata": {},
     "output_type": "execute_result"
    }
   ],
   "source": [
    "train.get_raw_table()['label'].value_counts()"
   ]
  },
  {
   "cell_type": "code",
   "execution_count": 23,
   "metadata": {},
   "outputs": [
    {
     "name": "stdout",
     "output_type": "stream",
     "text": [
      "* Number of trainable parameters: 17757810\n",
      "===>  TRAIN Epoch 1\n",
      "Finished Epoch 1 || Run Time:    9.9 | Load Time:    1.6 || F1:  45.51 | Prec:  33.19 | Rec:  72.38 || Ex/s:  34.38\n",
      "\n",
      "===>  EVAL Epoch 1\n",
      "Finished Epoch 1 || Run Time:    1.0 | Load Time:    0.4 || F1:  60.32 | Prec:  52.78 | Rec:  70.37 || Ex/s:  78.74\n",
      "\n",
      "* Best F1: 60.317460317460316\n",
      "Saving best model...\n",
      "Done.\n",
      "---------------------\n",
      "\n",
      "===>  TRAIN Epoch 2\n",
      "Finished Epoch 2 || Run Time:   10.3 | Load Time:    1.7 || F1:  65.55 | Prec:  50.52 | Rec:  93.33 || Ex/s:  33.14\n",
      "\n",
      "===>  EVAL Epoch 2\n",
      "Finished Epoch 2 || Run Time:    1.0 | Load Time:    0.4 || F1:  68.66 | Prec:  57.50 | Rec:  85.19 || Ex/s:  79.24\n",
      "\n",
      "* Best F1: 68.65671641791046\n",
      "Saving best model...\n",
      "Done.\n",
      "---------------------\n",
      "\n",
      "===>  TRAIN Epoch 3\n",
      "Finished Epoch 3 || Run Time:   10.5 | Load Time:    1.7 || F1:  75.66 | Prec:  62.35 | Rec:  96.19 || Ex/s:  32.59\n",
      "\n",
      "===>  EVAL Epoch 3\n",
      "Finished Epoch 3 || Run Time:    1.0 | Load Time:    0.4 || F1:  82.14 | Prec:  79.31 | Rec:  85.19 || Ex/s:  78.60\n",
      "\n",
      "* Best F1: 82.14285714285715\n",
      "Saving best model...\n",
      "Done.\n",
      "---------------------\n",
      "\n",
      "===>  TRAIN Epoch 4\n",
      "Finished Epoch 4 || Run Time:   10.2 | Load Time:    1.7 || F1:  91.15 | Prec:  85.12 | Rec:  98.10 || Ex/s:  33.30\n",
      "\n",
      "===>  EVAL Epoch 4\n",
      "Finished Epoch 4 || Run Time:    1.0 | Load Time:    0.4 || F1:  84.75 | Prec:  78.12 | Rec:  92.59 || Ex/s:  78.43\n",
      "\n",
      "* Best F1: 84.7457627118644\n",
      "Saving best model...\n",
      "Done.\n",
      "---------------------\n",
      "\n",
      "===>  TRAIN Epoch 5\n",
      "Finished Epoch 5 || Run Time:    9.6 | Load Time:    1.6 || F1:  94.12 | Prec:  89.66 | Rec:  99.05 || Ex/s:  35.55\n",
      "\n",
      "===>  EVAL Epoch 5\n",
      "Finished Epoch 5 || Run Time:    0.8 | Load Time:    0.3 || F1:  78.12 | Prec:  67.57 | Rec:  92.59 || Ex/s:  97.22\n",
      "\n",
      "---------------------\n",
      "\n",
      "===>  TRAIN Epoch 6\n",
      "Finished Epoch 6 || Run Time:    9.1 | Load Time:    1.4 || F1:  98.59 | Prec:  97.22 | Rec: 100.00 || Ex/s:  37.48\n",
      "\n",
      "===>  EVAL Epoch 6\n",
      "Finished Epoch 6 || Run Time:    0.8 | Load Time:    0.3 || F1:  80.00 | Prec:  68.42 | Rec:  96.30 || Ex/s:  95.82\n",
      "\n",
      "---------------------\n",
      "\n",
      "===>  TRAIN Epoch 7\n",
      "Finished Epoch 7 || Run Time:    9.5 | Load Time:    1.5 || F1:  98.59 | Prec:  97.22 | Rec: 100.00 || Ex/s:  36.10\n",
      "\n",
      "===>  EVAL Epoch 7\n",
      "Finished Epoch 7 || Run Time:    0.8 | Load Time:    0.3 || F1:  84.75 | Prec:  78.12 | Rec:  92.59 || Ex/s:  96.55\n",
      "\n",
      "---------------------\n",
      "\n",
      "===>  TRAIN Epoch 8\n",
      "Finished Epoch 8 || Run Time:    9.3 | Load Time:    1.5 || F1:  98.13 | Prec:  96.33 | Rec: 100.00 || Ex/s:  36.68\n",
      "\n",
      "===>  EVAL Epoch 8\n",
      "Finished Epoch 8 || Run Time:    0.8 | Load Time:    0.3 || F1:  94.34 | Prec:  96.15 | Rec:  92.59 || Ex/s:  95.30\n",
      "\n",
      "* Best F1: 94.33962264150945\n",
      "Saving best model...\n",
      "Done.\n",
      "---------------------\n",
      "\n",
      "===>  TRAIN Epoch 9\n",
      "Finished Epoch 9 || Run Time:    9.3 | Load Time:    1.5 || F1:  99.53 | Prec:  99.06 | Rec: 100.00 || Ex/s:  36.45\n",
      "\n",
      "===>  EVAL Epoch 9\n",
      "Finished Epoch 9 || Run Time:    0.8 | Load Time:    0.3 || F1:  90.91 | Prec:  89.29 | Rec:  92.59 || Ex/s:  96.99\n",
      "\n",
      "---------------------\n",
      "\n",
      "===>  TRAIN Epoch 10\n",
      "Finished Epoch 10 || Run Time:    9.2 | Load Time:    1.5 || F1: 100.00 | Prec: 100.00 | Rec: 100.00 || Ex/s:  37.00\n",
      "\n",
      "===>  EVAL Epoch 10\n",
      "Finished Epoch 10 || Run Time:    0.8 | Load Time:    0.3 || F1:  86.21 | Prec:  80.65 | Rec:  92.59 || Ex/s:  97.48\n",
      "\n",
      "---------------------\n",
      "\n",
      "===>  TRAIN Epoch 11\n",
      "Finished Epoch 11 || Run Time:    9.6 | Load Time:    1.5 || F1: 100.00 | Prec: 100.00 | Rec: 100.00 || Ex/s:  35.76\n",
      "\n",
      "===>  EVAL Epoch 11\n",
      "Finished Epoch 11 || Run Time:    0.8 | Load Time:    0.3 || F1:  86.21 | Prec:  80.65 | Rec:  92.59 || Ex/s:  95.48\n",
      "\n",
      "---------------------\n",
      "\n",
      "===>  TRAIN Epoch 12\n",
      "Finished Epoch 12 || Run Time:    9.2 | Load Time:    1.5 || F1: 100.00 | Prec: 100.00 | Rec: 100.00 || Ex/s:  37.04\n",
      "\n",
      "===>  EVAL Epoch 12\n",
      "Finished Epoch 12 || Run Time:    0.8 | Load Time:    0.3 || F1:  86.21 | Prec:  80.65 | Rec:  92.59 || Ex/s:  97.05\n",
      "\n",
      "---------------------\n",
      "\n",
      "===>  TRAIN Epoch 13\n",
      "Finished Epoch 13 || Run Time:    9.1 | Load Time:    1.4 || F1: 100.00 | Prec: 100.00 | Rec: 100.00 || Ex/s:  37.66\n",
      "\n",
      "===>  EVAL Epoch 13\n",
      "Finished Epoch 13 || Run Time:    0.8 | Load Time:    0.3 || F1:  86.21 | Prec:  80.65 | Rec:  92.59 || Ex/s:  96.19\n",
      "\n",
      "---------------------\n",
      "\n",
      "===>  TRAIN Epoch 14\n",
      "Finished Epoch 14 || Run Time:    9.3 | Load Time:    1.5 || F1: 100.00 | Prec: 100.00 | Rec: 100.00 || Ex/s:  36.66\n",
      "\n",
      "===>  EVAL Epoch 14\n",
      "Finished Epoch 14 || Run Time:    0.8 | Load Time:    0.3 || F1:  86.21 | Prec:  80.65 | Rec:  92.59 || Ex/s:  95.43\n",
      "\n",
      "---------------------\n",
      "\n",
      "===>  TRAIN Epoch 15\n",
      "Finished Epoch 15 || Run Time:    9.5 | Load Time:    1.5 || F1: 100.00 | Prec: 100.00 | Rec: 100.00 || Ex/s:  35.95\n",
      "\n",
      "===>  EVAL Epoch 15\n",
      "Finished Epoch 15 || Run Time:    0.8 | Load Time:    0.3 || F1:  86.21 | Prec:  80.65 | Rec:  92.59 || Ex/s:  94.78\n",
      "\n",
      "---------------------\n",
      "\n",
      "===>  TRAIN Epoch 16\n",
      "Finished Epoch 16 || Run Time:    9.3 | Load Time:    1.5 || F1: 100.00 | Prec: 100.00 | Rec: 100.00 || Ex/s:  36.74\n",
      "\n",
      "===>  EVAL Epoch 16\n",
      "Finished Epoch 16 || Run Time:    0.8 | Load Time:    0.3 || F1:  86.21 | Prec:  80.65 | Rec:  92.59 || Ex/s:  97.10\n",
      "\n",
      "---------------------\n",
      "\n",
      "===>  TRAIN Epoch 17\n",
      "Finished Epoch 17 || Run Time:    9.3 | Load Time:    1.5 || F1: 100.00 | Prec: 100.00 | Rec: 100.00 || Ex/s:  36.74\n",
      "\n",
      "===>  EVAL Epoch 17\n",
      "Finished Epoch 17 || Run Time:    0.8 | Load Time:    0.3 || F1:  86.21 | Prec:  80.65 | Rec:  92.59 || Ex/s:  95.63\n",
      "\n",
      "---------------------\n",
      "\n",
      "===>  TRAIN Epoch 18\n",
      "Finished Epoch 18 || Run Time:    9.6 | Load Time:    1.5 || F1: 100.00 | Prec: 100.00 | Rec: 100.00 || Ex/s:  35.66\n",
      "\n",
      "===>  EVAL Epoch 18\n",
      "Finished Epoch 18 || Run Time:    0.8 | Load Time:    0.3 || F1:  84.75 | Prec:  78.12 | Rec:  92.59 || Ex/s:  96.13\n",
      "\n",
      "---------------------\n",
      "\n",
      "===>  TRAIN Epoch 19\n",
      "Finished Epoch 19 || Run Time:    9.2 | Load Time:    1.5 || F1: 100.00 | Prec: 100.00 | Rec: 100.00 || Ex/s:  37.06\n",
      "\n",
      "===>  EVAL Epoch 19\n",
      "Finished Epoch 19 || Run Time:    0.8 | Load Time:    0.3 || F1:  84.75 | Prec:  78.12 | Rec:  92.59 || Ex/s:  93.43\n",
      "\n",
      "---------------------\n",
      "\n",
      "===>  TRAIN Epoch 20\n",
      "Finished Epoch 20 || Run Time:    9.3 | Load Time:    1.5 || F1: 100.00 | Prec: 100.00 | Rec: 100.00 || Ex/s:  36.57\n",
      "\n",
      "===>  EVAL Epoch 20\n",
      "Finished Epoch 20 || Run Time:    0.8 | Load Time:    0.3 || F1:  84.75 | Prec:  78.12 | Rec:  92.59 || Ex/s:  96.20\n",
      "\n",
      "---------------------\n",
      "\n",
      "Loading best model...\n",
      "Training done.\n"
     ]
    },
    {
     "data": {
      "text/plain": [
       "94.33962264150945"
      ]
     },
     "execution_count": 23,
     "metadata": {},
     "output_type": "execute_result"
    }
   ],
   "source": [
    "model = dm.MatchingModel(attr_summarizer='hybrid')\n",
    "model.run_train(train,validation,best_save_path='temp/model.pth',batch_size=16,epochs=20,pos_neg_ratio=3)"
   ]
  },
  {
   "cell_type": "code",
   "execution_count": 24,
   "metadata": {},
   "outputs": [
    {
     "name": "stdout",
     "output_type": "stream",
     "text": [
      "===>  EVAL Epoch 8\n",
      "Finished Epoch 8 || Run Time:    0.4 | Load Time:    0.3 || F1:  82.35 | Prec:  87.50 | Rec:  77.78 || Ex/s: 140.47\n",
      "\n"
     ]
    },
    {
     "data": {
      "text/plain": [
       "82.35294117647058"
      ]
     },
     "execution_count": 24,
     "metadata": {},
     "output_type": "execute_result"
    }
   ],
   "source": [
    "model.run_eval(test)"
   ]
  },
  {
   "cell_type": "markdown",
   "metadata": {},
   "source": [
    "### Recompute rankings"
   ]
  },
  {
   "cell_type": "code",
   "execution_count": 60,
   "metadata": {},
   "outputs": [],
   "source": [
    "attributes = ['Song_Name','Artist_Name','Album_Name','Genre','Price','CopyRight','Time','Released']"
   ]
  },
  {
   "cell_type": "code",
   "execution_count": 27,
   "metadata": {},
   "outputs": [],
   "source": [
    "hybrid_model = dm.MatchingModel(attr_summarizer='hybrid')\n",
    "hybrid_model.load_state('temp/model.pth')"
   ]
  },
  {
   "cell_type": "code",
   "execution_count": 28,
   "metadata": {},
   "outputs": [],
   "source": [
    "neg_classifier_hybrid,neg_ids = return_layer_input('../../Structured/itunes-amazon'\n",
    "                                                                         ,'negatives',128,hybrid_model,\n",
    "                                                                        hybrid_model.classifier,device=-1)"
   ]
  },
  {
   "cell_type": "code",
   "execution_count": 29,
   "metadata": {},
   "outputs": [],
   "source": [
    "pos_classifier_hybrid,pos_ids = return_layer_input('../../Structured/itunes-amazon/',\n",
    "                                                                       'positives',128,hybrid_model,\n",
    "                                                                       hybrid_model.classifier,device=-1)"
   ]
  },
  {
   "cell_type": "code",
   "execution_count": 30,
   "metadata": {},
   "outputs": [],
   "source": [
    "hybrid_model = hybrid_model.cuda()"
   ]
  },
  {
   "cell_type": "code",
   "execution_count": 31,
   "metadata": {},
   "outputs": [],
   "source": [
    "classifier_len_hybrid = len(neg_classifier_hybrid[0][0])\n",
    "attribute_len_hybrid = int(classifier_len_hybrid/len(attributes))"
   ]
  },
  {
   "cell_type": "code",
   "execution_count": 32,
   "metadata": {},
   "outputs": [
    {
     "name": "stderr",
     "output_type": "stream",
     "text": [
      "100%|██████████| 128/128 [00:35<00:00,  3.65it/s]\n",
      "100%|██████████| 23/23 [00:04<00:00,  5.05it/s]\n",
      "100%|██████████| 128/128 [00:27<00:00,  4.58it/s]\n",
      "100%|██████████| 128/128 [00:29<00:00,  4.33it/s]\n"
     ]
    }
   ],
   "source": [
    "negatives_ri_hybrid,neg_ri_norms_hybrid = computeRi(hybrid_model.classifier,\n",
    "                                                    attributes,neg_classifier_hybrid,attribute_len_hybrid,1)"
   ]
  },
  {
   "cell_type": "code",
   "execution_count": 36,
   "metadata": {},
   "outputs": [
    {
     "data": {
      "text/plain": [
       "<matplotlib.axes._subplots.AxesSubplot at 0x7f590c49e898>"
      ]
     },
     "execution_count": 36,
     "metadata": {},
     "output_type": "execute_result"
    },
    {
     "data": {
      "image/png": "[encoded data removed]",
      "text/plain": [
       "<Figure size 432x288 with 1 Axes>"
      ]
     },
     "metadata": {
      "needs_background": "light"
     },
     "output_type": "display_data"
    }
   ],
   "source": [
    "neg_variation_df = pd.DataFrame(data= neg_ri_norms_hybrid,columns=attributes)\n",
    "neg_variation_df.sum().plot.bar()"
   ]
  },
  {
   "cell_type": "code",
   "execution_count": 34,
   "metadata": {},
   "outputs": [
    {
     "name": "stderr",
     "output_type": "stream",
     "text": [
      "100%|██████████| 128/128 [00:14<00:00,  8.56it/s]\n",
      "100%|██████████| 4/4 [00:00<00:00,  9.36it/s]\n"
     ]
    }
   ],
   "source": [
    "pos_ri_hybrid,pos_ri_norms_hybrid = computeRi(hybrid_model.classifier,\n",
    "                                                    attributes,pos_classifier_hybrid,attribute_len_hybrid,0)"
   ]
  },
  {
   "cell_type": "code",
   "execution_count": 35,
   "metadata": {},
   "outputs": [
    {
     "data": {
      "text/plain": [
       "<matplotlib.axes._subplots.AxesSubplot at 0x7f590c4eaac8>"
      ]
     },
     "execution_count": 35,
     "metadata": {},
     "output_type": "execute_result"
    },
    {
     "data": {
      "image/png": "[encoded data removed]",
      "text/plain": [
       "<Figure size 432x288 with 1 Axes>"
      ]
     },
     "metadata": {
      "needs_background": "light"
     },
     "output_type": "display_data"
    }
   ],
   "source": [
    "pos_variation_df = pd.DataFrame(data= pos_ri_norms_hybrid,columns=attributes)\n",
    "pos_variation_df.sum().plot.bar()"
   ]
  },
  {
   "cell_type": "markdown",
   "metadata": {},
   "source": [
    "## Test robustness on new trained model"
   ]
  },
  {
   "cell_type": "code",
   "execution_count": 41,
   "metadata": {},
   "outputs": [],
   "source": [
    "model5 = dm.MatchingModel(attr_summarizer='hybrid')\n",
    "model5.load_state('temp/hybrid_model_5perc.pth')"
   ]
  },
  {
   "cell_type": "code",
   "execution_count": 42,
   "metadata": {},
   "outputs": [
    {
     "data": {
      "text/plain": [
       "[('2:51', '4:59'),\n",
       " ('5:06', '3:55'),\n",
       " ('3:54', '3:57'),\n",
       " ('2:51', '3:45'),\n",
       " ('5:20', '4:18'),\n",
       " ('5:01', '4:18'),\n",
       " ('4:27', '4:12'),\n",
       " ('4:15', '2:09'),\n",
       " ('3:11', '3:52')]"
      ]
     },
     "execution_count": 42,
     "metadata": {},
     "output_type": "execute_result"
    }
   ],
   "source": [
    "criticalTimes_forpos = list(map(lambda c:(c[1],c[2]),critical_forPositives['Time']))\n",
    "criticalTimes_forpos"
   ]
  },
  {
   "cell_type": "code",
   "execution_count": 43,
   "metadata": {},
   "outputs": [],
   "source": [
    "%%capture\n",
    "old_new_negatives = []\n",
    "for pair in criticalTimes_forpos:\n",
    "    old_new_negatives.append(testRobustness(model5,'../../Structured/itunes-amazon/negatives.csv','Time',0,pair))"
   ]
  },
  {
   "cell_type": "code",
   "execution_count": 44,
   "metadata": {},
   "outputs": [
    {
     "data": {
      "text/plain": [
       "[(405, 399),\n",
       " (405, 384),\n",
       " (405, 390),\n",
       " (405, 387),\n",
       " (405, 377),\n",
       " (405, 383),\n",
       " (405, 378),\n",
       " (405, 381),\n",
       " (405, 402)]"
      ]
     },
     "execution_count": 44,
     "metadata": {},
     "output_type": "execute_result"
    }
   ],
   "source": [
    "old_new_negatives"
   ]
  },
  {
   "cell_type": "code",
   "execution_count": 45,
   "metadata": {},
   "outputs": [],
   "source": [
    "%%capture\n",
    "criticalTimes_forneg = list(map(lambda c:(c[1],c[2]),critical_forNegatives['Time']))\n",
    "old_new_positives = []\n",
    "for pair in criticalTimes_forneg:\n",
    "    old_new_positives.append(testRobustness(model5,'../../Structured/itunes-amazon/positives.csv','Time',1,pair))"
   ]
  },
  {
   "cell_type": "code",
   "execution_count": 46,
   "metadata": {},
   "outputs": [
    {
     "data": {
      "text/plain": [
       "[(125, 56), (125, 91), (125, 117), (125, 113)]"
      ]
     },
     "execution_count": 46,
     "metadata": {},
     "output_type": "execute_result"
    }
   ],
   "source": [
    "old_new_positives"
   ]
  },
  {
   "cell_type": "markdown",
   "metadata": {},
   "source": [
    "### Recompute nearest neighbors"
   ]
  },
  {
   "cell_type": "code",
   "execution_count": null,
   "metadata": {},
   "outputs": [],
   "source": [
    "positives_nn_hybrid = calculate_nearest_neighbors_onAttributes(pos_classifier_hybrid,pos_ids,pos_ri_hybrid,\n",
    "                                                       neg_classifier_hybrid,neg_ids,attributes,\n",
    "                                                               attribute_len_hybrid)"
   ]
  },
  {
   "cell_type": "code",
   "execution_count": null,
   "metadata": {},
   "outputs": [],
   "source": [
    "negatives_nn_hybrid = calculate_nearest_neighbors_onAttributes(neg_classifier_hybrid,neg_ids,negatives_ri_hybrid,\n",
    "                                                        pos_classifier_hybrid,pos_ids,\n",
    "                                                        attributes,attribute_len_hybrid)"
   ]
  },
  {
   "cell_type": "code",
   "execution_count": null,
   "metadata": {},
   "outputs": [],
   "source": [
    "positives_nn_hybrid.to_csv('temp/positives_nn_extended.csv',index=False)\n",
    "negatives_nn_hybrid.to_csv('temp/negatives_nn_extended.csv',index=False)"
   ]
  },
  {
   "cell_type": "markdown",
   "metadata": {},
   "source": [
    "## Add 10% more"
   ]
  },
  {
   "cell_type": "code",
   "execution_count": 25,
   "metadata": {},
   "outputs": [],
   "source": [
    "newSamplesOnTime = buildNewSamplesForAttribute(critical_forPositives,critical_forNegatives,'Time',\n",
    "                                              int(positives_len/10),int(negatives_len/10),\n",
    "                                              train_df.shape[0]+len_validation+len_test)"
   ]
  },
  {
   "cell_type": "code",
   "execution_count": 26,
   "metadata": {},
   "outputs": [],
   "source": [
    "extended_train_10perc = pd.concat([train_df,newSamplesOnTime])\n",
    "extended_train_10perc.to_csv('temp/extended_train10.csv',index=False)"
   ]
  },
  {
   "cell_type": "code",
   "execution_count": 28,
   "metadata": {},
   "outputs": [],
   "source": [
    "train,validation,test = dm.data.process('temp',train='extended_train10.csv',validation='merged_valid.csv',\n",
    "                                       test='merged_test.csv',left_prefix='ltable_',right_prefix='rtable_')"
   ]
  },
  {
   "cell_type": "code",
   "execution_count": 29,
   "metadata": {},
   "outputs": [
    {
     "data": {
      "text/plain": [
       "0    331\n",
       "1    141\n",
       "Name: label, dtype: int64"
      ]
     },
     "execution_count": 29,
     "metadata": {},
     "output_type": "execute_result"
    }
   ],
   "source": [
    "train.get_raw_table()['label'].value_counts()"
   ]
  },
  {
   "cell_type": "code",
   "execution_count": 30,
   "metadata": {},
   "outputs": [
    {
     "name": "stdout",
     "output_type": "stream",
     "text": [
      "* Number of trainable parameters: 17757810\n",
      "===>  TRAIN Epoch 1\n",
      "Finished Epoch 1 || Run Time:    8.8 | Load Time:    1.3 || F1:  54.16 | Prec:  38.72 | Rec:  90.07 || Ex/s:  46.46\n",
      "\n",
      "===>  EVAL Epoch 1\n",
      "Finished Epoch 1 || Run Time:    0.7 | Load Time:    0.3 || F1:  65.82 | Prec:  50.00 | Rec:  96.30 || Ex/s: 114.64\n",
      "\n",
      "* Best F1: 65.82278481012658\n",
      "Saving best model...\n",
      "Done.\n",
      "---------------------\n",
      "\n",
      "===>  TRAIN Epoch 2\n",
      "Finished Epoch 2 || Run Time:    7.1 | Load Time:    1.3 || F1:  75.64 | Prec:  63.46 | Rec:  93.62 || Ex/s:  55.99\n",
      "\n",
      "===>  EVAL Epoch 2\n",
      "Finished Epoch 2 || Run Time:    0.7 | Load Time:    0.3 || F1:  76.06 | Prec:  61.36 | Rec: 100.00 || Ex/s: 114.46\n",
      "\n",
      "* Best F1: 76.05633802816902\n",
      "Saving best model...\n",
      "Done.\n",
      "---------------------\n",
      "\n",
      "===>  TRAIN Epoch 3\n",
      "Finished Epoch 3 || Run Time:   11.1 | Load Time:    1.8 || F1:  92.31 | Prec:  87.34 | Rec:  97.87 || Ex/s:  36.42\n",
      "\n",
      "===>  EVAL Epoch 3\n",
      "Finished Epoch 3 || Run Time:    0.8 | Load Time:    0.4 || F1:  76.06 | Prec:  61.36 | Rec: 100.00 || Ex/s:  96.18\n",
      "\n",
      "---------------------\n",
      "\n",
      "===>  TRAIN Epoch 4\n",
      "Finished Epoch 4 || Run Time:   11.0 | Load Time:    1.8 || F1:  95.17 | Prec:  92.62 | Rec:  97.87 || Ex/s:  36.84\n",
      "\n",
      "===>  EVAL Epoch 4\n",
      "Finished Epoch 4 || Run Time:    0.8 | Load Time:    0.3 || F1:  86.67 | Prec:  78.79 | Rec:  96.30 || Ex/s:  96.05\n",
      "\n",
      "* Best F1: 86.66666666666666\n",
      "Saving best model...\n",
      "Done.\n",
      "---------------------\n",
      "\n",
      "===>  TRAIN Epoch 5\n",
      "Finished Epoch 5 || Run Time:   11.5 | Load Time:    1.8 || F1:  97.56 | Prec:  95.89 | Rec:  99.29 || Ex/s:  35.54\n",
      "\n",
      "===>  EVAL Epoch 5\n",
      "Finished Epoch 5 || Run Time:    0.8 | Load Time:    0.4 || F1:  88.52 | Prec:  79.41 | Rec: 100.00 || Ex/s:  94.31\n",
      "\n",
      "* Best F1: 88.52459016393443\n",
      "Saving best model...\n",
      "Done.\n",
      "---------------------\n",
      "\n",
      "===>  TRAIN Epoch 6\n",
      "Finished Epoch 6 || Run Time:   11.2 | Load Time:    1.9 || F1:  99.64 | Prec: 100.00 | Rec:  99.29 || Ex/s:  36.08\n",
      "\n",
      "===>  EVAL Epoch 6\n",
      "Finished Epoch 6 || Run Time:    0.8 | Load Time:    0.3 || F1:  88.52 | Prec:  79.41 | Rec: 100.00 || Ex/s:  96.18\n",
      "\n",
      "---------------------\n",
      "\n",
      "===>  TRAIN Epoch 7\n",
      "Finished Epoch 7 || Run Time:   11.2 | Load Time:    1.8 || F1: 100.00 | Prec: 100.00 | Rec: 100.00 || Ex/s:  36.55\n",
      "\n",
      "===>  EVAL Epoch 7\n",
      "Finished Epoch 7 || Run Time:    0.8 | Load Time:    0.3 || F1:  88.52 | Prec:  79.41 | Rec: 100.00 || Ex/s:  96.14\n",
      "\n",
      "---------------------\n",
      "\n",
      "===>  TRAIN Epoch 8\n",
      "Finished Epoch 8 || Run Time:   10.9 | Load Time:    1.8 || F1: 100.00 | Prec: 100.00 | Rec: 100.00 || Ex/s:  37.25\n",
      "\n",
      "===>  EVAL Epoch 8\n",
      "Finished Epoch 8 || Run Time:    0.8 | Load Time:    0.3 || F1:  88.52 | Prec:  79.41 | Rec: 100.00 || Ex/s:  95.95\n",
      "\n",
      "---------------------\n",
      "\n",
      "===>  TRAIN Epoch 9\n",
      "Finished Epoch 9 || Run Time:   11.2 | Load Time:    1.8 || F1: 100.00 | Prec: 100.00 | Rec: 100.00 || Ex/s:  36.44\n",
      "\n",
      "===>  EVAL Epoch 9\n",
      "Finished Epoch 9 || Run Time:    0.8 | Load Time:    0.3 || F1:  88.52 | Prec:  79.41 | Rec: 100.00 || Ex/s:  96.34\n",
      "\n",
      "---------------------\n",
      "\n",
      "===>  TRAIN Epoch 10\n",
      "Finished Epoch 10 || Run Time:   10.4 | Load Time:    1.7 || F1: 100.00 | Prec: 100.00 | Rec: 100.00 || Ex/s:  39.22\n",
      "\n",
      "===>  EVAL Epoch 10\n",
      "Finished Epoch 10 || Run Time:    0.8 | Load Time:    0.3 || F1:  88.52 | Prec:  79.41 | Rec: 100.00 || Ex/s:  97.47\n",
      "\n",
      "---------------------\n",
      "\n",
      "===>  TRAIN Epoch 11\n",
      "Finished Epoch 11 || Run Time:   11.1 | Load Time:    1.8 || F1: 100.00 | Prec: 100.00 | Rec: 100.00 || Ex/s:  36.60\n",
      "\n",
      "===>  EVAL Epoch 11\n",
      "Finished Epoch 11 || Run Time:    0.8 | Load Time:    0.3 || F1:  88.52 | Prec:  79.41 | Rec: 100.00 || Ex/s:  96.20\n",
      "\n",
      "---------------------\n",
      "\n",
      "===>  TRAIN Epoch 12\n",
      "Finished Epoch 12 || Run Time:   10.4 | Load Time:    1.7 || F1: 100.00 | Prec: 100.00 | Rec: 100.00 || Ex/s:  39.07\n",
      "\n",
      "===>  EVAL Epoch 12\n",
      "Finished Epoch 12 || Run Time:    0.8 | Load Time:    0.4 || F1:  88.52 | Prec:  79.41 | Rec: 100.00 || Ex/s:  94.94\n",
      "\n",
      "---------------------\n",
      "\n",
      "===>  TRAIN Epoch 13\n",
      "Finished Epoch 13 || Run Time:   11.2 | Load Time:    1.8 || F1: 100.00 | Prec: 100.00 | Rec: 100.00 || Ex/s:  36.38\n",
      "\n",
      "===>  EVAL Epoch 13\n",
      "Finished Epoch 13 || Run Time:    0.8 | Load Time:    0.4 || F1:  88.52 | Prec:  79.41 | Rec: 100.00 || Ex/s:  95.27\n",
      "\n",
      "---------------------\n",
      "\n",
      "===>  TRAIN Epoch 14\n",
      "Finished Epoch 14 || Run Time:   11.0 | Load Time:    1.8 || F1: 100.00 | Prec: 100.00 | Rec: 100.00 || Ex/s:  36.82\n",
      "\n",
      "===>  EVAL Epoch 14\n",
      "Finished Epoch 14 || Run Time:    0.8 | Load Time:    0.4 || F1:  88.52 | Prec:  79.41 | Rec: 100.00 || Ex/s:  94.99\n",
      "\n",
      "---------------------\n",
      "\n",
      "===>  TRAIN Epoch 15\n",
      "Finished Epoch 15 || Run Time:   11.4 | Load Time:    1.8 || F1: 100.00 | Prec: 100.00 | Rec: 100.00 || Ex/s:  35.80\n",
      "\n",
      "===>  EVAL Epoch 15\n",
      "Finished Epoch 15 || Run Time:    0.8 | Load Time:    0.4 || F1:  88.52 | Prec:  79.41 | Rec: 100.00 || Ex/s:  94.73\n",
      "\n",
      "---------------------\n",
      "\n",
      "===>  TRAIN Epoch 16\n",
      "Finished Epoch 16 || Run Time:   10.7 | Load Time:    1.8 || F1: 100.00 | Prec: 100.00 | Rec: 100.00 || Ex/s:  37.71\n",
      "\n",
      "===>  EVAL Epoch 16\n",
      "Finished Epoch 16 || Run Time:    0.8 | Load Time:    0.4 || F1:  88.52 | Prec:  79.41 | Rec: 100.00 || Ex/s:  93.74\n",
      "\n",
      "---------------------\n",
      "\n",
      "===>  TRAIN Epoch 17\n",
      "Finished Epoch 17 || Run Time:   11.2 | Load Time:    1.8 || F1: 100.00 | Prec: 100.00 | Rec: 100.00 || Ex/s:  36.25\n",
      "\n",
      "===>  EVAL Epoch 17\n",
      "Finished Epoch 17 || Run Time:    0.8 | Load Time:    0.4 || F1:  88.52 | Prec:  79.41 | Rec: 100.00 || Ex/s:  94.98\n",
      "\n",
      "---------------------\n",
      "\n",
      "===>  TRAIN Epoch 18\n",
      "Finished Epoch 18 || Run Time:   11.0 | Load Time:    1.8 || F1: 100.00 | Prec: 100.00 | Rec: 100.00 || Ex/s:  36.77\n",
      "\n",
      "===>  EVAL Epoch 18\n",
      "Finished Epoch 18 || Run Time:    0.8 | Load Time:    0.3 || F1:  88.52 | Prec:  79.41 | Rec: 100.00 || Ex/s:  95.31\n",
      "\n",
      "---------------------\n",
      "\n",
      "===>  TRAIN Epoch 19\n",
      "Finished Epoch 19 || Run Time:   11.4 | Load Time:    1.8 || F1: 100.00 | Prec: 100.00 | Rec: 100.00 || Ex/s:  35.76\n",
      "\n",
      "===>  EVAL Epoch 19\n",
      "Finished Epoch 19 || Run Time:    0.8 | Load Time:    0.4 || F1:  88.52 | Prec:  79.41 | Rec: 100.00 || Ex/s:  95.01\n",
      "\n",
      "---------------------\n",
      "\n",
      "===>  TRAIN Epoch 20\n",
      "Finished Epoch 20 || Run Time:   11.2 | Load Time:    1.8 || F1: 100.00 | Prec: 100.00 | Rec: 100.00 || Ex/s:  36.38\n",
      "\n",
      "===>  EVAL Epoch 20\n",
      "Finished Epoch 20 || Run Time:    0.8 | Load Time:    0.4 || F1:  88.52 | Prec:  79.41 | Rec: 100.00 || Ex/s:  94.97\n",
      "\n",
      "---------------------\n",
      "\n",
      "Loading best model...\n",
      "Training done.\n"
     ]
    },
    {
     "data": {
      "text/plain": [
       "88.52459016393443"
      ]
     },
     "execution_count": 30,
     "metadata": {},
     "output_type": "execute_result"
    }
   ],
   "source": [
    "model = dm.MatchingModel(attr_summarizer='hybrid')\n",
    "model.run_train(train,validation,best_save_path='temp/hybrid_model10.pth',batch_size=16,epochs=20,pos_neg_ratio=3)"
   ]
  },
  {
   "cell_type": "markdown",
   "metadata": {},
   "source": [
    "### Test robustness"
   ]
  },
  {
   "cell_type": "code",
   "execution_count": 32,
   "metadata": {},
   "outputs": [],
   "source": [
    "standard_model = dm.MatchingModel(attr_summarizer='hybrid')\n",
    "standard_model.load_state('../../models/itunes_amazon_hybrid.pth')"
   ]
  },
  {
   "cell_type": "code",
   "execution_count": 35,
   "metadata": {},
   "outputs": [
    {
     "name": "stdout",
     "output_type": "stream",
     "text": [
      "===>  PREDICT Epoch 3\n",
      "Finished Epoch 3 || Run Time:    1.3 | Load Time:    1.2 || F1:   0.00 | Prec:   0.00 | Rec:   0.00 || Ex/s:   0.00\n",
      "\n",
      "===>  PREDICT Epoch 3\n",
      "Finished Epoch 3 || Run Time:    1.3 | Load Time:    1.2 || F1:   0.00 | Prec:   0.00 | Rec:   0.00 || Ex/s:   0.00\n",
      "\n"
     ]
    },
    {
     "data": {
      "text/plain": [
       "(395, 17)"
      ]
     },
     "execution_count": 35,
     "metadata": {},
     "output_type": "execute_result"
    }
   ],
   "source": [
    "positives = pd.read_csv('../../Structured/itunes-amazon/negatives.csv')\n",
    "ltime = positives['ltable_Time']\n",
    "testRobustness(standard_model,'../../Structured/itunes-amazon/negatives.csv','Time',0,(ltime,ltime))"
   ]
  },
  {
   "cell_type": "code",
   "execution_count": 36,
   "metadata": {},
   "outputs": [
    {
     "name": "stdout",
     "output_type": "stream",
     "text": [
      "===>  PREDICT Epoch 5\n",
      "Finished Epoch 5 || Run Time:    1.3 | Load Time:    1.2 || F1:   0.00 | Prec:   0.00 | Rec:   0.00 || Ex/s:   0.00\n",
      "\n",
      "===>  PREDICT Epoch 5\n",
      "Finished Epoch 5 || Run Time:    1.3 | Load Time:    1.2 || F1:   0.00 | Prec:   0.00 | Rec:   0.00 || Ex/s:   0.00\n",
      "\n"
     ]
    },
    {
     "data": {
      "text/plain": [
       "(396, 360)"
      ]
     },
     "execution_count": 36,
     "metadata": {},
     "output_type": "execute_result"
    }
   ],
   "source": [
    "positives = pd.read_csv('../../Structured/itunes-amazon/negatives.csv')\n",
    "ltime = positives['ltable_Time']\n",
    "testRobustness(model,'../../Structured/itunes-amazon/negatives.csv','Time',0,(ltime,ltime))"
   ]
  },
  {
   "cell_type": "markdown",
   "metadata": {},
   "source": [
    "### Recompute rankings"
   ]
  },
  {
   "cell_type": "code",
   "execution_count": 11,
   "metadata": {},
   "outputs": [],
   "source": [
    "hybrid_model10 = dm.MatchingModel(attr_summarizer='hybrid')\n",
    "hybrid_model10.load_state('temp/hybrid_model10.pth')"
   ]
  },
  {
   "cell_type": "code",
   "execution_count": 54,
   "metadata": {},
   "outputs": [],
   "source": [
    "neg_classifier_hybrid,neg_ids = return_layer_input('../../Structured/itunes-amazon'\n",
    "                                                                         ,'negatives',128,hybrid_model10,\n",
    "                                                                        hybrid_model10.classifier,device=-1)"
   ]
  },
  {
   "cell_type": "code",
   "execution_count": 55,
   "metadata": {},
   "outputs": [],
   "source": [
    "pos_classifier_hybrid,pos_ids = return_layer_input('../../Structured/itunes-amazon/',\n",
    "                                                                       'positives',128,hybrid_model10,\n",
    "                                                                       hybrid_model10.classifier,device=-1)"
   ]
  },
  {
   "cell_type": "code",
   "execution_count": 62,
   "metadata": {},
   "outputs": [],
   "source": [
    "hybrid_model10 = hybrid_model10.cuda()\n",
    "classifier_len_hybrid = len(neg_classifier_hybrid[0][0])\n",
    "attribute_len_hybrid = int(classifier_len_hybrid/len(attributes))"
   ]
  },
  {
   "cell_type": "code",
   "execution_count": 63,
   "metadata": {},
   "outputs": [
    {
     "name": "stderr",
     "output_type": "stream",
     "text": [
      "100%|██████████| 128/128 [00:34<00:00,  3.67it/s]\n",
      "100%|██████████| 128/128 [00:30<00:00,  4.24it/s]\n",
      "100%|██████████| 128/128 [00:28<00:00,  4.46it/s]\n",
      "100%|██████████| 23/23 [00:06<00:00,  3.79it/s]\n"
     ]
    }
   ],
   "source": [
    "negatives_ri_hybrid,neg_ri_norms_hybrid = computeRi(hybrid_model10.classifier,\n",
    "                                                    attributes,neg_classifier_hybrid,attribute_len_hybrid,1)"
   ]
  },
  {
   "cell_type": "code",
   "execution_count": 65,
   "metadata": {},
   "outputs": [
    {
     "data": {
      "text/plain": [
       "<matplotlib.axes._subplots.AxesSubplot at 0x7ff010c99c88>"
      ]
     },
     "execution_count": 65,
     "metadata": {},
     "output_type": "execute_result"
    },
    {
     "data": {
      "image/png": "[encoded data removed]",
      "text/plain": [
       "<Figure size 432x288 with 1 Axes>"
      ]
     },
     "metadata": {
      "needs_background": "light"
     },
     "output_type": "display_data"
    }
   ],
   "source": [
    "neg_variation_df = pd.DataFrame(data= neg_ri_norms_hybrid,columns=attributes)\n",
    "neg_variation_df.sum().plot.bar()"
   ]
  },
  {
   "cell_type": "code",
   "execution_count": 66,
   "metadata": {},
   "outputs": [
    {
     "name": "stderr",
     "output_type": "stream",
     "text": [
      "100%|██████████| 128/128 [00:25<00:00,  5.06it/s]\n",
      "100%|██████████| 4/4 [00:00<00:00,  6.76it/s]\n"
     ]
    }
   ],
   "source": [
    "pos_ri,pos_ri_norms = computeRi(hybrid_model10.classifier,\n",
    "                                                    attributes,pos_classifier_hybrid,attribute_len_hybrid,0)"
   ]
  },
  {
   "cell_type": "code",
   "execution_count": 67,
   "metadata": {},
   "outputs": [
    {
     "data": {
      "text/plain": [
       "<matplotlib.axes._subplots.AxesSubplot at 0x7ff010c719b0>"
      ]
     },
     "execution_count": 67,
     "metadata": {},
     "output_type": "execute_result"
    },
    {
     "data": {
      "image/png": "[encoded data removed]",
      "text/plain": [
       "<Figure size 432x288 with 1 Axes>"
      ]
     },
     "metadata": {
      "needs_background": "light"
     },
     "output_type": "display_data"
    }
   ],
   "source": [
    "pos_variation_df = pd.DataFrame(data= pos_ri_norms,columns=attributes)\n",
    "pos_variation_df.sum().plot.bar()"
   ]
  },
  {
   "cell_type": "markdown",
   "metadata": {},
   "source": [
    "### Test robustness"
   ]
  },
  {
   "cell_type": "code",
   "execution_count": 68,
   "metadata": {},
   "outputs": [],
   "source": [
    "criticalTimes_forpos = list(map(lambda c:(c[1],c[2]),critical_forPositives['Time']))"
   ]
  },
  {
   "cell_type": "code",
   "execution_count": 71,
   "metadata": {},
   "outputs": [],
   "source": [
    "%%capture\n",
    "old_new_negatives = []\n",
    "for pair in criticalTimes_forpos:\n",
    "    old_new_negatives.append(testRobustness(hybrid_model10,'../../Structured/itunes-amazon/negatives.csv','Time',0,pair))"
   ]
  },
  {
   "cell_type": "code",
   "execution_count": 79,
   "metadata": {},
   "outputs": [
    {
     "data": {
      "text/plain": [
       "[(396, 335),\n",
       " (396, 343),\n",
       " (396, 357),\n",
       " (396, 291),\n",
       " (396, 267),\n",
       " (396, 257),\n",
       " (396, 357),\n",
       " (396, 347),\n",
       " (396, 367)]"
      ]
     },
     "execution_count": 79,
     "metadata": {},
     "output_type": "execute_result"
    }
   ],
   "source": [
    "old_new_negatives"
   ]
  },
  {
   "cell_type": "code",
   "execution_count": 12,
   "metadata": {},
   "outputs": [],
   "source": [
    "%%capture\n",
    "criticalTimes_forneg = list(map(lambda c:(c[1],c[2]),critical_forNegatives['Time']))\n",
    "old_new_positives = []\n",
    "for pair in criticalTimes_forneg:\n",
    "    old_new_positives.append(testRobustness(hybrid_model10,'../../Structured/itunes-amazon/positives.csv','Time',1,pair))"
   ]
  },
  {
   "cell_type": "code",
   "execution_count": 80,
   "metadata": {},
   "outputs": [
    {
     "data": {
      "text/plain": [
       "[(130, 9), (130, 88), (130, 122), (130, 105)]"
      ]
     },
     "execution_count": 80,
     "metadata": {},
     "output_type": "execute_result"
    }
   ],
   "source": [
    "old_new_positives"
   ]
  }
 ],
 "metadata": {
  "kernelspec": {
   "display_name": "Python 3",
   "language": "python",
   "name": "python3"
  },
  "language_info": {
   "codemirror_mode": {
    "name": "ipython",
    "version": 3
   },
   "file_extension": ".py",
   "mimetype": "text/x-python",
   "name": "python",
   "nbconvert_exporter": "python",
   "pygments_lexer": "ipython3",
   "version": "3.6.9"
  }
 },
 "nbformat": 4,
 "nbformat_minor": 2
}

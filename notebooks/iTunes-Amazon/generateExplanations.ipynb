{
 "cells": [
  {
   "cell_type": "code",
   "execution_count": 1,
   "metadata": {},
   "outputs": [],
   "source": [
    "import sys\n",
    "sys.path.append('../..')"
   ]
  },
  {
   "cell_type": "code",
   "execution_count": 2,
   "metadata": {},
   "outputs": [],
   "source": [
    "import pandas as pd\n",
    "import deepmatcher as dm\n",
    "from utils.explainer import generateExplanations"
   ]
  },
  {
   "cell_type": "code",
   "execution_count": 3,
   "metadata": {},
   "outputs": [],
   "source": [
    "hybrid_model = dm.MatchingModel(attr_summarizer='hybrid')\n",
    "hybrid_model.load_state('../../models/itunesamazon_hybrid.pth')"
   ]
  },
  {
   "cell_type": "code",
   "execution_count": 4,
   "metadata": {},
   "outputs": [],
   "source": [
    "positives_nn = pd.read_csv('experiments/results/positives_nn_hybrid.csv')\n",
    "negatives = pd.read_csv('../../Structured/itunes-amazon/negatives.csv')"
   ]
  },
  {
   "cell_type": "code",
   "execution_count": 5,
   "metadata": {},
   "outputs": [],
   "source": [
    "selected_attributes = ['Price','Song_Name','Time']"
   ]
  },
  {
   "cell_type": "code",
   "execution_count": 11,
   "metadata": {},
   "outputs": [
    {
     "name": "stdout",
     "output_type": "stream",
     "text": [
      "===>  PREDICT Epoch 3\n",
      "Finished Epoch 3 || Run Time:    0.8 | Load Time:    0.4 || F1:   0.00 | Prec:   0.00 | Rec:   0.00 || Ex/s:   0.00\n",
      "\n",
      "===>  PREDICT Epoch 3\n",
      "Finished Epoch 3 || Run Time:    0.6 | Load Time:    0.4 || F1:   0.00 | Prec:   0.00 | Rec:   0.00 || Ex/s:   0.00\n",
      "\n",
      "===>  PREDICT Epoch 3\n",
      "Finished Epoch 3 || Run Time:    0.6 | Load Time:    0.4 || F1:   0.00 | Prec:   0.00 | Rec:   0.00 || Ex/s:   0.00\n",
      "\n",
      "===>  PREDICT Epoch 3\n",
      "Finished Epoch 3 || Run Time:    0.5 | Load Time:    0.4 || F1:   0.00 | Prec:   0.00 | Rec:   0.00 || Ex/s:   0.00\n",
      "\n",
      "===>  PREDICT Epoch 3\n",
      "Finished Epoch 3 || Run Time:    0.6 | Load Time:    0.4 || F1:   0.00 | Prec:   0.00 | Rec:   0.00 || Ex/s:   0.00\n",
      "\n",
      "===>  PREDICT Epoch 3\n",
      "Finished Epoch 3 || Run Time:    0.6 | Load Time:    0.4 || F1:   0.00 | Prec:   0.00 | Rec:   0.00 || Ex/s:   0.00\n",
      "\n",
      "===>  PREDICT Epoch 3\n",
      "Finished Epoch 3 || Run Time:    0.5 | Load Time:    0.4 || F1:   0.00 | Prec:   0.00 | Rec:   0.00 || Ex/s:   0.00\n",
      "\n",
      "===>  PREDICT Epoch 3\n",
      "Finished Epoch 3 || Run Time:    0.5 | Load Time:    0.4 || F1:   0.00 | Prec:   0.00 | Rec:   0.00 || Ex/s:   0.00\n",
      "\n",
      "===>  PREDICT Epoch 3\n",
      "Finished Epoch 3 || Run Time:    0.6 | Load Time:    0.4 || F1:   0.00 | Prec:   0.00 | Rec:   0.00 || Ex/s:   0.00\n",
      "\n",
      "===>  PREDICT Epoch 3\n",
      "Finished Epoch 3 || Run Time:    0.6 | Load Time:    0.5 || F1:   0.00 | Prec:   0.00 | Rec:   0.00 || Ex/s:   0.00\n",
      "\n",
      "===>  PREDICT Epoch 3\n",
      "Finished Epoch 3 || Run Time:    0.6 | Load Time:    0.4 || F1:   0.00 | Prec:   0.00 | Rec:   0.00 || Ex/s:   0.00\n",
      "\n",
      "===>  PREDICT Epoch 3\n",
      "Finished Epoch 3 || Run Time:    0.5 | Load Time:    0.4 || F1:   0.00 | Prec:   0.00 | Rec:   0.00 || Ex/s:   0.00\n",
      "\n",
      "===>  PREDICT Epoch 3\n",
      "Finished Epoch 3 || Run Time:    0.6 | Load Time:    0.4 || F1:   0.00 | Prec:   0.00 | Rec:   0.00 || Ex/s:   0.00\n",
      "\n",
      "===>  PREDICT Epoch 3\n",
      "Finished Epoch 3 || Run Time:    0.6 | Load Time:    0.4 || F1:   0.00 | Prec:   0.00 | Rec:   0.00 || Ex/s:   0.00\n",
      "\n",
      "===>  PREDICT Epoch 3\n",
      "Finished Epoch 3 || Run Time:    0.6 | Load Time:    0.4 || F1:   0.00 | Prec:   0.00 | Rec:   0.00 || Ex/s:   0.00\n",
      "\n",
      "===>  PREDICT Epoch 3\n",
      "Finished Epoch 3 || Run Time:    0.6 | Load Time:    0.4 || F1:   0.00 | Prec:   0.00 | Rec:   0.00 || Ex/s:   0.00\n",
      "\n"
     ]
    }
   ],
   "source": [
    "critical_forPositives = {}\n",
    "for att in selected_attributes:\n",
    "    critical_values = generateExplanations(positives_nn,5,0.1,negatives,att,hybrid_model,\n",
    "                                         '../../Structured/itunes-amazon/positives.csv',1)\n",
    "    critical_forPositives[att] = critical_values"
   ]
  },
  {
   "cell_type": "code",
   "execution_count": 12,
   "metadata": {},
   "outputs": [
    {
     "data": {
      "text/plain": [
       "{'Price': [],\n",
       " 'Song_Name': [('Remember You ( feat . The Weeknd )',\n",
       "   'Rise Above ( feat . Pharrell , Tuki Carter & Amber Rose ) [ Explicit ]'),\n",
       "  ('Dance In the Dark', \"Just Dance [ feat . Colby O'Donis ]\"),\n",
       "  ('If I Am a Stranger ( Live In Amsterdam )',\n",
       "   'Firecracker ( Live At Carnegie Hall / 11/17/2014 ) [ Explicit ]'),\n",
       "  ('Jump ( feat . Nelly Furtado )',\n",
       "   'Yayo [ Feat . Brisco , Billy Blue , Ball Greezy , Rick Ross , Red Eyezz , Bred , Pitbull & Ace Hood ] ( Amended Bonus Version )')],\n",
       " 'Time': [('2:51', '4:59'),\n",
       "  ('5:06', '3:55'),\n",
       "  ('3:54', '3:57'),\n",
       "  ('2:51', '3:45'),\n",
       "  ('5:20', '4:18')]}"
      ]
     },
     "execution_count": 12,
     "metadata": {},
     "output_type": "execute_result"
    }
   ],
   "source": [
    "critical_forPositives"
   ]
  },
  {
   "cell_type": "code",
   "execution_count": 18,
   "metadata": {},
   "outputs": [],
   "source": [
    "negatives_nn = pd.read_csv('experiments/results/negatives_nn_hybrid.csv')\n",
    "positives = pd.read_csv('../../Structured/itunes-amazon/positives.csv')"
   ]
  },
  {
   "cell_type": "code",
   "execution_count": 19,
   "metadata": {},
   "outputs": [
    {
     "name": "stdout",
     "output_type": "stream",
     "text": [
      "===>  PREDICT Epoch 3\n",
      "Finished Epoch 3 || Run Time:    1.5 | Load Time:    1.3 || F1:   0.00 | Prec:   0.00 | Rec:   0.00 || Ex/s:   0.00\n",
      "\n",
      "===>  PREDICT Epoch 3\n",
      "Finished Epoch 3 || Run Time:    1.5 | Load Time:    1.3 || F1:   0.00 | Prec:   0.00 | Rec:   0.00 || Ex/s:   0.00\n",
      "\n",
      "===>  PREDICT Epoch 3\n",
      "Finished Epoch 3 || Run Time:    1.6 | Load Time:    1.3 || F1:   0.00 | Prec:   0.00 | Rec:   0.00 || Ex/s:   0.00\n",
      "\n",
      "===>  PREDICT Epoch 3\n",
      "Finished Epoch 3 || Run Time:    1.6 | Load Time:    1.3 || F1:   0.00 | Prec:   0.00 | Rec:   0.00 || Ex/s:   0.00\n",
      "\n",
      "===>  PREDICT Epoch 3\n",
      "Finished Epoch 3 || Run Time:    1.5 | Load Time:    1.3 || F1:   0.00 | Prec:   0.00 | Rec:   0.00 || Ex/s:   0.00\n",
      "\n",
      "===>  PREDICT Epoch 3\n",
      "Finished Epoch 3 || Run Time:    1.5 | Load Time:    1.3 || F1:   0.00 | Prec:   0.00 | Rec:   0.00 || Ex/s:   0.00\n",
      "\n",
      "===>  PREDICT Epoch 3\n",
      "Finished Epoch 3 || Run Time:    1.6 | Load Time:    1.3 || F1:   0.00 | Prec:   0.00 | Rec:   0.00 || Ex/s:   0.00\n",
      "\n",
      "===>  PREDICT Epoch 3\n",
      "Finished Epoch 3 || Run Time:    1.5 | Load Time:    1.3 || F1:   0.00 | Prec:   0.00 | Rec:   0.00 || Ex/s:   0.00\n",
      "\n",
      "===>  PREDICT Epoch 3\n",
      "Finished Epoch 3 || Run Time:    1.5 | Load Time:    1.3 || F1:   0.00 | Prec:   0.00 | Rec:   0.00 || Ex/s:   0.00\n",
      "\n",
      "===>  PREDICT Epoch 3\n",
      "Finished Epoch 3 || Run Time:    1.5 | Load Time:    1.2 || F1:   0.00 | Prec:   0.00 | Rec:   0.00 || Ex/s:   0.00\n",
      "\n",
      "===>  PREDICT Epoch 3\n",
      "Finished Epoch 3 || Run Time:    1.5 | Load Time:    1.1 || F1:   0.00 | Prec:   0.00 | Rec:   0.00 || Ex/s:   0.00\n",
      "\n",
      "===>  PREDICT Epoch 3\n",
      "Finished Epoch 3 || Run Time:    1.5 | Load Time:    1.2 || F1:   0.00 | Prec:   0.00 | Rec:   0.00 || Ex/s:   0.00\n",
      "\n",
      "===>  PREDICT Epoch 3\n",
      "Finished Epoch 3 || Run Time:    1.5 | Load Time:    1.1 || F1:   0.00 | Prec:   0.00 | Rec:   0.00 || Ex/s:   0.00\n",
      "\n",
      "===>  PREDICT Epoch 3\n",
      "Finished Epoch 3 || Run Time:    1.5 | Load Time:    1.1 || F1:   0.00 | Prec:   0.00 | Rec:   0.00 || Ex/s:   0.00\n",
      "\n",
      "===>  PREDICT Epoch 3\n",
      "Finished Epoch 3 || Run Time:    1.4 | Load Time:    1.1 || F1:   0.00 | Prec:   0.00 | Rec:   0.00 || Ex/s:   0.00\n",
      "\n",
      "===>  PREDICT Epoch 3\n",
      "Finished Epoch 3 || Run Time:    1.5 | Load Time:    1.2 || F1:   0.00 | Prec:   0.00 | Rec:   0.00 || Ex/s:   0.00\n",
      "\n",
      "===>  PREDICT Epoch 3\n",
      "Finished Epoch 3 || Run Time:    1.4 | Load Time:    1.1 || F1:   0.00 | Prec:   0.00 | Rec:   0.00 || Ex/s:   0.00\n",
      "\n",
      "===>  PREDICT Epoch 3\n",
      "Finished Epoch 3 || Run Time:    1.5 | Load Time:    1.2 || F1:   0.00 | Prec:   0.00 | Rec:   0.00 || Ex/s:   0.00\n",
      "\n",
      "===>  PREDICT Epoch 3\n",
      "Finished Epoch 3 || Run Time:    1.5 | Load Time:    1.1 || F1:   0.00 | Prec:   0.00 | Rec:   0.00 || Ex/s:   0.00\n",
      "\n",
      "===>  PREDICT Epoch 3\n",
      "Finished Epoch 3 || Run Time:    1.6 | Load Time:    1.3 || F1:   0.00 | Prec:   0.00 | Rec:   0.00 || Ex/s:   0.00\n",
      "\n",
      "===>  PREDICT Epoch 3\n",
      "Finished Epoch 3 || Run Time:    1.5 | Load Time:    1.3 || F1:   0.00 | Prec:   0.00 | Rec:   0.00 || Ex/s:   0.00\n",
      "\n",
      "===>  PREDICT Epoch 3\n",
      "Finished Epoch 3 || Run Time:    1.6 | Load Time:    1.3 || F1:   0.00 | Prec:   0.00 | Rec:   0.00 || Ex/s:   0.00\n",
      "\n",
      "===>  PREDICT Epoch 3\n",
      "Finished Epoch 3 || Run Time:    1.5 | Load Time:    1.3 || F1:   0.00 | Prec:   0.00 | Rec:   0.00 || Ex/s:   0.00\n",
      "\n",
      "===>  PREDICT Epoch 3\n",
      "Finished Epoch 3 || Run Time:    1.5 | Load Time:    1.3 || F1:   0.00 | Prec:   0.00 | Rec:   0.00 || Ex/s:   0.00\n",
      "\n",
      "===>  PREDICT Epoch 3\n",
      "Finished Epoch 3 || Run Time:    1.5 | Load Time:    1.3 || F1:   0.00 | Prec:   0.00 | Rec:   0.00 || Ex/s:   0.00\n",
      "\n",
      "===>  PREDICT Epoch 3\n",
      "Finished Epoch 3 || Run Time:    1.7 | Load Time:    1.3 || F1:   0.00 | Prec:   0.00 | Rec:   0.00 || Ex/s:   0.00\n",
      "\n",
      "===>  PREDICT Epoch 3\n",
      "Finished Epoch 3 || Run Time:    1.5 | Load Time:    1.3 || F1:   0.00 | Prec:   0.00 | Rec:   0.00 || Ex/s:   0.00\n",
      "\n",
      "===>  PREDICT Epoch 3\n",
      "Finished Epoch 3 || Run Time:    1.5 | Load Time:    1.3 || F1:   0.00 | Prec:   0.00 | Rec:   0.00 || Ex/s:   0.00\n",
      "\n",
      "===>  PREDICT Epoch 3\n",
      "Finished Epoch 3 || Run Time:    1.6 | Load Time:    1.3 || F1:   0.00 | Prec:   0.00 | Rec:   0.00 || Ex/s:   0.00\n",
      "\n",
      "===>  PREDICT Epoch 3\n",
      "Finished Epoch 3 || Run Time:    1.5 | Load Time:    1.3 || F1:   0.00 | Prec:   0.00 | Rec:   0.00 || Ex/s:   0.00\n",
      "\n"
     ]
    }
   ],
   "source": [
    "critical_forNegatives = {}\n",
    "for att in selected_attributes:\n",
    "    critical_values = generateExplanations(negatives_nn,10,0.1,positives,att,hybrid_model,\n",
    "                                         '../../Structured/itunes-amazon/negatives.csv',0)\n",
    "    critical_forNegatives[att] = critical_values"
   ]
  },
  {
   "cell_type": "code",
   "execution_count": 20,
   "metadata": {},
   "outputs": [
    {
     "data": {
      "text/plain": [
       "{'Price': [],\n",
       " 'Song_Name': [('Billy', 'Billy', 162),\n",
       "  ('Speakers', 'Speakers', 134),\n",
       "  ('We Know', 'We Know', 111)],\n",
       " 'Time': [('4:38', '4:39', 228), ('3:41', '3:44', 322), ('2:28', '2:27', 371)]}"
      ]
     },
     "execution_count": 20,
     "metadata": {},
     "output_type": "execute_result"
    }
   ],
   "source": [
    "critical_forNegatives"
   ]
  },
  {
   "cell_type": "markdown",
   "metadata": {},
   "source": [
    "## Compare nearest neighbours with values distribution"
   ]
  },
  {
   "cell_type": "code",
   "execution_count": 26,
   "metadata": {},
   "outputs": [
    {
     "data": {
      "text/plain": [
       "$ 1.29 $ 1.29        59\n",
       "$ 0.99 $ 0.99        13\n",
       "$ 1.99 $ 1.29         3\n",
       "$ 1.29 $ 0.89         1\n",
       "Album Only $ 1.29     1\n",
       "Album Only $ 0.99     1\n",
       "dtype: int64"
      ]
     },
     "execution_count": 26,
     "metadata": {},
     "output_type": "execute_result"
    }
   ],
   "source": [
    "train_df = pd.read_csv('../../Structured/itunes-amazon/merged_train.csv')\n",
    "train_pos = train_df[train_df.label==1]\n",
    "(train_pos['ltable_Price']+\" \"+train_pos['rtable_Price']).value_counts()"
   ]
  },
  {
   "cell_type": "code",
   "execution_count": 35,
   "metadata": {},
   "outputs": [],
   "source": [
    "train_neg = train_df[train_df.label==0]\n",
    "price_negatives = list((train_neg['ltable_Price']+\"|\"+train_neg['rtable_Price']).value_counts().keys())"
   ]
  },
  {
   "cell_type": "code",
   "execution_count": 47,
   "metadata": {},
   "outputs": [],
   "source": [
    "def testBias(model,testset_path,attribute,true_label,values_toTest):\n",
    "    standard_test = dm.data.process_unlabeled(testset_path,model,ignore_columns=['id','label'])\n",
    "    standard_pred = model.run_prediction(standard_test)\n",
    "    test_df = pd.read_csv(testset_path)\n",
    "    true_positives = []\n",
    "    if true_label == 1:\n",
    "        true_positives.append(('default Lprice','default Rprice',standard_pred[standard_pred.match_score>0.5].shape[0]))\n",
    "    else:\n",
    "        true_positives.append(('default Lprice','default Rprice',standard_pred[standard_pred.match_score<=0.5].shape[0]))\n",
    "    for values in values_toTest:\n",
    "        lval = values.split(\"|\")[0]\n",
    "        rval = values.split(\"|\")[1]\n",
    "        test_df['ltable_'+attribute] = lval\n",
    "        test_df['rtable_'+attribute] = rval\n",
    "        test_df.to_csv('temp/new_test.csv',index=False)\n",
    "        new_test = dm.data.process_unlabeled('temp/new_test.csv',model,ignore_columns=['id','label'])\n",
    "        new_pred = model.run_prediction(new_test,output_attributes=True)\n",
    "        if true_label ==1:\n",
    "            true_positives.append((lval,rval,new_pred[new_pred.match_score >0.5].shape[0]))\n",
    "        else:\n",
    "            true_positives.append((lval,rval,new_pred[new_pred.match_score <=0.5].shape[0]))\n",
    "    return true_positives"
   ]
  },
  {
   "cell_type": "code",
   "execution_count": 48,
   "metadata": {},
   "outputs": [
    {
     "name": "stdout",
     "output_type": "stream",
     "text": [
      "===>  PREDICT Epoch 3\n",
      "Finished Epoch 3 || Run Time:    0.6 | Load Time:    0.4 || F1:   0.00 | Prec:   0.00 | Rec:   0.00 || Ex/s:   0.00\n",
      "\n",
      "===>  PREDICT Epoch 3\n",
      "Finished Epoch 3 || Run Time:    0.6 | Load Time:    0.4 || F1:   0.00 | Prec:   0.00 | Rec:   0.00 || Ex/s:   0.00\n",
      "\n",
      "===>  PREDICT Epoch 3\n",
      "Finished Epoch 3 || Run Time:    0.6 | Load Time:    0.4 || F1:   0.00 | Prec:   0.00 | Rec:   0.00 || Ex/s:   0.00\n",
      "\n",
      "===>  PREDICT Epoch 3\n",
      "Finished Epoch 3 || Run Time:    0.5 | Load Time:    0.4 || F1:   0.00 | Prec:   0.00 | Rec:   0.00 || Ex/s:   0.00\n",
      "\n",
      "===>  PREDICT Epoch 3\n",
      "Finished Epoch 3 || Run Time:    0.6 | Load Time:    0.4 || F1:   0.00 | Prec:   0.00 | Rec:   0.00 || Ex/s:   0.00\n",
      "\n",
      "===>  PREDICT Epoch 3\n",
      "Finished Epoch 3 || Run Time:    0.6 | Load Time:    0.4 || F1:   0.00 | Prec:   0.00 | Rec:   0.00 || Ex/s:   0.00\n",
      "\n",
      "===>  PREDICT Epoch 3\n",
      "Finished Epoch 3 || Run Time:    0.6 | Load Time:    0.4 || F1:   0.00 | Prec:   0.00 | Rec:   0.00 || Ex/s:   0.00\n",
      "\n",
      "===>  PREDICT Epoch 3\n",
      "Finished Epoch 3 || Run Time:    0.6 | Load Time:    0.4 || F1:   0.00 | Prec:   0.00 | Rec:   0.00 || Ex/s:   0.00\n",
      "\n",
      "===>  PREDICT Epoch 3\n",
      "Finished Epoch 3 || Run Time:    0.6 | Load Time:    0.4 || F1:   0.00 | Prec:   0.00 | Rec:   0.00 || Ex/s:   0.00\n",
      "\n",
      "===>  PREDICT Epoch 3\n",
      "Finished Epoch 3 || Run Time:    0.6 | Load Time:    0.4 || F1:   0.00 | Prec:   0.00 | Rec:   0.00 || Ex/s:   0.00\n",
      "\n",
      "===>  PREDICT Epoch 3\n",
      "Finished Epoch 3 || Run Time:    0.6 | Load Time:    0.4 || F1:   0.00 | Prec:   0.00 | Rec:   0.00 || Ex/s:   0.00\n",
      "\n"
     ]
    }
   ],
   "source": [
    "true_positives_foratt = testBias(hybrid_model,'../../Structured/itunes-amazon/positives.csv','Price',\n",
    "                                1,price_negatives)"
   ]
  },
  {
   "cell_type": "code",
   "execution_count": 49,
   "metadata": {},
   "outputs": [
    {
     "data": {
      "text/plain": [
       "[('default Lprice', 'default Rprice', 126),\n",
       " ('$ 1.29', '$ 1.29', 126),\n",
       " ('$ 1.99', '$ 1.29', 123),\n",
       " ('$ 1.29', '$ 0.99', 121),\n",
       " ('Album Only', '$ 1.29', 121),\n",
       " ('$ 0.99', '$ 0.99', 126),\n",
       " ('$ 0.99', '$ 1.29', 121),\n",
       " ('$ 1.29', '$ 0.69', 123),\n",
       " ('$ 0.99', '$ 0.89', 122),\n",
       " ('$ 1.29', '$ 0.89', 125),\n",
       " ('$ 1.99', '$ 0.99', 123)]"
      ]
     },
     "execution_count": 49,
     "metadata": {},
     "output_type": "execute_result"
    }
   ],
   "source": [
    "true_positives_foratt"
   ]
  },
  {
   "cell_type": "code",
   "execution_count": 50,
   "metadata": {},
   "outputs": [
    {
     "name": "stdout",
     "output_type": "stream",
     "text": [
      "===>  PREDICT Epoch 3\n",
      "Finished Epoch 3 || Run Time:    1.5 | Load Time:    1.3 || F1:   0.00 | Prec:   0.00 | Rec:   0.00 || Ex/s:   0.00\n",
      "\n",
      "===>  PREDICT Epoch 3\n",
      "Finished Epoch 3 || Run Time:    1.5 | Load Time:    1.3 || F1:   0.00 | Prec:   0.00 | Rec:   0.00 || Ex/s:   0.00\n",
      "\n",
      "===>  PREDICT Epoch 3\n",
      "Finished Epoch 3 || Run Time:    1.5 | Load Time:    1.3 || F1:   0.00 | Prec:   0.00 | Rec:   0.00 || Ex/s:   0.00\n",
      "\n",
      "===>  PREDICT Epoch 3\n",
      "Finished Epoch 3 || Run Time:    1.5 | Load Time:    1.3 || F1:   0.00 | Prec:   0.00 | Rec:   0.00 || Ex/s:   0.00\n",
      "\n",
      "===>  PREDICT Epoch 3\n",
      "Finished Epoch 3 || Run Time:    1.5 | Load Time:    1.3 || F1:   0.00 | Prec:   0.00 | Rec:   0.00 || Ex/s:   0.00\n",
      "\n",
      "===>  PREDICT Epoch 3\n",
      "Finished Epoch 3 || Run Time:    1.6 | Load Time:    1.3 || F1:   0.00 | Prec:   0.00 | Rec:   0.00 || Ex/s:   0.00\n",
      "\n",
      "===>  PREDICT Epoch 3\n",
      "Finished Epoch 3 || Run Time:    1.5 | Load Time:    1.3 || F1:   0.00 | Prec:   0.00 | Rec:   0.00 || Ex/s:   0.00\n",
      "\n"
     ]
    }
   ],
   "source": [
    "train_pos = train_df[train_df.label==1]\n",
    "price_positives = list((train_pos['ltable_Price']+\"|\"+train_pos['rtable_Price']).value_counts().keys())\n",
    "true_positives_foratt = testBias(hybrid_model,'../../Structured/itunes-amazon/negatives.csv','Price',\n",
    "                                0,price_positives)"
   ]
  },
  {
   "cell_type": "code",
   "execution_count": 51,
   "metadata": {},
   "outputs": [
    {
     "data": {
      "text/plain": [
       "[('default Lprice', 'default Rprice', 395),\n",
       " ('$ 1.29', '$ 1.29', 392),\n",
       " ('$ 0.99', '$ 0.99', 391),\n",
       " ('$ 1.99', '$ 1.29', 399),\n",
       " ('Album Only', '$ 0.99', 398),\n",
       " ('$ 1.29', '$ 0.89', 397),\n",
       " ('Album Only', '$ 1.29', 403)]"
      ]
     },
     "execution_count": 51,
     "metadata": {},
     "output_type": "execute_result"
    }
   ],
   "source": [
    "true_positives_foratt"
   ]
  },
  {
   "cell_type": "code",
   "execution_count": null,
   "metadata": {},
   "outputs": [],
   "source": []
  }
 ],
 "metadata": {
  "kernelspec": {
   "display_name": "Python 3",
   "language": "python",
   "name": "python3"
  },
  "language_info": {
   "codemirror_mode": {
    "name": "ipython",
    "version": 3
   },
   "file_extension": ".py",
   "mimetype": "text/x-python",
   "name": "python",
   "nbconvert_exporter": "python",
   "pygments_lexer": "ipython3",
   "version": "3.6.9"
  }
 },
 "nbformat": 4,
 "nbformat_minor": 2
}

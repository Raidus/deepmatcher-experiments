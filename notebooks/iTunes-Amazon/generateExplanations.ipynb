{
 "cells": [
  {
   "cell_type": "code",
   "execution_count": 1,
   "metadata": {},
   "outputs": [],
   "source": [
    "import pandas as pd\n",
    "import deepmatcher as dm\n",
    "import os"
   ]
  },
  {
   "cell_type": "code",
   "execution_count": 2,
   "metadata": {},
   "outputs": [],
   "source": [
    "hybrid_model = dm.MatchingModel(attr_summarizer='hybrid')\n",
    "hybrid_model.load_state('../../models/hybrid1.pth')"
   ]
  },
  {
   "cell_type": "code",
   "execution_count": 5,
   "metadata": {},
   "outputs": [],
   "source": [
    "#k is the number of neighbours to consider\n",
    "def generateExplanations(nearest_neighbours,k,dataset,attribute,model,testset_path,true_label,temp_path='temp'):\n",
    "    nearest_neighbours_values = pd.merge(nearest_neighbours,dataset,left_on=attribute,right_on='id')\n",
    "    selected_cols = nearest_neighbours_values[['ltable_'+attribute,'rtable_'+attribute]]\n",
    "    most_frequents_values = selected_cols.groupby(['ltable_'+attribute,'rtable_'+attribute]).size().reset_index(name='Time').sort_values(by=['Time'],ascending=False).reset_index()\n",
    "    if (k>= most_frequents_values.shape[0]):\n",
    "        k = most_frequents_values.shape[0]\n",
    "    testset = dm.data.process_unlabeled(testset_path,model,ignore_columns=['id','label'])\n",
    "    standard_preds = model.run_prediction(testset)\n",
    "    if (true_label == 1):\n",
    "        true_positives = standard_preds[standard_preds['match_score']>0.5]\n",
    "    else:\n",
    "        true_positives = standard_preds[standard_preds['match_score']<=0.5]\n",
    "    print(\"The standard true positives are {}\".format(str(true_positives.shape[0])))\n",
    "    for i in range(k):\n",
    "        testset = pd.read_csv(testset_path)\n",
    "        testset['ltable_'+attribute] = most_frequents_values.loc[i]['ltable_'+attribute]\n",
    "        testset['rtable_'+attribute] = most_frequents_values.loc[i]['rtable_'+attribute]\n",
    "        altered_testName = 'altered_test'+str(i)+'.csv'\n",
    "        testset.to_csv(os.path.join(temp_path,altered_testName),index=False)\n",
    "        altered_test = dm.data.process_unlabeled(os.path.join(temp_path,altered_testName),model,ignore_columns = ['id','label'])\n",
    "        altered_pred = model.run_prediction(altered_test)\n",
    "        if (true_label == 1):\n",
    "            true_positives_foraltered = altered_pred[altered_pred['match_score'] >0.5]\n",
    "        else:\n",
    "            true_positives_foraltered = altered_pred[altered_pred['match_score']<=0.5]\n",
    "        print(true_positives_foraltered.shape[0])\n",
    "    return most_frequents_values"
   ]
  },
  {
   "cell_type": "code",
   "execution_count": null,
   "metadata": {},
   "outputs": [
    {
     "name": "stdout",
     "output_type": "stream",
     "text": [
      "===>  PREDICT Epoch 9\n"
     ]
    }
   ],
   "source": [
    "nn = pd.read_csv('experiments-results/exp3/testpos_nn.csv')\n",
    "dataset = pd.read_csv('../../Structured/itunes-amazon/negatives.csv')\n",
    "df = generateExplanations(nn,5,dataset,'Album_Name',hybrid_model,\"../../Structured/itunes-amazon/positives.csv\",1)"
   ]
  },
  {
   "cell_type": "code",
   "execution_count": 3,
   "metadata": {},
   "outputs": [
    {
     "name": "stdout",
     "output_type": "stream",
     "text": [
      "===>  PREDICT Epoch 9\n",
      "Finished Epoch 9 || Run Time:    0.8 | Load Time:    0.4 || F1:   0.00 | Prec:   0.00 | Rec:   0.00 || Ex/s:   0.00\n",
      "\n",
      "118\n"
     ]
    }
   ],
   "source": [
    "altered_test = dm.data.process_unlabeled(\"temp/altered_test3.csv\",hybrid_model,ignore_columns = ['id','label'])\n",
    "altered_pred = hybrid_model.run_prediction(altered_test)\n",
    "true_label=1\n",
    "if (true_label == 1):\n",
    "    true_positives_foraltered = altered_pred[altered_pred['match_score'] >0.5]\n",
    "else:\n",
    "    true_positives_foraltered = altered_pred[altered_pred['match_score']<=0.5]\n",
    "print(true_positives_foraltered.shape[0])"
   ]
  },
  {
   "cell_type": "code",
   "execution_count": 12,
   "metadata": {},
   "outputs": [
    {
     "data": {
      "text/html": [
       "<div>\n",
       "<style scoped>\n",
       "    .dataframe tbody tr th:only-of-type {\n",
       "        vertical-align: middle;\n",
       "    }\n",
       "\n",
       "    .dataframe tbody tr th {\n",
       "        vertical-align: top;\n",
       "    }\n",
       "\n",
       "    .dataframe thead th {\n",
       "        text-align: right;\n",
       "    }\n",
       "</style>\n",
       "<table border=\"1\" class=\"dataframe\">\n",
       "  <thead>\n",
       "    <tr style=\"text-align: right;\">\n",
       "      <th></th>\n",
       "      <th>index</th>\n",
       "      <th>ltable_Price</th>\n",
       "      <th>rtable_Price</th>\n",
       "      <th>Time</th>\n",
       "    </tr>\n",
       "  </thead>\n",
       "  <tbody>\n",
       "    <tr>\n",
       "      <th>0</th>\n",
       "      <td>4</td>\n",
       "      <td>Album Only</td>\n",
       "      <td>$ 1.29</td>\n",
       "      <td>14</td>\n",
       "    </tr>\n",
       "    <tr>\n",
       "      <th>1</th>\n",
       "      <td>0</td>\n",
       "      <td>$ 1.29</td>\n",
       "      <td>$ 0.89</td>\n",
       "      <td>9</td>\n",
       "    </tr>\n",
       "    <tr>\n",
       "      <th>2</th>\n",
       "      <td>3</td>\n",
       "      <td>$ 1.99</td>\n",
       "      <td>$ 1.29</td>\n",
       "      <td>2</td>\n",
       "    </tr>\n",
       "    <tr>\n",
       "      <th>3</th>\n",
       "      <td>1</td>\n",
       "      <td>$ 1.29</td>\n",
       "      <td>$ 0.99</td>\n",
       "      <td>1</td>\n",
       "    </tr>\n",
       "    <tr>\n",
       "      <th>4</th>\n",
       "      <td>2</td>\n",
       "      <td>$ 1.29</td>\n",
       "      <td>$ 1.29</td>\n",
       "      <td>1</td>\n",
       "    </tr>\n",
       "  </tbody>\n",
       "</table>\n",
       "</div>"
      ],
      "text/plain": [
       "   index ltable_Price rtable_Price  Time\n",
       "0      4   Album Only       $ 1.29    14\n",
       "1      0       $ 1.29       $ 0.89     9\n",
       "2      3       $ 1.99       $ 1.29     2\n",
       "3      1       $ 1.29       $ 0.99     1\n",
       "4      2       $ 1.29       $ 1.29     1"
      ]
     },
     "execution_count": 12,
     "metadata": {},
     "output_type": "execute_result"
    }
   ],
   "source": [
    "df"
   ]
  },
  {
   "cell_type": "code",
   "execution_count": 10,
   "metadata": {},
   "outputs": [
    {
     "data": {
      "text/html": [
       "<div>\n",
       "<style scoped>\n",
       "    .dataframe tbody tr th:only-of-type {\n",
       "        vertical-align: middle;\n",
       "    }\n",
       "\n",
       "    .dataframe tbody tr th {\n",
       "        vertical-align: top;\n",
       "    }\n",
       "\n",
       "    .dataframe thead th {\n",
       "        text-align: right;\n",
       "    }\n",
       "</style>\n",
       "<table border=\"1\" class=\"dataframe\">\n",
       "  <thead>\n",
       "    <tr style=\"text-align: right;\">\n",
       "      <th></th>\n",
       "      <th>label</th>\n",
       "      <th>ltable_Song_Name</th>\n",
       "      <th>ltable_Artist_Name</th>\n",
       "      <th>ltable_Album_Name</th>\n",
       "      <th>ltable_Genre</th>\n",
       "      <th>ltable_Price</th>\n",
       "      <th>ltable_CopyRight</th>\n",
       "      <th>ltable_Time</th>\n",
       "      <th>ltable_Released</th>\n",
       "      <th>rtable_Song_Name</th>\n",
       "      <th>rtable_Artist_Name</th>\n",
       "      <th>rtable_Album_Name</th>\n",
       "      <th>rtable_Genre</th>\n",
       "      <th>rtable_Price</th>\n",
       "      <th>rtable_CopyRight</th>\n",
       "      <th>rtable_Time</th>\n",
       "      <th>rtable_Released</th>\n",
       "      <th>id</th>\n",
       "    </tr>\n",
       "  </thead>\n",
       "  <tbody>\n",
       "    <tr>\n",
       "      <th>0</th>\n",
       "      <td>1</td>\n",
       "      <td>Silver and Gold</td>\n",
       "      <td>Little Big Town</td>\n",
       "      <td>Pain Killer</td>\n",
       "      <td>Country , Music , Honky Tonk , Contemporary Co...</td>\n",
       "      <td>Album Only</td>\n",
       "      <td>2014 Little Big Town , LLC Under exclusive lic...</td>\n",
       "      <td>3:33</td>\n",
       "      <td>21-Oct-14</td>\n",
       "      <td>Silver And Gold</td>\n",
       "      <td>Little Big Town</td>\n",
       "      <td>Pain Killer</td>\n",
       "      <td>Country</td>\n",
       "      <td>$ 1.29</td>\n",
       "      <td>( C ) 2014 Little Big Town LLC Under exclusive...</td>\n",
       "      <td>3:31</td>\n",
       "      <td>October 21 , 2014</td>\n",
       "      <td>102</td>\n",
       "    </tr>\n",
       "    <tr>\n",
       "      <th>1</th>\n",
       "      <td>1</td>\n",
       "      <td>Halcyon</td>\n",
       "      <td>Ellie Goulding</td>\n",
       "      <td>Halcyon Days ( Deluxe Edition )</td>\n",
       "      <td>Pop , Music , Dance , Rock</td>\n",
       "      <td>Album Only</td>\n",
       "      <td>‰ ãÑ 2013 Polydor Ltd. ( UK )</td>\n",
       "      <td>3:24</td>\n",
       "      <td>27-Aug-13</td>\n",
       "      <td>Halcyon</td>\n",
       "      <td>Ellie Goulding</td>\n",
       "      <td>Halcyon</td>\n",
       "      <td>Pop</td>\n",
       "      <td>$ 1.29</td>\n",
       "      <td>( C ) 2013 Polydor Ltd. ( UK )</td>\n",
       "      <td>3:24</td>\n",
       "      <td>August 27 , 2013</td>\n",
       "      <td>308</td>\n",
       "    </tr>\n",
       "    <tr>\n",
       "      <th>2</th>\n",
       "      <td>1</td>\n",
       "      <td>True Colors ( feat . Nicki Minaj )</td>\n",
       "      <td>Wiz Khalifa</td>\n",
       "      <td>Blacc Hollywood</td>\n",
       "      <td>Hip-Hop/Rap , Music , Rap , East Coast Rap , H...</td>\n",
       "      <td>Album Only</td>\n",
       "      <td>2014 Atlantic Recording Corporation for the Un...</td>\n",
       "      <td>4:15</td>\n",
       "      <td>19-Aug-14</td>\n",
       "      <td>True Colors ( feat . Nicki Minaj ) [ Explicit ]</td>\n",
       "      <td>Wiz Khalifa</td>\n",
       "      <td>Blacc Hollywood [ Explicit ]</td>\n",
       "      <td>Rap &amp; Hip-Hop</td>\n",
       "      <td>$ 1.29</td>\n",
       "      <td>2014 Atlantic Recording Corporation for the Un...</td>\n",
       "      <td>4:15</td>\n",
       "      <td>August 19 , 2014</td>\n",
       "      <td>35</td>\n",
       "    </tr>\n",
       "    <tr>\n",
       "      <th>3</th>\n",
       "      <td>1</td>\n",
       "      <td>Turn Around ( 5,4,3,2,1 ) [ DJ Bam Bam Radio R...</td>\n",
       "      <td>Flo Rida</td>\n",
       "      <td>Turn Around ( 5,4,3,2,1 ) - Deluxe Single</td>\n",
       "      <td>Hip-Hop/Rap , Music , Electronic , Rap , Dirty...</td>\n",
       "      <td>Album Only</td>\n",
       "      <td>‰ ãÑ 2010 Atlantic Recording Corporation for t...</td>\n",
       "      <td>3:35</td>\n",
       "      <td>16-Nov-10</td>\n",
       "      <td>Turn Around ( 5,4,3,2,1 )</td>\n",
       "      <td>Flo Rida</td>\n",
       "      <td>Only One Flo ( Part 1 ) [ Deluxe ] [ + Video ]...</td>\n",
       "      <td>Rap &amp; Hip-Hop</td>\n",
       "      <td>$ 1.29</td>\n",
       "      <td>2010 Atlantic Recording Corporation for the Un...</td>\n",
       "      <td>3:20</td>\n",
       "      <td>November 26 , 2010</td>\n",
       "      <td>9</td>\n",
       "    </tr>\n",
       "    <tr>\n",
       "      <th>4</th>\n",
       "      <td>1</td>\n",
       "      <td>Gone</td>\n",
       "      <td>The Weeknd</td>\n",
       "      <td>Trilogy</td>\n",
       "      <td>R&amp;B / Soul , Music , Rock , Contemporary R&amp;B</td>\n",
       "      <td>Album Only</td>\n",
       "      <td>‰ ãÑ 2012 XO &amp; co. , Inc.</td>\n",
       "      <td>8:07</td>\n",
       "      <td>13-Nov-12</td>\n",
       "      <td>Gone ( Album Version ( Edited ) ) [ Clean ]</td>\n",
       "      <td>The Weeknd</td>\n",
       "      <td>Trilogy ( Edited Version ) [ Clean ]</td>\n",
       "      <td>R&amp;B</td>\n",
       "      <td>$ 1.29</td>\n",
       "      <td>( C ) 2013 XO &amp; co. , Inc.</td>\n",
       "      <td>8:07</td>\n",
       "      <td>September 18 , 2015</td>\n",
       "      <td>169</td>\n",
       "    </tr>\n",
       "  </tbody>\n",
       "</table>\n",
       "</div>"
      ],
      "text/plain": [
       "   label                                   ltable_Song_Name  \\\n",
       "0      1                                    Silver and Gold   \n",
       "1      1                                            Halcyon   \n",
       "2      1                 True Colors ( feat . Nicki Minaj )   \n",
       "3      1  Turn Around ( 5,4,3,2,1 ) [ DJ Bam Bam Radio R...   \n",
       "4      1                                               Gone   \n",
       "\n",
       "  ltable_Artist_Name                          ltable_Album_Name  \\\n",
       "0    Little Big Town                                Pain Killer   \n",
       "1     Ellie Goulding            Halcyon Days ( Deluxe Edition )   \n",
       "2        Wiz Khalifa                            Blacc Hollywood   \n",
       "3           Flo Rida  Turn Around ( 5,4,3,2,1 ) - Deluxe Single   \n",
       "4         The Weeknd                                    Trilogy   \n",
       "\n",
       "                                        ltable_Genre ltable_Price  \\\n",
       "0  Country , Music , Honky Tonk , Contemporary Co...   Album Only   \n",
       "1                         Pop , Music , Dance , Rock   Album Only   \n",
       "2  Hip-Hop/Rap , Music , Rap , East Coast Rap , H...   Album Only   \n",
       "3  Hip-Hop/Rap , Music , Electronic , Rap , Dirty...   Album Only   \n",
       "4       R&B / Soul , Music , Rock , Contemporary R&B   Album Only   \n",
       "\n",
       "                                    ltable_CopyRight ltable_Time  \\\n",
       "0  2014 Little Big Town , LLC Under exclusive lic...        3:33   \n",
       "1                      ‰ ãÑ 2013 Polydor Ltd. ( UK )        3:24   \n",
       "2  2014 Atlantic Recording Corporation for the Un...        4:15   \n",
       "3  ‰ ãÑ 2010 Atlantic Recording Corporation for t...        3:35   \n",
       "4                          ‰ ãÑ 2012 XO & co. , Inc.        8:07   \n",
       "\n",
       "  ltable_Released                                 rtable_Song_Name  \\\n",
       "0       21-Oct-14                                  Silver And Gold   \n",
       "1       27-Aug-13                                          Halcyon   \n",
       "2       19-Aug-14  True Colors ( feat . Nicki Minaj ) [ Explicit ]   \n",
       "3       16-Nov-10                        Turn Around ( 5,4,3,2,1 )   \n",
       "4       13-Nov-12      Gone ( Album Version ( Edited ) ) [ Clean ]   \n",
       "\n",
       "  rtable_Artist_Name                                  rtable_Album_Name  \\\n",
       "0    Little Big Town                                        Pain Killer   \n",
       "1     Ellie Goulding                                            Halcyon   \n",
       "2        Wiz Khalifa                       Blacc Hollywood [ Explicit ]   \n",
       "3           Flo Rida  Only One Flo ( Part 1 ) [ Deluxe ] [ + Video ]...   \n",
       "4         The Weeknd               Trilogy ( Edited Version ) [ Clean ]   \n",
       "\n",
       "    rtable_Genre rtable_Price  \\\n",
       "0        Country       $ 1.29   \n",
       "1            Pop       $ 1.29   \n",
       "2  Rap & Hip-Hop       $ 1.29   \n",
       "3  Rap & Hip-Hop       $ 1.29   \n",
       "4            R&B       $ 1.29   \n",
       "\n",
       "                                    rtable_CopyRight rtable_Time  \\\n",
       "0  ( C ) 2014 Little Big Town LLC Under exclusive...        3:31   \n",
       "1                     ( C ) 2013 Polydor Ltd. ( UK )        3:24   \n",
       "2  2014 Atlantic Recording Corporation for the Un...        4:15   \n",
       "3  2010 Atlantic Recording Corporation for the Un...        3:20   \n",
       "4                         ( C ) 2013 XO & co. , Inc.        8:07   \n",
       "\n",
       "       rtable_Released   id  \n",
       "0    October 21 , 2014  102  \n",
       "1     August 27 , 2013  308  \n",
       "2     August 19 , 2014   35  \n",
       "3   November 26 , 2010    9  \n",
       "4  September 18 , 2015  169  "
      ]
     },
     "execution_count": 10,
     "metadata": {},
     "output_type": "execute_result"
    }
   ],
   "source": [
    "alt = pd.read_csv('temp/altered_test0.csv')\n",
    "alt.head()"
   ]
  },
  {
   "cell_type": "markdown",
   "metadata": {},
   "source": [
    "## Compare nearest neighbours with values distribution"
   ]
  },
  {
   "cell_type": "code",
   "execution_count": 1,
   "metadata": {},
   "outputs": [],
   "source": [
    "## this function return occurrences in negatives and positives samples\n",
    "def analyze_valueDistribution(dataset,value,column_provenance):\n",
    "    dataset_pos = dataset[dataset['label']==1]\n",
    "    dataset_neg = dataset[dataset['label']==0]\n",
    "    posProvenanceDist = dict(dataset_pos[column_provenance].value_counts())\n",
    "    negProvenanceDist = dict(dataset_neg[column_provenance].value_counts())\n",
    "    if value in posProvenanceDist and value in negProvenanceDist:\n",
    "        return negProvenanceDist[value],posProvenanceDist[value]\n",
    "    elif value in negProvenanceDist:\n",
    "        return negProvenanceDist[value],0\n",
    "    elif value in posProvenanceDist:\n",
    "        return 0,posProvenanceDist[value]\n",
    "    else:\n",
    "        return 0,0"
   ]
  },
  {
   "cell_type": "code",
   "execution_count": 9,
   "metadata": {},
   "outputs": [
    {
     "data": {
      "text/plain": [
       "(20, 2)"
      ]
     },
     "execution_count": 9,
     "metadata": {},
     "output_type": "execute_result"
    }
   ],
   "source": [
    "train = pd.read_csv('../../Structured/itunes-amazon/merged_train.csv')\n",
    "analyze_valueDistribution(train,\"Album Only\",\"ltable_Price\")"
   ]
  },
  {
   "cell_type": "code",
   "execution_count": 10,
   "metadata": {},
   "outputs": [],
   "source": [
    "testpos_nn = pd.read_csv(\"experiments-results/exp3/testpos_nn.csv\")\n",
    "allNeg = pd.read_csv(\"../../Structured/itunes-amazon/negatives.csv\")\n",
    "nnValues = pd.merge(testpos_nn,allNeg,left_on=\"Album_Name\",right_on=\"id\")"
   ]
  },
  {
   "cell_type": "code",
   "execution_count": 20,
   "metadata": {},
   "outputs": [],
   "source": [
    "def analyzeNearestNeighbours(training_set,nn_df,attribute,left_prefix='ltable_',right_prefix='rtable_'):\n",
    "    nn_df[\"attribute\"] = nn_df[left_prefix+attribute] + \"|\" +nn_df[right_prefix+attribute]\n",
    "    attributeValues = list(nn_df[\"attribute\"].value_counts().keys())\n",
    "    for value in attributeValues:\n",
    "        l_r_val = value.split(\"|\")\n",
    "        print (l_r_val[0])\n",
    "        print (l_r_val[1])\n",
    "        print (analyze_valueDistribution(training_set,l_r_val[0],left_prefix+attribute))\n",
    "        print(analyze_valueDistribution(training_set,l_r_val[1],right_prefix+attribute))"
   ]
  },
  {
   "cell_type": "code",
   "execution_count": 23,
   "metadata": {},
   "outputs": [
    {
     "name": "stdout",
     "output_type": "stream",
     "text": [
      "$ 1.29\n",
      "$ 1.29\n",
      "(177, 60)\n",
      "(198, 63)\n",
      "$ 0.99\n",
      "$ 1.29\n",
      "(20, 13)\n",
      "(198, 63)\n",
      "$ 1.29\n",
      "$ 0.99\n",
      "(177, 60)\n",
      "(38, 14)\n"
     ]
    }
   ],
   "source": [
    "analyzeNearestNeighbours(train,nnValues,\"Price\")"
   ]
  },
  {
   "cell_type": "code",
   "execution_count": null,
   "metadata": {},
   "outputs": [],
   "source": []
  }
 ],
 "metadata": {
  "kernelspec": {
   "display_name": "Python 3",
   "language": "python",
   "name": "python3"
  },
  "language_info": {
   "codemirror_mode": {
    "name": "ipython",
    "version": 3
   },
   "file_extension": ".py",
   "mimetype": "text/x-python",
   "name": "python",
   "nbconvert_exporter": "python",
   "pygments_lexer": "ipython3",
   "version": "3.6.8"
  }
 },
 "nbformat": 4,
 "nbformat_minor": 2
}

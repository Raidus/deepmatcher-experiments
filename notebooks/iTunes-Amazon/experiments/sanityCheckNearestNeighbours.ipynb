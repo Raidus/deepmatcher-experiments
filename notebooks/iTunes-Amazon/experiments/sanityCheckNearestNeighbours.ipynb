{
 "cells": [
  {
   "cell_type": "code",
   "execution_count": 1,
   "metadata": {},
   "outputs": [],
   "source": [
    "%load_ext autoreload\n",
    "%autoreload 2"
   ]
  },
  {
   "cell_type": "code",
   "execution_count": 3,
   "metadata": {},
   "outputs": [],
   "source": [
    "import sys\n",
    "sys.path.append('../..')"
   ]
  },
  {
   "cell_type": "code",
   "execution_count": 19,
   "metadata": {},
   "outputs": [],
   "source": [
    "import deepmatcher as dm\n",
    "from utilities_functions.intermediate_layer_extraction import return_layer_input_output,return_layer_input\n",
    "import torch\n",
    "import pandas as pd\n",
    "from tqdm import tqdm"
   ]
  },
  {
   "cell_type": "code",
   "execution_count": 7,
   "metadata": {},
   "outputs": [],
   "source": [
    "hybrid_model = dm.MatchingModel(attr_summarizer='hybrid')\n",
    "hybrid_model.load_state('../../models/hybrid1.pth')\n",
    "#hybrid_model = hybrid_model.cuda()"
   ]
  },
  {
   "cell_type": "code",
   "execution_count": 8,
   "metadata": {},
   "outputs": [],
   "source": [
    "attributes = ['Song_Name','Artist_Name','Album_Name','Genre','Price','CopyRight','Time','Released']"
   ]
  },
  {
   "cell_type": "code",
   "execution_count": 11,
   "metadata": {},
   "outputs": [],
   "source": [
    "neg_classifier_inputs,neg_ids = return_layer_input('../../Structured/itunes-amazon'\n",
    "                                                                         ,'negatives',128,hybrid_model,\n",
    "                                                                        hybrid_model.classifier,device=-1)"
   ]
  },
  {
   "cell_type": "code",
   "execution_count": 12,
   "metadata": {},
   "outputs": [],
   "source": [
    "pos_classifier_inputs,pos_ids = return_layer_input('../../Structured/itunes-amazon/',\n",
    "                                                                       'positives',128,hybrid_model,\n",
    "                                                                       hybrid_model.classifier,device=-1)"
   ]
  },
  {
   "cell_type": "code",
   "execution_count": 14,
   "metadata": {},
   "outputs": [],
   "source": [
    "hybrid_model = hybrid_model.cuda()"
   ]
  },
  {
   "cell_type": "code",
   "execution_count": 20,
   "metadata": {},
   "outputs": [
    {
     "name": "stderr",
     "output_type": "stream",
     "text": [
      "  2%|▏         | 2/128 [00:00<00:07, 16.79it/s]"
     ]
    },
    {
     "name": "stdout",
     "output_type": "stream",
     "text": [
      "Processing sample number 0\n",
      "Processing sample number 1\n",
      "Processing sample number 2\n",
      "Processing sample number 3\n"
     ]
    },
    {
     "name": "stderr",
     "output_type": "stream",
     "text": [
      "  5%|▌         | 7/128 [00:00<00:06, 17.65it/s]"
     ]
    },
    {
     "name": "stdout",
     "output_type": "stream",
     "text": [
      "Processing sample number 4\n",
      "Processing sample number 5\n",
      "Processing sample number 6\n",
      "Processing sample number 7\n"
     ]
    },
    {
     "name": "stderr",
     "output_type": "stream",
     "text": [
      "  9%|▊         | 11/128 [00:00<00:06, 18.32it/s]"
     ]
    },
    {
     "name": "stdout",
     "output_type": "stream",
     "text": [
      "Processing sample number 8\n",
      "Processing sample number 9\n",
      "Processing sample number 10\n",
      "Processing sample number 11\n"
     ]
    },
    {
     "name": "stderr",
     "output_type": "stream",
     "text": [
      "\r",
      " 10%|█         | 13/128 [00:00<00:06, 18.09it/s]"
     ]
    },
    {
     "name": "stdout",
     "output_type": "stream",
     "text": [
      "Processing sample number 12\n",
      "Processing sample number 13\n",
      "Processing sample number 14\n",
      "Processing sample number 15\n"
     ]
    },
    {
     "name": "stderr",
     "output_type": "stream",
     "text": [
      " 14%|█▍        | 18/128 [00:00<00:05, 18.87it/s]"
     ]
    },
    {
     "name": "stdout",
     "output_type": "stream",
     "text": [
      "Processing sample number 16\n",
      "Processing sample number 17\n",
      "Processing sample number 18\n",
      "Processing sample number 19\n",
      "Processing sample number 20\n",
      "Processing sample number 21\n"
     ]
    },
    {
     "name": "stderr",
     "output_type": "stream",
     "text": [
      " 20%|█▉        | 25/128 [00:01<00:04, 20.68it/s]"
     ]
    },
    {
     "name": "stdout",
     "output_type": "stream",
     "text": [
      "Processing sample number 22\n",
      "Processing sample number 23\n",
      "Processing sample number 24\n",
      "Processing sample number 25\n"
     ]
    },
    {
     "name": "stderr",
     "output_type": "stream",
     "text": [
      "\r",
      " 22%|██▏       | 28/128 [00:01<00:04, 21.71it/s]"
     ]
    },
    {
     "name": "stdout",
     "output_type": "stream",
     "text": [
      "Processing sample number 26\n",
      "Processing sample number 27\n",
      "Processing sample number 28\n",
      "Processing sample number 29\n",
      "Processing sample number 30\n"
     ]
    },
    {
     "name": "stderr",
     "output_type": "stream",
     "text": [
      " 27%|██▋       | 34/128 [00:01<00:04, 21.19it/s]"
     ]
    },
    {
     "name": "stdout",
     "output_type": "stream",
     "text": [
      "Processing sample number 31\n",
      "Processing sample number 32\n",
      "Processing sample number 33\n",
      "Processing sample number 34\n"
     ]
    },
    {
     "name": "stderr",
     "output_type": "stream",
     "text": [
      "\r",
      " 29%|██▉       | 37/128 [00:01<00:04, 19.75it/s]"
     ]
    },
    {
     "name": "stdout",
     "output_type": "stream",
     "text": [
      "Processing sample number 35\n",
      "Processing sample number 36\n",
      "Processing sample number 37\n",
      "Processing sample number 38\n",
      "Processing sample number 39\n"
     ]
    },
    {
     "name": "stderr",
     "output_type": "stream",
     "text": [
      " 34%|███▎      | 43/128 [00:02<00:03, 21.31it/s]"
     ]
    },
    {
     "name": "stdout",
     "output_type": "stream",
     "text": [
      "Processing sample number 40\n",
      "Processing sample number 41\n",
      "Processing sample number 42\n",
      "Processing sample number 43\n",
      "Processing sample number 44\n"
     ]
    },
    {
     "name": "stderr",
     "output_type": "stream",
     "text": [
      "\r",
      " 36%|███▌      | 46/128 [00:02<00:04, 19.87it/s]"
     ]
    },
    {
     "name": "stdout",
     "output_type": "stream",
     "text": [
      "Processing sample number 45\n",
      "Processing sample number 46\n",
      "Processing sample number 47\n",
      "Processing sample number 48\n"
     ]
    },
    {
     "name": "stderr",
     "output_type": "stream",
     "text": [
      " 40%|███▉      | 51/128 [00:02<00:04, 17.90it/s]"
     ]
    },
    {
     "name": "stdout",
     "output_type": "stream",
     "text": [
      "Processing sample number 49\n",
      "Processing sample number 50\n",
      "Processing sample number 51\n",
      "Processing sample number 52\n"
     ]
    },
    {
     "name": "stderr",
     "output_type": "stream",
     "text": [
      " 44%|████▍     | 56/128 [00:02<00:04, 17.69it/s]"
     ]
    },
    {
     "name": "stdout",
     "output_type": "stream",
     "text": [
      "Processing sample number 53\n",
      "Processing sample number 54\n",
      "Processing sample number 55\n",
      "Processing sample number 56\n"
     ]
    },
    {
     "name": "stderr",
     "output_type": "stream",
     "text": [
      "\r",
      " 47%|████▋     | 60/128 [00:02<00:03, 20.54it/s]"
     ]
    },
    {
     "name": "stdout",
     "output_type": "stream",
     "text": [
      "Processing sample number 57\n",
      "Processing sample number 58\n",
      "Processing sample number 59\n",
      "Processing sample number 60\n",
      "Processing sample number 61\n"
     ]
    },
    {
     "name": "stderr",
     "output_type": "stream",
     "text": [
      " 52%|█████▏    | 66/128 [00:03<00:02, 21.14it/s]"
     ]
    },
    {
     "name": "stdout",
     "output_type": "stream",
     "text": [
      "Processing sample number 62\n",
      "Processing sample number 63\n",
      "Processing sample number 64\n",
      "Processing sample number 65\n",
      "Processing sample number 66\n"
     ]
    },
    {
     "name": "stderr",
     "output_type": "stream",
     "text": [
      "\r",
      " 54%|█████▍    | 69/128 [00:03<00:02, 20.59it/s]"
     ]
    },
    {
     "name": "stdout",
     "output_type": "stream",
     "text": [
      "Processing sample number 67\n",
      "Processing sample number 68\n",
      "Processing sample number 69\n",
      "Processing sample number 70\n",
      "Processing sample number 71\n"
     ]
    },
    {
     "name": "stderr",
     "output_type": "stream",
     "text": [
      " 59%|█████▉    | 76/128 [00:03<00:02, 22.93it/s]"
     ]
    },
    {
     "name": "stdout",
     "output_type": "stream",
     "text": [
      "Processing sample number 72\n",
      "Processing sample number 73\n",
      "Processing sample number 74\n",
      "Processing sample number 75\n",
      "Processing sample number 76\n"
     ]
    },
    {
     "name": "stderr",
     "output_type": "stream",
     "text": [
      " 64%|██████▍   | 82/128 [00:03<00:01, 23.89it/s]"
     ]
    },
    {
     "name": "stdout",
     "output_type": "stream",
     "text": [
      "Processing sample number 77\n",
      "Processing sample number 78\n",
      "Processing sample number 79\n",
      "Processing sample number 80\n",
      "Processing sample number 81\n",
      "Processing sample number 82\n"
     ]
    },
    {
     "name": "stderr",
     "output_type": "stream",
     "text": [
      "\r",
      " 66%|██████▋   | 85/128 [00:04<00:01, 22.20it/s]"
     ]
    },
    {
     "name": "stdout",
     "output_type": "stream",
     "text": [
      "Processing sample number 83\n",
      "Processing sample number 84\n",
      "Processing sample number 85\n",
      "Processing sample number 86\n"
     ]
    },
    {
     "name": "stderr",
     "output_type": "stream",
     "text": [
      " 71%|███████   | 91/128 [00:04<00:01, 21.08it/s]"
     ]
    },
    {
     "name": "stdout",
     "output_type": "stream",
     "text": [
      "Processing sample number 87\n",
      "Processing sample number 88\n",
      "Processing sample number 89\n",
      "Processing sample number 90\n",
      "Processing sample number 91\n"
     ]
    },
    {
     "name": "stderr",
     "output_type": "stream",
     "text": [
      "\r",
      " 73%|███████▎  | 94/128 [00:04<00:01, 22.95it/s]"
     ]
    },
    {
     "name": "stdout",
     "output_type": "stream",
     "text": [
      "Processing sample number 92\n",
      "Processing sample number 93\n",
      "Processing sample number 94\n",
      "Processing sample number 95\n",
      "Processing sample number 96\n"
     ]
    },
    {
     "name": "stderr",
     "output_type": "stream",
     "text": [
      " 78%|███████▊  | 100/128 [00:04<00:01, 19.73it/s]"
     ]
    },
    {
     "name": "stdout",
     "output_type": "stream",
     "text": [
      "Processing sample number 97\n",
      "Processing sample number 98\n",
      "Processing sample number 99\n",
      "Processing sample number 100\n"
     ]
    },
    {
     "name": "stderr",
     "output_type": "stream",
     "text": [
      "\r",
      " 80%|████████  | 103/128 [00:04<00:01, 19.81it/s]"
     ]
    },
    {
     "name": "stdout",
     "output_type": "stream",
     "text": [
      "Processing sample number 101\n",
      "Processing sample number 102\n",
      "Processing sample number 103\n",
      "Processing sample number 104\n",
      "Processing sample number 105\n"
     ]
    },
    {
     "name": "stderr",
     "output_type": "stream",
     "text": [
      " 85%|████████▌ | 109/128 [00:05<00:01, 18.41it/s]"
     ]
    },
    {
     "name": "stdout",
     "output_type": "stream",
     "text": [
      "Processing sample number 106\n",
      "Processing sample number 107\n",
      "Processing sample number 108\n",
      "Processing sample number 109\n"
     ]
    },
    {
     "name": "stderr",
     "output_type": "stream",
     "text": [
      "\r",
      " 87%|████████▋ | 111/128 [00:05<00:00, 18.10it/s]"
     ]
    },
    {
     "name": "stdout",
     "output_type": "stream",
     "text": [
      "Processing sample number 110\n",
      "Processing sample number 111\n",
      "Processing sample number 112\n",
      "Processing sample number 113\n",
      "Processing sample number 114\n"
     ]
    },
    {
     "name": "stderr",
     "output_type": "stream",
     "text": [
      " 92%|█████████▏| 118/128 [00:05<00:00, 19.14it/s]"
     ]
    },
    {
     "name": "stdout",
     "output_type": "stream",
     "text": [
      "Processing sample number 115\n",
      "Processing sample number 116\n",
      "Processing sample number 117\n",
      "Processing sample number 118\n"
     ]
    },
    {
     "name": "stderr",
     "output_type": "stream",
     "text": [
      " 96%|█████████▌| 123/128 [00:06<00:00, 20.05it/s]"
     ]
    },
    {
     "name": "stdout",
     "output_type": "stream",
     "text": [
      "Processing sample number 119\n",
      "Processing sample number 120\n",
      "Processing sample number 121\n",
      "Processing sample number 122\n",
      "Processing sample number 123\n"
     ]
    },
    {
     "name": "stderr",
     "output_type": "stream",
     "text": [
      "\r",
      " 98%|█████████▊| 126/128 [00:06<00:00, 18.89it/s]"
     ]
    },
    {
     "name": "stdout",
     "output_type": "stream",
     "text": [
      "Processing sample number 124\n",
      "Processing sample number 125\n",
      "Processing sample number 126\n",
      "Processing sample number 127\n"
     ]
    },
    {
     "name": "stderr",
     "output_type": "stream",
     "text": [
      "100%|██████████| 128/128 [00:06<00:00, 20.39it/s]\n",
      " 13%|█▎        | 3/23 [00:00<00:00, 22.50it/s]"
     ]
    },
    {
     "name": "stdout",
     "output_type": "stream",
     "text": [
      "Processing sample number 128\n",
      "Processing sample number 129\n",
      "Processing sample number 130\n",
      "Processing sample number 131\n",
      "Processing sample number 132\n"
     ]
    },
    {
     "name": "stderr",
     "output_type": "stream",
     "text": [
      " 30%|███       | 7/23 [00:00<00:00, 19.22it/s]"
     ]
    },
    {
     "name": "stdout",
     "output_type": "stream",
     "text": [
      "Processing sample number 133\n",
      "Processing sample number 134\n",
      "Processing sample number 135\n",
      "Processing sample number 136\n"
     ]
    },
    {
     "name": "stderr",
     "output_type": "stream",
     "text": [
      " 52%|█████▏    | 12/23 [00:00<00:00, 19.00it/s]"
     ]
    },
    {
     "name": "stdout",
     "output_type": "stream",
     "text": [
      "Processing sample number 137\n",
      "Processing sample number 138\n",
      "Processing sample number 139\n",
      "Processing sample number 140\n",
      "Processing sample number 141\n"
     ]
    },
    {
     "name": "stderr",
     "output_type": "stream",
     "text": [
      " 70%|██████▉   | 16/23 [00:00<00:00, 17.44it/s]"
     ]
    },
    {
     "name": "stdout",
     "output_type": "stream",
     "text": [
      "Processing sample number 142\n",
      "Processing sample number 143\n",
      "Processing sample number 144\n",
      "Processing sample number 145\n"
     ]
    },
    {
     "name": "stderr",
     "output_type": "stream",
     "text": [
      " 87%|████████▋ | 20/23 [00:01<00:00, 16.95it/s]"
     ]
    },
    {
     "name": "stdout",
     "output_type": "stream",
     "text": [
      "Processing sample number 146\n",
      "Processing sample number 147\n",
      "Processing sample number 148\n",
      "Processing sample number 149\n"
     ]
    },
    {
     "name": "stderr",
     "output_type": "stream",
     "text": [
      "100%|██████████| 23/23 [00:01<00:00, 17.74it/s]\n",
      "  2%|▏         | 3/128 [00:00<00:05, 23.21it/s]"
     ]
    },
    {
     "name": "stdout",
     "output_type": "stream",
     "text": [
      "Processing sample number 150\n",
      "Processing sample number 151\n",
      "Processing sample number 152\n",
      "Processing sample number 153\n",
      "Processing sample number 154\n"
     ]
    },
    {
     "name": "stderr",
     "output_type": "stream",
     "text": [
      "\r",
      "  5%|▍         | 6/128 [00:00<00:05, 21.94it/s]"
     ]
    },
    {
     "name": "stdout",
     "output_type": "stream",
     "text": [
      "Processing sample number 155\n",
      "Processing sample number 156\n",
      "Processing sample number 157\n",
      "Processing sample number 158\n",
      "Processing sample number 159\n"
     ]
    },
    {
     "name": "stderr",
     "output_type": "stream",
     "text": [
      "  9%|▉         | 12/128 [00:00<00:05, 21.86it/s]"
     ]
    },
    {
     "name": "stdout",
     "output_type": "stream",
     "text": [
      "Processing sample number 160\n",
      "Processing sample number 161\n",
      "Processing sample number 162\n",
      "Processing sample number 163\n"
     ]
    },
    {
     "name": "stderr",
     "output_type": "stream",
     "text": [
      " 13%|█▎        | 17/128 [00:00<00:05, 21.34it/s]"
     ]
    },
    {
     "name": "stdout",
     "output_type": "stream",
     "text": [
      "Processing sample number 164\n",
      "Processing sample number 165\n",
      "Processing sample number 166\n",
      "Processing sample number 167\n",
      "Processing sample number 168\n"
     ]
    },
    {
     "name": "stderr",
     "output_type": "stream",
     "text": [
      "\r",
      " 16%|█▌        | 20/128 [00:00<00:05, 20.77it/s]"
     ]
    },
    {
     "name": "stdout",
     "output_type": "stream",
     "text": [
      "Processing sample number 169\n",
      "Processing sample number 170\n",
      "Processing sample number 171\n",
      "Processing sample number 172\n"
     ]
    },
    {
     "name": "stderr",
     "output_type": "stream",
     "text": [
      " 20%|█▉        | 25/128 [00:01<00:05, 19.65it/s]"
     ]
    },
    {
     "name": "stdout",
     "output_type": "stream",
     "text": [
      "Processing sample number 173\n",
      "Processing sample number 174\n",
      "Processing sample number 175\n",
      "Processing sample number 176\n",
      "Processing sample number 177\n"
     ]
    },
    {
     "name": "stderr",
     "output_type": "stream",
     "text": [
      " 23%|██▎       | 29/128 [00:01<00:05, 18.60it/s]"
     ]
    },
    {
     "name": "stdout",
     "output_type": "stream",
     "text": [
      "Processing sample number 178\n",
      "Processing sample number 179\n",
      "Processing sample number 180\n",
      "Processing sample number 181\n"
     ]
    },
    {
     "name": "stderr",
     "output_type": "stream",
     "text": [
      " 27%|██▋       | 34/128 [00:01<00:05, 17.43it/s]"
     ]
    },
    {
     "name": "stdout",
     "output_type": "stream",
     "text": [
      "Processing sample number 182\n",
      "Processing sample number 183\n",
      "Processing sample number 184\n",
      "Processing sample number 185\n"
     ]
    },
    {
     "name": "stderr",
     "output_type": "stream",
     "text": [
      " 30%|███       | 39/128 [00:01<00:04, 17.90it/s]"
     ]
    },
    {
     "name": "stdout",
     "output_type": "stream",
     "text": [
      "Processing sample number 186\n",
      "Processing sample number 187\n",
      "Processing sample number 188\n",
      "Processing sample number 189\n",
      "Processing sample number 190\n"
     ]
    },
    {
     "name": "stderr",
     "output_type": "stream",
     "text": [
      " 34%|███▍      | 44/128 [00:02<00:04, 20.47it/s]"
     ]
    },
    {
     "name": "stdout",
     "output_type": "stream",
     "text": [
      "Processing sample number 191\n",
      "Processing sample number 192\n",
      "Processing sample number 193\n",
      "Processing sample number 194\n",
      "Processing sample number 195\n"
     ]
    },
    {
     "name": "stderr",
     "output_type": "stream",
     "text": [
      "\r",
      " 37%|███▋      | 47/128 [00:02<00:04, 18.80it/s]"
     ]
    },
    {
     "name": "stdout",
     "output_type": "stream",
     "text": [
      "Processing sample number 196\n",
      "Processing sample number 197\n",
      "Processing sample number 198\n",
      "Processing sample number 199\n"
     ]
    },
    {
     "name": "stderr",
     "output_type": "stream",
     "text": [
      " 41%|████      | 52/128 [00:02<00:04, 17.93it/s]"
     ]
    },
    {
     "name": "stdout",
     "output_type": "stream",
     "text": [
      "Processing sample number 200\n",
      "Processing sample number 201\n",
      "Processing sample number 202\n",
      "Processing sample number 203\n"
     ]
    },
    {
     "name": "stderr",
     "output_type": "stream",
     "text": [
      " 44%|████▍     | 56/128 [00:02<00:04, 16.30it/s]"
     ]
    },
    {
     "name": "stdout",
     "output_type": "stream",
     "text": [
      "Processing sample number 204\n",
      "Processing sample number 205\n",
      "Processing sample number 206\n",
      "Processing sample number 207\n"
     ]
    },
    {
     "name": "stderr",
     "output_type": "stream",
     "text": [
      " 47%|████▋     | 60/128 [00:03<00:04, 16.38it/s]"
     ]
    },
    {
     "name": "stdout",
     "output_type": "stream",
     "text": [
      "Processing sample number 208\n",
      "Processing sample number 209\n",
      "Processing sample number 210\n",
      "Processing sample number 211\n"
     ]
    },
    {
     "name": "stderr",
     "output_type": "stream",
     "text": [
      " 50%|█████     | 64/128 [00:03<00:04, 15.77it/s]"
     ]
    },
    {
     "name": "stdout",
     "output_type": "stream",
     "text": [
      "Processing sample number 212\n",
      "Processing sample number 213\n",
      "Processing sample number 214\n",
      "Processing sample number 215\n"
     ]
    },
    {
     "name": "stderr",
     "output_type": "stream",
     "text": [
      " 53%|█████▎    | 68/128 [00:03<00:03, 16.71it/s]"
     ]
    },
    {
     "name": "stdout",
     "output_type": "stream",
     "text": [
      "Processing sample number 216\n",
      "Processing sample number 217\n",
      "Processing sample number 218\n",
      "Processing sample number 219\n"
     ]
    },
    {
     "name": "stderr",
     "output_type": "stream",
     "text": [
      " 57%|█████▋    | 73/128 [00:03<00:03, 17.91it/s]"
     ]
    },
    {
     "name": "stdout",
     "output_type": "stream",
     "text": [
      "Processing sample number 220\n",
      "Processing sample number 221\n",
      "Processing sample number 222\n",
      "Processing sample number 223\n",
      "Processing sample number 224\n"
     ]
    },
    {
     "name": "stderr",
     "output_type": "stream",
     "text": [
      " 60%|██████    | 77/128 [00:04<00:02, 17.56it/s]"
     ]
    },
    {
     "name": "stdout",
     "output_type": "stream",
     "text": [
      "Processing sample number 225\n",
      "Processing sample number 226\n",
      "Processing sample number 227\n",
      "Processing sample number 228\n"
     ]
    },
    {
     "name": "stderr",
     "output_type": "stream",
     "text": [
      " 64%|██████▍   | 82/128 [00:04<00:02, 18.52it/s]"
     ]
    },
    {
     "name": "stdout",
     "output_type": "stream",
     "text": [
      "Processing sample number 229\n",
      "Processing sample number 230\n",
      "Processing sample number 231\n",
      "Processing sample number 232\n",
      "Processing sample number 233\n"
     ]
    },
    {
     "name": "stderr",
     "output_type": "stream",
     "text": [
      " 69%|██████▉   | 88/128 [00:04<00:01, 21.89it/s]"
     ]
    },
    {
     "name": "stdout",
     "output_type": "stream",
     "text": [
      "Processing sample number 234\n",
      "Processing sample number 235\n",
      "Processing sample number 236\n",
      "Processing sample number 237\n",
      "Processing sample number 238\n",
      "Processing sample number 239\n"
     ]
    },
    {
     "name": "stderr",
     "output_type": "stream",
     "text": [
      "\r",
      " 71%|███████   | 91/128 [00:04<00:01, 20.57it/s]"
     ]
    },
    {
     "name": "stdout",
     "output_type": "stream",
     "text": [
      "Processing sample number 240\n",
      "Processing sample number 241\n",
      "Processing sample number 242\n",
      "Processing sample number 243\n"
     ]
    },
    {
     "name": "stderr",
     "output_type": "stream",
     "text": [
      "\r",
      " 73%|███████▎  | 94/128 [00:04<00:01, 19.74it/s]"
     ]
    },
    {
     "name": "stdout",
     "output_type": "stream",
     "text": [
      "Processing sample number 244\n",
      "Processing sample number 245\n",
      "Processing sample number 246\n",
      "Processing sample number 247\n"
     ]
    },
    {
     "name": "stderr",
     "output_type": "stream",
     "text": [
      " 78%|███████▊  | 100/128 [00:05<00:01, 19.21it/s]"
     ]
    },
    {
     "name": "stdout",
     "output_type": "stream",
     "text": [
      "Processing sample number 248\n",
      "Processing sample number 249\n",
      "Processing sample number 250\n",
      "Processing sample number 251\n"
     ]
    },
    {
     "name": "stderr",
     "output_type": "stream",
     "text": [
      " 81%|████████▏ | 104/128 [00:05<00:01, 18.30it/s]"
     ]
    },
    {
     "name": "stdout",
     "output_type": "stream",
     "text": [
      "Processing sample number 252\n",
      "Processing sample number 253\n",
      "Processing sample number 254\n",
      "Processing sample number 255\n"
     ]
    },
    {
     "name": "stderr",
     "output_type": "stream",
     "text": [
      "\r",
      " 83%|████████▎ | 106/128 [00:05<00:01, 17.13it/s]"
     ]
    },
    {
     "name": "stdout",
     "output_type": "stream",
     "text": [
      "Processing sample number 256\n",
      "Processing sample number 257\n",
      "Processing sample number 258\n",
      "Processing sample number 259\n"
     ]
    },
    {
     "name": "stderr",
     "output_type": "stream",
     "text": [
      " 87%|████████▋ | 111/128 [00:05<00:00, 18.29it/s]"
     ]
    },
    {
     "name": "stdout",
     "output_type": "stream",
     "text": [
      "Processing sample number 260\n",
      "Processing sample number 261\n",
      "Processing sample number 262\n",
      "Processing sample number 263\n"
     ]
    },
    {
     "name": "stderr",
     "output_type": "stream",
     "text": [
      " 90%|████████▉ | 115/128 [00:06<00:00, 16.42it/s]"
     ]
    },
    {
     "name": "stdout",
     "output_type": "stream",
     "text": [
      "Processing sample number 264\n",
      "Processing sample number 265\n",
      "Processing sample number 266\n",
      "Processing sample number 267\n"
     ]
    },
    {
     "name": "stderr",
     "output_type": "stream",
     "text": [
      " 94%|█████████▍| 120/128 [00:06<00:00, 16.64it/s]"
     ]
    },
    {
     "name": "stdout",
     "output_type": "stream",
     "text": [
      "Processing sample number 268\n",
      "Processing sample number 269\n",
      "Processing sample number 270\n",
      "Processing sample number 271\n"
     ]
    },
    {
     "name": "stderr",
     "output_type": "stream",
     "text": [
      "\r",
      " 96%|█████████▌| 123/128 [00:06<00:00, 17.89it/s]"
     ]
    },
    {
     "name": "stdout",
     "output_type": "stream",
     "text": [
      "Processing sample number 272\n",
      "Processing sample number 273\n",
      "Processing sample number 274\n",
      "Processing sample number 275\n",
      "Processing sample number 276\n"
     ]
    },
    {
     "name": "stderr",
     "output_type": "stream",
     "text": [
      "100%|██████████| 128/128 [00:06<00:00, 18.81it/s]\n",
      "  2%|▏         | 2/128 [00:00<00:06, 18.10it/s]"
     ]
    },
    {
     "name": "stdout",
     "output_type": "stream",
     "text": [
      "Processing sample number 277\n",
      "Processing sample number 278\n",
      "Processing sample number 279\n",
      "Processing sample number 280\n",
      "Processing sample number 281\n",
      "Processing sample number 282\n"
     ]
    },
    {
     "name": "stderr",
     "output_type": "stream",
     "text": [
      "  5%|▌         | 7/128 [00:00<00:06, 17.36it/s]"
     ]
    },
    {
     "name": "stdout",
     "output_type": "stream",
     "text": [
      "Processing sample number 283\n",
      "Processing sample number 284\n",
      "Processing sample number 285\n",
      "Processing sample number 286\n"
     ]
    },
    {
     "name": "stderr",
     "output_type": "stream",
     "text": [
      "\r",
      "  8%|▊         | 10/128 [00:00<00:06, 18.75it/s]"
     ]
    },
    {
     "name": "stdout",
     "output_type": "stream",
     "text": [
      "Processing sample number 287\n",
      "Processing sample number 288\n",
      "Processing sample number 289\n",
      "Processing sample number 290\n"
     ]
    },
    {
     "name": "stderr",
     "output_type": "stream",
     "text": [
      " 12%|█▏        | 15/128 [00:00<00:06, 18.75it/s]"
     ]
    },
    {
     "name": "stdout",
     "output_type": "stream",
     "text": [
      "Processing sample number 291\n",
      "Processing sample number 292\n",
      "Processing sample number 293\n",
      "Processing sample number 294\n"
     ]
    },
    {
     "name": "stderr",
     "output_type": "stream",
     "text": [
      " 15%|█▍        | 19/128 [00:01<00:06, 16.94it/s]"
     ]
    },
    {
     "name": "stdout",
     "output_type": "stream",
     "text": [
      "Processing sample number 295\n",
      "Processing sample number 296\n",
      "Processing sample number 297\n",
      "Processing sample number 298\n"
     ]
    },
    {
     "name": "stderr",
     "output_type": "stream",
     "text": [
      " 18%|█▊        | 23/128 [00:01<00:06, 16.11it/s]"
     ]
    },
    {
     "name": "stdout",
     "output_type": "stream",
     "text": [
      "Processing sample number 299\n",
      "Processing sample number 300\n",
      "Processing sample number 301\n",
      "Processing sample number 302\n"
     ]
    },
    {
     "name": "stderr",
     "output_type": "stream",
     "text": [
      " 22%|██▏       | 28/128 [00:01<00:05, 17.96it/s]"
     ]
    },
    {
     "name": "stdout",
     "output_type": "stream",
     "text": [
      "Processing sample number 303\n",
      "Processing sample number 304\n",
      "Processing sample number 305\n",
      "Processing sample number 306\n",
      "Processing sample number 307\n",
      "Processing sample number 308\n"
     ]
    },
    {
     "name": "stderr",
     "output_type": "stream",
     "text": [
      "\r",
      " 24%|██▍       | 31/128 [00:01<00:04, 19.71it/s]"
     ]
    },
    {
     "name": "stdout",
     "output_type": "stream",
     "text": [
      "Processing sample number 309\n",
      "Processing sample number 310\n",
      "Processing sample number 311\n",
      "Processing sample number 312\n"
     ]
    },
    {
     "name": "stderr",
     "output_type": "stream",
     "text": [
      " 29%|██▉       | 37/128 [00:01<00:04, 20.09it/s]"
     ]
    },
    {
     "name": "stdout",
     "output_type": "stream",
     "text": [
      "Processing sample number 313\n",
      "Processing sample number 314\n",
      "Processing sample number 315\n",
      "Processing sample number 316\n",
      "Processing sample number 317\n"
     ]
    },
    {
     "name": "stderr",
     "output_type": "stream",
     "text": [
      "\r",
      " 31%|███▏      | 40/128 [00:02<00:04, 20.17it/s]"
     ]
    },
    {
     "name": "stdout",
     "output_type": "stream",
     "text": [
      "Processing sample number 318\n",
      "Processing sample number 319\n",
      "Processing sample number 320\n",
      "Processing sample number 321\n"
     ]
    },
    {
     "name": "stderr",
     "output_type": "stream",
     "text": [
      " 35%|███▌      | 45/128 [00:02<00:04, 18.93it/s]"
     ]
    },
    {
     "name": "stdout",
     "output_type": "stream",
     "text": [
      "Processing sample number 322\n",
      "Processing sample number 323\n",
      "Processing sample number 324\n",
      "Processing sample number 325\n"
     ]
    },
    {
     "name": "stderr",
     "output_type": "stream",
     "text": [
      " 38%|███▊      | 49/128 [00:02<00:04, 16.28it/s]"
     ]
    },
    {
     "name": "stdout",
     "output_type": "stream",
     "text": [
      "Processing sample number 326\n",
      "Processing sample number 327\n",
      "Processing sample number 328\n"
     ]
    },
    {
     "name": "stderr",
     "output_type": "stream",
     "text": [
      " 41%|████▏     | 53/128 [00:02<00:04, 16.70it/s]"
     ]
    },
    {
     "name": "stdout",
     "output_type": "stream",
     "text": [
      "Processing sample number 329\n",
      "Processing sample number 330\n",
      "Processing sample number 331\n",
      "Processing sample number 332\n"
     ]
    },
    {
     "name": "stderr",
     "output_type": "stream",
     "text": [
      " 45%|████▌     | 58/128 [00:03<00:03, 17.77it/s]"
     ]
    },
    {
     "name": "stdout",
     "output_type": "stream",
     "text": [
      "Processing sample number 333\n",
      "Processing sample number 334\n",
      "Processing sample number 335\n",
      "Processing sample number 336\n",
      "Processing sample number 337\n"
     ]
    },
    {
     "name": "stderr",
     "output_type": "stream",
     "text": [
      " 49%|████▉     | 63/128 [00:03<00:03, 18.48it/s]"
     ]
    },
    {
     "name": "stdout",
     "output_type": "stream",
     "text": [
      "Processing sample number 338\n",
      "Processing sample number 339\n",
      "Processing sample number 340\n",
      "Processing sample number 341\n",
      "Processing sample number 342\n"
     ]
    },
    {
     "name": "stderr",
     "output_type": "stream",
     "text": [
      "\r",
      " 52%|█████▏    | 66/128 [00:03<00:03, 20.11it/s]"
     ]
    },
    {
     "name": "stdout",
     "output_type": "stream",
     "text": [
      "Processing sample number 343\n",
      "Processing sample number 344\n",
      "Processing sample number 345\n",
      "Processing sample number 346\n",
      "Processing sample number 347\n"
     ]
    },
    {
     "name": "stderr",
     "output_type": "stream",
     "text": [
      " 55%|█████▌    | 71/128 [00:03<00:03, 18.31it/s]"
     ]
    },
    {
     "name": "stdout",
     "output_type": "stream",
     "text": [
      "Processing sample number 348\n",
      "Processing sample number 349\n",
      "Processing sample number 350\n",
      "Processing sample number 351\n"
     ]
    },
    {
     "name": "stderr",
     "output_type": "stream",
     "text": [
      " 59%|█████▉    | 76/128 [00:04<00:02, 19.47it/s]"
     ]
    },
    {
     "name": "stdout",
     "output_type": "stream",
     "text": [
      "Processing sample number 352\n",
      "Processing sample number 353\n",
      "Processing sample number 354\n",
      "Processing sample number 355\n"
     ]
    },
    {
     "name": "stderr",
     "output_type": "stream",
     "text": [
      "\r",
      " 62%|██████▏   | 79/128 [00:04<00:02, 17.34it/s]"
     ]
    },
    {
     "name": "stdout",
     "output_type": "stream",
     "text": [
      "Processing sample number 356\n",
      "Processing sample number 357\n",
      "Processing sample number 358\n",
      "Processing sample number 359\n"
     ]
    },
    {
     "name": "stderr",
     "output_type": "stream",
     "text": [
      " 66%|██████▌   | 84/128 [00:04<00:02, 18.22it/s]"
     ]
    },
    {
     "name": "stdout",
     "output_type": "stream",
     "text": [
      "Processing sample number 360\n",
      "Processing sample number 361\n",
      "Processing sample number 362\n",
      "Processing sample number 363\n"
     ]
    },
    {
     "name": "stderr",
     "output_type": "stream",
     "text": [
      " 69%|██████▉   | 88/128 [00:04<00:02, 18.18it/s]"
     ]
    },
    {
     "name": "stdout",
     "output_type": "stream",
     "text": [
      "Processing sample number 364\n",
      "Processing sample number 365\n",
      "Processing sample number 366\n",
      "Processing sample number 367\n"
     ]
    },
    {
     "name": "stderr",
     "output_type": "stream",
     "text": [
      "\r",
      " 70%|███████   | 90/128 [00:04<00:02, 16.98it/s]"
     ]
    },
    {
     "name": "stdout",
     "output_type": "stream",
     "text": [
      "Processing sample number 368\n",
      "Processing sample number 369\n",
      "Processing sample number 370\n",
      "Processing sample number 371\n"
     ]
    },
    {
     "name": "stderr",
     "output_type": "stream",
     "text": [
      " 75%|███████▌  | 96/128 [00:05<00:01, 20.03it/s]"
     ]
    },
    {
     "name": "stdout",
     "output_type": "stream",
     "text": [
      "Processing sample number 372\n",
      "Processing sample number 373\n",
      "Processing sample number 374\n",
      "Processing sample number 375\n",
      "Processing sample number 376\n",
      "Processing sample number 377\n"
     ]
    },
    {
     "name": "stderr",
     "output_type": "stream",
     "text": [
      " 80%|███████▉  | 102/128 [00:05<00:01, 20.42it/s]"
     ]
    },
    {
     "name": "stdout",
     "output_type": "stream",
     "text": [
      "Processing sample number 378\n",
      "Processing sample number 379\n",
      "Processing sample number 380\n",
      "Processing sample number 381\n"
     ]
    },
    {
     "name": "stderr",
     "output_type": "stream",
     "text": [
      "\r",
      " 82%|████████▏ | 105/128 [00:05<00:01, 19.08it/s]"
     ]
    },
    {
     "name": "stdout",
     "output_type": "stream",
     "text": [
      "Processing sample number 382\n",
      "Processing sample number 383\n",
      "Processing sample number 384\n",
      "Processing sample number 385\n"
     ]
    },
    {
     "name": "stderr",
     "output_type": "stream",
     "text": [
      " 86%|████████▌ | 110/128 [00:05<00:00, 19.01it/s]"
     ]
    },
    {
     "name": "stdout",
     "output_type": "stream",
     "text": [
      "Processing sample number 386\n",
      "Processing sample number 387\n",
      "Processing sample number 388\n",
      "Processing sample number 389\n",
      "Processing sample number 390\n"
     ]
    },
    {
     "name": "stderr",
     "output_type": "stream",
     "text": [
      " 91%|█████████ | 116/128 [00:06<00:00, 20.67it/s]"
     ]
    },
    {
     "name": "stdout",
     "output_type": "stream",
     "text": [
      "Processing sample number 391\n",
      "Processing sample number 392\n",
      "Processing sample number 393\n",
      "Processing sample number 394\n",
      "Processing sample number 395\n",
      "Processing sample number 396\n"
     ]
    },
    {
     "name": "stderr",
     "output_type": "stream",
     "text": [
      " 95%|█████████▌| 122/128 [00:06<00:00, 21.33it/s]"
     ]
    },
    {
     "name": "stdout",
     "output_type": "stream",
     "text": [
      "Processing sample number 397\n",
      "Processing sample number 398\n",
      "Processing sample number 399\n",
      "Processing sample number 400\n",
      "Processing sample number 401\n"
     ]
    },
    {
     "name": "stderr",
     "output_type": "stream",
     "text": [
      "\r",
      " 98%|█████████▊| 125/128 [00:06<00:00, 19.28it/s]"
     ]
    },
    {
     "name": "stdout",
     "output_type": "stream",
     "text": [
      "Processing sample number 402\n",
      "Processing sample number 403\n",
      "Processing sample number 404\n",
      "Processing sample number 405\n"
     ]
    },
    {
     "name": "stderr",
     "output_type": "stream",
     "text": [
      "100%|██████████| 128/128 [00:06<00:00, 18.96it/s]"
     ]
    },
    {
     "name": "stdout",
     "output_type": "stream",
     "text": [
      "Processing sample number 406\n"
     ]
    },
    {
     "name": "stderr",
     "output_type": "stream",
     "text": [
      "\n"
     ]
    }
   ],
   "source": [
    "from utilities_functions.ri_calculator import find_smallest_variation_to_change\n",
    "current_sample = 0\n",
    "#each column of this matrix is related to a specific attribute\n",
    "negatives_ri_matrix = []\n",
    "for batch in neg_classifier_inputs:\n",
    "    for sample_index in tqdm(range(len(batch))):\n",
    "        print('Processing sample number {}'.format(current_sample))\n",
    "        current_sample_ris = list(map(lambda att: find_smallest_variation_to_change(hybrid_model.classifier,\n",
    "                                                                                    classifier_length=1200,\n",
    "                                                                                    attribute_length=150,\n",
    "                                                                                    input_matrix=batch,\n",
    "                                                                                    vector_index=sample_index,\n",
    "                                                                                    attributes=[attributes.index(att)]\n",
    "                                                                                    ,class_to_reach=1),attributes))\n",
    "        negatives_ri_matrix.append(current_sample_ris)\n",
    "        current_sample+=1"
   ]
  },
  {
   "cell_type": "code",
   "execution_count": 22,
   "metadata": {},
   "outputs": [
    {
     "data": {
      "text/plain": [
       "<matplotlib.axes._subplots.AxesSubplot at 0x7f0be45a1208>"
      ]
     },
     "execution_count": 22,
     "metadata": {},
     "output_type": "execute_result"
    },
    {
     "data": {
      "image/png": "[encoded data removed]",
      "text/plain": [
       "<Figure size 432x288 with 1 Axes>"
      ]
     },
     "metadata": {
      "needs_background": "light"
     },
     "output_type": "display_data"
    }
   ],
   "source": [
    "ri_norms_negative_samples = []\n",
    "for ri_list in negatives_ri_matrix:\n",
    "    ri_norms_negative_samples.append(list(map(lambda x:torch.norm(x).data[0],ri_list)))\n",
    "neg_variation_df = pd.DataFrame(data= ri_norms_negative_samples,columns=attributes)\n",
    "neg_variation_df.sum().plot.bar()"
   ]
  },
  {
   "cell_type": "code",
   "execution_count": 23,
   "metadata": {},
   "outputs": [
    {
     "name": "stderr",
     "output_type": "stream",
     "text": [
      " 25%|██▌       | 1/4 [00:00<00:00,  5.54it/s]"
     ]
    },
    {
     "name": "stdout",
     "output_type": "stream",
     "text": [
      "Processing sample number 0\n",
      "Processing sample number 1\n"
     ]
    },
    {
     "name": "stderr",
     "output_type": "stream",
     "text": [
      "100%|██████████| 4/4 [00:00<00:00,  9.96it/s]\n",
      "  0%|          | 0/128 [00:00<?, ?it/s]"
     ]
    },
    {
     "name": "stdout",
     "output_type": "stream",
     "text": [
      "Processing sample number 2\n",
      "Processing sample number 3\n",
      "Processing sample number 4\n"
     ]
    },
    {
     "name": "stderr",
     "output_type": "stream",
     "text": [
      "  2%|▏         | 2/128 [00:00<00:18,  6.71it/s]"
     ]
    },
    {
     "name": "stdout",
     "output_type": "stream",
     "text": [
      "Processing sample number 5\n",
      "Processing sample number 6\n",
      "Processing sample number 7\n"
     ]
    },
    {
     "name": "stderr",
     "output_type": "stream",
     "text": [
      "  5%|▌         | 7/128 [00:00<00:11, 10.51it/s]"
     ]
    },
    {
     "name": "stdout",
     "output_type": "stream",
     "text": [
      "Processing sample number 8\n",
      "Processing sample number 9\n",
      "Processing sample number 10\n",
      "Processing sample number 11\n",
      "Processing sample number 12\n"
     ]
    },
    {
     "name": "stderr",
     "output_type": "stream",
     "text": [
      "  9%|▊         | 11/128 [00:00<00:10, 11.16it/s]"
     ]
    },
    {
     "name": "stdout",
     "output_type": "stream",
     "text": [
      "Processing sample number 13\n",
      "Processing sample number 14\n",
      "Processing sample number 15\n"
     ]
    },
    {
     "name": "stderr",
     "output_type": "stream",
     "text": [
      "\r",
      " 10%|█         | 13/128 [00:01<00:10, 10.49it/s]"
     ]
    },
    {
     "name": "stdout",
     "output_type": "stream",
     "text": [
      "Processing sample number 16\n",
      "Processing sample number 17\n",
      "Processing sample number 18\n"
     ]
    },
    {
     "name": "stderr",
     "output_type": "stream",
     "text": [
      "\r",
      " 12%|█▏        | 15/128 [00:01<00:10, 10.94it/s]"
     ]
    },
    {
     "name": "stdout",
     "output_type": "stream",
     "text": [
      "Processing sample number 19\n",
      "Processing sample number 20\n"
     ]
    },
    {
     "name": "stderr",
     "output_type": "stream",
     "text": [
      " 15%|█▍        | 19/128 [00:01<00:10, 10.70it/s]"
     ]
    },
    {
     "name": "stdout",
     "output_type": "stream",
     "text": [
      "Processing sample number 21\n",
      "Processing sample number 22\n",
      "Processing sample number 23\n"
     ]
    },
    {
     "name": "stderr",
     "output_type": "stream",
     "text": [
      "\r",
      " 16%|█▋        | 21/128 [00:01<00:11,  9.37it/s]"
     ]
    },
    {
     "name": "stdout",
     "output_type": "stream",
     "text": [
      "Processing sample number 24\n",
      "Processing sample number 25\n",
      "Processing sample number 26\n",
      "Processing sample number 27\n"
     ]
    },
    {
     "name": "stderr",
     "output_type": "stream",
     "text": [
      " 21%|██        | 27/128 [00:02<00:07, 12.75it/s]"
     ]
    },
    {
     "name": "stdout",
     "output_type": "stream",
     "text": [
      "Processing sample number 28\n",
      "Processing sample number 29\n",
      "Processing sample number 30\n",
      "Processing sample number 31\n"
     ]
    },
    {
     "name": "stderr",
     "output_type": "stream",
     "text": [
      "\r",
      " 23%|██▎       | 29/128 [00:02<00:08, 12.14it/s]"
     ]
    },
    {
     "name": "stdout",
     "output_type": "stream",
     "text": [
      "Processing sample number 32\n",
      "Processing sample number 33\n",
      "Processing sample number 34\n"
     ]
    },
    {
     "name": "stderr",
     "output_type": "stream",
     "text": [
      "\r",
      " 24%|██▍       | 31/128 [00:02<00:08, 11.36it/s]"
     ]
    },
    {
     "name": "stdout",
     "output_type": "stream",
     "text": [
      "Processing sample number 35\n",
      "Processing sample number 36\n"
     ]
    },
    {
     "name": "stderr",
     "output_type": "stream",
     "text": [
      " 27%|██▋       | 35/128 [00:02<00:08, 11.04it/s]"
     ]
    },
    {
     "name": "stdout",
     "output_type": "stream",
     "text": [
      "Processing sample number 37\n",
      "Processing sample number 38\n",
      "Processing sample number 39\n"
     ]
    },
    {
     "name": "stderr",
     "output_type": "stream",
     "text": [
      "\r",
      " 29%|██▉       | 37/128 [00:03<00:10,  9.09it/s]"
     ]
    },
    {
     "name": "stdout",
     "output_type": "stream",
     "text": [
      "Processing sample number 40\n",
      "Processing sample number 41\n"
     ]
    },
    {
     "name": "stderr",
     "output_type": "stream",
     "text": [
      "\r",
      " 30%|███       | 39/128 [00:03<00:09,  9.68it/s]"
     ]
    },
    {
     "name": "stdout",
     "output_type": "stream",
     "text": [
      "Processing sample number 42\n",
      "Processing sample number 43\n",
      "Processing sample number 44\n"
     ]
    },
    {
     "name": "stderr",
     "output_type": "stream",
     "text": [
      " 34%|███▎      | 43/128 [00:03<00:07, 10.65it/s]"
     ]
    },
    {
     "name": "stdout",
     "output_type": "stream",
     "text": [
      "Processing sample number 45\n",
      "Processing sample number 46\n",
      "Processing sample number 47\n",
      "Processing sample number 48\n"
     ]
    },
    {
     "name": "stderr",
     "output_type": "stream",
     "text": [
      "\r",
      " 36%|███▌      | 46/128 [00:04<00:07, 11.51it/s]"
     ]
    },
    {
     "name": "stdout",
     "output_type": "stream",
     "text": [
      "Processing sample number 49\n",
      "Processing sample number 50\n"
     ]
    },
    {
     "name": "stderr",
     "output_type": "stream",
     "text": [
      "\r",
      " 38%|███▊      | 48/128 [00:04<00:06, 11.45it/s]"
     ]
    },
    {
     "name": "stdout",
     "output_type": "stream",
     "text": [
      "Processing sample number 51\n",
      "Processing sample number 52\n",
      "Processing sample number 53\n"
     ]
    },
    {
     "name": "stderr",
     "output_type": "stream",
     "text": [
      " 41%|████      | 52/128 [00:04<00:06, 11.36it/s]"
     ]
    },
    {
     "name": "stdout",
     "output_type": "stream",
     "text": [
      "Processing sample number 54\n",
      "Processing sample number 55\n",
      "Processing sample number 56\n"
     ]
    },
    {
     "name": "stderr",
     "output_type": "stream",
     "text": [
      " 45%|████▍     | 57/128 [00:04<00:05, 14.02it/s]"
     ]
    },
    {
     "name": "stdout",
     "output_type": "stream",
     "text": [
      "Processing sample number 57\n",
      "Processing sample number 58\n",
      "Processing sample number 59\n",
      "Processing sample number 60\n",
      "Processing sample number 61\n"
     ]
    },
    {
     "name": "stderr",
     "output_type": "stream",
     "text": [
      " 48%|████▊     | 61/128 [00:05<00:04, 14.71it/s]"
     ]
    },
    {
     "name": "stdout",
     "output_type": "stream",
     "text": [
      "Processing sample number 62\n",
      "Processing sample number 63\n",
      "Processing sample number 64\n",
      "Processing sample number 65\n"
     ]
    },
    {
     "name": "stderr",
     "output_type": "stream",
     "text": [
      " 51%|█████     | 65/128 [00:05<00:04, 14.73it/s]"
     ]
    },
    {
     "name": "stdout",
     "output_type": "stream",
     "text": [
      "Processing sample number 66\n",
      "Processing sample number 67\n",
      "Processing sample number 68\n",
      "Processing sample number 69\n"
     ]
    },
    {
     "name": "stderr",
     "output_type": "stream",
     "text": [
      "\r",
      " 52%|█████▏    | 67/128 [00:05<00:04, 14.45it/s]"
     ]
    },
    {
     "name": "stdout",
     "output_type": "stream",
     "text": [
      "Processing sample number 70\n",
      "Processing sample number 71\n",
      "Processing sample number 72\n"
     ]
    },
    {
     "name": "stderr",
     "output_type": "stream",
     "text": [
      " 55%|█████▌    | 71/128 [00:05<00:04, 14.20it/s]"
     ]
    },
    {
     "name": "stdout",
     "output_type": "stream",
     "text": [
      "Processing sample number 73\n",
      "Processing sample number 74\n",
      "Processing sample number 75\n"
     ]
    },
    {
     "name": "stderr",
     "output_type": "stream",
     "text": [
      " 59%|█████▉    | 76/128 [00:06<00:03, 15.56it/s]"
     ]
    },
    {
     "name": "stdout",
     "output_type": "stream",
     "text": [
      "Processing sample number 76\n",
      "Processing sample number 77\n",
      "Processing sample number 78\n",
      "Processing sample number 79\n",
      "Processing sample number 80\n"
     ]
    },
    {
     "name": "stderr",
     "output_type": "stream",
     "text": [
      "\r",
      " 61%|██████    | 78/128 [00:06<00:03, 15.59it/s]"
     ]
    },
    {
     "name": "stdout",
     "output_type": "stream",
     "text": [
      "Processing sample number 81\n",
      "Processing sample number 82\n",
      "Processing sample number 83\n"
     ]
    },
    {
     "name": "stderr",
     "output_type": "stream",
     "text": [
      " 64%|██████▍   | 82/128 [00:06<00:03, 13.37it/s]"
     ]
    },
    {
     "name": "stdout",
     "output_type": "stream",
     "text": [
      "Processing sample number 84\n",
      "Processing sample number 85\n",
      "Processing sample number 86\n"
     ]
    },
    {
     "name": "stderr",
     "output_type": "stream",
     "text": [
      " 67%|██████▋   | 86/128 [00:06<00:02, 14.59it/s]"
     ]
    },
    {
     "name": "stdout",
     "output_type": "stream",
     "text": [
      "Processing sample number 87\n",
      "Processing sample number 88\n",
      "Processing sample number 89\n",
      "Processing sample number 90\n",
      "Processing sample number 91\n"
     ]
    },
    {
     "name": "stderr",
     "output_type": "stream",
     "text": [
      " 71%|███████   | 91/128 [00:07<00:02, 15.76it/s]"
     ]
    },
    {
     "name": "stdout",
     "output_type": "stream",
     "text": [
      "Processing sample number 92\n",
      "Processing sample number 93\n",
      "Processing sample number 94\n",
      "Processing sample number 95\n"
     ]
    },
    {
     "name": "stderr",
     "output_type": "stream",
     "text": [
      "\r",
      " 73%|███████▎  | 94/128 [00:07<00:02, 15.87it/s]"
     ]
    },
    {
     "name": "stdout",
     "output_type": "stream",
     "text": [
      "Processing sample number 96\n",
      "Processing sample number 97\n",
      "Processing sample number 98\n",
      "Processing sample number 99\n"
     ]
    },
    {
     "name": "stderr",
     "output_type": "stream",
     "text": [
      "\r",
      " 75%|███████▌  | 96/128 [00:07<00:01, 16.54it/s]"
     ]
    },
    {
     "name": "stdout",
     "output_type": "stream",
     "text": [
      "Processing sample number 100\n",
      "Processing sample number 101\n"
     ]
    },
    {
     "name": "stderr",
     "output_type": "stream",
     "text": [
      "\r",
      " 77%|███████▋  | 98/128 [00:07<00:02, 12.39it/s]"
     ]
    },
    {
     "name": "stdout",
     "output_type": "stream",
     "text": [
      "Processing sample number 102\n",
      "Processing sample number 103\n"
     ]
    },
    {
     "name": "stderr",
     "output_type": "stream",
     "text": [
      "\r",
      " 78%|███████▊  | 100/128 [00:07<00:02, 11.50it/s]"
     ]
    },
    {
     "name": "stdout",
     "output_type": "stream",
     "text": [
      "Processing sample number 104\n",
      "Processing sample number 105\n"
     ]
    },
    {
     "name": "stderr",
     "output_type": "stream",
     "text": [
      "\r",
      " 80%|███████▉  | 102/128 [00:08<00:02, 10.19it/s]"
     ]
    },
    {
     "name": "stdout",
     "output_type": "stream",
     "text": [
      "Processing sample number 106\n",
      "Processing sample number 107\n"
     ]
    },
    {
     "name": "stderr",
     "output_type": "stream",
     "text": [
      " 83%|████████▎ | 106/128 [00:08<00:01, 11.11it/s]"
     ]
    },
    {
     "name": "stdout",
     "output_type": "stream",
     "text": [
      "Processing sample number 108\n",
      "Processing sample number 109\n",
      "Processing sample number 110\n"
     ]
    },
    {
     "name": "stderr",
     "output_type": "stream",
     "text": [
      "\r",
      " 84%|████████▍ | 108/128 [00:08<00:01, 12.10it/s]"
     ]
    },
    {
     "name": "stdout",
     "output_type": "stream",
     "text": [
      "Processing sample number 111\n",
      "Processing sample number 112\n",
      "Processing sample number 113\n"
     ]
    },
    {
     "name": "stderr",
     "output_type": "stream",
     "text": [
      " 88%|████████▊ | 112/128 [00:08<00:01, 10.92it/s]"
     ]
    },
    {
     "name": "stdout",
     "output_type": "stream",
     "text": [
      "Processing sample number 114\n",
      "Processing sample number 115\n",
      "Processing sample number 116\n",
      "Processing sample number 117\n"
     ]
    },
    {
     "name": "stderr",
     "output_type": "stream",
     "text": [
      " 91%|█████████ | 116/128 [00:09<00:00, 12.86it/s]"
     ]
    },
    {
     "name": "stdout",
     "output_type": "stream",
     "text": [
      "Processing sample number 118\n",
      "Processing sample number 119\n",
      "Processing sample number 120\n"
     ]
    },
    {
     "name": "stderr",
     "output_type": "stream",
     "text": [
      " 94%|█████████▍| 120/128 [00:09<00:00, 13.08it/s]"
     ]
    },
    {
     "name": "stdout",
     "output_type": "stream",
     "text": [
      "Processing sample number 121\n",
      "Processing sample number 122\n",
      "Processing sample number 123\n",
      "Processing sample number 124\n",
      "Processing sample number 125\n"
     ]
    },
    {
     "name": "stderr",
     "output_type": "stream",
     "text": [
      " 97%|█████████▋| 124/128 [00:09<00:00, 11.46it/s]"
     ]
    },
    {
     "name": "stdout",
     "output_type": "stream",
     "text": [
      "Processing sample number 126\n",
      "Processing sample number 127\n",
      "Processing sample number 128\n"
     ]
    },
    {
     "name": "stderr",
     "output_type": "stream",
     "text": [
      "\r",
      " 98%|█████████▊| 126/128 [00:10<00:00, 11.07it/s]"
     ]
    },
    {
     "name": "stdout",
     "output_type": "stream",
     "text": [
      "Processing sample number 129\n",
      "Processing sample number 130\n",
      "Processing sample number 131\n"
     ]
    },
    {
     "name": "stderr",
     "output_type": "stream",
     "text": [
      "100%|██████████| 128/128 [00:10<00:00, 12.26it/s]\n"
     ]
    }
   ],
   "source": [
    "current_sample = 0\n",
    "#each column of this matrix is related to a specific attribute\n",
    "positives_ri_matrix = []\n",
    "for batch in pos_classifier_inputs:\n",
    "    for sample_index in tqdm(range(len(batch))):\n",
    "        print('Processing sample number {}'.format(current_sample))\n",
    "        current_sample_ris = list(map(lambda att: find_smallest_variation_to_change(hybrid_model.classifier,\n",
    "                                                                                    classifier_length=1200,\n",
    "                                                                                    attribute_length=150,\n",
    "                                                                                    input_matrix=batch,\n",
    "                                                                                    vector_index=sample_index,\n",
    "                                                                                    attributes=[attributes.index(att)]\n",
    "                                                                                    ,class_to_reach=0),attributes))\n",
    "        positives_ri_matrix.append(current_sample_ris)\n",
    "        current_sample+=1"
   ]
  },
  {
   "cell_type": "code",
   "execution_count": 24,
   "metadata": {},
   "outputs": [
    {
     "data": {
      "text/plain": [
       "<matplotlib.axes._subplots.AxesSubplot at 0x7f0be45065c0>"
      ]
     },
     "execution_count": 24,
     "metadata": {},
     "output_type": "execute_result"
    },
    {
     "data": {
      "image/png": "[encoded data removed]",
      "text/plain": [
       "<Figure size 432x288 with 1 Axes>"
      ]
     },
     "metadata": {
      "needs_background": "light"
     },
     "output_type": "display_data"
    }
   ],
   "source": [
    "ri_norms_pos = []\n",
    "for ri_list in positives_ri_matrix:\n",
    "    ri_norms_pos.append(list(map(lambda x:torch.norm(x).data[0],ri_list)))\n",
    "pos_variation_df = pd.DataFrame(data= ri_norms_pos,columns=attributes)\n",
    "pos_variation_df.sum().plot.bar()"
   ]
  },
  {
   "cell_type": "markdown",
   "metadata": {},
   "source": [
    "## Calculate closest vector of non perturbed samples and closer vector of perturbed samples"
   ]
  },
  {
   "cell_type": "markdown",
   "metadata": {},
   "source": [
    "### Positives analysis"
   ]
  },
  {
   "cell_type": "code",
   "execution_count": 99,
   "metadata": {},
   "outputs": [],
   "source": [
    "from utilities_functions.distance_measures import nearest_neighbour,nearest_neighbour_onAttribute"
   ]
  },
  {
   "cell_type": "code",
   "execution_count": 100,
   "metadata": {},
   "outputs": [
    {
     "name": "stderr",
     "output_type": "stream",
     "text": [
      "\n",
      "\n",
      "  0%|          | 0/4 [00:00<?, ?it/s]\u001b[A\u001b[A\n",
      "\n",
      " 50%|█████     | 2/4 [00:00<00:00, 12.43it/s]\u001b[A\u001b[A\n",
      "\n",
      "100%|██████████| 4/4 [00:00<00:00, 12.75it/s]\u001b[A\u001b[A\n",
      "\n",
      "  0%|          | 0/128 [00:00<?, ?it/s]\u001b[A\u001b[A\n",
      "\n",
      "  2%|▏         | 2/128 [00:00<00:09, 13.93it/s]\u001b[A\u001b[A\n",
      "\n",
      "  3%|▎         | 4/128 [00:00<00:08, 14.48it/s]\u001b[A\u001b[A\n",
      "\n",
      "  5%|▍         | 6/128 [00:00<00:08, 14.89it/s]\u001b[A\u001b[A\n",
      "\n",
      "  6%|▋         | 8/128 [00:00<00:07, 15.18it/s]\u001b[A\u001b[A\n",
      "\n",
      "  8%|▊         | 10/128 [00:00<00:07, 15.43it/s]\u001b[A\u001b[A\n",
      "\n",
      "  9%|▉         | 12/128 [00:00<00:08, 14.37it/s]\u001b[A\u001b[A\n",
      "\n",
      " 11%|█         | 14/128 [00:00<00:07, 14.35it/s]\u001b[A\u001b[A\n",
      "\n",
      " 12%|█▎        | 16/128 [00:01<00:07, 14.27it/s]\u001b[A\u001b[A\n",
      "\n",
      " 14%|█▍        | 18/128 [00:01<00:07, 14.24it/s]\u001b[A\u001b[A\n",
      "\n",
      " 16%|█▌        | 20/128 [00:01<00:07, 14.46it/s]\u001b[A\u001b[A\n",
      "\n",
      " 17%|█▋        | 22/128 [00:01<00:07, 14.84it/s]\u001b[A\u001b[A\n",
      "\n",
      " 19%|█▉        | 24/128 [00:01<00:06, 15.10it/s]\u001b[A\u001b[A\n",
      "\n",
      " 20%|██        | 26/128 [00:01<00:06, 15.32it/s]\u001b[A\u001b[A\n",
      "\n",
      " 22%|██▏       | 28/128 [00:01<00:06, 15.50it/s]\u001b[A\u001b[A\n",
      "\n",
      " 23%|██▎       | 30/128 [00:01<00:06, 15.62it/s]\u001b[A\u001b[A\n",
      "\n",
      " 25%|██▌       | 32/128 [00:02<00:06, 15.71it/s]\u001b[A\u001b[A\n",
      "\n",
      " 27%|██▋       | 34/128 [00:02<00:05, 15.76it/s]\u001b[A\u001b[A\n",
      "\n",
      " 28%|██▊       | 36/128 [00:02<00:05, 15.77it/s]\u001b[A\u001b[A\n",
      "\n",
      " 30%|██▉       | 38/128 [00:02<00:05, 16.07it/s]\u001b[A\u001b[A\n",
      "\n",
      " 31%|███▏      | 40/128 [00:02<00:05, 16.22it/s]\u001b[A\u001b[A\n",
      "\n",
      " 33%|███▎      | 42/128 [00:02<00:05, 16.45it/s]\u001b[A\u001b[A\n",
      "\n",
      " 34%|███▍      | 44/128 [00:02<00:05, 16.70it/s]\u001b[A\u001b[A\n",
      "\n",
      " 36%|███▌      | 46/128 [00:02<00:04, 16.68it/s]\u001b[A\u001b[A\n",
      "\n",
      " 38%|███▊      | 48/128 [00:03<00:04, 16.72it/s]\u001b[A\u001b[A\n",
      "\n",
      " 39%|███▉      | 50/128 [00:03<00:04, 16.95it/s]\u001b[A\u001b[A\n",
      "\n",
      " 41%|████      | 52/128 [00:03<00:04, 17.12it/s]\u001b[A\u001b[A\n",
      "\n",
      " 42%|████▏     | 54/128 [00:03<00:04, 17.24it/s]\u001b[A\u001b[A\n",
      "\n",
      " 44%|████▍     | 56/128 [00:03<00:04, 17.33it/s]\u001b[A\u001b[A\n",
      "\n",
      " 45%|████▌     | 58/128 [00:03<00:04, 17.38it/s]\u001b[A\u001b[A\n",
      "\n",
      " 47%|████▋     | 60/128 [00:03<00:03, 17.45it/s]\u001b[A\u001b[A\n",
      "\n",
      " 48%|████▊     | 62/128 [00:03<00:03, 17.05it/s]\u001b[A\u001b[A\n",
      "\n",
      " 50%|█████     | 64/128 [00:04<00:03, 16.58it/s]\u001b[A\u001b[A\n",
      "\n",
      " 52%|█████▏    | 66/128 [00:04<00:03, 16.35it/s]\u001b[A\u001b[A\n",
      "\n",
      " 53%|█████▎    | 68/128 [00:04<00:03, 16.20it/s]\u001b[A\u001b[A\n",
      "\n",
      " 55%|█████▍    | 70/128 [00:04<00:03, 16.11it/s]\u001b[A\u001b[A\n",
      "\n",
      " 56%|█████▋    | 72/128 [00:04<00:03, 16.03it/s]\u001b[A\u001b[A\n",
      "\n",
      " 58%|█████▊    | 74/128 [00:04<00:03, 15.98it/s]\u001b[A\u001b[A\n",
      "\n",
      " 59%|█████▉    | 76/128 [00:04<00:03, 15.95it/s]\u001b[A\u001b[A\n",
      "\n",
      " 61%|██████    | 78/128 [00:04<00:03, 15.93it/s]\u001b[A\u001b[A\n",
      "\n",
      " 62%|██████▎   | 80/128 [00:05<00:03, 15.93it/s]\u001b[A\u001b[A\n",
      "\n",
      " 64%|██████▍   | 82/128 [00:05<00:02, 15.92it/s]\u001b[A\u001b[A\n",
      "\n",
      " 66%|██████▌   | 84/128 [00:05<00:02, 15.92it/s]\u001b[A\u001b[A\n",
      "\n",
      " 67%|██████▋   | 86/128 [00:05<00:02, 15.92it/s]\u001b[A\u001b[A\n",
      "\n",
      " 69%|██████▉   | 88/128 [00:05<00:02, 15.39it/s]\u001b[A\u001b[A\n",
      "\n",
      " 70%|███████   | 90/128 [00:05<00:02, 15.56it/s]\u001b[A\u001b[A\n",
      "\n",
      " 72%|███████▏  | 92/128 [00:05<00:02, 15.66it/s]\u001b[A\u001b[A\n",
      "\n",
      " 73%|███████▎  | 94/128 [00:05<00:02, 15.74it/s]\u001b[A\u001b[A\n",
      "\n",
      " 75%|███████▌  | 96/128 [00:06<00:02, 15.80it/s]\u001b[A\u001b[A\n",
      "\n",
      " 77%|███████▋  | 98/128 [00:06<00:01, 15.85it/s]\u001b[A\u001b[A\n",
      "\n",
      " 78%|███████▊  | 100/128 [00:06<00:01, 15.83it/s]\u001b[A\u001b[A\n",
      "\n",
      " 80%|███████▉  | 102/128 [00:06<00:01, 15.86it/s]\u001b[A\u001b[A\n",
      "\n",
      " 81%|████████▏ | 104/128 [00:06<00:01, 15.88it/s]\u001b[A\u001b[A\n",
      "\n",
      " 83%|████████▎ | 106/128 [00:06<00:01, 15.89it/s]\u001b[A\u001b[A\n",
      "\n",
      " 84%|████████▍ | 108/128 [00:06<00:01, 15.90it/s]\u001b[A\u001b[A\n",
      "\n",
      " 86%|████████▌ | 110/128 [00:06<00:01, 15.91it/s]\u001b[A\u001b[A\n",
      "\n",
      " 88%|████████▊ | 112/128 [00:07<00:01, 15.90it/s]\u001b[A\u001b[A\n",
      "\n",
      " 89%|████████▉ | 114/128 [00:07<00:00, 15.85it/s]\u001b[A\u001b[A\n",
      "\n",
      " 91%|█████████ | 116/128 [00:07<00:00, 15.87it/s]\u001b[A\u001b[A\n",
      "\n",
      " 92%|█████████▏| 118/128 [00:07<00:00, 15.36it/s]\u001b[A\u001b[A\n",
      "\n",
      " 94%|█████████▍| 120/128 [00:07<00:00, 15.54it/s]\u001b[A\u001b[A\n",
      "\n",
      " 95%|█████████▌| 122/128 [00:07<00:00, 15.67it/s]\u001b[A\u001b[A\n",
      "\n",
      " 97%|█████████▋| 124/128 [00:07<00:00, 15.75it/s]\u001b[A\u001b[A\n",
      "\n",
      " 98%|█████████▊| 126/128 [00:07<00:00, 15.79it/s]\u001b[A\u001b[A\n",
      "\n",
      "100%|██████████| 128/128 [00:08<00:00, 15.82it/s]\u001b[A\u001b[A"
     ]
    }
   ],
   "source": [
    "negativesCloserToPositives = []\n",
    "for batch in pos_classifier_inputs:\n",
    "    for sample in tqdm(batch):\n",
    "        distance = nearest_neighbour(sample,neg_classifier_inputs,'euclidean')\n",
    "        negativesCloserToPositives.append(distance)"
   ]
  },
  {
   "cell_type": "code",
   "execution_count": 101,
   "metadata": {},
   "outputs": [
    {
     "data": {
      "text/plain": [
       "[6.02672815322876,\n",
       " 4.381704330444336,\n",
       " 3.7388572692871094,\n",
       " 3.8539187908172607,\n",
       " 6.009554862976074,\n",
       " 6.598804473876953,\n",
       " 3.4424588680267334,\n",
       " 4.3242692947387695,\n",
       " 4.20885705947876,\n",
       " 3.8723092079162598]"
      ]
     },
     "execution_count": 101,
     "metadata": {},
     "output_type": "execute_result"
    }
   ],
   "source": [
    "negativesCloserToPositives[0:10]"
   ]
  },
  {
   "cell_type": "code",
   "execution_count": 102,
   "metadata": {},
   "outputs": [
    {
     "name": "stderr",
     "output_type": "stream",
     "text": [
      "\n",
      "\n",
      "  0%|          | 0/4 [00:00<?, ?it/s]\u001b[A\u001b[A\n",
      "\n",
      "100%|██████████| 4/4 [00:00<00:00, 408.85it/s]\u001b[A\u001b[A\n",
      "\n",
      "  0%|          | 0/128 [00:00<?, ?it/s]\u001b[A\u001b[A\n",
      "\n",
      " 48%|████▊     | 62/128 [00:00<00:00, 613.35it/s]\u001b[A\u001b[A\n",
      "\n",
      "100%|██████████| 128/128 [00:00<00:00, 626.07it/s]\u001b[A\u001b[A"
     ]
    }
   ],
   "source": [
    "from scipy.spatial.distance import euclidean\n",
    "# per ogni attributo trovo il più vicino\n",
    "negativesCloserToPerturbedPositives = []\n",
    "i = 0\n",
    "for batch in pos_classifier_inputs:\n",
    "    for sample in tqdm(batch):\n",
    "        currentSamplePerturbedDistance = []\n",
    "        for j in range(len(attributes)):\n",
    "            start_index= j*150\n",
    "            end_index = start_index+150\n",
    "            dist = euclidean(sample.data[start_index:end_index],(sample+positives_ri_matrix[i][j]).data[start_index:end_index])\n",
    "            currentSamplePerturbedDistance.append(dist)\n",
    "        negativesCloserToPerturbedPositives.append(currentSamplePerturbedDistance)\n",
    "        i+=1"
   ]
  },
  {
   "cell_type": "code",
   "execution_count": 121,
   "metadata": {},
   "outputs": [],
   "source": [
    "perturbedPosClosest = list(map(lambda distances:max(distances),negativesCloserToPerturbedPositives))"
   ]
  },
  {
   "cell_type": "code",
   "execution_count": 122,
   "metadata": {},
   "outputs": [],
   "source": [
    "negativesCloserToPositives = np.array(negativesCloserToPositives)\n",
    "perturbedPosClosest = np.array(perturbedPosClosest)"
   ]
  },
  {
   "cell_type": "code",
   "execution_count": 123,
   "metadata": {},
   "outputs": [],
   "source": [
    "differences = (perturbedPosClosest-negativesCloserToPositives)"
   ]
  },
  {
   "cell_type": "code",
   "execution_count": 124,
   "metadata": {},
   "outputs": [
    {
     "data": {
      "text/plain": [
       "118"
      ]
     },
     "execution_count": 124,
     "metadata": {},
     "output_type": "execute_result"
    }
   ],
   "source": [
    "np.sum(differences >= 0, axis=0)"
   ]
  },
  {
   "cell_type": "markdown",
   "metadata": {},
   "source": [
    "### Negatives analysis"
   ]
  },
  {
   "cell_type": "code",
   "execution_count": 110,
   "metadata": {},
   "outputs": [
    {
     "name": "stderr",
     "output_type": "stream",
     "text": [
      "\n",
      "\n",
      "  0%|          | 0/128 [00:00<?, ?it/s]\u001b[A\u001b[A\n",
      "\n",
      "  3%|▎         | 4/128 [00:00<00:03, 39.62it/s]\u001b[A\u001b[A\n",
      "\n",
      "  7%|▋         | 9/128 [00:00<00:02, 42.21it/s]\u001b[A\u001b[A\n",
      "\n",
      " 12%|█▏        | 15/128 [00:00<00:02, 44.44it/s]\u001b[A\u001b[A\n",
      "\n",
      " 15%|█▍        | 19/128 [00:00<00:02, 41.70it/s]\u001b[A\u001b[A\n",
      "\n",
      " 18%|█▊        | 23/128 [00:00<00:02, 40.71it/s]\u001b[A\u001b[A\n",
      "\n",
      " 22%|██▏       | 28/128 [00:00<00:02, 42.92it/s]\u001b[A\u001b[A\n",
      "\n",
      " 26%|██▌       | 33/128 [00:00<00:02, 44.20it/s]\u001b[A\u001b[A\n",
      "\n",
      " 30%|██▉       | 38/128 [00:00<00:01, 45.57it/s]\u001b[A\u001b[A\n",
      "\n",
      " 34%|███▎      | 43/128 [00:00<00:01, 46.60it/s]\u001b[A\u001b[A\n",
      "\n",
      " 38%|███▊      | 48/128 [00:01<00:01, 47.35it/s]\u001b[A\u001b[A\n",
      "\n",
      " 41%|████▏     | 53/128 [00:01<00:01, 47.91it/s]\u001b[A\u001b[A\n",
      "\n",
      " 45%|████▌     | 58/128 [00:01<00:01, 48.27it/s]\u001b[A\u001b[A\n",
      "\n",
      " 49%|████▉     | 63/128 [00:01<00:01, 48.51it/s]\u001b[A\u001b[A\n",
      "\n",
      " 53%|█████▎    | 68/128 [00:01<00:01, 48.57it/s]\u001b[A\u001b[A\n",
      "\n",
      " 57%|█████▋    | 73/128 [00:01<00:01, 48.60it/s]\u001b[A\u001b[A\n",
      "\n",
      " 61%|██████    | 78/128 [00:01<00:01, 48.57it/s]\u001b[A\u001b[A\n",
      "\n",
      " 65%|██████▍   | 83/128 [00:01<00:00, 48.56it/s]\u001b[A\u001b[A\n",
      "\n",
      " 69%|██████▉   | 88/128 [00:01<00:00, 48.56it/s]\u001b[A\u001b[A\n",
      "\n",
      " 73%|███████▎  | 93/128 [00:01<00:00, 48.60it/s]\u001b[A\u001b[A\n",
      "\n",
      " 77%|███████▋  | 98/128 [00:02<00:00, 48.60it/s]\u001b[A\u001b[A\n",
      "\n",
      " 80%|████████  | 103/128 [00:02<00:00, 48.66it/s]\u001b[A\u001b[A\n",
      "\n",
      " 84%|████████▍ | 108/128 [00:02<00:00, 48.08it/s]\u001b[A\u001b[A\n",
      "\n",
      " 88%|████████▊ | 113/128 [00:02<00:00, 48.24it/s]\u001b[A\u001b[A\n",
      "\n",
      " 92%|█████████▏| 118/128 [00:02<00:00, 47.92it/s]\u001b[A\u001b[A\n",
      "\n",
      " 96%|█████████▌| 123/128 [00:02<00:00, 48.22it/s]\u001b[A\u001b[A\n",
      "\n",
      "100%|██████████| 128/128 [00:02<00:00, 48.37it/s]\u001b[A\u001b[A\n",
      "\n",
      "  0%|          | 0/23 [00:00<?, ?it/s]\u001b[A\u001b[A\n",
      "\n",
      " 22%|██▏       | 5/23 [00:00<00:00, 49.78it/s]\u001b[A\u001b[A\n",
      "\n",
      " 43%|████▎     | 10/23 [00:00<00:00, 49.43it/s]\u001b[A\u001b[A\n",
      "\n",
      " 65%|██████▌   | 15/23 [00:00<00:00, 49.23it/s]\u001b[A\u001b[A\n",
      "\n",
      " 87%|████████▋ | 20/23 [00:00<00:00, 49.05it/s]\u001b[A\u001b[A\n",
      "\n",
      "100%|██████████| 23/23 [00:00<00:00, 48.73it/s]\u001b[A\u001b[A\n",
      "\n",
      "  0%|          | 0/128 [00:00<?, ?it/s]\u001b[A\u001b[A\n",
      "\n",
      "  4%|▍         | 5/128 [00:00<00:02, 49.52it/s]\u001b[A\u001b[A\n",
      "\n",
      "  7%|▋         | 9/128 [00:00<00:02, 43.95it/s]\u001b[A\u001b[A\n",
      "\n",
      " 11%|█         | 14/128 [00:00<00:02, 44.03it/s]\u001b[A\u001b[A\n",
      "\n",
      " 15%|█▍        | 19/128 [00:00<00:02, 44.37it/s]\u001b[A\u001b[A\n",
      "\n",
      " 19%|█▉        | 24/128 [00:00<00:02, 44.48it/s]\u001b[A\u001b[A\n",
      "\n",
      " 23%|██▎       | 29/128 [00:00<00:02, 44.75it/s]\u001b[A\u001b[A\n",
      "\n",
      " 27%|██▋       | 34/128 [00:00<00:02, 45.35it/s]\u001b[A\u001b[A\n",
      "\n",
      " 31%|███▏      | 40/128 [00:00<00:01, 46.94it/s]\u001b[A\u001b[A\n",
      "\n",
      " 36%|███▌      | 46/128 [00:01<00:01, 48.08it/s]\u001b[A\u001b[A\n",
      "\n",
      " 41%|████      | 52/128 [00:01<00:01, 48.87it/s]\u001b[A\u001b[A\n",
      "\n",
      " 45%|████▌     | 58/128 [00:01<00:01, 50.75it/s]\u001b[A\u001b[A\n",
      "\n",
      " 50%|█████     | 64/128 [00:01<00:01, 52.66it/s]\u001b[A\u001b[A\n",
      "\n",
      " 55%|█████▍    | 70/128 [00:01<00:01, 52.36it/s]\u001b[A\u001b[A\n",
      "\n",
      " 59%|█████▉    | 76/128 [00:01<00:01, 51.99it/s]\u001b[A\u001b[A\n",
      "\n",
      " 64%|██████▍   | 82/128 [00:01<00:00, 51.62it/s]\u001b[A\u001b[A\n",
      "\n",
      " 69%|██████▉   | 88/128 [00:01<00:00, 51.38it/s]\u001b[A\u001b[A\n",
      "\n",
      " 73%|███████▎  | 94/128 [00:01<00:00, 51.26it/s]\u001b[A\u001b[A\n",
      "\n",
      " 78%|███████▊  | 100/128 [00:02<00:00, 50.99it/s]\u001b[A\u001b[A\n",
      "\n",
      " 83%|████████▎ | 106/128 [00:02<00:00, 50.98it/s]\u001b[A\u001b[A\n",
      "\n",
      " 88%|████████▊ | 112/128 [00:02<00:00, 51.01it/s]\u001b[A\u001b[A\n",
      "\n",
      " 92%|█████████▏| 118/128 [00:02<00:00, 51.01it/s]\u001b[A\u001b[A\n",
      "\n",
      " 97%|█████████▋| 124/128 [00:02<00:00, 51.57it/s]\u001b[A\u001b[A\n",
      "\n",
      "100%|██████████| 128/128 [00:02<00:00, 49.56it/s]\u001b[A\u001b[A\n",
      "\n",
      "  0%|          | 0/128 [00:00<?, ?it/s]\u001b[A\u001b[A\n",
      "\n",
      "  5%|▍         | 6/128 [00:00<00:02, 55.02it/s]\u001b[A\u001b[A\n",
      "\n",
      "  9%|▉         | 12/128 [00:00<00:02, 53.71it/s]\u001b[A\u001b[A\n",
      "\n",
      " 14%|█▍        | 18/128 [00:00<00:02, 52.81it/s]\u001b[A\u001b[A\n",
      "\n",
      " 19%|█▉        | 24/128 [00:00<00:01, 52.20it/s]\u001b[A\u001b[A\n",
      "\n",
      " 23%|██▎       | 30/128 [00:00<00:01, 51.85it/s]\u001b[A\u001b[A\n",
      "\n",
      " 28%|██▊       | 36/128 [00:00<00:01, 51.55it/s]\u001b[A\u001b[A\n",
      "\n",
      " 33%|███▎      | 42/128 [00:00<00:01, 51.36it/s]\u001b[A\u001b[A\n",
      "\n",
      " 37%|███▋      | 47/128 [00:00<00:01, 50.84it/s]\u001b[A\u001b[A\n",
      "\n",
      " 41%|████▏     | 53/128 [00:01<00:01, 50.83it/s]\u001b[A\u001b[A\n",
      "\n",
      " 46%|████▌     | 59/128 [00:01<00:01, 50.83it/s]\u001b[A\u001b[A\n",
      "\n",
      " 51%|█████     | 65/128 [00:01<00:01, 50.84it/s]\u001b[A\u001b[A\n",
      "\n",
      " 55%|█████▌    | 71/128 [00:01<00:01, 50.83it/s]\u001b[A\u001b[A\n",
      "\n",
      " 60%|██████    | 77/128 [00:01<00:01, 50.88it/s]\u001b[A\u001b[A\n",
      "\n",
      " 65%|██████▍   | 83/128 [00:01<00:00, 50.90it/s]\u001b[A\u001b[A\n",
      "\n",
      " 70%|██████▉   | 89/128 [00:01<00:00, 50.92it/s]\u001b[A\u001b[A\n",
      "\n",
      " 74%|███████▍  | 95/128 [00:01<00:00, 50.95it/s]\u001b[A\u001b[A\n",
      "\n",
      " 79%|███████▉  | 101/128 [00:01<00:00, 50.92it/s]\u001b[A\u001b[A\n",
      "\n",
      " 84%|████████▎ | 107/128 [00:02<00:00, 50.92it/s]\u001b[A\u001b[A\n",
      "\n",
      " 88%|████████▊ | 113/128 [00:02<00:00, 50.87it/s]\u001b[A\u001b[A\n",
      "\n",
      " 93%|█████████▎| 119/128 [00:02<00:00, 50.60it/s]\u001b[A\u001b[A\n",
      "\n",
      " 98%|█████████▊| 125/128 [00:02<00:00, 50.69it/s]\u001b[A\u001b[A\n",
      "\n",
      "100%|██████████| 128/128 [00:02<00:00, 50.93it/s]\u001b[A\u001b[A"
     ]
    }
   ],
   "source": [
    "positivesCloserToNegatives = []\n",
    "for batch in neg_classifier_inputs:\n",
    "    for sample in tqdm(batch):\n",
    "        distance = nearest_neighbour(sample,pos_classifier_inputs,'euclidean')\n",
    "        positivesCloserToNegatives.append(distance)"
   ]
  },
  {
   "cell_type": "code",
   "execution_count": 111,
   "metadata": {},
   "outputs": [
    {
     "name": "stderr",
     "output_type": "stream",
     "text": [
      "\n",
      "\n",
      "  0%|          | 0/128 [00:00<?, ?it/s]\u001b[A\u001b[A\n",
      "\n",
      " 48%|████▊     | 61/128 [00:00<00:00, 607.94it/s]\u001b[A\u001b[A\n",
      "\n",
      "100%|██████████| 128/128 [00:00<00:00, 671.55it/s]\u001b[A\u001b[A\n",
      "\n",
      "  0%|          | 0/23 [00:00<?, ?it/s]\u001b[A\u001b[A\n",
      "\n",
      "100%|██████████| 23/23 [00:00<00:00, 747.36it/s]\u001b[A\u001b[A\n",
      "\n",
      "  0%|          | 0/128 [00:00<?, ?it/s]\u001b[A\u001b[A\n",
      "\n",
      " 61%|██████    | 78/128 [00:00<00:00, 778.80it/s]\u001b[A\u001b[A\n",
      "\n",
      "100%|██████████| 128/128 [00:00<00:00, 748.81it/s]\u001b[A\u001b[A\n",
      "\n",
      "  0%|          | 0/128 [00:00<?, ?it/s]\u001b[A\u001b[A\n",
      "\n",
      " 62%|██████▏   | 79/128 [00:00<00:00, 784.71it/s]\u001b[A\u001b[A\n",
      "\n",
      "100%|██████████| 128/128 [00:00<00:00, 774.35it/s]\u001b[A\u001b[A"
     ]
    }
   ],
   "source": [
    "from scipy.spatial.distance import euclidean\n",
    "# per ogni attributo trovo il più vicino\n",
    "positivesCloserToPerturbedNegatives = []\n",
    "i = 0\n",
    "for batch in neg_classifier_inputs:\n",
    "    for sample in tqdm(batch):\n",
    "        currentSamplePerturbedDistance = []\n",
    "        for j in range(len(attributes)):\n",
    "            start_index= j*150\n",
    "            end_index = start_index+150\n",
    "            dist = euclidean(sample.data[start_index:end_index],(sample+negatives_ri_matrix[i][j]).data[start_index:end_index])\n",
    "            currentSamplePerturbedDistance.append(dist)\n",
    "        positivesCloserToPerturbedNegatives.append(currentSamplePerturbedDistance)\n",
    "        i+=1"
   ]
  },
  {
   "cell_type": "code",
   "execution_count": 126,
   "metadata": {},
   "outputs": [],
   "source": [
    "perturbedNegClosest = list(map(lambda distances:max(distances),positivesCloserToPerturbedNegatives))"
   ]
  },
  {
   "cell_type": "code",
   "execution_count": 127,
   "metadata": {},
   "outputs": [
    {
     "data": {
      "text/plain": [
       "369"
      ]
     },
     "execution_count": 127,
     "metadata": {},
     "output_type": "execute_result"
    }
   ],
   "source": [
    "positivesCloserToNegatives = np.array(positivesCloserToNegatives)\n",
    "perturbedNegClosest = np.array(perturbedNegClosest)\n",
    "negDifferences = perturbedNegClosest-positivesCloserToNegatives\n",
    "np.sum(negDifferences >0 ,axis=0)"
   ]
  }
 ],
 "metadata": {
  "kernelspec": {
   "display_name": "Python 3",
   "language": "python",
   "name": "python3"
  },
  "language_info": {
   "codemirror_mode": {
    "name": "ipython",
    "version": 3
   },
   "file_extension": ".py",
   "mimetype": "text/x-python",
   "name": "python",
   "nbconvert_exporter": "python",
   "pygments_lexer": "ipython3",
   "version": "3.6.8"
  }
 },
 "nbformat": 4,
 "nbformat_minor": 2
}

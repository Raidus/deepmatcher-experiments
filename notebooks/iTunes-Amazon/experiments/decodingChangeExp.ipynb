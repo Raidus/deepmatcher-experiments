{
 "cells": [
  {
   "cell_type": "code",
   "execution_count": 29,
   "metadata": {
    "ExecuteTime": {
     "end_time": "2020-03-02T11:07:59.835696Z",
     "start_time": "2020-03-02T11:07:59.830575Z"
    }
   },
   "outputs": [],
   "source": [
    "import sys\n",
    "sys.path.append('../../..')"
   ]
  },
  {
   "cell_type": "code",
   "execution_count": 33,
   "metadata": {
    "ExecuteTime": {
     "end_time": "2020-03-02T11:17:29.679983Z",
     "start_time": "2020-03-02T11:17:29.673964Z"
    }
   },
   "outputs": [],
   "source": [
    "import pandas as pd\n",
    "import os\n",
    "from num2words import num2words\n",
    "from utils.deepmatcher_utils import wrapDm\n",
    "from utils.intermediate_layer_extraction import return_layer_input\n",
    "from utils.ri_calculator import computeRi\n",
    "import numpy as np"
   ]
  },
  {
   "cell_type": "code",
   "execution_count": 3,
   "metadata": {
    "ExecuteTime": {
     "end_time": "2020-03-02T10:57:53.253330Z",
     "start_time": "2020-03-02T10:57:53.213599Z"
    }
   },
   "outputs": [],
   "source": [
    "DATA_DIR = '../../../datasets/Structured/itunes-amazon/'\n",
    "train_df = pd.read_csv(DATA_DIR+'merged_train.csv')\n",
    "validation_df = pd.read_csv(DATA_DIR+'merged_valid.csv')\n",
    "test_df = pd.read_csv(DATA_DIR+'merged_test.csv')"
   ]
  },
  {
   "cell_type": "code",
   "execution_count": 21,
   "metadata": {
    "ExecuteTime": {
     "end_time": "2020-03-02T10:59:34.817305Z",
     "start_time": "2020-03-02T10:59:34.810082Z"
    }
   },
   "outputs": [],
   "source": [
    "def convert_time_towords(time):\n",
    "    parts = time.split(':')\n",
    "    if len(parts) <= 1:\n",
    "        return time\n",
    "    minutes = num2words(parts[0])\n",
    "    seconds = num2words(parts[1])\n",
    "    return minutes+\" minutes and \" +seconds+\" seconds\" "
   ]
  },
  {
   "cell_type": "code",
   "execution_count": 7,
   "metadata": {
    "ExecuteTime": {
     "end_time": "2020-03-02T10:58:27.177118Z",
     "start_time": "2020-03-02T10:58:27.170414Z"
    }
   },
   "outputs": [],
   "source": [
    "def convert_price_towords(price):\n",
    "    if price == 'Album Only':\n",
    "        return price\n",
    "    parts = price.split()\n",
    "    price = num2words(parts[1])\n",
    "    return parts[0]+ \" \"+price"
   ]
  },
  {
   "cell_type": "code",
   "execution_count": 8,
   "metadata": {
    "ExecuteTime": {
     "end_time": "2020-03-02T10:58:31.276401Z",
     "start_time": "2020-03-02T10:58:31.255379Z"
    }
   },
   "outputs": [
    {
     "data": {
      "text/plain": [
       "'three minutes and fifteen seconds'"
      ]
     },
     "execution_count": 8,
     "metadata": {},
     "output_type": "execute_result"
    }
   ],
   "source": [
    "convert_time_towords('3:15')"
   ]
  },
  {
   "cell_type": "code",
   "execution_count": 9,
   "metadata": {
    "ExecuteTime": {
     "end_time": "2020-03-02T10:58:33.220262Z",
     "start_time": "2020-03-02T10:58:33.212933Z"
    }
   },
   "outputs": [
    {
     "data": {
      "text/plain": [
       "'four minutes and forty seconds'"
      ]
     },
     "execution_count": 9,
     "metadata": {},
     "output_type": "execute_result"
    }
   ],
   "source": [
    "convert_time_towords('4:40')"
   ]
  },
  {
   "cell_type": "code",
   "execution_count": 10,
   "metadata": {
    "ExecuteTime": {
     "end_time": "2020-03-02T10:58:35.417164Z",
     "start_time": "2020-03-02T10:58:35.406597Z"
    }
   },
   "outputs": [
    {
     "data": {
      "text/plain": [
       "'$ one point two nine'"
      ]
     },
     "execution_count": 10,
     "metadata": {},
     "output_type": "execute_result"
    }
   ],
   "source": [
    "convert_price_towords(train_df['ltable_Price'].iloc[0])"
   ]
  },
  {
   "cell_type": "code",
   "execution_count": 11,
   "metadata": {
    "ExecuteTime": {
     "end_time": "2020-03-02T10:58:43.696679Z",
     "start_time": "2020-03-02T10:58:43.690461Z"
    }
   },
   "outputs": [
    {
     "data": {
      "text/plain": [
       "'Album Only'"
      ]
     },
     "execution_count": 11,
     "metadata": {},
     "output_type": "execute_result"
    }
   ],
   "source": [
    "convert_price_towords('Album Only')"
   ]
  },
  {
   "cell_type": "code",
   "execution_count": 12,
   "metadata": {
    "ExecuteTime": {
     "end_time": "2020-03-02T10:58:48.053501Z",
     "start_time": "2020-03-02T10:58:47.983553Z"
    }
   },
   "outputs": [],
   "source": [
    "train_df['ltable_Price'] = train_df['ltable_Price'].apply(convert_price_towords)\n",
    "train_df['rtable_Price'] = train_df['rtable_Price'].apply(convert_price_towords)"
   ]
  },
  {
   "cell_type": "code",
   "execution_count": 13,
   "metadata": {
    "ExecuteTime": {
     "end_time": "2020-03-02T10:58:48.759209Z",
     "start_time": "2020-03-02T10:58:48.727854Z"
    }
   },
   "outputs": [],
   "source": [
    "validation_df['ltable_Price'] = validation_df['ltable_Price'].apply(convert_price_towords)\n",
    "validation_df['rtable_Price'] = validation_df['rtable_Price'].apply(convert_price_towords)"
   ]
  },
  {
   "cell_type": "code",
   "execution_count": 14,
   "metadata": {
    "ExecuteTime": {
     "end_time": "2020-03-02T10:58:49.432474Z",
     "start_time": "2020-03-02T10:58:49.401722Z"
    }
   },
   "outputs": [],
   "source": [
    "test_df['ltable_Price'] = test_df['ltable_Price'].apply(convert_price_towords)\n",
    "test_df['rtable_Price'] = test_df['rtable_Price'].apply(convert_price_towords)"
   ]
  },
  {
   "cell_type": "code",
   "execution_count": 15,
   "metadata": {
    "ExecuteTime": {
     "end_time": "2020-03-02T10:58:50.193888Z",
     "start_time": "2020-03-02T10:58:50.153253Z"
    }
   },
   "outputs": [
    {
     "data": {
      "text/html": [
       "<div>\n",
       "<style scoped>\n",
       "    .dataframe tbody tr th:only-of-type {\n",
       "        vertical-align: middle;\n",
       "    }\n",
       "\n",
       "    .dataframe tbody tr th {\n",
       "        vertical-align: top;\n",
       "    }\n",
       "\n",
       "    .dataframe thead th {\n",
       "        text-align: right;\n",
       "    }\n",
       "</style>\n",
       "<table border=\"1\" class=\"dataframe\">\n",
       "  <thead>\n",
       "    <tr style=\"text-align: right;\">\n",
       "      <th></th>\n",
       "      <th>label</th>\n",
       "      <th>ltable_Song_Name</th>\n",
       "      <th>ltable_Artist_Name</th>\n",
       "      <th>ltable_Album_Name</th>\n",
       "      <th>ltable_Genre</th>\n",
       "      <th>ltable_Price</th>\n",
       "      <th>ltable_CopyRight</th>\n",
       "      <th>ltable_Time</th>\n",
       "      <th>ltable_Released</th>\n",
       "      <th>rtable_Song_Name</th>\n",
       "      <th>rtable_Artist_Name</th>\n",
       "      <th>rtable_Album_Name</th>\n",
       "      <th>rtable_Genre</th>\n",
       "      <th>rtable_Price</th>\n",
       "      <th>rtable_CopyRight</th>\n",
       "      <th>rtable_Time</th>\n",
       "      <th>rtable_Released</th>\n",
       "      <th>id</th>\n",
       "    </tr>\n",
       "  </thead>\n",
       "  <tbody>\n",
       "    <tr>\n",
       "      <th>0</th>\n",
       "      <td>0</td>\n",
       "      <td>Illusion ( feat . Echosmith )</td>\n",
       "      <td>Zedd</td>\n",
       "      <td>True Colors</td>\n",
       "      <td>Dance , Music , Electronic</td>\n",
       "      <td>$ one point two nine</td>\n",
       "      <td>2015 Interscope Records</td>\n",
       "      <td>6:30</td>\n",
       "      <td>18-May-15</td>\n",
       "      <td>Transmission [ feat . X Ambassadors ]</td>\n",
       "      <td>Zedd</td>\n",
       "      <td>True Colors</td>\n",
       "      <td>Dance &amp; Electronic</td>\n",
       "      <td>$ one point two nine</td>\n",
       "      <td>( C ) 2015 Interscope Records</td>\n",
       "      <td>4:02</td>\n",
       "      <td>May 18 , 2015</td>\n",
       "      <td>245</td>\n",
       "    </tr>\n",
       "    <tr>\n",
       "      <th>1</th>\n",
       "      <td>0</td>\n",
       "      <td>I 'm a Machine ( feat . Crystal Nicole and Tyr...</td>\n",
       "      <td>David Guetta</td>\n",
       "      <td>Nothing But the Beat</td>\n",
       "      <td>Dance , Music , Rock , House , Electronic</td>\n",
       "      <td>$ one point two nine</td>\n",
       "      <td>2011 What A Music Ltd , Licence exclusive Parl...</td>\n",
       "      <td>3:34</td>\n",
       "      <td>26-Aug-11</td>\n",
       "      <td>I Can Only Imagine ( feat . Chris Brown &amp; Lil ...</td>\n",
       "      <td>David Guetta</td>\n",
       "      <td>Nothing But the Beat 2.0 [ Explicit ]</td>\n",
       "      <td>Dance &amp; Electronic</td>\n",
       "      <td>$ zero point nine nine</td>\n",
       "      <td>2015 Real Sounds</td>\n",
       "      <td>3:29</td>\n",
       "      <td>August 26 , 2011</td>\n",
       "      <td>44</td>\n",
       "    </tr>\n",
       "    <tr>\n",
       "      <th>2</th>\n",
       "      <td>0</td>\n",
       "      <td>I 'm a Machine ( feat . Crystal Nicole and Tyr...</td>\n",
       "      <td>David Guetta</td>\n",
       "      <td>Nothing But the Beat</td>\n",
       "      <td>Dance , Music , House , Electronic , Rock</td>\n",
       "      <td>$ one point two nine</td>\n",
       "      <td>2011 What A Music Ltd , Licence exclusive Parl...</td>\n",
       "      <td>3:34</td>\n",
       "      <td>26-Aug-11</td>\n",
       "      <td>I Can Only Imagine ( feat . Chris Brown &amp; Lil ...</td>\n",
       "      <td>David Guetta</td>\n",
       "      <td>Nothing But the Beat 2.0 [ Explicit ]</td>\n",
       "      <td>Dance &amp; Electronic</td>\n",
       "      <td>$ zero point nine nine</td>\n",
       "      <td>2015 Real Sounds</td>\n",
       "      <td>3:29</td>\n",
       "      <td>August 26 , 2011</td>\n",
       "      <td>58</td>\n",
       "    </tr>\n",
       "    <tr>\n",
       "      <th>3</th>\n",
       "      <td>1</td>\n",
       "      <td>Silver and Gold</td>\n",
       "      <td>Little Big Town</td>\n",
       "      <td>Pain Killer</td>\n",
       "      <td>Country , Music , Honky Tonk , Contemporary Co...</td>\n",
       "      <td>$ one point two nine</td>\n",
       "      <td>2014 Little Big Town , LLC Under exclusive lic...</td>\n",
       "      <td>3:33</td>\n",
       "      <td>21-Oct-14</td>\n",
       "      <td>Silver And Gold</td>\n",
       "      <td>Little Big Town</td>\n",
       "      <td>Pain Killer</td>\n",
       "      <td>Country</td>\n",
       "      <td>$ one point two nine</td>\n",
       "      <td>( C ) 2014 Little Big Town LLC Under exclusive...</td>\n",
       "      <td>3:31</td>\n",
       "      <td>October 21 , 2014</td>\n",
       "      <td>102</td>\n",
       "    </tr>\n",
       "    <tr>\n",
       "      <th>4</th>\n",
       "      <td>0</td>\n",
       "      <td>Dangerous ( feat . Sam Martin ) [ Robin Schulz...</td>\n",
       "      <td>David Guetta</td>\n",
       "      <td>Listen ( Deluxe Version )</td>\n",
       "      <td>Dance , Music , Rock , House , Electronic , Fr...</td>\n",
       "      <td>$ one point two nine</td>\n",
       "      <td>2014 What A Music Ltd. under exclusive license...</td>\n",
       "      <td>3:20</td>\n",
       "      <td>24-Nov-14</td>\n",
       "      <td>I 'll Keep Loving you ( feat . Birdy &amp; Jaymes ...</td>\n",
       "      <td>David Guetta</td>\n",
       "      <td>Listen ( Deluxe )</td>\n",
       "      <td>Dance &amp; Electronic</td>\n",
       "      <td>$ one point two nine</td>\n",
       "      <td>2015 If Moving Your Mine</td>\n",
       "      <td>3:08</td>\n",
       "      <td>November 24 , 2014</td>\n",
       "      <td>50</td>\n",
       "    </tr>\n",
       "  </tbody>\n",
       "</table>\n",
       "</div>"
      ],
      "text/plain": [
       "   label                                   ltable_Song_Name  \\\n",
       "0      0                      Illusion ( feat . Echosmith )   \n",
       "1      0  I 'm a Machine ( feat . Crystal Nicole and Tyr...   \n",
       "2      0  I 'm a Machine ( feat . Crystal Nicole and Tyr...   \n",
       "3      1                                    Silver and Gold   \n",
       "4      0  Dangerous ( feat . Sam Martin ) [ Robin Schulz...   \n",
       "\n",
       "  ltable_Artist_Name          ltable_Album_Name  \\\n",
       "0               Zedd                True Colors   \n",
       "1       David Guetta       Nothing But the Beat   \n",
       "2       David Guetta       Nothing But the Beat   \n",
       "3    Little Big Town                Pain Killer   \n",
       "4       David Guetta  Listen ( Deluxe Version )   \n",
       "\n",
       "                                        ltable_Genre          ltable_Price  \\\n",
       "0                         Dance , Music , Electronic  $ one point two nine   \n",
       "1          Dance , Music , Rock , House , Electronic  $ one point two nine   \n",
       "2          Dance , Music , House , Electronic , Rock  $ one point two nine   \n",
       "3  Country , Music , Honky Tonk , Contemporary Co...  $ one point two nine   \n",
       "4  Dance , Music , Rock , House , Electronic , Fr...  $ one point two nine   \n",
       "\n",
       "                                    ltable_CopyRight ltable_Time  \\\n",
       "0                            2015 Interscope Records        6:30   \n",
       "1  2011 What A Music Ltd , Licence exclusive Parl...        3:34   \n",
       "2  2011 What A Music Ltd , Licence exclusive Parl...        3:34   \n",
       "3  2014 Little Big Town , LLC Under exclusive lic...        3:33   \n",
       "4  2014 What A Music Ltd. under exclusive license...        3:20   \n",
       "\n",
       "  ltable_Released                                   rtable_Song_Name  \\\n",
       "0       18-May-15              Transmission [ feat . X Ambassadors ]   \n",
       "1       26-Aug-11  I Can Only Imagine ( feat . Chris Brown & Lil ...   \n",
       "2       26-Aug-11  I Can Only Imagine ( feat . Chris Brown & Lil ...   \n",
       "3       21-Oct-14                                    Silver And Gold   \n",
       "4       24-Nov-14  I 'll Keep Loving you ( feat . Birdy & Jaymes ...   \n",
       "\n",
       "  rtable_Artist_Name                      rtable_Album_Name  \\\n",
       "0               Zedd                            True Colors   \n",
       "1       David Guetta  Nothing But the Beat 2.0 [ Explicit ]   \n",
       "2       David Guetta  Nothing But the Beat 2.0 [ Explicit ]   \n",
       "3    Little Big Town                            Pain Killer   \n",
       "4       David Guetta                      Listen ( Deluxe )   \n",
       "\n",
       "         rtable_Genre            rtable_Price  \\\n",
       "0  Dance & Electronic    $ one point two nine   \n",
       "1  Dance & Electronic  $ zero point nine nine   \n",
       "2  Dance & Electronic  $ zero point nine nine   \n",
       "3             Country    $ one point two nine   \n",
       "4  Dance & Electronic    $ one point two nine   \n",
       "\n",
       "                                    rtable_CopyRight rtable_Time  \\\n",
       "0                      ( C ) 2015 Interscope Records        4:02   \n",
       "1                                   2015 Real Sounds        3:29   \n",
       "2                                   2015 Real Sounds        3:29   \n",
       "3  ( C ) 2014 Little Big Town LLC Under exclusive...        3:31   \n",
       "4                           2015 If Moving Your Mine        3:08   \n",
       "\n",
       "      rtable_Released   id  \n",
       "0       May 18 , 2015  245  \n",
       "1    August 26 , 2011   44  \n",
       "2    August 26 , 2011   58  \n",
       "3   October 21 , 2014  102  \n",
       "4  November 24 , 2014   50  "
      ]
     },
     "execution_count": 15,
     "metadata": {},
     "output_type": "execute_result"
    }
   ],
   "source": [
    "train_df.head()"
   ]
  },
  {
   "cell_type": "code",
   "execution_count": 16,
   "metadata": {
    "ExecuteTime": {
     "end_time": "2020-03-02T10:59:01.135216Z",
     "start_time": "2020-03-02T10:59:00.530868Z"
    }
   },
   "outputs": [],
   "source": [
    "train_df['ltable_Time'] = train_df['ltable_Time'].apply(convert_time_towords)\n",
    "train_df['rtable_Time'] = train_df['rtable_Time'].apply(convert_time_towords)"
   ]
  },
  {
   "cell_type": "code",
   "execution_count": 17,
   "metadata": {
    "ExecuteTime": {
     "end_time": "2020-03-02T10:59:01.365368Z",
     "start_time": "2020-03-02T10:59:01.138309Z"
    }
   },
   "outputs": [],
   "source": [
    "validation_df['ltable_Time'] = validation_df['ltable_Time'].apply(convert_time_towords)\n",
    "validation_df['rtable_Time'] = validation_df['rtable_Time'].apply(convert_time_towords)"
   ]
  },
  {
   "cell_type": "code",
   "execution_count": 18,
   "metadata": {
    "ExecuteTime": {
     "end_time": "2020-03-02T10:59:01.566418Z",
     "start_time": "2020-03-02T10:59:01.367591Z"
    }
   },
   "outputs": [],
   "source": [
    "test_df['ltable_Time'] = test_df['ltable_Time'].apply(convert_time_towords)\n",
    "test_df['rtable_Time'] = test_df['rtable_Time'].apply(convert_time_towords)"
   ]
  },
  {
   "cell_type": "code",
   "execution_count": 19,
   "metadata": {
    "ExecuteTime": {
     "end_time": "2020-03-02T10:59:02.591738Z",
     "start_time": "2020-03-02T10:59:02.554314Z"
    }
   },
   "outputs": [
    {
     "data": {
      "text/html": [
       "<div>\n",
       "<style scoped>\n",
       "    .dataframe tbody tr th:only-of-type {\n",
       "        vertical-align: middle;\n",
       "    }\n",
       "\n",
       "    .dataframe tbody tr th {\n",
       "        vertical-align: top;\n",
       "    }\n",
       "\n",
       "    .dataframe thead th {\n",
       "        text-align: right;\n",
       "    }\n",
       "</style>\n",
       "<table border=\"1\" class=\"dataframe\">\n",
       "  <thead>\n",
       "    <tr style=\"text-align: right;\">\n",
       "      <th></th>\n",
       "      <th>label</th>\n",
       "      <th>ltable_Song_Name</th>\n",
       "      <th>ltable_Artist_Name</th>\n",
       "      <th>ltable_Album_Name</th>\n",
       "      <th>ltable_Genre</th>\n",
       "      <th>ltable_Price</th>\n",
       "      <th>ltable_CopyRight</th>\n",
       "      <th>ltable_Time</th>\n",
       "      <th>ltable_Released</th>\n",
       "      <th>rtable_Song_Name</th>\n",
       "      <th>rtable_Artist_Name</th>\n",
       "      <th>rtable_Album_Name</th>\n",
       "      <th>rtable_Genre</th>\n",
       "      <th>rtable_Price</th>\n",
       "      <th>rtable_CopyRight</th>\n",
       "      <th>rtable_Time</th>\n",
       "      <th>rtable_Released</th>\n",
       "      <th>id</th>\n",
       "    </tr>\n",
       "  </thead>\n",
       "  <tbody>\n",
       "    <tr>\n",
       "      <th>0</th>\n",
       "      <td>0</td>\n",
       "      <td>Elevator ( feat . Timbaland )</td>\n",
       "      <td>Flo Rida</td>\n",
       "      <td>Mail On Sunday ( Deluxe Version )</td>\n",
       "      <td>Hip-Hop/Rap , Music , Dirty South</td>\n",
       "      <td>$ one point nine nine</td>\n",
       "      <td>2008 Atlantic Recording Corporation for the Un...</td>\n",
       "      <td>three minutes and fifty-five seconds</td>\n",
       "      <td>17-Mar-08</td>\n",
       "      <td>Money Right ( feat . Rick Ross &amp; Brisco ) [ Ex...</td>\n",
       "      <td>Flo Rida</td>\n",
       "      <td>Mail On Sunday [ Explicit ]</td>\n",
       "      <td>Rap &amp; Hip-Hop</td>\n",
       "      <td>$ one point two nine</td>\n",
       "      <td>2013 Warner Bros. . Records Inc.</td>\n",
       "      <td>three minutes and seventeen seconds</td>\n",
       "      <td>March 17 , 2008</td>\n",
       "      <td>731</td>\n",
       "    </tr>\n",
       "    <tr>\n",
       "      <th>1</th>\n",
       "      <td>0</td>\n",
       "      <td>The Woodland Realm ( Extended Version )</td>\n",
       "      <td>Howard Shore</td>\n",
       "      <td>The Hobbit : The Desolation of Smaug ( Origina...</td>\n",
       "      <td>Soundtrack , Music , Soundtrack , Classical , ...</td>\n",
       "      <td>$ one point two nine</td>\n",
       "      <td>‰ ãÑ 2013 WaterTower Music</td>\n",
       "      <td>five minutes and fourteen seconds</td>\n",
       "      <td>10-Dec-13</td>\n",
       "      <td>The High Fells ( Extended Version )</td>\n",
       "      <td>Howard Shore</td>\n",
       "      <td>The Hobbit : The Desolation of Smaug ( Origina...</td>\n",
       "      <td>Soundtracks</td>\n",
       "      <td>$ one point two nine</td>\n",
       "      <td>2013 WaterTower Music / Warner Bros. . Enterta...</td>\n",
       "      <td>three minutes and thirty-eight seconds</td>\n",
       "      <td>December 10 , 2013</td>\n",
       "      <td>672</td>\n",
       "    </tr>\n",
       "    <tr>\n",
       "      <th>2</th>\n",
       "      <td>1</td>\n",
       "      <td>Extra Extra Credit</td>\n",
       "      <td>Wiz Khalifa</td>\n",
       "      <td>Flight School</td>\n",
       "      <td>Hip-Hop/Rap , Music</td>\n",
       "      <td>$ zero point nine nine</td>\n",
       "      <td>2009 Rostrum Records</td>\n",
       "      <td>four minutes and three seconds</td>\n",
       "      <td>17-Apr-09</td>\n",
       "      <td>Extra Extra Credit [ Explicit ]</td>\n",
       "      <td>Wiz Khalifa</td>\n",
       "      <td>Flight School [ Explicit ]</td>\n",
       "      <td>Rap &amp; Hip-Hop</td>\n",
       "      <td>$ zero point nine nine</td>\n",
       "      <td>2013 Mad Decent</td>\n",
       "      <td>four minutes and three seconds</td>\n",
       "      <td>April 17 , 2009</td>\n",
       "      <td>669</td>\n",
       "    </tr>\n",
       "    <tr>\n",
       "      <th>3</th>\n",
       "      <td>0</td>\n",
       "      <td>Toyfriend ( feat . Wynter Gordon ) [ Continuou...</td>\n",
       "      <td>David Guetta</td>\n",
       "      <td>One Love ( Deluxe Version )</td>\n",
       "      <td>Dance , Music</td>\n",
       "      <td>$ one point two nine</td>\n",
       "      <td>2010 Gum Prod licence exclusive Parlophone Mus...</td>\n",
       "      <td>two minutes and fifty-one seconds</td>\n",
       "      <td>21-Aug-09</td>\n",
       "      <td>Sound Of Letting Go ( Feat . Chris Willis )</td>\n",
       "      <td>David Guetta</td>\n",
       "      <td>One Love ( Deluxe Version )</td>\n",
       "      <td>Dance &amp; Electronic</td>\n",
       "      <td>$ one point two nine</td>\n",
       "      <td>( C ) 2014 Swedish House Mafia Holdings Ltd ( ...</td>\n",
       "      <td>three minutes and forty-seven seconds</td>\n",
       "      <td>August 21 , 2009</td>\n",
       "      <td>734</td>\n",
       "    </tr>\n",
       "    <tr>\n",
       "      <th>4</th>\n",
       "      <td>0</td>\n",
       "      <td>Dangerous ( feat . Sam Martin ) [ Robin Schulz...</td>\n",
       "      <td>David Guetta</td>\n",
       "      <td>Listen ( Deluxe Version )</td>\n",
       "      <td>Dance , Music , Rock , House , Electronic , Fr...</td>\n",
       "      <td>$ one point two nine</td>\n",
       "      <td>2014 What A Music Ltd. under exclusive license...</td>\n",
       "      <td>three minutes and twenty seconds</td>\n",
       "      <td>24-Nov-14</td>\n",
       "      <td>Missing You ( Feat . Novel ; Continuous Mix Ve...</td>\n",
       "      <td>David Guetta</td>\n",
       "      <td>One Love ( Deluxe Version )</td>\n",
       "      <td>Dance &amp; Electronic</td>\n",
       "      <td>$ one point two nine</td>\n",
       "      <td>( C ) 2014 Swedish House Mafia Holdings Ltd ( ...</td>\n",
       "      <td>four minutes and fifty-nine seconds</td>\n",
       "      <td>August 21 , 2009</td>\n",
       "      <td>699</td>\n",
       "    </tr>\n",
       "  </tbody>\n",
       "</table>\n",
       "</div>"
      ],
      "text/plain": [
       "   label                                   ltable_Song_Name  \\\n",
       "0      0                      Elevator ( feat . Timbaland )   \n",
       "1      0            The Woodland Realm ( Extended Version )   \n",
       "2      1                                 Extra Extra Credit   \n",
       "3      0  Toyfriend ( feat . Wynter Gordon ) [ Continuou...   \n",
       "4      0  Dangerous ( feat . Sam Martin ) [ Robin Schulz...   \n",
       "\n",
       "  ltable_Artist_Name                                  ltable_Album_Name  \\\n",
       "0           Flo Rida                  Mail On Sunday ( Deluxe Version )   \n",
       "1       Howard Shore  The Hobbit : The Desolation of Smaug ( Origina...   \n",
       "2        Wiz Khalifa                                      Flight School   \n",
       "3       David Guetta                        One Love ( Deluxe Version )   \n",
       "4       David Guetta                          Listen ( Deluxe Version )   \n",
       "\n",
       "                                        ltable_Genre            ltable_Price  \\\n",
       "0                  Hip-Hop/Rap , Music , Dirty South   $ one point nine nine   \n",
       "1  Soundtrack , Music , Soundtrack , Classical , ...    $ one point two nine   \n",
       "2                                Hip-Hop/Rap , Music  $ zero point nine nine   \n",
       "3                                      Dance , Music    $ one point two nine   \n",
       "4  Dance , Music , Rock , House , Electronic , Fr...    $ one point two nine   \n",
       "\n",
       "                                    ltable_CopyRight  \\\n",
       "0  2008 Atlantic Recording Corporation for the Un...   \n",
       "1                         ‰ ãÑ 2013 WaterTower Music   \n",
       "2                               2009 Rostrum Records   \n",
       "3  2010 Gum Prod licence exclusive Parlophone Mus...   \n",
       "4  2014 What A Music Ltd. under exclusive license...   \n",
       "\n",
       "                            ltable_Time ltable_Released  \\\n",
       "0  three minutes and fifty-five seconds       17-Mar-08   \n",
       "1     five minutes and fourteen seconds       10-Dec-13   \n",
       "2        four minutes and three seconds       17-Apr-09   \n",
       "3     two minutes and fifty-one seconds       21-Aug-09   \n",
       "4      three minutes and twenty seconds       24-Nov-14   \n",
       "\n",
       "                                    rtable_Song_Name rtable_Artist_Name  \\\n",
       "0  Money Right ( feat . Rick Ross & Brisco ) [ Ex...           Flo Rida   \n",
       "1                The High Fells ( Extended Version )       Howard Shore   \n",
       "2                    Extra Extra Credit [ Explicit ]        Wiz Khalifa   \n",
       "3        Sound Of Letting Go ( Feat . Chris Willis )       David Guetta   \n",
       "4  Missing You ( Feat . Novel ; Continuous Mix Ve...       David Guetta   \n",
       "\n",
       "                                   rtable_Album_Name        rtable_Genre  \\\n",
       "0                        Mail On Sunday [ Explicit ]       Rap & Hip-Hop   \n",
       "1  The Hobbit : The Desolation of Smaug ( Origina...         Soundtracks   \n",
       "2                         Flight School [ Explicit ]       Rap & Hip-Hop   \n",
       "3                        One Love ( Deluxe Version )  Dance & Electronic   \n",
       "4                        One Love ( Deluxe Version )  Dance & Electronic   \n",
       "\n",
       "             rtable_Price                                   rtable_CopyRight  \\\n",
       "0    $ one point two nine                   2013 Warner Bros. . Records Inc.   \n",
       "1    $ one point two nine  2013 WaterTower Music / Warner Bros. . Enterta...   \n",
       "2  $ zero point nine nine                                    2013 Mad Decent   \n",
       "3    $ one point two nine  ( C ) 2014 Swedish House Mafia Holdings Ltd ( ...   \n",
       "4    $ one point two nine  ( C ) 2014 Swedish House Mafia Holdings Ltd ( ...   \n",
       "\n",
       "                              rtable_Time     rtable_Released   id  \n",
       "0     three minutes and seventeen seconds     March 17 , 2008  731  \n",
       "1  three minutes and thirty-eight seconds  December 10 , 2013  672  \n",
       "2          four minutes and three seconds     April 17 , 2009  669  \n",
       "3   three minutes and forty-seven seconds    August 21 , 2009  734  \n",
       "4     four minutes and fifty-nine seconds    August 21 , 2009  699  "
      ]
     },
     "execution_count": 19,
     "metadata": {},
     "output_type": "execute_result"
    }
   ],
   "source": [
    "test_df.head()"
   ]
  },
  {
   "cell_type": "code",
   "execution_count": 23,
   "metadata": {
    "ExecuteTime": {
     "end_time": "2020-03-02T11:00:15.995461Z",
     "start_time": "2020-03-02T11:00:15.990729Z"
    }
   },
   "outputs": [],
   "source": [
    "if not(os.path.exists('exp5')):\n",
    "    os.mkdir('exp5')"
   ]
  },
  {
   "cell_type": "code",
   "execution_count": 24,
   "metadata": {
    "ExecuteTime": {
     "end_time": "2020-03-02T11:00:43.243568Z",
     "start_time": "2020-03-02T11:00:43.214391Z"
    }
   },
   "outputs": [],
   "source": [
    "train_df.to_csv('exp5/train_naturalencoding.csv',index=False)\n",
    "validation_df.to_csv('exp5/validation_naturalencoding.csv',index=False)\n",
    "test_df.to_csv('exp5/test_naturalencoding.csv',index=False)"
   ]
  },
  {
   "cell_type": "markdown",
   "metadata": {},
   "source": [
    "### Create Positive and negative examples"
   ]
  },
  {
   "cell_type": "code",
   "execution_count": 51,
   "metadata": {},
   "outputs": [],
   "source": [
    "train_negatives = train_df[train_df['label']==0]\n",
    "validation_negatives = validation_df[validation_df['label']==0]\n",
    "test_negatives = test_df[test_df['label']==0]"
   ]
  },
  {
   "cell_type": "code",
   "execution_count": 52,
   "metadata": {},
   "outputs": [],
   "source": [
    "train_positives = train_df[train_df['label']==1]\n",
    "validation_positives = validation_df[validation_df['label']==1]\n",
    "test_positives = test_df[test_df['label']==1]"
   ]
  },
  {
   "cell_type": "code",
   "execution_count": 53,
   "metadata": {},
   "outputs": [],
   "source": [
    "negatives_df = train_negatives.append(validation_negatives,ignore_index=True)\n",
    "negatives_df = negatives_df.append(test_negatives,ignore_index=True)"
   ]
  },
  {
   "cell_type": "code",
   "execution_count": 54,
   "metadata": {},
   "outputs": [],
   "source": [
    "positives_df = train_positives.append(validation_positives,ignore_index=True)\n",
    "positives_df = positives_df.append(test_positives,ignore_index=True)"
   ]
  },
  {
   "cell_type": "code",
   "execution_count": 55,
   "metadata": {},
   "outputs": [
    {
     "data": {
      "text/plain": [
       "((407, 18), (132, 18))"
      ]
     },
     "execution_count": 55,
     "metadata": {},
     "output_type": "execute_result"
    }
   ],
   "source": [
    "negatives_df.shape, positives_df.shape"
   ]
  },
  {
   "cell_type": "code",
   "execution_count": 58,
   "metadata": {},
   "outputs": [],
   "source": [
    "negatives_df.to_csv('sample_data/itunes-amazon/exp5/negatives_naturalencoding.csv',index=False)\n",
    "positives_df.to_csv('sample_data/itunes-amazon/exp5/positives_naturalencoding.csv',index=False)"
   ]
  },
  {
   "cell_type": "markdown",
   "metadata": {},
   "source": [
    "## Training with new datasets"
   ]
  },
  {
   "cell_type": "code",
   "execution_count": 25,
   "metadata": {
    "ExecuteTime": {
     "end_time": "2020-03-02T11:02:02.031817Z",
     "start_time": "2020-03-02T11:01:49.157510Z"
    }
   },
   "outputs": [
    {
     "name": "stderr",
     "output_type": "stream",
     "text": [
      "\n",
      "Reading and processing data from \"exp5/train_naturalencoding.csv\"\n",
      "0% [############################# ] 100% | ETA: 00:00:00\n",
      "Reading and processing data from \"exp5/validation_naturalencoding.csv\"\n",
      "0% [############################# ] 100% | ETA: 00:00:00\n",
      "Reading and processing data from \"exp5/test_naturalencoding.csv\"\n",
      "0% [############################# ] 100% | ETA: 00:00:00\n",
      "Building vocabulary\n",
      "0% [#] 100% | ETA: 00:00:00\n",
      "Total time elapsed: 00:00:00\n",
      "\n",
      "Computing principal components\n",
      "0% [#] 100% | ETA: 00:00:00\n",
      "Total time elapsed: 00:00:00\n"
     ]
    }
   ],
   "source": [
    "import deepmatcher as dm \n",
    "data_dir = 'exp5'\n",
    "train,validation,test = dm.data.process(path = data_dir,train='train_naturalencoding.csv',validation\n",
    "                                        ='validation_naturalencoding.csv',test='test_naturalencoding.csv'\n",
    "                                        ,left_prefix='ltable_',right_prefix='rtable_',cache = 'naturalencoding.pth')"
   ]
  },
  {
   "cell_type": "code",
   "execution_count": 26,
   "metadata": {
    "ExecuteTime": {
     "end_time": "2020-03-02T11:02:44.483771Z",
     "start_time": "2020-03-02T11:02:44.475695Z"
    }
   },
   "outputs": [],
   "source": [
    "hybrid_model = dm.MatchingModel(attr_summarizer='hybrid')"
   ]
  },
  {
   "cell_type": "code",
   "execution_count": 27,
   "metadata": {
    "ExecuteTime": {
     "end_time": "2020-03-02T11:06:52.325492Z",
     "start_time": "2020-03-02T11:02:46.109123Z"
    }
   },
   "outputs": [
    {
     "name": "stdout",
     "output_type": "stream",
     "text": [
      "* Number of trainable parameters: 17757810\n",
      "===>  TRAIN Epoch 1\n"
     ]
    },
    {
     "name": "stderr",
     "output_type": "stream",
     "text": [
      "/home/nvidia/anaconda3/envs/torchenv/lib/python3.6/site-packages/torch/nn/functional.py:1932: UserWarning: reduction: 'mean' divides the total loss by both the batch size and the support size.'batchmean' divides only by the batch size, and aligns with the KL div math definition.'mean' will be changed to behave the same as 'batchmean' in the next major release.\n",
      "  warnings.warn(\"reduction: 'mean' divides the total loss by both the batch size and the support size.\"\n",
      "0% [████] 100% | ETA: 00:00:00\n",
      "Total time elapsed: 00:00:11\n"
     ]
    },
    {
     "name": "stdout",
     "output_type": "stream",
     "text": [
      "Finished Epoch 1 || Run Time:   10.2 | Load Time:    2.1 || F1:  47.89 | Prec:  33.01 | Rec:  87.18 || Ex/s:  26.25\n",
      "\n",
      "===>  EVAL Epoch 1\n"
     ]
    },
    {
     "name": "stderr",
     "output_type": "stream",
     "text": [
      "0% [█] 100% | ETA: 00:00:00\n",
      "Total time elapsed: 00:00:01\n"
     ]
    },
    {
     "name": "stdout",
     "output_type": "stream",
     "text": [
      "Finished Epoch 1 || Run Time:    1.2 | Load Time:    0.6 || F1:  57.14 | Prec:  46.51 | Rec:  74.07 || Ex/s:  59.66\n",
      "\n",
      "* Best F1: tensor(57.1429, device='cuda:0')\n",
      "Saving best model...\n",
      "Done.\n",
      "---------------------\n",
      "\n",
      "===>  TRAIN Epoch 2\n"
     ]
    },
    {
     "name": "stderr",
     "output_type": "stream",
     "text": [
      "0% [████] 100% | ETA: 00:00:00\n",
      "Total time elapsed: 00:00:11\n"
     ]
    },
    {
     "name": "stdout",
     "output_type": "stream",
     "text": [
      "Finished Epoch 2 || Run Time:   10.3 | Load Time:    2.1 || F1:  70.83 | Prec:  59.65 | Rec:  87.18 || Ex/s:  25.86\n",
      "\n",
      "===>  EVAL Epoch 2\n"
     ]
    },
    {
     "name": "stderr",
     "output_type": "stream",
     "text": [
      "0% [█] 100% | ETA: 00:00:00\n",
      "Total time elapsed: 00:00:01\n"
     ]
    },
    {
     "name": "stdout",
     "output_type": "stream",
     "text": [
      "Finished Epoch 2 || Run Time:    1.3 | Load Time:    0.6 || F1:  62.16 | Prec:  48.94 | Rec:  85.19 || Ex/s:  55.83\n",
      "\n",
      "* Best F1: tensor(62.1622, device='cuda:0')\n",
      "Saving best model...\n",
      "Done.\n",
      "---------------------\n",
      "\n",
      "===>  TRAIN Epoch 3\n"
     ]
    },
    {
     "name": "stderr",
     "output_type": "stream",
     "text": [
      "0% [████] 100% | ETA: 00:00:00\n",
      "Total time elapsed: 00:00:10\n"
     ]
    },
    {
     "name": "stdout",
     "output_type": "stream",
     "text": [
      "Finished Epoch 3 || Run Time:    9.7 | Load Time:    1.9 || F1:  76.84 | Prec:  65.18 | Rec:  93.59 || Ex/s:  27.47\n",
      "\n",
      "===>  EVAL Epoch 3\n"
     ]
    },
    {
     "name": "stderr",
     "output_type": "stream",
     "text": [
      "0% [█] 100% | ETA: 00:00:00\n",
      "Total time elapsed: 00:00:01\n"
     ]
    },
    {
     "name": "stdout",
     "output_type": "stream",
     "text": [
      "Finished Epoch 3 || Run Time:    1.0 | Load Time:    0.5 || F1:  78.12 | Prec:  67.57 | Rec:  92.59 || Ex/s:  69.09\n",
      "\n",
      "* Best F1: tensor(78.1250, device='cuda:0')\n",
      "Saving best model...\n",
      "Done.\n",
      "---------------------\n",
      "\n",
      "===>  TRAIN Epoch 4\n"
     ]
    },
    {
     "name": "stderr",
     "output_type": "stream",
     "text": [
      "0% [████] 100% | ETA: 00:00:00\n",
      "Total time elapsed: 00:00:09\n"
     ]
    },
    {
     "name": "stdout",
     "output_type": "stream",
     "text": [
      "Finished Epoch 4 || Run Time:    9.0 | Load Time:    1.7 || F1:  83.98 | Prec:  73.79 | Rec:  97.44 || Ex/s:  29.96\n",
      "\n",
      "===>  EVAL Epoch 4\n"
     ]
    },
    {
     "name": "stderr",
     "output_type": "stream",
     "text": [
      "0% [█] 100% | ETA: 00:00:00\n",
      "Total time elapsed: 00:00:01\n"
     ]
    },
    {
     "name": "stdout",
     "output_type": "stream",
     "text": [
      "Finished Epoch 4 || Run Time:    0.9 | Load Time:    0.5 || F1:  74.07 | Prec:  74.07 | Rec:  74.07 || Ex/s:  78.33\n",
      "\n",
      "---------------------\n",
      "\n",
      "===>  TRAIN Epoch 5\n"
     ]
    },
    {
     "name": "stderr",
     "output_type": "stream",
     "text": [
      "0% [████] 100% | ETA: 00:00:00\n",
      "Total time elapsed: 00:00:08\n"
     ]
    },
    {
     "name": "stdout",
     "output_type": "stream",
     "text": [
      "Finished Epoch 5 || Run Time:    8.0 | Load Time:    1.5 || F1:  92.68 | Prec:  88.37 | Rec:  97.44 || Ex/s:  33.75\n",
      "\n",
      "===>  EVAL Epoch 5\n"
     ]
    },
    {
     "name": "stderr",
     "output_type": "stream",
     "text": [
      "0% [█] 100% | ETA: 00:00:00\n",
      "Total time elapsed: 00:00:01\n"
     ]
    },
    {
     "name": "stdout",
     "output_type": "stream",
     "text": [
      "Finished Epoch 5 || Run Time:    0.9 | Load Time:    0.5 || F1:  80.70 | Prec:  76.67 | Rec:  85.19 || Ex/s:  77.68\n",
      "\n",
      "* Best F1: tensor(80.7018, device='cuda:0')\n",
      "Saving best model...\n",
      "Done.\n",
      "---------------------\n",
      "\n",
      "===>  TRAIN Epoch 6\n"
     ]
    },
    {
     "name": "stderr",
     "output_type": "stream",
     "text": [
      "0% [████] 100% | ETA: 00:00:00\n",
      "Total time elapsed: 00:00:08\n"
     ]
    },
    {
     "name": "stdout",
     "output_type": "stream",
     "text": [
      "Finished Epoch 6 || Run Time:    7.8 | Load Time:    1.6 || F1:  96.30 | Prec:  92.86 | Rec: 100.00 || Ex/s:  34.00\n",
      "\n",
      "===>  EVAL Epoch 6\n"
     ]
    },
    {
     "name": "stderr",
     "output_type": "stream",
     "text": [
      "0% [█] 100% | ETA: 00:00:00\n",
      "Total time elapsed: 00:00:00\n"
     ]
    },
    {
     "name": "stdout",
     "output_type": "stream",
     "text": [
      "Finished Epoch 6 || Run Time:    0.9 | Load Time:    0.5 || F1:  82.35 | Prec:  87.50 | Rec:  77.78 || Ex/s:  79.23\n",
      "\n",
      "* Best F1: tensor(82.3529, device='cuda:0')\n",
      "Saving best model...\n",
      "Done.\n",
      "---------------------\n",
      "\n",
      "===>  TRAIN Epoch 7\n"
     ]
    },
    {
     "name": "stderr",
     "output_type": "stream",
     "text": [
      "0% [████] 100% | ETA: 00:00:00\n",
      "Total time elapsed: 00:00:09\n"
     ]
    },
    {
     "name": "stdout",
     "output_type": "stream",
     "text": [
      "Finished Epoch 7 || Run Time:    8.2 | Load Time:    1.6 || F1:  96.30 | Prec:  92.86 | Rec: 100.00 || Ex/s:  32.71\n",
      "\n",
      "===>  EVAL Epoch 7\n"
     ]
    },
    {
     "name": "stderr",
     "output_type": "stream",
     "text": [
      "0% [█] 100% | ETA: 00:00:00\n",
      "Total time elapsed: 00:00:01\n"
     ]
    },
    {
     "name": "stdout",
     "output_type": "stream",
     "text": [
      "Finished Epoch 7 || Run Time:    0.9 | Load Time:    0.5 || F1:  86.27 | Prec:  91.67 | Rec:  81.48 || Ex/s:  78.42\n",
      "\n",
      "* Best F1: tensor(86.2745, device='cuda:0')\n",
      "Saving best model...\n",
      "Done.\n",
      "---------------------\n",
      "\n",
      "===>  TRAIN Epoch 8\n"
     ]
    },
    {
     "name": "stderr",
     "output_type": "stream",
     "text": [
      "0% [████] 100% | ETA: 00:00:00\n",
      "Total time elapsed: 00:00:09\n"
     ]
    },
    {
     "name": "stdout",
     "output_type": "stream",
     "text": [
      "Finished Epoch 8 || Run Time:    8.2 | Load Time:    1.6 || F1:  97.50 | Prec:  95.12 | Rec: 100.00 || Ex/s:  32.86\n",
      "\n",
      "===>  EVAL Epoch 8\n"
     ]
    },
    {
     "name": "stderr",
     "output_type": "stream",
     "text": [
      "0% [█] 100% | ETA: 00:00:00\n",
      "Total time elapsed: 00:00:00\n"
     ]
    },
    {
     "name": "stdout",
     "output_type": "stream",
     "text": [
      "Finished Epoch 8 || Run Time:    0.9 | Load Time:    0.5 || F1:  85.25 | Prec:  76.47 | Rec:  96.30 || Ex/s:  78.62\n",
      "\n",
      "---------------------\n",
      "\n",
      "===>  TRAIN Epoch 9\n"
     ]
    },
    {
     "name": "stderr",
     "output_type": "stream",
     "text": [
      "0% [████] 100% | ETA: 00:00:00\n",
      "Total time elapsed: 00:00:09\n"
     ]
    },
    {
     "name": "stdout",
     "output_type": "stream",
     "text": [
      "Finished Epoch 9 || Run Time:    8.9 | Load Time:    1.7 || F1: 100.00 | Prec: 100.00 | Rec: 100.00 || Ex/s:  30.13\n",
      "\n",
      "===>  EVAL Epoch 9\n"
     ]
    },
    {
     "name": "stderr",
     "output_type": "stream",
     "text": [
      "0% [█] 100% | ETA: 00:00:00\n",
      "Total time elapsed: 00:00:01\n"
     ]
    },
    {
     "name": "stdout",
     "output_type": "stream",
     "text": [
      "Finished Epoch 9 || Run Time:    0.9 | Load Time:    0.5 || F1:  85.25 | Prec:  76.47 | Rec:  96.30 || Ex/s:  79.03\n",
      "\n",
      "---------------------\n",
      "\n",
      "===>  TRAIN Epoch 10\n"
     ]
    },
    {
     "name": "stderr",
     "output_type": "stream",
     "text": [
      "0% [████] 100% | ETA: 00:00:00\n",
      "Total time elapsed: 00:00:08\n"
     ]
    },
    {
     "name": "stdout",
     "output_type": "stream",
     "text": [
      "Finished Epoch 10 || Run Time:    7.6 | Load Time:    1.5 || F1: 100.00 | Prec: 100.00 | Rec: 100.00 || Ex/s:  35.16\n",
      "\n",
      "===>  EVAL Epoch 10\n"
     ]
    },
    {
     "name": "stderr",
     "output_type": "stream",
     "text": [
      "0% [█] 100% | ETA: 00:00:00\n",
      "Total time elapsed: 00:00:00\n"
     ]
    },
    {
     "name": "stdout",
     "output_type": "stream",
     "text": [
      "Finished Epoch 10 || Run Time:    0.9 | Load Time:    0.5 || F1:  86.21 | Prec:  80.65 | Rec:  92.59 || Ex/s:  79.59\n",
      "\n",
      "---------------------\n",
      "\n",
      "===>  TRAIN Epoch 11\n"
     ]
    },
    {
     "name": "stderr",
     "output_type": "stream",
     "text": [
      "0% [████] 100% | ETA: 00:00:00\n",
      "Total time elapsed: 00:00:08\n"
     ]
    },
    {
     "name": "stdout",
     "output_type": "stream",
     "text": [
      "Finished Epoch 11 || Run Time:    7.9 | Load Time:    1.5 || F1: 100.00 | Prec: 100.00 | Rec: 100.00 || Ex/s:  34.24\n",
      "\n",
      "===>  EVAL Epoch 11\n"
     ]
    },
    {
     "name": "stderr",
     "output_type": "stream",
     "text": [
      "0% [█] 100% | ETA: 00:00:00\n",
      "Total time elapsed: 00:00:01\n"
     ]
    },
    {
     "name": "stdout",
     "output_type": "stream",
     "text": [
      "Finished Epoch 11 || Run Time:    1.0 | Load Time:    0.5 || F1:  86.21 | Prec:  80.65 | Rec:  92.59 || Ex/s:  70.15\n",
      "\n",
      "---------------------\n",
      "\n",
      "===>  TRAIN Epoch 12\n"
     ]
    },
    {
     "name": "stderr",
     "output_type": "stream",
     "text": [
      "0% [████] 100% | ETA: 00:00:00\n",
      "Total time elapsed: 00:00:08\n"
     ]
    },
    {
     "name": "stdout",
     "output_type": "stream",
     "text": [
      "Finished Epoch 12 || Run Time:    7.7 | Load Time:    1.6 || F1: 100.00 | Prec: 100.00 | Rec: 100.00 || Ex/s:  34.46\n",
      "\n",
      "===>  EVAL Epoch 12\n"
     ]
    },
    {
     "name": "stderr",
     "output_type": "stream",
     "text": [
      "0% [█] 100% | ETA: 00:00:00\n",
      "Total time elapsed: 00:00:01\n"
     ]
    },
    {
     "name": "stdout",
     "output_type": "stream",
     "text": [
      "Finished Epoch 12 || Run Time:    1.0 | Load Time:    0.5 || F1:  86.21 | Prec:  80.65 | Rec:  92.59 || Ex/s:  69.21\n",
      "\n",
      "---------------------\n",
      "\n",
      "===>  TRAIN Epoch 13\n"
     ]
    },
    {
     "name": "stderr",
     "output_type": "stream",
     "text": [
      "0% [████] 100% | ETA: 00:00:00\n",
      "Total time elapsed: 00:00:08\n"
     ]
    },
    {
     "name": "stdout",
     "output_type": "stream",
     "text": [
      "Finished Epoch 13 || Run Time:    7.4 | Load Time:    1.4 || F1: 100.00 | Prec: 100.00 | Rec: 100.00 || Ex/s:  36.10\n",
      "\n",
      "===>  EVAL Epoch 13\n"
     ]
    },
    {
     "name": "stderr",
     "output_type": "stream",
     "text": [
      "0% [█] 100% | ETA: 00:00:00\n",
      "Total time elapsed: 00:00:01\n"
     ]
    },
    {
     "name": "stdout",
     "output_type": "stream",
     "text": [
      "Finished Epoch 13 || Run Time:    0.9 | Load Time:    0.5 || F1:  86.21 | Prec:  80.65 | Rec:  92.59 || Ex/s:  78.96\n",
      "\n",
      "---------------------\n",
      "\n",
      "===>  TRAIN Epoch 14\n"
     ]
    },
    {
     "name": "stderr",
     "output_type": "stream",
     "text": [
      "0% [████] 100% | ETA: 00:00:00\n",
      "Total time elapsed: 00:00:08\n"
     ]
    },
    {
     "name": "stdout",
     "output_type": "stream",
     "text": [
      "Finished Epoch 14 || Run Time:    7.9 | Load Time:    1.6 || F1: 100.00 | Prec: 100.00 | Rec: 100.00 || Ex/s:  33.96\n",
      "\n",
      "===>  EVAL Epoch 14\n"
     ]
    },
    {
     "name": "stderr",
     "output_type": "stream",
     "text": [
      "0% [█] 100% | ETA: 00:00:00\n",
      "Total time elapsed: 00:00:00\n"
     ]
    },
    {
     "name": "stdout",
     "output_type": "stream",
     "text": [
      "Finished Epoch 14 || Run Time:    0.9 | Load Time:    0.5 || F1:  86.21 | Prec:  80.65 | Rec:  92.59 || Ex/s:  79.68\n",
      "\n",
      "---------------------\n",
      "\n",
      "===>  TRAIN Epoch 15\n"
     ]
    },
    {
     "name": "stderr",
     "output_type": "stream",
     "text": [
      "0% [████] 100% | ETA: 00:00:00\n",
      "Total time elapsed: 00:00:08\n"
     ]
    },
    {
     "name": "stdout",
     "output_type": "stream",
     "text": [
      "Finished Epoch 15 || Run Time:    8.0 | Load Time:    1.5 || F1: 100.00 | Prec: 100.00 | Rec: 100.00 || Ex/s:  33.79\n",
      "\n",
      "===>  EVAL Epoch 15\n"
     ]
    },
    {
     "name": "stderr",
     "output_type": "stream",
     "text": [
      "0% [█] 100% | ETA: 00:00:00\n",
      "Total time elapsed: 00:00:00\n"
     ]
    },
    {
     "name": "stdout",
     "output_type": "stream",
     "text": [
      "Finished Epoch 15 || Run Time:    0.9 | Load Time:    0.5 || F1:  86.21 | Prec:  80.65 | Rec:  92.59 || Ex/s:  79.49\n",
      "\n",
      "---------------------\n",
      "\n",
      "===>  TRAIN Epoch 16\n"
     ]
    },
    {
     "name": "stderr",
     "output_type": "stream",
     "text": [
      "0% [████] 100% | ETA: 00:00:00\n",
      "Total time elapsed: 00:00:08\n"
     ]
    },
    {
     "name": "stdout",
     "output_type": "stream",
     "text": [
      "Finished Epoch 16 || Run Time:    7.9 | Load Time:    1.5 || F1: 100.00 | Prec: 100.00 | Rec: 100.00 || Ex/s:  33.96\n",
      "\n",
      "===>  EVAL Epoch 16\n"
     ]
    },
    {
     "name": "stderr",
     "output_type": "stream",
     "text": [
      "0% [█] 100% | ETA: 00:00:00\n",
      "Total time elapsed: 00:00:00\n"
     ]
    },
    {
     "name": "stdout",
     "output_type": "stream",
     "text": [
      "Finished Epoch 16 || Run Time:    0.9 | Load Time:    0.5 || F1:  86.21 | Prec:  80.65 | Rec:  92.59 || Ex/s:  78.72\n",
      "\n",
      "---------------------\n",
      "\n",
      "===>  TRAIN Epoch 17\n"
     ]
    },
    {
     "name": "stderr",
     "output_type": "stream",
     "text": [
      "0% [████] 100% | ETA: 00:00:00\n",
      "Total time elapsed: 00:00:09\n"
     ]
    },
    {
     "name": "stdout",
     "output_type": "stream",
     "text": [
      "Finished Epoch 17 || Run Time:    9.1 | Load Time:    1.7 || F1: 100.00 | Prec: 100.00 | Rec: 100.00 || Ex/s:  29.71\n",
      "\n",
      "===>  EVAL Epoch 17\n"
     ]
    },
    {
     "name": "stderr",
     "output_type": "stream",
     "text": [
      "0% [█] 100% | ETA: 00:00:00\n",
      "Total time elapsed: 00:00:01\n"
     ]
    },
    {
     "name": "stdout",
     "output_type": "stream",
     "text": [
      "Finished Epoch 17 || Run Time:    1.0 | Load Time:    0.5 || F1:  86.21 | Prec:  80.65 | Rec:  92.59 || Ex/s:  69.96\n",
      "\n",
      "---------------------\n",
      "\n",
      "===>  TRAIN Epoch 18\n"
     ]
    },
    {
     "name": "stderr",
     "output_type": "stream",
     "text": [
      "0% [████] 100% | ETA: 00:00:00\n",
      "Total time elapsed: 00:00:10\n"
     ]
    },
    {
     "name": "stdout",
     "output_type": "stream",
     "text": [
      "Finished Epoch 18 || Run Time:    9.5 | Load Time:    1.8 || F1: 100.00 | Prec: 100.00 | Rec: 100.00 || Ex/s:  28.35\n",
      "\n",
      "===>  EVAL Epoch 18\n"
     ]
    },
    {
     "name": "stderr",
     "output_type": "stream",
     "text": [
      "0% [█] 100% | ETA: 00:00:00\n",
      "Total time elapsed: 00:00:01\n"
     ]
    },
    {
     "name": "stdout",
     "output_type": "stream",
     "text": [
      "Finished Epoch 18 || Run Time:    1.0 | Load Time:    0.6 || F1:  86.21 | Prec:  80.65 | Rec:  92.59 || Ex/s:  68.78\n",
      "\n",
      "---------------------\n",
      "\n",
      "===>  TRAIN Epoch 19\n"
     ]
    },
    {
     "name": "stderr",
     "output_type": "stream",
     "text": [
      "0% [████] 100% | ETA: 00:00:00\n",
      "Total time elapsed: 00:00:10\n"
     ]
    },
    {
     "name": "stdout",
     "output_type": "stream",
     "text": [
      "Finished Epoch 19 || Run Time:    9.6 | Load Time:    1.8 || F1: 100.00 | Prec: 100.00 | Rec: 100.00 || Ex/s:  28.21\n",
      "\n",
      "===>  EVAL Epoch 19\n"
     ]
    },
    {
     "name": "stderr",
     "output_type": "stream",
     "text": [
      "0% [█] 100% | ETA: 00:00:00\n",
      "Total time elapsed: 00:00:01\n"
     ]
    },
    {
     "name": "stdout",
     "output_type": "stream",
     "text": [
      "Finished Epoch 19 || Run Time:    1.0 | Load Time:    0.5 || F1:  86.21 | Prec:  80.65 | Rec:  92.59 || Ex/s:  70.39\n",
      "\n",
      "---------------------\n",
      "\n",
      "===>  TRAIN Epoch 20\n"
     ]
    },
    {
     "name": "stderr",
     "output_type": "stream",
     "text": [
      "0% [████] 100% | ETA: 00:00:00\n",
      "Total time elapsed: 00:00:10\n"
     ]
    },
    {
     "name": "stdout",
     "output_type": "stream",
     "text": [
      "Finished Epoch 20 || Run Time:    9.9 | Load Time:    1.9 || F1: 100.00 | Prec: 100.00 | Rec: 100.00 || Ex/s:  27.09\n",
      "\n",
      "===>  EVAL Epoch 20\n"
     ]
    },
    {
     "name": "stderr",
     "output_type": "stream",
     "text": [
      "0% [█] 100% | ETA: 00:00:00\n",
      "Total time elapsed: 00:00:01\n"
     ]
    },
    {
     "name": "stdout",
     "output_type": "stream",
     "text": [
      "Finished Epoch 20 || Run Time:    1.0 | Load Time:    0.5 || F1:  86.21 | Prec:  80.65 | Rec:  92.59 || Ex/s:  69.98\n",
      "\n",
      "---------------------\n",
      "\n",
      "Loading best model...\n",
      "Training done.\n"
     ]
    },
    {
     "data": {
      "text/plain": [
       "tensor(86.2745, device='cuda:0')"
      ]
     },
     "execution_count": 27,
     "metadata": {},
     "output_type": "execute_result"
    }
   ],
   "source": [
    "hybrid_model.run_train(train,validation,best_save_path='../../../models/hybrid_natencoding.pth',\n",
    "                       epochs=20,\n",
    "                      batch_size=16,\n",
    "                      pos_neg_ratio=4)"
   ]
  },
  {
   "cell_type": "code",
   "execution_count": 28,
   "metadata": {
    "ExecuteTime": {
     "end_time": "2020-03-02T11:07:02.118633Z",
     "start_time": "2020-03-02T11:07:00.835901Z"
    }
   },
   "outputs": [
    {
     "name": "stdout",
     "output_type": "stream",
     "text": [
      "===>  EVAL Epoch 7\n",
      "Finished Epoch 7 || Run Time:    0.6 | Load Time:    0.6 || F1:  94.34 | Prec:  96.15 | Rec:  92.59 || Ex/s:  87.73\n",
      "\n"
     ]
    },
    {
     "data": {
      "text/plain": [
       "tensor(94.3396, device='cuda:0')"
      ]
     },
     "execution_count": 28,
     "metadata": {},
     "output_type": "execute_result"
    }
   ],
   "source": [
    "hybrid_model.run_eval(test)"
   ]
  },
  {
   "cell_type": "markdown",
   "metadata": {},
   "source": [
    "## Test bias"
   ]
  },
  {
   "cell_type": "code",
   "execution_count": 38,
   "metadata": {
    "ExecuteTime": {
     "end_time": "2020-03-02T11:19:55.730047Z",
     "start_time": "2020-03-02T11:19:55.721076Z"
    }
   },
   "outputs": [],
   "source": [
    "test_neg = test_df[test_df.label==0].copy()\n",
    "test_pos = test_df[test_df.label==1].copy()"
   ]
  },
  {
   "cell_type": "code",
   "execution_count": 39,
   "metadata": {
    "ExecuteTime": {
     "end_time": "2020-03-02T11:20:29.097351Z",
     "start_time": "2020-03-02T11:20:29.085764Z"
    }
   },
   "outputs": [],
   "source": [
    "test_neg.to_csv('exp5/test_negatives.csv',index=False)\n",
    "test_pos.to_csv('exp5/test_positives.csv',index=False)"
   ]
  },
  {
   "cell_type": "code",
   "execution_count": null,
   "metadata": {},
   "outputs": [],
   "source": [
    "test_df['ltable_Time'] = test_df['rtable_Time']"
   ]
  },
  {
   "cell_type": "code",
   "execution_count": 35,
   "metadata": {
    "ExecuteTime": {
     "end_time": "2020-03-02T11:18:08.987340Z",
     "start_time": "2020-03-02T11:18:07.567002Z"
    }
   },
   "outputs": [
    {
     "data": {
      "text/plain": [
       "79"
      ]
     },
     "execution_count": 35,
     "metadata": {},
     "output_type": "execute_result"
    }
   ],
   "source": [
    "predictions = wrapDm(test_neg,hybrid_model)\n",
    "np.count_nonzero(np.argmax(predictions,axis=1)==0)"
   ]
  },
  {
   "cell_type": "markdown",
   "metadata": {},
   "source": [
    "## Compute Ri"
   ]
  },
  {
   "cell_type": "code",
   "execution_count": 36,
   "metadata": {
    "ExecuteTime": {
     "end_time": "2020-03-02T11:18:21.308918Z",
     "start_time": "2020-03-02T11:18:21.304746Z"
    }
   },
   "outputs": [],
   "source": [
    "attributes = ['Song_Name','Artist_Name','Album_Name','Genre','Price','CopyRight','Time','Released']"
   ]
  },
  {
   "cell_type": "code",
   "execution_count": 40,
   "metadata": {
    "ExecuteTime": {
     "end_time": "2020-03-02T11:21:27.370777Z",
     "start_time": "2020-03-02T11:21:25.306267Z"
    }
   },
   "outputs": [],
   "source": [
    "testneg = return_layer_input(hybrid_model,hybrid_model.classifier,'exp5',\n",
    "                            'test_negatives',0)\n",
    "testpos = return_layer_input(hybrid_model,hybrid_model.classifier,'exp5',\n",
    "                            'test_positives',1)"
   ]
  },
  {
   "cell_type": "code",
   "execution_count": 46,
   "metadata": {
    "ExecuteTime": {
     "end_time": "2020-03-02T11:26:41.819901Z",
     "start_time": "2020-03-02T11:26:12.362769Z"
    }
   },
   "outputs": [
    {
     "name": "stderr",
     "output_type": "stream",
     "text": [
      "100%|██████████| 81/81 [00:28<00:00,  2.80it/s]\n"
     ]
    }
   ],
   "source": [
    "testneg_ri,testneg_ri_agg = computeRi(hybrid_model.classifier,attributes,testneg,\n",
    "                                     0,'cosine')"
   ]
  },
  {
   "cell_type": "code",
   "execution_count": 51,
   "metadata": {
    "ExecuteTime": {
     "end_time": "2020-03-02T11:29:10.324172Z",
     "start_time": "2020-03-02T11:29:10.025581Z"
    }
   },
   "outputs": [
    {
     "data": {
      "text/plain": [
       "<matplotlib.axes._subplots.AxesSubplot at 0x7f25721614e0>"
      ]
     },
     "execution_count": 51,
     "metadata": {},
     "output_type": "execute_result"
    },
    {
     "data": {
      "image/png": "[encoded data removed]",
      "text/plain": [
       "<Figure size 432x288 with 1 Axes>"
      ]
     },
     "metadata": {
      "needs_background": "light"
     },
     "output_type": "display_data"
    }
   ],
   "source": [
    "testneg_ri_agg.drop(['sample_id'],axis=1).mean().plot.bar(color='red',rot=45)"
   ]
  },
  {
   "cell_type": "code",
   "execution_count": 49,
   "metadata": {
    "ExecuteTime": {
     "end_time": "2020-03-02T11:27:01.300991Z",
     "start_time": "2020-03-02T11:26:55.460758Z"
    }
   },
   "outputs": [
    {
     "name": "stderr",
     "output_type": "stream",
     "text": [
      "100%|██████████| 25/25 [00:05<00:00,  4.32it/s]\n"
     ]
    }
   ],
   "source": [
    "testpos_ri,testpos_ri_agg = computeRi(hybrid_model.classifier,attributes,testpos,\n",
    "                                     1,'cosine')"
   ]
  },
  {
   "cell_type": "code",
   "execution_count": 50,
   "metadata": {
    "ExecuteTime": {
     "end_time": "2020-03-02T11:27:16.960961Z",
     "start_time": "2020-03-02T11:27:16.672796Z"
    }
   },
   "outputs": [
    {
     "data": {
      "text/plain": [
       "<matplotlib.axes._subplots.AxesSubplot at 0x7f25721f1358>"
      ]
     },
     "execution_count": 50,
     "metadata": {},
     "output_type": "execute_result"
    },
    {
     "data": {
      "image/png": "[encoded data removed]",
      "text/plain": [
       "<Figure size 432x288 with 1 Axes>"
      ]
     },
     "metadata": {
      "needs_background": "light"
     },
     "output_type": "display_data"
    }
   ],
   "source": [
    "testpos_ri_agg.drop(['sample_id'],axis=1).mean().plot.bar(color='green')"
   ]
  },
  {
   "cell_type": "code",
   "execution_count": null,
   "metadata": {},
   "outputs": [],
   "source": []
  }
 ],
 "metadata": {
  "kernelspec": {
   "display_name": "Python 3",
   "language": "python",
   "name": "python3"
  },
  "language_info": {
   "codemirror_mode": {
    "name": "ipython",
    "version": 3
   },
   "file_extension": ".py",
   "mimetype": "text/x-python",
   "name": "python",
   "nbconvert_exporter": "python",
   "pygments_lexer": "ipython3",
   "version": "3.6.10"
  },
  "toc": {
   "base_numbering": 1,
   "nav_menu": {},
   "number_sections": true,
   "sideBar": true,
   "skip_h1_title": false,
   "title_cell": "Table of Contents",
   "title_sidebar": "Contents",
   "toc_cell": false,
   "toc_position": {},
   "toc_section_display": true,
   "toc_window_display": true
  }
 },
 "nbformat": 4,
 "nbformat_minor": 2
}

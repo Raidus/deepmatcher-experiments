{
 "cells": [
  {
   "cell_type": "markdown",
   "metadata": {},
   "source": [
    "# Experiment 12\n",
    "We want to evaluate Ri computation with fixed couples of attributes "
   ]
  },
  {
   "cell_type": "markdown",
   "metadata": {},
   "source": [
    "## Define utilities functions"
   ]
  },
  {
   "cell_type": "code",
   "execution_count": 229,
   "metadata": {},
   "outputs": [],
   "source": [
    "## return the rows that contains passed value in passed colum\n",
    "def get_indexes(df,val,col):\n",
    "    indexes = []\n",
    "    for idx,row in df.iterrows():\n",
    "        if row[col] == val:\n",
    "            indexes.append(idx)\n",
    "    return indexes"
   ]
  },
  {
   "cell_type": "code",
   "execution_count": 230,
   "metadata": {},
   "outputs": [],
   "source": [
    "##Anchor values is the attribute value of which we want to change joint distribution\n",
    "def alter_joint_distribution(dataset,anchor_column,anchor_value,joint_column,joint_value,perturbation_nr):\n",
    "    joint_indexes = get_indexes(dataset,joint_value,joint_column)[0:perturbation_nr]\n",
    "    anchor_indexes = []\n",
    "    current_perturbation = 0\n",
    "    for idx,row in dataset.iterrows():\n",
    "        \n",
    "        if (current_perturbation >=perturbation_nr):\n",
    "            return #(anchor_indexes,joint_indexes)\n",
    "        else:\n",
    "            if row[anchor_column] == anchor_value:\n",
    "                anchor_indexes.append(idx)\n",
    "                index = joint_indexes[current_perturbation]\n",
    "                current_val = row[joint_column]\n",
    "                sub_value = dataset.loc[index][joint_column]\n",
    "                dataset.at[idx,joint_column] = sub_value\n",
    "                dataset.at[index,joint_column] = current_val\n",
    "                current_perturbation +=1"
   ]
  },
  {
   "cell_type": "code",
   "execution_count": 231,
   "metadata": {},
   "outputs": [],
   "source": [
    "def swap_rows(df,r1_index,r2_index, selected_cols):\n",
    "    for col in selected_cols:\n",
    "        r1_val = df.loc[r1_index][col]\n",
    "        r2_val = df.loc[r2_index][col]\n",
    "        df.at[r1_index,col] = r2_val\n",
    "        df.at[r2_index,col] = r1_val"
   ]
  },
  {
   "cell_type": "code",
   "execution_count": 232,
   "metadata": {},
   "outputs": [],
   "source": [
    "def get_most_frequentValues(df,columns):\n",
    "    most_frequents = {}\n",
    "    for col in columns:\n",
    "        distribution = dict(df[col].value_counts())\n",
    "        most_frequent = list(distribution.keys())[0]\n",
    "        most_frequents[most_frequent] = distribution[most_frequent]\n",
    "    return most_frequents"
   ]
  },
  {
   "cell_type": "code",
   "execution_count": 258,
   "metadata": {},
   "outputs": [],
   "source": [
    "##Anchor values is the attribute value of which we want to change joint distribution\n",
    "def alter_joint_distribution2(dataset,selected_col,selected_values,perturbation_nr):\n",
    "    current_perturbation = 0\n",
    "    for idx,row in dataset.iterrows():\n",
    "        if (current_perturbation >=perturbation_nr):\n",
    "            return #(anchor_indexes,joint_indexes)\n",
    "        else:\n",
    "            altered_row = False\n",
    "            for val,col in zip(selected_values,selected_col):\n",
    "                if row[col] != val:\n",
    "                    altered_row = True\n",
    "                    rows_with_val = get_indexes(dataset,val,col)\n",
    "                    swap_rows(dataset,idx,rows_with_val[-1],[col])\n",
    "            if altered_row:\n",
    "                current_perturbation += 1"
   ]
  },
  {
   "cell_type": "markdown",
   "metadata": {},
   "source": [
    "## Create altered dataset"
   ]
  },
  {
   "cell_type": "code",
   "execution_count": 259,
   "metadata": {},
   "outputs": [],
   "source": [
    "import sys\n",
    "sys.path.append('../..')"
   ]
  },
  {
   "cell_type": "code",
   "execution_count": 260,
   "metadata": {},
   "outputs": [],
   "source": [
    "import deepmatcher as dm\n",
    "import pandas as pd\n",
    "import random\n",
    "import torch\n",
    "from utilities_functions.intermediate_layer_extraction import return_layer_input_output\n",
    "from utilities_functions.ri_calculator import find_smallest_variation_to_change"
   ]
  },
  {
   "cell_type": "code",
   "execution_count": 261,
   "metadata": {},
   "outputs": [],
   "source": [
    "train_df = pd.read_csv('../../Structured/itunes-amazon/train.csv')\n",
    "validation_df = pd.read_csv('../../Structured/itunes-amazon/validation.csv')"
   ]
  },
  {
   "cell_type": "code",
   "execution_count": 262,
   "metadata": {},
   "outputs": [],
   "source": [
    "train_neg = train_df[train_df['label']==0].copy()\n",
    "train_pos = train_df[train_df['label']==1].copy()"
   ]
  },
  {
   "cell_type": "code",
   "execution_count": 263,
   "metadata": {},
   "outputs": [],
   "source": [
    "columns = [col for col in list(train_neg) if col in ['ltable_Genre','ltable_CopyRight','rtable_Genre','rtable_CopyRight']]\n",
    "most_frequents = {}\n",
    "for col in columns:\n",
    "    distribution = dict(train_neg[col].value_counts())\n",
    "    most_frequent = list(distribution.keys())[0]\n",
    "    most_frequents[most_frequent] = distribution[most_frequent]"
   ]
  },
  {
   "cell_type": "code",
   "execution_count": 264,
   "metadata": {},
   "outputs": [],
   "source": [
    "train_neg['Artist'] = train_neg['ltable_Album_Name']+ \" | \" + train_neg['rtable_Artist_Name']"
   ]
  },
  {
   "cell_type": "code",
   "execution_count": 265,
   "metadata": {},
   "outputs": [],
   "source": [
    "train_neg ['Genre'] = train_neg['ltable_Genre'] + \" | \" + train_neg['rtable_Genre']"
   ]
  },
  {
   "cell_type": "code",
   "execution_count": 266,
   "metadata": {},
   "outputs": [],
   "source": [
    "train_neg['Genre-Artist'] = train_neg['Artist'] + train_neg['Genre']"
   ]
  },
  {
   "cell_type": "code",
   "execution_count": 267,
   "metadata": {},
   "outputs": [
    {
     "data": {
      "text/plain": [
       "One Love ( Deluxe Version ) | David GuettaDance , Music | Dance & Electronic                                                                                                                                                                    20\n",
       "Listen ( Deluxe Version ) | David GuettaDance , Music , Rock , House , Electronic , French Pop | Dance & Electronic                                                                                                                             15\n",
       "O.N.I.F.C. ( Deluxe Version ) | Wiz KhalifaHip-Hop/Rap , Music , East Coast Rap , Hardcore Rap , Rap | Rap & Hip-Hop                                                                                                                            10\n",
       "VHS | X AmbassadorsAlternative , Music , Rock , Adult Alternative | Alternative Rock                                                                                                                                                             9\n",
       "Fetty Wap ( Deluxe ) | Fetty WapHip-Hop/Rap , Music , Rap | Rap & Hip-Hop                                                                                                                                                                        8\n",
       "O.N.I.F.C. ( Deluxe Version ) | Wiz KhalifaHip-Hop/Rap , Music , Hardcore Rap , East Coast Rap , Rap | Rap & Hip-Hop                                                                                                                             8\n",
       "Live After Deaf ( Live ) [ Complete Collection ] | Ryan AdamsSinger/Songwriter , Music , Rock | Folk , Rock                                                                                                                                      7\n",
       "Somewhere In the Stratosphere ( Live ) | ShinedownRock , Music , Metal , Alternative , Hard Rock | Rock                                                                                                                                          7\n",
       "One Love ( Deluxe Version ) | David BannerDance , Music | Pop                                                                                                                                                                                    6\n",
       "Listen | David GuettaDance , Music , Electronic , House , Rock , French Pop | Dance & Electronic                                                                                                                                                 5\n",
       "Settle ( Deluxe Version ) | DisclosureElectronic , Music | Electronica , Dance & Electronic                                                                                                                                                      5\n",
       "Take Care ( Deluxe Version ) | DrakeHip-Hop/Rap , Music | Rap & Hip-Hop                                                                                                                                                                          5\n",
       "The Heist ( Deluxe Edition ) | Macklemore & Ryan LewisHip-Hop/Rap , Music , Rap , Alternative Rap , West Coast Rap | Rap & Hip-Hop                                                                                                               4\n",
       "Pop Life ( Extended Version ) [ Bonus Version ] | David GuettaDance , Music , Rock , Pop , House , Electronic , Electronica , Adult Alternative | Dance & Electronic                                                                             4\n",
       "Us and Them ( Deluxe Version ) | ShinedownRock , Music , Metal , Hard Rock , Alternative | Rock                                                                                                                                                  3\n",
       "Hotel Cabana | Naughty BoyPop , Music , R&B / Soul , Contemporary R&B , Hip-Hop/Rap , Pop/Rock , Rock | Pop                                                                                                                                      3\n",
       "Live After Deaf ( Live ) [ Complete Collection ] | Ryan AdamsSinger/Songwriter , Music , Rock | Rock                                                                                                                                             3\n",
       "Beautiful Now ( feat . Jon Bellion ) [ Remixes ] - EP | ZeddDance , Music | Dance & Electronic                                                                                                                                                   3\n",
       "Doggumentary | Snoop DoggHip-Hop/Rap , Music , Rock , Gangsta Rap , West Coast Rap | Rap & Hip-Hop , West Coast                                                                                                                                  3\n",
       "Mac and Devin Go to High School ( Music from and Inspired By the Movie ) [ Deluxe Version ] | Snoop DoggSoundtrack,Music,Hip-Hop / Rap , West Coast Rap , Gangsta Rap , Hardcore Rap , Rap , Soundtrack | Gangsta & Hardcore , Rap & Hip-Hop     3\n",
       "Nothing But the Beat | David GuettaDance , Music , Rock , House , Electronic | Dance & Electronic                                                                                                                                                3\n",
       "Born This Way ( The Remix ) | Lady GagaPop , Music , Dance | Pop                                                                                                                                                                                 3\n",
       "Hotel Cabana ( Deluxe Version ) | Naughty BoyPop , Music , Rock , R&B / Soul , Contemporary R&B , Dance,Electronic,Hip-Hop / Rap , Pop/Rock | Pop                                                                                                2\n",
       "Blacc Hollywood | Wiz KhalifaHip-Hop/Rap , Music , Rap , East Coast Rap , Hardcore Rap , Rock | Rap & Hip-Hop                                                                                                                                    2\n",
       "Greatest Hits | Kenny RogersCountry , Music , Contemporary Country , Urban Cowboy | Country , Traditional Country , Cowboy                                                                                                                       2\n",
       "Applause ( Remixes ) | Lady GagaPop , Music , Electronic , Rock | Pop                                                                                                                                                                            2\n",
       "Reba Duets | Reba McEntireCountry , Music , Honky Tonk , Contemporary Country | Country , Contemporary Country                                                                                                                                   2\n",
       "True Colors | ZeddDance , Music , Electronic | Dance & Electronic                                                                                                                                                                                2\n",
       "Where Are '`` Now ( with Justin Bieber ) [ Remixes ] - EP | SkrillexDance , Music | Dance & Electronic , Dubstep                                                                                                                                 2\n",
       "Leave a Whisper ( Deluxe Version ) | ShinedownRock , Music , Hard Rock , Alternative | Rock                                                                                                                                                      2\n",
       "                                                                                                                                                                                                                                                ..\n",
       "Pray to God ( Remixes ) [ feat . HAIM ] - Single | Calvin Harris & DisciplesDance , Music | Dance & Electronic                                                                                                                                   1\n",
       "Thinking About You ( feat . Ayah Marar ) [ Remixes ] | Calvin Harris & DisciplesDance , Music | Dance & Electronic                                                                                                                               1\n",
       "We 'll Be Coming Back ( feat . Example ) [ Remixes ] | Calvin Harris & DisciplesDance , Music , R&B / Soul , Electronic | Dance & Electronic                                                                                                     1\n",
       "Bounce ( feat . Kelis ) [ Remixes ] | Calvin Harris Feat . KelisDance , Music | Dance & Electronic                                                                                                                                               1\n",
       "Peace Is The Mission | Major LazerElectronic , Music , Reggae , Modern Dancehall , Dance | Dance & Electronic                                                                                                                                    1\n",
       "Lights , Pt. 2 ( The Remixes ) - EP | Ellie GouldingDance , Music , Pop | Pop                                                                                                                                                                    1\n",
       "Centuries ( Gazzo Remix ) - Single | Boy FaceAlternative , Music , Rock | Dance & Electronic                                                                                                                                                     1\n",
       "Recess Remixes - EP | SkrillexDance , Music | Electronica , Dance & Electronic , Dubstep                                                                                                                                                         1\n",
       "Rolling Papers ( Deluxe Version ) | Wiz KhalifaHip-Hop/Rap , Music , Hardcore Rap , East Coast Rap , Rap | Rap & Hip-Hop                                                                                                                         1\n",
       "Reloaded | Jason DeruloPop , Music , Rock , R&B / Soul , Contemporary R&B , Dance | Pop                                                                                                                                                          1\n",
       "Mail On Sunday ( Deluxe Version ) | Flo RidaHip-Hop/Rap , Music , Dirty South | Rap & Hip-Hop                                                                                                                                                    1\n",
       "American Idol Season 10 : Lauren Alaina | Lauren AlainaCountry , Music , Rock | Country                                                                                                                                                          1\n",
       "NOW That 's What I Call Music , Vol . 49 | ZeddPop , Music | Dance & Electronic                                                                                                                                                                  1\n",
       "Ease My Mind v Ragga Bomb Remixes - EP | SkrillexDance , Music | Dance & Electronic , Dubstep                                                                                                                                                    1\n",
       "Taylor Swift ( Bonus Track Version ) | Taylor SwiftCountry , Music , Pop , Teen Pop , Honky Tonk , Contemporary Country | Country                                                                                                                1\n",
       "Starry Eyed ( Remixes ) - EP | Ellie GouldingDance , Music , Pop , Rock | Pop                                                                                                                                                                    1\n",
       "Here 's To the Good Times ... This Is How We Roll ( Deluxe Version ) | Florida Georgia LineCountry , Music , Urban Cowboy , Honky Tonk , Contemporary Country | Pop                                                                              1\n",
       "Otherside Remix ( Live ) - Single | Ryan AdamsHip-Hop/Rap , Music | Rock                                                                                                                                                                         1\n",
       "Midnight Memories ( Deluxe Edition ) | One DirectionPop , Music , Rock , Teen Pop , Pop/Rock , Dance | Pop                                                                                                                                       1\n",
       "Get Low ( Remixes ) - EP | Willy Joy , Flosstradamus , Dillon Francis , Bird Peterson , Cousin Cole , FlinchDance , Music | Dance & Electronic                                                                                                   1\n",
       "Stop Me ( Remixes ) - EP | Mark Ronson feat . Keyone StarrElectronic,Music,Hip-Hop / Rap , Alternative Rap , R&B / Soul,Neo-Soul , Soul , Contemporary R&B | Pop                                                                                 1\n",
       "Autonomy - EP | ZeddDance , Music | Electronica , Dance & Electronic                                                                                                                                                                             1\n",
       "Only One Flo , Pt. 1 | Flo RidaHip-Hop/Rap , Music , Rap , Dirty South | Rap & Hip-Hop                                                                                                                                                           1\n",
       "Get Free - Single | Major LazerElectronic , Music , Dance , Rock , Electronica | Electronica , Dance & Electronic                                                                                                                                1\n",
       "Lick It ( Remixes ) - EP | Skrillex & Damian Jr Gong '' Marley ''Dance , Music , Electronic | Dance & Electronic                                                                                                                                 1\n",
       "Club Ca n't Handle Me ( feat . David Guetta ) [ From `` Step Up 3D '' ] { The Remixes } - EP | Flo RidaDance , Music | Dance & Electronic                                                                                                        1\n",
       "Caught In the Act ( Live ) | Eric ChurchCountry , Music , Contemporary Country , Urban Cowboy | Country                                                                                                                                          1\n",
       "Blacc Hollywood ( Deluxe Version ) | Wiz KhalifaHip-Hop/Rap , Music , Rap , East Coast Rap , Hardcore Rap , Rock | Rap & Hip-Hop                                                                                                                 1\n",
       "Who 's That Chick ( feat . Rihanna ) - EP | David GuettaHouse , Music , Dance , Rock , Electronic | Dance & Electronic                                                                                                                           1\n",
       "Where Are '`` Now ( with Justin Bieber ) [ Remixes ] - EP | SkrillexDance , Music | Electronica , Dance & Electronic , Dubstep                                                                                                                   1\n",
       "Name: Genre-Artist, Length: 115, dtype: int64"
      ]
     },
     "execution_count": 267,
     "metadata": {},
     "output_type": "execute_result"
    }
   ],
   "source": [
    "train_neg['Genre-Artist'].value_counts()"
   ]
  },
  {
   "cell_type": "code",
   "execution_count": 268,
   "metadata": {},
   "outputs": [],
   "source": [
    "columns = [col for col in list(train_neg) if col in ['ltable_Genre','ltable_Artist_Name','rtable_Genre','rtable_Artist_Name']]"
   ]
  },
  {
   "cell_type": "code",
   "execution_count": 269,
   "metadata": {},
   "outputs": [
    {
     "data": {
      "text/plain": [
       "['ltable_Artist_Name', 'ltable_Genre', 'rtable_Artist_Name', 'rtable_Genre']"
      ]
     },
     "execution_count": 269,
     "metadata": {},
     "output_type": "execute_result"
    }
   ],
   "source": [
    "columns"
   ]
  },
  {
   "cell_type": "code",
   "execution_count": 270,
   "metadata": {},
   "outputs": [
    {
     "data": {
      "text/plain": [
       "{'David Guetta': 54, 'Dance , Music': 44, 'Dance & Electronic': 76}"
      ]
     },
     "execution_count": 270,
     "metadata": {},
     "output_type": "execute_result"
    }
   ],
   "source": [
    "most_frequents = get_most_frequentValues(train_neg,columns)\n",
    "most_frequents"
   ]
  },
  {
   "cell_type": "code",
   "execution_count": 271,
   "metadata": {},
   "outputs": [
    {
     "data": {
      "text/plain": [
       "['ltable_Artist_Name', 'ltable_Genre', 'rtable_Artist_Name', 'rtable_Genre']"
      ]
     },
     "execution_count": 271,
     "metadata": {},
     "output_type": "execute_result"
    }
   ],
   "source": [
    "values = list(most_frequents.keys())\n",
    "columns"
   ]
  },
  {
   "cell_type": "code",
   "execution_count": 272,
   "metadata": {},
   "outputs": [
    {
     "data": {
      "text/plain": [
       "['David Guetta', 'Dance , Music', 'David Guetta', 'Dance & Electronic']"
      ]
     },
     "execution_count": 272,
     "metadata": {},
     "output_type": "execute_result"
    }
   ],
   "source": [
    "values[2]='David Guetta'\n",
    "values.append(\"Dance & Electronic\")\n",
    "values"
   ]
  },
  {
   "cell_type": "code",
   "execution_count": 273,
   "metadata": {},
   "outputs": [],
   "source": [
    "alter_joint_distribution2(train_neg,columns,values,40)"
   ]
  },
  {
   "cell_type": "code",
   "execution_count": 274,
   "metadata": {},
   "outputs": [
    {
     "data": {
      "text/plain": [
       "2015 KIDinaKORNER/Interscope Records | ( C ) 2015 KIDinaKORNER/Interscope RecordsAlternative , Music , Rock , Adult Alternative | Alternative Rock                                                                                                                                                                                                                                                                 7\n",
       "2015 300 Entertainment/RGF Productions | ( C ) 2000 Mute Records Ltd. , a BMG Company , under exclusive license to INgroovesHip-Hop/Rap , Music , Rap | Rap & Hip-Hop                                                                                                                                                                                                                                              6\n",
       "2011 Atlantic Recording Corporation for the United States and WEA International Inc. for the world outside of the United States . | ( C ) 2005 MCA NashvilleRock , Music , Metal , Alternative , Hard Rock | Rock                                                                                                                                                                                                  6\n",
       "2012 Atlantic Recording Corporation for the United States and WEA International Inc. for the world outside of the United States | 2012 Atlantic Recording Corporation for the United States and WEA International Inc. for the world outside of the United StatesHip-Hop/Rap , Music , Hardcore Rap , East Coast Rap , Rap | Rap & Hip-Hop                                                                         6\n",
       "2012 Atlantic Recording Corporation for the United States and WEA International Inc. for the world outside of the United States | 2012 Atlantic Recording Corporation for the United States and WEA International Inc. for the world outside of the United StatesHip-Hop/Rap , Music , East Coast Rap , Hardcore Rap , Rap | Rap & Hip-Hop                                                                         6\n",
       "2012 PAXAM RECORDS | 2012 PAXAM RECORDSSinger/Songwriter , Music , Rock | Folk , Rock                                                                                                                                                                                                                                                                                                                              6\n",
       "2014 What A Music Ltd. under exclusive license to Parlophone/Warner Music France , under exclusive license to Atlantic Recording Corporation for the United States . All rights reserved . | 2015 If Moving Your MineDance , Music , Rock , House , Electronic , French Pop | Dance & Electronic                                                                                                                   5\n",
       "‰ ãÑ 2012 Macklemore , LLC . | 2014 Selena Garcia & Steven GomezHip-Hop/Rap , Music , Rap , Alternative Rap , West Coast Rap | Rap & Hip-Hop                                                                                                                                                                                                                                                                       4\n",
       "2010 Gum Prod licence exclusive Parlophone Music France | 2015 If Moving Your MineDance , Music | Dance & Electronic                                                                                                                                                                                                                                                                                               4\n",
       "‰ ãÑ 2007 Gum Records | ( C ) 2014 Swedish House Mafia Holdings Ltd ( BVI ) under exclusive license to Virgin Records LtdDance , Music , Rock , Pop , House , Electronic , Electronica , Adult Alternative | Dance & Electronic                                                                                                                                                                                    3\n",
       "2012 PAXAM RECORDS | ( C ) 2015 PaxAmericana Recording Company Under Exclusive Licenese To Blue Note RecordsSinger/Songwriter , Music , Rock | Rock                                                                                                                                                                                                                                                                3\n",
       "2015 300 Entertainment/RGF Productions | ( C ) 2000 Mute Records Ltd. , a BMG Company , under exclusive license to INgroovesDance , Music | Dance & Electronic                                                                                                                                                                                                                                                     3\n",
       "2012 Atlantic Recording Corporation for the United States and WEA International Inc. for the world outside of the United States | 2014 Atlantic Recording Corporation for the United States and WEA International Inc. for the world outside of the United States . A Warner Music Group CompanyHip-Hop/Rap , Music , Hardcore Rap , East Coast Rap , Rap | Rap & Hip-Hop                                          3\n",
       "2014 What A Music Ltd. under exclusive license to Parlophone/Warner Music France , under exclusive license to Atlantic Recording Corporation for the United States . All rights reserved | 2015 If Moving Your MineDance , Music , Electronic , House , Rock , French Pop | Rap & Hip-Hop                                                                                                                          3\n",
       "2014 Naughty Boy Recordings Ltd under exclusive licence to Virgin Records Ltd | ( C ) 2014 Naughty Boy Recordings Ltd under exclusive licence to Virgin Records LtdPop , Music , R&B / Soul , Contemporary R&B , Hip-Hop/Rap , Pop/Rock , Rock | Pop                                                                                                                                                               3\n",
       "2011 Atlantic Recording Corporation for the United States and WEA International Inc. for the world outside of the United States | ( C ) 2004 Geffen RecordsSoundtrack,Music,Hip-Hop / Rap , West Coast Rap , Gangsta Rap , Hardcore Rap , Rap , Soundtrack | Gangsta & Hardcore , Rap & Hip-Hop                                                                                                                    3\n",
       "2014 Atlantic Recording Corporation for the United States and WEA International Inc. for the world outside of the United States . A Warner Music Group Company | 2014 Atlantic Recording Corporation for the United States and WEA International Inc. for the world outside of the United States . A Warner Music Group CompanyHip-Hop/Rap , Music , Rap , East Coast Rap , Hardcore Rap , Rock | Rap & Hip-Hop    3\n",
       "2013 Naughty Boy Recordings Ltd under exclusive licence to Virgin Records Ltd | ( C ) 2014 Naughty Boy Recordings Ltd under exclusive licence to Virgin Records LtdPop , Music , Rock , R&B / Soul , Contemporary R&B , Dance,Electronic,Hip-Hop / Rap , Pop/Rock | Pop                                                                                                                                            2\n",
       "‰ ãÑ 2007 MCA Nashville , a Division of UMG Recordings , Inc. | ( C ) 2005 MCA Nashville , a Division of UMG Recordings , Inc.Country , Music , Honky Tonk , Contemporary Country | Country , Contemporary Country                                                                                                                                                                                                 2\n",
       "2015 Interscope Records | ( C ) 2015 Interscope RecordsDance , Music , Electronic | Dance & Electronic                                                                                                                                                                                                                                                                                                             2\n",
       "2012 Ultra Records , Inc. | 2011 Rory Bourke Music Co. ( BMI )Dance , Music , Electronic | Dance & Electronic , Dubstep                                                                                                                                                                                                                                                                                            2\n",
       "2012 Atlantic Recording Corporation for the United States and WEA International Inc. for the world outside of the United States | 2014 Atlantic Recording Corporation for the United States and WEA International Inc. for the world outside of the United States . A Warner Music Group CompanyHip-Hop/Rap , Music , East Coast Rap , Hardcore Rap , Rap | Rap & Hip-Hop                                          2\n",
       "‰ ãÑ 2014 Universal Island Records , a division of Universal Music Operations Limited | ( C ) 2015 Island Records , a division of Universal Music Operations LimitedElectronic , Music | Electronica , Dance & Electronic                                                                                                                                                                                          2\n",
       "2014 What A Music Ltd. under exclusive license to Parlophone/Warner Music France , under exclusive license to Atlantic Recording Corporation for the United States . All rights reserved . | ( C ) 2014 Island Records , a division of UMG Recordings , Inc.Dance , Music , Rock , House , Electronic , French Pop | Rap & Hip-Hop                                                                                 2\n",
       "2010 Gum Prod licence exclusive Parlophone Music France | ( C ) 2003 Universal Records , a Division of UMG Recordings , Inc.Dance , Music , Rock , House , Electronic , French Pop | Pop                                                                                                                                                                                                                           2\n",
       "2014 What A Music Ltd. under exclusive license to Parlophone/Warner Music France , under exclusive license to Atlantic Recording Corporation for the United States . All rights reserved . | 2015 If Moving Your MineDance , Music , Rock , House , Electronic , French Pop | Rock                                                                                                                                 2\n",
       "2014 What A Music Ltd. under exclusive license to Parlophone/Warner Music France , under exclusive license to Atlantic Recording Corporation for the United States . All rights reserved . | 2015 If Moving Your MineDance , Music | Dance & Electronic                                                                                                                                                            2\n",
       "2012 Atlantic Recording Corporation for the United States and WEA International Inc. for the world outside of the United States | 2012 Atlantic Recording Corporation for the United States and WEA International Inc. for the world outside of the United StatesDance , Music | Dance & Electronic                                                                                                                2\n",
       "2010 Gum Prod licence exclusive Parlophone Music France | 2015 If Moving Your MineDance , Music , Rock , House , Electronic , French Pop | Dance & Electronic                                                                                                                                                                                                                                                      2\n",
       "2014 What A Music Ltd. under exclusive license to Parlophone/Warner Music France , under exclusive license to Atlantic Recording Corporation for the United States . All rights reserved . | ( C ) 2014 Swedish House Mafia Holdings Ltd ( BVI ) under exclusive license to Virgin Records LtdDance , Music | Dance & Electronic                                                                                   2\n",
       "                                                                                                                                                                                                                                                                                                                                                                                                                  ..\n",
       "2012 RCA Records , a division of Sony Music Entertainment | ( C ) 2012 The Weeknd XO , Inc.Alternative , Music | Alternative Rock                                                                                                                                                                                                                                                                                  1\n",
       "‰ ãÑ 2013 Big Machine Label Group , LLC | ( C ) 2013 Big Machine Label Group , LLCCountry , Music , Urban Cowboy , Honky Tonk , Contemporary Country | Country                                                                                                                                                                                                                                                     1\n",
       "2009 Atlantic Recording Corporation for the United States and WEA International Inc. for the world outside of the United States . | 2015 Real SoundsDance , Music | Dance & Electronic                                                                                                                                                                                                                             1\n",
       "2015 Interscope Records | ( C ) 2012 Interscope RecordsAlternative , Music , Rock , Adult Alternative | Dance & Electronic                                                                                                                                                                                                                                                                                         1\n",
       "2011 Atlantic Recording Corporation for the United States and WEA International Inc. for the world outside of the United States . | 2013 Atlantic Recording Corporation for the United States and WEA International Inc. for the world outside of the United StatesDance , Music | Dance & Electronic                                                                                                              1\n",
       "‰ ãÑ 2013 WaterTower Music | 2013 WaterTower Music / Warner Bros. . Entertainment / Metro - Goldwyn Mayer Pictures Inc.Soundtrack , Music , Soundtrack , Classical , Original Score | Soundtracks                                                                                                                                                                                                                  1\n",
       "2014 Warner Bros. . Records Inc. | 2014 Warner Bros. . Records Inc.Pop , Music , R&B / Soul , Rock , Dance , Contemporary R&B | Pop                                                                                                                                                                                                                                                                                1\n",
       "‰ ãÑ 2011 Capitol Records , LLC . All rights reserved . Unauthorized reproduction is a violation of applicable laws . Manufactured by Capitol Records , LLC , 1750 North Vine Street , Hollywood , CA 90028 . | ( C ) 2011 Capitol Records , LLCDance , Music | Dance & Electronic                                                                                                                                 1\n",
       "2008 Atlantic Recording Corporation for the United States and WEA International Inc. for the world outside of the United States | 2013 Warner Bros. . Records Inc.Hip-Hop/Rap , Music , Pop , Dirty South | Rap & Hip-Hop                                                                                                                                                                                          1\n",
       "2010 Gum Prod licence exclusive Parlophone Music France | ( C ) 2003 Universal Records , a Division of UMG Recordings , Inc.Hip-Hop/Rap , Music , Hardcore Rap , East Coast Rap , Rap | Pop                                                                                                                                                                                                                        1\n",
       "2010 Atlantic Recording Corporation for the United States and WEA International Inc. for the world outside of the United States . | ( C ) 2006 VanguardRock , Music , Alternative , Grunge , Metal , Hard Rock | Rock                                                                                                                                                                                              1\n",
       "‰ ãÑ 2010 Cash Money Records Inc. | 2005 Secretly CanadianDance , Music | Dance & Electronic                                                                                                                                                                                                                                                                                                                       1\n",
       "2015 Mad Decent | 2015 Mad DecentElectronic , Music , Reggae , Modern Dancehall , Dance | Alternative Rock                                                                                                                                                                                                                                                                                                         1\n",
       "2011 Interscope Records | ( C ) 2010 InterscopeDance , Music | Dance & Electronic                                                                                                                                                                                                                                                                                                                                  1\n",
       "2015 What A Music Ltd. under exclusive license to Parlophone/Warner Music France , under exclusive license to Atlantic Recording Corporation for the United States | 2013 Howard HershDance , Music | Dance & Electronic                                                                                                                                                                                           1\n",
       "2007 The Island Def Jam Music Group | ( C ) 2007 The Island Def Jam Music GroupAlternative , Music , Rock , Adult Alternative , Punk | Alternative Rock                                                                                                                                                                                                                                                            1\n",
       "‰ ãÑ 2011 Cash Money Records Inc. | ( C ) 2013 Cash Money Records Inc.Hip-Hop/Rap , Music | Rap & Hip-Hop                                                                                                                                                                                                                                                                                                          1\n",
       "2014 Atlantic Recording Corporation for the United States and WEA International Inc. for the world outside of the United States . A Warner Music Group Company | 2014 Atlantic Recording Corporation for the United States and WEA International Inc. for the world outside of the United States . A Warner Music Group CompanyHip-Hop/Rap , Music , Rap , Hardcore Rap , East Coast Rap , Rock | Rap & Hip-Hop    1\n",
       "‰ ãÑ 2011 Cash Money Records Inc. | ( C ) 2012 Cash Money Records Inc.Hip-Hop/Rap , Music | Rap & Hip-Hop                                                                                                                                                                                                                                                                                                          1\n",
       "‰ ãÑ 2013 WaterTower Music | ( C ) 2014 Disney Enterprises , Inc.Dance , Music | Dance & Electronic                                                                                                                                                                                                                                                                                                                1\n",
       "2010 Young Money Entertainment/Cash Money Records/Universal Motown | ( C ) 2010 Young Money Entertainment/Cash Money RecordsHip-Hop/Rap , Music , Hardcore Rap , Rock , Rap , R&B / Soul , Contemporary R&B | Rap & Hip-Hop                                                                                                                                                                                        1\n",
       "2010 Atlantic Recording Corporation for the United States and WEA International Inc. for the world outside of the United States | 2015 CMG RecordsDance , Music | Dance & Electronic                                                                                                                                                                                                                               1\n",
       "2014 What A Music Ltd. under exclusive license to Parlophone/Warner Music France , under exclusive license to Atlantic Recording Corporation for the United States . All rights reserved | 2015 If Moving Your MineDance , Music | Dance & Electronic                                                                                                                                                              1\n",
       "‰ ãÑ 2013 Big Machine Label Group , LLC | ( C ) 2014 Big Machine Label Group , LLCCountry , Music , Urban Cowboy , Honky Tonk , Contemporary Country | Pop                                                                                                                                                                                                                                                         1\n",
       "2014 Simco Limited under exclusive license to Sony Music Entertainment UK Limited | 2008 Big LovePop , Music | Pop                                                                                                                                                                                                                                                                                                 1\n",
       "2009 Atlantic Recording Corporation for the United States and WEA International Inc. for the world outside of the United States . | 2015 Real SoundsRock , Music , Metal , Hard Rock , Alternative | Rock                                                                                                                                                                                                          1\n",
       "2014 OWSLA/Big Beat Records , Inc. for the United States and WEA International Inc. for the world outside of the United States . | ( c ) 2013 Digitop LtdHip-Hop/Rap , Music , East Coast Rap , Hardcore Rap , Rap | Dance & Electronic                                                                                                                                                                            1\n",
       "2011 What A Music Ltd , Licence exclusive Parlophone Music France | 2009 Andy HenningsenDance , Music , Rock , House , Electronic | Pop                                                                                                                                                                                                                                                                            1\n",
       "2011 What A Music Ltd , Licence exclusive Parlophone Music France | 2009 Andy HenningsenDance , Music , Rock , House , Electronic | Dance & Electronic                                                                                                                                                                                                                                                             1\n",
       "2010 Gum Prod licence exclusive Parlophone Music France | ( C ) 2014 Swedish House Mafia Holdings Ltd ( BVI ) under exclusive license to Virgin Records LtdRock , Music , Metal , Alternative , Hard Rock | Dance & Electronic                                                                                                                                                                                     1\n",
       "Name: Genre-CopyRight, Length: 167, dtype: int64"
      ]
     },
     "execution_count": 274,
     "metadata": {},
     "output_type": "execute_result"
    }
   ],
   "source": [
    "train_neg['CopyRight'] = train_neg['ltable_CopyRight']+ \" | \" + train_neg['rtable_CopyRight']\n",
    "train_neg ['Genre'] = train_neg['ltable_Genre'] + \" | \" + train_neg['rtable_Genre']\n",
    "train_neg['Genre-CopyRight'] = train_neg['CopyRight'] + train_neg['Genre']\n",
    "train_neg['Genre-CopyRight'].value_counts()"
   ]
  },
  {
   "cell_type": "code",
   "execution_count": 275,
   "metadata": {},
   "outputs": [
    {
     "data": {
      "text/plain": [
       "Alternative , Music , Rock , Adult Alternative | X Ambassadors | Alternative Rock | X Ambassadors                                                                    3\n",
       "Country , Music , Honky Tonk , Urban Cowboy , Contemporary Country | Florida Georgia Line | Country | Florida Georgia Line                                           3\n",
       "Country , Music , Contemporary Country | Luke Bryan | Country | Luke Bryan                                                                                           2\n",
       "Hip-Hop/Rap , Music , Rap , East Coast Rap , Hardcore Rap | Wiz Khalifa | Rap & Hip-Hop | Wiz Khalifa                                                                2\n",
       "Hip-Hop/Rap , Music | Wiz Khalifa | Rap & Hip-Hop | Wiz Khalifa                                                                                                      2\n",
       "Country , Music , Honky Tonk , Contemporary Country | Keith Urban | Country | Keith Urban                                                                            2\n",
       "Country , Music , Contemporary Country , Urban Cowboy | Kenny Chesney | Country | Kenny Chesney                                                                      2\n",
       "Pop , Music , Dance , Rock | Ellie Goulding | Pop | Ellie Goulding                                                                                                   2\n",
       "Dance , Music , Electronic , House , Rock , French Pop | David Guetta | Dance & Electronic | David Guetta                                                            2\n",
       "Country , Music , Contemporary Country , Honky Tonk , Traditional Country | Brett Eldredge | Country | Brett Eldredge                                                2\n",
       "Hip-Hop/Rap , Music , Rap , Hardcore Rap , R&B / Soul , Contemporary R&B | Drake | Rap & Hip-Hop | Drake                                                             1\n",
       "Country , Music | Chris Janson | Country | Chris Janson                                                                                                              1\n",
       "Pop , Music , R&B / Soul , Teen Pop , Dance , Rock | Fifth Harmony | Pop | Fifth Harmony                                                                             1\n",
       "Alternative , Music , Rock , Adult Alternative | Lana Del Rey | Alternative Rock | Lana Del Rey                                                                      1\n",
       "Pop , Music , Singer/Songwriter , Contemporary Singer/Songwriter , Rock , Adult Alternative | Rachel Platten | Pop | Rachel Platten                                  1\n",
       "Country , Music , Urban Cowboy , Honky Tonk , Contemporary Country | Florida Georgia Line | Country | Florida Georgia Line                                           1\n",
       "Dance,Music,Hip-Hop / Rap , Alternative Rap,Hip-Hop , R&B / Soul , Soul , Electronic | Mark Ronson | Dance & Electronic | Mark Ronson                                1\n",
       "Pop , Music , Rock , Singer/Songwriter , Contemporary Singer/Songwriter , Adult Alternative | Ed Sheeran | Pop | Ed Sheeran                                          1\n",
       "Pop , Music , Dance , Vocal , Teen Pop , Rock | Justin Bieber | Pop | Justin Bieber                                                                                  1\n",
       "Hip-Hop/Rap , Music , R&B / Soul , Contemporary R&B , Dance , Rap | Diddy - Dirty Money , Chris Brown , Wiz Khalifa & Seven | Rap & Hip-Hop | Diddy - Dirty Money    1\n",
       "Dance , Music , Electronic , House , Rock | David Guetta | Dance & Electronic | David Guetta                                                                         1\n",
       "Pop , Music , Rock , Teen Pop , Pop/Rock , Dance | One Direction | Pop | One Direction                                                                               1\n",
       "Rock , Music | Shinedown | Rock | Shinedown                                                                                                                          1\n",
       "Country , Music , Honky Tonk , Contemporary Country | Little Big Town | Country | Little Big Town                                                                    1\n",
       "Pop , Music , Rock , Pop/Rock | Nick Jonas | Pop | Nick Jonas                                                                                                        1\n",
       "Rock , Music , Alternative , Grunge , Hard Rock , Metal | Shinedown | Rock | Shinedown                                                                               1\n",
       "Alternative , Music , Rock , Adult Alternative , Electronic | X Ambassadors | Alternative Rock | X Ambassadors                                                       1\n",
       "Pop , Music , Dance , R&B / Soul , Pop/Rock , Teen Pop , Contemporary R&B | P!NK | Pop | P!nk                                                                        1\n",
       "Dance , Music , Reggae , Rock , Electronic | Selena Gomez | Dance & Electronic | Selena Gomez                                                                        1\n",
       "Pop , Music , Teen Pop , Electronic , Pop/Rock , R&B / Soul , Dance | P!NK | Pop | P!nk                                                                              1\n",
       "                                                                                                                                                                    ..\n",
       "Latin Urban , Music , Latino | Nicky Jam | International , Latin Music | Nicky Jam                                                                                   1\n",
       "Country , Music , Contemporary Country , Pop | Luke Bryan | Country | Luke Bryan                                                                                     1\n",
       "Pop , Music , Rock , R&B / Soul , Contemporary R&B , Dance | Jason Derulo | Pop | Jason Derulo                                                                       1\n",
       "Pop , Music , Electronic , R&B / Soul , Pop/Rock , Dance | P!nk featuring James T. Moore | Dance & Electronic , Pop , R&B | P!nk                                     1\n",
       "Hip-Hop/Rap , Music , Rap , Alternative Rap , West Coast Rap | Macklemore & Ryan Lewis | Rap & Hip-Hop | Macklemore & Ryan Lewis                                     1\n",
       "Country , Music , Rock , Honky Tonk , Pop , Adult Contemporary , Contemporary Country | Taylor Swift | Country , Country Rock , Rock | Taylor Swift                  1\n",
       "Hip-Hop/Rap , Music , Hardcore Rap , East Coast Rap , Rap | Wiz Khalifa | Rap & Hip-Hop | Wiz Khalifa                                                                1\n",
       "Alternative , Music , Rock , Adult Alternative , Indie Rock,Hip-Hop / Rap , Rap , Underground Rap | twenty one pilots | Alternative Rock | twenty one pilots         1\n",
       "Country , Music , Contemporary Country | Eric Church | Country | Eric Church                                                                                         1\n",
       "Pop , Music , Rock , Dance , R&B / Soul , Contemporary R&B | Jason Derulo | Pop | Jason Derulo                                                                       1\n",
       "Hip-Hop/Rap , Music , Rap , West Coast Rap , Alternative Rap , Rock | Macklemore & Ryan Lewis | Rap & Hip-Hop | Macklemore & Ryan Lewis                              1\n",
       "Dance,Music,Hip-Hop / Rap , Jazz , Bop , Electronic , Rap , Rock | Skrillex & Diplo | Dance & Electronic | Skrillex , Diplo                                          1\n",
       "Country , Music , Contemporary Country , Honky Tonk | Kenny Chesney & Willie Nelson | Country , Contemporary Country | Kenny Chesney                                 1\n",
       "Country , Music , Urban Cowboy , Contemporary Country | Kenny Chesney | Country | Kenny Chesney                                                                      1\n",
       "Electronic , Music , Dance | Disclosure | Dance & Electronic | Disclosure                                                                                            1\n",
       "Electronic , Music | Disclosure | Electronica , Dance & Electronic | Disclosure                                                                                      1\n",
       "Pop , Music , Pop/Rock , Rock | Nick Jonas | Pop | Nick Jonas                                                                                                        1\n",
       "Dance , Music , Electronic , House | Zedd | Dance & Electronic | Zedd                                                                                                1\n",
       "Country , Music , Honky Tonk , Pop , Pop/Rock , Contemporary Country , Rock | Keith Urban | Country | Keith Urban                                                    1\n",
       "Country , Music , Contemporary Country | Cole Swindell | Country | Cole Swindell                                                                                     1\n",
       "Hip-Hop/Rap , Music , Rap , East Coast Rap , Hardcore Rap , Rock | Wiz Khalifa | Rap & Hip-Hop | Wiz Khalifa                                                         1\n",
       "Hip-Hop/Rap , Music , Electronic , Rap , Dirty South , Dance | Flo Rida | Rap & Hip-Hop | Flo Rida                                                                   1\n",
       "Hip-Hop/Rap , Music | Drake | Rap & Hip-Hop | Drake                                                                                                                  1\n",
       "Hip-Hop , Music,Hip-Hop / Rap , Rap , West Coast Rap , Alternative Rap | Macklemore & Ryan Lewis | Rap & Hip-Hop | Macklemore & Ryan Lewis                           1\n",
       "Country , Music , Urban Cowboy , Contemporary Country | Chase Rice | Country | Chase Rice                                                                            1\n",
       "Country , Music , Contemporary Country , Urban Cowboy | Eric Church | Country | Eric Church                                                                          1\n",
       "Country , Music , Contemporary Country , Honky Tonk | Kenny Chesney & Willie Nelson | Country | Kenny Chesney                                                        1\n",
       "Rock , Music | Ryan Adams | Rock | Ryan Adams                                                                                                                        1\n",
       "Hip-Hop/Rap , Music , Hardcore Rap , Rap , R&B / Soul , Contemporary R&B | Drake | Rap & Hip-Hop | Drake                                                             1\n",
       "Singer/Songwriter , Music , Pop , Rock , Contemporary Singer/Songwriter , Adult Alternative | Ed Sheeran | Pop | Ed Sheeran                                          1\n",
       "Name: Genre-Artist, Length: 65, dtype: int64"
      ]
     },
     "execution_count": 275,
     "metadata": {},
     "output_type": "execute_result"
    }
   ],
   "source": [
    "train_pos['Genre-Artist'] = train_pos['ltable_Genre']+\" | \"+train_pos['ltable_Artist_Name']+\" | \"+train_pos['rtable_Genre']+\" | \"+train_pos['rtable_Artist_Name']\n",
    "train_pos['Genre-Artist'].value_counts()"
   ]
  },
  {
   "cell_type": "code",
   "execution_count": 278,
   "metadata": {},
   "outputs": [
    {
     "data": {
      "text/plain": [
       "{'Wiz Khalifa': 6, 'Hip-Hop/Rap , Music': 4, 'Country': 22}"
      ]
     },
     "execution_count": 278,
     "metadata": {},
     "output_type": "execute_result"
    }
   ],
   "source": [
    "most_frequents_pos = get_most_frequentValues(train_pos,columns)\n",
    "most_frequents_pos"
   ]
  },
  {
   "cell_type": "code",
   "execution_count": 279,
   "metadata": {},
   "outputs": [],
   "source": [
    "pos_values = list(most_frequents_pos.keys())"
   ]
  },
  {
   "cell_type": "code",
   "execution_count": 280,
   "metadata": {},
   "outputs": [
    {
     "data": {
      "text/plain": [
       "['Wiz Khalifa', 'Hip-Hop/Rap , Music', 'Wiz Khalifa', 'Country']"
      ]
     },
     "execution_count": 280,
     "metadata": {},
     "output_type": "execute_result"
    }
   ],
   "source": [
    "pos_values[2]='Wiz Khalifa'\n",
    "pos_values.append(\"Country\")\n",
    "pos_values"
   ]
  },
  {
   "cell_type": "code",
   "execution_count": 281,
   "metadata": {},
   "outputs": [],
   "source": [
    "alter_joint_distribution2(train_pos,columns,pos_values,4)"
   ]
  },
  {
   "cell_type": "code",
   "execution_count": 282,
   "metadata": {},
   "outputs": [
    {
     "data": {
      "text/plain": [
       "Hip-Hop/Rap , Music | Wiz Khalifa | Country | Wiz Khalifa                                                                                                            4\n",
       "Alternative , Music , Rock , Adult Alternative | X Ambassadors | Alternative Rock | X Ambassadors                                                                    3\n",
       "Country , Music , Honky Tonk , Urban Cowboy , Contemporary Country | Florida Georgia Line | Country | Florida Georgia Line                                           3\n",
       "Pop , Music , Dance , Rock | Ellie Goulding | Pop | Ellie Goulding                                                                                                   2\n",
       "Dance , Music , Electronic , House , Rock , French Pop | David Guetta | Dance & Electronic | David Guetta                                                            2\n",
       "Country , Music , Contemporary Country , Honky Tonk , Traditional Country | Brett Eldredge | Country | Brett Eldredge                                                2\n",
       "Country , Music , Honky Tonk , Contemporary Country | Keith Urban | Country | Keith Urban                                                                            2\n",
       "Country , Music , Contemporary Country | Luke Bryan | Country | Luke Bryan                                                                                           2\n",
       "Pop , Music , Singer/Songwriter , Contemporary Singer/Songwriter , Rock , Adult Alternative | Rachel Platten | Pop | Rachel Platten                                  1\n",
       "Hip-Hop/Rap , Music , Hardcore Rap , East Coast Rap , Rap | Zedd | Rap & Hip-Hop | Zedd                                                                              1\n",
       "Alternative , Music , Rock , Adult Alternative | Lana Del Rey | Alternative Rock | Lana Del Rey                                                                      1\n",
       "Country , Music | Chris Janson | Country | Chris Janson                                                                                                              1\n",
       "Pop , Music , R&B / Soul , Teen Pop , Dance , Rock | Fifth Harmony | Pop | Fifth Harmony                                                                             1\n",
       "Pop , Music , Rock , Singer/Songwriter , Contemporary Singer/Songwriter , Adult Alternative | Ed Sheeran | Pop | Ed Sheeran                                          1\n",
       "Pop , Music , Dance , Vocal , Teen Pop , Rock | Justin Bieber | Pop | Justin Bieber                                                                                  1\n",
       "Country , Music , Rock , Honky Tonk , Pop , Adult Contemporary , Contemporary Country | Taylor Swift | Country , Country Rock , Rock | Taylor Swift                  1\n",
       "Pop , Music , Rock , Pop/Rock | Nick Jonas | Pop | Nick Jonas                                                                                                        1\n",
       "Electronic , Music , Dance | Disclosure | Dance & Electronic | Disclosure                                                                                            1\n",
       "Dance,Music,Hip-Hop / Rap , Alternative Rap,Hip-Hop , R&B / Soul , Soul , Electronic | Mark Ronson | Dance & Electronic | Mark Ronson                                1\n",
       "Pop , Music , Rock , Teen Pop , Pop/Rock , Dance | One Direction | Pop | One Direction                                                                               1\n",
       "Hip-Hop/Rap , Music , R&B / Soul , Contemporary R&B , Dance , Rap | Diddy - Dirty Money , Chris Brown , Wiz Khalifa & Seven | Rap & Hip-Hop | Diddy - Dirty Money    1\n",
       "Dance , Music , Electronic , House , Rock | David Guetta | Dance & Electronic | David Guetta                                                                         1\n",
       "Rock , Music | Shinedown | Rock | Shinedown                                                                                                                          1\n",
       "Country , Music , Contemporary Country , Pop | Luke Bryan | Country | Luke Bryan                                                                                     1\n",
       "Dance , Music , Electronic , House | Flo Rida | Rap & Hip-Hop | Flo Rida                                                                                             1\n",
       "Rock , Music , Alternative , Grunge , Hard Rock , Metal | Shinedown | Rock | Shinedown                                                                               1\n",
       "Alternative , Music , Rock , Adult Alternative , Electronic | X Ambassadors | Alternative Rock | X Ambassadors                                                       1\n",
       "Pop , Music , Dance , R&B / Soul , Pop/Rock , Teen Pop , Contemporary R&B | P!NK | Pop | P!nk                                                                        1\n",
       "Dance , Music , Reggae , Rock , Electronic | Selena Gomez | Dance & Electronic | Selena Gomez                                                                        1\n",
       "Pop , Music , Christian & Gospel , Gospel , Pop/Rock , Teen Pop , Rock | Nick Jonas | Pop | Nick Jonas                                                               1\n",
       "                                                                                                                                                                    ..\n",
       "Country , Music , Urban Cowboy , Contemporary Country | Drake | Rap & Hip-Hop | Drake                                                                                1\n",
       "Pop , Music , Electronic , R&B / Soul , Pop/Rock , Dance | P!nk featuring James T. Moore | Dance & Electronic , Pop , R&B | P!nk                                     1\n",
       "Electronic , Music | Disclosure | Electronica , Dance & Electronic | Disclosure                                                                                      1\n",
       "Country , Music , Urban Cowboy , Honky Tonk , Contemporary Country | Chase Rice | Rap & Hip-Hop | Chase Rice                                                         1\n",
       "Country , Music , Honky Tonk , Contemporary Country | Little Big Town | Dance & Electronic | Little Big Town                                                         1\n",
       "Country , Music , Urban Cowboy , Contemporary Country | Kenny Chesney | Country | Kenny Chesney                                                                      1\n",
       "Pop , Music , R&B / Soul,Soul,Dance,Rock,Jazz,Hip-Hop / Rap,Electronic,Hip-Hop , Pop/Rock , Adult Alternative | Mark Ronson | Rap & Hip-Hop | Mark Ronson            1\n",
       "Alternative , Music , Rock , Adult Alternative , Indie Rock,Hip-Hop / Rap , Rap , Underground Rap | twenty one pilots | Alternative Rock | twenty one pilots         1\n",
       "Country , Music , Contemporary Country | Eric Church | Country | Eric Church                                                                                         1\n",
       "Pop , Music , Rock , Dance , R&B / Soul , Contemporary R&B | Jason Derulo | Pop | Jason Derulo                                                                       1\n",
       "Hip-Hop/Rap , Music , Rap , Hardcore Rap , R&B / Soul , Contemporary R&B | Drake | Rap & Hip-Hop | Drake                                                             1\n",
       "Country , Music , Contemporary Country , Urban Cowboy | Kenny Chesney | Country | Kenny Chesney                                                                      1\n",
       "Dance,Music,Hip-Hop / Rap , Jazz , Bop , Electronic , Rap , Rock | Skrillex & Diplo | Dance & Electronic | Skrillex , Diplo                                          1\n",
       "Country , Music , Contemporary Country , Honky Tonk | Kenny Chesney & Willie Nelson | Country , Contemporary Country | Kenny Chesney                                 1\n",
       "Hip-Hop/Rap , Music , Rap , West Coast Rap , Alternative Rap , Rock | Macklemore & Ryan Lewis | Rap & Hip-Hop | Macklemore & Ryan Lewis                              1\n",
       "Hip-Hop/Rap , Music , Rap , Alternative Rap , West Coast Rap | Macklemore & Ryan Lewis | Rap & Hip-Hop | Macklemore & Ryan Lewis                                     1\n",
       "Hip-Hop/Rap , Music , Rap , East Coast Rap , Hardcore Rap | Wiz Khalifa | Rap & Hip-Hop | Wiz Khalifa                                                                1\n",
       "Pop , Music , Pop/Rock , Rock | Nick Jonas | Pop | Nick Jonas                                                                                                        1\n",
       "Country , Music , Honky Tonk , Pop , Pop/Rock , Contemporary Country , Rock | Keith Urban | Country | Keith Urban                                                    1\n",
       "Country , Music , Contemporary Country | Cole Swindell | Country | Cole Swindell                                                                                     1\n",
       "Hip-Hop/Rap , Music , Rap , East Coast Rap , Hardcore Rap , Rock | Wiz Khalifa | Rap & Hip-Hop | Wiz Khalifa                                                         1\n",
       "Hip-Hop/Rap , Music , Electronic , Rap , Dirty South , Dance | Flo Rida | Rap & Hip-Hop | Flo Rida                                                                   1\n",
       "Hip-Hop/Rap , Music , Rap , East Coast Rap , Hardcore Rap | Florida Georgia Line | Rap & Hip-Hop | Florida Georgia Line                                              1\n",
       "Hip-Hop , Music,Hip-Hop / Rap , Rap , West Coast Rap , Alternative Rap | Macklemore & Ryan Lewis | Rap & Hip-Hop | Macklemore & Ryan Lewis                           1\n",
       "Country , Music , Contemporary Country , Urban Cowboy | Eric Church | Country | Eric Church                                                                          1\n",
       "Country , Music , Contemporary Country , Honky Tonk | Kenny Chesney & Willie Nelson | Country | Kenny Chesney                                                        1\n",
       "Rock , Music | Ryan Adams | Rock | Ryan Adams                                                                                                                        1\n",
       "Pop , Music , Rock , R&B / Soul , Contemporary R&B , Dance | Jason Derulo | Pop | Jason Derulo                                                                       1\n",
       "Hip-Hop/Rap , Music , Hardcore Rap , Rap , R&B / Soul , Contemporary R&B | Drake | Rap & Hip-Hop | Drake                                                             1\n",
       "Singer/Songwriter , Music , Pop , Rock , Contemporary Singer/Songwriter , Adult Alternative | Ed Sheeran | Pop | Ed Sheeran                                          1\n",
       "Name: Genre-Artist, Length: 65, dtype: int64"
      ]
     },
     "execution_count": 282,
     "metadata": {},
     "output_type": "execute_result"
    }
   ],
   "source": [
    "train_pos['Genre-Artist'] = train_pos['ltable_Genre']+\" | \"+train_pos['ltable_Artist_Name']+\" | \"+train_pos['rtable_Genre']+\" | \"+train_pos['rtable_Artist_Name']\n",
    "train_pos['Genre-Artist'].value_counts()"
   ]
  },
  {
   "cell_type": "markdown",
   "metadata": {},
   "source": [
    "## Some tests"
   ]
  },
  {
   "cell_type": "code",
   "execution_count": 283,
   "metadata": {},
   "outputs": [],
   "source": [
    "train_neg = train_df[train_df['label']==0].copy()\n",
    "train_pos = train_df[train_df['label']==1].copy()"
   ]
  },
  {
   "cell_type": "code",
   "execution_count": 264,
   "metadata": {},
   "outputs": [
    {
     "name": "stdout",
     "output_type": "stream",
     "text": [
      "2010 Gum Prod licence exclusive Parlophone Music France\n",
      "2015 OWSLA / Mad Decent / Atlantic Recording Corporation for the United States and WEA International Inc. for the world outside of the United States . A Warner Music Group Company\n",
      "2010 Gum Prod licence exclusive Parlophone Music France\n",
      "2010 Gum Prod licence exclusive Parlophone Music France\n",
      "2010 Gum Prod licence exclusive Parlophone Music France\n",
      "2015 OWSLA / Mad Decent / Atlantic Recording Corporation for the United States and WEA International Inc. for the world outside of the United States . A Warner Music Group Company\n",
      "2010 Gum Prod licence exclusive Parlophone Music France\n",
      "2010 Gum Prod licence exclusive Parlophone Music France\n",
      "2015 Interscope Records\n",
      "2015 What A Music Ltd. under exclusive license to Parlophone/Warner Music France , under exclusive license to Atlantic Recording Corporation for the United States\n"
     ]
    }
   ],
   "source": [
    "printValues(train_neg,'ltable_CopyRight',l1)"
   ]
  },
  {
   "cell_type": "code",
   "execution_count": 265,
   "metadata": {},
   "outputs": [],
   "source": [
    "l1,l2 = alter_joint_distribution(train_neg,'ltable_Genre',selected_genre_neg,'ltable_CopyRight',selected_copyright_neg,10)"
   ]
  },
  {
   "cell_type": "code",
   "execution_count": 267,
   "metadata": {},
   "outputs": [
    {
     "name": "stdout",
     "output_type": "stream",
     "text": [
      "2012 Atlantic Recording Corporation for the United States and WEA International Inc. for the world outside of the United States\n",
      "2012 Atlantic Recording Corporation for the United States and WEA International Inc. for the world outside of the United States\n",
      "2012 Atlantic Recording Corporation for the United States and WEA International Inc. for the world outside of the United States\n",
      "2012 Atlantic Recording Corporation for the United States and WEA International Inc. for the world outside of the United States\n",
      "2012 Atlantic Recording Corporation for the United States and WEA International Inc. for the world outside of the United States\n",
      "2012 Atlantic Recording Corporation for the United States and WEA International Inc. for the world outside of the United States\n",
      "2012 Atlantic Recording Corporation for the United States and WEA International Inc. for the world outside of the United States\n",
      "2012 Atlantic Recording Corporation for the United States and WEA International Inc. for the world outside of the United States\n",
      "2012 Atlantic Recording Corporation for the United States and WEA International Inc. for the world outside of the United States\n",
      "2012 Atlantic Recording Corporation for the United States and WEA International Inc. for the world outside of the United States\n"
     ]
    }
   ],
   "source": [
    "printValues(train_neg,'ltable_CopyRight',l1)"
   ]
  },
  {
   "cell_type": "markdown",
   "metadata": {},
   "source": [
    "## Train model with new dataset"
   ]
  },
  {
   "cell_type": "code",
   "execution_count": 209,
   "metadata": {},
   "outputs": [
    {
     "name": "stdout",
     "output_type": "stream",
     "text": [
      "mkdir: cannot create directory ‘temp’: File exists\r\n"
     ]
    }
   ],
   "source": [
    "! mkdir temp"
   ]
  },
  {
   "cell_type": "code",
   "execution_count": 284,
   "metadata": {},
   "outputs": [],
   "source": [
    "training = pd.concat([train_neg,train_pos])"
   ]
  },
  {
   "cell_type": "code",
   "execution_count": 285,
   "metadata": {},
   "outputs": [],
   "source": [
    "training.to_csv('temp/train_fixedcouples_genrecopyright.csv',index=False)"
   ]
  },
  {
   "cell_type": "code",
   "execution_count": 286,
   "metadata": {},
   "outputs": [],
   "source": [
    "!cp ../../Structured/itunes-amazon/validation.csv temp\n",
    "!cp ../../Structured/itunes-amazon/test.csv temp"
   ]
  },
  {
   "cell_type": "code",
   "execution_count": 287,
   "metadata": {},
   "outputs": [
    {
     "name": "stderr",
     "output_type": "stream",
     "text": [
      "WARNING:deepmatcher.data.dataset:Rebuilding data cache because: ['One or more data files have been modified.']\n"
     ]
    }
   ],
   "source": [
    "train,validation,test = dm.data.process('temp',train='training_fixedcouples_genrecopyright.csv',\n",
    "                                        validation='validation.csv',\n",
    "                                       test='test.csv',left_prefix='ltable_',right_prefix='rtable_',cache='exp12.pth')"
   ]
  },
  {
   "cell_type": "code",
   "execution_count": 288,
   "metadata": {},
   "outputs": [
    {
     "name": "stdout",
     "output_type": "stream",
     "text": [
      "* Number of trainable parameters: 17757810\n",
      "===>  TRAIN Epoch 1\n",
      "Finished Epoch 1 || Run Time:    7.7 | Load Time:    1.2 || F1:  45.49 | Prec:  31.50 | Rec:  81.82 || Ex/s:  36.44\n",
      "\n",
      "===>  EVAL Epoch 1\n",
      "Finished Epoch 1 || Run Time:    0.7 | Load Time:    0.3 || F1:  61.02 | Prec:  51.43 | Rec:  75.00 || Ex/s: 100.43\n",
      "\n",
      "* Best F1: 61.016949152542374\n",
      "Saving best model...\n",
      "Done.\n",
      "---------------------\n",
      "\n",
      "===>  TRAIN Epoch 2\n",
      "Finished Epoch 2 || Run Time:    8.2 | Load Time:    1.3 || F1:  71.88 | Prec:  60.00 | Rec:  89.61 || Ex/s:  34.28\n",
      "\n",
      "===>  EVAL Epoch 2\n",
      "Finished Epoch 2 || Run Time:    0.9 | Load Time:    0.4 || F1:  72.41 | Prec:  61.76 | Rec:  87.50 || Ex/s:  88.50\n",
      "\n",
      "* Best F1: 72.41379310344827\n",
      "Saving best model...\n",
      "Done.\n",
      "---------------------\n",
      "\n",
      "===>  TRAIN Epoch 3\n",
      "Finished Epoch 3 || Run Time:    8.1 | Load Time:    1.3 || F1:  82.42 | Prec:  71.43 | Rec:  97.40 || Ex/s:  34.30\n",
      "\n",
      "===>  EVAL Epoch 3\n",
      "Finished Epoch 3 || Run Time:    0.8 | Load Time:    0.4 || F1:  80.70 | Prec:  69.70 | Rec:  95.83 || Ex/s:  91.40\n",
      "\n",
      "* Best F1: 80.70175438596492\n",
      "Saving best model...\n",
      "Done.\n",
      "---------------------\n",
      "\n",
      "===>  TRAIN Epoch 4\n",
      "Finished Epoch 4 || Run Time:    7.9 | Load Time:    1.3 || F1:  89.53 | Prec:  81.05 | Rec: 100.00 || Ex/s:  35.07\n",
      "\n",
      "===>  EVAL Epoch 4\n",
      "Finished Epoch 4 || Run Time:    0.8 | Load Time:    0.4 || F1:  85.19 | Prec:  76.67 | Rec:  95.83 || Ex/s:  90.70\n",
      "\n",
      "* Best F1: 85.18518518518519\n",
      "Saving best model...\n",
      "Done.\n",
      "---------------------\n",
      "\n",
      "===>  TRAIN Epoch 5\n",
      "Finished Epoch 5 || Run Time:    8.1 | Load Time:    1.3 || F1:  95.65 | Prec:  91.67 | Rec: 100.00 || Ex/s:  34.58\n",
      "\n",
      "===>  EVAL Epoch 5\n",
      "Finished Epoch 5 || Run Time:    0.8 | Load Time:    0.4 || F1:  83.64 | Prec:  74.19 | Rec:  95.83 || Ex/s:  91.15\n",
      "\n",
      "---------------------\n",
      "\n",
      "===>  TRAIN Epoch 6\n",
      "Finished Epoch 6 || Run Time:    7.9 | Load Time:    1.3 || F1:  96.86 | Prec:  93.90 | Rec: 100.00 || Ex/s:  35.23\n",
      "\n",
      "===>  EVAL Epoch 6\n",
      "Finished Epoch 6 || Run Time:    0.8 | Load Time:    0.4 || F1:  85.19 | Prec:  76.67 | Rec:  95.83 || Ex/s:  91.49\n",
      "\n",
      "---------------------\n",
      "\n",
      "===>  TRAIN Epoch 7\n",
      "Finished Epoch 7 || Run Time:    8.0 | Load Time:    1.3 || F1:  98.09 | Prec:  96.25 | Rec: 100.00 || Ex/s:  34.77\n",
      "\n",
      "===>  EVAL Epoch 7\n",
      "Finished Epoch 7 || Run Time:    0.8 | Load Time:    0.4 || F1:  90.20 | Prec:  85.19 | Rec:  95.83 || Ex/s:  90.82\n",
      "\n",
      "* Best F1: 90.19607843137254\n",
      "Saving best model...\n",
      "Done.\n",
      "---------------------\n",
      "\n",
      "===>  TRAIN Epoch 8\n",
      "Finished Epoch 8 || Run Time:    8.0 | Load Time:    1.3 || F1:  99.35 | Prec:  98.72 | Rec: 100.00 || Ex/s:  34.74\n",
      "\n",
      "===>  EVAL Epoch 8\n",
      "Finished Epoch 8 || Run Time:    0.8 | Load Time:    0.4 || F1:  90.20 | Prec:  85.19 | Rec:  95.83 || Ex/s:  93.15\n",
      "\n",
      "---------------------\n",
      "\n",
      "===>  TRAIN Epoch 9\n",
      "Finished Epoch 9 || Run Time:    8.0 | Load Time:    1.2 || F1: 100.00 | Prec: 100.00 | Rec: 100.00 || Ex/s:  35.08\n",
      "\n",
      "===>  EVAL Epoch 9\n",
      "Finished Epoch 9 || Run Time:    0.8 | Load Time:    0.4 || F1:  90.20 | Prec:  85.19 | Rec:  95.83 || Ex/s:  91.23\n",
      "\n",
      "---------------------\n",
      "\n",
      "===>  TRAIN Epoch 10\n",
      "Finished Epoch 10 || Run Time:    8.0 | Load Time:    1.3 || F1: 100.00 | Prec: 100.00 | Rec: 100.00 || Ex/s:  35.09\n",
      "\n",
      "===>  EVAL Epoch 10\n",
      "Finished Epoch 10 || Run Time:    0.8 | Load Time:    0.4 || F1:  88.46 | Prec:  82.14 | Rec:  95.83 || Ex/s:  91.01\n",
      "\n",
      "---------------------\n",
      "\n",
      "===>  TRAIN Epoch 11\n",
      "Finished Epoch 11 || Run Time:    8.0 | Load Time:    1.3 || F1: 100.00 | Prec: 100.00 | Rec: 100.00 || Ex/s:  34.80\n",
      "\n",
      "===>  EVAL Epoch 11\n",
      "Finished Epoch 11 || Run Time:    0.8 | Load Time:    0.4 || F1:  88.46 | Prec:  82.14 | Rec:  95.83 || Ex/s:  91.41\n",
      "\n",
      "---------------------\n",
      "\n",
      "===>  TRAIN Epoch 12\n",
      "Finished Epoch 12 || Run Time:    7.9 | Load Time:    1.2 || F1: 100.00 | Prec: 100.00 | Rec: 100.00 || Ex/s:  35.24\n",
      "\n",
      "===>  EVAL Epoch 12\n",
      "Finished Epoch 12 || Run Time:    0.8 | Load Time:    0.4 || F1:  88.46 | Prec:  82.14 | Rec:  95.83 || Ex/s:  90.65\n",
      "\n",
      "---------------------\n",
      "\n",
      "===>  TRAIN Epoch 13\n",
      "Finished Epoch 13 || Run Time:    8.0 | Load Time:    1.3 || F1: 100.00 | Prec: 100.00 | Rec: 100.00 || Ex/s:  34.82\n",
      "\n",
      "===>  EVAL Epoch 13\n",
      "Finished Epoch 13 || Run Time:    0.8 | Load Time:    0.4 || F1:  88.46 | Prec:  82.14 | Rec:  95.83 || Ex/s:  91.02\n",
      "\n",
      "---------------------\n",
      "\n",
      "===>  TRAIN Epoch 14\n",
      "Finished Epoch 14 || Run Time:    7.9 | Load Time:    1.2 || F1: 100.00 | Prec: 100.00 | Rec: 100.00 || Ex/s:  35.29\n",
      "\n",
      "===>  EVAL Epoch 14\n",
      "Finished Epoch 14 || Run Time:    0.8 | Load Time:    0.4 || F1:  88.46 | Prec:  82.14 | Rec:  95.83 || Ex/s:  91.12\n",
      "\n",
      "---------------------\n",
      "\n",
      "===>  TRAIN Epoch 15\n",
      "Finished Epoch 15 || Run Time:    8.1 | Load Time:    1.3 || F1: 100.00 | Prec: 100.00 | Rec: 100.00 || Ex/s:  34.71\n",
      "\n",
      "===>  EVAL Epoch 15\n",
      "Finished Epoch 15 || Run Time:    0.8 | Load Time:    0.4 || F1:  88.46 | Prec:  82.14 | Rec:  95.83 || Ex/s:  91.46\n",
      "\n",
      "---------------------\n",
      "\n",
      "===>  TRAIN Epoch 16\n",
      "Finished Epoch 16 || Run Time:    7.8 | Load Time:    1.2 || F1: 100.00 | Prec: 100.00 | Rec: 100.00 || Ex/s:  35.58\n",
      "\n",
      "===>  EVAL Epoch 16\n",
      "Finished Epoch 16 || Run Time:    0.8 | Load Time:    0.4 || F1:  88.46 | Prec:  82.14 | Rec:  95.83 || Ex/s:  91.51\n",
      "\n",
      "---------------------\n",
      "\n",
      "===>  TRAIN Epoch 17\n",
      "Finished Epoch 17 || Run Time:    8.0 | Load Time:    1.2 || F1: 100.00 | Prec: 100.00 | Rec: 100.00 || Ex/s:  35.02\n",
      "\n",
      "===>  EVAL Epoch 17\n",
      "Finished Epoch 17 || Run Time:    0.8 | Load Time:    0.4 || F1:  88.46 | Prec:  82.14 | Rec:  95.83 || Ex/s:  91.38\n",
      "\n",
      "---------------------\n",
      "\n",
      "===>  TRAIN Epoch 18\n",
      "Finished Epoch 18 || Run Time:    7.8 | Load Time:    1.3 || F1: 100.00 | Prec: 100.00 | Rec: 100.00 || Ex/s:  35.53\n",
      "\n",
      "===>  EVAL Epoch 18\n",
      "Finished Epoch 18 || Run Time:    0.8 | Load Time:    0.4 || F1:  88.46 | Prec:  82.14 | Rec:  95.83 || Ex/s:  91.02\n",
      "\n",
      "---------------------\n",
      "\n",
      "===>  TRAIN Epoch 19\n",
      "Finished Epoch 19 || Run Time:    8.0 | Load Time:    1.3 || F1: 100.00 | Prec: 100.00 | Rec: 100.00 || Ex/s:  34.86\n",
      "\n",
      "===>  EVAL Epoch 19\n",
      "Finished Epoch 19 || Run Time:    0.8 | Load Time:    0.4 || F1:  88.46 | Prec:  82.14 | Rec:  95.83 || Ex/s:  90.49\n",
      "\n",
      "---------------------\n",
      "\n",
      "===>  TRAIN Epoch 20\n",
      "Finished Epoch 20 || Run Time:    7.9 | Load Time:    1.2 || F1: 100.00 | Prec: 100.00 | Rec: 100.00 || Ex/s:  35.38\n",
      "\n",
      "===>  EVAL Epoch 20\n",
      "Finished Epoch 20 || Run Time:    0.8 | Load Time:    0.4 || F1:  88.46 | Prec:  82.14 | Rec:  95.83 || Ex/s:  90.81\n",
      "\n",
      "---------------------\n",
      "\n",
      "Loading best model...\n",
      "Training done.\n"
     ]
    },
    {
     "data": {
      "text/plain": [
       "90.19607843137254"
      ]
     },
     "execution_count": 288,
     "metadata": {},
     "output_type": "execute_result"
    }
   ],
   "source": [
    "hybrid_model = dm.MatchingModel(attr_summarizer='hybrid')\n",
    "hybrid_model.run_train(train,validation,best_save_path='../../models/hybrid_fixedcouples.pth',pos_neg_ratio=4,epochs=20,batch_size=16)\n",
    "#hybrid_model.load_state('../../models/hybrid_fixedcouples.pth')\n",
    "#hybrid_model.cuda()"
   ]
  },
  {
   "cell_type": "code",
   "execution_count": 289,
   "metadata": {},
   "outputs": [
    {
     "name": "stdout",
     "output_type": "stream",
     "text": [
      "===>  EVAL Epoch 7\n",
      "Finished Epoch 7 || Run Time:    0.5 | Load Time:    0.4 || F1:  85.25 | Prec:  86.67 | Rec:  83.87 || Ex/s: 118.43\n",
      "\n"
     ]
    },
    {
     "data": {
      "text/plain": [
       "85.24590163934427"
      ]
     },
     "execution_count": 289,
     "metadata": {},
     "output_type": "execute_result"
    }
   ],
   "source": [
    "hybrid_model.run_eval(test)"
   ]
  },
  {
   "cell_type": "markdown",
   "metadata": {},
   "source": [
    "## Compute Ri"
   ]
  },
  {
   "cell_type": "code",
   "execution_count": 290,
   "metadata": {},
   "outputs": [],
   "source": [
    "attributes = ['Song_Name','Artist_Name','Album_Name','Genre','Price','CopyRight','Time','Released']\n",
    "low_ranking_attributes =['Artist_Name','Album_Name','Genre','CopyRight','Released']\n",
    "all_couples_lowranking = []\n",
    "for att in low_ranking_attributes:\n",
    "    all_couples_lowranking.append([[att,attr] for attr in attributes if attr!=att])"
   ]
  },
  {
   "cell_type": "code",
   "execution_count": 291,
   "metadata": {},
   "outputs": [],
   "source": [
    "neg_classifier_inputs,neg_classifier_outputs,neg_ids = return_layer_input_output('../../Structured/itunes-amazon/'\n",
    "                                                                         ,'test_negatives',32,hybrid_model,\n",
    "                                                                        hybrid_model.classifier)"
   ]
  },
  {
   "cell_type": "code",
   "execution_count": 292,
   "metadata": {},
   "outputs": [],
   "source": [
    "pos_classifier_inputs,pos_classifier_outputs,pos_ids = return_layer_input_output('../../Structured/itunes-amazon',\n",
    "                                                                       'test_positives',32,hybrid_model,\n",
    "                                                                       hybrid_model.classifier)"
   ]
  },
  {
   "cell_type": "code",
   "execution_count": 293,
   "metadata": {},
   "outputs": [],
   "source": [
    "negative_classifier_inputs = list(map(lambda x: x[0],neg_classifier_inputs))\n",
    "positive_classifier_inputs = list(map(lambda x: x[0],pos_classifier_inputs))"
   ]
  },
  {
   "cell_type": "code",
   "execution_count": 294,
   "metadata": {},
   "outputs": [],
   "source": [
    "attribute_sets = all_couples_lowranking[2]\n",
    "column_names = []\n",
    "for att_set in attribute_sets:\n",
    "    column_names.append(att_set[0][0:3]+'-'+att_set[1][0:3])"
   ]
  },
  {
   "cell_type": "code",
   "execution_count": 295,
   "metadata": {},
   "outputs": [
    {
     "name": "stdout",
     "output_type": "stream",
     "text": [
      "Processing sample 0\n",
      "Processing sample 1\n",
      "Processing sample 2\n",
      "Processing sample 3\n",
      "Processing sample 4\n",
      "Processing sample 5\n",
      "Processing sample 6\n",
      "Processing sample 7\n",
      "Processing sample 8\n",
      "Processing sample 9\n",
      "Processing sample 10\n",
      "Processing sample 11\n",
      "Processing sample 12\n",
      "Processing sample 13\n",
      "Processing sample 14\n",
      "Processing sample 15\n",
      "Processing sample 16\n",
      "Processing sample 17\n",
      "Processing sample 18\n",
      "Processing sample 19\n",
      "Processing sample 20\n",
      "Processing sample 21\n",
      "Processing sample 22\n",
      "Processing sample 23\n",
      "Processing sample 24\n",
      "Processing sample 25\n",
      "Processing sample 26\n",
      "Processing sample 27\n",
      "Processing sample 28\n",
      "Processing sample 29\n",
      "Processing sample 30\n",
      "Processing sample 31\n",
      "Processing sample 32\n",
      "Processing sample 33\n",
      "Processing sample 34\n",
      "Processing sample 35\n",
      "Processing sample 36\n",
      "Processing sample 37\n",
      "Processing sample 38\n",
      "Processing sample 39\n",
      "Processing sample 40\n",
      "Processing sample 41\n",
      "Processing sample 42\n",
      "Processing sample 43\n",
      "Processing sample 44\n",
      "Processing sample 45\n",
      "Processing sample 46\n",
      "Processing sample 47\n",
      "Processing sample 48\n",
      "Processing sample 49\n",
      "Processing sample 50\n",
      "Processing sample 51\n",
      "Processing sample 52\n",
      "Processing sample 53\n",
      "Processing sample 54\n",
      "Processing sample 55\n",
      "Processing sample 56\n",
      "Processing sample 57\n",
      "Processing sample 58\n",
      "Processing sample 59\n",
      "Processing sample 60\n",
      "Processing sample 61\n",
      "Processing sample 62\n",
      "Processing sample 63\n",
      "Processing sample 64\n",
      "Processing sample 65\n",
      "Processing sample 66\n",
      "Processing sample 67\n",
      "Processing sample 68\n",
      "Processing sample 69\n",
      "Processing sample 70\n",
      "Processing sample 71\n",
      "Processing sample 72\n",
      "Processing sample 73\n",
      "Processing sample 74\n",
      "Processing sample 75\n",
      "Processing sample 76\n"
     ]
    }
   ],
   "source": [
    "attribute_lenght= len(attributes)\n",
    "\n",
    "current_sample = 0\n",
    "#each column of this matrix is related to a specific attribute\n",
    "negatives_ri_matrix = []\n",
    "for batch in negative_classifier_inputs:\n",
    "    for sample_index in range(len(batch)):\n",
    "        print('Processing sample {}'.format(current_sample))\n",
    "        current_sample_ris = current_sample_ris = list(map(lambda att_set: find_smallest_variation_to_change(hybrid_model.classifier,\n",
    "                                                                                    classifier_length=1200,\n",
    "                                                                                    attribute_length=150,\n",
    "                                                                                    input_matrix=batch,\n",
    "                                                                                    vector_index=sample_index,\n",
    "                                                                                    attributes=[attributes.index(attr)\n",
    "                                                                                               for attr in att_set]\n",
    "                                                                                    ,class_to_reach=1),attribute_sets))\n",
    "        negatives_ri_matrix.append(current_sample_ris)\n",
    "        current_sample+=1"
   ]
  },
  {
   "cell_type": "code",
   "execution_count": 296,
   "metadata": {},
   "outputs": [
    {
     "data": {
      "text/plain": [
       "<matplotlib.axes._subplots.AxesSubplot at 0x7fbf0f8c8f98>"
      ]
     },
     "execution_count": 296,
     "metadata": {},
     "output_type": "execute_result"
    },
    {
     "data": {
      "image/png": "[encoded data removed]",
      "text/plain": [
       "<Figure size 432x288 with 1 Axes>"
      ]
     },
     "metadata": {
      "needs_background": "light"
     },
     "output_type": "display_data"
    }
   ],
   "source": [
    "ri_norms_negative_samples = []\n",
    "for ri_list in negatives_ri_matrix:\n",
    "    ri_norms_negative_samples.append(list(map(lambda x:torch.norm(x).data[0],ri_list)))\n",
    "neg_variation_df = pd.DataFrame(data = ri_norms_negative_samples,columns = column_names)\n",
    "sum_ri = neg_variation_df.sum()\n",
    "plt = sum_ri.plot\n",
    "plt.bar()"
   ]
  },
  {
   "cell_type": "code",
   "execution_count": 297,
   "metadata": {},
   "outputs": [
    {
     "name": "stdout",
     "output_type": "stream",
     "text": [
      "Processing sample 0\n",
      "Processing sample 1\n",
      "Processing sample 2\n",
      "Processing sample 3\n",
      "Processing sample 4\n",
      "Processing sample 5\n",
      "Processing sample 6\n",
      "Processing sample 7\n",
      "Processing sample 8\n",
      "Processing sample 9\n",
      "Processing sample 10\n",
      "Processing sample 11\n",
      "Processing sample 12\n",
      "Processing sample 13\n",
      "Processing sample 14\n",
      "Processing sample 15\n",
      "Processing sample 16\n",
      "Processing sample 17\n",
      "Processing sample 18\n",
      "Processing sample 19\n",
      "Processing sample 20\n",
      "Processing sample 21\n",
      "Processing sample 22\n",
      "Processing sample 23\n",
      "Processing sample 24\n",
      "Processing sample 25\n",
      "Processing sample 26\n",
      "Processing sample 27\n",
      "Processing sample 28\n",
      "Processing sample 29\n",
      "Processing sample 30\n"
     ]
    }
   ],
   "source": [
    "attribute_lenght= len(attributes)\n",
    "\n",
    "current_sample = 0\n",
    "#each column of this matrix is related to a specific attribute\n",
    "positives_ri_matrix = []\n",
    "for batch in positive_classifier_inputs:\n",
    "    for sample_index in range(len(batch)):\n",
    "        print('Processing sample {}'.format(current_sample))\n",
    "        current_sample_ris = current_sample_ris = list(map(lambda att_set: find_smallest_variation_to_change(hybrid_model.classifier,\n",
    "                                                                                    classifier_length=1200,\n",
    "                                                                                    attribute_length=150,\n",
    "                                                                                    input_matrix=batch,\n",
    "                                                                                    vector_index=sample_index,\n",
    "                                                                                    attributes=[attributes.index(attr)\n",
    "                                                                                               for attr in att_set]\n",
    "                                                                                    ,class_to_reach=0),attribute_sets))\n",
    "        positives_ri_matrix.append(current_sample_ris)\n",
    "        current_sample+=1"
   ]
  },
  {
   "cell_type": "code",
   "execution_count": 298,
   "metadata": {},
   "outputs": [
    {
     "data": {
      "text/plain": [
       "<matplotlib.axes._subplots.AxesSubplot at 0x7fbf0b27d0f0>"
      ]
     },
     "execution_count": 298,
     "metadata": {},
     "output_type": "execute_result"
    },
    {
     "data": {
      "image/png": "[encoded data removed]",
      "text/plain": [
       "<Figure size 432x288 with 1 Axes>"
      ]
     },
     "metadata": {
      "needs_background": "light"
     },
     "output_type": "display_data"
    }
   ],
   "source": [
    "ri_norms_positive_samples = []\n",
    "for ri_list in positives_ri_matrix:\n",
    "    ri_norms_positive_samples.append(list(map(lambda x:torch.norm(x).data[0],ri_list)))\n",
    "variation_pos_df = pd.DataFrame(data =ri_norms_positive_samples,columns = column_names)\n",
    "ri_sum_pos = variation_pos_df.sum()\n",
    "ri_sum_pos.plot.bar()"
   ]
  },
  {
   "cell_type": "code",
   "execution_count": 40,
   "metadata": {},
   "outputs": [],
   "source": [
    "! rm -r temp"
   ]
  },
  {
   "cell_type": "code",
   "execution_count": 41,
   "metadata": {},
   "outputs": [
    {
     "data": {
      "text/html": [
       "<div>\n",
       "<style scoped>\n",
       "    .dataframe tbody tr th:only-of-type {\n",
       "        vertical-align: middle;\n",
       "    }\n",
       "\n",
       "    .dataframe tbody tr th {\n",
       "        vertical-align: top;\n",
       "    }\n",
       "\n",
       "    .dataframe thead th {\n",
       "        text-align: right;\n",
       "    }\n",
       "</style>\n",
       "<table border=\"1\" class=\"dataframe\">\n",
       "  <thead>\n",
       "    <tr style=\"text-align: right;\">\n",
       "      <th></th>\n",
       "      <th>Gen-Son</th>\n",
       "      <th>Gen-Art</th>\n",
       "      <th>Gen-Alb</th>\n",
       "      <th>Gen-Pri</th>\n",
       "      <th>Gen-Cop</th>\n",
       "      <th>Gen-Tim</th>\n",
       "      <th>Gen-Rel</th>\n",
       "    </tr>\n",
       "  </thead>\n",
       "  <tbody>\n",
       "    <tr>\n",
       "      <th>0</th>\n",
       "      <td>2.400168</td>\n",
       "      <td>3.271580</td>\n",
       "      <td>2.831830</td>\n",
       "      <td>2.292891</td>\n",
       "      <td>3.141664</td>\n",
       "      <td>1.739190</td>\n",
       "      <td>3.580072</td>\n",
       "    </tr>\n",
       "    <tr>\n",
       "      <th>1</th>\n",
       "      <td>3.743701</td>\n",
       "      <td>4.987300</td>\n",
       "      <td>4.367309</td>\n",
       "      <td>3.683948</td>\n",
       "      <td>4.715356</td>\n",
       "      <td>1.911734</td>\n",
       "      <td>5.328947</td>\n",
       "    </tr>\n",
       "    <tr>\n",
       "      <th>2</th>\n",
       "      <td>3.877554</td>\n",
       "      <td>5.257379</td>\n",
       "      <td>4.511127</td>\n",
       "      <td>3.632184</td>\n",
       "      <td>5.149188</td>\n",
       "      <td>2.776563</td>\n",
       "      <td>5.678788</td>\n",
       "    </tr>\n",
       "    <tr>\n",
       "      <th>3</th>\n",
       "      <td>6.821429</td>\n",
       "      <td>9.472612</td>\n",
       "      <td>7.955276</td>\n",
       "      <td>6.443750</td>\n",
       "      <td>9.441951</td>\n",
       "      <td>4.030622</td>\n",
       "      <td>10.085423</td>\n",
       "    </tr>\n",
       "    <tr>\n",
       "      <th>4</th>\n",
       "      <td>7.139969</td>\n",
       "      <td>10.196482</td>\n",
       "      <td>8.417581</td>\n",
       "      <td>6.537127</td>\n",
       "      <td>10.758584</td>\n",
       "      <td>4.926408</td>\n",
       "      <td>11.112793</td>\n",
       "    </tr>\n",
       "  </tbody>\n",
       "</table>\n",
       "</div>"
      ],
      "text/plain": [
       "    Gen-Son    Gen-Art   Gen-Alb   Gen-Pri    Gen-Cop   Gen-Tim    Gen-Rel\n",
       "0  2.400168   3.271580  2.831830  2.292891   3.141664  1.739190   3.580072\n",
       "1  3.743701   4.987300  4.367309  3.683948   4.715356  1.911734   5.328947\n",
       "2  3.877554   5.257379  4.511127  3.632184   5.149188  2.776563   5.678788\n",
       "3  6.821429   9.472612  7.955276  6.443750   9.441951  4.030622  10.085423\n",
       "4  7.139969  10.196482  8.417581  6.537127  10.758584  4.926408  11.112793"
      ]
     },
     "execution_count": 41,
     "metadata": {},
     "output_type": "execute_result"
    }
   ],
   "source": [
    "variation_pos_df.head()"
   ]
  },
  {
   "cell_type": "code",
   "execution_count": 42,
   "metadata": {},
   "outputs": [],
   "source": [
    "from scipy.stats import kstest"
   ]
  },
  {
   "cell_type": "code",
   "execution_count": 49,
   "metadata": {},
   "outputs": [
    {
     "name": "stdout",
     "output_type": "stream",
     "text": [
      "3.4000537664659563\n",
      "4.634881623329655\n",
      "4.014316831865618\n",
      "3.23825285127086\n",
      "4.565991144026479\n",
      "2.4156884031911052\n",
      "4.990320594080033\n"
     ]
    }
   ],
   "source": [
    "for col in list(variation_pos_df):\n",
    "    print(variation_pos_df[col].mean())"
   ]
  },
  {
   "cell_type": "code",
   "execution_count": 51,
   "metadata": {},
   "outputs": [
    {
     "ename": "TypeError",
     "evalue": "_parse_args() missing 1 required positional argument: 's'",
     "output_type": "error",
     "traceback": [
      "\u001b[0;31m---------------------------------------------------------------------------\u001b[0m",
      "\u001b[0;31mTypeError\u001b[0m                                 Traceback (most recent call last)",
      "\u001b[0;32m<ipython-input-51-676a64e218fa>\u001b[0m in \u001b[0;36m<module>\u001b[0;34m()\u001b[0m\n\u001b[0;32m----> 1\u001b[0;31m \u001b[0mkstest\u001b[0m\u001b[0;34m(\u001b[0m\u001b[0mvariation_pos_df\u001b[0m\u001b[0;34m[\u001b[0m\u001b[0;34m'Gen-Cop'\u001b[0m\u001b[0;34m]\u001b[0m\u001b[0;34m,\u001b[0m\u001b[0;34m'lognorm'\u001b[0m\u001b[0;34m)\u001b[0m\u001b[0;34m\u001b[0m\u001b[0;34m\u001b[0m\u001b[0m\n\u001b[0m",
      "\u001b[0;32m/home/nvidia/anaconda3/envs/testenv/lib/python3.6/site-packages/scipy/stats/stats.py\u001b[0m in \u001b[0;36mkstest\u001b[0;34m(rvs, cdf, args, N, alternative, mode)\u001b[0m\n\u001b[1;32m   4400\u001b[0m         \u001b[0mvals\u001b[0m \u001b[0;34m=\u001b[0m \u001b[0mnp\u001b[0m\u001b[0;34m.\u001b[0m\u001b[0msort\u001b[0m\u001b[0;34m(\u001b[0m\u001b[0mrvs\u001b[0m\u001b[0;34m)\u001b[0m\u001b[0;34m\u001b[0m\u001b[0;34m\u001b[0m\u001b[0m\n\u001b[1;32m   4401\u001b[0m         \u001b[0mN\u001b[0m \u001b[0;34m=\u001b[0m \u001b[0mlen\u001b[0m\u001b[0;34m(\u001b[0m\u001b[0mvals\u001b[0m\u001b[0;34m)\u001b[0m\u001b[0;34m\u001b[0m\u001b[0;34m\u001b[0m\u001b[0m\n\u001b[0;32m-> 4402\u001b[0;31m     \u001b[0mcdfvals\u001b[0m \u001b[0;34m=\u001b[0m \u001b[0mcdf\u001b[0m\u001b[0;34m(\u001b[0m\u001b[0mvals\u001b[0m\u001b[0;34m,\u001b[0m \u001b[0;34m*\u001b[0m\u001b[0margs\u001b[0m\u001b[0;34m)\u001b[0m\u001b[0;34m\u001b[0m\u001b[0;34m\u001b[0m\u001b[0m\n\u001b[0m\u001b[1;32m   4403\u001b[0m \u001b[0;34m\u001b[0m\u001b[0m\n\u001b[1;32m   4404\u001b[0m     \u001b[0;31m# to not break compatibility with existing code\u001b[0m\u001b[0;34m\u001b[0m\u001b[0;34m\u001b[0m\u001b[0;34m\u001b[0m\u001b[0m\n",
      "\u001b[0;32m/home/nvidia/anaconda3/envs/testenv/lib/python3.6/site-packages/scipy/stats/_distn_infrastructure.py\u001b[0m in \u001b[0;36mcdf\u001b[0;34m(self, x, *args, **kwds)\u001b[0m\n\u001b[1;32m   1739\u001b[0m \u001b[0;34m\u001b[0m\u001b[0m\n\u001b[1;32m   1740\u001b[0m         \"\"\"\n\u001b[0;32m-> 1741\u001b[0;31m         \u001b[0margs\u001b[0m\u001b[0;34m,\u001b[0m \u001b[0mloc\u001b[0m\u001b[0;34m,\u001b[0m \u001b[0mscale\u001b[0m \u001b[0;34m=\u001b[0m \u001b[0mself\u001b[0m\u001b[0;34m.\u001b[0m\u001b[0m_parse_args\u001b[0m\u001b[0;34m(\u001b[0m\u001b[0;34m*\u001b[0m\u001b[0margs\u001b[0m\u001b[0;34m,\u001b[0m \u001b[0;34m**\u001b[0m\u001b[0mkwds\u001b[0m\u001b[0;34m)\u001b[0m\u001b[0;34m\u001b[0m\u001b[0;34m\u001b[0m\u001b[0m\n\u001b[0m\u001b[1;32m   1742\u001b[0m         \u001b[0mx\u001b[0m\u001b[0;34m,\u001b[0m \u001b[0mloc\u001b[0m\u001b[0;34m,\u001b[0m \u001b[0mscale\u001b[0m \u001b[0;34m=\u001b[0m \u001b[0mmap\u001b[0m\u001b[0;34m(\u001b[0m\u001b[0masarray\u001b[0m\u001b[0;34m,\u001b[0m \u001b[0;34m(\u001b[0m\u001b[0mx\u001b[0m\u001b[0;34m,\u001b[0m \u001b[0mloc\u001b[0m\u001b[0;34m,\u001b[0m \u001b[0mscale\u001b[0m\u001b[0;34m)\u001b[0m\u001b[0;34m)\u001b[0m\u001b[0;34m\u001b[0m\u001b[0;34m\u001b[0m\u001b[0m\n\u001b[1;32m   1743\u001b[0m         \u001b[0margs\u001b[0m \u001b[0;34m=\u001b[0m \u001b[0mtuple\u001b[0m\u001b[0;34m(\u001b[0m\u001b[0mmap\u001b[0m\u001b[0;34m(\u001b[0m\u001b[0masarray\u001b[0m\u001b[0;34m,\u001b[0m \u001b[0margs\u001b[0m\u001b[0;34m)\u001b[0m\u001b[0;34m)\u001b[0m\u001b[0;34m\u001b[0m\u001b[0;34m\u001b[0m\u001b[0m\n",
      "\u001b[0;31mTypeError\u001b[0m: _parse_args() missing 1 required positional argument: 's'"
     ]
    }
   ],
   "source": [
    "kstest(variation_pos_df['Gen-Cop'],'lognorm')"
   ]
  },
  {
   "cell_type": "code",
   "execution_count": 60,
   "metadata": {},
   "outputs": [
    {
     "data": {
      "image/png": "[encoded data removed]",
      "text/plain": [
       "<Figure size 432x288 with 1 Axes>"
      ]
     },
     "metadata": {
      "needs_background": "light"
     },
     "output_type": "display_data"
    }
   ],
   "source": [
    "import matplotlib.pyplot as plt\n",
    "x = variation_pos_df['Gen-Tim']\n",
    "fig = plt.figure()\n",
    "plt.hist(x, bins=10)\n",
    "plt.xlabel(\"Distance\")\n",
    "plt.ylabel('Frequencies')\n",
    "#plt.show()\n",
    "fig.savefig('distance_values_negatives_standardencoding.png')"
   ]
  },
  {
   "cell_type": "code",
   "execution_count": 58,
   "metadata": {},
   "outputs": [
    {
     "data": {
      "text/html": [
       "<div>\n",
       "<style scoped>\n",
       "    .dataframe tbody tr th:only-of-type {\n",
       "        vertical-align: middle;\n",
       "    }\n",
       "\n",
       "    .dataframe tbody tr th {\n",
       "        vertical-align: top;\n",
       "    }\n",
       "\n",
       "    .dataframe thead th {\n",
       "        text-align: right;\n",
       "    }\n",
       "</style>\n",
       "<table border=\"1\" class=\"dataframe\">\n",
       "  <thead>\n",
       "    <tr style=\"text-align: right;\">\n",
       "      <th></th>\n",
       "      <th>Gen-Son</th>\n",
       "      <th>Gen-Art</th>\n",
       "      <th>Gen-Alb</th>\n",
       "      <th>Gen-Pri</th>\n",
       "      <th>Gen-Cop</th>\n",
       "      <th>Gen-Tim</th>\n",
       "      <th>Gen-Rel</th>\n",
       "    </tr>\n",
       "  </thead>\n",
       "  <tbody>\n",
       "    <tr>\n",
       "      <th>0</th>\n",
       "      <td>2.400168</td>\n",
       "      <td>3.271580</td>\n",
       "      <td>2.831830</td>\n",
       "      <td>2.292891</td>\n",
       "      <td>3.141664</td>\n",
       "      <td>1.739190</td>\n",
       "      <td>3.580072</td>\n",
       "    </tr>\n",
       "    <tr>\n",
       "      <th>1</th>\n",
       "      <td>3.743701</td>\n",
       "      <td>4.987300</td>\n",
       "      <td>4.367309</td>\n",
       "      <td>3.683948</td>\n",
       "      <td>4.715356</td>\n",
       "      <td>1.911734</td>\n",
       "      <td>5.328947</td>\n",
       "    </tr>\n",
       "    <tr>\n",
       "      <th>2</th>\n",
       "      <td>3.877554</td>\n",
       "      <td>5.257379</td>\n",
       "      <td>4.511127</td>\n",
       "      <td>3.632184</td>\n",
       "      <td>5.149188</td>\n",
       "      <td>2.776563</td>\n",
       "      <td>5.678788</td>\n",
       "    </tr>\n",
       "    <tr>\n",
       "      <th>3</th>\n",
       "      <td>6.821429</td>\n",
       "      <td>9.472612</td>\n",
       "      <td>7.955276</td>\n",
       "      <td>6.443750</td>\n",
       "      <td>9.441951</td>\n",
       "      <td>4.030622</td>\n",
       "      <td>10.085423</td>\n",
       "    </tr>\n",
       "    <tr>\n",
       "      <th>4</th>\n",
       "      <td>7.139969</td>\n",
       "      <td>10.196482</td>\n",
       "      <td>8.417581</td>\n",
       "      <td>6.537127</td>\n",
       "      <td>10.758584</td>\n",
       "      <td>4.926408</td>\n",
       "      <td>11.112793</td>\n",
       "    </tr>\n",
       "    <tr>\n",
       "      <th>5</th>\n",
       "      <td>3.628982</td>\n",
       "      <td>5.023585</td>\n",
       "      <td>4.316590</td>\n",
       "      <td>3.409490</td>\n",
       "      <td>4.951978</td>\n",
       "      <td>2.530789</td>\n",
       "      <td>5.579182</td>\n",
       "    </tr>\n",
       "    <tr>\n",
       "      <th>6</th>\n",
       "      <td>3.900857</td>\n",
       "      <td>5.159257</td>\n",
       "      <td>4.488623</td>\n",
       "      <td>3.688363</td>\n",
       "      <td>4.902045</td>\n",
       "      <td>2.834462</td>\n",
       "      <td>5.512400</td>\n",
       "    </tr>\n",
       "    <tr>\n",
       "      <th>7</th>\n",
       "      <td>0.000000</td>\n",
       "      <td>0.000000</td>\n",
       "      <td>0.000000</td>\n",
       "      <td>0.000000</td>\n",
       "      <td>0.000000</td>\n",
       "      <td>0.000000</td>\n",
       "      <td>0.000000</td>\n",
       "    </tr>\n",
       "    <tr>\n",
       "      <th>8</th>\n",
       "      <td>0.000000</td>\n",
       "      <td>0.000000</td>\n",
       "      <td>0.000000</td>\n",
       "      <td>0.000000</td>\n",
       "      <td>0.000000</td>\n",
       "      <td>0.000000</td>\n",
       "      <td>0.000000</td>\n",
       "    </tr>\n",
       "    <tr>\n",
       "      <th>9</th>\n",
       "      <td>1.447506</td>\n",
       "      <td>1.827793</td>\n",
       "      <td>1.628657</td>\n",
       "      <td>1.438763</td>\n",
       "      <td>1.694015</td>\n",
       "      <td>1.164686</td>\n",
       "      <td>1.908162</td>\n",
       "    </tr>\n",
       "  </tbody>\n",
       "</table>\n",
       "</div>"
      ],
      "text/plain": [
       "    Gen-Son    Gen-Art   Gen-Alb   Gen-Pri    Gen-Cop   Gen-Tim    Gen-Rel\n",
       "0  2.400168   3.271580  2.831830  2.292891   3.141664  1.739190   3.580072\n",
       "1  3.743701   4.987300  4.367309  3.683948   4.715356  1.911734   5.328947\n",
       "2  3.877554   5.257379  4.511127  3.632184   5.149188  2.776563   5.678788\n",
       "3  6.821429   9.472612  7.955276  6.443750   9.441951  4.030622  10.085423\n",
       "4  7.139969  10.196482  8.417581  6.537127  10.758584  4.926408  11.112793\n",
       "5  3.628982   5.023585  4.316590  3.409490   4.951978  2.530789   5.579182\n",
       "6  3.900857   5.159257  4.488623  3.688363   4.902045  2.834462   5.512400\n",
       "7  0.000000   0.000000  0.000000  0.000000   0.000000  0.000000   0.000000\n",
       "8  0.000000   0.000000  0.000000  0.000000   0.000000  0.000000   0.000000\n",
       "9  1.447506   1.827793  1.628657  1.438763   1.694015  1.164686   1.908162"
      ]
     },
     "execution_count": 58,
     "metadata": {},
     "output_type": "execute_result"
    }
   ],
   "source": [
    "variation_pos_df.head(10)"
   ]
  },
  {
   "cell_type": "code",
   "execution_count": null,
   "metadata": {},
   "outputs": [],
   "source": []
  }
 ],
 "metadata": {
  "kernelspec": {
   "display_name": "Python 3",
   "language": "python",
   "name": "python3"
  },
  "language_info": {
   "codemirror_mode": {
    "name": "ipython",
    "version": 3
   },
   "file_extension": ".py",
   "mimetype": "text/x-python",
   "name": "python",
   "nbconvert_exporter": "python",
   "pygments_lexer": "ipython3",
   "version": "3.6.8"
  }
 },
 "nbformat": 4,
 "nbformat_minor": 2
}

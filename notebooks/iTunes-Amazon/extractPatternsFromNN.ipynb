{
 "cells": [
  {
   "cell_type": "code",
   "execution_count": 1,
   "metadata": {},
   "outputs": [],
   "source": [
    "import sys\n",
    "sys.path.append('../..')"
   ]
  },
  {
   "cell_type": "code",
   "execution_count": 2,
   "metadata": {},
   "outputs": [],
   "source": [
    "import pandas as pd\n",
    "from efficient_apriori import apriori"
   ]
  },
  {
   "cell_type": "code",
   "execution_count": 3,
   "metadata": {},
   "outputs": [],
   "source": [
    "def appendPrefix(attribute,prefix):\n",
    "    return list(map(lambda s:prefix+s,attribute.split()))"
   ]
  },
  {
   "cell_type": "code",
   "execution_count": 4,
   "metadata": {},
   "outputs": [],
   "source": [
    "def preProcessNeighbors(nn,opposite_label_data,attribute):\n",
    "    nn_values = pd.merge(nn,opposite_label_data,left_on=attribute,right_on='id')\n",
    "    left_values, right_values  = nn_values['ltable_'+attribute],nn_values['rtable_'+attribute]\n",
    "    left_values_prefixed = list(map(lambda att:tuple(appendPrefix(att,'L_')),left_values))\n",
    "    right_values_prefixed = list(map(lambda att:tuple(appendPrefix(att,'R_')),right_values))\n",
    "    return list(map(lambda l,r:l+r,left_values_prefixed,right_values_prefixed))"
   ]
  },
  {
   "cell_type": "code",
   "execution_count": 5,
   "metadata": {},
   "outputs": [],
   "source": [
    "pos_nn = pd.read_csv('experiments/results/positivesNNHybridWithoutfilter.csv')\n",
    "train_neg = pd.read_csv('../../Structured/itunes-amazon/train_negatives.csv')\n",
    "transactionsOnTime = preProcessNeighbors(pos_nn,train_neg,'Time')"
   ]
  },
  {
   "cell_type": "code",
   "execution_count": 6,
   "metadata": {},
   "outputs": [
    {
     "name": "stdout",
     "output_type": "stream",
     "text": [
      "{R_3:16} -> {L_3:20} (conf: 0.980, supp: 0.371, lift: 2.488, conv: 30.303)\n",
      "{L_3:20} -> {R_3:16} (conf: 0.942, supp: 0.371, lift: 2.488, conv: 10.768)\n",
      "{R_5:17} -> {L_2:09:26} (conf: 1.000, supp: 0.303, lift: 3.300, conv: 696969696.970)\n",
      "{L_2:09:26} -> {R_5:17} (conf: 1.000, supp: 0.303, lift: 3.300, conv: 696969696.970)\n"
     ]
    }
   ],
   "source": [
    "itemset,rules = apriori(transactionsOnTime,min_support=0.05,min_confidence=0.8)\n",
    "rules_rhs = filter(lambda rule: len(rule.lhs) == 1 and len(rule.rhs)==1, rules)\n",
    "for rule in sorted(rules_rhs, key=lambda rule: rule.lift):\n",
    "  print(rule) # Prints the rule and its confidence, support, lift, ..."
   ]
  },
  {
   "cell_type": "code",
   "execution_count": 7,
   "metadata": {},
   "outputs": [
    {
     "name": "stdout",
     "output_type": "stream",
     "text": [
      "{R_$, R_1.29} -> {L_Album, L_Only} (conf: 1.000, supp: 0.992, lift: 1.008, conv: 7575757.576)\n",
      "{L_Only, R_1.29} -> {L_Album, R_$} (conf: 1.000, supp: 0.992, lift: 1.008, conv: 7575757.576)\n",
      "{L_Only, R_$} -> {L_Album, R_1.29} (conf: 1.000, supp: 0.992, lift: 1.008, conv: 7575757.576)\n",
      "{L_Album, R_1.29} -> {L_Only, R_$} (conf: 1.000, supp: 0.992, lift: 1.008, conv: 7575757.576)\n",
      "{L_Album, R_$} -> {L_Only, R_1.29} (conf: 1.000, supp: 0.992, lift: 1.008, conv: 7575757.576)\n",
      "{L_Album, L_Only} -> {R_$, R_1.29} (conf: 1.000, supp: 0.992, lift: 1.008, conv: 7575757.576)\n"
     ]
    }
   ],
   "source": [
    "transactionsOnPrice = preProcessNeighbors(pos_nn,train_neg,'Price')\n",
    "itemset,rules = apriori(transactionsOnPrice,min_support=0.05,min_confidence=0.8)\n",
    "rules_rhs = filter(lambda rule: len(rule.lhs) == 2 and len(rule.rhs)==2, rules)\n",
    "for rule in sorted(rules_rhs, key=lambda rule: rule.lift):\n",
    "  print(rule) # Prints the rule and its confidence, support, lift, ..."
   ]
  },
  {
   "cell_type": "markdown",
   "metadata": {},
   "source": [
    "## Inspect NN on critical attributes for negatives"
   ]
  },
  {
   "cell_type": "code",
   "execution_count": 35,
   "metadata": {},
   "outputs": [],
   "source": [
    "negNN = pd.read_csv('experiments/results/negativesNNhybridWithoutfilter.csv')\n",
    "trainPos = pd.read_csv('../../Structured/itunes-amazon/train_positives.csv')\n",
    "transactions = preProcessNeighbors(negNN,trainPos,'Time')"
   ]
  },
  {
   "cell_type": "code",
   "execution_count": 36,
   "metadata": {},
   "outputs": [
    {
     "name": "stdout",
     "output_type": "stream",
     "text": [
      "{R_3:20} -> {L_3:35} (conf: 1.000, supp: 0.381, lift: 2.626, conv: 619164619.165)\n",
      "{L_3:35} -> {R_3:20} (conf: 1.000, supp: 0.381, lift: 2.626, conv: 619164619.165)\n",
      "{R_2:59} -> {L_2:59} (conf: 1.000, supp: 0.184, lift: 5.427, conv: 815724815.725)\n",
      "{L_2:59} -> {R_2:59} (conf: 1.000, supp: 0.184, lift: 5.427, conv: 815724815.725)\n",
      "{R_3:44} -> {L_3:41} (conf: 1.000, supp: 0.069, lift: 14.536, conv: 931203931.204)\n",
      "{L_3:41} -> {R_3:44} (conf: 1.000, supp: 0.069, lift: 14.536, conv: 931203931.204)\n",
      "{R_3:15} -> {L_3:13} (conf: 1.000, supp: 0.054, lift: 15.074, conv: 933660933.661)\n",
      "{L_3:13} -> {R_3:15} (conf: 0.815, supp: 0.054, lift: 15.074, conv: 5.108)\n",
      "{R_4:49} -> {L_5:20} (conf: 1.000, supp: 0.052, lift: 19.381, conv: 948402948.403)\n",
      "{L_5:20} -> {R_4:49} (conf: 1.000, supp: 0.052, lift: 19.381, conv: 948402948.403)\n"
     ]
    }
   ],
   "source": [
    "itemsets, rules = apriori(transactions, min_support=0.05,  min_confidence=0.8)\n",
    "rules_rhs = filter(lambda rule: len(rule.lhs) == 1 and len(rule.rhs)==1, rules)\n",
    "for rule in sorted(rules_rhs, key=lambda rule: rule.lift):\n",
    "  print(rule) # Prints the rule and its confidence, support, lift, ..."
   ]
  },
  {
   "cell_type": "code",
   "execution_count": 37,
   "metadata": {},
   "outputs": [],
   "source": [
    "transactions = preProcessNeighbors(negNN,trainPos,'Price')"
   ]
  },
  {
   "cell_type": "code",
   "execution_count": 39,
   "metadata": {},
   "outputs": [
    {
     "name": "stdout",
     "output_type": "stream",
     "text": [
      "{L_0.99, R_0.99} -> {L_$, R_$} (conf: 1.000, supp: 0.827, lift: 1.021, conv: 20408163.265)\n",
      "{L_$, R_$} -> {L_0.99, R_0.99} (conf: 0.844, supp: 0.827, lift: 1.021, conv: 1.110)\n",
      "{L_1.29, R_1.29} -> {L_$, R_$} (conf: 1.000, supp: 0.112, lift: 1.021, conv: 20408163.265)\n",
      "{R_$, R_0.99} -> {L_$, L_0.99} (conf: 0.976, supp: 0.827, lift: 1.181, conv: 7.199)\n",
      "{L_$, L_0.99} -> {R_$, R_0.99} (conf: 1.000, supp: 0.827, lift: 1.181, conv: 153061224.490)\n",
      "{L_0.99, R_$} -> {L_$, R_0.99} (conf: 1.000, supp: 0.827, lift: 1.210, conv: 173469387.755)\n",
      "{L_$, R_0.99} -> {L_0.99, R_$} (conf: 1.000, supp: 0.827, lift: 1.210, conv: 173469387.755)\n",
      "{R_$, R_1.29} -> {L_$, L_1.29} (conf: 0.846, supp: 0.112, lift: 6.379, conv: 5.638)\n",
      "{L_1.29, R_$} -> {L_$, R_1.29} (conf: 0.846, supp: 0.112, lift: 6.379, conv: 5.638)\n",
      "{L_$, R_1.29} -> {L_1.29, R_$} (conf: 0.846, supp: 0.112, lift: 6.379, conv: 5.638)\n",
      "{L_$, L_1.29} -> {R_$, R_1.29} (conf: 0.846, supp: 0.112, lift: 6.379, conv: 5.638)\n"
     ]
    }
   ],
   "source": [
    "itemsets, rules = apriori(transactions, min_support=0.05,  min_confidence=0.8)\n",
    "rules_rhs = filter(lambda rule: len(rule.lhs) == 2 and len(rule.rhs)==2, rules)\n",
    "for rule in sorted(rules_rhs, key=lambda rule: rule.lift):\n",
    "  print(rule) # Prints the rule and its confidence, support, lift, ..."
   ]
  },
  {
   "cell_type": "code",
   "execution_count": null,
   "metadata": {},
   "outputs": [],
   "source": []
  }
 ],
 "metadata": {
  "kernelspec": {
   "display_name": "Python 3",
   "language": "python",
   "name": "python3"
  },
  "language_info": {
   "codemirror_mode": {
    "name": "ipython",
    "version": 3
   },
   "file_extension": ".py",
   "mimetype": "text/x-python",
   "name": "python",
   "nbconvert_exporter": "python",
   "pygments_lexer": "ipython3",
   "version": "3.6.9"
  }
 },
 "nbformat": 4,
 "nbformat_minor": 2
}

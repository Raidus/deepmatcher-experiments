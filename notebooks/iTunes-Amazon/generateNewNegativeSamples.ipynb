{
 "cells": [
  {
   "cell_type": "markdown",
   "metadata": {},
   "source": [
    "## Generazione nuovi esempi di training"
   ]
  },
  {
   "cell_type": "code",
   "execution_count": 55,
   "metadata": {
    "ExecuteTime": {
     "end_time": "2020-03-01T16:12:05.807608Z",
     "start_time": "2020-03-01T16:12:05.803239Z"
    }
   },
   "outputs": [],
   "source": [
    "import sys\n",
    "sys.path.append('../..')"
   ]
  },
  {
   "cell_type": "code",
   "execution_count": 3,
   "metadata": {
    "ExecuteTime": {
     "end_time": "2020-03-01T15:56:10.978003Z",
     "start_time": "2020-03-01T15:56:10.756691Z"
    }
   },
   "outputs": [],
   "source": [
    "import os\n",
    "import pandas as pd\n",
    "dir_path ='../../datasets/Structured/itunes-amazon/'\n",
    "tableA_df = pd.read_csv(os.path.join(dir_path,'tableA.csv'))\n",
    "tableB_df = pd.read_csv(os.path.join(dir_path,'tableB.csv'))"
   ]
  },
  {
   "cell_type": "code",
   "execution_count": 4,
   "metadata": {
    "ExecuteTime": {
     "end_time": "2020-03-01T15:56:14.479734Z",
     "start_time": "2020-03-01T15:56:14.462761Z"
    }
   },
   "outputs": [],
   "source": [
    "tableA_df['Artist_Name']= tableA_df['Artist_Name'].apply(lambda s: s.lower())\n",
    "tableA_df['Song_Name']= tableA_df['Song_Name'].apply(lambda s: s.lower())"
   ]
  },
  {
   "cell_type": "code",
   "execution_count": 5,
   "metadata": {
    "ExecuteTime": {
     "end_time": "2020-03-01T15:56:14.829217Z",
     "start_time": "2020-03-01T15:56:14.765117Z"
    }
   },
   "outputs": [],
   "source": [
    "tableB_df['Artist_Name']= tableB_df['Artist_Name'].apply(lambda s: s.lower())\n",
    "tableB_df['Song_Name']= tableB_df['Song_Name'].apply(lambda s: s.lower())"
   ]
  },
  {
   "cell_type": "code",
   "execution_count": 6,
   "metadata": {
    "ExecuteTime": {
     "end_time": "2020-03-01T15:56:16.170533Z",
     "start_time": "2020-03-01T15:56:16.156161Z"
    }
   },
   "outputs": [],
   "source": [
    "def minimumEditDistance(s1,s2):\n",
    "    if len(s1) > len(s2):\n",
    "        s1,s2 = s2,s1\n",
    "    distances = range(len(s1) + 1)\n",
    "    for index2,char2 in enumerate(s2):\n",
    "        newDistances = [index2+1]\n",
    "        for index1,char1 in enumerate(s1):\n",
    "            if char1 == char2:\n",
    "                newDistances.append(distances[index1])\n",
    "            else:\n",
    "                newDistances.append(1 + min((distances[index1],\n",
    "                                             distances[index1+1],\n",
    "                                             newDistances[-1])))\n",
    "        distances = newDistances\n",
    "    return distances[-1]"
   ]
  },
  {
   "cell_type": "code",
   "execution_count": 7,
   "metadata": {
    "ExecuteTime": {
     "end_time": "2020-03-01T15:56:16.475754Z",
     "start_time": "2020-03-01T15:56:16.469283Z"
    }
   },
   "outputs": [],
   "source": [
    "def jaccard_distance(list1, list2):\n",
    "    intersection = len(list(set(list1).intersection(list2)))\n",
    "    #print(list(set(list1).intersection(list2)))\n",
    "    union = (len(list1) + len(list2)) - intersection\n",
    "    return float((union-intersection) / union)"
   ]
  },
  {
   "cell_type": "code",
   "execution_count": 8,
   "metadata": {
    "ExecuteTime": {
     "end_time": "2020-03-01T15:56:17.755823Z",
     "start_time": "2020-03-01T15:56:17.001561Z"
    }
   },
   "outputs": [
    {
     "name": "stderr",
     "output_type": "stream",
     "text": [
      "[nltk_data] Downloading package stopwords to /home/nvidia/nltk_data...\n",
      "[nltk_data]   Package stopwords is already up-to-date!\n"
     ]
    }
   ],
   "source": [
    "import nltk\n",
    "stopwords = nltk.download(\"stopwords\")\n",
    "\n",
    "from nltk.tokenize import RegexpTokenizer\n",
    "from nltk.corpus import stopwords\n",
    "tokenizer = RegexpTokenizer(r'\\w+')\n",
    "stop_words = set(stopwords.words('english'))\n",
    "stop_words.update(['.', ',', '\"', \"'\", ':', ';', '(', ')', '[', ']', '{', '}'])"
   ]
  },
  {
   "cell_type": "code",
   "execution_count": 9,
   "metadata": {
    "ExecuteTime": {
     "end_time": "2020-03-01T15:56:21.322248Z",
     "start_time": "2020-03-01T15:56:21.316554Z"
    }
   },
   "outputs": [],
   "source": [
    "def get_clean_tokens(s):\n",
    "    tokens =tokenizer.tokenize(s)\n",
    "    return [word for word in tokens if word not in stop_words]"
   ]
  },
  {
   "cell_type": "markdown",
   "metadata": {},
   "source": [
    "## Ricerca di canzoni non matching tramite jaccard similarity"
   ]
  },
  {
   "cell_type": "code",
   "execution_count": 10,
   "metadata": {
    "ExecuteTime": {
     "end_time": "2020-03-01T15:56:22.199905Z",
     "start_time": "2020-03-01T15:56:22.195900Z"
    }
   },
   "outputs": [],
   "source": [
    "import random as rd"
   ]
  },
  {
   "cell_type": "code",
   "execution_count": 41,
   "metadata": {
    "ExecuteTime": {
     "end_time": "2020-03-01T16:08:50.041379Z",
     "start_time": "2020-03-01T16:08:50.014518Z"
    }
   },
   "outputs": [],
   "source": [
    "def generateNewNegatives(source1,source2,nsamples):\n",
    "    newsamples = []\n",
    "    rd.seed(0)\n",
    "    while(len(newsamples)<nsamples):\n",
    "        k = rd.randint(0,source1.shape[0]-1)\n",
    "        l_row = source1.iloc[k]\n",
    "        ltime = l_row['Time']\n",
    "        lartist_cleaned = get_clean_tokens(l_row['Artist_Name'])\n",
    "        lsong_cleanead = get_clean_tokens(l_row['Song_Name'])\n",
    "        source2_sametime = source2[source2.Time==ltime]\n",
    "        source2_sametime_ids = source2_sametime.id.values\n",
    "        ##per avere più variabilità\n",
    "        found = False\n",
    "        while (not(found) and len(source2_sametime_ids)>0):\n",
    "            idx = rd.choice(source2_sametime_ids)\n",
    "            current_rrow = source2.iloc[idx]\n",
    "            rsong_cleaned = get_clean_tokens(current_rrow['Song_Name'])\n",
    "            rartist_clean = get_clean_tokens(current_rrow['Artist_Name'])\n",
    "            if (jaccard_distance(lartist_cleaned,rsong_cleaned)>=0.7 or \n",
    "                jaccard_distance(lsong_cleanead,rsong_cleaned) >=0.7):\n",
    "                newsamples.append((l_row['id'],current_rrow['id'],0))\n",
    "                found = True\n",
    "    return newsamples"
   ]
  },
  {
   "cell_type": "code",
   "execution_count": 61,
   "metadata": {
    "ExecuteTime": {
     "end_time": "2020-03-01T16:14:58.381467Z",
     "start_time": "2020-03-01T16:14:58.354042Z"
    }
   },
   "outputs": [
    {
     "data": {
      "text/plain": [
       "(78, 321)"
      ]
     },
     "execution_count": 61,
     "metadata": {},
     "output_type": "execute_result"
    }
   ],
   "source": [
    "train_ids = pd.read_csv('../../datasets/Structured/itunes-amazon/train.csv')\n",
    "train_df = pd.read_csv('../../datasets/Structured/itunes-amazon/merged_train.csv')\n",
    "len(train_df[train_df.label==1]),len(train_df)"
   ]
  },
  {
   "cell_type": "code",
   "execution_count": 42,
   "metadata": {
    "ExecuteTime": {
     "end_time": "2020-03-01T16:08:53.442667Z",
     "start_time": "2020-03-01T16:08:53.066165Z"
    }
   },
   "outputs": [],
   "source": [
    "newSamples = generateNewNegatives(tableA_df,tableB_df,50)\n",
    "newSamples_df = pd.DataFrame(data = newSamples,columns=['ltable_id','rtable_id','label'])"
   ]
  },
  {
   "cell_type": "code",
   "execution_count": 43,
   "metadata": {
    "ExecuteTime": {
     "end_time": "2020-03-01T16:08:53.931854Z",
     "start_time": "2020-03-01T16:08:53.905869Z"
    }
   },
   "outputs": [
    {
     "data": {
      "text/html": [
       "<div>\n",
       "<style scoped>\n",
       "    .dataframe tbody tr th:only-of-type {\n",
       "        vertical-align: middle;\n",
       "    }\n",
       "\n",
       "    .dataframe tbody tr th {\n",
       "        vertical-align: top;\n",
       "    }\n",
       "\n",
       "    .dataframe thead th {\n",
       "        text-align: right;\n",
       "    }\n",
       "</style>\n",
       "<table border=\"1\" class=\"dataframe\">\n",
       "  <thead>\n",
       "    <tr style=\"text-align: right;\">\n",
       "      <th></th>\n",
       "      <th>ltable_id</th>\n",
       "      <th>rtable_id</th>\n",
       "      <th>label</th>\n",
       "    </tr>\n",
       "  </thead>\n",
       "  <tbody>\n",
       "    <tr>\n",
       "      <th>0</th>\n",
       "      <td>3155</td>\n",
       "      <td>54858</td>\n",
       "      <td>0</td>\n",
       "    </tr>\n",
       "    <tr>\n",
       "      <th>1</th>\n",
       "      <td>3445</td>\n",
       "      <td>6114</td>\n",
       "      <td>0</td>\n",
       "    </tr>\n",
       "    <tr>\n",
       "      <th>2</th>\n",
       "      <td>2121</td>\n",
       "      <td>53987</td>\n",
       "      <td>0</td>\n",
       "    </tr>\n",
       "    <tr>\n",
       "      <th>3</th>\n",
       "      <td>3980</td>\n",
       "      <td>30544</td>\n",
       "      <td>0</td>\n",
       "    </tr>\n",
       "    <tr>\n",
       "      <th>4</th>\n",
       "      <td>6420</td>\n",
       "      <td>34453</td>\n",
       "      <td>0</td>\n",
       "    </tr>\n",
       "    <tr>\n",
       "      <th>5</th>\n",
       "      <td>3904</td>\n",
       "      <td>27626</td>\n",
       "      <td>0</td>\n",
       "    </tr>\n",
       "    <tr>\n",
       "      <th>6</th>\n",
       "      <td>4779</td>\n",
       "      <td>17280</td>\n",
       "      <td>0</td>\n",
       "    </tr>\n",
       "    <tr>\n",
       "      <th>7</th>\n",
       "      <td>4134</td>\n",
       "      <td>10367</td>\n",
       "      <td>0</td>\n",
       "    </tr>\n",
       "    <tr>\n",
       "      <th>8</th>\n",
       "      <td>2308</td>\n",
       "      <td>9588</td>\n",
       "      <td>0</td>\n",
       "    </tr>\n",
       "    <tr>\n",
       "      <th>9</th>\n",
       "      <td>6191</td>\n",
       "      <td>7981</td>\n",
       "      <td>0</td>\n",
       "    </tr>\n",
       "  </tbody>\n",
       "</table>\n",
       "</div>"
      ],
      "text/plain": [
       "   ltable_id  rtable_id  label\n",
       "0       3155      54858      0\n",
       "1       3445       6114      0\n",
       "2       2121      53987      0\n",
       "3       3980      30544      0\n",
       "4       6420      34453      0\n",
       "5       3904      27626      0\n",
       "6       4779      17280      0\n",
       "7       4134      10367      0\n",
       "8       2308       9588      0\n",
       "9       6191       7981      0"
      ]
     },
     "execution_count": 43,
     "metadata": {},
     "output_type": "execute_result"
    }
   ],
   "source": [
    "newSamples_df.head(10)"
   ]
  },
  {
   "cell_type": "code",
   "execution_count": 44,
   "metadata": {
    "ExecuteTime": {
     "end_time": "2020-03-01T16:09:03.507183Z",
     "start_time": "2020-03-01T16:09:03.483028Z"
    }
   },
   "outputs": [
    {
     "data": {
      "text/html": [
       "<div>\n",
       "<style scoped>\n",
       "    .dataframe tbody tr th:only-of-type {\n",
       "        vertical-align: middle;\n",
       "    }\n",
       "\n",
       "    .dataframe tbody tr th {\n",
       "        vertical-align: top;\n",
       "    }\n",
       "\n",
       "    .dataframe thead th {\n",
       "        text-align: right;\n",
       "    }\n",
       "</style>\n",
       "<table border=\"1\" class=\"dataframe\">\n",
       "  <thead>\n",
       "    <tr style=\"text-align: right;\">\n",
       "      <th></th>\n",
       "      <th>id</th>\n",
       "      <th>Song_Name</th>\n",
       "      <th>Artist_Name</th>\n",
       "      <th>Album_Name</th>\n",
       "      <th>Genre</th>\n",
       "      <th>Price</th>\n",
       "      <th>CopyRight</th>\n",
       "      <th>Time</th>\n",
       "      <th>Released</th>\n",
       "    </tr>\n",
       "  </thead>\n",
       "  <tbody>\n",
       "    <tr>\n",
       "      <th>3155</th>\n",
       "      <td>3155</td>\n",
       "      <td>inside your heaven</td>\n",
       "      <td>carrie underwood</td>\n",
       "      <td>Some Hearts</td>\n",
       "      <td>Pop , Music , Rock , Country , Contemporary Co...</td>\n",
       "      <td>$ 1.29</td>\n",
       "      <td>2005 19 Recordings Limited</td>\n",
       "      <td>3:44</td>\n",
       "      <td>14-Nov-05</td>\n",
       "    </tr>\n",
       "  </tbody>\n",
       "</table>\n",
       "</div>"
      ],
      "text/plain": [
       "        id           Song_Name       Artist_Name   Album_Name  \\\n",
       "3155  3155  inside your heaven  carrie underwood  Some Hearts   \n",
       "\n",
       "                                                  Genre   Price  \\\n",
       "3155  Pop , Music , Rock , Country , Contemporary Co...  $ 1.29   \n",
       "\n",
       "                       CopyRight  Time   Released  \n",
       "3155  2005 19 Recordings Limited  3:44  14-Nov-05  "
      ]
     },
     "execution_count": 44,
     "metadata": {},
     "output_type": "execute_result"
    }
   ],
   "source": [
    "tableA_df.iloc[[3155]]"
   ]
  },
  {
   "cell_type": "code",
   "execution_count": 46,
   "metadata": {
    "ExecuteTime": {
     "end_time": "2020-03-01T16:09:20.312029Z",
     "start_time": "2020-03-01T16:09:20.288859Z"
    }
   },
   "outputs": [
    {
     "data": {
      "text/html": [
       "<div>\n",
       "<style scoped>\n",
       "    .dataframe tbody tr th:only-of-type {\n",
       "        vertical-align: middle;\n",
       "    }\n",
       "\n",
       "    .dataframe tbody tr th {\n",
       "        vertical-align: top;\n",
       "    }\n",
       "\n",
       "    .dataframe thead th {\n",
       "        text-align: right;\n",
       "    }\n",
       "</style>\n",
       "<table border=\"1\" class=\"dataframe\">\n",
       "  <thead>\n",
       "    <tr style=\"text-align: right;\">\n",
       "      <th></th>\n",
       "      <th>id</th>\n",
       "      <th>Song_Name</th>\n",
       "      <th>Artist_Name</th>\n",
       "      <th>Album_Name</th>\n",
       "      <th>Genre</th>\n",
       "      <th>Price</th>\n",
       "      <th>CopyRight</th>\n",
       "      <th>Time</th>\n",
       "      <th>Released</th>\n",
       "    </tr>\n",
       "  </thead>\n",
       "  <tbody>\n",
       "    <tr>\n",
       "      <th>54858</th>\n",
       "      <td>54858</td>\n",
       "      <td>willow in the wind</td>\n",
       "      <td>kathy mattea</td>\n",
       "      <td>Willow In The Wind</td>\n",
       "      <td>Country</td>\n",
       "      <td>$ 0.99</td>\n",
       "      <td>( C ) 1989 Mercury Records , a Division of UMG...</td>\n",
       "      <td>3:44</td>\n",
       "      <td>April 4 , 1989</td>\n",
       "    </tr>\n",
       "  </tbody>\n",
       "</table>\n",
       "</div>"
      ],
      "text/plain": [
       "          id           Song_Name   Artist_Name          Album_Name    Genre  \\\n",
       "54858  54858  willow in the wind  kathy mattea  Willow In The Wind  Country   \n",
       "\n",
       "        Price                                          CopyRight  Time  \\\n",
       "54858  $ 0.99  ( C ) 1989 Mercury Records , a Division of UMG...  3:44   \n",
       "\n",
       "             Released  \n",
       "54858  April 4 , 1989  "
      ]
     },
     "execution_count": 46,
     "metadata": {},
     "output_type": "execute_result"
    }
   ],
   "source": [
    "tableB_df.iloc[[54858]]"
   ]
  },
  {
   "cell_type": "code",
   "execution_count": 24,
   "metadata": {
    "ExecuteTime": {
     "end_time": "2020-03-01T16:01:53.796729Z",
     "start_time": "2020-03-01T16:01:53.773837Z"
    }
   },
   "outputs": [
    {
     "data": {
      "text/html": [
       "<div>\n",
       "<style scoped>\n",
       "    .dataframe tbody tr th:only-of-type {\n",
       "        vertical-align: middle;\n",
       "    }\n",
       "\n",
       "    .dataframe tbody tr th {\n",
       "        vertical-align: top;\n",
       "    }\n",
       "\n",
       "    .dataframe thead th {\n",
       "        text-align: right;\n",
       "    }\n",
       "</style>\n",
       "<table border=\"1\" class=\"dataframe\">\n",
       "  <thead>\n",
       "    <tr style=\"text-align: right;\">\n",
       "      <th></th>\n",
       "      <th>id</th>\n",
       "      <th>Song_Name</th>\n",
       "      <th>Artist_Name</th>\n",
       "      <th>Album_Name</th>\n",
       "      <th>Genre</th>\n",
       "      <th>Price</th>\n",
       "      <th>CopyRight</th>\n",
       "      <th>Time</th>\n",
       "      <th>Released</th>\n",
       "    </tr>\n",
       "  </thead>\n",
       "  <tbody>\n",
       "    <tr>\n",
       "      <th>1923</th>\n",
       "      <td>1923</td>\n",
       "      <td>i have seen the rain ( feat . james t. moore )</td>\n",
       "      <td>p!nk</td>\n",
       "      <td>I 'm Not Dead</td>\n",
       "      <td>Pop , Music , Electronic , R&amp;B / Soul , Dance ...</td>\n",
       "      <td>$ 0.99</td>\n",
       "      <td>2006 LaFace Records LLC</td>\n",
       "      <td>3:30</td>\n",
       "      <td>3-Apr-06</td>\n",
       "    </tr>\n",
       "  </tbody>\n",
       "</table>\n",
       "</div>"
      ],
      "text/plain": [
       "        id                                       Song_Name Artist_Name  \\\n",
       "1923  1923  i have seen the rain ( feat . james t. moore )        p!nk   \n",
       "\n",
       "         Album_Name                                              Genre  \\\n",
       "1923  I 'm Not Dead  Pop , Music , Electronic , R&B / Soul , Dance ...   \n",
       "\n",
       "       Price                CopyRight  Time  Released  \n",
       "1923  $ 0.99  2006 LaFace Records LLC  3:30  3-Apr-06  "
      ]
     },
     "execution_count": 24,
     "metadata": {},
     "output_type": "execute_result"
    }
   ],
   "source": [
    "tableA_df.iloc[[1923]]"
   ]
  },
  {
   "cell_type": "code",
   "execution_count": 25,
   "metadata": {
    "ExecuteTime": {
     "end_time": "2020-03-01T16:02:06.454508Z",
     "start_time": "2020-03-01T16:02:06.413718Z"
    }
   },
   "outputs": [
    {
     "data": {
      "text/html": [
       "<div>\n",
       "<style scoped>\n",
       "    .dataframe tbody tr th:only-of-type {\n",
       "        vertical-align: middle;\n",
       "    }\n",
       "\n",
       "    .dataframe tbody tr th {\n",
       "        vertical-align: top;\n",
       "    }\n",
       "\n",
       "    .dataframe thead th {\n",
       "        text-align: right;\n",
       "    }\n",
       "</style>\n",
       "<table border=\"1\" class=\"dataframe\">\n",
       "  <thead>\n",
       "    <tr style=\"text-align: right;\">\n",
       "      <th></th>\n",
       "      <th>id</th>\n",
       "      <th>Song_Name</th>\n",
       "      <th>Artist_Name</th>\n",
       "      <th>Album_Name</th>\n",
       "      <th>Genre</th>\n",
       "      <th>Price</th>\n",
       "      <th>CopyRight</th>\n",
       "      <th>Time</th>\n",
       "      <th>Released</th>\n",
       "    </tr>\n",
       "  </thead>\n",
       "  <tbody>\n",
       "    <tr>\n",
       "      <th>51340</th>\n",
       "      <td>51340</td>\n",
       "      <td>biscotte et makoko</td>\n",
       "      <td>joìçlle lì © andre | benoì ¨ t delbecq | carna...</td>\n",
       "      <td>Tout va monter</td>\n",
       "      <td>Modern Postbebop , Jazz , Bebop</td>\n",
       "      <td>$ 0.99</td>\n",
       "      <td>2015 nato</td>\n",
       "      <td>3:30</td>\n",
       "      <td>June 22 , 2015</td>\n",
       "    </tr>\n",
       "  </tbody>\n",
       "</table>\n",
       "</div>"
      ],
      "text/plain": [
       "          id           Song_Name  \\\n",
       "51340  51340  biscotte et makoko   \n",
       "\n",
       "                                             Artist_Name      Album_Name  \\\n",
       "51340  joìçlle lì © andre | benoì ¨ t delbecq | carna...  Tout va monter   \n",
       "\n",
       "                                 Genre   Price  CopyRight  Time  \\\n",
       "51340  Modern Postbebop , Jazz , Bebop  $ 0.99  2015 nato  3:30   \n",
       "\n",
       "             Released  \n",
       "51340  June 22 , 2015  "
      ]
     },
     "execution_count": 25,
     "metadata": {},
     "output_type": "execute_result"
    }
   ],
   "source": [
    "tableB_df.iloc[[51340]]"
   ]
  },
  {
   "cell_type": "code",
   "execution_count": 50,
   "metadata": {
    "ExecuteTime": {
     "end_time": "2020-03-01T16:10:19.194992Z",
     "start_time": "2020-03-01T16:10:19.188259Z"
    }
   },
   "outputs": [],
   "source": [
    "newSamples_df.to_csv('exp26/extended_train.csv',index=False)"
   ]
  },
  {
   "cell_type": "code",
   "execution_count": 29,
   "metadata": {
    "ExecuteTime": {
     "end_time": "2020-03-01T16:04:18.377212Z",
     "start_time": "2020-03-01T16:04:18.371667Z"
    }
   },
   "outputs": [],
   "source": [
    "import os\n",
    "if not(os.path.exists('exp26')):\n",
    "       os.mkdir('exp26')"
   ]
  },
  {
   "cell_type": "code",
   "execution_count": 51,
   "metadata": {
    "ExecuteTime": {
     "end_time": "2020-03-01T16:10:35.873883Z",
     "start_time": "2020-03-01T16:10:35.868158Z"
    }
   },
   "outputs": [],
   "source": [
    "new_train_df = pd.concat([train_ids,newSamples_df],ignore_index=True)"
   ]
  },
  {
   "cell_type": "code",
   "execution_count": 52,
   "metadata": {
    "ExecuteTime": {
     "end_time": "2020-03-01T16:10:41.849161Z",
     "start_time": "2020-03-01T16:10:41.839121Z"
    }
   },
   "outputs": [],
   "source": [
    "new_train_df.to_csv('exp26/extended_train.csv',index=False)"
   ]
  },
  {
   "cell_type": "markdown",
   "metadata": {},
   "source": [
    "## Retrain model"
   ]
  },
  {
   "cell_type": "code",
   "execution_count": 64,
   "metadata": {
    "ExecuteTime": {
     "end_time": "2020-03-01T16:18:01.761345Z",
     "start_time": "2020-03-01T16:18:01.271521Z"
    }
   },
   "outputs": [],
   "source": [
    "from utils.dataset_parser import generate_train_valid_test\n",
    "import deepmatcher as dm"
   ]
  },
  {
   "cell_type": "code",
   "execution_count": 57,
   "metadata": {
    "ExecuteTime": {
     "end_time": "2020-03-01T16:13:41.687580Z",
     "start_time": "2020-03-01T16:13:41.162244Z"
    }
   },
   "outputs": [],
   "source": [
    "!cp ../../datasets/Structured/itunes-amazon/valid.csv exp26\n",
    "!cp ../../datasets/Structured/itunes-amazon/test.csv exp26\n",
    "!cp ../../datasets/Structured/itunes-amazon/tableA.csv exp26\n",
    "!cp ../../datasets/Structured/itunes-amazon/tableB.csv exp26"
   ]
  },
  {
   "cell_type": "code",
   "execution_count": 78,
   "metadata": {
    "ExecuteTime": {
     "end_time": "2020-03-01T16:37:53.765696Z",
     "start_time": "2020-03-01T16:37:53.459540Z"
    }
   },
   "outputs": [],
   "source": [
    "train_df,valid_df,test_df = generate_train_valid_test('exp26/',['extended_train.csv','valid.csv','test.csv'],\n",
    "                                                     'ltable_','rtable_')"
   ]
  },
  {
   "cell_type": "code",
   "execution_count": 71,
   "metadata": {
    "ExecuteTime": {
     "end_time": "2020-03-01T16:21:31.125639Z",
     "start_time": "2020-03-01T16:21:31.096345Z"
    }
   },
   "outputs": [],
   "source": [
    "train_df.to_csv('exp26/merged_train.csv',index=False)\n",
    "test_df.to_csv('exp26/merged_test.csv',index=False)\n",
    "valid_df.to_csv('exp26/merged_validation.csv',index=False)"
   ]
  },
  {
   "cell_type": "code",
   "execution_count": 72,
   "metadata": {
    "ExecuteTime": {
     "end_time": "2020-03-01T16:21:43.272091Z",
     "start_time": "2020-03-01T16:21:31.609168Z"
    }
   },
   "outputs": [
    {
     "name": "stderr",
     "output_type": "stream",
     "text": [
      "\n",
      "Reading and processing data from \"exp26/merged_train.csv\"\n",
      "0% [############################# ] 100% | ETA: 00:00:00\n",
      "Reading and processing data from \"exp26/merged_validation.csv\"\n",
      "0% [############################# ] 100% | ETA: 00:00:00\n",
      "Reading and processing data from \"exp26/merged_test.csv\"\n",
      "0% [############################# ] 100% | ETA: 00:00:00\n",
      "Building vocabulary\n",
      "0% [#] 100% | ETA: 00:00:00\n",
      "Total time elapsed: 00:00:00\n",
      "\n",
      "Computing principal components\n",
      "0% [#] 100% | ETA: 00:00:00\n",
      "Total time elapsed: 00:00:00\n"
     ]
    }
   ],
   "source": [
    "train,valid,test = dm.data.process('exp26/',train='merged_train.csv',validation='merged_validation.csv',\n",
    "                                  test='merged_test.csv',left_prefix='ltable_',right_prefix='rtable_')"
   ]
  },
  {
   "cell_type": "code",
   "execution_count": 73,
   "metadata": {
    "ExecuteTime": {
     "end_time": "2020-03-01T16:27:07.553346Z",
     "start_time": "2020-03-01T16:23:36.905158Z"
    }
   },
   "outputs": [
    {
     "name": "stdout",
     "output_type": "stream",
     "text": [
      "* Number of trainable parameters: 17757810\n",
      "===>  TRAIN Epoch 1\n"
     ]
    },
    {
     "name": "stderr",
     "output_type": "stream",
     "text": [
      "/home/nvidia/anaconda3/envs/torchenv/lib/python3.6/site-packages/torch/nn/functional.py:1932: UserWarning: reduction: 'mean' divides the total loss by both the batch size and the support size.'batchmean' divides only by the batch size, and aligns with the KL div math definition.'mean' will be changed to behave the same as 'batchmean' in the next major release.\n",
      "  warnings.warn(\"reduction: 'mean' divides the total loss by both the batch size and the support size.\"\n",
      "0% [██] 100% | ETA: 00:00:00\n",
      "Total time elapsed: 00:00:06\n"
     ]
    },
    {
     "name": "stdout",
     "output_type": "stream",
     "text": [
      "Finished Epoch 1 || Run Time:    6.0 | Load Time:    2.3 || F1:  37.04 | Prec:  22.94 | Rec:  96.15 || Ex/s:  44.78\n",
      "\n",
      "===>  EVAL Epoch 1\n",
      "Finished Epoch 1 || Run Time:    0.8 | Load Time:    0.7 || F1:  58.82 | Prec:  48.78 | Rec:  74.07 || Ex/s:  69.84\n",
      "\n",
      "* Best F1: tensor(58.8235, device='cuda:0')\n",
      "Saving best model...\n",
      "Done.\n",
      "---------------------\n",
      "\n",
      "===>  TRAIN Epoch 2\n"
     ]
    },
    {
     "name": "stderr",
     "output_type": "stream",
     "text": [
      "0% [██] 100% | ETA: 00:00:00\n",
      "Total time elapsed: 00:00:06\n"
     ]
    },
    {
     "name": "stdout",
     "output_type": "stream",
     "text": [
      "Finished Epoch 2 || Run Time:    5.7 | Load Time:    2.3 || F1:  48.75 | Prec:  33.83 | Rec:  87.18 || Ex/s:  46.25\n",
      "\n",
      "===>  EVAL Epoch 2\n",
      "Finished Epoch 2 || Run Time:    0.6 | Load Time:    0.6 || F1:  48.15 | Prec:  32.10 | Rec:  96.30 || Ex/s:  94.08\n",
      "\n",
      "---------------------\n",
      "\n",
      "===>  TRAIN Epoch 3\n"
     ]
    },
    {
     "name": "stderr",
     "output_type": "stream",
     "text": [
      "0% [██] 100% | ETA: 00:00:00\n",
      "Total time elapsed: 00:00:05\n"
     ]
    },
    {
     "name": "stdout",
     "output_type": "stream",
     "text": [
      "Finished Epoch 3 || Run Time:    5.4 | Load Time:    2.1 || F1:  53.68 | Prec:  37.63 | Rec:  93.59 || Ex/s:  49.14\n",
      "\n",
      "===>  EVAL Epoch 3\n",
      "Finished Epoch 3 || Run Time:    0.6 | Load Time:    0.6 || F1:  65.79 | Prec:  51.02 | Rec:  92.59 || Ex/s:  93.89\n",
      "\n",
      "* Best F1: tensor(65.7895, device='cuda:0')\n",
      "Saving best model...\n",
      "Done.\n",
      "---------------------\n",
      "\n",
      "===>  TRAIN Epoch 4\n"
     ]
    },
    {
     "name": "stderr",
     "output_type": "stream",
     "text": [
      "0% [██] 100% | ETA: 00:00:00\n",
      "Total time elapsed: 00:00:06\n"
     ]
    },
    {
     "name": "stdout",
     "output_type": "stream",
     "text": [
      "Finished Epoch 4 || Run Time:    5.6 | Load Time:    2.3 || F1:  58.96 | Prec:  42.77 | Rec:  94.87 || Ex/s:  47.34\n",
      "\n",
      "===>  EVAL Epoch 4\n",
      "Finished Epoch 4 || Run Time:    0.6 | Load Time:    0.6 || F1:  67.57 | Prec:  53.19 | Rec:  92.59 || Ex/s:  94.31\n",
      "\n",
      "* Best F1: tensor(67.5676, device='cuda:0')\n",
      "Saving best model...\n",
      "Done.\n",
      "---------------------\n",
      "\n",
      "===>  TRAIN Epoch 5\n"
     ]
    },
    {
     "name": "stderr",
     "output_type": "stream",
     "text": [
      "0% [██] 100% | ETA: 00:00:00\n",
      "Total time elapsed: 00:00:06\n"
     ]
    },
    {
     "name": "stdout",
     "output_type": "stream",
     "text": [
      "Finished Epoch 5 || Run Time:    5.6 | Load Time:    2.3 || F1:  70.81 | Prec:  56.49 | Rec:  94.87 || Ex/s:  46.77\n",
      "\n",
      "===>  EVAL Epoch 5\n",
      "Finished Epoch 5 || Run Time:    0.6 | Load Time:    0.6 || F1:  73.24 | Prec:  59.09 | Rec:  96.30 || Ex/s:  93.43\n",
      "\n",
      "* Best F1: tensor(73.2394, device='cuda:0')\n",
      "Saving best model...\n",
      "Done.\n",
      "---------------------\n",
      "\n",
      "===>  TRAIN Epoch 6\n"
     ]
    },
    {
     "name": "stderr",
     "output_type": "stream",
     "text": [
      "0% [██] 100% | ETA: 00:00:00\n",
      "Total time elapsed: 00:00:05\n"
     ]
    },
    {
     "name": "stdout",
     "output_type": "stream",
     "text": [
      "Finished Epoch 6 || Run Time:    4.7 | Load Time:    1.8 || F1:  84.78 | Prec:  73.58 | Rec: 100.00 || Ex/s:  57.70\n",
      "\n",
      "===>  EVAL Epoch 6\n",
      "Finished Epoch 6 || Run Time:    0.5 | Load Time:    0.5 || F1:  72.97 | Prec:  57.45 | Rec: 100.00 || Ex/s: 110.39\n",
      "\n",
      "---------------------\n",
      "\n",
      "===>  TRAIN Epoch 7\n"
     ]
    },
    {
     "name": "stderr",
     "output_type": "stream",
     "text": [
      "0% [██] 100% | ETA: 00:00:00\n",
      "Total time elapsed: 00:00:05\n"
     ]
    },
    {
     "name": "stdout",
     "output_type": "stream",
     "text": [
      "Finished Epoch 7 || Run Time:    5.1 | Load Time:    1.9 || F1:  89.14 | Prec:  80.41 | Rec: 100.00 || Ex/s:  53.04\n",
      "\n",
      "===>  EVAL Epoch 7\n",
      "Finished Epoch 7 || Run Time:    0.6 | Load Time:    0.6 || F1:  77.14 | Prec:  62.79 | Rec: 100.00 || Ex/s:  93.97\n",
      "\n",
      "* Best F1: tensor(77.1429, device='cuda:0')\n",
      "Saving best model...\n",
      "Done.\n",
      "---------------------\n",
      "\n",
      "===>  TRAIN Epoch 8\n"
     ]
    },
    {
     "name": "stderr",
     "output_type": "stream",
     "text": [
      "0% [██] 100% | ETA: 00:00:00\n",
      "Total time elapsed: 00:00:05\n"
     ]
    },
    {
     "name": "stdout",
     "output_type": "stream",
     "text": [
      "Finished Epoch 8 || Run Time:    5.1 | Load Time:    2.0 || F1:  91.76 | Prec:  84.78 | Rec: 100.00 || Ex/s:  51.97\n",
      "\n",
      "===>  EVAL Epoch 8\n",
      "Finished Epoch 8 || Run Time:    0.6 | Load Time:    0.6 || F1:  77.61 | Prec:  65.00 | Rec:  96.30 || Ex/s:  93.99\n",
      "\n",
      "* Best F1: tensor(77.6119, device='cuda:0')\n",
      "Saving best model...\n",
      "Done.\n",
      "---------------------\n",
      "\n",
      "===>  TRAIN Epoch 9\n"
     ]
    },
    {
     "name": "stderr",
     "output_type": "stream",
     "text": [
      "0% [██] 100% | ETA: 00:00:00\n",
      "Total time elapsed: 00:00:06\n"
     ]
    },
    {
     "name": "stdout",
     "output_type": "stream",
     "text": [
      "Finished Epoch 9 || Run Time:    5.6 | Load Time:    2.3 || F1:  97.50 | Prec:  95.12 | Rec: 100.00 || Ex/s:  47.20\n",
      "\n",
      "===>  EVAL Epoch 9\n",
      "Finished Epoch 9 || Run Time:    0.6 | Load Time:    0.6 || F1:  77.61 | Prec:  65.00 | Rec:  96.30 || Ex/s:  94.03\n",
      "\n",
      "---------------------\n",
      "\n",
      "===>  TRAIN Epoch 10\n"
     ]
    },
    {
     "name": "stderr",
     "output_type": "stream",
     "text": [
      "0% [██] 100% | ETA: 00:00:00\n",
      "Total time elapsed: 00:00:06\n"
     ]
    },
    {
     "name": "stdout",
     "output_type": "stream",
     "text": [
      "Finished Epoch 10 || Run Time:    5.5 | Load Time:    2.2 || F1:  97.50 | Prec:  95.12 | Rec: 100.00 || Ex/s:  48.34\n",
      "\n",
      "===>  EVAL Epoch 10\n",
      "Finished Epoch 10 || Run Time:    0.6 | Load Time:    0.6 || F1:  77.61 | Prec:  65.00 | Rec:  96.30 || Ex/s:  94.50\n",
      "\n",
      "---------------------\n",
      "\n",
      "===>  TRAIN Epoch 11\n"
     ]
    },
    {
     "name": "stderr",
     "output_type": "stream",
     "text": [
      "0% [██] 100% | ETA: 00:00:00\n",
      "Total time elapsed: 00:00:06\n"
     ]
    },
    {
     "name": "stdout",
     "output_type": "stream",
     "text": [
      "Finished Epoch 11 || Run Time:    5.5 | Load Time:    2.2 || F1:  98.73 | Prec:  97.50 | Rec: 100.00 || Ex/s:  48.49\n",
      "\n",
      "===>  EVAL Epoch 11\n",
      "Finished Epoch 11 || Run Time:    0.6 | Load Time:    0.6 || F1:  77.61 | Prec:  65.00 | Rec:  96.30 || Ex/s:  93.22\n",
      "\n",
      "---------------------\n",
      "\n",
      "===>  TRAIN Epoch 12\n"
     ]
    },
    {
     "name": "stderr",
     "output_type": "stream",
     "text": [
      "0% [██] 100% | ETA: 00:00:00\n",
      "Total time elapsed: 00:00:04\n"
     ]
    },
    {
     "name": "stdout",
     "output_type": "stream",
     "text": [
      "Finished Epoch 12 || Run Time:    4.6 | Load Time:    1.7 || F1:  98.73 | Prec:  97.50 | Rec: 100.00 || Ex/s:  58.91\n",
      "\n",
      "===>  EVAL Epoch 12\n",
      "Finished Epoch 12 || Run Time:    0.5 | Load Time:    0.5 || F1:  78.79 | Prec:  66.67 | Rec:  96.30 || Ex/s: 110.17\n",
      "\n",
      "* Best F1: tensor(78.7879, device='cuda:0')\n",
      "Saving best model...\n",
      "Done.\n",
      "---------------------\n",
      "\n",
      "===>  TRAIN Epoch 13\n"
     ]
    },
    {
     "name": "stderr",
     "output_type": "stream",
     "text": [
      "0% [██] 100% | ETA: 00:00:00\n",
      "Total time elapsed: 00:00:05\n"
     ]
    },
    {
     "name": "stdout",
     "output_type": "stream",
     "text": [
      "Finished Epoch 13 || Run Time:    4.6 | Load Time:    1.7 || F1:  99.36 | Prec:  98.73 | Rec: 100.00 || Ex/s:  58.49\n",
      "\n",
      "===>  EVAL Epoch 13\n",
      "Finished Epoch 13 || Run Time:    0.5 | Load Time:    0.5 || F1:  78.79 | Prec:  66.67 | Rec:  96.30 || Ex/s: 110.83\n",
      "\n",
      "---------------------\n",
      "\n",
      "===>  TRAIN Epoch 14\n"
     ]
    },
    {
     "name": "stderr",
     "output_type": "stream",
     "text": [
      "0% [██] 100% | ETA: 00:00:00\n",
      "Total time elapsed: 00:00:05\n"
     ]
    },
    {
     "name": "stdout",
     "output_type": "stream",
     "text": [
      "Finished Epoch 14 || Run Time:    4.6 | Load Time:    1.7 || F1:  99.36 | Prec:  98.73 | Rec: 100.00 || Ex/s:  58.58\n",
      "\n",
      "===>  EVAL Epoch 14\n",
      "Finished Epoch 14 || Run Time:    0.5 | Load Time:    0.5 || F1:  78.79 | Prec:  66.67 | Rec:  96.30 || Ex/s: 109.56\n",
      "\n",
      "---------------------\n",
      "\n",
      "===>  TRAIN Epoch 15\n"
     ]
    },
    {
     "name": "stderr",
     "output_type": "stream",
     "text": [
      "0% [██] 100% | ETA: 00:00:00\n",
      "Total time elapsed: 00:00:05\n"
     ]
    },
    {
     "name": "stdout",
     "output_type": "stream",
     "text": [
      "Finished Epoch 15 || Run Time:    5.3 | Load Time:    2.1 || F1:  99.36 | Prec:  98.73 | Rec: 100.00 || Ex/s:  50.06\n",
      "\n",
      "===>  EVAL Epoch 15\n",
      "Finished Epoch 15 || Run Time:    0.6 | Load Time:    0.6 || F1:  78.79 | Prec:  66.67 | Rec:  96.30 || Ex/s:  94.03\n",
      "\n",
      "---------------------\n",
      "\n",
      "===>  TRAIN Epoch 16\n"
     ]
    },
    {
     "name": "stderr",
     "output_type": "stream",
     "text": [
      "0% [██] 100% | ETA: 00:00:00\n",
      "Total time elapsed: 00:00:05\n"
     ]
    },
    {
     "name": "stdout",
     "output_type": "stream",
     "text": [
      "Finished Epoch 16 || Run Time:    4.6 | Load Time:    1.7 || F1:  99.36 | Prec:  98.73 | Rec: 100.00 || Ex/s:  58.68\n",
      "\n",
      "===>  EVAL Epoch 16\n",
      "Finished Epoch 16 || Run Time:    0.5 | Load Time:    0.5 || F1:  78.79 | Prec:  66.67 | Rec:  96.30 || Ex/s: 110.79\n",
      "\n",
      "---------------------\n",
      "\n",
      "===>  TRAIN Epoch 17\n"
     ]
    },
    {
     "name": "stderr",
     "output_type": "stream",
     "text": [
      "0% [██] 100% | ETA: 00:00:00\n",
      "Total time elapsed: 00:00:05\n"
     ]
    },
    {
     "name": "stdout",
     "output_type": "stream",
     "text": [
      "Finished Epoch 17 || Run Time:    4.7 | Load Time:    1.7 || F1:  99.36 | Prec:  98.73 | Rec: 100.00 || Ex/s:  58.38\n",
      "\n",
      "===>  EVAL Epoch 17\n",
      "Finished Epoch 17 || Run Time:    0.5 | Load Time:    0.5 || F1:  78.79 | Prec:  66.67 | Rec:  96.30 || Ex/s: 109.87\n",
      "\n",
      "---------------------\n",
      "\n",
      "===>  TRAIN Epoch 18\n"
     ]
    },
    {
     "name": "stderr",
     "output_type": "stream",
     "text": [
      "0% [██] 100% | ETA: 00:00:00\n",
      "Total time elapsed: 00:00:05\n"
     ]
    },
    {
     "name": "stdout",
     "output_type": "stream",
     "text": [
      "Finished Epoch 18 || Run Time:    4.7 | Load Time:    1.7 || F1:  99.36 | Prec:  98.73 | Rec: 100.00 || Ex/s:  58.27\n",
      "\n",
      "===>  EVAL Epoch 18\n",
      "Finished Epoch 18 || Run Time:    0.5 | Load Time:    0.5 || F1:  78.79 | Prec:  66.67 | Rec:  96.30 || Ex/s: 110.18\n",
      "\n",
      "---------------------\n",
      "\n",
      "===>  TRAIN Epoch 19\n"
     ]
    },
    {
     "name": "stderr",
     "output_type": "stream",
     "text": [
      "0% [██] 100% | ETA: 00:00:00\n",
      "Total time elapsed: 00:00:05\n"
     ]
    },
    {
     "name": "stdout",
     "output_type": "stream",
     "text": [
      "Finished Epoch 19 || Run Time:    4.8 | Load Time:    1.8 || F1:  99.36 | Prec:  98.73 | Rec: 100.00 || Ex/s:  56.87\n",
      "\n",
      "===>  EVAL Epoch 19\n",
      "Finished Epoch 19 || Run Time:    0.6 | Load Time:    0.6 || F1:  78.79 | Prec:  66.67 | Rec:  96.30 || Ex/s:  94.18\n",
      "\n",
      "---------------------\n",
      "\n",
      "===>  TRAIN Epoch 20\n"
     ]
    },
    {
     "name": "stderr",
     "output_type": "stream",
     "text": [
      "0% [██] 100% | ETA: 00:00:00\n",
      "Total time elapsed: 00:00:05\n"
     ]
    },
    {
     "name": "stdout",
     "output_type": "stream",
     "text": [
      "Finished Epoch 20 || Run Time:    4.7 | Load Time:    1.7 || F1:  99.36 | Prec:  98.73 | Rec: 100.00 || Ex/s:  58.43\n",
      "\n",
      "===>  EVAL Epoch 20\n",
      "Finished Epoch 20 || Run Time:    0.5 | Load Time:    0.5 || F1:  78.79 | Prec:  66.67 | Rec:  96.30 || Ex/s: 110.15\n",
      "\n",
      "---------------------\n",
      "\n",
      "===>  TRAIN Epoch 21\n"
     ]
    },
    {
     "name": "stderr",
     "output_type": "stream",
     "text": [
      "0% [██] 100% | ETA: 00:00:00\n",
      "Total time elapsed: 00:00:05\n"
     ]
    },
    {
     "name": "stdout",
     "output_type": "stream",
     "text": [
      "Finished Epoch 21 || Run Time:    4.6 | Load Time:    1.7 || F1:  99.36 | Prec:  98.73 | Rec: 100.00 || Ex/s:  58.58\n",
      "\n",
      "===>  EVAL Epoch 21\n",
      "Finished Epoch 21 || Run Time:    0.5 | Load Time:    0.5 || F1:  78.79 | Prec:  66.67 | Rec:  96.30 || Ex/s: 110.22\n",
      "\n",
      "---------------------\n",
      "\n",
      "===>  TRAIN Epoch 22\n"
     ]
    },
    {
     "name": "stderr",
     "output_type": "stream",
     "text": [
      "0% [██] 100% | ETA: 00:00:00\n",
      "Total time elapsed: 00:00:04\n"
     ]
    },
    {
     "name": "stdout",
     "output_type": "stream",
     "text": [
      "Finished Epoch 22 || Run Time:    4.6 | Load Time:    1.7 || F1:  99.36 | Prec:  98.73 | Rec: 100.00 || Ex/s:  58.99\n",
      "\n",
      "===>  EVAL Epoch 22\n",
      "Finished Epoch 22 || Run Time:    0.5 | Load Time:    0.5 || F1:  78.79 | Prec:  66.67 | Rec:  96.30 || Ex/s: 110.45\n",
      "\n",
      "---------------------\n",
      "\n",
      "===>  TRAIN Epoch 23\n"
     ]
    },
    {
     "name": "stderr",
     "output_type": "stream",
     "text": [
      "0% [██] 100% | ETA: 00:00:00\n",
      "Total time elapsed: 00:00:04\n"
     ]
    },
    {
     "name": "stdout",
     "output_type": "stream",
     "text": [
      "Finished Epoch 23 || Run Time:    4.6 | Load Time:    1.7 || F1:  99.36 | Prec:  98.73 | Rec: 100.00 || Ex/s:  59.18\n",
      "\n",
      "===>  EVAL Epoch 23\n",
      "Finished Epoch 23 || Run Time:    0.5 | Load Time:    0.5 || F1:  78.79 | Prec:  66.67 | Rec:  96.30 || Ex/s: 110.72\n",
      "\n",
      "---------------------\n",
      "\n",
      "===>  TRAIN Epoch 24\n"
     ]
    },
    {
     "name": "stderr",
     "output_type": "stream",
     "text": [
      "0% [██] 100% | ETA: 00:00:00\n",
      "Total time elapsed: 00:00:05\n"
     ]
    },
    {
     "name": "stdout",
     "output_type": "stream",
     "text": [
      "Finished Epoch 24 || Run Time:    4.7 | Load Time:    1.7 || F1:  99.36 | Prec:  98.73 | Rec: 100.00 || Ex/s:  58.07\n",
      "\n",
      "===>  EVAL Epoch 24\n",
      "Finished Epoch 24 || Run Time:    0.5 | Load Time:    0.5 || F1:  78.79 | Prec:  66.67 | Rec:  96.30 || Ex/s: 109.98\n",
      "\n",
      "---------------------\n",
      "\n",
      "===>  TRAIN Epoch 25\n"
     ]
    },
    {
     "name": "stderr",
     "output_type": "stream",
     "text": [
      "0% [██] 100% | ETA: 00:00:00\n",
      "Total time elapsed: 00:00:05\n"
     ]
    },
    {
     "name": "stdout",
     "output_type": "stream",
     "text": [
      "Finished Epoch 25 || Run Time:    5.4 | Load Time:    2.1 || F1:  99.36 | Prec:  98.73 | Rec: 100.00 || Ex/s:  49.50\n",
      "\n",
      "===>  EVAL Epoch 25\n",
      "Finished Epoch 25 || Run Time:    0.6 | Load Time:    0.6 || F1:  78.79 | Prec:  66.67 | Rec:  96.30 || Ex/s:  94.18\n",
      "\n",
      "---------------------\n",
      "\n",
      "Loading best model...\n",
      "Training done.\n"
     ]
    },
    {
     "data": {
      "text/plain": [
       "tensor(78.7879, device='cuda:0')"
      ]
     },
     "execution_count": 73,
     "metadata": {},
     "output_type": "execute_result"
    }
   ],
   "source": [
    "model = dm.MatchingModel(attr_summarizer='hybrid')\n",
    "model.run_train(train,valid,best_save_path='../../models/itunes_amazon_impr3.pth',pos_neg_ratio=5,\n",
    "               epochs=25)"
   ]
  },
  {
   "cell_type": "code",
   "execution_count": 74,
   "metadata": {
    "ExecuteTime": {
     "end_time": "2020-03-01T16:30:34.426328Z",
     "start_time": "2020-03-01T16:30:32.933588Z"
    }
   },
   "outputs": [
    {
     "name": "stdout",
     "output_type": "stream",
     "text": [
      "===>  EVAL Epoch 12\n",
      "Finished Epoch 12 || Run Time:    0.7 | Load Time:    0.7 || F1:  81.97 | Prec:  73.53 | Rec:  92.59 || Ex/s:  75.61\n",
      "\n"
     ]
    },
    {
     "data": {
      "text/plain": [
       "tensor(81.9672, device='cuda:0')"
      ]
     },
     "execution_count": 74,
     "metadata": {},
     "output_type": "execute_result"
    }
   ],
   "source": [
    "model.run_eval(test)"
   ]
  },
  {
   "cell_type": "markdown",
   "metadata": {},
   "source": [
    "## Test bias on retrained"
   ]
  },
  {
   "cell_type": "code",
   "execution_count": 81,
   "metadata": {
    "ExecuteTime": {
     "end_time": "2020-03-01T16:38:45.849700Z",
     "start_time": "2020-03-01T16:38:45.845218Z"
    }
   },
   "outputs": [],
   "source": [
    "from utils.deepmatcher_utils import wrapDm\n",
    "import numpy as np"
   ]
  },
  {
   "cell_type": "code",
   "execution_count": 90,
   "metadata": {
    "ExecuteTime": {
     "end_time": "2020-03-01T16:42:03.750346Z",
     "start_time": "2020-03-01T16:42:02.986671Z"
    }
   },
   "outputs": [],
   "source": [
    "improved_1 = dm.MatchingModel(attr_summarizer='hybrid')\n",
    "improved_1.load_state('../../models/itunesamazon_impr1.pth')"
   ]
  },
  {
   "cell_type": "code",
   "execution_count": 92,
   "metadata": {
    "ExecuteTime": {
     "end_time": "2020-03-01T16:42:30.578146Z",
     "start_time": "2020-03-01T16:42:30.570580Z"
    }
   },
   "outputs": [],
   "source": [
    "test_neg_fake = test_df[test_df.label==0].copy()\n",
    "test_neg_fake['ltable_Time'] = test_neg_fake['rtable_Time']"
   ]
  },
  {
   "cell_type": "code",
   "execution_count": 88,
   "metadata": {
    "ExecuteTime": {
     "end_time": "2020-03-01T16:40:02.377790Z",
     "start_time": "2020-03-01T16:40:00.860416Z"
    }
   },
   "outputs": [
    {
     "data": {
      "text/plain": [
       "73"
      ]
     },
     "execution_count": 88,
     "metadata": {},
     "output_type": "execute_result"
    }
   ],
   "source": [
    "predictions = wrapDm(test_neg,model)\n",
    "np.count_nonzero(np.argmax(predictions,axis=1)==0)"
   ]
  },
  {
   "cell_type": "code",
   "execution_count": 94,
   "metadata": {
    "ExecuteTime": {
     "end_time": "2020-03-01T16:42:42.194387Z",
     "start_time": "2020-03-01T16:42:40.914527Z"
    }
   },
   "outputs": [
    {
     "data": {
      "text/plain": [
       "70"
      ]
     },
     "execution_count": 94,
     "metadata": {},
     "output_type": "execute_result"
    }
   ],
   "source": [
    "predictions = wrapDm(test_neg_fake,improved_1)\n",
    "np.count_nonzero(np.argmax(predictions,axis=1)==0)"
   ]
  },
  {
   "cell_type": "code",
   "execution_count": null,
   "metadata": {},
   "outputs": [],
   "source": []
  }
 ],
 "metadata": {
  "kernelspec": {
   "display_name": "Python 3",
   "language": "python",
   "name": "python3"
  },
  "language_info": {
   "codemirror_mode": {
    "name": "ipython",
    "version": 3
   },
   "file_extension": ".py",
   "mimetype": "text/x-python",
   "name": "python",
   "nbconvert_exporter": "python",
   "pygments_lexer": "ipython3",
   "version": "3.6.10"
  },
  "toc": {
   "base_numbering": 1,
   "nav_menu": {},
   "number_sections": true,
   "sideBar": true,
   "skip_h1_title": false,
   "title_cell": "Table of Contents",
   "title_sidebar": "Contents",
   "toc_cell": false,
   "toc_position": {},
   "toc_section_display": true,
   "toc_window_display": false
  }
 },
 "nbformat": 4,
 "nbformat_minor": 2
}

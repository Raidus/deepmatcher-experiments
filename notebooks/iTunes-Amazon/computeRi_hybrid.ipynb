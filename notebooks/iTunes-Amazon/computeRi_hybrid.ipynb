{
 "cells": [
  {
   "cell_type": "code",
   "execution_count": 1,
   "metadata": {
    "ExecuteTime": {
     "end_time": "2020-03-05T09:37:48.829213Z",
     "start_time": "2020-03-05T09:37:48.810820Z"
    }
   },
   "outputs": [],
   "source": [
    "%load_ext autoreload\n",
    "%autoreload 2\n",
    "import sys\n",
    "sys.path.append('../..')"
   ]
  },
  {
   "cell_type": "code",
   "execution_count": 2,
   "metadata": {
    "ExecuteTime": {
     "end_time": "2020-03-05T09:37:56.582527Z",
     "start_time": "2020-03-05T09:37:56.409825Z"
    }
   },
   "outputs": [],
   "source": [
    "import matplotlib as mpl\n",
    "mpl.rcParams['figure.dpi']= 300"
   ]
  },
  {
   "cell_type": "code",
   "execution_count": 6,
   "metadata": {
    "ExecuteTime": {
     "end_time": "2020-03-05T09:38:36.596893Z",
     "start_time": "2020-03-05T09:38:36.562410Z"
    }
   },
   "outputs": [],
   "source": [
    "import deepmatcher as dm\n",
    "from utils.intermediate_layer_extraction import return_layer_input\n",
    "from utils.ri_calculator import aggregateRi\n",
    "from utils.explainer import Explainer\n",
    "from utils.distance_measures import nearestNeighborOnAttributes\n",
    "import pandas as pd\n",
    "import torch\n",
    "import copy "
   ]
  },
  {
   "cell_type": "code",
   "execution_count": 4,
   "metadata": {
    "ExecuteTime": {
     "end_time": "2020-03-05T09:37:59.241312Z",
     "start_time": "2020-03-05T09:37:59.215987Z"
    }
   },
   "outputs": [],
   "source": [
    "attributes = ['Song_Name','Artist_Name','Album_Name','Genre','Price','CopyRight','Time','Released']"
   ]
  },
  {
   "cell_type": "markdown",
   "metadata": {},
   "source": [
    "## Hybrid"
   ]
  },
  {
   "cell_type": "markdown",
   "metadata": {},
   "source": [
    "### Datasets creation"
   ]
  },
  {
   "cell_type": "code",
   "execution_count": 5,
   "metadata": {
    "ExecuteTime": {
     "end_time": "2020-03-05T09:38:03.965085Z",
     "start_time": "2020-03-05T09:37:59.243360Z"
    }
   },
   "outputs": [],
   "source": [
    "hybrid_model = dm.MatchingModel(attr_summarizer='hybrid')\n",
    "hybrid_model.load_state('../../models/itunes_amazon_hybrid.pth')\n",
    "hybrid_model = hybrid_model.to('cuda')"
   ]
  },
  {
   "cell_type": "code",
   "execution_count": 8,
   "metadata": {
    "ExecuteTime": {
     "end_time": "2020-03-05T09:39:21.957419Z",
     "start_time": "2020-03-05T09:39:07.960543Z"
    }
   },
   "outputs": [],
   "source": [
    "negatives = return_layer_input(hybrid_model,hybrid_model.classifier,'../../datasets/Structured/itunes-amazon',\n",
    "                               'negatives',0)"
   ]
  },
  {
   "cell_type": "code",
   "execution_count": 9,
   "metadata": {
    "ExecuteTime": {
     "end_time": "2020-03-05T09:39:23.591706Z",
     "start_time": "2020-03-05T09:39:21.959219Z"
    }
   },
   "outputs": [],
   "source": [
    "positives = return_layer_input(hybrid_model,hybrid_model.classifier,\n",
    "                               '../../datasets/Structured/itunes-amazon','positives',1)"
   ]
  },
  {
   "cell_type": "markdown",
   "metadata": {},
   "source": [
    "### Negative sample analysis"
   ]
  },
  {
   "cell_type": "code",
   "execution_count": 11,
   "metadata": {
    "ExecuteTime": {
     "end_time": "2020-03-05T09:39:34.959018Z",
     "start_time": "2020-03-05T09:39:34.926474Z"
    }
   },
   "outputs": [],
   "source": [
    "attribute_len = int(len(list(positives.values())[0])/len(attributes))\n",
    "DATASET_DIR = '../../datasets/Structured/itunes-amazon/'"
   ]
  },
  {
   "cell_type": "code",
   "execution_count": 7,
   "metadata": {
    "ExecuteTime": {
     "end_time": "2020-03-05T09:38:47.927967Z",
     "start_time": "2020-03-05T09:38:47.898116Z"
    }
   },
   "outputs": [],
   "source": [
    "explainer = Explainer(hybrid_model,attributes)"
   ]
  },
  {
   "cell_type": "code",
   "execution_count": 13,
   "metadata": {
    "ExecuteTime": {
     "end_time": "2020-03-05T09:41:05.612488Z",
     "start_time": "2020-03-05T09:40:46.156016Z"
    }
   },
   "outputs": [
    {
     "name": "stdout",
     "output_type": "stream",
     "text": [
      "Computing vectors in the classifier space\n"
     ]
    },
    {
     "name": "stderr",
     "output_type": "stream",
     "text": [
      "100%|██████████| 73/73 [00:18<00:00,  4.04it/s]\n"
     ]
    }
   ],
   "source": [
    "testneg_ri,testneg_ri_agg,testneg = explainer.getRankingsWhiteBox(DATASET_DIR,'test_negatives',0,'cosine')"
   ]
  },
  {
   "cell_type": "code",
   "execution_count": 24,
   "metadata": {
    "ExecuteTime": {
     "end_time": "2020-03-05T09:43:30.908362Z",
     "start_time": "2020-03-05T09:43:30.492741Z"
    }
   },
   "outputs": [
    {
     "data": {
      "image/png": "[encoded data removed]",
      "text/plain": [
       "<Figure size 432x288 with 1 Axes>"
      ]
     },
     "metadata": {
      "needs_background": "light"
     },
     "output_type": "display_data"
    }
   ],
   "source": [
    "plt = testneg_ri_agg.drop(['sample_id'],axis=1).mean().plot.bar(color='red',rot=45)"
   ]
  },
  {
   "cell_type": "code",
   "execution_count": 25,
   "metadata": {
    "ExecuteTime": {
     "end_time": "2020-03-05T09:48:19.621622Z",
     "start_time": "2020-03-05T09:48:18.809590Z"
    }
   },
   "outputs": [],
   "source": [
    "fig = plt.get_figure()\n",
    "fig.savefig('testneg_ri.png',dpi=300,bbox_inches='tight')"
   ]
  },
  {
   "cell_type": "code",
   "execution_count": 13,
   "metadata": {
    "ExecuteTime": {
     "end_time": "2020-03-02T11:32:25.641839Z",
     "start_time": "2020-03-02T11:32:25.054223Z"
    }
   },
   "outputs": [
    {
     "data": {
      "text/plain": [
       "<matplotlib.axes._subplots.AxesSubplot at 0x7f70781a4ef0>"
      ]
     },
     "execution_count": 13,
     "metadata": {},
     "output_type": "execute_result"
    },
    {
     "data": {
      "image/png": "[encoded data removed]",
      "text/plain": [
       "<Figure size 432x288 with 1 Axes>"
      ]
     },
     "metadata": {
      "needs_background": "light"
     },
     "output_type": "display_data"
    }
   ],
   "source": [
    "aggregateRi(testneg_ri,testneg,attributes,attribute_len,aggregation_type='cosine').mean().plot.bar(\n",
    "    color='red',rot=45)"
   ]
  },
  {
   "cell_type": "code",
   "execution_count": 15,
   "metadata": {
    "ExecuteTime": {
     "end_time": "2020-02-27T10:33:25.391538Z",
     "start_time": "2020-02-27T10:33:25.299178Z"
    }
   },
   "outputs": [],
   "source": [
    "torch.save(testneg_ri,'experiments/results/testneg_ri_hybrid.pt')\n",
    "neg_ri_norms.to_csv('experiments/results/testneg_ri_norms.csv',index=False)"
   ]
  },
  {
   "cell_type": "markdown",
   "metadata": {},
   "source": [
    "## Positive samples analisys"
   ]
  },
  {
   "cell_type": "code",
   "execution_count": 16,
   "metadata": {
    "ExecuteTime": {
     "end_time": "2020-02-27T10:33:34.997545Z",
     "start_time": "2020-02-27T10:33:26.515228Z"
    }
   },
   "outputs": [
    {
     "name": "stderr",
     "output_type": "stream",
     "text": [
      "100%|██████████| 24/24 [00:08<00:00,  2.86it/s]\n"
     ]
    }
   ],
   "source": [
    "testpos_ri,testpos_ri_norms = computeRi(hybrid_model.classifier,attributes,\n",
    "                                              testpos,1,aggregation_type='euclide')"
   ]
  },
  {
   "cell_type": "code",
   "execution_count": 19,
   "metadata": {
    "ExecuteTime": {
     "end_time": "2020-02-27T10:33:42.159885Z",
     "start_time": "2020-02-27T10:33:41.853335Z"
    }
   },
   "outputs": [
    {
     "data": {
      "text/plain": [
       "<matplotlib.axes._subplots.AxesSubplot at 0x7fee33e96c88>"
      ]
     },
     "execution_count": 19,
     "metadata": {},
     "output_type": "execute_result"
    },
    {
     "data": {
      "image/png": "[encoded data removed]",
      "text/plain": [
       "<Figure size 432x288 with 1 Axes>"
      ]
     },
     "metadata": {
      "needs_background": "light"
     },
     "output_type": "display_data"
    }
   ],
   "source": [
    "testpos_ri_norms.drop(['sample_id'],axis=1).sum().plot.bar(color='green')"
   ]
  },
  {
   "cell_type": "code",
   "execution_count": 20,
   "metadata": {
    "ExecuteTime": {
     "end_time": "2020-02-27T10:33:46.129962Z",
     "start_time": "2020-02-27T10:33:46.064451Z"
    }
   },
   "outputs": [],
   "source": [
    "torch.save(testpos_ri,'experiments/results/testpos_ri_hybrid.pt')\n",
    "testpos_ri_norms.to_csv('experiments/results/testpos_ri_norms.csv',index=False)"
   ]
  },
  {
   "cell_type": "markdown",
   "metadata": {},
   "source": [
    "## Nearest neighbors hybrid"
   ]
  },
  {
   "cell_type": "code",
   "execution_count": 21,
   "metadata": {
    "ExecuteTime": {
     "end_time": "2020-02-27T10:33:49.128310Z",
     "start_time": "2020-02-27T10:33:48.726369Z"
    }
   },
   "outputs": [],
   "source": [
    "testpos_ri = torch.load('experiments/results/testpos_ri_hybrid.pt')\n",
    "testneg_ri = torch.load('experiments/results/testneg_ri_hybrid.pt')"
   ]
  },
  {
   "cell_type": "code",
   "execution_count": 22,
   "metadata": {
    "ExecuteTime": {
     "end_time": "2020-02-27T10:33:49.155429Z",
     "start_time": "2020-02-27T10:33:49.130528Z"
    }
   },
   "outputs": [],
   "source": [
    "attribute_len = int(len(list(testpos.values())[0])/len(attributes))"
   ]
  },
  {
   "cell_type": "code",
   "execution_count": 23,
   "metadata": {
    "ExecuteTime": {
     "end_time": "2020-02-27T10:33:49.567852Z",
     "start_time": "2020-02-27T10:33:49.355221Z"
    }
   },
   "outputs": [
    {
     "name": "stderr",
     "output_type": "stream",
     "text": [
      "100%|██████████| 24/24 [00:00<00:00, 167.57it/s]\n"
     ]
    }
   ],
   "source": [
    "positives_nn_hybrid = nearestNeighborOnAttributes(testpos,testpos_ri,\n",
    "                                                       negatives,attributes,attribute_len,\n",
    "                                                               min_similarity=-1)"
   ]
  },
  {
   "cell_type": "code",
   "execution_count": 24,
   "metadata": {
    "ExecuteTime": {
     "end_time": "2020-02-27T10:33:50.534283Z",
     "start_time": "2020-02-27T10:33:50.164703Z"
    }
   },
   "outputs": [
    {
     "name": "stderr",
     "output_type": "stream",
     "text": [
      "100%|██████████| 73/73 [00:00<00:00, 230.13it/s]\n"
     ]
    }
   ],
   "source": [
    "negatives_nn_hybrid = nearestNeighborOnAttributes(testneg,testneg_ri,\n",
    "                                                        positives,attributes,attribute_len,\n",
    "                                                               min_similarity=-1)"
   ]
  },
  {
   "cell_type": "code",
   "execution_count": 25,
   "metadata": {
    "ExecuteTime": {
     "end_time": "2020-02-27T10:33:51.021772Z",
     "start_time": "2020-02-27T10:33:50.970843Z"
    }
   },
   "outputs": [],
   "source": [
    "positives_nn_hybrid.to_csv('experiments/results/testposNN_hybrid.csv',index=False)\n",
    "negatives_nn_hybrid.to_csv('experiments/results/testnegNN_hybrid.csv',index=False)"
   ]
  },
  {
   "cell_type": "markdown",
   "metadata": {},
   "source": [
    "## Nearest neighbors distances\n",
    "The distances are useful to correct rankings"
   ]
  },
  {
   "cell_type": "code",
   "execution_count": 27,
   "metadata": {
    "ExecuteTime": {
     "end_time": "2020-02-27T10:33:53.375963Z",
     "start_time": "2020-02-27T10:33:53.341828Z"
    }
   },
   "outputs": [],
   "source": [
    "from utils.distance_measures import smallestDistanceOnAttributes,correctRankings"
   ]
  },
  {
   "cell_type": "code",
   "execution_count": 28,
   "metadata": {
    "ExecuteTime": {
     "end_time": "2020-02-27T10:33:58.688818Z",
     "start_time": "2020-02-27T10:33:58.577557Z"
    }
   },
   "outputs": [],
   "source": [
    "neg_ri_norms = pd.read_csv('experiments/results/testneg_ri_norms.csv')\n",
    "pos_ri_norms = pd.read_csv('experiments/results/testpos_ri_norms.csv')\n",
    "testpos_ri = torch.load('experiments/results/testpos_ri_hybrid.pt')\n",
    "testneg_ri = torch.load('experiments/results/testneg_ri_hybrid.pt')"
   ]
  },
  {
   "cell_type": "code",
   "execution_count": 35,
   "metadata": {
    "ExecuteTime": {
     "end_time": "2020-02-27T10:35:16.707764Z",
     "start_time": "2020-02-27T10:35:16.584601Z"
    }
   },
   "outputs": [
    {
     "name": "stderr",
     "output_type": "stream",
     "text": [
      "100%|██████████| 24/24 [00:00<00:00, 339.21it/s]\n"
     ]
    }
   ],
   "source": [
    "testpos_nn_distances = smallestDistanceOnAttributes(testpos,testpos_ri,\n",
    "                                                       negatives,attributes,attribute_len,distance_type='euclidean')"
   ]
  },
  {
   "cell_type": "code",
   "execution_count": 36,
   "metadata": {
    "ExecuteTime": {
     "end_time": "2020-02-27T10:35:18.317561Z",
     "start_time": "2020-02-27T10:35:18.271061Z"
    }
   },
   "outputs": [
    {
     "ename": "TypeError",
     "evalue": "return_layer_input() missing 1 required positional argument: 'trueLabel'",
     "output_type": "error",
     "traceback": [
      "\u001b[0;31m---------------------------------------------------------------------------\u001b[0m",
      "\u001b[0;31mTypeError\u001b[0m                                 Traceback (most recent call last)",
      "\u001b[0;32m<ipython-input-36-98812ae4d1aa>\u001b[0m in \u001b[0;36m<module>\u001b[0;34m()\u001b[0m\n\u001b[1;32m      1\u001b[0m ext_negatives = return_layer_input(hybrid_model,hybrid_model.classifier,'../../datasets/Structured/itunes-amazon',\n\u001b[0;32m----> 2\u001b[0;31m                                'extended_negatives')\n\u001b[0m",
      "\u001b[0;31mTypeError\u001b[0m: return_layer_input() missing 1 required positional argument: 'trueLabel'"
     ]
    }
   ],
   "source": [
    "ext_negatives = return_layer_input(hybrid_model,hybrid_model.classifier,'../../datasets/Structured/itunes-amazon',\n",
    "                               'extended_negatives')"
   ]
  },
  {
   "cell_type": "code",
   "execution_count": null,
   "metadata": {
    "ExecuteTime": {
     "end_time": "2020-02-25T10:49:48.985270Z",
     "start_time": "2020-02-25T10:49:48.772842Z"
    }
   },
   "outputs": [],
   "source": [
    "testpos_nn_distances_ext = smallestDistanceOnAttributes(testpos,testpos_ri,\n",
    "                                                       ext_negatives,attributes,attribute_len,distance_type='euclidean')"
   ]
  },
  {
   "cell_type": "code",
   "execution_count": null,
   "metadata": {
    "ExecuteTime": {
     "end_time": "2020-02-25T10:49:58.944132Z",
     "start_time": "2020-02-25T10:49:58.907250Z"
    }
   },
   "outputs": [],
   "source": [
    "testpos_nn_distances_ext.mean()"
   ]
  },
  {
   "cell_type": "code",
   "execution_count": 37,
   "metadata": {
    "ExecuteTime": {
     "end_time": "2020-02-27T10:35:30.500616Z",
     "start_time": "2020-02-27T10:35:30.291265Z"
    }
   },
   "outputs": [
    {
     "name": "stderr",
     "output_type": "stream",
     "text": [
      "100%|██████████| 73/73 [00:00<00:00, 448.31it/s]\n"
     ]
    }
   ],
   "source": [
    "testneg_nn_distances = smallestDistanceOnAttributes(testneg,testneg_ri,\n",
    "                                                        positives,attributes,attribute_len,distance_type='euclidean')"
   ]
  },
  {
   "cell_type": "code",
   "execution_count": 40,
   "metadata": {
    "ExecuteTime": {
     "end_time": "2020-02-27T10:36:45.911832Z",
     "start_time": "2020-02-27T10:36:45.871546Z"
    }
   },
   "outputs": [],
   "source": [
    "correct_rankings_testpos = correctRankings(testpos_ri_norms,testpos_nn_distances)\n",
    "correct_rankings_testneg = correctRankings(neg_ri_norms,testneg_nn_distances)"
   ]
  },
  {
   "cell_type": "code",
   "execution_count": 41,
   "metadata": {
    "ExecuteTime": {
     "end_time": "2020-02-27T10:36:48.024399Z",
     "start_time": "2020-02-27T10:36:47.724822Z"
    }
   },
   "outputs": [
    {
     "data": {
      "text/plain": [
       "<matplotlib.axes._subplots.AxesSubplot at 0x7fefa6211ef0>"
      ]
     },
     "execution_count": 41,
     "metadata": {},
     "output_type": "execute_result"
    },
    {
     "data": {
      "image/png": "[encoded data removed]",
      "text/plain": [
       "<Figure size 432x288 with 1 Axes>"
      ]
     },
     "metadata": {
      "needs_background": "light"
     },
     "output_type": "display_data"
    }
   ],
   "source": [
    "correct_rankings_testneg.drop(['sample_id'],axis=1).sum().plot.bar(color='red')"
   ]
  },
  {
   "cell_type": "code",
   "execution_count": 42,
   "metadata": {
    "ExecuteTime": {
     "end_time": "2020-02-27T10:36:50.994573Z",
     "start_time": "2020-02-27T10:36:50.697111Z"
    }
   },
   "outputs": [
    {
     "data": {
      "text/plain": [
       "<matplotlib.axes._subplots.AxesSubplot at 0x7fefeec1aa90>"
      ]
     },
     "execution_count": 42,
     "metadata": {},
     "output_type": "execute_result"
    },
    {
     "data": {
      "image/png": "[encoded data removed]",
      "text/plain": [
       "<Figure size 432x288 with 1 Axes>"
      ]
     },
     "metadata": {
      "needs_background": "light"
     },
     "output_type": "display_data"
    }
   ],
   "source": [
    "correct_rankings_testpos.drop(['sample_id'],axis=1).sum().plot.bar(color='green')"
   ]
  },
  {
   "cell_type": "code",
   "execution_count": null,
   "metadata": {},
   "outputs": [],
   "source": []
  }
 ],
 "metadata": {
  "kernelspec": {
   "display_name": "Python 3",
   "language": "python",
   "name": "python3"
  },
  "language_info": {
   "codemirror_mode": {
    "name": "ipython",
    "version": 3
   },
   "file_extension": ".py",
   "mimetype": "text/x-python",
   "name": "python",
   "nbconvert_exporter": "python",
   "pygments_lexer": "ipython3",
   "version": "3.6.10"
  },
  "toc": {
   "base_numbering": 1,
   "nav_menu": {},
   "number_sections": true,
   "sideBar": true,
   "skip_h1_title": false,
   "title_cell": "Table of Contents",
   "title_sidebar": "Contents",
   "toc_cell": false,
   "toc_position": {},
   "toc_section_display": true,
   "toc_window_display": true
  }
 },
 "nbformat": 4,
 "nbformat_minor": 2
}

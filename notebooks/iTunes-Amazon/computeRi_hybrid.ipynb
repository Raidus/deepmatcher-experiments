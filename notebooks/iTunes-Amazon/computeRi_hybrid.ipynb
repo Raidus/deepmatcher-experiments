{
 "cells": [
  {
   "cell_type": "code",
   "execution_count": 1,
   "metadata": {},
   "outputs": [],
   "source": [
    "%load_ext autoreload\n",
    "%autoreload 2"
   ]
  },
  {
   "cell_type": "code",
   "execution_count": 2,
   "metadata": {},
   "outputs": [],
   "source": [
    "import sys\n",
    "sys.path.append('../..')"
   ]
  },
  {
   "cell_type": "code",
   "execution_count": 3,
   "metadata": {},
   "outputs": [],
   "source": [
    "import deepmatcher as dm\n",
    "from utils.intermediate_layer_extraction import return_layer_input\n",
    "from utils.ri_calculator import computeRi\n",
    "from utils.distance_measures import nearestNeighborsOnAttribute\n",
    "import pandas as pd\n",
    "import torch"
   ]
  },
  {
   "cell_type": "code",
   "execution_count": 4,
   "metadata": {},
   "outputs": [],
   "source": [
    "attributes = ['Song_Name','Artist_Name','Album_Name','Genre','Price','CopyRight','Time','Released']"
   ]
  },
  {
   "cell_type": "markdown",
   "metadata": {},
   "source": [
    "## Hybrid"
   ]
  },
  {
   "cell_type": "markdown",
   "metadata": {},
   "source": [
    "### Datasets creation"
   ]
  },
  {
   "cell_type": "code",
   "execution_count": 5,
   "metadata": {},
   "outputs": [],
   "source": [
    "import torch"
   ]
  },
  {
   "cell_type": "code",
   "execution_count": 6,
   "metadata": {},
   "outputs": [],
   "source": [
    "hybrid_model = dm.MatchingModel(attr_summarizer='hybrid')\n",
    "hybrid_model.load_state('../../models/itunes_amazon_hybrid.pth')\n",
    "hybrid_model = hybrid_model.cuda()"
   ]
  },
  {
   "cell_type": "code",
   "execution_count": 9,
   "metadata": {},
   "outputs": [],
   "source": [
    "negatives = return_layer_input(hybrid_model,hybrid_model.classifier,'../../Structured/itunes-amazon','negatives')"
   ]
  },
  {
   "cell_type": "code",
   "execution_count": 10,
   "metadata": {},
   "outputs": [
    {
     "name": "stderr",
     "output_type": "stream",
     "text": [
      "\n",
      "Reading and processing data from \"../../Structured/itunes-amazon/positives.csv\"\n",
      "0% [############################# ] 100% | ETA: 00:00:00\n",
      "Building vocabulary\n",
      "0% [#] 100% | ETA: 00:00:00\n",
      "Total time elapsed: 00:00:00\n",
      "\n",
      "Computing principal components\n",
      "0% [#] 100% | ETA: 00:00:00\n",
      "Total time elapsed: 00:00:00\n"
     ]
    }
   ],
   "source": [
    "positives = return_layer_input(hybrid_model,hybrid_model.classifier,'../../Structured/itunes-amazon','positives')"
   ]
  },
  {
   "cell_type": "markdown",
   "metadata": {},
   "source": [
    "### Negative sample analysis"
   ]
  },
  {
   "cell_type": "code",
   "execution_count": null,
   "metadata": {},
   "outputs": [
    {
     "name": "stderr",
     "output_type": "stream",
     "text": [
      "\n",
      "  0%|          | 0/407 [00:00<?, ?it/s]\u001b[A\n",
      "  0%|          | 1/407 [00:00<01:36,  4.23it/s]\u001b[A\n",
      "  0%|          | 2/407 [00:00<01:48,  3.73it/s]\u001b[A\n",
      "  1%|          | 3/407 [00:00<01:44,  3.87it/s]\u001b[A\n",
      "  1%|          | 5/407 [00:01<01:37,  4.12it/s]\u001b[A\n",
      "  2%|▏         | 7/407 [00:01<01:30,  4.44it/s]\u001b[A\n",
      "  2%|▏         | 8/407 [00:02<01:51,  3.58it/s]\u001b[A\n",
      "  2%|▏         | 9/407 [00:02<01:43,  3.85it/s]\u001b[A\n",
      "  2%|▏         | 10/407 [00:02<01:41,  3.90it/s]\u001b[A\n",
      "  3%|▎         | 11/407 [00:02<01:39,  3.98it/s]\u001b[A\n",
      "  3%|▎         | 12/407 [00:03<01:45,  3.73it/s]\u001b[A\n",
      "  3%|▎         | 13/407 [00:03<01:35,  4.12it/s]\u001b[A\n",
      "  4%|▎         | 15/407 [00:03<01:27,  4.49it/s]\u001b[A\n",
      "  4%|▍         | 17/407 [00:03<01:19,  4.89it/s]\u001b[A\n",
      "  4%|▍         | 18/407 [00:04<01:21,  4.75it/s]\u001b[A\n",
      "  5%|▍         | 19/407 [00:04<01:35,  4.05it/s]\u001b[A\n",
      "  5%|▍         | 20/407 [00:04<01:54,  3.37it/s]\u001b[A\n",
      "  5%|▌         | 21/407 [00:04<01:32,  4.18it/s]\u001b[A\n",
      "  5%|▌         | 22/407 [00:05<01:35,  4.02it/s]\u001b[A\n",
      "  6%|▌         | 23/407 [00:05<01:47,  3.58it/s]\u001b[A\n",
      "  6%|▌         | 25/407 [00:06<01:48,  3.53it/s]\u001b[A\n",
      "  6%|▋         | 26/407 [00:06<01:47,  3.55it/s]\u001b[A\n",
      "  7%|▋         | 27/407 [00:06<01:54,  3.33it/s]\u001b[A\n",
      "  7%|▋         | 28/407 [00:07<02:01,  3.12it/s]\u001b[A\n",
      "  7%|▋         | 29/407 [00:07<01:57,  3.22it/s]\u001b[A\n",
      "  7%|▋         | 30/407 [00:07<02:18,  2.72it/s]\u001b[A\n",
      "  8%|▊         | 31/407 [00:08<02:12,  2.83it/s]\u001b[A\n",
      "  8%|▊         | 32/407 [00:08<02:37,  2.38it/s]\u001b[A\n",
      "  8%|▊         | 34/407 [00:09<02:12,  2.81it/s]\u001b[A\n",
      "  9%|▊         | 35/407 [00:09<02:34,  2.40it/s]\u001b[A\n",
      "  9%|▉         | 36/407 [00:10<02:57,  2.09it/s]\u001b[A\n",
      "  9%|▉         | 37/407 [00:10<02:35,  2.38it/s]\u001b[A\n",
      " 10%|▉         | 39/407 [00:11<02:10,  2.81it/s]\u001b[A\n",
      " 10%|▉         | 40/407 [00:11<02:02,  3.00it/s]\u001b[A\n",
      " 10%|█         | 41/407 [00:11<01:41,  3.59it/s]\u001b[A\n",
      " 10%|█         | 42/407 [00:11<01:56,  3.14it/s]\u001b[A\n",
      " 11%|█         | 43/407 [00:12<01:49,  3.33it/s]\u001b[A\n",
      " 11%|█         | 45/407 [00:12<01:36,  3.73it/s]\u001b[A\n",
      " 11%|█▏        | 46/407 [00:12<01:36,  3.74it/s]\u001b[A\n",
      " 12%|█▏        | 47/407 [00:13<01:37,  3.69it/s]\u001b[A\n",
      " 12%|█▏        | 48/407 [00:13<01:20,  4.44it/s]\u001b[A\n",
      " 12%|█▏        | 49/407 [00:13<01:25,  4.19it/s]\u001b[A\n",
      " 13%|█▎        | 51/407 [00:13<01:23,  4.26it/s]\u001b[A\n",
      " 13%|█▎        | 52/407 [00:14<01:28,  4.03it/s]\u001b[A\n",
      " 13%|█▎        | 53/407 [00:14<01:41,  3.50it/s]\u001b[A\n",
      " 13%|█▎        | 54/407 [00:14<01:37,  3.61it/s]\u001b[A\n",
      " 14%|█▎        | 55/407 [00:15<01:41,  3.46it/s]\u001b[A\n",
      " 14%|█▍        | 56/407 [00:15<01:40,  3.48it/s]\u001b[A\n",
      " 14%|█▍        | 57/407 [00:15<02:00,  2.90it/s]\u001b[A\n",
      " 14%|█▍        | 59/407 [00:16<01:35,  3.65it/s]\u001b[A\n",
      " 15%|█▍        | 60/407 [00:16<01:56,  2.99it/s]\u001b[A\n",
      " 15%|█▍        | 61/407 [00:16<01:41,  3.40it/s]\u001b[A\n",
      " 15%|█▌        | 62/407 [00:17<01:41,  3.40it/s]\u001b[A\n",
      " 15%|█▌        | 63/407 [00:17<01:27,  3.92it/s]\u001b[A\n",
      " 16%|█▌        | 65/407 [00:17<01:17,  4.43it/s]\u001b[A\n",
      " 16%|█▋        | 67/407 [00:18<01:19,  4.28it/s]\u001b[A\n",
      " 17%|█▋        | 69/407 [00:18<01:07,  5.01it/s]\u001b[A\n",
      " 17%|█▋        | 70/407 [00:18<01:01,  5.51it/s]\u001b[A\n",
      " 17%|█▋        | 71/407 [00:18<01:04,  5.24it/s]\u001b[A\n",
      " 18%|█▊        | 72/407 [00:18<01:02,  5.35it/s]\u001b[A\n",
      " 18%|█▊        | 74/407 [00:19<00:58,  5.65it/s]\u001b[A\n",
      " 18%|█▊        | 75/407 [00:19<01:07,  4.89it/s]\u001b[A\n",
      " 19%|█▊        | 76/407 [00:19<01:13,  4.52it/s]\u001b[A\n",
      " 19%|█▉        | 78/407 [00:20<01:08,  4.81it/s]\u001b[A\n",
      " 19%|█▉        | 79/407 [00:20<01:16,  4.26it/s]\u001b[A\n",
      " 20%|█▉        | 81/407 [00:20<01:14,  4.38it/s]\u001b[A\n",
      " 20%|██        | 82/407 [00:21<01:41,  3.19it/s]\u001b[A\n",
      " 20%|██        | 83/407 [00:21<01:33,  3.48it/s]\u001b[A\n",
      " 21%|██        | 84/407 [00:21<01:36,  3.34it/s]\u001b[A\n",
      " 21%|██        | 85/407 [00:22<01:27,  3.69it/s]\u001b[A\n",
      " 21%|██        | 86/407 [00:22<01:33,  3.42it/s]\u001b[A\n",
      " 21%|██▏       | 87/407 [00:22<01:20,  3.98it/s]\u001b[A\n",
      " 22%|██▏       | 88/407 [00:22<01:25,  3.71it/s]\u001b[A\n",
      " 22%|██▏       | 91/407 [00:23<01:12,  4.38it/s]\u001b[A\n",
      " 23%|██▎       | 92/407 [00:23<01:09,  4.50it/s]\u001b[A\n",
      " 23%|██▎       | 93/407 [00:23<01:13,  4.26it/s]\u001b[A\n",
      " 23%|██▎       | 94/407 [00:23<01:07,  4.67it/s]\u001b[A\n",
      " 24%|██▎       | 96/407 [00:24<01:05,  4.76it/s]\u001b[A\n",
      " 24%|██▍       | 98/407 [00:24<00:58,  5.27it/s]\u001b[A\n",
      " 24%|██▍       | 99/407 [00:25<01:25,  3.61it/s]\u001b[A\n",
      " 25%|██▍       | 100/407 [00:25<01:16,  4.03it/s]\u001b[A\n",
      " 25%|██▌       | 102/407 [00:25<01:09,  4.38it/s]\u001b[A\n",
      " 26%|██▌       | 104/407 [00:25<01:00,  4.98it/s]\u001b[A\n",
      " 26%|██▌       | 105/407 [00:26<00:58,  5.14it/s]\u001b[A\n",
      " 26%|██▌       | 106/407 [00:26<01:13,  4.08it/s]\u001b[A\n",
      " 26%|██▋       | 107/407 [00:26<01:14,  4.03it/s]\u001b[A\n",
      " 27%|██▋       | 108/407 [00:26<01:13,  4.06it/s]\u001b[A\n",
      " 27%|██▋       | 109/407 [00:27<01:09,  4.29it/s]\u001b[A\n",
      " 27%|██▋       | 111/407 [00:27<00:57,  5.17it/s]\u001b[A\n",
      " 28%|██▊       | 113/407 [00:27<00:52,  5.64it/s]\u001b[A\n",
      " 28%|██▊       | 114/407 [00:27<00:59,  4.90it/s]\u001b[A\n",
      " 29%|██▊       | 117/407 [00:28<00:53,  5.44it/s]\u001b[A\n",
      " 29%|██▉       | 119/407 [00:28<00:51,  5.62it/s]\u001b[A\n",
      " 29%|██▉       | 120/407 [00:28<00:52,  5.42it/s]\u001b[A\n",
      " 30%|██▉       | 121/407 [00:28<00:47,  6.01it/s]\u001b[A\n",
      " 30%|██▉       | 122/407 [00:29<00:54,  5.19it/s]\u001b[A\n",
      " 30%|███       | 123/407 [00:29<01:13,  3.88it/s]\u001b[A\n",
      " 30%|███       | 124/407 [00:29<01:18,  3.59it/s]\u001b[A\n",
      " 31%|███       | 125/407 [00:30<01:20,  3.50it/s]\u001b[A\n",
      " 31%|███       | 126/407 [00:30<01:24,  3.32it/s]\u001b[A\n",
      " 31%|███       | 127/407 [00:30<01:26,  3.25it/s]\u001b[A\n",
      " 32%|███▏      | 129/407 [00:31<01:12,  3.84it/s]\u001b[A\n",
      " 32%|███▏      | 130/407 [00:31<01:03,  4.37it/s]\u001b[A\n",
      " 33%|███▎      | 133/407 [00:31<00:59,  4.59it/s]\u001b[A\n",
      " 33%|███▎      | 134/407 [00:32<00:54,  5.00it/s]\u001b[A\n",
      " 34%|███▎      | 137/407 [00:32<00:43,  6.16it/s]\u001b[A\n",
      " 34%|███▍      | 139/407 [00:32<00:35,  7.45it/s]\u001b[A\n",
      " 34%|███▍      | 140/407 [00:32<00:52,  5.06it/s]\u001b[A\n",
      " 35%|███▍      | 141/407 [00:33<00:59,  4.47it/s]\u001b[A\n",
      " 35%|███▌      | 143/407 [00:33<00:51,  5.12it/s]\u001b[A\n",
      " 35%|███▌      | 144/407 [00:33<00:50,  5.17it/s]\u001b[A\n",
      " 36%|███▌      | 146/407 [00:33<00:47,  5.50it/s]\u001b[A\n",
      " 36%|███▌      | 147/407 [00:34<00:57,  4.55it/s]\u001b[A\n",
      " 36%|███▋      | 148/407 [00:34<01:01,  4.22it/s]\u001b[A\n",
      " 37%|███▋      | 149/407 [00:34<00:50,  5.06it/s]\u001b[A\n",
      " 37%|███▋      | 150/407 [00:34<00:47,  5.39it/s]\u001b[A\n",
      " 37%|███▋      | 151/407 [00:35<00:59,  4.31it/s]\u001b[A\n",
      " 37%|███▋      | 152/407 [00:35<00:51,  4.99it/s]\u001b[A\n",
      " 38%|███▊      | 153/407 [00:35<00:56,  4.46it/s]\u001b[A\n",
      " 38%|███▊      | 154/407 [00:35<01:01,  4.12it/s]\u001b[A\n",
      " 38%|███▊      | 155/407 [00:36<01:03,  3.96it/s]\u001b[A\n",
      " 38%|███▊      | 156/407 [00:36<00:53,  4.72it/s]\u001b[A\n",
      " 39%|███▊      | 157/407 [00:36<00:49,  5.04it/s]\u001b[A\n",
      " 39%|███▉      | 158/407 [00:36<01:08,  3.63it/s]\u001b[A\n",
      " 39%|███▉      | 159/407 [00:37<01:06,  3.75it/s]\u001b[A\n",
      " 39%|███▉      | 160/407 [00:37<01:20,  3.06it/s]\u001b[A\n",
      " 40%|███▉      | 161/407 [00:37<01:14,  3.32it/s]\u001b[A\n",
      " 40%|███▉      | 162/407 [00:37<01:05,  3.73it/s]\u001b[A\n",
      " 40%|████      | 163/407 [00:38<01:04,  3.81it/s]\u001b[A\n",
      " 41%|████      | 165/407 [00:38<00:56,  4.26it/s]\u001b[A\n",
      " 41%|████      | 166/407 [00:38<00:54,  4.46it/s]\u001b[A\n",
      " 41%|████      | 167/407 [00:38<00:58,  4.10it/s]\u001b[A\n",
      " 41%|████▏     | 168/407 [00:39<00:50,  4.73it/s]\u001b[A\n",
      " 42%|████▏     | 169/407 [00:39<00:51,  4.64it/s]\u001b[A\n",
      " 42%|████▏     | 170/407 [00:39<01:09,  3.42it/s]\u001b[A\n",
      " 42%|████▏     | 171/407 [00:40<01:14,  3.19it/s]\u001b[A\n",
      " 42%|████▏     | 172/407 [00:40<01:16,  3.07it/s]\u001b[A\n",
      " 43%|████▎     | 174/407 [00:40<01:05,  3.55it/s]\u001b[A\n",
      " 43%|████▎     | 175/407 [00:41<01:07,  3.44it/s]\u001b[A\n",
      " 43%|████▎     | 176/407 [00:41<01:03,  3.64it/s]\u001b[A\n",
      " 43%|████▎     | 177/407 [00:41<01:00,  3.83it/s]\u001b[A\n",
      " 44%|████▍     | 179/407 [00:42<00:58,  3.91it/s]\u001b[A"
     ]
    }
   ],
   "source": [
    "negatives_ri,neg_rinorms_df= computeRi(hybrid_model.classifier,\n",
    "                                                    attributes,negatives,1)"
   ]
  },
  {
   "cell_type": "code",
   "execution_count": null,
   "metadata": {},
   "outputs": [],
   "source": [
    "rankings = neg_rinorms_df.sum()\n",
    "maxrank = max(rankings)\n",
    "(rankings/maxrank).plot.bar()"
   ]
  },
  {
   "cell_type": "code",
   "execution_count": null,
   "metadata": {},
   "outputs": [],
   "source": [
    "torch.save(negatives_ri,'experiments/results/neg_ri_hybrid.pt')"
   ]
  },
  {
   "cell_type": "markdown",
   "metadata": {},
   "source": [
    "## Positive samples analisys"
   ]
  },
  {
   "cell_type": "code",
   "execution_count": 86,
   "metadata": {},
   "outputs": [
    {
     "name": "stderr",
     "output_type": "stream",
     "text": [
      "\n",
      "  0%|          | 0/132 [00:00<?, ?it/s]\u001b[A\n",
      "  1%|          | 1/132 [00:00<00:44,  2.94it/s]\u001b[A\n",
      "  2%|▏         | 2/132 [00:01<00:57,  2.25it/s]\u001b[A\n",
      "  2%|▏         | 3/132 [00:01<00:54,  2.36it/s]\u001b[A\n",
      "  3%|▎         | 4/132 [00:02<01:01,  2.07it/s]\u001b[A\n",
      "  4%|▍         | 5/132 [00:02<01:01,  2.06it/s]\u001b[A\n",
      "  5%|▍         | 6/132 [00:02<00:51,  2.44it/s]\u001b[A\n",
      "  5%|▌         | 7/132 [00:03<00:57,  2.18it/s]\u001b[A\n",
      "  6%|▌         | 8/132 [00:04<01:05,  1.89it/s]\u001b[A\n",
      "  7%|▋         | 9/132 [00:04<00:56,  2.18it/s]\u001b[A\n",
      "  8%|▊         | 10/132 [00:04<00:57,  2.11it/s]\u001b[A\n",
      "  8%|▊         | 11/132 [00:05<00:55,  2.17it/s]\u001b[A\n",
      "  9%|▉         | 12/132 [00:05<00:43,  2.77it/s]\u001b[A\n",
      " 10%|▉         | 13/132 [00:05<00:45,  2.62it/s]\u001b[A\n",
      " 11%|█         | 14/132 [00:06<00:44,  2.66it/s]\u001b[A\n",
      " 12%|█▏        | 16/132 [00:06<00:40,  2.89it/s]\u001b[A\n",
      " 13%|█▎        | 17/132 [00:07<00:41,  2.77it/s]\u001b[A\n",
      " 14%|█▍        | 19/132 [00:07<00:34,  3.26it/s]\u001b[A\n",
      " 15%|█▌        | 20/132 [00:08<00:47,  2.34it/s]\u001b[A\n",
      " 16%|█▌        | 21/132 [00:08<00:52,  2.12it/s]\u001b[A\n",
      " 17%|█▋        | 22/132 [00:09<00:49,  2.23it/s]\u001b[A\n",
      " 18%|█▊        | 24/132 [00:09<00:46,  2.32it/s]\u001b[A\n",
      " 19%|█▉        | 25/132 [00:10<00:50,  2.11it/s]\u001b[A\n",
      " 20%|█▉        | 26/132 [00:10<00:46,  2.26it/s]\u001b[A\n",
      " 20%|██        | 27/132 [00:11<00:45,  2.29it/s]\u001b[A\n",
      " 21%|██        | 28/132 [00:12<00:54,  1.91it/s]\u001b[A\n",
      " 22%|██▏       | 29/132 [00:12<00:49,  2.07it/s]\u001b[A\n",
      " 23%|██▎       | 30/132 [00:12<00:46,  2.20it/s]\u001b[A\n",
      " 23%|██▎       | 31/132 [00:13<00:44,  2.26it/s]\u001b[A\n",
      " 25%|██▌       | 33/132 [00:13<00:32,  3.07it/s]\u001b[A\n",
      " 27%|██▋       | 35/132 [00:13<00:28,  3.44it/s]\u001b[A\n",
      " 27%|██▋       | 36/132 [00:14<00:36,  2.63it/s]\u001b[A\n",
      " 28%|██▊       | 37/132 [00:14<00:35,  2.64it/s]\u001b[A\n",
      " 29%|██▉       | 38/132 [00:15<00:34,  2.72it/s]\u001b[A\n",
      " 30%|██▉       | 39/132 [00:15<00:33,  2.76it/s]\u001b[A\n",
      " 30%|███       | 40/132 [00:15<00:35,  2.62it/s]\u001b[A\n",
      " 31%|███       | 41/132 [00:16<00:33,  2.71it/s]\u001b[A\n",
      " 32%|███▏      | 42/132 [00:16<00:28,  3.16it/s]\u001b[A\n",
      " 33%|███▎      | 43/132 [00:16<00:23,  3.78it/s]\u001b[A\n",
      " 33%|███▎      | 44/132 [00:16<00:27,  3.23it/s]\u001b[A\n",
      " 34%|███▍      | 45/132 [00:17<00:33,  2.61it/s]\u001b[A\n",
      " 35%|███▍      | 46/132 [00:17<00:31,  2.74it/s]\u001b[A\n",
      " 36%|███▌      | 47/132 [00:18<00:34,  2.47it/s]\u001b[A\n",
      " 36%|███▋      | 48/132 [00:18<00:39,  2.13it/s]\u001b[A\n",
      " 37%|███▋      | 49/132 [00:19<00:35,  2.32it/s]\u001b[A\n",
      " 38%|███▊      | 50/132 [00:19<00:34,  2.38it/s]\u001b[A\n",
      " 39%|███▊      | 51/132 [00:20<00:32,  2.47it/s]\u001b[A\n",
      " 39%|███▉      | 52/132 [00:20<00:31,  2.50it/s]\u001b[A\n",
      " 40%|████      | 53/132 [00:20<00:24,  3.22it/s]\u001b[A\n",
      " 41%|████      | 54/132 [00:21<00:34,  2.28it/s]\u001b[A\n",
      " 42%|████▏     | 55/132 [00:21<00:29,  2.59it/s]\u001b[A\n",
      " 42%|████▏     | 56/132 [00:21<00:28,  2.71it/s]\u001b[A\n",
      " 43%|████▎     | 57/132 [00:22<00:35,  2.12it/s]\u001b[A\n",
      " 44%|████▍     | 58/132 [00:22<00:31,  2.37it/s]\u001b[A\n",
      " 45%|████▍     | 59/132 [00:23<00:34,  2.09it/s]\u001b[A\n",
      " 45%|████▌     | 60/132 [00:23<00:35,  2.05it/s]\u001b[A\n",
      " 46%|████▌     | 61/132 [00:24<00:32,  2.20it/s]\u001b[A\n",
      " 47%|████▋     | 62/132 [00:24<00:29,  2.36it/s]\u001b[A\n",
      " 48%|████▊     | 63/132 [00:25<00:28,  2.46it/s]\u001b[A\n",
      " 48%|████▊     | 64/132 [00:25<00:25,  2.63it/s]\u001b[A\n",
      " 49%|████▉     | 65/132 [00:25<00:25,  2.62it/s]\u001b[A\n",
      " 50%|█████     | 66/132 [00:26<00:26,  2.45it/s]\u001b[A\n",
      " 51%|█████     | 67/132 [00:26<00:28,  2.30it/s]\u001b[A\n",
      " 52%|█████▏    | 68/132 [00:27<00:30,  2.09it/s]\u001b[A\n",
      " 52%|█████▏    | 69/132 [00:27<00:23,  2.66it/s]\u001b[A\n",
      " 53%|█████▎    | 70/132 [00:27<00:24,  2.56it/s]\u001b[A\n",
      " 54%|█████▍    | 71/132 [00:28<00:23,  2.65it/s]\u001b[A\n",
      " 55%|█████▍    | 72/132 [00:28<00:18,  3.27it/s]\u001b[A\n",
      " 56%|█████▌    | 74/132 [00:28<00:16,  3.41it/s]\u001b[A\n",
      " 57%|█████▋    | 75/132 [00:29<00:16,  3.39it/s]\u001b[A\n",
      " 58%|█████▊    | 76/132 [00:29<00:15,  3.53it/s]\u001b[A\n",
      " 58%|█████▊    | 77/132 [00:29<00:16,  3.29it/s]\u001b[A\n",
      " 59%|█████▉    | 78/132 [00:29<00:13,  3.88it/s]\u001b[A\n",
      " 60%|█████▉    | 79/132 [00:30<00:16,  3.14it/s]\u001b[A\n",
      " 61%|██████    | 80/132 [00:30<00:17,  2.98it/s]\u001b[A\n",
      " 61%|██████▏   | 81/132 [00:31<00:16,  3.16it/s]\u001b[A\n",
      " 62%|██████▏   | 82/132 [00:31<00:17,  2.89it/s]\u001b[A\n",
      " 63%|██████▎   | 83/132 [00:31<00:14,  3.39it/s]\u001b[A\n",
      " 64%|██████▎   | 84/132 [00:32<00:15,  3.09it/s]\u001b[A\n",
      " 64%|██████▍   | 85/132 [00:32<00:13,  3.60it/s]\u001b[A\n",
      " 65%|██████▌   | 86/132 [00:32<00:13,  3.52it/s]\u001b[A\n",
      " 66%|██████▌   | 87/132 [00:33<00:15,  2.82it/s]\u001b[A\n",
      " 67%|██████▋   | 88/132 [00:33<00:16,  2.74it/s]\u001b[A\n",
      " 67%|██████▋   | 89/132 [00:33<00:15,  2.70it/s]\u001b[A\n",
      " 68%|██████▊   | 90/132 [00:33<00:12,  3.31it/s]\u001b[A\n",
      " 69%|██████▉   | 91/132 [00:34<00:12,  3.25it/s]\u001b[A\n",
      " 70%|██████▉   | 92/132 [00:34<00:14,  2.80it/s]\u001b[A\n",
      " 70%|███████   | 93/132 [00:35<00:15,  2.46it/s]\u001b[A\n",
      " 71%|███████   | 94/132 [00:35<00:14,  2.54it/s]\u001b[A\n",
      " 72%|███████▏  | 95/132 [00:36<00:17,  2.18it/s]\u001b[A\n",
      " 73%|███████▎  | 96/132 [00:36<00:16,  2.17it/s]\u001b[A\n",
      " 73%|███████▎  | 97/132 [00:37<00:15,  2.28it/s]\u001b[A\n",
      " 74%|███████▍  | 98/132 [00:37<00:13,  2.55it/s]\u001b[A\n",
      " 75%|███████▌  | 99/132 [00:37<00:11,  2.81it/s]\u001b[A\n",
      " 76%|███████▌  | 100/132 [00:38<00:12,  2.47it/s]\u001b[A\n",
      " 77%|███████▋  | 101/132 [00:38<00:11,  2.62it/s]\u001b[A\n",
      " 77%|███████▋  | 102/132 [00:38<00:11,  2.60it/s]\u001b[A\n",
      " 78%|███████▊  | 103/132 [00:39<00:13,  2.08it/s]\u001b[A\n",
      " 79%|███████▉  | 104/132 [00:39<00:11,  2.42it/s]\u001b[A\n",
      " 80%|███████▉  | 105/132 [00:40<00:11,  2.36it/s]\u001b[A\n",
      " 80%|████████  | 106/132 [00:40<00:09,  2.87it/s]\u001b[A\n",
      " 81%|████████  | 107/132 [00:41<00:10,  2.38it/s]\u001b[A\n",
      " 82%|████████▏ | 108/132 [00:41<00:11,  2.12it/s]\u001b[A\n",
      " 83%|████████▎ | 110/132 [00:42<00:09,  2.41it/s]\u001b[A\n",
      " 84%|████████▍ | 111/132 [00:42<00:08,  2.40it/s]\u001b[A\n",
      " 86%|████████▌ | 113/132 [00:43<00:06,  2.72it/s]\u001b[A\n",
      " 86%|████████▋ | 114/132 [00:43<00:06,  2.91it/s]\u001b[A\n",
      " 87%|████████▋ | 115/132 [00:43<00:06,  2.76it/s]\u001b[A\n",
      " 88%|████████▊ | 116/132 [00:44<00:07,  2.19it/s]\u001b[A\n",
      " 89%|████████▊ | 117/132 [00:45<00:07,  2.03it/s]\u001b[A\n",
      " 90%|█████████ | 119/132 [00:45<00:05,  2.35it/s]\u001b[A\n",
      " 91%|█████████ | 120/132 [00:45<00:04,  2.94it/s]\u001b[A\n",
      " 92%|█████████▏| 121/132 [00:46<00:04,  2.35it/s]\u001b[A\n",
      " 92%|█████████▏| 122/132 [00:46<00:03,  2.62it/s]\u001b[A\n",
      " 93%|█████████▎| 123/132 [00:47<00:03,  2.46it/s]\u001b[A\n",
      " 94%|█████████▍| 124/132 [00:47<00:03,  2.64it/s]\u001b[A\n",
      " 95%|█████████▍| 125/132 [00:47<00:02,  2.78it/s]\u001b[A\n",
      " 95%|█████████▌| 126/132 [00:48<00:02,  2.46it/s]\u001b[A\n",
      " 96%|█████████▌| 127/132 [00:48<00:01,  2.53it/s]\u001b[A\n",
      " 98%|█████████▊| 129/132 [00:49<00:01,  2.88it/s]\u001b[A\n",
      " 98%|█████████▊| 130/132 [00:49<00:00,  2.35it/s]\u001b[A\n",
      " 99%|█████████▉| 131/132 [00:50<00:00,  2.42it/s]\u001b[A\n",
      "100%|██████████| 132/132 [00:50<00:00,  2.61it/s]\u001b[A\n"
     ]
    }
   ],
   "source": [
    "pos_ri_hybrid,pos_rinorms_df = computeRi(hybrid_model.classifier,attributes,\n",
    "                                              positives,0)"
   ]
  },
  {
   "cell_type": "code",
   "execution_count": 94,
   "metadata": {},
   "outputs": [
    {
     "data": {
      "text/plain": [
       "<matplotlib.axes._subplots.AxesSubplot at 0x7f0aaee929e8>"
      ]
     },
     "execution_count": 94,
     "metadata": {},
     "output_type": "execute_result"
    },
    {
     "data": {
      "image/png": "[encoded data removed]",
      "text/plain": [
       "<Figure size 432x288 with 1 Axes>"
      ]
     },
     "metadata": {
      "needs_background": "light"
     },
     "output_type": "display_data"
    }
   ],
   "source": [
    "pos_rinorms_df.sum().plot.bar()"
   ]
  },
  {
   "cell_type": "code",
   "execution_count": null,
   "metadata": {},
   "outputs": [],
   "source": [
    "torch.save(pos_ri_hybrid,'experiments/results/pos_ri_hybrid.csv')"
   ]
  },
  {
   "cell_type": "markdown",
   "metadata": {},
   "source": [
    "## Nearest neighbors hybrid"
   ]
  },
  {
   "cell_type": "code",
   "execution_count": null,
   "metadata": {},
   "outputs": [],
   "source": [
    "positives_nn_hybrid = calculate_nearest_neighbors_onAttributes(positives,pos_ri_hybrid,\n",
    "                                                       negatives,attributes,attribute_len_hybrid,\n",
    "                                                               min_similarity=0)"
   ]
  },
  {
   "cell_type": "code",
   "execution_count": null,
   "metadata": {},
   "outputs": [],
   "source": [
    "negatives_nn_hybrid = calculate_nearest_neighbors_onAttributes(negatives,negatives_ri,\n",
    "                                                        positives,attributes,attribute_len_hybrid,\n",
    "                                                               min_similarity=0)"
   ]
  },
  {
   "cell_type": "code",
   "execution_count": null,
   "metadata": {},
   "outputs": [],
   "source": [
    "positives_nn_hybrid.to_csv('experiments/results/positivesNNHybridWithoutfilter.csv',index=False)\n",
    "negatives_nn_hybrid.to_csv('experiments/results/negativesNNhybridWithoutfilter.csv',index=False)"
   ]
  },
  {
   "cell_type": "code",
   "execution_count": null,
   "metadata": {},
   "outputs": [],
   "source": [
    "positives_nn_hybrid['Price'].value_counts()"
   ]
  },
  {
   "cell_type": "code",
   "execution_count": null,
   "metadata": {},
   "outputs": [],
   "source": [
    "negatives = pd.read_csv('../../Structured/itunes-amazon/negatives.csv')\n",
    "positives = pd.read_csv('../../Structured/itunes-amazon/positives.csv')"
   ]
  },
  {
   "cell_type": "code",
   "execution_count": null,
   "metadata": {},
   "outputs": [],
   "source": []
  }
 ],
 "metadata": {
  "kernelspec": {
   "display_name": "Python 3",
   "language": "python",
   "name": "python3"
  },
  "language_info": {
   "codemirror_mode": {
    "name": "ipython",
    "version": 3
   },
   "file_extension": ".py",
   "mimetype": "text/x-python",
   "name": "python",
   "nbconvert_exporter": "python",
   "pygments_lexer": "ipython3",
   "version": "3.6.10"
  },
  "toc": {
   "base_numbering": 1,
   "nav_menu": {},
   "number_sections": true,
   "sideBar": true,
   "skip_h1_title": false,
   "title_cell": "Table of Contents",
   "title_sidebar": "Contents",
   "toc_cell": false,
   "toc_position": {},
   "toc_section_display": true,
   "toc_window_display": false
  }
 },
 "nbformat": 4,
 "nbformat_minor": 2
}

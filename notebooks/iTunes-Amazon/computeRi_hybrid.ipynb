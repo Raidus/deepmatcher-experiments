{
 "cells": [
  {
   "cell_type": "code",
   "execution_count": 1,
   "metadata": {
    "ExecuteTime": {
     "end_time": "2020-02-09T14:04:22.559242Z",
     "start_time": "2020-02-09T14:04:22.542149Z"
    }
   },
   "outputs": [],
   "source": [
    "%load_ext autoreload\n",
    "%autoreload 2"
   ]
  },
  {
   "cell_type": "code",
   "execution_count": 2,
   "metadata": {
    "ExecuteTime": {
     "end_time": "2020-02-09T14:04:22.832256Z",
     "start_time": "2020-02-09T14:04:22.821651Z"
    }
   },
   "outputs": [],
   "source": [
    "import sys\n",
    "sys.path.append('../..')"
   ]
  },
  {
   "cell_type": "code",
   "execution_count": 7,
   "metadata": {
    "ExecuteTime": {
     "end_time": "2020-02-09T14:04:41.206502Z",
     "start_time": "2020-02-09T14:04:41.170297Z"
    }
   },
   "outputs": [],
   "source": [
    "import deepmatcher as dm\n",
    "from utils.intermediate_layer_extraction import return_layer_input\n",
    "from utils.ri_calculator import computeRi\n",
    "from utils.distance_measures import nearestNeighborsOnAttribute\n",
    "import pandas as pd\n",
    "import torch\n",
    "import copy "
   ]
  },
  {
   "cell_type": "code",
   "execution_count": 4,
   "metadata": {
    "ExecuteTime": {
     "end_time": "2020-02-09T14:04:24.481892Z",
     "start_time": "2020-02-09T14:04:24.463634Z"
    }
   },
   "outputs": [],
   "source": [
    "attributes = ['Song_Name','Artist_Name','Album_Name','Genre','Price','CopyRight','Time','Released']"
   ]
  },
  {
   "cell_type": "markdown",
   "metadata": {},
   "source": [
    "## Hybrid"
   ]
  },
  {
   "cell_type": "markdown",
   "metadata": {},
   "source": [
    "### Datasets creation"
   ]
  },
  {
   "cell_type": "code",
   "execution_count": 9,
   "metadata": {
    "ExecuteTime": {
     "end_time": "2020-02-09T14:05:17.092109Z",
     "start_time": "2020-02-09T14:05:16.152888Z"
    }
   },
   "outputs": [],
   "source": [
    "hybrid_model = dm.MatchingModel(attr_summarizer='hybrid')\n",
    "hybrid_model.load_state('../../models/itunes_amazon_hybrid.pth')\n",
    "hybrid_model = hybrid_model.to('cuda')"
   ]
  },
  {
   "cell_type": "code",
   "execution_count": 11,
   "metadata": {
    "ExecuteTime": {
     "end_time": "2020-02-09T14:05:21.617886Z",
     "start_time": "2020-02-09T14:05:20.775241Z"
    }
   },
   "outputs": [
    {
     "name": "stderr",
     "output_type": "stream",
     "text": [
      "\n",
      "Reading and processing data from \"../../datasets/Structured/itunes-amazon/test_negatives.csv\"\n",
      "0% [############################# ] 100% | ETA: 00:00:00"
     ]
    }
   ],
   "source": [
    "testneg = return_layer_input(hybrid_model,hybrid_model.classifier,\n",
    "                             '../../datasets/Structured/itunes-amazon/','test_negatives')"
   ]
  },
  {
   "cell_type": "code",
   "execution_count": 7,
   "metadata": {},
   "outputs": [],
   "source": [
    "negatives = return_layer_input(hybrid_model,hybrid_model.classifier,'../../datasets/Structured/itunes-amazon','negatives')"
   ]
  },
  {
   "cell_type": "code",
   "execution_count": 8,
   "metadata": {},
   "outputs": [],
   "source": [
    "positives = returnLayerInputUnlabeled(hybrid_model_c,hybrid_model_c.classifier,\n",
    "                               '../../datasets/Structured/itunes-amazon','positives')"
   ]
  },
  {
   "cell_type": "code",
   "execution_count": 12,
   "metadata": {
    "ExecuteTime": {
     "end_time": "2020-02-09T14:05:30.184450Z",
     "start_time": "2020-02-09T14:05:29.832650Z"
    }
   },
   "outputs": [
    {
     "name": "stderr",
     "output_type": "stream",
     "text": [
      "\n",
      "Reading and processing data from \"../../datasets/Structured/itunes-amazon/test_positives.csv\"\n",
      "0% [########################### ] 100% | ETA: 00:00:00"
     ]
    }
   ],
   "source": [
    "testpos = return_layer_input(hybrid_model,hybrid_model.classifier,\n",
    "                               '../../datasets/Structured/itunes-amazon/','test_positives')"
   ]
  },
  {
   "cell_type": "markdown",
   "metadata": {},
   "source": [
    "### Negative sample analysis"
   ]
  },
  {
   "cell_type": "code",
   "execution_count": 14,
   "metadata": {
    "ExecuteTime": {
     "end_time": "2020-02-09T14:06:00.585164Z",
     "start_time": "2020-02-09T14:05:37.225365Z"
    }
   },
   "outputs": [
    {
     "name": "stderr",
     "output_type": "stream",
     "text": [
      "100%|██████████| 82/82 [00:23<00:00,  3.52it/s]\n"
     ]
    }
   ],
   "source": [
    "negatives_ri,neg_rinorms_df= computeRi(hybrid_model.classifier,\n",
    "                                                    attributes,testneg,0)"
   ]
  },
  {
   "cell_type": "code",
   "execution_count": 16,
   "metadata": {
    "ExecuteTime": {
     "end_time": "2020-02-09T14:06:03.910575Z",
     "start_time": "2020-02-09T14:06:03.652337Z"
    }
   },
   "outputs": [
    {
     "data": {
      "text/plain": [
       "<matplotlib.axes._subplots.AxesSubplot at 0x7f76b8068ac8>"
      ]
     },
     "execution_count": 16,
     "metadata": {},
     "output_type": "execute_result"
    },
    {
     "data": {
      "image/png": "[encoded data removed]",
      "text/plain": [
       "<Figure size 432x288 with 1 Axes>"
      ]
     },
     "metadata": {
      "needs_background": "light"
     },
     "output_type": "display_data"
    }
   ],
   "source": [
    "neg_rinorms_df.sum().plot.bar(color='red')"
   ]
  },
  {
   "cell_type": "code",
   "execution_count": 14,
   "metadata": {},
   "outputs": [],
   "source": [
    "torch.save(negatives_ri,'experiments/results/testneg_ri_hybrid.pt')\n",
    "neg_rinorms_df.to_csv('experiments/results/testneg_ri_norms.csv',index=False)"
   ]
  },
  {
   "cell_type": "markdown",
   "metadata": {},
   "source": [
    "## Positive samples analisys"
   ]
  },
  {
   "cell_type": "code",
   "execution_count": 17,
   "metadata": {
    "ExecuteTime": {
     "end_time": "2020-02-09T14:06:22.846268Z",
     "start_time": "2020-02-09T14:06:13.505967Z"
    }
   },
   "outputs": [
    {
     "name": "stderr",
     "output_type": "stream",
     "text": [
      "100%|██████████| 27/27 [00:09<00:00,  2.91it/s]\n"
     ]
    }
   ],
   "source": [
    "pos_ri_hybrid,pos_rinorms_df = computeRi(hybrid_model.classifier,attributes,\n",
    "                                              testpos,1)"
   ]
  },
  {
   "cell_type": "code",
   "execution_count": 18,
   "metadata": {
    "ExecuteTime": {
     "end_time": "2020-02-09T14:06:25.331759Z",
     "start_time": "2020-02-09T14:06:25.052195Z"
    }
   },
   "outputs": [
    {
     "data": {
      "text/plain": [
       "<matplotlib.axes._subplots.AxesSubplot at 0x7f75fdb47e10>"
      ]
     },
     "execution_count": 18,
     "metadata": {},
     "output_type": "execute_result"
    },
    {
     "data": {
      "image/png": "[encoded data removed]",
      "text/plain": [
       "<Figure size 432x288 with 1 Axes>"
      ]
     },
     "metadata": {
      "needs_background": "light"
     },
     "output_type": "display_data"
    }
   ],
   "source": [
    "pos_rinorms_df.sum().plot.bar(color='green')"
   ]
  },
  {
   "cell_type": "code",
   "execution_count": 13,
   "metadata": {},
   "outputs": [],
   "source": [
    "torch.save(pos_ri_hybrid,'experiments/results/testpos_ri_hybrid.csv')\n",
    "pos_rinorms_df.to_csv('experiments/results/testpos_ri_norms.csv',index=False)"
   ]
  },
  {
   "cell_type": "markdown",
   "metadata": {},
   "source": [
    "## Nearest neighbors hybrid"
   ]
  },
  {
   "cell_type": "code",
   "execution_count": 15,
   "metadata": {},
   "outputs": [],
   "source": [
    "pos_ri = torch.load('experiments/results/testpos_ri_hybrid.pt')\n",
    "neg_ri = torch.load('experiments/results/testneg_ri_hybrid.pt')"
   ]
  },
  {
   "cell_type": "code",
   "execution_count": 19,
   "metadata": {},
   "outputs": [],
   "source": [
    "attribute_len = int(len(list(testpos.values())[0])/len(attributes))"
   ]
  },
  {
   "cell_type": "code",
   "execution_count": 21,
   "metadata": {},
   "outputs": [
    {
     "name": "stderr",
     "output_type": "stream",
     "text": [
      "100%|██████████| 27/27 [00:00<00:00, 232.28it/s]\n"
     ]
    }
   ],
   "source": [
    "positives_nn_hybrid = nearestNeighborsOnAttribute(testpos,pos_ri,\n",
    "                                                       negatives,attributes,attribute_len,\n",
    "                                                               min_similarity=0)"
   ]
  },
  {
   "cell_type": "code",
   "execution_count": 23,
   "metadata": {},
   "outputs": [
    {
     "name": "stderr",
     "output_type": "stream",
     "text": [
      "100%|██████████| 82/82 [00:00<00:00, 277.98it/s]\n"
     ]
    }
   ],
   "source": [
    "negatives_nn_hybrid = nearestNeighborsOnAttribute(testneg,neg_ri,\n",
    "                                                        positives,attributes,attribute_len,\n",
    "                                                               min_similarity=0)"
   ]
  },
  {
   "cell_type": "code",
   "execution_count": 24,
   "metadata": {},
   "outputs": [],
   "source": [
    "positives_nn_hybrid.to_csv('experiments/results/testposNN_hybrid.csv',index=False)\n",
    "negatives_nn_hybrid.to_csv('experiments/results/testnegNN_hybrid.csv',index=False)"
   ]
  },
  {
   "cell_type": "code",
   "execution_count": 25,
   "metadata": {},
   "outputs": [
    {
     "data": {
      "text/plain": [
       "71     19\n",
       "503     7\n",
       "178     1\n",
       "Name: Price, dtype: int64"
      ]
     },
     "execution_count": 25,
     "metadata": {},
     "output_type": "execute_result"
    }
   ],
   "source": [
    "positives_nn_hybrid['Price'].value_counts()"
   ]
  },
  {
   "cell_type": "code",
   "execution_count": 30,
   "metadata": {},
   "outputs": [
    {
     "data": {
      "text/plain": [
       "659    13\n",
       "665    13\n",
       "101     9\n",
       "95      6\n",
       "9       5\n",
       "638     5\n",
       "235     5\n",
       "98      5\n",
       "676     3\n",
       "90      3\n",
       "460     2\n",
       "684     2\n",
       "237     2\n",
       "273     2\n",
       "521     2\n",
       "131     1\n",
       "102     1\n",
       "722     1\n",
       "499     1\n",
       "274     1\n",
       "Name: Time, dtype: int64"
      ]
     },
     "execution_count": 30,
     "metadata": {},
     "output_type": "execute_result"
    }
   ],
   "source": [
    "negatives_nn_hybrid['Time'].value_counts()"
   ]
  },
  {
   "cell_type": "code",
   "execution_count": 27,
   "metadata": {},
   "outputs": [],
   "source": [
    "negatives = pd.read_csv('../../datasets/Structured/itunes-amazon/negatives.csv')\n",
    "positives = pd.read_csv('../../datasets/Structured/itunes-amazon/positives.csv')"
   ]
  },
  {
   "cell_type": "code",
   "execution_count": 35,
   "metadata": {},
   "outputs": [
    {
     "data": {
      "text/html": [
       "<div>\n",
       "<style scoped>\n",
       "    .dataframe tbody tr th:only-of-type {\n",
       "        vertical-align: middle;\n",
       "    }\n",
       "\n",
       "    .dataframe tbody tr th {\n",
       "        vertical-align: top;\n",
       "    }\n",
       "\n",
       "    .dataframe thead th {\n",
       "        text-align: right;\n",
       "    }\n",
       "</style>\n",
       "<table border=\"1\" class=\"dataframe\">\n",
       "  <thead>\n",
       "    <tr style=\"text-align: right;\">\n",
       "      <th></th>\n",
       "      <th>label</th>\n",
       "      <th>ltable_Song_Name</th>\n",
       "      <th>ltable_Artist_Name</th>\n",
       "      <th>ltable_Album_Name</th>\n",
       "      <th>ltable_Genre</th>\n",
       "      <th>ltable_Price</th>\n",
       "      <th>ltable_CopyRight</th>\n",
       "      <th>ltable_Time</th>\n",
       "      <th>ltable_Released</th>\n",
       "      <th>rtable_Song_Name</th>\n",
       "      <th>rtable_Artist_Name</th>\n",
       "      <th>rtable_Album_Name</th>\n",
       "      <th>rtable_Genre</th>\n",
       "      <th>rtable_Price</th>\n",
       "      <th>rtable_CopyRight</th>\n",
       "      <th>rtable_Time</th>\n",
       "      <th>rtable_Released</th>\n",
       "      <th>id</th>\n",
       "    </tr>\n",
       "  </thead>\n",
       "  <tbody>\n",
       "    <tr>\n",
       "      <th>3</th>\n",
       "      <td>1</td>\n",
       "      <td>Turn Around ( 5,4,3,2,1 ) [ DJ Bam Bam Radio R...</td>\n",
       "      <td>Flo Rida</td>\n",
       "      <td>Turn Around ( 5,4,3,2,1 ) - Deluxe Single</td>\n",
       "      <td>Hip-Hop/Rap , Music , Electronic , Rap , Dirty...</td>\n",
       "      <td>$ 1.29</td>\n",
       "      <td>‰ ãÑ 2010 Atlantic Recording Corporation for t...</td>\n",
       "      <td>3:35</td>\n",
       "      <td>16-Nov-10</td>\n",
       "      <td>Turn Around ( 5,4,3,2,1 )</td>\n",
       "      <td>Flo Rida</td>\n",
       "      <td>Only One Flo ( Part 1 ) [ Deluxe ] [ + Video ]...</td>\n",
       "      <td>Rap &amp; Hip-Hop</td>\n",
       "      <td>$ 1.29</td>\n",
       "      <td>2010 Atlantic Recording Corporation for the Un...</td>\n",
       "      <td>3:20</td>\n",
       "      <td>November 26 , 2010</td>\n",
       "      <td>9</td>\n",
       "    </tr>\n",
       "  </tbody>\n",
       "</table>\n",
       "</div>"
      ],
      "text/plain": [
       "   label                                   ltable_Song_Name  \\\n",
       "3      1  Turn Around ( 5,4,3,2,1 ) [ DJ Bam Bam Radio R...   \n",
       "\n",
       "  ltable_Artist_Name                          ltable_Album_Name  \\\n",
       "3           Flo Rida  Turn Around ( 5,4,3,2,1 ) - Deluxe Single   \n",
       "\n",
       "                                        ltable_Genre ltable_Price  \\\n",
       "3  Hip-Hop/Rap , Music , Electronic , Rap , Dirty...       $ 1.29   \n",
       "\n",
       "                                    ltable_CopyRight ltable_Time  \\\n",
       "3  ‰ ãÑ 2010 Atlantic Recording Corporation for t...        3:35   \n",
       "\n",
       "  ltable_Released           rtable_Song_Name rtable_Artist_Name  \\\n",
       "3       16-Nov-10  Turn Around ( 5,4,3,2,1 )           Flo Rida   \n",
       "\n",
       "                                   rtable_Album_Name   rtable_Genre  \\\n",
       "3  Only One Flo ( Part 1 ) [ Deluxe ] [ + Video ]...  Rap & Hip-Hop   \n",
       "\n",
       "  rtable_Price                                   rtable_CopyRight rtable_Time  \\\n",
       "3       $ 1.29  2010 Atlantic Recording Corporation for the Un...        3:20   \n",
       "\n",
       "      rtable_Released  id  \n",
       "3  November 26 , 2010   9  "
      ]
     },
     "execution_count": 35,
     "metadata": {},
     "output_type": "execute_result"
    }
   ],
   "source": [
    "positives[positives.id==9]"
   ]
  },
  {
   "cell_type": "code",
   "execution_count": null,
   "metadata": {},
   "outputs": [],
   "source": []
  }
 ],
 "metadata": {
  "kernelspec": {
   "display_name": "Python 3",
   "language": "python",
   "name": "python3"
  },
  "language_info": {
   "codemirror_mode": {
    "name": "ipython",
    "version": 3
   },
   "file_extension": ".py",
   "mimetype": "text/x-python",
   "name": "python",
   "nbconvert_exporter": "python",
   "pygments_lexer": "ipython3",
   "version": "3.6.10"
  },
  "toc": {
   "base_numbering": 1,
   "nav_menu": {},
   "number_sections": true,
   "sideBar": true,
   "skip_h1_title": false,
   "title_cell": "Table of Contents",
   "title_sidebar": "Contents",
   "toc_cell": false,
   "toc_position": {},
   "toc_section_display": true,
   "toc_window_display": false
  }
 },
 "nbformat": 4,
 "nbformat_minor": 2
}

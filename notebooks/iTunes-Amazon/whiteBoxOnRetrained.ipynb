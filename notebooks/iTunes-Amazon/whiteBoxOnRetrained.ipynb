{
 "cells": [
  {
   "cell_type": "code",
   "execution_count": 1,
   "metadata": {
    "ExecuteTime": {
     "end_time": "2020-03-01T15:48:49.353514Z",
     "start_time": "2020-03-01T15:48:49.335666Z"
    }
   },
   "outputs": [],
   "source": [
    "%load_ext autoreload\n",
    "%autoreload 2"
   ]
  },
  {
   "cell_type": "code",
   "execution_count": 2,
   "metadata": {
    "ExecuteTime": {
     "end_time": "2020-03-01T15:48:49.988367Z",
     "start_time": "2020-03-01T15:48:49.974540Z"
    }
   },
   "outputs": [],
   "source": [
    "import sys\n",
    "sys.path.append('../..')"
   ]
  },
  {
   "cell_type": "code",
   "execution_count": 3,
   "metadata": {
    "ExecuteTime": {
     "end_time": "2020-03-01T15:48:51.691918Z",
     "start_time": "2020-03-01T15:48:50.422389Z"
    }
   },
   "outputs": [],
   "source": [
    "import deepmatcher as dm\n",
    "from utils.intermediate_layer_extraction import return_layer_input\n",
    "from utils.ri_calculator import computeRi\n",
    "from utils.distance_measures import nearestNeighborOnAttributes\n",
    "from utils.distance_measures import smallestDistanceOnAttributes\n",
    "import pandas as pd\n",
    "import torch"
   ]
  },
  {
   "cell_type": "code",
   "execution_count": 4,
   "metadata": {
    "ExecuteTime": {
     "end_time": "2020-03-01T15:48:52.408701Z",
     "start_time": "2020-03-01T15:48:52.361722Z"
    }
   },
   "outputs": [],
   "source": [
    "DATASET_DIR = '../../datasets/Structured/itunes-amazon/'\n",
    "augmented_test = pd.read_csv(DATASET_DIR+'augmented_test.csv')"
   ]
  },
  {
   "cell_type": "code",
   "execution_count": 5,
   "metadata": {
    "ExecuteTime": {
     "end_time": "2020-03-01T15:48:54.035314Z",
     "start_time": "2020-03-01T15:48:53.994061Z"
    }
   },
   "outputs": [],
   "source": [
    "augmented_test[augmented_test.label==0].to_csv(DATASET_DIR+'augmentedtest_negatives.csv',index=False)"
   ]
  },
  {
   "cell_type": "markdown",
   "metadata": {},
   "source": [
    "## Retrain model 1"
   ]
  },
  {
   "cell_type": "code",
   "execution_count": 6,
   "metadata": {
    "ExecuteTime": {
     "end_time": "2020-03-01T15:49:02.610806Z",
     "start_time": "2020-03-01T15:49:02.578629Z"
    }
   },
   "outputs": [],
   "source": [
    "attributes = ['Song_Name','Artist_Name','Album_Name','Genre','Price','CopyRight','Time','Released']"
   ]
  },
  {
   "cell_type": "code",
   "execution_count": 9,
   "metadata": {
    "ExecuteTime": {
     "end_time": "2020-03-01T15:49:18.932631Z",
     "start_time": "2020-03-01T15:49:13.947338Z"
    }
   },
   "outputs": [],
   "source": [
    "hybrid_model = dm.MatchingModel(attr_summarizer='hybrid')\n",
    "hybrid_model.load_state('../../models/itunesamazon_impr1.pth')\n",
    "hybrid_model = hybrid_model.to('cuda')"
   ]
  },
  {
   "cell_type": "code",
   "execution_count": 11,
   "metadata": {
    "ExecuteTime": {
     "end_time": "2020-03-01T15:49:36.535006Z",
     "start_time": "2020-03-01T15:49:24.989799Z"
    }
   },
   "outputs": [],
   "source": [
    "testneg = return_layer_input(hybrid_model,hybrid_model.classifier,\n",
    "                             '../../datasets/Structured/itunes-amazon/','test_negatives',0)"
   ]
  },
  {
   "cell_type": "code",
   "execution_count": 12,
   "metadata": {
    "ExecuteTime": {
     "end_time": "2020-03-01T15:49:37.235180Z",
     "start_time": "2020-03-01T15:49:36.537069Z"
    }
   },
   "outputs": [],
   "source": [
    "testpos = return_layer_input(hybrid_model,hybrid_model.classifier,\n",
    "                               '../../datasets/Structured/itunes-amazon/','test_positives',1)"
   ]
  },
  {
   "cell_type": "code",
   "execution_count": 13,
   "metadata": {
    "ExecuteTime": {
     "end_time": "2020-03-01T15:50:10.860527Z",
     "start_time": "2020-03-01T15:49:45.537396Z"
    }
   },
   "outputs": [
    {
     "name": "stderr",
     "output_type": "stream",
     "text": [
      "100%|██████████| 79/79 [00:25<00:00,  3.14it/s]\n"
     ]
    }
   ],
   "source": [
    "negatives_ri,neg_rinorms_df= computeRi(hybrid_model.classifier,\n",
    "                                                    attributes,testneg,0,aggregation_type='cosine')"
   ]
  },
  {
   "cell_type": "code",
   "execution_count": 15,
   "metadata": {
    "ExecuteTime": {
     "end_time": "2020-03-01T15:50:14.708434Z",
     "start_time": "2020-03-01T15:50:14.414653Z"
    }
   },
   "outputs": [
    {
     "data": {
      "text/plain": [
       "<matplotlib.axes._subplots.AxesSubplot at 0x7fe434445da0>"
      ]
     },
     "execution_count": 15,
     "metadata": {},
     "output_type": "execute_result"
    },
    {
     "data": {
      "image/png": "[encoded data removed]",
      "text/plain": [
       "<Figure size 432x288 with 1 Axes>"
      ]
     },
     "metadata": {
      "needs_background": "light"
     },
     "output_type": "display_data"
    }
   ],
   "source": [
    "neg_rinorms_df.drop(['sample_id'],axis=1).mean().plot.bar(color='red')"
   ]
  },
  {
   "cell_type": "code",
   "execution_count": 16,
   "metadata": {
    "ExecuteTime": {
     "end_time": "2020-03-01T15:51:16.447780Z",
     "start_time": "2020-03-01T15:51:10.010120Z"
    }
   },
   "outputs": [
    {
     "name": "stderr",
     "output_type": "stream",
     "text": [
      "100%|██████████| 23/23 [00:06<00:00,  3.63it/s]\n"
     ]
    }
   ],
   "source": [
    "pos_ri_hybrid,pos_rinorms_df = computeRi(hybrid_model.classifier,attributes,\n",
    "                                              testpos,1,aggregation_type='cosine')"
   ]
  },
  {
   "cell_type": "code",
   "execution_count": 17,
   "metadata": {
    "ExecuteTime": {
     "end_time": "2020-03-01T15:51:41.665407Z",
     "start_time": "2020-03-01T15:51:41.361367Z"
    }
   },
   "outputs": [
    {
     "data": {
      "text/plain": [
       "<matplotlib.axes._subplots.AxesSubplot at 0x7fe3912197f0>"
      ]
     },
     "execution_count": 17,
     "metadata": {},
     "output_type": "execute_result"
    },
    {
     "data": {
      "image/png": "[encoded data removed]",
      "text/plain": [
       "<Figure size 432x288 with 1 Axes>"
      ]
     },
     "metadata": {
      "needs_background": "light"
     },
     "output_type": "display_data"
    }
   ],
   "source": [
    "pos_rinorms_df.drop(['sample_id'],axis=1).mean().plot.bar(color='green')"
   ]
  },
  {
   "cell_type": "markdown",
   "metadata": {},
   "source": [
    "## Retrained model 2"
   ]
  },
  {
   "cell_type": "code",
   "execution_count": 19,
   "metadata": {
    "ExecuteTime": {
     "end_time": "2020-03-01T15:52:30.561164Z",
     "start_time": "2020-03-01T15:52:29.636264Z"
    }
   },
   "outputs": [],
   "source": [
    "improved2 = dm.MatchingModel(attr_summarizer='hybrid')\n",
    "improved2.load_state('../../models/itunesamazon_impr2.pth')\n",
    "improved2 = improved2.to('cuda')"
   ]
  },
  {
   "cell_type": "code",
   "execution_count": 20,
   "metadata": {
    "ExecuteTime": {
     "end_time": "2020-03-01T15:52:36.922637Z",
     "start_time": "2020-03-01T15:52:35.326594Z"
    }
   },
   "outputs": [],
   "source": [
    "testneg2 = return_layer_input(improved2,improved2.classifier,\n",
    "                             '../../datasets/Structured/itunes-amazon/','test_negatives',0)"
   ]
  },
  {
   "cell_type": "code",
   "execution_count": 21,
   "metadata": {
    "ExecuteTime": {
     "end_time": "2020-03-01T15:52:40.735320Z",
     "start_time": "2020-03-01T15:52:39.960267Z"
    }
   },
   "outputs": [],
   "source": [
    "testpos2 = return_layer_input(improved2,improved2.classifier,\n",
    "                               '../../datasets/Structured/itunes-amazon/','test_positives',1)"
   ]
  },
  {
   "cell_type": "code",
   "execution_count": 23,
   "metadata": {
    "ExecuteTime": {
     "end_time": "2020-03-01T15:53:49.084724Z",
     "start_time": "2020-03-01T15:53:17.595932Z"
    }
   },
   "outputs": [
    {
     "name": "stderr",
     "output_type": "stream",
     "text": [
      "\n",
      "  0%|          | 0/77 [00:00<?, ?it/s]\u001b[A\n",
      "  1%|▏         | 1/77 [00:00<00:44,  1.71it/s]\u001b[A\n",
      "  3%|▎         | 2/77 [00:01<00:45,  1.65it/s]\u001b[A\n",
      "  4%|▍         | 3/77 [00:01<00:39,  1.86it/s]\u001b[A\n",
      "  5%|▌         | 4/77 [00:02<00:38,  1.88it/s]\u001b[A\n",
      "  6%|▋         | 5/77 [00:02<00:35,  2.03it/s]\u001b[A\n",
      "  8%|▊         | 6/77 [00:02<00:30,  2.31it/s]\u001b[A\n",
      "  9%|▉         | 7/77 [00:03<00:34,  2.01it/s]\u001b[A\n",
      " 10%|█         | 8/77 [00:03<00:31,  2.20it/s]\u001b[A\n",
      " 12%|█▏        | 9/77 [00:04<00:33,  2.06it/s]\u001b[A\n",
      " 13%|█▎        | 10/77 [00:04<00:28,  2.32it/s]\u001b[A\n",
      " 14%|█▍        | 11/77 [00:05<00:26,  2.45it/s]\u001b[A\n",
      " 16%|█▌        | 12/77 [00:05<00:23,  2.79it/s]\u001b[A\n",
      " 17%|█▋        | 13/77 [00:05<00:21,  2.96it/s]\u001b[A\n",
      " 18%|█▊        | 14/77 [00:06<00:25,  2.45it/s]\u001b[A\n",
      " 19%|█▉        | 15/77 [00:06<00:25,  2.45it/s]\u001b[A\n",
      " 21%|██        | 16/77 [00:06<00:23,  2.59it/s]\u001b[A\n",
      " 22%|██▏       | 17/77 [00:07<00:27,  2.15it/s]\u001b[A\n",
      " 23%|██▎       | 18/77 [00:07<00:21,  2.76it/s]\u001b[A\n",
      " 25%|██▍       | 19/77 [00:08<00:25,  2.24it/s]\u001b[A\n",
      " 26%|██▌       | 20/77 [00:08<00:28,  2.02it/s]\u001b[A\n",
      " 27%|██▋       | 21/77 [00:09<00:30,  1.85it/s]\u001b[A\n",
      " 29%|██▊       | 22/77 [00:10<00:31,  1.75it/s]\u001b[A\n",
      " 30%|██▉       | 23/77 [00:10<00:31,  1.69it/s]\u001b[A\n",
      " 31%|███       | 24/77 [00:11<00:27,  1.92it/s]\u001b[A\n",
      " 32%|███▏      | 25/77 [00:11<00:22,  2.31it/s]\u001b[A\n",
      " 34%|███▍      | 26/77 [00:11<00:21,  2.34it/s]\u001b[A\n",
      " 35%|███▌      | 27/77 [00:12<00:22,  2.19it/s]\u001b[A\n",
      " 36%|███▋      | 28/77 [00:12<00:24,  2.03it/s]\u001b[A\n",
      " 38%|███▊      | 29/77 [00:13<00:21,  2.25it/s]\u001b[A\n",
      " 39%|███▉      | 30/77 [00:13<00:18,  2.56it/s]\u001b[A\n",
      " 40%|████      | 31/77 [00:14<00:21,  2.14it/s]\u001b[A\n",
      " 42%|████▏     | 32/77 [00:14<00:21,  2.11it/s]\u001b[A\n",
      " 43%|████▎     | 33/77 [00:15<00:22,  1.96it/s]\u001b[A\n",
      " 44%|████▍     | 34/77 [00:15<00:16,  2.57it/s]\u001b[A\n",
      " 45%|████▌     | 35/77 [00:16<00:19,  2.12it/s]\u001b[A\n",
      " 47%|████▋     | 36/77 [00:16<00:20,  1.99it/s]\u001b[A\n",
      " 48%|████▊     | 37/77 [00:17<00:22,  1.78it/s]\u001b[A\n",
      " 49%|████▉     | 38/77 [00:18<00:23,  1.67it/s]\u001b[A\n",
      " 51%|█████     | 39/77 [00:18<00:22,  1.66it/s]\u001b[A\n",
      " 52%|█████▏    | 40/77 [00:19<00:20,  1.79it/s]\u001b[A\n",
      " 53%|█████▎    | 41/77 [00:19<00:19,  1.81it/s]\u001b[A\n",
      " 56%|█████▌    | 43/77 [00:19<00:14,  2.34it/s]\u001b[A\n",
      " 57%|█████▋    | 44/77 [00:19<00:10,  3.00it/s]\u001b[A\n",
      " 58%|█████▊    | 45/77 [00:20<00:12,  2.56it/s]\u001b[A\n",
      " 60%|█████▉    | 46/77 [00:20<00:11,  2.78it/s]\u001b[A\n",
      " 62%|██████▏   | 48/77 [00:20<00:07,  3.70it/s]\u001b[A\n",
      " 64%|██████▎   | 49/77 [00:21<00:07,  3.96it/s]\u001b[A\n",
      " 65%|██████▍   | 50/77 [00:21<00:07,  3.56it/s]\u001b[A\n",
      " 66%|██████▌   | 51/77 [00:21<00:08,  3.16it/s]\u001b[A\n",
      " 68%|██████▊   | 52/77 [00:22<00:09,  2.57it/s]\u001b[A\n",
      " 69%|██████▉   | 53/77 [00:22<00:08,  2.96it/s]\u001b[A\n",
      " 70%|███████   | 54/77 [00:23<00:08,  2.68it/s]\u001b[A\n",
      " 71%|███████▏  | 55/77 [00:23<00:08,  2.46it/s]\u001b[A\n",
      " 73%|███████▎  | 56/77 [00:24<00:08,  2.35it/s]\u001b[A\n",
      " 74%|███████▍  | 57/77 [00:24<00:08,  2.29it/s]\u001b[A\n",
      " 75%|███████▌  | 58/77 [00:24<00:07,  2.52it/s]\u001b[A\n",
      " 77%|███████▋  | 59/77 [00:25<00:06,  2.71it/s]\u001b[A\n",
      " 78%|███████▊  | 60/77 [00:25<00:05,  3.09it/s]\u001b[A\n",
      " 79%|███████▉  | 61/77 [00:25<00:05,  2.99it/s]\u001b[A\n",
      " 81%|████████  | 62/77 [00:26<00:05,  2.68it/s]\u001b[A\n",
      " 82%|████████▏ | 63/77 [00:26<00:05,  2.38it/s]\u001b[A\n",
      " 83%|████████▎ | 64/77 [00:27<00:05,  2.39it/s]\u001b[A\n",
      " 84%|████████▍ | 65/77 [00:27<00:04,  2.43it/s]\u001b[A\n",
      " 86%|████████▌ | 66/77 [00:27<00:04,  2.38it/s]\u001b[A\n",
      " 87%|████████▋ | 67/77 [00:28<00:03,  2.75it/s]\u001b[A\n",
      " 88%|████████▊ | 68/77 [00:28<00:03,  2.65it/s]\u001b[A\n",
      " 90%|████████▉ | 69/77 [00:28<00:02,  2.82it/s]\u001b[A\n",
      " 91%|█████████ | 70/77 [00:29<00:02,  2.39it/s]\u001b[A\n",
      " 92%|█████████▏| 71/77 [00:29<00:02,  2.61it/s]\u001b[A\n",
      " 95%|█████████▍| 73/77 [00:30<00:01,  2.93it/s]\u001b[A\n",
      " 96%|█████████▌| 74/77 [00:30<00:00,  3.59it/s]\u001b[A\n",
      " 97%|█████████▋| 75/77 [00:30<00:00,  4.17it/s]\u001b[A\n",
      " 99%|█████████▊| 76/77 [00:30<00:00,  4.34it/s]\u001b[A\n",
      "100%|██████████| 77/77 [00:31<00:00,  2.46it/s]\u001b[A\n"
     ]
    }
   ],
   "source": [
    "negatives_ri2,neg_rinorms_df2 = computeRi(improved2.classifier,\n",
    "                                                    attributes,testneg2,0,aggregation_type='cosine')"
   ]
  },
  {
   "cell_type": "code",
   "execution_count": 24,
   "metadata": {
    "ExecuteTime": {
     "end_time": "2020-03-01T15:54:06.427381Z",
     "start_time": "2020-03-01T15:54:06.116816Z"
    }
   },
   "outputs": [
    {
     "data": {
      "text/plain": [
       "<matplotlib.axes._subplots.AxesSubplot at 0x7fe387f790b8>"
      ]
     },
     "execution_count": 24,
     "metadata": {},
     "output_type": "execute_result"
    },
    {
     "data": {
      "image/png": "[encoded data removed]",
      "text/plain": [
       "<Figure size 432x288 with 1 Axes>"
      ]
     },
     "metadata": {
      "needs_background": "light"
     },
     "output_type": "display_data"
    }
   ],
   "source": [
    "neg_rinorms_df2.drop(['sample_id'],axis=1).mean().plot.bar(color='red')"
   ]
  },
  {
   "cell_type": "code",
   "execution_count": 45,
   "metadata": {
    "ExecuteTime": {
     "end_time": "2020-02-21T14:37:18.800271Z",
     "start_time": "2020-02-21T14:37:12.462920Z"
    }
   },
   "outputs": [
    {
     "name": "stderr",
     "output_type": "stream",
     "text": [
      "\n",
      "  0%|          | 0/27 [00:00<?, ?it/s]\u001b[A\n",
      "  4%|▎         | 1/27 [00:00<00:08,  3.07it/s]\u001b[A\n",
      "  7%|▋         | 2/27 [00:00<00:07,  3.30it/s]\u001b[A\n",
      " 11%|█         | 3/27 [00:00<00:07,  3.21it/s]\u001b[A\n",
      " 15%|█▍        | 4/27 [00:01<00:06,  3.36it/s]\u001b[A\n",
      " 19%|█▊        | 5/27 [00:01<00:06,  3.60it/s]\u001b[A\n",
      " 22%|██▏       | 6/27 [00:01<00:05,  3.97it/s]\u001b[A\n",
      " 26%|██▌       | 7/27 [00:01<00:04,  4.30it/s]\u001b[A\n",
      " 33%|███▎      | 9/27 [00:02<00:03,  4.94it/s]\u001b[A\n",
      " 37%|███▋      | 10/27 [00:02<00:03,  4.31it/s]\u001b[A\n",
      " 41%|████      | 11/27 [00:02<00:03,  4.19it/s]\u001b[A\n",
      " 44%|████▍     | 12/27 [00:02<00:03,  3.84it/s]\u001b[A\n",
      " 48%|████▊     | 13/27 [00:03<00:03,  3.57it/s]\u001b[A\n",
      " 59%|█████▉    | 16/27 [00:03<00:02,  4.21it/s]\u001b[A\n",
      " 63%|██████▎   | 17/27 [00:03<00:02,  3.91it/s]\u001b[A\n",
      " 67%|██████▋   | 18/27 [00:04<00:02,  4.12it/s]\u001b[A\n",
      " 74%|███████▍  | 20/27 [00:04<00:01,  4.80it/s]\u001b[A\n",
      " 78%|███████▊  | 21/27 [00:04<00:01,  4.29it/s]\u001b[A\n",
      " 81%|████████▏ | 22/27 [00:04<00:01,  4.28it/s]\u001b[A\n",
      " 85%|████████▌ | 23/27 [00:05<00:01,  3.90it/s]\u001b[A\n",
      " 89%|████████▉ | 24/27 [00:05<00:00,  4.04it/s]\u001b[A\n",
      " 93%|█████████▎| 25/27 [00:05<00:00,  4.06it/s]\u001b[A\n",
      " 96%|█████████▋| 26/27 [00:06<00:00,  3.91it/s]\u001b[A\n",
      "100%|██████████| 27/27 [00:06<00:00,  4.29it/s]\u001b[A\n"
     ]
    }
   ],
   "source": [
    "pos_ri_hybrid2,pos_rinorms_df2 = computeRi(improved2.classifier,attributes,\n",
    "                                              testpos2,1)"
   ]
  },
  {
   "cell_type": "code",
   "execution_count": 46,
   "metadata": {
    "ExecuteTime": {
     "end_time": "2020-02-21T14:37:32.670052Z",
     "start_time": "2020-02-21T14:37:32.381706Z"
    }
   },
   "outputs": [
    {
     "data": {
      "text/plain": [
       "<matplotlib.axes._subplots.AxesSubplot at 0x7f49e44ba710>"
      ]
     },
     "execution_count": 46,
     "metadata": {},
     "output_type": "execute_result"
    },
    {
     "data": {
      "image/png": "[encoded data removed]",
      "text/plain": [
       "<Figure size 432x288 with 1 Axes>"
      ]
     },
     "metadata": {
      "needs_background": "light"
     },
     "output_type": "display_data"
    }
   ],
   "source": [
    "pos_rinorms_df2.drop(['sample_id'],axis=1).sum().plot.barh(color='green')"
   ]
  },
  {
   "cell_type": "markdown",
   "metadata": {},
   "source": [
    "## Model retrained with another tecnique"
   ]
  },
  {
   "cell_type": "code",
   "execution_count": 25,
   "metadata": {
    "ExecuteTime": {
     "end_time": "2020-03-01T16:31:36.032718Z",
     "start_time": "2020-03-01T16:31:35.082727Z"
    }
   },
   "outputs": [],
   "source": [
    "improved3 = dm.MatchingModel(attr_summarizer='hybrid')\n",
    "improved3.load_state('../../models/itunes_amazon_impr3.pth')\n",
    "improved3 = improved3.to('cuda')"
   ]
  },
  {
   "cell_type": "code",
   "execution_count": 26,
   "metadata": {
    "ExecuteTime": {
     "end_time": "2020-03-01T16:31:56.291615Z",
     "start_time": "2020-03-01T16:31:54.881168Z"
    }
   },
   "outputs": [],
   "source": [
    "testneg3 = return_layer_input(improved3,improved3.classifier,\n",
    "                             '../../datasets/Structured/itunes-amazon/','test_negatives',0)"
   ]
  },
  {
   "cell_type": "code",
   "execution_count": 32,
   "metadata": {
    "ExecuteTime": {
     "end_time": "2020-03-01T16:35:11.348454Z",
     "start_time": "2020-03-01T16:35:10.546691Z"
    }
   },
   "outputs": [],
   "source": [
    "testpos3 = return_layer_input(improved3,improved3.classifier,\n",
    "                             '../../datasets/Structured/itunes-amazon/','test_positives',1)"
   ]
  },
  {
   "cell_type": "code",
   "execution_count": 28,
   "metadata": {
    "ExecuteTime": {
     "end_time": "2020-03-01T16:33:22.072166Z",
     "start_time": "2020-03-01T16:33:04.925231Z"
    }
   },
   "outputs": [
    {
     "name": "stderr",
     "output_type": "stream",
     "text": [
      "\n",
      "  0%|          | 0/73 [00:00<?, ?it/s]\u001b[A\n",
      "  1%|▏         | 1/73 [00:00<00:21,  3.33it/s]\u001b[A\n",
      "  3%|▎         | 2/73 [00:00<00:23,  2.96it/s]\u001b[A\n",
      "  4%|▍         | 3/73 [00:00<00:21,  3.24it/s]\u001b[A\n",
      "  5%|▌         | 4/73 [00:01<00:20,  3.43it/s]\u001b[A\n",
      "  7%|▋         | 5/73 [00:01<00:19,  3.54it/s]\u001b[A\n",
      "  8%|▊         | 6/73 [00:01<00:17,  3.87it/s]\u001b[A\n",
      " 10%|▉         | 7/73 [00:01<00:17,  3.86it/s]\u001b[A\n",
      " 11%|█         | 8/73 [00:02<00:18,  3.56it/s]\u001b[A\n",
      " 12%|█▏        | 9/73 [00:02<00:18,  3.42it/s]\u001b[A\n",
      " 14%|█▎        | 10/73 [00:02<00:18,  3.41it/s]\u001b[A\n",
      " 16%|█▋        | 12/73 [00:03<00:14,  4.20it/s]\u001b[A\n",
      " 18%|█▊        | 13/73 [00:03<00:14,  4.10it/s]\u001b[A\n",
      " 19%|█▉        | 14/73 [00:03<00:13,  4.53it/s]\u001b[A\n",
      " 21%|██        | 15/73 [00:03<00:14,  3.95it/s]\u001b[A\n",
      " 22%|██▏       | 16/73 [00:04<00:15,  3.58it/s]\u001b[A\n",
      " 23%|██▎       | 17/73 [00:04<00:14,  3.83it/s]\u001b[A\n",
      " 25%|██▍       | 18/73 [00:04<00:14,  3.84it/s]\u001b[A\n",
      " 26%|██▌       | 19/73 [00:04<00:13,  3.89it/s]\u001b[A\n",
      " 27%|██▋       | 20/73 [00:05<00:12,  4.29it/s]\u001b[A\n",
      " 29%|██▉       | 21/73 [00:05<00:11,  4.46it/s]\u001b[A\n",
      " 30%|███       | 22/73 [00:05<00:09,  5.19it/s]\u001b[A\n",
      " 32%|███▏      | 23/73 [00:05<00:08,  5.85it/s]\u001b[A\n",
      " 33%|███▎      | 24/73 [00:05<00:07,  6.27it/s]\u001b[A\n",
      " 34%|███▍      | 25/73 [00:05<00:08,  5.81it/s]\u001b[A\n",
      " 36%|███▌      | 26/73 [00:06<00:10,  4.59it/s]\u001b[A\n",
      " 37%|███▋      | 27/73 [00:06<00:10,  4.43it/s]\u001b[A\n",
      " 38%|███▊      | 28/73 [00:06<00:11,  3.79it/s]\u001b[A\n",
      " 40%|███▉      | 29/73 [00:07<00:11,  3.78it/s]\u001b[A\n",
      " 41%|████      | 30/73 [00:07<00:10,  4.02it/s]\u001b[A\n",
      " 42%|████▏     | 31/73 [00:07<00:10,  4.00it/s]\u001b[A\n",
      " 44%|████▍     | 32/73 [00:07<00:10,  3.85it/s]\u001b[A\n",
      " 45%|████▌     | 33/73 [00:08<00:12,  3.17it/s]\u001b[A\n",
      " 47%|████▋     | 34/73 [00:08<00:13,  2.85it/s]\u001b[A\n",
      " 48%|████▊     | 35/73 [00:08<00:10,  3.52it/s]\u001b[A\n",
      " 49%|████▉     | 36/73 [00:08<00:08,  4.20it/s]\u001b[A\n",
      " 52%|█████▏    | 38/73 [00:09<00:08,  4.27it/s]\u001b[A\n",
      " 53%|█████▎    | 39/73 [00:09<00:08,  4.22it/s]\u001b[A\n",
      " 55%|█████▍    | 40/73 [00:09<00:08,  3.86it/s]\u001b[A\n",
      " 56%|█████▌    | 41/73 [00:10<00:10,  3.13it/s]\u001b[A\n",
      " 58%|█████▊    | 42/73 [00:10<00:07,  3.94it/s]\u001b[A\n",
      " 59%|█████▉    | 43/73 [00:10<00:06,  4.52it/s]\u001b[A\n",
      " 60%|██████    | 44/73 [00:10<00:06,  4.40it/s]\u001b[A\n",
      " 62%|██████▏   | 45/73 [00:11<00:06,  4.20it/s]\u001b[A\n",
      " 63%|██████▎   | 46/73 [00:11<00:07,  3.74it/s]\u001b[A\n",
      " 64%|██████▍   | 47/73 [00:11<00:05,  4.48it/s]\u001b[A\n",
      " 66%|██████▌   | 48/73 [00:11<00:05,  4.93it/s]\u001b[A\n",
      " 67%|██████▋   | 49/73 [00:12<00:04,  4.80it/s]\u001b[A\n",
      " 68%|██████▊   | 50/73 [00:12<00:04,  4.63it/s]\u001b[A\n",
      " 70%|██████▉   | 51/73 [00:12<00:04,  4.68it/s]\u001b[A\n",
      " 71%|███████   | 52/73 [00:12<00:05,  4.04it/s]\u001b[A\n",
      " 73%|███████▎  | 53/73 [00:12<00:04,  4.87it/s]\u001b[A\n",
      " 74%|███████▍  | 54/73 [00:12<00:03,  5.75it/s]\u001b[A\n",
      " 75%|███████▌  | 55/73 [00:13<00:02,  6.32it/s]\u001b[A\n",
      " 77%|███████▋  | 56/73 [00:13<00:03,  5.05it/s]\u001b[A\n",
      " 79%|███████▉  | 58/73 [00:13<00:02,  5.88it/s]\u001b[A\n",
      " 81%|████████  | 59/73 [00:13<00:02,  5.31it/s]\u001b[A\n",
      " 82%|████████▏ | 60/73 [00:14<00:02,  4.52it/s]\u001b[A\n",
      " 84%|████████▎ | 61/73 [00:14<00:02,  4.01it/s]\u001b[A\n",
      " 85%|████████▍ | 62/73 [00:14<00:02,  4.59it/s]\u001b[A\n",
      " 86%|████████▋ | 63/73 [00:14<00:02,  3.78it/s]\u001b[A\n",
      " 88%|████████▊ | 64/73 [00:15<00:02,  4.18it/s]\u001b[A\n",
      " 89%|████████▉ | 65/73 [00:15<00:01,  4.74it/s]\u001b[A\n",
      " 90%|█████████ | 66/73 [00:15<00:01,  3.64it/s]\u001b[A\n",
      " 92%|█████████▏| 67/73 [00:15<00:01,  4.23it/s]\u001b[A\n",
      " 93%|█████████▎| 68/73 [00:16<00:01,  4.64it/s]\u001b[A\n",
      " 96%|█████████▌| 70/73 [00:16<00:00,  5.32it/s]\u001b[A\n",
      " 97%|█████████▋| 71/73 [00:16<00:00,  4.94it/s]\u001b[A\n",
      " 99%|█████████▊| 72/73 [00:16<00:00,  5.69it/s]\u001b[A\n",
      "100%|██████████| 73/73 [00:16<00:00,  4.31it/s]\u001b[A\n"
     ]
    }
   ],
   "source": [
    "negatives_ri3,neg_ri_agg3 = computeRi(improved3.classifier,\n",
    "                                                    attributes,testneg3,0,aggregation_type='cosine')"
   ]
  },
  {
   "cell_type": "code",
   "execution_count": 29,
   "metadata": {
    "ExecuteTime": {
     "end_time": "2020-03-01T16:33:43.791673Z",
     "start_time": "2020-03-01T16:33:43.507397Z"
    }
   },
   "outputs": [
    {
     "data": {
      "text/plain": [
       "<matplotlib.axes._subplots.AxesSubplot at 0x7fe387877588>"
      ]
     },
     "execution_count": 29,
     "metadata": {},
     "output_type": "execute_result"
    },
    {
     "data": {
      "image/png": "[encoded data removed]",
      "text/plain": [
       "<Figure size 432x288 with 1 Axes>"
      ]
     },
     "metadata": {
      "needs_background": "light"
     },
     "output_type": "display_data"
    }
   ],
   "source": [
    "neg_ri_agg3.drop(['sample_id'],axis=1).mean().plot.bar(color='red')"
   ]
  },
  {
   "cell_type": "code",
   "execution_count": 33,
   "metadata": {
    "ExecuteTime": {
     "end_time": "2020-03-01T16:35:23.902823Z",
     "start_time": "2020-03-01T16:35:16.039695Z"
    }
   },
   "outputs": [
    {
     "name": "stderr",
     "output_type": "stream",
     "text": [
      "\n",
      "  0%|          | 0/25 [00:00<?, ?it/s]\u001b[A\n",
      "  4%|▍         | 1/25 [00:00<00:14,  1.67it/s]\u001b[A\n",
      "  8%|▊         | 2/25 [00:00<00:11,  1.96it/s]\u001b[A\n",
      " 12%|█▏        | 3/25 [00:01<00:09,  2.29it/s]\u001b[A\n",
      " 16%|█▌        | 4/25 [00:01<00:09,  2.15it/s]\u001b[A\n",
      " 20%|██        | 5/25 [00:02<00:09,  2.22it/s]\u001b[A\n",
      " 24%|██▍       | 6/25 [00:02<00:07,  2.41it/s]\u001b[A\n",
      " 28%|██▊       | 7/25 [00:02<00:06,  2.93it/s]\u001b[A\n",
      " 32%|███▏      | 8/25 [00:03<00:06,  2.68it/s]\u001b[A\n",
      " 36%|███▌      | 9/25 [00:03<00:06,  2.62it/s]\u001b[A\n",
      " 40%|████      | 10/25 [00:03<00:04,  3.22it/s]\u001b[A\n",
      " 44%|████▍     | 11/25 [00:03<00:04,  3.21it/s]\u001b[A\n",
      " 48%|████▊     | 12/25 [00:04<00:03,  3.59it/s]\u001b[A\n",
      " 52%|█████▏    | 13/25 [00:04<00:03,  3.41it/s]\u001b[A\n",
      " 56%|█████▌    | 14/25 [00:04<00:03,  3.24it/s]\u001b[A\n",
      " 60%|██████    | 15/25 [00:05<00:02,  3.34it/s]\u001b[A\n",
      " 64%|██████▍   | 16/25 [00:05<00:02,  4.03it/s]\u001b[A\n",
      " 68%|██████▊   | 17/25 [00:05<00:01,  4.40it/s]\u001b[A\n",
      " 72%|███████▏  | 18/25 [00:05<00:01,  3.97it/s]\u001b[A\n",
      " 76%|███████▌  | 19/25 [00:05<00:01,  3.90it/s]\u001b[A\n",
      " 80%|████████  | 20/25 [00:06<00:01,  3.31it/s]\u001b[A\n",
      " 84%|████████▍ | 21/25 [00:06<00:01,  3.44it/s]\u001b[A\n",
      " 88%|████████▊ | 22/25 [00:06<00:00,  3.60it/s]\u001b[A\n",
      " 92%|█████████▏| 23/25 [00:07<00:00,  3.47it/s]\u001b[A\n",
      " 96%|█████████▌| 24/25 [00:07<00:00,  3.32it/s]\u001b[A\n",
      "100%|██████████| 25/25 [00:07<00:00,  3.22it/s]\u001b[A\n"
     ]
    }
   ],
   "source": [
    "positives_ri3,pos_ri_agg3 = computeRi(improved3.classifier,\n",
    "                                                    attributes,testpos3,1,aggregation_type='cosine')"
   ]
  },
  {
   "cell_type": "code",
   "execution_count": 36,
   "metadata": {
    "ExecuteTime": {
     "end_time": "2020-03-01T16:36:39.072994Z",
     "start_time": "2020-03-01T16:36:38.784375Z"
    }
   },
   "outputs": [
    {
     "data": {
      "text/plain": [
       "<matplotlib.axes._subplots.AxesSubplot at 0x7fe38655cc50>"
      ]
     },
     "execution_count": 36,
     "metadata": {},
     "output_type": "execute_result"
    },
    {
     "data": {
      "image/png": "[encoded data removed]",
      "text/plain": [
       "<Figure size 432x288 with 1 Axes>"
      ]
     },
     "metadata": {
      "needs_background": "light"
     },
     "output_type": "display_data"
    }
   ],
   "source": [
    "pos_ri_agg3.drop(['sample_id'],axis=1).mean().plot.bar(color='green')"
   ]
  },
  {
   "cell_type": "code",
   "execution_count": null,
   "metadata": {},
   "outputs": [],
   "source": []
  }
 ],
 "metadata": {
  "kernelspec": {
   "display_name": "Python 3",
   "language": "python",
   "name": "python3"
  },
  "language_info": {
   "codemirror_mode": {
    "name": "ipython",
    "version": 3
   },
   "file_extension": ".py",
   "mimetype": "text/x-python",
   "name": "python",
   "nbconvert_exporter": "python",
   "pygments_lexer": "ipython3",
   "version": "3.6.10"
  },
  "toc": {
   "base_numbering": 1,
   "nav_menu": {},
   "number_sections": true,
   "sideBar": true,
   "skip_h1_title": false,
   "title_cell": "Table of Contents",
   "title_sidebar": "Contents",
   "toc_cell": false,
   "toc_position": {},
   "toc_section_display": true,
   "toc_window_display": true
  }
 },
 "nbformat": 4,
 "nbformat_minor": 4
}

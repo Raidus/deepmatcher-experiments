{
 "cells": [
  {
   "cell_type": "code",
   "execution_count": 1,
   "metadata": {},
   "outputs": [],
   "source": [
    "%load_ext autoreload\n",
    "%autoreload 2"
   ]
  },
  {
   "cell_type": "code",
   "execution_count": 2,
   "metadata": {},
   "outputs": [],
   "source": [
    "import sys\n",
    "sys.path.append('../..')"
   ]
  },
  {
   "cell_type": "code",
   "execution_count": 3,
   "metadata": {},
   "outputs": [],
   "source": [
    "import deepmatcher as dm\n",
    "from utilities_functions.intermediate_layer_extraction import return_layer_input_output,return_layer_input\n",
    "import torch\n",
    "import pandas as pd\n",
    "from torch.autograd import Variable"
   ]
  },
  {
   "cell_type": "code",
   "execution_count": 4,
   "metadata": {},
   "outputs": [],
   "source": [
    "hybrid_model = dm.MatchingModel(attr_summarizer='hybrid')\n",
    "hybrid_model.load_state('../../models/itunes_amazon_hybrid.pth')\n",
    "#hybrid_model = hybrid_model.cuda()"
   ]
  },
  {
   "cell_type": "markdown",
   "metadata": {},
   "source": [
    "## Datasets creation"
   ]
  },
  {
   "cell_type": "code",
   "execution_count": 5,
   "metadata": {},
   "outputs": [],
   "source": [
    "attributes = ['Song_Name','Artist_Name','Album_Name','Genre','Price','CopyRight','Time','Released']"
   ]
  },
  {
   "cell_type": "code",
   "execution_count": 6,
   "metadata": {},
   "outputs": [],
   "source": [
    "neg_classifier_inputs,neg_ids = return_layer_input('../../Structured/itunes-amazon'\n",
    "                                                                         ,'negatives',128,hybrid_model,\n",
    "                                                                        hybrid_model.classifier,device=-1)"
   ]
  },
  {
   "cell_type": "code",
   "execution_count": 47,
   "metadata": {},
   "outputs": [],
   "source": [
    "pos_classifier_inputs,pos_ids = return_layer_input('../../Structured/itunes-amazon/',\n",
    "                                                                       'positives',128,hybrid_model,\n",
    "                                                                       hybrid_model.classifier,device=-1)"
   ]
  },
  {
   "cell_type": "code",
   "execution_count": 48,
   "metadata": {},
   "outputs": [],
   "source": [
    "hybrid_model = hybrid_model.cuda()"
   ]
  },
  {
   "cell_type": "markdown",
   "metadata": {},
   "source": [
    "## Utility methods"
   ]
  },
  {
   "cell_type": "code",
   "execution_count": 12,
   "metadata": {},
   "outputs": [],
   "source": [
    "from utilities_functions.ri_calculator import find_smallest_variation_to_change_v1"
   ]
  },
  {
   "cell_type": "markdown",
   "metadata": {},
   "source": [
    "## Negative sample analysis"
   ]
  },
  {
   "cell_type": "code",
   "execution_count": 13,
   "metadata": {},
   "outputs": [],
   "source": [
    "from tqdm import tqdm"
   ]
  },
  {
   "cell_type": "code",
   "execution_count": 42,
   "metadata": {},
   "outputs": [
    {
     "name": "stderr",
     "output_type": "stream",
     "text": [
      "100%|██████████| 23/23 [00:04<00:00,  3.89it/s]\n",
      "100%|██████████| 128/128 [00:25<00:00,  4.76it/s]\n",
      "100%|██████████| 128/128 [00:27<00:00,  4.61it/s]\n",
      "100%|██████████| 128/128 [00:26<00:00,  5.26it/s]\n"
     ]
    }
   ],
   "source": [
    "current_sample = 0\n",
    "#each column of this matrix is related to a specific attribute\n",
    "negatives_ri_hybrid = []\n",
    "for batch in neg_classifier_inputs:\n",
    "    for sample_index in tqdm(range(len(batch))):\n",
    "        current_sample_ris = list(map(lambda att: find_smallest_variation_to_change_v1(hybrid_model.classifier,\n",
    "                                                                                    classifier_length=1200,\n",
    "                                                                                    attribute_length=150,\n",
    "                                                                                    input_matrix=batch,\n",
    "                                                                                    vector_index=sample_index,\n",
    "                                                                                    attributes=[attributes.index(att)]\n",
    "                                                                                    ,class_to_reach=1),attributes))\n",
    "        negatives_ri_hybrid.append(current_sample_ris)\n",
    "        current_sample+=1"
   ]
  },
  {
   "cell_type": "code",
   "execution_count": 43,
   "metadata": {},
   "outputs": [
    {
     "data": {
      "text/plain": [
       "<matplotlib.axes._subplots.AxesSubplot at 0x7f42a99c7e48>"
      ]
     },
     "execution_count": 43,
     "metadata": {},
     "output_type": "execute_result"
    },
    {
     "data": {
      "image/png": "[encoded data removed]",
      "text/plain": [
       "<Figure size 432x288 with 1 Axes>"
      ]
     },
     "metadata": {
      "needs_background": "light"
     },
     "output_type": "display_data"
    }
   ],
   "source": [
    "ri_norms_negative_samples = []\n",
    "for ri_list in negatives_ri_hybrid:\n",
    "    ri_norms_negative_samples.append(list(map(lambda x:torch.norm(x).data[0],ri_list)))\n",
    "neg_variation_df = pd.DataFrame(data= ri_norms_negative_samples,columns=attributes)\n",
    "neg_variation_df.sum().plot.bar()"
   ]
  },
  {
   "cell_type": "code",
   "execution_count": 17,
   "metadata": {},
   "outputs": [],
   "source": [
    "neg_variation_df.to_csv('experiments-results/exp3/negatives_ri_v1.csv',index=False)"
   ]
  },
  {
   "cell_type": "markdown",
   "metadata": {},
   "source": [
    "## Positive samples analisys"
   ]
  },
  {
   "cell_type": "code",
   "execution_count": 49,
   "metadata": {},
   "outputs": [
    {
     "name": "stderr",
     "output_type": "stream",
     "text": [
      "100%|██████████| 128/128 [00:27<00:00,  4.22it/s]\n",
      "100%|██████████| 4/4 [00:00<00:00,  6.12it/s]\n"
     ]
    }
   ],
   "source": [
    "current_sample = 0\n",
    "#each column of this matrix is related to a specific attribute\n",
    "positives_ri_hybrid = []\n",
    "for batch in pos_classifier_inputs:\n",
    "    for sample_index in tqdm(range(len(batch))):\n",
    "        current_sample_ris = list(map(lambda att: find_smallest_variation_to_change_v1(hybrid_model.classifier,\n",
    "                                                                                    classifier_length=1200,\n",
    "                                                                                    attribute_length=150,\n",
    "                                                                                    input_matrix=batch,\n",
    "                                                                                    vector_index=sample_index,\n",
    "                                                                                    attributes=[attributes.index(att)]\n",
    "                                                                                    ,class_to_reach=0),attributes))\n",
    "        positives_ri_hybrid.append(current_sample_ris)\n",
    "        current_sample+=1"
   ]
  },
  {
   "cell_type": "code",
   "execution_count": 50,
   "metadata": {},
   "outputs": [
    {
     "data": {
      "text/plain": [
       "<matplotlib.axes._subplots.AxesSubplot at 0x7f42a8c5b240>"
      ]
     },
     "execution_count": 50,
     "metadata": {},
     "output_type": "execute_result"
    },
    {
     "data": {
      "image/png": "[encoded data removed]",
      "text/plain": [
       "<Figure size 432x288 with 1 Axes>"
      ]
     },
     "metadata": {
      "needs_background": "light"
     },
     "output_type": "display_data"
    }
   ],
   "source": [
    "ri_norms_pos = []\n",
    "for ri_list in positives_ri_hybrid:\n",
    "    ri_norms_pos.append(list(map(lambda x:torch.norm(x).data[0],ri_list)))\n",
    "pos_variation_df = pd.DataFrame(data= ri_norms_pos,columns=attributes)\n",
    "pos_variation_df.sum().plot.bar()"
   ]
  },
  {
   "cell_type": "code",
   "execution_count": 20,
   "metadata": {},
   "outputs": [],
   "source": [
    "pos_variation_df.to_csv('experiments-results/exp3/positives_ri_v1.csv',index=False)"
   ]
  },
  {
   "cell_type": "markdown",
   "metadata": {},
   "source": [
    "## Rnn model Evaluation"
   ]
  },
  {
   "cell_type": "code",
   "execution_count": 33,
   "metadata": {},
   "outputs": [],
   "source": [
    "rnn_model = dm.MatchingModel(attr_summarizer='rnn')\n",
    "rnn_model.load_state('../../models/itunes_amazon_rnn.pth')"
   ]
  },
  {
   "cell_type": "markdown",
   "metadata": {},
   "source": [
    "### Dataset creation"
   ]
  },
  {
   "cell_type": "code",
   "execution_count": 22,
   "metadata": {},
   "outputs": [],
   "source": [
    "neg_classifier_inputs_rnn,neg_ids_rnn = return_layer_input('../../Structured/itunes-amazon'\n",
    "                                                                         ,'negatives',128,rnn_model,\n",
    "                                                                        rnn_model.classifier,device=-1)"
   ]
  },
  {
   "cell_type": "code",
   "execution_count": 34,
   "metadata": {},
   "outputs": [],
   "source": [
    "pos_classifier_inputs_rnn,pos_ids_rnn = return_layer_input('../../Structured/itunes-amazon/',\n",
    "                                                                       'positives',128,rnn_model,\n",
    "                                                                       rnn_model.classifier,device=-1)"
   ]
  },
  {
   "cell_type": "code",
   "execution_count": 35,
   "metadata": {},
   "outputs": [],
   "source": [
    "rnn_model = rnn_model.cuda()"
   ]
  },
  {
   "cell_type": "markdown",
   "metadata": {},
   "source": [
    "### Negative analysis"
   ]
  },
  {
   "cell_type": "code",
   "execution_count": 28,
   "metadata": {},
   "outputs": [],
   "source": [
    "classifier_length = len(neg_classifier_inputs_rnn[0][0])\n",
    "attribute_length = int(classifier_length/len(attributes))"
   ]
  },
  {
   "cell_type": "code",
   "execution_count": 29,
   "metadata": {},
   "outputs": [
    {
     "name": "stderr",
     "output_type": "stream",
     "text": [
      "100%|██████████| 23/23 [00:01<00:00, 11.94it/s]\n",
      "100%|██████████| 128/128 [00:10<00:00, 10.86it/s]\n",
      "100%|██████████| 128/128 [00:08<00:00, 15.25it/s]\n",
      "100%|██████████| 128/128 [00:08<00:00, 15.73it/s]\n"
     ]
    }
   ],
   "source": [
    "current_sample = 0\n",
    "#each column of this matrix is related to a specific attribute\n",
    "negatives_ri = []\n",
    "for batch in neg_classifier_inputs_rnn:\n",
    "    for sample_index in tqdm(range(len(batch))):\n",
    "        current_sample_ris = list(map(lambda att: find_smallest_variation_to_change_v1(rnn_model.classifier,\n",
    "                                                                                    classifier_length=classifier_length,\n",
    "                                                                                    attribute_length=attribute_length,\n",
    "                                                                                    input_matrix=batch,\n",
    "                                                                                    vector_index=sample_index,\n",
    "                                                                                    attributes=[attributes.index(att)]\n",
    "                                                                                    ,class_to_reach=1),attributes))\n",
    "        negatives_ri.append(current_sample_ris)\n",
    "        current_sample+=1"
   ]
  },
  {
   "cell_type": "code",
   "execution_count": 30,
   "metadata": {},
   "outputs": [
    {
     "data": {
      "text/plain": [
       "<matplotlib.axes._subplots.AxesSubplot at 0x7f42a9306358>"
      ]
     },
     "execution_count": 30,
     "metadata": {},
     "output_type": "execute_result"
    },
    {
     "data": {
      "image/png": "[encoded data removed]",
      "text/plain": [
       "<Figure size 432x288 with 1 Axes>"
      ]
     },
     "metadata": {
      "needs_background": "light"
     },
     "output_type": "display_data"
    }
   ],
   "source": [
    "ri_norms_negative_samples = []\n",
    "for ri_list in negatives_ri:\n",
    "    ri_norms_negative_samples.append(list(map(lambda x:torch.norm(x).data[0],ri_list)))\n",
    "neg_variation_df = pd.DataFrame(data= ri_norms_negative_samples,columns=attributes)\n",
    "neg_variation_df.sum().plot.bar()"
   ]
  },
  {
   "cell_type": "code",
   "execution_count": 38,
   "metadata": {},
   "outputs": [],
   "source": [
    "neg_variation_df.to_csv('experiments-results/exp3/negatives_ri_rnn.csv',index=False)"
   ]
  },
  {
   "cell_type": "markdown",
   "metadata": {},
   "source": [
    "### Positives analysis"
   ]
  },
  {
   "cell_type": "code",
   "execution_count": 36,
   "metadata": {},
   "outputs": [
    {
     "name": "stderr",
     "output_type": "stream",
     "text": [
      "100%|██████████| 128/128 [00:17<00:00,  7.19it/s]\n",
      "100%|██████████| 4/4 [00:00<00:00, 10.06it/s]\n"
     ]
    }
   ],
   "source": [
    "current_sample = 0\n",
    "#each column of this matrix is related to a specific attribute\n",
    "positives_ri = []\n",
    "for batch in pos_classifier_inputs_rnn:\n",
    "    for sample_index in tqdm(range(len(batch))):\n",
    "        current_sample_ris = list(map(lambda att: find_smallest_variation_to_change_v1(rnn_model.classifier,\n",
    "                                                                                    classifier_length=classifier_length,\n",
    "                                                                                    attribute_length=attribute_length,\n",
    "                                                                                    input_matrix=batch,\n",
    "                                                                                    vector_index=sample_index,\n",
    "                                                                                    attributes=[attributes.index(att)]\n",
    "                                                                                    ,class_to_reach=0),attributes))\n",
    "        positives_ri.append(current_sample_ris)\n",
    "        current_sample+=1"
   ]
  },
  {
   "cell_type": "code",
   "execution_count": 37,
   "metadata": {},
   "outputs": [
    {
     "data": {
      "text/plain": [
       "<matplotlib.axes._subplots.AxesSubplot at 0x7f42a9b36710>"
      ]
     },
     "execution_count": 37,
     "metadata": {},
     "output_type": "execute_result"
    },
    {
     "data": {
      "image/png": "[encoded data removed]",
      "text/plain": [
       "<Figure size 432x288 with 1 Axes>"
      ]
     },
     "metadata": {
      "needs_background": "light"
     },
     "output_type": "display_data"
    }
   ],
   "source": [
    "ri_norms_pos = []\n",
    "for ri_list in positives_ri:\n",
    "    ri_norms_pos.append(list(map(lambda x:torch.norm(x).data[0],ri_list)))\n",
    "pos_variation_df = pd.DataFrame(data= ri_norms_pos,columns=attributes)\n",
    "pos_variation_df.sum().plot.bar()"
   ]
  },
  {
   "cell_type": "code",
   "execution_count": 40,
   "metadata": {},
   "outputs": [],
   "source": [
    "pos_variation_df.to_csv('experiments-results/exp3/positives_ri_rnn.csv',index=False)"
   ]
  },
  {
   "cell_type": "markdown",
   "metadata": {},
   "source": [
    "## Finding closer vectors"
   ]
  },
  {
   "cell_type": "code",
   "execution_count": 157,
   "metadata": {},
   "outputs": [],
   "source": [
    "from utilities_functions.distance_measures import nearest_neighbor,nearest_neighbor_onAttribute"
   ]
  },
  {
   "cell_type": "code",
   "execution_count": 158,
   "metadata": {},
   "outputs": [
    {
     "name": "stderr",
     "output_type": "stream",
     "text": [
      "100%|██████████| 23/23 [00:02<00:00,  8.16it/s]\n",
      "100%|██████████| 128/128 [00:16<00:00,  7.99it/s]\n",
      "100%|██████████| 128/128 [00:16<00:00,  7.81it/s]\n",
      "100%|██████████| 128/128 [00:16<00:00,  7.98it/s]\n"
     ]
    }
   ],
   "source": [
    "#lista di tuple: vettore più vicino considerando tutti gli elementi e closer solo secondo un attributo\n",
    "negatives_closer_vectors = []\n",
    "i = 0\n",
    "for batch in neg_classifier_inputs:\n",
    "    for sample in tqdm(batch):\n",
    "        current_sample_closer_vectors = list(map(lambda att: nearest_neighbor_onAttribute\n",
    "                                                 (sample+negatives_ri_hybrid[i][attributes.index(att)]\n",
    "                                                                ,pos_classifier_inputs,attributes.index(att),\n",
    "                                                                150,'euclidean'),attributes))\n",
    "        negatives_closer_vectors.append(current_sample_closer_vectors)\n",
    "        i += 1 "
   ]
  },
  {
   "cell_type": "code",
   "execution_count": 176,
   "metadata": {},
   "outputs": [
    {
     "name": "stderr",
     "output_type": "stream",
     "text": [
      "\n",
      "  0%|          | 0/128 [00:00<?, ?it/s]\u001b[A\n",
      "  1%|          | 1/128 [00:00<00:59,  2.12it/s]\u001b[A\n",
      "  2%|▏         | 2/128 [00:00<01:00,  2.09it/s]\u001b[A\n",
      "  2%|▏         | 3/128 [00:01<00:59,  2.10it/s]\u001b[A\n",
      "  3%|▎         | 4/128 [00:01<00:58,  2.12it/s]\u001b[A\n",
      "  4%|▍         | 5/128 [00:02<00:57,  2.13it/s]\u001b[A\n",
      "  5%|▍         | 6/128 [00:02<00:56,  2.14it/s]\u001b[A\n",
      "  5%|▌         | 7/128 [00:03<00:56,  2.15it/s]\u001b[A\n",
      "  6%|▋         | 8/128 [00:03<00:55,  2.15it/s]\u001b[A\n",
      "  7%|▋         | 9/128 [00:04<00:55,  2.15it/s]\u001b[A\n",
      "  8%|▊         | 10/128 [00:04<00:54,  2.16it/s]\u001b[A\n",
      "  9%|▊         | 11/128 [00:05<00:54,  2.16it/s]\u001b[A\n",
      "  9%|▉         | 12/128 [00:05<00:53,  2.16it/s]\u001b[A\n",
      " 10%|█         | 13/128 [00:06<00:53,  2.16it/s]\u001b[A\n",
      " 11%|█         | 14/128 [00:06<00:52,  2.17it/s]\u001b[A\n",
      " 12%|█▏        | 15/128 [00:06<00:52,  2.16it/s]\u001b[A\n",
      " 12%|█▎        | 16/128 [00:07<00:51,  2.16it/s]\u001b[A\n",
      " 13%|█▎        | 17/128 [00:07<00:52,  2.13it/s]\u001b[A\n",
      " 14%|█▍        | 18/128 [00:08<00:52,  2.08it/s]\u001b[A\n",
      " 15%|█▍        | 19/128 [00:08<00:52,  2.07it/s]\u001b[A\n",
      " 16%|█▌        | 20/128 [00:09<00:53,  2.03it/s]\u001b[A\n",
      " 16%|█▋        | 21/128 [00:09<00:53,  1.99it/s]\u001b[A\n",
      " 17%|█▋        | 22/128 [00:10<00:52,  2.02it/s]\u001b[A\n",
      " 18%|█▊        | 23/128 [00:10<00:51,  2.03it/s]\u001b[A\n",
      " 19%|█▉        | 24/128 [00:11<00:50,  2.04it/s]\u001b[A\n",
      " 20%|█▉        | 25/128 [00:11<00:49,  2.06it/s]\u001b[A\n",
      " 20%|██        | 26/128 [00:12<00:48,  2.09it/s]\u001b[A\n",
      " 21%|██        | 27/128 [00:12<00:49,  2.02it/s]\u001b[A\n",
      " 22%|██▏       | 28/128 [00:13<00:49,  2.00it/s]\u001b[A\n",
      " 23%|██▎       | 29/128 [00:13<00:51,  1.93it/s]\u001b[A\n",
      " 23%|██▎       | 30/128 [00:14<00:51,  1.90it/s]\u001b[A\n",
      " 24%|██▍       | 31/128 [00:15<00:53,  1.82it/s]\u001b[A\n",
      " 25%|██▌       | 32/128 [00:15<00:51,  1.86it/s]\u001b[A\n",
      " 26%|██▌       | 33/128 [00:16<00:51,  1.84it/s]\u001b[A\n",
      " 27%|██▋       | 34/128 [00:16<00:51,  1.83it/s]\u001b[A\n",
      " 27%|██▋       | 35/128 [00:17<00:50,  1.83it/s]\u001b[A\n",
      " 28%|██▊       | 36/128 [00:17<00:50,  1.82it/s]\u001b[A\n",
      " 29%|██▉       | 37/128 [00:18<00:48,  1.89it/s]\u001b[A\n",
      " 30%|██▉       | 38/128 [00:18<00:48,  1.87it/s]\u001b[A\n",
      " 30%|███       | 39/128 [00:19<00:48,  1.84it/s]\u001b[A\n",
      " 31%|███▏      | 40/128 [00:20<00:49,  1.78it/s]\u001b[A\n",
      " 32%|███▏      | 41/128 [00:20<00:50,  1.74it/s]\u001b[A\n",
      " 33%|███▎      | 42/128 [00:21<00:49,  1.72it/s]\u001b[A\n",
      " 34%|███▎      | 43/128 [00:21<00:52,  1.61it/s]\u001b[A\n",
      " 34%|███▍      | 44/128 [00:22<00:52,  1.61it/s]\u001b[A\n",
      " 35%|███▌      | 45/128 [00:23<00:50,  1.64it/s]\u001b[A\n",
      " 36%|███▌      | 46/128 [00:23<00:48,  1.70it/s]\u001b[A\n",
      " 37%|███▋      | 47/128 [00:24<00:46,  1.73it/s]\u001b[A\n",
      " 38%|███▊      | 48/128 [00:24<00:45,  1.78it/s]\u001b[A\n",
      " 38%|███▊      | 49/128 [00:25<00:43,  1.83it/s]\u001b[A\n",
      " 39%|███▉      | 50/128 [00:25<00:42,  1.83it/s]\u001b[A\n",
      " 40%|███▉      | 51/128 [00:26<00:41,  1.84it/s]\u001b[A\n",
      " 41%|████      | 52/128 [00:26<00:40,  1.87it/s]\u001b[A\n",
      " 41%|████▏     | 53/128 [00:27<00:38,  1.93it/s]\u001b[A\n",
      " 42%|████▏     | 54/128 [00:27<00:37,  1.98it/s]\u001b[A\n",
      " 43%|████▎     | 55/128 [00:28<00:36,  2.00it/s]\u001b[A\n",
      " 44%|████▍     | 56/128 [00:28<00:35,  2.03it/s]\u001b[A\n",
      " 45%|████▍     | 57/128 [00:29<00:34,  2.04it/s]\u001b[A\n",
      " 45%|████▌     | 58/128 [00:29<00:33,  2.06it/s]\u001b[A\n",
      " 46%|████▌     | 59/128 [00:30<00:33,  2.08it/s]\u001b[A\n",
      " 47%|████▋     | 60/128 [00:30<00:32,  2.10it/s]\u001b[A\n",
      " 48%|████▊     | 61/128 [00:31<00:32,  2.06it/s]\u001b[A\n",
      " 48%|████▊     | 62/128 [00:31<00:32,  2.01it/s]\u001b[A\n",
      " 49%|████▉     | 63/128 [00:32<00:31,  2.05it/s]\u001b[A\n",
      " 50%|█████     | 64/128 [00:32<00:30,  2.08it/s]\u001b[A\n",
      " 51%|█████     | 65/128 [00:33<00:30,  2.09it/s]\u001b[A\n",
      " 52%|█████▏    | 66/128 [00:33<00:29,  2.12it/s]\u001b[A\n",
      " 52%|█████▏    | 67/128 [00:34<00:28,  2.14it/s]\u001b[A\n",
      " 53%|█████▎    | 68/128 [00:34<00:27,  2.15it/s]\u001b[A\n",
      " 54%|█████▍    | 69/128 [00:34<00:27,  2.15it/s]\u001b[A\n",
      " 55%|█████▍    | 70/128 [00:35<00:27,  2.14it/s]\u001b[A\n",
      " 55%|█████▌    | 71/128 [00:35<00:26,  2.15it/s]\u001b[A\n",
      " 56%|█████▋    | 72/128 [00:36<00:26,  2.15it/s]\u001b[A\n",
      " 57%|█████▋    | 73/128 [00:36<00:25,  2.15it/s]\u001b[A\n",
      " 58%|█████▊    | 74/128 [00:37<00:25,  2.15it/s]\u001b[A\n",
      " 59%|█████▊    | 75/128 [00:37<00:24,  2.15it/s]\u001b[A\n",
      " 59%|█████▉    | 76/128 [00:38<00:24,  2.13it/s]\u001b[A\n",
      " 60%|██████    | 77/128 [00:38<00:24,  2.11it/s]\u001b[A\n",
      " 61%|██████    | 78/128 [00:39<00:23,  2.10it/s]\u001b[A\n",
      " 62%|██████▏   | 79/128 [00:39<00:23,  2.11it/s]\u001b[A\n",
      " 62%|██████▎   | 80/128 [00:40<00:22,  2.12it/s]\u001b[A\n",
      " 63%|██████▎   | 81/128 [00:40<00:22,  2.13it/s]\u001b[A\n",
      " 64%|██████▍   | 82/128 [00:41<00:21,  2.13it/s]\u001b[A\n",
      " 65%|██████▍   | 83/128 [00:41<00:21,  2.13it/s]\u001b[A\n",
      " 66%|██████▌   | 84/128 [00:42<00:21,  2.08it/s]\u001b[A\n",
      " 66%|██████▋   | 85/128 [00:42<00:21,  1.97it/s]\u001b[A\n",
      " 67%|██████▋   | 86/128 [00:43<00:21,  1.95it/s]\u001b[A\n",
      " 68%|██████▊   | 87/128 [00:43<00:21,  1.92it/s]\u001b[A\n",
      " 69%|██████▉   | 88/128 [00:44<00:20,  1.93it/s]\u001b[A\n",
      " 70%|██████▉   | 89/128 [00:44<00:20,  1.94it/s]\u001b[A\n",
      " 70%|███████   | 90/128 [00:45<00:19,  1.95it/s]\u001b[A\n",
      " 71%|███████   | 91/128 [00:45<00:18,  1.95it/s]\u001b[A\n",
      " 72%|███████▏  | 92/128 [00:46<00:18,  1.92it/s]\u001b[A\n",
      " 73%|███████▎  | 93/128 [00:46<00:18,  1.89it/s]\u001b[A\n",
      " 73%|███████▎  | 94/128 [00:47<00:18,  1.87it/s]\u001b[A\n",
      " 74%|███████▍  | 95/128 [00:47<00:17,  1.85it/s]\u001b[A\n",
      " 75%|███████▌  | 96/128 [00:48<00:16,  1.91it/s]\u001b[A\n",
      " 76%|███████▌  | 97/128 [00:48<00:16,  1.93it/s]\u001b[A\n",
      " 77%|███████▋  | 98/128 [00:49<00:15,  1.91it/s]\u001b[A\n",
      " 77%|███████▋  | 99/128 [00:49<00:15,  1.92it/s]\u001b[A\n",
      " 78%|███████▊  | 100/128 [00:50<00:14,  1.92it/s]\u001b[A\n",
      " 79%|███████▉  | 101/128 [00:51<00:14,  1.89it/s]\u001b[A\n",
      " 80%|███████▉  | 102/128 [00:51<00:13,  1.90it/s]\u001b[A\n",
      " 80%|████████  | 103/128 [00:52<00:13,  1.85it/s]\u001b[A\n",
      " 81%|████████▏ | 104/128 [00:52<00:13,  1.83it/s]\u001b[A\n",
      " 82%|████████▏ | 105/128 [00:53<00:12,  1.87it/s]\u001b[A\n",
      " 83%|████████▎ | 106/128 [00:53<00:11,  1.92it/s]\u001b[A\n",
      " 84%|████████▎ | 107/128 [00:54<00:10,  1.92it/s]\u001b[A\n",
      " 84%|████████▍ | 108/128 [00:54<00:10,  1.88it/s]\u001b[A\n",
      " 85%|████████▌ | 109/128 [00:55<00:10,  1.90it/s]\u001b[A\n",
      " 86%|████████▌ | 110/128 [00:55<00:09,  1.92it/s]\u001b[A\n",
      " 87%|████████▋ | 111/128 [00:56<00:08,  1.90it/s]\u001b[A\n",
      " 88%|████████▊ | 112/128 [00:56<00:08,  1.93it/s]\u001b[A\n",
      " 88%|████████▊ | 113/128 [00:57<00:07,  1.92it/s]\u001b[A\n",
      " 89%|████████▉ | 114/128 [00:57<00:07,  1.94it/s]\u001b[A\n",
      " 90%|████████▉ | 115/128 [00:58<00:06,  1.93it/s]\u001b[A\n",
      " 91%|█████████ | 116/128 [00:58<00:06,  1.90it/s]\u001b[A\n",
      " 91%|█████████▏| 117/128 [00:59<00:05,  1.96it/s]\u001b[A\n",
      " 92%|█████████▏| 118/128 [00:59<00:05,  1.99it/s]\u001b[A\n",
      " 93%|█████████▎| 119/128 [01:00<00:04,  1.98it/s]\u001b[A\n",
      " 94%|█████████▍| 120/128 [01:00<00:03,  2.01it/s]\u001b[A\n",
      " 95%|█████████▍| 121/128 [01:01<00:03,  2.02it/s]\u001b[A\n",
      " 95%|█████████▌| 122/128 [01:01<00:02,  2.02it/s]\u001b[A\n",
      " 96%|█████████▌| 123/128 [01:02<00:02,  2.02it/s]\u001b[A\n",
      " 97%|█████████▋| 124/128 [01:02<00:01,  2.04it/s]\u001b[A\n",
      " 98%|█████████▊| 125/128 [01:03<00:01,  2.00it/s]\u001b[A\n",
      " 98%|█████████▊| 126/128 [01:03<00:01,  1.96it/s]\u001b[A\n",
      " 99%|█████████▉| 127/128 [01:04<00:00,  1.92it/s]\u001b[A\n",
      "100%|██████████| 128/128 [01:04<00:00,  1.94it/s]\u001b[A\n",
      "  0%|          | 0/4 [00:00<?, ?it/s]\u001b[A\n",
      " 25%|██▌       | 1/4 [00:00<00:01,  2.00it/s]\u001b[A\n",
      " 50%|█████     | 2/4 [00:01<00:01,  1.86it/s]\u001b[A\n",
      " 75%|███████▌  | 3/4 [00:01<00:00,  1.81it/s]\u001b[A\n",
      "100%|██████████| 4/4 [00:02<00:00,  1.81it/s]\u001b[A"
     ]
    }
   ],
   "source": [
    "# per ogni attributo trovo il più vicino\n",
    "positives_closer_vectors = []\n",
    "i = 0\n",
    "for batch in pos_classifier_inputs:\n",
    "    for sample in tqdm(batch):\n",
    "        current_sample_closer_vectors = list(map(lambda att: nearest_neighbor_onAttribute\n",
    "                                                 (sample+positives_ri_hybrid[i][attributes.index(att)]\n",
    "                                                                ,neg_classifier_inputs,attributes.index(att),\n",
    "                                                                150,'cosine'),attributes))\n",
    "        positives_closer_vectors.append(current_sample_closer_vectors)\n",
    "        i += 1 "
   ]
  },
  {
   "cell_type": "code",
   "execution_count": 178,
   "metadata": {},
   "outputs": [],
   "source": [
    "positives_closer_vectors_df = pd.DataFrame(data= positives_closer_vectors,columns =attributes)\n",
    "positives_closer_vectors_df = positives_closer_vectors_df.applymap(lambda c:neg_ids[c])\n",
    "negatives_closer_vectors_df = pd.DataFrame(data = negatives_closer_vectors, columns = attributes)\n",
    "negatives_closer_vectors_df = negatives_closer_vectors_df.applymap(lambda c: pos_ids[c])"
   ]
  },
  {
   "cell_type": "code",
   "execution_count": 179,
   "metadata": {},
   "outputs": [],
   "source": [
    "positives_closer_vectors_df['SampleID'] = pos_ids\n",
    "negatives_closer_vectors_df['SampleID'] = neg_ids"
   ]
  },
  {
   "cell_type": "code",
   "execution_count": 181,
   "metadata": {},
   "outputs": [],
   "source": [
    "positives_closer_vectors_df.to_csv('experiments-results/exp3/positives_v1_nn.csv',index=False)\n",
    "negatives_closer_vectors_df.to_csv('experiments-results/exp3/negatives_v1_nn.csv',index=False)"
   ]
  },
  {
   "cell_type": "markdown",
   "metadata": {},
   "source": [
    "### Compare nearest neighbours of exp.6 to near. neighbours of exp.3"
   ]
  },
  {
   "cell_type": "code",
   "execution_count": 4,
   "metadata": {},
   "outputs": [],
   "source": [
    "negatives = pd.read_csv('../../Structured/itunes-amazon/negatives.csv')\n",
    "positives = pd.read_csv('../../Structured/itunes-amazon/positives.csv')"
   ]
  },
  {
   "cell_type": "code",
   "execution_count": null,
   "metadata": {},
   "outputs": [],
   "source": [
    "positives_nn_exp3 = pd.read_csv('experiments-results/exp3/positives_nn.csv')\n",
    "negatives_nn_exp3 = pd.read_csv('experiments-results/exp3/negatives_nn.csv')\n",
    "positives_nn_exp6 = pd.read_csv('experiments-results/exp6/positives_numeric_nn.csv')\n",
    "negatives_nn_exp6 = pd.read_csv('experiments-results/exp6/negatives_numeric_nn.csv')"
   ]
  },
  {
   "cell_type": "code",
   "execution_count": null,
   "metadata": {},
   "outputs": [],
   "source": [
    "nn_onAlbum_exp3 = pd.merge(positives_nn_exp3,negatives,left_on='Album_Name',right_on='id')"
   ]
  },
  {
   "cell_type": "code",
   "execution_count": null,
   "metadata": {},
   "outputs": [],
   "source": [
    "(nn_onAlbum_exp3['ltable_Album_Name']+\" | \"+nn_onAlbum_exp3['rtable_Album_Name']).value_counts()"
   ]
  },
  {
   "cell_type": "code",
   "execution_count": null,
   "metadata": {},
   "outputs": [],
   "source": [
    "nn_onAlbum_exp6 = pd.merge(positives_nn_exp6,negatives,left_on='Album_Name',right_on='id')"
   ]
  },
  {
   "cell_type": "code",
   "execution_count": null,
   "metadata": {},
   "outputs": [],
   "source": [
    "(nn_onAlbum_exp6['ltable_Album_Name']+\" | \"+nn_onAlbum_exp6['rtable_Album_Name']).value_counts()"
   ]
  },
  {
   "cell_type": "code",
   "execution_count": null,
   "metadata": {},
   "outputs": [],
   "source": [
    "negnn_onArtist_exp6 = pd.merge(negatives_nn_exp6,positives,left_on='Artist_Name',right_on='id')"
   ]
  },
  {
   "cell_type": "code",
   "execution_count": null,
   "metadata": {},
   "outputs": [],
   "source": [
    "(negnn_onArtist_exp6['ltable_Artist_Name']+\" | \"+negnn_onArtist_exp6['rtable_Artist_Name']).value_counts()"
   ]
  },
  {
   "cell_type": "code",
   "execution_count": null,
   "metadata": {},
   "outputs": [],
   "source": [
    "negnn_onArtist_exp3 = pd.merge(negatives_nn_exp3,positives,left_on='Artist_Name',right_on='id')"
   ]
  },
  {
   "cell_type": "code",
   "execution_count": null,
   "metadata": {},
   "outputs": [],
   "source": [
    "(negnn_onArtist_exp3['ltable_Artist_Name']+\" | \"+negnn_onArtist_exp3['rtable_Artist_Name']).value_counts()"
   ]
  },
  {
   "cell_type": "markdown",
   "metadata": {},
   "source": [
    "### Analyze nearest neighbours on artist name"
   ]
  },
  {
   "cell_type": "code",
   "execution_count": null,
   "metadata": {},
   "outputs": [],
   "source": [
    "nn_onArtist = pd.merge(positives_closer_vectors_df,negatives,left_on='Artist_Name',right_on='id')"
   ]
  },
  {
   "cell_type": "code",
   "execution_count": null,
   "metadata": {},
   "outputs": [],
   "source": [
    "nn_onArtist[['ltable_Artist_Name','rtable_Artist_Name']].head(30)"
   ]
  },
  {
   "cell_type": "markdown",
   "metadata": {},
   "source": [
    "### Analyze nearest neighbours"
   ]
  },
  {
   "cell_type": "code",
   "execution_count": 15,
   "metadata": {},
   "outputs": [],
   "source": [
    "from utilities_functions.explainer import generateExplanations"
   ]
  },
  {
   "cell_type": "code",
   "execution_count": 10,
   "metadata": {},
   "outputs": [],
   "source": [
    "hybrid_model = dm.MatchingModel(attr_summarizer='hybrid')\n",
    "hybrid_model.load_state('../../models/itunes_amazon_hybrid.pth')"
   ]
  },
  {
   "cell_type": "code",
   "execution_count": 17,
   "metadata": {},
   "outputs": [
    {
     "name": "stderr",
     "output_type": "stream",
     "text": [
      "\n",
      "Reading and processing data from \"../../Structured/itunes-amazon/positives.csv\"\n",
      "0% [############################# ] 100% | ETA: 00:00:00"
     ]
    },
    {
     "name": "stdout",
     "output_type": "stream",
     "text": [
      "===>  PREDICT Epoch 6\n"
     ]
    },
    {
     "name": "stderr",
     "output_type": "stream",
     "text": [
      "0% [█] 100% | ETA: 00:00:00\n",
      "Total time elapsed: 00:00:00\n",
      "\n",
      "Reading and processing data from \"temp/altered_test0.csv\"\n"
     ]
    },
    {
     "name": "stdout",
     "output_type": "stream",
     "text": [
      "Finished Epoch 6 || Run Time:    0.5 | Load Time:    0.3 || F1:   0.00 | Prec:   0.00 | Rec:   0.00 || Ex/s:   0.00\n",
      "\n",
      "The standard true positives are 129\n",
      "-------------\n"
     ]
    },
    {
     "name": "stderr",
     "output_type": "stream",
     "text": [
      "0% [############################# ] 100% | ETA: 00:00:00"
     ]
    },
    {
     "name": "stdout",
     "output_type": "stream",
     "text": [
      "===>  PREDICT Epoch 6\n"
     ]
    },
    {
     "name": "stderr",
     "output_type": "stream",
     "text": [
      "0% [█] 100% | ETA: 00:00:00\n",
      "Total time elapsed: 00:00:00\n",
      "\n",
      "Reading and processing data from \"temp/altered_test1.csv\"\n"
     ]
    },
    {
     "name": "stdout",
     "output_type": "stream",
     "text": [
      "Finished Epoch 6 || Run Time:    0.5 | Load Time:    0.3 || F1:   0.00 | Prec:   0.00 | Rec:   0.00 || Ex/s:   0.00\n",
      "\n",
      "The new true positives with attribute value : $ 1.29 | $ 0.69 are 126\n",
      "------------------\n"
     ]
    },
    {
     "name": "stderr",
     "output_type": "stream",
     "text": [
      "0% [############################# ] 100% | ETA: 00:00:00"
     ]
    },
    {
     "name": "stdout",
     "output_type": "stream",
     "text": [
      "===>  PREDICT Epoch 6\n"
     ]
    },
    {
     "name": "stderr",
     "output_type": "stream",
     "text": [
      "0% [█] 100% | ETA: 00:00:00\n",
      "Total time elapsed: 00:00:00\n",
      "\n",
      "Reading and processing data from \"temp/altered_test2.csv\"\n"
     ]
    },
    {
     "name": "stdout",
     "output_type": "stream",
     "text": [
      "Finished Epoch 6 || Run Time:    0.5 | Load Time:    0.3 || F1:   0.00 | Prec:   0.00 | Rec:   0.00 || Ex/s:   0.00\n",
      "\n",
      "The new true positives with attribute value : $ 1.99 | $ 0.99 are 125\n",
      "------------------\n"
     ]
    },
    {
     "name": "stderr",
     "output_type": "stream",
     "text": [
      "0% [############################# ] 100% | ETA: 00:00:00"
     ]
    },
    {
     "name": "stdout",
     "output_type": "stream",
     "text": [
      "===>  PREDICT Epoch 6\n"
     ]
    },
    {
     "name": "stderr",
     "output_type": "stream",
     "text": [
      "0% [█] 100% | ETA: 00:00:00\n",
      "Total time elapsed: 00:00:00\n",
      "\n",
      "Reading and processing data from \"temp/altered_test3.csv\"\n"
     ]
    },
    {
     "name": "stdout",
     "output_type": "stream",
     "text": [
      "Finished Epoch 6 || Run Time:    0.5 | Load Time:    0.3 || F1:   0.00 | Prec:   0.00 | Rec:   0.00 || Ex/s:   0.00\n",
      "\n",
      "The new true positives with attribute value : Album Only | $ 1.29 are 126\n",
      "------------------\n"
     ]
    },
    {
     "name": "stderr",
     "output_type": "stream",
     "text": [
      "0% [############################# ] 100% | ETA: 00:00:00"
     ]
    },
    {
     "name": "stdout",
     "output_type": "stream",
     "text": [
      "===>  PREDICT Epoch 6\n"
     ]
    },
    {
     "name": "stderr",
     "output_type": "stream",
     "text": [
      "0% [█] 100% | ETA: 00:00:00\n",
      "Total time elapsed: 00:00:00\n",
      "\n",
      "Reading and processing data from \"temp/altered_test4.csv\"\n"
     ]
    },
    {
     "name": "stdout",
     "output_type": "stream",
     "text": [
      "Finished Epoch 6 || Run Time:    0.5 | Load Time:    0.3 || F1:   0.00 | Prec:   0.00 | Rec:   0.00 || Ex/s:   0.00\n",
      "\n",
      "The new true positives with attribute value : $ 1.99 | $ 0.99 are 125\n",
      "------------------\n"
     ]
    },
    {
     "name": "stderr",
     "output_type": "stream",
     "text": [
      "0% [############################# ] 100% | ETA: 00:00:00"
     ]
    },
    {
     "name": "stdout",
     "output_type": "stream",
     "text": [
      "===>  PREDICT Epoch 6\n"
     ]
    },
    {
     "name": "stderr",
     "output_type": "stream",
     "text": [
      "0% [█] 100% | ETA: 00:00:00\n",
      "Total time elapsed: 00:00:00\n",
      "\n",
      "Reading and processing data from \"temp/altered_test5.csv\"\n"
     ]
    },
    {
     "name": "stdout",
     "output_type": "stream",
     "text": [
      "Finished Epoch 6 || Run Time:    0.5 | Load Time:    0.3 || F1:   0.00 | Prec:   0.00 | Rec:   0.00 || Ex/s:   0.00\n",
      "\n",
      "The new true positives with attribute value : $ 1.29 | $ 0.69 are 126\n",
      "------------------\n"
     ]
    },
    {
     "name": "stderr",
     "output_type": "stream",
     "text": [
      "0% [############################# ] 100% | ETA: 00:00:00"
     ]
    },
    {
     "name": "stdout",
     "output_type": "stream",
     "text": [
      "===>  PREDICT Epoch 6\n"
     ]
    },
    {
     "name": "stderr",
     "output_type": "stream",
     "text": [
      "0% [█] 100% | ETA: 00:00:00\n",
      "Total time elapsed: 00:00:00\n",
      "\n",
      "Reading and processing data from \"temp/altered_test6.csv\"\n"
     ]
    },
    {
     "name": "stdout",
     "output_type": "stream",
     "text": [
      "Finished Epoch 6 || Run Time:    0.5 | Load Time:    0.3 || F1:   0.00 | Prec:   0.00 | Rec:   0.00 || Ex/s:   0.00\n",
      "\n",
      "The new true positives with attribute value : Album Only | $ 1.29 are 126\n",
      "------------------\n"
     ]
    },
    {
     "name": "stderr",
     "output_type": "stream",
     "text": [
      "0% [############################# ] 100% | ETA: 00:00:00"
     ]
    },
    {
     "name": "stdout",
     "output_type": "stream",
     "text": [
      "===>  PREDICT Epoch 6\n"
     ]
    },
    {
     "name": "stderr",
     "output_type": "stream",
     "text": [
      "0% [█] 100% | ETA: 00:00:00\n",
      "Total time elapsed: 00:00:00\n"
     ]
    },
    {
     "name": "stdout",
     "output_type": "stream",
     "text": [
      "Finished Epoch 6 || Run Time:    0.5 | Load Time:    0.3 || F1:   0.00 | Prec:   0.00 | Rec:   0.00 || Ex/s:   0.00\n",
      "\n",
      "The new true positives with attribute value : Album Only | $ 1.29 are 126\n",
      "------------------\n"
     ]
    }
   ],
   "source": [
    "positives_nn = pd.read_csv('experiments-results/exp3/positives_v1_nn.csv')\n",
    "generateExplanations(positives_nn,10,negatives,'Price',hybrid_model,'../../Structured/itunes-amazon/positives.csv',1)"
   ]
  },
  {
   "cell_type": "code",
   "execution_count": null,
   "metadata": {},
   "outputs": [],
   "source": []
  }
 ],
 "metadata": {
  "kernelspec": {
   "display_name": "Python 3",
   "language": "python",
   "name": "python3"
  },
  "language_info": {
   "codemirror_mode": {
    "name": "ipython",
    "version": 3
   },
   "file_extension": ".py",
   "mimetype": "text/x-python",
   "name": "python",
   "nbconvert_exporter": "python",
   "pygments_lexer": "ipython3",
   "version": "3.6.9"
  }
 },
 "nbformat": 4,
 "nbformat_minor": 2
}

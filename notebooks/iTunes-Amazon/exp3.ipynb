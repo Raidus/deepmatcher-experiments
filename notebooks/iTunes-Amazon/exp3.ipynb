{
 "cells": [
  {
   "cell_type": "code",
   "execution_count": 1,
   "metadata": {},
   "outputs": [],
   "source": [
    "%load_ext autoreload\n",
    "%autoreload 2"
   ]
  },
  {
   "cell_type": "code",
   "execution_count": 2,
   "metadata": {},
   "outputs": [],
   "source": [
    "import sys\n",
    "sys.path.append('../..')"
   ]
  },
  {
   "cell_type": "code",
   "execution_count": 3,
   "metadata": {},
   "outputs": [],
   "source": [
    "import deepmatcher as dm\n",
    "from utilities_functions.intermediate_layer_extraction import return_layer_input_output,return_layer_input\n",
    "import torch\n",
    "import pandas as pd"
   ]
  },
  {
   "cell_type": "code",
   "execution_count": 4,
   "metadata": {},
   "outputs": [],
   "source": [
    "hybrid_model = dm.MatchingModel(attr_summarizer='hybrid')\n",
    "hybrid_model.load_state('../../models/hybrid1.pth')\n",
    "hybrid_model = hybrid_model.cuda()"
   ]
  },
  {
   "cell_type": "markdown",
   "metadata": {},
   "source": [
    "## Datasets creation"
   ]
  },
  {
   "cell_type": "code",
   "execution_count": 5,
   "metadata": {},
   "outputs": [],
   "source": [
    "attributes = ['Song_Name','Artist_Name','Album_Name','Genre','Price','CopyRight','Time','Released']"
   ]
  },
  {
   "cell_type": "code",
   "execution_count": 7,
   "metadata": {},
   "outputs": [],
   "source": [
    "testneg_classifier_inputs,testneg_ids = return_layer_input('../../Structured/itunes-amazon/'\n",
    "                                                                         ,'test_negatives',32,hybrid_model,\n",
    "                                                                        hybrid_model.classifier)#,device=-1)"
   ]
  },
  {
   "cell_type": "code",
   "execution_count": 9,
   "metadata": {},
   "outputs": [],
   "source": [
    "testpos_classifier_inputs,testpos_ids = return_layer_input('../../Structured/itunes-amazon/',\n",
    "                                                                       'test_positives',32,hybrid_model,\n",
    "                                                                       hybrid_model.classifier)"
   ]
  },
  {
   "cell_type": "code",
   "execution_count": 6,
   "metadata": {},
   "outputs": [],
   "source": [
    "neg_classifier_inputs,neg_ids = return_layer_input('../../Structured/itunes-amazon'\n",
    "                                                                         ,'negatives',128,hybrid_model,\n",
    "                                                                        hybrid_model.classifier)"
   ]
  },
  {
   "cell_type": "code",
   "execution_count": 9,
   "metadata": {},
   "outputs": [],
   "source": [
    "pos_classifier_inputs,pos_ids = return_layer_input('../../Structured/itunes-amazon/',\n",
    "                                                                       'positives',128,hybrid_model,\n",
    "                                                                       hybrid_model.classifier)"
   ]
  },
  {
   "cell_type": "markdown",
   "metadata": {},
   "source": [
    "## Utility methods"
   ]
  },
  {
   "cell_type": "code",
   "execution_count": 12,
   "metadata": {},
   "outputs": [],
   "source": [
    "from utilities_functions.ri_calculator import find_smallest_variation_to_change"
   ]
  },
  {
   "cell_type": "markdown",
   "metadata": {},
   "source": [
    "## Negative sample analysis"
   ]
  },
  {
   "cell_type": "code",
   "execution_count": 14,
   "metadata": {},
   "outputs": [
    {
     "name": "stdout",
     "output_type": "stream",
     "text": [
      "Processing sample number 0\n",
      "Processing sample number 1\n",
      "Processing sample number 2\n",
      "Processing sample number 3\n",
      "Processing sample number 4\n",
      "Processing sample number 5\n",
      "Processing sample number 6\n",
      "Processing sample number 7\n",
      "Processing sample number 8\n",
      "Processing sample number 9\n",
      "Processing sample number 10\n",
      "Processing sample number 11\n",
      "Processing sample number 12\n",
      "Processing sample number 13\n",
      "Processing sample number 14\n",
      "Processing sample number 15\n",
      "Processing sample number 16\n",
      "Processing sample number 17\n",
      "Processing sample number 18\n",
      "Processing sample number 19\n",
      "Processing sample number 20\n",
      "Processing sample number 21\n",
      "Processing sample number 22\n",
      "Processing sample number 23\n",
      "Processing sample number 24\n",
      "Processing sample number 25\n",
      "Processing sample number 26\n",
      "Processing sample number 27\n",
      "Processing sample number 28\n",
      "Processing sample number 29\n",
      "Processing sample number 30\n",
      "Processing sample number 31\n",
      "Processing sample number 32\n",
      "Processing sample number 33\n",
      "Processing sample number 34\n",
      "Processing sample number 35\n",
      "Processing sample number 36\n",
      "Processing sample number 37\n",
      "Processing sample number 38\n",
      "Processing sample number 39\n",
      "Processing sample number 40\n",
      "Processing sample number 41\n",
      "Processing sample number 42\n",
      "Processing sample number 43\n",
      "Processing sample number 44\n",
      "Processing sample number 45\n",
      "Processing sample number 46\n",
      "Processing sample number 47\n",
      "Processing sample number 48\n",
      "Processing sample number 49\n",
      "Processing sample number 50\n",
      "Processing sample number 51\n",
      "Processing sample number 52\n",
      "Processing sample number 53\n",
      "Processing sample number 54\n",
      "Processing sample number 55\n",
      "Processing sample number 56\n",
      "Processing sample number 57\n",
      "Processing sample number 58\n",
      "Processing sample number 59\n",
      "Processing sample number 60\n",
      "Processing sample number 61\n",
      "Processing sample number 62\n",
      "Processing sample number 63\n",
      "Processing sample number 64\n",
      "Processing sample number 65\n",
      "Processing sample number 66\n",
      "Processing sample number 67\n",
      "Processing sample number 68\n",
      "Processing sample number 69\n",
      "Processing sample number 70\n",
      "Processing sample number 71\n",
      "Processing sample number 72\n",
      "Processing sample number 73\n",
      "Processing sample number 74\n",
      "Processing sample number 75\n",
      "Processing sample number 76\n",
      "Processing sample number 77\n",
      "Processing sample number 78\n",
      "Processing sample number 79\n",
      "Processing sample number 80\n",
      "Processing sample number 81\n",
      "Processing sample number 82\n",
      "Processing sample number 83\n",
      "Processing sample number 84\n",
      "Processing sample number 85\n",
      "Processing sample number 86\n",
      "Processing sample number 87\n",
      "Processing sample number 88\n",
      "Processing sample number 89\n",
      "Processing sample number 90\n",
      "Processing sample number 91\n",
      "Processing sample number 92\n",
      "Processing sample number 93\n",
      "Processing sample number 94\n",
      "Processing sample number 95\n",
      "Processing sample number 96\n",
      "Processing sample number 97\n",
      "Processing sample number 98\n",
      "Processing sample number 99\n",
      "Processing sample number 100\n",
      "Processing sample number 101\n",
      "Processing sample number 102\n",
      "Processing sample number 103\n",
      "Processing sample number 104\n",
      "Processing sample number 105\n",
      "Processing sample number 106\n",
      "Processing sample number 107\n",
      "Processing sample number 108\n",
      "Processing sample number 109\n",
      "Processing sample number 110\n",
      "Processing sample number 111\n",
      "Processing sample number 112\n",
      "Processing sample number 113\n",
      "Processing sample number 114\n",
      "Processing sample number 115\n",
      "Processing sample number 116\n",
      "Processing sample number 117\n",
      "Processing sample number 118\n",
      "Processing sample number 119\n",
      "Processing sample number 120\n",
      "Processing sample number 121\n",
      "Processing sample number 122\n",
      "Processing sample number 123\n",
      "Processing sample number 124\n",
      "Processing sample number 125\n",
      "Processing sample number 126\n",
      "Processing sample number 127\n",
      "Processing sample number 128\n",
      "Processing sample number 129\n",
      "Processing sample number 130\n",
      "Processing sample number 131\n",
      "Processing sample number 132\n",
      "Processing sample number 133\n",
      "Processing sample number 134\n",
      "Processing sample number 135\n",
      "Processing sample number 136\n",
      "Processing sample number 137\n",
      "Processing sample number 138\n",
      "Processing sample number 139\n",
      "Processing sample number 140\n",
      "Processing sample number 141\n",
      "Processing sample number 142\n",
      "Processing sample number 143\n",
      "Processing sample number 144\n",
      "Processing sample number 145\n",
      "Processing sample number 146\n",
      "Processing sample number 147\n",
      "Processing sample number 148\n",
      "Processing sample number 149\n",
      "Processing sample number 150\n",
      "Processing sample number 151\n",
      "Processing sample number 152\n",
      "Processing sample number 153\n",
      "Processing sample number 154\n",
      "Processing sample number 155\n",
      "Processing sample number 156\n",
      "Processing sample number 157\n",
      "Processing sample number 158\n",
      "Processing sample number 159\n",
      "Processing sample number 160\n",
      "Processing sample number 161\n",
      "Processing sample number 162\n",
      "Processing sample number 163\n",
      "Processing sample number 164\n",
      "Processing sample number 165\n",
      "Processing sample number 166\n",
      "Processing sample number 167\n",
      "Processing sample number 168\n",
      "Processing sample number 169\n",
      "Processing sample number 170\n",
      "Processing sample number 171\n",
      "Processing sample number 172\n",
      "Processing sample number 173\n",
      "Processing sample number 174\n",
      "Processing sample number 175\n",
      "Processing sample number 176\n",
      "Processing sample number 177\n",
      "Processing sample number 178\n",
      "Processing sample number 179\n",
      "Processing sample number 180\n",
      "Processing sample number 181\n",
      "Processing sample number 182\n",
      "Processing sample number 183\n",
      "Processing sample number 184\n",
      "Processing sample number 185\n",
      "Processing sample number 186\n",
      "Processing sample number 187\n",
      "Processing sample number 188\n",
      "Processing sample number 189\n",
      "Processing sample number 190\n",
      "Processing sample number 191\n",
      "Processing sample number 192\n",
      "Processing sample number 193\n",
      "Processing sample number 194\n",
      "Processing sample number 195\n",
      "Processing sample number 196\n",
      "Processing sample number 197\n",
      "Processing sample number 198\n",
      "Processing sample number 199\n",
      "Processing sample number 200\n",
      "Processing sample number 201\n",
      "Processing sample number 202\n",
      "Processing sample number 203\n",
      "Processing sample number 204\n",
      "Processing sample number 205\n",
      "Processing sample number 206\n",
      "Processing sample number 207\n",
      "Processing sample number 208\n",
      "Processing sample number 209\n",
      "Processing sample number 210\n",
      "Processing sample number 211\n",
      "Processing sample number 212\n",
      "Processing sample number 213\n",
      "Processing sample number 214\n",
      "Processing sample number 215\n",
      "Processing sample number 216\n",
      "Processing sample number 217\n",
      "Processing sample number 218\n",
      "Processing sample number 219\n",
      "Processing sample number 220\n",
      "Processing sample number 221\n",
      "Processing sample number 222\n",
      "Processing sample number 223\n",
      "Processing sample number 224\n",
      "Processing sample number 225\n",
      "Processing sample number 226\n",
      "Processing sample number 227\n",
      "Processing sample number 228\n",
      "Processing sample number 229\n",
      "Processing sample number 230\n",
      "Processing sample number 231\n",
      "Processing sample number 232\n",
      "Processing sample number 233\n",
      "Processing sample number 234\n",
      "Processing sample number 235\n",
      "Processing sample number 236\n",
      "Processing sample number 237\n",
      "Processing sample number 238\n",
      "Processing sample number 239\n",
      "Processing sample number 240\n",
      "Processing sample number 241\n",
      "Processing sample number 242\n",
      "Processing sample number 243\n",
      "Processing sample number 244\n",
      "Processing sample number 245\n",
      "Processing sample number 246\n",
      "Processing sample number 247\n",
      "Processing sample number 248\n",
      "Processing sample number 249\n",
      "Processing sample number 250\n",
      "Processing sample number 251\n",
      "Processing sample number 252\n",
      "Processing sample number 253\n",
      "Processing sample number 254\n",
      "Processing sample number 255\n",
      "Processing sample number 256\n",
      "Processing sample number 257\n",
      "Processing sample number 258\n",
      "Processing sample number 259\n",
      "Processing sample number 260\n",
      "Processing sample number 261\n",
      "Processing sample number 262\n",
      "Processing sample number 263\n",
      "Processing sample number 264\n",
      "Processing sample number 265\n",
      "Processing sample number 266\n",
      "Processing sample number 267\n",
      "Processing sample number 268\n",
      "Processing sample number 269\n",
      "Processing sample number 270\n",
      "Processing sample number 271\n",
      "Processing sample number 272\n",
      "Processing sample number 273\n",
      "Processing sample number 274\n",
      "Processing sample number 275\n",
      "Processing sample number 276\n",
      "Processing sample number 277\n",
      "Processing sample number 278\n",
      "Processing sample number 279\n",
      "Processing sample number 280\n",
      "Processing sample number 281\n",
      "Processing sample number 282\n",
      "Processing sample number 283\n",
      "Processing sample number 284\n",
      "Processing sample number 285\n",
      "Processing sample number 286\n"
     ]
    },
    {
     "name": "stdout",
     "output_type": "stream",
     "text": [
      "Processing sample number 287\n",
      "Processing sample number 288\n",
      "Processing sample number 289\n",
      "Processing sample number 290\n",
      "Processing sample number 291\n",
      "Processing sample number 292\n",
      "Processing sample number 293\n",
      "Processing sample number 294\n",
      "Processing sample number 295\n",
      "Processing sample number 296\n",
      "Processing sample number 297\n",
      "Processing sample number 298\n",
      "Processing sample number 299\n",
      "Processing sample number 300\n",
      "Processing sample number 301\n",
      "Processing sample number 302\n",
      "Processing sample number 303\n",
      "Processing sample number 304\n",
      "Processing sample number 305\n",
      "Processing sample number 306\n",
      "Processing sample number 307\n",
      "Processing sample number 308\n",
      "Processing sample number 309\n",
      "Processing sample number 310\n",
      "Processing sample number 311\n",
      "Processing sample number 312\n",
      "Processing sample number 313\n",
      "Processing sample number 314\n",
      "Processing sample number 315\n",
      "Processing sample number 316\n",
      "Processing sample number 317\n",
      "Processing sample number 318\n",
      "Processing sample number 319\n",
      "Processing sample number 320\n",
      "Processing sample number 321\n",
      "Processing sample number 322\n",
      "Processing sample number 323\n",
      "Processing sample number 324\n",
      "Processing sample number 325\n",
      "Processing sample number 326\n",
      "Processing sample number 327\n",
      "Processing sample number 328\n",
      "Processing sample number 329\n",
      "Processing sample number 330\n",
      "Processing sample number 331\n",
      "Processing sample number 332\n",
      "Processing sample number 333\n",
      "Processing sample number 334\n",
      "Processing sample number 335\n",
      "Processing sample number 336\n",
      "Processing sample number 337\n",
      "Processing sample number 338\n",
      "Processing sample number 339\n",
      "Processing sample number 340\n",
      "Processing sample number 341\n",
      "Processing sample number 342\n",
      "Processing sample number 343\n",
      "Processing sample number 344\n",
      "Processing sample number 345\n",
      "Processing sample number 346\n",
      "Processing sample number 347\n",
      "Processing sample number 348\n",
      "Processing sample number 349\n",
      "Processing sample number 350\n",
      "Processing sample number 351\n",
      "Processing sample number 352\n",
      "Processing sample number 353\n",
      "Processing sample number 354\n",
      "Processing sample number 355\n",
      "Processing sample number 356\n",
      "Processing sample number 357\n",
      "Processing sample number 358\n",
      "Processing sample number 359\n",
      "Processing sample number 360\n",
      "Processing sample number 361\n",
      "Processing sample number 362\n",
      "Processing sample number 363\n",
      "Processing sample number 364\n",
      "Processing sample number 365\n",
      "Processing sample number 366\n",
      "Processing sample number 367\n",
      "Processing sample number 368\n",
      "Processing sample number 369\n",
      "Processing sample number 370\n",
      "Processing sample number 371\n",
      "Processing sample number 372\n",
      "Processing sample number 373\n",
      "Processing sample number 374\n",
      "Processing sample number 375\n",
      "Processing sample number 376\n",
      "Processing sample number 377\n",
      "Processing sample number 378\n",
      "Processing sample number 379\n",
      "Processing sample number 380\n",
      "Processing sample number 381\n",
      "Processing sample number 382\n",
      "Processing sample number 383\n",
      "Processing sample number 384\n",
      "Processing sample number 385\n",
      "Processing sample number 386\n",
      "Processing sample number 387\n",
      "Processing sample number 388\n",
      "Processing sample number 389\n",
      "Processing sample number 390\n",
      "Processing sample number 391\n",
      "Processing sample number 392\n",
      "Processing sample number 393\n",
      "Processing sample number 394\n",
      "Processing sample number 395\n",
      "Processing sample number 396\n",
      "Processing sample number 397\n",
      "Processing sample number 398\n",
      "Processing sample number 399\n",
      "Processing sample number 400\n",
      "Processing sample number 401\n",
      "Processing sample number 402\n",
      "Processing sample number 403\n",
      "Processing sample number 404\n",
      "Processing sample number 405\n",
      "Processing sample number 406\n"
     ]
    }
   ],
   "source": [
    "current_sample = 0\n",
    "#each column of this matrix is related to a specific attribute\n",
    "negatives_ri_matrix = []\n",
    "for batch in neg_classifier_inputs:\n",
    "    for sample_index in range(len(batch)):\n",
    "        print('Processing sample number {}'.format(current_sample))\n",
    "        current_sample_ris = list(map(lambda att: find_smallest_variation_to_change(hybrid_model.classifier,\n",
    "                                                                                    classifier_length=1200,\n",
    "                                                                                    attribute_length=150,\n",
    "                                                                                    input_matrix=batch,\n",
    "                                                                                    vector_index=sample_index,\n",
    "                                                                                    attributes=[attributes.index(att)]\n",
    "                                                                                    ,class_to_reach=1),attributes))\n",
    "        negatives_ri_matrix.append(current_sample_ris)\n",
    "        current_sample+=1"
   ]
  },
  {
   "cell_type": "code",
   "execution_count": 16,
   "metadata": {},
   "outputs": [
    {
     "data": {
      "text/plain": [
       "<matplotlib.axes._subplots.AxesSubplot at 0x7f8e2409b128>"
      ]
     },
     "execution_count": 16,
     "metadata": {},
     "output_type": "execute_result"
    },
    {
     "data": {
      "image/png": "[encoded data removed]",
      "text/plain": [
       "<Figure size 432x288 with 1 Axes>"
      ]
     },
     "metadata": {
      "needs_background": "light"
     },
     "output_type": "display_data"
    }
   ],
   "source": [
    "ri_norms_negative_samples = []\n",
    "for ri_list in negatives_ri_matrix:\n",
    "    ri_norms_negative_samples.append(list(map(lambda x:torch.norm(x).data[0],ri_list)))\n",
    "neg_variation_df = pd.DataFrame(data= ri_norms_negative_samples,columns=attributes)\n",
    "neg_variation_df.sum().plot.bar()"
   ]
  },
  {
   "cell_type": "code",
   "execution_count": 18,
   "metadata": {},
   "outputs": [],
   "source": [
    "neg_variation_df.to_csv('experiments-results/exp3/negatives_ri.csv',index=False)"
   ]
  },
  {
   "cell_type": "markdown",
   "metadata": {},
   "source": [
    "## Positive samples analisys"
   ]
  },
  {
   "cell_type": "code",
   "execution_count": 19,
   "metadata": {},
   "outputs": [
    {
     "name": "stdout",
     "output_type": "stream",
     "text": [
      "Processing sample number 0\n",
      "Processing sample number 1\n",
      "Processing sample number 2\n",
      "Processing sample number 3\n",
      "Processing sample number 4\n",
      "Processing sample number 5\n",
      "Processing sample number 6\n",
      "Processing sample number 7\n",
      "Processing sample number 8\n",
      "Processing sample number 9\n",
      "Processing sample number 10\n",
      "Processing sample number 11\n",
      "Processing sample number 12\n",
      "Processing sample number 13\n",
      "Processing sample number 14\n",
      "Processing sample number 15\n",
      "Processing sample number 16\n",
      "Processing sample number 17\n",
      "Processing sample number 18\n",
      "Processing sample number 19\n",
      "Processing sample number 20\n",
      "Processing sample number 21\n",
      "Processing sample number 22\n",
      "Processing sample number 23\n",
      "Processing sample number 24\n",
      "Processing sample number 25\n",
      "Processing sample number 26\n",
      "Processing sample number 27\n",
      "Processing sample number 28\n",
      "Processing sample number 29\n",
      "Processing sample number 30\n",
      "Processing sample number 31\n",
      "Processing sample number 32\n",
      "Processing sample number 33\n",
      "Processing sample number 34\n",
      "Processing sample number 35\n",
      "Processing sample number 36\n",
      "Processing sample number 37\n",
      "Processing sample number 38\n",
      "Processing sample number 39\n",
      "Processing sample number 40\n",
      "Processing sample number 41\n",
      "Processing sample number 42\n",
      "Processing sample number 43\n",
      "Processing sample number 44\n",
      "Processing sample number 45\n",
      "Processing sample number 46\n",
      "Processing sample number 47\n",
      "Processing sample number 48\n",
      "Processing sample number 49\n",
      "Processing sample number 50\n",
      "Processing sample number 51\n",
      "Processing sample number 52\n",
      "Processing sample number 53\n",
      "Processing sample number 54\n",
      "Processing sample number 55\n",
      "Processing sample number 56\n",
      "Processing sample number 57\n",
      "Processing sample number 58\n",
      "Processing sample number 59\n",
      "Processing sample number 60\n",
      "Processing sample number 61\n",
      "Processing sample number 62\n",
      "Processing sample number 63\n",
      "Processing sample number 64\n",
      "Processing sample number 65\n",
      "Processing sample number 66\n",
      "Processing sample number 67\n",
      "Processing sample number 68\n",
      "Processing sample number 69\n",
      "Processing sample number 70\n",
      "Processing sample number 71\n",
      "Processing sample number 72\n",
      "Processing sample number 73\n",
      "Processing sample number 74\n",
      "Processing sample number 75\n",
      "Processing sample number 76\n",
      "Processing sample number 77\n",
      "Processing sample number 78\n",
      "Processing sample number 79\n",
      "Processing sample number 80\n",
      "Processing sample number 81\n",
      "Processing sample number 82\n",
      "Processing sample number 83\n",
      "Processing sample number 84\n",
      "Processing sample number 85\n",
      "Processing sample number 86\n",
      "Processing sample number 87\n",
      "Processing sample number 88\n",
      "Processing sample number 89\n",
      "Processing sample number 90\n",
      "Processing sample number 91\n",
      "Processing sample number 92\n",
      "Processing sample number 93\n",
      "Processing sample number 94\n",
      "Processing sample number 95\n",
      "Processing sample number 96\n",
      "Processing sample number 97\n",
      "Processing sample number 98\n",
      "Processing sample number 99\n",
      "Processing sample number 100\n",
      "Processing sample number 101\n",
      "Processing sample number 102\n",
      "Processing sample number 103\n",
      "Processing sample number 104\n",
      "Processing sample number 105\n",
      "Processing sample number 106\n",
      "Processing sample number 107\n",
      "Processing sample number 108\n",
      "Processing sample number 109\n",
      "Processing sample number 110\n",
      "Processing sample number 111\n",
      "Processing sample number 112\n",
      "Processing sample number 113\n",
      "Processing sample number 114\n",
      "Processing sample number 115\n",
      "Processing sample number 116\n",
      "Processing sample number 117\n",
      "Processing sample number 118\n",
      "Processing sample number 119\n",
      "Processing sample number 120\n",
      "Processing sample number 121\n",
      "Processing sample number 122\n",
      "Processing sample number 123\n",
      "Processing sample number 124\n",
      "Processing sample number 125\n",
      "Processing sample number 126\n",
      "Processing sample number 127\n",
      "Processing sample number 128\n",
      "Processing sample number 129\n",
      "Processing sample number 130\n",
      "Processing sample number 131\n"
     ]
    }
   ],
   "source": [
    "current_sample = 0\n",
    "#each column of this matrix is related to a specific attribute\n",
    "positives_ri_matrix = []\n",
    "for batch in pos_classifier_inputs:\n",
    "    for sample_index in range(len(batch)):\n",
    "        print('Processing sample number {}'.format(current_sample))\n",
    "        current_sample_ris = list(map(lambda att: find_smallest_variation_to_change(hybrid_model.classifier,\n",
    "                                                                                    classifier_length=1200,\n",
    "                                                                                    attribute_length=150,\n",
    "                                                                                    input_matrix=batch,\n",
    "                                                                                    vector_index=sample_index,\n",
    "                                                                                    attributes=[attributes.index(att)]\n",
    "                                                                                    ,class_to_reach=0),attributes))\n",
    "        positives_ri_matrix.append(current_sample_ris)\n",
    "        current_sample+=1"
   ]
  },
  {
   "cell_type": "code",
   "execution_count": 20,
   "metadata": {},
   "outputs": [
    {
     "data": {
      "text/plain": [
       "<matplotlib.axes._subplots.AxesSubplot at 0x7f8e5c3050b8>"
      ]
     },
     "execution_count": 20,
     "metadata": {},
     "output_type": "execute_result"
    },
    {
     "data": {
      "image/png": "[encoded data removed]",
      "text/plain": [
       "<Figure size 432x288 with 1 Axes>"
      ]
     },
     "metadata": {
      "needs_background": "light"
     },
     "output_type": "display_data"
    }
   ],
   "source": [
    "ri_norms_pos = []\n",
    "for ri_list in positives_ri_matrix:\n",
    "    ri_norms_pos.append(list(map(lambda x:torch.norm(x).data[0],ri_list)))\n",
    "pos_variation_df = pd.DataFrame(data= ri_norms_pos,columns=attributes)\n",
    "pos_variation_df.sum().plot.bar()"
   ]
  },
  {
   "cell_type": "code",
   "execution_count": 21,
   "metadata": {},
   "outputs": [],
   "source": [
    "pos_variation_df.to_csv('experiments-results/exp3/positives_ri.csv',index=False)"
   ]
  },
  {
   "cell_type": "markdown",
   "metadata": {},
   "source": [
    "## Finding closer vectors"
   ]
  },
  {
   "cell_type": "code",
   "execution_count": 22,
   "metadata": {},
   "outputs": [],
   "source": [
    "from utilities_functions.distance_measures import nearest_neighbour,nearest_neighbour_onAttribute"
   ]
  },
  {
   "cell_type": "code",
   "execution_count": 25,
   "metadata": {},
   "outputs": [],
   "source": [
    "#lista di tuple: vettore più vicino considerando tutti gli elementi e closer solo secondo un attributo\n",
    "negatives_closer_vectors = []\n",
    "i = 0\n",
    "for batch in neg_classifier_inputs:\n",
    "    for sample in batch:\n",
    "        current_sample_closer_vectors = list(map(lambda att: nearest_neighbour_onAttribute\n",
    "                                                 (sample+negatives_ri_matrix[i][attributes.index(att)]\n",
    "                                                                ,pos_classifier_inputs,attributes.index(att),\n",
    "                                                                150,'cosine'),attributes))\n",
    "        negatives_closer_vectors.append(current_sample_closer_vectors)\n",
    "        i += 1 "
   ]
  },
  {
   "cell_type": "code",
   "execution_count": 26,
   "metadata": {},
   "outputs": [],
   "source": [
    "# per ogni attributo trovo il più vicino\n",
    "positives_closer_vectors = []\n",
    "i = 0\n",
    "for batch in pos_classifier_inputs:\n",
    "    for sample in batch:\n",
    "        current_sample_closer_vectors = list(map(lambda att: nearest_neighbour_onAttribute\n",
    "                                                 (sample+positives_ri_matrix[i][attributes.index(att)]\n",
    "                                                                ,neg_classifier_inputs,attributes.index(att),\n",
    "                                                                150,'cosine'),attributes))\n",
    "        positives_closer_vectors.append(current_sample_closer_vectors)\n",
    "        i += 1 "
   ]
  },
  {
   "cell_type": "code",
   "execution_count": 27,
   "metadata": {},
   "outputs": [],
   "source": [
    "positives_closer_vectors_df = pd.DataFrame(data= positives_closer_vectors,columns =attributes)\n",
    "positives_closer_vectors_df = positives_closer_vectors_df.applymap(lambda c:neg_ids[c])\n",
    "negatives_closer_vectors_df = pd.DataFrame(data = negatives_closer_vectors, columns = attributes)\n",
    "negatives_closer_vectors_df = negatives_closer_vectors_df.applymap(lambda c: pos_ids[c])"
   ]
  },
  {
   "cell_type": "code",
   "execution_count": 29,
   "metadata": {},
   "outputs": [],
   "source": [
    "positives_closer_vectors_df['SampleID'] = pos_ids\n",
    "negatives_closer_vectors_df['SampleID'] = neg_ids"
   ]
  },
  {
   "cell_type": "code",
   "execution_count": 31,
   "metadata": {},
   "outputs": [],
   "source": [
    "positives_closer_vectors_df.to_csv('experiments-results/exp3/positives_nn.csv',index=False)\n",
    "negatives_closer_vectors_df.to_csv('experiments-results/exp3/negatives_nn.csv',index=False)"
   ]
  },
  {
   "cell_type": "markdown",
   "metadata": {},
   "source": [
    "### Compare nearest neighbours of exp.6 to near. neighbours of exp.3"
   ]
  },
  {
   "cell_type": "code",
   "execution_count": 32,
   "metadata": {},
   "outputs": [],
   "source": [
    "negatives = pd.read_csv('../../Structured/itunes-amazon/negatives.csv')\n",
    "positives = pd.read_csv('../../Structured/itunes-amazon/positives.csv')"
   ]
  },
  {
   "cell_type": "code",
   "execution_count": 33,
   "metadata": {},
   "outputs": [],
   "source": [
    "positives_nn_exp3 = pd.read_csv('experiments-results/exp3/positives_nn.csv')\n",
    "negatives_nn_exp3 = pd.read_csv('experiments-results/exp3/negatives_nn.csv')\n",
    "positives_nn_exp6 = pd.read_csv('experiments-results/exp6/positives_numeric_nn.csv')\n",
    "negatives_nn_exp6 = pd.read_csv('experiments-results/exp6/negatives_numeric_nn.csv')"
   ]
  },
  {
   "cell_type": "code",
   "execution_count": 38,
   "metadata": {},
   "outputs": [],
   "source": [
    "nn_onAlbum_exp3 = pd.merge(positives_nn_exp3,negatives,left_on='Album_Name',right_on='id')"
   ]
  },
  {
   "cell_type": "code",
   "execution_count": 39,
   "metadata": {},
   "outputs": [
    {
     "data": {
      "text/plain": [
       "Club Ca n't Handle Me ( feat . David Guetta ) [ From `` Step Up 3D '' ] { The Remixes } - EP | Good Feeling ( Remixes )                                          47\n",
       "Here 's To the Good Times ... This Is How We Roll ( Deluxe Version ) | This Is How We Roll ( Remix )                                                             37\n",
       "Mac and Devin Go to High School ( Music from and Inspired By the Movie ) [ Deluxe Version ] | R&G ( Rhythm & Gangsta ) : The Masterpiece ( Explicit Version )    12\n",
       "Where Are '`` Now ( with Justin Bieber ) [ Remixes ] - EP | Que Que Remix EP                                                                                     10\n",
       "Hey Mama ( feat . Nicki Minaj , Bebe Rexha & Afrojack ) [ Remixes ] - EP | Hey Mama                                                                               3\n",
       "Clarity ( Deluxe Edition ) | Clarity                                                                                                                              3\n",
       "Get Low ( Remixes ) - EP | Que Que Remix EP                                                                                                                       2\n",
       "Clarity ( Remixes ) - EP | Spectrum EP                                                                                                                            2\n",
       "The Road and the Radio | The Road And The Radio                                                                                                                   2\n",
       "Mac and Devin Go to High School ( Music from and Inspired By the Movie ) | Flight School [ Explicit ]                                                             2\n",
       "Caracal | Caracal                                                                                                                                                 1\n",
       "Recess Remixes - EP | Scary Monsters And Nice Sprites EP [ Explicit ]                                                                                             1\n",
       "Listen ( Deluxe Version ) | Listen                                                                                                                                1\n",
       "5 | 5                                                                                                                                                             1\n",
       "NOW That 's What I Call Music , Vol . 49 | Beautiful Now ( Remixes )                                                                                              1\n",
       "Now That 's What I Call Music , Vol . 46 | My Songs Know What You Did In The Dark ( Light Em Up ) ( 2 Chainz Remix )                                              1\n",
       "Caracal | Caracal ( Deluxe )                                                                                                                                      1\n",
       "Listen | Listen ( Deluxe )                                                                                                                                        1\n",
       "Bright Lights ( Deluxe Version ) | Halcyon ( Deluxe )                                                                                                             1\n",
       "Taylor Swift Karaoke : Fearless ( Instrumentals With Background Vocals ) | Taylor Swift Karaoke : 1989                                                            1\n",
       "Nothing But the Beat | Nothing But The Beat                                                                                                                       1\n",
       "Pricele $ $ | Pricele $ $ ( Edited Version )                                                                                                                      1\n",
       "dtype: int64"
      ]
     },
     "execution_count": 39,
     "metadata": {},
     "output_type": "execute_result"
    }
   ],
   "source": [
    "(nn_onAlbum_exp3['ltable_Album_Name']+\" | \"+nn_onAlbum_exp3['rtable_Album_Name']).value_counts()"
   ]
  },
  {
   "cell_type": "code",
   "execution_count": 40,
   "metadata": {},
   "outputs": [],
   "source": [
    "nn_onAlbum_exp6 = pd.merge(positives_nn_exp6,negatives,left_on='Album_Name',right_on='id')"
   ]
  },
  {
   "cell_type": "code",
   "execution_count": 41,
   "metadata": {},
   "outputs": [
    {
     "data": {
      "text/plain": [
       "The Heist ( Deluxe Edition ) | The Heist [ Explicit ]                                                                      19\n",
       "One Love ( Deluxe Version ) | Pop Love                                                                                     19\n",
       "The Heist ( Deluxe Edition ) | The Heist [ Clean ]                                                                         16\n",
       "Fetty Wap ( Deluxe ) | Fetty Wap [ Clean ]                                                                                 12\n",
       "Hotel Cabana ( Deluxe Version ) | Hotel Cabana [ Explicit ]                                                                10\n",
       "Slow Down ( Reggae Remixes ) - Single | Good For You ( Remixes )                                                            5\n",
       "As Long As You Love Me ( Remixes ) [ feat . Big Sean ] | Love Me Like You Do - Made Popular By Ellie Goulding               5\n",
       "R.O.O.T.S. ( Deluxe Version ) | R.O.O.T.S. ( Route Of Overcoming The Struggle ) ( Amended Amazon Exclusive ) [ Clean ]      4\n",
       "Beautiful Now ( feat . Jon Bellion ) [ Remixes ] - EP | Spectrum EP                                                         3\n",
       "Talk Dirty ( feat . 2 Chainz ) [ TJR Remix ] - Single | Talk Dirty [ Clean ]                                                3\n",
       "Now That 's What I Call Music , Vol . 46 | My Songs Know What You Did In The Dark ( Light Em Up ) ( 2 Chainz Remix )        3\n",
       "Bounce ( feat . Kelis ) [ Remixes ] | Bounce                                                                                3\n",
       "Thinking About You ( feat . Ayah Marar ) [ Remixes ] | Blame ( Remixes )                                                    3\n",
       "Turn to You ( Mother 's Day Dedication ) - Single | Love Me Like You Do - Made Popular By Ellie Goulding                    2\n",
       "Stop Me ( Remixes ) - EP | Stop Me                                                                                          2\n",
       "Caracal | Caracal                                                                                                           2\n",
       "Speak Now - World Tour Live | Speak Now                                                                                     2\n",
       "Uptown Special | Uptown Special [ Clean ]                                                                                   2\n",
       "Take Care ( Deluxe Version ) | Thank Me Later ( Edited Version )                                                            2\n",
       "Midnight Memories ( Deluxe Edition ) | Midnight Memories ( Deluxe )                                                         1\n",
       "FOUR ( Ultimate Edition ) | Take Me Home : Yearbook Edition                                                                 1\n",
       "Club Ca n't Handle Me ( feat . David Guetta ) [ From `` Step Up 3D '' ] { The Remixes } - EP | Good Feeling ( Remixes )     1\n",
       "Caracal | Caracal ( Deluxe )                                                                                                1\n",
       "Beautiful Now ( feat . Jon Bellion ) [ Remixes ] - EP | Clarity ( Remixes )                                                 1\n",
       "Lick It ( Remixes ) - EP | Where Are ÌÏ Now ( with Justin Bieber ) [ Remixes ]                                              1\n",
       "Clarity ( Deluxe Edition ) | Clarity                                                                                        1\n",
       "Listen | Listen ( Deluxe )                                                                                                  1\n",
       "Lick It ( Remixes ) - EP | Take ÌÏ There ( feat . Kiesza ) [ Remixes ]                                                      1\n",
       "Outside ( feat . Ellie Goulding ) [ Remixes ] - Single | How Deep Is Your Love ( Remixes )                                  1\n",
       "Mac and Devin Go to High School ( Music from and Inspired By the Movie ) | Flight School [ Explicit ]                       1\n",
       "Trilogy | Trilogy ( Edited Version ) [ Clean ]                                                                              1\n",
       "New Eyes | New Eyes                                                                                                         1\n",
       "Hold My Home ( Deluxe Edition ) | Hold My Home                                                                              1\n",
       "Listen ( Deluxe Version ) | Certified ( Edited Version )                                                                    1\n",
       "dtype: int64"
      ]
     },
     "execution_count": 41,
     "metadata": {},
     "output_type": "execute_result"
    }
   ],
   "source": [
    "(nn_onAlbum_exp6['ltable_Album_Name']+\" | \"+nn_onAlbum_exp6['rtable_Album_Name']).value_counts()"
   ]
  },
  {
   "cell_type": "code",
   "execution_count": 42,
   "metadata": {},
   "outputs": [],
   "source": [
    "negnn_onAlbum_exp6 = pd.merge(negatives_nn_exp6,positives,left_on='Album_Name',right_on='id')"
   ]
  },
  {
   "cell_type": "code",
   "execution_count": 45,
   "metadata": {},
   "outputs": [
    {
     "data": {
      "text/plain": [
       "Index(['The Hobbit : The Desolation of Smaug ( Original Motion Picture Soundtrack ) [ Special Edition ] | The Hobbit : The Desolation of Smaug ( Original Motion Picture Soundtrack ) [ Special Edition ]',\n",
       "       'R.O.O.T.S. ( Deluxe Version ) | R.O.O.T.S. ( Route Of Overcoming The Struggle ) ( Amended Amazon Exclusive ) [ Clean ]',\n",
       "       'No Shoes , No Shirt , No Problems | No Shoes , No Shirt , No Problems',\n",
       "       'Greatest Hits , Vol . 1 | Greatest Hits , Vol . 1',\n",
       "       'Rolling Papers ( Deluxe Version ) | Rolling Papers ( Deluxe ) [ + Video ] [ + Digital Booklet ]',\n",
       "       'Amaryllis | Amaryllis', 'Be Here | Be Here', 'Blurryface | Blurryface',\n",
       "       '#NAME ? | #NAME ?',\n",
       "       'I Do n't Like It , I Love It ( feat . Robin Thicke & Verdine White ) [ Kasum Remix ] - Single | I Do n't Like It , I Love It ( feat . Robin Thicke & Verdine White ) [ Noodles Remix ]'],\n",
       "      dtype='object')"
      ]
     },
     "execution_count": 45,
     "metadata": {},
     "output_type": "execute_result"
    }
   ],
   "source": [
    "(negnn_onAlbum_exp6['ltable_Album_Name']+\" | \"+negnn_onAlbum_exp6['rtable_Album_Name']).value_counts().keys()[0:10]"
   ]
  },
  {
   "cell_type": "code",
   "execution_count": 46,
   "metadata": {},
   "outputs": [],
   "source": [
    "negnn_onAlbum_exp3 = pd.merge(negatives_nn_exp3,positives,left_on='Album_Name',right_on='id')"
   ]
  },
  {
   "cell_type": "code",
   "execution_count": 47,
   "metadata": {},
   "outputs": [
    {
     "data": {
      "text/plain": [
       "Index(['Control | Control', 'Believe | Believe',\n",
       "       'Anything Goes | Anything Goes', 'Infinity On High | Infinity On High',\n",
       "       '1989 | 1989', 'Cole Swindell | Cole Swindell', 'Chief | Chief',\n",
       "       'Fearless | Fearless', 'Slow Down ( Remixes ) | Slow Down Remixes',\n",
       "       'Believe ( Deluxe Edition ) | Believe'],\n",
       "      dtype='object')"
      ]
     },
     "execution_count": 47,
     "metadata": {},
     "output_type": "execute_result"
    }
   ],
   "source": [
    "(negnn_onAlbum_exp3['ltable_Album_Name']+\" | \"+negnn_onAlbum_exp3['rtable_Album_Name']).value_counts().keys()[0:10]"
   ]
  },
  {
   "cell_type": "markdown",
   "metadata": {},
   "source": [
    "### Analyze nearest neighbours on artist name"
   ]
  },
  {
   "cell_type": "code",
   "execution_count": null,
   "metadata": {},
   "outputs": [],
   "source": [
    "nn_onArtist = pd.merge(positives_closer_vectors_df,negatives,left_on='Artist_Name',right_on='id')"
   ]
  },
  {
   "cell_type": "code",
   "execution_count": null,
   "metadata": {},
   "outputs": [],
   "source": [
    "nn_onArtist[['ltable_Artist_Name','rtable_Artist_Name']].head(30)"
   ]
  },
  {
   "cell_type": "markdown",
   "metadata": {},
   "source": [
    "### Nearest Neighbours on Time"
   ]
  },
  {
   "cell_type": "code",
   "execution_count": null,
   "metadata": {},
   "outputs": [],
   "source": [
    "nearest_neighbours_onTime = pd.merge(negatives_closer_vectors_df,positives,left_on='Time',right_on='id')"
   ]
  },
  {
   "cell_type": "code",
   "execution_count": null,
   "metadata": {},
   "outputs": [],
   "source": [
    "nearest_neighbours_onTime['rtable_Time'].unique()"
   ]
  },
  {
   "cell_type": "code",
   "execution_count": null,
   "metadata": {},
   "outputs": [],
   "source": [
    "it,variation = find_smallest_variation_to_change(hybrid_model.classifier,positive_classifier_inputs[0],20,6,0)"
   ]
  },
  {
   "cell_type": "code",
   "execution_count": null,
   "metadata": {},
   "outputs": [],
   "source": [
    "positive_classifier_inputs[0][20].data = positive_classifier_inputs[0][20].data.copy_(positive_classifier_inputs[0][20].data+\n",
    "                                                                                     variation.data)"
   ]
  },
  {
   "cell_type": "code",
   "execution_count": null,
   "metadata": {},
   "outputs": [],
   "source": [
    "hybrid_model.classifier.forward(positive_classifier_inputs[0])[20]"
   ]
  },
  {
   "cell_type": "code",
   "execution_count": null,
   "metadata": {},
   "outputs": [],
   "source": [
    "grads_list = []\n",
    "h = positive_classifier_inputs[0].register_hook(lambda g: grads_list.append(g))"
   ]
  },
  {
   "cell_type": "code",
   "execution_count": null,
   "metadata": {},
   "outputs": [],
   "source": [
    "out = hybrid_model.classifier.forward(positive_classifier_inputs[0])\n",
    "prob = get_probabilites(out[20])"
   ]
  },
  {
   "cell_type": "code",
   "execution_count": null,
   "metadata": {},
   "outputs": [],
   "source": [
    "from torch.autograd import Variable\n",
    "true_labels = Variable (torch.cuda.FloatTensor([0,1]))"
   ]
  }
 ],
 "metadata": {
  "kernelspec": {
   "display_name": "Python 3",
   "language": "python",
   "name": "python3"
  },
  "language_info": {
   "codemirror_mode": {
    "name": "ipython",
    "version": 3
   },
   "file_extension": ".py",
   "mimetype": "text/x-python",
   "name": "python",
   "nbconvert_exporter": "python",
   "pygments_lexer": "ipython3",
   "version": "3.6.8"
  }
 },
 "nbformat": 4,
 "nbformat_minor": 2
}

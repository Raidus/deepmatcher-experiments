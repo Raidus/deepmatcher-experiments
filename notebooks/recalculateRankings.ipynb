{
 "cells": [
  {
   "cell_type": "code",
   "execution_count": 1,
   "metadata": {
    "ExecuteTime": {
     "end_time": "2020-02-29T14:57:14.156433Z",
     "start_time": "2020-02-29T14:57:14.150140Z"
    }
   },
   "outputs": [],
   "source": [
    "import sys\n",
    "sys.path.append('..')"
   ]
  },
  {
   "cell_type": "code",
   "execution_count": 2,
   "metadata": {
    "ExecuteTime": {
     "end_time": "2020-02-29T14:57:16.114156Z",
     "start_time": "2020-02-29T14:57:14.581371Z"
    }
   },
   "outputs": [],
   "source": [
    "from utils.intermediate_layer_extraction import return_layer_input\n",
    "import torch.nn.functional as F\n",
    "import deepmatcher as dm\n",
    "import torch\n",
    "import pandas as pd"
   ]
  },
  {
   "cell_type": "code",
   "execution_count": 49,
   "metadata": {
    "ExecuteTime": {
     "end_time": "2020-02-29T15:27:56.277659Z",
     "start_time": "2020-02-29T15:27:56.256944Z"
    }
   },
   "outputs": [],
   "source": [
    "def aggregateRi(ri_list,samples,attributes,matching):\n",
    "    aggregation = []\n",
    "    attribute_len = int(len(list(samples.values())[0])/len(attributes))\n",
    "    for sample_id in samples.keys():\n",
    "        curr_aggregate = []\n",
    "        for idx,_ in enumerate(attributes):\n",
    "            start_idx = idx*attribute_len\n",
    "            end_idx = start_idx+attribute_len\n",
    "            curr_ri = ri_list[sample_id][idx]\n",
    "            perturbation_measure = F.cosine_similarity(samples[sample_id][start_idx:end_idx]\n",
    "                                                                          ,(samples[sample_id]+curr_ri)[start_idx:end_idx],\n",
    "                                                       dim=0)\n",
    "            curr_aggregate.append(perturbation_measure.item())\n",
    "        aggregation.append(curr_aggregate)\n",
    "    df = pd.DataFrame(data=aggregation,columns=attributes)\n",
    "    if matching:\n",
    "        df.mean().plot.bar(color='green')\n",
    "    else:\n",
    "        df.mean().plot.bar(color='red')"
   ]
  },
  {
   "cell_type": "code",
   "execution_count": 4,
   "metadata": {
    "ExecuteTime": {
     "end_time": "2020-02-29T14:57:21.749169Z",
     "start_time": "2020-02-29T14:57:16.860610Z"
    }
   },
   "outputs": [],
   "source": [
    "w_model = dm.MatchingModel(attr_summarizer='hybrid')\n",
    "w_model.load_state('../models/walmartamazon_hybrid.pth')\n",
    "w_model = w_model.to('cuda')"
   ]
  },
  {
   "cell_type": "code",
   "execution_count": 5,
   "metadata": {
    "ExecuteTime": {
     "end_time": "2020-02-29T14:57:41.833078Z",
     "start_time": "2020-02-29T14:57:21.752667Z"
    }
   },
   "outputs": [],
   "source": [
    "testneg_w = return_layer_input(w_model,w_model.classifier,'../datasets/Structured/Walmart-Amazon',\n",
    "                              'test_negatives',0)"
   ]
  },
  {
   "cell_type": "code",
   "execution_count": 6,
   "metadata": {
    "ExecuteTime": {
     "end_time": "2020-02-29T14:57:42.273627Z",
     "start_time": "2020-02-29T14:57:41.835104Z"
    }
   },
   "outputs": [],
   "source": [
    "testneg_ri_w = torch.load('WalmartAmazon/experiment_results/testneg_ri_hybrid.pt')"
   ]
  },
  {
   "cell_type": "code",
   "execution_count": 44,
   "metadata": {
    "ExecuteTime": {
     "end_time": "2020-02-29T15:25:06.871072Z",
     "start_time": "2020-02-29T15:25:04.368893Z"
    }
   },
   "outputs": [
    {
     "data": {
      "image/png": "[encoded data removed]",
      "text/plain": [
       "<Figure size 432x288 with 1 Axes>"
      ]
     },
     "metadata": {
      "needs_background": "light"
     },
     "output_type": "display_data"
    }
   ],
   "source": [
    "attributes = ['title','category','brand','modelno','price']\n",
    "aggregateRi(testneg_ri_w,testneg_w,attributes)"
   ]
  },
  {
   "cell_type": "code",
   "execution_count": 46,
   "metadata": {
    "ExecuteTime": {
     "end_time": "2020-02-29T15:26:38.422340Z",
     "start_time": "2020-02-29T15:26:36.839340Z"
    }
   },
   "outputs": [],
   "source": [
    "testpos_w = return_layer_input(w_model,w_model.classifier,'../datasets/Structured/Walmart-Amazon',\n",
    "                              'test_positives',1)\n",
    "testpos_ri_w = torch.load('WalmartAmazon/experiment_results/testpos_ri_hybrid.pt')"
   ]
  },
  {
   "cell_type": "code",
   "execution_count": 51,
   "metadata": {
    "ExecuteTime": {
     "end_time": "2020-02-29T15:28:06.546835Z",
     "start_time": "2020-02-29T15:28:06.101285Z"
    }
   },
   "outputs": [
    {
     "data": {
      "image/png": "[encoded data removed]",
      "text/plain": [
       "<Figure size 432x288 with 1 Axes>"
      ]
     },
     "metadata": {
      "needs_background": "light"
     },
     "output_type": "display_data"
    }
   ],
   "source": [
    "aggregateRi(testpos_ri_w,testpos_w,attributes,matching=True)"
   ]
  },
  {
   "cell_type": "markdown",
   "metadata": {},
   "source": [
    "## DBLP-ACM"
   ]
  },
  {
   "cell_type": "code",
   "execution_count": 66,
   "metadata": {
    "ExecuteTime": {
     "end_time": "2020-02-29T16:09:12.546394Z",
     "start_time": "2020-02-29T16:09:12.073524Z"
    }
   },
   "outputs": [],
   "source": [
    "da_model = dm.MatchingModel(attr_summarizer='hybrid')\n",
    "da_model.load_state('../models/dblp_acm_hybrid2.pth')\n",
    "da_model = da_model.to('cuda')"
   ]
  },
  {
   "cell_type": "code",
   "execution_count": 67,
   "metadata": {
    "ExecuteTime": {
     "end_time": "2020-02-29T16:09:25.440435Z",
     "start_time": "2020-02-29T16:09:14.020065Z"
    }
   },
   "outputs": [],
   "source": [
    "testneg_da = return_layer_input(da_model,da_model.classifier,'../datasets/Structured/DBLP-ACM',\n",
    "                              'test_negatives',0)"
   ]
  },
  {
   "cell_type": "code",
   "execution_count": 68,
   "metadata": {
    "ExecuteTime": {
     "end_time": "2020-02-29T16:09:25.906425Z",
     "start_time": "2020-02-29T16:09:25.442682Z"
    }
   },
   "outputs": [],
   "source": [
    "testneg_ri_da = torch.load('DBLP-ACM/experiment_results/testneg_ri_hybrid.pt')"
   ]
  },
  {
   "cell_type": "code",
   "execution_count": 69,
   "metadata": {
    "ExecuteTime": {
     "end_time": "2020-02-29T16:09:31.133205Z",
     "start_time": "2020-02-29T16:09:28.815726Z"
    }
   },
   "outputs": [
    {
     "data": {
      "image/png": "[encoded data removed]",
      "text/plain": [
       "<Figure size 432x288 with 1 Axes>"
      ]
     },
     "metadata": {
      "needs_background": "light"
     },
     "output_type": "display_data"
    }
   ],
   "source": [
    "attributes = ['title','authors','venue','year']\n",
    "aggregateRi(testneg_ri_da,testneg_da,attributes,matching=False)"
   ]
  },
  {
   "cell_type": "code",
   "execution_count": 70,
   "metadata": {
    "ExecuteTime": {
     "end_time": "2020-02-29T16:09:38.994486Z",
     "start_time": "2020-02-29T16:09:35.633428Z"
    }
   },
   "outputs": [],
   "source": [
    "testpos_da = return_layer_input(da_model,da_model.classifier,'../datasets/Structured/DBLP-ACM',\n",
    "                              'test_positives',1)"
   ]
  },
  {
   "cell_type": "code",
   "execution_count": 71,
   "metadata": {
    "ExecuteTime": {
     "end_time": "2020-02-29T16:09:42.038613Z",
     "start_time": "2020-02-29T16:09:41.881821Z"
    }
   },
   "outputs": [],
   "source": [
    "testpos_ri_da = torch.load('DBLP-ACM/experiment_results/testpos_ri_hybrid.pt')"
   ]
  },
  {
   "cell_type": "code",
   "execution_count": 72,
   "metadata": {
    "ExecuteTime": {
     "end_time": "2020-02-29T16:09:44.803186Z",
     "start_time": "2020-02-29T16:09:43.983198Z"
    }
   },
   "outputs": [
    {
     "data": {
      "image/png": "[encoded data removed]",
      "text/plain": [
       "<Figure size 432x288 with 1 Axes>"
      ]
     },
     "metadata": {
      "needs_background": "light"
     },
     "output_type": "display_data"
    }
   ],
   "source": [
    "aggregateRi(testpos_ri_da,testpos_da,attributes,matching=True)"
   ]
  },
  {
   "cell_type": "markdown",
   "metadata": {},
   "source": [
    "## Amazon-Google"
   ]
  },
  {
   "cell_type": "code",
   "execution_count": 73,
   "metadata": {
    "ExecuteTime": {
     "end_time": "2020-02-29T16:12:51.061602Z",
     "start_time": "2020-02-29T16:12:50.639352Z"
    }
   },
   "outputs": [],
   "source": [
    "g_model = dm.MatchingModel(attr_summarizer='hybrid')\n",
    "g_model.load_state('../models/amazongoogle_hybrid.pth')\n",
    "g_model = g_model.to('cuda')"
   ]
  },
  {
   "cell_type": "code",
   "execution_count": 74,
   "metadata": {
    "ExecuteTime": {
     "end_time": "2020-02-29T16:23:46.956073Z",
     "start_time": "2020-02-29T16:23:39.963655Z"
    }
   },
   "outputs": [],
   "source": [
    "testneg_g = return_layer_input(g_model,g_model.classifier,'../datasets/Structured/Amazon-Google/',\n",
    "                              'test_negatives',0)"
   ]
  },
  {
   "cell_type": "code",
   "execution_count": 75,
   "metadata": {
    "ExecuteTime": {
     "end_time": "2020-02-29T16:23:57.459558Z",
     "start_time": "2020-02-29T16:23:56.850108Z"
    }
   },
   "outputs": [],
   "source": [
    "testneg_ri_g = torch.load('Amazon-Google/experiment_results/testneg_ri_hybrid.pt')"
   ]
  },
  {
   "cell_type": "code",
   "execution_count": 76,
   "metadata": {
    "ExecuteTime": {
     "end_time": "2020-02-29T16:24:23.160682Z",
     "start_time": "2020-02-29T16:24:23.126282Z"
    }
   },
   "outputs": [
    {
     "ename": "KeyError",
     "evalue": "9167",
     "output_type": "error",
     "traceback": [
      "\u001b[0;31m---------------------------------------------------------------------------\u001b[0m",
      "\u001b[0;31mKeyError\u001b[0m                                  Traceback (most recent call last)",
      "\u001b[0;32m<ipython-input-76-41a115687d05>\u001b[0m in \u001b[0;36m<module>\u001b[0;34m()\u001b[0m\n\u001b[0;32m----> 1\u001b[0;31m \u001b[0maggregateRi\u001b[0m\u001b[0;34m(\u001b[0m\u001b[0mtestneg_ri_g\u001b[0m\u001b[0;34m,\u001b[0m\u001b[0mtestneg_g\u001b[0m\u001b[0;34m,\u001b[0m\u001b[0mattributes\u001b[0m\u001b[0;34m,\u001b[0m\u001b[0mmatching\u001b[0m\u001b[0;34m=\u001b[0m\u001b[0;32mFalse\u001b[0m\u001b[0;34m)\u001b[0m\u001b[0;34m\u001b[0m\u001b[0;34m\u001b[0m\u001b[0m\n\u001b[0m",
      "\u001b[0;32m<ipython-input-49-ddda6a470116>\u001b[0m in \u001b[0;36maggregateRi\u001b[0;34m(ri_list, samples, attributes, matching)\u001b[0m\n\u001b[1;32m      7\u001b[0m             \u001b[0mstart_idx\u001b[0m \u001b[0;34m=\u001b[0m \u001b[0midx\u001b[0m\u001b[0;34m*\u001b[0m\u001b[0mattribute_len\u001b[0m\u001b[0;34m\u001b[0m\u001b[0;34m\u001b[0m\u001b[0m\n\u001b[1;32m      8\u001b[0m             \u001b[0mend_idx\u001b[0m \u001b[0;34m=\u001b[0m \u001b[0mstart_idx\u001b[0m\u001b[0;34m+\u001b[0m\u001b[0mattribute_len\u001b[0m\u001b[0;34m\u001b[0m\u001b[0;34m\u001b[0m\u001b[0m\n\u001b[0;32m----> 9\u001b[0;31m             \u001b[0mcurr_ri\u001b[0m \u001b[0;34m=\u001b[0m \u001b[0mri_list\u001b[0m\u001b[0;34m[\u001b[0m\u001b[0msample_id\u001b[0m\u001b[0;34m]\u001b[0m\u001b[0;34m[\u001b[0m\u001b[0midx\u001b[0m\u001b[0;34m]\u001b[0m\u001b[0;34m\u001b[0m\u001b[0;34m\u001b[0m\u001b[0m\n\u001b[0m\u001b[1;32m     10\u001b[0m             perturbation_measure = F.cosine_similarity(samples[sample_id][start_idx:end_idx]\n\u001b[1;32m     11\u001b[0m                                                                           \u001b[0;34m,\u001b[0m\u001b[0;34m(\u001b[0m\u001b[0msamples\u001b[0m\u001b[0;34m[\u001b[0m\u001b[0msample_id\u001b[0m\u001b[0;34m]\u001b[0m\u001b[0;34m+\u001b[0m\u001b[0mcurr_ri\u001b[0m\u001b[0;34m)\u001b[0m\u001b[0;34m[\u001b[0m\u001b[0mstart_idx\u001b[0m\u001b[0;34m:\u001b[0m\u001b[0mend_idx\u001b[0m\u001b[0;34m]\u001b[0m\u001b[0;34m,\u001b[0m\u001b[0;34m\u001b[0m\u001b[0;34m\u001b[0m\u001b[0m\n",
      "\u001b[0;31mKeyError\u001b[0m: 9167"
     ]
    }
   ],
   "source": [
    "aggregateRi(testneg_ri_g,testneg_g,attributes,matching=False)"
   ]
  },
  {
   "cell_type": "code",
   "execution_count": 78,
   "metadata": {
    "ExecuteTime": {
     "end_time": "2020-02-29T16:24:57.740585Z",
     "start_time": "2020-02-29T16:24:57.723205Z"
    }
   },
   "outputs": [
    {
     "ename": "KeyError",
     "evalue": "9167",
     "output_type": "error",
     "traceback": [
      "\u001b[0;31m---------------------------------------------------------------------------\u001b[0m",
      "\u001b[0;31mKeyError\u001b[0m                                  Traceback (most recent call last)",
      "\u001b[0;32m<ipython-input-78-6cda78c9e05e>\u001b[0m in \u001b[0;36m<module>\u001b[0;34m()\u001b[0m\n\u001b[0;32m----> 1\u001b[0;31m \u001b[0mtestneg_ri_g\u001b[0m\u001b[0;34m[\u001b[0m\u001b[0;36m9167\u001b[0m\u001b[0;34m]\u001b[0m\u001b[0;34m\u001b[0m\u001b[0;34m\u001b[0m\u001b[0m\n\u001b[0m",
      "\u001b[0;31mKeyError\u001b[0m: 9167"
     ]
    }
   ],
   "source": [
    "testneg_ri_g[9167]"
   ]
  },
  {
   "cell_type": "code",
   "execution_count": null,
   "metadata": {},
   "outputs": [],
   "source": []
  }
 ],
 "metadata": {
  "kernelspec": {
   "display_name": "Python 3",
   "language": "python",
   "name": "python3"
  },
  "language_info": {
   "codemirror_mode": {
    "name": "ipython",
    "version": 3
   },
   "file_extension": ".py",
   "mimetype": "text/x-python",
   "name": "python",
   "nbconvert_exporter": "python",
   "pygments_lexer": "ipython3",
   "version": "3.6.10"
  },
  "toc": {
   "base_numbering": 1,
   "nav_menu": {},
   "number_sections": true,
   "sideBar": true,
   "skip_h1_title": false,
   "title_cell": "Table of Contents",
   "title_sidebar": "Contents",
   "toc_cell": false,
   "toc_position": {},
   "toc_section_display": true,
   "toc_window_display": false
  }
 },
 "nbformat": 4,
 "nbformat_minor": 4
}

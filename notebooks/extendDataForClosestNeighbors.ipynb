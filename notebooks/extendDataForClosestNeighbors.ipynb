{
 "cells": [
  {
   "cell_type": "code",
   "execution_count": 1,
   "metadata": {
    "ExecuteTime": {
     "end_time": "2020-02-21T16:56:36.236799Z",
     "start_time": "2020-02-21T16:56:36.218193Z"
    }
   },
   "outputs": [],
   "source": [
    "%load_ext autoreload\n",
    "%autoreload 2\n",
    "import sys\n",
    "sys.path.append('..')"
   ]
  },
  {
   "cell_type": "code",
   "execution_count": 21,
   "metadata": {
    "ExecuteTime": {
     "end_time": "2020-02-21T17:03:16.966514Z",
     "start_time": "2020-02-21T17:03:16.932907Z"
    }
   },
   "outputs": [],
   "source": [
    "from utils.mojito2 import getMixedTriangles,prepareDataset,createPerturbationsFromTriangle,getPositiveTriangles\n",
    "from utils.dataset_parser import generate_train_valid_test\n",
    "import pandas as pd\n",
    "import numpy as np\n",
    "import deepmatcher as dm\n",
    "from utils.distance_measures import smallestDistanceOnAttributes"
   ]
  },
  {
   "cell_type": "markdown",
   "metadata": {},
   "source": [
    "## Preliminary test"
   ]
  },
  {
   "cell_type": "code",
   "execution_count": 40,
   "metadata": {
    "ExecuteTime": {
     "end_time": "2020-02-21T17:17:47.662683Z",
     "start_time": "2020-02-21T17:17:47.612781Z"
    }
   },
   "outputs": [],
   "source": [
    "def buildNewSamples(\n",
    "    mixed_t,\n",
    "    positive_t,\n",
    "    attributes\n",
    "    ,maxLenAttributeSet,\n",
    "    start_id,ordered_columns):\n",
    "    newNegatives = []\n",
    "    newPositives = []\n",
    "    for mtriangle in mixed_t:\n",
    "        negativePer,_ = createPerturbationsFromTriangle(mtriangle,attributes,maxLenAttributeSet,1)\n",
    "        newNegatives.append(negativePer)\n",
    "    for ptriangle in positive_t:\n",
    "        positivePer,_ = createPerturbationsFromTriangle(ptriangle,attributes,maxLenAttributeSet,0)\n",
    "        newPositives.append(positivePer)\n",
    "    newNeg_df = pd.concat(newNegatives,ignore_index=True)\n",
    "    newNeg_df['label'] = [0]*len(newNeg_df)\n",
    "    if len(newPositives) >0:\n",
    "        newPos_df = pd.concat(newPositives,ignore_index=True)\n",
    "        newPos_df['label'] = [1]*len(newPos_df)\n",
    "        newSamples_df = pd.concat([newNeg_df,newPos_df],ignore_index=True)\n",
    "    else:\n",
    "        newSamples_df = newNeg_df\n",
    "    newSamp_df = newSamples_df.drop(['ltable_id','rtable_id','alteredAttributes'],axis=1)\n",
    "    newSamples_df['id'] = np.arange(start_id,len(newSamples_df)+start_id)\n",
    "    newSamples_df = newSamples_df[ordered_columns]\n",
    "    return newSamples_df"
   ]
  },
  {
   "cell_type": "code",
   "execution_count": 3,
   "metadata": {
    "ExecuteTime": {
     "end_time": "2020-02-21T16:06:36.460484Z",
     "start_time": "2020-02-21T16:06:36.182092Z"
    }
   },
   "outputs": [],
   "source": [
    "DATA_DIR = '../datasets/Structured/itunes-amazon/'\n",
    "train,validation, test = generate_train_valid_test(DATA_DIR,['train.csv','valid.csv','test.csv'],\n",
    "                                                  'ltable_','rtable_',drop_lrid=False)\n",
    "allSamples = pd.concat([train,validation,test],ignore_index=True)"
   ]
  },
  {
   "cell_type": "code",
   "execution_count": 4,
   "metadata": {
    "ExecuteTime": {
     "end_time": "2020-02-21T16:06:37.615169Z",
     "start_time": "2020-02-21T16:06:37.434373Z"
    }
   },
   "outputs": [],
   "source": [
    "tableA = pd.read_csv(DATA_DIR+'tableA.csv')\n",
    "tableB = pd.read_csv(DATA_DIR+'tableB.csv')\n",
    "attributes = [col for col in list(tableA) if col not in ['id']]"
   ]
  },
  {
   "cell_type": "code",
   "execution_count": 6,
   "metadata": {
    "ExecuteTime": {
     "end_time": "2020-02-21T12:24:23.028030Z",
     "start_time": "2020-02-21T12:24:12.521050Z"
    }
   },
   "outputs": [
    {
     "name": "stderr",
     "output_type": "stream",
     "text": [
      "100%|██████████| 117/117 [00:10<00:00, 11.23it/s]\n"
     ]
    },
    {
     "data": {
      "text/plain": [
       "597"
      ]
     },
     "execution_count": 6,
     "metadata": {},
     "output_type": "execute_result"
    }
   ],
   "source": [
    "augmentedSamples = prepareDataset(allSamples,tableA,tableB,50)\n",
    "len(augmentedSamples)"
   ]
  },
  {
   "cell_type": "code",
   "execution_count": 7,
   "metadata": {
    "ExecuteTime": {
     "end_time": "2020-02-21T12:25:42.115061Z",
     "start_time": "2020-02-21T12:25:41.804481Z"
    }
   },
   "outputs": [
    {
     "data": {
      "text/plain": [
       "143"
      ]
     },
     "execution_count": 7,
     "metadata": {},
     "output_type": "execute_result"
    }
   ],
   "source": [
    "mixedTriangles = getMixedTriangles(augmentedSamples,[tableA,tableB])\n",
    "len(mixedTriangles)"
   ]
  },
  {
   "cell_type": "code",
   "execution_count": 9,
   "metadata": {
    "ExecuteTime": {
     "end_time": "2020-02-21T12:25:46.033626Z",
     "start_time": "2020-02-21T12:25:44.820964Z"
    }
   },
   "outputs": [
    {
     "data": {
      "text/plain": [
       "1144"
      ]
     },
     "execution_count": 9,
     "metadata": {},
     "output_type": "execute_result"
    }
   ],
   "source": [
    "newSamples_itunes = buildNewSample(mixedTriangles,1)\n",
    "len(newSamples_itunes)"
   ]
  },
  {
   "cell_type": "markdown",
   "metadata": {},
   "source": [
    "## Add new samples to negatives"
   ]
  },
  {
   "cell_type": "code",
   "execution_count": 17,
   "metadata": {
    "ExecuteTime": {
     "end_time": "2020-02-21T16:59:46.993086Z",
     "start_time": "2020-02-21T16:59:46.965361Z"
    }
   },
   "outputs": [],
   "source": [
    "from utils.intermediate_layer_extraction import return_layer_input\n",
    "import deepmatcher as dm\n",
    "import torch"
   ]
  },
  {
   "cell_type": "code",
   "execution_count": 12,
   "metadata": {
    "ExecuteTime": {
     "end_time": "2020-02-21T12:26:10.235017Z",
     "start_time": "2020-02-21T12:26:04.904909Z"
    }
   },
   "outputs": [],
   "source": [
    "model = dm.MatchingModel(attr_summarizer='hybrid')\n",
    "model.load_state('../models/itunes_amazon_hybrid.pth')\n",
    "model = model.to('cuda')"
   ]
  },
  {
   "cell_type": "code",
   "execution_count": 74,
   "metadata": {
    "ExecuteTime": {
     "end_time": "2020-02-21T11:44:12.456186Z",
     "start_time": "2020-02-21T11:44:01.707051Z"
    }
   },
   "outputs": [
    {
     "name": "stderr",
     "output_type": "stream",
     "text": [
      "\n",
      "Reading and processing data from \"../datasets/Structured/itunes-amazon//test_negatives.csv\"\n",
      "0% [############################# ] 100% | ETA: 00:00:00"
     ]
    }
   ],
   "source": [
    "testneg = return_layer_input(model,model.classifier,DATA_DIR,'test_negatives')"
   ]
  },
  {
   "cell_type": "code",
   "execution_count": 78,
   "metadata": {
    "ExecuteTime": {
     "end_time": "2020-02-21T11:51:10.003177Z",
     "start_time": "2020-02-21T11:51:09.919764Z"
    }
   },
   "outputs": [],
   "source": [
    "negatives = pd.read_csv(DATA_DIR+'negatives.csv')\n",
    "newSamples_itunes = newSamples_itunes[negatives.columns.tolist()]\n",
    "newSamples_itunes['id'] = np.arange(len(allSamples)+1,len(allSamples)+1+len(newSamples_itunes))\n",
    "extendedNeg = pd.concat([negatives,newSamples_itunes],ignore_index=True)\n",
    "extendedNeg.to_csv(DATA_DIR+'extended_negatives.csv',index=False)"
   ]
  },
  {
   "cell_type": "code",
   "execution_count": 13,
   "metadata": {
    "ExecuteTime": {
     "end_time": "2020-02-21T12:26:20.118334Z",
     "start_time": "2020-02-21T12:26:10.236624Z"
    }
   },
   "outputs": [
    {
     "name": "stderr",
     "output_type": "stream",
     "text": [
      "\n",
      "Reading and processing data from \"../datasets/Structured/itunes-amazon//test_positives.csv\"\n",
      "0% [########################### ] 100% | ETA: 00:00:00"
     ]
    }
   ],
   "source": [
    "testpos = return_layer_input(model,model.classifier,DATA_DIR,'test_positives')"
   ]
  },
  {
   "cell_type": "code",
   "execution_count": 14,
   "metadata": {
    "ExecuteTime": {
     "end_time": "2020-02-21T12:26:44.951744Z",
     "start_time": "2020-02-21T12:26:35.520269Z"
    }
   },
   "outputs": [
    {
     "name": "stderr",
     "output_type": "stream",
     "text": [
      "\n",
      "Reading and processing data from \"../datasets/Structured/itunes-amazon//extended_negatives.csv\"\n",
      "0% [############################# ] 100% | ETA: 00:00:00"
     ]
    }
   ],
   "source": [
    "negatives = return_layer_input(model,model.classifier,DATA_DIR,'extended_negatives')"
   ]
  },
  {
   "cell_type": "code",
   "execution_count": 22,
   "metadata": {
    "ExecuteTime": {
     "end_time": "2020-02-21T12:33:48.467173Z",
     "start_time": "2020-02-21T12:33:45.870110Z"
    }
   },
   "outputs": [
    {
     "name": "stderr",
     "output_type": "stream",
     "text": [
      "\n",
      "Reading and processing data from \"../datasets/Structured/itunes-amazon//negatives.csv\"\n",
      "0% [############################# ] 100% | ETA: 00:00:00"
     ]
    }
   ],
   "source": [
    "negatives_standard = return_layer_input(model,model.classifier,DATA_DIR,'negatives')"
   ]
  },
  {
   "cell_type": "code",
   "execution_count": 32,
   "metadata": {
    "ExecuteTime": {
     "end_time": "2020-02-21T12:38:46.511111Z",
     "start_time": "2020-02-21T12:38:46.461967Z"
    }
   },
   "outputs": [],
   "source": [
    "testpos_ri = torch.load('iTunes-Amazon/experiments/results/testpos_ri_hybrid.pt')"
   ]
  },
  {
   "cell_type": "code",
   "execution_count": 33,
   "metadata": {
    "ExecuteTime": {
     "end_time": "2020-02-21T12:38:47.721547Z",
     "start_time": "2020-02-21T12:38:47.692053Z"
    }
   },
   "outputs": [],
   "source": [
    "from utils.distance_measures import smallestDistanceOnAttributes"
   ]
  },
  {
   "cell_type": "code",
   "execution_count": 36,
   "metadata": {
    "ExecuteTime": {
     "end_time": "2020-02-21T12:39:09.426678Z",
     "start_time": "2020-02-21T12:39:09.230839Z"
    }
   },
   "outputs": [
    {
     "name": "stderr",
     "output_type": "stream",
     "text": [
      "100%|██████████| 27/27 [00:00<00:00, 180.75it/s]\n"
     ]
    }
   ],
   "source": [
    "attribute_len = int(len(list(testpos.values())[0])/len(attributes))\n",
    "testpos_nn_distances = smallestDistanceOnAttributes(testpos,testpos_ri,\n",
    "                                                       negatives,attributes,attribute_len)"
   ]
  },
  {
   "cell_type": "code",
   "execution_count": 37,
   "metadata": {
    "ExecuteTime": {
     "end_time": "2020-02-21T12:45:51.695506Z",
     "start_time": "2020-02-21T12:45:51.658727Z"
    }
   },
   "outputs": [
    {
     "data": {
      "text/plain": [
       "Song_Name        0.833780\n",
       "Artist_Name      0.533497\n",
       "Album_Name       0.777133\n",
       "Genre            0.227974\n",
       "Price            0.733526\n",
       "CopyRight        0.410668\n",
       "Time             0.912086\n",
       "Released         0.289489\n",
       "SampleID       680.259259\n",
       "dtype: float64"
      ]
     },
     "execution_count": 37,
     "metadata": {},
     "output_type": "execute_result"
    }
   ],
   "source": [
    "testpos_nn_distances.mean()"
   ]
  },
  {
   "cell_type": "code",
   "execution_count": 38,
   "metadata": {
    "ExecuteTime": {
     "end_time": "2020-02-21T12:46:20.097345Z",
     "start_time": "2020-02-21T12:46:19.948659Z"
    }
   },
   "outputs": [
    {
     "name": "stderr",
     "output_type": "stream",
     "text": [
      "100%|██████████| 27/27 [00:00<00:00, 244.23it/s]\n"
     ]
    }
   ],
   "source": [
    "testpos_nn_distances_ext = smallestDistanceOnAttributes(testpos,testpos_ri,\n",
    "                                                       negatives_standard,attributes,attribute_len)"
   ]
  },
  {
   "cell_type": "code",
   "execution_count": 39,
   "metadata": {
    "ExecuteTime": {
     "end_time": "2020-02-21T12:46:28.676533Z",
     "start_time": "2020-02-21T12:46:28.643435Z"
    }
   },
   "outputs": [
    {
     "data": {
      "text/plain": [
       "Song_Name        0.827837\n",
       "Artist_Name      0.547534\n",
       "Album_Name       0.775739\n",
       "Genre            0.193658\n",
       "Price            0.727098\n",
       "CopyRight        0.409678\n",
       "Time             0.909601\n",
       "Released         0.291465\n",
       "SampleID       680.259259\n",
       "dtype: float64"
      ]
     },
     "execution_count": 39,
     "metadata": {},
     "output_type": "execute_result"
    }
   ],
   "source": [
    "testpos_nn_distances_ext.mean()"
   ]
  },
  {
   "cell_type": "markdown",
   "metadata": {},
   "source": [
    "## Amazon-Google"
   ]
  },
  {
   "cell_type": "code",
   "execution_count": 40,
   "metadata": {
    "ExecuteTime": {
     "end_time": "2020-02-21T12:51:29.177314Z",
     "start_time": "2020-02-21T12:51:29.060548Z"
    }
   },
   "outputs": [],
   "source": [
    "DATA_DIR = '../datasets/Structured/Amazon-Google/'\n",
    "train,validation, test = generate_train_valid_test(DATA_DIR,['train.csv','valid.csv','test.csv'],\n",
    "                                                  'ltable_','rtable_',drop_lrid=False)\n",
    "allSamples = pd.concat([train,validation,test],ignore_index=True)"
   ]
  },
  {
   "cell_type": "code",
   "execution_count": 55,
   "metadata": {
    "ExecuteTime": {
     "end_time": "2020-02-21T13:08:32.452997Z",
     "start_time": "2020-02-21T13:08:32.405665Z"
    }
   },
   "outputs": [],
   "source": [
    "tableA = pd.read_csv(DATA_DIR+'tableA.csv')\n",
    "tableB = pd.read_csv(DATA_DIR+'tableB.csv')\n",
    "attributes = [col for col in tableA.columns if col not in ['id']]"
   ]
  },
  {
   "cell_type": "code",
   "execution_count": 43,
   "metadata": {
    "ExecuteTime": {
     "end_time": "2020-02-21T12:57:57.383238Z",
     "start_time": "2020-02-21T12:57:47.080651Z"
    }
   },
   "outputs": [
    {
     "data": {
      "text/plain": [
       "16644"
      ]
     },
     "execution_count": 43,
     "metadata": {},
     "output_type": "execute_result"
    }
   ],
   "source": [
    "mixedTriangles = getMixedTriangles(allSamples,[tableA,tableB])\n",
    "len(mixedTriangles)"
   ]
  },
  {
   "cell_type": "code",
   "execution_count": 57,
   "metadata": {
    "ExecuteTime": {
     "end_time": "2020-02-21T13:10:23.870734Z",
     "start_time": "2020-02-21T13:08:55.381183Z"
    }
   },
   "outputs": [
    {
     "data": {
      "text/plain": [
       "49932"
      ]
     },
     "execution_count": 57,
     "metadata": {},
     "output_type": "execute_result"
    }
   ],
   "source": [
    "newNegatives = buildNewSample(mixedTriangles,attributes,1)\n",
    "len(newNegatives)"
   ]
  },
  {
   "cell_type": "code",
   "execution_count": 61,
   "metadata": {
    "ExecuteTime": {
     "end_time": "2020-02-21T13:16:21.147306Z",
     "start_time": "2020-02-21T13:16:20.571595Z"
    }
   },
   "outputs": [],
   "source": [
    "negatives_google = pd.read_csv(DATA_DIR+'negatives.csv')\n",
    "newSamples_google = newNegatives[negatives_google.columns.tolist()]\n",
    "newSamples_google['id'] = np.arange(len(allSamples)+1,len(allSamples)+1+len(newSamples_google))\n",
    "extendedNeg_google = pd.concat([negatives_google,newSamples_google],ignore_index=True)\n",
    "extendedNeg_google.to_csv(DATA_DIR+'extended_negatives.csv',index=False)"
   ]
  },
  {
   "cell_type": "code",
   "execution_count": 63,
   "metadata": {
    "ExecuteTime": {
     "end_time": "2020-02-21T13:17:59.979808Z",
     "start_time": "2020-02-21T13:17:59.594698Z"
    }
   },
   "outputs": [],
   "source": [
    "google_model = dm.MatchingModel(attr_summarizer='hybrid')\n",
    "google_model.load_state('../models/amazongoogle_hybrid.pth')\n",
    "google_model = google_model.to('cuda')"
   ]
  },
  {
   "cell_type": "code",
   "execution_count": 65,
   "metadata": {
    "ExecuteTime": {
     "end_time": "2020-02-21T13:18:14.965521Z",
     "start_time": "2020-02-21T13:18:14.195776Z"
    }
   },
   "outputs": [
    {
     "name": "stderr",
     "output_type": "stream",
     "text": [
      "\n",
      "Reading and processing data from \"../datasets/Structured/Amazon-Google//test_positives.csv\"\n",
      "0% [############################# ] 100% | ETA: 00:00:00"
     ]
    }
   ],
   "source": [
    "testpos = return_layer_input(google_model,google_model.classifier,DATA_DIR,'test_positives')\n",
    "testpos_ri = torch.load('Amazon-Google/experiment_results/testpos_ri_hybrid.pt')"
   ]
  },
  {
   "cell_type": "code",
   "execution_count": 66,
   "metadata": {
    "ExecuteTime": {
     "end_time": "2020-02-21T13:21:41.389608Z",
     "start_time": "2020-02-21T13:19:24.508058Z"
    }
   },
   "outputs": [
    {
     "name": "stderr",
     "output_type": "stream",
     "text": [
      "\n",
      "Reading and processing data from \"../datasets/Structured/Amazon-Google//extended_negatives.csv\"\n",
      "0% [##############################] 100% | ETA: 00:00:00\n",
      "Reading and processing data from \"../datasets/Structured/Amazon-Google//negatives.csv\"\n",
      "0% [############################# ] 100% | ETA: 00:00:00"
     ]
    }
   ],
   "source": [
    "negatives = return_layer_input(google_model,google_model.classifier,DATA_DIR,'extended_negatives')\n",
    "negatives_standard = return_layer_input(google_model,google_model.classifier,DATA_DIR,'negatives')"
   ]
  },
  {
   "cell_type": "code",
   "execution_count": 68,
   "metadata": {
    "ExecuteTime": {
     "end_time": "2020-02-21T13:23:58.628258Z",
     "start_time": "2020-02-21T13:23:57.406284Z"
    }
   },
   "outputs": [
    {
     "name": "stderr",
     "output_type": "stream",
     "text": [
      "100%|██████████| 234/234 [00:01<00:00, 209.87it/s]\n"
     ]
    }
   ],
   "source": [
    "attribute_len = int(len(list(testpos.values())[0])/len(attributes))\n",
    "testpos_nn_distances = smallestDistanceOnAttributes(testpos,testpos_ri,\n",
    "                                                       negatives_standard,attributes,attribute_len)"
   ]
  },
  {
   "cell_type": "code",
   "execution_count": 69,
   "metadata": {
    "ExecuteTime": {
     "end_time": "2020-02-21T13:24:09.597213Z",
     "start_time": "2020-02-21T13:24:09.560560Z"
    }
   },
   "outputs": [
    {
     "data": {
      "text/plain": [
       "title               0.903194\n",
       "manufacturer        0.789692\n",
       "price               0.855613\n",
       "SampleID        10792.645299\n",
       "dtype: float64"
      ]
     },
     "execution_count": 69,
     "metadata": {},
     "output_type": "execute_result"
    }
   ],
   "source": [
    "testpos_nn_distances.mean()"
   ]
  },
  {
   "cell_type": "code",
   "execution_count": 70,
   "metadata": {
    "ExecuteTime": {
     "end_time": "2020-02-21T13:24:34.849771Z",
     "start_time": "2020-02-21T13:24:29.322395Z"
    }
   },
   "outputs": [
    {
     "name": "stderr",
     "output_type": "stream",
     "text": [
      "100%|██████████| 234/234 [00:04<00:00, 47.54it/s]\n"
     ]
    }
   ],
   "source": [
    "testpos_nn_distances = smallestDistanceOnAttributes(testpos,testpos_ri,\n",
    "                                                       negatives,attributes,attribute_len)"
   ]
  },
  {
   "cell_type": "code",
   "execution_count": 71,
   "metadata": {
    "ExecuteTime": {
     "end_time": "2020-02-21T13:24:40.395046Z",
     "start_time": "2020-02-21T13:24:40.358536Z"
    }
   },
   "outputs": [
    {
     "data": {
      "text/plain": [
       "title               0.952535\n",
       "manufacturer        0.793158\n",
       "price               0.861843\n",
       "SampleID        10792.645299\n",
       "dtype: float64"
      ]
     },
     "execution_count": 71,
     "metadata": {},
     "output_type": "execute_result"
    }
   ],
   "source": [
    "testpos_nn_distances.mean()"
   ]
  },
  {
   "cell_type": "markdown",
   "metadata": {},
   "source": [
    "## Walmart-Amazon"
   ]
  },
  {
   "cell_type": "code",
   "execution_count": 3,
   "metadata": {
    "ExecuteTime": {
     "end_time": "2020-02-21T16:56:41.597980Z",
     "start_time": "2020-02-21T16:56:41.427686Z"
    }
   },
   "outputs": [],
   "source": [
    "DATA_DIR = '../datasets/Structured/Walmart-Amazon/'\n",
    "train,validation, test = generate_train_valid_test(DATA_DIR,['train.csv','valid.csv','test.csv'],\n",
    "                                                  'ltable_','rtable_',drop_lrid=False)\n",
    "allSamples = pd.concat([train,validation,test],ignore_index=True)\n",
    "tableA = pd.read_csv(DATA_DIR+'tableA.csv')\n",
    "tableB = pd.read_csv(DATA_DIR+'tableB.csv')\n",
    "attributes = [col for col in tableA.columns if col not in ['id']]"
   ]
  },
  {
   "cell_type": "code",
   "execution_count": 4,
   "metadata": {
    "ExecuteTime": {
     "end_time": "2020-02-21T16:56:46.443794Z",
     "start_time": "2020-02-21T16:56:41.748315Z"
    }
   },
   "outputs": [
    {
     "data": {
      "text/plain": [
       "(5240, 242)"
      ]
     },
     "execution_count": 4,
     "metadata": {},
     "output_type": "execute_result"
    }
   ],
   "source": [
    "mixedTriangles = getMixedTriangles(allSamples,[tableA,tableB])\n",
    "positiveTriangles = getPositiveTriangles(allSamples,[tableA,tableB])\n",
    "len(mixedTriangles),len(positiveTriangles)"
   ]
  },
  {
   "cell_type": "code",
   "execution_count": 9,
   "metadata": {
    "ExecuteTime": {
     "end_time": "2020-02-21T16:57:27.453344Z",
     "start_time": "2020-02-21T16:57:27.370043Z"
    }
   },
   "outputs": [],
   "source": [
    "negatives = pd.read_csv(DATA_DIR+'negatives.csv')\n",
    "positives = pd.read_csv(DATA_DIR+'positives.csv')"
   ]
  },
  {
   "cell_type": "code",
   "execution_count": 11,
   "metadata": {
    "ExecuteTime": {
     "end_time": "2020-02-21T16:58:16.447432Z",
     "start_time": "2020-02-21T16:57:32.874970Z"
    }
   },
   "outputs": [],
   "source": [
    "newSamples = buildNewSamples(mixedTriangles,positiveTriangles,attributes,1,start_id=len(allSamples)+1,\n",
    "                              ordered_columns=negatives.columns.tolist())"
   ]
  },
  {
   "cell_type": "code",
   "execution_count": 13,
   "metadata": {
    "ExecuteTime": {
     "end_time": "2020-02-21T16:59:31.286766Z",
     "start_time": "2020-02-21T16:59:30.787034Z"
    }
   },
   "outputs": [],
   "source": [
    "newNegatives = newSamples[newSamples.label==0]\n",
    "newPositives = newSamples[newSamples.label==1]\n",
    "extendedNeg = pd.concat([negatives,newNegatives],ignore_index=True)\n",
    "extendedPos = pd.concat([positives,newPositives],ignore_index=True)\n",
    "extendedNeg.to_csv(DATA_DIR+'extended_negatives.csv',index=False)\n",
    "extendedPos.to_csv(DATA_DIR+'extended_positives.csv',index=False)"
   ]
  },
  {
   "cell_type": "code",
   "execution_count": 14,
   "metadata": {
    "ExecuteTime": {
     "end_time": "2020-02-21T16:59:37.129958Z",
     "start_time": "2020-02-21T16:59:33.477385Z"
    }
   },
   "outputs": [],
   "source": [
    "walmart_model = dm.MatchingModel(attr_summarizer='hybrid')\n",
    "walmart_model.load_state('../models/walmartamazon_hybrid.pth')\n",
    "walmart_model = walmart_model.to('cuda')"
   ]
  },
  {
   "cell_type": "code",
   "execution_count": 18,
   "metadata": {
    "ExecuteTime": {
     "end_time": "2020-02-21T17:00:04.233208Z",
     "start_time": "2020-02-21T16:59:51.216272Z"
    }
   },
   "outputs": [
    {
     "name": "stderr",
     "output_type": "stream",
     "text": [
      "\n",
      "Reading and processing data from \"../datasets/Structured/Walmart-Amazon//test_positives.csv\"\n",
      "0% [############################# ] 100% | ETA: 00:00:00"
     ]
    }
   ],
   "source": [
    "testpos = return_layer_input(walmart_model,walmart_model.classifier,DATA_DIR,'test_positives')\n",
    "testpos_ri = torch.load('WalmartAmazon/experiment_results/testpos_ri_hybrid.pt')"
   ]
  },
  {
   "cell_type": "code",
   "execution_count": 19,
   "metadata": {
    "ExecuteTime": {
     "end_time": "2020-02-21T17:03:02.327747Z",
     "start_time": "2020-02-21T17:00:04.235484Z"
    }
   },
   "outputs": [
    {
     "name": "stderr",
     "output_type": "stream",
     "text": [
      "\n",
      "Reading and processing data from \"../datasets/Structured/Walmart-Amazon//extended_negatives.csv\"\n",
      "0% [##############################] 100% | ETA: 00:00:00\n",
      "Reading and processing data from \"../datasets/Structured/Walmart-Amazon//negatives.csv\"\n",
      "0% [############################# ] 100% | ETA: 00:00:00"
     ]
    }
   ],
   "source": [
    "negatives = return_layer_input(walmart_model,walmart_model.classifier,DATA_DIR,'extended_negatives')\n",
    "negatives_standard = return_layer_input(walmart_model,walmart_model.classifier,DATA_DIR,'negatives')"
   ]
  },
  {
   "cell_type": "code",
   "execution_count": 22,
   "metadata": {
    "ExecuteTime": {
     "end_time": "2020-02-21T17:03:24.077016Z",
     "start_time": "2020-02-21T17:03:22.372782Z"
    }
   },
   "outputs": [
    {
     "name": "stderr",
     "output_type": "stream",
     "text": [
      "100%|██████████| 193/193 [00:01<00:00, 120.35it/s]\n"
     ]
    }
   ],
   "source": [
    "attribute_len = int(len(list(testpos.values())[0])/len(attributes))\n",
    "testpos_nn_distances = smallestDistanceOnAttributes(testpos,testpos_ri,\n",
    "                                                       negatives_standard,attributes,attribute_len)"
   ]
  },
  {
   "cell_type": "code",
   "execution_count": 23,
   "metadata": {
    "ExecuteTime": {
     "end_time": "2020-02-21T17:03:26.526484Z",
     "start_time": "2020-02-21T17:03:26.494008Z"
    }
   },
   "outputs": [
    {
     "data": {
      "text/plain": [
       "title          0.795817\n",
       "category       0.620736\n",
       "brand          0.694728\n",
       "modelno        0.983838\n",
       "price          0.673510\n",
       "SampleID    9569.124352\n",
       "dtype: float64"
      ]
     },
     "execution_count": 23,
     "metadata": {},
     "output_type": "execute_result"
    }
   ],
   "source": [
    "testpos_nn_distances.mean()"
   ]
  },
  {
   "cell_type": "code",
   "execution_count": 24,
   "metadata": {
    "ExecuteTime": {
     "end_time": "2020-02-21T17:03:32.654615Z",
     "start_time": "2020-02-21T17:03:27.408698Z"
    }
   },
   "outputs": [
    {
     "name": "stderr",
     "output_type": "stream",
     "text": [
      "100%|██████████| 193/193 [00:04<00:00, 39.34it/s]\n"
     ]
    }
   ],
   "source": [
    "testpos_nn_distances = smallestDistanceOnAttributes(testpos,testpos_ri,\n",
    "                                                       negatives,attributes,attribute_len)"
   ]
  },
  {
   "cell_type": "code",
   "execution_count": 25,
   "metadata": {
    "ExecuteTime": {
     "end_time": "2020-02-21T17:03:32.678120Z",
     "start_time": "2020-02-21T17:03:32.656176Z"
    }
   },
   "outputs": [
    {
     "data": {
      "text/plain": [
       "title          0.808267\n",
       "category       0.624711\n",
       "brand          0.696902\n",
       "modelno        0.985982\n",
       "price          0.695742\n",
       "SampleID    9569.124352\n",
       "dtype: float64"
      ]
     },
     "execution_count": 25,
     "metadata": {},
     "output_type": "execute_result"
    }
   ],
   "source": [
    "testpos_nn_distances.mean()"
   ]
  },
  {
   "cell_type": "code",
   "execution_count": 26,
   "metadata": {
    "ExecuteTime": {
     "end_time": "2020-02-21T17:04:37.756908Z",
     "start_time": "2020-02-21T17:04:24.781367Z"
    }
   },
   "outputs": [
    {
     "name": "stderr",
     "output_type": "stream",
     "text": [
      "\n",
      "Reading and processing data from \"../datasets/Structured/Walmart-Amazon//extended_positives.csv\"\n",
      "0% [############################# ] 100% | ETA: 00:00:00\n",
      "Reading and processing data from \"../datasets/Structured/Walmart-Amazon//positives.csv\"\n",
      "0% [############################# ] 100% | ETA: 00:00:00"
     ]
    }
   ],
   "source": [
    "positives = return_layer_input(walmart_model,walmart_model.classifier,DATA_DIR,'extended_positives')\n",
    "positives_standard = return_layer_input(walmart_model,walmart_model.classifier,DATA_DIR,'positives')"
   ]
  },
  {
   "cell_type": "code",
   "execution_count": 27,
   "metadata": {
    "ExecuteTime": {
     "end_time": "2020-02-21T17:05:44.579199Z",
     "start_time": "2020-02-21T17:05:36.301670Z"
    }
   },
   "outputs": [
    {
     "name": "stderr",
     "output_type": "stream",
     "text": [
      "\n",
      "Reading and processing data from \"../datasets/Structured/Walmart-Amazon//test_negatives.csv\"\n",
      "0% [############################# ] 100% | ETA: 00:00:00"
     ]
    }
   ],
   "source": [
    "testneg = return_layer_input(walmart_model,walmart_model.classifier,DATA_DIR,'test_negatives')\n",
    "testneg_ri = torch.load('WalmartAmazon/experiment_results/testneg_ri_hybrid.pt')"
   ]
  },
  {
   "cell_type": "code",
   "execution_count": 28,
   "metadata": {
    "ExecuteTime": {
     "end_time": "2020-02-21T17:06:23.613147Z",
     "start_time": "2020-02-21T17:06:19.065107Z"
    }
   },
   "outputs": [
    {
     "name": "stderr",
     "output_type": "stream",
     "text": [
      "100%|██████████| 1856/1856 [00:04<00:00, 412.66it/s]\n"
     ]
    }
   ],
   "source": [
    "testneg_nn_distances = smallestDistanceOnAttributes(testneg,testneg_ri,\n",
    "                                                       positives_standard,attributes,attribute_len)"
   ]
  },
  {
   "cell_type": "code",
   "execution_count": 29,
   "metadata": {
    "ExecuteTime": {
     "end_time": "2020-02-21T17:06:33.389537Z",
     "start_time": "2020-02-21T17:06:33.352443Z"
    }
   },
   "outputs": [
    {
     "data": {
      "text/plain": [
       "title          0.843466\n",
       "category       0.541637\n",
       "brand          0.587059\n",
       "modelno        0.865887\n",
       "price          0.670304\n",
       "SampleID    9180.383621\n",
       "dtype: float64"
      ]
     },
     "execution_count": 29,
     "metadata": {},
     "output_type": "execute_result"
    }
   ],
   "source": [
    "testneg_nn_distances.mean()"
   ]
  },
  {
   "cell_type": "code",
   "execution_count": 30,
   "metadata": {
    "ExecuteTime": {
     "end_time": "2020-02-21T17:06:57.438497Z",
     "start_time": "2020-02-21T17:06:51.503091Z"
    }
   },
   "outputs": [
    {
     "name": "stderr",
     "output_type": "stream",
     "text": [
      "100%|██████████| 1856/1856 [00:05<00:00, 315.69it/s]\n"
     ]
    }
   ],
   "source": [
    "testneg_nn_distances = smallestDistanceOnAttributes(testneg,testneg_ri,\n",
    "                                                       positives,attributes,attribute_len)"
   ]
  },
  {
   "cell_type": "code",
   "execution_count": 31,
   "metadata": {
    "ExecuteTime": {
     "end_time": "2020-02-21T17:07:01.161645Z",
     "start_time": "2020-02-21T17:07:01.125695Z"
    }
   },
   "outputs": [
    {
     "data": {
      "text/plain": [
       "title          0.846741\n",
       "category       0.543813\n",
       "brand          0.588845\n",
       "modelno        0.868078\n",
       "price          0.673183\n",
       "SampleID    9180.383621\n",
       "dtype: float64"
      ]
     },
     "execution_count": 31,
     "metadata": {},
     "output_type": "execute_result"
    }
   ],
   "source": [
    "testneg_nn_distances.mean()"
   ]
  },
  {
   "cell_type": "markdown",
   "metadata": {},
   "source": [
    "## DBLP-ACM"
   ]
  },
  {
   "cell_type": "code",
   "execution_count": 32,
   "metadata": {
    "ExecuteTime": {
     "end_time": "2020-02-21T17:07:52.054940Z",
     "start_time": "2020-02-21T17:07:51.936194Z"
    }
   },
   "outputs": [],
   "source": [
    "DATA_DIR = '../datasets/Structured/DBLP-ACM/'\n",
    "train,validation, test = generate_train_valid_test(DATA_DIR,['train.csv','valid.csv','test.csv'],\n",
    "                                                  'ltable_','rtable_',drop_lrid=False)\n",
    "allSamples = pd.concat([train,validation,test],ignore_index=True)\n",
    "tableA = pd.read_csv(DATA_DIR+'tableA.csv')\n",
    "tableB = pd.read_csv(DATA_DIR+'tableB.csv')\n",
    "attributes = [col for col in tableA.columns if col not in ['id']]"
   ]
  },
  {
   "cell_type": "code",
   "execution_count": 33,
   "metadata": {
    "ExecuteTime": {
     "end_time": "2020-02-21T17:08:18.022010Z",
     "start_time": "2020-02-21T17:08:03.127925Z"
    }
   },
   "outputs": [
    {
     "data": {
      "text/plain": [
       "(18881, 0)"
      ]
     },
     "execution_count": 33,
     "metadata": {},
     "output_type": "execute_result"
    }
   ],
   "source": [
    "mixedTriangles = getMixedTriangles(allSamples,[tableA,tableB])\n",
    "positiveTriangles = getPositiveTriangles(allSamples,[tableA,tableB])\n",
    "len(mixedTriangles),len(positiveTriangles)"
   ]
  },
  {
   "cell_type": "code",
   "execution_count": 38,
   "metadata": {
    "ExecuteTime": {
     "end_time": "2020-02-21T17:11:51.887270Z",
     "start_time": "2020-02-21T17:11:51.764888Z"
    }
   },
   "outputs": [],
   "source": [
    "negatives = pd.read_csv(DATA_DIR+'negatives.csv')\n",
    "positives = pd.read_csv(DATA_DIR+'positives.csv')"
   ]
  },
  {
   "cell_type": "code",
   "execution_count": 41,
   "metadata": {
    "ExecuteTime": {
     "end_time": "2020-02-21T17:20:14.736804Z",
     "start_time": "2020-02-21T17:17:54.766584Z"
    }
   },
   "outputs": [],
   "source": [
    "newSamples = buildNewSamples(mixedTriangles,positiveTriangles,attributes,1,start_id=len(allSamples)+1,\n",
    "                              ordered_columns=negatives.columns.tolist())"
   ]
  },
  {
   "cell_type": "code",
   "execution_count": 42,
   "metadata": {
    "ExecuteTime": {
     "end_time": "2020-02-21T17:20:27.976271Z",
     "start_time": "2020-02-21T17:20:26.892746Z"
    }
   },
   "outputs": [],
   "source": [
    "newNegatives = newSamples[newSamples.label==0]\n",
    "##newPositives = newSamples[newSamples.label==1]\n",
    "extendedNeg = pd.concat([negatives,newNegatives],ignore_index=True)\n",
    "extendedNeg.to_csv(DATA_DIR+'extended_negatives.csv',index=False)"
   ]
  },
  {
   "cell_type": "code",
   "execution_count": 43,
   "metadata": {
    "ExecuteTime": {
     "end_time": "2020-02-21T17:21:12.846372Z",
     "start_time": "2020-02-21T17:21:12.382019Z"
    }
   },
   "outputs": [],
   "source": [
    "dblp_model = dm.MatchingModel(attr_summarizer='hybrid')\n",
    "dblp_model.load_state('../models/dblp_acm_hybrid.pth')\n",
    "dblp_model = dblp_model.to('cuda')"
   ]
  },
  {
   "cell_type": "code",
   "execution_count": 44,
   "metadata": {
    "ExecuteTime": {
     "end_time": "2020-02-21T17:21:46.155171Z",
     "start_time": "2020-02-21T17:21:44.146061Z"
    }
   },
   "outputs": [
    {
     "name": "stderr",
     "output_type": "stream",
     "text": [
      "\n",
      "Reading and processing data from \"../datasets/Structured/DBLP-ACM//test_positives.csv\"\n",
      "0% [############################# ] 100% | ETA: 00:00:00"
     ]
    }
   ],
   "source": [
    "testpos = return_layer_input(dblp_model,dblp_model.classifier,DATA_DIR,'test_positives')\n",
    "testpos_ri = torch.load('DBLP-ACM/experiment_results/testpos_ri_hybrid.pt')"
   ]
  },
  {
   "cell_type": "code",
   "execution_count": 45,
   "metadata": {
    "ExecuteTime": {
     "end_time": "2020-02-21T17:28:04.776609Z",
     "start_time": "2020-02-21T17:22:12.392463Z"
    }
   },
   "outputs": [
    {
     "name": "stderr",
     "output_type": "stream",
     "text": [
      "\n",
      "Reading and processing data from \"../datasets/Structured/DBLP-ACM//extended_negatives.csv\"\n",
      "0% [##############################] 100% | ETA: 00:00:00\n",
      "Reading and processing data from \"../datasets/Structured/DBLP-ACM//negatives.csv\"\n",
      "0% [############################# ] 100% | ETA: 00:00:00"
     ]
    }
   ],
   "source": [
    "negatives = return_layer_input(dblp_model,dblp_model.classifier,DATA_DIR,'extended_negatives')\n",
    "negatives_standard = return_layer_input(dblp_model,dblp_model.classifier,DATA_DIR,'negatives')"
   ]
  },
  {
   "cell_type": "code",
   "execution_count": 46,
   "metadata": {
    "ExecuteTime": {
     "end_time": "2020-02-21T17:28:08.469464Z",
     "start_time": "2020-02-21T17:28:05.517534Z"
    }
   },
   "outputs": [
    {
     "name": "stderr",
     "output_type": "stream",
     "text": [
      "100%|██████████| 444/444 [00:02<00:00, 154.08it/s]\n"
     ]
    }
   ],
   "source": [
    "attribute_len = int(len(list(testpos.values())[0])/len(attributes))\n",
    "testpos_nn_distances = smallestDistanceOnAttributes(testpos,testpos_ri,\n",
    "                                                       negatives_standard,attributes,attribute_len)"
   ]
  },
  {
   "cell_type": "code",
   "execution_count": 47,
   "metadata": {
    "ExecuteTime": {
     "end_time": "2020-02-21T17:28:14.248669Z",
     "start_time": "2020-02-21T17:28:14.210800Z"
    }
   },
   "outputs": [
    {
     "data": {
      "text/plain": [
       "title           0.558767\n",
       "authors         0.520618\n",
       "venue           0.383427\n",
       "year            0.466157\n",
       "SampleID    11350.813063\n",
       "dtype: float64"
      ]
     },
     "execution_count": 47,
     "metadata": {},
     "output_type": "execute_result"
    }
   ],
   "source": [
    "testpos_nn_distances.mean()"
   ]
  },
  {
   "cell_type": "code",
   "execution_count": null,
   "metadata": {
    "ExecuteTime": {
     "start_time": "2020-02-21T17:28:32.228Z"
    }
   },
   "outputs": [
    {
     "name": "stderr",
     "output_type": "stream",
     "text": [
      "  9%|▉         | 41/444 [00:01<00:18, 21.84it/s]"
     ]
    }
   ],
   "source": [
    "testpos_nn_distances = smallestDistanceOnAttributes(testpos,testpos_ri,\n",
    "                                                       negatives,attributes,attribute_len)"
   ]
  },
  {
   "cell_type": "code",
   "execution_count": null,
   "metadata": {},
   "outputs": [],
   "source": []
  }
 ],
 "metadata": {
  "kernelspec": {
   "display_name": "Python 3",
   "language": "python",
   "name": "python3"
  },
  "language_info": {
   "codemirror_mode": {
    "name": "ipython",
    "version": 3
   },
   "file_extension": ".py",
   "mimetype": "text/x-python",
   "name": "python",
   "nbconvert_exporter": "python",
   "pygments_lexer": "ipython3",
   "version": "3.6.10"
  },
  "toc": {
   "base_numbering": 1,
   "nav_menu": {},
   "number_sections": true,
   "sideBar": true,
   "skip_h1_title": false,
   "title_cell": "Table of Contents",
   "title_sidebar": "Contents",
   "toc_cell": false,
   "toc_position": {
    "height": "calc(100% - 180px)",
    "left": "10px",
    "top": "150px",
    "width": "384px"
   },
   "toc_section_display": true,
   "toc_window_display": true
  }
 },
 "nbformat": 4,
 "nbformat_minor": 4
}

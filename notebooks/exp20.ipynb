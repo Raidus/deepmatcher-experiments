{
 "cells": [
  {
   "cell_type": "markdown",
   "metadata": {},
   "source": [
    "# Exp 20 \n",
    "analyze nearest neighbors of positive and negative samples"
   ]
  },
  {
   "cell_type": "code",
   "execution_count": 2,
   "metadata": {},
   "outputs": [],
   "source": [
    "import pandas as pd"
   ]
  },
  {
   "cell_type": "code",
   "execution_count": 3,
   "metadata": {},
   "outputs": [],
   "source": [
    "def read_datasets(*paths):\n",
    "    datasets= []\n",
    "    for path in paths:\n",
    "        datasets.append(pd.read_csv(path))\n",
    "    return datasets"
   ]
  },
  {
   "cell_type": "code",
   "execution_count": 4,
   "metadata": {},
   "outputs": [],
   "source": [
    "def getAttributes(df,ignore_columns=['id','label'],left_prefix='ltable_',right_prefix='rtable_'):\n",
    "    attributes = set()\n",
    "    for att in list(df):\n",
    "        if att not in ignore_columns:\n",
    "            attribute = att.replace(left_prefix,\"\").replace(right_prefix,\"\")\n",
    "            attributes.add(attribute)\n",
    "    return attributes"
   ]
  },
  {
   "cell_type": "code",
   "execution_count": 5,
   "metadata": {},
   "outputs": [],
   "source": [
    "import numpy as np\n",
    "def getMeanEditDistance(attribute_values,sep,comparator):\n",
    "    distances = []\n",
    "    for attr_val in attribute_values:\n",
    "        edit_dist = comparator.distance(attr_val.split(sep)[0],attr_val.split(sep)[1])\n",
    "        distances.append(edit_dist)\n",
    "    distances = np.array(distances)\n",
    "    return np.mean(distances)"
   ]
  },
  {
   "cell_type": "code",
   "execution_count": 6,
   "metadata": {},
   "outputs": [],
   "source": [
    "def calculateMeanEditDistances(nn_dataset,opposite_label_data,attributes,str_comparator,left_prefix='ltable_',\n",
    "                               right_prefix='rtable_',sep=\"|\"):\n",
    "    mean_distances = {}\n",
    "    for att in attributes:\n",
    "        nn_values = pd.merge(nn_dataset,opposite_label_data,left_on=att,right_on='id')\n",
    "        left_col = nn_values[left_prefix+att].astype('str')\n",
    "        right_col = nn_values[right_prefix+att].astype('str')\n",
    "        nn_values_distribution = (left_col+\"|\"+right_col).value_counts()\n",
    "        mean_edit_distances = getMeanEditDistance(nn_values_distribution.keys(),sep=sep,comparator=str_comparator)\n",
    "        mean_distances[att] = mean_edit_distances\n",
    "    return mean_distances"
   ]
  },
  {
   "cell_type": "code",
   "execution_count": null,
   "metadata": {},
   "outputs": [],
   "source": []
  },
  {
   "cell_type": "code",
   "execution_count": 7,
   "metadata": {},
   "outputs": [],
   "source": [
    "import re\n",
    "from nltk.util import ngrams\n",
    "\n",
    "def getNGrams(sentence,N):\n",
    "    s = sentence.lower()\n",
    "    s = re.sub(r'[^a-zA-Z0-9\\s]', ' ', s)\n",
    "    tokens = [token for token in s.split(\" \") if token != \"\"]\n",
    "    return list(ngrams(tokens,N))"
   ]
  },
  {
   "cell_type": "code",
   "execution_count": 30,
   "metadata": {},
   "outputs": [],
   "source": [
    "def commonNGrams(sentences):\n",
    "    result = set(sentences[0])\n",
    "    for s in sentences[1:]:\n",
    "        result.intersection_update(s)\n",
    "    return result\n",
    "\n",
    "def getLongestNGramInCommon(sentences):\n",
    "    maxNGramLength = min(list(map(lambda sent:len(sent.split()),sentences)))\n",
    "    currentMax = 0\n",
    "    maxNGram = []\n",
    "    for i in range(maxNGramLength+1):\n",
    "        ngrams = list(map(lambda sent: getNGrams(sent,i),sentences))\n",
    "        intersection = commonNGrams(ngrams)\n",
    "        if len(intersection)>0:\n",
    "            currentMax = len(intersection)\n",
    "            maxNGram = intersection\n",
    "    return maxNGram"
   ]
  },
  {
   "cell_type": "code",
   "execution_count": 33,
   "metadata": {},
   "outputs": [
    {
     "data": {
      "text/plain": [
       "{('simpatici',)}"
      ]
     },
     "execution_count": 33,
     "metadata": {},
     "output_type": "execute_result"
    }
   ],
   "source": [
    "s1 = \"ciao simpatici belli\"\n",
    "s2 = \"mucconi simpatici\"\n",
    "s3 = \"niente in comune simpatici\"\n",
    "getLongestNGramInCommon([s1,s2,s3])"
   ]
  },
  {
   "cell_type": "code",
   "execution_count": 68,
   "metadata": {},
   "outputs": [],
   "source": [
    "def findPatternsInNeighbors(nn_dataset,opposite_label_data,attributes,k,left_prefix='ltable_',right_prefix='rtable_'):\n",
    "    commonPatterns = {}\n",
    "    for att in attributes:\n",
    "        occurrences = nn_dataset[att].value_counts()\n",
    "        occurrences_df = occurrences.rename_axis('unique_id').reset_index(name='counts')\n",
    "        occurrences_df = occurrences_df.head(k)\n",
    "        nn_values = pd.merge(occurrences_df,opposite_label_data,left_on='unique_id',right_on='id')\n",
    "        left_common_ngrams = getLongestNGramInCommon(nn_values[left_prefix+att])\n",
    "        right_common_ngrams = getLongestNGramInCommon(nn_values[right_prefix+att])\n",
    "        commonPatterns[left_prefix+att] = left_common_ngrams\n",
    "        commonPatterns[right_prefix+att] = right_common_ngrams\n",
    "    return commonPatterns"
   ]
  },
  {
   "cell_type": "markdown",
   "metadata": {},
   "source": [
    "## Itunes-Amazon"
   ]
  },
  {
   "cell_type": "code",
   "execution_count": 69,
   "metadata": {},
   "outputs": [],
   "source": [
    "datasets = read_datasets('iTunes-Amazon/experiments-results/exp3/positives_nn.csv',\n",
    "                         'iTunes-Amazon/experiments-results/exp3/negatives_nn.csv',\n",
    "                        '../Structured/itunes-amazon/positives.csv',\n",
    "                        '../Structured/itunes-amazon/negatives.csv')"
   ]
  },
  {
   "cell_type": "code",
   "execution_count": 70,
   "metadata": {},
   "outputs": [
    {
     "data": {
      "text/plain": [
       "['Song_Name',\n",
       " 'Time',\n",
       " 'Artist_Name',\n",
       " 'Genre',\n",
       " 'Price',\n",
       " 'Released',\n",
       " 'Album_Name',\n",
       " 'CopyRight']"
      ]
     },
     "execution_count": 70,
     "metadata": {},
     "output_type": "execute_result"
    }
   ],
   "source": [
    "attributes = list(getAttributes(datasets[2]))\n",
    "attributes"
   ]
  },
  {
   "cell_type": "code",
   "execution_count": 75,
   "metadata": {},
   "outputs": [
    {
     "data": {
      "text/plain": [
       "{'ltable_Song_Name': [],\n",
       " 'rtable_Song_Name': [],\n",
       " 'ltable_Time': [],\n",
       " 'rtable_Time': [],\n",
       " 'ltable_Artist_Name': [],\n",
       " 'rtable_Artist_Name': [],\n",
       " 'ltable_Genre': {('music',)},\n",
       " 'rtable_Genre': [],\n",
       " 'ltable_Price': {('album', 'only')},\n",
       " 'rtable_Price': {('1', '29')},\n",
       " 'ltable_Released': {('11',)},\n",
       " 'rtable_Released': {('2011',), ('march',)},\n",
       " 'ltable_Album_Name': {('the',)},\n",
       " 'rtable_Album_Name': [],\n",
       " 'ltable_CopyRight': {('interscope', 'records')},\n",
       " 'rtable_CopyRight': {('c',), ('interscope',)}}"
      ]
     },
     "execution_count": 75,
     "metadata": {},
     "output_type": "execute_result"
    }
   ],
   "source": [
    "findPatternsInNeighbors(datasets[0],datasets[3],attributes,3)"
   ]
  },
  {
   "cell_type": "code",
   "execution_count": 64,
   "metadata": {},
   "outputs": [
    {
     "data": {
      "text/plain": [
       "{'Song_Name': 0.07347332319132763,\n",
       " 'Released': 0.8090666817651884,\n",
       " 'CopyRight': 0.745830117605375,\n",
       " 'Time': 0.12369791666666666,\n",
       " 'Genre': 0.4930203195749618,\n",
       " 'Price': 0.24583333333333335,\n",
       " 'Artist_Name': 0.0,\n",
       " 'Album_Name': 0.16491070240313319}"
      ]
     },
     "execution_count": 64,
     "metadata": {},
     "output_type": "execute_result"
    }
   ],
   "source": [
    "from similarity.ngram import NGram\n",
    "str_comparator = NGram(4)\n",
    "calculateMeanEditDistances(datasets[1],datasets[2],attributes,str_comparator)"
   ]
  },
  {
   "cell_type": "markdown",
   "metadata": {},
   "source": [
    "## Beer"
   ]
  },
  {
   "cell_type": "code",
   "execution_count": 87,
   "metadata": {},
   "outputs": [],
   "source": [
    "datasets = read_datasets('beerAdvo/experiment-results/positives_nn.csv',\n",
    "                         'beerAdvo/experiment-results/negatives_nn.csv',\n",
    "                        '../Structured/Beer/positives.csv',\n",
    "                        '../Structured/Beer/negatives.csv')"
   ]
  },
  {
   "cell_type": "code",
   "execution_count": 88,
   "metadata": {},
   "outputs": [
    {
     "data": {
      "text/plain": [
       "['Beer_Name', 'Style', 'Brew_Factory_Name', 'ABV']"
      ]
     },
     "execution_count": 88,
     "metadata": {},
     "output_type": "execute_result"
    }
   ],
   "source": [
    "attributes = list(getAttributes(datasets[2]))\n",
    "attributes"
   ]
  },
  {
   "cell_type": "code",
   "execution_count": 92,
   "metadata": {},
   "outputs": [
    {
     "data": {
      "text/plain": [
       "{'Beer_Name': 0.347152097590012,\n",
       " 'Style': 0.7214912280701754,\n",
       " 'Brew_Factory_Name': 0.40166168767268356,\n",
       " 'ABV': 0.41200828157349906}"
      ]
     },
     "execution_count": 92,
     "metadata": {},
     "output_type": "execute_result"
    }
   ],
   "source": [
    "from similarity.normalized_levenshtein import NormalizedLevenshtein\n",
    "str_comparator = NormalizedLevenshtein()\n",
    "calculateMeanEditDistances(datasets[1],datasets[2],attributes,str_comparator)"
   ]
  },
  {
   "cell_type": "code",
   "execution_count": 93,
   "metadata": {},
   "outputs": [
    {
     "data": {
      "text/plain": [
       "{'ltable_Beer_Name': [],\n",
       " 'rtable_Beer_Name': [],\n",
       " 'ltable_Style': {('american',)},\n",
       " 'rtable_Style': [],\n",
       " 'ltable_Brew_Factory_Name': [],\n",
       " 'rtable_Brew_Factory_Name': [],\n",
       " 'ltable_ABV': [],\n",
       " 'rtable_ABV': []}"
      ]
     },
     "execution_count": 93,
     "metadata": {},
     "output_type": "execute_result"
    }
   ],
   "source": [
    "findPatternsInNeighbors(datasets[0],datasets[3],attributes,5)"
   ]
  },
  {
   "cell_type": "code",
   "execution_count": 86,
   "metadata": {},
   "outputs": [
    {
     "data": {
      "text/html": [
       "<div>\n",
       "<style scoped>\n",
       "    .dataframe tbody tr th:only-of-type {\n",
       "        vertical-align: middle;\n",
       "    }\n",
       "\n",
       "    .dataframe tbody tr th {\n",
       "        vertical-align: top;\n",
       "    }\n",
       "\n",
       "    .dataframe thead th {\n",
       "        text-align: right;\n",
       "    }\n",
       "</style>\n",
       "<table border=\"1\" class=\"dataframe\">\n",
       "  <thead>\n",
       "    <tr style=\"text-align: right;\">\n",
       "      <th></th>\n",
       "      <th>ltable_Beer_Name</th>\n",
       "      <th>rtable_Beer_Name</th>\n",
       "    </tr>\n",
       "  </thead>\n",
       "  <tbody>\n",
       "    <tr>\n",
       "      <th>0</th>\n",
       "      <td>Big Bear Amber Ale</td>\n",
       "      <td>Big Horn Buttface Amber Ale</td>\n",
       "    </tr>\n",
       "    <tr>\n",
       "      <th>1</th>\n",
       "      <td>Road Rash Red</td>\n",
       "      <td>Kettle House Bourbon Barrel Road Rash Imperial...</td>\n",
       "    </tr>\n",
       "    <tr>\n",
       "      <th>2</th>\n",
       "      <td>Flying Monkey Amber Ale</td>\n",
       "      <td>Flying Monkeys Amber Ale</td>\n",
       "    </tr>\n",
       "    <tr>\n",
       "      <th>3</th>\n",
       "      <td>Eruption Imperial Red Ale</td>\n",
       "      <td>De Koninck TSTBRW 01 Imperial Red Ale</td>\n",
       "    </tr>\n",
       "    <tr>\n",
       "      <th>4</th>\n",
       "      <td>Frog Island Amber Ale</td>\n",
       "      <td>Heavy Seas Desert Island Series American Honey...</td>\n",
       "    </tr>\n",
       "    <tr>\n",
       "      <th>5</th>\n",
       "      <td>Imperial Red Ale</td>\n",
       "      <td>ShuBrew Heart and Sole Imperial Red Ale</td>\n",
       "    </tr>\n",
       "    <tr>\n",
       "      <th>6</th>\n",
       "      <td>Amber Ale With Spanish Orange</td>\n",
       "      <td>Big Bear Mountain Orange Blossom Amber Ale</td>\n",
       "    </tr>\n",
       "    <tr>\n",
       "      <th>7</th>\n",
       "      <td>Lower De Boom Barleywine</td>\n",
       "      <td>21st Amendment Bourbon Barrel Lower da Boom Ba...</td>\n",
       "    </tr>\n",
       "    <tr>\n",
       "      <th>8</th>\n",
       "      <td>Barrel Aged Riverside Red</td>\n",
       "      <td>Blue Pants Big &amp; Tall # 2 : Barrel Aged Belgia...</td>\n",
       "    </tr>\n",
       "    <tr>\n",
       "      <th>9</th>\n",
       "      <td>Alaskan Barley Wine ( Pilot Series )</td>\n",
       "      <td>Hermit Thrush Abbey Series # 1 - Jolly Abbot B...</td>\n",
       "    </tr>\n",
       "  </tbody>\n",
       "</table>\n",
       "</div>"
      ],
      "text/plain": [
       "                       ltable_Beer_Name  \\\n",
       "0                    Big Bear Amber Ale   \n",
       "1                         Road Rash Red   \n",
       "2               Flying Monkey Amber Ale   \n",
       "3             Eruption Imperial Red Ale   \n",
       "4                 Frog Island Amber Ale   \n",
       "5                      Imperial Red Ale   \n",
       "6         Amber Ale With Spanish Orange   \n",
       "7              Lower De Boom Barleywine   \n",
       "8             Barrel Aged Riverside Red   \n",
       "9  Alaskan Barley Wine ( Pilot Series )   \n",
       "\n",
       "                                    rtable_Beer_Name  \n",
       "0                        Big Horn Buttface Amber Ale  \n",
       "1  Kettle House Bourbon Barrel Road Rash Imperial...  \n",
       "2                           Flying Monkeys Amber Ale  \n",
       "3              De Koninck TSTBRW 01 Imperial Red Ale  \n",
       "4  Heavy Seas Desert Island Series American Honey...  \n",
       "5            ShuBrew Heart and Sole Imperial Red Ale  \n",
       "6         Big Bear Mountain Orange Blossom Amber Ale  \n",
       "7  21st Amendment Bourbon Barrel Lower da Boom Ba...  \n",
       "8  Blue Pants Big & Tall # 2 : Barrel Aged Belgia...  \n",
       "9  Hermit Thrush Abbey Series # 1 - Jolly Abbot B...  "
      ]
     },
     "execution_count": 86,
     "metadata": {},
     "output_type": "execute_result"
    }
   ],
   "source": [
    "att = \"Beer_Name\"\n",
    "k = 10\n",
    "occurrences = datasets[0][att].value_counts()\n",
    "occurrences_df = occurrences.rename_axis('unique_id').reset_index(name='counts')\n",
    "occurrences_df = occurrences_df.head(k)\n",
    "nn_values = pd.merge(occurrences_df,datasets[3],left_on='unique_id',right_on='id')\n",
    "nn_values[['ltable_Beer_Name','rtable_Beer_Name']].head(10)"
   ]
  },
  {
   "cell_type": "markdown",
   "metadata": {},
   "source": [
    "## Amazon Google"
   ]
  },
  {
   "cell_type": "code",
   "execution_count": 67,
   "metadata": {},
   "outputs": [],
   "source": [
    "datasets = read_datasets('Amazon-Google/experiment_results/testpositives_nn.csv',\n",
    "                         'Amazon-Google/experiment_results/testnegatives_nn.csv',\n",
    "                        '../Structured/Amazon-Google/positives.csv',\n",
    "                        '../Structured/Amazon-Google/negatives.csv')"
   ]
  },
  {
   "cell_type": "code",
   "execution_count": 69,
   "metadata": {},
   "outputs": [
    {
     "data": {
      "text/plain": [
       "['manufacturer', 'price', 'title']"
      ]
     },
     "execution_count": 69,
     "metadata": {},
     "output_type": "execute_result"
    }
   ],
   "source": [
    "attributes = list(getAttributes(datasets[2]))\n",
    "attributes"
   ]
  },
  {
   "cell_type": "code",
   "execution_count": 74,
   "metadata": {},
   "outputs": [
    {
     "data": {
      "text/plain": [
       "{'manufacturer': 0.06009868719670978,\n",
       " 'price': 0.3907952487482689,\n",
       " 'title': 0.5150678803144639}"
      ]
     },
     "execution_count": 74,
     "metadata": {},
     "output_type": "execute_result"
    }
   ],
   "source": [
    "str_comparator = NGram(5)\n",
    "calculateMeanEditDistances(datasets[1],datasets[2],attributes,str_comparator)"
   ]
  },
  {
   "cell_type": "markdown",
   "metadata": {},
   "source": [
    "## Walmart Amazon"
   ]
  },
  {
   "cell_type": "code",
   "execution_count": 78,
   "metadata": {},
   "outputs": [],
   "source": [
    "datasets = read_datasets('WalmartAmazon/experiment_results/testpositives_nn.csv',\n",
    "                         'WalmartAmazon/experiment_results/testnegatives_nn.csv',\n",
    "                        '../Structured/Walmart-Amazon/positives.csv',\n",
    "                        '../Structured/Walmart-Amazon/negatives.csv')"
   ]
  },
  {
   "cell_type": "code",
   "execution_count": 79,
   "metadata": {},
   "outputs": [
    {
     "data": {
      "text/plain": [
       "['modelno', 'category', 'title', 'price', 'brand']"
      ]
     },
     "execution_count": 79,
     "metadata": {},
     "output_type": "execute_result"
    }
   ],
   "source": [
    "attributes = list(getAttributes(datasets[2]))\n",
    "attributes"
   ]
  },
  {
   "cell_type": "code",
   "execution_count": 82,
   "metadata": {},
   "outputs": [
    {
     "data": {
      "text/plain": [
       "{'modelno': 0.5512313923121839,\n",
       " 'category': 0.45083646597846566,\n",
       " 'title': 0.21392036864369224,\n",
       " 'price': 0.4589821222606689,\n",
       " 'brand': 0.1146129773043387}"
      ]
     },
     "execution_count": 82,
     "metadata": {},
     "output_type": "execute_result"
    }
   ],
   "source": [
    "from similarity.jarowinkler import JaroWinkler\n",
    "str_comparator = JaroWinkler()\n",
    "calculateMeanEditDistances(datasets[1],datasets[2],attributes,str_comparator)"
   ]
  },
  {
   "cell_type": "code",
   "execution_count": null,
   "metadata": {},
   "outputs": [],
   "source": []
  }
 ],
 "metadata": {
  "kernelspec": {
   "display_name": "Python 3",
   "language": "python",
   "name": "python3"
  },
  "language_info": {
   "codemirror_mode": {
    "name": "ipython",
    "version": 3
   },
   "file_extension": ".py",
   "mimetype": "text/x-python",
   "name": "python",
   "nbconvert_exporter": "python",
   "pygments_lexer": "ipython3",
   "version": "3.6.9"
  }
 },
 "nbformat": 4,
 "nbformat_minor": 2
}

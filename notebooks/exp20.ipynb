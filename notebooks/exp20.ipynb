{
 "cells": [
  {
   "cell_type": "markdown",
   "metadata": {},
   "source": [
    "# Exp 20 \n",
    "analyze nearest neighbors of positive and negative samples"
   ]
  },
  {
   "cell_type": "code",
   "execution_count": 3,
   "metadata": {},
   "outputs": [],
   "source": [
    "import pandas as pd"
   ]
  },
  {
   "cell_type": "code",
   "execution_count": 49,
   "metadata": {},
   "outputs": [],
   "source": [
    "def read_datasets(*paths):\n",
    "    datasets= []\n",
    "    for path in paths:\n",
    "        datasets.append(pd.read_csv(path))\n",
    "    return datasets"
   ]
  },
  {
   "cell_type": "code",
   "execution_count": 22,
   "metadata": {},
   "outputs": [],
   "source": [
    "def getAttributes(df,ignore_columns=['id','label'],left_prefix='ltable_',right_prefix='rtable_'):\n",
    "    attributes = set()\n",
    "    for att in list(df):\n",
    "        if att not in ignore_columns:\n",
    "            attribute = att.replace(left_prefix,\"\").replace(right_prefix,\"\")\n",
    "            attributes.add(attribute)\n",
    "    return attributes"
   ]
  },
  {
   "cell_type": "code",
   "execution_count": 77,
   "metadata": {},
   "outputs": [],
   "source": [
    "import numpy as np\n",
    "def getMeanEditDistance(attribute_values,sep,comparator):\n",
    "    distances = []\n",
    "    for attr_val in attribute_values:\n",
    "        edit_dist = comparator.distance(attr_val.split(sep)[0],attr_val.split(sep)[1])\n",
    "        distances.append(edit_dist)\n",
    "    distances = np.array(distances)\n",
    "    return np.mean(distances)"
   ]
  },
  {
   "cell_type": "code",
   "execution_count": 75,
   "metadata": {},
   "outputs": [],
   "source": [
    "def calculateMeanEditDistances(nn_dataset,opposite_label_data,attributes,str_comparator,left_prefix='ltable_',\n",
    "                               right_prefix='rtable_',sep=\"|\"):\n",
    "    mean_distances = {}\n",
    "    for att in attributes:\n",
    "        nn_values = pd.merge(nn_dataset,opposite_label_data,left_on=att,right_on='id')\n",
    "        left_col = nn_values[left_prefix+att].astype('str')\n",
    "        right_col = nn_values[right_prefix+att].astype('str')\n",
    "        nn_values_distribution = (left_col+\"|\"+right_col).value_counts()\n",
    "        mean_edit_distances = getMeanEditDistance(nn_values_distribution.keys(),sep=sep,comparator=str_comparator)\n",
    "        mean_distances[att] = mean_edit_distances\n",
    "    return mean_distances"
   ]
  },
  {
   "cell_type": "code",
   "execution_count": 101,
   "metadata": {},
   "outputs": [],
   "source": [
    "import re\n",
    "from nltk.util import ngrams\n",
    "\n",
    "def getNGrams(sentence,N):\n",
    "    s = sentence.lower()\n",
    "    s = re.sub(r'[^a-zA-Z0-9\\s]', ' ', s)\n",
    "    tokens = [token for token in s.split(\" \") if token != \"\"]\n",
    "    return list(ngrams(tokens,N))"
   ]
  },
  {
   "cell_type": "code",
   "execution_count": 98,
   "metadata": {},
   "outputs": [],
   "source": [
    "s = \"Natural-language processing (NLP) is an area of computer science \" \\\n",
    "    \"and artificial intelligence concerned with the interactions \" \\\n",
    "    \"between computers and human (natural) languages.\"\n",
    "def intersection(first, *others):\n",
    "    return set(first).intersection(*others)\n",
    "def getLongestNGramInCommon(sentences):\n",
    "    maxNGramLength = min(list(map(lambda sent:len(sent.split()),sentences)))\n",
    "    currentMax = 0\n",
    "    maxNGram = None\n",
    "    for i in range(maxNGramLength):\n",
    "        ngrams_first = getNGrams(sentences[0],i)\n",
    "        ngrams_others = list(map(lambda sent: getNGrams(sent,i),sentences[1:]))\n",
    "        intersect = intersection(ngrams_first,ngrams_others)\n",
    "        if len(intersection>0):\n",
    "            currentMax = len(intersection)\n",
    "            maxNGram = intersection\n",
    "    return maxNGram"
   ]
  },
  {
   "cell_type": "code",
   "execution_count": 111,
   "metadata": {},
   "outputs": [],
   "source": [
    "def intersection(elements):\n",
    "    current_incommon = []\n",
    "    for el in elements[1]:\n",
    "        "
   ]
  },
  {
   "cell_type": "code",
   "execution_count": 121,
   "metadata": {},
   "outputs": [
    {
     "data": {
      "text/plain": [
       "{('ciao',)}"
      ]
     },
     "execution_count": 121,
     "metadata": {},
     "output_type": "execute_result"
    }
   ],
   "source": [
    "s1 = \"ciao belli\"\n",
    "s2 = \"ciao belli mucconi\"\n",
    "s3 = \"niente in comune a parte ciao\"\n",
    "intersection(getNGrams(s2,1),getNGrams(s1,1),getNGrams(s3,1))"
   ]
  },
  {
   "cell_type": "markdown",
   "metadata": {},
   "source": [
    "## Itunes-Amazon"
   ]
  },
  {
   "cell_type": "code",
   "execution_count": 60,
   "metadata": {},
   "outputs": [],
   "source": [
    "datasets = read_datasets('iTunes-Amazon/experiments-results/exp3/positives_nn.csv',\n",
    "                         'iTunes-Amazon/experiments-results/exp3/negatives_nn.csv',\n",
    "                        '../Structured/itunes-amazon/positives.csv',\n",
    "                        '../Structured/itunes-amazon/negatives.csv')"
   ]
  },
  {
   "cell_type": "code",
   "execution_count": 61,
   "metadata": {},
   "outputs": [
    {
     "data": {
      "text/plain": [
       "['Song_Name',\n",
       " 'Released',\n",
       " 'CopyRight',\n",
       " 'Time',\n",
       " 'Genre',\n",
       " 'Price',\n",
       " 'Artist_Name',\n",
       " 'Album_Name']"
      ]
     },
     "execution_count": 61,
     "metadata": {},
     "output_type": "execute_result"
    }
   ],
   "source": [
    "attributes = list(getAttributes(datasets[2]))\n",
    "attributes"
   ]
  },
  {
   "cell_type": "code",
   "execution_count": 64,
   "metadata": {},
   "outputs": [
    {
     "data": {
      "text/plain": [
       "{'Song_Name': 0.07347332319132763,\n",
       " 'Released': 0.8090666817651884,\n",
       " 'CopyRight': 0.745830117605375,\n",
       " 'Time': 0.12369791666666666,\n",
       " 'Genre': 0.4930203195749618,\n",
       " 'Price': 0.24583333333333335,\n",
       " 'Artist_Name': 0.0,\n",
       " 'Album_Name': 0.16491070240313319}"
      ]
     },
     "execution_count": 64,
     "metadata": {},
     "output_type": "execute_result"
    }
   ],
   "source": [
    "from similarity.ngram import NGram\n",
    "str_comparator = NGram(4)\n",
    "calculateMeanEditDistances(datasets[1],datasets[2],attributes,str_comparator)"
   ]
  },
  {
   "cell_type": "markdown",
   "metadata": {},
   "source": [
    "## Beer"
   ]
  },
  {
   "cell_type": "code",
   "execution_count": 50,
   "metadata": {},
   "outputs": [],
   "source": [
    "datasets = read_datasets('beerAdvo/experiment-results/positives_nn.csv',\n",
    "                         'beerAdvo/experiment-results/negatives_nn.csv',\n",
    "                        '../Structured/Beer/positives.csv',\n",
    "                        '../Structured/Beer/negatives.csv')"
   ]
  },
  {
   "cell_type": "code",
   "execution_count": 52,
   "metadata": {},
   "outputs": [
    {
     "data": {
      "text/plain": [
       "['ABV', 'Style', 'Brew_Factory_Name', 'Beer_Name']"
      ]
     },
     "execution_count": 52,
     "metadata": {},
     "output_type": "execute_result"
    }
   ],
   "source": [
    "attributes = list(getAttributes(datasets[2]))\n",
    "attributes"
   ]
  },
  {
   "cell_type": "code",
   "execution_count": 53,
   "metadata": {},
   "outputs": [
    {
     "data": {
      "text/plain": [
       "{'ABV': 2.4210526315789473,\n",
       " 'Style': 18.0,\n",
       " 'Brew_Factory_Name': 15.038461538461538,\n",
       " 'Beer_Name': 10.515151515151516}"
      ]
     },
     "execution_count": 53,
     "metadata": {},
     "output_type": "execute_result"
    }
   ],
   "source": [
    "calculateMeanEditDistances(datasets[1],datasets[2],attributes)"
   ]
  },
  {
   "cell_type": "markdown",
   "metadata": {},
   "source": [
    "## Amazon Google"
   ]
  },
  {
   "cell_type": "code",
   "execution_count": 67,
   "metadata": {},
   "outputs": [],
   "source": [
    "datasets = read_datasets('Amazon-Google/experiment_results/testpositives_nn.csv',\n",
    "                         'Amazon-Google/experiment_results/testnegatives_nn.csv',\n",
    "                        '../Structured/Amazon-Google/positives.csv',\n",
    "                        '../Structured/Amazon-Google/negatives.csv')"
   ]
  },
  {
   "cell_type": "code",
   "execution_count": 69,
   "metadata": {},
   "outputs": [
    {
     "data": {
      "text/plain": [
       "['manufacturer', 'price', 'title']"
      ]
     },
     "execution_count": 69,
     "metadata": {},
     "output_type": "execute_result"
    }
   ],
   "source": [
    "attributes = list(getAttributes(datasets[2]))\n",
    "attributes"
   ]
  },
  {
   "cell_type": "code",
   "execution_count": 74,
   "metadata": {},
   "outputs": [
    {
     "data": {
      "text/plain": [
       "{'manufacturer': 0.06009868719670978,\n",
       " 'price': 0.3907952487482689,\n",
       " 'title': 0.5150678803144639}"
      ]
     },
     "execution_count": 74,
     "metadata": {},
     "output_type": "execute_result"
    }
   ],
   "source": [
    "str_comparator = NGram(5)\n",
    "calculateMeanEditDistances(datasets[1],datasets[2],attributes,str_comparator)"
   ]
  },
  {
   "cell_type": "markdown",
   "metadata": {},
   "source": [
    "## Walmart Amazon"
   ]
  },
  {
   "cell_type": "code",
   "execution_count": 78,
   "metadata": {},
   "outputs": [],
   "source": [
    "datasets = read_datasets('WalmartAmazon/experiment_results/testpositives_nn.csv',\n",
    "                         'WalmartAmazon/experiment_results/testnegatives_nn.csv',\n",
    "                        '../Structured/Walmart-Amazon/positives.csv',\n",
    "                        '../Structured/Walmart-Amazon/negatives.csv')"
   ]
  },
  {
   "cell_type": "code",
   "execution_count": 79,
   "metadata": {},
   "outputs": [
    {
     "data": {
      "text/plain": [
       "['modelno', 'category', 'title', 'price', 'brand']"
      ]
     },
     "execution_count": 79,
     "metadata": {},
     "output_type": "execute_result"
    }
   ],
   "source": [
    "attributes = list(getAttributes(datasets[2]))\n",
    "attributes"
   ]
  },
  {
   "cell_type": "code",
   "execution_count": 82,
   "metadata": {},
   "outputs": [
    {
     "data": {
      "text/plain": [
       "{'modelno': 0.5512313923121839,\n",
       " 'category': 0.45083646597846566,\n",
       " 'title': 0.21392036864369224,\n",
       " 'price': 0.4589821222606689,\n",
       " 'brand': 0.1146129773043387}"
      ]
     },
     "execution_count": 82,
     "metadata": {},
     "output_type": "execute_result"
    }
   ],
   "source": [
    "from similarity.jarowinkler import JaroWinkler\n",
    "str_comparator = JaroWinkler()\n",
    "calculateMeanEditDistances(datasets[1],datasets[2],attributes,str_comparator)"
   ]
  },
  {
   "cell_type": "code",
   "execution_count": null,
   "metadata": {},
   "outputs": [],
   "source": []
  }
 ],
 "metadata": {
  "kernelspec": {
   "display_name": "Python 3",
   "language": "python",
   "name": "python3"
  },
  "language_info": {
   "codemirror_mode": {
    "name": "ipython",
    "version": 3
   },
   "file_extension": ".py",
   "mimetype": "text/x-python",
   "name": "python",
   "nbconvert_exporter": "python",
   "pygments_lexer": "ipython3",
   "version": "3.6.9"
  }
 },
 "nbformat": 4,
 "nbformat_minor": 2
}

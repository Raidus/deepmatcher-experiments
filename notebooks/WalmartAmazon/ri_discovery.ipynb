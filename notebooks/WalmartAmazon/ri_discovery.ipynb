{
 "cells": [
  {
   "cell_type": "markdown",
   "metadata": {},
   "source": [
    "# Discover Ri"
   ]
  },
  {
   "cell_type": "code",
   "execution_count": 1,
   "metadata": {
    "ExecuteTime": {
     "end_time": "2020-02-09T11:47:44.717154Z",
     "start_time": "2020-02-09T11:47:44.698384Z"
    }
   },
   "outputs": [],
   "source": [
    "%load_ext autoreload\n",
    "%autoreload 2"
   ]
  },
  {
   "cell_type": "code",
   "execution_count": 2,
   "metadata": {
    "ExecuteTime": {
     "end_time": "2020-02-09T11:47:44.920663Z",
     "start_time": "2020-02-09T11:47:44.908439Z"
    }
   },
   "outputs": [],
   "source": [
    "import sys\n",
    "sys.path.append(\"../..\")"
   ]
  },
  {
   "cell_type": "code",
   "execution_count": 3,
   "metadata": {
    "ExecuteTime": {
     "end_time": "2020-02-09T11:47:46.770295Z",
     "start_time": "2020-02-09T11:47:45.200625Z"
    }
   },
   "outputs": [],
   "source": [
    "import deepmatcher as dm\n",
    "import pandas as pd\n",
    "import torch\n",
    "import copy "
   ]
  },
  {
   "cell_type": "code",
   "execution_count": 4,
   "metadata": {
    "ExecuteTime": {
     "end_time": "2020-02-09T11:47:46.791084Z",
     "start_time": "2020-02-09T11:47:46.772603Z"
    }
   },
   "outputs": [],
   "source": [
    "from utils.intermediate_layer_extraction import return_layer_input\n",
    "from utils.ri_calculator import computeRi"
   ]
  },
  {
   "cell_type": "code",
   "execution_count": 5,
   "metadata": {
    "ExecuteTime": {
     "end_time": "2020-02-09T11:47:50.001146Z",
     "start_time": "2020-02-09T11:47:46.792950Z"
    }
   },
   "outputs": [],
   "source": [
    "walmartamazon_hybrid = dm.MatchingModel(attr_summarizer='hybrid')\n",
    "walmartamazon_hybrid.load_state('../../models/walmartamazon_hybrid.pth')\n",
    "walmartamazon_hybrid = walmartamazon_hybrid.to('cuda')"
   ]
  },
  {
   "cell_type": "code",
   "execution_count": 6,
   "metadata": {
    "ExecuteTime": {
     "end_time": "2020-02-09T11:48:07.507262Z",
     "start_time": "2020-02-09T11:47:50.595011Z"
    }
   },
   "outputs": [
    {
     "name": "stderr",
     "output_type": "stream",
     "text": [
      "\n",
      "Reading and processing data from \"../../datasets/Structured/Walmart-Amazon/test_negatives.csv\"\n",
      "0% [############################# ] 100% | ETA: 00:00:00"
     ]
    }
   ],
   "source": [
    "testneg  = return_layer_input(walmartamazon_hybrid,walmartamazon_hybrid.classifier,\n",
    "    '../../datasets/Structured/Walmart-Amazon/','test_negatives')"
   ]
  },
  {
   "cell_type": "code",
   "execution_count": 7,
   "metadata": {
    "ExecuteTime": {
     "end_time": "2020-02-09T11:48:08.375952Z",
     "start_time": "2020-02-09T11:48:07.509778Z"
    }
   },
   "outputs": [
    {
     "name": "stderr",
     "output_type": "stream",
     "text": [
      "\n",
      "Reading and processing data from \"../../datasets/Structured/Walmart-Amazon/test_positives.csv\"\n",
      "0% [############################# ] 100% | ETA: 00:00:00"
     ]
    }
   ],
   "source": [
    "testpos = return_layer_input(walmartamazon_hybrid,walmartamazon_hybrid.classifier,\n",
    "                             '../../datasets/Structured/Walmart-Amazon/','test_positives')"
   ]
  },
  {
   "cell_type": "code",
   "execution_count": 8,
   "metadata": {},
   "outputs": [],
   "source": [
    "negatives  = return_layer_input(walmartamazon_hybrid,walmartamazon_hybrid.classifier,\n",
    "    '../../datasets/Structured/Walmart-Amazon/','negatives')"
   ]
  },
  {
   "cell_type": "code",
   "execution_count": 9,
   "metadata": {},
   "outputs": [],
   "source": [
    "positives  = return_layer_input(walmartamazon_hybrid,walmartamazon_hybrid.classifier,\n",
    "    '../../datasets/Structured/Walmart-Amazon/','positives')"
   ]
  },
  {
   "cell_type": "markdown",
   "metadata": {},
   "source": [
    "## Ri discovery"
   ]
  },
  {
   "cell_type": "markdown",
   "metadata": {},
   "source": [
    "### Negative samples analysis"
   ]
  },
  {
   "cell_type": "code",
   "execution_count": 8,
   "metadata": {
    "ExecuteTime": {
     "end_time": "2020-02-09T11:48:28.892341Z",
     "start_time": "2020-02-09T11:48:28.855293Z"
    }
   },
   "outputs": [],
   "source": [
    "attributes =['title','category','brand','modelno','price']\n",
    "classifier_len = len(list(testpos.values())[0])\n",
    "attribute_len = int(classifier_len/len(attributes))"
   ]
  },
  {
   "cell_type": "code",
   "execution_count": null,
   "metadata": {
    "ExecuteTime": {
     "start_time": "2020-02-09T11:48:38.608Z"
    }
   },
   "outputs": [
    {
     "name": "stderr",
     "output_type": "stream",
     "text": [
      " 82%|████████▏ | 1524/1856 [04:59<01:30,  3.66it/s]"
     ]
    }
   ],
   "source": [
    "neg_ri,neg_ri_norms = computeRi(walmartamazon_hybrid.classifier,attributes,testneg,0)\n"
   ]
  },
  {
   "cell_type": "code",
   "execution_count": null,
   "metadata": {
    "ExecuteTime": {
     "start_time": "2020-02-03T10:57:18.521Z"
    }
   },
   "outputs": [],
   "source": [
    "neg_ri_norms.sum(numeric_only=True).plot.bar()"
   ]
  },
  {
   "cell_type": "code",
   "execution_count": 13,
   "metadata": {},
   "outputs": [],
   "source": [
    "torch.save(neg_ri,'experiment_results/testneg_ri_hybrid.pt')\n",
    "negatives_variation_df.to_csv('experiment_results/testneg_ri_norms_hybrid.csv',index=False)"
   ]
  },
  {
   "cell_type": "markdown",
   "metadata": {},
   "source": [
    "### Positive samples analysis"
   ]
  },
  {
   "cell_type": "code",
   "execution_count": null,
   "metadata": {
    "ExecuteTime": {
     "start_time": "2020-02-09T10:30:03.293Z"
    }
   },
   "outputs": [
    {
     "name": "stderr",
     "output_type": "stream",
     "text": [
      " 54%|█████▍    | 104/193 [00:15<00:23,  3.80it/s]"
     ]
    }
   ],
   "source": [
    "pos_ri, pos_ri_norms = computeRi(walmartamazon_hybrid.classifier,attributes,testpos,1)\n",
    "torch.save(pos_ri,'experiment_results/testpos_ri_hybrid.pt')"
   ]
  },
  {
   "cell_type": "code",
   "execution_count": 23,
   "metadata": {},
   "outputs": [
    {
     "data": {
      "text/plain": [
       "<matplotlib.axes._subplots.AxesSubplot at 0x7f3ad0e44278>"
      ]
     },
     "execution_count": 23,
     "metadata": {},
     "output_type": "execute_result"
    },
    {
     "data": {
      "image/png": "[encoded data removed]",
      "text/plain": [
       "<Figure size 432x288 with 1 Axes>"
      ]
     },
     "metadata": {
      "needs_background": "light"
     },
     "output_type": "display_data"
    }
   ],
   "source": [
    "pos_ri_norms.sum(numeric_only=True).plot.bar()"
   ]
  },
  {
   "cell_type": "code",
   "execution_count": 22,
   "metadata": {},
   "outputs": [],
   "source": [
    "positives_variation_df.to_csv('experiment_results/testpositives_ri_hybrid.csv',index=False)"
   ]
  },
  {
   "cell_type": "code",
   "execution_count": 14,
   "metadata": {},
   "outputs": [],
   "source": [
    "##save to file\n",
    "pos_ri = torch.load('experiment_results/testpos_ri_hybrid.pt')\n",
    "pos_ri_norms = getRiNorms(pos_ri,attributes)\n",
    "pos_ri_norms.to_csv('experiment_results/testpos_ri_norms_hybrid.csv',index=False)"
   ]
  },
  {
   "cell_type": "markdown",
   "metadata": {},
   "source": [
    "## Nearest neighbors"
   ]
  },
  {
   "cell_type": "code",
   "execution_count": 24,
   "metadata": {},
   "outputs": [],
   "source": [
    "from utils.distance_measures import calculate_nearest_neighbors_onAttributes"
   ]
  },
  {
   "cell_type": "code",
   "execution_count": 25,
   "metadata": {},
   "outputs": [
    {
     "name": "stderr",
     "output_type": "stream",
     "text": [
      "100%|██████████| 128/128 [00:01<00:00, 77.61it/s]\n",
      "100%|██████████| 65/65 [00:00<00:00, 77.98it/s]\n"
     ]
    }
   ],
   "source": [
    "positives_nn = calculate_nearest_neighbors_onAttributes(testpos_classifier_inputs,testpos_ids,pos_ri,\n",
    "                                                       neg_classifier_inputs,neg_ids,attributes,attribute_len\n",
    "                                                       ,min_similarity=0.5)"
   ]
  },
  {
   "cell_type": "code",
   "execution_count": 26,
   "metadata": {},
   "outputs": [
    {
     "name": "stderr",
     "output_type": "stream",
     "text": [
      "100%|██████████| 128/128 [00:00<00:00, 512.73it/s]\n",
      "100%|██████████| 128/128 [00:00<00:00, 535.06it/s]\n",
      "100%|██████████| 64/64 [00:00<00:00, 524.00it/s]\n",
      "100%|██████████| 128/128 [00:00<00:00, 532.33it/s]\n",
      "100%|██████████| 128/128 [00:00<00:00, 532.07it/s]\n",
      "100%|██████████| 128/128 [00:00<00:00, 472.78it/s]\n",
      "100%|██████████| 128/128 [00:00<00:00, 488.80it/s]\n",
      "100%|██████████| 128/128 [00:00<00:00, 511.30it/s]\n",
      "100%|██████████| 128/128 [00:00<00:00, 528.69it/s]\n",
      "100%|██████████| 128/128 [00:00<00:00, 528.95it/s]\n",
      "100%|██████████| 128/128 [00:00<00:00, 536.55it/s]\n",
      "100%|██████████| 128/128 [00:00<00:00, 526.28it/s]\n",
      "100%|██████████| 128/128 [00:00<00:00, 541.13it/s]\n",
      "100%|██████████| 128/128 [00:00<00:00, 533.05it/s]\n",
      "100%|██████████| 128/128 [00:00<00:00, 543.71it/s]\n"
     ]
    }
   ],
   "source": [
    "negatives_nn = calculate_nearest_neighbors_onAttributes(testneg_classifier_inputs,testneg_ids,\n",
    "                                                              neg_ri,pos_classifier_inputs,\n",
    "                                                              pos_ids,attributes,attribute_len,\n",
    "                                                       min_similarity=0.5)"
   ]
  },
  {
   "cell_type": "code",
   "execution_count": 27,
   "metadata": {},
   "outputs": [],
   "source": [
    "positives_nn.to_csv('experiment_results/testpos_nn_hybrid_withfilter.csv',index=False)\n",
    "negatives_nn.to_csv('experiment_results/testneg_nn_hybrid_withfilter.csv',index=False)"
   ]
  },
  {
   "cell_type": "markdown",
   "metadata": {},
   "source": [
    "## Test"
   ]
  },
  {
   "cell_type": "code",
   "execution_count": 24,
   "metadata": {},
   "outputs": [],
   "source": [
    "import torch.nn.functional as F"
   ]
  },
  {
   "cell_type": "code",
   "execution_count": 27,
   "metadata": {},
   "outputs": [],
   "source": [
    "for key in testneg.keys():\n",
    "    for idx,attr in enumerate(attributes):\n",
    "        pred = F.softmax(walmartamazon_hybrid.classifier.forward(torch.unsqueeze(testneg[key]+neg_ri[key][idx],0)),dim=1)\n",
    "        if pred[0][0].item() > pred[0][1].item():\n",
    "            print(pred)"
   ]
  },
  {
   "cell_type": "code",
   "execution_count": 28,
   "metadata": {},
   "outputs": [],
   "source": [
    "for key in testpos.keys():\n",
    "    for idx,attr in enumerate(attributes):\n",
    "        pred = F.softmax(walmartamazon_hybrid.classifier.forward(torch.unsqueeze(testpos[key]+pos_ri[key][idx],0)),dim=1)\n",
    "        if pred[0][0].item()  pred[0][1].item():\n",
    "            print(pred)"
   ]
  },
  {
   "cell_type": "code",
   "execution_count": null,
   "metadata": {},
   "outputs": [],
   "source": []
  }
 ],
 "metadata": {
  "kernelspec": {
   "display_name": "Python 3",
   "language": "python",
   "name": "python3"
  },
  "language_info": {
   "codemirror_mode": {
    "name": "ipython",
    "version": 3
   },
   "file_extension": ".py",
   "mimetype": "text/x-python",
   "name": "python",
   "nbconvert_exporter": "python",
   "pygments_lexer": "ipython3",
   "version": "3.6.10"
  },
  "toc": {
   "base_numbering": 1,
   "nav_menu": {},
   "number_sections": true,
   "sideBar": true,
   "skip_h1_title": false,
   "title_cell": "Table of Contents",
   "title_sidebar": "Contents",
   "toc_cell": false,
   "toc_position": {},
   "toc_section_display": true,
   "toc_window_display": true
  }
 },
 "nbformat": 4,
 "nbformat_minor": 2
}

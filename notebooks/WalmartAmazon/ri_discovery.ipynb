{
 "cells": [
  {
   "cell_type": "code",
   "execution_count": 1,
   "metadata": {},
   "outputs": [],
   "source": [
    "%load_ext autoreload\n",
    "%autoreload 2"
   ]
  },
  {
   "cell_type": "code",
   "execution_count": 2,
   "metadata": {},
   "outputs": [],
   "source": [
    "import sys\n",
    "sys.path.append(\"../..\")"
   ]
  },
  {
   "cell_type": "code",
   "execution_count": 3,
   "metadata": {},
   "outputs": [],
   "source": [
    "import deepmatcher as dm\n",
    "import torch\n",
    "import pandas as pd"
   ]
  },
  {
   "cell_type": "code",
   "execution_count": 4,
   "metadata": {},
   "outputs": [],
   "source": [
    "walmartamazon_hybrid = dm.MatchingModel(attr_summarizer='hybrid')\n",
    "walmartamazon_hybrid.load_state('../../models/walmartamazon_hybrid.pth')"
   ]
  },
  {
   "cell_type": "code",
   "execution_count": 5,
   "metadata": {},
   "outputs": [],
   "source": [
    "from utilities_functions.intermediate_layer_extraction import return_layer_input"
   ]
  },
  {
   "cell_type": "code",
   "execution_count": 6,
   "metadata": {},
   "outputs": [],
   "source": [
    "testneg_classifier_inputs,testneg_ids = return_layer_input('../../Structured/Walmart-Amazon/','test_negatives',\n",
    "                                                  batch_size=128,model=walmartamazon_hybrid,\n",
    "                                                   layer=walmartamazon_hybrid.classifier,\n",
    "                                                  device=-1)"
   ]
  },
  {
   "cell_type": "code",
   "execution_count": 7,
   "metadata": {},
   "outputs": [],
   "source": [
    "testpos_classifier_inputs,testpos_ids = return_layer_input('../../Structured/Walmart-Amazon/','test_positives',\n",
    "                                                  batch_size=128,model=walmartamazon_hybrid,\n",
    "                                                  layer=walmartamazon_hybrid.classifier,\n",
    "                                                  device=-1)"
   ]
  },
  {
   "cell_type": "code",
   "execution_count": 8,
   "metadata": {},
   "outputs": [],
   "source": [
    "neg_classifier_inputs,neg_ids = return_layer_input('../../Structured/Walmart-Amazon/','negatives',\n",
    "                                                  batch_size=512,model=walmartamazon_hybrid,\n",
    "                                                   layer=walmartamazon_hybrid.classifier,\n",
    "                                                  device=-1)"
   ]
  },
  {
   "cell_type": "code",
   "execution_count": 9,
   "metadata": {},
   "outputs": [],
   "source": [
    "pos_classifier_inputs,pos_ids = return_layer_input('../../Structured/Walmart-Amazon/','positives',\n",
    "                                                  batch_size=512,model=walmartamazon_hybrid,\n",
    "                                                  layer=walmartamazon_hybrid.classifier,\n",
    "                                                  device=-1)"
   ]
  },
  {
   "cell_type": "code",
   "execution_count": 10,
   "metadata": {},
   "outputs": [],
   "source": [
    "walmartamazon_hybrid = walmartamazon_hybrid.cuda()"
   ]
  },
  {
   "cell_type": "markdown",
   "metadata": {},
   "source": [
    "## Ri discovery"
   ]
  },
  {
   "cell_type": "markdown",
   "metadata": {},
   "source": [
    "### Negative samples analysis"
   ]
  },
  {
   "cell_type": "code",
   "execution_count": 11,
   "metadata": {},
   "outputs": [],
   "source": [
    "from utilities_functions.ri_calculator import computeRi"
   ]
  },
  {
   "cell_type": "code",
   "execution_count": 13,
   "metadata": {},
   "outputs": [],
   "source": [
    "attributes =['title','category','brand','modelno','price']\n",
    "classifier_len = len(pos_classifier_inputs[0][0])\n",
    "attribute_len = int(classifier_len/len(attributes))"
   ]
  },
  {
   "cell_type": "code",
   "execution_count": 14,
   "metadata": {},
   "outputs": [
    {
     "name": "stderr",
     "output_type": "stream",
     "text": [
      "100%|██████████| 128/128 [00:15<00:00,  8.21it/s]\n",
      "100%|██████████| 64/64 [00:07<00:00,  9.98it/s]\n",
      "100%|██████████| 128/128 [00:15<00:00,  8.01it/s]\n",
      "100%|██████████| 128/128 [00:14<00:00,  8.56it/s]\n",
      "100%|██████████| 128/128 [00:14<00:00,  8.19it/s]\n",
      "100%|██████████| 128/128 [00:14<00:00, 10.07it/s]\n",
      "100%|██████████| 128/128 [00:15<00:00,  7.53it/s]\n",
      "100%|██████████| 128/128 [00:15<00:00,  8.40it/s]\n",
      "100%|██████████| 128/128 [00:16<00:00,  7.72it/s]\n",
      "100%|██████████| 128/128 [00:14<00:00,  9.03it/s]\n",
      "100%|██████████| 128/128 [00:16<00:00,  7.86it/s]\n",
      "100%|██████████| 128/128 [00:15<00:00,  8.31it/s]\n",
      "100%|██████████| 128/128 [00:15<00:00,  7.17it/s]\n",
      "100%|██████████| 128/128 [00:16<00:00,  7.38it/s]\n",
      "100%|██████████| 128/128 [00:15<00:00,  8.46it/s]\n"
     ]
    }
   ],
   "source": [
    "neg_ri,neg_ri_norms = computeRi(walmartamazon_hybrid.classifier,attributes,testneg_classifier_inputs,\n",
    "                               attribute_len,1)"
   ]
  },
  {
   "cell_type": "code",
   "execution_count": 17,
   "metadata": {},
   "outputs": [
    {
     "data": {
      "image/png": "[encoded data removed]",
      "text/plain": [
       "<Figure size 432x288 with 1 Axes>"
      ]
     },
     "metadata": {
      "needs_background": "light"
     },
     "output_type": "display_data"
    }
   ],
   "source": [
    "negatives_variation_df = pd.DataFrame(data= neg_ri_norms,columns=attributes)\n",
    "ri_sums = negatives_variation_df.sum(numeric_only=True).plot.bar()"
   ]
  },
  {
   "cell_type": "code",
   "execution_count": 18,
   "metadata": {},
   "outputs": [],
   "source": [
    "negatives_variation_df.to_csv('experiment_results/testnegatives_ri_hybrid.csv',index=False)"
   ]
  },
  {
   "cell_type": "markdown",
   "metadata": {},
   "source": [
    "### Positive samples analysis"
   ]
  },
  {
   "cell_type": "code",
   "execution_count": 19,
   "metadata": {},
   "outputs": [
    {
     "name": "stderr",
     "output_type": "stream",
     "text": [
      "100%|██████████| 128/128 [00:14<00:00,  8.70it/s]\n",
      "100%|██████████| 65/65 [00:08<00:00,  6.26it/s]\n"
     ]
    }
   ],
   "source": [
    "pos_ri, pos_ri_norms = computeRi(walmartamazon_hybrid.classifier,attributes,testpos_classifier_inputs,\n",
    "                                attribute_len,0)"
   ]
  },
  {
   "cell_type": "code",
   "execution_count": 20,
   "metadata": {},
   "outputs": [
    {
     "data": {
      "text/plain": [
       "<matplotlib.axes._subplots.AxesSubplot at 0x7fa0252b2d68>"
      ]
     },
     "execution_count": 20,
     "metadata": {},
     "output_type": "execute_result"
    },
    {
     "data": {
      "image/png": "[encoded data removed]",
      "text/plain": [
       "<Figure size 432x288 with 1 Axes>"
      ]
     },
     "metadata": {
      "needs_background": "light"
     },
     "output_type": "display_data"
    }
   ],
   "source": [
    "positives_variation_df = pd.DataFrame(data= pos_ri_norms,columns=attributes)\n",
    "positives_variation_df.sum(numeric_only=True).plot.bar()"
   ]
  },
  {
   "cell_type": "code",
   "execution_count": 21,
   "metadata": {},
   "outputs": [],
   "source": [
    "positives_variation_df.to_csv('experiment_results/testpositives_ri_hybrid.csv',index=False)"
   ]
  },
  {
   "cell_type": "markdown",
   "metadata": {},
   "source": [
    "## Nearest neighbors"
   ]
  },
  {
   "cell_type": "code",
   "execution_count": 22,
   "metadata": {},
   "outputs": [],
   "source": [
    "from utilities_functions.distance_measures import calculate_nearest_neighbors_onAttributes"
   ]
  },
  {
   "cell_type": "code",
   "execution_count": 23,
   "metadata": {},
   "outputs": [
    {
     "name": "stderr",
     "output_type": "stream",
     "text": [
      "100%|██████████| 128/128 [00:01<00:00, 74.24it/s]\n",
      "100%|██████████| 65/65 [00:00<00:00, 79.92it/s]\n"
     ]
    }
   ],
   "source": [
    "positives_nn = calculate_nearest_neighbors_onAttributes(testpos_classifier_inputs,testpos_ids,pos_ri,\n",
    "                                                       neg_classifier_inputs,neg_ids,attributes,attribute_len)"
   ]
  },
  {
   "cell_type": "code",
   "execution_count": 24,
   "metadata": {},
   "outputs": [
    {
     "name": "stderr",
     "output_type": "stream",
     "text": [
      "100%|██████████| 128/128 [00:00<00:00, 503.44it/s]\n",
      "100%|██████████| 64/64 [00:00<00:00, 519.18it/s]\n",
      "100%|██████████| 128/128 [00:00<00:00, 504.93it/s]\n",
      "100%|██████████| 128/128 [00:00<00:00, 498.97it/s]\n",
      "100%|██████████| 128/128 [00:00<00:00, 520.30it/s]\n",
      "100%|██████████| 128/128 [00:00<00:00, 531.50it/s]\n",
      "100%|██████████| 128/128 [00:00<00:00, 527.91it/s]\n",
      "100%|██████████| 128/128 [00:00<00:00, 523.52it/s]\n",
      "100%|██████████| 128/128 [00:00<00:00, 525.69it/s]\n",
      "100%|██████████| 128/128 [00:00<00:00, 533.68it/s]\n",
      "100%|██████████| 128/128 [00:00<00:00, 543.27it/s]\n",
      "100%|██████████| 128/128 [00:00<00:00, 538.10it/s]\n",
      "100%|██████████| 128/128 [00:00<00:00, 500.65it/s]\n",
      "100%|██████████| 128/128 [00:00<00:00, 528.11it/s]\n",
      "100%|██████████| 128/128 [00:00<00:00, 539.38it/s]\n"
     ]
    }
   ],
   "source": [
    "negatives_nn = calculate_nearest_neighbors_onAttributes(testneg_classifier_inputs,testneg_ids,\n",
    "                                                              neg_ri,pos_classifier_inputs,\n",
    "                                                              pos_ids,attributes,attribute_len)"
   ]
  },
  {
   "cell_type": "code",
   "execution_count": 25,
   "metadata": {},
   "outputs": [],
   "source": [
    "positives_nn.to_csv('experiment_results/testpos_nn_hybrid.csv',index=False)\n",
    "negatives_nn.to_csv('experiment_results/testneg_nn_hybrid.csv',index=False)"
   ]
  },
  {
   "cell_type": "code",
   "execution_count": null,
   "metadata": {},
   "outputs": [],
   "source": []
  }
 ],
 "metadata": {
  "kernelspec": {
   "display_name": "Python 3",
   "language": "python",
   "name": "python3"
  },
  "language_info": {
   "codemirror_mode": {
    "name": "ipython",
    "version": 3
   },
   "file_extension": ".py",
   "mimetype": "text/x-python",
   "name": "python",
   "nbconvert_exporter": "python",
   "pygments_lexer": "ipython3",
   "version": "3.6.9"
  }
 },
 "nbformat": 4,
 "nbformat_minor": 2
}

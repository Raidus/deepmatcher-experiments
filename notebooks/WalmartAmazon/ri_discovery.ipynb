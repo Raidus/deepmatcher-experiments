{
 "cells": [
  {
   "cell_type": "markdown",
   "metadata": {},
   "source": [
    "# Discover Ri"
   ]
  },
  {
   "cell_type": "code",
   "execution_count": 1,
   "metadata": {
    "ExecuteTime": {
     "end_time": "2020-03-13T14:43:41.871178Z",
     "start_time": "2020-03-13T14:43:41.848431Z"
    }
   },
   "outputs": [],
   "source": [
    "%load_ext autoreload\n",
    "%autoreload 2\n",
    "import sys\n",
    "sys.path.append(\"../..\")"
   ]
  },
  {
   "cell_type": "code",
   "execution_count": 2,
   "metadata": {
    "ExecuteTime": {
     "end_time": "2020-03-13T14:43:44.041469Z",
     "start_time": "2020-03-13T14:43:42.484253Z"
    }
   },
   "outputs": [],
   "source": [
    "import deepmatcher as dm\n",
    "import pandas as pd\n",
    "import torch"
   ]
  },
  {
   "cell_type": "code",
   "execution_count": 9,
   "metadata": {
    "ExecuteTime": {
     "end_time": "2020-03-13T14:49:44.718495Z",
     "start_time": "2020-03-13T14:49:44.679413Z"
    }
   },
   "outputs": [],
   "source": [
    "from utils.intermediate_layer_extraction import return_layer_input\n",
    "from utils.ri_calculator import computeRi\n",
    "from utils.explainer import Explainer"
   ]
  },
  {
   "cell_type": "code",
   "execution_count": 4,
   "metadata": {
    "ExecuteTime": {
     "end_time": "2020-03-13T14:43:48.922971Z",
     "start_time": "2020-03-13T14:43:44.070840Z"
    }
   },
   "outputs": [],
   "source": [
    "walmartamazon_hybrid = dm.MatchingModel(attr_summarizer='hybrid')\n",
    "walmartamazon_hybrid.load_state('../../models/walmartamazon_hybrid.pth')\n",
    "walmartamazon_hybrid = walmartamazon_hybrid.to('cuda')"
   ]
  },
  {
   "cell_type": "code",
   "execution_count": 16,
   "metadata": {
    "ExecuteTime": {
     "end_time": "2020-03-13T14:59:04.468185Z",
     "start_time": "2020-03-13T14:59:04.431107Z"
    }
   },
   "outputs": [],
   "source": [
    "DATA_DIR = '../../datasets/Structured/Walmart-Amazon/'"
   ]
  },
  {
   "cell_type": "code",
   "execution_count": 5,
   "metadata": {
    "ExecuteTime": {
     "end_time": "2020-03-13T14:45:01.413089Z",
     "start_time": "2020-03-13T14:43:56.219350Z"
    }
   },
   "outputs": [],
   "source": [
    "negatives  = return_layer_input(walmartamazon_hybrid,walmartamazon_hybrid.classifier,\n",
    "    '../../datasets/Structured/Walmart-Amazon','negatives',0)"
   ]
  },
  {
   "cell_type": "code",
   "execution_count": 6,
   "metadata": {
    "ExecuteTime": {
     "end_time": "2020-03-13T14:45:07.788760Z",
     "start_time": "2020-03-13T14:45:01.415351Z"
    }
   },
   "outputs": [],
   "source": [
    "positives  = return_layer_input(walmartamazon_hybrid,walmartamazon_hybrid.classifier,\n",
    "    '../../datasets/Structured/Walmart-Amazon','positives',1)"
   ]
  },
  {
   "cell_type": "markdown",
   "metadata": {},
   "source": [
    "## Ri discovery"
   ]
  },
  {
   "cell_type": "markdown",
   "metadata": {},
   "source": [
    "### Negative samples analysis"
   ]
  },
  {
   "cell_type": "code",
   "execution_count": 8,
   "metadata": {
    "ExecuteTime": {
     "end_time": "2020-03-13T14:49:19.547939Z",
     "start_time": "2020-03-13T14:49:19.513084Z"
    }
   },
   "outputs": [],
   "source": [
    "attributes =['title','category','brand','modelno','price']\n",
    "classifier_len = len(list(positives.values())[0])\n",
    "attribute_len = int(classifier_len/len(attributes))"
   ]
  },
  {
   "cell_type": "code",
   "execution_count": 10,
   "metadata": {
    "ExecuteTime": {
     "end_time": "2020-03-13T14:49:52.546233Z",
     "start_time": "2020-03-13T14:49:52.512076Z"
    }
   },
   "outputs": [],
   "source": [
    "explainer = Explainer(walmartamazon_hybrid,attributes)"
   ]
  },
  {
   "cell_type": "code",
   "execution_count": 12,
   "metadata": {
    "ExecuteTime": {
     "end_time": "2020-03-13T14:56:51.073950Z",
     "start_time": "2020-03-13T14:51:04.184009Z"
    }
   },
   "outputs": [
    {
     "name": "stdout",
     "output_type": "stream",
     "text": [
      "Computing vectors in the classifier space\n"
     ]
    },
    {
     "name": "stderr",
     "output_type": "stream",
     "text": [
      "100%|██████████| 1787/1787 [05:31<00:00,  5.38it/s]\n"
     ]
    }
   ],
   "source": [
    "testneg_ri,testneg_ri_agg,testneg = explainer.getRankingsWhiteBox('../../datasets/Structured/Walmart-Amazon/',\n",
    "                                                                  'test_negatives',0,'cosine')"
   ]
  },
  {
   "cell_type": "code",
   "execution_count": 14,
   "metadata": {
    "ExecuteTime": {
     "end_time": "2020-03-13T14:56:51.386083Z",
     "start_time": "2020-03-13T14:56:51.239398Z"
    }
   },
   "outputs": [
    {
     "data": {
      "image/png": "[encoded data removed]",
      "text/plain": [
       "<Figure size 432x288 with 1 Axes>"
      ]
     },
     "metadata": {
      "needs_background": "light"
     },
     "output_type": "display_data"
    }
   ],
   "source": [
    "testneg_plt = testneg_ri_agg.drop(['sample_id'],axis=1).mean(numeric_only=True).plot.bar(color='red')"
   ]
  },
  {
   "cell_type": "code",
   "execution_count": 24,
   "metadata": {
    "ExecuteTime": {
     "end_time": "2020-03-13T15:04:56.710960Z",
     "start_time": "2020-03-13T15:04:55.931063Z"
    }
   },
   "outputs": [],
   "source": [
    "testneg_plt_fig = testneg_plt.get_figure()\n",
    "testneg_plt_fig.savefig('testneg_ri.png',dpi=300,bbox_inches='tight')"
   ]
  },
  {
   "cell_type": "code",
   "execution_count": 15,
   "metadata": {
    "ExecuteTime": {
     "end_time": "2020-02-28T18:28:19.104364Z",
     "start_time": "2020-02-28T18:28:18.831011Z"
    }
   },
   "outputs": [
    {
     "data": {
      "text/plain": [
       "<matplotlib.axes._subplots.AxesSubplot at 0x7f7388df3f98>"
      ]
     },
     "execution_count": 15,
     "metadata": {},
     "output_type": "execute_result"
    },
    {
     "data": {
      "image/png": "[encoded data removed]",
      "text/plain": [
       "<Figure size 432x288 with 1 Axes>"
      ]
     },
     "metadata": {
      "needs_background": "light"
     },
     "output_type": "display_data"
    }
   ],
   "source": [
    "testneg_ri_norms.drop(['sample_id'],axis=1).sum(numeric_only=True).plot.bar(color='red')"
   ]
  },
  {
   "cell_type": "code",
   "execution_count": 33,
   "metadata": {
    "ExecuteTime": {
     "end_time": "2020-02-27T10:43:49.792809Z",
     "start_time": "2020-02-27T10:43:49.203050Z"
    }
   },
   "outputs": [],
   "source": [
    "torch.save(neg_ri,'experiment_results/testneg_ri_hybrid.pt')\n",
    "neg_ri_norms.to_csv('experiment_results/testneg_ri_norms_hybrid.csv',index=False)"
   ]
  },
  {
   "cell_type": "markdown",
   "metadata": {},
   "source": [
    "### Positive samples analysis"
   ]
  },
  {
   "cell_type": "code",
   "execution_count": 18,
   "metadata": {
    "ExecuteTime": {
     "end_time": "2020-03-13T15:01:30.954475Z",
     "start_time": "2020-03-13T15:00:56.438491Z"
    }
   },
   "outputs": [
    {
     "name": "stdout",
     "output_type": "stream",
     "text": [
      "Computing vectors in the classifier space\n"
     ]
    },
    {
     "name": "stderr",
     "output_type": "stream",
     "text": [
      "100%|██████████| 120/120 [00:32<00:00,  3.73it/s]\n"
     ]
    }
   ],
   "source": [
    "testpos_ri,testpos_ri_agg,testpos_ri = explainer.getRankingsWhiteBox(DATA_DIR,'test_positives',1,'cosine')\n",
    "torch.save(testpos_ri,'experiment_results/testpos_ri_hybrid.pt')\n",
    "testpos_ri_agg.to_csv('experiment_results/testpos_ri_cosine_hybrid.csv',index=False)"
   ]
  },
  {
   "cell_type": "code",
   "execution_count": 21,
   "metadata": {
    "ExecuteTime": {
     "end_time": "2020-03-13T15:02:59.367975Z",
     "start_time": "2020-03-13T15:02:59.080902Z"
    }
   },
   "outputs": [
    {
     "data": {
      "image/png": "[encoded data removed]",
      "text/plain": [
       "<Figure size 432x288 with 1 Axes>"
      ]
     },
     "metadata": {
      "needs_background": "light"
     },
     "output_type": "display_data"
    }
   ],
   "source": [
    "testpos_plt = testpos_ri_agg.drop(['sample_id'],axis=1).mean(numeric_only=True).plot.bar(color='green')"
   ]
  },
  {
   "cell_type": "code",
   "execution_count": 23,
   "metadata": {
    "ExecuteTime": {
     "end_time": "2020-03-13T15:04:49.101556Z",
     "start_time": "2020-03-13T15:04:48.268199Z"
    }
   },
   "outputs": [],
   "source": [
    "testpos_plt_fig = testpos_plt.get_figure()\n",
    "testpos_plt_fig.savefig('testpos_ri.png',dpi=300,bbox_inches='tight')"
   ]
  },
  {
   "cell_type": "markdown",
   "metadata": {},
   "source": [
    "## Nearest neighbors"
   ]
  },
  {
   "cell_type": "code",
   "execution_count": 37,
   "metadata": {
    "ExecuteTime": {
     "end_time": "2020-02-27T10:45:33.701569Z",
     "start_time": "2020-02-27T10:45:33.666993Z"
    }
   },
   "outputs": [],
   "source": [
    "from utils.distance_measures import nearestNeighborOnAttributes"
   ]
  },
  {
   "cell_type": "code",
   "execution_count": 38,
   "metadata": {
    "ExecuteTime": {
     "end_time": "2020-02-27T10:45:34.956574Z",
     "start_time": "2020-02-27T10:45:33.840708Z"
    }
   },
   "outputs": [
    {
     "name": "stderr",
     "output_type": "stream",
     "text": [
      "100%|██████████| 120/120 [00:01<00:00, 119.09it/s]\n"
     ]
    }
   ],
   "source": [
    "testpos_nn = nearestNeighborOnAttributes(testpos,pos_ri,negatives,attributes,attribute_len\n",
    "                                                       ,min_similarity=-1)"
   ]
  },
  {
   "cell_type": "code",
   "execution_count": 39,
   "metadata": {
    "ExecuteTime": {
     "end_time": "2020-02-27T10:45:39.060018Z",
     "start_time": "2020-02-27T10:45:34.958253Z"
    }
   },
   "outputs": [
    {
     "name": "stderr",
     "output_type": "stream",
     "text": [
      "100%|██████████| 1787/1787 [00:04<00:00, 439.55it/s]\n"
     ]
    }
   ],
   "source": [
    "testneg_nn = nearestNeighborOnAttributes(testneg,neg_ri,positives,attributes,attribute_len,\n",
    "                                         min_similarity=-1)"
   ]
  },
  {
   "cell_type": "code",
   "execution_count": 40,
   "metadata": {
    "ExecuteTime": {
     "end_time": "2020-02-27T10:45:39.094375Z",
     "start_time": "2020-02-27T10:45:39.062034Z"
    }
   },
   "outputs": [],
   "source": [
    "testpos_nn.to_csv('experiment_results/testpos_nn_hybrid.csv',index=False)\n",
    "testneg_nn.to_csv('experiment_results/testneg_nn_hybrid.csv',index=False)"
   ]
  },
  {
   "cell_type": "markdown",
   "metadata": {},
   "source": [
    "## Closest distances of nearest neighbors"
   ]
  },
  {
   "cell_type": "code",
   "execution_count": 7,
   "metadata": {
    "ExecuteTime": {
     "end_time": "2020-02-28T15:31:08.968278Z",
     "start_time": "2020-02-28T15:31:08.935130Z"
    }
   },
   "outputs": [],
   "source": [
    "from utils.distance_measures import smallestDistanceOnAttributes,correctRankings"
   ]
  },
  {
   "cell_type": "code",
   "execution_count": 8,
   "metadata": {
    "ExecuteTime": {
     "end_time": "2020-02-28T15:31:10.000658Z",
     "start_time": "2020-02-28T15:31:09.363367Z"
    }
   },
   "outputs": [],
   "source": [
    "testpos_ri = torch.load('experiment_results/testpos_ri_hybrid.pt')\n",
    "testneg_ri = torch.load('experiment_results/testneg_ri_hybrid.pt')"
   ]
  },
  {
   "cell_type": "code",
   "execution_count": 14,
   "metadata": {
    "ExecuteTime": {
     "end_time": "2020-02-28T15:32:45.766578Z",
     "start_time": "2020-02-28T15:32:44.783680Z"
    }
   },
   "outputs": [
    {
     "name": "stderr",
     "output_type": "stream",
     "text": [
      "100%|██████████| 120/120 [00:00<00:00, 137.73it/s]\n"
     ]
    }
   ],
   "source": [
    "testpos_nn_distances = smallestDistanceOnAttributes(testpos,testpos_ri,\n",
    "                                                       negatives,attributes,attribute_len,distance_type='euclidean')"
   ]
  },
  {
   "cell_type": "code",
   "execution_count": 15,
   "metadata": {
    "ExecuteTime": {
     "end_time": "2020-02-28T15:32:48.945789Z",
     "start_time": "2020-02-28T15:32:46.284641Z"
    }
   },
   "outputs": [
    {
     "name": "stderr",
     "output_type": "stream",
     "text": [
      "100%|██████████| 1787/1787 [00:02<00:00, 685.53it/s]\n"
     ]
    }
   ],
   "source": [
    "testneg_nn_distances = smallestDistanceOnAttributes(testneg,testneg_ri,\n",
    "                                                        positives,attributes,attribute_len,distance_type='euclidean')"
   ]
  },
  {
   "cell_type": "code",
   "execution_count": 26,
   "metadata": {
    "ExecuteTime": {
     "end_time": "2020-02-28T15:41:52.437239Z",
     "start_time": "2020-02-28T15:41:52.157063Z"
    }
   },
   "outputs": [
    {
     "data": {
      "text/plain": [
       "<matplotlib.axes._subplots.AxesSubplot at 0x7fcbdf101cf8>"
      ]
     },
     "execution_count": 26,
     "metadata": {},
     "output_type": "execute_result"
    },
    {
     "data": {
      "image/png": "[encoded data removed]",
      "text/plain": [
       "<Figure size 432x288 with 1 Axes>"
      ]
     },
     "metadata": {
      "needs_background": "light"
     },
     "output_type": "display_data"
    }
   ],
   "source": [
    "testneg_nn_distances.drop(['sample_id'],axis=1).sum().plot.bar(color='red')"
   ]
  },
  {
   "cell_type": "code",
   "execution_count": 47,
   "metadata": {
    "ExecuteTime": {
     "end_time": "2020-02-27T10:46:03.463032Z",
     "start_time": "2020-02-27T10:46:03.416503Z"
    }
   },
   "outputs": [],
   "source": [
    "testneg_ri_norms = pd.read_csv('experiment_results/testneg_ri_norms_hybrid.csv')\n",
    "testpos_ri_norms = pd.read_csv('experiment_results/testpos_ri_norms_hybrid.csv')"
   ]
  },
  {
   "cell_type": "code",
   "execution_count": 48,
   "metadata": {
    "ExecuteTime": {
     "end_time": "2020-02-27T10:46:03.731015Z",
     "start_time": "2020-02-27T10:46:03.689584Z"
    }
   },
   "outputs": [],
   "source": [
    "correct_rankings_testneg = correctRankings(testneg_ri_norms,testneg_nn_distances)\n",
    "correct_rankings_testpos = correctRankings(testpos_ri_norms,testpos_nn_distances)"
   ]
  },
  {
   "cell_type": "code",
   "execution_count": 49,
   "metadata": {
    "ExecuteTime": {
     "end_time": "2020-02-27T10:46:04.802907Z",
     "start_time": "2020-02-27T10:46:04.548792Z"
    }
   },
   "outputs": [
    {
     "data": {
      "text/plain": [
       "<matplotlib.axes._subplots.AxesSubplot at 0x7f72cca22ef0>"
      ]
     },
     "execution_count": 49,
     "metadata": {},
     "output_type": "execute_result"
    },
    {
     "data": {
      "image/png": "[encoded data removed]",
      "text/plain": [
       "<Figure size 432x288 with 1 Axes>"
      ]
     },
     "metadata": {
      "needs_background": "light"
     },
     "output_type": "display_data"
    }
   ],
   "source": [
    "correct_rankings_testneg.drop(['sample_id'],axis=1).sum().plot.bar(color='red')"
   ]
  },
  {
   "cell_type": "code",
   "execution_count": 50,
   "metadata": {
    "ExecuteTime": {
     "end_time": "2020-02-27T10:46:39.328868Z",
     "start_time": "2020-02-27T10:46:39.073818Z"
    }
   },
   "outputs": [
    {
     "data": {
      "text/plain": [
       "<matplotlib.axes._subplots.AxesSubplot at 0x7f72cc8e7e80>"
      ]
     },
     "execution_count": 50,
     "metadata": {},
     "output_type": "execute_result"
    },
    {
     "data": {
      "image/png": "[encoded data removed]",
      "text/plain": [
       "<Figure size 432x288 with 1 Axes>"
      ]
     },
     "metadata": {
      "needs_background": "light"
     },
     "output_type": "display_data"
    }
   ],
   "source": [
    "correct_rankings_testpos.drop(['sample_id'],axis=1).sum().plot.bar(color='green')"
   ]
  },
  {
   "cell_type": "code",
   "execution_count": 53,
   "metadata": {
    "ExecuteTime": {
     "end_time": "2020-02-27T10:48:30.705505Z",
     "start_time": "2020-02-27T10:48:30.650878Z"
    }
   },
   "outputs": [
    {
     "data": {
      "text/plain": [
       "title           0.836022\n",
       "category        0.520233\n",
       "brand           0.569137\n",
       "modelno         0.851537\n",
       "price           0.658255\n",
       "sample_id    9171.526581\n",
       "dtype: float64"
      ]
     },
     "execution_count": 53,
     "metadata": {},
     "output_type": "execute_result"
    }
   ],
   "source": [
    "testneg_nn_distances.mean()"
   ]
  },
  {
   "cell_type": "markdown",
   "metadata": {},
   "source": [
    "## Closest distances with extended data"
   ]
  },
  {
   "cell_type": "code",
   "execution_count": 21,
   "metadata": {
    "ExecuteTime": {
     "end_time": "2020-02-28T15:38:56.182487Z",
     "start_time": "2020-02-28T15:37:55.257710Z"
    }
   },
   "outputs": [],
   "source": [
    "extended_neg = return_layer_input(walmartamazon_hybrid,walmartamazon_hybrid.classifier,\n",
    "                                 '../../datasets/Structured/Walmart-Amazon','extended_negatives',0)"
   ]
  },
  {
   "cell_type": "code",
   "execution_count": 22,
   "metadata": {
    "ExecuteTime": {
     "end_time": "2020-02-28T15:39:13.114737Z",
     "start_time": "2020-02-28T15:38:56.184777Z"
    }
   },
   "outputs": [],
   "source": [
    "extended_pos = return_layer_input(walmartamazon_hybrid,walmartamazon_hybrid.classifier,\n",
    "                                 '../../datasets/Structured/Walmart-Amazon','extended_positives',1)"
   ]
  },
  {
   "cell_type": "code",
   "execution_count": 23,
   "metadata": {
    "ExecuteTime": {
     "end_time": "2020-02-28T15:40:03.918722Z",
     "start_time": "2020-02-28T15:40:02.675689Z"
    }
   },
   "outputs": [
    {
     "name": "stderr",
     "output_type": "stream",
     "text": [
      "100%|██████████| 120/120 [00:00<00:00, 121.32it/s]\n"
     ]
    }
   ],
   "source": [
    "testpos_nn_distances_extended = smallestDistanceOnAttributes(testpos,testpos_ri,\n",
    "                                                       extended_neg,attributes,attribute_len,distance_type='euclidean')"
   ]
  },
  {
   "cell_type": "code",
   "execution_count": 24,
   "metadata": {
    "ExecuteTime": {
     "end_time": "2020-02-28T15:40:27.143968Z",
     "start_time": "2020-02-28T15:40:22.451515Z"
    }
   },
   "outputs": [
    {
     "name": "stderr",
     "output_type": "stream",
     "text": [
      "100%|██████████| 1787/1787 [00:04<00:00, 386.79it/s]\n"
     ]
    }
   ],
   "source": [
    "testneg_nn_distances_extended = smallestDistanceOnAttributes(testneg,testneg_ri,\n",
    "                                                        extended_pos,attributes,attribute_len,distance_type='euclidean')"
   ]
  },
  {
   "cell_type": "code",
   "execution_count": 25,
   "metadata": {
    "ExecuteTime": {
     "end_time": "2020-02-28T15:41:07.746666Z",
     "start_time": "2020-02-28T15:41:07.483544Z"
    }
   },
   "outputs": [
    {
     "data": {
      "text/plain": [
       "<matplotlib.axes._subplots.AxesSubplot at 0x7fcc9b853ba8>"
      ]
     },
     "execution_count": 25,
     "metadata": {},
     "output_type": "execute_result"
    },
    {
     "data": {
      "image/png": "[encoded data removed]",
      "text/plain": [
       "<Figure size 432x288 with 1 Axes>"
      ]
     },
     "metadata": {
      "needs_background": "light"
     },
     "output_type": "display_data"
    }
   ],
   "source": [
    "testneg_nn_distances_extended.drop(['sample_id'],axis=1).sum().plot.bar(color='red')"
   ]
  },
  {
   "cell_type": "code",
   "execution_count": 28,
   "metadata": {
    "ExecuteTime": {
     "end_time": "2020-02-28T15:42:24.241384Z",
     "start_time": "2020-02-28T15:42:23.932490Z"
    }
   },
   "outputs": [
    {
     "data": {
      "text/plain": [
       "<matplotlib.axes._subplots.AxesSubplot at 0x7fcbdf0f5940>"
      ]
     },
     "execution_count": 28,
     "metadata": {},
     "output_type": "execute_result"
    },
    {
     "data": {
      "image/png": "[encoded data removed]",
      "text/plain": [
       "<Figure size 432x288 with 1 Axes>"
      ]
     },
     "metadata": {
      "needs_background": "light"
     },
     "output_type": "display_data"
    }
   ],
   "source": [
    "testpos_nn_distances_extended.drop(['sample_id'],axis=1).sum().plot.bar(color='green')"
   ]
  },
  {
   "cell_type": "code",
   "execution_count": null,
   "metadata": {},
   "outputs": [],
   "source": []
  }
 ],
 "metadata": {
  "kernelspec": {
   "display_name": "Python 3",
   "language": "python",
   "name": "python3"
  },
  "language_info": {
   "codemirror_mode": {
    "name": "ipython",
    "version": 3
   },
   "file_extension": ".py",
   "mimetype": "text/x-python",
   "name": "python",
   "nbconvert_exporter": "python",
   "pygments_lexer": "ipython3",
   "version": "3.6.10"
  },
  "toc": {
   "base_numbering": 1,
   "nav_menu": {},
   "number_sections": true,
   "sideBar": true,
   "skip_h1_title": false,
   "title_cell": "Table of Contents",
   "title_sidebar": "Contents",
   "toc_cell": false,
   "toc_position": {
    "height": "calc(100% - 180px)",
    "left": "10px",
    "top": "150px",
    "width": "384px"
   },
   "toc_section_display": true,
   "toc_window_display": true
  }
 },
 "nbformat": 4,
 "nbformat_minor": 2
}

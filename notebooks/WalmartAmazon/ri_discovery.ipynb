{
 "cells": [
  {
   "cell_type": "code",
   "execution_count": 1,
   "metadata": {},
   "outputs": [],
   "source": [
    "%load_ext autoreload\n",
    "%autoreload 2"
   ]
  },
  {
   "cell_type": "code",
   "execution_count": 2,
   "metadata": {},
   "outputs": [],
   "source": [
    "import sys\n",
    "sys.path.append(\"../..\")"
   ]
  },
  {
   "cell_type": "code",
   "execution_count": 3,
   "metadata": {},
   "outputs": [],
   "source": [
    "import deepmatcher as dm\n",
    "import pandas as pd"
   ]
  },
  {
   "cell_type": "code",
   "execution_count": 4,
   "metadata": {},
   "outputs": [],
   "source": [
    "walmartamazon_hybrid = dm.MatchingModel(attr_summarizer='hybrid')\n",
    "walmartamazon_hybrid.load_state('../../models/walmartamazon_hybrid.pth')"
   ]
  },
  {
   "cell_type": "code",
   "execution_count": 7,
   "metadata": {},
   "outputs": [],
   "source": [
    "from utils.intermediate_layer_extraction import return_layer_input"
   ]
  },
  {
   "cell_type": "code",
   "execution_count": 8,
   "metadata": {},
   "outputs": [],
   "source": [
    "testneg_classifier_inputs,testneg_ids = return_layer_input('../../Structured/Walmart-Amazon/','test_negatives',\n",
    "                                                  batch_size=128,model=walmartamazon_hybrid,\n",
    "                                                   layer=walmartamazon_hybrid.classifier,\n",
    "                                                  device=-1)"
   ]
  },
  {
   "cell_type": "code",
   "execution_count": 9,
   "metadata": {},
   "outputs": [],
   "source": [
    "testpos_classifier_inputs,testpos_ids = return_layer_input('../../Structured/Walmart-Amazon/','test_positives',\n",
    "                                                  batch_size=128,model=walmartamazon_hybrid,\n",
    "                                                  layer=walmartamazon_hybrid.classifier,\n",
    "                                                  device=-1)"
   ]
  },
  {
   "cell_type": "code",
   "execution_count": 10,
   "metadata": {},
   "outputs": [],
   "source": [
    "neg_classifier_inputs,neg_ids = return_layer_input('../../Structured/Walmart-Amazon/','negatives',\n",
    "                                                  batch_size=512,model=walmartamazon_hybrid,\n",
    "                                                   layer=walmartamazon_hybrid.classifier,\n",
    "                                                  device=-1)"
   ]
  },
  {
   "cell_type": "code",
   "execution_count": 11,
   "metadata": {},
   "outputs": [],
   "source": [
    "pos_classifier_inputs,pos_ids = return_layer_input('../../Structured/Walmart-Amazon/','positives',\n",
    "                                                  batch_size=512,model=walmartamazon_hybrid,\n",
    "                                                  layer=walmartamazon_hybrid.classifier,\n",
    "                                                  device=-1)"
   ]
  },
  {
   "cell_type": "code",
   "execution_count": 12,
   "metadata": {},
   "outputs": [],
   "source": [
    "walmartamazon_hybrid = walmartamazon_hybrid.cuda()"
   ]
  },
  {
   "cell_type": "markdown",
   "metadata": {},
   "source": [
    "## Ri discovery"
   ]
  },
  {
   "cell_type": "markdown",
   "metadata": {},
   "source": [
    "### Negative samples analysis"
   ]
  },
  {
   "cell_type": "code",
   "execution_count": 14,
   "metadata": {},
   "outputs": [],
   "source": [
    "from utils.ri_calculator import computeRi"
   ]
  },
  {
   "cell_type": "code",
   "execution_count": 15,
   "metadata": {},
   "outputs": [],
   "source": [
    "attributes =['title','category','brand','modelno','price']\n",
    "classifier_len = len(pos_classifier_inputs[0][0])\n",
    "attribute_len = int(classifier_len/len(attributes))"
   ]
  },
  {
   "cell_type": "code",
   "execution_count": 16,
   "metadata": {},
   "outputs": [
    {
     "name": "stderr",
     "output_type": "stream",
     "text": [
      "100%|██████████| 128/128 [00:17<00:00,  7.48it/s]\n",
      "100%|██████████| 128/128 [00:16<00:00,  6.67it/s]\n",
      "100%|██████████| 64/64 [00:08<00:00,  5.84it/s]\n",
      "100%|██████████| 128/128 [00:17<00:00,  7.26it/s]\n",
      "100%|██████████| 128/128 [00:16<00:00,  5.62it/s]\n",
      "100%|██████████| 128/128 [00:16<00:00,  7.36it/s]\n",
      "100%|██████████| 128/128 [00:16<00:00,  6.64it/s]\n",
      "100%|██████████| 128/128 [00:16<00:00,  7.72it/s]\n",
      "100%|██████████| 128/128 [00:16<00:00,  9.18it/s]\n",
      "100%|██████████| 128/128 [00:14<00:00,  7.42it/s]\n",
      "100%|██████████| 128/128 [00:14<00:00,  8.02it/s]\n",
      "100%|██████████| 128/128 [00:15<00:00,  8.50it/s]\n",
      "100%|██████████| 128/128 [00:14<00:00,  7.46it/s]\n",
      "100%|██████████| 128/128 [00:14<00:00,  8.94it/s]\n",
      "100%|██████████| 128/128 [00:14<00:00,  8.57it/s]\n"
     ]
    }
   ],
   "source": [
    "neg_ri,neg_ri_norms = computeRi(walmartamazon_hybrid.classifier,attributes,testneg_classifier_inputs,\n",
    "                               attribute_len,1)"
   ]
  },
  {
   "cell_type": "code",
   "execution_count": 18,
   "metadata": {},
   "outputs": [
    {
     "data": {
      "text/plain": [
       "<matplotlib.axes._subplots.AxesSubplot at 0x7f38096bc8d0>"
      ]
     },
     "execution_count": 18,
     "metadata": {},
     "output_type": "execute_result"
    },
    {
     "data": {
      "image/png": "[encoded data removed]",
      "text/plain": [
       "<Figure size 432x288 with 1 Axes>"
      ]
     },
     "metadata": {
      "needs_background": "light"
     },
     "output_type": "display_data"
    }
   ],
   "source": [
    "negatives_variation_df = pd.DataFrame(data= neg_ri_norms,columns=attributes)\n",
    "negatives_variation_df.sum(numeric_only=True).plot.bar()"
   ]
  },
  {
   "cell_type": "code",
   "execution_count": 19,
   "metadata": {},
   "outputs": [],
   "source": [
    "negatives_variation_df.to_csv('experiment_results/testnegatives_ri_hybrid.csv',index=False)"
   ]
  },
  {
   "cell_type": "markdown",
   "metadata": {},
   "source": [
    "### Positive samples analysis"
   ]
  },
  {
   "cell_type": "code",
   "execution_count": 20,
   "metadata": {},
   "outputs": [
    {
     "name": "stderr",
     "output_type": "stream",
     "text": [
      "100%|██████████| 128/128 [00:15<00:00,  8.17it/s]\n",
      "100%|██████████| 65/65 [00:07<00:00,  8.73it/s]\n"
     ]
    }
   ],
   "source": [
    "pos_ri, pos_ri_norms = computeRi(walmartamazon_hybrid.classifier,attributes,testpos_classifier_inputs,\n",
    "                                attribute_len,0)"
   ]
  },
  {
   "cell_type": "code",
   "execution_count": 21,
   "metadata": {},
   "outputs": [
    {
     "data": {
      "text/plain": [
       "<matplotlib.axes._subplots.AxesSubplot at 0x7f38387378d0>"
      ]
     },
     "execution_count": 21,
     "metadata": {},
     "output_type": "execute_result"
    },
    {
     "data": {
      "image/png": "[encoded data removed]",
      "text/plain": [
       "<Figure size 432x288 with 1 Axes>"
      ]
     },
     "metadata": {
      "needs_background": "light"
     },
     "output_type": "display_data"
    }
   ],
   "source": [
    "positives_variation_df = pd.DataFrame(data= pos_ri_norms,columns=attributes)\n",
    "positives_variation_df.sum(numeric_only=True).plot.bar()"
   ]
  },
  {
   "cell_type": "code",
   "execution_count": 22,
   "metadata": {},
   "outputs": [],
   "source": [
    "positives_variation_df.to_csv('experiment_results/testpositives_ri_hybrid.csv',index=False)"
   ]
  },
  {
   "cell_type": "markdown",
   "metadata": {},
   "source": [
    "## Nearest neighbors"
   ]
  },
  {
   "cell_type": "code",
   "execution_count": 24,
   "metadata": {},
   "outputs": [],
   "source": [
    "from utils.distance_measures import calculate_nearest_neighbors_onAttributes"
   ]
  },
  {
   "cell_type": "code",
   "execution_count": 25,
   "metadata": {},
   "outputs": [
    {
     "name": "stderr",
     "output_type": "stream",
     "text": [
      "100%|██████████| 128/128 [00:01<00:00, 77.61it/s]\n",
      "100%|██████████| 65/65 [00:00<00:00, 77.98it/s]\n"
     ]
    }
   ],
   "source": [
    "positives_nn = calculate_nearest_neighbors_onAttributes(testpos_classifier_inputs,testpos_ids,pos_ri,\n",
    "                                                       neg_classifier_inputs,neg_ids,attributes,attribute_len\n",
    "                                                       ,min_similarity=0.5)"
   ]
  },
  {
   "cell_type": "code",
   "execution_count": 26,
   "metadata": {},
   "outputs": [
    {
     "name": "stderr",
     "output_type": "stream",
     "text": [
      "100%|██████████| 128/128 [00:00<00:00, 512.73it/s]\n",
      "100%|██████████| 128/128 [00:00<00:00, 535.06it/s]\n",
      "100%|██████████| 64/64 [00:00<00:00, 524.00it/s]\n",
      "100%|██████████| 128/128 [00:00<00:00, 532.33it/s]\n",
      "100%|██████████| 128/128 [00:00<00:00, 532.07it/s]\n",
      "100%|██████████| 128/128 [00:00<00:00, 472.78it/s]\n",
      "100%|██████████| 128/128 [00:00<00:00, 488.80it/s]\n",
      "100%|██████████| 128/128 [00:00<00:00, 511.30it/s]\n",
      "100%|██████████| 128/128 [00:00<00:00, 528.69it/s]\n",
      "100%|██████████| 128/128 [00:00<00:00, 528.95it/s]\n",
      "100%|██████████| 128/128 [00:00<00:00, 536.55it/s]\n",
      "100%|██████████| 128/128 [00:00<00:00, 526.28it/s]\n",
      "100%|██████████| 128/128 [00:00<00:00, 541.13it/s]\n",
      "100%|██████████| 128/128 [00:00<00:00, 533.05it/s]\n",
      "100%|██████████| 128/128 [00:00<00:00, 543.71it/s]\n"
     ]
    }
   ],
   "source": [
    "negatives_nn = calculate_nearest_neighbors_onAttributes(testneg_classifier_inputs,testneg_ids,\n",
    "                                                              neg_ri,pos_classifier_inputs,\n",
    "                                                              pos_ids,attributes,attribute_len,\n",
    "                                                       min_similarity=0.5)"
   ]
  },
  {
   "cell_type": "code",
   "execution_count": 27,
   "metadata": {},
   "outputs": [],
   "source": [
    "positives_nn.to_csv('experiment_results/testpos_nn_hybrid_withfilter.csv',index=False)\n",
    "negatives_nn.to_csv('experiment_results/testneg_nn_hybrid_withfilter.csv',index=False)"
   ]
  }
 ],
 "metadata": {
  "kernelspec": {
   "display_name": "Python 3",
   "language": "python",
   "name": "python3"
  },
  "language_info": {
   "codemirror_mode": {
    "name": "ipython",
    "version": 3
   },
   "file_extension": ".py",
   "mimetype": "text/x-python",
   "name": "python",
   "nbconvert_exporter": "python",
   "pygments_lexer": "ipython3",
   "version": "3.6.9"
  }
 },
 "nbformat": 4,
 "nbformat_minor": 2
}

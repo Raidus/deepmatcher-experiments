{
 "cells": [
  {
   "cell_type": "markdown",
   "metadata": {},
   "source": [
    "# Discover Ri"
   ]
  },
  {
   "cell_type": "code",
   "execution_count": 1,
   "metadata": {},
   "outputs": [],
   "source": [
    "%load_ext autoreload\n",
    "%autoreload 2"
   ]
  },
  {
   "cell_type": "code",
   "execution_count": 2,
   "metadata": {},
   "outputs": [],
   "source": [
    "import sys\n",
    "sys.path.append(\"../..\")"
   ]
  },
  {
   "cell_type": "code",
   "execution_count": 3,
   "metadata": {},
   "outputs": [],
   "source": [
    "import deepmatcher as dm\n",
    "import pandas as pd\n",
    "import torch"
   ]
  },
  {
   "cell_type": "code",
   "execution_count": 4,
   "metadata": {},
   "outputs": [],
   "source": [
    "from utils.intermediate_layer_extraction import return_layer_input"
   ]
  },
  {
   "cell_type": "code",
   "execution_count": 5,
   "metadata": {},
   "outputs": [],
   "source": [
    "walmartamazon_hybrid = dm.MatchingModel(attr_summarizer='hybrid')\n",
    "walmartamazon_hybrid.load_state('../../models/walmartamazon_hybrid.pth')\n",
    "walmartamazon_hybrid = walmartamazon_hybrid.cuda()"
   ]
  },
  {
   "cell_type": "code",
   "execution_count": 6,
   "metadata": {},
   "outputs": [],
   "source": [
    "testneg  = return_layer_input(walmartamazon_hybrid,walmartamazon_hybrid.classifier,\n",
    "    '../../datasets/Structured/Walmart-Amazon/','test_negatives')"
   ]
  },
  {
   "cell_type": "code",
   "execution_count": 7,
   "metadata": {},
   "outputs": [],
   "source": [
    "testpos = return_layer_input(walmartamazon_hybrid,walmartamazon_hybrid.classifier,\n",
    "                             '../../datasets/Structured/Walmart-Amazon/','test_positives')"
   ]
  },
  {
   "cell_type": "code",
   "execution_count": 8,
   "metadata": {},
   "outputs": [],
   "source": [
    "negatives  = return_layer_input(walmartamazon_hybrid,walmartamazon_hybrid.classifier,\n",
    "    '../../datasets/Structured/Walmart-Amazon/','negatives')"
   ]
  },
  {
   "cell_type": "code",
   "execution_count": 9,
   "metadata": {},
   "outputs": [],
   "source": [
    "positives  = return_layer_input(walmartamazon_hybrid,walmartamazon_hybrid.classifier,\n",
    "    '../../datasets/Structured/Walmart-Amazon/','positives')"
   ]
  },
  {
   "cell_type": "markdown",
   "metadata": {},
   "source": [
    "## Ri discovery"
   ]
  },
  {
   "cell_type": "markdown",
   "metadata": {},
   "source": [
    "### Negative samples analysis"
   ]
  },
  {
   "cell_type": "code",
   "execution_count": 8,
   "metadata": {},
   "outputs": [],
   "source": [
    "from utils.ri_calculator import computeRi"
   ]
  },
  {
   "cell_type": "code",
   "execution_count": 11,
   "metadata": {},
   "outputs": [],
   "source": [
    "attributes =['title','category','brand','modelno','price']\n",
    "classifier_len = len(list(testpos.values())[0])\n",
    "attribute_len = int(classifier_len/len(attributes))"
   ]
  },
  {
   "cell_type": "code",
   "execution_count": 11,
   "metadata": {},
   "outputs": [
    {
     "name": "stderr",
     "output_type": "stream",
     "text": [
      "100%|██████████| 1856/1856 [04:55<00:00,  6.28it/s]\n"
     ]
    },
    {
     "ename": "NameError",
     "evalue": "name 'torch' is not defined",
     "output_type": "error",
     "traceback": [
      "\u001b[0;31m---------------------------------------------------------------------------\u001b[0m",
      "\u001b[0;31mNameError\u001b[0m                                 Traceback (most recent call last)",
      "\u001b[0;32m<ipython-input-11-da4eb768a453>\u001b[0m in \u001b[0;36m<module>\u001b[0;34m\u001b[0m\n\u001b[1;32m      1\u001b[0m \u001b[0mneg_ri\u001b[0m\u001b[0;34m,\u001b[0m\u001b[0mneg_ri_norms\u001b[0m \u001b[0;34m=\u001b[0m \u001b[0mcomputeRi\u001b[0m\u001b[0;34m(\u001b[0m\u001b[0mwalmartamazon_hybrid\u001b[0m\u001b[0;34m.\u001b[0m\u001b[0mclassifier\u001b[0m\u001b[0;34m,\u001b[0m\u001b[0mattributes\u001b[0m\u001b[0;34m,\u001b[0m\u001b[0mtestneg\u001b[0m\u001b[0;34m,\u001b[0m\u001b[0;36m0\u001b[0m\u001b[0;34m)\u001b[0m\u001b[0;34m\u001b[0m\u001b[0;34m\u001b[0m\u001b[0m\n\u001b[0;32m----> 2\u001b[0;31m \u001b[0mtorch\u001b[0m\u001b[0;34m.\u001b[0m\u001b[0msave\u001b[0m\u001b[0;34m(\u001b[0m\u001b[0mneg_ri\u001b[0m\u001b[0;34m,\u001b[0m\u001b[0;34m'experiment_results/testneg_ri_hybrid.pt'\u001b[0m\u001b[0;34m)\u001b[0m\u001b[0;34m\u001b[0m\u001b[0;34m\u001b[0m\u001b[0m\n\u001b[0m",
      "\u001b[0;31mNameError\u001b[0m: name 'torch' is not defined"
     ]
    }
   ],
   "source": [
    "neg_ri,neg_ri_norms = computeRi(walmartamazon_hybrid.classifier,attributes,testneg,0)\n"
   ]
  },
  {
   "cell_type": "code",
   "execution_count": 14,
   "metadata": {},
   "outputs": [],
   "source": [
    "torch.save(neg_ri,'experiment_results/testneg_ri_hybrid.pt')"
   ]
  },
  {
   "cell_type": "code",
   "execution_count": 21,
   "metadata": {},
   "outputs": [
    {
     "data": {
      "text/plain": [
       "<matplotlib.axes._subplots.AxesSubplot at 0x7f3ad7ef4160>"
      ]
     },
     "execution_count": 21,
     "metadata": {},
     "output_type": "execute_result"
    },
    {
     "data": {
      "image/png": "[encoded data removed]",
      "text/plain": [
       "<Figure size 432x288 with 1 Axes>"
      ]
     },
     "metadata": {
      "needs_background": "light"
     },
     "output_type": "display_data"
    }
   ],
   "source": [
    "neg_ri_norms.sum(numeric_only=True).plot.bar()"
   ]
  },
  {
   "cell_type": "code",
   "execution_count": 12,
   "metadata": {},
   "outputs": [],
   "source": [
    "def getRiNorms(ri,attributes):\n",
    "    ri = ri.values()\n",
    "    ri_norms = [[torch.norm(v).item() for v in ris] for ris in ri]\n",
    "    ri_norms_df = pd.DataFrame(data=ri_norms,columns=attributes)\n",
    "    return ri_norms_df"
   ]
  },
  {
   "cell_type": "code",
   "execution_count": 13,
   "metadata": {},
   "outputs": [],
   "source": [
    "##save to file\n",
    "neg_ri = torch.load('experiment_results/testneg_ri_hybrid.pt')\n",
    "negatives_variation_df = getRiNorms(neg_ri,attributes)\n",
    "negatives_variation_df.to_csv('experiment_results/testneg_ri_norms_hybrid.csv',index=False)"
   ]
  },
  {
   "cell_type": "markdown",
   "metadata": {},
   "source": [
    "### Positive samples analysis"
   ]
  },
  {
   "cell_type": "code",
   "execution_count": 22,
   "metadata": {},
   "outputs": [
    {
     "name": "stderr",
     "output_type": "stream",
     "text": [
      "100%|██████████| 193/193 [00:39<00:00,  4.91it/s]\n"
     ]
    }
   ],
   "source": [
    "pos_ri, pos_ri_norms = computeRi(walmartamazon_hybrid.classifier,attributes,testpos,1)\n",
    "torch.save(pos_ri,'experiment_results/testpos_ri_hybrid.pt')"
   ]
  },
  {
   "cell_type": "code",
   "execution_count": 23,
   "metadata": {},
   "outputs": [
    {
     "data": {
      "text/plain": [
       "<matplotlib.axes._subplots.AxesSubplot at 0x7f3ad0e44278>"
      ]
     },
     "execution_count": 23,
     "metadata": {},
     "output_type": "execute_result"
    },
    {
     "data": {
      "image/png": "[encoded data removed]",
      "text/plain": [
       "<Figure size 432x288 with 1 Axes>"
      ]
     },
     "metadata": {
      "needs_background": "light"
     },
     "output_type": "display_data"
    }
   ],
   "source": [
    "pos_ri_norms.sum(numeric_only=True).plot.bar()"
   ]
  },
  {
   "cell_type": "code",
   "execution_count": 22,
   "metadata": {},
   "outputs": [],
   "source": [
    "positives_variation_df.to_csv('experiment_results/testpositives_ri_hybrid.csv',index=False)"
   ]
  },
  {
   "cell_type": "code",
   "execution_count": 14,
   "metadata": {},
   "outputs": [],
   "source": [
    "##save to file\n",
    "pos_ri = torch.load('experiment_results/testpos_ri_hybrid.pt')\n",
    "pos_ri_norms = getRiNorms(pos_ri,attributes)\n",
    "pos_ri_norms.to_csv('experiment_results/testpos_ri_norms_hybrid.csv',index=False)"
   ]
  },
  {
   "cell_type": "markdown",
   "metadata": {},
   "source": [
    "## Nearest neighbors"
   ]
  },
  {
   "cell_type": "code",
   "execution_count": 24,
   "metadata": {},
   "outputs": [],
   "source": [
    "from utils.distance_measures import calculate_nearest_neighbors_onAttributes"
   ]
  },
  {
   "cell_type": "code",
   "execution_count": 25,
   "metadata": {},
   "outputs": [
    {
     "name": "stderr",
     "output_type": "stream",
     "text": [
      "100%|██████████| 128/128 [00:01<00:00, 77.61it/s]\n",
      "100%|██████████| 65/65 [00:00<00:00, 77.98it/s]\n"
     ]
    }
   ],
   "source": [
    "positives_nn = calculate_nearest_neighbors_onAttributes(testpos_classifier_inputs,testpos_ids,pos_ri,\n",
    "                                                       neg_classifier_inputs,neg_ids,attributes,attribute_len\n",
    "                                                       ,min_similarity=0.5)"
   ]
  },
  {
   "cell_type": "code",
   "execution_count": 26,
   "metadata": {},
   "outputs": [
    {
     "name": "stderr",
     "output_type": "stream",
     "text": [
      "100%|██████████| 128/128 [00:00<00:00, 512.73it/s]\n",
      "100%|██████████| 128/128 [00:00<00:00, 535.06it/s]\n",
      "100%|██████████| 64/64 [00:00<00:00, 524.00it/s]\n",
      "100%|██████████| 128/128 [00:00<00:00, 532.33it/s]\n",
      "100%|██████████| 128/128 [00:00<00:00, 532.07it/s]\n",
      "100%|██████████| 128/128 [00:00<00:00, 472.78it/s]\n",
      "100%|██████████| 128/128 [00:00<00:00, 488.80it/s]\n",
      "100%|██████████| 128/128 [00:00<00:00, 511.30it/s]\n",
      "100%|██████████| 128/128 [00:00<00:00, 528.69it/s]\n",
      "100%|██████████| 128/128 [00:00<00:00, 528.95it/s]\n",
      "100%|██████████| 128/128 [00:00<00:00, 536.55it/s]\n",
      "100%|██████████| 128/128 [00:00<00:00, 526.28it/s]\n",
      "100%|██████████| 128/128 [00:00<00:00, 541.13it/s]\n",
      "100%|██████████| 128/128 [00:00<00:00, 533.05it/s]\n",
      "100%|██████████| 128/128 [00:00<00:00, 543.71it/s]\n"
     ]
    }
   ],
   "source": [
    "negatives_nn = calculate_nearest_neighbors_onAttributes(testneg_classifier_inputs,testneg_ids,\n",
    "                                                              neg_ri,pos_classifier_inputs,\n",
    "                                                              pos_ids,attributes,attribute_len,\n",
    "                                                       min_similarity=0.5)"
   ]
  },
  {
   "cell_type": "code",
   "execution_count": 27,
   "metadata": {},
   "outputs": [],
   "source": [
    "positives_nn.to_csv('experiment_results/testpos_nn_hybrid_withfilter.csv',index=False)\n",
    "negatives_nn.to_csv('experiment_results/testneg_nn_hybrid_withfilter.csv',index=False)"
   ]
  },
  {
   "cell_type": "markdown",
   "metadata": {},
   "source": [
    "## Test"
   ]
  },
  {
   "cell_type": "code",
   "execution_count": 24,
   "metadata": {},
   "outputs": [],
   "source": [
    "import torch.nn.functional as F"
   ]
  },
  {
   "cell_type": "code",
   "execution_count": 27,
   "metadata": {},
   "outputs": [],
   "source": [
    "for key in testneg.keys():\n",
    "    for idx,attr in enumerate(attributes):\n",
    "        pred = F.softmax(walmartamazon_hybrid.classifier.forward(torch.unsqueeze(testneg[key]+neg_ri[key][idx],0)),dim=1)\n",
    "        if pred[0][0].item() > pred[0][1].item():\n",
    "            print(pred)"
   ]
  },
  {
   "cell_type": "code",
   "execution_count": 28,
   "metadata": {},
   "outputs": [],
   "source": [
    "for key in testpos.keys():\n",
    "    for idx,attr in enumerate(attributes):\n",
    "        pred = F.softmax(walmartamazon_hybrid.classifier.forward(torch.unsqueeze(testpos[key]+pos_ri[key][idx],0)),dim=1)\n",
    "        if pred[0][0].item()  pred[0][1].item():\n",
    "            print(pred)"
   ]
  },
  {
   "cell_type": "code",
   "execution_count": null,
   "metadata": {},
   "outputs": [],
   "source": []
  }
 ],
 "metadata": {
  "kernelspec": {
   "display_name": "Python 3",
   "language": "python",
   "name": "python3"
  },
  "language_info": {
   "codemirror_mode": {
    "name": "ipython",
    "version": 3
   },
   "file_extension": ".py",
   "mimetype": "text/x-python",
   "name": "python",
   "nbconvert_exporter": "python",
   "pygments_lexer": "ipython3",
   "version": "3.6.10"
  },
  "toc": {
   "base_numbering": 1,
   "nav_menu": {},
   "number_sections": true,
   "sideBar": true,
   "skip_h1_title": false,
   "title_cell": "Table of Contents",
   "title_sidebar": "Contents",
   "toc_cell": false,
   "toc_position": {},
   "toc_section_display": true,
   "toc_window_display": true
  }
 },
 "nbformat": 4,
 "nbformat_minor": 2
}

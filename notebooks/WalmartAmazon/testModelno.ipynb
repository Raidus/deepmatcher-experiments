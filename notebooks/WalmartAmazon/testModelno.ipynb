{
 "cells": [
  {
   "cell_type": "code",
   "execution_count": 1,
   "metadata": {},
   "outputs": [],
   "source": [
    "import pandas as pd \n",
    "import deepmatcher as dm"
   ]
  },
  {
   "cell_type": "code",
   "execution_count": 2,
   "metadata": {},
   "outputs": [],
   "source": [
    "hybrid_model = dm.MatchingModel(attr_summarizer='hybrid')\n",
    "hybrid_model.load_state('../../models/walmartamazon_hybrid.pth')"
   ]
  },
  {
   "cell_type": "code",
   "execution_count": 11,
   "metadata": {},
   "outputs": [
    {
     "name": "stdout",
     "output_type": "stream",
     "text": [
      "===>  PREDICT Epoch 19\n",
      "Finished Epoch 19 || Run Time:    3.9 | Load Time:    2.1 || F1:   0.00 | Prec:   0.00 | Rec:   0.00 || Ex/s:   0.00\n",
      "\n"
     ]
    },
    {
     "data": {
      "text/plain": [
       "1789"
      ]
     },
     "execution_count": 11,
     "metadata": {},
     "output_type": "execute_result"
    }
   ],
   "source": [
    "testneg = dm.data.process_unlabeled('../../Structured/Walmart-Amazon/test_negatives.csv',hybrid_model,\n",
    "                                   ignore_columns=['id','label'])\n",
    "preds = hybrid_model.run_prediction(testneg)\n",
    "preds[preds.match_score<=0.5].shape[0]"
   ]
  },
  {
   "cell_type": "code",
   "execution_count": 14,
   "metadata": {},
   "outputs": [],
   "source": [
    "test_neg = pd.read_csv('../../Structured/Walmart-Amazon/test_negatives.csv')\n",
    "test_neg.ltable_modelno = test_neg.rtable_modelno\n",
    "test_neg.to_csv('temp/testneg_modelno.csv',index=False)"
   ]
  },
  {
   "cell_type": "code",
   "execution_count": 15,
   "metadata": {},
   "outputs": [
    {
     "name": "stdout",
     "output_type": "stream",
     "text": [
      "===>  PREDICT Epoch 19\n",
      "Finished Epoch 19 || Run Time:    3.8 | Load Time:    2.1 || F1:   0.00 | Prec:   0.00 | Rec:   0.00 || Ex/s:   0.00\n",
      "\n"
     ]
    },
    {
     "data": {
      "text/plain": [
       "270"
      ]
     },
     "execution_count": 15,
     "metadata": {},
     "output_type": "execute_result"
    }
   ],
   "source": [
    "testneg_alt = dm.data.process_unlabeled('temp/testneg_modelno.csv',hybrid_model,\n",
    "                                   ignore_columns=['id','label'])\n",
    "altpreds = hybrid_model.run_prediction(testneg_alt,output_attributes=True)\n",
    "altpreds[altpreds.match_score<=0.5].shape[0]"
   ]
  },
  {
   "cell_type": "code",
   "execution_count": 17,
   "metadata": {},
   "outputs": [
    {
     "data": {
      "text/plain": [
       "float"
      ]
     },
     "execution_count": 17,
     "metadata": {},
     "output_type": "execute_result"
    }
   ],
   "source": [
    "altpreds_neg = altpreds[altpreds.match_score<=0.5]\n",
    "type(altpreds_neg.iloc[0]['ltable_modelno'])"
   ]
  },
  {
   "cell_type": "code",
   "execution_count": 24,
   "metadata": {},
   "outputs": [
    {
     "data": {
      "text/plain": [
       "v7n3c5e-10f-ylws                           3\n",
       "v7n3c5e-02f-blks                           2\n",
       "v7n3c5e-14f-ylws                           2\n",
       "switch by design studio , amira - 17 ''    1\n",
       "ipad 9.7 ''                                1\n",
       "n210-md512h                                1\n",
       "Name: ltable_modelno, dtype: int64"
      ]
     },
     "execution_count": 24,
     "metadata": {},
     "output_type": "execute_result"
    }
   ],
   "source": [
    "altpreds_neg['ltable_modelno'].value_counts()"
   ]
  },
  {
   "cell_type": "code",
   "execution_count": 20,
   "metadata": {},
   "outputs": [
    {
     "data": {
      "text/plain": [
       "v7n3c5e-10f-ylws                           3\n",
       "v7n3c5e-02f-blks                           2\n",
       "v7n3c5e-14f-ylws                           2\n",
       "switch by design studio , amira - 17 ''    1\n",
       "ipad 9.7 ''                                1\n",
       "n210-md512h                                1\n",
       "Name: rtable_modelno, dtype: int64"
      ]
     },
     "execution_count": 20,
     "metadata": {},
     "output_type": "execute_result"
    }
   ],
   "source": [
    "altpreds_neg['rtable_modelno'].value_counts()"
   ]
  },
  {
   "cell_type": "markdown",
   "metadata": {},
   "source": [
    "## Test with NaN"
   ]
  },
  {
   "cell_type": "code",
   "execution_count": 29,
   "metadata": {},
   "outputs": [],
   "source": [
    "import numpy as np\n",
    "\n",
    "test_neg = pd.read_csv('../../Structured/Walmart-Amazon/test_negatives.csv')\n",
    "test_neg.ltable_modelno = np.nan\n",
    "test_neg.rtable_modelno = np.nan\n",
    "test_neg.to_csv('temp/testneg_modelno_Nan.csv',index=False)"
   ]
  },
  {
   "cell_type": "code",
   "execution_count": 30,
   "metadata": {},
   "outputs": [
    {
     "name": "stdout",
     "output_type": "stream",
     "text": [
      "===>  PREDICT Epoch 19\n",
      "Finished Epoch 19 || Run Time:    3.8 | Load Time:    1.9 || F1:   0.00 | Prec:   0.00 | Rec:   0.00 || Ex/s:   0.00\n",
      "\n"
     ]
    },
    {
     "data": {
      "text/plain": [
       "719"
      ]
     },
     "execution_count": 30,
     "metadata": {},
     "output_type": "execute_result"
    }
   ],
   "source": [
    "testneg_alt = dm.data.process_unlabeled('temp/testneg_modelno_Nan.csv',hybrid_model,\n",
    "                                   ignore_columns=['id','label'])\n",
    "altpreds = hybrid_model.run_prediction(testneg_alt,output_attributes=True)\n",
    "altpreds[altpreds.match_score<=0.5].shape[0]"
   ]
  },
  {
   "cell_type": "code",
   "execution_count": null,
   "metadata": {},
   "outputs": [],
   "source": []
  }
 ],
 "metadata": {
  "kernelspec": {
   "display_name": "Python 3",
   "language": "python",
   "name": "python3"
  },
  "language_info": {
   "codemirror_mode": {
    "name": "ipython",
    "version": 3
   },
   "file_extension": ".py",
   "mimetype": "text/x-python",
   "name": "python",
   "nbconvert_exporter": "python",
   "pygments_lexer": "ipython3",
   "version": "3.6.8"
  }
 },
 "nbformat": 4,
 "nbformat_minor": 2
}

{
 "cells": [
  {
   "cell_type": "code",
   "execution_count": 1,
   "metadata": {},
   "outputs": [],
   "source": [
    "import pandas as pd\n",
    "import deepmatcher as dm"
   ]
  },
  {
   "cell_type": "code",
   "execution_count": null,
   "metadata": {},
   "outputs": [],
   "source": [
    "train_df = pd.read_csv('../../Structured/Walmart-Amazon/merged_train.csv')\n",
    "train_pos = train_df[train_df.label==1].copy()\n",
    "train_neg = train_df[train_df.label==0].copy()"
   ]
  },
  {
   "cell_type": "code",
   "execution_count": 17,
   "metadata": {},
   "outputs": [],
   "source": [
    "validation_df = pd.read_csv('../../Structured/Walmart-Amazon/merged_valid.csv')\n",
    "valid_pos = validation_df[validation_df.label==1].copy()\n",
    "valid_neg = validation_df[validation_df.label==0].copy()"
   ]
  },
  {
   "cell_type": "code",
   "execution_count": 2,
   "metadata": {},
   "outputs": [],
   "source": [
    "import random\n",
    "import string\n",
    "def randomStringDigits(stringLength=6):\n",
    "    \"\"\"Generate a random string of letters and digits \"\"\"\n",
    "    lettersAndDigits = string.ascii_letters + string.digits\n",
    "    return ''.join(random.choice(lettersAndDigits) for i in range(stringLength))"
   ]
  },
  {
   "cell_type": "code",
   "execution_count": 6,
   "metadata": {},
   "outputs": [],
   "source": [
    "def generateRandomCodes(codes_len,label):\n",
    "    l1 = []\n",
    "    l2 = []\n",
    "    for i in range(codes_len):\n",
    "        if label == 1 :\n",
    "            c1 = randomStringDigits(random.randint(5,20))\n",
    "            l1.append(c1)\n",
    "            l2.append(c1)\n",
    "        else:\n",
    "            c1 = randomStringDigits(random.randint(5,20))\n",
    "            c2 = randomStringDigits(random.randint(5,20))\n",
    "            l1.append(c1)\n",
    "            l2.append(c2)\n",
    "    return l1,l2"
   ]
  },
  {
   "cell_type": "code",
   "execution_count": 7,
   "metadata": {},
   "outputs": [],
   "source": [
    "l_neg,r_neg = generateRandomCodes(train_neg.shape[0],0)\n",
    "l_pos,r_pos = generateRandomCodes(train_pos.shape[0],1)"
   ]
  },
  {
   "cell_type": "code",
   "execution_count": 8,
   "metadata": {},
   "outputs": [],
   "source": [
    "train_neg['ltable_modelno'] = l_neg\n",
    "train_neg['rtable_modelno'] = r_neg"
   ]
  },
  {
   "cell_type": "code",
   "execution_count": 9,
   "metadata": {},
   "outputs": [],
   "source": [
    "train_pos['ltable_modelno'] = l_pos\n",
    "train_pos['rtable_modelno'] = r_pos"
   ]
  },
  {
   "cell_type": "code",
   "execution_count": 19,
   "metadata": {},
   "outputs": [],
   "source": [
    "l_neg,r_neg = generateRandomCodes(valid_neg.shape[0],0)\n",
    "l_pos,r_pos = generateRandomCodes(valid_pos.shape[0],1)\n",
    "valid_neg['ltable_modelno'] = l_neg\n",
    "valid_neg['rtable_modelno'] = r_neg\n",
    "valid_pos['ltable_modelno'] = l_pos\n",
    "valid_pos['rtable_modelno'] = r_pos"
   ]
  },
  {
   "cell_type": "code",
   "execution_count": 10,
   "metadata": {},
   "outputs": [
    {
     "data": {
      "text/html": [
       "<div>\n",
       "<style scoped>\n",
       "    .dataframe tbody tr th:only-of-type {\n",
       "        vertical-align: middle;\n",
       "    }\n",
       "\n",
       "    .dataframe tbody tr th {\n",
       "        vertical-align: top;\n",
       "    }\n",
       "\n",
       "    .dataframe thead th {\n",
       "        text-align: right;\n",
       "    }\n",
       "</style>\n",
       "<table border=\"1\" class=\"dataframe\">\n",
       "  <thead>\n",
       "    <tr style=\"text-align: right;\">\n",
       "      <th></th>\n",
       "      <th>label</th>\n",
       "      <th>ltable_title</th>\n",
       "      <th>ltable_category</th>\n",
       "      <th>ltable_brand</th>\n",
       "      <th>ltable_modelno</th>\n",
       "      <th>ltable_price</th>\n",
       "      <th>rtable_title</th>\n",
       "      <th>rtable_category</th>\n",
       "      <th>rtable_brand</th>\n",
       "      <th>rtable_modelno</th>\n",
       "      <th>rtable_price</th>\n",
       "      <th>id</th>\n",
       "    </tr>\n",
       "  </thead>\n",
       "  <tbody>\n",
       "    <tr>\n",
       "      <th>8</th>\n",
       "      <td>1</td>\n",
       "      <td>elite screens cinegray prime vision series fix...</td>\n",
       "      <td>electronics - general</td>\n",
       "      <td>elite screens</td>\n",
       "      <td>0wgCibD</td>\n",
       "      <td>1069.00</td>\n",
       "      <td>cinegray prime vision series fixed frame scree...</td>\n",
       "      <td>projection screens</td>\n",
       "      <td>elite</td>\n",
       "      <td>0wgCibD</td>\n",
       "      <td>1069.00</td>\n",
       "      <td>4699</td>\n",
       "    </tr>\n",
       "    <tr>\n",
       "      <th>35</th>\n",
       "      <td>1</td>\n",
       "      <td>michigan wolverines iphone 4 case silicone cover</td>\n",
       "      <td>electronics - general</td>\n",
       "      <td>tribeca</td>\n",
       "      <td>6vZAZj7ebYZz6iP</td>\n",
       "      <td>24.99</td>\n",
       "      <td>michigan wolverines iphone 4 case silicone cover</td>\n",
       "      <td>computers accessories</td>\n",
       "      <td>tribeca</td>\n",
       "      <td>6vZAZj7ebYZz6iP</td>\n",
       "      <td>17.99</td>\n",
       "      <td>1353</td>\n",
       "    </tr>\n",
       "    <tr>\n",
       "      <th>49</th>\n",
       "      <td>1</td>\n",
       "      <td>innovera d2130b black compatible high-yield to...</td>\n",
       "      <td>printers</td>\n",
       "      <td>innovera</td>\n",
       "      <td>Rt6hmGnmbiEsSlOxl</td>\n",
       "      <td>58.90</td>\n",
       "      <td>new-innovera d2130b - d2130b compatible high-y...</td>\n",
       "      <td>computer accessories</td>\n",
       "      <td>innovera</td>\n",
       "      <td>Rt6hmGnmbiEsSlOxl</td>\n",
       "      <td>78.00</td>\n",
       "      <td>1564</td>\n",
       "    </tr>\n",
       "    <tr>\n",
       "      <th>366</th>\n",
       "      <td>1</td>\n",
       "      <td>da-lite da-glas standard rear projection scree...</td>\n",
       "      <td>electronics - general</td>\n",
       "      <td>da-lite</td>\n",
       "      <td>oJo1jLPT6TKui4kVF</td>\n",
       "      <td>4448.99</td>\n",
       "      <td>da-lite 27639 da-glas standard rear projection...</td>\n",
       "      <td>projection screens</td>\n",
       "      <td>da-lite</td>\n",
       "      <td>oJo1jLPT6TKui4kVF</td>\n",
       "      <td>NaN</td>\n",
       "      <td>5013</td>\n",
       "    </tr>\n",
       "    <tr>\n",
       "      <th>510</th>\n",
       "      <td>1</td>\n",
       "      <td>pc treasures wireless optical mouse 2.4 ghz pu...</td>\n",
       "      <td>mice</td>\n",
       "      <td>pc treasures</td>\n",
       "      <td>MDxf2GL3q18nzk</td>\n",
       "      <td>17.82</td>\n",
       "      <td>pc treasures mighty mini mouse - 2.4 ghz wireless</td>\n",
       "      <td>mice</td>\n",
       "      <td>pc treasures</td>\n",
       "      <td>MDxf2GL3q18nzk</td>\n",
       "      <td>14.69</td>\n",
       "      <td>4586</td>\n",
       "    </tr>\n",
       "  </tbody>\n",
       "</table>\n",
       "</div>"
      ],
      "text/plain": [
       "     label                                       ltable_title  \\\n",
       "8        1  elite screens cinegray prime vision series fix...   \n",
       "35       1   michigan wolverines iphone 4 case silicone cover   \n",
       "49       1  innovera d2130b black compatible high-yield to...   \n",
       "366      1  da-lite da-glas standard rear projection scree...   \n",
       "510      1  pc treasures wireless optical mouse 2.4 ghz pu...   \n",
       "\n",
       "           ltable_category   ltable_brand     ltable_modelno  ltable_price  \\\n",
       "8    electronics - general  elite screens            0wgCibD       1069.00   \n",
       "35   electronics - general        tribeca    6vZAZj7ebYZz6iP         24.99   \n",
       "49                printers       innovera  Rt6hmGnmbiEsSlOxl         58.90   \n",
       "366  electronics - general        da-lite  oJo1jLPT6TKui4kVF       4448.99   \n",
       "510                   mice   pc treasures     MDxf2GL3q18nzk         17.82   \n",
       "\n",
       "                                          rtable_title        rtable_category  \\\n",
       "8    cinegray prime vision series fixed frame scree...     projection screens   \n",
       "35    michigan wolverines iphone 4 case silicone cover  computers accessories   \n",
       "49   new-innovera d2130b - d2130b compatible high-y...   computer accessories   \n",
       "366  da-lite 27639 da-glas standard rear projection...     projection screens   \n",
       "510  pc treasures mighty mini mouse - 2.4 ghz wireless                   mice   \n",
       "\n",
       "     rtable_brand     rtable_modelno  rtable_price    id  \n",
       "8           elite            0wgCibD       1069.00  4699  \n",
       "35        tribeca    6vZAZj7ebYZz6iP         17.99  1353  \n",
       "49       innovera  Rt6hmGnmbiEsSlOxl         78.00  1564  \n",
       "366       da-lite  oJo1jLPT6TKui4kVF           NaN  5013  \n",
       "510  pc treasures     MDxf2GL3q18nzk         14.69  4586  "
      ]
     },
     "execution_count": 10,
     "metadata": {},
     "output_type": "execute_result"
    }
   ],
   "source": [
    "train_pos.head()"
   ]
  },
  {
   "cell_type": "code",
   "execution_count": 11,
   "metadata": {},
   "outputs": [
    {
     "data": {
      "text/html": [
       "<div>\n",
       "<style scoped>\n",
       "    .dataframe tbody tr th:only-of-type {\n",
       "        vertical-align: middle;\n",
       "    }\n",
       "\n",
       "    .dataframe tbody tr th {\n",
       "        vertical-align: top;\n",
       "    }\n",
       "\n",
       "    .dataframe thead th {\n",
       "        text-align: right;\n",
       "    }\n",
       "</style>\n",
       "<table border=\"1\" class=\"dataframe\">\n",
       "  <thead>\n",
       "    <tr style=\"text-align: right;\">\n",
       "      <th></th>\n",
       "      <th>label</th>\n",
       "      <th>ltable_title</th>\n",
       "      <th>ltable_category</th>\n",
       "      <th>ltable_brand</th>\n",
       "      <th>ltable_modelno</th>\n",
       "      <th>ltable_price</th>\n",
       "      <th>rtable_title</th>\n",
       "      <th>rtable_category</th>\n",
       "      <th>rtable_brand</th>\n",
       "      <th>rtable_modelno</th>\n",
       "      <th>rtable_price</th>\n",
       "      <th>id</th>\n",
       "    </tr>\n",
       "  </thead>\n",
       "  <tbody>\n",
       "    <tr>\n",
       "      <th>0</th>\n",
       "      <td>0</td>\n",
       "      <td>elite screens cinewhite cinema235 series fixed...</td>\n",
       "      <td>electronics - general</td>\n",
       "      <td>elite screens</td>\n",
       "      <td>gfmll3qyYmlGR1</td>\n",
       "      <td>409.0</td>\n",
       "      <td>cinegray ezframe series fixed frame screen - 1...</td>\n",
       "      <td>projection screens</td>\n",
       "      <td>elite</td>\n",
       "      <td>0kKzSqhd5cTQyO30j</td>\n",
       "      <td>879.0</td>\n",
       "      <td>5583</td>\n",
       "    </tr>\n",
       "    <tr>\n",
       "      <th>1</th>\n",
       "      <td>0</td>\n",
       "      <td>elite screens cinewhite cinema235 series fixed...</td>\n",
       "      <td>electronics - general</td>\n",
       "      <td>elite screens</td>\n",
       "      <td>8J8Nfi1uU</td>\n",
       "      <td>409.0</td>\n",
       "      <td>powergain prime vision series fixed frame scre...</td>\n",
       "      <td>projection screens</td>\n",
       "      <td>elite</td>\n",
       "      <td>637kHrg1CLxM</td>\n",
       "      <td>1069.0</td>\n",
       "      <td>1572</td>\n",
       "    </tr>\n",
       "    <tr>\n",
       "      <th>2</th>\n",
       "      <td>0</td>\n",
       "      <td>elite screens cinegray prime vision series fix...</td>\n",
       "      <td>electronics - general</td>\n",
       "      <td>elite screens</td>\n",
       "      <td>fZ3yIE7LbpUky6Zu89</td>\n",
       "      <td>1069.0</td>\n",
       "      <td>powergain prime vision series fixed frame scre...</td>\n",
       "      <td>projection screens</td>\n",
       "      <td>elite</td>\n",
       "      <td>gLXUAtJwuwQu7</td>\n",
       "      <td>1069.0</td>\n",
       "      <td>110</td>\n",
       "    </tr>\n",
       "    <tr>\n",
       "      <th>3</th>\n",
       "      <td>0</td>\n",
       "      <td>elite screens cinewhite cinema235 series fixed...</td>\n",
       "      <td>electronics - general</td>\n",
       "      <td>elite screens</td>\n",
       "      <td>1bKCNXT9d5VGBbahPJKo</td>\n",
       "      <td>409.0</td>\n",
       "      <td>cinewhite prime vision series fixed frame scre...</td>\n",
       "      <td>projection screens</td>\n",
       "      <td>elite</td>\n",
       "      <td>W6hJNs</td>\n",
       "      <td>929.0</td>\n",
       "      <td>1938</td>\n",
       "    </tr>\n",
       "    <tr>\n",
       "      <th>4</th>\n",
       "      <td>0</td>\n",
       "      <td>elite screens cinegray prime vision series fix...</td>\n",
       "      <td>electronics - general</td>\n",
       "      <td>elite screens</td>\n",
       "      <td>lQZND7uMLeu</td>\n",
       "      <td>1069.0</td>\n",
       "      <td>cinewhite prime vision series fixed frame scre...</td>\n",
       "      <td>projection screens</td>\n",
       "      <td>elite</td>\n",
       "      <td>Pploe7Xb6uyF85j</td>\n",
       "      <td>929.0</td>\n",
       "      <td>5694</td>\n",
       "    </tr>\n",
       "  </tbody>\n",
       "</table>\n",
       "</div>"
      ],
      "text/plain": [
       "   label                                       ltable_title  \\\n",
       "0      0  elite screens cinewhite cinema235 series fixed...   \n",
       "1      0  elite screens cinewhite cinema235 series fixed...   \n",
       "2      0  elite screens cinegray prime vision series fix...   \n",
       "3      0  elite screens cinewhite cinema235 series fixed...   \n",
       "4      0  elite screens cinegray prime vision series fix...   \n",
       "\n",
       "         ltable_category   ltable_brand        ltable_modelno  ltable_price  \\\n",
       "0  electronics - general  elite screens        gfmll3qyYmlGR1         409.0   \n",
       "1  electronics - general  elite screens             8J8Nfi1uU         409.0   \n",
       "2  electronics - general  elite screens    fZ3yIE7LbpUky6Zu89        1069.0   \n",
       "3  electronics - general  elite screens  1bKCNXT9d5VGBbahPJKo         409.0   \n",
       "4  electronics - general  elite screens           lQZND7uMLeu        1069.0   \n",
       "\n",
       "                                        rtable_title     rtable_category  \\\n",
       "0  cinegray ezframe series fixed frame screen - 1...  projection screens   \n",
       "1  powergain prime vision series fixed frame scre...  projection screens   \n",
       "2  powergain prime vision series fixed frame scre...  projection screens   \n",
       "3  cinewhite prime vision series fixed frame scre...  projection screens   \n",
       "4  cinewhite prime vision series fixed frame scre...  projection screens   \n",
       "\n",
       "  rtable_brand     rtable_modelno  rtable_price    id  \n",
       "0        elite  0kKzSqhd5cTQyO30j         879.0  5583  \n",
       "1        elite       637kHrg1CLxM        1069.0  1572  \n",
       "2        elite      gLXUAtJwuwQu7        1069.0   110  \n",
       "3        elite             W6hJNs         929.0  1938  \n",
       "4        elite    Pploe7Xb6uyF85j         929.0  5694  "
      ]
     },
     "execution_count": 11,
     "metadata": {},
     "output_type": "execute_result"
    }
   ],
   "source": [
    "train_neg.head()"
   ]
  },
  {
   "cell_type": "code",
   "execution_count": 12,
   "metadata": {},
   "outputs": [],
   "source": [
    "train_df_with_randomcodes = pd.concat([train_neg,train_pos])\n",
    "train_df_with_randomcodes.to_csv('../../Structured/Walmart-Amazon/train_with_randomcodes.csv',index=False)"
   ]
  },
  {
   "cell_type": "code",
   "execution_count": 20,
   "metadata": {},
   "outputs": [],
   "source": [
    "valid_randomcodes = pd.concat([valid_neg,valid_pos])\n",
    "valid_randomcodes.to_csv('../../Structured/Walmart-Amazon/validation_with_randomcodes.csv',index=False)"
   ]
  },
  {
   "cell_type": "markdown",
   "metadata": {},
   "source": [
    "## Train model with new dataset"
   ]
  },
  {
   "cell_type": "code",
   "execution_count": 22,
   "metadata": {},
   "outputs": [],
   "source": [
    "train,validation,test = dm.data.process('../../Structured/Walmart-Amazon/',train='train_with_randomcodes.csv',\n",
    "                       validation='validation_with_randomcodes.csv',test='merged_test.csv',left_prefix='ltable_',\n",
    "                       right_prefix='rtable_',cache='random.pth')"
   ]
  },
  {
   "cell_type": "code",
   "execution_count": 3,
   "metadata": {},
   "outputs": [],
   "source": [
    "hybrid_model = dm.MatchingModel(attr_summarizer='hybrid')"
   ]
  },
  {
   "cell_type": "code",
   "execution_count": 31,
   "metadata": {},
   "outputs": [
    {
     "name": "stdout",
     "output_type": "stream",
     "text": [
      "===>  EVAL Epoch 3\n",
      "Finished Epoch 3 || Run Time:    4.6 | Load Time:    2.5 || F1:  50.33 | Prec:  43.85 | Rec:  59.07 || Ex/s: 289.69\n",
      "\n"
     ]
    },
    {
     "data": {
      "text/plain": [
       "50.33112582781457"
      ]
     },
     "execution_count": 31,
     "metadata": {},
     "output_type": "execute_result"
    }
   ],
   "source": [
    "hybrid_model.run_train(train,validation,best_save_path='../../models/walmartamazon_hybrid_random.pth',epochs=20,\n",
    "                       pos_neg_ratio=10,batch_size=32)\n",
    "hybrid_model.run_eval(test)"
   ]
  },
  {
   "cell_type": "code",
   "execution_count": 4,
   "metadata": {},
   "outputs": [],
   "source": [
    "hybrid_model.load_state('../../models/walmartamazon_hybrid_random.pth')"
   ]
  },
  {
   "cell_type": "code",
   "execution_count": 6,
   "metadata": {},
   "outputs": [],
   "source": [
    "import sys\n",
    "sys.path.append('../..')"
   ]
  },
  {
   "cell_type": "code",
   "execution_count": 7,
   "metadata": {},
   "outputs": [],
   "source": [
    "from utilities_functions.intermediate_layer_extraction import return_layer_input"
   ]
  },
  {
   "cell_type": "code",
   "execution_count": 8,
   "metadata": {},
   "outputs": [],
   "source": [
    "neg_classifier_inputs,neg_ids = return_layer_input('../../Structured/Walmart-Amazon/','test_negatives',\n",
    "                                                  batch_size=128,model=hybrid_model,\n",
    "                                                   layer=hybrid_model.classifier,\n",
    "                                                  device=-1)"
   ]
  },
  {
   "cell_type": "code",
   "execution_count": 10,
   "metadata": {},
   "outputs": [],
   "source": [
    "pos_classifier_inputs,pos_ids = return_layer_input('../../Structured/Walmart-Amazon/','test_positives',\n",
    "                                                  batch_size=128,model=hybrid_model,\n",
    "                                                  layer=hybrid_model.classifier,\n",
    "                                                  device=-1)"
   ]
  },
  {
   "cell_type": "code",
   "execution_count": 11,
   "metadata": {},
   "outputs": [],
   "source": [
    "hybrid_model = hybrid_model.cuda()"
   ]
  },
  {
   "cell_type": "code",
   "execution_count": 16,
   "metadata": {},
   "outputs": [],
   "source": [
    "from utilities_functions.ri_calculator import find_smallest_variation_to_change_v1\n",
    "from tqdm import tqdm"
   ]
  },
  {
   "cell_type": "code",
   "execution_count": 17,
   "metadata": {},
   "outputs": [],
   "source": [
    "attributes =['title','category','brand','modelno','price']"
   ]
  },
  {
   "cell_type": "code",
   "execution_count": 20,
   "metadata": {},
   "outputs": [
    {
     "name": "stderr",
     "output_type": "stream",
     "text": [
      "100%|██████████| 128/128 [00:17<00:00,  7.14it/s]\n",
      "100%|██████████| 128/128 [00:15<00:00,  8.36it/s]\n",
      "100%|██████████| 128/128 [00:14<00:00,  8.59it/s]\n",
      "100%|██████████| 128/128 [00:14<00:00,  8.61it/s]\n",
      "100%|██████████| 128/128 [00:14<00:00,  8.69it/s]\n",
      "100%|██████████| 128/128 [00:16<00:00,  7.71it/s]\n",
      "100%|██████████| 128/128 [00:14<00:00,  8.58it/s]\n",
      "100%|██████████| 128/128 [00:14<00:00,  9.11it/s]\n",
      "100%|██████████| 128/128 [00:15<00:00,  8.22it/s]\n",
      "100%|██████████| 64/64 [00:07<00:00,  8.40it/s]\n",
      "100%|██████████| 128/128 [00:15<00:00,  8.16it/s]\n",
      "100%|██████████| 128/128 [00:16<00:00,  7.98it/s]\n",
      "100%|██████████| 128/128 [00:16<00:00,  7.94it/s]\n",
      "100%|██████████| 128/128 [00:14<00:00,  8.70it/s]\n",
      "100%|██████████| 128/128 [00:14<00:00,  8.63it/s]\n"
     ]
    }
   ],
   "source": [
    "current_sample = 0\n",
    "#each column of this matrix is related to a specific attribute\n",
    "negatives_ri_matrix = []\n",
    "for batch in neg_classifier_inputs:\n",
    "    for sample_index in tqdm(range(len(batch))):\n",
    "        current_sample_ris = []\n",
    "        for j,attribute in enumerate(attributes):\n",
    "            variation = find_smallest_variation_to_change_v1(hybrid_model.classifier,\n",
    "                                                             classifier_length= 900,\n",
    "                                                             attribute_length= 180,input_matrix=batch,\n",
    "                                                             vector_index=sample_index,attributes=[j],\n",
    "                                                          class_to_reach=1)\n",
    "            current_sample_ris.append(variation)\n",
    "        negatives_ri_matrix.append(current_sample_ris)\n",
    "        current_sample+=1"
   ]
  },
  {
   "cell_type": "code",
   "execution_count": 22,
   "metadata": {},
   "outputs": [],
   "source": [
    "import torch"
   ]
  },
  {
   "cell_type": "code",
   "execution_count": 24,
   "metadata": {},
   "outputs": [
    {
     "data": {
      "text/plain": [
       "<matplotlib.axes._subplots.AxesSubplot at 0x7fb810dd4e10>"
      ]
     },
     "execution_count": 24,
     "metadata": {},
     "output_type": "execute_result"
    },
    {
     "data": {
      "image/png": "[encoded data removed]",
      "text/plain": [
       "<Figure size 432x288 with 1 Axes>"
      ]
     },
     "metadata": {
      "needs_background": "light"
     },
     "output_type": "display_data"
    }
   ],
   "source": [
    "ri_norms_negative_samples = []\n",
    "for ri_list in negatives_ri_matrix:\n",
    "    ri_norms_negative_samples.append(list(map(lambda x:torch.norm(x).data[0],ri_list)))\n",
    "negatives_variation_df = pd.DataFrame(data= ri_norms_negative_samples,columns=attributes)\n",
    "ri_sums = negatives_variation_df.sum(numeric_only=True)\n",
    "ri_sums.plot.bar()"
   ]
  },
  {
   "cell_type": "code",
   "execution_count": 27,
   "metadata": {},
   "outputs": [
    {
     "name": "stderr",
     "output_type": "stream",
     "text": [
      "100%|██████████| 128/128 [00:21<00:00,  5.97it/s]\n",
      "100%|██████████| 65/65 [00:09<00:00,  7.02it/s]\n"
     ]
    }
   ],
   "source": [
    "current_sample = 0\n",
    "#each column of this matrix is related to a specific attribute\n",
    "positives_ri = []\n",
    "for batch in pos_classifier_inputs:\n",
    "    for sample_index in tqdm(range(len(batch))):\n",
    "        current_sample_ris = []\n",
    "        for j,attribute in enumerate(attributes):\n",
    "            variation = find_smallest_variation_to_change_v1(hybrid_model.classifier,\n",
    "                                                             classifier_length= 900,\n",
    "                                                             attribute_length= 180,input_matrix=batch,\n",
    "                                                             vector_index=sample_index,attributes=[j],class_to_reach=0)\n",
    "            current_sample_ris.append(variation)\n",
    "        positives_ri.append(current_sample_ris)\n",
    "        current_sample+=1"
   ]
  },
  {
   "cell_type": "code",
   "execution_count": 28,
   "metadata": {},
   "outputs": [
    {
     "data": {
      "text/plain": [
       "<matplotlib.axes._subplots.AxesSubplot at 0x7fb810da8780>"
      ]
     },
     "execution_count": 28,
     "metadata": {},
     "output_type": "execute_result"
    },
    {
     "data": {
      "image/png": "[encoded data removed]",
      "text/plain": [
       "<Figure size 432x288 with 1 Axes>"
      ]
     },
     "metadata": {
      "needs_background": "light"
     },
     "output_type": "display_data"
    }
   ],
   "source": [
    "ri_norms_positives = []\n",
    "for ri_list in positives_ri:\n",
    "    ri_norms_positives.append(list(map(lambda x:torch.norm(x).data[0],ri_list)))\n",
    "positives_variation_df = pd.DataFrame(data= ri_norms_positives,columns=attributes)\n",
    "positives_variation_df.sum(numeric_only=True).plot.bar()"
   ]
  },
  {
   "cell_type": "code",
   "execution_count": null,
   "metadata": {},
   "outputs": [],
   "source": []
  }
 ],
 "metadata": {
  "kernelspec": {
   "display_name": "Python 3",
   "language": "python",
   "name": "python3"
  },
  "language_info": {
   "codemirror_mode": {
    "name": "ipython",
    "version": 3
   },
   "file_extension": ".py",
   "mimetype": "text/x-python",
   "name": "python",
   "nbconvert_exporter": "python",
   "pygments_lexer": "ipython3",
   "version": "3.6.9"
  }
 },
 "nbformat": 4,
 "nbformat_minor": 2
}

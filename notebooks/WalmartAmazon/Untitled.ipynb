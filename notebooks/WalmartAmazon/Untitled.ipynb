{
 "cells": [
  {
   "cell_type": "code",
   "execution_count": 95,
   "metadata": {},
   "outputs": [],
   "source": [
    "import pandas as pd\n",
    "train_df = pd.read_csv('../../Structured/Walmart-Amazon/merged_train.csv')\n",
    "train_pos = train_df[train_df.label==1].copy()\n",
    "train_neg = train_df[train_df.label==0].copy()"
   ]
  },
  {
   "cell_type": "code",
   "execution_count": 96,
   "metadata": {},
   "outputs": [],
   "source": [
    "import random\n",
    "import string\n",
    "def randomStringDigits(stringLength=6):\n",
    "    \"\"\"Generate a random string of letters and digits \"\"\"\n",
    "    lettersAndDigits = string.ascii_letters + string.digits\n",
    "    return ''.join(random.choice(lettersAndDigits) for i in range(stringLength))"
   ]
  },
  {
   "cell_type": "code",
   "execution_count": 97,
   "metadata": {},
   "outputs": [],
   "source": [
    "train_pos['ltable_modelno'] = train_pos['ltable_modelno'].fillna(train_pos['rtable_modelno'])"
   ]
  },
  {
   "cell_type": "code",
   "execution_count": 98,
   "metadata": {},
   "outputs": [
    {
     "data": {
      "text/html": [
       "<div>\n",
       "<style scoped>\n",
       "    .dataframe tbody tr th:only-of-type {\n",
       "        vertical-align: middle;\n",
       "    }\n",
       "\n",
       "    .dataframe tbody tr th {\n",
       "        vertical-align: top;\n",
       "    }\n",
       "\n",
       "    .dataframe thead th {\n",
       "        text-align: right;\n",
       "    }\n",
       "</style>\n",
       "<table border=\"1\" class=\"dataframe\">\n",
       "  <thead>\n",
       "    <tr style=\"text-align: right;\">\n",
       "      <th></th>\n",
       "      <th>label</th>\n",
       "      <th>ltable_title</th>\n",
       "      <th>ltable_category</th>\n",
       "      <th>ltable_brand</th>\n",
       "      <th>ltable_modelno</th>\n",
       "      <th>ltable_price</th>\n",
       "      <th>rtable_title</th>\n",
       "      <th>rtable_category</th>\n",
       "      <th>rtable_brand</th>\n",
       "      <th>rtable_modelno</th>\n",
       "      <th>rtable_price</th>\n",
       "      <th>id</th>\n",
       "    </tr>\n",
       "  </thead>\n",
       "  <tbody>\n",
       "    <tr>\n",
       "      <th>8</th>\n",
       "      <td>1</td>\n",
       "      <td>elite screens cinegray prime vision series fix...</td>\n",
       "      <td>electronics - general</td>\n",
       "      <td>elite screens</td>\n",
       "      <td>pvr135h1</td>\n",
       "      <td>1069.00</td>\n",
       "      <td>cinegray prime vision series fixed frame scree...</td>\n",
       "      <td>projection screens</td>\n",
       "      <td>elite</td>\n",
       "      <td>pvr135h1</td>\n",
       "      <td>1069.00</td>\n",
       "      <td>4699</td>\n",
       "    </tr>\n",
       "    <tr>\n",
       "      <th>35</th>\n",
       "      <td>1</td>\n",
       "      <td>michigan wolverines iphone 4 case silicone cover</td>\n",
       "      <td>electronics - general</td>\n",
       "      <td>tribeca</td>\n",
       "      <td>fva3437</td>\n",
       "      <td>24.99</td>\n",
       "      <td>michigan wolverines iphone 4 case silicone cover</td>\n",
       "      <td>computers accessories</td>\n",
       "      <td>tribeca</td>\n",
       "      <td>fva3437</td>\n",
       "      <td>17.99</td>\n",
       "      <td>1353</td>\n",
       "    </tr>\n",
       "    <tr>\n",
       "      <th>49</th>\n",
       "      <td>1</td>\n",
       "      <td>innovera d2130b black compatible high-yield to...</td>\n",
       "      <td>printers</td>\n",
       "      <td>innovera</td>\n",
       "      <td>d2130b</td>\n",
       "      <td>58.90</td>\n",
       "      <td>new-innovera d2130b - d2130b compatible high-y...</td>\n",
       "      <td>computer accessories</td>\n",
       "      <td>innovera</td>\n",
       "      <td>d2130b</td>\n",
       "      <td>78.00</td>\n",
       "      <td>1564</td>\n",
       "    </tr>\n",
       "    <tr>\n",
       "      <th>366</th>\n",
       "      <td>1</td>\n",
       "      <td>da-lite da-glas standard rear projection scree...</td>\n",
       "      <td>electronics - general</td>\n",
       "      <td>da-lite</td>\n",
       "      <td>27639</td>\n",
       "      <td>4448.99</td>\n",
       "      <td>da-lite 27639 da-glas standard rear projection...</td>\n",
       "      <td>projection screens</td>\n",
       "      <td>da-lite</td>\n",
       "      <td>27639</td>\n",
       "      <td>NaN</td>\n",
       "      <td>5013</td>\n",
       "    </tr>\n",
       "    <tr>\n",
       "      <th>510</th>\n",
       "      <td>1</td>\n",
       "      <td>pc treasures wireless optical mouse 2.4 ghz pu...</td>\n",
       "      <td>mice</td>\n",
       "      <td>pc treasures</td>\n",
       "      <td>07227</td>\n",
       "      <td>17.82</td>\n",
       "      <td>pc treasures mighty mini mouse - 2.4 ghz wireless</td>\n",
       "      <td>mice</td>\n",
       "      <td>pc treasures</td>\n",
       "      <td>07227</td>\n",
       "      <td>14.69</td>\n",
       "      <td>4586</td>\n",
       "    </tr>\n",
       "    <tr>\n",
       "      <th>536</th>\n",
       "      <td>1</td>\n",
       "      <td>sumdex slr camera sling pack</td>\n",
       "      <td>mp3 accessories</td>\n",
       "      <td>sumdex</td>\n",
       "      <td>144952</td>\n",
       "      <td>39.99</td>\n",
       "      <td>slr camera sling pack</td>\n",
       "      <td>cases bags</td>\n",
       "      <td>sumdex</td>\n",
       "      <td>poc-484bk</td>\n",
       "      <td>44.59</td>\n",
       "      <td>5798</td>\n",
       "    </tr>\n",
       "    <tr>\n",
       "      <th>537</th>\n",
       "      <td>1</td>\n",
       "      <td>xerox 108r00645 imaging unit for phaser 6300 a...</td>\n",
       "      <td>printers</td>\n",
       "      <td>xerox</td>\n",
       "      <td>108r00645</td>\n",
       "      <td>244.84</td>\n",
       "      <td>xerox printers imaging unit phaser 6300 6350 1...</td>\n",
       "      <td>printer ink toner</td>\n",
       "      <td>xerox</td>\n",
       "      <td>108r00645</td>\n",
       "      <td>253.79</td>\n",
       "      <td>5226</td>\n",
       "    </tr>\n",
       "    <tr>\n",
       "      <th>573</th>\n",
       "      <td>1</td>\n",
       "      <td>hp q6511a hp 11a toner 6000 page-yield black</td>\n",
       "      <td>printers</td>\n",
       "      <td>hp</td>\n",
       "      <td>q6511a</td>\n",
       "      <td>191.03</td>\n",
       "      <td>hp q6511a laserjet 11a black print cartridge i...</td>\n",
       "      <td>laser printer toner</td>\n",
       "      <td>hp</td>\n",
       "      <td>q6511a</td>\n",
       "      <td>NaN</td>\n",
       "      <td>2677</td>\n",
       "    </tr>\n",
       "    <tr>\n",
       "      <th>577</th>\n",
       "      <td>1</td>\n",
       "      <td>hp 56 black inkjet cartridge c6656an</td>\n",
       "      <td>printers</td>\n",
       "      <td>hp</td>\n",
       "      <td>c6656an</td>\n",
       "      <td>23.97</td>\n",
       "      <td>genuine hp 56 c6656an black inkjet print cartr...</td>\n",
       "      <td>inkjet printer ink</td>\n",
       "      <td>hp</td>\n",
       "      <td>c6656an</td>\n",
       "      <td>24.19</td>\n",
       "      <td>435</td>\n",
       "    </tr>\n",
       "    <tr>\n",
       "      <th>598</th>\n",
       "      <td>1</td>\n",
       "      <td>toshiba ph3100u-1e3s 1tb usb 3.0 desktop hard ...</td>\n",
       "      <td>hard drives</td>\n",
       "      <td>toshiba</td>\n",
       "      <td>ph3100u-1e3s</td>\n",
       "      <td>89.00</td>\n",
       "      <td>toshiba 1 tb usb 3.0 external hard drive ph310...</td>\n",
       "      <td>external hard drives</td>\n",
       "      <td>toshiba</td>\n",
       "      <td>ph3100u-1e3s</td>\n",
       "      <td>80.23</td>\n",
       "      <td>1329</td>\n",
       "    </tr>\n",
       "  </tbody>\n",
       "</table>\n",
       "</div>"
      ],
      "text/plain": [
       "     label                                       ltable_title  \\\n",
       "8        1  elite screens cinegray prime vision series fix...   \n",
       "35       1   michigan wolverines iphone 4 case silicone cover   \n",
       "49       1  innovera d2130b black compatible high-yield to...   \n",
       "366      1  da-lite da-glas standard rear projection scree...   \n",
       "510      1  pc treasures wireless optical mouse 2.4 ghz pu...   \n",
       "536      1                       sumdex slr camera sling pack   \n",
       "537      1  xerox 108r00645 imaging unit for phaser 6300 a...   \n",
       "573      1       hp q6511a hp 11a toner 6000 page-yield black   \n",
       "577      1               hp 56 black inkjet cartridge c6656an   \n",
       "598      1  toshiba ph3100u-1e3s 1tb usb 3.0 desktop hard ...   \n",
       "\n",
       "           ltable_category   ltable_brand ltable_modelno  ltable_price  \\\n",
       "8    electronics - general  elite screens       pvr135h1       1069.00   \n",
       "35   electronics - general        tribeca        fva3437         24.99   \n",
       "49                printers       innovera         d2130b         58.90   \n",
       "366  electronics - general        da-lite          27639       4448.99   \n",
       "510                   mice   pc treasures          07227         17.82   \n",
       "536        mp3 accessories         sumdex         144952         39.99   \n",
       "537               printers          xerox      108r00645        244.84   \n",
       "573               printers             hp         q6511a        191.03   \n",
       "577               printers             hp        c6656an         23.97   \n",
       "598            hard drives        toshiba   ph3100u-1e3s         89.00   \n",
       "\n",
       "                                          rtable_title        rtable_category  \\\n",
       "8    cinegray prime vision series fixed frame scree...     projection screens   \n",
       "35    michigan wolverines iphone 4 case silicone cover  computers accessories   \n",
       "49   new-innovera d2130b - d2130b compatible high-y...   computer accessories   \n",
       "366  da-lite 27639 da-glas standard rear projection...     projection screens   \n",
       "510  pc treasures mighty mini mouse - 2.4 ghz wireless                   mice   \n",
       "536                              slr camera sling pack             cases bags   \n",
       "537  xerox printers imaging unit phaser 6300 6350 1...      printer ink toner   \n",
       "573  hp q6511a laserjet 11a black print cartridge i...    laser printer toner   \n",
       "577  genuine hp 56 c6656an black inkjet print cartr...     inkjet printer ink   \n",
       "598  toshiba 1 tb usb 3.0 external hard drive ph310...   external hard drives   \n",
       "\n",
       "     rtable_brand rtable_modelno  rtable_price    id  \n",
       "8           elite       pvr135h1       1069.00  4699  \n",
       "35        tribeca        fva3437         17.99  1353  \n",
       "49       innovera         d2130b         78.00  1564  \n",
       "366       da-lite          27639           NaN  5013  \n",
       "510  pc treasures          07227         14.69  4586  \n",
       "536        sumdex      poc-484bk         44.59  5798  \n",
       "537         xerox      108r00645        253.79  5226  \n",
       "573            hp         q6511a           NaN  2677  \n",
       "577            hp        c6656an         24.19   435  \n",
       "598       toshiba   ph3100u-1e3s         80.23  1329  "
      ]
     },
     "execution_count": 98,
     "metadata": {},
     "output_type": "execute_result"
    }
   ],
   "source": [
    "train_pos['rtable_modelno'] = train_pos['rtable_modelno'].fillna(train_pos['ltable_modelno'])\n",
    "train_pos.head(10)"
   ]
  },
  {
   "cell_type": "code",
   "execution_count": 99,
   "metadata": {},
   "outputs": [
    {
     "data": {
      "text/plain": [
       "(180, 1873)"
      ]
     },
     "execution_count": 99,
     "metadata": {},
     "output_type": "execute_result"
    }
   ],
   "source": [
    "train_neg.ltable_modelno.isna().sum(),train_neg.rtable_modelno.isna().sum()"
   ]
  },
  {
   "cell_type": "code",
   "execution_count": 100,
   "metadata": {},
   "outputs": [],
   "source": [
    "train_neg.loc[train_neg['ltable_modelno'].isna(), 'ltable_modelno'] = train_neg.loc[train_neg['ltable_modelno'].isna(), 'ltable_modelno'].apply(lambda x: randomStringDigits(10))"
   ]
  },
  {
   "cell_type": "code",
   "execution_count": 101,
   "metadata": {},
   "outputs": [],
   "source": [
    "train_neg.loc[train_neg['rtable_modelno'].isna(), 'rtable_modelno'] = train_neg.loc[train_neg['rtable_modelno'].isna(), 'rtable_modelno'].apply(lambda x: randomStringDigits(10))"
   ]
  },
  {
   "cell_type": "code",
   "execution_count": 102,
   "metadata": {},
   "outputs": [
    {
     "data": {
      "text/plain": [
       "(0, 0)"
      ]
     },
     "execution_count": 102,
     "metadata": {},
     "output_type": "execute_result"
    }
   ],
   "source": [
    "train_neg.ltable_modelno.isna().sum(),train_neg.rtable_modelno.isna().sum()"
   ]
  },
  {
   "cell_type": "code",
   "execution_count": 103,
   "metadata": {},
   "outputs": [
    {
     "data": {
      "text/html": [
       "<div>\n",
       "<style scoped>\n",
       "    .dataframe tbody tr th:only-of-type {\n",
       "        vertical-align: middle;\n",
       "    }\n",
       "\n",
       "    .dataframe tbody tr th {\n",
       "        vertical-align: top;\n",
       "    }\n",
       "\n",
       "    .dataframe thead th {\n",
       "        text-align: right;\n",
       "    }\n",
       "</style>\n",
       "<table border=\"1\" class=\"dataframe\">\n",
       "  <thead>\n",
       "    <tr style=\"text-align: right;\">\n",
       "      <th></th>\n",
       "      <th>label</th>\n",
       "      <th>ltable_title</th>\n",
       "      <th>ltable_category</th>\n",
       "      <th>ltable_brand</th>\n",
       "      <th>ltable_modelno</th>\n",
       "      <th>ltable_price</th>\n",
       "      <th>rtable_title</th>\n",
       "      <th>rtable_category</th>\n",
       "      <th>rtable_brand</th>\n",
       "      <th>rtable_modelno</th>\n",
       "      <th>rtable_price</th>\n",
       "      <th>id</th>\n",
       "    </tr>\n",
       "  </thead>\n",
       "  <tbody>\n",
       "    <tr>\n",
       "      <th>0</th>\n",
       "      <td>0</td>\n",
       "      <td>elite screens cinewhite cinema235 series fixed...</td>\n",
       "      <td>electronics - general</td>\n",
       "      <td>elite screens</td>\n",
       "      <td>r85wh1-wide</td>\n",
       "      <td>409.0</td>\n",
       "      <td>cinegray ezframe series fixed frame screen - 1...</td>\n",
       "      <td>projection screens</td>\n",
       "      <td>elite</td>\n",
       "      <td>JGMp6dReW1</td>\n",
       "      <td>879.0</td>\n",
       "      <td>5583</td>\n",
       "    </tr>\n",
       "    <tr>\n",
       "      <th>1</th>\n",
       "      <td>0</td>\n",
       "      <td>elite screens cinewhite cinema235 series fixed...</td>\n",
       "      <td>electronics - general</td>\n",
       "      <td>elite screens</td>\n",
       "      <td>r85wh1-wide</td>\n",
       "      <td>409.0</td>\n",
       "      <td>powergain prime vision series fixed frame scre...</td>\n",
       "      <td>projection screens</td>\n",
       "      <td>elite</td>\n",
       "      <td>ggAwX7K1pp</td>\n",
       "      <td>1069.0</td>\n",
       "      <td>1572</td>\n",
       "    </tr>\n",
       "    <tr>\n",
       "      <th>2</th>\n",
       "      <td>0</td>\n",
       "      <td>elite screens cinegray prime vision series fix...</td>\n",
       "      <td>electronics - general</td>\n",
       "      <td>elite screens</td>\n",
       "      <td>pvr135h1</td>\n",
       "      <td>1069.0</td>\n",
       "      <td>powergain prime vision series fixed frame scre...</td>\n",
       "      <td>projection screens</td>\n",
       "      <td>elite</td>\n",
       "      <td>UIy5npC5UK</td>\n",
       "      <td>1069.0</td>\n",
       "      <td>110</td>\n",
       "    </tr>\n",
       "    <tr>\n",
       "      <th>3</th>\n",
       "      <td>0</td>\n",
       "      <td>elite screens cinewhite cinema235 series fixed...</td>\n",
       "      <td>electronics - general</td>\n",
       "      <td>elite screens</td>\n",
       "      <td>r85wh1-wide</td>\n",
       "      <td>409.0</td>\n",
       "      <td>cinewhite prime vision series fixed frame scre...</td>\n",
       "      <td>projection screens</td>\n",
       "      <td>elite</td>\n",
       "      <td>gPFzikLEHz</td>\n",
       "      <td>929.0</td>\n",
       "      <td>1938</td>\n",
       "    </tr>\n",
       "    <tr>\n",
       "      <th>4</th>\n",
       "      <td>0</td>\n",
       "      <td>elite screens cinegray prime vision series fix...</td>\n",
       "      <td>electronics - general</td>\n",
       "      <td>elite screens</td>\n",
       "      <td>pvr135h1</td>\n",
       "      <td>1069.0</td>\n",
       "      <td>cinewhite prime vision series fixed frame scre...</td>\n",
       "      <td>projection screens</td>\n",
       "      <td>elite</td>\n",
       "      <td>t6dsP2jCfF</td>\n",
       "      <td>929.0</td>\n",
       "      <td>5694</td>\n",
       "    </tr>\n",
       "  </tbody>\n",
       "</table>\n",
       "</div>"
      ],
      "text/plain": [
       "   label                                       ltable_title  \\\n",
       "0      0  elite screens cinewhite cinema235 series fixed...   \n",
       "1      0  elite screens cinewhite cinema235 series fixed...   \n",
       "2      0  elite screens cinegray prime vision series fix...   \n",
       "3      0  elite screens cinewhite cinema235 series fixed...   \n",
       "4      0  elite screens cinegray prime vision series fix...   \n",
       "\n",
       "         ltable_category   ltable_brand ltable_modelno  ltable_price  \\\n",
       "0  electronics - general  elite screens    r85wh1-wide         409.0   \n",
       "1  electronics - general  elite screens    r85wh1-wide         409.0   \n",
       "2  electronics - general  elite screens       pvr135h1        1069.0   \n",
       "3  electronics - general  elite screens    r85wh1-wide         409.0   \n",
       "4  electronics - general  elite screens       pvr135h1        1069.0   \n",
       "\n",
       "                                        rtable_title     rtable_category  \\\n",
       "0  cinegray ezframe series fixed frame screen - 1...  projection screens   \n",
       "1  powergain prime vision series fixed frame scre...  projection screens   \n",
       "2  powergain prime vision series fixed frame scre...  projection screens   \n",
       "3  cinewhite prime vision series fixed frame scre...  projection screens   \n",
       "4  cinewhite prime vision series fixed frame scre...  projection screens   \n",
       "\n",
       "  rtable_brand rtable_modelno  rtable_price    id  \n",
       "0        elite     JGMp6dReW1         879.0  5583  \n",
       "1        elite     ggAwX7K1pp        1069.0  1572  \n",
       "2        elite     UIy5npC5UK        1069.0   110  \n",
       "3        elite     gPFzikLEHz         929.0  1938  \n",
       "4        elite     t6dsP2jCfF         929.0  5694  "
      ]
     },
     "execution_count": 103,
     "metadata": {},
     "output_type": "execute_result"
    }
   ],
   "source": [
    "train_neg.head()"
   ]
  },
  {
   "cell_type": "code",
   "execution_count": 104,
   "metadata": {},
   "outputs": [],
   "source": [
    "train_df_without_null = pd.concat([train_neg,train_pos])\n",
    "train_df_without_null.to_csv('../../Structured/Walmart-Amazon/train_without_nullcodes.csv',index=False)"
   ]
  },
  {
   "cell_type": "markdown",
   "metadata": {},
   "source": [
    "## Train model with new dataset"
   ]
  },
  {
   "cell_type": "code",
   "execution_count": 106,
   "metadata": {},
   "outputs": [],
   "source": [
    "import deepmatcher as dm\n",
    "train,validation,test = dm.data.process('../../Structured/Walmart-Amazon/',train='train_without_nullcodes.csv',\n",
    "                       validation='merged_valid.csv',test='merged_test.csv',left_prefix='ltable_',\n",
    "                       right_prefix='rtable_',cache='notnull.pth')"
   ]
  },
  {
   "cell_type": "code",
   "execution_count": 107,
   "metadata": {},
   "outputs": [
    {
     "name": "stdout",
     "output_type": "stream",
     "text": [
      "* Number of trainable parameters: 11286907\n",
      "===>  TRAIN Epoch 1\n"
     ]
    },
    {
     "name": "stderr",
     "output_type": "stream",
     "text": [
      "0% [██████████████████████████████] 100% | ETA: 00:00:00\n",
      "Total time elapsed: 00:00:54\n"
     ]
    },
    {
     "name": "stdout",
     "output_type": "stream",
     "text": [
      "Finished Epoch 1 || Run Time:   50.6 | Load Time:    4.8 || F1:  32.37 | Prec:  19.68 | Rec:  90.97 || Ex/s: 110.94\n",
      "\n",
      "===>  EVAL Epoch 1\n"
     ]
    },
    {
     "name": "stderr",
     "output_type": "stream",
     "text": [
      "0% [█████████████████████████] 100% | ETA: 00:00:00\n",
      "Total time elapsed: 00:00:07\n"
     ]
    },
    {
     "name": "stdout",
     "output_type": "stream",
     "text": [
      "Finished Epoch 1 || Run Time:    6.2 | Load Time:    1.5 || F1:  49.01 | Prec:  42.69 | Rec:  57.51 || Ex/s: 268.38\n",
      "\n",
      "* Best F1: 49.00662251655629\n",
      "Saving best model...\n",
      "Done.\n",
      "---------------------\n",
      "\n",
      "===>  TRAIN Epoch 2\n"
     ]
    },
    {
     "name": "stderr",
     "output_type": "stream",
     "text": [
      "0% [██████████████████████████████] 100% | ETA: 00:00:00\n",
      "Total time elapsed: 00:00:52\n"
     ]
    },
    {
     "name": "stdout",
     "output_type": "stream",
     "text": [
      "Finished Epoch 2 || Run Time:   48.5 | Load Time:    4.6 || F1:  55.85 | Prec:  40.26 | Rec:  91.15 || Ex/s: 115.59\n",
      "\n",
      "===>  EVAL Epoch 2\n"
     ]
    },
    {
     "name": "stderr",
     "output_type": "stream",
     "text": [
      "0% [█████████████████████████] 100% | ETA: 00:00:00\n",
      "Total time elapsed: 00:00:07\n"
     ]
    },
    {
     "name": "stdout",
     "output_type": "stream",
     "text": [
      "Finished Epoch 2 || Run Time:    6.2 | Load Time:    1.5 || F1:  49.89 | Prec:  43.18 | Rec:  59.07 || Ex/s: 266.07\n",
      "\n",
      "* Best F1: 49.89059080962801\n",
      "Saving best model...\n",
      "Done.\n",
      "---------------------\n",
      "\n",
      "===>  TRAIN Epoch 3\n"
     ]
    },
    {
     "name": "stderr",
     "output_type": "stream",
     "text": [
      "0% [██████████████████████████████] 100% | ETA: 00:00:00\n",
      "Total time elapsed: 00:00:53\n"
     ]
    },
    {
     "name": "stdout",
     "output_type": "stream",
     "text": [
      "Finished Epoch 3 || Run Time:   49.5 | Load Time:    4.7 || F1:  62.43 | Prec:  46.37 | Rec:  95.49 || Ex/s: 113.44\n",
      "\n",
      "===>  EVAL Epoch 3\n"
     ]
    },
    {
     "name": "stderr",
     "output_type": "stream",
     "text": [
      "0% [█████████████████████████] 100% | ETA: 00:00:00\n",
      "Total time elapsed: 00:00:07\n"
     ]
    },
    {
     "name": "stdout",
     "output_type": "stream",
     "text": [
      "Finished Epoch 3 || Run Time:    6.4 | Load Time:    1.5 || F1:  47.93 | Prec:  39.86 | Rec:  60.10 || Ex/s: 260.26\n",
      "\n",
      "---------------------\n",
      "\n",
      "===>  TRAIN Epoch 4\n"
     ]
    },
    {
     "name": "stderr",
     "output_type": "stream",
     "text": [
      "0% [██████████████████████████████] 100% | ETA: 00:00:00\n",
      "Total time elapsed: 00:00:54\n"
     ]
    },
    {
     "name": "stdout",
     "output_type": "stream",
     "text": [
      "Finished Epoch 4 || Run Time:   50.6 | Load Time:    4.7 || F1:  72.62 | Prec:  57.89 | Rec:  97.40 || Ex/s: 111.20\n",
      "\n",
      "===>  EVAL Epoch 4\n"
     ]
    },
    {
     "name": "stderr",
     "output_type": "stream",
     "text": [
      "0% [█████████████████████████] 100% | ETA: 00:00:00\n",
      "Total time elapsed: 00:00:07\n"
     ]
    },
    {
     "name": "stdout",
     "output_type": "stream",
     "text": [
      "Finished Epoch 4 || Run Time:    6.3 | Load Time:    1.5 || F1:  55.44 | Prec:  55.44 | Rec:  55.44 || Ex/s: 264.35\n",
      "\n",
      "* Best F1: 55.44041450777202\n",
      "Saving best model...\n",
      "Done.\n",
      "---------------------\n",
      "\n",
      "===>  TRAIN Epoch 5\n"
     ]
    },
    {
     "name": "stderr",
     "output_type": "stream",
     "text": [
      "0% [██████████████████████████████] 100% | ETA: 00:00:00\n",
      "Total time elapsed: 00:00:57\n"
     ]
    },
    {
     "name": "stdout",
     "output_type": "stream",
     "text": [
      "Finished Epoch 5 || Run Time:   53.2 | Load Time:    4.9 || F1:  84.16 | Prec:  73.11 | Rec:  99.13 || Ex/s: 105.74\n",
      "\n",
      "===>  EVAL Epoch 5\n"
     ]
    },
    {
     "name": "stderr",
     "output_type": "stream",
     "text": [
      "0% [█████████████████████████] 100% | ETA: 00:00:00\n",
      "Total time elapsed: 00:00:07\n"
     ]
    },
    {
     "name": "stdout",
     "output_type": "stream",
     "text": [
      "Finished Epoch 5 || Run Time:    6.4 | Load Time:    1.5 || F1:  57.37 | Prec:  59.44 | Rec:  55.44 || Ex/s: 257.36\n",
      "\n",
      "* Best F1: 57.37265415549598\n",
      "Saving best model...\n",
      "Done.\n",
      "---------------------\n",
      "\n",
      "===>  TRAIN Epoch 6\n"
     ]
    },
    {
     "name": "stderr",
     "output_type": "stream",
     "text": [
      "0% [██████████████████████████████] 100% | ETA: 00:00:00\n",
      "Total time elapsed: 00:00:55\n"
     ]
    },
    {
     "name": "stdout",
     "output_type": "stream",
     "text": [
      "Finished Epoch 6 || Run Time:   51.7 | Load Time:    4.8 || F1:  90.72 | Prec:  83.50 | Rec:  99.31 || Ex/s: 108.84\n",
      "\n",
      "===>  EVAL Epoch 6\n"
     ]
    },
    {
     "name": "stderr",
     "output_type": "stream",
     "text": [
      "0% [█████████████████████████] 100% | ETA: 00:00:00\n",
      "Total time elapsed: 00:00:07\n"
     ]
    },
    {
     "name": "stdout",
     "output_type": "stream",
     "text": [
      "Finished Epoch 6 || Run Time:    6.4 | Load Time:    1.5 || F1:  58.55 | Prec:  58.55 | Rec:  58.55 || Ex/s: 258.10\n",
      "\n",
      "* Best F1: 58.54922279792746\n",
      "Saving best model...\n",
      "Done.\n",
      "---------------------\n",
      "\n",
      "===>  TRAIN Epoch 7\n"
     ]
    },
    {
     "name": "stderr",
     "output_type": "stream",
     "text": [
      "0% [██████████████████████████████] 100% | ETA: 00:00:00\n",
      "Total time elapsed: 00:00:56\n"
     ]
    },
    {
     "name": "stdout",
     "output_type": "stream",
     "text": [
      "Finished Epoch 7 || Run Time:   52.1 | Load Time:    4.9 || F1:  95.05 | Prec:  90.57 | Rec: 100.00 || Ex/s: 107.75\n",
      "\n",
      "===>  EVAL Epoch 7\n"
     ]
    },
    {
     "name": "stderr",
     "output_type": "stream",
     "text": [
      "0% [█████████████████████████] 100% | ETA: 00:00:00\n",
      "Total time elapsed: 00:00:08\n"
     ]
    },
    {
     "name": "stdout",
     "output_type": "stream",
     "text": [
      "Finished Epoch 7 || Run Time:    6.8 | Load Time:    1.6 || F1:  57.64 | Prec:  54.93 | Rec:  60.62 || Ex/s: 243.29\n",
      "\n",
      "---------------------\n",
      "\n",
      "===>  TRAIN Epoch 8\n"
     ]
    },
    {
     "name": "stderr",
     "output_type": "stream",
     "text": [
      "0% [██████████████████████████████] 100% | ETA: 00:00:00\n",
      "Total time elapsed: 00:00:57\n"
     ]
    },
    {
     "name": "stdout",
     "output_type": "stream",
     "text": [
      "Finished Epoch 8 || Run Time:   52.8 | Load Time:    4.9 || F1:  97.05 | Prec:  94.27 | Rec: 100.00 || Ex/s: 106.49\n",
      "\n",
      "===>  EVAL Epoch 8\n"
     ]
    },
    {
     "name": "stderr",
     "output_type": "stream",
     "text": [
      "0% [█████████████████████████] 100% | ETA: 00:00:00\n",
      "Total time elapsed: 00:00:07\n"
     ]
    },
    {
     "name": "stdout",
     "output_type": "stream",
     "text": [
      "Finished Epoch 8 || Run Time:    6.5 | Load Time:    1.5 || F1:  56.28 | Prec:  54.63 | Rec:  58.03 || Ex/s: 255.89\n",
      "\n",
      "---------------------\n",
      "\n",
      "===>  TRAIN Epoch 9\n"
     ]
    },
    {
     "name": "stderr",
     "output_type": "stream",
     "text": [
      "0% [██████████████████████████████] 100% | ETA: 00:00:00\n",
      "Total time elapsed: 00:00:56\n"
     ]
    },
    {
     "name": "stdout",
     "output_type": "stream",
     "text": [
      "Finished Epoch 9 || Run Time:   52.7 | Load Time:    4.9 || F1:  98.71 | Prec:  97.46 | Rec: 100.00 || Ex/s: 106.70\n",
      "\n",
      "===>  EVAL Epoch 9\n"
     ]
    },
    {
     "name": "stderr",
     "output_type": "stream",
     "text": [
      "0% [█████████████████████████] 100% | ETA: 00:00:00\n",
      "Total time elapsed: 00:00:08\n"
     ]
    },
    {
     "name": "stdout",
     "output_type": "stream",
     "text": [
      "Finished Epoch 9 || Run Time:    7.1 | Load Time:    1.6 || F1:  59.62 | Prec:  62.50 | Rec:  56.99 || Ex/s: 234.49\n",
      "\n",
      "* Best F1: 59.620596205962066\n",
      "Saving best model...\n",
      "Done.\n",
      "---------------------\n",
      "\n",
      "===>  TRAIN Epoch 10\n"
     ]
    },
    {
     "name": "stderr",
     "output_type": "stream",
     "text": [
      "0% [██████████████████████████████] 100% | ETA: 00:00:00\n",
      "Total time elapsed: 00:00:56\n"
     ]
    },
    {
     "name": "stdout",
     "output_type": "stream",
     "text": [
      "Finished Epoch 10 || Run Time:   52.7 | Load Time:    4.8 || F1:  99.83 | Prec:  99.65 | Rec: 100.00 || Ex/s: 106.84\n",
      "\n",
      "===>  EVAL Epoch 10\n"
     ]
    },
    {
     "name": "stderr",
     "output_type": "stream",
     "text": [
      "0% [█████████████████████████] 100% | ETA: 00:00:00\n",
      "Total time elapsed: 00:00:07\n"
     ]
    },
    {
     "name": "stdout",
     "output_type": "stream",
     "text": [
      "Finished Epoch 10 || Run Time:    6.4 | Load Time:    1.5 || F1:  60.22 | Prec:  64.50 | Rec:  56.48 || Ex/s: 259.11\n",
      "\n",
      "* Best F1: 60.22099447513812\n",
      "Saving best model...\n",
      "Done.\n",
      "---------------------\n",
      "\n",
      "===>  TRAIN Epoch 11\n"
     ]
    },
    {
     "name": "stderr",
     "output_type": "stream",
     "text": [
      "0% [██████████████████████████████] 100% | ETA: 00:00:00\n",
      "Total time elapsed: 00:00:56\n"
     ]
    },
    {
     "name": "stdout",
     "output_type": "stream",
     "text": [
      "Finished Epoch 11 || Run Time:   52.3 | Load Time:    4.9 || F1: 100.00 | Prec: 100.00 | Rec: 100.00 || Ex/s: 107.47\n",
      "\n",
      "===>  EVAL Epoch 11\n"
     ]
    },
    {
     "name": "stderr",
     "output_type": "stream",
     "text": [
      "0% [█████████████████████████] 100% | ETA: 00:00:00\n",
      "Total time elapsed: 00:00:07\n"
     ]
    },
    {
     "name": "stdout",
     "output_type": "stream",
     "text": [
      "Finished Epoch 11 || Run Time:    6.3 | Load Time:    1.5 || F1:  59.24 | Prec:  62.29 | Rec:  56.48 || Ex/s: 263.94\n",
      "\n",
      "---------------------\n",
      "\n",
      "===>  TRAIN Epoch 12\n"
     ]
    },
    {
     "name": "stderr",
     "output_type": "stream",
     "text": [
      "0% [██████████████████████████████] 100% | ETA: 00:00:00\n",
      "Total time elapsed: 00:00:53\n"
     ]
    },
    {
     "name": "stdout",
     "output_type": "stream",
     "text": [
      "Finished Epoch 12 || Run Time:   49.9 | Load Time:    4.7 || F1: 100.00 | Prec: 100.00 | Rec: 100.00 || Ex/s: 112.57\n",
      "\n",
      "===>  EVAL Epoch 12\n"
     ]
    },
    {
     "name": "stderr",
     "output_type": "stream",
     "text": [
      "0% [█████████████████████████] 100% | ETA: 00:00:00\n",
      "Total time elapsed: 00:00:07\n"
     ]
    },
    {
     "name": "stdout",
     "output_type": "stream",
     "text": [
      "Finished Epoch 12 || Run Time:    6.5 | Load Time:    1.5 || F1:  59.30 | Prec:  61.80 | Rec:  56.99 || Ex/s: 254.97\n",
      "\n",
      "---------------------\n",
      "\n",
      "===>  TRAIN Epoch 13\n"
     ]
    },
    {
     "name": "stderr",
     "output_type": "stream",
     "text": [
      "0% [██████████████████████████████] 100% | ETA: 00:00:00\n",
      "Total time elapsed: 00:00:55\n"
     ]
    },
    {
     "name": "stdout",
     "output_type": "stream",
     "text": [
      "Finished Epoch 13 || Run Time:   51.5 | Load Time:    4.8 || F1: 100.00 | Prec: 100.00 | Rec: 100.00 || Ex/s: 109.22\n",
      "\n",
      "===>  EVAL Epoch 13\n"
     ]
    },
    {
     "name": "stderr",
     "output_type": "stream",
     "text": [
      "0% [█████████████████████████] 100% | ETA: 00:00:00\n",
      "Total time elapsed: 00:00:08\n"
     ]
    },
    {
     "name": "stdout",
     "output_type": "stream",
     "text": [
      "Finished Epoch 13 || Run Time:    6.8 | Load Time:    1.6 || F1:  59.30 | Prec:  61.80 | Rec:  56.99 || Ex/s: 243.88\n",
      "\n",
      "---------------------\n",
      "\n",
      "===>  TRAIN Epoch 14\n"
     ]
    },
    {
     "name": "stderr",
     "output_type": "stream",
     "text": [
      "0% [██████████████████████████████] 100% | ETA: 00:00:00\n",
      "Total time elapsed: 00:00:56\n"
     ]
    },
    {
     "name": "stdout",
     "output_type": "stream",
     "text": [
      "Finished Epoch 14 || Run Time:   51.9 | Load Time:    4.8 || F1: 100.00 | Prec: 100.00 | Rec: 100.00 || Ex/s: 108.30\n",
      "\n",
      "===>  EVAL Epoch 14\n"
     ]
    },
    {
     "name": "stderr",
     "output_type": "stream",
     "text": [
      "0% [█████████████████████████] 100% | ETA: 00:00:00\n",
      "Total time elapsed: 00:00:07\n"
     ]
    },
    {
     "name": "stdout",
     "output_type": "stream",
     "text": [
      "Finished Epoch 14 || Run Time:    6.3 | Load Time:    1.5 || F1:  59.62 | Prec:  62.50 | Rec:  56.99 || Ex/s: 265.53\n",
      "\n",
      "---------------------\n",
      "\n",
      "===>  TRAIN Epoch 15\n"
     ]
    },
    {
     "name": "stderr",
     "output_type": "stream",
     "text": [
      "0% [██████████████████████████████] 100% | ETA: 00:00:00\n",
      "Total time elapsed: 00:00:53\n"
     ]
    },
    {
     "name": "stdout",
     "output_type": "stream",
     "text": [
      "Finished Epoch 15 || Run Time:   49.3 | Load Time:    4.7 || F1: 100.00 | Prec: 100.00 | Rec: 100.00 || Ex/s: 113.83\n",
      "\n",
      "===>  EVAL Epoch 15\n"
     ]
    },
    {
     "name": "stderr",
     "output_type": "stream",
     "text": [
      "0% [█████████████████████████] 100% | ETA: 00:00:00\n",
      "Total time elapsed: 00:00:07\n"
     ]
    },
    {
     "name": "stdout",
     "output_type": "stream",
     "text": [
      "Finished Epoch 15 || Run Time:    6.3 | Load Time:    1.5 || F1:  59.78 | Prec:  62.86 | Rec:  56.99 || Ex/s: 264.01\n",
      "\n",
      "---------------------\n",
      "\n",
      "===>  TRAIN Epoch 16\n"
     ]
    },
    {
     "name": "stderr",
     "output_type": "stream",
     "text": [
      "0% [██████████████████████████████] 100% | ETA: 00:00:00\n",
      "Total time elapsed: 00:00:54\n"
     ]
    },
    {
     "name": "stdout",
     "output_type": "stream",
     "text": [
      "Finished Epoch 16 || Run Time:   50.3 | Load Time:    4.6 || F1: 100.00 | Prec: 100.00 | Rec: 100.00 || Ex/s: 111.78\n",
      "\n",
      "===>  EVAL Epoch 16\n"
     ]
    },
    {
     "name": "stderr",
     "output_type": "stream",
     "text": [
      "0% [█████████████████████████] 100% | ETA: 00:00:00\n",
      "Total time elapsed: 00:00:07\n"
     ]
    },
    {
     "name": "stdout",
     "output_type": "stream",
     "text": [
      "Finished Epoch 16 || Run Time:    6.3 | Load Time:    1.5 || F1:  59.95 | Prec:  63.22 | Rec:  56.99 || Ex/s: 264.22\n",
      "\n",
      "---------------------\n",
      "\n",
      "===>  TRAIN Epoch 17\n"
     ]
    },
    {
     "name": "stderr",
     "output_type": "stream",
     "text": [
      "0% [██████████████████████████████] 100% | ETA: 00:00:00\n",
      "Total time elapsed: 00:00:53\n"
     ]
    },
    {
     "name": "stdout",
     "output_type": "stream",
     "text": [
      "Finished Epoch 17 || Run Time:   49.2 | Load Time:    4.7 || F1: 100.00 | Prec: 100.00 | Rec: 100.00 || Ex/s: 114.17\n",
      "\n",
      "===>  EVAL Epoch 17\n"
     ]
    },
    {
     "name": "stderr",
     "output_type": "stream",
     "text": [
      "0% [█████████████████████████] 100% | ETA: 00:00:00\n",
      "Total time elapsed: 00:00:07\n"
     ]
    },
    {
     "name": "stdout",
     "output_type": "stream",
     "text": [
      "Finished Epoch 17 || Run Time:    6.3 | Load Time:    1.5 || F1:  60.27 | Prec:  63.95 | Rec:  56.99 || Ex/s: 262.86\n",
      "\n",
      "* Best F1: 60.273972602739725\n",
      "Saving best model...\n",
      "Done.\n",
      "---------------------\n",
      "\n",
      "===>  TRAIN Epoch 18\n"
     ]
    },
    {
     "name": "stderr",
     "output_type": "stream",
     "text": [
      "0% [██████████████████████████████] 100% | ETA: 00:00:00\n",
      "Total time elapsed: 00:00:57\n"
     ]
    },
    {
     "name": "stdout",
     "output_type": "stream",
     "text": [
      "Finished Epoch 18 || Run Time:   53.2 | Load Time:    4.9 || F1: 100.00 | Prec: 100.00 | Rec: 100.00 || Ex/s: 105.69\n",
      "\n",
      "===>  EVAL Epoch 18\n"
     ]
    },
    {
     "name": "stderr",
     "output_type": "stream",
     "text": [
      "0% [█████████████████████████] 100% | ETA: 00:00:00\n",
      "Total time elapsed: 00:00:08\n"
     ]
    },
    {
     "name": "stdout",
     "output_type": "stream",
     "text": [
      "Finished Epoch 18 || Run Time:    6.8 | Load Time:    1.6 || F1:  60.44 | Prec:  64.33 | Rec:  56.99 || Ex/s: 245.82\n",
      "\n",
      "* Best F1: 60.439560439560445\n",
      "Saving best model...\n",
      "Done.\n",
      "---------------------\n",
      "\n",
      "===>  TRAIN Epoch 19\n"
     ]
    },
    {
     "name": "stderr",
     "output_type": "stream",
     "text": [
      "0% [██████████████████████████████] 100% | ETA: 00:00:00\n",
      "Total time elapsed: 00:00:57\n"
     ]
    },
    {
     "name": "stdout",
     "output_type": "stream",
     "text": [
      "Finished Epoch 19 || Run Time:   53.5 | Load Time:    5.0 || F1: 100.00 | Prec: 100.00 | Rec: 100.00 || Ex/s: 105.07\n",
      "\n",
      "===>  EVAL Epoch 19\n"
     ]
    },
    {
     "name": "stderr",
     "output_type": "stream",
     "text": [
      "0% [█████████████████████████] 100% | ETA: 00:00:00\n",
      "Total time elapsed: 00:00:07\n"
     ]
    },
    {
     "name": "stdout",
     "output_type": "stream",
     "text": [
      "Finished Epoch 19 || Run Time:    6.5 | Load Time:    1.5 || F1:  60.61 | Prec:  64.71 | Rec:  56.99 || Ex/s: 256.44\n",
      "\n",
      "* Best F1: 60.60606060606061\n",
      "Saving best model...\n",
      "Done.\n",
      "---------------------\n",
      "\n",
      "===>  TRAIN Epoch 20\n"
     ]
    },
    {
     "name": "stderr",
     "output_type": "stream",
     "text": [
      "0% [██████████████████████████████] 100% | ETA: 00:00:00\n",
      "Total time elapsed: 00:00:56\n"
     ]
    },
    {
     "name": "stdout",
     "output_type": "stream",
     "text": [
      "Finished Epoch 20 || Run Time:   52.7 | Load Time:    4.8 || F1: 100.00 | Prec: 100.00 | Rec: 100.00 || Ex/s: 106.81\n",
      "\n",
      "===>  EVAL Epoch 20\n"
     ]
    },
    {
     "name": "stderr",
     "output_type": "stream",
     "text": [
      "0% [█████████████████████████] 100% | ETA: 00:00:00\n",
      "Total time elapsed: 00:00:07\n"
     ]
    },
    {
     "name": "stdout",
     "output_type": "stream",
     "text": [
      "Finished Epoch 20 || Run Time:    6.6 | Load Time:    1.5 || F1:  60.61 | Prec:  64.71 | Rec:  56.99 || Ex/s: 251.18\n",
      "\n",
      "---------------------\n",
      "\n",
      "Loading best model...\n",
      "Training done.\n"
     ]
    },
    {
     "data": {
      "text/plain": [
       "60.60606060606061"
      ]
     },
     "execution_count": 107,
     "metadata": {},
     "output_type": "execute_result"
    }
   ],
   "source": [
    "hybrid_model = dm.MatchingModel(attr_summarizer='hybrid')\n",
    "hybrid_model.run_train(train,validation,best_save_path='../../models/walmartamazon_hybrid_nonull.pth',epochs=20,\n",
    "                       pos_neg_ratio=10,batch_size=16)"
   ]
  },
  {
   "cell_type": "code",
   "execution_count": 108,
   "metadata": {},
   "outputs": [
    {
     "name": "stdout",
     "output_type": "stream",
     "text": [
      "===>  EVAL Epoch 19\n"
     ]
    },
    {
     "name": "stderr",
     "output_type": "stream",
     "text": [
      "0% [█████████████] 100% | ETA: 00:00:00\n",
      "Total time elapsed: 00:00:04\n"
     ]
    },
    {
     "name": "stdout",
     "output_type": "stream",
     "text": [
      "Finished Epoch 19 || Run Time:    3.5 | Load Time:    1.5 || F1:  59.56 | Prec:  63.01 | Rec:  56.48 || Ex/s: 411.32\n",
      "\n"
     ]
    },
    {
     "data": {
      "text/plain": [
       "59.56284153005465"
      ]
     },
     "execution_count": 108,
     "metadata": {},
     "output_type": "execute_result"
    }
   ],
   "source": [
    "hybrid_model.run_eval(test)"
   ]
  },
  {
   "cell_type": "code",
   "execution_count": null,
   "metadata": {},
   "outputs": [],
   "source": []
  }
 ],
 "metadata": {
  "kernelspec": {
   "display_name": "Python 3",
   "language": "python",
   "name": "python3"
  },
  "language_info": {
   "codemirror_mode": {
    "name": "ipython",
    "version": 3
   },
   "file_extension": ".py",
   "mimetype": "text/x-python",
   "name": "python",
   "nbconvert_exporter": "python",
   "pygments_lexer": "ipython3",
   "version": "3.6.9"
  }
 },
 "nbformat": 4,
 "nbformat_minor": 2
}

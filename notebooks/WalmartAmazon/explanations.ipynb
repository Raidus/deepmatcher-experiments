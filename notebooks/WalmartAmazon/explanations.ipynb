{
 "cells": [
  {
   "cell_type": "code",
   "execution_count": 1,
   "metadata": {},
   "outputs": [],
   "source": [
    "%load_ext autoreload\n",
    "%autoreload 2"
   ]
  },
  {
   "cell_type": "code",
   "execution_count": 2,
   "metadata": {},
   "outputs": [],
   "source": [
    "import sys\n",
    "sys.path.append('../..')"
   ]
  },
  {
   "cell_type": "code",
   "execution_count": 3,
   "metadata": {},
   "outputs": [],
   "source": [
    "from utils.explainer import generateExplanations\n",
    "import deepmatcher as dm\n",
    "import pandas as pd"
   ]
  },
  {
   "cell_type": "code",
   "execution_count": 4,
   "metadata": {},
   "outputs": [],
   "source": [
    "selected_attributes = ['modelno','price','title','brand']\n",
    "model = dm.MatchingModel(attr_summarizer='hybrid')\n",
    "model.load_state('../../models/walmartamazon_hybrid.pth')"
   ]
  },
  {
   "cell_type": "code",
   "execution_count": 9,
   "metadata": {},
   "outputs": [
    {
     "name": "stderr",
     "output_type": "stream",
     "text": [
      "\n",
      "Reading and processing data from \"../../Structured/Walmart-Amazon/test_negatives.csv\"\n",
      "0% [############################# ] 100% | ETA: 00:00:00"
     ]
    },
    {
     "name": "stdout",
     "output_type": "stream",
     "text": [
      "===>  PREDICT Epoch 17\n"
     ]
    },
    {
     "name": "stderr",
     "output_type": "stream",
     "text": [
      "0% [███████████] 100% | ETA: 00:00:00\n",
      "Total time elapsed: 00:00:04\n",
      "\n",
      "Reading and processing data from \"temp/altered_test0.csv\"\n"
     ]
    },
    {
     "name": "stdout",
     "output_type": "stream",
     "text": [
      "Finished Epoch 17 || Run Time:    3.3 | Load Time:    1.4 || F1:   0.00 | Prec:   0.00 | Rec:   0.00 || Ex/s:   0.00\n",
      "\n"
     ]
    },
    {
     "name": "stderr",
     "output_type": "stream",
     "text": [
      "0% [############################# ] 100% | ETA: 00:00:00"
     ]
    },
    {
     "name": "stdout",
     "output_type": "stream",
     "text": [
      "===>  PREDICT Epoch 17\n"
     ]
    },
    {
     "name": "stderr",
     "output_type": "stream",
     "text": [
      "0% [███████████] 100% | ETA: 00:00:00\n",
      "Total time elapsed: 00:00:04\n",
      "\n",
      "Reading and processing data from \"temp/altered_test1.csv\"\n"
     ]
    },
    {
     "name": "stdout",
     "output_type": "stream",
     "text": [
      "Finished Epoch 17 || Run Time:    3.2 | Load Time:    1.3 || F1:   0.00 | Prec:   0.00 | Rec:   0.00 || Ex/s:   0.00\n",
      "\n"
     ]
    },
    {
     "name": "stderr",
     "output_type": "stream",
     "text": [
      "0% [############################# ] 100% | ETA: 00:00:00"
     ]
    },
    {
     "name": "stdout",
     "output_type": "stream",
     "text": [
      "===>  PREDICT Epoch 17\n"
     ]
    },
    {
     "name": "stderr",
     "output_type": "stream",
     "text": [
      "0% [███████████] 100% | ETA: 00:00:00\n",
      "Total time elapsed: 00:00:04\n",
      "\n",
      "Reading and processing data from \"temp/altered_test2.csv\"\n"
     ]
    },
    {
     "name": "stdout",
     "output_type": "stream",
     "text": [
      "Finished Epoch 17 || Run Time:    3.3 | Load Time:    1.3 || F1:   0.00 | Prec:   0.00 | Rec:   0.00 || Ex/s:   0.00\n",
      "\n"
     ]
    },
    {
     "name": "stderr",
     "output_type": "stream",
     "text": [
      "0% [############################# ] 100% | ETA: 00:00:00"
     ]
    },
    {
     "name": "stdout",
     "output_type": "stream",
     "text": [
      "===>  PREDICT Epoch 17\n"
     ]
    },
    {
     "name": "stderr",
     "output_type": "stream",
     "text": [
      "0% [███████████] 100% | ETA: 00:00:00\n",
      "Total time elapsed: 00:00:04\n",
      "\n",
      "Reading and processing data from \"temp/altered_test3.csv\"\n"
     ]
    },
    {
     "name": "stdout",
     "output_type": "stream",
     "text": [
      "Finished Epoch 17 || Run Time:    3.1 | Load Time:    1.3 || F1:   0.00 | Prec:   0.00 | Rec:   0.00 || Ex/s:   0.00\n",
      "\n"
     ]
    },
    {
     "name": "stderr",
     "output_type": "stream",
     "text": [
      "0% [############################# ] 100% | ETA: 00:00:00"
     ]
    },
    {
     "name": "stdout",
     "output_type": "stream",
     "text": [
      "===>  PREDICT Epoch 17\n"
     ]
    },
    {
     "name": "stderr",
     "output_type": "stream",
     "text": [
      "0% [███████████] 100% | ETA: 00:00:00\n",
      "Total time elapsed: 00:00:04\n",
      "\n",
      "Reading and processing data from \"temp/altered_test4.csv\"\n"
     ]
    },
    {
     "name": "stdout",
     "output_type": "stream",
     "text": [
      "Finished Epoch 17 || Run Time:    3.3 | Load Time:    1.3 || F1:   0.00 | Prec:   0.00 | Rec:   0.00 || Ex/s:   0.00\n",
      "\n"
     ]
    },
    {
     "name": "stderr",
     "output_type": "stream",
     "text": [
      "0% [############################# ] 100% | ETA: 00:00:00"
     ]
    },
    {
     "name": "stdout",
     "output_type": "stream",
     "text": [
      "===>  PREDICT Epoch 17\n"
     ]
    },
    {
     "name": "stderr",
     "output_type": "stream",
     "text": [
      "0% [███████████] 100% | ETA: 00:00:00\n",
      "Total time elapsed: 00:00:04\n",
      "\n",
      "Reading and processing data from \"../../Structured/Walmart-Amazon/test_negatives.csv\"\n"
     ]
    },
    {
     "name": "stdout",
     "output_type": "stream",
     "text": [
      "Finished Epoch 17 || Run Time:    3.2 | Load Time:    1.3 || F1:   0.00 | Prec:   0.00 | Rec:   0.00 || Ex/s:   0.00\n",
      "\n"
     ]
    },
    {
     "name": "stderr",
     "output_type": "stream",
     "text": [
      "0% [############################# ] 100% | ETA: 00:00:00"
     ]
    },
    {
     "name": "stdout",
     "output_type": "stream",
     "text": [
      "===>  PREDICT Epoch 17\n"
     ]
    },
    {
     "name": "stderr",
     "output_type": "stream",
     "text": [
      "0% [███████████] 100% | ETA: 00:00:00\n",
      "Total time elapsed: 00:00:04\n",
      "\n",
      "Reading and processing data from \"temp/altered_test0.csv\"\n"
     ]
    },
    {
     "name": "stdout",
     "output_type": "stream",
     "text": [
      "Finished Epoch 17 || Run Time:    3.1 | Load Time:    1.3 || F1:   0.00 | Prec:   0.00 | Rec:   0.00 || Ex/s:   0.00\n",
      "\n"
     ]
    },
    {
     "name": "stderr",
     "output_type": "stream",
     "text": [
      "0% [############################# ] 100% | ETA: 00:00:00"
     ]
    },
    {
     "name": "stdout",
     "output_type": "stream",
     "text": [
      "===>  PREDICT Epoch 17\n"
     ]
    },
    {
     "name": "stderr",
     "output_type": "stream",
     "text": [
      "0% [███████████] 100% | ETA: 00:00:00\n",
      "Total time elapsed: 00:00:04\n",
      "\n",
      "Reading and processing data from \"temp/altered_test1.csv\"\n"
     ]
    },
    {
     "name": "stdout",
     "output_type": "stream",
     "text": [
      "Finished Epoch 17 || Run Time:    3.2 | Load Time:    1.4 || F1:   0.00 | Prec:   0.00 | Rec:   0.00 || Ex/s:   0.00\n",
      "\n"
     ]
    },
    {
     "name": "stderr",
     "output_type": "stream",
     "text": [
      "0% [############################# ] 100% | ETA: 00:00:00"
     ]
    },
    {
     "name": "stdout",
     "output_type": "stream",
     "text": [
      "===>  PREDICT Epoch 17\n"
     ]
    },
    {
     "name": "stderr",
     "output_type": "stream",
     "text": [
      "0% [███████████] 100% | ETA: 00:00:00\n",
      "Total time elapsed: 00:00:04\n",
      "\n",
      "Reading and processing data from \"temp/altered_test2.csv\"\n"
     ]
    },
    {
     "name": "stdout",
     "output_type": "stream",
     "text": [
      "Finished Epoch 17 || Run Time:    3.8 | Load Time:    1.5 || F1:   0.00 | Prec:   0.00 | Rec:   0.00 || Ex/s:   0.00\n",
      "\n"
     ]
    },
    {
     "name": "stderr",
     "output_type": "stream",
     "text": [
      "0% [############################# ] 100% | ETA: 00:00:00"
     ]
    },
    {
     "name": "stdout",
     "output_type": "stream",
     "text": [
      "===>  PREDICT Epoch 17\n"
     ]
    },
    {
     "name": "stderr",
     "output_type": "stream",
     "text": [
      "0% [███████████] 100% | ETA: 00:00:00\n",
      "Total time elapsed: 00:00:04\n",
      "\n",
      "Reading and processing data from \"temp/altered_test3.csv\"\n"
     ]
    },
    {
     "name": "stdout",
     "output_type": "stream",
     "text": [
      "Finished Epoch 17 || Run Time:    3.6 | Load Time:    1.5 || F1:   0.00 | Prec:   0.00 | Rec:   0.00 || Ex/s:   0.00\n",
      "\n"
     ]
    },
    {
     "name": "stderr",
     "output_type": "stream",
     "text": [
      "0% [############################# ] 100% | ETA: 00:00:00"
     ]
    },
    {
     "name": "stdout",
     "output_type": "stream",
     "text": [
      "===>  PREDICT Epoch 17\n"
     ]
    },
    {
     "name": "stderr",
     "output_type": "stream",
     "text": [
      "0% [███████████] 100% | ETA: 00:00:00\n",
      "Total time elapsed: 00:00:04\n",
      "\n",
      "Reading and processing data from \"temp/altered_test4.csv\"\n"
     ]
    },
    {
     "name": "stdout",
     "output_type": "stream",
     "text": [
      "Finished Epoch 17 || Run Time:    3.3 | Load Time:    1.4 || F1:   0.00 | Prec:   0.00 | Rec:   0.00 || Ex/s:   0.00\n",
      "\n"
     ]
    },
    {
     "name": "stderr",
     "output_type": "stream",
     "text": [
      "0% [############################# ] 100% | ETA: 00:00:00"
     ]
    },
    {
     "name": "stdout",
     "output_type": "stream",
     "text": [
      "===>  PREDICT Epoch 17\n"
     ]
    },
    {
     "name": "stderr",
     "output_type": "stream",
     "text": [
      "0% [███████████] 100% | ETA: 00:00:00\n",
      "Total time elapsed: 00:00:04\n",
      "\n",
      "Reading and processing data from \"../../Structured/Walmart-Amazon/test_negatives.csv\"\n"
     ]
    },
    {
     "name": "stdout",
     "output_type": "stream",
     "text": [
      "Finished Epoch 17 || Run Time:    3.4 | Load Time:    1.4 || F1:   0.00 | Prec:   0.00 | Rec:   0.00 || Ex/s:   0.00\n",
      "\n"
     ]
    },
    {
     "name": "stderr",
     "output_type": "stream",
     "text": [
      "0% [############################# ] 100% | ETA: 00:00:00"
     ]
    },
    {
     "name": "stdout",
     "output_type": "stream",
     "text": [
      "===>  PREDICT Epoch 17\n"
     ]
    },
    {
     "name": "stderr",
     "output_type": "stream",
     "text": [
      "0% [███████████] 100% | ETA: 00:00:00\n",
      "Total time elapsed: 00:00:04\n",
      "\n",
      "Reading and processing data from \"temp/altered_test0.csv\"\n"
     ]
    },
    {
     "name": "stdout",
     "output_type": "stream",
     "text": [
      "Finished Epoch 17 || Run Time:    3.6 | Load Time:    1.5 || F1:   0.00 | Prec:   0.00 | Rec:   0.00 || Ex/s:   0.00\n",
      "\n"
     ]
    },
    {
     "name": "stderr",
     "output_type": "stream",
     "text": [
      "0% [############################# ] 100% | ETA: 00:00:00"
     ]
    },
    {
     "name": "stdout",
     "output_type": "stream",
     "text": [
      "===>  PREDICT Epoch 17\n"
     ]
    },
    {
     "name": "stderr",
     "output_type": "stream",
     "text": [
      "0% [███████████] 100% | ETA: 00:00:00\n",
      "Total time elapsed: 00:00:03\n",
      "\n",
      "Reading and processing data from \"temp/altered_test1.csv\"\n"
     ]
    },
    {
     "name": "stdout",
     "output_type": "stream",
     "text": [
      "Finished Epoch 17 || Run Time:    3.0 | Load Time:    1.0 || F1:   0.00 | Prec:   0.00 | Rec:   0.00 || Ex/s:   0.00\n",
      "\n"
     ]
    },
    {
     "name": "stderr",
     "output_type": "stream",
     "text": [
      "0% [############################# ] 100% | ETA: 00:00:00"
     ]
    },
    {
     "name": "stdout",
     "output_type": "stream",
     "text": [
      "===>  PREDICT Epoch 17\n"
     ]
    },
    {
     "name": "stderr",
     "output_type": "stream",
     "text": [
      "0% [███████████] 100% | ETA: 00:00:00\n",
      "Total time elapsed: 00:00:04\n",
      "\n",
      "Reading and processing data from \"temp/altered_test2.csv\"\n"
     ]
    },
    {
     "name": "stdout",
     "output_type": "stream",
     "text": [
      "Finished Epoch 17 || Run Time:    3.1 | Load Time:    1.1 || F1:   0.00 | Prec:   0.00 | Rec:   0.00 || Ex/s:   0.00\n",
      "\n"
     ]
    },
    {
     "name": "stderr",
     "output_type": "stream",
     "text": [
      "0% [############################# ] 100% | ETA: 00:00:00"
     ]
    },
    {
     "name": "stdout",
     "output_type": "stream",
     "text": [
      "===>  PREDICT Epoch 17\n"
     ]
    },
    {
     "name": "stderr",
     "output_type": "stream",
     "text": [
      "0% [███████████] 100% | ETA: 00:00:00\n",
      "Total time elapsed: 00:00:03\n",
      "\n",
      "Reading and processing data from \"temp/altered_test3.csv\"\n"
     ]
    },
    {
     "name": "stdout",
     "output_type": "stream",
     "text": [
      "Finished Epoch 17 || Run Time:    3.0 | Load Time:    1.0 || F1:   0.00 | Prec:   0.00 | Rec:   0.00 || Ex/s:   0.00\n",
      "\n"
     ]
    },
    {
     "name": "stderr",
     "output_type": "stream",
     "text": [
      "0% [############################# ] 100% | ETA: 00:00:00"
     ]
    },
    {
     "name": "stdout",
     "output_type": "stream",
     "text": [
      "===>  PREDICT Epoch 17\n"
     ]
    },
    {
     "name": "stderr",
     "output_type": "stream",
     "text": [
      "0% [███████████] 100% | ETA: 00:00:00\n",
      "Total time elapsed: 00:00:04\n",
      "\n",
      "Reading and processing data from \"temp/altered_test4.csv\"\n"
     ]
    },
    {
     "name": "stdout",
     "output_type": "stream",
     "text": [
      "Finished Epoch 17 || Run Time:    3.1 | Load Time:    1.3 || F1:   0.00 | Prec:   0.00 | Rec:   0.00 || Ex/s:   0.00\n",
      "\n"
     ]
    },
    {
     "name": "stderr",
     "output_type": "stream",
     "text": [
      "0% [############################# ] 100% | ETA: 00:00:00"
     ]
    },
    {
     "name": "stdout",
     "output_type": "stream",
     "text": [
      "===>  PREDICT Epoch 17\n"
     ]
    },
    {
     "name": "stderr",
     "output_type": "stream",
     "text": [
      "0% [███████████] 100% | ETA: 00:00:00\n",
      "Total time elapsed: 00:00:03\n",
      "\n",
      "Reading and processing data from \"../../Structured/Walmart-Amazon/test_negatives.csv\"\n"
     ]
    },
    {
     "name": "stdout",
     "output_type": "stream",
     "text": [
      "Finished Epoch 17 || Run Time:    3.0 | Load Time:    1.1 || F1:   0.00 | Prec:   0.00 | Rec:   0.00 || Ex/s:   0.00\n",
      "\n"
     ]
    },
    {
     "name": "stderr",
     "output_type": "stream",
     "text": [
      "0% [############################# ] 100% | ETA: 00:00:00"
     ]
    },
    {
     "name": "stdout",
     "output_type": "stream",
     "text": [
      "===>  PREDICT Epoch 17\n"
     ]
    },
    {
     "name": "stderr",
     "output_type": "stream",
     "text": [
      "0% [███████████] 100% | ETA: 00:00:00\n",
      "Total time elapsed: 00:00:04\n",
      "\n",
      "Reading and processing data from \"temp/altered_test0.csv\"\n"
     ]
    },
    {
     "name": "stdout",
     "output_type": "stream",
     "text": [
      "Finished Epoch 17 || Run Time:    3.2 | Load Time:    1.4 || F1:   0.00 | Prec:   0.00 | Rec:   0.00 || Ex/s:   0.00\n",
      "\n"
     ]
    },
    {
     "name": "stderr",
     "output_type": "stream",
     "text": [
      "0% [############################# ] 100% | ETA: 00:00:00"
     ]
    },
    {
     "name": "stdout",
     "output_type": "stream",
     "text": [
      "===>  PREDICT Epoch 17\n"
     ]
    },
    {
     "name": "stderr",
     "output_type": "stream",
     "text": [
      "0% [███████████] 100% | ETA: 00:00:00\n",
      "Total time elapsed: 00:00:04\n",
      "\n",
      "Reading and processing data from \"temp/altered_test1.csv\"\n"
     ]
    },
    {
     "name": "stdout",
     "output_type": "stream",
     "text": [
      "Finished Epoch 17 || Run Time:    3.3 | Load Time:    1.4 || F1:   0.00 | Prec:   0.00 | Rec:   0.00 || Ex/s:   0.00\n",
      "\n"
     ]
    },
    {
     "name": "stderr",
     "output_type": "stream",
     "text": [
      "0% [############################# ] 100% | ETA: 00:00:00"
     ]
    },
    {
     "name": "stdout",
     "output_type": "stream",
     "text": [
      "===>  PREDICT Epoch 17\n"
     ]
    },
    {
     "name": "stderr",
     "output_type": "stream",
     "text": [
      "0% [███████████] 100% | ETA: 00:00:00\n",
      "Total time elapsed: 00:00:04\n",
      "\n",
      "Reading and processing data from \"temp/altered_test2.csv\"\n"
     ]
    },
    {
     "name": "stdout",
     "output_type": "stream",
     "text": [
      "Finished Epoch 17 || Run Time:    3.2 | Load Time:    1.3 || F1:   0.00 | Prec:   0.00 | Rec:   0.00 || Ex/s:   0.00\n",
      "\n"
     ]
    },
    {
     "name": "stderr",
     "output_type": "stream",
     "text": [
      "0% [############################# ] 100% | ETA: 00:00:00"
     ]
    },
    {
     "name": "stdout",
     "output_type": "stream",
     "text": [
      "===>  PREDICT Epoch 17\n"
     ]
    },
    {
     "name": "stderr",
     "output_type": "stream",
     "text": [
      "0% [███████████] 100% | ETA: 00:00:00\n",
      "Total time elapsed: 00:00:04\n",
      "\n",
      "Reading and processing data from \"temp/altered_test3.csv\"\n"
     ]
    },
    {
     "name": "stdout",
     "output_type": "stream",
     "text": [
      "Finished Epoch 17 || Run Time:    3.2 | Load Time:    1.3 || F1:   0.00 | Prec:   0.00 | Rec:   0.00 || Ex/s:   0.00\n",
      "\n"
     ]
    },
    {
     "name": "stderr",
     "output_type": "stream",
     "text": [
      "0% [############################# ] 100% | ETA: 00:00:00"
     ]
    },
    {
     "name": "stdout",
     "output_type": "stream",
     "text": [
      "===>  PREDICT Epoch 17\n"
     ]
    },
    {
     "name": "stderr",
     "output_type": "stream",
     "text": [
      "0% [███████████] 100% | ETA: 00:00:00\n",
      "Total time elapsed: 00:00:04\n",
      "\n",
      "Reading and processing data from \"temp/altered_test4.csv\"\n"
     ]
    },
    {
     "name": "stdout",
     "output_type": "stream",
     "text": [
      "Finished Epoch 17 || Run Time:    3.1 | Load Time:    1.3 || F1:   0.00 | Prec:   0.00 | Rec:   0.00 || Ex/s:   0.00\n",
      "\n"
     ]
    },
    {
     "name": "stderr",
     "output_type": "stream",
     "text": [
      "0% [############################# ] 100% | ETA: 00:00:00"
     ]
    },
    {
     "name": "stdout",
     "output_type": "stream",
     "text": [
      "===>  PREDICT Epoch 17\n"
     ]
    },
    {
     "name": "stderr",
     "output_type": "stream",
     "text": [
      "0% [███████████] 100% | ETA: 00:00:00\n",
      "Total time elapsed: 00:00:04\n"
     ]
    },
    {
     "name": "stdout",
     "output_type": "stream",
     "text": [
      "Finished Epoch 17 || Run Time:    3.2 | Load Time:    1.3 || F1:   0.00 | Prec:   0.00 | Rec:   0.00 || Ex/s:   0.00\n",
      "\n"
     ]
    }
   ],
   "source": [
    "negatives_nn = pd.read_csv('experiment_results/testneg_nn_hybrid_withfilter.csv')\n",
    "positives = pd.read_csv('../../Structured/Walmart-Amazon/positives.csv')\n",
    "critical_forNegatives = {}\n",
    "for att in selected_attributes:\n",
    "    criticalValues = generateExplanations(negatives_nn,positives,att,model,5,0.03\n",
    "                                          ,'../../Structured/Walmart-Amazon/test_negatives.csv',0)\n",
    "    critical_forNegatives[att] = criticalValues"
   ]
  },
  {
   "cell_type": "code",
   "execution_count": 27,
   "metadata": {},
   "outputs": [
    {
     "name": "stderr",
     "output_type": "stream",
     "text": [
      "\n",
      "Reading and processing data from \"../../Structured/Walmart-Amazon/test_positives.csv\"\n",
      "0% [############################# ] 100% | ETA: 00:00:00"
     ]
    },
    {
     "name": "stdout",
     "output_type": "stream",
     "text": [
      "===>  PREDICT Epoch 17\n"
     ]
    },
    {
     "name": "stderr",
     "output_type": "stream",
     "text": [
      "0% [█] 100% | ETA: 00:00:00\n",
      "Total time elapsed: 00:00:00\n",
      "\n",
      "Reading and processing data from \"temp/altered_test0.csv\"\n"
     ]
    },
    {
     "name": "stdout",
     "output_type": "stream",
     "text": [
      "Finished Epoch 17 || Run Time:    0.4 | Load Time:    0.2 || F1:   0.00 | Prec:   0.00 | Rec:   0.00 || Ex/s:   0.00\n",
      "\n"
     ]
    },
    {
     "name": "stderr",
     "output_type": "stream",
     "text": [
      "0% [############################# ] 100% | ETA: 00:00:00"
     ]
    },
    {
     "name": "stdout",
     "output_type": "stream",
     "text": [
      "===>  PREDICT Epoch 17\n"
     ]
    },
    {
     "name": "stderr",
     "output_type": "stream",
     "text": [
      "0% [█] 100% | ETA: 00:00:00\n",
      "Total time elapsed: 00:00:00\n",
      "\n",
      "Reading and processing data from \"temp/altered_test1.csv\"\n"
     ]
    },
    {
     "name": "stdout",
     "output_type": "stream",
     "text": [
      "Finished Epoch 17 || Run Time:    0.4 | Load Time:    0.2 || F1:   0.00 | Prec:   0.00 | Rec:   0.00 || Ex/s:   0.00\n",
      "\n"
     ]
    },
    {
     "name": "stderr",
     "output_type": "stream",
     "text": [
      "0% [############################# ] 100% | ETA: 00:00:00"
     ]
    },
    {
     "name": "stdout",
     "output_type": "stream",
     "text": [
      "===>  PREDICT Epoch 17\n"
     ]
    },
    {
     "name": "stderr",
     "output_type": "stream",
     "text": [
      "0% [█] 100% | ETA: 00:00:00\n",
      "Total time elapsed: 00:00:00\n",
      "\n",
      "Reading and processing data from \"temp/altered_test2.csv\"\n"
     ]
    },
    {
     "name": "stdout",
     "output_type": "stream",
     "text": [
      "Finished Epoch 17 || Run Time:    0.4 | Load Time:    0.2 || F1:   0.00 | Prec:   0.00 | Rec:   0.00 || Ex/s:   0.00\n",
      "\n"
     ]
    },
    {
     "name": "stderr",
     "output_type": "stream",
     "text": [
      "0% [############################# ] 100% | ETA: 00:00:00"
     ]
    },
    {
     "name": "stdout",
     "output_type": "stream",
     "text": [
      "===>  PREDICT Epoch 17\n"
     ]
    },
    {
     "name": "stderr",
     "output_type": "stream",
     "text": [
      "0% [█] 100% | ETA: 00:00:00\n",
      "Total time elapsed: 00:00:00\n",
      "\n",
      "Reading and processing data from \"temp/altered_test3.csv\"\n"
     ]
    },
    {
     "name": "stdout",
     "output_type": "stream",
     "text": [
      "Finished Epoch 17 || Run Time:    0.4 | Load Time:    0.2 || F1:   0.00 | Prec:   0.00 | Rec:   0.00 || Ex/s:   0.00\n",
      "\n"
     ]
    },
    {
     "name": "stderr",
     "output_type": "stream",
     "text": [
      "0% [############################# ] 100% | ETA: 00:00:00"
     ]
    },
    {
     "name": "stdout",
     "output_type": "stream",
     "text": [
      "===>  PREDICT Epoch 17\n"
     ]
    },
    {
     "name": "stderr",
     "output_type": "stream",
     "text": [
      "0% [█] 100% | ETA: 00:00:00\n",
      "Total time elapsed: 00:00:00\n",
      "\n",
      "Reading and processing data from \"temp/altered_test4.csv\"\n"
     ]
    },
    {
     "name": "stdout",
     "output_type": "stream",
     "text": [
      "Finished Epoch 17 || Run Time:    0.4 | Load Time:    0.1 || F1:   0.00 | Prec:   0.00 | Rec:   0.00 || Ex/s:   0.00\n",
      "\n"
     ]
    },
    {
     "name": "stderr",
     "output_type": "stream",
     "text": [
      "0% [############################# ] 100% | ETA: 00:00:00"
     ]
    },
    {
     "name": "stdout",
     "output_type": "stream",
     "text": [
      "===>  PREDICT Epoch 17\n"
     ]
    },
    {
     "name": "stderr",
     "output_type": "stream",
     "text": [
      "0% [█] 100% | ETA: 00:00:00\n",
      "Total time elapsed: 00:00:00\n",
      "\n",
      "Reading and processing data from \"../../Structured/Walmart-Amazon/test_positives.csv\"\n"
     ]
    },
    {
     "name": "stdout",
     "output_type": "stream",
     "text": [
      "Finished Epoch 17 || Run Time:    0.4 | Load Time:    0.2 || F1:   0.00 | Prec:   0.00 | Rec:   0.00 || Ex/s:   0.00\n",
      "\n"
     ]
    },
    {
     "name": "stderr",
     "output_type": "stream",
     "text": [
      "0% [############################# ] 100% | ETA: 00:00:00"
     ]
    },
    {
     "name": "stdout",
     "output_type": "stream",
     "text": [
      "===>  PREDICT Epoch 17\n"
     ]
    },
    {
     "name": "stderr",
     "output_type": "stream",
     "text": [
      "0% [█] 100% | ETA: 00:00:00\n",
      "Total time elapsed: 00:00:00\n",
      "\n",
      "Reading and processing data from \"temp/altered_test0.csv\"\n"
     ]
    },
    {
     "name": "stdout",
     "output_type": "stream",
     "text": [
      "Finished Epoch 17 || Run Time:    0.4 | Load Time:    0.2 || F1:   0.00 | Prec:   0.00 | Rec:   0.00 || Ex/s:   0.00\n",
      "\n"
     ]
    },
    {
     "name": "stderr",
     "output_type": "stream",
     "text": [
      "0% [############################# ] 100% | ETA: 00:00:00"
     ]
    },
    {
     "name": "stdout",
     "output_type": "stream",
     "text": [
      "===>  PREDICT Epoch 17\n"
     ]
    },
    {
     "name": "stderr",
     "output_type": "stream",
     "text": [
      "0% [█] 100% | ETA: 00:00:00\n",
      "Total time elapsed: 00:00:00\n",
      "\n",
      "Reading and processing data from \"temp/altered_test1.csv\"\n"
     ]
    },
    {
     "name": "stdout",
     "output_type": "stream",
     "text": [
      "Finished Epoch 17 || Run Time:    0.4 | Load Time:    0.2 || F1:   0.00 | Prec:   0.00 | Rec:   0.00 || Ex/s:   0.00\n",
      "\n"
     ]
    },
    {
     "name": "stderr",
     "output_type": "stream",
     "text": [
      "0% [############################# ] 100% | ETA: 00:00:00"
     ]
    },
    {
     "name": "stdout",
     "output_type": "stream",
     "text": [
      "===>  PREDICT Epoch 17\n"
     ]
    },
    {
     "name": "stderr",
     "output_type": "stream",
     "text": [
      "0% [█] 100% | ETA: 00:00:00\n",
      "Total time elapsed: 00:00:00\n",
      "\n",
      "Reading and processing data from \"temp/altered_test2.csv\"\n"
     ]
    },
    {
     "name": "stdout",
     "output_type": "stream",
     "text": [
      "Finished Epoch 17 || Run Time:    0.4 | Load Time:    0.2 || F1:   0.00 | Prec:   0.00 | Rec:   0.00 || Ex/s:   0.00\n",
      "\n"
     ]
    },
    {
     "name": "stderr",
     "output_type": "stream",
     "text": [
      "0% [############################# ] 100% | ETA: 00:00:00"
     ]
    },
    {
     "name": "stdout",
     "output_type": "stream",
     "text": [
      "===>  PREDICT Epoch 17\n"
     ]
    },
    {
     "name": "stderr",
     "output_type": "stream",
     "text": [
      "0% [█] 100% | ETA: 00:00:00\n",
      "Total time elapsed: 00:00:00\n",
      "\n",
      "Reading and processing data from \"temp/altered_test3.csv\"\n"
     ]
    },
    {
     "name": "stdout",
     "output_type": "stream",
     "text": [
      "Finished Epoch 17 || Run Time:    0.4 | Load Time:    0.2 || F1:   0.00 | Prec:   0.00 | Rec:   0.00 || Ex/s:   0.00\n",
      "\n"
     ]
    },
    {
     "name": "stderr",
     "output_type": "stream",
     "text": [
      "0% [############################# ] 100% | ETA: 00:00:00"
     ]
    },
    {
     "name": "stdout",
     "output_type": "stream",
     "text": [
      "===>  PREDICT Epoch 17\n"
     ]
    },
    {
     "name": "stderr",
     "output_type": "stream",
     "text": [
      "0% [█] 100% | ETA: 00:00:00\n",
      "Total time elapsed: 00:00:00\n",
      "\n",
      "Reading and processing data from \"temp/altered_test4.csv\"\n"
     ]
    },
    {
     "name": "stdout",
     "output_type": "stream",
     "text": [
      "Finished Epoch 17 || Run Time:    0.4 | Load Time:    0.2 || F1:   0.00 | Prec:   0.00 | Rec:   0.00 || Ex/s:   0.00\n",
      "\n"
     ]
    },
    {
     "name": "stderr",
     "output_type": "stream",
     "text": [
      "0% [############################# ] 100% | ETA: 00:00:00"
     ]
    },
    {
     "name": "stdout",
     "output_type": "stream",
     "text": [
      "===>  PREDICT Epoch 17\n"
     ]
    },
    {
     "name": "stderr",
     "output_type": "stream",
     "text": [
      "0% [█] 100% | ETA: 00:00:00\n",
      "Total time elapsed: 00:00:00\n",
      "\n",
      "Reading and processing data from \"../../Structured/Walmart-Amazon/test_positives.csv\"\n"
     ]
    },
    {
     "name": "stdout",
     "output_type": "stream",
     "text": [
      "Finished Epoch 17 || Run Time:    0.4 | Load Time:    0.2 || F1:   0.00 | Prec:   0.00 | Rec:   0.00 || Ex/s:   0.00\n",
      "\n"
     ]
    },
    {
     "name": "stderr",
     "output_type": "stream",
     "text": [
      "0% [############################# ] 100% | ETA: 00:00:00"
     ]
    },
    {
     "name": "stdout",
     "output_type": "stream",
     "text": [
      "===>  PREDICT Epoch 17\n"
     ]
    },
    {
     "name": "stderr",
     "output_type": "stream",
     "text": [
      "0% [█] 100% | ETA: 00:00:00\n",
      "Total time elapsed: 00:00:00\n",
      "\n",
      "Reading and processing data from \"temp/altered_test0.csv\"\n"
     ]
    },
    {
     "name": "stdout",
     "output_type": "stream",
     "text": [
      "Finished Epoch 17 || Run Time:    0.5 | Load Time:    0.2 || F1:   0.00 | Prec:   0.00 | Rec:   0.00 || Ex/s:   0.00\n",
      "\n"
     ]
    },
    {
     "name": "stderr",
     "output_type": "stream",
     "text": [
      "0% [############################# ] 100% | ETA: 00:00:00"
     ]
    },
    {
     "name": "stdout",
     "output_type": "stream",
     "text": [
      "===>  PREDICT Epoch 17\n"
     ]
    },
    {
     "name": "stderr",
     "output_type": "stream",
     "text": [
      "0% [█] 100% | ETA: 00:00:00\n",
      "Total time elapsed: 00:00:00\n",
      "\n",
      "Reading and processing data from \"temp/altered_test1.csv\"\n"
     ]
    },
    {
     "name": "stdout",
     "output_type": "stream",
     "text": [
      "Finished Epoch 17 || Run Time:    0.4 | Load Time:    0.1 || F1:   0.00 | Prec:   0.00 | Rec:   0.00 || Ex/s:   0.00\n",
      "\n"
     ]
    },
    {
     "name": "stderr",
     "output_type": "stream",
     "text": [
      "0% [############################# ] 100% | ETA: 00:00:00"
     ]
    },
    {
     "name": "stdout",
     "output_type": "stream",
     "text": [
      "===>  PREDICT Epoch 17\n"
     ]
    },
    {
     "name": "stderr",
     "output_type": "stream",
     "text": [
      "0% [█] 100% | ETA: 00:00:00\n",
      "Total time elapsed: 00:00:00\n",
      "\n",
      "Reading and processing data from \"temp/altered_test2.csv\"\n"
     ]
    },
    {
     "name": "stdout",
     "output_type": "stream",
     "text": [
      "Finished Epoch 17 || Run Time:    0.4 | Load Time:    0.1 || F1:   0.00 | Prec:   0.00 | Rec:   0.00 || Ex/s:   0.00\n",
      "\n"
     ]
    },
    {
     "name": "stderr",
     "output_type": "stream",
     "text": [
      "0% [############################# ] 100% | ETA: 00:00:00"
     ]
    },
    {
     "name": "stdout",
     "output_type": "stream",
     "text": [
      "===>  PREDICT Epoch 17\n"
     ]
    },
    {
     "name": "stderr",
     "output_type": "stream",
     "text": [
      "0% [█] 100% | ETA: 00:00:00\n",
      "Total time elapsed: 00:00:00\n",
      "\n",
      "Reading and processing data from \"temp/altered_test3.csv\"\n"
     ]
    },
    {
     "name": "stdout",
     "output_type": "stream",
     "text": [
      "Finished Epoch 17 || Run Time:    0.5 | Load Time:    0.1 || F1:   0.00 | Prec:   0.00 | Rec:   0.00 || Ex/s:   0.00\n",
      "\n"
     ]
    },
    {
     "name": "stderr",
     "output_type": "stream",
     "text": [
      "0% [############################# ] 100% | ETA: 00:00:00"
     ]
    },
    {
     "name": "stdout",
     "output_type": "stream",
     "text": [
      "===>  PREDICT Epoch 17\n"
     ]
    },
    {
     "name": "stderr",
     "output_type": "stream",
     "text": [
      "0% [█] 100% | ETA: 00:00:00\n",
      "Total time elapsed: 00:00:00\n",
      "\n",
      "Reading and processing data from \"temp/altered_test4.csv\"\n"
     ]
    },
    {
     "name": "stdout",
     "output_type": "stream",
     "text": [
      "Finished Epoch 17 || Run Time:    0.4 | Load Time:    0.1 || F1:   0.00 | Prec:   0.00 | Rec:   0.00 || Ex/s:   0.00\n",
      "\n"
     ]
    },
    {
     "name": "stderr",
     "output_type": "stream",
     "text": [
      "0% [############################# ] 100% | ETA: 00:00:00"
     ]
    },
    {
     "name": "stdout",
     "output_type": "stream",
     "text": [
      "===>  PREDICT Epoch 17\n"
     ]
    },
    {
     "name": "stderr",
     "output_type": "stream",
     "text": [
      "0% [█] 100% | ETA: 00:00:00\n",
      "Total time elapsed: 00:00:00\n",
      "\n",
      "Reading and processing data from \"../../Structured/Walmart-Amazon/test_positives.csv\"\n"
     ]
    },
    {
     "name": "stdout",
     "output_type": "stream",
     "text": [
      "Finished Epoch 17 || Run Time:    0.4 | Load Time:    0.1 || F1:   0.00 | Prec:   0.00 | Rec:   0.00 || Ex/s:   0.00\n",
      "\n"
     ]
    },
    {
     "name": "stderr",
     "output_type": "stream",
     "text": [
      "0% [############################# ] 100% | ETA: 00:00:00"
     ]
    },
    {
     "name": "stdout",
     "output_type": "stream",
     "text": [
      "===>  PREDICT Epoch 17\n"
     ]
    },
    {
     "name": "stderr",
     "output_type": "stream",
     "text": [
      "0% [█] 100% | ETA: 00:00:00\n",
      "Total time elapsed: 00:00:00\n",
      "\n",
      "Reading and processing data from \"temp/altered_test0.csv\"\n"
     ]
    },
    {
     "name": "stdout",
     "output_type": "stream",
     "text": [
      "Finished Epoch 17 || Run Time:    0.4 | Load Time:    0.2 || F1:   0.00 | Prec:   0.00 | Rec:   0.00 || Ex/s:   0.00\n",
      "\n"
     ]
    },
    {
     "name": "stderr",
     "output_type": "stream",
     "text": [
      "0% [############################# ] 100% | ETA: 00:00:00"
     ]
    },
    {
     "name": "stdout",
     "output_type": "stream",
     "text": [
      "===>  PREDICT Epoch 17\n"
     ]
    },
    {
     "name": "stderr",
     "output_type": "stream",
     "text": [
      "0% [█] 100% | ETA: 00:00:00\n",
      "Total time elapsed: 00:00:00\n",
      "\n",
      "Reading and processing data from \"temp/altered_test1.csv\"\n"
     ]
    },
    {
     "name": "stdout",
     "output_type": "stream",
     "text": [
      "Finished Epoch 17 || Run Time:    0.5 | Load Time:    0.2 || F1:   0.00 | Prec:   0.00 | Rec:   0.00 || Ex/s:   0.00\n",
      "\n"
     ]
    },
    {
     "name": "stderr",
     "output_type": "stream",
     "text": [
      "0% [############################# ] 100% | ETA: 00:00:00"
     ]
    },
    {
     "name": "stdout",
     "output_type": "stream",
     "text": [
      "===>  PREDICT Epoch 17\n"
     ]
    },
    {
     "name": "stderr",
     "output_type": "stream",
     "text": [
      "0% [█] 100% | ETA: 00:00:00\n",
      "Total time elapsed: 00:00:00\n",
      "\n",
      "Reading and processing data from \"temp/altered_test2.csv\"\n"
     ]
    },
    {
     "name": "stdout",
     "output_type": "stream",
     "text": [
      "Finished Epoch 17 || Run Time:    0.5 | Load Time:    0.2 || F1:   0.00 | Prec:   0.00 | Rec:   0.00 || Ex/s:   0.00\n",
      "\n"
     ]
    },
    {
     "name": "stderr",
     "output_type": "stream",
     "text": [
      "0% [############################# ] 100% | ETA: 00:00:00"
     ]
    },
    {
     "name": "stdout",
     "output_type": "stream",
     "text": [
      "===>  PREDICT Epoch 17\n"
     ]
    },
    {
     "name": "stderr",
     "output_type": "stream",
     "text": [
      "0% [█] 100% | ETA: 00:00:00\n",
      "Total time elapsed: 00:00:00\n",
      "\n",
      "Reading and processing data from \"temp/altered_test3.csv\"\n"
     ]
    },
    {
     "name": "stdout",
     "output_type": "stream",
     "text": [
      "Finished Epoch 17 || Run Time:    0.5 | Load Time:    0.2 || F1:   0.00 | Prec:   0.00 | Rec:   0.00 || Ex/s:   0.00\n",
      "\n"
     ]
    },
    {
     "name": "stderr",
     "output_type": "stream",
     "text": [
      "0% [############################# ] 100% | ETA: 00:00:00"
     ]
    },
    {
     "name": "stdout",
     "output_type": "stream",
     "text": [
      "===>  PREDICT Epoch 17\n"
     ]
    },
    {
     "name": "stderr",
     "output_type": "stream",
     "text": [
      "0% [█] 100% | ETA: 00:00:00\n",
      "Total time elapsed: 00:00:00\n",
      "\n",
      "Reading and processing data from \"temp/altered_test4.csv\"\n"
     ]
    },
    {
     "name": "stdout",
     "output_type": "stream",
     "text": [
      "Finished Epoch 17 || Run Time:    0.4 | Load Time:    0.2 || F1:   0.00 | Prec:   0.00 | Rec:   0.00 || Ex/s:   0.00\n",
      "\n"
     ]
    },
    {
     "name": "stderr",
     "output_type": "stream",
     "text": [
      "0% [############################# ] 100% | ETA: 00:00:00"
     ]
    },
    {
     "name": "stdout",
     "output_type": "stream",
     "text": [
      "===>  PREDICT Epoch 17\n"
     ]
    },
    {
     "name": "stderr",
     "output_type": "stream",
     "text": [
      "0% [█] 100% | ETA: 00:00:00\n",
      "Total time elapsed: 00:00:00\n"
     ]
    },
    {
     "name": "stdout",
     "output_type": "stream",
     "text": [
      "Finished Epoch 17 || Run Time:    0.4 | Load Time:    0.2 || F1:   0.00 | Prec:   0.00 | Rec:   0.00 || Ex/s:   0.00\n",
      "\n"
     ]
    }
   ],
   "source": [
    "positives_nn = pd.read_csv('experiment_results/testpos_nn_hybrid_withfilter.csv')\n",
    "negatives = pd.read_csv('../../Structured/Walmart-Amazon/negatives.csv')\n",
    "critical_forPositives = {}\n",
    "for att in selected_attributes:\n",
    "    criticalValues = generateExplanations(positives_nn,negatives,att,model,5,0.03\n",
    "                                          ,'../../Structured/Walmart-Amazon/test_positives.csv',1)\n",
    "    critical_forPositives[att] = criticalValues"
   ]
  },
  {
   "cell_type": "code",
   "execution_count": 34,
   "metadata": {},
   "outputs": [
    {
     "data": {
      "text/plain": [
       "4"
      ]
     },
     "execution_count": 34,
     "metadata": {},
     "output_type": "execute_result"
    }
   ],
   "source": [
    "len(critical_forPositives['title'])"
   ]
  },
  {
   "cell_type": "code",
   "execution_count": 36,
   "metadata": {},
   "outputs": [
    {
     "data": {
      "text/html": [
       "<div>\n",
       "<style scoped>\n",
       "    .dataframe tbody tr th:only-of-type {\n",
       "        vertical-align: middle;\n",
       "    }\n",
       "\n",
       "    .dataframe tbody tr th {\n",
       "        vertical-align: top;\n",
       "    }\n",
       "\n",
       "    .dataframe thead th {\n",
       "        text-align: right;\n",
       "    }\n",
       "</style>\n",
       "<table border=\"1\" class=\"dataframe\">\n",
       "  <thead>\n",
       "    <tr style=\"text-align: right;\">\n",
       "      <th></th>\n",
       "      <th>match_score</th>\n",
       "      <th>label</th>\n",
       "      <th>ltable_title</th>\n",
       "      <th>ltable_category</th>\n",
       "      <th>ltable_brand</th>\n",
       "      <th>ltable_modelno</th>\n",
       "      <th>ltable_price</th>\n",
       "      <th>rtable_title</th>\n",
       "      <th>rtable_category</th>\n",
       "      <th>rtable_brand</th>\n",
       "      <th>rtable_modelno</th>\n",
       "      <th>rtable_price</th>\n",
       "    </tr>\n",
       "    <tr>\n",
       "      <th>id</th>\n",
       "      <th></th>\n",
       "      <th></th>\n",
       "      <th></th>\n",
       "      <th></th>\n",
       "      <th></th>\n",
       "      <th></th>\n",
       "      <th></th>\n",
       "      <th></th>\n",
       "      <th></th>\n",
       "      <th></th>\n",
       "      <th></th>\n",
       "      <th></th>\n",
       "    </tr>\n",
       "  </thead>\n",
       "  <tbody>\n",
       "    <tr>\n",
       "      <th>9418</th>\n",
       "      <td>0.347503</td>\n",
       "      <td>1</td>\n",
       "      <td>epson t060320 ink cartridge magenta</td>\n",
       "      <td>stationery &amp; office machinery</td>\n",
       "      <td>balt</td>\n",
       "      <td>33250</td>\n",
       "      <td>239.88</td>\n",
       "      <td>epson t032120 twin pack black ink cartridge 2 ...</td>\n",
       "      <td>laminating supplies</td>\n",
       "      <td>mayline</td>\n",
       "      <td>NaN</td>\n",
       "      <td>134.45</td>\n",
       "    </tr>\n",
       "    <tr>\n",
       "      <th>8603</th>\n",
       "      <td>0.365050</td>\n",
       "      <td>1</td>\n",
       "      <td>epson t060320 ink cartridge magenta</td>\n",
       "      <td>tv accessories</td>\n",
       "      <td>srs labs</td>\n",
       "      <td>dct6s</td>\n",
       "      <td>59.99</td>\n",
       "      <td>epson t032120 twin pack black ink cartridge 2 ...</td>\n",
       "      <td>accessories</td>\n",
       "      <td>srs</td>\n",
       "      <td>NaN</td>\n",
       "      <td>65.00</td>\n",
       "    </tr>\n",
       "    <tr>\n",
       "      <th>9604</th>\n",
       "      <td>0.325227</td>\n",
       "      <td>1</td>\n",
       "      <td>epson t060320 ink cartridge magenta</td>\n",
       "      <td>stationery &amp; office machinery</td>\n",
       "      <td>paper mate</td>\n",
       "      <td>1739312</td>\n",
       "      <td>4.87</td>\n",
       "      <td>epson t032120 twin pack black ink cartridge 2 ...</td>\n",
       "      <td>printer accessories</td>\n",
       "      <td>paper mate</td>\n",
       "      <td>NaN</td>\n",
       "      <td>23.96</td>\n",
       "    </tr>\n",
       "    <tr>\n",
       "      <th>8786</th>\n",
       "      <td>0.363413</td>\n",
       "      <td>1</td>\n",
       "      <td>epson t060320 ink cartridge magenta</td>\n",
       "      <td>stationery &amp; office machinery</td>\n",
       "      <td>lexmark</td>\n",
       "      <td>1382920</td>\n",
       "      <td>270.90</td>\n",
       "      <td>epson t032120 twin pack black ink cartridge 2 ...</td>\n",
       "      <td>computer accessories</td>\n",
       "      <td>lexmark</td>\n",
       "      <td>NaN</td>\n",
       "      <td>574.19</td>\n",
       "    </tr>\n",
       "    <tr>\n",
       "      <th>8415</th>\n",
       "      <td>0.340841</td>\n",
       "      <td>1</td>\n",
       "      <td>epson t060320 ink cartridge magenta</td>\n",
       "      <td>electronics - general</td>\n",
       "      <td>da-lite</td>\n",
       "      <td>87184</td>\n",
       "      <td>167.99</td>\n",
       "      <td>epson t032120 twin pack black ink cartridge 2 ...</td>\n",
       "      <td>projection screens</td>\n",
       "      <td>da-lite</td>\n",
       "      <td>NaN</td>\n",
       "      <td>NaN</td>\n",
       "    </tr>\n",
       "    <tr>\n",
       "      <th>10271</th>\n",
       "      <td>0.354666</td>\n",
       "      <td>1</td>\n",
       "      <td>epson t060320 ink cartridge magenta</td>\n",
       "      <td>digital cameras</td>\n",
       "      <td>canon</td>\n",
       "      <td>5035b001aa</td>\n",
       "      <td>156.54</td>\n",
       "      <td>epson t032120 twin pack black ink cartridge 2 ...</td>\n",
       "      <td>point shoot digital cameras</td>\n",
       "      <td>canon</td>\n",
       "      <td>5035b001</td>\n",
       "      <td>159.00</td>\n",
       "    </tr>\n",
       "    <tr>\n",
       "      <th>9164</th>\n",
       "      <td>0.353868</td>\n",
       "      <td>1</td>\n",
       "      <td>epson t060320 ink cartridge magenta</td>\n",
       "      <td>usb drives</td>\n",
       "      <td>wintec</td>\n",
       "      <td>3fmcf4gb-r</td>\n",
       "      <td>15.98</td>\n",
       "      <td>epson t032120 twin pack black ink cartridge 2 ...</td>\n",
       "      <td>memory cards</td>\n",
       "      <td>wintec</td>\n",
       "      <td>3fmcf32gbs-r</td>\n",
       "      <td>79.99</td>\n",
       "    </tr>\n",
       "    <tr>\n",
       "      <th>9543</th>\n",
       "      <td>0.333047</td>\n",
       "      <td>1</td>\n",
       "      <td>epson t060320 ink cartridge magenta</td>\n",
       "      <td>electronics - general</td>\n",
       "      <td>da-lite</td>\n",
       "      <td>84992</td>\n",
       "      <td>2735.99</td>\n",
       "      <td>epson t032120 twin pack black ink cartridge 2 ...</td>\n",
       "      <td>projection screens</td>\n",
       "      <td>da-lite</td>\n",
       "      <td>cosmopolitan electrol</td>\n",
       "      <td>NaN</td>\n",
       "    </tr>\n",
       "    <tr>\n",
       "      <th>10131</th>\n",
       "      <td>0.323298</td>\n",
       "      <td>1</td>\n",
       "      <td>epson t060320 ink cartridge magenta</td>\n",
       "      <td>prepaid wireless phones</td>\n",
       "      <td>t-mobile</td>\n",
       "      <td>t249</td>\n",
       "      <td>49.84</td>\n",
       "      <td>epson t032120 twin pack black ink cartridge 2 ...</td>\n",
       "      <td>no-contract phones</td>\n",
       "      <td>samsung</td>\n",
       "      <td>t239</td>\n",
       "      <td>59.99</td>\n",
       "    </tr>\n",
       "    <tr>\n",
       "      <th>9966</th>\n",
       "      <td>0.345737</td>\n",
       "      <td>1</td>\n",
       "      <td>epson t060320 ink cartridge magenta</td>\n",
       "      <td>printers</td>\n",
       "      <td>brother</td>\n",
       "      <td>tn110bk</td>\n",
       "      <td>49.88</td>\n",
       "      <td>epson t032120 twin pack black ink cartridge 2 ...</td>\n",
       "      <td>laser printer toner</td>\n",
       "      <td>brother</td>\n",
       "      <td>tn-110bk</td>\n",
       "      <td>37.99</td>\n",
       "    </tr>\n",
       "    <tr>\n",
       "      <th>8571</th>\n",
       "      <td>0.395923</td>\n",
       "      <td>1</td>\n",
       "      <td>epson t060320 ink cartridge magenta</td>\n",
       "      <td>stationery &amp; office machinery</td>\n",
       "      <td>NaN</td>\n",
       "      <td>62097</td>\n",
       "      <td>28.94</td>\n",
       "      <td>epson t032120 twin pack black ink cartridge 2 ...</td>\n",
       "      <td>storage presentation materials</td>\n",
       "      <td>c-line</td>\n",
       "      <td>NaN</td>\n",
       "      <td>39.00</td>\n",
       "    </tr>\n",
       "    <tr>\n",
       "      <th>9463</th>\n",
       "      <td>0.361430</td>\n",
       "      <td>1</td>\n",
       "      <td>epson t060320 ink cartridge magenta</td>\n",
       "      <td>mice</td>\n",
       "      <td>logitech</td>\n",
       "      <td>910001898</td>\n",
       "      <td>27.82</td>\n",
       "      <td>epson t032120 twin pack black ink cartridge 2 ...</td>\n",
       "      <td>mice</td>\n",
       "      <td>logitech</td>\n",
       "      <td>910-001898</td>\n",
       "      <td>24.17</td>\n",
       "    </tr>\n",
       "    <tr>\n",
       "      <th>9666</th>\n",
       "      <td>0.371213</td>\n",
       "      <td>1</td>\n",
       "      <td>epson t060320 ink cartridge magenta</td>\n",
       "      <td>stationery &amp; office machinery</td>\n",
       "      <td>wilson jones</td>\n",
       "      <td>NaN</td>\n",
       "      <td>6.09</td>\n",
       "      <td>epson t032120 twin pack black ink cartridge 2 ...</td>\n",
       "      <td>NaN</td>\n",
       "      <td>wilson jones</td>\n",
       "      <td>NaN</td>\n",
       "      <td>NaN</td>\n",
       "    </tr>\n",
       "    <tr>\n",
       "      <th>8917</th>\n",
       "      <td>0.375221</td>\n",
       "      <td>1</td>\n",
       "      <td>epson t060320 ink cartridge magenta</td>\n",
       "      <td>mp3 accessories</td>\n",
       "      <td>sony</td>\n",
       "      <td>mdrex35lp/vb</td>\n",
       "      <td>13.54</td>\n",
       "      <td>epson t032120 twin pack black ink cartridge 2 ...</td>\n",
       "      <td>headphones</td>\n",
       "      <td>sony</td>\n",
       "      <td>mdr-ex35lp / vb</td>\n",
       "      <td>12.99</td>\n",
       "    </tr>\n",
       "    <tr>\n",
       "      <th>9139</th>\n",
       "      <td>0.349097</td>\n",
       "      <td>1</td>\n",
       "      <td>epson t060320 ink cartridge magenta</td>\n",
       "      <td>printers</td>\n",
       "      <td>hp</td>\n",
       "      <td>hp 61</td>\n",
       "      <td>30.50</td>\n",
       "      <td>epson t032120 twin pack black ink cartridge 2 ...</td>\n",
       "      <td>inkjet printer ink</td>\n",
       "      <td>hp</td>\n",
       "      <td>cr259fn # 140</td>\n",
       "      <td>28.20</td>\n",
       "    </tr>\n",
       "    <tr>\n",
       "      <th>9395</th>\n",
       "      <td>0.347017</td>\n",
       "      <td>1</td>\n",
       "      <td>epson t060320 ink cartridge magenta</td>\n",
       "      <td>electronics - general</td>\n",
       "      <td>bond street ltd.</td>\n",
       "      <td>bnd416020sil</td>\n",
       "      <td>91.49</td>\n",
       "      <td>epson t032120 twin pack black ink cartridge 2 ...</td>\n",
       "      <td>computer accessories</td>\n",
       "      <td>bond street</td>\n",
       "      <td>NaN</td>\n",
       "      <td>NaN</td>\n",
       "    </tr>\n",
       "    <tr>\n",
       "      <th>9643</th>\n",
       "      <td>0.348060</td>\n",
       "      <td>1</td>\n",
       "      <td>epson t060320 ink cartridge magenta</td>\n",
       "      <td>hard drives</td>\n",
       "      <td>verbatim</td>\n",
       "      <td>97397</td>\n",
       "      <td>69.98</td>\n",
       "      <td>epson t032120 twin pack black ink cartridge 2 ...</td>\n",
       "      <td>printers</td>\n",
       "      <td>verbatim</td>\n",
       "      <td>NaN</td>\n",
       "      <td>116.20</td>\n",
       "    </tr>\n",
       "    <tr>\n",
       "      <th>9580</th>\n",
       "      <td>0.347392</td>\n",
       "      <td>1</td>\n",
       "      <td>epson t060320 ink cartridge magenta</td>\n",
       "      <td>hard drives</td>\n",
       "      <td>buffalo technology</td>\n",
       "      <td>hdwl2tu3r1</td>\n",
       "      <td>239.82</td>\n",
       "      <td>epson t032120 twin pack black ink cartridge 2 ...</td>\n",
       "      <td>computers accessories</td>\n",
       "      <td>buffalo technology</td>\n",
       "      <td>hd-wl2tu3r1</td>\n",
       "      <td>249.68</td>\n",
       "    </tr>\n",
       "    <tr>\n",
       "      <th>9791</th>\n",
       "      <td>0.354404</td>\n",
       "      <td>1</td>\n",
       "      <td>epson t060320 ink cartridge magenta</td>\n",
       "      <td>printers</td>\n",
       "      <td>hp</td>\n",
       "      <td>c8727an</td>\n",
       "      <td>19.97</td>\n",
       "      <td>epson t032120 twin pack black ink cartridge 2 ...</td>\n",
       "      <td>inkjet printer ink</td>\n",
       "      <td>hp</td>\n",
       "      <td>hewc8727an</td>\n",
       "      <td>18.61</td>\n",
       "    </tr>\n",
       "    <tr>\n",
       "      <th>8719</th>\n",
       "      <td>0.378597</td>\n",
       "      <td>1</td>\n",
       "      <td>epson t060320 ink cartridge magenta</td>\n",
       "      <td>stationery &amp; office machinery</td>\n",
       "      <td>NaN</td>\n",
       "      <td>35113</td>\n",
       "      <td>12.94</td>\n",
       "      <td>epson t032120 twin pack black ink cartridge 2 ...</td>\n",
       "      <td>laminating supplies</td>\n",
       "      <td>ampad</td>\n",
       "      <td>NaN</td>\n",
       "      <td>30.00</td>\n",
       "    </tr>\n",
       "    <tr>\n",
       "      <th>9169</th>\n",
       "      <td>0.342471</td>\n",
       "      <td>1</td>\n",
       "      <td>epson t060320 ink cartridge magenta</td>\n",
       "      <td>stationery &amp; office machinery</td>\n",
       "      <td>NaN</td>\n",
       "      <td>48434</td>\n",
       "      <td>22.69</td>\n",
       "      <td>epson t032120 twin pack black ink cartridge 2 ...</td>\n",
       "      <td>laminating supplies</td>\n",
       "      <td>pendaflex</td>\n",
       "      <td>NaN</td>\n",
       "      <td>NaN</td>\n",
       "    </tr>\n",
       "    <tr>\n",
       "      <th>9546</th>\n",
       "      <td>0.382776</td>\n",
       "      <td>1</td>\n",
       "      <td>epson t060320 ink cartridge magenta</td>\n",
       "      <td>stationery &amp; office machinery</td>\n",
       "      <td>avery</td>\n",
       "      <td>2180</td>\n",
       "      <td>9.21</td>\n",
       "      <td>epson t032120 twin pack black ink cartridge 2 ...</td>\n",
       "      <td>NaN</td>\n",
       "      <td>avery</td>\n",
       "      <td>NaN</td>\n",
       "      <td>NaN</td>\n",
       "    </tr>\n",
       "    <tr>\n",
       "      <th>9753</th>\n",
       "      <td>0.337704</td>\n",
       "      <td>1</td>\n",
       "      <td>epson t060320 ink cartridge magenta</td>\n",
       "      <td>photography - general</td>\n",
       "      <td>case logic</td>\n",
       "      <td>133827</td>\n",
       "      <td>47.99</td>\n",
       "      <td>epson t032120 twin pack black ink cartridge 2 ...</td>\n",
       "      <td>cases bags</td>\n",
       "      <td>case logic</td>\n",
       "      <td>slrc-202black</td>\n",
       "      <td>37.95</td>\n",
       "    </tr>\n",
       "    <tr>\n",
       "      <th>10254</th>\n",
       "      <td>0.332118</td>\n",
       "      <td>1</td>\n",
       "      <td>epson t060320 ink cartridge magenta</td>\n",
       "      <td>stationery &amp; office machinery</td>\n",
       "      <td>avery</td>\n",
       "      <td>5029</td>\n",
       "      <td>21.47</td>\n",
       "      <td>epson t032120 twin pack black ink cartridge 2 ...</td>\n",
       "      <td>other office equipment</td>\n",
       "      <td>avery</td>\n",
       "      <td>NaN</td>\n",
       "      <td>35.00</td>\n",
       "    </tr>\n",
       "    <tr>\n",
       "      <th>9904</th>\n",
       "      <td>0.336937</td>\n",
       "      <td>1</td>\n",
       "      <td>epson t060320 ink cartridge magenta</td>\n",
       "      <td>home theater</td>\n",
       "      <td>samsung</td>\n",
       "      <td>ht-d5300</td>\n",
       "      <td>298.00</td>\n",
       "      <td>epson t032120 twin pack black ink cartridge 2 ...</td>\n",
       "      <td>dvd home theater</td>\n",
       "      <td>samsung</td>\n",
       "      <td>htd5300</td>\n",
       "      <td>NaN</td>\n",
       "    </tr>\n",
       "    <tr>\n",
       "      <th>8963</th>\n",
       "      <td>0.361906</td>\n",
       "      <td>1</td>\n",
       "      <td>epson t060320 ink cartridge magenta</td>\n",
       "      <td>stationery &amp; office machinery</td>\n",
       "      <td>NaN</td>\n",
       "      <td>NaN</td>\n",
       "      <td>12.54</td>\n",
       "      <td>epson t032120 twin pack black ink cartridge 2 ...</td>\n",
       "      <td>printers</td>\n",
       "      <td>ampad</td>\n",
       "      <td>NaN</td>\n",
       "      <td>NaN</td>\n",
       "    </tr>\n",
       "    <tr>\n",
       "      <th>8682</th>\n",
       "      <td>0.351568</td>\n",
       "      <td>1</td>\n",
       "      <td>epson t060320 ink cartridge magenta</td>\n",
       "      <td>mp3</td>\n",
       "      <td>apple</td>\n",
       "      <td>mc359ll/a</td>\n",
       "      <td>29.00</td>\n",
       "      <td>epson t032120 twin pack black ink cartridge 2 ...</td>\n",
       "      <td>chargers adapters</td>\n",
       "      <td>apple</td>\n",
       "      <td>ipad 10w usb power adapter</td>\n",
       "      <td>24.76</td>\n",
       "    </tr>\n",
       "    <tr>\n",
       "      <th>9429</th>\n",
       "      <td>0.360821</td>\n",
       "      <td>1</td>\n",
       "      <td>epson t060320 ink cartridge magenta</td>\n",
       "      <td>tv accessories</td>\n",
       "      <td>middle atlantic</td>\n",
       "      <td>rlm30-l520-1</td>\n",
       "      <td>237.99</td>\n",
       "      <td>epson t032120 twin pack black ink cartridge 2 ...</td>\n",
       "      <td>home audio theater</td>\n",
       "      <td>middle atlantic</td>\n",
       "      <td>NaN</td>\n",
       "      <td>237.99</td>\n",
       "    </tr>\n",
       "    <tr>\n",
       "      <th>9678</th>\n",
       "      <td>0.335381</td>\n",
       "      <td>1</td>\n",
       "      <td>epson t060320 ink cartridge magenta</td>\n",
       "      <td>digital cameras</td>\n",
       "      <td>casio</td>\n",
       "      <td>NaN</td>\n",
       "      <td>100.00</td>\n",
       "      <td>epson t032120 twin pack black ink cartridge 2 ...</td>\n",
       "      <td>point shoot digital cameras</td>\n",
       "      <td>casio</td>\n",
       "      <td>ex-zs5 red</td>\n",
       "      <td>NaN</td>\n",
       "    </tr>\n",
       "    <tr>\n",
       "      <th>10213</th>\n",
       "      <td>0.376912</td>\n",
       "      <td>1</td>\n",
       "      <td>epson t060320 ink cartridge magenta</td>\n",
       "      <td>mice</td>\n",
       "      <td>microsoft</td>\n",
       "      <td>d1t00011</td>\n",
       "      <td>19.95</td>\n",
       "      <td>epson t032120 twin pack black ink cartridge 2 ...</td>\n",
       "      <td>computers accessories</td>\n",
       "      <td>microsoft</td>\n",
       "      <td>d1t-00011</td>\n",
       "      <td>11.99</td>\n",
       "    </tr>\n",
       "    <tr>\n",
       "      <th>...</th>\n",
       "      <td>...</td>\n",
       "      <td>...</td>\n",
       "      <td>...</td>\n",
       "      <td>...</td>\n",
       "      <td>...</td>\n",
       "      <td>...</td>\n",
       "      <td>...</td>\n",
       "      <td>...</td>\n",
       "      <td>...</td>\n",
       "      <td>...</td>\n",
       "      <td>...</td>\n",
       "      <td>...</td>\n",
       "    </tr>\n",
       "    <tr>\n",
       "      <th>10207</th>\n",
       "      <td>0.334033</td>\n",
       "      <td>1</td>\n",
       "      <td>epson t060320 ink cartridge magenta</td>\n",
       "      <td>rugs</td>\n",
       "      <td>guardian</td>\n",
       "      <td>eg030504</td>\n",
       "      <td>55.97</td>\n",
       "      <td>epson t032120 twin pack black ink cartridge 2 ...</td>\n",
       "      <td>storage presentation materials</td>\n",
       "      <td>guardian</td>\n",
       "      <td>NaN</td>\n",
       "      <td>NaN</td>\n",
       "    </tr>\n",
       "    <tr>\n",
       "      <th>9060</th>\n",
       "      <td>0.360506</td>\n",
       "      <td>1</td>\n",
       "      <td>epson t060320 ink cartridge magenta</td>\n",
       "      <td>electronics - general</td>\n",
       "      <td>roocase</td>\n",
       "      <td>222057</td>\n",
       "      <td>55.99</td>\n",
       "      <td>epson t032120 twin pack black ink cartridge 2 ...</td>\n",
       "      <td>cases sleeves</td>\n",
       "      <td>roocase</td>\n",
       "      <td>NaN</td>\n",
       "      <td>43.64</td>\n",
       "    </tr>\n",
       "    <tr>\n",
       "      <th>9177</th>\n",
       "      <td>0.334902</td>\n",
       "      <td>1</td>\n",
       "      <td>epson t060320 ink cartridge magenta</td>\n",
       "      <td>electronics - general</td>\n",
       "      <td>NaN</td>\n",
       "      <td>150705</td>\n",
       "      <td>47.84</td>\n",
       "      <td>epson t032120 twin pack black ink cartridge 2 ...</td>\n",
       "      <td>cables interconnects</td>\n",
       "      <td>manhattan</td>\n",
       "      <td>NaN</td>\n",
       "      <td>NaN</td>\n",
       "    </tr>\n",
       "    <tr>\n",
       "      <th>9150</th>\n",
       "      <td>0.345839</td>\n",
       "      <td>1</td>\n",
       "      <td>epson t060320 ink cartridge magenta</td>\n",
       "      <td>mice</td>\n",
       "      <td>kensington</td>\n",
       "      <td>k72334us</td>\n",
       "      <td>32.88</td>\n",
       "      <td>epson t032120 twin pack black ink cartridge 2 ...</td>\n",
       "      <td>connectors adapters</td>\n",
       "      <td>kensington</td>\n",
       "      <td>NaN</td>\n",
       "      <td>46.33</td>\n",
       "    </tr>\n",
       "    <tr>\n",
       "      <th>9409</th>\n",
       "      <td>0.337077</td>\n",
       "      <td>1</td>\n",
       "      <td>epson t060320 ink cartridge magenta</td>\n",
       "      <td>digital cameras</td>\n",
       "      <td>nikon</td>\n",
       "      <td>26255</td>\n",
       "      <td>274.36</td>\n",
       "      <td>epson t032120 twin pack black ink cartridge 2 ...</td>\n",
       "      <td>point shoot digital cameras</td>\n",
       "      <td>nikon</td>\n",
       "      <td>l120 bronze</td>\n",
       "      <td>261.01</td>\n",
       "    </tr>\n",
       "    <tr>\n",
       "      <th>9890</th>\n",
       "      <td>0.325899</td>\n",
       "      <td>1</td>\n",
       "      <td>epson t060320 ink cartridge magenta</td>\n",
       "      <td>usb drives</td>\n",
       "      <td>dane-elec</td>\n",
       "      <td>dacf3008gc</td>\n",
       "      <td>44.88</td>\n",
       "      <td>epson t032120 twin pack black ink cartridge 2 ...</td>\n",
       "      <td>blank media</td>\n",
       "      <td>dane-elec</td>\n",
       "      <td>da-cf30-08g-c</td>\n",
       "      <td>29.06</td>\n",
       "    </tr>\n",
       "    <tr>\n",
       "      <th>10413</th>\n",
       "      <td>0.312108</td>\n",
       "      <td>1</td>\n",
       "      <td>epson t060320 ink cartridge magenta</td>\n",
       "      <td>usb drives</td>\n",
       "      <td>sandisk</td>\n",
       "      <td>sdsdq008ga11m</td>\n",
       "      <td>24.88</td>\n",
       "      <td>epson t032120 twin pack black ink cartridge 2 ...</td>\n",
       "      <td>blank media</td>\n",
       "      <td>sandisk</td>\n",
       "      <td>sdsdq-008g-a11m</td>\n",
       "      <td>5.59</td>\n",
       "    </tr>\n",
       "    <tr>\n",
       "      <th>8681</th>\n",
       "      <td>0.361304</td>\n",
       "      <td>1</td>\n",
       "      <td>epson t060320 ink cartridge magenta</td>\n",
       "      <td>mp3</td>\n",
       "      <td>mach speed</td>\n",
       "      <td>cartunesmax</td>\n",
       "      <td>29.99</td>\n",
       "      <td>epson t032120 twin pack black ink cartridge 2 ...</td>\n",
       "      <td>universal fm cassette adapters</td>\n",
       "      <td>mach speed</td>\n",
       "      <td>mp3-cartunes max</td>\n",
       "      <td>21.99</td>\n",
       "    </tr>\n",
       "    <tr>\n",
       "      <th>9698</th>\n",
       "      <td>0.335889</td>\n",
       "      <td>1</td>\n",
       "      <td>epson t060320 ink cartridge magenta</td>\n",
       "      <td>stationery &amp; office machinery</td>\n",
       "      <td>avery</td>\n",
       "      <td>5289</td>\n",
       "      <td>9.54</td>\n",
       "      <td>epson t032120 twin pack black ink cartridge 2 ...</td>\n",
       "      <td>printer accessories</td>\n",
       "      <td>avery</td>\n",
       "      <td>NaN</td>\n",
       "      <td>NaN</td>\n",
       "    </tr>\n",
       "    <tr>\n",
       "      <th>9808</th>\n",
       "      <td>0.348050</td>\n",
       "      <td>1</td>\n",
       "      <td>epson t060320 ink cartridge magenta</td>\n",
       "      <td>mp3 accessories</td>\n",
       "      <td>imation</td>\n",
       "      <td>11864</td>\n",
       "      <td>55.92</td>\n",
       "      <td>epson t032120 twin pack black ink cartridge 2 ...</td>\n",
       "      <td>data cartridges</td>\n",
       "      <td>imation</td>\n",
       "      <td>84980236206</td>\n",
       "      <td>57.26</td>\n",
       "    </tr>\n",
       "    <tr>\n",
       "      <th>8803</th>\n",
       "      <td>0.367143</td>\n",
       "      <td>1</td>\n",
       "      <td>epson t060320 ink cartridge magenta</td>\n",
       "      <td>tv accessories</td>\n",
       "      <td>comprehensive</td>\n",
       "      <td>spp-xlrj</td>\n",
       "      <td>79.90</td>\n",
       "      <td>epson t032120 twin pack black ink cartridge 2 ...</td>\n",
       "      <td>connectors adapters</td>\n",
       "      <td>comprehensive video</td>\n",
       "      <td>NaN</td>\n",
       "      <td>NaN</td>\n",
       "    </tr>\n",
       "    <tr>\n",
       "      <th>8683</th>\n",
       "      <td>0.367044</td>\n",
       "      <td>1</td>\n",
       "      <td>epson t060320 ink cartridge magenta</td>\n",
       "      <td>stationery &amp; office machinery</td>\n",
       "      <td>avery</td>\n",
       "      <td>11907</td>\n",
       "      <td>5.88</td>\n",
       "      <td>epson t032120 twin pack black ink cartridge 2 ...</td>\n",
       "      <td>NaN</td>\n",
       "      <td>avery</td>\n",
       "      <td>NaN</td>\n",
       "      <td>12.00</td>\n",
       "    </tr>\n",
       "    <tr>\n",
       "      <th>10199</th>\n",
       "      <td>0.358584</td>\n",
       "      <td>1</td>\n",
       "      <td>epson t060320 ink cartridge magenta</td>\n",
       "      <td>electronics - general</td>\n",
       "      <td>innovera</td>\n",
       "      <td>51452</td>\n",
       "      <td>11.25</td>\n",
       "      <td>epson t032120 twin pack black ink cartridge 2 ...</td>\n",
       "      <td>wrist rests</td>\n",
       "      <td>innovera</td>\n",
       "      <td>NaN</td>\n",
       "      <td>13.17</td>\n",
       "    </tr>\n",
       "    <tr>\n",
       "      <th>9788</th>\n",
       "      <td>0.365611</td>\n",
       "      <td>1</td>\n",
       "      <td>epson t060320 ink cartridge magenta</td>\n",
       "      <td>storage</td>\n",
       "      <td>mayline</td>\n",
       "      <td>btbf20lcr</td>\n",
       "      <td>229.00</td>\n",
       "      <td>epson t032120 twin pack black ink cartridge 2 ...</td>\n",
       "      <td>laminating supplies</td>\n",
       "      <td>mayline</td>\n",
       "      <td>NaN</td>\n",
       "      <td>289.00</td>\n",
       "    </tr>\n",
       "    <tr>\n",
       "      <th>9018</th>\n",
       "      <td>0.332461</td>\n",
       "      <td>1</td>\n",
       "      <td>epson t060320 ink cartridge magenta</td>\n",
       "      <td>electronics - general</td>\n",
       "      <td>antec</td>\n",
       "      <td>ea650green</td>\n",
       "      <td>90.92</td>\n",
       "      <td>epson t032120 twin pack black ink cartridge 2 ...</td>\n",
       "      <td>power supplies</td>\n",
       "      <td>antec</td>\n",
       "      <td>ea-650 green</td>\n",
       "      <td>69.99</td>\n",
       "    </tr>\n",
       "    <tr>\n",
       "      <th>8429</th>\n",
       "      <td>0.328539</td>\n",
       "      <td>1</td>\n",
       "      <td>epson t060320 ink cartridge magenta</td>\n",
       "      <td>stationery &amp; office machinery</td>\n",
       "      <td>officemate</td>\n",
       "      <td>97228</td>\n",
       "      <td>8.88</td>\n",
       "      <td>epson t032120 twin pack black ink cartridge 2 ...</td>\n",
       "      <td>printers</td>\n",
       "      <td>officemate</td>\n",
       "      <td>NaN</td>\n",
       "      <td>NaN</td>\n",
       "    </tr>\n",
       "    <tr>\n",
       "      <th>9547</th>\n",
       "      <td>0.369489</td>\n",
       "      <td>1</td>\n",
       "      <td>epson t060320 ink cartridge magenta</td>\n",
       "      <td>stationery &amp; office machinery</td>\n",
       "      <td>sharp</td>\n",
       "      <td>el1192bl</td>\n",
       "      <td>37.63</td>\n",
       "      <td>epson t032120 twin pack black ink cartridge 2 ...</td>\n",
       "      <td>printing</td>\n",
       "      <td>sharp</td>\n",
       "      <td>NaN</td>\n",
       "      <td>95.66</td>\n",
       "    </tr>\n",
       "    <tr>\n",
       "      <th>9496</th>\n",
       "      <td>0.330667</td>\n",
       "      <td>1</td>\n",
       "      <td>epson t060320 ink cartridge magenta</td>\n",
       "      <td>hard drives</td>\n",
       "      <td>imation</td>\n",
       "      <td>26607</td>\n",
       "      <td>117.84</td>\n",
       "      <td>epson t032120 twin pack black ink cartridge 2 ...</td>\n",
       "      <td>NaN</td>\n",
       "      <td>imation</td>\n",
       "      <td>26718</td>\n",
       "      <td>156.83</td>\n",
       "    </tr>\n",
       "    <tr>\n",
       "      <th>9858</th>\n",
       "      <td>0.415466</td>\n",
       "      <td>1</td>\n",
       "      <td>epson t060320 ink cartridge magenta</td>\n",
       "      <td>networking</td>\n",
       "      <td>netgear</td>\n",
       "      <td>wn511b100nas</td>\n",
       "      <td>58.88</td>\n",
       "      <td>epson t032120 twin pack black ink cartridge 2 ...</td>\n",
       "      <td>chargers adapters</td>\n",
       "      <td>netgear</td>\n",
       "      <td>wn511b-100nas</td>\n",
       "      <td>11.99</td>\n",
       "    </tr>\n",
       "    <tr>\n",
       "      <th>9357</th>\n",
       "      <td>0.323772</td>\n",
       "      <td>1</td>\n",
       "      <td>epson t060320 ink cartridge magenta</td>\n",
       "      <td>stationery &amp; office machinery</td>\n",
       "      <td>NaN</td>\n",
       "      <td>3284</td>\n",
       "      <td>8.86</td>\n",
       "      <td>epson t032120 twin pack black ink cartridge 2 ...</td>\n",
       "      <td>laminating supplies</td>\n",
       "      <td>tops</td>\n",
       "      <td>NaN</td>\n",
       "      <td>NaN</td>\n",
       "    </tr>\n",
       "    <tr>\n",
       "      <th>10265</th>\n",
       "      <td>0.363211</td>\n",
       "      <td>1</td>\n",
       "      <td>epson t060320 ink cartridge magenta</td>\n",
       "      <td>stationery &amp; office machinery</td>\n",
       "      <td>quartet</td>\n",
       "      <td>cmp32</td>\n",
       "      <td>129.94</td>\n",
       "      <td>epson t032120 twin pack black ink cartridge 2 ...</td>\n",
       "      <td>laminating supplies</td>\n",
       "      <td>quartet</td>\n",
       "      <td>NaN</td>\n",
       "      <td>170.00</td>\n",
       "    </tr>\n",
       "    <tr>\n",
       "      <th>9702</th>\n",
       "      <td>0.328241</td>\n",
       "      <td>1</td>\n",
       "      <td>epson t060320 ink cartridge magenta</td>\n",
       "      <td>mp3</td>\n",
       "      <td>visual land</td>\n",
       "      <td>me9644gbblk</td>\n",
       "      <td>39.88</td>\n",
       "      <td>epson t032120 twin pack black ink cartridge 2 ...</td>\n",
       "      <td>mp3 players</td>\n",
       "      <td>visual land</td>\n",
       "      <td>me-964-4gb-blk</td>\n",
       "      <td>34.74</td>\n",
       "    </tr>\n",
       "    <tr>\n",
       "      <th>9553</th>\n",
       "      <td>0.356816</td>\n",
       "      <td>1</td>\n",
       "      <td>epson t060320 ink cartridge magenta</td>\n",
       "      <td>furniture</td>\n",
       "      <td>chief manufacturing</td>\n",
       "      <td>NaN</td>\n",
       "      <td>143.20</td>\n",
       "      <td>epson t032120 twin pack black ink cartridge 2 ...</td>\n",
       "      <td>selector boxes</td>\n",
       "      <td>chief</td>\n",
       "      <td>fwd-vblack</td>\n",
       "      <td>69.99</td>\n",
       "    </tr>\n",
       "    <tr>\n",
       "      <th>8568</th>\n",
       "      <td>0.348400</td>\n",
       "      <td>1</td>\n",
       "      <td>epson t060320 ink cartridge magenta</td>\n",
       "      <td>stationery &amp; office machinery</td>\n",
       "      <td>rolodex</td>\n",
       "      <td>23390</td>\n",
       "      <td>37.94</td>\n",
       "      <td>epson t032120 twin pack black ink cartridge 2 ...</td>\n",
       "      <td>blank media</td>\n",
       "      <td>rolodex</td>\n",
       "      <td>NaN</td>\n",
       "      <td>34.65</td>\n",
       "    </tr>\n",
       "    <tr>\n",
       "      <th>9785</th>\n",
       "      <td>0.342932</td>\n",
       "      <td>1</td>\n",
       "      <td>epson t060320 ink cartridge magenta</td>\n",
       "      <td>stationery &amp; office machinery</td>\n",
       "      <td>NaN</td>\n",
       "      <td>t4850l</td>\n",
       "      <td>14.47</td>\n",
       "      <td>epson t032120 twin pack black ink cartridge 2 ...</td>\n",
       "      <td>laminating supplies</td>\n",
       "      <td>trodat</td>\n",
       "      <td>NaN</td>\n",
       "      <td>NaN</td>\n",
       "    </tr>\n",
       "    <tr>\n",
       "      <th>10164</th>\n",
       "      <td>0.352371</td>\n",
       "      <td>1</td>\n",
       "      <td>epson t060320 ink cartridge magenta</td>\n",
       "      <td>home care</td>\n",
       "      <td>3m</td>\n",
       "      <td>7274t</td>\n",
       "      <td>2.69</td>\n",
       "      <td>epson t032120 twin pack black ink cartridge 2 ...</td>\n",
       "      <td>NaN</td>\n",
       "      <td>3m</td>\n",
       "      <td>NaN</td>\n",
       "      <td>10.85</td>\n",
       "    </tr>\n",
       "    <tr>\n",
       "      <th>9249</th>\n",
       "      <td>0.345754</td>\n",
       "      <td>1</td>\n",
       "      <td>epson t060320 ink cartridge magenta</td>\n",
       "      <td>networking</td>\n",
       "      <td>buffalo technology</td>\n",
       "      <td>lswx10tlr1</td>\n",
       "      <td>192.63</td>\n",
       "      <td>epson t032120 twin pack black ink cartridge 2 ...</td>\n",
       "      <td>network attached storage</td>\n",
       "      <td>buffalo technology</td>\n",
       "      <td>ls-wx1 .0 tl/r1</td>\n",
       "      <td>179.99</td>\n",
       "    </tr>\n",
       "    <tr>\n",
       "      <th>8522</th>\n",
       "      <td>0.337172</td>\n",
       "      <td>1</td>\n",
       "      <td>epson t060320 ink cartridge magenta</td>\n",
       "      <td>stationery &amp; office machinery</td>\n",
       "      <td>seiko</td>\n",
       "      <td>slp-mrl</td>\n",
       "      <td>14.88</td>\n",
       "      <td>epson t032120 twin pack black ink cartridge 2 ...</td>\n",
       "      <td>audio video accessories</td>\n",
       "      <td>seiko</td>\n",
       "      <td>NaN</td>\n",
       "      <td>13.82</td>\n",
       "    </tr>\n",
       "    <tr>\n",
       "      <th>9898</th>\n",
       "      <td>0.366661</td>\n",
       "      <td>1</td>\n",
       "      <td>epson t060320 ink cartridge magenta</td>\n",
       "      <td>stationery &amp; office machinery</td>\n",
       "      <td>NaN</td>\n",
       "      <td>900e</td>\n",
       "      <td>239.94</td>\n",
       "      <td>epson t032120 twin pack black ink cartridge 2 ...</td>\n",
       "      <td>printer accessories</td>\n",
       "      <td>lathem</td>\n",
       "      <td>NaN</td>\n",
       "      <td>230.00</td>\n",
       "    </tr>\n",
       "    <tr>\n",
       "      <th>8674</th>\n",
       "      <td>0.383418</td>\n",
       "      <td>1</td>\n",
       "      <td>epson t060320 ink cartridge magenta</td>\n",
       "      <td>stereos/audio</td>\n",
       "      <td>sony</td>\n",
       "      <td>ss-cr3000</td>\n",
       "      <td>99.99</td>\n",
       "      <td>epson t032120 twin pack black ink cartridge 2 ...</td>\n",
       "      <td>speakers</td>\n",
       "      <td>sony</td>\n",
       "      <td>sscr3000</td>\n",
       "      <td>69.98</td>\n",
       "    </tr>\n",
       "  </tbody>\n",
       "</table>\n",
       "<p>94 rows × 12 columns</p>\n",
       "</div>"
      ],
      "text/plain": [
       "       match_score  label                         ltable_title  \\\n",
       "id                                                               \n",
       "9418      0.347503      1  epson t060320 ink cartridge magenta   \n",
       "8603      0.365050      1  epson t060320 ink cartridge magenta   \n",
       "9604      0.325227      1  epson t060320 ink cartridge magenta   \n",
       "8786      0.363413      1  epson t060320 ink cartridge magenta   \n",
       "8415      0.340841      1  epson t060320 ink cartridge magenta   \n",
       "...            ...    ...                                  ...   \n",
       "10164     0.352371      1  epson t060320 ink cartridge magenta   \n",
       "9249      0.345754      1  epson t060320 ink cartridge magenta   \n",
       "8522      0.337172      1  epson t060320 ink cartridge magenta   \n",
       "9898      0.366661      1  epson t060320 ink cartridge magenta   \n",
       "8674      0.383418      1  epson t060320 ink cartridge magenta   \n",
       "\n",
       "                     ltable_category        ltable_brand ltable_modelno  \\\n",
       "id                                                                        \n",
       "9418   stationery & office machinery                balt          33250   \n",
       "8603                  tv accessories            srs labs          dct6s   \n",
       "9604   stationery & office machinery          paper mate        1739312   \n",
       "8786   stationery & office machinery             lexmark        1382920   \n",
       "8415           electronics - general             da-lite          87184   \n",
       "...                              ...                 ...            ...   \n",
       "10164                      home care                  3m          7274t   \n",
       "9249                      networking  buffalo technology     lswx10tlr1   \n",
       "8522   stationery & office machinery               seiko        slp-mrl   \n",
       "9898   stationery & office machinery                 NaN           900e   \n",
       "8674                   stereos/audio                sony      ss-cr3000   \n",
       "\n",
       "       ltable_price                                       rtable_title  \\\n",
       "id                                                                       \n",
       "9418         239.88  epson t032120 twin pack black ink cartridge 2 ...   \n",
       "8603          59.99  epson t032120 twin pack black ink cartridge 2 ...   \n",
       "9604           4.87  epson t032120 twin pack black ink cartridge 2 ...   \n",
       "8786         270.90  epson t032120 twin pack black ink cartridge 2 ...   \n",
       "8415         167.99  epson t032120 twin pack black ink cartridge 2 ...   \n",
       "...             ...                                                ...   \n",
       "10164          2.69  epson t032120 twin pack black ink cartridge 2 ...   \n",
       "9249         192.63  epson t032120 twin pack black ink cartridge 2 ...   \n",
       "8522          14.88  epson t032120 twin pack black ink cartridge 2 ...   \n",
       "9898         239.94  epson t032120 twin pack black ink cartridge 2 ...   \n",
       "8674          99.99  epson t032120 twin pack black ink cartridge 2 ...   \n",
       "\n",
       "                rtable_category        rtable_brand   rtable_modelno  \\\n",
       "id                                                                     \n",
       "9418        laminating supplies             mayline              NaN   \n",
       "8603                accessories                 srs              NaN   \n",
       "9604        printer accessories          paper mate              NaN   \n",
       "8786       computer accessories             lexmark              NaN   \n",
       "8415         projection screens             da-lite              NaN   \n",
       "...                         ...                 ...              ...   \n",
       "10164                       NaN                  3m              NaN   \n",
       "9249   network attached storage  buffalo technology  ls-wx1 .0 tl/r1   \n",
       "8522    audio video accessories               seiko              NaN   \n",
       "9898        printer accessories              lathem              NaN   \n",
       "8674                   speakers                sony         sscr3000   \n",
       "\n",
       "       rtable_price  \n",
       "id                   \n",
       "9418         134.45  \n",
       "8603          65.00  \n",
       "9604          23.96  \n",
       "8786         574.19  \n",
       "8415            NaN  \n",
       "...             ...  \n",
       "10164         10.85  \n",
       "9249         179.99  \n",
       "8522          13.82  \n",
       "9898         230.00  \n",
       "8674          69.98  \n",
       "\n",
       "[94 rows x 12 columns]"
      ]
     },
     "execution_count": 36,
     "metadata": {},
     "output_type": "execute_result"
    }
   ],
   "source": [
    "critical_forPositives['title'][1]"
   ]
  },
  {
   "cell_type": "code",
   "execution_count": null,
   "metadata": {},
   "outputs": [],
   "source": []
  }
 ],
 "metadata": {
  "kernelspec": {
   "display_name": "Python 3",
   "language": "python",
   "name": "python3"
  },
  "language_info": {
   "codemirror_mode": {
    "name": "ipython",
    "version": 3
   },
   "file_extension": ".py",
   "mimetype": "text/x-python",
   "name": "python",
   "nbconvert_exporter": "python",
   "pygments_lexer": "ipython3",
   "version": "3.6.9"
  }
 },
 "nbformat": 4,
 "nbformat_minor": 2
}

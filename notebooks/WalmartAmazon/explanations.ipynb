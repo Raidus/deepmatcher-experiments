{
 "cells": [
  {
   "cell_type": "code",
   "execution_count": 1,
   "metadata": {
    "ExecuteTime": {
     "end_time": "2020-05-20T18:35:00.416819Z",
     "start_time": "2020-05-20T18:35:00.395268Z"
    }
   },
   "outputs": [],
   "source": [
    "%load_ext autoreload\n",
    "%autoreload 2"
   ]
  },
  {
   "cell_type": "code",
   "execution_count": 2,
   "metadata": {
    "ExecuteTime": {
     "end_time": "2020-05-20T18:35:00.819067Z",
     "start_time": "2020-05-20T18:35:00.806611Z"
    }
   },
   "outputs": [],
   "source": [
    "import sys\n",
    "sys.path.append('../..')"
   ]
  },
  {
   "cell_type": "code",
   "execution_count": 3,
   "metadata": {
    "ExecuteTime": {
     "end_time": "2020-05-20T18:35:02.640433Z",
     "start_time": "2020-05-20T18:35:01.268632Z"
    }
   },
   "outputs": [],
   "source": [
    "import deepmatcher as dm\n",
    "import pandas as pd\n",
    "from utils.deepmatcher_utils import wrapDm\n",
    "import numpy as np"
   ]
  },
  {
   "cell_type": "code",
   "execution_count": 4,
   "metadata": {
    "ExecuteTime": {
     "end_time": "2020-05-12T19:25:26.022891Z",
     "start_time": "2020-05-12T19:25:25.976039Z"
    }
   },
   "outputs": [],
   "source": [
    "pd.set_option('display.max_colwidth',None)"
   ]
  },
  {
   "cell_type": "markdown",
   "metadata": {},
   "source": [
    "## Black-box explanation"
   ]
  },
  {
   "cell_type": "code",
   "execution_count": 4,
   "metadata": {
    "ExecuteTime": {
     "end_time": "2020-05-20T18:35:09.365599Z",
     "start_time": "2020-05-20T18:35:09.333681Z"
    }
   },
   "outputs": [],
   "source": [
    "from utils.triangles_method import explainSamples"
   ]
  },
  {
   "cell_type": "code",
   "execution_count": 14,
   "metadata": {
    "ExecuteTime": {
     "end_time": "2020-05-20T18:40:21.067712Z",
     "start_time": "2020-05-20T18:40:20.999334Z"
    }
   },
   "outputs": [],
   "source": [
    "DATA_DIR ='../../datasets/Structured/Walmart-Amazon/'\n",
    "allSamples = pd.read_csv(DATA_DIR+'merged_test.csv')"
   ]
  },
  {
   "cell_type": "code",
   "execution_count": 6,
   "metadata": {
    "ExecuteTime": {
     "end_time": "2020-05-20T18:35:14.392716Z",
     "start_time": "2020-05-20T18:35:10.195143Z"
    }
   },
   "outputs": [],
   "source": [
    "hybrid = dm.MatchingModel(attr_summarizer='hybrid')\n",
    "hybrid.load_state('../../models/walmartamazon_hybrid.pth')\n",
    "hybrid = hybrid.to('cuda')"
   ]
  },
  {
   "cell_type": "code",
   "execution_count": 7,
   "metadata": {
    "ExecuteTime": {
     "end_time": "2020-05-20T18:35:14.624509Z",
     "start_time": "2020-05-20T18:35:14.395331Z"
    }
   },
   "outputs": [],
   "source": [
    "rnn = dm.MatchingModel(attr_summarizer='rnn')\n",
    "rnn.load_state('../../models/walmartamazon_rnn.pth')\n",
    "rnn = rnn.to('cuda')"
   ]
  },
  {
   "cell_type": "code",
   "execution_count": 15,
   "metadata": {
    "ExecuteTime": {
     "end_time": "2020-05-20T18:40:33.789945Z",
     "start_time": "2020-05-20T18:40:25.418603Z"
    }
   },
   "outputs": [
    {
     "data": {
      "text/plain": [
       "(2049, 1911)"
      ]
     },
     "execution_count": 15,
     "metadata": {},
     "output_type": "execute_result"
    }
   ],
   "source": [
    "prediction = wrapDm(allSamples,rnn,ignore_columns=['label'])\n",
    "correct_preds = allSamples[np.argmax(prediction,axis=1)==allSamples.label.values]\n",
    "len(allSamples),len(correct_preds)"
   ]
  },
  {
   "cell_type": "code",
   "execution_count": 19,
   "metadata": {
    "ExecuteTime": {
     "end_time": "2020-05-20T18:41:55.387957Z",
     "start_time": "2020-05-20T18:41:41.681249Z"
    }
   },
   "outputs": [
    {
     "data": {
      "text/plain": [
       "(2049, 1919)"
      ]
     },
     "execution_count": 19,
     "metadata": {},
     "output_type": "execute_result"
    }
   ],
   "source": [
    "prediction4hybrid = wrapDm(allSamples,hybrid,ignore_columns=['label'])\n",
    "correct_preds4hybrid = allSamples[np.argmax(prediction4hybrid,axis=1)==allSamples.label.values]\n",
    "len(allSamples),len(correct_preds4hybrid)"
   ]
  },
  {
   "cell_type": "code",
   "execution_count": 11,
   "metadata": {
    "ExecuteTime": {
     "end_time": "2020-05-20T18:35:49.402756Z",
     "start_time": "2020-05-20T18:35:49.277045Z"
    }
   },
   "outputs": [],
   "source": [
    "walmart = pd.read_csv(DATA_DIR+'tableA.csv',dtype=str)\n",
    "amazon = pd.read_csv(DATA_DIR+'tableB.csv',dtype=str)"
   ]
  },
  {
   "cell_type": "code",
   "execution_count": 17,
   "metadata": {
    "ExecuteTime": {
     "end_time": "2020-05-20T18:41:37.099810Z",
     "start_time": "2020-05-20T18:40:46.715917Z"
    }
   },
   "outputs": [
    {
     "name": "stderr",
     "output_type": "stream",
     "text": [
      "100%|██████████| 122/122 [00:50<00:00,  2.43it/s]\n"
     ]
    }
   ],
   "source": [
    "neg_ranking,flippedneg = explainSamples(correct_preds,[walmart,amazon],rnn,wrapDm,\n",
    "                                       class_to_explain=0,maxLenAttributeSet=3)"
   ]
  },
  {
   "cell_type": "code",
   "execution_count": 20,
   "metadata": {
    "ExecuteTime": {
     "end_time": "2020-05-20T18:43:00.459575Z",
     "start_time": "2020-05-20T18:41:56.596986Z"
    }
   },
   "outputs": [
    {
     "name": "stderr",
     "output_type": "stream",
     "text": [
      "100%|██████████| 134/134 [01:03<00:00,  2.11it/s]\n"
     ]
    }
   ],
   "source": [
    "neg_ranking4hybrid,flippedneg4hybrid = explainSamples(correct_preds4hybrid,[walmart,amazon],hybrid,wrapDm,\n",
    "                                       class_to_explain=0,maxLenAttributeSet=3)"
   ]
  },
  {
   "cell_type": "code",
   "execution_count": 22,
   "metadata": {
    "ExecuteTime": {
     "end_time": "2020-05-20T18:43:44.530907Z",
     "start_time": "2020-05-20T18:43:08.927829Z"
    }
   },
   "outputs": [
    {
     "name": "stderr",
     "output_type": "stream",
     "text": [
      "100%|██████████| 122/122 [00:35<00:00,  3.45it/s]\n"
     ]
    }
   ],
   "source": [
    "pos_ranking,flippedpos = explainSamples(correct_preds,[walmart,amazon],rnn,wrapDm,\n",
    "                                       class_to_explain=1,maxLenAttributeSet=1)"
   ]
  },
  {
   "cell_type": "code",
   "execution_count": 22,
   "metadata": {
    "ExecuteTime": {
     "end_time": "2020-05-11T13:19:52.056285Z",
     "start_time": "2020-05-11T13:19:51.960344Z"
    }
   },
   "outputs": [],
   "source": [
    "flippedneg.to_csv('rnn_flippedneg.csv',index=False)"
   ]
  },
  {
   "cell_type": "code",
   "execution_count": 14,
   "metadata": {
    "ExecuteTime": {
     "end_time": "2020-05-11T15:02:17.621154Z",
     "start_time": "2020-05-11T15:02:17.544801Z"
    }
   },
   "outputs": [],
   "source": [
    "flippedpos.to_csv('rnn_flippedpos.csv',index=False)"
   ]
  },
  {
   "cell_type": "code",
   "execution_count": 23,
   "metadata": {
    "ExecuteTime": {
     "end_time": "2020-05-20T18:43:59.059887Z",
     "start_time": "2020-05-20T18:43:58.358305Z"
    }
   },
   "outputs": [
    {
     "data": {
      "image/png": "[encoded data removed]",
      "text/plain": [
       "<Figure size 432x288 with 1 Axes>"
      ]
     },
     "metadata": {
      "needs_background": "light"
     },
     "output_type": "display_data"
    }
   ],
   "source": [
    "neg_ranking.plot.barh(color='red',grid=True).get_figure().savefig('rnn_neg_ranking.png')"
   ]
  },
  {
   "cell_type": "code",
   "execution_count": 24,
   "metadata": {
    "ExecuteTime": {
     "end_time": "2020-05-20T18:44:05.645030Z",
     "start_time": "2020-05-20T18:44:05.362100Z"
    }
   },
   "outputs": [
    {
     "data": {
      "image/png": "[encoded data removed]",
      "text/plain": [
       "<Figure size 432x288 with 1 Axes>"
      ]
     },
     "metadata": {
      "needs_background": "light"
     },
     "output_type": "display_data"
    }
   ],
   "source": [
    "pos_ranking.plot.barh(color='green',grid=True).get_figure().savefig('rnn_pos_ranking.png')"
   ]
  },
  {
   "cell_type": "markdown",
   "metadata": {},
   "source": [
    "## Patterns extraction"
   ]
  },
  {
   "cell_type": "code",
   "execution_count": 60,
   "metadata": {
    "ExecuteTime": {
     "end_time": "2020-05-12T19:41:55.378995Z",
     "start_time": "2020-05-12T19:41:55.339872Z"
    }
   },
   "outputs": [],
   "source": [
    "import ast\n",
    "from utils.patternDiscovery import getMaxFrequentPatterns"
   ]
  },
  {
   "cell_type": "code",
   "execution_count": 55,
   "metadata": {
    "ExecuteTime": {
     "end_time": "2020-05-12T19:39:27.300579Z",
     "start_time": "2020-05-12T19:39:27.219583Z"
    }
   },
   "outputs": [],
   "source": [
    "flippedneg = pd.read_csv('rnn_flippedneg.csv')\n",
    "flippedpos = pd.read_csv('rnn_flippedpos.csv')"
   ]
  },
  {
   "cell_type": "code",
   "execution_count": 24,
   "metadata": {
    "ExecuteTime": {
     "end_time": "2020-05-11T19:32:13.391154Z",
     "start_time": "2020-05-11T19:32:13.257757Z"
    }
   },
   "outputs": [],
   "source": [
    "flippedneg['alteredAttributes'] = flippedneg['alteredAttributes'].apply(lambda t:ast.literal_eval(t))\n",
    "flippedpos['alteredAttributes'] = flippedpos['alteredAttributes'].apply(lambda t:ast.literal_eval(t))"
   ]
  },
  {
   "cell_type": "code",
   "execution_count": 36,
   "metadata": {
    "ExecuteTime": {
     "end_time": "2020-05-11T15:30:23.078856Z",
     "start_time": "2020-05-11T15:30:22.393772Z"
    }
   },
   "outputs": [],
   "source": [
    "neg_pattern_on_title = getMaxFrequentPatterns(flippedpos[flippedpos.alteredAttributes==('title',)],\n",
    "                                             ['ltable_title','rtable_title'])"
   ]
  },
  {
   "cell_type": "code",
   "execution_count": 44,
   "metadata": {
    "ExecuteTime": {
     "end_time": "2020-05-11T15:34:05.846886Z",
     "start_time": "2020-05-11T15:34:05.796345Z"
    }
   },
   "outputs": [
    {
     "data": {
      "text/html": [
       "<div>\n",
       "<style scoped>\n",
       "    .dataframe tbody tr th:only-of-type {\n",
       "        vertical-align: middle;\n",
       "    }\n",
       "\n",
       "    .dataframe tbody tr th {\n",
       "        vertical-align: top;\n",
       "    }\n",
       "\n",
       "    .dataframe thead th {\n",
       "        text-align: right;\n",
       "    }\n",
       "</style>\n",
       "<table border=\"1\" class=\"dataframe\">\n",
       "  <thead>\n",
       "    <tr style=\"text-align: right;\">\n",
       "      <th></th>\n",
       "      <th>support</th>\n",
       "      <th>itemsets</th>\n",
       "    </tr>\n",
       "  </thead>\n",
       "  <tbody>\n",
       "    <tr>\n",
       "      <th>0</th>\n",
       "      <td>0.201754</td>\n",
       "      <td>(L_rear, R_x, R_projection, L_screen, R_screen, L_x, L_projection, R_rear, R_format, L_format)</td>\n",
       "    </tr>\n",
       "    <tr>\n",
       "      <th>1</th>\n",
       "      <td>0.205742</td>\n",
       "      <td>(L_video)</td>\n",
       "    </tr>\n",
       "    <tr>\n",
       "      <th>2</th>\n",
       "      <td>0.212919</td>\n",
       "      <td>(R_-, R_x, L_screen, R_screen, L_x, R_format, L_format)</td>\n",
       "    </tr>\n",
       "    <tr>\n",
       "      <th>3</th>\n",
       "      <td>0.242424</td>\n",
       "      <td>(L_black)</td>\n",
       "    </tr>\n",
       "    <tr>\n",
       "      <th>4</th>\n",
       "      <td>0.200159</td>\n",
       "      <td>(R_-, L_-, R_x)</td>\n",
       "    </tr>\n",
       "    <tr>\n",
       "      <th>5</th>\n",
       "      <td>0.210526</td>\n",
       "      <td>(L_x, L_-, R_x)</td>\n",
       "    </tr>\n",
       "  </tbody>\n",
       "</table>\n",
       "</div>"
      ],
      "text/plain": [
       "    support  \\\n",
       "0  0.201754   \n",
       "1  0.205742   \n",
       "2  0.212919   \n",
       "3  0.242424   \n",
       "4  0.200159   \n",
       "5  0.210526   \n",
       "\n",
       "                                                                                         itemsets  \n",
       "0  (L_rear, R_x, R_projection, L_screen, R_screen, L_x, L_projection, R_rear, R_format, L_format)  \n",
       "1                                                                                       (L_video)  \n",
       "2                                         (R_-, R_x, L_screen, R_screen, L_x, R_format, L_format)  \n",
       "3                                                                                       (L_black)  \n",
       "4                                                                                 (R_-, L_-, R_x)  \n",
       "5                                                                                 (L_x, L_-, R_x)  "
      ]
     },
     "execution_count": 44,
     "metadata": {},
     "output_type": "execute_result"
    }
   ],
   "source": [
    "neg_pattern_on_title.head(10)"
   ]
  },
  {
   "cell_type": "code",
   "execution_count": 49,
   "metadata": {
    "ExecuteTime": {
     "end_time": "2020-05-11T15:43:13.708392Z",
     "start_time": "2020-05-11T15:43:12.949494Z"
    }
   },
   "outputs": [
    {
     "data": {
      "text/html": [
       "<div>\n",
       "<style scoped>\n",
       "    .dataframe tbody tr th:only-of-type {\n",
       "        vertical-align: middle;\n",
       "    }\n",
       "\n",
       "    .dataframe tbody tr th {\n",
       "        vertical-align: top;\n",
       "    }\n",
       "\n",
       "    .dataframe thead th {\n",
       "        text-align: right;\n",
       "    }\n",
       "</style>\n",
       "<table border=\"1\" class=\"dataframe\">\n",
       "  <thead>\n",
       "    <tr style=\"text-align: right;\">\n",
       "      <th></th>\n",
       "      <th>support</th>\n",
       "      <th>itemsets</th>\n",
       "    </tr>\n",
       "  </thead>\n",
       "  <tbody>\n",
       "    <tr>\n",
       "      <th>0</th>\n",
       "      <td>0.202142</td>\n",
       "      <td>(L_screen)</td>\n",
       "    </tr>\n",
       "    <tr>\n",
       "      <th>1</th>\n",
       "      <td>0.220884</td>\n",
       "      <td>(L_x, R_x)</td>\n",
       "    </tr>\n",
       "    <tr>\n",
       "      <th>2</th>\n",
       "      <td>0.224900</td>\n",
       "      <td>(L_black)</td>\n",
       "    </tr>\n",
       "    <tr>\n",
       "      <th>3</th>\n",
       "      <td>0.433735</td>\n",
       "      <td>(L_-)</td>\n",
       "    </tr>\n",
       "  </tbody>\n",
       "</table>\n",
       "</div>"
      ],
      "text/plain": [
       "    support    itemsets\n",
       "0  0.202142  (L_screen)\n",
       "1  0.220884  (L_x, R_x)\n",
       "2  0.224900   (L_black)\n",
       "3  0.433735       (L_-)"
      ]
     },
     "execution_count": 49,
     "metadata": {},
     "output_type": "execute_result"
    }
   ],
   "source": [
    "pos_pattern_on_title = getMaxFrequentPatterns(flippedneg[flippedneg.alteredAttributes==('title',)],\n",
    "                                             ['ltable_title','rtable_title'])\n",
    "pos_pattern_on_title.head(10)"
   ]
  },
  {
   "cell_type": "markdown",
   "metadata": {},
   "source": [
    "## Test pattern influence"
   ]
  },
  {
   "cell_type": "code",
   "execution_count": 8,
   "metadata": {
    "ExecuteTime": {
     "end_time": "2020-05-14T14:21:53.883453Z",
     "start_time": "2020-05-14T14:21:53.826194Z"
    }
   },
   "outputs": [
    {
     "data": {
      "text/plain": [
       "193"
      ]
     },
     "execution_count": 8,
     "metadata": {},
     "output_type": "execute_result"
    }
   ],
   "source": [
    "test_df = pd.read_csv(DATA_DIR+'merged_test.csv')\n",
    "positives = test_df[test_df.label==1].copy()\n",
    "len(positives)"
   ]
  },
  {
   "cell_type": "code",
   "execution_count": 10,
   "metadata": {
    "ExecuteTime": {
     "end_time": "2020-05-14T14:22:20.186555Z",
     "start_time": "2020-05-14T14:22:18.948815Z"
    }
   },
   "outputs": [
    {
     "data": {
      "text/plain": [
       "130"
      ]
     },
     "execution_count": 10,
     "metadata": {},
     "output_type": "execute_result"
    }
   ],
   "source": [
    "predictions = wrapDm(positives,rnn,['label'])\n",
    "np.count_nonzero(np.argmax(predictions,axis=1)==1)"
   ]
  },
  {
   "cell_type": "code",
   "execution_count": 18,
   "metadata": {
    "ExecuteTime": {
     "end_time": "2020-05-14T14:24:04.841146Z",
     "start_time": "2020-05-14T14:24:04.804931Z"
    }
   },
   "outputs": [],
   "source": [
    "positives = test_df[test_df.label==1].copy()\n",
    "positives['ltable_title'] =  positives['ltable_title']+ \" thru-the-wall tensioned\"\n",
    "positives['rtable_title'] =  positives['rtable_title']+ \" thru-the-wall tensioned\""
   ]
  },
  {
   "cell_type": "code",
   "execution_count": 19,
   "metadata": {
    "ExecuteTime": {
     "end_time": "2020-05-14T14:24:06.332594Z",
     "start_time": "2020-05-14T14:24:05.165518Z"
    }
   },
   "outputs": [
    {
     "data": {
      "text/plain": [
       "131"
      ]
     },
     "execution_count": 19,
     "metadata": {},
     "output_type": "execute_result"
    }
   ],
   "source": [
    "predictions = wrapDm(positives,rnn,['label'])\n",
    "np.count_nonzero(np.argmax(predictions,axis=1)==1)"
   ]
  },
  {
   "cell_type": "code",
   "execution_count": 20,
   "metadata": {
    "ExecuteTime": {
     "end_time": "2020-05-14T14:24:09.028646Z",
     "start_time": "2020-05-14T14:24:07.325213Z"
    }
   },
   "outputs": [
    {
     "data": {
      "text/plain": [
       "132"
      ]
     },
     "execution_count": 20,
     "metadata": {},
     "output_type": "execute_result"
    }
   ],
   "source": [
    "predictions = wrapDm(positives,hybrid,['label'])\n",
    "np.count_nonzero(np.argmax(predictions,axis=1)==1)"
   ]
  },
  {
   "cell_type": "code",
   "execution_count": null,
   "metadata": {},
   "outputs": [],
   "source": [
    "s = \"rear projection screen x format\""
   ]
  }
 ],
 "metadata": {
  "kernelspec": {
   "display_name": "Python 3",
   "language": "python",
   "name": "python3"
  },
  "language_info": {
   "codemirror_mode": {
    "name": "ipython",
    "version": 3
   },
   "file_extension": ".py",
   "mimetype": "text/x-python",
   "name": "python",
   "nbconvert_exporter": "python",
   "pygments_lexer": "ipython3",
   "version": "3.8.1"
  },
  "toc": {
   "base_numbering": 1,
   "nav_menu": {},
   "number_sections": true,
   "sideBar": true,
   "skip_h1_title": false,
   "title_cell": "Table of Contents",
   "title_sidebar": "Contents",
   "toc_cell": false,
   "toc_position": {
    "height": "calc(100% - 180px)",
    "left": "10px",
    "top": "150px",
    "width": "384px"
   },
   "toc_section_display": true,
   "toc_window_display": true
  }
 },
 "nbformat": 4,
 "nbformat_minor": 2
}

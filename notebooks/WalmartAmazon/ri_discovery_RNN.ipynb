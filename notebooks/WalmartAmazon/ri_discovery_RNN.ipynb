{
 "cells": [
  {
   "cell_type": "code",
   "execution_count": 1,
   "metadata": {},
   "outputs": [],
   "source": [
    "%load_ext autoreload\n",
    "%autoreload 2"
   ]
  },
  {
   "cell_type": "code",
   "execution_count": 2,
   "metadata": {},
   "outputs": [],
   "source": [
    "import sys\n",
    "sys.path.append(\"../..\")"
   ]
  },
  {
   "cell_type": "code",
   "execution_count": 3,
   "metadata": {},
   "outputs": [],
   "source": [
    "import deepmatcher as dm\n",
    "import pandas as pd"
   ]
  },
  {
   "cell_type": "markdown",
   "metadata": {},
   "source": [
    "## Dataset creation"
   ]
  },
  {
   "cell_type": "code",
   "execution_count": 4,
   "metadata": {},
   "outputs": [],
   "source": [
    "model = dm.MatchingModel(attr_summarizer='rnn')\n",
    "model.load_state('../../models/walmartamazon_rnn.pth')"
   ]
  },
  {
   "cell_type": "code",
   "execution_count": 7,
   "metadata": {},
   "outputs": [],
   "source": [
    "from utils.intermediate_layer_extraction import return_layer_input"
   ]
  },
  {
   "cell_type": "code",
   "execution_count": 8,
   "metadata": {},
   "outputs": [],
   "source": [
    "neg_classifier_inputs,neg_ids = return_layer_input('../../Structured/Walmart-Amazon/','negatives',\n",
    "                                                  batch_size=512,model=model,\n",
    "                                                   layer=model.classifier,\n",
    "                                                  device=-1)"
   ]
  },
  {
   "cell_type": "code",
   "execution_count": 9,
   "metadata": {},
   "outputs": [],
   "source": [
    "pos_classifier_inputs,pos_ids = return_layer_input('../../Structured/Walmart-Amazon/','positives',\n",
    "                                                  batch_size=512,model=model,\n",
    "                                                  layer=model.classifier,\n",
    "                                                  device=-1)"
   ]
  },
  {
   "cell_type": "code",
   "execution_count": 10,
   "metadata": {},
   "outputs": [],
   "source": [
    "testneg_classifier,testneg_ids = return_layer_input('../../Structured/Walmart-Amazon/','test_negatives',\n",
    "                                                  batch_size=128,model=model,\n",
    "                                                   layer=model.classifier,\n",
    "                                                  device=-1)"
   ]
  },
  {
   "cell_type": "code",
   "execution_count": 11,
   "metadata": {},
   "outputs": [],
   "source": [
    "testpos_classifier,testpos_ids = return_layer_input('../../Structured/Walmart-Amazon/','test_positives',\n",
    "                                                  batch_size=128,model=model,\n",
    "                                                  layer=model.classifier,\n",
    "                                                  device=-1)"
   ]
  },
  {
   "cell_type": "code",
   "execution_count": 12,
   "metadata": {},
   "outputs": [],
   "source": [
    "model = model.cuda()"
   ]
  },
  {
   "cell_type": "markdown",
   "metadata": {},
   "source": [
    "## Ri discovery"
   ]
  },
  {
   "cell_type": "markdown",
   "metadata": {},
   "source": [
    "### Negative samples analysis"
   ]
  },
  {
   "cell_type": "code",
   "execution_count": 14,
   "metadata": {},
   "outputs": [],
   "source": [
    "from utils.ri_calculator import computeRi"
   ]
  },
  {
   "cell_type": "code",
   "execution_count": 15,
   "metadata": {},
   "outputs": [],
   "source": [
    "attributes =['title','category','brand','modelno','price']\n",
    "classifier_len = len(pos_classifier_inputs[0][0])\n",
    "attribute_len = int(classifier_len/len(attributes))"
   ]
  },
  {
   "cell_type": "code",
   "execution_count": 16,
   "metadata": {},
   "outputs": [
    {
     "name": "stderr",
     "output_type": "stream",
     "text": [
      "100%|██████████| 128/128 [00:13<00:00,  9.37it/s]\n",
      "100%|██████████| 128/128 [00:12<00:00,  8.85it/s]\n",
      "100%|██████████| 128/128 [00:13<00:00,  7.95it/s]\n",
      "100%|██████████| 128/128 [00:12<00:00,  9.26it/s]\n",
      "100%|██████████| 128/128 [00:11<00:00, 11.60it/s]\n",
      "100%|██████████| 128/128 [00:12<00:00, 10.88it/s]\n",
      "100%|██████████| 64/64 [00:05<00:00, 10.97it/s]\n",
      "100%|██████████| 128/128 [00:14<00:00,  8.89it/s]\n",
      "100%|██████████| 128/128 [00:14<00:00,  9.14it/s]\n",
      "100%|██████████| 128/128 [00:13<00:00,  9.74it/s]\n",
      "100%|██████████| 128/128 [00:14<00:00,  8.63it/s]\n",
      "100%|██████████| 128/128 [00:12<00:00, 13.38it/s]\n",
      "100%|██████████| 128/128 [00:12<00:00, 10.13it/s]\n",
      "100%|██████████| 128/128 [00:12<00:00, 10.09it/s]\n",
      "100%|██████████| 128/128 [00:13<00:00,  9.45it/s]\n"
     ]
    }
   ],
   "source": [
    "neg_ri,neg_ri_norms = computeRi(model.classifier,attributes,testneg_classifier,attribute_len,1)"
   ]
  },
  {
   "cell_type": "code",
   "execution_count": 18,
   "metadata": {},
   "outputs": [
    {
     "data": {
      "text/plain": [
       "<matplotlib.axes._subplots.AxesSubplot at 0x7ff57ff209b0>"
      ]
     },
     "execution_count": 18,
     "metadata": {},
     "output_type": "execute_result"
    },
    {
     "data": {
      "image/png": "[encoded data removed]",
      "text/plain": [
       "<Figure size 432x288 with 1 Axes>"
      ]
     },
     "metadata": {
      "needs_background": "light"
     },
     "output_type": "display_data"
    }
   ],
   "source": [
    "negatives_variation_df = pd.DataFrame(data= neg_ri_norms,columns=attributes)\n",
    "negatives_variation_df.sum().plot.bar()"
   ]
  },
  {
   "cell_type": "code",
   "execution_count": 19,
   "metadata": {},
   "outputs": [],
   "source": [
    "negatives_variation_df.to_csv('experiment_results/testnegatives_ri_rnn.csv',index=False)"
   ]
  },
  {
   "cell_type": "markdown",
   "metadata": {},
   "source": [
    "### Positive samples analysis"
   ]
  },
  {
   "cell_type": "code",
   "execution_count": 20,
   "metadata": {},
   "outputs": [
    {
     "name": "stderr",
     "output_type": "stream",
     "text": [
      "100%|██████████| 65/65 [00:01<00:00, 41.55it/s]\n",
      "100%|██████████| 128/128 [00:03<00:00, 34.25it/s]\n"
     ]
    }
   ],
   "source": [
    "pos_ri,pos_ri_norms = computeRi(model.classifier,attributes,testpos_classifier,attribute_len,0)"
   ]
  },
  {
   "cell_type": "code",
   "execution_count": 21,
   "metadata": {},
   "outputs": [
    {
     "data": {
      "text/plain": [
       "<matplotlib.axes._subplots.AxesSubplot at 0x7ff5a9d09198>"
      ]
     },
     "execution_count": 21,
     "metadata": {},
     "output_type": "execute_result"
    },
    {
     "data": {
      "image/png": "[encoded data removed]",
      "text/plain": [
       "<Figure size 432x288 with 1 Axes>"
      ]
     },
     "metadata": {
      "needs_background": "light"
     },
     "output_type": "display_data"
    }
   ],
   "source": [
    "positives_variation_df = pd.DataFrame(data= pos_ri_norms,columns=attributes)\n",
    "positives_variation_df.sum(numeric_only=True).plot.bar()"
   ]
  },
  {
   "cell_type": "code",
   "execution_count": 22,
   "metadata": {},
   "outputs": [],
   "source": [
    "positives_variation_df.to_csv('experiment_results/testpositives_ri_rnn.csv',index=False)"
   ]
  },
  {
   "cell_type": "markdown",
   "metadata": {},
   "source": [
    "## Nearest neighbors"
   ]
  },
  {
   "cell_type": "code",
   "execution_count": 24,
   "metadata": {},
   "outputs": [],
   "source": [
    "from utils.distance_measures import calculate_nearest_neighbors_onAttributes"
   ]
  },
  {
   "cell_type": "code",
   "execution_count": 25,
   "metadata": {},
   "outputs": [
    {
     "name": "stderr",
     "output_type": "stream",
     "text": [
      "100%|██████████| 65/65 [00:00<00:00, 87.96it/s]\n",
      "100%|██████████| 128/128 [00:01<00:00, 106.88it/s]\n"
     ]
    }
   ],
   "source": [
    "positives_nn = calculate_nearest_neighbors_onAttributes(testpos_classifier,testpos_ids,pos_ri,\n",
    "                                                       neg_classifier_inputs,neg_ids,attributes,attribute_len,\n",
    "                                                       min_similarity=0.5)"
   ]
  },
  {
   "cell_type": "code",
   "execution_count": 26,
   "metadata": {},
   "outputs": [
    {
     "name": "stderr",
     "output_type": "stream",
     "text": [
      "100%|██████████| 128/128 [00:00<00:00, 524.52it/s]\n",
      "100%|██████████| 128/128 [00:00<00:00, 511.14it/s]\n",
      "100%|██████████| 128/128 [00:00<00:00, 537.99it/s]\n",
      "100%|██████████| 128/128 [00:00<00:00, 485.39it/s]\n",
      "100%|██████████| 128/128 [00:00<00:00, 527.48it/s]\n",
      "100%|██████████| 128/128 [00:00<00:00, 523.63it/s]\n",
      "100%|██████████| 64/64 [00:00<00:00, 467.83it/s]\n",
      "100%|██████████| 128/128 [00:00<00:00, 506.49it/s]\n",
      "100%|██████████| 128/128 [00:00<00:00, 492.01it/s]\n",
      "100%|██████████| 128/128 [00:00<00:00, 465.65it/s]\n",
      "100%|██████████| 128/128 [00:00<00:00, 507.10it/s]\n",
      "100%|██████████| 128/128 [00:00<00:00, 482.35it/s]\n",
      "100%|██████████| 128/128 [00:00<00:00, 525.32it/s]\n",
      "100%|██████████| 128/128 [00:00<00:00, 524.56it/s]\n",
      "100%|██████████| 128/128 [00:00<00:00, 511.96it/s]\n"
     ]
    }
   ],
   "source": [
    "negatives_nn = calculate_nearest_neighbors_onAttributes(testneg_classifier,testneg_ids,\n",
    "                                                              neg_ri,pos_classifier_inputs,\n",
    "                                                              pos_ids,attributes,attribute_len,min_similarity=0.5)"
   ]
  },
  {
   "cell_type": "code",
   "execution_count": 27,
   "metadata": {},
   "outputs": [],
   "source": [
    "negatives_nn.to_csv('experiment_results/testneg_nn_rnn_withfilter.csv',index=False)\n",
    "positives_nn.to_csv('experiment_results/testpos_nn_rnn_withfilter.csv',index=False)"
   ]
  },
  {
   "cell_type": "code",
   "execution_count": null,
   "metadata": {},
   "outputs": [],
   "source": []
  }
 ],
 "metadata": {
  "kernelspec": {
   "display_name": "Python 3",
   "language": "python",
   "name": "python3"
  },
  "language_info": {
   "codemirror_mode": {
    "name": "ipython",
    "version": 3
   },
   "file_extension": ".py",
   "mimetype": "text/x-python",
   "name": "python",
   "nbconvert_exporter": "python",
   "pygments_lexer": "ipython3",
   "version": "3.6.9"
  }
 },
 "nbformat": 4,
 "nbformat_minor": 2
}

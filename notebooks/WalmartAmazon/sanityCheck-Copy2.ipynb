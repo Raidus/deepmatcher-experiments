{
 "cells": [
  {
   "cell_type": "code",
   "execution_count": 1,
   "metadata": {},
   "outputs": [],
   "source": [
    "%load_ext autoreload\n",
    "%autoreload 2"
   ]
  },
  {
   "cell_type": "code",
   "execution_count": 2,
   "metadata": {},
   "outputs": [],
   "source": [
    "import sys\n",
    "sys.path.append('../..')"
   ]
  },
  {
   "cell_type": "code",
   "execution_count": 3,
   "metadata": {},
   "outputs": [],
   "source": [
    "from utils.intermediate_layer_extraction import return_layer_input\n",
    "from utils.ri_calculator import computeRi,computeRiNaif\n",
    "import deepmatcher as dm\n",
    "import torch\n",
    "from tqdm import tqdm\n",
    "import pandas as pd"
   ]
  },
  {
   "cell_type": "code",
   "execution_count": 6,
   "metadata": {},
   "outputs": [],
   "source": [
    "hybrid_model = dm.MatchingModel(attr_summarizer='hybrid')\n",
    "hybrid_model.load_state('../../models/walmartamazon_hybrid.pth')"
   ]
  },
  {
   "cell_type": "code",
   "execution_count": 8,
   "metadata": {},
   "outputs": [],
   "source": [
    "negatives,neg_ids = return_layer_input('../../Structured/Walmart-Amazon/','test_negatives',128,\n",
    "                                      hybrid_model,hybrid_model.classifier,device=-1)"
   ]
  },
  {
   "cell_type": "code",
   "execution_count": 9,
   "metadata": {},
   "outputs": [],
   "source": [
    "positives,pos_ids = return_layer_input('../../Structured/Walmart-Amazon','test_positives',128,\n",
    "                                      hybrid_model,hybrid_model.classifier,device=-1)"
   ]
  },
  {
   "cell_type": "code",
   "execution_count": 10,
   "metadata": {},
   "outputs": [],
   "source": [
    "hybrid_model = hybrid_model.cuda()"
   ]
  },
  {
   "cell_type": "markdown",
   "metadata": {},
   "source": [
    "## Compare naif approach with gradient approach"
   ]
  },
  {
   "cell_type": "markdown",
   "metadata": {},
   "source": [
    "### Negatives"
   ]
  },
  {
   "cell_type": "code",
   "execution_count": 11,
   "metadata": {},
   "outputs": [],
   "source": [
    "def compareMethods(df1,df2,columns):\n",
    "    best1,best2 = (0,0)\n",
    "    for i in df1.index:\n",
    "        for col in columns:\n",
    "            lval = df1.at[i,col]\n",
    "            rval = df2.at[i,col]\n",
    "            if(lval == 0 and rval >0) or(rval <lval and rval >0):\n",
    "                best2+=1\n",
    "            elif(rval ==0 and lval >0)or(lval < rval and lval >0):\n",
    "                best1+=1\n",
    "    return (best1,best2)"
   ]
  },
  {
   "cell_type": "code",
   "execution_count": 13,
   "metadata": {},
   "outputs": [],
   "source": [
    "attributes = ['title','category','brand','modelno','price']\n",
    "attribute_len = int(len(negatives[0][0])/len(attributes))"
   ]
  },
  {
   "cell_type": "code",
   "execution_count": 14,
   "metadata": {},
   "outputs": [
    {
     "name": "stderr",
     "output_type": "stream",
     "text": [
      "100%|██████████| 128/128 [00:17<00:00,  7.23it/s]\n",
      "100%|██████████| 128/128 [00:19<00:00,  6.73it/s]\n",
      "100%|██████████| 128/128 [00:17<00:00,  7.34it/s]\n",
      "100%|██████████| 128/128 [00:16<00:00,  7.61it/s]\n",
      "100%|██████████| 128/128 [00:15<00:00,  8.24it/s]\n",
      "100%|██████████| 64/64 [00:07<00:00,  8.41it/s]\n",
      "100%|██████████| 128/128 [00:15<00:00,  8.42it/s]\n",
      "100%|██████████| 128/128 [00:14<00:00,  8.81it/s]\n",
      "100%|██████████| 128/128 [00:14<00:00,  8.72it/s]\n",
      "100%|██████████| 128/128 [00:15<00:00,  8.33it/s]\n",
      "100%|██████████| 128/128 [00:15<00:00,  8.29it/s]\n",
      "100%|██████████| 128/128 [00:14<00:00,  8.57it/s]\n",
      "100%|██████████| 128/128 [00:14<00:00,  8.92it/s]\n",
      "100%|██████████| 128/128 [00:15<00:00,  8.23it/s]\n",
      "100%|██████████| 128/128 [00:14<00:00,  9.08it/s]\n"
     ]
    }
   ],
   "source": [
    "neg_ri,neg_ri_norms = computeRi(hybrid_model.classifier,attributes,negatives,attribute_len,1)"
   ]
  },
  {
   "cell_type": "code",
   "execution_count": 15,
   "metadata": {},
   "outputs": [
    {
     "name": "stderr",
     "output_type": "stream",
     "text": [
      "100%|██████████| 128/128 [00:09<00:00, 13.55it/s]\n",
      "100%|██████████| 128/128 [00:08<00:00, 14.46it/s]\n",
      "100%|██████████| 128/128 [00:08<00:00, 14.81it/s]\n",
      "100%|██████████| 128/128 [00:08<00:00, 15.11it/s]\n",
      "100%|██████████| 128/128 [00:08<00:00, 15.05it/s]\n",
      "100%|██████████| 64/64 [00:04<00:00, 15.09it/s]\n",
      "100%|██████████| 128/128 [00:08<00:00, 14.92it/s]\n",
      "100%|██████████| 128/128 [00:09<00:00, 14.08it/s]\n",
      "100%|██████████| 128/128 [00:08<00:00, 15.03it/s]\n",
      "100%|██████████| 128/128 [00:08<00:00, 15.03it/s]\n",
      "100%|██████████| 128/128 [00:08<00:00, 15.23it/s]\n",
      "100%|██████████| 128/128 [00:08<00:00, 14.97it/s]\n",
      "100%|██████████| 128/128 [00:08<00:00, 14.26it/s]\n",
      "100%|██████████| 128/128 [00:08<00:00, 15.40it/s]\n",
      "100%|██████████| 128/128 [00:09<00:00, 14.03it/s]\n"
     ]
    }
   ],
   "source": [
    "neg_ri_naif,neg_ri_norms_naif = computeRiNaif(negatives,positives,1,hybrid_model.classifier,attributes,attribute_len)"
   ]
  },
  {
   "cell_type": "code",
   "execution_count": 16,
   "metadata": {},
   "outputs": [],
   "source": [
    "neg_variation_gradient = pd.DataFrame(data= neg_ri_norms,columns=attributes)\n",
    "neg_variation_naif = pd.DataFrame(data= neg_ri_norms_naif,columns=attributes)"
   ]
  },
  {
   "cell_type": "code",
   "execution_count": 17,
   "metadata": {},
   "outputs": [
    {
     "data": {
      "text/plain": [
       "(7594, 1011)"
      ]
     },
     "execution_count": 17,
     "metadata": {},
     "output_type": "execute_result"
    }
   ],
   "source": [
    "compareMethods(neg_variation_gradient,neg_variation_naif,attributes)"
   ]
  },
  {
   "cell_type": "markdown",
   "metadata": {},
   "source": [
    "### Positives"
   ]
  },
  {
   "cell_type": "code",
   "execution_count": 18,
   "metadata": {},
   "outputs": [
    {
     "name": "stderr",
     "output_type": "stream",
     "text": [
      " 40%|████      | 26/65 [00:03<00:08,  4.71it/s]"
     ]
    },
    {
     "name": "stdout",
     "output_type": "stream",
     "text": [
      "can't converge in 100 iterations\n"
     ]
    },
    {
     "name": "stderr",
     "output_type": "stream",
     "text": [
      " 52%|█████▏    | 34/65 [00:05<00:06,  4.68it/s]"
     ]
    },
    {
     "name": "stdout",
     "output_type": "stream",
     "text": [
      "can't converge in 100 iterations\n"
     ]
    },
    {
     "name": "stderr",
     "output_type": "stream",
     "text": [
      "\r",
      " 54%|█████▍    | 35/65 [00:05<00:09,  3.26it/s]"
     ]
    },
    {
     "name": "stdout",
     "output_type": "stream",
     "text": [
      "can't converge in 100 iterations\n"
     ]
    },
    {
     "name": "stderr",
     "output_type": "stream",
     "text": [
      "\r",
      " 57%|█████▋    | 37/65 [00:06<00:09,  3.11it/s]"
     ]
    },
    {
     "name": "stdout",
     "output_type": "stream",
     "text": [
      "can't converge in 100 iterations\n"
     ]
    },
    {
     "name": "stderr",
     "output_type": "stream",
     "text": [
      "\r",
      " 58%|█████▊    | 38/65 [00:07<00:10,  2.61it/s]"
     ]
    },
    {
     "name": "stdout",
     "output_type": "stream",
     "text": [
      "can't converge in 100 iterations\n"
     ]
    },
    {
     "name": "stderr",
     "output_type": "stream",
     "text": [
      " 80%|████████  | 52/65 [00:08<00:02,  5.29it/s]"
     ]
    },
    {
     "name": "stdout",
     "output_type": "stream",
     "text": [
      "can't converge in 100 iterations\n"
     ]
    },
    {
     "name": "stderr",
     "output_type": "stream",
     "text": [
      "100%|██████████| 65/65 [00:10<00:00,  6.06it/s]\n",
      "  3%|▎         | 4/128 [00:01<00:36,  3.40it/s]"
     ]
    },
    {
     "name": "stdout",
     "output_type": "stream",
     "text": [
      "can't converge in 100 iterations\n"
     ]
    },
    {
     "name": "stderr",
     "output_type": "stream",
     "text": [
      "\r",
      "  5%|▌         | 7/128 [00:01<00:34,  3.47it/s]"
     ]
    },
    {
     "name": "stdout",
     "output_type": "stream",
     "text": [
      "can't converge in 100 iterations\n"
     ]
    },
    {
     "name": "stderr",
     "output_type": "stream",
     "text": [
      "\r",
      "  6%|▋         | 8/128 [00:02<00:34,  3.44it/s]"
     ]
    },
    {
     "name": "stdout",
     "output_type": "stream",
     "text": [
      "can't converge in 100 iterations\n"
     ]
    },
    {
     "name": "stderr",
     "output_type": "stream",
     "text": [
      " 16%|█▋        | 21/128 [00:04<00:23,  4.60it/s]"
     ]
    },
    {
     "name": "stdout",
     "output_type": "stream",
     "text": [
      "can't converge in 100 iterations\n"
     ]
    },
    {
     "name": "stderr",
     "output_type": "stream",
     "text": [
      " 21%|██        | 27/128 [00:05<00:24,  4.08it/s]"
     ]
    },
    {
     "name": "stdout",
     "output_type": "stream",
     "text": [
      "can't converge in 100 iterations\n"
     ]
    },
    {
     "name": "stderr",
     "output_type": "stream",
     "text": [
      " 23%|██▎       | 29/128 [00:06<00:31,  3.17it/s]"
     ]
    },
    {
     "name": "stdout",
     "output_type": "stream",
     "text": [
      "can't converge in 100 iterations\n"
     ]
    },
    {
     "name": "stderr",
     "output_type": "stream",
     "text": [
      " 28%|██▊       | 36/128 [00:08<00:28,  3.24it/s]"
     ]
    },
    {
     "name": "stdout",
     "output_type": "stream",
     "text": [
      "can't converge in 100 iterations\n"
     ]
    },
    {
     "name": "stderr",
     "output_type": "stream",
     "text": [
      " 35%|███▌      | 45/128 [00:09<00:20,  4.06it/s]"
     ]
    },
    {
     "name": "stdout",
     "output_type": "stream",
     "text": [
      "can't converge in 100 iterations\n"
     ]
    },
    {
     "name": "stderr",
     "output_type": "stream",
     "text": [
      " 44%|████▍     | 56/128 [00:11<00:20,  3.58it/s]"
     ]
    },
    {
     "name": "stdout",
     "output_type": "stream",
     "text": [
      "can't converge in 100 iterations\n"
     ]
    },
    {
     "name": "stderr",
     "output_type": "stream",
     "text": [
      " 75%|███████▌  | 96/128 [00:17<00:06,  5.05it/s]"
     ]
    },
    {
     "name": "stdout",
     "output_type": "stream",
     "text": [
      "can't converge in 100 iterations\n"
     ]
    },
    {
     "name": "stderr",
     "output_type": "stream",
     "text": [
      "\r",
      " 78%|███████▊  | 100/128 [00:17<00:05,  5.19it/s]"
     ]
    },
    {
     "name": "stdout",
     "output_type": "stream",
     "text": [
      "can't converge in 100 iterations\n"
     ]
    },
    {
     "name": "stderr",
     "output_type": "stream",
     "text": [
      " 83%|████████▎ | 106/128 [00:19<00:04,  4.68it/s]"
     ]
    },
    {
     "name": "stdout",
     "output_type": "stream",
     "text": [
      "can't converge in 100 iterations\n"
     ]
    },
    {
     "name": "stderr",
     "output_type": "stream",
     "text": [
      " 88%|████████▊ | 112/128 [00:20<00:04,  3.83it/s]"
     ]
    },
    {
     "name": "stdout",
     "output_type": "stream",
     "text": [
      "can't converge in 100 iterations\n"
     ]
    },
    {
     "name": "stderr",
     "output_type": "stream",
     "text": [
      "100%|██████████| 128/128 [00:22<00:00,  5.60it/s]"
     ]
    },
    {
     "name": "stdout",
     "output_type": "stream",
     "text": [
      "can't converge in 100 iterations\n"
     ]
    },
    {
     "name": "stderr",
     "output_type": "stream",
     "text": [
      "\n"
     ]
    }
   ],
   "source": [
    "pos_ri,pos_ri_norms = computeRi(hybrid_model.classifier,attributes,positives,attribute_len,0)"
   ]
  },
  {
   "cell_type": "code",
   "execution_count": 19,
   "metadata": {},
   "outputs": [
    {
     "name": "stderr",
     "output_type": "stream",
     "text": [
      "100%|██████████| 65/65 [01:06<00:00,  1.02s/it]\n",
      "100%|██████████| 128/128 [02:04<00:00,  1.03it/s]\n"
     ]
    }
   ],
   "source": [
    "pos_ri_naif,pos_ri_norms_naif = computeRiNaif(positives,negatives,0,hybrid_model.classifier,attributes,attribute_len)"
   ]
  },
  {
   "cell_type": "code",
   "execution_count": 20,
   "metadata": {},
   "outputs": [],
   "source": [
    "pos_perturbations_gradient = pd.DataFrame(data= pos_ri_norms,columns=attributes)\n",
    "pos_perturbations_naif = pd.DataFrame(data= pos_ri_norms_naif,columns=attributes)"
   ]
  },
  {
   "cell_type": "code",
   "execution_count": 21,
   "metadata": {},
   "outputs": [
    {
     "data": {
      "text/plain": [
       "(570, 8)"
      ]
     },
     "execution_count": 21,
     "metadata": {},
     "output_type": "execute_result"
    }
   ],
   "source": [
    "compareMethods(pos_perturbations_gradient,pos_perturbations_naif,attributes)"
   ]
  },
  {
   "cell_type": "code",
   "execution_count": 27,
   "metadata": {},
   "outputs": [],
   "source": [
    "!jt -t monokai"
   ]
  },
  {
   "cell_type": "code",
   "execution_count": null,
   "metadata": {},
   "outputs": [],
   "source": []
  }
 ],
 "metadata": {
  "kernelspec": {
   "display_name": "Python 3",
   "language": "python",
   "name": "python3"
  },
  "language_info": {
   "codemirror_mode": {
    "name": "ipython",
    "version": 3
   },
   "file_extension": ".py",
   "mimetype": "text/x-python",
   "name": "python",
   "nbconvert_exporter": "python",
   "pygments_lexer": "ipython3",
   "version": "3.6.9"
  }
 },
 "nbformat": 4,
 "nbformat_minor": 2
}

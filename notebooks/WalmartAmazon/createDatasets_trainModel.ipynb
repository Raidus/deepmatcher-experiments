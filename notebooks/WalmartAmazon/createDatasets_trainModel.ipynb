{
 "cells": [
  {
   "cell_type": "code",
   "execution_count": 1,
   "metadata": {},
   "outputs": [],
   "source": [
    "import sys\n",
    "sys.path.append(\"../..\")"
   ]
  },
  {
   "cell_type": "code",
   "execution_count": 2,
   "metadata": {},
   "outputs": [],
   "source": [
    "import deepmatcher as dm\n",
    "from utilities_functions.dataset_parser import generate_train_valid_test"
   ]
  },
  {
   "cell_type": "code",
   "execution_count": 8,
   "metadata": {},
   "outputs": [],
   "source": [
    "train,valid,test = generate_train_valid_test('../Structured/Walmart-Amazon/','ltable_','rtable_')\n",
    "train.to_csv('../Structured/Walmart-Amazon/merged_train.csv',index=False)\n",
    "valid.to_csv('../Structured/Walmart-Amazon/merged_valid.csv',index=False)\n",
    "test.to_csv('../Structured/Walmart-Amazon/merged_test.csv',index=False)"
   ]
  },
  {
   "cell_type": "code",
   "execution_count": 11,
   "metadata": {},
   "outputs": [
    {
     "data": {
      "text/plain": [
       "((576, 12), (5568, 12))"
      ]
     },
     "execution_count": 11,
     "metadata": {},
     "output_type": "execute_result"
    }
   ],
   "source": [
    "train_pos = train[train['label']==1]\n",
    "train_neg = train[train['label']==0]\n",
    "train_pos.shape,train_neg.shape"
   ]
  },
  {
   "cell_type": "code",
   "execution_count": 9,
   "metadata": {},
   "outputs": [],
   "source": [
    "test_pos = test[test['label']==1]\n",
    "test_neg = test[test['label']==0]"
   ]
  },
  {
   "cell_type": "code",
   "execution_count": 10,
   "metadata": {},
   "outputs": [],
   "source": [
    "test_pos.to_csv('../Structured/Walmart-Amazon/test_positives.csv',index=False)\n",
    "test_neg.to_csv('../Structured/Walmart-Amazon/test_negatives.csv',index=False)"
   ]
  },
  {
   "cell_type": "markdown",
   "metadata": {},
   "source": [
    "## Hybrid training"
   ]
  },
  {
   "cell_type": "code",
   "execution_count": 4,
   "metadata": {},
   "outputs": [
    {
     "name": "stderr",
     "output_type": "stream",
     "text": [
      "WARNING:deepmatcher.data.dataset:Rebuilding data cache because: ['One or more data files have been modified.']\n"
     ]
    }
   ],
   "source": [
    "train,valid,test = dm.data.process('../../Structured/Walmart-Amazon',train='merged_train.csv'\n",
    "                                   ,validation='merged_valid.csv',test='merged_test.csv',\n",
    "                                   left_prefix='ltable_',right_prefix='rtable_')"
   ]
  },
  {
   "cell_type": "code",
   "execution_count": 16,
   "metadata": {},
   "outputs": [],
   "source": [
    "hybrid_model = dm.MatchingModel(attr_summarizer='hybrid')\n",
    "hybrid_model.run_train(train,valid,best_save_path='../models/walmartamazon_hybrid2.pth',epochs=20,pos_neg_ratio=5,batch_size=32,\n",
    "                      progress_style='bar')"
   ]
  },
  {
   "cell_type": "code",
   "execution_count": 19,
   "metadata": {},
   "outputs": [
    {
     "name": "stdout",
     "output_type": "stream",
     "text": [
      "===>  EVAL Epoch 16\n",
      "Finished Epoch 16 || Run Time:    3.8 | Load Time:    2.2 || F1:  64.94 | Prec:  65.10 | Rec:  64.77 || Ex/s: 342.75\n",
      "\n"
     ]
    },
    {
     "data": {
      "text/plain": [
       "64.93506493506494"
      ]
     },
     "execution_count": 19,
     "metadata": {},
     "output_type": "execute_result"
    }
   ],
   "source": [
    "hybrid_model.run_eval(test)"
   ]
  },
  {
   "cell_type": "markdown",
   "metadata": {},
   "source": [
    "## Rnn training"
   ]
  },
  {
   "cell_type": "code",
   "execution_count": 6,
   "metadata": {},
   "outputs": [
    {
     "name": "stdout",
     "output_type": "stream",
     "text": [
      "* Number of trainable parameters: 2576402\n",
      "===>  TRAIN Epoch 1\n",
      "Finished Epoch 1 || Run Time:   16.4 | Load Time:   11.0 || F1:  34.11 | Prec:  26.81 | Rec:  46.88 || Ex/s: 223.61\n",
      "\n",
      "===>  EVAL Epoch 1\n",
      "Finished Epoch 1 || Run Time:    1.3 | Load Time:    2.4 || F1:  51.93 | Prec:  44.32 | Rec:  62.69 || Ex/s: 555.27\n",
      "\n",
      "* Best F1: 51.931330472103\n",
      "Saving best model...\n",
      "Done.\n",
      "---------------------\n",
      "\n",
      "===>  TRAIN Epoch 2\n",
      "Finished Epoch 2 || Run Time:   16.4 | Load Time:   11.0 || F1:  62.83 | Prec:  49.40 | Rec:  86.28 || Ex/s: 223.70\n",
      "\n",
      "===>  EVAL Epoch 2\n",
      "Finished Epoch 2 || Run Time:    1.2 | Load Time:    2.4 || F1:  59.56 | Prec:  48.68 | Rec:  76.68 || Ex/s: 559.58\n",
      "\n",
      "* Best F1: 59.557344064386314\n",
      "Saving best model...\n",
      "Done.\n",
      "---------------------\n",
      "\n",
      "===>  TRAIN Epoch 3\n",
      "Finished Epoch 3 || Run Time:   16.4 | Load Time:   11.0 || F1:  80.59 | Prec:  69.90 | Rec:  95.14 || Ex/s: 224.07\n",
      "\n",
      "===>  EVAL Epoch 3\n",
      "Finished Epoch 3 || Run Time:    1.2 | Load Time:    2.4 || F1:  62.97 | Prec:  55.04 | Rec:  73.58 || Ex/s: 564.58\n",
      "\n",
      "* Best F1: 62.97117516629712\n",
      "Saving best model...\n",
      "Done.\n",
      "---------------------\n",
      "\n",
      "===>  TRAIN Epoch 4\n",
      "Finished Epoch 4 || Run Time:   16.5 | Load Time:   10.9 || F1:  92.41 | Prec:  87.21 | Rec:  98.26 || Ex/s: 223.64\n",
      "\n",
      "===>  EVAL Epoch 4\n",
      "Finished Epoch 4 || Run Time:    1.2 | Load Time:    2.4 || F1:  67.33 | Prec:  64.45 | Rec:  70.47 || Ex/s: 575.21\n",
      "\n",
      "* Best F1: 67.32673267326733\n",
      "Saving best model...\n",
      "Done.\n",
      "---------------------\n",
      "\n",
      "===>  TRAIN Epoch 5\n",
      "Finished Epoch 5 || Run Time:   16.2 | Load Time:   10.9 || F1:  97.45 | Prec:  95.35 | Rec:  99.65 || Ex/s: 227.43\n",
      "\n",
      "===>  EVAL Epoch 5\n",
      "Finished Epoch 5 || Run Time:    1.2 | Load Time:    2.4 || F1:  69.23 | Prec:  68.53 | Rec:  69.95 || Ex/s: 578.33\n",
      "\n",
      "* Best F1: 69.23076923076923\n",
      "Saving best model...\n",
      "Done.\n",
      "---------------------\n",
      "\n",
      "===>  TRAIN Epoch 6\n",
      "Finished Epoch 6 || Run Time:   15.9 | Load Time:   10.7 || F1:  98.88 | Prec:  97.96 | Rec:  99.83 || Ex/s: 230.78\n",
      "\n",
      "===>  EVAL Epoch 6\n",
      "Finished Epoch 6 || Run Time:    1.2 | Load Time:    2.3 || F1:  68.91 | Prec:  68.91 | Rec:  68.91 || Ex/s: 585.76\n",
      "\n",
      "---------------------\n",
      "\n",
      "===>  TRAIN Epoch 7\n",
      "Finished Epoch 7 || Run Time:   16.2 | Load Time:   10.8 || F1:  99.31 | Prec:  98.63 | Rec: 100.00 || Ex/s: 228.24\n",
      "\n",
      "===>  EVAL Epoch 7\n",
      "Finished Epoch 7 || Run Time:    1.2 | Load Time:    2.4 || F1:  68.73 | Prec:  68.56 | Rec:  68.91 || Ex/s: 579.04\n",
      "\n",
      "---------------------\n",
      "\n",
      "===>  TRAIN Epoch 8\n",
      "Finished Epoch 8 || Run Time:   16.4 | Load Time:   11.0 || F1:  99.74 | Prec:  99.48 | Rec: 100.00 || Ex/s: 224.42\n",
      "\n",
      "===>  EVAL Epoch 8\n",
      "Finished Epoch 8 || Run Time:    1.3 | Load Time:    2.5 || F1:  68.49 | Prec:  72.67 | Rec:  64.77 || Ex/s: 547.42\n",
      "\n",
      "---------------------\n",
      "\n",
      "===>  TRAIN Epoch 9\n",
      "Finished Epoch 9 || Run Time:   16.5 | Load Time:   11.0 || F1:  99.91 | Prec:  99.83 | Rec: 100.00 || Ex/s: 223.13\n",
      "\n",
      "===>  EVAL Epoch 9\n",
      "Finished Epoch 9 || Run Time:    1.1 | Load Time:    2.3 || F1:  68.66 | Prec:  72.41 | Rec:  65.28 || Ex/s: 591.13\n",
      "\n",
      "---------------------\n",
      "\n",
      "===>  TRAIN Epoch 10\n",
      "Finished Epoch 10 || Run Time:   16.2 | Load Time:   10.8 || F1:  99.74 | Prec:  99.48 | Rec: 100.00 || Ex/s: 228.04\n",
      "\n",
      "===>  EVAL Epoch 10\n",
      "Finished Epoch 10 || Run Time:    1.2 | Load Time:    2.4 || F1:  68.85 | Prec:  72.83 | Rec:  65.28 || Ex/s: 571.96\n",
      "\n",
      "---------------------\n",
      "\n",
      "===>  TRAIN Epoch 11\n",
      "Finished Epoch 11 || Run Time:   16.0 | Load Time:   10.8 || F1:  99.83 | Prec:  99.65 | Rec: 100.00 || Ex/s: 228.94\n",
      "\n",
      "===>  EVAL Epoch 11\n",
      "Finished Epoch 11 || Run Time:    1.2 | Load Time:    2.4 || F1:  69.42 | Prec:  74.12 | Rec:  65.28 || Ex/s: 563.45\n",
      "\n",
      "* Best F1: 69.42148760330579\n",
      "Saving best model...\n",
      "Done.\n",
      "---------------------\n",
      "\n",
      "===>  TRAIN Epoch 12\n",
      "Finished Epoch 12 || Run Time:   16.1 | Load Time:   10.8 || F1:  99.91 | Prec:  99.83 | Rec: 100.00 || Ex/s: 227.82\n",
      "\n",
      "===>  EVAL Epoch 12\n",
      "Finished Epoch 12 || Run Time:    1.3 | Load Time:    2.4 || F1:  69.25 | Prec:  74.40 | Rec:  64.77 || Ex/s: 552.56\n",
      "\n",
      "---------------------\n",
      "\n",
      "===>  TRAIN Epoch 13\n",
      "Finished Epoch 13 || Run Time:   15.5 | Load Time:    9.8 || F1:  99.91 | Prec:  99.83 | Rec: 100.00 || Ex/s: 243.54\n",
      "\n",
      "===>  EVAL Epoch 13\n",
      "Finished Epoch 13 || Run Time:    1.1 | Load Time:    2.2 || F1:  69.61 | Prec:  74.56 | Rec:  65.28 || Ex/s: 611.19\n",
      "\n",
      "* Best F1: 69.61325966850828\n",
      "Saving best model...\n",
      "Done.\n",
      "---------------------\n",
      "\n",
      "===>  TRAIN Epoch 14\n",
      "Finished Epoch 14 || Run Time:   16.6 | Load Time:   11.0 || F1:  99.91 | Prec:  99.83 | Rec: 100.00 || Ex/s: 222.17\n",
      "\n",
      "===>  EVAL Epoch 14\n",
      "Finished Epoch 14 || Run Time:    1.2 | Load Time:    2.4 || F1:  70.03 | Prec:  76.22 | Rec:  64.77 || Ex/s: 568.46\n",
      "\n",
      "* Best F1: 70.02801120448179\n",
      "Saving best model...\n",
      "Done.\n",
      "---------------------\n",
      "\n",
      "===>  TRAIN Epoch 15\n",
      "Finished Epoch 15 || Run Time:   16.4 | Load Time:   11.0 || F1:  99.91 | Prec:  99.83 | Rec: 100.00 || Ex/s: 224.09\n",
      "\n",
      "===>  EVAL Epoch 15\n",
      "Finished Epoch 15 || Run Time:    1.2 | Load Time:    2.4 || F1:  70.22 | Prec:  76.69 | Rec:  64.77 || Ex/s: 559.35\n",
      "\n",
      "* Best F1: 70.22471910112361\n",
      "Saving best model...\n",
      "Done.\n",
      "---------------------\n",
      "\n",
      "===>  TRAIN Epoch 16\n",
      "Finished Epoch 16 || Run Time:   16.2 | Load Time:   10.8 || F1:  99.91 | Prec:  99.83 | Rec: 100.00 || Ex/s: 227.61\n",
      "\n",
      "===>  EVAL Epoch 16\n",
      "Finished Epoch 16 || Run Time:    1.2 | Load Time:    2.3 || F1:  69.86 | Prec:  76.54 | Rec:  64.25 || Ex/s: 588.72\n",
      "\n",
      "---------------------\n",
      "\n",
      "===>  TRAIN Epoch 17\n",
      "Finished Epoch 17 || Run Time:   16.4 | Load Time:   10.9 || F1: 100.00 | Prec: 100.00 | Rec: 100.00 || Ex/s: 225.70\n",
      "\n",
      "===>  EVAL Epoch 17\n",
      "Finished Epoch 17 || Run Time:    1.2 | Load Time:    2.4 || F1:  70.06 | Prec:  77.02 | Rec:  64.25 || Ex/s: 566.03\n",
      "\n",
      "---------------------\n",
      "\n",
      "===>  TRAIN Epoch 18\n",
      "Finished Epoch 18 || Run Time:   16.2 | Load Time:   10.9 || F1: 100.00 | Prec: 100.00 | Rec: 100.00 || Ex/s: 226.39\n",
      "\n",
      "===>  EVAL Epoch 18\n",
      "Finished Epoch 18 || Run Time:    1.3 | Load Time:    2.4 || F1:  70.06 | Prec:  77.02 | Rec:  64.25 || Ex/s: 555.46\n",
      "\n",
      "---------------------\n",
      "\n",
      "===>  TRAIN Epoch 19\n",
      "Finished Epoch 19 || Run Time:   16.3 | Load Time:   10.9 || F1: 100.00 | Prec: 100.00 | Rec: 100.00 || Ex/s: 226.41\n",
      "\n",
      "===>  EVAL Epoch 19\n",
      "Finished Epoch 19 || Run Time:    1.2 | Load Time:    2.4 || F1:  70.06 | Prec:  77.02 | Rec:  64.25 || Ex/s: 559.37\n",
      "\n",
      "---------------------\n",
      "\n",
      "===>  TRAIN Epoch 20\n",
      "Finished Epoch 20 || Run Time:   16.3 | Load Time:   10.8 || F1: 100.00 | Prec: 100.00 | Rec: 100.00 || Ex/s: 226.64\n",
      "\n",
      "===>  EVAL Epoch 20\n",
      "Finished Epoch 20 || Run Time:    1.3 | Load Time:    2.5 || F1:  70.06 | Prec:  77.02 | Rec:  64.25 || Ex/s: 545.42\n",
      "\n",
      "---------------------\n",
      "\n",
      "Loading best model...\n",
      "Training done.\n"
     ]
    },
    {
     "data": {
      "text/plain": [
       "70.22471910112361"
      ]
     },
     "execution_count": 6,
     "metadata": {},
     "output_type": "execute_result"
    }
   ],
   "source": [
    "rnn_model = dm.MatchingModel(attr_summarizer='rnn')\n",
    "rnn_model.run_train(train,valid,best_save_path='../../models/walmartamazon_rnn.pth',epochs=20\n",
    "                    ,pos_neg_ratio=5)"
   ]
  },
  {
   "cell_type": "code",
   "execution_count": 7,
   "metadata": {},
   "outputs": [
    {
     "name": "stdout",
     "output_type": "stream",
     "text": [
      "===>  EVAL Epoch 15\n",
      "Finished Epoch 15 || Run Time:    1.2 | Load Time:    2.4 || F1:  66.28 | Prec:  74.68 | Rec:  59.59 || Ex/s: 563.31\n",
      "\n"
     ]
    },
    {
     "data": {
      "text/plain": [
       "66.28242074927954"
      ]
     },
     "execution_count": 7,
     "metadata": {},
     "output_type": "execute_result"
    }
   ],
   "source": [
    "rnn_model.run_eval(test)"
   ]
  },
  {
   "cell_type": "code",
   "execution_count": null,
   "metadata": {},
   "outputs": [],
   "source": []
  }
 ],
 "metadata": {
  "kernelspec": {
   "display_name": "Python 3",
   "language": "python",
   "name": "python3"
  },
  "language_info": {
   "codemirror_mode": {
    "name": "ipython",
    "version": 3
   },
   "file_extension": ".py",
   "mimetype": "text/x-python",
   "name": "python",
   "nbconvert_exporter": "python",
   "pygments_lexer": "ipython3",
   "version": "3.6.9"
  }
 },
 "nbformat": 4,
 "nbformat_minor": 2
}

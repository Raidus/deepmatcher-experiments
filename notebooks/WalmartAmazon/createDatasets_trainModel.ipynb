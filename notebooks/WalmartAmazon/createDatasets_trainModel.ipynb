{
 "cells": [
  {
   "cell_type": "code",
   "execution_count": 5,
   "metadata": {},
   "outputs": [],
   "source": [
    "import sys\n",
    "sys.path.append(\"../..\")"
   ]
  },
  {
   "cell_type": "code",
   "execution_count": 6,
   "metadata": {},
   "outputs": [],
   "source": [
    "import deepmatcher as dm\n",
    "from utilities_functions.dataset_parser import generate_train_valid_test"
   ]
  },
  {
   "cell_type": "code",
   "execution_count": 8,
   "metadata": {},
   "outputs": [],
   "source": [
    "train,valid,test = generate_train_valid_test('../Structured/Walmart-Amazon/','ltable_','rtable_')\n",
    "train.to_csv('../Structured/Walmart-Amazon/merged_train.csv',index=False)\n",
    "valid.to_csv('../Structured/Walmart-Amazon/merged_valid.csv',index=False)\n",
    "test.to_csv('../Structured/Walmart-Amazon/merged_test.csv',index=False)"
   ]
  },
  {
   "cell_type": "code",
   "execution_count": 11,
   "metadata": {},
   "outputs": [
    {
     "data": {
      "text/plain": [
       "((576, 12), (5568, 12))"
      ]
     },
     "execution_count": 11,
     "metadata": {},
     "output_type": "execute_result"
    }
   ],
   "source": [
    "train_pos = train[train['label']==1]\n",
    "train_neg = train[train['label']==0]\n",
    "train_pos.shape,train_neg.shape"
   ]
  },
  {
   "cell_type": "code",
   "execution_count": 9,
   "metadata": {},
   "outputs": [],
   "source": [
    "test_pos = test[test['label']==1]\n",
    "test_neg = test[test['label']==0]"
   ]
  },
  {
   "cell_type": "code",
   "execution_count": 10,
   "metadata": {},
   "outputs": [],
   "source": [
    "test_pos.to_csv('../Structured/Walmart-Amazon/test_positives.csv',index=False)\n",
    "test_neg.to_csv('../Structured/Walmart-Amazon/test_negatives.csv',index=False)"
   ]
  },
  {
   "cell_type": "code",
   "execution_count": 13,
   "metadata": {},
   "outputs": [
    {
     "name": "stderr",
     "output_type": "stream",
     "text": [
      "WARNING:deepmatcher.data.dataset:Rebuilding data cache because: ['One or more data files have been modified.']\n"
     ]
    }
   ],
   "source": [
    "train,valid,test = dm.data.process('../Structured/Walmart-Amazon',train='merged_train.csv',validation='merged_valid.csv',\n",
    "                                  test='merged_test.csv',left_prefix='ltable_',right_prefix='rtable_')"
   ]
  },
  {
   "cell_type": "code",
   "execution_count": 16,
   "metadata": {},
   "outputs": [],
   "source": [
    "hybrid_model = dm.MatchingModel(attr_summarizer='hybrid')"
   ]
  },
  {
   "cell_type": "code",
   "execution_count": 18,
   "metadata": {},
   "outputs": [
    {
     "name": "stdout",
     "output_type": "stream",
     "text": [
      "* Number of trainable parameters: 11286907\n",
      "===>  TRAIN Epoch 1\n",
      "Finished Epoch 1 || Run Time:   48.6 | Load Time:   10.7 || F1:  35.74 | Prec:  25.00 | Rec:  62.67 || Ex/s: 103.69\n",
      "\n",
      "===>  EVAL Epoch 1\n",
      "Finished Epoch 1 || Run Time:    3.8 | Load Time:    2.2 || F1:  42.11 | Prec:  29.66 | Rec:  72.54 || Ex/s: 345.43\n",
      "\n",
      "* Best F1: 42.10526315789474\n",
      "Saving best model...\n",
      "Done.\n",
      "---------------------\n",
      "\n",
      "===>  TRAIN Epoch 2\n",
      "Finished Epoch 2 || Run Time:   50.3 | Load Time:   10.9 || F1:  55.77 | Prec:  42.90 | Rec:  79.69 || Ex/s: 100.40\n",
      "\n",
      "===>  EVAL Epoch 2\n",
      "Finished Epoch 2 || Run Time:    4.0 | Load Time:    2.3 || F1:  46.30 | Prec:  32.97 | Rec:  77.72 || Ex/s: 327.55\n",
      "\n",
      "* Best F1: 46.2962962962963\n",
      "Saving best model...\n",
      "Done.\n",
      "---------------------\n",
      "\n",
      "===>  TRAIN Epoch 3\n",
      "Finished Epoch 3 || Run Time:   48.5 | Load Time:   10.7 || F1:  65.75 | Prec:  52.85 | Rec:  86.98 || Ex/s: 103.79\n",
      "\n",
      "===>  EVAL Epoch 3\n",
      "Finished Epoch 3 || Run Time:    4.8 | Load Time:    2.7 || F1:  55.58 | Prec:  43.75 | Rec:  76.17 || Ex/s: 273.52\n",
      "\n",
      "* Best F1: 55.5765595463138\n",
      "Saving best model...\n",
      "Done.\n",
      "---------------------\n",
      "\n",
      "===>  TRAIN Epoch 4\n",
      "Finished Epoch 4 || Run Time:   43.5 | Load Time:    9.8 || F1:  77.33 | Prec:  66.50 | Rec:  92.36 || Ex/s: 115.35\n",
      "\n",
      "===>  EVAL Epoch 4\n",
      "Finished Epoch 4 || Run Time:    4.5 | Load Time:    2.5 || F1:  63.21 | Prec:  63.21 | Rec:  63.21 || Ex/s: 294.67\n",
      "\n",
      "* Best F1: 63.21243523316062\n",
      "Saving best model...\n",
      "Done.\n",
      "---------------------\n",
      "\n",
      "===>  TRAIN Epoch 5\n",
      "Finished Epoch 5 || Run Time:   50.9 | Load Time:   10.9 || F1:  85.12 | Prec:  76.56 | Rec:  95.83 || Ex/s:  99.35\n",
      "\n",
      "===>  EVAL Epoch 5\n",
      "Finished Epoch 5 || Run Time:    4.7 | Load Time:    2.5 || F1:  62.74 | Prec:  57.58 | Rec:  68.91 || Ex/s: 281.37\n",
      "\n",
      "---------------------\n",
      "\n",
      "===>  TRAIN Epoch 6\n",
      "Finished Epoch 6 || Run Time:   51.7 | Load Time:   11.7 || F1:  89.98 | Prec:  84.14 | Rec:  96.70 || Ex/s:  96.89\n",
      "\n",
      "===>  EVAL Epoch 6\n",
      "Finished Epoch 6 || Run Time:    4.6 | Load Time:    2.5 || F1:  62.42 | Prec:  54.20 | Rec:  73.58 || Ex/s: 290.46\n",
      "\n",
      "---------------------\n",
      "\n",
      "===>  TRAIN Epoch 7\n",
      "Finished Epoch 7 || Run Time:   51.2 | Load Time:   11.3 || F1:  94.33 | Prec:  90.71 | Rec:  98.26 || Ex/s:  98.24\n",
      "\n",
      "===>  EVAL Epoch 7\n",
      "Finished Epoch 7 || Run Time:    4.8 | Load Time:    2.7 || F1:  65.97 | Prec:  66.67 | Rec:  65.28 || Ex/s: 273.34\n",
      "\n",
      "* Best F1: 65.96858638743457\n",
      "Saving best model...\n",
      "Done.\n",
      "---------------------\n",
      "\n",
      "===>  TRAIN Epoch 8\n",
      "Finished Epoch 8 || Run Time:   51.4 | Load Time:   11.1 || F1:  96.38 | Prec:  93.62 | Rec:  99.31 || Ex/s:  98.23\n",
      "\n",
      "===>  EVAL Epoch 8\n",
      "Finished Epoch 8 || Run Time:    4.5 | Load Time:    2.5 || F1:  66.33 | Prec:  64.85 | Rec:  67.88 || Ex/s: 292.86\n",
      "\n",
      "* Best F1: 66.32911392405065\n",
      "Saving best model...\n",
      "Done.\n",
      "---------------------\n",
      "\n",
      "===>  TRAIN Epoch 9\n",
      "Finished Epoch 9 || Run Time:   35.4 | Load Time:    8.2 || F1:  97.53 | Prec:  95.66 | Rec:  99.48 || Ex/s: 140.82\n",
      "\n",
      "===>  EVAL Epoch 9\n",
      "Finished Epoch 9 || Run Time:    4.6 | Load Time:    2.5 || F1:  66.84 | Prec:  65.35 | Rec:  68.39 || Ex/s: 290.94\n",
      "\n",
      "* Best F1: 66.83544303797468\n",
      "Saving best model...\n",
      "Done.\n",
      "---------------------\n",
      "\n",
      "===>  TRAIN Epoch 10\n",
      "Finished Epoch 10 || Run Time:   38.0 | Load Time:    8.9 || F1:  98.04 | Prec:  96.47 | Rec:  99.65 || Ex/s: 131.06\n",
      "\n",
      "===>  EVAL Epoch 10\n",
      "Finished Epoch 10 || Run Time:    4.3 | Load Time:    2.3 || F1:  67.01 | Prec:  65.67 | Rec:  68.39 || Ex/s: 308.80\n",
      "\n",
      "* Best F1: 67.00507614213198\n",
      "Saving best model...\n",
      "Done.\n",
      "---------------------\n",
      "\n",
      "===>  TRAIN Epoch 11\n",
      "Finished Epoch 11 || Run Time:   47.2 | Load Time:   10.5 || F1:  98.46 | Prec:  97.13 | Rec:  99.83 || Ex/s: 106.55\n",
      "\n",
      "===>  EVAL Epoch 11\n",
      "Finished Epoch 11 || Run Time:    3.8 | Load Time:    2.2 || F1:  67.00 | Prec:  64.73 | Rec:  69.43 || Ex/s: 337.39\n",
      "\n",
      "---------------------\n",
      "\n",
      "===>  TRAIN Epoch 12\n",
      "Finished Epoch 12 || Run Time:   45.0 | Load Time:   10.1 || F1:  98.80 | Prec:  97.79 | Rec:  99.83 || Ex/s: 111.50\n",
      "\n",
      "===>  EVAL Epoch 12\n",
      "Finished Epoch 12 || Run Time:    3.8 | Load Time:    2.2 || F1:  67.00 | Prec:  64.29 | Rec:  69.95 || Ex/s: 338.52\n",
      "\n",
      "---------------------\n",
      "\n",
      "===>  TRAIN Epoch 13\n",
      "Finished Epoch 13 || Run Time:   38.7 | Load Time:    9.0 || F1:  99.14 | Prec:  98.29 | Rec: 100.00 || Ex/s: 128.72\n",
      "\n",
      "===>  EVAL Epoch 13\n",
      "Finished Epoch 13 || Run Time:    4.8 | Load Time:    2.6 || F1:  67.34 | Prec:  65.84 | Rec:  68.91 || Ex/s: 277.52\n",
      "\n",
      "* Best F1: 67.34177215189872\n",
      "Saving best model...\n",
      "Done.\n",
      "---------------------\n",
      "\n",
      "===>  TRAIN Epoch 14\n",
      "Finished Epoch 14 || Run Time:   51.0 | Load Time:   11.0 || F1:  99.14 | Prec:  98.29 | Rec: 100.00 || Ex/s:  99.07\n",
      "\n",
      "===>  EVAL Epoch 14\n",
      "Finished Epoch 14 || Run Time:    4.1 | Load Time:    2.3 || F1:  66.49 | Prec:  66.15 | Rec:  66.84 || Ex/s: 322.94\n",
      "\n",
      "---------------------\n",
      "\n",
      "===>  TRAIN Epoch 15\n",
      "Finished Epoch 15 || Run Time:   43.0 | Load Time:    9.3 || F1:  99.40 | Prec:  98.80 | Rec: 100.00 || Ex/s: 117.44\n",
      "\n",
      "===>  EVAL Epoch 15\n",
      "Finished Epoch 15 || Run Time:    4.0 | Load Time:    2.2 || F1:  67.53 | Prec:  67.18 | Rec:  67.88 || Ex/s: 328.66\n",
      "\n",
      "* Best F1: 67.52577319587628\n",
      "Saving best model...\n",
      "Done.\n",
      "---------------------\n",
      "\n",
      "===>  TRAIN Epoch 16\n",
      "Finished Epoch 16 || Run Time:   38.8 | Load Time:    9.1 || F1:  99.57 | Prec:  99.14 | Rec: 100.00 || Ex/s: 128.07\n",
      "\n",
      "===>  EVAL Epoch 16\n",
      "Finished Epoch 16 || Run Time:    3.9 | Load Time:    2.2 || F1:  67.70 | Prec:  67.53 | Rec:  67.88 || Ex/s: 336.43\n",
      "\n",
      "* Best F1: 67.70025839793281\n",
      "Saving best model...\n",
      "Done.\n",
      "---------------------\n",
      "\n",
      "===>  TRAIN Epoch 17\n",
      "Finished Epoch 17 || Run Time:   49.1 | Load Time:   10.7 || F1:  99.65 | Prec:  99.31 | Rec: 100.00 || Ex/s: 102.79\n",
      "\n",
      "===>  EVAL Epoch 17\n",
      "Finished Epoch 17 || Run Time:    4.0 | Load Time:    2.2 || F1:  67.70 | Prec:  67.53 | Rec:  67.88 || Ex/s: 326.56\n",
      "\n",
      "---------------------\n",
      "\n",
      "===>  TRAIN Epoch 18\n",
      "Finished Epoch 18 || Run Time:   46.9 | Load Time:   10.4 || F1:  99.65 | Prec:  99.31 | Rec: 100.00 || Ex/s: 107.22\n",
      "\n",
      "===>  EVAL Epoch 18\n",
      "Finished Epoch 18 || Run Time:    4.7 | Load Time:    2.5 || F1:  67.53 | Prec:  67.18 | Rec:  67.88 || Ex/s: 283.97\n",
      "\n",
      "---------------------\n",
      "\n",
      "===>  TRAIN Epoch 19\n",
      "Finished Epoch 19 || Run Time:   49.6 | Load Time:   10.9 || F1:  99.74 | Prec:  99.48 | Rec: 100.00 || Ex/s: 101.58\n",
      "\n",
      "===>  EVAL Epoch 19\n",
      "Finished Epoch 19 || Run Time:    3.8 | Load Time:    2.2 || F1:  67.18 | Prec:  67.01 | Rec:  67.36 || Ex/s: 343.93\n",
      "\n",
      "---------------------\n",
      "\n",
      "===>  TRAIN Epoch 20\n",
      "Finished Epoch 20 || Run Time:   37.6 | Load Time:    8.6 || F1:  99.74 | Prec:  99.48 | Rec: 100.00 || Ex/s: 133.08\n",
      "\n",
      "===>  EVAL Epoch 20\n",
      "Finished Epoch 20 || Run Time:    3.7 | Load Time:    2.2 || F1:  67.18 | Prec:  67.01 | Rec:  67.36 || Ex/s: 344.53\n",
      "\n",
      "---------------------\n",
      "\n",
      "Loading best model...\n",
      "Training done.\n"
     ]
    },
    {
     "data": {
      "text/plain": [
       "67.70025839793281"
      ]
     },
     "execution_count": 18,
     "metadata": {},
     "output_type": "execute_result"
    }
   ],
   "source": [
    "hybrid_model.run_train(train,valid,best_save_path='../models/walmartamazon_hybrid2.pth',epochs=20,pos_neg_ratio=5,batch_size=32,\n",
    "                      progress_style='bar')"
   ]
  },
  {
   "cell_type": "code",
   "execution_count": 19,
   "metadata": {},
   "outputs": [
    {
     "name": "stdout",
     "output_type": "stream",
     "text": [
      "===>  EVAL Epoch 16\n",
      "Finished Epoch 16 || Run Time:    3.8 | Load Time:    2.2 || F1:  64.94 | Prec:  65.10 | Rec:  64.77 || Ex/s: 342.75\n",
      "\n"
     ]
    },
    {
     "data": {
      "text/plain": [
       "64.93506493506494"
      ]
     },
     "execution_count": 19,
     "metadata": {},
     "output_type": "execute_result"
    }
   ],
   "source": [
    "hybrid_model.run_eval(test)"
   ]
  },
  {
   "cell_type": "code",
   "execution_count": null,
   "metadata": {},
   "outputs": [],
   "source": []
  }
 ],
 "metadata": {
  "kernelspec": {
   "display_name": "Python 3",
   "language": "python",
   "name": "python3"
  },
  "language_info": {
   "codemirror_mode": {
    "name": "ipython",
    "version": 3
   },
   "file_extension": ".py",
   "mimetype": "text/x-python",
   "name": "python",
   "nbconvert_exporter": "python",
   "pygments_lexer": "ipython3",
   "version": "3.6.9"
  }
 },
 "nbformat": 4,
 "nbformat_minor": 2
}

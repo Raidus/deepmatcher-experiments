{
 "cells": [
  {
   "cell_type": "code",
   "execution_count": 1,
   "metadata": {},
   "outputs": [],
   "source": [
    "import sys\n",
    "sys.path.append('../')"
   ]
  },
  {
   "cell_type": "code",
   "execution_count": 2,
   "metadata": {},
   "outputs": [],
   "source": [
    "import pandas as pd\n",
    "from utilities_functions.dataset_parser import generate_pos_neg_datasets"
   ]
  },
  {
   "cell_type": "code",
   "execution_count": 12,
   "metadata": {},
   "outputs": [],
   "source": [
    "pos,neg = generate_pos_neg_datasets('../Structured/itunes-amazon/','merged_train.csv','merged_valid.csv','merged_test.csv')"
   ]
  },
  {
   "cell_type": "code",
   "execution_count": 13,
   "metadata": {},
   "outputs": [
    {
     "data": {
      "text/html": [
       "<div>\n",
       "<style scoped>\n",
       "    .dataframe tbody tr th:only-of-type {\n",
       "        vertical-align: middle;\n",
       "    }\n",
       "\n",
       "    .dataframe tbody tr th {\n",
       "        vertical-align: top;\n",
       "    }\n",
       "\n",
       "    .dataframe thead th {\n",
       "        text-align: right;\n",
       "    }\n",
       "</style>\n",
       "<table border=\"1\" class=\"dataframe\">\n",
       "  <thead>\n",
       "    <tr style=\"text-align: right;\">\n",
       "      <th></th>\n",
       "      <th>label</th>\n",
       "      <th>ltable_Song_Name</th>\n",
       "      <th>ltable_Artist_Name</th>\n",
       "      <th>ltable_Album_Name</th>\n",
       "      <th>ltable_Genre</th>\n",
       "      <th>ltable_Price</th>\n",
       "      <th>ltable_CopyRight</th>\n",
       "      <th>ltable_Time</th>\n",
       "      <th>ltable_Released</th>\n",
       "      <th>rtable_Song_Name</th>\n",
       "      <th>rtable_Artist_Name</th>\n",
       "      <th>rtable_Album_Name</th>\n",
       "      <th>rtable_Genre</th>\n",
       "      <th>rtable_Price</th>\n",
       "      <th>rtable_CopyRight</th>\n",
       "      <th>rtable_Time</th>\n",
       "      <th>rtable_Released</th>\n",
       "      <th>id</th>\n",
       "    </tr>\n",
       "  </thead>\n",
       "  <tbody>\n",
       "    <tr>\n",
       "      <th>0</th>\n",
       "      <td>1</td>\n",
       "      <td>Silver and Gold</td>\n",
       "      <td>Little Big Town</td>\n",
       "      <td>Pain Killer</td>\n",
       "      <td>Country , Music , Honky Tonk , Contemporary Co...</td>\n",
       "      <td>$ 1.29</td>\n",
       "      <td>2014 Little Big Town , LLC Under exclusive lic...</td>\n",
       "      <td>3:33</td>\n",
       "      <td>21-Oct-14</td>\n",
       "      <td>Silver And Gold</td>\n",
       "      <td>Little Big Town</td>\n",
       "      <td>Pain Killer</td>\n",
       "      <td>Country</td>\n",
       "      <td>$ 1.29</td>\n",
       "      <td>( C ) 2014 Little Big Town LLC Under exclusive...</td>\n",
       "      <td>3:31</td>\n",
       "      <td>October 21 , 2014</td>\n",
       "      <td>102</td>\n",
       "    </tr>\n",
       "    <tr>\n",
       "      <th>1</th>\n",
       "      <td>1</td>\n",
       "      <td>Halcyon</td>\n",
       "      <td>Ellie Goulding</td>\n",
       "      <td>Halcyon Days ( Deluxe Edition )</td>\n",
       "      <td>Pop , Music , Dance , Rock</td>\n",
       "      <td>$ 1.29</td>\n",
       "      <td>‰ ãÑ 2013 Polydor Ltd. ( UK )</td>\n",
       "      <td>3:24</td>\n",
       "      <td>27-Aug-13</td>\n",
       "      <td>Halcyon</td>\n",
       "      <td>Ellie Goulding</td>\n",
       "      <td>Halcyon</td>\n",
       "      <td>Pop</td>\n",
       "      <td>$ 1.29</td>\n",
       "      <td>( C ) 2013 Polydor Ltd. ( UK )</td>\n",
       "      <td>3:24</td>\n",
       "      <td>August 27 , 2013</td>\n",
       "      <td>308</td>\n",
       "    </tr>\n",
       "    <tr>\n",
       "      <th>2</th>\n",
       "      <td>1</td>\n",
       "      <td>True Colors ( feat . Nicki Minaj )</td>\n",
       "      <td>Wiz Khalifa</td>\n",
       "      <td>Blacc Hollywood</td>\n",
       "      <td>Hip-Hop/Rap , Music , Rap , East Coast Rap , H...</td>\n",
       "      <td>$ 1.29</td>\n",
       "      <td>2014 Atlantic Recording Corporation for the Un...</td>\n",
       "      <td>4:15</td>\n",
       "      <td>19-Aug-14</td>\n",
       "      <td>True Colors ( feat . Nicki Minaj ) [ Explicit ]</td>\n",
       "      <td>Wiz Khalifa</td>\n",
       "      <td>Blacc Hollywood [ Explicit ]</td>\n",
       "      <td>Rap &amp; Hip-Hop</td>\n",
       "      <td>$ 1.29</td>\n",
       "      <td>2014 Atlantic Recording Corporation for the Un...</td>\n",
       "      <td>4:15</td>\n",
       "      <td>August 19 , 2014</td>\n",
       "      <td>35</td>\n",
       "    </tr>\n",
       "    <tr>\n",
       "      <th>3</th>\n",
       "      <td>1</td>\n",
       "      <td>Turn Around ( 5,4,3,2,1 ) [ DJ Bam Bam Radio R...</td>\n",
       "      <td>Flo Rida</td>\n",
       "      <td>Turn Around ( 5,4,3,2,1 ) - Deluxe Single</td>\n",
       "      <td>Hip-Hop/Rap , Music , Electronic , Rap , Dirty...</td>\n",
       "      <td>$ 1.29</td>\n",
       "      <td>‰ ãÑ 2010 Atlantic Recording Corporation for t...</td>\n",
       "      <td>3:35</td>\n",
       "      <td>16-Nov-10</td>\n",
       "      <td>Turn Around ( 5,4,3,2,1 )</td>\n",
       "      <td>Flo Rida</td>\n",
       "      <td>Only One Flo ( Part 1 ) [ Deluxe ] [ + Video ]...</td>\n",
       "      <td>Rap &amp; Hip-Hop</td>\n",
       "      <td>$ 1.29</td>\n",
       "      <td>2010 Atlantic Recording Corporation for the Un...</td>\n",
       "      <td>3:20</td>\n",
       "      <td>November 26 , 2010</td>\n",
       "      <td>9</td>\n",
       "    </tr>\n",
       "    <tr>\n",
       "      <th>4</th>\n",
       "      <td>1</td>\n",
       "      <td>Gone</td>\n",
       "      <td>The Weeknd</td>\n",
       "      <td>Trilogy</td>\n",
       "      <td>R&amp;B / Soul , Music , Rock , Contemporary R&amp;B</td>\n",
       "      <td>$ 1.29</td>\n",
       "      <td>‰ ãÑ 2012 XO &amp; co. , Inc.</td>\n",
       "      <td>8:07</td>\n",
       "      <td>13-Nov-12</td>\n",
       "      <td>Gone ( Album Version ( Edited ) ) [ Clean ]</td>\n",
       "      <td>The Weeknd</td>\n",
       "      <td>Trilogy ( Edited Version ) [ Clean ]</td>\n",
       "      <td>R&amp;B</td>\n",
       "      <td>$ 1.29</td>\n",
       "      <td>( C ) 2013 XO &amp; co. , Inc.</td>\n",
       "      <td>8:07</td>\n",
       "      <td>September 18 , 2015</td>\n",
       "      <td>169</td>\n",
       "    </tr>\n",
       "  </tbody>\n",
       "</table>\n",
       "</div>"
      ],
      "text/plain": [
       "   label                                   ltable_Song_Name  \\\n",
       "0      1                                    Silver and Gold   \n",
       "1      1                                            Halcyon   \n",
       "2      1                 True Colors ( feat . Nicki Minaj )   \n",
       "3      1  Turn Around ( 5,4,3,2,1 ) [ DJ Bam Bam Radio R...   \n",
       "4      1                                               Gone   \n",
       "\n",
       "  ltable_Artist_Name                          ltable_Album_Name  \\\n",
       "0    Little Big Town                                Pain Killer   \n",
       "1     Ellie Goulding            Halcyon Days ( Deluxe Edition )   \n",
       "2        Wiz Khalifa                            Blacc Hollywood   \n",
       "3           Flo Rida  Turn Around ( 5,4,3,2,1 ) - Deluxe Single   \n",
       "4         The Weeknd                                    Trilogy   \n",
       "\n",
       "                                        ltable_Genre ltable_Price  \\\n",
       "0  Country , Music , Honky Tonk , Contemporary Co...       $ 1.29   \n",
       "1                         Pop , Music , Dance , Rock       $ 1.29   \n",
       "2  Hip-Hop/Rap , Music , Rap , East Coast Rap , H...       $ 1.29   \n",
       "3  Hip-Hop/Rap , Music , Electronic , Rap , Dirty...       $ 1.29   \n",
       "4       R&B / Soul , Music , Rock , Contemporary R&B       $ 1.29   \n",
       "\n",
       "                                    ltable_CopyRight ltable_Time  \\\n",
       "0  2014 Little Big Town , LLC Under exclusive lic...        3:33   \n",
       "1                      ‰ ãÑ 2013 Polydor Ltd. ( UK )        3:24   \n",
       "2  2014 Atlantic Recording Corporation for the Un...        4:15   \n",
       "3  ‰ ãÑ 2010 Atlantic Recording Corporation for t...        3:35   \n",
       "4                          ‰ ãÑ 2012 XO & co. , Inc.        8:07   \n",
       "\n",
       "  ltable_Released                                 rtable_Song_Name  \\\n",
       "0       21-Oct-14                                  Silver And Gold   \n",
       "1       27-Aug-13                                          Halcyon   \n",
       "2       19-Aug-14  True Colors ( feat . Nicki Minaj ) [ Explicit ]   \n",
       "3       16-Nov-10                        Turn Around ( 5,4,3,2,1 )   \n",
       "4       13-Nov-12      Gone ( Album Version ( Edited ) ) [ Clean ]   \n",
       "\n",
       "  rtable_Artist_Name                                  rtable_Album_Name  \\\n",
       "0    Little Big Town                                        Pain Killer   \n",
       "1     Ellie Goulding                                            Halcyon   \n",
       "2        Wiz Khalifa                       Blacc Hollywood [ Explicit ]   \n",
       "3           Flo Rida  Only One Flo ( Part 1 ) [ Deluxe ] [ + Video ]...   \n",
       "4         The Weeknd               Trilogy ( Edited Version ) [ Clean ]   \n",
       "\n",
       "    rtable_Genre rtable_Price  \\\n",
       "0        Country       $ 1.29   \n",
       "1            Pop       $ 1.29   \n",
       "2  Rap & Hip-Hop       $ 1.29   \n",
       "3  Rap & Hip-Hop       $ 1.29   \n",
       "4            R&B       $ 1.29   \n",
       "\n",
       "                                    rtable_CopyRight rtable_Time  \\\n",
       "0  ( C ) 2014 Little Big Town LLC Under exclusive...        3:31   \n",
       "1                     ( C ) 2013 Polydor Ltd. ( UK )        3:24   \n",
       "2  2014 Atlantic Recording Corporation for the Un...        4:15   \n",
       "3  2010 Atlantic Recording Corporation for the Un...        3:20   \n",
       "4                         ( C ) 2013 XO & co. , Inc.        8:07   \n",
       "\n",
       "       rtable_Released   id  \n",
       "0    October 21 , 2014  102  \n",
       "1     August 27 , 2013  308  \n",
       "2     August 19 , 2014   35  \n",
       "3   November 26 , 2010    9  \n",
       "4  September 18 , 2015  169  "
      ]
     },
     "execution_count": 13,
     "metadata": {},
     "output_type": "execute_result"
    }
   ],
   "source": [
    "pos.head()"
   ]
  },
  {
   "cell_type": "code",
   "execution_count": 14,
   "metadata": {},
   "outputs": [],
   "source": [
    "pos.to_csv('../Structured/itunes-amazon/positives.csv',index=False)"
   ]
  },
  {
   "cell_type": "code",
   "execution_count": 15,
   "metadata": {},
   "outputs": [],
   "source": [
    "neg.to_csv('../Structured/itunes-amazon/negatives.csv',index=False)"
   ]
  },
  {
   "cell_type": "code",
   "execution_count": 8,
   "metadata": {},
   "outputs": [
    {
     "ename": "NameError",
     "evalue": "name 'train_df' is not defined",
     "output_type": "error",
     "traceback": [
      "\u001b[0;31m---------------------------------------------------------------------------\u001b[0m",
      "\u001b[0;31mNameError\u001b[0m                                 Traceback (most recent call last)",
      "\u001b[0;32m<ipython-input-8-e6f0b00cc599>\u001b[0m in \u001b[0;36m<module>\u001b[0;34m()\u001b[0m\n\u001b[0;32m----> 1\u001b[0;31m \u001b[0mall_samples_df\u001b[0m \u001b[0;34m=\u001b[0m \u001b[0mtrain_df\u001b[0m\u001b[0;34m.\u001b[0m\u001b[0mappend\u001b[0m\u001b[0;34m(\u001b[0m\u001b[0mvalidation_df\u001b[0m\u001b[0;34m,\u001b[0m\u001b[0mignore_index\u001b[0m\u001b[0;34m=\u001b[0m\u001b[0;32mTrue\u001b[0m\u001b[0;34m)\u001b[0m\u001b[0;34m\u001b[0m\u001b[0;34m\u001b[0m\u001b[0m\n\u001b[0m\u001b[1;32m      2\u001b[0m \u001b[0mall_samples_df\u001b[0m \u001b[0;34m=\u001b[0m \u001b[0mall_samples_df\u001b[0m\u001b[0;34m.\u001b[0m\u001b[0mappend\u001b[0m\u001b[0;34m(\u001b[0m\u001b[0mtest_df\u001b[0m\u001b[0;34m,\u001b[0m\u001b[0mignore_index\u001b[0m\u001b[0;34m=\u001b[0m\u001b[0;32mTrue\u001b[0m\u001b[0;34m)\u001b[0m\u001b[0;34m\u001b[0m\u001b[0;34m\u001b[0m\u001b[0m\n",
      "\u001b[0;31mNameError\u001b[0m: name 'train_df' is not defined"
     ]
    }
   ],
   "source": [
    "all_samples_df = train_df.append(validation_df,ignore_index=True)\n",
    "all_samples_df = all_samples_df.append(test_df,ignore_index=True)"
   ]
  },
  {
   "cell_type": "code",
   "execution_count": 16,
   "metadata": {},
   "outputs": [
    {
     "data": {
      "text/plain": [
       "(539, 18)"
      ]
     },
     "execution_count": 16,
     "metadata": {},
     "output_type": "execute_result"
    }
   ],
   "source": [
    "all_samples_df.shape"
   ]
  },
  {
   "cell_type": "code",
   "execution_count": 17,
   "metadata": {},
   "outputs": [],
   "source": [
    "all_samples_df.to_csv('sample_data/itunes-amazon/all_samples.csv',index=False)"
   ]
  },
  {
   "cell_type": "code",
   "execution_count": 10,
   "metadata": {},
   "outputs": [],
   "source": [
    "test = pd.read_csv('../Structured/itunes-amazon/merged_test.csv')\n",
    "test_neg = test[test['label']==0]\n",
    "test_pos = test[test['label']==1]"
   ]
  },
  {
   "cell_type": "code",
   "execution_count": 11,
   "metadata": {},
   "outputs": [],
   "source": [
    "test_neg.to_csv('../Structured/itunes-amazon/test_negatives.csv',index=False)\n",
    "test_pos.to_csv('../Structured/itunes-amazon/test_positives.csv',index=False)"
   ]
  }
 ],
 "metadata": {
  "kernelspec": {
   "display_name": "Python 3",
   "language": "python",
   "name": "python3"
  },
  "language_info": {
   "codemirror_mode": {
    "name": "ipython",
    "version": 3
   },
   "file_extension": ".py",
   "mimetype": "text/x-python",
   "name": "python",
   "nbconvert_exporter": "python",
   "pygments_lexer": "ipython3",
   "version": "3.6.8"
  }
 },
 "nbformat": 4,
 "nbformat_minor": 2
}

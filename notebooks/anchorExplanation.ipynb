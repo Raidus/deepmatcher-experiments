{
 "cells": [
  {
   "cell_type": "code",
   "execution_count": 56,
   "metadata": {},
   "outputs": [],
   "source": [
    "import numpy as np\n",
    "import pandas as pd\n",
    "import deepmatcher as dm\n",
    "import spacy\n",
    "import random as rd\n",
    "from alibi.explainers import AnchorText\n",
    "from alibi.datasets import fetch_movie_sentiment\n",
    "from alibi.utils.download import spacy_model"
   ]
  },
  {
   "cell_type": "code",
   "execution_count": 140,
   "metadata": {},
   "outputs": [],
   "source": [
    "def rowToString(df,row_index,ignore_columns = ['id','label']):\n",
    "    row = df.iloc[row_index]\n",
    "    columns = [col for col in list(df) if col not in ignore_columns]\n",
    "    i = 0\n",
    "    j = 0\n",
    "    rowString =\"\"\n",
    "    for col in columns:\n",
    "        if row[col] !=\"\":\n",
    "            for token in row[col].split():\n",
    "                if col.startswith(\"ltable_\"):\n",
    "                    left = True\n",
    "                    rowString+=\"L\"+str(i)+\"_\"+token+\" \"\n",
    "                else:\n",
    "                    left=False\n",
    "                    rowString+=\"R\"+str(j)+\"_\"+token+\" \"\n",
    "        else:\n",
    "            if col.startswith(\"ltable_\"):\n",
    "                left=True\n",
    "                rowString += \"L\"+str(i)\n",
    "            else:\n",
    "                left=False\n",
    "                rowString += \"R\"+str(i)\n",
    "        if left:\n",
    "            i +=1\n",
    "        else:\n",
    "            j+=1\n",
    "    return rowString"
   ]
  },
  {
   "cell_type": "code",
   "execution_count": 141,
   "metadata": {},
   "outputs": [],
   "source": [
    "def stringToRow(s,attributes):\n",
    "    row = {}\n",
    "    for token in s.split():\n",
    "        prefix = token[0:3]\n",
    "        if prefix in row:\n",
    "            row[prefix].append(token[3:])\n",
    "        else:\n",
    "            row[prefix] = [token[3:]]\n",
    "    oldKeys = list(row.keys())\n",
    "    for key,attr in zip(oldKeys,attributes):\n",
    "        row[key] =\" \".join(row[key])\n",
    "        row[attr] = row.pop(key)\n",
    "    row['id'] =rd.randint(0,1000)\n",
    "    return row"
   ]
  },
  {
   "cell_type": "code",
   "execution_count": 142,
   "metadata": {},
   "outputs": [],
   "source": [
    "train = pd.read_csv('../Structured/itunes-amazon/merged_train.csv')\n",
    "stringRep = rowToString(train,0)"
   ]
  },
  {
   "cell_type": "code",
   "execution_count": 144,
   "metadata": {},
   "outputs": [
    {
     "data": {
      "text/plain": [
       "{'ltable_Song_Name': 'Illusion ( feat . Echosmith )',\n",
       " 'ltable_Artist_Name': 'Zedd',\n",
       " 'ltable_Album_Name': 'True Colors',\n",
       " 'ltable_Genre': 'Dance , Music , Electronic',\n",
       " 'ltable_Price': '$ 1.29',\n",
       " 'ltable_CopyRight': '2015 Interscope Records',\n",
       " 'ltable_Time': '6:30',\n",
       " 'ltable_Released': '18-May-15',\n",
       " 'rtable_Song_Name': 'Transmission [ feat . X Ambassadors ]',\n",
       " 'rtable_Artist_Name': 'Zedd',\n",
       " 'rtable_Album_Name': 'True Colors',\n",
       " 'rtable_Genre': 'Dance & Electronic',\n",
       " 'rtable_Price': '$ 1.29',\n",
       " 'rtable_CopyRight': '( C ) 2015 Interscope Records',\n",
       " 'rtable_Time': '4:02',\n",
       " 'rtable_Released': 'May 18 , 2015',\n",
       " 'id': 272}"
      ]
     },
     "execution_count": 144,
     "metadata": {},
     "output_type": "execute_result"
    }
   ],
   "source": [
    "attributes = [attr for attr in list(train) if attr not in ['id','label']]\n",
    "row = stringToRow(stringRep,attributes)\n",
    "row"
   ]
  },
  {
   "cell_type": "code",
   "execution_count": 44,
   "metadata": {},
   "outputs": [],
   "source": [
    "test = pd.read_csv('../Structured/itunes-amazon/merged_test.csv')"
   ]
  },
  {
   "cell_type": "markdown",
   "metadata": {},
   "source": [
    "## Load spacy model"
   ]
  },
  {
   "cell_type": "code",
   "execution_count": 45,
   "metadata": {},
   "outputs": [],
   "source": [
    "model = 'en_core_web_md'\n",
    "spacy_model(model=model)\n",
    "nlp = spacy.load(model)"
   ]
  },
  {
   "cell_type": "markdown",
   "metadata": {},
   "source": [
    "## Load deepmatcher and create wrapper function"
   ]
  },
  {
   "cell_type": "code",
   "execution_count": 73,
   "metadata": {},
   "outputs": [
    {
     "name": "stdout",
     "output_type": "stream",
     "text": [
      "mkdir: cannot create directory ‘temp’: File exists\r\n"
     ]
    }
   ],
   "source": [
    "!mkdir temp"
   ]
  },
  {
   "cell_type": "code",
   "execution_count": 60,
   "metadata": {},
   "outputs": [],
   "source": [
    "hybrid_model = dm.MatchingModel(attr_summarizer='hybrid')\n",
    "hybrid_model.load_state('../models/hybrid1.pth')"
   ]
  },
  {
   "cell_type": "code",
   "execution_count": 145,
   "metadata": {},
   "outputs": [],
   "source": [
    "def mergeDictionary(dict_list):\n",
    "    res = {}\n",
    "    for dictionary in dict_list:\n",
    "        for key in dictionary.keys():\n",
    "            if key in res:\n",
    "                res[key].append(dictionary[key])\n",
    "            else:\n",
    "                res[key] = [dictionary[key]]\n",
    "    return res"
   ]
  },
  {
   "cell_type": "code",
   "execution_count": 146,
   "metadata": {},
   "outputs": [],
   "source": [
    "test_withoutNan = test.fillna(\"\").copy()\n",
    "dict_list = []\n",
    "for idx,_ in test_withoutNan.iterrows():\n",
    "    dict_list.append(rowToString(test_withoutNan,idx))"
   ]
  },
  {
   "cell_type": "code",
   "execution_count": 147,
   "metadata": {},
   "outputs": [],
   "source": [
    "dict_list = list(map(lambda d:stringToRow(d,attributes),dict_list))"
   ]
  },
  {
   "cell_type": "code",
   "execution_count": 149,
   "metadata": {},
   "outputs": [
    {
     "data": {
      "text/html": [
       "<div>\n",
       "<style scoped>\n",
       "    .dataframe tbody tr th:only-of-type {\n",
       "        vertical-align: middle;\n",
       "    }\n",
       "\n",
       "    .dataframe tbody tr th {\n",
       "        vertical-align: top;\n",
       "    }\n",
       "\n",
       "    .dataframe thead th {\n",
       "        text-align: right;\n",
       "    }\n",
       "</style>\n",
       "<table border=\"1\" class=\"dataframe\">\n",
       "  <thead>\n",
       "    <tr style=\"text-align: right;\">\n",
       "      <th></th>\n",
       "      <th>ltable_Song_Name</th>\n",
       "      <th>ltable_Artist_Name</th>\n",
       "      <th>ltable_Album_Name</th>\n",
       "      <th>ltable_Genre</th>\n",
       "      <th>ltable_Price</th>\n",
       "      <th>ltable_CopyRight</th>\n",
       "      <th>ltable_Time</th>\n",
       "      <th>ltable_Released</th>\n",
       "      <th>rtable_Song_Name</th>\n",
       "      <th>rtable_Artist_Name</th>\n",
       "      <th>rtable_Album_Name</th>\n",
       "      <th>rtable_Genre</th>\n",
       "      <th>rtable_Price</th>\n",
       "      <th>rtable_CopyRight</th>\n",
       "      <th>rtable_Time</th>\n",
       "      <th>rtable_Released</th>\n",
       "      <th>id</th>\n",
       "    </tr>\n",
       "  </thead>\n",
       "  <tbody>\n",
       "    <tr>\n",
       "      <th>0</th>\n",
       "      <td>Elevator ( feat . Timbaland )</td>\n",
       "      <td>Flo Rida</td>\n",
       "      <td>Mail On Sunday ( Deluxe Version )</td>\n",
       "      <td>Hip-Hop/Rap , Music , Dirty South</td>\n",
       "      <td>$ 1.99</td>\n",
       "      <td>2008 Atlantic Recording Corporation for the Un...</td>\n",
       "      <td>3:55</td>\n",
       "      <td>17-Mar-08</td>\n",
       "      <td>Money Right ( feat . Rick Ross &amp; Brisco ) [ Ex...</td>\n",
       "      <td>Flo Rida</td>\n",
       "      <td>Mail On Sunday [ Explicit ]</td>\n",
       "      <td>Rap &amp; Hip-Hop</td>\n",
       "      <td>$ 1.29</td>\n",
       "      <td>2013 Warner Bros. . Records Inc.</td>\n",
       "      <td>3:17</td>\n",
       "      <td>March 17 , 2008</td>\n",
       "      <td>454</td>\n",
       "    </tr>\n",
       "    <tr>\n",
       "      <th>1</th>\n",
       "      <td>The Woodland Realm ( Extended Version )</td>\n",
       "      <td>Howard Shore</td>\n",
       "      <td>The Hobbit : The Desolation of Smaug ( Origina...</td>\n",
       "      <td>Soundtrack , Music , Soundtrack , Classical , ...</td>\n",
       "      <td>$ 1.29</td>\n",
       "      <td>‰ ãÑ 2013 WaterTower Music</td>\n",
       "      <td>5:14</td>\n",
       "      <td>10-Dec-13</td>\n",
       "      <td>The High Fells ( Extended Version )</td>\n",
       "      <td>Howard Shore</td>\n",
       "      <td>The Hobbit : The Desolation of Smaug ( Origina...</td>\n",
       "      <td>Soundtracks</td>\n",
       "      <td>$ 1.29</td>\n",
       "      <td>2013 WaterTower Music / Warner Bros. . Enterta...</td>\n",
       "      <td>3:38</td>\n",
       "      <td>December 10 , 2013</td>\n",
       "      <td>493</td>\n",
       "    </tr>\n",
       "    <tr>\n",
       "      <th>2</th>\n",
       "      <td>Extra Extra Credit</td>\n",
       "      <td>Wiz Khalifa</td>\n",
       "      <td>Flight School</td>\n",
       "      <td>Hip-Hop/Rap , Music</td>\n",
       "      <td>$ 0.99</td>\n",
       "      <td>2009 Rostrum Records</td>\n",
       "      <td>4:03</td>\n",
       "      <td>17-Apr-09</td>\n",
       "      <td>Extra Extra Credit [ Explicit ]</td>\n",
       "      <td>Wiz Khalifa</td>\n",
       "      <td>Flight School [ Explicit ]</td>\n",
       "      <td>Rap &amp; Hip-Hop</td>\n",
       "      <td>$ 0.99</td>\n",
       "      <td>2013 Mad Decent</td>\n",
       "      <td>4:03</td>\n",
       "      <td>April 17 , 2009</td>\n",
       "      <td>802</td>\n",
       "    </tr>\n",
       "    <tr>\n",
       "      <th>3</th>\n",
       "      <td>Toyfriend ( feat . Wynter Gordon ) [ Continuou...</td>\n",
       "      <td>David Guetta</td>\n",
       "      <td>One Love ( Deluxe Version )</td>\n",
       "      <td>Dance , Music</td>\n",
       "      <td>$ 1.29</td>\n",
       "      <td>2010 Gum Prod licence exclusive Parlophone Mus...</td>\n",
       "      <td>2:51</td>\n",
       "      <td>21-Aug-09</td>\n",
       "      <td>Sound Of Letting Go ( Feat . Chris Willis )</td>\n",
       "      <td>David Guetta</td>\n",
       "      <td>One Love ( Deluxe Version )</td>\n",
       "      <td>Dance &amp; Electronic</td>\n",
       "      <td>$ 1.29</td>\n",
       "      <td>( C ) 2014 Swedish House Mafia Holdings Ltd ( ...</td>\n",
       "      <td>3:47</td>\n",
       "      <td>August 21 , 2009</td>\n",
       "      <td>249</td>\n",
       "    </tr>\n",
       "    <tr>\n",
       "      <th>4</th>\n",
       "      <td>Dangerous ( feat . Sam Martin ) [ Robin Schulz...</td>\n",
       "      <td>David Guetta</td>\n",
       "      <td>Listen ( Deluxe Version )</td>\n",
       "      <td>Dance , Music , Rock , House , Electronic , Fr...</td>\n",
       "      <td>$ 1.29</td>\n",
       "      <td>2014 What A Music Ltd. under exclusive license...</td>\n",
       "      <td>3:20</td>\n",
       "      <td>24-Nov-14</td>\n",
       "      <td>Missing You ( Feat . Novel ; Continuous Mix Ve...</td>\n",
       "      <td>David Guetta</td>\n",
       "      <td>One Love ( Deluxe Version )</td>\n",
       "      <td>Dance &amp; Electronic</td>\n",
       "      <td>$ 1.29</td>\n",
       "      <td>( C ) 2014 Swedish House Mafia Holdings Ltd ( ...</td>\n",
       "      <td>4:59</td>\n",
       "      <td>August 21 , 2009</td>\n",
       "      <td>134</td>\n",
       "    </tr>\n",
       "  </tbody>\n",
       "</table>\n",
       "</div>"
      ],
      "text/plain": [
       "                                    ltable_Song_Name ltable_Artist_Name  \\\n",
       "0                      Elevator ( feat . Timbaland )           Flo Rida   \n",
       "1            The Woodland Realm ( Extended Version )       Howard Shore   \n",
       "2                                 Extra Extra Credit        Wiz Khalifa   \n",
       "3  Toyfriend ( feat . Wynter Gordon ) [ Continuou...       David Guetta   \n",
       "4  Dangerous ( feat . Sam Martin ) [ Robin Schulz...       David Guetta   \n",
       "\n",
       "                                   ltable_Album_Name  \\\n",
       "0                  Mail On Sunday ( Deluxe Version )   \n",
       "1  The Hobbit : The Desolation of Smaug ( Origina...   \n",
       "2                                      Flight School   \n",
       "3                        One Love ( Deluxe Version )   \n",
       "4                          Listen ( Deluxe Version )   \n",
       "\n",
       "                                        ltable_Genre ltable_Price  \\\n",
       "0                  Hip-Hop/Rap , Music , Dirty South       $ 1.99   \n",
       "1  Soundtrack , Music , Soundtrack , Classical , ...       $ 1.29   \n",
       "2                                Hip-Hop/Rap , Music       $ 0.99   \n",
       "3                                      Dance , Music       $ 1.29   \n",
       "4  Dance , Music , Rock , House , Electronic , Fr...       $ 1.29   \n",
       "\n",
       "                                    ltable_CopyRight ltable_Time  \\\n",
       "0  2008 Atlantic Recording Corporation for the Un...        3:55   \n",
       "1                         ‰ ãÑ 2013 WaterTower Music        5:14   \n",
       "2                               2009 Rostrum Records        4:03   \n",
       "3  2010 Gum Prod licence exclusive Parlophone Mus...        2:51   \n",
       "4  2014 What A Music Ltd. under exclusive license...        3:20   \n",
       "\n",
       "  ltable_Released                                   rtable_Song_Name  \\\n",
       "0       17-Mar-08  Money Right ( feat . Rick Ross & Brisco ) [ Ex...   \n",
       "1       10-Dec-13                The High Fells ( Extended Version )   \n",
       "2       17-Apr-09                    Extra Extra Credit [ Explicit ]   \n",
       "3       21-Aug-09        Sound Of Letting Go ( Feat . Chris Willis )   \n",
       "4       24-Nov-14  Missing You ( Feat . Novel ; Continuous Mix Ve...   \n",
       "\n",
       "  rtable_Artist_Name                                  rtable_Album_Name  \\\n",
       "0           Flo Rida                        Mail On Sunday [ Explicit ]   \n",
       "1       Howard Shore  The Hobbit : The Desolation of Smaug ( Origina...   \n",
       "2        Wiz Khalifa                         Flight School [ Explicit ]   \n",
       "3       David Guetta                        One Love ( Deluxe Version )   \n",
       "4       David Guetta                        One Love ( Deluxe Version )   \n",
       "\n",
       "         rtable_Genre rtable_Price  \\\n",
       "0       Rap & Hip-Hop       $ 1.29   \n",
       "1         Soundtracks       $ 1.29   \n",
       "2       Rap & Hip-Hop       $ 0.99   \n",
       "3  Dance & Electronic       $ 1.29   \n",
       "4  Dance & Electronic       $ 1.29   \n",
       "\n",
       "                                    rtable_CopyRight rtable_Time  \\\n",
       "0                   2013 Warner Bros. . Records Inc.        3:17   \n",
       "1  2013 WaterTower Music / Warner Bros. . Enterta...        3:38   \n",
       "2                                    2013 Mad Decent        4:03   \n",
       "3  ( C ) 2014 Swedish House Mafia Holdings Ltd ( ...        3:47   \n",
       "4  ( C ) 2014 Swedish House Mafia Holdings Ltd ( ...        4:59   \n",
       "\n",
       "      rtable_Released   id  \n",
       "0     March 17 , 2008  454  \n",
       "1  December 10 , 2013  493  \n",
       "2     April 17 , 2009  802  \n",
       "3    August 21 , 2009  249  \n",
       "4    August 21 , 2009  134  "
      ]
     },
     "execution_count": 149,
     "metadata": {},
     "output_type": "execute_result"
    }
   ],
   "source": [
    "test_df = pd.DataFrame.from_dict(mergeDictionary(dict_list))\n",
    "test_df.head()"
   ]
  },
  {
   "cell_type": "code",
   "execution_count": 150,
   "metadata": {},
   "outputs": [],
   "source": [
    "def wrap_dm(model,stringTuples,tempPath,attributes):\n",
    "    dict_list = list(map(lambda s:stringToRow(s,attributes),stringTuples))\n",
    "    data_dict = mergeDictionary(dict_list)\n",
    "    df = pd.DataFrame.from_dict(data_dict)\n",
    "    df.to_csv(tempPath,index=False)\n",
    "    dataset = dm.data.process_unlabeled(tempPath,model)\n",
    "    predictions = model.run_prediction(dataset)\n",
    "    predictedClasses = []\n",
    "    for pred in predictions['match_score']:\n",
    "        if pred>0.5:\n",
    "            predictedClasses.append(1)\n",
    "        else:\n",
    "            predictedClasses.append(0)\n",
    "    return predictedClasses"
   ]
  },
  {
   "cell_type": "code",
   "execution_count": 152,
   "metadata": {},
   "outputs": [
    {
     "name": "stdout",
     "output_type": "stream",
     "text": [
      "===>  PREDICT Epoch 7\n",
      "Finished Epoch 7 || Run Time:    0.5 | Load Time:    0.4 || F1:   0.00 | Prec:   0.00 | Rec:   0.00 || Ex/s:   0.00\n",
      "\n"
     ]
    }
   ],
   "source": [
    "test_withoutNan = test.fillna(\"\").copy()\n",
    "stringTuples = []\n",
    "for idx,_ in test_withoutNan.iterrows():\n",
    "    stringTuples.append(rowToString(test_withoutNan,idx))\n",
    "predictions = wrap_dm(hybrid_model,stringTuples,'temp/wrapdm.csv',attributes)"
   ]
  },
  {
   "cell_type": "markdown",
   "metadata": {},
   "source": [
    "## Explain predictions"
   ]
  },
  {
   "cell_type": "code",
   "execution_count": 154,
   "metadata": {},
   "outputs": [],
   "source": [
    "class_names = [\"non-matching\",\"matching\"]"
   ]
  },
  {
   "cell_type": "code",
   "execution_count": 155,
   "metadata": {},
   "outputs": [
    {
     "name": "stdout",
     "output_type": "stream",
     "text": [
      "L0_Elevator L0_( L0_feat L0_. L0_Timbaland L0_) L1_Flo L1_Rida L2_Mail L2_On L2_Sunday L2_( L2_Deluxe L2_Version L2_) L3_Hip-Hop/Rap L3_, L3_Music L3_, L3_Dirty L3_South L4_$ L4_1.99 L5_2008 L5_Atlantic L5_Recording L5_Corporation L5_for L5_the L5_United L5_States L5_and L5_WEA L5_International L5_Inc. L5_for L5_the L5_world L5_outside L5_of L5_the L5_United L5_States L6_3:55 L7_17-Mar-08 R0_Money R0_Right R0_( R0_feat R0_. R0_Rick R0_Ross R0_& R0_Brisco R0_) R0_[ R0_Explicit R0_] R1_Flo R1_Rida R2_Mail R2_On R2_Sunday R2_[ R2_Explicit R2_] R3_Rap R3_& R3_Hip-Hop R4_$ R4_1.29 R5_2013 R5_Warner R5_Bros. R5_. R5_Records R5_Inc. R6_3:17 R7_March R7_17 R7_, R7_2008 \n"
     ]
    }
   ],
   "source": [
    "tupleTest = rowToString(test,0)\n",
    "print(tupleTest)"
   ]
  },
  {
   "cell_type": "code",
   "execution_count": 156,
   "metadata": {},
   "outputs": [],
   "source": [
    "predict_fn = lambda tuples : wrap_dm(hybrid_model,tuples,'temp/wrapdm.csv',attributes)"
   ]
  },
  {
   "cell_type": "code",
   "execution_count": 157,
   "metadata": {},
   "outputs": [
    {
     "name": "stdout",
     "output_type": "stream",
     "text": [
      "===>  PREDICT Epoch 7\n",
      "Finished Epoch 7 || Run Time:    0.1 | Load Time:    0.0 || F1:   0.00 | Prec:   0.00 | Rec:   0.00 || Ex/s:   0.00\n",
      "\n",
      "===>  PREDICT Epoch 7\n",
      "Finished Epoch 7 || Run Time:    0.1 | Load Time:    0.0 || F1:   0.00 | Prec:   0.00 | Rec:   0.00 || Ex/s:   0.00\n",
      "\n",
      "Prediction: non-matching\n"
     ]
    }
   ],
   "source": [
    "pred = class_names[predict_fn([tupleTest])[0]]\n",
    "alternative =  class_names[1 - predict_fn([tupleTest])[0]]\n",
    "print('Prediction: %s' % pred)"
   ]
  },
  {
   "cell_type": "code",
   "execution_count": 161,
   "metadata": {},
   "outputs": [
    {
     "name": "stdout",
     "output_type": "stream",
     "text": [
      "===>  PREDICT Epoch 7\n",
      "Finished Epoch 7 || Run Time:    0.1 | Load Time:    0.0 || F1:   0.00 | Prec:   0.00 | Rec:   0.00 || Ex/s:   0.00\n",
      "\n"
     ]
    },
    {
     "data": {
      "text/plain": [
       "[0, 0]"
      ]
     },
     "execution_count": 161,
     "metadata": {},
     "output_type": "execute_result"
    }
   ],
   "source": [
    "tuplesTest = [rowToString(test,0),rowToString(test,1)]\n",
    "predict_fn(tuplesTest)"
   ]
  },
  {
   "cell_type": "code",
   "execution_count": 158,
   "metadata": {},
   "outputs": [
    {
     "ename": "AssertionError",
     "evalue": "",
     "output_type": "error",
     "traceback": [
      "\u001b[0;31m---------------------------------------------------------------------------\u001b[0m",
      "\u001b[0;31mAssertionError\u001b[0m                            Traceback (most recent call last)",
      "\u001b[0;32m<ipython-input-158-184c1e0a132f>\u001b[0m in \u001b[0;36m<module>\u001b[0;34m()\u001b[0m\n\u001b[0;32m----> 1\u001b[0;31m \u001b[0mexplainer\u001b[0m \u001b[0;34m=\u001b[0m \u001b[0mAnchorText\u001b[0m\u001b[0;34m(\u001b[0m\u001b[0mnlp\u001b[0m\u001b[0;34m,\u001b[0m \u001b[0mpredict_fn\u001b[0m\u001b[0;34m)\u001b[0m\u001b[0;34m\u001b[0m\u001b[0;34m\u001b[0m\u001b[0m\n\u001b[0m",
      "\u001b[0;32m/home/nvidia/anaconda3/envs/testenv/lib/python3.6/site-packages/alibi/explainers/anchor_text.py\u001b[0m in \u001b[0;36m__init__\u001b[0;34m(self, nlp, predict_fn)\u001b[0m\n\u001b[1;32m     80\u001b[0m         \u001b[0;31m# check if predict_fn returns predicted class or prediction probabilities for each class\u001b[0m\u001b[0;34m\u001b[0m\u001b[0;34m\u001b[0m\u001b[0;34m\u001b[0m\u001b[0m\n\u001b[1;32m     81\u001b[0m         \u001b[0;31m# if needed adjust predict_fn so it returns the predicted class\u001b[0m\u001b[0;34m\u001b[0m\u001b[0;34m\u001b[0m\u001b[0;34m\u001b[0m\u001b[0m\n\u001b[0;32m---> 82\u001b[0;31m         \u001b[0;32mif\u001b[0m \u001b[0mnp\u001b[0m\u001b[0;34m.\u001b[0m\u001b[0margmax\u001b[0m\u001b[0;34m(\u001b[0m\u001b[0mpredict_fn\u001b[0m\u001b[0;34m(\u001b[0m\u001b[0;34m[\u001b[0m\u001b[0;34m'Hello world'\u001b[0m\u001b[0;34m]\u001b[0m\u001b[0;34m)\u001b[0m\u001b[0;34m.\u001b[0m\u001b[0mshape\u001b[0m\u001b[0;34m)\u001b[0m \u001b[0;34m==\u001b[0m \u001b[0;36m0\u001b[0m\u001b[0;34m:\u001b[0m\u001b[0;34m\u001b[0m\u001b[0;34m\u001b[0m\u001b[0m\n\u001b[0m\u001b[1;32m     83\u001b[0m             \u001b[0mself\u001b[0m\u001b[0;34m.\u001b[0m\u001b[0mpredict_fn\u001b[0m \u001b[0;34m=\u001b[0m \u001b[0mpredict_fn\u001b[0m\u001b[0;34m\u001b[0m\u001b[0;34m\u001b[0m\u001b[0m\n\u001b[1;32m     84\u001b[0m         \u001b[0;32melse\u001b[0m\u001b[0;34m:\u001b[0m\u001b[0;34m\u001b[0m\u001b[0;34m\u001b[0m\u001b[0m\n",
      "\u001b[0;32m<ipython-input-156-63886276e60b>\u001b[0m in \u001b[0;36m<lambda>\u001b[0;34m(tuples)\u001b[0m\n\u001b[0;32m----> 1\u001b[0;31m \u001b[0mpredict_fn\u001b[0m \u001b[0;34m=\u001b[0m \u001b[0;32mlambda\u001b[0m \u001b[0mtuples\u001b[0m \u001b[0;34m:\u001b[0m \u001b[0mwrap_dm\u001b[0m\u001b[0;34m(\u001b[0m\u001b[0mhybrid_model\u001b[0m\u001b[0;34m,\u001b[0m\u001b[0mtuples\u001b[0m\u001b[0;34m,\u001b[0m\u001b[0;34m'temp/wrapdm.csv'\u001b[0m\u001b[0;34m,\u001b[0m\u001b[0mattributes\u001b[0m\u001b[0;34m)\u001b[0m\u001b[0;34m\u001b[0m\u001b[0;34m\u001b[0m\u001b[0m\n\u001b[0m",
      "\u001b[0;32m<ipython-input-150-002de5e63993>\u001b[0m in \u001b[0;36mwrap_dm\u001b[0;34m(model, stringTuples, tempPath, attributes)\u001b[0m\n\u001b[1;32m      4\u001b[0m     \u001b[0mdf\u001b[0m \u001b[0;34m=\u001b[0m \u001b[0mpd\u001b[0m\u001b[0;34m.\u001b[0m\u001b[0mDataFrame\u001b[0m\u001b[0;34m.\u001b[0m\u001b[0mfrom_dict\u001b[0m\u001b[0;34m(\u001b[0m\u001b[0mdata_dict\u001b[0m\u001b[0;34m)\u001b[0m\u001b[0;34m\u001b[0m\u001b[0;34m\u001b[0m\u001b[0m\n\u001b[1;32m      5\u001b[0m     \u001b[0mdf\u001b[0m\u001b[0;34m.\u001b[0m\u001b[0mto_csv\u001b[0m\u001b[0;34m(\u001b[0m\u001b[0mtempPath\u001b[0m\u001b[0;34m,\u001b[0m\u001b[0mindex\u001b[0m\u001b[0;34m=\u001b[0m\u001b[0;32mFalse\u001b[0m\u001b[0;34m)\u001b[0m\u001b[0;34m\u001b[0m\u001b[0;34m\u001b[0m\u001b[0m\n\u001b[0;32m----> 6\u001b[0;31m     \u001b[0mdataset\u001b[0m \u001b[0;34m=\u001b[0m \u001b[0mdm\u001b[0m\u001b[0;34m.\u001b[0m\u001b[0mdata\u001b[0m\u001b[0;34m.\u001b[0m\u001b[0mprocess_unlabeled\u001b[0m\u001b[0;34m(\u001b[0m\u001b[0mtempPath\u001b[0m\u001b[0;34m,\u001b[0m\u001b[0mmodel\u001b[0m\u001b[0;34m)\u001b[0m\u001b[0;34m\u001b[0m\u001b[0;34m\u001b[0m\u001b[0m\n\u001b[0m\u001b[1;32m      7\u001b[0m     \u001b[0mpredictions\u001b[0m \u001b[0;34m=\u001b[0m \u001b[0mmodel\u001b[0m\u001b[0;34m.\u001b[0m\u001b[0mrun_prediction\u001b[0m\u001b[0;34m(\u001b[0m\u001b[0mdataset\u001b[0m\u001b[0;34m)\u001b[0m\u001b[0;34m\u001b[0m\u001b[0;34m\u001b[0m\u001b[0m\n\u001b[1;32m      8\u001b[0m     \u001b[0mpredictedClasses\u001b[0m \u001b[0;34m=\u001b[0m \u001b[0;34m[\u001b[0m\u001b[0;34m]\u001b[0m\u001b[0;34m\u001b[0m\u001b[0;34m\u001b[0m\u001b[0m\n",
      "\u001b[0;32m/home/nvidia/anaconda3/envs/testenv/lib/python3.6/site-packages/deepmatcher/data/process.py\u001b[0m in \u001b[0;36mprocess_unlabeled\u001b[0;34m(path, trained_model, ignore_columns)\u001b[0m\n\u001b[1;32m    260\u001b[0m \u001b[0;34m\u001b[0m\u001b[0m\n\u001b[1;32m    261\u001b[0m     \u001b[0;31m# Make sure we have the same attributes.\u001b[0m\u001b[0;34m\u001b[0m\u001b[0;34m\u001b[0m\u001b[0;34m\u001b[0m\u001b[0m\n\u001b[0;32m--> 262\u001b[0;31m     \u001b[0;32massert\u001b[0m \u001b[0mset\u001b[0m\u001b[0;34m(\u001b[0m\u001b[0mdataset\u001b[0m\u001b[0;34m.\u001b[0m\u001b[0mall_text_fields\u001b[0m\u001b[0;34m)\u001b[0m \u001b[0;34m==\u001b[0m \u001b[0mset\u001b[0m\u001b[0;34m(\u001b[0m\u001b[0mtrain_info\u001b[0m\u001b[0;34m.\u001b[0m\u001b[0mall_text_fields\u001b[0m\u001b[0;34m)\u001b[0m\u001b[0;34m\u001b[0m\u001b[0;34m\u001b[0m\u001b[0m\n\u001b[0m\u001b[1;32m    263\u001b[0m \u001b[0;34m\u001b[0m\u001b[0m\n\u001b[1;32m    264\u001b[0m     \u001b[0mafter_load\u001b[0m \u001b[0;34m=\u001b[0m \u001b[0mtimer\u001b[0m\u001b[0;34m(\u001b[0m\u001b[0;34m)\u001b[0m\u001b[0;34m\u001b[0m\u001b[0;34m\u001b[0m\u001b[0m\n",
      "\u001b[0;31mAssertionError\u001b[0m: "
     ]
    }
   ],
   "source": [
    "explainer = AnchorText(nlp, predict_fn)"
   ]
  },
  {
   "cell_type": "code",
   "execution_count": null,
   "metadata": {},
   "outputs": [],
   "source": []
  }
 ],
 "metadata": {
  "kernelspec": {
   "display_name": "Python 3",
   "language": "python",
   "name": "python3"
  },
  "language_info": {
   "codemirror_mode": {
    "name": "ipython",
    "version": 3
   },
   "file_extension": ".py",
   "mimetype": "text/x-python",
   "name": "python",
   "nbconvert_exporter": "python",
   "pygments_lexer": "ipython3",
   "version": "3.6.8"
  }
 },
 "nbformat": 4,
 "nbformat_minor": 2
}

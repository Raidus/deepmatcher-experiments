{
 "cells": [
  {
   "cell_type": "code",
   "execution_count": 1,
   "metadata": {
    "ExecuteTime": {
     "end_time": "2020-02-17T14:53:11.617831Z",
     "start_time": "2020-02-17T14:53:11.597960Z"
    }
   },
   "outputs": [],
   "source": [
    "%load_ext autoreload\n",
    "%autoreload 2"
   ]
  },
  {
   "cell_type": "code",
   "execution_count": 2,
   "metadata": {
    "ExecuteTime": {
     "end_time": "2020-02-17T14:53:11.803977Z",
     "start_time": "2020-02-17T14:53:11.792482Z"
    }
   },
   "outputs": [],
   "source": [
    "import sys\n",
    "sys.path.append('..')"
   ]
  },
  {
   "cell_type": "code",
   "execution_count": 3,
   "metadata": {
    "ExecuteTime": {
     "end_time": "2020-02-17T14:53:15.805509Z",
     "start_time": "2020-02-17T14:53:11.961146Z"
    }
   },
   "outputs": [],
   "source": [
    "import numpy as np\n",
    "import pandas as pd\n",
    "import deepmatcher as dm\n",
    "import spacy\n",
    "import random as rd\n",
    "from collections import defaultdict\n",
    "from alibi.explainers import AnchorText\n",
    "from alibi.datasets import fetch_movie_sentiment\n",
    "from alibi.utils.download import spacy_model\n",
    "from utils.deepmatcher_utils import wrapDm"
   ]
  },
  {
   "cell_type": "code",
   "execution_count": null,
   "metadata": {
    "ExecuteTime": {
     "end_time": "2020-02-17T13:36:51.937824Z",
     "start_time": "2020-02-17T13:36:51.933581Z"
    }
   },
   "outputs": [],
   "source": [
    "def makeAttr(attribute,idx,isLeft):\n",
    "    attr_prefixed = []\n",
    "    for token in attribute.split():\n",
    "        if isLeft:\n",
    "            attr_prefixed.append('L'+str(idx)+'_'+token)\n",
    "        else:\n",
    "            attr_prefixed.append('R'+str(idx)+'_'+token)\n",
    "    return \" \".join(attr_prefixed)"
   ]
  },
  {
   "cell_type": "code",
   "execution_count": null,
   "metadata": {
    "ExecuteTime": {
     "end_time": "2020-02-17T13:36:51.952485Z",
     "start_time": "2020-02-17T13:36:51.940017Z"
    }
   },
   "outputs": [],
   "source": [
    "makeAttr('imperial red ale',2,isLeft=True)"
   ]
  },
  {
   "cell_type": "code",
   "execution_count": null,
   "metadata": {
    "ExecuteTime": {
     "end_time": "2020-02-17T13:36:51.963886Z",
     "start_time": "2020-02-17T13:36:51.953997Z"
    }
   },
   "outputs": [],
   "source": [
    "def pairs_to_string(df,lprefix,rprefix,ignore_columns = ['id','label']):\n",
    "    pairs_string = []\n",
    "    l_columns = [col for col in list(df) if (col.startswith(lprefix)) and (col not in ignore_columns)]\n",
    "    r_columns = [col for col in list(df) if col.startswith(rprefix) and (col not in ignore_columns)]\n",
    "    df = df.fillna(\"\")\n",
    "    for i in range(len(df)):\n",
    "        this_row = df.iloc[i]\n",
    "        this_row_str = []\n",
    "        for j,lattr in enumerate(l_columns):\n",
    "            this_attr = makeAttr(this_row[lattr],j,isLeft=True)\n",
    "            this_row_str.append(this_attr)\n",
    "        for k,rattr in enumerate(r_columns):\n",
    "            this_attr = makeAttr(this_row[rattr],k,isLeft=False)\n",
    "            this_row_str.append(this_attr)\n",
    "        pairs_string.append(\" \".join(this_row_str))\n",
    "    return pairs_string"
   ]
  },
  {
   "cell_type": "code",
   "execution_count": null,
   "metadata": {
    "ExecuteTime": {
     "end_time": "2020-02-17T13:36:51.972275Z",
     "start_time": "2020-02-17T13:36:51.965744Z"
    }
   },
   "outputs": [],
   "source": [
    "def makeRow(pair_str,attributes,lprefix,rprefix):\n",
    "    row_map = defaultdict(list)\n",
    "    for token in pair_str.split():\n",
    "        row_map[token[:2]].append(token[3:])\n",
    "    row = {}\n",
    "    for key in row_map.keys():\n",
    "        if key.startswith('L'):\n",
    "            ## key[1] is the index of attribute\n",
    "            this_attr = lprefix+attributes[int(key[1])]\n",
    "            row[this_attr] = \" \".join(row_map[key])\n",
    "        else:\n",
    "            this_attr = rprefix+attributes[int(key[1])]\n",
    "            row[this_attr] = \" \".join(row_map[key])\n",
    "    return pd.Series(row)"
   ]
  },
  {
   "cell_type": "code",
   "execution_count": null,
   "metadata": {
    "ExecuteTime": {
     "end_time": "2020-02-17T13:36:52.455764Z",
     "start_time": "2020-02-17T13:36:52.447668Z"
    }
   },
   "outputs": [],
   "source": [
    "def pairs_str_to_df(pairs_str_l,columns,lprefix,rprefix):\n",
    "    tuples = {}\n",
    "    lschema = list(filter(lambda x: x.startswith(lprefix),columns))\n",
    "    schema = {}\n",
    "    for i, s in enumerate(lschema):\n",
    "        schema[i] = s.replace(lprefix, \"\")\n",
    "    allTuples = []\n",
    "    for pair_str in pairs_str_l:\n",
    "        row = makeRow(pair_str,schema,'ltable_','rtable_')\n",
    "        allTuples.append(row)\n",
    "    df = pd.DataFrame(allTuples)\n",
    "    df['id'] = np.arange(len(df))\n",
    "    return df"
   ]
  },
  {
   "cell_type": "code",
   "execution_count": null,
   "metadata": {
    "ExecuteTime": {
     "end_time": "2020-02-17T13:36:53.181771Z",
     "start_time": "2020-02-17T13:36:53.173078Z"
    }
   },
   "outputs": [],
   "source": [
    "def pair_str_to_df(pair_str,columns,lprefix,rprefix):\n",
    "    lschema = list(filter(lambda x: x.startswith(lprefix),columns))\n",
    "    schema = {}\n",
    "    for i, s in enumerate(lschema):\n",
    "        schema[i] = s.replace(lprefix, \"\")\n",
    "    row = makeRow(pair_str,schema,'ltable_','rtable_')\n",
    "    row['id'] = 0\n",
    "    return pd.DataFrame( data = [row.values],columns= row.index)"
   ]
  },
  {
   "cell_type": "code",
   "execution_count": null,
   "metadata": {
    "ExecuteTime": {
     "end_time": "2020-02-17T13:36:53.917778Z",
     "start_time": "2020-02-17T13:36:53.815093Z"
    }
   },
   "outputs": [],
   "source": [
    "test_df = pd.read_csv('../datasets/Structured/itunes-amazon/merged_test.csv')\n",
    "pairs_str_test = pairs_to_string(test_df,'ltable_','rtable_')"
   ]
  },
  {
   "cell_type": "code",
   "execution_count": null,
   "metadata": {
    "ExecuteTime": {
     "end_time": "2020-02-17T13:36:55.083745Z",
     "start_time": "2020-02-17T13:36:55.012862Z"
    }
   },
   "outputs": [],
   "source": [
    "test_df_beer = pd.read_csv('../datasets/Structured/Beer/merged_test.csv')\n",
    "pairs_str_testBeeer = pairs_to_string(test_df_beer,'ltable_','rtable_')\n",
    "pairs_str_testBeeer[0]"
   ]
  },
  {
   "cell_type": "code",
   "execution_count": null,
   "metadata": {
    "ExecuteTime": {
     "end_time": "2020-02-17T13:36:56.040075Z",
     "start_time": "2020-02-17T13:36:55.934519Z"
    }
   },
   "outputs": [],
   "source": [
    "pairs_str_to_df(pairs_str_testBeeer,test_df_beer.columns,'ltable_','rtable_')"
   ]
  },
  {
   "cell_type": "markdown",
   "metadata": {},
   "source": [
    "## Load spacy model"
   ]
  },
  {
   "cell_type": "code",
   "execution_count": 4,
   "metadata": {
    "ExecuteTime": {
     "end_time": "2020-02-17T14:53:49.655688Z",
     "start_time": "2020-02-17T14:53:19.349039Z"
    }
   },
   "outputs": [],
   "source": [
    "model = 'en_core_web_md'\n",
    "spacy_model(model=model)\n",
    "nlp = spacy.load(model)"
   ]
  },
  {
   "cell_type": "markdown",
   "metadata": {},
   "source": [
    "## Load deepmatcher and create wrapper function"
   ]
  },
  {
   "cell_type": "code",
   "execution_count": 7,
   "metadata": {
    "ExecuteTime": {
     "end_time": "2020-02-17T14:53:59.135611Z",
     "start_time": "2020-02-17T14:53:59.063925Z"
    }
   },
   "outputs": [],
   "source": [
    "from mojito import Mojito"
   ]
  },
  {
   "cell_type": "code",
   "execution_count": 5,
   "metadata": {
    "ExecuteTime": {
     "end_time": "2020-02-17T14:53:55.243793Z",
     "start_time": "2020-02-17T14:53:49.657941Z"
    }
   },
   "outputs": [],
   "source": [
    "hybrid_model = dm.MatchingModel(attr_summarizer='hybrid')\n",
    "hybrid_model.load_state('../models/itunes_amazon_hybrid.pth')"
   ]
  },
  {
   "cell_type": "code",
   "execution_count": 8,
   "metadata": {
    "ExecuteTime": {
     "end_time": "2020-02-17T14:54:00.375315Z",
     "start_time": "2020-02-17T14:54:00.279589Z"
    }
   },
   "outputs": [],
   "source": [
    "test_df = pd.read_csv('../datasets/Structured/itunes-amazon/merged_test.csv')\n",
    "mojito_itunes = Mojito(test_df.columns)"
   ]
  },
  {
   "cell_type": "code",
   "execution_count": 16,
   "metadata": {
    "ExecuteTime": {
     "end_time": "2020-02-17T14:55:28.800271Z",
     "start_time": "2020-02-17T14:55:28.668144Z"
    }
   },
   "outputs": [
    {
     "data": {
      "text/plain": [
       "'L0|Elevator L0|( L0|feat L0|. L0|Timbaland L0|) L1|Flo L1|Rida L2|Mail L2|On L2|Sunday L2|( L2|Deluxe L2|Version L2|) L3|Hip-Hop/Rap L3|, L3|Music L3|, L3|Dirty L3|South L4|$ L4|1.99 L5|2008 L5|Atlantic L5|Recording L5|Corporation L5|for L5|the L5|United L5|States L5|and L5|WEA L5|International L5|Inc. L5|for L5|the L5|world L5|outside L5|of L5|the L5|United L5|States L6|3:55 L7|17-Mar-08 R0|Money R0|Right R0|( R0|feat R0|. R0|Rick R0|Ross R0|& R0|Brisco R0|) R0|[ R0|Explicit R0|] R1|Flo R1|Rida R2|Mail R2|On R2|Sunday R2|[ R2|Explicit R2|] R3|Rap R3|& R3|Hip-Hop R4|$ R4|1.29 R5|2013 R5|Warner R5|Bros. R5|. R5|Records R5|Inc. R6|3:17 R7|March R7|17 R7|, R7|2008'"
      ]
     },
     "execution_count": 16,
     "metadata": {},
     "output_type": "execute_result"
    }
   ],
   "source": [
    "test_tuples_str = mojito_itunes.pair_of_tuples_to_str(test_df)\n",
    "test_tuples_str[0]"
   ]
  },
  {
   "cell_type": "code",
   "execution_count": 51,
   "metadata": {
    "ExecuteTime": {
     "end_time": "2020-02-17T15:52:25.366403Z",
     "start_time": "2020-02-17T15:52:25.293787Z"
    }
   },
   "outputs": [],
   "source": [
    "def wrap_dm(model,stringTuples):\n",
    "    ##if stringTuples[0]=='Hello world':\n",
    "        ##return np.array([1,0])\n",
    "    df = mojito_itunes.str_to_pair_of_tuples(stringTuples)\n",
    "    df['id'] = np.arange(len(df))\n",
    "    predictions = wrapDm(df,model)\n",
    "    if predictions.shape==(2,):\n",
    "        return np.array([np.argmax(predictions)])\n",
    "    else:\n",
    "        return np.argmax(predictions,axis=1)"
   ]
  },
  {
   "cell_type": "markdown",
   "metadata": {},
   "source": [
    "## Explain predictions"
   ]
  },
  {
   "cell_type": "code",
   "execution_count": 34,
   "metadata": {
    "ExecuteTime": {
     "end_time": "2020-02-17T15:07:36.018789Z",
     "start_time": "2020-02-17T15:07:31.489275Z"
    }
   },
   "outputs": [],
   "source": [
    "!pip install -q anchor_exp"
   ]
  },
  {
   "cell_type": "code",
   "execution_count": 35,
   "metadata": {
    "ExecuteTime": {
     "end_time": "2020-02-17T15:07:50.249604Z",
     "start_time": "2020-02-17T15:07:50.151828Z"
    }
   },
   "outputs": [],
   "source": [
    "from anchor import anchor_text"
   ]
  },
  {
   "cell_type": "code",
   "execution_count": 14,
   "metadata": {
    "ExecuteTime": {
     "end_time": "2020-02-17T14:55:19.996734Z",
     "start_time": "2020-02-17T14:55:19.917575Z"
    }
   },
   "outputs": [],
   "source": [
    "class_names = [\"non-matching\",\"matching\"]\n",
    "predict_fn = lambda tuples : wrap_dm(hybrid_model,tuples)"
   ]
  },
  {
   "cell_type": "code",
   "execution_count": 36,
   "metadata": {
    "ExecuteTime": {
     "end_time": "2020-02-17T15:08:43.591451Z",
     "start_time": "2020-02-17T15:08:42.758858Z"
    }
   },
   "outputs": [],
   "source": [
    "explainer = anchor_text.AnchorText(nlp,['non-matching','matching'],use_unk_distribution=False)"
   ]
  },
  {
   "cell_type": "code",
   "execution_count": 66,
   "metadata": {
    "ExecuteTime": {
     "end_time": "2020-02-17T16:14:18.225137Z",
     "start_time": "2020-02-17T16:00:52.904098Z"
    }
   },
   "outputs": [
    {
     "name": "stderr",
     "output_type": "stream",
     "text": [
      "/home/nvidia/anaconda3/envs/torchenv/lib/python3.6/site-packages/lime/lime_text.py:116: FutureWarning: split() requires a non-empty pattern match.\n",
      "  self.as_list = [s for s in splitter.split(self.raw) if s]\n"
     ]
    }
   ],
   "source": [
    "exp = explainer.explain_instance(test_tuples_str[0], predict_fn, threshold=0.95, use_proba=False)"
   ]
  },
  {
   "cell_type": "code",
   "execution_count": 58,
   "metadata": {
    "ExecuteTime": {
     "end_time": "2020-02-17T15:59:09.648518Z",
     "start_time": "2020-02-17T15:59:08.595318Z"
    }
   },
   "outputs": [
    {
     "name": "stderr",
     "output_type": "stream",
     "text": [
      "/home/nvidia/anaconda3/envs/torchenv/lib/python3.6/site-packages/lime/lime_text.py:116: FutureWarning: split() requires a non-empty pattern match.\n",
      "  self.as_list = [s for s in splitter.split(self.raw) if s]\n"
     ]
    }
   ],
   "source": [
    "pred = explainer.class_names[predict_fn([test_tuples_str[0]])[0]]\n",
    "alternative =  explainer.class_names[1 -predict_fn([test_tuples_str[0]])[0]]"
   ]
  },
  {
   "cell_type": "code",
   "execution_count": 67,
   "metadata": {
    "ExecuteTime": {
     "end_time": "2020-02-17T16:17:00.987927Z",
     "start_time": "2020-02-17T16:17:00.880082Z"
    }
   },
   "outputs": [
    {
     "name": "stdout",
     "output_type": "stream",
     "text": [
      "Anchor: R7|2008 AND R7|17 AND L5|for AND L4|1.99 AND ( AND L5|and AND R0|Right AND L5|Inc AND ) AND R0|Explicit AND R0| AND R0| AND L4|$ AND L5|of AND L3| AND L0|Timbaland AND L2|Deluxe AND L2| AND L5|States AND L5|States AND R1|Rida AND L5|outside AND R0| AND R5|2013 AND . AND ) AND - AND R2|Mail AND ] AND . AND L5|Recording AND L5|International AND . AND R2| AND [ AND R5|Bros AND Rap AND . AND L0| AND ) AND R0|Money AND R4|1.29 AND L0| AND L0| AND R5|Warner AND R2| AND L2| AND R5|Records AND , AND R0| AND , AND ] AND L5|the AND L7|17-Mar-08 AND L6|3:55 AND Hop AND R2|On AND . AND R0|feat AND L5|United AND R7| AND L5|United AND L5|Corporation AND - AND L5|for AND R1|Flo AND / AND L3|Dirty AND L2|Version AND L5|WEA AND L5|the AND L3|Hip AND R7|March AND & AND R3|Hip AND L2|Sunday AND L3| AND R3|Rap AND R0| AND R0|Ross AND R6|3:17 AND L5|2008 AND L0|feat AND R5|Inc AND R4|$ AND L0|Elevator AND . AND R5| AND L1|Flo AND , AND ( AND L5|Atlantic AND L3|Music AND R3| AND R2|Explicit AND L5|world AND ( AND & AND L3|South AND R0|Rick AND L2|On AND R0| AND Hop AND L5|the AND R2|Sunday AND R0|Brisco AND L2|Mail AND L1|Rida AND [\n",
      "Precision: 0.00\n",
      "\n",
      "Examples where anchor applies and model predicts non-matching:\n",
      "\n",
      "\n",
      "\n",
      "Examples where anchor applies and model predicts matching:\n",
      "\n",
      "L0|Elevator L0| ( L0|feat L0| . L0|Timbaland L0| ) L1|Flo L1|Rida L2|Mail L2|On L2|Sunday L2| ( L2|Deluxe L2|Version L2| ) L3|Hip - Hop / Rap L3| , L3|Music L3| , L3|Dirty L3|South L4|$ L4|1.99 L5|2008 L5|Atlantic L5|Recording L5|Corporation L5|for L5|the L5|United L5|States L5|and L5|WEA L5|International L5|Inc . L5|for L5|the L5|world L5|outside L5|of L5|the L5|United L5|States L6|3:55 L7|17-Mar-08 R0|Money R0|Right R0| ( R0|feat R0| . R0|Rick R0|Ross R0| & R0|Brisco R0| ) R0| [ R0|Explicit R0| ] R1|Flo R1|Rida R2|Mail R2|On R2|Sunday R2| [ R2|Explicit R2| ] R3|Rap R3| & R3|Hip - Artist R4|$ R4|1.29 R5|2013 R5|Warner R5|Bros . R5| . R5|Records R5|Inc . R6|3:17 R7|March R7|17 R7| , R7|2\n",
      "L0|Elevator L0| ( L0|feat L0| . L0|Timbaland L0| ) L1|Flo L1|Rida L2|Mail L2|On L2|Sunday L2| ( L2|Deluxe L2|Version L2| ) L3|Hip - Hop / Rap L3| , L3|Music L3| , L3|Dirty L3|South L4|$ L4|1.99 L5|2008 L5|Atlantic L5|Recording L5|Corporation L5|for L5|the L5|United L5|States L5|and L5|WEA L5|International L5|Inc . L5|for L5|the L5|world L5|outside L5|of L5|the L5|United L5|States L6|3:55 L7|17-Mar-08 R0|Money R0|Right R0| ( R0|feat R0| . R0|Rick R0|Ross R0| & R0|Brisco R0| ) R0| [ R0|Explicit R0| ] R1|Flo R1|Rida R2|Mail R2|On R2|Sunday R2| [ R2|Explicit R2| ] R3|Rap R3| & R3|Hip - Hop R4|$ R4|1.29 R5|2013 R5|Warner R5|Bros . R5| . R5|Records R5|Inc . R6|3:17 R7|March R7|17 R7| , R7|2008\n",
      "L0|Elevator L0| ( L0|feat L0| . L0|Timbaland L0| ) L1|Flo L1|Rida L2|Mail L2|On L2|Sunday L2| ( L2|Deluxe L2|Version L2| ) L3|Hip - Hop / Rap L3| , L3|Music L3| , L3|Dirty L3|South L4|$ L4|1.99 L5|2008 L5|Atlantic L5|Recording L5|Corporation L5|for L5|the L5|United L5|States L5|and L5|WEA L5|International L5|Inc . L5|for L5|the L5|world L5|outside L5|of L5|the L5|United L5|States L6|3:55 L7|17-Mar-08 R0|Money R0|Right R0| ( R0|feat R0| . R0|Rick R0|Ross R0| & R0|Brisco R0| ) R0| [ R0|Explicit R0| ] R1|Flo R1|Rida R2|Mail R2|On R2|Sunday R2| [ R2|Explicit R2| ] R3|Rap R3| & R3|Hip - Vibe R4|$ R4|1.29 R5|2013 R5|Warner R5|Bros . R5| . R5|Records R5|Inc . R6|3:17 R7|March R7|17 R7| , R7|200\n",
      "L0|Elevator L0| ( L0|feat L0| . L0|Timbaland L0| ) L1|Flo L1|Rida L2|Mail L2|On L2|Sunday L2| ( L2|Deluxe L2|Version L2| ) L3|Hip - Hop / Rap L3| , L3|Music L3| , L3|Dirty L3|South L4|$ L4|1.99 L5|2008 L5|Atlantic L5|Recording L5|Corporation L5|for L5|the L5|United L5|States L5|and L5|WEA L5|International L5|Inc . L5|for L5|the L5|world L5|outside L5|of L5|the L5|United L5|States L6|3:55 L7|17-Mar-08 R0|Money R0|Right R0| ( R0|feat R0| . R0|Rick R0|Ross R0| & R0|Brisco R0| ) R0| [ R0|Explicit R0| ] R1|Flo R1|Rida R2|Mail R2|On R2|Sunday R2| [ R2|Explicit R2| ] R3|Rap R3| & R3|Hip - Wit R4|$ R4|1.29 R5|2013 R5|Warner R5|Bros . R5| . R5|Records R5|Inc . R6|3:17 R7|March R7|17 R7| , R7|2008\n",
      "L0|Elevator L0| ( L0|feat L0| . L0|Timbaland L0| ) L1|Flo L1|Rida L2|Mail L2|On L2|Sunday L2| ( L2|Deluxe L2|Version L2| ) L3|Hip - Hop / Rap L3| , L3|Music L3| , L3|Dirty L3|South L4|$ L4|1.99 L5|2008 L5|Atlantic L5|Recording L5|Corporation L5|for L5|the L5|United L5|States L5|and L5|WEA L5|International L5|Inc . L5|for L5|the L5|world L5|outside L5|of L5|the L5|United L5|States L6|3:55 L7|17-Mar-08 R0|Money R0|Right R0| ( R0|feat R0| . R0|Rick R0|Ross R0| & R0|Brisco R0| ) R0| [ R0|Explicit R0| ] R1|Flo R1|Rida R2|Mail R2|On R2|Sunday R2| [ R2|Explicit R2| ] R3|Rap R3| & R3|Hip - Hop R4|$ R4|1.29 R5|2013 R5|Warner R5|Bros . R5| . R5|Records R5|Inc . R6|3:17 R7|March R7|17 R7| , R7|2008\n",
      "L0|Elevator L0| ( L0|feat L0| . L0|Timbaland L0| ) L1|Flo L1|Rida L2|Mail L2|On L2|Sunday L2| ( L2|Deluxe L2|Version L2| ) L3|Hip - Hop / Rap L3| , L3|Music L3| , L3|Dirty L3|South L4|$ L4|1.99 L5|2008 L5|Atlantic L5|Recording L5|Corporation L5|for L5|the L5|United L5|States L5|and L5|WEA L5|International L5|Inc . L5|for L5|the L5|world L5|outside L5|of L5|the L5|United L5|States L6|3:55 L7|17-Mar-08 R0|Money R0|Right R0| ( R0|feat R0| . R0|Rick R0|Ross R0| & R0|Brisco R0| ) R0| [ R0|Explicit R0| ] R1|Flo R1|Rida R2|Mail R2|On R2|Sunday R2| [ R2|Explicit R2| ] R3|Rap R3| & R3|Hip - Hop R4|$ R4|1.29 R5|2013 R5|Warner R5|Bros . R5| . R5|Records R5|Inc . R6|3:17 R7|March R7|17 R7| , R7|2008\n",
      "L0|Elevator L0| ( L0|feat L0| . L0|Timbaland L0| ) L1|Flo L1|Rida L2|Mail L2|On L2|Sunday L2| ( L2|Deluxe L2|Version L2| ) L3|Hip - Hop / Rap L3| , L3|Music L3| , L3|Dirty L3|South L4|$ L4|1.99 L5|2008 L5|Atlantic L5|Recording L5|Corporation L5|for L5|the L5|United L5|States L5|and L5|WEA L5|International L5|Inc . L5|for L5|the L5|world L5|outside L5|of L5|the L5|United L5|States L6|3:55 L7|17-Mar-08 R0|Money R0|Right R0| ( R0|feat R0| . R0|Rick R0|Ross R0| & R0|Brisco R0| ) R0| [ R0|Explicit R0| ] R1|Flo R1|Rida R2|Mail R2|On R2|Sunday R2| [ R2|Explicit R2| ] R3|Rap R3| & R3|Hip - Ride R4|$ R4|1.29 R5|2013 R5|Warner R5|Bros . R5| . R5|Records R5|Inc . R6|3:17 R7|March R7|17 R7| , R7|200\n",
      "L0|Elevator L0| ( L0|feat L0| . L0|Timbaland L0| ) L1|Flo L1|Rida L2|Mail L2|On L2|Sunday L2| ( L2|Deluxe L2|Version L2| ) L3|Hip - Hop / Rap L3| , L3|Music L3| , L3|Dirty L3|South L4|$ L4|1.99 L5|2008 L5|Atlantic L5|Recording L5|Corporation L5|for L5|the L5|United L5|States L5|and L5|WEA L5|International L5|Inc . L5|for L5|the L5|world L5|outside L5|of L5|the L5|United L5|States L6|3:55 L7|17-Mar-08 R0|Money R0|Right R0| ( R0|feat R0| . R0|Rick R0|Ross R0| & R0|Brisco R0| ) R0| [ R0|Explicit R0| ] R1|Flo R1|Rida R2|Mail R2|On R2|Sunday R2| [ R2|Explicit R2| ] R3|Rap R3| & R3|Hip - BEER R4|$ R4|1.29 R5|2013 R5|Warner R5|Bros . R5| . R5|Records R5|Inc . R6|3:17 R7|March R7|17 R7| , R7|200\n",
      "L0|Elevator L0| ( L0|feat L0| . L0|Timbaland L0| ) L1|Flo L1|Rida L2|Mail L2|On L2|Sunday L2| ( L2|Deluxe L2|Version L2| ) L3|Hip - Hop / Rap L3| , L3|Music L3| , L3|Dirty L3|South L4|$ L4|1.99 L5|2008 L5|Atlantic L5|Recording L5|Corporation L5|for L5|the L5|United L5|States L5|and L5|WEA L5|International L5|Inc . L5|for L5|the L5|world L5|outside L5|of L5|the L5|United L5|States L6|3:55 L7|17-Mar-08 R0|Money R0|Right R0| ( R0|feat R0| . R0|Rick R0|Ross R0| & R0|Brisco R0| ) R0| [ R0|Explicit R0| ] R1|Flo R1|Rida R2|Mail R2|On R2|Sunday R2| [ R2|Explicit R2| ] R3|Rap R3| & R3|Hip - Hop R4|$ R4|1.29 R5|2013 R5|Warner R5|Bros . R5| . R5|Records R5|Inc . R6|3:17 R7|March R7|17 R7| , R7|2008\n",
      "L0|Elevator L0| ( L0|feat L0| . L0|Timbaland L0| ) L1|Flo L1|Rida L2|Mail L2|On L2|Sunday L2| ( L2|Deluxe L2|Version L2| ) L3|Hip - Hop / Rap L3| , L3|Music L3| , L3|Dirty L3|South L4|$ L4|1.99 L5|2008 L5|Atlantic L5|Recording L5|Corporation L5|for L5|the L5|United L5|States L5|and L5|WEA L5|International L5|Inc . L5|for L5|the L5|world L5|outside L5|of L5|the L5|United L5|States L6|3:55 L7|17-Mar-08 R0|Money R0|Right R0| ( R0|feat R0| . R0|Rick R0|Ross R0| & R0|Brisco R0| ) R0| [ R0|Explicit R0| ] R1|Flo R1|Rida R2|Mail R2|On R2|Sunday R2| [ R2|Explicit R2| ] R3|Rap R3| & R3|Hip - Hop R4|$ R4|1.29 R5|2013 R5|Warner R5|Bros . R5| . R5|Records R5|Inc . R6|3:17 R7|March R7|17 R7| , R7|2008\n"
     ]
    }
   ],
   "source": [
    "print('Anchor: %s' % (' AND '.join(exp.names())))\n",
    "print('Precision: %.2f' % exp.precision())\n",
    "print()\n",
    "print('Examples where anchor applies and model predicts %s:' % pred)\n",
    "print()\n",
    "print('\\n'.join([x[0] for x in exp.examples(only_same_prediction=True)]))\n",
    "print()\n",
    "print('Examples where anchor applies and model predicts %s:' % alternative)\n",
    "print()\n",
    "print('\\n'.join([x[0] for x in exp.examples(partial_index=0, only_different_prediction=True)]))"
   ]
  },
  {
   "cell_type": "code",
   "execution_count": 68,
   "metadata": {
    "ExecuteTime": {
     "end_time": "2020-02-17T16:17:55.334464Z",
     "start_time": "2020-02-17T16:17:54.442879Z"
    }
   },
   "outputs": [
    {
     "name": "stderr",
     "output_type": "stream",
     "text": [
      "/home/nvidia/anaconda3/envs/torchenv/lib/python3.6/site-packages/lime/lime_text.py:116: FutureWarning: split() requires a non-empty pattern match.\n",
      "  self.as_list = [s for s in splitter.split(self.raw) if s]\n"
     ]
    }
   ],
   "source": [
    "pred = explainer.class_names[predict_fn([test_tuples_str[20]])[0]]\n",
    "alternative =  explainer.class_names[1 -predict_fn([test_tuples_str[20]])[0]]"
   ]
  },
  {
   "cell_type": "code",
   "execution_count": 70,
   "metadata": {
    "ExecuteTime": {
     "end_time": "2020-02-17T16:18:09.742171Z",
     "start_time": "2020-02-17T16:18:07.011174Z"
    }
   },
   "outputs": [
    {
     "name": "stderr",
     "output_type": "stream",
     "text": [
      "/home/nvidia/anaconda3/envs/torchenv/lib/python3.6/site-packages/lime/lime_text.py:116: FutureWarning: split() requires a non-empty pattern match.\n",
      "  self.as_list = [s for s in splitter.split(self.raw) if s]\n"
     ]
    }
   ],
   "source": [
    "exp = explainer.explain_instance(test_tuples_str[20], predict_fn, threshold=0.95, use_proba= False)"
   ]
  },
  {
   "cell_type": "code",
   "execution_count": 71,
   "metadata": {
    "ExecuteTime": {
     "end_time": "2020-02-17T16:18:15.357004Z",
     "start_time": "2020-02-17T16:18:15.259848Z"
    }
   },
   "outputs": [
    {
     "name": "stdout",
     "output_type": "stream",
     "text": [
      "Anchor: \n",
      "Precision: 1.00\n",
      "\n",
      "Examples where anchor applies and model predicts non-matching:\n",
      "\n",
      "\n",
      "\n",
      "Examples where anchor applies and model predicts matching:\n",
      "\n"
     ]
    },
    {
     "ename": "IndexError",
     "evalue": "list index out of range",
     "output_type": "error",
     "traceback": [
      "\u001b[0;31m---------------------------------------------------------------------------\u001b[0m",
      "\u001b[0;31mIndexError\u001b[0m                                Traceback (most recent call last)",
      "\u001b[0;32m<ipython-input-71-99725cfecde7>\u001b[0m in \u001b[0;36m<module>\u001b[0;34m()\u001b[0m\n\u001b[1;32m      8\u001b[0m \u001b[0mprint\u001b[0m\u001b[0;34m(\u001b[0m\u001b[0;34m'Examples where anchor applies and model predicts %s:'\u001b[0m \u001b[0;34m%\u001b[0m \u001b[0malternative\u001b[0m\u001b[0;34m)\u001b[0m\u001b[0;34m\u001b[0m\u001b[0;34m\u001b[0m\u001b[0m\n\u001b[1;32m      9\u001b[0m \u001b[0mprint\u001b[0m\u001b[0;34m(\u001b[0m\u001b[0;34m)\u001b[0m\u001b[0;34m\u001b[0m\u001b[0;34m\u001b[0m\u001b[0m\n\u001b[0;32m---> 10\u001b[0;31m \u001b[0mprint\u001b[0m\u001b[0;34m(\u001b[0m\u001b[0;34m'\\n'\u001b[0m\u001b[0;34m.\u001b[0m\u001b[0mjoin\u001b[0m\u001b[0;34m(\u001b[0m\u001b[0;34m[\u001b[0m\u001b[0mx\u001b[0m\u001b[0;34m[\u001b[0m\u001b[0;36m0\u001b[0m\u001b[0;34m]\u001b[0m \u001b[0;32mfor\u001b[0m \u001b[0mx\u001b[0m \u001b[0;32min\u001b[0m \u001b[0mexp\u001b[0m\u001b[0;34m.\u001b[0m\u001b[0mexamples\u001b[0m\u001b[0;34m(\u001b[0m\u001b[0mpartial_index\u001b[0m\u001b[0;34m=\u001b[0m\u001b[0;36m0\u001b[0m\u001b[0;34m,\u001b[0m \u001b[0monly_different_prediction\u001b[0m\u001b[0;34m=\u001b[0m\u001b[0;32mTrue\u001b[0m\u001b[0;34m)\u001b[0m\u001b[0;34m]\u001b[0m\u001b[0;34m)\u001b[0m\u001b[0;34m)\u001b[0m\u001b[0;34m\u001b[0m\u001b[0;34m\u001b[0m\u001b[0m\n\u001b[0m",
      "\u001b[0;32m/home/nvidia/anaconda3/envs/torchenv/lib/python3.6/site-packages/anchor/anchor_explanation.py\u001b[0m in \u001b[0;36mexamples\u001b[0;34m(self, only_different_prediction, only_same_prediction, partial_index)\u001b[0m\n\u001b[1;32m     95\u001b[0m         \u001b[0;32mif\u001b[0m \u001b[0midx\u001b[0m \u001b[0;34m<\u001b[0m \u001b[0;36m0\u001b[0m \u001b[0;32mor\u001b[0m \u001b[0midx\u001b[0m \u001b[0;34m>\u001b[0m \u001b[0msize\u001b[0m\u001b[0;34m:\u001b[0m\u001b[0;34m\u001b[0m\u001b[0;34m\u001b[0m\u001b[0m\n\u001b[1;32m     96\u001b[0m             \u001b[0;32mreturn\u001b[0m \u001b[0;34m[\u001b[0m\u001b[0;34m]\u001b[0m\u001b[0;34m\u001b[0m\u001b[0;34m\u001b[0m\u001b[0m\n\u001b[0;32m---> 97\u001b[0;31m         \u001b[0;32mreturn\u001b[0m \u001b[0mself\u001b[0m\u001b[0;34m.\u001b[0m\u001b[0mexp_map\u001b[0m\u001b[0;34m[\u001b[0m\u001b[0;34m'examples'\u001b[0m\u001b[0;34m]\u001b[0m\u001b[0;34m[\u001b[0m\u001b[0midx\u001b[0m\u001b[0;34m]\u001b[0m\u001b[0;34m[\u001b[0m\u001b[0mkey\u001b[0m\u001b[0;34m]\u001b[0m\u001b[0;34m\u001b[0m\u001b[0;34m\u001b[0m\u001b[0m\n\u001b[0m\u001b[1;32m     98\u001b[0m \u001b[0;34m\u001b[0m\u001b[0m\n\u001b[1;32m     99\u001b[0m     \u001b[0;32mdef\u001b[0m \u001b[0mas_html\u001b[0m\u001b[0;34m(\u001b[0m\u001b[0mself\u001b[0m\u001b[0;34m,\u001b[0m \u001b[0;34m**\u001b[0m\u001b[0mkwargs\u001b[0m\u001b[0;34m)\u001b[0m\u001b[0;34m:\u001b[0m\u001b[0;34m\u001b[0m\u001b[0;34m\u001b[0m\u001b[0m\n",
      "\u001b[0;31mIndexError\u001b[0m: list index out of range"
     ]
    }
   ],
   "source": [
    "print('Anchor: %s' % (' AND '.join(exp.names())))\n",
    "print('Precision: %.2f' % exp.precision())\n",
    "print()\n",
    "print('Examples where anchor applies and model predicts %s:' % pred)\n",
    "print()\n",
    "print('\\n'.join([x[0] for x in exp.examples(only_same_prediction=True)]))\n",
    "print()\n",
    "print('Examples where anchor applies and model predicts %s:' % alternative)\n",
    "print()\n",
    "print('\\n'.join([x[0] for x in exp.examples(partial_index=0, only_different_prediction=True)]))"
   ]
  },
  {
   "cell_type": "code",
   "execution_count": null,
   "metadata": {},
   "outputs": [],
   "source": []
  }
 ],
 "metadata": {
  "kernelspec": {
   "display_name": "Python 3",
   "language": "python",
   "name": "python3"
  },
  "toc": {
   "base_numbering": 1,
   "nav_menu": {},
   "number_sections": true,
   "sideBar": true,
   "skip_h1_title": false,
   "title_cell": "Table of Contents",
   "title_sidebar": "Contents",
   "toc_cell": false,
   "toc_position": {},
   "toc_section_display": true,
   "toc_window_display": true
  }
 },
 "nbformat": 4,
 "nbformat_minor": 2
}

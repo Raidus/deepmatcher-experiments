{
 "cells": [
  {
   "cell_type": "code",
   "execution_count": 2,
   "metadata": {
    "ExecuteTime": {
     "end_time": "2020-06-02T10:23:04.621506Z",
     "start_time": "2020-06-02T10:23:04.615760Z"
    }
   },
   "outputs": [],
   "source": [
    "import sys\n",
    "sys.path.append('..')"
   ]
  },
  {
   "cell_type": "code",
   "execution_count": 35,
   "metadata": {
    "ExecuteTime": {
     "end_time": "2020-06-02T11:03:20.983345Z",
     "start_time": "2020-06-02T11:03:20.718168Z"
    }
   },
   "outputs": [],
   "source": [
    "from utils.deepmatcher_utils import wrapDm\n",
    "import deepmatcher as dm\n",
    "from sklearn.metrics import f1_score\n",
    "import numpy as np\n",
    "import pandas as pd\n",
    "from tqdm import tqdm"
   ]
  },
  {
   "cell_type": "code",
   "execution_count": 48,
   "metadata": {
    "ExecuteTime": {
     "end_time": "2020-06-02T11:13:53.814489Z",
     "start_time": "2020-06-02T11:13:53.800402Z"
    }
   },
   "outputs": [],
   "source": [
    "def getError(attribute_sets,df,study_matchings,model,lprefix='ltable_',rprefix='rtable_'):\n",
    "    errors = {}\n",
    "    originalProba = wrapDm(df,model,['label'])\n",
    "    originalF1Score = f1_score(df.label.values,np.argmax(originalProba,axis=1))\n",
    "    for attr_set in tqdm(attribute_sets):\n",
    "        if study_matchings:\n",
    "            df_to_alter = df[df.label==1].copy()\n",
    "            unaltered_df = df[df.label==0].copy()\n",
    "        else:\n",
    "            df_to_alter = df[df.label==0].copy()\n",
    "            unaltered_df = df[df.label==1].copy()\n",
    "        for attr in attr_set:\n",
    "            if study_matchings:\n",
    "                df_to_alter[rprefix+attr] = \"\"\n",
    "            else:\n",
    "                df_to_alter[lprefix+attr] = \"\"\n",
    "                df_to_alter[rprefix+attr] = \"\"\n",
    "        currentProba = wrapDm(pd.concat([df_to_alter,unaltered_df],ignore_index=True),model,['label'])\n",
    "        currentF1 = f1_score(df.label.values,np.argmax(currentProba,axis=1))\n",
    "        errors[attr_set] = currentF1\n",
    "    return errors"
   ]
  },
  {
   "cell_type": "code",
   "execution_count": 42,
   "metadata": {
    "ExecuteTime": {
     "end_time": "2020-06-02T11:09:55.614458Z",
     "start_time": "2020-06-02T11:09:54.604824Z"
    }
   },
   "outputs": [],
   "source": [
    "df = pd.read_csv('../datasets/Structured/Walmart-Amazon/merged_test.csv')\n",
    "hybrid = dm.MatchingModel(attr_summarizer='hybrid')\n",
    "hybrid.load_state('../models/walmartamazon_hybrid.pth')"
   ]
  },
  {
   "cell_type": "code",
   "execution_count": 50,
   "metadata": {
    "ExecuteTime": {
     "end_time": "2020-06-02T11:18:28.493237Z",
     "start_time": "2020-06-02T11:16:46.794518Z"
    }
   },
   "outputs": [
    {
     "name": "stderr",
     "output_type": "stream",
     "text": [
      "\n",
      "\n",
      "\n",
      "\n",
      "  0%|          | 0/5 [00:00<?, ?it/s]\u001b[A\u001b[A\u001b[A\u001b[A\n",
      "\n",
      "\n",
      "\n",
      " 20%|██        | 1/5 [00:16<01:05, 16.33s/it]\u001b[A\u001b[A\u001b[A\u001b[A\n",
      "\n",
      "\n",
      "\n",
      " 40%|████      | 2/5 [00:33<00:49, 16.53s/it]\u001b[A\u001b[A\u001b[A\u001b[A\n",
      "\n",
      "\n",
      "\n",
      " 60%|██████    | 3/5 [00:49<00:33, 16.55s/it]\u001b[A\u001b[A\u001b[A\u001b[A\n",
      "\n",
      "\n",
      "\n",
      " 80%|████████  | 4/5 [01:07<00:16, 16.94s/it]\u001b[A\u001b[A\u001b[A\u001b[A\n",
      "\n",
      "\n",
      "\n",
      "100%|██████████| 5/5 [01:24<00:00, 16.93s/it]\u001b[A\u001b[A\u001b[A\u001b[A\n"
     ]
    },
    {
     "data": {
      "text/plain": [
       "{('modelno',): 0.05454545454545455,\n",
       " ('title',): 0.05042016806722689,\n",
       " ('price',): 0.051679586563307484,\n",
       " ('brand',): 0.05305039787798409,\n",
       " ('category',): 0.051948051948051945}"
      ]
     },
     "execution_count": 50,
     "metadata": {},
     "output_type": "execute_result"
    }
   ],
   "source": [
    "attribute_sets = [('modelno',),('title',),('price',),('brand',),('category',)]\n",
    "getError(attribute_sets,df,True,hybrid)"
   ]
  },
  {
   "cell_type": "code",
   "execution_count": 51,
   "metadata": {
    "ExecuteTime": {
     "end_time": "2020-06-02T11:20:07.828837Z",
     "start_time": "2020-06-02T11:18:28.495920Z"
    }
   },
   "outputs": [
    {
     "name": "stderr",
     "output_type": "stream",
     "text": [
      "\n",
      "\n",
      "\n",
      "\n",
      "  0%|          | 0/5 [00:00<?, ?it/s]\u001b[A\u001b[A\u001b[A\u001b[A\n",
      "\n",
      "\n",
      "\n",
      " 20%|██        | 1/5 [00:16<01:04, 16.18s/it]\u001b[A\u001b[A\u001b[A\u001b[A\n",
      "\n",
      "\n",
      "\n",
      " 40%|████      | 2/5 [00:31<00:47, 15.89s/it]\u001b[A\u001b[A\u001b[A\u001b[A\n",
      "\n",
      "\n",
      "\n",
      " 60%|██████    | 3/5 [00:48<00:32, 16.20s/it]\u001b[A\u001b[A\u001b[A\u001b[A\n",
      "\n",
      "\n",
      "\n",
      " 80%|████████  | 4/5 [01:05<00:16, 16.43s/it]\u001b[A\u001b[A\u001b[A\u001b[A\n",
      "\n",
      "\n",
      "\n",
      "100%|██████████| 5/5 [01:21<00:00, 16.39s/it]\u001b[A\u001b[A\u001b[A\u001b[A\n"
     ]
    },
    {
     "data": {
      "text/plain": [
       "{('modelno',): 0.21119324181626187,\n",
       " ('title',): 0.19218241042345274,\n",
       " ('price',): 0.20276497695852533,\n",
       " ('brand',): 0.2,\n",
       " ('category',): 0.19951338199513383}"
      ]
     },
     "execution_count": 51,
     "metadata": {},
     "output_type": "execute_result"
    }
   ],
   "source": [
    "getError(attribute_sets,df,False,hybrid)"
   ]
  },
  {
   "cell_type": "code",
   "execution_count": 52,
   "metadata": {
    "ExecuteTime": {
     "end_time": "2020-06-02T11:28:26.749714Z",
     "start_time": "2020-06-02T11:28:26.394135Z"
    }
   },
   "outputs": [],
   "source": [
    "df = pd.read_csv('../datasets/Structured/Amazon-Google/merged_test.csv')\n",
    "hybrid_google = dm.MatchingModel(attr_summarizer='hybrid')\n",
    "hybrid_google.load_state('../models/amazongoogle_hybrid.pth')"
   ]
  },
  {
   "cell_type": "code",
   "execution_count": 53,
   "metadata": {
    "ExecuteTime": {
     "end_time": "2020-06-02T11:29:57.426113Z",
     "start_time": "2020-06-02T11:29:10.113647Z"
    }
   },
   "outputs": [
    {
     "name": "stderr",
     "output_type": "stream",
     "text": [
      "\n",
      "\n",
      "\n",
      "\n",
      "  0%|          | 0/3 [00:00<?, ?it/s]\u001b[A\u001b[A\u001b[A\u001b[A\n",
      "\n",
      "\n",
      "\n",
      " 33%|███▎      | 1/3 [00:11<00:23, 11.53s/it]\u001b[A\u001b[A\u001b[A\u001b[A\n",
      "\n",
      "\n",
      "\n",
      " 67%|██████▋   | 2/3 [00:22<00:11, 11.39s/it]\u001b[A\u001b[A\u001b[A\u001b[A\n",
      "\n",
      "\n",
      "\n",
      "100%|██████████| 3/3 [00:34<00:00, 11.57s/it]\u001b[A\u001b[A\u001b[A\u001b[A\n"
     ]
    },
    {
     "data": {
      "text/plain": [
       "{('title',): 0.1615598885793872,\n",
       " ('price',): 0.13333333333333333,\n",
       " ('manufacturer',): 0.13257575757575757}"
      ]
     },
     "execution_count": 53,
     "metadata": {},
     "output_type": "execute_result"
    }
   ],
   "source": [
    "attribute_sets = [('title',),('price',),('manufacturer',)]\n",
    "getError(attribute_sets,df,True,hybrid_google)"
   ]
  },
  {
   "cell_type": "code",
   "execution_count": null,
   "metadata": {},
   "outputs": [],
   "source": []
  }
 ],
 "metadata": {
  "kernelspec": {
   "display_name": "Python 3",
   "language": "python",
   "name": "python3"
  },
  "language_info": {
   "codemirror_mode": {
    "name": "ipython",
    "version": 3
   },
   "file_extension": ".py",
   "mimetype": "text/x-python",
   "name": "python",
   "nbconvert_exporter": "python",
   "pygments_lexer": "ipython3",
   "version": "3.8.1"
  },
  "toc": {
   "base_numbering": 1,
   "nav_menu": {},
   "number_sections": true,
   "sideBar": true,
   "skip_h1_title": false,
   "title_cell": "Table of Contents",
   "title_sidebar": "Contents",
   "toc_cell": false,
   "toc_position": {},
   "toc_section_display": true,
   "toc_window_display": false
  }
 },
 "nbformat": 4,
 "nbformat_minor": 4
}

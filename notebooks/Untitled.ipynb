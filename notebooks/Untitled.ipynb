{
 "cells": [
  {
   "cell_type": "code",
   "execution_count": 1,
   "metadata": {},
   "outputs": [],
   "source": [
    "import pandas as pd\n",
    "import matplotlib\n",
    "import matplotlib.pyplot as plt\n",
    "import numpy as np"
   ]
  },
  {
   "cell_type": "code",
   "execution_count": null,
   "metadata": {},
   "outputs": [],
   "source": [
    "ri_neg = pd.read_csv('iTunes-Amazon/experiments-results/exp10/ri_neg_couples.csv')\n",
    "ri_pos = pd.read_csv('iTunes-Amazon/experiments-results/exp10/ri_pos_couples.csv')"
   ]
  },
  {
   "cell_type": "code",
   "execution_count": null,
   "metadata": {},
   "outputs": [],
   "source": [
    "attributes = list(ri_neg)\n",
    "left_att_sum_neg = []\n",
    "right_att_sum_neg = []\n",
    "for i,att in enumerate(attributes):\n",
    "    if i%2 == 0:\n",
    "        left_att_sum_neg.append(round(ri_neg[att].sum()))\n",
    "    else:\n",
    "        right_att_sum_neg.append(round(ri_neg[att].sum()))"
   ]
  },
  {
   "cell_type": "code",
   "execution_count": null,
   "metadata": {},
   "outputs": [],
   "source": [
    "left_att_sum_pos = []\n",
    "right_att_sum_pos = []\n",
    "for i,att in enumerate(attributes):\n",
    "    if i%2 == 0:\n",
    "        left_att_sum_pos.append(round(ri_pos[att].sum()))\n",
    "    else:\n",
    "        right_att_sum_pos.append(round(ri_pos[att].sum()))"
   ]
  },
  {
   "cell_type": "code",
   "execution_count": null,
   "metadata": {},
   "outputs": [],
   "source": [
    "labels = ['Art-Gen', 'Art-Song', 'CR-Genr', 'Art-Alb', 'Art-CR','Gen-Rel','Alb-Gen','Tim-Alb']"
   ]
  },
  {
   "cell_type": "code",
   "execution_count": null,
   "metadata": {},
   "outputs": [],
   "source": [
    "labels = ['Art-Gen', 'Art-Song', 'CR-Genr', 'Art-Alb', 'Art-CR','Gen-Rel','Alb-Gen','Tim-Alb']\n",
    "men_means = left_att_sum_neg\n",
    "women_means = right_att_sum_neg\n",
    "\n",
    "x = np.arange(len(labels))  # the label locations\n",
    "width = 0.35  # the width of the bars\n",
    "\n",
    "fig, ax = plt.subplots()\n",
    "rects1 = ax.bar(x - width/2, men_means, width, label='l_Att')\n",
    "rects2 = ax.bar(x + width/2, women_means, width, label='r_Att')\n",
    "\n",
    "# Add some text for labels, title and custom x-axis tick labels, etc.\n",
    "ax.set_ylabel('Ri')\n",
    "ax.set_title('Ri for negative samples')\n",
    "ax.set_xticks(x)\n",
    "ax.set_xticklabels(labels)\n",
    "ax.legend()\n",
    "\n",
    "fig.tight_layout()\n",
    "plt.savefig('neg_barchart_ri.png')\n",
    "plt.show()"
   ]
  },
  {
   "cell_type": "code",
   "execution_count": null,
   "metadata": {},
   "outputs": [],
   "source": [
    "labels = ['Art-Gen', 'Art-Song', 'CR-Genr', 'Art-Alb', 'Art-CR','Gen-Rel','Alb-Gen','Tim-Alb']\n",
    "men_means = left_att_sum_pos\n",
    "women_means = right_att_sum_pos\n",
    "\n",
    "x = np.arange(len(labels))  # the label locations\n",
    "width = 0.35  # the width of the bars\n",
    "\n",
    "fig, ax = plt.subplots()\n",
    "rects1 = ax.bar(x - width/2, men_means, width, label='l_Att')\n",
    "rects2 = ax.bar(x + width/2, women_means, width, label='r_Att')\n",
    "\n",
    "# Add some text for labels, title and custom x-axis tick labels, etc.\n",
    "ax.set_ylabel('Ri')\n",
    "ax.set_title('Ri for positive samples')\n",
    "ax.set_xticks(x)\n",
    "ax.set_xticklabels(labels)\n",
    "ax.legend()\n",
    "\n",
    "fig.tight_layout()\n",
    "plt.savefig('pos_barchart_ri.png')\n",
    "plt.show()"
   ]
  },
  {
   "cell_type": "code",
   "execution_count": 2,
   "metadata": {},
   "outputs": [],
   "source": [
    "n = 10"
   ]
  },
  {
   "cell_type": "code",
   "execution_count": 3,
   "metadata": {},
   "outputs": [],
   "source": [
    "t = n,"
   ]
  }
 ],
 "metadata": {
  "kernelspec": {
   "display_name": "Python 3",
   "language": "python",
   "name": "python3"
  },
  "language_info": {
   "codemirror_mode": {
    "name": "ipython",
    "version": 3
   },
   "file_extension": ".py",
   "mimetype": "text/x-python",
   "name": "python",
   "nbconvert_exporter": "python",
   "pygments_lexer": "ipython3",
   "version": "3.6.8"
  }
 },
 "nbformat": 4,
 "nbformat_minor": 2
}

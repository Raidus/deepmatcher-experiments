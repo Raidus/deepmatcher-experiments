{
 "cells": [
  {
   "cell_type": "code",
   "execution_count": 1,
   "metadata": {},
   "outputs": [],
   "source": [
    "#from utils.intermediate_layer_extraction import return_layer_input\n",
    "import deepmatcher as dm"
   ]
  },
  {
   "cell_type": "code",
   "execution_count": 2,
   "metadata": {},
   "outputs": [],
   "source": [
    "hybrid_model = dm.MatchingModel(attr_summarizer='hybrid')\n",
    "hybrid_model.load_state('../models/itunes_amazon_hybrid.pth')"
   ]
  },
  {
   "cell_type": "code",
   "execution_count": 3,
   "metadata": {},
   "outputs": [],
   "source": [
    "from deepmatcher.data import MatchingIterator\n",
    "from torch.autograd import Variable"
   ]
  },
  {
   "cell_type": "code",
   "execution_count": 4,
   "metadata": {},
   "outputs": [],
   "source": [
    "def _return_input(module,module_input,module_output):\n",
    "    global current_layer_input\n",
    "    current_layer_input = module_input\n",
    "\n",
    "\n",
    "    \n",
    "def _flat_list(l):\n",
    "    flat_list = []\n",
    "    for sublist in l:\n",
    "        for item in sublist:\n",
    "            flat_list.append(item)\n",
    "    return flat_list\n",
    "\n",
    "\n",
    "def return_layer_input(dataset_dir,dataset_name,batch_size,model,layer,device = 0):\n",
    "    dataset = dm.data.process(path=dataset_dir,train=dataset_name+'.csv',left_prefix='ltable_',right_prefix='rtable_',cache=dataset_name+'.pth')\n",
    "    dataset_tuple = dataset,\n",
    "    splits = MatchingIterator.splits(dataset_tuple,batch_size=batch_size, device = device)\n",
    "    layer_inputs = []\n",
    "    hook = layer.register_forward_hook(_return_input)\n",
    "    batches = []\n",
    "    for batch in splits[0]:\n",
    "        model.forward(batch)\n",
    "        batches.append(batch)\n",
    "        layer_inputs.append(current_layer_input)\n",
    "    hook.remove()\n",
    "    return layer_inputs,batches\n"
   ]
  },
  {
   "cell_type": "code",
   "execution_count": 9,
   "metadata": {},
   "outputs": [],
   "source": [
    "train_songname_hybrid,t_batches = return_layer_input('../Structured/itunes-amazon','merged_train',128,\n",
    "                                                     hybrid_model,hybrid_model.attr_summarizers.Song_Name\n",
    "                                                     ,device=-1)"
   ]
  },
  {
   "cell_type": "code",
   "execution_count": 10,
   "metadata": {},
   "outputs": [],
   "source": [
    "left_input = train_songname_hybrid[0][0]\n",
    "right_input = train_songname_hybrid[0][1]\n",
    "songname_summarization = hybrid_model.attr_summarizers.Song_Name.forward(left_input,right_input)"
   ]
  },
  {
   "cell_type": "code",
   "execution_count": 17,
   "metadata": {},
   "outputs": [],
   "source": [
    "predictions = hybrid_model.forward(t_batches[0])"
   ]
  },
  {
   "cell_type": "code",
   "execution_count": 24,
   "metadata": {},
   "outputs": [
    {
     "data": {
      "text/plain": [
       "Variable containing:\n",
       " 0.6092  0.3908\n",
       " 0.8112  0.1888\n",
       " 0.0554  0.9446\n",
       " 0.8403  0.1597\n",
       " 0.0296  0.9704\n",
       " 0.7458  0.2542\n",
       " 0.7683  0.2317\n",
       " 0.3680  0.6320\n",
       " 0.6382  0.3618\n",
       " 0.4029  0.5971\n",
       " 0.0475  0.9525\n",
       " 0.6964  0.3036\n",
       " 0.7733  0.2267\n",
       " 0.6890  0.3110\n",
       " 0.7464  0.2536\n",
       " 0.8725  0.1275\n",
       " 0.8505  0.1495\n",
       " 0.7985  0.2015\n",
       " 0.1314  0.8686\n",
       " 0.7582  0.2418\n",
       " 0.6370  0.3630\n",
       " 0.8222  0.1778\n",
       " 0.8178  0.1822\n",
       " 0.5367  0.4633\n",
       " 0.8597  0.1403\n",
       " 0.7510  0.2490\n",
       " 0.7642  0.2358\n",
       " 0.6320  0.3680\n",
       " 0.8711  0.1289\n",
       " 0.6112  0.3888\n",
       " 0.1589  0.8411\n",
       " 0.0056  0.9944\n",
       " 0.8557  0.1443\n",
       " 0.3568  0.6432\n",
       " 0.8286  0.1714\n",
       " 0.6823  0.3177\n",
       " 0.3017  0.6983\n",
       " 0.7427  0.2573\n",
       " 0.7811  0.2189\n",
       " 0.3354  0.6646\n",
       " 0.8015  0.1985\n",
       " 0.7364  0.2636\n",
       " 0.8341  0.1659\n",
       " 0.7709  0.2291\n",
       " 0.5565  0.4435\n",
       " 0.3194  0.6806\n",
       " 0.7795  0.2205\n",
       " 0.7067  0.2933\n",
       " 0.7510  0.2490\n",
       " 0.8397  0.1603\n",
       " 0.0306  0.9694\n",
       " 0.8800  0.1200\n",
       " 0.7472  0.2528\n",
       " 0.7326  0.2674\n",
       " 0.3836  0.6164\n",
       " 0.3337  0.6663\n",
       " 0.6685  0.3315\n",
       " 0.8049  0.1951\n",
       " 0.6030  0.3970\n",
       " 0.7289  0.2711\n",
       " 0.8057  0.1943\n",
       " 0.7676  0.2324\n",
       " 0.7448  0.2552\n",
       " 0.8404  0.1596\n",
       " 0.8484  0.1516\n",
       " 0.5681  0.4319\n",
       " 0.0062  0.9938\n",
       " 0.8364  0.1636\n",
       " 0.8441  0.1559\n",
       " 0.7702  0.2298\n",
       " 0.1361  0.8639\n",
       " 0.7021  0.2979\n",
       " 0.8159  0.1841\n",
       " 0.8819  0.1181\n",
       " 0.7794  0.2206\n",
       " 0.8303  0.1697\n",
       " 0.4386  0.5614\n",
       " 0.8184  0.1816\n",
       " 0.0278  0.9722\n",
       " 0.7802  0.2198\n",
       " 0.0048  0.9952\n",
       " 0.8005  0.1995\n",
       " 0.8197  0.1803\n",
       " 0.8460  0.1540\n",
       " 0.5275  0.4725\n",
       " 0.7160  0.2840\n",
       " 0.0141  0.9859\n",
       " 0.7155  0.2845\n",
       " 0.8435  0.1565\n",
       " 0.0102  0.9898\n",
       " 0.1920  0.8080\n",
       " 0.6733  0.3267\n",
       " 0.7380  0.2620\n",
       " 0.0076  0.9924\n",
       " 0.0011  0.9989\n",
       " 0.8412  0.1588\n",
       " 0.7736  0.2264\n",
       " 0.8291  0.1709\n",
       " 0.7289  0.2711\n",
       " 0.8831  0.1169\n",
       " 0.7683  0.2317\n",
       " 0.8007  0.1993\n",
       " 0.7526  0.2474\n",
       " 0.8713  0.1287\n",
       " 0.4812  0.5188\n",
       " 0.1447  0.8553\n",
       " 0.5386  0.4614\n",
       " 0.6423  0.3577\n",
       " 0.0293  0.9707\n",
       " 0.8327  0.1673\n",
       " 0.6092  0.3908\n",
       " 0.0010  0.9990\n",
       " 0.5738  0.4262\n",
       " 0.7968  0.2032\n",
       " 0.8440  0.1560\n",
       " 0.5658  0.4342\n",
       " 0.6823  0.3177\n",
       " 0.6294  0.3706\n",
       " 0.6719  0.3281\n",
       " 0.0366  0.9634\n",
       " 0.7170  0.2830\n",
       " 0.7161  0.2839\n",
       " 0.8162  0.1838\n",
       " 0.0150  0.9850\n",
       " 0.8021  0.1979\n",
       " 0.8466  0.1534\n",
       " 0.6382  0.3618\n",
       " 0.0164  0.9836\n",
       "[torch.FloatTensor of size 128x2]"
      ]
     },
     "execution_count": 24,
     "metadata": {},
     "output_type": "execute_result"
    }
   ],
   "source": [
    "import torch.nn.functional as F\n",
    "F.softmax(predictions,dim=1)"
   ]
  },
  {
   "cell_type": "code",
   "execution_count": null,
   "metadata": {},
   "outputs": [],
   "source": []
  }
 ],
 "metadata": {
  "kernelspec": {
   "display_name": "Python 3",
   "language": "python",
   "name": "python3"
  },
  "language_info": {
   "codemirror_mode": {
    "name": "ipython",
    "version": 3
   },
   "file_extension": ".py",
   "mimetype": "text/x-python",
   "name": "python",
   "nbconvert_exporter": "python",
   "pygments_lexer": "ipython3",
   "version": "3.6.9"
  }
 },
 "nbformat": 4,
 "nbformat_minor": 2
}

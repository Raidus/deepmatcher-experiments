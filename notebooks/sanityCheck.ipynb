{
 "cells": [
  {
   "cell_type": "code",
   "execution_count": 1,
   "metadata": {},
   "outputs": [],
   "source": [
    "%load_ext autoreload\n",
    "%autoreload 2"
   ]
  },
  {
   "cell_type": "code",
   "execution_count": 2,
   "metadata": {},
   "outputs": [],
   "source": [
    "import sys\n",
    "sys.path.append('..')"
   ]
  },
  {
   "cell_type": "code",
   "execution_count": 3,
   "metadata": {},
   "outputs": [],
   "source": [
    "from utils.intermediate_layer_extraction import return_layer_input\n",
    "from utils.ri_calculator import computeRi,computeRiNaif\n",
    "import deepmatcher as dm\n",
    "import torch\n",
    "from tqdm import tqdm\n",
    "import pandas as pd"
   ]
  },
  {
   "cell_type": "code",
   "execution_count": 4,
   "metadata": {},
   "outputs": [],
   "source": [
    "hybrid_model = dm.MatchingModel(attr_summarizer='hybrid')\n",
    "hybrid_model.load_state('../models/itunes_amazon_hybrid.pth')"
   ]
  },
  {
   "cell_type": "code",
   "execution_count": 5,
   "metadata": {},
   "outputs": [],
   "source": [
    "negatives,neg_ids = return_layer_input('../Structured/itunes-amazon','negatives',128,\n",
    "                                      hybrid_model,hybrid_model.classifier,device=-1)"
   ]
  },
  {
   "cell_type": "code",
   "execution_count": 6,
   "metadata": {},
   "outputs": [],
   "source": [
    "positives,pos_ids = return_layer_input('../Structured/itunes-amazon','positives',128,\n",
    "                                      hybrid_model,hybrid_model.classifier,device=-1)"
   ]
  },
  {
   "cell_type": "code",
   "execution_count": 7,
   "metadata": {},
   "outputs": [],
   "source": [
    "hybrid_model = hybrid_model.cuda()"
   ]
  },
  {
   "cell_type": "code",
   "execution_count": null,
   "metadata": {},
   "outputs": [],
   "source": [
    "closest_distance_neg = []\n",
    "attribute_indexes = list(range(8))\n",
    "for batch in negatives:\n",
    "    for sample in tqdm(batch):\n",
    "        distances_onAttribute = list(map(lambda idx: findCloserV2(sample,positives,1,hybrid_model.classifier,\n",
    "                                                               idx,150),attribute_indexes))\n",
    "        closest_distance_neg.append(distances_onAttribute)"
   ]
  },
  {
   "cell_type": "markdown",
   "metadata": {},
   "source": [
    "## Test on algorithm"
   ]
  },
  {
   "cell_type": "code",
   "execution_count": null,
   "metadata": {},
   "outputs": [],
   "source": [
    "j = 0\n",
    "for batch in negatives:\n",
    "    for sample in batch:\n",
    "        for i in range(8):\n",
    "            closer = closest_distance_neg[j][i]\n",
    "            distance = torch.norm(closer).data[0]\n",
    "            start_idx = i*150\n",
    "            end_idx = start_idx+150\n",
    "            if distance >0:\n",
    "                sample_batch = torch.unsqueeze(sample.clone(),0)\n",
    "                sample_batch[:,start_idx:end_idx] = closer\n",
    "                prediction = hybrid_model.classifier.forward(sample_batch)\n",
    "                assert (prediction.data[0][1]>prediction.data[0][0]),\"All predictions must be positive\"\n",
    "        j +=1"
   ]
  },
  {
   "cell_type": "markdown",
   "metadata": {},
   "source": [
    "## Positive analysis"
   ]
  },
  {
   "cell_type": "code",
   "execution_count": null,
   "metadata": {},
   "outputs": [],
   "source": [
    "closest_distance_pos = []\n",
    "for batch in positives:\n",
    "    for sample in tqdm(batch):\n",
    "        distances_onAttribute = list(map(lambda idx: findCloserV2(sample,negatives,0,hybrid_model.classifier,\n",
    "                                                               idx,150),attribute_indexes))\n",
    "        closest_distance_pos.append(distances_onAttribute)"
   ]
  },
  {
   "cell_type": "code",
   "execution_count": null,
   "metadata": {},
   "outputs": [],
   "source": [
    "j = 0\n",
    "for batch in positives:\n",
    "    for sample in batch:\n",
    "        for i in range(8):\n",
    "            closer,distance = closest_distance_pos[j][i],torch.norm(closest_distance_pos[j][i]).data[0]\n",
    "            start_idx = i*150\n",
    "            end_idx = start_idx+150\n",
    "            if distance >0:\n",
    "                sample_batch = torch.unsqueeze(sample.clone(),0)\n",
    "                sample_batch[:,start_idx:end_idx] = closer\n",
    "                prediction = hybrid_model.classifier.forward(sample_batch)\n",
    "                assert (prediction.data[0][0]>prediction.data[0][1]),\"All predictions must be negatives\"\n",
    "        j +=1"
   ]
  },
  {
   "cell_type": "markdown",
   "metadata": {},
   "source": [
    "## Compare naif approach with gradient approach"
   ]
  },
  {
   "cell_type": "markdown",
   "metadata": {},
   "source": [
    "### Negatives"
   ]
  },
  {
   "cell_type": "code",
   "execution_count": 15,
   "metadata": {},
   "outputs": [],
   "source": [
    "def compareMethods(df1,df2,columns):\n",
    "    best1,best2 = (0,0)\n",
    "    for i in df1.index:\n",
    "        for col in columns:\n",
    "            lval = df1.at[i,col]\n",
    "            rval = df2.at[i,col]\n",
    "            if(lval == 0 and rval >0) or(rval <lval and rval >0):\n",
    "                best2+=1\n",
    "            elif(rval ==0 and lval >0)or(lval < rval and lval >0):\n",
    "                best1+=1\n",
    "    return (best1,best2)"
   ]
  },
  {
   "cell_type": "code",
   "execution_count": 8,
   "metadata": {},
   "outputs": [],
   "source": [
    "attributes = ['Song_Name','Artist_Name','Album_Name','Genre','Price','CopyRight','Time','Released']"
   ]
  },
  {
   "cell_type": "code",
   "execution_count": 10,
   "metadata": {},
   "outputs": [
    {
     "name": "stderr",
     "output_type": "stream",
     "text": [
      "100%|██████████| 128/128 [00:19<00:00,  6.56it/s]\n",
      "100%|██████████| 128/128 [00:20<00:00,  6.28it/s]\n",
      "100%|██████████| 23/23 [00:03<00:00,  7.23it/s]\n",
      "100%|██████████| 128/128 [00:20<00:00,  6.24it/s]\n"
     ]
    }
   ],
   "source": [
    "neg_ri,neg_ri_norms = computeRi(hybrid_model.classifier,attributes,negatives,150,1)"
   ]
  },
  {
   "cell_type": "code",
   "execution_count": 12,
   "metadata": {},
   "outputs": [
    {
     "name": "stderr",
     "output_type": "stream",
     "text": [
      "100%|██████████| 128/128 [00:10<00:00, 11.95it/s]\n",
      "100%|██████████| 128/128 [00:10<00:00, 12.61it/s]\n",
      "100%|██████████| 23/23 [00:02<00:00, 11.41it/s]\n",
      "100%|██████████| 128/128 [00:10<00:00, 12.66it/s]\n"
     ]
    }
   ],
   "source": [
    "neg_ri_naif,neg_ri_norms_naif = computeRiNaif(negatives,positives,1,hybrid_model.classifier,attributes,150)"
   ]
  },
  {
   "cell_type": "code",
   "execution_count": 13,
   "metadata": {},
   "outputs": [],
   "source": [
    "neg_variation_gradient = pd.DataFrame(data= neg_ri_norms,columns=attributes)\n",
    "neg_variation_naif = pd.DataFrame(data= neg_ri_norms_naif,columns=attributes)"
   ]
  },
  {
   "cell_type": "code",
   "execution_count": 16,
   "metadata": {},
   "outputs": [
    {
     "data": {
      "text/plain": [
       "(2705, 351)"
      ]
     },
     "execution_count": 16,
     "metadata": {},
     "output_type": "execute_result"
    }
   ],
   "source": [
    "compareMethods(neg_variation_gradient,neg_variation_naif,attributes)"
   ]
  },
  {
   "cell_type": "markdown",
   "metadata": {},
   "source": [
    "### Positives"
   ]
  },
  {
   "cell_type": "code",
   "execution_count": 31,
   "metadata": {},
   "outputs": [
    {
     "name": "stderr",
     "output_type": "stream",
     "text": [
      "100%|██████████| 4/4 [00:01<00:00,  3.66it/s]\n",
      "100%|██████████| 128/128 [00:26<00:00,  4.86it/s]\n"
     ]
    }
   ],
   "source": [
    "pos_ri,pos_ri_norms = computeRi(hybrid_model.classifier,attributes,positives,150,0)"
   ]
  },
  {
   "cell_type": "code",
   "execution_count": 19,
   "metadata": {},
   "outputs": [
    {
     "name": "stderr",
     "output_type": "stream",
     "text": [
      "100%|██████████| 4/4 [00:00<00:00,  4.37it/s]\n",
      "100%|██████████| 128/128 [00:28<00:00,  4.47it/s]\n"
     ]
    }
   ],
   "source": [
    "pos_ri_naif,pos_ri_norms_naif = computeRiNaif(positives,negatives,0,hybrid_model.classifier,attributes,150)"
   ]
  },
  {
   "cell_type": "code",
   "execution_count": 32,
   "metadata": {},
   "outputs": [],
   "source": [
    "pos_perturbations_gradient = pd.DataFrame(data= pos_ri_norms,columns=attributes)\n",
    "pos_perturbations_naif = pd.DataFrame(data= pos_ri_norms_naif,columns=attributes)"
   ]
  },
  {
   "cell_type": "code",
   "execution_count": 34,
   "metadata": {},
   "outputs": [
    {
     "data": {
      "text/plain": [
       "(909, 51)"
      ]
     },
     "execution_count": 34,
     "metadata": {},
     "output_type": "execute_result"
    }
   ],
   "source": [
    "compareMethods(pos_perturbations_gradient,pos_perturbations_naif,attributes)"
   ]
  }
 ],
 "metadata": {
  "kernelspec": {
   "display_name": "Python 3",
   "language": "python",
   "name": "python3"
  },
  "language_info": {
   "codemirror_mode": {
    "name": "ipython",
    "version": 3
   },
   "file_extension": ".py",
   "mimetype": "text/x-python",
   "name": "python",
   "nbconvert_exporter": "python",
   "pygments_lexer": "ipython3",
   "version": "3.6.9"
  }
 },
 "nbformat": 4,
 "nbformat_minor": 2
}

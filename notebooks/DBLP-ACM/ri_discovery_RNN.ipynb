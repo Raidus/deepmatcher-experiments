{
 "cells": [
  {
   "cell_type": "code",
   "execution_count": 1,
   "metadata": {},
   "outputs": [],
   "source": [
    "%load_ext autoreload\n",
    "%autoreload 2"
   ]
  },
  {
   "cell_type": "code",
   "execution_count": 2,
   "metadata": {},
   "outputs": [],
   "source": [
    "import sys\n",
    "sys.path.append('../..')"
   ]
  },
  {
   "cell_type": "code",
   "execution_count": 3,
   "metadata": {},
   "outputs": [],
   "source": [
    "import deepmatcher as dm\n",
    "from utils.intermediate_layer_extraction import return_layer_input\n",
    "from utils.ri_calculator import computeRi\n",
    "import pandas as pd"
   ]
  },
  {
   "cell_type": "markdown",
   "metadata": {},
   "source": [
    "## Dataset creation with hybrid model"
   ]
  },
  {
   "cell_type": "code",
   "execution_count": 4,
   "metadata": {},
   "outputs": [],
   "source": [
    "attributes = ['title','authors','venue','year']"
   ]
  },
  {
   "cell_type": "code",
   "execution_count": 28,
   "metadata": {},
   "outputs": [],
   "source": [
    "model = dm.MatchingModel(attr_summarizer='rnn')\n",
    "model.load_state('../../models/dblp_acm_rnn.pth')"
   ]
  },
  {
   "cell_type": "code",
   "execution_count": 7,
   "metadata": {},
   "outputs": [],
   "source": [
    "testneg,testneg_ids = return_layer_input('../../Structured/DBLP-ACM/','test_negatives',\n",
    "                                                           batch_size=128,model=model,\n",
    "                                                                         layer=model.classifier,device=-1)"
   ]
  },
  {
   "cell_type": "code",
   "execution_count": 29,
   "metadata": {},
   "outputs": [],
   "source": [
    "testpos,testpos_ids = return_layer_input('../../Structured/DBLP-ACM/','test_positives',batch_size=128,model=model,\n",
    "                                                layer=model.classifier,device=-1)"
   ]
  },
  {
   "cell_type": "code",
   "execution_count": 9,
   "metadata": {},
   "outputs": [],
   "source": [
    "positives,pos_ids = return_layer_input('../../Structured/DBLP-ACM/','positives',\n",
    "                                                           batch_size=128,model=model,layer=model.classifier,\n",
    "                                                          device=-1)"
   ]
  },
  {
   "cell_type": "code",
   "execution_count": 10,
   "metadata": {},
   "outputs": [],
   "source": [
    "negatives,neg_ids = return_layer_input('../../Structured/DBLP-ACM/','negatives',batch_size=128,\n",
    "                                       model=model,layer=model.classifier,device=-1)"
   ]
  },
  {
   "cell_type": "code",
   "execution_count": 30,
   "metadata": {},
   "outputs": [],
   "source": [
    "model = model.cuda()"
   ]
  },
  {
   "cell_type": "code",
   "execution_count": 12,
   "metadata": {},
   "outputs": [],
   "source": [
    "## Basta scegliere un campione a caso\n",
    "classifier_len = len(testneg[0][0])\n",
    "attribute_len = int(classifier_len/len(attributes))"
   ]
  },
  {
   "cell_type": "markdown",
   "metadata": {},
   "source": [
    "## Ri discovery with rnn model"
   ]
  },
  {
   "cell_type": "code",
   "execution_count": 13,
   "metadata": {},
   "outputs": [
    {
     "name": "stderr",
     "output_type": "stream",
     "text": [
      "100%|██████████| 128/128 [00:18<00:00,  6.65it/s]\n",
      "100%|██████████| 128/128 [00:18<00:00,  6.97it/s]\n",
      "100%|██████████| 128/128 [00:17<00:00,  6.54it/s]\n",
      "100%|██████████| 128/128 [00:18<00:00,  6.78it/s]\n",
      "100%|██████████| 128/128 [00:18<00:00,  6.95it/s]\n",
      "100%|██████████| 128/128 [00:17<00:00,  6.86it/s]\n",
      "100%|██████████| 128/128 [00:18<00:00,  7.55it/s]\n",
      "100%|██████████| 109/109 [00:14<00:00,  6.54it/s]\n",
      "100%|██████████| 128/128 [00:17<00:00,  6.98it/s]\n",
      "100%|██████████| 128/128 [00:18<00:00,  7.03it/s]\n",
      "100%|██████████| 128/128 [00:19<00:00,  7.26it/s]\n",
      "100%|██████████| 128/128 [00:17<00:00,  6.07it/s]\n",
      "100%|██████████| 128/128 [00:17<00:00,  7.34it/s]\n",
      "100%|██████████| 128/128 [00:16<00:00,  7.28it/s]\n",
      "100%|██████████| 128/128 [00:18<00:00,  6.82it/s]\n",
      "100%|██████████| 128/128 [00:18<00:00,  6.64it/s]\n"
     ]
    }
   ],
   "source": [
    "neg_ri,neg_ri_norms = computeRi(model.classifier,attributes,testneg,attribute_len,1)"
   ]
  },
  {
   "cell_type": "code",
   "execution_count": 16,
   "metadata": {},
   "outputs": [
    {
     "data": {
      "text/plain": [
       "<matplotlib.axes._subplots.AxesSubplot at 0x7f73cc17f6d8>"
      ]
     },
     "execution_count": 16,
     "metadata": {},
     "output_type": "execute_result"
    },
    {
     "data": {
      "image/png": "[encoded data removed]",
      "text/plain": [
       "<Figure size 432x288 with 1 Axes>"
      ]
     },
     "metadata": {
      "needs_background": "light"
     },
     "output_type": "display_data"
    }
   ],
   "source": [
    "negatives_variation_df = pd.DataFrame(data= neg_ri_norms,columns=attributes)\n",
    "negatives_variation_df.sum(numeric_only=True).plot.bar()"
   ]
  },
  {
   "cell_type": "markdown",
   "metadata": {},
   "source": [
    "### Positives"
   ]
  },
  {
   "cell_type": "code",
   "execution_count": 31,
   "metadata": {},
   "outputs": [
    {
     "name": "stderr",
     "output_type": "stream",
     "text": [
      "100%|██████████| 128/128 [00:04<00:00, 30.35it/s]\n",
      "100%|██████████| 128/128 [00:04<00:00, 34.74it/s]\n",
      "100%|██████████| 60/60 [00:01<00:00, 45.15it/s]\n",
      "100%|██████████| 128/128 [00:03<00:00, 30.61it/s]\n"
     ]
    }
   ],
   "source": [
    "pos_ri,pos_ri_norms = computeRi(model.classifier,attributes,testpos,attribute_len,0)"
   ]
  },
  {
   "cell_type": "code",
   "execution_count": 32,
   "metadata": {},
   "outputs": [
    {
     "data": {
      "text/plain": [
       "<matplotlib.axes._subplots.AxesSubplot at 0x7f73d54dba58>"
      ]
     },
     "execution_count": 32,
     "metadata": {},
     "output_type": "execute_result"
    },
    {
     "data": {
      "image/png": "[encoded data removed]",
      "text/plain": [
       "<Figure size 432x288 with 1 Axes>"
      ]
     },
     "metadata": {
      "needs_background": "light"
     },
     "output_type": "display_data"
    }
   ],
   "source": [
    "positives_variation_df = pd.DataFrame(data= pos_ri_norms,columns=attributes)\n",
    "positives_variation_df.sum().plot.bar()"
   ]
  },
  {
   "cell_type": "code",
   "execution_count": 33,
   "metadata": {},
   "outputs": [],
   "source": [
    "negatives_variation_df.to_csv('experiment_results/testneg_ri_rnn.csv',index=False)"
   ]
  },
  {
   "cell_type": "code",
   "execution_count": 34,
   "metadata": {},
   "outputs": [],
   "source": [
    "positives_variation_df.to_csv('experiment_results/testpos_ri_rnn.csv',index=False)"
   ]
  },
  {
   "cell_type": "markdown",
   "metadata": {},
   "source": [
    "## Nearest neighbors discovery on Rnn model"
   ]
  },
  {
   "cell_type": "code",
   "execution_count": 35,
   "metadata": {},
   "outputs": [],
   "source": [
    "from utils.distance_measures import calculate_nearest_neighbors_onAttributes"
   ]
  },
  {
   "cell_type": "code",
   "execution_count": 36,
   "metadata": {},
   "outputs": [
    {
     "name": "stderr",
     "output_type": "stream",
     "text": [
      "100%|██████████| 128/128 [00:00<00:00, 445.04it/s]\n",
      "100%|██████████| 128/128 [00:00<00:00, 464.19it/s]\n",
      "100%|██████████| 128/128 [00:00<00:00, 466.66it/s]\n",
      "100%|██████████| 128/128 [00:00<00:00, 446.06it/s]\n",
      "100%|██████████| 128/128 [00:00<00:00, 437.35it/s]\n",
      "100%|██████████| 128/128 [00:00<00:00, 470.20it/s]\n",
      "100%|██████████| 128/128 [00:00<00:00, 473.15it/s]\n",
      "100%|██████████| 109/109 [00:00<00:00, 470.53it/s]\n",
      "100%|██████████| 128/128 [00:00<00:00, 465.82it/s]\n",
      "100%|██████████| 128/128 [00:00<00:00, 470.76it/s]\n",
      "100%|██████████| 128/128 [00:00<00:00, 465.55it/s]\n",
      "100%|██████████| 128/128 [00:00<00:00, 442.62it/s]\n",
      "100%|██████████| 128/128 [00:00<00:00, 455.63it/s]\n",
      "100%|██████████| 128/128 [00:00<00:00, 452.88it/s]\n",
      "100%|██████████| 128/128 [00:00<00:00, 465.18it/s]\n",
      "100%|██████████| 128/128 [00:00<00:00, 479.02it/s]\n"
     ]
    }
   ],
   "source": [
    "negatives_closer_vectors_df = calculate_nearest_neighbors_onAttributes(testneg,testneg_ids,neg_ri,\n",
    "                                                                      positives,pos_ids,attributes,attribute_len,\n",
    "                                                                      min_similarity=0.5)"
   ]
  },
  {
   "cell_type": "code",
   "execution_count": 37,
   "metadata": {},
   "outputs": [],
   "source": [
    "negatives_closer_vectors_df.to_csv('experiment_results/testneg_nn_rnn.csv',index=False)"
   ]
  },
  {
   "cell_type": "code",
   "execution_count": 38,
   "metadata": {},
   "outputs": [
    {
     "name": "stderr",
     "output_type": "stream",
     "text": [
      "100%|██████████| 128/128 [00:01<00:00, 117.36it/s]\n",
      "100%|██████████| 128/128 [00:01<00:00, 119.41it/s]\n",
      "100%|██████████| 60/60 [00:00<00:00, 120.60it/s]\n",
      "100%|██████████| 128/128 [00:01<00:00, 120.80it/s]\n"
     ]
    }
   ],
   "source": [
    "positives_closer_vectors_df = calculate_nearest_neighbors_onAttributes(testpos,testpos_ids,pos_ri,\n",
    "                                                                      negatives,neg_ids,\n",
    "                                                                      attributes,attribute_len,min_similarity=0.5)"
   ]
  },
  {
   "cell_type": "code",
   "execution_count": 39,
   "metadata": {},
   "outputs": [],
   "source": [
    "positives_closer_vectors_df.to_csv('experiment_results/testpos_nn_rnn.csv',index=False)"
   ]
  }
 ],
 "metadata": {
  "kernelspec": {
   "display_name": "Python 3",
   "language": "python",
   "name": "python3"
  },
  "language_info": {
   "codemirror_mode": {
    "name": "ipython",
    "version": 3
   },
   "file_extension": ".py",
   "mimetype": "text/x-python",
   "name": "python",
   "nbconvert_exporter": "python",
   "pygments_lexer": "ipython3",
   "version": "3.6.10"
  },
  "toc": {
   "base_numbering": 1,
   "nav_menu": {},
   "number_sections": true,
   "sideBar": true,
   "skip_h1_title": false,
   "title_cell": "Table of Contents",
   "title_sidebar": "Contents",
   "toc_cell": false,
   "toc_position": {},
   "toc_section_display": true,
   "toc_window_display": false
  }
 },
 "nbformat": 4,
 "nbformat_minor": 2
}

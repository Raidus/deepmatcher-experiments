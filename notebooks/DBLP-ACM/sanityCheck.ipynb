{
 "cells": [
  {
   "cell_type": "code",
   "execution_count": 1,
   "metadata": {},
   "outputs": [],
   "source": [
    "%load_ext autoreload\n",
    "%autoreload 2"
   ]
  },
  {
   "cell_type": "code",
   "execution_count": 2,
   "metadata": {},
   "outputs": [],
   "source": [
    "import sys\n",
    "sys.path.append('../..')"
   ]
  },
  {
   "cell_type": "code",
   "execution_count": 3,
   "metadata": {},
   "outputs": [],
   "source": [
    "from utils.intermediate_layer_extraction import return_layer_input\n",
    "from utils.ri_calculator import computeRi,computeRiNaif\n",
    "import deepmatcher as dm\n",
    "import torch\n",
    "from tqdm import tqdm\n",
    "import pandas as pd"
   ]
  },
  {
   "cell_type": "code",
   "execution_count": 4,
   "metadata": {},
   "outputs": [],
   "source": [
    "hybrid_model = dm.MatchingModel(attr_summarizer='hybrid')\n",
    "hybrid_model.load_state('../../models/dblp_acm_hybrid.pth')"
   ]
  },
  {
   "cell_type": "code",
   "execution_count": 6,
   "metadata": {},
   "outputs": [],
   "source": [
    "negatives,neg_ids = return_layer_input('../../Structured/DBLP-ACM/','test_negatives',128,\n",
    "                                      hybrid_model,hybrid_model.classifier,device=-1)"
   ]
  },
  {
   "cell_type": "code",
   "execution_count": 7,
   "metadata": {},
   "outputs": [],
   "source": [
    "positives,pos_ids = return_layer_input('../../Structured/DBLP-ACM','test_positives',128,\n",
    "                                      hybrid_model,hybrid_model.classifier,device=-1)"
   ]
  },
  {
   "cell_type": "code",
   "execution_count": 8,
   "metadata": {},
   "outputs": [],
   "source": [
    "hybrid_model = hybrid_model.cuda()"
   ]
  },
  {
   "cell_type": "markdown",
   "metadata": {},
   "source": [
    "## Compare naif approach with gradient approach"
   ]
  },
  {
   "cell_type": "markdown",
   "metadata": {},
   "source": [
    "### Negatives"
   ]
  },
  {
   "cell_type": "code",
   "execution_count": 9,
   "metadata": {},
   "outputs": [],
   "source": [
    "def compareMethods(df1,df2,columns):\n",
    "    best1,best2 = (0,0)\n",
    "    for i in df1.index:\n",
    "        for col in columns:\n",
    "            lval = df1.at[i,col]\n",
    "            rval = df2.at[i,col]\n",
    "            if(lval == 0 and rval >0) or(rval <lval and rval >0):\n",
    "                best2+=1\n",
    "            elif(rval ==0 and lval >0)or(lval < rval and lval >0):\n",
    "                best1+=1\n",
    "    return (best1,best2)"
   ]
  },
  {
   "cell_type": "code",
   "execution_count": 10,
   "metadata": {},
   "outputs": [],
   "source": [
    "attributes = ['Beer_Name','Brew_Factory_Name','Style','ABV']\n",
    "attribute_len = int(len(negatives[0][0])/len(attributes))"
   ]
  },
  {
   "cell_type": "code",
   "execution_count": 15,
   "metadata": {},
   "outputs": [
    {
     "name": "stderr",
     "output_type": "stream",
     "text": [
      "100%|██████████| 128/128 [00:25<00:00,  5.06it/s]\n",
      "100%|██████████| 128/128 [00:26<00:00,  4.83it/s]\n",
      " 62%|██████▏   | 79/128 [00:16<00:10,  4.63it/s]"
     ]
    },
    {
     "name": "stdout",
     "output_type": "stream",
     "text": [
      "can't converge in 100 iterations\n"
     ]
    },
    {
     "name": "stderr",
     "output_type": "stream",
     "text": [
      "100%|██████████| 128/128 [00:27<00:00,  4.64it/s]\n",
      "100%|██████████| 128/128 [00:26<00:00,  4.76it/s]\n",
      "100%|██████████| 128/128 [00:27<00:00,  4.62it/s]\n",
      "100%|██████████| 109/109 [00:23<00:00,  4.63it/s]\n",
      " 50%|█████     | 64/128 [00:14<00:14,  4.42it/s]"
     ]
    },
    {
     "ename": "KeyboardInterrupt",
     "evalue": "",
     "output_type": "error",
     "traceback": [
      "\u001b[0;31m---------------------------------------------------------------------------\u001b[0m",
      "\u001b[0;31mKeyboardInterrupt\u001b[0m                         Traceback (most recent call last)",
      "\u001b[0;32m<ipython-input-15-7d458c40174e>\u001b[0m in \u001b[0;36m<module>\u001b[0;34m\u001b[0m\n\u001b[0;32m----> 1\u001b[0;31m \u001b[0mneg_ri\u001b[0m\u001b[0;34m,\u001b[0m\u001b[0mneg_ri_norms\u001b[0m \u001b[0;34m=\u001b[0m \u001b[0mcomputeRi\u001b[0m\u001b[0;34m(\u001b[0m\u001b[0mhybrid_model\u001b[0m\u001b[0;34m.\u001b[0m\u001b[0mclassifier\u001b[0m\u001b[0;34m,\u001b[0m\u001b[0mattributes\u001b[0m\u001b[0;34m,\u001b[0m\u001b[0mnegatives\u001b[0m\u001b[0;34m,\u001b[0m\u001b[0mattribute_len\u001b[0m\u001b[0;34m,\u001b[0m\u001b[0;36m1\u001b[0m\u001b[0;34m)\u001b[0m\u001b[0;34m\u001b[0m\u001b[0;34m\u001b[0m\u001b[0m\n\u001b[0m",
      "\u001b[0;32m~/workspace/dbgroup/vmartello/deepmatcher-experiments/utils/ri_calculator.py\u001b[0m in \u001b[0;36mcomputeRi\u001b[0;34m(layer, attributes, dataset, attribute_length, class_to_reach)\u001b[0m\n\u001b[1;32m    114\u001b[0m         \u001b[0;32mfor\u001b[0m \u001b[0msample\u001b[0m \u001b[0;32min\u001b[0m \u001b[0mtqdm\u001b[0m\u001b[0;34m(\u001b[0m\u001b[0mbatch\u001b[0m\u001b[0;34m)\u001b[0m\u001b[0;34m:\u001b[0m\u001b[0;34m\u001b[0m\u001b[0;34m\u001b[0m\u001b[0m\n\u001b[1;32m    115\u001b[0m             current_sample_ris = list(map(lambda att: findPerturbationToFlipPredict(sample,layer,layer_len,[attributes.index(att)],\n\u001b[0;32m--> 116\u001b[0;31m                                                                                            attribute_length,class_to_reach),attributes))\n\u001b[0m\u001b[1;32m    117\u001b[0m             \u001b[0mri\u001b[0m\u001b[0;34m.\u001b[0m\u001b[0mappend\u001b[0m\u001b[0;34m(\u001b[0m\u001b[0mcurrent_sample_ris\u001b[0m\u001b[0;34m)\u001b[0m\u001b[0;34m\u001b[0m\u001b[0;34m\u001b[0m\u001b[0m\n\u001b[1;32m    118\u001b[0m     \u001b[0mri_norms\u001b[0m \u001b[0;34m=\u001b[0m \u001b[0;34m[\u001b[0m\u001b[0;34m[\u001b[0m\u001b[0mtorch\u001b[0m\u001b[0;34m.\u001b[0m\u001b[0mnorm\u001b[0m\u001b[0;34m(\u001b[0m\u001b[0mv\u001b[0m\u001b[0;34m)\u001b[0m\u001b[0;34m.\u001b[0m\u001b[0mdata\u001b[0m\u001b[0;34m[\u001b[0m\u001b[0;36m0\u001b[0m\u001b[0;34m]\u001b[0m \u001b[0;32mfor\u001b[0m \u001b[0mv\u001b[0m \u001b[0;32min\u001b[0m \u001b[0mris\u001b[0m\u001b[0;34m]\u001b[0m \u001b[0;32mfor\u001b[0m \u001b[0mris\u001b[0m \u001b[0;32min\u001b[0m \u001b[0mri\u001b[0m\u001b[0;34m]\u001b[0m\u001b[0;34m\u001b[0m\u001b[0;34m\u001b[0m\u001b[0m\n",
      "\u001b[0;32m~/workspace/dbgroup/vmartello/deepmatcher-experiments/utils/ri_calculator.py\u001b[0m in \u001b[0;36m<lambda>\u001b[0;34m(att)\u001b[0m\n\u001b[1;32m    114\u001b[0m         \u001b[0;32mfor\u001b[0m \u001b[0msample\u001b[0m \u001b[0;32min\u001b[0m \u001b[0mtqdm\u001b[0m\u001b[0;34m(\u001b[0m\u001b[0mbatch\u001b[0m\u001b[0;34m)\u001b[0m\u001b[0;34m:\u001b[0m\u001b[0;34m\u001b[0m\u001b[0;34m\u001b[0m\u001b[0m\n\u001b[1;32m    115\u001b[0m             current_sample_ris = list(map(lambda att: findPerturbationToFlipPredict(sample,layer,layer_len,[attributes.index(att)],\n\u001b[0;32m--> 116\u001b[0;31m                                                                                            attribute_length,class_to_reach),attributes))\n\u001b[0m\u001b[1;32m    117\u001b[0m             \u001b[0mri\u001b[0m\u001b[0;34m.\u001b[0m\u001b[0mappend\u001b[0m\u001b[0;34m(\u001b[0m\u001b[0mcurrent_sample_ris\u001b[0m\u001b[0;34m)\u001b[0m\u001b[0;34m\u001b[0m\u001b[0;34m\u001b[0m\u001b[0m\n\u001b[1;32m    118\u001b[0m     \u001b[0mri_norms\u001b[0m \u001b[0;34m=\u001b[0m \u001b[0;34m[\u001b[0m\u001b[0;34m[\u001b[0m\u001b[0mtorch\u001b[0m\u001b[0;34m.\u001b[0m\u001b[0mnorm\u001b[0m\u001b[0;34m(\u001b[0m\u001b[0mv\u001b[0m\u001b[0;34m)\u001b[0m\u001b[0;34m.\u001b[0m\u001b[0mdata\u001b[0m\u001b[0;34m[\u001b[0m\u001b[0;36m0\u001b[0m\u001b[0;34m]\u001b[0m \u001b[0;32mfor\u001b[0m \u001b[0mv\u001b[0m \u001b[0;32min\u001b[0m \u001b[0mris\u001b[0m\u001b[0;34m]\u001b[0m \u001b[0;32mfor\u001b[0m \u001b[0mris\u001b[0m \u001b[0;32min\u001b[0m \u001b[0mri\u001b[0m\u001b[0;34m]\u001b[0m\u001b[0;34m\u001b[0m\u001b[0;34m\u001b[0m\u001b[0m\n",
      "\u001b[0;32m~/workspace/dbgroup/vmartello/deepmatcher-experiments/utils/ri_calculator.py\u001b[0m in \u001b[0;36mfindPerturbationToFlipPredict\u001b[0;34m(sample, layer, classifier_length, attributes, attribute_length, class_to_reach)\u001b[0m\n\u001b[1;32m     40\u001b[0m     \u001b[0mcontinue_search\u001b[0m \u001b[0;34m=\u001b[0m \u001b[0;32mTrue\u001b[0m\u001b[0;34m\u001b[0m\u001b[0;34m\u001b[0m\u001b[0m\n\u001b[1;32m     41\u001b[0m     \u001b[0;32mwhile\u001b[0m\u001b[0;34m(\u001b[0m\u001b[0mcontinue_search\u001b[0m \u001b[0;32mand\u001b[0m \u001b[0miterations\u001b[0m \u001b[0;34m<\u001b[0m\u001b[0mmax_iterations\u001b[0m \u001b[0;32mand\u001b[0m \u001b[0m_getPrediction\u001b[0m\u001b[0;34m(\u001b[0m\u001b[0mlayer\u001b[0m\u001b[0;34m,\u001b[0m\u001b[0mxi\u001b[0m\u001b[0;34m)\u001b[0m\u001b[0;34m!=\u001b[0m\u001b[0mclass_to_reach\u001b[0m\u001b[0;34m)\u001b[0m\u001b[0;34m:\u001b[0m\u001b[0;34m\u001b[0m\u001b[0;34m\u001b[0m\u001b[0m\n\u001b[0;32m---> 42\u001b[0;31m         \u001b[0moutput\u001b[0m \u001b[0;34m=\u001b[0m \u001b[0mlayer\u001b[0m\u001b[0;34m.\u001b[0m\u001b[0mforward\u001b[0m\u001b[0;34m(\u001b[0m\u001b[0mxi\u001b[0m\u001b[0;34m)\u001b[0m\u001b[0;34m\u001b[0m\u001b[0;34m\u001b[0m\u001b[0m\n\u001b[0m\u001b[1;32m     43\u001b[0m         \u001b[0mprobabilities\u001b[0m \u001b[0;34m=\u001b[0m \u001b[0mget_probabilites\u001b[0m\u001b[0;34m(\u001b[0m\u001b[0moutput\u001b[0m\u001b[0;34m)\u001b[0m\u001b[0;34m\u001b[0m\u001b[0;34m\u001b[0m\u001b[0m\n\u001b[1;32m     44\u001b[0m         \u001b[0;31m##f(x) is the probability of the current state\u001b[0m\u001b[0;34m\u001b[0m\u001b[0;34m\u001b[0m\u001b[0;34m\u001b[0m\u001b[0m\n",
      "\u001b[0;32m~/anaconda3/envs/testenv/lib/python3.6/site-packages/torch/nn/modules/container.py\u001b[0m in \u001b[0;36mforward\u001b[0;34m(self, input)\u001b[0m\n\u001b[1;32m     65\u001b[0m     \u001b[0;32mdef\u001b[0m \u001b[0mforward\u001b[0m\u001b[0;34m(\u001b[0m\u001b[0mself\u001b[0m\u001b[0;34m,\u001b[0m \u001b[0minput\u001b[0m\u001b[0;34m)\u001b[0m\u001b[0;34m:\u001b[0m\u001b[0;34m\u001b[0m\u001b[0;34m\u001b[0m\u001b[0m\n\u001b[1;32m     66\u001b[0m         \u001b[0;32mfor\u001b[0m \u001b[0mmodule\u001b[0m \u001b[0;32min\u001b[0m \u001b[0mself\u001b[0m\u001b[0;34m.\u001b[0m\u001b[0m_modules\u001b[0m\u001b[0;34m.\u001b[0m\u001b[0mvalues\u001b[0m\u001b[0;34m(\u001b[0m\u001b[0;34m)\u001b[0m\u001b[0;34m:\u001b[0m\u001b[0;34m\u001b[0m\u001b[0;34m\u001b[0m\u001b[0m\n\u001b[0;32m---> 67\u001b[0;31m             \u001b[0minput\u001b[0m \u001b[0;34m=\u001b[0m \u001b[0mmodule\u001b[0m\u001b[0;34m(\u001b[0m\u001b[0minput\u001b[0m\u001b[0;34m)\u001b[0m\u001b[0;34m\u001b[0m\u001b[0;34m\u001b[0m\u001b[0m\n\u001b[0m\u001b[1;32m     68\u001b[0m         \u001b[0;32mreturn\u001b[0m \u001b[0minput\u001b[0m\u001b[0;34m\u001b[0m\u001b[0;34m\u001b[0m\u001b[0m\n\u001b[1;32m     69\u001b[0m \u001b[0;34m\u001b[0m\u001b[0m\n",
      "\u001b[0;32m~/anaconda3/envs/testenv/lib/python3.6/site-packages/torch/nn/modules/module.py\u001b[0m in \u001b[0;36m__call__\u001b[0;34m(self, *input, **kwargs)\u001b[0m\n\u001b[1;32m    355\u001b[0m             \u001b[0mresult\u001b[0m \u001b[0;34m=\u001b[0m \u001b[0mself\u001b[0m\u001b[0;34m.\u001b[0m\u001b[0m_slow_forward\u001b[0m\u001b[0;34m(\u001b[0m\u001b[0;34m*\u001b[0m\u001b[0minput\u001b[0m\u001b[0;34m,\u001b[0m \u001b[0;34m**\u001b[0m\u001b[0mkwargs\u001b[0m\u001b[0;34m)\u001b[0m\u001b[0;34m\u001b[0m\u001b[0;34m\u001b[0m\u001b[0m\n\u001b[1;32m    356\u001b[0m         \u001b[0;32melse\u001b[0m\u001b[0;34m:\u001b[0m\u001b[0;34m\u001b[0m\u001b[0;34m\u001b[0m\u001b[0m\n\u001b[0;32m--> 357\u001b[0;31m             \u001b[0mresult\u001b[0m \u001b[0;34m=\u001b[0m \u001b[0mself\u001b[0m\u001b[0;34m.\u001b[0m\u001b[0mforward\u001b[0m\u001b[0;34m(\u001b[0m\u001b[0;34m*\u001b[0m\u001b[0minput\u001b[0m\u001b[0;34m,\u001b[0m \u001b[0;34m**\u001b[0m\u001b[0mkwargs\u001b[0m\u001b[0;34m)\u001b[0m\u001b[0;34m\u001b[0m\u001b[0;34m\u001b[0m\u001b[0m\n\u001b[0m\u001b[1;32m    358\u001b[0m         \u001b[0;32mfor\u001b[0m \u001b[0mhook\u001b[0m \u001b[0;32min\u001b[0m \u001b[0mself\u001b[0m\u001b[0;34m.\u001b[0m\u001b[0m_forward_hooks\u001b[0m\u001b[0;34m.\u001b[0m\u001b[0mvalues\u001b[0m\u001b[0;34m(\u001b[0m\u001b[0;34m)\u001b[0m\u001b[0;34m:\u001b[0m\u001b[0;34m\u001b[0m\u001b[0;34m\u001b[0m\u001b[0m\n\u001b[1;32m    359\u001b[0m             \u001b[0mhook_result\u001b[0m \u001b[0;34m=\u001b[0m \u001b[0mhook\u001b[0m\u001b[0;34m(\u001b[0m\u001b[0mself\u001b[0m\u001b[0;34m,\u001b[0m \u001b[0minput\u001b[0m\u001b[0;34m,\u001b[0m \u001b[0mresult\u001b[0m\u001b[0;34m)\u001b[0m\u001b[0;34m\u001b[0m\u001b[0;34m\u001b[0m\u001b[0m\n",
      "\u001b[0;32m~/anaconda3/envs/testenv/lib/python3.6/site-packages/deepmatcher/models/modules.py\u001b[0m in \u001b[0;36mforward\u001b[0;34m(self, input, *args, **kwargs)\u001b[0m\n\u001b[1;32m    120\u001b[0m             \u001b[0mself\u001b[0m\u001b[0;34m.\u001b[0m\u001b[0m_initialized\u001b[0m \u001b[0;34m=\u001b[0m \u001b[0;32mTrue\u001b[0m\u001b[0;34m\u001b[0m\u001b[0;34m\u001b[0m\u001b[0m\n\u001b[1;32m    121\u001b[0m \u001b[0;34m\u001b[0m\u001b[0m\n\u001b[0;32m--> 122\u001b[0;31m         \u001b[0;32mreturn\u001b[0m \u001b[0mself\u001b[0m\u001b[0;34m.\u001b[0m\u001b[0m_forward\u001b[0m\u001b[0;34m(\u001b[0m\u001b[0minput\u001b[0m\u001b[0;34m,\u001b[0m \u001b[0;34m*\u001b[0m\u001b[0margs\u001b[0m\u001b[0;34m,\u001b[0m \u001b[0;34m**\u001b[0m\u001b[0mkwargs\u001b[0m\u001b[0;34m)\u001b[0m\u001b[0;34m\u001b[0m\u001b[0;34m\u001b[0m\u001b[0m\n\u001b[0m\u001b[1;32m    123\u001b[0m \u001b[0;34m\u001b[0m\u001b[0m\n\u001b[1;32m    124\u001b[0m     \u001b[0;32mdef\u001b[0m \u001b[0mexpect_signature\u001b[0m\u001b[0;34m(\u001b[0m\u001b[0mself\u001b[0m\u001b[0;34m,\u001b[0m \u001b[0msignature\u001b[0m\u001b[0;34m)\u001b[0m\u001b[0;34m:\u001b[0m\u001b[0;34m\u001b[0m\u001b[0;34m\u001b[0m\u001b[0m\n",
      "\u001b[0;32m~/anaconda3/envs/testenv/lib/python3.6/site-packages/deepmatcher/models/modules.py\u001b[0m in \u001b[0;36m_forward\u001b[0;34m(self, input)\u001b[0m\n\u001b[1;32m    992\u001b[0m                 \u001b[0mnew_output\u001b[0m \u001b[0;34m=\u001b[0m \u001b[0mgetattr\u001b[0m\u001b[0;34m(\u001b[0m\u001b[0mF\u001b[0m\u001b[0;34m,\u001b[0m \u001b[0mself\u001b[0m\u001b[0;34m.\u001b[0m\u001b[0mnon_linearity\u001b[0m\u001b[0;34m)\u001b[0m\u001b[0;34m(\u001b[0m\u001b[0mnew_output\u001b[0m\u001b[0;34m)\u001b[0m\u001b[0;34m\u001b[0m\u001b[0;34m\u001b[0m\u001b[0m\n\u001b[1;32m    993\u001b[0m             \u001b[0;32mif\u001b[0m \u001b[0mbypass\u001b[0m\u001b[0;34m:\u001b[0m\u001b[0;34m\u001b[0m\u001b[0;34m\u001b[0m\u001b[0m\n\u001b[0;32m--> 994\u001b[0;31m                 \u001b[0mnew_output\u001b[0m \u001b[0;34m=\u001b[0m \u001b[0mbypass\u001b[0m\u001b[0;34m(\u001b[0m\u001b[0mnew_output\u001b[0m\u001b[0;34m,\u001b[0m \u001b[0moutput\u001b[0m\u001b[0;34m)\u001b[0m\u001b[0;34m\u001b[0m\u001b[0;34m\u001b[0m\u001b[0m\n\u001b[0m\u001b[1;32m    995\u001b[0m             \u001b[0moutput\u001b[0m \u001b[0;34m=\u001b[0m \u001b[0mnew_output\u001b[0m\u001b[0;34m\u001b[0m\u001b[0;34m\u001b[0m\u001b[0m\n\u001b[1;32m    996\u001b[0m \u001b[0;34m\u001b[0m\u001b[0m\n",
      "\u001b[0;32m~/anaconda3/envs/testenv/lib/python3.6/site-packages/torch/nn/modules/module.py\u001b[0m in \u001b[0;36m__call__\u001b[0;34m(self, *input, **kwargs)\u001b[0m\n\u001b[1;32m    355\u001b[0m             \u001b[0mresult\u001b[0m \u001b[0;34m=\u001b[0m \u001b[0mself\u001b[0m\u001b[0;34m.\u001b[0m\u001b[0m_slow_forward\u001b[0m\u001b[0;34m(\u001b[0m\u001b[0;34m*\u001b[0m\u001b[0minput\u001b[0m\u001b[0;34m,\u001b[0m \u001b[0;34m**\u001b[0m\u001b[0mkwargs\u001b[0m\u001b[0;34m)\u001b[0m\u001b[0;34m\u001b[0m\u001b[0;34m\u001b[0m\u001b[0m\n\u001b[1;32m    356\u001b[0m         \u001b[0;32melse\u001b[0m\u001b[0;34m:\u001b[0m\u001b[0;34m\u001b[0m\u001b[0;34m\u001b[0m\u001b[0m\n\u001b[0;32m--> 357\u001b[0;31m             \u001b[0mresult\u001b[0m \u001b[0;34m=\u001b[0m \u001b[0mself\u001b[0m\u001b[0;34m.\u001b[0m\u001b[0mforward\u001b[0m\u001b[0;34m(\u001b[0m\u001b[0;34m*\u001b[0m\u001b[0minput\u001b[0m\u001b[0;34m,\u001b[0m \u001b[0;34m**\u001b[0m\u001b[0mkwargs\u001b[0m\u001b[0;34m)\u001b[0m\u001b[0;34m\u001b[0m\u001b[0;34m\u001b[0m\u001b[0m\n\u001b[0m\u001b[1;32m    358\u001b[0m         \u001b[0;32mfor\u001b[0m \u001b[0mhook\u001b[0m \u001b[0;32min\u001b[0m \u001b[0mself\u001b[0m\u001b[0;34m.\u001b[0m\u001b[0m_forward_hooks\u001b[0m\u001b[0;34m.\u001b[0m\u001b[0mvalues\u001b[0m\u001b[0;34m(\u001b[0m\u001b[0;34m)\u001b[0m\u001b[0;34m:\u001b[0m\u001b[0;34m\u001b[0m\u001b[0;34m\u001b[0m\u001b[0m\n\u001b[1;32m    359\u001b[0m             \u001b[0mhook_result\u001b[0m \u001b[0;34m=\u001b[0m \u001b[0mhook\u001b[0m\u001b[0;34m(\u001b[0m\u001b[0mself\u001b[0m\u001b[0;34m,\u001b[0m \u001b[0minput\u001b[0m\u001b[0;34m,\u001b[0m \u001b[0mresult\u001b[0m\u001b[0;34m)\u001b[0m\u001b[0;34m\u001b[0m\u001b[0;34m\u001b[0m\u001b[0m\n",
      "\u001b[0;32m~/anaconda3/envs/testenv/lib/python3.6/site-packages/deepmatcher/models/modules.py\u001b[0m in \u001b[0;36mforward\u001b[0;34m(self, input, *args, **kwargs)\u001b[0m\n\u001b[1;32m    120\u001b[0m             \u001b[0mself\u001b[0m\u001b[0;34m.\u001b[0m\u001b[0m_initialized\u001b[0m \u001b[0;34m=\u001b[0m \u001b[0;32mTrue\u001b[0m\u001b[0;34m\u001b[0m\u001b[0;34m\u001b[0m\u001b[0m\n\u001b[1;32m    121\u001b[0m \u001b[0;34m\u001b[0m\u001b[0m\n\u001b[0;32m--> 122\u001b[0;31m         \u001b[0;32mreturn\u001b[0m \u001b[0mself\u001b[0m\u001b[0;34m.\u001b[0m\u001b[0m_forward\u001b[0m\u001b[0;34m(\u001b[0m\u001b[0minput\u001b[0m\u001b[0;34m,\u001b[0m \u001b[0;34m*\u001b[0m\u001b[0margs\u001b[0m\u001b[0;34m,\u001b[0m \u001b[0;34m**\u001b[0m\u001b[0mkwargs\u001b[0m\u001b[0;34m)\u001b[0m\u001b[0;34m\u001b[0m\u001b[0;34m\u001b[0m\u001b[0m\n\u001b[0m\u001b[1;32m    123\u001b[0m \u001b[0;34m\u001b[0m\u001b[0m\n\u001b[1;32m    124\u001b[0m     \u001b[0;32mdef\u001b[0m \u001b[0mexpect_signature\u001b[0m\u001b[0;34m(\u001b[0m\u001b[0mself\u001b[0m\u001b[0;34m,\u001b[0m \u001b[0msignature\u001b[0m\u001b[0;34m)\u001b[0m\u001b[0;34m:\u001b[0m\u001b[0;34m\u001b[0m\u001b[0;34m\u001b[0m\u001b[0m\n",
      "\u001b[0;32m~/anaconda3/envs/testenv/lib/python3.6/site-packages/deepmatcher/models/modules.py\u001b[0m in \u001b[0;36m_forward\u001b[0;34m(self, transformed, raw)\u001b[0m\n\u001b[1;32m    863\u001b[0m             \u001b[0mtransform_gate\u001b[0m \u001b[0;34m=\u001b[0m \u001b[0mF\u001b[0m\u001b[0;34m.\u001b[0m\u001b[0msigmoid\u001b[0m\u001b[0;34m(\u001b[0m\u001b[0mself\u001b[0m\u001b[0;34m.\u001b[0m\u001b[0mhighway_gate\u001b[0m\u001b[0;34m(\u001b[0m\u001b[0mraw\u001b[0m\u001b[0;34m)\u001b[0m \u001b[0;34m+\u001b[0m \u001b[0mself\u001b[0m\u001b[0;34m.\u001b[0m\u001b[0mhighway_bias\u001b[0m\u001b[0;34m)\u001b[0m\u001b[0;34m\u001b[0m\u001b[0;34m\u001b[0m\u001b[0m\n\u001b[1;32m    864\u001b[0m             \u001b[0mcarry_gate\u001b[0m \u001b[0;34m=\u001b[0m \u001b[0;36m1\u001b[0m \u001b[0;34m-\u001b[0m \u001b[0mtransform_gate\u001b[0m\u001b[0;34m\u001b[0m\u001b[0;34m\u001b[0m\u001b[0m\n\u001b[0;32m--> 865\u001b[0;31m             \u001b[0;32mreturn\u001b[0m \u001b[0mtransform_gate\u001b[0m \u001b[0;34m*\u001b[0m \u001b[0mtransformed\u001b[0m \u001b[0;34m+\u001b[0m \u001b[0mcarry_gate\u001b[0m \u001b[0;34m*\u001b[0m \u001b[0madjusted_raw\u001b[0m\u001b[0;34m\u001b[0m\u001b[0;34m\u001b[0m\u001b[0m\n\u001b[0m\u001b[1;32m    866\u001b[0m \u001b[0;34m\u001b[0m\u001b[0m\n\u001b[1;32m    867\u001b[0m \u001b[0;34m\u001b[0m\u001b[0m\n",
      "\u001b[0;31mKeyboardInterrupt\u001b[0m: "
     ]
    }
   ],
   "source": [
    "neg_ri,neg_ri_norms = computeRi(hybrid_model.classifier,attributes,negatives\n",
    "                                ,attribute_len,1)"
   ]
  },
  {
   "cell_type": "code",
   "execution_count": 12,
   "metadata": {},
   "outputs": [
    {
     "name": "stderr",
     "output_type": "stream",
     "text": [
      "100%|██████████| 128/128 [00:13<00:00,  9.82it/s]\n",
      "100%|██████████| 128/128 [00:13<00:00,  9.81it/s]\n",
      "100%|██████████| 128/128 [00:13<00:00,  9.25it/s]\n",
      "100%|██████████| 128/128 [00:12<00:00, 10.27it/s]\n",
      "100%|██████████| 128/128 [00:12<00:00, 10.05it/s]\n",
      "100%|██████████| 109/109 [00:10<00:00, 10.62it/s]\n",
      "100%|██████████| 128/128 [00:11<00:00, 10.69it/s]\n",
      "100%|██████████| 128/128 [00:12<00:00, 10.60it/s]\n",
      "100%|██████████| 128/128 [00:12<00:00, 10.66it/s]\n",
      "100%|██████████| 128/128 [00:12<00:00, 10.54it/s]\n",
      "100%|██████████| 128/128 [00:12<00:00, 10.13it/s]\n",
      "100%|██████████| 128/128 [00:12<00:00, 10.36it/s]\n",
      "100%|██████████| 128/128 [00:12<00:00, 10.66it/s]\n",
      "100%|██████████| 128/128 [00:11<00:00, 10.81it/s]\n",
      "100%|██████████| 128/128 [00:12<00:00, 10.35it/s]\n",
      "100%|██████████| 128/128 [00:11<00:00, 10.91it/s]\n"
     ]
    }
   ],
   "source": [
    "neg_ri_naif,neg_ri_norms_naif = computeRiNaif(negatives,positives,1,hybrid_model.classifier,attributes,attribute_len)"
   ]
  },
  {
   "cell_type": "code",
   "execution_count": 13,
   "metadata": {},
   "outputs": [],
   "source": [
    "neg_variation_gradient = pd.DataFrame(data= neg_ri_norms,columns=attributes)\n",
    "neg_variation_naif = pd.DataFrame(data= neg_ri_norms_naif,columns=attributes)"
   ]
  },
  {
   "cell_type": "code",
   "execution_count": 14,
   "metadata": {},
   "outputs": [
    {
     "data": {
      "text/plain": [
       "(7531, 459)"
      ]
     },
     "execution_count": 14,
     "metadata": {},
     "output_type": "execute_result"
    }
   ],
   "source": [
    "compareMethods(neg_variation_gradient,neg_variation_naif,attributes)"
   ]
  },
  {
   "cell_type": "markdown",
   "metadata": {},
   "source": [
    "### Positives"
   ]
  },
  {
   "cell_type": "code",
   "execution_count": 16,
   "metadata": {},
   "outputs": [
    {
     "name": "stderr",
     "output_type": "stream",
     "text": [
      "\n",
      "  0%|          | 0/128 [00:00<?, ?it/s]\u001b[A\n",
      "  1%|          | 1/128 [00:00<00:14,  8.88it/s]\u001b[A\n",
      "  2%|▏         | 2/128 [00:00<00:13,  9.16it/s]\u001b[A\n",
      "  2%|▏         | 3/128 [00:00<00:13,  9.17it/s]\u001b[A"
     ]
    },
    {
     "name": "stdout",
     "output_type": "stream",
     "text": [
      "can't converge in 100 iterations\n"
     ]
    },
    {
     "name": "stderr",
     "output_type": "stream",
     "text": [
      "\n",
      "  4%|▍         | 5/128 [00:01<00:27,  4.41it/s]\u001b[A\n",
      "  5%|▌         | 7/128 [00:01<00:22,  5.45it/s]\u001b[A"
     ]
    },
    {
     "name": "stdout",
     "output_type": "stream",
     "text": [
      "can't converge in 100 iterations\n"
     ]
    },
    {
     "name": "stderr",
     "output_type": "stream",
     "text": [
      "\n",
      "  6%|▋         | 8/128 [00:01<00:19,  6.23it/s]\u001b[A\n",
      "  9%|▊         | 11/128 [00:01<00:14,  7.90it/s]\u001b[A\n",
      " 10%|█         | 13/128 [00:01<00:14,  7.87it/s]\u001b[A\n",
      " 12%|█▏        | 15/128 [00:02<00:12,  8.79it/s]\u001b[A\n",
      " 14%|█▍        | 18/128 [00:02<00:12,  8.53it/s]\u001b[A"
     ]
    },
    {
     "name": "stdout",
     "output_type": "stream",
     "text": [
      "can't converge in 100 iterations\n",
      "can't converge in 100 iterations\n",
      "can't converge in 100 iterations\n"
     ]
    },
    {
     "name": "stderr",
     "output_type": "stream",
     "text": [
      "\n",
      " 16%|█▌        | 20/128 [00:04<00:34,  3.09it/s]\u001b[A"
     ]
    },
    {
     "name": "stdout",
     "output_type": "stream",
     "text": [
      "can't converge in 100 iterations\n"
     ]
    },
    {
     "name": "stderr",
     "output_type": "stream",
     "text": [
      "\n",
      " 18%|█▊        | 23/128 [00:04<00:26,  3.96it/s]\u001b[A\n",
      " 20%|█▉        | 25/128 [00:04<00:19,  5.21it/s]\u001b[A\n",
      " 21%|██        | 27/128 [00:04<00:17,  5.74it/s]\u001b[A\n",
      " 23%|██▎       | 29/128 [00:04<00:14,  6.68it/s]\u001b[A\n",
      " 24%|██▍       | 31/128 [00:05<00:13,  7.14it/s]\u001b[A"
     ]
    },
    {
     "name": "stdout",
     "output_type": "stream",
     "text": [
      "can't converge in 100 iterations\n",
      "can't converge in 100 iterations\n"
     ]
    },
    {
     "name": "stderr",
     "output_type": "stream",
     "text": [
      "\n",
      " 26%|██▌       | 33/128 [00:06<00:28,  3.34it/s]\u001b[A"
     ]
    },
    {
     "name": "stdout",
     "output_type": "stream",
     "text": [
      "can't converge in 100 iterations\n"
     ]
    },
    {
     "name": "stderr",
     "output_type": "stream",
     "text": [
      "\n",
      " 28%|██▊       | 36/128 [00:07<00:25,  3.65it/s]\u001b[A"
     ]
    },
    {
     "name": "stdout",
     "output_type": "stream",
     "text": [
      "can't converge in 100 iterations\n"
     ]
    },
    {
     "name": "stderr",
     "output_type": "stream",
     "text": [
      "\n",
      " 30%|███       | 39/128 [00:07<00:22,  3.93it/s]\u001b[A\n",
      " 32%|███▏      | 41/128 [00:07<00:17,  5.11it/s]\u001b[A"
     ]
    },
    {
     "name": "stdout",
     "output_type": "stream",
     "text": [
      "can't converge in 100 iterations\n"
     ]
    },
    {
     "name": "stderr",
     "output_type": "stream",
     "text": [
      "\n",
      " 33%|███▎      | 42/128 [00:08<00:25,  3.35it/s]\u001b[A"
     ]
    },
    {
     "name": "stdout",
     "output_type": "stream",
     "text": [
      "can't converge in 100 iterations\n",
      "can't converge in 100 iterations\n"
     ]
    },
    {
     "name": "stderr",
     "output_type": "stream",
     "text": [
      "\n",
      " 34%|███▍      | 44/128 [00:09<00:28,  2.91it/s]\u001b[A\n",
      " 36%|███▌      | 46/128 [00:09<00:21,  3.82it/s]\u001b[A"
     ]
    },
    {
     "name": "stdout",
     "output_type": "stream",
     "text": [
      "can't converge in 100 iterations\n",
      "can't converge in 100 iterations\n"
     ]
    },
    {
     "name": "stderr",
     "output_type": "stream",
     "text": [
      "\n",
      " 37%|███▋      | 47/128 [00:10<00:35,  2.26it/s]\u001b[A\n",
      " 38%|███▊      | 48/128 [00:10<00:27,  2.87it/s]\u001b[A"
     ]
    },
    {
     "name": "stdout",
     "output_type": "stream",
     "text": [
      "can't converge in 100 iterations\n"
     ]
    },
    {
     "name": "stderr",
     "output_type": "stream",
     "text": [
      "\n",
      " 38%|███▊      | 49/128 [00:10<00:25,  3.10it/s]\u001b[A\n",
      " 39%|███▉      | 50/128 [00:11<00:28,  2.72it/s]\u001b[A\n",
      " 40%|███▉      | 51/128 [00:11<00:24,  3.21it/s]\u001b[A"
     ]
    },
    {
     "name": "stdout",
     "output_type": "stream",
     "text": [
      "can't converge in 100 iterations\n"
     ]
    },
    {
     "name": "stderr",
     "output_type": "stream",
     "text": [
      "\n",
      " 41%|████      | 52/128 [00:11<00:27,  2.73it/s]\u001b[A\n",
      " 42%|████▏     | 54/128 [00:12<00:20,  3.57it/s]\u001b[A"
     ]
    },
    {
     "name": "stdout",
     "output_type": "stream",
     "text": [
      "can't converge in 100 iterations\n"
     ]
    },
    {
     "name": "stderr",
     "output_type": "stream",
     "text": [
      "\n",
      " 45%|████▍     | 57/128 [00:12<00:14,  4.79it/s]\u001b[A\n",
      " 46%|████▌     | 59/128 [00:12<00:15,  4.44it/s]\u001b[A"
     ]
    },
    {
     "name": "stdout",
     "output_type": "stream",
     "text": [
      "can't converge in 100 iterations\n"
     ]
    },
    {
     "name": "stderr",
     "output_type": "stream",
     "text": [
      "\n",
      " 48%|████▊     | 61/128 [00:12<00:12,  5.46it/s]\u001b[A\n",
      " 49%|████▉     | 63/128 [00:13<00:09,  6.88it/s]\u001b[A\n",
      " 51%|█████     | 65/128 [00:13<00:09,  6.92it/s]\u001b[A\n",
      " 52%|█████▏    | 67/128 [00:13<00:08,  7.17it/s]\u001b[A\n",
      " 53%|█████▎    | 68/128 [00:14<00:14,  4.20it/s]\u001b[A\n",
      " 55%|█████▍    | 70/128 [00:14<00:10,  5.48it/s]\u001b[A"
     ]
    },
    {
     "name": "stdout",
     "output_type": "stream",
     "text": [
      "can't converge in 100 iterations\n"
     ]
    },
    {
     "name": "stderr",
     "output_type": "stream",
     "text": [
      "\n",
      " 56%|█████▋    | 72/128 [00:14<00:11,  4.81it/s]\u001b[A"
     ]
    },
    {
     "name": "stdout",
     "output_type": "stream",
     "text": [
      "can't converge in 100 iterations\n"
     ]
    },
    {
     "name": "stderr",
     "output_type": "stream",
     "text": [
      "\n",
      " 58%|█████▊    | 74/128 [00:14<00:08,  6.02it/s]\u001b[A\n",
      " 59%|█████▉    | 76/128 [00:14<00:06,  7.49it/s]\u001b[A\n",
      " 61%|██████    | 78/128 [00:15<00:08,  5.86it/s]\u001b[A\n",
      " 64%|██████▍   | 82/128 [00:15<00:05,  7.76it/s]\u001b[A"
     ]
    },
    {
     "name": "stdout",
     "output_type": "stream",
     "text": [
      "can't converge in 100 iterations\n"
     ]
    },
    {
     "name": "stderr",
     "output_type": "stream",
     "text": [
      "\n",
      " 68%|██████▊   | 87/128 [00:15<00:03, 10.25it/s]\u001b[A\n",
      " 70%|███████   | 90/128 [00:15<00:03, 10.64it/s]\u001b[A\n",
      " 73%|███████▎  | 93/128 [00:16<00:03, 10.86it/s]\u001b[A\n",
      " 74%|███████▍  | 95/128 [00:16<00:05,  5.81it/s]\u001b[A"
     ]
    },
    {
     "name": "stdout",
     "output_type": "stream",
     "text": [
      "can't converge in 100 iterations\n"
     ]
    },
    {
     "name": "stderr",
     "output_type": "stream",
     "text": [
      "\n",
      " 76%|███████▌  | 97/128 [00:17<00:06,  4.60it/s]\u001b[A"
     ]
    },
    {
     "name": "stdout",
     "output_type": "stream",
     "text": [
      "can't converge in 100 iterations\n"
     ]
    },
    {
     "name": "stderr",
     "output_type": "stream",
     "text": [
      "\n",
      " 78%|███████▊  | 100/128 [00:18<00:05,  4.86it/s]\u001b[A\n",
      " 80%|███████▉  | 102/128 [00:18<00:04,  6.16it/s]\u001b[A"
     ]
    },
    {
     "name": "stdout",
     "output_type": "stream",
     "text": [
      "can't converge in 100 iterations\n"
     ]
    },
    {
     "name": "stderr",
     "output_type": "stream",
     "text": [
      "\n",
      " 81%|████████▏ | 104/128 [00:18<00:03,  6.94it/s]\u001b[A\n",
      " 83%|████████▎ | 106/128 [00:18<00:03,  7.17it/s]\u001b[A\n",
      " 84%|████████▍ | 108/128 [00:18<00:02,  7.55it/s]\u001b[A\n",
      " 87%|████████▋ | 111/128 [00:19<00:01,  8.52it/s]\u001b[A\n",
      " 88%|████████▊ | 113/128 [00:19<00:01,  8.54it/s]\u001b[A"
     ]
    },
    {
     "name": "stdout",
     "output_type": "stream",
     "text": [
      "can't converge in 100 iterations\n"
     ]
    },
    {
     "name": "stderr",
     "output_type": "stream",
     "text": [
      "\n",
      " 91%|█████████ | 116/128 [00:20<00:01,  6.25it/s]\u001b[A"
     ]
    },
    {
     "name": "stdout",
     "output_type": "stream",
     "text": [
      "can't converge in 100 iterations\n",
      "can't converge in 100 iterations\n"
     ]
    },
    {
     "name": "stderr",
     "output_type": "stream",
     "text": [
      "\n",
      " 93%|█████████▎| 119/128 [00:20<00:01,  5.18it/s]\u001b[A\n",
      " 95%|█████████▍| 121/128 [00:21<00:01,  6.49it/s]\u001b[A"
     ]
    },
    {
     "name": "stdout",
     "output_type": "stream",
     "text": [
      "can't converge in 100 iterations\n"
     ]
    },
    {
     "name": "stderr",
     "output_type": "stream",
     "text": [
      "\n",
      " 97%|█████████▋| 124/128 [00:21<00:00,  8.39it/s]\u001b[A"
     ]
    },
    {
     "name": "stdout",
     "output_type": "stream",
     "text": [
      "can't converge in 100 iterations\n"
     ]
    },
    {
     "name": "stderr",
     "output_type": "stream",
     "text": [
      "\n",
      " 98%|█████████▊| 126/128 [00:21<00:00,  5.26it/s]\u001b[A\n",
      "100%|██████████| 128/128 [00:22<00:00,  5.81it/s]\u001b[A\n",
      "\n",
      "  0%|          | 0/128 [00:00<?, ?it/s]\u001b[A"
     ]
    },
    {
     "name": "stdout",
     "output_type": "stream",
     "text": [
      "can't converge in 100 iterations\n"
     ]
    },
    {
     "name": "stderr",
     "output_type": "stream",
     "text": [
      "\n",
      "  1%|          | 1/128 [00:00<00:15,  8.27it/s]\u001b[A\n",
      "  3%|▎         | 4/128 [00:00<00:12, 10.06it/s]\u001b[A"
     ]
    },
    {
     "name": "stdout",
     "output_type": "stream",
     "text": [
      "can't converge in 100 iterations\n"
     ]
    },
    {
     "name": "stderr",
     "output_type": "stream",
     "text": [
      "\n",
      "  5%|▌         | 7/128 [00:01<00:17,  6.83it/s]\u001b[A\n",
      "  8%|▊         | 10/128 [00:01<00:13,  8.88it/s]\u001b[A"
     ]
    },
    {
     "name": "stdout",
     "output_type": "stream",
     "text": [
      "can't converge in 100 iterations\n"
     ]
    },
    {
     "name": "stderr",
     "output_type": "stream",
     "text": [
      "\n",
      " 10%|█         | 13/128 [00:01<00:10, 10.89it/s]\u001b[A\n",
      " 12%|█▏        | 15/128 [00:01<00:11,  9.66it/s]\u001b[A\n",
      " 13%|█▎        | 17/128 [00:01<00:09, 11.40it/s]\u001b[A\n",
      " 16%|█▌        | 20/128 [00:01<00:08, 13.49it/s]\u001b[A\n",
      " 18%|█▊        | 23/128 [00:01<00:07, 14.05it/s]\u001b[A"
     ]
    },
    {
     "name": "stdout",
     "output_type": "stream",
     "text": [
      "can't converge in 100 iterations\n"
     ]
    },
    {
     "name": "stderr",
     "output_type": "stream",
     "text": [
      "\n",
      " 20%|█▉        | 25/128 [00:02<00:16,  6.14it/s]\u001b[A"
     ]
    },
    {
     "name": "stdout",
     "output_type": "stream",
     "text": [
      "can't converge in 100 iterations\n",
      "can't converge in 100 iterations\n"
     ]
    },
    {
     "name": "stderr",
     "output_type": "stream",
     "text": [
      "\n",
      " 21%|██        | 27/128 [00:03<00:22,  4.51it/s]\u001b[A\n",
      " 23%|██▎       | 30/128 [00:03<00:16,  5.90it/s]\u001b[A"
     ]
    },
    {
     "name": "stdout",
     "output_type": "stream",
     "text": [
      "can't converge in 100 iterations\n"
     ]
    },
    {
     "name": "stderr",
     "output_type": "stream",
     "text": [
      "\n",
      " 25%|██▌       | 32/128 [00:03<00:15,  6.18it/s]\u001b[A\n",
      " 27%|██▋       | 35/128 [00:04<00:12,  7.74it/s]\u001b[A"
     ]
    },
    {
     "name": "stdout",
     "output_type": "stream",
     "text": [
      "can't converge in 100 iterations\n"
     ]
    },
    {
     "name": "stderr",
     "output_type": "stream",
     "text": [
      "\n",
      " 30%|██▉       | 38/128 [00:04<00:15,  5.97it/s]\u001b[A"
     ]
    },
    {
     "name": "stdout",
     "output_type": "stream",
     "text": [
      "can't converge in 100 iterations\n"
     ]
    },
    {
     "name": "stderr",
     "output_type": "stream",
     "text": [
      "\n",
      " 31%|███▏      | 40/128 [00:05<00:19,  4.53it/s]\u001b[A"
     ]
    },
    {
     "name": "stdout",
     "output_type": "stream",
     "text": [
      "can't converge in 100 iterations\n",
      "can't converge in 100 iterations\n"
     ]
    },
    {
     "name": "stderr",
     "output_type": "stream",
     "text": [
      "\n",
      " 33%|███▎      | 42/128 [00:06<00:22,  3.75it/s]\u001b[A\n",
      " 35%|███▌      | 45/128 [00:06<00:16,  5.01it/s]\u001b[A"
     ]
    },
    {
     "name": "stdout",
     "output_type": "stream",
     "text": [
      "can't converge in 100 iterations\n",
      "can't converge in 100 iterations\n"
     ]
    },
    {
     "name": "stderr",
     "output_type": "stream",
     "text": [
      "\n",
      " 38%|███▊      | 48/128 [00:07<00:17,  4.65it/s]\u001b[A"
     ]
    },
    {
     "name": "stdout",
     "output_type": "stream",
     "text": [
      "can't converge in 100 iterations\n"
     ]
    },
    {
     "name": "stderr",
     "output_type": "stream",
     "text": [
      "\n",
      " 39%|███▉      | 50/128 [00:07<00:14,  5.29it/s]\u001b[A\n",
      " 40%|███▉      | 51/128 [00:07<00:13,  5.63it/s]\u001b[A"
     ]
    },
    {
     "name": "stdout",
     "output_type": "stream",
     "text": [
      "can't converge in 100 iterations\n"
     ]
    },
    {
     "name": "stderr",
     "output_type": "stream",
     "text": [
      "\n",
      " 41%|████▏     | 53/128 [00:08<00:18,  4.08it/s]\u001b[A\n",
      " 42%|████▏     | 54/128 [00:08<00:17,  4.32it/s]"
     ]
    },
    {
     "name": "stdout",
     "output_type": "stream",
     "text": [
      "can't converge in 100 iterations\n"
     ]
    },
    {
     "name": "stderr",
     "output_type": "stream",
     "text": [
      "\u001b[A\n",
      " 44%|████▍     | 56/128 [00:08<00:12,  5.64it/s]\u001b[A\n",
      " 45%|████▌     | 58/128 [00:08<00:11,  6.28it/s]\u001b[A\n",
      " 48%|████▊     | 62/128 [00:09<00:08,  7.47it/s]\u001b[A\n",
      " 50%|█████     | 64/128 [00:10<00:15,  4.22it/s]\u001b[A"
     ]
    },
    {
     "name": "stdout",
     "output_type": "stream",
     "text": [
      "can't converge in 100 iterations\n"
     ]
    },
    {
     "name": "stderr",
     "output_type": "stream",
     "text": [
      "\n",
      " 51%|█████     | 65/128 [00:10<00:13,  4.80it/s]\u001b[A\n",
      " 52%|█████▏    | 67/128 [00:10<00:10,  5.97it/s]\u001b[A\n",
      " 55%|█████▍    | 70/128 [00:10<00:08,  6.58it/s]\u001b[A\n",
      " 55%|█████▌    | 71/128 [00:10<00:07,  7.23it/s]\u001b[A\n",
      " 57%|█████▋    | 73/128 [00:10<00:06,  8.74it/s]\u001b[A\n",
      " 59%|█████▊    | 75/128 [00:11<00:08,  5.93it/s]\u001b[A"
     ]
    },
    {
     "name": "stdout",
     "output_type": "stream",
     "text": [
      "can't converge in 100 iterations\n"
     ]
    },
    {
     "name": "stderr",
     "output_type": "stream",
     "text": [
      "\n",
      " 60%|██████    | 77/128 [00:11<00:07,  6.94it/s]\u001b[A\n",
      " 61%|██████    | 78/128 [00:11<00:06,  7.51it/s]\u001b[A\n",
      " 62%|██████▏   | 79/128 [00:11<00:06,  8.00it/s]\u001b[A\n",
      " 63%|██████▎   | 81/128 [00:12<00:05,  9.10it/s]\u001b[A\n",
      " 65%|██████▍   | 83/128 [00:12<00:04, 10.64it/s]\u001b[A\n",
      " 66%|██████▋   | 85/128 [00:12<00:07,  5.69it/s]\u001b[A\n",
      " 69%|██████▉   | 88/128 [00:13<00:05,  7.03it/s]\u001b[A"
     ]
    },
    {
     "name": "stdout",
     "output_type": "stream",
     "text": [
      "can't converge in 100 iterations\n"
     ]
    },
    {
     "name": "stderr",
     "output_type": "stream",
     "text": [
      "\n",
      " 70%|███████   | 90/128 [00:13<00:04,  8.50it/s]\u001b[A\n",
      " 73%|███████▎  | 93/128 [00:13<00:05,  6.89it/s]\u001b[A"
     ]
    },
    {
     "name": "stdout",
     "output_type": "stream",
     "text": [
      "can't converge in 100 iterations\n",
      "can't converge in 100 iterations\n"
     ]
    },
    {
     "name": "stderr",
     "output_type": "stream",
     "text": [
      "\n",
      " 74%|███████▍  | 95/128 [00:14<00:07,  4.32it/s]\u001b[A"
     ]
    },
    {
     "name": "stdout",
     "output_type": "stream",
     "text": [
      "can't converge in 100 iterations\n"
     ]
    },
    {
     "name": "stderr",
     "output_type": "stream",
     "text": [
      "\n",
      " 76%|███████▌  | 97/128 [00:15<00:07,  4.05it/s]\u001b[A"
     ]
    },
    {
     "name": "stdout",
     "output_type": "stream",
     "text": [
      "can't converge in 100 iterations\n"
     ]
    },
    {
     "name": "stderr",
     "output_type": "stream",
     "text": [
      "\n",
      " 77%|███████▋  | 99/128 [00:15<00:07,  3.91it/s]\u001b[A"
     ]
    },
    {
     "name": "stdout",
     "output_type": "stream",
     "text": [
      "can't converge in 100 iterations\n",
      "can't converge in 100 iterations\n"
     ]
    },
    {
     "name": "stderr",
     "output_type": "stream",
     "text": [
      "\n",
      " 80%|███████▉  | 102/128 [00:16<00:06,  3.76it/s]\u001b[A"
     ]
    },
    {
     "name": "stdout",
     "output_type": "stream",
     "text": [
      "can't converge in 100 iterations\n",
      "can't converge in 100 iterations\n"
     ]
    },
    {
     "name": "stderr",
     "output_type": "stream",
     "text": [
      "\n",
      " 80%|████████  | 103/128 [00:17<00:10,  2.34it/s]\u001b[A\n",
      " 82%|████████▏ | 105/128 [00:17<00:07,  3.05it/s]\u001b[A"
     ]
    },
    {
     "name": "stdout",
     "output_type": "stream",
     "text": [
      "can't converge in 100 iterations\n"
     ]
    },
    {
     "name": "stderr",
     "output_type": "stream",
     "text": [
      "\n",
      " 83%|████████▎ | 106/128 [00:18<00:08,  2.55it/s]\u001b[A"
     ]
    },
    {
     "name": "stdout",
     "output_type": "stream",
     "text": [
      "can't converge in 100 iterations\n"
     ]
    },
    {
     "name": "stderr",
     "output_type": "stream",
     "text": [
      "\n",
      " 84%|████████▎ | 107/128 [00:18<00:07,  2.86it/s]\u001b[A\n",
      " 84%|████████▍ | 108/128 [00:18<00:05,  3.41it/s]\u001b[A\n",
      " 85%|████████▌ | 109/128 [00:19<00:06,  2.72it/s]\u001b[A\n",
      " 86%|████████▌ | 110/128 [00:19<00:05,  3.38it/s]\u001b[A"
     ]
    },
    {
     "name": "stdout",
     "output_type": "stream",
     "text": [
      "can't converge in 100 iterations\n"
     ]
    },
    {
     "name": "stderr",
     "output_type": "stream",
     "text": [
      "\n",
      " 87%|████████▋ | 111/128 [00:19<00:04,  4.09it/s]\u001b[A"
     ]
    },
    {
     "name": "stdout",
     "output_type": "stream",
     "text": [
      "can't converge in 100 iterations\n"
     ]
    },
    {
     "name": "stderr",
     "output_type": "stream",
     "text": [
      "\n",
      " 88%|████████▊ | 112/128 [00:20<00:06,  2.42it/s]\u001b[A"
     ]
    },
    {
     "name": "stdout",
     "output_type": "stream",
     "text": [
      "can't converge in 100 iterations\n"
     ]
    },
    {
     "name": "stderr",
     "output_type": "stream",
     "text": [
      "\n",
      " 88%|████████▊ | 113/128 [00:20<00:06,  2.19it/s]\u001b[A\n",
      " 90%|████████▉ | 115/128 [00:20<00:04,  2.93it/s]\u001b[A"
     ]
    },
    {
     "name": "stdout",
     "output_type": "stream",
     "text": [
      "can't converge in 100 iterations\n"
     ]
    },
    {
     "name": "stderr",
     "output_type": "stream",
     "text": [
      "\n",
      " 91%|█████████▏| 117/128 [00:21<00:02,  3.85it/s]\u001b[A"
     ]
    },
    {
     "name": "stdout",
     "output_type": "stream",
     "text": [
      "can't converge in 100 iterations\n"
     ]
    },
    {
     "name": "stderr",
     "output_type": "stream",
     "text": [
      "\n",
      " 94%|█████████▍| 120/128 [00:22<00:02,  3.70it/s]\u001b[A\n",
      " 96%|█████████▌| 123/128 [00:22<00:01,  4.94it/s]\u001b[A"
     ]
    },
    {
     "name": "stdout",
     "output_type": "stream",
     "text": [
      "can't converge in 100 iterations\n",
      "can't converge in 100 iterations\n"
     ]
    },
    {
     "name": "stderr",
     "output_type": "stream",
     "text": [
      "\n",
      " 98%|█████████▊| 126/128 [00:23<00:00,  4.25it/s]\u001b[A\n",
      "100%|██████████| 128/128 [00:23<00:00,  5.51it/s]\u001b[A\n",
      "\n",
      "  0%|          | 0/128 [00:00<?, ?it/s]\u001b[A"
     ]
    },
    {
     "name": "stdout",
     "output_type": "stream",
     "text": [
      "can't converge in 100 iterations\n",
      "can't converge in 100 iterations\n"
     ]
    },
    {
     "name": "stderr",
     "output_type": "stream",
     "text": [
      "\n",
      "  2%|▏         | 3/128 [00:00<00:37,  3.34it/s]\u001b[A"
     ]
    },
    {
     "name": "stdout",
     "output_type": "stream",
     "text": [
      "can't converge in 100 iterations\n"
     ]
    },
    {
     "name": "stderr",
     "output_type": "stream",
     "text": [
      "\n",
      "  4%|▍         | 5/128 [00:01<00:36,  3.38it/s]\u001b[A\n",
      "  6%|▋         | 8/128 [00:01<00:27,  4.40it/s]\u001b[A"
     ]
    },
    {
     "name": "stdout",
     "output_type": "stream",
     "text": [
      "can't converge in 100 iterations\n"
     ]
    },
    {
     "name": "stderr",
     "output_type": "stream",
     "text": [
      "\n",
      "  7%|▋         | 9/128 [00:01<00:23,  5.10it/s]\u001b[A\n",
      "  9%|▊         | 11/128 [00:02<00:20,  5.66it/s]\u001b[A\n",
      " 10%|█         | 13/128 [00:02<00:19,  6.05it/s]\u001b[A\n",
      " 12%|█▏        | 15/128 [00:02<00:14,  7.65it/s]\u001b[A\n",
      " 13%|█▎        | 17/128 [00:02<00:15,  7.38it/s]\u001b[A\n",
      " 14%|█▍        | 18/128 [00:02<00:16,  6.63it/s]\u001b[A\n",
      " 16%|█▋        | 21/128 [00:03<00:12,  8.55it/s]\u001b[A\n",
      " 18%|█▊        | 23/128 [00:03<00:10, 10.21it/s]\u001b[A"
     ]
    },
    {
     "name": "stdout",
     "output_type": "stream",
     "text": [
      "can't converge in 100 iterations\n"
     ]
    },
    {
     "name": "stderr",
     "output_type": "stream",
     "text": [
      "\n",
      " 20%|█▉        | 25/128 [00:03<00:19,  5.37it/s]\u001b[A"
     ]
    },
    {
     "name": "stdout",
     "output_type": "stream",
     "text": [
      "can't converge in 100 iterations\n"
     ]
    },
    {
     "name": "stderr",
     "output_type": "stream",
     "text": [
      "\n",
      " 23%|██▎       | 29/128 [00:04<00:19,  5.02it/s]\u001b[A\n",
      " 25%|██▌       | 32/128 [00:04<00:14,  6.66it/s]\u001b[A"
     ]
    },
    {
     "name": "stdout",
     "output_type": "stream",
     "text": [
      "can't converge in 100 iterations\n"
     ]
    },
    {
     "name": "stderr",
     "output_type": "stream",
     "text": [
      "\n",
      " 27%|██▋       | 34/128 [00:05<00:17,  5.32it/s]\u001b[A\n",
      " 28%|██▊       | 36/128 [00:05<00:13,  6.73it/s]\u001b[A"
     ]
    },
    {
     "name": "stdout",
     "output_type": "stream",
     "text": [
      "can't converge in 100 iterations\n",
      "can't converge in 100 iterations\n"
     ]
    },
    {
     "name": "stderr",
     "output_type": "stream",
     "text": [
      "\n",
      " 30%|██▉       | 38/128 [00:06<00:21,  4.25it/s]\u001b[A"
     ]
    },
    {
     "name": "stdout",
     "output_type": "stream",
     "text": [
      "can't converge in 100 iterations\n",
      "can't converge in 100 iterations\n"
     ]
    },
    {
     "name": "stderr",
     "output_type": "stream",
     "text": [
      "\n",
      " 33%|███▎      | 42/128 [00:07<00:19,  4.32it/s]\u001b[A\n",
      " 34%|███▎      | 43/128 [00:07<00:18,  4.68it/s]\u001b[A"
     ]
    },
    {
     "name": "stdout",
     "output_type": "stream",
     "text": [
      "can't converge in 100 iterations\n"
     ]
    },
    {
     "name": "stderr",
     "output_type": "stream",
     "text": [
      "\n",
      " 35%|███▌      | 45/128 [00:07<00:15,  5.44it/s]\u001b[A\n",
      " 36%|███▌      | 46/128 [00:07<00:14,  5.75it/s]\u001b[A\n",
      " 38%|███▊      | 48/128 [00:08<00:11,  7.26it/s]\u001b[A\n",
      " 39%|███▉      | 50/128 [00:08<00:14,  5.32it/s]\u001b[A\n",
      " 41%|████      | 52/128 [00:08<00:11,  6.73it/s]\u001b[A"
     ]
    },
    {
     "name": "stdout",
     "output_type": "stream",
     "text": [
      "can't converge in 100 iterations\n",
      "can't converge in 100 iterations\n"
     ]
    },
    {
     "name": "stderr",
     "output_type": "stream",
     "text": [
      "\n",
      " 42%|████▏     | 54/128 [00:09<00:19,  3.74it/s]\u001b[A"
     ]
    },
    {
     "name": "stdout",
     "output_type": "stream",
     "text": [
      "can't converge in 100 iterations\n"
     ]
    },
    {
     "name": "stderr",
     "output_type": "stream",
     "text": [
      "\n",
      " 43%|████▎     | 55/128 [00:10<00:25,  2.90it/s]\u001b[A"
     ]
    },
    {
     "name": "stdout",
     "output_type": "stream",
     "text": [
      "can't converge in 100 iterations\n"
     ]
    },
    {
     "name": "stderr",
     "output_type": "stream",
     "text": [
      "\n",
      " 44%|████▍     | 56/128 [00:10<00:22,  3.13it/s]\u001b[A\n",
      " 45%|████▌     | 58/128 [00:10<00:16,  4.15it/s]\u001b[A\n",
      " 48%|████▊     | 61/128 [00:10<00:12,  5.55it/s]\u001b[A"
     ]
    },
    {
     "name": "stdout",
     "output_type": "stream",
     "text": [
      "can't converge in 100 iterations\n"
     ]
    },
    {
     "name": "stderr",
     "output_type": "stream",
     "text": [
      "\n",
      " 49%|████▉     | 63/128 [00:11<00:17,  3.82it/s]\u001b[A"
     ]
    },
    {
     "name": "stdout",
     "output_type": "stream",
     "text": [
      "can't converge in 100 iterations\n"
     ]
    },
    {
     "name": "stderr",
     "output_type": "stream",
     "text": [
      "\n",
      " 51%|█████     | 65/128 [00:12<00:18,  3.44it/s]\u001b[A"
     ]
    },
    {
     "name": "stdout",
     "output_type": "stream",
     "text": [
      "can't converge in 100 iterations\n"
     ]
    },
    {
     "name": "stderr",
     "output_type": "stream",
     "text": [
      "\n",
      " 52%|█████▏    | 67/128 [00:12<00:14,  4.10it/s]\u001b[A\n",
      " 53%|█████▎    | 68/128 [00:12<00:14,  4.16it/s]\u001b[A\n",
      " 55%|█████▍    | 70/128 [00:13<00:11,  5.25it/s]\u001b[A\n",
      " 55%|█████▌    | 71/128 [00:13<00:18,  3.03it/s]\u001b[A"
     ]
    },
    {
     "name": "stdout",
     "output_type": "stream",
     "text": [
      "can't converge in 100 iterations\n"
     ]
    },
    {
     "name": "stderr",
     "output_type": "stream",
     "text": [
      "\n",
      " 58%|█████▊    | 74/128 [00:14<00:13,  3.97it/s]\u001b[A\n",
      " 61%|██████    | 78/128 [00:14<00:09,  5.29it/s]\u001b[A"
     ]
    },
    {
     "name": "stdout",
     "output_type": "stream",
     "text": [
      "can't converge in 100 iterations\n"
     ]
    },
    {
     "name": "stderr",
     "output_type": "stream",
     "text": [
      "\n",
      " 62%|██████▎   | 80/128 [00:15<00:13,  3.64it/s]\u001b[A"
     ]
    },
    {
     "name": "stdout",
     "output_type": "stream",
     "text": [
      "can't converge in 100 iterations\n",
      "can't converge in 100 iterations\n"
     ]
    },
    {
     "name": "stderr",
     "output_type": "stream",
     "text": [
      "\n",
      " 63%|██████▎   | 81/128 [00:15<00:20,  2.27it/s]\u001b[A"
     ]
    },
    {
     "name": "stdout",
     "output_type": "stream",
     "text": [
      "can't converge in 100 iterations\n"
     ]
    },
    {
     "name": "stderr",
     "output_type": "stream",
     "text": [
      "\n",
      " 65%|██████▍   | 83/128 [00:16<00:17,  2.54it/s]\u001b[A\n",
      " 66%|██████▋   | 85/128 [00:16<00:12,  3.39it/s]\u001b[A"
     ]
    },
    {
     "name": "stdout",
     "output_type": "stream",
     "text": [
      "can't converge in 100 iterations\n"
     ]
    },
    {
     "name": "stderr",
     "output_type": "stream",
     "text": [
      "\n",
      " 68%|██████▊   | 87/128 [00:16<00:10,  4.03it/s]\u001b[A\n",
      " 69%|██████▉   | 88/128 [00:17<00:11,  3.57it/s]\u001b[A\n",
      " 70%|███████   | 90/128 [00:17<00:08,  4.51it/s]\u001b[A"
     ]
    },
    {
     "name": "stdout",
     "output_type": "stream",
     "text": [
      "can't converge in 100 iterations\n"
     ]
    },
    {
     "name": "stderr",
     "output_type": "stream",
     "text": [
      "\n",
      " 72%|███████▏  | 92/128 [00:18<00:11,  3.25it/s]\u001b[A"
     ]
    },
    {
     "name": "stdout",
     "output_type": "stream",
     "text": [
      "can't converge in 100 iterations\n"
     ]
    },
    {
     "name": "stderr",
     "output_type": "stream",
     "text": [
      "\n",
      " 73%|███████▎  | 93/128 [00:18<00:09,  3.58it/s]\u001b[A"
     ]
    },
    {
     "name": "stdout",
     "output_type": "stream",
     "text": [
      "can't converge in 100 iterations\n"
     ]
    },
    {
     "name": "stderr",
     "output_type": "stream",
     "text": [
      "\n",
      " 73%|███████▎  | 94/128 [00:19<00:16,  2.02it/s]\u001b[A"
     ]
    },
    {
     "name": "stdout",
     "output_type": "stream",
     "text": [
      "can't converge in 100 iterations\n",
      "can't converge in 100 iterations\n"
     ]
    },
    {
     "name": "stderr",
     "output_type": "stream",
     "text": [
      "\n",
      " 75%|███████▌  | 96/128 [00:20<00:16,  1.97it/s]\u001b[A"
     ]
    },
    {
     "name": "stdout",
     "output_type": "stream",
     "text": [
      "can't converge in 100 iterations\n",
      "can't converge in 100 iterations\n"
     ]
    },
    {
     "name": "stderr",
     "output_type": "stream",
     "text": [
      "\n",
      " 77%|███████▋  | 98/128 [00:21<00:15,  1.94it/s]\u001b[A"
     ]
    },
    {
     "name": "stdout",
     "output_type": "stream",
     "text": [
      "can't converge in 100 iterations\n",
      "can't converge in 100 iterations\n"
     ]
    },
    {
     "name": "stderr",
     "output_type": "stream",
     "text": [
      "\n",
      " 78%|███████▊  | 100/128 [00:22<00:13,  2.03it/s]\u001b[A"
     ]
    },
    {
     "name": "stdout",
     "output_type": "stream",
     "text": [
      "can't converge in 100 iterations\n"
     ]
    },
    {
     "name": "stderr",
     "output_type": "stream",
     "text": [
      "\n",
      " 79%|███████▉  | 101/128 [00:23<00:13,  1.96it/s]\u001b[A"
     ]
    },
    {
     "name": "stdout",
     "output_type": "stream",
     "text": [
      "can't converge in 100 iterations\n"
     ]
    },
    {
     "name": "stderr",
     "output_type": "stream",
     "text": [
      "\n",
      " 80%|████████  | 103/128 [00:23<00:11,  2.25it/s]\u001b[A"
     ]
    },
    {
     "name": "stdout",
     "output_type": "stream",
     "text": [
      "can't converge in 100 iterations\n",
      "can't converge in 100 iterations\n"
     ]
    },
    {
     "name": "stderr",
     "output_type": "stream",
     "text": [
      "\n",
      " 82%|████████▏ | 105/128 [00:24<00:10,  2.27it/s]\u001b[A"
     ]
    },
    {
     "name": "stdout",
     "output_type": "stream",
     "text": [
      "can't converge in 100 iterations\n"
     ]
    },
    {
     "name": "stderr",
     "output_type": "stream",
     "text": [
      "\n",
      " 83%|████████▎ | 106/128 [00:25<00:10,  2.12it/s]\u001b[A"
     ]
    },
    {
     "name": "stdout",
     "output_type": "stream",
     "text": [
      "can't converge in 100 iterations\n"
     ]
    },
    {
     "name": "stderr",
     "output_type": "stream",
     "text": [
      "\n",
      " 84%|████████▎ | 107/128 [00:25<00:10,  1.97it/s]\u001b[A\n",
      " 85%|████████▌ | 109/128 [00:25<00:07,  2.68it/s]\u001b[A"
     ]
    },
    {
     "name": "stdout",
     "output_type": "stream",
     "text": [
      "can't converge in 100 iterations\n"
     ]
    },
    {
     "name": "stderr",
     "output_type": "stream",
     "text": [
      "\n",
      " 87%|████████▋ | 111/128 [00:26<00:05,  3.18it/s]\u001b[A\n",
      " 88%|████████▊ | 112/128 [00:26<00:06,  2.66it/s]\u001b[A"
     ]
    },
    {
     "name": "stdout",
     "output_type": "stream",
     "text": [
      "can't converge in 100 iterations\n"
     ]
    },
    {
     "name": "stderr",
     "output_type": "stream",
     "text": [
      "\n",
      " 89%|████████▉ | 114/128 [00:27<00:04,  3.25it/s]\u001b[A\n",
      " 91%|█████████ | 116/128 [00:27<00:03,  3.29it/s]\u001b[A"
     ]
    },
    {
     "name": "stdout",
     "output_type": "stream",
     "text": [
      "can't converge in 100 iterations\n",
      "can't converge in 100 iterations\n"
     ]
    },
    {
     "name": "stderr",
     "output_type": "stream",
     "text": [
      "\n",
      " 92%|█████████▏| 118/128 [00:28<00:03,  2.89it/s]\u001b[A\n",
      " 94%|█████████▍| 120/128 [00:28<00:02,  3.74it/s]\u001b[A"
     ]
    },
    {
     "name": "stdout",
     "output_type": "stream",
     "text": [
      "can't converge in 100 iterations\n"
     ]
    },
    {
     "name": "stderr",
     "output_type": "stream",
     "text": [
      "\n",
      " 95%|█████████▍| 121/128 [00:28<00:01,  4.02it/s]\u001b[A\n",
      " 97%|█████████▋| 124/128 [00:29<00:00,  5.26it/s]\u001b[A\n",
      " 98%|█████████▊| 126/128 [00:29<00:00,  5.85it/s]\u001b[A\n",
      "100%|██████████| 128/128 [00:29<00:00,  4.31it/s]\u001b[A\n",
      "\n",
      "  0%|          | 0/60 [00:00<?, ?it/s]\u001b[A\n",
      "  5%|▌         | 3/60 [00:00<00:02, 22.76it/s]\u001b[A\n",
      "  8%|▊         | 5/60 [00:00<00:02, 18.74it/s]\u001b[A"
     ]
    },
    {
     "name": "stdout",
     "output_type": "stream",
     "text": [
      "can't converge in 100 iterations\n"
     ]
    },
    {
     "name": "stderr",
     "output_type": "stream",
     "text": [
      "\n",
      " 12%|█▏        | 7/60 [00:01<00:08,  6.07it/s]\u001b[A\n",
      " 13%|█▎        | 8/60 [00:01<00:08,  6.02it/s]\u001b[A"
     ]
    },
    {
     "name": "stdout",
     "output_type": "stream",
     "text": [
      "can't converge in 100 iterations\n"
     ]
    },
    {
     "name": "stderr",
     "output_type": "stream",
     "text": [
      "\n",
      " 17%|█▋        | 10/60 [00:01<00:06,  7.36it/s]\u001b[A\n",
      " 18%|█▊        | 11/60 [00:01<00:08,  5.59it/s]\u001b[A\n",
      " 20%|██        | 12/60 [00:02<00:14,  3.43it/s]\u001b[A"
     ]
    },
    {
     "name": "stdout",
     "output_type": "stream",
     "text": [
      "can't converge in 100 iterations\n"
     ]
    },
    {
     "name": "stderr",
     "output_type": "stream",
     "text": [
      "\n",
      " 23%|██▎       | 14/60 [00:02<00:10,  4.23it/s]\u001b[A\n",
      " 27%|██▋       | 16/60 [00:02<00:08,  5.23it/s]\u001b[A\n",
      " 33%|███▎      | 20/60 [00:02<00:05,  6.73it/s]\u001b[A\n",
      " 37%|███▋      | 22/60 [00:03<00:04,  7.90it/s]\u001b[A\n",
      " 40%|████      | 24/60 [00:03<00:04,  7.31it/s]\u001b[A\n",
      " 43%|████▎     | 26/60 [00:03<00:03,  8.97it/s]\u001b[A"
     ]
    },
    {
     "name": "stdout",
     "output_type": "stream",
     "text": [
      "can't converge in 100 iterations\n"
     ]
    },
    {
     "name": "stderr",
     "output_type": "stream",
     "text": [
      "\n",
      " 47%|████▋     | 28/60 [00:04<00:06,  4.94it/s]\u001b[A\n",
      " 50%|█████     | 30/60 [00:04<00:04,  6.03it/s]\u001b[A"
     ]
    },
    {
     "name": "stdout",
     "output_type": "stream",
     "text": [
      "can't converge in 100 iterations\n"
     ]
    },
    {
     "name": "stderr",
     "output_type": "stream",
     "text": [
      "\n",
      " 53%|█████▎    | 32/60 [00:04<00:04,  6.70it/s]\u001b[A\n",
      " 58%|█████▊    | 35/60 [00:04<00:03,  7.91it/s]\u001b[A\n",
      " 62%|██████▏   | 37/60 [00:05<00:02,  8.97it/s]\u001b[A"
     ]
    },
    {
     "name": "stdout",
     "output_type": "stream",
     "text": [
      "can't converge in 100 iterations\n"
     ]
    },
    {
     "name": "stderr",
     "output_type": "stream",
     "text": [
      "\n",
      " 65%|██████▌   | 39/60 [00:06<00:06,  3.40it/s]\u001b[A"
     ]
    },
    {
     "name": "stdout",
     "output_type": "stream",
     "text": [
      "can't converge in 100 iterations\n",
      "can't converge in 100 iterations\n"
     ]
    },
    {
     "name": "stderr",
     "output_type": "stream",
     "text": [
      "\n",
      " 68%|██████▊   | 41/60 [00:07<00:06,  2.85it/s]\u001b[A\n",
      " 72%|███████▏  | 43/60 [00:07<00:04,  3.75it/s]\u001b[A"
     ]
    },
    {
     "name": "stdout",
     "output_type": "stream",
     "text": [
      "can't converge in 100 iterations\n"
     ]
    },
    {
     "name": "stderr",
     "output_type": "stream",
     "text": [
      "\n",
      " 73%|███████▎  | 44/60 [00:07<00:03,  4.48it/s]\u001b[A\n",
      " 77%|███████▋  | 46/60 [00:08<00:03,  3.85it/s]\u001b[A"
     ]
    },
    {
     "name": "stdout",
     "output_type": "stream",
     "text": [
      "can't converge in 100 iterations\n"
     ]
    },
    {
     "name": "stderr",
     "output_type": "stream",
     "text": [
      "\n",
      " 80%|████████  | 48/60 [00:08<00:03,  3.93it/s]\u001b[A"
     ]
    },
    {
     "name": "stdout",
     "output_type": "stream",
     "text": [
      "can't converge in 100 iterations\n"
     ]
    },
    {
     "name": "stderr",
     "output_type": "stream",
     "text": [
      "\n",
      " 83%|████████▎ | 50/60 [00:09<00:02,  3.88it/s]\u001b[A"
     ]
    },
    {
     "name": "stdout",
     "output_type": "stream",
     "text": [
      "can't converge in 100 iterations\n"
     ]
    },
    {
     "name": "stderr",
     "output_type": "stream",
     "text": [
      "\n",
      " 87%|████████▋ | 52/60 [00:09<00:01,  4.06it/s]\u001b[A"
     ]
    },
    {
     "name": "stdout",
     "output_type": "stream",
     "text": [
      "can't converge in 100 iterations\n"
     ]
    },
    {
     "name": "stderr",
     "output_type": "stream",
     "text": [
      "\n",
      " 88%|████████▊ | 53/60 [00:10<00:02,  2.60it/s]\u001b[A"
     ]
    },
    {
     "name": "stdout",
     "output_type": "stream",
     "text": [
      "can't converge in 100 iterations\n"
     ]
    },
    {
     "name": "stderr",
     "output_type": "stream",
     "text": [
      "\n",
      " 93%|█████████▎| 56/60 [00:11<00:01,  3.13it/s]\u001b[A"
     ]
    },
    {
     "name": "stdout",
     "output_type": "stream",
     "text": [
      "can't converge in 100 iterations\n"
     ]
    },
    {
     "name": "stderr",
     "output_type": "stream",
     "text": [
      "\n",
      " 97%|█████████▋| 58/60 [00:11<00:00,  3.84it/s]\u001b[A\n",
      "100%|██████████| 60/60 [00:11<00:00,  5.09it/s]\u001b[A"
     ]
    },
    {
     "name": "stdout",
     "output_type": "stream",
     "text": [
      "can't converge in 100 iterations\n"
     ]
    },
    {
     "name": "stderr",
     "output_type": "stream",
     "text": [
      "\n"
     ]
    }
   ],
   "source": [
    "pos_ri,pos_ri_norms = computeRi(hybrid_model.classifier,attributes,positives,attribute_len,0)"
   ]
  },
  {
   "cell_type": "code",
   "execution_count": null,
   "metadata": {},
   "outputs": [
    {
     "name": "stderr",
     "output_type": "stream",
     "text": [
      "\n",
      "  0%|          | 0/128 [00:00<?, ?it/s]\u001b[A\n",
      "  1%|          | 1/128 [00:01<02:25,  1.15s/it]\u001b[A\n",
      "  2%|▏         | 2/128 [00:02<02:27,  1.17s/it]\u001b[A\n",
      "  2%|▏         | 3/128 [00:03<02:30,  1.20s/it]\u001b[A\n",
      "  3%|▎         | 4/128 [00:04<02:25,  1.18s/it]\u001b[A\n",
      "  4%|▍         | 5/128 [00:05<02:14,  1.10s/it]\u001b[A\n",
      "  5%|▍         | 6/128 [00:06<02:07,  1.05s/it]\u001b[A\n",
      "  5%|▌         | 7/128 [00:07<02:01,  1.00s/it]\u001b[A\n",
      "  6%|▋         | 8/128 [00:08<02:02,  1.02s/it]\u001b[A\n",
      "  7%|▋         | 9/128 [00:09<02:02,  1.03s/it]\u001b[A\n",
      "  8%|▊         | 10/128 [00:10<02:02,  1.04s/it]\u001b[A\n",
      "  9%|▊         | 11/128 [00:11<02:08,  1.10s/it]\u001b[A\n",
      "  9%|▉         | 12/128 [00:13<02:08,  1.10s/it]\u001b[A\n",
      " 10%|█         | 13/128 [00:13<01:59,  1.04s/it]\u001b[A\n",
      " 11%|█         | 14/128 [00:15<02:00,  1.06s/it]\u001b[A\n",
      " 12%|█▏        | 15/128 [00:15<01:56,  1.03s/it]\u001b[A\n",
      " 12%|█▎        | 16/128 [00:17<02:02,  1.09s/it]\u001b[A\n",
      " 13%|█▎        | 17/128 [00:18<02:02,  1.11s/it]\u001b[A\n",
      " 14%|█▍        | 18/128 [00:19<01:53,  1.03s/it]\u001b[A\n",
      " 15%|█▍        | 19/128 [00:20<01:47,  1.01it/s]\u001b[A\n",
      " 16%|█▌        | 20/128 [00:20<01:41,  1.07it/s]\u001b[A\n",
      " 16%|█▋        | 21/128 [00:21<01:44,  1.03it/s]\u001b[A\n",
      " 17%|█▋        | 22/128 [00:23<02:04,  1.17s/it]\u001b[A\n",
      " 18%|█▊        | 23/128 [00:24<01:56,  1.11s/it]\u001b[A\n",
      " 19%|█▉        | 24/128 [00:25<01:57,  1.13s/it]\u001b[A\n",
      " 20%|█▉        | 25/128 [00:26<01:54,  1.12s/it]\u001b[A\n",
      " 20%|██        | 26/128 [00:27<01:48,  1.06s/it]\u001b[A\n",
      " 21%|██        | 27/128 [00:29<02:14,  1.34s/it]\u001b[A\n",
      " 22%|██▏       | 28/128 [00:31<02:16,  1.37s/it]\u001b[A\n",
      " 23%|██▎       | 29/128 [00:32<02:03,  1.25s/it]\u001b[A\n",
      " 23%|██▎       | 30/128 [00:32<01:49,  1.11s/it]\u001b[A\n",
      " 24%|██▍       | 31/128 [00:34<01:46,  1.10s/it]\u001b[A\n",
      " 25%|██▌       | 32/128 [00:35<01:41,  1.06s/it]\u001b[A\n",
      " 26%|██▌       | 33/128 [00:35<01:33,  1.01it/s]\u001b[A\n",
      " 27%|██▋       | 34/128 [00:37<01:46,  1.13s/it]\u001b[A\n",
      " 27%|██▋       | 35/128 [00:38<01:48,  1.16s/it]\u001b[A\n",
      " 28%|██▊       | 36/128 [00:39<01:42,  1.12s/it]\u001b[A\n",
      " 29%|██▉       | 37/128 [00:41<01:54,  1.26s/it]\u001b[A\n",
      " 30%|██▉       | 38/128 [00:42<01:50,  1.23s/it]\u001b[A\n",
      " 30%|███       | 39/128 [00:43<01:46,  1.19s/it]\u001b[A\n",
      " 31%|███▏      | 40/128 [00:44<01:46,  1.20s/it]\u001b[A\n",
      " 32%|███▏      | 41/128 [00:45<01:41,  1.16s/it]\u001b[A\n",
      " 33%|███▎      | 42/128 [00:46<01:33,  1.09s/it]\u001b[A\n",
      " 34%|███▎      | 43/128 [00:48<01:44,  1.23s/it]\u001b[A\n",
      " 34%|███▍      | 44/128 [00:49<01:38,  1.17s/it]\u001b[A\n",
      " 35%|███▌      | 45/128 [00:50<01:34,  1.14s/it]\u001b[A\n",
      " 36%|███▌      | 46/128 [00:51<01:32,  1.12s/it]\u001b[A\n",
      " 37%|███▋      | 47/128 [00:52<01:23,  1.03s/it]\u001b[A\n",
      " 38%|███▊      | 48/128 [00:53<01:20,  1.01s/it]\u001b[A\n",
      " 38%|███▊      | 49/128 [00:53<01:14,  1.06it/s]\u001b[A\n",
      " 39%|███▉      | 50/128 [00:54<01:13,  1.06it/s]\u001b[A\n",
      " 40%|███▉      | 51/128 [00:55<01:11,  1.08it/s]\u001b[A\n",
      " 41%|████      | 52/128 [00:56<01:09,  1.10it/s]\u001b[A\n",
      " 41%|████▏     | 53/128 [00:57<01:12,  1.04it/s]\u001b[A\n",
      " 42%|████▏     | 54/128 [00:58<01:09,  1.06it/s]\u001b[A\n",
      " 43%|████▎     | 55/128 [00:59<01:11,  1.02it/s]\u001b[A\n",
      " 44%|████▍     | 56/128 [01:00<01:13,  1.02s/it]\u001b[A\n",
      " 45%|████▍     | 57/128 [01:01<01:12,  1.02s/it]\u001b[A\n",
      " 45%|████▌     | 58/128 [01:02<01:07,  1.03it/s]\u001b[A\n",
      " 46%|████▌     | 59/128 [01:03<01:08,  1.01it/s]\u001b[A\n",
      " 47%|████▋     | 60/128 [01:04<01:06,  1.03it/s]\u001b[A\n",
      " 48%|████▊     | 61/128 [01:05<01:03,  1.06it/s]\u001b[A\n",
      " 48%|████▊     | 62/128 [01:06<01:04,  1.03it/s]\u001b[A\n",
      " 49%|████▉     | 63/128 [01:07<01:03,  1.02it/s]\u001b[A\n",
      " 50%|█████     | 64/128 [01:08<00:59,  1.07it/s]\u001b[A\n",
      " 51%|█████     | 65/128 [01:09<00:59,  1.06it/s]\u001b[A\n",
      " 52%|█████▏    | 66/128 [01:10<01:01,  1.01it/s]\u001b[A\n",
      " 52%|█████▏    | 67/128 [01:11<00:59,  1.03it/s]\u001b[A\n",
      " 53%|█████▎    | 68/128 [01:12<00:55,  1.07it/s]\u001b[A\n",
      " 54%|█████▍    | 69/128 [01:13<00:58,  1.01it/s]\u001b[A\n",
      " 55%|█████▍    | 70/128 [01:14<00:55,  1.04it/s]\u001b[A\n",
      " 55%|█████▌    | 71/128 [01:15<00:53,  1.07it/s]\u001b[A\n",
      " 56%|█████▋    | 72/128 [01:16<00:52,  1.08it/s]\u001b[A\n",
      " 57%|█████▋    | 73/128 [01:17<00:52,  1.05it/s]\u001b[A\n",
      " 58%|█████▊    | 74/128 [01:18<00:52,  1.02it/s]\u001b[A\n",
      " 59%|█████▊    | 75/128 [01:18<00:51,  1.04it/s]\u001b[A\n",
      " 59%|█████▉    | 76/128 [01:20<00:53,  1.03s/it]\u001b[A\n",
      " 60%|██████    | 77/128 [01:21<00:50,  1.01it/s]\u001b[A\n",
      " 61%|██████    | 78/128 [01:21<00:47,  1.05it/s]\u001b[A\n",
      " 62%|██████▏   | 79/128 [01:23<00:50,  1.03s/it]\u001b[A\n",
      " 62%|██████▎   | 80/128 [01:25<01:05,  1.37s/it]\u001b[A\n",
      " 63%|██████▎   | 81/128 [01:26<00:58,  1.25s/it]\u001b[A\n",
      " 64%|██████▍   | 82/128 [01:27<00:58,  1.27s/it]\u001b[A\n",
      " 65%|██████▍   | 83/128 [01:28<00:56,  1.26s/it]\u001b[A\n",
      " 66%|██████▌   | 84/128 [01:30<00:55,  1.27s/it]\u001b[A\n",
      " 66%|██████▋   | 85/128 [01:32<01:04,  1.50s/it]\u001b[A\n",
      " 67%|██████▋   | 86/128 [01:33<01:01,  1.45s/it]\u001b[A\n",
      " 68%|██████▊   | 87/128 [01:34<00:56,  1.39s/it]\u001b[A\n",
      " 69%|██████▉   | 88/128 [01:35<00:51,  1.30s/it]\u001b[A\n",
      " 70%|██████▉   | 89/128 [01:36<00:46,  1.19s/it]\u001b[A\n",
      " 70%|███████   | 90/128 [01:37<00:44,  1.17s/it]\u001b[A\n",
      " 71%|███████   | 91/128 [01:38<00:40,  1.09s/it]\u001b[A\n",
      " 72%|███████▏  | 92/128 [01:39<00:37,  1.05s/it]\u001b[A\n",
      " 73%|███████▎  | 93/128 [01:40<00:35,  1.03s/it]\u001b[A\n",
      " 73%|███████▎  | 94/128 [01:41<00:36,  1.08s/it]\u001b[A\n",
      " 74%|███████▍  | 95/128 [01:42<00:32,  1.00it/s]\u001b[A\n",
      " 75%|███████▌  | 96/128 [01:43<00:30,  1.07it/s]\u001b[A\n",
      " 76%|███████▌  | 97/128 [01:44<00:29,  1.04it/s]\u001b[A\n",
      " 77%|███████▋  | 98/128 [01:45<00:30,  1.00s/it]\u001b[A\n",
      " 77%|███████▋  | 99/128 [01:46<00:29,  1.02s/it]\u001b[A\n",
      " 78%|███████▊  | 100/128 [01:47<00:27,  1.01it/s]\u001b[A\n",
      " 79%|███████▉  | 101/128 [01:48<00:26,  1.01it/s]\u001b[A\n",
      " 80%|███████▉  | 102/128 [01:49<00:25,  1.02it/s]\u001b[A\n",
      " 80%|████████  | 103/128 [01:50<00:26,  1.06s/it]\u001b[A\n",
      " 81%|████████▏ | 104/128 [01:51<00:24,  1.02s/it]\u001b[A\n",
      " 82%|████████▏ | 105/128 [01:52<00:23,  1.00s/it]\u001b[A\n",
      " 83%|████████▎ | 106/128 [01:53<00:21,  1.04it/s]\u001b[A\n",
      " 84%|████████▎ | 107/128 [01:54<00:20,  1.03it/s]\u001b[A\n",
      " 84%|████████▍ | 108/128 [01:55<00:19,  1.05it/s]\u001b[A\n",
      " 85%|████████▌ | 109/128 [01:56<00:18,  1.02it/s]\u001b[A\n",
      " 86%|████████▌ | 110/128 [01:57<00:17,  1.01it/s]\u001b[A\n",
      " 87%|████████▋ | 111/128 [01:58<00:16,  1.03it/s]\u001b[A\n",
      " 88%|████████▊ | 112/128 [01:59<00:15,  1.03it/s]\u001b[A\n",
      " 88%|████████▊ | 113/128 [02:00<00:15,  1.01s/it]\u001b[A\n",
      " 89%|████████▉ | 114/128 [02:01<00:14,  1.04s/it]\u001b[A\n",
      " 90%|████████▉ | 115/128 [02:02<00:13,  1.06s/it]\u001b[A\n",
      " 91%|█████████ | 116/128 [02:03<00:11,  1.00it/s]\u001b[A\n",
      " 91%|█████████▏| 117/128 [02:04<00:11,  1.02s/it]\u001b[A\n",
      " 92%|█████████▏| 118/128 [02:05<00:10,  1.03s/it]\u001b[A\n",
      " 93%|█████████▎| 119/128 [02:06<00:08,  1.04it/s]\u001b[A\n",
      " 94%|█████████▍| 120/128 [02:07<00:07,  1.04it/s]\u001b[A\n",
      " 95%|█████████▍| 121/128 [02:08<00:06,  1.05it/s]\u001b[A\n",
      " 95%|█████████▌| 122/128 [02:09<00:06,  1.00s/it]\u001b[A\n",
      " 96%|█████████▌| 123/128 [02:10<00:05,  1.03s/it]\u001b[A\n",
      " 97%|█████████▋| 124/128 [02:11<00:04,  1.08s/it]\u001b[A\n",
      " 98%|█████████▊| 125/128 [02:12<00:03,  1.09s/it]\u001b[A\n",
      " 98%|█████████▊| 126/128 [02:13<00:02,  1.02s/it]\u001b[A\n",
      " 99%|█████████▉| 127/128 [02:14<00:01,  1.02s/it]\u001b[A\n",
      "100%|██████████| 128/128 [02:15<00:00,  1.06s/it]\u001b[A\n",
      "\n",
      "  0%|          | 0/128 [00:00<?, ?it/s]\u001b[A\n",
      "  1%|          | 1/128 [00:00<01:55,  1.10it/s]\u001b[A\n",
      "  2%|▏         | 2/128 [00:01<01:59,  1.05it/s]\u001b[A\n",
      "  2%|▏         | 3/128 [00:02<02:00,  1.04it/s]\u001b[A\n",
      "  3%|▎         | 4/128 [00:03<02:01,  1.02it/s]\u001b[A\n",
      "  4%|▍         | 5/128 [00:05<02:12,  1.08s/it]\u001b[A\n",
      "  5%|▍         | 6/128 [00:06<02:23,  1.18s/it]\u001b[A\n",
      "  5%|▌         | 7/128 [00:07<02:16,  1.13s/it]\u001b[A\n",
      "  6%|▋         | 8/128 [00:09<02:23,  1.19s/it]\u001b[A\n",
      "  7%|▋         | 9/128 [00:10<02:27,  1.24s/it]\u001b[A\n",
      "  8%|▊         | 10/128 [00:11<02:34,  1.31s/it]\u001b[A\n",
      "  9%|▊         | 11/128 [00:13<02:35,  1.33s/it]\u001b[A\n",
      "  9%|▉         | 12/128 [00:14<02:31,  1.30s/it]\u001b[A\n",
      " 10%|█         | 13/128 [00:15<02:27,  1.28s/it]\u001b[A\n",
      " 11%|█         | 14/128 [00:16<02:18,  1.21s/it]\u001b[A\n",
      " 12%|█▏        | 15/128 [00:17<02:17,  1.21s/it]\u001b[A\n",
      " 12%|█▎        | 16/128 [00:19<02:15,  1.21s/it]\u001b[A\n",
      " 13%|█▎        | 17/128 [00:20<02:15,  1.22s/it]\u001b[A\n",
      " 14%|█▍        | 18/128 [00:21<02:15,  1.23s/it]\u001b[A\n",
      " 15%|█▍        | 19/128 [00:23<02:19,  1.28s/it]\u001b[A\n",
      " 16%|█▌        | 20/128 [00:24<02:21,  1.31s/it]\u001b[A\n",
      " 16%|█▋        | 21/128 [00:25<02:24,  1.35s/it]\u001b[A\n",
      " 17%|█▋        | 22/128 [00:27<02:24,  1.36s/it]\u001b[A\n",
      " 18%|█▊        | 23/128 [00:28<02:13,  1.27s/it]\u001b[A\n",
      " 19%|█▉        | 24/128 [00:29<02:07,  1.22s/it]\u001b[A\n",
      " 20%|█▉        | 25/128 [00:30<02:02,  1.19s/it]\u001b[A\n",
      " 20%|██        | 26/128 [00:31<02:07,  1.25s/it]\u001b[A\n",
      " 21%|██        | 27/128 [00:32<01:58,  1.17s/it]\u001b[A\n"
     ]
    },
    {
     "name": "stderr",
     "output_type": "stream",
     "text": [
      " 22%|██▏       | 28/128 [00:34<01:56,  1.16s/it]\u001b[A\n",
      " 23%|██▎       | 29/128 [00:35<01:58,  1.20s/it]\u001b[A\n",
      " 23%|██▎       | 30/128 [00:36<01:56,  1.19s/it]\u001b[A\n",
      " 24%|██▍       | 31/128 [00:37<01:53,  1.17s/it]\u001b[A\n",
      " 25%|██▌       | 32/128 [00:38<01:51,  1.16s/it]\u001b[A\n",
      " 26%|██▌       | 33/128 [00:39<01:49,  1.15s/it]\u001b[A\n",
      " 27%|██▋       | 34/128 [00:41<01:52,  1.20s/it]\u001b[A\n",
      " 27%|██▋       | 35/128 [00:42<01:50,  1.19s/it]\u001b[A\n",
      " 28%|██▊       | 36/128 [00:43<01:47,  1.17s/it]\u001b[A\n",
      " 29%|██▉       | 37/128 [00:45<01:57,  1.29s/it]\u001b[A\n",
      " 30%|██▉       | 38/128 [00:46<01:50,  1.23s/it]\u001b[A\n",
      " 30%|███       | 39/128 [00:47<01:54,  1.28s/it]\u001b[A\n",
      " 31%|███▏      | 40/128 [00:48<01:45,  1.20s/it]\u001b[A\n",
      " 32%|███▏      | 41/128 [00:49<01:43,  1.19s/it]\u001b[A\n",
      " 33%|███▎      | 42/128 [00:50<01:37,  1.14s/it]\u001b[A\n",
      " 34%|███▎      | 43/128 [00:52<01:38,  1.16s/it]\u001b[A\n",
      " 34%|███▍      | 44/128 [00:53<01:44,  1.25s/it]\u001b[A\n",
      " 35%|███▌      | 45/128 [00:54<01:40,  1.21s/it]\u001b[A\n",
      " 36%|███▌      | 46/128 [00:55<01:38,  1.20s/it]\u001b[A\n",
      " 37%|███▋      | 47/128 [00:56<01:32,  1.14s/it]\u001b[A\n",
      " 38%|███▊      | 48/128 [00:57<01:23,  1.04s/it]\u001b[A\n",
      " 38%|███▊      | 49/128 [00:58<01:24,  1.07s/it]\u001b[A\n",
      " 39%|███▉      | 50/128 [00:59<01:16,  1.02it/s]\u001b[A\n",
      " 40%|███▉      | 51/128 [01:00<01:13,  1.05it/s]\u001b[A\n",
      " 41%|████      | 52/128 [01:01<01:11,  1.07it/s]\u001b[A\n",
      " 41%|████▏     | 53/128 [01:02<01:10,  1.07it/s]\u001b[A\n",
      " 42%|████▏     | 54/128 [01:03<01:07,  1.10it/s]\u001b[A\n",
      " 43%|████▎     | 55/128 [01:04<01:08,  1.06it/s]\u001b[A\n",
      " 44%|████▍     | 56/128 [01:05<01:09,  1.04it/s]\u001b[A\n",
      " 45%|████▍     | 57/128 [01:05<01:06,  1.07it/s]\u001b[A\n",
      " 45%|████▌     | 58/128 [01:06<01:03,  1.10it/s]\u001b[A\n",
      " 46%|████▌     | 59/128 [01:08<01:12,  1.05s/it]\u001b[A\n",
      " 47%|████▋     | 60/128 [01:09<01:09,  1.03s/it]\u001b[A\n",
      " 48%|████▊     | 61/128 [01:10<01:06,  1.01it/s]\u001b[A\n",
      " 48%|████▊     | 62/128 [01:11<01:04,  1.02it/s]\u001b[A\n",
      " 49%|████▉     | 63/128 [01:11<01:00,  1.08it/s]\u001b[A\n",
      " 50%|█████     | 64/128 [01:12<00:58,  1.09it/s]\u001b[A\n",
      " 51%|█████     | 65/128 [01:13<00:59,  1.07it/s]\u001b[A\n",
      " 52%|█████▏    | 66/128 [01:14<00:58,  1.06it/s]\u001b[A\n",
      " 52%|█████▏    | 67/128 [01:15<00:57,  1.07it/s]\u001b[A\n",
      " 53%|█████▎    | 68/128 [01:16<01:00,  1.01s/it]\u001b[A\n",
      " 54%|█████▍    | 69/128 [01:17<00:57,  1.02it/s]\u001b[A\n",
      " 55%|█████▍    | 70/128 [01:18<00:54,  1.07it/s]\u001b[A\n",
      " 55%|█████▌    | 71/128 [01:19<00:53,  1.06it/s]\u001b[A\n",
      " 56%|█████▋    | 72/128 [01:20<00:52,  1.06it/s]\u001b[A\n",
      " 57%|█████▋    | 73/128 [01:21<00:52,  1.05it/s]\u001b[A\n",
      " 58%|█████▊    | 74/128 [01:22<00:50,  1.06it/s]\u001b[A\n",
      " 59%|█████▊    | 75/128 [01:23<00:51,  1.02it/s]\u001b[A\n",
      " 59%|█████▉    | 76/128 [01:24<00:49,  1.05it/s]\u001b[A\n",
      " 60%|██████    | 77/128 [01:25<00:49,  1.02it/s]\u001b[A\n",
      " 61%|██████    | 78/128 [01:26<00:47,  1.05it/s]\u001b[A\n",
      " 62%|██████▏   | 79/128 [01:27<00:45,  1.08it/s]\u001b[A\n",
      " 62%|██████▎   | 80/128 [01:28<00:47,  1.02it/s]\u001b[A\n",
      " 63%|██████▎   | 81/128 [01:29<00:44,  1.06it/s]\u001b[A\n",
      " 64%|██████▍   | 82/128 [01:30<00:44,  1.03it/s]\u001b[A\n",
      " 65%|██████▍   | 83/128 [01:31<00:44,  1.01it/s]\u001b[A\n",
      " 66%|██████▌   | 84/128 [01:31<00:41,  1.06it/s]\u001b[A\n",
      " 66%|██████▋   | 85/128 [01:32<00:38,  1.13it/s]\u001b[A\n",
      " 67%|██████▋   | 86/128 [01:33<00:38,  1.09it/s]\u001b[A\n",
      " 68%|██████▊   | 87/128 [01:34<00:40,  1.02it/s]\u001b[A\n",
      " 69%|██████▉   | 88/128 [01:35<00:38,  1.04it/s]\u001b[A\n",
      " 70%|██████▉   | 89/128 [01:36<00:39,  1.02s/it]\u001b[A\n",
      " 70%|███████   | 90/128 [01:37<00:37,  1.00it/s]\u001b[A\n",
      " 71%|███████   | 91/128 [01:38<00:36,  1.02it/s]\u001b[A\n",
      " 72%|███████▏  | 92/128 [01:39<00:36,  1.03s/it]\u001b[A\n",
      " 73%|███████▎  | 93/128 [01:40<00:33,  1.04it/s]\u001b[A\n",
      " 73%|███████▎  | 94/128 [01:41<00:31,  1.08it/s]\u001b[A\n",
      " 74%|███████▍  | 95/128 [01:42<00:30,  1.08it/s]\u001b[A\n",
      " 75%|███████▌  | 96/128 [01:43<00:31,  1.00it/s]\u001b[A\n",
      " 76%|███████▌  | 97/128 [01:44<00:28,  1.08it/s]\u001b[A\n",
      " 77%|███████▋  | 98/128 [01:45<00:28,  1.05it/s]\u001b[A\n",
      " 77%|███████▋  | 99/128 [01:46<00:27,  1.06it/s]\u001b[A\n",
      " 78%|███████▊  | 100/128 [01:47<00:26,  1.04it/s]\u001b[A\n",
      " 79%|███████▉  | 101/128 [01:48<00:27,  1.02s/it]\u001b[A\n",
      " 80%|███████▉  | 102/128 [01:49<00:25,  1.00it/s]\u001b[A\n",
      " 80%|████████  | 103/128 [01:50<00:23,  1.05it/s]\u001b[A\n",
      " 81%|████████▏ | 104/128 [01:51<00:22,  1.05it/s]\u001b[A\n",
      " 82%|████████▏ | 105/128 [01:52<00:21,  1.05it/s]\u001b[A\n",
      " 83%|████████▎ | 106/128 [01:53<00:20,  1.10it/s]\u001b[A\n",
      " 84%|████████▎ | 107/128 [01:53<00:18,  1.11it/s]\u001b[A\n",
      " 84%|████████▍ | 108/128 [01:54<00:17,  1.11it/s]\u001b[A\n",
      " 85%|████████▌ | 109/128 [01:55<00:17,  1.10it/s]\u001b[A\n",
      " 86%|████████▌ | 110/128 [01:56<00:16,  1.10it/s]\u001b[A\n",
      " 87%|████████▋ | 111/128 [01:57<00:15,  1.13it/s]\u001b[A\n",
      " 88%|████████▊ | 112/128 [01:58<00:13,  1.17it/s]\u001b[A\n",
      " 88%|████████▊ | 113/128 [01:59<00:12,  1.17it/s]\u001b[A\n",
      " 89%|████████▉ | 114/128 [02:00<00:12,  1.13it/s]\u001b[A\n",
      " 90%|████████▉ | 115/128 [02:00<00:11,  1.10it/s]\u001b[A\n",
      " 91%|█████████ | 116/128 [02:01<00:11,  1.07it/s]\u001b[A\n",
      " 91%|█████████▏| 117/128 [02:03<00:10,  1.04it/s]\u001b[A\n",
      " 92%|█████████▏| 118/128 [02:04<00:10,  1.01s/it]\u001b[A\n",
      " 93%|█████████▎| 119/128 [02:05<00:09,  1.07s/it]\u001b[A\n",
      " 94%|█████████▍| 120/128 [02:06<00:07,  1.00it/s]\u001b[A\n",
      " 95%|█████████▍| 121/128 [02:07<00:07,  1.05s/it]\u001b[A\n",
      " 95%|█████████▌| 122/128 [02:08<00:06,  1.07s/it]\u001b[A\n",
      " 96%|█████████▌| 123/128 [02:09<00:05,  1.04s/it]\u001b[A\n",
      " 97%|█████████▋| 124/128 [02:10<00:04,  1.12s/it]\u001b[A\n",
      " 98%|█████████▊| 125/128 [02:11<00:03,  1.09s/it]\u001b[A\n",
      " 98%|█████████▊| 126/128 [02:12<00:02,  1.00s/it]\u001b[A\n",
      " 99%|█████████▉| 127/128 [02:13<00:01,  1.01s/it]\u001b[A\n",
      "100%|██████████| 128/128 [02:14<00:00,  1.05s/it]\u001b[A\n",
      "\n",
      "  0%|          | 0/128 [00:00<?, ?it/s]\u001b[A\n",
      "  1%|          | 1/128 [00:01<02:18,  1.09s/it]\u001b[A\n",
      "  2%|▏         | 2/128 [00:02<02:19,  1.11s/it]\u001b[A\n",
      "  2%|▏         | 3/128 [00:03<02:06,  1.01s/it]\u001b[A\n",
      "  3%|▎         | 4/128 [00:04<02:10,  1.05s/it]\u001b[A\n",
      "  4%|▍         | 5/128 [00:05<02:05,  1.02s/it]\u001b[A\n",
      "  5%|▍         | 6/128 [00:06<02:08,  1.05s/it]\u001b[A\n",
      "  5%|▌         | 7/128 [00:07<02:05,  1.04s/it]\u001b[A\n",
      "  6%|▋         | 8/128 [00:08<02:02,  1.02s/it]\u001b[A\n",
      "  7%|▋         | 9/128 [00:09<01:56,  1.02it/s]\u001b[A\n",
      "  8%|▊         | 10/128 [00:10<01:59,  1.02s/it]\u001b[A\n",
      "  9%|▊         | 11/128 [00:11<01:56,  1.00it/s]\u001b[A\n",
      "  9%|▉         | 12/128 [00:12<01:53,  1.02it/s]\u001b[A\n",
      " 10%|█         | 13/128 [00:12<01:44,  1.10it/s]\u001b[A\n",
      " 11%|█         | 14/128 [00:13<01:45,  1.09it/s]\u001b[A\n",
      " 12%|█▏        | 15/128 [00:14<01:51,  1.01it/s]\u001b[A\n",
      " 12%|█▎        | 16/128 [00:15<01:51,  1.01it/s]\u001b[A\n",
      " 13%|█▎        | 17/128 [00:16<01:48,  1.03it/s]\u001b[A\n",
      " 14%|█▍        | 18/128 [00:17<01:43,  1.06it/s]\u001b[A\n",
      " 15%|█▍        | 19/128 [00:18<01:49,  1.00s/it]\u001b[A\n",
      " 16%|█▌        | 20/128 [00:19<01:46,  1.02it/s]\u001b[A\n",
      " 16%|█▋        | 21/128 [00:20<01:50,  1.03s/it]\u001b[A\n",
      " 17%|█▋        | 22/128 [00:21<01:47,  1.01s/it]\u001b[A\n",
      " 18%|█▊        | 23/128 [00:22<01:46,  1.02s/it]\u001b[A\n",
      " 19%|█▉        | 24/128 [00:23<01:38,  1.05it/s]\u001b[A\n",
      " 20%|█▉        | 25/128 [00:24<01:35,  1.08it/s]\u001b[A\n",
      " 20%|██        | 26/128 [00:25<01:46,  1.04s/it]\u001b[A\n",
      " 21%|██        | 27/128 [00:27<01:45,  1.05s/it]\u001b[A\n",
      " 22%|██▏       | 28/128 [00:28<01:44,  1.04s/it]\u001b[A\n",
      " 23%|██▎       | 29/128 [00:28<01:38,  1.00it/s]\u001b[A\n",
      " 23%|██▎       | 30/128 [00:30<01:40,  1.02s/it]\u001b[A\n",
      " 24%|██▍       | 31/128 [00:31<01:47,  1.11s/it]\u001b[A\n",
      " 25%|██▌       | 32/128 [00:32<01:40,  1.04s/it]\u001b[A\n",
      " 26%|██▌       | 33/128 [00:33<01:38,  1.04s/it]\u001b[A\n",
      " 27%|██▋       | 34/128 [00:34<01:30,  1.03it/s]\u001b[A\n",
      " 27%|██▋       | 35/128 [00:35<01:30,  1.03it/s]\u001b[A\n",
      " 28%|██▊       | 36/128 [00:36<01:31,  1.00it/s]\u001b[A\n",
      " 29%|██▉       | 37/128 [00:37<01:31,  1.01s/it]\u001b[A\n",
      " 30%|██▉       | 38/128 [00:38<01:30,  1.01s/it]\u001b[A\n",
      " 30%|███       | 39/128 [00:39<01:35,  1.08s/it]\u001b[A\n",
      " 31%|███▏      | 40/128 [00:40<01:42,  1.17s/it]\u001b[A\n",
      " 32%|███▏      | 41/128 [00:42<01:48,  1.25s/it]\u001b[A\n",
      " 33%|███▎      | 42/128 [00:42<01:36,  1.12s/it]\u001b[A\n",
      " 34%|███▎      | 43/128 [00:44<01:32,  1.09s/it]\u001b[A\n",
      " 34%|███▍      | 44/128 [00:44<01:26,  1.03s/it]\u001b[A\n",
      " 35%|███▌      | 45/128 [00:45<01:22,  1.01it/s]\u001b[A\n",
      " 36%|███▌      | 46/128 [00:46<01:22,  1.00s/it]\u001b[A\n",
      " 37%|███▋      | 47/128 [00:48<01:24,  1.05s/it]\u001b[A\n",
      " 38%|███▊      | 48/128 [00:48<01:20,  1.00s/it]\u001b[A\n",
      " 38%|███▊      | 49/128 [00:49<01:18,  1.00it/s]\u001b[A\n",
      " 39%|███▉      | 50/128 [00:50<01:15,  1.03it/s]\u001b[A\n",
      " 40%|███▉      | 51/128 [00:51<01:17,  1.00s/it]\u001b[A\n",
      " 41%|████      | 52/128 [00:52<01:17,  1.02s/it]\u001b[A\n",
      " 41%|████▏     | 53/128 [00:53<01:12,  1.03it/s]\u001b[A\n",
      " 42%|████▏     | 54/128 [00:54<01:09,  1.07it/s]\u001b[A\n",
      " 43%|████▎     | 55/128 [00:55<01:09,  1.06it/s]\u001b[A\n"
     ]
    },
    {
     "name": "stderr",
     "output_type": "stream",
     "text": [
      " 44%|████▍     | 56/128 [00:56<01:06,  1.09it/s]\u001b[A\n",
      " 45%|████▍     | 57/128 [00:57<01:08,  1.03it/s]\u001b[A\n",
      " 45%|████▌     | 58/128 [00:58<01:06,  1.05it/s]\u001b[A\n",
      " 46%|████▌     | 59/128 [00:59<01:11,  1.04s/it]\u001b[A\n",
      " 47%|████▋     | 60/128 [01:00<01:11,  1.05s/it]\u001b[A\n",
      " 48%|████▊     | 61/128 [01:01<01:11,  1.07s/it]\u001b[A\n",
      " 48%|████▊     | 62/128 [01:02<01:07,  1.02s/it]\u001b[A\n",
      " 49%|████▉     | 63/128 [01:03<01:02,  1.04it/s]\u001b[A\n",
      " 50%|█████     | 64/128 [01:04<01:00,  1.06it/s]\u001b[A\n",
      " 51%|█████     | 65/128 [01:05<00:59,  1.06it/s]\u001b[A\n",
      " 52%|█████▏    | 66/128 [01:06<00:58,  1.06it/s]\u001b[A\n",
      " 52%|█████▏    | 67/128 [01:07<00:56,  1.08it/s]\u001b[A\n",
      " 53%|█████▎    | 68/128 [01:08<00:56,  1.06it/s]\u001b[A\n",
      " 54%|█████▍    | 69/128 [01:09<00:57,  1.03it/s]\u001b[A\n",
      " 55%|█████▍    | 70/128 [01:10<00:55,  1.05it/s]\u001b[A\n",
      " 55%|█████▌    | 71/128 [01:11<00:51,  1.10it/s]\u001b[A\n",
      " 56%|█████▋    | 72/128 [01:12<00:56,  1.00s/it]\u001b[A\n",
      " 57%|█████▋    | 73/128 [01:13<00:55,  1.01s/it]\u001b[A\n",
      " 58%|█████▊    | 74/128 [01:14<00:52,  1.02it/s]\u001b[A\n",
      " 59%|█████▊    | 75/128 [01:15<00:54,  1.03s/it]\u001b[A\n",
      " 59%|█████▉    | 76/128 [01:16<00:55,  1.07s/it]\u001b[A\n",
      " 60%|██████    | 77/128 [01:17<00:56,  1.11s/it]\u001b[A\n",
      " 61%|██████    | 78/128 [01:18<00:53,  1.06s/it]\u001b[A\n",
      " 62%|██████▏   | 79/128 [01:19<00:49,  1.00s/it]\u001b[A\n",
      " 62%|██████▎   | 80/128 [01:20<00:46,  1.02it/s]\u001b[A\n",
      " 63%|██████▎   | 81/128 [01:21<00:45,  1.03it/s]\u001b[A\n",
      " 64%|██████▍   | 82/128 [01:22<00:45,  1.01it/s]\u001b[A\n",
      " 65%|██████▍   | 83/128 [01:23<00:42,  1.05it/s]\u001b[A\n",
      " 66%|██████▌   | 84/128 [01:24<00:44,  1.01s/it]\u001b[A\n",
      " 66%|██████▋   | 85/128 [01:25<00:41,  1.02it/s]\u001b[A\n",
      " 67%|██████▋   | 86/128 [01:26<00:44,  1.07s/it]\u001b[A\n",
      " 68%|██████▊   | 87/128 [01:27<00:41,  1.02s/it]\u001b[A\n",
      " 69%|██████▉   | 88/128 [01:28<00:39,  1.02it/s]\u001b[A\n",
      " 70%|██████▉   | 89/128 [01:29<00:38,  1.01it/s]\u001b[A\n",
      " 70%|███████   | 90/128 [01:30<00:37,  1.01it/s]\u001b[A\n",
      " 71%|███████   | 91/128 [01:31<00:37,  1.01s/it]\u001b[A\n",
      " 72%|███████▏  | 92/128 [01:32<00:34,  1.03it/s]\u001b[A\n",
      " 73%|███████▎  | 93/128 [01:33<00:34,  1.02it/s]\u001b[A\n",
      " 73%|███████▎  | 94/128 [01:34<00:31,  1.09it/s]\u001b[A\n",
      " 74%|███████▍  | 95/128 [01:35<00:30,  1.09it/s]\u001b[A\n",
      " 75%|███████▌  | 96/128 [01:35<00:29,  1.09it/s]\u001b[A\n",
      " 76%|███████▌  | 97/128 [01:37<00:30,  1.03it/s]\u001b[A\n",
      " 77%|███████▋  | 98/128 [01:37<00:28,  1.07it/s]\u001b[A\n",
      " 77%|███████▋  | 99/128 [01:39<00:28,  1.00it/s]\u001b[A\n",
      " 78%|███████▊  | 100/128 [01:39<00:26,  1.06it/s]\u001b[A\n",
      " 79%|███████▉  | 101/128 [01:40<00:24,  1.08it/s]\u001b[A\n",
      " 80%|███████▉  | 102/128 [01:41<00:24,  1.05it/s]\u001b[A\n",
      " 80%|████████  | 103/128 [01:42<00:23,  1.05it/s]\u001b[A\n",
      " 81%|████████▏ | 104/128 [01:43<00:23,  1.01it/s]\u001b[A\n",
      " 82%|████████▏ | 105/128 [01:44<00:21,  1.07it/s]\u001b[A\n",
      " 83%|████████▎ | 106/128 [01:45<00:20,  1.08it/s]\u001b[A\n",
      " 84%|████████▎ | 107/128 [01:46<00:18,  1.14it/s]\u001b[A\n",
      " 84%|████████▍ | 108/128 [01:47<00:18,  1.07it/s]\u001b[A\n",
      " 85%|████████▌ | 109/128 [01:48<00:17,  1.06it/s]\u001b[A\n",
      " 86%|████████▌ | 110/128 [01:49<00:17,  1.03it/s]\u001b[A\n",
      " 87%|████████▋ | 111/128 [01:50<00:15,  1.07it/s]\u001b[A\n",
      " 88%|████████▊ | 112/128 [01:51<00:14,  1.11it/s]\u001b[A\n",
      " 88%|████████▊ | 113/128 [01:52<00:15,  1.01s/it]\u001b[A\n",
      " 89%|████████▉ | 114/128 [01:53<00:13,  1.07it/s]\u001b[A\n",
      " 90%|████████▉ | 115/128 [01:54<00:12,  1.05it/s]\u001b[A\n",
      " 91%|█████████ | 116/128 [01:54<00:11,  1.05it/s]\u001b[A\n",
      " 91%|█████████▏| 117/128 [01:56<00:10,  1.02it/s]\u001b[A\n",
      " 92%|█████████▏| 118/128 [01:56<00:09,  1.04it/s]\u001b[A\n",
      " 93%|█████████▎| 119/128 [01:57<00:08,  1.04it/s]\u001b[A\n",
      " 94%|█████████▍| 120/128 [01:58<00:07,  1.02it/s]\u001b[A\n",
      " 95%|█████████▍| 121/128 [01:59<00:06,  1.07it/s]\u001b[A\n",
      " 95%|█████████▌| 122/128 [02:00<00:05,  1.04it/s]\u001b[A\n",
      " 96%|█████████▌| 123/128 [02:01<00:05,  1.03s/it]\u001b[A\n",
      " 97%|█████████▋| 124/128 [02:02<00:03,  1.01it/s]\u001b[A\n",
      " 98%|█████████▊| 125/128 [02:03<00:02,  1.03it/s]\u001b[A\n",
      " 98%|█████████▊| 126/128 [02:04<00:01,  1.03it/s]\u001b[A\n",
      " 99%|█████████▉| 127/128 [02:05<00:00,  1.04it/s]\u001b[A\n",
      "100%|██████████| 128/128 [02:06<00:00,  1.01it/s]\u001b[A\n",
      "\n",
      "  0%|          | 0/60 [00:00<?, ?it/s]\u001b[A\n",
      "  2%|▏         | 1/60 [00:01<01:18,  1.33s/it]\u001b[A\n",
      "  3%|▎         | 2/60 [00:02<01:11,  1.23s/it]\u001b[A\n",
      "  5%|▌         | 3/60 [00:03<01:05,  1.14s/it]\u001b[A\n",
      "  7%|▋         | 4/60 [00:04<01:02,  1.12s/it]\u001b[A\n",
      "  8%|▊         | 5/60 [00:05<00:58,  1.06s/it]\u001b[A\n",
      " 10%|█         | 6/60 [00:06<00:57,  1.07s/it]\u001b[A\n",
      " 12%|█▏        | 7/60 [00:07<00:54,  1.02s/it]\u001b[A\n",
      " 13%|█▎        | 8/60 [00:08<00:51,  1.02it/s]\u001b[A\n",
      " 15%|█▌        | 9/60 [00:09<00:50,  1.00it/s]\u001b[A\n",
      " 17%|█▋        | 10/60 [00:10<00:50,  1.00s/it]\u001b[A\n",
      " 18%|█▊        | 11/60 [00:10<00:45,  1.07it/s]\u001b[A\n",
      " 20%|██        | 12/60 [00:11<00:42,  1.13it/s]\u001b[A\n",
      " 22%|██▏       | 13/60 [00:12<00:42,  1.09it/s]\u001b[A\n",
      " 23%|██▎       | 14/60 [00:13<00:43,  1.07it/s]\u001b[A\n",
      " 25%|██▌       | 15/60 [00:14<00:41,  1.08it/s]\u001b[A\n",
      " 27%|██▋       | 16/60 [00:15<00:41,  1.06it/s]\u001b[A\n",
      " 28%|██▊       | 17/60 [00:16<00:44,  1.03s/it]\u001b[A\n",
      " 30%|███       | 18/60 [00:17<00:43,  1.04s/it]\u001b[A\n",
      " 32%|███▏      | 19/60 [00:19<00:44,  1.09s/it]\u001b[A\n",
      " 33%|███▎      | 20/60 [00:19<00:41,  1.03s/it]\u001b[A\n",
      " 35%|███▌      | 21/60 [00:20<00:38,  1.01it/s]\u001b[A\n",
      " 37%|███▋      | 22/60 [00:22<00:39,  1.03s/it]\u001b[A\n",
      " 38%|███▊      | 23/60 [00:23<00:37,  1.02s/it]\u001b[A\n",
      " 40%|████      | 24/60 [00:23<00:34,  1.05it/s]\u001b[A\n",
      " 42%|████▏     | 25/60 [00:24<00:34,  1.03it/s]\u001b[A\n",
      " 43%|████▎     | 26/60 [00:25<00:34,  1.01s/it]\u001b[A\n",
      " 45%|████▌     | 27/60 [00:27<00:35,  1.06s/it]\u001b[A\n",
      " 47%|████▋     | 28/60 [00:27<00:31,  1.01it/s]\u001b[A\n",
      " 48%|████▊     | 29/60 [00:29<00:31,  1.03s/it]\u001b[A\n",
      " 50%|█████     | 30/60 [00:29<00:30,  1.00s/it]\u001b[A\n",
      " 52%|█████▏    | 31/60 [00:30<00:28,  1.03it/s]\u001b[A"
     ]
    }
   ],
   "source": [
    "pos_ri_naif,pos_ri_norms_naif = computeRiNaif(positives,negatives,0,hybrid_model.classifier,\n",
    "                                              attributes,attribute_len)"
   ]
  },
  {
   "cell_type": "code",
   "execution_count": null,
   "metadata": {},
   "outputs": [],
   "source": [
    "pos_perturbations_gradient = pd.DataFrame(data= pos_ri_norms,columns=attributes)\n",
    "pos_perturbations_naif = pd.DataFrame(data= pos_ri_norms_naif,columns=attributes)"
   ]
  },
  {
   "cell_type": "code",
   "execution_count": null,
   "metadata": {},
   "outputs": [],
   "source": [
    "compareMethods(pos_perturbations_gradient,pos_perturbations_naif,attributes)"
   ]
  }
 ],
 "metadata": {
  "celltoolbar": "Raw Cell Format",
  "kernelspec": {
   "display_name": "Python 3",
   "language": "python",
   "name": "python3"
  },
  "language_info": {
   "codemirror_mode": {
    "name": "ipython",
    "version": 3
   },
   "file_extension": ".py",
   "mimetype": "text/x-python",
   "name": "python",
   "nbconvert_exporter": "python",
   "pygments_lexer": "ipython3",
   "version": "3.6.9"
  }
 },
 "nbformat": 4,
 "nbformat_minor": 2
}

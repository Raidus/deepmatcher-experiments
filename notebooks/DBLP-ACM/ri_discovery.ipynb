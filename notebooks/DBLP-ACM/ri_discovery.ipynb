{
 "cells": [
  {
   "cell_type": "code",
   "execution_count": 1,
   "metadata": {},
   "outputs": [],
   "source": [
    "%load_ext autoreload\n",
    "%autoreload 2"
   ]
  },
  {
   "cell_type": "code",
   "execution_count": 2,
   "metadata": {},
   "outputs": [],
   "source": [
    "import sys\n",
    "sys.path.append('../..')"
   ]
  },
  {
   "cell_type": "code",
   "execution_count": 13,
   "metadata": {},
   "outputs": [],
   "source": [
    "import deepmatcher as dm\n",
    "from utilities_functions.intermediate_layer_extraction import return_layer_input\n",
    "from utilities_functions.ri_calculator import find_smallest_variation_to_change_v1\n",
    "import torch\n",
    "import pandas as pd"
   ]
  },
  {
   "cell_type": "code",
   "execution_count": 28,
   "metadata": {},
   "outputs": [],
   "source": [
    "model = dm.MatchingModel(attr_summarizer='hybrid')\n",
    "model.load_state('../../models/dblp_acm_hybrid.pth')"
   ]
  },
  {
   "cell_type": "code",
   "execution_count": 5,
   "metadata": {},
   "outputs": [],
   "source": [
    "testneg_classifier_inputs,testneg_ids = return_layer_input('../../Structured/DBLP-ACM/','negatives_frac',\n",
    "                                                           batch_size=128,model=model,layer=model.classifier,\n",
    "                                                          device=-1)"
   ]
  },
  {
   "cell_type": "code",
   "execution_count": 6,
   "metadata": {},
   "outputs": [],
   "source": [
    "testpos_classifier_inputs,testpos_ids = return_layer_input('../../Structured/DBLP-ACM/','positives_frac',\n",
    "                                                           batch_size=128,model=model,layer=model.classifier,\n",
    "                                                          device=-1)"
   ]
  },
  {
   "cell_type": "code",
   "execution_count": 7,
   "metadata": {},
   "outputs": [],
   "source": [
    "model = model.cuda()"
   ]
  },
  {
   "cell_type": "code",
   "execution_count": 8,
   "metadata": {},
   "outputs": [],
   "source": [
    "from tqdm import tqdm"
   ]
  },
  {
   "cell_type": "code",
   "execution_count": 9,
   "metadata": {},
   "outputs": [],
   "source": [
    "attributes = ['title','authors','venue','year']\n",
    "## Basta scegliere un campione a caso\n",
    "classifier_length = len(testneg_classifier_inputs[0][0])\n",
    "attribute_length = int(classifier_length/len(attributes))"
   ]
  },
  {
   "cell_type": "code",
   "execution_count": 10,
   "metadata": {},
   "outputs": [
    {
     "name": "stderr",
     "output_type": "stream",
     "text": [
      "100%|██████████| 19/19 [00:04<00:00,  4.56it/s]\n",
      "100%|██████████| 128/128 [00:28<00:00,  4.63it/s]\n",
      "100%|██████████| 128/128 [00:27<00:00,  4.41it/s]\n",
      "100%|██████████| 128/128 [00:29<00:00,  4.62it/s]\n",
      "100%|██████████| 128/128 [00:27<00:00,  4.30it/s]\n",
      "100%|██████████| 128/128 [00:28<00:00,  4.25it/s]\n",
      "100%|██████████| 128/128 [00:27<00:00,  5.27it/s]\n",
      "100%|██████████| 128/128 [00:24<00:00,  4.87it/s]\n",
      "100%|██████████| 128/128 [00:26<00:00,  4.75it/s]\n",
      "100%|██████████| 128/128 [00:25<00:00,  4.85it/s]\n",
      "100%|██████████| 128/128 [00:25<00:00,  4.84it/s]\n",
      "100%|██████████| 128/128 [00:25<00:00,  4.97it/s]\n",
      "100%|██████████| 128/128 [00:25<00:00,  5.45it/s]\n",
      "100%|██████████| 128/128 [00:26<00:00,  4.85it/s]\n",
      "100%|██████████| 128/128 [00:26<00:00,  4.43it/s]\n",
      "100%|██████████| 128/128 [00:26<00:00,  4.59it/s]\n",
      "100%|██████████| 128/128 [00:25<00:00,  4.66it/s]\n",
      "100%|██████████| 128/128 [00:26<00:00,  4.63it/s]\n",
      "100%|██████████| 128/128 [00:26<00:00,  4.82it/s]\n",
      "100%|██████████| 128/128 [00:26<00:00,  4.66it/s]\n",
      "100%|██████████| 128/128 [00:26<00:00,  4.74it/s]\n",
      "100%|██████████| 128/128 [00:26<00:00,  4.38it/s]\n",
      "100%|██████████| 128/128 [00:25<00:00,  4.61it/s]\n",
      "100%|██████████| 128/128 [00:25<00:00,  5.39it/s]\n",
      "100%|██████████| 128/128 [00:25<00:00,  5.14it/s]\n",
      "100%|██████████| 128/128 [00:25<00:00,  5.08it/s]\n",
      "100%|██████████| 128/128 [00:25<00:00,  4.67it/s]\n"
     ]
    }
   ],
   "source": [
    "current_sample = 0\n",
    "#each column of this matrix is related to a specific attribute\n",
    "negatives_ri = []\n",
    "for batch in testneg_classifier_inputs:\n",
    "    for sample_index in tqdm(range(len(batch))):\n",
    "        current_sample_ris = []\n",
    "        for j,attribute in enumerate(attributes):\n",
    "            variation = find_smallest_variation_to_change_v1(model.classifier,\n",
    "                                                             classifier_length= classifier_length,\n",
    "                                                             attribute_length= attribute_length,\n",
    "                                                          input_matrix=batch,\n",
    "                                                             vector_index=sample_index,attributes=[j],\n",
    "                                                          class_to_reach=1)\n",
    "            current_sample_ris.append(variation)\n",
    "        negatives_ri.append(current_sample_ris)\n",
    "        current_sample+=1"
   ]
  },
  {
   "cell_type": "code",
   "execution_count": 15,
   "metadata": {},
   "outputs": [
    {
     "data": {
      "text/plain": [
       "<matplotlib.axes._subplots.AxesSubplot at 0x7fc4959093c8>"
      ]
     },
     "execution_count": 15,
     "metadata": {},
     "output_type": "execute_result"
    },
    {
     "data": {
      "image/png": "[encoded data removed]",
      "text/plain": [
       "<Figure size 432x288 with 1 Axes>"
      ]
     },
     "metadata": {
      "needs_background": "light"
     },
     "output_type": "display_data"
    }
   ],
   "source": [
    "ri_norms_negative_samples = []\n",
    "for ri_list in negatives_ri:\n",
    "    ri_norms_negative_samples.append(list(map(lambda x:torch.norm(x).data[0],ri_list)))\n",
    "negatives_variation_df = pd.DataFrame(data= ri_norms_negative_samples,columns=attributes)\n",
    "ri_sums = negatives_variation_df.sum(numeric_only=True)\n",
    "ri_sums.plot.bar()"
   ]
  },
  {
   "cell_type": "code",
   "execution_count": 16,
   "metadata": {},
   "outputs": [
    {
     "name": "stderr",
     "output_type": "stream",
     "text": [
      "100%|██████████| 93/93 [00:11<00:00,  7.95it/s]\n",
      "100%|██████████| 128/128 [00:15<00:00,  6.48it/s]\n",
      "100%|██████████| 128/128 [00:15<00:00,  6.46it/s]\n",
      "100%|██████████| 128/128 [00:15<00:00,  8.37it/s]\n",
      "100%|██████████| 128/128 [00:16<00:00,  5.86it/s]\n",
      "100%|██████████| 128/128 [00:18<00:00,  6.98it/s]\n"
     ]
    }
   ],
   "source": [
    "current_sample = 0\n",
    "#each column of this matrix is related to a specific attribute\n",
    "positives_ri = []\n",
    "for batch in testpos_classifier_inputs:\n",
    "    for sample_index in tqdm(range(len(batch))):\n",
    "        current_sample_ris = []\n",
    "        for j,attribute in enumerate(attributes):\n",
    "            variation = find_smallest_variation_to_change_v1(model.classifier,\n",
    "                                                             classifier_length= classifier_length,\n",
    "                                                             attribute_length= attribute_length,\n",
    "                                                          input_matrix=batch,\n",
    "                                                             vector_index=sample_index,attributes=[j],\n",
    "                                                          class_to_reach=0)\n",
    "            current_sample_ris.append(variation)\n",
    "        positives_ri.append(current_sample_ris)\n",
    "        current_sample+=1"
   ]
  },
  {
   "cell_type": "code",
   "execution_count": 17,
   "metadata": {},
   "outputs": [
    {
     "data": {
      "text/plain": [
       "<matplotlib.axes._subplots.AxesSubplot at 0x7fc4957ca7f0>"
      ]
     },
     "execution_count": 17,
     "metadata": {},
     "output_type": "execute_result"
    },
    {
     "data": {
      "image/png": "[encoded data removed]",
      "text/plain": [
       "<Figure size 432x288 with 1 Axes>"
      ]
     },
     "metadata": {
      "needs_background": "light"
     },
     "output_type": "display_data"
    }
   ],
   "source": [
    "ri_norms_positives = []\n",
    "for ri_list in positives_ri:\n",
    "    ri_norms_positives.append(list(map(lambda x:torch.norm(x).data[0],ri_list)))\n",
    "positives_variation_df = pd.DataFrame(data= ri_norms_positives,columns=attributes)\n",
    "positives_variation_df.sum(numeric_only=True).plot.bar()"
   ]
  },
  {
   "cell_type": "code",
   "execution_count": 18,
   "metadata": {},
   "outputs": [],
   "source": [
    "negatives_variation_df.to_csv('experiment_results/testneg_v1_ri.csv',index=False)"
   ]
  },
  {
   "cell_type": "code",
   "execution_count": 19,
   "metadata": {},
   "outputs": [],
   "source": [
    "positives_variation_df.to_csv('experiment_results/testpos_v1_ri.csv',index=False)"
   ]
  },
  {
   "cell_type": "markdown",
   "metadata": {},
   "source": [
    "## Nearest neighbors discovery"
   ]
  },
  {
   "cell_type": "code",
   "execution_count": 20,
   "metadata": {},
   "outputs": [],
   "source": [
    "from utilities_functions.distance_measures import nearest_neighbor_onAttribute"
   ]
  },
  {
   "cell_type": "code",
   "execution_count": 22,
   "metadata": {},
   "outputs": [
    {
     "name": "stderr",
     "output_type": "stream",
     "text": [
      "\n",
      "Reading and processing data from \"../../Structured/DBLP-ACM/positives.csv\"\n",
      "0% [############################# ] 100% | ETA: 00:00:00\n",
      "Building vocabulary\n",
      "0% [###] 100% | ETA: 00:00:00\n",
      "Total time elapsed: 00:00:00\n",
      "\n",
      "Computing principal components\n",
      "0% [###] 100% | ETA: 00:00:00\n",
      "Total time elapsed: 00:00:01\n"
     ]
    }
   ],
   "source": [
    "pos_classifier_inputs,pos_ids = return_layer_input('../../Structured/DBLP-ACM/','positives',\n",
    "                                                           batch_size=128,model=model,layer=model.classifier,\n",
    "                                                          device=-1)"
   ]
  },
  {
   "cell_type": "code",
   "execution_count": 23,
   "metadata": {},
   "outputs": [],
   "source": [
    "model=  model.cuda()"
   ]
  },
  {
   "cell_type": "code",
   "execution_count": 24,
   "metadata": {},
   "outputs": [
    {
     "name": "stderr",
     "output_type": "stream",
     "text": [
      "100%|██████████| 19/19 [00:24<00:00,  1.23s/it]\n",
      "100%|██████████| 128/128 [02:37<00:00,  1.24s/it]\n",
      "100%|██████████| 128/128 [02:37<00:00,  1.21s/it]\n",
      "100%|██████████| 128/128 [02:37<00:00,  1.27s/it]\n",
      "100%|██████████| 128/128 [02:38<00:00,  1.23s/it]\n",
      "100%|██████████| 128/128 [02:36<00:00,  1.23s/it]\n",
      "100%|██████████| 128/128 [02:36<00:00,  1.22s/it]\n",
      "100%|██████████| 128/128 [02:37<00:00,  1.22s/it]\n",
      "100%|██████████| 128/128 [02:36<00:00,  1.22s/it]\n",
      "100%|██████████| 128/128 [02:36<00:00,  1.22s/it]\n",
      "100%|██████████| 128/128 [02:36<00:00,  1.23s/it]\n",
      "100%|██████████| 128/128 [02:36<00:00,  1.23s/it]\n",
      "100%|██████████| 128/128 [02:36<00:00,  1.22s/it]\n",
      "100%|██████████| 128/128 [02:36<00:00,  1.21s/it]\n",
      "100%|██████████| 128/128 [02:35<00:00,  1.24s/it]\n",
      "100%|██████████| 128/128 [02:37<00:00,  1.23s/it]\n",
      "100%|██████████| 128/128 [02:37<00:00,  1.22s/it]\n",
      "100%|██████████| 128/128 [02:36<00:00,  1.23s/it]\n",
      "100%|██████████| 128/128 [02:37<00:00,  1.22s/it]\n",
      "100%|██████████| 128/128 [02:36<00:00,  1.23s/it]\n",
      "100%|██████████| 128/128 [02:36<00:00,  1.21s/it]\n",
      "100%|██████████| 128/128 [02:41<00:00,  1.22s/it]\n",
      "100%|██████████| 128/128 [02:40<00:00,  1.22s/it]\n",
      "100%|██████████| 128/128 [02:38<00:00,  1.25s/it]\n",
      "100%|██████████| 128/128 [02:40<00:00,  1.41s/it]\n",
      "100%|██████████| 128/128 [02:58<00:00,  1.31s/it]\n",
      "100%|██████████| 128/128 [03:05<00:00,  1.37s/it]\n"
     ]
    }
   ],
   "source": [
    "#lista di tuple: vettore più vicino considerando tutti gli elementi e closer solo secondo un attributo\n",
    "negatives_closer_vectors = []\n",
    "i = 0\n",
    "for batch in testneg_classifier_inputs:\n",
    "    for sample in tqdm(batch):\n",
    "        current_sample_closer_vectors = list(map(lambda att: nearest_neighbor_onAttribute\n",
    "                                                 (sample+negatives_ri[i][attributes.index(att)]\n",
    "                                                                ,pos_classifier_inputs,attributes.index(att),\n",
    "                                                                attribute_length,'cosine'),attributes))\n",
    "        negatives_closer_vectors.append(current_sample_closer_vectors)\n",
    "        i += 1 "
   ]
  },
  {
   "cell_type": "code",
   "execution_count": 27,
   "metadata": {},
   "outputs": [],
   "source": [
    "negatives_closer_vectors_df = pd.DataFrame(data = negatives_closer_vectors, columns = attributes)\n",
    "negatives_closer_vectors_df = negatives_closer_vectors_df.applymap(lambda c:pos_ids[c])\n",
    "negatives_closer_vectors_df['SampleID'] = testneg_ids\n",
    "negatives_closer_vectors_df.to_csv('experiment_results/negatives_nn.csv',index=False)"
   ]
  },
  {
   "cell_type": "code",
   "execution_count": 29,
   "metadata": {},
   "outputs": [
    {
     "name": "stderr",
     "output_type": "stream",
     "text": [
      "\n",
      "Reading and processing data from \"../../Structured/DBLP-ACM/negatives.csv\"\n",
      "0% [############################# ] 100% | ETA: 00:00:00\n",
      "Building vocabulary\n",
      "0% [##########] 100% | ETA: 00:00:00\n",
      "Total time elapsed: 00:00:01\n",
      "\n",
      "Computing principal components\n",
      "0% [##########] 100% | ETA: 00:00:00\n",
      "Total time elapsed: 00:00:06\n"
     ]
    }
   ],
   "source": [
    "neg_classifier_inputs,neg_ids = return_layer_input('../../Structured/DBLP-ACM/','negatives',\n",
    "                                                           batch_size=128,model=model,layer=model.classifier,\n",
    "                                                          device=-1)"
   ]
  },
  {
   "cell_type": "code",
   "execution_count": 30,
   "metadata": {},
   "outputs": [],
   "source": [
    "model = model.cuda()"
   ]
  },
  {
   "cell_type": "code",
   "execution_count": 43,
   "metadata": {},
   "outputs": [],
   "source": [
    "import torch.nn.functional as F\n",
    "negative_tensors = list(map(lambda b: b.data,neg_classifier_inputs))\n",
    "all_neg_tensors = torch.cat(negative_tensors)\n",
    "negatives_var = torch.autograd.Variable(all_neg_tensors,requires_grad=True)"
   ]
  },
  {
   "cell_type": "code",
   "execution_count": 66,
   "metadata": {},
   "outputs": [],
   "source": [
    "import numpy as np\n",
    "def nearest_neighbor_cosine(v,data,attribute_idx,attribute_length):\n",
    "    start_index = attribute_idx*attribute_length\n",
    "    end_index = start_index+attribute_length\n",
    "    distances = F.cosine_similarity(v[start_index:end_index],data[:,start_index:end_index],dim=-1).data.cpu().numpy()\n",
    "    best = max(distances)\n",
    "    return np.where(distances == best)[0][0]"
   ]
  },
  {
   "cell_type": "code",
   "execution_count": 70,
   "metadata": {},
   "outputs": [
    {
     "name": "stderr",
     "output_type": "stream",
     "text": [
      "\n",
      "  0%|          | 0/93 [00:00<?, ?it/s]\u001b[A\n",
      " 13%|█▎        | 12/93 [00:00<00:00, 115.91it/s]\u001b[A\n",
      " 25%|██▍       | 23/93 [00:00<00:00, 113.90it/s]\u001b[A\n",
      " 38%|███▊      | 35/93 [00:00<00:00, 113.70it/s]\u001b[A\n",
      " 49%|████▉     | 46/93 [00:00<00:00, 112.29it/s]\u001b[A\n",
      " 62%|██████▏   | 58/93 [00:00<00:00, 114.00it/s]\u001b[A\n",
      " 75%|███████▌  | 70/93 [00:00<00:00, 114.65it/s]\u001b[A\n",
      " 88%|████████▊ | 82/93 [00:00<00:00, 115.64it/s]\u001b[A\n",
      "100%|██████████| 93/93 [00:00<00:00, 114.67it/s]\u001b[A\n",
      "  0%|          | 0/128 [00:00<?, ?it/s]\u001b[A\n",
      "  9%|▉         | 12/128 [00:00<00:00, 117.60it/s]\u001b[A\n",
      " 19%|█▉        | 24/128 [00:00<00:00, 117.78it/s]\u001b[A\n",
      " 28%|██▊       | 36/128 [00:00<00:00, 117.66it/s]\u001b[A\n",
      " 38%|███▊      | 48/128 [00:00<00:00, 117.57it/s]\u001b[A\n",
      " 47%|████▋     | 60/128 [00:00<00:00, 117.54it/s]\u001b[A\n",
      " 56%|█████▋    | 72/128 [00:00<00:00, 117.63it/s]\u001b[A\n",
      " 66%|██████▌   | 84/128 [00:00<00:00, 115.69it/s]\u001b[A\n",
      " 75%|███████▌  | 96/128 [00:00<00:00, 115.45it/s]\u001b[A\n",
      " 84%|████████▍ | 108/128 [00:00<00:00, 115.37it/s]\u001b[A\n",
      " 94%|█████████▍| 120/128 [00:01<00:00, 115.40it/s]\u001b[A\n",
      "100%|██████████| 128/128 [00:01<00:00, 115.89it/s]\u001b[A\n",
      "  0%|          | 0/128 [00:00<?, ?it/s]\u001b[A\n",
      "  9%|▉         | 12/128 [00:00<00:01, 113.66it/s]\u001b[A\n",
      " 19%|█▉        | 24/128 [00:00<00:00, 112.98it/s]\u001b[A\n",
      " 28%|██▊       | 36/128 [00:00<00:00, 114.30it/s]\u001b[A\n",
      " 38%|███▊      | 48/128 [00:00<00:00, 115.26it/s]\u001b[A\n",
      " 48%|████▊     | 61/128 [00:00<00:00, 117.28it/s]\u001b[A\n",
      " 57%|█████▋    | 73/128 [00:00<00:00, 117.82it/s]\u001b[A\n",
      " 66%|██████▋   | 85/128 [00:00<00:00, 116.89it/s]\u001b[A\n",
      " 76%|███████▌  | 97/128 [00:00<00:00, 115.29it/s]\u001b[A\n",
      " 85%|████████▌ | 109/128 [00:00<00:00, 115.98it/s]\u001b[A\n",
      " 95%|█████████▌| 122/128 [00:01<00:00, 117.51it/s]\u001b[A\n",
      "100%|██████████| 128/128 [00:01<00:00, 116.54it/s]\u001b[A\n",
      "  0%|          | 0/128 [00:00<?, ?it/s]\u001b[A\n",
      " 10%|█         | 13/128 [00:00<00:00, 122.76it/s]\u001b[A\n",
      " 20%|██        | 26/128 [00:00<00:00, 122.86it/s]\u001b[A\n",
      " 30%|███       | 39/128 [00:00<00:00, 122.77it/s]\u001b[A\n",
      " 41%|████      | 52/128 [00:00<00:00, 122.29it/s]\u001b[A\n",
      " 51%|█████     | 65/128 [00:00<00:00, 122.32it/s]\u001b[A\n",
      " 60%|██████    | 77/128 [00:00<00:00, 120.99it/s]\u001b[A\n",
      " 70%|██████▉   | 89/128 [00:00<00:00, 117.98it/s]\u001b[A\n",
      " 79%|███████▉  | 101/128 [00:00<00:00, 115.83it/s]\u001b[A\n",
      " 88%|████████▊ | 113/128 [00:00<00:00, 115.41it/s]\u001b[A\n",
      " 98%|█████████▊| 125/128 [00:01<00:00, 115.89it/s]\u001b[A\n",
      "100%|██████████| 128/128 [00:01<00:00, 117.75it/s]\u001b[A\n",
      "  0%|          | 0/128 [00:00<?, ?it/s]\u001b[A\n",
      "  9%|▉         | 12/128 [00:00<00:00, 116.35it/s]\u001b[A\n",
      " 19%|█▉        | 24/128 [00:00<00:00, 115.86it/s]\u001b[A\n",
      " 28%|██▊       | 36/128 [00:00<00:00, 115.81it/s]\u001b[A\n",
      " 38%|███▊      | 49/128 [00:00<00:00, 117.32it/s]\u001b[A\n",
      " 48%|████▊     | 61/128 [00:00<00:00, 117.31it/s]\u001b[A\n",
      " 57%|█████▋    | 73/128 [00:00<00:00, 116.68it/s]\u001b[A\n",
      " 66%|██████▋   | 85/128 [00:00<00:00, 116.62it/s]\u001b[A\n",
      " 77%|███████▋  | 98/128 [00:00<00:00, 117.77it/s]\u001b[A\n",
      " 86%|████████▌ | 110/128 [00:00<00:00, 118.13it/s]\u001b[A\n",
      " 95%|█████████▌| 122/128 [00:01<00:00, 118.41it/s]\u001b[A\n",
      "100%|██████████| 128/128 [00:01<00:00, 117.71it/s]\u001b[A\n",
      "  0%|          | 0/128 [00:00<?, ?it/s]\u001b[A\n",
      " 10%|█         | 13/128 [00:00<00:00, 125.26it/s]\u001b[A\n",
      " 20%|██        | 26/128 [00:00<00:00, 125.98it/s]\u001b[A\n",
      " 30%|███       | 39/128 [00:00<00:00, 126.67it/s]\u001b[A\n",
      " 41%|████      | 52/128 [00:00<00:00, 127.04it/s]\u001b[A\n",
      " 51%|█████     | 65/128 [00:00<00:00, 127.04it/s]\u001b[A\n",
      " 61%|██████    | 78/128 [00:00<00:00, 126.80it/s]\u001b[A\n",
      " 71%|███████   | 91/128 [00:00<00:00, 126.60it/s]\u001b[A\n",
      " 81%|████████▏ | 104/128 [00:00<00:00, 126.58it/s]\u001b[A\n",
      " 91%|█████████ | 116/128 [00:00<00:00, 124.28it/s]\u001b[A\n",
      "100%|██████████| 128/128 [00:01<00:00, 122.32it/s]\u001b[A"
     ]
    }
   ],
   "source": [
    "# per ogni attributo trovo il più vicino\n",
    "positives_closer_vectors = []\n",
    "i = 0\n",
    "for batch in testpos_classifier_inputs:\n",
    "    for sample in tqdm(batch):\n",
    "        current_sample_closer_vectors = list(map(lambda att: nearest_neighbor_cosine\n",
    "                                                 (sample+positives_ri[i][attributes.index(att)]\n",
    "                                                                ,negatives_var,attributes.index(att),\n",
    "                                                                attribute_length),attributes))\n",
    "        positives_closer_vectors.append(current_sample_closer_vectors)\n",
    "        i += 1 "
   ]
  },
  {
   "cell_type": "code",
   "execution_count": 75,
   "metadata": {},
   "outputs": [],
   "source": [
    "positives_closer_vectors_df = pd.DataFrame(data = positives_closer_vectors, columns = attributes)\n",
    "positives_closer_vectors_df = positives_closer_vectors_df.applymap(lambda c:neg_ids[c])\n",
    "positives_closer_vectors_df['SampleID'] = testpos_ids\n",
    "positives_closer_vectors_df.to_csv('experiment_results/positives_nn.csv',index=False)"
   ]
  },
  {
   "cell_type": "code",
   "execution_count": null,
   "metadata": {},
   "outputs": [],
   "source": []
  }
 ],
 "metadata": {
  "kernelspec": {
   "display_name": "Python 3",
   "language": "python",
   "name": "python3"
  },
  "language_info": {
   "codemirror_mode": {
    "name": "ipython",
    "version": 3
   },
   "file_extension": ".py",
   "mimetype": "text/x-python",
   "name": "python",
   "nbconvert_exporter": "python",
   "pygments_lexer": "ipython3",
   "version": "3.6.9"
  }
 },
 "nbformat": 4,
 "nbformat_minor": 2
}

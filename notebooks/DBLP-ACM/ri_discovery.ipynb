{
 "cells": [
  {
   "cell_type": "code",
   "execution_count": 1,
   "metadata": {},
   "outputs": [],
   "source": [
    "%load_ext autoreload\n",
    "%autoreload 2"
   ]
  },
  {
   "cell_type": "code",
   "execution_count": 2,
   "metadata": {},
   "outputs": [],
   "source": [
    "import sys\n",
    "sys.path.append('../..')"
   ]
  },
  {
   "cell_type": "code",
   "execution_count": 15,
   "metadata": {},
   "outputs": [],
   "source": [
    "import deepmatcher as dm\n",
    "from utils.intermediate_layer_extraction import return_layer_input\n",
    "from utils.ri_calculator import computeRi\n",
    "import pandas as pd"
   ]
  },
  {
   "cell_type": "markdown",
   "metadata": {},
   "source": [
    "## Dataset creation with hybrid model"
   ]
  },
  {
   "cell_type": "code",
   "execution_count": 5,
   "metadata": {},
   "outputs": [],
   "source": [
    "attributes = ['title','authors','venue','year']"
   ]
  },
  {
   "cell_type": "code",
   "execution_count": 6,
   "metadata": {},
   "outputs": [],
   "source": [
    "hybrid_model = dm.MatchingModel(attr_summarizer='hybrid')\n",
    "hybrid_model.load_state('../../models/dblp_acm_hybrid.pth')"
   ]
  },
  {
   "cell_type": "code",
   "execution_count": 7,
   "metadata": {},
   "outputs": [],
   "source": [
    "testneg_hybrid,testneg_ids_hybrid = return_layer_input('../../Structured/DBLP-ACM/',\n",
    "                                                                         'test_negatives',\n",
    "                                                           batch_size=128,model=hybrid_model,\n",
    "                                                                         layer=hybrid_model.classifier,device=-1)"
   ]
  },
  {
   "cell_type": "code",
   "execution_count": 8,
   "metadata": {},
   "outputs": [],
   "source": [
    "testpos_hybrid,testpos_ids = return_layer_input('../../Structured/DBLP-ACM/','test_positives',\n",
    "                                                           batch_size=128,model=hybrid_model,\n",
    "                                                layer=hybrid_model.classifier,\n",
    "                                                          device=-1)"
   ]
  },
  {
   "cell_type": "code",
   "execution_count": 9,
   "metadata": {},
   "outputs": [],
   "source": [
    "positives_hybrid,pos_ids_hybrid = return_layer_input('../../Structured/DBLP-ACM/','positives',\n",
    "                                                           batch_size=128,model=hybrid_model,\n",
    "                                              layer=hybrid_model.classifier,\n",
    "                                                          device=-1)"
   ]
  },
  {
   "cell_type": "code",
   "execution_count": 10,
   "metadata": {},
   "outputs": [],
   "source": [
    "negatives_hybrid,neg_ids_hybrid = return_layer_input('../../Structured/DBLP-ACM/','negatives',\n",
    "                                                           batch_size=128,model=hybrid_model,\n",
    "                                              layer=hybrid_model.classifier,\n",
    "                                                          device=-1)"
   ]
  },
  {
   "cell_type": "code",
   "execution_count": 11,
   "metadata": {},
   "outputs": [],
   "source": [
    "hybrid_model = hybrid_model.cuda()"
   ]
  },
  {
   "cell_type": "code",
   "execution_count": 13,
   "metadata": {},
   "outputs": [],
   "source": [
    "## Basta scegliere un campione a caso\n",
    "classifier_len = len(testneg_hybrid[0][0])\n",
    "attribute_len = int(classifier_len/len(attributes))"
   ]
  },
  {
   "cell_type": "markdown",
   "metadata": {},
   "source": [
    "## Ri discovery"
   ]
  },
  {
   "cell_type": "markdown",
   "metadata": {},
   "source": [
    "### Negatives"
   ]
  },
  {
   "cell_type": "code",
   "execution_count": 16,
   "metadata": {},
   "outputs": [
    {
     "name": "stderr",
     "output_type": "stream",
     "text": [
      "100%|██████████| 128/128 [00:27<00:00,  4.75it/s]\n",
      "100%|██████████| 128/128 [00:26<00:00,  4.90it/s]\n",
      "100%|██████████| 128/128 [00:26<00:00,  4.92it/s]\n",
      "100%|██████████| 128/128 [00:27<00:00,  4.90it/s]\n",
      "100%|██████████| 128/128 [00:27<00:00,  4.91it/s]\n",
      "100%|██████████| 128/128 [00:27<00:00,  5.10it/s]\n",
      "100%|██████████| 128/128 [00:28<00:00,  4.48it/s]\n",
      "100%|██████████| 128/128 [00:28<00:00,  4.44it/s]\n",
      "100%|██████████| 128/128 [00:27<00:00,  4.63it/s]\n",
      "100%|██████████| 128/128 [00:26<00:00,  5.07it/s]\n",
      "100%|██████████| 128/128 [00:27<00:00,  4.44it/s]\n",
      "100%|██████████| 128/128 [00:26<00:00,  4.36it/s]\n",
      "100%|██████████| 128/128 [00:25<00:00,  5.18it/s]\n",
      "100%|██████████| 128/128 [00:26<00:00,  4.80it/s]\n",
      "100%|██████████| 128/128 [00:25<00:00,  5.27it/s]\n",
      "100%|██████████| 109/109 [00:20<00:00,  5.19it/s]\n"
     ]
    }
   ],
   "source": [
    "neg_ri,neg_ri_norms = computeRi(hybrid_model.classifier,attributes,testneg_hybrid,attribute_len,\n",
    "                               1)"
   ]
  },
  {
   "cell_type": "code",
   "execution_count": 18,
   "metadata": {},
   "outputs": [
    {
     "data": {
      "text/plain": [
       "<matplotlib.axes._subplots.AxesSubplot at 0x7f58b0a3d3c8>"
      ]
     },
     "execution_count": 18,
     "metadata": {},
     "output_type": "execute_result"
    },
    {
     "data": {
      "image/png": "[encoded data removed]",
      "text/plain": [
       "<Figure size 432x288 with 1 Axes>"
      ]
     },
     "metadata": {
      "needs_background": "light"
     },
     "output_type": "display_data"
    }
   ],
   "source": [
    "negatives_variation_df = pd.DataFrame(data= neg_ri_norms,columns=attributes)\n",
    "negatives_variation_df.sum(numeric_only=True).plot.bar()"
   ]
  },
  {
   "cell_type": "code",
   "execution_count": 25,
   "metadata": {},
   "outputs": [],
   "source": [
    "negatives_variation_df.to_csv('experiment_results/testneg_ri_hybrid.csv',index=False)"
   ]
  },
  {
   "cell_type": "markdown",
   "metadata": {},
   "source": [
    "### Positives"
   ]
  },
  {
   "cell_type": "code",
   "execution_count": 21,
   "metadata": {},
   "outputs": [
    {
     "name": "stderr",
     "output_type": "stream",
     "text": [
      "100%|██████████| 128/128 [00:12<00:00, 10.38it/s]\n",
      "100%|██████████| 128/128 [00:12<00:00,  9.96it/s]\n",
      "100%|██████████| 128/128 [00:12<00:00,  8.22it/s]\n",
      "100%|██████████| 60/60 [00:04<00:00, 12.40it/s]\n"
     ]
    }
   ],
   "source": [
    "pos_ri,pos_ri_norms = computeRi(hybrid_model.classifier,attributes,testpos_hybrid,attribute_len,\n",
    "                               0)"
   ]
  },
  {
   "cell_type": "code",
   "execution_count": 22,
   "metadata": {},
   "outputs": [
    {
     "data": {
      "text/plain": [
       "<matplotlib.axes._subplots.AxesSubplot at 0x7f589144c518>"
      ]
     },
     "execution_count": 22,
     "metadata": {},
     "output_type": "execute_result"
    },
    {
     "data": {
      "image/png": "[encoded data removed]",
      "text/plain": [
       "<Figure size 432x288 with 1 Axes>"
      ]
     },
     "metadata": {
      "needs_background": "light"
     },
     "output_type": "display_data"
    }
   ],
   "source": [
    "positives_variation_df = pd.DataFrame(data= pos_ri_norms,columns=attributes)\n",
    "positives_variation_df.sum(numeric_only=True).plot.bar()"
   ]
  },
  {
   "cell_type": "code",
   "execution_count": 23,
   "metadata": {},
   "outputs": [],
   "source": [
    "positives_variation_df.to_csv('experiment_results/testpos_ri_hybrid.csv',index=False)"
   ]
  },
  {
   "cell_type": "markdown",
   "metadata": {},
   "source": [
    "## Nearest neighbors discovery"
   ]
  },
  {
   "cell_type": "code",
   "execution_count": 26,
   "metadata": {},
   "outputs": [],
   "source": [
    "from utils.distance_measures import calculate_nearest_neighbors_onAttributes"
   ]
  },
  {
   "cell_type": "code",
   "execution_count": 28,
   "metadata": {},
   "outputs": [
    {
     "name": "stderr",
     "output_type": "stream",
     "text": [
      "100%|██████████| 128/128 [00:00<00:00, 238.99it/s]\n",
      "100%|██████████| 128/128 [00:00<00:00, 357.93it/s]\n",
      "100%|██████████| 128/128 [00:00<00:00, 357.51it/s]\n",
      "100%|██████████| 128/128 [00:00<00:00, 353.11it/s]\n",
      "100%|██████████| 128/128 [00:00<00:00, 345.13it/s]\n",
      "100%|██████████| 128/128 [00:00<00:00, 354.44it/s]\n",
      "100%|██████████| 128/128 [00:00<00:00, 359.94it/s]\n",
      "100%|██████████| 128/128 [00:00<00:00, 340.49it/s]\n",
      "100%|██████████| 128/128 [00:00<00:00, 351.88it/s]\n",
      "100%|██████████| 128/128 [00:00<00:00, 343.34it/s]\n",
      "100%|██████████| 128/128 [00:00<00:00, 349.70it/s]\n",
      "100%|██████████| 128/128 [00:00<00:00, 356.86it/s]\n",
      "100%|██████████| 128/128 [00:00<00:00, 356.70it/s]\n",
      "100%|██████████| 128/128 [00:00<00:00, 355.20it/s]\n",
      "100%|██████████| 128/128 [00:00<00:00, 355.28it/s]\n",
      "100%|██████████| 109/109 [00:00<00:00, 361.16it/s]\n"
     ]
    }
   ],
   "source": [
    "negatives_closer_vectors_df = calculate_nearest_neighbors_onAttributes(testneg_hybrid,testneg_ids_hybrid,\n",
    "                                                                       neg_ri,positives_hybrid,pos_ids_hybrid,\n",
    "                                                                      attributes,attribute_len,min_similarity=0.5)"
   ]
  },
  {
   "cell_type": "code",
   "execution_count": 30,
   "metadata": {},
   "outputs": [],
   "source": [
    "negatives_closer_vectors_df.to_csv('experiment_results/testneg_nn_hybrid_withfilter.csv',index=False)"
   ]
  },
  {
   "cell_type": "code",
   "execution_count": 31,
   "metadata": {},
   "outputs": [
    {
     "name": "stderr",
     "output_type": "stream",
     "text": [
      "100%|██████████| 128/128 [00:01<00:00, 87.09it/s]\n",
      "100%|██████████| 128/128 [00:01<00:00, 87.19it/s]\n",
      "100%|██████████| 128/128 [00:01<00:00, 88.68it/s]\n",
      "100%|██████████| 60/60 [00:00<00:00, 88.76it/s]\n"
     ]
    }
   ],
   "source": [
    "positives_closer_vectors_df = calculate_nearest_neighbors_onAttributes(testpos_hybrid,testpos_ids,pos_ri,\n",
    "                                                                      negatives_hybrid,neg_ids_hybrid,\n",
    "                                                                      attributes,attribute_len,min_similarity=0.5)"
   ]
  },
  {
   "cell_type": "code",
   "execution_count": 34,
   "metadata": {},
   "outputs": [],
   "source": [
    "positives_closer_vectors_df.to_csv('experiment_results/testpos_nn_hybrid_withfilter.csv',index=False)"
   ]
  }
 ],
 "metadata": {
  "kernelspec": {
   "display_name": "Python 3",
   "language": "python",
   "name": "python3"
  },
  "language_info": {
   "codemirror_mode": {
    "name": "ipython",
    "version": 3
   },
   "file_extension": ".py",
   "mimetype": "text/x-python",
   "name": "python",
   "nbconvert_exporter": "python",
   "pygments_lexer": "ipython3",
   "version": "3.6.9"
  }
 },
 "nbformat": 4,
 "nbformat_minor": 2
}

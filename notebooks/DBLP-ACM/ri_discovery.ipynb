{
 "cells": [
  {
   "cell_type": "code",
   "execution_count": 1,
   "metadata": {
    "ExecuteTime": {
     "end_time": "2020-02-09T11:37:38.278588Z",
     "start_time": "2020-02-09T11:37:38.260617Z"
    }
   },
   "outputs": [],
   "source": [
    "%load_ext autoreload\n",
    "%autoreload 2"
   ]
  },
  {
   "cell_type": "code",
   "execution_count": 2,
   "metadata": {
    "ExecuteTime": {
     "end_time": "2020-02-09T11:37:38.574218Z",
     "start_time": "2020-02-09T11:37:38.563648Z"
    }
   },
   "outputs": [],
   "source": [
    "import sys\n",
    "sys.path.append('../..')"
   ]
  },
  {
   "cell_type": "code",
   "execution_count": 3,
   "metadata": {
    "ExecuteTime": {
     "end_time": "2020-02-09T11:37:40.278826Z",
     "start_time": "2020-02-09T11:37:38.775726Z"
    }
   },
   "outputs": [],
   "source": [
    "import deepmatcher as dm\n",
    "from utils.intermediate_layer_extraction import returnLayerInputUnlabeled,return_layer_input\n",
    "from utils.ri_calculator import computeRi\n",
    "import pandas as pd\n",
    "import torch"
   ]
  },
  {
   "cell_type": "markdown",
   "metadata": {},
   "source": [
    "## Dataset creation with hybrid model"
   ]
  },
  {
   "cell_type": "code",
   "execution_count": 4,
   "metadata": {
    "ExecuteTime": {
     "end_time": "2020-02-09T11:37:40.309590Z",
     "start_time": "2020-02-09T11:37:40.281132Z"
    }
   },
   "outputs": [],
   "source": [
    "attributes = ['title','authors','venue','year']"
   ]
  },
  {
   "cell_type": "code",
   "execution_count": 5,
   "metadata": {
    "ExecuteTime": {
     "end_time": "2020-02-09T11:37:44.628657Z",
     "start_time": "2020-02-09T11:37:40.313244Z"
    }
   },
   "outputs": [],
   "source": [
    "hybrid_model = dm.MatchingModel(attr_summarizer='hybrid')\n",
    "hybrid_model.load_state('../../models/dblp_acm_hybrid2.pth')\n",
    "hybrid_model = hybrid_model.cuda()"
   ]
  },
  {
   "cell_type": "code",
   "execution_count": 6,
   "metadata": {
    "ExecuteTime": {
     "end_time": "2020-02-09T11:38:04.775231Z",
     "start_time": "2020-02-09T11:37:44.630804Z"
    }
   },
   "outputs": [
    {
     "name": "stderr",
     "output_type": "stream",
     "text": [
      "\n",
      "Reading and processing data from \"../../datasets/Structured/DBLP-ACM/test_negatives.csv\"\n",
      "0% [############################# ] 100% | ETA: 00:00:00"
     ]
    }
   ],
   "source": [
    "testneg = return_layer_input(hybrid_model,hybrid_model.classifier,\n",
    "                             '../../datasets/Structured/DBLP-ACM/','test_negatives')"
   ]
  },
  {
   "cell_type": "code",
   "execution_count": 7,
   "metadata": {
    "ExecuteTime": {
     "end_time": "2020-02-09T11:38:06.507543Z",
     "start_time": "2020-02-09T11:38:04.777409Z"
    }
   },
   "outputs": [
    {
     "name": "stderr",
     "output_type": "stream",
     "text": [
      "\n",
      "Reading and processing data from \"../../datasets/Structured/DBLP-ACM/test_positives.csv\"\n",
      "0% [############################# ] 100% | ETA: 00:00:00"
     ]
    }
   ],
   "source": [
    "testpos = return_layer_input(hybrid_model,hybrid_model.classifier,\n",
    "                             '../../datasets/Structured/DBLP-ACM/','test_positives')"
   ]
  },
  {
   "cell_type": "code",
   "execution_count": 19,
   "metadata": {
    "ExecuteTime": {
     "end_time": "2020-02-09T10:35:34.895639Z",
     "start_time": "2020-02-09T10:35:26.183534Z"
    }
   },
   "outputs": [
    {
     "name": "stderr",
     "output_type": "stream",
     "text": [
      "\n",
      "Reading and processing data from \"../../datasets/Structured/DBLP-ACM/positives.csv\"\n",
      "0% [############################# ] 100% | ETA: 00:00:00"
     ]
    }
   ],
   "source": [
    "positives = returnLayerInputUnlabeled(hybrid_model,hybrid_model.classifier,\n",
    "                               '../../datasets/Structured/DBLP-ACM/','positives')"
   ]
  },
  {
   "cell_type": "code",
   "execution_count": 20,
   "metadata": {
    "ExecuteTime": {
     "end_time": "2020-02-09T10:36:13.773713Z",
     "start_time": "2020-02-09T10:35:34.897813Z"
    }
   },
   "outputs": [
    {
     "name": "stderr",
     "output_type": "stream",
     "text": [
      "\n",
      "Reading and processing data from \"../../datasets/Structured/DBLP-ACM/negatives.csv\"\n",
      "0% [############################# ] 100% | ETA: 00:00:00"
     ]
    }
   ],
   "source": [
    "negatives = returnLayerInputUnlabeled(hybrid_model,hybrid_model.classifier,\n",
    "                               '../../datasets/Structured/DBLP-ACM/','negatives')"
   ]
  },
  {
   "cell_type": "code",
   "execution_count": 21,
   "metadata": {
    "ExecuteTime": {
     "end_time": "2020-02-09T10:36:13.802340Z",
     "start_time": "2020-02-09T10:36:13.776549Z"
    }
   },
   "outputs": [],
   "source": [
    "## Basta scegliere un campione a caso\n",
    "classifier_len = len(list(testneg.values())[0])\n",
    "attribute_len = int(classifier_len/len(attributes))"
   ]
  },
  {
   "cell_type": "markdown",
   "metadata": {},
   "source": [
    "## Ri discovery"
   ]
  },
  {
   "cell_type": "markdown",
   "metadata": {},
   "source": [
    "### Negatives"
   ]
  },
  {
   "cell_type": "code",
   "execution_count": 8,
   "metadata": {
    "ExecuteTime": {
     "end_time": "2020-02-09T11:47:40.233193Z",
     "start_time": "2020-02-09T11:38:24.265601Z"
    }
   },
   "outputs": [
    {
     "name": "stderr",
     "output_type": "stream",
     "text": [
      "100%|██████████| 2029/2029 [09:15<00:00,  3.65it/s]\n"
     ]
    }
   ],
   "source": [
    "neg_ri,neg_ri_norms = computeRi(hybrid_model.classifier,attributes,testneg,0)\n",
    "torch.save(neg_ri,'experiment_results/testneg_ri_hybrid.pt')"
   ]
  },
  {
   "cell_type": "code",
   "execution_count": 10,
   "metadata": {
    "ExecuteTime": {
     "end_time": "2020-02-09T11:48:06.347534Z",
     "start_time": "2020-02-09T11:48:06.094707Z"
    }
   },
   "outputs": [
    {
     "data": {
      "text/plain": [
       "<matplotlib.axes._subplots.AxesSubplot at 0x7f79742c1da0>"
      ]
     },
     "execution_count": 10,
     "metadata": {},
     "output_type": "execute_result"
    },
    {
     "data": {
      "image/png": "[encoded data removed]",
      "text/plain": [
       "<Figure size 432x288 with 1 Axes>"
      ]
     },
     "metadata": {
      "needs_background": "light"
     },
     "output_type": "display_data"
    }
   ],
   "source": [
    "neg_ri_norms.sum(numeric_only=True).plot.bar()"
   ]
  },
  {
   "cell_type": "code",
   "execution_count": 22,
   "metadata": {
    "ExecuteTime": {
     "end_time": "2020-02-08T17:02:14.332492Z",
     "start_time": "2020-02-08T17:02:14.264880Z"
    }
   },
   "outputs": [],
   "source": [
    "neg_ri_norms.to_csv('experiment_results/testneg_ri_norms.csv',index=False)"
   ]
  },
  {
   "cell_type": "markdown",
   "metadata": {},
   "source": [
    "### Positives"
   ]
  },
  {
   "cell_type": "code",
   "execution_count": 24,
   "metadata": {
    "ExecuteTime": {
     "end_time": "2020-02-09T10:42:25.798050Z",
     "start_time": "2020-02-09T10:40:25.342913Z"
    }
   },
   "outputs": [
    {
     "name": "stderr",
     "output_type": "stream",
     "text": [
      "\n",
      "  0%|          | 0/444 [00:00<?, ?it/s]\u001b[A\n",
      "  0%|          | 1/444 [00:00<00:55,  7.94it/s]\u001b[A\n",
      "  0%|          | 2/444 [00:00<00:58,  7.62it/s]\u001b[A\n",
      "  1%|          | 3/444 [00:00<01:16,  5.80it/s]\u001b[A\n",
      "  1%|          | 4/444 [00:00<01:41,  4.34it/s]\u001b[A\n",
      "  1%|          | 5/444 [00:01<01:48,  4.03it/s]\u001b[A\n",
      "  1%|▏         | 6/444 [00:01<01:56,  3.75it/s]\u001b[A\n",
      "  2%|▏         | 7/444 [00:01<02:07,  3.42it/s]\u001b[A\n",
      "  2%|▏         | 8/444 [00:02<02:08,  3.39it/s]\u001b[A\n",
      "  2%|▏         | 9/444 [00:02<02:15,  3.21it/s]\u001b[A\n",
      "  2%|▏         | 10/444 [00:02<02:25,  2.98it/s]\u001b[A\n",
      "  2%|▏         | 11/444 [00:03<02:21,  3.07it/s]\u001b[A\n",
      "  3%|▎         | 12/444 [00:03<02:28,  2.91it/s]\u001b[A\n",
      "  3%|▎         | 13/444 [00:03<02:24,  2.98it/s]\u001b[A\n",
      "  3%|▎         | 14/444 [00:04<02:17,  3.14it/s]\u001b[A\n",
      "  3%|▎         | 15/444 [00:04<02:17,  3.12it/s]\u001b[A\n",
      "  4%|▍         | 17/444 [00:04<01:49,  3.91it/s]\u001b[A\n",
      "  4%|▍         | 18/444 [00:04<01:44,  4.09it/s]\u001b[A\n",
      "  4%|▍         | 19/444 [00:05<01:27,  4.87it/s]\u001b[A\n",
      "  5%|▍         | 20/444 [00:05<01:38,  4.29it/s]\u001b[A\n",
      "  5%|▍         | 22/444 [00:05<01:36,  4.39it/s]\u001b[A\n",
      "  5%|▌         | 23/444 [00:06<01:42,  4.13it/s]\u001b[A\n",
      "  5%|▌         | 24/444 [00:06<01:59,  3.52it/s]\u001b[A\n",
      "  6%|▌         | 25/444 [00:06<01:56,  3.61it/s]\u001b[A\n",
      "  6%|▌         | 26/444 [00:07<02:02,  3.40it/s]\u001b[A\n",
      "  6%|▌         | 27/444 [00:07<01:54,  3.65it/s]\u001b[A\n",
      "  7%|▋         | 29/444 [00:07<01:37,  4.26it/s]\u001b[A\n",
      "  7%|▋         | 30/444 [00:07<01:34,  4.39it/s]\u001b[A\n",
      "  7%|▋         | 31/444 [00:07<01:31,  4.53it/s]\u001b[A\n",
      "  7%|▋         | 32/444 [00:08<01:29,  4.60it/s]\u001b[A\n",
      "  7%|▋         | 33/444 [00:08<01:27,  4.67it/s]\u001b[A\n",
      "  8%|▊         | 34/444 [00:08<01:35,  4.29it/s]\u001b[A\n",
      "  8%|▊         | 35/444 [00:09<01:54,  3.58it/s]\u001b[A\n",
      "  8%|▊         | 36/444 [00:09<02:03,  3.30it/s]\u001b[A\n",
      "  8%|▊         | 37/444 [00:09<01:48,  3.77it/s]\u001b[A\n",
      "  9%|▊         | 38/444 [00:09<01:57,  3.44it/s]\u001b[A\n",
      "  9%|▉         | 39/444 [00:10<02:13,  3.04it/s]\u001b[A\n",
      "  9%|▉         | 40/444 [00:10<02:19,  2.89it/s]\u001b[A\n",
      "  9%|▉         | 41/444 [00:11<02:16,  2.94it/s]\u001b[A\n",
      "  9%|▉         | 42/444 [00:11<02:20,  2.86it/s]\u001b[A\n",
      " 10%|▉         | 43/444 [00:11<01:59,  3.36it/s]\u001b[A\n",
      " 10%|▉         | 44/444 [00:11<01:43,  3.86it/s]\u001b[A\n",
      " 10%|█         | 45/444 [00:12<01:56,  3.43it/s]\u001b[A\n",
      " 10%|█         | 46/444 [00:12<01:39,  4.00it/s]\u001b[A\n",
      " 11%|█         | 47/444 [00:12<01:50,  3.61it/s]\u001b[A\n",
      " 11%|█         | 48/444 [00:12<01:39,  3.99it/s]\u001b[A\n",
      " 11%|█         | 49/444 [00:13<01:52,  3.51it/s]\u001b[A\n",
      " 11%|█▏        | 50/444 [00:13<01:43,  3.81it/s]\u001b[A\n",
      " 11%|█▏        | 51/444 [00:13<01:58,  3.31it/s]\u001b[A\n",
      " 12%|█▏        | 52/444 [00:14<02:09,  3.04it/s]\u001b[A\n",
      " 12%|█▏        | 53/444 [00:14<02:17,  2.85it/s]\u001b[A\n",
      " 12%|█▏        | 54/444 [00:15<03:05,  2.10it/s]\u001b[A\n",
      " 12%|█▏        | 55/444 [00:15<02:49,  2.30it/s]\u001b[A\n",
      " 13%|█▎        | 56/444 [00:15<02:28,  2.61it/s]\u001b[A\n",
      " 13%|█▎        | 58/444 [00:16<02:08,  3.01it/s]\u001b[A\n",
      " 13%|█▎        | 59/444 [00:16<01:50,  3.49it/s]\u001b[A\n",
      " 14%|█▎        | 60/444 [00:16<01:41,  3.78it/s]\u001b[A\n",
      " 14%|█▎        | 61/444 [00:17<01:47,  3.55it/s]\u001b[A\n",
      " 14%|█▍        | 62/444 [00:17<01:56,  3.29it/s]\u001b[A\n",
      " 14%|█▍        | 63/444 [00:17<02:00,  3.15it/s]\u001b[A\n",
      " 14%|█▍        | 64/444 [00:18<01:49,  3.47it/s]\u001b[A\n",
      " 15%|█▍        | 65/444 [00:18<01:38,  3.83it/s]\u001b[A\n",
      " 15%|█▍        | 66/444 [00:18<01:27,  4.33it/s]\u001b[A\n",
      " 15%|█▌        | 67/444 [00:18<01:38,  3.85it/s]\u001b[A\n",
      " 15%|█▌        | 68/444 [00:18<01:27,  4.32it/s]\u001b[A\n",
      " 16%|█▌        | 69/444 [00:19<01:20,  4.64it/s]\u001b[A\n",
      " 16%|█▌        | 70/444 [00:19<01:35,  3.93it/s]\u001b[A\n",
      " 16%|█▌        | 71/444 [00:19<01:30,  4.13it/s]\u001b[A\n",
      " 16%|█▋        | 73/444 [00:19<01:11,  5.21it/s]\u001b[A\n",
      " 17%|█▋        | 74/444 [00:20<01:23,  4.41it/s]\u001b[A\n",
      " 17%|█▋        | 75/444 [00:20<01:13,  5.02it/s]\u001b[A\n",
      " 17%|█▋        | 76/444 [00:20<01:27,  4.20it/s]\u001b[A\n",
      " 17%|█▋        | 77/444 [00:20<01:41,  3.62it/s]\u001b[A\n",
      " 18%|█▊        | 78/444 [00:21<01:54,  3.21it/s]\u001b[A\n",
      " 18%|█▊        | 79/444 [00:21<01:52,  3.24it/s]\u001b[A\n",
      " 18%|█▊        | 80/444 [00:21<01:58,  3.08it/s]\u001b[A\n",
      " 18%|█▊        | 81/444 [00:22<01:56,  3.11it/s]\u001b[A\n",
      " 19%|█▊        | 83/444 [00:22<01:47,  3.37it/s]\u001b[A\n",
      " 19%|█▉        | 84/444 [00:23<01:53,  3.18it/s]\u001b[A\n",
      " 19%|█▉        | 85/444 [00:23<02:00,  2.97it/s]\u001b[A\n",
      " 19%|█▉        | 86/444 [00:23<02:01,  2.93it/s]\u001b[A\n",
      " 20%|█▉        | 87/444 [00:23<01:40,  3.54it/s]\u001b[A\n",
      " 20%|█▉        | 88/444 [00:24<01:30,  3.92it/s]\u001b[A\n",
      " 20%|██        | 89/444 [00:24<01:31,  3.88it/s]\u001b[A\n",
      " 20%|██        | 90/444 [00:24<01:43,  3.41it/s]\u001b[A\n",
      " 20%|██        | 91/444 [00:24<01:24,  4.16it/s]\u001b[A\n",
      " 21%|██        | 92/444 [00:25<01:22,  4.26it/s]\u001b[A\n",
      " 21%|██        | 93/444 [00:25<01:33,  3.76it/s]\u001b[A\n",
      " 21%|██        | 94/444 [00:25<01:46,  3.28it/s]\u001b[A\n",
      " 21%|██▏       | 95/444 [00:26<01:55,  3.02it/s]\u001b[A\n",
      " 22%|██▏       | 96/444 [00:26<02:01,  2.87it/s]\u001b[A\n",
      " 22%|██▏       | 97/444 [00:26<01:42,  3.39it/s]\u001b[A\n",
      " 22%|██▏       | 98/444 [00:27<01:38,  3.52it/s]\u001b[A\n",
      " 22%|██▏       | 99/444 [00:27<01:43,  3.35it/s]\u001b[A\n",
      " 23%|██▎       | 100/444 [00:27<01:41,  3.40it/s]\u001b[A\n",
      " 23%|██▎       | 101/444 [00:27<01:27,  3.93it/s]\u001b[A\n",
      " 23%|██▎       | 102/444 [00:28<01:39,  3.42it/s]\u001b[A\n",
      " 23%|██▎       | 103/444 [00:28<01:45,  3.22it/s]\u001b[A\n",
      " 23%|██▎       | 104/444 [00:28<01:47,  3.17it/s]\u001b[A\n",
      " 24%|██▎       | 105/444 [00:29<01:42,  3.30it/s]\u001b[A\n",
      " 24%|██▍       | 106/444 [00:29<01:45,  3.21it/s]\u001b[A\n",
      " 24%|██▍       | 107/444 [00:29<01:33,  3.59it/s]\u001b[A\n",
      " 24%|██▍       | 108/444 [00:29<01:20,  4.20it/s]\u001b[A\n",
      " 25%|██▍       | 110/444 [00:30<01:14,  4.46it/s]\u001b[A\n",
      " 25%|██▌       | 111/444 [00:30<01:09,  4.77it/s]\u001b[A\n",
      " 25%|██▌       | 112/444 [00:30<01:22,  4.03it/s]\u001b[A\n",
      " 25%|██▌       | 113/444 [00:31<01:29,  3.70it/s]\u001b[A\n",
      " 26%|██▌       | 114/444 [00:31<01:32,  3.55it/s]\u001b[A\n",
      " 26%|██▌       | 115/444 [00:31<01:44,  3.15it/s]\u001b[A\n",
      " 26%|██▌       | 116/444 [00:32<01:35,  3.44it/s]\u001b[A\n",
      " 27%|██▋       | 118/444 [00:32<01:26,  3.79it/s]\u001b[A\n",
      " 27%|██▋       | 119/444 [00:32<01:27,  3.73it/s]\u001b[A\n",
      " 27%|██▋       | 120/444 [00:32<01:24,  3.84it/s]\u001b[A\n",
      " 27%|██▋       | 121/444 [00:33<01:20,  4.00it/s]\u001b[A\n",
      " 27%|██▋       | 122/444 [00:33<01:18,  4.11it/s]\u001b[A\n",
      " 28%|██▊       | 124/444 [00:33<01:14,  4.32it/s]\u001b[A\n",
      " 28%|██▊       | 125/444 [00:34<01:18,  4.06it/s]\u001b[A\n",
      " 28%|██▊       | 126/444 [00:34<01:29,  3.57it/s]\u001b[A\n",
      " 29%|██▊       | 127/444 [00:34<01:22,  3.85it/s]\u001b[A\n",
      " 29%|██▉       | 128/444 [00:34<01:25,  3.69it/s]\u001b[A\n",
      " 29%|██▉       | 129/444 [00:35<01:27,  3.59it/s]\u001b[A\n",
      " 30%|██▉       | 131/444 [00:35<01:15,  4.16it/s]\u001b[A\n",
      " 30%|██▉       | 132/444 [00:35<01:20,  3.86it/s]\u001b[A\n",
      " 30%|██▉       | 133/444 [00:36<01:22,  3.76it/s]\u001b[A\n",
      " 30%|███       | 134/444 [00:36<01:22,  3.75it/s]\u001b[A\n",
      " 30%|███       | 135/444 [00:36<01:14,  4.14it/s]\u001b[A\n",
      " 31%|███       | 136/444 [00:36<01:20,  3.83it/s]\u001b[A\n",
      " 31%|███       | 137/444 [00:37<01:27,  3.52it/s]\u001b[A\n",
      " 31%|███       | 138/444 [00:37<01:14,  4.09it/s]\u001b[A\n",
      " 32%|███▏      | 140/444 [00:37<01:10,  4.28it/s]\u001b[A\n",
      " 32%|███▏      | 141/444 [00:38<01:15,  3.99it/s]\u001b[A\n",
      " 32%|███▏      | 142/444 [00:38<01:22,  3.64it/s]\u001b[A\n",
      " 32%|███▏      | 143/444 [00:38<01:26,  3.48it/s]\u001b[A\n",
      " 32%|███▏      | 144/444 [00:39<01:30,  3.31it/s]\u001b[A\n",
      " 33%|███▎      | 145/444 [00:39<01:31,  3.29it/s]\u001b[A\n",
      " 33%|███▎      | 146/444 [00:39<01:17,  3.84it/s]\u001b[A\n",
      " 33%|███▎      | 147/444 [00:39<01:19,  3.74it/s]\u001b[A\n",
      " 33%|███▎      | 148/444 [00:40<01:23,  3.57it/s]\u001b[A\n",
      " 34%|███▎      | 149/444 [00:40<01:07,  4.38it/s]\u001b[A\n",
      " 34%|███▍      | 150/444 [00:40<01:09,  4.21it/s]\u001b[A\n",
      " 34%|███▍      | 151/444 [00:40<01:17,  3.76it/s]\u001b[A\n",
      " 34%|███▍      | 152/444 [00:41<01:26,  3.39it/s]\u001b[A\n",
      " 34%|███▍      | 153/444 [00:41<01:16,  3.80it/s]\u001b[A\n",
      " 35%|███▍      | 154/444 [00:41<01:10,  4.12it/s]\u001b[A\n",
      " 35%|███▍      | 155/444 [00:41<01:20,  3.57it/s]\u001b[A\n",
      " 35%|███▌      | 156/444 [00:42<01:20,  3.59it/s]\u001b[A\n",
      " 36%|███▌      | 158/444 [00:42<01:12,  3.94it/s]\u001b[A\n",
      " 36%|███▌      | 159/444 [00:42<01:19,  3.58it/s]\u001b[A\n",
      " 36%|███▌      | 160/444 [00:43<01:24,  3.34it/s]\u001b[A\n",
      " 36%|███▋      | 161/444 [00:43<01:14,  3.81it/s]\u001b[A\n",
      " 36%|███▋      | 162/444 [00:43<01:10,  3.97it/s]\u001b[A\n",
      " 37%|███▋      | 163/444 [00:43<01:04,  4.33it/s]\u001b[A\n",
      " 37%|███▋      | 164/444 [00:44<01:10,  3.99it/s]\u001b[A\n",
      " 37%|███▋      | 165/444 [00:44<01:00,  4.63it/s]\u001b[A\n",
      " 37%|███▋      | 166/444 [00:44<00:51,  5.36it/s]\u001b[A\n",
      " 38%|███▊      | 167/444 [00:44<00:47,  5.83it/s]\u001b[A\n",
      " 38%|███▊      | 168/444 [00:44<01:01,  4.47it/s]\u001b[A\n",
      " 38%|███▊      | 169/444 [00:45<01:13,  3.76it/s]\u001b[A\n",
      " 38%|███▊      | 170/444 [00:45<01:16,  3.60it/s]\u001b[A\n",
      " 39%|███▊      | 171/444 [00:45<01:19,  3.43it/s]\u001b[A\n",
      " 39%|███▊      | 172/444 [00:46<01:24,  3.22it/s]\u001b[A\n",
      " 39%|███▉      | 173/444 [00:46<01:10,  3.87it/s]\u001b[A\n",
      " 39%|███▉      | 174/444 [00:46<01:04,  4.21it/s]\u001b[A\n",
      " 39%|███▉      | 175/444 [00:46<00:53,  5.01it/s]\u001b[A\n",
      " 40%|███▉      | 176/444 [00:47<01:00,  4.44it/s]\u001b[A\n",
      " 40%|███▉      | 177/444 [00:47<01:09,  3.82it/s]\u001b[A\n",
      " 40%|████      | 178/444 [00:47<01:13,  3.64it/s]\u001b[A\n",
      " 40%|████      | 179/444 [00:47<01:08,  3.86it/s]\u001b[A\n",
      " 41%|████      | 180/444 [00:48<01:07,  3.89it/s]\u001b[A\n",
      " 41%|████      | 181/444 [00:48<01:18,  3.36it/s]\u001b[A\n",
      " 41%|████      | 182/444 [00:48<01:07,  3.89it/s]\u001b[A\n",
      " 41%|████      | 183/444 [00:48<01:03,  4.13it/s]\u001b[A\n",
      " 41%|████▏     | 184/444 [00:49<01:12,  3.60it/s]\u001b[A\n",
      " 42%|████▏     | 185/444 [00:49<01:04,  4.00it/s]\u001b[A\n",
      " 42%|████▏     | 186/444 [00:49<00:55,  4.62it/s]\u001b[A\n",
      " 42%|████▏     | 187/444 [00:49<01:05,  3.90it/s]\u001b[A\n",
      " 42%|████▏     | 188/444 [00:50<01:04,  3.94it/s]\u001b[A\n",
      " 43%|████▎     | 189/444 [00:50<01:01,  4.12it/s]\u001b[A\n",
      " 43%|████▎     | 190/444 [00:50<01:05,  3.91it/s]\u001b[A\n",
      " 43%|████▎     | 191/444 [00:51<01:10,  3.61it/s]\u001b[A\n",
      " 43%|████▎     | 192/444 [00:51<01:05,  3.86it/s]\u001b[A\n",
      " 43%|████▎     | 193/444 [00:51<01:10,  3.58it/s]\u001b[A\n",
      " 44%|████▎     | 194/444 [00:51<01:11,  3.49it/s]\u001b[A\n",
      " 44%|████▍     | 195/444 [00:52<01:08,  3.63it/s]\u001b[A\n",
      " 44%|████▍     | 196/444 [00:52<01:00,  4.13it/s]\u001b[A\n",
      " 44%|████▍     | 197/444 [00:52<01:09,  3.54it/s]\u001b[A\n",
      " 45%|████▍     | 198/444 [00:53<01:18,  3.15it/s]\u001b[A\n",
      " 45%|████▍     | 199/444 [00:53<01:25,  2.88it/s]\u001b[A\n",
      " 45%|████▌     | 200/444 [00:53<01:27,  2.77it/s]\u001b[A\n",
      " 45%|████▌     | 201/444 [00:54<01:16,  3.19it/s]\u001b[A\n",
      " 45%|████▌     | 202/444 [00:54<01:09,  3.47it/s]\u001b[A\n",
      " 46%|████▌     | 203/444 [00:54<01:11,  3.39it/s]\u001b[A\n",
      " 46%|████▌     | 205/444 [00:55<01:03,  3.74it/s]\u001b[A\n",
      " 46%|████▋     | 206/444 [00:55<00:53,  4.46it/s]\u001b[A\n",
      " 47%|████▋     | 207/444 [00:55<00:48,  4.90it/s]\u001b[A\n",
      " 47%|████▋     | 208/444 [00:55<00:42,  5.50it/s]\u001b[A\n",
      " 47%|████▋     | 209/444 [00:55<00:53,  4.40it/s]\u001b[A\n",
      " 47%|████▋     | 210/444 [00:55<00:51,  4.54it/s]\u001b[A\n",
      " 48%|████▊     | 211/444 [00:56<00:51,  4.49it/s]\u001b[A\n",
      " 48%|████▊     | 212/444 [00:56<00:55,  4.14it/s]\u001b[A\n",
      " 48%|████▊     | 213/444 [00:56<01:03,  3.66it/s]\u001b[A\n",
      " 48%|████▊     | 214/444 [00:56<00:54,  4.25it/s]\u001b[A\n",
      " 48%|████▊     | 215/444 [00:57<00:58,  3.89it/s]\u001b[A\n",
      " 49%|████▊     | 216/444 [00:57<01:05,  3.50it/s]\u001b[A\n",
      " 49%|████▉     | 217/444 [00:57<01:05,  3.45it/s]\u001b[A\n",
      " 49%|████▉     | 218/444 [00:58<01:09,  3.23it/s]\u001b[A\n",
      " 49%|████▉     | 219/444 [00:58<01:05,  3.41it/s]\u001b[A\n",
      " 50%|████▉     | 220/444 [00:58<00:58,  3.80it/s]\u001b[A\n",
      " 50%|████▉     | 221/444 [00:58<00:54,  4.12it/s]\u001b[A\n",
      " 50%|█████     | 222/444 [00:59<00:57,  3.89it/s]\u001b[A\n",
      " 50%|█████     | 223/444 [00:59<00:58,  3.80it/s]\u001b[A\n",
      " 50%|█████     | 224/444 [00:59<01:00,  3.63it/s]\u001b[A\n",
      " 51%|█████     | 225/444 [01:00<00:55,  3.95it/s]\u001b[A\n",
      " 51%|█████     | 226/444 [01:00<00:57,  3.78it/s]\u001b[A\n",
      " 51%|█████     | 227/444 [01:00<01:00,  3.58it/s]\u001b[A\n",
      " 51%|█████▏    | 228/444 [01:00<01:05,  3.32it/s]\u001b[A\n",
      " 52%|█████▏    | 229/444 [01:01<01:07,  3.20it/s]\u001b[A\n",
      " 52%|█████▏    | 230/444 [01:01<00:54,  3.96it/s]\u001b[A\n",
      " 52%|█████▏    | 231/444 [01:01<00:57,  3.71it/s]\u001b[A\n",
      " 52%|█████▏    | 232/444 [01:01<00:56,  3.73it/s]\u001b[A\n",
      " 52%|█████▏    | 233/444 [01:02<00:59,  3.52it/s]\u001b[A\n",
      " 53%|█████▎    | 234/444 [01:02<00:55,  3.78it/s]\u001b[A\n",
      " 53%|█████▎    | 235/444 [01:02<00:54,  3.82it/s]\u001b[A\n",
      " 53%|█████▎    | 236/444 [01:02<00:45,  4.61it/s]\u001b[A\n",
      " 53%|█████▎    | 237/444 [01:03<00:48,  4.23it/s]\u001b[A\n",
      " 54%|█████▎    | 238/444 [01:03<00:42,  4.80it/s]\u001b[A\n",
      " 54%|█████▍    | 239/444 [01:03<00:42,  4.78it/s]\u001b[A\n",
      " 54%|█████▍    | 240/444 [01:03<00:41,  4.91it/s]\u001b[A\n",
      " 54%|█████▍    | 241/444 [01:04<00:50,  3.98it/s]\u001b[A\n",
      " 55%|█████▍    | 242/444 [01:04<00:57,  3.51it/s]\u001b[A\n",
      " 55%|█████▍    | 243/444 [01:04<00:54,  3.66it/s]\u001b[A\n",
      " 55%|█████▌    | 245/444 [01:05<00:49,  4.04it/s]\u001b[A\n",
      " 55%|█████▌    | 246/444 [01:05<00:54,  3.64it/s]\u001b[A\n",
      " 56%|█████▌    | 247/444 [01:05<00:57,  3.42it/s]\u001b[A\n",
      " 56%|█████▌    | 248/444 [01:06<01:02,  3.14it/s]\u001b[A\n",
      " 56%|█████▌    | 249/444 [01:06<00:54,  3.55it/s]\u001b[A\n",
      " 56%|█████▋    | 250/444 [01:06<00:44,  4.33it/s]\u001b[A\n",
      " 57%|█████▋    | 251/444 [01:06<00:50,  3.81it/s]\u001b[A\n",
      " 57%|█████▋    | 252/444 [01:07<00:55,  3.47it/s]\u001b[A\n",
      " 57%|█████▋    | 253/444 [01:07<00:51,  3.70it/s]\u001b[A\n",
      " 57%|█████▋    | 254/444 [01:07<00:54,  3.49it/s]\u001b[A\n",
      " 57%|█████▋    | 255/444 [01:07<00:53,  3.51it/s]\u001b[A\n",
      " 58%|█████▊    | 256/444 [01:08<00:48,  3.91it/s]\u001b[A\n",
      " 58%|█████▊    | 257/444 [01:08<00:52,  3.55it/s]\u001b[A\n",
      " 58%|█████▊    | 258/444 [01:08<00:54,  3.41it/s]\u001b[A\n",
      " 58%|█████▊    | 259/444 [01:09<00:56,  3.28it/s]\u001b[A\n",
      " 59%|█████▊    | 260/444 [01:09<00:56,  3.24it/s]\u001b[A\n",
      " 59%|█████▉    | 261/444 [01:09<00:57,  3.16it/s]\u001b[A\n",
      " 59%|█████▉    | 262/444 [01:10<00:52,  3.47it/s]\u001b[A\n",
      " 59%|█████▉    | 263/444 [01:10<00:50,  3.58it/s]\u001b[A\n",
      " 59%|█████▉    | 264/444 [01:10<00:51,  3.47it/s]\u001b[A\n",
      " 60%|█████▉    | 265/444 [01:10<00:41,  4.30it/s]\u001b[A\n",
      " 60%|█████▉    | 266/444 [01:10<00:35,  4.95it/s]\u001b[A\n",
      " 60%|██████    | 267/444 [01:11<00:43,  4.08it/s]\u001b[A\n",
      " 60%|██████    | 268/444 [01:11<00:39,  4.49it/s]\u001b[A\n",
      " 61%|██████    | 269/444 [01:11<00:45,  3.89it/s]\u001b[A\n",
      " 61%|██████    | 270/444 [01:11<00:46,  3.71it/s]\u001b[A\n",
      " 61%|██████    | 271/444 [01:12<00:39,  4.36it/s]\u001b[A\n",
      " 61%|██████▏   | 272/444 [01:12<00:43,  3.98it/s]\u001b[A\n",
      " 61%|██████▏   | 273/444 [01:12<00:46,  3.70it/s]\u001b[A\n",
      " 62%|██████▏   | 274/444 [01:12<00:47,  3.61it/s]\u001b[A\n",
      " 62%|██████▏   | 275/444 [01:13<00:50,  3.32it/s]\u001b[A\n",
      " 62%|██████▏   | 276/444 [01:13<00:44,  3.79it/s]\u001b[A\n",
      " 62%|██████▏   | 277/444 [01:13<00:47,  3.54it/s]\u001b[A\n",
      " 63%|██████▎   | 278/444 [01:14<00:40,  4.14it/s]\u001b[A\n",
      " 63%|██████▎   | 279/444 [01:14<00:41,  3.99it/s]\u001b[A\n",
      " 63%|██████▎   | 280/444 [01:14<00:41,  3.99it/s]\u001b[A\n",
      " 63%|██████▎   | 281/444 [01:14<00:45,  3.60it/s]\u001b[A\n",
      " 64%|██████▎   | 282/444 [01:15<00:45,  3.53it/s]\u001b[A\n",
      " 64%|██████▎   | 283/444 [01:15<00:38,  4.22it/s]\u001b[A\n",
      " 64%|██████▍   | 284/444 [01:15<00:33,  4.75it/s]\u001b[A\n",
      " 64%|██████▍   | 285/444 [01:15<00:33,  4.81it/s]\u001b[A\n",
      " 64%|██████▍   | 286/444 [01:15<00:37,  4.26it/s]\u001b[A\n",
      " 65%|██████▍   | 287/444 [01:16<00:39,  3.98it/s]\u001b[A\n",
      " 65%|██████▍   | 288/444 [01:16<00:36,  4.24it/s]\u001b[A\n",
      " 65%|██████▌   | 289/444 [01:16<00:46,  3.36it/s]\u001b[A\n",
      " 65%|██████▌   | 290/444 [01:17<00:43,  3.58it/s]\u001b[A\n",
      " 66%|██████▌   | 291/444 [01:17<00:42,  3.56it/s]\u001b[A\n",
      " 66%|██████▌   | 292/444 [01:17<00:49,  3.08it/s]\u001b[A\n",
      " 66%|██████▌   | 293/444 [01:18<00:52,  2.85it/s]\u001b[A\n",
      " 66%|██████▌   | 294/444 [01:18<00:57,  2.62it/s]\u001b[A\n",
      " 66%|██████▋   | 295/444 [01:19<00:55,  2.67it/s]\u001b[A\n",
      " 67%|██████▋   | 296/444 [01:19<00:50,  2.95it/s]\u001b[A\n",
      " 67%|██████▋   | 297/444 [01:19<00:47,  3.06it/s]\u001b[A\n",
      " 67%|██████▋   | 298/444 [01:19<00:44,  3.30it/s]\u001b[A\n",
      " 67%|██████▋   | 299/444 [01:20<00:45,  3.17it/s]\u001b[A\n",
      " 68%|██████▊   | 302/444 [01:20<00:36,  3.94it/s]\u001b[A\n",
      " 68%|██████▊   | 303/444 [01:20<00:39,  3.57it/s]\u001b[A\n",
      " 68%|██████▊   | 304/444 [01:21<00:40,  3.47it/s]\u001b[A\n",
      " 69%|██████▊   | 305/444 [01:21<00:44,  3.15it/s]\u001b[A\n",
      " 69%|██████▉   | 306/444 [01:21<00:40,  3.40it/s]\u001b[A\n",
      " 69%|██████▉   | 307/444 [01:22<00:43,  3.15it/s]\u001b[A\n",
      " 69%|██████▉   | 308/444 [01:22<00:37,  3.60it/s]\u001b[A\n",
      " 70%|██████▉   | 309/444 [01:22<00:33,  4.05it/s]\u001b[A\n",
      " 70%|██████▉   | 310/444 [01:22<00:33,  4.01it/s]\u001b[A\n",
      " 70%|███████   | 311/444 [01:22<00:30,  4.41it/s]\u001b[A\n",
      " 70%|███████   | 312/444 [01:23<00:35,  3.68it/s]\u001b[A\n",
      " 70%|███████   | 313/444 [01:23<00:34,  3.79it/s]\u001b[A\n",
      " 71%|███████   | 314/444 [01:23<00:32,  3.99it/s]\u001b[A\n",
      " 71%|███████   | 315/444 [01:24<00:34,  3.76it/s]\u001b[A\n",
      " 71%|███████   | 316/444 [01:24<00:37,  3.41it/s]\u001b[A\n",
      " 71%|███████▏  | 317/444 [01:24<00:36,  3.46it/s]\u001b[A\n",
      " 72%|███████▏  | 318/444 [01:24<00:32,  3.83it/s]\u001b[A\n",
      " 72%|███████▏  | 319/444 [01:25<00:28,  4.42it/s]\u001b[A\n",
      " 72%|███████▏  | 320/444 [01:25<00:33,  3.76it/s]\u001b[A\n",
      " 72%|███████▏  | 321/444 [01:25<00:35,  3.46it/s]\u001b[A\n",
      " 73%|███████▎  | 322/444 [01:26<00:37,  3.27it/s]\u001b[A\n",
      " 73%|███████▎  | 323/444 [01:26<00:33,  3.60it/s]\u001b[A\n",
      " 73%|███████▎  | 324/444 [01:26<00:37,  3.22it/s]\u001b[A\n",
      " 73%|███████▎  | 325/444 [01:26<00:34,  3.44it/s]\u001b[A\n"
     ]
    },
    {
     "name": "stderr",
     "output_type": "stream",
     "text": [
      " 73%|███████▎  | 326/444 [01:27<00:36,  3.24it/s]\u001b[A\n",
      " 74%|███████▎  | 327/444 [01:27<00:37,  3.15it/s]\u001b[A\n",
      " 74%|███████▍  | 328/444 [01:27<00:35,  3.23it/s]\u001b[A\n",
      " 74%|███████▍  | 330/444 [01:28<00:29,  3.93it/s]\u001b[A\n",
      " 75%|███████▍  | 331/444 [01:28<00:24,  4.57it/s]\u001b[A\n",
      " 75%|███████▍  | 332/444 [01:28<00:27,  4.10it/s]\u001b[A\n",
      " 75%|███████▌  | 333/444 [01:28<00:22,  4.89it/s]\u001b[A\n",
      " 75%|███████▌  | 334/444 [01:29<00:27,  3.99it/s]\u001b[A\n",
      " 75%|███████▌  | 335/444 [01:29<00:29,  3.70it/s]\u001b[A\n",
      " 76%|███████▌  | 336/444 [01:29<00:23,  4.51it/s]\u001b[A\n",
      " 76%|███████▌  | 337/444 [01:29<00:28,  3.77it/s]\u001b[A\n",
      " 76%|███████▌  | 338/444 [01:30<00:25,  4.10it/s]\u001b[A\n",
      " 76%|███████▋  | 339/444 [01:30<00:25,  4.15it/s]\u001b[A\n",
      " 77%|███████▋  | 340/444 [01:30<00:29,  3.52it/s]\u001b[A\n",
      " 77%|███████▋  | 341/444 [01:31<00:32,  3.20it/s]\u001b[A\n",
      " 77%|███████▋  | 342/444 [01:31<00:33,  3.07it/s]\u001b[A\n",
      " 77%|███████▋  | 343/444 [01:31<00:33,  3.01it/s]\u001b[A\n",
      " 77%|███████▋  | 344/444 [01:32<00:33,  3.01it/s]\u001b[A\n",
      " 78%|███████▊  | 345/444 [01:32<00:28,  3.47it/s]\u001b[A\n",
      " 78%|███████▊  | 346/444 [01:32<00:30,  3.26it/s]\u001b[A\n",
      " 78%|███████▊  | 347/444 [01:32<00:25,  3.80it/s]\u001b[A\n",
      " 78%|███████▊  | 348/444 [01:33<00:27,  3.47it/s]\u001b[A\n",
      " 79%|███████▊  | 349/444 [01:33<00:23,  4.00it/s]\u001b[A\n",
      " 79%|███████▉  | 350/444 [01:33<00:26,  3.61it/s]\u001b[A\n",
      " 79%|███████▉  | 351/444 [01:34<00:27,  3.36it/s]\u001b[A\n",
      " 79%|███████▉  | 352/444 [01:34<00:29,  3.15it/s]\u001b[A\n",
      " 80%|███████▉  | 353/444 [01:34<00:24,  3.69it/s]\u001b[A\n",
      " 80%|███████▉  | 354/444 [01:34<00:26,  3.37it/s]\u001b[A\n",
      " 80%|███████▉  | 355/444 [01:35<00:28,  3.13it/s]\u001b[A\n",
      " 80%|████████  | 356/444 [01:35<00:29,  2.99it/s]\u001b[A\n",
      " 80%|████████  | 357/444 [01:35<00:23,  3.70it/s]\u001b[A\n",
      " 81%|████████  | 358/444 [01:36<00:24,  3.49it/s]\u001b[A\n",
      " 81%|████████  | 359/444 [01:36<00:21,  3.87it/s]\u001b[A\n",
      " 81%|████████  | 360/444 [01:36<00:20,  4.13it/s]\u001b[A\n",
      " 81%|████████▏ | 361/444 [01:36<00:17,  4.70it/s]\u001b[A\n",
      " 82%|████████▏ | 362/444 [01:36<00:18,  4.53it/s]\u001b[A\n",
      " 82%|████████▏ | 363/444 [01:37<00:22,  3.67it/s]\u001b[A\n",
      " 82%|████████▏ | 364/444 [01:37<00:18,  4.28it/s]\u001b[A\n",
      " 82%|████████▏ | 365/444 [01:37<00:21,  3.76it/s]\u001b[A\n",
      " 83%|████████▎ | 367/444 [01:38<00:19,  3.97it/s]\u001b[A\n",
      " 83%|████████▎ | 368/444 [01:38<00:18,  4.09it/s]\u001b[A\n",
      " 83%|████████▎ | 369/444 [01:38<00:19,  3.93it/s]\u001b[A\n",
      " 83%|████████▎ | 370/444 [01:39<00:21,  3.46it/s]\u001b[A\n",
      " 84%|████████▎ | 371/444 [01:39<00:23,  3.13it/s]\u001b[A\n",
      " 84%|████████▍ | 372/444 [01:39<00:22,  3.20it/s]\u001b[A\n",
      " 84%|████████▍ | 373/444 [01:39<00:19,  3.71it/s]\u001b[A\n",
      " 84%|████████▍ | 374/444 [01:40<00:17,  4.09it/s]\u001b[A\n",
      " 84%|████████▍ | 375/444 [01:40<00:15,  4.44it/s]\u001b[A\n",
      " 85%|████████▍ | 376/444 [01:40<00:17,  3.83it/s]\u001b[A\n",
      " 85%|████████▍ | 377/444 [01:40<00:16,  4.15it/s]\u001b[A\n",
      " 85%|████████▌ | 378/444 [01:40<00:13,  4.73it/s]\u001b[A\n",
      " 85%|████████▌ | 379/444 [01:41<00:17,  3.79it/s]\u001b[A\n",
      " 86%|████████▌ | 380/444 [01:41<00:17,  3.63it/s]\u001b[A\n",
      " 86%|████████▌ | 381/444 [01:42<00:18,  3.35it/s]\u001b[A\n",
      " 86%|████████▌ | 382/444 [01:42<00:20,  3.03it/s]\u001b[A\n",
      " 86%|████████▋ | 383/444 [01:42<00:17,  3.39it/s]\u001b[A\n",
      " 86%|████████▋ | 384/444 [01:42<00:18,  3.27it/s]\u001b[A\n",
      " 87%|████████▋ | 385/444 [01:43<00:19,  2.99it/s]\u001b[A\n",
      " 87%|████████▋ | 386/444 [01:43<00:20,  2.83it/s]\u001b[A\n",
      " 87%|████████▋ | 387/444 [01:44<00:20,  2.73it/s]\u001b[A\n",
      " 87%|████████▋ | 388/444 [01:44<00:19,  2.82it/s]\u001b[A\n",
      " 88%|████████▊ | 389/444 [01:44<00:16,  3.32it/s]\u001b[A\n",
      " 88%|████████▊ | 390/444 [01:45<00:18,  3.00it/s]\u001b[A\n",
      " 88%|████████▊ | 391/444 [01:45<00:15,  3.45it/s]\u001b[A\n",
      " 88%|████████▊ | 392/444 [01:45<00:15,  3.26it/s]\u001b[A\n",
      " 89%|████████▊ | 393/444 [01:45<00:16,  3.00it/s]\u001b[A\n",
      " 89%|████████▊ | 394/444 [01:46<00:17,  2.81it/s]\u001b[A\n",
      " 89%|████████▉ | 395/444 [01:46<00:16,  2.94it/s]\u001b[A\n",
      " 89%|████████▉ | 396/444 [01:47<00:17,  2.77it/s]\u001b[A\n",
      " 89%|████████▉ | 397/444 [01:47<00:17,  2.76it/s]\u001b[A\n",
      " 90%|████████▉ | 399/444 [01:47<00:13,  3.22it/s]\u001b[A\n",
      " 90%|█████████ | 400/444 [01:48<00:12,  3.47it/s]\u001b[A\n",
      " 90%|█████████ | 401/444 [01:48<00:11,  3.85it/s]\u001b[A\n",
      " 91%|█████████ | 402/444 [01:48<00:10,  4.06it/s]\u001b[A\n",
      " 91%|█████████ | 403/444 [01:48<00:11,  3.49it/s]\u001b[A\n",
      " 91%|█████████ | 404/444 [01:49<00:10,  3.66it/s]\u001b[A\n",
      " 91%|█████████ | 405/444 [01:49<00:11,  3.34it/s]\u001b[A\n",
      " 91%|█████████▏| 406/444 [01:49<00:11,  3.30it/s]\u001b[A\n",
      " 92%|█████████▏| 407/444 [01:50<00:12,  3.03it/s]\u001b[A\n",
      " 92%|█████████▏| 408/444 [01:50<00:12,  2.86it/s]\u001b[A\n",
      " 92%|█████████▏| 409/444 [01:50<00:10,  3.46it/s]\u001b[A\n",
      " 92%|█████████▏| 410/444 [01:51<00:09,  3.50it/s]\u001b[A\n",
      " 93%|█████████▎| 411/444 [01:51<00:10,  3.10it/s]\u001b[A\n",
      " 93%|█████████▎| 412/444 [01:51<00:08,  3.91it/s]\u001b[A\n",
      " 93%|█████████▎| 413/444 [01:51<00:07,  4.22it/s]\u001b[A\n",
      " 93%|█████████▎| 414/444 [01:52<00:08,  3.65it/s]\u001b[A\n",
      " 93%|█████████▎| 415/444 [01:52<00:08,  3.30it/s]\u001b[A\n",
      " 94%|█████████▎| 416/444 [01:52<00:06,  4.12it/s]\u001b[A\n",
      " 94%|█████████▍| 417/444 [01:52<00:07,  3.62it/s]\u001b[A\n",
      " 94%|█████████▍| 418/444 [01:53<00:06,  4.06it/s]\u001b[A\n",
      " 94%|█████████▍| 419/444 [01:53<00:05,  4.52it/s]\u001b[A\n",
      " 95%|█████████▍| 420/444 [01:53<00:06,  3.74it/s]\u001b[A\n",
      " 95%|█████████▍| 421/444 [01:53<00:05,  4.07it/s]\u001b[A\n",
      " 95%|█████████▌| 423/444 [01:54<00:05,  4.20it/s]\u001b[A\n",
      " 95%|█████████▌| 424/444 [01:54<00:04,  4.63it/s]\u001b[A\n",
      " 96%|█████████▌| 425/444 [01:54<00:03,  4.96it/s]\u001b[A\n",
      " 96%|█████████▌| 426/444 [01:54<00:03,  5.66it/s]\u001b[A\n",
      " 96%|█████████▌| 427/444 [01:55<00:04,  4.02it/s]\u001b[A\n",
      " 96%|█████████▋| 428/444 [01:55<00:03,  4.82it/s]\u001b[A\n",
      " 97%|█████████▋| 429/444 [01:55<00:02,  5.17it/s]\u001b[A\n",
      " 97%|█████████▋| 430/444 [01:55<00:02,  4.94it/s]\u001b[A\n",
      " 97%|█████████▋| 431/444 [01:55<00:03,  4.16it/s]\u001b[A\n",
      " 97%|█████████▋| 432/444 [01:56<00:02,  4.55it/s]\u001b[A\n",
      " 98%|█████████▊| 433/444 [01:56<00:02,  3.90it/s]\u001b[A\n",
      " 98%|█████████▊| 434/444 [01:56<00:02,  3.55it/s]\u001b[A\n",
      " 98%|█████████▊| 435/444 [01:56<00:02,  4.40it/s]\u001b[A\n",
      " 98%|█████████▊| 436/444 [01:57<00:01,  4.95it/s]\u001b[A\n",
      " 98%|█████████▊| 437/444 [01:57<00:01,  4.09it/s]\u001b[A\n",
      " 99%|█████████▊| 438/444 [01:57<00:02,  2.95it/s]\u001b[A\n",
      " 99%|█████████▉| 439/444 [01:58<00:01,  2.90it/s]\u001b[A\n",
      " 99%|█████████▉| 440/444 [01:58<00:01,  3.04it/s]\u001b[A\n",
      " 99%|█████████▉| 441/444 [01:58<00:00,  3.60it/s]\u001b[A\n",
      "100%|█████████▉| 442/444 [01:59<00:00,  3.29it/s]\u001b[A\n",
      "100%|█████████▉| 443/444 [01:59<00:00,  3.77it/s]\u001b[A\n",
      "100%|██████████| 444/444 [01:59<00:00,  3.72it/s]\u001b[A\n"
     ]
    }
   ],
   "source": [
    "testpos_ri,testpos_ri_norms = computeRi(hybrid_model.classifier,attributes,testpos,1)\n",
    "torch.save(testpos_ri,'experiment_results/testpos_ri_hybrid.pt')"
   ]
  },
  {
   "cell_type": "code",
   "execution_count": 25,
   "metadata": {
    "ExecuteTime": {
     "end_time": "2020-02-09T10:44:05.043023Z",
     "start_time": "2020-02-09T10:44:04.783657Z"
    }
   },
   "outputs": [
    {
     "data": {
      "text/plain": [
       "<matplotlib.axes._subplots.AxesSubplot at 0x7f94ccd1a898>"
      ]
     },
     "execution_count": 25,
     "metadata": {},
     "output_type": "execute_result"
    },
    {
     "data": {
      "image/png": "[encoded data removed]",
      "text/plain": [
       "<Figure size 432x288 with 1 Axes>"
      ]
     },
     "metadata": {
      "needs_background": "light"
     },
     "output_type": "display_data"
    }
   ],
   "source": [
    "testpos_ri_norms.sum().plot.bar()"
   ]
  },
  {
   "cell_type": "code",
   "execution_count": 15,
   "metadata": {
    "ExecuteTime": {
     "end_time": "2020-02-09T10:35:10.605508Z",
     "start_time": "2020-02-09T10:35:10.562282Z"
    }
   },
   "outputs": [],
   "source": [
    "testpos_ri_norms.to_csv('experiment_results/testpos_ri_norms.csv',index=False)"
   ]
  },
  {
   "cell_type": "code",
   "execution_count": 28,
   "metadata": {
    "ExecuteTime": {
     "end_time": "2020-02-09T11:09:51.142211Z",
     "start_time": "2020-02-09T11:09:48.059537Z"
    }
   },
   "outputs": [
    {
     "name": "stderr",
     "output_type": "stream",
     "text": [
      "\n",
      "Reading and processing data from \"../../datasets/Structured/DBLP-ACM/merged_test.csv\"\n",
      "0% [############################# ] 100% | ETA: 00:00:00"
     ]
    }
   ],
   "source": [
    "test_dm = dm.data.process_unlabeled('../../datasets/Structured/DBLP-ACM/merged_test.csv',hybrid_model)"
   ]
  },
  {
   "cell_type": "code",
   "execution_count": 38,
   "metadata": {
    "ExecuteTime": {
     "end_time": "2020-02-09T11:12:46.401816Z",
     "start_time": "2020-02-09T11:12:46.366779Z"
    }
   },
   "outputs": [],
   "source": [
    "from deepmatcher.data import MatchingIterator\n",
    "run_iter = MatchingIterator(test_dm,hybrid_model.meta,train=False,batch_size=32,sort_in_buckets=True)"
   ]
  },
  {
   "cell_type": "code",
   "execution_count": 39,
   "metadata": {
    "ExecuteTime": {
     "end_time": "2020-02-09T11:12:46.858727Z",
     "start_time": "2020-02-09T11:12:46.827987Z"
    }
   },
   "outputs": [],
   "source": [
    "batches = run_iter.create_batches()"
   ]
  },
  {
   "cell_type": "code",
   "execution_count": 40,
   "metadata": {
    "ExecuteTime": {
     "end_time": "2020-02-09T11:12:47.490430Z",
     "start_time": "2020-02-09T11:12:47.458677Z"
    }
   },
   "outputs": [
    {
     "data": {
      "text/plain": [
       "NoneType"
      ]
     },
     "execution_count": 40,
     "metadata": {},
     "output_type": "execute_result"
    }
   ],
   "source": [
    "type(batches)"
   ]
  },
  {
   "cell_type": "markdown",
   "metadata": {},
   "source": [
    "## Nearest neighbors discovery"
   ]
  },
  {
   "cell_type": "code",
   "execution_count": 16,
   "metadata": {
    "ExecuteTime": {
     "end_time": "2020-02-09T10:35:18.381076Z",
     "start_time": "2020-02-09T10:35:18.346695Z"
    }
   },
   "outputs": [],
   "source": [
    "from utils.distance_measures import nearestNeighborsOnAttribute"
   ]
  },
  {
   "cell_type": "code",
   "execution_count": 41,
   "metadata": {
    "ExecuteTime": {
     "end_time": "2020-02-09T11:26:31.048293Z",
     "start_time": "2020-02-09T11:26:30.268389Z"
    }
   },
   "outputs": [],
   "source": [
    "neg_ri = torch.load('experiment_results/testneg_ri_hybrid.pt')\n",
    "pos_ri = torch.load('experiment_results/testpos_ri_hybrid.pt')"
   ]
  },
  {
   "cell_type": "code",
   "execution_count": 49,
   "metadata": {
    "ExecuteTime": {
     "end_time": "2020-02-09T11:34:05.298064Z",
     "start_time": "2020-02-09T11:33:58.577944Z"
    }
   },
   "outputs": [
    {
     "name": "stderr",
     "output_type": "stream",
     "text": [
      "\n",
      "  0%|          | 0/2029 [00:00<?, ?it/s]\u001b[A\n",
      "  1%|▏         | 26/2029 [00:00<00:07, 257.74it/s]\u001b[A\n",
      "  3%|▎         | 53/2029 [00:00<00:07, 260.96it/s]\u001b[A\n",
      "  4%|▍         | 80/2029 [00:00<00:07, 262.43it/s]\u001b[A\n",
      "  5%|▌         | 107/2029 [00:00<00:07, 262.61it/s]\u001b[A\n",
      "  7%|▋         | 134/2029 [00:00<00:07, 264.15it/s]\u001b[A\n",
      "  8%|▊         | 161/2029 [00:00<00:07, 265.43it/s]\u001b[A\n",
      " 10%|▉         | 193/2029 [00:00<00:06, 279.46it/s]\u001b[A\n",
      " 11%|█         | 224/2029 [00:00<00:06, 285.74it/s]\u001b[A\n",
      " 13%|█▎        | 256/2029 [00:00<00:06, 292.94it/s]\u001b[A\n",
      " 14%|█▍        | 287/2029 [00:01<00:05, 297.03it/s]\u001b[A\n",
      " 16%|█▌        | 319/2029 [00:01<00:05, 301.94it/s]\u001b[A\n",
      " 17%|█▋        | 350/2029 [00:01<00:05, 303.02it/s]\u001b[A\n",
      " 19%|█▉        | 382/2029 [00:01<00:05, 306.44it/s]\u001b[A\n",
      " 20%|██        | 413/2029 [00:01<00:05, 305.65it/s]\u001b[A\n",
      " 22%|██▏       | 445/2029 [00:01<00:05, 309.56it/s]\u001b[A\n",
      " 23%|██▎       | 476/2029 [00:01<00:05, 298.62it/s]\u001b[A\n",
      " 25%|██▌       | 508/2029 [00:01<00:05, 302.91it/s]\u001b[A\n",
      " 27%|██▋       | 540/2029 [00:01<00:04, 307.15it/s]\u001b[A\n",
      " 28%|██▊       | 572/2029 [00:01<00:04, 309.74it/s]\u001b[A\n",
      " 30%|██▉       | 604/2029 [00:02<00:04, 311.70it/s]\u001b[A\n",
      " 31%|███▏      | 636/2029 [00:02<00:04, 313.17it/s]\u001b[A\n",
      " 33%|███▎      | 668/2029 [00:02<00:04, 301.25it/s]\u001b[A\n",
      " 34%|███▍      | 700/2029 [00:02<00:04, 305.86it/s]\u001b[A\n",
      " 36%|███▌      | 733/2029 [00:02<00:04, 310.85it/s]\u001b[A\n",
      " 38%|███▊      | 765/2029 [00:02<00:04, 313.11it/s]\u001b[A\n",
      " 39%|███▉      | 798/2029 [00:02<00:03, 315.35it/s]\u001b[A\n",
      " 41%|████      | 830/2029 [00:02<00:03, 315.33it/s]\u001b[A\n",
      " 42%|████▏     | 862/2029 [00:02<00:03, 304.61it/s]\u001b[A\n",
      " 44%|████▍     | 894/2029 [00:02<00:03, 308.04it/s]\u001b[A\n",
      " 46%|████▌     | 926/2029 [00:03<00:03, 308.82it/s]\u001b[A\n",
      " 47%|████▋     | 959/2029 [00:03<00:03, 312.76it/s]\u001b[A\n",
      " 49%|████▉     | 991/2029 [00:03<00:03, 313.28it/s]\u001b[A\n",
      " 50%|█████     | 1024/2029 [00:03<00:03, 315.36it/s]\u001b[A\n",
      " 52%|█████▏    | 1056/2029 [00:03<00:03, 301.65it/s]\u001b[A\n",
      " 54%|█████▎    | 1088/2029 [00:03<00:03, 306.81it/s]\u001b[A\n",
      " 55%|█████▌    | 1120/2029 [00:03<00:02, 309.22it/s]\u001b[A\n",
      " 57%|█████▋    | 1152/2029 [00:03<00:02, 310.37it/s]\u001b[A\n",
      " 58%|█████▊    | 1184/2029 [00:03<00:02, 312.23it/s]\u001b[A\n",
      " 60%|█████▉    | 1216/2029 [00:04<00:02, 313.39it/s]\u001b[A\n",
      " 62%|██████▏   | 1248/2029 [00:04<00:02, 309.00it/s]\u001b[A\n",
      " 63%|██████▎   | 1280/2029 [00:04<00:02, 309.90it/s]\u001b[A\n",
      " 65%|██████▍   | 1312/2029 [00:04<00:02, 310.80it/s]\u001b[A\n",
      " 66%|██████▌   | 1344/2029 [00:04<00:02, 312.58it/s]\u001b[A\n",
      " 68%|██████▊   | 1376/2029 [00:04<00:02, 314.20it/s]\u001b[A\n",
      " 69%|██████▉   | 1408/2029 [00:04<00:01, 312.44it/s]\u001b[A\n",
      " 71%|███████   | 1440/2029 [00:04<00:01, 313.16it/s]\u001b[A\n",
      " 73%|███████▎  | 1472/2029 [00:04<00:01, 312.46it/s]\u001b[A\n",
      " 74%|███████▍  | 1504/2029 [00:04<00:01, 313.17it/s]\u001b[A\n",
      " 76%|███████▌  | 1536/2029 [00:05<00:01, 312.80it/s]\u001b[A\n",
      " 77%|███████▋  | 1569/2029 [00:05<00:01, 316.66it/s]\u001b[A\n",
      " 79%|███████▉  | 1601/2029 [00:05<00:01, 314.95it/s]\u001b[A\n",
      " 80%|████████  | 1633/2029 [00:05<00:01, 314.57it/s]\u001b[A\n",
      " 82%|████████▏ | 1665/2029 [00:05<00:01, 311.51it/s]\u001b[A\n",
      " 84%|████████▎ | 1697/2029 [00:05<00:01, 311.46it/s]\u001b[A\n",
      " 85%|████████▌ | 1729/2029 [00:05<00:00, 311.15it/s]\u001b[A\n",
      " 87%|████████▋ | 1761/2029 [00:05<00:00, 311.58it/s]\u001b[A\n",
      " 88%|████████▊ | 1793/2029 [00:05<00:00, 309.65it/s]\u001b[A\n",
      " 90%|████████▉ | 1824/2029 [00:05<00:00, 309.17it/s]\u001b[A\n",
      " 91%|█████████▏| 1855/2029 [00:06<00:00, 308.68it/s]\u001b[A\n",
      " 93%|█████████▎| 1886/2029 [00:06<00:00, 309.03it/s]\u001b[A\n",
      " 94%|█████████▍| 1917/2029 [00:06<00:00, 307.52it/s]\u001b[A\n",
      " 96%|█████████▌| 1949/2029 [00:06<00:00, 309.04it/s]\u001b[A\n",
      " 98%|█████████▊| 1981/2029 [00:06<00:00, 309.85it/s]\u001b[A\n",
      "100%|██████████| 2029/2029 [00:06<00:00, 306.23it/s]\u001b[A\n"
     ]
    }
   ],
   "source": [
    "negatives_closer_vectors_df = nearestNeighborsOnAttribute(testneg,neg_ri,positives,attributes,attribute_len,\n",
    "                                                         min_similarity=0)"
   ]
  },
  {
   "cell_type": "code",
   "execution_count": 22,
   "metadata": {
    "ExecuteTime": {
     "end_time": "2020-02-08T17:16:28.745008Z",
     "start_time": "2020-02-08T17:16:28.666464Z"
    }
   },
   "outputs": [],
   "source": [
    "negatives_closer_vectors_df.to_csv('experiment_results/testnegNNHybrid_filtered.csv',index=False)"
   ]
  },
  {
   "cell_type": "code",
   "execution_count": 29,
   "metadata": {
    "ExecuteTime": {
     "end_time": "2020-02-08T17:20:29.456973Z",
     "start_time": "2020-02-08T17:20:26.555322Z"
    }
   },
   "outputs": [
    {
     "name": "stderr",
     "output_type": "stream",
     "text": [
      "100%|██████████| 444/444 [00:02<00:00, 162.42it/s]\n"
     ]
    }
   ],
   "source": [
    "positives_closer_vectors_df = nearestNeighborsOnAttribute(testpos,pos_ri,negatives,\n",
    "                                                                      attributes,attribute_len,\n",
    "                                                                       min_similarity=0)"
   ]
  },
  {
   "cell_type": "code",
   "execution_count": 30,
   "metadata": {
    "ExecuteTime": {
     "end_time": "2020-02-08T17:20:37.530140Z",
     "start_time": "2020-02-08T17:20:37.482381Z"
    }
   },
   "outputs": [],
   "source": [
    "positives_closer_vectors_df.to_csv('experiment_results/testposNNHybrid_filtered.csv',index=False)"
   ]
  },
  {
   "cell_type": "markdown",
   "metadata": {},
   "source": [
    "## Test"
   ]
  },
  {
   "cell_type": "code",
   "execution_count": 24,
   "metadata": {},
   "outputs": [],
   "source": [
    "import torch.nn.functional as F"
   ]
  },
  {
   "cell_type": "code",
   "execution_count": 36,
   "metadata": {},
   "outputs": [],
   "source": [
    "from utils.ri_calculator import findPerturbationToFlipPredict"
   ]
  },
  {
   "cell_type": "code",
   "execution_count": 31,
   "metadata": {
    "ExecuteTime": {
     "end_time": "2020-02-08T17:21:02.566253Z",
     "start_time": "2020-02-08T17:21:02.059119Z"
    }
   },
   "outputs": [],
   "source": [
    "hybrid_model = dm.MatchingModel(attr_summarizer='hybrid')\n",
    "hybrid_model.load_state('../../models/dblp_acm_hybrid.pth')\n",
    "##hybrid_model = hybrid_model.cuda()"
   ]
  },
  {
   "cell_type": "code",
   "execution_count": 32,
   "metadata": {
    "ExecuteTime": {
     "end_time": "2020-02-08T17:21:16.763485Z",
     "start_time": "2020-02-08T17:21:14.469070Z"
    }
   },
   "outputs": [
    {
     "name": "stderr",
     "output_type": "stream",
     "text": [
      "\n",
      "Reading and processing data from \"../../datasets/Structured/DBLP-ACM/test_positives.csv\"\n",
      "0% [############################# ] 100% | ETA: 00:00:00"
     ]
    }
   ],
   "source": [
    "testpos = returnLayerInputUnlabeled(hybrid_model,\n",
    "                             '../../datasets/Structured/DBLP-ACM/','test_positives')"
   ]
  },
  {
   "cell_type": "code",
   "execution_count": 33,
   "metadata": {
    "ExecuteTime": {
     "end_time": "2020-02-08T17:23:29.819527Z",
     "start_time": "2020-02-08T17:21:27.116374Z"
    }
   },
   "outputs": [
    {
     "name": "stderr",
     "output_type": "stream",
     "text": [
      "100%|██████████| 444/444 [02:01<00:00,  3.65it/s]\n"
     ]
    }
   ],
   "source": [
    "pos_ri,pos_ri_norms = computeRi(hybrid_model.classifier,attributes,testpos,1)"
   ]
  },
  {
   "cell_type": "code",
   "execution_count": 35,
   "metadata": {
    "ExecuteTime": {
     "end_time": "2020-02-08T17:25:53.897252Z",
     "start_time": "2020-02-08T17:25:53.639940Z"
    }
   },
   "outputs": [
    {
     "data": {
      "text/plain": [
       "<matplotlib.axes._subplots.AxesSubplot at 0x7fc63b4e89e8>"
      ]
     },
     "execution_count": 35,
     "metadata": {},
     "output_type": "execute_result"
    },
    {
     "data": {
      "image/png": "[encoded data removed]",
      "text/plain": [
       "<Figure size 432x288 with 1 Axes>"
      ]
     },
     "metadata": {
      "needs_background": "light"
     },
     "output_type": "display_data"
    }
   ],
   "source": [
    "pos_ri_norms.sum().plot.bar()"
   ]
  },
  {
   "cell_type": "code",
   "execution_count": 44,
   "metadata": {
    "ExecuteTime": {
     "end_time": "2020-02-08T17:30:54.409437Z",
     "start_time": "2020-02-08T17:30:54.329853Z"
    }
   },
   "outputs": [],
   "source": [
    "train_df = pd.read_csv('../../datasets/Structured/DBLP-ACM/merged_train.csv')"
   ]
  },
  {
   "cell_type": "code",
   "execution_count": 53,
   "metadata": {
    "ExecuteTime": {
     "end_time": "2020-02-08T17:40:40.695981Z",
     "start_time": "2020-02-08T17:40:38.122423Z"
    }
   },
   "outputs": [
    {
     "name": "stderr",
     "output_type": "stream",
     "text": [
      "\n",
      "Reading and processing data from \"../../datasets/Structured/DBLP-ACM/merged_test.csv\"\n",
      "0% [############################# ] 100% | ETA: 00:00:00"
     ]
    }
   ],
   "source": [
    "DATASET_DIR ='../../datasets/Structured/DBLP-ACM/'\n",
    "testpos_dm = dm.data.process_unlabeled(DATASET_DIR+'merged_test.csv',hybrid_model,\n",
    "                                      ignore_columns=['label','id'])"
   ]
  },
  {
   "cell_type": "code",
   "execution_count": 54,
   "metadata": {
    "ExecuteTime": {
     "end_time": "2020-02-08T17:41:00.574122Z",
     "start_time": "2020-02-08T17:40:44.545684Z"
    }
   },
   "outputs": [
    {
     "name": "stdout",
     "output_type": "stream",
     "text": [
      "===>  PREDICT Epoch 8\n"
     ]
    },
    {
     "name": "stderr",
     "output_type": "stream",
     "text": [
      "0% [███████████████] 100% | ETA: 00:00:00\n",
      "Total time elapsed: 00:00:15\n"
     ]
    },
    {
     "name": "stdout",
     "output_type": "stream",
     "text": [
      "Finished Epoch 8 || Run Time:    7.2 | Load Time:    8.5 || F1:   0.00 | Prec:   0.00 | Rec:   0.00 || Ex/s:   0.00\n",
      "\n"
     ]
    }
   ],
   "source": [
    "true_pred = hybrid_model.run_prediction(testpos_dm)"
   ]
  },
  {
   "cell_type": "code",
   "execution_count": 55,
   "metadata": {
    "ExecuteTime": {
     "end_time": "2020-02-08T17:41:08.409706Z",
     "start_time": "2020-02-08T17:41:01.504936Z"
    }
   },
   "outputs": [
    {
     "name": "stderr",
     "output_type": "stream",
     "text": [
      "WARNING:deepmatcher.data.dataset:Rebuilding data cache because: ['Data file list has changed.', 'One or more data files have been modified.']\n",
      "\n",
      "Reading and processing data from \"../../datasets/Structured/DBLP-ACM/merged_test.csv\"\n",
      "0% [############################# ] 100% | ETA: 00:00:00\n",
      "Building vocabulary\n",
      "0% [###] 100% | ETA: 00:00:00\n",
      "Total time elapsed: 00:00:00\n",
      "\n",
      "Computing principal components\n",
      "0% [###] 100% | ETA: 00:00:00\n",
      "Total time elapsed: 00:00:03\n"
     ]
    }
   ],
   "source": [
    "testpos_fake = dm.data.process(DATASET_DIR,train='merged_test.csv',left_prefix='ltable_',\n",
    "                               right_prefix='rtable_')"
   ]
  },
  {
   "cell_type": "code",
   "execution_count": 56,
   "metadata": {
    "ExecuteTime": {
     "end_time": "2020-02-08T17:41:27.487212Z",
     "start_time": "2020-02-08T17:41:11.785639Z"
    }
   },
   "outputs": [
    {
     "name": "stdout",
     "output_type": "stream",
     "text": [
      "===>  PREDICT Epoch 8\n"
     ]
    },
    {
     "name": "stderr",
     "output_type": "stream",
     "text": [
      "0% [███████████████] 100% | ETA: 00:00:00\n",
      "Total time elapsed: 00:00:14\n"
     ]
    },
    {
     "name": "stdout",
     "output_type": "stream",
     "text": [
      "Finished Epoch 8 || Run Time:    7.2 | Load Time:    8.3 || F1:  98.22 | Prec:  96.93 | Rec:  99.55 || Ex/s: 159.50\n",
      "\n"
     ]
    }
   ],
   "source": [
    "fake_pred =hybrid_model.run_prediction(testpos_fake)"
   ]
  },
  {
   "cell_type": "code",
   "execution_count": 59,
   "metadata": {
    "ExecuteTime": {
     "end_time": "2020-02-08T17:41:47.957680Z",
     "start_time": "2020-02-08T17:41:47.917448Z"
    }
   },
   "outputs": [],
   "source": [
    "for p1,p2 in zip(true_pred.match_score.values,fake_pred.match_score.values):\n",
    "    if p1!=p2:\n",
    "        print((p1,p2))"
   ]
  },
  {
   "cell_type": "code",
   "execution_count": 68,
   "metadata": {
    "ExecuteTime": {
     "end_time": "2020-02-08T17:49:40.216869Z",
     "start_time": "2020-02-08T17:49:38.494615Z"
    }
   },
   "outputs": [
    {
     "name": "stderr",
     "output_type": "stream",
     "text": [
      "\n",
      "Reading and processing data from \"../../datasets/Structured/DBLP-ACM/test_positives.csv\"\n",
      "0% [############################# ] 100% | ETA: 00:00:00"
     ]
    }
   ],
   "source": [
    "testpos2 = returnLayerInputUnlabeled(hybrid_model,hybrid_model.classifier,\n",
    "                               '../../datasets/Structured/DBLP-ACM/','test_positives')"
   ]
  },
  {
   "cell_type": "code",
   "execution_count": 69,
   "metadata": {
    "ExecuteTime": {
     "end_time": "2020-02-08T17:51:32.237971Z",
     "start_time": "2020-02-08T17:49:41.084749Z"
    }
   },
   "outputs": [
    {
     "name": "stderr",
     "output_type": "stream",
     "text": [
      "100%|██████████| 444/444 [01:50<00:00,  4.02it/s]\n"
     ]
    }
   ],
   "source": [
    "pos_ri2,pos_ri_norms2 = computeRi(hybrid_model.classifier,attributes,testpos2,1)"
   ]
  },
  {
   "cell_type": "code",
   "execution_count": 70,
   "metadata": {
    "ExecuteTime": {
     "end_time": "2020-02-08T17:51:36.348541Z",
     "start_time": "2020-02-08T17:51:36.074706Z"
    }
   },
   "outputs": [
    {
     "data": {
      "text/plain": [
       "<matplotlib.axes._subplots.AxesSubplot at 0x7fc3db6916a0>"
      ]
     },
     "execution_count": 70,
     "metadata": {},
     "output_type": "execute_result"
    },
    {
     "data": {
      "image/png": "[encoded data removed]",
      "text/plain": [
       "<Figure size 432x288 with 1 Axes>"
      ]
     },
     "metadata": {
      "needs_background": "light"
     },
     "output_type": "display_data"
    }
   ],
   "source": [
    "pos_ri_norms2.sum().plot.bar()"
   ]
  },
  {
   "cell_type": "code",
   "execution_count": 75,
   "metadata": {
    "ExecuteTime": {
     "end_time": "2020-02-08T17:52:40.597080Z",
     "start_time": "2020-02-08T17:52:40.041708Z"
    }
   },
   "outputs": [],
   "source": [
    "hybrid_model2 = dm.MatchingModel(attr_summarizer='hybrid')\n",
    "hybrid_model2.load_state('../../models/dblp_acm_hybrid2.pth')\n",
    "hybrid_model2 = hybrid_model2.cuda()"
   ]
  },
  {
   "cell_type": "code",
   "execution_count": 76,
   "metadata": {
    "ExecuteTime": {
     "end_time": "2020-02-08T17:52:43.924625Z",
     "start_time": "2020-02-08T17:52:42.167659Z"
    }
   },
   "outputs": [
    {
     "name": "stderr",
     "output_type": "stream",
     "text": [
      "\n",
      "Reading and processing data from \"../../datasets/Structured/DBLP-ACM/test_positives.csv\"\n",
      "0% [############################# ] 100% | ETA: 00:00:00"
     ]
    }
   ],
   "source": [
    "testpos2i = returnLayerInputUnlabeled(hybrid_model2,hybrid_model2.classifier,\n",
    "                               '../../datasets/Structured/DBLP-ACM/','test_positives')"
   ]
  },
  {
   "cell_type": "code",
   "execution_count": 77,
   "metadata": {
    "ExecuteTime": {
     "end_time": "2020-02-08T17:54:35.358882Z",
     "start_time": "2020-02-08T17:53:02.128220Z"
    }
   },
   "outputs": [
    {
     "name": "stderr",
     "output_type": "stream",
     "text": [
      "100%|██████████| 444/444 [01:33<00:00,  4.77it/s]\n"
     ]
    }
   ],
   "source": [
    "pos_ri2i,pos_ri_norms2i = computeRi(hybrid_model2.classifier,attributes,testpos2i,1)"
   ]
  },
  {
   "cell_type": "code",
   "execution_count": 78,
   "metadata": {
    "ExecuteTime": {
     "end_time": "2020-02-08T17:54:55.833268Z",
     "start_time": "2020-02-08T17:54:55.590679Z"
    }
   },
   "outputs": [
    {
     "data": {
      "text/plain": [
       "<matplotlib.axes._subplots.AxesSubplot at 0x7fc3a370bda0>"
      ]
     },
     "execution_count": 78,
     "metadata": {},
     "output_type": "execute_result"
    },
    {
     "data": {
      "image/png": "[encoded data removed]",
      "text/plain": [
       "<Figure size 432x288 with 1 Axes>"
      ]
     },
     "metadata": {
      "needs_background": "light"
     },
     "output_type": "display_data"
    }
   ],
   "source": [
    "pos_ri_norms2i.sum().plot.bar()"
   ]
  },
  {
   "cell_type": "code",
   "execution_count": 84,
   "metadata": {
    "ExecuteTime": {
     "end_time": "2020-02-08T18:00:07.348365Z",
     "start_time": "2020-02-08T18:00:03.722630Z"
    }
   },
   "outputs": [
    {
     "name": "stderr",
     "output_type": "stream",
     "text": [
      "\n",
      "Reading and processing data from \"../../datasets/Structured/DBLP-ACM/test_positives.csv\"\n",
      "0% [############################# ] 100% | ETA: 00:00:00\n",
      "Building vocabulary\n",
      "0% [#] 100% | ETA: 00:00:00\n",
      "Total time elapsed: 00:00:00\n",
      "\n",
      "Computing principal components\n",
      "0% [#] 100% | ETA: 00:00:00\n",
      "Total time elapsed: 00:00:00\n"
     ]
    }
   ],
   "source": [
    "testpos2 = return_layer_input(hybrid_model2,hybrid_model2.classifier,\n",
    "                               '../../datasets/Structured/DBLP-ACM/','test_positives')"
   ]
  },
  {
   "cell_type": "code",
   "execution_count": 80,
   "metadata": {
    "ExecuteTime": {
     "end_time": "2020-02-08T17:56:14.839435Z",
     "start_time": "2020-02-08T17:55:38.702304Z"
    }
   },
   "outputs": [
    {
     "name": "stderr",
     "output_type": "stream",
     "text": [
      "100%|██████████| 444/444 [00:34<00:00, 12.70it/s]\n"
     ]
    }
   ],
   "source": [
    "pos_ri2,pos_ri_norms2 = computeRi(hybrid_model2.classifier,attributes,testpos2,1)"
   ]
  },
  {
   "cell_type": "code",
   "execution_count": 81,
   "metadata": {
    "ExecuteTime": {
     "end_time": "2020-02-08T17:56:21.121858Z",
     "start_time": "2020-02-08T17:56:20.875669Z"
    }
   },
   "outputs": [
    {
     "data": {
      "text/plain": [
       "<matplotlib.axes._subplots.AxesSubplot at 0x7fc3ba574390>"
      ]
     },
     "execution_count": 81,
     "metadata": {},
     "output_type": "execute_result"
    },
    {
     "data": {
      "image/png": "[encoded data removed]",
      "text/plain": [
       "<Figure size 432x288 with 1 Axes>"
      ]
     },
     "metadata": {
      "needs_background": "light"
     },
     "output_type": "display_data"
    }
   ],
   "source": [
    "pos_ri_norms2.sum().plot.bar()"
   ]
  },
  {
   "cell_type": "code",
   "execution_count": 85,
   "metadata": {
    "ExecuteTime": {
     "end_time": "2020-02-08T18:00:13.034527Z",
     "start_time": "2020-02-08T18:00:12.862076Z"
    }
   },
   "outputs": [
    {
     "name": "stdout",
     "output_type": "stream",
     "text": [
      "6.013233184814453\n",
      "8.419266700744629\n",
      "9.470592498779297\n",
      "8.061202049255371\n",
      "4.736684322357178\n",
      "6.25020694732666\n",
      "4.709441661834717\n",
      "6.483670234680176\n",
      "9.034685134887695\n",
      "5.926397323608398\n",
      "4.675487995147705\n",
      "13.26247787475586\n",
      "5.47933292388916\n",
      "9.156543731689453\n",
      "9.064640998840332\n",
      "6.102056980133057\n",
      "7.952148914337158\n",
      "4.849846839904785\n",
      "9.036534309387207\n",
      "8.94332218170166\n",
      "8.74321460723877\n",
      "9.277305603027344\n",
      "4.465804576873779\n",
      "6.67368221282959\n",
      "4.870484828948975\n",
      "8.166108131408691\n",
      "6.78516960144043\n",
      "7.0671796798706055\n",
      "6.238358497619629\n",
      "5.6928229331970215\n",
      "6.983000755310059\n",
      "6.9819207191467285\n",
      "8.705131530761719\n",
      "8.294671058654785\n",
      "6.280832767486572\n",
      "7.795933723449707\n",
      "4.404969692230225\n",
      "8.770273208618164\n",
      "4.785650730133057\n",
      "15.0551176071167\n",
      "5.213739395141602\n",
      "7.840186595916748\n",
      "5.192795276641846\n",
      "5.6423444747924805\n",
      "6.667527675628662\n",
      "6.302277088165283\n",
      "7.956787109375\n",
      "8.065790176391602\n",
      "8.967409133911133\n",
      "5.121453762054443\n",
      "7.614959239959717\n",
      "5.855052471160889\n",
      "9.125483512878418\n",
      "8.416068077087402\n",
      "6.292396545410156\n",
      "5.88225793838501\n",
      "4.186978340148926\n",
      "13.430248260498047\n",
      "13.22423267364502\n",
      "4.580448150634766\n",
      "9.094472885131836\n",
      "13.471307754516602\n",
      "8.390231132507324\n",
      "4.470592021942139\n",
      "9.061674118041992\n",
      "5.56946325302124\n",
      "4.848747253417969\n",
      "7.849327564239502\n",
      "9.148122787475586\n",
      "6.0188374519348145\n",
      "7.889267444610596\n",
      "4.803872585296631\n",
      "9.705995559692383\n",
      "4.905425071716309\n",
      "8.728275299072266\n",
      "4.862865447998047\n",
      "5.702555179595947\n",
      "7.957746982574463\n",
      "6.284008026123047\n",
      "6.527720928192139\n",
      "5.811869144439697\n",
      "5.685476303100586\n",
      "6.7123212814331055\n",
      "5.223445415496826\n",
      "6.559591770172119\n",
      "4.248939514160156\n",
      "10.667381286621094\n",
      "5.641427516937256\n",
      "7.903916358947754\n",
      "6.2710862159729\n",
      "5.759785175323486\n",
      "5.158056259155273\n",
      "13.159626007080078\n",
      "8.565017700195312\n",
      "6.3441948890686035\n",
      "8.281455039978027\n",
      "9.9729642868042\n",
      "6.710939407348633\n",
      "13.066503524780273\n",
      "9.01261043548584\n",
      "9.83250617980957\n",
      "8.01137924194336\n",
      "5.577078819274902\n",
      "5.49845552444458\n",
      "6.3395867347717285\n",
      "8.471179962158203\n",
      "5.718040943145752\n",
      "6.513322353363037\n",
      "9.744180679321289\n",
      "7.452120780944824\n",
      "8.62611198425293\n",
      "5.071933269500732\n",
      "4.255023002624512\n",
      "5.078485012054443\n",
      "5.675239562988281\n",
      "4.6071672439575195\n",
      "4.9113969802856445\n",
      "8.255472183227539\n",
      "4.2411723136901855\n",
      "9.113759994506836\n",
      "8.974702835083008\n",
      "8.266003608703613\n",
      "6.5719990730285645\n",
      "8.862499237060547\n",
      "8.467144966125488\n",
      "3.9683873653411865\n",
      "5.957590103149414\n",
      "4.911564826965332\n",
      "5.507717132568359\n",
      "7.8318047523498535\n",
      "5.861283779144287\n",
      "9.667143821716309\n",
      "13.390149116516113\n",
      "6.425410270690918\n",
      "5.193011283874512\n",
      "7.529749393463135\n",
      "4.523250579833984\n",
      "7.953155517578125\n",
      "5.879561424255371\n",
      "8.832947731018066\n",
      "8.815568923950195\n",
      "8.162582397460938\n",
      "7.576437473297119\n",
      "6.206762313842773\n",
      "8.637289047241211\n",
      "8.122480392456055\n",
      "12.925105094909668\n",
      "7.624844074249268\n",
      "9.251431465148926\n",
      "5.47816801071167\n",
      "5.743300437927246\n",
      "6.529716968536377\n",
      "6.014802932739258\n",
      "6.606723785400391\n",
      "8.586444854736328\n",
      "8.855908393859863\n",
      "9.087578773498535\n",
      "6.6605730056762695\n",
      "8.81483268737793\n",
      "5.737813472747803\n",
      "8.544392585754395\n",
      "7.724804878234863\n",
      "5.765257358551025\n",
      "8.883830070495605\n",
      "3.8900017738342285\n",
      "5.526534557342529\n",
      "3.776710033416748\n",
      "7.099726676940918\n",
      "5.32443904876709\n",
      "5.506693363189697\n",
      "5.857166290283203\n",
      "12.95461368560791\n",
      "7.015754699707031\n",
      "5.963961601257324\n",
      "8.568017959594727\n",
      "4.429392337799072\n",
      "7.7712554931640625\n",
      "8.510148048400879\n",
      "6.521518707275391\n",
      "8.71507453918457\n",
      "5.6339545249938965\n",
      "4.7979512214660645\n",
      "8.645157814025879\n",
      "5.072045803070068\n",
      "9.132800102233887\n",
      "13.056299209594727\n",
      "8.36103343963623\n",
      "5.900318145751953\n",
      "8.92623519897461\n",
      "8.222118377685547\n",
      "5.756776809692383\n",
      "8.82541561126709\n",
      "4.457793712615967\n",
      "9.004705429077148\n",
      "5.730396747589111\n",
      "13.087024688720703\n",
      "8.633146286010742\n",
      "7.955811500549316\n",
      "8.395546913146973\n",
      "7.004753112792969\n",
      "13.496042251586914\n",
      "5.3359174728393555\n",
      "7.743276596069336\n",
      "8.94013500213623\n",
      "8.212350845336914\n",
      "6.4767537117004395\n",
      "8.21595287322998\n",
      "9.171571731567383\n",
      "6.198273658752441\n",
      "9.381836891174316\n",
      "6.5268120765686035\n",
      "7.0074782371521\n",
      "5.738162994384766\n",
      "5.416672706604004\n",
      "5.257356643676758\n",
      "6.376371383666992\n",
      "8.165730476379395\n",
      "8.28600025177002\n",
      "8.95081615447998\n",
      "5.593194007873535\n",
      "8.848478317260742\n",
      "12.918107986450195\n",
      "7.9538350105285645\n",
      "9.177181243896484\n",
      "5.985650062561035\n",
      "4.448451995849609\n",
      "4.414763927459717\n",
      "5.795342445373535\n",
      "8.870641708374023\n",
      "13.716540336608887\n",
      "5.710718631744385\n",
      "6.389252185821533\n",
      "13.536175727844238\n",
      "7.012784004211426\n",
      "5.381767272949219\n",
      "8.693219184875488\n",
      "6.310829162597656\n",
      "5.2393083572387695\n",
      "6.57982873916626\n",
      "5.311680316925049\n",
      "8.495292663574219\n",
      "8.771223068237305\n",
      "4.968472957611084\n",
      "7.016920566558838\n",
      "6.521360397338867\n",
      "4.7670698165893555\n",
      "8.851251602172852\n",
      "8.395655632019043\n",
      "5.499198913574219\n",
      "5.60701322555542\n",
      "8.023125648498535\n",
      "8.519046783447266\n",
      "5.962301731109619\n",
      "4.790587902069092\n",
      "8.567559242248535\n",
      "3.9674012660980225\n",
      "4.31404447555542\n",
      "8.353779792785645\n",
      "9.217900276184082\n",
      "9.328041076660156\n",
      "5.456575393676758\n",
      "8.348846435546875\n",
      "10.031440734863281\n",
      "7.969422817230225\n",
      "8.133404731750488\n",
      "4.84697151184082\n",
      "5.71191930770874\n",
      "13.170501708984375\n",
      "9.126588821411133\n",
      "9.083700180053711\n",
      "8.630777359008789\n",
      "4.027346134185791\n",
      "5.74554967880249\n",
      "7.960948467254639\n",
      "6.04304838180542\n",
      "5.868735313415527\n",
      "5.525210380554199\n",
      "6.666893005371094\n",
      "9.176331520080566\n",
      "5.162924766540527\n",
      "8.377680778503418\n",
      "13.266317367553711\n",
      "14.175628662109375\n",
      "3.558582305908203\n",
      "6.661835670471191\n",
      "8.579940795898438\n",
      "5.319143772125244\n",
      "5.0936102867126465\n",
      "7.3330769538879395\n",
      "7.2209882736206055\n",
      "4.004449367523193\n",
      "8.476455688476562\n",
      "5.624093055725098\n",
      "3.3438172340393066\n",
      "8.598799705505371\n",
      "8.61077880859375\n",
      "6.01824426651001\n",
      "5.638559818267822\n",
      "12.871447563171387\n",
      "6.562836170196533\n",
      "4.756613731384277\n",
      "5.074132442474365\n",
      "10.959548950195312\n",
      "5.6608052253723145\n",
      "6.275976657867432\n",
      "7.604660987854004\n",
      "13.171634674072266\n",
      "4.389017105102539\n",
      "6.056313991546631\n",
      "7.7747368812561035\n",
      "13.677325248718262\n",
      "6.191256523132324\n",
      "6.7946553230285645\n",
      "13.15269947052002\n",
      "5.851165771484375\n",
      "8.411320686340332\n",
      "5.51550817489624\n",
      "9.381979942321777\n",
      "5.306086540222168\n",
      "4.771907806396484\n",
      "5.309803009033203\n",
      "8.293153762817383\n",
      "4.1976447105407715\n",
      "5.463648796081543\n",
      "5.635024070739746\n",
      "13.438759803771973\n",
      "8.206449508666992\n",
      "6.762010097503662\n",
      "4.613600254058838\n",
      "14.390605926513672\n",
      "3.494875431060791\n",
      "8.80311107635498\n",
      "6.525319576263428\n",
      "9.6052827835083\n",
      "8.407939910888672\n",
      "5.710541248321533\n",
      "8.59366226196289\n",
      "13.856687545776367\n",
      "8.047294616699219\n",
      "7.480342388153076\n",
      "8.073177337646484\n",
      "8.514029502868652\n",
      "6.58819055557251\n",
      "5.3877458572387695\n",
      "5.453840255737305\n",
      "8.182755470275879\n",
      "8.2619047164917\n",
      "8.573267936706543\n",
      "8.580382347106934\n",
      "5.4174065589904785\n",
      "4.250316619873047\n",
      "9.773120880126953\n",
      "5.358119487762451\n",
      "12.938241958618164\n",
      "6.323601722717285\n",
      "9.56466293334961\n",
      "9.008913040161133\n",
      "7.905193328857422\n",
      "8.151845932006836\n",
      "8.669692993164062\n",
      "8.443203926086426\n",
      "7.2598443031311035\n",
      "8.410816192626953\n",
      "5.768614292144775\n",
      "13.51458740234375\n",
      "7.518017768859863\n",
      "9.895841598510742\n",
      "7.785207748413086\n",
      "3.657527208328247\n",
      "7.832606315612793\n",
      "7.633121490478516\n",
      "5.691175937652588\n",
      "7.657407283782959\n",
      "6.9798784255981445\n",
      "9.464583396911621\n",
      "5.088668346405029\n",
      "5.662312030792236\n",
      "8.116728782653809\n",
      "8.474735260009766\n",
      "4.9026923179626465\n",
      "8.006935119628906\n",
      "9.117775917053223\n",
      "6.643537521362305\n",
      "9.232525825500488\n",
      "5.520956993103027\n",
      "5.851446151733398\n",
      "10.346942901611328\n",
      "13.108809471130371\n",
      "8.30040168762207\n",
      "8.921436309814453\n",
      "5.070224285125732\n",
      "9.494754791259766\n",
      "8.42166519165039\n",
      "6.600086212158203\n",
      "4.5485148429870605\n",
      "6.80357027053833\n",
      "9.409553527832031\n",
      "5.27591609954834\n",
      "9.309895515441895\n",
      "7.778502464294434\n",
      "13.196920394897461\n",
      "4.789998531341553\n",
      "13.593891143798828\n",
      "7.767474174499512\n",
      "9.689571380615234\n",
      "8.60688591003418\n",
      "8.513696670532227\n",
      "6.645761489868164\n",
      "5.308995246887207\n",
      "8.509730339050293\n",
      "5.625315189361572\n",
      "13.254363059997559\n",
      "6.046549320220947\n",
      "9.69504451751709\n",
      "11.196065902709961\n",
      "6.610450744628906\n",
      "5.179441452026367\n",
      "5.310608386993408\n",
      "6.18939733505249\n",
      "5.977410316467285\n",
      "8.50031566619873\n",
      "11.199004173278809\n",
      "5.883951187133789\n",
      "4.63616418838501\n",
      "6.118312835693359\n",
      "8.6407470703125\n",
      "5.935573577880859\n",
      "7.258277416229248\n",
      "3.814069986343384\n",
      "7.9139227867126465\n",
      "4.421854019165039\n",
      "5.31045389175415\n",
      "6.47630500793457\n",
      "5.6575541496276855\n",
      "4.001068115234375\n",
      "6.262556552886963\n",
      "7.772757530212402\n",
      "9.182541847229004\n",
      "8.81808853149414\n",
      "4.445623397827148\n",
      "8.64376449584961\n",
      "8.152087211608887\n",
      "13.324321746826172\n",
      "8.08307933807373\n"
     ]
    }
   ],
   "source": [
    "for key in testpos2i.keys():\n",
    "    print(torch.norm(testpos2i[key]-testpos2[key]).item())"
   ]
  },
  {
   "cell_type": "code",
   "execution_count": 86,
   "metadata": {
    "ExecuteTime": {
     "end_time": "2020-02-08T18:00:22.349337Z",
     "start_time": "2020-02-08T18:00:22.315484Z"
    }
   },
   "outputs": [
    {
     "data": {
      "text/plain": [
       "True"
      ]
     },
     "execution_count": 86,
     "metadata": {},
     "output_type": "execute_result"
    }
   ],
   "source": [
    "testpos2i.keys()==testpos2.keys()"
   ]
  },
  {
   "cell_type": "code",
   "execution_count": null,
   "metadata": {},
   "outputs": [],
   "source": []
  }
 ],
 "metadata": {
  "kernelspec": {
   "display_name": "Python 3",
   "language": "python",
   "name": "python3"
  },
  "language_info": {
   "codemirror_mode": {
    "name": "ipython",
    "version": 3
   },
   "file_extension": ".py",
   "mimetype": "text/x-python",
   "name": "python",
   "nbconvert_exporter": "python",
   "pygments_lexer": "ipython3",
   "version": "3.6.10"
  },
  "toc": {
   "base_numbering": 1,
   "nav_menu": {},
   "number_sections": true,
   "sideBar": true,
   "skip_h1_title": false,
   "title_cell": "Table of Contents",
   "title_sidebar": "Contents",
   "toc_cell": false,
   "toc_position": {
    "height": "calc(100% - 180px)",
    "left": "10px",
    "top": "150px",
    "width": "225.4px"
   },
   "toc_section_display": true,
   "toc_window_display": true
  }
 },
 "nbformat": 4,
 "nbformat_minor": 2
}

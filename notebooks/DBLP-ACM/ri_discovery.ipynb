{
 "cells": [
  {
   "cell_type": "code",
   "execution_count": 2,
   "metadata": {},
   "outputs": [],
   "source": [
    "%load_ext autoreload\n",
    "%autoreload 2"
   ]
  },
  {
   "cell_type": "code",
   "execution_count": 3,
   "metadata": {},
   "outputs": [],
   "source": [
    "import sys\n",
    "sys.path.append('../..')"
   ]
  },
  {
   "cell_type": "code",
   "execution_count": 4,
   "metadata": {},
   "outputs": [],
   "source": [
    "import deepmatcher as dm\n",
    "from utils.intermediate_layer_extraction import return_layer_input\n",
    "from utils.ri_calculator import computeRi\n",
    "import pandas as pd"
   ]
  },
  {
   "cell_type": "markdown",
   "metadata": {},
   "source": [
    "## Dataset creation with hybrid model"
   ]
  },
  {
   "cell_type": "code",
   "execution_count": 5,
   "metadata": {},
   "outputs": [],
   "source": [
    "attributes = ['title','authors','venue','year']"
   ]
  },
  {
   "cell_type": "code",
   "execution_count": 11,
   "metadata": {},
   "outputs": [],
   "source": [
    "hybrid_model = dm.MatchingModel(attr_summarizer='hybrid')\n",
    "hybrid_model.load_state('../../models/dblp_acm_hybrid.pth')\n",
    "hybrid_model = hybrid_model.cuda()"
   ]
  },
  {
   "cell_type": "code",
   "execution_count": 12,
   "metadata": {},
   "outputs": [],
   "source": [
    "testneg_hybrid,testneg_ids_hybrid = return_layer_input('../../Structured/DBLP-ACM/','test_negatives',\n",
    "                                                           batch_size=128,model=hybrid_model,\n",
    "                                                                         layer=hybrid_model.classifier)"
   ]
  },
  {
   "cell_type": "code",
   "execution_count": 13,
   "metadata": {},
   "outputs": [],
   "source": [
    "testpos_hybrid,testpos_ids = return_layer_input('../../Structured/DBLP-ACM/','test_positives',\n",
    "                                                           batch_size=128,model=hybrid_model,\n",
    "                                                layer=hybrid_model.classifier)"
   ]
  },
  {
   "cell_type": "code",
   "execution_count": 14,
   "metadata": {},
   "outputs": [],
   "source": [
    "positives_hybrid,pos_ids_hybrid = return_layer_input('../../Structured/DBLP-ACM/','positives',\n",
    "                                                           batch_size=128,model=hybrid_model,\n",
    "                                              layer=hybrid_model.classifier)"
   ]
  },
  {
   "cell_type": "code",
   "execution_count": 15,
   "metadata": {},
   "outputs": [],
   "source": [
    "negatives_hybrid,neg_ids_hybrid = return_layer_input('../../Structured/DBLP-ACM/','negatives',\n",
    "                                                           batch_size=128,model=hybrid_model,\n",
    "                                              layer=hybrid_model.classifier)"
   ]
  },
  {
   "cell_type": "code",
   "execution_count": 16,
   "metadata": {},
   "outputs": [],
   "source": [
    "## Basta scegliere un campione a caso\n",
    "classifier_len = len(testneg_hybrid[0][0])\n",
    "attribute_len = int(classifier_len/len(attributes))"
   ]
  },
  {
   "cell_type": "markdown",
   "metadata": {},
   "source": [
    "## Ri discovery"
   ]
  },
  {
   "cell_type": "markdown",
   "metadata": {},
   "source": [
    "### Negatives"
   ]
  },
  {
   "cell_type": "code",
   "execution_count": 17,
   "metadata": {},
   "outputs": [
    {
     "name": "stderr",
     "output_type": "stream",
     "text": [
      "100%|██████████| 128/128 [00:23<00:00,  5.54it/s]\n",
      "  8%|▊         | 10/128 [00:01<00:21,  5.54it/s]"
     ]
    },
    {
     "name": "stdout",
     "output_type": "stream",
     "text": [
      "can't converge in 100 iterations\n"
     ]
    },
    {
     "name": "stderr",
     "output_type": "stream",
     "text": [
      "  9%|▉         | 12/128 [00:02<00:31,  3.68it/s]"
     ]
    },
    {
     "name": "stdout",
     "output_type": "stream",
     "text": [
      "can't converge in 100 iterations\n"
     ]
    },
    {
     "name": "stderr",
     "output_type": "stream",
     "text": [
      "100%|██████████| 128/128 [00:21<00:00,  5.83it/s]\n",
      " 10%|█         | 13/128 [00:02<00:29,  3.94it/s]"
     ]
    },
    {
     "name": "stdout",
     "output_type": "stream",
     "text": [
      "can't converge in 100 iterations\n"
     ]
    },
    {
     "name": "stderr",
     "output_type": "stream",
     "text": [
      "100%|██████████| 128/128 [00:22<00:00,  5.81it/s]\n",
      "100%|██████████| 128/128 [00:20<00:00,  6.10it/s]\n",
      "100%|██████████| 109/109 [00:18<00:00,  5.84it/s]\n",
      " 70%|███████   | 90/128 [00:15<00:09,  4.21it/s]"
     ]
    },
    {
     "name": "stdout",
     "output_type": "stream",
     "text": [
      "can't converge in 100 iterations\n"
     ]
    },
    {
     "name": "stderr",
     "output_type": "stream",
     "text": [
      "100%|██████████| 128/128 [00:22<00:00,  5.81it/s]\n",
      " 54%|█████▍    | 69/128 [00:12<00:14,  3.94it/s]"
     ]
    },
    {
     "name": "stdout",
     "output_type": "stream",
     "text": [
      "can't converge in 100 iterations\n"
     ]
    },
    {
     "name": "stderr",
     "output_type": "stream",
     "text": [
      "100%|██████████| 128/128 [00:22<00:00,  5.79it/s]\n",
      " 54%|█████▍    | 69/128 [00:11<00:10,  5.77it/s]"
     ]
    },
    {
     "name": "stdout",
     "output_type": "stream",
     "text": [
      "can't converge in 100 iterations\n"
     ]
    },
    {
     "name": "stderr",
     "output_type": "stream",
     "text": [
      " 55%|█████▌    | 71/128 [00:12<00:15,  3.75it/s]"
     ]
    },
    {
     "name": "stdout",
     "output_type": "stream",
     "text": [
      "can't converge in 100 iterations\n"
     ]
    },
    {
     "name": "stderr",
     "output_type": "stream",
     "text": [
      "100%|██████████| 128/128 [00:21<00:00,  5.86it/s]\n",
      "100%|██████████| 128/128 [00:22<00:00,  5.67it/s]\n",
      "100%|██████████| 128/128 [00:21<00:00,  5.84it/s]\n",
      "100%|██████████| 128/128 [00:21<00:00,  5.91it/s]\n",
      "100%|██████████| 128/128 [00:21<00:00,  5.84it/s]\n",
      "100%|██████████| 128/128 [00:21<00:00,  5.86it/s]\n",
      "100%|██████████| 128/128 [00:22<00:00,  5.76it/s]\n",
      " 90%|████████▉ | 115/128 [00:19<00:02,  5.68it/s]"
     ]
    },
    {
     "name": "stdout",
     "output_type": "stream",
     "text": [
      "can't converge in 100 iterations\n"
     ]
    },
    {
     "name": "stderr",
     "output_type": "stream",
     "text": [
      " 91%|█████████▏| 117/128 [00:20<00:02,  3.73it/s]"
     ]
    },
    {
     "name": "stdout",
     "output_type": "stream",
     "text": [
      "can't converge in 100 iterations\n"
     ]
    },
    {
     "name": "stderr",
     "output_type": "stream",
     "text": [
      "100%|██████████| 128/128 [00:22<00:00,  5.73it/s]\n",
      "100%|██████████| 128/128 [00:21<00:00,  6.02it/s]\n"
     ]
    }
   ],
   "source": [
    "neg_ri,neg_ri_norms = computeRi(hybrid_model.classifier,attributes,testneg_hybrid,attribute_len,\n",
    "                               1)"
   ]
  },
  {
   "cell_type": "code",
   "execution_count": 19,
   "metadata": {},
   "outputs": [
    {
     "data": {
      "text/plain": [
       "<matplotlib.axes._subplots.AxesSubplot at 0x7effdcb8ed68>"
      ]
     },
     "execution_count": 19,
     "metadata": {},
     "output_type": "execute_result"
    },
    {
     "data": {
      "image/png": "[encoded data removed]",
      "text/plain": [
       "<Figure size 432x288 with 1 Axes>"
      ]
     },
     "metadata": {
      "needs_background": "light"
     },
     "output_type": "display_data"
    }
   ],
   "source": [
    "negatives_variation_df = pd.DataFrame(data= neg_ri_norms,columns=attributes)\n",
    "negatives_variation_df.sum(numeric_only=True).plot.bar()"
   ]
  },
  {
   "cell_type": "code",
   "execution_count": 20,
   "metadata": {},
   "outputs": [],
   "source": [
    "negatives_variation_df.to_csv('experiment_results/testneg_ri_hybrid.csv',index=False)"
   ]
  },
  {
   "cell_type": "markdown",
   "metadata": {},
   "source": [
    "### Positives"
   ]
  },
  {
   "cell_type": "code",
   "execution_count": 23,
   "metadata": {},
   "outputs": [
    {
     "name": "stderr",
     "output_type": "stream",
     "text": [
      "\n",
      "  0%|          | 0/128 [00:00<?, ?it/s]\u001b[A\n",
      "  2%|▏         | 2/128 [00:00<00:38,  3.25it/s]\u001b[A\n",
      "  3%|▎         | 4/128 [00:00<00:28,  4.30it/s]\u001b[A"
     ]
    },
    {
     "name": "stdout",
     "output_type": "stream",
     "text": [
      "can't converge in 100 iterations\n"
     ]
    },
    {
     "name": "stderr",
     "output_type": "stream",
     "text": [
      "\n",
      "  4%|▍         | 5/128 [00:01<00:34,  3.53it/s]\u001b[A"
     ]
    },
    {
     "name": "stdout",
     "output_type": "stream",
     "text": [
      "can't converge in 100 iterations\n",
      "can't converge in 100 iterations\n"
     ]
    },
    {
     "name": "stderr",
     "output_type": "stream",
     "text": [
      "\n",
      "  5%|▌         | 7/128 [00:01<00:37,  3.22it/s]\u001b[A\n",
      "  9%|▊         | 11/128 [00:02<00:26,  4.40it/s]\u001b[A"
     ]
    },
    {
     "name": "stdout",
     "output_type": "stream",
     "text": [
      "can't converge in 100 iterations\n",
      "can't converge in 100 iterations\n"
     ]
    },
    {
     "name": "stderr",
     "output_type": "stream",
     "text": [
      "\n",
      " 10%|█         | 13/128 [00:02<00:29,  3.85it/s]\u001b[A"
     ]
    },
    {
     "name": "stdout",
     "output_type": "stream",
     "text": [
      "can't converge in 100 iterations\n"
     ]
    },
    {
     "name": "stderr",
     "output_type": "stream",
     "text": [
      "\n",
      " 11%|█         | 14/128 [00:03<00:35,  3.17it/s]\u001b[A\n",
      " 13%|█▎        | 17/128 [00:03<00:25,  4.31it/s]\u001b[A"
     ]
    },
    {
     "name": "stdout",
     "output_type": "stream",
     "text": [
      "can't converge in 100 iterations\n",
      "can't converge in 100 iterations\n"
     ]
    },
    {
     "name": "stderr",
     "output_type": "stream",
     "text": [
      "\n",
      " 15%|█▍        | 19/128 [00:03<00:27,  3.90it/s]\u001b[A"
     ]
    },
    {
     "name": "stdout",
     "output_type": "stream",
     "text": [
      "can't converge in 100 iterations\n",
      "can't converge in 100 iterations\n"
     ]
    },
    {
     "name": "stderr",
     "output_type": "stream",
     "text": [
      "\n",
      " 16%|█▋        | 21/128 [00:04<00:33,  3.24it/s]\u001b[A\n",
      " 19%|█▉        | 24/128 [00:04<00:23,  4.35it/s]\u001b[A"
     ]
    },
    {
     "name": "stdout",
     "output_type": "stream",
     "text": [
      "can't converge in 100 iterations\n"
     ]
    },
    {
     "name": "stderr",
     "output_type": "stream",
     "text": [
      "\n",
      " 20%|██        | 26/128 [00:04<00:18,  5.66it/s]\u001b[A\n",
      " 22%|██▏       | 28/128 [00:05<00:15,  6.63it/s]\u001b[A\n",
      " 25%|██▌       | 32/128 [00:05<00:11,  8.68it/s]\u001b[A\n",
      " 27%|██▋       | 34/128 [00:05<00:11,  8.40it/s]\u001b[A\n",
      " 29%|██▉       | 37/128 [00:05<00:08, 10.41it/s]\u001b[A\n",
      " 30%|███       | 39/128 [00:05<00:08, 11.07it/s]\u001b[A\n",
      " 34%|███▎      | 43/128 [00:05<00:06, 14.00it/s]\u001b[A\n",
      " 36%|███▌      | 46/128 [00:06<00:05, 13.78it/s]\u001b[A"
     ]
    },
    {
     "name": "stdout",
     "output_type": "stream",
     "text": [
      "can't converge in 100 iterations\n",
      "can't converge in 100 iterations\n"
     ]
    },
    {
     "name": "stderr",
     "output_type": "stream",
     "text": [
      "\n",
      " 38%|███▊      | 48/128 [00:07<00:17,  4.67it/s]\u001b[A\n",
      " 39%|███▉      | 50/128 [00:07<00:13,  5.96it/s]\u001b[A"
     ]
    },
    {
     "name": "stdout",
     "output_type": "stream",
     "text": [
      "can't converge in 100 iterations\n"
     ]
    },
    {
     "name": "stderr",
     "output_type": "stream",
     "text": [
      "\n",
      " 41%|████      | 52/128 [00:08<00:17,  4.46it/s]\u001b[A\n",
      " 42%|████▏     | 54/128 [00:08<00:12,  5.75it/s]\u001b[A"
     ]
    },
    {
     "name": "stdout",
     "output_type": "stream",
     "text": [
      "can't converge in 100 iterations\n"
     ]
    },
    {
     "name": "stderr",
     "output_type": "stream",
     "text": [
      "\n",
      " 44%|████▍     | 56/128 [00:08<00:10,  7.09it/s]\u001b[A\n",
      " 45%|████▌     | 58/128 [00:09<00:14,  4.92it/s]\u001b[A\n",
      " 47%|████▋     | 60/128 [00:09<00:11,  6.17it/s]"
     ]
    },
    {
     "name": "stdout",
     "output_type": "stream",
     "text": [
      "can't converge in 100 iterations\n"
     ]
    },
    {
     "name": "stderr",
     "output_type": "stream",
     "text": [
      "\u001b[A"
     ]
    },
    {
     "name": "stdout",
     "output_type": "stream",
     "text": [
      "can't converge in 100 iterations\n"
     ]
    },
    {
     "name": "stderr",
     "output_type": "stream",
     "text": [
      "\n",
      " 48%|████▊     | 62/128 [00:09<00:14,  4.56it/s]\u001b[A"
     ]
    },
    {
     "name": "stdout",
     "output_type": "stream",
     "text": [
      "can't converge in 100 iterations\n"
     ]
    },
    {
     "name": "stderr",
     "output_type": "stream",
     "text": [
      "\n",
      " 49%|████▉     | 63/128 [00:10<00:18,  3.60it/s]\u001b[A\n",
      " 50%|█████     | 64/128 [00:10<00:15,  4.17it/s]\u001b[A"
     ]
    },
    {
     "name": "stdout",
     "output_type": "stream",
     "text": [
      "can't converge in 100 iterations\n"
     ]
    },
    {
     "name": "stderr",
     "output_type": "stream",
     "text": [
      "\n",
      " 52%|█████▏    | 66/128 [00:10<00:11,  5.44it/s]\u001b[A\n",
      " 53%|█████▎    | 68/128 [00:10<00:09,  6.37it/s]\u001b[A\n",
      " 55%|█████▍    | 70/128 [00:10<00:08,  6.77it/s]\u001b[A\n",
      " 56%|█████▋    | 72/128 [00:11<00:07,  7.89it/s]\u001b[A\n",
      " 58%|█████▊    | 74/128 [00:11<00:07,  7.50it/s]\u001b[A"
     ]
    },
    {
     "name": "stdout",
     "output_type": "stream",
     "text": [
      "can't converge in 100 iterations\n"
     ]
    },
    {
     "name": "stderr",
     "output_type": "stream",
     "text": [
      "\n",
      " 60%|██████    | 77/128 [00:12<00:08,  6.08it/s]\u001b[A"
     ]
    },
    {
     "name": "stdout",
     "output_type": "stream",
     "text": [
      "can't converge in 100 iterations\n"
     ]
    },
    {
     "name": "stderr",
     "output_type": "stream",
     "text": [
      "\n",
      " 61%|██████    | 78/128 [00:12<00:14,  3.38it/s]\u001b[A\n",
      " 63%|██████▎   | 81/128 [00:12<00:10,  4.49it/s]\u001b[A"
     ]
    },
    {
     "name": "stdout",
     "output_type": "stream",
     "text": [
      "can't converge in 100 iterations\n",
      "can't converge in 100 iterations\n"
     ]
    },
    {
     "name": "stderr",
     "output_type": "stream",
     "text": [
      "\n",
      " 65%|██████▍   | 83/128 [00:13<00:11,  3.91it/s]\u001b[A"
     ]
    },
    {
     "name": "stdout",
     "output_type": "stream",
     "text": [
      "can't converge in 100 iterations\n",
      "can't converge in 100 iterations\n"
     ]
    },
    {
     "name": "stderr",
     "output_type": "stream",
     "text": [
      "\n",
      " 66%|██████▋   | 85/128 [00:14<00:12,  3.54it/s]\u001b[A\n",
      " 68%|██████▊   | 87/128 [00:14<00:08,  4.70it/s]\u001b[A"
     ]
    },
    {
     "name": "stdout",
     "output_type": "stream",
     "text": [
      "can't converge in 100 iterations\n"
     ]
    },
    {
     "name": "stderr",
     "output_type": "stream",
     "text": [
      "\n",
      " 70%|██████▉   | 89/128 [00:14<00:06,  5.59it/s]\u001b[A\n",
      " 72%|███████▏  | 92/128 [00:14<00:04,  7.27it/s]\u001b[A\n",
      " 73%|███████▎  | 94/128 [00:15<00:06,  5.13it/s]\u001b[A"
     ]
    },
    {
     "name": "stdout",
     "output_type": "stream",
     "text": [
      "can't converge in 100 iterations\n"
     ]
    },
    {
     "name": "stderr",
     "output_type": "stream",
     "text": [
      "\n",
      " 75%|███████▌  | 96/128 [00:15<00:05,  5.98it/s]\u001b[A\n",
      " 77%|███████▋  | 99/128 [00:15<00:03,  7.74it/s]\u001b[A"
     ]
    },
    {
     "name": "stdout",
     "output_type": "stream",
     "text": [
      "can't converge in 100 iterations\n"
     ]
    },
    {
     "name": "stderr",
     "output_type": "stream",
     "text": [
      "\n",
      " 79%|███████▉  | 101/128 [00:16<00:05,  4.99it/s]\u001b[A"
     ]
    },
    {
     "name": "stdout",
     "output_type": "stream",
     "text": [
      "can't converge in 100 iterations\n"
     ]
    },
    {
     "name": "stderr",
     "output_type": "stream",
     "text": [
      "\n",
      " 80%|████████  | 103/128 [00:16<00:05,  4.77it/s]\u001b[A"
     ]
    },
    {
     "name": "stdout",
     "output_type": "stream",
     "text": [
      "can't converge in 100 iterations\n"
     ]
    },
    {
     "name": "stderr",
     "output_type": "stream",
     "text": [
      "\n",
      " 82%|████████▏ | 105/128 [00:17<00:04,  5.52it/s]\u001b[A\n",
      " 84%|████████▍ | 108/128 [00:17<00:02,  7.18it/s]\u001b[A\n",
      " 86%|████████▌ | 110/128 [00:17<00:02,  8.69it/s]\u001b[A\n",
      " 88%|████████▊ | 112/128 [00:17<00:01, 10.43it/s]\u001b[A\n",
      " 89%|████████▉ | 114/128 [00:17<00:01,  7.36it/s]\u001b[A"
     ]
    },
    {
     "name": "stdout",
     "output_type": "stream",
     "text": [
      "can't converge in 100 iterations\n"
     ]
    },
    {
     "name": "stderr",
     "output_type": "stream",
     "text": [
      "\n",
      " 91%|█████████ | 116/128 [00:18<00:01,  7.90it/s]\u001b[A\n",
      " 93%|█████████▎| 119/128 [00:18<00:00,  9.34it/s]\u001b[A"
     ]
    },
    {
     "name": "stdout",
     "output_type": "stream",
     "text": [
      "can't converge in 100 iterations\n",
      "can't converge in 100 iterations\n"
     ]
    },
    {
     "name": "stderr",
     "output_type": "stream",
     "text": [
      "\n",
      " 95%|█████████▍| 121/128 [00:19<00:01,  4.27it/s]\u001b[A\n",
      " 95%|█████████▌| 122/128 [00:19<00:01,  4.48it/s]\u001b[A"
     ]
    },
    {
     "name": "stdout",
     "output_type": "stream",
     "text": [
      "can't converge in 100 iterations\n",
      "can't converge in 100 iterations\n"
     ]
    },
    {
     "name": "stderr",
     "output_type": "stream",
     "text": [
      "\n",
      " 96%|█████████▌| 123/128 [00:20<00:01,  2.88it/s]\u001b[A"
     ]
    },
    {
     "name": "stdout",
     "output_type": "stream",
     "text": [
      "can't converge in 100 iterations\n"
     ]
    },
    {
     "name": "stderr",
     "output_type": "stream",
     "text": [
      "\n",
      "100%|██████████| 128/128 [00:20<00:00,  6.18it/s]\u001b[A\n",
      "\n",
      "  0%|          | 0/128 [00:00<?, ?it/s]\u001b[A"
     ]
    },
    {
     "name": "stdout",
     "output_type": "stream",
     "text": [
      "can't converge in 100 iterations\n"
     ]
    },
    {
     "name": "stderr",
     "output_type": "stream",
     "text": [
      "\n",
      "  2%|▏         | 2/128 [00:00<00:14,  9.00it/s]\u001b[A"
     ]
    },
    {
     "name": "stdout",
     "output_type": "stream",
     "text": [
      "can't converge in 100 iterations\n"
     ]
    },
    {
     "name": "stderr",
     "output_type": "stream",
     "text": [
      "\n",
      "  3%|▎         | 4/128 [00:00<00:22,  5.45it/s]\u001b[A\n",
      "  5%|▍         | 6/128 [00:01<00:18,  6.77it/s]\u001b[A"
     ]
    },
    {
     "name": "stdout",
     "output_type": "stream",
     "text": [
      "can't converge in 100 iterations\n"
     ]
    },
    {
     "name": "stderr",
     "output_type": "stream",
     "text": [
      "\n",
      "  5%|▌         | 7/128 [00:01<00:29,  4.11it/s]\u001b[A\n",
      "  7%|▋         | 9/128 [00:01<00:22,  5.34it/s]\u001b[A"
     ]
    },
    {
     "name": "stdout",
     "output_type": "stream",
     "text": [
      "can't converge in 100 iterations\n"
     ]
    },
    {
     "name": "stderr",
     "output_type": "stream",
     "text": [
      "\n",
      "  8%|▊         | 10/128 [00:01<00:19,  5.98it/s]\u001b[A\n",
      "  9%|▊         | 11/128 [00:01<00:18,  6.41it/s]\u001b[A\n",
      "  9%|▉         | 12/128 [00:02<00:27,  4.22it/s]\u001b[A\n",
      " 10%|█         | 13/128 [00:02<00:25,  4.50it/s]\u001b[A"
     ]
    },
    {
     "name": "stdout",
     "output_type": "stream",
     "text": [
      "can't converge in 100 iterations\n",
      "can't converge in 100 iterations\n"
     ]
    },
    {
     "name": "stderr",
     "output_type": "stream",
     "text": [
      "\n",
      " 11%|█         | 14/128 [00:03<00:40,  2.84it/s]\u001b[A"
     ]
    },
    {
     "name": "stdout",
     "output_type": "stream",
     "text": [
      "can't converge in 100 iterations\n",
      "can't converge in 100 iterations\n"
     ]
    },
    {
     "name": "stderr",
     "output_type": "stream",
     "text": [
      "\n",
      " 12%|█▏        | 15/128 [00:03<00:50,  2.24it/s]\u001b[A"
     ]
    },
    {
     "name": "stdout",
     "output_type": "stream",
     "text": [
      "can't converge in 100 iterations\n"
     ]
    },
    {
     "name": "stderr",
     "output_type": "stream",
     "text": [
      "\n",
      " 13%|█▎        | 17/128 [00:04<00:42,  2.62it/s]\u001b[A"
     ]
    },
    {
     "name": "stdout",
     "output_type": "stream",
     "text": [
      "can't converge in 100 iterations\n"
     ]
    },
    {
     "name": "stderr",
     "output_type": "stream",
     "text": [
      "\n",
      " 15%|█▍        | 19/128 [00:04<00:37,  2.93it/s]\u001b[A"
     ]
    },
    {
     "name": "stdout",
     "output_type": "stream",
     "text": [
      "can't converge in 100 iterations\n"
     ]
    },
    {
     "name": "stderr",
     "output_type": "stream",
     "text": [
      "\n",
      " 16%|█▋        | 21/128 [00:05<00:33,  3.23it/s]\u001b[A\n",
      " 19%|█▉        | 24/128 [00:05<00:23,  4.35it/s]\u001b[A"
     ]
    },
    {
     "name": "stdout",
     "output_type": "stream",
     "text": [
      "can't converge in 100 iterations\n"
     ]
    },
    {
     "name": "stderr",
     "output_type": "stream",
     "text": [
      "\n",
      " 21%|██        | 27/128 [00:05<00:17,  5.84it/s]\u001b[A\n",
      " 23%|██▎       | 29/128 [00:05<00:15,  6.51it/s]\u001b[A\n",
      " 25%|██▌       | 32/128 [00:05<00:11,  8.47it/s]\u001b[A"
     ]
    },
    {
     "name": "stdout",
     "output_type": "stream",
     "text": [
      "can't converge in 100 iterations\n"
     ]
    },
    {
     "name": "stderr",
     "output_type": "stream",
     "text": [
      "\n",
      " 27%|██▋       | 34/128 [00:06<00:17,  5.47it/s]\u001b[A"
     ]
    },
    {
     "name": "stdout",
     "output_type": "stream",
     "text": [
      "can't converge in 100 iterations\n",
      "can't converge in 100 iterations\n"
     ]
    },
    {
     "name": "stderr",
     "output_type": "stream",
     "text": [
      "\n",
      " 28%|██▊       | 36/128 [00:07<00:23,  3.97it/s]\u001b[A\n",
      " 30%|██▉       | 38/128 [00:07<00:18,  4.90it/s]\u001b[A\n",
      " 31%|███▏      | 40/128 [00:07<00:16,  5.40it/s]\u001b[A\n",
      " 32%|███▏      | 41/128 [00:07<00:16,  5.34it/s]\u001b[A\n",
      " 33%|███▎      | 42/128 [00:08<00:21,  3.97it/s]\u001b[A\n",
      " 34%|███▍      | 44/128 [00:08<00:16,  5.12it/s]\u001b[A"
     ]
    },
    {
     "name": "stdout",
     "output_type": "stream",
     "text": [
      "can't converge in 100 iterations\n",
      "can't converge in 100 iterations\n"
     ]
    },
    {
     "name": "stderr",
     "output_type": "stream",
     "text": [
      "\n",
      " 35%|███▌      | 45/128 [00:09<00:28,  2.96it/s]\u001b[A"
     ]
    },
    {
     "name": "stdout",
     "output_type": "stream",
     "text": [
      "can't converge in 100 iterations\n"
     ]
    },
    {
     "name": "stderr",
     "output_type": "stream",
     "text": [
      "\n",
      " 38%|███▊      | 48/128 [00:09<00:22,  3.57it/s]\u001b[A"
     ]
    },
    {
     "name": "stdout",
     "output_type": "stream",
     "text": [
      "can't converge in 100 iterations\n"
     ]
    },
    {
     "name": "stderr",
     "output_type": "stream",
     "text": [
      "\n",
      " 39%|███▉      | 50/128 [00:10<00:20,  3.76it/s]\u001b[A"
     ]
    },
    {
     "name": "stdout",
     "output_type": "stream",
     "text": [
      "can't converge in 100 iterations\n"
     ]
    },
    {
     "name": "stderr",
     "output_type": "stream",
     "text": [
      "\n",
      " 40%|███▉      | 51/128 [00:10<00:24,  3.20it/s]\u001b[A\n",
      " 43%|████▎     | 55/128 [00:10<00:16,  4.41it/s]\u001b[A"
     ]
    },
    {
     "name": "stdout",
     "output_type": "stream",
     "text": [
      "can't converge in 100 iterations\n"
     ]
    },
    {
     "name": "stderr",
     "output_type": "stream",
     "text": [
      "\n",
      " 45%|████▍     | 57/128 [00:11<00:15,  4.44it/s]\u001b[A"
     ]
    },
    {
     "name": "stdout",
     "output_type": "stream",
     "text": [
      "can't converge in 100 iterations\n"
     ]
    },
    {
     "name": "stderr",
     "output_type": "stream",
     "text": [
      "\n",
      " 46%|████▌     | 59/128 [00:11<00:13,  5.04it/s]\u001b[A\n",
      " 48%|████▊     | 61/128 [00:11<00:12,  5.38it/s]\u001b[A"
     ]
    },
    {
     "name": "stdout",
     "output_type": "stream",
     "text": [
      "can't converge in 100 iterations\n"
     ]
    },
    {
     "name": "stderr",
     "output_type": "stream",
     "text": [
      "\n",
      " 48%|████▊     | 62/128 [00:12<00:21,  3.12it/s]\u001b[A"
     ]
    },
    {
     "name": "stdout",
     "output_type": "stream",
     "text": [
      "can't converge in 100 iterations\n"
     ]
    },
    {
     "name": "stderr",
     "output_type": "stream",
     "text": [
      "\n",
      " 49%|████▉     | 63/128 [00:12<00:22,  2.85it/s]\u001b[A"
     ]
    },
    {
     "name": "stdout",
     "output_type": "stream",
     "text": [
      "can't converge in 100 iterations\n"
     ]
    },
    {
     "name": "stderr",
     "output_type": "stream",
     "text": [
      "\n",
      " 51%|█████     | 65/128 [00:13<00:21,  2.92it/s]\u001b[A"
     ]
    },
    {
     "name": "stdout",
     "output_type": "stream",
     "text": [
      "can't converge in 100 iterations\n",
      "can't converge in 100 iterations\n"
     ]
    },
    {
     "name": "stderr",
     "output_type": "stream",
     "text": [
      "\n",
      " 54%|█████▍    | 69/128 [00:14<00:17,  3.40it/s]\u001b[A"
     ]
    },
    {
     "name": "stdout",
     "output_type": "stream",
     "text": [
      "can't converge in 100 iterations\n",
      "can't converge in 100 iterations\n"
     ]
    },
    {
     "name": "stderr",
     "output_type": "stream",
     "text": [
      "\n",
      " 55%|█████▌    | 71/128 [00:14<00:17,  3.28it/s]\u001b[A"
     ]
    },
    {
     "name": "stdout",
     "output_type": "stream",
     "text": [
      "can't converge in 100 iterations\n"
     ]
    },
    {
     "name": "stderr",
     "output_type": "stream",
     "text": [
      "\n",
      " 56%|█████▋    | 72/128 [00:14<00:15,  3.60it/s]\u001b[A\n",
      " 59%|█████▉    | 76/128 [00:15<00:10,  4.92it/s]\u001b[A\n",
      " 61%|██████    | 78/128 [00:15<00:10,  4.70it/s]\u001b[A"
     ]
    },
    {
     "name": "stdout",
     "output_type": "stream",
     "text": [
      "can't converge in 100 iterations\n"
     ]
    },
    {
     "name": "stderr",
     "output_type": "stream",
     "text": [
      "\n",
      " 62%|██████▎   | 80/128 [00:15<00:09,  5.28it/s]\u001b[A"
     ]
    },
    {
     "name": "stdout",
     "output_type": "stream",
     "text": [
      "can't converge in 100 iterations\n"
     ]
    },
    {
     "name": "stderr",
     "output_type": "stream",
     "text": [
      "\n",
      " 63%|██████▎   | 81/128 [00:16<00:15,  3.11it/s]\u001b[A"
     ]
    },
    {
     "name": "stdout",
     "output_type": "stream",
     "text": [
      "can't converge in 100 iterations\n",
      "can't converge in 100 iterations\n"
     ]
    },
    {
     "name": "stderr",
     "output_type": "stream",
     "text": [
      "\n",
      " 64%|██████▍   | 82/128 [00:17<00:19,  2.40it/s]\u001b[A\n",
      " 66%|██████▌   | 84/128 [00:17<00:13,  3.25it/s]\u001b[A"
     ]
    },
    {
     "name": "stdout",
     "output_type": "stream",
     "text": [
      "can't converge in 100 iterations\n"
     ]
    },
    {
     "name": "stderr",
     "output_type": "stream",
     "text": [
      "\n",
      " 66%|██████▋   | 85/128 [00:17<00:14,  2.95it/s]\u001b[A\n",
      " 68%|██████▊   | 87/128 [00:17<00:10,  3.90it/s]\u001b[A"
     ]
    },
    {
     "name": "stdout",
     "output_type": "stream",
     "text": [
      "can't converge in 100 iterations\n"
     ]
    },
    {
     "name": "stderr",
     "output_type": "stream",
     "text": [
      "\n",
      " 70%|██████▉   | 89/128 [00:17<00:07,  4.94it/s]\u001b[A\n",
      " 72%|███████▏  | 92/128 [00:17<00:05,  6.54it/s]\u001b[A\n",
      " 74%|███████▍  | 95/128 [00:18<00:04,  7.41it/s]\u001b[A"
     ]
    },
    {
     "name": "stdout",
     "output_type": "stream",
     "text": [
      "can't converge in 100 iterations\n",
      "can't converge in 100 iterations\n"
     ]
    },
    {
     "name": "stderr",
     "output_type": "stream",
     "text": [
      "\n",
      " 76%|███████▌  | 97/128 [00:19<00:07,  3.88it/s]\u001b[A"
     ]
    },
    {
     "name": "stdout",
     "output_type": "stream",
     "text": [
      "can't converge in 100 iterations\n",
      "can't converge in 100 iterations\n",
      "can't converge in 100 iterations\n"
     ]
    },
    {
     "name": "stderr",
     "output_type": "stream",
     "text": [
      "\n",
      " 77%|███████▋  | 99/128 [00:20<00:09,  2.91it/s]\u001b[A\n",
      " 79%|███████▉  | 101/128 [00:20<00:07,  3.75it/s]\u001b[A"
     ]
    },
    {
     "name": "stdout",
     "output_type": "stream",
     "text": [
      "can't converge in 100 iterations\n",
      "can't converge in 100 iterations\n"
     ]
    },
    {
     "name": "stderr",
     "output_type": "stream",
     "text": [
      "\n",
      " 80%|████████  | 103/128 [00:21<00:07,  3.48it/s]\u001b[A\n",
      " 83%|████████▎ | 106/128 [00:21<00:04,  4.68it/s]\u001b[A"
     ]
    },
    {
     "name": "stdout",
     "output_type": "stream",
     "text": [
      "can't converge in 100 iterations\n",
      "can't converge in 100 iterations\n"
     ]
    },
    {
     "name": "stderr",
     "output_type": "stream",
     "text": [
      "\n",
      " 84%|████████▍ | 108/128 [00:22<00:04,  4.01it/s]\u001b[A\n",
      " 87%|████████▋ | 111/128 [00:22<00:03,  5.35it/s]\u001b[A"
     ]
    },
    {
     "name": "stdout",
     "output_type": "stream",
     "text": [
      "can't converge in 100 iterations\n"
     ]
    },
    {
     "name": "stderr",
     "output_type": "stream",
     "text": [
      "\n",
      " 90%|████████▉ | 115/128 [00:22<00:01,  7.17it/s]\u001b[A\n",
      " 92%|█████████▏| 118/128 [00:22<00:01,  8.31it/s]\u001b[A\n",
      " 94%|█████████▍| 120/128 [00:23<00:01,  6.40it/s]\u001b[A"
     ]
    },
    {
     "name": "stdout",
     "output_type": "stream",
     "text": [
      "can't converge in 100 iterations\n",
      "can't converge in 100 iterations\n"
     ]
    },
    {
     "name": "stderr",
     "output_type": "stream",
     "text": [
      "\n",
      " 95%|█████████▌| 122/128 [00:23<00:01,  4.83it/s]\u001b[A\n",
      " 98%|█████████▊| 125/128 [00:23<00:00,  6.32it/s]\u001b[A"
     ]
    },
    {
     "name": "stdout",
     "output_type": "stream",
     "text": [
      "can't converge in 100 iterations\n"
     ]
    },
    {
     "name": "stderr",
     "output_type": "stream",
     "text": [
      "\n",
      "100%|██████████| 128/128 [00:23<00:00,  5.34it/s]\u001b[A\n",
      "\n",
      "  0%|          | 0/128 [00:00<?, ?it/s]\u001b[A\n",
      "  1%|          | 1/128 [00:00<00:20,  6.20it/s]\u001b[A\n",
      "  3%|▎         | 4/128 [00:00<00:15,  8.03it/s]\u001b[A\n",
      "  5%|▍         | 6/128 [00:00<00:13,  8.73it/s]\u001b[A"
     ]
    },
    {
     "name": "stdout",
     "output_type": "stream",
     "text": [
      "can't converge in 100 iterations\n"
     ]
    },
    {
     "name": "stderr",
     "output_type": "stream",
     "text": [
      "\n",
      "  5%|▌         | 7/128 [00:01<00:32,  3.70it/s]\u001b[A"
     ]
    },
    {
     "name": "stdout",
     "output_type": "stream",
     "text": [
      "can't converge in 100 iterations\n",
      "can't converge in 100 iterations\n"
     ]
    },
    {
     "name": "stderr",
     "output_type": "stream",
     "text": [
      "\n",
      "  8%|▊         | 10/128 [00:01<00:30,  3.82it/s]\u001b[A"
     ]
    },
    {
     "name": "stdout",
     "output_type": "stream",
     "text": [
      "can't converge in 100 iterations\n"
     ]
    },
    {
     "name": "stderr",
     "output_type": "stream",
     "text": [
      "\n",
      " 10%|█         | 13/128 [00:02<00:24,  4.74it/s]\u001b[A\n",
      " 11%|█         | 14/128 [00:02<00:31,  3.65it/s]\u001b[A\n",
      " 13%|█▎        | 17/128 [00:02<00:22,  4.95it/s]\u001b[A"
     ]
    },
    {
     "name": "stdout",
     "output_type": "stream",
     "text": [
      "can't converge in 100 iterations\n"
     ]
    },
    {
     "name": "stderr",
     "output_type": "stream",
     "text": [
      "\n",
      " 15%|█▍        | 19/128 [00:02<00:17,  6.38it/s]\u001b[A\n",
      " 17%|█▋        | 22/128 [00:02<00:14,  7.31it/s]\u001b[A\n",
      " 19%|█▉        | 24/128 [00:03<00:17,  5.91it/s]\u001b[A\n",
      " 20%|██        | 26/128 [00:03<00:13,  7.45it/s]\u001b[A"
     ]
    },
    {
     "name": "stdout",
     "output_type": "stream",
     "text": [
      "can't converge in 100 iterations\n"
     ]
    },
    {
     "name": "stderr",
     "output_type": "stream",
     "text": [
      "\n",
      " 22%|██▏       | 28/128 [00:03<00:11,  8.34it/s]\u001b[A\n",
      " 25%|██▌       | 32/128 [00:04<00:09,  9.65it/s]\u001b[A\n",
      " 27%|██▋       | 34/128 [00:04<00:13,  7.20it/s]\u001b[A"
     ]
    },
    {
     "name": "stdout",
     "output_type": "stream",
     "text": [
      "can't converge in 100 iterations\n"
     ]
    },
    {
     "name": "stderr",
     "output_type": "stream",
     "text": [
      "\n",
      " 28%|██▊       | 36/128 [00:04<00:12,  7.17it/s]\u001b[A\n",
      " 30%|███       | 39/128 [00:04<00:09,  9.29it/s]\u001b[A\n",
      " 33%|███▎      | 42/128 [00:04<00:07, 11.61it/s]\u001b[A\n",
      " 35%|███▌      | 45/128 [00:05<00:05, 13.92it/s]\u001b[A\n",
      " 38%|███▊      | 48/128 [00:05<00:04, 16.31it/s]\u001b[A\n",
      " 40%|███▉      | 51/128 [00:05<00:05, 14.59it/s]\u001b[A\n",
      " 41%|████▏     | 53/128 [00:05<00:05, 13.97it/s]\u001b[A\n",
      " 45%|████▍     | 57/128 [00:05<00:04, 16.42it/s]\u001b[A"
     ]
    },
    {
     "name": "stdout",
     "output_type": "stream",
     "text": [
      "can't converge in 100 iterations\n"
     ]
    },
    {
     "name": "stderr",
     "output_type": "stream",
     "text": [
      "\n",
      " 47%|████▋     | 60/128 [00:06<00:07,  8.68it/s]\u001b[A"
     ]
    },
    {
     "name": "stdout",
     "output_type": "stream",
     "text": [
      "can't converge in 100 iterations\n"
     ]
    },
    {
     "name": "stderr",
     "output_type": "stream",
     "text": [
      "\n",
      " 48%|████▊     | 62/128 [00:06<00:07,  9.14it/s]\u001b[A\n",
      " 51%|█████     | 65/128 [00:06<00:05, 11.25it/s]\u001b[A\n",
      " 52%|█████▏    | 67/128 [00:07<00:07,  8.01it/s]\u001b[A\n",
      " 54%|█████▍    | 69/128 [00:07<00:06,  8.57it/s]"
     ]
    },
    {
     "name": "stdout",
     "output_type": "stream",
     "text": [
      "can't converge in 100 iterations\n"
     ]
    },
    {
     "name": "stderr",
     "output_type": "stream",
     "text": [
      "\u001b[A\n",
      " 55%|█████▌    | 71/128 [00:07<00:06,  8.42it/s]\u001b[A\n",
      " 57%|█████▋    | 73/128 [00:07<00:05,  9.22it/s]\u001b[A\n",
      " 59%|█████▊    | 75/128 [00:08<00:06,  8.50it/s]\u001b[A\n",
      " 61%|██████    | 78/128 [00:08<00:04, 10.56it/s]\u001b[A\n",
      " 62%|██████▎   | 80/128 [00:08<00:04, 10.53it/s]\u001b[A\n",
      " 64%|██████▍   | 82/128 [00:08<00:06,  6.64it/s]\u001b[A"
     ]
    },
    {
     "name": "stdout",
     "output_type": "stream",
     "text": [
      "can't converge in 100 iterations\n"
     ]
    },
    {
     "name": "stderr",
     "output_type": "stream",
     "text": [
      "\n",
      " 66%|██████▌   | 84/128 [00:09<00:09,  4.88it/s]\u001b[A\n",
      " 68%|██████▊   | 87/128 [00:09<00:06,  6.47it/s]\u001b[A"
     ]
    },
    {
     "name": "stdout",
     "output_type": "stream",
     "text": [
      "can't converge in 100 iterations\n"
     ]
    },
    {
     "name": "stderr",
     "output_type": "stream",
     "text": [
      "\n",
      " 70%|██████▉   | 89/128 [00:09<00:04,  7.92it/s]\u001b[A\n",
      " 71%|███████   | 91/128 [00:10<00:04,  8.80it/s]\u001b[A\n",
      " 73%|███████▎  | 93/128 [00:10<00:03, 10.50it/s]\u001b[A\n",
      " 74%|███████▍  | 95/128 [00:10<00:02, 11.08it/s]\u001b[A\n",
      " 76%|███████▌  | 97/128 [00:10<00:02, 10.76it/s]\u001b[A\n",
      " 78%|███████▊  | 100/128 [00:10<00:02, 12.23it/s]\u001b[A"
     ]
    },
    {
     "name": "stdout",
     "output_type": "stream",
     "text": [
      "can't converge in 100 iterations\n"
     ]
    },
    {
     "name": "stderr",
     "output_type": "stream",
     "text": [
      "\n",
      " 80%|███████▉  | 102/128 [00:11<00:04,  5.84it/s]\u001b[A\n",
      " 81%|████████▏ | 104/128 [00:11<00:03,  7.16it/s]\u001b[A"
     ]
    },
    {
     "name": "stdout",
     "output_type": "stream",
     "text": [
      "can't converge in 100 iterations\n"
     ]
    },
    {
     "name": "stderr",
     "output_type": "stream",
     "text": [
      "\n",
      " 84%|████████▍ | 108/128 [00:11<00:02,  9.36it/s]\u001b[A\n",
      " 86%|████████▌ | 110/128 [00:11<00:01, 11.04it/s]\u001b[A\n",
      " 89%|████████▉ | 114/128 [00:11<00:01, 13.91it/s]\u001b[A\n",
      " 91%|█████████▏| 117/128 [00:12<00:00, 15.39it/s]\u001b[A\n",
      " 94%|█████████▍| 120/128 [00:12<00:00, 13.49it/s]\u001b[A\n",
      " 96%|█████████▌| 123/128 [00:12<00:00, 15.88it/s]\u001b[A\n",
      " 98%|█████████▊| 126/128 [00:12<00:00, 12.86it/s]\u001b[A"
     ]
    },
    {
     "name": "stdout",
     "output_type": "stream",
     "text": [
      "can't converge in 100 iterations\n",
      "can't converge in 100 iterations\n"
     ]
    },
    {
     "name": "stderr",
     "output_type": "stream",
     "text": [
      "\n",
      "100%|██████████| 128/128 [00:13<00:00,  9.25it/s]\u001b[A\n",
      "\n",
      "  0%|          | 0/60 [00:00<?, ?it/s]\u001b[A"
     ]
    },
    {
     "name": "stdout",
     "output_type": "stream",
     "text": [
      "can't converge in 100 iterations\n",
      "can't converge in 100 iterations\n"
     ]
    },
    {
     "name": "stderr",
     "output_type": "stream",
     "text": [
      "\n",
      "  5%|▌         | 3/60 [00:00<00:13,  4.24it/s]\u001b[A"
     ]
    },
    {
     "name": "stdout",
     "output_type": "stream",
     "text": [
      "can't converge in 100 iterations\n",
      "can't converge in 100 iterations\n"
     ]
    },
    {
     "name": "stderr",
     "output_type": "stream",
     "text": [
      "\n",
      " 10%|█         | 6/60 [00:01<00:12,  4.24it/s]\u001b[A"
     ]
    },
    {
     "name": "stdout",
     "output_type": "stream",
     "text": [
      "can't converge in 100 iterations\n",
      "can't converge in 100 iterations\n"
     ]
    },
    {
     "name": "stderr",
     "output_type": "stream",
     "text": [
      "\n",
      " 13%|█▎        | 8/60 [00:02<00:13,  3.78it/s]\u001b[A"
     ]
    },
    {
     "name": "stdout",
     "output_type": "stream",
     "text": [
      "can't converge in 100 iterations\n"
     ]
    },
    {
     "name": "stderr",
     "output_type": "stream",
     "text": [
      "\n",
      " 15%|█▌        | 9/60 [00:02<00:16,  3.17it/s]\u001b[A"
     ]
    },
    {
     "name": "stdout",
     "output_type": "stream",
     "text": [
      "can't converge in 100 iterations\n",
      "can't converge in 100 iterations\n"
     ]
    },
    {
     "name": "stderr",
     "output_type": "stream",
     "text": [
      "\n",
      " 18%|█▊        | 11/60 [00:03<00:15,  3.09it/s]\u001b[A"
     ]
    },
    {
     "name": "stdout",
     "output_type": "stream",
     "text": [
      "can't converge in 100 iterations\n"
     ]
    },
    {
     "name": "stderr",
     "output_type": "stream",
     "text": [
      "\n",
      " 23%|██▎       | 14/60 [00:03<00:11,  4.05it/s]\u001b[A"
     ]
    },
    {
     "name": "stdout",
     "output_type": "stream",
     "text": [
      "can't converge in 100 iterations\n"
     ]
    },
    {
     "name": "stderr",
     "output_type": "stream",
     "text": [
      "\n",
      " 25%|██▌       | 15/60 [00:04<00:16,  2.75it/s]\u001b[A\n",
      " 28%|██▊       | 17/60 [00:04<00:11,  3.67it/s]\u001b[A"
     ]
    },
    {
     "name": "stdout",
     "output_type": "stream",
     "text": [
      "can't converge in 100 iterations\n"
     ]
    },
    {
     "name": "stderr",
     "output_type": "stream",
     "text": [
      "\n",
      " 33%|███▎      | 20/60 [00:04<00:08,  4.58it/s]\u001b[A\n",
      " 35%|███▌      | 21/60 [00:04<00:10,  3.58it/s]\u001b[A\n",
      " 38%|███▊      | 23/60 [00:04<00:07,  4.75it/s]\u001b[A"
     ]
    },
    {
     "name": "stdout",
     "output_type": "stream",
     "text": [
      "can't converge in 100 iterations\n",
      "can't converge in 100 iterations\n",
      "can't converge in 100 iterations\n"
     ]
    },
    {
     "name": "stderr",
     "output_type": "stream",
     "text": [
      "\n",
      " 42%|████▏     | 25/60 [00:06<00:10,  3.28it/s]\u001b[A"
     ]
    },
    {
     "name": "stdout",
     "output_type": "stream",
     "text": [
      "can't converge in 100 iterations\n"
     ]
    },
    {
     "name": "stderr",
     "output_type": "stream",
     "text": [
      "\n",
      " 43%|████▎     | 26/60 [00:06<00:11,  2.92it/s]\u001b[A\n",
      " 45%|████▌     | 27/60 [00:06<00:09,  3.47it/s]\u001b[A"
     ]
    },
    {
     "name": "stdout",
     "output_type": "stream",
     "text": [
      "can't converge in 100 iterations\n"
     ]
    },
    {
     "name": "stderr",
     "output_type": "stream",
     "text": [
      "\n",
      " 48%|████▊     | 29/60 [00:06<00:06,  4.47it/s]\u001b[A\n",
      " 50%|█████     | 30/60 [00:07<00:09,  3.32it/s]\u001b[A"
     ]
    },
    {
     "name": "stdout",
     "output_type": "stream",
     "text": [
      "can't converge in 100 iterations\n"
     ]
    },
    {
     "name": "stderr",
     "output_type": "stream",
     "text": [
      "\n",
      " 53%|█████▎    | 32/60 [00:07<00:08,  3.36it/s]\u001b[A\n",
      " 58%|█████▊    | 35/60 [00:07<00:05,  4.56it/s]\u001b[A"
     ]
    },
    {
     "name": "stdout",
     "output_type": "stream",
     "text": [
      "can't converge in 100 iterations\n"
     ]
    },
    {
     "name": "stderr",
     "output_type": "stream",
     "text": [
      "\n",
      " 62%|██████▏   | 37/60 [00:08<00:05,  4.50it/s]\u001b[A\n",
      " 67%|██████▋   | 40/60 [00:08<00:03,  5.98it/s]\u001b[A"
     ]
    },
    {
     "name": "stdout",
     "output_type": "stream",
     "text": [
      "can't converge in 100 iterations\n"
     ]
    },
    {
     "name": "stderr",
     "output_type": "stream",
     "text": [
      "\n",
      " 70%|███████   | 42/60 [00:08<00:02,  7.48it/s]\u001b[A\n",
      " 75%|███████▌  | 45/60 [00:09<00:02,  7.20it/s]\u001b[A"
     ]
    },
    {
     "name": "stdout",
     "output_type": "stream",
     "text": [
      "can't converge in 100 iterations\n"
     ]
    },
    {
     "name": "stderr",
     "output_type": "stream",
     "text": [
      "\n",
      " 80%|████████  | 48/60 [00:09<00:01,  6.61it/s]\u001b[A\n",
      " 83%|████████▎ | 50/60 [00:09<00:01,  7.98it/s]\u001b[A"
     ]
    },
    {
     "name": "stdout",
     "output_type": "stream",
     "text": [
      "can't converge in 100 iterations\n"
     ]
    },
    {
     "name": "stderr",
     "output_type": "stream",
     "text": [
      "\n",
      " 90%|█████████ | 54/60 [00:09<00:00,  9.31it/s]\u001b[A"
     ]
    },
    {
     "name": "stdout",
     "output_type": "stream",
     "text": [
      "can't converge in 100 iterations\n"
     ]
    },
    {
     "name": "stderr",
     "output_type": "stream",
     "text": [
      "\n",
      " 93%|█████████▎| 56/60 [00:10<00:00,  5.64it/s]\u001b[A"
     ]
    },
    {
     "name": "stdout",
     "output_type": "stream",
     "text": [
      "can't converge in 100 iterations\n"
     ]
    },
    {
     "name": "stderr",
     "output_type": "stream",
     "text": [
      "\n",
      "100%|██████████| 60/60 [00:11<00:00,  5.36it/s]\u001b[A"
     ]
    },
    {
     "name": "stdout",
     "output_type": "stream",
     "text": [
      "can't converge in 100 iterations\n"
     ]
    },
    {
     "name": "stderr",
     "output_type": "stream",
     "text": [
      "\n"
     ]
    }
   ],
   "source": [
    "pos_ri,pos_ri_norms = computeRi(hybrid_model.classifier,attributes,testpos_hybrid,attribute_len,\n",
    "                               0)"
   ]
  },
  {
   "cell_type": "code",
   "execution_count": 24,
   "metadata": {},
   "outputs": [
    {
     "data": {
      "text/plain": [
       "<matplotlib.axes._subplots.AxesSubplot at 0x7effdcb53a58>"
      ]
     },
     "execution_count": 24,
     "metadata": {},
     "output_type": "execute_result"
    },
    {
     "data": {
      "image/png": "[encoded data removed]",
      "text/plain": [
       "<Figure size 432x288 with 1 Axes>"
      ]
     },
     "metadata": {
      "needs_background": "light"
     },
     "output_type": "display_data"
    }
   ],
   "source": [
    "positives_variation_df = pd.DataFrame(data= pos_ri_norms,columns=attributes)\n",
    "positives_variation_df.sum(numeric_only=True).plot.bar()"
   ]
  },
  {
   "cell_type": "code",
   "execution_count": 25,
   "metadata": {},
   "outputs": [],
   "source": [
    "positives_variation_df.to_csv('experiment_results/testpos_ri_hybrid.csv',index=False)"
   ]
  },
  {
   "cell_type": "markdown",
   "metadata": {},
   "source": [
    "## Nearest neighbors discovery"
   ]
  },
  {
   "cell_type": "code",
   "execution_count": 26,
   "metadata": {},
   "outputs": [],
   "source": [
    "from utils.distance_measures import calculate_nearest_neighbors_onAttributes"
   ]
  },
  {
   "cell_type": "code",
   "execution_count": 27,
   "metadata": {},
   "outputs": [
    {
     "name": "stderr",
     "output_type": "stream",
     "text": [
      "\n",
      "  0%|          | 0/128 [00:00<?, ?it/s]\u001b[A\n",
      " 21%|██        | 27/128 [00:00<00:00, 264.35it/s]\u001b[A\n",
      " 45%|████▌     | 58/128 [00:00<00:00, 275.73it/s]\u001b[A\n",
      " 70%|██████▉   | 89/128 [00:00<00:00, 284.30it/s]\u001b[A\n",
      "100%|██████████| 128/128 [00:00<00:00, 295.31it/s]\u001b[A\n",
      "\n",
      "  0%|          | 0/128 [00:00<?, ?it/s]\u001b[A\n",
      " 25%|██▌       | 32/128 [00:00<00:00, 311.67it/s]\u001b[A\n",
      " 49%|████▉     | 63/128 [00:00<00:00, 309.77it/s]\u001b[A\n",
      "100%|██████████| 128/128 [00:00<00:00, 357.02it/s]\u001b[A\n",
      "\n",
      "  0%|          | 0/128 [00:00<?, ?it/s]\u001b[A\n",
      " 37%|███▋      | 47/128 [00:00<00:00, 464.55it/s]\u001b[A\n",
      "100%|██████████| 128/128 [00:00<00:00, 457.48it/s][A\n",
      "\n",
      "  0%|          | 0/128 [00:00<?, ?it/s]\u001b[A\n",
      " 37%|███▋      | 47/128 [00:00<00:00, 463.47it/s]\u001b[A\n",
      "100%|██████████| 128/128 [00:00<00:00, 458.25it/s][A\n",
      "\n",
      "  0%|          | 0/109 [00:00<?, ?it/s]\u001b[A\n",
      " 43%|████▎     | 47/109 [00:00<00:00, 466.45it/s]\u001b[A\n",
      "100%|██████████| 109/109 [00:00<00:00, 457.55it/s][A\n",
      "\n",
      "  0%|          | 0/128 [00:00<?, ?it/s]\u001b[A\n",
      " 37%|███▋      | 47/128 [00:00<00:00, 465.31it/s]\u001b[A\n",
      "100%|██████████| 128/128 [00:00<00:00, 458.29it/s][A\n",
      "\n",
      "  0%|          | 0/128 [00:00<?, ?it/s]\u001b[A\n",
      " 37%|███▋      | 47/128 [00:00<00:00, 464.86it/s]\u001b[A\n",
      "100%|██████████| 128/128 [00:00<00:00, 457.79it/s][A\n",
      "\n",
      "  0%|          | 0/128 [00:00<?, ?it/s]\u001b[A\n",
      " 37%|███▋      | 47/128 [00:00<00:00, 464.53it/s]\u001b[A\n",
      "100%|██████████| 128/128 [00:00<00:00, 457.72it/s][A\n",
      "\n",
      "  0%|          | 0/128 [00:00<?, ?it/s]\u001b[A\n",
      " 37%|███▋      | 47/128 [00:00<00:00, 465.09it/s]\u001b[A\n",
      "100%|██████████| 128/128 [00:00<00:00, 459.14it/s][A\n",
      "\n",
      "  0%|          | 0/128 [00:00<?, ?it/s]\u001b[A\n",
      " 38%|███▊      | 48/128 [00:00<00:00, 470.33it/s]\u001b[A\n",
      "100%|██████████| 128/128 [00:00<00:00, 460.98it/s][A\n",
      "\n",
      "  0%|          | 0/128 [00:00<?, ?it/s]\u001b[A\n",
      " 37%|███▋      | 47/128 [00:00<00:00, 466.05it/s]\u001b[A\n",
      "100%|██████████| 128/128 [00:00<00:00, 459.09it/s][A\n",
      "\n",
      "  0%|          | 0/128 [00:00<?, ?it/s]\u001b[A\n",
      " 37%|███▋      | 47/128 [00:00<00:00, 468.42it/s]\u001b[A\n",
      "100%|██████████| 128/128 [00:00<00:00, 461.05it/s][A\n",
      "\n",
      "  0%|          | 0/128 [00:00<?, ?it/s]\u001b[A\n",
      " 37%|███▋      | 47/128 [00:00<00:00, 464.01it/s]\u001b[A\n",
      "100%|██████████| 128/128 [00:00<00:00, 457.54it/s][A\n",
      "\n",
      "  0%|          | 0/128 [00:00<?, ?it/s]\u001b[A\n",
      " 37%|███▋      | 47/128 [00:00<00:00, 465.42it/s]\u001b[A\n",
      "100%|██████████| 128/128 [00:00<00:00, 454.86it/s][A\n",
      "\n",
      "  0%|          | 0/128 [00:00<?, ?it/s]\u001b[A\n",
      " 37%|███▋      | 47/128 [00:00<00:00, 469.09it/s]\u001b[A\n",
      "100%|██████████| 128/128 [00:00<00:00, 462.36it/s][A\n",
      "\n",
      "  0%|          | 0/128 [00:00<?, ?it/s]\u001b[A\n",
      " 37%|███▋      | 47/128 [00:00<00:00, 466.72it/s]\u001b[A\n",
      "100%|██████████| 128/128 [00:00<00:00, 461.08it/s][A\n"
     ]
    }
   ],
   "source": [
    "negatives_closer_vectors_df = calculate_nearest_neighbors_onAttributes(testneg_hybrid,testneg_ids_hybrid,\n",
    "                                                                       neg_ri,positives_hybrid,pos_ids_hybrid,\n",
    "                                                                      attributes,attribute_len,min_similarity=0.5)"
   ]
  },
  {
   "cell_type": "code",
   "execution_count": 28,
   "metadata": {},
   "outputs": [],
   "source": [
    "negatives_closer_vectors_df.to_csv('experiment_results/testnegNNHybrid_filtered.csv',index=False)"
   ]
  },
  {
   "cell_type": "code",
   "execution_count": 29,
   "metadata": {},
   "outputs": [
    {
     "name": "stderr",
     "output_type": "stream",
     "text": [
      "\n",
      "  0%|          | 0/128 [00:00<?, ?it/s]\u001b[A\n",
      "  9%|▊         | 11/128 [00:00<00:01, 102.44it/s]\u001b[A\n",
      " 18%|█▊        | 23/128 [00:00<00:00, 106.42it/s]\u001b[A\n",
      " 27%|██▋       | 35/128 [00:00<00:00, 109.55it/s]\u001b[A\n",
      " 37%|███▋      | 47/128 [00:00<00:00, 111.73it/s]\u001b[A\n",
      " 46%|████▌     | 59/128 [00:00<00:00, 113.57it/s]\u001b[A\n",
      " 55%|█████▌    | 71/128 [00:00<00:00, 115.01it/s]\u001b[A\n",
      " 68%|██████▊   | 87/128 [00:00<00:00, 125.32it/s]\u001b[A\n",
      " 82%|████████▏ | 105/128 [00:00<00:00, 136.39it/s]\u001b[A\n",
      "100%|██████████| 128/128 [00:00<00:00, 133.43it/s]\u001b[A\n",
      "\n",
      "  0%|          | 0/128 [00:00<?, ?it/s]\u001b[A\n",
      " 14%|█▍        | 18/128 [00:00<00:00, 174.69it/s]\u001b[A\n",
      " 28%|██▊       | 36/128 [00:00<00:00, 173.41it/s]\u001b[A\n",
      " 42%|████▏     | 54/128 [00:00<00:00, 172.50it/s]\u001b[A\n",
      " 56%|█████▋    | 72/128 [00:00<00:00, 172.14it/s]\u001b[A\n",
      " 70%|███████   | 90/128 [00:00<00:00, 171.95it/s]\u001b[A\n",
      " 84%|████████▎ | 107/128 [00:00<00:00, 171.29it/s]\u001b[A\n",
      "100%|██████████| 128/128 [00:00<00:00, 170.80it/s]\u001b[A\n",
      "\n",
      "  0%|          | 0/128 [00:00<?, ?it/s]\u001b[A\n",
      " 14%|█▍        | 18/128 [00:00<00:00, 174.92it/s]\u001b[A\n",
      " 28%|██▊       | 36/128 [00:00<00:00, 173.83it/s]\u001b[A\n",
      " 42%|████▏     | 54/128 [00:00<00:00, 173.04it/s]\u001b[A\n",
      " 56%|█████▋    | 72/128 [00:00<00:00, 172.81it/s]\u001b[A\n",
      " 70%|███████   | 90/128 [00:00<00:00, 172.17it/s]\u001b[A\n",
      " 84%|████████▍ | 108/128 [00:00<00:00, 172.06it/s]\u001b[A\n",
      "100%|██████████| 128/128 [00:00<00:00, 171.24it/s]\u001b[A\n",
      "\n",
      "  0%|          | 0/60 [00:00<?, ?it/s]\u001b[A\n",
      " 30%|███       | 18/60 [00:00<00:00, 174.10it/s]\u001b[A\n",
      " 58%|█████▊    | 35/60 [00:00<00:00, 172.84it/s]\u001b[A\n",
      "100%|██████████| 60/60 [00:00<00:00, 170.76it/s]\u001b[A\n"
     ]
    }
   ],
   "source": [
    "positives_closer_vectors_df = calculate_nearest_neighbors_onAttributes(testpos_hybrid,testpos_ids,pos_ri,\n",
    "                                                                      negatives_hybrid,neg_ids_hybrid,\n",
    "                                                                      attributes,attribute_len,min_similarity=0.5)"
   ]
  },
  {
   "cell_type": "code",
   "execution_count": 34,
   "metadata": {},
   "outputs": [],
   "source": [
    "positives_closer_vectors_df.to_csv('experiment_results/testposNNHybrid_w.csv',index=False)"
   ]
  }
 ],
 "metadata": {
  "kernelspec": {
   "display_name": "Python 3",
   "language": "python",
   "name": "python3"
  },
  "language_info": {
   "codemirror_mode": {
    "name": "ipython",
    "version": 3
   },
   "file_extension": ".py",
   "mimetype": "text/x-python",
   "name": "python",
   "nbconvert_exporter": "python",
   "pygments_lexer": "ipython3",
   "version": "3.6.9"
  }
 },
 "nbformat": 4,
 "nbformat_minor": 2
}

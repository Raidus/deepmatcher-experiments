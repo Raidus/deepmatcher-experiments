{
 "cells": [
  {
   "cell_type": "code",
   "execution_count": 4,
   "metadata": {},
   "outputs": [
    {
     "name": "stdout",
     "output_type": "stream",
     "text": [
      "The autoreload extension is already loaded. To reload it, use:\n",
      "  %reload_ext autoreload\n"
     ]
    }
   ],
   "source": [
    "%load_ext autoreload\n",
    "%autoreload 2"
   ]
  },
  {
   "cell_type": "code",
   "execution_count": 5,
   "metadata": {},
   "outputs": [],
   "source": [
    "import sys\n",
    "sys.path.append('../..')"
   ]
  },
  {
   "cell_type": "code",
   "execution_count": 6,
   "metadata": {},
   "outputs": [],
   "source": [
    "import deepmatcher as dm\n",
    "from utilities_functions.intermediate_layer_extraction import return_layer_input\n",
    "from utilities_functions.ri_calculator import find_smallest_variation_to_change_v1\n",
    "import torch\n",
    "import pandas as pd\n",
    "from tqdm import tqdm"
   ]
  },
  {
   "cell_type": "markdown",
   "metadata": {},
   "source": [
    "## Dataset creation with hybrid model"
   ]
  },
  {
   "cell_type": "code",
   "execution_count": 7,
   "metadata": {},
   "outputs": [],
   "source": [
    "attributes = ['title','authors','venue','year']"
   ]
  },
  {
   "cell_type": "code",
   "execution_count": 5,
   "metadata": {},
   "outputs": [],
   "source": [
    "hybrid_model = dm.MatchingModel(attr_summarizer='hybrid')\n",
    "hybrid_model.load_state('../../models/dblp_acm_hybrid.pth')"
   ]
  },
  {
   "cell_type": "code",
   "execution_count": 5,
   "metadata": {},
   "outputs": [],
   "source": [
    "testneg_hybrid,testneg_ids_hybrid = return_layer_input('../../Structured/DBLP-ACM/',\n",
    "                                                                         'negatives_frac',\n",
    "                                                           batch_size=128,model=hybrid_model,\n",
    "                                                                         layer=hybrid_model.classifier,device=-1)"
   ]
  },
  {
   "cell_type": "code",
   "execution_count": 6,
   "metadata": {},
   "outputs": [],
   "source": [
    "testpos_hybrid,testpos_ids = return_layer_input('../../Structured/DBLP-ACM/','positives_frac',\n",
    "                                                           batch_size=128,model=hybrid_model,\n",
    "                                                layer=hybrid_model.classifier,\n",
    "                                                          device=-1)"
   ]
  },
  {
   "cell_type": "code",
   "execution_count": 7,
   "metadata": {},
   "outputs": [],
   "source": [
    "positives_hybrid,pos_ids_hybrid = return_layer_input('../../Structured/DBLP-ACM/','positives',\n",
    "                                                           batch_size=128,model=hybrid_model,\n",
    "                                              layer=hybrid_model.classifier,\n",
    "                                                          device=-1)"
   ]
  },
  {
   "cell_type": "code",
   "execution_count": 8,
   "metadata": {},
   "outputs": [],
   "source": [
    "negatives_hybrid,neg_ids_hybrid = return_layer_input('../../Structured/DBLP-ACM/','negatives',\n",
    "                                                           batch_size=128,model=hybrid_model,\n",
    "                                              layer=hybrid_model.classifier,\n",
    "                                                          device=-1)"
   ]
  },
  {
   "cell_type": "code",
   "execution_count": 9,
   "metadata": {},
   "outputs": [],
   "source": [
    "hybrid_model = hybrid_model.cuda()"
   ]
  },
  {
   "cell_type": "markdown",
   "metadata": {},
   "source": [
    "## Dataset creation with rnn model"
   ]
  },
  {
   "cell_type": "code",
   "execution_count": 8,
   "metadata": {},
   "outputs": [],
   "source": [
    "rnn_model = dm.MatchingModel(attr_summarizer='rnn')\n",
    "rnn_model.load_state('../../models/dblp_acm_rnn.pth')"
   ]
  },
  {
   "cell_type": "code",
   "execution_count": 9,
   "metadata": {},
   "outputs": [],
   "source": [
    "testneg_classifier_inputs_rnn,testneg_ids_rnn = return_layer_input('../../Structured/DBLP-ACM/','negatives_frac',\n",
    "                                                           batch_size=128,model=rnn_model,layer=rnn_model.classifier,\n",
    "                                                          device=-1)"
   ]
  },
  {
   "cell_type": "code",
   "execution_count": 10,
   "metadata": {},
   "outputs": [],
   "source": [
    "testpos_classifier_inputs_rnn,testpos_ids_rnn = return_layer_input('../../Structured/DBLP-ACM/','positives_frac',\n",
    "                                                           batch_size=128,model=rnn_model,layer=rnn_model.classifier,\n",
    "                                                          device=-1)"
   ]
  },
  {
   "cell_type": "code",
   "execution_count": 11,
   "metadata": {},
   "outputs": [],
   "source": [
    "pos_classifier_inputs_rnn,pos_ids_rnn = return_layer_input('../../Structured/DBLP-ACM/','positives',\n",
    "                                                           batch_size=128,model=rnn_model,layer=rnn_model.classifier,\n",
    "                                                          device=-1)"
   ]
  },
  {
   "cell_type": "code",
   "execution_count": 12,
   "metadata": {},
   "outputs": [],
   "source": [
    "neg_classifier_inputs_rnn,neg_ids_rnn = return_layer_input('../../Structured/DBLP-ACM/','negatives',\n",
    "                                                           batch_size=128,model=rnn_model,layer=rnn_model.classifier,\n",
    "                                                          device=-1)"
   ]
  },
  {
   "cell_type": "code",
   "execution_count": 13,
   "metadata": {},
   "outputs": [],
   "source": [
    "rnn_model = rnn_model.cuda()"
   ]
  },
  {
   "cell_type": "code",
   "execution_count": 14,
   "metadata": {},
   "outputs": [],
   "source": [
    "## Basta scegliere un campione a caso\n",
    "classifier_length = len(testneg_classifier_inputs_rnn[0][0])\n",
    "attribute_length = int(classifier_length/len(attributes))"
   ]
  },
  {
   "cell_type": "markdown",
   "metadata": {},
   "source": [
    "## Ri discovery with rnn model"
   ]
  },
  {
   "cell_type": "code",
   "execution_count": 15,
   "metadata": {},
   "outputs": [
    {
     "name": "stderr",
     "output_type": "stream",
     "text": [
      "100%|██████████| 128/128 [00:26<00:00,  4.91it/s]\n",
      "100%|██████████| 128/128 [00:26<00:00,  4.91it/s]\n",
      "100%|██████████| 128/128 [00:25<00:00,  5.02it/s]\n",
      "100%|██████████| 128/128 [00:24<00:00,  5.25it/s]\n",
      "100%|██████████| 128/128 [00:25<00:00,  5.00it/s]\n",
      "100%|██████████| 128/128 [00:24<00:00,  5.22it/s]\n",
      "100%|██████████| 128/128 [00:24<00:00,  5.29it/s]\n",
      "100%|██████████| 128/128 [00:25<00:00,  5.00it/s]\n",
      "100%|██████████| 128/128 [00:24<00:00,  5.21it/s]\n",
      "100%|██████████| 128/128 [00:24<00:00,  5.19it/s]\n",
      "100%|██████████| 128/128 [00:22<00:00,  5.62it/s]\n",
      "100%|██████████| 128/128 [00:24<00:00,  5.32it/s]\n",
      "100%|██████████| 128/128 [00:22<00:00,  5.57it/s]\n",
      "100%|██████████| 128/128 [00:22<00:00,  5.61it/s]\n",
      "100%|██████████| 128/128 [00:20<00:00,  6.25it/s]\n",
      "100%|██████████| 128/128 [00:22<00:00,  5.80it/s]\n",
      "100%|██████████| 128/128 [00:21<00:00,  5.85it/s]\n",
      "100%|██████████| 128/128 [00:20<00:00,  6.15it/s]\n",
      "100%|██████████| 128/128 [00:21<00:00,  5.85it/s]\n",
      "100%|██████████| 19/19 [00:03<00:00,  5.92it/s]\n",
      "100%|██████████| 128/128 [00:20<00:00,  6.14it/s]\n",
      "100%|██████████| 128/128 [00:21<00:00,  5.87it/s]\n",
      "100%|██████████| 128/128 [00:22<00:00,  5.63it/s]\n",
      "100%|██████████| 128/128 [00:23<00:00,  5.54it/s]\n",
      "100%|██████████| 128/128 [00:21<00:00,  5.87it/s]\n",
      "100%|██████████| 128/128 [00:21<00:00,  5.82it/s]\n",
      "100%|██████████| 128/128 [00:22<00:00,  5.81it/s]\n"
     ]
    }
   ],
   "source": [
    "current_sample = 0\n",
    "#each column of this matrix is related to a specific attribute\n",
    "negatives_ri_rnn = []\n",
    "for batch in testneg_classifier_inputs_rnn:\n",
    "    for sample_index in tqdm(range(len(batch))):\n",
    "        current_sample_ris = []\n",
    "        for j,attribute in enumerate(attributes):\n",
    "            variation = find_smallest_variation_to_change_v1(rnn_model.classifier,\n",
    "                                                             classifier_length= classifier_length,\n",
    "                                                             attribute_length= attribute_length,\n",
    "                                                          input_matrix=batch,\n",
    "                                                             vector_index=sample_index,attributes=[j],\n",
    "                                                          class_to_reach=1)\n",
    "            current_sample_ris.append(variation)\n",
    "        negatives_ri_rnn.append(current_sample_ris)\n",
    "        current_sample+=1"
   ]
  },
  {
   "cell_type": "code",
   "execution_count": 17,
   "metadata": {},
   "outputs": [
    {
     "data": {
      "text/plain": [
       "<matplotlib.axes._subplots.AxesSubplot at 0x7f1c700d4dd8>"
      ]
     },
     "execution_count": 17,
     "metadata": {},
     "output_type": "execute_result"
    },
    {
     "data": {
      "image/png": "[encoded data removed]",
      "text/plain": [
       "<Figure size 432x288 with 1 Axes>"
      ]
     },
     "metadata": {
      "needs_background": "light"
     },
     "output_type": "display_data"
    }
   ],
   "source": [
    "ri_norms_negative_samples = []\n",
    "for ri_list in negatives_ri_rnn:\n",
    "    ri_norms_negative_samples.append(list(map(lambda x:torch.norm(x).data[0],ri_list)))\n",
    "negatives_variation_df = pd.DataFrame(data= ri_norms_negative_samples,columns=attributes)\n",
    "ri_sums = negatives_variation_df.sum(numeric_only=True)\n",
    "ri_sums.plot.bar()"
   ]
  },
  {
   "cell_type": "code",
   "execution_count": 19,
   "metadata": {},
   "outputs": [
    {
     "name": "stderr",
     "output_type": "stream",
     "text": [
      "100%|██████████| 128/128 [00:04<00:00, 28.02it/s]\n",
      "100%|██████████| 128/128 [00:04<00:00, 30.10it/s]\n",
      "100%|██████████| 128/128 [00:03<00:00, 32.31it/s]\n",
      "100%|██████████| 128/128 [00:03<00:00, 33.79it/s]\n",
      "100%|██████████| 93/93 [00:02<00:00, 35.09it/s]\n",
      "100%|██████████| 128/128 [00:04<00:00, 31.04it/s]\n"
     ]
    }
   ],
   "source": [
    "current_sample = 0\n",
    "#each column of this matrix is related to a specific attribute\n",
    "positives_ri_rnn = []\n",
    "for batch in testpos_classifier_inputs_rnn:\n",
    "    for sample_index in tqdm(range(len(batch))):\n",
    "        current_sample_ris = []\n",
    "        for j,attribute in enumerate(attributes):\n",
    "            variation = find_smallest_variation_to_change_v1(rnn_model.classifier,\n",
    "                                                             classifier_length= classifier_length,\n",
    "                                                             attribute_length= attribute_length,\n",
    "                                                          input_matrix=batch,\n",
    "                                                             vector_index=sample_index,attributes=[j],\n",
    "                                                          class_to_reach=0)\n",
    "            current_sample_ris.append(variation)\n",
    "        positives_ri_rnn.append(current_sample_ris)\n",
    "        current_sample+=1"
   ]
  },
  {
   "cell_type": "code",
   "execution_count": 20,
   "metadata": {},
   "outputs": [
    {
     "data": {
      "text/plain": [
       "<matplotlib.axes._subplots.AxesSubplot at 0x7f1cc87ba438>"
      ]
     },
     "execution_count": 20,
     "metadata": {},
     "output_type": "execute_result"
    },
    {
     "data": {
      "image/png": "[encoded data removed]",
      "text/plain": [
       "<Figure size 432x288 with 1 Axes>"
      ]
     },
     "metadata": {
      "needs_background": "light"
     },
     "output_type": "display_data"
    }
   ],
   "source": [
    "ri_norms_positives = []\n",
    "for ri_list in positives_ri_rnn:\n",
    "    ri_norms_positives.append(list(map(lambda x:torch.norm(x).data[0],ri_list)))\n",
    "positives_variation_df = pd.DataFrame(data= ri_norms_positives,columns=attributes)\n",
    "positives_variation_df.sum(numeric_only=True).plot.bar()"
   ]
  },
  {
   "cell_type": "code",
   "execution_count": 21,
   "metadata": {},
   "outputs": [],
   "source": [
    "negatives_variation_df.to_csv('experiment_results/testneg_ri_rnn.csv',index=False)"
   ]
  },
  {
   "cell_type": "code",
   "execution_count": 22,
   "metadata": {},
   "outputs": [],
   "source": [
    "positives_variation_df.to_csv('experiment_results/testpos_r1_rnn.csv',index=False)"
   ]
  },
  {
   "cell_type": "markdown",
   "metadata": {},
   "source": [
    "## Ri discovery with hybrid model"
   ]
  },
  {
   "cell_type": "code",
   "execution_count": 16,
   "metadata": {},
   "outputs": [],
   "source": [
    "classifier_length = len(testneg_hybrid[0][0])\n",
    "attribute_length = int(classifier_length/len(attributes))"
   ]
  },
  {
   "cell_type": "code",
   "execution_count": 18,
   "metadata": {},
   "outputs": [
    {
     "name": "stderr",
     "output_type": "stream",
     "text": [
      "100%|██████████| 128/128 [00:34<00:00,  3.69it/s]\n",
      "100%|██████████| 128/128 [00:29<00:00,  4.27it/s]\n",
      "100%|██████████| 128/128 [00:29<00:00,  4.30it/s]\n",
      "100%|██████████| 128/128 [00:29<00:00,  4.41it/s]\n",
      "100%|██████████| 128/128 [00:28<00:00,  4.44it/s]\n",
      "100%|██████████| 128/128 [00:29<00:00,  4.28it/s]\n",
      "100%|██████████| 19/19 [00:04<00:00,  4.47it/s]\n",
      "100%|██████████| 128/128 [00:29<00:00,  4.32it/s]\n",
      "100%|██████████| 128/128 [00:29<00:00,  4.39it/s]\n",
      "100%|██████████| 128/128 [00:28<00:00,  4.50it/s]\n",
      "100%|██████████| 128/128 [00:29<00:00,  4.33it/s]\n",
      "100%|██████████| 128/128 [00:29<00:00,  4.32it/s]\n",
      "100%|██████████| 128/128 [00:29<00:00,  4.29it/s]\n",
      "100%|██████████| 128/128 [00:29<00:00,  4.41it/s]\n",
      "100%|██████████| 128/128 [00:28<00:00,  4.48it/s]\n",
      "100%|██████████| 128/128 [00:29<00:00,  4.28it/s]\n",
      "100%|██████████| 128/128 [00:29<00:00,  4.37it/s]\n",
      "100%|██████████| 128/128 [00:29<00:00,  4.37it/s]\n",
      "100%|██████████| 128/128 [00:28<00:00,  4.41it/s]\n",
      "100%|██████████| 128/128 [00:29<00:00,  4.35it/s]\n",
      "100%|██████████| 128/128 [00:28<00:00,  4.54it/s]\n",
      "100%|██████████| 128/128 [00:29<00:00,  4.38it/s]\n",
      "100%|██████████| 128/128 [00:27<00:00,  4.64it/s]\n",
      "100%|██████████| 128/128 [00:28<00:00,  4.50it/s]\n",
      "100%|██████████| 128/128 [00:26<00:00,  4.89it/s]\n",
      "100%|██████████| 128/128 [00:29<00:00,  4.34it/s]\n",
      "100%|██████████| 128/128 [00:27<00:00,  4.59it/s]\n"
     ]
    }
   ],
   "source": [
    "current_sample = 0\n",
    "#each column of this matrix is related to a specific attribute\n",
    "negatives_ri_hybrid = []\n",
    "for batch in testneg_hybrid:\n",
    "    for sample_index in tqdm(range(len(batch))):\n",
    "        current_sample_ris = []\n",
    "        for j,attribute in enumerate(attributes):\n",
    "            variation = find_smallest_variation_to_change_v1(hybrid_model.classifier,\n",
    "                                                             classifier_length= classifier_length,\n",
    "                                                             attribute_length= attribute_length,\n",
    "                                                          input_matrix=batch,\n",
    "                                                             vector_index=sample_index,attributes=[j],\n",
    "                                                          class_to_reach=1)\n",
    "            current_sample_ris.append(variation)\n",
    "        negatives_ri_hybrid.append(current_sample_ris)\n",
    "        current_sample+=1"
   ]
  },
  {
   "cell_type": "code",
   "execution_count": 21,
   "metadata": {},
   "outputs": [
    {
     "data": {
      "text/plain": [
       "<matplotlib.axes._subplots.AxesSubplot at 0x7f49f0184f60>"
      ]
     },
     "execution_count": 21,
     "metadata": {},
     "output_type": "execute_result"
    },
    {
     "data": {
      "image/png": "[encoded data removed]",
      "text/plain": [
       "<Figure size 432x288 with 1 Axes>"
      ]
     },
     "metadata": {
      "needs_background": "light"
     },
     "output_type": "display_data"
    }
   ],
   "source": [
    "ri_norms_negatives = []\n",
    "for ri_list in negatives_ri_hybrid:\n",
    "    ri_norms_negatives.append(list(map(lambda x:torch.norm(x).data[0],ri_list)))\n",
    "negatives_variation_df = pd.DataFrame(data= ri_norms_negatives,columns=attributes)\n",
    "ri_sums = negatives_variation_df.sum(numeric_only=True)\n",
    "ri_sums.plot.bar()"
   ]
  },
  {
   "cell_type": "code",
   "execution_count": 25,
   "metadata": {},
   "outputs": [],
   "source": [
    "negatives_variation_df.to_csv('experiment_results/testneg_ri_hybrid.csv',index=False)"
   ]
  },
  {
   "cell_type": "code",
   "execution_count": 22,
   "metadata": {},
   "outputs": [
    {
     "name": "stderr",
     "output_type": "stream",
     "text": [
      "100%|██████████| 93/93 [00:15<00:00,  5.96it/s]\n",
      "100%|██████████| 128/128 [00:17<00:00,  7.33it/s]\n",
      "100%|██████████| 128/128 [00:17<00:00,  7.23it/s]\n",
      "100%|██████████| 128/128 [00:16<00:00,  7.58it/s]\n",
      "100%|██████████| 128/128 [00:16<00:00,  7.55it/s]\n",
      "100%|██████████| 128/128 [00:15<00:00,  8.18it/s]\n"
     ]
    }
   ],
   "source": [
    "current_sample = 0\n",
    "#each column of this matrix is related to a specific attribute\n",
    "positives_ri_hybrid = []\n",
    "for batch in testpos_hybrid:\n",
    "    for sample_index in tqdm(range(len(batch))):\n",
    "        current_sample_ris = []\n",
    "        for j,attribute in enumerate(attributes):\n",
    "            variation = find_smallest_variation_to_change_v1(hybrid_model.classifier,\n",
    "                                                             classifier_length= classifier_length,\n",
    "                                                             attribute_length= attribute_length,\n",
    "                                                          input_matrix=batch,\n",
    "                                                             vector_index=sample_index,attributes=[j],\n",
    "                                                          class_to_reach=0)\n",
    "            current_sample_ris.append(variation)\n",
    "        positives_ri_hybrid.append(current_sample_ris)\n",
    "        current_sample+=1"
   ]
  },
  {
   "cell_type": "code",
   "execution_count": 23,
   "metadata": {},
   "outputs": [
    {
     "data": {
      "text/plain": [
       "<matplotlib.axes._subplots.AxesSubplot at 0x7f49f8102be0>"
      ]
     },
     "execution_count": 23,
     "metadata": {},
     "output_type": "execute_result"
    },
    {
     "data": {
      "image/png": "[encoded data removed]",
      "text/plain": [
       "<Figure size 432x288 with 1 Axes>"
      ]
     },
     "metadata": {
      "needs_background": "light"
     },
     "output_type": "display_data"
    }
   ],
   "source": [
    "ri_norms_positives = []\n",
    "for ri_list in positives_ri_hybrid:\n",
    "    ri_norms_positives.append(list(map(lambda x:torch.norm(x).data[0],ri_list)))\n",
    "positives_variation_df = pd.DataFrame(data= ri_norms_positives,columns=attributes)\n",
    "positives_variation_df.sum(numeric_only=True).plot.bar()"
   ]
  },
  {
   "cell_type": "code",
   "execution_count": 26,
   "metadata": {},
   "outputs": [],
   "source": [
    "positives_variation_df.to_csv('experiment_results/testpos_ri_hybrid.csv',index=False)"
   ]
  },
  {
   "cell_type": "markdown",
   "metadata": {},
   "source": [
    "## Nearest neighbors discovery on Rnn model"
   ]
  },
  {
   "cell_type": "code",
   "execution_count": 26,
   "metadata": {},
   "outputs": [],
   "source": [
    "from utilities_functions.distance_measures import calculate_nearest_neighbors_onAttributes"
   ]
  },
  {
   "cell_type": "code",
   "execution_count": 28,
   "metadata": {},
   "outputs": [
    {
     "name": "stderr",
     "output_type": "stream",
     "text": [
      "100%|██████████| 128/128 [00:00<00:00, 303.49it/s]\n",
      "100%|██████████| 128/128 [00:00<00:00, 346.83it/s]\n",
      "100%|██████████| 128/128 [00:00<00:00, 385.05it/s]\n",
      "100%|██████████| 128/128 [00:00<00:00, 383.37it/s]\n",
      "100%|██████████| 128/128 [00:00<00:00, 387.94it/s]\n",
      "100%|██████████| 128/128 [00:00<00:00, 389.49it/s]\n",
      "100%|██████████| 128/128 [00:00<00:00, 389.58it/s]\n",
      "100%|██████████| 128/128 [00:00<00:00, 389.51it/s]\n",
      "100%|██████████| 128/128 [00:00<00:00, 389.35it/s]\n",
      "100%|██████████| 128/128 [00:00<00:00, 389.94it/s]\n",
      "100%|██████████| 128/128 [00:00<00:00, 388.91it/s]\n",
      "100%|██████████| 128/128 [00:00<00:00, 390.19it/s]\n",
      "100%|██████████| 128/128 [00:00<00:00, 390.18it/s]\n",
      "100%|██████████| 128/128 [00:00<00:00, 384.97it/s]\n",
      "100%|██████████| 128/128 [00:00<00:00, 389.86it/s]\n",
      "100%|██████████| 128/128 [00:00<00:00, 390.34it/s]\n",
      "100%|██████████| 128/128 [00:00<00:00, 390.17it/s]\n",
      "100%|██████████| 128/128 [00:00<00:00, 390.01it/s]\n",
      "100%|██████████| 128/128 [00:00<00:00, 390.63it/s]\n",
      "100%|██████████| 19/19 [00:00<00:00, 386.34it/s]\n",
      "100%|██████████| 128/128 [00:00<00:00, 386.70it/s]\n",
      "100%|██████████| 128/128 [00:00<00:00, 386.44it/s]\n",
      "100%|██████████| 128/128 [00:00<00:00, 387.08it/s]\n",
      "100%|██████████| 128/128 [00:00<00:00, 388.00it/s]\n",
      "100%|██████████| 128/128 [00:00<00:00, 386.88it/s]\n",
      "100%|██████████| 128/128 [00:00<00:00, 385.62it/s]\n",
      "100%|██████████| 128/128 [00:00<00:00, 386.73it/s]\n"
     ]
    }
   ],
   "source": [
    "negatives_closer_vectors_df = calculate_nearest_neighbors_onAttributes(testneg_classifier_inputs_rnn,\n",
    "                                                                       testneg_ids_rnn,negatives_ri_rnn,\n",
    "                                                                      pos_classifier_inputs_rnn,pos_ids_rnn,\n",
    "                                                                      attributes,attribute_length)"
   ]
  },
  {
   "cell_type": "code",
   "execution_count": 33,
   "metadata": {},
   "outputs": [],
   "source": [
    "negatives_closer_vectors_df.to_csv('experiment_results/testneg_closer_rnn.csv',index=False)"
   ]
  },
  {
   "cell_type": "code",
   "execution_count": 34,
   "metadata": {},
   "outputs": [
    {
     "name": "stderr",
     "output_type": "stream",
     "text": [
      "100%|██████████| 128/128 [00:00<00:00, 130.24it/s]\n",
      "100%|██████████| 128/128 [00:00<00:00, 152.36it/s]\n",
      "100%|██████████| 128/128 [00:00<00:00, 152.55it/s]\n",
      "100%|██████████| 128/128 [00:00<00:00, 152.68it/s]\n",
      "100%|██████████| 93/93 [00:00<00:00, 152.07it/s]\n",
      "100%|██████████| 128/128 [00:00<00:00, 152.01it/s]\n"
     ]
    }
   ],
   "source": [
    "positives_closer_vectors_df = calculate_nearest_neighbors_onAttributes(testpos_classifier_inputs_rnn,\n",
    "                                                                       testpos_ids_rnn,positives_ri_rnn,\n",
    "                                                                      neg_classifier_inputs_rnn,neg_ids_rnn,\n",
    "                                                                      attributes,attribute_length)"
   ]
  },
  {
   "cell_type": "code",
   "execution_count": 35,
   "metadata": {},
   "outputs": [],
   "source": [
    "positives_closer_vectors_df.to_csv('experiment_results/testpos_closer_rnn.csv',index=False)"
   ]
  },
  {
   "cell_type": "markdown",
   "metadata": {},
   "source": [
    "## Nearest neighbors discovery on hybrid model"
   ]
  },
  {
   "cell_type": "code",
   "execution_count": 30,
   "metadata": {},
   "outputs": [],
   "source": [
    "from utilities_functions.distance_measures import nearest_neighbor_onAttribute"
   ]
  },
  {
   "cell_type": "code",
   "execution_count": 34,
   "metadata": {},
   "outputs": [
    {
     "name": "stderr",
     "output_type": "stream",
     "text": [
      "100%|██████████| 128/128 [00:00<00:00, 288.92it/s]\n",
      "100%|██████████| 128/128 [00:00<00:00, 335.42it/s]\n",
      "100%|██████████| 128/128 [00:00<00:00, 370.86it/s]\n",
      "100%|██████████| 128/128 [00:00<00:00, 366.53it/s]\n",
      "100%|██████████| 128/128 [00:00<00:00, 376.21it/s]\n",
      "100%|██████████| 128/128 [00:00<00:00, 426.58it/s]\n",
      "100%|██████████| 19/19 [00:00<00:00, 418.17it/s]\n",
      "100%|██████████| 128/128 [00:00<00:00, 424.62it/s]\n",
      "100%|██████████| 128/128 [00:00<00:00, 425.10it/s]\n",
      "100%|██████████| 128/128 [00:00<00:00, 425.20it/s]\n",
      "100%|██████████| 128/128 [00:00<00:00, 425.10it/s]\n",
      "100%|██████████| 128/128 [00:00<00:00, 384.12it/s]\n",
      "100%|██████████| 128/128 [00:00<00:00, 376.34it/s]\n",
      "100%|██████████| 128/128 [00:00<00:00, 368.52it/s]\n",
      "100%|██████████| 128/128 [00:00<00:00, 370.42it/s]\n",
      "100%|██████████| 128/128 [00:00<00:00, 373.97it/s]\n",
      "100%|██████████| 128/128 [00:00<00:00, 372.48it/s]\n",
      "100%|██████████| 128/128 [00:00<00:00, 373.63it/s]\n",
      "100%|██████████| 128/128 [00:00<00:00, 372.60it/s]\n",
      "100%|██████████| 128/128 [00:00<00:00, 370.19it/s]\n",
      "100%|██████████| 128/128 [00:00<00:00, 371.34it/s]\n",
      "100%|██████████| 128/128 [00:00<00:00, 370.00it/s]\n",
      "100%|██████████| 128/128 [00:00<00:00, 370.91it/s]\n",
      "100%|██████████| 128/128 [00:00<00:00, 396.07it/s]\n",
      "100%|██████████| 128/128 [00:00<00:00, 420.96it/s]\n",
      "100%|██████████| 128/128 [00:00<00:00, 410.37it/s]\n",
      "100%|██████████| 128/128 [00:00<00:00, 437.51it/s]\n"
     ]
    }
   ],
   "source": [
    "#lista di tuple: vettore più vicino considerando tutti gli elementi e closer solo secondo un attributo\n",
    "negatives_closer_vectors_hybrid = []\n",
    "i = 0\n",
    "for batch in testneg_hybrid:\n",
    "    for sample in tqdm(batch):\n",
    "        current_sample_closer_vectors = list(map(lambda att: nearest_neighbor_onAttribute\n",
    "                                                 (sample+negatives_ri_hybrid[i][attributes.index(att)]\n",
    "                                                                ,positives_hybrid,attributes.index(att),\n",
    "                                                                attribute_length),attributes))\n",
    "        negatives_closer_vectors_hybrid.append(current_sample_closer_vectors)\n",
    "        i += 1 "
   ]
  },
  {
   "cell_type": "code",
   "execution_count": 39,
   "metadata": {},
   "outputs": [],
   "source": [
    "negatives_closer_vectors_hybrid_df = pd.DataFrame(data = negatives_closer_vectors_hybrid, columns = attributes)\n",
    "negatives_closer_vectors_hybrid_df = negatives_closer_vectors_hybrid_df.applymap(lambda c:pos_ids_hybrid[c])\n",
    "negatives_closer_vectors_hybrid_df['SampleID'] = testneg_ids_hybrid\n",
    "negatives_closer_vectors_hybrid_df.to_csv('experiment_results/negatives_nn_hybrid.csv',index=False)"
   ]
  },
  {
   "cell_type": "code",
   "execution_count": 37,
   "metadata": {},
   "outputs": [
    {
     "name": "stderr",
     "output_type": "stream",
     "text": [
      "100%|██████████| 93/93 [00:00<00:00, 117.59it/s]\n",
      "100%|██████████| 128/128 [00:00<00:00, 141.86it/s]\n",
      "100%|██████████| 128/128 [00:00<00:00, 142.49it/s]\n",
      "100%|██████████| 128/128 [00:00<00:00, 146.67it/s]\n",
      "100%|██████████| 128/128 [00:00<00:00, 143.42it/s]\n",
      "100%|██████████| 128/128 [00:00<00:00, 143.71it/s]\n"
     ]
    }
   ],
   "source": [
    "# per ogni attributo trovo il più vicino\n",
    "positives_closer_vectors_hybrid = []\n",
    "i = 0\n",
    "for batch in testpos_hybrid:\n",
    "    for sample in tqdm(batch):\n",
    "        current_sample_closer_vectors = list(map(lambda att: nearest_neighbor_onAttribute\n",
    "                                                 (sample+positives_ri_hybrid[i][attributes.index(att)]\n",
    "                                                                ,negatives_hybrid,attributes.index(att),\n",
    "                                                                attribute_length),attributes))\n",
    "        positives_closer_vectors_hybrid.append(current_sample_closer_vectors)\n",
    "        i += 1 "
   ]
  },
  {
   "cell_type": "code",
   "execution_count": 41,
   "metadata": {},
   "outputs": [],
   "source": [
    "positives_closer_vectors_hybrid_df = pd.DataFrame(data = positives_closer_vectors_hybrid, columns = attributes)\n",
    "positives_closer_vectors_hybrid_df = positives_closer_vectors_hybrid_df.applymap(lambda c:neg_ids_hybrid[c])\n",
    "positives_closer_vectors_hybrid_df['SampleID'] = testpos_ids\n",
    "positives_closer_vectors_hybrid_df.to_csv('experiment_results/positives_nn_hybrid.csv',index=False)"
   ]
  },
  {
   "cell_type": "code",
   "execution_count": null,
   "metadata": {},
   "outputs": [],
   "source": []
  }
 ],
 "metadata": {
  "kernelspec": {
   "display_name": "Python 3",
   "language": "python",
   "name": "python3"
  },
  "language_info": {
   "codemirror_mode": {
    "name": "ipython",
    "version": 3
   },
   "file_extension": ".py",
   "mimetype": "text/x-python",
   "name": "python",
   "nbconvert_exporter": "python",
   "pygments_lexer": "ipython3",
   "version": "3.6.9"
  }
 },
 "nbformat": 4,
 "nbformat_minor": 2
}

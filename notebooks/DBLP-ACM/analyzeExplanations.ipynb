{
 "cells": [
  {
   "cell_type": "code",
   "execution_count": 1,
   "metadata": {},
   "outputs": [],
   "source": [
    "%load_ext autoreload\n",
    "%autoreload 2"
   ]
  },
  {
   "cell_type": "code",
   "execution_count": 2,
   "metadata": {},
   "outputs": [],
   "source": [
    "import sys\n",
    "sys.path.append('../..')"
   ]
  },
  {
   "cell_type": "code",
   "execution_count": 3,
   "metadata": {},
   "outputs": [],
   "source": [
    "import deepmatcher as dm\n",
    "import pandas as pd\n",
    "from utils.explainer import Explainer"
   ]
  },
  {
   "cell_type": "code",
   "execution_count": 24,
   "metadata": {},
   "outputs": [],
   "source": [
    "attributes =['title','authors','venue','year']"
   ]
  },
  {
   "cell_type": "markdown",
   "metadata": {},
   "source": [
    "## Rnn model\n",
    "We choose rnn model because it had strange rankings"
   ]
  },
  {
   "cell_type": "code",
   "execution_count": 19,
   "metadata": {},
   "outputs": [],
   "source": [
    "rnn_model = dm.MatchingModel(attr_summarizer='hybrid')\n",
    "rnn_model.load_state('../../models/dblp_acm_hybrid.pth')"
   ]
  },
  {
   "cell_type": "code",
   "execution_count": 28,
   "metadata": {},
   "outputs": [],
   "source": [
    "testpos_nn_rnn = pd.read_csv('experiment_results/testposNNHybrid_filtered.csv')\n",
    "negatives = pd.read_csv('../../Structured/DBLP-ACM/negatives.csv')"
   ]
  },
  {
   "cell_type": "code",
   "execution_count": 21,
   "metadata": {},
   "outputs": [],
   "source": [
    "explainer = Explainer(rnn_model,5)"
   ]
  },
  {
   "cell_type": "code",
   "execution_count": 29,
   "metadata": {},
   "outputs": [],
   "source": [
    "%%capture\n",
    "critical_pos_rnn = {}\n",
    "for att in attributes:\n",
    "    critical_values = explainer.generateExplanations(testpos_nn_rnn,negatives,att,\n",
    "                                           0.03,'../../Structured/DBLP-ACM/test_positives.csv',1)\n",
    "    critical_pos_rnn[att] = critical_values"
   ]
  },
  {
   "cell_type": "code",
   "execution_count": 30,
   "metadata": {},
   "outputs": [],
   "source": [
    "testneg_nn_rnn = pd.read_csv('experiment_results/testneg_nn_rnn.csv')\n",
    "positives = pd.read_csv('../../Structured/DBLP-ACM/positives.csv')"
   ]
  },
  {
   "cell_type": "code",
   "execution_count": 35,
   "metadata": {},
   "outputs": [],
   "source": [
    "%%capture\n",
    "critical_neg_rnn = {}\n",
    "for att in attributes:\n",
    "    critical_values = explainer.generateExplanations(testneg_nn_rnn,positives,att,0.03,\n",
    "                                           '../../Structured/DBLP-ACM/test_negatives.csv',0)\n",
    "    critical_neg_rnn[att] = critical_values"
   ]
  },
  {
   "cell_type": "code",
   "execution_count": 50,
   "metadata": {},
   "outputs": [
    {
     "name": "stdout",
     "output_type": "stream",
     "text": [
      "sigmod conference-international conference on management of data\n",
      "(24, 10)\n",
      "sigmod conference-international conference on management of data\n",
      "(24, 10)\n",
      "vldb j.-the vldb journal -- the international journal on very large data bases\n",
      "(32, 10)\n",
      "vldb j.-the vldb journal -- the international journal on very large data bases\n",
      "(32, 10)\n",
      "vldb-very large data bases\n",
      "(21, 10)\n"
     ]
    }
   ],
   "source": [
    "for df,lval,rval in critical_neg_rnn['venue']:\n",
    "    print(lval+'-'+rval)\n",
    "    print(df.shape)"
   ]
  }
 ],
 "metadata": {
  "kernelspec": {
   "display_name": "Python 3",
   "language": "python",
   "name": "python3"
  },
  "language_info": {
   "codemirror_mode": {
    "name": "ipython",
    "version": 3
   },
   "file_extension": ".py",
   "mimetype": "text/x-python",
   "name": "python",
   "nbconvert_exporter": "python",
   "pygments_lexer": "ipython3",
   "version": "3.6.9"
  }
 },
 "nbformat": 4,
 "nbformat_minor": 2
}

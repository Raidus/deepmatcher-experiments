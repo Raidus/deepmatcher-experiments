{
 "cells": [
  {
   "cell_type": "code",
   "execution_count": 1,
   "metadata": {},
   "outputs": [],
   "source": [
    "%load_ext autoreload\n",
    "%autoreload 2"
   ]
  },
  {
   "cell_type": "code",
   "execution_count": 2,
   "metadata": {},
   "outputs": [],
   "source": [
    "import sys\n",
    "sys.path.append(\"../..\")"
   ]
  },
  {
   "cell_type": "code",
   "execution_count": 3,
   "metadata": {},
   "outputs": [],
   "source": [
    "import deepmatcher as dm\n",
    "from utilities_functions.dataset_parser import generate_train_valid_test\n",
    "from deepmatcher.data import MatchingIterator"
   ]
  },
  {
   "cell_type": "code",
   "execution_count": 4,
   "metadata": {},
   "outputs": [],
   "source": [
    "train,valid,test = generate_train_valid_test('../../Structured/DBLP-ACM/','ltable_','rtable_')"
   ]
  },
  {
   "cell_type": "code",
   "execution_count": 5,
   "metadata": {},
   "outputs": [],
   "source": [
    "import pandas as pd\n",
    "all_samples = pd.concat([train,valid,test])\n",
    "all_samples[all_samples.label==0].to_csv('../../Structured/DBLP-ACM/negatives.csv',index=False)\n",
    "all_samples[all_samples.label==1].to_csv('../../Structured/DBLP-ACM/positives.csv',index=False)"
   ]
  },
  {
   "cell_type": "code",
   "execution_count": 5,
   "metadata": {},
   "outputs": [],
   "source": [
    "train.to_csv('../../Structured/DBLP-ACM/merged_train.csv',index=False)\n",
    "valid.to_csv('../../Structured/DBLP-ACM/merged_validation.csv',index=False)\n",
    "test.to_csv('../../Structured/DBLP-ACM/merged_test.csv',index=False)"
   ]
  },
  {
   "cell_type": "code",
   "execution_count": 11,
   "metadata": {},
   "outputs": [],
   "source": [
    "train,validation,test = dm.data.process('../../Structured/DBLP-ACM/',train='merged_train.csv',\n",
    "                                        validation='merged_validation.csv',test='merged_test.csv',left_prefix='ltable_'\n",
    "                                        ,right_prefix='rtable_')"
   ]
  },
  {
   "cell_type": "code",
   "execution_count": 13,
   "metadata": {},
   "outputs": [
    {
     "name": "stdout",
     "output_type": "stream",
     "text": [
      "* Number of trainable parameters: 9210006\n",
      "===>  TRAIN Epoch 1\n",
      "Finished Epoch 1 || Run Time:   98.7 | Load Time:   18.5 || F1:  87.64 | Prec:  79.63 | Rec:  97.45 || Ex/s:  63.32\n",
      "\n",
      "===>  EVAL Epoch 1\n",
      "Finished Epoch 1 || Run Time:    8.8 | Load Time:    4.2 || F1:  97.57 | Prec:  95.87 | Rec:  99.32 || Ex/s: 191.28\n",
      "\n",
      "* Best F1: 97.56637168141593\n",
      "Saving best model...\n",
      "Done.\n",
      "---------------------\n",
      "\n",
      "===>  TRAIN Epoch 2\n",
      "Finished Epoch 2 || Run Time:   97.4 | Load Time:   18.4 || F1:  97.39 | Prec:  95.52 | Rec:  99.32 || Ex/s:  64.03\n",
      "\n",
      "===>  EVAL Epoch 2\n",
      "Finished Epoch 2 || Run Time:    9.7 | Load Time:    4.4 || F1:  98.10 | Prec:  97.34 | Rec:  98.87 || Ex/s: 175.41\n",
      "\n",
      "* Best F1: 98.10055865921788\n",
      "Saving best model...\n",
      "Done.\n",
      "---------------------\n",
      "\n",
      "===>  TRAIN Epoch 3\n",
      "Finished Epoch 3 || Run Time:   96.6 | Load Time:   17.9 || F1:  98.08 | Prec:  96.65 | Rec:  99.55 || Ex/s:  64.77\n",
      "\n",
      "===>  EVAL Epoch 3\n",
      "Finished Epoch 3 || Run Time:    9.0 | Load Time:    4.2 || F1:  97.99 | Prec:  97.33 | Rec:  98.65 || Ex/s: 186.60\n",
      "\n",
      "---------------------\n",
      "\n",
      "===>  TRAIN Epoch 4\n",
      "Finished Epoch 4 || Run Time:   98.9 | Load Time:   18.4 || F1:  98.70 | Prec:  97.72 | Rec:  99.70 || Ex/s:  63.22\n",
      "\n",
      "===>  EVAL Epoch 4\n",
      "Finished Epoch 4 || Run Time:    9.0 | Load Time:    4.2 || F1:  97.78 | Prec:  96.29 | Rec:  99.32 || Ex/s: 187.60\n",
      "\n",
      "---------------------\n",
      "\n",
      "===>  TRAIN Epoch 5\n",
      "Finished Epoch 5 || Run Time:   99.1 | Load Time:   18.7 || F1:  98.96 | Prec:  98.15 | Rec:  99.77 || Ex/s:  62.96\n",
      "\n",
      "===>  EVAL Epoch 5\n",
      "Finished Epoch 5 || Run Time:    9.0 | Load Time:    4.3 || F1:  97.79 | Prec:  95.89 | Rec:  99.77 || Ex/s: 185.40\n",
      "\n",
      "---------------------\n",
      "\n",
      "===>  TRAIN Epoch 6\n",
      "Finished Epoch 6 || Run Time:   98.2 | Load Time:   18.3 || F1:  99.22 | Prec:  98.45 | Rec: 100.00 || Ex/s:  63.66\n",
      "\n",
      "===>  EVAL Epoch 6\n",
      "Finished Epoch 6 || Run Time:    8.8 | Load Time:    4.1 || F1:  98.22 | Prec:  96.93 | Rec:  99.55 || Ex/s: 191.56\n",
      "\n",
      "* Best F1: 98.22222222222223\n",
      "Saving best model...\n",
      "Done.\n",
      "---------------------\n",
      "\n",
      "===>  TRAIN Epoch 7\n",
      "Finished Epoch 7 || Run Time:   98.4 | Load Time:   18.3 || F1:  99.07 | Prec:  98.23 | Rec:  99.92 || Ex/s:  63.56\n",
      "\n",
      "===>  EVAL Epoch 7\n",
      "Finished Epoch 7 || Run Time:    9.0 | Load Time:    4.1 || F1:  98.33 | Prec:  97.14 | Rec:  99.55 || Ex/s: 188.54\n",
      "\n",
      "* Best F1: 98.33147942157953\n",
      "Saving best model...\n",
      "Done.\n",
      "---------------------\n",
      "\n",
      "===>  TRAIN Epoch 8\n",
      "Finished Epoch 8 || Run Time:   97.0 | Load Time:   18.2 || F1:  99.29 | Prec:  98.59 | Rec: 100.00 || Ex/s:  64.36\n",
      "\n",
      "===>  EVAL Epoch 8\n",
      "Finished Epoch 8 || Run Time:    8.8 | Load Time:    4.2 || F1:  98.33 | Prec:  97.14 | Rec:  99.55 || Ex/s: 190.29\n",
      "\n",
      "---------------------\n",
      "\n",
      "===>  TRAIN Epoch 9\n",
      "Finished Epoch 9 || Run Time:   98.3 | Load Time:   18.5 || F1:  99.37 | Prec:  98.74 | Rec: 100.00 || Ex/s:  63.47\n",
      "\n",
      "===>  EVAL Epoch 9\n",
      "Finished Epoch 9 || Run Time:    8.5 | Load Time:    4.1 || F1:  98.22 | Prec:  96.93 | Rec:  99.55 || Ex/s: 197.03\n",
      "\n",
      "---------------------\n",
      "\n",
      "===>  TRAIN Epoch 10\n",
      "Finished Epoch 10 || Run Time:   94.5 | Load Time:   18.1 || F1:  99.40 | Prec:  98.81 | Rec: 100.00 || Ex/s:  65.88\n",
      "\n",
      "===>  EVAL Epoch 10\n",
      "Finished Epoch 10 || Run Time:    8.8 | Load Time:    4.2 || F1:  98.11 | Prec:  96.72 | Rec:  99.55 || Ex/s: 190.86\n",
      "\n",
      "---------------------\n",
      "\n",
      "Loading best model...\n",
      "Training done.\n"
     ]
    },
    {
     "data": {
      "text/plain": [
       "98.33147942157953"
      ]
     },
     "execution_count": 13,
     "metadata": {},
     "output_type": "execute_result"
    }
   ],
   "source": [
    "hybrid_model = dm.MatchingModel(attr_summarizer='hybrid')\n",
    "hybrid_model.run_train(train,validation,best_save_path='../../models/dblp_acm_hybrid.pth',epochs=10,\n",
    "                      batch_size=16,pos_neg_ratio=5)"
   ]
  },
  {
   "cell_type": "code",
   "execution_count": null,
   "metadata": {},
   "outputs": [],
   "source": []
  }
 ],
 "metadata": {
  "kernelspec": {
   "display_name": "Python 3",
   "language": "python",
   "name": "python3"
  },
  "language_info": {
   "codemirror_mode": {
    "name": "ipython",
    "version": 3
   },
   "file_extension": ".py",
   "mimetype": "text/x-python",
   "name": "python",
   "nbconvert_exporter": "python",
   "pygments_lexer": "ipython3",
   "version": "3.6.9"
  }
 },
 "nbformat": 4,
 "nbformat_minor": 2
}

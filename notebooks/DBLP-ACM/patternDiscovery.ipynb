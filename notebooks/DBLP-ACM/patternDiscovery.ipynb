{
 "cells": [
  {
   "cell_type": "code",
   "execution_count": 1,
   "metadata": {},
   "outputs": [],
   "source": [
    "import sys\n",
    "sys.path.append('../..')"
   ]
  },
  {
   "cell_type": "code",
   "execution_count": 2,
   "metadata": {},
   "outputs": [],
   "source": [
    "import pandas as pd"
   ]
  },
  {
   "cell_type": "code",
   "execution_count": 11,
   "metadata": {},
   "outputs": [],
   "source": [
    "def appendPrefix(attribute,prefix):\n",
    "    return list(map(lambda s:prefix+s,str(attribute).split()))"
   ]
  },
  {
   "cell_type": "code",
   "execution_count": 12,
   "metadata": {},
   "outputs": [],
   "source": [
    "def preProcessNeighbors(nn,opposite_label_data,attribute):\n",
    "    nn_values = pd.merge(nn,opposite_label_data,left_on=attribute,right_on='id')\n",
    "    left_values, right_values  = nn_values['ltable_'+attribute],nn_values['rtable_'+attribute]\n",
    "    left_values_prefixed = list(map(lambda att:tuple(appendPrefix(att,'L_')),left_values))\n",
    "    right_values_prefixed = list(map(lambda att:tuple(appendPrefix(att,'R_')),right_values))\n",
    "    return left_values_prefixed,right_values_prefixed"
   ]
  },
  {
   "cell_type": "code",
   "execution_count": 31,
   "metadata": {},
   "outputs": [],
   "source": [
    "pos_nn = pd.read_csv('experiment_results/testpos_nn_hybrid_withfilter.csv')\n",
    "train_neg = pd.read_csv('../../Structured/DBLP-ACM/train_negatives.csv')\n",
    "lval,rval = preProcessNeighbors(pos_nn,train_neg,'title')\n",
    "transactions = list(map(lambda l,r:l+r,lval,rval))"
   ]
  },
  {
   "cell_type": "code",
   "execution_count": 33,
   "metadata": {},
   "outputs": [
    {
     "name": "stdout",
     "output_type": "stream",
     "text": [
      "{R_for} -> {L_for} (conf: 0.893, supp: 0.307, lift: 2.375, conv: 5.849)\n",
      "{L_for} -> {R_for} (conf: 0.817, supp: 0.307, lift: 2.375, conv: 3.586)\n",
      "{L_systems} -> {L_database} (conf: 0.818, supp: 0.083, lift: 5.324, conv: 4.655)\n",
      "{R_systems} -> {L_systems} (conf: 0.806, supp: 0.067, lift: 7.982, conv: 4.624)\n",
      "{L_efficient} -> {R_efficient} (conf: 0.857, supp: 0.055, lift: 8.898, conv: 6.326)\n",
      "{R_optimization} -> {L_optimization} (conf: 0.812, supp: 0.060, lift: 11.070, conv: 4.942)\n",
      "{L_optimization} -> {R_optimization} (conf: 0.812, supp: 0.060, lift: 11.070, conv: 4.942)\n",
      "{R_management} -> {L_management} (conf: 0.880, supp: 0.050, lift: 14.210, conv: 7.817)\n",
      "{L_management} -> {R_management} (conf: 0.815, supp: 0.050, lift: 14.210, conv: 5.090)\n"
     ]
    }
   ],
   "source": [
    "from efficient_apriori import apriori\n",
    "itemsets, rules = apriori(transactions, min_support=0.05,  min_confidence=0.8)\n",
    "\n",
    "rules_rhs = filter(lambda rule: len(rule.lhs) == 1 and len(rule.rhs)==1, rules)\n",
    "for rule in sorted(rules_rhs, key=lambda rule: rule.lift):\n",
    "  print(rule) # Prints the rule and its confidence, support, lift, ..."
   ]
  },
  {
   "cell_type": "code",
   "execution_count": null,
   "metadata": {},
   "outputs": [],
   "source": []
  }
 ],
 "metadata": {
  "kernelspec": {
   "display_name": "Python 3",
   "language": "python",
   "name": "python3"
  },
  "language_info": {
   "codemirror_mode": {
    "name": "ipython",
    "version": 3
   },
   "file_extension": ".py",
   "mimetype": "text/x-python",
   "name": "python",
   "nbconvert_exporter": "python",
   "pygments_lexer": "ipython3",
   "version": "3.6.9"
  }
 },
 "nbformat": 4,
 "nbformat_minor": 2
}

{
 "cells": [
  {
   "cell_type": "code",
   "execution_count": 1,
   "metadata": {
    "ExecuteTime": {
     "end_time": "2020-02-16T17:29:43.956836Z",
     "start_time": "2020-02-16T17:29:43.938191Z"
    }
   },
   "outputs": [],
   "source": [
    "%load_ext autoreload\n",
    "%autoreload 2"
   ]
  },
  {
   "cell_type": "code",
   "execution_count": 2,
   "metadata": {
    "ExecuteTime": {
     "end_time": "2020-02-16T17:29:45.804917Z",
     "start_time": "2020-02-16T17:29:44.275013Z"
    }
   },
   "outputs": [],
   "source": [
    "from utils.mojito2 import explainSamples,_occurrInNegative\n",
    "import deepmatcher as dm\n",
    "import pandas as pd\n",
    "from utils.dataset_parser import getFullDataset,generate_train_valid_test\n",
    "from utils.deepmatcher_utils import wrapDm\n",
    "from utils.mojito2 import prepareDataset,aggregateRankings\n",
    "from strsimpy.jaccard import Jaccard\n",
    "import numpy as np\n",
    "import pickle"
   ]
  },
  {
   "cell_type": "markdown",
   "metadata": {},
   "source": [
    "# Calculate rankings"
   ]
  },
  {
   "cell_type": "markdown",
   "metadata": {},
   "source": [
    "## Itunes-Amazon"
   ]
  },
  {
   "cell_type": "code",
   "execution_count": 4,
   "metadata": {
    "ExecuteTime": {
     "end_time": "2020-02-11T11:15:11.129278Z",
     "start_time": "2020-02-11T11:15:06.107662Z"
    }
   },
   "outputs": [],
   "source": [
    "itunes_model = dm.MatchingModel(attr_summarizer='hybrid')\n",
    "itunes_model.load_state('models/itunes_amazon_hybrid.pth')\n",
    "itunes_model = itunes_model.to('cuda')"
   ]
  },
  {
   "cell_type": "code",
   "execution_count": 5,
   "metadata": {
    "ExecuteTime": {
     "end_time": "2020-02-07T17:23:24.491398Z",
     "start_time": "2020-02-07T17:23:24.373426Z"
    }
   },
   "outputs": [],
   "source": [
    "tableA_itunes = pd.read_csv('datasets/Structured/itunes-amazon/tableA.csv')\n",
    "tableB_itunes = pd.read_csv('datasets/Structured/itunes-amazon/tableB.csv')"
   ]
  },
  {
   "cell_type": "code",
   "execution_count": 6,
   "metadata": {
    "ExecuteTime": {
     "end_time": "2020-02-07T17:23:24.657937Z",
     "start_time": "2020-02-07T17:23:24.494058Z"
    }
   },
   "outputs": [],
   "source": [
    "ITUNES_DIR ='datasets/Structured/itunes-amazon/'\n",
    "train_df,validation_df,test_df = generate_train_valid_test(ITUNES_DIR,['train.csv','valid.csv','test.csv']\n",
    "                                                      ,left_prefix='ltable_',right_prefix='rtable_',\n",
    "                                                          drop_lrid=False)"
   ]
  },
  {
   "cell_type": "code",
   "execution_count": 7,
   "metadata": {
    "ExecuteTime": {
     "end_time": "2020-02-07T17:23:25.789028Z",
     "start_time": "2020-02-07T17:23:25.326265Z"
    }
   },
   "outputs": [],
   "source": [
    "augmented_test = prepareDataset(test_df,tableA_itunes,tableB_itunes,30)"
   ]
  },
  {
   "cell_type": "code",
   "execution_count": 8,
   "metadata": {
    "ExecuteTime": {
     "end_time": "2020-02-07T17:23:26.342733Z",
     "start_time": "2020-02-07T17:23:26.281794Z"
    }
   },
   "outputs": [
    {
     "data": {
      "text/plain": [
       "((131, 20), (109, 20))"
      ]
     },
     "execution_count": 8,
     "metadata": {},
     "output_type": "execute_result"
    }
   ],
   "source": [
    "augmented_test.shape,test_df.shape"
   ]
  },
  {
   "cell_type": "code",
   "execution_count": 9,
   "metadata": {
    "ExecuteTime": {
     "end_time": "2020-02-07T17:23:40.102190Z",
     "start_time": "2020-02-07T17:23:27.948645Z"
    }
   },
   "outputs": [],
   "source": [
    "predictions = wrapDm(augmented_test,itunes_model,ignore_columns=['ltable_id','rtable_id','id','label'])\n",
    "tp_group = augmented_test[(predictions[:,1]>=0.5)& augmented_test['label'] == 1]\n",
    "tn_group = augmented_test[(predictions[:,0] >=0.5)& augmented_test['label']==0]\n",
    "correctPredictions_itunes = pd.concat([tp_group,tn_group])"
   ]
  },
  {
   "cell_type": "code",
   "execution_count": 11,
   "metadata": {
    "ExecuteTime": {
     "end_time": "2020-02-07T17:27:52.643710Z",
     "start_time": "2020-02-07T17:25:12.771937Z"
    }
   },
   "outputs": [
    {
     "name": "stderr",
     "output_type": "stream",
     "text": [
      "\n",
      "  0%|          | 0/66 [00:00<?, ?it/s]\u001b[A\n",
      "  2%|▏         | 1/66 [00:02<02:54,  2.68s/it]\u001b[A\n",
      "  3%|▎         | 2/66 [00:05<02:50,  2.66s/it]\u001b[A\n",
      "  5%|▍         | 3/66 [00:07<02:38,  2.51s/it]\u001b[A\n",
      "  6%|▌         | 4/66 [00:09<02:31,  2.44s/it]\u001b[A\n",
      "  8%|▊         | 5/66 [00:12<02:27,  2.42s/it]\u001b[A\n",
      "  9%|▉         | 6/66 [00:14<02:22,  2.37s/it]\u001b[A\n",
      " 11%|█         | 7/66 [00:16<02:16,  2.31s/it]\u001b[A\n",
      " 12%|█▏        | 8/66 [00:18<02:12,  2.29s/it]\u001b[A\n",
      " 14%|█▎        | 9/66 [00:21<02:10,  2.29s/it]\u001b[A\n",
      " 15%|█▌        | 10/66 [00:23<02:08,  2.29s/it]\u001b[A\n",
      " 17%|█▋        | 11/66 [00:25<02:04,  2.27s/it]\u001b[A\n",
      " 18%|█▊        | 12/66 [00:27<02:03,  2.29s/it]\u001b[A\n",
      " 20%|█▉        | 13/66 [00:30<02:02,  2.31s/it]\u001b[A\n",
      " 21%|██        | 14/66 [00:32<01:58,  2.29s/it]\u001b[A\n",
      " 23%|██▎       | 15/66 [00:34<01:56,  2.29s/it]\u001b[A\n",
      " 24%|██▍       | 16/66 [00:37<01:55,  2.31s/it]\u001b[A\n",
      " 26%|██▌       | 17/66 [00:39<01:52,  2.30s/it]\u001b[A\n",
      " 27%|██▋       | 18/66 [00:41<01:52,  2.35s/it]\u001b[A\n",
      " 29%|██▉       | 19/66 [00:44<01:49,  2.34s/it]\u001b[A\n",
      " 30%|███       | 20/66 [00:46<01:45,  2.29s/it]\u001b[A\n",
      " 32%|███▏      | 21/66 [00:48<01:42,  2.28s/it]\u001b[A\n",
      " 33%|███▎      | 22/66 [00:51<01:42,  2.34s/it]\u001b[A\n",
      " 35%|███▍      | 23/66 [00:53<01:42,  2.38s/it]\u001b[A\n",
      " 36%|███▋      | 24/66 [00:56<01:48,  2.57s/it]\u001b[A\n",
      " 38%|███▊      | 25/66 [00:59<01:52,  2.74s/it]\u001b[A\n",
      " 39%|███▉      | 26/66 [01:02<01:51,  2.80s/it]\u001b[A\n",
      " 41%|████      | 27/66 [01:05<01:45,  2.71s/it]\u001b[A\n",
      " 42%|████▏     | 28/66 [01:07<01:43,  2.72s/it]\u001b[A\n",
      " 44%|████▍     | 29/66 [01:10<01:40,  2.70s/it]\u001b[A\n",
      " 45%|████▌     | 30/66 [01:13<01:34,  2.62s/it]\u001b[A\n",
      " 47%|████▋     | 31/66 [01:15<01:28,  2.52s/it]\u001b[A\n",
      " 48%|████▊     | 32/66 [01:17<01:22,  2.41s/it]\u001b[A\n",
      " 50%|█████     | 33/66 [01:19<01:19,  2.41s/it]\u001b[A\n",
      " 52%|█████▏    | 34/66 [01:21<01:13,  2.30s/it]\u001b[A\n",
      " 53%|█████▎    | 35/66 [01:24<01:10,  2.28s/it]\u001b[A\n",
      " 55%|█████▍    | 36/66 [01:26<01:07,  2.25s/it]\u001b[A\n",
      " 56%|█████▌    | 37/66 [01:28<01:05,  2.25s/it]\u001b[A\n",
      " 58%|█████▊    | 38/66 [01:30<01:04,  2.30s/it]\u001b[A\n",
      " 59%|█████▉    | 39/66 [01:33<01:02,  2.31s/it]\u001b[A\n",
      " 61%|██████    | 40/66 [01:35<00:58,  2.27s/it]\u001b[A\n",
      " 62%|██████▏   | 41/66 [01:37<00:56,  2.26s/it]\u001b[A\n",
      " 64%|██████▎   | 42/66 [01:40<00:55,  2.31s/it]\u001b[A\n",
      " 65%|██████▌   | 43/66 [01:42<00:53,  2.33s/it]\u001b[A\n",
      " 67%|██████▋   | 44/66 [01:44<00:50,  2.31s/it]\u001b[A\n",
      " 68%|██████▊   | 45/66 [01:47<00:48,  2.33s/it]\u001b[A\n",
      " 70%|██████▉   | 46/66 [01:49<00:46,  2.35s/it]\u001b[A\n",
      " 71%|███████   | 47/66 [01:51<00:44,  2.34s/it]\u001b[A\n",
      " 73%|███████▎  | 48/66 [01:54<00:42,  2.35s/it]\u001b[A\n",
      " 74%|███████▍  | 49/66 [01:56<00:40,  2.37s/it]\u001b[A\n",
      " 76%|███████▌  | 50/66 [01:59<00:37,  2.36s/it]\u001b[A\n",
      " 77%|███████▋  | 51/66 [02:01<00:36,  2.42s/it]\u001b[A\n",
      " 79%|███████▉  | 52/66 [02:03<00:33,  2.41s/it]\u001b[A\n",
      " 80%|████████  | 53/66 [02:06<00:30,  2.36s/it]\u001b[A\n",
      " 82%|████████▏ | 54/66 [02:08<00:27,  2.33s/it]\u001b[A\n",
      " 83%|████████▎ | 55/66 [02:11<00:26,  2.41s/it]\u001b[A\n",
      " 85%|████████▍ | 56/66 [02:13<00:24,  2.43s/it]\u001b[A\n",
      " 86%|████████▋ | 57/66 [02:16<00:24,  2.72s/it]\u001b[A\n",
      " 88%|████████▊ | 58/66 [02:19<00:22,  2.78s/it]\u001b[A\n",
      " 89%|████████▉ | 59/66 [02:22<00:19,  2.80s/it]\u001b[A\n",
      " 91%|█████████ | 60/66 [02:25<00:16,  2.67s/it]\u001b[A\n",
      " 92%|█████████▏| 61/66 [02:27<00:13,  2.68s/it]\u001b[A\n",
      " 94%|█████████▍| 62/66 [02:30<00:10,  2.68s/it]\u001b[A\n",
      " 95%|█████████▌| 63/66 [02:33<00:07,  2.65s/it]\u001b[A\n",
      " 97%|█████████▋| 64/66 [02:35<00:05,  2.53s/it]\u001b[A\n",
      " 98%|█████████▊| 65/66 [02:37<00:02,  2.40s/it]\u001b[A\n",
      "100%|██████████| 66/66 [02:39<00:00,  2.42s/it]\u001b[A\n"
     ]
    }
   ],
   "source": [
    "neg_rankings_itunes,neg_triangles_itunes,flippedPredictions = explainSamples(correctPredictions_itunes,\n",
    "                                                          [tableA_itunes,tableB_itunes],\n",
    "                                                          itunes_model,originalClass=0)"
   ]
  },
  {
   "cell_type": "code",
   "execution_count": 22,
   "metadata": {
    "ExecuteTime": {
     "end_time": "2020-02-07T17:12:45.709589Z",
     "start_time": "2020-02-07T17:09:51.022504Z"
    }
   },
   "outputs": [
    {
     "name": "stderr",
     "output_type": "stream",
     "text": [
      "100%|██████████| 64/64 [02:54<00:00,  2.73s/it]\n"
     ]
    }
   ],
   "source": [
    "pos_rankings_itunes,pos_triangles_itunes,flippedPredictions_pos = explainSamples(correctPredictions_itunes,\n",
    "                                                          [tableA_itunes,tableB_itunes],\n",
    "                                                          itunes_model,originalClass=1)"
   ]
  },
  {
   "cell_type": "code",
   "execution_count": null,
   "metadata": {
    "ExecuteTime": {
     "start_time": "2020-02-07T17:31:47.530Z"
    }
   },
   "outputs": [],
   "source": [
    "wrapDm(flippedPredictions,itunes_model,ignore_columns=['ltable_id','rtable_id','alteredAttribute'])"
   ]
  },
  {
   "cell_type": "code",
   "execution_count": 13,
   "metadata": {
    "ExecuteTime": {
     "end_time": "2020-02-07T17:28:13.060724Z",
     "start_time": "2020-02-07T17:28:12.279185Z"
    }
   },
   "outputs": [
    {
     "data": {
      "text/plain": [
       "<matplotlib.axes._subplots.AxesSubplot at 0x7f38d8c8ac18>"
      ]
     },
     "execution_count": 13,
     "metadata": {},
     "output_type": "execute_result"
    },
    {
     "data": {
      "image/png": "[encoded data removed]",
      "text/plain": [
       "<Figure size 1224x1224 with 1 Axes>"
      ]
     },
     "metadata": {
      "needs_background": "light"
     },
     "output_type": "display_data"
    }
   ],
   "source": [
    "aggregateRankings(neg_rankings_itunes,positive=False)"
   ]
  },
  {
   "cell_type": "code",
   "execution_count": 235,
   "metadata": {
    "ExecuteTime": {
     "end_time": "2020-02-06T17:19:28.693255Z",
     "start_time": "2020-02-06T17:19:28.173053Z"
    }
   },
   "outputs": [
    {
     "data": {
      "text/plain": [
       "<matplotlib.axes._subplots.AxesSubplot at 0x7fae4b313b70>"
      ]
     },
     "execution_count": 235,
     "metadata": {},
     "output_type": "execute_result"
    },
    {
     "data": {
      "image/png": "[encoded data removed]",
      "text/plain": [
       "<Figure size 576x720 with 1 Axes>"
      ]
     },
     "metadata": {
      "needs_background": "light"
     },
     "output_type": "display_data"
    }
   ],
   "source": [
    "aggregateRankings(pos_rankings_itunes,positive=True)"
   ]
  },
  {
   "cell_type": "markdown",
   "metadata": {},
   "source": [
    "### Retrain model"
   ]
  },
  {
   "cell_type": "code",
   "execution_count": 81,
   "metadata": {
    "ExecuteTime": {
     "end_time": "2020-02-06T15:06:10.274061Z",
     "start_time": "2020-02-06T15:06:09.953341Z"
    }
   },
   "outputs": [],
   "source": [
    "augmented_train = prepareDataset(train_df,tableA_itunes,tableB_itunes,40)"
   ]
  },
  {
   "cell_type": "code",
   "execution_count": 82,
   "metadata": {
    "ExecuteTime": {
     "end_time": "2020-02-06T15:06:11.106125Z",
     "start_time": "2020-02-06T15:06:11.072734Z"
    }
   },
   "outputs": [
    {
     "data": {
      "text/plain": [
       "321"
      ]
     },
     "execution_count": 82,
     "metadata": {},
     "output_type": "execute_result"
    }
   ],
   "source": [
    "len(train_df)"
   ]
  },
  {
   "cell_type": "code",
   "execution_count": 83,
   "metadata": {
    "ExecuteTime": {
     "end_time": "2020-02-06T15:06:11.514520Z",
     "start_time": "2020-02-06T15:06:11.474508Z"
    }
   },
   "outputs": [
    {
     "data": {
      "text/plain": [
       "339"
      ]
     },
     "execution_count": 83,
     "metadata": {},
     "output_type": "execute_result"
    }
   ],
   "source": [
    "len(augmented_train)"
   ]
  },
  {
   "cell_type": "code",
   "execution_count": 86,
   "metadata": {
    "ExecuteTime": {
     "end_time": "2020-02-06T15:07:02.433965Z",
     "start_time": "2020-02-06T15:06:57.675555Z"
    }
   },
   "outputs": [],
   "source": [
    "train_predictions = wrapDm(augmented_train,itunes_model,ignore_columns=['ltable_id','rtable_id','id','label'])\n",
    "tp_group = augmented_train[(train_predictions[:,1]>=0.5)& augmented_train['label'] == 1]\n",
    "tn_group = augmented_train[(train_predictions[:,0] >=0.5)& augmented_train['label']==0]\n",
    "correctPredictions_train_itunes = pd.concat([tp_group,tn_group])"
   ]
  },
  {
   "cell_type": "code",
   "execution_count": 87,
   "metadata": {
    "ExecuteTime": {
     "end_time": "2020-02-06T15:11:00.735559Z",
     "start_time": "2020-02-06T15:07:22.058739Z"
    }
   },
   "outputs": [
    {
     "name": "stderr",
     "output_type": "stream",
     "text": [
      "100%|██████████| 86/86 [03:38<00:00,  2.54s/it]\n"
     ]
    }
   ],
   "source": [
    "pos_rankings_itunes,pos_triangles_itunes,flippedPredictions_pos = explainSamples(correctPredictions_train_itunes,\n",
    "                                                          [tableA_itunes,tableB_itunes],\n",
    "                                                          itunes_model,originalClass=1)"
   ]
  },
  {
   "cell_type": "code",
   "execution_count": 118,
   "metadata": {
    "ExecuteTime": {
     "end_time": "2020-02-06T16:07:18.555817Z",
     "start_time": "2020-02-06T16:07:18.012628Z"
    }
   },
   "outputs": [
    {
     "data": {
      "text/plain": [
       "<matplotlib.axes._subplots.AxesSubplot at 0x7faeb2879a58>"
      ]
     },
     "execution_count": 118,
     "metadata": {},
     "output_type": "execute_result"
    },
    {
     "data": {
      "image/png": "[encoded data removed]",
      "text/plain": [
       "<Figure size 432x288 with 1 Axes>"
      ]
     },
     "metadata": {
      "needs_background": "light"
     },
     "output_type": "display_data"
    }
   ],
   "source": [
    "aggregateRankings(pos_rankings_itunes)"
   ]
  },
  {
   "cell_type": "code",
   "execution_count": 205,
   "metadata": {
    "ExecuteTime": {
     "end_time": "2020-02-06T16:42:53.376712Z",
     "start_time": "2020-02-06T16:42:53.331579Z"
    }
   },
   "outputs": [],
   "source": [
    "newTrainingSamples = flippedPredictions_pos[(flippedPredictions_pos.alteredAttribute==('Genre','Price','Time'))|\n",
    "                      (flippedPredictions_pos.alteredAttribute==('Time',))|\n",
    "                       (flippedPredictions_pos.alteredAttribute==('Price','Time'))|\n",
    "                                            (flippedPredictions_pos.alteredAttribute==('Price',))].sample(n=100)"
   ]
  },
  {
   "cell_type": "code",
   "execution_count": 206,
   "metadata": {
    "ExecuteTime": {
     "end_time": "2020-02-06T16:42:53.951308Z",
     "start_time": "2020-02-06T16:42:53.914234Z"
    }
   },
   "outputs": [],
   "source": [
    "def adjustNewTraining(df):\n",
    "    newTrainingSamples = df.copy().drop_duplicates(subset=['ltable_id','rtable_id'])\n",
    "    newTrainingSamples['label'] = 1\n",
    "    oldCol = [col for col in list(newTrainingSamples) if col not in ['ltable_id','rtable_id','label']]\n",
    "    newCols = ['ltable_id','rtable_id','label'] + oldCol\n",
    "    newTrainingSamples = newTrainingSamples[newCols]\n",
    "    newTrainingSamples = newTrainingSamples.drop(['alteredAttribute'],axis=1)\n",
    "    return newTrainingSamples"
   ]
  },
  {
   "cell_type": "code",
   "execution_count": 207,
   "metadata": {
    "ExecuteTime": {
     "end_time": "2020-02-06T16:42:54.495319Z",
     "start_time": "2020-02-06T16:42:54.450963Z"
    }
   },
   "outputs": [],
   "source": [
    "newTrain_correct = adjustNewTraining(newTrainingSamples)\n",
    "newTrain_correct.to_csv('datasets/Structured/itunes-amazon/mojito_newtrain.csv',index=False)"
   ]
  },
  {
   "cell_type": "code",
   "execution_count": 208,
   "metadata": {
    "ExecuteTime": {
     "end_time": "2020-02-06T16:42:55.185414Z",
     "start_time": "2020-02-06T16:42:54.906377Z"
    }
   },
   "outputs": [],
   "source": [
    "train_df,valid_df,test_df = generate_train_valid_test(ITUNES_DIR,['train.csv','valid.csv','test.csv'],\n",
    "                                                     left_prefix='ltable_',right_prefix='rtable_',drop_lrid=False)"
   ]
  },
  {
   "cell_type": "code",
   "execution_count": 210,
   "metadata": {
    "ExecuteTime": {
     "end_time": "2020-02-06T16:44:17.611159Z",
     "start_time": "2020-02-06T16:44:17.563614Z"
    }
   },
   "outputs": [],
   "source": [
    "valid_df.to_csv(ITUNES_DIR+'valid_withid.csv',index=False)\n",
    "test_df.to_csv(ITUNES_DIR+'test_withid.csv',index=False)"
   ]
  },
  {
   "cell_type": "code",
   "execution_count": 209,
   "metadata": {
    "ExecuteTime": {
     "end_time": "2020-02-06T16:42:55.382320Z",
     "start_time": "2020-02-06T16:42:55.329894Z"
    }
   },
   "outputs": [
    {
     "data": {
      "text/plain": [
       "((343, 20), (321, 20))"
      ]
     },
     "execution_count": 209,
     "metadata": {},
     "output_type": "execute_result"
    }
   ],
   "source": [
    "improved_train = pd.concat([train_df,newTrain_correct])\n",
    "improved_train.to_csv(ITUNES_DIR+'improved_train.csv',index=False)\n",
    "improved_train.shape,train_df.shape"
   ]
  },
  {
   "cell_type": "code",
   "execution_count": 214,
   "metadata": {
    "ExecuteTime": {
     "end_time": "2020-02-06T16:49:36.098629Z",
     "start_time": "2020-02-06T16:49:33.503811Z"
    }
   },
   "outputs": [
    {
     "name": "stderr",
     "output_type": "stream",
     "text": [
      "\n",
      "Reading and processing data from \"datasets/Structured/itunes-amazon/improved_train.csv\"\n",
      "0% [############################# ] 100% | ETA: 00:00:00\n",
      "Reading and processing data from \"datasets/Structured/itunes-amazon/valid_withid.csv\"\n",
      "0% [############################# ] 100% | ETA: 00:00:00\n",
      "Reading and processing data from \"datasets/Structured/itunes-amazon/test_withid.csv\"\n",
      "0% [############################# ] 100% | ETA: 00:00:00\n",
      "Building vocabulary\n",
      "0% [#] 100% | ETA: 00:00:00\n",
      "Total time elapsed: 00:00:00\n",
      "\n",
      "Computing principal components\n",
      "0% [#] 100% | ETA: 00:00:00\n",
      "Total time elapsed: 00:00:00\n"
     ]
    }
   ],
   "source": [
    "train,validation,test = dm.data.process(ITUNES_DIR,train='improved_train.csv',validation='valid_withid.csv',\n",
    "                                       test='test_withid.csv',left_prefix='ltable_',right_prefix='rtable_',cache='impr.pth',\n",
    "                                       ignore_columns = ['ltable_id','rtable_id'])"
   ]
  },
  {
   "cell_type": "code",
   "execution_count": 215,
   "metadata": {
    "ExecuteTime": {
     "end_time": "2020-02-06T16:54:26.627526Z",
     "start_time": "2020-02-06T16:51:04.767246Z"
    }
   },
   "outputs": [
    {
     "name": "stdout",
     "output_type": "stream",
     "text": [
      "* Number of trainable parameters: 17757810\n",
      "===>  TRAIN Epoch 1\n"
     ]
    },
    {
     "name": "stderr",
     "output_type": "stream",
     "text": [
      "/home/nvidia/anaconda3/envs/torchenv/lib/python3.6/site-packages/torch/nn/functional.py:1932: UserWarning: reduction: 'mean' divides the total loss by both the batch size and the support size.'batchmean' divides only by the batch size, and aligns with the KL div math definition.'mean' will be changed to behave the same as 'batchmean' in the next major release.\n",
      "  warnings.warn(\"reduction: 'mean' divides the total loss by both the batch size and the support size.\"\n",
      "0% [██] 100% | ETA: 00:00:00\n",
      "Total time elapsed: 00:00:06\n"
     ]
    },
    {
     "name": "stdout",
     "output_type": "stream",
     "text": [
      "Finished Epoch 1 || Run Time:    5.3 | Load Time:    2.3 || F1:  46.55 | Prec:  31.27 | Rec:  91.00 || Ex/s:  44.85\n",
      "\n",
      "===>  EVAL Epoch 1\n",
      "Finished Epoch 1 || Run Time:    0.6 | Load Time:    0.6 || F1:  43.70 | Prec:  28.26 | Rec:  96.30 || Ex/s:  90.95\n",
      "\n",
      "* Best F1: tensor(43.6975, device='cuda:0')\n",
      "Saving best model...\n",
      "Done.\n",
      "---------------------\n",
      "\n",
      "===>  TRAIN Epoch 2\n"
     ]
    },
    {
     "name": "stderr",
     "output_type": "stream",
     "text": [
      "0% [██] 100% | ETA: 00:00:00\n",
      "Total time elapsed: 00:00:05\n"
     ]
    },
    {
     "name": "stdout",
     "output_type": "stream",
     "text": [
      "Finished Epoch 2 || Run Time:    4.6 | Load Time:    1.7 || F1:  52.57 | Prec:  36.06 | Rec:  97.00 || Ex/s:  54.79\n",
      "\n",
      "===>  EVAL Epoch 2\n",
      "Finished Epoch 2 || Run Time:    0.5 | Load Time:    0.5 || F1:  56.76 | Prec:  44.68 | Rec:  77.78 || Ex/s: 106.99\n",
      "\n",
      "* Best F1: tensor(56.7568, device='cuda:0')\n",
      "Saving best model...\n",
      "Done.\n",
      "---------------------\n",
      "\n",
      "===>  TRAIN Epoch 3\n"
     ]
    },
    {
     "name": "stderr",
     "output_type": "stream",
     "text": [
      "0% [██] 100% | ETA: 00:00:00\n",
      "Total time elapsed: 00:00:05\n"
     ]
    },
    {
     "name": "stdout",
     "output_type": "stream",
     "text": [
      "Finished Epoch 3 || Run Time:    4.6 | Load Time:    1.7 || F1:  68.20 | Prec:  55.28 | Rec:  89.00 || Ex/s:  54.37\n",
      "\n",
      "===>  EVAL Epoch 3\n",
      "Finished Epoch 3 || Run Time:    0.5 | Load Time:    0.5 || F1:  63.89 | Prec:  51.11 | Rec:  85.19 || Ex/s: 108.61\n",
      "\n",
      "* Best F1: tensor(63.8889, device='cuda:0')\n",
      "Saving best model...\n",
      "Done.\n",
      "---------------------\n",
      "\n",
      "===>  TRAIN Epoch 4\n"
     ]
    },
    {
     "name": "stderr",
     "output_type": "stream",
     "text": [
      "0% [██] 100% | ETA: 00:00:00\n",
      "Total time elapsed: 00:00:05\n"
     ]
    },
    {
     "name": "stdout",
     "output_type": "stream",
     "text": [
      "Finished Epoch 4 || Run Time:    4.6 | Load Time:    1.7 || F1:  77.73 | Prec:  65.31 | Rec:  96.00 || Ex/s:  54.56\n",
      "\n",
      "===>  EVAL Epoch 4\n",
      "Finished Epoch 4 || Run Time:    0.5 | Load Time:    0.5 || F1:  68.57 | Prec:  55.81 | Rec:  88.89 || Ex/s: 110.90\n",
      "\n",
      "* Best F1: tensor(68.5714, device='cuda:0')\n",
      "Saving best model...\n",
      "Done.\n",
      "---------------------\n",
      "\n",
      "===>  TRAIN Epoch 5\n"
     ]
    },
    {
     "name": "stderr",
     "output_type": "stream",
     "text": [
      "0% [██] 100% | ETA: 00:00:00\n",
      "Total time elapsed: 00:00:06\n"
     ]
    },
    {
     "name": "stdout",
     "output_type": "stream",
     "text": [
      "Finished Epoch 5 || Run Time:    5.4 | Load Time:    2.3 || F1:  81.17 | Prec:  69.78 | Rec:  97.00 || Ex/s:  44.69\n",
      "\n",
      "===>  EVAL Epoch 5\n",
      "Finished Epoch 5 || Run Time:    0.6 | Load Time:    0.6 || F1:  73.53 | Prec:  60.98 | Rec:  92.59 || Ex/s:  95.10\n",
      "\n",
      "* Best F1: tensor(73.5294, device='cuda:0')\n",
      "Saving best model...\n",
      "Done.\n",
      "---------------------\n",
      "\n",
      "===>  TRAIN Epoch 6\n"
     ]
    },
    {
     "name": "stderr",
     "output_type": "stream",
     "text": [
      "0% [██] 100% | ETA: 00:00:00\n",
      "Total time elapsed: 00:00:05\n"
     ]
    },
    {
     "name": "stdout",
     "output_type": "stream",
     "text": [
      "Finished Epoch 6 || Run Time:    4.9 | Load Time:    1.9 || F1:  89.69 | Prec:  81.30 | Rec: 100.00 || Ex/s:  50.88\n",
      "\n",
      "===>  EVAL Epoch 6\n",
      "Finished Epoch 6 || Run Time:    0.6 | Load Time:    0.6 || F1:  78.12 | Prec:  67.57 | Rec:  92.59 || Ex/s:  93.47\n",
      "\n",
      "* Best F1: tensor(78.1250, device='cuda:0')\n",
      "Saving best model...\n",
      "Done.\n",
      "---------------------\n",
      "\n",
      "===>  TRAIN Epoch 7\n"
     ]
    },
    {
     "name": "stderr",
     "output_type": "stream",
     "text": [
      "0% [██] 100% | ETA: 00:00:00\n",
      "Total time elapsed: 00:00:05\n"
     ]
    },
    {
     "name": "stdout",
     "output_type": "stream",
     "text": [
      "Finished Epoch 7 || Run Time:    5.1 | Load Time:    2.0 || F1:  93.90 | Prec:  88.50 | Rec: 100.00 || Ex/s:  48.49\n",
      "\n",
      "===>  EVAL Epoch 7\n",
      "Finished Epoch 7 || Run Time:    0.6 | Load Time:    0.6 || F1:  79.37 | Prec:  69.44 | Rec:  92.59 || Ex/s:  94.56\n",
      "\n",
      "* Best F1: tensor(79.3651, device='cuda:0')\n",
      "Saving best model...\n",
      "Done.\n",
      "---------------------\n",
      "\n",
      "===>  TRAIN Epoch 8\n"
     ]
    },
    {
     "name": "stderr",
     "output_type": "stream",
     "text": [
      "0% [██] 100% | ETA: 00:00:00\n",
      "Total time elapsed: 00:00:05\n"
     ]
    },
    {
     "name": "stdout",
     "output_type": "stream",
     "text": [
      "Finished Epoch 8 || Run Time:    4.5 | Load Time:    1.7 || F1:  97.09 | Prec:  94.34 | Rec: 100.00 || Ex/s:  55.92\n",
      "\n",
      "===>  EVAL Epoch 8\n",
      "Finished Epoch 8 || Run Time:    0.5 | Load Time:    0.5 || F1:  80.00 | Prec:  68.42 | Rec:  96.30 || Ex/s: 110.65\n",
      "\n",
      "* Best F1: tensor(80., device='cuda:0')\n",
      "Saving best model...\n",
      "Done.\n",
      "---------------------\n",
      "\n",
      "===>  TRAIN Epoch 9\n"
     ]
    },
    {
     "name": "stderr",
     "output_type": "stream",
     "text": [
      "0% [██] 100% | ETA: 00:00:00\n",
      "Total time elapsed: 00:00:05\n"
     ]
    },
    {
     "name": "stdout",
     "output_type": "stream",
     "text": [
      "Finished Epoch 9 || Run Time:    5.0 | Load Time:    1.9 || F1:  99.01 | Prec:  98.04 | Rec: 100.00 || Ex/s:  49.80\n",
      "\n",
      "===>  EVAL Epoch 9\n",
      "Finished Epoch 9 || Run Time:    0.6 | Load Time:    0.6 || F1:  74.29 | Prec:  60.47 | Rec:  96.30 || Ex/s:  93.53\n",
      "\n",
      "---------------------\n",
      "\n",
      "===>  TRAIN Epoch 10\n"
     ]
    },
    {
     "name": "stderr",
     "output_type": "stream",
     "text": [
      "0% [██] 100% | ETA: 00:00:00\n",
      "Total time elapsed: 00:00:05\n"
     ]
    },
    {
     "name": "stdout",
     "output_type": "stream",
     "text": [
      "Finished Epoch 10 || Run Time:    4.8 | Load Time:    1.8 || F1:  99.01 | Prec:  98.04 | Rec: 100.00 || Ex/s:  51.76\n",
      "\n",
      "===>  EVAL Epoch 10\n",
      "Finished Epoch 10 || Run Time:    0.6 | Load Time:    0.6 || F1:  81.25 | Prec:  70.27 | Rec:  96.30 || Ex/s:  94.48\n",
      "\n",
      "* Best F1: tensor(81.2500, device='cuda:0')\n",
      "Saving best model...\n",
      "Done.\n",
      "---------------------\n",
      "\n",
      "===>  TRAIN Epoch 11\n"
     ]
    },
    {
     "name": "stderr",
     "output_type": "stream",
     "text": [
      "0% [██] 100% | ETA: 00:00:00\n",
      "Total time elapsed: 00:00:06\n"
     ]
    },
    {
     "name": "stdout",
     "output_type": "stream",
     "text": [
      "Finished Epoch 11 || Run Time:    5.4 | Load Time:    2.3 || F1: 100.00 | Prec: 100.00 | Rec: 100.00 || Ex/s:  44.79\n",
      "\n",
      "===>  EVAL Epoch 11\n",
      "Finished Epoch 11 || Run Time:    0.6 | Load Time:    0.6 || F1:  78.79 | Prec:  66.67 | Rec:  96.30 || Ex/s:  94.29\n",
      "\n",
      "---------------------\n",
      "\n",
      "===>  TRAIN Epoch 12\n"
     ]
    },
    {
     "name": "stderr",
     "output_type": "stream",
     "text": [
      "0% [██] 100% | ETA: 00:00:00\n",
      "Total time elapsed: 00:00:06\n"
     ]
    },
    {
     "name": "stdout",
     "output_type": "stream",
     "text": [
      "Finished Epoch 12 || Run Time:    5.3 | Load Time:    2.2 || F1: 100.00 | Prec: 100.00 | Rec: 100.00 || Ex/s:  46.08\n",
      "\n",
      "===>  EVAL Epoch 12\n",
      "Finished Epoch 12 || Run Time:    0.6 | Load Time:    0.6 || F1:  81.25 | Prec:  70.27 | Rec:  96.30 || Ex/s:  93.22\n",
      "\n",
      "---------------------\n",
      "\n",
      "===>  TRAIN Epoch 13\n"
     ]
    },
    {
     "name": "stderr",
     "output_type": "stream",
     "text": [
      "0% [██] 100% | ETA: 00:00:00\n",
      "Total time elapsed: 00:00:05\n"
     ]
    },
    {
     "name": "stdout",
     "output_type": "stream",
     "text": [
      "Finished Epoch 13 || Run Time:    4.4 | Load Time:    1.6 || F1: 100.00 | Prec: 100.00 | Rec: 100.00 || Ex/s:  56.53\n",
      "\n",
      "===>  EVAL Epoch 13\n",
      "Finished Epoch 13 || Run Time:    0.5 | Load Time:    0.5 || F1:  80.00 | Prec:  68.42 | Rec:  96.30 || Ex/s: 111.11\n",
      "\n",
      "---------------------\n",
      "\n",
      "===>  TRAIN Epoch 14\n"
     ]
    },
    {
     "name": "stderr",
     "output_type": "stream",
     "text": [
      "0% [██] 100% | ETA: 00:00:00\n",
      "Total time elapsed: 00:00:06\n"
     ]
    },
    {
     "name": "stdout",
     "output_type": "stream",
     "text": [
      "Finished Epoch 14 || Run Time:    5.2 | Load Time:    2.0 || F1: 100.00 | Prec: 100.00 | Rec: 100.00 || Ex/s:  47.16\n",
      "\n",
      "===>  EVAL Epoch 14\n",
      "Finished Epoch 14 || Run Time:    0.6 | Load Time:    0.6 || F1:  80.00 | Prec:  68.42 | Rec:  96.30 || Ex/s:  93.58\n",
      "\n",
      "---------------------\n",
      "\n",
      "===>  TRAIN Epoch 15\n"
     ]
    },
    {
     "name": "stderr",
     "output_type": "stream",
     "text": [
      "0% [██] 100% | ETA: 00:00:00\n",
      "Total time elapsed: 00:00:06\n"
     ]
    },
    {
     "name": "stdout",
     "output_type": "stream",
     "text": [
      "Finished Epoch 15 || Run Time:    5.4 | Load Time:    2.2 || F1: 100.00 | Prec: 100.00 | Rec: 100.00 || Ex/s:  45.47\n",
      "\n",
      "===>  EVAL Epoch 15\n",
      "Finished Epoch 15 || Run Time:    0.6 | Load Time:    0.6 || F1:  80.00 | Prec:  68.42 | Rec:  96.30 || Ex/s:  93.86\n",
      "\n",
      "---------------------\n",
      "\n",
      "===>  TRAIN Epoch 16\n"
     ]
    },
    {
     "name": "stderr",
     "output_type": "stream",
     "text": [
      "0% [██] 100% | ETA: 00:00:00\n",
      "Total time elapsed: 00:00:05\n"
     ]
    },
    {
     "name": "stdout",
     "output_type": "stream",
     "text": [
      "Finished Epoch 16 || Run Time:    4.4 | Load Time:    1.6 || F1: 100.00 | Prec: 100.00 | Rec: 100.00 || Ex/s:  56.38\n",
      "\n",
      "===>  EVAL Epoch 16\n",
      "Finished Epoch 16 || Run Time:    0.5 | Load Time:    0.5 || F1:  80.00 | Prec:  68.42 | Rec:  96.30 || Ex/s: 110.91\n",
      "\n",
      "---------------------\n",
      "\n",
      "===>  TRAIN Epoch 17\n"
     ]
    },
    {
     "name": "stderr",
     "output_type": "stream",
     "text": [
      "0% [██] 100% | ETA: 00:00:00\n",
      "Total time elapsed: 00:00:05\n"
     ]
    },
    {
     "name": "stdout",
     "output_type": "stream",
     "text": [
      "Finished Epoch 17 || Run Time:    4.6 | Load Time:    1.6 || F1: 100.00 | Prec: 100.00 | Rec: 100.00 || Ex/s:  55.17\n",
      "\n",
      "===>  EVAL Epoch 17\n",
      "Finished Epoch 17 || Run Time:    0.5 | Load Time:    0.5 || F1:  80.00 | Prec:  68.42 | Rec:  96.30 || Ex/s: 109.19\n",
      "\n",
      "---------------------\n",
      "\n",
      "===>  TRAIN Epoch 18\n"
     ]
    },
    {
     "name": "stderr",
     "output_type": "stream",
     "text": [
      "0% [██] 100% | ETA: 00:00:00\n",
      "Total time elapsed: 00:00:05\n"
     ]
    },
    {
     "name": "stdout",
     "output_type": "stream",
     "text": [
      "Finished Epoch 18 || Run Time:    4.5 | Load Time:    1.6 || F1: 100.00 | Prec: 100.00 | Rec: 100.00 || Ex/s:  56.01\n",
      "\n",
      "===>  EVAL Epoch 18\n",
      "Finished Epoch 18 || Run Time:    0.5 | Load Time:    0.5 || F1:  80.00 | Prec:  68.42 | Rec:  96.30 || Ex/s: 111.12\n",
      "\n",
      "---------------------\n",
      "\n",
      "===>  TRAIN Epoch 19\n"
     ]
    },
    {
     "name": "stderr",
     "output_type": "stream",
     "text": [
      "0% [██] 100% | ETA: 00:00:00\n",
      "Total time elapsed: 00:00:06\n"
     ]
    },
    {
     "name": "stdout",
     "output_type": "stream",
     "text": [
      "Finished Epoch 19 || Run Time:    5.5 | Load Time:    2.2 || F1: 100.00 | Prec: 100.00 | Rec: 100.00 || Ex/s:  44.78\n",
      "\n",
      "===>  EVAL Epoch 19\n",
      "Finished Epoch 19 || Run Time:    0.6 | Load Time:    0.6 || F1:  80.00 | Prec:  68.42 | Rec:  96.30 || Ex/s:  94.84\n",
      "\n",
      "---------------------\n",
      "\n",
      "===>  TRAIN Epoch 20\n"
     ]
    },
    {
     "name": "stderr",
     "output_type": "stream",
     "text": [
      "0% [██] 100% | ETA: 00:00:00\n",
      "Total time elapsed: 00:00:05\n"
     ]
    },
    {
     "name": "stdout",
     "output_type": "stream",
     "text": [
      "Finished Epoch 20 || Run Time:    4.6 | Load Time:    1.6 || F1: 100.00 | Prec: 100.00 | Rec: 100.00 || Ex/s:  54.91\n",
      "\n",
      "===>  EVAL Epoch 20\n",
      "Finished Epoch 20 || Run Time:    0.5 | Load Time:    0.5 || F1:  80.00 | Prec:  68.42 | Rec:  96.30 || Ex/s: 111.31\n",
      "\n",
      "---------------------\n",
      "\n",
      "===>  TRAIN Epoch 21\n"
     ]
    },
    {
     "name": "stderr",
     "output_type": "stream",
     "text": [
      "0% [██] 100% | ETA: 00:00:00\n",
      "Total time elapsed: 00:00:05\n"
     ]
    },
    {
     "name": "stdout",
     "output_type": "stream",
     "text": [
      "Finished Epoch 21 || Run Time:    4.5 | Load Time:    1.6 || F1: 100.00 | Prec: 100.00 | Rec: 100.00 || Ex/s:  55.43\n",
      "\n",
      "===>  EVAL Epoch 21\n",
      "Finished Epoch 21 || Run Time:    0.6 | Load Time:    0.6 || F1:  80.00 | Prec:  68.42 | Rec:  96.30 || Ex/s:  94.04\n",
      "\n",
      "---------------------\n",
      "\n",
      "===>  TRAIN Epoch 22\n"
     ]
    },
    {
     "name": "stderr",
     "output_type": "stream",
     "text": [
      "0% [██] 100% | ETA: 00:00:00\n",
      "Total time elapsed: 00:00:05\n"
     ]
    },
    {
     "name": "stdout",
     "output_type": "stream",
     "text": [
      "Finished Epoch 22 || Run Time:    4.6 | Load Time:    1.7 || F1: 100.00 | Prec: 100.00 | Rec: 100.00 || Ex/s:  54.61\n",
      "\n",
      "===>  EVAL Epoch 22\n",
      "Finished Epoch 22 || Run Time:    0.5 | Load Time:    0.5 || F1:  80.00 | Prec:  68.42 | Rec:  96.30 || Ex/s: 111.05\n",
      "\n",
      "---------------------\n",
      "\n",
      "===>  TRAIN Epoch 23\n"
     ]
    },
    {
     "name": "stderr",
     "output_type": "stream",
     "text": [
      "0% [██] 100% | ETA: 00:00:00\n",
      "Total time elapsed: 00:00:05\n"
     ]
    },
    {
     "name": "stdout",
     "output_type": "stream",
     "text": [
      "Finished Epoch 23 || Run Time:    4.9 | Load Time:    1.9 || F1: 100.00 | Prec: 100.00 | Rec: 100.00 || Ex/s:  50.48\n",
      "\n",
      "===>  EVAL Epoch 23\n",
      "Finished Epoch 23 || Run Time:    0.6 | Load Time:    0.6 || F1:  80.00 | Prec:  68.42 | Rec:  96.30 || Ex/s:  93.55\n",
      "\n",
      "---------------------\n",
      "\n",
      "===>  TRAIN Epoch 24\n"
     ]
    },
    {
     "name": "stderr",
     "output_type": "stream",
     "text": [
      "0% [██] 100% | ETA: 00:00:00\n",
      "Total time elapsed: 00:00:05\n"
     ]
    },
    {
     "name": "stdout",
     "output_type": "stream",
     "text": [
      "Finished Epoch 24 || Run Time:    4.4 | Load Time:    1.6 || F1: 100.00 | Prec: 100.00 | Rec: 100.00 || Ex/s:  56.47\n",
      "\n",
      "===>  EVAL Epoch 24\n",
      "Finished Epoch 24 || Run Time:    0.5 | Load Time:    0.5 || F1:  80.00 | Prec:  68.42 | Rec:  96.30 || Ex/s: 110.99\n",
      "\n",
      "---------------------\n",
      "\n",
      "===>  TRAIN Epoch 25\n"
     ]
    },
    {
     "name": "stderr",
     "output_type": "stream",
     "text": [
      "0% [██] 100% | ETA: 00:00:00\n",
      "Total time elapsed: 00:00:05\n"
     ]
    },
    {
     "name": "stdout",
     "output_type": "stream",
     "text": [
      "Finished Epoch 25 || Run Time:    4.6 | Load Time:    1.6 || F1: 100.00 | Prec: 100.00 | Rec: 100.00 || Ex/s:  55.18\n",
      "\n",
      "===>  EVAL Epoch 25\n",
      "Finished Epoch 25 || Run Time:    0.5 | Load Time:    0.5 || F1:  80.00 | Prec:  68.42 | Rec:  96.30 || Ex/s: 109.22\n",
      "\n",
      "---------------------\n",
      "\n",
      "Loading best model...\n",
      "Training done.\n"
     ]
    },
    {
     "data": {
      "text/plain": [
       "tensor(81.2500, device='cuda:0')"
      ]
     },
     "execution_count": 215,
     "metadata": {},
     "output_type": "execute_result"
    }
   ],
   "source": [
    "impr_model = dm.MatchingModel(attr_summarizer='hybrid')\n",
    "impr_model.run_train(train,validation,epochs=25,pos_neg_ratio= 4,best_save_path='models/itunes_amazon_hybrid_impr.pth')"
   ]
  },
  {
   "cell_type": "code",
   "execution_count": 216,
   "metadata": {
    "ExecuteTime": {
     "end_time": "2020-02-06T16:56:34.993324Z",
     "start_time": "2020-02-06T16:56:33.700783Z"
    }
   },
   "outputs": [
    {
     "name": "stdout",
     "output_type": "stream",
     "text": [
      "===>  EVAL Epoch 10\n",
      "Finished Epoch 10 || Run Time:    0.6 | Load Time:    0.6 || F1:  85.19 | Prec:  85.19 | Rec:  85.19 || Ex/s:  90.10\n",
      "\n"
     ]
    },
    {
     "data": {
      "text/plain": [
       "tensor(85.1852, device='cuda:0')"
      ]
     },
     "execution_count": 216,
     "metadata": {},
     "output_type": "execute_result"
    }
   ],
   "source": [
    "impr_model.run_eval(test)"
   ]
  },
  {
   "cell_type": "markdown",
   "metadata": {},
   "source": [
    "### Evaluate ranking on new model"
   ]
  },
  {
   "cell_type": "code",
   "execution_count": 217,
   "metadata": {
    "ExecuteTime": {
     "end_time": "2020-02-06T16:58:33.918728Z",
     "start_time": "2020-02-06T16:58:33.627781Z"
    }
   },
   "outputs": [],
   "source": [
    "augmented_test = prepareDataset(test_df,tableA_itunes,tableB_itunes,30)"
   ]
  },
  {
   "cell_type": "code",
   "execution_count": 218,
   "metadata": {
    "ExecuteTime": {
     "end_time": "2020-02-06T16:59:26.195179Z",
     "start_time": "2020-02-06T16:59:23.787962Z"
    }
   },
   "outputs": [],
   "source": [
    "predictions = wrapDm(augmented_test,impr_model,ignore_columns=['ltable_id','rtable_id','id','label'])\n",
    "tp_group = augmented_test[(predictions[:,1]>=0.5)& augmented_test['label'] == 1]\n",
    "tn_group = augmented_test[(predictions[:,0] >=0.5)& augmented_test['label']==0]\n",
    "correctPredictions_itunes = pd.concat([tp_group,tn_group])"
   ]
  },
  {
   "cell_type": "code",
   "execution_count": 239,
   "metadata": {
    "ExecuteTime": {
     "end_time": "2020-02-06T17:24:15.298911Z",
     "start_time": "2020-02-06T17:22:27.583513Z"
    }
   },
   "outputs": [
    {
     "name": "stderr",
     "output_type": "stream",
     "text": [
      "100%|██████████| 48/48 [01:47<00:00,  2.24s/it]\n"
     ]
    }
   ],
   "source": [
    "pos_rankings_itunes,pos_triangles_itunes,flippedPredictions_pos = explainSamples(correctPredictions_itunes,\n",
    "                                                          [tableA_itunes,tableB_itunes],\n",
    "                                                          impr_model,originalClass=1)"
   ]
  },
  {
   "cell_type": "code",
   "execution_count": 240,
   "metadata": {
    "ExecuteTime": {
     "end_time": "2020-02-06T17:24:27.181865Z",
     "start_time": "2020-02-06T17:24:26.491663Z"
    }
   },
   "outputs": [
    {
     "data": {
      "text/plain": [
       "<matplotlib.axes._subplots.AxesSubplot at 0x7fae3c9a5b38>"
      ]
     },
     "execution_count": 240,
     "metadata": {},
     "output_type": "execute_result"
    },
    {
     "data": {
      "image/png": "[encoded data removed]",
      "text/plain": [
       "<Figure size 576x720 with 1 Axes>"
      ]
     },
     "metadata": {
      "needs_background": "light"
     },
     "output_type": "display_data"
    }
   ],
   "source": [
    "aggregateRankings(pos_rankings_itunes,positive=True)"
   ]
  },
  {
   "cell_type": "markdown",
   "metadata": {},
   "source": [
    "## Beer"
   ]
  },
  {
   "cell_type": "code",
   "execution_count": 5,
   "metadata": {
    "ExecuteTime": {
     "end_time": "2020-02-11T11:15:14.121934Z",
     "start_time": "2020-02-11T11:15:13.731640Z"
    }
   },
   "outputs": [],
   "source": [
    "beer_model = dm.MatchingModel(attr_summarizer='hybrid')\n",
    "beer_model.load_state('models/beer_hybrid.pth')\n",
    "beer_model = beer_model.to('cuda')"
   ]
  },
  {
   "cell_type": "code",
   "execution_count": 6,
   "metadata": {
    "ExecuteTime": {
     "end_time": "2020-02-11T11:15:14.519047Z",
     "start_time": "2020-02-11T11:15:14.455670Z"
    }
   },
   "outputs": [],
   "source": [
    "tableA_beer = pd.read_csv('datasets/Structured/Beer/tableA.csv')\n",
    "tableB_beer = pd.read_csv('datasets/Structured/Beer/tableB.csv')"
   ]
  },
  {
   "cell_type": "code",
   "execution_count": 7,
   "metadata": {
    "ExecuteTime": {
     "end_time": "2020-02-11T11:15:15.777620Z",
     "start_time": "2020-02-11T11:15:15.669191Z"
    }
   },
   "outputs": [],
   "source": [
    "BEER_DIR ='datasets/Structured/Beer/'\n",
    "train_df,validation_df,test_df = generate_train_valid_test(BEER_DIR,['train.csv','valid.csv','test.csv']\n",
    "                                                      ,left_prefix='ltable_',right_prefix='rtable_',\n",
    "                                                          drop_lrid=False)"
   ]
  },
  {
   "cell_type": "code",
   "execution_count": 8,
   "metadata": {
    "ExecuteTime": {
     "end_time": "2020-02-11T11:15:22.051303Z",
     "start_time": "2020-02-11T11:15:21.786078Z"
    }
   },
   "outputs": [
    {
     "data": {
      "text/plain": [
       "(105, 91)"
      ]
     },
     "execution_count": 8,
     "metadata": {},
     "output_type": "execute_result"
    }
   ],
   "source": [
    "augment_test = prepareDataset(test_df,tableA_beer,tableB_beer,20)\n",
    "len(augment_test),len(test_df)"
   ]
  },
  {
   "cell_type": "code",
   "execution_count": 9,
   "metadata": {
    "ExecuteTime": {
     "end_time": "2020-02-11T11:15:35.261693Z",
     "start_time": "2020-02-11T11:15:24.181051Z"
    }
   },
   "outputs": [],
   "source": [
    "predictions = wrapDm(augment_test,beer_model,ignore_columns=['ltable_id','rtable_id','id','label'])\n",
    "tp_group = augment_test[(predictions[:,1]>=0.5)& augment_test['label'] == 1]\n",
    "tn_group = augment_test[(predictions[:,0] >=0.5)& augment_test['label']==0]\n",
    "correctPredictions_beer = pd.concat([tp_group,tn_group])"
   ]
  },
  {
   "cell_type": "code",
   "execution_count": 10,
   "metadata": {
    "ExecuteTime": {
     "end_time": "2020-02-11T11:16:39.185270Z",
     "start_time": "2020-02-11T11:16:32.884133Z"
    }
   },
   "outputs": [
    {
     "name": "stderr",
     "output_type": "stream",
     "text": [
      "100%|██████████| 32/32 [00:06<00:00,  5.22it/s]\n"
     ]
    }
   ],
   "source": [
    "rankings_beer_pos,pos_triangles_beer,pos_flippedPredictions = explainSamples(\n",
    "    correctPredictions_beer,[tableA_beer,tableB_beer],\n",
    "    beer_model,originalClass=1,maxLenAttributeSet=4)"
   ]
  },
  {
   "cell_type": "code",
   "execution_count": 12,
   "metadata": {
    "ExecuteTime": {
     "end_time": "2020-02-11T11:16:42.762513Z",
     "start_time": "2020-02-11T11:16:42.389685Z"
    }
   },
   "outputs": [
    {
     "data": {
      "text/plain": [
       "<matplotlib.axes._subplots.AxesSubplot at 0x7fd972fd7320>"
      ]
     },
     "execution_count": 12,
     "metadata": {},
     "output_type": "execute_result"
    },
    {
     "data": {
      "image/png": "[encoded data removed]",
      "text/plain": [
       "<Figure size 360x360 with 1 Axes>"
      ]
     },
     "metadata": {
      "needs_background": "light"
     },
     "output_type": "display_data"
    }
   ],
   "source": [
    "aggregateRankings(rankings_beer_pos,positive=True)"
   ]
  },
  {
   "cell_type": "code",
   "execution_count": 15,
   "metadata": {
    "ExecuteTime": {
     "end_time": "2020-02-11T11:17:39.909660Z",
     "start_time": "2020-02-11T11:17:33.736551Z"
    }
   },
   "outputs": [
    {
     "name": "stderr",
     "output_type": "stream",
     "text": [
      "100%|██████████| 32/32 [00:06<00:00,  5.32it/s]\n"
     ]
    }
   ],
   "source": [
    "rankings_beer_neg,neg_triangles_beer,negFlippedBeer = explainSamples(\n",
    "    correctPredictions_beer,[tableA_beer,tableB_beer],\n",
    "                                    beer_model,originalClass=0,maxLenAttributeSet=4)"
   ]
  },
  {
   "cell_type": "code",
   "execution_count": 16,
   "metadata": {
    "ExecuteTime": {
     "end_time": "2020-02-11T11:17:42.216917Z",
     "start_time": "2020-02-11T11:17:41.924285Z"
    }
   },
   "outputs": [
    {
     "data": {
      "text/plain": [
       "<matplotlib.axes._subplots.AxesSubplot at 0x7fd972ff27b8>"
      ]
     },
     "execution_count": 16,
     "metadata": {},
     "output_type": "execute_result"
    },
    {
     "data": {
      "image/png": "[encoded data removed]",
      "text/plain": [
       "<Figure size 504x504 with 1 Axes>"
      ]
     },
     "metadata": {
      "needs_background": "light"
     },
     "output_type": "display_data"
    }
   ],
   "source": [
    "aggregateRankings(rankings_beer_neg,positive=False)"
   ]
  },
  {
   "cell_type": "code",
   "execution_count": 19,
   "metadata": {
    "ExecuteTime": {
     "end_time": "2020-02-11T11:19:03.730466Z",
     "start_time": "2020-02-11T11:19:03.671165Z"
    }
   },
   "outputs": [
    {
     "data": {
      "text/html": [
       "<div>\n",
       "<style scoped>\n",
       "    .dataframe tbody tr th:only-of-type {\n",
       "        vertical-align: middle;\n",
       "    }\n",
       "\n",
       "    .dataframe tbody tr th {\n",
       "        vertical-align: top;\n",
       "    }\n",
       "\n",
       "    .dataframe thead th {\n",
       "        text-align: right;\n",
       "    }\n",
       "</style>\n",
       "<table border=\"1\" class=\"dataframe\">\n",
       "  <thead>\n",
       "    <tr style=\"text-align: right;\">\n",
       "      <th></th>\n",
       "      <th>ltable_id</th>\n",
       "      <th>ltable_Beer_Name</th>\n",
       "      <th>ltable_Brew_Factory_Name</th>\n",
       "      <th>ltable_Style</th>\n",
       "      <th>ltable_ABV</th>\n",
       "      <th>rtable_id</th>\n",
       "      <th>rtable_Beer_Name</th>\n",
       "      <th>rtable_Brew_Factory_Name</th>\n",
       "      <th>rtable_Style</th>\n",
       "      <th>rtable_ABV</th>\n",
       "      <th>id</th>\n",
       "      <th>alteredAttribute</th>\n",
       "    </tr>\n",
       "  </thead>\n",
       "  <tbody>\n",
       "    <tr>\n",
       "      <th>0</th>\n",
       "      <td>1284</td>\n",
       "      <td>Bainbridge Island Arrow Point Amber</td>\n",
       "      <td>Bainbridge Island Brewing Company</td>\n",
       "      <td>Amber Ale</td>\n",
       "      <td>5.40 %</td>\n",
       "      <td>548</td>\n",
       "      <td>Arrow Point Amber</td>\n",
       "      <td>Third Base Sports Bar &amp; Brewery</td>\n",
       "      <td>Amber Ale</td>\n",
       "      <td>4.60 %</td>\n",
       "      <td>0</td>\n",
       "      <td>(Beer_Name,)</td>\n",
       "    </tr>\n",
       "    <tr>\n",
       "      <th>0</th>\n",
       "      <td>1284</td>\n",
       "      <td>Bainbridge Island Arrow Point Amber</td>\n",
       "      <td>Bainbridge Island Brewing Company</td>\n",
       "      <td>Amber Ale</td>\n",
       "      <td>5.40 %</td>\n",
       "      <td>548</td>\n",
       "      <td>Arrow Point Amber</td>\n",
       "      <td>Third Base Sports Bar &amp; Brewery</td>\n",
       "      <td>Amber Ale</td>\n",
       "      <td>4.60 %</td>\n",
       "      <td>0</td>\n",
       "      <td>(Beer_Name,)</td>\n",
       "    </tr>\n",
       "  </tbody>\n",
       "</table>\n",
       "</div>"
      ],
      "text/plain": [
       "   ltable_id                     ltable_Beer_Name  \\\n",
       "0       1284  Bainbridge Island Arrow Point Amber   \n",
       "0       1284  Bainbridge Island Arrow Point Amber   \n",
       "\n",
       "            ltable_Brew_Factory_Name ltable_Style ltable_ABV  rtable_id  \\\n",
       "0  Bainbridge Island Brewing Company    Amber Ale     5.40 %        548   \n",
       "0  Bainbridge Island Brewing Company    Amber Ale     5.40 %        548   \n",
       "\n",
       "    rtable_Beer_Name         rtable_Brew_Factory_Name rtable_Style rtable_ABV  \\\n",
       "0  Arrow Point Amber  Third Base Sports Bar & Brewery    Amber Ale     4.60 %   \n",
       "0  Arrow Point Amber  Third Base Sports Bar & Brewery    Amber Ale     4.60 %   \n",
       "\n",
       "   id alteredAttribute  \n",
       "0   0     (Beer_Name,)  \n",
       "0   0     (Beer_Name,)  "
      ]
     },
     "execution_count": 19,
     "metadata": {},
     "output_type": "execute_result"
    }
   ],
   "source": [
    "negFlippedBeer[negFlippedBeer.alteredAttribute==('Beer_Name',)]"
   ]
  },
  {
   "cell_type": "markdown",
   "metadata": {},
   "source": [
    "## Walmart-Amazon"
   ]
  },
  {
   "cell_type": "code",
   "execution_count": 20,
   "metadata": {
    "ExecuteTime": {
     "end_time": "2020-02-15T15:36:45.225269Z",
     "start_time": "2020-02-15T15:36:44.590204Z"
    }
   },
   "outputs": [],
   "source": [
    "walmart_model = dm.MatchingModel(attr_summarizer='hybrid')\n",
    "walmart_model.load_state('models/walmartamazon_hybrid.pth')\n",
    "walmart_model = walmart_model.to('cuda')"
   ]
  },
  {
   "cell_type": "code",
   "execution_count": 21,
   "metadata": {
    "ExecuteTime": {
     "end_time": "2020-02-15T15:36:45.246347Z",
     "start_time": "2020-02-15T15:36:45.226977Z"
    }
   },
   "outputs": [],
   "source": [
    "WALMART_DIR = 'datasets/Structured/Walmart-Amazon/'"
   ]
  },
  {
   "cell_type": "code",
   "execution_count": 22,
   "metadata": {
    "ExecuteTime": {
     "end_time": "2020-02-15T15:36:45.606165Z",
     "start_time": "2020-02-15T15:36:45.520743Z"
    }
   },
   "outputs": [],
   "source": [
    "tableA_walmart = pd.read_csv('datasets/Structured/Walmart-Amazon/tableA.csv')\n",
    "tableB_walmart = pd.read_csv('datasets/Structured/Walmart-Amazon/tableB.csv')"
   ]
  },
  {
   "cell_type": "code",
   "execution_count": 23,
   "metadata": {
    "ExecuteTime": {
     "end_time": "2020-02-15T15:36:46.518242Z",
     "start_time": "2020-02-15T15:36:46.336010Z"
    }
   },
   "outputs": [],
   "source": [
    "train_df,validation_df,test_df = generate_train_valid_test(WALMART_DIR,['train.csv','valid.csv','test.csv']\n",
    "                                                          ,left_prefix='ltable_',right_prefix='rtable_',\n",
    "                                                          drop_lrid=False)"
   ]
  },
  {
   "cell_type": "code",
   "execution_count": 39,
   "metadata": {
    "ExecuteTime": {
     "end_time": "2020-02-15T15:57:58.803269Z",
     "start_time": "2020-02-15T15:57:34.637489Z"
    }
   },
   "outputs": [],
   "source": [
    "df = pd.concat([test_df,validation_df])\n",
    "predictions = wrapDm(df,walmart_model,ignore_columns=['ltable_id','rtable_id','id','label'])\n",
    "tp_group = df[(predictions[:,1]>=0.5)& (df['label'] == 1)]\n",
    "tn_group = df[(predictions[:,0] >=0.5)& (df['label']==0)]\n",
    "correctPredictions_walmart = pd.concat([tn_group,tp_group])"
   ]
  },
  {
   "cell_type": "code",
   "execution_count": 40,
   "metadata": {
    "ExecuteTime": {
     "end_time": "2020-02-15T16:03:46.997584Z",
     "start_time": "2020-02-15T15:58:00.524615Z"
    }
   },
   "outputs": [
    {
     "name": "stderr",
     "output_type": "stream",
     "text": [
      "\n",
      "  0%|          | 0/495 [00:00<?, ?it/s]\u001b[A\n",
      "  0%|          | 1/495 [00:00<06:12,  1.33it/s]\u001b[A\n",
      "  0%|          | 2/495 [00:01<06:06,  1.34it/s]\u001b[A\n",
      "  1%|          | 3/495 [00:02<06:05,  1.35it/s]\u001b[A\n",
      "  1%|          | 4/495 [00:02<06:01,  1.36it/s]\u001b[A\n",
      "  1%|          | 5/495 [00:03<05:59,  1.36it/s]\u001b[A\n",
      "  1%|          | 6/495 [00:04<06:06,  1.33it/s]\u001b[A\n",
      "  1%|▏         | 7/495 [00:05<06:08,  1.32it/s]\u001b[A\n",
      "  2%|▏         | 8/495 [00:05<05:56,  1.37it/s]\u001b[A\n",
      "  2%|▏         | 9/495 [00:06<05:47,  1.40it/s]\u001b[A\n",
      "  2%|▏         | 10/495 [00:07<05:41,  1.42it/s]\u001b[A\n",
      "  2%|▏         | 11/495 [00:07<05:36,  1.44it/s]\u001b[A\n",
      "  2%|▏         | 12/495 [00:08<05:33,  1.45it/s]\u001b[A\n",
      "  3%|▎         | 13/495 [00:09<05:30,  1.46it/s]\u001b[A\n",
      "  3%|▎         | 14/495 [00:09<05:29,  1.46it/s]\u001b[A\n",
      "  3%|▎         | 15/495 [00:10<05:28,  1.46it/s]\u001b[A\n",
      "  3%|▎         | 16/495 [00:11<05:24,  1.48it/s]\u001b[A\n",
      "  3%|▎         | 17/495 [00:11<05:20,  1.49it/s]\u001b[A\n",
      "  4%|▎         | 18/495 [00:12<05:17,  1.50it/s]\u001b[A\n",
      "  4%|▍         | 19/495 [00:13<05:27,  1.45it/s]\u001b[A\n",
      "  4%|▍         | 20/495 [00:14<05:22,  1.47it/s]\u001b[A\n",
      "  4%|▍         | 21/495 [00:14<05:17,  1.49it/s]\u001b[A\n",
      "  4%|▍         | 22/495 [00:15<05:15,  1.50it/s]\u001b[A\n",
      "  5%|▍         | 23/495 [00:15<05:14,  1.50it/s]\u001b[A\n",
      "  5%|▍         | 24/495 [00:16<05:11,  1.51it/s]\u001b[A\n",
      "  5%|▌         | 25/495 [00:17<05:07,  1.53it/s]\u001b[A\n",
      "  5%|▌         | 26/495 [00:17<05:06,  1.53it/s]\u001b[A\n",
      "  5%|▌         | 27/495 [00:18<05:04,  1.54it/s]\u001b[A\n",
      "  6%|▌         | 28/495 [00:19<05:02,  1.54it/s]\u001b[A\n",
      "  6%|▌         | 29/495 [00:19<05:01,  1.54it/s]\u001b[A\n",
      "  6%|▌         | 30/495 [00:20<05:01,  1.54it/s]\u001b[A\n",
      "  6%|▋         | 31/495 [00:21<05:12,  1.48it/s]\u001b[A\n",
      "  6%|▋         | 32/495 [00:21<05:07,  1.50it/s]\u001b[A\n",
      "  7%|▋         | 33/495 [00:22<05:03,  1.52it/s]\u001b[A\n",
      "  7%|▋         | 34/495 [00:23<05:00,  1.53it/s]\u001b[A\n",
      "  7%|▋         | 35/495 [00:23<04:58,  1.54it/s]\u001b[A\n",
      "  7%|▋         | 36/495 [00:24<04:56,  1.55it/s]\u001b[A\n",
      "  7%|▋         | 37/495 [00:25<04:55,  1.55it/s]\u001b[A\n",
      "  8%|▊         | 38/495 [00:25<04:54,  1.55it/s]\u001b[A\n",
      "  8%|▊         | 39/495 [00:26<04:53,  1.55it/s]\u001b[A\n",
      "  8%|▊         | 40/495 [00:27<04:52,  1.56it/s]\u001b[A\n",
      "  8%|▊         | 41/495 [00:27<04:51,  1.56it/s]\u001b[A\n",
      "  8%|▊         | 42/495 [00:28<04:51,  1.55it/s]\u001b[A\n",
      "  9%|▊         | 43/495 [00:29<04:59,  1.51it/s]\u001b[A\n",
      "  9%|▉         | 44/495 [00:29<04:55,  1.53it/s]\u001b[A\n",
      "  9%|▉         | 45/495 [00:30<04:53,  1.53it/s]\u001b[A\n",
      "  9%|▉         | 46/495 [00:30<04:52,  1.53it/s]\u001b[A\n",
      "  9%|▉         | 47/495 [00:31<04:50,  1.54it/s]\u001b[A\n",
      " 10%|▉         | 48/495 [00:32<04:48,  1.55it/s]\u001b[A\n",
      " 10%|▉         | 49/495 [00:32<04:47,  1.55it/s]\u001b[A\n",
      " 10%|█         | 50/495 [00:33<04:46,  1.55it/s]\u001b[A\n",
      " 10%|█         | 51/495 [00:34<04:47,  1.55it/s]\u001b[A\n",
      " 11%|█         | 52/495 [00:34<04:46,  1.55it/s]\u001b[A\n",
      " 11%|█         | 53/495 [00:35<04:44,  1.55it/s]\u001b[A\n",
      " 11%|█         | 54/495 [00:36<04:44,  1.55it/s]\u001b[A\n",
      " 11%|█         | 55/495 [00:36<04:53,  1.50it/s]\u001b[A\n",
      " 11%|█▏        | 56/495 [00:37<04:50,  1.51it/s]\u001b[A\n",
      " 12%|█▏        | 57/495 [00:38<04:48,  1.52it/s]\u001b[A\n",
      " 12%|█▏        | 58/495 [00:38<04:45,  1.53it/s]\u001b[A\n",
      " 12%|█▏        | 59/495 [00:39<04:44,  1.53it/s]\u001b[A\n",
      " 12%|█▏        | 60/495 [00:40<04:42,  1.54it/s]\u001b[A\n",
      " 12%|█▏        | 61/495 [00:40<04:41,  1.54it/s]\u001b[A\n",
      " 13%|█▎        | 62/495 [00:41<05:27,  1.32it/s]\u001b[A\n",
      " 13%|█▎        | 63/495 [00:42<05:34,  1.29it/s]\u001b[A\n",
      " 13%|█▎        | 64/495 [00:43<05:15,  1.37it/s]\u001b[A\n",
      " 13%|█▎        | 65/495 [00:43<05:02,  1.42it/s]\u001b[A\n",
      " 13%|█▎        | 66/495 [00:44<04:53,  1.46it/s]\u001b[A\n",
      " 14%|█▎        | 67/495 [00:45<04:59,  1.43it/s]\u001b[A\n",
      " 14%|█▎        | 68/495 [00:45<04:51,  1.47it/s]\u001b[A\n",
      " 14%|█▍        | 69/495 [00:46<05:16,  1.34it/s]\u001b[A\n",
      " 14%|█▍        | 70/495 [00:47<05:08,  1.38it/s]\u001b[A\n",
      " 14%|█▍        | 71/495 [00:48<05:02,  1.40it/s]\u001b[A\n",
      " 15%|█▍        | 72/495 [00:48<04:58,  1.42it/s]\u001b[A\n",
      " 15%|█▍        | 73/495 [00:49<04:53,  1.44it/s]\u001b[A\n",
      " 15%|█▍        | 74/495 [00:50<04:45,  1.47it/s]\u001b[A\n",
      " 15%|█▌        | 75/495 [00:50<04:40,  1.50it/s]\u001b[A\n",
      " 15%|█▌        | 76/495 [00:51<04:37,  1.51it/s]\u001b[A\n",
      " 16%|█▌        | 77/495 [00:51<04:34,  1.52it/s]\u001b[A\n",
      " 16%|█▌        | 78/495 [00:52<04:32,  1.53it/s]\u001b[A\n",
      " 16%|█▌        | 79/495 [00:53<04:31,  1.53it/s]\u001b[A\n",
      " 16%|█▌        | 80/495 [00:54<04:39,  1.48it/s]\u001b[A\n",
      " 16%|█▋        | 81/495 [00:54<04:36,  1.50it/s]\u001b[A\n",
      " 17%|█▋        | 82/495 [00:55<04:33,  1.51it/s]\u001b[A\n",
      " 17%|█▋        | 83/495 [00:55<04:30,  1.53it/s]\u001b[A\n",
      " 17%|█▋        | 84/495 [00:56<04:28,  1.53it/s]\u001b[A\n",
      " 17%|█▋        | 85/495 [00:57<04:54,  1.39it/s]\u001b[A\n",
      " 17%|█▋        | 86/495 [00:58<04:43,  1.44it/s]\u001b[A\n",
      " 18%|█▊        | 87/495 [00:58<04:35,  1.48it/s]\u001b[A\n",
      " 18%|█▊        | 88/495 [00:59<04:28,  1.52it/s]\u001b[A\n",
      " 18%|█▊        | 89/495 [00:59<04:24,  1.53it/s]\u001b[A\n",
      " 18%|█▊        | 90/495 [01:00<04:22,  1.54it/s]\u001b[A\n",
      " 18%|█▊        | 91/495 [01:01<04:20,  1.55it/s]\u001b[A\n",
      " 19%|█▊        | 92/495 [01:01<04:27,  1.51it/s]\u001b[A\n",
      " 19%|█▉        | 93/495 [01:02<04:22,  1.53it/s]\u001b[A\n",
      " 19%|█▉        | 94/495 [01:03<04:19,  1.54it/s]\u001b[A\n",
      " 19%|█▉        | 95/495 [01:03<04:17,  1.55it/s]\u001b[A\n",
      " 19%|█▉        | 96/495 [01:04<04:15,  1.56it/s]\u001b[A\n",
      " 20%|█▉        | 97/495 [01:05<04:15,  1.56it/s]\u001b[A\n",
      " 20%|█▉        | 98/495 [01:05<04:13,  1.57it/s]\u001b[A\n",
      " 20%|██        | 99/495 [01:06<04:12,  1.57it/s]\u001b[A\n",
      " 20%|██        | 100/495 [01:07<04:10,  1.57it/s]\u001b[A\n",
      " 20%|██        | 101/495 [01:07<04:10,  1.57it/s]\u001b[A\n",
      " 21%|██        | 102/495 [01:08<04:09,  1.58it/s]\u001b[A\n",
      " 21%|██        | 103/495 [01:08<04:08,  1.58it/s]\u001b[A\n",
      " 21%|██        | 104/495 [01:09<04:17,  1.52it/s]\u001b[A\n",
      " 21%|██        | 105/495 [01:10<04:12,  1.54it/s]\u001b[A\n",
      " 21%|██▏       | 106/495 [01:10<04:09,  1.56it/s]\u001b[A\n",
      " 22%|██▏       | 107/495 [01:11<04:06,  1.57it/s]\u001b[A\n",
      " 22%|██▏       | 108/495 [01:12<04:05,  1.58it/s]\u001b[A\n",
      " 22%|██▏       | 109/495 [01:12<04:03,  1.58it/s]\u001b[A\n",
      " 22%|██▏       | 110/495 [01:13<04:02,  1.59it/s]\u001b[A\n",
      " 22%|██▏       | 111/495 [01:14<04:01,  1.59it/s]\u001b[A\n",
      " 23%|██▎       | 112/495 [01:14<04:01,  1.58it/s]\u001b[A\n",
      " 23%|██▎       | 113/495 [01:15<04:01,  1.58it/s]\u001b[A\n",
      " 23%|██▎       | 114/495 [01:15<04:01,  1.58it/s]\u001b[A\n",
      " 23%|██▎       | 115/495 [01:16<04:01,  1.57it/s]\u001b[A\n",
      " 23%|██▎       | 116/495 [01:17<04:08,  1.52it/s]\u001b[A\n",
      " 24%|██▎       | 117/495 [01:17<04:05,  1.54it/s]\u001b[A\n",
      " 24%|██▍       | 118/495 [01:18<04:02,  1.55it/s]\u001b[A\n",
      " 24%|██▍       | 119/495 [01:19<04:00,  1.56it/s]\u001b[A\n",
      " 24%|██▍       | 120/495 [01:19<04:00,  1.56it/s]\u001b[A\n",
      " 24%|██▍       | 121/495 [01:20<03:58,  1.57it/s]\u001b[A\n",
      " 25%|██▍       | 122/495 [01:21<03:57,  1.57it/s]\u001b[A\n",
      " 25%|██▍       | 123/495 [01:21<03:56,  1.57it/s]\u001b[A\n",
      " 25%|██▌       | 124/495 [01:22<03:55,  1.57it/s]\u001b[A\n",
      " 25%|██▌       | 125/495 [01:23<03:54,  1.58it/s]\u001b[A\n",
      " 25%|██▌       | 126/495 [01:23<03:53,  1.58it/s]\u001b[A\n",
      " 26%|██▌       | 127/495 [01:24<03:52,  1.58it/s]\u001b[A\n",
      " 26%|██▌       | 128/495 [01:24<04:00,  1.53it/s]\u001b[A\n",
      " 26%|██▌       | 129/495 [01:25<03:56,  1.55it/s]\u001b[A\n",
      " 26%|██▋       | 130/495 [01:26<03:53,  1.56it/s]\u001b[A\n",
      " 26%|██▋       | 131/495 [01:26<03:51,  1.58it/s]\u001b[A\n",
      " 27%|██▋       | 132/495 [01:27<03:49,  1.58it/s]\u001b[A\n",
      " 27%|██▋       | 133/495 [01:28<03:47,  1.59it/s]\u001b[A\n",
      " 27%|██▋       | 134/495 [01:28<03:46,  1.59it/s]\u001b[A\n",
      " 27%|██▋       | 135/495 [01:29<03:45,  1.60it/s]\u001b[A\n",
      " 27%|██▋       | 136/495 [01:29<03:43,  1.60it/s]\u001b[A\n",
      " 28%|██▊       | 137/495 [01:30<03:44,  1.59it/s]\u001b[A\n",
      " 28%|██▊       | 138/495 [01:31<03:45,  1.59it/s]\u001b[A\n",
      " 28%|██▊       | 139/495 [01:31<03:45,  1.58it/s]\u001b[A\n",
      " 28%|██▊       | 140/495 [01:32<03:52,  1.53it/s]\u001b[A\n",
      " 28%|██▊       | 141/495 [01:33<04:28,  1.32it/s]\u001b[A\n",
      " 29%|██▊       | 142/495 [01:34<04:28,  1.31it/s]\u001b[A\n",
      " 29%|██▉       | 143/495 [01:35<04:27,  1.32it/s]\u001b[A\n",
      " 29%|██▉       | 144/495 [01:35<04:27,  1.31it/s]\u001b[A\n",
      " 29%|██▉       | 145/495 [01:36<04:27,  1.31it/s]\u001b[A\n",
      " 29%|██▉       | 146/495 [01:37<04:26,  1.31it/s]\u001b[A\n",
      " 30%|██▉       | 147/495 [01:38<04:26,  1.31it/s]\u001b[A\n",
      " 30%|██▉       | 148/495 [01:38<04:21,  1.33it/s]\u001b[A\n",
      " 30%|███       | 149/495 [01:39<04:18,  1.34it/s]\u001b[A\n",
      " 30%|███       | 150/495 [01:40<04:16,  1.34it/s]\u001b[A\n",
      " 31%|███       | 151/495 [01:41<04:16,  1.34it/s]\u001b[A\n",
      " 31%|███       | 152/495 [01:41<04:24,  1.29it/s]\u001b[A\n",
      " 31%|███       | 153/495 [01:42<04:19,  1.32it/s]\u001b[A\n",
      " 31%|███       | 154/495 [01:43<04:16,  1.33it/s]\u001b[A\n",
      " 31%|███▏      | 155/495 [01:44<04:12,  1.34it/s]\u001b[A\n",
      " 32%|███▏      | 156/495 [01:44<04:10,  1.35it/s]\u001b[A\n",
      " 32%|███▏      | 157/495 [01:45<04:09,  1.36it/s]\u001b[A\n",
      " 32%|███▏      | 158/495 [01:46<04:07,  1.36it/s]\u001b[A\n",
      " 32%|███▏      | 159/495 [01:47<04:06,  1.36it/s]\u001b[A\n",
      " 32%|███▏      | 160/495 [01:47<04:04,  1.37it/s]\u001b[A\n",
      " 33%|███▎      | 161/495 [01:48<04:05,  1.36it/s]\u001b[A\n",
      " 33%|███▎      | 162/495 [01:49<04:05,  1.36it/s]\u001b[A\n",
      " 33%|███▎      | 163/495 [01:49<04:02,  1.37it/s]\u001b[A\n",
      " 33%|███▎      | 164/495 [01:50<04:02,  1.36it/s]\u001b[A\n",
      " 33%|███▎      | 165/495 [01:51<04:13,  1.30it/s]\u001b[A\n",
      " 34%|███▎      | 166/495 [01:52<04:12,  1.30it/s]\u001b[A\n",
      " 34%|███▎      | 167/495 [01:53<04:11,  1.31it/s]\u001b[A\n",
      " 34%|███▍      | 168/495 [01:53<04:11,  1.30it/s]\u001b[A\n",
      " 34%|███▍      | 169/495 [01:54<04:08,  1.31it/s]\u001b[A\n",
      " 34%|███▍      | 170/495 [01:55<04:05,  1.32it/s]\u001b[A\n",
      " 35%|███▍      | 171/495 [01:56<04:03,  1.33it/s]\u001b[A\n",
      " 35%|███▍      | 172/495 [01:56<04:02,  1.33it/s]\u001b[A\n",
      " 35%|███▍      | 173/495 [01:57<03:59,  1.34it/s]\u001b[A\n",
      " 35%|███▌      | 174/495 [01:58<03:57,  1.35it/s]\u001b[A\n",
      " 35%|███▌      | 175/495 [01:59<03:55,  1.36it/s]\u001b[A\n",
      " 36%|███▌      | 176/495 [01:59<03:53,  1.37it/s]\u001b[A\n",
      " 36%|███▌      | 177/495 [02:00<04:00,  1.32it/s]\u001b[A\n",
      " 36%|███▌      | 178/495 [02:01<03:58,  1.33it/s]\u001b[A\n",
      " 36%|███▌      | 179/495 [02:02<03:56,  1.33it/s]\u001b[A\n",
      " 36%|███▋      | 180/495 [02:02<03:53,  1.35it/s]\u001b[A\n",
      " 37%|███▋      | 181/495 [02:03<03:53,  1.35it/s]\u001b[A\n",
      " 37%|███▋      | 182/495 [02:04<03:51,  1.35it/s]\u001b[A\n",
      " 37%|███▋      | 183/495 [02:04<03:48,  1.36it/s]\u001b[A\n",
      " 37%|███▋      | 184/495 [02:05<03:46,  1.37it/s]\u001b[A\n",
      " 37%|███▋      | 185/495 [02:06<03:45,  1.38it/s]\u001b[A\n",
      " 38%|███▊      | 186/495 [02:07<03:45,  1.37it/s]\u001b[A\n",
      " 38%|███▊      | 187/495 [02:07<03:44,  1.37it/s]\u001b[A\n",
      " 38%|███▊      | 188/495 [02:08<03:44,  1.37it/s]\u001b[A\n",
      " 38%|███▊      | 189/495 [02:09<03:51,  1.32it/s]\u001b[A\n",
      " 38%|███▊      | 190/495 [02:10<03:47,  1.34it/s]\u001b[A\n",
      " 39%|███▊      | 191/495 [02:10<03:43,  1.36it/s]\u001b[A\n",
      " 39%|███▉      | 192/495 [02:11<03:42,  1.36it/s]\u001b[A\n",
      " 39%|███▉      | 193/495 [02:12<03:42,  1.35it/s]\u001b[A\n",
      " 39%|███▉      | 194/495 [02:13<03:40,  1.36it/s]\u001b[A\n",
      " 39%|███▉      | 195/495 [02:13<03:39,  1.37it/s]\u001b[A\n",
      " 40%|███▉      | 196/495 [02:14<03:37,  1.37it/s]\u001b[A\n",
      " 40%|███▉      | 197/495 [02:15<03:38,  1.37it/s]\u001b[A\n",
      " 40%|████      | 198/495 [02:15<03:36,  1.37it/s]\u001b[A\n",
      " 40%|████      | 199/495 [02:16<03:35,  1.37it/s]\u001b[A\n",
      " 40%|████      | 200/495 [02:17<03:35,  1.37it/s]\u001b[A\n",
      " 41%|████      | 201/495 [02:18<03:34,  1.37it/s]\u001b[A\n",
      " 41%|████      | 202/495 [02:18<03:40,  1.33it/s]\u001b[A\n",
      " 41%|████      | 203/495 [02:19<03:37,  1.34it/s]\u001b[A\n",
      " 41%|████      | 204/495 [02:20<03:34,  1.35it/s]\u001b[A\n",
      " 41%|████▏     | 205/495 [02:21<03:32,  1.36it/s]\u001b[A\n",
      " 42%|████▏     | 206/495 [02:21<03:31,  1.37it/s]\u001b[A\n",
      " 42%|████▏     | 207/495 [02:22<03:29,  1.37it/s]\u001b[A\n",
      " 42%|████▏     | 208/495 [02:23<03:29,  1.37it/s]\u001b[A\n",
      " 42%|████▏     | 209/495 [02:24<03:27,  1.38it/s]\u001b[A\n",
      " 42%|████▏     | 210/495 [02:24<03:26,  1.38it/s]\u001b[A\n",
      " 43%|████▎     | 211/495 [02:25<03:25,  1.38it/s]\u001b[A\n",
      " 43%|████▎     | 212/495 [02:26<03:25,  1.38it/s]\u001b[A\n",
      " 43%|████▎     | 213/495 [02:26<03:25,  1.37it/s]\u001b[A\n",
      " 43%|████▎     | 214/495 [02:27<03:32,  1.32it/s]\u001b[A\n",
      " 43%|████▎     | 215/495 [02:28<03:31,  1.32it/s]\u001b[A\n",
      " 44%|████▎     | 216/495 [02:29<03:45,  1.24it/s]\u001b[A\n",
      " 44%|████▍     | 217/495 [02:30<03:34,  1.30it/s]\u001b[A\n",
      " 44%|████▍     | 218/495 [02:30<03:26,  1.34it/s]\u001b[A\n",
      " 44%|████▍     | 219/495 [02:31<03:20,  1.38it/s]\u001b[A\n",
      " 44%|████▍     | 220/495 [02:32<03:15,  1.40it/s]\u001b[A\n",
      " 45%|████▍     | 221/495 [02:32<03:12,  1.42it/s]\u001b[A\n",
      " 45%|████▍     | 222/495 [02:33<03:10,  1.44it/s]\u001b[A\n",
      " 45%|████▌     | 223/495 [02:34<03:07,  1.45it/s]\u001b[A\n",
      " 45%|████▌     | 224/495 [02:34<03:02,  1.48it/s]\u001b[A\n",
      " 45%|████▌     | 225/495 [02:35<02:59,  1.50it/s]\u001b[A\n",
      " 46%|████▌     | 226/495 [02:36<02:57,  1.52it/s]\u001b[A\n",
      " 46%|████▌     | 227/495 [02:36<03:01,  1.47it/s]\u001b[A\n",
      " 46%|████▌     | 228/495 [02:37<02:57,  1.50it/s]\u001b[A\n",
      " 46%|████▋     | 229/495 [02:38<02:54,  1.52it/s]\u001b[A\n",
      " 46%|████▋     | 230/495 [02:38<02:52,  1.53it/s]\u001b[A\n",
      " 47%|████▋     | 231/495 [02:39<02:50,  1.54it/s]\u001b[A\n",
      " 47%|████▋     | 232/495 [02:40<02:49,  1.56it/s]\u001b[A\n",
      " 47%|████▋     | 233/495 [02:40<02:47,  1.56it/s]\u001b[A\n",
      " 47%|████▋     | 234/495 [02:41<02:46,  1.57it/s]\u001b[A\n",
      " 47%|████▋     | 235/495 [02:41<02:45,  1.57it/s]\u001b[A\n",
      " 48%|████▊     | 236/495 [02:42<02:45,  1.57it/s]\u001b[A\n",
      " 48%|████▊     | 237/495 [02:43<02:44,  1.57it/s]\u001b[A\n",
      " 48%|████▊     | 238/495 [02:43<02:44,  1.56it/s]\u001b[A\n",
      " 48%|████▊     | 239/495 [02:44<02:49,  1.51it/s]\u001b[A\n",
      " 48%|████▊     | 240/495 [02:45<02:47,  1.52it/s]\u001b[A\n",
      " 49%|████▊     | 241/495 [02:45<02:45,  1.54it/s]\u001b[A\n",
      " 49%|████▉     | 242/495 [02:46<02:43,  1.54it/s]\u001b[A\n",
      " 49%|████▉     | 243/495 [02:47<02:43,  1.54it/s]\u001b[A\n",
      " 49%|████▉     | 244/495 [02:47<02:42,  1.55it/s]\u001b[A\n",
      " 49%|████▉     | 245/495 [02:48<02:41,  1.55it/s]\u001b[A\n",
      " 50%|████▉     | 246/495 [02:49<02:40,  1.56it/s]\u001b[A\n",
      " 50%|████▉     | 247/495 [02:49<02:54,  1.43it/s]\u001b[A\n",
      " 50%|█████     | 248/495 [02:50<02:50,  1.45it/s]\u001b[A\n",
      " 50%|█████     | 249/495 [02:51<02:47,  1.47it/s]\u001b[A\n",
      " 51%|█████     | 250/495 [02:51<02:45,  1.48it/s]\u001b[A\n",
      " 51%|█████     | 251/495 [02:52<02:49,  1.44it/s]\u001b[A\n",
      " 51%|█████     | 252/495 [02:53<02:46,  1.46it/s]\u001b[A\n",
      " 51%|█████     | 253/495 [02:53<02:43,  1.48it/s]\u001b[A\n",
      " 51%|█████▏    | 254/495 [02:54<02:38,  1.52it/s]\u001b[A\n",
      " 52%|█████▏    | 255/495 [02:55<02:35,  1.54it/s]\u001b[A\n",
      " 52%|█████▏    | 256/495 [02:55<02:33,  1.56it/s]\u001b[A\n",
      " 52%|█████▏    | 257/495 [02:56<02:31,  1.57it/s]\u001b[A\n",
      " 52%|█████▏    | 258/495 [02:57<02:30,  1.58it/s]\u001b[A\n",
      " 52%|█████▏    | 259/495 [02:57<02:29,  1.58it/s]\u001b[A\n",
      " 53%|█████▎    | 260/495 [02:58<02:29,  1.58it/s]\u001b[A\n",
      " 53%|█████▎    | 261/495 [02:58<02:27,  1.58it/s]\u001b[A\n",
      " 53%|█████▎    | 262/495 [02:59<02:27,  1.58it/s]\u001b[A\n",
      " 53%|█████▎    | 263/495 [03:00<02:43,  1.41it/s]\u001b[A\n",
      " 53%|█████▎    | 264/495 [03:01<02:42,  1.42it/s]\u001b[A\n",
      " 54%|█████▎    | 265/495 [03:01<02:36,  1.47it/s]\u001b[A\n",
      " 54%|█████▎    | 266/495 [03:02<02:35,  1.47it/s]\u001b[A\n",
      " 54%|█████▍    | 267/495 [03:03<02:33,  1.48it/s]\u001b[A\n",
      " 54%|█████▍    | 268/495 [03:03<02:31,  1.50it/s]\u001b[A\n",
      " 54%|█████▍    | 269/495 [03:04<02:28,  1.52it/s]\u001b[A\n",
      " 55%|█████▍    | 270/495 [03:05<02:25,  1.55it/s]\u001b[A\n",
      " 55%|█████▍    | 271/495 [03:05<02:23,  1.56it/s]\u001b[A\n",
      " 55%|█████▍    | 272/495 [03:06<02:22,  1.56it/s]\u001b[A\n",
      " 55%|█████▌    | 273/495 [03:06<02:21,  1.57it/s]\u001b[A\n",
      " 55%|█████▌    | 274/495 [03:07<02:20,  1.57it/s]\u001b[A\n",
      " 56%|█████▌    | 275/495 [03:08<02:19,  1.57it/s]\u001b[A\n",
      " 56%|█████▌    | 276/495 [03:08<02:23,  1.53it/s]\u001b[A\n",
      " 56%|█████▌    | 277/495 [03:09<02:21,  1.54it/s]\u001b[A\n",
      " 56%|█████▌    | 278/495 [03:10<02:19,  1.55it/s]\u001b[A\n",
      " 56%|█████▋    | 279/495 [03:11<02:32,  1.42it/s]\u001b[A\n",
      " 57%|█████▋    | 280/495 [03:11<02:27,  1.46it/s]\u001b[A\n",
      " 57%|█████▋    | 281/495 [03:12<02:23,  1.49it/s]\u001b[A\n",
      " 57%|█████▋    | 282/495 [03:12<02:20,  1.52it/s]\u001b[A\n",
      " 57%|█████▋    | 283/495 [03:13<02:18,  1.54it/s]\u001b[A\n",
      " 57%|█████▋    | 284/495 [03:14<02:16,  1.54it/s]\u001b[A\n",
      " 58%|█████▊    | 285/495 [03:14<02:15,  1.55it/s]\u001b[A\n",
      " 58%|█████▊    | 286/495 [03:15<02:14,  1.56it/s]\u001b[A\n",
      " 58%|█████▊    | 287/495 [03:16<02:25,  1.42it/s]\u001b[A\n",
      " 58%|█████▊    | 288/495 [03:17<02:23,  1.44it/s]\u001b[A\n",
      " 58%|█████▊    | 289/495 [03:17<02:26,  1.41it/s]\u001b[A\n",
      " 59%|█████▊    | 290/495 [03:18<02:20,  1.46it/s]\u001b[A\n",
      " 59%|█████▉    | 291/495 [03:19<02:16,  1.49it/s]\u001b[A\n",
      " 59%|█████▉    | 292/495 [03:19<02:13,  1.52it/s]\u001b[A\n",
      " 59%|█████▉    | 293/495 [03:20<02:11,  1.53it/s]\u001b[A\n",
      " 59%|█████▉    | 294/495 [03:20<02:09,  1.55it/s]\u001b[A\n",
      " 60%|█████▉    | 295/495 [03:21<02:08,  1.56it/s]\u001b[A\n",
      " 60%|█████▉    | 296/495 [03:22<02:07,  1.56it/s]\u001b[A\n",
      " 60%|██████    | 297/495 [03:22<02:06,  1.57it/s]\u001b[A\n",
      " 60%|██████    | 298/495 [03:23<02:05,  1.57it/s]\u001b[A\n",
      " 60%|██████    | 299/495 [03:24<02:04,  1.57it/s]\u001b[A\n",
      " 61%|██████    | 300/495 [03:24<02:03,  1.57it/s]\u001b[A\n",
      " 61%|██████    | 301/495 [03:25<02:03,  1.57it/s]\u001b[A\n",
      " 61%|██████    | 302/495 [03:26<02:07,  1.52it/s]\u001b[A\n",
      " 61%|██████    | 303/495 [03:26<02:14,  1.43it/s]\u001b[A\n",
      " 61%|██████▏   | 304/495 [03:27<02:12,  1.45it/s]\u001b[A\n",
      " 62%|██████▏   | 305/495 [03:28<02:19,  1.36it/s]\u001b[A\n",
      " 62%|██████▏   | 306/495 [03:29<02:15,  1.40it/s]\u001b[A\n",
      " 62%|██████▏   | 307/495 [03:29<02:11,  1.43it/s]\u001b[A\n",
      " 62%|██████▏   | 308/495 [03:30<02:08,  1.46it/s]\u001b[A\n",
      " 62%|██████▏   | 309/495 [03:31<02:04,  1.49it/s]\u001b[A\n"
     ]
    },
    {
     "name": "stderr",
     "output_type": "stream",
     "text": [
      " 63%|██████▎   | 310/495 [03:31<02:02,  1.51it/s]\u001b[A\n",
      " 63%|██████▎   | 311/495 [03:32<02:22,  1.29it/s]\u001b[A\n",
      " 63%|██████▎   | 312/495 [03:33<02:18,  1.32it/s]\u001b[A\n",
      " 63%|██████▎   | 313/495 [03:34<02:16,  1.34it/s]\u001b[A\n",
      " 63%|██████▎   | 314/495 [03:34<02:13,  1.35it/s]\u001b[A\n",
      " 64%|██████▎   | 315/495 [03:35<02:16,  1.32it/s]\u001b[A\n",
      " 64%|██████▍   | 316/495 [03:36<02:13,  1.34it/s]\u001b[A\n",
      " 64%|██████▍   | 317/495 [03:37<02:11,  1.36it/s]\u001b[A\n",
      " 64%|██████▍   | 318/495 [03:37<02:10,  1.36it/s]\u001b[A\n",
      " 64%|██████▍   | 319/495 [03:38<02:08,  1.37it/s]\u001b[A\n",
      " 65%|██████▍   | 320/495 [03:39<02:07,  1.37it/s]\u001b[A\n",
      " 65%|██████▍   | 321/495 [03:40<02:06,  1.37it/s]\u001b[A\n",
      " 65%|██████▌   | 322/495 [03:40<02:05,  1.38it/s]\u001b[A\n",
      " 65%|██████▌   | 323/495 [03:41<02:05,  1.37it/s]\u001b[A\n",
      " 65%|██████▌   | 324/495 [03:42<02:05,  1.37it/s]\u001b[A\n",
      " 66%|██████▌   | 325/495 [03:42<02:04,  1.37it/s]\u001b[A\n",
      " 66%|██████▌   | 326/495 [03:43<02:04,  1.35it/s]\u001b[A\n",
      " 66%|██████▌   | 327/495 [03:44<02:03,  1.36it/s]\u001b[A\n",
      " 66%|██████▋   | 328/495 [03:45<02:07,  1.31it/s]\u001b[A\n",
      " 66%|██████▋   | 329/495 [03:45<02:04,  1.33it/s]\u001b[A\n",
      " 67%|██████▋   | 330/495 [03:46<02:02,  1.34it/s]\u001b[A\n",
      " 67%|██████▋   | 331/495 [03:47<02:01,  1.35it/s]\u001b[A\n",
      " 67%|██████▋   | 332/495 [03:48<02:02,  1.34it/s]\u001b[A\n",
      " 67%|██████▋   | 333/495 [03:48<02:01,  1.33it/s]\u001b[A\n",
      " 67%|██████▋   | 334/495 [03:49<02:01,  1.32it/s]\u001b[A\n",
      " 68%|██████▊   | 335/495 [03:50<02:01,  1.32it/s]\u001b[A\n",
      " 68%|██████▊   | 336/495 [03:51<02:00,  1.32it/s]\u001b[A\n",
      " 68%|██████▊   | 337/495 [03:52<02:00,  1.31it/s]\u001b[A\n",
      " 68%|██████▊   | 338/495 [03:52<01:59,  1.32it/s]\u001b[A\n",
      " 68%|██████▊   | 339/495 [03:53<01:58,  1.31it/s]\u001b[A\n",
      " 69%|██████▊   | 340/495 [03:54<01:58,  1.31it/s]\u001b[A\n",
      " 69%|██████▉   | 341/495 [03:55<02:01,  1.27it/s]\u001b[A\n",
      " 69%|██████▉   | 342/495 [03:55<01:59,  1.28it/s]\u001b[A\n",
      " 69%|██████▉   | 343/495 [03:56<01:59,  1.27it/s]\u001b[A\n",
      " 69%|██████▉   | 344/495 [03:57<01:57,  1.28it/s]\u001b[A\n",
      " 70%|██████▉   | 345/495 [03:58<01:55,  1.29it/s]\u001b[A\n",
      " 70%|██████▉   | 346/495 [03:59<01:55,  1.29it/s]\u001b[A\n",
      " 70%|███████   | 347/495 [03:59<01:53,  1.30it/s]\u001b[A\n",
      " 70%|███████   | 348/495 [04:00<01:52,  1.30it/s]\u001b[A\n",
      " 71%|███████   | 349/495 [04:01<01:51,  1.31it/s]\u001b[A\n",
      " 71%|███████   | 350/495 [04:02<01:50,  1.31it/s]\u001b[A\n",
      " 71%|███████   | 351/495 [04:02<01:49,  1.32it/s]\u001b[A\n",
      " 71%|███████   | 352/495 [04:03<01:47,  1.33it/s]\u001b[A\n",
      " 71%|███████▏  | 353/495 [04:04<01:45,  1.35it/s]\u001b[A\n",
      " 72%|███████▏  | 354/495 [04:05<01:47,  1.31it/s]\u001b[A\n",
      " 72%|███████▏  | 355/495 [04:05<01:45,  1.33it/s]\u001b[A\n",
      " 72%|███████▏  | 356/495 [04:06<01:43,  1.35it/s]\u001b[A\n",
      " 72%|███████▏  | 357/495 [04:07<01:41,  1.36it/s]\u001b[A\n",
      " 72%|███████▏  | 358/495 [04:07<01:40,  1.37it/s]\u001b[A\n",
      " 73%|███████▎  | 359/495 [04:08<01:38,  1.38it/s]\u001b[A\n",
      " 73%|███████▎  | 360/495 [04:09<01:37,  1.38it/s]\u001b[A\n",
      " 73%|███████▎  | 361/495 [04:10<01:36,  1.39it/s]\u001b[A\n",
      " 73%|███████▎  | 362/495 [04:10<01:35,  1.39it/s]\u001b[A\n",
      " 73%|███████▎  | 363/495 [04:11<01:35,  1.38it/s]\u001b[A\n",
      " 74%|███████▎  | 364/495 [04:12<01:35,  1.38it/s]\u001b[A\n",
      " 74%|███████▎  | 365/495 [04:13<01:35,  1.36it/s]\u001b[A\n",
      " 74%|███████▍  | 366/495 [04:13<01:34,  1.37it/s]\u001b[A\n",
      " 74%|███████▍  | 367/495 [04:14<01:33,  1.37it/s]\u001b[A\n",
      " 74%|███████▍  | 368/495 [04:15<01:35,  1.33it/s]\u001b[A\n",
      " 75%|███████▍  | 369/495 [04:16<01:34,  1.33it/s]\u001b[A\n",
      " 75%|███████▍  | 370/495 [04:16<01:35,  1.31it/s]\u001b[A\n",
      " 75%|███████▍  | 371/495 [04:17<01:33,  1.33it/s]\u001b[A\n",
      " 75%|███████▌  | 372/495 [04:18<01:31,  1.34it/s]\u001b[A\n",
      " 75%|███████▌  | 373/495 [04:19<01:30,  1.36it/s]\u001b[A\n",
      " 76%|███████▌  | 374/495 [04:19<01:28,  1.36it/s]\u001b[A\n",
      " 76%|███████▌  | 375/495 [04:20<01:27,  1.36it/s]\u001b[A\n",
      " 76%|███████▌  | 376/495 [04:21<01:27,  1.37it/s]\u001b[A\n",
      " 76%|███████▌  | 377/495 [04:21<01:26,  1.37it/s]\u001b[A\n",
      " 76%|███████▋  | 378/495 [04:22<01:25,  1.37it/s]\u001b[A\n",
      " 77%|███████▋  | 379/495 [04:23<01:24,  1.37it/s]\u001b[A\n",
      " 77%|███████▋  | 380/495 [04:24<01:27,  1.32it/s]\u001b[A\n",
      " 77%|███████▋  | 381/495 [04:24<01:25,  1.34it/s]\u001b[A\n",
      " 77%|███████▋  | 382/495 [04:25<01:28,  1.28it/s]\u001b[A\n",
      " 77%|███████▋  | 383/495 [04:26<01:24,  1.33it/s]\u001b[A\n",
      " 78%|███████▊  | 384/495 [04:27<01:20,  1.38it/s]\u001b[A\n",
      " 78%|███████▊  | 385/495 [04:27<01:22,  1.33it/s]\u001b[A\n",
      " 78%|███████▊  | 386/495 [04:28<01:21,  1.34it/s]\u001b[A\n",
      " 78%|███████▊  | 387/495 [04:29<01:18,  1.38it/s]\u001b[A\n",
      " 78%|███████▊  | 388/495 [04:30<01:22,  1.30it/s]\u001b[A\n",
      " 79%|███████▊  | 389/495 [04:31<01:25,  1.24it/s]\u001b[A\n",
      " 79%|███████▉  | 390/495 [04:31<01:21,  1.28it/s]\u001b[A\n",
      " 79%|███████▉  | 391/495 [04:32<01:19,  1.31it/s]\u001b[A\n",
      " 79%|███████▉  | 392/495 [04:33<01:17,  1.32it/s]\u001b[A\n",
      " 79%|███████▉  | 393/495 [04:34<01:18,  1.30it/s]\u001b[A\n",
      " 80%|███████▉  | 394/495 [04:34<01:16,  1.31it/s]\u001b[A\n",
      " 80%|███████▉  | 395/495 [04:35<01:15,  1.33it/s]\u001b[A\n",
      " 80%|████████  | 396/495 [04:36<01:13,  1.35it/s]\u001b[A\n",
      " 80%|████████  | 397/495 [04:37<01:12,  1.36it/s]\u001b[A\n",
      " 80%|████████  | 398/495 [04:37<01:11,  1.36it/s]\u001b[A\n",
      " 81%|████████  | 399/495 [04:38<01:10,  1.36it/s]\u001b[A\n",
      " 81%|████████  | 400/495 [04:39<01:09,  1.36it/s]\u001b[A\n",
      " 81%|████████  | 401/495 [04:40<01:11,  1.32it/s]\u001b[A\n",
      " 81%|████████  | 402/495 [04:40<01:10,  1.33it/s]\u001b[A\n",
      " 81%|████████▏ | 403/495 [04:41<01:09,  1.32it/s]\u001b[A\n",
      " 82%|████████▏ | 404/495 [04:42<01:08,  1.33it/s]\u001b[A\n",
      " 82%|████████▏ | 405/495 [04:43<01:07,  1.33it/s]\u001b[A\n",
      " 82%|████████▏ | 406/495 [04:43<01:08,  1.29it/s]\u001b[A\n",
      " 82%|████████▏ | 407/495 [04:44<01:06,  1.32it/s]\u001b[A\n",
      " 82%|████████▏ | 408/495 [04:45<01:05,  1.33it/s]\u001b[A\n",
      " 83%|████████▎ | 409/495 [04:46<01:04,  1.34it/s]\u001b[A\n",
      " 83%|████████▎ | 410/495 [04:46<01:02,  1.35it/s]\u001b[A\n",
      " 83%|████████▎ | 411/495 [04:47<01:01,  1.36it/s]\u001b[A\n",
      " 83%|████████▎ | 412/495 [04:48<01:00,  1.37it/s]\u001b[A\n",
      " 83%|████████▎ | 413/495 [04:48<00:59,  1.37it/s]\u001b[A\n",
      " 84%|████████▎ | 414/495 [04:49<00:59,  1.37it/s]\u001b[A\n",
      " 84%|████████▍ | 415/495 [04:50<00:58,  1.37it/s]\u001b[A\n",
      " 84%|████████▍ | 416/495 [04:51<00:57,  1.37it/s]\u001b[A\n",
      " 84%|████████▍ | 417/495 [04:51<00:56,  1.39it/s]\u001b[A\n",
      " 84%|████████▍ | 418/495 [04:52<00:54,  1.42it/s]\u001b[A\n",
      " 85%|████████▍ | 419/495 [04:53<00:54,  1.39it/s]\u001b[A\n",
      " 85%|████████▍ | 420/495 [04:53<00:52,  1.44it/s]\u001b[A\n",
      " 85%|████████▌ | 421/495 [04:54<00:50,  1.47it/s]\u001b[A\n",
      " 85%|████████▌ | 422/495 [04:55<00:48,  1.50it/s]\u001b[A\n",
      " 85%|████████▌ | 423/495 [04:55<00:48,  1.50it/s]\u001b[A\n",
      " 86%|████████▌ | 424/495 [04:56<00:47,  1.51it/s]\u001b[A\n",
      " 86%|████████▌ | 425/495 [04:57<00:45,  1.52it/s]\u001b[A\n",
      " 86%|████████▌ | 426/495 [04:57<00:45,  1.53it/s]\u001b[A\n",
      " 86%|████████▋ | 427/495 [04:58<00:44,  1.54it/s]\u001b[A\n",
      " 86%|████████▋ | 428/495 [04:59<00:43,  1.55it/s]\u001b[A\n",
      " 87%|████████▋ | 429/495 [04:59<00:42,  1.55it/s]\u001b[A\n",
      " 87%|████████▋ | 430/495 [05:00<00:42,  1.54it/s]\u001b[A\n",
      " 87%|████████▋ | 431/495 [05:01<00:41,  1.54it/s]\u001b[A\n",
      " 87%|████████▋ | 432/495 [05:01<00:42,  1.49it/s]\u001b[A\n",
      " 87%|████████▋ | 433/495 [05:02<00:41,  1.51it/s]\u001b[A\n",
      " 88%|████████▊ | 434/495 [05:03<00:40,  1.52it/s]\u001b[A\n",
      " 88%|████████▊ | 435/495 [05:03<00:39,  1.53it/s]\u001b[A\n",
      " 88%|████████▊ | 436/495 [05:04<00:38,  1.54it/s]\u001b[A\n",
      " 88%|████████▊ | 437/495 [05:04<00:37,  1.55it/s]\u001b[A\n",
      " 88%|████████▊ | 438/495 [05:05<00:36,  1.55it/s]\u001b[A\n",
      " 89%|████████▊ | 439/495 [05:06<00:36,  1.55it/s]\u001b[A\n",
      " 89%|████████▉ | 440/495 [05:06<00:35,  1.56it/s]\u001b[A\n",
      " 89%|████████▉ | 441/495 [05:07<00:34,  1.55it/s]\u001b[A\n",
      " 89%|████████▉ | 442/495 [05:08<00:37,  1.42it/s]\u001b[A\n",
      " 89%|████████▉ | 443/495 [05:09<00:40,  1.29it/s]\u001b[A\n",
      " 90%|████████▉ | 444/495 [05:10<00:38,  1.31it/s]\u001b[A\n",
      " 90%|████████▉ | 445/495 [05:10<00:38,  1.29it/s]\u001b[A\n",
      " 90%|█████████ | 446/495 [05:11<00:37,  1.31it/s]\u001b[A\n",
      " 90%|█████████ | 447/495 [05:12<00:35,  1.33it/s]\u001b[A\n",
      " 91%|█████████ | 448/495 [05:13<00:34,  1.35it/s]\u001b[A\n",
      " 91%|█████████ | 449/495 [05:13<00:34,  1.35it/s]\u001b[A\n",
      " 91%|█████████ | 450/495 [05:14<00:35,  1.26it/s]\u001b[A\n",
      " 91%|█████████ | 451/495 [05:15<00:32,  1.34it/s]\u001b[A\n",
      " 91%|█████████▏| 452/495 [05:15<00:31,  1.38it/s]\u001b[A\n",
      " 92%|█████████▏| 453/495 [05:16<00:29,  1.43it/s]\u001b[A\n",
      " 92%|█████████▏| 454/495 [05:17<00:27,  1.46it/s]\u001b[A\n",
      " 92%|█████████▏| 455/495 [05:17<00:26,  1.48it/s]\u001b[A\n",
      " 92%|█████████▏| 456/495 [05:18<00:26,  1.49it/s]\u001b[A\n",
      " 92%|█████████▏| 457/495 [05:19<00:25,  1.51it/s]\u001b[A\n",
      " 93%|█████████▎| 458/495 [05:19<00:25,  1.47it/s]\u001b[A\n",
      " 93%|█████████▎| 459/495 [05:20<00:24,  1.49it/s]\u001b[A\n",
      " 93%|█████████▎| 460/495 [05:21<00:23,  1.52it/s]\u001b[A\n",
      " 93%|█████████▎| 461/495 [05:21<00:22,  1.53it/s]\u001b[A\n",
      " 93%|█████████▎| 462/495 [05:22<00:21,  1.55it/s]\u001b[A\n",
      " 94%|█████████▎| 463/495 [05:23<00:20,  1.56it/s]\u001b[A\n",
      " 94%|█████████▎| 464/495 [05:23<00:19,  1.56it/s]\u001b[A\n",
      " 94%|█████████▍| 465/495 [05:24<00:19,  1.56it/s]\u001b[A\n",
      " 94%|█████████▍| 466/495 [05:25<00:18,  1.56it/s]\u001b[A\n",
      " 94%|█████████▍| 467/495 [05:25<00:17,  1.56it/s]\u001b[A\n",
      " 95%|█████████▍| 468/495 [05:26<00:17,  1.56it/s]\u001b[A\n",
      " 95%|█████████▍| 469/495 [05:26<00:16,  1.56it/s]\u001b[A\n",
      " 95%|█████████▍| 470/495 [05:27<00:15,  1.57it/s]\u001b[A\n",
      " 95%|█████████▌| 471/495 [05:28<00:15,  1.56it/s]\u001b[A\n",
      " 95%|█████████▌| 472/495 [05:28<00:15,  1.51it/s]\u001b[A\n",
      " 96%|█████████▌| 473/495 [05:29<00:14,  1.52it/s]\u001b[A\n",
      " 96%|█████████▌| 474/495 [05:30<00:13,  1.54it/s]\u001b[A\n",
      " 96%|█████████▌| 475/495 [05:30<00:12,  1.54it/s]\u001b[A\n",
      " 96%|█████████▌| 476/495 [05:31<00:12,  1.55it/s]\u001b[A\n",
      " 96%|█████████▋| 477/495 [05:32<00:11,  1.54it/s]\u001b[A\n",
      " 97%|█████████▋| 478/495 [05:32<00:11,  1.54it/s]\u001b[A\n",
      " 97%|█████████▋| 479/495 [05:33<00:10,  1.54it/s]\u001b[A\n",
      " 97%|█████████▋| 480/495 [05:34<00:09,  1.53it/s]\u001b[A\n",
      " 97%|█████████▋| 481/495 [05:34<00:09,  1.54it/s]\u001b[A\n",
      " 97%|█████████▋| 482/495 [05:35<00:08,  1.54it/s]\u001b[A\n",
      " 98%|█████████▊| 483/495 [05:36<00:07,  1.55it/s]\u001b[A\n",
      " 98%|█████████▊| 484/495 [05:36<00:07,  1.55it/s]\u001b[A\n",
      " 98%|█████████▊| 485/495 [05:37<00:06,  1.55it/s]\u001b[A\n",
      " 98%|█████████▊| 486/495 [05:38<00:06,  1.49it/s]\u001b[A\n",
      " 98%|█████████▊| 487/495 [05:38<00:05,  1.51it/s]\u001b[A\n",
      " 99%|█████████▊| 488/495 [05:39<00:04,  1.53it/s]\u001b[A\n",
      " 99%|█████████▉| 489/495 [05:40<00:03,  1.55it/s]\u001b[A\n",
      " 99%|█████████▉| 490/495 [05:40<00:03,  1.55it/s]\u001b[A\n",
      " 99%|█████████▉| 491/495 [05:41<00:02,  1.56it/s]\u001b[A\n",
      " 99%|█████████▉| 492/495 [05:41<00:01,  1.56it/s]\u001b[A\n",
      "100%|█████████▉| 493/495 [05:42<00:01,  1.57it/s]\u001b[A\n",
      "100%|█████████▉| 494/495 [05:43<00:00,  1.57it/s]\u001b[A\n",
      "100%|██████████| 495/495 [05:43<00:00,  1.44it/s]\u001b[A\n"
     ]
    }
   ],
   "source": [
    "rankings_walmart,triangles_walmart,flippedNeg_walmart,notFlippedNeg_walmart = explainSamples(correctPredictions_walmart,[tableA_walmart,tableB_walmart],\n",
    "                                    walmart_model,originalClass=0,maxLenAttributeSet=1)"
   ]
  },
  {
   "cell_type": "code",
   "execution_count": 41,
   "metadata": {
    "ExecuteTime": {
     "end_time": "2020-02-15T16:09:30.696435Z",
     "start_time": "2020-02-15T16:03:46.999620Z"
    }
   },
   "outputs": [
    {
     "name": "stderr",
     "output_type": "stream",
     "text": [
      "\n",
      "  0%|          | 0/495 [00:00<?, ?it/s]\u001b[A\n",
      "  0%|          | 1/495 [00:00<05:23,  1.53it/s]\u001b[A\n",
      "  0%|          | 2/495 [00:01<05:28,  1.50it/s]\u001b[A\n",
      "  1%|          | 3/495 [00:01<05:23,  1.52it/s]\u001b[A\n",
      "  1%|          | 4/495 [00:02<05:39,  1.45it/s]\u001b[A\n",
      "  1%|          | 5/495 [00:03<06:19,  1.29it/s]\u001b[A\n",
      "  1%|          | 6/495 [00:04<06:10,  1.32it/s]\u001b[A\n",
      "  1%|▏         | 7/495 [00:05<06:07,  1.33it/s]\u001b[A\n",
      "  2%|▏         | 8/495 [00:05<06:02,  1.34it/s]\u001b[A\n",
      "  2%|▏         | 9/495 [00:06<06:02,  1.34it/s]\u001b[A\n",
      "  2%|▏         | 10/495 [00:07<05:59,  1.35it/s]\u001b[A\n",
      "  2%|▏         | 11/495 [00:08<05:58,  1.35it/s]\u001b[A\n",
      "  2%|▏         | 12/495 [00:08<05:57,  1.35it/s]\u001b[A\n",
      "  3%|▎         | 13/495 [00:09<05:55,  1.36it/s]\u001b[A\n",
      "  3%|▎         | 14/495 [00:10<05:54,  1.36it/s]\u001b[A\n",
      "  3%|▎         | 15/495 [00:11<06:03,  1.32it/s]\u001b[A\n",
      "  3%|▎         | 16/495 [00:11<05:58,  1.34it/s]\u001b[A\n",
      "  3%|▎         | 17/495 [00:12<05:55,  1.34it/s]\u001b[A\n",
      "  4%|▎         | 18/495 [00:13<06:16,  1.27it/s]\u001b[A\n",
      "  4%|▍         | 19/495 [00:14<05:55,  1.34it/s]\u001b[A\n",
      "  4%|▍         | 20/495 [00:14<05:39,  1.40it/s]\u001b[A\n",
      "  4%|▍         | 21/495 [00:15<05:28,  1.44it/s]\u001b[A\n",
      "  4%|▍         | 22/495 [00:16<05:23,  1.46it/s]\u001b[A\n",
      "  5%|▍         | 23/495 [00:16<05:17,  1.49it/s]\u001b[A\n",
      "  5%|▍         | 24/495 [00:17<05:14,  1.50it/s]\u001b[A\n",
      "  5%|▌         | 25/495 [00:18<05:10,  1.51it/s]\u001b[A\n",
      "  5%|▌         | 26/495 [00:18<05:07,  1.52it/s]\u001b[A\n",
      "  5%|▌         | 27/495 [00:19<05:16,  1.48it/s]\u001b[A\n",
      "  6%|▌         | 28/495 [00:20<05:12,  1.50it/s]\u001b[A\n",
      "  6%|▌         | 29/495 [00:20<05:07,  1.51it/s]\u001b[A\n",
      "  6%|▌         | 30/495 [00:21<05:04,  1.53it/s]\u001b[A\n",
      "  6%|▋         | 31/495 [00:21<05:01,  1.54it/s]\u001b[A\n",
      "  6%|▋         | 32/495 [00:22<04:59,  1.55it/s]\u001b[A\n",
      "  7%|▋         | 33/495 [00:23<04:57,  1.55it/s]\u001b[A\n",
      "  7%|▋         | 34/495 [00:23<04:56,  1.56it/s]\u001b[A\n",
      "  7%|▋         | 35/495 [00:24<04:55,  1.56it/s]\u001b[A\n",
      "  7%|▋         | 36/495 [00:25<04:55,  1.55it/s]\u001b[A\n",
      "  7%|▋         | 37/495 [00:25<04:54,  1.56it/s]\u001b[A\n",
      "  8%|▊         | 38/495 [00:26<05:27,  1.39it/s]\u001b[A\n",
      "  8%|▊         | 39/495 [00:27<05:26,  1.40it/s]\u001b[A\n",
      "  8%|▊         | 40/495 [00:28<05:13,  1.45it/s]\u001b[A\n",
      "  8%|▊         | 41/495 [00:28<05:04,  1.49it/s]\u001b[A\n",
      "  8%|▊         | 42/495 [00:29<05:24,  1.40it/s]\u001b[A\n",
      "  9%|▊         | 43/495 [00:30<05:12,  1.45it/s]\u001b[A\n",
      "  9%|▉         | 44/495 [00:30<05:04,  1.48it/s]\u001b[A\n",
      "  9%|▉         | 45/495 [00:31<04:58,  1.51it/s]\u001b[A\n",
      "  9%|▉         | 46/495 [00:32<04:54,  1.53it/s]\u001b[A\n",
      "  9%|▉         | 47/495 [00:32<04:50,  1.54it/s]\u001b[A\n",
      " 10%|▉         | 48/495 [00:33<04:48,  1.55it/s]\u001b[A\n",
      " 10%|▉         | 49/495 [00:33<04:46,  1.55it/s]\u001b[A\n",
      " 10%|█         | 50/495 [00:34<04:46,  1.56it/s]\u001b[A\n",
      " 10%|█         | 51/495 [00:35<04:53,  1.51it/s]\u001b[A\n",
      " 11%|█         | 52/495 [00:35<04:50,  1.53it/s]\u001b[A\n",
      " 11%|█         | 53/495 [00:36<04:47,  1.54it/s]\u001b[A\n",
      " 11%|█         | 54/495 [00:37<04:44,  1.55it/s]\u001b[A\n",
      " 11%|█         | 55/495 [00:37<04:43,  1.55it/s]\u001b[A\n",
      " 11%|█▏        | 56/495 [00:38<04:45,  1.54it/s]\u001b[A\n",
      " 12%|█▏        | 57/495 [00:39<04:44,  1.54it/s]\u001b[A\n",
      " 12%|█▏        | 58/495 [00:39<04:43,  1.54it/s]\u001b[A\n",
      " 12%|█▏        | 59/495 [00:40<04:42,  1.54it/s]\u001b[A\n",
      " 12%|█▏        | 60/495 [00:41<04:41,  1.54it/s]\u001b[A\n",
      " 12%|█▏        | 61/495 [00:41<04:40,  1.55it/s]\u001b[A\n",
      " 13%|█▎        | 62/495 [00:42<04:39,  1.55it/s]\u001b[A\n",
      " 13%|█▎        | 63/495 [00:43<04:47,  1.50it/s]\u001b[A\n",
      " 13%|█▎        | 64/495 [00:43<04:42,  1.52it/s]\u001b[A\n",
      " 13%|█▎        | 65/495 [00:44<04:39,  1.54it/s]\u001b[A\n",
      " 13%|█▎        | 66/495 [00:45<04:36,  1.55it/s]\u001b[A\n",
      " 14%|█▎        | 67/495 [00:45<04:34,  1.56it/s]\u001b[A\n",
      " 14%|█▎        | 68/495 [00:46<04:32,  1.57it/s]\u001b[A\n",
      " 14%|█▍        | 69/495 [00:46<04:31,  1.57it/s]\u001b[A\n",
      " 14%|█▍        | 70/495 [00:47<04:29,  1.58it/s]\u001b[A\n",
      " 14%|█▍        | 71/495 [00:48<04:28,  1.58it/s]\u001b[A\n",
      " 15%|█▍        | 72/495 [00:48<04:27,  1.58it/s]\u001b[A\n",
      " 15%|█▍        | 73/495 [00:49<04:26,  1.58it/s]\u001b[A\n",
      " 15%|█▍        | 74/495 [00:50<04:26,  1.58it/s]\u001b[A\n",
      " 15%|█▌        | 75/495 [00:50<04:35,  1.52it/s]\u001b[A\n",
      " 15%|█▌        | 76/495 [00:51<04:32,  1.54it/s]\u001b[A\n",
      " 16%|█▌        | 77/495 [00:52<04:30,  1.55it/s]\u001b[A\n",
      " 16%|█▌        | 78/495 [00:52<04:28,  1.55it/s]\u001b[A\n",
      " 16%|█▌        | 79/495 [00:53<04:27,  1.56it/s]\u001b[A\n",
      " 16%|█▌        | 80/495 [00:53<04:26,  1.56it/s]\u001b[A\n",
      " 16%|█▋        | 81/495 [00:54<04:25,  1.56it/s]\u001b[A\n",
      " 17%|█▋        | 82/495 [00:55<05:12,  1.32it/s]\u001b[A\n",
      " 17%|█▋        | 83/495 [00:56<05:09,  1.33it/s]\u001b[A\n",
      " 17%|█▋        | 84/495 [00:57<05:05,  1.35it/s]\u001b[A\n",
      " 17%|█▋        | 85/495 [00:57<05:04,  1.35it/s]\u001b[A\n",
      " 17%|█▋        | 86/495 [00:58<05:01,  1.35it/s]\u001b[A\n",
      " 18%|█▊        | 87/495 [00:59<05:10,  1.32it/s]\u001b[A\n",
      " 18%|█▊        | 88/495 [01:00<05:05,  1.33it/s]\u001b[A\n",
      " 18%|█▊        | 89/495 [01:00<05:03,  1.34it/s]\u001b[A\n",
      " 18%|█▊        | 90/495 [01:01<04:53,  1.38it/s]\u001b[A\n",
      " 18%|█▊        | 91/495 [01:02<04:46,  1.41it/s]\u001b[A\n",
      " 19%|█▊        | 92/495 [01:03<04:59,  1.35it/s]\u001b[A\n",
      " 19%|█▉        | 93/495 [01:03<04:46,  1.40it/s]\u001b[A\n",
      " 19%|█▉        | 94/495 [01:04<04:36,  1.45it/s]\u001b[A\n",
      " 19%|█▉        | 95/495 [01:04<04:29,  1.48it/s]\u001b[A\n",
      " 19%|█▉        | 96/495 [01:05<04:24,  1.51it/s]\u001b[A\n",
      " 20%|█▉        | 97/495 [01:06<04:20,  1.53it/s]\u001b[A\n",
      " 20%|█▉        | 98/495 [01:06<04:17,  1.54it/s]\u001b[A\n",
      " 20%|██        | 99/495 [01:07<04:25,  1.49it/s]\u001b[A\n",
      " 20%|██        | 100/495 [01:08<04:20,  1.52it/s]\u001b[A\n",
      " 20%|██        | 101/495 [01:08<04:17,  1.53it/s]\u001b[A\n",
      " 21%|██        | 102/495 [01:09<04:14,  1.54it/s]\u001b[A\n",
      " 21%|██        | 103/495 [01:10<04:12,  1.55it/s]\u001b[A\n",
      " 21%|██        | 104/495 [01:10<04:10,  1.56it/s]\u001b[A\n",
      " 21%|██        | 105/495 [01:11<04:09,  1.56it/s]\u001b[A\n",
      " 21%|██▏       | 106/495 [01:11<04:08,  1.57it/s]\u001b[A\n",
      " 22%|██▏       | 107/495 [01:12<04:07,  1.57it/s]\u001b[A\n",
      " 22%|██▏       | 108/495 [01:13<04:09,  1.55it/s]\u001b[A\n",
      " 22%|██▏       | 109/495 [01:13<04:09,  1.55it/s]\u001b[A\n",
      " 22%|██▏       | 110/495 [01:14<04:07,  1.55it/s]\u001b[A\n",
      " 22%|██▏       | 111/495 [01:15<04:16,  1.50it/s]\u001b[A\n",
      " 23%|██▎       | 112/495 [01:15<04:13,  1.51it/s]\u001b[A\n",
      " 23%|██▎       | 113/495 [01:16<04:10,  1.52it/s]\u001b[A\n",
      " 23%|██▎       | 114/495 [01:17<04:08,  1.53it/s]\u001b[A\n",
      " 23%|██▎       | 115/495 [01:17<04:06,  1.54it/s]\u001b[A\n",
      " 23%|██▎       | 116/495 [01:18<04:05,  1.54it/s]\u001b[A\n",
      " 24%|██▎       | 117/495 [01:19<04:04,  1.55it/s]\u001b[A\n",
      " 24%|██▍       | 118/495 [01:19<04:04,  1.54it/s]\u001b[A\n",
      " 24%|██▍       | 119/495 [01:20<04:03,  1.54it/s]\u001b[A\n",
      " 24%|██▍       | 120/495 [01:21<04:02,  1.55it/s]\u001b[A\n",
      " 24%|██▍       | 121/495 [01:21<04:01,  1.55it/s]\u001b[A\n",
      " 25%|██▍       | 122/495 [01:22<04:00,  1.55it/s]\u001b[A\n",
      " 25%|██▍       | 123/495 [01:23<04:08,  1.49it/s]\u001b[A\n",
      " 25%|██▌       | 124/495 [01:23<04:04,  1.52it/s]\u001b[A\n",
      " 25%|██▌       | 125/495 [01:24<04:01,  1.53it/s]\u001b[A\n",
      " 25%|██▌       | 126/495 [01:25<03:58,  1.54it/s]\u001b[A\n",
      " 26%|██▌       | 127/495 [01:25<03:57,  1.55it/s]\u001b[A\n",
      " 26%|██▌       | 128/495 [01:26<03:56,  1.55it/s]\u001b[A\n",
      " 26%|██▌       | 129/495 [01:26<03:55,  1.56it/s]\u001b[A\n",
      " 26%|██▋       | 130/495 [01:27<03:53,  1.56it/s]\u001b[A\n",
      " 26%|██▋       | 131/495 [01:28<03:52,  1.57it/s]\u001b[A\n",
      " 27%|██▋       | 132/495 [01:28<03:51,  1.57it/s]\u001b[A\n",
      " 27%|██▋       | 133/495 [01:29<03:50,  1.57it/s]\u001b[A\n",
      " 27%|██▋       | 134/495 [01:30<03:48,  1.58it/s]\u001b[A\n",
      " 27%|██▋       | 135/495 [01:30<03:55,  1.53it/s]\u001b[A\n",
      " 27%|██▋       | 136/495 [01:31<03:52,  1.54it/s]\u001b[A\n",
      " 28%|██▊       | 137/495 [01:32<03:51,  1.55it/s]\u001b[A\n",
      " 28%|██▊       | 138/495 [01:32<03:49,  1.55it/s]\u001b[A\n",
      " 28%|██▊       | 139/495 [01:33<03:49,  1.55it/s]\u001b[A\n",
      " 28%|██▊       | 140/495 [01:34<03:48,  1.56it/s]\u001b[A\n",
      " 28%|██▊       | 141/495 [01:34<03:47,  1.56it/s]\u001b[A\n",
      " 29%|██▊       | 142/495 [01:35<03:46,  1.56it/s]\u001b[A\n",
      " 29%|██▉       | 143/495 [01:35<03:45,  1.56it/s]\u001b[A\n",
      " 29%|██▉       | 144/495 [01:36<03:45,  1.56it/s]\u001b[A\n",
      " 29%|██▉       | 145/495 [01:37<03:46,  1.54it/s]\u001b[A\n",
      " 29%|██▉       | 146/495 [01:37<03:45,  1.55it/s]\u001b[A\n",
      " 30%|██▉       | 147/495 [01:38<03:52,  1.50it/s]\u001b[A\n",
      " 30%|██▉       | 148/495 [01:39<04:13,  1.37it/s]\u001b[A\n",
      " 30%|███       | 149/495 [01:40<04:02,  1.43it/s]\u001b[A\n",
      " 30%|███       | 150/495 [01:40<03:53,  1.47it/s]\u001b[A\n",
      " 31%|███       | 151/495 [01:41<03:47,  1.51it/s]\u001b[A\n",
      " 31%|███       | 152/495 [01:41<03:43,  1.53it/s]\u001b[A\n",
      " 31%|███       | 153/495 [01:43<04:27,  1.28it/s]\u001b[A\n",
      " 31%|███       | 154/495 [01:44<05:00,  1.14it/s]\u001b[A\n",
      " 31%|███▏      | 155/495 [01:45<05:07,  1.11it/s]\u001b[A\n",
      " 32%|███▏      | 156/495 [01:46<05:27,  1.04it/s]\u001b[A\n",
      " 32%|███▏      | 157/495 [01:47<05:16,  1.07it/s]\u001b[A\n",
      " 32%|███▏      | 158/495 [01:47<04:49,  1.16it/s]\u001b[A\n",
      " 32%|███▏      | 159/495 [01:48<04:39,  1.20it/s]\u001b[A\n",
      " 32%|███▏      | 160/495 [01:49<04:25,  1.26it/s]\u001b[A\n",
      " 33%|███▎      | 161/495 [01:49<04:16,  1.30it/s]\u001b[A\n",
      " 33%|███▎      | 162/495 [01:50<04:07,  1.35it/s]\u001b[A\n",
      " 33%|███▎      | 163/495 [01:51<04:00,  1.38it/s]\u001b[A\n",
      " 33%|███▎      | 164/495 [01:51<03:52,  1.43it/s]\u001b[A\n",
      " 33%|███▎      | 165/495 [01:52<03:45,  1.46it/s]\u001b[A\n",
      " 34%|███▎      | 166/495 [01:53<03:41,  1.48it/s]\u001b[A\n",
      " 34%|███▎      | 167/495 [01:53<03:38,  1.50it/s]\u001b[A\n",
      " 34%|███▍      | 168/495 [01:54<03:35,  1.51it/s]\u001b[A\n",
      " 34%|███▍      | 169/495 [01:55<03:55,  1.39it/s]\u001b[A\n",
      " 34%|███▍      | 170/495 [01:56<03:46,  1.43it/s]\u001b[A\n",
      " 35%|███▍      | 171/495 [01:56<03:49,  1.41it/s]\u001b[A\n",
      " 35%|███▍      | 172/495 [01:57<03:42,  1.45it/s]\u001b[A\n",
      " 35%|███▍      | 173/495 [01:58<03:36,  1.48it/s]\u001b[A\n",
      " 35%|███▌      | 174/495 [01:58<03:38,  1.47it/s]\u001b[A\n",
      " 35%|███▌      | 175/495 [01:59<03:34,  1.49it/s]\u001b[A\n",
      " 36%|███▌      | 176/495 [02:00<03:30,  1.52it/s]\u001b[A\n",
      " 36%|███▌      | 177/495 [02:00<03:27,  1.53it/s]\u001b[A\n",
      " 36%|███▌      | 178/495 [02:01<03:25,  1.54it/s]\u001b[A\n",
      " 36%|███▌      | 179/495 [02:01<03:24,  1.55it/s]\u001b[A\n",
      " 36%|███▋      | 180/495 [02:02<03:25,  1.53it/s]\u001b[A\n",
      " 37%|███▋      | 181/495 [02:03<03:24,  1.54it/s]\u001b[A\n",
      " 37%|███▋      | 182/495 [02:03<03:23,  1.54it/s]\u001b[A\n",
      " 37%|███▋      | 183/495 [02:04<03:28,  1.50it/s]\u001b[A\n",
      " 37%|███▋      | 184/495 [02:05<03:26,  1.51it/s]\u001b[A\n",
      " 37%|███▋      | 185/495 [02:05<03:25,  1.51it/s]\u001b[A\n",
      " 38%|███▊      | 186/495 [02:06<03:23,  1.52it/s]\u001b[A\n",
      " 38%|███▊      | 187/495 [02:07<03:22,  1.52it/s]\u001b[A\n",
      " 38%|███▊      | 188/495 [02:07<03:21,  1.52it/s]\u001b[A\n",
      " 38%|███▊      | 189/495 [02:08<03:20,  1.53it/s]\u001b[A\n",
      " 38%|███▊      | 190/495 [02:09<03:18,  1.54it/s]\u001b[A\n",
      " 39%|███▊      | 191/495 [02:09<03:16,  1.54it/s]\u001b[A\n",
      " 39%|███▉      | 192/495 [02:10<03:14,  1.56it/s]\u001b[A\n",
      " 39%|███▉      | 193/495 [02:11<03:13,  1.56it/s]\u001b[A\n",
      " 39%|███▉      | 194/495 [02:11<03:12,  1.56it/s]\u001b[A\n",
      " 39%|███▉      | 195/495 [02:12<03:19,  1.50it/s]\u001b[A\n",
      " 40%|███▉      | 196/495 [02:13<03:16,  1.52it/s]\u001b[A\n",
      " 40%|███▉      | 197/495 [02:13<03:14,  1.54it/s]\u001b[A\n",
      " 40%|████      | 198/495 [02:14<03:12,  1.55it/s]\u001b[A\n",
      " 40%|████      | 199/495 [02:15<03:10,  1.55it/s]\u001b[A\n",
      " 40%|████      | 200/495 [02:15<03:09,  1.56it/s]\u001b[A\n",
      " 41%|████      | 201/495 [02:16<03:08,  1.56it/s]\u001b[A\n",
      " 41%|████      | 202/495 [02:17<03:10,  1.53it/s]\u001b[A\n",
      " 41%|████      | 203/495 [02:17<03:09,  1.54it/s]\u001b[A\n",
      " 41%|████      | 204/495 [02:18<03:08,  1.55it/s]\u001b[A\n",
      " 41%|████▏     | 205/495 [02:18<03:06,  1.55it/s]\u001b[A\n",
      " 42%|████▏     | 206/495 [02:19<03:06,  1.55it/s]\u001b[A\n",
      " 42%|████▏     | 207/495 [02:20<03:13,  1.48it/s]\u001b[A\n",
      " 42%|████▏     | 208/495 [02:20<03:11,  1.50it/s]\u001b[A\n",
      " 42%|████▏     | 209/495 [02:21<03:08,  1.51it/s]\u001b[A\n",
      " 42%|████▏     | 210/495 [02:22<03:28,  1.37it/s]\u001b[A\n",
      " 43%|████▎     | 211/495 [02:23<03:20,  1.42it/s]\u001b[A\n",
      " 43%|████▎     | 212/495 [02:23<03:15,  1.45it/s]\u001b[A\n",
      " 43%|████▎     | 213/495 [02:24<03:11,  1.47it/s]\u001b[A\n",
      " 43%|████▎     | 214/495 [02:25<03:08,  1.49it/s]\u001b[A\n",
      " 43%|████▎     | 215/495 [02:25<03:05,  1.51it/s]\u001b[A\n",
      " 44%|████▎     | 216/495 [02:26<03:03,  1.52it/s]\u001b[A\n",
      " 44%|████▍     | 217/495 [02:27<03:02,  1.53it/s]\u001b[A\n",
      " 44%|████▍     | 218/495 [02:27<03:00,  1.53it/s]\u001b[A\n",
      " 44%|████▍     | 219/495 [02:28<02:59,  1.54it/s]\u001b[A\n",
      " 44%|████▍     | 220/495 [02:29<03:05,  1.49it/s]\u001b[A\n",
      " 45%|████▍     | 221/495 [02:29<03:01,  1.51it/s]\u001b[A\n",
      " 45%|████▍     | 222/495 [02:30<02:59,  1.52it/s]\u001b[A\n",
      " 45%|████▌     | 223/495 [02:30<02:57,  1.54it/s]\u001b[A\n",
      " 45%|████▌     | 224/495 [02:31<02:55,  1.54it/s]\u001b[A\n",
      " 45%|████▌     | 225/495 [02:32<02:54,  1.55it/s]\u001b[A\n",
      " 46%|████▌     | 226/495 [02:32<02:53,  1.55it/s]\u001b[A\n",
      " 46%|████▌     | 227/495 [02:33<02:52,  1.55it/s]\u001b[A\n",
      " 46%|████▌     | 228/495 [02:34<03:12,  1.39it/s]\u001b[A\n",
      " 46%|████▋     | 229/495 [02:35<03:05,  1.44it/s]\u001b[A\n",
      " 46%|████▋     | 230/495 [02:35<03:00,  1.47it/s]\u001b[A\n",
      " 47%|████▋     | 231/495 [02:36<02:59,  1.47it/s]\u001b[A\n",
      " 47%|████▋     | 232/495 [02:37<03:01,  1.45it/s]\u001b[A\n",
      " 47%|████▋     | 233/495 [02:37<02:56,  1.48it/s]\u001b[A\n",
      " 47%|████▋     | 234/495 [02:38<02:53,  1.50it/s]\u001b[A\n",
      " 47%|████▋     | 235/495 [02:39<02:51,  1.52it/s]\u001b[A\n",
      " 48%|████▊     | 236/495 [02:39<03:09,  1.37it/s]\u001b[A\n",
      " 48%|████▊     | 237/495 [02:40<03:00,  1.43it/s]\u001b[A\n",
      " 48%|████▊     | 238/495 [02:41<02:54,  1.47it/s]\u001b[A\n",
      " 48%|████▊     | 239/495 [02:41<02:50,  1.50it/s]\u001b[A\n",
      " 48%|████▊     | 240/495 [02:42<02:47,  1.53it/s]\u001b[A\n",
      " 49%|████▊     | 241/495 [02:43<03:05,  1.37it/s]\u001b[A\n",
      " 49%|████▉     | 242/495 [02:44<02:57,  1.43it/s]\u001b[A\n",
      " 49%|████▉     | 243/495 [02:44<03:10,  1.32it/s]\u001b[A\n",
      " 49%|████▉     | 244/495 [02:45<03:07,  1.34it/s]\u001b[A\n",
      " 49%|████▉     | 245/495 [02:46<02:58,  1.40it/s]\u001b[A\n",
      " 50%|████▉     | 246/495 [02:46<02:51,  1.45it/s]\u001b[A\n",
      " 50%|████▉     | 247/495 [02:47<02:46,  1.49it/s]\u001b[A\n",
      " 50%|█████     | 248/495 [02:48<02:43,  1.51it/s]\u001b[A\n",
      " 50%|█████     | 249/495 [02:48<02:41,  1.53it/s]\u001b[A\n",
      " 51%|█████     | 250/495 [02:49<02:57,  1.38it/s]\u001b[A\n",
      " 51%|█████     | 251/495 [02:50<03:03,  1.33it/s]\u001b[A\n",
      " 51%|█████     | 252/495 [02:51<03:03,  1.32it/s]\u001b[A\n",
      " 51%|█████     | 253/495 [02:51<03:00,  1.34it/s]\u001b[A\n",
      " 51%|█████▏    | 254/495 [02:52<02:57,  1.35it/s]\u001b[A\n",
      " 52%|█████▏    | 255/495 [02:53<02:56,  1.36it/s]\u001b[A\n",
      " 52%|█████▏    | 256/495 [02:54<03:01,  1.31it/s]\u001b[A\n",
      " 52%|█████▏    | 257/495 [02:55<02:59,  1.33it/s]\u001b[A\n",
      " 52%|█████▏    | 258/495 [02:55<02:58,  1.32it/s]\u001b[A\n",
      " 52%|█████▏    | 259/495 [02:56<02:58,  1.33it/s]\u001b[A\n",
      " 53%|█████▎    | 260/495 [02:57<02:56,  1.33it/s]\u001b[A\n",
      " 53%|█████▎    | 261/495 [02:57<02:54,  1.34it/s]\u001b[A\n",
      " 53%|█████▎    | 262/495 [02:58<02:52,  1.35it/s]\u001b[A\n",
      " 53%|█████▎    | 263/495 [02:59<02:50,  1.36it/s]\u001b[A\n",
      " 53%|█████▎    | 264/495 [03:00<02:49,  1.36it/s]\u001b[A\n",
      " 54%|█████▎    | 265/495 [03:00<02:48,  1.36it/s]\u001b[A\n",
      " 54%|█████▎    | 266/495 [03:01<02:47,  1.37it/s]\u001b[A\n",
      " 54%|█████▍    | 267/495 [03:02<02:46,  1.37it/s]\u001b[A\n",
      " 54%|█████▍    | 268/495 [03:03<02:46,  1.36it/s]\u001b[A\n",
      " 54%|█████▍    | 269/495 [03:03<02:52,  1.31it/s]\u001b[A\n",
      " 55%|█████▍    | 270/495 [03:04<02:50,  1.32it/s]\u001b[A\n",
      " 55%|█████▍    | 271/495 [03:05<02:47,  1.34it/s]\u001b[A\n",
      " 55%|█████▍    | 272/495 [03:06<02:46,  1.34it/s]\u001b[A\n",
      " 55%|█████▌    | 273/495 [03:06<02:44,  1.35it/s]\u001b[A\n",
      " 55%|█████▌    | 274/495 [03:07<02:42,  1.36it/s]\u001b[A\n",
      " 56%|█████▌    | 275/495 [03:08<02:41,  1.36it/s]\u001b[A\n",
      " 56%|█████▌    | 276/495 [03:09<02:40,  1.37it/s]\u001b[A\n",
      " 56%|█████▌    | 277/495 [03:09<02:39,  1.37it/s]\u001b[A\n",
      " 56%|█████▌    | 278/495 [03:10<02:37,  1.37it/s]\u001b[A\n",
      " 56%|█████▋    | 279/495 [03:11<02:36,  1.38it/s]\u001b[A\n",
      " 57%|█████▋    | 280/495 [03:11<02:36,  1.38it/s]\u001b[A\n",
      " 57%|█████▋    | 281/495 [03:12<02:35,  1.38it/s]\u001b[A\n",
      " 57%|█████▋    | 282/495 [03:13<02:39,  1.33it/s]\u001b[A\n",
      " 57%|█████▋    | 283/495 [03:14<02:37,  1.35it/s]\u001b[A\n",
      " 57%|█████▋    | 284/495 [03:14<02:35,  1.36it/s]\u001b[A\n",
      " 58%|█████▊    | 285/495 [03:15<02:33,  1.37it/s]\u001b[A\n",
      " 58%|█████▊    | 286/495 [03:16<02:32,  1.37it/s]\u001b[A\n",
      " 58%|█████▊    | 287/495 [03:17<02:42,  1.28it/s]\u001b[A\n",
      " 58%|█████▊    | 288/495 [03:18<02:49,  1.22it/s]\u001b[A\n",
      " 58%|█████▊    | 289/495 [03:18<02:39,  1.29it/s]\u001b[A\n",
      " 59%|█████▊    | 290/495 [03:19<02:30,  1.36it/s]\u001b[A\n",
      " 59%|█████▉    | 291/495 [03:20<02:24,  1.41it/s]\u001b[A\n",
      " 59%|█████▉    | 292/495 [03:20<02:19,  1.45it/s]\u001b[A\n",
      " 59%|█████▉    | 293/495 [03:21<02:16,  1.48it/s]\u001b[A\n",
      " 59%|█████▉    | 294/495 [03:22<02:13,  1.50it/s]\u001b[A\n",
      " 60%|█████▉    | 295/495 [03:22<02:16,  1.46it/s]\u001b[A\n",
      " 60%|█████▉    | 296/495 [03:23<02:13,  1.49it/s]\u001b[A\n",
      " 60%|██████    | 297/495 [03:24<02:11,  1.51it/s]\u001b[A\n",
      " 60%|██████    | 298/495 [03:24<02:09,  1.53it/s]\u001b[A\n",
      " 60%|██████    | 299/495 [03:25<02:07,  1.54it/s]\u001b[A\n",
      " 61%|██████    | 300/495 [03:25<02:06,  1.55it/s]\u001b[A\n",
      " 61%|██████    | 301/495 [03:26<02:05,  1.55it/s]\u001b[A\n",
      " 61%|██████    | 302/495 [03:27<02:04,  1.55it/s]\u001b[A\n",
      " 61%|██████    | 303/495 [03:27<02:04,  1.55it/s]\u001b[A\n",
      " 61%|██████▏   | 304/495 [03:28<02:03,  1.55it/s]\u001b[A\n",
      " 62%|██████▏   | 305/495 [03:29<02:02,  1.55it/s]\u001b[A\n",
      " 62%|██████▏   | 306/495 [03:29<02:01,  1.55it/s]\u001b[A\n",
      " 62%|██████▏   | 307/495 [03:30<02:02,  1.54it/s]\u001b[A\n",
      " 62%|██████▏   | 308/495 [03:31<02:05,  1.49it/s]\u001b[A\n",
      " 62%|██████▏   | 309/495 [03:31<02:04,  1.49it/s]\u001b[A\n"
     ]
    },
    {
     "name": "stderr",
     "output_type": "stream",
     "text": [
      " 63%|██████▎   | 310/495 [03:32<02:02,  1.51it/s]\u001b[A\n",
      " 63%|██████▎   | 311/495 [03:33<02:01,  1.52it/s]\u001b[A\n",
      " 63%|██████▎   | 312/495 [03:33<01:59,  1.53it/s]\u001b[A\n",
      " 63%|██████▎   | 313/495 [03:34<01:57,  1.54it/s]\u001b[A\n",
      " 63%|██████▎   | 314/495 [03:35<01:56,  1.55it/s]\u001b[A\n",
      " 64%|██████▎   | 315/495 [03:35<01:55,  1.55it/s]\u001b[A\n",
      " 64%|██████▍   | 316/495 [03:36<01:54,  1.56it/s]\u001b[A\n",
      " 64%|██████▍   | 317/495 [03:37<01:54,  1.56it/s]\u001b[A\n",
      " 64%|██████▍   | 318/495 [03:37<01:53,  1.56it/s]\u001b[A\n",
      " 64%|██████▍   | 319/495 [03:38<01:52,  1.56it/s]\u001b[A\n",
      " 65%|██████▍   | 320/495 [03:38<01:52,  1.56it/s]\u001b[A\n",
      " 65%|██████▍   | 321/495 [03:39<01:56,  1.50it/s]\u001b[A\n",
      " 65%|██████▌   | 322/495 [03:40<01:54,  1.51it/s]\u001b[A\n",
      " 65%|██████▌   | 323/495 [03:40<01:52,  1.53it/s]\u001b[A\n",
      " 65%|██████▌   | 324/495 [03:41<02:03,  1.39it/s]\u001b[A\n",
      " 66%|██████▌   | 325/495 [03:42<02:11,  1.29it/s]\u001b[A\n",
      " 66%|██████▌   | 326/495 [03:43<02:09,  1.30it/s]\u001b[A\n",
      " 66%|██████▌   | 327/495 [03:44<02:07,  1.32it/s]\u001b[A\n",
      " 66%|██████▋   | 328/495 [03:44<02:05,  1.33it/s]\u001b[A\n",
      " 66%|██████▋   | 329/495 [03:45<02:03,  1.34it/s]\u001b[A\n",
      " 67%|██████▋   | 330/495 [03:46<02:02,  1.35it/s]\u001b[A\n",
      " 67%|██████▋   | 331/495 [03:47<02:01,  1.35it/s]\u001b[A\n",
      " 67%|██████▋   | 332/495 [03:47<01:59,  1.36it/s]\u001b[A\n",
      " 67%|██████▋   | 333/495 [03:48<01:58,  1.37it/s]\u001b[A\n",
      " 67%|██████▋   | 334/495 [03:49<02:01,  1.32it/s]\u001b[A\n",
      " 68%|██████▊   | 335/495 [03:50<01:59,  1.34it/s]\u001b[A\n",
      " 68%|██████▊   | 336/495 [03:50<01:57,  1.35it/s]\u001b[A\n",
      " 68%|██████▊   | 337/495 [03:51<01:56,  1.36it/s]\u001b[A\n",
      " 68%|██████▊   | 338/495 [03:52<01:55,  1.36it/s]\u001b[A\n",
      " 68%|██████▊   | 339/495 [03:53<01:53,  1.37it/s]\u001b[A\n",
      " 69%|██████▊   | 340/495 [03:53<01:52,  1.38it/s]\u001b[A\n",
      " 69%|██████▉   | 341/495 [03:54<01:51,  1.38it/s]\u001b[A\n",
      " 69%|██████▉   | 342/495 [03:55<01:50,  1.38it/s]\u001b[A\n",
      " 69%|██████▉   | 343/495 [03:55<01:50,  1.38it/s]\u001b[A\n",
      " 69%|██████▉   | 344/495 [03:56<01:50,  1.37it/s]\u001b[A\n",
      " 70%|██████▉   | 345/495 [03:57<01:48,  1.38it/s]\u001b[A\n",
      " 70%|██████▉   | 346/495 [03:58<01:48,  1.38it/s]\u001b[A\n",
      " 70%|███████   | 347/495 [03:58<01:50,  1.34it/s]\u001b[A\n",
      " 70%|███████   | 348/495 [03:59<01:49,  1.35it/s]\u001b[A\n",
      " 71%|███████   | 349/495 [04:00<01:47,  1.36it/s]\u001b[A\n",
      " 71%|███████   | 350/495 [04:01<01:46,  1.37it/s]\u001b[A\n",
      " 71%|███████   | 351/495 [04:01<01:45,  1.37it/s]\u001b[A\n",
      " 71%|███████   | 352/495 [04:02<01:44,  1.37it/s]\u001b[A\n",
      " 71%|███████▏  | 353/495 [04:03<01:43,  1.38it/s]\u001b[A\n",
      " 72%|███████▏  | 354/495 [04:03<01:42,  1.38it/s]\u001b[A\n",
      " 72%|███████▏  | 355/495 [04:04<01:41,  1.38it/s]\u001b[A\n",
      " 72%|███████▏  | 356/495 [04:05<01:40,  1.39it/s]\u001b[A\n",
      " 72%|███████▏  | 357/495 [04:06<01:39,  1.39it/s]\u001b[A\n",
      " 72%|███████▏  | 358/495 [04:06<01:38,  1.39it/s]\u001b[A\n",
      " 73%|███████▎  | 359/495 [04:07<01:45,  1.29it/s]\u001b[A\n",
      " 73%|███████▎  | 360/495 [04:08<01:43,  1.31it/s]\u001b[A\n",
      " 73%|███████▎  | 361/495 [04:09<01:37,  1.38it/s]\u001b[A\n",
      " 73%|███████▎  | 362/495 [04:09<01:34,  1.41it/s]\u001b[A\n",
      " 73%|███████▎  | 363/495 [04:10<01:30,  1.45it/s]\u001b[A\n",
      " 74%|███████▎  | 364/495 [04:11<01:28,  1.48it/s]\u001b[A\n",
      " 74%|███████▎  | 365/495 [04:11<01:26,  1.50it/s]\u001b[A\n",
      " 74%|███████▍  | 366/495 [04:12<01:25,  1.51it/s]\u001b[A\n",
      " 74%|███████▍  | 367/495 [04:13<01:24,  1.52it/s]\u001b[A\n",
      " 74%|███████▍  | 368/495 [04:13<01:22,  1.53it/s]\u001b[A\n",
      " 75%|███████▍  | 369/495 [04:14<01:21,  1.54it/s]\u001b[A\n",
      " 75%|███████▍  | 370/495 [04:14<01:20,  1.54it/s]\u001b[A\n",
      " 75%|███████▍  | 371/495 [04:15<01:20,  1.55it/s]\u001b[A\n",
      " 75%|███████▌  | 372/495 [04:16<01:19,  1.55it/s]\u001b[A\n",
      " 75%|███████▌  | 373/495 [04:16<01:18,  1.55it/s]\u001b[A\n",
      " 76%|███████▌  | 374/495 [04:17<01:21,  1.49it/s]\u001b[A\n",
      " 76%|███████▌  | 375/495 [04:18<01:28,  1.36it/s]\u001b[A\n",
      " 76%|███████▌  | 376/495 [04:19<01:24,  1.41it/s]\u001b[A\n",
      " 76%|███████▌  | 377/495 [04:19<01:21,  1.45it/s]\u001b[A\n",
      " 76%|███████▋  | 378/495 [04:20<01:27,  1.34it/s]\u001b[A\n",
      " 77%|███████▋  | 379/495 [04:21<01:22,  1.40it/s]\u001b[A\n",
      " 77%|███████▋  | 380/495 [04:21<01:19,  1.45it/s]\u001b[A\n",
      " 77%|███████▋  | 381/495 [04:22<01:16,  1.49it/s]\u001b[A\n",
      " 77%|███████▋  | 382/495 [04:23<01:14,  1.51it/s]\u001b[A\n",
      " 77%|███████▋  | 383/495 [04:23<01:13,  1.53it/s]\u001b[A\n",
      " 78%|███████▊  | 384/495 [04:24<01:12,  1.54it/s]\u001b[A\n",
      " 78%|███████▊  | 385/495 [04:25<01:11,  1.55it/s]\u001b[A\n",
      " 78%|███████▊  | 386/495 [04:25<01:12,  1.49it/s]\u001b[A\n",
      " 78%|███████▊  | 387/495 [04:26<01:11,  1.50it/s]\u001b[A\n",
      " 78%|███████▊  | 388/495 [04:27<01:10,  1.51it/s]\u001b[A\n",
      " 79%|███████▊  | 389/495 [04:27<01:09,  1.52it/s]\u001b[A\n",
      " 79%|███████▉  | 390/495 [04:28<01:08,  1.53it/s]\u001b[A\n",
      " 79%|███████▉  | 391/495 [04:29<01:07,  1.54it/s]\u001b[A\n",
      " 79%|███████▉  | 392/495 [04:29<01:06,  1.54it/s]\u001b[A\n",
      " 79%|███████▉  | 393/495 [04:30<01:06,  1.54it/s]\u001b[A\n",
      " 80%|███████▉  | 394/495 [04:31<01:05,  1.55it/s]\u001b[A\n",
      " 80%|███████▉  | 395/495 [04:31<01:04,  1.55it/s]\u001b[A\n",
      " 80%|████████  | 396/495 [04:32<01:04,  1.53it/s]\u001b[A\n",
      " 80%|████████  | 397/495 [04:33<01:03,  1.53it/s]\u001b[A\n",
      " 80%|████████  | 398/495 [04:33<01:03,  1.53it/s]\u001b[A\n",
      " 81%|████████  | 399/495 [04:34<01:05,  1.47it/s]\u001b[A\n",
      " 81%|████████  | 400/495 [04:35<01:03,  1.49it/s]\u001b[A\n",
      " 81%|████████  | 401/495 [04:35<01:02,  1.51it/s]\u001b[A\n",
      " 81%|████████  | 402/495 [04:36<01:00,  1.53it/s]\u001b[A\n",
      " 81%|████████▏ | 403/495 [04:36<00:59,  1.54it/s]\u001b[A\n",
      " 82%|████████▏ | 404/495 [04:37<00:58,  1.54it/s]\u001b[A\n",
      " 82%|████████▏ | 405/495 [04:38<00:58,  1.55it/s]\u001b[A\n",
      " 82%|████████▏ | 406/495 [04:38<00:57,  1.55it/s]\u001b[A\n",
      " 82%|████████▏ | 407/495 [04:39<01:04,  1.37it/s]\u001b[A\n",
      " 82%|████████▏ | 408/495 [04:40<01:01,  1.42it/s]\u001b[A\n",
      " 83%|████████▎ | 409/495 [04:41<01:08,  1.25it/s]\u001b[A\n",
      " 83%|████████▎ | 410/495 [04:42<01:05,  1.30it/s]\u001b[A\n",
      " 83%|████████▎ | 411/495 [04:42<01:01,  1.37it/s]\u001b[A\n",
      " 83%|████████▎ | 412/495 [04:43<01:07,  1.24it/s]\u001b[A\n",
      " 83%|████████▎ | 413/495 [04:44<01:02,  1.31it/s]\u001b[A\n",
      " 84%|████████▎ | 414/495 [04:45<00:59,  1.37it/s]\u001b[A\n",
      " 84%|████████▍ | 415/495 [04:45<00:56,  1.42it/s]\u001b[A\n",
      " 84%|████████▍ | 416/495 [04:46<01:00,  1.30it/s]\u001b[A\n",
      " 84%|████████▍ | 417/495 [04:47<00:57,  1.35it/s]\u001b[A\n",
      " 84%|████████▍ | 418/495 [04:48<00:54,  1.40it/s]\u001b[A\n",
      " 85%|████████▍ | 419/495 [04:48<00:52,  1.45it/s]\u001b[A\n",
      " 85%|████████▍ | 420/495 [04:49<00:50,  1.48it/s]\u001b[A\n",
      " 85%|████████▌ | 421/495 [04:49<00:49,  1.50it/s]\u001b[A\n",
      " 85%|████████▌ | 422/495 [04:50<00:48,  1.51it/s]\u001b[A\n",
      " 85%|████████▌ | 423/495 [04:51<00:47,  1.52it/s]\u001b[A\n",
      " 86%|████████▌ | 424/495 [04:51<00:46,  1.52it/s]\u001b[A\n",
      " 86%|████████▌ | 425/495 [04:52<00:47,  1.46it/s]\u001b[A\n",
      " 86%|████████▌ | 426/495 [04:53<00:46,  1.49it/s]\u001b[A\n",
      " 86%|████████▋ | 427/495 [04:53<00:45,  1.51it/s]\u001b[A\n",
      " 86%|████████▋ | 428/495 [04:54<00:44,  1.52it/s]\u001b[A\n",
      " 87%|████████▋ | 429/495 [04:55<00:43,  1.53it/s]\u001b[A\n",
      " 87%|████████▋ | 430/495 [04:55<00:42,  1.54it/s]\u001b[A\n",
      " 87%|████████▋ | 431/495 [04:56<00:41,  1.54it/s]\u001b[A\n",
      " 87%|████████▋ | 432/495 [04:57<00:41,  1.53it/s]\u001b[A\n",
      " 87%|████████▋ | 433/495 [04:57<00:40,  1.54it/s]\u001b[A\n",
      " 88%|████████▊ | 434/495 [04:58<00:39,  1.55it/s]\u001b[A\n",
      " 88%|████████▊ | 435/495 [04:59<00:38,  1.55it/s]\u001b[A\n",
      " 88%|████████▊ | 436/495 [04:59<00:38,  1.54it/s]\u001b[A\n",
      " 88%|████████▊ | 437/495 [05:00<00:37,  1.54it/s]\u001b[A\n",
      " 88%|████████▊ | 438/495 [05:01<00:38,  1.48it/s]\u001b[A\n",
      " 89%|████████▊ | 439/495 [05:01<00:37,  1.50it/s]\u001b[A\n",
      " 89%|████████▉ | 440/495 [05:02<00:36,  1.52it/s]\u001b[A\n",
      " 89%|████████▉ | 441/495 [05:03<00:35,  1.53it/s]\u001b[A\n",
      " 89%|████████▉ | 442/495 [05:03<00:34,  1.54it/s]\u001b[A\n",
      " 89%|████████▉ | 443/495 [05:04<00:33,  1.55it/s]\u001b[A\n",
      " 90%|████████▉ | 444/495 [05:04<00:32,  1.56it/s]\u001b[A\n",
      " 90%|████████▉ | 445/495 [05:05<00:32,  1.56it/s]\u001b[A\n",
      " 90%|█████████ | 446/495 [05:06<00:34,  1.40it/s]\u001b[A\n",
      " 90%|█████████ | 447/495 [05:07<00:32,  1.46it/s]\u001b[A\n",
      " 91%|█████████ | 448/495 [05:07<00:31,  1.50it/s]\u001b[A\n",
      " 91%|█████████ | 449/495 [05:08<00:30,  1.53it/s]\u001b[A\n",
      " 91%|█████████ | 450/495 [05:08<00:29,  1.55it/s]\u001b[A\n",
      " 91%|█████████ | 451/495 [05:09<00:29,  1.50it/s]\u001b[A\n",
      " 91%|█████████▏| 452/495 [05:10<00:28,  1.53it/s]\u001b[A\n",
      " 92%|█████████▏| 453/495 [05:10<00:27,  1.53it/s]\u001b[A\n",
      " 92%|█████████▏| 454/495 [05:11<00:26,  1.54it/s]\u001b[A\n",
      " 92%|█████████▏| 455/495 [05:12<00:25,  1.55it/s]\u001b[A\n",
      " 92%|█████████▏| 456/495 [05:12<00:25,  1.56it/s]\u001b[A\n",
      " 92%|█████████▏| 457/495 [05:13<00:24,  1.56it/s]\u001b[A\n",
      " 93%|█████████▎| 458/495 [05:14<00:23,  1.57it/s]\u001b[A\n",
      " 93%|█████████▎| 459/495 [05:14<00:22,  1.57it/s]\u001b[A\n",
      " 93%|█████████▎| 460/495 [05:15<00:22,  1.58it/s]\u001b[A\n",
      " 93%|█████████▎| 461/495 [05:16<00:21,  1.58it/s]\u001b[A\n",
      " 93%|█████████▎| 462/495 [05:16<00:22,  1.44it/s]\u001b[A\n",
      " 94%|█████████▎| 463/495 [05:17<00:22,  1.42it/s]\u001b[A\n",
      " 94%|█████████▎| 464/495 [05:18<00:22,  1.35it/s]\u001b[A\n",
      " 94%|█████████▍| 465/495 [05:19<00:22,  1.36it/s]\u001b[A\n",
      " 94%|█████████▍| 466/495 [05:19<00:21,  1.36it/s]\u001b[A\n",
      " 94%|█████████▍| 467/495 [05:20<00:20,  1.35it/s]\u001b[A\n",
      " 95%|█████████▍| 468/495 [05:21<00:19,  1.36it/s]\u001b[A\n",
      " 95%|█████████▍| 469/495 [05:22<00:19,  1.35it/s]\u001b[A\n",
      " 95%|█████████▍| 470/495 [05:22<00:18,  1.36it/s]\u001b[A\n",
      " 95%|█████████▌| 471/495 [05:23<00:17,  1.36it/s]\u001b[A\n",
      " 95%|█████████▌| 472/495 [05:24<00:16,  1.37it/s]\u001b[A\n",
      " 96%|█████████▌| 473/495 [05:25<00:16,  1.37it/s]\u001b[A\n",
      " 96%|█████████▌| 474/495 [05:25<00:15,  1.37it/s]\u001b[A\n",
      " 96%|█████████▌| 475/495 [05:26<00:14,  1.35it/s]\u001b[A\n",
      " 96%|█████████▌| 476/495 [05:27<00:14,  1.35it/s]\u001b[A\n",
      " 96%|█████████▋| 477/495 [05:28<00:13,  1.36it/s]\u001b[A\n",
      " 97%|█████████▋| 478/495 [05:28<00:12,  1.31it/s]\u001b[A\n",
      " 97%|█████████▋| 479/495 [05:29<00:12,  1.33it/s]\u001b[A\n",
      " 97%|█████████▋| 480/495 [05:30<00:11,  1.34it/s]\u001b[A\n",
      " 97%|█████████▋| 481/495 [05:30<00:10,  1.36it/s]\u001b[A\n",
      " 97%|█████████▋| 482/495 [05:31<00:09,  1.36it/s]\u001b[A\n",
      " 98%|█████████▊| 483/495 [05:32<00:08,  1.37it/s]\u001b[A\n",
      " 98%|█████████▊| 484/495 [05:33<00:08,  1.37it/s]\u001b[A\n",
      " 98%|█████████▊| 485/495 [05:33<00:07,  1.37it/s]\u001b[A\n",
      " 98%|█████████▊| 486/495 [05:34<00:06,  1.37it/s]\u001b[A\n",
      " 98%|█████████▊| 487/495 [05:35<00:05,  1.37it/s]\u001b[A\n",
      " 99%|█████████▊| 488/495 [05:36<00:05,  1.38it/s]\u001b[A\n",
      " 99%|█████████▉| 489/495 [05:36<00:04,  1.38it/s]\u001b[A\n",
      " 99%|█████████▉| 490/495 [05:37<00:03,  1.37it/s]\u001b[A\n",
      " 99%|█████████▉| 491/495 [05:38<00:02,  1.37it/s]\u001b[A\n",
      " 99%|█████████▉| 492/495 [05:39<00:02,  1.32it/s]\u001b[A\n",
      "100%|█████████▉| 493/495 [05:39<00:01,  1.33it/s]\u001b[A\n",
      "100%|█████████▉| 494/495 [05:40<00:00,  1.33it/s]\u001b[A\n",
      "100%|██████████| 495/495 [05:41<00:00,  1.45it/s]\u001b[A\n"
     ]
    }
   ],
   "source": [
    "pos_rankings_walmart,posTriangles_walmart,flippedPos_walmart,notFlippedPos_walmart = explainSamples(correctPredictions_walmart,[tableA_walmart,tableB_walmart],\n",
    "                                                          walmart_model,originalClass=1,maxLenAttributeSet=1)"
   ]
  },
  {
   "cell_type": "code",
   "execution_count": 42,
   "metadata": {
    "ExecuteTime": {
     "end_time": "2020-02-15T16:09:47.059910Z",
     "start_time": "2020-02-15T16:09:46.759091Z"
    }
   },
   "outputs": [
    {
     "data": {
      "image/png": "[encoded data removed]",
      "text/plain": [
       "<Figure size 360x360 with 1 Axes>"
      ]
     },
     "metadata": {
      "needs_background": "light"
     },
     "output_type": "display_data"
    }
   ],
   "source": [
    "plot,negrankings = aggregateRankings(rankings_walmart,positive=False,maxLenAttributes=1)"
   ]
  },
  {
   "cell_type": "code",
   "execution_count": 43,
   "metadata": {
    "ExecuteTime": {
     "end_time": "2020-02-15T16:09:48.084556Z",
     "start_time": "2020-02-15T16:09:47.786556Z"
    }
   },
   "outputs": [
    {
     "data": {
      "image/png": "[encoded data removed]",
      "text/plain": [
       "<Figure size 360x360 with 1 Axes>"
      ]
     },
     "metadata": {
      "needs_background": "light"
     },
     "output_type": "display_data"
    }
   ],
   "source": [
    "plot,posrankings = aggregateRankings(pos_rankings_walmart,positive=True,maxLenAttributes=1)"
   ]
  },
  {
   "cell_type": "markdown",
   "metadata": {},
   "source": [
    "### Mine patterns"
   ]
  },
  {
   "cell_type": "code",
   "execution_count": 44,
   "metadata": {
    "ExecuteTime": {
     "end_time": "2020-02-15T16:34:21.523606Z",
     "start_time": "2020-02-15T16:34:21.467361Z"
    }
   },
   "outputs": [
    {
     "data": {
      "text/plain": [
       "0.9366754617414248"
      ]
     },
     "execution_count": 44,
     "metadata": {},
     "output_type": "execute_result"
    }
   ],
   "source": [
    "modelnoIsEqual = 0\n",
    "df = flippedNeg_walmart[flippedNeg_walmart.alteredAttribute==('modelno',)]\n",
    "lmodelno = df.ltable_modelno.values\n",
    "rmodelno = df.rtable_modelno.values\n",
    "for l,r in zip(lmodelno,rmodelno):\n",
    "    if l==r :\n",
    "        modelnoIsEqual +=1\n",
    "modelnoIsEqual/len(lmodelno)"
   ]
  },
  {
   "cell_type": "markdown",
   "metadata": {},
   "source": [
    "## Amazon-Google"
   ]
  },
  {
   "cell_type": "code",
   "execution_count": 3,
   "metadata": {
    "ExecuteTime": {
     "end_time": "2020-02-16T17:29:50.305381Z",
     "start_time": "2020-02-16T17:29:50.238387Z"
    }
   },
   "outputs": [],
   "source": [
    "tableA_google = pd.read_csv('datasets/Structured/Amazon-Google/tableA.csv')\n",
    "tableB_google = pd.read_csv('datasets/Structured/Amazon-Google/tableB.csv')"
   ]
  },
  {
   "cell_type": "code",
   "execution_count": 4,
   "metadata": {
    "ExecuteTime": {
     "end_time": "2020-02-16T17:29:50.659761Z",
     "start_time": "2020-02-16T17:29:50.629072Z"
    }
   },
   "outputs": [],
   "source": [
    "GOOGLE_DIR = 'datasets/Structured/Amazon-Google/'"
   ]
  },
  {
   "cell_type": "code",
   "execution_count": 5,
   "metadata": {
    "ExecuteTime": {
     "end_time": "2020-02-16T17:29:50.974181Z",
     "start_time": "2020-02-16T17:29:50.874309Z"
    }
   },
   "outputs": [],
   "source": [
    "train_df,validation_df,test_df = generate_train_valid_test(GOOGLE_DIR,['train.csv','valid.csv','test.csv']\n",
    "                                                          ,left_prefix='ltable_',right_prefix='rtable_',\n",
    "                                                          drop_lrid=False)"
   ]
  },
  {
   "cell_type": "markdown",
   "metadata": {},
   "source": [
    "### RNN"
   ]
  },
  {
   "cell_type": "code",
   "execution_count": 6,
   "metadata": {
    "ExecuteTime": {
     "end_time": "2020-02-16T17:29:55.343292Z",
     "start_time": "2020-02-16T17:29:52.432213Z"
    }
   },
   "outputs": [],
   "source": [
    "google_rnn = dm.MatchingModel(attr_summarizer='rnn')\n",
    "google_rnn.load_state('models/amazongoogle_rnn.pth')\n",
    "google_rnn = google_rnn.to('cuda')"
   ]
  },
  {
   "cell_type": "code",
   "execution_count": 7,
   "metadata": {
    "ExecuteTime": {
     "end_time": "2020-02-16T17:30:21.762743Z",
     "start_time": "2020-02-16T17:30:05.565555Z"
    }
   },
   "outputs": [],
   "source": [
    "predictions = wrapDm(test_df,google_rnn,ignore_columns=['ltable_id','rtable_id','id','label'])\n",
    "tp_group = test_df[(predictions[:,1]>=0.5)& (test_df['label'] == 1)]\n",
    "tn_group = test_df[(predictions[:,0] >=0.5)& (test_df['label']==0)]"
   ]
  },
  {
   "cell_type": "code",
   "execution_count": 8,
   "metadata": {
    "ExecuteTime": {
     "end_time": "2020-02-16T17:30:21.798487Z",
     "start_time": "2020-02-16T17:30:21.764940Z"
    }
   },
   "outputs": [
    {
     "data": {
      "text/plain": [
       "(2099, 10)"
      ]
     },
     "execution_count": 8,
     "metadata": {},
     "output_type": "execute_result"
    }
   ],
   "source": [
    "correctPredictions_google = pd.concat([tp_group,tn_group])\n",
    "correctPredictions_google.shape"
   ]
  },
  {
   "cell_type": "code",
   "execution_count": 10,
   "metadata": {
    "ExecuteTime": {
     "end_time": "2020-02-16T17:32:52.179078Z",
     "start_time": "2020-02-16T17:31:31.781284Z"
    }
   },
   "outputs": [
    {
     "name": "stderr",
     "output_type": "stream",
     "text": [
      "100%|██████████| 426/426 [01:18<00:00,  5.41it/s]\n"
     ]
    }
   ],
   "source": [
    "negrankings_google,neg_triangles_google,flippedPredictions_neg_google,notFlipped_neg_google = explainSamples(correctPredictions_google,\n",
    "                                                          [tableA_google,tableB_google],google_rnn,originalClass=0,\n",
    "                                                                                       maxLenAttributeSet=2)"
   ]
  },
  {
   "cell_type": "code",
   "execution_count": 14,
   "metadata": {
    "ExecuteTime": {
     "end_time": "2020-02-16T17:33:32.445584Z",
     "start_time": "2020-02-16T17:33:32.124899Z"
    }
   },
   "outputs": [
    {
     "data": {
      "image/png": "[encoded data removed]",
      "text/plain": [
       "<Figure size 432x432 with 1 Axes>"
      ]
     },
     "metadata": {
      "needs_background": "light"
     },
     "output_type": "display_data"
    }
   ],
   "source": [
    "plot,negrank = aggregateRankings(negrankings_google,positive=False,maxLenAttributes=2)"
   ]
  },
  {
   "cell_type": "code",
   "execution_count": 15,
   "metadata": {
    "ExecuteTime": {
     "end_time": "2020-02-16T17:35:19.273365Z",
     "start_time": "2020-02-16T17:33:59.360289Z"
    }
   },
   "outputs": [
    {
     "name": "stderr",
     "output_type": "stream",
     "text": [
      "100%|██████████| 426/426 [01:18<00:00,  5.44it/s]\n"
     ]
    }
   ],
   "source": [
    "pos_rankings_google,pos_triangles_google,flipped_pos_google,notflipped_pos_google = explainSamples(correctPredictions_google,\n",
    "                                                          [tableA_google,tableB_google],google_rnn,originalClass=1,\n",
    "                                                                                                  maxLenAttributeSet=2)"
   ]
  },
  {
   "cell_type": "code",
   "execution_count": 17,
   "metadata": {
    "ExecuteTime": {
     "end_time": "2020-02-16T17:36:10.201381Z",
     "start_time": "2020-02-16T17:36:09.878614Z"
    }
   },
   "outputs": [
    {
     "data": {
      "image/png": "[encoded data removed]",
      "text/plain": [
       "<Figure size 432x432 with 1 Axes>"
      ]
     },
     "metadata": {
      "needs_background": "light"
     },
     "output_type": "display_data"
    }
   ],
   "source": [
    "plot,posrank = aggregateRankings(pos_rankings_google,positive=True,maxLenAttributes=2)"
   ]
  },
  {
   "cell_type": "markdown",
   "metadata": {},
   "source": [
    "### Mine patterns"
   ]
  },
  {
   "cell_type": "code",
   "execution_count": 42,
   "metadata": {
    "ExecuteTime": {
     "end_time": "2020-02-16T18:03:34.405990Z",
     "start_time": "2020-02-16T18:03:34.365102Z"
    }
   },
   "outputs": [
    {
     "data": {
      "text/plain": [
       "399.00     5\n",
       "29.99      4\n",
       "69.95      4\n",
       "299.99     4\n",
       "199.00     4\n",
       "          ..\n",
       "125.99     1\n",
       "23.53      1\n",
       "1025.99    1\n",
       "308.99     1\n",
       "39.92      1\n",
       "Name: rtable_price, Length: 84, dtype: int64"
      ]
     },
     "execution_count": 42,
     "metadata": {},
     "output_type": "execute_result"
    }
   ],
   "source": [
    "flippedOnPrice = flipped_pos_google[flipped_pos_google.alteredAttribute==('price',)]\n",
    "flippedOnPrice['rtable_price'].value_counts()"
   ]
  },
  {
   "cell_type": "code",
   "execution_count": 43,
   "metadata": {
    "ExecuteTime": {
     "end_time": "2020-02-16T18:04:02.302452Z",
     "start_time": "2020-02-16T18:04:02.261809Z"
    }
   },
   "outputs": [],
   "source": [
    "amazongoogle_train_pos = train_df[train_df.label==1]\n",
    "ltablePrices = amazongoogle_train_pos.ltable_price.values\n",
    "rtablePrices = amazongoogle_train_pos.rtable_price.values"
   ]
  },
  {
   "cell_type": "code",
   "execution_count": 50,
   "metadata": {
    "ExecuteTime": {
     "end_time": "2020-02-16T18:31:19.093014Z",
     "start_time": "2020-02-16T18:31:19.051997Z"
    }
   },
   "outputs": [
    {
     "data": {
      "text/plain": [
       "101"
      ]
     },
     "execution_count": 50,
     "metadata": {},
     "output_type": "execute_result"
    }
   ],
   "source": [
    "np.count_nonzero(train_df[train_df.label==0].ltable_price.values==399)"
   ]
  },
  {
   "cell_type": "code",
   "execution_count": 51,
   "metadata": {
    "ExecuteTime": {
     "end_time": "2020-02-16T18:31:32.805799Z",
     "start_time": "2020-02-16T18:31:32.769751Z"
    }
   },
   "outputs": [
    {
     "data": {
      "text/plain": [
       "0"
      ]
     },
     "execution_count": 51,
     "metadata": {},
     "output_type": "execute_result"
    }
   ],
   "source": [
    "np.count_nonzero(train_df[train_df.label==0].rtable_price.values==399)"
   ]
  },
  {
   "cell_type": "code",
   "execution_count": 49,
   "metadata": {
    "ExecuteTime": {
     "end_time": "2020-02-16T18:30:36.182353Z",
     "start_time": "2020-02-16T18:30:36.123913Z"
    }
   },
   "outputs": [
    {
     "data": {
      "text/plain": [
       "2"
      ]
     },
     "execution_count": 49,
     "metadata": {},
     "output_type": "execute_result"
    }
   ],
   "source": [
    "import numpy as np\n",
    "np.count_nonzero(ltablePrices == 399.00)"
   ]
  },
  {
   "cell_type": "code",
   "execution_count": 39,
   "metadata": {
    "ExecuteTime": {
     "end_time": "2020-02-16T18:02:07.514991Z",
     "start_time": "2020-02-16T18:02:07.473541Z"
    }
   },
   "outputs": [
    {
     "data": {
      "text/plain": [
       "99.95      14\n",
       "649.00     12\n",
       "219.99     11\n",
       "89.99      11\n",
       "199.00     10\n",
       "205.99      7\n",
       "19.99       7\n",
       "249.00      6\n",
       "239.99      5\n",
       "29.99       4\n",
       "499.99      4\n",
       "89.95       4\n",
       "998.95      3\n",
       "34.97       3\n",
       "1799.00     3\n",
       "17.97       2\n",
       "45.99       2\n",
       "699.00      2\n",
       "369.09      2\n",
       "1199.00     2\n",
       "699.99      1\n",
       "158.39      1\n",
       "299.95      1\n",
       "85.07       1\n",
       "119.99      1\n",
       "299.99      1\n",
       "499.00      1\n",
       "43.32       1\n",
       "18.97       1\n",
       "34.99       1\n",
       "399.00      1\n",
       "Name: ltable_price, dtype: int64"
      ]
     },
     "execution_count": 39,
     "metadata": {},
     "output_type": "execute_result"
    }
   ],
   "source": [
    "flippedOnPrice['ltable_price'].value_counts()"
   ]
  },
  {
   "cell_type": "markdown",
   "metadata": {},
   "source": [
    "#### Retrain model"
   ]
  },
  {
   "cell_type": "code",
   "execution_count": 25,
   "metadata": {
    "ExecuteTime": {
     "end_time": "2020-02-16T17:46:23.044000Z",
     "start_time": "2020-02-16T17:46:09.753029Z"
    }
   },
   "outputs": [],
   "source": [
    "train_predictions = wrapDm(train_df,google_rnn,ignore_columns=['ltable_id','rtable_id','id','label'])\n",
    "tp_group = train_df[(train_predictions[:,1]>=0.5)& train_df['label'] == 1]\n",
    "tn_group = train_df[(train_predictions[:,0] >=0.5)& train_df['label']==0]"
   ]
  },
  {
   "cell_type": "code",
   "execution_count": 26,
   "metadata": {
    "ExecuteTime": {
     "end_time": "2020-02-16T17:46:23.078633Z",
     "start_time": "2020-02-16T17:46:23.046209Z"
    }
   },
   "outputs": [],
   "source": [
    "correct_trainPred_google = pd.concat([tp_group,tn_group])\n",
    "correct_trainPred_google_sample = correct_trainPred_google.sample(frac=0.5)"
   ]
  },
  {
   "cell_type": "code",
   "execution_count": 27,
   "metadata": {
    "ExecuteTime": {
     "end_time": "2020-02-16T17:46:23.122325Z",
     "start_time": "2020-02-16T17:46:23.082063Z"
    }
   },
   "outputs": [
    {
     "ename": "TypeError",
     "evalue": "explainSamples() missing 1 required positional argument: 'maxLenAttributeSet'",
     "output_type": "error",
     "traceback": [
      "\u001b[0;31m---------------------------------------------------------------------------\u001b[0m",
      "\u001b[0;31mTypeError\u001b[0m                                 Traceback (most recent call last)",
      "\u001b[0;32m<ipython-input-27-2c62193b6857>\u001b[0m in \u001b[0;36m<module>\u001b[0;34m()\u001b[0m\n\u001b[1;32m      1\u001b[0m pos_rankings_train_google,pos_triangles_google,flippedPredictions_pos_google_train = explainSamples(correct_trainPred_google_sample,\n\u001b[0;32m----> 2\u001b[0;31m                                                           [tableA_google,tableB_google],google_rnn,originalClass=1)\n\u001b[0m",
      "\u001b[0;31mTypeError\u001b[0m: explainSamples() missing 1 required positional argument: 'maxLenAttributeSet'"
     ]
    }
   ],
   "source": [
    "pos_rankings_train_google,pos_triangles_google,flippedPredictions_pos_google_train = explainSamples(correct_trainPred_google_sample,\n",
    "                                                          [tableA_google,tableB_google],google_rnn,originalClass=1)"
   ]
  },
  {
   "cell_type": "code",
   "execution_count": 357,
   "metadata": {
    "ExecuteTime": {
     "end_time": "2020-02-06T19:04:51.826485Z",
     "start_time": "2020-02-06T19:04:51.791897Z"
    }
   },
   "outputs": [],
   "source": [
    "newTrainingSamples = flippedPredictions_pos_google_train[(flippedPredictions_pos_google_train.alteredAttribute==('price',))]"
   ]
  },
  {
   "cell_type": "code",
   "execution_count": 358,
   "metadata": {
    "ExecuteTime": {
     "end_time": "2020-02-06T19:04:52.517003Z",
     "start_time": "2020-02-06T19:04:52.467869Z"
    }
   },
   "outputs": [
    {
     "data": {
      "text/plain": [
       "(83, 10)"
      ]
     },
     "execution_count": 358,
     "metadata": {},
     "output_type": "execute_result"
    }
   ],
   "source": [
    "newTrain_correct = adjustNewTraining(newTrainingSamples)\n",
    "newTrain_correct.to_csv('datasets/Structured/Amazon-Google/mojito_newtrain.csv',index=False)\n",
    "newTrain_correct.shape"
   ]
  },
  {
   "cell_type": "code",
   "execution_count": 359,
   "metadata": {
    "ExecuteTime": {
     "end_time": "2020-02-06T19:04:54.924181Z",
     "start_time": "2020-02-06T19:04:54.811834Z"
    }
   },
   "outputs": [],
   "source": [
    "train_df,valid_df,test_df = generate_train_valid_test(GOOGLE_DIR,['train.csv','valid.csv','test.csv'],\n",
    "                                                     left_prefix='ltable_',right_prefix='rtable_',drop_lrid=False)"
   ]
  },
  {
   "cell_type": "code",
   "execution_count": 360,
   "metadata": {
    "ExecuteTime": {
     "end_time": "2020-02-06T19:04:56.024074Z",
     "start_time": "2020-02-06T19:04:55.829441Z"
    }
   },
   "outputs": [],
   "source": [
    "valid_df.to_csv(GOOGLE_DIR+'valid_withid.csv',index=False)\n",
    "test_df.to_csv(GOOGLE_DIR+'test_withid.csv',index=False)\n",
    "improved_train = pd.concat([train_df,newTrain_correct])\n",
    "improved_train.to_csv(GOOGLE_DIR+'improved_train_rnn.csv',index=False)"
   ]
  },
  {
   "cell_type": "code",
   "execution_count": 361,
   "metadata": {
    "ExecuteTime": {
     "end_time": "2020-02-06T19:05:14.003061Z",
     "start_time": "2020-02-06T19:05:04.922395Z"
    }
   },
   "outputs": [
    {
     "name": "stderr",
     "output_type": "stream",
     "text": [
      "WARNING:deepmatcher.data.dataset:Rebuilding data cache because: ['One or more data files have been modified.']\n",
      "\n",
      "Reading and processing data from \"datasets/Structured/Amazon-Google/improved_train_rnn.csv\"\n",
      "0% [############################# ] 100% | ETA: 00:00:00\n",
      "Reading and processing data from \"datasets/Structured/Amazon-Google/valid_withid.csv\"\n",
      "0% [############################# ] 100% | ETA: 00:00:00\n",
      "Reading and processing data from \"datasets/Structured/Amazon-Google/test_withid.csv\"\n",
      "0% [############################# ] 100% | ETA: 00:00:00\n",
      "Building vocabulary\n",
      "0% [#######] 100% | ETA: 00:00:00\n",
      "Total time elapsed: 00:00:00\n",
      "\n",
      "Computing principal components\n",
      "0% [#######] 100% | ETA: 00:00:00\n",
      "Total time elapsed: 00:00:02\n"
     ]
    }
   ],
   "source": [
    "train,validation,test = dm.data.process(GOOGLE_DIR,train='improved_train_rnn.csv',validation='valid_withid.csv',\n",
    "                                       test='test_withid.csv',cache='impr.pth',left_prefix='ltable_',\n",
    "                                       right_prefix='rtable_',ignore_columns=['ltable_id','rtable_id'])"
   ]
  },
  {
   "cell_type": "code",
   "execution_count": 362,
   "metadata": {
    "ExecuteTime": {
     "end_time": "2020-02-06T19:12:58.954768Z",
     "start_time": "2020-02-06T19:05:14.615786Z"
    }
   },
   "outputs": [
    {
     "name": "stdout",
     "output_type": "stream",
     "text": [
      "* Number of trainable parameters: 1762802\n",
      "===>  TRAIN Epoch 1\n"
     ]
    },
    {
     "name": "stderr",
     "output_type": "stream",
     "text": [
      "/home/nvidia/anaconda3/envs/torchenv/lib/python3.6/site-packages/torch/nn/functional.py:1932: UserWarning: reduction: 'mean' divides the total loss by both the batch size and the support size.'batchmean' divides only by the batch size, and aligns with the KL div math definition.'mean' will be changed to behave the same as 'batchmean' in the next major release.\n",
      "  warnings.warn(\"reduction: 'mean' divides the total loss by both the batch size and the support size.\"\n",
      "0% [██████████████████████████████] 100% | ETA: 00:00:00\n",
      "Total time elapsed: 00:00:14\n"
     ]
    },
    {
     "name": "stdout",
     "output_type": "stream",
     "text": [
      "Finished Epoch 1 || Run Time:    6.9 | Load Time:    7.5 || F1:  23.72 | Prec:  13.57 | Rec:  94.12 || Ex/s: 480.97\n",
      "\n",
      "===>  EVAL Epoch 1\n"
     ]
    },
    {
     "name": "stderr",
     "output_type": "stream",
     "text": [
      "0% [██████████████] 100% | ETA: 00:00:00\n",
      "Total time elapsed: 00:00:03\n"
     ]
    },
    {
     "name": "stdout",
     "output_type": "stream",
     "text": [
      "Finished Epoch 1 || Run Time:    0.9 | Load Time:    2.3 || F1:  32.50 | Prec:  20.37 | Rec:  80.34 || Ex/s: 721.08\n",
      "\n",
      "* Best F1: tensor(32.4978, device='cuda:0')\n",
      "Saving best model...\n",
      "Done.\n",
      "---------------------\n",
      "\n",
      "===>  TRAIN Epoch 2\n"
     ]
    },
    {
     "name": "stderr",
     "output_type": "stream",
     "text": [
      "0% [██████████████████████████████] 100% | ETA: 00:00:00\n",
      "Total time elapsed: 00:00:14\n"
     ]
    },
    {
     "name": "stdout",
     "output_type": "stream",
     "text": [
      "Finished Epoch 2 || Run Time:    6.9 | Load Time:    7.5 || F1:  35.91 | Prec:  22.06 | Rec:  96.55 || Ex/s: 482.33\n",
      "\n",
      "===>  EVAL Epoch 2\n"
     ]
    },
    {
     "name": "stderr",
     "output_type": "stream",
     "text": [
      "0% [██████████████] 100% | ETA: 00:00:00\n",
      "Total time elapsed: 00:00:03\n"
     ]
    },
    {
     "name": "stdout",
     "output_type": "stream",
     "text": [
      "Finished Epoch 2 || Run Time:    0.9 | Load Time:    2.3 || F1:  43.18 | Prec:  29.24 | Rec:  82.48 || Ex/s: 722.18\n",
      "\n",
      "* Best F1: tensor(43.1767, device='cuda:0')\n",
      "Saving best model...\n",
      "Done.\n",
      "---------------------\n",
      "\n",
      "===>  TRAIN Epoch 3\n"
     ]
    },
    {
     "name": "stderr",
     "output_type": "stream",
     "text": [
      "0% [██████████████████████████████] 100% | ETA: 00:00:00\n",
      "Total time elapsed: 00:00:14\n"
     ]
    },
    {
     "name": "stdout",
     "output_type": "stream",
     "text": [
      "Finished Epoch 3 || Run Time:    6.9 | Load Time:    7.5 || F1:  52.66 | Prec:  35.99 | Rec:  98.08 || Ex/s: 481.69\n",
      "\n",
      "===>  EVAL Epoch 3\n"
     ]
    },
    {
     "name": "stderr",
     "output_type": "stream",
     "text": [
      "0% [██████████████] 100% | ETA: 00:00:00\n",
      "Total time elapsed: 00:00:03\n"
     ]
    },
    {
     "name": "stdout",
     "output_type": "stream",
     "text": [
      "Finished Epoch 3 || Run Time:    0.9 | Load Time:    2.3 || F1:  53.53 | Prec:  40.35 | Rec:  79.49 || Ex/s: 717.49\n",
      "\n",
      "* Best F1: tensor(53.5252, device='cuda:0')\n",
      "Saving best model...\n",
      "Done.\n",
      "---------------------\n",
      "\n",
      "===>  TRAIN Epoch 4\n"
     ]
    },
    {
     "name": "stderr",
     "output_type": "stream",
     "text": [
      "0% [██████████████████████████████] 100% | ETA: 00:00:00\n",
      "Total time elapsed: 00:00:14\n"
     ]
    },
    {
     "name": "stdout",
     "output_type": "stream",
     "text": [
      "Finished Epoch 4 || Run Time:    6.9 | Load Time:    7.5 || F1:  67.10 | Prec:  50.82 | Rec:  98.72 || Ex/s: 481.66\n",
      "\n",
      "===>  EVAL Epoch 4\n"
     ]
    },
    {
     "name": "stderr",
     "output_type": "stream",
     "text": [
      "0% [██████████████] 100% | ETA: 00:00:00\n",
      "Total time elapsed: 00:00:03\n"
     ]
    },
    {
     "name": "stdout",
     "output_type": "stream",
     "text": [
      "Finished Epoch 4 || Run Time:    0.9 | Load Time:    2.3 || F1:  52.28 | Prec:  38.65 | Rec:  80.77 || Ex/s: 720.92\n",
      "\n",
      "---------------------\n",
      "\n",
      "===>  TRAIN Epoch 5\n"
     ]
    },
    {
     "name": "stderr",
     "output_type": "stream",
     "text": [
      "0% [██████████████████████████████] 100% | ETA: 00:00:00\n",
      "Total time elapsed: 00:00:14\n"
     ]
    },
    {
     "name": "stdout",
     "output_type": "stream",
     "text": [
      "Finished Epoch 5 || Run Time:    7.0 | Load Time:    7.5 || F1:  77.96 | Prec:  64.09 | Rec:  99.49 || Ex/s: 479.31\n",
      "\n",
      "===>  EVAL Epoch 5\n"
     ]
    },
    {
     "name": "stderr",
     "output_type": "stream",
     "text": [
      "0% [██████████████] 100% | ETA: 00:00:00\n",
      "Total time elapsed: 00:00:03\n"
     ]
    },
    {
     "name": "stdout",
     "output_type": "stream",
     "text": [
      "Finished Epoch 5 || Run Time:    0.9 | Load Time:    2.3 || F1:  56.42 | Prec:  43.35 | Rec:  80.77 || Ex/s: 721.76\n",
      "\n",
      "* Best F1: tensor(56.4179, device='cuda:0')\n",
      "Saving best model...\n",
      "Done.\n",
      "---------------------\n",
      "\n",
      "===>  TRAIN Epoch 6\n"
     ]
    },
    {
     "name": "stderr",
     "output_type": "stream",
     "text": [
      "0% [██████████████████████████████] 100% | ETA: 00:00:00\n",
      "Total time elapsed: 00:00:14\n"
     ]
    },
    {
     "name": "stdout",
     "output_type": "stream",
     "text": [
      "Finished Epoch 6 || Run Time:    6.9 | Load Time:    7.5 || F1:  85.76 | Prec:  75.22 | Rec:  99.74 || Ex/s: 481.84\n",
      "\n",
      "===>  EVAL Epoch 6\n"
     ]
    },
    {
     "name": "stderr",
     "output_type": "stream",
     "text": [
      "0% [██████████████] 100% | ETA: 00:00:00\n",
      "Total time elapsed: 00:00:03\n"
     ]
    },
    {
     "name": "stdout",
     "output_type": "stream",
     "text": [
      "Finished Epoch 6 || Run Time:    0.9 | Load Time:    2.3 || F1:  58.88 | Prec:  47.86 | Rec:  76.50 || Ex/s: 711.58\n",
      "\n",
      "* Best F1: tensor(58.8816, device='cuda:0')\n",
      "Saving best model...\n",
      "Done.\n",
      "---------------------\n",
      "\n",
      "===>  TRAIN Epoch 7\n"
     ]
    },
    {
     "name": "stderr",
     "output_type": "stream",
     "text": [
      "0% [██████████████████████████████] 100% | ETA: 00:00:00\n",
      "Total time elapsed: 00:00:14\n"
     ]
    },
    {
     "name": "stdout",
     "output_type": "stream",
     "text": [
      "Finished Epoch 7 || Run Time:    6.9 | Load Time:    7.5 || F1:  89.97 | Prec:  81.93 | Rec:  99.74 || Ex/s: 481.75\n",
      "\n",
      "===>  EVAL Epoch 7\n"
     ]
    },
    {
     "name": "stderr",
     "output_type": "stream",
     "text": [
      "0% [██████████████] 100% | ETA: 00:00:00\n",
      "Total time elapsed: 00:00:03\n"
     ]
    },
    {
     "name": "stdout",
     "output_type": "stream",
     "text": [
      "Finished Epoch 7 || Run Time:    0.9 | Load Time:    2.3 || F1:  59.41 | Prec:  55.35 | Rec:  64.10 || Ex/s: 719.16\n",
      "\n",
      "* Best F1: tensor(59.4059, device='cuda:0')\n",
      "Saving best model...\n",
      "Done.\n",
      "---------------------\n",
      "\n",
      "===>  TRAIN Epoch 8\n"
     ]
    },
    {
     "name": "stderr",
     "output_type": "stream",
     "text": [
      "0% [██████████████████████████████] 100% | ETA: 00:00:00\n",
      "Total time elapsed: 00:00:22\n"
     ]
    },
    {
     "name": "stdout",
     "output_type": "stream",
     "text": [
      "Finished Epoch 8 || Run Time:   11.8 | Load Time:   10.9 || F1:  92.00 | Prec:  85.19 | Rec: 100.00 || Ex/s: 306.60\n",
      "\n",
      "===>  EVAL Epoch 8\n"
     ]
    },
    {
     "name": "stderr",
     "output_type": "stream",
     "text": [
      "0% [██████████████] 100% | ETA: 00:00:00\n",
      "Total time elapsed: 00:00:03\n"
     ]
    },
    {
     "name": "stdout",
     "output_type": "stream",
     "text": [
      "Finished Epoch 8 || Run Time:    1.0 | Load Time:    2.4 || F1:  58.15 | Prec:  53.82 | Rec:  63.25 || Ex/s: 673.70\n",
      "\n",
      "---------------------\n",
      "\n",
      "===>  TRAIN Epoch 9\n"
     ]
    },
    {
     "name": "stderr",
     "output_type": "stream",
     "text": [
      "0% [██████████████████████████████] 100% | ETA: 00:00:00\n",
      "Total time elapsed: 00:00:22\n"
     ]
    },
    {
     "name": "stdout",
     "output_type": "stream",
     "text": [
      "Finished Epoch 9 || Run Time:   11.8 | Load Time:   10.7 || F1:  93.71 | Prec:  88.16 | Rec: 100.00 || Ex/s: 309.06\n",
      "\n",
      "===>  EVAL Epoch 9\n"
     ]
    },
    {
     "name": "stderr",
     "output_type": "stream",
     "text": [
      "0% [██████████████] 100% | ETA: 00:00:00\n",
      "Total time elapsed: 00:00:03\n"
     ]
    },
    {
     "name": "stdout",
     "output_type": "stream",
     "text": [
      "Finished Epoch 9 || Run Time:    0.9 | Load Time:    2.3 || F1:  59.29 | Prec:  55.15 | Rec:  64.10 || Ex/s: 725.90\n",
      "\n",
      "---------------------\n",
      "\n",
      "===>  TRAIN Epoch 10\n"
     ]
    },
    {
     "name": "stderr",
     "output_type": "stream",
     "text": [
      "0% [██████████████████████████████] 100% | ETA: 00:00:00\n",
      "Total time elapsed: 00:00:22\n"
     ]
    },
    {
     "name": "stdout",
     "output_type": "stream",
     "text": [
      "Finished Epoch 10 || Run Time:   12.2 | Load Time:   11.0 || F1:  94.56 | Prec:  89.68 | Rec: 100.00 || Ex/s: 299.83\n",
      "\n",
      "===>  EVAL Epoch 10\n"
     ]
    },
    {
     "name": "stderr",
     "output_type": "stream",
     "text": [
      "0% [██████████████] 100% | ETA: 00:00:00\n",
      "Total time elapsed: 00:00:03\n"
     ]
    },
    {
     "name": "stdout",
     "output_type": "stream",
     "text": [
      "Finished Epoch 10 || Run Time:    0.9 | Load Time:    2.3 || F1:  57.20 | Prec:  53.76 | Rec:  61.11 || Ex/s: 720.54\n",
      "\n",
      "---------------------\n",
      "\n",
      "===>  TRAIN Epoch 11\n"
     ]
    },
    {
     "name": "stderr",
     "output_type": "stream",
     "text": [
      "0% [██████████████████████████████] 100% | ETA: 00:00:00\n",
      "Total time elapsed: 00:00:22\n"
     ]
    },
    {
     "name": "stdout",
     "output_type": "stream",
     "text": [
      "Finished Epoch 11 || Run Time:   12.1 | Load Time:   10.9 || F1:  95.77 | Prec:  91.89 | Rec: 100.00 || Ex/s: 303.63\n",
      "\n",
      "===>  EVAL Epoch 11\n"
     ]
    },
    {
     "name": "stderr",
     "output_type": "stream",
     "text": [
      "0% [██████████████] 100% | ETA: 00:00:00\n",
      "Total time elapsed: 00:00:03\n"
     ]
    },
    {
     "name": "stdout",
     "output_type": "stream",
     "text": [
      "Finished Epoch 11 || Run Time:    1.0 | Load Time:    2.5 || F1:  57.95 | Prec:  54.75 | Rec:  61.54 || Ex/s: 670.45\n",
      "\n",
      "---------------------\n",
      "\n",
      "===>  TRAIN Epoch 12\n"
     ]
    },
    {
     "name": "stderr",
     "output_type": "stream",
     "text": [
      "0% [██████████████████████████████] 100% | ETA: 00:00:00\n",
      "Total time elapsed: 00:00:22\n"
     ]
    },
    {
     "name": "stdout",
     "output_type": "stream",
     "text": [
      "Finished Epoch 12 || Run Time:   12.2 | Load Time:   11.1 || F1:  96.42 | Prec:  93.10 | Rec: 100.00 || Ex/s: 298.88\n",
      "\n",
      "===>  EVAL Epoch 12\n"
     ]
    },
    {
     "name": "stderr",
     "output_type": "stream",
     "text": [
      "0% [██████████████] 100% | ETA: 00:00:00\n",
      "Total time elapsed: 00:00:03\n"
     ]
    },
    {
     "name": "stdout",
     "output_type": "stream",
     "text": [
      "Finished Epoch 12 || Run Time:    1.0 | Load Time:    2.5 || F1:  58.12 | Prec:  54.72 | Rec:  61.97 || Ex/s: 672.40\n",
      "\n",
      "---------------------\n",
      "\n",
      "===>  TRAIN Epoch 13\n"
     ]
    },
    {
     "name": "stderr",
     "output_type": "stream",
     "text": [
      "0% [██████████████████████████████] 100% | ETA: 00:00:00\n",
      "Total time elapsed: 00:00:21\n"
     ]
    },
    {
     "name": "stdout",
     "output_type": "stream",
     "text": [
      "Finished Epoch 13 || Run Time:   11.4 | Load Time:   10.1 || F1:  96.90 | Prec:  93.99 | Rec: 100.00 || Ex/s: 324.54\n",
      "\n",
      "===>  EVAL Epoch 13\n"
     ]
    },
    {
     "name": "stderr",
     "output_type": "stream",
     "text": [
      "0% [██████████████] 100% | ETA: 00:00:00\n",
      "Total time elapsed: 00:00:03\n"
     ]
    },
    {
     "name": "stdout",
     "output_type": "stream",
     "text": [
      "Finished Epoch 13 || Run Time:    0.9 | Load Time:    2.3 || F1:  58.40 | Prec:  54.89 | Rec:  62.39 || Ex/s: 718.20\n",
      "\n",
      "---------------------\n",
      "\n",
      "===>  TRAIN Epoch 14\n"
     ]
    },
    {
     "name": "stderr",
     "output_type": "stream",
     "text": [
      "0% [██████████████████████████████] 100% | ETA: 00:00:00\n",
      "Total time elapsed: 00:00:23\n"
     ]
    },
    {
     "name": "stdout",
     "output_type": "stream",
     "text": [
      "Finished Epoch 14 || Run Time:   12.3 | Load Time:   11.2 || F1:  97.02 | Prec:  94.22 | Rec: 100.00 || Ex/s: 295.72\n",
      "\n",
      "===>  EVAL Epoch 14\n"
     ]
    },
    {
     "name": "stderr",
     "output_type": "stream",
     "text": [
      "0% [██████████████] 100% | ETA: 00:00:00\n",
      "Total time elapsed: 00:00:03\n"
     ]
    },
    {
     "name": "stdout",
     "output_type": "stream",
     "text": [
      "Finished Epoch 14 || Run Time:    0.9 | Load Time:    2.3 || F1:  58.12 | Prec:  54.72 | Rec:  61.97 || Ex/s: 712.98\n",
      "\n",
      "---------------------\n",
      "\n",
      "===>  TRAIN Epoch 15\n"
     ]
    },
    {
     "name": "stderr",
     "output_type": "stream",
     "text": [
      "0% [██████████████████████████████] 100% | ETA: 00:00:00\n",
      "Total time elapsed: 00:00:22\n"
     ]
    },
    {
     "name": "stdout",
     "output_type": "stream",
     "text": [
      "Finished Epoch 15 || Run Time:   11.8 | Load Time:   10.7 || F1:  97.20 | Prec:  94.56 | Rec: 100.00 || Ex/s: 309.73\n",
      "\n",
      "===>  EVAL Epoch 15\n"
     ]
    },
    {
     "name": "stderr",
     "output_type": "stream",
     "text": [
      "0% [██████████████] 100% | ETA: 00:00:00\n",
      "Total time elapsed: 00:00:03\n"
     ]
    },
    {
     "name": "stdout",
     "output_type": "stream",
     "text": [
      "Finished Epoch 15 || Run Time:    1.0 | Load Time:    2.5 || F1:  57.83 | Prec:  54.55 | Rec:  61.54 || Ex/s: 666.46\n",
      "\n",
      "---------------------\n",
      "\n",
      "===>  TRAIN Epoch 16\n"
     ]
    },
    {
     "name": "stderr",
     "output_type": "stream",
     "text": [
      "0% [██████████████████████████████] 100% | ETA: 00:00:00\n",
      "Total time elapsed: 00:00:21\n"
     ]
    },
    {
     "name": "stdout",
     "output_type": "stream",
     "text": [
      "Finished Epoch 16 || Run Time:   11.6 | Load Time:   10.4 || F1:  97.32 | Prec:  94.79 | Rec: 100.00 || Ex/s: 316.60\n",
      "\n",
      "===>  EVAL Epoch 16\n"
     ]
    },
    {
     "name": "stderr",
     "output_type": "stream",
     "text": [
      "0% [██████████████] 100% | ETA: 00:00:00\n",
      "Total time elapsed: 00:00:03\n"
     ]
    },
    {
     "name": "stdout",
     "output_type": "stream",
     "text": [
      "Finished Epoch 16 || Run Time:    1.0 | Load Time:    2.5 || F1:  57.95 | Prec:  54.75 | Rec:  61.54 || Ex/s: 665.59\n",
      "\n",
      "---------------------\n",
      "\n",
      "===>  TRAIN Epoch 17\n"
     ]
    },
    {
     "name": "stderr",
     "output_type": "stream",
     "text": [
      "0% [██████████████████████████████] 100% | ETA: 00:00:00\n",
      "Total time elapsed: 00:00:23\n"
     ]
    },
    {
     "name": "stdout",
     "output_type": "stream",
     "text": [
      "Finished Epoch 17 || Run Time:   12.3 | Load Time:   11.4 || F1:  97.32 | Prec:  94.79 | Rec: 100.00 || Ex/s: 293.40\n",
      "\n",
      "===>  EVAL Epoch 17\n"
     ]
    },
    {
     "name": "stderr",
     "output_type": "stream",
     "text": [
      "0% [██████████████] 100% | ETA: 00:00:00\n",
      "Total time elapsed: 00:00:03\n"
     ]
    },
    {
     "name": "stdout",
     "output_type": "stream",
     "text": [
      "Finished Epoch 17 || Run Time:    1.0 | Load Time:    2.5 || F1:  57.72 | Prec:  54.34 | Rec:  61.54 || Ex/s: 666.64\n",
      "\n",
      "---------------------\n",
      "\n",
      "===>  TRAIN Epoch 18\n"
     ]
    },
    {
     "name": "stderr",
     "output_type": "stream",
     "text": [
      "0% [██████████████████████████████] 100% | ETA: 00:00:00\n",
      "Total time elapsed: 00:00:22\n"
     ]
    },
    {
     "name": "stdout",
     "output_type": "stream",
     "text": [
      "Finished Epoch 18 || Run Time:   12.1 | Load Time:   11.0 || F1:  97.32 | Prec:  94.79 | Rec: 100.00 || Ex/s: 301.90\n",
      "\n",
      "===>  EVAL Epoch 18\n"
     ]
    },
    {
     "name": "stderr",
     "output_type": "stream",
     "text": [
      "0% [██████████████] 100% | ETA: 00:00:00\n",
      "Total time elapsed: 00:00:03\n"
     ]
    },
    {
     "name": "stdout",
     "output_type": "stream",
     "text": [
      "Finished Epoch 18 || Run Time:    0.9 | Load Time:    2.4 || F1:  57.43 | Prec:  54.17 | Rec:  61.11 || Ex/s: 689.52\n",
      "\n",
      "---------------------\n",
      "\n",
      "===>  TRAIN Epoch 19\n"
     ]
    },
    {
     "name": "stderr",
     "output_type": "stream",
     "text": [
      "0% [██████████████████████████████] 100% | ETA: 00:00:00\n",
      "Total time elapsed: 00:00:23\n"
     ]
    },
    {
     "name": "stdout",
     "output_type": "stream",
     "text": [
      "Finished Epoch 19 || Run Time:   12.3 | Load Time:   11.2 || F1:  97.32 | Prec:  94.79 | Rec: 100.00 || Ex/s: 295.91\n",
      "\n",
      "===>  EVAL Epoch 19\n"
     ]
    },
    {
     "name": "stderr",
     "output_type": "stream",
     "text": [
      "0% [██████████████] 100% | ETA: 00:00:00\n",
      "Total time elapsed: 00:00:03\n"
     ]
    },
    {
     "name": "stdout",
     "output_type": "stream",
     "text": [
      "Finished Epoch 19 || Run Time:    1.0 | Load Time:    2.5 || F1:  57.72 | Prec:  54.34 | Rec:  61.54 || Ex/s: 672.12\n",
      "\n",
      "---------------------\n",
      "\n",
      "===>  TRAIN Epoch 20\n"
     ]
    },
    {
     "name": "stderr",
     "output_type": "stream",
     "text": [
      "0% [██████████████████████████████] 100% | ETA: 00:00:00\n",
      "Total time elapsed: 00:00:22\n"
     ]
    },
    {
     "name": "stdout",
     "output_type": "stream",
     "text": [
      "Finished Epoch 20 || Run Time:   11.8 | Load Time:   10.5 || F1:  97.38 | Prec:  94.90 | Rec: 100.00 || Ex/s: 312.06\n",
      "\n",
      "===>  EVAL Epoch 20\n"
     ]
    },
    {
     "name": "stderr",
     "output_type": "stream",
     "text": [
      "0% [██████████████] 100% | ETA: 00:00:00\n",
      "Total time elapsed: 00:00:03\n"
     ]
    },
    {
     "name": "stdout",
     "output_type": "stream",
     "text": [
      "Finished Epoch 20 || Run Time:    0.9 | Load Time:    2.3 || F1:  57.83 | Prec:  54.55 | Rec:  61.54 || Ex/s: 726.77\n",
      "\n",
      "---------------------\n",
      "\n",
      "Loading best model...\n",
      "Training done.\n"
     ]
    },
    {
     "data": {
      "text/plain": [
       "tensor(59.4059, device='cuda:0')"
      ]
     },
     "execution_count": 362,
     "metadata": {},
     "output_type": "execute_result"
    }
   ],
   "source": [
    "impr_rnn_google = dm.MatchingModel(attr_summarizer='rnn')\n",
    "impr_rnn_google.run_train(train,validation,epochs=20,best_save_path='models/amazongoogle_rnn_impr.pth',\n",
    "                         pos_neg_ratio=10)"
   ]
  },
  {
   "cell_type": "code",
   "execution_count": 363,
   "metadata": {
    "ExecuteTime": {
     "end_time": "2020-02-06T19:13:02.108206Z",
     "start_time": "2020-02-06T19:12:58.956743Z"
    }
   },
   "outputs": [
    {
     "name": "stdout",
     "output_type": "stream",
     "text": [
      "===>  EVAL Epoch 7\n"
     ]
    },
    {
     "name": "stderr",
     "output_type": "stream",
     "text": [
      "0% [██████████████] 100% | ETA: 00:00:00\n",
      "Total time elapsed: 00:00:03\n"
     ]
    },
    {
     "name": "stdout",
     "output_type": "stream",
     "text": [
      "Finished Epoch 7 || Run Time:    0.9 | Load Time:    2.2 || F1:  63.75 | Prec:  59.70 | Rec:  68.38 || Ex/s: 733.63\n",
      "\n"
     ]
    },
    {
     "data": {
      "text/plain": [
       "tensor(63.7450, device='cuda:0')"
      ]
     },
     "execution_count": 363,
     "metadata": {},
     "output_type": "execute_result"
    }
   ],
   "source": [
    "impr_rnn_google.run_eval(test)"
   ]
  },
  {
   "cell_type": "markdown",
   "metadata": {},
   "source": [
    "#### Evaluate new model"
   ]
  },
  {
   "cell_type": "code",
   "execution_count": 364,
   "metadata": {
    "ExecuteTime": {
     "end_time": "2020-02-06T19:13:06.962515Z",
     "start_time": "2020-02-06T19:13:02.110144Z"
    }
   },
   "outputs": [],
   "source": [
    "predictions = wrapDm(test_df,impr_rnn_google,ignore_columns=['ltable_id','rtable_id','id','label'])\n",
    "tp_group = test_df[(predictions[:,1]>=0.5)& test_df['label'] == 1]\n",
    "tn_group = test_df[(predictions[:,0] >=0.5)& test_df['label']==0]\n",
    "correctPredictions_google = pd.concat([tp_group,tn_group])"
   ]
  },
  {
   "cell_type": "code",
   "execution_count": 28,
   "metadata": {
    "ExecuteTime": {
     "end_time": "2020-02-16T17:46:40.382683Z",
     "start_time": "2020-02-16T17:46:40.340571Z"
    }
   },
   "outputs": [
    {
     "ename": "NameError",
     "evalue": "name 'impr_rnn_google' is not defined",
     "output_type": "error",
     "traceback": [
      "\u001b[0;31m---------------------------------------------------------------------------\u001b[0m",
      "\u001b[0;31mNameError\u001b[0m                                 Traceback (most recent call last)",
      "\u001b[0;32m<ipython-input-28-8964b6af269d>\u001b[0m in \u001b[0;36m<module>\u001b[0;34m()\u001b[0m\n\u001b[1;32m      1\u001b[0m pos_rankings_google,pos_triangles_google,flippedPredictions_pos_google = explainSamples(correctPredictions_google,\n\u001b[0;32m----> 2\u001b[0;31m                                                           \u001b[0;34m[\u001b[0m\u001b[0mtableA_google\u001b[0m\u001b[0;34m,\u001b[0m\u001b[0mtableB_google\u001b[0m\u001b[0;34m]\u001b[0m\u001b[0;34m,\u001b[0m\u001b[0mimpr_rnn_google\u001b[0m\u001b[0;34m,\u001b[0m\u001b[0moriginalClass\u001b[0m\u001b[0;34m=\u001b[0m\u001b[0;36m1\u001b[0m\u001b[0;34m,\u001b[0m\u001b[0;34m\u001b[0m\u001b[0;34m\u001b[0m\u001b[0m\n\u001b[0m\u001b[1;32m      3\u001b[0m                                                                                        maxLenAttributeSet=2)\n",
      "\u001b[0;31mNameError\u001b[0m: name 'impr_rnn_google' is not defined"
     ]
    }
   ],
   "source": [
    "pos_rankings_google,pos_triangles_google,flippedPredictions_pos_google = explainSamples(correctPredictions_google,\n",
    "                                                          [tableA_google,tableB_google],impr_rnn_google,originalClass=1,\n",
    "                                                                                       maxLenAttributeSet=2)"
   ]
  },
  {
   "cell_type": "code",
   "execution_count": 366,
   "metadata": {
    "ExecuteTime": {
     "end_time": "2020-02-06T19:14:26.737075Z",
     "start_time": "2020-02-06T19:14:26.552689Z"
    }
   },
   "outputs": [
    {
     "data": {
      "text/plain": [
       "<matplotlib.axes._subplots.AxesSubplot at 0x7face9a16ba8>"
      ]
     },
     "execution_count": 366,
     "metadata": {},
     "output_type": "execute_result"
    },
    {
     "data": {
      "image/png": "[encoded data removed]",
      "text/plain": [
       "<Figure size 432x432 with 1 Axes>"
      ]
     },
     "metadata": {
      "needs_background": "light"
     },
     "output_type": "display_data"
    }
   ],
   "source": [
    "aggregateRankings(pos_rankings_google,True)"
   ]
  },
  {
   "cell_type": "markdown",
   "metadata": {},
   "source": [
    "### Hybrid"
   ]
  },
  {
   "cell_type": "code",
   "execution_count": 29,
   "metadata": {
    "ExecuteTime": {
     "end_time": "2020-02-16T17:46:51.633753Z",
     "start_time": "2020-02-16T17:46:51.259459Z"
    }
   },
   "outputs": [],
   "source": [
    "google_hybrid = dm.MatchingModel(attr_summarizer='hybrid')\n",
    "google_hybrid.load_state('models/amazongoogle_hybrid.pth')\n",
    "google_hybrid = google_hybrid.to('cuda')"
   ]
  },
  {
   "cell_type": "code",
   "execution_count": 30,
   "metadata": {
    "ExecuteTime": {
     "end_time": "2020-02-16T17:46:59.828798Z",
     "start_time": "2020-02-16T17:46:52.500514Z"
    }
   },
   "outputs": [],
   "source": [
    "predictions = wrapDm(test_df,google_hybrid,ignore_columns=['ltable_id','rtable_id','id','label'])\n",
    "tp_group = test_df[(predictions[:,1]>=0.5)& (test_df['label'] == 1)]\n",
    "tn_group = test_df[(predictions[:,0] >=0.5)& (test_df['label']==0)]\n",
    "correctPred_hybrid_google = pd.concat([tp_group,tn_group])"
   ]
  },
  {
   "cell_type": "code",
   "execution_count": 32,
   "metadata": {
    "ExecuteTime": {
     "end_time": "2020-02-16T17:52:18.487624Z",
     "start_time": "2020-02-16T17:48:19.279550Z"
    }
   },
   "outputs": [
    {
     "name": "stderr",
     "output_type": "stream",
     "text": [
      "\n",
      "  0%|          | 0/513 [00:00<?, ?it/s]\u001b[A\n",
      "  0%|          | 1/513 [00:00<03:45,  2.27it/s]\u001b[A\n",
      "  0%|          | 2/513 [00:00<03:43,  2.28it/s]\u001b[A\n",
      "  1%|          | 3/513 [00:01<03:59,  2.13it/s]\u001b[A\n",
      "  1%|          | 4/513 [00:01<04:14,  2.00it/s]\u001b[A\n",
      "  1%|          | 5/513 [00:02<03:58,  2.13it/s]\u001b[A\n",
      "  1%|          | 6/513 [00:02<03:47,  2.23it/s]\u001b[A\n",
      "  1%|▏         | 7/513 [00:03<03:39,  2.30it/s]\u001b[A\n",
      "  2%|▏         | 8/513 [00:03<03:34,  2.36it/s]\u001b[A\n",
      "  2%|▏         | 9/513 [00:03<03:30,  2.39it/s]\u001b[A\n",
      "  2%|▏         | 10/513 [00:04<03:27,  2.42it/s]\u001b[A\n",
      "  2%|▏         | 11/513 [00:04<03:25,  2.44it/s]\u001b[A\n",
      "  2%|▏         | 12/513 [00:05<03:24,  2.45it/s]\u001b[A\n",
      "  3%|▎         | 13/513 [00:05<03:23,  2.46it/s]\u001b[A\n",
      "  3%|▎         | 14/513 [00:05<03:21,  2.47it/s]\u001b[A\n",
      "  3%|▎         | 15/513 [00:06<03:20,  2.48it/s]\u001b[A\n",
      "  3%|▎         | 16/513 [00:06<03:25,  2.42it/s]\u001b[A\n",
      "  3%|▎         | 17/513 [00:07<03:28,  2.38it/s]\u001b[A\n",
      "  4%|▎         | 18/513 [00:07<03:30,  2.35it/s]\u001b[A\n",
      "  4%|▎         | 19/513 [00:08<03:32,  2.33it/s]\u001b[A\n",
      "  4%|▍         | 20/513 [00:08<03:32,  2.32it/s]\u001b[A\n",
      "  4%|▍         | 21/513 [00:09<03:43,  2.20it/s]\u001b[A\n",
      "  4%|▍         | 22/513 [00:09<03:41,  2.21it/s]\u001b[A\n",
      "  4%|▍         | 23/513 [00:09<03:39,  2.23it/s]\u001b[A\n",
      "  5%|▍         | 24/513 [00:10<03:37,  2.25it/s]\u001b[A\n",
      "  5%|▍         | 25/513 [00:10<03:36,  2.25it/s]\u001b[A\n",
      "  5%|▌         | 26/513 [00:11<03:35,  2.26it/s]\u001b[A\n",
      "  5%|▌         | 27/513 [00:11<03:29,  2.32it/s]\u001b[A\n",
      "  5%|▌         | 28/513 [00:12<03:24,  2.37it/s]\u001b[A\n",
      "  6%|▌         | 29/513 [00:12<03:20,  2.41it/s]\u001b[A\n",
      "  6%|▌         | 30/513 [00:13<03:42,  2.17it/s]\u001b[A\n",
      "  6%|▌         | 31/513 [00:13<03:33,  2.26it/s]\u001b[A\n",
      "  6%|▌         | 32/513 [00:13<03:26,  2.33it/s]\u001b[A\n",
      "  6%|▋         | 33/513 [00:14<03:45,  2.13it/s]\u001b[A\n",
      "  7%|▋         | 34/513 [00:15<04:04,  1.96it/s]\u001b[A\n",
      "  7%|▋         | 35/513 [00:15<03:57,  2.01it/s]\u001b[A\n",
      "  7%|▋         | 36/513 [00:15<03:49,  2.08it/s]\u001b[A\n",
      "  7%|▋         | 37/513 [00:16<03:42,  2.14it/s]\u001b[A\n",
      "  7%|▋         | 38/513 [00:16<03:33,  2.23it/s]\u001b[A\n",
      "  8%|▊         | 39/513 [00:17<03:26,  2.30it/s]\u001b[A\n",
      "  8%|▊         | 40/513 [00:17<03:21,  2.34it/s]\u001b[A\n",
      "  8%|▊         | 41/513 [00:18<03:17,  2.38it/s]\u001b[A\n",
      "  8%|▊         | 42/513 [00:18<03:18,  2.37it/s]\u001b[A\n",
      "  8%|▊         | 43/513 [00:18<03:15,  2.40it/s]\u001b[A\n",
      "  9%|▊         | 44/513 [00:19<03:13,  2.43it/s]\u001b[A\n",
      "  9%|▉         | 45/513 [00:19<03:11,  2.45it/s]\u001b[A\n",
      "  9%|▉         | 46/513 [00:20<03:10,  2.45it/s]\u001b[A\n",
      "  9%|▉         | 47/513 [00:20<03:09,  2.46it/s]\u001b[A\n",
      "  9%|▉         | 48/513 [00:20<03:07,  2.47it/s]\u001b[A\n",
      " 10%|▉         | 49/513 [00:21<03:17,  2.35it/s]\u001b[A\n",
      " 10%|▉         | 50/513 [00:21<03:36,  2.13it/s]\u001b[A\n",
      " 10%|▉         | 51/513 [00:22<03:27,  2.23it/s]\u001b[A\n",
      " 10%|█         | 52/513 [00:22<03:20,  2.30it/s]\u001b[A\n",
      " 10%|█         | 53/513 [00:23<03:20,  2.29it/s]\u001b[A\n",
      " 11%|█         | 54/513 [00:23<03:20,  2.29it/s]\u001b[A\n",
      " 11%|█         | 55/513 [00:23<03:18,  2.31it/s]\u001b[A\n",
      " 11%|█         | 56/513 [00:24<03:13,  2.37it/s]\u001b[A\n",
      " 11%|█         | 57/513 [00:24<03:34,  2.13it/s]\u001b[A\n",
      " 11%|█▏        | 58/513 [00:25<03:44,  2.03it/s]\u001b[A\n",
      " 12%|█▏        | 59/513 [00:26<03:53,  1.94it/s]\u001b[A\n",
      " 12%|█▏        | 60/513 [00:26<04:06,  1.84it/s]\u001b[A\n",
      " 12%|█▏        | 61/513 [00:27<03:52,  1.94it/s]\u001b[A\n",
      " 12%|█▏        | 62/513 [00:27<03:41,  2.03it/s]\u001b[A\n",
      " 12%|█▏        | 63/513 [00:28<03:34,  2.10it/s]\u001b[A\n",
      " 12%|█▏        | 64/513 [00:28<03:37,  2.06it/s]\u001b[A\n",
      " 13%|█▎        | 65/513 [00:28<03:31,  2.12it/s]\u001b[A\n",
      " 13%|█▎        | 66/513 [00:29<03:26,  2.17it/s]\u001b[A\n",
      " 13%|█▎        | 67/513 [00:29<03:20,  2.23it/s]\u001b[A\n",
      " 13%|█▎        | 68/513 [00:30<03:14,  2.29it/s]\u001b[A\n",
      " 13%|█▎        | 69/513 [00:30<03:19,  2.22it/s]\u001b[A\n",
      " 14%|█▎        | 70/513 [00:31<03:47,  1.95it/s]\u001b[A\n",
      " 14%|█▍        | 71/513 [00:31<03:37,  2.03it/s]\u001b[A\n",
      " 14%|█▍        | 72/513 [00:32<03:52,  1.90it/s]\u001b[A\n",
      " 14%|█▍        | 73/513 [00:33<04:02,  1.82it/s]\u001b[A\n",
      " 14%|█▍        | 74/513 [00:33<03:51,  1.90it/s]\u001b[A\n",
      " 15%|█▍        | 75/513 [00:34<04:02,  1.81it/s]\u001b[A\n",
      " 15%|█▍        | 76/513 [00:34<04:09,  1.75it/s]\u001b[A\n",
      " 15%|█▌        | 77/513 [00:35<04:08,  1.75it/s]\u001b[A\n",
      " 15%|█▌        | 78/513 [00:35<03:52,  1.87it/s]\u001b[A\n",
      " 15%|█▌        | 79/513 [00:36<04:03,  1.78it/s]\u001b[A\n",
      " 16%|█▌        | 80/513 [00:36<03:51,  1.87it/s]\u001b[A\n",
      " 16%|█▌        | 81/513 [00:37<03:32,  2.03it/s]\u001b[A\n",
      " 16%|█▌        | 82/513 [00:37<03:19,  2.16it/s]\u001b[A\n",
      " 16%|█▌        | 83/513 [00:38<03:09,  2.27it/s]\u001b[A\n",
      " 16%|█▋        | 84/513 [00:38<03:02,  2.35it/s]\u001b[A\n",
      " 17%|█▋        | 85/513 [00:39<03:23,  2.10it/s]\u001b[A\n",
      " 17%|█▋        | 86/513 [00:39<03:38,  1.96it/s]\u001b[A\n",
      " 17%|█▋        | 87/513 [00:40<03:23,  2.10it/s]\u001b[A\n",
      " 17%|█▋        | 88/513 [00:40<03:11,  2.22it/s]\u001b[A\n",
      " 17%|█▋        | 89/513 [00:40<03:04,  2.30it/s]\u001b[A\n",
      " 18%|█▊        | 90/513 [00:41<03:09,  2.23it/s]\u001b[A\n",
      " 18%|█▊        | 91/513 [00:41<03:25,  2.05it/s]\u001b[A\n",
      " 18%|█▊        | 92/513 [00:42<03:18,  2.12it/s]\u001b[A\n",
      " 18%|█▊        | 93/513 [00:42<03:13,  2.17it/s]\u001b[A\n",
      " 18%|█▊        | 94/513 [00:43<03:10,  2.21it/s]\u001b[A\n",
      " 19%|█▊        | 95/513 [00:43<03:03,  2.28it/s]\u001b[A\n",
      " 19%|█▊        | 96/513 [00:43<02:57,  2.34it/s]\u001b[A\n",
      " 19%|█▉        | 97/513 [00:44<02:54,  2.39it/s]\u001b[A\n",
      " 19%|█▉        | 98/513 [00:44<02:56,  2.35it/s]\u001b[A\n",
      " 19%|█▉        | 99/513 [00:45<02:57,  2.34it/s]\u001b[A\n",
      " 19%|█▉        | 100/513 [00:45<02:53,  2.38it/s]\u001b[A\n",
      " 20%|█▉        | 101/513 [00:46<02:51,  2.41it/s]\u001b[A\n",
      " 20%|█▉        | 102/513 [00:46<03:15,  2.10it/s]\u001b[A\n",
      " 20%|██        | 103/513 [00:47<03:09,  2.17it/s]\u001b[A\n",
      " 20%|██        | 104/513 [00:47<03:00,  2.27it/s]\u001b[A\n",
      " 20%|██        | 105/513 [00:47<02:53,  2.35it/s]\u001b[A\n",
      " 21%|██        | 106/513 [00:48<03:08,  2.16it/s]\u001b[A\n",
      " 21%|██        | 107/513 [00:49<03:27,  1.96it/s]\u001b[A\n",
      " 21%|██        | 108/513 [00:49<03:27,  1.96it/s]\u001b[A\n",
      " 21%|██        | 109/513 [00:49<03:16,  2.06it/s]\u001b[A\n",
      " 21%|██▏       | 110/513 [00:50<03:31,  1.91it/s]\u001b[A\n",
      " 22%|██▏       | 111/513 [00:50<03:15,  2.05it/s]\u001b[A\n",
      " 22%|██▏       | 112/513 [00:51<03:19,  2.01it/s]\u001b[A\n",
      " 22%|██▏       | 113/513 [00:52<03:22,  1.97it/s]\u001b[A\n",
      " 22%|██▏       | 114/513 [00:52<03:09,  2.11it/s]\u001b[A\n",
      " 22%|██▏       | 115/513 [00:52<02:59,  2.22it/s]\u001b[A\n",
      " 23%|██▎       | 116/513 [00:53<03:09,  2.10it/s]\u001b[A\n",
      " 23%|██▎       | 117/513 [00:54<03:31,  1.87it/s]\u001b[A\n",
      " 23%|██▎       | 118/513 [00:54<03:30,  1.88it/s]\u001b[A\n",
      " 23%|██▎       | 119/513 [00:55<03:38,  1.81it/s]\u001b[A\n",
      " 23%|██▎       | 120/513 [00:55<03:24,  1.92it/s]\u001b[A\n",
      " 24%|██▎       | 121/513 [00:56<03:11,  2.05it/s]\u001b[A\n",
      " 24%|██▍       | 122/513 [00:56<03:01,  2.16it/s]\u001b[A\n",
      " 24%|██▍       | 123/513 [00:56<02:56,  2.21it/s]\u001b[A\n",
      " 24%|██▍       | 124/513 [00:57<03:09,  2.05it/s]\u001b[A\n",
      " 24%|██▍       | 125/513 [00:57<03:06,  2.08it/s]\u001b[A\n",
      " 25%|██▍       | 126/513 [00:58<02:56,  2.20it/s]\u001b[A\n",
      " 25%|██▍       | 127/513 [00:58<02:49,  2.28it/s]\u001b[A\n",
      " 25%|██▍       | 128/513 [00:59<02:44,  2.34it/s]\u001b[A\n",
      " 25%|██▌       | 129/513 [00:59<02:39,  2.40it/s]\u001b[A\n",
      " 25%|██▌       | 130/513 [00:59<02:36,  2.45it/s]\u001b[A\n",
      " 26%|██▌       | 131/513 [01:00<02:34,  2.46it/s]\u001b[A\n",
      " 26%|██▌       | 132/513 [01:00<02:33,  2.49it/s]\u001b[A\n",
      " 26%|██▌       | 133/513 [01:01<02:36,  2.43it/s]\u001b[A\n",
      " 26%|██▌       | 134/513 [01:01<02:37,  2.41it/s]\u001b[A\n",
      " 26%|██▋       | 135/513 [01:01<02:34,  2.44it/s]\u001b[A\n",
      " 27%|██▋       | 136/513 [01:02<02:32,  2.47it/s]\u001b[A\n",
      " 27%|██▋       | 137/513 [01:02<02:31,  2.48it/s]\u001b[A\n",
      " 27%|██▋       | 138/513 [01:03<02:30,  2.49it/s]\u001b[A\n",
      " 27%|██▋       | 139/513 [01:03<02:29,  2.51it/s]\u001b[A\n",
      " 27%|██▋       | 140/513 [01:03<02:28,  2.52it/s]\u001b[A\n",
      " 27%|██▋       | 141/513 [01:04<02:31,  2.46it/s]\u001b[A\n",
      " 28%|██▊       | 142/513 [01:04<02:32,  2.43it/s]\u001b[A\n",
      " 28%|██▊       | 143/513 [01:05<02:46,  2.22it/s]\u001b[A\n",
      " 28%|██▊       | 144/513 [01:05<03:09,  1.95it/s]\u001b[A\n",
      " 28%|██▊       | 145/513 [01:06<03:06,  1.98it/s]\u001b[A\n",
      " 28%|██▊       | 146/513 [01:06<02:57,  2.07it/s]\u001b[A\n",
      " 29%|██▊       | 147/513 [01:07<02:53,  2.11it/s]\u001b[A\n",
      " 29%|██▉       | 148/513 [01:07<02:44,  2.21it/s]\u001b[A\n",
      " 29%|██▉       | 149/513 [01:08<02:42,  2.23it/s]\u001b[A\n",
      " 29%|██▉       | 150/513 [01:08<02:41,  2.25it/s]\u001b[A\n",
      " 29%|██▉       | 151/513 [01:09<02:38,  2.28it/s]\u001b[A\n",
      " 30%|██▉       | 152/513 [01:09<02:33,  2.35it/s]\u001b[A\n",
      " 30%|██▉       | 153/513 [01:09<02:29,  2.40it/s]\u001b[A\n",
      " 30%|███       | 154/513 [01:10<02:27,  2.44it/s]\u001b[A\n",
      " 30%|███       | 155/513 [01:10<02:25,  2.47it/s]\u001b[A\n"
     ]
    },
    {
     "name": "stderr",
     "output_type": "stream",
     "text": [
      " 30%|███       | 156/513 [01:10<02:23,  2.49it/s]\u001b[A\n",
      " 31%|███       | 157/513 [01:11<02:37,  2.26it/s]\u001b[A\n",
      " 31%|███       | 158/513 [01:12<02:54,  2.04it/s]\u001b[A\n",
      " 31%|███       | 159/513 [01:12<03:05,  1.91it/s]\u001b[A\n",
      " 31%|███       | 160/513 [01:13<02:55,  2.01it/s]\u001b[A\n",
      " 31%|███▏      | 161/513 [01:13<02:50,  2.06it/s]\u001b[A\n",
      " 32%|███▏      | 162/513 [01:14<02:44,  2.13it/s]\u001b[A\n",
      " 32%|███▏      | 163/513 [01:14<02:40,  2.19it/s]\u001b[A\n",
      " 32%|███▏      | 164/513 [01:14<02:33,  2.28it/s]\u001b[A\n",
      " 32%|███▏      | 165/513 [01:15<02:59,  1.94it/s]\u001b[A\n",
      " 32%|███▏      | 166/513 [01:15<02:46,  2.08it/s]\u001b[A\n",
      " 33%|███▎      | 167/513 [01:16<02:37,  2.19it/s]\u001b[A\n",
      " 33%|███▎      | 168/513 [01:16<02:31,  2.28it/s]\u001b[A\n",
      " 33%|███▎      | 169/513 [01:17<02:26,  2.35it/s]\u001b[A\n",
      " 33%|███▎      | 170/513 [01:17<02:43,  2.09it/s]\u001b[A\n",
      " 33%|███▎      | 171/513 [01:18<02:36,  2.18it/s]\u001b[A\n",
      " 34%|███▎      | 172/513 [01:18<02:29,  2.28it/s]\u001b[A\n",
      " 34%|███▎      | 173/513 [01:18<02:24,  2.35it/s]\u001b[A\n",
      " 34%|███▍      | 174/513 [01:19<02:20,  2.41it/s]\u001b[A\n",
      " 34%|███▍      | 175/513 [01:19<02:18,  2.44it/s]\u001b[A\n",
      " 34%|███▍      | 176/513 [01:20<02:16,  2.46it/s]\u001b[A\n",
      " 35%|███▍      | 177/513 [01:20<02:15,  2.48it/s]\u001b[A\n",
      " 35%|███▍      | 178/513 [01:20<02:14,  2.50it/s]\u001b[A\n",
      " 35%|███▍      | 179/513 [01:21<02:22,  2.34it/s]\u001b[A\n",
      " 35%|███▌      | 180/513 [01:21<02:32,  2.19it/s]\u001b[A\n",
      " 35%|███▌      | 181/513 [01:22<02:26,  2.27it/s]\u001b[A\n",
      " 35%|███▌      | 182/513 [01:22<02:25,  2.27it/s]\u001b[A\n",
      " 36%|███▌      | 183/513 [01:23<02:24,  2.28it/s]\u001b[A\n",
      " 36%|███▌      | 184/513 [01:23<02:20,  2.34it/s]\u001b[A\n",
      " 36%|███▌      | 185/513 [01:24<02:17,  2.38it/s]\u001b[A\n",
      " 36%|███▋      | 186/513 [01:24<02:15,  2.40it/s]\u001b[A\n",
      " 36%|███▋      | 187/513 [01:24<02:14,  2.43it/s]\u001b[A\n",
      " 37%|███▋      | 188/513 [01:25<02:12,  2.44it/s]\u001b[A\n",
      " 37%|███▋      | 189/513 [01:25<02:13,  2.42it/s]\u001b[A\n",
      " 37%|███▋      | 190/513 [01:26<02:16,  2.37it/s]\u001b[A\n",
      " 37%|███▋      | 191/513 [01:26<02:17,  2.35it/s]\u001b[A\n",
      " 37%|███▋      | 192/513 [01:26<02:18,  2.33it/s]\u001b[A\n",
      " 38%|███▊      | 193/513 [01:27<02:32,  2.10it/s]\u001b[A\n",
      " 38%|███▊      | 194/513 [01:28<02:28,  2.15it/s]\u001b[A\n",
      " 38%|███▊      | 195/513 [01:28<02:23,  2.22it/s]\u001b[A\n",
      " 38%|███▊      | 196/513 [01:28<02:17,  2.31it/s]\u001b[A\n",
      " 38%|███▊      | 197/513 [01:29<02:12,  2.38it/s]\u001b[A\n",
      " 39%|███▊      | 198/513 [01:29<02:09,  2.42it/s]\u001b[A\n",
      " 39%|███▉      | 199/513 [01:30<02:07,  2.46it/s]\u001b[A\n",
      " 39%|███▉      | 200/513 [01:30<02:09,  2.42it/s]\u001b[A\n",
      " 39%|███▉      | 201/513 [01:30<02:10,  2.39it/s]\u001b[A\n",
      " 39%|███▉      | 202/513 [01:31<02:10,  2.38it/s]\u001b[A\n",
      " 40%|███▉      | 203/513 [01:31<02:07,  2.42it/s]\u001b[A\n",
      " 40%|███▉      | 204/513 [01:32<02:05,  2.45it/s]\u001b[A\n",
      " 40%|███▉      | 205/513 [01:32<02:04,  2.47it/s]\u001b[A\n",
      " 40%|████      | 206/513 [01:32<02:03,  2.49it/s]\u001b[A\n",
      " 40%|████      | 207/513 [01:33<02:02,  2.50it/s]\u001b[A\n",
      " 41%|████      | 208/513 [01:33<02:04,  2.44it/s]\u001b[A\n",
      " 41%|████      | 209/513 [01:34<02:06,  2.40it/s]\u001b[A\n",
      " 41%|████      | 210/513 [01:34<02:07,  2.38it/s]\u001b[A\n",
      " 41%|████      | 211/513 [01:34<02:04,  2.42it/s]\u001b[A\n",
      " 41%|████▏     | 212/513 [01:35<02:02,  2.45it/s]\u001b[A\n",
      " 42%|████▏     | 213/513 [01:35<02:11,  2.28it/s]\u001b[A\n",
      " 42%|████▏     | 214/513 [01:36<02:10,  2.29it/s]\u001b[A\n",
      " 42%|████▏     | 215/513 [01:36<02:06,  2.35it/s]\u001b[A\n",
      " 42%|████▏     | 216/513 [01:37<02:03,  2.40it/s]\u001b[A\n",
      " 42%|████▏     | 217/513 [01:37<02:02,  2.42it/s]\u001b[A\n",
      " 42%|████▏     | 218/513 [01:37<02:03,  2.39it/s]\u001b[A\n",
      " 43%|████▎     | 219/513 [01:38<02:01,  2.41it/s]\u001b[A\n",
      " 43%|████▎     | 220/513 [01:38<02:00,  2.43it/s]\u001b[A\n",
      " 43%|████▎     | 221/513 [01:39<02:00,  2.43it/s]\u001b[A\n",
      " 43%|████▎     | 222/513 [01:39<01:58,  2.45it/s]\u001b[A\n",
      " 43%|████▎     | 223/513 [01:39<01:57,  2.47it/s]\u001b[A\n",
      " 44%|████▎     | 224/513 [01:40<01:56,  2.48it/s]\u001b[A\n",
      " 44%|████▍     | 225/513 [01:40<01:55,  2.49it/s]\u001b[A\n",
      " 44%|████▍     | 226/513 [01:41<01:55,  2.49it/s]\u001b[A\n",
      " 44%|████▍     | 227/513 [01:41<01:54,  2.49it/s]\u001b[A\n",
      " 44%|████▍     | 228/513 [01:41<01:54,  2.50it/s]\u001b[A\n",
      " 45%|████▍     | 229/513 [01:42<01:53,  2.49it/s]\u001b[A\n",
      " 45%|████▍     | 230/513 [01:42<01:56,  2.43it/s]\u001b[A\n",
      " 45%|████▌     | 231/513 [01:43<01:57,  2.39it/s]\u001b[A\n",
      " 45%|████▌     | 232/513 [01:43<02:11,  2.14it/s]\u001b[A\n",
      " 45%|████▌     | 233/513 [01:44<02:20,  1.99it/s]\u001b[A\n",
      " 46%|████▌     | 234/513 [01:44<02:15,  2.06it/s]\u001b[A\n",
      " 46%|████▌     | 235/513 [01:45<02:10,  2.13it/s]\u001b[A\n",
      " 46%|████▌     | 236/513 [01:45<02:07,  2.18it/s]\u001b[A\n",
      " 46%|████▌     | 237/513 [01:46<02:04,  2.22it/s]\u001b[A\n",
      " 46%|████▋     | 238/513 [01:46<02:01,  2.25it/s]\u001b[A\n",
      " 47%|████▋     | 239/513 [01:46<01:57,  2.33it/s]\u001b[A\n",
      " 47%|████▋     | 240/513 [01:47<01:54,  2.39it/s]\u001b[A\n",
      " 47%|████▋     | 241/513 [01:47<01:51,  2.43it/s]\u001b[A\n",
      " 47%|████▋     | 242/513 [01:48<01:50,  2.46it/s]\u001b[A\n",
      " 47%|████▋     | 243/513 [01:48<01:49,  2.47it/s]\u001b[A\n",
      " 48%|████▊     | 244/513 [01:48<01:48,  2.48it/s]\u001b[A\n",
      " 48%|████▊     | 245/513 [01:49<01:47,  2.49it/s]\u001b[A\n",
      " 48%|████▊     | 246/513 [01:49<01:46,  2.50it/s]\u001b[A\n",
      " 48%|████▊     | 247/513 [01:50<01:45,  2.51it/s]\u001b[A\n",
      " 48%|████▊     | 248/513 [01:50<01:45,  2.52it/s]\u001b[A\n",
      " 49%|████▊     | 249/513 [01:50<01:44,  2.52it/s]\u001b[A\n",
      " 49%|████▊     | 250/513 [01:51<01:53,  2.32it/s]\u001b[A\n",
      " 49%|████▉     | 251/513 [01:52<02:07,  2.05it/s]\u001b[A\n",
      " 49%|████▉     | 252/513 [01:52<02:05,  2.08it/s]\u001b[A\n",
      " 49%|████▉     | 253/513 [01:53<02:12,  1.96it/s]\u001b[A\n",
      " 50%|████▉     | 254/513 [01:53<02:08,  2.02it/s]\u001b[A\n",
      " 50%|████▉     | 255/513 [01:53<01:59,  2.15it/s]\u001b[A\n",
      " 50%|████▉     | 256/513 [01:54<01:56,  2.20it/s]\u001b[A\n",
      " 50%|█████     | 257/513 [01:54<02:07,  2.01it/s]\u001b[A\n",
      " 50%|█████     | 258/513 [01:55<02:14,  1.90it/s]\u001b[A\n",
      " 50%|█████     | 259/513 [01:56<02:07,  1.99it/s]\u001b[A\n",
      " 51%|█████     | 260/513 [01:56<02:11,  1.93it/s]\u001b[A\n",
      " 51%|█████     | 261/513 [01:57<02:17,  1.84it/s]\u001b[A\n",
      " 51%|█████     | 262/513 [01:57<02:06,  1.98it/s]\u001b[A\n",
      " 51%|█████▏    | 263/513 [01:58<02:13,  1.88it/s]\u001b[A\n",
      " 51%|█████▏    | 264/513 [01:58<02:02,  2.03it/s]\u001b[A\n",
      " 52%|█████▏    | 265/513 [01:58<01:54,  2.17it/s]\u001b[A\n",
      " 52%|█████▏    | 266/513 [01:59<01:49,  2.27it/s]\u001b[A\n",
      " 52%|█████▏    | 267/513 [01:59<01:48,  2.27it/s]\u001b[A\n",
      " 52%|█████▏    | 268/513 [02:00<01:54,  2.13it/s]\u001b[A\n",
      " 52%|█████▏    | 269/513 [02:00<01:59,  2.04it/s]\u001b[A\n",
      " 53%|█████▎    | 270/513 [02:01<02:07,  1.90it/s]\u001b[A\n",
      " 53%|█████▎    | 271/513 [02:02<02:17,  1.76it/s]\u001b[A\n",
      " 53%|█████▎    | 272/513 [02:02<02:18,  1.74it/s]\u001b[A\n",
      " 53%|█████▎    | 273/513 [02:03<02:08,  1.87it/s]\u001b[A\n",
      " 53%|█████▎    | 274/513 [02:03<01:58,  2.01it/s]\u001b[A\n",
      " 54%|█████▎    | 275/513 [02:03<01:51,  2.13it/s]\u001b[A\n",
      " 54%|█████▍    | 276/513 [02:04<01:47,  2.20it/s]\u001b[A\n",
      " 54%|█████▍    | 277/513 [02:04<01:43,  2.27it/s]\u001b[A\n",
      " 54%|█████▍    | 278/513 [02:05<01:43,  2.28it/s]\u001b[A\n",
      " 54%|█████▍    | 279/513 [02:05<01:40,  2.34it/s]\u001b[A\n",
      " 55%|█████▍    | 280/513 [02:06<01:49,  2.13it/s]\u001b[A\n",
      " 55%|█████▍    | 281/513 [02:06<01:56,  1.99it/s]\u001b[A\n",
      " 55%|█████▍    | 282/513 [02:07<01:49,  2.11it/s]\u001b[A\n",
      " 55%|█████▌    | 283/513 [02:07<01:44,  2.20it/s]\u001b[A\n",
      " 55%|█████▌    | 284/513 [02:08<01:40,  2.27it/s]\u001b[A\n",
      " 56%|█████▌    | 285/513 [02:08<01:51,  2.04it/s]\u001b[A\n",
      " 56%|█████▌    | 286/513 [02:09<01:48,  2.10it/s]\u001b[A\n",
      " 56%|█████▌    | 287/513 [02:09<01:44,  2.16it/s]\u001b[A\n",
      " 56%|█████▌    | 288/513 [02:09<01:41,  2.21it/s]\u001b[A\n",
      " 56%|█████▋    | 289/513 [02:10<01:39,  2.24it/s]\u001b[A\n",
      " 57%|█████▋    | 290/513 [02:10<01:38,  2.27it/s]\u001b[A\n",
      " 57%|█████▋    | 291/513 [02:11<01:41,  2.19it/s]\u001b[A\n",
      " 57%|█████▋    | 292/513 [02:11<01:50,  2.00it/s]\u001b[A\n",
      " 57%|█████▋    | 293/513 [02:12<01:49,  2.00it/s]\u001b[A\n",
      " 57%|█████▋    | 294/513 [02:12<01:45,  2.08it/s]\u001b[A\n",
      " 58%|█████▊    | 295/513 [02:13<01:51,  1.95it/s]\u001b[A\n",
      " 58%|█████▊    | 296/513 [02:14<01:58,  1.84it/s]\u001b[A\n",
      " 58%|█████▊    | 297/513 [02:14<01:54,  1.89it/s]\u001b[A\n",
      " 58%|█████▊    | 298/513 [02:14<01:47,  2.00it/s]\u001b[A\n",
      " 58%|█████▊    | 299/513 [02:15<01:51,  1.93it/s]\u001b[A\n",
      " 58%|█████▊    | 300/513 [02:16<01:58,  1.79it/s]\u001b[A\n",
      " 59%|█████▊    | 301/513 [02:16<01:52,  1.89it/s]\u001b[A\n",
      " 59%|█████▉    | 302/513 [02:17<01:58,  1.78it/s]\u001b[A\n",
      " 59%|█████▉    | 303/513 [02:17<02:01,  1.72it/s]\u001b[A\n",
      " 59%|█████▉    | 304/513 [02:18<02:00,  1.74it/s]\u001b[A\n",
      " 59%|█████▉    | 305/513 [02:19<02:00,  1.73it/s]\u001b[A\n",
      " 60%|█████▉    | 306/513 [02:19<01:48,  1.91it/s]\u001b[A\n",
      " 60%|█████▉    | 307/513 [02:19<01:48,  1.90it/s]\u001b[A\n",
      " 60%|██████    | 308/513 [02:20<01:46,  1.93it/s]\u001b[A\n",
      " 60%|██████    | 309/513 [02:20<01:41,  2.01it/s]\u001b[A\n"
     ]
    },
    {
     "name": "stderr",
     "output_type": "stream",
     "text": [
      " 60%|██████    | 310/513 [02:21<01:41,  2.01it/s]\u001b[A\n",
      " 61%|██████    | 311/513 [02:21<01:44,  1.94it/s]\u001b[A\n",
      " 61%|██████    | 312/513 [02:22<01:39,  2.03it/s]\u001b[A\n",
      " 61%|██████    | 313/513 [02:22<01:33,  2.14it/s]\u001b[A\n",
      " 61%|██████    | 314/513 [02:23<01:29,  2.22it/s]\u001b[A\n",
      " 61%|██████▏   | 315/513 [02:23<01:28,  2.25it/s]\u001b[A\n",
      " 62%|██████▏   | 316/513 [02:24<01:34,  2.08it/s]\u001b[A\n",
      " 62%|██████▏   | 317/513 [02:24<01:31,  2.14it/s]\u001b[A\n",
      " 62%|██████▏   | 318/513 [02:25<01:27,  2.23it/s]\u001b[A\n",
      " 62%|██████▏   | 319/513 [02:25<01:25,  2.26it/s]\u001b[A\n",
      " 62%|██████▏   | 320/513 [02:25<01:23,  2.32it/s]\u001b[A\n",
      " 63%|██████▎   | 321/513 [02:26<01:20,  2.37it/s]\u001b[A\n",
      " 63%|██████▎   | 322/513 [02:26<01:19,  2.41it/s]\u001b[A\n",
      " 63%|██████▎   | 323/513 [02:27<01:18,  2.43it/s]\u001b[A\n",
      " 63%|██████▎   | 324/513 [02:27<01:28,  2.15it/s]\u001b[A\n",
      " 63%|██████▎   | 325/513 [02:28<01:34,  1.99it/s]\u001b[A\n",
      " 64%|██████▎   | 326/513 [02:28<01:30,  2.07it/s]\u001b[A\n",
      " 64%|██████▎   | 327/513 [02:29<01:36,  1.93it/s]\u001b[A\n",
      " 64%|██████▍   | 328/513 [02:29<01:31,  2.03it/s]\u001b[A\n",
      " 64%|██████▍   | 329/513 [02:30<01:27,  2.11it/s]\u001b[A\n",
      " 64%|██████▍   | 330/513 [02:30<01:24,  2.17it/s]\u001b[A\n",
      " 65%|██████▍   | 331/513 [02:31<01:22,  2.22it/s]\u001b[A\n",
      " 65%|██████▍   | 332/513 [02:31<01:25,  2.12it/s]\u001b[A\n",
      " 65%|██████▍   | 333/513 [02:32<01:32,  1.96it/s]\u001b[A\n",
      " 65%|██████▌   | 334/513 [02:32<01:27,  2.04it/s]\u001b[A\n",
      " 65%|██████▌   | 335/513 [02:33<01:31,  1.94it/s]\u001b[A\n",
      " 65%|██████▌   | 336/513 [02:33<01:38,  1.80it/s]\u001b[A\n",
      " 66%|██████▌   | 337/513 [02:34<01:41,  1.73it/s]\u001b[A\n",
      " 66%|██████▌   | 338/513 [02:35<01:44,  1.68it/s]\u001b[A\n",
      " 66%|██████▌   | 339/513 [02:35<01:45,  1.65it/s]\u001b[A\n",
      " 66%|██████▋   | 340/513 [02:36<01:39,  1.74it/s]\u001b[A\n",
      " 66%|██████▋   | 341/513 [02:36<01:32,  1.87it/s]\u001b[A\n",
      " 67%|██████▋   | 342/513 [02:37<01:26,  1.99it/s]\u001b[A\n",
      " 67%|██████▋   | 343/513 [02:37<01:20,  2.11it/s]\u001b[A\n",
      " 67%|██████▋   | 344/513 [02:37<01:16,  2.21it/s]\u001b[A\n",
      " 67%|██████▋   | 345/513 [02:38<01:13,  2.28it/s]\u001b[A\n",
      " 67%|██████▋   | 346/513 [02:38<01:12,  2.30it/s]\u001b[A\n",
      " 68%|██████▊   | 347/513 [02:39<01:10,  2.34it/s]\u001b[A\n",
      " 68%|██████▊   | 348/513 [02:39<01:09,  2.37it/s]\u001b[A\n",
      " 68%|██████▊   | 349/513 [02:40<01:10,  2.34it/s]\u001b[A\n",
      " 68%|██████▊   | 350/513 [02:40<01:16,  2.12it/s]\u001b[A\n",
      " 68%|██████▊   | 351/513 [02:41<01:24,  1.92it/s]\u001b[A\n",
      " 69%|██████▊   | 352/513 [02:41<01:25,  1.88it/s]\u001b[A\n",
      " 69%|██████▉   | 353/513 [02:42<01:19,  2.02it/s]\u001b[A\n",
      " 69%|██████▉   | 354/513 [02:42<01:14,  2.13it/s]\u001b[A\n",
      " 69%|██████▉   | 355/513 [02:43<01:11,  2.22it/s]\u001b[A\n",
      " 69%|██████▉   | 356/513 [02:43<01:08,  2.29it/s]\u001b[A\n",
      " 70%|██████▉   | 357/513 [02:43<01:06,  2.34it/s]\u001b[A\n",
      " 70%|██████▉   | 358/513 [02:44<01:06,  2.31it/s]\u001b[A\n",
      " 70%|██████▉   | 359/513 [02:44<01:14,  2.07it/s]\u001b[A\n",
      " 70%|███████   | 360/513 [02:45<01:17,  1.96it/s]\u001b[A\n",
      " 70%|███████   | 361/513 [02:45<01:16,  1.99it/s]\u001b[A\n",
      " 71%|███████   | 362/513 [02:46<01:14,  2.03it/s]\u001b[A\n",
      " 71%|███████   | 363/513 [02:46<01:19,  1.89it/s]\u001b[A\n",
      " 71%|███████   | 364/513 [02:47<01:14,  1.99it/s]\u001b[A\n",
      " 71%|███████   | 365/513 [02:47<01:11,  2.07it/s]\u001b[A\n",
      " 71%|███████▏  | 366/513 [02:48<01:11,  2.06it/s]\u001b[A\n",
      " 72%|███████▏  | 367/513 [02:48<01:09,  2.11it/s]\u001b[A\n",
      " 72%|███████▏  | 368/513 [02:49<01:05,  2.21it/s]\u001b[A\n",
      " 72%|███████▏  | 369/513 [02:49<01:03,  2.28it/s]\u001b[A\n",
      " 72%|███████▏  | 370/513 [02:50<01:01,  2.33it/s]\u001b[A\n",
      " 72%|███████▏  | 371/513 [02:50<00:59,  2.37it/s]\u001b[A\n",
      " 73%|███████▎  | 372/513 [02:50<01:00,  2.33it/s]\u001b[A\n",
      " 73%|███████▎  | 373/513 [02:51<01:05,  2.14it/s]\u001b[A\n",
      " 73%|███████▎  | 374/513 [02:52<01:11,  1.94it/s]\u001b[A\n",
      " 73%|███████▎  | 375/513 [02:52<01:10,  1.97it/s]\u001b[A\n",
      " 73%|███████▎  | 376/513 [02:53<01:07,  2.04it/s]\u001b[A\n",
      " 73%|███████▎  | 377/513 [02:53<01:04,  2.10it/s]\u001b[A\n",
      " 74%|███████▎  | 378/513 [02:54<01:08,  1.98it/s]\u001b[A\n",
      " 74%|███████▍  | 379/513 [02:54<01:13,  1.83it/s]\u001b[A\n",
      " 74%|███████▍  | 380/513 [02:55<01:17,  1.72it/s]\u001b[A\n",
      " 74%|███████▍  | 381/513 [02:55<01:16,  1.72it/s]\u001b[A\n",
      " 74%|███████▍  | 382/513 [02:56<01:09,  1.88it/s]\u001b[A\n",
      " 75%|███████▍  | 383/513 [02:56<01:04,  2.02it/s]\u001b[A\n",
      " 75%|███████▍  | 384/513 [02:57<01:00,  2.13it/s]\u001b[A\n",
      " 75%|███████▌  | 385/513 [02:57<00:57,  2.22it/s]\u001b[A\n",
      " 75%|███████▌  | 386/513 [02:57<00:55,  2.28it/s]\u001b[A\n",
      " 75%|███████▌  | 387/513 [02:58<00:54,  2.33it/s]\u001b[A\n",
      " 76%|███████▌  | 388/513 [02:58<00:53,  2.35it/s]\u001b[A\n",
      " 76%|███████▌  | 389/513 [02:59<00:52,  2.38it/s]\u001b[A\n",
      " 76%|███████▌  | 390/513 [02:59<00:51,  2.40it/s]\u001b[A\n",
      " 76%|███████▌  | 391/513 [03:00<00:54,  2.24it/s]\u001b[A\n",
      " 76%|███████▋  | 392/513 [03:00<00:58,  2.05it/s]\u001b[A\n",
      " 77%|███████▋  | 393/513 [03:01<00:55,  2.16it/s]\u001b[A\n",
      " 77%|███████▋  | 394/513 [03:01<00:58,  2.03it/s]\u001b[A\n",
      " 77%|███████▋  | 395/513 [03:02<01:01,  1.93it/s]\u001b[A\n",
      " 77%|███████▋  | 396/513 [03:02<00:57,  2.04it/s]\u001b[A\n",
      " 77%|███████▋  | 397/513 [03:03<00:53,  2.15it/s]\u001b[A\n",
      " 78%|███████▊  | 398/513 [03:03<00:51,  2.24it/s]\u001b[A\n",
      " 78%|███████▊  | 399/513 [03:03<00:50,  2.28it/s]\u001b[A\n",
      " 78%|███████▊  | 400/513 [03:04<00:55,  2.04it/s]\u001b[A\n",
      " 78%|███████▊  | 401/513 [03:05<00:58,  1.91it/s]\u001b[A\n",
      " 78%|███████▊  | 402/513 [03:05<00:54,  2.05it/s]\u001b[A\n",
      " 79%|███████▊  | 403/513 [03:05<00:51,  2.16it/s]\u001b[A\n",
      " 79%|███████▉  | 404/513 [03:06<00:54,  2.00it/s]\u001b[A\n",
      " 79%|███████▉  | 405/513 [03:07<00:57,  1.89it/s]\u001b[A\n",
      " 79%|███████▉  | 406/513 [03:07<00:53,  1.99it/s]\u001b[A\n",
      " 79%|███████▉  | 407/513 [03:07<00:51,  2.08it/s]\u001b[A\n",
      " 80%|███████▉  | 408/513 [03:08<00:48,  2.18it/s]\u001b[A\n",
      " 80%|███████▉  | 409/513 [03:08<00:46,  2.25it/s]\u001b[A\n",
      " 80%|███████▉  | 410/513 [03:09<00:44,  2.31it/s]\u001b[A\n",
      " 80%|████████  | 411/513 [03:09<00:46,  2.18it/s]\u001b[A\n",
      " 80%|████████  | 412/513 [03:10<00:46,  2.19it/s]\u001b[A\n",
      " 81%|████████  | 413/513 [03:10<00:45,  2.20it/s]\u001b[A\n",
      " 81%|████████  | 414/513 [03:11<00:44,  2.20it/s]\u001b[A\n",
      " 81%|████████  | 415/513 [03:11<00:47,  2.08it/s]\u001b[A\n",
      " 81%|████████  | 416/513 [03:12<00:46,  2.07it/s]\u001b[A\n",
      " 81%|████████▏ | 417/513 [03:12<00:45,  2.13it/s]\u001b[A\n",
      " 81%|████████▏ | 418/513 [03:12<00:42,  2.22it/s]\u001b[A\n",
      " 82%|████████▏ | 419/513 [03:13<00:40,  2.29it/s]\u001b[A\n",
      " 82%|████████▏ | 420/513 [03:13<00:39,  2.35it/s]\u001b[A\n",
      " 82%|████████▏ | 421/513 [03:14<00:40,  2.26it/s]\u001b[A\n",
      " 82%|████████▏ | 422/513 [03:14<00:39,  2.28it/s]\u001b[A\n",
      " 82%|████████▏ | 423/513 [03:15<00:42,  2.13it/s]\u001b[A\n",
      " 83%|████████▎ | 424/513 [03:15<00:44,  2.01it/s]\u001b[A\n",
      " 83%|████████▎ | 425/513 [03:16<00:46,  1.87it/s]\u001b[A\n",
      " 83%|████████▎ | 426/513 [03:16<00:47,  1.83it/s]\u001b[A\n",
      " 83%|████████▎ | 427/513 [03:17<00:46,  1.86it/s]\u001b[A\n",
      " 83%|████████▎ | 428/513 [03:17<00:44,  1.89it/s]\u001b[A\n",
      " 84%|████████▎ | 429/513 [03:18<00:41,  2.04it/s]\u001b[A\n",
      " 84%|████████▍ | 430/513 [03:18<00:38,  2.15it/s]\u001b[A\n",
      " 84%|████████▍ | 431/513 [03:19<00:36,  2.24it/s]\u001b[A\n",
      " 84%|████████▍ | 432/513 [03:19<00:35,  2.31it/s]\u001b[A\n",
      " 84%|████████▍ | 433/513 [03:19<00:33,  2.36it/s]\u001b[A\n",
      " 85%|████████▍ | 434/513 [03:20<00:32,  2.40it/s]\u001b[A\n",
      " 85%|████████▍ | 435/513 [03:20<00:32,  2.43it/s]\u001b[A\n",
      " 85%|████████▍ | 436/513 [03:21<00:35,  2.16it/s]\u001b[A\n",
      " 85%|████████▌ | 437/513 [03:21<00:34,  2.19it/s]\u001b[A\n",
      " 85%|████████▌ | 438/513 [03:22<00:33,  2.21it/s]\u001b[A\n",
      " 86%|████████▌ | 439/513 [03:22<00:33,  2.24it/s]\u001b[A\n",
      " 86%|████████▌ | 440/513 [03:23<00:31,  2.30it/s]\u001b[A\n",
      " 86%|████████▌ | 441/513 [03:23<00:30,  2.34it/s]\u001b[A\n",
      " 86%|████████▌ | 442/513 [03:23<00:29,  2.38it/s]\u001b[A\n",
      " 86%|████████▋ | 443/513 [03:24<00:29,  2.41it/s]\u001b[A\n",
      " 87%|████████▋ | 444/513 [03:24<00:32,  2.11it/s]\u001b[A\n",
      " 87%|████████▋ | 445/513 [03:25<00:33,  2.01it/s]\u001b[A\n",
      " 87%|████████▋ | 446/513 [03:25<00:31,  2.13it/s]\u001b[A\n",
      " 87%|████████▋ | 447/513 [03:26<00:29,  2.21it/s]\u001b[A\n",
      " 87%|████████▋ | 448/513 [03:26<00:29,  2.22it/s]\u001b[A\n",
      " 88%|████████▊ | 449/513 [03:27<00:28,  2.22it/s]\u001b[A\n",
      " 88%|████████▊ | 450/513 [03:27<00:28,  2.22it/s]\u001b[A\n",
      " 88%|████████▊ | 451/513 [03:28<00:27,  2.22it/s]\u001b[A\n",
      " 88%|████████▊ | 452/513 [03:28<00:27,  2.22it/s]\u001b[A\n",
      " 88%|████████▊ | 453/513 [03:28<00:26,  2.22it/s]\u001b[A\n",
      " 88%|████████▊ | 454/513 [03:29<00:26,  2.21it/s]\u001b[A\n",
      " 89%|████████▊ | 455/513 [03:29<00:25,  2.26it/s]\u001b[A\n",
      " 89%|████████▉ | 456/513 [03:30<00:24,  2.31it/s]\u001b[A\n",
      " 89%|████████▉ | 457/513 [03:30<00:23,  2.35it/s]\u001b[A\n",
      " 89%|████████▉ | 458/513 [03:31<00:23,  2.38it/s]\u001b[A\n",
      " 89%|████████▉ | 459/513 [03:31<00:22,  2.41it/s]\u001b[A\n",
      " 90%|████████▉ | 460/513 [03:31<00:21,  2.43it/s]\u001b[A\n",
      " 90%|████████▉ | 461/513 [03:32<00:22,  2.30it/s]\u001b[A\n",
      " 90%|█████████ | 462/513 [03:32<00:21,  2.35it/s]\u001b[A\n",
      " 90%|█████████ | 463/513 [03:33<00:21,  2.32it/s]\u001b[A\n"
     ]
    },
    {
     "name": "stderr",
     "output_type": "stream",
     "text": [
      " 90%|█████████ | 464/513 [03:33<00:23,  2.05it/s]\u001b[A\n",
      " 91%|█████████ | 465/513 [03:34<00:25,  1.89it/s]\u001b[A\n",
      " 91%|█████████ | 466/513 [03:35<00:26,  1.78it/s]\u001b[A\n",
      " 91%|█████████ | 467/513 [03:35<00:26,  1.71it/s]\u001b[A\n",
      " 91%|█████████ | 468/513 [03:36<00:26,  1.71it/s]\u001b[A\n",
      " 91%|█████████▏| 469/513 [03:36<00:23,  1.89it/s]\u001b[A\n",
      " 92%|█████████▏| 470/513 [03:37<00:21,  2.03it/s]\u001b[A\n",
      " 92%|█████████▏| 471/513 [03:37<00:20,  2.10it/s]\u001b[A\n",
      " 92%|█████████▏| 472/513 [03:38<00:19,  2.15it/s]\u001b[A\n",
      " 92%|█████████▏| 473/513 [03:38<00:18,  2.19it/s]\u001b[A\n",
      " 92%|█████████▏| 474/513 [03:38<00:17,  2.22it/s]\u001b[A\n",
      " 93%|█████████▎| 475/513 [03:39<00:16,  2.24it/s]\u001b[A\n",
      " 93%|█████████▎| 476/513 [03:39<00:16,  2.30it/s]\u001b[A\n",
      " 93%|█████████▎| 477/513 [03:40<00:15,  2.36it/s]\u001b[A\n",
      " 93%|█████████▎| 478/513 [03:40<00:14,  2.40it/s]\u001b[A\n",
      " 93%|█████████▎| 479/513 [03:40<00:14,  2.41it/s]\u001b[A\n",
      " 94%|█████████▎| 480/513 [03:41<00:13,  2.36it/s]\u001b[A\n",
      " 94%|█████████▍| 481/513 [03:41<00:13,  2.33it/s]\u001b[A\n",
      " 94%|█████████▍| 482/513 [03:42<00:13,  2.36it/s]\u001b[A\n",
      " 94%|█████████▍| 483/513 [03:42<00:12,  2.39it/s]\u001b[A\n",
      " 94%|█████████▍| 484/513 [03:43<00:13,  2.11it/s]\u001b[A\n",
      " 95%|█████████▍| 485/513 [03:43<00:12,  2.21it/s]\u001b[A\n",
      " 95%|█████████▍| 486/513 [03:44<00:12,  2.24it/s]\u001b[A\n",
      " 95%|█████████▍| 487/513 [03:44<00:12,  2.03it/s]\u001b[A\n",
      " 95%|█████████▌| 488/513 [03:45<00:13,  1.84it/s]\u001b[A\n",
      " 95%|█████████▌| 489/513 [03:45<00:12,  1.92it/s]\u001b[A\n",
      " 96%|█████████▌| 490/513 [03:46<00:11,  2.02it/s]\u001b[A\n",
      " 96%|█████████▌| 491/513 [03:46<00:10,  2.09it/s]\u001b[A\n",
      " 96%|█████████▌| 492/513 [03:47<00:09,  2.15it/s]\u001b[A\n",
      " 96%|█████████▌| 493/513 [03:47<00:08,  2.25it/s]\u001b[A\n",
      " 96%|█████████▋| 494/513 [03:48<00:09,  2.06it/s]\u001b[A\n",
      " 96%|█████████▋| 495/513 [03:48<00:09,  1.91it/s]\u001b[A\n",
      " 97%|█████████▋| 496/513 [03:49<00:08,  2.00it/s]\u001b[A\n",
      " 97%|█████████▋| 497/513 [03:49<00:07,  2.08it/s]\u001b[A\n",
      " 97%|█████████▋| 498/513 [03:50<00:07,  2.12it/s]\u001b[A\n",
      " 97%|█████████▋| 499/513 [03:50<00:06,  2.16it/s]\u001b[A\n",
      " 97%|█████████▋| 500/513 [03:50<00:05,  2.19it/s]\u001b[A\n",
      " 98%|█████████▊| 501/513 [03:51<00:05,  2.16it/s]\u001b[A\n",
      " 98%|█████████▊| 502/513 [03:51<00:05,  2.19it/s]\u001b[A\n",
      " 98%|█████████▊| 503/513 [03:52<00:04,  2.20it/s]\u001b[A\n",
      " 98%|█████████▊| 504/513 [03:52<00:04,  2.20it/s]\u001b[A\n",
      " 98%|█████████▊| 505/513 [03:53<00:03,  2.19it/s]\u001b[A\n",
      " 99%|█████████▊| 506/513 [03:53<00:03,  1.99it/s]\u001b[A\n",
      " 99%|█████████▉| 507/513 [03:54<00:02,  2.05it/s]\u001b[A\n",
      " 99%|█████████▉| 508/513 [03:54<00:02,  2.12it/s]\u001b[A\n",
      " 99%|█████████▉| 509/513 [03:55<00:01,  2.23it/s]\u001b[A\n",
      " 99%|█████████▉| 510/513 [03:55<00:01,  2.20it/s]\u001b[A\n",
      "100%|█████████▉| 511/513 [03:56<00:01,  1.85it/s]\u001b[A\n",
      "100%|█████████▉| 512/513 [03:56<00:00,  1.95it/s]\u001b[A\n",
      "100%|██████████| 513/513 [03:57<00:00,  2.16it/s]\u001b[A\n"
     ]
    }
   ],
   "source": [
    "neg_rankings_google_hybrid,neg_triangles_google_hybrid,flippedNeg_hybrid_google = explainSamples(correctPred_hybrid_google,\n",
    "                                                          [tableA_google,tableB_google],google_hybrid,\n",
    "                                                                        originalClass=0,maxLenAttributeSet=2)"
   ]
  },
  {
   "cell_type": "code",
   "execution_count": 34,
   "metadata": {
    "ExecuteTime": {
     "end_time": "2020-02-16T17:53:37.419342Z",
     "start_time": "2020-02-16T17:53:37.104110Z"
    }
   },
   "outputs": [
    {
     "data": {
      "image/png": "[encoded data removed]",
      "text/plain": [
       "<Figure size 432x432 with 1 Axes>"
      ]
     },
     "metadata": {
      "needs_background": "light"
     },
     "output_type": "display_data"
    }
   ],
   "source": [
    "plot,negRank_hybrid = aggregateRankings(neg_rankings_google_hybrid,positive=False,maxLenAttributes=2)"
   ]
  },
  {
   "cell_type": "code",
   "execution_count": 35,
   "metadata": {
    "ExecuteTime": {
     "end_time": "2020-02-16T17:58:01.962265Z",
     "start_time": "2020-02-16T17:54:00.496105Z"
    }
   },
   "outputs": [
    {
     "name": "stderr",
     "output_type": "stream",
     "text": [
      "\n",
      "  0%|          | 0/513 [00:00<?, ?it/s]\u001b[A\n",
      "  0%|          | 1/513 [00:00<03:48,  2.24it/s]\u001b[A\n",
      "  0%|          | 2/513 [00:00<03:46,  2.26it/s]\u001b[A\n",
      "  1%|          | 3/513 [00:01<03:44,  2.27it/s]\u001b[A\n",
      "  1%|          | 4/513 [00:01<03:38,  2.33it/s]\u001b[A\n",
      "  1%|          | 5/513 [00:02<03:34,  2.37it/s]\u001b[A\n",
      "  1%|          | 6/513 [00:02<03:36,  2.35it/s]\u001b[A\n",
      "  1%|▏         | 7/513 [00:02<03:37,  2.33it/s]\u001b[A\n",
      "  2%|▏         | 8/513 [00:03<03:35,  2.34it/s]\u001b[A\n",
      "  2%|▏         | 9/513 [00:03<03:31,  2.39it/s]\u001b[A\n",
      "  2%|▏         | 10/513 [00:04<03:28,  2.41it/s]\u001b[A\n",
      "  2%|▏         | 11/513 [00:04<03:44,  2.24it/s]\u001b[A\n",
      "  2%|▏         | 12/513 [00:05<04:09,  2.01it/s]\u001b[A\n",
      "  3%|▎         | 13/513 [00:05<04:29,  1.86it/s]\u001b[A\n",
      "  3%|▎         | 14/513 [00:06<04:42,  1.77it/s]\u001b[A\n",
      "  3%|▎         | 15/513 [00:07<04:42,  1.76it/s]\u001b[A\n",
      "  3%|▎         | 16/513 [00:07<04:22,  1.89it/s]\u001b[A\n",
      "  3%|▎         | 17/513 [00:08<04:07,  2.01it/s]\u001b[A\n",
      "  4%|▎         | 18/513 [00:08<03:52,  2.13it/s]\u001b[A\n",
      "  4%|▎         | 19/513 [00:08<03:41,  2.23it/s]\u001b[A\n",
      "  4%|▍         | 20/513 [00:09<03:34,  2.30it/s]\u001b[A\n",
      "  4%|▍         | 21/513 [00:09<03:40,  2.23it/s]\u001b[A\n",
      "  4%|▍         | 22/513 [00:10<03:38,  2.25it/s]\u001b[A\n",
      "  4%|▍         | 23/513 [00:10<03:51,  2.11it/s]\u001b[A\n",
      "  5%|▍         | 24/513 [00:11<03:45,  2.17it/s]\u001b[A\n",
      "  5%|▍         | 25/513 [00:11<03:51,  2.10it/s]\u001b[A\n",
      "  5%|▌         | 26/513 [00:12<04:05,  1.98it/s]\u001b[A\n",
      "  5%|▌         | 27/513 [00:12<03:55,  2.07it/s]\u001b[A\n",
      "  5%|▌         | 28/513 [00:13<03:43,  2.17it/s]\u001b[A\n",
      "  6%|▌         | 29/513 [00:13<03:34,  2.26it/s]\u001b[A\n",
      "  6%|▌         | 30/513 [00:13<03:27,  2.33it/s]\u001b[A\n",
      "  6%|▌         | 31/513 [00:14<03:46,  2.13it/s]\u001b[A\n",
      "  6%|▌         | 32/513 [00:14<03:44,  2.14it/s]\u001b[A\n",
      "  6%|▋         | 33/513 [00:15<04:00,  2.00it/s]\u001b[A\n",
      "  7%|▋         | 34/513 [00:15<03:50,  2.08it/s]\u001b[A\n",
      "  7%|▋         | 35/513 [00:16<03:49,  2.08it/s]\u001b[A\n",
      "  7%|▋         | 36/513 [00:16<03:43,  2.14it/s]\u001b[A\n",
      "  7%|▋         | 37/513 [00:17<03:33,  2.23it/s]\u001b[A\n",
      "  7%|▋         | 38/513 [00:17<03:26,  2.30it/s]\u001b[A\n",
      "  8%|▊         | 39/513 [00:18<03:25,  2.31it/s]\u001b[A\n",
      "  8%|▊         | 40/513 [00:18<03:20,  2.36it/s]\u001b[A\n",
      "  8%|▊         | 41/513 [00:18<03:26,  2.28it/s]\u001b[A\n",
      "  8%|▊         | 42/513 [00:19<03:51,  2.03it/s]\u001b[A\n",
      "  8%|▊         | 43/513 [00:20<04:11,  1.87it/s]\u001b[A\n",
      "  9%|▊         | 44/513 [00:20<04:05,  1.91it/s]\u001b[A\n",
      "  9%|▉         | 45/513 [00:21<04:15,  1.83it/s]\u001b[A\n",
      "  9%|▉         | 46/513 [00:21<03:54,  1.99it/s]\u001b[A\n",
      "  9%|▉         | 47/513 [00:22<04:02,  1.92it/s]\u001b[A\n",
      "  9%|▉         | 48/513 [00:22<04:10,  1.85it/s]\u001b[A\n",
      " 10%|▉         | 49/513 [00:23<03:57,  1.96it/s]\u001b[A\n",
      " 10%|▉         | 50/513 [00:23<03:46,  2.05it/s]\u001b[A\n",
      " 10%|▉         | 51/513 [00:24<03:39,  2.10it/s]\u001b[A\n",
      " 10%|█         | 52/513 [00:24<03:33,  2.16it/s]\u001b[A\n",
      " 10%|█         | 53/513 [00:25<03:29,  2.19it/s]\u001b[A\n",
      " 11%|█         | 54/513 [00:25<03:32,  2.16it/s]\u001b[A\n",
      " 11%|█         | 55/513 [00:25<03:23,  2.25it/s]\u001b[A\n",
      " 11%|█         | 56/513 [00:26<03:17,  2.31it/s]\u001b[A\n",
      " 11%|█         | 57/513 [00:26<03:29,  2.18it/s]\u001b[A\n",
      " 11%|█▏        | 58/513 [00:27<03:47,  2.00it/s]\u001b[A\n",
      " 12%|█▏        | 59/513 [00:27<03:39,  2.07it/s]\u001b[A\n",
      " 12%|█▏        | 60/513 [00:28<03:28,  2.17it/s]\u001b[A\n",
      " 12%|█▏        | 61/513 [00:28<03:20,  2.25it/s]\u001b[A\n",
      " 12%|█▏        | 62/513 [00:29<03:14,  2.32it/s]\u001b[A\n",
      " 12%|█▏        | 63/513 [00:29<03:10,  2.36it/s]\u001b[A\n",
      " 12%|█▏        | 64/513 [00:29<03:08,  2.38it/s]\u001b[A\n",
      " 13%|█▎        | 65/513 [00:30<03:24,  2.19it/s]\u001b[A\n",
      " 13%|█▎        | 66/513 [00:30<03:19,  2.24it/s]\u001b[A\n",
      " 13%|█▎        | 67/513 [00:31<03:14,  2.30it/s]\u001b[A\n",
      " 13%|█▎        | 68/513 [00:31<03:09,  2.35it/s]\u001b[A\n",
      " 13%|█▎        | 69/513 [00:32<03:06,  2.38it/s]\u001b[A\n",
      " 14%|█▎        | 70/513 [00:32<03:07,  2.37it/s]\u001b[A\n",
      " 14%|█▍        | 71/513 [00:32<03:04,  2.39it/s]\u001b[A\n",
      " 14%|█▍        | 72/513 [00:33<03:03,  2.41it/s]\u001b[A\n",
      " 14%|█▍        | 73/513 [00:33<03:01,  2.42it/s]\u001b[A\n",
      " 14%|█▍        | 74/513 [00:34<02:59,  2.44it/s]\u001b[A\n",
      " 15%|█▍        | 75/513 [00:34<02:58,  2.45it/s]\u001b[A\n",
      " 15%|█▍        | 76/513 [00:35<03:19,  2.19it/s]\u001b[A\n",
      " 15%|█▌        | 77/513 [00:35<03:48,  1.91it/s]\u001b[A\n",
      " 15%|█▌        | 78/513 [00:36<04:04,  1.78it/s]\u001b[A\n",
      " 15%|█▌        | 79/513 [00:37<04:09,  1.74it/s]\u001b[A\n",
      " 16%|█▌        | 80/513 [00:37<03:56,  1.83it/s]\u001b[A\n",
      " 16%|█▌        | 81/513 [00:37<03:37,  1.98it/s]\u001b[A\n",
      " 16%|█▌        | 82/513 [00:38<03:23,  2.11it/s]\u001b[A\n",
      " 16%|█▌        | 83/513 [00:38<03:14,  2.21it/s]\u001b[A\n",
      " 16%|█▋        | 84/513 [00:39<03:07,  2.29it/s]\u001b[A\n",
      " 17%|█▋        | 85/513 [00:39<03:03,  2.33it/s]\u001b[A\n",
      " 17%|█▋        | 86/513 [00:40<03:27,  2.06it/s]\u001b[A\n",
      " 17%|█▋        | 87/513 [00:40<03:41,  1.92it/s]\u001b[A\n",
      " 17%|█▋        | 88/513 [00:41<03:31,  2.01it/s]\u001b[A\n",
      " 17%|█▋        | 89/513 [00:41<03:23,  2.08it/s]\u001b[A\n",
      " 18%|█▊        | 90/513 [00:42<03:17,  2.15it/s]\u001b[A\n",
      " 18%|█▊        | 91/513 [00:42<03:11,  2.20it/s]\u001b[A\n",
      " 18%|█▊        | 92/513 [00:43<03:34,  1.97it/s]\u001b[A\n",
      " 18%|█▊        | 93/513 [00:43<03:31,  1.98it/s]\u001b[A\n",
      " 18%|█▊        | 94/513 [00:44<03:46,  1.85it/s]\u001b[A\n",
      " 19%|█▊        | 95/513 [00:44<03:39,  1.90it/s]\u001b[A\n",
      " 19%|█▊        | 96/513 [00:45<03:23,  2.05it/s]\u001b[A\n",
      " 19%|█▉        | 97/513 [00:45<03:12,  2.16it/s]\u001b[A\n",
      " 19%|█▉        | 98/513 [00:46<03:08,  2.20it/s]\u001b[A\n",
      " 19%|█▉        | 99/513 [00:46<03:06,  2.22it/s]\u001b[A\n",
      " 19%|█▉        | 100/513 [00:46<02:59,  2.30it/s]\u001b[A\n",
      " 20%|█▉        | 101/513 [00:47<02:55,  2.35it/s]\u001b[A\n",
      " 20%|█▉        | 102/513 [00:47<02:51,  2.39it/s]\u001b[A\n",
      " 20%|██        | 103/513 [00:48<02:49,  2.42it/s]\u001b[A\n",
      " 20%|██        | 104/513 [00:48<03:03,  2.22it/s]\u001b[A\n",
      " 20%|██        | 105/513 [00:49<02:57,  2.30it/s]\u001b[A\n",
      " 21%|██        | 106/513 [00:49<02:53,  2.35it/s]\u001b[A\n",
      " 21%|██        | 107/513 [00:49<02:50,  2.38it/s]\u001b[A\n",
      " 21%|██        | 108/513 [00:50<03:00,  2.24it/s]\u001b[A\n",
      " 21%|██        | 109/513 [00:50<03:26,  1.96it/s]\u001b[A\n",
      " 21%|██▏       | 110/513 [00:51<03:22,  1.99it/s]\u001b[A\n",
      " 22%|██▏       | 111/513 [00:52<03:26,  1.94it/s]\u001b[A\n",
      " 22%|██▏       | 112/513 [00:52<03:16,  2.04it/s]\u001b[A\n",
      " 22%|██▏       | 113/513 [00:52<03:08,  2.13it/s]\u001b[A\n",
      " 22%|██▏       | 114/513 [00:53<02:59,  2.22it/s]\u001b[A\n",
      " 22%|██▏       | 115/513 [00:53<02:54,  2.29it/s]\u001b[A\n",
      " 23%|██▎       | 116/513 [00:54<02:52,  2.30it/s]\u001b[A\n",
      " 23%|██▎       | 117/513 [00:54<02:49,  2.34it/s]\u001b[A\n",
      " 23%|██▎       | 118/513 [00:54<02:46,  2.38it/s]\u001b[A\n",
      " 23%|██▎       | 119/513 [00:55<03:04,  2.13it/s]\u001b[A\n",
      " 23%|██▎       | 120/513 [00:56<03:15,  2.01it/s]\u001b[A\n",
      " 24%|██▎       | 121/513 [00:56<03:31,  1.85it/s]\u001b[A\n",
      " 24%|██▍       | 122/513 [00:57<03:43,  1.75it/s]\u001b[A\n",
      " 24%|██▍       | 123/513 [00:57<03:32,  1.84it/s]\u001b[A\n",
      " 24%|██▍       | 124/513 [00:58<03:15,  1.99it/s]\u001b[A\n",
      " 24%|██▍       | 125/513 [00:58<03:04,  2.11it/s]\u001b[A\n",
      " 25%|██▍       | 126/513 [00:59<02:59,  2.15it/s]\u001b[A\n",
      " 25%|██▍       | 127/513 [00:59<02:57,  2.17it/s]\u001b[A\n",
      " 25%|██▍       | 128/513 [00:59<02:55,  2.20it/s]\u001b[A\n",
      " 25%|██▌       | 129/513 [01:00<03:08,  2.04it/s]\u001b[A\n",
      " 25%|██▌       | 130/513 [01:01<03:18,  1.93it/s]\u001b[A\n",
      " 26%|██▌       | 131/513 [01:01<03:05,  2.06it/s]\u001b[A\n",
      " 26%|██▌       | 132/513 [01:01<02:54,  2.18it/s]\u001b[A\n",
      " 26%|██▌       | 133/513 [01:02<02:47,  2.27it/s]\u001b[A\n",
      " 26%|██▌       | 134/513 [01:02<02:42,  2.34it/s]\u001b[A\n",
      " 26%|██▋       | 135/513 [01:03<02:55,  2.16it/s]\u001b[A\n",
      " 27%|██▋       | 136/513 [01:03<03:08,  2.00it/s]\u001b[A\n",
      " 27%|██▋       | 137/513 [01:04<02:57,  2.11it/s]\u001b[A\n",
      " 27%|██▋       | 138/513 [01:04<02:49,  2.21it/s]\u001b[A\n",
      " 27%|██▋       | 139/513 [01:05<02:44,  2.27it/s]\u001b[A\n",
      " 27%|██▋       | 140/513 [01:05<02:40,  2.33it/s]\u001b[A\n",
      " 27%|██▋       | 141/513 [01:05<02:37,  2.36it/s]\u001b[A\n",
      " 28%|██▊       | 142/513 [01:06<02:38,  2.34it/s]\u001b[A\n",
      " 28%|██▊       | 143/513 [01:06<02:36,  2.36it/s]\u001b[A\n",
      " 28%|██▊       | 144/513 [01:07<02:52,  2.14it/s]\u001b[A\n",
      " 28%|██▊       | 145/513 [01:07<03:09,  1.94it/s]\u001b[A\n",
      " 28%|██▊       | 146/513 [01:08<03:09,  1.93it/s]\u001b[A\n",
      " 29%|██▊       | 147/513 [01:09<03:14,  1.88it/s]\u001b[A\n",
      " 29%|██▉       | 148/513 [01:09<03:07,  1.95it/s]\u001b[A\n",
      " 29%|██▉       | 149/513 [01:09<02:59,  2.03it/s]\u001b[A\n",
      " 29%|██▉       | 150/513 [01:10<02:53,  2.10it/s]\u001b[A\n",
      " 29%|██▉       | 151/513 [01:10<02:45,  2.19it/s]\u001b[A\n",
      " 30%|██▉       | 152/513 [01:11<02:38,  2.27it/s]\u001b[A\n",
      " 30%|██▉       | 153/513 [01:11<02:34,  2.33it/s]\u001b[A\n",
      " 30%|███       | 154/513 [01:12<02:47,  2.15it/s]\u001b[A\n",
      " 30%|███       | 155/513 [01:12<02:57,  2.02it/s]\u001b[A\n"
     ]
    },
    {
     "name": "stderr",
     "output_type": "stream",
     "text": [
      " 30%|███       | 156/513 [01:13<02:51,  2.09it/s]\u001b[A\n",
      " 31%|███       | 157/513 [01:13<02:42,  2.19it/s]\u001b[A\n",
      " 31%|███       | 158/513 [01:14<02:59,  1.98it/s]\u001b[A\n",
      " 31%|███       | 159/513 [01:14<03:10,  1.86it/s]\u001b[A\n",
      " 31%|███       | 160/513 [01:15<02:58,  1.97it/s]\u001b[A\n",
      " 31%|███▏      | 161/513 [01:15<02:48,  2.10it/s]\u001b[A\n",
      " 32%|███▏      | 162/513 [01:16<02:40,  2.19it/s]\u001b[A\n",
      " 32%|███▏      | 163/513 [01:16<02:34,  2.26it/s]\u001b[A\n",
      " 32%|███▏      | 164/513 [01:17<02:52,  2.02it/s]\u001b[A\n",
      " 32%|███▏      | 165/513 [01:17<02:47,  2.08it/s]\u001b[A\n",
      " 32%|███▏      | 166/513 [01:17<02:42,  2.13it/s]\u001b[A\n",
      " 33%|███▎      | 167/513 [01:18<02:38,  2.18it/s]\u001b[A\n",
      " 33%|███▎      | 168/513 [01:18<02:35,  2.22it/s]\u001b[A\n",
      " 33%|███▎      | 169/513 [01:19<02:29,  2.30it/s]\u001b[A\n",
      " 33%|███▎      | 170/513 [01:19<02:26,  2.34it/s]\u001b[A\n",
      " 33%|███▎      | 171/513 [01:20<02:43,  2.09it/s]\u001b[A\n",
      " 34%|███▎      | 172/513 [01:20<03:03,  1.86it/s]\u001b[A\n",
      " 34%|███▎      | 173/513 [01:21<03:10,  1.78it/s]\u001b[A\n",
      " 34%|███▍      | 174/513 [01:22<03:24,  1.66it/s]\u001b[A\n",
      " 34%|███▍      | 175/513 [01:22<03:06,  1.81it/s]\u001b[A\n",
      " 34%|███▍      | 176/513 [01:23<02:53,  1.94it/s]\u001b[A\n",
      " 35%|███▍      | 177/513 [01:23<02:41,  2.08it/s]\u001b[A\n",
      " 35%|███▍      | 178/513 [01:23<02:32,  2.20it/s]\u001b[A\n",
      " 35%|███▍      | 179/513 [01:24<02:26,  2.28it/s]\u001b[A\n",
      " 35%|███▌      | 180/513 [01:24<02:44,  2.03it/s]\u001b[A\n",
      " 35%|███▌      | 181/513 [01:25<02:37,  2.11it/s]\u001b[A\n",
      " 35%|███▌      | 182/513 [01:25<02:28,  2.22it/s]\u001b[A\n",
      " 36%|███▌      | 183/513 [01:26<02:23,  2.31it/s]\u001b[A\n",
      " 36%|███▌      | 184/513 [01:26<02:19,  2.36it/s]\u001b[A\n",
      " 36%|███▌      | 185/513 [01:26<02:22,  2.30it/s]\u001b[A\n",
      " 36%|███▋      | 186/513 [01:27<02:26,  2.23it/s]\u001b[A\n",
      " 36%|███▋      | 187/513 [01:28<02:40,  2.04it/s]\u001b[A\n",
      " 37%|███▋      | 188/513 [01:28<02:34,  2.10it/s]\u001b[A\n",
      " 37%|███▋      | 189/513 [01:28<02:27,  2.20it/s]\u001b[A\n",
      " 37%|███▋      | 190/513 [01:29<02:21,  2.28it/s]\u001b[A\n",
      " 37%|███▋      | 191/513 [01:29<02:17,  2.34it/s]\u001b[A\n",
      " 37%|███▋      | 192/513 [01:30<02:15,  2.37it/s]\u001b[A\n",
      " 38%|███▊      | 193/513 [01:30<02:16,  2.34it/s]\u001b[A\n",
      " 38%|███▊      | 194/513 [01:31<02:24,  2.20it/s]\u001b[A\n",
      " 38%|███▊      | 195/513 [01:31<02:22,  2.23it/s]\u001b[A\n",
      " 38%|███▊      | 196/513 [01:31<02:18,  2.29it/s]\u001b[A\n",
      " 38%|███▊      | 197/513 [01:32<02:43,  1.94it/s]\u001b[A\n",
      " 39%|███▊      | 198/513 [01:33<02:50,  1.85it/s]\u001b[A\n",
      " 39%|███▉      | 199/513 [01:33<02:38,  1.98it/s]\u001b[A\n",
      " 39%|███▉      | 200/513 [01:34<02:34,  2.03it/s]\u001b[A\n",
      " 39%|███▉      | 201/513 [01:34<02:25,  2.15it/s]\u001b[A\n",
      " 39%|███▉      | 202/513 [01:34<02:23,  2.16it/s]\u001b[A\n",
      " 40%|███▉      | 203/513 [01:35<02:20,  2.21it/s]\u001b[A\n",
      " 40%|███▉      | 204/513 [01:35<02:15,  2.28it/s]\u001b[A\n",
      " 40%|███▉      | 205/513 [01:36<02:12,  2.33it/s]\u001b[A\n",
      " 40%|████      | 206/513 [01:36<02:10,  2.35it/s]\u001b[A\n",
      " 40%|████      | 207/513 [01:37<02:11,  2.33it/s]\u001b[A\n",
      " 41%|████      | 208/513 [01:37<02:26,  2.08it/s]\u001b[A\n",
      " 41%|████      | 209/513 [01:38<02:19,  2.17it/s]\u001b[A\n",
      " 41%|████      | 210/513 [01:38<02:13,  2.27it/s]\u001b[A\n",
      " 41%|████      | 211/513 [01:39<02:24,  2.08it/s]\u001b[A\n",
      " 41%|████▏     | 212/513 [01:39<02:34,  1.95it/s]\u001b[A\n",
      " 42%|████▏     | 213/513 [01:40<02:23,  2.09it/s]\u001b[A\n",
      " 42%|████▏     | 214/513 [01:40<02:15,  2.20it/s]\u001b[A\n",
      " 42%|████▏     | 215/513 [01:40<02:11,  2.27it/s]\u001b[A\n",
      " 42%|████▏     | 216/513 [01:41<02:06,  2.34it/s]\u001b[A\n",
      " 42%|████▏     | 217/513 [01:41<02:04,  2.37it/s]\u001b[A\n",
      " 42%|████▏     | 218/513 [01:42<02:02,  2.40it/s]\u001b[A\n",
      " 43%|████▎     | 219/513 [01:42<02:04,  2.36it/s]\u001b[A\n",
      " 43%|████▎     | 220/513 [01:42<02:05,  2.33it/s]\u001b[A\n",
      " 43%|████▎     | 221/513 [01:43<02:03,  2.37it/s]\u001b[A\n",
      " 43%|████▎     | 222/513 [01:43<02:00,  2.41it/s]\u001b[A\n",
      " 43%|████▎     | 223/513 [01:44<01:58,  2.44it/s]\u001b[A\n",
      " 44%|████▎     | 224/513 [01:44<01:57,  2.47it/s]\u001b[A\n",
      " 44%|████▍     | 225/513 [01:45<02:11,  2.20it/s]\u001b[A\n",
      " 44%|████▍     | 226/513 [01:45<02:20,  2.05it/s]\u001b[A\n",
      " 44%|████▍     | 227/513 [01:46<02:13,  2.15it/s]\u001b[A\n",
      " 44%|████▍     | 228/513 [01:46<02:07,  2.23it/s]\u001b[A\n",
      " 45%|████▍     | 229/513 [01:46<02:03,  2.30it/s]\u001b[A\n",
      " 45%|████▍     | 230/513 [01:47<02:00,  2.34it/s]\u001b[A\n",
      " 45%|████▌     | 231/513 [01:47<01:58,  2.37it/s]\u001b[A\n",
      " 45%|████▌     | 232/513 [01:48<01:57,  2.40it/s]\u001b[A\n",
      " 45%|████▌     | 233/513 [01:48<01:56,  2.40it/s]\u001b[A\n",
      " 46%|████▌     | 234/513 [01:48<01:55,  2.41it/s]\u001b[A\n",
      " 46%|████▌     | 235/513 [01:49<01:54,  2.43it/s]\u001b[A\n",
      " 46%|████▌     | 236/513 [01:49<01:53,  2.44it/s]\u001b[A\n",
      " 46%|████▌     | 237/513 [01:50<01:52,  2.44it/s]\u001b[A\n",
      " 46%|████▋     | 238/513 [01:50<01:52,  2.45it/s]\u001b[A\n",
      " 47%|████▋     | 239/513 [01:50<01:51,  2.46it/s]\u001b[A\n",
      " 47%|████▋     | 240/513 [01:51<01:50,  2.46it/s]\u001b[A\n",
      " 47%|████▋     | 241/513 [01:51<02:02,  2.23it/s]\u001b[A\n",
      " 47%|████▋     | 242/513 [01:52<02:05,  2.15it/s]\u001b[A\n",
      " 47%|████▋     | 243/513 [01:52<02:01,  2.22it/s]\u001b[A\n",
      " 48%|████▊     | 244/513 [01:53<01:56,  2.30it/s]\u001b[A\n",
      " 48%|████▊     | 245/513 [01:53<01:53,  2.36it/s]\u001b[A\n",
      " 48%|████▊     | 246/513 [01:54<01:50,  2.41it/s]\u001b[A\n",
      " 48%|████▊     | 247/513 [01:54<01:52,  2.37it/s]\u001b[A\n",
      " 48%|████▊     | 248/513 [01:55<02:06,  2.10it/s]\u001b[A\n",
      " 49%|████▊     | 249/513 [01:55<02:21,  1.87it/s]\u001b[A\n",
      " 49%|████▊     | 250/513 [01:56<02:25,  1.81it/s]\u001b[A\n",
      " 49%|████▉     | 251/513 [01:56<02:23,  1.83it/s]\u001b[A\n",
      " 49%|████▉     | 252/513 [01:57<02:23,  1.82it/s]\u001b[A\n",
      " 49%|████▉     | 253/513 [01:58<02:27,  1.76it/s]\u001b[A\n",
      " 50%|████▉     | 254/513 [01:58<02:19,  1.86it/s]\u001b[A\n",
      " 50%|████▉     | 255/513 [01:58<02:08,  2.01it/s]\u001b[A\n",
      " 50%|████▉     | 256/513 [01:59<02:11,  1.95it/s]\u001b[A\n",
      " 50%|█████     | 257/513 [02:00<02:16,  1.87it/s]\u001b[A\n",
      " 50%|█████     | 258/513 [02:00<02:05,  2.02it/s]\u001b[A\n",
      " 50%|█████     | 259/513 [02:00<01:58,  2.15it/s]\u001b[A\n",
      " 51%|█████     | 260/513 [02:01<01:52,  2.24it/s]\u001b[A\n",
      " 51%|█████     | 261/513 [02:01<01:49,  2.31it/s]\u001b[A\n",
      " 51%|█████     | 262/513 [02:02<01:49,  2.29it/s]\u001b[A\n",
      " 51%|█████▏    | 263/513 [02:02<02:01,  2.05it/s]\u001b[A\n",
      " 51%|█████▏    | 264/513 [02:03<02:02,  2.03it/s]\u001b[A\n",
      " 52%|█████▏    | 265/513 [02:03<01:57,  2.10it/s]\u001b[A\n",
      " 52%|█████▏    | 266/513 [02:04<01:52,  2.19it/s]\u001b[A\n",
      " 52%|█████▏    | 267/513 [02:04<01:48,  2.26it/s]\u001b[A\n",
      " 52%|█████▏    | 268/513 [02:04<01:45,  2.32it/s]\u001b[A\n",
      " 52%|█████▏    | 269/513 [02:05<01:46,  2.30it/s]\u001b[A\n",
      " 53%|█████▎    | 270/513 [02:05<01:57,  2.06it/s]\u001b[A\n",
      " 53%|█████▎    | 271/513 [02:06<02:06,  1.92it/s]\u001b[A\n",
      " 53%|█████▎    | 272/513 [02:07<02:07,  1.89it/s]\u001b[A\n",
      " 53%|█████▎    | 273/513 [02:07<02:13,  1.80it/s]\u001b[A\n",
      " 53%|█████▎    | 274/513 [02:08<02:23,  1.67it/s]\u001b[A\n",
      " 54%|█████▎    | 275/513 [02:08<02:15,  1.76it/s]\u001b[A\n",
      " 54%|█████▍    | 276/513 [02:09<02:16,  1.73it/s]\u001b[A\n",
      " 54%|█████▍    | 277/513 [02:10<02:17,  1.72it/s]\u001b[A\n",
      " 54%|█████▍    | 278/513 [02:10<02:03,  1.90it/s]\u001b[A\n",
      " 54%|█████▍    | 279/513 [02:10<01:54,  2.04it/s]\u001b[A\n",
      " 55%|█████▍    | 280/513 [02:11<01:55,  2.02it/s]\u001b[A\n",
      " 55%|█████▍    | 281/513 [02:11<02:03,  1.88it/s]\u001b[A\n",
      " 55%|█████▍    | 282/513 [02:12<02:07,  1.81it/s]\u001b[A\n",
      " 55%|█████▌    | 283/513 [02:13<02:08,  1.79it/s]\u001b[A\n",
      " 55%|█████▌    | 284/513 [02:13<02:08,  1.78it/s]\u001b[A\n",
      " 56%|█████▌    | 285/513 [02:14<01:57,  1.95it/s]\u001b[A\n",
      " 56%|█████▌    | 286/513 [02:14<01:48,  2.09it/s]\u001b[A\n",
      " 56%|█████▌    | 287/513 [02:15<01:54,  1.98it/s]\u001b[A\n",
      " 56%|█████▌    | 288/513 [02:15<02:00,  1.87it/s]\u001b[A\n",
      " 56%|█████▋    | 289/513 [02:16<01:56,  1.93it/s]\u001b[A\n",
      " 57%|█████▋    | 290/513 [02:16<01:48,  2.05it/s]\u001b[A\n",
      " 57%|█████▋    | 291/513 [02:17<01:42,  2.17it/s]\u001b[A\n",
      " 57%|█████▋    | 292/513 [02:17<01:37,  2.26it/s]\u001b[A\n",
      " 57%|█████▋    | 293/513 [02:17<01:34,  2.33it/s]\u001b[A\n",
      " 57%|█████▋    | 294/513 [02:18<01:45,  2.08it/s]\u001b[A\n",
      " 58%|█████▊    | 295/513 [02:18<01:51,  1.95it/s]\u001b[A\n",
      " 58%|█████▊    | 296/513 [02:19<01:43,  2.09it/s]\u001b[A\n",
      " 58%|█████▊    | 297/513 [02:19<01:37,  2.21it/s]\u001b[A\n",
      " 58%|█████▊    | 298/513 [02:20<01:34,  2.28it/s]\u001b[A\n",
      " 58%|█████▊    | 299/513 [02:20<01:31,  2.34it/s]\u001b[A\n",
      " 58%|█████▊    | 300/513 [02:20<01:28,  2.39it/s]\u001b[A\n",
      " 59%|█████▊    | 301/513 [02:21<01:35,  2.21it/s]\u001b[A\n",
      " 59%|█████▉    | 302/513 [02:21<01:37,  2.17it/s]\u001b[A\n",
      " 59%|█████▉    | 303/513 [02:22<01:46,  1.97it/s]\u001b[A\n",
      " 59%|█████▉    | 304/513 [02:23<01:39,  2.10it/s]\u001b[A\n",
      " 59%|█████▉    | 305/513 [02:23<01:37,  2.12it/s]\u001b[A\n",
      " 60%|█████▉    | 306/513 [02:24<01:44,  1.97it/s]\u001b[A\n",
      " 60%|█████▉    | 307/513 [02:24<01:44,  1.98it/s]\u001b[A\n",
      " 60%|██████    | 308/513 [02:24<01:37,  2.11it/s]\u001b[A\n",
      " 60%|██████    | 309/513 [02:25<01:41,  2.02it/s]\u001b[A\n"
     ]
    },
    {
     "name": "stderr",
     "output_type": "stream",
     "text": [
      " 60%|██████    | 310/513 [02:26<01:43,  1.96it/s]\u001b[A\n",
      " 61%|██████    | 311/513 [02:26<01:41,  1.99it/s]\u001b[A\n",
      " 61%|██████    | 312/513 [02:27<01:40,  2.00it/s]\u001b[A\n",
      " 61%|██████    | 313/513 [02:27<01:34,  2.11it/s]\u001b[A\n",
      " 61%|██████    | 314/513 [02:27<01:30,  2.21it/s]\u001b[A\n",
      " 61%|██████▏   | 315/513 [02:28<01:32,  2.14it/s]\u001b[A\n",
      " 62%|██████▏   | 316/513 [02:28<01:41,  1.94it/s]\u001b[A\n",
      " 62%|██████▏   | 317/513 [02:29<01:44,  1.88it/s]\u001b[A\n",
      " 62%|██████▏   | 318/513 [02:30<01:39,  1.96it/s]\u001b[A\n",
      " 62%|██████▏   | 319/513 [02:30<01:40,  1.93it/s]\u001b[A\n",
      " 62%|██████▏   | 320/513 [02:31<01:37,  1.99it/s]\u001b[A\n",
      " 63%|██████▎   | 321/513 [02:31<01:42,  1.86it/s]\u001b[A\n",
      " 63%|██████▎   | 322/513 [02:32<01:34,  2.02it/s]\u001b[A\n",
      " 63%|██████▎   | 323/513 [02:32<01:36,  1.97it/s]\u001b[A\n",
      " 63%|██████▎   | 324/513 [02:33<01:48,  1.75it/s]\u001b[A\n",
      " 63%|██████▎   | 325/513 [02:33<01:48,  1.73it/s]\u001b[A\n",
      " 64%|██████▎   | 326/513 [02:34<01:38,  1.90it/s]\u001b[A\n",
      " 64%|██████▎   | 327/513 [02:34<01:31,  2.04it/s]\u001b[A\n",
      " 64%|██████▍   | 328/513 [02:35<01:25,  2.15it/s]\u001b[A\n",
      " 64%|██████▍   | 329/513 [02:35<01:22,  2.24it/s]\u001b[A\n",
      " 64%|██████▍   | 330/513 [02:35<01:19,  2.31it/s]\u001b[A\n",
      " 65%|██████▍   | 331/513 [02:36<01:23,  2.19it/s]\u001b[A\n",
      " 65%|██████▍   | 332/513 [02:36<01:22,  2.19it/s]\u001b[A\n",
      " 65%|██████▍   | 333/513 [02:37<01:19,  2.26it/s]\u001b[A\n",
      " 65%|██████▌   | 334/513 [02:37<01:17,  2.32it/s]\u001b[A\n",
      " 65%|██████▌   | 335/513 [02:38<01:17,  2.30it/s]\u001b[A\n",
      " 65%|██████▌   | 336/513 [02:38<01:18,  2.25it/s]\u001b[A\n",
      " 66%|██████▌   | 337/513 [02:39<01:17,  2.26it/s]\u001b[A\n",
      " 66%|██████▌   | 338/513 [02:39<01:22,  2.13it/s]\u001b[A\n",
      " 66%|██████▌   | 339/513 [02:40<01:31,  1.90it/s]\u001b[A\n",
      " 66%|██████▋   | 340/513 [02:40<01:33,  1.85it/s]\u001b[A\n",
      " 66%|██████▋   | 341/513 [02:41<01:31,  1.87it/s]\u001b[A\n",
      " 67%|██████▋   | 342/513 [02:41<01:24,  2.01it/s]\u001b[A\n",
      " 67%|██████▋   | 343/513 [02:42<01:19,  2.13it/s]\u001b[A\n",
      " 67%|██████▋   | 344/513 [02:42<01:16,  2.21it/s]\u001b[A\n",
      " 67%|██████▋   | 345/513 [02:42<01:13,  2.29it/s]\u001b[A\n",
      " 67%|██████▋   | 346/513 [02:43<01:11,  2.34it/s]\u001b[A\n",
      " 68%|██████▊   | 347/513 [02:43<01:10,  2.37it/s]\u001b[A\n",
      " 68%|██████▊   | 348/513 [02:44<01:09,  2.38it/s]\u001b[A\n",
      " 68%|██████▊   | 349/513 [02:44<01:09,  2.36it/s]\u001b[A\n",
      " 68%|██████▊   | 350/513 [02:45<01:17,  2.10it/s]\u001b[A\n",
      " 68%|██████▊   | 351/513 [02:45<01:14,  2.18it/s]\u001b[A\n",
      " 69%|██████▊   | 352/513 [02:46<01:11,  2.27it/s]\u001b[A\n",
      " 69%|██████▉   | 353/513 [02:46<01:08,  2.33it/s]\u001b[A\n",
      " 69%|██████▉   | 354/513 [02:46<01:06,  2.37it/s]\u001b[A\n",
      " 69%|██████▉   | 355/513 [02:47<01:13,  2.16it/s]\u001b[A\n",
      " 69%|██████▉   | 356/513 [02:47<01:18,  2.00it/s]\u001b[A\n",
      " 70%|██████▉   | 357/513 [02:48<01:16,  2.04it/s]\u001b[A\n",
      " 70%|██████▉   | 358/513 [02:48<01:12,  2.15it/s]\u001b[A\n",
      " 70%|██████▉   | 359/513 [02:49<01:15,  2.05it/s]\u001b[A\n",
      " 70%|███████   | 360/513 [02:49<01:15,  2.04it/s]\u001b[A\n",
      " 70%|███████   | 361/513 [02:50<01:18,  1.93it/s]\u001b[A\n",
      " 71%|███████   | 362/513 [02:50<01:12,  2.08it/s]\u001b[A\n",
      " 71%|███████   | 363/513 [02:51<01:08,  2.19it/s]\u001b[A\n",
      " 71%|███████   | 364/513 [02:51<01:05,  2.28it/s]\u001b[A\n",
      " 71%|███████   | 365/513 [02:52<01:03,  2.34it/s]\u001b[A\n",
      " 71%|███████▏  | 366/513 [02:52<01:01,  2.39it/s]\u001b[A\n",
      " 72%|███████▏  | 367/513 [02:52<01:00,  2.42it/s]\u001b[A\n",
      " 72%|███████▏  | 368/513 [02:53<00:59,  2.45it/s]\u001b[A\n",
      " 72%|███████▏  | 369/513 [02:53<00:58,  2.47it/s]\u001b[A\n",
      " 72%|███████▏  | 370/513 [02:54<00:57,  2.49it/s]\u001b[A\n",
      " 72%|███████▏  | 371/513 [02:54<00:56,  2.50it/s]\u001b[A\n",
      " 73%|███████▎  | 372/513 [02:54<00:56,  2.50it/s]\u001b[A\n",
      " 73%|███████▎  | 373/513 [02:55<00:57,  2.42it/s]\u001b[A\n",
      " 73%|███████▎  | 374/513 [02:55<00:56,  2.44it/s]\u001b[A\n",
      " 73%|███████▎  | 375/513 [02:56<00:56,  2.46it/s]\u001b[A\n",
      " 73%|███████▎  | 376/513 [02:56<01:03,  2.14it/s]\u001b[A\n",
      " 73%|███████▎  | 377/513 [02:57<01:08,  2.00it/s]\u001b[A\n",
      " 74%|███████▎  | 378/513 [02:57<01:10,  1.93it/s]\u001b[A\n",
      " 74%|███████▍  | 379/513 [02:58<01:08,  1.97it/s]\u001b[A\n",
      " 74%|███████▍  | 380/513 [02:58<01:03,  2.08it/s]\u001b[A\n",
      " 74%|███████▍  | 381/513 [02:59<01:00,  2.17it/s]\u001b[A\n",
      " 74%|███████▍  | 382/513 [02:59<01:01,  2.12it/s]\u001b[A\n",
      " 75%|███████▍  | 383/513 [03:00<00:59,  2.20it/s]\u001b[A\n",
      " 75%|███████▍  | 384/513 [03:00<00:57,  2.26it/s]\u001b[A\n",
      " 75%|███████▌  | 385/513 [03:01<01:03,  2.03it/s]\u001b[A\n",
      " 75%|███████▌  | 386/513 [03:01<01:02,  2.04it/s]\u001b[A\n",
      " 75%|███████▌  | 387/513 [03:02<01:05,  1.92it/s]\u001b[A\n",
      " 76%|███████▌  | 388/513 [03:02<01:02,  2.01it/s]\u001b[A\n",
      " 76%|███████▌  | 389/513 [03:03<00:58,  2.13it/s]\u001b[A\n",
      " 76%|███████▌  | 390/513 [03:03<00:55,  2.21it/s]\u001b[A\n",
      " 76%|███████▌  | 391/513 [03:03<00:53,  2.28it/s]\u001b[A\n",
      " 76%|███████▋  | 392/513 [03:04<00:51,  2.34it/s]\u001b[A\n",
      " 77%|███████▋  | 393/513 [03:04<00:50,  2.37it/s]\u001b[A\n",
      " 77%|███████▋  | 394/513 [03:05<00:49,  2.41it/s]\u001b[A\n",
      " 77%|███████▋  | 395/513 [03:05<00:48,  2.43it/s]\u001b[A\n",
      " 77%|███████▋  | 396/513 [03:05<00:47,  2.45it/s]\u001b[A\n",
      " 77%|███████▋  | 397/513 [03:06<00:47,  2.46it/s]\u001b[A\n",
      " 78%|███████▊  | 398/513 [03:06<00:46,  2.45it/s]\u001b[A\n",
      " 78%|███████▊  | 399/513 [03:07<00:51,  2.22it/s]\u001b[A\n",
      " 78%|███████▊  | 400/513 [03:07<00:54,  2.06it/s]\u001b[A\n",
      " 78%|███████▊  | 401/513 [03:08<00:55,  2.01it/s]\u001b[A\n",
      " 78%|███████▊  | 402/513 [03:08<00:52,  2.12it/s]\u001b[A\n",
      " 79%|███████▊  | 403/513 [03:09<00:49,  2.21it/s]\u001b[A\n",
      " 79%|███████▉  | 404/513 [03:09<00:47,  2.28it/s]\u001b[A\n",
      " 79%|███████▉  | 405/513 [03:09<00:46,  2.30it/s]\u001b[A\n",
      " 79%|███████▉  | 406/513 [03:10<00:45,  2.35it/s]\u001b[A\n",
      " 79%|███████▉  | 407/513 [03:10<00:47,  2.22it/s]\u001b[A\n",
      " 80%|███████▉  | 408/513 [03:11<00:47,  2.20it/s]\u001b[A\n",
      " 80%|███████▉  | 409/513 [03:11<00:45,  2.28it/s]\u001b[A\n",
      " 80%|███████▉  | 410/513 [03:12<00:44,  2.34it/s]\u001b[A\n",
      " 80%|████████  | 411/513 [03:12<00:42,  2.38it/s]\u001b[A\n",
      " 80%|████████  | 412/513 [03:12<00:42,  2.40it/s]\u001b[A\n",
      " 81%|████████  | 413/513 [03:13<00:41,  2.41it/s]\u001b[A\n",
      " 81%|████████  | 414/513 [03:13<00:40,  2.42it/s]\u001b[A\n",
      " 81%|████████  | 415/513 [03:14<00:40,  2.44it/s]\u001b[A\n",
      " 81%|████████  | 416/513 [03:14<00:39,  2.45it/s]\u001b[A\n",
      " 81%|████████▏ | 417/513 [03:14<00:39,  2.46it/s]\u001b[A\n",
      " 81%|████████▏ | 418/513 [03:15<00:38,  2.47it/s]\u001b[A\n",
      " 82%|████████▏ | 419/513 [03:15<00:38,  2.47it/s]\u001b[A\n",
      " 82%|████████▏ | 420/513 [03:16<00:37,  2.47it/s]\u001b[A\n",
      " 82%|████████▏ | 421/513 [03:16<00:42,  2.17it/s]\u001b[A\n",
      " 82%|████████▏ | 422/513 [03:17<00:41,  2.21it/s]\u001b[A\n",
      " 82%|████████▏ | 423/513 [03:17<00:39,  2.28it/s]\u001b[A\n",
      " 83%|████████▎ | 424/513 [03:18<00:39,  2.27it/s]\u001b[A\n",
      " 83%|████████▎ | 425/513 [03:18<00:41,  2.13it/s]\u001b[A\n",
      " 83%|████████▎ | 426/513 [03:19<00:41,  2.09it/s]\u001b[A\n",
      " 83%|████████▎ | 427/513 [03:19<00:40,  2.14it/s]\u001b[A\n",
      " 83%|████████▎ | 428/513 [03:19<00:38,  2.19it/s]\u001b[A\n",
      " 84%|████████▎ | 429/513 [03:20<00:37,  2.26it/s]\u001b[A\n",
      " 84%|████████▍ | 430/513 [03:20<00:35,  2.33it/s]\u001b[A\n",
      " 84%|████████▍ | 431/513 [03:21<00:38,  2.16it/s]\u001b[A\n",
      " 84%|████████▍ | 432/513 [03:21<00:36,  2.22it/s]\u001b[A\n",
      " 84%|████████▍ | 433/513 [03:22<00:34,  2.29it/s]\u001b[A\n",
      " 85%|████████▍ | 434/513 [03:22<00:33,  2.35it/s]\u001b[A\n",
      " 85%|████████▍ | 435/513 [03:22<00:32,  2.39it/s]\u001b[A\n",
      " 85%|████████▍ | 436/513 [03:23<00:32,  2.38it/s]\u001b[A\n",
      " 85%|████████▌ | 437/513 [03:23<00:31,  2.40it/s]\u001b[A\n",
      " 85%|████████▌ | 438/513 [03:24<00:31,  2.42it/s]\u001b[A\n",
      " 86%|████████▌ | 439/513 [03:24<00:30,  2.43it/s]\u001b[A\n",
      " 86%|████████▌ | 440/513 [03:25<00:33,  2.15it/s]\u001b[A\n",
      " 86%|████████▌ | 441/513 [03:25<00:32,  2.21it/s]\u001b[A\n",
      " 86%|████████▌ | 442/513 [03:26<00:31,  2.28it/s]\u001b[A\n",
      " 86%|████████▋ | 443/513 [03:26<00:32,  2.18it/s]\u001b[A\n",
      " 87%|████████▋ | 444/513 [03:26<00:30,  2.27it/s]\u001b[A\n",
      " 87%|████████▋ | 445/513 [03:27<00:30,  2.21it/s]\u001b[A\n",
      " 87%|████████▋ | 446/513 [03:28<00:33,  1.98it/s]\u001b[A\n",
      " 87%|████████▋ | 447/513 [03:28<00:33,  1.95it/s]\u001b[A\n",
      " 87%|████████▋ | 448/513 [03:29<00:32,  2.02it/s]\u001b[A\n",
      " 88%|████████▊ | 449/513 [03:29<00:30,  2.08it/s]\u001b[A\n",
      " 88%|████████▊ | 450/513 [03:29<00:29,  2.11it/s]\u001b[A\n",
      " 88%|████████▊ | 451/513 [03:30<00:28,  2.19it/s]\u001b[A\n",
      " 88%|████████▊ | 452/513 [03:30<00:26,  2.26it/s]\u001b[A\n",
      " 88%|████████▊ | 453/513 [03:31<00:26,  2.31it/s]\u001b[A\n",
      " 88%|████████▊ | 454/513 [03:31<00:26,  2.19it/s]\u001b[A\n",
      " 89%|████████▊ | 455/513 [03:32<00:25,  2.25it/s]\u001b[A\n",
      " 89%|████████▉ | 456/513 [03:32<00:26,  2.12it/s]\u001b[A\n",
      " 89%|████████▉ | 457/513 [03:33<00:28,  1.96it/s]\u001b[A\n",
      " 89%|████████▉ | 458/513 [03:33<00:27,  1.99it/s]\u001b[A\n",
      " 89%|████████▉ | 459/513 [03:34<00:25,  2.11it/s]\u001b[A\n",
      " 90%|████████▉ | 460/513 [03:34<00:23,  2.21it/s]\u001b[A\n",
      " 90%|████████▉ | 461/513 [03:34<00:22,  2.28it/s]\u001b[A\n",
      " 90%|█████████ | 462/513 [03:35<00:22,  2.23it/s]\u001b[A\n",
      " 90%|█████████ | 463/513 [03:35<00:21,  2.30it/s]\u001b[A\n"
     ]
    },
    {
     "name": "stderr",
     "output_type": "stream",
     "text": [
      " 90%|█████████ | 464/513 [03:36<00:20,  2.34it/s]\u001b[A\n",
      " 91%|█████████ | 465/513 [03:36<00:20,  2.37it/s]\u001b[A\n",
      " 91%|█████████ | 466/513 [03:37<00:19,  2.39it/s]\u001b[A\n",
      " 91%|█████████ | 467/513 [03:37<00:21,  2.11it/s]\u001b[A\n",
      " 91%|█████████ | 468/513 [03:38<00:20,  2.20it/s]\u001b[A\n",
      " 91%|█████████▏| 469/513 [03:38<00:20,  2.13it/s]\u001b[A\n",
      " 92%|█████████▏| 470/513 [03:39<00:21,  1.96it/s]\u001b[A\n",
      " 92%|█████████▏| 471/513 [03:39<00:20,  2.08it/s]\u001b[A\n",
      " 92%|█████████▏| 472/513 [03:39<00:18,  2.17it/s]\u001b[A\n",
      " 92%|█████████▏| 473/513 [03:40<00:18,  2.18it/s]\u001b[A\n",
      " 92%|█████████▏| 474/513 [03:40<00:18,  2.12it/s]\u001b[A\n",
      " 93%|█████████▎| 475/513 [03:41<00:17,  2.16it/s]\u001b[A\n",
      " 93%|█████████▎| 476/513 [03:41<00:18,  2.04it/s]\u001b[A\n",
      " 93%|█████████▎| 477/513 [03:42<00:16,  2.15it/s]\u001b[A\n",
      " 93%|█████████▎| 478/513 [03:42<00:15,  2.23it/s]\u001b[A\n",
      " 93%|█████████▎| 479/513 [03:43<00:14,  2.28it/s]\u001b[A\n",
      " 94%|█████████▎| 480/513 [03:43<00:14,  2.33it/s]\u001b[A\n",
      " 94%|█████████▍| 481/513 [03:43<00:13,  2.36it/s]\u001b[A\n",
      " 94%|█████████▍| 482/513 [03:44<00:13,  2.38it/s]\u001b[A\n",
      " 94%|█████████▍| 483/513 [03:44<00:12,  2.39it/s]\u001b[A\n",
      " 94%|█████████▍| 484/513 [03:45<00:12,  2.31it/s]\u001b[A\n",
      " 95%|█████████▍| 485/513 [03:45<00:13,  2.13it/s]\u001b[A\n",
      " 95%|█████████▍| 486/513 [03:46<00:14,  1.87it/s]\u001b[A\n",
      " 95%|█████████▍| 487/513 [03:47<00:14,  1.82it/s]\u001b[A\n",
      " 95%|█████████▌| 488/513 [03:47<00:12,  1.93it/s]\u001b[A\n",
      " 95%|█████████▌| 489/513 [03:47<00:11,  2.02it/s]\u001b[A\n",
      " 96%|█████████▌| 490/513 [03:48<00:11,  2.04it/s]\u001b[A\n",
      " 96%|█████████▌| 491/513 [03:49<00:11,  1.94it/s]\u001b[A\n",
      " 96%|█████████▌| 492/513 [03:49<00:10,  1.96it/s]\u001b[A\n",
      " 96%|█████████▌| 493/513 [03:50<00:10,  1.87it/s]\u001b[A\n",
      " 96%|█████████▋| 494/513 [03:50<00:10,  1.89it/s]\u001b[A\n",
      " 96%|█████████▋| 495/513 [03:51<00:09,  1.96it/s]\u001b[A\n",
      " 97%|█████████▋| 496/513 [03:51<00:08,  2.09it/s]\u001b[A\n",
      " 97%|█████████▋| 497/513 [03:51<00:07,  2.19it/s]\u001b[A\n",
      " 97%|█████████▋| 498/513 [03:52<00:06,  2.22it/s]\u001b[A\n",
      " 97%|█████████▋| 499/513 [03:52<00:06,  2.21it/s]\u001b[A\n",
      " 97%|█████████▋| 500/513 [03:53<00:05,  2.23it/s]\u001b[A\n",
      " 98%|█████████▊| 501/513 [03:53<00:05,  2.28it/s]\u001b[A\n",
      " 98%|█████████▊| 502/513 [03:54<00:04,  2.33it/s]\u001b[A\n",
      " 98%|█████████▊| 503/513 [03:54<00:04,  2.33it/s]\u001b[A\n",
      " 98%|█████████▊| 504/513 [03:54<00:03,  2.37it/s]\u001b[A\n",
      " 98%|█████████▊| 505/513 [03:55<00:03,  2.39it/s]\u001b[A\n",
      " 99%|█████████▊| 506/513 [03:55<00:02,  2.42it/s]\u001b[A\n",
      " 99%|█████████▉| 507/513 [03:56<00:02,  2.44it/s]\u001b[A\n",
      " 99%|█████████▉| 508/513 [03:56<00:02,  2.11it/s]\u001b[A\n",
      " 99%|█████████▉| 509/513 [03:57<00:01,  2.14it/s]\u001b[A\n",
      " 99%|█████████▉| 510/513 [03:57<00:01,  1.97it/s]\u001b[A\n",
      "100%|█████████▉| 511/513 [03:58<00:01,  1.84it/s]\u001b[A\n",
      "100%|█████████▉| 512/513 [03:59<00:00,  1.78it/s]\u001b[A\n",
      "100%|██████████| 513/513 [03:59<00:00,  2.14it/s]\u001b[A\n"
     ]
    }
   ],
   "source": [
    "pos_rankings_google_hybrid,pos_triangles_google_hybrid,flipped_pos_hybrid = explainSamples(correctPred_hybrid_google,\n",
    "                                                                       [tableA_google,tableB_google],\n",
    "                                                                       google_hybrid,originalClass=1,maxLenAttributeSet=2)"
   ]
  },
  {
   "cell_type": "code",
   "execution_count": 37,
   "metadata": {
    "ExecuteTime": {
     "end_time": "2020-02-16T18:00:17.491935Z",
     "start_time": "2020-02-16T18:00:17.211949Z"
    }
   },
   "outputs": [
    {
     "data": {
      "image/png": "[encoded data removed]",
      "text/plain": [
       "<Figure size 360x360 with 1 Axes>"
      ]
     },
     "metadata": {
      "needs_background": "light"
     },
     "output_type": "display_data"
    }
   ],
   "source": [
    "plot,posRanking_hybrid = aggregateRankings(pos_rankings_google_hybrid,positive=True,maxLenAttributes=2)"
   ]
  },
  {
   "cell_type": "markdown",
   "metadata": {},
   "source": [
    "## DBLP-ACM"
   ]
  },
  {
   "cell_type": "code",
   "execution_count": 4,
   "metadata": {
    "ExecuteTime": {
     "end_time": "2020-02-15T15:18:02.376259Z",
     "start_time": "2020-02-15T15:17:56.932399Z"
    }
   },
   "outputs": [],
   "source": [
    "dblp_hybrid = dm.MatchingModel(attr_summarizer='hybrid')\n",
    "dblp_hybrid.load_state('models/dblp_acm_hybrid.pth')\n",
    "dblp_hybrid = dblp_hybrid.to('cuda')"
   ]
  },
  {
   "cell_type": "code",
   "execution_count": 5,
   "metadata": {
    "ExecuteTime": {
     "end_time": "2020-02-15T15:18:02.411694Z",
     "start_time": "2020-02-15T15:18:02.378388Z"
    }
   },
   "outputs": [],
   "source": [
    "DBLP_DIR = 'datasets/Structured/DBLP-ACM/'\n",
    "tableA_dblp = pd.read_csv(DBLP_DIR+'tableA.csv')\n",
    "tableB_dblp = pd.read_csv(DBLP_DIR+'tableB.csv')"
   ]
  },
  {
   "cell_type": "code",
   "execution_count": 6,
   "metadata": {
    "ExecuteTime": {
     "end_time": "2020-02-15T15:18:02.504264Z",
     "start_time": "2020-02-15T15:18:02.413223Z"
    }
   },
   "outputs": [],
   "source": [
    "train_df,validation_df,test_df = generate_train_valid_test(DBLP_DIR,['train.csv','valid.csv','test.csv']\n",
    "                                                          ,left_prefix='ltable_',right_prefix='rtable_',\n",
    "                                                          drop_lrid=False)"
   ]
  },
  {
   "cell_type": "code",
   "execution_count": 7,
   "metadata": {
    "ExecuteTime": {
     "end_time": "2020-02-15T15:18:37.126569Z",
     "start_time": "2020-02-15T15:18:09.887512Z"
    }
   },
   "outputs": [],
   "source": [
    "predictions = wrapDm(test_df,dblp_hybrid,ignore_columns=['ltable_id','rtable_id','id','label'])\n",
    "tp_group = test_df[(predictions[:,1]>=0.5)& (test_df['label'] == 1)]\n",
    "tn_group = test_df[(predictions[:,0] >=0.5)& (test_df['label']==0)]\n",
    "correctPredictions_dblp = pd.concat([tn_group,tp_group])"
   ]
  },
  {
   "cell_type": "code",
   "execution_count": 11,
   "metadata": {
    "ExecuteTime": {
     "end_time": "2020-02-15T15:26:07.947786Z",
     "start_time": "2020-02-15T15:20:14.290049Z"
    }
   },
   "outputs": [
    {
     "name": "stderr",
     "output_type": "stream",
     "text": [
      "\n",
      "  0%|          | 0/722 [00:00<?, ?it/s]\u001b[A\n",
      "  0%|          | 1/722 [00:00<05:49,  2.06it/s]\u001b[A\n",
      "  0%|          | 2/722 [00:00<05:48,  2.06it/s]\u001b[A\n",
      "  0%|          | 3/722 [00:01<06:02,  1.98it/s]\u001b[A\n",
      "  1%|          | 4/722 [00:02<05:56,  2.01it/s]\u001b[A\n",
      "  1%|          | 5/722 [00:02<05:59,  1.99it/s]\u001b[A\n",
      "  1%|          | 6/722 [00:02<05:54,  2.02it/s]\u001b[A\n",
      "  1%|          | 7/722 [00:03<05:53,  2.02it/s]\u001b[A\n",
      "  1%|          | 8/722 [00:03<05:50,  2.04it/s]\u001b[A\n",
      "  1%|          | 9/722 [00:04<05:49,  2.04it/s]\u001b[A\n",
      "  1%|▏         | 10/722 [00:04<05:49,  2.03it/s]\u001b[A\n",
      "  2%|▏         | 11/722 [00:05<05:48,  2.04it/s]\u001b[A\n",
      "  2%|▏         | 12/722 [00:05<05:45,  2.05it/s]\u001b[A\n",
      "  2%|▏         | 13/722 [00:06<05:47,  2.04it/s]\u001b[A\n",
      "  2%|▏         | 14/722 [00:07<06:07,  1.93it/s]\u001b[A\n",
      "  2%|▏         | 15/722 [00:07<06:00,  1.96it/s]\u001b[A\n",
      "  2%|▏         | 16/722 [00:07<05:55,  1.99it/s]\u001b[A\n",
      "  2%|▏         | 17/722 [00:08<06:34,  1.79it/s]\u001b[A\n",
      "  2%|▏         | 18/722 [00:09<06:15,  1.87it/s]\u001b[A\n",
      "  3%|▎         | 19/722 [00:09<06:13,  1.88it/s]\u001b[A\n",
      "  3%|▎         | 20/722 [00:10<06:45,  1.73it/s]\u001b[A\n",
      "  3%|▎         | 21/722 [00:10<06:57,  1.68it/s]\u001b[A\n",
      "  3%|▎         | 22/722 [00:11<06:28,  1.80it/s]\u001b[A\n",
      "  3%|▎         | 23/722 [00:11<06:01,  1.93it/s]\u001b[A\n",
      "  3%|▎         | 24/722 [00:12<05:43,  2.03it/s]\u001b[A\n",
      "  3%|▎         | 25/722 [00:12<05:28,  2.12it/s]\u001b[A\n",
      "  4%|▎         | 26/722 [00:13<05:17,  2.19it/s]\u001b[A\n",
      "  4%|▎         | 27/722 [00:13<05:09,  2.25it/s]\u001b[A\n",
      "  4%|▍         | 28/722 [00:14<05:05,  2.28it/s]\u001b[A\n",
      "  4%|▍         | 29/722 [00:14<05:41,  2.03it/s]\u001b[A\n",
      "  4%|▍         | 30/722 [00:15<05:40,  2.03it/s]\u001b[A\n",
      "  4%|▍         | 31/722 [00:15<05:38,  2.04it/s]\u001b[A\n",
      "  4%|▍         | 32/722 [00:16<05:24,  2.13it/s]\u001b[A\n",
      "  5%|▍         | 33/722 [00:16<06:03,  1.90it/s]\u001b[A\n",
      "  5%|▍         | 34/722 [00:17<06:36,  1.74it/s]\u001b[A\n",
      "  5%|▍         | 35/722 [00:18<07:05,  1.62it/s]\u001b[A\n",
      "  5%|▍         | 36/722 [00:18<07:05,  1.61it/s]\u001b[A\n",
      "  5%|▌         | 37/722 [00:19<06:35,  1.73it/s]\u001b[A\n",
      "  5%|▌         | 38/722 [00:19<06:34,  1.73it/s]\u001b[A\n",
      "  5%|▌         | 39/722 [00:20<06:16,  1.82it/s]\u001b[A\n",
      "  6%|▌         | 40/722 [00:20<06:02,  1.88it/s]\u001b[A\n",
      "  6%|▌         | 41/722 [00:21<05:53,  1.93it/s]\u001b[A\n",
      "  6%|▌         | 42/722 [00:21<05:44,  1.97it/s]\u001b[A\n",
      "  6%|▌         | 43/722 [00:22<05:40,  1.99it/s]\u001b[A\n",
      "  6%|▌         | 44/722 [00:22<05:39,  2.00it/s]\u001b[A\n",
      "  6%|▌         | 45/722 [00:23<05:36,  2.01it/s]\u001b[A\n",
      "  6%|▋         | 46/722 [00:23<05:49,  1.94it/s]\u001b[A\n",
      "  7%|▋         | 47/722 [00:24<06:06,  1.84it/s]\u001b[A\n",
      "  7%|▋         | 48/722 [00:25<06:27,  1.74it/s]\u001b[A\n",
      "  7%|▋         | 49/722 [00:25<06:30,  1.73it/s]\u001b[A\n",
      "  7%|▋         | 50/722 [00:26<07:00,  1.60it/s]\u001b[A\n",
      "  7%|▋         | 51/722 [00:26<07:03,  1.58it/s]\u001b[A\n",
      "  7%|▋         | 52/722 [00:27<07:20,  1.52it/s]\u001b[A\n",
      "  7%|▋         | 53/722 [00:28<07:27,  1.49it/s]\u001b[A\n",
      "  7%|▋         | 54/722 [00:29<07:25,  1.50it/s]\u001b[A\n",
      "  8%|▊         | 55/722 [00:29<07:35,  1.46it/s]\u001b[A\n",
      "  8%|▊         | 56/722 [00:30<07:19,  1.51it/s]\u001b[A\n",
      "  8%|▊         | 57/722 [00:30<06:43,  1.65it/s]\u001b[A\n",
      "  8%|▊         | 58/722 [00:31<06:27,  1.71it/s]\u001b[A\n",
      "  8%|▊         | 59/722 [00:31<06:05,  1.81it/s]\u001b[A\n",
      "  8%|▊         | 60/722 [00:32<05:51,  1.89it/s]\u001b[A\n",
      "  8%|▊         | 61/722 [00:32<05:41,  1.93it/s]\u001b[A\n",
      "  9%|▊         | 62/722 [00:33<05:36,  1.96it/s]\u001b[A\n",
      "  9%|▊         | 63/722 [00:33<05:29,  2.00it/s]\u001b[A\n",
      "  9%|▉         | 64/722 [00:34<05:27,  2.01it/s]\u001b[A\n",
      "  9%|▉         | 65/722 [00:34<05:25,  2.02it/s]\u001b[A\n",
      "  9%|▉         | 66/722 [00:35<05:23,  2.03it/s]\u001b[A\n",
      "  9%|▉         | 67/722 [00:35<05:22,  2.03it/s]\u001b[A\n",
      "  9%|▉         | 68/722 [00:36<05:23,  2.02it/s]\u001b[A\n",
      " 10%|▉         | 69/722 [00:36<05:21,  2.03it/s]\u001b[A\n",
      " 10%|▉         | 70/722 [00:37<05:18,  2.05it/s]\u001b[A\n",
      " 10%|▉         | 71/722 [00:37<05:21,  2.03it/s]\u001b[A\n",
      " 10%|▉         | 72/722 [00:38<05:19,  2.04it/s]\u001b[A\n",
      " 10%|█         | 73/722 [00:38<05:19,  2.03it/s]\u001b[A\n",
      " 10%|█         | 74/722 [00:39<05:30,  1.96it/s]\u001b[A\n",
      " 10%|█         | 75/722 [00:40<06:14,  1.73it/s]\u001b[A\n",
      " 11%|█         | 76/722 [00:40<06:30,  1.65it/s]\u001b[A\n",
      " 11%|█         | 77/722 [00:41<06:13,  1.73it/s]\u001b[A\n",
      " 11%|█         | 78/722 [00:41<06:29,  1.65it/s]\u001b[A\n",
      " 11%|█         | 79/722 [00:42<06:05,  1.76it/s]\u001b[A\n",
      " 11%|█         | 80/722 [00:42<05:48,  1.84it/s]\u001b[A\n",
      " 11%|█         | 81/722 [00:43<05:36,  1.91it/s]\u001b[A\n",
      " 11%|█▏        | 82/722 [00:43<05:41,  1.88it/s]\u001b[A\n",
      " 11%|█▏        | 83/722 [00:44<05:31,  1.92it/s]\u001b[A\n",
      " 12%|█▏        | 84/722 [00:44<05:26,  1.95it/s]\u001b[A\n",
      " 12%|█▏        | 85/722 [00:45<05:20,  1.99it/s]\u001b[A\n",
      " 12%|█▏        | 86/722 [00:45<05:15,  2.01it/s]\u001b[A\n",
      " 12%|█▏        | 87/722 [00:46<05:26,  1.94it/s]\u001b[A\n",
      " 12%|█▏        | 88/722 [00:46<05:21,  1.97it/s]\u001b[A\n",
      " 12%|█▏        | 89/722 [00:47<05:15,  2.00it/s]\u001b[A\n",
      " 12%|█▏        | 90/722 [00:47<05:12,  2.03it/s]\u001b[A\n",
      " 13%|█▎        | 91/722 [00:48<05:20,  1.97it/s]\u001b[A\n",
      " 13%|█▎        | 92/722 [00:48<05:22,  1.96it/s]\u001b[A\n",
      " 13%|█▎        | 93/722 [00:49<05:23,  1.95it/s]\u001b[A\n",
      " 13%|█▎        | 94/722 [00:49<05:24,  1.93it/s]\u001b[A\n",
      " 13%|█▎        | 95/722 [00:50<05:25,  1.92it/s]\u001b[A\n",
      " 13%|█▎        | 96/722 [00:50<05:25,  1.92it/s]\u001b[A\n",
      " 13%|█▎        | 97/722 [00:51<05:26,  1.92it/s]\u001b[A\n",
      " 14%|█▎        | 98/722 [00:52<05:26,  1.91it/s]\u001b[A\n",
      " 14%|█▎        | 99/722 [00:52<05:41,  1.83it/s]\u001b[A\n",
      " 14%|█▍        | 100/722 [00:53<05:26,  1.91it/s]\u001b[A\n",
      " 14%|█▍        | 101/722 [00:53<05:16,  1.96it/s]\u001b[A\n",
      " 14%|█▍        | 102/722 [00:54<05:23,  1.92it/s]\u001b[A\n",
      " 14%|█▍        | 103/722 [00:54<05:12,  1.98it/s]\u001b[A\n",
      " 14%|█▍        | 104/722 [00:55<05:04,  2.03it/s]\u001b[A\n",
      " 15%|█▍        | 105/722 [00:55<05:00,  2.05it/s]\u001b[A\n",
      " 15%|█▍        | 106/722 [00:56<05:31,  1.86it/s]\u001b[A\n",
      " 15%|█▍        | 107/722 [00:56<05:25,  1.89it/s]\u001b[A\n",
      " 15%|█▍        | 108/722 [00:57<05:04,  2.02it/s]\u001b[A\n",
      " 15%|█▌        | 109/722 [00:57<04:49,  2.12it/s]\u001b[A\n",
      " 15%|█▌        | 110/722 [00:57<04:42,  2.17it/s]\u001b[A\n",
      " 15%|█▌        | 111/722 [00:58<04:34,  2.23it/s]\u001b[A\n",
      " 16%|█▌        | 112/722 [00:58<04:28,  2.27it/s]\u001b[A\n",
      " 16%|█▌        | 113/722 [00:59<04:24,  2.30it/s]\u001b[A\n",
      " 16%|█▌        | 114/722 [00:59<04:50,  2.09it/s]\u001b[A\n",
      " 16%|█▌        | 115/722 [01:00<05:27,  1.85it/s]\u001b[A\n",
      " 16%|█▌        | 116/722 [01:00<05:16,  1.91it/s]\u001b[A\n",
      " 16%|█▌        | 117/722 [01:01<05:08,  1.96it/s]\u001b[A\n",
      " 16%|█▋        | 118/722 [01:01<05:02,  2.00it/s]\u001b[A\n",
      " 16%|█▋        | 119/722 [01:02<05:00,  2.01it/s]\u001b[A\n",
      " 17%|█▋        | 120/722 [01:02<04:58,  2.02it/s]\u001b[A\n",
      " 17%|█▋        | 121/722 [01:03<05:06,  1.96it/s]\u001b[A\n",
      " 17%|█▋        | 122/722 [01:03<05:01,  1.99it/s]\u001b[A\n",
      " 17%|█▋        | 123/722 [01:04<04:57,  2.01it/s]\u001b[A\n",
      " 17%|█▋        | 124/722 [01:04<04:54,  2.03it/s]\u001b[A\n",
      " 17%|█▋        | 125/722 [01:05<04:52,  2.04it/s]\u001b[A\n",
      " 17%|█▋        | 126/722 [01:05<04:50,  2.05it/s]\u001b[A\n",
      " 18%|█▊        | 127/722 [01:06<04:59,  1.98it/s]\u001b[A\n",
      " 18%|█▊        | 128/722 [01:07<05:26,  1.82it/s]\u001b[A\n",
      " 18%|█▊        | 129/722 [01:07<05:43,  1.73it/s]\u001b[A\n",
      " 18%|█▊        | 130/722 [01:08<05:23,  1.83it/s]\u001b[A\n",
      " 18%|█▊        | 131/722 [01:08<05:07,  1.92it/s]\u001b[A\n",
      " 18%|█▊        | 132/722 [01:09<05:20,  1.84it/s]\u001b[A\n",
      " 18%|█▊        | 133/722 [01:09<05:23,  1.82it/s]\u001b[A\n",
      " 19%|█▊        | 134/722 [01:10<05:12,  1.88it/s]\u001b[A\n",
      " 19%|█▊        | 135/722 [01:10<05:05,  1.92it/s]\u001b[A\n",
      " 19%|█▉        | 136/722 [01:11<05:03,  1.93it/s]\u001b[A\n",
      " 19%|█▉        | 137/722 [01:11<04:58,  1.96it/s]\u001b[A\n",
      " 19%|█▉        | 138/722 [01:12<04:55,  1.97it/s]\u001b[A\n",
      " 19%|█▉        | 139/722 [01:12<04:58,  1.96it/s]\u001b[A\n",
      " 19%|█▉        | 140/722 [01:13<05:03,  1.92it/s]\u001b[A\n",
      " 20%|█▉        | 141/722 [01:13<04:55,  1.96it/s]\u001b[A\n",
      " 20%|█▉        | 142/722 [01:14<04:50,  2.00it/s]\u001b[A\n",
      " 20%|█▉        | 143/722 [01:14<04:45,  2.03it/s]\u001b[A\n",
      " 20%|█▉        | 144/722 [01:15<04:42,  2.04it/s]\u001b[A\n",
      " 20%|██        | 145/722 [01:15<04:41,  2.05it/s]\u001b[A\n",
      " 20%|██        | 146/722 [01:16<04:41,  2.05it/s]\u001b[A\n",
      " 20%|██        | 147/722 [01:16<04:39,  2.06it/s]\u001b[A\n",
      " 20%|██        | 148/722 [01:17<04:38,  2.06it/s]\u001b[A\n",
      " 21%|██        | 149/722 [01:17<04:36,  2.07it/s]\u001b[A\n",
      " 21%|██        | 150/722 [01:18<04:34,  2.08it/s]\u001b[A\n",
      " 21%|██        | 151/722 [01:18<04:35,  2.07it/s]\u001b[A\n",
      " 21%|██        | 152/722 [01:19<04:34,  2.07it/s]\u001b[A\n",
      " 21%|██        | 153/722 [01:19<04:52,  1.95it/s]\u001b[A\n",
      " 21%|██▏       | 154/722 [01:20<04:47,  1.98it/s]\u001b[A\n",
      " 21%|██▏       | 155/722 [01:20<04:42,  2.01it/s]\u001b[A\n",
      " 22%|██▏       | 156/722 [01:21<04:46,  1.98it/s]\u001b[A\n",
      " 22%|██▏       | 157/722 [01:21<04:45,  1.98it/s]\u001b[A\n",
      " 22%|██▏       | 158/722 [01:22<04:41,  2.01it/s]\u001b[A\n",
      " 22%|██▏       | 159/722 [01:22<04:58,  1.88it/s]\u001b[A\n",
      " 22%|██▏       | 160/722 [01:23<04:51,  1.93it/s]\u001b[A\n",
      " 22%|██▏       | 161/722 [01:23<04:44,  1.97it/s]\u001b[A\n",
      " 22%|██▏       | 162/722 [01:24<04:42,  1.98it/s]\u001b[A\n",
      " 23%|██▎       | 163/722 [01:24<04:38,  2.01it/s]\u001b[A\n",
      " 23%|██▎       | 164/722 [01:25<04:34,  2.03it/s]\u001b[A\n",
      " 23%|██▎       | 165/722 [01:25<04:32,  2.04it/s]\u001b[A\n",
      " 23%|██▎       | 166/722 [01:26<04:31,  2.05it/s]\u001b[A\n",
      " 23%|██▎       | 167/722 [01:26<04:29,  2.06it/s]\u001b[A\n",
      " 23%|██▎       | 168/722 [01:27<04:28,  2.06it/s]\u001b[A\n",
      " 23%|██▎       | 169/722 [01:27<04:27,  2.07it/s]\u001b[A\n",
      " 24%|██▎       | 170/722 [01:28<04:27,  2.06it/s]\u001b[A\n",
      " 24%|██▎       | 171/722 [01:28<04:26,  2.07it/s]\u001b[A\n",
      " 24%|██▍       | 172/722 [01:29<04:25,  2.07it/s]\u001b[A\n",
      " 24%|██▍       | 173/722 [01:29<04:38,  1.97it/s]\u001b[A\n",
      " 24%|██▍       | 174/722 [01:30<05:03,  1.81it/s]\u001b[A\n",
      " 24%|██▍       | 175/722 [01:30<04:43,  1.93it/s]\u001b[A\n",
      " 24%|██▍       | 176/722 [01:31<04:29,  2.03it/s]\u001b[A\n",
      " 25%|██▍       | 177/722 [01:31<04:18,  2.11it/s]\u001b[A\n",
      " 25%|██▍       | 178/722 [01:32<04:22,  2.07it/s]\u001b[A\n",
      " 25%|██▍       | 179/722 [01:32<04:14,  2.13it/s]\u001b[A\n",
      " 25%|██▍       | 180/722 [01:32<04:08,  2.18it/s]\u001b[A\n",
      " 25%|██▌       | 181/722 [01:33<04:02,  2.23it/s]\u001b[A\n",
      " 25%|██▌       | 182/722 [01:33<03:58,  2.26it/s]\u001b[A\n",
      " 25%|██▌       | 183/722 [01:34<03:57,  2.27it/s]\u001b[A\n",
      " 25%|██▌       | 184/722 [01:34<03:54,  2.29it/s]\u001b[A\n",
      " 26%|██▌       | 185/722 [01:35<03:55,  2.28it/s]\u001b[A\n",
      " 26%|██▌       | 186/722 [01:35<03:54,  2.28it/s]\u001b[A\n",
      " 26%|██▌       | 187/722 [01:36<03:52,  2.30it/s]\u001b[A\n",
      " 26%|██▌       | 188/722 [01:36<03:50,  2.32it/s]\u001b[A\n",
      " 26%|██▌       | 189/722 [01:36<03:50,  2.32it/s]\u001b[A\n",
      " 26%|██▋       | 190/722 [01:37<03:50,  2.31it/s]\u001b[A\n",
      " 26%|██▋       | 191/722 [01:37<03:49,  2.31it/s]\u001b[A\n",
      " 27%|██▋       | 192/722 [01:38<03:50,  2.30it/s]\u001b[A\n",
      " 27%|██▋       | 193/722 [01:38<03:48,  2.31it/s]\u001b[A\n",
      " 27%|██▋       | 194/722 [01:39<03:48,  2.31it/s]\u001b[A\n",
      " 27%|██▋       | 195/722 [01:39<03:57,  2.22it/s]\u001b[A\n",
      " 27%|██▋       | 196/722 [01:40<04:22,  2.00it/s]\u001b[A\n",
      " 27%|██▋       | 197/722 [01:40<04:15,  2.05it/s]\u001b[A\n",
      " 27%|██▋       | 198/722 [01:41<04:11,  2.08it/s]\u001b[A\n",
      " 28%|██▊       | 199/722 [01:41<04:15,  2.04it/s]\u001b[A\n",
      " 28%|██▊       | 200/722 [01:41<04:03,  2.14it/s]\u001b[A\n",
      " 28%|██▊       | 201/722 [01:42<03:55,  2.21it/s]\u001b[A\n",
      " 28%|██▊       | 202/722 [01:42<03:50,  2.26it/s]\u001b[A\n",
      " 28%|██▊       | 203/722 [01:43<03:45,  2.30it/s]\u001b[A\n",
      " 28%|██▊       | 204/722 [01:43<03:42,  2.33it/s]\u001b[A\n",
      " 28%|██▊       | 205/722 [01:44<03:41,  2.34it/s]\u001b[A\n",
      " 29%|██▊       | 206/722 [01:44<04:28,  1.92it/s]\u001b[A\n",
      " 29%|██▊       | 207/722 [01:45<04:53,  1.75it/s]\u001b[A\n",
      " 29%|██▉       | 208/722 [01:46<04:59,  1.71it/s]\u001b[A\n",
      " 29%|██▉       | 209/722 [01:46<04:49,  1.77it/s]\u001b[A\n",
      " 29%|██▉       | 210/722 [01:47<04:42,  1.81it/s]\u001b[A\n",
      " 29%|██▉       | 211/722 [01:47<04:42,  1.81it/s]\u001b[A\n",
      " 29%|██▉       | 212/722 [01:48<04:37,  1.84it/s]\u001b[A\n",
      " 30%|██▉       | 213/722 [01:48<04:35,  1.85it/s]\u001b[A\n",
      " 30%|██▉       | 214/722 [01:49<04:34,  1.85it/s]\u001b[A\n",
      " 30%|██▉       | 215/722 [01:49<04:40,  1.81it/s]\u001b[A\n",
      " 30%|██▉       | 216/722 [01:50<04:34,  1.84it/s]\u001b[A\n",
      " 30%|███       | 217/722 [01:50<04:30,  1.87it/s]\u001b[A\n",
      " 30%|███       | 218/722 [01:51<04:28,  1.88it/s]\u001b[A\n",
      " 30%|███       | 219/722 [01:51<04:25,  1.89it/s]\u001b[A\n",
      " 30%|███       | 220/722 [01:52<04:24,  1.90it/s]\u001b[A\n",
      " 31%|███       | 221/722 [01:53<04:32,  1.84it/s]\u001b[A\n",
      " 31%|███       | 222/722 [01:53<04:40,  1.79it/s]\u001b[A\n",
      " 31%|███       | 223/722 [01:54<04:34,  1.82it/s]\u001b[A\n",
      " 31%|███       | 224/722 [01:54<04:30,  1.84it/s]\u001b[A\n",
      " 31%|███       | 225/722 [01:55<04:27,  1.86it/s]\u001b[A\n",
      " 31%|███▏      | 226/722 [01:55<04:25,  1.87it/s]\u001b[A\n",
      " 31%|███▏      | 227/722 [01:56<04:18,  1.92it/s]\u001b[A\n",
      " 32%|███▏      | 228/722 [01:56<04:12,  1.96it/s]\u001b[A\n",
      " 32%|███▏      | 229/722 [01:57<04:07,  1.99it/s]\u001b[A\n",
      " 32%|███▏      | 230/722 [01:57<04:04,  2.01it/s]\u001b[A\n",
      " 32%|███▏      | 231/722 [01:58<04:02,  2.02it/s]\u001b[A\n",
      " 32%|███▏      | 232/722 [01:58<04:00,  2.04it/s]\u001b[A\n",
      " 32%|███▏      | 233/722 [01:59<04:24,  1.85it/s]\u001b[A\n",
      " 32%|███▏      | 234/722 [02:00<04:51,  1.68it/s]\u001b[A\n",
      " 33%|███▎      | 235/722 [02:00<04:39,  1.74it/s]\u001b[A\n",
      " 33%|███▎      | 236/722 [02:01<04:25,  1.83it/s]\u001b[A\n",
      " 33%|███▎      | 237/722 [02:01<04:15,  1.90it/s]\u001b[A\n",
      " 33%|███▎      | 238/722 [02:02<04:08,  1.95it/s]\u001b[A\n",
      " 33%|███▎      | 239/722 [02:02<04:03,  1.98it/s]\u001b[A\n",
      " 33%|███▎      | 240/722 [02:03<04:00,  2.01it/s]\u001b[A\n",
      " 33%|███▎      | 241/722 [02:03<03:57,  2.03it/s]\u001b[A\n",
      " 34%|███▎      | 242/722 [02:04<03:56,  2.03it/s]\u001b[A\n",
      " 34%|███▎      | 243/722 [02:04<03:56,  2.03it/s]\u001b[A\n",
      " 34%|███▍      | 244/722 [02:04<03:55,  2.03it/s]\u001b[A\n",
      " 34%|███▍      | 245/722 [02:05<04:07,  1.93it/s]\u001b[A\n",
      " 34%|███▍      | 246/722 [02:06<04:02,  1.96it/s]\u001b[A\n",
      " 34%|███▍      | 247/722 [02:06<03:58,  1.99it/s]\u001b[A\n",
      " 34%|███▍      | 248/722 [02:07<03:58,  1.99it/s]\u001b[A\n",
      " 34%|███▍      | 249/722 [02:07<03:55,  2.01it/s]\u001b[A\n",
      " 35%|███▍      | 250/722 [02:08<03:52,  2.03it/s]\u001b[A\n",
      " 35%|███▍      | 251/722 [02:08<03:50,  2.05it/s]\u001b[A\n",
      " 35%|███▍      | 252/722 [02:08<03:49,  2.05it/s]\u001b[A\n",
      " 35%|███▌      | 253/722 [02:09<03:54,  2.00it/s]\u001b[A\n",
      " 35%|███▌      | 254/722 [02:10<04:09,  1.88it/s]\u001b[A\n",
      " 35%|███▌      | 255/722 [02:10<04:03,  1.92it/s]\u001b[A\n",
      " 35%|███▌      | 256/722 [02:11<03:50,  2.02it/s]\u001b[A\n",
      " 36%|███▌      | 257/722 [02:11<03:40,  2.11it/s]\u001b[A\n",
      " 36%|███▌      | 258/722 [02:11<03:33,  2.17it/s]\u001b[A\n",
      " 36%|███▌      | 259/722 [02:12<03:29,  2.21it/s]\u001b[A\n",
      " 36%|███▌      | 260/722 [02:12<03:25,  2.25it/s]\u001b[A\n",
      " 36%|███▌      | 261/722 [02:13<03:22,  2.27it/s]\u001b[A\n",
      " 36%|███▋      | 262/722 [02:13<03:21,  2.28it/s]\u001b[A\n",
      " 36%|███▋      | 263/722 [02:14<03:20,  2.29it/s]\u001b[A\n",
      " 37%|███▋      | 264/722 [02:14<03:21,  2.27it/s]\u001b[A\n",
      " 37%|███▋      | 265/722 [02:14<03:19,  2.29it/s]\u001b[A\n",
      " 37%|███▋      | 266/722 [02:15<03:17,  2.30it/s]\u001b[A\n",
      " 37%|███▋      | 267/722 [02:15<03:17,  2.30it/s]\u001b[A\n",
      " 37%|███▋      | 268/722 [02:16<03:17,  2.29it/s]\u001b[A\n",
      " 37%|███▋      | 269/722 [02:16<03:17,  2.29it/s]\u001b[A\n",
      " 37%|███▋      | 270/722 [02:17<03:15,  2.31it/s]\u001b[A\n",
      " 38%|███▊      | 271/722 [02:17<03:14,  2.32it/s]\u001b[A\n",
      " 38%|███▊      | 272/722 [02:17<03:13,  2.33it/s]\u001b[A\n",
      " 38%|███▊      | 273/722 [02:18<03:22,  2.22it/s]\u001b[A\n",
      " 38%|███▊      | 274/722 [02:18<03:18,  2.25it/s]\u001b[A\n",
      " 38%|███▊      | 275/722 [02:19<03:15,  2.28it/s]\u001b[A\n",
      " 38%|███▊      | 276/722 [02:19<03:14,  2.29it/s]\u001b[A\n",
      " 38%|███▊      | 277/722 [02:20<03:13,  2.30it/s]\u001b[A\n",
      " 39%|███▊      | 278/722 [02:20<03:13,  2.30it/s]\u001b[A\n",
      " 39%|███▊      | 279/722 [02:21<03:12,  2.30it/s]\u001b[A\n",
      " 39%|███▉      | 280/722 [02:21<03:42,  1.98it/s]\u001b[A\n",
      " 39%|███▉      | 281/722 [02:22<03:33,  2.07it/s]\u001b[A\n",
      " 39%|███▉      | 282/722 [02:22<03:24,  2.15it/s]\u001b[A\n",
      " 39%|███▉      | 283/722 [02:22<03:19,  2.20it/s]\u001b[A\n",
      " 39%|███▉      | 284/722 [02:23<03:15,  2.24it/s]\u001b[A\n",
      " 39%|███▉      | 285/722 [02:23<03:12,  2.27it/s]\u001b[A\n",
      " 40%|███▉      | 286/722 [02:24<03:10,  2.29it/s]\u001b[A\n",
      " 40%|███▉      | 287/722 [02:24<03:08,  2.31it/s]\u001b[A\n",
      " 40%|███▉      | 288/722 [02:25<03:07,  2.31it/s]\u001b[A\n",
      " 40%|████      | 289/722 [02:25<03:07,  2.31it/s]\u001b[A\n",
      " 40%|████      | 290/722 [02:26<03:08,  2.29it/s]\u001b[A\n",
      " 40%|████      | 291/722 [02:26<03:09,  2.28it/s]\u001b[A\n",
      " 40%|████      | 292/722 [02:26<03:07,  2.29it/s]\u001b[A\n",
      " 41%|████      | 293/722 [02:27<03:06,  2.30it/s]\u001b[A\n",
      " 41%|████      | 294/722 [02:27<03:05,  2.31it/s]\u001b[A\n",
      " 41%|████      | 295/722 [02:28<03:04,  2.32it/s]\u001b[A\n",
      " 41%|████      | 296/722 [02:28<03:04,  2.31it/s]\u001b[A\n",
      " 41%|████      | 297/722 [02:29<03:03,  2.32it/s]\u001b[A\n",
      " 41%|████▏     | 298/722 [02:29<03:02,  2.32it/s]\u001b[A\n",
      " 41%|████▏     | 299/722 [02:29<03:02,  2.32it/s]\u001b[A\n",
      " 42%|████▏     | 300/722 [02:30<03:01,  2.33it/s]\u001b[A\n",
      " 42%|████▏     | 301/722 [02:30<03:09,  2.22it/s]\u001b[A\n",
      " 42%|████▏     | 302/722 [02:31<03:07,  2.25it/s]\u001b[A\n",
      " 42%|████▏     | 303/722 [02:31<03:04,  2.27it/s]\u001b[A\n",
      " 42%|████▏     | 304/722 [02:32<03:02,  2.29it/s]\u001b[A\n",
      " 42%|████▏     | 305/722 [02:32<03:01,  2.30it/s]\u001b[A\n",
      " 42%|████▏     | 306/722 [02:32<02:59,  2.31it/s]\u001b[A\n",
      " 43%|████▎     | 307/722 [02:33<02:58,  2.32it/s]\u001b[A\n",
      " 43%|████▎     | 308/722 [02:33<02:58,  2.32it/s]\u001b[A\n",
      " 43%|████▎     | 309/722 [02:34<02:57,  2.32it/s]\u001b[A\n"
     ]
    },
    {
     "name": "stderr",
     "output_type": "stream",
     "text": [
      " 43%|████▎     | 310/722 [02:34<02:57,  2.33it/s]\u001b[A\n",
      " 43%|████▎     | 311/722 [02:35<02:56,  2.33it/s]\u001b[A\n",
      " 43%|████▎     | 312/722 [02:35<02:55,  2.34it/s]\u001b[A\n",
      " 43%|████▎     | 313/722 [02:35<02:54,  2.34it/s]\u001b[A\n",
      " 43%|████▎     | 314/722 [02:36<02:54,  2.33it/s]\u001b[A\n",
      " 44%|████▎     | 315/722 [02:36<02:54,  2.33it/s]\u001b[A\n",
      " 44%|████▍     | 316/722 [02:37<02:56,  2.30it/s]\u001b[A\n",
      " 44%|████▍     | 317/722 [02:37<02:54,  2.31it/s]\u001b[A\n",
      " 44%|████▍     | 318/722 [02:38<02:54,  2.32it/s]\u001b[A\n",
      " 44%|████▍     | 319/722 [02:38<02:53,  2.32it/s]\u001b[A\n",
      " 44%|████▍     | 320/722 [02:38<02:52,  2.33it/s]\u001b[A\n",
      " 44%|████▍     | 321/722 [02:39<02:52,  2.32it/s]\u001b[A\n",
      " 45%|████▍     | 322/722 [02:39<02:52,  2.33it/s]\u001b[A\n",
      " 45%|████▍     | 323/722 [02:40<02:51,  2.33it/s]\u001b[A\n",
      " 45%|████▍     | 324/722 [02:40<02:51,  2.33it/s]\u001b[A\n",
      " 45%|████▌     | 325/722 [02:41<02:50,  2.32it/s]\u001b[A\n",
      " 45%|████▌     | 326/722 [02:41<02:50,  2.32it/s]\u001b[A\n",
      " 45%|████▌     | 327/722 [02:42<03:30,  1.87it/s]\u001b[A\n",
      " 45%|████▌     | 328/722 [02:42<03:43,  1.76it/s]\u001b[A\n",
      " 46%|████▌     | 329/722 [02:43<03:39,  1.79it/s]\u001b[A\n",
      " 46%|████▌     | 330/722 [02:43<03:28,  1.88it/s]\u001b[A\n",
      " 46%|████▌     | 331/722 [02:44<03:49,  1.70it/s]\u001b[A\n",
      " 46%|████▌     | 332/722 [02:45<03:36,  1.80it/s]\u001b[A\n",
      " 46%|████▌     | 333/722 [02:45<03:39,  1.77it/s]\u001b[A\n",
      " 46%|████▋     | 334/722 [02:46<03:29,  1.85it/s]\u001b[A\n",
      " 46%|████▋     | 335/722 [02:46<03:21,  1.92it/s]\u001b[A\n",
      " 47%|████▋     | 336/722 [02:47<03:16,  1.97it/s]\u001b[A\n",
      " 47%|████▋     | 337/722 [02:47<03:15,  1.97it/s]\u001b[A\n",
      " 47%|████▋     | 338/722 [02:48<03:34,  1.79it/s]\u001b[A\n",
      " 47%|████▋     | 339/722 [02:48<03:19,  1.92it/s]\u001b[A\n",
      " 47%|████▋     | 340/722 [02:49<03:09,  2.02it/s]\u001b[A\n",
      " 47%|████▋     | 341/722 [02:49<03:00,  2.11it/s]\u001b[A\n",
      " 47%|████▋     | 342/722 [02:50<02:55,  2.17it/s]\u001b[A\n",
      " 48%|████▊     | 343/722 [02:50<02:51,  2.21it/s]\u001b[A\n",
      " 48%|████▊     | 344/722 [02:50<02:48,  2.25it/s]\u001b[A\n",
      " 48%|████▊     | 345/722 [02:51<02:45,  2.27it/s]\u001b[A\n",
      " 48%|████▊     | 346/722 [02:51<02:44,  2.28it/s]\u001b[A\n",
      " 48%|████▊     | 347/722 [02:52<02:42,  2.30it/s]\u001b[A\n",
      " 48%|████▊     | 348/722 [02:52<02:41,  2.31it/s]\u001b[A\n",
      " 48%|████▊     | 349/722 [02:53<02:40,  2.32it/s]\u001b[A\n",
      " 48%|████▊     | 350/722 [02:53<02:40,  2.32it/s]\u001b[A\n",
      " 49%|████▊     | 351/722 [02:53<02:39,  2.32it/s]\u001b[A\n",
      " 49%|████▉     | 352/722 [02:54<02:39,  2.31it/s]\u001b[A\n",
      " 49%|████▉     | 353/722 [02:54<02:39,  2.31it/s]\u001b[A\n",
      " 49%|████▉     | 354/722 [02:55<02:39,  2.31it/s]\u001b[A\n",
      " 49%|████▉     | 355/722 [02:55<02:38,  2.31it/s]\u001b[A\n",
      " 49%|████▉     | 356/722 [02:56<02:38,  2.31it/s]\u001b[A\n",
      " 49%|████▉     | 357/722 [02:56<02:46,  2.19it/s]\u001b[A\n",
      " 50%|████▉     | 358/722 [02:57<02:45,  2.20it/s]\u001b[A\n",
      " 50%|████▉     | 359/722 [02:57<02:43,  2.22it/s]\u001b[A\n",
      " 50%|████▉     | 360/722 [02:58<02:43,  2.21it/s]\u001b[A\n",
      " 50%|█████     | 361/722 [02:58<02:42,  2.23it/s]\u001b[A\n",
      " 50%|█████     | 362/722 [02:58<02:41,  2.23it/s]\u001b[A\n",
      " 50%|█████     | 363/722 [02:59<02:39,  2.25it/s]\u001b[A\n",
      " 50%|█████     | 364/722 [02:59<02:38,  2.26it/s]\u001b[A\n",
      " 51%|█████     | 365/722 [03:00<02:37,  2.27it/s]\u001b[A\n",
      " 51%|█████     | 366/722 [03:00<02:53,  2.05it/s]\u001b[A\n",
      " 51%|█████     | 367/722 [03:01<03:12,  1.85it/s]\u001b[A\n",
      " 51%|█████     | 368/722 [03:01<03:06,  1.90it/s]\u001b[A\n",
      " 51%|█████     | 369/722 [03:02<03:00,  1.95it/s]\u001b[A\n",
      " 51%|█████     | 370/722 [03:02<02:56,  1.99it/s]\u001b[A\n",
      " 51%|█████▏    | 371/722 [03:03<02:55,  2.00it/s]\u001b[A\n",
      " 52%|█████▏    | 372/722 [03:03<02:53,  2.02it/s]\u001b[A\n",
      " 52%|█████▏    | 373/722 [03:04<02:51,  2.04it/s]\u001b[A\n",
      " 52%|█████▏    | 374/722 [03:04<02:49,  2.05it/s]\u001b[A\n",
      " 52%|█████▏    | 375/722 [03:05<02:50,  2.04it/s]\u001b[A\n",
      " 52%|█████▏    | 376/722 [03:05<02:51,  2.02it/s]\u001b[A\n",
      " 52%|█████▏    | 377/722 [03:06<02:49,  2.03it/s]\u001b[A\n",
      " 52%|█████▏    | 378/722 [03:06<02:48,  2.04it/s]\u001b[A\n",
      " 52%|█████▏    | 379/722 [03:07<02:48,  2.04it/s]\u001b[A\n",
      " 53%|█████▎    | 380/722 [03:07<02:47,  2.05it/s]\u001b[A\n",
      " 53%|█████▎    | 381/722 [03:08<02:45,  2.06it/s]\u001b[A\n",
      " 53%|█████▎    | 382/722 [03:08<02:44,  2.07it/s]\u001b[A\n",
      " 53%|█████▎    | 383/722 [03:09<02:44,  2.06it/s]\u001b[A\n",
      " 53%|█████▎    | 384/722 [03:09<02:45,  2.05it/s]\u001b[A\n",
      " 53%|█████▎    | 385/722 [03:10<02:53,  1.94it/s]\u001b[A\n",
      " 53%|█████▎    | 386/722 [03:10<02:53,  1.94it/s]\u001b[A\n",
      " 54%|█████▎    | 387/722 [03:11<02:51,  1.95it/s]\u001b[A\n",
      " 54%|█████▎    | 388/722 [03:11<02:49,  1.97it/s]\u001b[A\n",
      " 54%|█████▍    | 389/722 [03:12<02:48,  1.98it/s]\u001b[A\n",
      " 54%|█████▍    | 390/722 [03:12<02:46,  2.00it/s]\u001b[A\n",
      " 54%|█████▍    | 391/722 [03:13<02:43,  2.02it/s]\u001b[A\n",
      " 54%|█████▍    | 392/722 [03:13<02:41,  2.04it/s]\u001b[A\n",
      " 54%|█████▍    | 393/722 [03:14<02:40,  2.05it/s]\u001b[A\n",
      " 55%|█████▍    | 394/722 [03:14<02:39,  2.06it/s]\u001b[A\n",
      " 55%|█████▍    | 395/722 [03:15<02:45,  1.98it/s]\u001b[A\n",
      " 55%|█████▍    | 396/722 [03:15<02:55,  1.86it/s]\u001b[A\n",
      " 55%|█████▍    | 397/722 [03:16<03:05,  1.75it/s]\u001b[A\n",
      " 55%|█████▌    | 398/722 [03:17<03:07,  1.73it/s]\u001b[A\n",
      " 55%|█████▌    | 399/722 [03:17<03:15,  1.65it/s]\u001b[A\n",
      " 55%|█████▌    | 400/722 [03:18<03:04,  1.74it/s]\u001b[A\n",
      " 56%|█████▌    | 401/722 [03:18<02:53,  1.85it/s]\u001b[A\n",
      " 56%|█████▌    | 402/722 [03:19<02:45,  1.93it/s]\u001b[A\n",
      " 56%|█████▌    | 403/722 [03:19<02:40,  1.99it/s]\u001b[A\n",
      " 56%|█████▌    | 404/722 [03:20<02:35,  2.04it/s]\u001b[A\n",
      " 56%|█████▌    | 405/722 [03:20<02:32,  2.08it/s]\u001b[A\n",
      " 56%|█████▌    | 406/722 [03:21<02:31,  2.09it/s]\u001b[A\n",
      " 56%|█████▋    | 407/722 [03:21<02:29,  2.10it/s]\u001b[A\n",
      " 57%|█████▋    | 408/722 [03:22<02:27,  2.13it/s]\u001b[A\n",
      " 57%|█████▋    | 409/722 [03:22<02:22,  2.20it/s]\u001b[A\n",
      " 57%|█████▋    | 410/722 [03:22<02:19,  2.24it/s]\u001b[A\n",
      " 57%|█████▋    | 411/722 [03:23<02:17,  2.27it/s]\u001b[A\n",
      " 57%|█████▋    | 412/722 [03:23<02:15,  2.29it/s]\u001b[A\n",
      " 57%|█████▋    | 413/722 [03:24<02:22,  2.17it/s]\u001b[A\n",
      " 57%|█████▋    | 414/722 [03:25<02:48,  1.83it/s]\u001b[A\n",
      " 57%|█████▋    | 415/722 [03:25<02:41,  1.90it/s]\u001b[A\n",
      " 58%|█████▊    | 416/722 [03:26<02:37,  1.94it/s]\u001b[A\n",
      " 58%|█████▊    | 417/722 [03:26<02:34,  1.98it/s]\u001b[A\n",
      " 58%|█████▊    | 418/722 [03:26<02:32,  1.99it/s]\u001b[A\n",
      " 58%|█████▊    | 419/722 [03:27<02:30,  2.01it/s]\u001b[A\n",
      " 58%|█████▊    | 420/722 [03:27<02:29,  2.02it/s]\u001b[A\n",
      " 58%|█████▊    | 421/722 [03:28<02:28,  2.03it/s]\u001b[A\n",
      " 58%|█████▊    | 422/722 [03:28<02:26,  2.05it/s]\u001b[A\n",
      " 59%|█████▊    | 423/722 [03:29<02:25,  2.06it/s]\u001b[A\n",
      " 59%|█████▊    | 424/722 [03:29<02:24,  2.06it/s]\u001b[A\n",
      " 59%|█████▉    | 425/722 [03:30<02:23,  2.07it/s]\u001b[A\n",
      " 59%|█████▉    | 426/722 [03:30<02:23,  2.07it/s]\u001b[A\n",
      " 59%|█████▉    | 427/722 [03:31<02:23,  2.06it/s]\u001b[A\n",
      " 59%|█████▉    | 428/722 [03:31<02:22,  2.06it/s]\u001b[A\n",
      " 59%|█████▉    | 429/722 [03:32<02:22,  2.06it/s]\u001b[A\n",
      " 60%|█████▉    | 430/722 [03:32<02:21,  2.06it/s]\u001b[A\n",
      " 60%|█████▉    | 431/722 [03:33<02:21,  2.06it/s]\u001b[A\n",
      " 60%|█████▉    | 432/722 [03:33<02:20,  2.06it/s]\u001b[A\n",
      " 60%|█████▉    | 433/722 [03:34<02:20,  2.06it/s]\u001b[A\n",
      " 60%|██████    | 434/722 [03:34<02:20,  2.05it/s]\u001b[A\n",
      " 60%|██████    | 435/722 [03:35<02:19,  2.05it/s]\u001b[A\n",
      " 60%|██████    | 436/722 [03:35<02:19,  2.04it/s]\u001b[A\n",
      " 61%|██████    | 437/722 [03:36<02:30,  1.90it/s]\u001b[A\n",
      " 61%|██████    | 438/722 [03:36<02:22,  1.99it/s]\u001b[A\n",
      " 61%|██████    | 439/722 [03:37<02:16,  2.08it/s]\u001b[A\n",
      " 61%|██████    | 440/722 [03:37<02:11,  2.15it/s]\u001b[A\n",
      " 61%|██████    | 441/722 [03:38<02:14,  2.09it/s]\u001b[A\n",
      " 61%|██████    | 442/722 [03:38<02:10,  2.14it/s]\u001b[A\n",
      " 61%|██████▏   | 443/722 [03:39<02:07,  2.20it/s]\u001b[A\n",
      " 61%|██████▏   | 444/722 [03:39<02:04,  2.23it/s]\u001b[A\n",
      " 62%|██████▏   | 445/722 [03:39<02:02,  2.26it/s]\u001b[A\n",
      " 62%|██████▏   | 446/722 [03:40<02:01,  2.28it/s]\u001b[A\n",
      " 62%|██████▏   | 447/722 [03:40<02:00,  2.29it/s]\u001b[A\n",
      " 62%|██████▏   | 448/722 [03:41<01:59,  2.29it/s]\u001b[A\n",
      " 62%|██████▏   | 449/722 [03:41<01:58,  2.30it/s]\u001b[A\n",
      " 62%|██████▏   | 450/722 [03:42<02:16,  2.00it/s]\u001b[A\n",
      " 62%|██████▏   | 451/722 [03:42<02:13,  2.03it/s]\u001b[A\n",
      " 63%|██████▎   | 452/722 [03:43<02:10,  2.06it/s]\u001b[A\n",
      " 63%|██████▎   | 453/722 [03:43<02:07,  2.11it/s]\u001b[A\n",
      " 63%|██████▎   | 454/722 [03:44<02:02,  2.19it/s]\u001b[A\n",
      " 63%|██████▎   | 455/722 [03:44<02:16,  1.96it/s]\u001b[A\n",
      " 63%|██████▎   | 456/722 [03:45<02:13,  1.99it/s]\u001b[A\n",
      " 63%|██████▎   | 457/722 [03:45<02:17,  1.93it/s]\u001b[A\n",
      " 63%|██████▎   | 458/722 [03:46<02:25,  1.81it/s]\u001b[A\n",
      " 64%|██████▎   | 459/722 [03:46<02:23,  1.83it/s]\u001b[A\n",
      " 64%|██████▎   | 460/722 [03:47<02:21,  1.85it/s]\u001b[A\n",
      " 64%|██████▍   | 461/722 [03:47<02:21,  1.84it/s]\u001b[A\n",
      " 64%|██████▍   | 462/722 [03:48<02:20,  1.85it/s]\u001b[A\n",
      " 64%|██████▍   | 463/722 [03:49<02:18,  1.87it/s]\u001b[A\n",
      " 64%|██████▍   | 464/722 [03:49<02:19,  1.85it/s]\u001b[A\n",
      " 64%|██████▍   | 465/722 [03:50<02:27,  1.74it/s]\u001b[A\n",
      " 65%|██████▍   | 466/722 [03:50<02:19,  1.84it/s]\u001b[A\n",
      " 65%|██████▍   | 467/722 [03:51<02:13,  1.91it/s]\u001b[A\n",
      " 65%|██████▍   | 468/722 [03:51<02:06,  2.02it/s]\u001b[A\n",
      " 65%|██████▍   | 469/722 [03:52<02:06,  2.00it/s]\u001b[A\n",
      " 65%|██████▌   | 470/722 [03:52<02:01,  2.08it/s]\u001b[A\n",
      " 65%|██████▌   | 471/722 [03:52<01:56,  2.15it/s]\u001b[A\n",
      " 65%|██████▌   | 472/722 [03:53<01:53,  2.20it/s]\u001b[A\n",
      " 66%|██████▌   | 473/722 [03:53<01:51,  2.24it/s]\u001b[A\n",
      " 66%|██████▌   | 474/722 [03:54<01:49,  2.27it/s]\u001b[A\n",
      " 66%|██████▌   | 475/722 [03:54<01:48,  2.28it/s]\u001b[A\n",
      " 66%|██████▌   | 476/722 [03:55<02:02,  2.01it/s]\u001b[A\n",
      " 66%|██████▌   | 477/722 [03:55<01:56,  2.10it/s]\u001b[A\n",
      " 66%|██████▌   | 478/722 [03:56<01:52,  2.16it/s]\u001b[A\n",
      " 66%|██████▋   | 479/722 [03:56<01:49,  2.22it/s]\u001b[A\n",
      " 66%|██████▋   | 480/722 [03:57<01:47,  2.26it/s]\u001b[A\n",
      " 67%|██████▋   | 481/722 [03:57<01:45,  2.29it/s]\u001b[A\n",
      " 67%|██████▋   | 482/722 [03:57<01:44,  2.29it/s]\u001b[A\n",
      " 67%|██████▋   | 483/722 [03:58<01:43,  2.31it/s]\u001b[A\n",
      " 67%|██████▋   | 484/722 [03:58<01:42,  2.33it/s]\u001b[A\n",
      " 67%|██████▋   | 485/722 [03:59<01:41,  2.34it/s]\u001b[A\n",
      " 67%|██████▋   | 486/722 [03:59<01:49,  2.15it/s]\u001b[A\n",
      " 67%|██████▋   | 487/722 [04:00<01:50,  2.13it/s]\u001b[A\n",
      " 68%|██████▊   | 488/722 [04:00<01:46,  2.20it/s]\u001b[A\n",
      " 68%|██████▊   | 489/722 [04:01<01:43,  2.25it/s]\u001b[A\n",
      " 68%|██████▊   | 490/722 [04:01<01:41,  2.28it/s]\u001b[A\n",
      " 68%|██████▊   | 491/722 [04:01<01:39,  2.31it/s]\u001b[A\n",
      " 68%|██████▊   | 492/722 [04:02<01:39,  2.32it/s]\u001b[A\n",
      " 68%|██████▊   | 493/722 [04:02<01:38,  2.33it/s]\u001b[A\n",
      " 68%|██████▊   | 494/722 [04:03<01:37,  2.33it/s]\u001b[A\n",
      " 69%|██████▊   | 495/722 [04:03<01:36,  2.34it/s]\u001b[A\n",
      " 69%|██████▊   | 496/722 [04:04<01:36,  2.34it/s]\u001b[A\n",
      " 69%|██████▉   | 497/722 [04:04<01:40,  2.23it/s]\u001b[A\n",
      " 69%|██████▉   | 498/722 [04:04<01:39,  2.26it/s]\u001b[A\n",
      " 69%|██████▉   | 499/722 [04:05<01:37,  2.28it/s]\u001b[A\n",
      " 69%|██████▉   | 500/722 [04:05<01:36,  2.31it/s]\u001b[A\n",
      " 69%|██████▉   | 501/722 [04:06<01:35,  2.33it/s]\u001b[A\n",
      " 70%|██████▉   | 502/722 [04:06<01:33,  2.34it/s]\u001b[A\n",
      " 70%|██████▉   | 503/722 [04:07<01:33,  2.35it/s]\u001b[A\n",
      " 70%|██████▉   | 504/722 [04:07<01:32,  2.35it/s]\u001b[A\n",
      " 70%|██████▉   | 505/722 [04:07<01:32,  2.35it/s]\u001b[A\n",
      " 70%|███████   | 506/722 [04:08<01:31,  2.35it/s]\u001b[A\n",
      " 70%|███████   | 507/722 [04:08<01:31,  2.35it/s]\u001b[A\n",
      " 70%|███████   | 508/722 [04:09<01:30,  2.36it/s]\u001b[A\n",
      " 70%|███████   | 509/722 [04:09<01:30,  2.36it/s]\u001b[A\n",
      " 71%|███████   | 510/722 [04:10<01:30,  2.35it/s]\u001b[A\n",
      " 71%|███████   | 511/722 [04:10<01:29,  2.36it/s]\u001b[A\n",
      " 71%|███████   | 512/722 [04:10<01:29,  2.36it/s]\u001b[A\n",
      " 71%|███████   | 513/722 [04:11<01:28,  2.36it/s]\u001b[A\n",
      " 71%|███████   | 514/722 [04:11<01:28,  2.36it/s]\u001b[A\n",
      " 71%|███████▏  | 515/722 [04:12<01:27,  2.36it/s]\u001b[A\n",
      " 71%|███████▏  | 516/722 [04:12<01:26,  2.37it/s]\u001b[A\n",
      " 72%|███████▏  | 517/722 [04:12<01:26,  2.37it/s]\u001b[A\n",
      " 72%|███████▏  | 518/722 [04:13<01:25,  2.38it/s]\u001b[A\n",
      " 72%|███████▏  | 519/722 [04:13<01:25,  2.38it/s]\u001b[A\n",
      " 72%|███████▏  | 520/722 [04:14<01:25,  2.37it/s]\u001b[A\n",
      " 72%|███████▏  | 521/722 [04:14<01:24,  2.37it/s]\u001b[A\n",
      " 72%|███████▏  | 522/722 [04:15<01:24,  2.36it/s]\u001b[A\n",
      " 72%|███████▏  | 523/722 [04:15<01:24,  2.36it/s]\u001b[A\n",
      " 73%|███████▎  | 524/722 [04:15<01:23,  2.36it/s]\u001b[A\n",
      " 73%|███████▎  | 525/722 [04:16<01:27,  2.25it/s]\u001b[A\n",
      " 73%|███████▎  | 526/722 [04:16<01:26,  2.28it/s]\u001b[A\n",
      " 73%|███████▎  | 527/722 [04:17<01:29,  2.18it/s]\u001b[A\n",
      " 73%|███████▎  | 528/722 [04:17<01:30,  2.13it/s]\u001b[A\n",
      " 73%|███████▎  | 529/722 [04:18<01:28,  2.19it/s]\u001b[A\n",
      " 73%|███████▎  | 530/722 [04:18<01:25,  2.23it/s]\u001b[A\n",
      " 74%|███████▎  | 531/722 [04:19<01:24,  2.27it/s]\u001b[A\n",
      " 74%|███████▎  | 532/722 [04:19<01:22,  2.29it/s]\u001b[A\n",
      " 74%|███████▍  | 533/722 [04:20<01:28,  2.12it/s]\u001b[A\n",
      " 74%|███████▍  | 534/722 [04:20<01:33,  2.01it/s]\u001b[A\n",
      " 74%|███████▍  | 535/722 [04:21<01:32,  2.02it/s]\u001b[A\n",
      " 74%|███████▍  | 536/722 [04:21<01:31,  2.03it/s]\u001b[A\n",
      " 74%|███████▍  | 537/722 [04:22<01:30,  2.05it/s]\u001b[A\n",
      " 75%|███████▍  | 538/722 [04:22<01:29,  2.05it/s]\u001b[A\n",
      " 75%|███████▍  | 539/722 [04:23<01:29,  2.04it/s]\u001b[A\n",
      " 75%|███████▍  | 540/722 [04:23<01:28,  2.05it/s]\u001b[A\n",
      " 75%|███████▍  | 541/722 [04:24<01:27,  2.06it/s]\u001b[A\n",
      " 75%|███████▌  | 542/722 [04:24<01:28,  2.04it/s]\u001b[A\n",
      " 75%|███████▌  | 543/722 [04:25<01:28,  2.03it/s]\u001b[A\n",
      " 75%|███████▌  | 544/722 [04:25<01:27,  2.03it/s]\u001b[A\n",
      " 75%|███████▌  | 545/722 [04:26<01:27,  2.03it/s]\u001b[A\n",
      " 76%|███████▌  | 546/722 [04:26<01:26,  2.04it/s]\u001b[A\n",
      " 76%|███████▌  | 547/722 [04:27<01:29,  1.95it/s]\u001b[A\n",
      " 76%|███████▌  | 548/722 [04:27<01:27,  1.98it/s]\u001b[A\n",
      " 76%|███████▌  | 549/722 [04:28<01:26,  2.01it/s]\u001b[A\n",
      " 76%|███████▌  | 550/722 [04:28<01:25,  2.02it/s]\u001b[A\n",
      " 76%|███████▋  | 551/722 [04:29<01:24,  2.03it/s]\u001b[A\n",
      " 76%|███████▋  | 552/722 [04:29<01:22,  2.05it/s]\u001b[A\n",
      " 77%|███████▋  | 553/722 [04:30<01:22,  2.05it/s]\u001b[A\n",
      " 77%|███████▋  | 554/722 [04:30<01:26,  1.95it/s]\u001b[A\n",
      " 77%|███████▋  | 555/722 [04:31<01:29,  1.87it/s]\u001b[A\n",
      " 77%|███████▋  | 556/722 [04:31<01:27,  1.91it/s]\u001b[A\n",
      " 77%|███████▋  | 557/722 [04:32<01:25,  1.93it/s]\u001b[A\n",
      " 77%|███████▋  | 558/722 [04:32<01:24,  1.94it/s]\u001b[A\n",
      " 77%|███████▋  | 559/722 [04:33<01:22,  1.98it/s]\u001b[A\n",
      " 78%|███████▊  | 560/722 [04:33<01:25,  1.90it/s]\u001b[A\n",
      " 78%|███████▊  | 561/722 [04:34<01:23,  1.94it/s]\u001b[A\n",
      " 78%|███████▊  | 562/722 [04:34<01:20,  1.98it/s]\u001b[A\n",
      " 78%|███████▊  | 563/722 [04:35<01:19,  2.01it/s]\u001b[A\n",
      " 78%|███████▊  | 564/722 [04:35<01:17,  2.03it/s]\u001b[A\n",
      " 78%|███████▊  | 565/722 [04:36<01:16,  2.04it/s]\u001b[A\n",
      " 78%|███████▊  | 566/722 [04:36<01:16,  2.03it/s]\u001b[A\n",
      " 79%|███████▊  | 567/722 [04:37<01:16,  2.03it/s]\u001b[A\n",
      " 79%|███████▊  | 568/722 [04:37<01:16,  2.02it/s]\u001b[A\n",
      " 79%|███████▉  | 569/722 [04:38<01:15,  2.03it/s]\u001b[A\n",
      " 79%|███████▉  | 570/722 [04:38<01:14,  2.04it/s]\u001b[A\n",
      " 79%|███████▉  | 571/722 [04:39<01:17,  1.94it/s]\u001b[A\n",
      " 79%|███████▉  | 572/722 [04:39<01:18,  1.90it/s]\u001b[A\n",
      " 79%|███████▉  | 573/722 [04:40<01:16,  1.95it/s]\u001b[A\n",
      " 80%|███████▉  | 574/722 [04:40<01:17,  1.92it/s]\u001b[A\n",
      " 80%|███████▉  | 575/722 [04:41<01:17,  1.89it/s]\u001b[A\n",
      " 80%|███████▉  | 576/722 [04:41<01:15,  1.93it/s]\u001b[A\n",
      " 80%|███████▉  | 577/722 [04:42<01:13,  1.96it/s]\u001b[A\n",
      " 80%|████████  | 578/722 [04:42<01:13,  1.96it/s]\u001b[A\n",
      " 80%|████████  | 579/722 [04:43<01:12,  1.97it/s]\u001b[A\n",
      " 80%|████████  | 580/722 [04:43<01:11,  1.99it/s]\u001b[A\n",
      " 80%|████████  | 581/722 [04:44<01:11,  1.97it/s]\u001b[A\n",
      " 81%|████████  | 582/722 [04:44<01:11,  1.95it/s]\u001b[A\n",
      " 81%|████████  | 583/722 [04:45<01:10,  1.96it/s]\u001b[A\n",
      " 81%|████████  | 584/722 [04:45<01:09,  2.00it/s]\u001b[A\n",
      " 81%|████████  | 585/722 [04:46<01:08,  2.01it/s]\u001b[A\n",
      " 81%|████████  | 586/722 [04:46<01:06,  2.03it/s]\u001b[A\n",
      " 81%|████████▏ | 587/722 [04:47<01:05,  2.05it/s]\u001b[A\n",
      " 81%|████████▏ | 588/722 [04:47<01:05,  2.05it/s]\u001b[A\n",
      " 82%|████████▏ | 589/722 [04:48<01:08,  1.95it/s]\u001b[A\n",
      " 82%|████████▏ | 590/722 [04:48<01:06,  1.98it/s]\u001b[A\n",
      " 82%|████████▏ | 591/722 [04:49<01:05,  2.00it/s]\u001b[A\n",
      " 82%|████████▏ | 592/722 [04:49<01:05,  1.99it/s]\u001b[A\n",
      " 82%|████████▏ | 593/722 [04:50<01:04,  2.01it/s]\u001b[A\n",
      " 82%|████████▏ | 594/722 [04:50<01:02,  2.03it/s]\u001b[A\n",
      " 82%|████████▏ | 595/722 [04:51<01:03,  2.01it/s]\u001b[A\n",
      " 83%|████████▎ | 596/722 [04:51<01:02,  2.02it/s]\u001b[A\n",
      " 83%|████████▎ | 597/722 [04:52<01:02,  1.99it/s]\u001b[A\n",
      " 83%|████████▎ | 598/722 [04:52<01:02,  1.97it/s]\u001b[A\n",
      " 83%|████████▎ | 599/722 [04:53<01:01,  1.98it/s]\u001b[A\n",
      " 83%|████████▎ | 600/722 [04:53<01:00,  2.01it/s]\u001b[A\n",
      " 83%|████████▎ | 601/722 [04:54<00:59,  2.02it/s]\u001b[A\n",
      " 83%|████████▎ | 602/722 [04:54<00:58,  2.04it/s]\u001b[A\n",
      " 84%|████████▎ | 603/722 [04:55<00:57,  2.05it/s]\u001b[A\n",
      " 84%|████████▎ | 604/722 [04:55<00:57,  2.05it/s]\u001b[A\n",
      " 84%|████████▍ | 605/722 [04:56<00:56,  2.06it/s]\u001b[A\n",
      " 84%|████████▍ | 606/722 [04:56<00:56,  2.07it/s]\u001b[A\n",
      " 84%|████████▍ | 607/722 [04:57<00:55,  2.06it/s]\u001b[A\n",
      " 84%|████████▍ | 608/722 [04:57<00:55,  2.06it/s]\u001b[A\n",
      " 84%|████████▍ | 609/722 [04:58<00:54,  2.06it/s]\u001b[A\n",
      " 84%|████████▍ | 610/722 [04:58<00:54,  2.06it/s]\u001b[A\n",
      " 85%|████████▍ | 611/722 [04:59<00:56,  1.95it/s]\u001b[A\n",
      " 85%|████████▍ | 612/722 [04:59<01:00,  1.81it/s]\u001b[A\n",
      " 85%|████████▍ | 613/722 [05:00<00:56,  1.94it/s]\u001b[A\n",
      " 85%|████████▌ | 614/722 [05:00<00:52,  2.04it/s]\u001b[A\n",
      " 85%|████████▌ | 615/722 [05:01<00:50,  2.11it/s]\u001b[A\n",
      " 85%|████████▌ | 616/722 [05:01<00:49,  2.14it/s]\u001b[A\n",
      " 85%|████████▌ | 617/722 [05:02<00:48,  2.19it/s]\u001b[A\n"
     ]
    },
    {
     "name": "stderr",
     "output_type": "stream",
     "text": [
      " 86%|████████▌ | 618/722 [05:02<00:46,  2.23it/s]\u001b[A\n",
      " 86%|████████▌ | 619/722 [05:02<00:45,  2.25it/s]\u001b[A\n",
      " 86%|████████▌ | 620/722 [05:03<00:45,  2.26it/s]\u001b[A\n",
      " 86%|████████▌ | 621/722 [05:03<00:44,  2.27it/s]\u001b[A\n",
      " 86%|████████▌ | 622/722 [05:04<00:43,  2.28it/s]\u001b[A\n",
      " 86%|████████▋ | 623/722 [05:04<00:43,  2.29it/s]\u001b[A\n",
      " 86%|████████▋ | 624/722 [05:05<00:42,  2.30it/s]\u001b[A\n",
      " 87%|████████▋ | 625/722 [05:05<00:41,  2.31it/s]\u001b[A\n",
      " 87%|████████▋ | 626/722 [05:05<00:41,  2.31it/s]\u001b[A\n",
      " 87%|████████▋ | 627/722 [05:06<00:41,  2.31it/s]\u001b[A\n",
      " 87%|████████▋ | 628/722 [05:06<00:40,  2.31it/s]\u001b[A\n",
      " 87%|████████▋ | 629/722 [05:07<00:40,  2.31it/s]\u001b[A\n",
      " 87%|████████▋ | 630/722 [05:07<00:39,  2.30it/s]\u001b[A\n",
      " 87%|████████▋ | 631/722 [05:08<00:39,  2.30it/s]\u001b[A\n",
      " 88%|████████▊ | 632/722 [05:08<00:39,  2.30it/s]\u001b[A\n",
      " 88%|████████▊ | 633/722 [05:08<00:38,  2.30it/s]\u001b[A\n",
      " 88%|████████▊ | 634/722 [05:09<00:37,  2.32it/s]\u001b[A\n",
      " 88%|████████▊ | 635/722 [05:09<00:39,  2.20it/s]\u001b[A\n",
      " 88%|████████▊ | 636/722 [05:10<00:38,  2.25it/s]\u001b[A\n",
      " 88%|████████▊ | 637/722 [05:10<00:37,  2.28it/s]\u001b[A\n",
      " 88%|████████▊ | 638/722 [05:11<00:36,  2.28it/s]\u001b[A\n",
      " 89%|████████▊ | 639/722 [05:11<00:36,  2.27it/s]\u001b[A\n",
      " 89%|████████▊ | 640/722 [05:12<00:35,  2.29it/s]\u001b[A\n",
      " 89%|████████▉ | 641/722 [05:12<00:35,  2.31it/s]\u001b[A\n",
      " 89%|████████▉ | 642/722 [05:12<00:34,  2.32it/s]\u001b[A\n",
      " 89%|████████▉ | 643/722 [05:13<00:34,  2.32it/s]\u001b[A\n",
      " 89%|████████▉ | 644/722 [05:13<00:33,  2.33it/s]\u001b[A\n",
      " 89%|████████▉ | 645/722 [05:14<00:33,  2.32it/s]\u001b[A\n",
      " 89%|████████▉ | 646/722 [05:14<00:33,  2.30it/s]\u001b[A\n",
      " 90%|████████▉ | 647/722 [05:15<00:32,  2.31it/s]\u001b[A\n",
      " 90%|████████▉ | 648/722 [05:15<00:31,  2.32it/s]\u001b[A\n",
      " 90%|████████▉ | 649/722 [05:15<00:31,  2.32it/s]\u001b[A\n",
      " 90%|█████████ | 650/722 [05:16<00:31,  2.32it/s]\u001b[A\n",
      " 90%|█████████ | 651/722 [05:16<00:30,  2.33it/s]\u001b[A\n",
      " 90%|█████████ | 652/722 [05:17<00:30,  2.33it/s]\u001b[A\n",
      " 90%|█████████ | 653/722 [05:17<00:29,  2.32it/s]\u001b[A\n",
      " 91%|█████████ | 654/722 [05:18<00:29,  2.31it/s]\u001b[A\n",
      " 91%|█████████ | 655/722 [05:18<00:29,  2.31it/s]\u001b[A\n",
      " 91%|█████████ | 656/722 [05:18<00:28,  2.30it/s]\u001b[A\n",
      " 91%|█████████ | 657/722 [05:19<00:28,  2.32it/s]\u001b[A\n",
      " 91%|█████████ | 658/722 [05:19<00:27,  2.31it/s]\u001b[A\n",
      " 91%|█████████▏| 659/722 [05:20<00:27,  2.32it/s]\u001b[A\n",
      " 91%|█████████▏| 660/722 [05:20<00:26,  2.32it/s]\u001b[A\n",
      " 92%|█████████▏| 661/722 [05:21<00:26,  2.32it/s]\u001b[A\n",
      " 92%|█████████▏| 662/722 [05:21<00:25,  2.32it/s]\u001b[A\n",
      " 92%|█████████▏| 663/722 [05:21<00:25,  2.32it/s]\u001b[A\n",
      " 92%|█████████▏| 664/722 [05:22<00:30,  1.90it/s]\u001b[A\n",
      " 92%|█████████▏| 665/722 [05:23<00:33,  1.71it/s]\u001b[A\n",
      " 92%|█████████▏| 666/722 [05:23<00:30,  1.85it/s]\u001b[A\n",
      " 92%|█████████▏| 667/722 [05:24<00:27,  1.97it/s]\u001b[A\n",
      " 93%|█████████▎| 668/722 [05:24<00:26,  2.04it/s]\u001b[A\n",
      " 93%|█████████▎| 669/722 [05:25<00:25,  2.09it/s]\u001b[A\n",
      " 93%|█████████▎| 670/722 [05:25<00:24,  2.14it/s]\u001b[A\n",
      " 93%|█████████▎| 671/722 [05:26<00:23,  2.14it/s]\u001b[A\n",
      " 93%|█████████▎| 672/722 [05:26<00:22,  2.19it/s]\u001b[A\n",
      " 93%|█████████▎| 673/722 [05:27<00:22,  2.22it/s]\u001b[A\n",
      " 93%|█████████▎| 674/722 [05:27<00:21,  2.25it/s]\u001b[A\n",
      " 93%|█████████▎| 675/722 [05:27<00:20,  2.27it/s]\u001b[A\n",
      " 94%|█████████▎| 676/722 [05:28<00:20,  2.29it/s]\u001b[A\n",
      " 94%|█████████▍| 677/722 [05:28<00:19,  2.30it/s]\u001b[A\n",
      " 94%|█████████▍| 678/722 [05:29<00:18,  2.32it/s]\u001b[A\n",
      " 94%|█████████▍| 679/722 [05:29<00:22,  1.93it/s]\u001b[A\n",
      " 94%|█████████▍| 680/722 [05:30<00:23,  1.82it/s]\u001b[A\n",
      " 94%|█████████▍| 681/722 [05:31<00:22,  1.84it/s]\u001b[A\n",
      " 94%|█████████▍| 682/722 [05:31<00:21,  1.87it/s]\u001b[A\n",
      " 95%|█████████▍| 683/722 [05:32<00:20,  1.91it/s]\u001b[A\n",
      " 95%|█████████▍| 684/722 [05:32<00:19,  1.95it/s]\u001b[A\n",
      " 95%|█████████▍| 685/722 [05:33<00:18,  1.99it/s]\u001b[A\n",
      " 95%|█████████▌| 686/722 [05:33<00:18,  1.95it/s]\u001b[A\n",
      " 95%|█████████▌| 687/722 [05:34<00:18,  1.94it/s]\u001b[A\n",
      " 95%|█████████▌| 688/722 [05:34<00:17,  1.98it/s]\u001b[A\n",
      " 95%|█████████▌| 689/722 [05:35<00:16,  1.99it/s]\u001b[A\n",
      " 96%|█████████▌| 690/722 [05:35<00:15,  2.00it/s]\u001b[A\n",
      " 96%|█████████▌| 691/722 [05:36<00:15,  1.97it/s]\u001b[A\n",
      " 96%|█████████▌| 692/722 [05:36<00:15,  1.95it/s]\u001b[A\n",
      " 96%|█████████▌| 693/722 [05:37<00:14,  1.95it/s]\u001b[A\n",
      " 96%|█████████▌| 694/722 [05:37<00:14,  1.94it/s]\u001b[A\n",
      " 96%|█████████▋| 695/722 [05:38<00:13,  1.93it/s]\u001b[A\n",
      " 96%|█████████▋| 696/722 [05:38<00:13,  1.92it/s]\u001b[A\n",
      " 97%|█████████▋| 697/722 [05:39<00:13,  1.91it/s]\u001b[A\n",
      " 97%|█████████▋| 698/722 [05:39<00:12,  1.90it/s]\u001b[A\n",
      " 97%|█████████▋| 699/722 [05:40<00:12,  1.90it/s]\u001b[A\n",
      " 97%|█████████▋| 700/722 [05:40<00:12,  1.82it/s]\u001b[A\n",
      " 97%|█████████▋| 701/722 [05:41<00:11,  1.84it/s]\u001b[A\n",
      " 97%|█████████▋| 702/722 [05:41<00:10,  1.87it/s]\u001b[A\n",
      " 97%|█████████▋| 703/722 [05:42<00:10,  1.89it/s]\u001b[A\n",
      " 98%|█████████▊| 704/722 [05:42<00:09,  1.89it/s]\u001b[A\n",
      " 98%|█████████▊| 705/722 [05:43<00:08,  1.90it/s]\u001b[A\n",
      " 98%|█████████▊| 706/722 [05:43<00:08,  1.95it/s]\u001b[A\n",
      " 98%|█████████▊| 707/722 [05:44<00:08,  1.83it/s]\u001b[A\n",
      " 98%|█████████▊| 708/722 [05:45<00:07,  1.95it/s]\u001b[A\n",
      " 98%|█████████▊| 709/722 [05:45<00:06,  2.05it/s]\u001b[A\n",
      " 98%|█████████▊| 710/722 [05:45<00:05,  2.11it/s]\u001b[A\n",
      " 98%|█████████▊| 711/722 [05:46<00:05,  2.17it/s]\u001b[A\n",
      " 99%|█████████▊| 712/722 [05:46<00:04,  2.21it/s]\u001b[A\n",
      " 99%|█████████▉| 713/722 [05:47<00:04,  2.24it/s]\u001b[A\n",
      " 99%|█████████▉| 714/722 [05:47<00:03,  2.27it/s]\u001b[A\n",
      " 99%|█████████▉| 715/722 [05:48<00:03,  2.29it/s]\u001b[A\n",
      " 99%|█████████▉| 716/722 [05:48<00:02,  2.30it/s]\u001b[A\n",
      " 99%|█████████▉| 717/722 [05:48<00:02,  2.31it/s]\u001b[A\n",
      " 99%|█████████▉| 718/722 [05:49<00:01,  2.32it/s]\u001b[A\n",
      "100%|█████████▉| 719/722 [05:49<00:01,  2.33it/s]\u001b[A\n",
      "100%|█████████▉| 720/722 [05:50<00:00,  2.33it/s]\u001b[A\n",
      "100%|█████████▉| 721/722 [05:50<00:00,  2.33it/s]\u001b[A\n",
      "100%|██████████| 722/722 [05:51<00:00,  2.06it/s]\u001b[A\n"
     ]
    }
   ],
   "source": [
    "neg_rankings_dblp,neg_triangles_dblp,flippedPred_neg_dblp,notFlipped_neg_dblp = explainSamples(correctPredictions_dblp,\n",
    "                                                          [tableA_dblp,tableB_dblp],dblp_hybrid,originalClass=0,\n",
    "                                                                                              maxLenAttributeSet=1)"
   ]
  },
  {
   "cell_type": "code",
   "execution_count": 14,
   "metadata": {
    "ExecuteTime": {
     "end_time": "2020-02-15T15:28:33.399181Z",
     "start_time": "2020-02-15T15:28:33.100759Z"
    }
   },
   "outputs": [
    {
     "data": {
      "text/plain": [
       "<matplotlib.axes._subplots.AxesSubplot at 0x7fd563bb5278>"
      ]
     },
     "execution_count": 14,
     "metadata": {},
     "output_type": "execute_result"
    },
    {
     "data": {
      "image/png": "[encoded data removed]",
      "text/plain": [
       "<Figure size 288x288 with 1 Axes>"
      ]
     },
     "metadata": {
      "needs_background": "light"
     },
     "output_type": "display_data"
    }
   ],
   "source": [
    "aggregateRankings(neg_rankings_dblp,positive=False)"
   ]
  },
  {
   "cell_type": "code",
   "execution_count": 16,
   "metadata": {
    "ExecuteTime": {
     "end_time": "2020-02-15T15:34:56.371068Z",
     "start_time": "2020-02-15T15:29:13.094274Z"
    }
   },
   "outputs": [
    {
     "name": "stderr",
     "output_type": "stream",
     "text": [
      "\n",
      "  0%|          | 0/722 [00:00<?, ?it/s]\u001b[A\n",
      "  0%|          | 1/722 [00:00<06:24,  1.87it/s]\u001b[A\n",
      "  0%|          | 2/722 [00:00<06:09,  1.95it/s]\u001b[A\n",
      "  0%|          | 3/722 [00:01<05:58,  2.01it/s]\u001b[A\n",
      "  1%|          | 4/722 [00:01<05:53,  2.03it/s]\u001b[A\n",
      "  1%|          | 5/722 [00:02<05:47,  2.06it/s]\u001b[A\n",
      "  1%|          | 6/722 [00:02<05:42,  2.09it/s]\u001b[A\n",
      "  1%|          | 7/722 [00:03<05:39,  2.10it/s]\u001b[A\n",
      "  1%|          | 8/722 [00:03<06:03,  1.96it/s]\u001b[A\n",
      "  1%|          | 9/722 [00:04<05:44,  2.07it/s]\u001b[A\n",
      "  1%|▏         | 10/722 [00:04<05:30,  2.15it/s]\u001b[A\n",
      "  2%|▏         | 11/722 [00:05<05:20,  2.22it/s]\u001b[A\n",
      "  2%|▏         | 12/722 [00:05<05:14,  2.26it/s]\u001b[A\n",
      "  2%|▏         | 13/722 [00:06<05:09,  2.29it/s]\u001b[A\n",
      "  2%|▏         | 14/722 [00:06<05:06,  2.31it/s]\u001b[A\n",
      "  2%|▏         | 15/722 [00:06<05:04,  2.32it/s]\u001b[A\n",
      "  2%|▏         | 16/722 [00:07<05:02,  2.34it/s]\u001b[A\n",
      "  2%|▏         | 17/722 [00:07<05:00,  2.35it/s]\u001b[A\n",
      "  2%|▏         | 18/722 [00:08<05:16,  2.23it/s]\u001b[A\n",
      "  3%|▎         | 19/722 [00:09<06:24,  1.83it/s]\u001b[A\n",
      "  3%|▎         | 20/722 [00:09<06:19,  1.85it/s]\u001b[A\n",
      "  3%|▎         | 21/722 [00:10<06:10,  1.89it/s]\u001b[A\n",
      "  3%|▎         | 22/722 [00:10<06:02,  1.93it/s]\u001b[A\n",
      "  3%|▎         | 23/722 [00:11<06:03,  1.92it/s]\u001b[A\n",
      "  3%|▎         | 24/722 [00:11<06:20,  1.83it/s]\u001b[A\n",
      "  3%|▎         | 25/722 [00:12<06:14,  1.86it/s]\u001b[A\n",
      "  4%|▎         | 26/722 [00:12<06:05,  1.90it/s]\u001b[A\n",
      "  4%|▎         | 27/722 [00:13<05:54,  1.96it/s]\u001b[A\n",
      "  4%|▍         | 28/722 [00:13<05:47,  2.00it/s]\u001b[A\n",
      "  4%|▍         | 29/722 [00:14<05:43,  2.02it/s]\u001b[A\n",
      "  4%|▍         | 30/722 [00:14<06:14,  1.85it/s]\u001b[A\n",
      "  4%|▍         | 31/722 [00:15<05:49,  1.98it/s]\u001b[A\n",
      "  4%|▍         | 32/722 [00:15<05:29,  2.09it/s]\u001b[A\n",
      "  5%|▍         | 33/722 [00:16<05:17,  2.17it/s]\u001b[A\n",
      "  5%|▍         | 34/722 [00:16<05:12,  2.20it/s]\u001b[A\n",
      "  5%|▍         | 35/722 [00:16<05:05,  2.25it/s]\u001b[A\n",
      "  5%|▍         | 36/722 [00:17<05:00,  2.28it/s]\u001b[A\n",
      "  5%|▌         | 37/722 [00:17<04:55,  2.32it/s]\u001b[A\n",
      "  5%|▌         | 38/722 [00:18<04:53,  2.33it/s]\u001b[A\n",
      "  5%|▌         | 39/722 [00:18<04:51,  2.34it/s]\u001b[A\n",
      "  6%|▌         | 40/722 [00:19<05:09,  2.20it/s]\u001b[A\n",
      "  6%|▌         | 41/722 [00:19<05:40,  2.00it/s]\u001b[A\n",
      "  6%|▌         | 42/722 [00:20<05:36,  2.02it/s]\u001b[A\n",
      "  6%|▌         | 43/722 [00:20<05:34,  2.03it/s]\u001b[A\n",
      "  6%|▌         | 44/722 [00:21<05:32,  2.04it/s]\u001b[A\n",
      "  6%|▌         | 45/722 [00:21<05:31,  2.04it/s]\u001b[A\n",
      "  6%|▋         | 46/722 [00:22<05:30,  2.05it/s]\u001b[A\n",
      "  7%|▋         | 47/722 [00:22<05:31,  2.04it/s]\u001b[A\n",
      "  7%|▋         | 48/722 [00:23<05:29,  2.04it/s]\u001b[A\n",
      "  7%|▋         | 49/722 [00:23<05:30,  2.04it/s]\u001b[A\n",
      "  7%|▋         | 50/722 [00:24<05:31,  2.03it/s]\u001b[A\n",
      "  7%|▋         | 51/722 [00:24<05:27,  2.05it/s]\u001b[A\n",
      "  7%|▋         | 52/722 [00:25<05:40,  1.97it/s]\u001b[A\n",
      "  7%|▋         | 53/722 [00:25<05:35,  2.00it/s]\u001b[A\n",
      "  7%|▋         | 54/722 [00:26<05:29,  2.03it/s]\u001b[A\n",
      "  8%|▊         | 55/722 [00:26<05:26,  2.04it/s]\u001b[A\n",
      "  8%|▊         | 56/722 [00:27<05:24,  2.05it/s]\u001b[A\n",
      "  8%|▊         | 57/722 [00:27<05:21,  2.07it/s]\u001b[A\n",
      "  8%|▊         | 58/722 [00:27<05:19,  2.08it/s]\u001b[A\n",
      "  8%|▊         | 59/722 [00:28<05:18,  2.08it/s]\u001b[A\n",
      "  8%|▊         | 60/722 [00:28<05:18,  2.08it/s]\u001b[A\n",
      "  8%|▊         | 61/722 [00:29<05:19,  2.07it/s]\u001b[A\n",
      "  9%|▊         | 62/722 [00:29<05:19,  2.07it/s]\u001b[A\n",
      "  9%|▊         | 63/722 [00:30<05:22,  2.04it/s]\u001b[A\n",
      "  9%|▉         | 64/722 [00:31<05:53,  1.86it/s]\u001b[A\n",
      "  9%|▉         | 65/722 [00:31<05:37,  1.94it/s]\u001b[A\n",
      "  9%|▉         | 66/722 [00:32<05:27,  2.00it/s]\u001b[A\n",
      "  9%|▉         | 67/722 [00:32<05:17,  2.06it/s]\u001b[A\n",
      "  9%|▉         | 68/722 [00:32<05:08,  2.12it/s]\u001b[A\n",
      " 10%|▉         | 69/722 [00:33<04:59,  2.18it/s]\u001b[A\n",
      " 10%|▉         | 70/722 [00:33<04:52,  2.23it/s]\u001b[A\n",
      " 10%|▉         | 71/722 [00:34<04:47,  2.26it/s]\u001b[A\n",
      " 10%|▉         | 72/722 [00:34<04:44,  2.28it/s]\u001b[A\n",
      " 10%|█         | 73/722 [00:35<04:42,  2.30it/s]\u001b[A\n",
      " 10%|█         | 74/722 [00:35<04:40,  2.31it/s]\u001b[A\n",
      " 10%|█         | 75/722 [00:35<04:39,  2.31it/s]\u001b[A\n",
      " 11%|█         | 76/722 [00:36<04:37,  2.33it/s]\u001b[A\n",
      " 11%|█         | 77/722 [00:36<04:35,  2.34it/s]\u001b[A\n",
      " 11%|█         | 78/722 [00:37<04:34,  2.35it/s]\u001b[A\n",
      " 11%|█         | 79/722 [00:37<04:33,  2.35it/s]\u001b[A\n",
      " 11%|█         | 80/722 [00:38<04:45,  2.25it/s]\u001b[A\n",
      " 11%|█         | 81/722 [00:38<04:41,  2.28it/s]\u001b[A\n",
      " 11%|█▏        | 82/722 [00:38<04:37,  2.31it/s]\u001b[A\n",
      " 11%|█▏        | 83/722 [00:39<04:34,  2.32it/s]\u001b[A\n",
      " 12%|█▏        | 84/722 [00:39<04:34,  2.32it/s]\u001b[A\n",
      " 12%|█▏        | 85/722 [00:40<05:17,  2.01it/s]\u001b[A\n",
      " 12%|█▏        | 86/722 [00:40<05:06,  2.08it/s]\u001b[A\n",
      " 12%|█▏        | 87/722 [00:41<04:55,  2.15it/s]\u001b[A\n",
      " 12%|█▏        | 88/722 [00:41<04:47,  2.20it/s]\u001b[A\n",
      " 12%|█▏        | 89/722 [00:42<04:42,  2.24it/s]\u001b[A\n",
      " 12%|█▏        | 90/722 [00:42<04:38,  2.27it/s]\u001b[A\n",
      " 13%|█▎        | 91/722 [00:43<04:35,  2.29it/s]\u001b[A\n",
      " 13%|█▎        | 92/722 [00:43<04:35,  2.28it/s]\u001b[A\n",
      " 13%|█▎        | 93/722 [00:43<04:33,  2.30it/s]\u001b[A\n",
      " 13%|█▎        | 94/722 [00:44<04:31,  2.32it/s]\u001b[A\n",
      " 13%|█▎        | 95/722 [00:44<04:29,  2.32it/s]\u001b[A\n",
      " 13%|█▎        | 96/722 [00:45<04:28,  2.33it/s]\u001b[A\n",
      " 13%|█▎        | 97/722 [00:45<04:27,  2.34it/s]\u001b[A\n",
      " 14%|█▎        | 98/722 [00:46<04:27,  2.33it/s]\u001b[A\n",
      " 14%|█▎        | 99/722 [00:46<04:26,  2.34it/s]\u001b[A\n",
      " 14%|█▍        | 100/722 [00:46<04:29,  2.31it/s]\u001b[A\n",
      " 14%|█▍        | 101/722 [00:47<04:37,  2.24it/s]\u001b[A\n",
      " 14%|█▍        | 102/722 [00:47<04:33,  2.27it/s]\u001b[A\n",
      " 14%|█▍        | 103/722 [00:48<04:35,  2.25it/s]\u001b[A\n",
      " 14%|█▍        | 104/722 [00:48<04:31,  2.28it/s]\u001b[A\n",
      " 15%|█▍        | 105/722 [00:49<04:28,  2.29it/s]\u001b[A\n",
      " 15%|█▍        | 106/722 [00:49<04:27,  2.31it/s]\u001b[A\n",
      " 15%|█▍        | 107/722 [00:49<04:25,  2.32it/s]\u001b[A\n",
      " 15%|█▍        | 108/722 [00:50<04:36,  2.22it/s]\u001b[A\n",
      " 15%|█▌        | 109/722 [00:50<04:32,  2.25it/s]\u001b[A\n",
      " 15%|█▌        | 110/722 [00:51<04:28,  2.28it/s]\u001b[A\n",
      " 15%|█▌        | 111/722 [00:51<04:25,  2.30it/s]\u001b[A\n",
      " 16%|█▌        | 112/722 [00:52<04:24,  2.31it/s]\u001b[A\n",
      " 16%|█▌        | 113/722 [00:52<04:22,  2.32it/s]\u001b[A\n",
      " 16%|█▌        | 114/722 [00:53<04:21,  2.32it/s]\u001b[A\n",
      " 16%|█▌        | 115/722 [00:53<04:21,  2.32it/s]\u001b[A\n",
      " 16%|█▌        | 116/722 [00:53<04:20,  2.32it/s]\u001b[A\n",
      " 16%|█▌        | 117/722 [00:54<04:23,  2.30it/s]\u001b[A\n",
      " 16%|█▋        | 118/722 [00:54<04:28,  2.25it/s]\u001b[A\n",
      " 16%|█▋        | 119/722 [00:55<04:32,  2.21it/s]\u001b[A\n",
      " 17%|█▋        | 120/722 [00:55<04:35,  2.19it/s]\u001b[A\n",
      " 17%|█▋        | 121/722 [00:56<05:29,  1.82it/s]\u001b[A\n",
      " 17%|█▋        | 122/722 [00:57<05:31,  1.81it/s]\u001b[A\n",
      " 17%|█▋        | 123/722 [00:57<05:28,  1.82it/s]\u001b[A\n",
      " 17%|█▋        | 124/722 [00:58<05:24,  1.84it/s]\u001b[A\n",
      " 17%|█▋        | 125/722 [00:58<05:20,  1.86it/s]\u001b[A\n",
      " 17%|█▋        | 126/722 [00:59<05:16,  1.88it/s]\u001b[A\n",
      " 18%|█▊        | 127/722 [00:59<05:13,  1.90it/s]\u001b[A\n",
      " 18%|█▊        | 128/722 [01:00<05:12,  1.90it/s]\u001b[A\n",
      " 18%|█▊        | 129/722 [01:00<05:10,  1.91it/s]\u001b[A\n",
      " 18%|█▊        | 130/722 [01:01<05:05,  1.94it/s]\u001b[A\n",
      " 18%|█▊        | 131/722 [01:01<04:59,  1.97it/s]\u001b[A\n",
      " 18%|█▊        | 132/722 [01:02<04:54,  2.00it/s]\u001b[A\n",
      " 18%|█▊        | 133/722 [01:02<04:51,  2.02it/s]\u001b[A\n",
      " 19%|█▊        | 134/722 [01:03<04:50,  2.02it/s]\u001b[A\n",
      " 19%|█▊        | 135/722 [01:03<04:52,  2.01it/s]\u001b[A\n",
      " 19%|█▉        | 136/722 [01:04<05:04,  1.92it/s]\u001b[A\n",
      " 19%|█▉        | 137/722 [01:04<05:00,  1.95it/s]\u001b[A\n",
      " 19%|█▉        | 138/722 [01:05<04:56,  1.97it/s]\u001b[A\n",
      " 19%|█▉        | 139/722 [01:05<04:54,  1.98it/s]\u001b[A\n",
      " 19%|█▉        | 140/722 [01:06<05:15,  1.85it/s]\u001b[A\n",
      " 20%|█▉        | 141/722 [01:06<04:53,  1.98it/s]\u001b[A\n",
      " 20%|█▉        | 142/722 [01:07<04:38,  2.08it/s]\u001b[A\n",
      " 20%|█▉        | 143/722 [01:07<04:32,  2.12it/s]\u001b[A\n",
      " 20%|█▉        | 144/722 [01:08<04:58,  1.94it/s]\u001b[A\n",
      " 20%|██        | 145/722 [01:08<05:30,  1.74it/s]\u001b[A\n",
      " 20%|██        | 146/722 [01:09<05:34,  1.72it/s]\u001b[A\n",
      " 20%|██        | 147/722 [01:10<05:12,  1.84it/s]\u001b[A\n",
      " 20%|██        | 148/722 [01:10<04:57,  1.93it/s]\u001b[A\n",
      " 21%|██        | 149/722 [01:10<04:47,  2.00it/s]\u001b[A\n",
      " 21%|██        | 150/722 [01:11<04:51,  1.96it/s]\u001b[A\n",
      " 21%|██        | 151/722 [01:11<04:51,  1.96it/s]\u001b[A\n",
      " 21%|██        | 152/722 [01:12<04:52,  1.95it/s]\u001b[A\n",
      " 21%|██        | 153/722 [01:13<04:54,  1.93it/s]\u001b[A\n",
      " 21%|██▏       | 154/722 [01:13<04:53,  1.94it/s]\u001b[A\n",
      " 21%|██▏       | 155/722 [01:14<04:53,  1.93it/s]\u001b[A\n",
      " 22%|██▏       | 156/722 [01:14<04:55,  1.91it/s]\u001b[A\n",
      " 22%|██▏       | 157/722 [01:15<04:58,  1.90it/s]\u001b[A\n",
      " 22%|██▏       | 158/722 [01:15<04:56,  1.90it/s]\u001b[A\n",
      " 22%|██▏       | 159/722 [01:16<04:55,  1.91it/s]\u001b[A\n",
      " 22%|██▏       | 160/722 [01:16<04:54,  1.91it/s]\u001b[A\n",
      " 22%|██▏       | 161/722 [01:17<04:52,  1.91it/s]\u001b[A\n",
      " 22%|██▏       | 162/722 [01:17<04:50,  1.93it/s]\u001b[A\n",
      " 23%|██▎       | 163/722 [01:18<04:43,  1.97it/s]\u001b[A\n",
      " 23%|██▎       | 164/722 [01:18<04:49,  1.93it/s]\u001b[A\n",
      " 23%|██▎       | 165/722 [01:19<04:43,  1.97it/s]\u001b[A\n",
      " 23%|██▎       | 166/722 [01:19<04:38,  2.00it/s]\u001b[A\n",
      " 23%|██▎       | 167/722 [01:20<04:35,  2.02it/s]\u001b[A\n",
      " 23%|██▎       | 168/722 [01:20<04:33,  2.02it/s]\u001b[A\n",
      " 23%|██▎       | 169/722 [01:21<04:30,  2.04it/s]\u001b[A\n",
      " 24%|██▎       | 170/722 [01:21<04:28,  2.05it/s]\u001b[A\n",
      " 24%|██▎       | 171/722 [01:22<04:27,  2.06it/s]\u001b[A\n",
      " 24%|██▍       | 172/722 [01:22<04:26,  2.06it/s]\u001b[A\n",
      " 24%|██▍       | 173/722 [01:23<04:25,  2.07it/s]\u001b[A\n",
      " 24%|██▍       | 174/722 [01:23<04:25,  2.07it/s]\u001b[A\n",
      " 24%|██▍       | 175/722 [01:24<04:28,  2.04it/s]\u001b[A\n",
      " 24%|██▍       | 176/722 [01:24<04:27,  2.04it/s]\u001b[A\n",
      " 25%|██▍       | 177/722 [01:25<04:26,  2.05it/s]\u001b[A\n",
      " 25%|██▍       | 178/722 [01:25<04:26,  2.04it/s]\u001b[A\n",
      " 25%|██▍       | 179/722 [01:26<04:37,  1.96it/s]\u001b[A\n",
      " 25%|██▍       | 180/722 [01:26<05:00,  1.80it/s]\u001b[A\n",
      " 25%|██▌       | 181/722 [01:27<04:52,  1.85it/s]\u001b[A\n",
      " 25%|██▌       | 182/722 [01:27<04:37,  1.94it/s]\u001b[A\n",
      " 25%|██▌       | 183/722 [01:28<04:26,  2.02it/s]\u001b[A\n",
      " 25%|██▌       | 184/722 [01:28<04:13,  2.12it/s]\u001b[A\n",
      " 26%|██▌       | 185/722 [01:29<04:05,  2.19it/s]\u001b[A\n",
      " 26%|██▌       | 186/722 [01:29<04:33,  1.96it/s]\u001b[A\n",
      " 26%|██▌       | 187/722 [01:30<04:18,  2.07it/s]\u001b[A\n",
      " 26%|██▌       | 188/722 [01:30<04:08,  2.15it/s]\u001b[A\n",
      " 26%|██▌       | 189/722 [01:30<04:01,  2.21it/s]\u001b[A\n",
      " 26%|██▋       | 190/722 [01:31<03:56,  2.25it/s]\u001b[A\n",
      " 26%|██▋       | 191/722 [01:31<03:53,  2.27it/s]\u001b[A\n",
      " 27%|██▋       | 192/722 [01:32<04:03,  2.18it/s]\u001b[A\n",
      " 27%|██▋       | 193/722 [01:32<03:57,  2.23it/s]\u001b[A\n",
      " 27%|██▋       | 194/722 [01:33<03:52,  2.27it/s]\u001b[A\n",
      " 27%|██▋       | 195/722 [01:33<03:48,  2.31it/s]\u001b[A\n",
      " 27%|██▋       | 196/722 [01:33<03:45,  2.33it/s]\u001b[A\n",
      " 27%|██▋       | 197/722 [01:34<03:43,  2.35it/s]\u001b[A\n",
      " 27%|██▋       | 198/722 [01:34<03:41,  2.36it/s]\u001b[A\n",
      " 28%|██▊       | 199/722 [01:35<03:41,  2.37it/s]\u001b[A\n",
      " 28%|██▊       | 200/722 [01:35<03:40,  2.37it/s]\u001b[A\n",
      " 28%|██▊       | 201/722 [01:36<03:39,  2.37it/s]\u001b[A\n",
      " 28%|██▊       | 202/722 [01:36<03:39,  2.37it/s]\u001b[A\n",
      " 28%|██▊       | 203/722 [01:36<03:39,  2.37it/s]\u001b[A\n",
      " 28%|██▊       | 204/722 [01:37<03:38,  2.37it/s]\u001b[A\n",
      " 28%|██▊       | 205/722 [01:37<04:12,  2.04it/s]\u001b[A\n",
      " 29%|██▊       | 206/722 [01:38<04:05,  2.10it/s]\u001b[A\n",
      " 29%|██▊       | 207/722 [01:38<03:56,  2.18it/s]\u001b[A\n",
      " 29%|██▉       | 208/722 [01:39<03:50,  2.23it/s]\u001b[A\n",
      " 29%|██▉       | 209/722 [01:39<03:45,  2.27it/s]\u001b[A\n",
      " 29%|██▉       | 210/722 [01:40<03:42,  2.31it/s]\u001b[A\n",
      " 29%|██▉       | 211/722 [01:40<03:51,  2.21it/s]\u001b[A\n",
      " 29%|██▉       | 212/722 [01:41<04:23,  1.93it/s]\u001b[A\n",
      " 30%|██▉       | 213/722 [01:41<04:10,  2.03it/s]\u001b[A\n",
      " 30%|██▉       | 214/722 [01:42<03:58,  2.13it/s]\u001b[A\n",
      " 30%|██▉       | 215/722 [01:42<03:50,  2.20it/s]\u001b[A\n",
      " 30%|██▉       | 216/722 [01:42<03:44,  2.25it/s]\u001b[A\n",
      " 30%|███       | 217/722 [01:43<03:40,  2.29it/s]\u001b[A\n",
      " 30%|███       | 218/722 [01:43<03:38,  2.31it/s]\u001b[A\n",
      " 30%|███       | 219/722 [01:44<03:38,  2.31it/s]\u001b[A\n",
      " 30%|███       | 220/722 [01:44<03:58,  2.10it/s]\u001b[A\n",
      " 31%|███       | 221/722 [01:45<04:15,  1.96it/s]\u001b[A\n",
      " 31%|███       | 222/722 [01:45<04:02,  2.06it/s]\u001b[A\n",
      " 31%|███       | 223/722 [01:46<04:15,  1.96it/s]\u001b[A\n",
      " 31%|███       | 224/722 [01:47<04:40,  1.78it/s]\u001b[A\n",
      " 31%|███       | 225/722 [01:47<04:28,  1.85it/s]\u001b[A\n",
      " 31%|███▏      | 226/722 [01:48<04:20,  1.91it/s]\u001b[A\n",
      " 31%|███▏      | 227/722 [01:48<04:14,  1.94it/s]\u001b[A\n",
      " 32%|███▏      | 228/722 [01:49<04:10,  1.98it/s]\u001b[A\n",
      " 32%|███▏      | 229/722 [01:49<04:06,  2.00it/s]\u001b[A\n",
      " 32%|███▏      | 230/722 [01:50<04:09,  1.97it/s]\u001b[A\n",
      " 32%|███▏      | 231/722 [01:50<04:12,  1.95it/s]\u001b[A\n",
      " 32%|███▏      | 232/722 [01:51<04:13,  1.94it/s]\u001b[A\n",
      " 32%|███▏      | 233/722 [01:51<04:13,  1.93it/s]\u001b[A\n",
      " 32%|███▏      | 234/722 [01:52<04:14,  1.92it/s]\u001b[A\n",
      " 33%|███▎      | 235/722 [01:52<04:16,  1.90it/s]\u001b[A\n",
      " 33%|███▎      | 236/722 [01:53<04:13,  1.91it/s]\u001b[A\n",
      " 33%|███▎      | 237/722 [01:53<04:14,  1.91it/s]\u001b[A\n",
      " 33%|███▎      | 238/722 [01:54<04:13,  1.91it/s]\u001b[A\n",
      " 33%|███▎      | 239/722 [01:54<04:12,  1.91it/s]\u001b[A\n",
      " 33%|███▎      | 240/722 [01:55<04:16,  1.88it/s]\u001b[A\n",
      " 33%|███▎      | 241/722 [01:55<04:15,  1.89it/s]\u001b[A\n",
      " 34%|███▎      | 242/722 [01:56<04:13,  1.89it/s]\u001b[A\n",
      " 34%|███▎      | 243/722 [01:56<04:14,  1.88it/s]\u001b[A\n",
      " 34%|███▍      | 244/722 [01:57<04:13,  1.88it/s]\u001b[A\n",
      " 34%|███▍      | 245/722 [01:57<04:13,  1.88it/s]\u001b[A\n",
      " 34%|███▍      | 246/722 [01:58<04:12,  1.89it/s]\u001b[A\n",
      " 34%|███▍      | 247/722 [01:59<04:09,  1.90it/s]\u001b[A\n",
      " 34%|███▍      | 248/722 [01:59<04:18,  1.83it/s]\u001b[A\n",
      " 34%|███▍      | 249/722 [02:00<04:14,  1.86it/s]\u001b[A\n",
      " 35%|███▍      | 250/722 [02:00<04:10,  1.88it/s]\u001b[A\n",
      " 35%|███▍      | 251/722 [02:01<04:08,  1.90it/s]\u001b[A\n",
      " 35%|███▍      | 252/722 [02:01<04:07,  1.90it/s]\u001b[A\n",
      " 35%|███▌      | 253/722 [02:02<04:05,  1.91it/s]\u001b[A\n",
      " 35%|███▌      | 254/722 [02:02<04:04,  1.91it/s]\u001b[A\n",
      " 35%|███▌      | 255/722 [02:03<04:04,  1.91it/s]\u001b[A\n",
      " 35%|███▌      | 256/722 [02:03<04:19,  1.80it/s]\u001b[A\n",
      " 36%|███▌      | 257/722 [02:04<04:05,  1.89it/s]\u001b[A\n",
      " 36%|███▌      | 258/722 [02:04<03:56,  1.96it/s]\u001b[A\n",
      " 36%|███▌      | 259/722 [02:05<04:06,  1.87it/s]\u001b[A\n",
      " 36%|███▌      | 260/722 [02:06<04:18,  1.78it/s]\u001b[A\n",
      " 36%|███▌      | 261/722 [02:06<04:12,  1.82it/s]\u001b[A\n",
      " 36%|███▋      | 262/722 [02:07<04:09,  1.85it/s]\u001b[A\n",
      " 36%|███▋      | 263/722 [02:07<04:05,  1.87it/s]\u001b[A\n",
      " 37%|███▋      | 264/722 [02:08<04:04,  1.87it/s]\u001b[A\n",
      " 37%|███▋      | 265/722 [02:08<04:05,  1.86it/s]\u001b[A\n",
      " 37%|███▋      | 266/722 [02:09<04:03,  1.88it/s]\u001b[A\n",
      " 37%|███▋      | 267/722 [02:09<04:03,  1.87it/s]\u001b[A\n",
      " 37%|███▋      | 268/722 [02:10<04:04,  1.86it/s]\u001b[A\n",
      " 37%|███▋      | 269/722 [02:10<04:03,  1.86it/s]\u001b[A\n",
      " 37%|███▋      | 270/722 [02:11<04:01,  1.87it/s]\u001b[A\n",
      " 38%|███▊      | 271/722 [02:11<04:00,  1.88it/s]\u001b[A\n",
      " 38%|███▊      | 272/722 [02:12<03:58,  1.89it/s]\u001b[A\n",
      " 38%|███▊      | 273/722 [02:12<03:56,  1.90it/s]\u001b[A\n",
      " 38%|███▊      | 274/722 [02:13<03:55,  1.90it/s]\u001b[A\n",
      " 38%|███▊      | 275/722 [02:13<03:54,  1.91it/s]\u001b[A\n",
      " 38%|███▊      | 276/722 [02:14<03:59,  1.87it/s]\u001b[A\n",
      " 38%|███▊      | 277/722 [02:15<03:52,  1.91it/s]\u001b[A\n",
      " 39%|███▊      | 278/722 [02:15<03:57,  1.87it/s]\u001b[A\n",
      " 39%|███▊      | 279/722 [02:16<04:13,  1.75it/s]\u001b[A\n",
      " 39%|███▉      | 280/722 [02:16<04:00,  1.84it/s]\u001b[A\n",
      " 39%|███▉      | 281/722 [02:17<03:53,  1.89it/s]\u001b[A\n",
      " 39%|███▉      | 282/722 [02:17<03:43,  1.97it/s]\u001b[A\n",
      " 39%|███▉      | 283/722 [02:18<03:32,  2.07it/s]\u001b[A\n",
      " 39%|███▉      | 284/722 [02:18<03:24,  2.15it/s]\u001b[A\n",
      " 39%|███▉      | 285/722 [02:18<03:18,  2.20it/s]\u001b[A\n",
      " 40%|███▉      | 286/722 [02:19<03:14,  2.24it/s]\u001b[A\n",
      " 40%|███▉      | 287/722 [02:19<03:11,  2.27it/s]\u001b[A\n",
      " 40%|███▉      | 288/722 [02:20<03:11,  2.27it/s]\u001b[A\n",
      " 40%|████      | 289/722 [02:20<03:09,  2.29it/s]\u001b[A\n",
      " 40%|████      | 290/722 [02:21<03:07,  2.30it/s]\u001b[A\n",
      " 40%|████      | 291/722 [02:21<03:06,  2.31it/s]\u001b[A\n",
      " 40%|████      | 292/722 [02:21<03:05,  2.32it/s]\u001b[A\n",
      " 41%|████      | 293/722 [02:22<03:05,  2.31it/s]\u001b[A\n",
      " 41%|████      | 294/722 [02:22<03:05,  2.31it/s]\u001b[A\n",
      " 41%|████      | 295/722 [02:23<03:04,  2.32it/s]\u001b[A\n",
      " 41%|████      | 296/722 [02:23<03:04,  2.31it/s]\u001b[A\n",
      " 41%|████      | 297/722 [02:24<03:08,  2.26it/s]\u001b[A\n",
      " 41%|████▏     | 298/722 [02:24<03:36,  1.96it/s]\u001b[A\n",
      " 41%|████▏     | 299/722 [02:25<03:38,  1.94it/s]\u001b[A\n",
      " 42%|████▏     | 300/722 [02:25<03:30,  2.00it/s]\u001b[A\n",
      " 42%|████▏     | 301/722 [02:26<03:41,  1.90it/s]\u001b[A\n",
      " 42%|████▏     | 302/722 [02:27<03:54,  1.79it/s]\u001b[A\n",
      " 42%|████▏     | 303/722 [02:27<03:49,  1.83it/s]\u001b[A\n",
      " 42%|████▏     | 304/722 [02:28<03:55,  1.77it/s]\u001b[A\n",
      " 42%|████▏     | 305/722 [02:28<03:53,  1.79it/s]\u001b[A\n",
      " 42%|████▏     | 306/722 [02:29<03:49,  1.82it/s]\u001b[A\n",
      " 43%|████▎     | 307/722 [02:29<04:00,  1.72it/s]\u001b[A\n",
      " 43%|████▎     | 308/722 [02:30<03:45,  1.83it/s]\u001b[A\n",
      " 43%|████▎     | 309/722 [02:30<03:30,  1.97it/s]\u001b[A\n"
     ]
    },
    {
     "name": "stderr",
     "output_type": "stream",
     "text": [
      " 43%|████▎     | 310/722 [02:31<03:19,  2.07it/s]\u001b[A\n",
      " 43%|████▎     | 311/722 [02:31<03:11,  2.14it/s]\u001b[A\n",
      " 43%|████▎     | 312/722 [02:32<03:06,  2.20it/s]\u001b[A\n",
      " 43%|████▎     | 313/722 [02:32<03:02,  2.24it/s]\u001b[A\n",
      " 43%|████▎     | 314/722 [02:32<02:59,  2.27it/s]\u001b[A\n",
      " 44%|████▎     | 315/722 [02:33<02:57,  2.29it/s]\u001b[A\n",
      " 44%|████▍     | 316/722 [02:33<02:55,  2.31it/s]\u001b[A\n",
      " 44%|████▍     | 317/722 [02:34<02:54,  2.33it/s]\u001b[A\n",
      " 44%|████▍     | 318/722 [02:34<02:53,  2.32it/s]\u001b[A\n",
      " 44%|████▍     | 319/722 [02:35<02:52,  2.33it/s]\u001b[A\n",
      " 44%|████▍     | 320/722 [02:35<02:51,  2.34it/s]\u001b[A\n",
      " 44%|████▍     | 321/722 [02:35<02:51,  2.34it/s]\u001b[A\n",
      " 45%|████▍     | 322/722 [02:36<02:53,  2.30it/s]\u001b[A\n",
      " 45%|████▍     | 323/722 [02:37<03:22,  1.97it/s]\u001b[A\n",
      " 45%|████▍     | 324/722 [02:37<03:16,  2.02it/s]\u001b[A\n",
      " 45%|████▌     | 325/722 [02:37<03:11,  2.08it/s]\u001b[A\n",
      " 45%|████▌     | 326/722 [02:38<03:03,  2.16it/s]\u001b[A\n",
      " 45%|████▌     | 327/722 [02:38<02:57,  2.22it/s]\u001b[A\n",
      " 45%|████▌     | 328/722 [02:39<02:53,  2.27it/s]\u001b[A\n",
      " 46%|████▌     | 329/722 [02:39<02:51,  2.30it/s]\u001b[A\n",
      " 46%|████▌     | 330/722 [02:40<03:15,  2.00it/s]\u001b[A\n",
      " 46%|████▌     | 331/722 [02:40<03:08,  2.08it/s]\u001b[A\n",
      " 46%|████▌     | 332/722 [02:41<03:08,  2.06it/s]\u001b[A\n",
      " 46%|████▌     | 333/722 [02:41<03:01,  2.15it/s]\u001b[A\n",
      " 46%|████▋     | 334/722 [02:42<02:55,  2.22it/s]\u001b[A\n",
      " 46%|████▋     | 335/722 [02:42<02:50,  2.26it/s]\u001b[A\n",
      " 47%|████▋     | 336/722 [02:42<02:48,  2.29it/s]\u001b[A\n",
      " 47%|████▋     | 337/722 [02:43<02:46,  2.32it/s]\u001b[A\n",
      " 47%|████▋     | 338/722 [02:43<02:44,  2.34it/s]\u001b[A\n",
      " 47%|████▋     | 339/722 [02:44<02:42,  2.35it/s]\u001b[A\n",
      " 47%|████▋     | 340/722 [02:44<02:41,  2.36it/s]\u001b[A\n",
      " 47%|████▋     | 341/722 [02:44<02:41,  2.36it/s]\u001b[A\n",
      " 47%|████▋     | 342/722 [02:45<02:40,  2.37it/s]\u001b[A\n",
      " 48%|████▊     | 343/722 [02:45<02:40,  2.37it/s]\u001b[A\n",
      " 48%|████▊     | 344/722 [02:46<02:39,  2.37it/s]\u001b[A\n",
      " 48%|████▊     | 345/722 [02:46<02:39,  2.37it/s]\u001b[A\n",
      " 48%|████▊     | 346/722 [02:47<02:38,  2.37it/s]\u001b[A\n",
      " 48%|████▊     | 347/722 [02:47<02:38,  2.37it/s]\u001b[A\n",
      " 48%|████▊     | 348/722 [02:47<02:37,  2.37it/s]\u001b[A\n",
      " 48%|████▊     | 349/722 [02:48<02:37,  2.37it/s]\u001b[A\n",
      " 48%|████▊     | 350/722 [02:48<02:36,  2.38it/s]\u001b[A\n",
      " 49%|████▊     | 351/722 [02:49<02:36,  2.37it/s]\u001b[A\n",
      " 49%|████▉     | 352/722 [02:49<02:40,  2.31it/s]\u001b[A\n",
      " 49%|████▉     | 353/722 [02:50<02:44,  2.24it/s]\u001b[A\n",
      " 49%|████▉     | 354/722 [02:50<02:46,  2.20it/s]\u001b[A\n",
      " 49%|████▉     | 355/722 [02:51<02:44,  2.24it/s]\u001b[A\n",
      " 49%|████▉     | 356/722 [02:51<02:41,  2.26it/s]\u001b[A\n",
      " 49%|████▉     | 357/722 [02:51<02:40,  2.27it/s]\u001b[A\n",
      " 50%|████▉     | 358/722 [02:52<02:39,  2.28it/s]\u001b[A\n",
      " 50%|████▉     | 359/722 [02:52<02:38,  2.29it/s]\u001b[A\n",
      " 50%|████▉     | 360/722 [02:53<02:37,  2.30it/s]\u001b[A\n",
      " 50%|█████     | 361/722 [02:53<02:37,  2.30it/s]\u001b[A\n",
      " 50%|█████     | 362/722 [02:54<02:44,  2.18it/s]\u001b[A\n",
      " 50%|█████     | 363/722 [02:54<02:41,  2.23it/s]\u001b[A\n",
      " 50%|█████     | 364/722 [02:55<02:39,  2.25it/s]\u001b[A\n",
      " 51%|█████     | 365/722 [02:55<02:36,  2.29it/s]\u001b[A\n",
      " 51%|█████     | 366/722 [02:55<02:33,  2.32it/s]\u001b[A\n",
      " 51%|█████     | 367/722 [02:56<02:31,  2.34it/s]\u001b[A\n",
      " 51%|█████     | 368/722 [02:56<02:30,  2.35it/s]\u001b[A\n",
      " 51%|█████     | 369/722 [02:57<02:29,  2.36it/s]\u001b[A\n",
      " 51%|█████     | 370/722 [02:57<02:28,  2.37it/s]\u001b[A\n",
      " 51%|█████▏    | 371/722 [02:58<02:48,  2.08it/s]\u001b[A\n",
      " 52%|█████▏    | 372/722 [02:58<02:45,  2.12it/s]\u001b[A\n",
      " 52%|█████▏    | 373/722 [02:59<02:40,  2.17it/s]\u001b[A\n",
      " 52%|█████▏    | 374/722 [02:59<02:35,  2.24it/s]\u001b[A\n",
      " 52%|█████▏    | 375/722 [02:59<02:32,  2.28it/s]\u001b[A\n",
      " 52%|█████▏    | 376/722 [03:00<02:29,  2.32it/s]\u001b[A\n",
      " 52%|█████▏    | 377/722 [03:00<02:27,  2.33it/s]\u001b[A\n",
      " 52%|█████▏    | 378/722 [03:01<02:26,  2.35it/s]\u001b[A\n",
      " 52%|█████▏    | 379/722 [03:01<02:25,  2.36it/s]\u001b[A\n",
      " 53%|█████▎    | 380/722 [03:01<02:24,  2.37it/s]\u001b[A\n",
      " 53%|█████▎    | 381/722 [03:02<02:23,  2.38it/s]\u001b[A\n",
      " 53%|█████▎    | 382/722 [03:02<02:25,  2.34it/s]\u001b[A\n",
      " 53%|█████▎    | 383/722 [03:03<02:36,  2.17it/s]\u001b[A\n",
      " 53%|█████▎    | 384/722 [03:03<02:32,  2.21it/s]\u001b[A\n",
      " 53%|█████▎    | 385/722 [03:04<02:32,  2.20it/s]\u001b[A\n",
      " 53%|█████▎    | 386/722 [03:04<02:32,  2.20it/s]\u001b[A\n",
      " 54%|█████▎    | 387/722 [03:05<02:32,  2.20it/s]\u001b[A\n",
      " 54%|█████▎    | 388/722 [03:05<02:29,  2.24it/s]\u001b[A\n",
      " 54%|█████▍    | 389/722 [03:06<02:26,  2.27it/s]\u001b[A\n",
      " 54%|█████▍    | 390/722 [03:06<02:24,  2.30it/s]\u001b[A\n",
      " 54%|█████▍    | 391/722 [03:06<02:23,  2.31it/s]\u001b[A\n",
      " 54%|█████▍    | 392/722 [03:07<02:21,  2.32it/s]\u001b[A\n",
      " 54%|█████▍    | 393/722 [03:07<02:22,  2.30it/s]\u001b[A\n",
      " 55%|█████▍    | 394/722 [03:08<02:21,  2.31it/s]\u001b[A\n",
      " 55%|█████▍    | 395/722 [03:08<02:21,  2.31it/s]\u001b[A\n",
      " 55%|█████▍    | 396/722 [03:09<02:27,  2.21it/s]\u001b[A\n",
      " 55%|█████▍    | 397/722 [03:09<02:24,  2.25it/s]\u001b[A\n",
      " 55%|█████▌    | 398/722 [03:09<02:22,  2.28it/s]\u001b[A\n",
      " 55%|█████▌    | 399/722 [03:10<02:26,  2.20it/s]\u001b[A\n",
      " 55%|█████▌    | 400/722 [03:11<02:40,  2.00it/s]\u001b[A\n",
      " 56%|█████▌    | 401/722 [03:11<02:34,  2.07it/s]\u001b[A\n",
      " 56%|█████▌    | 402/722 [03:11<02:29,  2.15it/s]\u001b[A\n",
      " 56%|█████▌    | 403/722 [03:12<02:25,  2.19it/s]\u001b[A\n",
      " 56%|█████▌    | 404/722 [03:12<02:22,  2.23it/s]\u001b[A\n",
      " 56%|█████▌    | 405/722 [03:13<02:19,  2.27it/s]\u001b[A\n",
      " 56%|█████▌    | 406/722 [03:13<02:18,  2.29it/s]\u001b[A\n",
      " 56%|█████▋    | 407/722 [03:14<02:16,  2.31it/s]\u001b[A\n",
      " 57%|█████▋    | 408/722 [03:14<02:15,  2.32it/s]\u001b[A\n",
      " 57%|█████▋    | 409/722 [03:14<02:14,  2.33it/s]\u001b[A\n",
      " 57%|█████▋    | 410/722 [03:15<02:13,  2.35it/s]\u001b[A\n",
      " 57%|█████▋    | 411/722 [03:15<02:12,  2.35it/s]\u001b[A\n",
      " 57%|█████▋    | 412/722 [03:16<02:12,  2.35it/s]\u001b[A\n",
      " 57%|█████▋    | 413/722 [03:16<02:32,  2.02it/s]\u001b[A\n",
      " 57%|█████▋    | 414/722 [03:17<02:27,  2.08it/s]\u001b[A\n",
      " 57%|█████▋    | 415/722 [03:17<02:23,  2.15it/s]\u001b[A\n",
      " 58%|█████▊    | 416/722 [03:18<02:18,  2.20it/s]\u001b[A\n",
      " 58%|█████▊    | 417/722 [03:18<02:16,  2.24it/s]\u001b[A\n",
      " 58%|█████▊    | 418/722 [03:19<02:22,  2.14it/s]\u001b[A\n",
      " 58%|█████▊    | 419/722 [03:19<02:18,  2.18it/s]\u001b[A\n",
      " 58%|█████▊    | 420/722 [03:19<02:16,  2.21it/s]\u001b[A\n",
      " 58%|█████▊    | 421/722 [03:20<02:15,  2.23it/s]\u001b[A\n",
      " 58%|█████▊    | 422/722 [03:20<02:13,  2.25it/s]\u001b[A\n",
      " 59%|█████▊    | 423/722 [03:21<02:11,  2.28it/s]\u001b[A\n",
      " 59%|█████▊    | 424/722 [03:21<02:10,  2.29it/s]\u001b[A\n",
      " 59%|█████▉    | 425/722 [03:22<02:09,  2.30it/s]\u001b[A\n",
      " 59%|█████▉    | 426/722 [03:22<02:08,  2.31it/s]\u001b[A\n",
      " 59%|█████▉    | 427/722 [03:22<02:08,  2.30it/s]\u001b[A\n",
      " 59%|█████▉    | 428/722 [03:23<02:07,  2.30it/s]\u001b[A\n",
      " 59%|█████▉    | 429/722 [03:23<02:06,  2.31it/s]\u001b[A\n",
      " 60%|█████▉    | 430/722 [03:24<02:06,  2.31it/s]\u001b[A\n",
      " 60%|█████▉    | 431/722 [03:24<02:05,  2.31it/s]\u001b[A\n",
      " 60%|█████▉    | 432/722 [03:25<02:05,  2.31it/s]\u001b[A\n",
      " 60%|█████▉    | 433/722 [03:25<02:05,  2.31it/s]\u001b[A\n",
      " 60%|██████    | 434/722 [03:26<02:04,  2.31it/s]\u001b[A\n",
      " 60%|██████    | 435/722 [03:26<02:04,  2.30it/s]\u001b[A\n",
      " 60%|██████    | 436/722 [03:27<02:25,  1.96it/s]\u001b[A\n",
      " 61%|██████    | 437/722 [03:27<02:21,  2.01it/s]\u001b[A\n",
      " 61%|██████    | 438/722 [03:28<02:15,  2.09it/s]\u001b[A\n",
      " 61%|██████    | 439/722 [03:28<02:12,  2.14it/s]\u001b[A\n",
      " 61%|██████    | 440/722 [03:28<02:09,  2.18it/s]\u001b[A\n",
      " 61%|██████    | 441/722 [03:29<02:07,  2.21it/s]\u001b[A\n",
      " 61%|██████    | 442/722 [03:29<02:12,  2.11it/s]\u001b[A\n",
      " 61%|██████▏   | 443/722 [03:30<02:09,  2.16it/s]\u001b[A\n",
      " 61%|██████▏   | 444/722 [03:30<02:06,  2.20it/s]\u001b[A\n",
      " 62%|██████▏   | 445/722 [03:31<02:04,  2.23it/s]\u001b[A\n",
      " 62%|██████▏   | 446/722 [03:31<02:02,  2.25it/s]\u001b[A\n",
      " 62%|██████▏   | 447/722 [03:32<02:01,  2.26it/s]\u001b[A\n",
      " 62%|██████▏   | 448/722 [03:32<02:00,  2.27it/s]\u001b[A\n",
      " 62%|██████▏   | 449/722 [03:32<01:59,  2.28it/s]\u001b[A\n",
      " 62%|██████▏   | 450/722 [03:33<01:59,  2.28it/s]\u001b[A\n",
      " 62%|██████▏   | 451/722 [03:33<01:59,  2.27it/s]\u001b[A\n",
      " 63%|██████▎   | 452/722 [03:34<01:58,  2.28it/s]\u001b[A\n",
      " 63%|██████▎   | 453/722 [03:34<01:57,  2.28it/s]\u001b[A\n",
      " 63%|██████▎   | 454/722 [03:35<01:57,  2.29it/s]\u001b[A\n",
      " 63%|██████▎   | 455/722 [03:35<01:56,  2.29it/s]\u001b[A\n",
      " 63%|██████▎   | 456/722 [03:35<01:56,  2.29it/s]\u001b[A\n",
      " 63%|██████▎   | 457/722 [03:36<01:55,  2.29it/s]\u001b[A\n",
      " 63%|██████▎   | 458/722 [03:37<02:13,  1.97it/s]\u001b[A\n",
      " 64%|██████▎   | 459/722 [03:37<02:08,  2.05it/s]\u001b[A\n",
      " 64%|██████▎   | 460/722 [03:37<02:03,  2.12it/s]\u001b[A\n",
      " 64%|██████▍   | 461/722 [03:38<02:00,  2.17it/s]\u001b[A\n",
      " 64%|██████▍   | 462/722 [03:38<01:57,  2.21it/s]\u001b[A\n",
      " 64%|██████▍   | 463/722 [03:39<01:55,  2.23it/s]\u001b[A\n",
      " 64%|██████▍   | 464/722 [03:39<01:54,  2.25it/s]\u001b[A\n",
      " 64%|██████▍   | 465/722 [03:40<01:53,  2.26it/s]\u001b[A\n",
      " 65%|██████▍   | 466/722 [03:40<01:53,  2.26it/s]\u001b[A\n",
      " 65%|██████▍   | 467/722 [03:41<01:52,  2.27it/s]\u001b[A\n",
      " 65%|██████▍   | 468/722 [03:41<01:51,  2.27it/s]\u001b[A\n",
      " 65%|██████▍   | 469/722 [03:41<01:51,  2.28it/s]\u001b[A\n",
      " 65%|██████▌   | 470/722 [03:42<02:08,  1.96it/s]\u001b[A\n",
      " 65%|██████▌   | 471/722 [03:43<02:02,  2.05it/s]\u001b[A\n",
      " 65%|██████▌   | 472/722 [03:43<02:04,  2.02it/s]\u001b[A\n",
      " 66%|██████▌   | 473/722 [03:43<01:59,  2.09it/s]\u001b[A\n",
      " 66%|██████▌   | 474/722 [03:44<01:55,  2.14it/s]\u001b[A\n",
      " 66%|██████▌   | 475/722 [03:44<01:53,  2.18it/s]\u001b[A\n",
      " 66%|██████▌   | 476/722 [03:45<01:51,  2.21it/s]\u001b[A\n",
      " 66%|██████▌   | 477/722 [03:45<01:49,  2.23it/s]\u001b[A\n",
      " 66%|██████▌   | 478/722 [03:46<01:48,  2.26it/s]\u001b[A\n",
      " 66%|██████▋   | 479/722 [03:46<01:46,  2.28it/s]\u001b[A\n",
      " 66%|██████▋   | 480/722 [03:47<01:45,  2.29it/s]\u001b[A\n",
      " 67%|██████▋   | 481/722 [03:47<02:00,  2.00it/s]\u001b[A\n",
      " 67%|██████▋   | 482/722 [03:48<02:11,  1.83it/s]\u001b[A\n",
      " 67%|██████▋   | 483/722 [03:48<02:06,  1.89it/s]\u001b[A\n",
      " 67%|██████▋   | 484/722 [03:49<01:58,  2.01it/s]\u001b[A\n",
      " 67%|██████▋   | 485/722 [03:49<01:52,  2.11it/s]\u001b[A\n",
      " 67%|██████▋   | 486/722 [03:50<01:47,  2.19it/s]\u001b[A\n",
      " 67%|██████▋   | 487/722 [03:50<01:44,  2.24it/s]\u001b[A\n",
      " 68%|██████▊   | 488/722 [03:50<01:42,  2.28it/s]\u001b[A\n",
      " 68%|██████▊   | 489/722 [03:51<01:40,  2.32it/s]\u001b[A\n",
      " 68%|██████▊   | 490/722 [03:51<01:39,  2.34it/s]\u001b[A\n",
      " 68%|██████▊   | 491/722 [03:52<01:38,  2.35it/s]\u001b[A\n",
      " 68%|██████▊   | 492/722 [03:52<01:37,  2.36it/s]\u001b[A\n",
      " 68%|██████▊   | 493/722 [03:53<01:37,  2.36it/s]\u001b[A\n",
      " 68%|██████▊   | 494/722 [03:53<01:36,  2.36it/s]\u001b[A\n",
      " 69%|██████▊   | 495/722 [03:53<01:35,  2.38it/s]\u001b[A\n",
      " 69%|██████▊   | 496/722 [03:54<01:36,  2.34it/s]\u001b[A\n",
      " 69%|██████▉   | 497/722 [03:54<01:35,  2.35it/s]\u001b[A\n",
      " 69%|██████▉   | 498/722 [03:55<01:35,  2.35it/s]\u001b[A\n",
      " 69%|██████▉   | 499/722 [03:55<01:34,  2.35it/s]\u001b[A\n",
      " 69%|██████▉   | 500/722 [03:55<01:34,  2.36it/s]\u001b[A\n",
      " 69%|██████▉   | 501/722 [03:56<01:33,  2.37it/s]\u001b[A\n",
      " 70%|██████▉   | 502/722 [03:56<01:32,  2.37it/s]\u001b[A\n",
      " 70%|██████▉   | 503/722 [03:57<01:32,  2.37it/s]\u001b[A\n",
      " 70%|██████▉   | 504/722 [03:57<01:34,  2.30it/s]\u001b[A\n",
      " 70%|██████▉   | 505/722 [03:58<01:36,  2.25it/s]\u001b[A\n",
      " 70%|███████   | 506/722 [03:58<01:36,  2.23it/s]\u001b[A\n",
      " 70%|███████   | 507/722 [03:59<01:42,  2.10it/s]\u001b[A\n",
      " 70%|███████   | 508/722 [03:59<01:40,  2.12it/s]\u001b[A\n",
      " 70%|███████   | 509/722 [04:00<01:38,  2.16it/s]\u001b[A\n",
      " 71%|███████   | 510/722 [04:00<01:35,  2.22it/s]\u001b[A\n",
      " 71%|███████   | 511/722 [04:00<01:32,  2.27it/s]\u001b[A\n",
      " 71%|███████   | 512/722 [04:01<01:31,  2.30it/s]\u001b[A\n",
      " 71%|███████   | 513/722 [04:01<01:29,  2.33it/s]\u001b[A\n",
      " 71%|███████   | 514/722 [04:02<01:28,  2.34it/s]\u001b[A\n",
      " 71%|███████▏  | 515/722 [04:02<01:27,  2.35it/s]\u001b[A\n",
      " 71%|███████▏  | 516/722 [04:03<01:26,  2.37it/s]\u001b[A\n",
      " 72%|███████▏  | 517/722 [04:03<01:26,  2.38it/s]\u001b[A\n",
      " 72%|███████▏  | 518/722 [04:03<01:25,  2.38it/s]\u001b[A\n",
      " 72%|███████▏  | 519/722 [04:04<01:24,  2.39it/s]\u001b[A\n",
      " 72%|███████▏  | 520/722 [04:04<01:25,  2.36it/s]\u001b[A\n",
      " 72%|███████▏  | 521/722 [04:05<01:24,  2.37it/s]\u001b[A\n",
      " 72%|███████▏  | 522/722 [04:05<01:24,  2.37it/s]\u001b[A\n",
      " 72%|███████▏  | 523/722 [04:05<01:23,  2.38it/s]\u001b[A\n",
      " 73%|███████▎  | 524/722 [04:06<01:23,  2.38it/s]\u001b[A\n",
      " 73%|███████▎  | 525/722 [04:06<01:27,  2.25it/s]\u001b[A\n",
      " 73%|███████▎  | 526/722 [04:07<01:40,  1.95it/s]\u001b[A\n",
      " 73%|███████▎  | 527/722 [04:08<01:38,  1.98it/s]\u001b[A\n",
      " 73%|███████▎  | 528/722 [04:08<01:36,  2.02it/s]\u001b[A\n",
      " 73%|███████▎  | 529/722 [04:08<01:34,  2.05it/s]\u001b[A\n",
      " 73%|███████▎  | 530/722 [04:09<01:32,  2.07it/s]\u001b[A\n",
      " 74%|███████▎  | 531/722 [04:09<01:31,  2.10it/s]\u001b[A\n",
      " 74%|███████▎  | 532/722 [04:10<01:28,  2.15it/s]\u001b[A\n",
      " 74%|███████▍  | 533/722 [04:10<01:25,  2.20it/s]\u001b[A\n",
      " 74%|███████▍  | 534/722 [04:11<01:24,  2.24it/s]\u001b[A\n",
      " 74%|███████▍  | 535/722 [04:11<01:23,  2.25it/s]\u001b[A\n",
      " 74%|███████▍  | 536/722 [04:12<01:28,  2.09it/s]\u001b[A\n",
      " 74%|███████▍  | 537/722 [04:12<01:40,  1.83it/s]\u001b[A\n",
      " 75%|███████▍  | 538/722 [04:13<01:40,  1.83it/s]\u001b[A\n",
      " 75%|███████▍  | 539/722 [04:13<01:38,  1.85it/s]\u001b[A\n",
      " 75%|███████▍  | 540/722 [04:14<01:37,  1.87it/s]\u001b[A\n",
      " 75%|███████▍  | 541/722 [04:14<01:34,  1.92it/s]\u001b[A\n",
      " 75%|███████▌  | 542/722 [04:15<01:32,  1.94it/s]\u001b[A\n",
      " 75%|███████▌  | 543/722 [04:15<01:30,  1.97it/s]\u001b[A\n",
      " 75%|███████▌  | 544/722 [04:16<01:29,  2.00it/s]\u001b[A\n",
      " 75%|███████▌  | 545/722 [04:16<01:28,  2.01it/s]\u001b[A\n",
      " 76%|███████▌  | 546/722 [04:17<01:33,  1.88it/s]\u001b[A\n",
      " 76%|███████▌  | 547/722 [04:18<01:32,  1.88it/s]\u001b[A\n",
      " 76%|███████▌  | 548/722 [04:18<01:30,  1.93it/s]\u001b[A\n",
      " 76%|███████▌  | 549/722 [04:19<01:29,  1.94it/s]\u001b[A\n",
      " 76%|███████▌  | 550/722 [04:19<01:26,  1.98it/s]\u001b[A\n",
      " 76%|███████▋  | 551/722 [04:20<01:25,  2.00it/s]\u001b[A\n",
      " 76%|███████▋  | 552/722 [04:20<01:24,  2.02it/s]\u001b[A\n",
      " 77%|███████▋  | 553/722 [04:21<01:23,  2.03it/s]\u001b[A\n",
      " 77%|███████▋  | 554/722 [04:21<01:22,  2.05it/s]\u001b[A\n",
      " 77%|███████▋  | 555/722 [04:21<01:21,  2.05it/s]\u001b[A\n",
      " 77%|███████▋  | 556/722 [04:22<01:20,  2.06it/s]\u001b[A\n",
      " 77%|███████▋  | 557/722 [04:23<01:24,  1.95it/s]\u001b[A\n",
      " 77%|███████▋  | 558/722 [04:23<01:22,  1.99it/s]\u001b[A\n",
      " 77%|███████▋  | 559/722 [04:24<01:21,  2.01it/s]\u001b[A\n",
      " 78%|███████▊  | 560/722 [04:24<01:20,  2.02it/s]\u001b[A\n",
      " 78%|███████▊  | 561/722 [04:25<01:25,  1.87it/s]\u001b[A\n",
      " 78%|███████▊  | 562/722 [04:25<01:19,  2.00it/s]\u001b[A\n",
      " 78%|███████▊  | 563/722 [04:26<01:17,  2.05it/s]\u001b[A\n",
      " 78%|███████▊  | 564/722 [04:26<01:16,  2.06it/s]\u001b[A\n",
      " 78%|███████▊  | 565/722 [04:26<01:12,  2.15it/s]\u001b[A\n",
      " 78%|███████▊  | 566/722 [04:27<01:10,  2.21it/s]\u001b[A\n",
      " 79%|███████▊  | 567/722 [04:27<01:12,  2.13it/s]\u001b[A\n",
      " 79%|███████▊  | 568/722 [04:28<01:24,  1.82it/s]\u001b[A\n",
      " 79%|███████▉  | 569/722 [04:29<01:23,  1.84it/s]\u001b[A\n",
      " 79%|███████▉  | 570/722 [04:29<01:21,  1.87it/s]\u001b[A\n",
      " 79%|███████▉  | 571/722 [04:30<01:18,  1.92it/s]\u001b[A\n",
      " 79%|███████▉  | 572/722 [04:30<01:16,  1.96it/s]\u001b[A\n",
      " 79%|███████▉  | 573/722 [04:31<01:14,  1.99it/s]\u001b[A\n",
      " 80%|███████▉  | 574/722 [04:31<01:13,  2.01it/s]\u001b[A\n",
      " 80%|███████▉  | 575/722 [04:32<01:12,  2.03it/s]\u001b[A\n",
      " 80%|███████▉  | 576/722 [04:32<01:11,  2.04it/s]\u001b[A\n",
      " 80%|███████▉  | 577/722 [04:33<01:10,  2.05it/s]\u001b[A\n",
      " 80%|████████  | 578/722 [04:33<01:10,  2.05it/s]\u001b[A\n",
      " 80%|████████  | 579/722 [04:33<01:09,  2.06it/s]\u001b[A\n",
      " 80%|████████  | 580/722 [04:34<01:09,  2.05it/s]\u001b[A\n",
      " 80%|████████  | 581/722 [04:34<01:08,  2.06it/s]\u001b[A\n",
      " 81%|████████  | 582/722 [04:35<01:08,  2.05it/s]\u001b[A\n",
      " 81%|████████  | 583/722 [04:35<01:10,  1.98it/s]\u001b[A\n",
      " 81%|████████  | 584/722 [04:36<01:15,  1.82it/s]\u001b[A\n",
      " 81%|████████  | 585/722 [04:37<01:15,  1.81it/s]\u001b[A\n",
      " 81%|████████  | 586/722 [04:37<01:19,  1.71it/s]\u001b[A\n",
      " 81%|████████▏ | 587/722 [04:38<01:21,  1.66it/s]\u001b[A\n",
      " 81%|████████▏ | 588/722 [04:38<01:13,  1.83it/s]\u001b[A\n",
      " 82%|████████▏ | 589/722 [04:39<01:07,  1.96it/s]\u001b[A\n",
      " 82%|████████▏ | 590/722 [04:39<01:03,  2.07it/s]\u001b[A\n",
      " 82%|████████▏ | 591/722 [04:40<01:00,  2.15it/s]\u001b[A\n",
      " 82%|████████▏ | 592/722 [04:40<01:02,  2.08it/s]\u001b[A\n",
      " 82%|████████▏ | 593/722 [04:41<00:59,  2.15it/s]\u001b[A\n",
      " 82%|████████▏ | 594/722 [04:41<00:57,  2.22it/s]\u001b[A\n",
      " 82%|████████▏ | 595/722 [04:41<00:56,  2.26it/s]\u001b[A\n",
      " 83%|████████▎ | 596/722 [04:42<00:58,  2.15it/s]\u001b[A\n",
      " 83%|████████▎ | 597/722 [04:43<01:04,  1.94it/s]\u001b[A\n",
      " 83%|████████▎ | 598/722 [04:43<01:04,  1.94it/s]\u001b[A\n",
      " 83%|████████▎ | 599/722 [04:44<01:04,  1.91it/s]\u001b[A\n",
      " 83%|████████▎ | 600/722 [04:44<01:04,  1.88it/s]\u001b[A\n",
      " 83%|████████▎ | 601/722 [04:45<01:04,  1.88it/s]\u001b[A\n",
      " 83%|████████▎ | 602/722 [04:45<01:03,  1.89it/s]\u001b[A\n",
      " 84%|████████▎ | 603/722 [04:46<01:03,  1.88it/s]\u001b[A\n",
      " 84%|████████▎ | 604/722 [04:46<01:02,  1.89it/s]\u001b[A\n",
      " 84%|████████▍ | 605/722 [04:47<01:01,  1.91it/s]\u001b[A\n",
      " 84%|████████▍ | 606/722 [04:47<00:59,  1.96it/s]\u001b[A\n",
      " 84%|████████▍ | 607/722 [04:48<00:57,  1.99it/s]\u001b[A\n",
      " 84%|████████▍ | 608/722 [04:48<01:02,  1.82it/s]\u001b[A\n",
      " 84%|████████▍ | 609/722 [04:49<01:01,  1.84it/s]\u001b[A\n",
      " 84%|████████▍ | 610/722 [04:49<00:58,  1.92it/s]\u001b[A\n",
      " 85%|████████▍ | 611/722 [04:50<00:56,  1.98it/s]\u001b[A\n",
      " 85%|████████▍ | 612/722 [04:50<00:54,  2.03it/s]\u001b[A\n",
      " 85%|████████▍ | 613/722 [04:51<00:52,  2.08it/s]\u001b[A\n",
      " 85%|████████▌ | 614/722 [04:51<00:50,  2.15it/s]\u001b[A\n",
      " 85%|████████▌ | 615/722 [04:52<00:48,  2.21it/s]\u001b[A\n",
      " 85%|████████▌ | 616/722 [04:52<00:47,  2.24it/s]\u001b[A\n",
      " 85%|████████▌ | 617/722 [04:53<00:46,  2.27it/s]\u001b[A\n"
     ]
    },
    {
     "name": "stderr",
     "output_type": "stream",
     "text": [
      " 86%|████████▌ | 618/722 [04:53<00:45,  2.30it/s]\u001b[A\n",
      " 86%|████████▌ | 619/722 [04:53<00:44,  2.30it/s]\u001b[A\n",
      " 86%|████████▌ | 620/722 [04:54<00:44,  2.31it/s]\u001b[A\n",
      " 86%|████████▌ | 621/722 [04:54<00:43,  2.31it/s]\u001b[A\n",
      " 86%|████████▌ | 622/722 [04:55<00:43,  2.32it/s]\u001b[A\n",
      " 86%|████████▋ | 623/722 [04:55<00:45,  2.19it/s]\u001b[A\n",
      " 86%|████████▋ | 624/722 [04:56<00:43,  2.23it/s]\u001b[A\n",
      " 87%|████████▋ | 625/722 [04:56<00:42,  2.27it/s]\u001b[A\n",
      " 87%|████████▋ | 626/722 [04:57<00:42,  2.28it/s]\u001b[A\n",
      " 87%|████████▋ | 627/722 [04:57<00:41,  2.29it/s]\u001b[A\n",
      " 87%|████████▋ | 628/722 [04:57<00:40,  2.30it/s]\u001b[A\n",
      " 87%|████████▋ | 629/722 [04:58<00:40,  2.31it/s]\u001b[A\n",
      " 87%|████████▋ | 630/722 [04:58<00:40,  2.29it/s]\u001b[A\n",
      " 87%|████████▋ | 631/722 [04:59<00:39,  2.30it/s]\u001b[A\n",
      " 88%|████████▊ | 632/722 [04:59<00:39,  2.30it/s]\u001b[A\n",
      " 88%|████████▊ | 633/722 [05:00<00:39,  2.24it/s]\u001b[A\n",
      " 88%|████████▊ | 634/722 [05:00<00:39,  2.22it/s]\u001b[A\n",
      " 88%|████████▊ | 635/722 [05:01<00:39,  2.21it/s]\u001b[A\n",
      " 88%|████████▊ | 636/722 [05:01<00:39,  2.20it/s]\u001b[A\n",
      " 88%|████████▊ | 637/722 [05:01<00:38,  2.19it/s]\u001b[A\n",
      " 88%|████████▊ | 638/722 [05:02<00:39,  2.13it/s]\u001b[A\n",
      " 89%|████████▊ | 639/722 [05:02<00:39,  2.11it/s]\u001b[A\n",
      " 89%|████████▊ | 640/722 [05:03<00:38,  2.12it/s]\u001b[A\n",
      " 89%|████████▉ | 641/722 [05:03<00:37,  2.14it/s]\u001b[A\n",
      " 89%|████████▉ | 642/722 [05:04<00:37,  2.14it/s]\u001b[A\n",
      " 89%|████████▉ | 643/722 [05:04<00:36,  2.14it/s]\u001b[A\n",
      " 89%|████████▉ | 644/722 [05:05<00:36,  2.14it/s]\u001b[A\n",
      " 89%|████████▉ | 645/722 [05:05<00:35,  2.14it/s]\u001b[A\n",
      " 89%|████████▉ | 646/722 [05:06<00:35,  2.14it/s]\u001b[A\n",
      " 90%|████████▉ | 647/722 [05:06<00:39,  1.91it/s]\u001b[A\n",
      " 90%|████████▉ | 648/722 [05:07<00:37,  1.99it/s]\u001b[A\n",
      " 90%|████████▉ | 649/722 [05:07<00:35,  2.05it/s]\u001b[A\n",
      " 90%|█████████ | 650/722 [05:08<00:34,  2.09it/s]\u001b[A\n",
      " 90%|█████████ | 651/722 [05:08<00:33,  2.12it/s]\u001b[A\n",
      " 90%|█████████ | 652/722 [05:09<00:32,  2.14it/s]\u001b[A\n",
      " 90%|█████████ | 653/722 [05:09<00:32,  2.16it/s]\u001b[A\n",
      " 91%|█████████ | 654/722 [05:10<00:33,  2.05it/s]\u001b[A\n",
      " 91%|█████████ | 655/722 [05:10<00:32,  2.08it/s]\u001b[A\n",
      " 91%|█████████ | 656/722 [05:11<00:31,  2.10it/s]\u001b[A\n",
      " 91%|█████████ | 657/722 [05:11<00:30,  2.13it/s]\u001b[A\n",
      " 91%|█████████ | 658/722 [05:11<00:29,  2.15it/s]\u001b[A\n",
      " 91%|█████████▏| 659/722 [05:12<00:29,  2.17it/s]\u001b[A\n",
      " 91%|█████████▏| 660/722 [05:12<00:28,  2.21it/s]\u001b[A\n",
      " 92%|█████████▏| 661/722 [05:13<00:27,  2.26it/s]\u001b[A\n",
      " 92%|█████████▏| 662/722 [05:13<00:26,  2.29it/s]\u001b[A\n",
      " 92%|█████████▏| 663/722 [05:14<00:25,  2.31it/s]\u001b[A\n",
      " 92%|█████████▏| 664/722 [05:14<00:24,  2.32it/s]\u001b[A\n",
      " 92%|█████████▏| 665/722 [05:14<00:24,  2.33it/s]\u001b[A\n",
      " 92%|█████████▏| 666/722 [05:15<00:23,  2.34it/s]\u001b[A\n",
      " 92%|█████████▏| 667/722 [05:15<00:23,  2.35it/s]\u001b[A\n",
      " 93%|█████████▎| 668/722 [05:16<00:22,  2.35it/s]\u001b[A\n",
      " 93%|█████████▎| 669/722 [05:16<00:22,  2.32it/s]\u001b[A\n",
      " 93%|█████████▎| 670/722 [05:17<00:23,  2.21it/s]\u001b[A\n",
      " 93%|█████████▎| 671/722 [05:17<00:23,  2.21it/s]\u001b[A\n",
      " 93%|█████████▎| 672/722 [05:18<00:22,  2.25it/s]\u001b[A\n",
      " 93%|█████████▎| 673/722 [05:18<00:21,  2.29it/s]\u001b[A\n",
      " 93%|█████████▎| 674/722 [05:18<00:20,  2.30it/s]\u001b[A\n",
      " 93%|█████████▎| 675/722 [05:19<00:20,  2.32it/s]\u001b[A\n",
      " 94%|█████████▎| 676/722 [05:19<00:19,  2.34it/s]\u001b[A\n",
      " 94%|█████████▍| 677/722 [05:20<00:19,  2.36it/s]\u001b[A\n",
      " 94%|█████████▍| 678/722 [05:20<00:18,  2.37it/s]\u001b[A\n",
      " 94%|█████████▍| 679/722 [05:20<00:18,  2.38it/s]\u001b[A\n",
      " 94%|█████████▍| 680/722 [05:21<00:17,  2.38it/s]\u001b[A\n",
      " 94%|█████████▍| 681/722 [05:21<00:18,  2.26it/s]\u001b[A\n",
      " 94%|█████████▍| 682/722 [05:22<00:19,  2.05it/s]\u001b[A\n",
      " 95%|█████████▍| 683/722 [05:22<00:18,  2.12it/s]\u001b[A\n",
      " 95%|█████████▍| 684/722 [05:23<00:17,  2.18it/s]\u001b[A\n",
      " 95%|█████████▍| 685/722 [05:23<00:17,  2.13it/s]\u001b[A\n",
      " 95%|█████████▌| 686/722 [05:24<00:16,  2.19it/s]\u001b[A\n",
      " 95%|█████████▌| 687/722 [05:24<00:15,  2.24it/s]\u001b[A\n",
      " 95%|█████████▌| 688/722 [05:25<00:14,  2.28it/s]\u001b[A\n",
      " 95%|█████████▌| 689/722 [05:25<00:14,  2.28it/s]\u001b[A\n",
      " 96%|█████████▌| 690/722 [05:25<00:13,  2.30it/s]\u001b[A\n",
      " 96%|█████████▌| 691/722 [05:26<00:13,  2.32it/s]\u001b[A\n",
      " 96%|█████████▌| 692/722 [05:26<00:12,  2.34it/s]\u001b[A\n",
      " 96%|█████████▌| 693/722 [05:27<00:12,  2.35it/s]\u001b[A\n",
      " 96%|█████████▌| 694/722 [05:27<00:11,  2.36it/s]\u001b[A\n",
      " 96%|█████████▋| 695/722 [05:28<00:11,  2.36it/s]\u001b[A\n",
      " 96%|█████████▋| 696/722 [05:28<00:13,  1.97it/s]\u001b[A\n",
      " 97%|█████████▋| 697/722 [05:29<00:12,  1.95it/s]\u001b[A\n",
      " 97%|█████████▋| 698/722 [05:29<00:12,  2.00it/s]\u001b[A\n",
      " 97%|█████████▋| 699/722 [05:30<00:11,  2.03it/s]\u001b[A\n",
      " 97%|█████████▋| 700/722 [05:30<00:10,  2.08it/s]\u001b[A\n",
      " 97%|█████████▋| 701/722 [05:31<00:09,  2.15it/s]\u001b[A\n",
      " 97%|█████████▋| 702/722 [05:31<00:09,  2.17it/s]\u001b[A\n",
      " 97%|█████████▋| 703/722 [05:32<00:08,  2.23it/s]\u001b[A\n",
      " 98%|█████████▊| 704/722 [05:32<00:07,  2.26it/s]\u001b[A\n",
      " 98%|█████████▊| 705/722 [05:32<00:07,  2.27it/s]\u001b[A\n",
      " 98%|█████████▊| 706/722 [05:33<00:06,  2.30it/s]\u001b[A\n",
      " 98%|█████████▊| 707/722 [05:33<00:06,  2.32it/s]\u001b[A\n",
      " 98%|█████████▊| 708/722 [05:34<00:06,  2.31it/s]\u001b[A\n",
      " 98%|█████████▊| 709/722 [05:34<00:05,  2.31it/s]\u001b[A\n",
      " 98%|█████████▊| 710/722 [05:35<00:05,  2.29it/s]\u001b[A\n",
      " 98%|█████████▊| 711/722 [05:35<00:04,  2.30it/s]\u001b[A\n",
      " 99%|█████████▊| 712/722 [05:35<00:04,  2.30it/s]\u001b[A\n",
      " 99%|█████████▉| 713/722 [05:36<00:03,  2.31it/s]\u001b[A\n",
      " 99%|█████████▉| 714/722 [05:36<00:03,  2.31it/s]\u001b[A\n",
      " 99%|█████████▉| 715/722 [05:37<00:03,  2.31it/s]\u001b[A\n",
      " 99%|█████████▉| 716/722 [05:37<00:02,  2.19it/s]\u001b[A\n",
      " 99%|█████████▉| 717/722 [05:38<00:02,  1.94it/s]\u001b[A\n",
      " 99%|█████████▉| 718/722 [05:38<00:01,  2.05it/s]\u001b[A\n",
      "100%|█████████▉| 719/722 [05:39<00:01,  2.13it/s]\u001b[A\n",
      "100%|█████████▉| 720/722 [05:39<00:00,  2.19it/s]\u001b[A\n",
      "100%|█████████▉| 721/722 [05:40<00:00,  2.23it/s]\u001b[A\n",
      "100%|██████████| 722/722 [05:40<00:00,  2.12it/s]\u001b[A\n"
     ]
    }
   ],
   "source": [
    "pos_rankings_dblp,pos_triangles_dblp,flippedPred_pos_dblp,notFlippedPos_dblp = explainSamples(correctPredictions_dblp,\n",
    "                                                          [tableA_dblp,tableB_dblp],dblp_hybrid,originalClass=1,\n",
    "                                                                          maxLenAttributeSet=1)"
   ]
  },
  {
   "cell_type": "code",
   "execution_count": 19,
   "metadata": {
    "ExecuteTime": {
     "end_time": "2020-02-15T15:36:05.754659Z",
     "start_time": "2020-02-15T15:36:05.447543Z"
    }
   },
   "outputs": [
    {
     "data": {
      "image/png": "[encoded data removed]",
      "text/plain": [
       "<Figure size 288x288 with 1 Axes>"
      ]
     },
     "metadata": {
      "needs_background": "light"
     },
     "output_type": "display_data"
    }
   ],
   "source": [
    "plot,ranking = aggregateRankings(pos_rankings_dblp,positive=True,maxLenAttributes=1)"
   ]
  },
  {
   "cell_type": "markdown",
   "metadata": {},
   "source": [
    "# Retrain model"
   ]
  },
  {
   "cell_type": "code",
   "execution_count": 76,
   "metadata": {
    "ExecuteTime": {
     "end_time": "2020-02-06T15:03:42.123786Z",
     "start_time": "2020-02-06T15:03:41.491029Z"
    }
   },
   "outputs": [],
   "source": []
  },
  {
   "cell_type": "code",
   "execution_count": null,
   "metadata": {},
   "outputs": [],
   "source": []
  }
 ],
 "metadata": {
  "kernelspec": {
   "display_name": "Python 3",
   "language": "python",
   "name": "python3"
  },
  "language_info": {
   "codemirror_mode": {
    "name": "ipython",
    "version": 3
   },
   "file_extension": ".py",
   "mimetype": "text/x-python",
   "name": "python",
   "nbconvert_exporter": "python",
   "pygments_lexer": "ipython3",
   "version": "3.6.10"
  },
  "toc": {
   "base_numbering": 1,
   "nav_menu": {},
   "number_sections": true,
   "sideBar": true,
   "skip_h1_title": false,
   "title_cell": "Table of Contents",
   "title_sidebar": "Contents",
   "toc_cell": false,
   "toc_position": {
    "height": "calc(100% - 180px)",
    "left": "10px",
    "top": "150px",
    "width": "227px"
   },
   "toc_section_display": true,
   "toc_window_display": true
  }
 },
 "nbformat": 4,
 "nbformat_minor": 4
}

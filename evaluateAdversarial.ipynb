{
 "cells": [
  {
   "cell_type": "code",
   "execution_count": 1,
   "metadata": {},
   "outputs": [],
   "source": [
    "%load_ext autoreload\n",
    "%autoreload 2"
   ]
  },
  {
   "cell_type": "code",
   "execution_count": 2,
   "metadata": {},
   "outputs": [],
   "source": [
    "import deepmatcher as dm\n",
    "import pandas as pd\n",
    "import pickle\n",
    "import torch\n",
    "from tqdm import tqdm\n",
    "from nltk.corpus import stopwords\n",
    "import copy\n",
    "from utils.intermediate_layer_extraction import returnLayerInputUnlabeled\n",
    "from utils.intermediate_layer_extraction import return_layer_input\n",
    "import torch.nn as nn"
   ]
  },
  {
   "cell_type": "code",
   "execution_count": 3,
   "metadata": {},
   "outputs": [],
   "source": [
    "from utils.attacker import getAttackedDataset"
   ]
  },
  {
   "cell_type": "code",
   "execution_count": null,
   "metadata": {},
   "outputs": [],
   "source": [
    "def canBeReplaced(perturbationL,attr,newdiff):\n",
    "    for att,val in perturbationL:\n",
    "        if att==attr and val < newdiff:\n",
    "            return False\n",
    "    return True"
   ]
  },
  {
   "cell_type": "code",
   "execution_count": null,
   "metadata": {},
   "outputs": [],
   "source": [
    "def evaluatePerturbations(model,test_v,perturbations_v,pairAttackMap,pairPerturbedAttr):\n",
    "    sampleAttackSuccessFull = {}\n",
    "    for key in tqdm(test_v):\n",
    "        sampleAttackSuccessFull[key] = []\n",
    "        logsoftmax = nn.LogSoftmax(dim=1)\n",
    "        originalPred = logsoftmax(model.classifier.forward(torch.unsqueeze(test_v[key],0)))\n",
    "        if originalPred[0][0].exp().item() > originalPred[0][1].exp().item():\n",
    "            originalPred = 0\n",
    "        else:\n",
    "            originalPred = 1\n",
    "        correspondingAttacks = pairAttackMapping[key]\n",
    "        for idx,attackid in enumerate(correspondingAttacks):\n",
    "            perturb = perturbations_v[attackid]\n",
    "            currentPred = logsoftmax(model.classifier.forward(torch.unsqueeze(perturb,0)))\n",
    "            if currentPred[0][0].item() > currentPred[0][1].item():\n",
    "                currentPred = 0\n",
    "            else:\n",
    "                currentPred = 1\n",
    "            if currentPred != originalPred:\n",
    "                difference = torch.norm(perturb-test_v[key]).item()\n",
    "                perturbedAttribute = pairPerturbedAttr[key].iloc[idx]\n",
    "                if canBeReplaced(sampleAttackSuccessFull[key],perturbedAttribute,difference):\n",
    "                    sampleAttackSuccessFull[key].append((perturbedAttribute,difference))\n",
    "    return sampleAttackSuccessFull"
   ]
  },
  {
   "cell_type": "code",
   "execution_count": 4,
   "metadata": {},
   "outputs": [],
   "source": [
    "f1 = open('attacksResults/closest_words_itam.pickle', 'rb')\n",
    "closest_words_map = pickle.load(f1)\n",
    "f1.close()\n",
    "f2 = open('attacksResults/notfound_words_itam.data', 'rb')\n",
    "notfound = pickle.load(f2)\n",
    "f2.close()"
   ]
  },
  {
   "cell_type": "code",
   "execution_count": 5,
   "metadata": {},
   "outputs": [],
   "source": [
    "test_df = pd.read_csv('datasets/Structured/itunes-amazon/merged_test.csv')"
   ]
  },
  {
   "cell_type": "code",
   "execution_count": 7,
   "metadata": {},
   "outputs": [],
   "source": [
    "attributes = [col for col in list(test_df) if col not in ['id','label']]\n",
    "itunesamazon_model = dm.MatchingModel(attr_summarizer='hybrid')\n",
    "itunesamazon_model.load_state('models/itunes_amazon_hybrid.pth')\n",
    "itunesamazon_model = itunesamazon_model.to('cuda')"
   ]
  },
  {
   "cell_type": "code",
   "execution_count": 8,
   "metadata": {},
   "outputs": [],
   "source": [
    "stop_words = set(stopwords.words('english'))"
   ]
  },
  {
   "cell_type": "code",
   "execution_count": 9,
   "metadata": {},
   "outputs": [
    {
     "name": "stderr",
     "output_type": "stream",
     "text": [
      "100%|██████████| 109/109 [00:12<00:00,  8.58it/s]\n"
     ]
    }
   ],
   "source": [
    "attacked_test,pairAttackMapping,pairPerturbedAttr = getAttackedDataset(test_df,attributes,\n",
    "                                                                       closest_words_map,notfound,stop_words)\n",
    "attacked_test.to_csv('itunes_amazon_attacked_test.csv',index=False)"
   ]
  },
  {
   "cell_type": "code",
   "execution_count": 11,
   "metadata": {},
   "outputs": [],
   "source": [
    "model = copy.deepcopy(itunesamazon_model)"
   ]
  },
  {
   "cell_type": "code",
   "execution_count": 12,
   "metadata": {},
   "outputs": [
    {
     "name": "stderr",
     "output_type": "stream",
     "text": [
      "\n",
      "Reading and processing data from \"datasets/Structured/itunes-amazon/merged_test.csv\"\n",
      "0% [############################# ] 100% | ETA: 00:00:00"
     ]
    }
   ],
   "source": [
    "test_v = returnLayerInputUnlabeled(model,model.classifier,\n",
    "                             'datasets/Structured/itunes-amazon/','merged_test')"
   ]
  },
  {
   "cell_type": "code",
   "execution_count": 13,
   "metadata": {
    "scrolled": true
   },
   "outputs": [
    {
     "name": "stderr",
     "output_type": "stream",
     "text": [
      "\n",
      "Reading and processing data from \"./itunes_amazon_attacked_test.csv\"\n",
      "0% [##############################] 100% | ETA: 00:00:00"
     ]
    }
   ],
   "source": [
    "attackedTest_v = returnLayerInputUnlabeled(model,model.classifier,\n",
    "                                   './','itunes_amazon_attacked_test',batch_size=32,\n",
    "                                           ignore_columns=['id','label','altered_attribute'])"
   ]
  },
  {
   "cell_type": "code",
   "execution_count": 29,
   "metadata": {},
   "outputs": [
    {
     "name": "stderr",
     "output_type": "stream",
     "text": [
      "100%|██████████| 109/109 [00:27<00:00,  4.01it/s]\n"
     ]
    }
   ],
   "source": [
    "ri = evaluatePerturbations(itunesamazon_model,test_v,attackedTest_v,pairAttackMapping,pairPerturbedAttr)"
   ]
  },
  {
   "cell_type": "code",
   "execution_count": 30,
   "metadata": {},
   "outputs": [
    {
     "data": {
      "text/plain": [
       "{722: [('rtable_Time', 3.3940348625183105)],\n",
       " 646: [('ltable_Time', 8.449257850646973), ('rtable_Time', 8.449188232421875)],\n",
       " 718: [('rtable_Time', 2.205073356628418)],\n",
       " 735: [('ltable_Time', 3.1211178302764893)],\n",
       " 663: [('ltable_Time', 2.511775493621826), ('rtable_Time', 3.106961727142334)],\n",
       " 678: [('ltable_Time', 5.2526116371154785)],\n",
       " 694: [('ltable_Price', 2.09537672996521),\n",
       "  ('ltable_Price', 1.4944628477096558)],\n",
       " 724: [('ltable_Song_Name', 0.9200679659843445),\n",
       "  ('ltable_Album_Name', 2.584613084793091),\n",
       "  ('ltable_Album_Name', 1.8332784175872803),\n",
       "  ('ltable_Time', 2.423051118850708),\n",
       "  ('rtable_Song_Name', 1.8313816785812378),\n",
       "  ('rtable_Song_Name', 1.812230110168457)],\n",
       " 696: [('ltable_Time', 6.862666130065918), ('rtable_Time', 6.861691951751709)],\n",
       " 649: [('ltable_Time', 3.8935327529907227),\n",
       "  ('rtable_Time', 3.8381967544555664)],\n",
       " 638: [('rtable_Time', 4.896437644958496)],\n",
       " 635: [('rtable_Time', 5.7664713859558105)],\n",
       " 738: [('ltable_Time', 2.849313735961914)],\n",
       " 664: [('ltable_Time', 5.592556476593018)],\n",
       " 707: [('rtable_Song_Name', 1.4418374300003052)],\n",
       " 658: [('rtable_Time', 3.352019786834717)],\n",
       " 648: [('ltable_Song_Name', 1.9623852968215942),\n",
       "  ('ltable_Song_Name', 1.763074517250061),\n",
       "  ('ltable_Time', 2.882596015930176),\n",
       "  ('rtable_Time', 2.174048662185669)],\n",
       " 706: [('ltable_Price', 2.1002421379089355)],\n",
       " 652: [('ltable_Time', 1.6957385540008545)],\n",
       " 700: [('ltable_Time', 2.881507635116577),\n",
       "  ('rtable_Time', 2.7176640033721924),\n",
       "  ('rtable_Time', 2.2149312496185303)],\n",
       " 736: [('rtable_Time', 3.470766305923462)],\n",
       " 689: [('ltable_Time', 5.513343334197998)],\n",
       " 709: [('ltable_Song_Name', 1.8259284496307373),\n",
       "  ('ltable_Song_Name', 1.6887425184249878),\n",
       "  ('ltable_Price', 0.9269028902053833),\n",
       "  ('rtable_Price', 0.9268638491630554)],\n",
       " 637: [('ltable_Time', 6.560113430023193), ('rtable_Time', 6.437545299530029)],\n",
       " 659: [('rtable_Song_Name', 1.597894310951233),\n",
       "  ('rtable_Time', 1.0283504724502563)],\n",
       " 677: [('ltable_Song_Name', 0.4827394187450409),\n",
       "  ('ltable_Genre', 0.43069687485694885),\n",
       "  ('ltable_Genre', 0.4202492833137512),\n",
       "  ('ltable_Price', 1.017237901687622),\n",
       "  ('rtable_Song_Name', 0.4265443682670593),\n",
       "  ('rtable_Genre', 1.5750157833099365),\n",
       "  ('rtable_Genre', 1.5379564762115479),\n",
       "  ('rtable_Price', 0.5478973984718323)],\n",
       " 668: [('ltable_Time', 4.032251834869385)],\n",
       " 729: [('ltable_Time', 7.037213325500488),\n",
       "  ('ltable_Time', 7.013372898101807),\n",
       "  ('rtable_Time', 7.037214756011963),\n",
       "  ('rtable_Time', 7.024799346923828)],\n",
       " 725: [('ltable_Song_Name', 0.7020736932754517),\n",
       "  ('ltable_Song_Name', 0.6086133122444153),\n",
       "  ('ltable_Album_Name', 0.4323039650917053),\n",
       "  ('ltable_Genre', 0.6897693872451782),\n",
       "  ('ltable_CopyRight', 0.8617836833000183),\n",
       "  ('ltable_CopyRight', 0.5239054560661316),\n",
       "  ('ltable_Time', 2.2414867877960205),\n",
       "  ('ltable_Released', 0.5788971781730652),\n",
       "  ('rtable_Song_Name', 0.8683738708496094),\n",
       "  ('rtable_Song_Name', 0.5919272303581238),\n",
       "  ('rtable_Song_Name', 0.33876705169677734),\n",
       "  ('rtable_Genre', 0.6948163509368896),\n",
       "  ('rtable_Time', 2.618481159210205),\n",
       "  ('rtable_Released', 0.5525140762329102)],\n",
       " 701: [('ltable_Time', 3.7021067142486572)],\n",
       " 643: [('ltable_Time', 8.586153984069824), ('rtable_Time', 8.581554412841797)],\n",
       " 717: [('ltable_Time', 4.041467189788818)],\n",
       " 726: [('ltable_Time', 6.933014392852783), ('rtable_Time', 6.933012008666992)],\n",
       " 697: [('ltable_Time', 4.585817813873291),\n",
       "  ('rtable_Time', 3.6905148029327393)],\n",
       " 672: [('ltable_Time', 5.340084552764893),\n",
       "  ('rtable_Time', 3.4997599124908447)],\n",
       " 680: [('ltable_Time', 6.934786796569824),\n",
       "  ('rtable_Time', 7.0106892585754395)],\n",
       " 669: [('ltable_Time', 10.382842063903809),\n",
       "  ('rtable_Time', 10.402255058288574)],\n",
       " 688: [('ltable_Time', 6.0074052810668945)]}"
      ]
     },
     "execution_count": 30,
     "metadata": {},
     "output_type": "execute_result"
    }
   ],
   "source": [
    "ri = {k: v for k, v in ri.items() if len(v)>0}\n",
    "ri"
   ]
  },
  {
   "cell_type": "markdown",
   "metadata": {},
   "source": [
    "## Amazon-Google"
   ]
  },
  {
   "cell_type": "code",
   "execution_count": 38,
   "metadata": {},
   "outputs": [],
   "source": [
    "test_df = pd.read_csv('datasets/Structured/Amazon-Google/merged_test.csv')\n",
    "attributes = [col for col in list(test_df) if col not in ['id','label']]\n",
    "amazongoogle_model = dm.MatchingModel(attr_summarizer='hybrid')\n",
    "amazongoogle_model.load_state('models/amazongoogle_hybrid.pth')\n",
    "amazongoogle_model = amazongoogle_model.to('cuda')"
   ]
  },
  {
   "cell_type": "code",
   "execution_count": 35,
   "metadata": {},
   "outputs": [],
   "source": [
    "f1 = open('attacksResults/closest_words_google.pickle', 'rb')\n",
    "closest_words_map = pickle.load(f1)\n",
    "f1.close()\n",
    "f2 = open('attacksResults/notfound_google.data', 'rb')\n",
    "notfound = pickle.load(f2)\n",
    "f2.close()"
   ]
  },
  {
   "cell_type": "code",
   "execution_count": 32,
   "metadata": {},
   "outputs": [],
   "source": [
    "model = copy.deepcopy(amazongoogle_model)"
   ]
  },
  {
   "cell_type": "code",
   "execution_count": 33,
   "metadata": {},
   "outputs": [
    {
     "name": "stderr",
     "output_type": "stream",
     "text": [
      "\n",
      "Reading and processing data from \"datasets/Structured/Amazon-Google/merged_test.csv\"\n",
      "0% [############################# ] 100% | ETA: 00:00:00"
     ]
    }
   ],
   "source": [
    "test_v = returnLayerInputUnlabeled(model,model.classifier,\n",
    "                             'datasets/Structured/Amazon-Google/','merged_test')"
   ]
  },
  {
   "cell_type": "code",
   "execution_count": 39,
   "metadata": {},
   "outputs": [
    {
     "name": "stderr",
     "output_type": "stream",
     "text": [
      "100%|██████████| 2293/2293 [01:22<00:00, 27.93it/s]\n"
     ]
    }
   ],
   "source": [
    "attacked_test,pairAttackMapping,pairPerturbedAttr = getAttackedDataset(test_df,attributes,\n",
    "                                                                       closest_words_map,notfound,stop_words)\n",
    "attacked_test.to_csv('amazongoogle_attacked_test.csv',index=False)"
   ]
  },
  {
   "cell_type": "code",
   "execution_count": 40,
   "metadata": {},
   "outputs": [
    {
     "name": "stderr",
     "output_type": "stream",
     "text": [
      "\n",
      "Reading and processing data from \"./amazongoogle_attacked_test.csv\"\n",
      "0% [##############################] 100% | ETA: 00:00:00"
     ]
    }
   ],
   "source": [
    "attackedTest_v = returnLayerInputUnlabeled(model,model.classifier,\n",
    "                                   './','amazongoogle_attacked_test',batch_size=32,\n",
    "                                           ignore_columns=['id','label','altered_attribute'])"
   ]
  },
  {
   "cell_type": "code",
   "execution_count": null,
   "metadata": {},
   "outputs": [
    {
     "name": "stderr",
     "output_type": "stream",
     "text": [
      " 94%|█████████▎| 2149/2293 [02:32<00:09, 14.51it/s]"
     ]
    }
   ],
   "source": [
    "ri = evaluatePerturbations(model,test_v,attackedTest_v,pairAttackMapping,pairPerturbedAttr)"
   ]
  },
  {
   "cell_type": "code",
   "execution_count": null,
   "metadata": {},
   "outputs": [],
   "source": [
    "ri = {k: v for k, v in ri.items() if len(v)>0}\n",
    "ri"
   ]
  }
 ],
 "metadata": {
  "kernelspec": {
   "display_name": "Python 3",
   "language": "python",
   "name": "python3"
  },
  "language_info": {
   "codemirror_mode": {
    "name": "ipython",
    "version": 3
   },
   "file_extension": ".py",
   "mimetype": "text/x-python",
   "name": "python",
   "nbconvert_exporter": "python",
   "pygments_lexer": "ipython3",
   "version": "3.6.10"
  },
  "toc": {
   "base_numbering": 1,
   "nav_menu": {},
   "number_sections": true,
   "sideBar": true,
   "skip_h1_title": false,
   "title_cell": "Table of Contents",
   "title_sidebar": "Contents",
   "toc_cell": false,
   "toc_position": {},
   "toc_section_display": true,
   "toc_window_display": true
  }
 },
 "nbformat": 4,
 "nbformat_minor": 4
}

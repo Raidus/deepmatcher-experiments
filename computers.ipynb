{
 "cells": [
  {
   "cell_type": "code",
   "execution_count": 1,
   "metadata": {},
   "outputs": [],
   "source": [
    "%load_ext autoreload\n",
    "%autoreload 2"
   ]
  },
  {
   "cell_type": "code",
   "execution_count": 19,
   "metadata": {},
   "outputs": [],
   "source": [
    "import deepmatcher as dm\n",
    "import pandas as pd\n",
    "import numpy as np\n",
    "import torch"
   ]
  },
  {
   "cell_type": "code",
   "execution_count": 8,
   "metadata": {},
   "outputs": [],
   "source": [
    "def getTrainValidationTest(dataset_path,leftPrefix,rightPrefix,selectedColumns):\n",
    "    df = pd.read_json(dataset_path,lines=True,compression='gzip')\n",
    "    new_col = {}\n",
    "    for col in list(df):\n",
    "        if col.endswith('_left'):\n",
    "            tokens = col.split('_left',1)\n",
    "            new_col[col]= leftPrefix+tokens[0]\n",
    "        elif col.endswith('_right'):\n",
    "            tokens = col.split('_right',1)\n",
    "            new_col[col] = rightPrefix+tokens[0]\n",
    "        else:\n",
    "            new_col[col] = col\n",
    "    new_col['pair_id'] = 'id'\n",
    "    df = df.rename(columns = new_col)\n",
    "    columns_to_drop = [col for col in list(df) if col not in selectedColumns]\n",
    "    df = df.drop(columns = columns_to_drop)\n",
    "    train, validation,test = np.split(df.sample(frac=1), [int(.6*len(df)),int(.8*len(df))])\n",
    "    return train,validation,test,df"
   ]
  },
  {
   "cell_type": "code",
   "execution_count": 9,
   "metadata": {},
   "outputs": [],
   "source": [
    "ignore_columns = ['id','ltable_title','ltable_description','ltable_price',\n",
    "                  'rtable_title','rtable_description','rtable_price','label']\n",
    "train_medium,validation_medium,test_medium,all_medium = getTrainValidationTest('computers_train_medium.json.gz',\n",
    "                                                                               'ltable_','rtable_',\n",
    "                                                                               selectedColumns=ignore_columns)"
   ]
  },
  {
   "cell_type": "code",
   "execution_count": 10,
   "metadata": {},
   "outputs": [],
   "source": [
    "train_medium.to_csv('computer_train_medium.csv',index=False)\n",
    "validation_medium.to_csv('computer_validation_medium.csv',index=False)\n",
    "test_medium.to_csv('computer_test_medium.csv',index=False)"
   ]
  },
  {
   "cell_type": "code",
   "execution_count": 11,
   "metadata": {},
   "outputs": [],
   "source": [
    "all_medium[all_medium.label==0].to_csv('computer_neg_medium.csv',index=False)\n",
    "all_medium[all_medium.label==1].to_csv('computer_pos_medium.csv',index=False)"
   ]
  },
  {
   "cell_type": "code",
   "execution_count": 24,
   "metadata": {},
   "outputs": [],
   "source": [
    "train,validation,test = getTrainValidationTest('computers_train_small.json.gz','ltable_','rtable_')"
   ]
  },
  {
   "cell_type": "code",
   "execution_count": 25,
   "metadata": {},
   "outputs": [],
   "source": [
    "train_df.to_csv('computer_train_small.csv',index=False)\n",
    "validation_df.to_csv('computer_validation_small.csv',index=False)\n",
    "test_df.to_csv('computer_test_small.csv',index=False)"
   ]
  },
  {
   "cell_type": "markdown",
   "metadata": {},
   "source": [
    "## Train model"
   ]
  },
  {
   "cell_type": "code",
   "execution_count": 34,
   "metadata": {},
   "outputs": [],
   "source": [
    "train,validation,test = getTrainValidationTest('computers_train_medium.json.gz','ltable_','rtable_')\n",
    "ignore_columns = ['pair_id','ltable_title','ltable_description','ltable_price',\n",
    "                  'rtable_title','rtable_description','rtable_price','label']\n",
    "columns_to_drop = [col for col in list(train) if col not in ignore_columns]\n",
    "train_df = train.drop(columns =columns_to_drop)\n",
    "validation_df = validation.drop(columns =columns_to_drop)\n",
    "test_df = test.drop(columns = columns_to_drop)"
   ]
  },
  {
   "cell_type": "code",
   "execution_count": 35,
   "metadata": {},
   "outputs": [],
   "source": [
    "train_df.to_csv('computer_train_medium.csv',index=False)\n",
    "validation_df.to_csv('computer_validation_medium.csv',index=False)\n",
    "test_df.to_csv('computer_test_medium.csv',index=False)"
   ]
  },
  {
   "cell_type": "code",
   "execution_count": 37,
   "metadata": {},
   "outputs": [],
   "source": [
    "train,validation,test = dm.data.process('./',train='computer_train_medium.csv',validation='computer_validation_medium.csv',\n",
    "                                        test='computer_test_medium.csv',ignore_columns=['ltable_id','rtable_id','pair_id'],\n",
    "                                       left_prefix='ltable_',right_prefix='rtable_',cache='computers_medium.pth')"
   ]
  },
  {
   "cell_type": "code",
   "execution_count": 39,
   "metadata": {},
   "outputs": [
    {
     "name": "stdout",
     "output_type": "stream",
     "text": [
      "* Number of trainable parameters: 1762802\n",
      "===>  TRAIN Epoch 1\n",
      "Finished Epoch 1 || Run Time:   20.4 | Load Time:   52.7 || F1:  40.05 | Prec:  26.12 | Rec:  85.85 || Ex/s:  66.42\n",
      "\n",
      "===>  EVAL Epoch 1\n",
      "Finished Epoch 1 || Run Time:    2.0 | Load Time:   14.6 || F1:  54.19 | Prec:  41.73 | Rec:  77.25 || Ex/s:  97.92\n",
      "\n",
      "* Best F1: 54.187192118226605\n",
      "Saving best model...\n",
      "Done.\n",
      "---------------------\n",
      "\n",
      "===>  TRAIN Epoch 2\n",
      "Finished Epoch 2 || Run Time:   22.3 | Load Time:   58.1 || F1:  56.69 | Prec:  41.92 | Rec:  87.55 || Ex/s:  60.35\n",
      "\n",
      "===>  EVAL Epoch 2\n",
      "Finished Epoch 2 || Run Time:    2.0 | Load Time:   14.7 || F1:  61.06 | Prec:  49.56 | Rec:  79.49 || Ex/s:  96.77\n",
      "\n",
      "* Best F1: 61.05717367853291\n",
      "Saving best model...\n",
      "Done.\n",
      "---------------------\n",
      "\n",
      "===>  TRAIN Epoch 3\n",
      "Finished Epoch 3 || Run Time:   23.5 | Load Time:   64.8 || F1:  72.76 | Prec:  59.40 | Rec:  93.87 || Ex/s:  55.01\n",
      "\n",
      "===>  EVAL Epoch 3\n",
      "Finished Epoch 3 || Run Time:    2.0 | Load Time:   14.8 || F1:  64.15 | Prec:  58.09 | Rec:  71.63 || Ex/s:  96.49\n",
      "\n",
      "* Best F1: 64.15094339622642\n",
      "Saving best model...\n",
      "Done.\n",
      "---------------------\n",
      "\n",
      "===>  TRAIN Epoch 4\n",
      "Finished Epoch 4 || Run Time:   23.6 | Load Time:   64.8 || F1:  84.33 | Prec:  75.06 | Rec:  96.23 || Ex/s:  54.94\n",
      "\n",
      "===>  EVAL Epoch 4\n",
      "Finished Epoch 4 || Run Time:    2.0 | Load Time:   14.7 || F1:  67.79 | Prec:  62.83 | Rec:  73.60 || Ex/s:  96.91\n",
      "\n",
      "* Best F1: 67.78783958602845\n",
      "Saving best model...\n",
      "Done.\n",
      "---------------------\n",
      "\n",
      "===>  TRAIN Epoch 5\n",
      "Finished Epoch 5 || Run Time:   20.2 | Load Time:   57.5 || F1:  91.32 | Prec:  85.69 | Rec:  97.74 || Ex/s:  62.55\n",
      "\n",
      "===>  EVAL Epoch 5\n",
      "Finished Epoch 5 || Run Time:    2.0 | Load Time:   14.6 || F1:  66.10 | Prec:  66.76 | Rec:  65.45 || Ex/s:  97.75\n",
      "\n",
      "---------------------\n",
      "\n",
      "===>  TRAIN Epoch 6\n",
      "Finished Epoch 6 || Run Time:   20.7 | Load Time:   58.2 || F1:  94.35 | Prec:  90.62 | Rec:  98.40 || Ex/s:  61.53\n",
      "\n",
      "===>  EVAL Epoch 6\n",
      "Finished Epoch 6 || Run Time:    2.0 | Load Time:   14.7 || F1:  67.33 | Prec:  68.41 | Rec:  66.29 || Ex/s:  97.34\n",
      "\n",
      "---------------------\n",
      "\n",
      "===>  TRAIN Epoch 7\n",
      "Finished Epoch 7 || Run Time:   17.8 | Load Time:   52.4 || F1:  96.59 | Prec:  94.33 | Rec:  98.96 || Ex/s:  69.20\n",
      "\n",
      "===>  EVAL Epoch 7\n",
      "Finished Epoch 7 || Run Time:    2.0 | Load Time:   14.6 || F1:  68.49 | Prec:  74.75 | Rec:  63.20 || Ex/s:  97.91\n",
      "\n",
      "* Best F1: 68.4931506849315\n",
      "Saving best model...\n",
      "Done.\n",
      "---------------------\n",
      "\n",
      "===>  TRAIN Epoch 8\n",
      "Finished Epoch 8 || Run Time:   17.8 | Load Time:   52.5 || F1:  98.18 | Prec:  96.96 | Rec:  99.43 || Ex/s:  69.04\n",
      "\n",
      "===>  EVAL Epoch 8\n",
      "Finished Epoch 8 || Run Time:    2.0 | Load Time:   14.7 || F1:  68.42 | Prec:  71.34 | Rec:  65.73 || Ex/s:  97.04\n",
      "\n",
      "---------------------\n",
      "\n",
      "===>  TRAIN Epoch 9\n",
      "Finished Epoch 9 || Run Time:   21.7 | Load Time:   61.8 || F1:  98.51 | Prec:  97.42 | Rec:  99.62 || Ex/s:  58.19\n",
      "\n",
      "===>  EVAL Epoch 9\n",
      "Finished Epoch 9 || Run Time:    2.0 | Load Time:   14.7 || F1:  68.88 | Prec:  70.71 | Rec:  67.13 || Ex/s:  96.88\n",
      "\n",
      "* Best F1: 68.87608069164264\n",
      "Saving best model...\n",
      "Done.\n",
      "---------------------\n",
      "\n",
      "===>  TRAIN Epoch 10\n",
      "Finished Epoch 10 || Run Time:   23.5 | Load Time:   64.2 || F1:  98.74 | Prec:  97.78 | Rec:  99.72 || Ex/s:  55.41\n",
      "\n",
      "===>  EVAL Epoch 10\n",
      "Finished Epoch 10 || Run Time:    2.0 | Load Time:   14.8 || F1:  68.60 | Prec:  70.75 | Rec:  66.57 || Ex/s:  96.43\n",
      "\n",
      "---------------------\n",
      "\n",
      "===>  TRAIN Epoch 11\n",
      "Finished Epoch 11 || Run Time:   23.4 | Load Time:   63.6 || F1:  99.02 | Prec:  98.33 | Rec:  99.72 || Ex/s:  55.81\n",
      "\n",
      "===>  EVAL Epoch 11\n",
      "Finished Epoch 11 || Run Time:    2.1 | Load Time:   15.2 || F1:  67.93 | Prec:  70.61 | Rec:  65.45 || Ex/s:  93.51\n",
      "\n",
      "---------------------\n",
      "\n",
      "===>  TRAIN Epoch 12\n",
      "Finished Epoch 12 || Run Time:   23.6 | Load Time:   64.7 || F1:  99.06 | Prec:  98.42 | Rec:  99.72 || Ex/s:  54.98\n",
      "\n",
      "===>  EVAL Epoch 12\n",
      "Finished Epoch 12 || Run Time:    2.0 | Load Time:   14.8 || F1:  68.24 | Prec:  71.60 | Rec:  65.17 || Ex/s:  96.34\n",
      "\n",
      "---------------------\n",
      "\n",
      "===>  TRAIN Epoch 13\n",
      "Finished Epoch 13 || Run Time:   23.6 | Load Time:   64.3 || F1:  99.16 | Prec:  98.60 | Rec:  99.72 || Ex/s:  55.22\n",
      "\n",
      "===>  EVAL Epoch 13\n",
      "Finished Epoch 13 || Run Time:    2.0 | Load Time:   14.8 || F1:  68.54 | Prec:  72.27 | Rec:  65.17 || Ex/s:  96.26\n",
      "\n",
      "---------------------\n",
      "\n",
      "===>  TRAIN Epoch 14\n",
      "Finished Epoch 14 || Run Time:   23.4 | Load Time:   63.7 || F1:  99.25 | Prec:  98.79 | Rec:  99.72 || Ex/s:  55.72\n",
      "\n",
      "===>  EVAL Epoch 14\n",
      "Finished Epoch 14 || Run Time:    2.0 | Load Time:   14.8 || F1:  68.66 | Prec:  73.25 | Rec:  64.61 || Ex/s:  96.30\n",
      "\n",
      "---------------------\n",
      "\n",
      "===>  TRAIN Epoch 15\n",
      "Finished Epoch 15 || Run Time:   23.7 | Load Time:   64.4 || F1:  99.30 | Prec:  98.88 | Rec:  99.72 || Ex/s:  55.12\n",
      "\n",
      "===>  EVAL Epoch 15\n",
      "Finished Epoch 15 || Run Time:    2.0 | Load Time:   14.8 || F1:  68.47 | Prec:  73.55 | Rec:  64.04 || Ex/s:  96.08\n",
      "\n",
      "---------------------\n",
      "\n",
      "===>  TRAIN Epoch 16\n",
      "Finished Epoch 16 || Run Time:   23.5 | Load Time:   64.2 || F1:  99.30 | Prec:  98.88 | Rec:  99.72 || Ex/s:  55.38\n",
      "\n",
      "===>  EVAL Epoch 16\n",
      "Finished Epoch 16 || Run Time:    2.0 | Load Time:   14.8 || F1:  68.67 | Prec:  74.03 | Rec:  64.04 || Ex/s:  96.57\n",
      "\n",
      "---------------------\n",
      "\n",
      "===>  TRAIN Epoch 17\n",
      "Finished Epoch 17 || Run Time:   23.3 | Load Time:   63.3 || F1:  99.34 | Prec:  98.97 | Rec:  99.72 || Ex/s:  56.08\n",
      "\n",
      "===>  EVAL Epoch 17\n",
      "Finished Epoch 17 || Run Time:    2.0 | Load Time:   14.8 || F1:  69.09 | Prec:  75.00 | Rec:  64.04 || Ex/s:  96.49\n",
      "\n",
      "* Best F1: 69.09090909090908\n",
      "Saving best model...\n",
      "Done.\n",
      "---------------------\n",
      "\n",
      "===>  TRAIN Epoch 18\n",
      "Finished Epoch 18 || Run Time:   23.4 | Load Time:   63.7 || F1:  99.39 | Prec:  99.06 | Rec:  99.72 || Ex/s:  55.78\n",
      "\n",
      "===>  EVAL Epoch 18\n",
      "Finished Epoch 18 || Run Time:    2.0 | Load Time:   14.7 || F1:  68.90 | Prec:  75.33 | Rec:  63.48 || Ex/s:  97.31\n",
      "\n",
      "---------------------\n",
      "\n",
      "===>  TRAIN Epoch 19\n",
      "Finished Epoch 19 || Run Time:   21.4 | Load Time:   53.2 || F1:  99.44 | Prec:  99.16 | Rec:  99.72 || Ex/s:  65.08\n",
      "\n",
      "===>  EVAL Epoch 19\n",
      "Finished Epoch 19 || Run Time:    2.0 | Load Time:   14.7 || F1:  68.70 | Prec:  75.25 | Rec:  63.20 || Ex/s:  97.02\n",
      "\n",
      "---------------------\n",
      "\n",
      "===>  TRAIN Epoch 20\n",
      "Finished Epoch 20 || Run Time:   21.7 | Load Time:   54.2 || F1:  99.44 | Prec:  99.16 | Rec:  99.72 || Ex/s:  63.95\n",
      "\n",
      "===>  EVAL Epoch 20\n",
      "Finished Epoch 20 || Run Time:    2.3 | Load Time:   16.3 || F1:  68.70 | Prec:  75.25 | Rec:  63.20 || Ex/s:  87.06\n",
      "\n",
      "---------------------\n",
      "\n",
      "Loading best model...\n",
      "Training done.\n"
     ]
    },
    {
     "data": {
      "text/plain": [
       "69.09090909090908"
      ]
     },
     "execution_count": 39,
     "metadata": {},
     "output_type": "execute_result"
    }
   ],
   "source": [
    "hybrid_model = dm.MatchingModel(attr_summarizer='rnn')\n",
    "hybrid_model.run_train(train,validation,epochs=20,pos_neg_ratio=4,best_save_path='models/computer_hybrid.pth')"
   ]
  },
  {
   "cell_type": "code",
   "execution_count": 40,
   "metadata": {},
   "outputs": [
    {
     "name": "stdout",
     "output_type": "stream",
     "text": [
      "===>  EVAL Epoch 17\n",
      "Finished Epoch 17 || Run Time:    2.5 | Load Time:   19.1 || F1:  64.48 | Prec:  66.67 | Rec:  62.43 || Ex/s:  75.18\n",
      "\n"
     ]
    },
    {
     "data": {
      "text/plain": [
       "64.47761194029852"
      ]
     },
     "execution_count": 40,
     "metadata": {},
     "output_type": "execute_result"
    }
   ],
   "source": [
    "hybrid_model.run_eval(test)"
   ]
  },
  {
   "cell_type": "markdown",
   "metadata": {},
   "source": [
    "## Compute rankings"
   ]
  },
  {
   "cell_type": "code",
   "execution_count": 4,
   "metadata": {},
   "outputs": [],
   "source": [
    "from utils.intermediate_layer_extraction import return_layer_input\n",
    "from utils.ri_calculator import computeRi"
   ]
  },
  {
   "cell_type": "code",
   "execution_count": 5,
   "metadata": {},
   "outputs": [],
   "source": [
    "attributes =['title','description','price']"
   ]
  },
  {
   "cell_type": "code",
   "execution_count": 6,
   "metadata": {},
   "outputs": [],
   "source": [
    "model = dm.MatchingModel(attr_summarizer='rnn')\n",
    "model.load_state('models/computer_rnn.pth')\n",
    "model = model.cuda()"
   ]
  },
  {
   "cell_type": "code",
   "execution_count": 15,
   "metadata": {},
   "outputs": [],
   "source": [
    "negatives = return_layer_input(model,model.classifier,'./','computer_neg_medium')"
   ]
  },
  {
   "cell_type": "code",
   "execution_count": 16,
   "metadata": {},
   "outputs": [],
   "source": [
    "positives = return_layer_input(model,model.classifier,'./','computer_pos_medium')"
   ]
  },
  {
   "cell_type": "code",
   "execution_count": 17,
   "metadata": {},
   "outputs": [],
   "source": [
    "classifier_len = len(list(positives.values())[0])\n",
    "attribute_len = int(classifier_len/len(attributes))"
   ]
  },
  {
   "cell_type": "code",
   "execution_count": 20,
   "metadata": {},
   "outputs": [],
   "source": [
    "negatives_ri,neg_ri_norms = computeRi(model.classifier,attributes,negatives,attribute_len,1)\n",
    "torch.save(negatives_ri,'neg_ri.pt')"
   ]
  },
  {
   "cell_type": "code",
   "execution_count": 22,
   "metadata": {},
   "outputs": [
    {
     "data": {
      "text/plain": [
       "<matplotlib.axes._subplots.AxesSubplot at 0x7f4efc6a9518>"
      ]
     },
     "execution_count": 22,
     "metadata": {},
     "output_type": "execute_result"
    },
    {
     "data": {
      "image/png": "[encoded data removed]",
      "text/plain": [
       "<Figure size 432x288 with 1 Axes>"
      ]
     },
     "metadata": {
      "needs_background": "light"
     },
     "output_type": "display_data"
    }
   ],
   "source": [
    "neg_variation_df = pd.DataFrame(data=neg_ri_norms,columns=attributes)\n",
    "neg_variation_df.sum().plot.bar()"
   ]
  },
  {
   "cell_type": "code",
   "execution_count": 23,
   "metadata": {},
   "outputs": [
    {
     "name": "stderr",
     "output_type": "stream",
     "text": [
      "100%|██████████| 1762/1762 [00:15<00:00, 111.45it/s]\n"
     ]
    }
   ],
   "source": [
    "positives_ri,pos_ri_norms = computeRi(model.classifier,attributes,positives,attribute_len,0)\n",
    "torch.save(negatives_ri,'pos_ri.pt')"
   ]
  },
  {
   "cell_type": "code",
   "execution_count": 24,
   "metadata": {},
   "outputs": [
    {
     "data": {
      "text/plain": [
       "<matplotlib.axes._subplots.AxesSubplot at 0x7f4f86c95208>"
      ]
     },
     "execution_count": 24,
     "metadata": {},
     "output_type": "execute_result"
    },
    {
     "data": {
      "image/png": "[encoded data removed]",
      "text/plain": [
       "<Figure size 432x288 with 1 Axes>"
      ]
     },
     "metadata": {
      "needs_background": "light"
     },
     "output_type": "display_data"
    }
   ],
   "source": [
    "pos_variation_df = pd.DataFrame(data=pos_ri_norms,columns=attributes)\n",
    "pos_variation_df.sum().plot.bar()"
   ]
  },
  {
   "cell_type": "code",
   "execution_count": null,
   "metadata": {},
   "outputs": [],
   "source": []
  }
 ],
 "metadata": {
  "kernelspec": {
   "display_name": "Python 3",
   "language": "python",
   "name": "python3"
  },
  "language_info": {
   "codemirror_mode": {
    "name": "ipython",
    "version": 3
   },
   "file_extension": ".py",
   "mimetype": "text/x-python",
   "name": "python",
   "nbconvert_exporter": "python",
   "pygments_lexer": "ipython3",
   "version": "3.6.9"
  }
 },
 "nbformat": 4,
 "nbformat_minor": 2
}

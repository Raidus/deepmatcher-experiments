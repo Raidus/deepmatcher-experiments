{
 "cells": [
  {
   "cell_type": "code",
   "execution_count": 2,
   "metadata": {
    "ExecuteTime": {
     "end_time": "2020-02-26T22:36:56.317644Z",
     "start_time": "2020-02-26T22:36:56.302820Z"
    }
   },
   "outputs": [],
   "source": [
    "%load_ext autoreload\n",
    "%autoreload 2"
   ]
  },
  {
   "cell_type": "code",
   "execution_count": 4,
   "metadata": {
    "ExecuteTime": {
     "end_time": "2020-02-26T22:36:58.199668Z",
     "start_time": "2020-02-26T22:36:56.671258Z"
    }
   },
   "outputs": [],
   "source": [
    "import torch\n",
    "import deepmatcher as dm\n",
    "import torch.nn.functional as F\n",
    "import pandas as pd\n",
    "import os\n",
    "from utils.deepmatcher_utils import wrapDm\n",
    "from deepmatcher.data import MatchingIterator\n",
    "from utils.intermediate_layer_extraction import return_layer_input"
   ]
  },
  {
   "cell_type": "code",
   "execution_count": 5,
   "metadata": {
    "ExecuteTime": {
     "end_time": "2020-02-26T22:37:02.171407Z",
     "start_time": "2020-02-26T22:36:58.201947Z"
    }
   },
   "outputs": [],
   "source": [
    "model = dm.MatchingModel(attr_summarizer='hybrid')\n",
    "model.load_state('models/walmartamazon_hybrid.pth')\n",
    "model = model.to('cuda')"
   ]
  },
  {
   "cell_type": "code",
   "execution_count": 5,
   "metadata": {
    "ExecuteTime": {
     "end_time": "2020-02-26T20:54:34.795027Z",
     "start_time": "2020-02-26T20:54:34.775365Z"
    }
   },
   "outputs": [],
   "source": [
    "def _flat_list(l):\n",
    "    flat_list = []\n",
    "    for sublist in l:\n",
    "        for item in sublist:\n",
    "            flat_list.append((item))\n",
    "    return flat_list"
   ]
  },
  {
   "cell_type": "code",
   "execution_count": 6,
   "metadata": {
    "ExecuteTime": {
     "end_time": "2020-02-26T20:54:34.812464Z",
     "start_time": "2020-02-26T20:54:34.796536Z"
    }
   },
   "outputs": [],
   "source": [
    "def _return_input(module,module_input,module_output):\n",
    "    global current_layer_input\n",
    "    if isinstance(module_input,tuple):\n",
    "        current_layer_input = (module_input[0].detach().requires_grad_())\n",
    "    else:\n",
    "        current_layer_input = (module_input[0].detach().requires_grad_())"
   ]
  },
  {
   "cell_type": "code",
   "execution_count": 13,
   "metadata": {
    "ExecuteTime": {
     "end_time": "2020-02-26T19:25:23.320150Z",
     "start_time": "2020-02-26T19:25:23.269760Z"
    }
   },
   "outputs": [],
   "source": [
    "def return_layer_input_test(model,layer,dataset_dir,dataset_name,batch_size=32,\n",
    "                       device ='cuda',ignore_columns=['label']):\n",
    "    dataset = dm.data.process_unlabeled(os.sep.join([dataset_dir,dataset_name+'.csv']),model,\n",
    "                                        ignore_columns=ignore_columns)\n",
    "    original_predictions = model.run_prediction(dataset)\n",
    "    run_iter = MatchingIterator(\n",
    "            dataset,\n",
    "            model.meta,\n",
    "            train=False,\n",
    "            batch_size=batch_size,\n",
    "            device=device,\n",
    "            sort_in_buckets=None)\n",
    "    tupleids = []\n",
    "    layer_inputs = []\n",
    "    hook = layer.register_forward_hook(_return_input)\n",
    "    for batch_idx,batch in enumerate(run_iter):\n",
    "        tupleids.append(batch.id)\n",
    "        model(batch)\n",
    "        layer_inputs.append(current_layer_input)\n",
    "    hook.remove()\n",
    "    for idx,batch in enumerate(layer_inputs):\n",
    "        batch_pred = model.classifier(batch)\n",
    "        for j,pred in enumerate(batch_pred):\n",
    "            match_score = float(pred[1].exp())\n",
    "            originalPred = original_predictions.loc[tupleids[idx][j]]['match_score']\n",
    "        if abs(match_score-originalPred)>=0.01:\n",
    "            print('error')\n",
    "    return"
   ]
  },
  {
   "cell_type": "code",
   "execution_count": 49,
   "metadata": {
    "ExecuteTime": {
     "end_time": "2020-02-26T15:19:18.819998Z",
     "start_time": "2020-02-26T15:17:56.139166Z"
    }
   },
   "outputs": [
    {
     "name": "stderr",
     "output_type": "stream",
     "text": [
      "\n",
      "Reading and processing data from \"datasets/Structured/Walmart-Amazon//negatives.csv\"\n",
      "0% [############################# ] 100% | ETA: 00:00:00"
     ]
    },
    {
     "name": "stdout",
     "output_type": "stream",
     "text": [
      "===>  PREDICT Epoch 13\n"
     ]
    },
    {
     "name": "stderr",
     "output_type": "stream",
     "text": [
      "0% [██████████████████████████████] 100% | ETA: 00:00:00\n",
      "Total time elapsed: 00:00:36\n"
     ]
    },
    {
     "name": "stdout",
     "output_type": "stream",
     "text": [
      "Finished Epoch 13 || Run Time:   22.2 | Load Time:   14.4 || F1:   0.00 | Prec:   0.00 | Rec:   0.00 || Ex/s:   0.00\n",
      "\n"
     ]
    }
   ],
   "source": [
    "return_layer_input_test(model,model.classifier,'datasets/Structured/Walmart-Amazon/','negatives')"
   ]
  },
  {
   "cell_type": "code",
   "execution_count": null,
   "metadata": {
    "ExecuteTime": {
     "start_time": "2020-02-26T20:59:23.710Z"
    }
   },
   "outputs": [
    {
     "name": "stderr",
     "output_type": "stream",
     "text": [
      "[nltk_data] Error loading perluniprops: <urlopen error [Errno -2] Name\n",
      "[nltk_data]     or service not known>\n",
      "[nltk_data] Error loading nonbreaking_prefixes: <urlopen error [Errno\n",
      "[nltk_data]     -2] Name or service not known>\n",
      "[nltk_data] Error loading punkt: <urlopen error [Errno -2] Name or\n",
      "[nltk_data]     service not known>\n"
     ]
    },
    {
     "name": "stdout",
     "output_type": "stream",
     "text": [
      "===>  PREDICT Epoch 13\n"
     ]
    },
    {
     "name": "stderr",
     "output_type": "stream",
     "text": [
      "0% [██████████████████████████████] 100% | ETA: 00:00:00\n",
      "Total time elapsed: 00:00:37\n"
     ]
    },
    {
     "name": "stdout",
     "output_type": "stream",
     "text": [
      "Finished Epoch 13 || Run Time:   22.9 | Load Time:   14.5 || F1:   0.00 | Prec:   0.00 | Rec:   0.00 || Ex/s: 248.38\n",
      "\n"
     ]
    }
   ],
   "source": [
    "return_layer_input_test2(model,model.classifier,'datasets/Structured/Walmart-Amazon/','negatives')"
   ]
  },
  {
   "cell_type": "code",
   "execution_count": 9,
   "metadata": {
    "ExecuteTime": {
     "end_time": "2020-02-26T20:56:02.352902Z",
     "start_time": "2020-02-26T20:56:01.374191Z"
    }
   },
   "outputs": [],
   "source": [
    "model1 = dm.MatchingModel(attr_summarizer='hybrid')\n",
    "model1.load_state('models/itunes_amazon_hybrid.pth')\n",
    "model1 = model1.to('cuda')"
   ]
  },
  {
   "cell_type": "code",
   "execution_count": 15,
   "metadata": {
    "ExecuteTime": {
     "end_time": "2020-02-26T19:25:43.306862Z",
     "start_time": "2020-02-26T19:25:39.763277Z"
    }
   },
   "outputs": [
    {
     "name": "stderr",
     "output_type": "stream",
     "text": [
      "\n",
      "Reading and processing data from \"datasets/Structured/itunes-amazon/positives.csv\"\n",
      "0% [############################# ] 100% | ETA: 00:00:00"
     ]
    },
    {
     "name": "stdout",
     "output_type": "stream",
     "text": [
      "===>  PREDICT Epoch 6\n"
     ]
    },
    {
     "name": "stderr",
     "output_type": "stream",
     "text": [
      "0% [█] 100% | ETA: 00:00:00\n",
      "Total time elapsed: 00:00:01\n"
     ]
    },
    {
     "name": "stdout",
     "output_type": "stream",
     "text": [
      "Finished Epoch 6 || Run Time:    0.9 | Load Time:    0.8 || F1:   0.00 | Prec:   0.00 | Rec:   0.00 || Ex/s:   0.00\n",
      "\n"
     ]
    }
   ],
   "source": [
    "return_layer_input_test(model1,model1.classifier,'datasets/Structured/itunes-amazon','positives')"
   ]
  },
  {
   "cell_type": "code",
   "execution_count": 13,
   "metadata": {
    "ExecuteTime": {
     "end_time": "2020-02-26T20:57:38.442009Z",
     "start_time": "2020-02-26T20:57:38.391895Z"
    }
   },
   "outputs": [],
   "source": [
    "def return_layer_input_test2(model,layer,dataset_dir,dataset_name,batch_size=32,\n",
    "                       device ='cuda',ignore_columns=['label']):\n",
    "    dataset = dm.data.process(dataset_dir,dataset_name+'.csv',cache=dataset_name+'.pth',\n",
    "                      left_prefix='ltable_',right_prefix='rtable_')\n",
    "    original_predictions = model.run_prediction(dataset)\n",
    "    run_iter = MatchingIterator(\n",
    "            dataset,\n",
    "            model.meta,\n",
    "            train=False,\n",
    "            batch_size=batch_size,\n",
    "            device=device,\n",
    "            sort_in_buckets=None)\n",
    "    tupleids = []\n",
    "    layer_inputs = []\n",
    "    hook = layer.register_forward_hook(_return_input)\n",
    "    for batch_idx,batch in enumerate(run_iter):\n",
    "        tupleids.append(batch.id)\n",
    "        model(batch)\n",
    "        layer_inputs.append(current_layer_input)\n",
    "    hook.remove()\n",
    "    for idx,batch in enumerate(layer_inputs):\n",
    "        batch_pred = model.classifier(batch)\n",
    "        for j,pred in enumerate(batch_pred):\n",
    "            match_score = float(pred[1].exp())\n",
    "            originalPred = original_predictions.loc[tupleids[idx][j]]['match_score']\n",
    "        if abs(match_score-originalPred)>=0.01:\n",
    "            print('error')\n",
    "    return"
   ]
  },
  {
   "cell_type": "code",
   "execution_count": 15,
   "metadata": {
    "ExecuteTime": {
     "end_time": "2020-02-26T20:59:04.561411Z",
     "start_time": "2020-02-26T20:59:01.865541Z"
    }
   },
   "outputs": [
    {
     "name": "stderr",
     "output_type": "stream",
     "text": [
      "[nltk_data] Error loading perluniprops: <urlopen error [Errno -2] Name\n",
      "[nltk_data]     or service not known>\n",
      "[nltk_data] Error loading nonbreaking_prefixes: <urlopen error [Errno\n",
      "[nltk_data]     -2] Name or service not known>\n",
      "[nltk_data] Error loading punkt: <urlopen error [Errno -2] Name or\n",
      "[nltk_data]     service not known>\n",
      "WARNING:deepmatcher.data.dataset:Rebuilding data cache because: ['Data file list has changed.']\n",
      "\n",
      "Reading and processing data from \"datasets/Structured/itunes-amazon/test_negatives.csv\"\n",
      "0% [############################# ] 100% | ETA: 00:00:00\n",
      "Building vocabulary\n",
      "0% [#] 100% | ETA: 00:00:00\n",
      "Total time elapsed: 00:00:00\n",
      "\n",
      "Computing principal components\n",
      "0% [#] 100% | ETA: 00:00:00\n",
      "Total time elapsed: 00:00:00\n"
     ]
    },
    {
     "name": "stdout",
     "output_type": "stream",
     "text": [
      "===>  PREDICT Epoch 6\n",
      "Finished Epoch 6 || Run Time:    0.5 | Load Time:    0.5 || F1:   0.00 | Prec:   0.00 | Rec:   0.00 || Ex/s:  80.83\n",
      "\n",
      "error\n",
      "error\n",
      "error\n"
     ]
    }
   ],
   "source": [
    "return_layer_input_test2(model1,model1.classifier,'datasets/Structured/itunes-amazon/',\n",
    "                        'test_negatives')"
   ]
  },
  {
   "cell_type": "markdown",
   "metadata": {},
   "source": [
    "## Test data processing"
   ]
  },
  {
   "cell_type": "code",
   "execution_count": 12,
   "metadata": {
    "ExecuteTime": {
     "end_time": "2020-02-26T22:40:02.446143Z",
     "start_time": "2020-02-26T22:40:02.406365Z"
    }
   },
   "outputs": [],
   "source": [
    "from sklearn.metrics import f1_score"
   ]
  },
  {
   "cell_type": "code",
   "execution_count": 6,
   "metadata": {
    "ExecuteTime": {
     "end_time": "2020-02-26T22:37:04.266971Z",
     "start_time": "2020-02-26T22:37:03.553844Z"
    }
   },
   "outputs": [],
   "source": [
    "model = dm.MatchingModel(attr_summarizer='hybrid')\n",
    "model.load_state('models/walmartamazon_hybrid.pth')\n",
    "model = model.to('cuda')"
   ]
  },
  {
   "cell_type": "code",
   "execution_count": 10,
   "metadata": {
    "ExecuteTime": {
     "end_time": "2020-02-26T22:38:30.715065Z",
     "start_time": "2020-02-26T22:38:25.295255Z"
    }
   },
   "outputs": [
    {
     "name": "stderr",
     "output_type": "stream",
     "text": [
      "\n",
      "Reading and processing data from \"datasets/Structured/Walmart-Amazon/merged_train.csv\"\n",
      "0% [############################# ] 100% | ETA: 00:00:00"
     ]
    }
   ],
   "source": [
    "train = dm.data.process_unlabeled('datasets/Structured/Walmart-Amazon/merged_train.csv',model,\n",
    "                                 ignore_columns=['label'])"
   ]
  },
  {
   "cell_type": "code",
   "execution_count": 22,
   "metadata": {
    "ExecuteTime": {
     "end_time": "2020-02-26T22:43:26.573069Z",
     "start_time": "2020-02-26T22:43:01.777668Z"
    }
   },
   "outputs": [
    {
     "name": "stdout",
     "output_type": "stream",
     "text": [
      "===>  PREDICT Epoch 13\n"
     ]
    },
    {
     "name": "stderr",
     "output_type": "stream",
     "text": [
      "0% [██████████████████████████████] 100% | ETA: 00:00:00\n",
      "Total time elapsed: 00:00:24\n"
     ]
    },
    {
     "name": "stdout",
     "output_type": "stream",
     "text": [
      "Finished Epoch 13 || Run Time:   15.1 | Load Time:    9.3 || F1:   0.00 | Prec:   0.00 | Rec:   0.00 || Ex/s:   0.00\n",
      "\n"
     ]
    }
   ],
   "source": [
    "train_df = pd.read_csv('datasets/Structured/Walmart-Amazon/merged_train.csv')\n",
    "labels = train_df.label.values\n",
    "pred = model.run_prediction(train)['match_score'].values"
   ]
  },
  {
   "cell_type": "code",
   "execution_count": 24,
   "metadata": {
    "ExecuteTime": {
     "end_time": "2020-02-26T22:44:23.394129Z",
     "start_time": "2020-02-26T22:44:23.331847Z"
    }
   },
   "outputs": [
    {
     "data": {
      "text/plain": [
       "0.9879931389365352"
      ]
     },
     "execution_count": 24,
     "metadata": {},
     "output_type": "execute_result"
    }
   ],
   "source": [
    "f1_score(labels,list(map(lambda p:round(p),pred)))"
   ]
  },
  {
   "cell_type": "code",
   "execution_count": 17,
   "metadata": {
    "ExecuteTime": {
     "end_time": "2020-02-26T21:27:58.891247Z",
     "start_time": "2020-02-26T21:27:50.316655Z"
    }
   },
   "outputs": [
    {
     "name": "stdout",
     "output_type": "stream",
     "text": [
      "===>  EVAL Epoch 13\n"
     ]
    },
    {
     "name": "stderr",
     "output_type": "stream",
     "text": [
      "0% [█████████████] 100% | ETA: 00:00:00\n",
      "Total time elapsed: 00:00:08\n"
     ]
    },
    {
     "name": "stdout",
     "output_type": "stream",
     "text": [
      "Finished Epoch 13 || Run Time:    5.1 | Load Time:    3.4 || F1:  64.23 | Prec:  60.55 | Rec:  68.39 || Ex/s: 240.22\n",
      "\n"
     ]
    },
    {
     "data": {
      "text/plain": [
       "tensor(64.2336, device='cuda:0')"
      ]
     },
     "execution_count": 17,
     "metadata": {},
     "output_type": "execute_result"
    }
   ],
   "source": [
    "validation = dm.data.process_unlabeled('datasets/Structured/Walmart-Amazon/merged_vali.csv',model,\n",
    "                                 ignore_columns=['label'])\n",
    "validation_df = pd.read_csv('datasets/Structured/Walmart-Amazon/merged_valid.csv')\n",
    "labels = validation.label.values\n",
    "pred = model.run_prediction(train)['match_score'].values"
   ]
  },
  {
   "cell_type": "code",
   "execution_count": 15,
   "metadata": {
    "ExecuteTime": {
     "end_time": "2020-02-26T21:27:21.030499Z",
     "start_time": "2020-02-26T21:27:12.324212Z"
    }
   },
   "outputs": [
    {
     "name": "stdout",
     "output_type": "stream",
     "text": [
      "===>  EVAL Epoch 13\n"
     ]
    },
    {
     "name": "stderr",
     "output_type": "stream",
     "text": [
      "0% [█████████████] 100% | ETA: 00:00:00\n",
      "Total time elapsed: 00:00:08\n"
     ]
    },
    {
     "name": "stdout",
     "output_type": "stream",
     "text": [
      "Finished Epoch 13 || Run Time:    5.2 | Load Time:    3.5 || F1:  61.58 | Prec:  62.57 | Rec:  60.62 || Ex/s: 236.90\n",
      "\n"
     ]
    },
    {
     "data": {
      "text/plain": [
       "tensor(61.5789, device='cuda:0')"
      ]
     },
     "execution_count": 15,
     "metadata": {},
     "output_type": "execute_result"
    }
   ],
   "source": [
    "model.run_eval(neg3)"
   ]
  },
  {
   "cell_type": "markdown",
   "metadata": {},
   "source": []
  }
 ],
 "metadata": {
  "kernelspec": {
   "display_name": "Python 3",
   "language": "python",
   "name": "python3"
  },
  "language_info": {
   "codemirror_mode": {
    "name": "ipython",
    "version": 3
   },
   "file_extension": ".py",
   "mimetype": "text/x-python",
   "name": "python",
   "nbconvert_exporter": "python",
   "pygments_lexer": "ipython3",
   "version": "3.6.10"
  },
  "toc": {
   "base_numbering": 1,
   "nav_menu": {},
   "number_sections": true,
   "sideBar": true,
   "skip_h1_title": false,
   "title_cell": "Table of Contents",
   "title_sidebar": "Contents",
   "toc_cell": false,
   "toc_position": {},
   "toc_section_display": true,
   "toc_window_display": true
  }
 },
 "nbformat": 4,
 "nbformat_minor": 4
}

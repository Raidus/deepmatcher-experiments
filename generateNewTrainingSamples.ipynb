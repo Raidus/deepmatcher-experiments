{
 "cells": [
  {
   "cell_type": "markdown",
   "metadata": {},
   "source": [
    "## Generazione nuovi esempi di training"
   ]
  },
  {
   "cell_type": "code",
   "execution_count": 1,
   "metadata": {},
   "outputs": [
    {
     "name": "stdout",
     "output_type": "stream",
     "text": [
      "ls: cannot access 'itunes_amazon': No such file or directory\r\n"
     ]
    }
   ],
   "source": [
    "!ls itunes_amazon"
   ]
  },
  {
   "cell_type": "code",
   "execution_count": 2,
   "metadata": {},
   "outputs": [],
   "source": [
    "import os\n",
    "import pandas as pd\n",
    "dir_path='itunes_amazon'\n",
    "tableA_df = pd.read_csv(os.path.join(dir_path,'tableA.csv'))\n",
    "tableB_df = pd.read_csv(os.path.join(dir_path,'tableB.csv'))"
   ]
  },
  {
   "cell_type": "code",
   "execution_count": 3,
   "metadata": {},
   "outputs": [
    {
     "data": {
      "text/html": [
       "<div>\n",
       "<style scoped>\n",
       "    .dataframe tbody tr th:only-of-type {\n",
       "        vertical-align: middle;\n",
       "    }\n",
       "\n",
       "    .dataframe tbody tr th {\n",
       "        vertical-align: top;\n",
       "    }\n",
       "\n",
       "    .dataframe thead th {\n",
       "        text-align: right;\n",
       "    }\n",
       "</style>\n",
       "<table border=\"1\" class=\"dataframe\">\n",
       "  <thead>\n",
       "    <tr style=\"text-align: right;\">\n",
       "      <th></th>\n",
       "      <th>id</th>\n",
       "      <th>Song_Name</th>\n",
       "      <th>Artist_Name</th>\n",
       "      <th>Album_Name</th>\n",
       "      <th>Genre</th>\n",
       "      <th>Price</th>\n",
       "      <th>CopyRight</th>\n",
       "      <th>Time</th>\n",
       "      <th>Released</th>\n",
       "    </tr>\n",
       "  </thead>\n",
       "  <tbody>\n",
       "    <tr>\n",
       "      <th>0</th>\n",
       "      <td>0</td>\n",
       "      <td>Runaway Train</td>\n",
       "      <td>Cam</td>\n",
       "      <td>Welcome to Cam Country - EP</td>\n",
       "      <td>Country , Music , Contemporary Country , Honky...</td>\n",
       "      <td>$ 0.99</td>\n",
       "      <td>2015 Sony Music Entertainment</td>\n",
       "      <td>3:01</td>\n",
       "      <td>31-Mar-15</td>\n",
       "    </tr>\n",
       "    <tr>\n",
       "      <th>1</th>\n",
       "      <td>1</td>\n",
       "      <td>Track 14</td>\n",
       "      <td>Omi</td>\n",
       "      <td>Me 4 U</td>\n",
       "      <td>Pop/Rock , Music , Pop , Dance , R&amp;B / Soul</td>\n",
       "      <td>Album Only</td>\n",
       "      <td>2015 Ultra Records , LLC under exclusive licen...</td>\n",
       "      <td>3:41</td>\n",
       "      <td>NaN</td>\n",
       "    </tr>\n",
       "    <tr>\n",
       "      <th>2</th>\n",
       "      <td>2</td>\n",
       "      <td>Lips Are Movin</td>\n",
       "      <td>Meghan Trainor</td>\n",
       "      <td>Title</td>\n",
       "      <td>Pop , Music , Pop/Rock , Dance , Rock , Teen Pop</td>\n",
       "      <td>$ 1.29</td>\n",
       "      <td>2014 , 2015 Epic Records , a division of Sony ...</td>\n",
       "      <td>3:01</td>\n",
       "      <td>9-Jan-15</td>\n",
       "    </tr>\n",
       "    <tr>\n",
       "      <th>3</th>\n",
       "      <td>3</td>\n",
       "      <td>I Want a Hippopotamus for Christmas</td>\n",
       "      <td>A Great Big World</td>\n",
       "      <td>I 'll Be Home For Christmas</td>\n",
       "      <td>Holiday , Music</td>\n",
       "      <td>$ 1.29</td>\n",
       "      <td>Compilation ( P ) 2014 Epic Records , a divisi...</td>\n",
       "      <td>2:20</td>\n",
       "      <td>24-Nov-14</td>\n",
       "    </tr>\n",
       "    <tr>\n",
       "      <th>4</th>\n",
       "      <td>4</td>\n",
       "      <td>Credit</td>\n",
       "      <td>Meghan Trainor</td>\n",
       "      <td>Title ( Deluxe )</td>\n",
       "      <td>Pop , Music , Rock , Pop/Rock , Dance , Teen Pop</td>\n",
       "      <td>$ 1.29</td>\n",
       "      <td>2014 , 2015 Epic Records , a division of Sony ...</td>\n",
       "      <td>2:51</td>\n",
       "      <td>9-Jan-15</td>\n",
       "    </tr>\n",
       "  </tbody>\n",
       "</table>\n",
       "</div>"
      ],
      "text/plain": [
       "   id                            Song_Name        Artist_Name  \\\n",
       "0   0                        Runaway Train                Cam   \n",
       "1   1                             Track 14                Omi   \n",
       "2   2                       Lips Are Movin     Meghan Trainor   \n",
       "3   3  I Want a Hippopotamus for Christmas  A Great Big World   \n",
       "4   4                               Credit     Meghan Trainor   \n",
       "\n",
       "                    Album_Name  \\\n",
       "0  Welcome to Cam Country - EP   \n",
       "1                       Me 4 U   \n",
       "2                        Title   \n",
       "3  I 'll Be Home For Christmas   \n",
       "4             Title ( Deluxe )   \n",
       "\n",
       "                                               Genre       Price  \\\n",
       "0  Country , Music , Contemporary Country , Honky...      $ 0.99   \n",
       "1        Pop/Rock , Music , Pop , Dance , R&B / Soul  Album Only   \n",
       "2   Pop , Music , Pop/Rock , Dance , Rock , Teen Pop      $ 1.29   \n",
       "3                                    Holiday , Music      $ 1.29   \n",
       "4   Pop , Music , Rock , Pop/Rock , Dance , Teen Pop      $ 1.29   \n",
       "\n",
       "                                           CopyRight  Time   Released  \n",
       "0                      2015 Sony Music Entertainment  3:01  31-Mar-15  \n",
       "1  2015 Ultra Records , LLC under exclusive licen...  3:41        NaN  \n",
       "2  2014 , 2015 Epic Records , a division of Sony ...  3:01   9-Jan-15  \n",
       "3  Compilation ( P ) 2014 Epic Records , a divisi...  2:20  24-Nov-14  \n",
       "4  2014 , 2015 Epic Records , a division of Sony ...  2:51   9-Jan-15  "
      ]
     },
     "execution_count": 3,
     "metadata": {},
     "output_type": "execute_result"
    }
   ],
   "source": [
    "tableA_df.head()"
   ]
  },
  {
   "cell_type": "code",
   "execution_count": 4,
   "metadata": {},
   "outputs": [
    {
     "data": {
      "text/html": [
       "<div>\n",
       "<style scoped>\n",
       "    .dataframe tbody tr th:only-of-type {\n",
       "        vertical-align: middle;\n",
       "    }\n",
       "\n",
       "    .dataframe tbody tr th {\n",
       "        vertical-align: top;\n",
       "    }\n",
       "\n",
       "    .dataframe thead th {\n",
       "        text-align: right;\n",
       "    }\n",
       "</style>\n",
       "<table border=\"1\" class=\"dataframe\">\n",
       "  <thead>\n",
       "    <tr style=\"text-align: right;\">\n",
       "      <th></th>\n",
       "      <th>id</th>\n",
       "      <th>Song_Name</th>\n",
       "      <th>Artist_Name</th>\n",
       "      <th>Album_Name</th>\n",
       "      <th>Genre</th>\n",
       "      <th>Price</th>\n",
       "      <th>CopyRight</th>\n",
       "      <th>Time</th>\n",
       "      <th>Released</th>\n",
       "    </tr>\n",
       "  </thead>\n",
       "  <tbody>\n",
       "    <tr>\n",
       "      <th>55918</th>\n",
       "      <td>55918</td>\n",
       "      <td>Bloodstream</td>\n",
       "      <td>Ed Sheeran</td>\n",
       "      <td>x</td>\n",
       "      <td>Pop</td>\n",
       "      <td>$ 1.29</td>\n",
       "      <td>( C ) 2014 mau5trap Recordings Ltd</td>\n",
       "      <td>5:00</td>\n",
       "      <td>June 20 , 2014</td>\n",
       "    </tr>\n",
       "    <tr>\n",
       "      <th>55919</th>\n",
       "      <td>55919</td>\n",
       "      <td>Tenerife Sea</td>\n",
       "      <td>Ed Sheeran</td>\n",
       "      <td>x</td>\n",
       "      <td>Pop</td>\n",
       "      <td>$ 1.29</td>\n",
       "      <td>( C ) 2014 mau5trap Recordings Ltd</td>\n",
       "      <td>4:01</td>\n",
       "      <td>June 20 , 2014</td>\n",
       "    </tr>\n",
       "    <tr>\n",
       "      <th>55920</th>\n",
       "      <td>55920</td>\n",
       "      <td>Runaway</td>\n",
       "      <td>Ed Sheeran</td>\n",
       "      <td>x</td>\n",
       "      <td>Pop</td>\n",
       "      <td>$ 1.29</td>\n",
       "      <td>( C ) 2014 mau5trap Recordings Ltd</td>\n",
       "      <td>3:25</td>\n",
       "      <td>June 20 , 2014</td>\n",
       "    </tr>\n",
       "    <tr>\n",
       "      <th>55921</th>\n",
       "      <td>55921</td>\n",
       "      <td>The Man</td>\n",
       "      <td>Ed Sheeran</td>\n",
       "      <td>x</td>\n",
       "      <td>Pop</td>\n",
       "      <td>$ 1.29</td>\n",
       "      <td>( C ) 2014 mau5trap Recordings Ltd</td>\n",
       "      <td>4:10</td>\n",
       "      <td>June 20 , 2014</td>\n",
       "    </tr>\n",
       "    <tr>\n",
       "      <th>55922</th>\n",
       "      <td>55922</td>\n",
       "      <td>Thinking Out Loud</td>\n",
       "      <td>Ed Sheeran</td>\n",
       "      <td>x</td>\n",
       "      <td>Pop</td>\n",
       "      <td>$ 1.29</td>\n",
       "      <td>( C ) 2014 mau5trap Recordings Ltd</td>\n",
       "      <td>4:41</td>\n",
       "      <td>June 20 , 2014</td>\n",
       "    </tr>\n",
       "  </tbody>\n",
       "</table>\n",
       "</div>"
      ],
      "text/plain": [
       "          id          Song_Name Artist_Name Album_Name Genre   Price  \\\n",
       "55918  55918        Bloodstream  Ed Sheeran          x   Pop  $ 1.29   \n",
       "55919  55919       Tenerife Sea  Ed Sheeran          x   Pop  $ 1.29   \n",
       "55920  55920            Runaway  Ed Sheeran          x   Pop  $ 1.29   \n",
       "55921  55921            The Man  Ed Sheeran          x   Pop  $ 1.29   \n",
       "55922  55922  Thinking Out Loud  Ed Sheeran          x   Pop  $ 1.29   \n",
       "\n",
       "                                CopyRight  Time        Released  \n",
       "55918  ( C ) 2014 mau5trap Recordings Ltd  5:00  June 20 , 2014  \n",
       "55919  ( C ) 2014 mau5trap Recordings Ltd  4:01  June 20 , 2014  \n",
       "55920  ( C ) 2014 mau5trap Recordings Ltd  3:25  June 20 , 2014  \n",
       "55921  ( C ) 2014 mau5trap Recordings Ltd  4:10  June 20 , 2014  \n",
       "55922  ( C ) 2014 mau5trap Recordings Ltd  4:41  June 20 , 2014  "
      ]
     },
     "execution_count": 4,
     "metadata": {},
     "output_type": "execute_result"
    }
   ],
   "source": [
    "tableB_df.tail()"
   ]
  },
  {
   "cell_type": "code",
   "execution_count": 6,
   "metadata": {},
   "outputs": [],
   "source": [
    "tableA_df['Artist_Name']= tableA_df['Artist_Name'].apply(lambda s: s.lower())\n",
    "tableA_df['Song_Name']= tableA_df['Song_Name'].apply(lambda s: s.lower())"
   ]
  },
  {
   "cell_type": "code",
   "execution_count": 7,
   "metadata": {},
   "outputs": [
    {
     "data": {
      "text/html": [
       "<div>\n",
       "<style scoped>\n",
       "    .dataframe tbody tr th:only-of-type {\n",
       "        vertical-align: middle;\n",
       "    }\n",
       "\n",
       "    .dataframe tbody tr th {\n",
       "        vertical-align: top;\n",
       "    }\n",
       "\n",
       "    .dataframe thead th {\n",
       "        text-align: right;\n",
       "    }\n",
       "</style>\n",
       "<table border=\"1\" class=\"dataframe\">\n",
       "  <thead>\n",
       "    <tr style=\"text-align: right;\">\n",
       "      <th></th>\n",
       "      <th>id</th>\n",
       "      <th>Song_Name</th>\n",
       "      <th>Artist_Name</th>\n",
       "      <th>Album_Name</th>\n",
       "      <th>Genre</th>\n",
       "      <th>Price</th>\n",
       "      <th>CopyRight</th>\n",
       "      <th>Time</th>\n",
       "      <th>Released</th>\n",
       "    </tr>\n",
       "  </thead>\n",
       "  <tbody>\n",
       "    <tr>\n",
       "      <th>0</th>\n",
       "      <td>0</td>\n",
       "      <td>runaway train</td>\n",
       "      <td>cam</td>\n",
       "      <td>Welcome to Cam Country - EP</td>\n",
       "      <td>Country , Music , Contemporary Country , Honky...</td>\n",
       "      <td>$ 0.99</td>\n",
       "      <td>2015 Sony Music Entertainment</td>\n",
       "      <td>3:01</td>\n",
       "      <td>31-Mar-15</td>\n",
       "    </tr>\n",
       "    <tr>\n",
       "      <th>1</th>\n",
       "      <td>1</td>\n",
       "      <td>track 14</td>\n",
       "      <td>omi</td>\n",
       "      <td>Me 4 U</td>\n",
       "      <td>Pop/Rock , Music , Pop , Dance , R&amp;B / Soul</td>\n",
       "      <td>Album Only</td>\n",
       "      <td>2015 Ultra Records , LLC under exclusive licen...</td>\n",
       "      <td>3:41</td>\n",
       "      <td>NaN</td>\n",
       "    </tr>\n",
       "    <tr>\n",
       "      <th>2</th>\n",
       "      <td>2</td>\n",
       "      <td>lips are movin</td>\n",
       "      <td>meghan trainor</td>\n",
       "      <td>Title</td>\n",
       "      <td>Pop , Music , Pop/Rock , Dance , Rock , Teen Pop</td>\n",
       "      <td>$ 1.29</td>\n",
       "      <td>2014 , 2015 Epic Records , a division of Sony ...</td>\n",
       "      <td>3:01</td>\n",
       "      <td>9-Jan-15</td>\n",
       "    </tr>\n",
       "    <tr>\n",
       "      <th>3</th>\n",
       "      <td>3</td>\n",
       "      <td>i want a hippopotamus for christmas</td>\n",
       "      <td>a great big world</td>\n",
       "      <td>I 'll Be Home For Christmas</td>\n",
       "      <td>Holiday , Music</td>\n",
       "      <td>$ 1.29</td>\n",
       "      <td>Compilation ( P ) 2014 Epic Records , a divisi...</td>\n",
       "      <td>2:20</td>\n",
       "      <td>24-Nov-14</td>\n",
       "    </tr>\n",
       "    <tr>\n",
       "      <th>4</th>\n",
       "      <td>4</td>\n",
       "      <td>credit</td>\n",
       "      <td>meghan trainor</td>\n",
       "      <td>Title ( Deluxe )</td>\n",
       "      <td>Pop , Music , Rock , Pop/Rock , Dance , Teen Pop</td>\n",
       "      <td>$ 1.29</td>\n",
       "      <td>2014 , 2015 Epic Records , a division of Sony ...</td>\n",
       "      <td>2:51</td>\n",
       "      <td>9-Jan-15</td>\n",
       "    </tr>\n",
       "  </tbody>\n",
       "</table>\n",
       "</div>"
      ],
      "text/plain": [
       "   id                            Song_Name        Artist_Name  \\\n",
       "0   0                        runaway train                cam   \n",
       "1   1                             track 14                omi   \n",
       "2   2                       lips are movin     meghan trainor   \n",
       "3   3  i want a hippopotamus for christmas  a great big world   \n",
       "4   4                               credit     meghan trainor   \n",
       "\n",
       "                    Album_Name  \\\n",
       "0  Welcome to Cam Country - EP   \n",
       "1                       Me 4 U   \n",
       "2                        Title   \n",
       "3  I 'll Be Home For Christmas   \n",
       "4             Title ( Deluxe )   \n",
       "\n",
       "                                               Genre       Price  \\\n",
       "0  Country , Music , Contemporary Country , Honky...      $ 0.99   \n",
       "1        Pop/Rock , Music , Pop , Dance , R&B / Soul  Album Only   \n",
       "2   Pop , Music , Pop/Rock , Dance , Rock , Teen Pop      $ 1.29   \n",
       "3                                    Holiday , Music      $ 1.29   \n",
       "4   Pop , Music , Rock , Pop/Rock , Dance , Teen Pop      $ 1.29   \n",
       "\n",
       "                                           CopyRight  Time   Released  \n",
       "0                      2015 Sony Music Entertainment  3:01  31-Mar-15  \n",
       "1  2015 Ultra Records , LLC under exclusive licen...  3:41        NaN  \n",
       "2  2014 , 2015 Epic Records , a division of Sony ...  3:01   9-Jan-15  \n",
       "3  Compilation ( P ) 2014 Epic Records , a divisi...  2:20  24-Nov-14  \n",
       "4  2014 , 2015 Epic Records , a division of Sony ...  2:51   9-Jan-15  "
      ]
     },
     "execution_count": 7,
     "metadata": {},
     "output_type": "execute_result"
    }
   ],
   "source": [
    "tableA_df.head()"
   ]
  },
  {
   "cell_type": "code",
   "execution_count": 8,
   "metadata": {},
   "outputs": [],
   "source": [
    "tableB_df['Artist_Name']= tableB_df['Artist_Name'].apply(lambda s: s.lower())\n",
    "tableB_df['Song_Name']= tableB_df['Song_Name'].apply(lambda s: s.lower())"
   ]
  },
  {
   "cell_type": "code",
   "execution_count": 9,
   "metadata": {},
   "outputs": [
    {
     "data": {
      "text/html": [
       "<div>\n",
       "<style scoped>\n",
       "    .dataframe tbody tr th:only-of-type {\n",
       "        vertical-align: middle;\n",
       "    }\n",
       "\n",
       "    .dataframe tbody tr th {\n",
       "        vertical-align: top;\n",
       "    }\n",
       "\n",
       "    .dataframe thead th {\n",
       "        text-align: right;\n",
       "    }\n",
       "</style>\n",
       "<table border=\"1\" class=\"dataframe\">\n",
       "  <thead>\n",
       "    <tr style=\"text-align: right;\">\n",
       "      <th></th>\n",
       "      <th>id</th>\n",
       "      <th>Song_Name</th>\n",
       "      <th>Artist_Name</th>\n",
       "      <th>Album_Name</th>\n",
       "      <th>Genre</th>\n",
       "      <th>Price</th>\n",
       "      <th>CopyRight</th>\n",
       "      <th>Time</th>\n",
       "      <th>Released</th>\n",
       "    </tr>\n",
       "  </thead>\n",
       "  <tbody>\n",
       "    <tr>\n",
       "      <th>0</th>\n",
       "      <td>0</td>\n",
       "      <td>saxophone stomp [ explicit ]</td>\n",
       "      <td>rusko</td>\n",
       "      <td>! ( Volume 2 ) [ Explicit ]</td>\n",
       "      <td>Dance &amp; Electronic , Dubstep</td>\n",
       "      <td>$ 1.29</td>\n",
       "      <td>( C ) 2014 FMLY Under Exclusive License To Uni...</td>\n",
       "      <td>3:20</td>\n",
       "      <td>September 16 , 2014</td>\n",
       "    </tr>\n",
       "    <tr>\n",
       "      <th>1</th>\n",
       "      <td>1</td>\n",
       "      <td>i wan na mingle [ feat . pusher ]</td>\n",
       "      <td>rusko</td>\n",
       "      <td>! ( Volume 2 ) [ Explicit ]</td>\n",
       "      <td>Dance &amp; Electronic , Dubstep</td>\n",
       "      <td>$ 1.29</td>\n",
       "      <td>( C ) 2014 FMLY Under Exclusive License To Uni...</td>\n",
       "      <td>2:36</td>\n",
       "      <td>September 16 , 2014</td>\n",
       "    </tr>\n",
       "    <tr>\n",
       "      <th>2</th>\n",
       "      <td>2</td>\n",
       "      <td>lytah</td>\n",
       "      <td>rusko</td>\n",
       "      <td>! ( Volume 2 ) [ Explicit ]</td>\n",
       "      <td>Dance &amp; Electronic , Dubstep</td>\n",
       "      <td>$ 1.29</td>\n",
       "      <td>( C ) 2014 FMLY Under Exclusive License To Uni...</td>\n",
       "      <td>3:48</td>\n",
       "      <td>September 16 , 2014</td>\n",
       "    </tr>\n",
       "    <tr>\n",
       "      <th>3</th>\n",
       "      <td>3</td>\n",
       "      <td>slappy pappy</td>\n",
       "      <td>rusko</td>\n",
       "      <td>! ( Volume 2 ) [ Explicit ]</td>\n",
       "      <td>Dance &amp; Electronic , Dubstep</td>\n",
       "      <td>$ 1.29</td>\n",
       "      <td>( C ) 2014 FMLY Under Exclusive License To Uni...</td>\n",
       "      <td>3:55</td>\n",
       "      <td>September 16 , 2014</td>\n",
       "    </tr>\n",
       "    <tr>\n",
       "      <th>4</th>\n",
       "      <td>4</td>\n",
       "      <td>fushion jam</td>\n",
       "      <td>rusko</td>\n",
       "      <td>! ( Volume 2 ) [ Explicit ]</td>\n",
       "      <td>Dance &amp; Electronic , Dubstep</td>\n",
       "      <td>$ 1.29</td>\n",
       "      <td>( C ) 2014 FMLY Under Exclusive License To Uni...</td>\n",
       "      <td>1:48</td>\n",
       "      <td>September 16 , 2014</td>\n",
       "    </tr>\n",
       "  </tbody>\n",
       "</table>\n",
       "</div>"
      ],
      "text/plain": [
       "   id                          Song_Name Artist_Name  \\\n",
       "0   0       saxophone stomp [ explicit ]       rusko   \n",
       "1   1  i wan na mingle [ feat . pusher ]       rusko   \n",
       "2   2                              lytah       rusko   \n",
       "3   3                       slappy pappy       rusko   \n",
       "4   4                        fushion jam       rusko   \n",
       "\n",
       "                    Album_Name                         Genre   Price  \\\n",
       "0  ! ( Volume 2 ) [ Explicit ]  Dance & Electronic , Dubstep  $ 1.29   \n",
       "1  ! ( Volume 2 ) [ Explicit ]  Dance & Electronic , Dubstep  $ 1.29   \n",
       "2  ! ( Volume 2 ) [ Explicit ]  Dance & Electronic , Dubstep  $ 1.29   \n",
       "3  ! ( Volume 2 ) [ Explicit ]  Dance & Electronic , Dubstep  $ 1.29   \n",
       "4  ! ( Volume 2 ) [ Explicit ]  Dance & Electronic , Dubstep  $ 1.29   \n",
       "\n",
       "                                           CopyRight  Time  \\\n",
       "0  ( C ) 2014 FMLY Under Exclusive License To Uni...  3:20   \n",
       "1  ( C ) 2014 FMLY Under Exclusive License To Uni...  2:36   \n",
       "2  ( C ) 2014 FMLY Under Exclusive License To Uni...  3:48   \n",
       "3  ( C ) 2014 FMLY Under Exclusive License To Uni...  3:55   \n",
       "4  ( C ) 2014 FMLY Under Exclusive License To Uni...  1:48   \n",
       "\n",
       "              Released  \n",
       "0  September 16 , 2014  \n",
       "1  September 16 , 2014  \n",
       "2  September 16 , 2014  \n",
       "3  September 16 , 2014  \n",
       "4  September 16 , 2014  "
      ]
     },
     "execution_count": 9,
     "metadata": {},
     "output_type": "execute_result"
    }
   ],
   "source": [
    "tableB_df.head()"
   ]
  },
  {
   "cell_type": "code",
   "execution_count": 10,
   "metadata": {},
   "outputs": [],
   "source": [
    "def minimumEditDistance(s1,s2):\n",
    "    if len(s1) > len(s2):\n",
    "        s1,s2 = s2,s1\n",
    "    distances = range(len(s1) + 1)\n",
    "    for index2,char2 in enumerate(s2):\n",
    "        newDistances = [index2+1]\n",
    "        for index1,char1 in enumerate(s1):\n",
    "            if char1 == char2:\n",
    "                newDistances.append(distances[index1])\n",
    "            else:\n",
    "                newDistances.append(1 + min((distances[index1],\n",
    "                                             distances[index1+1],\n",
    "                                             newDistances[-1])))\n",
    "        distances = newDistances\n",
    "    return distances[-1]"
   ]
  },
  {
   "cell_type": "code",
   "execution_count": 11,
   "metadata": {},
   "outputs": [],
   "source": [
    "def jaccard_distance(list1, list2):\n",
    "    intersection = len(list(set(list1).intersection(list2)))\n",
    "    #print(list(set(list1).intersection(list2)))\n",
    "    union = (len(list1) + len(list2)) - intersection\n",
    "    return float((union-intersection) / union)"
   ]
  },
  {
   "cell_type": "code",
   "execution_count": 12,
   "metadata": {},
   "outputs": [
    {
     "name": "stdout",
     "output_type": "stream",
     "text": [
      "[nltk_data] Downloading package stopwords to /home/nvidia/nltk_data...\n",
      "[nltk_data]   Package stopwords is already up-to-date!\n"
     ]
    }
   ],
   "source": [
    "import nltk\n",
    "stopwords = nltk.download(\"stopwords\")\n",
    "\n",
    "from nltk.tokenize import RegexpTokenizer\n",
    "from nltk.corpus import stopwords\n",
    "tokenizer = RegexpTokenizer(r'\\w+')\n",
    "stop_words = set(stopwords.words('english'))\n",
    "stop_words.update(['.', ',', '\"', \"'\", ':', ';', '(', ')', '[', ']', '{', '}'])"
   ]
  },
  {
   "cell_type": "code",
   "execution_count": 14,
   "metadata": {},
   "outputs": [
    {
     "data": {
      "text/plain": [
       "0"
      ]
     },
     "execution_count": 14,
     "metadata": {},
     "output_type": "execute_result"
    }
   ],
   "source": [
    "minimumEditDistance(\"Jason\",\"Jason\")"
   ]
  },
  {
   "cell_type": "code",
   "execution_count": 15,
   "metadata": {},
   "outputs": [
    {
     "data": {
      "text/plain": [
       "3"
      ]
     },
     "execution_count": 15,
     "metadata": {},
     "output_type": "execute_result"
    }
   ],
   "source": [
    "minimumEditDistance(\"I want to break free\",\"I want to break thea\")"
   ]
  },
  {
   "cell_type": "code",
   "execution_count": 16,
   "metadata": {},
   "outputs": [
    {
     "data": {
      "text/plain": [
       "6"
      ]
     },
     "execution_count": 16,
     "metadata": {},
     "output_type": "execute_result"
    }
   ],
   "source": [
    "minimumEditDistance(\"i am break free\",\"i want to break free\")"
   ]
  },
  {
   "cell_type": "code",
   "execution_count": 17,
   "metadata": {},
   "outputs": [
    {
     "data": {
      "text/plain": [
       "(321, 3)"
      ]
     },
     "execution_count": 17,
     "metadata": {},
     "output_type": "execute_result"
    }
   ],
   "source": [
    "train_df = pd.read_csv(os.path.join(dir_path,'train.csv'))\n",
    "train_df.shape"
   ]
  },
  {
   "cell_type": "code",
   "execution_count": 13,
   "metadata": {},
   "outputs": [],
   "source": [
    "def get_clean_tokens(s):\n",
    "    tokens =tokenizer.tokenize(s)\n",
    "    return [word for word in tokens if word not in stop_words]"
   ]
  },
  {
   "cell_type": "markdown",
   "metadata": {},
   "source": [
    "## Ricerca di canzoni non matching tramite jaccard similarity"
   ]
  },
  {
   "cell_type": "code",
   "execution_count": 15,
   "metadata": {},
   "outputs": [],
   "source": [
    "import random\n",
    "new_samples ={\"ltable_id\":[],'rtable_id':[],'label':[],'l_artist':[],'l_song':[],'r_artist':[],'r_song':[],'ltime':[],\n",
    "             'rtime':[]}\n",
    "for i in range(200):\n",
    "    k = random.randint(0,tableA_df.shape[0]-1)\n",
    "    l_row = tableA_df.iloc[k]\n",
    "    ltime = l_row['Time']\n",
    "    tableB_same_time = tableB_df[tableB_df['Time']==ltime]\n",
    "    ##necessario perche' potrebbero non esserci canzoni in b con la stessa durata che quella di a\n",
    "    l_id = l_row['id']\n",
    "    l_artist = l_row['Artist_Name']\n",
    "    l_song = l_row['Song_Name']\n",
    "    l_artist_cleaned = get_clean_tokens(l_artist)\n",
    "    l_song_cleanead = get_clean_tokens(l_song)\n",
    "    found = False\n",
    "    if(tableB_same_time.shape[0]==0):\n",
    "        continue\n",
    "    while(not found):\n",
    "        j = random.randint(0,tableB_same_time.shape[0]-1)\n",
    "        r_row = tableB_same_time.iloc[j]\n",
    "        r_id = r_row['id']\n",
    "        rtime= r_row['Time']\n",
    "        r_artist = r_row['Artist_Name']\n",
    "        r_song = r_row['Song_Name']\n",
    "        r_song_cleaned = get_clean_tokens(r_song)\n",
    "        r_artist_clean = get_clean_tokens(r_artist)\n",
    "        if (jaccard_distance(l_artist_cleaned,r_song_cleaned)>=0.7 or jaccard_distance(l_song_cleanead,r_song_cleaned) >=0.7):\n",
    "            found =True\n",
    "    new_samples['ltable_id'].append(l_id)\n",
    "    new_samples['rtable_id'].append(r_id)\n",
    "    new_samples['l_artist'].append(l_artist)\n",
    "    new_samples['l_song'].append(l_song)\n",
    "    new_samples['r_song'].append(r_song)\n",
    "    new_samples['r_artist'].append(r_artist)\n",
    "    new_samples['rtime'].append(rtime)\n",
    "    new_samples['ltime'].append(ltime)\n",
    "    new_samples['label'].append(0)"
   ]
  },
  {
   "cell_type": "code",
   "execution_count": 16,
   "metadata": {},
   "outputs": [],
   "source": [
    "new_samples_df = pd.DataFrame(new_samples)"
   ]
  },
  {
   "cell_type": "code",
   "execution_count": 17,
   "metadata": {},
   "outputs": [
    {
     "data": {
      "text/plain": [
       "(196, 9)"
      ]
     },
     "execution_count": 17,
     "metadata": {},
     "output_type": "execute_result"
    }
   ],
   "source": [
    "new_samples_df.shape"
   ]
  },
  {
   "cell_type": "code",
   "execution_count": 18,
   "metadata": {},
   "outputs": [
    {
     "data": {
      "text/html": [
       "<div>\n",
       "<style scoped>\n",
       "    .dataframe tbody tr th:only-of-type {\n",
       "        vertical-align: middle;\n",
       "    }\n",
       "\n",
       "    .dataframe tbody tr th {\n",
       "        vertical-align: top;\n",
       "    }\n",
       "\n",
       "    .dataframe thead th {\n",
       "        text-align: right;\n",
       "    }\n",
       "</style>\n",
       "<table border=\"1\" class=\"dataframe\">\n",
       "  <thead>\n",
       "    <tr style=\"text-align: right;\">\n",
       "      <th></th>\n",
       "      <th>ltable_id</th>\n",
       "      <th>rtable_id</th>\n",
       "      <th>label</th>\n",
       "      <th>l_artist</th>\n",
       "      <th>l_song</th>\n",
       "      <th>r_artist</th>\n",
       "      <th>r_song</th>\n",
       "      <th>ltime</th>\n",
       "      <th>rtime</th>\n",
       "    </tr>\n",
       "  </thead>\n",
       "  <tbody>\n",
       "    <tr>\n",
       "      <th>0</th>\n",
       "      <td>1200</td>\n",
       "      <td>44065</td>\n",
       "      <td>0</td>\n",
       "      <td>david guetta</td>\n",
       "      <td>the whisperer ( feat . sia )</td>\n",
       "      <td>taylor swift</td>\n",
       "      <td>tim mcgraw</td>\n",
       "      <td>3:54</td>\n",
       "      <td>3:54</td>\n",
       "    </tr>\n",
       "    <tr>\n",
       "      <th>1</th>\n",
       "      <td>3442</td>\n",
       "      <td>12858</td>\n",
       "      <td>0</td>\n",
       "      <td>wiz khalifa</td>\n",
       "      <td>medicated ( feat . chevy woods &amp; juicy j )</td>\n",
       "      <td>keith urban</td>\n",
       "      <td>my heart is open</td>\n",
       "      <td>5:30</td>\n",
       "      <td>5:30</td>\n",
       "    </tr>\n",
       "    <tr>\n",
       "      <th>2</th>\n",
       "      <td>490</td>\n",
       "      <td>24820</td>\n",
       "      <td>0</td>\n",
       "      <td>ed sheeran &amp; yelawolf</td>\n",
       "      <td>outro</td>\n",
       "      <td>bassnectar</td>\n",
       "      <td>sommarfì ´ gel ( bassnectar remix )</td>\n",
       "      <td>2:16</td>\n",
       "      <td>2:16</td>\n",
       "    </tr>\n",
       "    <tr>\n",
       "      <th>3</th>\n",
       "      <td>5140</td>\n",
       "      <td>19403</td>\n",
       "      <td>0</td>\n",
       "      <td>birdman , lil wayne &amp; mackmaine</td>\n",
       "      <td>always strapped ( remix )</td>\n",
       "      <td>hit tunes karaoke</td>\n",
       "      <td>girl on fire ( inferno version )</td>\n",
       "      <td>4:30</td>\n",
       "      <td>4:30</td>\n",
       "    </tr>\n",
       "    <tr>\n",
       "      <th>4</th>\n",
       "      <td>3560</td>\n",
       "      <td>47670</td>\n",
       "      <td>0</td>\n",
       "      <td>flo rida</td>\n",
       "      <td>turn around ( 5,4,3,2,1 ) [ ak remix ]</td>\n",
       "      <td>elton john</td>\n",
       "      <td>bennie and the jets</td>\n",
       "      <td>5:09</td>\n",
       "      <td>5:09</td>\n",
       "    </tr>\n",
       "    <tr>\n",
       "      <th>5</th>\n",
       "      <td>4438</td>\n",
       "      <td>24024</td>\n",
       "      <td>0</td>\n",
       "      <td>one direction</td>\n",
       "      <td>na na na ( live )</td>\n",
       "      <td>the temptations</td>\n",
       "      <td>with these hands</td>\n",
       "      <td>3:39</td>\n",
       "      <td>3:39</td>\n",
       "    </tr>\n",
       "    <tr>\n",
       "      <th>6</th>\n",
       "      <td>34</td>\n",
       "      <td>55013</td>\n",
       "      <td>0</td>\n",
       "      <td>lana del rey</td>\n",
       "      <td>this is what makes us girls</td>\n",
       "      <td>ludacris</td>\n",
       "      <td>rollout ( my business ) ( album version ( edit...</td>\n",
       "      <td>4:00</td>\n",
       "      <td>4:00</td>\n",
       "    </tr>\n",
       "    <tr>\n",
       "      <th>7</th>\n",
       "      <td>5481</td>\n",
       "      <td>37548</td>\n",
       "      <td>0</td>\n",
       "      <td>eric church</td>\n",
       "      <td>talladega</td>\n",
       "      <td>dillon francis &amp; diplo</td>\n",
       "      <td>que que feat . maluca ( mahesa utara &amp; dipha b...</td>\n",
       "      <td>4:22</td>\n",
       "      <td>4:22</td>\n",
       "    </tr>\n",
       "    <tr>\n",
       "      <th>8</th>\n",
       "      <td>3860</td>\n",
       "      <td>20048</td>\n",
       "      <td>0</td>\n",
       "      <td>brett eldredge</td>\n",
       "      <td>one mississippi ( live from cmt `` listen up '' )</td>\n",
       "      <td>kenny rogers</td>\n",
       "      <td>the king of oak street</td>\n",
       "      <td>4:10</td>\n",
       "      <td>4:10</td>\n",
       "    </tr>\n",
       "    <tr>\n",
       "      <th>9</th>\n",
       "      <td>2611</td>\n",
       "      <td>26204</td>\n",
       "      <td>0</td>\n",
       "      <td>tori kelly</td>\n",
       "      <td>beautiful things ( bonus track )</td>\n",
       "      <td>gerd rube</td>\n",
       "      <td>i still love you</td>\n",
       "      <td>3:08</td>\n",
       "      <td>3:08</td>\n",
       "    </tr>\n",
       "  </tbody>\n",
       "</table>\n",
       "</div>"
      ],
      "text/plain": [
       "   ltable_id  rtable_id  label                         l_artist  \\\n",
       "0       1200      44065      0                     david guetta   \n",
       "1       3442      12858      0                      wiz khalifa   \n",
       "2        490      24820      0            ed sheeran & yelawolf   \n",
       "3       5140      19403      0  birdman , lil wayne & mackmaine   \n",
       "4       3560      47670      0                         flo rida   \n",
       "5       4438      24024      0                    one direction   \n",
       "6         34      55013      0                     lana del rey   \n",
       "7       5481      37548      0                      eric church   \n",
       "8       3860      20048      0                   brett eldredge   \n",
       "9       2611      26204      0                       tori kelly   \n",
       "\n",
       "                                              l_song                r_artist  \\\n",
       "0                       the whisperer ( feat . sia )            taylor swift   \n",
       "1         medicated ( feat . chevy woods & juicy j )             keith urban   \n",
       "2                                              outro              bassnectar   \n",
       "3                          always strapped ( remix )       hit tunes karaoke   \n",
       "4             turn around ( 5,4,3,2,1 ) [ ak remix ]              elton john   \n",
       "5                                  na na na ( live )         the temptations   \n",
       "6                        this is what makes us girls                ludacris   \n",
       "7                                          talladega  dillon francis & diplo   \n",
       "8  one mississippi ( live from cmt `` listen up '' )            kenny rogers   \n",
       "9                   beautiful things ( bonus track )               gerd rube   \n",
       "\n",
       "                                              r_song ltime rtime  \n",
       "0                                         tim mcgraw  3:54  3:54  \n",
       "1                                   my heart is open  5:30  5:30  \n",
       "2                sommarfì ´ gel ( bassnectar remix )  2:16  2:16  \n",
       "3                   girl on fire ( inferno version )  4:30  4:30  \n",
       "4                                bennie and the jets  5:09  5:09  \n",
       "5                                   with these hands  3:39  3:39  \n",
       "6  rollout ( my business ) ( album version ( edit...  4:00  4:00  \n",
       "7  que que feat . maluca ( mahesa utara & dipha b...  4:22  4:22  \n",
       "8                             the king of oak street  4:10  4:10  \n",
       "9                                   i still love you  3:08  3:08  "
      ]
     },
     "execution_count": 18,
     "metadata": {},
     "output_type": "execute_result"
    }
   ],
   "source": [
    "#stampa utile per debugging\n",
    "new_samples_df.head(10)"
   ]
  },
  {
   "cell_type": "code",
   "execution_count": 117,
   "metadata": {},
   "outputs": [],
   "source": [
    "new_train_df = pd.concat([train_df,new_samples_df])"
   ]
  },
  {
   "cell_type": "code",
   "execution_count": 118,
   "metadata": {},
   "outputs": [
    {
     "data": {
      "text/plain": [
       "(3735, 3)"
      ]
     },
     "execution_count": 118,
     "metadata": {},
     "output_type": "execute_result"
    }
   ],
   "source": [
    "new_train_df.shape"
   ]
  },
  {
   "cell_type": "code",
   "execution_count": 38,
   "metadata": {},
   "outputs": [],
   "source": [
    "new_samples_df = new_samples_df.drop(['l_artist','l_song','r_artist','r_song','ltime','rtime'],axis=1)"
   ]
  },
  {
   "cell_type": "code",
   "execution_count": 19,
   "metadata": {},
   "outputs": [],
   "source": [
    "new_samples_df.to_csv('itunes_amazon/new_train.csv',index=False)"
   ]
  },
  {
   "cell_type": "code",
   "execution_count": null,
   "metadata": {},
   "outputs": [],
   "source": []
  }
 ],
 "metadata": {
  "kernelspec": {
   "display_name": "Python 3",
   "language": "python",
   "name": "python3"
  },
  "language_info": {
   "codemirror_mode": {
    "name": "ipython",
    "version": 3
   },
   "file_extension": ".py",
   "mimetype": "text/x-python",
   "name": "python",
   "nbconvert_exporter": "python",
   "pygments_lexer": "ipython3",
   "version": "3.6.8"
  }
 },
 "nbformat": 4,
 "nbformat_minor": 2
}
